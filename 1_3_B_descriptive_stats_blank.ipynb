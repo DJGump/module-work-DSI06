{
 "cells": [
  {
   "cell_type": "code",
   "execution_count": null,
   "metadata": {},
   "outputs": [],
   "source": [
    "%reload_ext nb_black"
   ]
  },
  {
   "cell_type": "code",
   "execution_count": null,
   "metadata": {},
   "outputs": [],
   "source": [
    "import pandas as pd\n",
    "import seaborn as sns\n",
    "import matplotlib.pyplot as plt\n",
    "\n",
    "%matplotlib inline\n",
    "\n",
    "data_url = \"https://tf-assets-prod.s3.amazonaws.com/tf-curric/data-science/Data%20Sets%20Clustering/nba_player_seasons.csv\""
   ]
  },
  {
   "cell_type": "markdown",
   "metadata": {},
   "source": [
    "* Read the data located at `data_url` into a `pandas` dataframe"
   ]
  },
  {
   "cell_type": "code",
   "execution_count": null,
   "metadata": {
    "hideOutput": true
   },
   "outputs": [],
   "source": []
  },
  {
   "cell_type": "markdown",
   "metadata": {},
   "source": [
    "Get to know the data, what things should we explore?\n",
    "\n",
    "* List of things I must insist we explore (the rest is up to you)\n",
    "  * The number of rows/columns\n",
    "  * The datatypes of each column\n",
    "  "
   ]
  },
  {
   "cell_type": "code",
   "execution_count": null,
   "metadata": {},
   "outputs": [],
   "source": []
  },
  {
   "cell_type": "code",
   "execution_count": null,
   "metadata": {},
   "outputs": [],
   "source": []
  },
  {
   "cell_type": "markdown",
   "metadata": {},
   "source": [
    "## What is a 'typical' number of the points column (`'PTS'`)?\n",
    "\n",
    "Present your answer(s) with proof:\n",
    "* numerically\n",
    "  * generate at least 2 summary metrics that can be thought of as 'typical'\n",
    "* graphically\n",
    "  * what plot type might we use?\n",
    "  * add your numeric values to the plot"
   ]
  },
  {
   "cell_type": "code",
   "execution_count": null,
   "metadata": {},
   "outputs": [],
   "source": []
  },
  {
   "cell_type": "code",
   "execution_count": null,
   "metadata": {},
   "outputs": [],
   "source": []
  },
  {
   "cell_type": "markdown",
   "metadata": {},
   "source": [
    "A note about `sns.distplot` (and plots like it).  Just like a histogram or a bar plot, this '`distplot`' uses height to show which values are the most probable.  A histogram and barplot will often use counts to show how probable each value use (the taller, the more likely).\n",
    "\n",
    "A '`distplot`' is using a 'kernel density estimate' to show the probability density of each value rather than count.  The area under a probability distribution should sum to 1 by definition; so it can be surprising that in the below plot we see numbers greater than 1.\n",
    "\n",
    "Remember that area has more to it than height.  For example, in our plot we have rectangles who's area is modeled by `height * width`.  The width here is the missing piece for why we can have values greater than one.  You can think of this as a probability per unit rather than a raw probability. \n",
    "\n",
    "[Here](https://stats.stackexchange.com/a/4223/102646) is a great, more in depth explanation."
   ]
  },
  {
   "cell_type": "code",
   "execution_count": null,
   "metadata": {},
   "outputs": [],
   "source": [
    "sns.distplot(nba[\"ORB\"])\n",
    "plt.show()"
   ]
  },
  {
   "cell_type": "markdown",
   "metadata": {},
   "source": [
    "## What shot percentage stat has the most variation?\n",
    "\n",
    "Before we do that:\n",
    "* Create a dataframe that contains only the columns with `'%'` in the column name. Name this data frame `percents`"
   ]
  },
  {
   "cell_type": "code",
   "execution_count": null,
   "metadata": {},
   "outputs": [],
   "source": []
  },
  {
   "cell_type": "markdown",
   "metadata": {},
   "source": [
    "* In this data we have missing values, the code below shows a count of missing values per column.  Can you explain why we'd have missing values here?"
   ]
  },
  {
   "cell_type": "code",
   "execution_count": null,
   "metadata": {},
   "outputs": [],
   "source": [
    "percents.isna().sum()"
   ]
  },
  {
   "cell_type": "markdown",
   "metadata": {},
   "source": [
    "* Drop NAs from this `percents` dataframe"
   ]
  },
  {
   "cell_type": "code",
   "execution_count": null,
   "metadata": {},
   "outputs": [],
   "source": [
    "percents = percents.dropna()"
   ]
  },
  {
   "cell_type": "markdown",
   "metadata": {},
   "source": [
    "Back to the original question: What shot percentage stat has the most variation?\n",
    "\n",
    "* What metric(s) can we use for this?\n",
    "* What plot type(s) can we use to show this?"
   ]
  },
  {
   "cell_type": "code",
   "execution_count": null,
   "metadata": {},
   "outputs": [],
   "source": []
  },
  {
   "cell_type": "markdown",
   "metadata": {},
   "source": [
    "## Using `.describe()` with `pandas`\n",
    "\n",
    "* `.describe()` might have already come up depending on how we answered the above questions\n",
    "* Let's explore `.describe()`'s options using `?` and `help()`"
   ]
  },
  {
   "cell_type": "code",
   "execution_count": null,
   "metadata": {
    "hideOutput": true
   },
   "outputs": [],
   "source": []
  },
  {
   "cell_type": "markdown",
   "metadata": {},
   "source": [
    "## Descriptive statistics with `groupby`\n",
    "\n",
    "Sometimes we want descriptive statistics grouped by a categorical column in our data.  For example, instead of the average of the `'PTS'` column for our full dataset, maybe we want to see the average of the `'PTS'` column for each player.\n",
    "\n",
    "* Calculate the average `'PTS'` grouped by `'Player'`"
   ]
  },
  {
   "cell_type": "code",
   "execution_count": null,
   "metadata": {},
   "outputs": [],
   "source": []
  },
  {
   "cell_type": "markdown",
   "metadata": {},
   "source": [
    "* Calculate the average, standard deviation, and count of `'PTS'` for each `'Tm'` (team)\n",
    "* Sort this output in descending order by average points"
   ]
  },
  {
   "cell_type": "code",
   "execution_count": null,
   "metadata": {},
   "outputs": [],
   "source": []
  },
  {
   "cell_type": "markdown",
   "metadata": {},
   "source": [
    "## Correlations\n",
    "\n",
    "If we want to explore relationships between 2 numeric columns we might use a correlation.  The correlation between 2 numeric columns ranges between `[-1, 1]`.\n",
    "\n",
    "* A correlation of -1 is a strong negative correlation\n",
    "  * For example, `amount of money spent` and `amount of money saved` would be negatively correlated.  As the `amount of money spent` goes up the `amount of money saved` would go down and vice versa.\n",
    "* A correlation of 0 is a weak correlation\n",
    "  * For example, the `number of words in the harry potter books` and the `number of arrests in costa rica` are likely not very related.\n",
    "* A correlation of 1 is a strong positive correlation\n",
    "  * For example, `amount of ice cream sold` and `temperature` are likely positively correlated.  As the `temperature` goes up the `amount of ice cream sold` likely goes up as well.\n",
    "  \n",
    "Note the classic phrase: \"correlation does not equal causation\".  Just because 2 things are related doesn't mean one thing causes the other ([this site](https://www.tylervigen.com/spurious-correlations) has examples of correlations that are 'spurious' that is, the 2 variables appear related, but they likely aren't).\n",
    "\n",
    "To run a correlation on a `pandas` dataframe we can use `.corr()`.\n",
    "\n",
    "* Apply `.corr()` to our dataframe\n",
    "* What numeric variables are related? is this a positive or negative relationship?"
   ]
  },
  {
   "cell_type": "code",
   "execution_count": null,
   "metadata": {},
   "outputs": [],
   "source": []
  },
  {
   "cell_type": "markdown",
   "metadata": {},
   "source": [
    "## Creating your own statistics\n",
    "\n",
    "Sometimes you might create some metric to summarize a record.  For example, we all have a credit score that is a combination of a lot of separate metrics.  Some of these style of metrics might be referred to as a index (i.e. a financial index), note that this is different than a `pandas` index.\n",
    "\n",
    "How might we create a player rating metric for our data?"
   ]
  },
  {
   "cell_type": "code",
   "execution_count": null,
   "metadata": {},
   "outputs": [],
   "source": []
  }
 ],
 "metadata": {
  "kernelspec": {
   "display_name": "Python 3",
   "language": "python",
   "name": "python3"
  },
  "language_info": {
   "codemirror_mode": {
    "name": "ipython",
    "version": 3
   },
   "file_extension": ".py",
   "mimetype": "text/x-python",
   "name": "python",
   "nbconvert_exporter": "python",
   "pygments_lexer": "ipython3",
   "version": "3.7.7"
  }
 },
 "nbformat": 4,
 "nbformat_minor": 2
}
