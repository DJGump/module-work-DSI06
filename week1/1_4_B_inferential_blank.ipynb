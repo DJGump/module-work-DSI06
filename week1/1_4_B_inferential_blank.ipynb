{
 "cells": [
  {
   "cell_type": "code",
   "execution_count": null,
   "metadata": {},
   "outputs": [],
   "source": [
    "%reload_ext nb_black"
   ]
  },
  {
   "cell_type": "code",
   "execution_count": null,
   "metadata": {},
   "outputs": [],
   "source": [
    "import pandas as pd\n",
    "import numpy as np\n",
    "import seaborn as sns\n",
    "import matplotlib.pyplot as plt\n",
    "\n",
    "%matplotlib inline\n",
    "\n",
    "data_url = \"https://docs.google.com/spreadsheets/d/1-UsRiETIQzkT5LWICVx3t-w9_-EgW5giL3K6lVkimYQ/export?format=csv\""
   ]
  },
  {
   "cell_type": "markdown",
   "metadata": {},
   "source": [
    "* Read in the data at `data_url`\n",
    "* What things should we do to get to know the data?\n",
    "* Be curious, are there any particular things you'd want to investigate in this data?"
   ]
  },
  {
   "cell_type": "code",
   "execution_count": null,
   "metadata": {},
   "outputs": [],
   "source": []
  },
  {
   "cell_type": "markdown",
   "metadata": {},
   "source": [
    "* Create a histogram of the `'Fare'` column"
   ]
  },
  {
   "cell_type": "code",
   "execution_count": null,
   "metadata": {},
   "outputs": [],
   "source": []
  },
  {
   "cell_type": "markdown",
   "metadata": {},
   "source": [
    "* Take a random sample of `50` rows from the dataframe\n",
    "* What is the mean of the `'Fare'` column in this sample?\n",
    "\n",
    "Following the google template:\n",
    "\n",
    "```\n",
    "template: python <package> <data type> <thing you want to do>\n",
    "```\n",
    "\n",
    "```\n",
    "potential google for us: python pandas dataframe random sample\n",
    "```"
   ]
  },
  {
   "cell_type": "code",
   "execution_count": null,
   "metadata": {},
   "outputs": [],
   "source": [
    "sample_size = 50\n",
    "\n"
   ]
  },
  {
   "cell_type": "markdown",
   "metadata": {},
   "source": [
    "We're going to use a technique known as *bootstrapping* where we will sample *with replacement* and calculate the mean.  By doing this we can get a better feel of what the mean of the *population* is and see some uncertainity in this population mean.  It might feel kind of hacky, but it is a robust technique in practice.\n",
    "\n",
    "* Write a for loop that loops `100` times\n",
    "* In each iteration of the loop:\n",
    "    * generate a random sample of size `10`\n",
    "    * take the mean of the `'Fare'` column in this random sample\n",
    "    * store this sample mean in a list"
   ]
  },
  {
   "cell_type": "code",
   "execution_count": null,
   "metadata": {},
   "outputs": [],
   "source": [
    "sample_size = 10\n",
    "n_samples = 100\n",
    "\n"
   ]
  },
  {
   "cell_type": "markdown",
   "metadata": {},
   "source": [
    "* Plot a histogram of the sample means from your bootstrapping\n",
    "\n",
    "This distribution that we're plotting is known as a *sampling distribution*."
   ]
  },
  {
   "cell_type": "code",
   "execution_count": null,
   "metadata": {},
   "outputs": [],
   "source": []
  },
  {
   "cell_type": "markdown",
   "metadata": {},
   "source": [
    "Repeat the process a couple times, increasing the sample size each time.  What do you see?\n",
    "\n",
    "----\n"
   ]
  },
  {
   "cell_type": "markdown",
   "metadata": {},
   "source": [
    "## Central Limit Theorem\n",
    "\n",
    "Alright some easy to confuse language coming up.\n",
    "\n",
    "* sample distribution: This will refer to our actual data.  For example, the raw fare data we plotted is the distribution of our sample data.\n",
    "* sampling distribution: This will refer to the distribution of a statistic.  For example, the sample means that we plotted after bootstrapping.\n",
    "\n",
    "When the sample size is large enough, the *sampling* distribution of the means will be approximately normal. This occurs regardless of the shape of the underlying distribution.\n",
    "\n",
    "The key point is *large enough*; if you start with normal data, it doesn't take a big sample size to see normality in the sampling distribution.  If you have non-normal data, it takes a larger sampe size to overwhelm this non-normality.  What is large enough?  Unfortunately, no perfect answer, we'll discuss this more when applying the CLT to t-tests.\n",
    "\n",
    "Sampling distributions look normal... so what? This will be the basis for statistical inference (i.e. drawing conclusions about a population when we only have a sample of the data).\n",
    "\n",
    "We will run some statistical tests in the future that have an assumption of normality.  That is, these tests fail to be a good test if our data isn't following a normal distribution.  This normality assumption is referring to the sampling distribution.  Even very non-normal data can have a normal sampling distribution if our sample size is large enough.\n",
    "\n",
    "Note we will still run normality checks on the sample data itself.  For small sample sizes, we will need to see normality in our data in order to see normality in the sampling distribution."
   ]
  },
  {
   "cell_type": "markdown",
   "metadata": {},
   "source": [
    "## Bayes"
   ]
  },
  {
   "cell_type": "markdown",
   "metadata": {},
   "source": [
    "* What is the observed survival rate of the passengers on the titanic?\n",
    "* What if the events of the titanic were to repeat itself? Would we be confident in saying that this is the correct survival rate or would we want some wiggle room around our estimate?"
   ]
  },
  {
   "cell_type": "code",
   "execution_count": null,
   "metadata": {},
   "outputs": [],
   "source": []
  },
  {
   "cell_type": "markdown",
   "metadata": {},
   "source": [
    "Up until now, we've been letting the data tell us everything.  Sometimes, we have some strong knowledge coming into an analysis, that is, we have a prior belief.\n",
    "\n",
    "Whenever we end up with data, there is some luck involved in what the data is showing.  If we surveyed people, there's a chance we got a group of people with some bias.  To protect against this, we might want to have overwhelming evidence to overcome our prior belief before changing our mind.\n",
    "\n",
    "For example, maybe we are working with a marketing department and we want to run some experiments with a focus group to see how successful a new campaign will be.  The marketing department has data on how well their campaigns have worked in the past, we might not want to ignore this information but incorporate it in into our analysis.  If they say they're best ever conversion rate is 30%, we might want this info built into the analysis.\n",
    "\n",
    "----\n",
    "\n",
    "We're going to get grisly and estimate the true survival rate of titanic passengers.\n",
    "\n",
    "We'll look at this as if we have no information (aka all rates are equally likely).  Then we'll see how this prior belief can impact our results. \n",
    "\n",
    "A common distribution for Bayesian statistics is the beta distribution.\n",
    "\n",
    "* Use `np.random.beta()` to generate `10000` data points; set both the alpha and beta parameters to `1`\n",
    "* Create a histogram of this generated data"
   ]
  },
  {
   "cell_type": "code",
   "execution_count": null,
   "metadata": {},
   "outputs": [],
   "source": []
  },
  {
   "cell_type": "markdown",
   "metadata": {},
   "source": [
    "^that my be our prior belief about survival rate if we know nothing about cruise ship crashes.  All rates from [0, 1] are equally likely.  Let's use this as our prior belief to estimate a 'true' survival rate.\n",
    "\n",
    "* Define a variable that holds the number of people who survived\n",
    "* Define a variable that holds the total number of passengers\n",
    "* Define a variable that holds the observed survival rate"
   ]
  },
  {
   "cell_type": "code",
   "execution_count": null,
   "metadata": {},
   "outputs": [],
   "source": []
  },
  {
   "cell_type": "markdown",
   "metadata": {},
   "source": [
    "The outline of our process that we'll repeat many times:\n",
    "\n",
    "* Generate a random rate from the prior distribution\n",
    "* Use this rate to generate a valid number of survivors\n",
    "    * The binomial distribution is a good fit for this.  It gives us a random number of 'successes' for a number of trials.  For example, we could use it to tell us how many heads we might get if we flipped a coin 10 times (in python this coin flip example could look like `np.random.binomial(10, 0.5)`)\n",
    "* Check if this generated number of survivors matches what we observed, if it does, it's a valid possibility of the 'true' survival rate.  Store these matches and they will our distribution of possible survival rates, this allows us to express our uncertaintity."
   ]
  },
  {
   "cell_type": "markdown",
   "metadata": {},
   "source": [
    "* Write the process outlined above using an 'uninformed prior' (i.e. use a beta distribution with 1 for both params)"
   ]
  },
  {
   "cell_type": "code",
   "execution_count": null,
   "metadata": {},
   "outputs": [],
   "source": []
  },
  {
   "cell_type": "markdown",
   "metadata": {},
   "source": [
    "Plot the distribution of the resulting valid rates."
   ]
  },
  {
   "cell_type": "code",
   "execution_count": null,
   "metadata": {},
   "outputs": [],
   "source": []
  },
  {
   "cell_type": "markdown",
   "metadata": {},
   "source": [
    "* Copy/paste your process in the below cell (or convert the process to a function if you're feeling fancy)\n",
    "* Create a beta distribution with a pessimistic or optimistic prior belief about the survival rate\n",
    "* Use this new prior in the process rather than an uninformed one and plot the results\n",
    "\n",
    "*Note, if you're prior is fairly optimistic, it will take more iterations to generate a large distribution.*"
   ]
  },
  {
   "cell_type": "code",
   "execution_count": null,
   "metadata": {},
   "outputs": [],
   "source": []
  }
 ],
 "metadata": {
  "kernelspec": {
   "display_name": "Python 3",
   "language": "python",
   "name": "python3"
  },
  "language_info": {
   "codemirror_mode": {
    "name": "ipython",
    "version": 3
   },
   "file_extension": ".py",
   "mimetype": "text/x-python",
   "name": "python",
   "nbconvert_exporter": "python",
   "pygments_lexer": "ipython3",
   "version": "3.7.7"
  }
 },
 "nbformat": 4,
 "nbformat_minor": 2
}
