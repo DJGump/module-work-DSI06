{
  "nbformat": 4,
  "nbformat_minor": 0,
  "metadata": {
    "colab": {
      "name": "Gradient Descent Assignment dgump dsi06.ipynb",
      "provenance": []
    },
    "kernelspec": {
      "name": "python3",
      "display_name": "Python 3"
    }
  },
  "cells": [
    {
      "cell_type": "code",
      "metadata": {
        "id": "A65gCavWz9k3"
      },
      "source": [
        "import numpy as np\n",
        "import pandas as pd\n",
        "import matplotlib.pyplot as plt\n",
        "\n",
        "\n",
        "from sklearn.model_selection import train_test_split as tts \n",
        "from sklearn.preprocessing import MinMaxScaler\n",
        "\n",
        "from tensorflow.keras import Sequential, losses\n",
        "from tensorflow.keras.layers import Dense, Activation\n",
        "\n",
        "from tensorflow.keras.datasets import mnist\n",
        "from tensorflow.keras.utils import to_categorical"
      ],
      "execution_count": 2,
      "outputs": []
    },
    {
      "cell_type": "code",
      "metadata": {
        "id": "XEZGk6cH6GiA",
        "outputId": "917d544a-a84f-451b-b961-b4f45aeeeb62",
        "colab": {
          "base_uri": "https://localhost:8080/"
        }
      },
      "source": [
        "(X_train, y_train), (X_test, y_test) = mnist.load_data()\n",
        "\n",
        "input_dim = 784  # 28*28\n",
        "output_dim = nb_classes = 10\n",
        "batch_size = 128\n",
        "nb_epoch = 20\n",
        "\n",
        "X_train = X_train.reshape(60000, input_dim)\n",
        "X_test = X_test.reshape(10000, input_dim)\n",
        "X_train = X_train.astype('float32')\n",
        "X_test = X_test.astype('float32')\n",
        "X_train /= 255\n",
        "X_test /= 255"
      ],
      "execution_count": 5,
      "outputs": [
        {
          "output_type": "stream",
          "text": [
            "Downloading data from https://storage.googleapis.com/tensorflow/tf-keras-datasets/mnist.npz\n",
            "11493376/11490434 [==============================] - 0s 0us/step\n"
          ],
          "name": "stdout"
        }
      ]
    },
    {
      "cell_type": "code",
      "metadata": {
        "id": "syRJN_nK6LV6"
      },
      "source": [
        "y_train = to_categorical(y_train, nb_classes)\n",
        "y_test = to_categorical(y_test, nb_classes)"
      ],
      "execution_count": 6,
      "outputs": []
    },
    {
      "cell_type": "markdown",
      "metadata": {
        "id": "yYmOlRv52QZi"
      },
      "source": [
        "### In this assignment, you'll continue working on the MNIST dataset. So, train and test the models specified in the tasks below using the MNIST data. You can choose the number of epochs for training. But for the sake of comparison, it's a good idea to train for 20 epochs."
      ]
    },
    {
      "cell_type": "markdown",
      "metadata": {
        "id": "_iyN6w-s2SuX"
      },
      "source": [
        "##### 1. In this task, you'll implement several ANN models with different batch sizes. Specifically, do the following:\n",
        "\n",
        "  1. Implement a three-layer ANN model with 128, 64, and 10 neurons in the layers. Use 8 as the mini-batch size.\n",
        "  2. Implement a three-layer ANN model with 128, 64, and 10 neurons in the layers. Use 128 as the mini-batch size.\n",
        "  3. Implement a three-layer ANN model with 128, 64, and 10 neurons in the layers. Use the full sample as the batch size.\n",
        "  4. Compare the results of each model. Which batch size performed best?"
      ]
    },
    {
      "cell_type": "code",
      "metadata": {
        "id": "nFhd7WCX1-QG"
      },
      "source": [
        "from tensorflow.keras.optimizers import SGD\n",
        "def build_model(learning_rate=0.01):\n",
        "  sgd = SGD(learning_rate=learning_rate)\n",
        "\n",
        "  model = Sequential()\n",
        "  model.add(Dense(128,input_dim=X_train.shape[1], activation='relu'))\n",
        "  model.add(Dense(64, activation='relu'))\n",
        "  model.add(Dense(10, activation='softmax'))\n",
        "\n",
        "  model.compile(loss='categorical_crossentropy', optimizer=sgd, metrics=['accuracy'])\n",
        "\n",
        "  return model"
      ],
      "execution_count": 11,
      "outputs": []
    },
    {
      "cell_type": "markdown",
      "metadata": {
        "id": "nS9g9Juj7eIE"
      },
      "source": [
        "1. Implement a three-layer ANN model with 128, 64, and 10 neurons in the layers. Use 8 as the mini-batch size."
      ]
    },
    {
      "cell_type": "code",
      "metadata": {
        "id": "71y0hlKT5p3s",
        "outputId": "cc574c20-f12e-4348-c5aa-602613c921c2",
        "colab": {
          "base_uri": "https://localhost:8080/"
        }
      },
      "source": [
        "model1 = build_model()\n",
        "\n",
        "model1.fit(X_train, y_train, batch_size=8, epochs=20, verbose=2)"
      ],
      "execution_count": 23,
      "outputs": [
        {
          "output_type": "stream",
          "text": [
            "Epoch 1/20\n",
            "7500/7500 - 13s - loss: 0.3617 - accuracy: 0.8976\n",
            "Epoch 2/20\n",
            "7500/7500 - 14s - loss: 0.1679 - accuracy: 0.9515\n",
            "Epoch 3/20\n",
            "7500/7500 - 14s - loss: 0.1214 - accuracy: 0.9646\n",
            "Epoch 4/20\n",
            "7500/7500 - 14s - loss: 0.0957 - accuracy: 0.9723\n",
            "Epoch 5/20\n",
            "7500/7500 - 15s - loss: 0.0787 - accuracy: 0.9766\n",
            "Epoch 6/20\n",
            "7500/7500 - 16s - loss: 0.0664 - accuracy: 0.9802\n",
            "Epoch 7/20\n",
            "7500/7500 - 8s - loss: 0.0568 - accuracy: 0.9834\n",
            "Epoch 8/20\n",
            "7500/7500 - 10s - loss: 0.0478 - accuracy: 0.9858\n",
            "Epoch 9/20\n",
            "7500/7500 - 11s - loss: 0.0407 - accuracy: 0.9878\n",
            "Epoch 10/20\n",
            "7500/7500 - 8s - loss: 0.0353 - accuracy: 0.9897\n",
            "Epoch 11/20\n",
            "7500/7500 - 9s - loss: 0.0303 - accuracy: 0.9917\n",
            "Epoch 12/20\n",
            "7500/7500 - 8s - loss: 0.0254 - accuracy: 0.9931\n",
            "Epoch 13/20\n",
            "7500/7500 - 8s - loss: 0.0220 - accuracy: 0.9942\n",
            "Epoch 14/20\n",
            "7500/7500 - 8s - loss: 0.0193 - accuracy: 0.9952\n",
            "Epoch 15/20\n",
            "7500/7500 - 11s - loss: 0.0167 - accuracy: 0.9959\n",
            "Epoch 16/20\n",
            "7500/7500 - 14s - loss: 0.0140 - accuracy: 0.9968\n",
            "Epoch 17/20\n",
            "7500/7500 - 14s - loss: 0.0123 - accuracy: 0.9974\n",
            "Epoch 18/20\n",
            "7500/7500 - 15s - loss: 0.0100 - accuracy: 0.9980\n",
            "Epoch 19/20\n",
            "7500/7500 - 13s - loss: 0.0089 - accuracy: 0.9985\n",
            "Epoch 20/20\n",
            "7500/7500 - 9s - loss: 0.0073 - accuracy: 0.9991\n"
          ],
          "name": "stdout"
        },
        {
          "output_type": "execute_result",
          "data": {
            "text/plain": [
              "<tensorflow.python.keras.callbacks.History at 0x7fd6cbdf7780>"
            ]
          },
          "metadata": {
            "tags": []
          },
          "execution_count": 23
        }
      ]
    },
    {
      "cell_type": "code",
      "metadata": {
        "id": "7vmh9PVG84op",
        "outputId": "9066033e-02c3-4d60-b66c-0fd4a1af7540",
        "colab": {
          "base_uri": "https://localhost:8080/"
        }
      },
      "source": [
        "model1_score = model1.evaluate(X_test, y_test, verbose=2)\n",
        "\n",
        "print('Test score: ', model1_score[0])\n",
        "print('Test accuracy: ', model1_score[1])"
      ],
      "execution_count": 14,
      "outputs": [
        {
          "output_type": "stream",
          "text": [
            "313/313 - 0s - loss: 0.0780 - accuracy: 0.9796\n",
            "Test score:  0.07800186425447464\n",
            "Test accuracy:  0.9796000123023987\n"
          ],
          "name": "stdout"
        }
      ]
    },
    {
      "cell_type": "markdown",
      "metadata": {
        "id": "41a1bJb-8x2l"
      },
      "source": [
        "2. Implement a three-layer ANN model with 128, 64, and 10 neurons in the layers. Use 128 as the mini-batch size."
      ]
    },
    {
      "cell_type": "code",
      "metadata": {
        "id": "2DA1Cm9K8Wrp",
        "outputId": "1eebce09-8fb1-4788-ce98-a25bd5969379",
        "colab": {
          "base_uri": "https://localhost:8080/"
        }
      },
      "source": [
        "model2 = build_model()\n",
        "\n",
        "model2.fit(X_train, y_train, batch_size=128, epochs=20, verbose=2)"
      ],
      "execution_count": 15,
      "outputs": [
        {
          "output_type": "stream",
          "text": [
            "Epoch 1/20\n",
            "469/469 - 1s - loss: 1.1907 - accuracy: 0.6976\n",
            "Epoch 2/20\n",
            "469/469 - 1s - loss: 0.4851 - accuracy: 0.8738\n",
            "Epoch 3/20\n",
            "469/469 - 1s - loss: 0.3801 - accuracy: 0.8949\n",
            "Epoch 4/20\n",
            "469/469 - 1s - loss: 0.3359 - accuracy: 0.9060\n",
            "Epoch 5/20\n",
            "469/469 - 1s - loss: 0.3090 - accuracy: 0.9125\n",
            "Epoch 6/20\n",
            "469/469 - 1s - loss: 0.2891 - accuracy: 0.9183\n",
            "Epoch 7/20\n",
            "469/469 - 1s - loss: 0.2731 - accuracy: 0.9223\n",
            "Epoch 8/20\n",
            "469/469 - 1s - loss: 0.2593 - accuracy: 0.9262\n",
            "Epoch 9/20\n",
            "469/469 - 1s - loss: 0.2471 - accuracy: 0.9298\n",
            "Epoch 10/20\n",
            "469/469 - 1s - loss: 0.2361 - accuracy: 0.9337\n",
            "Epoch 11/20\n",
            "469/469 - 1s - loss: 0.2264 - accuracy: 0.9364\n",
            "Epoch 12/20\n",
            "469/469 - 1s - loss: 0.2173 - accuracy: 0.9389\n",
            "Epoch 13/20\n",
            "469/469 - 1s - loss: 0.2090 - accuracy: 0.9411\n",
            "Epoch 14/20\n",
            "469/469 - 1s - loss: 0.2014 - accuracy: 0.9430\n",
            "Epoch 15/20\n",
            "469/469 - 1s - loss: 0.1941 - accuracy: 0.9453\n",
            "Epoch 16/20\n",
            "469/469 - 1s - loss: 0.1875 - accuracy: 0.9467\n",
            "Epoch 17/20\n",
            "469/469 - 1s - loss: 0.1817 - accuracy: 0.9480\n",
            "Epoch 18/20\n",
            "469/469 - 1s - loss: 0.1757 - accuracy: 0.9501\n",
            "Epoch 19/20\n",
            "469/469 - 1s - loss: 0.1704 - accuracy: 0.9517\n",
            "Epoch 20/20\n",
            "469/469 - 1s - loss: 0.1653 - accuracy: 0.9533\n"
          ],
          "name": "stdout"
        },
        {
          "output_type": "execute_result",
          "data": {
            "text/plain": [
              "<tensorflow.python.keras.callbacks.History at 0x7fd6cc73fa90>"
            ]
          },
          "metadata": {
            "tags": []
          },
          "execution_count": 15
        }
      ]
    },
    {
      "cell_type": "code",
      "metadata": {
        "id": "gZigzqx79OgN",
        "outputId": "c2b461ee-4132-4228-ca7d-f3072bc6ebde",
        "colab": {
          "base_uri": "https://localhost:8080/"
        }
      },
      "source": [
        "model2_score = model2.evaluate(X_test, y_test, verbose=2)\n",
        "\n",
        "print('Test score: ', model2_score[0])\n",
        "print('Test accuracy: ', model2_score[1])"
      ],
      "execution_count": 20,
      "outputs": [
        {
          "output_type": "stream",
          "text": [
            "313/313 - 0s - loss: 0.1666 - accuracy: 0.9521\n",
            "Test score:  0.16663344204425812\n",
            "Test accuracy:  0.9520999789237976\n"
          ],
          "name": "stdout"
        }
      ]
    },
    {
      "cell_type": "markdown",
      "metadata": {
        "id": "swsZg3FU9XnG"
      },
      "source": [
        "3. Implement a three-layer ANN model with 128, 64, and 10 neurons in the layers. Use the full sample as the batch size."
      ]
    },
    {
      "cell_type": "code",
      "metadata": {
        "id": "dB2ouTD0_8rv",
        "outputId": "c4daea04-ca81-467f-ff66-8a6d5ad41a60",
        "colab": {
          "base_uri": "https://localhost:8080/"
        }
      },
      "source": [
        "X_train.shape"
      ],
      "execution_count": 22,
      "outputs": [
        {
          "output_type": "execute_result",
          "data": {
            "text/plain": [
              "(60000, 784)"
            ]
          },
          "metadata": {
            "tags": []
          },
          "execution_count": 22
        }
      ]
    },
    {
      "cell_type": "code",
      "metadata": {
        "id": "iGneRT_39VP9",
        "outputId": "1c331901-180a-4674-9afa-ab72147ec2e7",
        "colab": {
          "base_uri": "https://localhost:8080/"
        }
      },
      "source": [
        "model3 = build_model()\n",
        "\n",
        "model3.fit(X_train, y_train, batch_size=X_train.shape[0], epochs=20, verbose=2)"
      ],
      "execution_count": 17,
      "outputs": [
        {
          "output_type": "stream",
          "text": [
            "Epoch 1/20\n",
            "1/1 - 0s - loss: 2.3588 - accuracy: 0.0828\n",
            "Epoch 2/20\n",
            "1/1 - 0s - loss: 2.3512 - accuracy: 0.0882\n",
            "Epoch 3/20\n",
            "1/1 - 0s - loss: 2.3439 - accuracy: 0.0939\n",
            "Epoch 4/20\n",
            "1/1 - 0s - loss: 2.3367 - accuracy: 0.1002\n",
            "Epoch 5/20\n",
            "1/1 - 0s - loss: 2.3296 - accuracy: 0.1058\n",
            "Epoch 6/20\n",
            "1/1 - 0s - loss: 2.3227 - accuracy: 0.1118\n",
            "Epoch 7/20\n",
            "1/1 - 0s - loss: 2.3160 - accuracy: 0.1184\n",
            "Epoch 8/20\n",
            "1/1 - 0s - loss: 2.3093 - accuracy: 0.1254\n",
            "Epoch 9/20\n",
            "1/1 - 0s - loss: 2.3028 - accuracy: 0.1321\n",
            "Epoch 10/20\n",
            "1/1 - 0s - loss: 2.2964 - accuracy: 0.1386\n",
            "Epoch 11/20\n",
            "1/1 - 0s - loss: 2.2901 - accuracy: 0.1451\n",
            "Epoch 12/20\n",
            "1/1 - 0s - loss: 2.2838 - accuracy: 0.1516\n",
            "Epoch 13/20\n",
            "1/1 - 0s - loss: 2.2777 - accuracy: 0.1579\n",
            "Epoch 14/20\n",
            "1/1 - 0s - loss: 2.2716 - accuracy: 0.1640\n",
            "Epoch 15/20\n",
            "1/1 - 0s - loss: 2.2656 - accuracy: 0.1702\n",
            "Epoch 16/20\n",
            "1/1 - 0s - loss: 2.2597 - accuracy: 0.1760\n",
            "Epoch 17/20\n",
            "1/1 - 0s - loss: 2.2538 - accuracy: 0.1824\n",
            "Epoch 18/20\n",
            "1/1 - 0s - loss: 2.2481 - accuracy: 0.1882\n",
            "Epoch 19/20\n",
            "1/1 - 0s - loss: 2.2423 - accuracy: 0.1946\n",
            "Epoch 20/20\n",
            "1/1 - 0s - loss: 2.2366 - accuracy: 0.2010\n"
          ],
          "name": "stdout"
        },
        {
          "output_type": "execute_result",
          "data": {
            "text/plain": [
              "<tensorflow.python.keras.callbacks.History at 0x7fd6cbeadd68>"
            ]
          },
          "metadata": {
            "tags": []
          },
          "execution_count": 17
        }
      ]
    },
    {
      "cell_type": "code",
      "metadata": {
        "id": "mOcZDAxr9zXO",
        "outputId": "a5f115a9-2034-49f7-bae8-636a5b3e83bf",
        "colab": {
          "base_uri": "https://localhost:8080/"
        }
      },
      "source": [
        "model3_score = model3.evaluate(X_test, y_test, verbose=2)\n",
        "\n",
        "print('Test score: ', model3_score[0])\n",
        "print('Test accuracy: ', model3_score[1])"
      ],
      "execution_count": 19,
      "outputs": [
        {
          "output_type": "stream",
          "text": [
            "313/313 - 0s - loss: 2.2200 - accuracy: 0.2164\n",
            "Test score:  2.219999074935913\n",
            "Test accuracy:  0.21639999747276306\n"
          ],
          "name": "stdout"
        }
      ]
    },
    {
      "cell_type": "markdown",
      "metadata": {
        "id": "3j2vm_9T-HWP"
      },
      "source": [
        "4. Compare the results of each model. Which batch size performed best?\n",
        "\n",
        " A. Smaller batch sizes gave us better model performance, but took much longer. This is because a smaller batch takes more iterations to complete a single epoch. The total number of iterations determines how many times SGD updates weights."
      ]
    },
    {
      "cell_type": "markdown",
      "metadata": {
        "id": "YzVDItaICjPI"
      },
      "source": [
        "##### In this task, you'll implement several ANN models with different learning rates for the stochastic gradient descent. In all of the models below, use 128 as your mini-batch size.\n",
        "\n",
        "  1. Implement a three-layer ANN model with 128, 64, and 10 neurons in the layers. Use 0.01 as the learning rate.\n",
        "  2. Implement a three-layer ANN model with 128, 64, and 10 neurons in the layers. Use 100 as the learning rate.\n",
        "  3. Implement a three-layer ANN model with 128, 64, and 10 neurons in the layers. Use 0.0000001 as the learning rate.\n",
        "  4. Compare the results of each model. Which learning rate performed best?"
      ]
    },
    {
      "cell_type": "markdown",
      "metadata": {
        "id": "cOMTL1e_CtY6"
      },
      "source": [
        "1. Implement a three-layer ANN model with 128, 64, and 10 neurons in the layers. Use 0.01 as the learning rate."
      ]
    },
    {
      "cell_type": "code",
      "metadata": {
        "id": "ZPK_ziDI94JC"
      },
      "source": [
        "model1 = build_model(learning_rate=0.01)\n",
        "\n",
        "model1.fit(X_train, y_train, batch_size=128, epochs=20, verbose=2)"
      ],
      "execution_count": null,
      "outputs": []
    },
    {
      "cell_type": "code",
      "metadata": {
        "id": "poAqOQrIDJph",
        "outputId": "dc2bef68-bb9c-4994-b11e-1a32ee6a0d0d",
        "colab": {
          "base_uri": "https://localhost:8080/"
        }
      },
      "source": [
        "model1_score = model1.evaluate(X_test, y_test, verbose=2)\n",
        "\n",
        "print('Test score: ', model1_score[0])\n",
        "print('Test accuracy: ', model1_score[1])"
      ],
      "execution_count": 25,
      "outputs": [
        {
          "output_type": "stream",
          "text": [
            "313/313 - 0s - loss: 0.1703 - accuracy: 0.9488\n",
            "Test score:  0.17029985785484314\n",
            "Test accuracy:  0.9488000273704529\n"
          ],
          "name": "stdout"
        }
      ]
    },
    {
      "cell_type": "markdown",
      "metadata": {
        "id": "_L83NGLnDcU7"
      },
      "source": [
        "2. Implement a three-layer ANN model with 128, 64, and 10 neurons in the layers. Use 100 as the learning rate."
      ]
    },
    {
      "cell_type": "code",
      "metadata": {
        "id": "9No0xfq7DV85"
      },
      "source": [
        "model2 = build_model(learning_rate=100)\n",
        "\n",
        "model2.fit(X_train, y_train, batch_size=128, epochs=20, verbose=2)"
      ],
      "execution_count": null,
      "outputs": []
    },
    {
      "cell_type": "code",
      "metadata": {
        "id": "IWGqCMOYDkAp",
        "outputId": "2ba13b92-01fc-431a-be2f-a6756a49e950",
        "colab": {
          "base_uri": "https://localhost:8080/"
        }
      },
      "source": [
        "model2_score = model2.evaluate(X_test, y_test, verbose=2)\n",
        "\n",
        "print('Test score: ', model2_score[0])\n",
        "print('Test accuracy: ', model2_score[1])"
      ],
      "execution_count": 31,
      "outputs": [
        {
          "output_type": "stream",
          "text": [
            "313/313 - 0s - loss: 48.0641 - accuracy: 0.0958\n",
            "Test score:  48.06409454345703\n",
            "Test accuracy:  0.0957999974489212\n"
          ],
          "name": "stdout"
        }
      ]
    },
    {
      "cell_type": "markdown",
      "metadata": {
        "id": "IkLj78TrDn0Z"
      },
      "source": [
        "3. Implement a three-layer ANN model with 128, 64, and 10 neurons in the layers. Use 0.0000001 as the learning rate."
      ]
    },
    {
      "cell_type": "code",
      "metadata": {
        "id": "CR6z3AoGDnHu",
        "outputId": "6d12684b-83f4-476a-931d-36304bb21f41",
        "colab": {
          "base_uri": "https://localhost:8080/"
        }
      },
      "source": [
        "model3 = build_model(learning_rate=0.0000001)\n",
        "\n",
        "model3.fit(X_train, y_train, batch_size=128, epochs=20, verbose=2)"
      ],
      "execution_count": 29,
      "outputs": [
        {
          "output_type": "stream",
          "text": [
            "Epoch 1/20\n",
            "469/469 - 2s - loss: 2.3164 - accuracy: 0.0898\n",
            "Epoch 2/20\n",
            "469/469 - 2s - loss: 2.3164 - accuracy: 0.0898\n",
            "Epoch 3/20\n",
            "469/469 - 2s - loss: 2.3164 - accuracy: 0.0898\n",
            "Epoch 4/20\n",
            "469/469 - 2s - loss: 2.3164 - accuracy: 0.0898\n",
            "Epoch 5/20\n",
            "469/469 - 2s - loss: 2.3164 - accuracy: 0.0898\n",
            "Epoch 6/20\n",
            "469/469 - 2s - loss: 2.3164 - accuracy: 0.0898\n",
            "Epoch 7/20\n",
            "469/469 - 2s - loss: 2.3164 - accuracy: 0.0899\n",
            "Epoch 8/20\n",
            "469/469 - 2s - loss: 2.3163 - accuracy: 0.0899\n",
            "Epoch 9/20\n",
            "469/469 - 2s - loss: 2.3163 - accuracy: 0.0899\n",
            "Epoch 10/20\n",
            "469/469 - 2s - loss: 2.3163 - accuracy: 0.0899\n",
            "Epoch 11/20\n",
            "469/469 - 1s - loss: 2.3163 - accuracy: 0.0899\n",
            "Epoch 12/20\n",
            "469/469 - 2s - loss: 2.3163 - accuracy: 0.0899\n",
            "Epoch 13/20\n",
            "469/469 - 2s - loss: 2.3163 - accuracy: 0.0899\n",
            "Epoch 14/20\n",
            "469/469 - 2s - loss: 2.3163 - accuracy: 0.0899\n",
            "Epoch 15/20\n",
            "469/469 - 2s - loss: 2.3163 - accuracy: 0.0899\n",
            "Epoch 16/20\n",
            "469/469 - 2s - loss: 2.3163 - accuracy: 0.0899\n",
            "Epoch 17/20\n",
            "469/469 - 2s - loss: 2.3163 - accuracy: 0.0899\n",
            "Epoch 18/20\n",
            "469/469 - 2s - loss: 2.3163 - accuracy: 0.0899\n",
            "Epoch 19/20\n",
            "469/469 - 2s - loss: 2.3163 - accuracy: 0.0899\n",
            "Epoch 20/20\n",
            "469/469 - 2s - loss: 2.3163 - accuracy: 0.0899\n"
          ],
          "name": "stdout"
        },
        {
          "output_type": "execute_result",
          "data": {
            "text/plain": [
              "<tensorflow.python.keras.callbacks.History at 0x7fd6c796fe80>"
            ]
          },
          "metadata": {
            "tags": []
          },
          "execution_count": 29
        }
      ]
    },
    {
      "cell_type": "code",
      "metadata": {
        "id": "w5hs64QBD0UT",
        "outputId": "2b9b854f-4d58-415b-d8f5-c39c8fd91c2a",
        "colab": {
          "base_uri": "https://localhost:8080/"
        }
      },
      "source": [
        "model3_score = model3.evaluate(X_test, y_test, verbose=2)\n",
        "\n",
        "print('Test score: ', model3_score[0])\n",
        "print('Test accuracy: ', model3_score[1])"
      ],
      "execution_count": 32,
      "outputs": [
        {
          "output_type": "stream",
          "text": [
            "313/313 - 0s - loss: 2.3171 - accuracy: 0.0852\n",
            "Test score:  2.317065477371216\n",
            "Test accuracy:  0.0851999968290329\n"
          ],
          "name": "stdout"
        }
      ]
    },
    {
      "cell_type": "markdown",
      "metadata": {
        "id": "WGLHRwHuEZij"
      },
      "source": [
        "4. Compare the results of each model. Which learning rate performed best?\n",
        "\n",
        "  A. The learning rate of 0.01 was by far the best parameter. 100 and 0.0000001 are so wildly different in magnitude that they overstep the minima and never reach it, respectively. "
      ]
    },
    {
      "cell_type": "code",
      "metadata": {
        "id": "etJXueMAD2OV"
      },
      "source": [
        ""
      ],
      "execution_count": null,
      "outputs": []
    }
  ]
}