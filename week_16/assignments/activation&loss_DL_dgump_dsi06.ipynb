{
  "nbformat": 4,
  "nbformat_minor": 0,
  "metadata": {
    "colab": {
      "name": "activation&loss_DL_dgump_dsi06.ipynb",
      "provenance": []
    },
    "kernelspec": {
      "name": "python3",
      "display_name": "Python 3"
    }
  },
  "cells": [
    {
      "cell_type": "code",
      "metadata": {
        "id": "GTbqJ2wJ9Nn5"
      },
      "source": [
        "import numpy as np\n",
        "import pandas as pd\n",
        "import matplotlib.pyplot as plt\n",
        "\n",
        "\n",
        "from sklearn.model_selection import train_test_split as tts \n",
        "from sklearn.preprocessing import MinMaxScaler\n",
        "\n",
        "from tensorflow.keras import Sequential, losses\n",
        "from tensorflow.keras.layers import Dense, Activation"
      ],
      "execution_count": 1,
      "outputs": []
    },
    {
      "cell_type": "code",
      "metadata": {
        "id": "pchNQz9J9iQz"
      },
      "source": [
        "from tensorflow.keras.datasets import mnist\n",
        "from tensorflow.keras.utils import to_categorical"
      ],
      "execution_count": 2,
      "outputs": []
    },
    {
      "cell_type": "code",
      "metadata": {
        "id": "VBp9I-A99pqR"
      },
      "source": [
        "(X_train, y_train), (X_test, y_test) = mnist.load_data()\n",
        "\n",
        "input_dim = 784  # 28*28\n",
        "output_dim = nb_classes = 10\n",
        "batch_size = 128\n",
        "nb_epoch = 20\n",
        "\n",
        "X_train = X_train.reshape(60000, input_dim)\n",
        "X_test = X_test.reshape(10000, input_dim)\n",
        "X_train = X_train.astype('float32')\n",
        "X_test = X_test.astype('float32')\n",
        "X_train /= 255\n",
        "X_test /= 255"
      ],
      "execution_count": 3,
      "outputs": []
    },
    {
      "cell_type": "code",
      "metadata": {
        "id": "WGhQBmBG9vAs"
      },
      "source": [
        "y_train = to_categorical(y_train, nb_classes)\n",
        "y_test = to_categorical(y_test, nb_classes)"
      ],
      "execution_count": 4,
      "outputs": []
    },
    {
      "cell_type": "markdown",
      "metadata": {
        "id": "S8P37XrY-dfe"
      },
      "source": [
        "## In this assignment, you'll continue working on the MNIST dataset. Train and test the models specified in the tasks below using the MNIST data. You can choose the number of epochs for training, but for the sake of comparison, it's a good idea to start by training for 20 epochs. And remember, you almost always want to use Softmax for the output layer."
      ]
    },
    {
      "cell_type": "markdown",
      "metadata": {
        "id": "7W-V4yWC-fYa"
      },
      "source": [
        "### In this task, you'll implement several ANN models with different activation functions. Specifically, do the following:\n",
        "\n",
        "  1. Implement a three-layer ANN model with 128, 64, and 10 neurons in the layers. Use the tanh activation function for each layer.\n",
        "  2. Implement a three-layer ANN model with 128, 64, and 10 neurons in the layers. Use the sigmoid activation function for each layer.\n",
        "  3. Implement a three-layer ANN model with 128, 64, and 10 neurons in the layers. Use the ReLU activation function for each layer.\n",
        "  4. Compare the results of each model. Which activation function performed best?"
      ]
    },
    {
      "cell_type": "markdown",
      "metadata": {
        "id": "8NfpeLsk-uvE"
      },
      "source": [
        "1. Implement a three-layer ANN model with 128, 64, and 10 neurons in the layers. Use the tanh activation function for each layer."
      ]
    },
    {
      "cell_type": "code",
      "metadata": {
        "id": "2SeYtgrm-I00",
        "outputId": "c76b3e57-caeb-49e9-8ed0-423787c34ea0",
        "colab": {
          "base_uri": "https://localhost:8080/"
        }
      },
      "source": [
        "model1 = Sequential()\n",
        "\n",
        "# input layer\n",
        "model1.add(Dense(128, input_dim=input_dim, activation='tanh'))\n",
        "\n",
        "# hidden layer 1\n",
        "model1.add(Dense(64, activation='tanh'))\n",
        "\n",
        "#output layer\n",
        "model1.add(Dense(10, activation='softmax'))\n",
        "\n",
        "model1.summary()"
      ],
      "execution_count": 5,
      "outputs": [
        {
          "output_type": "stream",
          "text": [
            "Model: \"sequential\"\n",
            "_________________________________________________________________\n",
            "Layer (type)                 Output Shape              Param #   \n",
            "=================================================================\n",
            "dense (Dense)                (None, 128)               100480    \n",
            "_________________________________________________________________\n",
            "dense_1 (Dense)              (None, 64)                8256      \n",
            "_________________________________________________________________\n",
            "dense_2 (Dense)              (None, 10)                650       \n",
            "=================================================================\n",
            "Total params: 109,386\n",
            "Trainable params: 109,386\n",
            "Non-trainable params: 0\n",
            "_________________________________________________________________\n"
          ],
          "name": "stdout"
        }
      ]
    },
    {
      "cell_type": "code",
      "metadata": {
        "id": "ZsDBStdV_v3L"
      },
      "source": [
        "model1.compile(optimizer='adam', loss='categorical_crossentropy', metrics=['accuracy'])\n"
      ],
      "execution_count": 6,
      "outputs": []
    },
    {
      "cell_type": "code",
      "metadata": {
        "id": "fZdafR7BARRp",
        "outputId": "893c08f1-0495-46f6-ac7c-073ff3edef38",
        "colab": {
          "base_uri": "https://localhost:8080/"
        }
      },
      "source": [
        "model1.fit(X_train, y_train, batch_size=batch_size, epochs=nb_epoch, verbose=1)"
      ],
      "execution_count": 7,
      "outputs": [
        {
          "output_type": "stream",
          "text": [
            "Epoch 1/20\n",
            "469/469 [==============================] - 2s 3ms/step - loss: 0.3488 - accuracy: 0.9017\n",
            "Epoch 2/20\n",
            "469/469 [==============================] - 1s 3ms/step - loss: 0.1678 - accuracy: 0.9504\n",
            "Epoch 3/20\n",
            "469/469 [==============================] - 2s 3ms/step - loss: 0.1190 - accuracy: 0.9657\n",
            "Epoch 4/20\n",
            "469/469 [==============================] - 2s 3ms/step - loss: 0.0888 - accuracy: 0.9741\n",
            "Epoch 5/20\n",
            "469/469 [==============================] - 2s 3ms/step - loss: 0.0691 - accuracy: 0.9795\n",
            "Epoch 6/20\n",
            "469/469 [==============================] - 2s 3ms/step - loss: 0.0539 - accuracy: 0.9842\n",
            "Epoch 7/20\n",
            "469/469 [==============================] - 2s 3ms/step - loss: 0.0434 - accuracy: 0.9871\n",
            "Epoch 8/20\n",
            "469/469 [==============================] - 2s 3ms/step - loss: 0.0348 - accuracy: 0.9899\n",
            "Epoch 9/20\n",
            "469/469 [==============================] - 2s 3ms/step - loss: 0.0266 - accuracy: 0.9926\n",
            "Epoch 10/20\n",
            "469/469 [==============================] - 2s 3ms/step - loss: 0.0230 - accuracy: 0.9937\n",
            "Epoch 11/20\n",
            "469/469 [==============================] - 2s 3ms/step - loss: 0.0173 - accuracy: 0.9957\n",
            "Epoch 12/20\n",
            "469/469 [==============================] - 2s 3ms/step - loss: 0.0137 - accuracy: 0.9969\n",
            "Epoch 13/20\n",
            "469/469 [==============================] - 2s 3ms/step - loss: 0.0112 - accuracy: 0.9972\n",
            "Epoch 14/20\n",
            "469/469 [==============================] - 2s 3ms/step - loss: 0.0094 - accuracy: 0.9979\n",
            "Epoch 15/20\n",
            "469/469 [==============================] - 2s 3ms/step - loss: 0.0070 - accuracy: 0.9985\n",
            "Epoch 16/20\n",
            "469/469 [==============================] - 2s 3ms/step - loss: 0.0069 - accuracy: 0.9985\n",
            "Epoch 17/20\n",
            "469/469 [==============================] - 2s 3ms/step - loss: 0.0064 - accuracy: 0.9983\n",
            "Epoch 18/20\n",
            "469/469 [==============================] - 2s 3ms/step - loss: 0.0098 - accuracy: 0.9967\n",
            "Epoch 19/20\n",
            "469/469 [==============================] - 1s 3ms/step - loss: 0.0043 - accuracy: 0.9991\n",
            "Epoch 20/20\n",
            "469/469 [==============================] - 2s 3ms/step - loss: 0.0017 - accuracy: 0.9999\n"
          ],
          "name": "stdout"
        },
        {
          "output_type": "execute_result",
          "data": {
            "text/plain": [
              "<tensorflow.python.keras.callbacks.History at 0x7fc0d1c69fd0>"
            ]
          },
          "metadata": {
            "tags": []
          },
          "execution_count": 7
        }
      ]
    },
    {
      "cell_type": "code",
      "metadata": {
        "id": "35uN0niPATfi",
        "outputId": "d92287a3-675c-45fe-aa76-866ca0f41a24",
        "colab": {
          "base_uri": "https://localhost:8080/"
        }
      },
      "source": [
        "model1_score = model1.evaluate(X_test, y_test, verbose=2)\n",
        "\n",
        "print('Test score: ', model1_score[0])\n",
        "print('Test accuracy: ', model1_score[1])"
      ],
      "execution_count": 8,
      "outputs": [
        {
          "output_type": "stream",
          "text": [
            "313/313 - 0s - loss: 0.0843 - accuracy: 0.9797\n",
            "Test score:  0.08428103476762772\n",
            "Test accuracy:  0.9797000288963318\n"
          ],
          "name": "stdout"
        }
      ]
    },
    {
      "cell_type": "markdown",
      "metadata": {
        "id": "iFxRTWIHBPl2"
      },
      "source": [
        "2. Implement a three-layer ANN model with 128, 64, and 10 neurons in the layers. Use the sigmoid activation function for each layer."
      ]
    },
    {
      "cell_type": "code",
      "metadata": {
        "id": "-5oYruXcApHb",
        "outputId": "217d9de4-95d6-48ea-b22f-4f0a91596636",
        "colab": {
          "base_uri": "https://localhost:8080/"
        }
      },
      "source": [
        "model2 = Sequential()\n",
        "\n",
        "model2.add(Dense(128, input_dim=input_dim, activation='sigmoid'))\n",
        "\n",
        "model2.add(Dense(64, activation='sigmoid'))\n",
        "\n",
        "model2.add(Dense(10, activation='softmax'))\n",
        "\n",
        "model2.summary()"
      ],
      "execution_count": 9,
      "outputs": [
        {
          "output_type": "stream",
          "text": [
            "Model: \"sequential_1\"\n",
            "_________________________________________________________________\n",
            "Layer (type)                 Output Shape              Param #   \n",
            "=================================================================\n",
            "dense_3 (Dense)              (None, 128)               100480    \n",
            "_________________________________________________________________\n",
            "dense_4 (Dense)              (None, 64)                8256      \n",
            "_________________________________________________________________\n",
            "dense_5 (Dense)              (None, 10)                650       \n",
            "=================================================================\n",
            "Total params: 109,386\n",
            "Trainable params: 109,386\n",
            "Non-trainable params: 0\n",
            "_________________________________________________________________\n"
          ],
          "name": "stdout"
        }
      ]
    },
    {
      "cell_type": "code",
      "metadata": {
        "id": "WEgr8EsLBxPD"
      },
      "source": [
        "model2.compile(optimizer='adam', loss='categorical_crossentropy', metrics=['accuracy'])"
      ],
      "execution_count": 10,
      "outputs": []
    },
    {
      "cell_type": "code",
      "metadata": {
        "id": "b04l34B5B9eO",
        "outputId": "199c20a1-1f58-4473-b6fa-8d352892c491",
        "colab": {
          "base_uri": "https://localhost:8080/"
        }
      },
      "source": [
        "model2.fit(X_train, y_train, batch_size=batch_size, epochs=nb_epoch, verbose=1)"
      ],
      "execution_count": 11,
      "outputs": [
        {
          "output_type": "stream",
          "text": [
            "Epoch 1/20\n",
            "469/469 [==============================] - 2s 3ms/step - loss: 0.7628 - accuracy: 0.8220\n",
            "Epoch 2/20\n",
            "469/469 [==============================] - 2s 3ms/step - loss: 0.2656 - accuracy: 0.9265\n",
            "Epoch 3/20\n",
            "469/469 [==============================] - 2s 3ms/step - loss: 0.1967 - accuracy: 0.9438\n",
            "Epoch 4/20\n",
            "469/469 [==============================] - 2s 3ms/step - loss: 0.1571 - accuracy: 0.9543\n",
            "Epoch 5/20\n",
            "469/469 [==============================] - 2s 3ms/step - loss: 0.1304 - accuracy: 0.9621\n",
            "Epoch 6/20\n",
            "469/469 [==============================] - 2s 3ms/step - loss: 0.1093 - accuracy: 0.9685\n",
            "Epoch 7/20\n",
            "469/469 [==============================] - 2s 3ms/step - loss: 0.0930 - accuracy: 0.9734\n",
            "Epoch 8/20\n",
            "469/469 [==============================] - 2s 3ms/step - loss: 0.0796 - accuracy: 0.9773\n",
            "Epoch 9/20\n",
            "469/469 [==============================] - 2s 3ms/step - loss: 0.0683 - accuracy: 0.9805\n",
            "Epoch 10/20\n",
            "469/469 [==============================] - 2s 3ms/step - loss: 0.0594 - accuracy: 0.9830\n",
            "Epoch 11/20\n",
            "469/469 [==============================] - 2s 3ms/step - loss: 0.0512 - accuracy: 0.9855\n",
            "Epoch 12/20\n",
            "469/469 [==============================] - 2s 3ms/step - loss: 0.0451 - accuracy: 0.9875\n",
            "Epoch 13/20\n",
            "469/469 [==============================] - 2s 3ms/step - loss: 0.0386 - accuracy: 0.9895\n",
            "Epoch 14/20\n",
            "469/469 [==============================] - 2s 3ms/step - loss: 0.0337 - accuracy: 0.9912\n",
            "Epoch 15/20\n",
            "469/469 [==============================] - 2s 3ms/step - loss: 0.0285 - accuracy: 0.9926\n",
            "Epoch 16/20\n",
            "469/469 [==============================] - 2s 3ms/step - loss: 0.0252 - accuracy: 0.9937\n",
            "Epoch 17/20\n",
            "469/469 [==============================] - 2s 3ms/step - loss: 0.0211 - accuracy: 0.9952\n",
            "Epoch 18/20\n",
            "469/469 [==============================] - 2s 3ms/step - loss: 0.0182 - accuracy: 0.9962\n",
            "Epoch 19/20\n",
            "469/469 [==============================] - 2s 3ms/step - loss: 0.0154 - accuracy: 0.9971\n",
            "Epoch 20/20\n",
            "469/469 [==============================] - 2s 3ms/step - loss: 0.0132 - accuracy: 0.9976\n"
          ],
          "name": "stdout"
        },
        {
          "output_type": "execute_result",
          "data": {
            "text/plain": [
              "<tensorflow.python.keras.callbacks.History at 0x7fc0cf5969b0>"
            ]
          },
          "metadata": {
            "tags": []
          },
          "execution_count": 11
        }
      ]
    },
    {
      "cell_type": "code",
      "metadata": {
        "id": "fOO6MBT3CMCK",
        "outputId": "a5c151d8-c475-4255-c544-9e621af32826",
        "colab": {
          "base_uri": "https://localhost:8080/"
        }
      },
      "source": [
        "model2_score = model2.evaluate(X_test, y_test, verbose=2)\n",
        "\n",
        "print('Test score: ', model2_score[0])\n",
        "print('Test accuracy: ', model2_score[1])"
      ],
      "execution_count": 12,
      "outputs": [
        {
          "output_type": "stream",
          "text": [
            "313/313 - 0s - loss: 0.0722 - accuracy: 0.9800\n",
            "Test score:  0.07222721725702286\n",
            "Test accuracy:  0.9800000190734863\n"
          ],
          "name": "stdout"
        }
      ]
    },
    {
      "cell_type": "markdown",
      "metadata": {
        "id": "vNfJ-x0FCfT0"
      },
      "source": [
        "3. Implement a three-layer ANN model with 128, 64, and 10 neurons in the layers. Use the ReLU activation function for each layer."
      ]
    },
    {
      "cell_type": "code",
      "metadata": {
        "id": "zb_atRvdDVLt"
      },
      "source": [
        "from tensorflow.keras.layers import LeakyReLU\n"
      ],
      "execution_count": 13,
      "outputs": []
    },
    {
      "cell_type": "code",
      "metadata": {
        "id": "kDhDd-kdCq1c",
        "outputId": "81073fc4-c1bf-49df-f3e6-eac5359fa47a",
        "colab": {
          "base_uri": "https://localhost:8080/"
        }
      },
      "source": [
        "model3 = Sequential()\n",
        "\n",
        "model3.add(LeakyReLU(alpha=0.3, input_dim=input_dim))\n",
        "\n",
        "model3.add(LeakyReLU(alpha=0.3))\n",
        "\n",
        "model3.add(Dense(10, activation='softmax'))\n",
        "\n",
        "model3.summary()"
      ],
      "execution_count": 14,
      "outputs": [
        {
          "output_type": "stream",
          "text": [
            "Model: \"sequential_2\"\n",
            "_________________________________________________________________\n",
            "Layer (type)                 Output Shape              Param #   \n",
            "=================================================================\n",
            "leaky_re_lu (LeakyReLU)      (None, 784)               0         \n",
            "_________________________________________________________________\n",
            "leaky_re_lu_1 (LeakyReLU)    (None, 784)               0         \n",
            "_________________________________________________________________\n",
            "dense_6 (Dense)              (None, 10)                7850      \n",
            "=================================================================\n",
            "Total params: 7,850\n",
            "Trainable params: 7,850\n",
            "Non-trainable params: 0\n",
            "_________________________________________________________________\n"
          ],
          "name": "stdout"
        }
      ]
    },
    {
      "cell_type": "code",
      "metadata": {
        "id": "O93o2VOjCz1-"
      },
      "source": [
        "model3.compile(optimizer='adam', loss='categorical_crossentropy', metrics=['accuracy'])"
      ],
      "execution_count": 15,
      "outputs": []
    },
    {
      "cell_type": "code",
      "metadata": {
        "id": "gMxLvezeCziJ",
        "outputId": "34e712a5-1de9-4bc1-f986-eb0d3ae1582b",
        "colab": {
          "base_uri": "https://localhost:8080/"
        }
      },
      "source": [
        "model3.fit(X_train, y_train, batch_size=batch_size, epochs=nb_epoch, verbose=1)"
      ],
      "execution_count": 16,
      "outputs": [
        {
          "output_type": "stream",
          "text": [
            "Epoch 1/20\n",
            "469/469 [==============================] - 1s 2ms/step - loss: 0.6746 - accuracy: 0.8328\n",
            "Epoch 2/20\n",
            "469/469 [==============================] - 1s 2ms/step - loss: 0.3625 - accuracy: 0.9026\n",
            "Epoch 3/20\n",
            "469/469 [==============================] - 1s 2ms/step - loss: 0.3196 - accuracy: 0.9121\n",
            "Epoch 4/20\n",
            "469/469 [==============================] - 1s 2ms/step - loss: 0.2997 - accuracy: 0.9167\n",
            "Epoch 5/20\n",
            "469/469 [==============================] - 1s 2ms/step - loss: 0.2878 - accuracy: 0.9199\n",
            "Epoch 6/20\n",
            "469/469 [==============================] - 1s 2ms/step - loss: 0.2798 - accuracy: 0.9220\n",
            "Epoch 7/20\n",
            "469/469 [==============================] - 1s 2ms/step - loss: 0.2737 - accuracy: 0.9234\n",
            "Epoch 8/20\n",
            "469/469 [==============================] - 1s 2ms/step - loss: 0.2691 - accuracy: 0.9251\n",
            "Epoch 9/20\n",
            "469/469 [==============================] - 1s 2ms/step - loss: 0.2656 - accuracy: 0.9258\n",
            "Epoch 10/20\n",
            "469/469 [==============================] - 1s 2ms/step - loss: 0.2621 - accuracy: 0.9270\n",
            "Epoch 11/20\n",
            "469/469 [==============================] - 1s 2ms/step - loss: 0.2595 - accuracy: 0.9280\n",
            "Epoch 12/20\n",
            "469/469 [==============================] - 1s 2ms/step - loss: 0.2575 - accuracy: 0.9280\n",
            "Epoch 13/20\n",
            "469/469 [==============================] - 1s 2ms/step - loss: 0.2553 - accuracy: 0.9291\n",
            "Epoch 14/20\n",
            "469/469 [==============================] - 1s 2ms/step - loss: 0.2534 - accuracy: 0.9299\n",
            "Epoch 15/20\n",
            "469/469 [==============================] - 1s 2ms/step - loss: 0.2517 - accuracy: 0.9310\n",
            "Epoch 16/20\n",
            "469/469 [==============================] - 1s 2ms/step - loss: 0.2504 - accuracy: 0.9314\n",
            "Epoch 17/20\n",
            "469/469 [==============================] - 1s 2ms/step - loss: 0.2491 - accuracy: 0.9314\n",
            "Epoch 18/20\n",
            "469/469 [==============================] - 1s 2ms/step - loss: 0.2481 - accuracy: 0.9312\n",
            "Epoch 19/20\n",
            "469/469 [==============================] - 1s 2ms/step - loss: 0.2472 - accuracy: 0.9320\n",
            "Epoch 20/20\n",
            "469/469 [==============================] - 1s 2ms/step - loss: 0.2456 - accuracy: 0.9323\n"
          ],
          "name": "stdout"
        },
        {
          "output_type": "execute_result",
          "data": {
            "text/plain": [
              "<tensorflow.python.keras.callbacks.History at 0x7fc0cec58f28>"
            ]
          },
          "metadata": {
            "tags": []
          },
          "execution_count": 16
        }
      ]
    },
    {
      "cell_type": "code",
      "metadata": {
        "id": "hZjoh9CmC5T-",
        "outputId": "2a24b0a7-caa9-4693-e83c-ff36aa939a83",
        "colab": {
          "base_uri": "https://localhost:8080/"
        }
      },
      "source": [
        "model3_score = model3.evaluate(X_test, y_test, verbose=2)\n",
        "\n",
        "print('Test score: ', model3_score[0])\n",
        "print('Test accuracy: ', model3_score[1])"
      ],
      "execution_count": 17,
      "outputs": [
        {
          "output_type": "stream",
          "text": [
            "313/313 - 0s - loss: 0.2614 - accuracy: 0.9273\n",
            "Test score:  0.2613917589187622\n",
            "Test accuracy:  0.927299976348877\n"
          ],
          "name": "stdout"
        }
      ]
    },
    {
      "cell_type": "markdown",
      "metadata": {
        "id": "31mDHdejh6jT"
      },
      "source": [
        "Comparing activation functions, sigmoid activation performed the best at 97.87% test accuracy, just ahead of tanh activation which scored 97.65%. It makes sense that these are close, since tanh is scaled version of sigmoid. LeakyReLU scored 92.80% on the test set. "
      ]
    },
    {
      "cell_type": "markdown",
      "metadata": {
        "id": "Ut2gPvSjjf5N"
      },
      "source": [
        "### In this task, you'll implement the ANN models specified below. For each, use the hinge loss function as the loss function.\n",
        "\n",
        "  1. Implement a three-layer ANN model with 128, 64, and 10 neurons in the layers. Use the tanh activation function for each layer.\n",
        "  2. Implement a three-layer ANN model with 128, 64, and 10 neurons in the layers. Use the sigmoid activation function for each layer.\n",
        "  3. Implement a three-layer ANN model with 128, 64, and 10 neurons in the layers. Use the ReLU activation function for each layer.\n",
        "  4. Compare the results of each model with the result of the same model from the previous task. Which loss function performed best?"
      ]
    },
    {
      "cell_type": "code",
      "metadata": {
        "id": "SXLPoN_ED8MO",
        "outputId": "ca4c0c46-0e60-420c-bb5f-2561a2f26c91",
        "colab": {
          "base_uri": "https://localhost:8080/"
        }
      },
      "source": [
        "from keras.losses import categorical_hinge\n",
        "\n",
        "model1_hinge = Sequential()\n",
        "\n",
        "# input layer\n",
        "model1_hinge.add(Dense(128, input_dim=input_dim, activation='tanh'))\n",
        "\n",
        "# hidden layer 1\n",
        "model1_hinge.add(Dense(64, activation='tanh'))\n",
        "\n",
        "#output layer\n",
        "model1_hinge.add(Dense(10, activation='softmax'))\n",
        "\n",
        "model1_hinge.summary()\n",
        "\n",
        "##########\n",
        "\n",
        "model1_hinge.compile(optimizer='adam', loss='categorical_hinge', metrics=['accuracy'])\n",
        "\n",
        "##########\n",
        "\n",
        "model1_hinge.fit(X_train, y_train, batch_size=batch_size, epochs=nb_epoch, verbose=1)"
      ],
      "execution_count": 18,
      "outputs": [
        {
          "output_type": "stream",
          "text": [
            "Model: \"sequential_3\"\n",
            "_________________________________________________________________\n",
            "Layer (type)                 Output Shape              Param #   \n",
            "=================================================================\n",
            "dense_7 (Dense)              (None, 128)               100480    \n",
            "_________________________________________________________________\n",
            "dense_8 (Dense)              (None, 64)                8256      \n",
            "_________________________________________________________________\n",
            "dense_9 (Dense)              (None, 10)                650       \n",
            "=================================================================\n",
            "Total params: 109,386\n",
            "Trainable params: 109,386\n",
            "Non-trainable params: 0\n",
            "_________________________________________________________________\n",
            "Epoch 1/20\n",
            "469/469 [==============================] - 2s 3ms/step - loss: 0.2581 - accuracy: 0.8900\n",
            "Epoch 2/20\n",
            "469/469 [==============================] - 2s 3ms/step - loss: 0.1272 - accuracy: 0.9435\n",
            "Epoch 3/20\n",
            "469/469 [==============================] - 2s 3ms/step - loss: 0.0952 - accuracy: 0.9575\n",
            "Epoch 4/20\n",
            "469/469 [==============================] - 2s 3ms/step - loss: 0.0769 - accuracy: 0.9658\n",
            "Epoch 5/20\n",
            "469/469 [==============================] - 2s 3ms/step - loss: 0.0635 - accuracy: 0.9717\n",
            "Epoch 6/20\n",
            "469/469 [==============================] - 2s 3ms/step - loss: 0.0547 - accuracy: 0.9757\n",
            "Epoch 7/20\n",
            "469/469 [==============================] - 2s 3ms/step - loss: 0.0474 - accuracy: 0.9790\n",
            "Epoch 8/20\n",
            "469/469 [==============================] - 2s 3ms/step - loss: 0.0413 - accuracy: 0.9815\n",
            "Epoch 9/20\n",
            "469/469 [==============================] - 2s 3ms/step - loss: 0.0366 - accuracy: 0.9837\n",
            "Epoch 10/20\n",
            "469/469 [==============================] - 2s 3ms/step - loss: 0.0335 - accuracy: 0.9853\n",
            "Epoch 11/20\n",
            "469/469 [==============================] - 2s 3ms/step - loss: 0.0297 - accuracy: 0.9871\n",
            "Epoch 12/20\n",
            "469/469 [==============================] - 2s 3ms/step - loss: 0.0272 - accuracy: 0.9880\n",
            "Epoch 13/20\n",
            "469/469 [==============================] - 2s 3ms/step - loss: 0.0257 - accuracy: 0.9886\n",
            "Epoch 14/20\n",
            "469/469 [==============================] - 2s 3ms/step - loss: 0.0236 - accuracy: 0.9895\n",
            "Epoch 15/20\n",
            "469/469 [==============================] - 2s 3ms/step - loss: 0.0214 - accuracy: 0.9904\n",
            "Epoch 16/20\n",
            "469/469 [==============================] - 2s 4ms/step - loss: 0.0203 - accuracy: 0.9910\n",
            "Epoch 17/20\n",
            "469/469 [==============================] - 2s 3ms/step - loss: 0.0195 - accuracy: 0.9912\n",
            "Epoch 18/20\n",
            "469/469 [==============================] - 2s 3ms/step - loss: 0.0174 - accuracy: 0.9923\n",
            "Epoch 19/20\n",
            "469/469 [==============================] - 2s 3ms/step - loss: 0.0173 - accuracy: 0.9922\n",
            "Epoch 20/20\n",
            "469/469 [==============================] - 2s 3ms/step - loss: 0.0164 - accuracy: 0.9927\n"
          ],
          "name": "stdout"
        },
        {
          "output_type": "execute_result",
          "data": {
            "text/plain": [
              "<tensorflow.python.keras.callbacks.History at 0x7fc0cec58400>"
            ]
          },
          "metadata": {
            "tags": []
          },
          "execution_count": 18
        }
      ]
    },
    {
      "cell_type": "code",
      "metadata": {
        "id": "w9z0Nh1lknnY",
        "outputId": "0c383ff5-1eea-4af4-8dc4-3e315a14ba6d",
        "colab": {
          "base_uri": "https://localhost:8080/"
        }
      },
      "source": [
        "score_model1_hinge = model1_hinge.evaluate(X_test, y_test, verbose=3)\n",
        "\n",
        "print('Tanh Activation: Loss Comparison')\n",
        "print('--------------------------')\n",
        "print('Hinge Loss:')\n",
        "print('Test score: ', score_model1_hinge[0])\n",
        "print('Test accuracy: ', score_model1_hinge[1])\n",
        "print('--------------------------')\n",
        "print('Cross Entropy Loss:')\n",
        "print('Test score: ', model1_score[0])\n",
        "print('Test accuracy: ', model1_score[1])"
      ],
      "execution_count": 19,
      "outputs": [
        {
          "output_type": "stream",
          "text": [
            "Tanh Activation: Loss Comparison\n",
            "--------------------------\n",
            "Hinge Loss:\n",
            "Test score:  0.04588593170046806\n",
            "Test accuracy:  0.9785000085830688\n",
            "--------------------------\n",
            "Cross Entropy Loss:\n",
            "Test score:  0.08428103476762772\n",
            "Test accuracy:  0.9797000288963318\n"
          ],
          "name": "stdout"
        }
      ]
    },
    {
      "cell_type": "code",
      "metadata": {
        "id": "oXxCKoJimmSe",
        "outputId": "24faf458-593f-4dca-8d53-f1f570eeb761",
        "colab": {
          "base_uri": "https://localhost:8080/"
        }
      },
      "source": [
        "model2_hinge = Sequential()\n",
        "\n",
        "# input layer\n",
        "model2_hinge.add(Dense(128, input_dim=input_dim, activation='sigmoid'))\n",
        "\n",
        "# hidden layer 1\n",
        "model2_hinge.add(Dense(64, activation='sigmoid'))\n",
        "\n",
        "#output layer\n",
        "model2_hinge.add(Dense(10, activation='softmax'))\n",
        "\n",
        "model2_hinge.summary()\n",
        "\n",
        "##########\n",
        "\n",
        "model2_hinge.compile(optimizer='adam', loss='categorical_hinge', metrics=['accuracy'])\n",
        "\n",
        "##########\n",
        "\n",
        "model2_hinge.fit(X_train, y_train, batch_size=batch_size, epochs=nb_epoch, verbose=1)"
      ],
      "execution_count": 20,
      "outputs": [
        {
          "output_type": "stream",
          "text": [
            "Model: \"sequential_4\"\n",
            "_________________________________________________________________\n",
            "Layer (type)                 Output Shape              Param #   \n",
            "=================================================================\n",
            "dense_10 (Dense)             (None, 128)               100480    \n",
            "_________________________________________________________________\n",
            "dense_11 (Dense)             (None, 64)                8256      \n",
            "_________________________________________________________________\n",
            "dense_12 (Dense)             (None, 10)                650       \n",
            "=================================================================\n",
            "Total params: 109,386\n",
            "Trainable params: 109,386\n",
            "Non-trainable params: 0\n",
            "_________________________________________________________________\n",
            "Epoch 1/20\n",
            "469/469 [==============================] - 2s 3ms/step - loss: 0.6359 - accuracy: 0.7704\n",
            "Epoch 2/20\n",
            "469/469 [==============================] - 2s 3ms/step - loss: 0.2052 - accuracy: 0.9166\n",
            "Epoch 3/20\n",
            "469/469 [==============================] - 2s 3ms/step - loss: 0.1518 - accuracy: 0.9345\n",
            "Epoch 4/20\n",
            "469/469 [==============================] - 2s 3ms/step - loss: 0.1248 - accuracy: 0.9455\n",
            "Epoch 5/20\n",
            "469/469 [==============================] - 2s 3ms/step - loss: 0.1060 - accuracy: 0.9536\n",
            "Epoch 6/20\n",
            "469/469 [==============================] - 2s 3ms/step - loss: 0.0928 - accuracy: 0.9591\n",
            "Epoch 7/20\n",
            "469/469 [==============================] - 2s 3ms/step - loss: 0.0813 - accuracy: 0.9644\n",
            "Epoch 8/20\n",
            "469/469 [==============================] - 2s 3ms/step - loss: 0.0722 - accuracy: 0.9684\n",
            "Epoch 9/20\n",
            "469/469 [==============================] - 2s 3ms/step - loss: 0.0641 - accuracy: 0.9727\n",
            "Epoch 10/20\n",
            "469/469 [==============================] - 2s 3ms/step - loss: 0.0569 - accuracy: 0.9758\n",
            "Epoch 11/20\n",
            "469/469 [==============================] - 2s 4ms/step - loss: 0.0519 - accuracy: 0.9779\n",
            "Epoch 12/20\n",
            "469/469 [==============================] - 2s 3ms/step - loss: 0.0472 - accuracy: 0.9800\n",
            "Epoch 13/20\n",
            "469/469 [==============================] - 2s 3ms/step - loss: 0.0432 - accuracy: 0.9815\n",
            "Epoch 14/20\n",
            "469/469 [==============================] - 2s 3ms/step - loss: 0.0392 - accuracy: 0.9833\n",
            "Epoch 15/20\n",
            "469/469 [==============================] - 2s 3ms/step - loss: 0.0366 - accuracy: 0.9841\n",
            "Epoch 16/20\n",
            "469/469 [==============================] - 2s 4ms/step - loss: 0.0336 - accuracy: 0.9857\n",
            "Epoch 17/20\n",
            "469/469 [==============================] - 2s 4ms/step - loss: 0.0309 - accuracy: 0.9868\n",
            "Epoch 18/20\n",
            "469/469 [==============================] - 2s 4ms/step - loss: 0.0287 - accuracy: 0.9875\n",
            "Epoch 19/20\n",
            "469/469 [==============================] - 2s 4ms/step - loss: 0.0269 - accuracy: 0.9884\n",
            "Epoch 20/20\n",
            "469/469 [==============================] - 2s 4ms/step - loss: 0.0248 - accuracy: 0.9891\n"
          ],
          "name": "stdout"
        },
        {
          "output_type": "execute_result",
          "data": {
            "text/plain": [
              "<tensorflow.python.keras.callbacks.History at 0x7fc0cb98f550>"
            ]
          },
          "metadata": {
            "tags": []
          },
          "execution_count": 20
        }
      ]
    },
    {
      "cell_type": "code",
      "metadata": {
        "id": "kRTsCc-PnAsY",
        "outputId": "6369da47-aef3-43a0-ff02-53553acf2ce5",
        "colab": {
          "base_uri": "https://localhost:8080/"
        }
      },
      "source": [
        "score_model2_hinge = model2_hinge.evaluate(X_test, y_test, verbose=3)\n",
        "\n",
        "print('Sigmoid Activation: Loss Comparison')\n",
        "print('--------------------------')\n",
        "print('Hinge Loss:')\n",
        "print('Test score: ', score_model2_hinge[0])\n",
        "print('Test accuracy: ', score_model2_hinge[1])\n",
        "print('--------------------------')\n",
        "print('Cross Entropy Loss:')\n",
        "print('Test score: ', model2_score[0])\n",
        "print('Test accuracy: ', model2_score[1])"
      ],
      "execution_count": 21,
      "outputs": [
        {
          "output_type": "stream",
          "text": [
            "Sigmoid Activation: Loss Comparison\n",
            "--------------------------\n",
            "Hinge Loss:\n",
            "Test score:  0.05224958434700966\n",
            "Test accuracy:  0.9763000011444092\n",
            "--------------------------\n",
            "Cross Entropy Loss:\n",
            "Test score:  0.07222721725702286\n",
            "Test accuracy:  0.9800000190734863\n"
          ],
          "name": "stdout"
        }
      ]
    },
    {
      "cell_type": "code",
      "metadata": {
        "id": "2_uVoRP5nueL",
        "outputId": "d735c4e4-697f-4158-c0e7-4690ceecd29f",
        "colab": {
          "base_uri": "https://localhost:8080/"
        }
      },
      "source": [
        "model3_hinge = Sequential()\n",
        "\n",
        "model3_hinge.add(LeakyReLU(alpha=0.3, input_dim=input_dim))\n",
        "\n",
        "model3_hinge.add(LeakyReLU(alpha=0.3))\n",
        "\n",
        "model3_hinge.add(Dense(10, activation='softmax'))\n",
        "\n",
        "model3_hinge.summary()\n",
        "\n",
        "##########\n",
        "\n",
        "model3_hinge.compile(optimizer='adam', loss='categorical_hinge', metrics=['accuracy'])\n",
        "\n",
        "##########\n",
        "\n",
        "model3_hinge.fit(X_train, y_train, batch_size=batch_size, epochs=nb_epoch, verbose=1)"
      ],
      "execution_count": 22,
      "outputs": [
        {
          "output_type": "stream",
          "text": [
            "Model: \"sequential_5\"\n",
            "_________________________________________________________________\n",
            "Layer (type)                 Output Shape              Param #   \n",
            "=================================================================\n",
            "leaky_re_lu_2 (LeakyReLU)    (None, 784)               0         \n",
            "_________________________________________________________________\n",
            "leaky_re_lu_3 (LeakyReLU)    (None, 784)               0         \n",
            "_________________________________________________________________\n",
            "dense_13 (Dense)             (None, 10)                7850      \n",
            "=================================================================\n",
            "Total params: 7,850\n",
            "Trainable params: 7,850\n",
            "Non-trainable params: 0\n",
            "_________________________________________________________________\n",
            "Epoch 1/20\n",
            "469/469 [==============================] - 1s 3ms/step - loss: 0.4900 - accuracy: 0.8113\n",
            "Epoch 2/20\n",
            "469/469 [==============================] - 1s 3ms/step - loss: 0.2664 - accuracy: 0.8987\n",
            "Epoch 3/20\n",
            "469/469 [==============================] - 1s 3ms/step - loss: 0.2282 - accuracy: 0.9078\n",
            "Epoch 4/20\n",
            "469/469 [==============================] - 1s 3ms/step - loss: 0.2090 - accuracy: 0.9133\n",
            "Epoch 5/20\n",
            "469/469 [==============================] - 1s 3ms/step - loss: 0.1967 - accuracy: 0.9174\n",
            "Epoch 6/20\n",
            "469/469 [==============================] - 1s 3ms/step - loss: 0.1880 - accuracy: 0.9201\n",
            "Epoch 7/20\n",
            "469/469 [==============================] - 1s 2ms/step - loss: 0.1813 - accuracy: 0.9222\n",
            "Epoch 8/20\n",
            "469/469 [==============================] - 1s 3ms/step - loss: 0.1758 - accuracy: 0.9235\n",
            "Epoch 9/20\n",
            "469/469 [==============================] - 1s 3ms/step - loss: 0.1715 - accuracy: 0.9255\n",
            "Epoch 10/20\n",
            "469/469 [==============================] - 1s 3ms/step - loss: 0.1677 - accuracy: 0.9267\n",
            "Epoch 11/20\n",
            "469/469 [==============================] - 1s 3ms/step - loss: 0.1644 - accuracy: 0.9278\n",
            "Epoch 12/20\n",
            "469/469 [==============================] - 1s 3ms/step - loss: 0.1614 - accuracy: 0.9290\n",
            "Epoch 13/20\n",
            "469/469 [==============================] - 1s 3ms/step - loss: 0.1590 - accuracy: 0.9297\n",
            "Epoch 14/20\n",
            "469/469 [==============================] - 2s 4ms/step - loss: 0.1564 - accuracy: 0.9304\n",
            "Epoch 15/20\n",
            "469/469 [==============================] - 1s 3ms/step - loss: 0.1543 - accuracy: 0.9315\n",
            "Epoch 16/20\n",
            "469/469 [==============================] - 1s 2ms/step - loss: 0.1526 - accuracy: 0.9322\n",
            "Epoch 17/20\n",
            "469/469 [==============================] - 1s 2ms/step - loss: 0.1508 - accuracy: 0.9326\n",
            "Epoch 18/20\n",
            "469/469 [==============================] - 1s 2ms/step - loss: 0.1491 - accuracy: 0.9335\n",
            "Epoch 19/20\n",
            "469/469 [==============================] - 1s 2ms/step - loss: 0.1478 - accuracy: 0.9336\n",
            "Epoch 20/20\n",
            "469/469 [==============================] - 1s 2ms/step - loss: 0.1463 - accuracy: 0.9346\n"
          ],
          "name": "stdout"
        },
        {
          "output_type": "execute_result",
          "data": {
            "text/plain": [
              "<tensorflow.python.keras.callbacks.History at 0x7fc0ca802630>"
            ]
          },
          "metadata": {
            "tags": []
          },
          "execution_count": 22
        }
      ]
    },
    {
      "cell_type": "code",
      "metadata": {
        "id": "ftOl0eKboZ0x",
        "outputId": "0fd8dc96-d8ee-41d5-c7e2-654010f47a7f",
        "colab": {
          "base_uri": "https://localhost:8080/"
        }
      },
      "source": [
        "score_model3_hinge = model3_hinge.evaluate(X_test, y_test, verbose=3)\n",
        "\n",
        "print('LeakyReLU Activation: Loss Comparison')\n",
        "print('--------------------------')\n",
        "print('Hinge Loss:')\n",
        "print('Test score: ', score_model3_hinge[0])\n",
        "print('Test accuracy: ', score_model3_hinge[1])\n",
        "print('--------------------------')\n",
        "print('Cross Entropy Loss:')\n",
        "print('Test score: ', model3_score[0])\n",
        "print('Test accuracy: ', model3_score[1])"
      ],
      "execution_count": 23,
      "outputs": [
        {
          "output_type": "stream",
          "text": [
            "LeakyReLU Activation: Loss Comparison\n",
            "--------------------------\n",
            "Hinge Loss:\n",
            "Test score:  0.15037424862384796\n",
            "Test accuracy:  0.9305999875068665\n",
            "--------------------------\n",
            "Cross Entropy Loss:\n",
            "Test score:  0.2613917589187622\n",
            "Test accuracy:  0.927299976348877\n"
          ],
          "name": "stdout"
        }
      ]
    },
    {
      "cell_type": "markdown",
      "metadata": {
        "id": "sX-JQDpKpbZ-"
      },
      "source": [
        "Hinge loss performed ever so slightly better for LeakyReLU activation at 0.2% better test accuracy than cross entropy loss. For sigmoid activation, cross entropy was 0.3% better than hinge loss. For tanh activation, Hinge loss was 4% better. \n",
        "\n",
        "Note: Numbers vary after restart/run all. The second run has hinge loss better only for LeakyReLU. "
      ]
    },
    {
      "cell_type": "code",
      "metadata": {
        "id": "psst5ep7twmT"
      },
      "source": [
        ""
      ],
      "execution_count": null,
      "outputs": []
    }
  ]
}