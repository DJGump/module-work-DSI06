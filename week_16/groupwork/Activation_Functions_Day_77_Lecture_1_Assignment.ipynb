{
  "nbformat": 4,
  "nbformat_minor": 0,
  "metadata": {
    "kernelspec": {
      "display_name": "Python 3",
      "language": "python",
      "name": "python3"
    },
    "language_info": {
      "codemirror_mode": {
        "name": "ipython",
        "version": 3
      },
      "file_extension": ".py",
      "mimetype": "text/x-python",
      "name": "python",
      "nbconvert_exporter": "python",
      "pygments_lexer": "ipython3",
      "version": "3.7.0"
    },
    "colab": {
      "name": "Activation Functions Day 77 Lecture 1 Assignment.ipynb",
      "provenance": [],
      "collapsed_sections": []
    }
  },
  "cells": [
    {
      "cell_type": "markdown",
      "metadata": {
        "id": "tEyRSqh_0jS7"
      },
      "source": [
        "## Day 77 Lecture 1 Assignment\n",
        "\n",
        "In this assignment, we will learn about activation functions. We will create a neural network and measure the model's performance using different activations."
      ]
    },
    {
      "cell_type": "code",
      "metadata": {
        "id": "DgLFu1Hs0jS-"
      },
      "source": [
        "import numpy as np\n",
        "import pandas as pd"
      ],
      "execution_count": 1,
      "outputs": []
    },
    {
      "cell_type": "markdown",
      "metadata": {
        "id": "BTzJti900jTA"
      },
      "source": [
        "We will import the famous titanic dataset below and produce a neural network that will predict the chance of survival for a passenger."
      ]
    },
    {
      "cell_type": "code",
      "metadata": {
        "id": "CDlLGz270jTB"
      },
      "source": [
        "titanic = pd.read_csv('https://tf-assets-prod.s3.amazonaws.com/tf-curric/data-science/titanic.csv')"
      ],
      "execution_count": 2,
      "outputs": []
    },
    {
      "cell_type": "code",
      "metadata": {
        "id": "z01i6-rV0jTD",
        "outputId": "931c16cf-51bd-4ba8-b5af-0e84544212ad",
        "colab": {
          "base_uri": "https://localhost:8080/",
          "height": 391
        }
      },
      "source": [
        "titanic.head()"
      ],
      "execution_count": 3,
      "outputs": [
        {
          "output_type": "execute_result",
          "data": {
            "text/html": [
              "<div>\n",
              "<style scoped>\n",
              "    .dataframe tbody tr th:only-of-type {\n",
              "        vertical-align: middle;\n",
              "    }\n",
              "\n",
              "    .dataframe tbody tr th {\n",
              "        vertical-align: top;\n",
              "    }\n",
              "\n",
              "    .dataframe thead th {\n",
              "        text-align: right;\n",
              "    }\n",
              "</style>\n",
              "<table border=\"1\" class=\"dataframe\">\n",
              "  <thead>\n",
              "    <tr style=\"text-align: right;\">\n",
              "      <th></th>\n",
              "      <th>PassengerId</th>\n",
              "      <th>Survived</th>\n",
              "      <th>Pclass</th>\n",
              "      <th>Name</th>\n",
              "      <th>Sex</th>\n",
              "      <th>Age</th>\n",
              "      <th>SibSp</th>\n",
              "      <th>Parch</th>\n",
              "      <th>Ticket</th>\n",
              "      <th>Fare</th>\n",
              "      <th>Cabin</th>\n",
              "      <th>Embarked</th>\n",
              "    </tr>\n",
              "  </thead>\n",
              "  <tbody>\n",
              "    <tr>\n",
              "      <th>0</th>\n",
              "      <td>1</td>\n",
              "      <td>0</td>\n",
              "      <td>3</td>\n",
              "      <td>Braund, Mr. Owen Harris</td>\n",
              "      <td>male</td>\n",
              "      <td>22.0</td>\n",
              "      <td>1</td>\n",
              "      <td>0</td>\n",
              "      <td>A/5 21171</td>\n",
              "      <td>7.2500</td>\n",
              "      <td>NaN</td>\n",
              "      <td>S</td>\n",
              "    </tr>\n",
              "    <tr>\n",
              "      <th>1</th>\n",
              "      <td>2</td>\n",
              "      <td>1</td>\n",
              "      <td>1</td>\n",
              "      <td>Cumings, Mrs. John Bradley (Florence Briggs Th...</td>\n",
              "      <td>female</td>\n",
              "      <td>38.0</td>\n",
              "      <td>1</td>\n",
              "      <td>0</td>\n",
              "      <td>PC 17599</td>\n",
              "      <td>71.2833</td>\n",
              "      <td>C85</td>\n",
              "      <td>C</td>\n",
              "    </tr>\n",
              "    <tr>\n",
              "      <th>2</th>\n",
              "      <td>3</td>\n",
              "      <td>1</td>\n",
              "      <td>3</td>\n",
              "      <td>Heikkinen, Miss. Laina</td>\n",
              "      <td>female</td>\n",
              "      <td>26.0</td>\n",
              "      <td>0</td>\n",
              "      <td>0</td>\n",
              "      <td>STON/O2. 3101282</td>\n",
              "      <td>7.9250</td>\n",
              "      <td>NaN</td>\n",
              "      <td>S</td>\n",
              "    </tr>\n",
              "    <tr>\n",
              "      <th>3</th>\n",
              "      <td>4</td>\n",
              "      <td>1</td>\n",
              "      <td>1</td>\n",
              "      <td>Futrelle, Mrs. Jacques Heath (Lily May Peel)</td>\n",
              "      <td>female</td>\n",
              "      <td>35.0</td>\n",
              "      <td>1</td>\n",
              "      <td>0</td>\n",
              "      <td>113803</td>\n",
              "      <td>53.1000</td>\n",
              "      <td>C123</td>\n",
              "      <td>S</td>\n",
              "    </tr>\n",
              "    <tr>\n",
              "      <th>4</th>\n",
              "      <td>5</td>\n",
              "      <td>0</td>\n",
              "      <td>3</td>\n",
              "      <td>Allen, Mr. William Henry</td>\n",
              "      <td>male</td>\n",
              "      <td>35.0</td>\n",
              "      <td>0</td>\n",
              "      <td>0</td>\n",
              "      <td>373450</td>\n",
              "      <td>8.0500</td>\n",
              "      <td>NaN</td>\n",
              "      <td>S</td>\n",
              "    </tr>\n",
              "  </tbody>\n",
              "</table>\n",
              "</div>"
            ],
            "text/plain": [
              "   PassengerId  Survived  Pclass  ...     Fare Cabin  Embarked\n",
              "0            1         0       3  ...   7.2500   NaN         S\n",
              "1            2         1       1  ...  71.2833   C85         C\n",
              "2            3         1       3  ...   7.9250   NaN         S\n",
              "3            4         1       1  ...  53.1000  C123         S\n",
              "4            5         0       3  ...   8.0500   NaN         S\n",
              "\n",
              "[5 rows x 12 columns]"
            ]
          },
          "metadata": {
            "tags": []
          },
          "execution_count": 3
        }
      ]
    },
    {
      "cell_type": "markdown",
      "metadata": {
        "id": "xyD_6NR00jTG"
      },
      "source": [
        "We'll perform some feature engineering\n",
        "\n",
        "Let's start by keeping only the columns we'd like to use for our analysis. Keep only the columns: Survived, Pclass, Sex, SibSp, Parch, and Embarked"
      ]
    },
    {
      "cell_type": "code",
      "metadata": {
        "id": "Lfp0XlLk0jTG",
        "outputId": "374bc0fa-7235-4f7a-dc64-b3bc646541b8",
        "colab": {
          "base_uri": "https://localhost:8080/"
        }
      },
      "source": [
        "# Answer below:\n",
        "titanic = titanic[['Survived', 'Pclass', 'SibSp', 'Sex', 'Parch', 'Embarked']]\n",
        "titanic.info()"
      ],
      "execution_count": 4,
      "outputs": [
        {
          "output_type": "stream",
          "text": [
            "<class 'pandas.core.frame.DataFrame'>\n",
            "RangeIndex: 891 entries, 0 to 890\n",
            "Data columns (total 6 columns):\n",
            " #   Column    Non-Null Count  Dtype \n",
            "---  ------    --------------  ----- \n",
            " 0   Survived  891 non-null    int64 \n",
            " 1   Pclass    891 non-null    int64 \n",
            " 2   SibSp     891 non-null    int64 \n",
            " 3   Sex       891 non-null    object\n",
            " 4   Parch     891 non-null    int64 \n",
            " 5   Embarked  889 non-null    object\n",
            "dtypes: int64(4), object(2)\n",
            "memory usage: 41.9+ KB\n"
          ],
          "name": "stdout"
        }
      ]
    },
    {
      "cell_type": "markdown",
      "metadata": {
        "id": "uvBUzjzG0jTI"
      },
      "source": [
        "Now examine how many rows contain missing data. Given how much missing data we have, should we remove the column with the most missing data, or remove all rows containing missing data? Do what you think is best."
      ]
    },
    {
      "cell_type": "code",
      "metadata": {
        "id": "PwnHzNjP0jTJ"
      },
      "source": [
        "# Answer below: \n",
        "# since 'Embarked' only has 3 missing values, we should just drop those rows\n",
        "\n",
        "titanic = titanic.dropna()\n"
      ],
      "execution_count": 5,
      "outputs": []
    },
    {
      "cell_type": "markdown",
      "metadata": {
        "id": "imTrmBpL0jTK"
      },
      "source": [
        "Now we'll create a one hot encoding of the variables Pclass, Sex, and Embarked"
      ]
    },
    {
      "cell_type": "code",
      "metadata": {
        "id": "SD_qCdv60jTL"
      },
      "source": [
        "# Answer below:\n",
        "titanic = pd.get_dummies(titanic, columns=['Pclass', 'Sex', 'Embarked'], drop_first=True)\n"
      ],
      "execution_count": 6,
      "outputs": []
    },
    {
      "cell_type": "code",
      "metadata": {
        "id": "g3zpzvrRs9l7",
        "outputId": "073e226a-ace1-4592-9f51-2104bbb55d0a",
        "colab": {
          "base_uri": "https://localhost:8080/"
        }
      },
      "source": [
        "titanic.info()"
      ],
      "execution_count": 7,
      "outputs": [
        {
          "output_type": "stream",
          "text": [
            "<class 'pandas.core.frame.DataFrame'>\n",
            "Int64Index: 889 entries, 0 to 890\n",
            "Data columns (total 8 columns):\n",
            " #   Column      Non-Null Count  Dtype\n",
            "---  ------      --------------  -----\n",
            " 0   Survived    889 non-null    int64\n",
            " 1   SibSp       889 non-null    int64\n",
            " 2   Parch       889 non-null    int64\n",
            " 3   Pclass_2    889 non-null    uint8\n",
            " 4   Pclass_3    889 non-null    uint8\n",
            " 5   Sex_male    889 non-null    uint8\n",
            " 6   Embarked_Q  889 non-null    uint8\n",
            " 7   Embarked_S  889 non-null    uint8\n",
            "dtypes: int64(3), uint8(5)\n",
            "memory usage: 32.1 KB\n"
          ],
          "name": "stdout"
        }
      ]
    },
    {
      "cell_type": "markdown",
      "metadata": {
        "id": "5vv2pncX0jTM"
      },
      "source": [
        "Split the data into train and test. 20% of the data should be set aside for testing. Use Survived as your target variable."
      ]
    },
    {
      "cell_type": "code",
      "metadata": {
        "id": "4DzzK0j-0jTN"
      },
      "source": [
        "# Answer below\n",
        "from sklearn.model_selection import train_test_split as tts \n",
        "X = titanic.drop(columns=['Survived'])\n",
        "y = titanic[['Survived']]\n",
        "\n",
        "X_train, X_test, y_train, y_test = tts(X, y, test_size=0.2)"
      ],
      "execution_count": 8,
      "outputs": []
    },
    {
      "cell_type": "code",
      "metadata": {
        "id": "eBUPUJQotfDj",
        "outputId": "ad4d9f0e-9f00-4986-ee3e-9966fc956ebb",
        "colab": {
          "base_uri": "https://localhost:8080/",
          "height": 204
        }
      },
      "source": [
        "X_train.head()"
      ],
      "execution_count": 9,
      "outputs": [
        {
          "output_type": "execute_result",
          "data": {
            "text/html": [
              "<div>\n",
              "<style scoped>\n",
              "    .dataframe tbody tr th:only-of-type {\n",
              "        vertical-align: middle;\n",
              "    }\n",
              "\n",
              "    .dataframe tbody tr th {\n",
              "        vertical-align: top;\n",
              "    }\n",
              "\n",
              "    .dataframe thead th {\n",
              "        text-align: right;\n",
              "    }\n",
              "</style>\n",
              "<table border=\"1\" class=\"dataframe\">\n",
              "  <thead>\n",
              "    <tr style=\"text-align: right;\">\n",
              "      <th></th>\n",
              "      <th>SibSp</th>\n",
              "      <th>Parch</th>\n",
              "      <th>Pclass_2</th>\n",
              "      <th>Pclass_3</th>\n",
              "      <th>Sex_male</th>\n",
              "      <th>Embarked_Q</th>\n",
              "      <th>Embarked_S</th>\n",
              "    </tr>\n",
              "  </thead>\n",
              "  <tbody>\n",
              "    <tr>\n",
              "      <th>443</th>\n",
              "      <td>0</td>\n",
              "      <td>0</td>\n",
              "      <td>1</td>\n",
              "      <td>0</td>\n",
              "      <td>0</td>\n",
              "      <td>0</td>\n",
              "      <td>1</td>\n",
              "    </tr>\n",
              "    <tr>\n",
              "      <th>639</th>\n",
              "      <td>1</td>\n",
              "      <td>0</td>\n",
              "      <td>0</td>\n",
              "      <td>1</td>\n",
              "      <td>1</td>\n",
              "      <td>0</td>\n",
              "      <td>1</td>\n",
              "    </tr>\n",
              "    <tr>\n",
              "      <th>213</th>\n",
              "      <td>0</td>\n",
              "      <td>0</td>\n",
              "      <td>1</td>\n",
              "      <td>0</td>\n",
              "      <td>1</td>\n",
              "      <td>0</td>\n",
              "      <td>1</td>\n",
              "    </tr>\n",
              "    <tr>\n",
              "      <th>323</th>\n",
              "      <td>1</td>\n",
              "      <td>1</td>\n",
              "      <td>1</td>\n",
              "      <td>0</td>\n",
              "      <td>0</td>\n",
              "      <td>0</td>\n",
              "      <td>1</td>\n",
              "    </tr>\n",
              "    <tr>\n",
              "      <th>386</th>\n",
              "      <td>5</td>\n",
              "      <td>2</td>\n",
              "      <td>0</td>\n",
              "      <td>1</td>\n",
              "      <td>1</td>\n",
              "      <td>0</td>\n",
              "      <td>1</td>\n",
              "    </tr>\n",
              "  </tbody>\n",
              "</table>\n",
              "</div>"
            ],
            "text/plain": [
              "     SibSp  Parch  Pclass_2  Pclass_3  Sex_male  Embarked_Q  Embarked_S\n",
              "443      0      0         1         0         0           0           1\n",
              "639      1      0         0         1         1           0           1\n",
              "213      0      0         1         0         1           0           1\n",
              "323      1      1         1         0         0           0           1\n",
              "386      5      2         0         1         1           0           1"
            ]
          },
          "metadata": {
            "tags": []
          },
          "execution_count": 9
        }
      ]
    },
    {
      "cell_type": "code",
      "metadata": {
        "id": "5YV4U01_t8IY",
        "outputId": "e7dc6a12-a7a2-4139-8242-49bd97e03749",
        "colab": {
          "base_uri": "https://localhost:8080/"
        }
      },
      "source": [
        "X_test.info()"
      ],
      "execution_count": 10,
      "outputs": [
        {
          "output_type": "stream",
          "text": [
            "<class 'pandas.core.frame.DataFrame'>\n",
            "Int64Index: 178 entries, 786 to 455\n",
            "Data columns (total 7 columns):\n",
            " #   Column      Non-Null Count  Dtype\n",
            "---  ------      --------------  -----\n",
            " 0   SibSp       178 non-null    int64\n",
            " 1   Parch       178 non-null    int64\n",
            " 2   Pclass_2    178 non-null    uint8\n",
            " 3   Pclass_3    178 non-null    uint8\n",
            " 4   Sex_male    178 non-null    uint8\n",
            " 5   Embarked_Q  178 non-null    uint8\n",
            " 6   Embarked_S  178 non-null    uint8\n",
            "dtypes: int64(2), uint8(5)\n",
            "memory usage: 5.0 KB\n"
          ],
          "name": "stdout"
        }
      ]
    },
    {
      "cell_type": "markdown",
      "metadata": {
        "id": "H-27Xq4M0jTP"
      },
      "source": [
        "At this point, we are ready to create a model. Import `Sequential` and `Dense` from Keras"
      ]
    },
    {
      "cell_type": "code",
      "metadata": {
        "id": "PDcPIuoD0jTP"
      },
      "source": [
        "# Answer below:\n",
        "from tensorflow.keras.models import Sequential\n",
        "from tensorflow.keras.layers import Dense\n"
      ],
      "execution_count": 11,
      "outputs": []
    },
    {
      "cell_type": "markdown",
      "metadata": {
        "id": "ub0uCwyH0jTR"
      },
      "source": [
        "Create a model with 5 layers. The first layer should be a dense layer that receives the input, the last layer should be of size 1. You determine the remaining layer sizes.\n",
        "\n",
        "Use a tanh activation for the output layer."
      ]
    },
    {
      "cell_type": "code",
      "metadata": {
        "id": "wSiTyR7D0jTR"
      },
      "source": [
        "# Answer below\n",
        "model1 = Sequential()\n",
        "\n",
        "# first layer, input\n",
        "model1.add(Dense(128, input_dim=X_train.shape[1], activation='relu'))\n",
        "\n",
        "# second layer\n",
        "model1.add(Dense(64, activation='relu'))\n",
        "\n",
        "# third layer\n",
        "model1.add(Dense(32, activation='relu'))\n",
        "\n",
        "# fourth layer\n",
        "model1.add(Dense(16, activation='relu'))\n",
        "\n",
        "# fifth layer, output\n",
        "model1.add(Dense(1, activation='tanh'))\n"
      ],
      "execution_count": 12,
      "outputs": []
    },
    {
      "cell_type": "code",
      "metadata": {
        "id": "EIWtwwYT0KVa",
        "outputId": "b3a70e6e-5cca-4b4f-e538-f2d2f9b8ade3",
        "colab": {
          "base_uri": "https://localhost:8080/"
        }
      },
      "source": [
        "model1.summary()"
      ],
      "execution_count": 13,
      "outputs": [
        {
          "output_type": "stream",
          "text": [
            "Model: \"sequential\"\n",
            "_________________________________________________________________\n",
            "Layer (type)                 Output Shape              Param #   \n",
            "=================================================================\n",
            "dense (Dense)                (None, 128)               1024      \n",
            "_________________________________________________________________\n",
            "dense_1 (Dense)              (None, 64)                8256      \n",
            "_________________________________________________________________\n",
            "dense_2 (Dense)              (None, 32)                2080      \n",
            "_________________________________________________________________\n",
            "dense_3 (Dense)              (None, 16)                528       \n",
            "_________________________________________________________________\n",
            "dense_4 (Dense)              (None, 1)                 17        \n",
            "=================================================================\n",
            "Total params: 11,905\n",
            "Trainable params: 11,905\n",
            "Non-trainable params: 0\n",
            "_________________________________________________________________\n"
          ],
          "name": "stdout"
        }
      ]
    },
    {
      "cell_type": "markdown",
      "metadata": {
        "id": "yh-Ely-K0jTT"
      },
      "source": [
        "Compile the model using the adam optimizer, binary crossentropy loss, and the accuracy metric.\n",
        "\n",
        "Fit the model using a batch size of 80 over 200 epochs."
      ]
    },
    {
      "cell_type": "code",
      "metadata": {
        "id": "lT-9MGP30jTT"
      },
      "source": [
        "# Answer below:\n",
        "model1.compile(optimizer='adam', loss='binary_crossentropy', metrics=['accuracy'])"
      ],
      "execution_count": 14,
      "outputs": []
    },
    {
      "cell_type": "code",
      "metadata": {
        "id": "DfhUlq0D2cOz"
      },
      "source": [
        "model1.fit(X_train, y_train, batch_size=80, epochs=200, verbose=2)"
      ],
      "execution_count": null,
      "outputs": []
    },
    {
      "cell_type": "code",
      "metadata": {
        "id": "rwExDUB128y2",
        "outputId": "4261e594-8379-4006-e010-f3900bd38dc8",
        "colab": {
          "base_uri": "https://localhost:8080/"
        }
      },
      "source": [
        "model1_score = model1.evaluate(X_test, y_test, verbose=2)\n",
        "\n",
        "print('Test score: ', model1_score[0])\n",
        "print('Test accuracy: ', model1_score[1])"
      ],
      "execution_count": 16,
      "outputs": [
        {
          "output_type": "stream",
          "text": [
            "6/6 - 0s - loss: 0.7716 - accuracy: 0.7697\n",
            "Test score:  0.7715847492218018\n",
            "Test accuracy:  0.7696629166603088\n"
          ],
          "name": "stdout"
        }
      ]
    },
    {
      "cell_type": "markdown",
      "metadata": {
        "id": "zsDsEJ0b0jTV"
      },
      "source": [
        "Redefine the model using a sigmoid activation for the last layer. What is the difference in accuracy."
      ]
    },
    {
      "cell_type": "code",
      "metadata": {
        "id": "RsbGU_gM0jTV"
      },
      "source": [
        "# Answer below\n",
        "# Answer below\n",
        "model2 = Sequential()\n",
        "\n",
        "# first layer, input\n",
        "model2.add(Dense(128, input_dim=X_train.shape[1], activation='relu'))\n",
        "\n",
        "# second layer\n",
        "model2.add(Dense(64, activation='relu'))\n",
        "\n",
        "# third layer\n",
        "model2.add(Dense(32, activation='relu'))\n",
        "\n",
        "# fourth layer\n",
        "model2.add(Dense(16, activation='relu'))\n",
        "\n",
        "# fifth layer, output\n",
        "model2.add(Dense(1, activation='sigmoid'))\n",
        "\n"
      ],
      "execution_count": 17,
      "outputs": []
    },
    {
      "cell_type": "code",
      "metadata": {
        "id": "m8BpyzL40jTX"
      },
      "source": [
        "model2.compile(optimizer='adam', loss='binary_crossentropy', metrics=['accuracy'])"
      ],
      "execution_count": 18,
      "outputs": []
    },
    {
      "cell_type": "code",
      "metadata": {
        "id": "vNnldxzO3mav"
      },
      "source": [
        "model2.fit(X_train, y_train, batch_size=80, epochs=200, verbose=2)"
      ],
      "execution_count": null,
      "outputs": []
    },
    {
      "cell_type": "code",
      "metadata": {
        "id": "cHrUg44k3Zyz",
        "outputId": "9b97c8a0-b26e-405c-9b90-17517e98ded3",
        "colab": {
          "base_uri": "https://localhost:8080/"
        }
      },
      "source": [
        "model2_score = model2.evaluate(X_test, y_test, verbose=2)\n",
        "\n",
        "print('Test score: ', model2_score[0])\n",
        "print('Test accuracy: ', model2_score[1])"
      ],
      "execution_count": 20,
      "outputs": [
        {
          "output_type": "stream",
          "text": [
            "6/6 - 0s - loss: 0.5198 - accuracy: 0.7921\n",
            "Test score:  0.5197842121124268\n",
            "Test accuracy:  0.7921348214149475\n"
          ],
          "name": "stdout"
        }
      ]
    },
    {
      "cell_type": "code",
      "metadata": {
        "id": "y-vyrIJy9o9b"
      },
      "source": [
        ""
      ],
      "execution_count": 20,
      "outputs": []
    },
    {
      "cell_type": "code",
      "metadata": {
        "id": "rtEmFEoE3eaL",
        "outputId": "075b99d4-74cf-4876-c923-9e8ee2bd2a81",
        "colab": {
          "base_uri": "https://localhost:8080/"
        }
      },
      "source": [
        "import tensorflow\n",
        "print(tensorflow.__version__)\n"
      ],
      "execution_count": 21,
      "outputs": [
        {
          "output_type": "stream",
          "text": [
            "2.3.0\n"
          ],
          "name": "stdout"
        }
      ]
    },
    {
      "cell_type": "code",
      "metadata": {
        "id": "sLpl9c0q_HRK"
      },
      "source": [
        ""
      ],
      "execution_count": 21,
      "outputs": []
    }
  ]
}