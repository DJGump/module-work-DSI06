{
 "cells": [
  {
   "cell_type": "code",
   "execution_count": 1,
   "metadata": {},
   "outputs": [
    {
     "data": {
      "application/javascript": [
       "\n",
       "            setTimeout(function() {\n",
       "                var nbb_cell_id = 1;\n",
       "                var nbb_unformatted_code = \"%reload_ext nb_black\";\n",
       "                var nbb_formatted_code = \"%reload_ext nb_black\";\n",
       "                var nbb_cells = Jupyter.notebook.get_cells();\n",
       "                for (var i = 0; i < nbb_cells.length; ++i) {\n",
       "                    if (nbb_cells[i].input_prompt_number == nbb_cell_id) {\n",
       "                        if (nbb_cells[i].get_text() == nbb_unformatted_code) {\n",
       "                             nbb_cells[i].set_text(nbb_formatted_code);\n",
       "                        }\n",
       "                        break;\n",
       "                    }\n",
       "                }\n",
       "            }, 500);\n",
       "            "
      ],
      "text/plain": [
       "<IPython.core.display.Javascript object>"
      ]
     },
     "metadata": {},
     "output_type": "display_data"
    }
   ],
   "source": [
    "%reload_ext nb_black"
   ]
  },
  {
   "cell_type": "code",
   "execution_count": 2,
   "metadata": {},
   "outputs": [
    {
     "data": {
      "application/javascript": [
       "\n",
       "            setTimeout(function() {\n",
       "                var nbb_cell_id = 2;\n",
       "                var nbb_unformatted_code = \"import pandas as pd\\nimport numpy as np\\nimport seaborn as sns\\nimport matplotlib.pyplot as plt\\n\\n%matplotlib inline\\n\\ndata_url = \\\"https://tf-assets-prod.s3.amazonaws.com/tf-curric/data-science/Data%20Sets%20Clustering/nba_player_seasons.csv\\\"\";\n",
       "                var nbb_formatted_code = \"import pandas as pd\\nimport numpy as np\\nimport seaborn as sns\\nimport matplotlib.pyplot as plt\\n\\n%matplotlib inline\\n\\ndata_url = \\\"https://tf-assets-prod.s3.amazonaws.com/tf-curric/data-science/Data%20Sets%20Clustering/nba_player_seasons.csv\\\"\";\n",
       "                var nbb_cells = Jupyter.notebook.get_cells();\n",
       "                for (var i = 0; i < nbb_cells.length; ++i) {\n",
       "                    if (nbb_cells[i].input_prompt_number == nbb_cell_id) {\n",
       "                        if (nbb_cells[i].get_text() == nbb_unformatted_code) {\n",
       "                             nbb_cells[i].set_text(nbb_formatted_code);\n",
       "                        }\n",
       "                        break;\n",
       "                    }\n",
       "                }\n",
       "            }, 500);\n",
       "            "
      ],
      "text/plain": [
       "<IPython.core.display.Javascript object>"
      ]
     },
     "metadata": {},
     "output_type": "display_data"
    }
   ],
   "source": [
    "import pandas as pd\n",
    "import numpy as np\n",
    "import seaborn as sns\n",
    "import matplotlib.pyplot as plt\n",
    "\n",
    "%matplotlib inline\n",
    "\n",
    "data_url = \"https://tf-assets-prod.s3.amazonaws.com/tf-curric/data-science/Data%20Sets%20Clustering/nba_player_seasons.csv\""
   ]
  },
  {
   "cell_type": "markdown",
   "metadata": {},
   "source": [
    "* Read the data located at `data_url` into a `pandas` dataframe\n",
    "* A dictionary of the column name abbreviations can be found [here](https://www.basketball-reference.com/about/glossary.html)"
   ]
  },
  {
   "cell_type": "code",
   "execution_count": 3,
   "metadata": {
    "hideOutput": true
   },
   "outputs": [
    {
     "data": {
      "application/javascript": [
       "\n",
       "            setTimeout(function() {\n",
       "                var nbb_cell_id = 3;\n",
       "                var nbb_unformatted_code = \"nba = pd.read_csv(data_url)\";\n",
       "                var nbb_formatted_code = \"nba = pd.read_csv(data_url)\";\n",
       "                var nbb_cells = Jupyter.notebook.get_cells();\n",
       "                for (var i = 0; i < nbb_cells.length; ++i) {\n",
       "                    if (nbb_cells[i].input_prompt_number == nbb_cell_id) {\n",
       "                        if (nbb_cells[i].get_text() == nbb_unformatted_code) {\n",
       "                             nbb_cells[i].set_text(nbb_formatted_code);\n",
       "                        }\n",
       "                        break;\n",
       "                    }\n",
       "                }\n",
       "            }, 500);\n",
       "            "
      ],
      "text/plain": [
       "<IPython.core.display.Javascript object>"
      ]
     },
     "metadata": {},
     "output_type": "display_data"
    }
   ],
   "source": [
    "nba = pd.read_csv(data_url)"
   ]
  },
  {
   "cell_type": "markdown",
   "metadata": {},
   "source": [
    "Get to know the data, what things should we explore?\n",
    "\n",
    "* List of things I must insist we explore (the rest is up to you)\n",
    "  * The number of rows/columns\n",
    "  * The datatypes of each column\n",
    "  "
   ]
  },
  {
   "cell_type": "code",
   "execution_count": 4,
   "metadata": {},
   "outputs": [
    {
     "data": {
      "text/html": [
       "<div>\n",
       "<style scoped>\n",
       "    .dataframe tbody tr th:only-of-type {\n",
       "        vertical-align: middle;\n",
       "    }\n",
       "\n",
       "    .dataframe tbody tr th {\n",
       "        vertical-align: top;\n",
       "    }\n",
       "\n",
       "    .dataframe thead th {\n",
       "        text-align: right;\n",
       "    }\n",
       "</style>\n",
       "<table border=\"1\" class=\"dataframe\">\n",
       "  <thead>\n",
       "    <tr style=\"text-align: right;\">\n",
       "      <th></th>\n",
       "      <th>Seas</th>\n",
       "      <th>Player</th>\n",
       "      <th>Pos</th>\n",
       "      <th>Age</th>\n",
       "      <th>Tm</th>\n",
       "      <th>G</th>\n",
       "      <th>GS</th>\n",
       "      <th>MP</th>\n",
       "      <th>FG</th>\n",
       "      <th>FGA</th>\n",
       "      <th>...</th>\n",
       "      <th>FT%</th>\n",
       "      <th>ORB</th>\n",
       "      <th>DRB</th>\n",
       "      <th>TRB</th>\n",
       "      <th>AST</th>\n",
       "      <th>STL</th>\n",
       "      <th>BLK</th>\n",
       "      <th>TOV</th>\n",
       "      <th>PF</th>\n",
       "      <th>PTS</th>\n",
       "    </tr>\n",
       "  </thead>\n",
       "  <tbody>\n",
       "    <tr>\n",
       "      <th>0</th>\n",
       "      <td>2019</td>\n",
       "      <td>Álex Abrines</td>\n",
       "      <td>SG</td>\n",
       "      <td>25</td>\n",
       "      <td>OKC</td>\n",
       "      <td>31</td>\n",
       "      <td>2</td>\n",
       "      <td>19.0</td>\n",
       "      <td>1.8</td>\n",
       "      <td>5.1</td>\n",
       "      <td>...</td>\n",
       "      <td>0.923</td>\n",
       "      <td>0.2</td>\n",
       "      <td>1.4</td>\n",
       "      <td>1.5</td>\n",
       "      <td>0.6</td>\n",
       "      <td>0.5</td>\n",
       "      <td>0.2</td>\n",
       "      <td>0.5</td>\n",
       "      <td>1.7</td>\n",
       "      <td>5.3</td>\n",
       "    </tr>\n",
       "    <tr>\n",
       "      <th>1</th>\n",
       "      <td>2019</td>\n",
       "      <td>Quincy Acy</td>\n",
       "      <td>PF</td>\n",
       "      <td>28</td>\n",
       "      <td>PHO</td>\n",
       "      <td>10</td>\n",
       "      <td>0</td>\n",
       "      <td>12.3</td>\n",
       "      <td>0.4</td>\n",
       "      <td>1.8</td>\n",
       "      <td>...</td>\n",
       "      <td>0.700</td>\n",
       "      <td>0.3</td>\n",
       "      <td>2.2</td>\n",
       "      <td>2.5</td>\n",
       "      <td>0.8</td>\n",
       "      <td>0.1</td>\n",
       "      <td>0.4</td>\n",
       "      <td>0.4</td>\n",
       "      <td>2.4</td>\n",
       "      <td>1.7</td>\n",
       "    </tr>\n",
       "  </tbody>\n",
       "</table>\n",
       "<p>2 rows × 30 columns</p>\n",
       "</div>"
      ],
      "text/plain": [
       "   Seas        Player Pos  Age   Tm   G  GS    MP   FG  FGA  ...    FT%  ORB  \\\n",
       "0  2019  Álex Abrines  SG   25  OKC  31   2  19.0  1.8  5.1  ...  0.923  0.2   \n",
       "1  2019    Quincy Acy  PF   28  PHO  10   0  12.3  0.4  1.8  ...  0.700  0.3   \n",
       "\n",
       "   DRB  TRB  AST  STL  BLK  TOV   PF  PTS  \n",
       "0  1.4  1.5  0.6  0.5  0.2  0.5  1.7  5.3  \n",
       "1  2.2  2.5  0.8  0.1  0.4  0.4  2.4  1.7  \n",
       "\n",
       "[2 rows x 30 columns]"
      ]
     },
     "execution_count": 4,
     "metadata": {},
     "output_type": "execute_result"
    },
    {
     "data": {
      "application/javascript": [
       "\n",
       "            setTimeout(function() {\n",
       "                var nbb_cell_id = 4;\n",
       "                var nbb_unformatted_code = \"nba.head(2)\";\n",
       "                var nbb_formatted_code = \"nba.head(2)\";\n",
       "                var nbb_cells = Jupyter.notebook.get_cells();\n",
       "                for (var i = 0; i < nbb_cells.length; ++i) {\n",
       "                    if (nbb_cells[i].input_prompt_number == nbb_cell_id) {\n",
       "                        if (nbb_cells[i].get_text() == nbb_unformatted_code) {\n",
       "                             nbb_cells[i].set_text(nbb_formatted_code);\n",
       "                        }\n",
       "                        break;\n",
       "                    }\n",
       "                }\n",
       "            }, 500);\n",
       "            "
      ],
      "text/plain": [
       "<IPython.core.display.Javascript object>"
      ]
     },
     "metadata": {},
     "output_type": "display_data"
    }
   ],
   "source": [
    "nba.head(2)"
   ]
  },
  {
   "cell_type": "code",
   "execution_count": 5,
   "metadata": {},
   "outputs": [
    {
     "data": {
      "text/plain": [
       "(2141, 30)"
      ]
     },
     "execution_count": 5,
     "metadata": {},
     "output_type": "execute_result"
    },
    {
     "data": {
      "application/javascript": [
       "\n",
       "            setTimeout(function() {\n",
       "                var nbb_cell_id = 5;\n",
       "                var nbb_unformatted_code = \"# (n_rows, n_cols)\\n# (height, width)\\nnba.shape\";\n",
       "                var nbb_formatted_code = \"# (n_rows, n_cols)\\n# (height, width)\\nnba.shape\";\n",
       "                var nbb_cells = Jupyter.notebook.get_cells();\n",
       "                for (var i = 0; i < nbb_cells.length; ++i) {\n",
       "                    if (nbb_cells[i].input_prompt_number == nbb_cell_id) {\n",
       "                        if (nbb_cells[i].get_text() == nbb_unformatted_code) {\n",
       "                             nbb_cells[i].set_text(nbb_formatted_code);\n",
       "                        }\n",
       "                        break;\n",
       "                    }\n",
       "                }\n",
       "            }, 500);\n",
       "            "
      ],
      "text/plain": [
       "<IPython.core.display.Javascript object>"
      ]
     },
     "metadata": {},
     "output_type": "display_data"
    }
   ],
   "source": [
    "# (n_rows, n_cols)\n",
    "# (height, width)\n",
    "nba.shape"
   ]
  },
  {
   "cell_type": "code",
   "execution_count": 6,
   "metadata": {},
   "outputs": [
    {
     "name": "stdout",
     "output_type": "stream",
     "text": [
      "<class 'pandas.core.frame.DataFrame'>\n",
      "RangeIndex: 2141 entries, 0 to 2140\n",
      "Data columns (total 30 columns):\n",
      "Seas      2141 non-null int64\n",
      "Player    2141 non-null object\n",
      "Pos       2141 non-null object\n",
      "Age       2141 non-null int64\n",
      "Tm        2141 non-null object\n",
      "G         2141 non-null int64\n",
      "GS        2141 non-null int64\n",
      "MP        2141 non-null float64\n",
      "FG        2141 non-null float64\n",
      "FGA       2141 non-null float64\n",
      "FG%       2131 non-null float64\n",
      "3P        2141 non-null float64\n",
      "3PA       2141 non-null float64\n",
      "3P%       1967 non-null float64\n",
      "2P        2141 non-null float64\n",
      "2PA       2141 non-null float64\n",
      "2P%       2110 non-null float64\n",
      "eFG%      2131 non-null float64\n",
      "FT        2141 non-null float64\n",
      "FTA       2141 non-null float64\n",
      "FT%       2037 non-null float64\n",
      "ORB       2141 non-null float64\n",
      "DRB       2141 non-null float64\n",
      "TRB       2141 non-null float64\n",
      "AST       2141 non-null float64\n",
      "STL       2141 non-null float64\n",
      "BLK       2141 non-null float64\n",
      "TOV       2141 non-null float64\n",
      "PF        2141 non-null float64\n",
      "PTS       2141 non-null float64\n",
      "dtypes: float64(23), int64(4), object(3)\n",
      "memory usage: 501.9+ KB\n"
     ]
    },
    {
     "data": {
      "application/javascript": [
       "\n",
       "            setTimeout(function() {\n",
       "                var nbb_cell_id = 6;\n",
       "                var nbb_unformatted_code = \"nba.info()\";\n",
       "                var nbb_formatted_code = \"nba.info()\";\n",
       "                var nbb_cells = Jupyter.notebook.get_cells();\n",
       "                for (var i = 0; i < nbb_cells.length; ++i) {\n",
       "                    if (nbb_cells[i].input_prompt_number == nbb_cell_id) {\n",
       "                        if (nbb_cells[i].get_text() == nbb_unformatted_code) {\n",
       "                             nbb_cells[i].set_text(nbb_formatted_code);\n",
       "                        }\n",
       "                        break;\n",
       "                    }\n",
       "                }\n",
       "            }, 500);\n",
       "            "
      ],
      "text/plain": [
       "<IPython.core.display.Javascript object>"
      ]
     },
     "metadata": {},
     "output_type": "display_data"
    }
   ],
   "source": [
    "nba.info()"
   ]
  },
  {
   "cell_type": "markdown",
   "metadata": {},
   "source": [
    "## What is a 'typical' number of the points column (`'PTS'`)?\n",
    "\n",
    "Present your answer(s) with proof:\n",
    "* numerically\n",
    "  * generate at least 2 summary metrics that can be thought of as 'typical'\n",
    "* graphically\n",
    "  * what plot type might we use?\n",
    "  * add your numeric values to the plot"
   ]
  },
  {
   "cell_type": "code",
   "execution_count": 7,
   "metadata": {},
   "outputs": [
    {
     "data": {
      "text/plain": [
       "8.32190565156469"
      ]
     },
     "execution_count": 7,
     "metadata": {},
     "output_type": "execute_result"
    },
    {
     "data": {
      "application/javascript": [
       "\n",
       "            setTimeout(function() {\n",
       "                var nbb_cell_id = 7;\n",
       "                var nbb_unformatted_code = \"avg = nba[\\\"PTS\\\"].mean()\\navg\";\n",
       "                var nbb_formatted_code = \"avg = nba[\\\"PTS\\\"].mean()\\navg\";\n",
       "                var nbb_cells = Jupyter.notebook.get_cells();\n",
       "                for (var i = 0; i < nbb_cells.length; ++i) {\n",
       "                    if (nbb_cells[i].input_prompt_number == nbb_cell_id) {\n",
       "                        if (nbb_cells[i].get_text() == nbb_unformatted_code) {\n",
       "                             nbb_cells[i].set_text(nbb_formatted_code);\n",
       "                        }\n",
       "                        break;\n",
       "                    }\n",
       "                }\n",
       "            }, 500);\n",
       "            "
      ],
      "text/plain": [
       "<IPython.core.display.Javascript object>"
      ]
     },
     "metadata": {},
     "output_type": "display_data"
    }
   ],
   "source": [
    "avg = nba[\"PTS\"].mean()\n",
    "avg"
   ]
  },
  {
   "cell_type": "code",
   "execution_count": 8,
   "metadata": {},
   "outputs": [
    {
     "data": {
      "text/plain": [
       "6.9"
      ]
     },
     "execution_count": 8,
     "metadata": {},
     "output_type": "execute_result"
    },
    {
     "data": {
      "application/javascript": [
       "\n",
       "            setTimeout(function() {\n",
       "                var nbb_cell_id = 8;\n",
       "                var nbb_unformatted_code = \"med = nba[\\\"PTS\\\"].median()\\nmed\";\n",
       "                var nbb_formatted_code = \"med = nba[\\\"PTS\\\"].median()\\nmed\";\n",
       "                var nbb_cells = Jupyter.notebook.get_cells();\n",
       "                for (var i = 0; i < nbb_cells.length; ++i) {\n",
       "                    if (nbb_cells[i].input_prompt_number == nbb_cell_id) {\n",
       "                        if (nbb_cells[i].get_text() == nbb_unformatted_code) {\n",
       "                             nbb_cells[i].set_text(nbb_formatted_code);\n",
       "                        }\n",
       "                        break;\n",
       "                    }\n",
       "                }\n",
       "            }, 500);\n",
       "            "
      ],
      "text/plain": [
       "<IPython.core.display.Javascript object>"
      ]
     },
     "metadata": {},
     "output_type": "display_data"
    }
   ],
   "source": [
    "med = nba[\"PTS\"].median()\n",
    "med"
   ]
  },
  {
   "cell_type": "code",
   "execution_count": 9,
   "metadata": {},
   "outputs": [
    {
     "data": {
      "text/plain": [
       "5"
      ]
     },
     "execution_count": 9,
     "metadata": {},
     "output_type": "execute_result"
    },
    {
     "data": {
      "application/javascript": [
       "\n",
       "            setTimeout(function() {\n",
       "                var nbb_cell_id = 9;\n",
       "                var nbb_unformatted_code = \"mode = nba[\\\"PTS\\\"].astype(int).mode()\\n\\n# .mode() returns a series\\n# this is to pull out first item of series for easy plotting\\nmode = mode[0]\\nmode\";\n",
       "                var nbb_formatted_code = \"mode = nba[\\\"PTS\\\"].astype(int).mode()\\n\\n# .mode() returns a series\\n# this is to pull out first item of series for easy plotting\\nmode = mode[0]\\nmode\";\n",
       "                var nbb_cells = Jupyter.notebook.get_cells();\n",
       "                for (var i = 0; i < nbb_cells.length; ++i) {\n",
       "                    if (nbb_cells[i].input_prompt_number == nbb_cell_id) {\n",
       "                        if (nbb_cells[i].get_text() == nbb_unformatted_code) {\n",
       "                             nbb_cells[i].set_text(nbb_formatted_code);\n",
       "                        }\n",
       "                        break;\n",
       "                    }\n",
       "                }\n",
       "            }, 500);\n",
       "            "
      ],
      "text/plain": [
       "<IPython.core.display.Javascript object>"
      ]
     },
     "metadata": {},
     "output_type": "display_data"
    }
   ],
   "source": [
    "mode = nba[\"PTS\"].astype(int).mode()\n",
    "\n",
    "# .mode() returns a series\n",
    "# this is to pull out first item of series for easy plotting\n",
    "mode = mode[0]\n",
    "mode"
   ]
  },
  {
   "cell_type": "markdown",
   "metadata": {},
   "source": [
    "Graphically"
   ]
  },
  {
   "cell_type": "code",
   "execution_count": 10,
   "metadata": {},
   "outputs": [
    {
     "data": {
      "image/png": "[encoded data removed]",
      "text/plain": [
       "<Figure size 432x288 with 1 Axes>"
      ]
     },
     "metadata": {
      "needs_background": "light"
     },
     "output_type": "display_data"
    },
    {
     "data": {
      "application/javascript": [
       "\n",
       "            setTimeout(function() {\n",
       "                var nbb_cell_id = 10;\n",
       "                var nbb_unformatted_code = \"# Option 1: use matplotlib\\nplt.hist(nba[\\\"PTS\\\"])\\nplt.show()\";\n",
       "                var nbb_formatted_code = \"# Option 1: use matplotlib\\nplt.hist(nba[\\\"PTS\\\"])\\nplt.show()\";\n",
       "                var nbb_cells = Jupyter.notebook.get_cells();\n",
       "                for (var i = 0; i < nbb_cells.length; ++i) {\n",
       "                    if (nbb_cells[i].input_prompt_number == nbb_cell_id) {\n",
       "                        if (nbb_cells[i].get_text() == nbb_unformatted_code) {\n",
       "                             nbb_cells[i].set_text(nbb_formatted_code);\n",
       "                        }\n",
       "                        break;\n",
       "                    }\n",
       "                }\n",
       "            }, 500);\n",
       "            "
      ],
      "text/plain": [
       "<IPython.core.display.Javascript object>"
      ]
     },
     "metadata": {},
     "output_type": "display_data"
    }
   ],
   "source": [
    "# Option 1: use matplotlib\n",
    "plt.hist(nba[\"PTS\"])\n",
    "plt.show()"
   ]
  },
  {
   "cell_type": "code",
   "execution_count": 11,
   "metadata": {},
   "outputs": [
    {
     "data": {
      "image/png": "[encoded data removed]",
      "text/plain": [
       "<Figure size 432x288 with 1 Axes>"
      ]
     },
     "metadata": {
      "needs_background": "light"
     },
     "output_type": "display_data"
    },
    {
     "data": {
      "application/javascript": [
       "\n",
       "            setTimeout(function() {\n",
       "                var nbb_cell_id = 11;\n",
       "                var nbb_unformatted_code = \"# Option 2: use pandas\\nnba[\\\"PTS\\\"].hist()\\nplt.show()\";\n",
       "                var nbb_formatted_code = \"# Option 2: use pandas\\nnba[\\\"PTS\\\"].hist()\\nplt.show()\";\n",
       "                var nbb_cells = Jupyter.notebook.get_cells();\n",
       "                for (var i = 0; i < nbb_cells.length; ++i) {\n",
       "                    if (nbb_cells[i].input_prompt_number == nbb_cell_id) {\n",
       "                        if (nbb_cells[i].get_text() == nbb_unformatted_code) {\n",
       "                             nbb_cells[i].set_text(nbb_formatted_code);\n",
       "                        }\n",
       "                        break;\n",
       "                    }\n",
       "                }\n",
       "            }, 500);\n",
       "            "
      ],
      "text/plain": [
       "<IPython.core.display.Javascript object>"
      ]
     },
     "metadata": {},
     "output_type": "display_data"
    }
   ],
   "source": [
    "# Option 2: use pandas\n",
    "nba[\"PTS\"].hist()\n",
    "plt.show()"
   ]
  },
  {
   "cell_type": "code",
   "execution_count": 12,
   "metadata": {},
   "outputs": [
    {
     "data": {
      "image/png": "[encoded data removed]",
      "text/plain": [
       "<Figure size 432x288 with 1 Axes>"
      ]
     },
     "metadata": {
      "needs_background": "light"
     },
     "output_type": "display_data"
    },
    {
     "data": {
      "application/javascript": [
       "\n",
       "            setTimeout(function() {\n",
       "                var nbb_cell_id = 12;\n",
       "                var nbb_unformatted_code = \"# Option 3: use seaborn\\nsns.distplot(nba[\\\"PTS\\\"])\\nplt.show()\";\n",
       "                var nbb_formatted_code = \"# Option 3: use seaborn\\nsns.distplot(nba[\\\"PTS\\\"])\\nplt.show()\";\n",
       "                var nbb_cells = Jupyter.notebook.get_cells();\n",
       "                for (var i = 0; i < nbb_cells.length; ++i) {\n",
       "                    if (nbb_cells[i].input_prompt_number == nbb_cell_id) {\n",
       "                        if (nbb_cells[i].get_text() == nbb_unformatted_code) {\n",
       "                             nbb_cells[i].set_text(nbb_formatted_code);\n",
       "                        }\n",
       "                        break;\n",
       "                    }\n",
       "                }\n",
       "            }, 500);\n",
       "            "
      ],
      "text/plain": [
       "<IPython.core.display.Javascript object>"
      ]
     },
     "metadata": {},
     "output_type": "display_data"
    }
   ],
   "source": [
    "# Option 3: use seaborn\n",
    "sns.distplot(nba[\"PTS\"])\n",
    "plt.show()"
   ]
  },
  {
   "cell_type": "code",
   "execution_count": 13,
   "metadata": {},
   "outputs": [
    {
     "data": {
      "image/png": "[encoded data removed]",
      "text/plain": [
       "<Figure size 432x288 with 1 Axes>"
      ]
     },
     "metadata": {
      "needs_background": "light"
     },
     "output_type": "display_data"
    },
    {
     "data": {
      "application/javascript": [
       "\n",
       "            setTimeout(function() {\n",
       "                var nbb_cell_id = 13;\n",
       "                var nbb_unformatted_code = \"# Making it fancy by including our numeric measures\\nplt.hist(nba[\\\"PTS\\\"], bins=10)\\nplt.axvline(avg, c=\\\"red\\\", label=\\\"mean\\\")\\nplt.axvline(med, c=\\\"green\\\", label=\\\"median\\\")\\nplt.axvline(mode, c=\\\"orange\\\", label=\\\"mode (as int)\\\")\\nplt.legend()\\nplt.show()\";\n",
       "                var nbb_formatted_code = \"# Making it fancy by including our numeric measures\\nplt.hist(nba[\\\"PTS\\\"], bins=10)\\nplt.axvline(avg, c=\\\"red\\\", label=\\\"mean\\\")\\nplt.axvline(med, c=\\\"green\\\", label=\\\"median\\\")\\nplt.axvline(mode, c=\\\"orange\\\", label=\\\"mode (as int)\\\")\\nplt.legend()\\nplt.show()\";\n",
       "                var nbb_cells = Jupyter.notebook.get_cells();\n",
       "                for (var i = 0; i < nbb_cells.length; ++i) {\n",
       "                    if (nbb_cells[i].input_prompt_number == nbb_cell_id) {\n",
       "                        if (nbb_cells[i].get_text() == nbb_unformatted_code) {\n",
       "                             nbb_cells[i].set_text(nbb_formatted_code);\n",
       "                        }\n",
       "                        break;\n",
       "                    }\n",
       "                }\n",
       "            }, 500);\n",
       "            "
      ],
      "text/plain": [
       "<IPython.core.display.Javascript object>"
      ]
     },
     "metadata": {},
     "output_type": "display_data"
    }
   ],
   "source": [
    "# Making it fancy by including our numeric measures\n",
    "plt.hist(nba[\"PTS\"], bins=10)\n",
    "plt.axvline(avg, c=\"red\", label=\"mean\")\n",
    "plt.axvline(med, c=\"green\", label=\"median\")\n",
    "plt.axvline(mode, c=\"orange\", label=\"mode (as int)\")\n",
    "plt.legend()\n",
    "plt.show()"
   ]
  },
  {
   "cell_type": "markdown",
   "metadata": {},
   "source": [
    "A note about `sns.distplot` (and plots like it).  Just like a histogram or a bar plot, this '`distplot`' uses height to show which values are the most probable.  A histogram and barplot will often use counts to show how probable each value use (the taller, the more likely).\n",
    "\n",
    "A '`distplot`' is using a 'kernel density estimate' to show the probability density of each value rather than count.  The area under a probability distribution should sum to 1 by definition; so it can be surprising that in the below plot we see numbers greater than 1.\n",
    "\n",
    "Remember that area has more to it than height.  For example, in our plot we have rectangles who's area is modeled by `height * width`.  The width here is the missing piece for why we can have values greater than one.  You can think of this as a probability per unit rather than a raw probability. \n",
    "\n",
    "[Here](https://stats.stackexchange.com/a/4223/102646) is a great, more in depth explanation."
   ]
  },
  {
   "cell_type": "code",
   "execution_count": 14,
   "metadata": {},
   "outputs": [
    {
     "data": {
      "image/png": "[encoded data removed]",
      "text/plain": [
       "<Figure size 432x288 with 1 Axes>"
      ]
     },
     "metadata": {
      "needs_background": "light"
     },
     "output_type": "display_data"
    },
    {
     "data": {
      "application/javascript": [
       "\n",
       "            setTimeout(function() {\n",
       "                var nbb_cell_id = 14;\n",
       "                var nbb_unformatted_code = \"sns.distplot(nba[\\\"ORB\\\"])\\nplt.show()\";\n",
       "                var nbb_formatted_code = \"sns.distplot(nba[\\\"ORB\\\"])\\nplt.show()\";\n",
       "                var nbb_cells = Jupyter.notebook.get_cells();\n",
       "                for (var i = 0; i < nbb_cells.length; ++i) {\n",
       "                    if (nbb_cells[i].input_prompt_number == nbb_cell_id) {\n",
       "                        if (nbb_cells[i].get_text() == nbb_unformatted_code) {\n",
       "                             nbb_cells[i].set_text(nbb_formatted_code);\n",
       "                        }\n",
       "                        break;\n",
       "                    }\n",
       "                }\n",
       "            }, 500);\n",
       "            "
      ],
      "text/plain": [
       "<IPython.core.display.Javascript object>"
      ]
     },
     "metadata": {},
     "output_type": "display_data"
    }
   ],
   "source": [
    "sns.distplot(nba[\"ORB\"])\n",
    "plt.show()"
   ]
  },
  {
   "cell_type": "markdown",
   "metadata": {},
   "source": [
    "## What shot percentage stat has the most variation?\n",
    "\n",
    "Before we do that:\n",
    "* Create a dataframe that contains only the columns with `'%'` in the column name. Name this data frame `percents`"
   ]
  },
  {
   "cell_type": "code",
   "execution_count": 15,
   "metadata": {},
   "outputs": [
    {
     "data": {
      "application/javascript": [
       "\n",
       "            setTimeout(function() {\n",
       "                var nbb_cell_id = 15;\n",
       "                var nbb_unformatted_code = \"percents = nba.filter(like=\\\"%\\\")\";\n",
       "                var nbb_formatted_code = \"percents = nba.filter(like=\\\"%\\\")\";\n",
       "                var nbb_cells = Jupyter.notebook.get_cells();\n",
       "                for (var i = 0; i < nbb_cells.length; ++i) {\n",
       "                    if (nbb_cells[i].input_prompt_number == nbb_cell_id) {\n",
       "                        if (nbb_cells[i].get_text() == nbb_unformatted_code) {\n",
       "                             nbb_cells[i].set_text(nbb_formatted_code);\n",
       "                        }\n",
       "                        break;\n",
       "                    }\n",
       "                }\n",
       "            }, 500);\n",
       "            "
      ],
      "text/plain": [
       "<IPython.core.display.Javascript object>"
      ]
     },
     "metadata": {},
     "output_type": "display_data"
    }
   ],
   "source": [
    "percents = nba.filter(like=\"%\")"
   ]
  },
  {
   "cell_type": "markdown",
   "metadata": {},
   "source": [
    "* In this data we have missing values, the code below shows a count of missing values per column.  Can you explain why we'd have missing values here?"
   ]
  },
  {
   "cell_type": "code",
   "execution_count": 16,
   "metadata": {},
   "outputs": [
    {
     "data": {
      "text/plain": [
       "FG%      10\n",
       "3P%     174\n",
       "2P%      31\n",
       "eFG%     10\n",
       "FT%     104\n",
       "dtype: int64"
      ]
     },
     "execution_count": 16,
     "metadata": {},
     "output_type": "execute_result"
    },
    {
     "data": {
      "application/javascript": [
       "\n",
       "            setTimeout(function() {\n",
       "                var nbb_cell_id = 16;\n",
       "                var nbb_unformatted_code = \"percents.isna().sum()\";\n",
       "                var nbb_formatted_code = \"percents.isna().sum()\";\n",
       "                var nbb_cells = Jupyter.notebook.get_cells();\n",
       "                for (var i = 0; i < nbb_cells.length; ++i) {\n",
       "                    if (nbb_cells[i].input_prompt_number == nbb_cell_id) {\n",
       "                        if (nbb_cells[i].get_text() == nbb_unformatted_code) {\n",
       "                             nbb_cells[i].set_text(nbb_formatted_code);\n",
       "                        }\n",
       "                        break;\n",
       "                    }\n",
       "                }\n",
       "            }, 500);\n",
       "            "
      ],
      "text/plain": [
       "<IPython.core.display.Javascript object>"
      ]
     },
     "metadata": {},
     "output_type": "display_data"
    }
   ],
   "source": [
    "percents.isna().sum()"
   ]
  },
  {
   "cell_type": "markdown",
   "metadata": {},
   "source": [
    "* Drop NAs from this `percents` dataframe"
   ]
  },
  {
   "cell_type": "code",
   "execution_count": 17,
   "metadata": {},
   "outputs": [
    {
     "data": {
      "application/javascript": [
       "\n",
       "            setTimeout(function() {\n",
       "                var nbb_cell_id = 17;\n",
       "                var nbb_unformatted_code = \"percents = percents.dropna()\";\n",
       "                var nbb_formatted_code = \"percents = percents.dropna()\";\n",
       "                var nbb_cells = Jupyter.notebook.get_cells();\n",
       "                for (var i = 0; i < nbb_cells.length; ++i) {\n",
       "                    if (nbb_cells[i].input_prompt_number == nbb_cell_id) {\n",
       "                        if (nbb_cells[i].get_text() == nbb_unformatted_code) {\n",
       "                             nbb_cells[i].set_text(nbb_formatted_code);\n",
       "                        }\n",
       "                        break;\n",
       "                    }\n",
       "                }\n",
       "            }, 500);\n",
       "            "
      ],
      "text/plain": [
       "<IPython.core.display.Javascript object>"
      ]
     },
     "metadata": {},
     "output_type": "display_data"
    }
   ],
   "source": [
    "percents = percents.dropna()"
   ]
  },
  {
   "cell_type": "markdown",
   "metadata": {},
   "source": [
    "Back to the original question: What shot percentage stat has the most variation?\n",
    "\n",
    "* What metric(s) can we use for this?\n",
    "* What plot type(s) can we use to show this?"
   ]
  },
  {
   "cell_type": "code",
   "execution_count": 18,
   "metadata": {},
   "outputs": [
    {
     "data": {
      "text/html": [
       "<div>\n",
       "<style scoped>\n",
       "    .dataframe tbody tr th:only-of-type {\n",
       "        vertical-align: middle;\n",
       "    }\n",
       "\n",
       "    .dataframe tbody tr th {\n",
       "        vertical-align: top;\n",
       "    }\n",
       "\n",
       "    .dataframe thead th {\n",
       "        text-align: right;\n",
       "    }\n",
       "</style>\n",
       "<table border=\"1\" class=\"dataframe\">\n",
       "  <thead>\n",
       "    <tr style=\"text-align: right;\">\n",
       "      <th></th>\n",
       "      <th>FG%</th>\n",
       "      <th>3P%</th>\n",
       "      <th>2P%</th>\n",
       "      <th>eFG%</th>\n",
       "      <th>FT%</th>\n",
       "    </tr>\n",
       "  </thead>\n",
       "  <tbody>\n",
       "    <tr>\n",
       "      <th>count</th>\n",
       "      <td>1895.000000</td>\n",
       "      <td>1895.000000</td>\n",
       "      <td>1895.000000</td>\n",
       "      <td>1895.000000</td>\n",
       "      <td>1895.000000</td>\n",
       "    </tr>\n",
       "    <tr>\n",
       "      <th>mean</th>\n",
       "      <td>0.440527</td>\n",
       "      <td>0.306500</td>\n",
       "      <td>0.488995</td>\n",
       "      <td>0.499103</td>\n",
       "      <td>0.746859</td>\n",
       "    </tr>\n",
       "    <tr>\n",
       "      <th>std</th>\n",
       "      <td>0.075228</td>\n",
       "      <td>0.130273</td>\n",
       "      <td>0.087279</td>\n",
       "      <td>0.073780</td>\n",
       "      <td>0.130956</td>\n",
       "    </tr>\n",
       "    <tr>\n",
       "      <th>min</th>\n",
       "      <td>0.000000</td>\n",
       "      <td>0.000000</td>\n",
       "      <td>0.000000</td>\n",
       "      <td>0.000000</td>\n",
       "      <td>0.000000</td>\n",
       "    </tr>\n",
       "    <tr>\n",
       "      <th>25%</th>\n",
       "      <td>0.402000</td>\n",
       "      <td>0.276000</td>\n",
       "      <td>0.448000</td>\n",
       "      <td>0.467000</td>\n",
       "      <td>0.685000</td>\n",
       "    </tr>\n",
       "    <tr>\n",
       "      <th>50%</th>\n",
       "      <td>0.438000</td>\n",
       "      <td>0.336000</td>\n",
       "      <td>0.490000</td>\n",
       "      <td>0.504000</td>\n",
       "      <td>0.767000</td>\n",
       "    </tr>\n",
       "    <tr>\n",
       "      <th>75%</th>\n",
       "      <td>0.478000</td>\n",
       "      <td>0.375000</td>\n",
       "      <td>0.537000</td>\n",
       "      <td>0.540000</td>\n",
       "      <td>0.831000</td>\n",
       "    </tr>\n",
       "    <tr>\n",
       "      <th>max</th>\n",
       "      <td>0.750000</td>\n",
       "      <td>1.000000</td>\n",
       "      <td>1.000000</td>\n",
       "      <td>0.875000</td>\n",
       "      <td>1.000000</td>\n",
       "    </tr>\n",
       "  </tbody>\n",
       "</table>\n",
       "</div>"
      ],
      "text/plain": [
       "               FG%          3P%          2P%         eFG%          FT%\n",
       "count  1895.000000  1895.000000  1895.000000  1895.000000  1895.000000\n",
       "mean      0.440527     0.306500     0.488995     0.499103     0.746859\n",
       "std       0.075228     0.130273     0.087279     0.073780     0.130956\n",
       "min       0.000000     0.000000     0.000000     0.000000     0.000000\n",
       "25%       0.402000     0.276000     0.448000     0.467000     0.685000\n",
       "50%       0.438000     0.336000     0.490000     0.504000     0.767000\n",
       "75%       0.478000     0.375000     0.537000     0.540000     0.831000\n",
       "max       0.750000     1.000000     1.000000     0.875000     1.000000"
      ]
     },
     "execution_count": 18,
     "metadata": {},
     "output_type": "execute_result"
    },
    {
     "data": {
      "application/javascript": [
       "\n",
       "            setTimeout(function() {\n",
       "                var nbb_cell_id = 18;\n",
       "                var nbb_unformatted_code = \"percents.describe()\";\n",
       "                var nbb_formatted_code = \"percents.describe()\";\n",
       "                var nbb_cells = Jupyter.notebook.get_cells();\n",
       "                for (var i = 0; i < nbb_cells.length; ++i) {\n",
       "                    if (nbb_cells[i].input_prompt_number == nbb_cell_id) {\n",
       "                        if (nbb_cells[i].get_text() == nbb_unformatted_code) {\n",
       "                             nbb_cells[i].set_text(nbb_formatted_code);\n",
       "                        }\n",
       "                        break;\n",
       "                    }\n",
       "                }\n",
       "            }, 500);\n",
       "            "
      ],
      "text/plain": [
       "<IPython.core.display.Javascript object>"
      ]
     },
     "metadata": {},
     "output_type": "display_data"
    }
   ],
   "source": [
    "percents.describe()"
   ]
  },
  {
   "cell_type": "code",
   "execution_count": 19,
   "metadata": {},
   "outputs": [
    {
     "data": {
      "image/png": "[encoded data removed]",
      "text/plain": [
       "<Figure size 432x288 with 1 Axes>"
      ]
     },
     "metadata": {
      "needs_background": "light"
     },
     "output_type": "display_data"
    },
    {
     "data": {
      "application/javascript": [
       "\n",
       "            setTimeout(function() {\n",
       "                var nbb_cell_id = 19;\n",
       "                var nbb_unformatted_code = \"# IQR - inter quartile range\\n# Outliers - 1.5 * IQR away from median\\npercents.boxplot()\\nplt.show()\";\n",
       "                var nbb_formatted_code = \"# IQR - inter quartile range\\n# Outliers - 1.5 * IQR away from median\\npercents.boxplot()\\nplt.show()\";\n",
       "                var nbb_cells = Jupyter.notebook.get_cells();\n",
       "                for (var i = 0; i < nbb_cells.length; ++i) {\n",
       "                    if (nbb_cells[i].input_prompt_number == nbb_cell_id) {\n",
       "                        if (nbb_cells[i].get_text() == nbb_unformatted_code) {\n",
       "                             nbb_cells[i].set_text(nbb_formatted_code);\n",
       "                        }\n",
       "                        break;\n",
       "                    }\n",
       "                }\n",
       "            }, 500);\n",
       "            "
      ],
      "text/plain": [
       "<IPython.core.display.Javascript object>"
      ]
     },
     "metadata": {},
     "output_type": "display_data"
    }
   ],
   "source": [
    "# IQR - inter quartile range\n",
    "# Outliers - 1.5 * IQR away from median\n",
    "percents.boxplot()\n",
    "plt.show()"
   ]
  },
  {
   "cell_type": "markdown",
   "metadata": {},
   "source": [
    "----\n",
    "\n",
    "An aside about standard deviation"
   ]
  },
  {
   "cell_type": "code",
   "execution_count": 20,
   "metadata": {},
   "outputs": [
    {
     "data": {
      "application/javascript": [
       "\n",
       "            setTimeout(function() {\n",
       "                var nbb_cell_id = 20;\n",
       "                var nbb_unformatted_code = \"# Standard deviation is the\\n# average distance each observation is from the mean\\n\\n# if our data is\\nx = [1, 2, 3, 4, 5]\";\n",
       "                var nbb_formatted_code = \"# Standard deviation is the\\n# average distance each observation is from the mean\\n\\n# if our data is\\nx = [1, 2, 3, 4, 5]\";\n",
       "                var nbb_cells = Jupyter.notebook.get_cells();\n",
       "                for (var i = 0; i < nbb_cells.length; ++i) {\n",
       "                    if (nbb_cells[i].input_prompt_number == nbb_cell_id) {\n",
       "                        if (nbb_cells[i].get_text() == nbb_unformatted_code) {\n",
       "                             nbb_cells[i].set_text(nbb_formatted_code);\n",
       "                        }\n",
       "                        break;\n",
       "                    }\n",
       "                }\n",
       "            }, 500);\n",
       "            "
      ],
      "text/plain": [
       "<IPython.core.display.Javascript object>"
      ]
     },
     "metadata": {},
     "output_type": "display_data"
    }
   ],
   "source": [
    "# Standard deviation is the\n",
    "# average distance each observation is from the mean\n",
    "\n",
    "# if our data is\n",
    "x = [1, 2, 3, 4, 5]"
   ]
  },
  {
   "cell_type": "code",
   "execution_count": 21,
   "metadata": {},
   "outputs": [
    {
     "data": {
      "text/plain": [
       "3.0"
      ]
     },
     "execution_count": 21,
     "metadata": {},
     "output_type": "execute_result"
    },
    {
     "data": {
      "application/javascript": [
       "\n",
       "            setTimeout(function() {\n",
       "                var nbb_cell_id = 21;\n",
       "                var nbb_unformatted_code = \"# this makes our average\\navg = np.mean(x)\\navg\";\n",
       "                var nbb_formatted_code = \"# this makes our average\\navg = np.mean(x)\\navg\";\n",
       "                var nbb_cells = Jupyter.notebook.get_cells();\n",
       "                for (var i = 0; i < nbb_cells.length; ++i) {\n",
       "                    if (nbb_cells[i].input_prompt_number == nbb_cell_id) {\n",
       "                        if (nbb_cells[i].get_text() == nbb_unformatted_code) {\n",
       "                             nbb_cells[i].set_text(nbb_formatted_code);\n",
       "                        }\n",
       "                        break;\n",
       "                    }\n",
       "                }\n",
       "            }, 500);\n",
       "            "
      ],
      "text/plain": [
       "<IPython.core.display.Javascript object>"
      ]
     },
     "metadata": {},
     "output_type": "display_data"
    }
   ],
   "source": [
    "# this makes our average\n",
    "avg = np.mean(x)\n",
    "avg"
   ]
  },
  {
   "cell_type": "code",
   "execution_count": 22,
   "metadata": {},
   "outputs": [
    {
     "data": {
      "text/plain": [
       "array([ 2.,  1.,  0., -1., -2.])"
      ]
     },
     "execution_count": 22,
     "metadata": {},
     "output_type": "execute_result"
    },
    {
     "data": {
      "application/javascript": [
       "\n",
       "            setTimeout(function() {\n",
       "                var nbb_cell_id = 22;\n",
       "                var nbb_unformatted_code = \"# the distances from the mean are\\ndists = avg - x\\ndists\";\n",
       "                var nbb_formatted_code = \"# the distances from the mean are\\ndists = avg - x\\ndists\";\n",
       "                var nbb_cells = Jupyter.notebook.get_cells();\n",
       "                for (var i = 0; i < nbb_cells.length; ++i) {\n",
       "                    if (nbb_cells[i].input_prompt_number == nbb_cell_id) {\n",
       "                        if (nbb_cells[i].get_text() == nbb_unformatted_code) {\n",
       "                             nbb_cells[i].set_text(nbb_formatted_code);\n",
       "                        }\n",
       "                        break;\n",
       "                    }\n",
       "                }\n",
       "            }, 500);\n",
       "            "
      ],
      "text/plain": [
       "<IPython.core.display.Javascript object>"
      ]
     },
     "metadata": {},
     "output_type": "display_data"
    }
   ],
   "source": [
    "# the distances from the mean are\n",
    "dists = avg - x\n",
    "dists"
   ]
  },
  {
   "cell_type": "code",
   "execution_count": 23,
   "metadata": {},
   "outputs": [
    {
     "data": {
      "text/plain": [
       "array([4., 1., 0., 1., 4.])"
      ]
     },
     "execution_count": 23,
     "metadata": {},
     "output_type": "execute_result"
    },
    {
     "data": {
      "application/javascript": [
       "\n",
       "            setTimeout(function() {\n",
       "                var nbb_cell_id = 23;\n",
       "                var nbb_unformatted_code = \"# we dont want negatives here so we'll square these\\nsq_dists = dists ** 2\\nsq_dists\";\n",
       "                var nbb_formatted_code = \"# we dont want negatives here so we'll square these\\nsq_dists = dists ** 2\\nsq_dists\";\n",
       "                var nbb_cells = Jupyter.notebook.get_cells();\n",
       "                for (var i = 0; i < nbb_cells.length; ++i) {\n",
       "                    if (nbb_cells[i].input_prompt_number == nbb_cell_id) {\n",
       "                        if (nbb_cells[i].get_text() == nbb_unformatted_code) {\n",
       "                             nbb_cells[i].set_text(nbb_formatted_code);\n",
       "                        }\n",
       "                        break;\n",
       "                    }\n",
       "                }\n",
       "            }, 500);\n",
       "            "
      ],
      "text/plain": [
       "<IPython.core.display.Javascript object>"
      ]
     },
     "metadata": {},
     "output_type": "display_data"
    }
   ],
   "source": [
    "# we dont want negatives here so we'll square these\n",
    "sq_dists = dists ** 2\n",
    "sq_dists"
   ]
  },
  {
   "cell_type": "code",
   "execution_count": 24,
   "metadata": {},
   "outputs": [
    {
     "data": {
      "text/plain": [
       "2.0"
      ]
     },
     "execution_count": 24,
     "metadata": {},
     "output_type": "execute_result"
    },
    {
     "data": {
      "application/javascript": [
       "\n",
       "            setTimeout(function() {\n",
       "                var nbb_cell_id = 24;\n",
       "                var nbb_unformatted_code = \"# Now we'll take the average of these distances\\navg_sq_dist = np.mean(sq_dists)\\navg_sq_dist\";\n",
       "                var nbb_formatted_code = \"# Now we'll take the average of these distances\\navg_sq_dist = np.mean(sq_dists)\\navg_sq_dist\";\n",
       "                var nbb_cells = Jupyter.notebook.get_cells();\n",
       "                for (var i = 0; i < nbb_cells.length; ++i) {\n",
       "                    if (nbb_cells[i].input_prompt_number == nbb_cell_id) {\n",
       "                        if (nbb_cells[i].get_text() == nbb_unformatted_code) {\n",
       "                             nbb_cells[i].set_text(nbb_formatted_code);\n",
       "                        }\n",
       "                        break;\n",
       "                    }\n",
       "                }\n",
       "            }, 500);\n",
       "            "
      ],
      "text/plain": [
       "<IPython.core.display.Javascript object>"
      ]
     },
     "metadata": {},
     "output_type": "display_data"
    }
   ],
   "source": [
    "# Now we'll take the average of these distances\n",
    "avg_sq_dist = np.mean(sq_dists)\n",
    "avg_sq_dist"
   ]
  },
  {
   "cell_type": "code",
   "execution_count": 25,
   "metadata": {},
   "outputs": [
    {
     "data": {
      "text/plain": [
       "1.4142135623730951"
      ]
     },
     "execution_count": 25,
     "metadata": {},
     "output_type": "execute_result"
    },
    {
     "data": {
      "application/javascript": [
       "\n",
       "            setTimeout(function() {\n",
       "                var nbb_cell_id = 25;\n",
       "                var nbb_unformatted_code = \"# we squared these numbers so now we want to undo that squaring\\n# and this is our standard deviation\\nnp.sqrt(avg_sq_dist)\";\n",
       "                var nbb_formatted_code = \"# we squared these numbers so now we want to undo that squaring\\n# and this is our standard deviation\\nnp.sqrt(avg_sq_dist)\";\n",
       "                var nbb_cells = Jupyter.notebook.get_cells();\n",
       "                for (var i = 0; i < nbb_cells.length; ++i) {\n",
       "                    if (nbb_cells[i].input_prompt_number == nbb_cell_id) {\n",
       "                        if (nbb_cells[i].get_text() == nbb_unformatted_code) {\n",
       "                             nbb_cells[i].set_text(nbb_formatted_code);\n",
       "                        }\n",
       "                        break;\n",
       "                    }\n",
       "                }\n",
       "            }, 500);\n",
       "            "
      ],
      "text/plain": [
       "<IPython.core.display.Javascript object>"
      ]
     },
     "metadata": {},
     "output_type": "display_data"
    }
   ],
   "source": [
    "# we squared these numbers so now we want to undo that squaring\n",
    "# and this is our standard deviation\n",
    "np.sqrt(avg_sq_dist)"
   ]
  },
  {
   "cell_type": "code",
   "execution_count": 26,
   "metadata": {},
   "outputs": [
    {
     "data": {
      "text/plain": [
       "1.4142135623730951"
      ]
     },
     "execution_count": 26,
     "metadata": {},
     "output_type": "execute_result"
    },
    {
     "data": {
      "application/javascript": [
       "\n",
       "            setTimeout(function() {\n",
       "                var nbb_cell_id = 26;\n",
       "                var nbb_unformatted_code = \"# Confirm that this is the same number\\nnp.std(x)\";\n",
       "                var nbb_formatted_code = \"# Confirm that this is the same number\\nnp.std(x)\";\n",
       "                var nbb_cells = Jupyter.notebook.get_cells();\n",
       "                for (var i = 0; i < nbb_cells.length; ++i) {\n",
       "                    if (nbb_cells[i].input_prompt_number == nbb_cell_id) {\n",
       "                        if (nbb_cells[i].get_text() == nbb_unformatted_code) {\n",
       "                             nbb_cells[i].set_text(nbb_formatted_code);\n",
       "                        }\n",
       "                        break;\n",
       "                    }\n",
       "                }\n",
       "            }, 500);\n",
       "            "
      ],
      "text/plain": [
       "<IPython.core.display.Javascript object>"
      ]
     },
     "metadata": {},
     "output_type": "display_data"
    }
   ],
   "source": [
    "# Confirm that this is the same number\n",
    "np.std(x)"
   ]
  },
  {
   "cell_type": "markdown",
   "metadata": {},
   "source": [
    "## Using `.describe()` with `pandas`\n",
    "\n",
    "* `.describe()` might have already come up depending on how we answered the above questions\n",
    "* Let's explore `.describe()`'s options using `?` and `help()`"
   ]
  },
  {
   "cell_type": "code",
   "execution_count": 27,
   "metadata": {},
   "outputs": [
    {
     "data": {
      "application/javascript": [
       "\n",
       "            setTimeout(function() {\n",
       "                var nbb_cell_id = 27;\n",
       "                var nbb_unformatted_code = \"# nba.describe?\\n# help(nba.describe)\";\n",
       "                var nbb_formatted_code = \"# nba.describe?\\n# help(nba.describe)\";\n",
       "                var nbb_cells = Jupyter.notebook.get_cells();\n",
       "                for (var i = 0; i < nbb_cells.length; ++i) {\n",
       "                    if (nbb_cells[i].input_prompt_number == nbb_cell_id) {\n",
       "                        if (nbb_cells[i].get_text() == nbb_unformatted_code) {\n",
       "                             nbb_cells[i].set_text(nbb_formatted_code);\n",
       "                        }\n",
       "                        break;\n",
       "                    }\n",
       "                }\n",
       "            }, 500);\n",
       "            "
      ],
      "text/plain": [
       "<IPython.core.display.Javascript object>"
      ]
     },
     "metadata": {},
     "output_type": "display_data"
    }
   ],
   "source": [
    "# nba.describe?\n",
    "# help(nba.describe)"
   ]
  },
  {
   "cell_type": "code",
   "execution_count": 28,
   "metadata": {},
   "outputs": [
    {
     "data": {
      "text/html": [
       "<div>\n",
       "<style scoped>\n",
       "    .dataframe tbody tr th:only-of-type {\n",
       "        vertical-align: middle;\n",
       "    }\n",
       "\n",
       "    .dataframe tbody tr th {\n",
       "        vertical-align: top;\n",
       "    }\n",
       "\n",
       "    .dataframe thead th {\n",
       "        text-align: right;\n",
       "    }\n",
       "</style>\n",
       "<table border=\"1\" class=\"dataframe\">\n",
       "  <thead>\n",
       "    <tr style=\"text-align: right;\">\n",
       "      <th></th>\n",
       "      <th>Seas</th>\n",
       "      <th>Age</th>\n",
       "      <th>G</th>\n",
       "      <th>GS</th>\n",
       "      <th>MP</th>\n",
       "      <th>FG</th>\n",
       "      <th>FGA</th>\n",
       "      <th>FG%</th>\n",
       "      <th>3P</th>\n",
       "      <th>3PA</th>\n",
       "      <th>...</th>\n",
       "      <th>FT%</th>\n",
       "      <th>ORB</th>\n",
       "      <th>DRB</th>\n",
       "      <th>TRB</th>\n",
       "      <th>AST</th>\n",
       "      <th>STL</th>\n",
       "      <th>BLK</th>\n",
       "      <th>TOV</th>\n",
       "      <th>PF</th>\n",
       "      <th>PTS</th>\n",
       "    </tr>\n",
       "  </thead>\n",
       "  <tbody>\n",
       "    <tr>\n",
       "      <th>count</th>\n",
       "      <td>2141.000000</td>\n",
       "      <td>2141.000000</td>\n",
       "      <td>2141.000000</td>\n",
       "      <td>2141.000000</td>\n",
       "      <td>2141.000000</td>\n",
       "      <td>2141.000000</td>\n",
       "      <td>2141.000000</td>\n",
       "      <td>2131.000000</td>\n",
       "      <td>2141.000000</td>\n",
       "      <td>2141.000000</td>\n",
       "      <td>...</td>\n",
       "      <td>2037.000000</td>\n",
       "      <td>2141.000000</td>\n",
       "      <td>2141.000000</td>\n",
       "      <td>2141.000000</td>\n",
       "      <td>2141.000000</td>\n",
       "      <td>2141.000000</td>\n",
       "      <td>2141.000000</td>\n",
       "      <td>2141.000000</td>\n",
       "      <td>2141.000000</td>\n",
       "      <td>2141.000000</td>\n",
       "    </tr>\n",
       "    <tr>\n",
       "      <th>mean</th>\n",
       "      <td>2017.524988</td>\n",
       "      <td>26.243811</td>\n",
       "      <td>50.024288</td>\n",
       "      <td>23.386735</td>\n",
       "      <td>19.544886</td>\n",
       "      <td>3.091546</td>\n",
       "      <td>6.852125</td>\n",
       "      <td>0.442891</td>\n",
       "      <td>0.786642</td>\n",
       "      <td>2.243765</td>\n",
       "      <td>...</td>\n",
       "      <td>0.738256</td>\n",
       "      <td>0.823867</td>\n",
       "      <td>2.700234</td>\n",
       "      <td>3.521392</td>\n",
       "      <td>1.827464</td>\n",
       "      <td>0.622933</td>\n",
       "      <td>0.391172</td>\n",
       "      <td>1.093087</td>\n",
       "      <td>1.691546</td>\n",
       "      <td>8.321906</td>\n",
       "    </tr>\n",
       "    <tr>\n",
       "      <th>std</th>\n",
       "      <td>1.090724</td>\n",
       "      <td>4.254340</td>\n",
       "      <td>26.213597</td>\n",
       "      <td>28.181984</td>\n",
       "      <td>9.134112</td>\n",
       "      <td>2.123561</td>\n",
       "      <td>4.482448</td>\n",
       "      <td>0.102834</td>\n",
       "      <td>0.766646</td>\n",
       "      <td>1.983399</td>\n",
       "      <td>...</td>\n",
       "      <td>0.141208</td>\n",
       "      <td>0.763566</td>\n",
       "      <td>1.824036</td>\n",
       "      <td>2.448152</td>\n",
       "      <td>1.735426</td>\n",
       "      <td>0.425366</td>\n",
       "      <td>0.431842</td>\n",
       "      <td>0.787578</td>\n",
       "      <td>0.771713</td>\n",
       "      <td>5.890566</td>\n",
       "    </tr>\n",
       "    <tr>\n",
       "      <th>min</th>\n",
       "      <td>2016.000000</td>\n",
       "      <td>19.000000</td>\n",
       "      <td>1.000000</td>\n",
       "      <td>0.000000</td>\n",
       "      <td>0.700000</td>\n",
       "      <td>0.000000</td>\n",
       "      <td>0.000000</td>\n",
       "      <td>0.000000</td>\n",
       "      <td>0.000000</td>\n",
       "      <td>0.000000</td>\n",
       "      <td>...</td>\n",
       "      <td>0.000000</td>\n",
       "      <td>0.000000</td>\n",
       "      <td>0.000000</td>\n",
       "      <td>0.000000</td>\n",
       "      <td>0.000000</td>\n",
       "      <td>0.000000</td>\n",
       "      <td>0.000000</td>\n",
       "      <td>0.000000</td>\n",
       "      <td>0.000000</td>\n",
       "      <td>0.000000</td>\n",
       "    </tr>\n",
       "    <tr>\n",
       "      <th>25%</th>\n",
       "      <td>2017.000000</td>\n",
       "      <td>23.000000</td>\n",
       "      <td>26.000000</td>\n",
       "      <td>0.000000</td>\n",
       "      <td>12.500000</td>\n",
       "      <td>1.500000</td>\n",
       "      <td>3.500000</td>\n",
       "      <td>0.401000</td>\n",
       "      <td>0.100000</td>\n",
       "      <td>0.600000</td>\n",
       "      <td>...</td>\n",
       "      <td>0.667000</td>\n",
       "      <td>0.300000</td>\n",
       "      <td>1.400000</td>\n",
       "      <td>1.800000</td>\n",
       "      <td>0.700000</td>\n",
       "      <td>0.300000</td>\n",
       "      <td>0.100000</td>\n",
       "      <td>0.500000</td>\n",
       "      <td>1.200000</td>\n",
       "      <td>4.000000</td>\n",
       "    </tr>\n",
       "    <tr>\n",
       "      <th>50%</th>\n",
       "      <td>2017.000000</td>\n",
       "      <td>26.000000</td>\n",
       "      <td>57.000000</td>\n",
       "      <td>8.000000</td>\n",
       "      <td>19.200000</td>\n",
       "      <td>2.600000</td>\n",
       "      <td>5.800000</td>\n",
       "      <td>0.440000</td>\n",
       "      <td>0.600000</td>\n",
       "      <td>1.800000</td>\n",
       "      <td>...</td>\n",
       "      <td>0.760000</td>\n",
       "      <td>0.600000</td>\n",
       "      <td>2.300000</td>\n",
       "      <td>3.000000</td>\n",
       "      <td>1.200000</td>\n",
       "      <td>0.500000</td>\n",
       "      <td>0.300000</td>\n",
       "      <td>0.900000</td>\n",
       "      <td>1.700000</td>\n",
       "      <td>6.900000</td>\n",
       "    </tr>\n",
       "    <tr>\n",
       "      <th>75%</th>\n",
       "      <td>2018.000000</td>\n",
       "      <td>29.000000</td>\n",
       "      <td>74.000000</td>\n",
       "      <td>45.000000</td>\n",
       "      <td>27.100000</td>\n",
       "      <td>4.300000</td>\n",
       "      <td>9.400000</td>\n",
       "      <td>0.489000</td>\n",
       "      <td>1.200000</td>\n",
       "      <td>3.500000</td>\n",
       "      <td>...</td>\n",
       "      <td>0.828000</td>\n",
       "      <td>1.100000</td>\n",
       "      <td>3.500000</td>\n",
       "      <td>4.600000</td>\n",
       "      <td>2.400000</td>\n",
       "      <td>0.900000</td>\n",
       "      <td>0.500000</td>\n",
       "      <td>1.500000</td>\n",
       "      <td>2.200000</td>\n",
       "      <td>11.400000</td>\n",
       "    </tr>\n",
       "    <tr>\n",
       "      <th>max</th>\n",
       "      <td>2019.000000</td>\n",
       "      <td>42.000000</td>\n",
       "      <td>82.000000</td>\n",
       "      <td>82.000000</td>\n",
       "      <td>42.000000</td>\n",
       "      <td>10.800000</td>\n",
       "      <td>24.500000</td>\n",
       "      <td>1.000000</td>\n",
       "      <td>5.100000</td>\n",
       "      <td>13.200000</td>\n",
       "      <td>...</td>\n",
       "      <td>1.000000</td>\n",
       "      <td>5.400000</td>\n",
       "      <td>11.100000</td>\n",
       "      <td>16.000000</td>\n",
       "      <td>11.700000</td>\n",
       "      <td>2.400000</td>\n",
       "      <td>6.000000</td>\n",
       "      <td>5.700000</td>\n",
       "      <td>6.000000</td>\n",
       "      <td>36.100000</td>\n",
       "    </tr>\n",
       "  </tbody>\n",
       "</table>\n",
       "<p>8 rows × 27 columns</p>\n",
       "</div>"
      ],
      "text/plain": [
       "              Seas          Age            G           GS           MP  \\\n",
       "count  2141.000000  2141.000000  2141.000000  2141.000000  2141.000000   \n",
       "mean   2017.524988    26.243811    50.024288    23.386735    19.544886   \n",
       "std       1.090724     4.254340    26.213597    28.181984     9.134112   \n",
       "min    2016.000000    19.000000     1.000000     0.000000     0.700000   \n",
       "25%    2017.000000    23.000000    26.000000     0.000000    12.500000   \n",
       "50%    2017.000000    26.000000    57.000000     8.000000    19.200000   \n",
       "75%    2018.000000    29.000000    74.000000    45.000000    27.100000   \n",
       "max    2019.000000    42.000000    82.000000    82.000000    42.000000   \n",
       "\n",
       "                FG          FGA          FG%           3P          3PA  ...  \\\n",
       "count  2141.000000  2141.000000  2131.000000  2141.000000  2141.000000  ...   \n",
       "mean      3.091546     6.852125     0.442891     0.786642     2.243765  ...   \n",
       "std       2.123561     4.482448     0.102834     0.766646     1.983399  ...   \n",
       "min       0.000000     0.000000     0.000000     0.000000     0.000000  ...   \n",
       "25%       1.500000     3.500000     0.401000     0.100000     0.600000  ...   \n",
       "50%       2.600000     5.800000     0.440000     0.600000     1.800000  ...   \n",
       "75%       4.300000     9.400000     0.489000     1.200000     3.500000  ...   \n",
       "max      10.800000    24.500000     1.000000     5.100000    13.200000  ...   \n",
       "\n",
       "               FT%          ORB          DRB          TRB          AST  \\\n",
       "count  2037.000000  2141.000000  2141.000000  2141.000000  2141.000000   \n",
       "mean      0.738256     0.823867     2.700234     3.521392     1.827464   \n",
       "std       0.141208     0.763566     1.824036     2.448152     1.735426   \n",
       "min       0.000000     0.000000     0.000000     0.000000     0.000000   \n",
       "25%       0.667000     0.300000     1.400000     1.800000     0.700000   \n",
       "50%       0.760000     0.600000     2.300000     3.000000     1.200000   \n",
       "75%       0.828000     1.100000     3.500000     4.600000     2.400000   \n",
       "max       1.000000     5.400000    11.100000    16.000000    11.700000   \n",
       "\n",
       "               STL          BLK          TOV           PF          PTS  \n",
       "count  2141.000000  2141.000000  2141.000000  2141.000000  2141.000000  \n",
       "mean      0.622933     0.391172     1.093087     1.691546     8.321906  \n",
       "std       0.425366     0.431842     0.787578     0.771713     5.890566  \n",
       "min       0.000000     0.000000     0.000000     0.000000     0.000000  \n",
       "25%       0.300000     0.100000     0.500000     1.200000     4.000000  \n",
       "50%       0.500000     0.300000     0.900000     1.700000     6.900000  \n",
       "75%       0.900000     0.500000     1.500000     2.200000    11.400000  \n",
       "max       2.400000     6.000000     5.700000     6.000000    36.100000  \n",
       "\n",
       "[8 rows x 27 columns]"
      ]
     },
     "execution_count": 28,
     "metadata": {},
     "output_type": "execute_result"
    },
    {
     "data": {
      "application/javascript": [
       "\n",
       "            setTimeout(function() {\n",
       "                var nbb_cell_id = 28;\n",
       "                var nbb_unformatted_code = \"nba.describe()\";\n",
       "                var nbb_formatted_code = \"nba.describe()\";\n",
       "                var nbb_cells = Jupyter.notebook.get_cells();\n",
       "                for (var i = 0; i < nbb_cells.length; ++i) {\n",
       "                    if (nbb_cells[i].input_prompt_number == nbb_cell_id) {\n",
       "                        if (nbb_cells[i].get_text() == nbb_unformatted_code) {\n",
       "                             nbb_cells[i].set_text(nbb_formatted_code);\n",
       "                        }\n",
       "                        break;\n",
       "                    }\n",
       "                }\n",
       "            }, 500);\n",
       "            "
      ],
      "text/plain": [
       "<IPython.core.display.Javascript object>"
      ]
     },
     "metadata": {},
     "output_type": "display_data"
    }
   ],
   "source": [
    "nba.describe()"
   ]
  },
  {
   "cell_type": "code",
   "execution_count": 29,
   "metadata": {
    "hideOutput": true
   },
   "outputs": [
    {
     "data": {
      "text/html": [
       "<div>\n",
       "<style scoped>\n",
       "    .dataframe tbody tr th:only-of-type {\n",
       "        vertical-align: middle;\n",
       "    }\n",
       "\n",
       "    .dataframe tbody tr th {\n",
       "        vertical-align: top;\n",
       "    }\n",
       "\n",
       "    .dataframe thead th {\n",
       "        text-align: right;\n",
       "    }\n",
       "</style>\n",
       "<table border=\"1\" class=\"dataframe\">\n",
       "  <thead>\n",
       "    <tr style=\"text-align: right;\">\n",
       "      <th></th>\n",
       "      <th>Player</th>\n",
       "      <th>Pos</th>\n",
       "      <th>Tm</th>\n",
       "    </tr>\n",
       "  </thead>\n",
       "  <tbody>\n",
       "    <tr>\n",
       "      <th>count</th>\n",
       "      <td>2141</td>\n",
       "      <td>2141</td>\n",
       "      <td>2141</td>\n",
       "    </tr>\n",
       "    <tr>\n",
       "      <th>unique</th>\n",
       "      <td>822</td>\n",
       "      <td>12</td>\n",
       "      <td>31</td>\n",
       "    </tr>\n",
       "    <tr>\n",
       "      <th>top</th>\n",
       "      <td>Omri Casspi</td>\n",
       "      <td>SG</td>\n",
       "      <td>TOT</td>\n",
       "    </tr>\n",
       "    <tr>\n",
       "      <th>freq</th>\n",
       "      <td>7</td>\n",
       "      <td>481</td>\n",
       "      <td>248</td>\n",
       "    </tr>\n",
       "  </tbody>\n",
       "</table>\n",
       "</div>"
      ],
      "text/plain": [
       "             Player   Pos    Tm\n",
       "count          2141  2141  2141\n",
       "unique          822    12    31\n",
       "top     Omri Casspi    SG   TOT\n",
       "freq              7   481   248"
      ]
     },
     "execution_count": 29,
     "metadata": {},
     "output_type": "execute_result"
    },
    {
     "data": {
      "application/javascript": [
       "\n",
       "            setTimeout(function() {\n",
       "                var nbb_cell_id = 29;\n",
       "                var nbb_unformatted_code = \"nba.describe(include=\\\"O\\\")\";\n",
       "                var nbb_formatted_code = \"nba.describe(include=\\\"O\\\")\";\n",
       "                var nbb_cells = Jupyter.notebook.get_cells();\n",
       "                for (var i = 0; i < nbb_cells.length; ++i) {\n",
       "                    if (nbb_cells[i].input_prompt_number == nbb_cell_id) {\n",
       "                        if (nbb_cells[i].get_text() == nbb_unformatted_code) {\n",
       "                             nbb_cells[i].set_text(nbb_formatted_code);\n",
       "                        }\n",
       "                        break;\n",
       "                    }\n",
       "                }\n",
       "            }, 500);\n",
       "            "
      ],
      "text/plain": [
       "<IPython.core.display.Javascript object>"
      ]
     },
     "metadata": {},
     "output_type": "display_data"
    }
   ],
   "source": [
    "nba.describe(include=\"O\")"
   ]
  },
  {
   "cell_type": "markdown",
   "metadata": {},
   "source": [
    "## Descriptive statistics with `groupby`\n",
    "\n",
    "Sometimes we want descriptive statistics grouped by a categorical column in our data.  For example, instead of the average of the `'PTS'` column for our full dataset, maybe we want to see the average of the `'PTS'` column for each player.\n",
    "\n",
    "* Calculate the average `'PTS'` grouped by `'Player'`"
   ]
  },
  {
   "cell_type": "code",
   "execution_count": 30,
   "metadata": {},
   "outputs": [
    {
     "data": {
      "text/html": [
       "<div>\n",
       "<style scoped>\n",
       "    .dataframe tbody tr th:only-of-type {\n",
       "        vertical-align: middle;\n",
       "    }\n",
       "\n",
       "    .dataframe tbody tr th {\n",
       "        vertical-align: top;\n",
       "    }\n",
       "\n",
       "    .dataframe thead th {\n",
       "        text-align: right;\n",
       "    }\n",
       "</style>\n",
       "<table border=\"1\" class=\"dataframe\">\n",
       "  <thead>\n",
       "    <tr style=\"text-align: right;\">\n",
       "      <th></th>\n",
       "      <th>PTS</th>\n",
       "    </tr>\n",
       "    <tr>\n",
       "      <th>Player</th>\n",
       "      <th></th>\n",
       "    </tr>\n",
       "  </thead>\n",
       "  <tbody>\n",
       "    <tr>\n",
       "      <th>A.J. Hammons</th>\n",
       "      <td>2.200000</td>\n",
       "    </tr>\n",
       "    <tr>\n",
       "      <th>Aaron Brooks</th>\n",
       "      <td>4.800000</td>\n",
       "    </tr>\n",
       "    <tr>\n",
       "      <th>Aaron Gordon</th>\n",
       "      <td>13.875000</td>\n",
       "    </tr>\n",
       "    <tr>\n",
       "      <th>Aaron Harrison</th>\n",
       "      <td>2.600000</td>\n",
       "    </tr>\n",
       "    <tr>\n",
       "      <th>Aaron Holiday</th>\n",
       "      <td>5.900000</td>\n",
       "    </tr>\n",
       "    <tr>\n",
       "      <th>...</th>\n",
       "      <td>...</td>\n",
       "    </tr>\n",
       "    <tr>\n",
       "      <th>Zhaire Smith</th>\n",
       "      <td>6.700000</td>\n",
       "    </tr>\n",
       "    <tr>\n",
       "      <th>Zhou Qi</th>\n",
       "      <td>1.600000</td>\n",
       "    </tr>\n",
       "    <tr>\n",
       "      <th>Álex Abrines</th>\n",
       "      <td>5.333333</td>\n",
       "    </tr>\n",
       "    <tr>\n",
       "      <th>Ángel Delgado</th>\n",
       "      <td>1.500000</td>\n",
       "    </tr>\n",
       "    <tr>\n",
       "      <th>Ömer Aşık</th>\n",
       "      <td>2.633333</td>\n",
       "    </tr>\n",
       "  </tbody>\n",
       "</table>\n",
       "<p>822 rows × 1 columns</p>\n",
       "</div>"
      ],
      "text/plain": [
       "                      PTS\n",
       "Player                   \n",
       "A.J. Hammons     2.200000\n",
       "Aaron Brooks     4.800000\n",
       "Aaron Gordon    13.875000\n",
       "Aaron Harrison   2.600000\n",
       "Aaron Holiday    5.900000\n",
       "...                   ...\n",
       "Zhaire Smith     6.700000\n",
       "Zhou Qi          1.600000\n",
       "Álex Abrines     5.333333\n",
       "Ángel Delgado    1.500000\n",
       "Ömer Aşık        2.633333\n",
       "\n",
       "[822 rows x 1 columns]"
      ]
     },
     "execution_count": 30,
     "metadata": {},
     "output_type": "execute_result"
    },
    {
     "data": {
      "application/javascript": [
       "\n",
       "            setTimeout(function() {\n",
       "                var nbb_cell_id = 30;\n",
       "                var nbb_unformatted_code = \"nba[[\\\"PTS\\\", \\\"Player\\\"]].groupby(\\\"Player\\\").mean()\";\n",
       "                var nbb_formatted_code = \"nba[[\\\"PTS\\\", \\\"Player\\\"]].groupby(\\\"Player\\\").mean()\";\n",
       "                var nbb_cells = Jupyter.notebook.get_cells();\n",
       "                for (var i = 0; i < nbb_cells.length; ++i) {\n",
       "                    if (nbb_cells[i].input_prompt_number == nbb_cell_id) {\n",
       "                        if (nbb_cells[i].get_text() == nbb_unformatted_code) {\n",
       "                             nbb_cells[i].set_text(nbb_formatted_code);\n",
       "                        }\n",
       "                        break;\n",
       "                    }\n",
       "                }\n",
       "            }, 500);\n",
       "            "
      ],
      "text/plain": [
       "<IPython.core.display.Javascript object>"
      ]
     },
     "metadata": {},
     "output_type": "display_data"
    }
   ],
   "source": [
    "nba[[\"PTS\", \"Player\"]].groupby(\"Player\").mean()"
   ]
  },
  {
   "cell_type": "code",
   "execution_count": 31,
   "metadata": {},
   "outputs": [
    {
     "data": {
      "text/html": [
       "<div>\n",
       "<style scoped>\n",
       "    .dataframe tbody tr th:only-of-type {\n",
       "        vertical-align: middle;\n",
       "    }\n",
       "\n",
       "    .dataframe tbody tr th {\n",
       "        vertical-align: top;\n",
       "    }\n",
       "\n",
       "    .dataframe thead tr th {\n",
       "        text-align: left;\n",
       "    }\n",
       "\n",
       "    .dataframe thead tr:last-of-type th {\n",
       "        text-align: right;\n",
       "    }\n",
       "</style>\n",
       "<table border=\"1\" class=\"dataframe\">\n",
       "  <thead>\n",
       "    <tr>\n",
       "      <th></th>\n",
       "      <th colspan=\"3\" halign=\"left\">PTS</th>\n",
       "    </tr>\n",
       "    <tr>\n",
       "      <th></th>\n",
       "      <th>mean</th>\n",
       "      <th>median</th>\n",
       "      <th>count</th>\n",
       "    </tr>\n",
       "    <tr>\n",
       "      <th>Player</th>\n",
       "      <th></th>\n",
       "      <th></th>\n",
       "      <th></th>\n",
       "    </tr>\n",
       "  </thead>\n",
       "  <tbody>\n",
       "    <tr>\n",
       "      <th>A.J. Hammons</th>\n",
       "      <td>2.200000</td>\n",
       "      <td>2.20</td>\n",
       "      <td>1</td>\n",
       "    </tr>\n",
       "    <tr>\n",
       "      <th>Aaron Brooks</th>\n",
       "      <td>4.800000</td>\n",
       "      <td>5.00</td>\n",
       "      <td>3</td>\n",
       "    </tr>\n",
       "    <tr>\n",
       "      <th>Aaron Gordon</th>\n",
       "      <td>13.875000</td>\n",
       "      <td>14.35</td>\n",
       "      <td>4</td>\n",
       "    </tr>\n",
       "    <tr>\n",
       "      <th>Aaron Harrison</th>\n",
       "      <td>2.600000</td>\n",
       "      <td>0.90</td>\n",
       "      <td>3</td>\n",
       "    </tr>\n",
       "    <tr>\n",
       "      <th>Aaron Holiday</th>\n",
       "      <td>5.900000</td>\n",
       "      <td>5.90</td>\n",
       "      <td>1</td>\n",
       "    </tr>\n",
       "    <tr>\n",
       "      <th>...</th>\n",
       "      <td>...</td>\n",
       "      <td>...</td>\n",
       "      <td>...</td>\n",
       "    </tr>\n",
       "    <tr>\n",
       "      <th>Zhaire Smith</th>\n",
       "      <td>6.700000</td>\n",
       "      <td>6.70</td>\n",
       "      <td>1</td>\n",
       "    </tr>\n",
       "    <tr>\n",
       "      <th>Zhou Qi</th>\n",
       "      <td>1.600000</td>\n",
       "      <td>1.60</td>\n",
       "      <td>2</td>\n",
       "    </tr>\n",
       "    <tr>\n",
       "      <th>Álex Abrines</th>\n",
       "      <td>5.333333</td>\n",
       "      <td>5.30</td>\n",
       "      <td>3</td>\n",
       "    </tr>\n",
       "    <tr>\n",
       "      <th>Ángel Delgado</th>\n",
       "      <td>1.500000</td>\n",
       "      <td>1.50</td>\n",
       "      <td>1</td>\n",
       "    </tr>\n",
       "    <tr>\n",
       "      <th>Ömer Aşık</th>\n",
       "      <td>2.633333</td>\n",
       "      <td>2.70</td>\n",
       "      <td>3</td>\n",
       "    </tr>\n",
       "  </tbody>\n",
       "</table>\n",
       "<p>822 rows × 3 columns</p>\n",
       "</div>"
      ],
      "text/plain": [
       "                      PTS             \n",
       "                     mean median count\n",
       "Player                                \n",
       "A.J. Hammons     2.200000   2.20     1\n",
       "Aaron Brooks     4.800000   5.00     3\n",
       "Aaron Gordon    13.875000  14.35     4\n",
       "Aaron Harrison   2.600000   0.90     3\n",
       "Aaron Holiday    5.900000   5.90     1\n",
       "...                   ...    ...   ...\n",
       "Zhaire Smith     6.700000   6.70     1\n",
       "Zhou Qi          1.600000   1.60     2\n",
       "Álex Abrines     5.333333   5.30     3\n",
       "Ángel Delgado    1.500000   1.50     1\n",
       "Ömer Aşık        2.633333   2.70     3\n",
       "\n",
       "[822 rows x 3 columns]"
      ]
     },
     "execution_count": 31,
     "metadata": {},
     "output_type": "execute_result"
    },
    {
     "data": {
      "application/javascript": [
       "\n",
       "            setTimeout(function() {\n",
       "                var nbb_cell_id = 31;\n",
       "                var nbb_unformatted_code = \"aggs = {\\\"PTS\\\": [\\\"mean\\\", \\\"median\\\", \\\"count\\\"]}\\nnba.groupby(\\\"Player\\\").agg(aggs)\";\n",
       "                var nbb_formatted_code = \"aggs = {\\\"PTS\\\": [\\\"mean\\\", \\\"median\\\", \\\"count\\\"]}\\nnba.groupby(\\\"Player\\\").agg(aggs)\";\n",
       "                var nbb_cells = Jupyter.notebook.get_cells();\n",
       "                for (var i = 0; i < nbb_cells.length; ++i) {\n",
       "                    if (nbb_cells[i].input_prompt_number == nbb_cell_id) {\n",
       "                        if (nbb_cells[i].get_text() == nbb_unformatted_code) {\n",
       "                             nbb_cells[i].set_text(nbb_formatted_code);\n",
       "                        }\n",
       "                        break;\n",
       "                    }\n",
       "                }\n",
       "            }, 500);\n",
       "            "
      ],
      "text/plain": [
       "<IPython.core.display.Javascript object>"
      ]
     },
     "metadata": {},
     "output_type": "display_data"
    }
   ],
   "source": [
    "aggs = {\"PTS\": [\"mean\", \"median\", \"count\"]}\n",
    "nba.groupby(\"Player\").agg(aggs)"
   ]
  },
  {
   "cell_type": "markdown",
   "metadata": {},
   "source": [
    "* Calculate the average, standard deviation, and count of `'PTS'` for each `'Tm'` (team)\n",
    "* Sort this output in descending order by average points"
   ]
  },
  {
   "cell_type": "code",
   "execution_count": null,
   "metadata": {},
   "outputs": [],
   "source": []
  },
  {
   "cell_type": "markdown",
   "metadata": {},
   "source": [
    "## Correlations\n",
    "\n",
    "If we want to explore relationships between 2 numeric columns we might use a correlation.  The correlation between 2 numeric columns ranges between `[-1, 1]`.\n",
    "\n",
    "* A correlation of -1 is a strong negative correlation\n",
    "  * For example, `amount of money spent` and `amount of money saved` would be negatively correlated.  As the `amount of money spent` goes up the `amount of money saved` would go down and vice versa.\n",
    "* A correlation of 0 is a weak correlation\n",
    "  * For example, the `number of words in the harry potter books` and the `number of arrests in costa rica` are likely not very related.\n",
    "* A correlation of 1 is a strong positive correlation\n",
    "  * For example, `amount of ice cream sold` and `temperature` are likely positively correlated.  As the `temperature` goes up the `amount of ice cream sold` likely goes up as well.\n",
    "  \n",
    "Note the classic phrase: \"correlation does not equal causation\".  Just because 2 things are related doesn't mean one thing causes the other ([this site](https://www.tylervigen.com/spurious-correlations) has examples of correlations that are 'spurious' that is, the 2 variables appear related, but they likely aren't).\n",
    "\n",
    "To run a correlation on a `pandas` dataframe we can use `.corr()`.\n",
    "\n",
    "* Apply `.corr()` to our dataframe\n",
    "* What numeric variables are related? is this a positive or negative relationship?"
   ]
  },
  {
   "cell_type": "code",
   "execution_count": 32,
   "metadata": {},
   "outputs": [
    {
     "data": {
      "text/html": [
       "<div>\n",
       "<style scoped>\n",
       "    .dataframe tbody tr th:only-of-type {\n",
       "        vertical-align: middle;\n",
       "    }\n",
       "\n",
       "    .dataframe tbody tr th {\n",
       "        vertical-align: top;\n",
       "    }\n",
       "\n",
       "    .dataframe thead th {\n",
       "        text-align: right;\n",
       "    }\n",
       "</style>\n",
       "<table border=\"1\" class=\"dataframe\">\n",
       "  <thead>\n",
       "    <tr style=\"text-align: right;\">\n",
       "      <th></th>\n",
       "      <th>Seas</th>\n",
       "      <th>Age</th>\n",
       "      <th>G</th>\n",
       "      <th>GS</th>\n",
       "      <th>MP</th>\n",
       "      <th>FG</th>\n",
       "      <th>FGA</th>\n",
       "      <th>FG%</th>\n",
       "      <th>3P</th>\n",
       "      <th>3PA</th>\n",
       "      <th>...</th>\n",
       "      <th>FT%</th>\n",
       "      <th>ORB</th>\n",
       "      <th>DRB</th>\n",
       "      <th>TRB</th>\n",
       "      <th>AST</th>\n",
       "      <th>STL</th>\n",
       "      <th>BLK</th>\n",
       "      <th>TOV</th>\n",
       "      <th>PF</th>\n",
       "      <th>PTS</th>\n",
       "    </tr>\n",
       "  </thead>\n",
       "  <tbody>\n",
       "    <tr>\n",
       "      <th>Seas</th>\n",
       "      <td>1.000000</td>\n",
       "      <td>-0.062238</td>\n",
       "      <td>-0.065330</td>\n",
       "      <td>-0.025641</td>\n",
       "      <td>-0.031789</td>\n",
       "      <td>0.013417</td>\n",
       "      <td>0.006816</td>\n",
       "      <td>0.000030</td>\n",
       "      <td>0.087017</td>\n",
       "      <td>0.099947</td>\n",
       "      <td>...</td>\n",
       "      <td>-0.014709</td>\n",
       "      <td>-0.020887</td>\n",
       "      <td>0.001723</td>\n",
       "      <td>-0.004785</td>\n",
       "      <td>0.023485</td>\n",
       "      <td>-0.023243</td>\n",
       "      <td>-0.022399</td>\n",
       "      <td>-0.031567</td>\n",
       "      <td>-0.011657</td>\n",
       "      <td>0.015206</td>\n",
       "    </tr>\n",
       "    <tr>\n",
       "      <th>Age</th>\n",
       "      <td>-0.062238</td>\n",
       "      <td>1.000000</td>\n",
       "      <td>0.097129</td>\n",
       "      <td>0.052577</td>\n",
       "      <td>0.102553</td>\n",
       "      <td>0.044669</td>\n",
       "      <td>0.048297</td>\n",
       "      <td>0.033019</td>\n",
       "      <td>0.125774</td>\n",
       "      <td>0.111453</td>\n",
       "      <td>...</td>\n",
       "      <td>0.160941</td>\n",
       "      <td>-0.027973</td>\n",
       "      <td>0.061908</td>\n",
       "      <td>0.037276</td>\n",
       "      <td>0.119455</td>\n",
       "      <td>0.042097</td>\n",
       "      <td>-0.027747</td>\n",
       "      <td>0.041575</td>\n",
       "      <td>0.053632</td>\n",
       "      <td>0.056049</td>\n",
       "    </tr>\n",
       "    <tr>\n",
       "      <th>G</th>\n",
       "      <td>-0.065330</td>\n",
       "      <td>0.097129</td>\n",
       "      <td>1.000000</td>\n",
       "      <td>0.612957</td>\n",
       "      <td>0.661538</td>\n",
       "      <td>0.553311</td>\n",
       "      <td>0.534116</td>\n",
       "      <td>0.242256</td>\n",
       "      <td>0.386091</td>\n",
       "      <td>0.378769</td>\n",
       "      <td>...</td>\n",
       "      <td>0.211229</td>\n",
       "      <td>0.327509</td>\n",
       "      <td>0.503013</td>\n",
       "      <td>0.477054</td>\n",
       "      <td>0.380723</td>\n",
       "      <td>0.466113</td>\n",
       "      <td>0.298136</td>\n",
       "      <td>0.449151</td>\n",
       "      <td>0.522548</td>\n",
       "      <td>0.541657</td>\n",
       "    </tr>\n",
       "    <tr>\n",
       "      <th>GS</th>\n",
       "      <td>-0.025641</td>\n",
       "      <td>0.052577</td>\n",
       "      <td>0.612957</td>\n",
       "      <td>1.000000</td>\n",
       "      <td>0.792136</td>\n",
       "      <td>0.745068</td>\n",
       "      <td>0.724638</td>\n",
       "      <td>0.191149</td>\n",
       "      <td>0.457519</td>\n",
       "      <td>0.453447</td>\n",
       "      <td>...</td>\n",
       "      <td>0.155701</td>\n",
       "      <td>0.427616</td>\n",
       "      <td>0.653866</td>\n",
       "      <td>0.620516</td>\n",
       "      <td>0.529564</td>\n",
       "      <td>0.603101</td>\n",
       "      <td>0.402793</td>\n",
       "      <td>0.639407</td>\n",
       "      <td>0.572896</td>\n",
       "      <td>0.733619</td>\n",
       "    </tr>\n",
       "    <tr>\n",
       "      <th>MP</th>\n",
       "      <td>-0.031789</td>\n",
       "      <td>0.102553</td>\n",
       "      <td>0.661538</td>\n",
       "      <td>0.792136</td>\n",
       "      <td>1.000000</td>\n",
       "      <td>0.882428</td>\n",
       "      <td>0.892086</td>\n",
       "      <td>0.187641</td>\n",
       "      <td>0.633855</td>\n",
       "      <td>0.643484</td>\n",
       "      <td>...</td>\n",
       "      <td>0.243376</td>\n",
       "      <td>0.404076</td>\n",
       "      <td>0.716963</td>\n",
       "      <td>0.660156</td>\n",
       "      <td>0.666038</td>\n",
       "      <td>0.752456</td>\n",
       "      <td>0.399975</td>\n",
       "      <td>0.771876</td>\n",
       "      <td>0.738177</td>\n",
       "      <td>0.878088</td>\n",
       "    </tr>\n",
       "    <tr>\n",
       "      <th>FG</th>\n",
       "      <td>0.013417</td>\n",
       "      <td>0.044669</td>\n",
       "      <td>0.553311</td>\n",
       "      <td>0.745068</td>\n",
       "      <td>0.882428</td>\n",
       "      <td>1.000000</td>\n",
       "      <td>0.977415</td>\n",
       "      <td>0.269365</td>\n",
       "      <td>0.603180</td>\n",
       "      <td>0.602737</td>\n",
       "      <td>...</td>\n",
       "      <td>0.240059</td>\n",
       "      <td>0.423060</td>\n",
       "      <td>0.714617</td>\n",
       "      <td>0.664341</td>\n",
       "      <td>0.658155</td>\n",
       "      <td>0.657515</td>\n",
       "      <td>0.414233</td>\n",
       "      <td>0.822773</td>\n",
       "      <td>0.621798</td>\n",
       "      <td>0.988321</td>\n",
       "    </tr>\n",
       "    <tr>\n",
       "      <th>FGA</th>\n",
       "      <td>0.006816</td>\n",
       "      <td>0.048297</td>\n",
       "      <td>0.534116</td>\n",
       "      <td>0.724638</td>\n",
       "      <td>0.892086</td>\n",
       "      <td>0.977415</td>\n",
       "      <td>1.000000</td>\n",
       "      <td>0.122950</td>\n",
       "      <td>0.688483</td>\n",
       "      <td>0.705278</td>\n",
       "      <td>...</td>\n",
       "      <td>0.289490</td>\n",
       "      <td>0.305598</td>\n",
       "      <td>0.648234</td>\n",
       "      <td>0.578278</td>\n",
       "      <td>0.697330</td>\n",
       "      <td>0.679482</td>\n",
       "      <td>0.319624</td>\n",
       "      <td>0.833114</td>\n",
       "      <td>0.591889</td>\n",
       "      <td>0.981857</td>\n",
       "    </tr>\n",
       "    <tr>\n",
       "      <th>FG%</th>\n",
       "      <td>0.000030</td>\n",
       "      <td>0.033019</td>\n",
       "      <td>0.242256</td>\n",
       "      <td>0.191149</td>\n",
       "      <td>0.187641</td>\n",
       "      <td>0.269365</td>\n",
       "      <td>0.122950</td>\n",
       "      <td>1.000000</td>\n",
       "      <td>-0.087120</td>\n",
       "      <td>-0.158779</td>\n",
       "      <td>...</td>\n",
       "      <td>-0.172114</td>\n",
       "      <td>0.444472</td>\n",
       "      <td>0.327856</td>\n",
       "      <td>0.383189</td>\n",
       "      <td>0.024695</td>\n",
       "      <td>0.083110</td>\n",
       "      <td>0.380842</td>\n",
       "      <td>0.136760</td>\n",
       "      <td>0.301600</td>\n",
       "      <td>0.219191</td>\n",
       "    </tr>\n",
       "    <tr>\n",
       "      <th>3P</th>\n",
       "      <td>0.087017</td>\n",
       "      <td>0.125774</td>\n",
       "      <td>0.386091</td>\n",
       "      <td>0.457519</td>\n",
       "      <td>0.633855</td>\n",
       "      <td>0.603180</td>\n",
       "      <td>0.688483</td>\n",
       "      <td>-0.087120</td>\n",
       "      <td>1.000000</td>\n",
       "      <td>0.981346</td>\n",
       "      <td>...</td>\n",
       "      <td>0.382406</td>\n",
       "      <td>-0.171448</td>\n",
       "      <td>0.236506</td>\n",
       "      <td>0.122438</td>\n",
       "      <td>0.484285</td>\n",
       "      <td>0.479714</td>\n",
       "      <td>-0.049588</td>\n",
       "      <td>0.479710</td>\n",
       "      <td>0.295673</td>\n",
       "      <td>0.668757</td>\n",
       "    </tr>\n",
       "    <tr>\n",
       "      <th>3PA</th>\n",
       "      <td>0.099947</td>\n",
       "      <td>0.111453</td>\n",
       "      <td>0.378769</td>\n",
       "      <td>0.453447</td>\n",
       "      <td>0.643484</td>\n",
       "      <td>0.602737</td>\n",
       "      <td>0.705278</td>\n",
       "      <td>-0.158779</td>\n",
       "      <td>0.981346</td>\n",
       "      <td>1.000000</td>\n",
       "      <td>...</td>\n",
       "      <td>0.380962</td>\n",
       "      <td>-0.185492</td>\n",
       "      <td>0.239172</td>\n",
       "      <td>0.119980</td>\n",
       "      <td>0.508577</td>\n",
       "      <td>0.499337</td>\n",
       "      <td>-0.058530</td>\n",
       "      <td>0.502603</td>\n",
       "      <td>0.300778</td>\n",
       "      <td>0.670108</td>\n",
       "    </tr>\n",
       "    <tr>\n",
       "      <th>3P%</th>\n",
       "      <td>0.042522</td>\n",
       "      <td>0.041905</td>\n",
       "      <td>0.154873</td>\n",
       "      <td>0.114623</td>\n",
       "      <td>0.215849</td>\n",
       "      <td>0.192664</td>\n",
       "      <td>0.217814</td>\n",
       "      <td>0.156971</td>\n",
       "      <td>0.478351</td>\n",
       "      <td>0.404241</td>\n",
       "      <td>...</td>\n",
       "      <td>0.255350</td>\n",
       "      <td>-0.214677</td>\n",
       "      <td>0.003566</td>\n",
       "      <td>-0.063139</td>\n",
       "      <td>0.161739</td>\n",
       "      <td>0.127556</td>\n",
       "      <td>-0.117637</td>\n",
       "      <td>0.115998</td>\n",
       "      <td>0.040824</td>\n",
       "      <td>0.223292</td>\n",
       "    </tr>\n",
       "    <tr>\n",
       "      <th>2P</th>\n",
       "      <td>-0.021972</td>\n",
       "      <td>-0.000871</td>\n",
       "      <td>0.496394</td>\n",
       "      <td>0.695915</td>\n",
       "      <td>0.784287</td>\n",
       "      <td>0.938376</td>\n",
       "      <td>0.874699</td>\n",
       "      <td>0.360066</td>\n",
       "      <td>0.291092</td>\n",
       "      <td>0.298361</td>\n",
       "      <td>...</td>\n",
       "      <td>0.119284</td>\n",
       "      <td>0.581467</td>\n",
       "      <td>0.754463</td>\n",
       "      <td>0.743566</td>\n",
       "      <td>0.580230</td>\n",
       "      <td>0.581012</td>\n",
       "      <td>0.518377</td>\n",
       "      <td>0.779281</td>\n",
       "      <td>0.617804</td>\n",
       "      <td>0.896089</td>\n",
       "    </tr>\n",
       "    <tr>\n",
       "      <th>2PA</th>\n",
       "      <td>-0.049305</td>\n",
       "      <td>-0.000906</td>\n",
       "      <td>0.484436</td>\n",
       "      <td>0.692789</td>\n",
       "      <td>0.803043</td>\n",
       "      <td>0.939898</td>\n",
       "      <td>0.909727</td>\n",
       "      <td>0.255194</td>\n",
       "      <td>0.335880</td>\n",
       "      <td>0.347411</td>\n",
       "      <td>...</td>\n",
       "      <td>0.155940</td>\n",
       "      <td>0.512723</td>\n",
       "      <td>0.717564</td>\n",
       "      <td>0.694735</td>\n",
       "      <td>0.624558</td>\n",
       "      <td>0.606214</td>\n",
       "      <td>0.457588</td>\n",
       "      <td>0.807804</td>\n",
       "      <td>0.606902</td>\n",
       "      <td>0.906334</td>\n",
       "    </tr>\n",
       "    <tr>\n",
       "      <th>2P%</th>\n",
       "      <td>0.076028</td>\n",
       "      <td>0.024991</td>\n",
       "      <td>0.181224</td>\n",
       "      <td>0.132772</td>\n",
       "      <td>0.128501</td>\n",
       "      <td>0.191614</td>\n",
       "      <td>0.068990</td>\n",
       "      <td>0.810822</td>\n",
       "      <td>-0.058921</td>\n",
       "      <td>-0.066648</td>\n",
       "      <td>...</td>\n",
       "      <td>-0.129636</td>\n",
       "      <td>0.295769</td>\n",
       "      <td>0.239623</td>\n",
       "      <td>0.271097</td>\n",
       "      <td>-0.011870</td>\n",
       "      <td>0.055349</td>\n",
       "      <td>0.277285</td>\n",
       "      <td>0.070861</td>\n",
       "      <td>0.222841</td>\n",
       "      <td>0.152514</td>\n",
       "    </tr>\n",
       "    <tr>\n",
       "      <th>eFG%</th>\n",
       "      <td>0.045740</td>\n",
       "      <td>0.076017</td>\n",
       "      <td>0.265987</td>\n",
       "      <td>0.184975</td>\n",
       "      <td>0.222288</td>\n",
       "      <td>0.260936</td>\n",
       "      <td>0.151613</td>\n",
       "      <td>0.908291</td>\n",
       "      <td>0.177122</td>\n",
       "      <td>0.090542</td>\n",
       "      <td>...</td>\n",
       "      <td>-0.024300</td>\n",
       "      <td>0.250894</td>\n",
       "      <td>0.240988</td>\n",
       "      <td>0.257870</td>\n",
       "      <td>0.047679</td>\n",
       "      <td>0.098520</td>\n",
       "      <td>0.248220</td>\n",
       "      <td>0.109288</td>\n",
       "      <td>0.245156</td>\n",
       "      <td>0.239216</td>\n",
       "    </tr>\n",
       "    <tr>\n",
       "      <th>FT</th>\n",
       "      <td>-0.025460</td>\n",
       "      <td>0.033898</td>\n",
       "      <td>0.408647</td>\n",
       "      <td>0.606837</td>\n",
       "      <td>0.707034</td>\n",
       "      <td>0.838881</td>\n",
       "      <td>0.833094</td>\n",
       "      <td>0.159790</td>\n",
       "      <td>0.463197</td>\n",
       "      <td>0.480850</td>\n",
       "      <td>...</td>\n",
       "      <td>0.279534</td>\n",
       "      <td>0.345129</td>\n",
       "      <td>0.623834</td>\n",
       "      <td>0.572612</td>\n",
       "      <td>0.622598</td>\n",
       "      <td>0.564695</td>\n",
       "      <td>0.351890</td>\n",
       "      <td>0.788958</td>\n",
       "      <td>0.496466</td>\n",
       "      <td>0.890041</td>\n",
       "    </tr>\n",
       "    <tr>\n",
       "      <th>FTA</th>\n",
       "      <td>-0.029658</td>\n",
       "      <td>0.010425</td>\n",
       "      <td>0.410115</td>\n",
       "      <td>0.614554</td>\n",
       "      <td>0.709571</td>\n",
       "      <td>0.836030</td>\n",
       "      <td>0.814670</td>\n",
       "      <td>0.209863</td>\n",
       "      <td>0.389655</td>\n",
       "      <td>0.408619</td>\n",
       "      <td>...</td>\n",
       "      <td>0.153972</td>\n",
       "      <td>0.439456</td>\n",
       "      <td>0.681347</td>\n",
       "      <td>0.644891</td>\n",
       "      <td>0.599628</td>\n",
       "      <td>0.568678</td>\n",
       "      <td>0.425356</td>\n",
       "      <td>0.794726</td>\n",
       "      <td>0.538186</td>\n",
       "      <td>0.874255</td>\n",
       "    </tr>\n",
       "    <tr>\n",
       "      <th>FT%</th>\n",
       "      <td>-0.014709</td>\n",
       "      <td>0.160941</td>\n",
       "      <td>0.211229</td>\n",
       "      <td>0.155701</td>\n",
       "      <td>0.243376</td>\n",
       "      <td>0.240059</td>\n",
       "      <td>0.289490</td>\n",
       "      <td>-0.172114</td>\n",
       "      <td>0.382406</td>\n",
       "      <td>0.380962</td>\n",
       "      <td>...</td>\n",
       "      <td>1.000000</td>\n",
       "      <td>-0.204351</td>\n",
       "      <td>0.013501</td>\n",
       "      <td>-0.054528</td>\n",
       "      <td>0.220518</td>\n",
       "      <td>0.149633</td>\n",
       "      <td>-0.152897</td>\n",
       "      <td>0.173509</td>\n",
       "      <td>0.043055</td>\n",
       "      <td>0.286765</td>\n",
       "    </tr>\n",
       "    <tr>\n",
       "      <th>ORB</th>\n",
       "      <td>-0.020887</td>\n",
       "      <td>-0.027973</td>\n",
       "      <td>0.327509</td>\n",
       "      <td>0.427616</td>\n",
       "      <td>0.404076</td>\n",
       "      <td>0.423060</td>\n",
       "      <td>0.305598</td>\n",
       "      <td>0.444472</td>\n",
       "      <td>-0.171448</td>\n",
       "      <td>-0.185492</td>\n",
       "      <td>...</td>\n",
       "      <td>-0.204351</td>\n",
       "      <td>1.000000</td>\n",
       "      <td>0.747715</td>\n",
       "      <td>0.868734</td>\n",
       "      <td>0.047634</td>\n",
       "      <td>0.242695</td>\n",
       "      <td>0.665324</td>\n",
       "      <td>0.314092</td>\n",
       "      <td>0.570611</td>\n",
       "      <td>0.360900</td>\n",
       "    </tr>\n",
       "    <tr>\n",
       "      <th>DRB</th>\n",
       "      <td>0.001723</td>\n",
       "      <td>0.061908</td>\n",
       "      <td>0.503013</td>\n",
       "      <td>0.653866</td>\n",
       "      <td>0.716963</td>\n",
       "      <td>0.714617</td>\n",
       "      <td>0.648234</td>\n",
       "      <td>0.327856</td>\n",
       "      <td>0.236506</td>\n",
       "      <td>0.239172</td>\n",
       "      <td>...</td>\n",
       "      <td>0.013501</td>\n",
       "      <td>0.747715</td>\n",
       "      <td>1.000000</td>\n",
       "      <td>0.978179</td>\n",
       "      <td>0.387068</td>\n",
       "      <td>0.510698</td>\n",
       "      <td>0.659925</td>\n",
       "      <td>0.629447</td>\n",
       "      <td>0.696604</td>\n",
       "      <td>0.686570</td>\n",
       "    </tr>\n",
       "    <tr>\n",
       "      <th>TRB</th>\n",
       "      <td>-0.004785</td>\n",
       "      <td>0.037276</td>\n",
       "      <td>0.477054</td>\n",
       "      <td>0.620516</td>\n",
       "      <td>0.660156</td>\n",
       "      <td>0.664341</td>\n",
       "      <td>0.578278</td>\n",
       "      <td>0.383189</td>\n",
       "      <td>0.122438</td>\n",
       "      <td>0.119980</td>\n",
       "      <td>...</td>\n",
       "      <td>-0.054528</td>\n",
       "      <td>0.868734</td>\n",
       "      <td>0.978179</td>\n",
       "      <td>1.000000</td>\n",
       "      <td>0.303452</td>\n",
       "      <td>0.456241</td>\n",
       "      <td>0.698814</td>\n",
       "      <td>0.566723</td>\n",
       "      <td>0.697039</td>\n",
       "      <td>0.624078</td>\n",
       "    </tr>\n",
       "    <tr>\n",
       "      <th>AST</th>\n",
       "      <td>0.023485</td>\n",
       "      <td>0.119455</td>\n",
       "      <td>0.380723</td>\n",
       "      <td>0.529564</td>\n",
       "      <td>0.666038</td>\n",
       "      <td>0.658155</td>\n",
       "      <td>0.697330</td>\n",
       "      <td>0.024695</td>\n",
       "      <td>0.484285</td>\n",
       "      <td>0.508577</td>\n",
       "      <td>...</td>\n",
       "      <td>0.220518</td>\n",
       "      <td>0.047634</td>\n",
       "      <td>0.387068</td>\n",
       "      <td>0.303452</td>\n",
       "      <td>1.000000</td>\n",
       "      <td>0.669501</td>\n",
       "      <td>0.084375</td>\n",
       "      <td>0.832884</td>\n",
       "      <td>0.397198</td>\n",
       "      <td>0.677758</td>\n",
       "    </tr>\n",
       "    <tr>\n",
       "      <th>STL</th>\n",
       "      <td>-0.023243</td>\n",
       "      <td>0.042097</td>\n",
       "      <td>0.466113</td>\n",
       "      <td>0.603101</td>\n",
       "      <td>0.752456</td>\n",
       "      <td>0.657515</td>\n",
       "      <td>0.679482</td>\n",
       "      <td>0.083110</td>\n",
       "      <td>0.479714</td>\n",
       "      <td>0.499337</td>\n",
       "      <td>...</td>\n",
       "      <td>0.149633</td>\n",
       "      <td>0.242695</td>\n",
       "      <td>0.510698</td>\n",
       "      <td>0.456241</td>\n",
       "      <td>0.669501</td>\n",
       "      <td>1.000000</td>\n",
       "      <td>0.251040</td>\n",
       "      <td>0.670674</td>\n",
       "      <td>0.558858</td>\n",
       "      <td>0.663776</td>\n",
       "    </tr>\n",
       "    <tr>\n",
       "      <th>BLK</th>\n",
       "      <td>-0.022399</td>\n",
       "      <td>-0.027747</td>\n",
       "      <td>0.298136</td>\n",
       "      <td>0.402793</td>\n",
       "      <td>0.399975</td>\n",
       "      <td>0.414233</td>\n",
       "      <td>0.319624</td>\n",
       "      <td>0.380842</td>\n",
       "      <td>-0.049588</td>\n",
       "      <td>-0.058530</td>\n",
       "      <td>...</td>\n",
       "      <td>-0.152897</td>\n",
       "      <td>0.665324</td>\n",
       "      <td>0.659925</td>\n",
       "      <td>0.698814</td>\n",
       "      <td>0.084375</td>\n",
       "      <td>0.251040</td>\n",
       "      <td>1.000000</td>\n",
       "      <td>0.329113</td>\n",
       "      <td>0.538762</td>\n",
       "      <td>0.371649</td>\n",
       "    </tr>\n",
       "    <tr>\n",
       "      <th>TOV</th>\n",
       "      <td>-0.031567</td>\n",
       "      <td>0.041575</td>\n",
       "      <td>0.449151</td>\n",
       "      <td>0.639407</td>\n",
       "      <td>0.771876</td>\n",
       "      <td>0.822773</td>\n",
       "      <td>0.833114</td>\n",
       "      <td>0.136760</td>\n",
       "      <td>0.479710</td>\n",
       "      <td>0.502603</td>\n",
       "      <td>...</td>\n",
       "      <td>0.173509</td>\n",
       "      <td>0.314092</td>\n",
       "      <td>0.629447</td>\n",
       "      <td>0.566723</td>\n",
       "      <td>0.832884</td>\n",
       "      <td>0.670674</td>\n",
       "      <td>0.329113</td>\n",
       "      <td>1.000000</td>\n",
       "      <td>0.603644</td>\n",
       "      <td>0.833231</td>\n",
       "    </tr>\n",
       "    <tr>\n",
       "      <th>PF</th>\n",
       "      <td>-0.011657</td>\n",
       "      <td>0.053632</td>\n",
       "      <td>0.522548</td>\n",
       "      <td>0.572896</td>\n",
       "      <td>0.738177</td>\n",
       "      <td>0.621798</td>\n",
       "      <td>0.591889</td>\n",
       "      <td>0.301600</td>\n",
       "      <td>0.295673</td>\n",
       "      <td>0.300778</td>\n",
       "      <td>...</td>\n",
       "      <td>0.043055</td>\n",
       "      <td>0.570611</td>\n",
       "      <td>0.696604</td>\n",
       "      <td>0.697039</td>\n",
       "      <td>0.397198</td>\n",
       "      <td>0.558858</td>\n",
       "      <td>0.538762</td>\n",
       "      <td>0.603644</td>\n",
       "      <td>1.000000</td>\n",
       "      <td>0.598971</td>\n",
       "    </tr>\n",
       "    <tr>\n",
       "      <th>PTS</th>\n",
       "      <td>0.015206</td>\n",
       "      <td>0.056049</td>\n",
       "      <td>0.541657</td>\n",
       "      <td>0.733619</td>\n",
       "      <td>0.878088</td>\n",
       "      <td>0.988321</td>\n",
       "      <td>0.981857</td>\n",
       "      <td>0.219191</td>\n",
       "      <td>0.668757</td>\n",
       "      <td>0.670108</td>\n",
       "      <td>...</td>\n",
       "      <td>0.286765</td>\n",
       "      <td>0.360900</td>\n",
       "      <td>0.686570</td>\n",
       "      <td>0.624078</td>\n",
       "      <td>0.677758</td>\n",
       "      <td>0.663776</td>\n",
       "      <td>0.371649</td>\n",
       "      <td>0.833231</td>\n",
       "      <td>0.598971</td>\n",
       "      <td>1.000000</td>\n",
       "    </tr>\n",
       "  </tbody>\n",
       "</table>\n",
       "<p>27 rows × 27 columns</p>\n",
       "</div>"
      ],
      "text/plain": [
       "          Seas       Age         G        GS        MP        FG       FGA  \\\n",
       "Seas  1.000000 -0.062238 -0.065330 -0.025641 -0.031789  0.013417  0.006816   \n",
       "Age  -0.062238  1.000000  0.097129  0.052577  0.102553  0.044669  0.048297   \n",
       "G    -0.065330  0.097129  1.000000  0.612957  0.661538  0.553311  0.534116   \n",
       "GS   -0.025641  0.052577  0.612957  1.000000  0.792136  0.745068  0.724638   \n",
       "MP   -0.031789  0.102553  0.661538  0.792136  1.000000  0.882428  0.892086   \n",
       "FG    0.013417  0.044669  0.553311  0.745068  0.882428  1.000000  0.977415   \n",
       "FGA   0.006816  0.048297  0.534116  0.724638  0.892086  0.977415  1.000000   \n",
       "FG%   0.000030  0.033019  0.242256  0.191149  0.187641  0.269365  0.122950   \n",
       "3P    0.087017  0.125774  0.386091  0.457519  0.633855  0.603180  0.688483   \n",
       "3PA   0.099947  0.111453  0.378769  0.453447  0.643484  0.602737  0.705278   \n",
       "3P%   0.042522  0.041905  0.154873  0.114623  0.215849  0.192664  0.217814   \n",
       "2P   -0.021972 -0.000871  0.496394  0.695915  0.784287  0.938376  0.874699   \n",
       "2PA  -0.049305 -0.000906  0.484436  0.692789  0.803043  0.939898  0.909727   \n",
       "2P%   0.076028  0.024991  0.181224  0.132772  0.128501  0.191614  0.068990   \n",
       "eFG%  0.045740  0.076017  0.265987  0.184975  0.222288  0.260936  0.151613   \n",
       "FT   -0.025460  0.033898  0.408647  0.606837  0.707034  0.838881  0.833094   \n",
       "FTA  -0.029658  0.010425  0.410115  0.614554  0.709571  0.836030  0.814670   \n",
       "FT%  -0.014709  0.160941  0.211229  0.155701  0.243376  0.240059  0.289490   \n",
       "ORB  -0.020887 -0.027973  0.327509  0.427616  0.404076  0.423060  0.305598   \n",
       "DRB   0.001723  0.061908  0.503013  0.653866  0.716963  0.714617  0.648234   \n",
       "TRB  -0.004785  0.037276  0.477054  0.620516  0.660156  0.664341  0.578278   \n",
       "AST   0.023485  0.119455  0.380723  0.529564  0.666038  0.658155  0.697330   \n",
       "STL  -0.023243  0.042097  0.466113  0.603101  0.752456  0.657515  0.679482   \n",
       "BLK  -0.022399 -0.027747  0.298136  0.402793  0.399975  0.414233  0.319624   \n",
       "TOV  -0.031567  0.041575  0.449151  0.639407  0.771876  0.822773  0.833114   \n",
       "PF   -0.011657  0.053632  0.522548  0.572896  0.738177  0.621798  0.591889   \n",
       "PTS   0.015206  0.056049  0.541657  0.733619  0.878088  0.988321  0.981857   \n",
       "\n",
       "           FG%        3P       3PA  ...       FT%       ORB       DRB  \\\n",
       "Seas  0.000030  0.087017  0.099947  ... -0.014709 -0.020887  0.001723   \n",
       "Age   0.033019  0.125774  0.111453  ...  0.160941 -0.027973  0.061908   \n",
       "G     0.242256  0.386091  0.378769  ...  0.211229  0.327509  0.503013   \n",
       "GS    0.191149  0.457519  0.453447  ...  0.155701  0.427616  0.653866   \n",
       "MP    0.187641  0.633855  0.643484  ...  0.243376  0.404076  0.716963   \n",
       "FG    0.269365  0.603180  0.602737  ...  0.240059  0.423060  0.714617   \n",
       "FGA   0.122950  0.688483  0.705278  ...  0.289490  0.305598  0.648234   \n",
       "FG%   1.000000 -0.087120 -0.158779  ... -0.172114  0.444472  0.327856   \n",
       "3P   -0.087120  1.000000  0.981346  ...  0.382406 -0.171448  0.236506   \n",
       "3PA  -0.158779  0.981346  1.000000  ...  0.380962 -0.185492  0.239172   \n",
       "3P%   0.156971  0.478351  0.404241  ...  0.255350 -0.214677  0.003566   \n",
       "2P    0.360066  0.291092  0.298361  ...  0.119284  0.581467  0.754463   \n",
       "2PA   0.255194  0.335880  0.347411  ...  0.155940  0.512723  0.717564   \n",
       "2P%   0.810822 -0.058921 -0.066648  ... -0.129636  0.295769  0.239623   \n",
       "eFG%  0.908291  0.177122  0.090542  ... -0.024300  0.250894  0.240988   \n",
       "FT    0.159790  0.463197  0.480850  ...  0.279534  0.345129  0.623834   \n",
       "FTA   0.209863  0.389655  0.408619  ...  0.153972  0.439456  0.681347   \n",
       "FT%  -0.172114  0.382406  0.380962  ...  1.000000 -0.204351  0.013501   \n",
       "ORB   0.444472 -0.171448 -0.185492  ... -0.204351  1.000000  0.747715   \n",
       "DRB   0.327856  0.236506  0.239172  ...  0.013501  0.747715  1.000000   \n",
       "TRB   0.383189  0.122438  0.119980  ... -0.054528  0.868734  0.978179   \n",
       "AST   0.024695  0.484285  0.508577  ...  0.220518  0.047634  0.387068   \n",
       "STL   0.083110  0.479714  0.499337  ...  0.149633  0.242695  0.510698   \n",
       "BLK   0.380842 -0.049588 -0.058530  ... -0.152897  0.665324  0.659925   \n",
       "TOV   0.136760  0.479710  0.502603  ...  0.173509  0.314092  0.629447   \n",
       "PF    0.301600  0.295673  0.300778  ...  0.043055  0.570611  0.696604   \n",
       "PTS   0.219191  0.668757  0.670108  ...  0.286765  0.360900  0.686570   \n",
       "\n",
       "           TRB       AST       STL       BLK       TOV        PF       PTS  \n",
       "Seas -0.004785  0.023485 -0.023243 -0.022399 -0.031567 -0.011657  0.015206  \n",
       "Age   0.037276  0.119455  0.042097 -0.027747  0.041575  0.053632  0.056049  \n",
       "G     0.477054  0.380723  0.466113  0.298136  0.449151  0.522548  0.541657  \n",
       "GS    0.620516  0.529564  0.603101  0.402793  0.639407  0.572896  0.733619  \n",
       "MP    0.660156  0.666038  0.752456  0.399975  0.771876  0.738177  0.878088  \n",
       "FG    0.664341  0.658155  0.657515  0.414233  0.822773  0.621798  0.988321  \n",
       "FGA   0.578278  0.697330  0.679482  0.319624  0.833114  0.591889  0.981857  \n",
       "FG%   0.383189  0.024695  0.083110  0.380842  0.136760  0.301600  0.219191  \n",
       "3P    0.122438  0.484285  0.479714 -0.049588  0.479710  0.295673  0.668757  \n",
       "3PA   0.119980  0.508577  0.499337 -0.058530  0.502603  0.300778  0.670108  \n",
       "3P%  -0.063139  0.161739  0.127556 -0.117637  0.115998  0.040824  0.223292  \n",
       "2P    0.743566  0.580230  0.581012  0.518377  0.779281  0.617804  0.896089  \n",
       "2PA   0.694735  0.624558  0.606214  0.457588  0.807804  0.606902  0.906334  \n",
       "2P%   0.271097 -0.011870  0.055349  0.277285  0.070861  0.222841  0.152514  \n",
       "eFG%  0.257870  0.047679  0.098520  0.248220  0.109288  0.245156  0.239216  \n",
       "FT    0.572612  0.622598  0.564695  0.351890  0.788958  0.496466  0.890041  \n",
       "FTA   0.644891  0.599628  0.568678  0.425356  0.794726  0.538186  0.874255  \n",
       "FT%  -0.054528  0.220518  0.149633 -0.152897  0.173509  0.043055  0.286765  \n",
       "ORB   0.868734  0.047634  0.242695  0.665324  0.314092  0.570611  0.360900  \n",
       "DRB   0.978179  0.387068  0.510698  0.659925  0.629447  0.696604  0.686570  \n",
       "TRB   1.000000  0.303452  0.456241  0.698814  0.566723  0.697039  0.624078  \n",
       "AST   0.303452  1.000000  0.669501  0.084375  0.832884  0.397198  0.677758  \n",
       "STL   0.456241  0.669501  1.000000  0.251040  0.670674  0.558858  0.663776  \n",
       "BLK   0.698814  0.084375  0.251040  1.000000  0.329113  0.538762  0.371649  \n",
       "TOV   0.566723  0.832884  0.670674  0.329113  1.000000  0.603644  0.833231  \n",
       "PF    0.697039  0.397198  0.558858  0.538762  0.603644  1.000000  0.598971  \n",
       "PTS   0.624078  0.677758  0.663776  0.371649  0.833231  0.598971  1.000000  \n",
       "\n",
       "[27 rows x 27 columns]"
      ]
     },
     "execution_count": 32,
     "metadata": {},
     "output_type": "execute_result"
    },
    {
     "data": {
      "application/javascript": [
       "\n",
       "            setTimeout(function() {\n",
       "                var nbb_cell_id = 32;\n",
       "                var nbb_unformatted_code = \"nba.corr()\";\n",
       "                var nbb_formatted_code = \"nba.corr()\";\n",
       "                var nbb_cells = Jupyter.notebook.get_cells();\n",
       "                for (var i = 0; i < nbb_cells.length; ++i) {\n",
       "                    if (nbb_cells[i].input_prompt_number == nbb_cell_id) {\n",
       "                        if (nbb_cells[i].get_text() == nbb_unformatted_code) {\n",
       "                             nbb_cells[i].set_text(nbb_formatted_code);\n",
       "                        }\n",
       "                        break;\n",
       "                    }\n",
       "                }\n",
       "            }, 500);\n",
       "            "
      ],
      "text/plain": [
       "<IPython.core.display.Javascript object>"
      ]
     },
     "metadata": {},
     "output_type": "display_data"
    }
   ],
   "source": [
    "nba.corr()"
   ]
  },
  {
   "cell_type": "markdown",
   "metadata": {},
   "source": [
    "## Creating your own statistics\n",
    "\n",
    "Sometimes you might create some metric to summarize a record.  For example, we all have a credit score that is a combination of a lot of separate metrics.  Some of these style of metrics might be referred to as a index (i.e. a financial index), note that this is different than a `pandas` index.\n",
    "\n",
    "How might we create a player rating metric for our data?"
   ]
  },
  {
   "cell_type": "code",
   "execution_count": 33,
   "metadata": {},
   "outputs": [
    {
     "data": {
      "text/html": [
       "<div>\n",
       "<style scoped>\n",
       "    .dataframe tbody tr th:only-of-type {\n",
       "        vertical-align: middle;\n",
       "    }\n",
       "\n",
       "    .dataframe tbody tr th {\n",
       "        vertical-align: top;\n",
       "    }\n",
       "\n",
       "    .dataframe thead th {\n",
       "        text-align: right;\n",
       "    }\n",
       "</style>\n",
       "<table border=\"1\" class=\"dataframe\">\n",
       "  <thead>\n",
       "    <tr style=\"text-align: right;\">\n",
       "      <th></th>\n",
       "      <th>Seas</th>\n",
       "      <th>Player</th>\n",
       "      <th>Pos</th>\n",
       "      <th>Age</th>\n",
       "      <th>Tm</th>\n",
       "      <th>G</th>\n",
       "      <th>GS</th>\n",
       "      <th>MP</th>\n",
       "      <th>FG</th>\n",
       "      <th>FGA</th>\n",
       "      <th>...</th>\n",
       "      <th>ORB</th>\n",
       "      <th>DRB</th>\n",
       "      <th>TRB</th>\n",
       "      <th>AST</th>\n",
       "      <th>STL</th>\n",
       "      <th>BLK</th>\n",
       "      <th>TOV</th>\n",
       "      <th>PF</th>\n",
       "      <th>PTS</th>\n",
       "      <th>bigman_rating</th>\n",
       "    </tr>\n",
       "  </thead>\n",
       "  <tbody>\n",
       "    <tr>\n",
       "      <th>0</th>\n",
       "      <td>2019</td>\n",
       "      <td>Álex Abrines</td>\n",
       "      <td>SG</td>\n",
       "      <td>25</td>\n",
       "      <td>OKC</td>\n",
       "      <td>31</td>\n",
       "      <td>2</td>\n",
       "      <td>19.0</td>\n",
       "      <td>1.8</td>\n",
       "      <td>5.1</td>\n",
       "      <td>...</td>\n",
       "      <td>0.2</td>\n",
       "      <td>1.4</td>\n",
       "      <td>1.5</td>\n",
       "      <td>0.6</td>\n",
       "      <td>0.5</td>\n",
       "      <td>0.2</td>\n",
       "      <td>0.5</td>\n",
       "      <td>1.7</td>\n",
       "      <td>5.3</td>\n",
       "      <td>1.9257</td>\n",
       "    </tr>\n",
       "    <tr>\n",
       "      <th>1</th>\n",
       "      <td>2019</td>\n",
       "      <td>Quincy Acy</td>\n",
       "      <td>PF</td>\n",
       "      <td>28</td>\n",
       "      <td>PHO</td>\n",
       "      <td>10</td>\n",
       "      <td>0</td>\n",
       "      <td>12.3</td>\n",
       "      <td>0.4</td>\n",
       "      <td>1.8</td>\n",
       "      <td>...</td>\n",
       "      <td>0.3</td>\n",
       "      <td>2.2</td>\n",
       "      <td>2.5</td>\n",
       "      <td>0.8</td>\n",
       "      <td>0.1</td>\n",
       "      <td>0.4</td>\n",
       "      <td>0.4</td>\n",
       "      <td>2.4</td>\n",
       "      <td>1.7</td>\n",
       "      <td>1.0272</td>\n",
       "    </tr>\n",
       "    <tr>\n",
       "      <th>2</th>\n",
       "      <td>2019</td>\n",
       "      <td>Jaylen Adams</td>\n",
       "      <td>PG</td>\n",
       "      <td>22</td>\n",
       "      <td>ATL</td>\n",
       "      <td>34</td>\n",
       "      <td>1</td>\n",
       "      <td>12.6</td>\n",
       "      <td>1.1</td>\n",
       "      <td>3.2</td>\n",
       "      <td>...</td>\n",
       "      <td>0.3</td>\n",
       "      <td>1.4</td>\n",
       "      <td>1.8</td>\n",
       "      <td>1.9</td>\n",
       "      <td>0.4</td>\n",
       "      <td>0.1</td>\n",
       "      <td>0.8</td>\n",
       "      <td>1.3</td>\n",
       "      <td>3.2</td>\n",
       "      <td>1.2795</td>\n",
       "    </tr>\n",
       "    <tr>\n",
       "      <th>3</th>\n",
       "      <td>2019</td>\n",
       "      <td>Steven Adams</td>\n",
       "      <td>C</td>\n",
       "      <td>25</td>\n",
       "      <td>OKC</td>\n",
       "      <td>80</td>\n",
       "      <td>80</td>\n",
       "      <td>33.4</td>\n",
       "      <td>6.0</td>\n",
       "      <td>10.1</td>\n",
       "      <td>...</td>\n",
       "      <td>4.9</td>\n",
       "      <td>4.6</td>\n",
       "      <td>9.5</td>\n",
       "      <td>1.6</td>\n",
       "      <td>1.5</td>\n",
       "      <td>1.0</td>\n",
       "      <td>1.7</td>\n",
       "      <td>2.6</td>\n",
       "      <td>13.9</td>\n",
       "      <td>5.9545</td>\n",
       "    </tr>\n",
       "    <tr>\n",
       "      <th>4</th>\n",
       "      <td>2019</td>\n",
       "      <td>Bam Adebayo</td>\n",
       "      <td>C</td>\n",
       "      <td>21</td>\n",
       "      <td>MIA</td>\n",
       "      <td>82</td>\n",
       "      <td>28</td>\n",
       "      <td>23.3</td>\n",
       "      <td>3.4</td>\n",
       "      <td>5.9</td>\n",
       "      <td>...</td>\n",
       "      <td>2.0</td>\n",
       "      <td>5.3</td>\n",
       "      <td>7.3</td>\n",
       "      <td>2.2</td>\n",
       "      <td>0.9</td>\n",
       "      <td>0.8</td>\n",
       "      <td>1.5</td>\n",
       "      <td>2.5</td>\n",
       "      <td>8.9</td>\n",
       "      <td>4.0626</td>\n",
       "    </tr>\n",
       "  </tbody>\n",
       "</table>\n",
       "<p>5 rows × 31 columns</p>\n",
       "</div>"
      ],
      "text/plain": [
       "   Seas        Player Pos  Age   Tm   G  GS    MP   FG   FGA  ...  ORB  DRB  \\\n",
       "0  2019  Álex Abrines  SG   25  OKC  31   2  19.0  1.8   5.1  ...  0.2  1.4   \n",
       "1  2019    Quincy Acy  PF   28  PHO  10   0  12.3  0.4   1.8  ...  0.3  2.2   \n",
       "2  2019  Jaylen Adams  PG   22  ATL  34   1  12.6  1.1   3.2  ...  0.3  1.4   \n",
       "3  2019  Steven Adams   C   25  OKC  80  80  33.4  6.0  10.1  ...  4.9  4.6   \n",
       "4  2019   Bam Adebayo   C   21  MIA  82  28  23.3  3.4   5.9  ...  2.0  5.3   \n",
       "\n",
       "   TRB  AST  STL  BLK  TOV   PF   PTS  bigman_rating  \n",
       "0  1.5  0.6  0.5  0.2  0.5  1.7   5.3         1.9257  \n",
       "1  2.5  0.8  0.1  0.4  0.4  2.4   1.7         1.0272  \n",
       "2  1.8  1.9  0.4  0.1  0.8  1.3   3.2         1.2795  \n",
       "3  9.5  1.6  1.5  1.0  1.7  2.6  13.9         5.9545  \n",
       "4  7.3  2.2  0.9  0.8  1.5  2.5   8.9         4.0626  \n",
       "\n",
       "[5 rows x 31 columns]"
      ]
     },
     "execution_count": 33,
     "metadata": {},
     "output_type": "execute_result"
    },
    {
     "data": {
      "application/javascript": [
       "\n",
       "            setTimeout(function() {\n",
       "                var nbb_cell_id = 33;\n",
       "                var nbb_unformatted_code = \"# Note, not all of these values are on the same scale\\n# (i.e. the max FG% is 1, but PTS can have higher values)\\n# This being on different scales would be an issue.\\n# How might you put all of these columns on the same scale\\n# before creating your rating?\\nnba[\\\"bigman_rating\\\"] = (\\n    nba[\\\"PTS\\\"] * 0.3\\n    + nba[\\\"ORB\\\"] * 0.15\\n    + nba[\\\"DRB\\\"] * 0.15\\n    + nba[\\\"FG%\\\"] * 0.1\\n    + nba[\\\"BLK\\\"] * 0.3\\n)\\nnba.head()\";\n",
       "                var nbb_formatted_code = \"# Note, not all of these values are on the same scale\\n# (i.e. the max FG% is 1, but PTS can have higher values)\\n# This being on different scales would be an issue.\\n# How might you put all of these columns on the same scale\\n# before creating your rating?\\nnba[\\\"bigman_rating\\\"] = (\\n    nba[\\\"PTS\\\"] * 0.3\\n    + nba[\\\"ORB\\\"] * 0.15\\n    + nba[\\\"DRB\\\"] * 0.15\\n    + nba[\\\"FG%\\\"] * 0.1\\n    + nba[\\\"BLK\\\"] * 0.3\\n)\\nnba.head()\";\n",
       "                var nbb_cells = Jupyter.notebook.get_cells();\n",
       "                for (var i = 0; i < nbb_cells.length; ++i) {\n",
       "                    if (nbb_cells[i].input_prompt_number == nbb_cell_id) {\n",
       "                        if (nbb_cells[i].get_text() == nbb_unformatted_code) {\n",
       "                             nbb_cells[i].set_text(nbb_formatted_code);\n",
       "                        }\n",
       "                        break;\n",
       "                    }\n",
       "                }\n",
       "            }, 500);\n",
       "            "
      ],
      "text/plain": [
       "<IPython.core.display.Javascript object>"
      ]
     },
     "metadata": {},
     "output_type": "display_data"
    }
   ],
   "source": [
    "# Note, not all of these values are on the same scale\n",
    "# (i.e. the max FG% is 1, but PTS can have higher values)\n",
    "# This being on different scales would be an issue.\n",
    "# How might you put all of these columns on the same scale\n",
    "# before creating your rating?\n",
    "nba[\"bigman_rating\"] = (\n",
    "    nba[\"PTS\"] * 0.3\n",
    "    + nba[\"ORB\"] * 0.15\n",
    "    + nba[\"DRB\"] * 0.15\n",
    "    + nba[\"FG%\"] * 0.1\n",
    "    + nba[\"BLK\"] * 0.3\n",
    ")\n",
    "nba.head()"
   ]
  }
 ],
 "metadata": {
  "kernelspec": {
   "display_name": "Python 3",
   "language": "python",
   "name": "python3"
  },
  "language_info": {
   "codemirror_mode": {
    "name": "ipython",
    "version": 3
   },
   "file_extension": ".py",
   "mimetype": "text/x-python",
   "name": "python",
   "nbconvert_exporter": "python",
   "pygments_lexer": "ipython3",
   "version": "3.7.7"
  }
 },
 "nbformat": 4,
 "nbformat_minor": 2
}
