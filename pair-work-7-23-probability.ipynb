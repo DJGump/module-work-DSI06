{
 "cells": [
  {
   "cell_type": "markdown",
   "metadata": {},
   "source": [
    "# Pair Work 7-23\n",
    "\n",
    "Dillan Gump\n",
    "\n",
    "* Q1: Identify 3 scenarios in your everyday life where you use probability.\n",
    "\n",
    "  1. Stocks trading: technical analysis, news, market crash. Mixing empirical and subjective probabilities\n",
    "\n",
    "  2. Probability of getting pulled over. Take the same way home, so I speed. But, I know they are no speed traps, and have never gotten pulled, so my prior probability suggests I'm never going fast enough to get pulled over. Very subjective.\n",
    "\n",
    "  3. Is food bad past expiry dates? If it doesn't smell, might still be good. If it does smell, definitely bad. \n",
    "\n",
    "* Q2: Using the formula you learned to calculate probabilities, approximate the probabilities of the events in each of those 3 scenarios.\n",
    "\n",
    "  * Stock trading: P(gains) = #_gains / #_trades\n",
    "  * Driving: p(pulled_over) = #_pulled / times_driven\n",
    "      * I've only been pulled over once, and a comparatively infite more number of times, so p(pulled_over) = 0\n",
    "      * p(pulled_over | speeding) can be used for a Bayes analysis. \n",
    "  * Food expiration: \n",
    "      * p(spoiled | smells) = p(smells | spoiled) * p(spoiled) / P(smells)\n",
    "      * p(smells | spoils) = .95\n",
    "      * p(spoiled) = 0.5\n",
    "      * p(smells) = 0.25"
   ]
  },
  {
   "cell_type": "code",
   "execution_count": 22,
   "metadata": {},
   "outputs": [
    {
     "name": "stdout",
     "output_type": "stream",
     "text": [
      "0.12\n"
     ]
    }
   ],
   "source": [
    "# Bayes for p(spoiled | smells)\n",
    "# arbitrary statistics\n",
    "smells_g_spoiled = 0.3\n",
    "spoiled = 0.02\n",
    "smells = 0.05\n",
    "prob_sp_g_sm = smells_g_spoiled * spoiled / smells\n",
    "print(prob_sp_g_sm)"
   ]
  },
  {
   "cell_type": "markdown",
   "metadata": {},
   "source": [
    "* Q3: Potential Dependencies\n",
    "\n",
    "    1. Stocks: Will be affected by market crashes, trends, and strength of portfolio. Say, p(crash not affecting portfolio) = 0.03\n",
    "        * Joint probability, having gains and not being affected by crash: p(gains) x p(crash_no_effect)\n",
    "        * 0.5 * 0.03\n",
    "        * = 0.015  \n",
    "    \n",
    "    2. Getting Pulled over: If a particular area has a speed trap, the likelihood of knowing about will affect being pulled over. \n",
    "        * Joint probability, probability of getting pulled over and knowing about speed trap\n",
    "        * P(pulled | know) arbitralily set to 0.1, as knowing about the speed trap enables one to slow down, but sometimes stops happens randomly\n",
    "        * p(pulled&know) = p(pulled | know) * p(pulled)\n",
    "        * Just throwing in arbitrary approriate values now\n",
    "        * = 0.1 * 0.3\n",
    "        * = 3% chance of being pulled over and knowing about the speed trap\n",
    "    \n",
    "    3. Food spoiling: Some foods spoil faster. Meats and dairy are obvious contenders for foods more likely to be spoiled on their expiry date.\n",
    "        * p(spoiled&meat) = p(meat|spoiled) * p(spoiled)   \n",
    "        * = 0.3 * 0.5\n",
    "        * = 0.15 chance a food being spoiled past its expiry and being a meat"
   ]
  },
  {
   "cell_type": "markdown",
   "metadata": {},
   "source": [
    "* Q4: Calculate the conditional probabilities for the events given their dependencies.\n",
    "\n",
    "    1. Stocks: p(gains | no_crash) = p(gains&no_crash) * p(no_crash)\n",
    "        * = 0.015 * 0.03\n",
    "        * = 0.00045 chance of having gains given a market crash didn't affect you\n",
    "    2. Getting pulled over: p(pulled|know) = p(pulled&know) * p(know)\n",
    "        * = 0.03 * 0.25\n",
    "        * = 0.0075 chance of being pulled over given I know about the speed trap\n",
    "    3. Food spoiling: p(spoiled|meat) = p(spoiled&meat) * p(meat)\n",
    "        * = 0.15 * 0.3\n",
    "        * = 0.045 Chance a food is spoiled give it is a meat"
   ]
  },
  {
   "cell_type": "code",
   "execution_count": null,
   "metadata": {},
   "outputs": [],
   "source": []
  }
 ],
 "metadata": {
  "kernelspec": {
   "display_name": "Python 3",
   "language": "python",
   "name": "python3"
  },
  "language_info": {
   "codemirror_mode": {
    "name": "ipython",
    "version": 3
   },
   "file_extension": ".py",
   "mimetype": "text/x-python",
   "name": "python",
   "nbconvert_exporter": "python",
   "pygments_lexer": "ipython3",
   "version": "3.7.6"
  }
 },
 "nbformat": 4,
 "nbformat_minor": 4
}
