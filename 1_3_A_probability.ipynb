{
 "cells": [
  {
   "cell_type": "code",
   "execution_count": 6,
   "metadata": {},
   "outputs": [
    {
     "data": {
      "application/javascript": [
       "\n",
       "            setTimeout(function() {\n",
       "                var nbb_cell_id = 6;\n",
       "                var nbb_unformatted_code = \"%reload_ext nb_black\";\n",
       "                var nbb_formatted_code = \"%reload_ext nb_black\";\n",
       "                var nbb_cells = Jupyter.notebook.get_cells();\n",
       "                for (var i = 0; i < nbb_cells.length; ++i) {\n",
       "                    if (nbb_cells[i].input_prompt_number == nbb_cell_id) {\n",
       "                        if (nbb_cells[i].get_text() == nbb_unformatted_code) {\n",
       "                             nbb_cells[i].set_text(nbb_formatted_code);\n",
       "                        }\n",
       "                        break;\n",
       "                    }\n",
       "                }\n",
       "            }, 500);\n",
       "            "
      ],
      "text/plain": [
       "<IPython.core.display.Javascript object>"
      ]
     },
     "metadata": {},
     "output_type": "display_data"
    },
    {
     "data": {
      "application/javascript": [
       "\n",
       "            setTimeout(function() {\n",
       "                var nbb_cell_id = 6;\n",
       "                var nbb_unformatted_code = \"%reload_ext nb_black\";\n",
       "                var nbb_formatted_code = \"%reload_ext nb_black\";\n",
       "                var nbb_cells = Jupyter.notebook.get_cells();\n",
       "                for (var i = 0; i < nbb_cells.length; ++i) {\n",
       "                    if (nbb_cells[i].input_prompt_number == nbb_cell_id) {\n",
       "                        if (nbb_cells[i].get_text() == nbb_unformatted_code) {\n",
       "                             nbb_cells[i].set_text(nbb_formatted_code);\n",
       "                        }\n",
       "                        break;\n",
       "                    }\n",
       "                }\n",
       "            }, 500);\n",
       "            "
      ],
      "text/plain": [
       "<IPython.core.display.Javascript object>"
      ]
     },
     "metadata": {},
     "output_type": "display_data"
    },
    {
     "data": {
      "application/javascript": [
       "\n",
       "            setTimeout(function() {\n",
       "                var nbb_cell_id = 6;\n",
       "                var nbb_unformatted_code = \"%reload_ext nb_black\";\n",
       "                var nbb_formatted_code = \"%reload_ext nb_black\";\n",
       "                var nbb_cells = Jupyter.notebook.get_cells();\n",
       "                for (var i = 0; i < nbb_cells.length; ++i) {\n",
       "                    if (nbb_cells[i].input_prompt_number == nbb_cell_id) {\n",
       "                        if (nbb_cells[i].get_text() == nbb_unformatted_code) {\n",
       "                             nbb_cells[i].set_text(nbb_formatted_code);\n",
       "                        }\n",
       "                        break;\n",
       "                    }\n",
       "                }\n",
       "            }, 500);\n",
       "            "
      ],
      "text/plain": [
       "<IPython.core.display.Javascript object>"
      ]
     },
     "metadata": {},
     "output_type": "display_data"
    },
    {
     "data": {
      "application/javascript": [
       "\n",
       "            setTimeout(function() {\n",
       "                var nbb_cell_id = 6;\n",
       "                var nbb_unformatted_code = \"%reload_ext nb_black\";\n",
       "                var nbb_formatted_code = \"%reload_ext nb_black\";\n",
       "                var nbb_cells = Jupyter.notebook.get_cells();\n",
       "                for (var i = 0; i < nbb_cells.length; ++i) {\n",
       "                    if (nbb_cells[i].input_prompt_number == nbb_cell_id) {\n",
       "                        if (nbb_cells[i].get_text() == nbb_unformatted_code) {\n",
       "                             nbb_cells[i].set_text(nbb_formatted_code);\n",
       "                        }\n",
       "                        break;\n",
       "                    }\n",
       "                }\n",
       "            }, 500);\n",
       "            "
      ],
      "text/plain": [
       "<IPython.core.display.Javascript object>"
      ]
     },
     "metadata": {},
     "output_type": "display_data"
    }
   ],
   "source": [
    "%reload_ext nb_black"
   ]
  },
  {
   "cell_type": "code",
   "execution_count": null,
   "metadata": {},
   "outputs": [],
   "source": [
    "# Python Googling template:\n",
    "#  * python <package> <data type> <thing you want to do>\n",
    "#  * Example: python pandas dataframe group by agg"
   ]
  },
  {
   "cell_type": "markdown",
   "metadata": {},
   "source": [
    "# Probability"
   ]
  },
  {
   "cell_type": "markdown",
   "metadata": {},
   "source": [
    "##  Some definitions\n",
    "\n",
    "* **Experiment** - a repeatable procedure with a set of well-defined possible results (e.g. rolling a die).\n",
    "* **Trial** - a single performance of an experiment (e.g. one roll of the die).\n",
    "* **Outcome** - the result of a trial (e.g. a 2 was rolled).\n",
    "* **Sample Space** - all the possible outcomes of an experiment (e.g. 1, 2, 3, 4, 5, or 6).\n",
    "* **Event** - one or more outcomes of interest in the sample space (e.g. two 3s were rolled in a row, an odd number was rolled, etc.).\n",
    "\n",
    "\n",
    "* **Population** - the entire group that you want to draw conclusions about\n",
    "* **Sample** - the specific group that you will collect data from\n",
    "\n",
    "\n",
    "Sample vs population examples:\n",
    "\n",
    "* You're wanting to measuring the pH of the Gulf of Mexico.  You can't directly measure the whole body of water (the whole body of water is the population); you'll need to take many measurements and different locations (these measurements are the sample(s)).\n",
    "* Political polling only polls a small group (sample) and attempts to generalize the results to the entire country (population).\n",
    "\n",
    "---\n",
    "\n",
    "population & sample definitions from [here](https://www.scribbr.com/methodology/population-vs-sample/#:~:text=A%20population%20is%20the%20entire,t%20always%20refer%20to%20people.)."
   ]
  },
  {
   "cell_type": "markdown",
   "metadata": {},
   "source": [
    "## Playing with probability"
   ]
  },
  {
   "cell_type": "code",
   "execution_count": 3,
   "metadata": {},
   "outputs": [
    {
     "data": {
      "application/javascript": [
       "\n",
       "            setTimeout(function() {\n",
       "                var nbb_cell_id = 3;\n",
       "                var nbb_unformatted_code = \"import random\\nimport pandas as pd\\nimport seaborn as sns\\nimport matplotlib.pyplot as plt\\n%matplotlib inline\";\n",
       "                var nbb_formatted_code = \"import random\\nimport pandas as pd\\nimport seaborn as sns\\nimport matplotlib.pyplot as plt\\n\\n%matplotlib inline\";\n",
       "                var nbb_cells = Jupyter.notebook.get_cells();\n",
       "                for (var i = 0; i < nbb_cells.length; ++i) {\n",
       "                    if (nbb_cells[i].input_prompt_number == nbb_cell_id) {\n",
       "                        if (nbb_cells[i].get_text() == nbb_unformatted_code) {\n",
       "                             nbb_cells[i].set_text(nbb_formatted_code);\n",
       "                        }\n",
       "                        break;\n",
       "                    }\n",
       "                }\n",
       "            }, 500);\n",
       "            "
      ],
      "text/plain": [
       "<IPython.core.display.Javascript object>"
      ]
     },
     "metadata": {},
     "output_type": "display_data"
    }
   ],
   "source": [
    "import random\n",
    "import pandas as pd\n",
    "import seaborn as sns\n",
    "import matplotlib.pyplot as plt\n",
    "\n",
    "%matplotlib inline"
   ]
  },
  {
   "cell_type": "markdown",
   "metadata": {},
   "source": [
    "### Coin flip\n",
    "\n",
    "* Write a function to simulate a coin flip\n",
    "* Use the function to flip a coin 500 times\n",
    "* According to this data, what is the probability of heads?\n",
    "\n",
    "----\n",
    "\n",
    "* Bonus prompt: create a plot of the probability of heads over time in this simulation (i.e. lets say my trials resulted in `['H', 'T', 'T']`, at time `0` the probability of heads is 1.0, at time `1` probability is `0.5`, at time `2` probability is `0.33333`)."
   ]
  },
  {
   "cell_type": "markdown",
   "metadata": {},
   "source": [
    "### Function writing tips\n",
    "\n",
    "* Identify the inputs & outputs that your function needs to have to solve the task at hand.\n",
    "* Define some variables to act as the inputs while you figure out the process it will take to produce the outpus.\n",
    "* Write the process to convert the inputs into the outputs.\n",
    "* Fill in the blanks of this function template:\n",
    "\n",
    "```python\n",
    "def function_name(inputs):\n",
    "    process\n",
    "\n",
    "    return output\n",
    "```"
   ]
  },
  {
   "cell_type": "markdown",
   "metadata": {},
   "source": [
    "---\n",
    "\n",
    "* Identify the inputs & outputs that your function needs to have to solve the task at hand.\n",
    "* Define some variables to act as the inputs while you figure out the process it will take to produce the outpus.  (No need here)"
   ]
  },
  {
   "cell_type": "code",
   "execution_count": 14,
   "metadata": {},
   "outputs": [
    {
     "data": {
      "application/javascript": [
       "\n",
       "            setTimeout(function() {\n",
       "                var nbb_cell_id = 14;\n",
       "                var nbb_unformatted_code = \"# * Inputs\\n#   * None\\n\\n# * Outputs\\n#   * 'H' or 'T' (50% chance of each)\\n\\n# * Process (input -> output)\\n#   * random.choice()\";\n",
       "                var nbb_formatted_code = \"# * Inputs\\n#   * None\\n\\n# * Outputs\\n#   * 'H' or 'T' (50% chance of each)\\n\\n# * Process (input -> output)\\n#   * random.choice()\";\n",
       "                var nbb_cells = Jupyter.notebook.get_cells();\n",
       "                for (var i = 0; i < nbb_cells.length; ++i) {\n",
       "                    if (nbb_cells[i].input_prompt_number == nbb_cell_id) {\n",
       "                        if (nbb_cells[i].get_text() == nbb_unformatted_code) {\n",
       "                             nbb_cells[i].set_text(nbb_formatted_code);\n",
       "                        }\n",
       "                        break;\n",
       "                    }\n",
       "                }\n",
       "            }, 500);\n",
       "            "
      ],
      "text/plain": [
       "<IPython.core.display.Javascript object>"
      ]
     },
     "metadata": {},
     "output_type": "display_data"
    },
    {
     "data": {
      "application/javascript": [
       "\n",
       "            setTimeout(function() {\n",
       "                var nbb_cell_id = 14;\n",
       "                var nbb_unformatted_code = \"# * Inputs\\n#   * None\\n\\n# * Outputs\\n#   * 'H' or 'T' (50% chance of each)\\n\\n# * Process (input -> output)\\n#   * random.choice()\";\n",
       "                var nbb_formatted_code = \"# * Inputs\\n#   * None\\n\\n# * Outputs\\n#   * 'H' or 'T' (50% chance of each)\\n\\n# * Process (input -> output)\\n#   * random.choice()\";\n",
       "                var nbb_cells = Jupyter.notebook.get_cells();\n",
       "                for (var i = 0; i < nbb_cells.length; ++i) {\n",
       "                    if (nbb_cells[i].input_prompt_number == nbb_cell_id) {\n",
       "                        if (nbb_cells[i].get_text() == nbb_unformatted_code) {\n",
       "                             nbb_cells[i].set_text(nbb_formatted_code);\n",
       "                        }\n",
       "                        break;\n",
       "                    }\n",
       "                }\n",
       "            }, 500);\n",
       "            "
      ],
      "text/plain": [
       "<IPython.core.display.Javascript object>"
      ]
     },
     "metadata": {},
     "output_type": "display_data"
    },
    {
     "data": {
      "application/javascript": [
       "\n",
       "            setTimeout(function() {\n",
       "                var nbb_cell_id = 14;\n",
       "                var nbb_unformatted_code = \"# * Inputs\\n#   * None\\n\\n# * Outputs\\n#   * 'H' or 'T' (50% chance of each)\\n\\n# * Process (input -> output)\\n#   * random.choice()\";\n",
       "                var nbb_formatted_code = \"# * Inputs\\n#   * None\\n\\n# * Outputs\\n#   * 'H' or 'T' (50% chance of each)\\n\\n# * Process (input -> output)\\n#   * random.choice()\";\n",
       "                var nbb_cells = Jupyter.notebook.get_cells();\n",
       "                for (var i = 0; i < nbb_cells.length; ++i) {\n",
       "                    if (nbb_cells[i].input_prompt_number == nbb_cell_id) {\n",
       "                        if (nbb_cells[i].get_text() == nbb_unformatted_code) {\n",
       "                             nbb_cells[i].set_text(nbb_formatted_code);\n",
       "                        }\n",
       "                        break;\n",
       "                    }\n",
       "                }\n",
       "            }, 500);\n",
       "            "
      ],
      "text/plain": [
       "<IPython.core.display.Javascript object>"
      ]
     },
     "metadata": {},
     "output_type": "display_data"
    },
    {
     "data": {
      "application/javascript": [
       "\n",
       "            setTimeout(function() {\n",
       "                var nbb_cell_id = 14;\n",
       "                var nbb_unformatted_code = \"# * Inputs\\n#   * None\\n\\n# * Outputs\\n#   * 'H' or 'T' (50% chance of each)\\n\\n# * Process (input -> output)\\n#   * random.choice()\";\n",
       "                var nbb_formatted_code = \"# * Inputs\\n#   * None\\n\\n# * Outputs\\n#   * 'H' or 'T' (50% chance of each)\\n\\n# * Process (input -> output)\\n#   * random.choice()\";\n",
       "                var nbb_cells = Jupyter.notebook.get_cells();\n",
       "                for (var i = 0; i < nbb_cells.length; ++i) {\n",
       "                    if (nbb_cells[i].input_prompt_number == nbb_cell_id) {\n",
       "                        if (nbb_cells[i].get_text() == nbb_unformatted_code) {\n",
       "                             nbb_cells[i].set_text(nbb_formatted_code);\n",
       "                        }\n",
       "                        break;\n",
       "                    }\n",
       "                }\n",
       "            }, 500);\n",
       "            "
      ],
      "text/plain": [
       "<IPython.core.display.Javascript object>"
      ]
     },
     "metadata": {},
     "output_type": "display_data"
    }
   ],
   "source": [
    "# * Inputs\n",
    "#   * None, we're just flipping a coin\n",
    "#\n",
    "# * Outputs\n",
    "#   * 'H' or 'T' (50% chance of each)"
   ]
  },
  {
   "cell_type": "markdown",
   "metadata": {},
   "source": [
    "* Write the process to convert the inputs into the outputs."
   ]
  },
  {
   "cell_type": "code",
   "execution_count": 13,
   "metadata": {},
   "outputs": [
    {
     "data": {
      "text/plain": [
       "'T'"
      ]
     },
     "execution_count": 13,
     "metadata": {},
     "output_type": "execute_result"
    },
    {
     "data": {
      "application/javascript": [
       "\n",
       "            setTimeout(function() {\n",
       "                var nbb_cell_id = 13;\n",
       "                var nbb_unformatted_code = \"# python list select random element\\nsample_space = [\\\"H\\\", \\\"T\\\"]\\nrandom.choice(sample_space)\";\n",
       "                var nbb_formatted_code = \"# python list select random element\\nsample_space = [\\\"H\\\", \\\"T\\\"]\\nrandom.choice(sample_space)\";\n",
       "                var nbb_cells = Jupyter.notebook.get_cells();\n",
       "                for (var i = 0; i < nbb_cells.length; ++i) {\n",
       "                    if (nbb_cells[i].input_prompt_number == nbb_cell_id) {\n",
       "                        if (nbb_cells[i].get_text() == nbb_unformatted_code) {\n",
       "                             nbb_cells[i].set_text(nbb_formatted_code);\n",
       "                        }\n",
       "                        break;\n",
       "                    }\n",
       "                }\n",
       "            }, 500);\n",
       "            "
      ],
      "text/plain": [
       "<IPython.core.display.Javascript object>"
      ]
     },
     "metadata": {},
     "output_type": "display_data"
    },
    {
     "data": {
      "application/javascript": [
       "\n",
       "            setTimeout(function() {\n",
       "                var nbb_cell_id = 13;\n",
       "                var nbb_unformatted_code = \"# python list select random element\\nsample_space = [\\\"H\\\", \\\"T\\\"]\\nrandom.choice(sample_space)\";\n",
       "                var nbb_formatted_code = \"# python list select random element\\nsample_space = [\\\"H\\\", \\\"T\\\"]\\nrandom.choice(sample_space)\";\n",
       "                var nbb_cells = Jupyter.notebook.get_cells();\n",
       "                for (var i = 0; i < nbb_cells.length; ++i) {\n",
       "                    if (nbb_cells[i].input_prompt_number == nbb_cell_id) {\n",
       "                        if (nbb_cells[i].get_text() == nbb_unformatted_code) {\n",
       "                             nbb_cells[i].set_text(nbb_formatted_code);\n",
       "                        }\n",
       "                        break;\n",
       "                    }\n",
       "                }\n",
       "            }, 500);\n",
       "            "
      ],
      "text/plain": [
       "<IPython.core.display.Javascript object>"
      ]
     },
     "metadata": {},
     "output_type": "display_data"
    },
    {
     "data": {
      "application/javascript": [
       "\n",
       "            setTimeout(function() {\n",
       "                var nbb_cell_id = 13;\n",
       "                var nbb_unformatted_code = \"# python list select random element\\nsample_space = [\\\"H\\\", \\\"T\\\"]\\nrandom.choice(sample_space)\";\n",
       "                var nbb_formatted_code = \"# python list select random element\\nsample_space = [\\\"H\\\", \\\"T\\\"]\\nrandom.choice(sample_space)\";\n",
       "                var nbb_cells = Jupyter.notebook.get_cells();\n",
       "                for (var i = 0; i < nbb_cells.length; ++i) {\n",
       "                    if (nbb_cells[i].input_prompt_number == nbb_cell_id) {\n",
       "                        if (nbb_cells[i].get_text() == nbb_unformatted_code) {\n",
       "                             nbb_cells[i].set_text(nbb_formatted_code);\n",
       "                        }\n",
       "                        break;\n",
       "                    }\n",
       "                }\n",
       "            }, 500);\n",
       "            "
      ],
      "text/plain": [
       "<IPython.core.display.Javascript object>"
      ]
     },
     "metadata": {},
     "output_type": "display_data"
    },
    {
     "data": {
      "application/javascript": [
       "\n",
       "            setTimeout(function() {\n",
       "                var nbb_cell_id = 13;\n",
       "                var nbb_unformatted_code = \"# python list select random element\\nsample_space = [\\\"H\\\", \\\"T\\\"]\\nrandom.choice(sample_space)\";\n",
       "                var nbb_formatted_code = \"# python list select random element\\nsample_space = [\\\"H\\\", \\\"T\\\"]\\nrandom.choice(sample_space)\";\n",
       "                var nbb_cells = Jupyter.notebook.get_cells();\n",
       "                for (var i = 0; i < nbb_cells.length; ++i) {\n",
       "                    if (nbb_cells[i].input_prompt_number == nbb_cell_id) {\n",
       "                        if (nbb_cells[i].get_text() == nbb_unformatted_code) {\n",
       "                             nbb_cells[i].set_text(nbb_formatted_code);\n",
       "                        }\n",
       "                        break;\n",
       "                    }\n",
       "                }\n",
       "            }, 500);\n",
       "            "
      ],
      "text/plain": [
       "<IPython.core.display.Javascript object>"
      ]
     },
     "metadata": {},
     "output_type": "display_data"
    }
   ],
   "source": [
    "# Google for how we learned about random.choice:\n",
    "# \"python list select random element\"\n",
    "sample_space = [\"H\", \"T\"]\n",
    "random.choice(sample_space)"
   ]
  },
  {
   "cell_type": "markdown",
   "metadata": {},
   "source": [
    "* Fill in the blanks of this function template"
   ]
  },
  {
   "cell_type": "code",
   "execution_count": 15,
   "metadata": {},
   "outputs": [
    {
     "data": {
      "application/javascript": [
       "\n",
       "            setTimeout(function() {\n",
       "                var nbb_cell_id = 15;\n",
       "                var nbb_unformatted_code = \"def coin_flip():\\n    sample_space = [\\\"H\\\", \\\"T\\\"]\\n    outcome = random.choice(sample_space)\\n\\n    return outcome\";\n",
       "                var nbb_formatted_code = \"def coin_flip():\\n    sample_space = [\\\"H\\\", \\\"T\\\"]\\n    outcome = random.choice(sample_space)\\n\\n    return outcome\";\n",
       "                var nbb_cells = Jupyter.notebook.get_cells();\n",
       "                for (var i = 0; i < nbb_cells.length; ++i) {\n",
       "                    if (nbb_cells[i].input_prompt_number == nbb_cell_id) {\n",
       "                        if (nbb_cells[i].get_text() == nbb_unformatted_code) {\n",
       "                             nbb_cells[i].set_text(nbb_formatted_code);\n",
       "                        }\n",
       "                        break;\n",
       "                    }\n",
       "                }\n",
       "            }, 500);\n",
       "            "
      ],
      "text/plain": [
       "<IPython.core.display.Javascript object>"
      ]
     },
     "metadata": {},
     "output_type": "display_data"
    },
    {
     "data": {
      "application/javascript": [
       "\n",
       "            setTimeout(function() {\n",
       "                var nbb_cell_id = 15;\n",
       "                var nbb_unformatted_code = \"def coin_flip():\\n    sample_space = [\\\"H\\\", \\\"T\\\"]\\n    outcome = random.choice(sample_space)\\n\\n    return outcome\";\n",
       "                var nbb_formatted_code = \"def coin_flip():\\n    sample_space = [\\\"H\\\", \\\"T\\\"]\\n    outcome = random.choice(sample_space)\\n\\n    return outcome\";\n",
       "                var nbb_cells = Jupyter.notebook.get_cells();\n",
       "                for (var i = 0; i < nbb_cells.length; ++i) {\n",
       "                    if (nbb_cells[i].input_prompt_number == nbb_cell_id) {\n",
       "                        if (nbb_cells[i].get_text() == nbb_unformatted_code) {\n",
       "                             nbb_cells[i].set_text(nbb_formatted_code);\n",
       "                        }\n",
       "                        break;\n",
       "                    }\n",
       "                }\n",
       "            }, 500);\n",
       "            "
      ],
      "text/plain": [
       "<IPython.core.display.Javascript object>"
      ]
     },
     "metadata": {},
     "output_type": "display_data"
    },
    {
     "data": {
      "application/javascript": [
       "\n",
       "            setTimeout(function() {\n",
       "                var nbb_cell_id = 15;\n",
       "                var nbb_unformatted_code = \"def coin_flip():\\n    sample_space = [\\\"H\\\", \\\"T\\\"]\\n    outcome = random.choice(sample_space)\\n\\n    return outcome\";\n",
       "                var nbb_formatted_code = \"def coin_flip():\\n    sample_space = [\\\"H\\\", \\\"T\\\"]\\n    outcome = random.choice(sample_space)\\n\\n    return outcome\";\n",
       "                var nbb_cells = Jupyter.notebook.get_cells();\n",
       "                for (var i = 0; i < nbb_cells.length; ++i) {\n",
       "                    if (nbb_cells[i].input_prompt_number == nbb_cell_id) {\n",
       "                        if (nbb_cells[i].get_text() == nbb_unformatted_code) {\n",
       "                             nbb_cells[i].set_text(nbb_formatted_code);\n",
       "                        }\n",
       "                        break;\n",
       "                    }\n",
       "                }\n",
       "            }, 500);\n",
       "            "
      ],
      "text/plain": [
       "<IPython.core.display.Javascript object>"
      ]
     },
     "metadata": {},
     "output_type": "display_data"
    },
    {
     "data": {
      "application/javascript": [
       "\n",
       "            setTimeout(function() {\n",
       "                var nbb_cell_id = 15;\n",
       "                var nbb_unformatted_code = \"def coin_flip():\\n    sample_space = [\\\"H\\\", \\\"T\\\"]\\n    outcome = random.choice(sample_space)\\n\\n    return outcome\";\n",
       "                var nbb_formatted_code = \"def coin_flip():\\n    sample_space = [\\\"H\\\", \\\"T\\\"]\\n    outcome = random.choice(sample_space)\\n\\n    return outcome\";\n",
       "                var nbb_cells = Jupyter.notebook.get_cells();\n",
       "                for (var i = 0; i < nbb_cells.length; ++i) {\n",
       "                    if (nbb_cells[i].input_prompt_number == nbb_cell_id) {\n",
       "                        if (nbb_cells[i].get_text() == nbb_unformatted_code) {\n",
       "                             nbb_cells[i].set_text(nbb_formatted_code);\n",
       "                        }\n",
       "                        break;\n",
       "                    }\n",
       "                }\n",
       "            }, 500);\n",
       "            "
      ],
      "text/plain": [
       "<IPython.core.display.Javascript object>"
      ]
     },
     "metadata": {},
     "output_type": "display_data"
    }
   ],
   "source": [
    "def coin_flip():\n",
    "    sample_space = [\"H\", \"T\"]\n",
    "    outcome = random.choice(sample_space)\n",
    "\n",
    "    return outcome"
   ]
  },
  {
   "cell_type": "markdown",
   "metadata": {},
   "source": [
    "---"
   ]
  },
  {
   "cell_type": "markdown",
   "metadata": {},
   "source": [
    "Now that we have a function, we can address the prompt of flipping the coin 500 times."
   ]
  },
  {
   "cell_type": "code",
   "execution_count": 29,
   "metadata": {},
   "outputs": [
    {
     "name": "stdout",
     "output_type": "stream",
     "text": [
      "P(head)\n"
     ]
    },
    {
     "data": {
      "text/plain": [
       "0.528"
      ]
     },
     "execution_count": 29,
     "metadata": {},
     "output_type": "execute_result"
    },
    {
     "data": {
      "application/javascript": [
       "\n",
       "            setTimeout(function() {\n",
       "                var nbb_cell_id = 29;\n",
       "                var nbb_unformatted_code = \"n_trials = 500\\nheads = 0\\ntails = 0\\n\\nfor i in range(n_trials):\\n    outcome = coin_flip()\\n    if outcome == \\\"T\\\":\\n        tails += 1\\n    elif outcome == \\\"H\\\":\\n        heads += 1\\n\\nprint('P(head)')\\nheads / n_trials\";\n",
       "                var nbb_formatted_code = \"n_trials = 500\\nheads = 0\\ntails = 0\\n\\nfor i in range(n_trials):\\n    outcome = coin_flip()\\n    if outcome == \\\"T\\\":\\n        tails += 1\\n    elif outcome == \\\"H\\\":\\n        heads += 1\\n\\nprint(\\\"P(head)\\\")\\nheads / n_trials\";\n",
       "                var nbb_cells = Jupyter.notebook.get_cells();\n",
       "                for (var i = 0; i < nbb_cells.length; ++i) {\n",
       "                    if (nbb_cells[i].input_prompt_number == nbb_cell_id) {\n",
       "                        if (nbb_cells[i].get_text() == nbb_unformatted_code) {\n",
       "                             nbb_cells[i].set_text(nbb_formatted_code);\n",
       "                        }\n",
       "                        break;\n",
       "                    }\n",
       "                }\n",
       "            }, 500);\n",
       "            "
      ],
      "text/plain": [
       "<IPython.core.display.Javascript object>"
      ]
     },
     "metadata": {},
     "output_type": "display_data"
    },
    {
     "data": {
      "application/javascript": [
       "\n",
       "            setTimeout(function() {\n",
       "                var nbb_cell_id = 29;\n",
       "                var nbb_unformatted_code = \"n_trials = 500\\nheads = 0\\ntails = 0\\n\\nfor i in range(n_trials):\\n    outcome = coin_flip()\\n    if outcome == \\\"T\\\":\\n        tails += 1\\n    elif outcome == \\\"H\\\":\\n        heads += 1\\n\\nprint('P(head)')\\nheads / n_trials\";\n",
       "                var nbb_formatted_code = \"n_trials = 500\\nheads = 0\\ntails = 0\\n\\nfor i in range(n_trials):\\n    outcome = coin_flip()\\n    if outcome == \\\"T\\\":\\n        tails += 1\\n    elif outcome == \\\"H\\\":\\n        heads += 1\\n\\nprint(\\\"P(head)\\\")\\nheads / n_trials\";\n",
       "                var nbb_cells = Jupyter.notebook.get_cells();\n",
       "                for (var i = 0; i < nbb_cells.length; ++i) {\n",
       "                    if (nbb_cells[i].input_prompt_number == nbb_cell_id) {\n",
       "                        if (nbb_cells[i].get_text() == nbb_unformatted_code) {\n",
       "                             nbb_cells[i].set_text(nbb_formatted_code);\n",
       "                        }\n",
       "                        break;\n",
       "                    }\n",
       "                }\n",
       "            }, 500);\n",
       "            "
      ],
      "text/plain": [
       "<IPython.core.display.Javascript object>"
      ]
     },
     "metadata": {},
     "output_type": "display_data"
    },
    {
     "data": {
      "application/javascript": [
       "\n",
       "            setTimeout(function() {\n",
       "                var nbb_cell_id = 29;\n",
       "                var nbb_unformatted_code = \"n_trials = 500\\nheads = 0\\ntails = 0\\n\\nfor i in range(n_trials):\\n    outcome = coin_flip()\\n    if outcome == \\\"T\\\":\\n        tails += 1\\n    elif outcome == \\\"H\\\":\\n        heads += 1\\n\\nprint('P(head)')\\nheads / n_trials\";\n",
       "                var nbb_formatted_code = \"n_trials = 500\\nheads = 0\\ntails = 0\\n\\nfor i in range(n_trials):\\n    outcome = coin_flip()\\n    if outcome == \\\"T\\\":\\n        tails += 1\\n    elif outcome == \\\"H\\\":\\n        heads += 1\\n\\nprint(\\\"P(head)\\\")\\nheads / n_trials\";\n",
       "                var nbb_cells = Jupyter.notebook.get_cells();\n",
       "                for (var i = 0; i < nbb_cells.length; ++i) {\n",
       "                    if (nbb_cells[i].input_prompt_number == nbb_cell_id) {\n",
       "                        if (nbb_cells[i].get_text() == nbb_unformatted_code) {\n",
       "                             nbb_cells[i].set_text(nbb_formatted_code);\n",
       "                        }\n",
       "                        break;\n",
       "                    }\n",
       "                }\n",
       "            }, 500);\n",
       "            "
      ],
      "text/plain": [
       "<IPython.core.display.Javascript object>"
      ]
     },
     "metadata": {},
     "output_type": "display_data"
    },
    {
     "data": {
      "application/javascript": [
       "\n",
       "            setTimeout(function() {\n",
       "                var nbb_cell_id = 29;\n",
       "                var nbb_unformatted_code = \"n_trials = 500\\nheads = 0\\ntails = 0\\n\\nfor i in range(n_trials):\\n    outcome = coin_flip()\\n    if outcome == \\\"T\\\":\\n        tails += 1\\n    elif outcome == \\\"H\\\":\\n        heads += 1\\n\\nprint('P(head)')\\nheads / n_trials\";\n",
       "                var nbb_formatted_code = \"n_trials = 500\\nheads = 0\\ntails = 0\\n\\nfor i in range(n_trials):\\n    outcome = coin_flip()\\n    if outcome == \\\"T\\\":\\n        tails += 1\\n    elif outcome == \\\"H\\\":\\n        heads += 1\\n\\nprint(\\\"P(head)\\\")\\nheads / n_trials\";\n",
       "                var nbb_cells = Jupyter.notebook.get_cells();\n",
       "                for (var i = 0; i < nbb_cells.length; ++i) {\n",
       "                    if (nbb_cells[i].input_prompt_number == nbb_cell_id) {\n",
       "                        if (nbb_cells[i].get_text() == nbb_unformatted_code) {\n",
       "                             nbb_cells[i].set_text(nbb_formatted_code);\n",
       "                        }\n",
       "                        break;\n",
       "                    }\n",
       "                }\n",
       "            }, 500);\n",
       "            "
      ],
      "text/plain": [
       "<IPython.core.display.Javascript object>"
      ]
     },
     "metadata": {},
     "output_type": "display_data"
    }
   ],
   "source": [
    "n_trials = 500\n",
    "heads = 0\n",
    "tails = 0\n",
    "\n",
    "for i in range(n_trials):\n",
    "    outcome = coin_flip()\n",
    "    if outcome == \"T\":\n",
    "        tails += 1\n",
    "    elif outcome == \"H\":\n",
    "        heads += 1\n",
    "\n",
    "print(\"P(head)\")\n",
    "heads / n_trials"
   ]
  },
  {
   "cell_type": "markdown",
   "metadata": {},
   "source": [
    "## Iris\n",
    "\n",
    "If we selected a row at random from this data...\n",
    "\n",
    "* What's the probability the `'species'` is virginica?\n",
    "* What's the probability the `'petal_length'` is greater than `2.0`?\n",
    "\n",
    "Options to solve:\n",
    "* Describe what's in the dataframe directly.\n",
    "* Simulate by random sampling."
   ]
  },
  {
   "cell_type": "code",
   "execution_count": 70,
   "metadata": {},
   "outputs": [
    {
     "data": {
      "text/html": [
       "<div>\n",
       "<style scoped>\n",
       "    .dataframe tbody tr th:only-of-type {\n",
       "        vertical-align: middle;\n",
       "    }\n",
       "\n",
       "    .dataframe tbody tr th {\n",
       "        vertical-align: top;\n",
       "    }\n",
       "\n",
       "    .dataframe thead th {\n",
       "        text-align: right;\n",
       "    }\n",
       "</style>\n",
       "<table border=\"1\" class=\"dataframe\">\n",
       "  <thead>\n",
       "    <tr style=\"text-align: right;\">\n",
       "      <th></th>\n",
       "      <th>sepal_length</th>\n",
       "      <th>sepal_width</th>\n",
       "      <th>petal_length</th>\n",
       "      <th>petal_width</th>\n",
       "      <th>species</th>\n",
       "    </tr>\n",
       "  </thead>\n",
       "  <tbody>\n",
       "    <tr>\n",
       "      <th>0</th>\n",
       "      <td>5.1</td>\n",
       "      <td>3.5</td>\n",
       "      <td>1.4</td>\n",
       "      <td>0.2</td>\n",
       "      <td>setosa</td>\n",
       "    </tr>\n",
       "    <tr>\n",
       "      <th>1</th>\n",
       "      <td>4.9</td>\n",
       "      <td>3.0</td>\n",
       "      <td>1.4</td>\n",
       "      <td>0.2</td>\n",
       "      <td>setosa</td>\n",
       "    </tr>\n",
       "    <tr>\n",
       "      <th>2</th>\n",
       "      <td>4.7</td>\n",
       "      <td>3.2</td>\n",
       "      <td>1.3</td>\n",
       "      <td>0.2</td>\n",
       "      <td>setosa</td>\n",
       "    </tr>\n",
       "    <tr>\n",
       "      <th>3</th>\n",
       "      <td>4.6</td>\n",
       "      <td>3.1</td>\n",
       "      <td>1.5</td>\n",
       "      <td>0.2</td>\n",
       "      <td>setosa</td>\n",
       "    </tr>\n",
       "    <tr>\n",
       "      <th>4</th>\n",
       "      <td>5.0</td>\n",
       "      <td>3.6</td>\n",
       "      <td>1.4</td>\n",
       "      <td>0.2</td>\n",
       "      <td>setosa</td>\n",
       "    </tr>\n",
       "  </tbody>\n",
       "</table>\n",
       "</div>"
      ],
      "text/plain": [
       "   sepal_length  sepal_width  petal_length  petal_width species\n",
       "0           5.1          3.5           1.4          0.2  setosa\n",
       "1           4.9          3.0           1.4          0.2  setosa\n",
       "2           4.7          3.2           1.3          0.2  setosa\n",
       "3           4.6          3.1           1.5          0.2  setosa\n",
       "4           5.0          3.6           1.4          0.2  setosa"
      ]
     },
     "execution_count": 70,
     "metadata": {},
     "output_type": "execute_result"
    },
    {
     "data": {
      "application/javascript": [
       "\n",
       "            setTimeout(function() {\n",
       "                var nbb_cell_id = 70;\n",
       "                var nbb_unformatted_code = \"iris = sns.load_dataset(\\\"iris\\\")\\niris.head()\";\n",
       "                var nbb_formatted_code = \"iris = sns.load_dataset(\\\"iris\\\")\\niris.head()\";\n",
       "                var nbb_cells = Jupyter.notebook.get_cells();\n",
       "                for (var i = 0; i < nbb_cells.length; ++i) {\n",
       "                    if (nbb_cells[i].input_prompt_number == nbb_cell_id) {\n",
       "                        if (nbb_cells[i].get_text() == nbb_unformatted_code) {\n",
       "                             nbb_cells[i].set_text(nbb_formatted_code);\n",
       "                        }\n",
       "                        break;\n",
       "                    }\n",
       "                }\n",
       "            }, 500);\n",
       "            "
      ],
      "text/plain": [
       "<IPython.core.display.Javascript object>"
      ]
     },
     "metadata": {},
     "output_type": "display_data"
    },
    {
     "data": {
      "application/javascript": [
       "\n",
       "            setTimeout(function() {\n",
       "                var nbb_cell_id = 70;\n",
       "                var nbb_unformatted_code = \"iris = sns.load_dataset(\\\"iris\\\")\\niris.head()\";\n",
       "                var nbb_formatted_code = \"iris = sns.load_dataset(\\\"iris\\\")\\niris.head()\";\n",
       "                var nbb_cells = Jupyter.notebook.get_cells();\n",
       "                for (var i = 0; i < nbb_cells.length; ++i) {\n",
       "                    if (nbb_cells[i].input_prompt_number == nbb_cell_id) {\n",
       "                        if (nbb_cells[i].get_text() == nbb_unformatted_code) {\n",
       "                             nbb_cells[i].set_text(nbb_formatted_code);\n",
       "                        }\n",
       "                        break;\n",
       "                    }\n",
       "                }\n",
       "            }, 500);\n",
       "            "
      ],
      "text/plain": [
       "<IPython.core.display.Javascript object>"
      ]
     },
     "metadata": {},
     "output_type": "display_data"
    },
    {
     "data": {
      "application/javascript": [
       "\n",
       "            setTimeout(function() {\n",
       "                var nbb_cell_id = 70;\n",
       "                var nbb_unformatted_code = \"iris = sns.load_dataset(\\\"iris\\\")\\niris.head()\";\n",
       "                var nbb_formatted_code = \"iris = sns.load_dataset(\\\"iris\\\")\\niris.head()\";\n",
       "                var nbb_cells = Jupyter.notebook.get_cells();\n",
       "                for (var i = 0; i < nbb_cells.length; ++i) {\n",
       "                    if (nbb_cells[i].input_prompt_number == nbb_cell_id) {\n",
       "                        if (nbb_cells[i].get_text() == nbb_unformatted_code) {\n",
       "                             nbb_cells[i].set_text(nbb_formatted_code);\n",
       "                        }\n",
       "                        break;\n",
       "                    }\n",
       "                }\n",
       "            }, 500);\n",
       "            "
      ],
      "text/plain": [
       "<IPython.core.display.Javascript object>"
      ]
     },
     "metadata": {},
     "output_type": "display_data"
    },
    {
     "data": {
      "application/javascript": [
       "\n",
       "            setTimeout(function() {\n",
       "                var nbb_cell_id = 70;\n",
       "                var nbb_unformatted_code = \"iris = sns.load_dataset(\\\"iris\\\")\\niris.head()\";\n",
       "                var nbb_formatted_code = \"iris = sns.load_dataset(\\\"iris\\\")\\niris.head()\";\n",
       "                var nbb_cells = Jupyter.notebook.get_cells();\n",
       "                for (var i = 0; i < nbb_cells.length; ++i) {\n",
       "                    if (nbb_cells[i].input_prompt_number == nbb_cell_id) {\n",
       "                        if (nbb_cells[i].get_text() == nbb_unformatted_code) {\n",
       "                             nbb_cells[i].set_text(nbb_formatted_code);\n",
       "                        }\n",
       "                        break;\n",
       "                    }\n",
       "                }\n",
       "            }, 500);\n",
       "            "
      ],
      "text/plain": [
       "<IPython.core.display.Javascript object>"
      ]
     },
     "metadata": {},
     "output_type": "display_data"
    }
   ],
   "source": [
    "iris = sns.load_dataset(\"iris\")\n",
    "iris.head()"
   ]
  },
  {
   "cell_type": "code",
   "execution_count": 73,
   "metadata": {},
   "outputs": [
    {
     "data": {
      "text/plain": [
       "versicolor    0.333333\n",
       "setosa        0.333333\n",
       "virginica     0.333333\n",
       "Name: species, dtype: float64"
      ]
     },
     "execution_count": 73,
     "metadata": {},
     "output_type": "execute_result"
    },
    {
     "data": {
      "application/javascript": [
       "\n",
       "            setTimeout(function() {\n",
       "                var nbb_cell_id = 73;\n",
       "                var nbb_unformatted_code = \"# What's the probability the 'species' is virginica?\\niris[\\\"species\\\"].value_counts(normalize=True)\";\n",
       "                var nbb_formatted_code = \"# What's the probability the 'species' is virginica?\\niris[\\\"species\\\"].value_counts(normalize=True)\";\n",
       "                var nbb_cells = Jupyter.notebook.get_cells();\n",
       "                for (var i = 0; i < nbb_cells.length; ++i) {\n",
       "                    if (nbb_cells[i].input_prompt_number == nbb_cell_id) {\n",
       "                        if (nbb_cells[i].get_text() == nbb_unformatted_code) {\n",
       "                             nbb_cells[i].set_text(nbb_formatted_code);\n",
       "                        }\n",
       "                        break;\n",
       "                    }\n",
       "                }\n",
       "            }, 500);\n",
       "            "
      ],
      "text/plain": [
       "<IPython.core.display.Javascript object>"
      ]
     },
     "metadata": {},
     "output_type": "display_data"
    },
    {
     "data": {
      "application/javascript": [
       "\n",
       "            setTimeout(function() {\n",
       "                var nbb_cell_id = 73;\n",
       "                var nbb_unformatted_code = \"# What's the probability the 'species' is virginica?\\niris[\\\"species\\\"].value_counts(normalize=True)\";\n",
       "                var nbb_formatted_code = \"# What's the probability the 'species' is virginica?\\niris[\\\"species\\\"].value_counts(normalize=True)\";\n",
       "                var nbb_cells = Jupyter.notebook.get_cells();\n",
       "                for (var i = 0; i < nbb_cells.length; ++i) {\n",
       "                    if (nbb_cells[i].input_prompt_number == nbb_cell_id) {\n",
       "                        if (nbb_cells[i].get_text() == nbb_unformatted_code) {\n",
       "                             nbb_cells[i].set_text(nbb_formatted_code);\n",
       "                        }\n",
       "                        break;\n",
       "                    }\n",
       "                }\n",
       "            }, 500);\n",
       "            "
      ],
      "text/plain": [
       "<IPython.core.display.Javascript object>"
      ]
     },
     "metadata": {},
     "output_type": "display_data"
    },
    {
     "data": {
      "application/javascript": [
       "\n",
       "            setTimeout(function() {\n",
       "                var nbb_cell_id = 73;\n",
       "                var nbb_unformatted_code = \"# What's the probability the 'species' is virginica?\\niris[\\\"species\\\"].value_counts(normalize=True)\";\n",
       "                var nbb_formatted_code = \"# What's the probability the 'species' is virginica?\\niris[\\\"species\\\"].value_counts(normalize=True)\";\n",
       "                var nbb_cells = Jupyter.notebook.get_cells();\n",
       "                for (var i = 0; i < nbb_cells.length; ++i) {\n",
       "                    if (nbb_cells[i].input_prompt_number == nbb_cell_id) {\n",
       "                        if (nbb_cells[i].get_text() == nbb_unformatted_code) {\n",
       "                             nbb_cells[i].set_text(nbb_formatted_code);\n",
       "                        }\n",
       "                        break;\n",
       "                    }\n",
       "                }\n",
       "            }, 500);\n",
       "            "
      ],
      "text/plain": [
       "<IPython.core.display.Javascript object>"
      ]
     },
     "metadata": {},
     "output_type": "display_data"
    },
    {
     "data": {
      "application/javascript": [
       "\n",
       "            setTimeout(function() {\n",
       "                var nbb_cell_id = 73;\n",
       "                var nbb_unformatted_code = \"# What's the probability the 'species' is virginica?\\niris[\\\"species\\\"].value_counts(normalize=True)\";\n",
       "                var nbb_formatted_code = \"# What's the probability the 'species' is virginica?\\niris[\\\"species\\\"].value_counts(normalize=True)\";\n",
       "                var nbb_cells = Jupyter.notebook.get_cells();\n",
       "                for (var i = 0; i < nbb_cells.length; ++i) {\n",
       "                    if (nbb_cells[i].input_prompt_number == nbb_cell_id) {\n",
       "                        if (nbb_cells[i].get_text() == nbb_unformatted_code) {\n",
       "                             nbb_cells[i].set_text(nbb_formatted_code);\n",
       "                        }\n",
       "                        break;\n",
       "                    }\n",
       "                }\n",
       "            }, 500);\n",
       "            "
      ],
      "text/plain": [
       "<IPython.core.display.Javascript object>"
      ]
     },
     "metadata": {},
     "output_type": "display_data"
    }
   ],
   "source": [
    "# What's the probability the 'species' is virginica?\n",
    "iris[\"species\"].value_counts(normalize=True)"
   ]
  },
  {
   "cell_type": "code",
   "execution_count": 75,
   "metadata": {},
   "outputs": [
    {
     "data": {
      "text/plain": [
       "0    False\n",
       "1    False\n",
       "2    False\n",
       "3    False\n",
       "4    False\n",
       "Name: petal_length, dtype: bool"
      ]
     },
     "execution_count": 75,
     "metadata": {},
     "output_type": "execute_result"
    },
    {
     "data": {
      "application/javascript": [
       "\n",
       "            setTimeout(function() {\n",
       "                var nbb_cell_id = 75;\n",
       "                var nbb_unformatted_code = \"# What's the probability the 'petal_length' is greater than 2.0?\\ngreater_than = iris[\\\"petal_length\\\"] > 2.0\\ngreater_than.head()\";\n",
       "                var nbb_formatted_code = \"# What's the probability the 'petal_length' is greater than 2.0?\\ngreater_than = iris[\\\"petal_length\\\"] > 2.0\\ngreater_than.head()\";\n",
       "                var nbb_cells = Jupyter.notebook.get_cells();\n",
       "                for (var i = 0; i < nbb_cells.length; ++i) {\n",
       "                    if (nbb_cells[i].input_prompt_number == nbb_cell_id) {\n",
       "                        if (nbb_cells[i].get_text() == nbb_unformatted_code) {\n",
       "                             nbb_cells[i].set_text(nbb_formatted_code);\n",
       "                        }\n",
       "                        break;\n",
       "                    }\n",
       "                }\n",
       "            }, 500);\n",
       "            "
      ],
      "text/plain": [
       "<IPython.core.display.Javascript object>"
      ]
     },
     "metadata": {},
     "output_type": "display_data"
    },
    {
     "data": {
      "application/javascript": [
       "\n",
       "            setTimeout(function() {\n",
       "                var nbb_cell_id = 75;\n",
       "                var nbb_unformatted_code = \"# What's the probability the 'petal_length' is greater than 2.0?\\ngreater_than = iris[\\\"petal_length\\\"] > 2.0\\ngreater_than.head()\";\n",
       "                var nbb_formatted_code = \"# What's the probability the 'petal_length' is greater than 2.0?\\ngreater_than = iris[\\\"petal_length\\\"] > 2.0\\ngreater_than.head()\";\n",
       "                var nbb_cells = Jupyter.notebook.get_cells();\n",
       "                for (var i = 0; i < nbb_cells.length; ++i) {\n",
       "                    if (nbb_cells[i].input_prompt_number == nbb_cell_id) {\n",
       "                        if (nbb_cells[i].get_text() == nbb_unformatted_code) {\n",
       "                             nbb_cells[i].set_text(nbb_formatted_code);\n",
       "                        }\n",
       "                        break;\n",
       "                    }\n",
       "                }\n",
       "            }, 500);\n",
       "            "
      ],
      "text/plain": [
       "<IPython.core.display.Javascript object>"
      ]
     },
     "metadata": {},
     "output_type": "display_data"
    },
    {
     "data": {
      "application/javascript": [
       "\n",
       "            setTimeout(function() {\n",
       "                var nbb_cell_id = 75;\n",
       "                var nbb_unformatted_code = \"# What's the probability the 'petal_length' is greater than 2.0?\\ngreater_than = iris[\\\"petal_length\\\"] > 2.0\\ngreater_than.head()\";\n",
       "                var nbb_formatted_code = \"# What's the probability the 'petal_length' is greater than 2.0?\\ngreater_than = iris[\\\"petal_length\\\"] > 2.0\\ngreater_than.head()\";\n",
       "                var nbb_cells = Jupyter.notebook.get_cells();\n",
       "                for (var i = 0; i < nbb_cells.length; ++i) {\n",
       "                    if (nbb_cells[i].input_prompt_number == nbb_cell_id) {\n",
       "                        if (nbb_cells[i].get_text() == nbb_unformatted_code) {\n",
       "                             nbb_cells[i].set_text(nbb_formatted_code);\n",
       "                        }\n",
       "                        break;\n",
       "                    }\n",
       "                }\n",
       "            }, 500);\n",
       "            "
      ],
      "text/plain": [
       "<IPython.core.display.Javascript object>"
      ]
     },
     "metadata": {},
     "output_type": "display_data"
    },
    {
     "data": {
      "application/javascript": [
       "\n",
       "            setTimeout(function() {\n",
       "                var nbb_cell_id = 75;\n",
       "                var nbb_unformatted_code = \"# What's the probability the 'petal_length' is greater than 2.0?\\ngreater_than = iris[\\\"petal_length\\\"] > 2.0\\ngreater_than.head()\";\n",
       "                var nbb_formatted_code = \"# What's the probability the 'petal_length' is greater than 2.0?\\ngreater_than = iris[\\\"petal_length\\\"] > 2.0\\ngreater_than.head()\";\n",
       "                var nbb_cells = Jupyter.notebook.get_cells();\n",
       "                for (var i = 0; i < nbb_cells.length; ++i) {\n",
       "                    if (nbb_cells[i].input_prompt_number == nbb_cell_id) {\n",
       "                        if (nbb_cells[i].get_text() == nbb_unformatted_code) {\n",
       "                             nbb_cells[i].set_text(nbb_formatted_code);\n",
       "                        }\n",
       "                        break;\n",
       "                    }\n",
       "                }\n",
       "            }, 500);\n",
       "            "
      ],
      "text/plain": [
       "<IPython.core.display.Javascript object>"
      ]
     },
     "metadata": {},
     "output_type": "display_data"
    }
   ],
   "source": [
    "# What's the probability the 'petal_length' is greater than 2.0?\n",
    "greater_than = iris[\"petal_length\"] > 2.0\n",
    "greater_than.head()"
   ]
  },
  {
   "cell_type": "code",
   "execution_count": 76,
   "metadata": {},
   "outputs": [
    {
     "data": {
      "text/plain": [
       "0.6666666666666666"
      ]
     },
     "execution_count": 76,
     "metadata": {},
     "output_type": "execute_result"
    },
    {
     "data": {
      "application/javascript": [
       "\n",
       "            setTimeout(function() {\n",
       "                var nbb_cell_id = 76;\n",
       "                var nbb_unformatted_code = \"# We can do math with True/False\\n# Trues will act as 1s in this math\\n# Falses will act as 0s in this math\\n\\n# sum([True, True, False]) is 2\\n# the average of [True, True, False] is 0.66\\n# (average can be used in our case)\\ngreater_than.mean()\";\n",
       "                var nbb_formatted_code = \"# We can do math with True/False\\n# Trues will act as 1s in this math\\n# Falses will act as 0s in this math\\n\\n# sum([True, True, False]) is 2\\n# the average of [True, True, False] is 0.66\\n# (average can be used in our case)\\ngreater_than.mean()\";\n",
       "                var nbb_cells = Jupyter.notebook.get_cells();\n",
       "                for (var i = 0; i < nbb_cells.length; ++i) {\n",
       "                    if (nbb_cells[i].input_prompt_number == nbb_cell_id) {\n",
       "                        if (nbb_cells[i].get_text() == nbb_unformatted_code) {\n",
       "                             nbb_cells[i].set_text(nbb_formatted_code);\n",
       "                        }\n",
       "                        break;\n",
       "                    }\n",
       "                }\n",
       "            }, 500);\n",
       "            "
      ],
      "text/plain": [
       "<IPython.core.display.Javascript object>"
      ]
     },
     "metadata": {},
     "output_type": "display_data"
    },
    {
     "data": {
      "application/javascript": [
       "\n",
       "            setTimeout(function() {\n",
       "                var nbb_cell_id = 76;\n",
       "                var nbb_unformatted_code = \"# We can do math with True/False\\n# Trues will act as 1s in this math\\n# Falses will act as 0s in this math\\n\\n# sum([True, True, False]) is 2\\n# the average of [True, True, False] is 0.66\\n# (average can be used in our case)\\ngreater_than.mean()\";\n",
       "                var nbb_formatted_code = \"# We can do math with True/False\\n# Trues will act as 1s in this math\\n# Falses will act as 0s in this math\\n\\n# sum([True, True, False]) is 2\\n# the average of [True, True, False] is 0.66\\n# (average can be used in our case)\\ngreater_than.mean()\";\n",
       "                var nbb_cells = Jupyter.notebook.get_cells();\n",
       "                for (var i = 0; i < nbb_cells.length; ++i) {\n",
       "                    if (nbb_cells[i].input_prompt_number == nbb_cell_id) {\n",
       "                        if (nbb_cells[i].get_text() == nbb_unformatted_code) {\n",
       "                             nbb_cells[i].set_text(nbb_formatted_code);\n",
       "                        }\n",
       "                        break;\n",
       "                    }\n",
       "                }\n",
       "            }, 500);\n",
       "            "
      ],
      "text/plain": [
       "<IPython.core.display.Javascript object>"
      ]
     },
     "metadata": {},
     "output_type": "display_data"
    },
    {
     "data": {
      "application/javascript": [
       "\n",
       "            setTimeout(function() {\n",
       "                var nbb_cell_id = 76;\n",
       "                var nbb_unformatted_code = \"# We can do math with True/False\\n# Trues will act as 1s in this math\\n# Falses will act as 0s in this math\\n\\n# sum([True, True, False]) is 2\\n# the average of [True, True, False] is 0.66\\n# (average can be used in our case)\\ngreater_than.mean()\";\n",
       "                var nbb_formatted_code = \"# We can do math with True/False\\n# Trues will act as 1s in this math\\n# Falses will act as 0s in this math\\n\\n# sum([True, True, False]) is 2\\n# the average of [True, True, False] is 0.66\\n# (average can be used in our case)\\ngreater_than.mean()\";\n",
       "                var nbb_cells = Jupyter.notebook.get_cells();\n",
       "                for (var i = 0; i < nbb_cells.length; ++i) {\n",
       "                    if (nbb_cells[i].input_prompt_number == nbb_cell_id) {\n",
       "                        if (nbb_cells[i].get_text() == nbb_unformatted_code) {\n",
       "                             nbb_cells[i].set_text(nbb_formatted_code);\n",
       "                        }\n",
       "                        break;\n",
       "                    }\n",
       "                }\n",
       "            }, 500);\n",
       "            "
      ],
      "text/plain": [
       "<IPython.core.display.Javascript object>"
      ]
     },
     "metadata": {},
     "output_type": "display_data"
    },
    {
     "data": {
      "application/javascript": [
       "\n",
       "            setTimeout(function() {\n",
       "                var nbb_cell_id = 76;\n",
       "                var nbb_unformatted_code = \"# We can do math with True/False\\n# Trues will act as 1s in this math\\n# Falses will act as 0s in this math\\n\\n# sum([True, True, False]) is 2\\n# the average of [True, True, False] is 0.66\\n# (average can be used in our case)\\ngreater_than.mean()\";\n",
       "                var nbb_formatted_code = \"# We can do math with True/False\\n# Trues will act as 1s in this math\\n# Falses will act as 0s in this math\\n\\n# sum([True, True, False]) is 2\\n# the average of [True, True, False] is 0.66\\n# (average can be used in our case)\\ngreater_than.mean()\";\n",
       "                var nbb_cells = Jupyter.notebook.get_cells();\n",
       "                for (var i = 0; i < nbb_cells.length; ++i) {\n",
       "                    if (nbb_cells[i].input_prompt_number == nbb_cell_id) {\n",
       "                        if (nbb_cells[i].get_text() == nbb_unformatted_code) {\n",
       "                             nbb_cells[i].set_text(nbb_formatted_code);\n",
       "                        }\n",
       "                        break;\n",
       "                    }\n",
       "                }\n",
       "            }, 500);\n",
       "            "
      ],
      "text/plain": [
       "<IPython.core.display.Javascript object>"
      ]
     },
     "metadata": {},
     "output_type": "display_data"
    }
   ],
   "source": [
    "# We can do math with True/False\n",
    "# Trues will act as 1s in this math\n",
    "# Falses will act as 0s in this math\n",
    "\n",
    "# sum([True, True, False]) is 2\n",
    "# the average of [True, True, False] is 0.66\n",
    "# (average can be used in our case)\n",
    "greater_than.mean()"
   ]
  },
  {
   "cell_type": "markdown",
   "metadata": {},
   "source": [
    "### Monty hall\n",
    "\n",
    "You're on a gameshow where you're given 3 doors to choose from, each with a different prize.  Behind 1 door is your dream car; behind the other 2, goats.  \n",
    "\n",
    "The game show host, Monty, has you choose a door.  After you choose, Monty opens one of the remaining 2 doors to show a goat behind it.  This leaves the door you chose, and the one other remaining door; Monty gives you the chance to change your decision to the other door.\n",
    "\n",
    "Should you change or keep your door? Does it make a difference?\n",
    "\n",
    "* Write a simulation to compare the 2 strategies.\n",
    "    * What's the probability of winning if you keep your original door?\n",
    "    * What's the probability of winning if you change your door?"
   ]
  },
  {
   "cell_type": "markdown",
   "metadata": {},
   "source": [
    "----\n",
    "Version of code with 'what' style comments"
   ]
  },
  {
   "cell_type": "code",
   "execution_count": null,
   "metadata": {},
   "outputs": [],
   "source": [
    "n_trials = 1000\n",
    "\n",
    "change_wins = 0\n",
    "stay_wins = 0\n",
    "\n",
    "# 'Play' the game repeatedly\n",
    "for i in range(n_trials):\n",
    "    options = [\"goat\", \"goat\", \"car\"]\n",
    "    \n",
    "    # Randomize which door each item will be behind\n",
    "    random.shuffle(options)\n",
    "\n",
    "    # We will always choose the first door as our choice\n",
    "    chosen = options[0]\n",
    "    \n",
    "    # Identify the remaining 2 options using 'slicing'\n",
    "    remaining = options[1:]\n",
    "    \n",
    "    # Find out where the goat is located in the remaining options\n",
    "    goat_index = remaining.index(\"goat\")\n",
    "    # Remove the/a goat from the remaining options\n",
    "    del remaining[goat_index]\n",
    "    \n",
    "    # Add 1 to the strategy that would have won this round of the game\n",
    "    if chosen == \"car\":\n",
    "        stay_wins += 1\n",
    "    else:\n",
    "        change_wins += 1"
   ]
  },
  {
   "cell_type": "markdown",
   "metadata": {},
   "source": [
    "Version of code with only 'why' style comments"
   ]
  },
  {
   "cell_type": "code",
   "execution_count": 56,
   "metadata": {},
   "outputs": [
    {
     "data": {
      "application/javascript": [
       "\n",
       "            setTimeout(function() {\n",
       "                var nbb_cell_id = 56;\n",
       "                var nbb_unformatted_code = \"n_trials = 1000\\n\\nchange_wins = 0\\nstay_wins = 0\\n\\nfor i in range(n_trials):\\n    options = [\\\"goat\\\", \\\"goat\\\", \\\"car\\\"]\\n    random.shuffle(options)\\n\\n    # Being lazy and just taking 1st door always\\n    # Should not negatively impact the simulation\\n    chosen = options[0]\\n    remaining = options[1:]\\n\\n    goat_index = remaining.index(\\\"goat\\\")\\n    del remaining[goat_index]\\n\\n    if chosen == 'car':\\n        stay_wins += 1\\n    else:\\n        change_wins += 1\";\n",
       "                var nbb_formatted_code = \"n_trials = 1000\\n\\nchange_wins = 0\\nstay_wins = 0\\n\\nfor i in range(n_trials):\\n    options = [\\\"goat\\\", \\\"goat\\\", \\\"car\\\"]\\n    random.shuffle(options)\\n\\n    # Being lazy and just taking 1st door always\\n    # Should not negatively impact the simulation\\n    chosen = options[0]\\n    remaining = options[1:]\\n\\n    goat_index = remaining.index(\\\"goat\\\")\\n    del remaining[goat_index]\\n\\n    if chosen == \\\"car\\\":\\n        stay_wins += 1\\n    else:\\n        change_wins += 1\";\n",
       "                var nbb_cells = Jupyter.notebook.get_cells();\n",
       "                for (var i = 0; i < nbb_cells.length; ++i) {\n",
       "                    if (nbb_cells[i].input_prompt_number == nbb_cell_id) {\n",
       "                        if (nbb_cells[i].get_text() == nbb_unformatted_code) {\n",
       "                             nbb_cells[i].set_text(nbb_formatted_code);\n",
       "                        }\n",
       "                        break;\n",
       "                    }\n",
       "                }\n",
       "            }, 500);\n",
       "            "
      ],
      "text/plain": [
       "<IPython.core.display.Javascript object>"
      ]
     },
     "metadata": {},
     "output_type": "display_data"
    },
    {
     "data": {
      "application/javascript": [
       "\n",
       "            setTimeout(function() {\n",
       "                var nbb_cell_id = 56;\n",
       "                var nbb_unformatted_code = \"n_trials = 1000\\n\\nchange_wins = 0\\nstay_wins = 0\\n\\nfor i in range(n_trials):\\n    options = [\\\"goat\\\", \\\"goat\\\", \\\"car\\\"]\\n    random.shuffle(options)\\n\\n    # Being lazy and just taking 1st door always\\n    # Should not negatively impact the simulation\\n    chosen = options[0]\\n    remaining = options[1:]\\n\\n    goat_index = remaining.index(\\\"goat\\\")\\n    del remaining[goat_index]\\n\\n    if chosen == 'car':\\n        stay_wins += 1\\n    else:\\n        change_wins += 1\";\n",
       "                var nbb_formatted_code = \"n_trials = 1000\\n\\nchange_wins = 0\\nstay_wins = 0\\n\\nfor i in range(n_trials):\\n    options = [\\\"goat\\\", \\\"goat\\\", \\\"car\\\"]\\n    random.shuffle(options)\\n\\n    # Being lazy and just taking 1st door always\\n    # Should not negatively impact the simulation\\n    chosen = options[0]\\n    remaining = options[1:]\\n\\n    goat_index = remaining.index(\\\"goat\\\")\\n    del remaining[goat_index]\\n\\n    if chosen == \\\"car\\\":\\n        stay_wins += 1\\n    else:\\n        change_wins += 1\";\n",
       "                var nbb_cells = Jupyter.notebook.get_cells();\n",
       "                for (var i = 0; i < nbb_cells.length; ++i) {\n",
       "                    if (nbb_cells[i].input_prompt_number == nbb_cell_id) {\n",
       "                        if (nbb_cells[i].get_text() == nbb_unformatted_code) {\n",
       "                             nbb_cells[i].set_text(nbb_formatted_code);\n",
       "                        }\n",
       "                        break;\n",
       "                    }\n",
       "                }\n",
       "            }, 500);\n",
       "            "
      ],
      "text/plain": [
       "<IPython.core.display.Javascript object>"
      ]
     },
     "metadata": {},
     "output_type": "display_data"
    },
    {
     "data": {
      "application/javascript": [
       "\n",
       "            setTimeout(function() {\n",
       "                var nbb_cell_id = 56;\n",
       "                var nbb_unformatted_code = \"n_trials = 1000\\n\\nchange_wins = 0\\nstay_wins = 0\\n\\nfor i in range(n_trials):\\n    options = [\\\"goat\\\", \\\"goat\\\", \\\"car\\\"]\\n    random.shuffle(options)\\n\\n    # Being lazy and just taking 1st door always\\n    # Should not negatively impact the simulation\\n    chosen = options[0]\\n    remaining = options[1:]\\n\\n    goat_index = remaining.index(\\\"goat\\\")\\n    del remaining[goat_index]\\n\\n    if chosen == 'car':\\n        stay_wins += 1\\n    else:\\n        change_wins += 1\";\n",
       "                var nbb_formatted_code = \"n_trials = 1000\\n\\nchange_wins = 0\\nstay_wins = 0\\n\\nfor i in range(n_trials):\\n    options = [\\\"goat\\\", \\\"goat\\\", \\\"car\\\"]\\n    random.shuffle(options)\\n\\n    # Being lazy and just taking 1st door always\\n    # Should not negatively impact the simulation\\n    chosen = options[0]\\n    remaining = options[1:]\\n\\n    goat_index = remaining.index(\\\"goat\\\")\\n    del remaining[goat_index]\\n\\n    if chosen == \\\"car\\\":\\n        stay_wins += 1\\n    else:\\n        change_wins += 1\";\n",
       "                var nbb_cells = Jupyter.notebook.get_cells();\n",
       "                for (var i = 0; i < nbb_cells.length; ++i) {\n",
       "                    if (nbb_cells[i].input_prompt_number == nbb_cell_id) {\n",
       "                        if (nbb_cells[i].get_text() == nbb_unformatted_code) {\n",
       "                             nbb_cells[i].set_text(nbb_formatted_code);\n",
       "                        }\n",
       "                        break;\n",
       "                    }\n",
       "                }\n",
       "            }, 500);\n",
       "            "
      ],
      "text/plain": [
       "<IPython.core.display.Javascript object>"
      ]
     },
     "metadata": {},
     "output_type": "display_data"
    },
    {
     "data": {
      "application/javascript": [
       "\n",
       "            setTimeout(function() {\n",
       "                var nbb_cell_id = 56;\n",
       "                var nbb_unformatted_code = \"n_trials = 1000\\n\\nchange_wins = 0\\nstay_wins = 0\\n\\nfor i in range(n_trials):\\n    options = [\\\"goat\\\", \\\"goat\\\", \\\"car\\\"]\\n    random.shuffle(options)\\n\\n    # Being lazy and just taking 1st door always\\n    # Should not negatively impact the simulation\\n    chosen = options[0]\\n    remaining = options[1:]\\n\\n    goat_index = remaining.index(\\\"goat\\\")\\n    del remaining[goat_index]\\n\\n    if chosen == 'car':\\n        stay_wins += 1\\n    else:\\n        change_wins += 1\";\n",
       "                var nbb_formatted_code = \"n_trials = 1000\\n\\nchange_wins = 0\\nstay_wins = 0\\n\\nfor i in range(n_trials):\\n    options = [\\\"goat\\\", \\\"goat\\\", \\\"car\\\"]\\n    random.shuffle(options)\\n\\n    # Being lazy and just taking 1st door always\\n    # Should not negatively impact the simulation\\n    chosen = options[0]\\n    remaining = options[1:]\\n\\n    goat_index = remaining.index(\\\"goat\\\")\\n    del remaining[goat_index]\\n\\n    if chosen == \\\"car\\\":\\n        stay_wins += 1\\n    else:\\n        change_wins += 1\";\n",
       "                var nbb_cells = Jupyter.notebook.get_cells();\n",
       "                for (var i = 0; i < nbb_cells.length; ++i) {\n",
       "                    if (nbb_cells[i].input_prompt_number == nbb_cell_id) {\n",
       "                        if (nbb_cells[i].get_text() == nbb_unformatted_code) {\n",
       "                             nbb_cells[i].set_text(nbb_formatted_code);\n",
       "                        }\n",
       "                        break;\n",
       "                    }\n",
       "                }\n",
       "            }, 500);\n",
       "            "
      ],
      "text/plain": [
       "<IPython.core.display.Javascript object>"
      ]
     },
     "metadata": {},
     "output_type": "display_data"
    }
   ],
   "source": [
    "n_trials = 1000\n",
    "\n",
    "change_wins = 0\n",
    "stay_wins = 0\n",
    "\n",
    "\n",
    "for i in range(n_trials):\n",
    "    options = [\"goat\", \"goat\", \"car\"]\n",
    "    random.shuffle(options)\n",
    "\n",
    "    # Being lazy and just taking 1st door always\n",
    "    # Should not negatively impact the simulation\n",
    "    chosen = options[0]\n",
    "    remaining = options[1:]\n",
    "\n",
    "    goat_index = remaining.index(\"goat\")\n",
    "    del remaining[goat_index]\n",
    "\n",
    "    if chosen == \"car\":\n",
    "        stay_wins += 1\n",
    "    else:\n",
    "        change_wins += 1"
   ]
  },
  {
   "cell_type": "code",
   "execution_count": 66,
   "metadata": {},
   "outputs": [
    {
     "name": "stdout",
     "output_type": "stream",
     "text": [
      "Prob of winning if stay: 0.34\n",
      "Prob of winning if change: 0.66\n"
     ]
    },
    {
     "data": {
      "application/javascript": [
       "\n",
       "            setTimeout(function() {\n",
       "                var nbb_cell_id = 66;\n",
       "                var nbb_unformatted_code = \"print(f\\\"Prob of winning if stay: {stay_wins / n_trials:.2f}\\\")\\nprint(f\\\"Prob of winning if change: {change_wins / n_trials:.2f}\\\")\";\n",
       "                var nbb_formatted_code = \"print(f\\\"Prob of winning if stay: {stay_wins / n_trials:.2f}\\\")\\nprint(f\\\"Prob of winning if change: {change_wins / n_trials:.2f}\\\")\";\n",
       "                var nbb_cells = Jupyter.notebook.get_cells();\n",
       "                for (var i = 0; i < nbb_cells.length; ++i) {\n",
       "                    if (nbb_cells[i].input_prompt_number == nbb_cell_id) {\n",
       "                        if (nbb_cells[i].get_text() == nbb_unformatted_code) {\n",
       "                             nbb_cells[i].set_text(nbb_formatted_code);\n",
       "                        }\n",
       "                        break;\n",
       "                    }\n",
       "                }\n",
       "            }, 500);\n",
       "            "
      ],
      "text/plain": [
       "<IPython.core.display.Javascript object>"
      ]
     },
     "metadata": {},
     "output_type": "display_data"
    },
    {
     "data": {
      "application/javascript": [
       "\n",
       "            setTimeout(function() {\n",
       "                var nbb_cell_id = 66;\n",
       "                var nbb_unformatted_code = \"print(f\\\"Prob of winning if stay: {stay_wins / n_trials:.2f}\\\")\\nprint(f\\\"Prob of winning if change: {change_wins / n_trials:.2f}\\\")\";\n",
       "                var nbb_formatted_code = \"print(f\\\"Prob of winning if stay: {stay_wins / n_trials:.2f}\\\")\\nprint(f\\\"Prob of winning if change: {change_wins / n_trials:.2f}\\\")\";\n",
       "                var nbb_cells = Jupyter.notebook.get_cells();\n",
       "                for (var i = 0; i < nbb_cells.length; ++i) {\n",
       "                    if (nbb_cells[i].input_prompt_number == nbb_cell_id) {\n",
       "                        if (nbb_cells[i].get_text() == nbb_unformatted_code) {\n",
       "                             nbb_cells[i].set_text(nbb_formatted_code);\n",
       "                        }\n",
       "                        break;\n",
       "                    }\n",
       "                }\n",
       "            }, 500);\n",
       "            "
      ],
      "text/plain": [
       "<IPython.core.display.Javascript object>"
      ]
     },
     "metadata": {},
     "output_type": "display_data"
    },
    {
     "data": {
      "application/javascript": [
       "\n",
       "            setTimeout(function() {\n",
       "                var nbb_cell_id = 66;\n",
       "                var nbb_unformatted_code = \"print(f\\\"Prob of winning if stay: {stay_wins / n_trials:.2f}\\\")\\nprint(f\\\"Prob of winning if change: {change_wins / n_trials:.2f}\\\")\";\n",
       "                var nbb_formatted_code = \"print(f\\\"Prob of winning if stay: {stay_wins / n_trials:.2f}\\\")\\nprint(f\\\"Prob of winning if change: {change_wins / n_trials:.2f}\\\")\";\n",
       "                var nbb_cells = Jupyter.notebook.get_cells();\n",
       "                for (var i = 0; i < nbb_cells.length; ++i) {\n",
       "                    if (nbb_cells[i].input_prompt_number == nbb_cell_id) {\n",
       "                        if (nbb_cells[i].get_text() == nbb_unformatted_code) {\n",
       "                             nbb_cells[i].set_text(nbb_formatted_code);\n",
       "                        }\n",
       "                        break;\n",
       "                    }\n",
       "                }\n",
       "            }, 500);\n",
       "            "
      ],
      "text/plain": [
       "<IPython.core.display.Javascript object>"
      ]
     },
     "metadata": {},
     "output_type": "display_data"
    },
    {
     "data": {
      "application/javascript": [
       "\n",
       "            setTimeout(function() {\n",
       "                var nbb_cell_id = 66;\n",
       "                var nbb_unformatted_code = \"print(f\\\"Prob of winning if stay: {stay_wins / n_trials:.2f}\\\")\\nprint(f\\\"Prob of winning if change: {change_wins / n_trials:.2f}\\\")\";\n",
       "                var nbb_formatted_code = \"print(f\\\"Prob of winning if stay: {stay_wins / n_trials:.2f}\\\")\\nprint(f\\\"Prob of winning if change: {change_wins / n_trials:.2f}\\\")\";\n",
       "                var nbb_cells = Jupyter.notebook.get_cells();\n",
       "                for (var i = 0; i < nbb_cells.length; ++i) {\n",
       "                    if (nbb_cells[i].input_prompt_number == nbb_cell_id) {\n",
       "                        if (nbb_cells[i].get_text() == nbb_unformatted_code) {\n",
       "                             nbb_cells[i].set_text(nbb_formatted_code);\n",
       "                        }\n",
       "                        break;\n",
       "                    }\n",
       "                }\n",
       "            }, 500);\n",
       "            "
      ],
      "text/plain": [
       "<IPython.core.display.Javascript object>"
      ]
     },
     "metadata": {},
     "output_type": "display_data"
    }
   ],
   "source": [
    "print(f\"Prob of winning if stay: {stay_wins / n_trials}\")\n",
    "print(f\"Prob of winning if change: {change_wins / n_trials}\")"
   ]
  },
  {
   "cell_type": "markdown",
   "metadata": {},
   "source": [
    "----"
   ]
  },
  {
   "cell_type": "markdown",
   "metadata": {},
   "source": [
    "To print variables with additional context we can embed them in a string.  Three options for this are shown below.  A resource to read more about these options can be seen [here](https://realpython.com/python-string-formatting/)."
   ]
  },
  {
   "cell_type": "code",
   "execution_count": 79,
   "metadata": {},
   "outputs": [
    {
     "name": "stdout",
     "output_type": "stream",
     "text": [
      "I like python because it is very cool & gorgeous\n",
      "I like python because it is very cool & gorgeous\n",
      "I like python because it is very cool & gorgeous\n"
     ]
    },
    {
     "data": {
      "application/javascript": [
       "\n",
       "            setTimeout(function() {\n",
       "                var nbb_cell_id = 79;\n",
       "                var nbb_unformatted_code = \"adjective0 = \\\"cool\\\"\\nadjective1 = \\\"gorgeous\\\"\\nnoun = \\\"python\\\"\\n\\nprint(f\\\"I like {noun} because it is very {adjective0} & {adjective1}\\\")\\nprint(\\\"I like {} because it is very {} & {}\\\".format(noun, adjective0, adjective1))\\nprint(\\\"I like \\\" + noun + \\\" because it is very \\\" + adjective0 + \\\" & \\\" + adjective1)\";\n",
       "                var nbb_formatted_code = \"adjective0 = \\\"cool\\\"\\nadjective1 = \\\"gorgeous\\\"\\nnoun = \\\"python\\\"\\n\\nprint(f\\\"I like {noun} because it is very {adjective0} & {adjective1}\\\")\\nprint(\\\"I like {} because it is very {} & {}\\\".format(noun, adjective0, adjective1))\\nprint(\\\"I like \\\" + noun + \\\" because it is very \\\" + adjective0 + \\\" & \\\" + adjective1)\";\n",
       "                var nbb_cells = Jupyter.notebook.get_cells();\n",
       "                for (var i = 0; i < nbb_cells.length; ++i) {\n",
       "                    if (nbb_cells[i].input_prompt_number == nbb_cell_id) {\n",
       "                        if (nbb_cells[i].get_text() == nbb_unformatted_code) {\n",
       "                             nbb_cells[i].set_text(nbb_formatted_code);\n",
       "                        }\n",
       "                        break;\n",
       "                    }\n",
       "                }\n",
       "            }, 500);\n",
       "            "
      ],
      "text/plain": [
       "<IPython.core.display.Javascript object>"
      ]
     },
     "metadata": {},
     "output_type": "display_data"
    },
    {
     "data": {
      "application/javascript": [
       "\n",
       "            setTimeout(function() {\n",
       "                var nbb_cell_id = 79;\n",
       "                var nbb_unformatted_code = \"adjective0 = \\\"cool\\\"\\nadjective1 = \\\"gorgeous\\\"\\nnoun = \\\"python\\\"\\n\\nprint(f\\\"I like {noun} because it is very {adjective0} & {adjective1}\\\")\\nprint(\\\"I like {} because it is very {} & {}\\\".format(noun, adjective0, adjective1))\\nprint(\\\"I like \\\" + noun + \\\" because it is very \\\" + adjective0 + \\\" & \\\" + adjective1)\";\n",
       "                var nbb_formatted_code = \"adjective0 = \\\"cool\\\"\\nadjective1 = \\\"gorgeous\\\"\\nnoun = \\\"python\\\"\\n\\nprint(f\\\"I like {noun} because it is very {adjective0} & {adjective1}\\\")\\nprint(\\\"I like {} because it is very {} & {}\\\".format(noun, adjective0, adjective1))\\nprint(\\\"I like \\\" + noun + \\\" because it is very \\\" + adjective0 + \\\" & \\\" + adjective1)\";\n",
       "                var nbb_cells = Jupyter.notebook.get_cells();\n",
       "                for (var i = 0; i < nbb_cells.length; ++i) {\n",
       "                    if (nbb_cells[i].input_prompt_number == nbb_cell_id) {\n",
       "                        if (nbb_cells[i].get_text() == nbb_unformatted_code) {\n",
       "                             nbb_cells[i].set_text(nbb_formatted_code);\n",
       "                        }\n",
       "                        break;\n",
       "                    }\n",
       "                }\n",
       "            }, 500);\n",
       "            "
      ],
      "text/plain": [
       "<IPython.core.display.Javascript object>"
      ]
     },
     "metadata": {},
     "output_type": "display_data"
    },
    {
     "data": {
      "application/javascript": [
       "\n",
       "            setTimeout(function() {\n",
       "                var nbb_cell_id = 79;\n",
       "                var nbb_unformatted_code = \"adjective0 = \\\"cool\\\"\\nadjective1 = \\\"gorgeous\\\"\\nnoun = \\\"python\\\"\\n\\nprint(f\\\"I like {noun} because it is very {adjective0} & {adjective1}\\\")\\nprint(\\\"I like {} because it is very {} & {}\\\".format(noun, adjective0, adjective1))\\nprint(\\\"I like \\\" + noun + \\\" because it is very \\\" + adjective0 + \\\" & \\\" + adjective1)\";\n",
       "                var nbb_formatted_code = \"adjective0 = \\\"cool\\\"\\nadjective1 = \\\"gorgeous\\\"\\nnoun = \\\"python\\\"\\n\\nprint(f\\\"I like {noun} because it is very {adjective0} & {adjective1}\\\")\\nprint(\\\"I like {} because it is very {} & {}\\\".format(noun, adjective0, adjective1))\\nprint(\\\"I like \\\" + noun + \\\" because it is very \\\" + adjective0 + \\\" & \\\" + adjective1)\";\n",
       "                var nbb_cells = Jupyter.notebook.get_cells();\n",
       "                for (var i = 0; i < nbb_cells.length; ++i) {\n",
       "                    if (nbb_cells[i].input_prompt_number == nbb_cell_id) {\n",
       "                        if (nbb_cells[i].get_text() == nbb_unformatted_code) {\n",
       "                             nbb_cells[i].set_text(nbb_formatted_code);\n",
       "                        }\n",
       "                        break;\n",
       "                    }\n",
       "                }\n",
       "            }, 500);\n",
       "            "
      ],
      "text/plain": [
       "<IPython.core.display.Javascript object>"
      ]
     },
     "metadata": {},
     "output_type": "display_data"
    },
    {
     "data": {
      "application/javascript": [
       "\n",
       "            setTimeout(function() {\n",
       "                var nbb_cell_id = 79;\n",
       "                var nbb_unformatted_code = \"adjective0 = \\\"cool\\\"\\nadjective1 = \\\"gorgeous\\\"\\nnoun = \\\"python\\\"\\n\\nprint(f\\\"I like {noun} because it is very {adjective0} & {adjective1}\\\")\\nprint(\\\"I like {} because it is very {} & {}\\\".format(noun, adjective0, adjective1))\\nprint(\\\"I like \\\" + noun + \\\" because it is very \\\" + adjective0 + \\\" & \\\" + adjective1)\";\n",
       "                var nbb_formatted_code = \"adjective0 = \\\"cool\\\"\\nadjective1 = \\\"gorgeous\\\"\\nnoun = \\\"python\\\"\\n\\nprint(f\\\"I like {noun} because it is very {adjective0} & {adjective1}\\\")\\nprint(\\\"I like {} because it is very {} & {}\\\".format(noun, adjective0, adjective1))\\nprint(\\\"I like \\\" + noun + \\\" because it is very \\\" + adjective0 + \\\" & \\\" + adjective1)\";\n",
       "                var nbb_cells = Jupyter.notebook.get_cells();\n",
       "                for (var i = 0; i < nbb_cells.length; ++i) {\n",
       "                    if (nbb_cells[i].input_prompt_number == nbb_cell_id) {\n",
       "                        if (nbb_cells[i].get_text() == nbb_unformatted_code) {\n",
       "                             nbb_cells[i].set_text(nbb_formatted_code);\n",
       "                        }\n",
       "                        break;\n",
       "                    }\n",
       "                }\n",
       "            }, 500);\n",
       "            "
      ],
      "text/plain": [
       "<IPython.core.display.Javascript object>"
      ]
     },
     "metadata": {},
     "output_type": "display_data"
    }
   ],
   "source": [
    "adjective0 = \"cool\"\n",
    "adjective1 = \"gorgeous\"\n",
    "noun = \"python\"\n",
    "\n",
    "print(f\"I like {noun} because it is very {adjective0} & {adjective1}\")\n",
    "print(\"I like {} because it is very {} & {}\".format(noun, adjective0, adjective1))\n",
    "print(\"I like \" + noun + \" because it is very \" + adjective0 + \" & \" + adjective1)"
   ]
  }
 ],
 "metadata": {
  "kernelspec": {
   "display_name": "Python 3",
   "language": "python",
   "name": "python3"
  },
  "language_info": {
   "codemirror_mode": {
    "name": "ipython",
    "version": 3
   },
   "file_extension": ".py",
   "mimetype": "text/x-python",
   "name": "python",
   "nbconvert_exporter": "python",
   "pygments_lexer": "ipython3",
   "version": "3.7.7"
  }
 },
 "nbformat": 4,
 "nbformat_minor": 2
}
