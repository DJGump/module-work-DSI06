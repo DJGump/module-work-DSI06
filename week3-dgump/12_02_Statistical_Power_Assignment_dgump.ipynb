{
 "cells": [
  {
   "cell_type": "markdown",
   "metadata": {
    "colab_type": "text",
    "id": "HFf2astgG4Ja"
   },
   "source": [
    "# Statistical Power Assignment"
   ]
  },
  {
   "cell_type": "code",
   "execution_count": 2,
   "metadata": {
    "colab": {
     "base_uri": "https://localhost:8080/",
     "height": 72
    },
    "colab_type": "code",
    "executionInfo": {
     "elapsed": 1113,
     "status": "ok",
     "timestamp": 1596556324211,
     "user": {
      "displayName": "Adam Spannbauer",
      "photoUrl": "https://lh3.googleusercontent.com/a-/AOh14Gh0dsIFeXnf3iRsUkFzJFh96GSrIp79KYpNuPtB=s64",
      "userId": "04097551985177324740"
     },
     "user_tz": 240
    },
    "id": "CJSstY75G4Jc",
    "outputId": "679112e2-483f-494f-a472-aacaca29e512"
   },
   "outputs": [],
   "source": [
    "import numpy as np\n",
    "import pandas as pd\n",
    "\n",
    "from scipy import stats\n",
    "from statsmodels.stats.power import TTestIndPower\n",
    "\n",
    "import matplotlib.pyplot as plt\n",
    "\n",
    "%matplotlib inline"
   ]
  },
  {
   "cell_type": "markdown",
   "metadata": {
    "colab_type": "text",
    "id": "I7wJYEC-G4Jw"
   },
   "source": [
    "### Computing Sample Size Required\n",
    "\n",
    "Suppose we are conducting a test where we have:\n",
    "\n",
    "- Effect size of 0.5\n",
    "- Significance level of 0.05\n",
    "- Looking to achieve 80% statistical power\n",
    "\n",
    "How large of a sample size would we need for this experiment?"
   ]
  },
  {
   "cell_type": "code",
   "execution_count": 3,
   "metadata": {},
   "outputs": [],
   "source": [
    "analysis = TTestIndPower()"
   ]
  },
  {
   "cell_type": "code",
   "execution_count": 39,
   "metadata": {},
   "outputs": [
    {
     "data": {
      "text/plain": [
       "127.03848940009924"
      ]
     },
     "execution_count": 39,
     "metadata": {},
     "output_type": "execute_result"
    }
   ],
   "source": [
    "analysis.solve_power(effect_size=0.5, nobs1=None, alpha=0.05, power=0.8, ratio=1/3)"
   ]
  },
  {
   "cell_type": "code",
   "execution_count": 41,
   "metadata": {},
   "outputs": [],
   "source": [
    "analysis.solve_power?"
   ]
  },
  {
   "cell_type": "code",
   "execution_count": null,
   "metadata": {
    "colab": {},
    "colab_type": "code",
    "id": "4mFLkvFnG4J2"
   },
   "outputs": [],
   "source": []
  },
  {
   "cell_type": "markdown",
   "metadata": {
    "colab_type": "text",
    "id": "LcNVmyGsG4KB"
   },
   "source": [
    "### Computing Effect Size Required\n",
    "\n",
    "Suppose we are conducting a test where we have:\n",
    "\n",
    "- Sample size of 100\n",
    "- Significance level of 0.05\n",
    "- Looking to achieve 80% statistical power\n",
    "\n",
    "How large of an effect size would we need to see for this experiment?"
   ]
  },
  {
   "cell_type": "code",
   "execution_count": 22,
   "metadata": {
    "colab": {},
    "colab_type": "code",
    "id": "kxOoM94zG4KC"
   },
   "outputs": [
    {
     "data": {
      "text/plain": [
       "0.3981391173911278"
      ]
     },
     "execution_count": 22,
     "metadata": {},
     "output_type": "execute_result"
    }
   ],
   "source": [
    "analysis.solve_power(nobs1=100, alpha=0.05, power=0.8, ratio=1)"
   ]
  },
  {
   "cell_type": "markdown",
   "metadata": {
    "colab_type": "text",
    "id": "nhp7zvBmG4KH"
   },
   "source": [
    "Generate a power plot that shows how the statistical power of this test would change based on the number of observations and varying effect sizes."
   ]
  },
  {
   "cell_type": "code",
   "execution_count": 29,
   "metadata": {
    "colab": {},
    "colab_type": "code",
    "id": "l2UvpmXCG4KI"
   },
   "outputs": [],
   "source": [
    "n = 100\n",
    "es = analysis.solve_power(nobs1=100, alpha=0.05, power=0.8, ratio=1)\n",
    "sample_sizes = np.array([n * 0.1, n * 0.5, n, n * 2])\n",
    "effect_sizes = np.array([es * 0.1, es * 0.5, es, es * 2])"
   ]
  },
  {
   "cell_type": "code",
   "execution_count": 31,
   "metadata": {},
   "outputs": [
    {
     "data": {
      "image/png": "[encoded data removed]",
      "text/plain": [
       "<Figure size 432x288 with 1 Axes>"
      ]
     },
     "metadata": {
      "needs_background": "light"
     },
     "output_type": "display_data"
    }
   ],
   "source": [
    "analysis.plot_power(\n",
    "    dep_var=\"nobs\", nobs=sample_sizes, alpha=0.05, effect_size=effect_sizes\n",
    ")\n",
    "plt.show()"
   ]
  },
  {
   "cell_type": "code",
   "execution_count": 32,
   "metadata": {},
   "outputs": [],
   "source": []
  },
  {
   "cell_type": "markdown",
   "metadata": {
    "colab_type": "text",
    "id": "k1mp4tBXG4KP"
   },
   "source": [
    "### Computing Statistical Power\n",
    "\n",
    "Suppose we are conducting a test where we have:\n",
    "\n",
    "- Effect size of 0.4\n",
    "- Sample size of 100\n",
    "- Significance level of 0.05\n",
    "\n",
    "What would be the statistical power for this experiment?"
   ]
  },
  {
   "cell_type": "code",
   "execution_count": 34,
   "metadata": {
    "colab": {},
    "colab_type": "code",
    "id": "iohYAowNG4KR"
   },
   "outputs": [
    {
     "data": {
      "text/plain": [
       "0.8036474965430749"
      ]
     },
     "execution_count": 34,
     "metadata": {},
     "output_type": "execute_result"
    }
   ],
   "source": [
    "analysis.solve_power(effect_size=0.4, nobs1=100, alpha=0.05, power=None)"
   ]
  },
  {
   "cell_type": "markdown",
   "metadata": {
    "colab_type": "text",
    "id": "ZoXJHNZiG4KV"
   },
   "source": [
    "Generate a plot that examines how the statistical power of this experiment would change based on different significance levels."
   ]
  },
  {
   "cell_type": "code",
   "execution_count": 36,
   "metadata": {
    "colab": {},
    "colab_type": "code",
    "id": "XvUtHG29G4KX"
   },
   "outputs": [],
   "source": [
    "n = 100\n",
    "es = 0.4\n",
    "ps = [0.1, 0.05, 0.025, 0.0175, 0.01]"
   ]
  },
  {
   "cell_type": "code",
   "execution_count": 46,
   "metadata": {},
   "outputs": [],
   "source": [
    "# for loop to calculate power for each p-value\n",
    "powers = []\n",
    "for p in ps:\n",
    "    powers.append(analysis.solve_power(effect_size=0.4, nobs1=100, alpha=p, power=None))\n"
   ]
  },
  {
   "cell_type": "code",
   "execution_count": 48,
   "metadata": {},
   "outputs": [
    {
     "data": {
      "image/png": "[encoded data removed]",
      "text/plain": [
       "<Figure size 432x288 with 1 Axes>"
      ]
     },
     "metadata": {
      "needs_background": "light"
     },
     "output_type": "display_data"
    }
   ],
   "source": [
    "plt.plot(ps, powers)\n",
    "plt.show()"
   ]
  },
  {
   "cell_type": "markdown",
   "metadata": {
    "colab_type": "text",
    "id": "tkf74qmRG4Ke"
   },
   "source": [
    "## Computing Statistical Power for a Real Data Set\n",
    "\n",
    "Yesterday afternoon, you conducted a t-test on the titanic data set to determine whether there was a significant difference between the average age of passengers who survived and those who did not survive. In this section, compute the statistical power of that test."
   ]
  },
  {
   "cell_type": "markdown",
   "metadata": {
    "colab_type": "text",
    "id": "KzYOXFNuG4Kf"
   },
   "source": [
    "### Import the data, and drop rows where `'Age'` is NA."
   ]
  },
  {
   "cell_type": "code",
   "execution_count": 50,
   "metadata": {
    "colab": {},
    "colab_type": "code",
    "id": "W3C_d3s_FDR8"
   },
   "outputs": [],
   "source": [
    "data_url = 'https://tf-assets-prod.s3.amazonaws.com/tf-curric/data-science/titanic.csv'"
   ]
  },
  {
   "cell_type": "code",
   "execution_count": 55,
   "metadata": {
    "colab": {},
    "colab_type": "code",
    "id": "s0aP3nZAG4Kg"
   },
   "outputs": [
    {
     "data": {
      "text/html": [
       "<div>\n",
       "<style scoped>\n",
       "    .dataframe tbody tr th:only-of-type {\n",
       "        vertical-align: middle;\n",
       "    }\n",
       "\n",
       "    .dataframe tbody tr th {\n",
       "        vertical-align: top;\n",
       "    }\n",
       "\n",
       "    .dataframe thead th {\n",
       "        text-align: right;\n",
       "    }\n",
       "</style>\n",
       "<table border=\"1\" class=\"dataframe\">\n",
       "  <thead>\n",
       "    <tr style=\"text-align: right;\">\n",
       "      <th></th>\n",
       "      <th>PassengerId</th>\n",
       "      <th>Survived</th>\n",
       "      <th>Pclass</th>\n",
       "      <th>Name</th>\n",
       "      <th>Sex</th>\n",
       "      <th>Age</th>\n",
       "      <th>SibSp</th>\n",
       "      <th>Parch</th>\n",
       "      <th>Ticket</th>\n",
       "      <th>Fare</th>\n",
       "      <th>Cabin</th>\n",
       "      <th>Embarked</th>\n",
       "    </tr>\n",
       "  </thead>\n",
       "  <tbody>\n",
       "    <tr>\n",
       "      <th>0</th>\n",
       "      <td>1</td>\n",
       "      <td>0</td>\n",
       "      <td>3</td>\n",
       "      <td>Braund, Mr. Owen Harris</td>\n",
       "      <td>male</td>\n",
       "      <td>22.0</td>\n",
       "      <td>1</td>\n",
       "      <td>0</td>\n",
       "      <td>A/5 21171</td>\n",
       "      <td>7.2500</td>\n",
       "      <td>NaN</td>\n",
       "      <td>S</td>\n",
       "    </tr>\n",
       "    <tr>\n",
       "      <th>1</th>\n",
       "      <td>2</td>\n",
       "      <td>1</td>\n",
       "      <td>1</td>\n",
       "      <td>Cumings, Mrs. John Bradley (Florence Briggs Th...</td>\n",
       "      <td>female</td>\n",
       "      <td>38.0</td>\n",
       "      <td>1</td>\n",
       "      <td>0</td>\n",
       "      <td>PC 17599</td>\n",
       "      <td>71.2833</td>\n",
       "      <td>C85</td>\n",
       "      <td>C</td>\n",
       "    </tr>\n",
       "    <tr>\n",
       "      <th>2</th>\n",
       "      <td>3</td>\n",
       "      <td>1</td>\n",
       "      <td>3</td>\n",
       "      <td>Heikkinen, Miss. Laina</td>\n",
       "      <td>female</td>\n",
       "      <td>26.0</td>\n",
       "      <td>0</td>\n",
       "      <td>0</td>\n",
       "      <td>STON/O2. 3101282</td>\n",
       "      <td>7.9250</td>\n",
       "      <td>NaN</td>\n",
       "      <td>S</td>\n",
       "    </tr>\n",
       "    <tr>\n",
       "      <th>3</th>\n",
       "      <td>4</td>\n",
       "      <td>1</td>\n",
       "      <td>1</td>\n",
       "      <td>Futrelle, Mrs. Jacques Heath (Lily May Peel)</td>\n",
       "      <td>female</td>\n",
       "      <td>35.0</td>\n",
       "      <td>1</td>\n",
       "      <td>0</td>\n",
       "      <td>113803</td>\n",
       "      <td>53.1000</td>\n",
       "      <td>C123</td>\n",
       "      <td>S</td>\n",
       "    </tr>\n",
       "    <tr>\n",
       "      <th>4</th>\n",
       "      <td>5</td>\n",
       "      <td>0</td>\n",
       "      <td>3</td>\n",
       "      <td>Allen, Mr. William Henry</td>\n",
       "      <td>male</td>\n",
       "      <td>35.0</td>\n",
       "      <td>0</td>\n",
       "      <td>0</td>\n",
       "      <td>373450</td>\n",
       "      <td>8.0500</td>\n",
       "      <td>NaN</td>\n",
       "      <td>S</td>\n",
       "    </tr>\n",
       "  </tbody>\n",
       "</table>\n",
       "</div>"
      ],
      "text/plain": [
       "   PassengerId  Survived  Pclass  \\\n",
       "0            1         0       3   \n",
       "1            2         1       1   \n",
       "2            3         1       3   \n",
       "3            4         1       1   \n",
       "4            5         0       3   \n",
       "\n",
       "                                                Name     Sex   Age  SibSp  \\\n",
       "0                            Braund, Mr. Owen Harris    male  22.0      1   \n",
       "1  Cumings, Mrs. John Bradley (Florence Briggs Th...  female  38.0      1   \n",
       "2                             Heikkinen, Miss. Laina  female  26.0      0   \n",
       "3       Futrelle, Mrs. Jacques Heath (Lily May Peel)  female  35.0      1   \n",
       "4                           Allen, Mr. William Henry    male  35.0      0   \n",
       "\n",
       "   Parch            Ticket     Fare Cabin Embarked  \n",
       "0      0         A/5 21171   7.2500   NaN        S  \n",
       "1      0          PC 17599  71.2833   C85        C  \n",
       "2      0  STON/O2. 3101282   7.9250   NaN        S  \n",
       "3      0            113803  53.1000  C123        S  \n",
       "4      0            373450   8.0500   NaN        S  "
      ]
     },
     "execution_count": 55,
     "metadata": {},
     "output_type": "execute_result"
    }
   ],
   "source": [
    "titanic = pd.read_csv(data_url)\n",
    "titanic.head()"
   ]
  },
  {
   "cell_type": "code",
   "execution_count": 53,
   "metadata": {},
   "outputs": [],
   "source": [
    "ages = titanic[['Age', 'Survived']] "
   ]
  },
  {
   "cell_type": "code",
   "execution_count": 54,
   "metadata": {},
   "outputs": [
    {
     "name": "stderr",
     "output_type": "stream",
     "text": [
      "C:\\Users\\dgump\\miniconda3\\lib\\site-packages\\ipykernel_launcher.py:1: SettingWithCopyWarning: \n",
      "A value is trying to be set on a copy of a slice from a DataFrame\n",
      "\n",
      "See the caveats in the documentation: https://pandas.pydata.org/pandas-docs/stable/user_guide/indexing.html#returning-a-view-versus-a-copy\n",
      "  \"\"\"Entry point for launching an IPython kernel.\n"
     ]
    }
   ],
   "source": [
    "ages.dropna(inplace=True)"
   ]
  },
  {
   "cell_type": "code",
   "execution_count": null,
   "metadata": {},
   "outputs": [],
   "source": []
  },
  {
   "cell_type": "markdown",
   "metadata": {
    "colab_type": "text",
    "id": "QbnH4zT6G4Km"
   },
   "source": [
    "### Summarize the number of observations and average age per group."
   ]
  },
  {
   "cell_type": "code",
   "execution_count": 80,
   "metadata": {
    "colab": {},
    "colab_type": "code",
    "id": "IoEmT1hoG4Ko"
   },
   "outputs": [
    {
     "name": "stdout",
     "output_type": "stream",
     "text": [
      "Survived\n",
      "0    30.626179\n",
      "1    28.343690\n",
      "Name: Age, dtype: float64\n",
      "0    424\n",
      "1    290\n",
      "Name: Survived, dtype: int64\n"
     ]
    }
   ],
   "source": [
    "print(ages.groupby('Survived').Age.mean())\n",
    "print(ages.Survived.value_counts())\n",
    "lived = ages[ages[\"Survived\"] == 1]\n",
    "died = ages[ages[\"Survived\"] == 0]"
   ]
  },
  {
   "cell_type": "markdown",
   "metadata": {
    "colab_type": "text",
    "id": "DigcDVUWG4Ks"
   },
   "source": [
    "### Perform t-test."
   ]
  },
  {
   "cell_type": "code",
   "execution_count": 83,
   "metadata": {
    "colab": {},
    "colab_type": "code",
    "id": "oaMDD4mUG4Ku"
   },
   "outputs": [],
   "source": [
    "t, p = stats.ttest_ind(lived['Age'], died['Age'])"
   ]
  },
  {
   "cell_type": "markdown",
   "metadata": {
    "colab_type": "text",
    "id": "-JdTMpd6G4K1"
   },
   "source": [
    "### Calculate the Effect Size\n",
    "\n",
    "Effect size can be calculated by using a formula known as Cohen's d, which divides the difference in means between the two groups by their pooled standard deviation.\n",
    "\n",
    "`effect_size = (mean_of_sample1 - mean_of_sample2) / pooled_stdev`\n",
    "\n",
    "The pooled standard deviation in the denominator can be derived as follows.\n",
    "\n",
    "`pooled_stdev = sqrt(((n_obs1 - 1) * var1 + (n_obs2 - 1) * var2) / (n_obs1 + n_obs2 - 2))`\n",
    "\n",
    "Where `n_obs` is the number of observations and `var` is the variance of each sample.\n",
    "\n",
    "**Write the code below to calculate the effect size for this test.**"
   ]
  },
  {
   "cell_type": "code",
   "execution_count": 86,
   "metadata": {
    "colab": {},
    "colab_type": "code",
    "id": "MHv8oUu4G4K3"
   },
   "outputs": [
    {
     "data": {
      "text/plain": [
       "-0.15748597191363295"
      ]
     },
     "execution_count": 86,
     "metadata": {},
     "output_type": "execute_result"
    }
   ],
   "source": [
    "x1 = lived['Age']\n",
    "x2 = died['Age']\n",
    "\n",
    "s_pooled_numerator = (x1.size - 1) * x1.var() + (x2.size - 1) * x2.var()\n",
    "s_pooled_denominator = x1.size + x2.size - 2\n",
    "\n",
    "s_pooled = np.sqrt(s_pooled_numerator / s_pooled_denominator)\n",
    "s_pooled\n",
    "\n",
    "effect_size = (x1.mean() - x2.mean()) / s_pooled\n",
    "effect_size"
   ]
  },
  {
   "cell_type": "markdown",
   "metadata": {
    "colab_type": "text",
    "id": "fOFD5TzxG4LA"
   },
   "source": [
    "**Use the effect size you calculated to compute the statistical power of this test.**"
   ]
  },
  {
   "cell_type": "code",
   "execution_count": 100,
   "metadata": {
    "colab": {},
    "colab_type": "code",
    "id": "IPhO1sDYG4LC"
   },
   "outputs": [
    {
     "data": {
      "text/plain": [
       "0.5414181033266467"
      ]
     },
     "execution_count": 100,
     "metadata": {},
     "output_type": "execute_result"
    }
   ],
   "source": [
    "analysis = TTestIndPower()\n",
    "analysis.solve_power(effect_size=effect_size, nobs1=x2.size, alpha=0.05, power=None, ratio=x1.size/x2.size)"
   ]
  },
  {
   "cell_type": "code",
   "execution_count": 101,
   "metadata": {},
   "outputs": [
    {
     "data": {
      "text/plain": [
       "0.5414181033266467"
      ]
     },
     "execution_count": 101,
     "metadata": {},
     "output_type": "execute_result"
    }
   ],
   "source": [
    "analysis.solve_power(effect_size=effect_size, nobs1=x2.size, alpha=0.05, power=None, ratio=x1.size/x2.size)"
   ]
  },
  {
   "cell_type": "markdown",
   "metadata": {
    "colab_type": "text",
    "id": "cIW3XdbLG4LI"
   },
   "source": [
    "**Determine the effect size we would need to see to get a statistical power of 0.8.**"
   ]
  },
  {
   "cell_type": "code",
   "execution_count": 102,
   "metadata": {
    "colab": {},
    "colab_type": "code",
    "id": "fOb9oFJ2G4LK"
   },
   "outputs": [
    {
     "data": {
      "text/plain": [
       "0.21377414540055398"
      ]
     },
     "execution_count": 102,
     "metadata": {},
     "output_type": "execute_result"
    }
   ],
   "source": [
    "es = analysis.solve_power(effect_size=None, nobs1=x2.size, alpha=0.05, power=0.8, ratio=x1.size/x2.size)\n",
    "es"
   ]
  },
  {
   "cell_type": "code",
   "execution_count": 94,
   "metadata": {},
   "outputs": [],
   "source": []
  },
  {
   "cell_type": "code",
   "execution_count": null,
   "metadata": {},
   "outputs": [],
   "source": []
  },
  {
   "cell_type": "markdown",
   "metadata": {
    "colab_type": "text",
    "id": "kcZu7cPJG4LQ"
   },
   "source": [
    "**Determine the sample size necessary to get a statistical power of 0.8.**"
   ]
  },
  {
   "cell_type": "code",
   "execution_count": 109,
   "metadata": {
    "colab": {},
    "colab_type": "code",
    "id": "830JBqsmG4LR"
   },
   "outputs": [
    {
     "data": {
      "text/plain": [
       "633.8876889361542"
      ]
     },
     "execution_count": 109,
     "metadata": {},
     "output_type": "execute_result"
    }
   ],
   "source": [
    "samp_size = analysis.solve_power(effect_size=effect_size, nobs1=None, alpha=0.05, power=0.8)\n",
    "samp_size"
   ]
  },
  {
   "cell_type": "markdown",
   "metadata": {
    "colab_type": "text",
    "id": "XdUZfjwrG4LX"
   },
   "source": [
    "**Generate a visualization that shows the significance level we would need to get a statistical power of 0.8.**"
   ]
  },
  {
   "cell_type": "code",
   "execution_count": 129,
   "metadata": {
    "colab": {},
    "colab_type": "code",
    "id": "q1FgfzqNG4LZ"
   },
   "outputs": [],
   "source": [
    "n = x1.size\n",
    "effect_size\n",
    "ps = [0.4, 0.3, 0.2, 0.1, 0.05, 0.025, 0.0175, 0.01]"
   ]
  },
  {
   "cell_type": "code",
   "execution_count": 130,
   "metadata": {},
   "outputs": [],
   "source": [
    "powers = []\n",
    "for p in ps:\n",
    "    powers.append(analysis.solve_power(effect_size=effect_size, nobs1=n, alpha=p, power=None))"
   ]
  },
  {
   "cell_type": "code",
   "execution_count": 131,
   "metadata": {},
   "outputs": [
    {
     "data": {
      "image/png": "[encoded data removed]",
      "text/plain": [
       "<Figure size 432x288 with 1 Axes>"
      ]
     },
     "metadata": {
      "needs_background": "light"
     },
     "output_type": "display_data"
    }
   ],
   "source": [
    "plt.plot(ps, powers)\n",
    "plt.xlabel('p-value')\n",
    "plt.ylabel('Power')\n",
    "plt.show()"
   ]
  },
  {
   "cell_type": "code",
   "execution_count": null,
   "metadata": {},
   "outputs": [],
   "source": []
  }
 ],
 "metadata": {
  "colab": {
   "collapsed_sections": [],
   "name": "12_02_Statistical_Power_Assignment.ipynb",
   "provenance": []
  },
  "kernelspec": {
   "display_name": "Python 3",
   "language": "python",
   "name": "python3"
  },
  "language_info": {
   "codemirror_mode": {
    "name": "ipython",
    "version": 3
   },
   "file_extension": ".py",
   "mimetype": "text/x-python",
   "name": "python",
   "nbconvert_exporter": "python",
   "pygments_lexer": "ipython3",
   "version": "3.7.6"
  }
 },
 "nbformat": 4,
 "nbformat_minor": 1
}
