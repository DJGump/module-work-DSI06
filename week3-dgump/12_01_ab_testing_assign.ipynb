{
 "cells": [
  {
   "cell_type": "markdown",
   "metadata": {
    "colab_type": "text",
    "id": "BHU30SqmWrDL"
   },
   "source": [
    "## AB Testing\n",
    "\n",
    "12_01_ab_testing_assign_solution\n",
    "\n",
    "Introductory AB Testing walkthrough applied to the problem of determining if a change to a Website will lead to improved performance in a specific business metrics.\n",
    "\n",
    "We also will introduce the math behind AB testing.\n",
    "\n",
    "References:\n",
    "- Wiki AB Testting  \n",
    "https://en.wikipedia.org/wiki/A/B_testing\n",
    "\n",
    "- The Essential Guide to Effect Sizes: Statistical Power, Meta-Analysis, and the Interpretation of Research Results, 2010. Page 60. \n",
    "\n",
    "- Stanford lecture on sample sizes  \n",
    "http://statweb.stanford.edu/~susan/courses/s141/hopower.pdf"
   ]
  },
  {
   "cell_type": "code",
   "execution_count": 5,
   "metadata": {
    "colab": {},
    "colab_type": "code",
    "id": "FB4UfYtaWrDM"
   },
   "outputs": [],
   "source": [
    "import numpy as np\n",
    "import pandas as pd\n",
    "from scipy import stats\n",
    "import matplotlib.pyplot as plt\n",
    "\n",
    "%matplotlib inline"
   ]
  },
  {
   "cell_type": "markdown",
   "metadata": {
    "colab_type": "text",
    "id": "BX0dm4uHWrDP"
   },
   "source": [
    "### Topics\n",
    "\n",
    "1. Set up the experiment\n",
    "  * What is the goal? \n",
    "  * What is the metric? \n",
    "  * How much of an increase (\"lift\" in the metric) is worth the change? \n",
    "  * How much statistical power and level of significance do you need? Typically 80% and 0.05 are used respectively.\n",
    "  \n",
    "2. Set up a control group and test group by selecting users at random.\n",
    "\n",
    "3. Run the test and record the success rate for each group.\n",
    "\n",
    "4. Plot the distribution of the difference between the two samples.\n",
    "\n",
    "5. Measure the probability of getting the result of the test group and the confidence interval. Check to see if there is enough statistical power and that the level of significance is achieved.\n",
    "\n",
    "6. Consider other tradeoffs and decide if the change should be launched."
   ]
  },
  {
   "cell_type": "markdown",
   "metadata": {
    "colab_type": "text",
    "id": "DjlC412mWrDP"
   },
   "source": [
    "## Set up the experiment\n",
    "\n",
    "The goal of running the AB test is to evaluate if a change in a website will lead to improved performance in a specific metric. \n",
    "\n",
    "You may decide to test very simple alternatives such as changing the look of a single button on a webpage or testing different layouts and headlines, or a multi-step processes which may have many differences. For examlple, signing up a new user."
   ]
  },
  {
   "cell_type": "markdown",
   "metadata": {
    "colab_type": "text",
    "id": "gYz-yGEHWrDQ"
   },
   "source": [
    "## Variables\n",
    "\n",
    "* Sample size\n",
    "* Baseline conversion rate\n",
    "* Minimum detectable effect\n",
    "* Desired statistical power\n",
    "* Confidence level or level of significance"
   ]
  },
  {
   "cell_type": "markdown",
   "metadata": {
    "colab_type": "text",
    "id": "q66xzTslWrDQ"
   },
   "source": [
    "## Control Group A and Test Group B\n",
    "Typically, users are randomly selected and assigned to either a control group or a test group, and the total number of users participating in the A/B test make up a small percentage of the total amount of users. \n",
    "\n",
    "For this exercise, we will run an A/B test for a hypothetical company that is trying to get users to sign up for a premium account.\n",
    "\n",
    "Initially, we will collect 1000 samples for each group and serve the current signup page to the control group and a new signup page to the test group."
   ]
  },
  {
   "cell_type": "markdown",
   "metadata": {
    "colab_type": "text",
    "id": "q5pmDHvhWrDR"
   },
   "source": [
    "### Run the Test\n",
    "\n",
    "Since this is just a hypothetical case, we're going to generate synthetic data based on the binomial distribution. \n",
    "\n",
    "The binomial distribution with parameters n and p is the discrete probability distribution of the number of successes in a sequence of n independent experiments, each asking a yes–no question, and each with its own boolean-valued outcome: success / yes / true / one (with probability p) or failure / no / false / zero (with probability q = 1 − p). \n",
    "\n",
    "https://en.wikipedia.org/wiki/Binomial_distribution\n",
    "\n",
    "In real-world applications, you will have to set up your experiment, and wait an amount of time needed to gather the data."
   ]
  },
  {
   "cell_type": "code",
   "execution_count": 1,
   "metadata": {
    "colab": {},
    "colab_type": "code",
    "id": "4_iz-aStWrDR"
   },
   "outputs": [],
   "source": [
    "# A is control; B is test\n",
    "n_a = 1000\n",
    "n_b = 1000"
   ]
  },
  {
   "cell_type": "markdown",
   "metadata": {
    "colab_type": "text",
    "id": "NtZciaVtWrDT"
   },
   "source": [
    "You will also not be able to set the difference, `d_hat`, prior to your experiment, like we will be doing below for our hypothetical test."
   ]
  },
  {
   "cell_type": "code",
   "execution_count": 2,
   "metadata": {
    "colab": {},
    "colab_type": "code",
    "id": "R7MfWGgWWrDT"
   },
   "outputs": [],
   "source": [
    "# bcr: baseline conversion rate\n",
    "# d_hat: difference in a metric between the two groups, \n",
    "#   also referred to as minimal detectable effect or lift depending on the context\n",
    "p_a = 0.10\n",
    "p_b = 0.12"
   ]
  },
  {
   "cell_type": "code",
   "execution_count": 15,
   "metadata": {
    "colab": {},
    "colab_type": "code",
    "id": "dIDjcv3X4fuX"
   },
   "outputs": [],
   "source": [
    "def generate_data(n_a, n_b, p_a, p_b):\n",
    "    a_data = pd.DataFrame({\"group\": \"A\", \"converted\": np.random.binomial(1, p_a, n_a)})\n",
    "    b_data = pd.DataFrame({\"group\": \"B\", \"converted\": np.random.binomial(1, p_b, n_b)})\n",
    "    return pd.concat((a_data, b_data))"
   ]
  },
  {
   "cell_type": "code",
   "execution_count": 16,
   "metadata": {
    "colab": {},
    "colab_type": "code",
    "id": "8QXPWFUY-oSZ"
   },
   "outputs": [],
   "source": [
    "ab_data = generate_data(n_a, n_b, p_a, p_b)"
   ]
  },
  {
   "cell_type": "markdown",
   "metadata": {
    "colab_type": "text",
    "id": "P3cqW5O1WrDY"
   },
   "source": [
    "First, we should perform some preliminary data analysis."
   ]
  },
  {
   "cell_type": "code",
   "execution_count": 17,
   "metadata": {
    "colab": {
     "base_uri": "https://localhost:8080/",
     "height": 202
    },
    "colab_type": "code",
    "executionInfo": {
     "elapsed": 708,
     "status": "ok",
     "timestamp": 1596536757350,
     "user": {
      "displayName": "Adam Spannbauer",
      "photoUrl": "https://lh3.googleusercontent.com/a-/AOh14Gh0dsIFeXnf3iRsUkFzJFh96GSrIp79KYpNuPtB=s64",
      "userId": "04097551985177324740"
     },
     "user_tz": 240
    },
    "id": "NrLEbytUWrDZ",
    "outputId": "3c071355-8f2c-4eaf-e09c-60a535d06297"
   },
   "outputs": [
    {
     "data": {
      "text/html": [
       "<div>\n",
       "<style scoped>\n",
       "    .dataframe tbody tr th:only-of-type {\n",
       "        vertical-align: middle;\n",
       "    }\n",
       "\n",
       "    .dataframe tbody tr th {\n",
       "        vertical-align: top;\n",
       "    }\n",
       "\n",
       "    .dataframe thead th {\n",
       "        text-align: right;\n",
       "    }\n",
       "</style>\n",
       "<table border=\"1\" class=\"dataframe\">\n",
       "  <thead>\n",
       "    <tr style=\"text-align: right;\">\n",
       "      <th></th>\n",
       "      <th>group</th>\n",
       "      <th>converted</th>\n",
       "    </tr>\n",
       "  </thead>\n",
       "  <tbody>\n",
       "    <tr>\n",
       "      <th>0</th>\n",
       "      <td>A</td>\n",
       "      <td>0</td>\n",
       "    </tr>\n",
       "    <tr>\n",
       "      <th>1</th>\n",
       "      <td>A</td>\n",
       "      <td>0</td>\n",
       "    </tr>\n",
       "    <tr>\n",
       "      <th>2</th>\n",
       "      <td>A</td>\n",
       "      <td>0</td>\n",
       "    </tr>\n",
       "    <tr>\n",
       "      <th>3</th>\n",
       "      <td>A</td>\n",
       "      <td>0</td>\n",
       "    </tr>\n",
       "    <tr>\n",
       "      <th>4</th>\n",
       "      <td>A</td>\n",
       "      <td>0</td>\n",
       "    </tr>\n",
       "  </tbody>\n",
       "</table>\n",
       "</div>"
      ],
      "text/plain": [
       "  group  converted\n",
       "0     A          0\n",
       "1     A          0\n",
       "2     A          0\n",
       "3     A          0\n",
       "4     A          0"
      ]
     },
     "execution_count": 17,
     "metadata": {},
     "output_type": "execute_result"
    }
   ],
   "source": [
    "ab_data.head(5)"
   ]
  },
  {
   "cell_type": "markdown",
   "metadata": {
    "colab_type": "text",
    "id": "PB9PH1OyWrDb"
   },
   "source": [
    "Verify the dimensionality of the data."
   ]
  },
  {
   "cell_type": "code",
   "execution_count": 18,
   "metadata": {
    "colab": {
     "base_uri": "https://localhost:8080/",
     "height": 35
    },
    "colab_type": "code",
    "executionInfo": {
     "elapsed": 702,
     "status": "ok",
     "timestamp": 1596536757351,
     "user": {
      "displayName": "Adam Spannbauer",
      "photoUrl": "https://lh3.googleusercontent.com/a-/AOh14Gh0dsIFeXnf3iRsUkFzJFh96GSrIp79KYpNuPtB=s64",
      "userId": "04097551985177324740"
     },
     "user_tz": 240
    },
    "id": "Rd5jssOJWrDb",
    "outputId": "d2ef6b2a-2ce3-4c8d-bbfa-7b580a84b35a"
   },
   "outputs": [
    {
     "data": {
      "text/plain": [
       "(2000, 2)"
      ]
     },
     "execution_count": 18,
     "metadata": {},
     "output_type": "execute_result"
    }
   ],
   "source": [
    "ab_data.shape"
   ]
  },
  {
   "cell_type": "markdown",
   "metadata": {
    "colab_type": "text",
    "id": "JDC66D0vWrDd"
   },
   "source": [
    "Next, determine how many users from each group converted.\n",
    "\n",
    "Since we are using 1 for converted and 0 for not converted, we can `sum()` these values."
   ]
  },
  {
   "cell_type": "code",
   "execution_count": 19,
   "metadata": {
    "colab": {},
    "colab_type": "code",
    "id": "svhtmRS-WrDd"
   },
   "outputs": [],
   "source": [
    "a_group = ab_data[ab_data[\"group\"] == \"A\"]\n",
    "b_group = ab_data[ab_data[\"group\"] == \"B\"]"
   ]
  },
  {
   "cell_type": "code",
   "execution_count": 20,
   "metadata": {
    "colab": {
     "base_uri": "https://localhost:8080/",
     "height": 35
    },
    "colab_type": "code",
    "executionInfo": {
     "elapsed": 690,
     "status": "ok",
     "timestamp": 1596536757352,
     "user": {
      "displayName": "Adam Spannbauer",
      "photoUrl": "https://lh3.googleusercontent.com/a-/AOh14Gh0dsIFeXnf3iRsUkFzJFh96GSrIp79KYpNuPtB=s64",
      "userId": "04097551985177324740"
     },
     "user_tz": 240
    },
    "id": "YC8pV9wI7Wvc",
    "outputId": "82451670-38ad-4c3b-c123-3c3a235c88dc"
   },
   "outputs": [
    {
     "data": {
      "text/plain": [
       "95"
      ]
     },
     "execution_count": 20,
     "metadata": {},
     "output_type": "execute_result"
    }
   ],
   "source": [
    "a_converted = a_group[\"converted\"].sum()\n",
    "a_converted"
   ]
  },
  {
   "cell_type": "code",
   "execution_count": 21,
   "metadata": {
    "colab": {
     "base_uri": "https://localhost:8080/",
     "height": 35
    },
    "colab_type": "code",
    "executionInfo": {
     "elapsed": 683,
     "status": "ok",
     "timestamp": 1596536757352,
     "user": {
      "displayName": "Adam Spannbauer",
      "photoUrl": "https://lh3.googleusercontent.com/a-/AOh14Gh0dsIFeXnf3iRsUkFzJFh96GSrIp79KYpNuPtB=s64",
      "userId": "04097551985177324740"
     },
     "user_tz": 240
    },
    "id": "9y86IcJo7XpM",
    "outputId": "e49a4962-5249-4a6e-ccce-c7c9915bf73f"
   },
   "outputs": [
    {
     "data": {
      "text/plain": [
       "111"
      ]
     },
     "execution_count": 21,
     "metadata": {},
     "output_type": "execute_result"
    }
   ],
   "source": [
    "b_converted = b_group[\"converted\"].sum()\n",
    "b_converted"
   ]
  },
  {
   "cell_type": "code",
   "execution_count": 22,
   "metadata": {
    "colab": {
     "base_uri": "https://localhost:8080/",
     "height": 35
    },
    "colab_type": "code",
    "executionInfo": {
     "elapsed": 676,
     "status": "ok",
     "timestamp": 1596536757353,
     "user": {
      "displayName": "Adam Spannbauer",
      "photoUrl": "https://lh3.googleusercontent.com/a-/AOh14Gh0dsIFeXnf3iRsUkFzJFh96GSrIp79KYpNuPtB=s64",
      "userId": "04097551985177324740"
     },
     "user_tz": 240
    },
    "id": "P2XkxXi47l_v",
    "outputId": "0b45a769-5037-4ad9-d55d-00038ba5f733"
   },
   "outputs": [
    {
     "data": {
      "text/plain": [
       "1000"
      ]
     },
     "execution_count": 22,
     "metadata": {},
     "output_type": "execute_result"
    }
   ],
   "source": [
    "a_total = len(a_group)\n",
    "a_total"
   ]
  },
  {
   "cell_type": "code",
   "execution_count": 23,
   "metadata": {
    "colab": {
     "base_uri": "https://localhost:8080/",
     "height": 35
    },
    "colab_type": "code",
    "executionInfo": {
     "elapsed": 670,
     "status": "ok",
     "timestamp": 1596536757353,
     "user": {
      "displayName": "Adam Spannbauer",
      "photoUrl": "https://lh3.googleusercontent.com/a-/AOh14Gh0dsIFeXnf3iRsUkFzJFh96GSrIp79KYpNuPtB=s64",
      "userId": "04097551985177324740"
     },
     "user_tz": 240
    },
    "id": "KJcHqsw2WrDh",
    "outputId": "704ad2eb-73c1-447d-ba5c-04696a9acdf8"
   },
   "outputs": [
    {
     "data": {
      "text/plain": [
       "1000"
      ]
     },
     "execution_count": 23,
     "metadata": {},
     "output_type": "execute_result"
    }
   ],
   "source": [
    "b_total = len(b_group)\n",
    "b_total"
   ]
  },
  {
   "cell_type": "code",
   "execution_count": 24,
   "metadata": {
    "colab": {
     "base_uri": "https://localhost:8080/",
     "height": 35
    },
    "colab_type": "code",
    "executionInfo": {
     "elapsed": 664,
     "status": "ok",
     "timestamp": 1596536757354,
     "user": {
      "displayName": "Adam Spannbauer",
      "photoUrl": "https://lh3.googleusercontent.com/a-/AOh14Gh0dsIFeXnf3iRsUkFzJFh96GSrIp79KYpNuPtB=s64",
      "userId": "04097551985177324740"
     },
     "user_tz": 240
    },
    "id": "oaExpMuN70d6",
    "outputId": "f81f03fb-fd18-40a1-c387-b51fa54d767d"
   },
   "outputs": [
    {
     "data": {
      "text/plain": [
       "0.095"
      ]
     },
     "execution_count": 24,
     "metadata": {},
     "output_type": "execute_result"
    }
   ],
   "source": [
    "p_a = a_converted / a_total\n",
    "p_a"
   ]
  },
  {
   "cell_type": "code",
   "execution_count": 25,
   "metadata": {
    "colab": {
     "base_uri": "https://localhost:8080/",
     "height": 35
    },
    "colab_type": "code",
    "executionInfo": {
     "elapsed": 658,
     "status": "ok",
     "timestamp": 1596536757354,
     "user": {
      "displayName": "Adam Spannbauer",
      "photoUrl": "https://lh3.googleusercontent.com/a-/AOh14Gh0dsIFeXnf3iRsUkFzJFh96GSrIp79KYpNuPtB=s64",
      "userId": "04097551985177324740"
     },
     "user_tz": 240
    },
    "id": "mLRA-Utg70u3",
    "outputId": "3a1ebb91-344c-4de9-dcde-c0a45eb7d8a4"
   },
   "outputs": [
    {
     "data": {
      "text/plain": [
       "0.111"
      ]
     },
     "execution_count": 25,
     "metadata": {},
     "output_type": "execute_result"
    }
   ],
   "source": [
    "p_b = b_converted / b_total\n",
    "p_b"
   ]
  },
  {
   "cell_type": "markdown",
   "metadata": {
    "colab_type": "text",
    "id": "64LpXK0sWrDl"
   },
   "source": [
    "Calculate the difference in conversion rates, i.e., the \"lift.\""
   ]
  },
  {
   "cell_type": "code",
   "execution_count": 26,
   "metadata": {
    "colab": {
     "base_uri": "https://localhost:8080/",
     "height": 35
    },
    "colab_type": "code",
    "executionInfo": {
     "elapsed": 652,
     "status": "ok",
     "timestamp": 1596536757355,
     "user": {
      "displayName": "Adam Spannbauer",
      "photoUrl": "https://lh3.googleusercontent.com/a-/AOh14Gh0dsIFeXnf3iRsUkFzJFh96GSrIp79KYpNuPtB=s64",
      "userId": "04097551985177324740"
     },
     "user_tz": 240
    },
    "id": "03py4ptUWrDn",
    "outputId": "81cf9392-40e6-47ad-efd7-9f71f5f63850"
   },
   "outputs": [
    {
     "data": {
      "text/plain": [
       "0.016"
      ]
     },
     "execution_count": 26,
     "metadata": {},
     "output_type": "execute_result"
    }
   ],
   "source": [
    "p_b - p_a"
   ]
  },
  {
   "cell_type": "markdown",
   "metadata": {
    "colab_type": "text",
    "id": "BU8PeVn6WrDp"
   },
   "source": [
    "Summarize our experimental results"
   ]
  },
  {
   "cell_type": "code",
   "execution_count": 34,
   "metadata": {
    "colab": {},
    "colab_type": "code",
    "id": "dyqo40ye6QcD"
   },
   "outputs": [],
   "source": [
    "ab_summary = ab_data.groupby(\"group\").agg({\"converted\": [\"sum\", \"size\", \"mean\"]})\n",
    "ab_summary.columns = [\"converted\", \"total\", \"rate\"]"
   ]
  },
  {
   "cell_type": "code",
   "execution_count": null,
   "metadata": {},
   "outputs": [],
   "source": []
  },
  {
   "cell_type": "code",
   "execution_count": null,
   "metadata": {
    "scrolled": true
   },
   "outputs": [],
   "source": []
  },
  {
   "cell_type": "code",
   "execution_count": null,
   "metadata": {},
   "outputs": [],
   "source": []
  },
  {
   "cell_type": "code",
   "execution_count": 35,
   "metadata": {
    "colab": {
     "base_uri": "https://localhost:8080/",
     "height": 141
    },
    "colab_type": "code",
    "executionInfo": {
     "elapsed": 1073,
     "status": "ok",
     "timestamp": 1596536757787,
     "user": {
      "displayName": "Adam Spannbauer",
      "photoUrl": "https://lh3.googleusercontent.com/a-/AOh14Gh0dsIFeXnf3iRsUkFzJFh96GSrIp79KYpNuPtB=s64",
      "userId": "04097551985177324740"
     },
     "user_tz": 240
    },
    "id": "uMWtF_F9WrDr",
    "outputId": "922df68a-a7ed-4740-ece8-e3dd7f4f60ff"
   },
   "outputs": [
    {
     "data": {
      "text/html": [
       "<div>\n",
       "<style scoped>\n",
       "    .dataframe tbody tr th:only-of-type {\n",
       "        vertical-align: middle;\n",
       "    }\n",
       "\n",
       "    .dataframe tbody tr th {\n",
       "        vertical-align: top;\n",
       "    }\n",
       "\n",
       "    .dataframe thead th {\n",
       "        text-align: right;\n",
       "    }\n",
       "</style>\n",
       "<table border=\"1\" class=\"dataframe\">\n",
       "  <thead>\n",
       "    <tr style=\"text-align: right;\">\n",
       "      <th></th>\n",
       "      <th>converted</th>\n",
       "      <th>total</th>\n",
       "      <th>rate</th>\n",
       "    </tr>\n",
       "    <tr>\n",
       "      <th>group</th>\n",
       "      <th></th>\n",
       "      <th></th>\n",
       "      <th></th>\n",
       "    </tr>\n",
       "  </thead>\n",
       "  <tbody>\n",
       "    <tr>\n",
       "      <th>A</th>\n",
       "      <td>95</td>\n",
       "      <td>1000</td>\n",
       "      <td>0.095</td>\n",
       "    </tr>\n",
       "    <tr>\n",
       "      <th>B</th>\n",
       "      <td>111</td>\n",
       "      <td>1000</td>\n",
       "      <td>0.111</td>\n",
       "    </tr>\n",
       "  </tbody>\n",
       "</table>\n",
       "</div>"
      ],
      "text/plain": [
       "       converted  total   rate\n",
       "group                         \n",
       "A             95   1000  0.095\n",
       "B            111   1000  0.111"
      ]
     },
     "execution_count": 35,
     "metadata": {},
     "output_type": "execute_result"
    }
   ],
   "source": [
    "ab_summary"
   ]
  },
  {
   "cell_type": "markdown",
   "metadata": {
    "colab_type": "text",
    "id": "5gk36XCcWrDt"
   },
   "source": [
    "The result should be similar to the parameters that we used to set up the test. \n",
    "\n",
    "In real world applications, we will not be able to *set* how much lift we would see in the test group a priori. \n",
    "\n",
    "When setting up an experiment, we need to decide how many samples are needed for the test, and we will probably know the baseline conversion rate for the control.\n",
    "\n",
    "If you observe the conversion rate for both groups, you find that the new signup page resulted in an improvement of approximately 2%. This is good, but we need to demonstrate that this result is statistically significant."
   ]
  },
  {
   "cell_type": "markdown",
   "metadata": {
    "colab_type": "text",
    "id": "fLb-y2fxWrDt"
   },
   "source": [
    "## Compare the Two Samples\n"
   ]
  },
  {
   "cell_type": "markdown",
   "metadata": {
    "colab_type": "text",
    "id": "clpH9H_4WrDu"
   },
   "source": [
    "Plot the binomial distribution that corresponds to the control group `A` conversion rate.\n",
    "\n",
    "Evaluate the probability of getting the result from the test group `B` based on the binomial distribution from the control group, plot the result."
   ]
  },
  {
   "cell_type": "code",
   "execution_count": 31,
   "metadata": {
    "colab": {
     "base_uri": "https://localhost:8080/",
     "height": 35
    },
    "colab_type": "code",
    "executionInfo": {
     "elapsed": 1068,
     "status": "ok",
     "timestamp": 1596536757788,
     "user": {
      "displayName": "Adam Spannbauer",
      "photoUrl": "https://lh3.googleusercontent.com/a-/AOh14Gh0dsIFeXnf3iRsUkFzJFh96GSrIp79KYpNuPtB=s64",
      "userId": "04097551985177324740"
     },
     "user_tz": 240
    },
    "id": "NGS5oPPoWrDu",
    "outputId": "c4011031-6208-4fb8-cdca-6c6bcf2d4df0"
   },
   "outputs": [
    {
     "data": {
      "text/plain": [
       "111.0"
      ]
     },
     "execution_count": 31,
     "metadata": {},
     "output_type": "execute_result"
    }
   ],
   "source": [
    "result = p_b * a_total\n",
    "result"
   ]
  },
  {
   "cell_type": "code",
   "execution_count": 37,
   "metadata": {
    "colab": {
     "base_uri": "https://localhost:8080/",
     "height": 388
    },
    "colab_type": "code",
    "executionInfo": {
     "elapsed": 1061,
     "status": "ok",
     "timestamp": 1596536757788,
     "user": {
      "displayName": "Adam Spannbauer",
      "photoUrl": "https://lh3.googleusercontent.com/a-/AOh14Gh0dsIFeXnf3iRsUkFzJFh96GSrIp79KYpNuPtB=s64",
      "userId": "04097551985177324740"
     },
     "user_tz": 240
    },
    "id": "jAN1NtXAWrDx",
    "outputId": "4981bd23-ae7d-4793-880c-8ab8a142041f"
   },
   "outputs": [
    {
     "data": {
      "image/png": "[encoded data removed]",
      "text/plain": [
       "<Figure size 864x432 with 1 Axes>"
      ]
     },
     "metadata": {
      "needs_background": "light"
     },
     "output_type": "display_data"
    }
   ],
   "source": [
    "plt.figure(figsize=(12, 6))\n",
    "\n",
    "x = range(a_converted - 49, a_converted + 50)\n",
    "y = stats.binom(a_total, p_a).pmf(x)\n",
    "\n",
    "plt.plot(x, y, label=\"Control\")\n",
    "plt.axvline(x=p_b * a_total, c=\"orange\", label=\"Test\")\n",
    "\n",
    "plt.xlabel(\"N Converted\")\n",
    "plt.ylabel(\"Probability\")\n",
    "plt.legend()\n",
    "plt.show()"
   ]
  },
  {
   "cell_type": "markdown",
   "metadata": {
    "colab_type": "text",
    "id": "qenctNpiWrD0"
   },
   "source": [
    "Determine the probability of seeing the result assuming the null hypothesis using `scipy.stats.pmf()` (probability mass function.)"
   ]
  },
  {
   "cell_type": "code",
   "execution_count": 42,
   "metadata": {
    "colab": {
     "base_uri": "https://localhost:8080/",
     "height": 35
    },
    "colab_type": "code",
    "executionInfo": {
     "elapsed": 1279,
     "status": "ok",
     "timestamp": 1596536758013,
     "user": {
      "displayName": "Adam Spannbauer",
      "photoUrl": "https://lh3.googleusercontent.com/a-/AOh14Gh0dsIFeXnf3iRsUkFzJFh96GSrIp79KYpNuPtB=s64",
      "userId": "04097551985177324740"
     },
     "user_tz": 240
    },
    "id": "OL4EZ9hyWrD0",
    "outputId": "4db9bc55-694d-4658-c789-b5af616db96a"
   },
   "outputs": [
    {
     "data": {
      "text/plain": [
       "0.009701928814053873"
      ]
     },
     "execution_count": 42,
     "metadata": {},
     "output_type": "execute_result"
    }
   ],
   "source": [
    "stats.binom(a_total, p_a).pmf(int(result))"
   ]
  },
  {
   "cell_type": "markdown",
   "metadata": {
    "colab_type": "text",
    "id": "AigU7w1-WrD4"
   },
   "source": [
    "Is this enough evidence of statistical significance? \n",
    "\n"
   ]
  },
  {
   "cell_type": "markdown",
   "metadata": {
    "colab_type": "text",
    "id": "eM7GGGWtWrD4"
   },
   "source": [
    "### Assignment"
   ]
  },
  {
   "cell_type": "markdown",
   "metadata": {
    "colab_type": "text",
    "id": "gy6GAMCgWrD4"
   },
   "source": [
    "**Question:**\n",
    "    \n",
    "Why didn't we use the t-test in the previous example?"
   ]
  },
  {
   "cell_type": "markdown",
   "metadata": {
    "colab": {},
    "colab_type": "code",
    "id": "3P1soA1B8xRp"
   },
   "source": [
    "Because we are investigating proportions and not means. T-tests require normal distirbutions, and we have binomial distributions"
   ]
  },
  {
   "cell_type": "markdown",
   "metadata": {
    "colab_type": "text",
    "id": "BQ96SEX4sb3x"
   },
   "source": [
    "**Programming:**\n",
    "    \n",
    "- Run `generate_data()` for 100 trials with the following parameters:  \n",
    "\n",
    "    `N_A=1000, N_B=1000, p_A=0.10, p_B=0.12`\n",
    "\n",
    "    `ab_data = generate_data(N_A, N_B, p_A, p_B)`\n",
    "\n",
    "- For each trial, calculate and store the conversion rates for group A and group B.\n",
    "\n",
    "- Run a t-Test on the conversion rate arrays for group A and group B."
   ]
  },
  {
   "cell_type": "code",
   "execution_count": 46,
   "metadata": {
    "colab": {},
    "colab_type": "code",
    "id": "-RtwrimlWrD5"
   },
   "outputs": [],
   "source": [
    "N_A, N_B, p_A, p_B = 1000, 1000, 0.1, 0.12\n",
    "\n",
    "a_rates = []\n",
    "b_rates = []\n",
    "for _ in range(100):\n",
    "    data = generate_data(N_A, N_B, p_A, p_B)\n",
    "    A_group = data[data['group'] == 'A']\n",
    "    B_group = data[data['group']== 'B']\n",
    "    a_rates.append(A_group[\"converted\"].sum() / len(A_group))\n",
    "    b_rates.append(B_group[\"converted\"].sum() / len(B_group))"
   ]
  },
  {
   "cell_type": "code",
   "execution_count": null,
   "metadata": {},
   "outputs": [],
   "source": []
  },
  {
   "cell_type": "markdown",
   "metadata": {
    "colab_type": "text",
    "id": "5XVenkIJWrD7"
   },
   "source": [
    "Are the results statistically significant?"
   ]
  },
  {
   "cell_type": "code",
   "execution_count": null,
   "metadata": {
    "colab": {},
    "colab_type": "code",
    "id": "5vzKspFhWrEA"
   },
   "outputs": [],
   "source": []
  },
  {
   "cell_type": "markdown",
   "metadata": {
    "colab_type": "text",
    "id": "Fe9I5FjM-7T4"
   },
   "source": [
    "Calculate a confidence interval to show the difference in conversion rates."
   ]
  },
  {
   "cell_type": "code",
   "execution_count": null,
   "metadata": {
    "colab": {},
    "colab_type": "code",
    "id": "2reJn34P-600"
   },
   "outputs": [],
   "source": []
  }
 ],
 "metadata": {
  "colab": {
   "collapsed_sections": [],
   "name": "12_01_ab_testing_assign.ipynb",
   "provenance": []
  },
  "kernelspec": {
   "display_name": "Python 3",
   "language": "python",
   "name": "python3"
  },
  "language_info": {
   "codemirror_mode": {
    "name": "ipython",
    "version": 3
   },
   "file_extension": ".py",
   "mimetype": "text/x-python",
   "name": "python",
   "nbconvert_exporter": "python",
   "pygments_lexer": "ipython3",
   "version": "3.7.6"
  }
 },
 "nbformat": 4,
 "nbformat_minor": 1
}
