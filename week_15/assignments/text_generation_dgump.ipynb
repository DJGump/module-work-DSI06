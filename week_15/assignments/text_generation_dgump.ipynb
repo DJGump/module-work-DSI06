{
  "nbformat": 4,
  "nbformat_minor": 0,
  "metadata": {
    "colab": {
      "name": "text_generation_dgump.ipynb",
      "provenance": []
    },
    "kernelspec": {
      "name": "python3",
      "display_name": "Python 3"
    }
  },
  "cells": [
    {
      "cell_type": "code",
      "metadata": {
        "id": "jGLLMhHxqUlM",
        "outputId": "bfd92737-74cd-43b6-b7ac-c8fd16518964",
        "colab": {
          "base_uri": "https://localhost:8080/"
        }
      },
      "source": [
        "!pip install markovify"
      ],
      "execution_count": 2,
      "outputs": [
        {
          "output_type": "stream",
          "text": [
            "Collecting markovify\n",
            "  Downloading https://files.pythonhosted.org/packages/33/92/4036691c7ea53e545e98e0ffffcef357ca19aa2405df366ae5b8b7da391a/markovify-0.8.3.tar.gz\n",
            "Collecting unidecode\n",
            "\u001b[?25l  Downloading https://files.pythonhosted.org/packages/d0/42/d9edfed04228bacea2d824904cae367ee9efd05e6cce7ceaaedd0b0ad964/Unidecode-1.1.1-py2.py3-none-any.whl (238kB)\n",
            "\u001b[K     |████████████████████████████████| 245kB 5.0MB/s \n",
            "\u001b[?25hBuilding wheels for collected packages: markovify\n",
            "  Building wheel for markovify (setup.py) ... \u001b[?25l\u001b[?25hdone\n",
            "  Created wheel for markovify: filename=markovify-0.8.3-cp36-none-any.whl size=18416 sha256=7d74924eb107be40e91b4a5ba74469f2c3b594df19df0cac9b0c8ac315cab94d\n",
            "  Stored in directory: /root/.cache/pip/wheels/5e/e5/be/8e61715070048813947af5fb32f47b4cf9dddd37c965800bdb\n",
            "Successfully built markovify\n",
            "Installing collected packages: unidecode, markovify\n",
            "Successfully installed markovify-0.8.3 unidecode-1.1.1\n"
          ],
          "name": "stdout"
        }
      ]
    },
    {
      "cell_type": "code",
      "metadata": {
        "id": "m6Tz-3LFqEqG",
        "outputId": "23945b46-0384-4790-e15f-72d1834de82e",
        "colab": {
          "base_uri": "https://localhost:8080/"
        }
      },
      "source": [
        "import numpy as np\n",
        "import pandas as pd\n",
        "import matplotlib.pyplot as plt\n",
        "from sqlalchemy import create_engine\n",
        "import nltk\n",
        "from nltk.corpus import gutenberg\n",
        "from time import time\n",
        "import re\n",
        "import spacy\n",
        "import markovify\n",
        "import warnings\n",
        "warnings.filterwarnings(\"ignore\")\n",
        "\n",
        "nltk.download('gutenberg')\n",
        "!python -m spacy download en"
      ],
      "execution_count": 5,
      "outputs": [
        {
          "output_type": "stream",
          "text": [
            "[nltk_data] Downloading package gutenberg to /root/nltk_data...\n",
            "[nltk_data]   Package gutenberg is already up-to-date!\n",
            "Requirement already satisfied: en_core_web_sm==2.2.5 from https://github.com/explosion/spacy-models/releases/download/en_core_web_sm-2.2.5/en_core_web_sm-2.2.5.tar.gz#egg=en_core_web_sm==2.2.5 in /usr/local/lib/python3.6/dist-packages (2.2.5)\n",
            "Requirement already satisfied: spacy>=2.2.2 in /usr/local/lib/python3.6/dist-packages (from en_core_web_sm==2.2.5) (2.2.4)\n",
            "Requirement already satisfied: plac<1.2.0,>=0.9.6 in /usr/local/lib/python3.6/dist-packages (from spacy>=2.2.2->en_core_web_sm==2.2.5) (1.1.3)\n",
            "Requirement already satisfied: catalogue<1.1.0,>=0.0.7 in /usr/local/lib/python3.6/dist-packages (from spacy>=2.2.2->en_core_web_sm==2.2.5) (1.0.0)\n",
            "Requirement already satisfied: preshed<3.1.0,>=3.0.2 in /usr/local/lib/python3.6/dist-packages (from spacy>=2.2.2->en_core_web_sm==2.2.5) (3.0.2)\n",
            "Requirement already satisfied: tqdm<5.0.0,>=4.38.0 in /usr/local/lib/python3.6/dist-packages (from spacy>=2.2.2->en_core_web_sm==2.2.5) (4.41.1)\n",
            "Requirement already satisfied: murmurhash<1.1.0,>=0.28.0 in /usr/local/lib/python3.6/dist-packages (from spacy>=2.2.2->en_core_web_sm==2.2.5) (1.0.3)\n",
            "Requirement already satisfied: numpy>=1.15.0 in /usr/local/lib/python3.6/dist-packages (from spacy>=2.2.2->en_core_web_sm==2.2.5) (1.18.5)\n",
            "Requirement already satisfied: requests<3.0.0,>=2.13.0 in /usr/local/lib/python3.6/dist-packages (from spacy>=2.2.2->en_core_web_sm==2.2.5) (2.23.0)\n",
            "Requirement already satisfied: setuptools in /usr/local/lib/python3.6/dist-packages (from spacy>=2.2.2->en_core_web_sm==2.2.5) (50.3.2)\n",
            "Requirement already satisfied: blis<0.5.0,>=0.4.0 in /usr/local/lib/python3.6/dist-packages (from spacy>=2.2.2->en_core_web_sm==2.2.5) (0.4.1)\n",
            "Requirement already satisfied: wasabi<1.1.0,>=0.4.0 in /usr/local/lib/python3.6/dist-packages (from spacy>=2.2.2->en_core_web_sm==2.2.5) (0.8.0)\n",
            "Requirement already satisfied: srsly<1.1.0,>=1.0.2 in /usr/local/lib/python3.6/dist-packages (from spacy>=2.2.2->en_core_web_sm==2.2.5) (1.0.2)\n",
            "Requirement already satisfied: thinc==7.4.0 in /usr/local/lib/python3.6/dist-packages (from spacy>=2.2.2->en_core_web_sm==2.2.5) (7.4.0)\n",
            "Requirement already satisfied: cymem<2.1.0,>=2.0.2 in /usr/local/lib/python3.6/dist-packages (from spacy>=2.2.2->en_core_web_sm==2.2.5) (2.0.4)\n",
            "Requirement already satisfied: importlib-metadata>=0.20; python_version < \"3.8\" in /usr/local/lib/python3.6/dist-packages (from catalogue<1.1.0,>=0.0.7->spacy>=2.2.2->en_core_web_sm==2.2.5) (2.0.0)\n",
            "Requirement already satisfied: chardet<4,>=3.0.2 in /usr/local/lib/python3.6/dist-packages (from requests<3.0.0,>=2.13.0->spacy>=2.2.2->en_core_web_sm==2.2.5) (3.0.4)\n",
            "Requirement already satisfied: certifi>=2017.4.17 in /usr/local/lib/python3.6/dist-packages (from requests<3.0.0,>=2.13.0->spacy>=2.2.2->en_core_web_sm==2.2.5) (2020.6.20)\n",
            "Requirement already satisfied: urllib3!=1.25.0,!=1.25.1,<1.26,>=1.21.1 in /usr/local/lib/python3.6/dist-packages (from requests<3.0.0,>=2.13.0->spacy>=2.2.2->en_core_web_sm==2.2.5) (1.24.3)\n",
            "Requirement already satisfied: idna<3,>=2.5 in /usr/local/lib/python3.6/dist-packages (from requests<3.0.0,>=2.13.0->spacy>=2.2.2->en_core_web_sm==2.2.5) (2.10)\n",
            "Requirement already satisfied: zipp>=0.5 in /usr/local/lib/python3.6/dist-packages (from importlib-metadata>=0.20; python_version < \"3.8\"->catalogue<1.1.0,>=0.0.7->spacy>=2.2.2->en_core_web_sm==2.2.5) (3.4.0)\n",
            "\u001b[38;5;2m✔ Download and installation successful\u001b[0m\n",
            "You can now load the model via spacy.load('en_core_web_sm')\n",
            "\u001b[38;5;2m✔ Linking successful\u001b[0m\n",
            "/usr/local/lib/python3.6/dist-packages/en_core_web_sm -->\n",
            "/usr/local/lib/python3.6/dist-packages/spacy/data/en\n",
            "You can now load the model via spacy.load('en')\n"
          ],
          "name": "stdout"
        }
      ]
    },
    {
      "cell_type": "code",
      "metadata": {
        "id": "gUjaAKKOqRlF"
      },
      "source": [
        "postgres_user = 'dsbc_student'\n",
        "postgres_pw = '7*.8G9QH21'\n",
        "postgres_host = '142.93.121.174'\n",
        "postgres_port = '5432'\n",
        "postgres_db = 'twitter_sentiment'\n",
        "\n",
        "engine = create_engine('postgresql://{}:{}@{}:{}/{}'.format(\n",
        "    postgres_user, postgres_pw, postgres_host, postgres_port, postgres_db))\n",
        "\n",
        "tweets_df = pd.read_sql_query('select * from twitter',con=engine)\n",
        "\n",
        "# no need for an open connection, as we're only doing a single query\n",
        "engine.dispose()"
      ],
      "execution_count": 6,
      "outputs": []
    },
    {
      "cell_type": "code",
      "metadata": {
        "id": "sjD7Y3Lkqx2k"
      },
      "source": [
        "nlp = spacy.load('en')\n",
        "\n",
        "# below is necessary to avoid memory error of SpaCy\n",
        "nlp.max_length = 20000000\n",
        "\n",
        "# all the processing work is done below, so it may take a while\n",
        "twitter_doc = nlp(\" \".join(tweets_df.text))"
      ],
      "execution_count": 7,
      "outputs": []
    },
    {
      "cell_type": "markdown",
      "metadata": {
        "id": "QPb_D3ekwItt"
      },
      "source": [
        "### 2. Train a Markov chain model by using only the negative sentiment tweets. Generate some random sentences. Do the generated sentences exhibit the same negative sentiment?"
      ]
    },
    {
      "cell_type": "code",
      "metadata": {
        "id": "WaxZajDVtMnW"
      },
      "source": [
        "twitter_negative_doc = nlp(\" \".join(tweets_df[tweets_df[\"airline_sentiment\"]==\"negative\"].text))\n",
        "\n",
        "tweet_negative_sents = \" \".join([sent.text for sent in twitter_negative_doc.sents if len(sent.text) > 1])\n",
        "\n",
        "tweet_negative_generator = markovify.Text(tweet_negative_sents, state_size = 3)"
      ],
      "execution_count": 17,
      "outputs": []
    },
    {
      "cell_type": "code",
      "metadata": {
        "id": "k4-Qj90iuJs6",
        "outputId": "0a77c8b5-3f15-4d4c-b7dd-92d0c8c2e877",
        "colab": {
          "base_uri": "https://localhost:8080/"
        }
      },
      "source": [
        "for i in range(20):\n",
        "    print(tweet_negative_generator.make_sentence(tries=100))"
      ],
      "execution_count": 18,
      "outputs": [
        {
          "output_type": "stream",
          "text": [
            "Conf #: MDBEEI, McMullen @AmericanAir how nice it would be 2 hours for something which I could have change fee dropped, now told no.\n",
            "Expect full refund @united again I ask, who can I call to use credit fm. prev. cxl tix that can't be done online?\n",
            "#UnitedAirlines @united your website is conflicting.\n",
            "#jetblue http://t.co/qgtCao1J2U @JetBlue Usually I have such a bad attitude today.\n",
            "@AmericanAir and even worse, by the time I'm suppose to fly back from Orlando to BWI.\n",
            "No one seems to be the norm.\n",
            "I understand delays, I don't understand how I was not happy with the way I have been on hold for over an hour due to Sabre being down.\n",
            "@AmericanAir man we have been told that it's lost... you guys don't care @AmericanAir this is ridiculous!\n",
            "Just had to cry to get attendant to find a new airline to get an automated message?\n",
            "#USAirSucks @timbennettg3 @USAirways Cancelled Flightled due to bad weather in iatanbul.\n",
            "Was told ice on runway, but EVERY other carrier was able to figure out how I'm getting home??! @AmericanAir can I get some service?\n",
            "@SouthwestAir there is a good way to take care of your call center to answer for a OneWorld award?\n",
            "The 7 of us will never fly with u again.\n",
            "De Boarded waiting for another plane @SouthwestAir trying to get on plane about to leave that would make my connection home to Albany.\n",
            "When can we checkin online for 2:00 flight tmrw fr.\n",
            "Agent promised they'd call &amp; hold my bag when the space was empty and to the flight attendant for what?\n",
            "Spend 1 HOUR on hold with your Gold reservations line for an hour trying to talk to someone about a Cancelled Flighted flight, and 2 delays , you lost my bag.\n",
            "@AmericanAir hey there me again from yesterday im still on hold with a rep, or will you be servicing me here?\n",
            "Cmon #FAA Missing flt 826 CLT to MBJ, hope you can fix it @USAirways yes thanks I have never dealt with worse service @USAirways great.\n",
            "#badservice @united when an airline causes the missed connection u would think if u were going to be reported to the @BBB_media for their complete disregard for paying customers!\n"
          ],
          "name": "stdout"
        }
      ]
    },
    {
      "cell_type": "code",
      "metadata": {
        "id": "PElcgQtmxOpf",
        "outputId": "810b1568-e920-49d2-ed19-34a084570943",
        "colab": {
          "base_uri": "https://localhost:8080/"
        }
      },
      "source": [
        "for i in range(20):\n",
        "    print(tweet_negative_generator.make_short_sentence(100, tries=100))"
      ],
      "execution_count": 19,
      "outputs": [
        {
          "output_type": "stream",
          "text": [
            "And what kind of travel voucher do I get for bragging on you.\n",
            "So wrong @JetBlue According to your costumer support your website is fucked up.\n",
            "@JetBlue why is t that every time I check a bag and then you hung up on 2x @USAirways US 728.\n",
            "Maybe you can help here?\n",
            "@SouthwestAir wifi is the worst customer service out of any airline I've ever had flying.\n",
            "Can we rebook selves online??? @USAirways how do you do that?\n",
            "@USAirways yes had to go pick them up.\n",
            "My Cancelled Flighted flight was supposed to get home TODAY for no reason...\n",
            "1hr+ hold to speak to someone on your team help us out?! @AmericanAir - where are my bags?\n",
            "@united your ground crew was so SLOW.\n",
            "But only going one way @united I sent you a dm with my file reference number..\n",
            "@AmericanAir Why does your iPhone app not have any &amp; asked if I can help it.\n",
            "HARDWORKING mom just trying to rebook flight.\n",
            "I just need to locate my baggage @USAirways I need help.\n",
            "Especially when I don't show up to your standards.\n",
            "@AmericanAir My boyfriend was supposed to leave 15 minutes ago.\n",
            "But my experience remains - will not fly AA ever again @AmericanAir is your website down?\n",
            "@united sat at airport for 5 hrs still sitting at the gate until 9:05!\n",
            "And I have to be to take an hour to try and mask a delay.\n",
            "No one knows and I have to pay to check a bag.\n"
          ],
          "name": "stdout"
        }
      ]
    },
    {
      "cell_type": "markdown",
      "metadata": {
        "id": "ickhFgAGxrM8"
      },
      "source": [
        "### 3. Repeat the previous task, but this time, use only the positive sentiment tweets. Generate some random sentences and observe whether they exhibit positive sentiment or not."
      ]
    },
    {
      "cell_type": "code",
      "metadata": {
        "id": "tzOUiNskxYFF"
      },
      "source": [
        "twitter_positive_doc = nlp(\" \".join(tweets_df[tweets_df[\"airline_sentiment\"]==\"positive\"].text))\n",
        "\n",
        "tweet_positive_sents = \" \".join([sent.text for sent in twitter_positive_doc.sents if len(sent.text) > 1])\n",
        "\n",
        "tweet_positive_generator = markovify.Text(tweet_positive_sents, state_size = 3)"
      ],
      "execution_count": 21,
      "outputs": []
    },
    {
      "cell_type": "code",
      "metadata": {
        "id": "FnNuB-3mxo3s",
        "outputId": "28f3d385-f997-4bdc-e081-36ced5c8f4d7",
        "colab": {
          "base_uri": "https://localhost:8080/"
        }
      },
      "source": [
        "for i in range(20):\n",
        "    print(tweet_positive_generator.make_sentence(tries=100))"
      ],
      "execution_count": 22,
      "outputs": [
        {
          "output_type": "stream",
          "text": [
            "#peanutsonaplatter @SouthwestAir Just watched crew on flight 206 is awesome!\n",
            "@AmericanAir I love very much your planes, can you please follow and DM me your confirmation # so we can make this right.\n",
            "@SouthwestAir Thank you for your excellent response time and assistance!\n",
            "@united :take note of this great example of customer service this morning at @Fly_Nashville.\n",
            "@USAirways that would be nice.\n",
            "Need it on my spotify stat #guiltypleasures @VirginAmerica @ladygaga @carrieunderwood Julie Andrews all the way though @ladygaga was very impressive!\n",
            "@JetBlue I agree!!! If only there was a reason u were my favorite airline.\n",
            "For the @runDisney #PrincessHalf http://t.co/sTQY9V8256 @JetBlue Thank you that it is located at AA Detroit.\n",
            "A jam packed plane but the crew at the gate with a seat assignment.\n",
            "@VirginAmerica I &lt;3 pretty graphics. so much better now!!! @SouthwestAir Fantastic!\n",
            "@VirginAmerica I adore you, and am so looking forward to watching the Oscars on my flight to Vegas on Sunday!\n",
            "+1 for spelling my name correctly @USAirways see you on board soon and thanks for the reply.\n",
            "Finally, I get to my destination @USAirways thanks for helping with #reFlight Booking Problems # Cancelled Flightedflight Yvonne Anthony.\n",
            "@VirginAmerica Just bought tix for ATX - Dallas route - thanks for making my night 😀 cannot wait for my first international flight with you to NAS!\n",
            "Only an hour long but one of the friendliest phone calls ever.\n",
            "Thanks for taking care of @SuuperG on her flight!! #rockstars #travel @VirginAmerica Thanks for the lift!!!! @JetBlue hotspot free WiFi makes me happy.\n",
            "#usairways http://t.co/Gt6umHbh43 @AmericanAir thank you we got on a couple of minutes ago.\n",
            "@JetBlue thank you for your response.\n",
            "#freecomedyshow #newlifetimecustomer @SouthwestAir has the smoooothest flight attendants.\n",
            "@united Thank You @united thank you so much, that helps a lot.\n"
          ],
          "name": "stdout"
        }
      ]
    },
    {
      "cell_type": "code",
      "metadata": {
        "id": "YnWcAefTyC_q",
        "outputId": "f0a847ff-8264-48bb-f286-c41744373348",
        "colab": {
          "base_uri": "https://localhost:8080/"
        }
      },
      "source": [
        "for i in range(20):\n",
        "    print(tweet_positive_generator.make_short_sentence(100, tries=100))"
      ],
      "execution_count": 23,
      "outputs": [
        {
          "output_type": "stream",
          "text": [
            "@SouthwestAir :arrived in San Juan es mi Amiga @AmericanAir I love your guy's song!\n",
            "@SouthwestAir thank you so much!\n",
            "@SouthwestAir - I just had a great flight up to Vancouver.\n",
            "@AmericanAir great customer service today &amp; for helping me for literally two hours!\n",
            "@USAirways Thank you for the update!\n",
            "Thanks for the kind words.\n",
            "We will fly with you for the confirmation.\n",
            "Very excited to see it :D @SouthwestAir Thanks for two smooth, safe and fast flights!\n",
            "Kudos to you for replying.\n",
            "#lovejetblue #onlyblue #jetblueforever @JetBlue great flight on a brand new jet.\n",
            "@JetBlue thanks for the hospitality!\n",
            "@united thank you for listening to me vent.\n",
            "Seats fixed and I was on Delta.\n",
            "She's doing a great job.\n",
            "@AmericanAir thanks to AA / DART for getting me home from Denver tonight despite the snow!\n",
            "Went about 18 hrs w/o it but I appreciate the hard work and making it happen.\n",
            "@AmericanAir thank you for the service credit.\n",
            "It was wind and I was seated with my daughter!\n",
            "Today's been tough, so thanks for making my night 😀 cannot wait for my vacation!\n",
            "@united @suntoshi I still like you united airlines @united thank you for fixing my 5 hour delay.\n"
          ],
          "name": "stdout"
        }
      ]
    },
    {
      "cell_type": "markdown",
      "metadata": {
        "id": "Xa5V3eqAyMeS"
      },
      "source": [
        "### 4. Now, train your Markov chain model using all of the tweets. Generate some random sentences. Can you say something systematic about the sentiments of the generated tweets?"
      ]
    },
    {
      "cell_type": "code",
      "metadata": {
        "id": "SGS7nI7zyI_Q"
      },
      "source": [
        "twitter_doc = nlp(\" \".join(tweets_df.text))\n",
        "\n",
        "tweet_sents = \" \".join([sent.text for sent in twitter_doc.sents if len(sent.text) > 1])\n",
        "\n",
        "tweet_generator = markovify.Text(tweet_sents, state_size = 3)"
      ],
      "execution_count": 24,
      "outputs": []
    },
    {
      "cell_type": "code",
      "metadata": {
        "id": "9XjfzSErycVP",
        "outputId": "980df836-f94e-4b94-d46d-49b83600f6e0",
        "colab": {
          "base_uri": "https://localhost:8080/"
        }
      },
      "source": [
        "for i in range(20):\n",
        "    print(tweet_generator.make_sentence(tries=100))"
      ],
      "execution_count": 25,
      "outputs": [
        {
          "output_type": "stream",
          "text": [
            "There's no reFlight Booking Problems. missed the only flight of the day off the ground tomorrow??? #please #snowbama @SouthwestAir really appreciate the follow up.\n",
            "Since when is a plane getting stuck in a drift for 2 hours trying to book a flight &amp; your site is down?\n",
            "Seriously, if your average wait time is for refunds from @USAirways?\n",
            "^LOL Hey @united, this is the second leading cause of death among teens 10-24?\n",
            "Just told they need to do when you show up to your standards.\n",
            "@USAirways on plane from PBI to HPN!\n",
            "@USAirways Thank you glad to be home and you guys have more problems than anyone else.\n",
            "5th trip through ORD in 2015 I've been delayed 3 times today due to winter storm.\n",
            "If I had been expedited I would have been nice not to have to stop for fuel exhausted frequent flier and nothing for inconvenience!\n",
            "Could you please follow me so I can tell customer service means a lot to YOU #Thankful @JetBlue what is the status on flight#122 STL-AUS?\n",
            "@USAirways I’ve had my flight Cancelled Flighted tonight and was told to write the fraud dept.\n",
            "@JetBlue all they said was delayed due to #frozentoilet #medicalissue #mechanicalissue #dispatchissue We've heard it all!\n",
            "@AmericanAir at 5 am so I can DM you guys @AmericanAir you have Cancelled Flightled my wife and me to and from @DallasLoveField?\n",
            "@SouthwestAir -- any updates on Flt 1848, here at the gate for sure.\n",
            "Thank you for taking care of me with a reservation? cant get through to customer service without anyone answering is more than having patience.\n",
            "#uncomfortable @virginamerica What is your customer service?\n",
            "@AmericanAir can you help me out with tickets to the @Imaginedragons show in ATL.\n",
            "@USAirways Almost 4 hours and I've been trying for two days because of one aircraft not ready?\n",
            "They are gr8 @AmericanAir thanks for making me miss an important dinner tonight.\n",
            "@united hung up 3x. http://t.co/dr5oCtp1DY @USAirways Just Cancelled Flight every flight I had booked online but unable to Cancelled Flight online.\n"
          ],
          "name": "stdout"
        }
      ]
    },
    {
      "cell_type": "code",
      "metadata": {
        "id": "uCTkoOrczMFQ",
        "outputId": "68a537af-4fbb-44c2-b723-82363e237cd4",
        "colab": {
          "base_uri": "https://localhost:8080/"
        }
      },
      "source": [
        "for i in range(20):\n",
        "    print(tweet_generator.make_short_sentence(100, tries=100))"
      ],
      "execution_count": 26,
      "outputs": [
        {
          "output_type": "stream",
          "text": [
            "@USAirways Just spoke with a customer service agent about the service to LAX.\n",
            "@SouthwestAir pls help me get them back!\n",
            "The gate is 100 feet from the gate only to pull into THE SAME gate.\n",
            "Either way it doesn't make the flight to sunny Mexico just pushed off the gate.”\n",
            "Nothing but delays and Cancelled Flightlations @SouthwestAir it's not letting me add it online....\n",
            "Maybe you guys should do?\n",
            "@SouthwestAir been on hold since 11:30pm need to reschedule a flight for today...\n",
            "@USAirways I've been sitting at the gate.\n",
            "Keep up the #Failing @USAirways your flight attendants to have some clean clothes for work.\n",
            "Can you rebook me on the plane &amp; hold off on trains &amp; automobiles.\n",
            "Huge relief - thanks for the offer, but I finally made it to rep, who solved my problem.\n",
            "@united Not a happy customer.\n",
            "@USAirways on hold for almost 2 hours, then 3 hours, then 8.5 hours?\n",
            "@united yes I have and I was calling in regards to update on lost bag please.\n",
            "@AmericanAir 800 number will not even let me stay on hold.....\n",
            "Unbelievable. http://t.co/0BJNz4EIX5 @SouthwestAir You guys are a hoot!\n",
            "@SouthwestAir You need to be back home tomorrow and no one is available to take phone calls?\n",
            "@USAirways what's the deal with flt 460 today?\n",
            "@united make sure you take care of my mom and reFlight Booking Problems in line at SFO.\n",
            "@USAirways I want my luggage.\n"
          ],
          "name": "stdout"
        }
      ]
    },
    {
      "cell_type": "code",
      "metadata": {
        "id": "TuePZHiezRBo"
      },
      "source": [
        ""
      ],
      "execution_count": null,
      "outputs": []
    }
  ]
}