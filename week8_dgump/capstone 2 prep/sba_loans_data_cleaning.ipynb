{
 "cells": [
  {
   "cell_type": "markdown",
   "metadata": {},
   "source": [
    "Could try and answer two questions:\n",
    " \n",
    " 1.Can I predict is a loan will be defaulted on?\n",
    " \n",
    " 2. If a loan defaults, how much can be expected to be lost?\n",
    " \n",
    " Will need to handle imbalance of franchised and not franchised"
   ]
  },
  {
   "cell_type": "code",
   "execution_count": 1,
   "metadata": {},
   "outputs": [
    {
     "data": {
      "application/javascript": [
       "\n",
       "            setTimeout(function() {\n",
       "                var nbb_cell_id = 1;\n",
       "                var nbb_unformatted_code = \"%reload_ext nb_black\";\n",
       "                var nbb_formatted_code = \"%reload_ext nb_black\";\n",
       "                var nbb_cells = Jupyter.notebook.get_cells();\n",
       "                for (var i = 0; i < nbb_cells.length; ++i) {\n",
       "                    if (nbb_cells[i].input_prompt_number == nbb_cell_id) {\n",
       "                        if (nbb_cells[i].get_text() == nbb_unformatted_code) {\n",
       "                             nbb_cells[i].set_text(nbb_formatted_code);\n",
       "                        }\n",
       "                        break;\n",
       "                    }\n",
       "                }\n",
       "            }, 500);\n",
       "            "
      ],
      "text/plain": [
       "<IPython.core.display.Javascript object>"
      ]
     },
     "metadata": {},
     "output_type": "display_data"
    }
   ],
   "source": [
    "%reload_ext nb_black"
   ]
  },
  {
   "cell_type": "code",
   "execution_count": 2,
   "metadata": {},
   "outputs": [
    {
     "data": {
      "application/javascript": [
       "\n",
       "            setTimeout(function() {\n",
       "                var nbb_cell_id = 2;\n",
       "                var nbb_unformatted_code = \"import numpy as np\\nimport pandas as pd\\nfrom matplotlib import pyplot as plt\\nimport seaborn as sns\\n\\n%matplotlib inline\";\n",
       "                var nbb_formatted_code = \"import numpy as np\\nimport pandas as pd\\nfrom matplotlib import pyplot as plt\\nimport seaborn as sns\\n\\n%matplotlib inline\";\n",
       "                var nbb_cells = Jupyter.notebook.get_cells();\n",
       "                for (var i = 0; i < nbb_cells.length; ++i) {\n",
       "                    if (nbb_cells[i].input_prompt_number == nbb_cell_id) {\n",
       "                        if (nbb_cells[i].get_text() == nbb_unformatted_code) {\n",
       "                             nbb_cells[i].set_text(nbb_formatted_code);\n",
       "                        }\n",
       "                        break;\n",
       "                    }\n",
       "                }\n",
       "            }, 500);\n",
       "            "
      ],
      "text/plain": [
       "<IPython.core.display.Javascript object>"
      ]
     },
     "metadata": {},
     "output_type": "display_data"
    }
   ],
   "source": [
    "import numpy as np\n",
    "import pandas as pd\n",
    "from matplotlib import pyplot as plt\n",
    "import seaborn as sns\n",
    "\n",
    "%matplotlib inline"
   ]
  },
  {
   "cell_type": "code",
   "execution_count": 3,
   "metadata": {},
   "outputs": [
    {
     "name": "stderr",
     "output_type": "stream",
     "text": [
      "C:\\Users\\dgump\\AppData\\Roaming\\Python\\Python37\\site-packages\\IPython\\core\\interactiveshell.py:3072: DtypeWarning: Columns (9) have mixed types.Specify dtype option on import or set low_memory=False.\n",
      "  interactivity=interactivity, compiler=compiler, result=result)\n"
     ]
    },
    {
     "data": {
      "application/javascript": [
       "\n",
       "            setTimeout(function() {\n",
       "                var nbb_cell_id = 3;\n",
       "                var nbb_unformatted_code = \"data = pd.read_csv(\\\"data/SBAnational.csv\\\")\";\n",
       "                var nbb_formatted_code = \"data = pd.read_csv(\\\"data/SBAnational.csv\\\")\";\n",
       "                var nbb_cells = Jupyter.notebook.get_cells();\n",
       "                for (var i = 0; i < nbb_cells.length; ++i) {\n",
       "                    if (nbb_cells[i].input_prompt_number == nbb_cell_id) {\n",
       "                        if (nbb_cells[i].get_text() == nbb_unformatted_code) {\n",
       "                             nbb_cells[i].set_text(nbb_formatted_code);\n",
       "                        }\n",
       "                        break;\n",
       "                    }\n",
       "                }\n",
       "            }, 500);\n",
       "            "
      ],
      "text/plain": [
       "<IPython.core.display.Javascript object>"
      ]
     },
     "metadata": {},
     "output_type": "display_data"
    }
   ],
   "source": [
    "data = pd.read_csv(\"data/SBAnational.csv\")"
   ]
  },
  {
   "cell_type": "code",
   "execution_count": null,
   "metadata": {},
   "outputs": [],
   "source": []
  },
  {
   "cell_type": "markdown",
   "metadata": {},
   "source": [
    "##### Original Column Appendix\n",
    "  0. [ ] `City`: May drop, useful for identifying missing states\n",
    "  2. [ ] `State`: May be good predictor. Check for strange values\n",
    "  3. [X] `Bank`: Lots of names. Can id which banks give the most loans and make new feature `is_big_bank`. Uncertain of predicitive strength as is arbitrarily nominal.\n",
    "     * [X] Create `is_big_bank` column\n",
    " \n",
    "4. [X] `BankState`: Doubtful of individual predicitive power. Can make new feature `out_of_state_bank`\n",
    "   * [X] Create `out_of_state_bank` binary column\n",
    "5. [X] `NAICS`: Extracted relevant 2 digit code. Needs categorical encoding.\n",
    "    * Will try traget encoding\n",
    "6. [X] `ApprovalDate`: Needs cleaned. Relevancy will depend on how time is considered\n",
    "    * Converted to pd datetime. Can use for final selection after data cleaning\n",
    "7. [X] `ApprovalFY`: Approval Fiscal Year. Same as 6.\n",
    "8. [X] `Term`: Length of loan in months\n",
    "    * Converted to years\n",
    "9. [X] `NoEmp`: Number of business employees. Maybe code into tiers?\n",
    "     * Already very clean, skewed\n",
    "10. [X] `NewExist`: 1 = existing business, 2 = new business. Make 0,1 style binary\n",
    "11. [X] `CreateJob`: Number of jobs created. Maybe code into tiers?\n",
    "12. [X] `RetainedJob`: Number of jobs retained. Maybe code into tiers?\n",
    "13. [X] `UrbanRural`: 1 = Urban, 2 = rural, 0 = undefined. Needs cleaned\n",
    "    * Clean, need to decide on how to handle Nan's. Knn impute?\n",
    "14. [X] `RevLineCr`: Revolving Line of credit, y/n. Many nonsensical inputs. Cleaned\n",
    "15. [X] `LowDoc`: LowDoc loan program. y/n. Needs investigation\n",
    "    * Cleaned to 0,1. Handle nan's. Knn imputer?\n",
    "16. [X] `ChgOffDate`: Date loan charged off. Irrelevant given MIS_status. Could be considered in relation to how long default was before end of term.\n",
    "    * Attend to if doing follow up regression\n",
    "17. [X] `DisbursementDate`: as name implies. Consider redundancy with `ApprovalDate` and `ApprovalFY`\n",
    "    * engineered feature to indicate if SBA committed before or after the loan was disbursed\n",
    "18. [X] `DisbursementGross`: amount of loan. \n",
    "    * Clean, some errant values. Possibly use for selection\n",
    "19. [X] `BalanceGross`: Gross amount outstanding. Unsure if at time of default, or implying some of these loans have yet to be finished. May want to only consider final loans to model predicitions.\n",
    "    * Clean. Mostly zero, suggesting class imbalance\n",
    "20. [X] `MIS_Status`: Loan status. Charged off or paid in full. TARGET?!\n",
    "21. [X] `ChgOffPrinGr`: Charged off amount. Could make for an interesting second regression target.\n",
    "22. [ ] `GrAppv`: Gross amount approved by bank\n",
    "23. [X] `SBA_Appv`: SBA's gaurenteed amount of the loan. Mayne %SBA_Appv of loan amount would be predicitive? "
   ]
  },
  {
   "cell_type": "code",
   "execution_count": null,
   "metadata": {},
   "outputs": [],
   "source": []
  },
  {
   "cell_type": "code",
   "execution_count": null,
   "metadata": {},
   "outputs": [],
   "source": []
  },
  {
   "cell_type": "code",
   "execution_count": 4,
   "metadata": {},
   "outputs": [
    {
     "data": {
      "application/javascript": [
       "\n",
       "            setTimeout(function() {\n",
       "                var nbb_cell_id = 4;\n",
       "                var nbb_unformatted_code = \"# make a binary column to rep if a loan is form a big bank\\n# a big bank is one that has over 500 loans in this data set\\n\\n# big_bank = data[\\\"Bank\\\"].value_counts(dropna=False) > 500\\n# data[data[\\\"Bank\\\"].isin(big_bank)]\\n\\n# data.groupby(\\\"BankState\\\")[\\\"Bank\\\"].value_counts(dropna=False).head(100)\\n\\n# # data[\\\"Bank\\\"].isna().sum()\";\n",
       "                var nbb_formatted_code = \"# make a binary column to rep if a loan is form a big bank\\n# a big bank is one that has over 500 loans in this data set\\n\\n# big_bank = data[\\\"Bank\\\"].value_counts(dropna=False) > 500\\n# data[data[\\\"Bank\\\"].isin(big_bank)]\\n\\n# data.groupby(\\\"BankState\\\")[\\\"Bank\\\"].value_counts(dropna=False).head(100)\\n\\n# # data[\\\"Bank\\\"].isna().sum()\";\n",
       "                var nbb_cells = Jupyter.notebook.get_cells();\n",
       "                for (var i = 0; i < nbb_cells.length; ++i) {\n",
       "                    if (nbb_cells[i].input_prompt_number == nbb_cell_id) {\n",
       "                        if (nbb_cells[i].get_text() == nbb_unformatted_code) {\n",
       "                             nbb_cells[i].set_text(nbb_formatted_code);\n",
       "                        }\n",
       "                        break;\n",
       "                    }\n",
       "                }\n",
       "            }, 500);\n",
       "            "
      ],
      "text/plain": [
       "<IPython.core.display.Javascript object>"
      ]
     },
     "metadata": {},
     "output_type": "display_data"
    }
   ],
   "source": [
    "# make a binary column to rep if a loan is form a big bank\n",
    "# a big bank is one that has over 500 loans in this data set\n",
    "\n",
    "# big_bank = data[\"Bank\"].value_counts(dropna=False) > 500\n",
    "# data[data[\"Bank\"].isin(big_bank)]\n",
    "\n",
    "# data.groupby(\"BankState\")[\"Bank\"].value_counts(dropna=False).head(100)\n",
    "\n",
    "# # data[\"Bank\"].isna().sum()"
   ]
  },
  {
   "cell_type": "code",
   "execution_count": 5,
   "metadata": {
    "scrolled": true
   },
   "outputs": [
    {
     "data": {
      "text/plain": [
       "2005    77525\n",
       "2006    76040\n",
       "2007    71876\n",
       "2004    68290\n",
       "2003    58193\n",
       "1995    45758\n",
       "2002    44391\n",
       "1996    40112\n",
       "2008    39540\n",
       "1997    37748\n",
       "2000    37381\n",
       "1999    37363\n",
       "2001    37350\n",
       "1998    36016\n",
       "1994    31598\n",
       "1993    23305\n",
       "1992    20885\n",
       "2009    19126\n",
       "2010    16848\n",
       "1991    15666\n",
       "1990    14859\n",
       "1989    13248\n",
       "2011    12608\n",
       "2012     5997\n",
       "2013     2458\n",
       "1987     2218\n",
       "1986     2118\n",
       "1984     2022\n",
       "1985     1944\n",
       "1988     1898\n",
       "1983     1684\n",
       "1982      719\n",
       "1981      630\n",
       "1980      477\n",
       "1979      352\n",
       "2014      268\n",
       "1978      242\n",
       "1977      137\n",
       "1976       84\n",
       "1973       52\n",
       "1974       42\n",
       "1975       30\n",
       "1972       27\n",
       "1971       20\n",
       "1970        8\n",
       "1969        4\n",
       "1968        2\n",
       "1967        2\n",
       "1966        1\n",
       "1965        1\n",
       "1962        1\n",
       "Name: ApprovalFY, dtype: int64"
      ]
     },
     "execution_count": 5,
     "metadata": {},
     "output_type": "execute_result"
    },
    {
     "data": {
      "application/javascript": [
       "\n",
       "            setTimeout(function() {\n",
       "                var nbb_cell_id = 5;\n",
       "                var nbb_unformatted_code = \"pd.options.display.max_rows = 999\\ndata[\\\"ApprovalFY\\\"].value_counts(dropna=False)\\n\\ndata.loc[data[\\\"ApprovalFY\\\"] == \\\"1976A\\\", \\\"ApprovalFY\\\"] = \\\"1976\\\"\\ndata[\\\"ApprovalFY\\\"] = data[\\\"ApprovalFY\\\"].astype(int)\\ndata[\\\"ApprovalFY\\\"].value_counts(dropna=False)\";\n",
       "                var nbb_formatted_code = \"pd.options.display.max_rows = 999\\ndata[\\\"ApprovalFY\\\"].value_counts(dropna=False)\\n\\ndata.loc[data[\\\"ApprovalFY\\\"] == \\\"1976A\\\", \\\"ApprovalFY\\\"] = \\\"1976\\\"\\ndata[\\\"ApprovalFY\\\"] = data[\\\"ApprovalFY\\\"].astype(int)\\ndata[\\\"ApprovalFY\\\"].value_counts(dropna=False)\";\n",
       "                var nbb_cells = Jupyter.notebook.get_cells();\n",
       "                for (var i = 0; i < nbb_cells.length; ++i) {\n",
       "                    if (nbb_cells[i].input_prompt_number == nbb_cell_id) {\n",
       "                        if (nbb_cells[i].get_text() == nbb_unformatted_code) {\n",
       "                             nbb_cells[i].set_text(nbb_formatted_code);\n",
       "                        }\n",
       "                        break;\n",
       "                    }\n",
       "                }\n",
       "            }, 500);\n",
       "            "
      ],
      "text/plain": [
       "<IPython.core.display.Javascript object>"
      ]
     },
     "metadata": {},
     "output_type": "display_data"
    }
   ],
   "source": [
    "pd.options.display.max_rows = 999\n",
    "data[\"ApprovalFY\"].value_counts(dropna=False)\n",
    "\n",
    "data.loc[data[\"ApprovalFY\"] == \"1976A\", \"ApprovalFY\"] = \"1976\"\n",
    "data[\"ApprovalFY\"] = data[\"ApprovalFY\"].astype(int)\n",
    "data[\"ApprovalFY\"].value_counts(dropna=False)"
   ]
  },
  {
   "cell_type": "code",
   "execution_count": 6,
   "metadata": {},
   "outputs": [
    {
     "data": {
      "text/plain": [
       "0     201948\n",
       "44     84737\n",
       "81     72618\n",
       "54     68170\n",
       "72     67600\n",
       "23     66646\n",
       "62     55366\n",
       "42     48743\n",
       "45     42514\n",
       "33     38284\n",
       "56     32685\n",
       "48     20310\n",
       "32     17936\n",
       "71     14640\n",
       "53     13632\n",
       "31     11809\n",
       "51     11379\n",
       "52      9496\n",
       "11      9005\n",
       "61      6425\n",
       "49      2221\n",
       "21      1851\n",
       "22       663\n",
       "55       257\n",
       "92       229\n",
       "Name: twoDigNAICS, dtype: int64"
      ]
     },
     "execution_count": 6,
     "metadata": {},
     "output_type": "execute_result"
    },
    {
     "data": {
      "application/javascript": [
       "\n",
       "            setTimeout(function() {\n",
       "                var nbb_cell_id = 6;\n",
       "                var nbb_unformatted_code = \"data[\\\"NAICS\\\"].astype(str).str[0:2].value_counts(dropna=False)\\n\\ndata[\\\"twoDigNAICS\\\"] = data[\\\"NAICS\\\"].astype(str).str[0:2]\\ndata[\\\"twoDigNAICS\\\"] = data[\\\"twoDigNAICS\\\"].astype(int)\\ndata[\\\"twoDigNAICS\\\"].value_counts(dropna=False)\";\n",
       "                var nbb_formatted_code = \"data[\\\"NAICS\\\"].astype(str).str[0:2].value_counts(dropna=False)\\n\\ndata[\\\"twoDigNAICS\\\"] = data[\\\"NAICS\\\"].astype(str).str[0:2]\\ndata[\\\"twoDigNAICS\\\"] = data[\\\"twoDigNAICS\\\"].astype(int)\\ndata[\\\"twoDigNAICS\\\"].value_counts(dropna=False)\";\n",
       "                var nbb_cells = Jupyter.notebook.get_cells();\n",
       "                for (var i = 0; i < nbb_cells.length; ++i) {\n",
       "                    if (nbb_cells[i].input_prompt_number == nbb_cell_id) {\n",
       "                        if (nbb_cells[i].get_text() == nbb_unformatted_code) {\n",
       "                             nbb_cells[i].set_text(nbb_formatted_code);\n",
       "                        }\n",
       "                        break;\n",
       "                    }\n",
       "                }\n",
       "            }, 500);\n",
       "            "
      ],
      "text/plain": [
       "<IPython.core.display.Javascript object>"
      ]
     },
     "metadata": {},
     "output_type": "display_data"
    }
   ],
   "source": [
    "data[\"NAICS\"].astype(str).str[0:2].value_counts(dropna=False)\n",
    "\n",
    "data[\"twoDigNAICS\"] = data[\"NAICS\"].astype(str).str[0:2]\n",
    "data[\"twoDigNAICS\"] = data[\"twoDigNAICS\"].astype(int)\n",
    "data[\"twoDigNAICS\"].value_counts(dropna=False)"
   ]
  },
  {
   "cell_type": "code",
   "execution_count": 7,
   "metadata": {},
   "outputs": [
    {
     "data": {
      "text/plain": [
       "0.0    847389\n",
       "1.0     51775\n",
       "Name: is_franchise, dtype: int64"
      ]
     },
     "execution_count": 7,
     "metadata": {},
     "output_type": "execute_result"
    },
    {
     "data": {
      "application/javascript": [
       "\n",
       "            setTimeout(function() {\n",
       "                var nbb_cell_id = 7;\n",
       "                var nbb_unformatted_code = \"data.loc[data[\\\"FranchiseCode\\\"] > 1, \\\"is_franchise\\\"] = 1\\ndata.loc[data[\\\"FranchiseCode\\\"] <= 1, \\\"is_franchise\\\"] = 0\\ndata[\\\"is_franchise\\\"].value_counts(dropna=False)\";\n",
       "                var nbb_formatted_code = \"data.loc[data[\\\"FranchiseCode\\\"] > 1, \\\"is_franchise\\\"] = 1\\ndata.loc[data[\\\"FranchiseCode\\\"] <= 1, \\\"is_franchise\\\"] = 0\\ndata[\\\"is_franchise\\\"].value_counts(dropna=False)\";\n",
       "                var nbb_cells = Jupyter.notebook.get_cells();\n",
       "                for (var i = 0; i < nbb_cells.length; ++i) {\n",
       "                    if (nbb_cells[i].input_prompt_number == nbb_cell_id) {\n",
       "                        if (nbb_cells[i].get_text() == nbb_unformatted_code) {\n",
       "                             nbb_cells[i].set_text(nbb_formatted_code);\n",
       "                        }\n",
       "                        break;\n",
       "                    }\n",
       "                }\n",
       "            }, 500);\n",
       "            "
      ],
      "text/plain": [
       "<IPython.core.display.Javascript object>"
      ]
     },
     "metadata": {},
     "output_type": "display_data"
    }
   ],
   "source": [
    "data.loc[data[\"FranchiseCode\"] > 1, \"is_franchise\"] = 1\n",
    "data.loc[data[\"FranchiseCode\"] <= 1, \"is_franchise\"] = 0\n",
    "data[\"is_franchise\"].value_counts(dropna=False)"
   ]
  },
  {
   "cell_type": "code",
   "execution_count": 8,
   "metadata": {},
   "outputs": [
    {
     "data": {
      "text/plain": [
       "0.0    677890\n",
       "1.0    216681\n",
       "NaN      4593\n",
       "Name: RevLineCr, dtype: int64"
      ]
     },
     "execution_count": 8,
     "metadata": {},
     "output_type": "execute_result"
    },
    {
     "data": {
      "application/javascript": [
       "\n",
       "            setTimeout(function() {\n",
       "                var nbb_cell_id = 8;\n",
       "                var nbb_unformatted_code = \"# TO_DO: Handle NAN's\\n\\n# some nonsense in here\\n# data[\\\"RevLineCr\\\"].value_counts(dropna=False)\\n\\nrevCR_map = {\\n    \\\"N\\\": 0,\\n    \\\"0\\\": 0,\\n    \\\"Y\\\": 1,\\n    \\\"T\\\": 1,  # T for true? maybe\\n}\\ndata[\\\"RevLineCr\\\"] = data[\\\"RevLineCr\\\"].map(revCR_map)\\n# data[\\\"RevLineCr\\\"] = data[\\\"RevLineCr\\\"].astype(int, errors=\\\"ignore\\\")\\ndata[\\\"RevLineCr\\\"].value_counts(dropna=False)\";\n",
       "                var nbb_formatted_code = \"# TO_DO: Handle NAN's\\n\\n# some nonsense in here\\n# data[\\\"RevLineCr\\\"].value_counts(dropna=False)\\n\\nrevCR_map = {\\n    \\\"N\\\": 0,\\n    \\\"0\\\": 0,\\n    \\\"Y\\\": 1,\\n    \\\"T\\\": 1,  # T for true? maybe\\n}\\ndata[\\\"RevLineCr\\\"] = data[\\\"RevLineCr\\\"].map(revCR_map)\\n# data[\\\"RevLineCr\\\"] = data[\\\"RevLineCr\\\"].astype(int, errors=\\\"ignore\\\")\\ndata[\\\"RevLineCr\\\"].value_counts(dropna=False)\";\n",
       "                var nbb_cells = Jupyter.notebook.get_cells();\n",
       "                for (var i = 0; i < nbb_cells.length; ++i) {\n",
       "                    if (nbb_cells[i].input_prompt_number == nbb_cell_id) {\n",
       "                        if (nbb_cells[i].get_text() == nbb_unformatted_code) {\n",
       "                             nbb_cells[i].set_text(nbb_formatted_code);\n",
       "                        }\n",
       "                        break;\n",
       "                    }\n",
       "                }\n",
       "            }, 500);\n",
       "            "
      ],
      "text/plain": [
       "<IPython.core.display.Javascript object>"
      ]
     },
     "metadata": {},
     "output_type": "display_data"
    }
   ],
   "source": [
    "# TO_DO: Handle NAN's\n",
    "\n",
    "# some nonsense in here\n",
    "# data[\"RevLineCr\"].value_counts(dropna=False)\n",
    "\n",
    "revCR_map = {\n",
    "    \"N\": 0,\n",
    "    \"0\": 0,\n",
    "    \"Y\": 1,\n",
    "    \"T\": 1,  # T for true? maybe\n",
    "}\n",
    "data[\"RevLineCr\"] = data[\"RevLineCr\"].map(revCR_map)\n",
    "# data[\"RevLineCr\"] = data[\"RevLineCr\"].astype(int, errors=\"ignore\")\n",
    "data[\"RevLineCr\"].value_counts(dropna=False)"
   ]
  },
  {
   "cell_type": "code",
   "execution_count": 9,
   "metadata": {},
   "outputs": [
    {
     "data": {
      "text/plain": [
       "LOS ANGELES      11558\n",
       "HOUSTON          10247\n",
       "NEW YORK          7846\n",
       "CHICAGO           6036\n",
       "MIAMI             5594\n",
       "                 ...  \n",
       "Solano Beach         1\n",
       "29 PALMS             1\n",
       "Lake Isabella        1\n",
       "ANAHEIN              1\n",
       "GRASS RANGE          1\n",
       "Name: City, Length: 32582, dtype: int64"
      ]
     },
     "execution_count": 9,
     "metadata": {},
     "output_type": "execute_result"
    },
    {
     "data": {
      "application/javascript": [
       "\n",
       "            setTimeout(function() {\n",
       "                var nbb_cell_id = 9;\n",
       "                var nbb_unformatted_code = \"# clean city column\\ndata[\\\"City\\\"].value_counts(dropna=False)\";\n",
       "                var nbb_formatted_code = \"# clean city column\\ndata[\\\"City\\\"].value_counts(dropna=False)\";\n",
       "                var nbb_cells = Jupyter.notebook.get_cells();\n",
       "                for (var i = 0; i < nbb_cells.length; ++i) {\n",
       "                    if (nbb_cells[i].input_prompt_number == nbb_cell_id) {\n",
       "                        if (nbb_cells[i].get_text() == nbb_unformatted_code) {\n",
       "                             nbb_cells[i].set_text(nbb_formatted_code);\n",
       "                        }\n",
       "                        break;\n",
       "                    }\n",
       "                }\n",
       "            }, 500);\n",
       "            "
      ],
      "text/plain": [
       "<IPython.core.display.Javascript object>"
      ]
     },
     "metadata": {},
     "output_type": "display_data"
    }
   ],
   "source": [
    "# clean city column\n",
    "data[\"City\"].value_counts(dropna=False)"
   ]
  },
  {
   "cell_type": "code",
   "execution_count": 10,
   "metadata": {},
   "outputs": [
    {
     "data": {
      "application/javascript": [
       "\n",
       "            setTimeout(function() {\n",
       "                var nbb_cell_id = 10;\n",
       "                var nbb_unformatted_code = \"# clean state columns\\ndata[\\\"State\\\"].isna().sum()\\ndata[data[\\\"State\\\"].isna()]\\n\\ndata[\\\"State\\\"] = data[\\\"State\\\"].fillna(data[\\\"BankState\\\"])\\ndata[\\\"State\\\"].isna().sum()\\n\\n# 1 left from 1981, looks like nothing we want\\ndata[data[\\\"State\\\"].isna()]\\n\\ndata = data.dropna(subset=[\\\"State\\\"])\\ncleaned_States = list(data[\\\"State\\\"].value_counts().sort_index().index)\\n#cleaned_States\";\n",
       "                var nbb_formatted_code = \"# clean state columns\\ndata[\\\"State\\\"].isna().sum()\\ndata[data[\\\"State\\\"].isna()]\\n\\ndata[\\\"State\\\"] = data[\\\"State\\\"].fillna(data[\\\"BankState\\\"])\\ndata[\\\"State\\\"].isna().sum()\\n\\n# 1 left from 1981, looks like nothing we want\\ndata[data[\\\"State\\\"].isna()]\\n\\ndata = data.dropna(subset=[\\\"State\\\"])\\ncleaned_States = list(data[\\\"State\\\"].value_counts().sort_index().index)\\n# cleaned_States\";\n",
       "                var nbb_cells = Jupyter.notebook.get_cells();\n",
       "                for (var i = 0; i < nbb_cells.length; ++i) {\n",
       "                    if (nbb_cells[i].input_prompt_number == nbb_cell_id) {\n",
       "                        if (nbb_cells[i].get_text() == nbb_unformatted_code) {\n",
       "                             nbb_cells[i].set_text(nbb_formatted_code);\n",
       "                        }\n",
       "                        break;\n",
       "                    }\n",
       "                }\n",
       "            }, 500);\n",
       "            "
      ],
      "text/plain": [
       "<IPython.core.display.Javascript object>"
      ]
     },
     "metadata": {},
     "output_type": "display_data"
    }
   ],
   "source": [
    "# clean state columns\n",
    "data[\"State\"].isna().sum()\n",
    "data[data[\"State\"].isna()]\n",
    "\n",
    "data[\"State\"] = data[\"State\"].fillna(data[\"BankState\"])\n",
    "data[\"State\"].isna().sum()\n",
    "\n",
    "# 1 left from 1981, looks like nothing we want\n",
    "data[data[\"State\"].isna()]\n",
    "\n",
    "data = data.dropna(subset=[\"State\"])\n",
    "cleaned_States = list(data[\"State\"].value_counts().sort_index().index)\n",
    "#cleaned_States\n"
   ]
  },
  {
   "cell_type": "code",
   "execution_count": 11,
   "metadata": {},
   "outputs": [
    {
     "data": {
      "application/javascript": [
       "\n",
       "            setTimeout(function() {\n",
       "                var nbb_cell_id = 11;\n",
       "                var nbb_unformatted_code = \"# clean Bank State\\ndata[\\\"BankState\\\"].value_counts().sort_index()\\n\\n# keep rows where the BankState value appears more than 100 times. Want to match State column\\nvalid_states = list(data[\\\"State\\\"].value_counts().index)\\nbankState_valid = data[\\\"BankState\\\"].isin(valid_states)\\n# only going to lose 1700 rows. Drop em.\\ncleaned_bankStates = list(\\n    data.loc[bankState_valid, \\\"BankState\\\"].value_counts().sort_index().index\\n)\\n\\ndata = data.loc[bankState_valid]\";\n",
       "                var nbb_formatted_code = \"# clean Bank State\\ndata[\\\"BankState\\\"].value_counts().sort_index()\\n\\n# keep rows where the BankState value appears more than 100 times. Want to match State column\\nvalid_states = list(data[\\\"State\\\"].value_counts().index)\\nbankState_valid = data[\\\"BankState\\\"].isin(valid_states)\\n# only going to lose 1700 rows. Drop em.\\ncleaned_bankStates = list(\\n    data.loc[bankState_valid, \\\"BankState\\\"].value_counts().sort_index().index\\n)\\n\\ndata = data.loc[bankState_valid]\";\n",
       "                var nbb_cells = Jupyter.notebook.get_cells();\n",
       "                for (var i = 0; i < nbb_cells.length; ++i) {\n",
       "                    if (nbb_cells[i].input_prompt_number == nbb_cell_id) {\n",
       "                        if (nbb_cells[i].get_text() == nbb_unformatted_code) {\n",
       "                             nbb_cells[i].set_text(nbb_formatted_code);\n",
       "                        }\n",
       "                        break;\n",
       "                    }\n",
       "                }\n",
       "            }, 500);\n",
       "            "
      ],
      "text/plain": [
       "<IPython.core.display.Javascript object>"
      ]
     },
     "metadata": {},
     "output_type": "display_data"
    }
   ],
   "source": [
    "# clean Bank State\n",
    "data[\"BankState\"].value_counts().sort_index()\n",
    "\n",
    "# keep rows where the BankState value appears more than 100 times. Want to match State column\n",
    "valid_states = list(data[\"State\"].value_counts().index)\n",
    "bankState_valid = data[\"BankState\"].isin(valid_states)\n",
    "# only going to lose 1700 rows. Drop em.\n",
    "cleaned_bankStates = list(\n",
    "    data.loc[bankState_valid, \"BankState\"].value_counts().sort_index().index\n",
    ")\n",
    "\n",
    "data = data.loc[bankState_valid]"
   ]
  },
  {
   "cell_type": "code",
   "execution_count": 12,
   "metadata": {},
   "outputs": [
    {
     "data": {
      "text/plain": [
       "True"
      ]
     },
     "execution_count": 12,
     "metadata": {},
     "output_type": "execute_result"
    },
    {
     "data": {
      "application/javascript": [
       "\n",
       "            setTimeout(function() {\n",
       "                var nbb_cell_id = 12;\n",
       "                var nbb_unformatted_code = \"cleaned_bankStates == cleaned_States\";\n",
       "                var nbb_formatted_code = \"cleaned_bankStates == cleaned_States\";\n",
       "                var nbb_cells = Jupyter.notebook.get_cells();\n",
       "                for (var i = 0; i < nbb_cells.length; ++i) {\n",
       "                    if (nbb_cells[i].input_prompt_number == nbb_cell_id) {\n",
       "                        if (nbb_cells[i].get_text() == nbb_unformatted_code) {\n",
       "                             nbb_cells[i].set_text(nbb_formatted_code);\n",
       "                        }\n",
       "                        break;\n",
       "                    }\n",
       "                }\n",
       "            }, 500);\n",
       "            "
      ],
      "text/plain": [
       "<IPython.core.display.Javascript object>"
      ]
     },
     "metadata": {},
     "output_type": "display_data"
    }
   ],
   "source": [
    "cleaned_bankStates == cleaned_States\n"
   ]
  },
  {
   "cell_type": "code",
   "execution_count": 13,
   "metadata": {},
   "outputs": [
    {
     "data": {
      "text/plain": [
       "1    473953\n",
       "0    423481\n",
       "Name: bank_out_of_state, dtype: int64"
      ]
     },
     "execution_count": 13,
     "metadata": {},
     "output_type": "execute_result"
    },
    {
     "data": {
      "application/javascript": [
       "\n",
       "            setTimeout(function() {\n",
       "                var nbb_cell_id = 13;\n",
       "                var nbb_unformatted_code = \"# make column bank_out_of_state\\n\\ndata[\\\"bank_out_of_state\\\"] = data[\\\"State\\\"] == data[\\\"BankState\\\"]\\ndata[\\\"bank_out_of_state\\\"] = data[\\\"bank_out_of_state\\\"].astype(int)\\ndata[\\\"bank_out_of_state\\\"].value_counts(dropna=False)\";\n",
       "                var nbb_formatted_code = \"# make column bank_out_of_state\\n\\ndata[\\\"bank_out_of_state\\\"] = data[\\\"State\\\"] == data[\\\"BankState\\\"]\\ndata[\\\"bank_out_of_state\\\"] = data[\\\"bank_out_of_state\\\"].astype(int)\\ndata[\\\"bank_out_of_state\\\"].value_counts(dropna=False)\";\n",
       "                var nbb_cells = Jupyter.notebook.get_cells();\n",
       "                for (var i = 0; i < nbb_cells.length; ++i) {\n",
       "                    if (nbb_cells[i].input_prompt_number == nbb_cell_id) {\n",
       "                        if (nbb_cells[i].get_text() == nbb_unformatted_code) {\n",
       "                             nbb_cells[i].set_text(nbb_formatted_code);\n",
       "                        }\n",
       "                        break;\n",
       "                    }\n",
       "                }\n",
       "            }, 500);\n",
       "            "
      ],
      "text/plain": [
       "<IPython.core.display.Javascript object>"
      ]
     },
     "metadata": {},
     "output_type": "display_data"
    }
   ],
   "source": [
    "# make column bank_out_of_state\n",
    "\n",
    "data[\"bank_out_of_state\"] = data[\"State\"] == data[\"BankState\"]\n",
    "data[\"bank_out_of_state\"] = data[\"bank_out_of_state\"].astype(int)\n",
    "data[\"bank_out_of_state\"].value_counts(dropna=False)"
   ]
  },
  {
   "cell_type": "code",
   "execution_count": 14,
   "metadata": {},
   "outputs": [
    {
     "data": {
      "text/plain": [
       "<matplotlib.axes._subplots.AxesSubplot at 0x11e3bde4b08>"
      ]
     },
     "execution_count": 14,
     "metadata": {},
     "output_type": "execute_result"
    },
    {
     "data": {
      "image/png": "[encoded data removed]",
      "text/plain": [
       "<Figure size 432x288 with 1 Axes>"
      ]
     },
     "metadata": {
      "needs_background": "light"
     },
     "output_type": "display_data"
    },
    {
     "data": {
      "application/javascript": [
       "\n",
       "            setTimeout(function() {\n",
       "                var nbb_cell_id = 14;\n",
       "                var nbb_unformatted_code = \"# Approval Date. No NA's originally\\n# some are in the future! Handle this. Maybe hit 2 instead of 1?\\ndata[\\\"ApprovalDate_datetime\\\"] = pd.to_datetime(data[\\\"ApprovalDate\\\"])\\ndata.loc[data[\\\"ApprovalDate_datetime\\\"].dt.year > 2000, \\\"ApprovalDate_datetime\\\"].hist()\";\n",
       "                var nbb_formatted_code = \"# Approval Date. No NA's originally\\n# some are in the future! Handle this. Maybe hit 2 instead of 1?\\ndata[\\\"ApprovalDate_datetime\\\"] = pd.to_datetime(data[\\\"ApprovalDate\\\"])\\ndata.loc[data[\\\"ApprovalDate_datetime\\\"].dt.year > 2000, \\\"ApprovalDate_datetime\\\"].hist()\";\n",
       "                var nbb_cells = Jupyter.notebook.get_cells();\n",
       "                for (var i = 0; i < nbb_cells.length; ++i) {\n",
       "                    if (nbb_cells[i].input_prompt_number == nbb_cell_id) {\n",
       "                        if (nbb_cells[i].get_text() == nbb_unformatted_code) {\n",
       "                             nbb_cells[i].set_text(nbb_formatted_code);\n",
       "                        }\n",
       "                        break;\n",
       "                    }\n",
       "                }\n",
       "            }, 500);\n",
       "            "
      ],
      "text/plain": [
       "<IPython.core.display.Javascript object>"
      ]
     },
     "metadata": {},
     "output_type": "display_data"
    }
   ],
   "source": [
    "# Approval Date. No NA's originally\n",
    "# some are in the future! Handle this. Maybe hit 2 instead of 1?\n",
    "data[\"ApprovalDate_datetime\"] = pd.to_datetime(data[\"ApprovalDate\"])\n",
    "data.loc[data[\"ApprovalDate_datetime\"].dt.year > 2000, \"ApprovalDate_datetime\"].hist()"
   ]
  },
  {
   "cell_type": "code",
   "execution_count": 15,
   "metadata": {},
   "outputs": [
    {
     "data": {
      "image/png": "[encoded data removed]",
      "text/plain": [
       "<Figure size 432x288 with 1 Axes>"
      ]
     },
     "metadata": {
      "needs_background": "light"
     },
     "output_type": "display_data"
    },
    {
     "data": {
      "image/png": "[encoded data removed]",
      "text/plain": [
       "<Figure size 432x288 with 1 Axes>"
      ]
     },
     "metadata": {
      "needs_background": "light"
     },
     "output_type": "display_data"
    },
    {
     "data": {
      "text/plain": [
       "count    897434.000000\n",
       "mean        110.777526\n",
       "std          78.863169\n",
       "min           0.000000\n",
       "25%          60.000000\n",
       "50%          84.000000\n",
       "75%         120.000000\n",
       "max         569.000000\n",
       "Name: Term, dtype: float64"
      ]
     },
     "execution_count": 15,
     "metadata": {},
     "output_type": "execute_result"
    },
    {
     "data": {
      "application/javascript": [
       "\n",
       "            setTimeout(function() {\n",
       "                var nbb_cell_id = 15;\n",
       "                var nbb_unformatted_code = \"# clean term column. IN months, convert to years\\n# appears to be some skew.\\ndata[\\\"Term\\\"].isna().sum()\\ndata[\\\"Term_years\\\"] = data[\\\"Term\\\"] / 12\\ndata[\\\"Term_years\\\"].hist()\\nplt.show()\\nsns.boxplot(data[\\\"Term_years\\\"])\\nplt.show()\\ndata[\\\"Term\\\"].describe()\";\n",
       "                var nbb_formatted_code = \"# clean term column. IN months, convert to years\\n# appears to be some skew.\\ndata[\\\"Term\\\"].isna().sum()\\ndata[\\\"Term_years\\\"] = data[\\\"Term\\\"] / 12\\ndata[\\\"Term_years\\\"].hist()\\nplt.show()\\nsns.boxplot(data[\\\"Term_years\\\"])\\nplt.show()\\ndata[\\\"Term\\\"].describe()\";\n",
       "                var nbb_cells = Jupyter.notebook.get_cells();\n",
       "                for (var i = 0; i < nbb_cells.length; ++i) {\n",
       "                    if (nbb_cells[i].input_prompt_number == nbb_cell_id) {\n",
       "                        if (nbb_cells[i].get_text() == nbb_unformatted_code) {\n",
       "                             nbb_cells[i].set_text(nbb_formatted_code);\n",
       "                        }\n",
       "                        break;\n",
       "                    }\n",
       "                }\n",
       "            }, 500);\n",
       "            "
      ],
      "text/plain": [
       "<IPython.core.display.Javascript object>"
      ]
     },
     "metadata": {},
     "output_type": "display_data"
    }
   ],
   "source": [
    "# clean term column. IN months, convert to years\n",
    "# appears to be some skew.\n",
    "data[\"Term\"].isna().sum()\n",
    "data[\"Term_years\"] = data[\"Term\"] / 12\n",
    "data[\"Term_years\"].hist()\n",
    "plt.show()\n",
    "sns.boxplot(data[\"Term_years\"])\n",
    "plt.show()\n",
    "data[\"Term\"].describe()"
   ]
  },
  {
   "cell_type": "code",
   "execution_count": 16,
   "metadata": {},
   "outputs": [
    {
     "data": {
      "image/png": "[encoded data removed]",
      "text/plain": [
       "<Figure size 432x288 with 1 Axes>"
      ]
     },
     "metadata": {
      "needs_background": "light"
     },
     "output_type": "display_data"
    },
    {
     "data": {
      "text/plain": [
       "count    897434.000000\n",
       "mean         11.405530\n",
       "std          74.171788\n",
       "min           0.000000\n",
       "25%           2.000000\n",
       "50%           4.000000\n",
       "75%          10.000000\n",
       "max        9999.000000\n",
       "Name: NoEmp, dtype: float64"
      ]
     },
     "execution_count": 16,
     "metadata": {},
     "output_type": "execute_result"
    },
    {
     "data": {
      "application/javascript": [
       "\n",
       "            setTimeout(function() {\n",
       "                var nbb_cell_id = 16;\n",
       "                var nbb_unformatted_code = \"# clean noemp columns\\n# lots of skew to consider\\ndata[\\\"NoEmp\\\"].isna().sum()\\ndata[\\\"NoEmp\\\"].value_counts()\\nsns.boxplot(data[\\\"NoEmp\\\"])\\nplt.show()\\ndata[\\\"NoEmp\\\"].describe()\\n\\n# # 0, 1-10, 10-100, 100+, bins\\n# data.loc[data[\\\"NoEmp\\\"] == 0, \\\"noemp_category\\\"] = 0\";\n",
       "                var nbb_formatted_code = \"# clean noemp columns\\n# lots of skew to consider\\ndata[\\\"NoEmp\\\"].isna().sum()\\ndata[\\\"NoEmp\\\"].value_counts()\\nsns.boxplot(data[\\\"NoEmp\\\"])\\nplt.show()\\ndata[\\\"NoEmp\\\"].describe()\\n\\n# # 0, 1-10, 10-100, 100+, bins\\n# data.loc[data[\\\"NoEmp\\\"] == 0, \\\"noemp_category\\\"] = 0\";\n",
       "                var nbb_cells = Jupyter.notebook.get_cells();\n",
       "                for (var i = 0; i < nbb_cells.length; ++i) {\n",
       "                    if (nbb_cells[i].input_prompt_number == nbb_cell_id) {\n",
       "                        if (nbb_cells[i].get_text() == nbb_unformatted_code) {\n",
       "                             nbb_cells[i].set_text(nbb_formatted_code);\n",
       "                        }\n",
       "                        break;\n",
       "                    }\n",
       "                }\n",
       "            }, 500);\n",
       "            "
      ],
      "text/plain": [
       "<IPython.core.display.Javascript object>"
      ]
     },
     "metadata": {},
     "output_type": "display_data"
    }
   ],
   "source": [
    "# clean noemp columns\n",
    "# lots of skew to consider\n",
    "data[\"NoEmp\"].isna().sum()\n",
    "data[\"NoEmp\"].value_counts()\n",
    "sns.boxplot(data[\"NoEmp\"])\n",
    "plt.show()\n",
    "data[\"NoEmp\"].describe()\n",
    "\n",
    "# # 0, 1-10, 10-100, 100+, bins\n",
    "# data.loc[data[\"NoEmp\"] == 0, \"noemp_category\"] = 0\n"
   ]
  },
  {
   "cell_type": "code",
   "execution_count": 17,
   "metadata": {},
   "outputs": [
    {
     "data": {
      "text/plain": [
       "1.0    643591\n",
       "2.0    252677\n",
       "0.0      1030\n",
       "NaN       136\n",
       "Name: NewExist, dtype: int64"
      ]
     },
     "execution_count": 17,
     "metadata": {},
     "output_type": "execute_result"
    },
    {
     "data": {
      "application/javascript": [
       "\n",
       "            setTimeout(function() {\n",
       "                var nbb_cell_id = 17;\n",
       "                var nbb_unformatted_code = \"data[\\\"NewExist\\\"].value_counts(dropna=False)\";\n",
       "                var nbb_formatted_code = \"data[\\\"NewExist\\\"].value_counts(dropna=False)\";\n",
       "                var nbb_cells = Jupyter.notebook.get_cells();\n",
       "                for (var i = 0; i < nbb_cells.length; ++i) {\n",
       "                    if (nbb_cells[i].input_prompt_number == nbb_cell_id) {\n",
       "                        if (nbb_cells[i].get_text() == nbb_unformatted_code) {\n",
       "                             nbb_cells[i].set_text(nbb_formatted_code);\n",
       "                        }\n",
       "                        break;\n",
       "                    }\n",
       "                }\n",
       "            }, 500);\n",
       "            "
      ],
      "text/plain": [
       "<IPython.core.display.Javascript object>"
      ]
     },
     "metadata": {},
     "output_type": "display_data"
    }
   ],
   "source": [
    "data[\"NewExist\"].value_counts(dropna=False)"
   ]
  },
  {
   "cell_type": "code",
   "execution_count": 18,
   "metadata": {
    "scrolled": true
   },
   "outputs": [
    {
     "data": {
      "text/plain": [
       "0    643591\n",
       "1    253843\n",
       "Name: NewExist, dtype: int64"
      ]
     },
     "execution_count": 18,
     "metadata": {},
     "output_type": "execute_result"
    },
    {
     "data": {
      "application/javascript": [
       "\n",
       "            setTimeout(function() {\n",
       "                var nbb_cell_id = 18;\n",
       "                var nbb_unformatted_code = \"# clean NewExist column. 1 is existing, 2 is new. Handle na's and 0's\\n# note: some approval dates are in the future!\\npd.options.display.max_columns = 999\\ndata[\\\"NewExist\\\"].isna().sum\\ndata[\\\"NewExist\\\"].value_counts(dropna=False)\\n\\ndata.loc[data[\\\"NewExist\\\"].isna(), \\\"ApprovalDate_datetime\\\"].value_counts().sort_index()\\ndata.loc[data[\\\"NewExist\\\"].isna(), \\\"bank_out_of_state\\\"].value_counts()\\ndata.loc[data[\\\"NewExist\\\"].isna(), \\\"ApprovalDate_datetime\\\"].describe()\\n# some weirdness with the na's. All but one are from dec-2019 through around 2010.\\n# just going on a hunch and filling these missing values with 1: an existing business\\nNewExist_map = {1: 0, 2: 1, 0: 1, np.nan: 1}\\n\\ndata[\\\"NewExist\\\"] = data[\\\"NewExist\\\"].map(NewExist_map)\\ndata[\\\"NewExist\\\"].value_counts()\";\n",
       "                var nbb_formatted_code = \"# clean NewExist column. 1 is existing, 2 is new. Handle na's and 0's\\n# note: some approval dates are in the future!\\npd.options.display.max_columns = 999\\ndata[\\\"NewExist\\\"].isna().sum\\ndata[\\\"NewExist\\\"].value_counts(dropna=False)\\n\\ndata.loc[data[\\\"NewExist\\\"].isna(), \\\"ApprovalDate_datetime\\\"].value_counts().sort_index()\\ndata.loc[data[\\\"NewExist\\\"].isna(), \\\"bank_out_of_state\\\"].value_counts()\\ndata.loc[data[\\\"NewExist\\\"].isna(), \\\"ApprovalDate_datetime\\\"].describe()\\n# some weirdness with the na's. All but one are from dec-2019 through around 2010.\\n# just going on a hunch and filling these missing values with 1: an existing business\\nNewExist_map = {1: 0, 2: 1, 0: 1, np.nan: 1}\\n\\ndata[\\\"NewExist\\\"] = data[\\\"NewExist\\\"].map(NewExist_map)\\ndata[\\\"NewExist\\\"].value_counts()\";\n",
       "                var nbb_cells = Jupyter.notebook.get_cells();\n",
       "                for (var i = 0; i < nbb_cells.length; ++i) {\n",
       "                    if (nbb_cells[i].input_prompt_number == nbb_cell_id) {\n",
       "                        if (nbb_cells[i].get_text() == nbb_unformatted_code) {\n",
       "                             nbb_cells[i].set_text(nbb_formatted_code);\n",
       "                        }\n",
       "                        break;\n",
       "                    }\n",
       "                }\n",
       "            }, 500);\n",
       "            "
      ],
      "text/plain": [
       "<IPython.core.display.Javascript object>"
      ]
     },
     "metadata": {},
     "output_type": "display_data"
    }
   ],
   "source": [
    "# clean NewExist column. 1 is existing, 2 is new. Handle na's and 0's\n",
    "# note: some approval dates are in the future!\n",
    "pd.options.display.max_columns = 999\n",
    "data[\"NewExist\"].isna().sum\n",
    "data[\"NewExist\"].value_counts(dropna=False)\n",
    "\n",
    "data.loc[data[\"NewExist\"].isna(), \"ApprovalDate_datetime\"].value_counts().sort_index()\n",
    "data.loc[data[\"NewExist\"].isna(), \"bank_out_of_state\"].value_counts()\n",
    "data.loc[data[\"NewExist\"].isna(), \"ApprovalDate_datetime\"].describe()\n",
    "# some weirdness with the na's. All but one are from dec-2019 through around 2010.\n",
    "# just going on a hunch and filling these missing values with 1: an existing business\n",
    "NewExist_map = {1: 0, 2: 1, 0: 1, np.nan: 1}\n",
    "\n",
    "data[\"NewExist\"] = data[\"NewExist\"].map(NewExist_map)\n",
    "data[\"NewExist\"].value_counts()"
   ]
  },
  {
   "cell_type": "code",
   "execution_count": 19,
   "metadata": {},
   "outputs": [
    {
     "data": {
      "image/png": "[encoded data removed]",
      "text/plain": [
       "<Figure size 432x288 with 1 Axes>"
      ]
     },
     "metadata": {
      "needs_background": "light"
     },
     "output_type": "display_data"
    },
    {
     "data": {
      "text/plain": [
       "0.0    627540\n",
       "1.0    228698\n",
       "2.0     39944\n",
       "3.0      1252\n",
       "Name: job_category, dtype: int64"
      ]
     },
     "execution_count": 19,
     "metadata": {},
     "output_type": "execute_result"
    },
    {
     "data": {
      "application/javascript": [
       "\n",
       "            setTimeout(function() {\n",
       "                var nbb_cell_id = 19;\n",
       "                var nbb_unformatted_code = \"# made new feature based on how many drops created. Skewed towards zero\\n\\ndata[\\\"CreateJob\\\"].isna().sum()\\ndata[\\\"CreateJob\\\"].describe()\\nplt.plot(data[\\\"CreateJob\\\"])\\nplt.show()\\ndata[\\\"CreateJob\\\"].value_counts().sort_index()\\n\\n# 0, 1-10, 10-100, 100+, bins\\ndata.loc[data[\\\"CreateJob\\\"] == 0, \\\"job_category\\\"] = 0\\ndata.loc[data[\\\"CreateJob\\\"] > 0, \\\"job_category\\\"] = 1\\ndata.loc[data[\\\"CreateJob\\\"] > 10, \\\"job_category\\\"] = 2\\ndata.loc[data[\\\"CreateJob\\\"] > 100, \\\"job_category\\\"] = 3\\n\\ndata[\\\"job_category\\\"].value_counts()\";\n",
       "                var nbb_formatted_code = \"# made new feature based on how many drops created. Skewed towards zero\\n\\ndata[\\\"CreateJob\\\"].isna().sum()\\ndata[\\\"CreateJob\\\"].describe()\\nplt.plot(data[\\\"CreateJob\\\"])\\nplt.show()\\ndata[\\\"CreateJob\\\"].value_counts().sort_index()\\n\\n# 0, 1-10, 10-100, 100+, bins\\ndata.loc[data[\\\"CreateJob\\\"] == 0, \\\"job_category\\\"] = 0\\ndata.loc[data[\\\"CreateJob\\\"] > 0, \\\"job_category\\\"] = 1\\ndata.loc[data[\\\"CreateJob\\\"] > 10, \\\"job_category\\\"] = 2\\ndata.loc[data[\\\"CreateJob\\\"] > 100, \\\"job_category\\\"] = 3\\n\\ndata[\\\"job_category\\\"].value_counts()\";\n",
       "                var nbb_cells = Jupyter.notebook.get_cells();\n",
       "                for (var i = 0; i < nbb_cells.length; ++i) {\n",
       "                    if (nbb_cells[i].input_prompt_number == nbb_cell_id) {\n",
       "                        if (nbb_cells[i].get_text() == nbb_unformatted_code) {\n",
       "                             nbb_cells[i].set_text(nbb_formatted_code);\n",
       "                        }\n",
       "                        break;\n",
       "                    }\n",
       "                }\n",
       "            }, 500);\n",
       "            "
      ],
      "text/plain": [
       "<IPython.core.display.Javascript object>"
      ]
     },
     "metadata": {},
     "output_type": "display_data"
    }
   ],
   "source": [
    "# made new feature based on how many drops created. Skewed towards zero\n",
    "\n",
    "data[\"CreateJob\"].isna().sum()\n",
    "data[\"CreateJob\"].describe()\n",
    "plt.plot(data[\"CreateJob\"])\n",
    "plt.show()\n",
    "data[\"CreateJob\"].value_counts().sort_index()\n",
    "\n",
    "# 0, 1-10, 10-100, 100+, bins\n",
    "data.loc[data[\"CreateJob\"] == 0, \"job_category\"] = 0\n",
    "data.loc[data[\"CreateJob\"] > 0, \"job_category\"] = 1\n",
    "data.loc[data[\"CreateJob\"] > 10, \"job_category\"] = 2\n",
    "data.loc[data[\"CreateJob\"] > 100, \"job_category\"] = 3\n",
    "\n",
    "data[\"job_category\"].value_counts()"
   ]
  },
  {
   "cell_type": "code",
   "execution_count": 20,
   "metadata": {},
   "outputs": [
    {
     "data": {
      "image/png": "[encoded data removed]",
      "text/plain": [
       "<Figure size 432x288 with 1 Axes>"
      ]
     },
     "metadata": {
      "needs_background": "light"
     },
     "output_type": "display_data"
    },
    {
     "data": {
      "text/plain": [
       "0.0    438700\n",
       "1.0    368080\n",
       "2.0     87553\n",
       "3.0      3101\n",
       "Name: retained_category, dtype: int64"
      ]
     },
     "execution_count": 20,
     "metadata": {},
     "output_type": "execute_result"
    },
    {
     "data": {
      "application/javascript": [
       "\n",
       "            setTimeout(function() {\n",
       "                var nbb_cell_id = 20;\n",
       "                var nbb_unformatted_code = \"# clean retained jobs\\ndata[\\\"RetainedJob\\\"].isna().sum()\\ndata[\\\"RetainedJob\\\"].value_counts()\\nplt.plot(data[\\\"RetainedJob\\\"])\\nplt.show()\\n\\n# let's do a similar treatment as with jobs created. might expect some colinearity?\\n# 0, 1-10, 10-100, 100+, bins\\ndata.loc[data[\\\"RetainedJob\\\"] == 0, \\\"retained_category\\\"] = 0\\ndata.loc[data[\\\"RetainedJob\\\"] > 0, \\\"retained_category\\\"] = 1\\ndata.loc[data[\\\"RetainedJob\\\"] > 10, \\\"retained_category\\\"] = 2\\ndata.loc[data[\\\"RetainedJob\\\"] > 100, \\\"retained_category\\\"] = 3\\n\\ndata[\\\"retained_category\\\"].value_counts()\";\n",
       "                var nbb_formatted_code = \"# clean retained jobs\\ndata[\\\"RetainedJob\\\"].isna().sum()\\ndata[\\\"RetainedJob\\\"].value_counts()\\nplt.plot(data[\\\"RetainedJob\\\"])\\nplt.show()\\n\\n# let's do a similar treatment as with jobs created. might expect some colinearity?\\n# 0, 1-10, 10-100, 100+, bins\\ndata.loc[data[\\\"RetainedJob\\\"] == 0, \\\"retained_category\\\"] = 0\\ndata.loc[data[\\\"RetainedJob\\\"] > 0, \\\"retained_category\\\"] = 1\\ndata.loc[data[\\\"RetainedJob\\\"] > 10, \\\"retained_category\\\"] = 2\\ndata.loc[data[\\\"RetainedJob\\\"] > 100, \\\"retained_category\\\"] = 3\\n\\ndata[\\\"retained_category\\\"].value_counts()\";\n",
       "                var nbb_cells = Jupyter.notebook.get_cells();\n",
       "                for (var i = 0; i < nbb_cells.length; ++i) {\n",
       "                    if (nbb_cells[i].input_prompt_number == nbb_cell_id) {\n",
       "                        if (nbb_cells[i].get_text() == nbb_unformatted_code) {\n",
       "                             nbb_cells[i].set_text(nbb_formatted_code);\n",
       "                        }\n",
       "                        break;\n",
       "                    }\n",
       "                }\n",
       "            }, 500);\n",
       "            "
      ],
      "text/plain": [
       "<IPython.core.display.Javascript object>"
      ]
     },
     "metadata": {},
     "output_type": "display_data"
    }
   ],
   "source": [
    "# clean retained jobs\n",
    "data[\"RetainedJob\"].isna().sum()\n",
    "data[\"RetainedJob\"].value_counts()\n",
    "plt.plot(data[\"RetainedJob\"])\n",
    "plt.show()\n",
    "\n",
    "# let's do a similar treatment as with jobs created. might expect some colinearity?\n",
    "# 0, 1-10, 10-100, 100+, bins\n",
    "data.loc[data[\"RetainedJob\"] == 0, \"retained_category\"] = 0\n",
    "data.loc[data[\"RetainedJob\"] > 0, \"retained_category\"] = 1\n",
    "data.loc[data[\"RetainedJob\"] > 10, \"retained_category\"] = 2\n",
    "data.loc[data[\"RetainedJob\"] > 100, \"retained_category\"] = 3\n",
    "\n",
    "data[\"retained_category\"].value_counts()"
   ]
  },
  {
   "cell_type": "code",
   "execution_count": 21,
   "metadata": {},
   "outputs": [
    {
     "data": {
      "text/plain": [
       "0.0    470632\n",
       "NaN    321469\n",
       "1.0    105333\n",
       "Name: UrbanRural_cleaned, dtype: int64"
      ]
     },
     "execution_count": 21,
     "metadata": {},
     "output_type": "execute_result"
    },
    {
     "data": {
      "image/png": "[encoded data removed]",
      "text/plain": [
       "<Figure size 432x288 with 1 Axes>"
      ]
     },
     "metadata": {
      "needs_background": "light"
     },
     "output_type": "display_data"
    },
    {
     "data": {
      "application/javascript": [
       "\n",
       "            setTimeout(function() {\n",
       "                var nbb_cell_id = 21;\n",
       "                var nbb_unformatted_code = \"# clean urban/rural column. 1: urban, 2: rural, 0:undefined\\ndata[\\\"UrbanRural\\\"].value_counts()\\n\\n# investigate na's for patterns, but will definitely remap to 0,1\\ndata.loc[data[\\\"UrbanRural\\\"] == 0, \\\"ApprovalDate_datetime\\\"].describe()\\n# looks lijke undefined (0's) are from mid-late 90's\\n# clue that future values might need to be 19 not 20\\ndata.loc[data[\\\"UrbanRural\\\"] == 0, \\\"ApprovalDate_datetime\\\"].hist(bins=20)\\ndata[\\\"UrbanRural\\\"].value_counts()\\n\\nUrbanRural_map = {1: 0, 2: 1, 0: np.nan}\\n\\ndata[\\\"UrbanRural_cleaned\\\"] = data[\\\"UrbanRural\\\"].map(UrbanRural_map)\\ndata[\\\"UrbanRural_cleaned\\\"].value_counts(dropna=False)\";\n",
       "                var nbb_formatted_code = \"# clean urban/rural column. 1: urban, 2: rural, 0:undefined\\ndata[\\\"UrbanRural\\\"].value_counts()\\n\\n# investigate na's for patterns, but will definitely remap to 0,1\\ndata.loc[data[\\\"UrbanRural\\\"] == 0, \\\"ApprovalDate_datetime\\\"].describe()\\n# looks lijke undefined (0's) are from mid-late 90's\\n# clue that future values might need to be 19 not 20\\ndata.loc[data[\\\"UrbanRural\\\"] == 0, \\\"ApprovalDate_datetime\\\"].hist(bins=20)\\ndata[\\\"UrbanRural\\\"].value_counts()\\n\\nUrbanRural_map = {1: 0, 2: 1, 0: np.nan}\\n\\ndata[\\\"UrbanRural_cleaned\\\"] = data[\\\"UrbanRural\\\"].map(UrbanRural_map)\\ndata[\\\"UrbanRural_cleaned\\\"].value_counts(dropna=False)\";\n",
       "                var nbb_cells = Jupyter.notebook.get_cells();\n",
       "                for (var i = 0; i < nbb_cells.length; ++i) {\n",
       "                    if (nbb_cells[i].input_prompt_number == nbb_cell_id) {\n",
       "                        if (nbb_cells[i].get_text() == nbb_unformatted_code) {\n",
       "                             nbb_cells[i].set_text(nbb_formatted_code);\n",
       "                        }\n",
       "                        break;\n",
       "                    }\n",
       "                }\n",
       "            }, 500);\n",
       "            "
      ],
      "text/plain": [
       "<IPython.core.display.Javascript object>"
      ]
     },
     "metadata": {},
     "output_type": "display_data"
    }
   ],
   "source": [
    "# clean urban/rural column. 1: urban, 2: rural, 0:undefined\n",
    "data[\"UrbanRural\"].value_counts()\n",
    "\n",
    "# investigate na's for patterns, but will definitely remap to 0,1\n",
    "data.loc[data[\"UrbanRural\"] == 0, \"ApprovalDate_datetime\"].describe()\n",
    "# looks lijke undefined (0's) are from mid-late 90's\n",
    "# clue that future values might need to be 19 not 20\n",
    "data.loc[data[\"UrbanRural\"] == 0, \"ApprovalDate_datetime\"].hist(bins=20)\n",
    "data[\"UrbanRural\"].value_counts()\n",
    "\n",
    "UrbanRural_map = {1: 0, 2: 1, 0: np.nan}\n",
    "\n",
    "data[\"UrbanRural_cleaned\"] = data[\"UrbanRural\"].map(UrbanRural_map)\n",
    "data[\"UrbanRural_cleaned\"].value_counts(dropna=False)"
   ]
  },
  {
   "cell_type": "code",
   "execution_count": 22,
   "metadata": {},
   "outputs": [
    {
     "data": {
      "text/plain": [
       "0.0    781263\n",
       "1.0    110166\n",
       "NaN      6005\n",
       "Name: LowDoc, dtype: int64"
      ]
     },
     "execution_count": 22,
     "metadata": {},
     "output_type": "execute_result"
    },
    {
     "data": {
      "application/javascript": [
       "\n",
       "            setTimeout(function() {\n",
       "                var nbb_cell_id = 22;\n",
       "                var nbb_unformatted_code = \"# clean LowDoc. Lot's of Na's\\n# y = yes, n = no\\ndata[\\\"LowDoc\\\"].isna().sum()\\ndata[\\\"LowDoc\\\"].value_counts(dropna=False)\\n# more nonsense, awesome\\nLowDoc_map = {\\n    \\\"N\\\": 0,\\n    \\\"Y\\\": 1,\\n}\\ndata['LowDoc'] = data[\\\"LowDoc\\\"].map(LowDoc_map, na_action=\\\"ignore\\\")\\ndata['LowDoc'].value_counts(dropna=False)\";\n",
       "                var nbb_formatted_code = \"# clean LowDoc. Lot's of Na's\\n# y = yes, n = no\\ndata[\\\"LowDoc\\\"].isna().sum()\\ndata[\\\"LowDoc\\\"].value_counts(dropna=False)\\n# more nonsense, awesome\\nLowDoc_map = {\\n    \\\"N\\\": 0,\\n    \\\"Y\\\": 1,\\n}\\ndata[\\\"LowDoc\\\"] = data[\\\"LowDoc\\\"].map(LowDoc_map, na_action=\\\"ignore\\\")\\ndata[\\\"LowDoc\\\"].value_counts(dropna=False)\";\n",
       "                var nbb_cells = Jupyter.notebook.get_cells();\n",
       "                for (var i = 0; i < nbb_cells.length; ++i) {\n",
       "                    if (nbb_cells[i].input_prompt_number == nbb_cell_id) {\n",
       "                        if (nbb_cells[i].get_text() == nbb_unformatted_code) {\n",
       "                             nbb_cells[i].set_text(nbb_formatted_code);\n",
       "                        }\n",
       "                        break;\n",
       "                    }\n",
       "                }\n",
       "            }, 500);\n",
       "            "
      ],
      "text/plain": [
       "<IPython.core.display.Javascript object>"
      ]
     },
     "metadata": {},
     "output_type": "display_data"
    }
   ],
   "source": [
    "# clean LowDoc. Lot's of Na's\n",
    "# y = yes, n = no\n",
    "data[\"LowDoc\"].isna().sum()\n",
    "data[\"LowDoc\"].value_counts(dropna=False)\n",
    "# more nonsense, awesome\n",
    "LowDoc_map = {\n",
    "    \"N\": 0,\n",
    "    \"Y\": 1,\n",
    "}\n",
    "data['LowDoc'] = data[\"LowDoc\"].map(LowDoc_map, na_action=\"ignore\")\n",
    "data['LowDoc'].value_counts(dropna=False)\n"
   ]
  },
  {
   "cell_type": "code",
   "execution_count": 23,
   "metadata": {},
   "outputs": [
    {
     "data": {
      "text/plain": [
       "NaN          734902\n",
       "13-Mar-10       734\n",
       "20-Feb-10       614\n",
       "30-Jan-10       519\n",
       "6-Feb-10        461\n",
       "              ...  \n",
       "28-Jun-93         1\n",
       "3-Feb-05          1\n",
       "22-May-98         1\n",
       "5-Sep-12          1\n",
       "29-Apr-98         1\n",
       "Name: ChgOffDate, Length: 6445, dtype: int64"
      ]
     },
     "execution_count": 23,
     "metadata": {},
     "output_type": "execute_result"
    },
    {
     "data": {
      "application/javascript": [
       "\n",
       "            setTimeout(function() {\n",
       "                var nbb_cell_id = 23;\n",
       "                var nbb_unformatted_code = \"# clean chrgoffdate\\n# redundant to target. Use MIS_Status as target\\n\\n# would be useful to see if time from approval to charge off was predictive for regression,\\n# but it is illegal information for the classification problem\\ndata[\\\"ChgOffDate\\\"].isna().sum()\\ndata[\\\"ChgOffDate\\\"].value_counts(dropna=False)\";\n",
       "                var nbb_formatted_code = \"# clean chrgoffdate\\n# redundant to target. Use MIS_Status as target\\n\\n# would be useful to see if time from approval to charge off was predictive for regression,\\n# but it is illegal information for the classification problem\\ndata[\\\"ChgOffDate\\\"].isna().sum()\\ndata[\\\"ChgOffDate\\\"].value_counts(dropna=False)\";\n",
       "                var nbb_cells = Jupyter.notebook.get_cells();\n",
       "                for (var i = 0; i < nbb_cells.length; ++i) {\n",
       "                    if (nbb_cells[i].input_prompt_number == nbb_cell_id) {\n",
       "                        if (nbb_cells[i].get_text() == nbb_unformatted_code) {\n",
       "                             nbb_cells[i].set_text(nbb_formatted_code);\n",
       "                        }\n",
       "                        break;\n",
       "                    }\n",
       "                }\n",
       "            }, 500);\n",
       "            "
      ],
      "text/plain": [
       "<IPython.core.display.Javascript object>"
      ]
     },
     "metadata": {},
     "output_type": "display_data"
    }
   ],
   "source": [
    "# clean chrgoffdate\n",
    "# redundant to target. Use MIS_Status as target\n",
    "\n",
    "# would be useful to see if time from approval to charge off was predictive for regression,\n",
    "# but it is illegal information for the classification problem\n",
    "data[\"ChgOffDate\"].isna().sum()\n",
    "data[\"ChgOffDate\"].value_counts(dropna=False)"
   ]
  },
  {
   "cell_type": "code",
   "execution_count": 24,
   "metadata": {},
   "outputs": [
    {
     "data": {
      "application/javascript": [
       "\n",
       "            setTimeout(function() {\n",
       "                var nbb_cell_id = 24;\n",
       "                var nbb_unformatted_code = \"data = data.loc[\\n    data[\\\"ApprovalDate_datetime\\\"].dt.year < 2020,\\n]\\ndata = data.loc[data[\\\"ApprovalDate_datetime\\\"].dt.year > 2000]\";\n",
       "                var nbb_formatted_code = \"data = data.loc[\\n    data[\\\"ApprovalDate_datetime\\\"].dt.year < 2020,\\n]\\ndata = data.loc[data[\\\"ApprovalDate_datetime\\\"].dt.year > 2000]\";\n",
       "                var nbb_cells = Jupyter.notebook.get_cells();\n",
       "                for (var i = 0; i < nbb_cells.length; ++i) {\n",
       "                    if (nbb_cells[i].input_prompt_number == nbb_cell_id) {\n",
       "                        if (nbb_cells[i].get_text() == nbb_unformatted_code) {\n",
       "                             nbb_cells[i].set_text(nbb_formatted_code);\n",
       "                        }\n",
       "                        break;\n",
       "                    }\n",
       "                }\n",
       "            }, 500);\n",
       "            "
      ],
      "text/plain": [
       "<IPython.core.display.Javascript object>"
      ]
     },
     "metadata": {},
     "output_type": "display_data"
    }
   ],
   "source": [
    "data = data.loc[\n",
    "    data[\"ApprovalDate_datetime\"].dt.year < 2020,\n",
    "]\n",
    "data = data.loc[data[\"ApprovalDate_datetime\"].dt.year > 2000]"
   ]
  },
  {
   "cell_type": "code",
   "execution_count": null,
   "metadata": {},
   "outputs": [],
   "source": []
  },
  {
   "cell_type": "code",
   "execution_count": 25,
   "metadata": {},
   "outputs": [
    {
     "data": {
      "text/plain": [
       "count    522582.000000\n",
       "mean       2005.371318\n",
       "std           2.566922\n",
       "min        2000.000000\n",
       "25%        2003.000000\n",
       "50%        2005.000000\n",
       "75%        2007.000000\n",
       "max        2014.000000\n",
       "Name: Disbr_datetime, dtype: float64"
      ]
     },
     "execution_count": 25,
     "metadata": {},
     "output_type": "execute_result"
    },
    {
     "data": {
      "application/javascript": [
       "\n",
       "            setTimeout(function() {\n",
       "                var nbb_cell_id = 25;\n",
       "                var nbb_unformatted_code = \"data[\\\"DisbursementDate\\\"].isna().sum()\\ndata.loc[data[\\\"DisbursementDate\\\"].isna()]\\ndata[\\\"DisbursementDate\\\"] = data[\\\"DisbursementDate\\\"].fillna(data[\\\"ApprovalDate\\\"])\\n\\ndata[\\\"Disbr_datetime\\\"] = pd.to_datetime(data[\\\"DisbursementDate\\\"])\\n\\n# cuts dout about 300k rows\\ndata = data.loc[data[\\\"Disbr_datetime\\\"].dt.year.isin(np.arange(2000, 2020, 1))]\\ndata[\\\"Disbr_datetime\\\"].dt.year.describe()\\n# # note the 2069 jumping out again. Just going to ignore it,\\n# # because it is from a time we don't care about\";\n",
       "                var nbb_formatted_code = \"data[\\\"DisbursementDate\\\"].isna().sum()\\ndata.loc[data[\\\"DisbursementDate\\\"].isna()]\\ndata[\\\"DisbursementDate\\\"] = data[\\\"DisbursementDate\\\"].fillna(data[\\\"ApprovalDate\\\"])\\n\\ndata[\\\"Disbr_datetime\\\"] = pd.to_datetime(data[\\\"DisbursementDate\\\"])\\n\\n# cuts dout about 300k rows\\ndata = data.loc[data[\\\"Disbr_datetime\\\"].dt.year.isin(np.arange(2000, 2020, 1))]\\ndata[\\\"Disbr_datetime\\\"].dt.year.describe()\\n# # note the 2069 jumping out again. Just going to ignore it,\\n# # because it is from a time we don't care about\";\n",
       "                var nbb_cells = Jupyter.notebook.get_cells();\n",
       "                for (var i = 0; i < nbb_cells.length; ++i) {\n",
       "                    if (nbb_cells[i].input_prompt_number == nbb_cell_id) {\n",
       "                        if (nbb_cells[i].get_text() == nbb_unformatted_code) {\n",
       "                             nbb_cells[i].set_text(nbb_formatted_code);\n",
       "                        }\n",
       "                        break;\n",
       "                    }\n",
       "                }\n",
       "            }, 500);\n",
       "            "
      ],
      "text/plain": [
       "<IPython.core.display.Javascript object>"
      ]
     },
     "metadata": {},
     "output_type": "display_data"
    }
   ],
   "source": [
    "data[\"DisbursementDate\"].isna().sum()\n",
    "data.loc[data[\"DisbursementDate\"].isna()]\n",
    "data[\"DisbursementDate\"] = data[\"DisbursementDate\"].fillna(data[\"ApprovalDate\"])\n",
    "\n",
    "data[\"Disbr_datetime\"] = pd.to_datetime(data[\"DisbursementDate\"])\n",
    "\n",
    "# cuts dout about 300k rows\n",
    "data = data.loc[data[\"Disbr_datetime\"].dt.year.isin(np.arange(2000, 2020, 1))]\n",
    "data[\"Disbr_datetime\"].dt.year.describe()\n",
    "# # note the 2069 jumping out again. Just going to ignore it,\n",
    "# # because it is from a time we don't care about\n"
   ]
  },
  {
   "cell_type": "code",
   "execution_count": 26,
   "metadata": {
    "scrolled": false
   },
   "outputs": [
    {
     "data": {
      "text/plain": [
       "1.0    505565\n",
       "0.0     17017\n",
       "Name: sba_pre_approv, dtype: int64"
      ]
     },
     "execution_count": 26,
     "metadata": {},
     "output_type": "execute_result"
    },
    {
     "data": {
      "application/javascript": [
       "\n",
       "            setTimeout(function() {\n",
       "                var nbb_cell_id = 26;\n",
       "                var nbb_unformatted_code = \"# make a feature identifying if SBA approval was given before or after loan disbursed\\n\\ndata[\\\"time_to_disbr\\\"] = data[\\\"Disbr_datetime\\\"] - data[\\\"ApprovalDate_datetime\\\"]\\n\\nsba_pre_approved = data[\\\"time_to_disbr\\\"] > np.timedelta64(0, \\\"D\\\")\\nsba_pre_approved.value_counts(dropna=False)\\ndata.loc[sba_pre_approved, \\\"sba_pre_approv\\\"] = 1\\ndata.loc[~sba_pre_approved, \\\"sba_pre_approv\\\"] = 0\\ndata[\\\"sba_pre_approv\\\"].value_counts(dropna=False)\";\n",
       "                var nbb_formatted_code = \"# make a feature identifying if SBA approval was given before or after loan disbursed\\n\\ndata[\\\"time_to_disbr\\\"] = data[\\\"Disbr_datetime\\\"] - data[\\\"ApprovalDate_datetime\\\"]\\n\\nsba_pre_approved = data[\\\"time_to_disbr\\\"] > np.timedelta64(0, \\\"D\\\")\\nsba_pre_approved.value_counts(dropna=False)\\ndata.loc[sba_pre_approved, \\\"sba_pre_approv\\\"] = 1\\ndata.loc[~sba_pre_approved, \\\"sba_pre_approv\\\"] = 0\\ndata[\\\"sba_pre_approv\\\"].value_counts(dropna=False)\";\n",
       "                var nbb_cells = Jupyter.notebook.get_cells();\n",
       "                for (var i = 0; i < nbb_cells.length; ++i) {\n",
       "                    if (nbb_cells[i].input_prompt_number == nbb_cell_id) {\n",
       "                        if (nbb_cells[i].get_text() == nbb_unformatted_code) {\n",
       "                             nbb_cells[i].set_text(nbb_formatted_code);\n",
       "                        }\n",
       "                        break;\n",
       "                    }\n",
       "                }\n",
       "            }, 500);\n",
       "            "
      ],
      "text/plain": [
       "<IPython.core.display.Javascript object>"
      ]
     },
     "metadata": {},
     "output_type": "display_data"
    }
   ],
   "source": [
    "# make a feature identifying if SBA approval was given before or after loan disbursed\n",
    "\n",
    "data[\"time_to_disbr\"] = data[\"Disbr_datetime\"] - data[\"ApprovalDate_datetime\"]\n",
    "\n",
    "sba_pre_approved = data[\"time_to_disbr\"] > np.timedelta64(0, \"D\")\n",
    "sba_pre_approved.value_counts(dropna=False)\n",
    "data.loc[sba_pre_approved, \"sba_pre_approv\"] = 1\n",
    "data.loc[~sba_pre_approved, \"sba_pre_approv\"] = 0\n",
    "data[\"sba_pre_approv\"].value_counts(dropna=False)"
   ]
  },
  {
   "cell_type": "code",
   "execution_count": 27,
   "metadata": {},
   "outputs": [
    {
     "data": {
      "application/javascript": [
       "\n",
       "            setTimeout(function() {\n",
       "                var nbb_cell_id = 27;\n",
       "                var nbb_unformatted_code = \"# clean disbursementgross\\ndata[\\\"DisbursementGross\\\"].isna().sum()\\ndata[\\\"DisbursementGross\\\"] = data[\\\"DisbursementGross\\\"].str.replace(\\\"$\\\", \\\"\\\")\\ndata[\\\"DisbursementGross\\\"] = data[\\\"DisbursementGross\\\"].str.replace(\\\",\\\", \\\"\\\")\\ndata[\\\"DisbursementGross\\\"] = data[\\\"DisbursementGross\\\"].astype(float)\\n\\n\\n# may want to do some selection on this later`\\n\\n# data[\\\"DisbursementGross\\\"].value_counts().sort_index()\\n# # 28 rows with 0, some in single digits??\\n# data.loc[data[\\\"DisbursementGross\\\"] < 1000, \\\"DisbursementGross\\\"].describe()\\n# data[\\\"DisbursementGross\\\"].isna().sum()\";\n",
       "                var nbb_formatted_code = \"# clean disbursementgross\\ndata[\\\"DisbursementGross\\\"].isna().sum()\\ndata[\\\"DisbursementGross\\\"] = data[\\\"DisbursementGross\\\"].str.replace(\\\"$\\\", \\\"\\\")\\ndata[\\\"DisbursementGross\\\"] = data[\\\"DisbursementGross\\\"].str.replace(\\\",\\\", \\\"\\\")\\ndata[\\\"DisbursementGross\\\"] = data[\\\"DisbursementGross\\\"].astype(float)\\n\\n\\n# may want to do some selection on this later`\\n\\n# data[\\\"DisbursementGross\\\"].value_counts().sort_index()\\n# # 28 rows with 0, some in single digits??\\n# data.loc[data[\\\"DisbursementGross\\\"] < 1000, \\\"DisbursementGross\\\"].describe()\\n# data[\\\"DisbursementGross\\\"].isna().sum()\";\n",
       "                var nbb_cells = Jupyter.notebook.get_cells();\n",
       "                for (var i = 0; i < nbb_cells.length; ++i) {\n",
       "                    if (nbb_cells[i].input_prompt_number == nbb_cell_id) {\n",
       "                        if (nbb_cells[i].get_text() == nbb_unformatted_code) {\n",
       "                             nbb_cells[i].set_text(nbb_formatted_code);\n",
       "                        }\n",
       "                        break;\n",
       "                    }\n",
       "                }\n",
       "            }, 500);\n",
       "            "
      ],
      "text/plain": [
       "<IPython.core.display.Javascript object>"
      ]
     },
     "metadata": {},
     "output_type": "display_data"
    }
   ],
   "source": [
    "# clean disbursementgross\n",
    "data[\"DisbursementGross\"].isna().sum()\n",
    "data[\"DisbursementGross\"] = data[\"DisbursementGross\"].str.replace(\"$\", \"\")\n",
    "data[\"DisbursementGross\"] = data[\"DisbursementGross\"].str.replace(\",\", \"\")\n",
    "data[\"DisbursementGross\"] = data[\"DisbursementGross\"].astype(float)\n",
    "\n",
    "\n",
    "# may want to do some selection on this later`\n",
    "\n",
    "# data[\"DisbursementGross\"].value_counts().sort_index()\n",
    "# # 28 rows with 0, some in single digits??\n",
    "# data.loc[data[\"DisbursementGross\"] < 1000, \"DisbursementGross\"].describe()\n",
    "# data[\"DisbursementGross\"].isna().sum()"
   ]
  },
  {
   "cell_type": "code",
   "execution_count": 28,
   "metadata": {},
   "outputs": [
    {
     "data": {
      "text/plain": [
       "0.0         522569\n",
       "996262.0         1\n",
       "115820.0         1\n",
       "827875.0         1\n",
       "12750.0          1\n",
       "25000.0          1\n",
       "395476.0         1\n",
       "96908.0          1\n",
       "43127.0          1\n",
       "84617.0          1\n",
       "41509.0          1\n",
       "600.0            1\n",
       "37100.0          1\n",
       "9111.0           1\n",
       "Name: BalanceGross, dtype: int64"
      ]
     },
     "execution_count": 28,
     "metadata": {},
     "output_type": "execute_result"
    },
    {
     "data": {
      "application/javascript": [
       "\n",
       "            setTimeout(function() {\n",
       "                var nbb_cell_id = 28;\n",
       "                var nbb_unformatted_code = \"# clean balancegross\\n\\ndata[\\\"BalanceGross\\\"].isna().sum()\\n# data[\\\"BalanceGross\\\"].value_counts()\\ndata[\\\"BalanceGross\\\"] = data[\\\"BalanceGross\\\"].str.replace(\\\"$\\\", \\\"\\\")\\ndata[\\\"BalanceGross\\\"] = data[\\\"BalanceGross\\\"].str.replace(\\\",\\\", \\\"\\\")\\ndata[\\\"BalanceGross\\\"] = data[\\\"BalanceGross\\\"].astype(float)\\n\\ndata[\\\"BalanceGross\\\"].value_counts(dropna=False)\\n# small number have a balance. Chrgd off vs PIF may be severly imbalanced, or this column is trash\";\n",
       "                var nbb_formatted_code = \"# clean balancegross\\n\\ndata[\\\"BalanceGross\\\"].isna().sum()\\n# data[\\\"BalanceGross\\\"].value_counts()\\ndata[\\\"BalanceGross\\\"] = data[\\\"BalanceGross\\\"].str.replace(\\\"$\\\", \\\"\\\")\\ndata[\\\"BalanceGross\\\"] = data[\\\"BalanceGross\\\"].str.replace(\\\",\\\", \\\"\\\")\\ndata[\\\"BalanceGross\\\"] = data[\\\"BalanceGross\\\"].astype(float)\\n\\ndata[\\\"BalanceGross\\\"].value_counts(dropna=False)\\n# small number have a balance. Chrgd off vs PIF may be severly imbalanced, or this column is trash\";\n",
       "                var nbb_cells = Jupyter.notebook.get_cells();\n",
       "                for (var i = 0; i < nbb_cells.length; ++i) {\n",
       "                    if (nbb_cells[i].input_prompt_number == nbb_cell_id) {\n",
       "                        if (nbb_cells[i].get_text() == nbb_unformatted_code) {\n",
       "                             nbb_cells[i].set_text(nbb_formatted_code);\n",
       "                        }\n",
       "                        break;\n",
       "                    }\n",
       "                }\n",
       "            }, 500);\n",
       "            "
      ],
      "text/plain": [
       "<IPython.core.display.Javascript object>"
      ]
     },
     "metadata": {},
     "output_type": "display_data"
    }
   ],
   "source": [
    "# clean balancegross\n",
    "\n",
    "data[\"BalanceGross\"].isna().sum()\n",
    "# data[\"BalanceGross\"].value_counts()\n",
    "data[\"BalanceGross\"] = data[\"BalanceGross\"].str.replace(\"$\", \"\")\n",
    "data[\"BalanceGross\"] = data[\"BalanceGross\"].str.replace(\",\", \"\")\n",
    "data[\"BalanceGross\"] = data[\"BalanceGross\"].astype(float)\n",
    "\n",
    "data[\"BalanceGross\"].value_counts(dropna=False)\n",
    "# small number have a balance. Chrgd off vs PIF may be severly imbalanced, or this column is trash"
   ]
  },
  {
   "cell_type": "code",
   "execution_count": 29,
   "metadata": {},
   "outputs": [
    {
     "data": {
      "text/plain": [
       "0.0         388339\n",
       "50000.0       2073\n",
       "10000.0       1852\n",
       "25000.0       1346\n",
       "35000.0       1337\n",
       "             ...  \n",
       "30686.0          1\n",
       "122745.0         1\n",
       "196184.0         1\n",
       "11817.0          1\n",
       "62178.0          1\n",
       "Name: ChgOffPrinGr, Length: 67412, dtype: int64"
      ]
     },
     "execution_count": 29,
     "metadata": {},
     "output_type": "execute_result"
    },
    {
     "data": {
      "application/javascript": [
       "\n",
       "            setTimeout(function() {\n",
       "                var nbb_cell_id = 29;\n",
       "                var nbb_unformatted_code = \"# clean ChgOffPrinGr\\n\\ndata[\\\"ChgOffPrinGr\\\"].isna().sum()\\ndata[\\\"ChgOffPrinGr\\\"].value_counts()\\ndata[\\\"ChgOffPrinGr\\\"] = data[\\\"ChgOffPrinGr\\\"].str.replace(\\\"$\\\", \\\"\\\")\\ndata[\\\"ChgOffPrinGr\\\"] = data[\\\"ChgOffPrinGr\\\"].str.replace(\\\",\\\", \\\"\\\")\\ndata[\\\"ChgOffPrinGr\\\"] = data[\\\"ChgOffPrinGr\\\"].astype(float)\\n\\ndata[\\\"ChgOffPrinGr\\\"].value_counts(dropna=False)\";\n",
       "                var nbb_formatted_code = \"# clean ChgOffPrinGr\\n\\ndata[\\\"ChgOffPrinGr\\\"].isna().sum()\\ndata[\\\"ChgOffPrinGr\\\"].value_counts()\\ndata[\\\"ChgOffPrinGr\\\"] = data[\\\"ChgOffPrinGr\\\"].str.replace(\\\"$\\\", \\\"\\\")\\ndata[\\\"ChgOffPrinGr\\\"] = data[\\\"ChgOffPrinGr\\\"].str.replace(\\\",\\\", \\\"\\\")\\ndata[\\\"ChgOffPrinGr\\\"] = data[\\\"ChgOffPrinGr\\\"].astype(float)\\n\\ndata[\\\"ChgOffPrinGr\\\"].value_counts(dropna=False)\";\n",
       "                var nbb_cells = Jupyter.notebook.get_cells();\n",
       "                for (var i = 0; i < nbb_cells.length; ++i) {\n",
       "                    if (nbb_cells[i].input_prompt_number == nbb_cell_id) {\n",
       "                        if (nbb_cells[i].get_text() == nbb_unformatted_code) {\n",
       "                             nbb_cells[i].set_text(nbb_formatted_code);\n",
       "                        }\n",
       "                        break;\n",
       "                    }\n",
       "                }\n",
       "            }, 500);\n",
       "            "
      ],
      "text/plain": [
       "<IPython.core.display.Javascript object>"
      ]
     },
     "metadata": {},
     "output_type": "display_data"
    }
   ],
   "source": [
    "# clean ChgOffPrinGr\n",
    "\n",
    "data[\"ChgOffPrinGr\"].isna().sum()\n",
    "data[\"ChgOffPrinGr\"].value_counts()\n",
    "data[\"ChgOffPrinGr\"] = data[\"ChgOffPrinGr\"].str.replace(\"$\", \"\")\n",
    "data[\"ChgOffPrinGr\"] = data[\"ChgOffPrinGr\"].str.replace(\",\", \"\")\n",
    "data[\"ChgOffPrinGr\"] = data[\"ChgOffPrinGr\"].astype(float)\n",
    "\n",
    "data[\"ChgOffPrinGr\"].value_counts(dropna=False)"
   ]
  },
  {
   "cell_type": "code",
   "execution_count": 30,
   "metadata": {},
   "outputs": [
    {
     "data": {
      "text/plain": [
       "25000.0     45647\n",
       "12500.0     37226\n",
       "5000.0      29166\n",
       "50000.0     21941\n",
       "10000.0     15539\n",
       "            ...  \n",
       "790125.0        1\n",
       "48225.0         1\n",
       "98753.0         1\n",
       "98736.0         1\n",
       "32768.0         1\n",
       "Name: SBA_Appv, Length: 17597, dtype: int64"
      ]
     },
     "execution_count": 30,
     "metadata": {},
     "output_type": "execute_result"
    },
    {
     "data": {
      "application/javascript": [
       "\n",
       "            setTimeout(function() {\n",
       "                var nbb_cell_id = 30;\n",
       "                var nbb_unformatted_code = \"# clean SBA_Appv\\n\\ndata[\\\"SBA_Appv\\\"].isna().sum()\\ndata[\\\"SBA_Appv\\\"].value_counts()\\n\\ndata[\\\"SBA_Appv\\\"] = data[\\\"SBA_Appv\\\"].str.replace(\\\"$\\\", \\\"\\\")\\ndata[\\\"SBA_Appv\\\"] = data[\\\"SBA_Appv\\\"].str.replace(\\\",\\\", \\\"\\\")\\ndata[\\\"SBA_Appv\\\"] = data[\\\"SBA_Appv\\\"].astype(float)\\n\\ndata[\\\"SBA_Appv\\\"].value_counts(dropna=False)\";\n",
       "                var nbb_formatted_code = \"# clean SBA_Appv\\n\\ndata[\\\"SBA_Appv\\\"].isna().sum()\\ndata[\\\"SBA_Appv\\\"].value_counts()\\n\\ndata[\\\"SBA_Appv\\\"] = data[\\\"SBA_Appv\\\"].str.replace(\\\"$\\\", \\\"\\\")\\ndata[\\\"SBA_Appv\\\"] = data[\\\"SBA_Appv\\\"].str.replace(\\\",\\\", \\\"\\\")\\ndata[\\\"SBA_Appv\\\"] = data[\\\"SBA_Appv\\\"].astype(float)\\n\\ndata[\\\"SBA_Appv\\\"].value_counts(dropna=False)\";\n",
       "                var nbb_cells = Jupyter.notebook.get_cells();\n",
       "                for (var i = 0; i < nbb_cells.length; ++i) {\n",
       "                    if (nbb_cells[i].input_prompt_number == nbb_cell_id) {\n",
       "                        if (nbb_cells[i].get_text() == nbb_unformatted_code) {\n",
       "                             nbb_cells[i].set_text(nbb_formatted_code);\n",
       "                        }\n",
       "                        break;\n",
       "                    }\n",
       "                }\n",
       "            }, 500);\n",
       "            "
      ],
      "text/plain": [
       "<IPython.core.display.Javascript object>"
      ]
     },
     "metadata": {},
     "output_type": "display_data"
    }
   ],
   "source": [
    "# clean SBA_Appv\n",
    "\n",
    "data[\"SBA_Appv\"].isna().sum()\n",
    "data[\"SBA_Appv\"].value_counts()\n",
    "\n",
    "data[\"SBA_Appv\"] = data[\"SBA_Appv\"].str.replace(\"$\", \"\")\n",
    "data[\"SBA_Appv\"] = data[\"SBA_Appv\"].str.replace(\",\", \"\")\n",
    "data[\"SBA_Appv\"] = data[\"SBA_Appv\"].astype(float)\n",
    "\n",
    "data[\"SBA_Appv\"].value_counts(dropna=False)"
   ]
  },
  {
   "cell_type": "code",
   "execution_count": 31,
   "metadata": {},
   "outputs": [
    {
     "data": {
      "text/plain": [
       "P I F     390973\n",
       "CHGOFF    129981\n",
       "NaN         1628\n",
       "Name: MIS_Status, dtype: int64"
      ]
     },
     "execution_count": 31,
     "metadata": {},
     "output_type": "execute_result"
    },
    {
     "data": {
      "application/javascript": [
       "\n",
       "            setTimeout(function() {\n",
       "                var nbb_cell_id = 31;\n",
       "                var nbb_unformatted_code = \"data[\\\"MIS_Status\\\"].value_counts(dropna=False)\";\n",
       "                var nbb_formatted_code = \"data[\\\"MIS_Status\\\"].value_counts(dropna=False)\";\n",
       "                var nbb_cells = Jupyter.notebook.get_cells();\n",
       "                for (var i = 0; i < nbb_cells.length; ++i) {\n",
       "                    if (nbb_cells[i].input_prompt_number == nbb_cell_id) {\n",
       "                        if (nbb_cells[i].get_text() == nbb_unformatted_code) {\n",
       "                             nbb_cells[i].set_text(nbb_formatted_code);\n",
       "                        }\n",
       "                        break;\n",
       "                    }\n",
       "                }\n",
       "            }, 500);\n",
       "            "
      ],
      "text/plain": [
       "<IPython.core.display.Javascript object>"
      ]
     },
     "metadata": {},
     "output_type": "display_data"
    }
   ],
   "source": [
    "data[\"MIS_Status\"].value_counts(dropna=False)"
   ]
  },
  {
   "cell_type": "code",
   "execution_count": 32,
   "metadata": {},
   "outputs": [
    {
     "data": {
      "text/plain": [
       "0    392436\n",
       "1    130146\n",
       "Name: MIS_Status, dtype: int64"
      ]
     },
     "execution_count": 32,
     "metadata": {},
     "output_type": "execute_result"
    },
    {
     "data": {
      "application/javascript": [
       "\n",
       "            setTimeout(function() {\n",
       "                var nbb_cell_id = 32;\n",
       "                var nbb_unformatted_code = \"# come back after handling remaining money columns\\n\\ndata[\\\"MIS_Status\\\"].isna().sum()\\n# only 1628 na's here! not bad. Maybe lost more with previous selection? Not an answer I care about\\ndata[\\\"MIS_Status\\\"].value_counts(dropna=False)\\n# about 400K PIF and 120k CHGOFF. I'll investigate the nans for patterns,\\n# but dropping them will little impact\\ndata.loc[data[\\\"MIS_Status\\\"].isna(), \\\"ApprovalFY\\\"].value_counts()\\n# 2001 - 2013. Seems to just be random from our distribution\\ndata.loc[data[\\\"MIS_Status\\\"].isna(), \\\"BalanceGross\\\"].describe()\\n# all na's have a zero balance\\ndata.loc[data[\\\"MIS_Status\\\"].isna(), \\\"ChgOffPrinGr\\\"].describe()\\ndata.loc[data[\\\"MIS_Status\\\"].isna(), \\\"ChgOffPrinGr\\\"].value_counts()\\n# 1463 of th na's have no charge off amount. These will be set to PIF. Remaining to charged off\\nmis_na_pif = (\\n    data.loc[data[\\\"MIS_Status\\\"].isna()].loc[data[\\\"ChgOffPrinGr\\\"] == 0].index.to_list()\\n)\\ndata.loc[mis_na_pif, \\\"MIS_Status\\\"] = data.loc[mis_na_pif, \\\"MIS_Status\\\"].fillna(\\n    value=\\\"P I F\\\"\\n)\\n\\nmis_na_CHGOFF = (\\n    data.loc[data[\\\"MIS_Status\\\"].isna()].loc[data[\\\"ChgOffPrinGr\\\"] != 0].index.to_list()\\n)\\ndata.loc[mis_na_CHGOFF, \\\"MIS_Status\\\"] = data.loc[mis_na_CHGOFF, \\\"MIS_Status\\\"].fillna(\\n    value=\\\"CHGOFF\\\"\\n)\\ndata[\\\"MIS_Status\\\"].value_counts(dropna=False)\\n\\nMIS_Status_map = {\\n    'P I F': 0,\\n    'CHGOFF': 1,\\n    0: 0,\\n    1: 1\\n}\\n\\ndata['MIS_Status'] = data['MIS_Status'].map(MIS_Status_map, na_action='ignore')\\ndata[\\\"MIS_Status\\\"].value_counts(dropna=False)\";\n",
       "                var nbb_formatted_code = \"# come back after handling remaining money columns\\n\\ndata[\\\"MIS_Status\\\"].isna().sum()\\n# only 1628 na's here! not bad. Maybe lost more with previous selection? Not an answer I care about\\ndata[\\\"MIS_Status\\\"].value_counts(dropna=False)\\n# about 400K PIF and 120k CHGOFF. I'll investigate the nans for patterns,\\n# but dropping them will little impact\\ndata.loc[data[\\\"MIS_Status\\\"].isna(), \\\"ApprovalFY\\\"].value_counts()\\n# 2001 - 2013. Seems to just be random from our distribution\\ndata.loc[data[\\\"MIS_Status\\\"].isna(), \\\"BalanceGross\\\"].describe()\\n# all na's have a zero balance\\ndata.loc[data[\\\"MIS_Status\\\"].isna(), \\\"ChgOffPrinGr\\\"].describe()\\ndata.loc[data[\\\"MIS_Status\\\"].isna(), \\\"ChgOffPrinGr\\\"].value_counts()\\n# 1463 of th na's have no charge off amount. These will be set to PIF. Remaining to charged off\\nmis_na_pif = (\\n    data.loc[data[\\\"MIS_Status\\\"].isna()].loc[data[\\\"ChgOffPrinGr\\\"] == 0].index.to_list()\\n)\\ndata.loc[mis_na_pif, \\\"MIS_Status\\\"] = data.loc[mis_na_pif, \\\"MIS_Status\\\"].fillna(\\n    value=\\\"P I F\\\"\\n)\\n\\nmis_na_CHGOFF = (\\n    data.loc[data[\\\"MIS_Status\\\"].isna()].loc[data[\\\"ChgOffPrinGr\\\"] != 0].index.to_list()\\n)\\ndata.loc[mis_na_CHGOFF, \\\"MIS_Status\\\"] = data.loc[mis_na_CHGOFF, \\\"MIS_Status\\\"].fillna(\\n    value=\\\"CHGOFF\\\"\\n)\\ndata[\\\"MIS_Status\\\"].value_counts(dropna=False)\\n\\nMIS_Status_map = {\\\"P I F\\\": 0, \\\"CHGOFF\\\": 1, 0: 0, 1: 1}\\n\\ndata[\\\"MIS_Status\\\"] = data[\\\"MIS_Status\\\"].map(MIS_Status_map, na_action=\\\"ignore\\\")\\ndata[\\\"MIS_Status\\\"].value_counts(dropna=False)\";\n",
       "                var nbb_cells = Jupyter.notebook.get_cells();\n",
       "                for (var i = 0; i < nbb_cells.length; ++i) {\n",
       "                    if (nbb_cells[i].input_prompt_number == nbb_cell_id) {\n",
       "                        if (nbb_cells[i].get_text() == nbb_unformatted_code) {\n",
       "                             nbb_cells[i].set_text(nbb_formatted_code);\n",
       "                        }\n",
       "                        break;\n",
       "                    }\n",
       "                }\n",
       "            }, 500);\n",
       "            "
      ],
      "text/plain": [
       "<IPython.core.display.Javascript object>"
      ]
     },
     "metadata": {},
     "output_type": "display_data"
    }
   ],
   "source": [
    "# come back after handling remaining money columns\n",
    "\n",
    "data[\"MIS_Status\"].isna().sum()\n",
    "# only 1628 na's here! not bad. Maybe lost more with previous selection? Not an answer I care about\n",
    "data[\"MIS_Status\"].value_counts(dropna=False)\n",
    "# about 400K PIF and 120k CHGOFF. I'll investigate the nans for patterns,\n",
    "# but dropping them will little impact\n",
    "data.loc[data[\"MIS_Status\"].isna(), \"ApprovalFY\"].value_counts()\n",
    "# 2001 - 2013. Seems to just be random from our distribution\n",
    "data.loc[data[\"MIS_Status\"].isna(), \"BalanceGross\"].describe()\n",
    "# all na's have a zero balance\n",
    "data.loc[data[\"MIS_Status\"].isna(), \"ChgOffPrinGr\"].describe()\n",
    "data.loc[data[\"MIS_Status\"].isna(), \"ChgOffPrinGr\"].value_counts()\n",
    "# 1463 of th na's have no charge off amount. These will be set to PIF. Remaining to charged off\n",
    "mis_na_pif = (\n",
    "    data.loc[data[\"MIS_Status\"].isna()].loc[data[\"ChgOffPrinGr\"] == 0].index.to_list()\n",
    ")\n",
    "data.loc[mis_na_pif, \"MIS_Status\"] = data.loc[mis_na_pif, \"MIS_Status\"].fillna(\n",
    "    value=\"P I F\"\n",
    ")\n",
    "\n",
    "mis_na_CHGOFF = (\n",
    "    data.loc[data[\"MIS_Status\"].isna()].loc[data[\"ChgOffPrinGr\"] != 0].index.to_list()\n",
    ")\n",
    "data.loc[mis_na_CHGOFF, \"MIS_Status\"] = data.loc[mis_na_CHGOFF, \"MIS_Status\"].fillna(\n",
    "    value=\"CHGOFF\"\n",
    ")\n",
    "data[\"MIS_Status\"].value_counts(dropna=False)\n",
    "\n",
    "MIS_Status_map = {\n",
    "    'P I F': 0,\n",
    "    'CHGOFF': 1,\n",
    "    0: 0,\n",
    "    1: 1\n",
    "}\n",
    "\n",
    "data['MIS_Status'] = data['MIS_Status'].map(MIS_Status_map, na_action='ignore')\n",
    "data[\"MIS_Status\"].value_counts(dropna=False)\n"
   ]
  },
  {
   "cell_type": "code",
   "execution_count": 33,
   "metadata": {},
   "outputs": [
    {
     "data": {
      "application/javascript": [
       "\n",
       "            setTimeout(function() {\n",
       "                var nbb_cell_id = 33;\n",
       "                var nbb_unformatted_code = \"# could maybe do some target encoding instead?\\n\\nbanks = data[\\\"Bank\\\"].value_counts()\\n\\nbig_banks = banks.loc[banks.values >= 1000].index.to_list()\\n\\nmed_banks = banks.loc[banks.values >= 100]\\nmed_banks = med_banks.loc[med_banks.values < 1000]\\nmed_banks = med_banks.index.to_list()\\n\\nsmall_banks = banks.loc[banks.values < 100].index.to_list()\\n\\ndata.loc[data[\\\"Bank\\\"].isin(small_banks), \\\"bank_size\\\"] = 0\\ndata.loc[data[\\\"Bank\\\"].isin(med_banks), \\\"bank_size\\\"] = 1\\ndata.loc[data[\\\"Bank\\\"].isin(big_banks), \\\"bank_size\\\"] = 2\";\n",
       "                var nbb_formatted_code = \"# could maybe do some target encoding instead?\\n\\nbanks = data[\\\"Bank\\\"].value_counts()\\n\\nbig_banks = banks.loc[banks.values >= 1000].index.to_list()\\n\\nmed_banks = banks.loc[banks.values >= 100]\\nmed_banks = med_banks.loc[med_banks.values < 1000]\\nmed_banks = med_banks.index.to_list()\\n\\nsmall_banks = banks.loc[banks.values < 100].index.to_list()\\n\\ndata.loc[data[\\\"Bank\\\"].isin(small_banks), \\\"bank_size\\\"] = 0\\ndata.loc[data[\\\"Bank\\\"].isin(med_banks), \\\"bank_size\\\"] = 1\\ndata.loc[data[\\\"Bank\\\"].isin(big_banks), \\\"bank_size\\\"] = 2\";\n",
       "                var nbb_cells = Jupyter.notebook.get_cells();\n",
       "                for (var i = 0; i < nbb_cells.length; ++i) {\n",
       "                    if (nbb_cells[i].input_prompt_number == nbb_cell_id) {\n",
       "                        if (nbb_cells[i].get_text() == nbb_unformatted_code) {\n",
       "                             nbb_cells[i].set_text(nbb_formatted_code);\n",
       "                        }\n",
       "                        break;\n",
       "                    }\n",
       "                }\n",
       "            }, 500);\n",
       "            "
      ],
      "text/plain": [
       "<IPython.core.display.Javascript object>"
      ]
     },
     "metadata": {},
     "output_type": "display_data"
    }
   ],
   "source": [
    "# could maybe do some target encoding instead?\n",
    "\n",
    "banks = data[\"Bank\"].value_counts()\n",
    "\n",
    "big_banks = banks.loc[banks.values >= 1000].index.to_list()\n",
    "\n",
    "med_banks = banks.loc[banks.values >= 100]\n",
    "med_banks = med_banks.loc[med_banks.values < 1000]\n",
    "med_banks = med_banks.index.to_list()\n",
    "\n",
    "small_banks = banks.loc[banks.values < 100].index.to_list()\n",
    "\n",
    "data.loc[data[\"Bank\"].isin(small_banks), \"bank_size\"] = 0\n",
    "data.loc[data[\"Bank\"].isin(med_banks), \"bank_size\"] = 1\n",
    "data.loc[data[\"Bank\"].isin(big_banks), \"bank_size\"] = 2"
   ]
  },
  {
   "cell_type": "code",
   "execution_count": 34,
   "metadata": {},
   "outputs": [
    {
     "data": {
      "application/javascript": [
       "\n",
       "            setTimeout(function() {\n",
       "                var nbb_cell_id = 34;\n",
       "                var nbb_unformatted_code = \"data[\\\"GrAppv\\\"].isna().sum()\\ndata[\\\"GrAppv\\\"] = data[\\\"GrAppv\\\"].str.replace(\\\"$\\\", \\\"\\\")\\ndata[\\\"GrAppv\\\"] = data[\\\"GrAppv\\\"].str.replace(\\\",\\\", \\\"\\\")\\ndata[\\\"GrAppv\\\"] = data[\\\"GrAppv\\\"].astype(float)\";\n",
       "                var nbb_formatted_code = \"data[\\\"GrAppv\\\"].isna().sum()\\ndata[\\\"GrAppv\\\"] = data[\\\"GrAppv\\\"].str.replace(\\\"$\\\", \\\"\\\")\\ndata[\\\"GrAppv\\\"] = data[\\\"GrAppv\\\"].str.replace(\\\",\\\", \\\"\\\")\\ndata[\\\"GrAppv\\\"] = data[\\\"GrAppv\\\"].astype(float)\";\n",
       "                var nbb_cells = Jupyter.notebook.get_cells();\n",
       "                for (var i = 0; i < nbb_cells.length; ++i) {\n",
       "                    if (nbb_cells[i].input_prompt_number == nbb_cell_id) {\n",
       "                        if (nbb_cells[i].get_text() == nbb_unformatted_code) {\n",
       "                             nbb_cells[i].set_text(nbb_formatted_code);\n",
       "                        }\n",
       "                        break;\n",
       "                    }\n",
       "                }\n",
       "            }, 500);\n",
       "            "
      ],
      "text/plain": [
       "<IPython.core.display.Javascript object>"
      ]
     },
     "metadata": {},
     "output_type": "display_data"
    }
   ],
   "source": [
    "data[\"GrAppv\"].isna().sum()\n",
    "data[\"GrAppv\"] = data[\"GrAppv\"].str.replace(\"$\", \"\")\n",
    "data[\"GrAppv\"] = data[\"GrAppv\"].str.replace(\",\", \"\")\n",
    "data[\"GrAppv\"] = data[\"GrAppv\"].astype(float)\n"
   ]
  },
  {
   "cell_type": "code",
   "execution_count": 61,
   "metadata": {},
   "outputs": [
    {
     "data": {
      "text/plain": [
       "count    522582.000000\n",
       "mean       2005.388904\n",
       "std           2.575327\n",
       "min        2001.000000\n",
       "25%        2003.000000\n",
       "50%        2005.000000\n",
       "75%        2007.000000\n",
       "max        2014.000000\n",
       "Name: ApprovalFY, dtype: float64"
      ]
     },
     "execution_count": 61,
     "metadata": {},
     "output_type": "execute_result"
    },
    {
     "data": {
      "application/javascript": [
       "\n",
       "            setTimeout(function() {\n",
       "                var nbb_cell_id = 61;\n",
       "                var nbb_unformatted_code = \"data.head()\\ndata['ApprovalFY'].describe()\";\n",
       "                var nbb_formatted_code = \"data.head()\\ndata[\\\"ApprovalFY\\\"].describe()\";\n",
       "                var nbb_cells = Jupyter.notebook.get_cells();\n",
       "                for (var i = 0; i < nbb_cells.length; ++i) {\n",
       "                    if (nbb_cells[i].input_prompt_number == nbb_cell_id) {\n",
       "                        if (nbb_cells[i].get_text() == nbb_unformatted_code) {\n",
       "                             nbb_cells[i].set_text(nbb_formatted_code);\n",
       "                        }\n",
       "                        break;\n",
       "                    }\n",
       "                }\n",
       "            }, 500);\n",
       "            "
      ],
      "text/plain": [
       "<IPython.core.display.Javascript object>"
      ]
     },
     "metadata": {},
     "output_type": "display_data"
    }
   ],
   "source": [
    "data.head()\n",
    "data[\"ApprovalFY\"].describe()"
   ]
  },
  {
   "cell_type": "code",
   "execution_count": 36,
   "metadata": {},
   "outputs": [
    {
     "data": {
      "application/javascript": [
       "\n",
       "            setTimeout(function() {\n",
       "                var nbb_cell_id = 36;\n",
       "                var nbb_unformatted_code = \"data[\\\"percent_SBA\\\"] = data[\\\"SBA_Appv\\\"] / data[\\\"GrAppv\\\"]\";\n",
       "                var nbb_formatted_code = \"data[\\\"percent_SBA\\\"] = data[\\\"SBA_Appv\\\"] / data[\\\"GrAppv\\\"]\";\n",
       "                var nbb_cells = Jupyter.notebook.get_cells();\n",
       "                for (var i = 0; i < nbb_cells.length; ++i) {\n",
       "                    if (nbb_cells[i].input_prompt_number == nbb_cell_id) {\n",
       "                        if (nbb_cells[i].get_text() == nbb_unformatted_code) {\n",
       "                             nbb_cells[i].set_text(nbb_formatted_code);\n",
       "                        }\n",
       "                        break;\n",
       "                    }\n",
       "                }\n",
       "            }, 500);\n",
       "            "
      ],
      "text/plain": [
       "<IPython.core.display.Javascript object>"
      ]
     },
     "metadata": {},
     "output_type": "display_data"
    }
   ],
   "source": [
    "data[\"percent_SBA\"] = data[\"SBA_Appv\"] / data[\"GrAppv\"]"
   ]
  },
  {
   "cell_type": "code",
   "execution_count": null,
   "metadata": {},
   "outputs": [],
   "source": []
  },
  {
   "cell_type": "code",
   "execution_count": 37,
   "metadata": {},
   "outputs": [
    {
     "data": {
      "application/javascript": [
       "\n",
       "            setTimeout(function() {\n",
       "                var nbb_cell_id = 37;\n",
       "                var nbb_unformatted_code = \"# KNN Impute:\\n# LowDoc\\n# RevLineCr\\n# Urban Rural\";\n",
       "                var nbb_formatted_code = \"# KNN Impute:\\n# LowDoc\\n# RevLineCr\\n# Urban Rural\";\n",
       "                var nbb_cells = Jupyter.notebook.get_cells();\n",
       "                for (var i = 0; i < nbb_cells.length; ++i) {\n",
       "                    if (nbb_cells[i].input_prompt_number == nbb_cell_id) {\n",
       "                        if (nbb_cells[i].get_text() == nbb_unformatted_code) {\n",
       "                             nbb_cells[i].set_text(nbb_formatted_code);\n",
       "                        }\n",
       "                        break;\n",
       "                    }\n",
       "                }\n",
       "            }, 500);\n",
       "            "
      ],
      "text/plain": [
       "<IPython.core.display.Javascript object>"
      ]
     },
     "metadata": {},
     "output_type": "display_data"
    }
   ],
   "source": [
    "# KNN Impute:\n",
    "# LowDoc\n",
    "# RevLineCr\n",
    "# Urban Rural"
   ]
  },
  {
   "cell_type": "code",
   "execution_count": 38,
   "metadata": {},
   "outputs": [
    {
     "name": "stdout",
     "output_type": "stream",
     "text": [
      "<class 'pandas.core.frame.DataFrame'>\n",
      "Int64Index: 522582 entries, 12 to 894832\n",
      "Data columns (total 40 columns):\n",
      " #   Column                 Non-Null Count   Dtype          \n",
      "---  ------                 --------------   -----          \n",
      " 0   LoanNr_ChkDgt          522582 non-null  int64          \n",
      " 1   Name                   522575 non-null  object         \n",
      " 2   City                   522582 non-null  object         \n",
      " 3   State                  522582 non-null  object         \n",
      " 4   Zip                    522582 non-null  int64          \n",
      " 5   Bank                   522582 non-null  object         \n",
      " 6   BankState              522582 non-null  object         \n",
      " 7   NAICS                  522582 non-null  int64          \n",
      " 8   ApprovalDate           522582 non-null  object         \n",
      " 9   ApprovalFY             522582 non-null  int32          \n",
      " 10  Term                   522582 non-null  int64          \n",
      " 11  NoEmp                  522582 non-null  int64          \n",
      " 12  NewExist               522582 non-null  int64          \n",
      " 13  CreateJob              522582 non-null  int64          \n",
      " 14  RetainedJob            522582 non-null  int64          \n",
      " 15  FranchiseCode          522582 non-null  int64          \n",
      " 16  UrbanRural             522582 non-null  int64          \n",
      " 17  RevLineCr              522049 non-null  float64        \n",
      " 18  LowDoc                 518370 non-null  float64        \n",
      " 19  ChgOffDate             134246 non-null  object         \n",
      " 20  DisbursementDate       522582 non-null  object         \n",
      " 21  DisbursementGross      522582 non-null  float64        \n",
      " 22  BalanceGross           522582 non-null  float64        \n",
      " 23  MIS_Status             522582 non-null  int64          \n",
      " 24  ChgOffPrinGr           522582 non-null  float64        \n",
      " 25  GrAppv                 522582 non-null  float64        \n",
      " 26  SBA_Appv               522582 non-null  float64        \n",
      " 27  twoDigNAICS            522582 non-null  int32          \n",
      " 28  is_franchise           522582 non-null  float64        \n",
      " 29  bank_out_of_state      522582 non-null  int32          \n",
      " 30  ApprovalDate_datetime  522582 non-null  datetime64[ns] \n",
      " 31  Term_years             522582 non-null  float64        \n",
      " 32  job_category           522582 non-null  float64        \n",
      " 33  retained_category      522582 non-null  float64        \n",
      " 34  UrbanRural_cleaned     516078 non-null  float64        \n",
      " 35  Disbr_datetime         522582 non-null  datetime64[ns] \n",
      " 36  time_to_disbr          522582 non-null  timedelta64[ns]\n",
      " 37  sba_pre_approv         522582 non-null  float64        \n",
      " 38  bank_size              522582 non-null  float64        \n",
      " 39  percent_SBA            522582 non-null  float64        \n",
      "dtypes: datetime64[ns](2), float64(15), int32(3), int64(11), object(8), timedelta64[ns](1)\n",
      "memory usage: 177.5+ MB\n"
     ]
    },
    {
     "data": {
      "application/javascript": [
       "\n",
       "            setTimeout(function() {\n",
       "                var nbb_cell_id = 38;\n",
       "                var nbb_unformatted_code = \"data.info()\";\n",
       "                var nbb_formatted_code = \"data.info()\";\n",
       "                var nbb_cells = Jupyter.notebook.get_cells();\n",
       "                for (var i = 0; i < nbb_cells.length; ++i) {\n",
       "                    if (nbb_cells[i].input_prompt_number == nbb_cell_id) {\n",
       "                        if (nbb_cells[i].get_text() == nbb_unformatted_code) {\n",
       "                             nbb_cells[i].set_text(nbb_formatted_code);\n",
       "                        }\n",
       "                        break;\n",
       "                    }\n",
       "                }\n",
       "            }, 500);\n",
       "            "
      ],
      "text/plain": [
       "<IPython.core.display.Javascript object>"
      ]
     },
     "metadata": {},
     "output_type": "display_data"
    }
   ],
   "source": [
    "data.info()"
   ]
  },
  {
   "cell_type": "code",
   "execution_count": null,
   "metadata": {},
   "outputs": [],
   "source": []
  },
  {
   "cell_type": "code",
   "execution_count": null,
   "metadata": {},
   "outputs": [],
   "source": []
  },
  {
   "cell_type": "code",
   "execution_count": 62,
   "metadata": {},
   "outputs": [
    {
     "data": {
      "application/javascript": [
       "\n",
       "            setTimeout(function() {\n",
       "                var nbb_cell_id = 62;\n",
       "                var nbb_unformatted_code = \"trash_cols = [\\n    \\\"LoanNr_ChkDgt\\\",\\n    \\\"Name\\\",\\n    \\\"City\\\",\\n    # 'Bank State' expect colinearity\\n    \\\"Zip\\\",  # might be useful, but State should be good enough\\n    \\\"FranchiseCode\\\",  # engineered to is_franchise\\n    \\\"NAICS\\\",\\n    \\\"Term\\\",\\n    \\\"CreateJob\\\",\\n    \\\"RetainedJob\\\",\\n    \\\"ChgOffDate\\\",\\n    \\\"DisbursementDate\\\",\\n    \\\"ChgOffPrinGr\\\",  # if this has a value, will give away target\\n    \\\"ApprovalDate\\\",\\n    'time_to_disbr', # intermediate variable\\n    'Bank',\\n    \\n]\\n\\nloans = data.drop(columns=trash_cols)\";\n",
       "                var nbb_formatted_code = \"trash_cols = [\\n    \\\"LoanNr_ChkDgt\\\",\\n    \\\"Name\\\",\\n    \\\"City\\\",\\n    # 'Bank State' expect colinearity\\n    \\\"Zip\\\",  # might be useful, but State should be good enough\\n    \\\"FranchiseCode\\\",  # engineered to is_franchise\\n    \\\"NAICS\\\",\\n    \\\"Term\\\",\\n    \\\"CreateJob\\\",\\n    \\\"RetainedJob\\\",\\n    \\\"ChgOffDate\\\",\\n    \\\"DisbursementDate\\\",\\n    \\\"ChgOffPrinGr\\\",  # if this has a value, will give away target\\n    \\\"ApprovalDate\\\",\\n    \\\"time_to_disbr\\\",  # intermediate variable\\n    \\\"Bank\\\",\\n]\\n\\nloans = data.drop(columns=trash_cols)\";\n",
       "                var nbb_cells = Jupyter.notebook.get_cells();\n",
       "                for (var i = 0; i < nbb_cells.length; ++i) {\n",
       "                    if (nbb_cells[i].input_prompt_number == nbb_cell_id) {\n",
       "                        if (nbb_cells[i].get_text() == nbb_unformatted_code) {\n",
       "                             nbb_cells[i].set_text(nbb_formatted_code);\n",
       "                        }\n",
       "                        break;\n",
       "                    }\n",
       "                }\n",
       "            }, 500);\n",
       "            "
      ],
      "text/plain": [
       "<IPython.core.display.Javascript object>"
      ]
     },
     "metadata": {},
     "output_type": "display_data"
    }
   ],
   "source": [
    "trash_cols = [\n",
    "    \"LoanNr_ChkDgt\",\n",
    "    \"Name\",\n",
    "    \"City\",\n",
    "    # 'Bank State' expect colinearity\n",
    "    \"Zip\",  # might be useful, but State should be good enough\n",
    "    \"FranchiseCode\",  # engineered to is_franchise\n",
    "    \"NAICS\",\n",
    "    \"Term\",\n",
    "    \"CreateJob\",\n",
    "    \"RetainedJob\",\n",
    "    \"ChgOffDate\",\n",
    "    \"DisbursementDate\",\n",
    "    \"ChgOffPrinGr\",  # if this has a value, will give away target\n",
    "    \"ApprovalDate\",\n",
    "    \"time_to_disbr\",  # intermediate variable\n",
    "    \"Bank\",\n",
    "]\n",
    "\n",
    "loans = data.drop(columns=trash_cols)"
   ]
  },
  {
   "cell_type": "code",
   "execution_count": 63,
   "metadata": {},
   "outputs": [
    {
     "name": "stdout",
     "output_type": "stream",
     "text": [
      "<class 'pandas.core.frame.DataFrame'>\n",
      "Int64Index: 522582 entries, 12 to 894832\n",
      "Data columns (total 25 columns):\n",
      " #   Column                 Non-Null Count   Dtype         \n",
      "---  ------                 --------------   -----         \n",
      " 0   State                  522582 non-null  object        \n",
      " 1   BankState              522582 non-null  object        \n",
      " 2   ApprovalFY             522582 non-null  int32         \n",
      " 3   NoEmp                  522582 non-null  int64         \n",
      " 4   NewExist               522582 non-null  int64         \n",
      " 5   UrbanRural             522582 non-null  int64         \n",
      " 6   RevLineCr              522049 non-null  float64       \n",
      " 7   LowDoc                 518370 non-null  float64       \n",
      " 8   DisbursementGross      522582 non-null  float64       \n",
      " 9   BalanceGross           522582 non-null  float64       \n",
      " 10  MIS_Status             522582 non-null  int64         \n",
      " 11  GrAppv                 522582 non-null  float64       \n",
      " 12  SBA_Appv               522582 non-null  float64       \n",
      " 13  twoDigNAICS            522582 non-null  int32         \n",
      " 14  is_franchise           522582 non-null  float64       \n",
      " 15  bank_out_of_state      522582 non-null  int32         \n",
      " 16  ApprovalDate_datetime  522582 non-null  datetime64[ns]\n",
      " 17  Term_years             522582 non-null  float64       \n",
      " 18  job_category           522582 non-null  float64       \n",
      " 19  retained_category      522582 non-null  float64       \n",
      " 20  UrbanRural_cleaned     516078 non-null  float64       \n",
      " 21  Disbr_datetime         522582 non-null  datetime64[ns]\n",
      " 22  sba_pre_approv         522582 non-null  float64       \n",
      " 23  bank_size              522582 non-null  float64       \n",
      " 24  percent_SBA            522582 non-null  float64       \n",
      "dtypes: datetime64[ns](2), float64(14), int32(3), int64(4), object(2)\n",
      "memory usage: 117.7+ MB\n"
     ]
    },
    {
     "data": {
      "application/javascript": [
       "\n",
       "            setTimeout(function() {\n",
       "                var nbb_cell_id = 63;\n",
       "                var nbb_unformatted_code = \"loans.info()\";\n",
       "                var nbb_formatted_code = \"loans.info()\";\n",
       "                var nbb_cells = Jupyter.notebook.get_cells();\n",
       "                for (var i = 0; i < nbb_cells.length; ++i) {\n",
       "                    if (nbb_cells[i].input_prompt_number == nbb_cell_id) {\n",
       "                        if (nbb_cells[i].get_text() == nbb_unformatted_code) {\n",
       "                             nbb_cells[i].set_text(nbb_formatted_code);\n",
       "                        }\n",
       "                        break;\n",
       "                    }\n",
       "                }\n",
       "            }, 500);\n",
       "            "
      ],
      "text/plain": [
       "<IPython.core.display.Javascript object>"
      ]
     },
     "metadata": {},
     "output_type": "display_data"
    }
   ],
   "source": [
    "loans.info()"
   ]
  },
  {
   "cell_type": "code",
   "execution_count": 44,
   "metadata": {
    "scrolled": false
   },
   "outputs": [
    {
     "data": {
      "application/javascript": [
       "\n",
       "            setTimeout(function() {\n",
       "                var nbb_cell_id = 44;\n",
       "                var nbb_unformatted_code = \"# loans.to_csv(r\\\"data/sba_loans_clean.csv\\\")\";\n",
       "                var nbb_formatted_code = \"# loans.to_csv(r\\\"data/sba_loans_clean.csv\\\")\";\n",
       "                var nbb_cells = Jupyter.notebook.get_cells();\n",
       "                for (var i = 0; i < nbb_cells.length; ++i) {\n",
       "                    if (nbb_cells[i].input_prompt_number == nbb_cell_id) {\n",
       "                        if (nbb_cells[i].get_text() == nbb_unformatted_code) {\n",
       "                             nbb_cells[i].set_text(nbb_formatted_code);\n",
       "                        }\n",
       "                        break;\n",
       "                    }\n",
       "                }\n",
       "            }, 500);\n",
       "            "
      ],
      "text/plain": [
       "<IPython.core.display.Javascript object>"
      ]
     },
     "metadata": {},
     "output_type": "display_data"
    }
   ],
   "source": [
    "# loans.to_csv(r\"data/sba_loans_clean.csv\")"
   ]
  },
  {
   "cell_type": "code",
   "execution_count": 51,
   "metadata": {
    "scrolled": false
   },
   "outputs": [
    {
     "data": {
      "application/javascript": [
       "\n",
       "            setTimeout(function() {\n",
       "                var nbb_cell_id = 51;\n",
       "                var nbb_unformatted_code = \"# sns.pairplot(loans.sample(n=1000), hue=\\\"MIS_Status\\\", diag_kind=\\\"hist\\\")\";\n",
       "                var nbb_formatted_code = \"# sns.pairplot(loans.sample(n=1000), hue=\\\"MIS_Status\\\", diag_kind=\\\"hist\\\")\";\n",
       "                var nbb_cells = Jupyter.notebook.get_cells();\n",
       "                for (var i = 0; i < nbb_cells.length; ++i) {\n",
       "                    if (nbb_cells[i].input_prompt_number == nbb_cell_id) {\n",
       "                        if (nbb_cells[i].get_text() == nbb_unformatted_code) {\n",
       "                             nbb_cells[i].set_text(nbb_formatted_code);\n",
       "                        }\n",
       "                        break;\n",
       "                    }\n",
       "                }\n",
       "            }, 500);\n",
       "            "
      ],
      "text/plain": [
       "<IPython.core.display.Javascript object>"
      ]
     },
     "metadata": {},
     "output_type": "display_data"
    }
   ],
   "source": [
    "# sns.pairplot(loans.sample(n=1000), hue=\"MIS_Status\", diag_kind=\"hist\")"
   ]
  },
  {
   "cell_type": "code",
   "execution_count": 49,
   "metadata": {},
   "outputs": [
    {
     "data": {
      "application/javascript": [
       "\n",
       "            setTimeout(function() {\n",
       "                var nbb_cell_id = 49;\n",
       "                var nbb_unformatted_code = \"from sklearn.model_selection import train_test_split, GridSearchCV\\nfrom sklearn.preprocessing import StandardScaler, OneHotEncoder\\nfrom sklearn.compose import ColumnTransformer\\nfrom sklearn.pipeline import Pipeline\";\n",
       "                var nbb_formatted_code = \"from sklearn.model_selection import train_test_split, GridSearchCV\\nfrom sklearn.preprocessing import StandardScaler, OneHotEncoder\\nfrom sklearn.compose import ColumnTransformer\\nfrom sklearn.pipeline import Pipeline\";\n",
       "                var nbb_cells = Jupyter.notebook.get_cells();\n",
       "                for (var i = 0; i < nbb_cells.length; ++i) {\n",
       "                    if (nbb_cells[i].input_prompt_number == nbb_cell_id) {\n",
       "                        if (nbb_cells[i].get_text() == nbb_unformatted_code) {\n",
       "                             nbb_cells[i].set_text(nbb_formatted_code);\n",
       "                        }\n",
       "                        break;\n",
       "                    }\n",
       "                }\n",
       "            }, 500);\n",
       "            "
      ],
      "text/plain": [
       "<IPython.core.display.Javascript object>"
      ]
     },
     "metadata": {},
     "output_type": "display_data"
    }
   ],
   "source": [
    "from sklearn.model_selection import train_test_split, GridSearchCV\n",
    "from sklearn.preprocessing import StandardScaler, OneHotEncoder\n",
    "from sklearn.compose import ColumnTransformer\n",
    "from sklearn.pipeline import Pipeline\n"
   ]
  },
  {
   "cell_type": "code",
   "execution_count": 50,
   "metadata": {},
   "outputs": [
    {
     "data": {
      "application/javascript": [
       "\n",
       "            setTimeout(function() {\n",
       "                var nbb_cell_id = 50;\n",
       "                var nbb_unformatted_code = \"def print_vif(x, get_vifs=False):\\n    import warnings\\n    import statsmodels.api as sm\\n    from statsmodels.stats.outliers_influence import variance_inflation_factor\\n\\n    \\\"\\\"\\\"Utility for checking multicollinearity assumption\\n    \\n    :param x: input features to check using VIF. This is assumed to be a pandas.DataFrame\\n    :return: nothing is returned the VIFs are printed as a pandas series\\n    \\\"\\\"\\\"\\n    # Silence numpy FutureWarning about .ptp\\n    with warnings.catch_warnings():\\n        warnings.simplefilter(\\\"ignore\\\")\\n        x = sm.add_constant(x)\\n\\n    vifs = []\\n    for i in range(x.shape[1]):\\n        vif = variance_inflation_factor(x.values, i)\\n        vifs.append(vif)\\n\\n    print(\\\"VIF results\\\\n-------------------------------\\\")\\n    print(pd.Series(vifs, index=x.columns))\\n    print(\\\"-------------------------------\\\\n\\\")\\n\\n    if get_vifs == True:\\n        return vifs\";\n",
       "                var nbb_formatted_code = \"def print_vif(x, get_vifs=False):\\n    import warnings\\n    import statsmodels.api as sm\\n    from statsmodels.stats.outliers_influence import variance_inflation_factor\\n\\n    \\\"\\\"\\\"Utility for checking multicollinearity assumption\\n    \\n    :param x: input features to check using VIF. This is assumed to be a pandas.DataFrame\\n    :return: nothing is returned the VIFs are printed as a pandas series\\n    \\\"\\\"\\\"\\n    # Silence numpy FutureWarning about .ptp\\n    with warnings.catch_warnings():\\n        warnings.simplefilter(\\\"ignore\\\")\\n        x = sm.add_constant(x)\\n\\n    vifs = []\\n    for i in range(x.shape[1]):\\n        vif = variance_inflation_factor(x.values, i)\\n        vifs.append(vif)\\n\\n    print(\\\"VIF results\\\\n-------------------------------\\\")\\n    print(pd.Series(vifs, index=x.columns))\\n    print(\\\"-------------------------------\\\\n\\\")\\n\\n    if get_vifs == True:\\n        return vifs\";\n",
       "                var nbb_cells = Jupyter.notebook.get_cells();\n",
       "                for (var i = 0; i < nbb_cells.length; ++i) {\n",
       "                    if (nbb_cells[i].input_prompt_number == nbb_cell_id) {\n",
       "                        if (nbb_cells[i].get_text() == nbb_unformatted_code) {\n",
       "                             nbb_cells[i].set_text(nbb_formatted_code);\n",
       "                        }\n",
       "                        break;\n",
       "                    }\n",
       "                }\n",
       "            }, 500);\n",
       "            "
      ],
      "text/plain": [
       "<IPython.core.display.Javascript object>"
      ]
     },
     "metadata": {},
     "output_type": "display_data"
    }
   ],
   "source": [
    "def print_vif(x, get_vifs=False):\n",
    "    import warnings\n",
    "    import statsmodels.api as sm\n",
    "    from statsmodels.stats.outliers_influence import variance_inflation_factor\n",
    "\n",
    "    \"\"\"Utility for checking multicollinearity assumption\n",
    "    \n",
    "    :param x: input features to check using VIF. This is assumed to be a pandas.DataFrame\n",
    "    :return: nothing is returned the VIFs are printed as a pandas series\n",
    "    \"\"\"\n",
    "    # Silence numpy FutureWarning about .ptp\n",
    "    with warnings.catch_warnings():\n",
    "        warnings.simplefilter(\"ignore\")\n",
    "        x = sm.add_constant(x)\n",
    "\n",
    "    vifs = []\n",
    "    for i in range(x.shape[1]):\n",
    "        vif = variance_inflation_factor(x.values, i)\n",
    "        vifs.append(vif)\n",
    "\n",
    "    print(\"VIF results\\n-------------------------------\")\n",
    "    print(pd.Series(vifs, index=x.columns))\n",
    "    print(\"-------------------------------\\n\")\n",
    "\n",
    "    if get_vifs == True:\n",
    "        return vifs"
   ]
  },
  {
   "cell_type": "code",
   "execution_count": 58,
   "metadata": {},
   "outputs": [
    {
     "data": {
      "application/javascript": [
       "\n",
       "            setTimeout(function() {\n",
       "                var nbb_cell_id = 58;\n",
       "                var nbb_unformatted_code = \"X = loans.drop(columns=[\\\"MIS_Status\\\", 'Bank'])\";\n",
       "                var nbb_formatted_code = \"X = loans.drop(columns=[\\\"MIS_Status\\\", \\\"Bank\\\"])\";\n",
       "                var nbb_cells = Jupyter.notebook.get_cells();\n",
       "                for (var i = 0; i < nbb_cells.length; ++i) {\n",
       "                    if (nbb_cells[i].input_prompt_number == nbb_cell_id) {\n",
       "                        if (nbb_cells[i].get_text() == nbb_unformatted_code) {\n",
       "                             nbb_cells[i].set_text(nbb_formatted_code);\n",
       "                        }\n",
       "                        break;\n",
       "                    }\n",
       "                }\n",
       "            }, 500);\n",
       "            "
      ],
      "text/plain": [
       "<IPython.core.display.Javascript object>"
      ]
     },
     "metadata": {},
     "output_type": "display_data"
    }
   ],
   "source": [
    "X = loans.drop(columns=[\"MIS_Status\", \"Bank\"])"
   ]
  },
  {
   "cell_type": "code",
   "execution_count": 60,
   "metadata": {},
   "outputs": [
    {
     "name": "stdout",
     "output_type": "stream",
     "text": [
      "<class 'pandas.core.frame.DataFrame'>\n",
      "Int64Index: 522582 entries, 12 to 894832\n",
      "Data columns (total 25 columns):\n",
      " #   Column                 Non-Null Count   Dtype          \n",
      "---  ------                 --------------   -----          \n",
      " 0   State                  522582 non-null  object         \n",
      " 1   BankState              522582 non-null  object         \n",
      " 2   ApprovalFY             522582 non-null  int32          \n",
      " 3   NoEmp                  522582 non-null  int64          \n",
      " 4   NewExist               522582 non-null  int64          \n",
      " 5   UrbanRural             522582 non-null  int64          \n",
      " 6   RevLineCr              522049 non-null  float64        \n",
      " 7   LowDoc                 518370 non-null  float64        \n",
      " 8   DisbursementGross      522582 non-null  float64        \n",
      " 9   BalanceGross           522582 non-null  float64        \n",
      " 10  GrAppv                 522582 non-null  float64        \n",
      " 11  SBA_Appv               522582 non-null  float64        \n",
      " 12  twoDigNAICS            522582 non-null  int32          \n",
      " 13  is_franchise           522582 non-null  float64        \n",
      " 14  bank_out_of_state      522582 non-null  int32          \n",
      " 15  ApprovalDate_datetime  522582 non-null  datetime64[ns] \n",
      " 16  Term_years             522582 non-null  float64        \n",
      " 17  job_category           522582 non-null  float64        \n",
      " 18  retained_category      522582 non-null  float64        \n",
      " 19  UrbanRural_cleaned     516078 non-null  float64        \n",
      " 20  Disbr_datetime         522582 non-null  datetime64[ns] \n",
      " 21  time_to_disbr          522582 non-null  timedelta64[ns]\n",
      " 22  sba_pre_approv         522582 non-null  float64        \n",
      " 23  bank_size              522582 non-null  float64        \n",
      " 24  percent_SBA            522582 non-null  float64        \n",
      "dtypes: datetime64[ns](2), float64(14), int32(3), int64(3), object(2), timedelta64[ns](1)\n",
      "memory usage: 117.7+ MB\n"
     ]
    },
    {
     "data": {
      "application/javascript": [
       "\n",
       "            setTimeout(function() {\n",
       "                var nbb_cell_id = 60;\n",
       "                var nbb_unformatted_code = \"X.info()\";\n",
       "                var nbb_formatted_code = \"X.info()\";\n",
       "                var nbb_cells = Jupyter.notebook.get_cells();\n",
       "                for (var i = 0; i < nbb_cells.length; ++i) {\n",
       "                    if (nbb_cells[i].input_prompt_number == nbb_cell_id) {\n",
       "                        if (nbb_cells[i].get_text() == nbb_unformatted_code) {\n",
       "                             nbb_cells[i].set_text(nbb_formatted_code);\n",
       "                        }\n",
       "                        break;\n",
       "                    }\n",
       "                }\n",
       "            }, 500);\n",
       "            "
      ],
      "text/plain": [
       "<IPython.core.display.Javascript object>"
      ]
     },
     "metadata": {},
     "output_type": "display_data"
    }
   ],
   "source": [
    "X.info()"
   ]
  },
  {
   "cell_type": "code",
   "execution_count": null,
   "metadata": {},
   "outputs": [],
   "source": []
  }
 ],
 "metadata": {
  "kernelspec": {
   "display_name": "Python 3",
   "language": "python",
   "name": "python3"
  },
  "language_info": {
   "codemirror_mode": {
    "name": "ipython",
    "version": 3
   },
   "file_extension": ".py",
   "mimetype": "text/x-python",
   "name": "python",
   "nbconvert_exporter": "python",
   "pygments_lexer": "ipython3",
   "version": "3.7.6"
  }
 },
 "nbformat": 4,
 "nbformat_minor": 4
}
