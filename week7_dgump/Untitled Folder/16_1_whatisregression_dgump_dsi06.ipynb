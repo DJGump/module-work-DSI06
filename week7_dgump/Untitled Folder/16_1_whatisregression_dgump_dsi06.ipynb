{
 "cells": [
  {
   "cell_type": "markdown",
   "metadata": {},
   "source": [
    "# What is a Regression Task?"
   ]
  },
  {
   "cell_type": "markdown",
   "metadata": {},
   "source": [
    "1. Let's assume that you have World Bank data on financial, economic and social indicators for several countries. You want to measure the factors that affect the level of development in these countries. To this end, you decide to use per capita income as a proxy for the development level, which is defined as the national income divided by the population. You want to use some features in your dataset to predict per capita income. Is this task a classification or a regression task? Why?"
   ]
  },
  {
   "cell_type": "markdown",
   "metadata": {},
   "source": [
    "A: This would be a regression task. Per capita income is a continuous variable, making it impossible to classify every possible value. Since we want to predict, regression is the appropriate choice."
   ]
  },
  {
   "cell_type": "markdown",
   "metadata": {},
   "source": [
    "2. Which of the following arguments are false and why?"
   ]
  },
  {
   "cell_type": "markdown",
   "metadata": {},
   "source": [
    "* OLS is a special type of linear regression models\n",
    "    * Ordinary Least Squares is the algorithm used to find the best linear regression model, not the model itself. \n",
    "\n",
    "\n",
    "\n",
    "* Regression models become useless if they don’t meet the assumptions of linear regression.\n",
    "    * They don't become useless, but they may become harder to interpret and another model might give better results\n",
    "    \n",
    "* Estimation and prediction are the same thing in the context of linear regression models.\n",
    "    * Estimation refers to the fitting the model, prediction refers to using that model to get results on unseen data\n",
    "    \n",
    "* Linear regression is only one kind of regression model. Regression problems can also be solved with other kind of models like Support Vector Machines or Random Forests.\n",
    "    * True\n",
    "   "
   ]
  },
  {
   "cell_type": "markdown",
   "metadata": {},
   "source": [
    "3. Assume that your project manager wants you to discover which free services your company offers make your customers buy more of your paid services. Formulate this task as a regression problem and write down the potential outcome and features that you’d like to work on."
   ]
  },
  {
   "cell_type": "markdown",
   "metadata": {},
   "source": [
    "To frame this as a regression problem, one would want to use information about which free services a customer uses to predict how much they spend in paid services. By identifying several free services and creating continuous measures for their use, a regression model could be made to predict how much is spent by that customer on paid services. Perhaps for every hour a customer spends using a free IDE, this results in how much they pay for premium extensions. "
   ]
  },
  {
   "cell_type": "code",
   "execution_count": null,
   "metadata": {},
   "outputs": [],
   "source": []
  }
 ],
 "metadata": {
  "kernelspec": {
   "display_name": "Python 3",
   "language": "python",
   "name": "python3"
  },
  "language_info": {
   "codemirror_mode": {
    "name": "ipython",
    "version": 3
   },
   "file_extension": ".py",
   "mimetype": "text/x-python",
   "name": "python",
   "nbconvert_exporter": "python",
   "pygments_lexer": "ipython3",
   "version": "3.7.6"
  }
 },
 "nbformat": 4,
 "nbformat_minor": 4
}
