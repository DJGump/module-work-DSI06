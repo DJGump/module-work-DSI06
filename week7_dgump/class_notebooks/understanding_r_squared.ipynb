{
 "cells": [
  {
   "cell_type": "code",
   "execution_count": 1,
   "metadata": {},
   "outputs": [
    {
     "data": {
      "application/javascript": [
       "\n",
       "            setTimeout(function() {\n",
       "                var nbb_cell_id = 1;\n",
       "                var nbb_unformatted_code = \"%reload_ext nb_black\";\n",
       "                var nbb_formatted_code = \"%reload_ext nb_black\";\n",
       "                var nbb_cells = Jupyter.notebook.get_cells();\n",
       "                for (var i = 0; i < nbb_cells.length; ++i) {\n",
       "                    if (nbb_cells[i].input_prompt_number == nbb_cell_id) {\n",
       "                        if (nbb_cells[i].get_text() == nbb_unformatted_code) {\n",
       "                             nbb_cells[i].set_text(nbb_formatted_code);\n",
       "                        }\n",
       "                        break;\n",
       "                    }\n",
       "                }\n",
       "            }, 500);\n",
       "            "
      ],
      "text/plain": [
       "<IPython.core.display.Javascript object>"
      ]
     },
     "metadata": {},
     "output_type": "display_data"
    }
   ],
   "source": [
    "%reload_ext nb_black"
   ]
  },
  {
   "cell_type": "code",
   "execution_count": 2,
   "metadata": {},
   "outputs": [
    {
     "data": {
      "application/javascript": [
       "\n",
       "            setTimeout(function() {\n",
       "                var nbb_cell_id = 2;\n",
       "                var nbb_unformatted_code = \"import pandas as pd\\nimport numpy as np\\nfrom sklearn.linear_model import LinearRegression\\nimport seaborn as sns\\nimport matplotlib.pyplot as plt\\n\\n%matplotlib inline\\n\\niris = sns.load_dataset(\\\"iris\\\")\";\n",
       "                var nbb_formatted_code = \"import pandas as pd\\nimport numpy as np\\nfrom sklearn.linear_model import LinearRegression\\nimport seaborn as sns\\nimport matplotlib.pyplot as plt\\n\\n%matplotlib inline\\n\\niris = sns.load_dataset(\\\"iris\\\")\";\n",
       "                var nbb_cells = Jupyter.notebook.get_cells();\n",
       "                for (var i = 0; i < nbb_cells.length; ++i) {\n",
       "                    if (nbb_cells[i].input_prompt_number == nbb_cell_id) {\n",
       "                        if (nbb_cells[i].get_text() == nbb_unformatted_code) {\n",
       "                             nbb_cells[i].set_text(nbb_formatted_code);\n",
       "                        }\n",
       "                        break;\n",
       "                    }\n",
       "                }\n",
       "            }, 500);\n",
       "            "
      ],
      "text/plain": [
       "<IPython.core.display.Javascript object>"
      ]
     },
     "metadata": {},
     "output_type": "display_data"
    }
   ],
   "source": [
    "import pandas as pd\n",
    "import numpy as np\n",
    "from sklearn.linear_model import LinearRegression\n",
    "import seaborn as sns\n",
    "import matplotlib.pyplot as plt\n",
    "\n",
    "%matplotlib inline\n",
    "\n",
    "iris = sns.load_dataset(\"iris\")"
   ]
  },
  {
   "cell_type": "markdown",
   "metadata": {},
   "source": [
    "The below cell is just making up some patterns to fit into this explanation.  Do not take any code from this cell as good practice.  Imagine we were just given the variables `X_train`, `X_test`, `y_train`, and `y_test` and we were told to build a model."
   ]
  },
  {
   "cell_type": "code",
   "execution_count": 3,
   "metadata": {},
   "outputs": [
    {
     "data": {
      "application/javascript": [
       "\n",
       "            setTimeout(function() {\n",
       "                var nbb_cell_id = 3;\n",
       "                var nbb_unformatted_code = \"X_train = iris[[\\\"petal_length\\\"]]\\ny_train = iris[\\\"petal_width\\\"]\\n\\n# Reverse the correlation by sorting in opposite directions\\n# Will be a non-representative test set to demo -R^2\\n# This is just for this demo, you should not do this in practice ever\\nX_test = iris[[\\\"petal_length\\\"]].sort_values(\\\"petal_length\\\").reset_index(drop=True)\\ny_test = iris[\\\"petal_width\\\"].sort_values(ascending=False).reset_index(drop=True)\";\n",
       "                var nbb_formatted_code = \"X_train = iris[[\\\"petal_length\\\"]]\\ny_train = iris[\\\"petal_width\\\"]\\n\\n# Reverse the correlation by sorting in opposite directions\\n# Will be a non-representative test set to demo -R^2\\n# This is just for this demo, you should not do this in practice ever\\nX_test = iris[[\\\"petal_length\\\"]].sort_values(\\\"petal_length\\\").reset_index(drop=True)\\ny_test = iris[\\\"petal_width\\\"].sort_values(ascending=False).reset_index(drop=True)\";\n",
       "                var nbb_cells = Jupyter.notebook.get_cells();\n",
       "                for (var i = 0; i < nbb_cells.length; ++i) {\n",
       "                    if (nbb_cells[i].input_prompt_number == nbb_cell_id) {\n",
       "                        if (nbb_cells[i].get_text() == nbb_unformatted_code) {\n",
       "                             nbb_cells[i].set_text(nbb_formatted_code);\n",
       "                        }\n",
       "                        break;\n",
       "                    }\n",
       "                }\n",
       "            }, 500);\n",
       "            "
      ],
      "text/plain": [
       "<IPython.core.display.Javascript object>"
      ]
     },
     "metadata": {},
     "output_type": "display_data"
    }
   ],
   "source": [
    "X_train = iris[[\"petal_length\"]]\n",
    "y_train = iris[\"petal_width\"]\n",
    "\n",
    "# Reverse the correlation by sorting in opposite directions\n",
    "# Will be a non-representative test set to demo -R^2\n",
    "# This is just for this demo, you should not do this in practice ever\n",
    "X_test = iris[[\"petal_length\"]].sort_values(\"petal_length\").reset_index(drop=True)\n",
    "y_test = iris[\"petal_width\"].sort_values(ascending=False).reset_index(drop=True)"
   ]
  },
  {
   "cell_type": "markdown",
   "metadata": {},
   "source": [
    "Below, the data is plotted to explore the relationship between x and y.  Usually we'd probably just look at the training data here, but we'll look at train and test to build up the example further.\n",
    "\n",
    "The pattern in the training data seems apparent.  As X increase so does y, hopefully this is what our model will learn.\n",
    "\n",
    "However, the testing data shows the exact opposite pattern.  A model that performs well on the training data will not do well on the testing data."
   ]
  },
  {
   "cell_type": "code",
   "execution_count": 4,
   "metadata": {},
   "outputs": [
    {
     "data": {
      "image/png": "[encoded data removed]",
      "text/plain": [
       "<Figure size 432x288 with 1 Axes>"
      ]
     },
     "metadata": {
      "needs_background": "light"
     },
     "output_type": "display_data"
    },
    {
     "data": {
      "image/png": "[encoded data removed]",
      "text/plain": [
       "<Figure size 432x288 with 1 Axes>"
      ]
     },
     "metadata": {
      "needs_background": "light"
     },
     "output_type": "display_data"
    },
    {
     "data": {
      "application/javascript": [
       "\n",
       "            setTimeout(function() {\n",
       "                var nbb_cell_id = 4;\n",
       "                var nbb_unformatted_code = \"plt.scatter(X_train, y_train)\\nplt.xlabel(\\\"X_train\\\")\\nplt.ylabel(\\\"y_train\\\")\\nplt.title(\\\"Training data\\\\n(true relationship)\\\")\\nplt.show()\\n\\nplt.scatter(X_test, y_test)\\nplt.xlabel(\\\"X_test\\\")\\nplt.ylabel(\\\"y_test\\\")\\nplt.title(\\\"Testing data\\\\n(not true relationship; made up data)\\\")\\nplt.show()\";\n",
       "                var nbb_formatted_code = \"plt.scatter(X_train, y_train)\\nplt.xlabel(\\\"X_train\\\")\\nplt.ylabel(\\\"y_train\\\")\\nplt.title(\\\"Training data\\\\n(true relationship)\\\")\\nplt.show()\\n\\nplt.scatter(X_test, y_test)\\nplt.xlabel(\\\"X_test\\\")\\nplt.ylabel(\\\"y_test\\\")\\nplt.title(\\\"Testing data\\\\n(not true relationship; made up data)\\\")\\nplt.show()\";\n",
       "                var nbb_cells = Jupyter.notebook.get_cells();\n",
       "                for (var i = 0; i < nbb_cells.length; ++i) {\n",
       "                    if (nbb_cells[i].input_prompt_number == nbb_cell_id) {\n",
       "                        if (nbb_cells[i].get_text() == nbb_unformatted_code) {\n",
       "                             nbb_cells[i].set_text(nbb_formatted_code);\n",
       "                        }\n",
       "                        break;\n",
       "                    }\n",
       "                }\n",
       "            }, 500);\n",
       "            "
      ],
      "text/plain": [
       "<IPython.core.display.Javascript object>"
      ]
     },
     "metadata": {},
     "output_type": "display_data"
    }
   ],
   "source": [
    "plt.scatter(X_train, y_train)\n",
    "plt.xlabel(\"X_train\")\n",
    "plt.ylabel(\"y_train\")\n",
    "plt.title(\"Training data\\n(true relationship)\")\n",
    "plt.show()\n",
    "\n",
    "plt.scatter(X_test, y_test)\n",
    "plt.xlabel(\"X_test\")\n",
    "plt.ylabel(\"y_test\")\n",
    "plt.title(\"Testing data\\n(not true relationship; made up data)\")\n",
    "plt.show()"
   ]
  },
  {
   "cell_type": "markdown",
   "metadata": {},
   "source": [
    "We build our model and score it."
   ]
  },
  {
   "cell_type": "code",
   "execution_count": 5,
   "metadata": {},
   "outputs": [
    {
     "data": {
      "text/plain": [
       "LinearRegression(copy_X=True, fit_intercept=True, n_jobs=None, normalize=False)"
      ]
     },
     "execution_count": 5,
     "metadata": {},
     "output_type": "execute_result"
    },
    {
     "data": {
      "application/javascript": [
       "\n",
       "            setTimeout(function() {\n",
       "                var nbb_cell_id = 5;\n",
       "                var nbb_unformatted_code = \"model = LinearRegression()\\nmodel.fit(X_train, y_train)\";\n",
       "                var nbb_formatted_code = \"model = LinearRegression()\\nmodel.fit(X_train, y_train)\";\n",
       "                var nbb_cells = Jupyter.notebook.get_cells();\n",
       "                for (var i = 0; i < nbb_cells.length; ++i) {\n",
       "                    if (nbb_cells[i].input_prompt_number == nbb_cell_id) {\n",
       "                        if (nbb_cells[i].get_text() == nbb_unformatted_code) {\n",
       "                             nbb_cells[i].set_text(nbb_formatted_code);\n",
       "                        }\n",
       "                        break;\n",
       "                    }\n",
       "                }\n",
       "            }, 500);\n",
       "            "
      ],
      "text/plain": [
       "<IPython.core.display.Javascript object>"
      ]
     },
     "metadata": {},
     "output_type": "display_data"
    }
   ],
   "source": [
    "model = LinearRegression()\n",
    "model.fit(X_train, y_train)"
   ]
  },
  {
   "cell_type": "code",
   "execution_count": 6,
   "metadata": {},
   "outputs": [
    {
     "data": {
      "text/plain": [
       "0.9271098389904927"
      ]
     },
     "execution_count": 6,
     "metadata": {},
     "output_type": "execute_result"
    },
    {
     "data": {
      "application/javascript": [
       "\n",
       "            setTimeout(function() {\n",
       "                var nbb_cell_id = 6;\n",
       "                var nbb_unformatted_code = \"model.score(X_train, y_train)\";\n",
       "                var nbb_formatted_code = \"model.score(X_train, y_train)\";\n",
       "                var nbb_cells = Jupyter.notebook.get_cells();\n",
       "                for (var i = 0; i < nbb_cells.length; ++i) {\n",
       "                    if (nbb_cells[i].input_prompt_number == nbb_cell_id) {\n",
       "                        if (nbb_cells[i].get_text() == nbb_unformatted_code) {\n",
       "                             nbb_cells[i].set_text(nbb_formatted_code);\n",
       "                        }\n",
       "                        break;\n",
       "                    }\n",
       "                }\n",
       "            }, 500);\n",
       "            "
      ],
      "text/plain": [
       "<IPython.core.display.Javascript object>"
      ]
     },
     "metadata": {},
     "output_type": "display_data"
    }
   ],
   "source": [
    "model.score(X_train, y_train)"
   ]
  },
  {
   "cell_type": "code",
   "execution_count": 7,
   "metadata": {},
   "outputs": [
    {
     "data": {
      "text/plain": [
       "-2.730791446432442"
      ]
     },
     "execution_count": 7,
     "metadata": {},
     "output_type": "execute_result"
    },
    {
     "data": {
      "application/javascript": [
       "\n",
       "            setTimeout(function() {\n",
       "                var nbb_cell_id = 7;\n",
       "                var nbb_unformatted_code = \"model.score(X_test, y_test)\";\n",
       "                var nbb_formatted_code = \"model.score(X_test, y_test)\";\n",
       "                var nbb_cells = Jupyter.notebook.get_cells();\n",
       "                for (var i = 0; i < nbb_cells.length; ++i) {\n",
       "                    if (nbb_cells[i].input_prompt_number == nbb_cell_id) {\n",
       "                        if (nbb_cells[i].get_text() == nbb_unformatted_code) {\n",
       "                             nbb_cells[i].set_text(nbb_formatted_code);\n",
       "                        }\n",
       "                        break;\n",
       "                    }\n",
       "                }\n",
       "            }, 500);\n",
       "            "
      ],
      "text/plain": [
       "<IPython.core.display.Javascript object>"
      ]
     },
     "metadata": {},
     "output_type": "display_data"
    }
   ],
   "source": [
    "model.score(X_test, y_test)"
   ]
  },
  {
   "cell_type": "markdown",
   "metadata": {},
   "source": [
    "Oh No! We have negative $R^2$ on the testing data!  What does this mean?  I thought we interpreted $R^2$ as a percentage? Percentages can only range 0-1.\n",
    "\n",
    "To understand why this can be negative and why we interpret as a percentage.  Let's look some the math and talk about it."
   ]
  },
  {
   "cell_type": "markdown",
   "metadata": {},
   "source": [
    "$$R^2 = 1 - \\frac{SS_{res}}{SS_{total}}$$"
   ]
  },
  {
   "cell_type": "markdown",
   "metadata": {},
   "source": [
    "* The $SS_{res}$ is the \"sum of squared residuals\".  To calulate it, we need our model's predictions and the true labels.  We compare the predictions to the labels to calculate the residuals (i.e. our mistakes: `y_true - y_pred`).  We then square these residuals to get rid of negatives and add them all up.\n",
    "\n",
    "\n",
    "* The $SS_{total}$ is a baseline to compare $SS_{res}$ to.  Instead of using our model's predictions, what if we just predicted the mean?  To calculate the number we use the same steps as for $SS_{res}$.  Instead of the model predictions we use the mean of y.  So we end up with a sum of squared distances from the mean.\n",
    "\n",
    "\n",
    "* If $SS_{res}$ equals $SS_{total}$ then the fraction in the formula becomes $1$ and the final output for $R^2$ is $0$; our model is adding nothing over just guessing the average.\n",
    "\n",
    "\n",
    "* If $SS_{res}$ equals 0 (we made perfect predictions) then the fraction in the formula becomes $0$ and the final output for $R^2$ is $1$.\n",
    "\n",
    "\n",
    "* You can think about $R^2$ as asking the question: \"How is my model performing compared to just guessing the average of y?\"."
   ]
  },
  {
   "cell_type": "code",
   "execution_count": 8,
   "metadata": {},
   "outputs": [
    {
     "data": {
      "application/javascript": [
       "\n",
       "            setTimeout(function() {\n",
       "                var nbb_cell_id = 8;\n",
       "                var nbb_unformatted_code = \"# Values that will be used in our R^2 calculation\\ny_true = y_test\\ny_pred = model.predict(X_test)\\ny_true_mean = y_true.mean()\";\n",
       "                var nbb_formatted_code = \"# Values that will be used in our R^2 calculation\\ny_true = y_test\\ny_pred = model.predict(X_test)\\ny_true_mean = y_true.mean()\";\n",
       "                var nbb_cells = Jupyter.notebook.get_cells();\n",
       "                for (var i = 0; i < nbb_cells.length; ++i) {\n",
       "                    if (nbb_cells[i].input_prompt_number == nbb_cell_id) {\n",
       "                        if (nbb_cells[i].get_text() == nbb_unformatted_code) {\n",
       "                             nbb_cells[i].set_text(nbb_formatted_code);\n",
       "                        }\n",
       "                        break;\n",
       "                    }\n",
       "                }\n",
       "            }, 500);\n",
       "            "
      ],
      "text/plain": [
       "<IPython.core.display.Javascript object>"
      ]
     },
     "metadata": {},
     "output_type": "display_data"
    }
   ],
   "source": [
    "# Values that will be used in our R^2 calculation\n",
    "y_true = y_test\n",
    "y_pred = model.predict(X_test)\n",
    "y_true_mean = y_true.mean()"
   ]
  },
  {
   "cell_type": "code",
   "execution_count": 9,
   "metadata": {},
   "outputs": [
    {
     "data": {
      "text/plain": [
       "-2.730791446432442"
      ]
     },
     "execution_count": 9,
     "metadata": {},
     "output_type": "execute_result"
    },
    {
     "data": {
      "application/javascript": [
       "\n",
       "            setTimeout(function() {\n",
       "                var nbb_cell_id = 9;\n",
       "                var nbb_unformatted_code = \"# R^2 code\\n# Simplified from sklearn source code:\\n# https://github.com/scikit-learn/scikit-learn/blob/95d4f0841/sklearn/metrics/_regression.py#L488\\n\\n# SS Residual: sum of squared residuals of the model\\nss_res = np.sum((y_true - y_pred) ** 2)\\n\\n# SS Total: sum of squared residuals if we ignored x and just predicted the mean of y\\nss_total = np.sum((y_true - y_true_mean) ** 2)\\n\\n1 - ss_res / ss_total\";\n",
       "                var nbb_formatted_code = \"# R^2 code\\n# Simplified from sklearn source code:\\n# https://github.com/scikit-learn/scikit-learn/blob/95d4f0841/sklearn/metrics/_regression.py#L488\\n\\n# SS Residual: sum of squared residuals of the model\\nss_res = np.sum((y_true - y_pred) ** 2)\\n\\n# SS Total: sum of squared residuals if we ignored x and just predicted the mean of y\\nss_total = np.sum((y_true - y_true_mean) ** 2)\\n\\n1 - ss_res / ss_total\";\n",
       "                var nbb_cells = Jupyter.notebook.get_cells();\n",
       "                for (var i = 0; i < nbb_cells.length; ++i) {\n",
       "                    if (nbb_cells[i].input_prompt_number == nbb_cell_id) {\n",
       "                        if (nbb_cells[i].get_text() == nbb_unformatted_code) {\n",
       "                             nbb_cells[i].set_text(nbb_formatted_code);\n",
       "                        }\n",
       "                        break;\n",
       "                    }\n",
       "                }\n",
       "            }, 500);\n",
       "            "
      ],
      "text/plain": [
       "<IPython.core.display.Javascript object>"
      ]
     },
     "metadata": {},
     "output_type": "display_data"
    }
   ],
   "source": [
    "# R^2 code\n",
    "# Simplified from sklearn source code:\n",
    "# https://github.com/scikit-learn/scikit-learn/blob/95d4f0841/sklearn/metrics/_regression.py#L488\n",
    "\n",
    "# SS Residual: sum of squared residuals of the model\n",
    "ss_res = np.sum((y_true - y_pred) ** 2)\n",
    "\n",
    "# SS Total: sum of squared residuals if we ignored x and just predicted the mean of y\n",
    "ss_total = np.sum((y_true - y_true_mean) ** 2)\n",
    "\n",
    "1 - ss_res / ss_total"
   ]
  },
  {
   "cell_type": "code",
   "execution_count": 10,
   "metadata": {},
   "outputs": [
    {
     "data": {
      "image/png": "[encoded data removed]",
      "text/plain": [
       "<Figure size 432x288 with 1 Axes>"
      ]
     },
     "metadata": {
      "needs_background": "light"
     },
     "output_type": "display_data"
    },
    {
     "data": {
      "application/javascript": [
       "\n",
       "            setTimeout(function() {\n",
       "                var nbb_cell_id = 10;\n",
       "                var nbb_unformatted_code = \"plt.scatter(X_test, y_test, label=\\\"Fake test data\\\")\\nplt.axhline(y_true_mean, c=\\\"green\\\", label=\\\"mean(y_test)\\\")\\nplt.plot(X_test, y_pred, c=\\\"red\\\", label=\\\"Model predictions\\\")\\nplt.title(\\\"R^2: 'Did we predict better than guessing the mean?'\\\")\\nplt.legend()\\nplt.show()\";\n",
       "                var nbb_formatted_code = \"plt.scatter(X_test, y_test, label=\\\"Fake test data\\\")\\nplt.axhline(y_true_mean, c=\\\"green\\\", label=\\\"mean(y_test)\\\")\\nplt.plot(X_test, y_pred, c=\\\"red\\\", label=\\\"Model predictions\\\")\\nplt.title(\\\"R^2: 'Did we predict better than guessing the mean?'\\\")\\nplt.legend()\\nplt.show()\";\n",
       "                var nbb_cells = Jupyter.notebook.get_cells();\n",
       "                for (var i = 0; i < nbb_cells.length; ++i) {\n",
       "                    if (nbb_cells[i].input_prompt_number == nbb_cell_id) {\n",
       "                        if (nbb_cells[i].get_text() == nbb_unformatted_code) {\n",
       "                             nbb_cells[i].set_text(nbb_formatted_code);\n",
       "                        }\n",
       "                        break;\n",
       "                    }\n",
       "                }\n",
       "            }, 500);\n",
       "            "
      ],
      "text/plain": [
       "<IPython.core.display.Javascript object>"
      ]
     },
     "metadata": {},
     "output_type": "display_data"
    }
   ],
   "source": [
    "plt.scatter(X_test, y_test, label=\"Fake test data\")\n",
    "plt.axhline(y_true_mean, c=\"green\", label=\"mean(y_test)\")\n",
    "plt.plot(X_test, y_pred, c=\"red\", label=\"Model predictions\")\n",
    "plt.title(\"R^2: 'Did we predict better than guessing the mean?'\")\n",
    "plt.legend()\n",
    "plt.show()"
   ]
  }
 ],
 "metadata": {
  "kernelspec": {
   "display_name": "Python 3",
   "language": "python",
   "name": "python3"
  },
  "language_info": {
   "codemirror_mode": {
    "name": "ipython",
    "version": 3
   },
   "file_extension": ".py",
   "mimetype": "text/x-python",
   "name": "python",
   "nbconvert_exporter": "python",
   "pygments_lexer": "ipython3",
   "version": "3.7.7"
  }
 },
 "nbformat": 4,
 "nbformat_minor": 2
}
