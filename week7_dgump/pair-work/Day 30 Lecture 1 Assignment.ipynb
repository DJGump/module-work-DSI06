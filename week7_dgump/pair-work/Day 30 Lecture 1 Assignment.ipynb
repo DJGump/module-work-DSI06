{
 "cells": [
  {
   "cell_type": "markdown",
   "metadata": {
    "colab_type": "text",
    "id": "3DPEH2GvdWEc"
   },
   "source": [
    "## Day 30 Lecture 1 Assignment\n",
    "\n",
    "In this assignment, we will build our first random forest model. We will use a dataset containing churn information for a telephone company's customers."
   ]
  },
  {
   "cell_type": "code",
   "execution_count": 1,
   "metadata": {
    "colab": {},
    "colab_type": "code",
    "id": "yx3zL4jfdWEc"
   },
   "outputs": [],
   "source": [
    "%matplotlib inline\n",
    "\n",
    "import matplotlib.pyplot as plt\n",
    "import numpy as np\n",
    "import pandas as pd"
   ]
  },
  {
   "cell_type": "markdown",
   "metadata": {
    "colab_type": "text",
    "id": "m2vkGnLGKV9X"
   },
   "source": [
    "Read in the telecom churn dataset.\n",
    "\n",
    "https://raw.githubusercontent.com/Thinkful-Ed/data-science-lectures/master/telecom_churn.csv"
   ]
  },
  {
   "cell_type": "code",
   "execution_count": 5,
   "metadata": {
    "colab": {},
    "colab_type": "code",
    "id": "3NO2s06udWEg"
   },
   "outputs": [],
   "source": [
    "# answer here\n",
    "churn = pd.read_csv('https://raw.githubusercontent.com/Thinkful-Ed/data-science-lectures/master/telecom_churn.csv')\n",
    "\n"
   ]
  },
  {
   "cell_type": "markdown",
   "metadata": {
    "colab_type": "text",
    "id": "Do4wf0HedWEi"
   },
   "source": [
    "Perform the following preprocessing steps:\n",
    "\n",
    "- This dataset has many columns; identify a subset of 10-15 features that you think could affect a customer's propensity to churn (also called \"customer loss\" or \"customer attrition\"). Include at least 1 categorical variable.\n",
    "- Drop all rows that containing any missing values (this should be a fairly small number of rows)\n",
    "- Convert the response from a string to a binary 1-0 encoding."
   ]
  },
  {
   "cell_type": "code",
   "execution_count": 6,
   "metadata": {
    "colab": {},
    "colab_type": "code",
    "id": "IOYothvxdWEi"
   },
   "outputs": [
    {
     "name": "stdout",
     "output_type": "stream",
     "text": [
      "<class 'pandas.core.frame.DataFrame'>\n",
      "RangeIndex: 51047 entries, 0 to 51046\n",
      "Data columns (total 58 columns):\n",
      " #   Column                     Non-Null Count  Dtype  \n",
      "---  ------                     --------------  -----  \n",
      " 0   CustomerID                 51047 non-null  int64  \n",
      " 1   Churn                      51047 non-null  object \n",
      " 2   MonthlyRevenue             50891 non-null  float64\n",
      " 3   MonthlyMinutes             50891 non-null  float64\n",
      " 4   TotalRecurringCharge       50891 non-null  float64\n",
      " 5   DirectorAssistedCalls      50891 non-null  float64\n",
      " 6   OverageMinutes             50891 non-null  float64\n",
      " 7   RoamingCalls               50891 non-null  float64\n",
      " 8   PercChangeMinutes          50680 non-null  float64\n",
      " 9   PercChangeRevenues         50680 non-null  float64\n",
      " 10  DroppedCalls               51047 non-null  float64\n",
      " 11  BlockedCalls               51047 non-null  float64\n",
      " 12  UnansweredCalls            51047 non-null  float64\n",
      " 13  CustomerCareCalls          51047 non-null  float64\n",
      " 14  ThreewayCalls              51047 non-null  float64\n",
      " 15  ReceivedCalls              51047 non-null  float64\n",
      " 16  OutboundCalls              51047 non-null  float64\n",
      " 17  InboundCalls               51047 non-null  float64\n",
      " 18  PeakCallsInOut             51047 non-null  float64\n",
      " 19  OffPeakCallsInOut          51047 non-null  float64\n",
      " 20  DroppedBlockedCalls        51047 non-null  float64\n",
      " 21  CallForwardingCalls        51047 non-null  float64\n",
      " 22  CallWaitingCalls           51047 non-null  float64\n",
      " 23  MonthsInService            51047 non-null  int64  \n",
      " 24  UniqueSubs                 51047 non-null  int64  \n",
      " 25  ActiveSubs                 51047 non-null  int64  \n",
      " 26  ServiceArea                51023 non-null  object \n",
      " 27  Handsets                   51046 non-null  float64\n",
      " 28  HandsetModels              51046 non-null  float64\n",
      " 29  CurrentEquipmentDays       51046 non-null  float64\n",
      " 30  AgeHH1                     50138 non-null  float64\n",
      " 31  AgeHH2                     50138 non-null  float64\n",
      " 32  ChildrenInHH               51047 non-null  object \n",
      " 33  HandsetRefurbished         51047 non-null  object \n",
      " 34  HandsetWebCapable          51047 non-null  object \n",
      " 35  TruckOwner                 51047 non-null  object \n",
      " 36  RVOwner                    51047 non-null  object \n",
      " 37  Homeownership              51047 non-null  object \n",
      " 38  BuysViaMailOrder           51047 non-null  object \n",
      " 39  RespondsToMailOffers       51047 non-null  object \n",
      " 40  OptOutMailings             51047 non-null  object \n",
      " 41  NonUSTravel                51047 non-null  object \n",
      " 42  OwnsComputer               51047 non-null  object \n",
      " 43  HasCreditCard              51047 non-null  object \n",
      " 44  RetentionCalls             51047 non-null  int64  \n",
      " 45  RetentionOffersAccepted    51047 non-null  int64  \n",
      " 46  NewCellphoneUser           51047 non-null  object \n",
      " 47  NotNewCellphoneUser        51047 non-null  object \n",
      " 48  ReferralsMadeBySubscriber  51047 non-null  int64  \n",
      " 49  IncomeGroup                51047 non-null  int64  \n",
      " 50  OwnsMotorcycle             51047 non-null  object \n",
      " 51  AdjustmentsToCreditRating  51047 non-null  int64  \n",
      " 52  HandsetPrice               51047 non-null  object \n",
      " 53  MadeCallToRetentionTeam    51047 non-null  object \n",
      " 54  CreditRating               51047 non-null  object \n",
      " 55  PrizmCode                  51047 non-null  object \n",
      " 56  Occupation                 51047 non-null  object \n",
      " 57  MaritalStatus              51047 non-null  object \n",
      "dtypes: float64(26), int64(9), object(23)\n",
      "memory usage: 22.6+ MB\n"
     ]
    }
   ],
   "source": [
    "# answer goes here\n",
    "churn.info()\n",
    "# Dropped Calls, overage minutes, monthsinservice, RetentionCalls, servicearea, AgeHH1, \n",
    " \n"
   ]
  },
  {
   "cell_type": "markdown",
   "metadata": {
    "colab_type": "text",
    "id": "9or_wHIEdWEk"
   },
   "source": [
    "Although some implementations of tree-based models support categorical variables directly, scikit-learn's implementation does not, so we will need to convert our categorical variable(s) into numbers. In linear regression, we used one-hot/dummy encoding, but this has drawbacks that can be particularly problematic in the context of trees. Namely, dummy encoding can lead to very sparse columns when dealing with high-dimensional categorical features; the tree treats these levels as indepedent features is very unlikely to make a split on any of the individual levels, since the corresponding columns consist almost entirely consist of a single value.\n",
    "\n",
    "Ideally, we would consider all of the levels simultaneously, which trees can do efficiently. However, sklearn does not implement this efficient algorithm for splitting on categorical variables. In this situation, a better alternative to dummy encoding is leave-one-out-encoding. This transforms each categorical into its conditional probability of the positive class, excluding the observation itself to avoid potential data leakage. Perform the following steps:\n",
    "\n",
    "- Create an 80-20 train/test split on the data\n",
    "- Fit a leave-one-out encoder to the training data and encode the categorical variables in the training data. The category_encoders package is helpful for this task. (Note that this ordering is important; if we fitted the encoder to the full dataset before making the train/test split, we would introduce data leakage by allowing the test data to affecting the estimates of the category-conditional probabilities.)"
   ]
  },
  {
   "cell_type": "code",
   "execution_count": null,
   "metadata": {
    "colab": {},
    "colab_type": "code",
    "id": "CSzcnmlHdWEl"
   },
   "outputs": [],
   "source": [
    "# answer goes here\n",
    "\n",
    "\n",
    "\n"
   ]
  },
  {
   "cell_type": "markdown",
   "metadata": {
    "colab_type": "text",
    "id": "k4_2MdfddWEo"
   },
   "source": [
    "Next, fit the random forest model. You can tinker with or tune the parameters if you like, although we will use the default parameter values."
   ]
  },
  {
   "cell_type": "code",
   "execution_count": null,
   "metadata": {
    "colab": {},
    "colab_type": "code",
    "id": "tLpHIpL1dWEp"
   },
   "outputs": [],
   "source": [
    "# answer goes here\n",
    "\n",
    "\n",
    "\n"
   ]
  },
  {
   "cell_type": "markdown",
   "metadata": {
    "colab_type": "text",
    "id": "ClKz91ajdWEq"
   },
   "source": [
    "To evaluate our model, produce the predicted values for the test sample. Remember to apply our previously fitted encoder to the test data prior to making predictions."
   ]
  },
  {
   "cell_type": "code",
   "execution_count": null,
   "metadata": {
    "colab": {},
    "colab_type": "code",
    "id": "p9tiXUV2dWEr"
   },
   "outputs": [],
   "source": [
    "# answer goes here\n",
    "\n",
    "\n",
    "\n"
   ]
  },
  {
   "cell_type": "markdown",
   "metadata": {
    "colab_type": "text",
    "id": "M4QYFoevdWEs"
   },
   "source": [
    "After making the predictions, print out the classification report (sklearn.metrics.classification_report). In addition, plot the confusion matrix and ROC curve. How did our model perform?"
   ]
  },
  {
   "cell_type": "code",
   "execution_count": null,
   "metadata": {
    "colab": {},
    "colab_type": "code",
    "id": "wmzoxEQsdWEs"
   },
   "outputs": [],
   "source": [
    "# answer goes here\n",
    "\n",
    "\n",
    "\n"
   ]
  },
  {
   "cell_type": "markdown",
   "metadata": {
    "colab_type": "text",
    "id": "_CEPHhIwdWEu"
   },
   "source": [
    "Print the feature importances, ordered by importance from high to low. What is the default sklearn feature importance metric?"
   ]
  },
  {
   "cell_type": "code",
   "execution_count": null,
   "metadata": {
    "colab": {},
    "colab_type": "code",
    "id": "W1b3f-i-dWEv"
   },
   "outputs": [],
   "source": [
    "# answer goes here\n",
    "\n",
    "\n",
    "\n"
   ]
  }
 ],
 "metadata": {
  "colab": {
   "collapsed_sections": [],
   "name": "Day 30 Lecture 1 Assignment.ipynb",
   "provenance": []
  },
  "kernelspec": {
   "display_name": "Python 3",
   "language": "python",
   "name": "python3"
  },
  "language_info": {
   "codemirror_mode": {
    "name": "ipython",
    "version": 3
   },
   "file_extension": ".py",
   "mimetype": "text/x-python",
   "name": "python",
   "nbconvert_exporter": "python",
   "pygments_lexer": "ipython3",
   "version": "3.7.6"
  }
 },
 "nbformat": 4,
 "nbformat_minor": 1
}
