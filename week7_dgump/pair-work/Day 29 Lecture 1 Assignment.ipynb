{
 "cells": [
  {
   "cell_type": "markdown",
   "metadata": {
    "colab_type": "text",
    "id": "VqUtIOgdcSjK"
   },
   "source": [
    "## Day 29 Lecture 1 Assignment\n",
    "\n",
    "In this assignment, we will learn about decision trees. We will use the Chicago salary dataset loaded below."
   ]
  },
  {
   "cell_type": "code",
   "execution_count": 28,
   "metadata": {
    "colab": {},
    "colab_type": "code",
    "id": "JOsKrr-kcSjL"
   },
   "outputs": [],
   "source": [
    "%matplotlib inline\n",
    "\n",
    "import numpy as np\n",
    "import pandas as pd\n",
    "\n",
    "from sklearn.datasets import load_boston\n",
    "from sklearn.model_selection import train_test_split\n",
    "from sklearn.tree import DecisionTreeRegressor, plot_tree\n",
    "\n",
    "import seaborn as sns\n",
    "import matplotlib.pyplot as plt\n",
    "\n",
    "%matplotlib inline\n"
   ]
  },
  {
   "cell_type": "code",
   "execution_count": 10,
   "metadata": {
    "colab": {},
    "colab_type": "code",
    "id": "2vSkCX1rcSjN"
   },
   "outputs": [],
   "source": [
    "chicago = pd.read_csv('https://tf-assets-prod.s3.amazonaws.com/tf-curric/data-science/Current_Employee_Names__Salaries__and_Position_Titles.csv')"
   ]
  },
  {
   "cell_type": "code",
   "execution_count": 11,
   "metadata": {
    "colab": {},
    "colab_type": "code",
    "id": "PoyrvgWqcSjP",
    "outputId": "1189719f-2d1d-4b49-f2c3-7d77a8a7c0bb"
   },
   "outputs": [
    {
     "data": {
      "text/html": [
       "<div>\n",
       "<style scoped>\n",
       "    .dataframe tbody tr th:only-of-type {\n",
       "        vertical-align: middle;\n",
       "    }\n",
       "\n",
       "    .dataframe tbody tr th {\n",
       "        vertical-align: top;\n",
       "    }\n",
       "\n",
       "    .dataframe thead th {\n",
       "        text-align: right;\n",
       "    }\n",
       "</style>\n",
       "<table border=\"1\" class=\"dataframe\">\n",
       "  <thead>\n",
       "    <tr style=\"text-align: right;\">\n",
       "      <th></th>\n",
       "      <th>Name</th>\n",
       "      <th>Job Titles</th>\n",
       "      <th>Department</th>\n",
       "      <th>Full or Part-Time</th>\n",
       "      <th>Salary or Hourly</th>\n",
       "      <th>Typical Hours</th>\n",
       "      <th>Annual Salary</th>\n",
       "      <th>Hourly Rate</th>\n",
       "    </tr>\n",
       "  </thead>\n",
       "  <tbody>\n",
       "    <tr>\n",
       "      <th>0</th>\n",
       "      <td>ALLISON,  PAUL W</td>\n",
       "      <td>LIEUTENANT</td>\n",
       "      <td>FIRE</td>\n",
       "      <td>F</td>\n",
       "      <td>Salary</td>\n",
       "      <td>NaN</td>\n",
       "      <td>$107790.00</td>\n",
       "      <td>NaN</td>\n",
       "    </tr>\n",
       "    <tr>\n",
       "      <th>1</th>\n",
       "      <td>BRUNO,  KEVIN D</td>\n",
       "      <td>SERGEANT</td>\n",
       "      <td>POLICE</td>\n",
       "      <td>F</td>\n",
       "      <td>Salary</td>\n",
       "      <td>NaN</td>\n",
       "      <td>$104628.00</td>\n",
       "      <td>NaN</td>\n",
       "    </tr>\n",
       "    <tr>\n",
       "      <th>2</th>\n",
       "      <td>COOPER,  JOHN E</td>\n",
       "      <td>LIEUTENANT-EMT</td>\n",
       "      <td>FIRE</td>\n",
       "      <td>F</td>\n",
       "      <td>Salary</td>\n",
       "      <td>NaN</td>\n",
       "      <td>$114324.00</td>\n",
       "      <td>NaN</td>\n",
       "    </tr>\n",
       "    <tr>\n",
       "      <th>3</th>\n",
       "      <td>CRESPO,  VILMA I</td>\n",
       "      <td>STAFF ASST</td>\n",
       "      <td>LAW</td>\n",
       "      <td>F</td>\n",
       "      <td>Salary</td>\n",
       "      <td>NaN</td>\n",
       "      <td>$76932.00</td>\n",
       "      <td>NaN</td>\n",
       "    </tr>\n",
       "    <tr>\n",
       "      <th>4</th>\n",
       "      <td>DOLAN,  ROBERT J</td>\n",
       "      <td>SERGEANT</td>\n",
       "      <td>POLICE</td>\n",
       "      <td>F</td>\n",
       "      <td>Salary</td>\n",
       "      <td>NaN</td>\n",
       "      <td>$111474.00</td>\n",
       "      <td>NaN</td>\n",
       "    </tr>\n",
       "  </tbody>\n",
       "</table>\n",
       "</div>"
      ],
      "text/plain": [
       "               Name      Job Titles Department Full or Part-Time  \\\n",
       "0  ALLISON,  PAUL W      LIEUTENANT       FIRE                 F   \n",
       "1   BRUNO,  KEVIN D        SERGEANT     POLICE                 F   \n",
       "2   COOPER,  JOHN E  LIEUTENANT-EMT       FIRE                 F   \n",
       "3  CRESPO,  VILMA I      STAFF ASST        LAW                 F   \n",
       "4  DOLAN,  ROBERT J        SERGEANT     POLICE                 F   \n",
       "\n",
       "  Salary or Hourly  Typical Hours Annual Salary Hourly Rate  \n",
       "0           Salary            NaN    $107790.00         NaN  \n",
       "1           Salary            NaN    $104628.00         NaN  \n",
       "2           Salary            NaN    $114324.00         NaN  \n",
       "3           Salary            NaN     $76932.00         NaN  \n",
       "4           Salary            NaN    $111474.00         NaN  "
      ]
     },
     "execution_count": 11,
     "metadata": {},
     "output_type": "execute_result"
    }
   ],
   "source": [
    "chicago.head()"
   ]
  },
  {
   "cell_type": "code",
   "execution_count": 12,
   "metadata": {},
   "outputs": [
    {
     "data": {
      "text/plain": [
       "Salary    24775\n",
       "Hourly     7883\n",
       "Name: Salary or Hourly, dtype: int64"
      ]
     },
     "execution_count": 12,
     "metadata": {},
     "output_type": "execute_result"
    }
   ],
   "source": [
    "chicago['Salary or Hourly'].value_counts()"
   ]
  },
  {
   "cell_type": "markdown",
   "metadata": {
    "colab_type": "text",
    "id": "Yvk4IgCocSjQ"
   },
   "source": [
    "To simplify this problem, we will limit our model to only salary employees. Create a new dataset that does not contain any hourly employees."
   ]
  },
  {
   "cell_type": "code",
   "execution_count": 9,
   "metadata": {
    "colab": {},
    "colab_type": "code",
    "id": "X8mndXF2cSjR"
   },
   "outputs": [
    {
     "data": {
      "text/plain": [
       "Salary    24775\n",
       "Name: Salary or Hourly, dtype: int64"
      ]
     },
     "execution_count": 9,
     "metadata": {},
     "output_type": "execute_result"
    }
   ],
   "source": [
    "# answer below:\n",
    "chicago = chicago[chicago['Salary or Hourly'] == 'Salary']\n",
    "chicago['Salary or Hourly'].value_counts()"
   ]
  },
  {
   "cell_type": "markdown",
   "metadata": {
    "colab_type": "text",
    "id": "IjEAhiyfcSjT"
   },
   "source": [
    "Next, we will look at the count of all values for both job titles and department to ensure that we don't use features that are too sparse in our model."
   ]
  },
  {
   "cell_type": "code",
   "execution_count": 21,
   "metadata": {},
   "outputs": [
    {
     "data": {
      "text/plain": [
       "Index(['Name', 'Job Titles', 'Salary or Hourly', 'Typical Hours',\n",
       "       'Annual Salary', 'Hourly Rate', 'Department_ANIMAL CONTRL',\n",
       "       'Department_AVIATION', 'Department_BOARD OF ELECTION',\n",
       "       'Department_BOARD OF ETHICS', 'Department_BUDGET & MGMT',\n",
       "       'Department_BUILDINGS', 'Department_BUSINESS AFFAIRS',\n",
       "       'Department_CITY CLERK', 'Department_CITY COUNCIL',\n",
       "       'Department_COMMUNITY DEVELOPMENT', 'Department_COPA',\n",
       "       'Department_CULTURAL AFFAIRS', 'Department_DISABILITIES',\n",
       "       'Department_DoIT', 'Department_FAMILY & SUPPORT', 'Department_FINANCE',\n",
       "       'Department_FIRE', 'Department_GENERAL SERVICES', 'Department_HEALTH',\n",
       "       'Department_HUMAN RELATIONS', 'Department_HUMAN RESOURCES',\n",
       "       'Department_INSPECTOR GEN', 'Department_IPRA', 'Department_LAW',\n",
       "       'Department_LICENSE APPL COMM', 'Department_MAYOR'S OFFICE',\n",
       "       'Department_OEMC', 'Department_POLICE', 'Department_POLICE BOARD',\n",
       "       'Department_PROCUREMENT', 'Department_PUBLIC LIBRARY',\n",
       "       'Department_STREETS & SAN', 'Department_TRANSPORTN',\n",
       "       'Department_TREASURER', 'Department_WATER MGMNT',\n",
       "       'Full or Part-Time_P'],\n",
       "      dtype='object')"
      ]
     },
     "execution_count": 21,
     "metadata": {},
     "output_type": "execute_result"
    }
   ],
   "source": [
    "chicago.columns"
   ]
  },
  {
   "cell_type": "code",
   "execution_count": 16,
   "metadata": {
    "colab": {},
    "colab_type": "code",
    "id": "RSpn997lcSjT"
   },
   "outputs": [
    {
     "data": {
      "text/plain": [
       "(POLICE OFFICER                            9393\n",
       " FIREFIGHTER-EMT                           1424\n",
       " SERGEANT                                  1118\n",
       " POOL MOTOR TRUCK DRIVER                    996\n",
       " POLICE OFFICER (ASSIGNED AS DETECTIVE)     845\n",
       "                                           ... \n",
       " COORD OF COMMUNITY SERVICES-CFD              1\n",
       " DIR OF 311 CITY SERVICES                     1\n",
       " LICENSING COORD                              1\n",
       " CURATOR OF EXHIBITS                          1\n",
       " CHIEF BOILER INSPECTOR                       1\n",
       " Name: Job Titles, Length: 1095, dtype: int64,\n",
       " POLICE                   12973\n",
       " FIRE                      4800\n",
       " STREETS & SAN             2194\n",
       " OEMC                      2044\n",
       " WATER MGMNT               1878\n",
       " AVIATION                  1612\n",
       " TRANSPORTN                1103\n",
       " GENERAL SERVICES           972\n",
       " PUBLIC LIBRARY             932\n",
       " FAMILY & SUPPORT           621\n",
       " FINANCE                    575\n",
       " HEALTH                     516\n",
       " LAW                        405\n",
       " CITY COUNCIL               400\n",
       " BUILDINGS                  266\n",
       " COMMUNITY DEVELOPMENT      214\n",
       " BUSINESS AFFAIRS           168\n",
       " BOARD OF ELECTION          112\n",
       " DoIT                       101\n",
       " PROCUREMENT                 86\n",
       " CITY CLERK                  85\n",
       " MAYOR'S OFFICE              85\n",
       " CULTURAL AFFAIRS            76\n",
       " ANIMAL CONTRL               73\n",
       " HUMAN RESOURCES             68\n",
       " INSPECTOR GEN               63\n",
       " IPRA                        56\n",
       " BUDGET & MGMT               44\n",
       " ADMIN HEARNG                38\n",
       " DISABILITIES                29\n",
       " TREASURER                   24\n",
       " COPA                        17\n",
       " HUMAN RELATIONS             17\n",
       " BOARD OF ETHICS              8\n",
       " POLICE BOARD                 2\n",
       " LICENSE APPL COMM            1\n",
       " Name: Department, dtype: int64)"
      ]
     },
     "execution_count": 16,
     "metadata": {},
     "output_type": "execute_result"
    }
   ],
   "source": [
    "# answer below:\n",
    "chicago['Job Titles'].value_counts(), chicago['Department'].value_counts()\n"
   ]
  },
  {
   "cell_type": "markdown",
   "metadata": {
    "colab_type": "text",
    "id": "S8wwWbE5cSjV"
   },
   "source": [
    "Choose the between department and job title and use the variable with the smallest number of values to for one hot encoding. Additionally, create dummy variables for full ot part-time."
   ]
  },
  {
   "cell_type": "code",
   "execution_count": 19,
   "metadata": {
    "colab": {},
    "colab_type": "code",
    "id": "1Y017CXqcSjV"
   },
   "outputs": [],
   "source": [
    "# answer below:\n",
    "chicago = pd.get_dummies(chicago, columns=['Department', 'Full or Part-Time'], drop_first=True)\n"
   ]
  },
  {
   "cell_type": "markdown",
   "metadata": {
    "colab_type": "text",
    "id": "KH4kKrHVcSjX"
   },
   "source": [
    "Remove all irrelevant columns (Name, Job Titles, Salary or Hourly, Typical Hours, Hourly Rate)"
   ]
  },
  {
   "cell_type": "code",
   "execution_count": 22,
   "metadata": {
    "colab": {},
    "colab_type": "code",
    "id": "h-MaRcptcSjX"
   },
   "outputs": [],
   "source": [
    "# answer below:\n",
    "chicago = chicago.drop(columns=['Name', 'Job Titles', 'Salary or Hourly', 'Typical Hours', 'Hourly Rate'])\n"
   ]
  },
  {
   "cell_type": "markdown",
   "metadata": {
    "colab_type": "text",
    "id": "MttxKtdscSjZ"
   },
   "source": [
    "Check that none of the remaining columns are of object type and convert them to numeric if they are of object type."
   ]
  },
  {
   "cell_type": "code",
   "execution_count": 23,
   "metadata": {
    "colab": {},
    "colab_type": "code",
    "id": "W34P6H5KcSjZ",
    "scrolled": true
   },
   "outputs": [
    {
     "name": "stdout",
     "output_type": "stream",
     "text": [
      "<class 'pandas.core.frame.DataFrame'>\n",
      "RangeIndex: 32658 entries, 0 to 32657\n",
      "Data columns (total 37 columns):\n",
      " #   Column                            Non-Null Count  Dtype \n",
      "---  ------                            --------------  ----- \n",
      " 0   Annual Salary                     24775 non-null  object\n",
      " 1   Department_ANIMAL CONTRL          32658 non-null  uint8 \n",
      " 2   Department_AVIATION               32658 non-null  uint8 \n",
      " 3   Department_BOARD OF ELECTION      32658 non-null  uint8 \n",
      " 4   Department_BOARD OF ETHICS        32658 non-null  uint8 \n",
      " 5   Department_BUDGET & MGMT          32658 non-null  uint8 \n",
      " 6   Department_BUILDINGS              32658 non-null  uint8 \n",
      " 7   Department_BUSINESS AFFAIRS       32658 non-null  uint8 \n",
      " 8   Department_CITY CLERK             32658 non-null  uint8 \n",
      " 9   Department_CITY COUNCIL           32658 non-null  uint8 \n",
      " 10  Department_COMMUNITY DEVELOPMENT  32658 non-null  uint8 \n",
      " 11  Department_COPA                   32658 non-null  uint8 \n",
      " 12  Department_CULTURAL AFFAIRS       32658 non-null  uint8 \n",
      " 13  Department_DISABILITIES           32658 non-null  uint8 \n",
      " 14  Department_DoIT                   32658 non-null  uint8 \n",
      " 15  Department_FAMILY & SUPPORT       32658 non-null  uint8 \n",
      " 16  Department_FINANCE                32658 non-null  uint8 \n",
      " 17  Department_FIRE                   32658 non-null  uint8 \n",
      " 18  Department_GENERAL SERVICES       32658 non-null  uint8 \n",
      " 19  Department_HEALTH                 32658 non-null  uint8 \n",
      " 20  Department_HUMAN RELATIONS        32658 non-null  uint8 \n",
      " 21  Department_HUMAN RESOURCES        32658 non-null  uint8 \n",
      " 22  Department_INSPECTOR GEN          32658 non-null  uint8 \n",
      " 23  Department_IPRA                   32658 non-null  uint8 \n",
      " 24  Department_LAW                    32658 non-null  uint8 \n",
      " 25  Department_LICENSE APPL COMM      32658 non-null  uint8 \n",
      " 26  Department_MAYOR'S OFFICE         32658 non-null  uint8 \n",
      " 27  Department_OEMC                   32658 non-null  uint8 \n",
      " 28  Department_POLICE                 32658 non-null  uint8 \n",
      " 29  Department_POLICE BOARD           32658 non-null  uint8 \n",
      " 30  Department_PROCUREMENT            32658 non-null  uint8 \n",
      " 31  Department_PUBLIC LIBRARY         32658 non-null  uint8 \n",
      " 32  Department_STREETS & SAN          32658 non-null  uint8 \n",
      " 33  Department_TRANSPORTN             32658 non-null  uint8 \n",
      " 34  Department_TREASURER              32658 non-null  uint8 \n",
      " 35  Department_WATER MGMNT            32658 non-null  uint8 \n",
      " 36  Full or Part-Time_P               32658 non-null  uint8 \n",
      "dtypes: object(1), uint8(36)\n",
      "memory usage: 1.4+ MB\n"
     ]
    }
   ],
   "source": [
    "# answer below:\n",
    "chicago.info()\n"
   ]
  },
  {
   "cell_type": "code",
   "execution_count": 27,
   "metadata": {},
   "outputs": [
    {
     "data": {
      "text/plain": [
       "0        107790.0\n",
       "1        104628.0\n",
       "2        114324.0\n",
       "3         76932.0\n",
       "4        111474.0\n",
       "           ...   \n",
       "32653     90024.0\n",
       "32654     48078.0\n",
       "32655     87006.0\n",
       "32656     93354.0\n",
       "32657    115932.0\n",
       "Name: Annual Salary, Length: 32658, dtype: float64"
      ]
     },
     "execution_count": 27,
     "metadata": {},
     "output_type": "execute_result"
    }
   ],
   "source": [
    "chicago['Annual Salary'] = pd.to_numeric(chicago['Annual Salary'].str.replace('$', ''))\n",
    "chicago['Annual Salary']"
   ]
  },
  {
   "cell_type": "markdown",
   "metadata": {
    "colab_type": "text",
    "id": "OrKDy_59cSjb"
   },
   "source": [
    "Split the data into a test and train sample. Use annual salary as the dependent variable. 20% of the data should be assigned to the test sample."
   ]
  },
  {
   "cell_type": "code",
   "execution_count": 33,
   "metadata": {},
   "outputs": [],
   "source": [
    "chicago = chicago.dropna()"
   ]
  },
  {
   "cell_type": "code",
   "execution_count": 34,
   "metadata": {
    "colab": {},
    "colab_type": "code",
    "id": "_s85YxVZcSjb"
   },
   "outputs": [],
   "source": [
    "# answer below:\n",
    "X = chicago.drop(columns='Annual Salary')\n",
    "y = chicago['Annual Salary']\n",
    "\n",
    "X_train, X_test, y_train, y_test = train_test_split(X, y, test_size=0.2, random_state=42)\n"
   ]
  },
  {
   "cell_type": "markdown",
   "metadata": {
    "colab_type": "text",
    "id": "D_paBe77cSjd"
   },
   "source": [
    "Generate a regession decision tree using `DecisionTreeRegressor` in sklearn. Fit the model on the training set and calculate the score for both train and test."
   ]
  },
  {
   "cell_type": "code",
   "execution_count": 35,
   "metadata": {},
   "outputs": [
    {
     "data": {
      "text/plain": [
       "90024.0     2368\n",
       "87006.0     2252\n",
       "93354.0     1390\n",
       "84054.0      765\n",
       "80016.0      754\n",
       "            ... \n",
       "99996.0        1\n",
       "87348.0        1\n",
       "133740.0       1\n",
       "63036.0        1\n",
       "61440.0        1\n",
       "Name: Annual Salary, Length: 1038, dtype: int64"
      ]
     },
     "execution_count": 35,
     "metadata": {},
     "output_type": "execute_result"
    }
   ],
   "source": [
    "chicago['Annual Salary'].value_counts(dropna=False)"
   ]
  },
  {
   "cell_type": "code",
   "execution_count": 36,
   "metadata": {
    "colab": {},
    "colab_type": "code",
    "id": "OkLxsJCwcSjd"
   },
   "outputs": [
    {
     "data": {
      "text/plain": [
       "DecisionTreeRegressor(ccp_alpha=0.0, criterion='mse', max_depth=None,\n",
       "                      max_features=None, max_leaf_nodes=None,\n",
       "                      min_impurity_decrease=0.0, min_impurity_split=None,\n",
       "                      min_samples_leaf=1, min_samples_split=2,\n",
       "                      min_weight_fraction_leaf=0.0, presort='deprecated',\n",
       "                      random_state=None, splitter='best')"
      ]
     },
     "execution_count": 36,
     "metadata": {},
     "output_type": "execute_result"
    }
   ],
   "source": [
    "# answer below:\n",
    "model = DecisionTreeRegressor()\n",
    "\n",
    "model.fit(X_train, y_train)\n"
   ]
  },
  {
   "cell_type": "code",
   "execution_count": 37,
   "metadata": {
    "colab": {},
    "colab_type": "code",
    "id": "APiJlRhIcSjf"
   },
   "outputs": [
    {
     "data": {
      "text/plain": [
       "0.14933243466898605"
      ]
     },
     "execution_count": 37,
     "metadata": {},
     "output_type": "execute_result"
    }
   ],
   "source": [
    "model.score(X_train, y_train)"
   ]
  },
  {
   "cell_type": "code",
   "execution_count": 38,
   "metadata": {},
   "outputs": [
    {
     "data": {
      "text/plain": [
       "0.13417968704133165"
      ]
     },
     "execution_count": 38,
     "metadata": {},
     "output_type": "execute_result"
    }
   ],
   "source": [
    "model.score(X_test, y_test)"
   ]
  },
  {
   "cell_type": "code",
   "execution_count": null,
   "metadata": {},
   "outputs": [],
   "source": []
  }
 ],
 "metadata": {
  "colab": {
   "collapsed_sections": [],
   "name": "Day 29 Lecture 1 Assignment.ipynb",
   "provenance": []
  },
  "kernelspec": {
   "display_name": "Python 3",
   "language": "python",
   "name": "python3"
  },
  "language_info": {
   "codemirror_mode": {
    "name": "ipython",
    "version": 3
   },
   "file_extension": ".py",
   "mimetype": "text/x-python",
   "name": "python",
   "nbconvert_exporter": "python",
   "pygments_lexer": "ipython3",
   "version": "3.7.6"
  }
 },
 "nbformat": 4,
 "nbformat_minor": 1
}
