{
 "cells": [
  {
   "cell_type": "code",
   "execution_count": null,
   "metadata": {},
   "outputs": [],
   "source": []
  },
  {
   "cell_type": "code",
   "execution_count": 1,
   "metadata": {},
   "outputs": [
    {
     "data": {
      "application/javascript": [
       "\n",
       "            setTimeout(function() {\n",
       "                var nbb_cell_id = 1;\n",
       "                var nbb_unformatted_code = \"%reload_ext nb_black\";\n",
       "                var nbb_formatted_code = \"%reload_ext nb_black\";\n",
       "                var nbb_cells = Jupyter.notebook.get_cells();\n",
       "                for (var i = 0; i < nbb_cells.length; ++i) {\n",
       "                    if (nbb_cells[i].input_prompt_number == nbb_cell_id) {\n",
       "                        if (nbb_cells[i].get_text() == nbb_unformatted_code) {\n",
       "                             nbb_cells[i].set_text(nbb_formatted_code);\n",
       "                        }\n",
       "                        break;\n",
       "                    }\n",
       "                }\n",
       "            }, 500);\n",
       "            "
      ],
      "text/plain": [
       "<IPython.core.display.Javascript object>"
      ]
     },
     "metadata": {},
     "output_type": "display_data"
    }
   ],
   "source": [
    "%reload_ext nb_black"
   ]
  },
  {
   "cell_type": "code",
   "execution_count": 2,
   "metadata": {},
   "outputs": [
    {
     "data": {
      "application/javascript": [
       "\n",
       "            setTimeout(function() {\n",
       "                var nbb_cell_id = 2;\n",
       "                var nbb_unformatted_code = \"import warnings\\n\\nimport pandas as pd\\nimport numpy as np\\n\\nfrom sklearn.model_selection import train_test_split, GridSearchCV\\nfrom sklearn.linear_model import Ridge, Lasso, ElasticNet, LinearRegression\\nfrom sklearn.preprocessing import OneHotEncoder, StandardScaler\\nfrom sklearn.compose import ColumnTransformer\\n\\nimport statsmodels.api as sm\\nfrom statsmodels.stats.outliers_influence import variance_inflation_factor\\n\\nimport seaborn as sns\\nimport matplotlib.pyplot as plt\\n\\nfrom sqlalchemy import create_engine\\n\\n%matplotlib inline\";\n",
       "                var nbb_formatted_code = \"import warnings\\n\\nimport pandas as pd\\nimport numpy as np\\n\\nfrom sklearn.model_selection import train_test_split, GridSearchCV\\nfrom sklearn.linear_model import Ridge, Lasso, ElasticNet, LinearRegression\\nfrom sklearn.preprocessing import OneHotEncoder, StandardScaler\\nfrom sklearn.compose import ColumnTransformer\\n\\nimport statsmodels.api as sm\\nfrom statsmodels.stats.outliers_influence import variance_inflation_factor\\n\\nimport seaborn as sns\\nimport matplotlib.pyplot as plt\\n\\nfrom sqlalchemy import create_engine\\n\\n%matplotlib inline\";\n",
       "                var nbb_cells = Jupyter.notebook.get_cells();\n",
       "                for (var i = 0; i < nbb_cells.length; ++i) {\n",
       "                    if (nbb_cells[i].input_prompt_number == nbb_cell_id) {\n",
       "                        if (nbb_cells[i].get_text() == nbb_unformatted_code) {\n",
       "                             nbb_cells[i].set_text(nbb_formatted_code);\n",
       "                        }\n",
       "                        break;\n",
       "                    }\n",
       "                }\n",
       "            }, 500);\n",
       "            "
      ],
      "text/plain": [
       "<IPython.core.display.Javascript object>"
      ]
     },
     "metadata": {},
     "output_type": "display_data"
    }
   ],
   "source": [
    "import warnings\n",
    "\n",
    "import pandas as pd\n",
    "import numpy as np\n",
    "\n",
    "from sklearn.model_selection import train_test_split, GridSearchCV\n",
    "from sklearn.linear_model import Ridge, Lasso, ElasticNet, LinearRegression\n",
    "from sklearn.preprocessing import OneHotEncoder, StandardScaler\n",
    "from sklearn.compose import ColumnTransformer\n",
    "\n",
    "import statsmodels.api as sm\n",
    "from statsmodels.stats.outliers_influence import variance_inflation_factor\n",
    "\n",
    "import seaborn as sns\n",
    "import matplotlib.pyplot as plt\n",
    "\n",
    "from sqlalchemy import create_engine\n",
    "\n",
    "%matplotlib inline"
   ]
  },
  {
   "cell_type": "code",
   "execution_count": 3,
   "metadata": {},
   "outputs": [
    {
     "data": {
      "application/javascript": [
       "\n",
       "            setTimeout(function() {\n",
       "                var nbb_cell_id = 3;\n",
       "                var nbb_unformatted_code = \"def missingness_summary(df, print_log=False, sort=\\\"none\\\"):\\n    summary = df.apply(lambda x: x.isna().sum())\\n    if print_log == True:\\n        if sort == \\\"none\\\":\\n            print(summary)\\n        elif sort == \\\"ascending\\\":\\n            print(summary.sort_values())\\n        elif sort == \\\"descending\\\":\\n            print(summary.sort_values(ascending=False))\\n        else:\\n            print(\\\"Invalid value for sort parameter.\\\")\\n\\n    return\";\n",
       "                var nbb_formatted_code = \"def missingness_summary(df, print_log=False, sort=\\\"none\\\"):\\n    summary = df.apply(lambda x: x.isna().sum())\\n    if print_log == True:\\n        if sort == \\\"none\\\":\\n            print(summary)\\n        elif sort == \\\"ascending\\\":\\n            print(summary.sort_values())\\n        elif sort == \\\"descending\\\":\\n            print(summary.sort_values(ascending=False))\\n        else:\\n            print(\\\"Invalid value for sort parameter.\\\")\\n\\n    return\";\n",
       "                var nbb_cells = Jupyter.notebook.get_cells();\n",
       "                for (var i = 0; i < nbb_cells.length; ++i) {\n",
       "                    if (nbb_cells[i].input_prompt_number == nbb_cell_id) {\n",
       "                        if (nbb_cells[i].get_text() == nbb_unformatted_code) {\n",
       "                             nbb_cells[i].set_text(nbb_formatted_code);\n",
       "                        }\n",
       "                        break;\n",
       "                    }\n",
       "                }\n",
       "            }, 500);\n",
       "            "
      ],
      "text/plain": [
       "<IPython.core.display.Javascript object>"
      ]
     },
     "metadata": {},
     "output_type": "display_data"
    }
   ],
   "source": [
    "def missingness_summary(df, print_log=False, sort=\"none\"):\n",
    "    summary = df.apply(lambda x: x.isna().sum())\n",
    "    if print_log == True:\n",
    "        if sort == \"none\":\n",
    "            print(summary)\n",
    "        elif sort == \"ascending\":\n",
    "            print(summary.sort_values())\n",
    "        elif sort == \"descending\":\n",
    "            print(summary.sort_values(ascending=False))\n",
    "        else:\n",
    "            print(\"Invalid value for sort parameter.\")\n",
    "\n",
    "    return"
   ]
  },
  {
   "cell_type": "code",
   "execution_count": 4,
   "metadata": {},
   "outputs": [
    {
     "data": {
      "application/javascript": [
       "\n",
       "            setTimeout(function() {\n",
       "                var nbb_cell_id = 4;\n",
       "                var nbb_unformatted_code = \"def print_vif(x):\\n    \\\"\\\"\\\"Utility for checking multicollinearity assumption\\n    \\n    :param x: input features to check using VIF. This is assumed to be a pandas.DataFrame\\n    :return: nothing is returned the VIFs are printed as a pandas series\\n    \\\"\\\"\\\"\\n    # Silence numpy FutureWarning about .ptp\\n    with warnings.catch_warnings():\\n        warnings.simplefilter(\\\"ignore\\\")\\n        x = sm.add_constant(x)\\n\\n    vifs = []\\n    for i in range(x.shape[1]):\\n        vif = variance_inflation_factor(x.values, i)\\n        vifs.append(vif)\\n\\n    print(\\\"VIF results\\\\n-------------------------------\\\")\\n    print(pd.Series(vifs, index=x.columns))\\n    print(\\\"-------------------------------\\\\n\\\")\";\n",
       "                var nbb_formatted_code = \"def print_vif(x):\\n    \\\"\\\"\\\"Utility for checking multicollinearity assumption\\n    \\n    :param x: input features to check using VIF. This is assumed to be a pandas.DataFrame\\n    :return: nothing is returned the VIFs are printed as a pandas series\\n    \\\"\\\"\\\"\\n    # Silence numpy FutureWarning about .ptp\\n    with warnings.catch_warnings():\\n        warnings.simplefilter(\\\"ignore\\\")\\n        x = sm.add_constant(x)\\n\\n    vifs = []\\n    for i in range(x.shape[1]):\\n        vif = variance_inflation_factor(x.values, i)\\n        vifs.append(vif)\\n\\n    print(\\\"VIF results\\\\n-------------------------------\\\")\\n    print(pd.Series(vifs, index=x.columns))\\n    print(\\\"-------------------------------\\\\n\\\")\";\n",
       "                var nbb_cells = Jupyter.notebook.get_cells();\n",
       "                for (var i = 0; i < nbb_cells.length; ++i) {\n",
       "                    if (nbb_cells[i].input_prompt_number == nbb_cell_id) {\n",
       "                        if (nbb_cells[i].get_text() == nbb_unformatted_code) {\n",
       "                             nbb_cells[i].set_text(nbb_formatted_code);\n",
       "                        }\n",
       "                        break;\n",
       "                    }\n",
       "                }\n",
       "            }, 500);\n",
       "            "
      ],
      "text/plain": [
       "<IPython.core.display.Javascript object>"
      ]
     },
     "metadata": {},
     "output_type": "display_data"
    }
   ],
   "source": [
    "def print_vif(x):\n",
    "    \"\"\"Utility for checking multicollinearity assumption\n",
    "    \n",
    "    :param x: input features to check using VIF. This is assumed to be a pandas.DataFrame\n",
    "    :return: nothing is returned the VIFs are printed as a pandas series\n",
    "    \"\"\"\n",
    "    # Silence numpy FutureWarning about .ptp\n",
    "    with warnings.catch_warnings():\n",
    "        warnings.simplefilter(\"ignore\")\n",
    "        x = sm.add_constant(x)\n",
    "\n",
    "    vifs = []\n",
    "    for i in range(x.shape[1]):\n",
    "        vif = variance_inflation_factor(x.values, i)\n",
    "        vifs.append(vif)\n",
    "\n",
    "    print(\"VIF results\\n-------------------------------\")\n",
    "    print(pd.Series(vifs, index=x.columns))\n",
    "    print(\"-------------------------------\\n\")"
   ]
  },
  {
   "cell_type": "code",
   "execution_count": 5,
   "metadata": {},
   "outputs": [
    {
     "data": {
      "application/javascript": [
       "\n",
       "            setTimeout(function() {\n",
       "                var nbb_cell_id = 5;\n",
       "                var nbb_unformatted_code = \"postgres_user = \\\"dsbc_student\\\"\\npostgres_pw = \\\"7*.8G9QH21\\\"\\npostgres_host = \\\"142.93.121.174\\\"\\npostgres_port = \\\"5432\\\"\\npostgres_db = \\\"houseprices\\\"\";\n",
       "                var nbb_formatted_code = \"postgres_user = \\\"dsbc_student\\\"\\npostgres_pw = \\\"7*.8G9QH21\\\"\\npostgres_host = \\\"142.93.121.174\\\"\\npostgres_port = \\\"5432\\\"\\npostgres_db = \\\"houseprices\\\"\";\n",
       "                var nbb_cells = Jupyter.notebook.get_cells();\n",
       "                for (var i = 0; i < nbb_cells.length; ++i) {\n",
       "                    if (nbb_cells[i].input_prompt_number == nbb_cell_id) {\n",
       "                        if (nbb_cells[i].get_text() == nbb_unformatted_code) {\n",
       "                             nbb_cells[i].set_text(nbb_formatted_code);\n",
       "                        }\n",
       "                        break;\n",
       "                    }\n",
       "                }\n",
       "            }, 500);\n",
       "            "
      ],
      "text/plain": [
       "<IPython.core.display.Javascript object>"
      ]
     },
     "metadata": {},
     "output_type": "display_data"
    }
   ],
   "source": [
    "postgres_user = \"dsbc_student\"\n",
    "postgres_pw = \"7*.8G9QH21\"\n",
    "postgres_host = \"142.93.121.174\"\n",
    "postgres_port = \"5432\"\n",
    "postgres_db = \"houseprices\""
   ]
  },
  {
   "cell_type": "code",
   "execution_count": 81,
   "metadata": {},
   "outputs": [
    {
     "data": {
      "application/javascript": [
       "\n",
       "            setTimeout(function() {\n",
       "                var nbb_cell_id = 81;\n",
       "                var nbb_unformatted_code = \"engine = create_engine(\\n    \\\"postgresql://{}:{}@{}:{}/{}\\\".format(\\n        postgres_user, postgres_pw, postgres_host, postgres_port, postgres_db\\n    )\\n)\\nhouseprices_df = pd.read_sql_query(\\\"select * from houseprices\\\", con=engine)\\n\\n# no need for an open connection, as we're only doing a single query\\nengine.dispose()\";\n",
       "                var nbb_formatted_code = \"engine = create_engine(\\n    \\\"postgresql://{}:{}@{}:{}/{}\\\".format(\\n        postgres_user, postgres_pw, postgres_host, postgres_port, postgres_db\\n    )\\n)\\nhouseprices_df = pd.read_sql_query(\\\"select * from houseprices\\\", con=engine)\\n\\n# no need for an open connection, as we're only doing a single query\\nengine.dispose()\";\n",
       "                var nbb_cells = Jupyter.notebook.get_cells();\n",
       "                for (var i = 0; i < nbb_cells.length; ++i) {\n",
       "                    if (nbb_cells[i].input_prompt_number == nbb_cell_id) {\n",
       "                        if (nbb_cells[i].get_text() == nbb_unformatted_code) {\n",
       "                             nbb_cells[i].set_text(nbb_formatted_code);\n",
       "                        }\n",
       "                        break;\n",
       "                    }\n",
       "                }\n",
       "            }, 500);\n",
       "            "
      ],
      "text/plain": [
       "<IPython.core.display.Javascript object>"
      ]
     },
     "metadata": {},
     "output_type": "display_data"
    }
   ],
   "source": [
    "engine = create_engine(\n",
    "    \"postgresql://{}:{}@{}:{}/{}\".format(\n",
    "        postgres_user, postgres_pw, postgres_host, postgres_port, postgres_db\n",
    "    )\n",
    ")\n",
    "houseprices_df = pd.read_sql_query(\"select * from houseprices\", con=engine)\n",
    "\n",
    "# no need for an open connection, as we're only doing a single query\n",
    "engine.dispose()"
   ]
  },
  {
   "cell_type": "code",
   "execution_count": 7,
   "metadata": {},
   "outputs": [
    {
     "data": {
      "text/plain": [
       "(1460, 38)"
      ]
     },
     "execution_count": 7,
     "metadata": {},
     "output_type": "execute_result"
    },
    {
     "data": {
      "application/javascript": [
       "\n",
       "            setTimeout(function() {\n",
       "                var nbb_cell_id = 7;\n",
       "                var nbb_unformatted_code = \"houseprices_df.select_dtypes(include=[\\\"number\\\"]).shape\";\n",
       "                var nbb_formatted_code = \"houseprices_df.select_dtypes(include=[\\\"number\\\"]).shape\";\n",
       "                var nbb_cells = Jupyter.notebook.get_cells();\n",
       "                for (var i = 0; i < nbb_cells.length; ++i) {\n",
       "                    if (nbb_cells[i].input_prompt_number == nbb_cell_id) {\n",
       "                        if (nbb_cells[i].get_text() == nbb_unformatted_code) {\n",
       "                             nbb_cells[i].set_text(nbb_formatted_code);\n",
       "                        }\n",
       "                        break;\n",
       "                    }\n",
       "                }\n",
       "            }, 500);\n",
       "            "
      ],
      "text/plain": [
       "<IPython.core.display.Javascript object>"
      ]
     },
     "metadata": {},
     "output_type": "display_data"
    }
   ],
   "source": [
    "houseprices_df.select_dtypes(include=[\"number\"]).shape"
   ]
  },
  {
   "cell_type": "code",
   "execution_count": 8,
   "metadata": {},
   "outputs": [
    {
     "data": {
      "text/plain": [
       "id                 0\n",
       "mssubclass         0\n",
       "mszoning           0\n",
       "lotfrontage      259\n",
       "lotarea            0\n",
       "                ... \n",
       "mosold             0\n",
       "yrsold             0\n",
       "saletype           0\n",
       "salecondition      0\n",
       "saleprice          0\n",
       "Length: 81, dtype: int64"
      ]
     },
     "execution_count": 8,
     "metadata": {},
     "output_type": "execute_result"
    },
    {
     "data": {
      "application/javascript": [
       "\n",
       "            setTimeout(function() {\n",
       "                var nbb_cell_id = 8;\n",
       "                var nbb_unformatted_code = \"houseprices_df.isna().sum()\";\n",
       "                var nbb_formatted_code = \"houseprices_df.isna().sum()\";\n",
       "                var nbb_cells = Jupyter.notebook.get_cells();\n",
       "                for (var i = 0; i < nbb_cells.length; ++i) {\n",
       "                    if (nbb_cells[i].input_prompt_number == nbb_cell_id) {\n",
       "                        if (nbb_cells[i].get_text() == nbb_unformatted_code) {\n",
       "                             nbb_cells[i].set_text(nbb_formatted_code);\n",
       "                        }\n",
       "                        break;\n",
       "                    }\n",
       "                }\n",
       "            }, 500);\n",
       "            "
      ],
      "text/plain": [
       "<IPython.core.display.Javascript object>"
      ]
     },
     "metadata": {},
     "output_type": "display_data"
    }
   ],
   "source": [
    "houseprices_df.isna().sum()"
   ]
  },
  {
   "cell_type": "code",
   "execution_count": 82,
   "metadata": {},
   "outputs": [
    {
     "data": {
      "text/plain": [
       "0"
      ]
     },
     "execution_count": 82,
     "metadata": {},
     "output_type": "execute_result"
    },
    {
     "data": {
      "application/javascript": [
       "\n",
       "            setTimeout(function() {\n",
       "                var nbb_cell_id = 82;\n",
       "                var nbb_unformatted_code = \"houseprices_df['yearbuilt'].isna().sum()\";\n",
       "                var nbb_formatted_code = \"houseprices_df[\\\"yearbuilt\\\"].isna().sum()\";\n",
       "                var nbb_cells = Jupyter.notebook.get_cells();\n",
       "                for (var i = 0; i < nbb_cells.length; ++i) {\n",
       "                    if (nbb_cells[i].input_prompt_number == nbb_cell_id) {\n",
       "                        if (nbb_cells[i].get_text() == nbb_unformatted_code) {\n",
       "                             nbb_cells[i].set_text(nbb_formatted_code);\n",
       "                        }\n",
       "                        break;\n",
       "                    }\n",
       "                }\n",
       "            }, 500);\n",
       "            "
      ],
      "text/plain": [
       "<IPython.core.display.Javascript object>"
      ]
     },
     "metadata": {},
     "output_type": "display_data"
    }
   ],
   "source": [
    "houseprices_df[\"yearbuilt\"].isna().sum()"
   ]
  },
  {
   "cell_type": "code",
   "execution_count": 83,
   "metadata": {},
   "outputs": [
    {
     "data": {
      "text/plain": [
       "<matplotlib.axes._subplots.AxesSubplot at 0x1a2203a190>"
      ]
     },
     "execution_count": 83,
     "metadata": {},
     "output_type": "execute_result"
    },
    {
     "data": {
      "image/png": "[encoded data removed]",
      "text/plain": [
       "<Figure size 432x288 with 1 Axes>"
      ]
     },
     "metadata": {
      "needs_background": "light"
     },
     "output_type": "display_data"
    },
    {
     "data": {
      "application/javascript": [
       "\n",
       "            setTimeout(function() {\n",
       "                var nbb_cell_id = 83;\n",
       "                var nbb_unformatted_code = \"houseprices_df['saleprice'].hist()\";\n",
       "                var nbb_formatted_code = \"houseprices_df[\\\"saleprice\\\"].hist()\";\n",
       "                var nbb_cells = Jupyter.notebook.get_cells();\n",
       "                for (var i = 0; i < nbb_cells.length; ++i) {\n",
       "                    if (nbb_cells[i].input_prompt_number == nbb_cell_id) {\n",
       "                        if (nbb_cells[i].get_text() == nbb_unformatted_code) {\n",
       "                             nbb_cells[i].set_text(nbb_formatted_code);\n",
       "                        }\n",
       "                        break;\n",
       "                    }\n",
       "                }\n",
       "            }, 500);\n",
       "            "
      ],
      "text/plain": [
       "<IPython.core.display.Javascript object>"
      ]
     },
     "metadata": {},
     "output_type": "display_data"
    }
   ],
   "source": [
    "houseprices_df[\"saleprice\"].hist()"
   ]
  },
  {
   "cell_type": "markdown",
   "metadata": {},
   "source": [
    "# Data Cleaning\n",
    "* Drop columns with majority missing information\n",
    "    * `poolqc`, `miscfeature`, `alley`, `fence`\n",
    "* Fill missing values in categorical variable with 'None`"
   ]
  },
  {
   "cell_type": "code",
   "execution_count": 9,
   "metadata": {},
   "outputs": [
    {
     "name": "stdout",
     "output_type": "stream",
     "text": [
      "<class 'pandas.core.frame.DataFrame'>\n",
      "RangeIndex: 1460 entries, 0 to 1459\n",
      "Data columns (total 81 columns):\n",
      " #   Column         Non-Null Count  Dtype  \n",
      "---  ------         --------------  -----  \n",
      " 0   id             1460 non-null   int64  \n",
      " 1   mssubclass     1460 non-null   int64  \n",
      " 2   mszoning       1460 non-null   object \n",
      " 3   lotfrontage    1201 non-null   float64\n",
      " 4   lotarea        1460 non-null   int64  \n",
      " 5   street         1460 non-null   object \n",
      " 6   alley          91 non-null     object \n",
      " 7   lotshape       1460 non-null   object \n",
      " 8   landcontour    1460 non-null   object \n",
      " 9   utilities      1460 non-null   object \n",
      " 10  lotconfig      1460 non-null   object \n",
      " 11  landslope      1460 non-null   object \n",
      " 12  neighborhood   1460 non-null   object \n",
      " 13  condition1     1460 non-null   object \n",
      " 14  condition2     1460 non-null   object \n",
      " 15  bldgtype       1460 non-null   object \n",
      " 16  housestyle     1460 non-null   object \n",
      " 17  overallqual    1460 non-null   int64  \n",
      " 18  overallcond    1460 non-null   int64  \n",
      " 19  yearbuilt      1460 non-null   int64  \n",
      " 20  yearremodadd   1460 non-null   int64  \n",
      " 21  roofstyle      1460 non-null   object \n",
      " 22  roofmatl       1460 non-null   object \n",
      " 23  exterior1st    1460 non-null   object \n",
      " 24  exterior2nd    1460 non-null   object \n",
      " 25  masvnrtype     1452 non-null   object \n",
      " 26  masvnrarea     1452 non-null   float64\n",
      " 27  exterqual      1460 non-null   object \n",
      " 28  extercond      1460 non-null   object \n",
      " 29  foundation     1460 non-null   object \n",
      " 30  bsmtqual       1423 non-null   object \n",
      " 31  bsmtcond       1423 non-null   object \n",
      " 32  bsmtexposure   1422 non-null   object \n",
      " 33  bsmtfintype1   1423 non-null   object \n",
      " 34  bsmtfinsf1     1460 non-null   int64  \n",
      " 35  bsmtfintype2   1422 non-null   object \n",
      " 36  bsmtfinsf2     1460 non-null   int64  \n",
      " 37  bsmtunfsf      1460 non-null   int64  \n",
      " 38  totalbsmtsf    1460 non-null   int64  \n",
      " 39  heating        1460 non-null   object \n",
      " 40  heatingqc      1460 non-null   object \n",
      " 41  centralair     1460 non-null   object \n",
      " 42  electrical     1459 non-null   object \n",
      " 43  firstflrsf     1460 non-null   int64  \n",
      " 44  secondflrsf    1460 non-null   int64  \n",
      " 45  lowqualfinsf   1460 non-null   int64  \n",
      " 46  grlivarea      1460 non-null   int64  \n",
      " 47  bsmtfullbath   1460 non-null   int64  \n",
      " 48  bsmthalfbath   1460 non-null   int64  \n",
      " 49  fullbath       1460 non-null   int64  \n",
      " 50  halfbath       1460 non-null   int64  \n",
      " 51  bedroomabvgr   1460 non-null   int64  \n",
      " 52  kitchenabvgr   1460 non-null   int64  \n",
      " 53  kitchenqual    1460 non-null   object \n",
      " 54  totrmsabvgrd   1460 non-null   int64  \n",
      " 55  functional     1460 non-null   object \n",
      " 56  fireplaces     1460 non-null   int64  \n",
      " 57  fireplacequ    770 non-null    object \n",
      " 58  garagetype     1379 non-null   object \n",
      " 59  garageyrblt    1379 non-null   float64\n",
      " 60  garagefinish   1379 non-null   object \n",
      " 61  garagecars     1460 non-null   int64  \n",
      " 62  garagearea     1460 non-null   int64  \n",
      " 63  garagequal     1379 non-null   object \n",
      " 64  garagecond     1379 non-null   object \n",
      " 65  paveddrive     1460 non-null   object \n",
      " 66  wooddecksf     1460 non-null   int64  \n",
      " 67  openporchsf    1460 non-null   int64  \n",
      " 68  enclosedporch  1460 non-null   int64  \n",
      " 69  threessnporch  1460 non-null   int64  \n",
      " 70  screenporch    1460 non-null   int64  \n",
      " 71  poolarea       1460 non-null   int64  \n",
      " 72  poolqc         7 non-null      object \n",
      " 73  fence          281 non-null    object \n",
      " 74  miscfeature    54 non-null     object \n",
      " 75  miscval        1460 non-null   int64  \n",
      " 76  mosold         1460 non-null   int64  \n",
      " 77  yrsold         1460 non-null   int64  \n",
      " 78  saletype       1460 non-null   object \n",
      " 79  salecondition  1460 non-null   object \n",
      " 80  saleprice      1460 non-null   int64  \n",
      "dtypes: float64(3), int64(35), object(43)\n",
      "memory usage: 924.0+ KB\n"
     ]
    },
    {
     "data": {
      "text/html": [
       "<div>\n",
       "<style scoped>\n",
       "    .dataframe tbody tr th:only-of-type {\n",
       "        vertical-align: middle;\n",
       "    }\n",
       "\n",
       "    .dataframe tbody tr th {\n",
       "        vertical-align: top;\n",
       "    }\n",
       "\n",
       "    .dataframe thead th {\n",
       "        text-align: right;\n",
       "    }\n",
       "</style>\n",
       "<table border=\"1\" class=\"dataframe\">\n",
       "  <thead>\n",
       "    <tr style=\"text-align: right;\">\n",
       "      <th></th>\n",
       "      <th>id</th>\n",
       "      <th>mssubclass</th>\n",
       "      <th>mszoning</th>\n",
       "      <th>lotfrontage</th>\n",
       "      <th>lotarea</th>\n",
       "      <th>street</th>\n",
       "      <th>alley</th>\n",
       "      <th>lotshape</th>\n",
       "      <th>landcontour</th>\n",
       "      <th>utilities</th>\n",
       "      <th>...</th>\n",
       "      <th>poolarea</th>\n",
       "      <th>poolqc</th>\n",
       "      <th>fence</th>\n",
       "      <th>miscfeature</th>\n",
       "      <th>miscval</th>\n",
       "      <th>mosold</th>\n",
       "      <th>yrsold</th>\n",
       "      <th>saletype</th>\n",
       "      <th>salecondition</th>\n",
       "      <th>saleprice</th>\n",
       "    </tr>\n",
       "  </thead>\n",
       "  <tbody>\n",
       "    <tr>\n",
       "      <th>0</th>\n",
       "      <td>1</td>\n",
       "      <td>60</td>\n",
       "      <td>RL</td>\n",
       "      <td>65.0</td>\n",
       "      <td>8450</td>\n",
       "      <td>Pave</td>\n",
       "      <td>None</td>\n",
       "      <td>Reg</td>\n",
       "      <td>Lvl</td>\n",
       "      <td>AllPub</td>\n",
       "      <td>...</td>\n",
       "      <td>0</td>\n",
       "      <td>None</td>\n",
       "      <td>None</td>\n",
       "      <td>None</td>\n",
       "      <td>0</td>\n",
       "      <td>2</td>\n",
       "      <td>2008</td>\n",
       "      <td>WD</td>\n",
       "      <td>Normal</td>\n",
       "      <td>208500</td>\n",
       "    </tr>\n",
       "    <tr>\n",
       "      <th>1</th>\n",
       "      <td>2</td>\n",
       "      <td>20</td>\n",
       "      <td>RL</td>\n",
       "      <td>80.0</td>\n",
       "      <td>9600</td>\n",
       "      <td>Pave</td>\n",
       "      <td>None</td>\n",
       "      <td>Reg</td>\n",
       "      <td>Lvl</td>\n",
       "      <td>AllPub</td>\n",
       "      <td>...</td>\n",
       "      <td>0</td>\n",
       "      <td>None</td>\n",
       "      <td>None</td>\n",
       "      <td>None</td>\n",
       "      <td>0</td>\n",
       "      <td>5</td>\n",
       "      <td>2007</td>\n",
       "      <td>WD</td>\n",
       "      <td>Normal</td>\n",
       "      <td>181500</td>\n",
       "    </tr>\n",
       "    <tr>\n",
       "      <th>2</th>\n",
       "      <td>3</td>\n",
       "      <td>60</td>\n",
       "      <td>RL</td>\n",
       "      <td>68.0</td>\n",
       "      <td>11250</td>\n",
       "      <td>Pave</td>\n",
       "      <td>None</td>\n",
       "      <td>IR1</td>\n",
       "      <td>Lvl</td>\n",
       "      <td>AllPub</td>\n",
       "      <td>...</td>\n",
       "      <td>0</td>\n",
       "      <td>None</td>\n",
       "      <td>None</td>\n",
       "      <td>None</td>\n",
       "      <td>0</td>\n",
       "      <td>9</td>\n",
       "      <td>2008</td>\n",
       "      <td>WD</td>\n",
       "      <td>Normal</td>\n",
       "      <td>223500</td>\n",
       "    </tr>\n",
       "    <tr>\n",
       "      <th>3</th>\n",
       "      <td>4</td>\n",
       "      <td>70</td>\n",
       "      <td>RL</td>\n",
       "      <td>60.0</td>\n",
       "      <td>9550</td>\n",
       "      <td>Pave</td>\n",
       "      <td>None</td>\n",
       "      <td>IR1</td>\n",
       "      <td>Lvl</td>\n",
       "      <td>AllPub</td>\n",
       "      <td>...</td>\n",
       "      <td>0</td>\n",
       "      <td>None</td>\n",
       "      <td>None</td>\n",
       "      <td>None</td>\n",
       "      <td>0</td>\n",
       "      <td>2</td>\n",
       "      <td>2006</td>\n",
       "      <td>WD</td>\n",
       "      <td>Abnorml</td>\n",
       "      <td>140000</td>\n",
       "    </tr>\n",
       "    <tr>\n",
       "      <th>4</th>\n",
       "      <td>5</td>\n",
       "      <td>60</td>\n",
       "      <td>RL</td>\n",
       "      <td>84.0</td>\n",
       "      <td>14260</td>\n",
       "      <td>Pave</td>\n",
       "      <td>None</td>\n",
       "      <td>IR1</td>\n",
       "      <td>Lvl</td>\n",
       "      <td>AllPub</td>\n",
       "      <td>...</td>\n",
       "      <td>0</td>\n",
       "      <td>None</td>\n",
       "      <td>None</td>\n",
       "      <td>None</td>\n",
       "      <td>0</td>\n",
       "      <td>12</td>\n",
       "      <td>2008</td>\n",
       "      <td>WD</td>\n",
       "      <td>Normal</td>\n",
       "      <td>250000</td>\n",
       "    </tr>\n",
       "  </tbody>\n",
       "</table>\n",
       "<p>5 rows × 81 columns</p>\n",
       "</div>"
      ],
      "text/plain": [
       "   id  mssubclass mszoning  lotfrontage  lotarea street alley lotshape  \\\n",
       "0   1          60       RL         65.0     8450   Pave  None      Reg   \n",
       "1   2          20       RL         80.0     9600   Pave  None      Reg   \n",
       "2   3          60       RL         68.0    11250   Pave  None      IR1   \n",
       "3   4          70       RL         60.0     9550   Pave  None      IR1   \n",
       "4   5          60       RL         84.0    14260   Pave  None      IR1   \n",
       "\n",
       "  landcontour utilities  ... poolarea poolqc fence miscfeature miscval mosold  \\\n",
       "0         Lvl    AllPub  ...        0   None  None        None       0      2   \n",
       "1         Lvl    AllPub  ...        0   None  None        None       0      5   \n",
       "2         Lvl    AllPub  ...        0   None  None        None       0      9   \n",
       "3         Lvl    AllPub  ...        0   None  None        None       0      2   \n",
       "4         Lvl    AllPub  ...        0   None  None        None       0     12   \n",
       "\n",
       "  yrsold  saletype  salecondition  saleprice  \n",
       "0   2008        WD         Normal     208500  \n",
       "1   2007        WD         Normal     181500  \n",
       "2   2008        WD         Normal     223500  \n",
       "3   2006        WD        Abnorml     140000  \n",
       "4   2008        WD         Normal     250000  \n",
       "\n",
       "[5 rows x 81 columns]"
      ]
     },
     "execution_count": 9,
     "metadata": {},
     "output_type": "execute_result"
    },
    {
     "data": {
      "application/javascript": [
       "\n",
       "            setTimeout(function() {\n",
       "                var nbb_cell_id = 9;\n",
       "                var nbb_unformatted_code = \"houseprices_df.info()\\nhouseprices_df.head(5)\";\n",
       "                var nbb_formatted_code = \"houseprices_df.info()\\nhouseprices_df.head(5)\";\n",
       "                var nbb_cells = Jupyter.notebook.get_cells();\n",
       "                for (var i = 0; i < nbb_cells.length; ++i) {\n",
       "                    if (nbb_cells[i].input_prompt_number == nbb_cell_id) {\n",
       "                        if (nbb_cells[i].get_text() == nbb_unformatted_code) {\n",
       "                             nbb_cells[i].set_text(nbb_formatted_code);\n",
       "                        }\n",
       "                        break;\n",
       "                    }\n",
       "                }\n",
       "            }, 500);\n",
       "            "
      ],
      "text/plain": [
       "<IPython.core.display.Javascript object>"
      ]
     },
     "metadata": {},
     "output_type": "display_data"
    }
   ],
   "source": [
    "houseprices_df.info()\n",
    "houseprices_df.head(5)"
   ]
  },
  {
   "cell_type": "code",
   "execution_count": 10,
   "metadata": {},
   "outputs": [
    {
     "name": "stdout",
     "output_type": "stream",
     "text": [
      "poolqc           1453\n",
      "miscfeature      1406\n",
      "alley            1369\n",
      "fence            1179\n",
      "fireplacequ       690\n",
      "                 ... \n",
      "centralair          0\n",
      "salecondition       0\n",
      "heating             0\n",
      "totalbsmtsf         0\n",
      "id                  0\n",
      "Length: 81, dtype: int64\n"
     ]
    },
    {
     "data": {
      "application/javascript": [
       "\n",
       "            setTimeout(function() {\n",
       "                var nbb_cell_id = 10;\n",
       "                var nbb_unformatted_code = \"missingness_summary(houseprices_df, print_log=True, sort=\\\"descending\\\")\";\n",
       "                var nbb_formatted_code = \"missingness_summary(houseprices_df, print_log=True, sort=\\\"descending\\\")\";\n",
       "                var nbb_cells = Jupyter.notebook.get_cells();\n",
       "                for (var i = 0; i < nbb_cells.length; ++i) {\n",
       "                    if (nbb_cells[i].input_prompt_number == nbb_cell_id) {\n",
       "                        if (nbb_cells[i].get_text() == nbb_unformatted_code) {\n",
       "                             nbb_cells[i].set_text(nbb_formatted_code);\n",
       "                        }\n",
       "                        break;\n",
       "                    }\n",
       "                }\n",
       "            }, 500);\n",
       "            "
      ],
      "text/plain": [
       "<IPython.core.display.Javascript object>"
      ]
     },
     "metadata": {},
     "output_type": "display_data"
    }
   ],
   "source": [
    "missingness_summary(houseprices_df, print_log=True, sort=\"descending\")"
   ]
  },
  {
   "cell_type": "code",
   "execution_count": 11,
   "metadata": {},
   "outputs": [
    {
     "data": {
      "application/javascript": [
       "\n",
       "            setTimeout(function() {\n",
       "                var nbb_cell_id = 11;\n",
       "                var nbb_unformatted_code = \"houseprices_df = houseprices_df.drop(\\n    columns=[\\\"poolqc\\\", \\\"miscfeature\\\", \\\"alley\\\", \\\"fence\\\"], axis=1\\n)\";\n",
       "                var nbb_formatted_code = \"houseprices_df = houseprices_df.drop(\\n    columns=[\\\"poolqc\\\", \\\"miscfeature\\\", \\\"alley\\\", \\\"fence\\\"], axis=1\\n)\";\n",
       "                var nbb_cells = Jupyter.notebook.get_cells();\n",
       "                for (var i = 0; i < nbb_cells.length; ++i) {\n",
       "                    if (nbb_cells[i].input_prompt_number == nbb_cell_id) {\n",
       "                        if (nbb_cells[i].get_text() == nbb_unformatted_code) {\n",
       "                             nbb_cells[i].set_text(nbb_formatted_code);\n",
       "                        }\n",
       "                        break;\n",
       "                    }\n",
       "                }\n",
       "            }, 500);\n",
       "            "
      ],
      "text/plain": [
       "<IPython.core.display.Javascript object>"
      ]
     },
     "metadata": {},
     "output_type": "display_data"
    }
   ],
   "source": [
    "houseprices_df = houseprices_df.drop(\n",
    "    columns=[\"poolqc\", \"miscfeature\", \"alley\", \"fence\"], axis=1\n",
    ")"
   ]
  },
  {
   "cell_type": "code",
   "execution_count": 12,
   "metadata": {},
   "outputs": [
    {
     "name": "stdout",
     "output_type": "stream",
     "text": [
      "fireplacequ      690\n",
      "garagecond        81\n",
      "garagequal        81\n",
      "garagefinish      81\n",
      "garagetype        81\n",
      "bsmtexposure      38\n",
      "bsmtfintype2      38\n",
      "bsmtqual          37\n",
      "bsmtfintype1      37\n",
      "bsmtcond          37\n",
      "masvnrtype         8\n",
      "electrical         1\n",
      "condition1         0\n",
      "neighborhood       0\n",
      "condition2         0\n",
      "bldgtype           0\n",
      "salecondition      0\n",
      "lotconfig          0\n",
      "landslope          0\n",
      "roofstyle          0\n",
      "utilities          0\n",
      "landcontour        0\n",
      "lotshape           0\n",
      "street             0\n",
      "housestyle         0\n",
      "foundation         0\n",
      "roofmatl           0\n",
      "exterior1st        0\n",
      "exterior2nd        0\n",
      "exterqual          0\n",
      "extercond          0\n",
      "saletype           0\n",
      "heating            0\n",
      "heatingqc          0\n",
      "centralair         0\n",
      "kitchenqual        0\n",
      "functional         0\n",
      "paveddrive         0\n",
      "mszoning           0\n",
      "dtype: int64\n"
     ]
    },
    {
     "data": {
      "application/javascript": [
       "\n",
       "            setTimeout(function() {\n",
       "                var nbb_cell_id = 12;\n",
       "                var nbb_unformatted_code = \"missingness_summary(\\n    houseprices_df.select_dtypes(include=[\\\"object\\\"]), print_log=True, sort=\\\"descending\\\"\\n)\\n\\nmissing_cat_cols = [\\n    \\\"fireplacequ\\\",\\n    \\\"garagecond\\\",\\n    \\\"garagequal\\\",\\n    \\\"garagefinish\\\",\\n    \\\"garagetype\\\",\\n    \\\"bsmtexposure\\\",\\n    \\\"bsmtfintype2\\\",\\n    \\\"bsmtqual\\\",\\n    \\\"bsmtfintype1\\\",\\n    \\\"bsmtcond\\\",\\n    \\\"masvnrtype\\\",\\n    # \\\"electrical\\\",  # most common not none\\n]\";\n",
       "                var nbb_formatted_code = \"missingness_summary(\\n    houseprices_df.select_dtypes(include=[\\\"object\\\"]), print_log=True, sort=\\\"descending\\\"\\n)\\n\\nmissing_cat_cols = [\\n    \\\"fireplacequ\\\",\\n    \\\"garagecond\\\",\\n    \\\"garagequal\\\",\\n    \\\"garagefinish\\\",\\n    \\\"garagetype\\\",\\n    \\\"bsmtexposure\\\",\\n    \\\"bsmtfintype2\\\",\\n    \\\"bsmtqual\\\",\\n    \\\"bsmtfintype1\\\",\\n    \\\"bsmtcond\\\",\\n    \\\"masvnrtype\\\",\\n    # \\\"electrical\\\",  # most common not none\\n]\";\n",
       "                var nbb_cells = Jupyter.notebook.get_cells();\n",
       "                for (var i = 0; i < nbb_cells.length; ++i) {\n",
       "                    if (nbb_cells[i].input_prompt_number == nbb_cell_id) {\n",
       "                        if (nbb_cells[i].get_text() == nbb_unformatted_code) {\n",
       "                             nbb_cells[i].set_text(nbb_formatted_code);\n",
       "                        }\n",
       "                        break;\n",
       "                    }\n",
       "                }\n",
       "            }, 500);\n",
       "            "
      ],
      "text/plain": [
       "<IPython.core.display.Javascript object>"
      ]
     },
     "metadata": {},
     "output_type": "display_data"
    }
   ],
   "source": [
    "missingness_summary(\n",
    "    houseprices_df.select_dtypes(include=[\"object\"]), print_log=True, sort=\"descending\"\n",
    ")\n",
    "\n",
    "missing_cat_cols = [\n",
    "    \"fireplacequ\",\n",
    "    \"garagecond\",\n",
    "    \"garagequal\",\n",
    "    \"garagefinish\",\n",
    "    \"garagetype\",\n",
    "    \"bsmtexposure\",\n",
    "    \"bsmtfintype2\",\n",
    "    \"bsmtqual\",\n",
    "    \"bsmtfintype1\",\n",
    "    \"bsmtcond\",\n",
    "    \"masvnrtype\",\n",
    "    # \"electrical\",  # most common not none\n",
    "]"
   ]
  },
  {
   "cell_type": "code",
   "execution_count": 13,
   "metadata": {},
   "outputs": [
    {
     "name": "stdout",
     "output_type": "stream",
     "text": [
      "NaN    690\n",
      "Gd     380\n",
      "TA     313\n",
      "Fa      33\n",
      "Ex      24\n",
      "Po      20\n",
      "Name: fireplacequ, dtype: int64\n",
      "TA     1326\n",
      "NaN      81\n",
      "Fa       35\n",
      "Gd        9\n",
      "Po        7\n",
      "Ex        2\n",
      "Name: garagecond, dtype: int64\n",
      "TA     1311\n",
      "NaN      81\n",
      "Fa       48\n",
      "Gd       14\n",
      "Ex        3\n",
      "Po        3\n",
      "Name: garagequal, dtype: int64\n",
      "Unf    605\n",
      "RFn    422\n",
      "Fin    352\n",
      "NaN     81\n",
      "Name: garagefinish, dtype: int64\n",
      "Attchd     870\n",
      "Detchd     387\n",
      "BuiltIn     88\n",
      "NaN         81\n",
      "Basment     19\n",
      "CarPort      9\n",
      "2Types       6\n",
      "Name: garagetype, dtype: int64\n",
      "No     953\n",
      "Av     221\n",
      "Gd     134\n",
      "Mn     114\n",
      "NaN     38\n",
      "Name: bsmtexposure, dtype: int64\n",
      "Unf    1256\n",
      "Rec      54\n",
      "LwQ      46\n",
      "NaN      38\n",
      "BLQ      33\n",
      "ALQ      19\n",
      "GLQ      14\n",
      "Name: bsmtfintype2, dtype: int64\n",
      "TA     649\n",
      "Gd     618\n",
      "Ex     121\n",
      "NaN     37\n",
      "Fa      35\n",
      "Name: bsmtqual, dtype: int64\n",
      "Unf    430\n",
      "GLQ    418\n",
      "ALQ    220\n",
      "BLQ    148\n",
      "Rec    133\n",
      "LwQ     74\n",
      "NaN     37\n",
      "Name: bsmtfintype1, dtype: int64\n",
      "TA     1311\n",
      "Gd       65\n",
      "Fa       45\n",
      "NaN      37\n",
      "Po        2\n",
      "Name: bsmtcond, dtype: int64\n",
      "None       864\n",
      "BrkFace    445\n",
      "Stone      128\n",
      "BrkCmn      15\n",
      "NaN          8\n",
      "Name: masvnrtype, dtype: int64\n"
     ]
    },
    {
     "data": {
      "application/javascript": [
       "\n",
       "            setTimeout(function() {\n",
       "                var nbb_cell_id = 13;\n",
       "                var nbb_unformatted_code = \"for col in missing_cat_cols:\\n    print(houseprices_df[col].value_counts(dropna=False))\";\n",
       "                var nbb_formatted_code = \"for col in missing_cat_cols:\\n    print(houseprices_df[col].value_counts(dropna=False))\";\n",
       "                var nbb_cells = Jupyter.notebook.get_cells();\n",
       "                for (var i = 0; i < nbb_cells.length; ++i) {\n",
       "                    if (nbb_cells[i].input_prompt_number == nbb_cell_id) {\n",
       "                        if (nbb_cells[i].get_text() == nbb_unformatted_code) {\n",
       "                             nbb_cells[i].set_text(nbb_formatted_code);\n",
       "                        }\n",
       "                        break;\n",
       "                    }\n",
       "                }\n",
       "            }, 500);\n",
       "            "
      ],
      "text/plain": [
       "<IPython.core.display.Javascript object>"
      ]
     },
     "metadata": {},
     "output_type": "display_data"
    }
   ],
   "source": [
    "for col in missing_cat_cols:\n",
    "    print(houseprices_df[col].value_counts(dropna=False))"
   ]
  },
  {
   "cell_type": "code",
   "execution_count": 14,
   "metadata": {
    "scrolled": true
   },
   "outputs": [
    {
     "data": {
      "application/javascript": [
       "\n",
       "            setTimeout(function() {\n",
       "                var nbb_cell_id = 14;\n",
       "                var nbb_unformatted_code = \"houseprices_df[missing_cat_cols] = houseprices_df[missing_cat_cols].fillna(value=\\\"None\\\")\\nhouseprices_df[\\\"electrical\\\"] = houseprices_df[\\\"electrical\\\"].fillna(value=\\\"SBrkr\\\")\";\n",
       "                var nbb_formatted_code = \"houseprices_df[missing_cat_cols] = houseprices_df[missing_cat_cols].fillna(value=\\\"None\\\")\\nhouseprices_df[\\\"electrical\\\"] = houseprices_df[\\\"electrical\\\"].fillna(value=\\\"SBrkr\\\")\";\n",
       "                var nbb_cells = Jupyter.notebook.get_cells();\n",
       "                for (var i = 0; i < nbb_cells.length; ++i) {\n",
       "                    if (nbb_cells[i].input_prompt_number == nbb_cell_id) {\n",
       "                        if (nbb_cells[i].get_text() == nbb_unformatted_code) {\n",
       "                             nbb_cells[i].set_text(nbb_formatted_code);\n",
       "                        }\n",
       "                        break;\n",
       "                    }\n",
       "                }\n",
       "            }, 500);\n",
       "            "
      ],
      "text/plain": [
       "<IPython.core.display.Javascript object>"
      ]
     },
     "metadata": {},
     "output_type": "display_data"
    }
   ],
   "source": [
    "houseprices_df[missing_cat_cols] = houseprices_df[missing_cat_cols].fillna(value=\"None\")\n",
    "houseprices_df[\"electrical\"] = houseprices_df[\"electrical\"].fillna(value=\"SBrkr\")"
   ]
  },
  {
   "cell_type": "code",
   "execution_count": 15,
   "metadata": {},
   "outputs": [
    {
     "name": "stdout",
     "output_type": "stream",
     "text": [
      "lotfrontage      259\n",
      "garageyrblt       81\n",
      "masvnrarea         8\n",
      "bsmtfinsf1         0\n",
      "lowqualfinsf       0\n",
      "secondflrsf        0\n",
      "firstflrsf         0\n",
      "totalbsmtsf        0\n",
      "bsmtunfsf          0\n",
      "bsmtfinsf2         0\n",
      "saleprice          0\n",
      "bsmtfullbath       0\n",
      "yearremodadd       0\n",
      "yearbuilt          0\n",
      "overallcond        0\n",
      "overallqual        0\n",
      "lotarea            0\n",
      "mssubclass         0\n",
      "grlivarea          0\n",
      "bsmthalfbath       0\n",
      "yrsold             0\n",
      "fullbath           0\n",
      "mosold             0\n",
      "miscval            0\n",
      "poolarea           0\n",
      "screenporch        0\n",
      "threessnporch      0\n",
      "enclosedporch      0\n",
      "openporchsf        0\n",
      "wooddecksf         0\n",
      "garagearea         0\n",
      "garagecars         0\n",
      "fireplaces         0\n",
      "totrmsabvgrd       0\n",
      "kitchenabvgr       0\n",
      "bedroomabvgr       0\n",
      "halfbath           0\n",
      "id                 0\n",
      "dtype: int64\n"
     ]
    },
    {
     "data": {
      "application/javascript": [
       "\n",
       "            setTimeout(function() {\n",
       "                var nbb_cell_id = 15;\n",
       "                var nbb_unformatted_code = \"missingness_summary(\\n    houseprices_df.select_dtypes(exclude=[\\\"object\\\"]), print_log=True, sort=\\\"descending\\\"\\n)\";\n",
       "                var nbb_formatted_code = \"missingness_summary(\\n    houseprices_df.select_dtypes(exclude=[\\\"object\\\"]), print_log=True, sort=\\\"descending\\\"\\n)\";\n",
       "                var nbb_cells = Jupyter.notebook.get_cells();\n",
       "                for (var i = 0; i < nbb_cells.length; ++i) {\n",
       "                    if (nbb_cells[i].input_prompt_number == nbb_cell_id) {\n",
       "                        if (nbb_cells[i].get_text() == nbb_unformatted_code) {\n",
       "                             nbb_cells[i].set_text(nbb_formatted_code);\n",
       "                        }\n",
       "                        break;\n",
       "                    }\n",
       "                }\n",
       "            }, 500);\n",
       "            "
      ],
      "text/plain": [
       "<IPython.core.display.Javascript object>"
      ]
     },
     "metadata": {},
     "output_type": "display_data"
    }
   ],
   "source": [
    "missingness_summary(\n",
    "    houseprices_df.select_dtypes(exclude=[\"object\"]), print_log=True, sort=\"descending\"\n",
    ")"
   ]
  },
  {
   "cell_type": "code",
   "execution_count": 16,
   "metadata": {},
   "outputs": [
    {
     "data": {
      "application/javascript": [
       "\n",
       "            setTimeout(function() {\n",
       "                var nbb_cell_id = 16;\n",
       "                var nbb_unformatted_code = \"# borrowed from kaggle, fills with median values\\nhouseprices_df['garageyrblt'] = houseprices_df['garageyrblt'].fillna(houseprices_df['yrsold']-35)\\nhouseprices_df['lotfrontage'] = houseprices_df['lotfrontage'].fillna(68)\";\n",
       "                var nbb_formatted_code = \"# borrowed from kaggle, fills with median values\\nhouseprices_df[\\\"garageyrblt\\\"] = houseprices_df[\\\"garageyrblt\\\"].fillna(\\n    houseprices_df[\\\"yrsold\\\"] - 35\\n)\\nhouseprices_df[\\\"lotfrontage\\\"] = houseprices_df[\\\"lotfrontage\\\"].fillna(68)\";\n",
       "                var nbb_cells = Jupyter.notebook.get_cells();\n",
       "                for (var i = 0; i < nbb_cells.length; ++i) {\n",
       "                    if (nbb_cells[i].input_prompt_number == nbb_cell_id) {\n",
       "                        if (nbb_cells[i].get_text() == nbb_unformatted_code) {\n",
       "                             nbb_cells[i].set_text(nbb_formatted_code);\n",
       "                        }\n",
       "                        break;\n",
       "                    }\n",
       "                }\n",
       "            }, 500);\n",
       "            "
      ],
      "text/plain": [
       "<IPython.core.display.Javascript object>"
      ]
     },
     "metadata": {},
     "output_type": "display_data"
    }
   ],
   "source": [
    "# borrowed from kaggle, fills with median values\n",
    "houseprices_df['garageyrblt'] = houseprices_df['garageyrblt'].fillna(houseprices_df['yrsold']-35)\n",
    "houseprices_df['lotfrontage'] = houseprices_df['lotfrontage'].fillna(68)\n"
   ]
  },
  {
   "cell_type": "code",
   "execution_count": 17,
   "metadata": {},
   "outputs": [
    {
     "name": "stdout",
     "output_type": "stream",
     "text": [
      "masvnrarea      8\n",
      "saleprice       0\n",
      "extercond       0\n",
      "roofstyle       0\n",
      "roofmatl        0\n",
      "               ..\n",
      "kitchenabvgr    0\n",
      "kitchenqual     0\n",
      "totrmsabvgrd    0\n",
      "functional      0\n",
      "id              0\n",
      "Length: 77, dtype: int64\n"
     ]
    },
    {
     "data": {
      "application/javascript": [
       "\n",
       "            setTimeout(function() {\n",
       "                var nbb_cell_id = 17;\n",
       "                var nbb_unformatted_code = \"missingness_summary(houseprices_df, print_log=True, sort=\\\"descending\\\")\";\n",
       "                var nbb_formatted_code = \"missingness_summary(houseprices_df, print_log=True, sort=\\\"descending\\\")\";\n",
       "                var nbb_cells = Jupyter.notebook.get_cells();\n",
       "                for (var i = 0; i < nbb_cells.length; ++i) {\n",
       "                    if (nbb_cells[i].input_prompt_number == nbb_cell_id) {\n",
       "                        if (nbb_cells[i].get_text() == nbb_unformatted_code) {\n",
       "                             nbb_cells[i].set_text(nbb_formatted_code);\n",
       "                        }\n",
       "                        break;\n",
       "                    }\n",
       "                }\n",
       "            }, 500);\n",
       "            "
      ],
      "text/plain": [
       "<IPython.core.display.Javascript object>"
      ]
     },
     "metadata": {},
     "output_type": "display_data"
    }
   ],
   "source": [
    "missingness_summary(houseprices_df, print_log=True, sort=\"descending\")"
   ]
  },
  {
   "cell_type": "code",
   "execution_count": 18,
   "metadata": {},
   "outputs": [
    {
     "data": {
      "application/javascript": [
       "\n",
       "            setTimeout(function() {\n",
       "                var nbb_cell_id = 18;\n",
       "                var nbb_unformatted_code = \"houseprices_df[\\\"masvnrtype\\\"] = houseprices_df[\\\"masvnrtype\\\"].fillna(value=0)\\nhouseprices_df[\\\"masvnrarea\\\"] = houseprices_df[\\\"masvnrarea\\\"].fillna(value=0)\";\n",
       "                var nbb_formatted_code = \"houseprices_df[\\\"masvnrtype\\\"] = houseprices_df[\\\"masvnrtype\\\"].fillna(value=0)\\nhouseprices_df[\\\"masvnrarea\\\"] = houseprices_df[\\\"masvnrarea\\\"].fillna(value=0)\";\n",
       "                var nbb_cells = Jupyter.notebook.get_cells();\n",
       "                for (var i = 0; i < nbb_cells.length; ++i) {\n",
       "                    if (nbb_cells[i].input_prompt_number == nbb_cell_id) {\n",
       "                        if (nbb_cells[i].get_text() == nbb_unformatted_code) {\n",
       "                             nbb_cells[i].set_text(nbb_formatted_code);\n",
       "                        }\n",
       "                        break;\n",
       "                    }\n",
       "                }\n",
       "            }, 500);\n",
       "            "
      ],
      "text/plain": [
       "<IPython.core.display.Javascript object>"
      ]
     },
     "metadata": {},
     "output_type": "display_data"
    }
   ],
   "source": [
    "houseprices_df[\"masvnrtype\"] = houseprices_df[\"masvnrtype\"].fillna(value=0)\n",
    "houseprices_df[\"masvnrarea\"] = houseprices_df[\"masvnrarea\"].fillna(value=0)"
   ]
  },
  {
   "cell_type": "markdown",
   "metadata": {},
   "source": [
    "# Feature Engineering and Selection"
   ]
  },
  {
   "cell_type": "code",
   "execution_count": 19,
   "metadata": {},
   "outputs": [
    {
     "data": {
      "application/javascript": [
       "\n",
       "            setTimeout(function() {\n",
       "                var nbb_cell_id = 19;\n",
       "                var nbb_unformatted_code = \"houseprices_df[\\\"houseage\\\"] = houseprices_df[\\\"yrsold\\\"] - houseprices_df[\\\"yearbuilt\\\"]\\nhouseprices_df[\\\"total_baths\\\"] = (\\n    houseprices_df[\\\"fullbath\\\"]\\n    + 0.5 * houseprices_df[\\\"halfbath\\\"]\\n    + houseprices_df[\\\"bsmtfullbath\\\"]\\n    + 0.5 * houseprices_df[\\\"bsmthalfbath\\\"]\\n)\\n\\nhouseprices_df[\\\"totalarea\\\"] = (\\n    houseprices_df[\\\"totalbsmtsf\\\"]\\n    + houseprices_df[\\\"firstflrsf\\\"]\\n    + houseprices_df[\\\"secondflrsf\\\"]\\n)\";\n",
       "                var nbb_formatted_code = \"houseprices_df[\\\"houseage\\\"] = houseprices_df[\\\"yrsold\\\"] - houseprices_df[\\\"yearbuilt\\\"]\\nhouseprices_df[\\\"total_baths\\\"] = (\\n    houseprices_df[\\\"fullbath\\\"]\\n    + 0.5 * houseprices_df[\\\"halfbath\\\"]\\n    + houseprices_df[\\\"bsmtfullbath\\\"]\\n    + 0.5 * houseprices_df[\\\"bsmthalfbath\\\"]\\n)\\n\\nhouseprices_df[\\\"totalarea\\\"] = (\\n    houseprices_df[\\\"totalbsmtsf\\\"]\\n    + houseprices_df[\\\"firstflrsf\\\"]\\n    + houseprices_df[\\\"secondflrsf\\\"]\\n)\";\n",
       "                var nbb_cells = Jupyter.notebook.get_cells();\n",
       "                for (var i = 0; i < nbb_cells.length; ++i) {\n",
       "                    if (nbb_cells[i].input_prompt_number == nbb_cell_id) {\n",
       "                        if (nbb_cells[i].get_text() == nbb_unformatted_code) {\n",
       "                             nbb_cells[i].set_text(nbb_formatted_code);\n",
       "                        }\n",
       "                        break;\n",
       "                    }\n",
       "                }\n",
       "            }, 500);\n",
       "            "
      ],
      "text/plain": [
       "<IPython.core.display.Javascript object>"
      ]
     },
     "metadata": {},
     "output_type": "display_data"
    }
   ],
   "source": [
    "houseprices_df[\"houseage\"] = houseprices_df[\"yrsold\"] - houseprices_df[\"yearbuilt\"]\n",
    "houseprices_df[\"total_baths\"] = (\n",
    "    houseprices_df[\"fullbath\"]\n",
    "    + 0.5 * houseprices_df[\"halfbath\"]\n",
    "    + houseprices_df[\"bsmtfullbath\"]\n",
    "    + 0.5 * houseprices_df[\"bsmthalfbath\"]\n",
    ")\n",
    "\n",
    "houseprices_df[\"totalarea\"] = (\n",
    "    houseprices_df[\"totalbsmtsf\"]\n",
    "    + houseprices_df[\"firstflrsf\"]\n",
    "    + houseprices_df[\"secondflrsf\"]\n",
    ")\n",
    "\n"
   ]
  },
  {
   "cell_type": "code",
   "execution_count": 20,
   "metadata": {},
   "outputs": [
    {
     "data": {
      "text/plain": [
       "5     397\n",
       "6     374\n",
       "7     319\n",
       "8     168\n",
       "4     116\n",
       "9      43\n",
       "3      20\n",
       "10     18\n",
       "2       3\n",
       "1       2\n",
       "Name: overallqual, dtype: int64"
      ]
     },
     "execution_count": 20,
     "metadata": {},
     "output_type": "execute_result"
    },
    {
     "data": {
      "application/javascript": [
       "\n",
       "            setTimeout(function() {\n",
       "                var nbb_cell_id = 20;\n",
       "                var nbb_unformatted_code = \"houseprices_df[\\\"overallqual\\\"].value_counts()\";\n",
       "                var nbb_formatted_code = \"houseprices_df[\\\"overallqual\\\"].value_counts()\";\n",
       "                var nbb_cells = Jupyter.notebook.get_cells();\n",
       "                for (var i = 0; i < nbb_cells.length; ++i) {\n",
       "                    if (nbb_cells[i].input_prompt_number == nbb_cell_id) {\n",
       "                        if (nbb_cells[i].get_text() == nbb_unformatted_code) {\n",
       "                             nbb_cells[i].set_text(nbb_formatted_code);\n",
       "                        }\n",
       "                        break;\n",
       "                    }\n",
       "                }\n",
       "            }, 500);\n",
       "            "
      ],
      "text/plain": [
       "<IPython.core.display.Javascript object>"
      ]
     },
     "metadata": {},
     "output_type": "display_data"
    }
   ],
   "source": [
    "houseprices_df[\"overallqual\"].value_counts()"
   ]
  },
  {
   "cell_type": "code",
   "execution_count": 21,
   "metadata": {},
   "outputs": [
    {
     "data": {
      "text/html": [
       "<div>\n",
       "<style scoped>\n",
       "    .dataframe tbody tr th:only-of-type {\n",
       "        vertical-align: middle;\n",
       "    }\n",
       "\n",
       "    .dataframe tbody tr th {\n",
       "        vertical-align: top;\n",
       "    }\n",
       "\n",
       "    .dataframe thead th {\n",
       "        text-align: right;\n",
       "    }\n",
       "</style>\n",
       "<table border=\"1\" class=\"dataframe\">\n",
       "  <thead>\n",
       "    <tr style=\"text-align: right;\">\n",
       "      <th></th>\n",
       "      <th>id</th>\n",
       "      <th>mssubclass</th>\n",
       "      <th>lotfrontage</th>\n",
       "      <th>lotarea</th>\n",
       "      <th>overallqual</th>\n",
       "      <th>overallcond</th>\n",
       "      <th>yearbuilt</th>\n",
       "      <th>yearremodadd</th>\n",
       "      <th>masvnrarea</th>\n",
       "      <th>bsmtfinsf1</th>\n",
       "      <th>...</th>\n",
       "      <th>threessnporch</th>\n",
       "      <th>screenporch</th>\n",
       "      <th>poolarea</th>\n",
       "      <th>miscval</th>\n",
       "      <th>mosold</th>\n",
       "      <th>yrsold</th>\n",
       "      <th>saleprice</th>\n",
       "      <th>houseage</th>\n",
       "      <th>total_baths</th>\n",
       "      <th>totalarea</th>\n",
       "    </tr>\n",
       "  </thead>\n",
       "  <tbody>\n",
       "    <tr>\n",
       "      <th>id</th>\n",
       "      <td>1.000000</td>\n",
       "      <td>0.011156</td>\n",
       "      <td>-0.010224</td>\n",
       "      <td>-0.033226</td>\n",
       "      <td>-0.028365</td>\n",
       "      <td>0.012609</td>\n",
       "      <td>-0.012713</td>\n",
       "      <td>-0.021998</td>\n",
       "      <td>-0.051071</td>\n",
       "      <td>-0.005024</td>\n",
       "      <td>...</td>\n",
       "      <td>-0.046635</td>\n",
       "      <td>0.001330</td>\n",
       "      <td>0.057044</td>\n",
       "      <td>-0.006242</td>\n",
       "      <td>0.021172</td>\n",
       "      <td>0.000712</td>\n",
       "      <td>-0.021917</td>\n",
       "      <td>0.012724</td>\n",
       "      <td>0.004540</td>\n",
       "      <td>-0.000322</td>\n",
       "    </tr>\n",
       "    <tr>\n",
       "      <th>mssubclass</th>\n",
       "      <td>0.011156</td>\n",
       "      <td>1.000000</td>\n",
       "      <td>-0.356286</td>\n",
       "      <td>-0.139781</td>\n",
       "      <td>0.032628</td>\n",
       "      <td>-0.059316</td>\n",
       "      <td>0.027850</td>\n",
       "      <td>0.040581</td>\n",
       "      <td>0.023573</td>\n",
       "      <td>-0.069836</td>\n",
       "      <td>...</td>\n",
       "      <td>-0.043825</td>\n",
       "      <td>-0.026030</td>\n",
       "      <td>0.008283</td>\n",
       "      <td>-0.007683</td>\n",
       "      <td>-0.013585</td>\n",
       "      <td>-0.021407</td>\n",
       "      <td>-0.084284</td>\n",
       "      <td>-0.028746</td>\n",
       "      <td>0.151048</td>\n",
       "      <td>-0.082225</td>\n",
       "    </tr>\n",
       "    <tr>\n",
       "      <th>lotfrontage</th>\n",
       "      <td>-0.010224</td>\n",
       "      <td>-0.356286</td>\n",
       "      <td>1.000000</td>\n",
       "      <td>0.302265</td>\n",
       "      <td>0.235326</td>\n",
       "      <td>-0.053703</td>\n",
       "      <td>0.115781</td>\n",
       "      <td>0.083896</td>\n",
       "      <td>0.178194</td>\n",
       "      <td>0.212909</td>\n",
       "      <td>...</td>\n",
       "      <td>0.061555</td>\n",
       "      <td>0.037616</td>\n",
       "      <td>0.180716</td>\n",
       "      <td>-0.001610</td>\n",
       "      <td>0.010726</td>\n",
       "      <td>0.006009</td>\n",
       "      <td>0.334544</td>\n",
       "      <td>-0.115336</td>\n",
       "      <td>0.199280</td>\n",
       "      <td>0.426833</td>\n",
       "    </tr>\n",
       "    <tr>\n",
       "      <th>lotarea</th>\n",
       "      <td>-0.033226</td>\n",
       "      <td>-0.139781</td>\n",
       "      <td>0.302265</td>\n",
       "      <td>1.000000</td>\n",
       "      <td>0.105806</td>\n",
       "      <td>-0.005636</td>\n",
       "      <td>0.014228</td>\n",
       "      <td>0.013788</td>\n",
       "      <td>0.103321</td>\n",
       "      <td>0.214103</td>\n",
       "      <td>...</td>\n",
       "      <td>0.020423</td>\n",
       "      <td>0.043160</td>\n",
       "      <td>0.077672</td>\n",
       "      <td>0.038068</td>\n",
       "      <td>0.001205</td>\n",
       "      <td>-0.014261</td>\n",
       "      <td>0.263843</td>\n",
       "      <td>-0.014832</td>\n",
       "      <td>0.204764</td>\n",
       "      <td>0.307234</td>\n",
       "    </tr>\n",
       "    <tr>\n",
       "      <th>overallqual</th>\n",
       "      <td>-0.028365</td>\n",
       "      <td>0.032628</td>\n",
       "      <td>0.235326</td>\n",
       "      <td>0.105806</td>\n",
       "      <td>1.000000</td>\n",
       "      <td>-0.091932</td>\n",
       "      <td>0.572323</td>\n",
       "      <td>0.550684</td>\n",
       "      <td>0.407252</td>\n",
       "      <td>0.239666</td>\n",
       "      <td>...</td>\n",
       "      <td>0.030371</td>\n",
       "      <td>0.064886</td>\n",
       "      <td>0.065166</td>\n",
       "      <td>-0.031406</td>\n",
       "      <td>0.070815</td>\n",
       "      <td>-0.027347</td>\n",
       "      <td>0.790982</td>\n",
       "      <td>-0.572629</td>\n",
       "      <td>0.541063</td>\n",
       "      <td>0.668155</td>\n",
       "    </tr>\n",
       "    <tr>\n",
       "      <th>overallcond</th>\n",
       "      <td>0.012609</td>\n",
       "      <td>-0.059316</td>\n",
       "      <td>-0.053703</td>\n",
       "      <td>-0.005636</td>\n",
       "      <td>-0.091932</td>\n",
       "      <td>1.000000</td>\n",
       "      <td>-0.375983</td>\n",
       "      <td>0.073741</td>\n",
       "      <td>-0.125694</td>\n",
       "      <td>-0.046231</td>\n",
       "      <td>...</td>\n",
       "      <td>0.025504</td>\n",
       "      <td>0.054811</td>\n",
       "      <td>-0.001985</td>\n",
       "      <td>0.068777</td>\n",
       "      <td>-0.003511</td>\n",
       "      <td>0.043950</td>\n",
       "      <td>-0.077856</td>\n",
       "      <td>0.377325</td>\n",
       "      <td>-0.174032</td>\n",
       "      <td>-0.143814</td>\n",
       "    </tr>\n",
       "    <tr>\n",
       "      <th>yearbuilt</th>\n",
       "      <td>-0.012713</td>\n",
       "      <td>0.027850</td>\n",
       "      <td>0.115781</td>\n",
       "      <td>0.014228</td>\n",
       "      <td>0.572323</td>\n",
       "      <td>-0.375983</td>\n",
       "      <td>1.000000</td>\n",
       "      <td>0.592855</td>\n",
       "      <td>0.311600</td>\n",
       "      <td>0.249503</td>\n",
       "      <td>...</td>\n",
       "      <td>0.031355</td>\n",
       "      <td>-0.050364</td>\n",
       "      <td>0.004950</td>\n",
       "      <td>-0.034383</td>\n",
       "      <td>0.012398</td>\n",
       "      <td>-0.013618</td>\n",
       "      <td>0.522897</td>\n",
       "      <td>-0.999036</td>\n",
       "      <td>0.524298</td>\n",
       "      <td>0.347133</td>\n",
       "    </tr>\n",
       "    <tr>\n",
       "      <th>yearremodadd</th>\n",
       "      <td>-0.021998</td>\n",
       "      <td>0.040581</td>\n",
       "      <td>0.083896</td>\n",
       "      <td>0.013788</td>\n",
       "      <td>0.550684</td>\n",
       "      <td>0.073741</td>\n",
       "      <td>0.592855</td>\n",
       "      <td>1.000000</td>\n",
       "      <td>0.176529</td>\n",
       "      <td>0.128451</td>\n",
       "      <td>...</td>\n",
       "      <td>0.045286</td>\n",
       "      <td>-0.038740</td>\n",
       "      <td>0.005829</td>\n",
       "      <td>-0.010286</td>\n",
       "      <td>0.021490</td>\n",
       "      <td>0.035743</td>\n",
       "      <td>0.507101</td>\n",
       "      <td>-0.590360</td>\n",
       "      <td>0.443719</td>\n",
       "      <td>0.342873</td>\n",
       "    </tr>\n",
       "    <tr>\n",
       "      <th>masvnrarea</th>\n",
       "      <td>-0.051071</td>\n",
       "      <td>0.023573</td>\n",
       "      <td>0.178194</td>\n",
       "      <td>0.103321</td>\n",
       "      <td>0.407252</td>\n",
       "      <td>-0.125694</td>\n",
       "      <td>0.311600</td>\n",
       "      <td>0.176529</td>\n",
       "      <td>1.000000</td>\n",
       "      <td>0.261256</td>\n",
       "      <td>...</td>\n",
       "      <td>0.019144</td>\n",
       "      <td>0.062248</td>\n",
       "      <td>0.011928</td>\n",
       "      <td>-0.029512</td>\n",
       "      <td>-0.006723</td>\n",
       "      <td>-0.008317</td>\n",
       "      <td>0.472614</td>\n",
       "      <td>-0.311479</td>\n",
       "      <td>0.314248</td>\n",
       "      <td>0.444454</td>\n",
       "    </tr>\n",
       "    <tr>\n",
       "      <th>bsmtfinsf1</th>\n",
       "      <td>-0.005024</td>\n",
       "      <td>-0.069836</td>\n",
       "      <td>0.212909</td>\n",
       "      <td>0.214103</td>\n",
       "      <td>0.239666</td>\n",
       "      <td>-0.046231</td>\n",
       "      <td>0.249503</td>\n",
       "      <td>0.128451</td>\n",
       "      <td>0.261256</td>\n",
       "      <td>1.000000</td>\n",
       "      <td>...</td>\n",
       "      <td>0.026451</td>\n",
       "      <td>0.062021</td>\n",
       "      <td>0.140491</td>\n",
       "      <td>0.003571</td>\n",
       "      <td>-0.015727</td>\n",
       "      <td>0.014359</td>\n",
       "      <td>0.386420</td>\n",
       "      <td>-0.248483</td>\n",
       "      <td>0.481609</td>\n",
       "      <td>0.415843</td>\n",
       "    </tr>\n",
       "    <tr>\n",
       "      <th>bsmtfinsf2</th>\n",
       "      <td>-0.005968</td>\n",
       "      <td>-0.065649</td>\n",
       "      <td>0.041616</td>\n",
       "      <td>0.111170</td>\n",
       "      <td>-0.059119</td>\n",
       "      <td>0.040229</td>\n",
       "      <td>-0.049107</td>\n",
       "      <td>-0.067759</td>\n",
       "      <td>-0.071330</td>\n",
       "      <td>-0.050117</td>\n",
       "      <td>...</td>\n",
       "      <td>-0.029993</td>\n",
       "      <td>0.088871</td>\n",
       "      <td>0.041709</td>\n",
       "      <td>0.004940</td>\n",
       "      <td>-0.015211</td>\n",
       "      <td>0.031706</td>\n",
       "      <td>-0.011378</td>\n",
       "      <td>0.050422</td>\n",
       "      <td>0.051709</td>\n",
       "      <td>0.048916</td>\n",
       "    </tr>\n",
       "    <tr>\n",
       "      <th>bsmtunfsf</th>\n",
       "      <td>-0.007940</td>\n",
       "      <td>-0.140759</td>\n",
       "      <td>0.125909</td>\n",
       "      <td>-0.002618</td>\n",
       "      <td>0.308159</td>\n",
       "      <td>-0.136841</td>\n",
       "      <td>0.149040</td>\n",
       "      <td>0.181133</td>\n",
       "      <td>0.113862</td>\n",
       "      <td>-0.495251</td>\n",
       "      <td>...</td>\n",
       "      <td>0.020764</td>\n",
       "      <td>-0.012579</td>\n",
       "      <td>-0.035092</td>\n",
       "      <td>-0.023837</td>\n",
       "      <td>0.034888</td>\n",
       "      <td>-0.041258</td>\n",
       "      <td>0.214479</td>\n",
       "      <td>-0.150619</td>\n",
       "      <td>-0.104496</td>\n",
       "      <td>0.373733</td>\n",
       "    </tr>\n",
       "    <tr>\n",
       "      <th>totalbsmtsf</th>\n",
       "      <td>-0.015415</td>\n",
       "      <td>-0.238518</td>\n",
       "      <td>0.363469</td>\n",
       "      <td>0.260833</td>\n",
       "      <td>0.537808</td>\n",
       "      <td>-0.171098</td>\n",
       "      <td>0.391452</td>\n",
       "      <td>0.291066</td>\n",
       "      <td>0.360067</td>\n",
       "      <td>0.522396</td>\n",
       "      <td>...</td>\n",
       "      <td>0.037384</td>\n",
       "      <td>0.084489</td>\n",
       "      <td>0.126053</td>\n",
       "      <td>-0.018479</td>\n",
       "      <td>0.013196</td>\n",
       "      <td>-0.014969</td>\n",
       "      <td>0.613581</td>\n",
       "      <td>-0.391498</td>\n",
       "      <td>0.414468</td>\n",
       "      <td>0.826742</td>\n",
       "    </tr>\n",
       "    <tr>\n",
       "      <th>firstflrsf</th>\n",
       "      <td>0.010496</td>\n",
       "      <td>-0.251758</td>\n",
       "      <td>0.413175</td>\n",
       "      <td>0.299475</td>\n",
       "      <td>0.476224</td>\n",
       "      <td>-0.144203</td>\n",
       "      <td>0.281986</td>\n",
       "      <td>0.240379</td>\n",
       "      <td>0.339850</td>\n",
       "      <td>0.445863</td>\n",
       "      <td>...</td>\n",
       "      <td>0.056104</td>\n",
       "      <td>0.088758</td>\n",
       "      <td>0.131525</td>\n",
       "      <td>-0.021096</td>\n",
       "      <td>0.031372</td>\n",
       "      <td>-0.013604</td>\n",
       "      <td>0.605852</td>\n",
       "      <td>-0.282143</td>\n",
       "      <td>0.390557</td>\n",
       "      <td>0.800350</td>\n",
       "    </tr>\n",
       "    <tr>\n",
       "      <th>secondflrsf</th>\n",
       "      <td>0.005590</td>\n",
       "      <td>0.307886</td>\n",
       "      <td>0.072276</td>\n",
       "      <td>0.050986</td>\n",
       "      <td>0.295493</td>\n",
       "      <td>0.028942</td>\n",
       "      <td>0.010308</td>\n",
       "      <td>0.140024</td>\n",
       "      <td>0.173800</td>\n",
       "      <td>-0.137079</td>\n",
       "      <td>...</td>\n",
       "      <td>-0.024358</td>\n",
       "      <td>0.040606</td>\n",
       "      <td>0.081487</td>\n",
       "      <td>0.016197</td>\n",
       "      <td>0.035164</td>\n",
       "      <td>-0.028700</td>\n",
       "      <td>0.319334</td>\n",
       "      <td>-0.011552</td>\n",
       "      <td>0.375160</td>\n",
       "      <td>0.342733</td>\n",
       "    </tr>\n",
       "    <tr>\n",
       "      <th>lowqualfinsf</th>\n",
       "      <td>-0.044230</td>\n",
       "      <td>0.046474</td>\n",
       "      <td>0.038048</td>\n",
       "      <td>0.004779</td>\n",
       "      <td>-0.030429</td>\n",
       "      <td>0.025494</td>\n",
       "      <td>-0.183784</td>\n",
       "      <td>-0.062419</td>\n",
       "      <td>-0.068628</td>\n",
       "      <td>-0.064503</td>\n",
       "      <td>...</td>\n",
       "      <td>-0.004296</td>\n",
       "      <td>0.026799</td>\n",
       "      <td>0.062157</td>\n",
       "      <td>-0.003793</td>\n",
       "      <td>-0.022174</td>\n",
       "      <td>-0.028921</td>\n",
       "      <td>-0.025606</td>\n",
       "      <td>0.182228</td>\n",
       "      <td>-0.041203</td>\n",
       "      <td>0.009207</td>\n",
       "    </tr>\n",
       "    <tr>\n",
       "      <th>grlivarea</th>\n",
       "      <td>0.008273</td>\n",
       "      <td>0.074853</td>\n",
       "      <td>0.367528</td>\n",
       "      <td>0.263116</td>\n",
       "      <td>0.593007</td>\n",
       "      <td>-0.079686</td>\n",
       "      <td>0.199010</td>\n",
       "      <td>0.287389</td>\n",
       "      <td>0.388052</td>\n",
       "      <td>0.208171</td>\n",
       "      <td>...</td>\n",
       "      <td>0.020643</td>\n",
       "      <td>0.101510</td>\n",
       "      <td>0.170205</td>\n",
       "      <td>-0.002416</td>\n",
       "      <td>0.050240</td>\n",
       "      <td>-0.036526</td>\n",
       "      <td>0.708624</td>\n",
       "      <td>-0.200302</td>\n",
       "      <td>0.595169</td>\n",
       "      <td>0.874373</td>\n",
       "    </tr>\n",
       "    <tr>\n",
       "      <th>bsmtfullbath</th>\n",
       "      <td>0.002289</td>\n",
       "      <td>0.003491</td>\n",
       "      <td>0.089232</td>\n",
       "      <td>0.158155</td>\n",
       "      <td>0.111098</td>\n",
       "      <td>-0.054942</td>\n",
       "      <td>0.187599</td>\n",
       "      <td>0.119470</td>\n",
       "      <td>0.083010</td>\n",
       "      <td>0.649212</td>\n",
       "      <td>...</td>\n",
       "      <td>-0.000106</td>\n",
       "      <td>0.023148</td>\n",
       "      <td>0.067616</td>\n",
       "      <td>-0.023047</td>\n",
       "      <td>-0.025361</td>\n",
       "      <td>0.067049</td>\n",
       "      <td>0.227122</td>\n",
       "      <td>-0.184362</td>\n",
       "      <td>0.583076</td>\n",
       "      <td>0.189158</td>\n",
       "    </tr>\n",
       "    <tr>\n",
       "      <th>bsmthalfbath</th>\n",
       "      <td>-0.020155</td>\n",
       "      <td>-0.002333</td>\n",
       "      <td>-0.007510</td>\n",
       "      <td>0.048046</td>\n",
       "      <td>-0.040150</td>\n",
       "      <td>0.117821</td>\n",
       "      <td>-0.038162</td>\n",
       "      <td>-0.012337</td>\n",
       "      <td>0.027403</td>\n",
       "      <td>0.067418</td>\n",
       "      <td>...</td>\n",
       "      <td>0.035114</td>\n",
       "      <td>0.032121</td>\n",
       "      <td>0.020025</td>\n",
       "      <td>-0.007367</td>\n",
       "      <td>0.032873</td>\n",
       "      <td>-0.046524</td>\n",
       "      <td>-0.016844</td>\n",
       "      <td>0.036060</td>\n",
       "      <td>0.012092</td>\n",
       "      <td>-0.011921</td>\n",
       "    </tr>\n",
       "    <tr>\n",
       "      <th>fullbath</th>\n",
       "      <td>0.005587</td>\n",
       "      <td>0.131608</td>\n",
       "      <td>0.180582</td>\n",
       "      <td>0.126031</td>\n",
       "      <td>0.550600</td>\n",
       "      <td>-0.194149</td>\n",
       "      <td>0.468271</td>\n",
       "      <td>0.439046</td>\n",
       "      <td>0.272999</td>\n",
       "      <td>0.058543</td>\n",
       "      <td>...</td>\n",
       "      <td>0.035353</td>\n",
       "      <td>-0.008106</td>\n",
       "      <td>0.049604</td>\n",
       "      <td>-0.014290</td>\n",
       "      <td>0.055872</td>\n",
       "      <td>-0.019669</td>\n",
       "      <td>0.560664</td>\n",
       "      <td>-0.468403</td>\n",
       "      <td>0.694197</td>\n",
       "      <td>0.575762</td>\n",
       "    </tr>\n",
       "    <tr>\n",
       "      <th>halfbath</th>\n",
       "      <td>0.006784</td>\n",
       "      <td>0.177354</td>\n",
       "      <td>0.046220</td>\n",
       "      <td>0.014259</td>\n",
       "      <td>0.273458</td>\n",
       "      <td>-0.060769</td>\n",
       "      <td>0.242656</td>\n",
       "      <td>0.183331</td>\n",
       "      <td>0.199108</td>\n",
       "      <td>0.004262</td>\n",
       "      <td>...</td>\n",
       "      <td>-0.004972</td>\n",
       "      <td>0.072426</td>\n",
       "      <td>0.022381</td>\n",
       "      <td>0.001290</td>\n",
       "      <td>-0.009050</td>\n",
       "      <td>-0.010269</td>\n",
       "      <td>0.284108</td>\n",
       "      <td>-0.242728</td>\n",
       "      <td>0.393516</td>\n",
       "      <td>0.241429</td>\n",
       "    </tr>\n",
       "    <tr>\n",
       "      <th>bedroomabvgr</th>\n",
       "      <td>0.037719</td>\n",
       "      <td>-0.023438</td>\n",
       "      <td>0.236593</td>\n",
       "      <td>0.119690</td>\n",
       "      <td>0.101676</td>\n",
       "      <td>0.012980</td>\n",
       "      <td>-0.070651</td>\n",
       "      <td>-0.040581</td>\n",
       "      <td>0.102775</td>\n",
       "      <td>-0.107355</td>\n",
       "      <td>...</td>\n",
       "      <td>-0.024478</td>\n",
       "      <td>0.044300</td>\n",
       "      <td>0.070703</td>\n",
       "      <td>0.007767</td>\n",
       "      <td>0.046544</td>\n",
       "      <td>-0.036014</td>\n",
       "      <td>0.168213</td>\n",
       "      <td>0.068960</td>\n",
       "      <td>0.234885</td>\n",
       "      <td>0.354034</td>\n",
       "    </tr>\n",
       "    <tr>\n",
       "      <th>kitchenabvgr</th>\n",
       "      <td>0.002951</td>\n",
       "      <td>0.281721</td>\n",
       "      <td>-0.004047</td>\n",
       "      <td>-0.017784</td>\n",
       "      <td>-0.183882</td>\n",
       "      <td>-0.087001</td>\n",
       "      <td>-0.174800</td>\n",
       "      <td>-0.149598</td>\n",
       "      <td>-0.038450</td>\n",
       "      <td>-0.081007</td>\n",
       "      <td>...</td>\n",
       "      <td>-0.024600</td>\n",
       "      <td>-0.051613</td>\n",
       "      <td>-0.014525</td>\n",
       "      <td>0.062341</td>\n",
       "      <td>0.026589</td>\n",
       "      <td>0.031687</td>\n",
       "      <td>-0.135907</td>\n",
       "      <td>0.175918</td>\n",
       "      <td>0.038331</td>\n",
       "      <td>0.026759</td>\n",
       "    </tr>\n",
       "    <tr>\n",
       "      <th>totrmsabvgrd</th>\n",
       "      <td>0.027239</td>\n",
       "      <td>0.040380</td>\n",
       "      <td>0.320772</td>\n",
       "      <td>0.190015</td>\n",
       "      <td>0.427452</td>\n",
       "      <td>-0.057583</td>\n",
       "      <td>0.095589</td>\n",
       "      <td>0.191740</td>\n",
       "      <td>0.279568</td>\n",
       "      <td>0.044316</td>\n",
       "      <td>...</td>\n",
       "      <td>-0.006683</td>\n",
       "      <td>0.059383</td>\n",
       "      <td>0.083757</td>\n",
       "      <td>0.024763</td>\n",
       "      <td>0.036907</td>\n",
       "      <td>-0.034516</td>\n",
       "      <td>0.533723</td>\n",
       "      <td>-0.096955</td>\n",
       "      <td>0.460273</td>\n",
       "      <td>0.672596</td>\n",
       "    </tr>\n",
       "    <tr>\n",
       "      <th>fireplaces</th>\n",
       "      <td>-0.019772</td>\n",
       "      <td>-0.045569</td>\n",
       "      <td>0.230737</td>\n",
       "      <td>0.271364</td>\n",
       "      <td>0.396765</td>\n",
       "      <td>-0.023820</td>\n",
       "      <td>0.147716</td>\n",
       "      <td>0.112581</td>\n",
       "      <td>0.247015</td>\n",
       "      <td>0.260011</td>\n",
       "      <td>...</td>\n",
       "      <td>0.011257</td>\n",
       "      <td>0.184530</td>\n",
       "      <td>0.095074</td>\n",
       "      <td>0.001409</td>\n",
       "      <td>0.046357</td>\n",
       "      <td>-0.024096</td>\n",
       "      <td>0.466929</td>\n",
       "      <td>-0.148544</td>\n",
       "      <td>0.331652</td>\n",
       "      <td>0.477765</td>\n",
       "    </tr>\n",
       "    <tr>\n",
       "      <th>garageyrblt</th>\n",
       "      <td>0.000387</td>\n",
       "      <td>0.075421</td>\n",
       "      <td>0.069268</td>\n",
       "      <td>-0.020808</td>\n",
       "      <td>0.530914</td>\n",
       "      <td>-0.305304</td>\n",
       "      <td>0.791500</td>\n",
       "      <td>0.623274</td>\n",
       "      <td>0.252106</td>\n",
       "      <td>0.155830</td>\n",
       "      <td>...</td>\n",
       "      <td>0.025011</td>\n",
       "      <td>-0.071628</td>\n",
       "      <td>-0.013584</td>\n",
       "      <td>-0.031542</td>\n",
       "      <td>0.005653</td>\n",
       "      <td>0.001313</td>\n",
       "      <td>0.482104</td>\n",
       "      <td>-0.790206</td>\n",
       "      <td>0.465004</td>\n",
       "      <td>0.319984</td>\n",
       "    </tr>\n",
       "    <tr>\n",
       "      <th>garagecars</th>\n",
       "      <td>0.016570</td>\n",
       "      <td>-0.040110</td>\n",
       "      <td>0.269276</td>\n",
       "      <td>0.154871</td>\n",
       "      <td>0.600671</td>\n",
       "      <td>-0.185758</td>\n",
       "      <td>0.537850</td>\n",
       "      <td>0.420622</td>\n",
       "      <td>0.361945</td>\n",
       "      <td>0.224054</td>\n",
       "      <td>...</td>\n",
       "      <td>0.035765</td>\n",
       "      <td>0.050494</td>\n",
       "      <td>0.020934</td>\n",
       "      <td>-0.043080</td>\n",
       "      <td>0.040522</td>\n",
       "      <td>-0.039117</td>\n",
       "      <td>0.640409</td>\n",
       "      <td>-0.538727</td>\n",
       "      <td>0.483578</td>\n",
       "      <td>0.536413</td>\n",
       "    </tr>\n",
       "    <tr>\n",
       "      <th>garagearea</th>\n",
       "      <td>0.017634</td>\n",
       "      <td>-0.098672</td>\n",
       "      <td>0.323267</td>\n",
       "      <td>0.180403</td>\n",
       "      <td>0.562022</td>\n",
       "      <td>-0.151521</td>\n",
       "      <td>0.478954</td>\n",
       "      <td>0.371600</td>\n",
       "      <td>0.370884</td>\n",
       "      <td>0.296970</td>\n",
       "      <td>...</td>\n",
       "      <td>0.035087</td>\n",
       "      <td>0.051412</td>\n",
       "      <td>0.061047</td>\n",
       "      <td>-0.027400</td>\n",
       "      <td>0.027974</td>\n",
       "      <td>-0.027378</td>\n",
       "      <td>0.623431</td>\n",
       "      <td>-0.479408</td>\n",
       "      <td>0.451567</td>\n",
       "      <td>0.563747</td>\n",
       "    </tr>\n",
       "    <tr>\n",
       "      <th>wooddecksf</th>\n",
       "      <td>-0.029643</td>\n",
       "      <td>-0.012579</td>\n",
       "      <td>0.074030</td>\n",
       "      <td>0.171698</td>\n",
       "      <td>0.238923</td>\n",
       "      <td>-0.003334</td>\n",
       "      <td>0.224880</td>\n",
       "      <td>0.205726</td>\n",
       "      <td>0.159991</td>\n",
       "      <td>0.204306</td>\n",
       "      <td>...</td>\n",
       "      <td>-0.032771</td>\n",
       "      <td>-0.074181</td>\n",
       "      <td>0.073378</td>\n",
       "      <td>-0.009551</td>\n",
       "      <td>0.021011</td>\n",
       "      <td>0.022270</td>\n",
       "      <td>0.324413</td>\n",
       "      <td>-0.223551</td>\n",
       "      <td>0.288200</td>\n",
       "      <td>0.283610</td>\n",
       "    </tr>\n",
       "    <tr>\n",
       "      <th>openporchsf</th>\n",
       "      <td>-0.000477</td>\n",
       "      <td>-0.006100</td>\n",
       "      <td>0.136552</td>\n",
       "      <td>0.084774</td>\n",
       "      <td>0.308819</td>\n",
       "      <td>-0.032589</td>\n",
       "      <td>0.188686</td>\n",
       "      <td>0.226298</td>\n",
       "      <td>0.122528</td>\n",
       "      <td>0.111761</td>\n",
       "      <td>...</td>\n",
       "      <td>-0.005842</td>\n",
       "      <td>0.074304</td>\n",
       "      <td>0.060762</td>\n",
       "      <td>-0.018584</td>\n",
       "      <td>0.071255</td>\n",
       "      <td>-0.057619</td>\n",
       "      <td>0.315856</td>\n",
       "      <td>-0.190921</td>\n",
       "      <td>0.286950</td>\n",
       "      <td>0.342108</td>\n",
       "    </tr>\n",
       "    <tr>\n",
       "      <th>enclosedporch</th>\n",
       "      <td>0.002889</td>\n",
       "      <td>-0.012037</td>\n",
       "      <td>0.010757</td>\n",
       "      <td>-0.018340</td>\n",
       "      <td>-0.113937</td>\n",
       "      <td>0.070356</td>\n",
       "      <td>-0.387268</td>\n",
       "      <td>-0.193919</td>\n",
       "      <td>-0.109907</td>\n",
       "      <td>-0.102303</td>\n",
       "      <td>...</td>\n",
       "      <td>-0.037305</td>\n",
       "      <td>-0.082864</td>\n",
       "      <td>0.054203</td>\n",
       "      <td>0.018361</td>\n",
       "      <td>-0.028887</td>\n",
       "      <td>-0.009916</td>\n",
       "      <td>-0.128578</td>\n",
       "      <td>0.386228</td>\n",
       "      <td>-0.145523</td>\n",
       "      <td>-0.048761</td>\n",
       "    </tr>\n",
       "    <tr>\n",
       "      <th>threessnporch</th>\n",
       "      <td>-0.046635</td>\n",
       "      <td>-0.043825</td>\n",
       "      <td>0.061555</td>\n",
       "      <td>0.020423</td>\n",
       "      <td>0.030371</td>\n",
       "      <td>0.025504</td>\n",
       "      <td>0.031355</td>\n",
       "      <td>0.045286</td>\n",
       "      <td>0.019144</td>\n",
       "      <td>0.026451</td>\n",
       "      <td>...</td>\n",
       "      <td>1.000000</td>\n",
       "      <td>-0.031436</td>\n",
       "      <td>-0.007992</td>\n",
       "      <td>0.000354</td>\n",
       "      <td>0.029474</td>\n",
       "      <td>0.018645</td>\n",
       "      <td>0.044584</td>\n",
       "      <td>-0.030487</td>\n",
       "      <td>0.028473</td>\n",
       "      <td>0.033414</td>\n",
       "    </tr>\n",
       "    <tr>\n",
       "      <th>screenporch</th>\n",
       "      <td>0.001330</td>\n",
       "      <td>-0.026030</td>\n",
       "      <td>0.037616</td>\n",
       "      <td>0.043160</td>\n",
       "      <td>0.064886</td>\n",
       "      <td>0.054811</td>\n",
       "      <td>-0.050364</td>\n",
       "      <td>-0.038740</td>\n",
       "      <td>0.062248</td>\n",
       "      <td>0.062021</td>\n",
       "      <td>...</td>\n",
       "      <td>-0.031436</td>\n",
       "      <td>1.000000</td>\n",
       "      <td>0.051307</td>\n",
       "      <td>0.031946</td>\n",
       "      <td>0.023217</td>\n",
       "      <td>0.010694</td>\n",
       "      <td>0.111447</td>\n",
       "      <td>0.050755</td>\n",
       "      <td>0.037677</td>\n",
       "      <td>0.108437</td>\n",
       "    </tr>\n",
       "    <tr>\n",
       "      <th>poolarea</th>\n",
       "      <td>0.057044</td>\n",
       "      <td>0.008283</td>\n",
       "      <td>0.180716</td>\n",
       "      <td>0.077672</td>\n",
       "      <td>0.065166</td>\n",
       "      <td>-0.001985</td>\n",
       "      <td>0.004950</td>\n",
       "      <td>0.005829</td>\n",
       "      <td>0.011928</td>\n",
       "      <td>0.140491</td>\n",
       "      <td>...</td>\n",
       "      <td>-0.007992</td>\n",
       "      <td>0.051307</td>\n",
       "      <td>1.000000</td>\n",
       "      <td>0.029669</td>\n",
       "      <td>-0.033737</td>\n",
       "      <td>-0.059689</td>\n",
       "      <td>0.092404</td>\n",
       "      <td>-0.007563</td>\n",
       "      <td>0.089677</td>\n",
       "      <td>0.172466</td>\n",
       "    </tr>\n",
       "    <tr>\n",
       "      <th>miscval</th>\n",
       "      <td>-0.006242</td>\n",
       "      <td>-0.007683</td>\n",
       "      <td>-0.001610</td>\n",
       "      <td>0.038068</td>\n",
       "      <td>-0.031406</td>\n",
       "      <td>0.068777</td>\n",
       "      <td>-0.034383</td>\n",
       "      <td>-0.010286</td>\n",
       "      <td>-0.029512</td>\n",
       "      <td>0.003571</td>\n",
       "      <td>...</td>\n",
       "      <td>0.000354</td>\n",
       "      <td>0.031946</td>\n",
       "      <td>0.029669</td>\n",
       "      <td>1.000000</td>\n",
       "      <td>-0.006495</td>\n",
       "      <td>0.004906</td>\n",
       "      <td>-0.021190</td>\n",
       "      <td>0.034545</td>\n",
       "      <td>-0.025957</td>\n",
       "      <td>-0.011186</td>\n",
       "    </tr>\n",
       "    <tr>\n",
       "      <th>mosold</th>\n",
       "      <td>0.021172</td>\n",
       "      <td>-0.013585</td>\n",
       "      <td>0.010726</td>\n",
       "      <td>0.001205</td>\n",
       "      <td>0.070815</td>\n",
       "      <td>-0.003511</td>\n",
       "      <td>0.012398</td>\n",
       "      <td>0.021490</td>\n",
       "      <td>-0.006723</td>\n",
       "      <td>-0.015727</td>\n",
       "      <td>...</td>\n",
       "      <td>0.029474</td>\n",
       "      <td>0.023217</td>\n",
       "      <td>-0.033737</td>\n",
       "      <td>-0.006495</td>\n",
       "      <td>1.000000</td>\n",
       "      <td>-0.145721</td>\n",
       "      <td>0.046432</td>\n",
       "      <td>-0.018777</td>\n",
       "      <td>0.024535</td>\n",
       "      <td>0.040485</td>\n",
       "    </tr>\n",
       "    <tr>\n",
       "      <th>yrsold</th>\n",
       "      <td>0.000712</td>\n",
       "      <td>-0.021407</td>\n",
       "      <td>0.006009</td>\n",
       "      <td>-0.014261</td>\n",
       "      <td>-0.027347</td>\n",
       "      <td>0.043950</td>\n",
       "      <td>-0.013618</td>\n",
       "      <td>0.035743</td>\n",
       "      <td>-0.008317</td>\n",
       "      <td>0.014359</td>\n",
       "      <td>...</td>\n",
       "      <td>0.018645</td>\n",
       "      <td>0.010694</td>\n",
       "      <td>-0.059689</td>\n",
       "      <td>0.004906</td>\n",
       "      <td>-0.145721</td>\n",
       "      <td>1.000000</td>\n",
       "      <td>-0.028923</td>\n",
       "      <td>0.057500</td>\n",
       "      <td>0.020144</td>\n",
       "      <td>-0.029638</td>\n",
       "    </tr>\n",
       "    <tr>\n",
       "      <th>saleprice</th>\n",
       "      <td>-0.021917</td>\n",
       "      <td>-0.084284</td>\n",
       "      <td>0.334544</td>\n",
       "      <td>0.263843</td>\n",
       "      <td>0.790982</td>\n",
       "      <td>-0.077856</td>\n",
       "      <td>0.522897</td>\n",
       "      <td>0.507101</td>\n",
       "      <td>0.472614</td>\n",
       "      <td>0.386420</td>\n",
       "      <td>...</td>\n",
       "      <td>0.044584</td>\n",
       "      <td>0.111447</td>\n",
       "      <td>0.092404</td>\n",
       "      <td>-0.021190</td>\n",
       "      <td>0.046432</td>\n",
       "      <td>-0.028923</td>\n",
       "      <td>1.000000</td>\n",
       "      <td>-0.523350</td>\n",
       "      <td>0.631731</td>\n",
       "      <td>0.782260</td>\n",
       "    </tr>\n",
       "    <tr>\n",
       "      <th>houseage</th>\n",
       "      <td>0.012724</td>\n",
       "      <td>-0.028746</td>\n",
       "      <td>-0.115336</td>\n",
       "      <td>-0.014832</td>\n",
       "      <td>-0.572629</td>\n",
       "      <td>0.377325</td>\n",
       "      <td>-0.999036</td>\n",
       "      <td>-0.590360</td>\n",
       "      <td>-0.311479</td>\n",
       "      <td>-0.248483</td>\n",
       "      <td>...</td>\n",
       "      <td>-0.030487</td>\n",
       "      <td>0.050755</td>\n",
       "      <td>-0.007563</td>\n",
       "      <td>0.034545</td>\n",
       "      <td>-0.018777</td>\n",
       "      <td>0.057500</td>\n",
       "      <td>-0.523350</td>\n",
       "      <td>1.000000</td>\n",
       "      <td>-0.522595</td>\n",
       "      <td>-0.347892</td>\n",
       "    </tr>\n",
       "    <tr>\n",
       "      <th>total_baths</th>\n",
       "      <td>0.004540</td>\n",
       "      <td>0.151048</td>\n",
       "      <td>0.199280</td>\n",
       "      <td>0.204764</td>\n",
       "      <td>0.541063</td>\n",
       "      <td>-0.174032</td>\n",
       "      <td>0.524298</td>\n",
       "      <td>0.443719</td>\n",
       "      <td>0.314248</td>\n",
       "      <td>0.481609</td>\n",
       "      <td>...</td>\n",
       "      <td>0.028473</td>\n",
       "      <td>0.037677</td>\n",
       "      <td>0.089677</td>\n",
       "      <td>-0.025957</td>\n",
       "      <td>0.024535</td>\n",
       "      <td>0.020144</td>\n",
       "      <td>0.631731</td>\n",
       "      <td>-0.522595</td>\n",
       "      <td>1.000000</td>\n",
       "      <td>0.604324</td>\n",
       "    </tr>\n",
       "    <tr>\n",
       "      <th>totalarea</th>\n",
       "      <td>-0.000322</td>\n",
       "      <td>-0.082225</td>\n",
       "      <td>0.426833</td>\n",
       "      <td>0.307234</td>\n",
       "      <td>0.668155</td>\n",
       "      <td>-0.143814</td>\n",
       "      <td>0.347133</td>\n",
       "      <td>0.342873</td>\n",
       "      <td>0.444454</td>\n",
       "      <td>0.415843</td>\n",
       "      <td>...</td>\n",
       "      <td>0.033414</td>\n",
       "      <td>0.108437</td>\n",
       "      <td>0.172466</td>\n",
       "      <td>-0.011186</td>\n",
       "      <td>0.040485</td>\n",
       "      <td>-0.029638</td>\n",
       "      <td>0.782260</td>\n",
       "      <td>-0.347892</td>\n",
       "      <td>0.604324</td>\n",
       "      <td>1.000000</td>\n",
       "    </tr>\n",
       "  </tbody>\n",
       "</table>\n",
       "<p>41 rows × 41 columns</p>\n",
       "</div>"
      ],
      "text/plain": [
       "                     id  mssubclass  lotfrontage   lotarea  overallqual  \\\n",
       "id             1.000000    0.011156    -0.010224 -0.033226    -0.028365   \n",
       "mssubclass     0.011156    1.000000    -0.356286 -0.139781     0.032628   \n",
       "lotfrontage   -0.010224   -0.356286     1.000000  0.302265     0.235326   \n",
       "lotarea       -0.033226   -0.139781     0.302265  1.000000     0.105806   \n",
       "overallqual   -0.028365    0.032628     0.235326  0.105806     1.000000   \n",
       "overallcond    0.012609   -0.059316    -0.053703 -0.005636    -0.091932   \n",
       "yearbuilt     -0.012713    0.027850     0.115781  0.014228     0.572323   \n",
       "yearremodadd  -0.021998    0.040581     0.083896  0.013788     0.550684   \n",
       "masvnrarea    -0.051071    0.023573     0.178194  0.103321     0.407252   \n",
       "bsmtfinsf1    -0.005024   -0.069836     0.212909  0.214103     0.239666   \n",
       "bsmtfinsf2    -0.005968   -0.065649     0.041616  0.111170    -0.059119   \n",
       "bsmtunfsf     -0.007940   -0.140759     0.125909 -0.002618     0.308159   \n",
       "totalbsmtsf   -0.015415   -0.238518     0.363469  0.260833     0.537808   \n",
       "firstflrsf     0.010496   -0.251758     0.413175  0.299475     0.476224   \n",
       "secondflrsf    0.005590    0.307886     0.072276  0.050986     0.295493   \n",
       "lowqualfinsf  -0.044230    0.046474     0.038048  0.004779    -0.030429   \n",
       "grlivarea      0.008273    0.074853     0.367528  0.263116     0.593007   \n",
       "bsmtfullbath   0.002289    0.003491     0.089232  0.158155     0.111098   \n",
       "bsmthalfbath  -0.020155   -0.002333    -0.007510  0.048046    -0.040150   \n",
       "fullbath       0.005587    0.131608     0.180582  0.126031     0.550600   \n",
       "halfbath       0.006784    0.177354     0.046220  0.014259     0.273458   \n",
       "bedroomabvgr   0.037719   -0.023438     0.236593  0.119690     0.101676   \n",
       "kitchenabvgr   0.002951    0.281721    -0.004047 -0.017784    -0.183882   \n",
       "totrmsabvgrd   0.027239    0.040380     0.320772  0.190015     0.427452   \n",
       "fireplaces    -0.019772   -0.045569     0.230737  0.271364     0.396765   \n",
       "garageyrblt    0.000387    0.075421     0.069268 -0.020808     0.530914   \n",
       "garagecars     0.016570   -0.040110     0.269276  0.154871     0.600671   \n",
       "garagearea     0.017634   -0.098672     0.323267  0.180403     0.562022   \n",
       "wooddecksf    -0.029643   -0.012579     0.074030  0.171698     0.238923   \n",
       "openporchsf   -0.000477   -0.006100     0.136552  0.084774     0.308819   \n",
       "enclosedporch  0.002889   -0.012037     0.010757 -0.018340    -0.113937   \n",
       "threessnporch -0.046635   -0.043825     0.061555  0.020423     0.030371   \n",
       "screenporch    0.001330   -0.026030     0.037616  0.043160     0.064886   \n",
       "poolarea       0.057044    0.008283     0.180716  0.077672     0.065166   \n",
       "miscval       -0.006242   -0.007683    -0.001610  0.038068    -0.031406   \n",
       "mosold         0.021172   -0.013585     0.010726  0.001205     0.070815   \n",
       "yrsold         0.000712   -0.021407     0.006009 -0.014261    -0.027347   \n",
       "saleprice     -0.021917   -0.084284     0.334544  0.263843     0.790982   \n",
       "houseage       0.012724   -0.028746    -0.115336 -0.014832    -0.572629   \n",
       "total_baths    0.004540    0.151048     0.199280  0.204764     0.541063   \n",
       "totalarea     -0.000322   -0.082225     0.426833  0.307234     0.668155   \n",
       "\n",
       "               overallcond  yearbuilt  yearremodadd  masvnrarea  bsmtfinsf1  \\\n",
       "id                0.012609  -0.012713     -0.021998   -0.051071   -0.005024   \n",
       "mssubclass       -0.059316   0.027850      0.040581    0.023573   -0.069836   \n",
       "lotfrontage      -0.053703   0.115781      0.083896    0.178194    0.212909   \n",
       "lotarea          -0.005636   0.014228      0.013788    0.103321    0.214103   \n",
       "overallqual      -0.091932   0.572323      0.550684    0.407252    0.239666   \n",
       "overallcond       1.000000  -0.375983      0.073741   -0.125694   -0.046231   \n",
       "yearbuilt        -0.375983   1.000000      0.592855    0.311600    0.249503   \n",
       "yearremodadd      0.073741   0.592855      1.000000    0.176529    0.128451   \n",
       "masvnrarea       -0.125694   0.311600      0.176529    1.000000    0.261256   \n",
       "bsmtfinsf1       -0.046231   0.249503      0.128451    0.261256    1.000000   \n",
       "bsmtfinsf2        0.040229  -0.049107     -0.067759   -0.071330   -0.050117   \n",
       "bsmtunfsf        -0.136841   0.149040      0.181133    0.113862   -0.495251   \n",
       "totalbsmtsf      -0.171098   0.391452      0.291066    0.360067    0.522396   \n",
       "firstflrsf       -0.144203   0.281986      0.240379    0.339850    0.445863   \n",
       "secondflrsf       0.028942   0.010308      0.140024    0.173800   -0.137079   \n",
       "lowqualfinsf      0.025494  -0.183784     -0.062419   -0.068628   -0.064503   \n",
       "grlivarea        -0.079686   0.199010      0.287389    0.388052    0.208171   \n",
       "bsmtfullbath     -0.054942   0.187599      0.119470    0.083010    0.649212   \n",
       "bsmthalfbath      0.117821  -0.038162     -0.012337    0.027403    0.067418   \n",
       "fullbath         -0.194149   0.468271      0.439046    0.272999    0.058543   \n",
       "halfbath         -0.060769   0.242656      0.183331    0.199108    0.004262   \n",
       "bedroomabvgr      0.012980  -0.070651     -0.040581    0.102775   -0.107355   \n",
       "kitchenabvgr     -0.087001  -0.174800     -0.149598   -0.038450   -0.081007   \n",
       "totrmsabvgrd     -0.057583   0.095589      0.191740    0.279568    0.044316   \n",
       "fireplaces       -0.023820   0.147716      0.112581    0.247015    0.260011   \n",
       "garageyrblt      -0.305304   0.791500      0.623274    0.252106    0.155830   \n",
       "garagecars       -0.185758   0.537850      0.420622    0.361945    0.224054   \n",
       "garagearea       -0.151521   0.478954      0.371600    0.370884    0.296970   \n",
       "wooddecksf       -0.003334   0.224880      0.205726    0.159991    0.204306   \n",
       "openporchsf      -0.032589   0.188686      0.226298    0.122528    0.111761   \n",
       "enclosedporch     0.070356  -0.387268     -0.193919   -0.109907   -0.102303   \n",
       "threessnporch     0.025504   0.031355      0.045286    0.019144    0.026451   \n",
       "screenporch       0.054811  -0.050364     -0.038740    0.062248    0.062021   \n",
       "poolarea         -0.001985   0.004950      0.005829    0.011928    0.140491   \n",
       "miscval           0.068777  -0.034383     -0.010286   -0.029512    0.003571   \n",
       "mosold           -0.003511   0.012398      0.021490   -0.006723   -0.015727   \n",
       "yrsold            0.043950  -0.013618      0.035743   -0.008317    0.014359   \n",
       "saleprice        -0.077856   0.522897      0.507101    0.472614    0.386420   \n",
       "houseage          0.377325  -0.999036     -0.590360   -0.311479   -0.248483   \n",
       "total_baths      -0.174032   0.524298      0.443719    0.314248    0.481609   \n",
       "totalarea        -0.143814   0.347133      0.342873    0.444454    0.415843   \n",
       "\n",
       "               ...  threessnporch  screenporch  poolarea   miscval    mosold  \\\n",
       "id             ...      -0.046635     0.001330  0.057044 -0.006242  0.021172   \n",
       "mssubclass     ...      -0.043825    -0.026030  0.008283 -0.007683 -0.013585   \n",
       "lotfrontage    ...       0.061555     0.037616  0.180716 -0.001610  0.010726   \n",
       "lotarea        ...       0.020423     0.043160  0.077672  0.038068  0.001205   \n",
       "overallqual    ...       0.030371     0.064886  0.065166 -0.031406  0.070815   \n",
       "overallcond    ...       0.025504     0.054811 -0.001985  0.068777 -0.003511   \n",
       "yearbuilt      ...       0.031355    -0.050364  0.004950 -0.034383  0.012398   \n",
       "yearremodadd   ...       0.045286    -0.038740  0.005829 -0.010286  0.021490   \n",
       "masvnrarea     ...       0.019144     0.062248  0.011928 -0.029512 -0.006723   \n",
       "bsmtfinsf1     ...       0.026451     0.062021  0.140491  0.003571 -0.015727   \n",
       "bsmtfinsf2     ...      -0.029993     0.088871  0.041709  0.004940 -0.015211   \n",
       "bsmtunfsf      ...       0.020764    -0.012579 -0.035092 -0.023837  0.034888   \n",
       "totalbsmtsf    ...       0.037384     0.084489  0.126053 -0.018479  0.013196   \n",
       "firstflrsf     ...       0.056104     0.088758  0.131525 -0.021096  0.031372   \n",
       "secondflrsf    ...      -0.024358     0.040606  0.081487  0.016197  0.035164   \n",
       "lowqualfinsf   ...      -0.004296     0.026799  0.062157 -0.003793 -0.022174   \n",
       "grlivarea      ...       0.020643     0.101510  0.170205 -0.002416  0.050240   \n",
       "bsmtfullbath   ...      -0.000106     0.023148  0.067616 -0.023047 -0.025361   \n",
       "bsmthalfbath   ...       0.035114     0.032121  0.020025 -0.007367  0.032873   \n",
       "fullbath       ...       0.035353    -0.008106  0.049604 -0.014290  0.055872   \n",
       "halfbath       ...      -0.004972     0.072426  0.022381  0.001290 -0.009050   \n",
       "bedroomabvgr   ...      -0.024478     0.044300  0.070703  0.007767  0.046544   \n",
       "kitchenabvgr   ...      -0.024600    -0.051613 -0.014525  0.062341  0.026589   \n",
       "totrmsabvgrd   ...      -0.006683     0.059383  0.083757  0.024763  0.036907   \n",
       "fireplaces     ...       0.011257     0.184530  0.095074  0.001409  0.046357   \n",
       "garageyrblt    ...       0.025011    -0.071628 -0.013584 -0.031542  0.005653   \n",
       "garagecars     ...       0.035765     0.050494  0.020934 -0.043080  0.040522   \n",
       "garagearea     ...       0.035087     0.051412  0.061047 -0.027400  0.027974   \n",
       "wooddecksf     ...      -0.032771    -0.074181  0.073378 -0.009551  0.021011   \n",
       "openporchsf    ...      -0.005842     0.074304  0.060762 -0.018584  0.071255   \n",
       "enclosedporch  ...      -0.037305    -0.082864  0.054203  0.018361 -0.028887   \n",
       "threessnporch  ...       1.000000    -0.031436 -0.007992  0.000354  0.029474   \n",
       "screenporch    ...      -0.031436     1.000000  0.051307  0.031946  0.023217   \n",
       "poolarea       ...      -0.007992     0.051307  1.000000  0.029669 -0.033737   \n",
       "miscval        ...       0.000354     0.031946  0.029669  1.000000 -0.006495   \n",
       "mosold         ...       0.029474     0.023217 -0.033737 -0.006495  1.000000   \n",
       "yrsold         ...       0.018645     0.010694 -0.059689  0.004906 -0.145721   \n",
       "saleprice      ...       0.044584     0.111447  0.092404 -0.021190  0.046432   \n",
       "houseage       ...      -0.030487     0.050755 -0.007563  0.034545 -0.018777   \n",
       "total_baths    ...       0.028473     0.037677  0.089677 -0.025957  0.024535   \n",
       "totalarea      ...       0.033414     0.108437  0.172466 -0.011186  0.040485   \n",
       "\n",
       "                 yrsold  saleprice  houseage  total_baths  totalarea  \n",
       "id             0.000712  -0.021917  0.012724     0.004540  -0.000322  \n",
       "mssubclass    -0.021407  -0.084284 -0.028746     0.151048  -0.082225  \n",
       "lotfrontage    0.006009   0.334544 -0.115336     0.199280   0.426833  \n",
       "lotarea       -0.014261   0.263843 -0.014832     0.204764   0.307234  \n",
       "overallqual   -0.027347   0.790982 -0.572629     0.541063   0.668155  \n",
       "overallcond    0.043950  -0.077856  0.377325    -0.174032  -0.143814  \n",
       "yearbuilt     -0.013618   0.522897 -0.999036     0.524298   0.347133  \n",
       "yearremodadd   0.035743   0.507101 -0.590360     0.443719   0.342873  \n",
       "masvnrarea    -0.008317   0.472614 -0.311479     0.314248   0.444454  \n",
       "bsmtfinsf1     0.014359   0.386420 -0.248483     0.481609   0.415843  \n",
       "bsmtfinsf2     0.031706  -0.011378  0.050422     0.051709   0.048916  \n",
       "bsmtunfsf     -0.041258   0.214479 -0.150619    -0.104496   0.373733  \n",
       "totalbsmtsf   -0.014969   0.613581 -0.391498     0.414468   0.826742  \n",
       "firstflrsf    -0.013604   0.605852 -0.282143     0.390557   0.800350  \n",
       "secondflrsf   -0.028700   0.319334 -0.011552     0.375160   0.342733  \n",
       "lowqualfinsf  -0.028921  -0.025606  0.182228    -0.041203   0.009207  \n",
       "grlivarea     -0.036526   0.708624 -0.200302     0.595169   0.874373  \n",
       "bsmtfullbath   0.067049   0.227122 -0.184362     0.583076   0.189158  \n",
       "bsmthalfbath  -0.046524  -0.016844  0.036060     0.012092  -0.011921  \n",
       "fullbath      -0.019669   0.560664 -0.468403     0.694197   0.575762  \n",
       "halfbath      -0.010269   0.284108 -0.242728     0.393516   0.241429  \n",
       "bedroomabvgr  -0.036014   0.168213  0.068960     0.234885   0.354034  \n",
       "kitchenabvgr   0.031687  -0.135907  0.175918     0.038331   0.026759  \n",
       "totrmsabvgrd  -0.034516   0.533723 -0.096955     0.460273   0.672596  \n",
       "fireplaces    -0.024096   0.466929 -0.148544     0.331652   0.477765  \n",
       "garageyrblt    0.001313   0.482104 -0.790206     0.465004   0.319984  \n",
       "garagecars    -0.039117   0.640409 -0.538727     0.483578   0.536413  \n",
       "garagearea    -0.027378   0.623431 -0.479408     0.451567   0.563747  \n",
       "wooddecksf     0.022270   0.324413 -0.223551     0.288200   0.283610  \n",
       "openporchsf   -0.057619   0.315856 -0.190921     0.286950   0.342108  \n",
       "enclosedporch -0.009916  -0.128578  0.386228    -0.145523  -0.048761  \n",
       "threessnporch  0.018645   0.044584 -0.030487     0.028473   0.033414  \n",
       "screenporch    0.010694   0.111447  0.050755     0.037677   0.108437  \n",
       "poolarea      -0.059689   0.092404 -0.007563     0.089677   0.172466  \n",
       "miscval        0.004906  -0.021190  0.034545    -0.025957  -0.011186  \n",
       "mosold        -0.145721   0.046432 -0.018777     0.024535   0.040485  \n",
       "yrsold         1.000000  -0.028923  0.057500     0.020144  -0.029638  \n",
       "saleprice     -0.028923   1.000000 -0.523350     0.631731   0.782260  \n",
       "houseage       0.057500  -0.523350  1.000000    -0.522595  -0.347892  \n",
       "total_baths    0.020144   0.631731 -0.522595     1.000000   0.604324  \n",
       "totalarea     -0.029638   0.782260 -0.347892     0.604324   1.000000  \n",
       "\n",
       "[41 rows x 41 columns]"
      ]
     },
     "execution_count": 21,
     "metadata": {},
     "output_type": "execute_result"
    },
    {
     "data": {
      "application/javascript": [
       "\n",
       "            setTimeout(function() {\n",
       "                var nbb_cell_id = 21;\n",
       "                var nbb_unformatted_code = \"houseprices_df.corr()\";\n",
       "                var nbb_formatted_code = \"houseprices_df.corr()\";\n",
       "                var nbb_cells = Jupyter.notebook.get_cells();\n",
       "                for (var i = 0; i < nbb_cells.length; ++i) {\n",
       "                    if (nbb_cells[i].input_prompt_number == nbb_cell_id) {\n",
       "                        if (nbb_cells[i].get_text() == nbb_unformatted_code) {\n",
       "                             nbb_cells[i].set_text(nbb_formatted_code);\n",
       "                        }\n",
       "                        break;\n",
       "                    }\n",
       "                }\n",
       "            }, 500);\n",
       "            "
      ],
      "text/plain": [
       "<IPython.core.display.Javascript object>"
      ]
     },
     "metadata": {},
     "output_type": "display_data"
    }
   ],
   "source": [
    "houseprices_df.corr()"
   ]
  },
  {
   "cell_type": "code",
   "execution_count": 22,
   "metadata": {},
   "outputs": [
    {
     "data": {
      "application/javascript": [
       "\n",
       "            setTimeout(function() {\n",
       "                var nbb_cell_id = 22;\n",
       "                var nbb_unformatted_code = \"cols_of_interest = [\\n    \\\"saleprice\\\",\\n    \\\"mszoning\\\",\\n    \\\"bldgtype\\\",\\n    \\\"housestyle\\\",\\n    \\\"overallcond\\\",\\n    \\\"total_baths\\\",  # some places have 0 bathrooms?\\n    \\\"salecondition\\\",\\n    \\\"lotarea\\\",\\n    \\\"lotfrontage\\\",\\n    \\\"houseage\\\",\\n    \\\"garagecars\\\",\\n    \\\"totalarea\\\",\\n    \\\"poolarea\\\",\\n    \\\"overallqual\\\",\\n]\\n\\n# columns chosen somewhat (completely) arbitrarily\";\n",
       "                var nbb_formatted_code = \"cols_of_interest = [\\n    \\\"saleprice\\\",\\n    \\\"mszoning\\\",\\n    \\\"bldgtype\\\",\\n    \\\"housestyle\\\",\\n    \\\"overallcond\\\",\\n    \\\"total_baths\\\",  # some places have 0 bathrooms?\\n    \\\"salecondition\\\",\\n    \\\"lotarea\\\",\\n    \\\"lotfrontage\\\",\\n    \\\"houseage\\\",\\n    \\\"garagecars\\\",\\n    \\\"totalarea\\\",\\n    \\\"poolarea\\\",\\n    \\\"overallqual\\\",\\n]\\n\\n# columns chosen somewhat (completely) arbitrarily\";\n",
       "                var nbb_cells = Jupyter.notebook.get_cells();\n",
       "                for (var i = 0; i < nbb_cells.length; ++i) {\n",
       "                    if (nbb_cells[i].input_prompt_number == nbb_cell_id) {\n",
       "                        if (nbb_cells[i].get_text() == nbb_unformatted_code) {\n",
       "                             nbb_cells[i].set_text(nbb_formatted_code);\n",
       "                        }\n",
       "                        break;\n",
       "                    }\n",
       "                }\n",
       "            }, 500);\n",
       "            "
      ],
      "text/plain": [
       "<IPython.core.display.Javascript object>"
      ]
     },
     "metadata": {},
     "output_type": "display_data"
    }
   ],
   "source": [
    "cols_of_interest = [\n",
    "    \"saleprice\",\n",
    "    \"mszoning\",\n",
    "    \"bldgtype\",\n",
    "    \"housestyle\",\n",
    "    \"overallcond\",\n",
    "    \"total_baths\",  # some places have 0 bathrooms?\n",
    "    \"salecondition\",\n",
    "    \"lotarea\",\n",
    "    \"lotfrontage\",\n",
    "    \"houseage\",\n",
    "    \"garagecars\",\n",
    "    \"totalarea\",\n",
    "    \"poolarea\",\n",
    "    \"overallqual\",\n",
    "]\n",
    "\n",
    "# columns chosen somewhat (completely) arbitrarily"
   ]
  },
  {
   "cell_type": "code",
   "execution_count": 23,
   "metadata": {},
   "outputs": [
    {
     "data": {
      "application/javascript": [
       "\n",
       "            setTimeout(function() {\n",
       "                var nbb_cell_id = 23;\n",
       "                var nbb_unformatted_code = \"houses = houseprices_df[cols_of_interest]\\n# houses.info()\";\n",
       "                var nbb_formatted_code = \"houses = houseprices_df[cols_of_interest]\\n# houses.info()\";\n",
       "                var nbb_cells = Jupyter.notebook.get_cells();\n",
       "                for (var i = 0; i < nbb_cells.length; ++i) {\n",
       "                    if (nbb_cells[i].input_prompt_number == nbb_cell_id) {\n",
       "                        if (nbb_cells[i].get_text() == nbb_unformatted_code) {\n",
       "                             nbb_cells[i].set_text(nbb_formatted_code);\n",
       "                        }\n",
       "                        break;\n",
       "                    }\n",
       "                }\n",
       "            }, 500);\n",
       "            "
      ],
      "text/plain": [
       "<IPython.core.display.Javascript object>"
      ]
     },
     "metadata": {},
     "output_type": "display_data"
    }
   ],
   "source": [
    "houses = houseprices_df[cols_of_interest]\n",
    "# houses.info()"
   ]
  },
  {
   "cell_type": "markdown",
   "metadata": {},
   "source": [
    "Seperate target from features, then split"
   ]
  },
  {
   "cell_type": "code",
   "execution_count": 24,
   "metadata": {},
   "outputs": [
    {
     "data": {
      "application/javascript": [
       "\n",
       "            setTimeout(function() {\n",
       "                var nbb_cell_id = 24;\n",
       "                var nbb_unformatted_code = \"X = houses.drop(columns='saleprice')\\ny = houses['saleprice']\\n\\nX_train, X_test, y_train, y_test = train_test_split(\\n    X, y, test_size=0.2, random_state=42\\n)\";\n",
       "                var nbb_formatted_code = \"X = houses.drop(columns=\\\"saleprice\\\")\\ny = houses[\\\"saleprice\\\"]\\n\\nX_train, X_test, y_train, y_test = train_test_split(\\n    X, y, test_size=0.2, random_state=42\\n)\";\n",
       "                var nbb_cells = Jupyter.notebook.get_cells();\n",
       "                for (var i = 0; i < nbb_cells.length; ++i) {\n",
       "                    if (nbb_cells[i].input_prompt_number == nbb_cell_id) {\n",
       "                        if (nbb_cells[i].get_text() == nbb_unformatted_code) {\n",
       "                             nbb_cells[i].set_text(nbb_formatted_code);\n",
       "                        }\n",
       "                        break;\n",
       "                    }\n",
       "                }\n",
       "            }, 500);\n",
       "            "
      ],
      "text/plain": [
       "<IPython.core.display.Javascript object>"
      ]
     },
     "metadata": {},
     "output_type": "display_data"
    }
   ],
   "source": [
    "X = houses.drop(columns='saleprice')\n",
    "y = houses['saleprice']\n",
    "\n",
    "X_train, X_test, y_train, y_test = train_test_split(\n",
    "    X, y, test_size=0.2, random_state=42\n",
    ")\n"
   ]
  },
  {
   "cell_type": "code",
   "execution_count": 25,
   "metadata": {},
   "outputs": [
    {
     "data": {
      "application/javascript": [
       "\n",
       "            setTimeout(function() {\n",
       "                var nbb_cell_id = 25;\n",
       "                var nbb_unformatted_code = \"# sns.pairplot(houses)\";\n",
       "                var nbb_formatted_code = \"# sns.pairplot(houses)\";\n",
       "                var nbb_cells = Jupyter.notebook.get_cells();\n",
       "                for (var i = 0; i < nbb_cells.length; ++i) {\n",
       "                    if (nbb_cells[i].input_prompt_number == nbb_cell_id) {\n",
       "                        if (nbb_cells[i].get_text() == nbb_unformatted_code) {\n",
       "                             nbb_cells[i].set_text(nbb_formatted_code);\n",
       "                        }\n",
       "                        break;\n",
       "                    }\n",
       "                }\n",
       "            }, 500);\n",
       "            "
      ],
      "text/plain": [
       "<IPython.core.display.Javascript object>"
      ]
     },
     "metadata": {},
     "output_type": "display_data"
    }
   ],
   "source": [
    "# sns.pairplot(houses)"
   ]
  },
  {
   "cell_type": "markdown",
   "metadata": {},
   "source": [
    "Transform and Treat columns"
   ]
  },
  {
   "cell_type": "code",
   "execution_count": 26,
   "metadata": {},
   "outputs": [
    {
     "data": {
      "text/plain": [
       "['overallcond',\n",
       " 'total_baths',\n",
       " 'lotarea',\n",
       " 'lotfrontage',\n",
       " 'houseage',\n",
       " 'garagecars',\n",
       " 'totalarea',\n",
       " 'poolarea',\n",
       " 'overallqual']"
      ]
     },
     "execution_count": 26,
     "metadata": {},
     "output_type": "execute_result"
    },
    {
     "data": {
      "application/javascript": [
       "\n",
       "            setTimeout(function() {\n",
       "                var nbb_cell_id = 26;\n",
       "                var nbb_unformatted_code = \"cat_cols = X.select_dtypes(include=[\\\"object\\\"]).columns.to_list()\\ndrop_cats = []\\n\\nnum_cols = X.select_dtypes(exclude=[\\\"object\\\"]).columns.to_list()\\ncat_cols\\nnum_cols\";\n",
       "                var nbb_formatted_code = \"cat_cols = X.select_dtypes(include=[\\\"object\\\"]).columns.to_list()\\ndrop_cats = []\\n\\nnum_cols = X.select_dtypes(exclude=[\\\"object\\\"]).columns.to_list()\\ncat_cols\\nnum_cols\";\n",
       "                var nbb_cells = Jupyter.notebook.get_cells();\n",
       "                for (var i = 0; i < nbb_cells.length; ++i) {\n",
       "                    if (nbb_cells[i].input_prompt_number == nbb_cell_id) {\n",
       "                        if (nbb_cells[i].get_text() == nbb_unformatted_code) {\n",
       "                             nbb_cells[i].set_text(nbb_formatted_code);\n",
       "                        }\n",
       "                        break;\n",
       "                    }\n",
       "                }\n",
       "            }, 500);\n",
       "            "
      ],
      "text/plain": [
       "<IPython.core.display.Javascript object>"
      ]
     },
     "metadata": {},
     "output_type": "display_data"
    }
   ],
   "source": [
    "cat_cols = X.select_dtypes(include=[\"object\"]).columns.to_list()\n",
    "drop_cats = []\n",
    "\n",
    "num_cols = X.select_dtypes(exclude=[\"object\"]).columns.to_list()\n",
    "cat_cols\n",
    "num_cols"
   ]
  },
  {
   "cell_type": "code",
   "execution_count": 27,
   "metadata": {},
   "outputs": [
    {
     "data": {
      "text/plain": [
       "['RL', '1Fam', '1Story', 'Normal']"
      ]
     },
     "execution_count": 27,
     "metadata": {},
     "output_type": "execute_result"
    },
    {
     "data": {
      "application/javascript": [
       "\n",
       "            setTimeout(function() {\n",
       "                var nbb_cell_id = 27;\n",
       "                var nbb_unformatted_code = \"drop_cats = []\\nfor col in cat_cols:\\n    drop_cats.append(houses[col].mode().values[0])\\ndrop_cats\";\n",
       "                var nbb_formatted_code = \"drop_cats = []\\nfor col in cat_cols:\\n    drop_cats.append(houses[col].mode().values[0])\\ndrop_cats\";\n",
       "                var nbb_cells = Jupyter.notebook.get_cells();\n",
       "                for (var i = 0; i < nbb_cells.length; ++i) {\n",
       "                    if (nbb_cells[i].input_prompt_number == nbb_cell_id) {\n",
       "                        if (nbb_cells[i].get_text() == nbb_unformatted_code) {\n",
       "                             nbb_cells[i].set_text(nbb_formatted_code);\n",
       "                        }\n",
       "                        break;\n",
       "                    }\n",
       "                }\n",
       "            }, 500);\n",
       "            "
      ],
      "text/plain": [
       "<IPython.core.display.Javascript object>"
      ]
     },
     "metadata": {},
     "output_type": "display_data"
    }
   ],
   "source": [
    "drop_cats = []\n",
    "for col in cat_cols:\n",
    "    drop_cats.append(houses[col].mode().values[0])\n",
    "drop_cats"
   ]
  },
  {
   "cell_type": "code",
   "execution_count": null,
   "metadata": {},
   "outputs": [],
   "source": []
  },
  {
   "cell_type": "code",
   "execution_count": 28,
   "metadata": {},
   "outputs": [
    {
     "data": {
      "application/javascript": [
       "\n",
       "            setTimeout(function() {\n",
       "                var nbb_cell_id = 28;\n",
       "                var nbb_unformatted_code = \"ct = ColumnTransformer(\\n    [(\\\"one_hot_encode\\\", OneHotEncoder(drop=drop_cats, sparse=False), cat_cols)],\\n    remainder=\\\"passthrough\\\",\\n)\";\n",
       "                var nbb_formatted_code = \"ct = ColumnTransformer(\\n    [(\\\"one_hot_encode\\\", OneHotEncoder(drop=drop_cats, sparse=False), cat_cols)],\\n    remainder=\\\"passthrough\\\",\\n)\";\n",
       "                var nbb_cells = Jupyter.notebook.get_cells();\n",
       "                for (var i = 0; i < nbb_cells.length; ++i) {\n",
       "                    if (nbb_cells[i].input_prompt_number == nbb_cell_id) {\n",
       "                        if (nbb_cells[i].get_text() == nbb_unformatted_code) {\n",
       "                             nbb_cells[i].set_text(nbb_formatted_code);\n",
       "                        }\n",
       "                        break;\n",
       "                    }\n",
       "                }\n",
       "            }, 500);\n",
       "            "
      ],
      "text/plain": [
       "<IPython.core.display.Javascript object>"
      ]
     },
     "metadata": {},
     "output_type": "display_data"
    }
   ],
   "source": [
    "ct = ColumnTransformer(\n",
    "    [(\"one_hot_encode\", OneHotEncoder(drop=drop_cats, sparse=False), cat_cols)],\n",
    "    remainder=\"passthrough\",\n",
    ")"
   ]
  },
  {
   "cell_type": "code",
   "execution_count": 29,
   "metadata": {},
   "outputs": [
    {
     "data": {
      "text/plain": [
       "ColumnTransformer(n_jobs=None, remainder='passthrough', sparse_threshold=0.3,\n",
       "                  transformer_weights=None,\n",
       "                  transformers=[('one_hot_encode',\n",
       "                                 OneHotEncoder(categories='auto',\n",
       "                                               drop=['RL', '1Fam', '1Story',\n",
       "                                                     'Normal'],\n",
       "                                               dtype=<class 'numpy.float64'>,\n",
       "                                               handle_unknown='error',\n",
       "                                               sparse=False),\n",
       "                                 ['mszoning', 'bldgtype', 'housestyle',\n",
       "                                  'salecondition'])],\n",
       "                  verbose=False)"
      ]
     },
     "execution_count": 29,
     "metadata": {},
     "output_type": "execute_result"
    },
    {
     "data": {
      "application/javascript": [
       "\n",
       "            setTimeout(function() {\n",
       "                var nbb_cell_id = 29;\n",
       "                var nbb_unformatted_code = \"ct.fit(X_train)\";\n",
       "                var nbb_formatted_code = \"ct.fit(X_train)\";\n",
       "                var nbb_cells = Jupyter.notebook.get_cells();\n",
       "                for (var i = 0; i < nbb_cells.length; ++i) {\n",
       "                    if (nbb_cells[i].input_prompt_number == nbb_cell_id) {\n",
       "                        if (nbb_cells[i].get_text() == nbb_unformatted_code) {\n",
       "                             nbb_cells[i].set_text(nbb_formatted_code);\n",
       "                        }\n",
       "                        break;\n",
       "                    }\n",
       "                }\n",
       "            }, 500);\n",
       "            "
      ],
      "text/plain": [
       "<IPython.core.display.Javascript object>"
      ]
     },
     "metadata": {},
     "output_type": "display_data"
    }
   ],
   "source": [
    "ct.fit(X_train)"
   ]
  },
  {
   "cell_type": "code",
   "execution_count": 30,
   "metadata": {},
   "outputs": [
    {
     "data": {
      "application/javascript": [
       "\n",
       "            setTimeout(function() {\n",
       "                var nbb_cell_id = 30;\n",
       "                var nbb_unformatted_code = \"X_train_trans = ct.transform(X_train)\\nX_test_trans = ct.transform(X_test)\";\n",
       "                var nbb_formatted_code = \"X_train_trans = ct.transform(X_train)\\nX_test_trans = ct.transform(X_test)\";\n",
       "                var nbb_cells = Jupyter.notebook.get_cells();\n",
       "                for (var i = 0; i < nbb_cells.length; ++i) {\n",
       "                    if (nbb_cells[i].input_prompt_number == nbb_cell_id) {\n",
       "                        if (nbb_cells[i].get_text() == nbb_unformatted_code) {\n",
       "                             nbb_cells[i].set_text(nbb_formatted_code);\n",
       "                        }\n",
       "                        break;\n",
       "                    }\n",
       "                }\n",
       "            }, 500);\n",
       "            "
      ],
      "text/plain": [
       "<IPython.core.display.Javascript object>"
      ]
     },
     "metadata": {},
     "output_type": "display_data"
    }
   ],
   "source": [
    "X_train_trans = ct.transform(X_train)\n",
    "X_test_trans = ct.transform(X_test)"
   ]
  },
  {
   "cell_type": "code",
   "execution_count": 31,
   "metadata": {},
   "outputs": [
    {
     "data": {
      "text/plain": [
       "(1168, 29)"
      ]
     },
     "execution_count": 31,
     "metadata": {},
     "output_type": "execute_result"
    },
    {
     "data": {
      "application/javascript": [
       "\n",
       "            setTimeout(function() {\n",
       "                var nbb_cell_id = 31;\n",
       "                var nbb_unformatted_code = \"X_train_trans.shape\";\n",
       "                var nbb_formatted_code = \"X_train_trans.shape\";\n",
       "                var nbb_cells = Jupyter.notebook.get_cells();\n",
       "                for (var i = 0; i < nbb_cells.length; ++i) {\n",
       "                    if (nbb_cells[i].input_prompt_number == nbb_cell_id) {\n",
       "                        if (nbb_cells[i].get_text() == nbb_unformatted_code) {\n",
       "                             nbb_cells[i].set_text(nbb_formatted_code);\n",
       "                        }\n",
       "                        break;\n",
       "                    }\n",
       "                }\n",
       "            }, 500);\n",
       "            "
      ],
      "text/plain": [
       "<IPython.core.display.Javascript object>"
      ]
     },
     "metadata": {},
     "output_type": "display_data"
    }
   ],
   "source": [
    "X_train_trans.shape"
   ]
  },
  {
   "cell_type": "code",
   "execution_count": 32,
   "metadata": {},
   "outputs": [
    {
     "data": {
      "application/javascript": [
       "\n",
       "            setTimeout(function() {\n",
       "                var nbb_cell_id = 32;\n",
       "                var nbb_unformatted_code = \"cat_names = ct.transformers_[0][1].get_feature_names(cat_cols)\\ncat_names = list(cat_names)\\nnew_col_names = cat_names + num_cols\\n\\nX_train = pd.DataFrame(X_train_trans, columns=new_col_names)\\nX_test = pd.DataFrame(X_test_trans, columns=new_col_names)\";\n",
       "                var nbb_formatted_code = \"cat_names = ct.transformers_[0][1].get_feature_names(cat_cols)\\ncat_names = list(cat_names)\\nnew_col_names = cat_names + num_cols\\n\\nX_train = pd.DataFrame(X_train_trans, columns=new_col_names)\\nX_test = pd.DataFrame(X_test_trans, columns=new_col_names)\";\n",
       "                var nbb_cells = Jupyter.notebook.get_cells();\n",
       "                for (var i = 0; i < nbb_cells.length; ++i) {\n",
       "                    if (nbb_cells[i].input_prompt_number == nbb_cell_id) {\n",
       "                        if (nbb_cells[i].get_text() == nbb_unformatted_code) {\n",
       "                             nbb_cells[i].set_text(nbb_formatted_code);\n",
       "                        }\n",
       "                        break;\n",
       "                    }\n",
       "                }\n",
       "            }, 500);\n",
       "            "
      ],
      "text/plain": [
       "<IPython.core.display.Javascript object>"
      ]
     },
     "metadata": {},
     "output_type": "display_data"
    }
   ],
   "source": [
    "cat_names = ct.transformers_[0][1].get_feature_names(cat_cols)\n",
    "cat_names = list(cat_names)\n",
    "new_col_names = cat_names + num_cols\n",
    "\n",
    "X_train = pd.DataFrame(X_train_trans, columns=new_col_names)\n",
    "X_test = pd.DataFrame(X_test_trans, columns=new_col_names)"
   ]
  },
  {
   "cell_type": "code",
   "execution_count": 33,
   "metadata": {
    "scrolled": true
   },
   "outputs": [
    {
     "name": "stdout",
     "output_type": "stream",
     "text": [
      "VIF results\n",
      "-------------------------------\n",
      "const                    80.408514\n",
      "mszoning_C (all)          1.068070\n",
      "mszoning_FV               1.186898\n",
      "mszoning_RH               1.080130\n",
      "mszoning_RM               1.552211\n",
      "bldgtype_2fmCon           1.105871\n",
      "bldgtype_Duplex           1.274999\n",
      "bldgtype_Twnhs            1.293737\n",
      "bldgtype_TwnhsE           1.395905\n",
      "housestyle_1.5Fin         1.404937\n",
      "housestyle_1.5Unf         1.062596\n",
      "housestyle_2.5Fin         1.104198\n",
      "housestyle_2.5Unf         1.164538\n",
      "housestyle_2Story         1.446753\n",
      "housestyle_SFoyer         1.108647\n",
      "housestyle_SLvl           1.099937\n",
      "salecondition_Abnorml     1.069643\n",
      "salecondition_AdjLand     1.069148\n",
      "salecondition_Alloca      1.153585\n",
      "salecondition_Family      1.028929\n",
      "salecondition_Partial     1.237251\n",
      "overallcond               1.321448\n",
      "total_baths               2.275583\n",
      "lotarea                   1.212751\n",
      "lotfrontage               1.613151\n",
      "houseage                  3.385343\n",
      "garagecars                1.897523\n",
      "totalarea                 3.061995\n",
      "poolarea                  1.139839\n",
      "overallqual               2.977683\n",
      "dtype: float64\n",
      "-------------------------------\n",
      "\n"
     ]
    },
    {
     "data": {
      "application/javascript": [
       "\n",
       "            setTimeout(function() {\n",
       "                var nbb_cell_id = 33;\n",
       "                var nbb_unformatted_code = \"print_vif(X_train)\";\n",
       "                var nbb_formatted_code = \"print_vif(X_train)\";\n",
       "                var nbb_cells = Jupyter.notebook.get_cells();\n",
       "                for (var i = 0; i < nbb_cells.length; ++i) {\n",
       "                    if (nbb_cells[i].input_prompt_number == nbb_cell_id) {\n",
       "                        if (nbb_cells[i].get_text() == nbb_unformatted_code) {\n",
       "                             nbb_cells[i].set_text(nbb_formatted_code);\n",
       "                        }\n",
       "                        break;\n",
       "                    }\n",
       "                }\n",
       "            }, 500);\n",
       "            "
      ],
      "text/plain": [
       "<IPython.core.display.Javascript object>"
      ]
     },
     "metadata": {},
     "output_type": "display_data"
    }
   ],
   "source": [
    "print_vif(X_train)"
   ]
  },
  {
   "cell_type": "markdown",
   "metadata": {},
   "source": [
    "No features are highly colinear, so model building can begin"
   ]
  },
  {
   "cell_type": "markdown",
   "metadata": {},
   "source": [
    "# Modeling House Prices\n"
   ]
  },
  {
   "cell_type": "code",
   "execution_count": 34,
   "metadata": {},
   "outputs": [
    {
     "data": {
      "text/plain": [
       "LinearRegression(copy_X=True, fit_intercept=True, n_jobs=None, normalize=False)"
      ]
     },
     "execution_count": 34,
     "metadata": {},
     "output_type": "execute_result"
    },
    {
     "data": {
      "application/javascript": [
       "\n",
       "            setTimeout(function() {\n",
       "                var nbb_cell_id = 34;\n",
       "                var nbb_unformatted_code = \"linear = LinearRegression()\\nlinear.fit(X_train, y_train)\";\n",
       "                var nbb_formatted_code = \"linear = LinearRegression()\\nlinear.fit(X_train, y_train)\";\n",
       "                var nbb_cells = Jupyter.notebook.get_cells();\n",
       "                for (var i = 0; i < nbb_cells.length; ++i) {\n",
       "                    if (nbb_cells[i].input_prompt_number == nbb_cell_id) {\n",
       "                        if (nbb_cells[i].get_text() == nbb_unformatted_code) {\n",
       "                             nbb_cells[i].set_text(nbb_formatted_code);\n",
       "                        }\n",
       "                        break;\n",
       "                    }\n",
       "                }\n",
       "            }, 500);\n",
       "            "
      ],
      "text/plain": [
       "<IPython.core.display.Javascript object>"
      ]
     },
     "metadata": {},
     "output_type": "display_data"
    }
   ],
   "source": [
    "linear = LinearRegression()\n",
    "linear.fit(X_train, y_train)"
   ]
  },
  {
   "cell_type": "code",
   "execution_count": 35,
   "metadata": {},
   "outputs": [
    {
     "name": "stdout",
     "output_type": "stream",
     "text": [
      "Fitting 5 folds for each of 7 candidates, totalling 35 fits\n"
     ]
    },
    {
     "name": "stderr",
     "output_type": "stream",
     "text": [
      "[Parallel(n_jobs=1)]: Using backend SequentialBackend with 1 concurrent workers.\n"
     ]
    },
    {
     "name": "stdout",
     "output_type": "stream",
     "text": [
      "selected alpha: 10\n"
     ]
    },
    {
     "name": "stderr",
     "output_type": "stream",
     "text": [
      "[Parallel(n_jobs=1)]: Done  35 out of  35 | elapsed:    0.4s finished\n"
     ]
    },
    {
     "data": {
      "text/plain": [
       "array([ 6.06792966e+01, -1.48552045e+03,  7.50188034e+02, -7.90661177e+03,\n",
       "       -6.62744972e+03, -1.96345391e+04, -1.80036729e+04, -1.20635716e+04,\n",
       "       -7.38195495e+02, -2.51557909e+03,  6.75092318e+03, -1.03436894e+04,\n",
       "       -3.32127560e+03, -1.29863274e+03, -4.28479701e+03, -4.79841650e+03,\n",
       "        2.71305180e+03,  9.63575070e+03, -9.77164651e+03,  2.00664076e+04,\n",
       "        5.23015364e+03,  1.42198369e+04,  5.02923940e-01, -1.06670082e+02,\n",
       "       -1.58833565e+02,  1.39562640e+04,  2.97660363e+01, -3.11230629e+00,\n",
       "        2.09096327e+04])"
      ]
     },
     "execution_count": 35,
     "metadata": {},
     "output_type": "execute_result"
    },
    {
     "data": {
      "application/javascript": [
       "\n",
       "            setTimeout(function() {\n",
       "                var nbb_cell_id = 35;\n",
       "                var nbb_unformatted_code = \"grid = {\\\"alpha\\\": [0.0001, 0.001, 0.01, 0.1, 1, 10, 20]}\\nridge_cv = GridSearchCV(Ridge(), grid, verbose=1, cv=5)\\nridge_cv.fit(X_train, y_train)\\n\\n# The best fit is in the best_estimator_ attribute\\nprint(f\\\"selected alpha: {ridge_cv.best_estimator_.alpha}\\\")\\nridge_cv.best_estimator_.coef_\";\n",
       "                var nbb_formatted_code = \"grid = {\\\"alpha\\\": [0.0001, 0.001, 0.01, 0.1, 1, 10, 20]}\\nridge_cv = GridSearchCV(Ridge(), grid, verbose=1, cv=5)\\nridge_cv.fit(X_train, y_train)\\n\\n# The best fit is in the best_estimator_ attribute\\nprint(f\\\"selected alpha: {ridge_cv.best_estimator_.alpha}\\\")\\nridge_cv.best_estimator_.coef_\";\n",
       "                var nbb_cells = Jupyter.notebook.get_cells();\n",
       "                for (var i = 0; i < nbb_cells.length; ++i) {\n",
       "                    if (nbb_cells[i].input_prompt_number == nbb_cell_id) {\n",
       "                        if (nbb_cells[i].get_text() == nbb_unformatted_code) {\n",
       "                             nbb_cells[i].set_text(nbb_formatted_code);\n",
       "                        }\n",
       "                        break;\n",
       "                    }\n",
       "                }\n",
       "            }, 500);\n",
       "            "
      ],
      "text/plain": [
       "<IPython.core.display.Javascript object>"
      ]
     },
     "metadata": {},
     "output_type": "display_data"
    }
   ],
   "source": [
    "grid = {\"alpha\": [0.0001, 0.001, 0.01, 0.1, 1, 10, 20]}\n",
    "ridge_cv = GridSearchCV(Ridge(), grid, verbose=1, cv=5)\n",
    "ridge_cv.fit(X_train, y_train)\n",
    "\n",
    "# The best fit is in the best_estimator_ attribute\n",
    "print(f\"selected alpha: {ridge_cv.best_estimator_.alpha}\")\n",
    "ridge_cv.best_estimator_.coef_"
   ]
  },
  {
   "cell_type": "code",
   "execution_count": 36,
   "metadata": {},
   "outputs": [
    {
     "name": "stderr",
     "output_type": "stream",
     "text": [
      "[Parallel(n_jobs=1)]: Using backend SequentialBackend with 1 concurrent workers.\n"
     ]
    },
    {
     "name": "stdout",
     "output_type": "stream",
     "text": [
      "Fitting 5 folds for each of 9 candidates, totalling 45 fits\n",
      "selected alpha: 100\n"
     ]
    },
    {
     "name": "stderr",
     "output_type": "stream",
     "text": [
      "[Parallel(n_jobs=1)]: Done  45 out of  45 | elapsed:    0.7s finished\n"
     ]
    },
    {
     "data": {
      "text/plain": [
       "array([-0.00000000e+00, -0.00000000e+00,  0.00000000e+00, -7.48677996e+03,\n",
       "       -5.04628021e+03, -2.14063654e+04, -2.11434689e+04, -1.25498893e+04,\n",
       "       -0.00000000e+00, -0.00000000e+00,  5.44775639e+02, -9.22688315e+03,\n",
       "       -2.77213869e+03, -0.00000000e+00, -2.45716128e+03, -3.56029236e+03,\n",
       "        0.00000000e+00,  7.80593277e+03, -7.85697844e+03,  2.09612425e+04,\n",
       "        5.17222094e+03,  1.43316006e+04,  5.00175761e-01, -1.11515439e+02,\n",
       "       -1.58701471e+02,  1.39030564e+04,  2.98330878e+01, -3.19420783e+00,\n",
       "        2.08806420e+04])"
      ]
     },
     "execution_count": 36,
     "metadata": {},
     "output_type": "execute_result"
    },
    {
     "data": {
      "application/javascript": [
       "\n",
       "            setTimeout(function() {\n",
       "                var nbb_cell_id = 36;\n",
       "                var nbb_unformatted_code = \"grid = {\\\"alpha\\\": [0.0001, 0.001, 0.01, 0.1, 1, 10, 100, 500, 1000]}\\nlasso_cv = GridSearchCV(Lasso(), grid, verbose=1, cv=5)\\nlasso_cv.fit(X_train, y_train)\\n\\n# The best fit is in the best_estimator_ attribute\\nprint(f\\\"selected alpha: {lasso_cv.best_estimator_.alpha}\\\")\\nlasso_cv.best_estimator_.coef_\";\n",
       "                var nbb_formatted_code = \"grid = {\\\"alpha\\\": [0.0001, 0.001, 0.01, 0.1, 1, 10, 100, 500, 1000]}\\nlasso_cv = GridSearchCV(Lasso(), grid, verbose=1, cv=5)\\nlasso_cv.fit(X_train, y_train)\\n\\n# The best fit is in the best_estimator_ attribute\\nprint(f\\\"selected alpha: {lasso_cv.best_estimator_.alpha}\\\")\\nlasso_cv.best_estimator_.coef_\";\n",
       "                var nbb_cells = Jupyter.notebook.get_cells();\n",
       "                for (var i = 0; i < nbb_cells.length; ++i) {\n",
       "                    if (nbb_cells[i].input_prompt_number == nbb_cell_id) {\n",
       "                        if (nbb_cells[i].get_text() == nbb_unformatted_code) {\n",
       "                             nbb_cells[i].set_text(nbb_formatted_code);\n",
       "                        }\n",
       "                        break;\n",
       "                    }\n",
       "                }\n",
       "            }, 500);\n",
       "            "
      ],
      "text/plain": [
       "<IPython.core.display.Javascript object>"
      ]
     },
     "metadata": {},
     "output_type": "display_data"
    }
   ],
   "source": [
    "grid = {\"alpha\": [0.0001, 0.001, 0.01, 0.1, 1, 10, 100, 500, 1000]}\n",
    "lasso_cv = GridSearchCV(Lasso(), grid, verbose=1, cv=5)\n",
    "lasso_cv.fit(X_train, y_train)\n",
    "\n",
    "# The best fit is in the best_estimator_ attribute\n",
    "print(f\"selected alpha: {lasso_cv.best_estimator_.alpha}\")\n",
    "lasso_cv.best_estimator_.coef_"
   ]
  },
  {
   "cell_type": "code",
   "execution_count": 37,
   "metadata": {},
   "outputs": [
    {
     "name": "stderr",
     "output_type": "stream",
     "text": [
      "[Parallel(n_jobs=1)]: Using backend SequentialBackend with 1 concurrent workers.\n"
     ]
    },
    {
     "name": "stdout",
     "output_type": "stream",
     "text": [
      "Fitting 5 folds for each of 24 candidates, totalling 120 fits\n",
      "selected alpha: 0.01\n",
      "selected l1_ratio: 0.1\n"
     ]
    },
    {
     "name": "stderr",
     "output_type": "stream",
     "text": [
      "[Parallel(n_jobs=1)]: Done 120 out of 120 | elapsed:    1.6s finished\n"
     ]
    },
    {
     "data": {
      "text/plain": [
       "array([ 3.63391800e+01, -1.47449682e+03,  7.10070103e+02, -7.91574562e+03,\n",
       "       -6.51746418e+03, -1.93798322e+04, -1.77318937e+04, -1.19426654e+04,\n",
       "       -7.02423420e+02, -2.43127057e+03,  6.57697123e+03, -1.00692003e+04,\n",
       "       -3.29470790e+03, -1.28480463e+03, -4.22713359e+03, -4.77314552e+03,\n",
       "        2.59865696e+03,  9.32134256e+03, -9.61346525e+03,  1.99618635e+04,\n",
       "        5.23933733e+03,  1.41814007e+04,  5.03357726e-01, -1.05645929e+02,\n",
       "       -1.59614901e+02,  1.39477426e+04,  2.97949510e+01, -3.10180457e+00,\n",
       "        2.09023570e+04])"
      ]
     },
     "execution_count": 37,
     "metadata": {},
     "output_type": "execute_result"
    },
    {
     "data": {
      "application/javascript": [
       "\n",
       "            setTimeout(function() {\n",
       "                var nbb_cell_id = 37;\n",
       "                var nbb_unformatted_code = \"grid = {\\n    \\\"alpha\\\": [0.0001, 0.001, 0.01, 0.1],\\n    \\\"l1_ratio\\\": [0.001, 0.01, 0.1, 0.5, 0.75, 1],\\n}\\nelasticnet_cv = GridSearchCV(ElasticNet(), grid, verbose=1)\\nelasticnet_cv.fit(X_train, y_train)\\n\\nprint(f\\\"selected alpha: {elasticnet_cv.best_estimator_.alpha}\\\")\\nprint(f\\\"selected l1_ratio: {elasticnet_cv.best_estimator_.l1_ratio}\\\")\\nelasticnet_cv.best_estimator_.coef_\";\n",
       "                var nbb_formatted_code = \"grid = {\\n    \\\"alpha\\\": [0.0001, 0.001, 0.01, 0.1],\\n    \\\"l1_ratio\\\": [0.001, 0.01, 0.1, 0.5, 0.75, 1],\\n}\\nelasticnet_cv = GridSearchCV(ElasticNet(), grid, verbose=1)\\nelasticnet_cv.fit(X_train, y_train)\\n\\nprint(f\\\"selected alpha: {elasticnet_cv.best_estimator_.alpha}\\\")\\nprint(f\\\"selected l1_ratio: {elasticnet_cv.best_estimator_.l1_ratio}\\\")\\nelasticnet_cv.best_estimator_.coef_\";\n",
       "                var nbb_cells = Jupyter.notebook.get_cells();\n",
       "                for (var i = 0; i < nbb_cells.length; ++i) {\n",
       "                    if (nbb_cells[i].input_prompt_number == nbb_cell_id) {\n",
       "                        if (nbb_cells[i].get_text() == nbb_unformatted_code) {\n",
       "                             nbb_cells[i].set_text(nbb_formatted_code);\n",
       "                        }\n",
       "                        break;\n",
       "                    }\n",
       "                }\n",
       "            }, 500);\n",
       "            "
      ],
      "text/plain": [
       "<IPython.core.display.Javascript object>"
      ]
     },
     "metadata": {},
     "output_type": "display_data"
    }
   ],
   "source": [
    "grid = {\n",
    "    \"alpha\": [0.0001, 0.001, 0.01, 0.1],\n",
    "    \"l1_ratio\": [0.001, 0.01, 0.1, 0.5, 0.75, 1],\n",
    "}\n",
    "elasticnet_cv = GridSearchCV(ElasticNet(), grid, verbose=1)\n",
    "elasticnet_cv.fit(X_train, y_train)\n",
    "\n",
    "print(f\"selected alpha: {elasticnet_cv.best_estimator_.alpha}\")\n",
    "print(f\"selected l1_ratio: {elasticnet_cv.best_estimator_.l1_ratio}\")\n",
    "elasticnet_cv.best_estimator_.coef_"
   ]
  },
  {
   "cell_type": "code",
   "execution_count": 38,
   "metadata": {},
   "outputs": [
    {
     "name": "stdout",
     "output_type": "stream",
     "text": [
      "Ridge Train Score: 0.79\n",
      "Ridge Test Score: 0.81\n",
      "Lasso Train Score: 0.79\n",
      "Lasso Test Score: 0.81\n",
      "Elasticnet Train Score: 0.79\n",
      "Elasticnet Test Score: 0.81\n"
     ]
    },
    {
     "data": {
      "application/javascript": [
       "\n",
       "            setTimeout(function() {\n",
       "                var nbb_cell_id = 38;\n",
       "                var nbb_unformatted_code = \"print(f\\\"Ridge Train Score: {ridge_cv.score(X_train, y_train):.2f}\\\")\\nprint(f\\\"Ridge Test Score: {ridge_cv.score(X_test, y_test):.2f}\\\")\\nprint(f\\\"Lasso Train Score: {lasso_cv.score(X_train, y_train):.2f}\\\")\\nprint(f\\\"Lasso Test Score: {lasso_cv.score(X_test, y_test):.2f}\\\")\\nprint(f\\\"Elasticnet Train Score: {elasticnet_cv.score(X_train, y_train):.2f}\\\")\\nprint(f\\\"Elasticnet Test Score: {elasticnet_cv.score(X_test, y_test):.2f}\\\")\";\n",
       "                var nbb_formatted_code = \"print(f\\\"Ridge Train Score: {ridge_cv.score(X_train, y_train):.2f}\\\")\\nprint(f\\\"Ridge Test Score: {ridge_cv.score(X_test, y_test):.2f}\\\")\\nprint(f\\\"Lasso Train Score: {lasso_cv.score(X_train, y_train):.2f}\\\")\\nprint(f\\\"Lasso Test Score: {lasso_cv.score(X_test, y_test):.2f}\\\")\\nprint(f\\\"Elasticnet Train Score: {elasticnet_cv.score(X_train, y_train):.2f}\\\")\\nprint(f\\\"Elasticnet Test Score: {elasticnet_cv.score(X_test, y_test):.2f}\\\")\";\n",
       "                var nbb_cells = Jupyter.notebook.get_cells();\n",
       "                for (var i = 0; i < nbb_cells.length; ++i) {\n",
       "                    if (nbb_cells[i].input_prompt_number == nbb_cell_id) {\n",
       "                        if (nbb_cells[i].get_text() == nbb_unformatted_code) {\n",
       "                             nbb_cells[i].set_text(nbb_formatted_code);\n",
       "                        }\n",
       "                        break;\n",
       "                    }\n",
       "                }\n",
       "            }, 500);\n",
       "            "
      ],
      "text/plain": [
       "<IPython.core.display.Javascript object>"
      ]
     },
     "metadata": {},
     "output_type": "display_data"
    }
   ],
   "source": [
    "print(f\"Ridge Train Score: {ridge_cv.score(X_train, y_train):.2f}\")\n",
    "print(f\"Ridge Test Score: {ridge_cv.score(X_test, y_test):.2f}\")\n",
    "print(f\"Lasso Train Score: {lasso_cv.score(X_train, y_train):.2f}\")\n",
    "print(f\"Lasso Test Score: {lasso_cv.score(X_test, y_test):.2f}\")\n",
    "print(f\"Elasticnet Train Score: {elasticnet_cv.score(X_train, y_train):.2f}\")\n",
    "print(f\"Elasticnet Test Score: {elasticnet_cv.score(X_test, y_test):.2f}\")"
   ]
  },
  {
   "cell_type": "code",
   "execution_count": 39,
   "metadata": {},
   "outputs": [
    {
     "data": {
      "application/javascript": [
       "\n",
       "            setTimeout(function() {\n",
       "                var nbb_cell_id = 39;\n",
       "                var nbb_unformatted_code = \"ridge_predicts = ridge_cv.predict(X_test)\";\n",
       "                var nbb_formatted_code = \"ridge_predicts = ridge_cv.predict(X_test)\";\n",
       "                var nbb_cells = Jupyter.notebook.get_cells();\n",
       "                for (var i = 0; i < nbb_cells.length; ++i) {\n",
       "                    if (nbb_cells[i].input_prompt_number == nbb_cell_id) {\n",
       "                        if (nbb_cells[i].get_text() == nbb_unformatted_code) {\n",
       "                             nbb_cells[i].set_text(nbb_formatted_code);\n",
       "                        }\n",
       "                        break;\n",
       "                    }\n",
       "                }\n",
       "            }, 500);\n",
       "            "
      ],
      "text/plain": [
       "<IPython.core.display.Javascript object>"
      ]
     },
     "metadata": {},
     "output_type": "display_data"
    }
   ],
   "source": [
    "ridge_predicts = ridge_cv.predict(X_test)"
   ]
  },
  {
   "cell_type": "code",
   "execution_count": 40,
   "metadata": {},
   "outputs": [
    {
     "data": {
      "text/plain": [
       "<matplotlib.collections.PathCollection at 0x1a1b79f250>"
      ]
     },
     "execution_count": 40,
     "metadata": {},
     "output_type": "execute_result"
    },
    {
     "data": {
      "image/png": "[encoded data removed]",
      "text/plain": [
       "<Figure size 432x288 with 1 Axes>"
      ]
     },
     "metadata": {
      "needs_background": "light"
     },
     "output_type": "display_data"
    },
    {
     "data": {
      "application/javascript": [
       "\n",
       "            setTimeout(function() {\n",
       "                var nbb_cell_id = 40;\n",
       "                var nbb_unformatted_code = \"plt.scatter(ridge_predicts, y_test)\";\n",
       "                var nbb_formatted_code = \"plt.scatter(ridge_predicts, y_test)\";\n",
       "                var nbb_cells = Jupyter.notebook.get_cells();\n",
       "                for (var i = 0; i < nbb_cells.length; ++i) {\n",
       "                    if (nbb_cells[i].input_prompt_number == nbb_cell_id) {\n",
       "                        if (nbb_cells[i].get_text() == nbb_unformatted_code) {\n",
       "                             nbb_cells[i].set_text(nbb_formatted_code);\n",
       "                        }\n",
       "                        break;\n",
       "                    }\n",
       "                }\n",
       "            }, 500);\n",
       "            "
      ],
      "text/plain": [
       "<IPython.core.display.Javascript object>"
      ]
     },
     "metadata": {},
     "output_type": "display_data"
    }
   ],
   "source": [
    "plt.scatter(ridge_predicts, y_test)\n",
    "plt.plot()"
   ]
  },
  {
   "cell_type": "code",
   "execution_count": 41,
   "metadata": {},
   "outputs": [
    {
     "data": {
      "application/javascript": [
       "\n",
       "            setTimeout(function() {\n",
       "                var nbb_cell_id = 41;\n",
       "                var nbb_unformatted_code = \"lasso_predicts = lasso_cv.predict(X_test)\";\n",
       "                var nbb_formatted_code = \"lasso_predicts = lasso_cv.predict(X_test)\";\n",
       "                var nbb_cells = Jupyter.notebook.get_cells();\n",
       "                for (var i = 0; i < nbb_cells.length; ++i) {\n",
       "                    if (nbb_cells[i].input_prompt_number == nbb_cell_id) {\n",
       "                        if (nbb_cells[i].get_text() == nbb_unformatted_code) {\n",
       "                             nbb_cells[i].set_text(nbb_formatted_code);\n",
       "                        }\n",
       "                        break;\n",
       "                    }\n",
       "                }\n",
       "            }, 500);\n",
       "            "
      ],
      "text/plain": [
       "<IPython.core.display.Javascript object>"
      ]
     },
     "metadata": {},
     "output_type": "display_data"
    }
   ],
   "source": [
    "lasso_predicts = lasso_cv.predict(X_test)"
   ]
  },
  {
   "cell_type": "code",
   "execution_count": 42,
   "metadata": {},
   "outputs": [
    {
     "data": {
      "text/plain": [
       "<matplotlib.collections.PathCollection at 0x1a1bd34ed0>"
      ]
     },
     "execution_count": 42,
     "metadata": {},
     "output_type": "execute_result"
    },
    {
     "data": {
      "image/png": "[encoded data removed]",
      "text/plain": [
       "<Figure size 432x288 with 1 Axes>"
      ]
     },
     "metadata": {
      "needs_background": "light"
     },
     "output_type": "display_data"
    },
    {
     "data": {
      "application/javascript": [
       "\n",
       "            setTimeout(function() {\n",
       "                var nbb_cell_id = 42;\n",
       "                var nbb_unformatted_code = \"plt.scatter(lasso_predicts, y_test)\";\n",
       "                var nbb_formatted_code = \"plt.scatter(lasso_predicts, y_test)\";\n",
       "                var nbb_cells = Jupyter.notebook.get_cells();\n",
       "                for (var i = 0; i < nbb_cells.length; ++i) {\n",
       "                    if (nbb_cells[i].input_prompt_number == nbb_cell_id) {\n",
       "                        if (nbb_cells[i].get_text() == nbb_unformatted_code) {\n",
       "                             nbb_cells[i].set_text(nbb_formatted_code);\n",
       "                        }\n",
       "                        break;\n",
       "                    }\n",
       "                }\n",
       "            }, 500);\n",
       "            "
      ],
      "text/plain": [
       "<IPython.core.display.Javascript object>"
      ]
     },
     "metadata": {},
     "output_type": "display_data"
    }
   ],
   "source": [
    "plt.scatter(lasso_predicts, y_test)"
   ]
  },
  {
   "cell_type": "markdown",
   "metadata": {},
   "source": [
    "With this kind of curve, I may want to transform my target variable.\n",
    "Run the following cell, and rerun the above t see if it is worthwhile"
   ]
  },
  {
   "cell_type": "code",
   "execution_count": null,
   "metadata": {},
   "outputs": [],
   "source": []
  },
  {
   "cell_type": "code",
   "execution_count": 43,
   "metadata": {},
   "outputs": [
    {
     "data": {
      "application/javascript": [
       "\n",
       "            setTimeout(function() {\n",
       "                var nbb_cell_id = 43;\n",
       "                var nbb_unformatted_code = \"# X = houses.drop(columns=\\\"saleprice\\\")\\ny_train = np.log(y_train)\\ny_test = np.log(y_test)\";\n",
       "                var nbb_formatted_code = \"# X = houses.drop(columns=\\\"saleprice\\\")\\ny_train = np.log(y_train)\\ny_test = np.log(y_test)\";\n",
       "                var nbb_cells = Jupyter.notebook.get_cells();\n",
       "                for (var i = 0; i < nbb_cells.length; ++i) {\n",
       "                    if (nbb_cells[i].input_prompt_number == nbb_cell_id) {\n",
       "                        if (nbb_cells[i].get_text() == nbb_unformatted_code) {\n",
       "                             nbb_cells[i].set_text(nbb_formatted_code);\n",
       "                        }\n",
       "                        break;\n",
       "                    }\n",
       "                }\n",
       "            }, 500);\n",
       "            "
      ],
      "text/plain": [
       "<IPython.core.display.Javascript object>"
      ]
     },
     "metadata": {},
     "output_type": "display_data"
    }
   ],
   "source": [
    "# X = houses.drop(columns=\"saleprice\")\n",
    "y_train = np.log(y_train)\n",
    "y_test = np.log(y_test)\n"
   ]
  },
  {
   "cell_type": "code",
   "execution_count": 44,
   "metadata": {},
   "outputs": [
    {
     "name": "stdout",
     "output_type": "stream",
     "text": [
      "Fitting 5 folds for each of 7 candidates, totalling 35 fits\n"
     ]
    },
    {
     "name": "stderr",
     "output_type": "stream",
     "text": [
      "[Parallel(n_jobs=1)]: Using backend SequentialBackend with 1 concurrent workers.\n"
     ]
    },
    {
     "name": "stdout",
     "output_type": "stream",
     "text": [
      "selected alpha: 10\n"
     ]
    },
    {
     "name": "stderr",
     "output_type": "stream",
     "text": [
      "[Parallel(n_jobs=1)]: Done  35 out of  35 | elapsed:    0.2s finished\n"
     ]
    },
    {
     "data": {
      "text/plain": [
       "array([-5.74161492e-02,  1.51287586e-02,  2.52154602e-04, -9.02195419e-02,\n",
       "       -2.66285246e-02, -9.55798593e-02, -1.12181938e-01, -3.88909982e-02,\n",
       "        1.88341597e-02, -2.59935585e-02,  5.30745097e-02,  1.67419058e-03,\n",
       "        3.36234371e-03, -9.51998775e-03,  1.32810563e-02, -5.44658442e-02,\n",
       "       -5.28801275e-03,  5.46345922e-02, -3.83657211e-02,  3.97685589e-02,\n",
       "        5.28429973e-02,  7.32073735e-02,  2.19190908e-06, -5.76866840e-04,\n",
       "       -1.94363783e-03,  8.80747337e-02,  1.44624567e-04, -3.67721780e-04,\n",
       "        9.52727730e-02])"
      ]
     },
     "execution_count": 44,
     "metadata": {},
     "output_type": "execute_result"
    },
    {
     "data": {
      "application/javascript": [
       "\n",
       "            setTimeout(function() {\n",
       "                var nbb_cell_id = 44;\n",
       "                var nbb_unformatted_code = \"grid = {\\\"alpha\\\": [0.0001, 0.001, 0.01, 0.1, 1, 10, 20]}\\nridge_cv = GridSearchCV(Ridge(), grid, verbose=1, cv=5)\\nridge_cv.fit(X_train, y_train)\\n\\n# The best fit is in the best_estimator_ attribute\\nprint(f\\\"selected alpha: {ridge_cv.best_estimator_.alpha}\\\")\\nridge_cv.best_estimator_.coef_\";\n",
       "                var nbb_formatted_code = \"grid = {\\\"alpha\\\": [0.0001, 0.001, 0.01, 0.1, 1, 10, 20]}\\nridge_cv = GridSearchCV(Ridge(), grid, verbose=1, cv=5)\\nridge_cv.fit(X_train, y_train)\\n\\n# The best fit is in the best_estimator_ attribute\\nprint(f\\\"selected alpha: {ridge_cv.best_estimator_.alpha}\\\")\\nridge_cv.best_estimator_.coef_\";\n",
       "                var nbb_cells = Jupyter.notebook.get_cells();\n",
       "                for (var i = 0; i < nbb_cells.length; ++i) {\n",
       "                    if (nbb_cells[i].input_prompt_number == nbb_cell_id) {\n",
       "                        if (nbb_cells[i].get_text() == nbb_unformatted_code) {\n",
       "                             nbb_cells[i].set_text(nbb_formatted_code);\n",
       "                        }\n",
       "                        break;\n",
       "                    }\n",
       "                }\n",
       "            }, 500);\n",
       "            "
      ],
      "text/plain": [
       "<IPython.core.display.Javascript object>"
      ]
     },
     "metadata": {},
     "output_type": "display_data"
    }
   ],
   "source": [
    "grid = {\"alpha\": [0.0001, 0.001, 0.01, 0.1, 1, 10, 20]}\n",
    "ridge_cv = GridSearchCV(Ridge(), grid, verbose=1, cv=5)\n",
    "ridge_cv.fit(X_train, y_train)\n",
    "\n",
    "# The best fit is in the best_estimator_ attribute\n",
    "print(f\"selected alpha: {ridge_cv.best_estimator_.alpha}\")\n",
    "ridge_cv.best_estimator_.coef_"
   ]
  },
  {
   "cell_type": "code",
   "execution_count": 45,
   "metadata": {},
   "outputs": [
    {
     "name": "stderr",
     "output_type": "stream",
     "text": [
      "[Parallel(n_jobs=1)]: Using backend SequentialBackend with 1 concurrent workers.\n"
     ]
    },
    {
     "name": "stdout",
     "output_type": "stream",
     "text": [
      "Fitting 5 folds for each of 9 candidates, totalling 45 fits\n",
      "selected alpha: 0.001\n"
     ]
    },
    {
     "name": "stderr",
     "output_type": "stream",
     "text": [
      "[Parallel(n_jobs=1)]: Done  45 out of  45 | elapsed:    0.6s finished\n"
     ]
    },
    {
     "data": {
      "text/plain": [
       "array([-0.00000000e+00,  0.00000000e+00, -0.00000000e+00, -8.94951837e-02,\n",
       "       -0.00000000e+00, -8.73508436e-02, -1.06669601e-01, -2.78639346e-02,\n",
       "        5.52321191e-03, -0.00000000e+00,  0.00000000e+00, -0.00000000e+00,\n",
       "        0.00000000e+00, -0.00000000e+00,  0.00000000e+00, -4.51836042e-02,\n",
       "       -0.00000000e+00,  0.00000000e+00, -0.00000000e+00,  3.09644298e-02,\n",
       "        5.36108473e-02,  7.33874234e-02,  2.19309914e-06, -5.39250817e-04,\n",
       "       -1.93952390e-03,  8.79835550e-02,  1.44523331e-04, -3.45722923e-04,\n",
       "        9.67020064e-02])"
      ]
     },
     "execution_count": 45,
     "metadata": {},
     "output_type": "execute_result"
    },
    {
     "data": {
      "application/javascript": [
       "\n",
       "            setTimeout(function() {\n",
       "                var nbb_cell_id = 45;\n",
       "                var nbb_unformatted_code = \"grid = {\\\"alpha\\\": [0.0001, 0.001, 0.01, 0.1, 1, 10, 100, 500, 1000]}\\nlasso_cv = GridSearchCV(Lasso(), grid, verbose=1, cv=5)\\nlasso_cv.fit(X_train, y_train)\\n\\n# The best fit is in the best_estimator_ attribute\\nprint(f\\\"selected alpha: {lasso_cv.best_estimator_.alpha}\\\")\\nlasso_cv.best_estimator_.coef_\";\n",
       "                var nbb_formatted_code = \"grid = {\\\"alpha\\\": [0.0001, 0.001, 0.01, 0.1, 1, 10, 100, 500, 1000]}\\nlasso_cv = GridSearchCV(Lasso(), grid, verbose=1, cv=5)\\nlasso_cv.fit(X_train, y_train)\\n\\n# The best fit is in the best_estimator_ attribute\\nprint(f\\\"selected alpha: {lasso_cv.best_estimator_.alpha}\\\")\\nlasso_cv.best_estimator_.coef_\";\n",
       "                var nbb_cells = Jupyter.notebook.get_cells();\n",
       "                for (var i = 0; i < nbb_cells.length; ++i) {\n",
       "                    if (nbb_cells[i].input_prompt_number == nbb_cell_id) {\n",
       "                        if (nbb_cells[i].get_text() == nbb_unformatted_code) {\n",
       "                             nbb_cells[i].set_text(nbb_formatted_code);\n",
       "                        }\n",
       "                        break;\n",
       "                    }\n",
       "                }\n",
       "            }, 500);\n",
       "            "
      ],
      "text/plain": [
       "<IPython.core.display.Javascript object>"
      ]
     },
     "metadata": {},
     "output_type": "display_data"
    }
   ],
   "source": [
    "grid = {\"alpha\": [0.0001, 0.001, 0.01, 0.1, 1, 10, 100, 500, 1000]}\n",
    "lasso_cv = GridSearchCV(Lasso(), grid, verbose=1, cv=5)\n",
    "lasso_cv.fit(X_train, y_train)\n",
    "\n",
    "# The best fit is in the best_estimator_ attribute\n",
    "print(f\"selected alpha: {lasso_cv.best_estimator_.alpha}\")\n",
    "lasso_cv.best_estimator_.coef_"
   ]
  },
  {
   "cell_type": "code",
   "execution_count": 46,
   "metadata": {},
   "outputs": [
    {
     "name": "stderr",
     "output_type": "stream",
     "text": [
      "[Parallel(n_jobs=1)]: Using backend SequentialBackend with 1 concurrent workers.\n"
     ]
    },
    {
     "name": "stdout",
     "output_type": "stream",
     "text": [
      "Fitting 5 folds for each of 24 candidates, totalling 120 fits\n",
      "selected alpha: 0.01\n",
      "selected l1_ratio: 0.01\n"
     ]
    },
    {
     "name": "stderr",
     "output_type": "stream",
     "text": [
      "[Parallel(n_jobs=1)]: Done 120 out of 120 | elapsed:    1.1s finished\n"
     ]
    },
    {
     "data": {
      "text/plain": [
       "array([-4.41338211e-02,  1.28718504e-02, -0.00000000e+00, -8.88498272e-02,\n",
       "       -2.19722458e-02, -8.96681769e-02, -1.03855246e-01, -3.59853824e-02,\n",
       "        1.70976864e-02, -1.92089297e-02,  4.22052090e-02,  0.00000000e+00,\n",
       "        2.70007408e-03, -6.33966202e-03,  1.11037943e-02, -5.21312946e-02,\n",
       "       -0.00000000e+00,  4.28884412e-02, -3.27807368e-02,  3.81002580e-02,\n",
       "        5.31131524e-02,  7.26595438e-02,  2.20427905e-06, -5.47819053e-04,\n",
       "       -1.95576438e-03,  8.77540394e-02,  1.45236681e-04, -3.65834451e-04,\n",
       "        9.53955062e-02])"
      ]
     },
     "execution_count": 46,
     "metadata": {},
     "output_type": "execute_result"
    },
    {
     "data": {
      "application/javascript": [
       "\n",
       "            setTimeout(function() {\n",
       "                var nbb_cell_id = 46;\n",
       "                var nbb_unformatted_code = \"grid = {\\n    \\\"alpha\\\": [0.0001, 0.001, 0.01, 0.1],\\n    \\\"l1_ratio\\\": [0.001, 0.01, 0.1, 0.5, 0.75, 1],\\n}\\nelasticnet_cv = GridSearchCV(ElasticNet(), grid, verbose=1)\\nelasticnet_cv.fit(X_train, y_train)\\n\\nprint(f\\\"selected alpha: {elasticnet_cv.best_estimator_.alpha}\\\")\\nprint(f\\\"selected l1_ratio: {elasticnet_cv.best_estimator_.l1_ratio}\\\")\\nelasticnet_cv.best_estimator_.coef_\";\n",
       "                var nbb_formatted_code = \"grid = {\\n    \\\"alpha\\\": [0.0001, 0.001, 0.01, 0.1],\\n    \\\"l1_ratio\\\": [0.001, 0.01, 0.1, 0.5, 0.75, 1],\\n}\\nelasticnet_cv = GridSearchCV(ElasticNet(), grid, verbose=1)\\nelasticnet_cv.fit(X_train, y_train)\\n\\nprint(f\\\"selected alpha: {elasticnet_cv.best_estimator_.alpha}\\\")\\nprint(f\\\"selected l1_ratio: {elasticnet_cv.best_estimator_.l1_ratio}\\\")\\nelasticnet_cv.best_estimator_.coef_\";\n",
       "                var nbb_cells = Jupyter.notebook.get_cells();\n",
       "                for (var i = 0; i < nbb_cells.length; ++i) {\n",
       "                    if (nbb_cells[i].input_prompt_number == nbb_cell_id) {\n",
       "                        if (nbb_cells[i].get_text() == nbb_unformatted_code) {\n",
       "                             nbb_cells[i].set_text(nbb_formatted_code);\n",
       "                        }\n",
       "                        break;\n",
       "                    }\n",
       "                }\n",
       "            }, 500);\n",
       "            "
      ],
      "text/plain": [
       "<IPython.core.display.Javascript object>"
      ]
     },
     "metadata": {},
     "output_type": "display_data"
    }
   ],
   "source": [
    "grid = {\n",
    "    \"alpha\": [0.0001, 0.001, 0.01, 0.1],\n",
    "    \"l1_ratio\": [0.001, 0.01, 0.1, 0.5, 0.75, 1],\n",
    "}\n",
    "elasticnet_cv = GridSearchCV(ElasticNet(), grid, verbose=1)\n",
    "elasticnet_cv.fit(X_train, y_train)\n",
    "\n",
    "print(f\"selected alpha: {elasticnet_cv.best_estimator_.alpha}\")\n",
    "print(f\"selected l1_ratio: {elasticnet_cv.best_estimator_.l1_ratio}\")\n",
    "elasticnet_cv.best_estimator_.coef_"
   ]
  },
  {
   "cell_type": "code",
   "execution_count": 47,
   "metadata": {},
   "outputs": [
    {
     "name": "stdout",
     "output_type": "stream",
     "text": [
      "Ridge Train Score: 0.86\n",
      "Ridge Test Score: 0.88\n",
      "Lasso Train Score: 0.86\n",
      "Lasso Test Score: 0.87\n",
      "Elasticnet Train Score: 0.86\n",
      "Elasticnet Test Score: 0.88\n"
     ]
    },
    {
     "data": {
      "application/javascript": [
       "\n",
       "            setTimeout(function() {\n",
       "                var nbb_cell_id = 47;\n",
       "                var nbb_unformatted_code = \"print(f\\\"Ridge Train Score: {ridge_cv.score(X_train, y_train):.2f}\\\")\\nprint(f\\\"Ridge Test Score: {ridge_cv.score(X_test, y_test):.2f}\\\")\\nprint(f\\\"Lasso Train Score: {lasso_cv.score(X_train, y_train):.2f}\\\")\\nprint(f\\\"Lasso Test Score: {lasso_cv.score(X_test, y_test):.2f}\\\")\\nprint(f\\\"Elasticnet Train Score: {elasticnet_cv.score(X_train, y_train):.2f}\\\")\\nprint(f\\\"Elasticnet Test Score: {elasticnet_cv.score(X_test, y_test):.2f}\\\")\";\n",
       "                var nbb_formatted_code = \"print(f\\\"Ridge Train Score: {ridge_cv.score(X_train, y_train):.2f}\\\")\\nprint(f\\\"Ridge Test Score: {ridge_cv.score(X_test, y_test):.2f}\\\")\\nprint(f\\\"Lasso Train Score: {lasso_cv.score(X_train, y_train):.2f}\\\")\\nprint(f\\\"Lasso Test Score: {lasso_cv.score(X_test, y_test):.2f}\\\")\\nprint(f\\\"Elasticnet Train Score: {elasticnet_cv.score(X_train, y_train):.2f}\\\")\\nprint(f\\\"Elasticnet Test Score: {elasticnet_cv.score(X_test, y_test):.2f}\\\")\";\n",
       "                var nbb_cells = Jupyter.notebook.get_cells();\n",
       "                for (var i = 0; i < nbb_cells.length; ++i) {\n",
       "                    if (nbb_cells[i].input_prompt_number == nbb_cell_id) {\n",
       "                        if (nbb_cells[i].get_text() == nbb_unformatted_code) {\n",
       "                             nbb_cells[i].set_text(nbb_formatted_code);\n",
       "                        }\n",
       "                        break;\n",
       "                    }\n",
       "                }\n",
       "            }, 500);\n",
       "            "
      ],
      "text/plain": [
       "<IPython.core.display.Javascript object>"
      ]
     },
     "metadata": {},
     "output_type": "display_data"
    }
   ],
   "source": [
    "print(f\"Ridge Train Score: {ridge_cv.score(X_train, y_train):.2f}\")\n",
    "print(f\"Ridge Test Score: {ridge_cv.score(X_test, y_test):.2f}\")\n",
    "print(f\"Lasso Train Score: {lasso_cv.score(X_train, y_train):.2f}\")\n",
    "print(f\"Lasso Test Score: {lasso_cv.score(X_test, y_test):.2f}\")\n",
    "print(f\"Elasticnet Train Score: {elasticnet_cv.score(X_train, y_train):.2f}\")\n",
    "print(f\"Elasticnet Test Score: {elasticnet_cv.score(X_test, y_test):.2f}\")"
   ]
  },
  {
   "cell_type": "code",
   "execution_count": 48,
   "metadata": {
    "scrolled": false
   },
   "outputs": [
    {
     "data": {
      "text/plain": [
       "<seaborn.axisgrid.PairGrid at 0x1a1bd6ddd0>"
      ]
     },
     "execution_count": 48,
     "metadata": {},
     "output_type": "execute_result"
    },
    {
     "data": {
      "image/png": "[encoded data removed]",
      "text/plain": [
       "<Figure size 1800x1800 with 110 Axes>"
      ]
     },
     "metadata": {
      "needs_background": "light"
     },
     "output_type": "display_data"
    },
    {
     "data": {
      "application/javascript": [
       "\n",
       "            setTimeout(function() {\n",
       "                var nbb_cell_id = 48;\n",
       "                var nbb_unformatted_code = \"sns.pairplot(houses)\";\n",
       "                var nbb_formatted_code = \"sns.pairplot(houses)\";\n",
       "                var nbb_cells = Jupyter.notebook.get_cells();\n",
       "                for (var i = 0; i < nbb_cells.length; ++i) {\n",
       "                    if (nbb_cells[i].input_prompt_number == nbb_cell_id) {\n",
       "                        if (nbb_cells[i].get_text() == nbb_unformatted_code) {\n",
       "                             nbb_cells[i].set_text(nbb_formatted_code);\n",
       "                        }\n",
       "                        break;\n",
       "                    }\n",
       "                }\n",
       "            }, 500);\n",
       "            "
      ],
      "text/plain": [
       "<IPython.core.display.Javascript object>"
      ]
     },
     "metadata": {},
     "output_type": "display_data"
    }
   ],
   "source": [
    "sns.pairplot(houses)"
   ]
  },
  {
   "cell_type": "markdown",
   "metadata": {},
   "source": [
    "# Bringing in New Data\n",
    "US National Housing Index taken from [here](https://datahub.io/core/house-prices-us#resource-cities). By adding the index at month and year of sale, I hope to add predicitive strength"
   ]
  },
  {
   "cell_type": "code",
   "execution_count": 49,
   "metadata": {
    "scrolled": true
   },
   "outputs": [
    {
     "name": "stdout",
     "output_type": "stream",
     "text": [
      "<class 'pandas.core.frame.DataFrame'>\n",
      "RangeIndex: 1460 entries, 0 to 1459\n",
      "Data columns (total 80 columns):\n",
      " #   Column         Non-Null Count  Dtype  \n",
      "---  ------         --------------  -----  \n",
      " 0   id             1460 non-null   int64  \n",
      " 1   mssubclass     1460 non-null   int64  \n",
      " 2   mszoning       1460 non-null   object \n",
      " 3   lotfrontage    1460 non-null   float64\n",
      " 4   lotarea        1460 non-null   int64  \n",
      " 5   street         1460 non-null   object \n",
      " 6   lotshape       1460 non-null   object \n",
      " 7   landcontour    1460 non-null   object \n",
      " 8   utilities      1460 non-null   object \n",
      " 9   lotconfig      1460 non-null   object \n",
      " 10  landslope      1460 non-null   object \n",
      " 11  neighborhood   1460 non-null   object \n",
      " 12  condition1     1460 non-null   object \n",
      " 13  condition2     1460 non-null   object \n",
      " 14  bldgtype       1460 non-null   object \n",
      " 15  housestyle     1460 non-null   object \n",
      " 16  overallqual    1460 non-null   int64  \n",
      " 17  overallcond    1460 non-null   int64  \n",
      " 18  yearbuilt      1460 non-null   int64  \n",
      " 19  yearremodadd   1460 non-null   int64  \n",
      " 20  roofstyle      1460 non-null   object \n",
      " 21  roofmatl       1460 non-null   object \n",
      " 22  exterior1st    1460 non-null   object \n",
      " 23  exterior2nd    1460 non-null   object \n",
      " 24  masvnrtype     1460 non-null   object \n",
      " 25  masvnrarea     1460 non-null   float64\n",
      " 26  exterqual      1460 non-null   object \n",
      " 27  extercond      1460 non-null   object \n",
      " 28  foundation     1460 non-null   object \n",
      " 29  bsmtqual       1460 non-null   object \n",
      " 30  bsmtcond       1460 non-null   object \n",
      " 31  bsmtexposure   1460 non-null   object \n",
      " 32  bsmtfintype1   1460 non-null   object \n",
      " 33  bsmtfinsf1     1460 non-null   int64  \n",
      " 34  bsmtfintype2   1460 non-null   object \n",
      " 35  bsmtfinsf2     1460 non-null   int64  \n",
      " 36  bsmtunfsf      1460 non-null   int64  \n",
      " 37  totalbsmtsf    1460 non-null   int64  \n",
      " 38  heating        1460 non-null   object \n",
      " 39  heatingqc      1460 non-null   object \n",
      " 40  centralair     1460 non-null   object \n",
      " 41  electrical     1460 non-null   object \n",
      " 42  firstflrsf     1460 non-null   int64  \n",
      " 43  secondflrsf    1460 non-null   int64  \n",
      " 44  lowqualfinsf   1460 non-null   int64  \n",
      " 45  grlivarea      1460 non-null   int64  \n",
      " 46  bsmtfullbath   1460 non-null   int64  \n",
      " 47  bsmthalfbath   1460 non-null   int64  \n",
      " 48  fullbath       1460 non-null   int64  \n",
      " 49  halfbath       1460 non-null   int64  \n",
      " 50  bedroomabvgr   1460 non-null   int64  \n",
      " 51  kitchenabvgr   1460 non-null   int64  \n",
      " 52  kitchenqual    1460 non-null   object \n",
      " 53  totrmsabvgrd   1460 non-null   int64  \n",
      " 54  functional     1460 non-null   object \n",
      " 55  fireplaces     1460 non-null   int64  \n",
      " 56  fireplacequ    1460 non-null   object \n",
      " 57  garagetype     1460 non-null   object \n",
      " 58  garageyrblt    1460 non-null   float64\n",
      " 59  garagefinish   1460 non-null   object \n",
      " 60  garagecars     1460 non-null   int64  \n",
      " 61  garagearea     1460 non-null   int64  \n",
      " 62  garagequal     1460 non-null   object \n",
      " 63  garagecond     1460 non-null   object \n",
      " 64  paveddrive     1460 non-null   object \n",
      " 65  wooddecksf     1460 non-null   int64  \n",
      " 66  openporchsf    1460 non-null   int64  \n",
      " 67  enclosedporch  1460 non-null   int64  \n",
      " 68  threessnporch  1460 non-null   int64  \n",
      " 69  screenporch    1460 non-null   int64  \n",
      " 70  poolarea       1460 non-null   int64  \n",
      " 71  miscval        1460 non-null   int64  \n",
      " 72  mosold         1460 non-null   int64  \n",
      " 73  yrsold         1460 non-null   int64  \n",
      " 74  saletype       1460 non-null   object \n",
      " 75  salecondition  1460 non-null   object \n",
      " 76  saleprice      1460 non-null   int64  \n",
      " 77  houseage       1460 non-null   int64  \n",
      " 78  total_baths    1460 non-null   float64\n",
      " 79  totalarea      1460 non-null   int64  \n",
      "dtypes: float64(4), int64(37), object(39)\n",
      "memory usage: 912.6+ KB\n"
     ]
    },
    {
     "data": {
      "application/javascript": [
       "\n",
       "            setTimeout(function() {\n",
       "                var nbb_cell_id = 49;\n",
       "                var nbb_unformatted_code = \"houseprices_df.info()\";\n",
       "                var nbb_formatted_code = \"houseprices_df.info()\";\n",
       "                var nbb_cells = Jupyter.notebook.get_cells();\n",
       "                for (var i = 0; i < nbb_cells.length; ++i) {\n",
       "                    if (nbb_cells[i].input_prompt_number == nbb_cell_id) {\n",
       "                        if (nbb_cells[i].get_text() == nbb_unformatted_code) {\n",
       "                             nbb_cells[i].set_text(nbb_formatted_code);\n",
       "                        }\n",
       "                        break;\n",
       "                    }\n",
       "                }\n",
       "            }, 500);\n",
       "            "
      ],
      "text/plain": [
       "<IPython.core.display.Javascript object>"
      ]
     },
     "metadata": {},
     "output_type": "display_data"
    }
   ],
   "source": [
    "houseprices_df.info()"
   ]
  },
  {
   "cell_type": "code",
   "execution_count": 50,
   "metadata": {},
   "outputs": [
    {
     "data": {
      "text/plain": [
       "count    1460.000000\n",
       "mean        6.321918\n",
       "std         2.703626\n",
       "min         1.000000\n",
       "25%         5.000000\n",
       "50%         6.000000\n",
       "75%         8.000000\n",
       "max        12.000000\n",
       "Name: mosold, dtype: float64"
      ]
     },
     "execution_count": 50,
     "metadata": {},
     "output_type": "execute_result"
    },
    {
     "data": {
      "application/javascript": [
       "\n",
       "            setTimeout(function() {\n",
       "                var nbb_cell_id = 50;\n",
       "                var nbb_unformatted_code = \"houseprices_df[\\\"mosold\\\"].describe()\";\n",
       "                var nbb_formatted_code = \"houseprices_df[\\\"mosold\\\"].describe()\";\n",
       "                var nbb_cells = Jupyter.notebook.get_cells();\n",
       "                for (var i = 0; i < nbb_cells.length; ++i) {\n",
       "                    if (nbb_cells[i].input_prompt_number == nbb_cell_id) {\n",
       "                        if (nbb_cells[i].get_text() == nbb_unformatted_code) {\n",
       "                             nbb_cells[i].set_text(nbb_formatted_code);\n",
       "                        }\n",
       "                        break;\n",
       "                    }\n",
       "                }\n",
       "            }, 500);\n",
       "            "
      ],
      "text/plain": [
       "<IPython.core.display.Javascript object>"
      ]
     },
     "metadata": {},
     "output_type": "display_data"
    }
   ],
   "source": [
    "houseprices_df[\"mosold\"].describe()"
   ]
  },
  {
   "cell_type": "code",
   "execution_count": 51,
   "metadata": {},
   "outputs": [
    {
     "data": {
      "application/javascript": [
       "\n",
       "            setTimeout(function() {\n",
       "                var nbb_cell_id = 51;\n",
       "                var nbb_unformatted_code = \"housing_index_df = pd.read_csv(\\\"data/housing_index_cities_csv.csv\\\")\";\n",
       "                var nbb_formatted_code = \"housing_index_df = pd.read_csv(\\\"data/housing_index_cities_csv.csv\\\")\";\n",
       "                var nbb_cells = Jupyter.notebook.get_cells();\n",
       "                for (var i = 0; i < nbb_cells.length; ++i) {\n",
       "                    if (nbb_cells[i].input_prompt_number == nbb_cell_id) {\n",
       "                        if (nbb_cells[i].get_text() == nbb_unformatted_code) {\n",
       "                             nbb_cells[i].set_text(nbb_formatted_code);\n",
       "                        }\n",
       "                        break;\n",
       "                    }\n",
       "                }\n",
       "            }, 500);\n",
       "            "
      ],
      "text/plain": [
       "<IPython.core.display.Javascript object>"
      ]
     },
     "metadata": {},
     "output_type": "display_data"
    }
   ],
   "source": [
    "housing_index_df = pd.read_csv(\"data/housing_index_cities_csv.csv\")"
   ]
  },
  {
   "cell_type": "code",
   "execution_count": 52,
   "metadata": {},
   "outputs": [
    {
     "data": {
      "text/html": [
       "<div>\n",
       "<style scoped>\n",
       "    .dataframe tbody tr th:only-of-type {\n",
       "        vertical-align: middle;\n",
       "    }\n",
       "\n",
       "    .dataframe tbody tr th {\n",
       "        vertical-align: top;\n",
       "    }\n",
       "\n",
       "    .dataframe thead th {\n",
       "        text-align: right;\n",
       "    }\n",
       "</style>\n",
       "<table border=\"1\" class=\"dataframe\">\n",
       "  <thead>\n",
       "    <tr style=\"text-align: right;\">\n",
       "      <th></th>\n",
       "      <th>Date</th>\n",
       "      <th>AZ-Phoenix</th>\n",
       "      <th>CA-Los Angeles</th>\n",
       "      <th>CA-San Diego</th>\n",
       "      <th>CA-San Francisco</th>\n",
       "      <th>CO-Denver</th>\n",
       "      <th>DC-Washington</th>\n",
       "      <th>FL-Miami</th>\n",
       "      <th>FL-Tampa</th>\n",
       "      <th>GA-Atlanta</th>\n",
       "      <th>...</th>\n",
       "      <th>NC-Charlotte</th>\n",
       "      <th>NV-Las Vegas</th>\n",
       "      <th>NY-New York</th>\n",
       "      <th>OH-Cleveland</th>\n",
       "      <th>OR-Portland</th>\n",
       "      <th>TX-Dallas</th>\n",
       "      <th>WA-Seattle</th>\n",
       "      <th>Composite-10</th>\n",
       "      <th>Composite-20</th>\n",
       "      <th>National-US</th>\n",
       "    </tr>\n",
       "  </thead>\n",
       "  <tbody>\n",
       "    <tr>\n",
       "      <th>0</th>\n",
       "      <td>1987-01-01</td>\n",
       "      <td>NaN</td>\n",
       "      <td>59.33</td>\n",
       "      <td>54.67</td>\n",
       "      <td>46.61</td>\n",
       "      <td>50.20</td>\n",
       "      <td>64.11</td>\n",
       "      <td>68.50</td>\n",
       "      <td>77.33</td>\n",
       "      <td>NaN</td>\n",
       "      <td>...</td>\n",
       "      <td>63.39</td>\n",
       "      <td>66.36</td>\n",
       "      <td>74.42</td>\n",
       "      <td>53.53</td>\n",
       "      <td>41.05</td>\n",
       "      <td>NaN</td>\n",
       "      <td>NaN</td>\n",
       "      <td>62.82</td>\n",
       "      <td>NaN</td>\n",
       "      <td>63.75</td>\n",
       "    </tr>\n",
       "    <tr>\n",
       "      <th>1</th>\n",
       "      <td>1987-02-01</td>\n",
       "      <td>NaN</td>\n",
       "      <td>59.65</td>\n",
       "      <td>54.89</td>\n",
       "      <td>46.87</td>\n",
       "      <td>49.96</td>\n",
       "      <td>64.77</td>\n",
       "      <td>68.76</td>\n",
       "      <td>77.93</td>\n",
       "      <td>NaN</td>\n",
       "      <td>...</td>\n",
       "      <td>63.94</td>\n",
       "      <td>67.03</td>\n",
       "      <td>75.43</td>\n",
       "      <td>53.50</td>\n",
       "      <td>41.28</td>\n",
       "      <td>NaN</td>\n",
       "      <td>NaN</td>\n",
       "      <td>63.39</td>\n",
       "      <td>NaN</td>\n",
       "      <td>64.15</td>\n",
       "    </tr>\n",
       "    <tr>\n",
       "      <th>2</th>\n",
       "      <td>1987-03-01</td>\n",
       "      <td>NaN</td>\n",
       "      <td>59.99</td>\n",
       "      <td>55.16</td>\n",
       "      <td>47.32</td>\n",
       "      <td>50.15</td>\n",
       "      <td>65.71</td>\n",
       "      <td>69.23</td>\n",
       "      <td>77.76</td>\n",
       "      <td>NaN</td>\n",
       "      <td>...</td>\n",
       "      <td>64.17</td>\n",
       "      <td>67.34</td>\n",
       "      <td>76.25</td>\n",
       "      <td>53.68</td>\n",
       "      <td>41.06</td>\n",
       "      <td>NaN</td>\n",
       "      <td>NaN</td>\n",
       "      <td>63.87</td>\n",
       "      <td>NaN</td>\n",
       "      <td>64.49</td>\n",
       "    </tr>\n",
       "    <tr>\n",
       "      <th>3</th>\n",
       "      <td>1987-04-01</td>\n",
       "      <td>NaN</td>\n",
       "      <td>60.81</td>\n",
       "      <td>55.85</td>\n",
       "      <td>47.69</td>\n",
       "      <td>50.55</td>\n",
       "      <td>66.40</td>\n",
       "      <td>69.20</td>\n",
       "      <td>77.56</td>\n",
       "      <td>NaN</td>\n",
       "      <td>...</td>\n",
       "      <td>64.81</td>\n",
       "      <td>67.88</td>\n",
       "      <td>77.34</td>\n",
       "      <td>53.75</td>\n",
       "      <td>40.96</td>\n",
       "      <td>NaN</td>\n",
       "      <td>NaN</td>\n",
       "      <td>64.57</td>\n",
       "      <td>NaN</td>\n",
       "      <td>64.99</td>\n",
       "    </tr>\n",
       "    <tr>\n",
       "      <th>4</th>\n",
       "      <td>1987-05-01</td>\n",
       "      <td>NaN</td>\n",
       "      <td>61.67</td>\n",
       "      <td>56.35</td>\n",
       "      <td>48.31</td>\n",
       "      <td>50.63</td>\n",
       "      <td>67.27</td>\n",
       "      <td>69.46</td>\n",
       "      <td>77.85</td>\n",
       "      <td>NaN</td>\n",
       "      <td>...</td>\n",
       "      <td>65.18</td>\n",
       "      <td>67.90</td>\n",
       "      <td>79.16</td>\n",
       "      <td>54.71</td>\n",
       "      <td>41.24</td>\n",
       "      <td>NaN</td>\n",
       "      <td>NaN</td>\n",
       "      <td>65.56</td>\n",
       "      <td>NaN</td>\n",
       "      <td>65.57</td>\n",
       "    </tr>\n",
       "  </tbody>\n",
       "</table>\n",
       "<p>5 rows × 24 columns</p>\n",
       "</div>"
      ],
      "text/plain": [
       "         Date  AZ-Phoenix  CA-Los Angeles  CA-San Diego  CA-San Francisco  \\\n",
       "0  1987-01-01         NaN           59.33         54.67             46.61   \n",
       "1  1987-02-01         NaN           59.65         54.89             46.87   \n",
       "2  1987-03-01         NaN           59.99         55.16             47.32   \n",
       "3  1987-04-01         NaN           60.81         55.85             47.69   \n",
       "4  1987-05-01         NaN           61.67         56.35             48.31   \n",
       "\n",
       "   CO-Denver  DC-Washington  FL-Miami  FL-Tampa  GA-Atlanta  ...  \\\n",
       "0      50.20          64.11     68.50     77.33         NaN  ...   \n",
       "1      49.96          64.77     68.76     77.93         NaN  ...   \n",
       "2      50.15          65.71     69.23     77.76         NaN  ...   \n",
       "3      50.55          66.40     69.20     77.56         NaN  ...   \n",
       "4      50.63          67.27     69.46     77.85         NaN  ...   \n",
       "\n",
       "   NC-Charlotte  NV-Las Vegas  NY-New York  OH-Cleveland  OR-Portland  \\\n",
       "0         63.39         66.36        74.42         53.53        41.05   \n",
       "1         63.94         67.03        75.43         53.50        41.28   \n",
       "2         64.17         67.34        76.25         53.68        41.06   \n",
       "3         64.81         67.88        77.34         53.75        40.96   \n",
       "4         65.18         67.90        79.16         54.71        41.24   \n",
       "\n",
       "   TX-Dallas  WA-Seattle  Composite-10  Composite-20  National-US  \n",
       "0        NaN         NaN         62.82           NaN        63.75  \n",
       "1        NaN         NaN         63.39           NaN        64.15  \n",
       "2        NaN         NaN         63.87           NaN        64.49  \n",
       "3        NaN         NaN         64.57           NaN        64.99  \n",
       "4        NaN         NaN         65.56           NaN        65.57  \n",
       "\n",
       "[5 rows x 24 columns]"
      ]
     },
     "execution_count": 52,
     "metadata": {},
     "output_type": "execute_result"
    },
    {
     "data": {
      "application/javascript": [
       "\n",
       "            setTimeout(function() {\n",
       "                var nbb_cell_id = 52;\n",
       "                var nbb_unformatted_code = \"housing_index_df.head()\";\n",
       "                var nbb_formatted_code = \"housing_index_df.head()\";\n",
       "                var nbb_cells = Jupyter.notebook.get_cells();\n",
       "                for (var i = 0; i < nbb_cells.length; ++i) {\n",
       "                    if (nbb_cells[i].input_prompt_number == nbb_cell_id) {\n",
       "                        if (nbb_cells[i].get_text() == nbb_unformatted_code) {\n",
       "                             nbb_cells[i].set_text(nbb_formatted_code);\n",
       "                        }\n",
       "                        break;\n",
       "                    }\n",
       "                }\n",
       "            }, 500);\n",
       "            "
      ],
      "text/plain": [
       "<IPython.core.display.Javascript object>"
      ]
     },
     "metadata": {},
     "output_type": "display_data"
    }
   ],
   "source": [
    "housing_index_df.head()"
   ]
  },
  {
   "cell_type": "code",
   "execution_count": 53,
   "metadata": {},
   "outputs": [
    {
     "name": "stdout",
     "output_type": "stream",
     "text": [
      "<class 'pandas.core.frame.DataFrame'>\n",
      "RangeIndex: 348 entries, 0 to 347\n",
      "Data columns (total 24 columns):\n",
      " #   Column            Non-Null Count  Dtype  \n",
      "---  ------            --------------  -----  \n",
      " 0   Date              348 non-null    object \n",
      " 1   AZ-Phoenix        324 non-null    float64\n",
      " 2   CA-Los Angeles    348 non-null    float64\n",
      " 3   CA-San Diego      348 non-null    float64\n",
      " 4   CA-San Francisco  348 non-null    float64\n",
      " 5   CO-Denver         348 non-null    float64\n",
      " 6   DC-Washington     348 non-null    float64\n",
      " 7   FL-Miami          348 non-null    float64\n",
      " 8   FL-Tampa          348 non-null    float64\n",
      " 9   GA-Atlanta        300 non-null    float64\n",
      " 10  IL-Chicago        348 non-null    float64\n",
      " 11  MA-Boston         348 non-null    float64\n",
      " 12  MI-Detroit        300 non-null    float64\n",
      " 13  MN-Minneapolis    324 non-null    float64\n",
      " 14  NC-Charlotte      348 non-null    float64\n",
      " 15  NV-Las Vegas      348 non-null    float64\n",
      " 16  NY-New York       348 non-null    float64\n",
      " 17  OH-Cleveland      348 non-null    float64\n",
      " 18  OR-Portland       348 non-null    float64\n",
      " 19  TX-Dallas         192 non-null    float64\n",
      " 20  WA-Seattle        312 non-null    float64\n",
      " 21  Composite-10      348 non-null    float64\n",
      " 22  Composite-20      192 non-null    float64\n",
      " 23  National-US       348 non-null    float64\n",
      "dtypes: float64(23), object(1)\n",
      "memory usage: 65.4+ KB\n"
     ]
    },
    {
     "data": {
      "application/javascript": [
       "\n",
       "            setTimeout(function() {\n",
       "                var nbb_cell_id = 53;\n",
       "                var nbb_unformatted_code = \"housing_index_df.info()\";\n",
       "                var nbb_formatted_code = \"housing_index_df.info()\";\n",
       "                var nbb_cells = Jupyter.notebook.get_cells();\n",
       "                for (var i = 0; i < nbb_cells.length; ++i) {\n",
       "                    if (nbb_cells[i].input_prompt_number == nbb_cell_id) {\n",
       "                        if (nbb_cells[i].get_text() == nbb_unformatted_code) {\n",
       "                             nbb_cells[i].set_text(nbb_formatted_code);\n",
       "                        }\n",
       "                        break;\n",
       "                    }\n",
       "                }\n",
       "            }, 500);\n",
       "            "
      ],
      "text/plain": [
       "<IPython.core.display.Javascript object>"
      ]
     },
     "metadata": {},
     "output_type": "display_data"
    }
   ],
   "source": [
    "housing_index_df.info()"
   ]
  },
  {
   "cell_type": "code",
   "execution_count": null,
   "metadata": {},
   "outputs": [],
   "source": []
  },
  {
   "cell_type": "code",
   "execution_count": 54,
   "metadata": {},
   "outputs": [
    {
     "data": {
      "application/javascript": [
       "\n",
       "            setTimeout(function() {\n",
       "                var nbb_cell_id = 54;\n",
       "                var nbb_unformatted_code = \"index_df = housing_index_df[[\\\"Date\\\", \\\"National-US\\\"]]\";\n",
       "                var nbb_formatted_code = \"index_df = housing_index_df[[\\\"Date\\\", \\\"National-US\\\"]]\";\n",
       "                var nbb_cells = Jupyter.notebook.get_cells();\n",
       "                for (var i = 0; i < nbb_cells.length; ++i) {\n",
       "                    if (nbb_cells[i].input_prompt_number == nbb_cell_id) {\n",
       "                        if (nbb_cells[i].get_text() == nbb_unformatted_code) {\n",
       "                             nbb_cells[i].set_text(nbb_formatted_code);\n",
       "                        }\n",
       "                        break;\n",
       "                    }\n",
       "                }\n",
       "            }, 500);\n",
       "            "
      ],
      "text/plain": [
       "<IPython.core.display.Javascript object>"
      ]
     },
     "metadata": {},
     "output_type": "display_data"
    }
   ],
   "source": [
    "index_df = housing_index_df[[\"Date\", \"National-US\"]]"
   ]
  },
  {
   "cell_type": "code",
   "execution_count": 55,
   "metadata": {},
   "outputs": [
    {
     "name": "stdout",
     "output_type": "stream",
     "text": [
      "<class 'pandas.core.frame.DataFrame'>\n",
      "RangeIndex: 348 entries, 0 to 347\n",
      "Data columns (total 2 columns):\n",
      " #   Column       Non-Null Count  Dtype  \n",
      "---  ------       --------------  -----  \n",
      " 0   Date         348 non-null    object \n",
      " 1   National-US  348 non-null    float64\n",
      "dtypes: float64(1), object(1)\n",
      "memory usage: 5.6+ KB\n"
     ]
    },
    {
     "data": {
      "application/javascript": [
       "\n",
       "            setTimeout(function() {\n",
       "                var nbb_cell_id = 55;\n",
       "                var nbb_unformatted_code = \"index_df.info()\";\n",
       "                var nbb_formatted_code = \"index_df.info()\";\n",
       "                var nbb_cells = Jupyter.notebook.get_cells();\n",
       "                for (var i = 0; i < nbb_cells.length; ++i) {\n",
       "                    if (nbb_cells[i].input_prompt_number == nbb_cell_id) {\n",
       "                        if (nbb_cells[i].get_text() == nbb_unformatted_code) {\n",
       "                             nbb_cells[i].set_text(nbb_formatted_code);\n",
       "                        }\n",
       "                        break;\n",
       "                    }\n",
       "                }\n",
       "            }, 500);\n",
       "            "
      ],
      "text/plain": [
       "<IPython.core.display.Javascript object>"
      ]
     },
     "metadata": {},
     "output_type": "display_data"
    }
   ],
   "source": [
    "index_df.info()"
   ]
  },
  {
   "cell_type": "code",
   "execution_count": 56,
   "metadata": {},
   "outputs": [
    {
     "name": "stderr",
     "output_type": "stream",
     "text": [
      "/Users/DJG/opt/anaconda3/lib/python3.7/site-packages/ipykernel_launcher.py:1: SettingWithCopyWarning: \n",
      "A value is trying to be set on a copy of a slice from a DataFrame.\n",
      "Try using .loc[row_indexer,col_indexer] = value instead\n",
      "\n",
      "See the caveats in the documentation: https://pandas.pydata.org/pandas-docs/stable/user_guide/indexing.html#returning-a-view-versus-a-copy\n",
      "  \"\"\"Entry point for launching an IPython kernel.\n"
     ]
    },
    {
     "data": {
      "application/javascript": [
       "\n",
       "            setTimeout(function() {\n",
       "                var nbb_cell_id = 56;\n",
       "                var nbb_unformatted_code = \"index_df[\\\"Date\\\"] = pd.to_datetime(index_df[\\\"Date\\\"])\";\n",
       "                var nbb_formatted_code = \"index_df[\\\"Date\\\"] = pd.to_datetime(index_df[\\\"Date\\\"])\";\n",
       "                var nbb_cells = Jupyter.notebook.get_cells();\n",
       "                for (var i = 0; i < nbb_cells.length; ++i) {\n",
       "                    if (nbb_cells[i].input_prompt_number == nbb_cell_id) {\n",
       "                        if (nbb_cells[i].get_text() == nbb_unformatted_code) {\n",
       "                             nbb_cells[i].set_text(nbb_formatted_code);\n",
       "                        }\n",
       "                        break;\n",
       "                    }\n",
       "                }\n",
       "            }, 500);\n",
       "            "
      ],
      "text/plain": [
       "<IPython.core.display.Javascript object>"
      ]
     },
     "metadata": {},
     "output_type": "display_data"
    }
   ],
   "source": [
    "index_df[\"Date\"] = pd.to_datetime(index_df[\"Date\"])"
   ]
  },
  {
   "cell_type": "code",
   "execution_count": 57,
   "metadata": {},
   "outputs": [
    {
     "name": "stdout",
     "output_type": "stream",
     "text": [
      "<class 'pandas.core.frame.DataFrame'>\n",
      "RangeIndex: 348 entries, 0 to 347\n",
      "Data columns (total 2 columns):\n",
      " #   Column       Non-Null Count  Dtype         \n",
      "---  ------       --------------  -----         \n",
      " 0   Date         348 non-null    datetime64[ns]\n",
      " 1   National-US  348 non-null    float64       \n",
      "dtypes: datetime64[ns](1), float64(1)\n",
      "memory usage: 5.6 KB\n"
     ]
    },
    {
     "data": {
      "application/javascript": [
       "\n",
       "            setTimeout(function() {\n",
       "                var nbb_cell_id = 57;\n",
       "                var nbb_unformatted_code = \"index_df.info()\";\n",
       "                var nbb_formatted_code = \"index_df.info()\";\n",
       "                var nbb_cells = Jupyter.notebook.get_cells();\n",
       "                for (var i = 0; i < nbb_cells.length; ++i) {\n",
       "                    if (nbb_cells[i].input_prompt_number == nbb_cell_id) {\n",
       "                        if (nbb_cells[i].get_text() == nbb_unformatted_code) {\n",
       "                             nbb_cells[i].set_text(nbb_formatted_code);\n",
       "                        }\n",
       "                        break;\n",
       "                    }\n",
       "                }\n",
       "            }, 500);\n",
       "            "
      ],
      "text/plain": [
       "<IPython.core.display.Javascript object>"
      ]
     },
     "metadata": {},
     "output_type": "display_data"
    }
   ],
   "source": [
    "index_df.info()"
   ]
  },
  {
   "cell_type": "code",
   "execution_count": 58,
   "metadata": {},
   "outputs": [
    {
     "data": {
      "text/html": [
       "<div>\n",
       "<style scoped>\n",
       "    .dataframe tbody tr th:only-of-type {\n",
       "        vertical-align: middle;\n",
       "    }\n",
       "\n",
       "    .dataframe tbody tr th {\n",
       "        vertical-align: top;\n",
       "    }\n",
       "\n",
       "    .dataframe thead th {\n",
       "        text-align: right;\n",
       "    }\n",
       "</style>\n",
       "<table border=\"1\" class=\"dataframe\">\n",
       "  <thead>\n",
       "    <tr style=\"text-align: right;\">\n",
       "      <th></th>\n",
       "      <th>Date</th>\n",
       "      <th>National-US</th>\n",
       "    </tr>\n",
       "  </thead>\n",
       "  <tbody>\n",
       "    <tr>\n",
       "      <th>0</th>\n",
       "      <td>1987-01-01</td>\n",
       "      <td>63.75</td>\n",
       "    </tr>\n",
       "    <tr>\n",
       "      <th>1</th>\n",
       "      <td>1987-02-01</td>\n",
       "      <td>64.15</td>\n",
       "    </tr>\n",
       "    <tr>\n",
       "      <th>2</th>\n",
       "      <td>1987-03-01</td>\n",
       "      <td>64.49</td>\n",
       "    </tr>\n",
       "    <tr>\n",
       "      <th>3</th>\n",
       "      <td>1987-04-01</td>\n",
       "      <td>64.99</td>\n",
       "    </tr>\n",
       "    <tr>\n",
       "      <th>4</th>\n",
       "      <td>1987-05-01</td>\n",
       "      <td>65.57</td>\n",
       "    </tr>\n",
       "  </tbody>\n",
       "</table>\n",
       "</div>"
      ],
      "text/plain": [
       "        Date  National-US\n",
       "0 1987-01-01        63.75\n",
       "1 1987-02-01        64.15\n",
       "2 1987-03-01        64.49\n",
       "3 1987-04-01        64.99\n",
       "4 1987-05-01        65.57"
      ]
     },
     "execution_count": 58,
     "metadata": {},
     "output_type": "execute_result"
    },
    {
     "data": {
      "application/javascript": [
       "\n",
       "            setTimeout(function() {\n",
       "                var nbb_cell_id = 58;\n",
       "                var nbb_unformatted_code = \"index_df.head()\";\n",
       "                var nbb_formatted_code = \"index_df.head()\";\n",
       "                var nbb_cells = Jupyter.notebook.get_cells();\n",
       "                for (var i = 0; i < nbb_cells.length; ++i) {\n",
       "                    if (nbb_cells[i].input_prompt_number == nbb_cell_id) {\n",
       "                        if (nbb_cells[i].get_text() == nbb_unformatted_code) {\n",
       "                             nbb_cells[i].set_text(nbb_formatted_code);\n",
       "                        }\n",
       "                        break;\n",
       "                    }\n",
       "                }\n",
       "            }, 500);\n",
       "            "
      ],
      "text/plain": [
       "<IPython.core.display.Javascript object>"
      ]
     },
     "metadata": {},
     "output_type": "display_data"
    }
   ],
   "source": [
    "index_df.head()"
   ]
  },
  {
   "cell_type": "code",
   "execution_count": 59,
   "metadata": {},
   "outputs": [
    {
     "name": "stderr",
     "output_type": "stream",
     "text": [
      "/Users/DJG/opt/anaconda3/lib/python3.7/site-packages/ipykernel_launcher.py:1: SettingWithCopyWarning: \n",
      "A value is trying to be set on a copy of a slice from a DataFrame.\n",
      "Try using .loc[row_indexer,col_indexer] = value instead\n",
      "\n",
      "See the caveats in the documentation: https://pandas.pydata.org/pandas-docs/stable/user_guide/indexing.html#returning-a-view-versus-a-copy\n",
      "  \"\"\"Entry point for launching an IPython kernel.\n",
      "/Users/DJG/opt/anaconda3/lib/python3.7/site-packages/ipykernel_launcher.py:2: SettingWithCopyWarning: \n",
      "A value is trying to be set on a copy of a slice from a DataFrame.\n",
      "Try using .loc[row_indexer,col_indexer] = value instead\n",
      "\n",
      "See the caveats in the documentation: https://pandas.pydata.org/pandas-docs/stable/user_guide/indexing.html#returning-a-view-versus-a-copy\n",
      "  \n"
     ]
    },
    {
     "data": {
      "application/javascript": [
       "\n",
       "            setTimeout(function() {\n",
       "                var nbb_cell_id = 59;\n",
       "                var nbb_unformatted_code = \"index_df[\\\"year\\\"] = index_df[\\\"Date\\\"].dt.year\\nindex_df[\\\"month\\\"] = index_df[\\\"Date\\\"].dt.month\";\n",
       "                var nbb_formatted_code = \"index_df[\\\"year\\\"] = index_df[\\\"Date\\\"].dt.year\\nindex_df[\\\"month\\\"] = index_df[\\\"Date\\\"].dt.month\";\n",
       "                var nbb_cells = Jupyter.notebook.get_cells();\n",
       "                for (var i = 0; i < nbb_cells.length; ++i) {\n",
       "                    if (nbb_cells[i].input_prompt_number == nbb_cell_id) {\n",
       "                        if (nbb_cells[i].get_text() == nbb_unformatted_code) {\n",
       "                             nbb_cells[i].set_text(nbb_formatted_code);\n",
       "                        }\n",
       "                        break;\n",
       "                    }\n",
       "                }\n",
       "            }, 500);\n",
       "            "
      ],
      "text/plain": [
       "<IPython.core.display.Javascript object>"
      ]
     },
     "metadata": {},
     "output_type": "display_data"
    }
   ],
   "source": [
    "index_df[\"year\"] = index_df[\"Date\"].dt.year\n",
    "index_df[\"month\"] = index_df[\"Date\"].dt.month"
   ]
  },
  {
   "cell_type": "code",
   "execution_count": 60,
   "metadata": {},
   "outputs": [
    {
     "data": {
      "text/html": [
       "<div>\n",
       "<style scoped>\n",
       "    .dataframe tbody tr th:only-of-type {\n",
       "        vertical-align: middle;\n",
       "    }\n",
       "\n",
       "    .dataframe tbody tr th {\n",
       "        vertical-align: top;\n",
       "    }\n",
       "\n",
       "    .dataframe thead th {\n",
       "        text-align: right;\n",
       "    }\n",
       "</style>\n",
       "<table border=\"1\" class=\"dataframe\">\n",
       "  <thead>\n",
       "    <tr style=\"text-align: right;\">\n",
       "      <th></th>\n",
       "      <th>Date</th>\n",
       "      <th>National-US</th>\n",
       "      <th>year</th>\n",
       "      <th>month</th>\n",
       "    </tr>\n",
       "  </thead>\n",
       "  <tbody>\n",
       "    <tr>\n",
       "      <th>0</th>\n",
       "      <td>1987-01-01</td>\n",
       "      <td>63.75</td>\n",
       "      <td>1987</td>\n",
       "      <td>1</td>\n",
       "    </tr>\n",
       "    <tr>\n",
       "      <th>1</th>\n",
       "      <td>1987-02-01</td>\n",
       "      <td>64.15</td>\n",
       "      <td>1987</td>\n",
       "      <td>2</td>\n",
       "    </tr>\n",
       "    <tr>\n",
       "      <th>2</th>\n",
       "      <td>1987-03-01</td>\n",
       "      <td>64.49</td>\n",
       "      <td>1987</td>\n",
       "      <td>3</td>\n",
       "    </tr>\n",
       "    <tr>\n",
       "      <th>3</th>\n",
       "      <td>1987-04-01</td>\n",
       "      <td>64.99</td>\n",
       "      <td>1987</td>\n",
       "      <td>4</td>\n",
       "    </tr>\n",
       "    <tr>\n",
       "      <th>4</th>\n",
       "      <td>1987-05-01</td>\n",
       "      <td>65.57</td>\n",
       "      <td>1987</td>\n",
       "      <td>5</td>\n",
       "    </tr>\n",
       "  </tbody>\n",
       "</table>\n",
       "</div>"
      ],
      "text/plain": [
       "        Date  National-US  year  month\n",
       "0 1987-01-01        63.75  1987      1\n",
       "1 1987-02-01        64.15  1987      2\n",
       "2 1987-03-01        64.49  1987      3\n",
       "3 1987-04-01        64.99  1987      4\n",
       "4 1987-05-01        65.57  1987      5"
      ]
     },
     "execution_count": 60,
     "metadata": {},
     "output_type": "execute_result"
    },
    {
     "data": {
      "application/javascript": [
       "\n",
       "            setTimeout(function() {\n",
       "                var nbb_cell_id = 60;\n",
       "                var nbb_unformatted_code = \"index_df.head()\";\n",
       "                var nbb_formatted_code = \"index_df.head()\";\n",
       "                var nbb_cells = Jupyter.notebook.get_cells();\n",
       "                for (var i = 0; i < nbb_cells.length; ++i) {\n",
       "                    if (nbb_cells[i].input_prompt_number == nbb_cell_id) {\n",
       "                        if (nbb_cells[i].get_text() == nbb_unformatted_code) {\n",
       "                             nbb_cells[i].set_text(nbb_formatted_code);\n",
       "                        }\n",
       "                        break;\n",
       "                    }\n",
       "                }\n",
       "            }, 500);\n",
       "            "
      ],
      "text/plain": [
       "<IPython.core.display.Javascript object>"
      ]
     },
     "metadata": {},
     "output_type": "display_data"
    }
   ],
   "source": [
    "index_df.head()"
   ]
  },
  {
   "cell_type": "code",
   "execution_count": 61,
   "metadata": {},
   "outputs": [
    {
     "data": {
      "application/javascript": [
       "\n",
       "            setTimeout(function() {\n",
       "                var nbb_cell_id = 61;\n",
       "                var nbb_unformatted_code = \"index_df = index_df.drop(columns=[\\\"Date\\\"])\";\n",
       "                var nbb_formatted_code = \"index_df = index_df.drop(columns=[\\\"Date\\\"])\";\n",
       "                var nbb_cells = Jupyter.notebook.get_cells();\n",
       "                for (var i = 0; i < nbb_cells.length; ++i) {\n",
       "                    if (nbb_cells[i].input_prompt_number == nbb_cell_id) {\n",
       "                        if (nbb_cells[i].get_text() == nbb_unformatted_code) {\n",
       "                             nbb_cells[i].set_text(nbb_formatted_code);\n",
       "                        }\n",
       "                        break;\n",
       "                    }\n",
       "                }\n",
       "            }, 500);\n",
       "            "
      ],
      "text/plain": [
       "<IPython.core.display.Javascript object>"
      ]
     },
     "metadata": {},
     "output_type": "display_data"
    }
   ],
   "source": [
    "index_df = index_df.drop(columns=[\"Date\"])\n"
   ]
  },
  {
   "cell_type": "code",
   "execution_count": 62,
   "metadata": {},
   "outputs": [
    {
     "data": {
      "text/html": [
       "<div>\n",
       "<style scoped>\n",
       "    .dataframe tbody tr th:only-of-type {\n",
       "        vertical-align: middle;\n",
       "    }\n",
       "\n",
       "    .dataframe tbody tr th {\n",
       "        vertical-align: top;\n",
       "    }\n",
       "\n",
       "    .dataframe thead th {\n",
       "        text-align: right;\n",
       "    }\n",
       "</style>\n",
       "<table border=\"1\" class=\"dataframe\">\n",
       "  <thead>\n",
       "    <tr style=\"text-align: right;\">\n",
       "      <th></th>\n",
       "      <th>National-US</th>\n",
       "      <th>year</th>\n",
       "      <th>month</th>\n",
       "    </tr>\n",
       "  </thead>\n",
       "  <tbody>\n",
       "    <tr>\n",
       "      <th>0</th>\n",
       "      <td>63.75</td>\n",
       "      <td>1987</td>\n",
       "      <td>1</td>\n",
       "    </tr>\n",
       "    <tr>\n",
       "      <th>1</th>\n",
       "      <td>64.15</td>\n",
       "      <td>1987</td>\n",
       "      <td>2</td>\n",
       "    </tr>\n",
       "    <tr>\n",
       "      <th>2</th>\n",
       "      <td>64.49</td>\n",
       "      <td>1987</td>\n",
       "      <td>3</td>\n",
       "    </tr>\n",
       "    <tr>\n",
       "      <th>3</th>\n",
       "      <td>64.99</td>\n",
       "      <td>1987</td>\n",
       "      <td>4</td>\n",
       "    </tr>\n",
       "    <tr>\n",
       "      <th>4</th>\n",
       "      <td>65.57</td>\n",
       "      <td>1987</td>\n",
       "      <td>5</td>\n",
       "    </tr>\n",
       "    <tr>\n",
       "      <th>...</th>\n",
       "      <td>...</td>\n",
       "      <td>...</td>\n",
       "      <td>...</td>\n",
       "    </tr>\n",
       "    <tr>\n",
       "      <th>343</th>\n",
       "      <td>175.17</td>\n",
       "      <td>2015</td>\n",
       "      <td>8</td>\n",
       "    </tr>\n",
       "    <tr>\n",
       "      <th>344</th>\n",
       "      <td>175.32</td>\n",
       "      <td>2015</td>\n",
       "      <td>9</td>\n",
       "    </tr>\n",
       "    <tr>\n",
       "      <th>345</th>\n",
       "      <td>175.40</td>\n",
       "      <td>2015</td>\n",
       "      <td>10</td>\n",
       "    </tr>\n",
       "    <tr>\n",
       "      <th>346</th>\n",
       "      <td>175.50</td>\n",
       "      <td>2015</td>\n",
       "      <td>11</td>\n",
       "    </tr>\n",
       "    <tr>\n",
       "      <th>347</th>\n",
       "      <td>175.65</td>\n",
       "      <td>2015</td>\n",
       "      <td>12</td>\n",
       "    </tr>\n",
       "  </tbody>\n",
       "</table>\n",
       "<p>348 rows × 3 columns</p>\n",
       "</div>"
      ],
      "text/plain": [
       "     National-US  year  month\n",
       "0          63.75  1987      1\n",
       "1          64.15  1987      2\n",
       "2          64.49  1987      3\n",
       "3          64.99  1987      4\n",
       "4          65.57  1987      5\n",
       "..           ...   ...    ...\n",
       "343       175.17  2015      8\n",
       "344       175.32  2015      9\n",
       "345       175.40  2015     10\n",
       "346       175.50  2015     11\n",
       "347       175.65  2015     12\n",
       "\n",
       "[348 rows x 3 columns]"
      ]
     },
     "execution_count": 62,
     "metadata": {},
     "output_type": "execute_result"
    },
    {
     "data": {
      "application/javascript": [
       "\n",
       "            setTimeout(function() {\n",
       "                var nbb_cell_id = 62;\n",
       "                var nbb_unformatted_code = \"index_df\";\n",
       "                var nbb_formatted_code = \"index_df\";\n",
       "                var nbb_cells = Jupyter.notebook.get_cells();\n",
       "                for (var i = 0; i < nbb_cells.length; ++i) {\n",
       "                    if (nbb_cells[i].input_prompt_number == nbb_cell_id) {\n",
       "                        if (nbb_cells[i].get_text() == nbb_unformatted_code) {\n",
       "                             nbb_cells[i].set_text(nbb_formatted_code);\n",
       "                        }\n",
       "                        break;\n",
       "                    }\n",
       "                }\n",
       "            }, 500);\n",
       "            "
      ],
      "text/plain": [
       "<IPython.core.display.Javascript object>"
      ]
     },
     "metadata": {},
     "output_type": "display_data"
    }
   ],
   "source": [
    "index_df"
   ]
  },
  {
   "cell_type": "code",
   "execution_count": 63,
   "metadata": {},
   "outputs": [
    {
     "data": {
      "application/javascript": [
       "\n",
       "            setTimeout(function() {\n",
       "                var nbb_cell_id = 63;\n",
       "                var nbb_unformatted_code = \"index_df = index_df.rename(\\n    columns={\\\"year\\\": \\\"yrsold\\\", \\\"month\\\": \\\"mosold\\\", \\\"National-US\\\": \\\"indexatsale\\\"}\\n)\";\n",
       "                var nbb_formatted_code = \"index_df = index_df.rename(\\n    columns={\\\"year\\\": \\\"yrsold\\\", \\\"month\\\": \\\"mosold\\\", \\\"National-US\\\": \\\"indexatsale\\\"}\\n)\";\n",
       "                var nbb_cells = Jupyter.notebook.get_cells();\n",
       "                for (var i = 0; i < nbb_cells.length; ++i) {\n",
       "                    if (nbb_cells[i].input_prompt_number == nbb_cell_id) {\n",
       "                        if (nbb_cells[i].get_text() == nbb_unformatted_code) {\n",
       "                             nbb_cells[i].set_text(nbb_formatted_code);\n",
       "                        }\n",
       "                        break;\n",
       "                    }\n",
       "                }\n",
       "            }, 500);\n",
       "            "
      ],
      "text/plain": [
       "<IPython.core.display.Javascript object>"
      ]
     },
     "metadata": {},
     "output_type": "display_data"
    }
   ],
   "source": [
    "index_df = index_df.rename(\n",
    "    columns={\"year\": \"yrsold\", \"month\": \"mosold\", \"National-US\": \"indexatsale\"}\n",
    ")"
   ]
  },
  {
   "cell_type": "code",
   "execution_count": 64,
   "metadata": {},
   "outputs": [
    {
     "data": {
      "text/html": [
       "<div>\n",
       "<style scoped>\n",
       "    .dataframe tbody tr th:only-of-type {\n",
       "        vertical-align: middle;\n",
       "    }\n",
       "\n",
       "    .dataframe tbody tr th {\n",
       "        vertical-align: top;\n",
       "    }\n",
       "\n",
       "    .dataframe thead th {\n",
       "        text-align: right;\n",
       "    }\n",
       "</style>\n",
       "<table border=\"1\" class=\"dataframe\">\n",
       "  <thead>\n",
       "    <tr style=\"text-align: right;\">\n",
       "      <th></th>\n",
       "      <th>indexatsale</th>\n",
       "      <th>yrsold</th>\n",
       "      <th>mosold</th>\n",
       "    </tr>\n",
       "  </thead>\n",
       "  <tbody>\n",
       "    <tr>\n",
       "      <th>0</th>\n",
       "      <td>63.75</td>\n",
       "      <td>1987</td>\n",
       "      <td>1</td>\n",
       "    </tr>\n",
       "    <tr>\n",
       "      <th>1</th>\n",
       "      <td>64.15</td>\n",
       "      <td>1987</td>\n",
       "      <td>2</td>\n",
       "    </tr>\n",
       "    <tr>\n",
       "      <th>2</th>\n",
       "      <td>64.49</td>\n",
       "      <td>1987</td>\n",
       "      <td>3</td>\n",
       "    </tr>\n",
       "    <tr>\n",
       "      <th>3</th>\n",
       "      <td>64.99</td>\n",
       "      <td>1987</td>\n",
       "      <td>4</td>\n",
       "    </tr>\n",
       "    <tr>\n",
       "      <th>4</th>\n",
       "      <td>65.57</td>\n",
       "      <td>1987</td>\n",
       "      <td>5</td>\n",
       "    </tr>\n",
       "    <tr>\n",
       "      <th>...</th>\n",
       "      <td>...</td>\n",
       "      <td>...</td>\n",
       "      <td>...</td>\n",
       "    </tr>\n",
       "    <tr>\n",
       "      <th>343</th>\n",
       "      <td>175.17</td>\n",
       "      <td>2015</td>\n",
       "      <td>8</td>\n",
       "    </tr>\n",
       "    <tr>\n",
       "      <th>344</th>\n",
       "      <td>175.32</td>\n",
       "      <td>2015</td>\n",
       "      <td>9</td>\n",
       "    </tr>\n",
       "    <tr>\n",
       "      <th>345</th>\n",
       "      <td>175.40</td>\n",
       "      <td>2015</td>\n",
       "      <td>10</td>\n",
       "    </tr>\n",
       "    <tr>\n",
       "      <th>346</th>\n",
       "      <td>175.50</td>\n",
       "      <td>2015</td>\n",
       "      <td>11</td>\n",
       "    </tr>\n",
       "    <tr>\n",
       "      <th>347</th>\n",
       "      <td>175.65</td>\n",
       "      <td>2015</td>\n",
       "      <td>12</td>\n",
       "    </tr>\n",
       "  </tbody>\n",
       "</table>\n",
       "<p>348 rows × 3 columns</p>\n",
       "</div>"
      ],
      "text/plain": [
       "     indexatsale  yrsold  mosold\n",
       "0          63.75    1987       1\n",
       "1          64.15    1987       2\n",
       "2          64.49    1987       3\n",
       "3          64.99    1987       4\n",
       "4          65.57    1987       5\n",
       "..           ...     ...     ...\n",
       "343       175.17    2015       8\n",
       "344       175.32    2015       9\n",
       "345       175.40    2015      10\n",
       "346       175.50    2015      11\n",
       "347       175.65    2015      12\n",
       "\n",
       "[348 rows x 3 columns]"
      ]
     },
     "execution_count": 64,
     "metadata": {},
     "output_type": "execute_result"
    },
    {
     "data": {
      "application/javascript": [
       "\n",
       "            setTimeout(function() {\n",
       "                var nbb_cell_id = 64;\n",
       "                var nbb_unformatted_code = \"index_df\";\n",
       "                var nbb_formatted_code = \"index_df\";\n",
       "                var nbb_cells = Jupyter.notebook.get_cells();\n",
       "                for (var i = 0; i < nbb_cells.length; ++i) {\n",
       "                    if (nbb_cells[i].input_prompt_number == nbb_cell_id) {\n",
       "                        if (nbb_cells[i].get_text() == nbb_unformatted_code) {\n",
       "                             nbb_cells[i].set_text(nbb_formatted_code);\n",
       "                        }\n",
       "                        break;\n",
       "                    }\n",
       "                }\n",
       "            }, 500);\n",
       "            "
      ],
      "text/plain": [
       "<IPython.core.display.Javascript object>"
      ]
     },
     "metadata": {},
     "output_type": "display_data"
    }
   ],
   "source": [
    "index_df"
   ]
  },
  {
   "cell_type": "code",
   "execution_count": 65,
   "metadata": {},
   "outputs": [
    {
     "data": {
      "application/javascript": [
       "\n",
       "            setTimeout(function() {\n",
       "                var nbb_cell_id = 65;\n",
       "                var nbb_unformatted_code = \"houseprices_df = pd.merge(houseprices_df, index_df, how=\\\"left\\\", on=[\\\"yrsold\\\", \\\"mosold\\\"])\";\n",
       "                var nbb_formatted_code = \"houseprices_df = pd.merge(houseprices_df, index_df, how=\\\"left\\\", on=[\\\"yrsold\\\", \\\"mosold\\\"])\";\n",
       "                var nbb_cells = Jupyter.notebook.get_cells();\n",
       "                for (var i = 0; i < nbb_cells.length; ++i) {\n",
       "                    if (nbb_cells[i].input_prompt_number == nbb_cell_id) {\n",
       "                        if (nbb_cells[i].get_text() == nbb_unformatted_code) {\n",
       "                             nbb_cells[i].set_text(nbb_formatted_code);\n",
       "                        }\n",
       "                        break;\n",
       "                    }\n",
       "                }\n",
       "            }, 500);\n",
       "            "
      ],
      "text/plain": [
       "<IPython.core.display.Javascript object>"
      ]
     },
     "metadata": {},
     "output_type": "display_data"
    }
   ],
   "source": [
    "houseprices_df = pd.merge(houseprices_df, index_df, how=\"left\", on=[\"yrsold\", \"mosold\"])"
   ]
  },
  {
   "cell_type": "code",
   "execution_count": 66,
   "metadata": {},
   "outputs": [
    {
     "data": {
      "text/plain": [
       "0"
      ]
     },
     "execution_count": 66,
     "metadata": {},
     "output_type": "execute_result"
    },
    {
     "data": {
      "application/javascript": [
       "\n",
       "            setTimeout(function() {\n",
       "                var nbb_cell_id = 66;\n",
       "                var nbb_unformatted_code = \"houseprices_df.isna().sum().sum()\";\n",
       "                var nbb_formatted_code = \"houseprices_df.isna().sum().sum()\";\n",
       "                var nbb_cells = Jupyter.notebook.get_cells();\n",
       "                for (var i = 0; i < nbb_cells.length; ++i) {\n",
       "                    if (nbb_cells[i].input_prompt_number == nbb_cell_id) {\n",
       "                        if (nbb_cells[i].get_text() == nbb_unformatted_code) {\n",
       "                             nbb_cells[i].set_text(nbb_formatted_code);\n",
       "                        }\n",
       "                        break;\n",
       "                    }\n",
       "                }\n",
       "            }, 500);\n",
       "            "
      ],
      "text/plain": [
       "<IPython.core.display.Javascript object>"
      ]
     },
     "metadata": {},
     "output_type": "display_data"
    }
   ],
   "source": [
    "houseprices_df.isna().sum().sum()"
   ]
  },
  {
   "cell_type": "code",
   "execution_count": 67,
   "metadata": {},
   "outputs": [
    {
     "data": {
      "application/javascript": [
       "\n",
       "            setTimeout(function() {\n",
       "                var nbb_cell_id = 67;\n",
       "                var nbb_unformatted_code = \"cols_of_interest = [\\n    \\\"saleprice\\\",\\n    \\\"mszoning\\\",\\n    \\\"bldgtype\\\",\\n    \\\"housestyle\\\",\\n    \\\"overallcond\\\",\\n    \\\"total_baths\\\",  # some places have 0 bathrooms?\\n    \\\"salecondition\\\",\\n    \\\"lotarea\\\",\\n    \\\"lotfrontage\\\",\\n    \\\"houseage\\\",\\n    \\\"garagecars\\\",\\n    \\\"totalarea\\\",\\n    \\\"poolarea\\\",\\n    \\\"overallqual\\\",\\n    \\\"indexatsale\\\",\\n]\";\n",
       "                var nbb_formatted_code = \"cols_of_interest = [\\n    \\\"saleprice\\\",\\n    \\\"mszoning\\\",\\n    \\\"bldgtype\\\",\\n    \\\"housestyle\\\",\\n    \\\"overallcond\\\",\\n    \\\"total_baths\\\",  # some places have 0 bathrooms?\\n    \\\"salecondition\\\",\\n    \\\"lotarea\\\",\\n    \\\"lotfrontage\\\",\\n    \\\"houseage\\\",\\n    \\\"garagecars\\\",\\n    \\\"totalarea\\\",\\n    \\\"poolarea\\\",\\n    \\\"overallqual\\\",\\n    \\\"indexatsale\\\",\\n]\";\n",
       "                var nbb_cells = Jupyter.notebook.get_cells();\n",
       "                for (var i = 0; i < nbb_cells.length; ++i) {\n",
       "                    if (nbb_cells[i].input_prompt_number == nbb_cell_id) {\n",
       "                        if (nbb_cells[i].get_text() == nbb_unformatted_code) {\n",
       "                             nbb_cells[i].set_text(nbb_formatted_code);\n",
       "                        }\n",
       "                        break;\n",
       "                    }\n",
       "                }\n",
       "            }, 500);\n",
       "            "
      ],
      "text/plain": [
       "<IPython.core.display.Javascript object>"
      ]
     },
     "metadata": {},
     "output_type": "display_data"
    }
   ],
   "source": [
    "cols_of_interest = [\n",
    "    \"saleprice\",\n",
    "    \"mszoning\",\n",
    "    \"bldgtype\",\n",
    "    \"housestyle\",\n",
    "    \"overallcond\",\n",
    "    \"total_baths\",  # some places have 0 bathrooms?\n",
    "    \"salecondition\",\n",
    "    \"lotarea\",\n",
    "    \"lotfrontage\",\n",
    "    \"houseage\",\n",
    "    \"garagecars\",\n",
    "    \"totalarea\",\n",
    "    \"poolarea\",\n",
    "    \"overallqual\",\n",
    "    \"indexatsale\",\n",
    "]"
   ]
  },
  {
   "cell_type": "code",
   "execution_count": 68,
   "metadata": {},
   "outputs": [
    {
     "data": {
      "application/javascript": [
       "\n",
       "            setTimeout(function() {\n",
       "                var nbb_cell_id = 68;\n",
       "                var nbb_unformatted_code = \"houses = houseprices_df[cols_of_interest]\";\n",
       "                var nbb_formatted_code = \"houses = houseprices_df[cols_of_interest]\";\n",
       "                var nbb_cells = Jupyter.notebook.get_cells();\n",
       "                for (var i = 0; i < nbb_cells.length; ++i) {\n",
       "                    if (nbb_cells[i].input_prompt_number == nbb_cell_id) {\n",
       "                        if (nbb_cells[i].get_text() == nbb_unformatted_code) {\n",
       "                             nbb_cells[i].set_text(nbb_formatted_code);\n",
       "                        }\n",
       "                        break;\n",
       "                    }\n",
       "                }\n",
       "            }, 500);\n",
       "            "
      ],
      "text/plain": [
       "<IPython.core.display.Javascript object>"
      ]
     },
     "metadata": {},
     "output_type": "display_data"
    }
   ],
   "source": [
    "houses = houseprices_df[cols_of_interest]"
   ]
  },
  {
   "cell_type": "code",
   "execution_count": 69,
   "metadata": {},
   "outputs": [
    {
     "data": {
      "application/javascript": [
       "\n",
       "            setTimeout(function() {\n",
       "                var nbb_cell_id = 69;\n",
       "                var nbb_unformatted_code = \"X = houses.drop(columns=\\\"saleprice\\\")\\ny = houses[\\\"saleprice\\\"]\\n\\nX_train, X_test, y_train, y_test = train_test_split(\\n    X, y, test_size=0.2, random_state=42\\n)\";\n",
       "                var nbb_formatted_code = \"X = houses.drop(columns=\\\"saleprice\\\")\\ny = houses[\\\"saleprice\\\"]\\n\\nX_train, X_test, y_train, y_test = train_test_split(\\n    X, y, test_size=0.2, random_state=42\\n)\";\n",
       "                var nbb_cells = Jupyter.notebook.get_cells();\n",
       "                for (var i = 0; i < nbb_cells.length; ++i) {\n",
       "                    if (nbb_cells[i].input_prompt_number == nbb_cell_id) {\n",
       "                        if (nbb_cells[i].get_text() == nbb_unformatted_code) {\n",
       "                             nbb_cells[i].set_text(nbb_formatted_code);\n",
       "                        }\n",
       "                        break;\n",
       "                    }\n",
       "                }\n",
       "            }, 500);\n",
       "            "
      ],
      "text/plain": [
       "<IPython.core.display.Javascript object>"
      ]
     },
     "metadata": {},
     "output_type": "display_data"
    }
   ],
   "source": [
    "X = houses.drop(columns=\"saleprice\")\n",
    "y = houses[\"saleprice\"]\n",
    "\n",
    "X_train, X_test, y_train, y_test = train_test_split(\n",
    "    X, y, test_size=0.2, random_state=42\n",
    ")"
   ]
  },
  {
   "cell_type": "code",
   "execution_count": 70,
   "metadata": {},
   "outputs": [
    {
     "data": {
      "application/javascript": [
       "\n",
       "            setTimeout(function() {\n",
       "                var nbb_cell_id = 70;\n",
       "                var nbb_unformatted_code = \"cat_cols = X.select_dtypes(include=[\\\"object\\\"]).columns.to_list()\\ndrop_cats = []\\n\\nnum_cols = X.select_dtypes(exclude=[\\\"object\\\"]).columns.to_list()\";\n",
       "                var nbb_formatted_code = \"cat_cols = X.select_dtypes(include=[\\\"object\\\"]).columns.to_list()\\ndrop_cats = []\\n\\nnum_cols = X.select_dtypes(exclude=[\\\"object\\\"]).columns.to_list()\";\n",
       "                var nbb_cells = Jupyter.notebook.get_cells();\n",
       "                for (var i = 0; i < nbb_cells.length; ++i) {\n",
       "                    if (nbb_cells[i].input_prompt_number == nbb_cell_id) {\n",
       "                        if (nbb_cells[i].get_text() == nbb_unformatted_code) {\n",
       "                             nbb_cells[i].set_text(nbb_formatted_code);\n",
       "                        }\n",
       "                        break;\n",
       "                    }\n",
       "                }\n",
       "            }, 500);\n",
       "            "
      ],
      "text/plain": [
       "<IPython.core.display.Javascript object>"
      ]
     },
     "metadata": {},
     "output_type": "display_data"
    }
   ],
   "source": [
    "cat_cols = X.select_dtypes(include=[\"object\"]).columns.to_list()\n",
    "drop_cats = []\n",
    "\n",
    "num_cols = X.select_dtypes(exclude=[\"object\"]).columns.to_list()"
   ]
  },
  {
   "cell_type": "code",
   "execution_count": 71,
   "metadata": {},
   "outputs": [
    {
     "data": {
      "application/javascript": [
       "\n",
       "            setTimeout(function() {\n",
       "                var nbb_cell_id = 71;\n",
       "                var nbb_unformatted_code = \"drop_cats = []\\nfor col in cat_cols:\\n    drop_cats.append(houses[col].mode().values[0])\";\n",
       "                var nbb_formatted_code = \"drop_cats = []\\nfor col in cat_cols:\\n    drop_cats.append(houses[col].mode().values[0])\";\n",
       "                var nbb_cells = Jupyter.notebook.get_cells();\n",
       "                for (var i = 0; i < nbb_cells.length; ++i) {\n",
       "                    if (nbb_cells[i].input_prompt_number == nbb_cell_id) {\n",
       "                        if (nbb_cells[i].get_text() == nbb_unformatted_code) {\n",
       "                             nbb_cells[i].set_text(nbb_formatted_code);\n",
       "                        }\n",
       "                        break;\n",
       "                    }\n",
       "                }\n",
       "            }, 500);\n",
       "            "
      ],
      "text/plain": [
       "<IPython.core.display.Javascript object>"
      ]
     },
     "metadata": {},
     "output_type": "display_data"
    }
   ],
   "source": [
    "drop_cats = []\n",
    "for col in cat_cols:\n",
    "    drop_cats.append(houses[col].mode().values[0])"
   ]
  },
  {
   "cell_type": "code",
   "execution_count": 72,
   "metadata": {},
   "outputs": [
    {
     "data": {
      "application/javascript": [
       "\n",
       "            setTimeout(function() {\n",
       "                var nbb_cell_id = 72;\n",
       "                var nbb_unformatted_code = \"ct = ColumnTransformer(\\n    [(\\\"one_hot_encode\\\", OneHotEncoder(drop=drop_cats, sparse=False), cat_cols)],\\n    remainder=\\\"passthrough\\\",\\n)\";\n",
       "                var nbb_formatted_code = \"ct = ColumnTransformer(\\n    [(\\\"one_hot_encode\\\", OneHotEncoder(drop=drop_cats, sparse=False), cat_cols)],\\n    remainder=\\\"passthrough\\\",\\n)\";\n",
       "                var nbb_cells = Jupyter.notebook.get_cells();\n",
       "                for (var i = 0; i < nbb_cells.length; ++i) {\n",
       "                    if (nbb_cells[i].input_prompt_number == nbb_cell_id) {\n",
       "                        if (nbb_cells[i].get_text() == nbb_unformatted_code) {\n",
       "                             nbb_cells[i].set_text(nbb_formatted_code);\n",
       "                        }\n",
       "                        break;\n",
       "                    }\n",
       "                }\n",
       "            }, 500);\n",
       "            "
      ],
      "text/plain": [
       "<IPython.core.display.Javascript object>"
      ]
     },
     "metadata": {},
     "output_type": "display_data"
    }
   ],
   "source": [
    "ct = ColumnTransformer(\n",
    "    [(\"one_hot_encode\", OneHotEncoder(drop=drop_cats, sparse=False), cat_cols)],\n",
    "    remainder=\"passthrough\",\n",
    ")"
   ]
  },
  {
   "cell_type": "code",
   "execution_count": 73,
   "metadata": {},
   "outputs": [
    {
     "data": {
      "text/plain": [
       "ColumnTransformer(n_jobs=None, remainder='passthrough', sparse_threshold=0.3,\n",
       "                  transformer_weights=None,\n",
       "                  transformers=[('one_hot_encode',\n",
       "                                 OneHotEncoder(categories='auto',\n",
       "                                               drop=['RL', '1Fam', '1Story',\n",
       "                                                     'Normal'],\n",
       "                                               dtype=<class 'numpy.float64'>,\n",
       "                                               handle_unknown='error',\n",
       "                                               sparse=False),\n",
       "                                 ['mszoning', 'bldgtype', 'housestyle',\n",
       "                                  'salecondition'])],\n",
       "                  verbose=False)"
      ]
     },
     "execution_count": 73,
     "metadata": {},
     "output_type": "execute_result"
    },
    {
     "data": {
      "application/javascript": [
       "\n",
       "            setTimeout(function() {\n",
       "                var nbb_cell_id = 73;\n",
       "                var nbb_unformatted_code = \"ct.fit(X_train)\";\n",
       "                var nbb_formatted_code = \"ct.fit(X_train)\";\n",
       "                var nbb_cells = Jupyter.notebook.get_cells();\n",
       "                for (var i = 0; i < nbb_cells.length; ++i) {\n",
       "                    if (nbb_cells[i].input_prompt_number == nbb_cell_id) {\n",
       "                        if (nbb_cells[i].get_text() == nbb_unformatted_code) {\n",
       "                             nbb_cells[i].set_text(nbb_formatted_code);\n",
       "                        }\n",
       "                        break;\n",
       "                    }\n",
       "                }\n",
       "            }, 500);\n",
       "            "
      ],
      "text/plain": [
       "<IPython.core.display.Javascript object>"
      ]
     },
     "metadata": {},
     "output_type": "display_data"
    }
   ],
   "source": [
    "ct.fit(X_train)"
   ]
  },
  {
   "cell_type": "code",
   "execution_count": 74,
   "metadata": {},
   "outputs": [
    {
     "data": {
      "application/javascript": [
       "\n",
       "            setTimeout(function() {\n",
       "                var nbb_cell_id = 74;\n",
       "                var nbb_unformatted_code = \"X_train_trans = ct.transform(X_train)\\nX_test_trans = ct.transform(X_test)\";\n",
       "                var nbb_formatted_code = \"X_train_trans = ct.transform(X_train)\\nX_test_trans = ct.transform(X_test)\";\n",
       "                var nbb_cells = Jupyter.notebook.get_cells();\n",
       "                for (var i = 0; i < nbb_cells.length; ++i) {\n",
       "                    if (nbb_cells[i].input_prompt_number == nbb_cell_id) {\n",
       "                        if (nbb_cells[i].get_text() == nbb_unformatted_code) {\n",
       "                             nbb_cells[i].set_text(nbb_formatted_code);\n",
       "                        }\n",
       "                        break;\n",
       "                    }\n",
       "                }\n",
       "            }, 500);\n",
       "            "
      ],
      "text/plain": [
       "<IPython.core.display.Javascript object>"
      ]
     },
     "metadata": {},
     "output_type": "display_data"
    }
   ],
   "source": [
    "X_train_trans = ct.transform(X_train)\n",
    "X_test_trans = ct.transform(X_test)"
   ]
  },
  {
   "cell_type": "code",
   "execution_count": 75,
   "metadata": {},
   "outputs": [
    {
     "data": {
      "application/javascript": [
       "\n",
       "            setTimeout(function() {\n",
       "                var nbb_cell_id = 75;\n",
       "                var nbb_unformatted_code = \"cat_names = ct.transformers_[0][1].get_feature_names(cat_cols)\\ncat_names = list(cat_names)\\nnew_col_names = cat_names + num_cols\\n\\nX_train = pd.DataFrame(X_train_trans, columns=new_col_names)\\nX_test = pd.DataFrame(X_test_trans, columns=new_col_names)\";\n",
       "                var nbb_formatted_code = \"cat_names = ct.transformers_[0][1].get_feature_names(cat_cols)\\ncat_names = list(cat_names)\\nnew_col_names = cat_names + num_cols\\n\\nX_train = pd.DataFrame(X_train_trans, columns=new_col_names)\\nX_test = pd.DataFrame(X_test_trans, columns=new_col_names)\";\n",
       "                var nbb_cells = Jupyter.notebook.get_cells();\n",
       "                for (var i = 0; i < nbb_cells.length; ++i) {\n",
       "                    if (nbb_cells[i].input_prompt_number == nbb_cell_id) {\n",
       "                        if (nbb_cells[i].get_text() == nbb_unformatted_code) {\n",
       "                             nbb_cells[i].set_text(nbb_formatted_code);\n",
       "                        }\n",
       "                        break;\n",
       "                    }\n",
       "                }\n",
       "            }, 500);\n",
       "            "
      ],
      "text/plain": [
       "<IPython.core.display.Javascript object>"
      ]
     },
     "metadata": {},
     "output_type": "display_data"
    }
   ],
   "source": [
    "cat_names = ct.transformers_[0][1].get_feature_names(cat_cols)\n",
    "cat_names = list(cat_names)\n",
    "new_col_names = cat_names + num_cols\n",
    "\n",
    "X_train = pd.DataFrame(X_train_trans, columns=new_col_names)\n",
    "X_test = pd.DataFrame(X_test_trans, columns=new_col_names)"
   ]
  },
  {
   "cell_type": "code",
   "execution_count": 76,
   "metadata": {
    "scrolled": true
   },
   "outputs": [
    {
     "name": "stdout",
     "output_type": "stream",
     "text": [
      "VIF results\n",
      "-------------------------------\n",
      "const                    215.925849\n",
      "mszoning_C (all)           1.068264\n",
      "mszoning_FV                1.187768\n",
      "mszoning_RH                1.080581\n",
      "mszoning_RM                1.552215\n",
      "bldgtype_2fmCon            1.106581\n",
      "bldgtype_Duplex            1.276623\n",
      "bldgtype_Twnhs             1.294027\n",
      "bldgtype_TwnhsE            1.396137\n",
      "housestyle_1.5Fin          1.407563\n",
      "housestyle_1.5Unf          1.063678\n",
      "housestyle_2.5Fin          1.105780\n",
      "housestyle_2.5Unf          1.169211\n",
      "housestyle_2Story          1.451339\n",
      "housestyle_SFoyer          1.108981\n",
      "housestyle_SLvl            1.100288\n",
      "salecondition_Abnorml      1.070276\n",
      "salecondition_AdjLand      1.072176\n",
      "salecondition_Alloca       1.154891\n",
      "salecondition_Family       1.032095\n",
      "salecondition_Partial      1.250670\n",
      "overallcond                1.322107\n",
      "total_baths                2.301635\n",
      "lotarea                    1.214258\n",
      "lotfrontage                1.614438\n",
      "houseage                   3.411634\n",
      "garagecars                 1.898316\n",
      "totalarea                  3.063931\n",
      "poolarea                   1.145555\n",
      "overallqual                2.982189\n",
      "indexatsale                1.047683\n",
      "dtype: float64\n",
      "-------------------------------\n",
      "\n"
     ]
    },
    {
     "data": {
      "application/javascript": [
       "\n",
       "            setTimeout(function() {\n",
       "                var nbb_cell_id = 76;\n",
       "                var nbb_unformatted_code = \"print_vif(X_train)\";\n",
       "                var nbb_formatted_code = \"print_vif(X_train)\";\n",
       "                var nbb_cells = Jupyter.notebook.get_cells();\n",
       "                for (var i = 0; i < nbb_cells.length; ++i) {\n",
       "                    if (nbb_cells[i].input_prompt_number == nbb_cell_id) {\n",
       "                        if (nbb_cells[i].get_text() == nbb_unformatted_code) {\n",
       "                             nbb_cells[i].set_text(nbb_formatted_code);\n",
       "                        }\n",
       "                        break;\n",
       "                    }\n",
       "                }\n",
       "            }, 500);\n",
       "            "
      ],
      "text/plain": [
       "<IPython.core.display.Javascript object>"
      ]
     },
     "metadata": {},
     "output_type": "display_data"
    }
   ],
   "source": [
    "print_vif(X_train)"
   ]
  },
  {
   "cell_type": "code",
   "execution_count": 77,
   "metadata": {},
   "outputs": [
    {
     "name": "stdout",
     "output_type": "stream",
     "text": [
      "Fitting 5 folds for each of 7 candidates, totalling 35 fits\n"
     ]
    },
    {
     "name": "stderr",
     "output_type": "stream",
     "text": [
      "[Parallel(n_jobs=1)]: Using backend SequentialBackend with 1 concurrent workers.\n"
     ]
    },
    {
     "name": "stdout",
     "output_type": "stream",
     "text": [
      "selected alpha: 10\n"
     ]
    },
    {
     "name": "stderr",
     "output_type": "stream",
     "text": [
      "[Parallel(n_jobs=1)]: Done  35 out of  35 | elapsed:    0.3s finished\n"
     ]
    },
    {
     "data": {
      "text/plain": [
       "array([ 4.59481375e+01, -1.51704606e+03,  7.89585278e+02, -7.90072383e+03,\n",
       "       -6.58652693e+03, -1.95793765e+04, -1.80287499e+04, -1.20824449e+04,\n",
       "       -7.02215634e+02, -2.46796591e+03,  6.80709653e+03, -1.02456295e+04,\n",
       "       -3.28810767e+03, -1.27036229e+03, -4.26884560e+03, -4.77462331e+03,\n",
       "        2.79657287e+03,  9.57771180e+03, -9.68259756e+03,  2.01820927e+04,\n",
       "        5.23507820e+03,  1.41600648e+04,  5.03981053e-01, -1.07153631e+02,\n",
       "       -1.60187155e+02,  1.39647120e+04,  2.97831921e+01, -2.54232079e+00,\n",
       "        2.08978229e+04, -2.09171957e+01])"
      ]
     },
     "execution_count": 77,
     "metadata": {},
     "output_type": "execute_result"
    },
    {
     "data": {
      "application/javascript": [
       "\n",
       "            setTimeout(function() {\n",
       "                var nbb_cell_id = 77;\n",
       "                var nbb_unformatted_code = \"grid = {\\\"alpha\\\": [0.0001, 0.001, 0.01, 0.1, 1, 10, 20]}\\nridge_cv = GridSearchCV(Ridge(), grid, verbose=1, cv=5)\\nridge_cv.fit(X_train, y_train)\\n\\n# The best fit is in the best_estimator_ attribute\\nprint(f\\\"selected alpha: {ridge_cv.best_estimator_.alpha}\\\")\\nridge_cv.best_estimator_.coef_\";\n",
       "                var nbb_formatted_code = \"grid = {\\\"alpha\\\": [0.0001, 0.001, 0.01, 0.1, 1, 10, 20]}\\nridge_cv = GridSearchCV(Ridge(), grid, verbose=1, cv=5)\\nridge_cv.fit(X_train, y_train)\\n\\n# The best fit is in the best_estimator_ attribute\\nprint(f\\\"selected alpha: {ridge_cv.best_estimator_.alpha}\\\")\\nridge_cv.best_estimator_.coef_\";\n",
       "                var nbb_cells = Jupyter.notebook.get_cells();\n",
       "                for (var i = 0; i < nbb_cells.length; ++i) {\n",
       "                    if (nbb_cells[i].input_prompt_number == nbb_cell_id) {\n",
       "                        if (nbb_cells[i].get_text() == nbb_unformatted_code) {\n",
       "                             nbb_cells[i].set_text(nbb_formatted_code);\n",
       "                        }\n",
       "                        break;\n",
       "                    }\n",
       "                }\n",
       "            }, 500);\n",
       "            "
      ],
      "text/plain": [
       "<IPython.core.display.Javascript object>"
      ]
     },
     "metadata": {},
     "output_type": "display_data"
    }
   ],
   "source": [
    "grid = {\"alpha\": [0.0001, 0.001, 0.01, 0.1, 1, 10, 20]}\n",
    "ridge_cv = GridSearchCV(Ridge(), grid, verbose=1, cv=5)\n",
    "ridge_cv.fit(X_train, y_train)\n",
    "\n",
    "# The best fit is in the best_estimator_ attribute\n",
    "print(f\"selected alpha: {ridge_cv.best_estimator_.alpha}\")\n",
    "ridge_cv.best_estimator_.coef_"
   ]
  },
  {
   "cell_type": "code",
   "execution_count": 78,
   "metadata": {},
   "outputs": [
    {
     "name": "stderr",
     "output_type": "stream",
     "text": [
      "[Parallel(n_jobs=1)]: Using backend SequentialBackend with 1 concurrent workers.\n"
     ]
    },
    {
     "name": "stdout",
     "output_type": "stream",
     "text": [
      "Fitting 5 folds for each of 9 candidates, totalling 45 fits\n",
      "selected alpha: 100\n"
     ]
    },
    {
     "name": "stderr",
     "output_type": "stream",
     "text": [
      "[Parallel(n_jobs=1)]: Done  45 out of  45 | elapsed:    0.4s finished\n"
     ]
    },
    {
     "data": {
      "text/plain": [
       "array([-0.00000000e+00, -0.00000000e+00,  0.00000000e+00, -7.47850083e+03,\n",
       "       -4.98623759e+03, -2.13084168e+04, -2.11967831e+04, -1.25822518e+04,\n",
       "       -0.00000000e+00, -0.00000000e+00,  6.83657399e+02, -9.03080914e+03,\n",
       "       -2.73759816e+03, -0.00000000e+00, -2.43707841e+03, -3.52989499e+03,\n",
       "        0.00000000e+00,  7.63867230e+03, -7.69521407e+03,  2.11044218e+04,\n",
       "        5.17886965e+03,  1.42638521e+04,  5.01468109e-01, -1.12208031e+02,\n",
       "       -1.60159897e+02,  1.39106796e+04,  2.98504696e+01, -2.50014674e+00,\n",
       "        2.08669339e+04, -2.31913425e+01])"
      ]
     },
     "execution_count": 78,
     "metadata": {},
     "output_type": "execute_result"
    },
    {
     "data": {
      "application/javascript": [
       "\n",
       "            setTimeout(function() {\n",
       "                var nbb_cell_id = 78;\n",
       "                var nbb_unformatted_code = \"grid = {\\\"alpha\\\": [0.0001, 0.001, 0.01, 0.1, 1, 10, 100, 500, 1000]}\\nlasso_cv = GridSearchCV(Lasso(), grid, verbose=1, cv=5)\\nlasso_cv.fit(X_train, y_train)\\n\\n# The best fit is in the best_estimator_ attribute\\nprint(f\\\"selected alpha: {lasso_cv.best_estimator_.alpha}\\\")\\nlasso_cv.best_estimator_.coef_\";\n",
       "                var nbb_formatted_code = \"grid = {\\\"alpha\\\": [0.0001, 0.001, 0.01, 0.1, 1, 10, 100, 500, 1000]}\\nlasso_cv = GridSearchCV(Lasso(), grid, verbose=1, cv=5)\\nlasso_cv.fit(X_train, y_train)\\n\\n# The best fit is in the best_estimator_ attribute\\nprint(f\\\"selected alpha: {lasso_cv.best_estimator_.alpha}\\\")\\nlasso_cv.best_estimator_.coef_\";\n",
       "                var nbb_cells = Jupyter.notebook.get_cells();\n",
       "                for (var i = 0; i < nbb_cells.length; ++i) {\n",
       "                    if (nbb_cells[i].input_prompt_number == nbb_cell_id) {\n",
       "                        if (nbb_cells[i].get_text() == nbb_unformatted_code) {\n",
       "                             nbb_cells[i].set_text(nbb_formatted_code);\n",
       "                        }\n",
       "                        break;\n",
       "                    }\n",
       "                }\n",
       "            }, 500);\n",
       "            "
      ],
      "text/plain": [
       "<IPython.core.display.Javascript object>"
      ]
     },
     "metadata": {},
     "output_type": "display_data"
    }
   ],
   "source": [
    "grid = {\"alpha\": [0.0001, 0.001, 0.01, 0.1, 1, 10, 100, 500, 1000]}\n",
    "lasso_cv = GridSearchCV(Lasso(), grid, verbose=1, cv=5)\n",
    "lasso_cv.fit(X_train, y_train)\n",
    "\n",
    "# The best fit is in the best_estimator_ attribute\n",
    "print(f\"selected alpha: {lasso_cv.best_estimator_.alpha}\")\n",
    "lasso_cv.best_estimator_.coef_"
   ]
  },
  {
   "cell_type": "code",
   "execution_count": 79,
   "metadata": {},
   "outputs": [
    {
     "name": "stderr",
     "output_type": "stream",
     "text": [
      "[Parallel(n_jobs=1)]: Using backend SequentialBackend with 1 concurrent workers.\n"
     ]
    },
    {
     "name": "stdout",
     "output_type": "stream",
     "text": [
      "Fitting 5 folds for each of 24 candidates, totalling 120 fits\n",
      "selected alpha: 0.01\n",
      "selected l1_ratio: 0.1\n"
     ]
    },
    {
     "name": "stderr",
     "output_type": "stream",
     "text": [
      "[Parallel(n_jobs=1)]: Done 120 out of 120 | elapsed:    1.0s finished\n"
     ]
    },
    {
     "data": {
      "text/plain": [
       "array([ 2.21891766e+01, -1.50580042e+03,  7.49053373e+02, -7.90971725e+03,\n",
       "       -6.47678994e+03, -1.93249509e+04, -1.77567876e+04, -1.19616225e+04,\n",
       "       -6.66681376e+02, -2.38461291e+03,  6.63168602e+03, -9.97323880e+03,\n",
       "       -3.26169268e+03, -1.25681328e+03, -4.21144034e+03, -4.74944549e+03,\n",
       "        2.67979413e+03,  9.26468252e+03, -9.52566877e+03,  2.00775815e+04,\n",
       "        5.24423289e+03,  1.41213968e+04,  5.04419891e-01, -1.06131294e+02,\n",
       "       -1.60969984e+02,  1.39561875e+04,  2.98122391e+01, -2.52909226e+00,\n",
       "        2.08905354e+04, -2.10538695e+01])"
      ]
     },
     "execution_count": 79,
     "metadata": {},
     "output_type": "execute_result"
    },
    {
     "data": {
      "application/javascript": [
       "\n",
       "            setTimeout(function() {\n",
       "                var nbb_cell_id = 79;\n",
       "                var nbb_unformatted_code = \"grid = {\\n    \\\"alpha\\\": [0.0001, 0.001, 0.01, 0.1],\\n    \\\"l1_ratio\\\": [0.001, 0.01, 0.1, 0.5, 0.75, 1],\\n}\\nelasticnet_cv = GridSearchCV(ElasticNet(), grid, verbose=1)\\nelasticnet_cv.fit(X_train, y_train)\\n\\nprint(f\\\"selected alpha: {elasticnet_cv.best_estimator_.alpha}\\\")\\nprint(f\\\"selected l1_ratio: {elasticnet_cv.best_estimator_.l1_ratio}\\\")\\nelasticnet_cv.best_estimator_.coef_\";\n",
       "                var nbb_formatted_code = \"grid = {\\n    \\\"alpha\\\": [0.0001, 0.001, 0.01, 0.1],\\n    \\\"l1_ratio\\\": [0.001, 0.01, 0.1, 0.5, 0.75, 1],\\n}\\nelasticnet_cv = GridSearchCV(ElasticNet(), grid, verbose=1)\\nelasticnet_cv.fit(X_train, y_train)\\n\\nprint(f\\\"selected alpha: {elasticnet_cv.best_estimator_.alpha}\\\")\\nprint(f\\\"selected l1_ratio: {elasticnet_cv.best_estimator_.l1_ratio}\\\")\\nelasticnet_cv.best_estimator_.coef_\";\n",
       "                var nbb_cells = Jupyter.notebook.get_cells();\n",
       "                for (var i = 0; i < nbb_cells.length; ++i) {\n",
       "                    if (nbb_cells[i].input_prompt_number == nbb_cell_id) {\n",
       "                        if (nbb_cells[i].get_text() == nbb_unformatted_code) {\n",
       "                             nbb_cells[i].set_text(nbb_formatted_code);\n",
       "                        }\n",
       "                        break;\n",
       "                    }\n",
       "                }\n",
       "            }, 500);\n",
       "            "
      ],
      "text/plain": [
       "<IPython.core.display.Javascript object>"
      ]
     },
     "metadata": {},
     "output_type": "display_data"
    }
   ],
   "source": [
    "grid = {\n",
    "    \"alpha\": [0.0001, 0.001, 0.01, 0.1],\n",
    "    \"l1_ratio\": [0.001, 0.01, 0.1, 0.5, 0.75, 1],\n",
    "}\n",
    "elasticnet_cv = GridSearchCV(ElasticNet(), grid, verbose=1)\n",
    "elasticnet_cv.fit(X_train, y_train)\n",
    "\n",
    "print(f\"selected alpha: {elasticnet_cv.best_estimator_.alpha}\")\n",
    "print(f\"selected l1_ratio: {elasticnet_cv.best_estimator_.l1_ratio}\")\n",
    "elasticnet_cv.best_estimator_.coef_"
   ]
  },
  {
   "cell_type": "code",
   "execution_count": 80,
   "metadata": {},
   "outputs": [
    {
     "name": "stdout",
     "output_type": "stream",
     "text": [
      "Ridge Train Score: 0.79\n",
      "Ridge Test Score: 0.81\n",
      "Lasso Train Score: 0.79\n",
      "Lasso Test Score: 0.81\n",
      "Elasticnet Train Score: 0.79\n",
      "Elasticnet Test Score: 0.81\n"
     ]
    },
    {
     "data": {
      "application/javascript": [
       "\n",
       "            setTimeout(function() {\n",
       "                var nbb_cell_id = 80;\n",
       "                var nbb_unformatted_code = \"print(f\\\"Ridge Train Score: {ridge_cv.score(X_train, y_train):.2f}\\\")\\nprint(f\\\"Ridge Test Score: {ridge_cv.score(X_test, y_test):.2f}\\\")\\nprint(f\\\"Lasso Train Score: {lasso_cv.score(X_train, y_train):.2f}\\\")\\nprint(f\\\"Lasso Test Score: {lasso_cv.score(X_test, y_test):.2f}\\\")\\nprint(f\\\"Elasticnet Train Score: {elasticnet_cv.score(X_train, y_train):.2f}\\\")\\nprint(f\\\"Elasticnet Test Score: {elasticnet_cv.score(X_test, y_test):.2f}\\\")\";\n",
       "                var nbb_formatted_code = \"print(f\\\"Ridge Train Score: {ridge_cv.score(X_train, y_train):.2f}\\\")\\nprint(f\\\"Ridge Test Score: {ridge_cv.score(X_test, y_test):.2f}\\\")\\nprint(f\\\"Lasso Train Score: {lasso_cv.score(X_train, y_train):.2f}\\\")\\nprint(f\\\"Lasso Test Score: {lasso_cv.score(X_test, y_test):.2f}\\\")\\nprint(f\\\"Elasticnet Train Score: {elasticnet_cv.score(X_train, y_train):.2f}\\\")\\nprint(f\\\"Elasticnet Test Score: {elasticnet_cv.score(X_test, y_test):.2f}\\\")\";\n",
       "                var nbb_cells = Jupyter.notebook.get_cells();\n",
       "                for (var i = 0; i < nbb_cells.length; ++i) {\n",
       "                    if (nbb_cells[i].input_prompt_number == nbb_cell_id) {\n",
       "                        if (nbb_cells[i].get_text() == nbb_unformatted_code) {\n",
       "                             nbb_cells[i].set_text(nbb_formatted_code);\n",
       "                        }\n",
       "                        break;\n",
       "                    }\n",
       "                }\n",
       "            }, 500);\n",
       "            "
      ],
      "text/plain": [
       "<IPython.core.display.Javascript object>"
      ]
     },
     "metadata": {},
     "output_type": "display_data"
    }
   ],
   "source": [
    "print(f\"Ridge Train Score: {ridge_cv.score(X_train, y_train):.2f}\")\n",
    "print(f\"Ridge Test Score: {ridge_cv.score(X_test, y_test):.2f}\")\n",
    "print(f\"Lasso Train Score: {lasso_cv.score(X_train, y_train):.2f}\")\n",
    "print(f\"Lasso Test Score: {lasso_cv.score(X_test, y_test):.2f}\")\n",
    "print(f\"Elasticnet Train Score: {elasticnet_cv.score(X_train, y_train):.2f}\")\n",
    "print(f\"Elasticnet Test Score: {elasticnet_cv.score(X_test, y_test):.2f}\")"
   ]
  },
  {
   "cell_type": "markdown",
   "metadata": {},
   "source": [
    "# Final Thoughts"
   ]
  },
  {
   "cell_type": "markdown",
   "metadata": {},
   "source": [
    "My original models actually performed better than when I added the National Housing Index. My best r-squared score was tied between Ridge and Elasticnet regression, at 0.88. This was done with my original selection of features and transforming the sales price with a logarithm. To furth improve accuracy, I can address the heteroscadasticty still present after the log transform. There are also several outliers warranting investigation in the `lotarea` and `totalarea` columns. This will almost certainly improve the model. More thoroughly investigating columns correlated with sale price in the original data set will aid in feature selection, as well as discarding useless features previously used from the model. Errors also need to be investiagted further to quantify performance."
   ]
  },
  {
   "cell_type": "code",
   "execution_count": null,
   "metadata": {},
   "outputs": [],
   "source": []
  }
 ],
 "metadata": {
  "kernelspec": {
   "display_name": "Python 3",
   "language": "python",
   "name": "python3"
  },
  "language_info": {
   "codemirror_mode": {
    "name": "ipython",
    "version": 3
   },
   "file_extension": ".py",
   "mimetype": "text/x-python",
   "name": "python",
   "nbconvert_exporter": "python",
   "pygments_lexer": "ipython3",
   "version": "3.7.6"
  }
 },
 "nbformat": 4,
 "nbformat_minor": 4
}
