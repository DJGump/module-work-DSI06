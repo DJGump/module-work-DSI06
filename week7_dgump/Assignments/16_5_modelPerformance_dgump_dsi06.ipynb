{
 "cells": [
  {
   "cell_type": "code",
   "execution_count": 1,
   "metadata": {},
   "outputs": [
    {
     "data": {
      "application/javascript": [
       "\n",
       "            setTimeout(function() {\n",
       "                var nbb_cell_id = 1;\n",
       "                var nbb_unformatted_code = \"%reload_ext nb_black\\nimport numpy as np\\nimport pandas as pd\\n\\nimport statsmodels.api as sm\\nimport statsmodels.stats.api as sms\\nfrom statsmodels.stats.outliers_influence import variance_inflation_factor\\n\\nfrom sklearn.linear_model import LinearRegression\\nfrom sklearn.model_selection import train_test_split\\n\\nfrom sklearn import linear_model\\nimport statsmodels.api as sm\\nfrom statsmodels.stats.diagnostic import het_breuschpagan\\nfrom statsmodels.stats.outliers_influence import variance_inflation_factor\\n\\nfrom scipy import stats\\nfrom scipy.stats import bartlett\\nfrom scipy.stats import levene\\n\\n\\nimport seaborn as sns\\nimport matplotlib.pyplot as plt\\n\\n%matplotlib inline\\nimport warnings\\n\\nfrom sqlalchemy import create_engine\\nwarnings.filterwarnings(\\\"ignore\\\")\\nsns.set(style=\\\"whitegrid\\\")\";\n",
       "                var nbb_formatted_code = \"%reload_ext nb_black\\nimport numpy as np\\nimport pandas as pd\\n\\nimport statsmodels.api as sm\\nimport statsmodels.stats.api as sms\\nfrom statsmodels.stats.outliers_influence import variance_inflation_factor\\n\\nfrom sklearn.linear_model import LinearRegression\\nfrom sklearn.model_selection import train_test_split\\n\\nfrom sklearn import linear_model\\nimport statsmodels.api as sm\\nfrom statsmodels.stats.diagnostic import het_breuschpagan\\nfrom statsmodels.stats.outliers_influence import variance_inflation_factor\\n\\nfrom scipy import stats\\nfrom scipy.stats import bartlett\\nfrom scipy.stats import levene\\n\\n\\nimport seaborn as sns\\nimport matplotlib.pyplot as plt\\n\\n%matplotlib inline\\nimport warnings\\n\\nfrom sqlalchemy import create_engine\\n\\nwarnings.filterwarnings(\\\"ignore\\\")\\nsns.set(style=\\\"whitegrid\\\")\";\n",
       "                var nbb_cells = Jupyter.notebook.get_cells();\n",
       "                for (var i = 0; i < nbb_cells.length; ++i) {\n",
       "                    if (nbb_cells[i].input_prompt_number == nbb_cell_id) {\n",
       "                        if (nbb_cells[i].get_text() == nbb_unformatted_code) {\n",
       "                             nbb_cells[i].set_text(nbb_formatted_code);\n",
       "                        }\n",
       "                        break;\n",
       "                    }\n",
       "                }\n",
       "            }, 500);\n",
       "            "
      ],
      "text/plain": [
       "<IPython.core.display.Javascript object>"
      ]
     },
     "metadata": {},
     "output_type": "display_data"
    }
   ],
   "source": [
    "%reload_ext nb_black\n",
    "import numpy as np\n",
    "import pandas as pd\n",
    "\n",
    "import statsmodels.api as sm\n",
    "import statsmodels.stats.api as sms\n",
    "from statsmodels.stats.outliers_influence import variance_inflation_factor\n",
    "\n",
    "from sklearn.linear_model import LinearRegression\n",
    "from sklearn.model_selection import train_test_split\n",
    "\n",
    "from sklearn import linear_model\n",
    "import statsmodels.api as sm\n",
    "from statsmodels.stats.diagnostic import het_breuschpagan\n",
    "from statsmodels.stats.outliers_influence import variance_inflation_factor\n",
    "\n",
    "from scipy import stats\n",
    "from scipy.stats import bartlett\n",
    "from scipy.stats import levene\n",
    "\n",
    "\n",
    "import seaborn as sns\n",
    "import matplotlib.pyplot as plt\n",
    "\n",
    "%matplotlib inline\n",
    "import warnings\n",
    "\n",
    "from sqlalchemy import create_engine\n",
    "warnings.filterwarnings(\"ignore\")\n",
    "sns.set(style=\"whitegrid\")\n",
    "\n"
   ]
  },
  {
   "cell_type": "code",
   "execution_count": 2,
   "metadata": {},
   "outputs": [
    {
     "data": {
      "application/javascript": [
       "\n",
       "            setTimeout(function() {\n",
       "                var nbb_cell_id = 2;\n",
       "                var nbb_unformatted_code = \"def missingness_summary(df, print_log=False, sort=\\\"none\\\"):\\n    summary = df.apply(lambda x: x.isna().sum() / x.shape[0])\\n\\n    if print_log == True:\\n        if sort == \\\"none\\\":\\n            print(summary)\\n        elif sort == \\\"ascending\\\":\\n            print(summary.sort_values())\\n        elif sort == \\\"descending\\\":\\n            print(summary.sort_values(ascending=False))\\n        else:\\n            print(\\\"Invalid value for sort parameter.\\\")\\n\\n    return\";\n",
       "                var nbb_formatted_code = \"def missingness_summary(df, print_log=False, sort=\\\"none\\\"):\\n    summary = df.apply(lambda x: x.isna().sum() / x.shape[0])\\n\\n    if print_log == True:\\n        if sort == \\\"none\\\":\\n            print(summary)\\n        elif sort == \\\"ascending\\\":\\n            print(summary.sort_values())\\n        elif sort == \\\"descending\\\":\\n            print(summary.sort_values(ascending=False))\\n        else:\\n            print(\\\"Invalid value for sort parameter.\\\")\\n\\n    return\";\n",
       "                var nbb_cells = Jupyter.notebook.get_cells();\n",
       "                for (var i = 0; i < nbb_cells.length; ++i) {\n",
       "                    if (nbb_cells[i].input_prompt_number == nbb_cell_id) {\n",
       "                        if (nbb_cells[i].get_text() == nbb_unformatted_code) {\n",
       "                             nbb_cells[i].set_text(nbb_formatted_code);\n",
       "                        }\n",
       "                        break;\n",
       "                    }\n",
       "                }\n",
       "            }, 500);\n",
       "            "
      ],
      "text/plain": [
       "<IPython.core.display.Javascript object>"
      ]
     },
     "metadata": {},
     "output_type": "display_data"
    }
   ],
   "source": [
    "def missingness_summary(df, print_log=False, sort=\"none\"):\n",
    "    summary = df.apply(lambda x: x.isna().sum() / x.shape[0])\n",
    "\n",
    "    if print_log == True:\n",
    "        if sort == \"none\":\n",
    "            print(summary)\n",
    "        elif sort == \"ascending\":\n",
    "            print(summary.sort_values())\n",
    "        elif sort == \"descending\":\n",
    "            print(summary.sort_values(ascending=False))\n",
    "        else:\n",
    "            print(\"Invalid value for sort parameter.\")\n",
    "\n",
    "    return"
   ]
  },
  {
   "cell_type": "markdown",
   "metadata": {},
   "source": [
    "# Weather Model"
   ]
  },
  {
   "cell_type": "markdown",
   "metadata": {},
   "source": [
    "* First, load the dataset from the weatherinszeged table from Thinkful's database.\n",
    "* Like in the previous checkpoint, build a linear regression model where your target variable is the difference between the apparenttemperature and the temperature. As explanatory variables, use humidity and windspeed. Now, estimate your model using OLS. What are the R-squared and adjusted R-squared values? Do you think they are satisfactory? Why?\n",
    "* Next, include the interaction of humidity and windspeed to the model above and estimate the model using OLS. Now, what is the R-squared of this model? Does this model improve upon the previous one?\n",
    "* Add visibility as an additional explanatory variable to the first model and estimate it. Did R-squared increase? What about adjusted R-squared? Compare the differences put on the table by the interaction term and the visibility in terms of the improvement in the adjusted R-squared. Which one is more useful?\n",
    "* Choose the best one from the three models above with respect to their AIC and BIC scores. Validate your choice by discussing your justification with your mentor."
   ]
  },
  {
   "cell_type": "code",
   "execution_count": 3,
   "metadata": {},
   "outputs": [
    {
     "data": {
      "application/javascript": [
       "\n",
       "            setTimeout(function() {\n",
       "                var nbb_cell_id = 3;\n",
       "                var nbb_unformatted_code = \"postgres_user = \\\"dsbc_student\\\"\\npostgres_pw = \\\"7*.8G9QH21\\\"\\npostgres_host = \\\"142.93.121.174\\\"\\npostgres_port = \\\"5432\\\"\\npostgres_db = \\\"weatherinszeged\\\"\\n\\nengine = create_engine(\\n    \\\"postgresql://{}:{}@{}:{}/{}\\\".format(\\n        postgres_user, postgres_pw, postgres_host, postgres_port, postgres_db\\n    )\\n)\\nweatherinszeged_df = pd.read_sql_query(\\\"select * from weatherinszeged\\\", con=engine)\\n\\n# no need for an open connection, as we're only doing a single query\\nengine.dispose()\";\n",
       "                var nbb_formatted_code = \"postgres_user = \\\"dsbc_student\\\"\\npostgres_pw = \\\"7*.8G9QH21\\\"\\npostgres_host = \\\"142.93.121.174\\\"\\npostgres_port = \\\"5432\\\"\\npostgres_db = \\\"weatherinszeged\\\"\\n\\nengine = create_engine(\\n    \\\"postgresql://{}:{}@{}:{}/{}\\\".format(\\n        postgres_user, postgres_pw, postgres_host, postgres_port, postgres_db\\n    )\\n)\\nweatherinszeged_df = pd.read_sql_query(\\\"select * from weatherinszeged\\\", con=engine)\\n\\n# no need for an open connection, as we're only doing a single query\\nengine.dispose()\";\n",
       "                var nbb_cells = Jupyter.notebook.get_cells();\n",
       "                for (var i = 0; i < nbb_cells.length; ++i) {\n",
       "                    if (nbb_cells[i].input_prompt_number == nbb_cell_id) {\n",
       "                        if (nbb_cells[i].get_text() == nbb_unformatted_code) {\n",
       "                             nbb_cells[i].set_text(nbb_formatted_code);\n",
       "                        }\n",
       "                        break;\n",
       "                    }\n",
       "                }\n",
       "            }, 500);\n",
       "            "
      ],
      "text/plain": [
       "<IPython.core.display.Javascript object>"
      ]
     },
     "metadata": {},
     "output_type": "display_data"
    }
   ],
   "source": [
    "postgres_user = \"dsbc_student\"\n",
    "postgres_pw = \"7*.8G9QH21\"\n",
    "postgres_host = \"142.93.121.174\"\n",
    "postgres_port = \"5432\"\n",
    "postgres_db = \"weatherinszeged\"\n",
    "\n",
    "engine = create_engine(\n",
    "    \"postgresql://{}:{}@{}:{}/{}\".format(\n",
    "        postgres_user, postgres_pw, postgres_host, postgres_port, postgres_db\n",
    "    )\n",
    ")\n",
    "weatherinszeged_df = pd.read_sql_query(\"select * from weatherinszeged\", con=engine)\n",
    "\n",
    "# no need for an open connection, as we're only doing a single query\n",
    "engine.dispose()"
   ]
  },
  {
   "cell_type": "code",
   "execution_count": 4,
   "metadata": {},
   "outputs": [
    {
     "name": "stdout",
     "output_type": "stream",
     "text": [
      "<class 'pandas.core.frame.DataFrame'>\n",
      "RangeIndex: 96453 entries, 0 to 96452\n",
      "Data columns (total 12 columns):\n",
      " #   Column               Non-Null Count  Dtype              \n",
      "---  ------               --------------  -----              \n",
      " 0   date                 96453 non-null  datetime64[ns, UTC]\n",
      " 1   summary              96453 non-null  object             \n",
      " 2   preciptype           96453 non-null  object             \n",
      " 3   temperature          96453 non-null  float64            \n",
      " 4   apparenttemperature  96453 non-null  float64            \n",
      " 5   humidity             96453 non-null  float64            \n",
      " 6   windspeed            96453 non-null  float64            \n",
      " 7   windbearing          96453 non-null  float64            \n",
      " 8   visibility           96453 non-null  float64            \n",
      " 9   loudcover            96453 non-null  float64            \n",
      " 10  pressure             96453 non-null  float64            \n",
      " 11  dailysummary         96453 non-null  object             \n",
      "dtypes: datetime64[ns, UTC](1), float64(8), object(3)\n",
      "memory usage: 8.8+ MB\n"
     ]
    },
    {
     "data": {
      "application/javascript": [
       "\n",
       "            setTimeout(function() {\n",
       "                var nbb_cell_id = 4;\n",
       "                var nbb_unformatted_code = \"weatherinszeged_df.info()\";\n",
       "                var nbb_formatted_code = \"weatherinszeged_df.info()\";\n",
       "                var nbb_cells = Jupyter.notebook.get_cells();\n",
       "                for (var i = 0; i < nbb_cells.length; ++i) {\n",
       "                    if (nbb_cells[i].input_prompt_number == nbb_cell_id) {\n",
       "                        if (nbb_cells[i].get_text() == nbb_unformatted_code) {\n",
       "                             nbb_cells[i].set_text(nbb_formatted_code);\n",
       "                        }\n",
       "                        break;\n",
       "                    }\n",
       "                }\n",
       "            }, 500);\n",
       "            "
      ],
      "text/plain": [
       "<IPython.core.display.Javascript object>"
      ]
     },
     "metadata": {},
     "output_type": "display_data"
    }
   ],
   "source": [
    "weatherinszeged_df.info()"
   ]
  },
  {
   "cell_type": "code",
   "execution_count": 5,
   "metadata": {},
   "outputs": [
    {
     "data": {
      "application/javascript": [
       "\n",
       "            setTimeout(function() {\n",
       "                var nbb_cell_id = 5;\n",
       "                var nbb_unformatted_code = \"y = weatherinszeged_df[\\\"temperature\\\"] - weatherinszeged_df[\\\"apparenttemperature\\\"]\\nX = weatherinszeged_df[[\\\"humidity\\\", \\\"windspeed\\\"]]\";\n",
       "                var nbb_formatted_code = \"y = weatherinszeged_df[\\\"temperature\\\"] - weatherinszeged_df[\\\"apparenttemperature\\\"]\\nX = weatherinszeged_df[[\\\"humidity\\\", \\\"windspeed\\\"]]\";\n",
       "                var nbb_cells = Jupyter.notebook.get_cells();\n",
       "                for (var i = 0; i < nbb_cells.length; ++i) {\n",
       "                    if (nbb_cells[i].input_prompt_number == nbb_cell_id) {\n",
       "                        if (nbb_cells[i].get_text() == nbb_unformatted_code) {\n",
       "                             nbb_cells[i].set_text(nbb_formatted_code);\n",
       "                        }\n",
       "                        break;\n",
       "                    }\n",
       "                }\n",
       "            }, 500);\n",
       "            "
      ],
      "text/plain": [
       "<IPython.core.display.Javascript object>"
      ]
     },
     "metadata": {},
     "output_type": "display_data"
    }
   ],
   "source": [
    "y = weatherinszeged_df[\"temperature\"] - weatherinszeged_df[\"apparenttemperature\"]\n",
    "X = weatherinszeged_df[[\"humidity\", \"windspeed\"]]"
   ]
  },
  {
   "cell_type": "code",
   "execution_count": null,
   "metadata": {},
   "outputs": [],
   "source": []
  },
  {
   "cell_type": "code",
   "execution_count": 6,
   "metadata": {},
   "outputs": [
    {
     "data": {
      "application/javascript": [
       "\n",
       "            setTimeout(function() {\n",
       "                var nbb_cell_id = 6;\n",
       "                var nbb_unformatted_code = \"X_train, X_test, y_train, y_test = train_test_split(\\n    X, y, test_size=0.25, random_state=42\\n)\\nX_train_const = sm.add_constant(X_train)\\nX_test_const = sm.add_constant(X_test)\\n\\nlr1_results = sm.OLS(y_train, X_train_const).fit()\";\n",
       "                var nbb_formatted_code = \"X_train, X_test, y_train, y_test = train_test_split(\\n    X, y, test_size=0.25, random_state=42\\n)\\nX_train_const = sm.add_constant(X_train)\\nX_test_const = sm.add_constant(X_test)\\n\\nlr1_results = sm.OLS(y_train, X_train_const).fit()\";\n",
       "                var nbb_cells = Jupyter.notebook.get_cells();\n",
       "                for (var i = 0; i < nbb_cells.length; ++i) {\n",
       "                    if (nbb_cells[i].input_prompt_number == nbb_cell_id) {\n",
       "                        if (nbb_cells[i].get_text() == nbb_unformatted_code) {\n",
       "                             nbb_cells[i].set_text(nbb_formatted_code);\n",
       "                        }\n",
       "                        break;\n",
       "                    }\n",
       "                }\n",
       "            }, 500);\n",
       "            "
      ],
      "text/plain": [
       "<IPython.core.display.Javascript object>"
      ]
     },
     "metadata": {},
     "output_type": "display_data"
    }
   ],
   "source": [
    "X_train, X_test, y_train, y_test = train_test_split(\n",
    "    X, y, test_size=0.25, random_state=42\n",
    ")\n",
    "X_train_const = sm.add_constant(X_train)\n",
    "X_test_const = sm.add_constant(X_test)\n",
    "\n",
    "lr1_results = sm.OLS(y_train, X_train_const).fit()"
   ]
  },
  {
   "cell_type": "code",
   "execution_count": 7,
   "metadata": {},
   "outputs": [
    {
     "data": {
      "text/html": [
       "<table class=\"simpletable\">\n",
       "<caption>OLS Regression Results</caption>\n",
       "<tr>\n",
       "  <th>Dep. Variable:</th>            <td>y</td>        <th>  R-squared:         </th>  <td>   0.291</td>  \n",
       "</tr>\n",
       "<tr>\n",
       "  <th>Model:</th>                   <td>OLS</td>       <th>  Adj. R-squared:    </th>  <td>   0.291</td>  \n",
       "</tr>\n",
       "<tr>\n",
       "  <th>Method:</th>             <td>Least Squares</td>  <th>  F-statistic:       </th>  <td>1.483e+04</td> \n",
       "</tr>\n",
       "<tr>\n",
       "  <th>Date:</th>             <td>Tue, 01 Sep 2020</td> <th>  Prob (F-statistic):</th>   <td>  0.00</td>   \n",
       "</tr>\n",
       "<tr>\n",
       "  <th>Time:</th>                 <td>21:19:00</td>     <th>  Log-Likelihood:    </th> <td>-1.2760e+05</td>\n",
       "</tr>\n",
       "<tr>\n",
       "  <th>No. Observations:</th>      <td> 72339</td>      <th>  AIC:               </th>  <td>2.552e+05</td> \n",
       "</tr>\n",
       "<tr>\n",
       "  <th>Df Residuals:</th>          <td> 72336</td>      <th>  BIC:               </th>  <td>2.552e+05</td> \n",
       "</tr>\n",
       "<tr>\n",
       "  <th>Df Model:</th>              <td>     2</td>      <th>                     </th>      <td> </td>     \n",
       "</tr>\n",
       "<tr>\n",
       "  <th>Covariance Type:</th>      <td>nonrobust</td>    <th>                     </th>      <td> </td>     \n",
       "</tr>\n",
       "</table>\n",
       "<table class=\"simpletable\">\n",
       "<tr>\n",
       "      <td></td>         <th>coef</th>     <th>std err</th>      <th>t</th>      <th>P>|t|</th>  <th>[0.025</th>    <th>0.975]</th>  \n",
       "</tr>\n",
       "<tr>\n",
       "  <th>const</th>     <td>   -2.4471</td> <td>    0.024</td> <td> -101.379</td> <td> 0.000</td> <td>   -2.494</td> <td>   -2.400</td>\n",
       "</tr>\n",
       "<tr>\n",
       "  <th>humidity</th>  <td>    3.0395</td> <td>    0.028</td> <td>  110.355</td> <td> 0.000</td> <td>    2.986</td> <td>    3.093</td>\n",
       "</tr>\n",
       "<tr>\n",
       "  <th>windspeed</th> <td>    0.1193</td> <td>    0.001</td> <td>  153.414</td> <td> 0.000</td> <td>    0.118</td> <td>    0.121</td>\n",
       "</tr>\n",
       "</table>\n",
       "<table class=\"simpletable\">\n",
       "<tr>\n",
       "  <th>Omnibus:</th>       <td>2874.768</td> <th>  Durbin-Watson:     </th> <td>   1.991</td>\n",
       "</tr>\n",
       "<tr>\n",
       "  <th>Prob(Omnibus):</th>  <td> 0.000</td>  <th>  Jarque-Bera (JB):  </th> <td>3383.791</td>\n",
       "</tr>\n",
       "<tr>\n",
       "  <th>Skew:</th>           <td> 0.467</td>  <th>  Prob(JB):          </th> <td>    0.00</td>\n",
       "</tr>\n",
       "<tr>\n",
       "  <th>Kurtosis:</th>       <td> 3.501</td>  <th>  Cond. No.          </th> <td>    88.0</td>\n",
       "</tr>\n",
       "</table><br/><br/>Warnings:<br/>[1] Standard Errors assume that the covariance matrix of the errors is correctly specified."
      ],
      "text/plain": [
       "<class 'statsmodels.iolib.summary.Summary'>\n",
       "\"\"\"\n",
       "                            OLS Regression Results                            \n",
       "==============================================================================\n",
       "Dep. Variable:                      y   R-squared:                       0.291\n",
       "Model:                            OLS   Adj. R-squared:                  0.291\n",
       "Method:                 Least Squares   F-statistic:                 1.483e+04\n",
       "Date:                Tue, 01 Sep 2020   Prob (F-statistic):               0.00\n",
       "Time:                        21:19:00   Log-Likelihood:            -1.2760e+05\n",
       "No. Observations:               72339   AIC:                         2.552e+05\n",
       "Df Residuals:                   72336   BIC:                         2.552e+05\n",
       "Df Model:                           2                                         \n",
       "Covariance Type:            nonrobust                                         \n",
       "==============================================================================\n",
       "                 coef    std err          t      P>|t|      [0.025      0.975]\n",
       "------------------------------------------------------------------------------\n",
       "const         -2.4471      0.024   -101.379      0.000      -2.494      -2.400\n",
       "humidity       3.0395      0.028    110.355      0.000       2.986       3.093\n",
       "windspeed      0.1193      0.001    153.414      0.000       0.118       0.121\n",
       "==============================================================================\n",
       "Omnibus:                     2874.768   Durbin-Watson:                   1.991\n",
       "Prob(Omnibus):                  0.000   Jarque-Bera (JB):             3383.791\n",
       "Skew:                           0.467   Prob(JB):                         0.00\n",
       "Kurtosis:                       3.501   Cond. No.                         88.0\n",
       "==============================================================================\n",
       "\n",
       "Warnings:\n",
       "[1] Standard Errors assume that the covariance matrix of the errors is correctly specified.\n",
       "\"\"\""
      ]
     },
     "execution_count": 7,
     "metadata": {},
     "output_type": "execute_result"
    },
    {
     "data": {
      "application/javascript": [
       "\n",
       "            setTimeout(function() {\n",
       "                var nbb_cell_id = 7;\n",
       "                var nbb_unformatted_code = \"lr1_results.summary()\";\n",
       "                var nbb_formatted_code = \"lr1_results.summary()\";\n",
       "                var nbb_cells = Jupyter.notebook.get_cells();\n",
       "                for (var i = 0; i < nbb_cells.length; ++i) {\n",
       "                    if (nbb_cells[i].input_prompt_number == nbb_cell_id) {\n",
       "                        if (nbb_cells[i].get_text() == nbb_unformatted_code) {\n",
       "                             nbb_cells[i].set_text(nbb_formatted_code);\n",
       "                        }\n",
       "                        break;\n",
       "                    }\n",
       "                }\n",
       "            }, 500);\n",
       "            "
      ],
      "text/plain": [
       "<IPython.core.display.Javascript object>"
      ]
     },
     "metadata": {},
     "output_type": "display_data"
    }
   ],
   "source": [
    "lr1_results.summary()\n"
   ]
  },
  {
   "cell_type": "markdown",
   "metadata": {},
   "source": [
    "* Both $R^2$ and adj$R^2$ are small, at 0.291. Our model barely predicts 30% of the variance in the target"
   ]
  },
  {
   "cell_type": "markdown",
   "metadata": {},
   "source": [
    "* Next, include the interaction of humidity and windspeed to the model above and estimate the model using OLS. Now, what is the R-squared of this model? Does this model improve upon the previous one?"
   ]
  },
  {
   "cell_type": "code",
   "execution_count": 8,
   "metadata": {},
   "outputs": [
    {
     "data": {
      "application/javascript": [
       "\n",
       "            setTimeout(function() {\n",
       "                var nbb_cell_id = 8;\n",
       "                var nbb_unformatted_code = \"X[\\\"humidity_x_windspeed\\\"] = X[\\\"humidity\\\"] * X[\\\"windspeed\\\"]\";\n",
       "                var nbb_formatted_code = \"X[\\\"humidity_x_windspeed\\\"] = X[\\\"humidity\\\"] * X[\\\"windspeed\\\"]\";\n",
       "                var nbb_cells = Jupyter.notebook.get_cells();\n",
       "                for (var i = 0; i < nbb_cells.length; ++i) {\n",
       "                    if (nbb_cells[i].input_prompt_number == nbb_cell_id) {\n",
       "                        if (nbb_cells[i].get_text() == nbb_unformatted_code) {\n",
       "                             nbb_cells[i].set_text(nbb_formatted_code);\n",
       "                        }\n",
       "                        break;\n",
       "                    }\n",
       "                }\n",
       "            }, 500);\n",
       "            "
      ],
      "text/plain": [
       "<IPython.core.display.Javascript object>"
      ]
     },
     "metadata": {},
     "output_type": "display_data"
    }
   ],
   "source": [
    "X[\"humidity_x_windspeed\"] = X[\"humidity\"] * X[\"windspeed\"]"
   ]
  },
  {
   "cell_type": "code",
   "execution_count": null,
   "metadata": {},
   "outputs": [],
   "source": []
  },
  {
   "cell_type": "code",
   "execution_count": null,
   "metadata": {},
   "outputs": [],
   "source": []
  },
  {
   "cell_type": "code",
   "execution_count": 9,
   "metadata": {
    "scrolled": false
   },
   "outputs": [
    {
     "data": {
      "application/javascript": [
       "\n",
       "            setTimeout(function() {\n",
       "                var nbb_cell_id = 9;\n",
       "                var nbb_unformatted_code = \"X_train, X_test, y_train, y_test = train_test_split(\\n    X, y, test_size=0.25, random_state=42\\n)\\nX_train_const = sm.add_constant(X_train)\\nX_test_const = sm.add_constant(X_test)\\n\\nlr2_results = sm.OLS(y_train, X_train_const).fit()\";\n",
       "                var nbb_formatted_code = \"X_train, X_test, y_train, y_test = train_test_split(\\n    X, y, test_size=0.25, random_state=42\\n)\\nX_train_const = sm.add_constant(X_train)\\nX_test_const = sm.add_constant(X_test)\\n\\nlr2_results = sm.OLS(y_train, X_train_const).fit()\";\n",
       "                var nbb_cells = Jupyter.notebook.get_cells();\n",
       "                for (var i = 0; i < nbb_cells.length; ++i) {\n",
       "                    if (nbb_cells[i].input_prompt_number == nbb_cell_id) {\n",
       "                        if (nbb_cells[i].get_text() == nbb_unformatted_code) {\n",
       "                             nbb_cells[i].set_text(nbb_formatted_code);\n",
       "                        }\n",
       "                        break;\n",
       "                    }\n",
       "                }\n",
       "            }, 500);\n",
       "            "
      ],
      "text/plain": [
       "<IPython.core.display.Javascript object>"
      ]
     },
     "metadata": {},
     "output_type": "display_data"
    }
   ],
   "source": [
    "X_train, X_test, y_train, y_test = train_test_split(\n",
    "    X, y, test_size=0.25, random_state=42\n",
    ")\n",
    "X_train_const = sm.add_constant(X_train)\n",
    "X_test_const = sm.add_constant(X_test)\n",
    "\n",
    "lr2_results = sm.OLS(y_train, X_train_const).fit()"
   ]
  },
  {
   "cell_type": "code",
   "execution_count": 10,
   "metadata": {},
   "outputs": [
    {
     "data": {
      "text/html": [
       "<table class=\"simpletable\">\n",
       "<caption>OLS Regression Results</caption>\n",
       "<tr>\n",
       "  <th>Dep. Variable:</th>            <td>y</td>        <th>  R-squared:         </th>  <td>   0.344</td>  \n",
       "</tr>\n",
       "<tr>\n",
       "  <th>Model:</th>                   <td>OLS</td>       <th>  Adj. R-squared:    </th>  <td>   0.344</td>  \n",
       "</tr>\n",
       "<tr>\n",
       "  <th>Method:</th>             <td>Least Squares</td>  <th>  F-statistic:       </th>  <td>1.265e+04</td> \n",
       "</tr>\n",
       "<tr>\n",
       "  <th>Date:</th>             <td>Tue, 01 Sep 2020</td> <th>  Prob (F-statistic):</th>   <td>  0.00</td>   \n",
       "</tr>\n",
       "<tr>\n",
       "  <th>Time:</th>                 <td>21:20:42</td>     <th>  Log-Likelihood:    </th> <td>-1.2478e+05</td>\n",
       "</tr>\n",
       "<tr>\n",
       "  <th>No. Observations:</th>      <td> 72339</td>      <th>  AIC:               </th>  <td>2.496e+05</td> \n",
       "</tr>\n",
       "<tr>\n",
       "  <th>Df Residuals:</th>          <td> 72335</td>      <th>  BIC:               </th>  <td>2.496e+05</td> \n",
       "</tr>\n",
       "<tr>\n",
       "  <th>Df Model:</th>              <td>     3</td>      <th>                     </th>      <td> </td>     \n",
       "</tr>\n",
       "<tr>\n",
       "  <th>Covariance Type:</th>      <td>nonrobust</td>    <th>                     </th>      <td> </td>     \n",
       "</tr>\n",
       "</table>\n",
       "<table class=\"simpletable\">\n",
       "<tr>\n",
       "            <td></td>              <th>coef</th>     <th>std err</th>      <th>t</th>      <th>P>|t|</th>  <th>[0.025</th>    <th>0.975]</th>  \n",
       "</tr>\n",
       "<tr>\n",
       "  <th>const</th>                <td>   -0.1074</td> <td>    0.038</td> <td>   -2.801</td> <td> 0.005</td> <td>   -0.183</td> <td>   -0.032</td>\n",
       "</tr>\n",
       "<tr>\n",
       "  <th>humidity</th>             <td>   -0.1478</td> <td>    0.049</td> <td>   -2.997</td> <td> 0.003</td> <td>   -0.244</td> <td>   -0.051</td>\n",
       "</tr>\n",
       "<tr>\n",
       "  <th>windspeed</th>            <td>   -0.0891</td> <td>    0.003</td> <td>  -31.598</td> <td> 0.000</td> <td>   -0.095</td> <td>   -0.084</td>\n",
       "</tr>\n",
       "<tr>\n",
       "  <th>humidity_x_windspeed</th> <td>    0.2950</td> <td>    0.004</td> <td>   76.627</td> <td> 0.000</td> <td>    0.287</td> <td>    0.303</td>\n",
       "</tr>\n",
       "</table>\n",
       "<table class=\"simpletable\">\n",
       "<tr>\n",
       "  <th>Omnibus:</th>       <td>3665.198</td> <th>  Durbin-Watson:     </th> <td>   1.991</td>\n",
       "</tr>\n",
       "<tr>\n",
       "  <th>Prob(Omnibus):</th>  <td> 0.000</td>  <th>  Jarque-Bera (JB):  </th> <td>7362.002</td>\n",
       "</tr>\n",
       "<tr>\n",
       "  <th>Skew:</th>           <td> 0.366</td>  <th>  Prob(JB):          </th> <td>    0.00</td>\n",
       "</tr>\n",
       "<tr>\n",
       "  <th>Kurtosis:</th>       <td> 4.381</td>  <th>  Cond. No.          </th> <td>    193.</td>\n",
       "</tr>\n",
       "</table><br/><br/>Warnings:<br/>[1] Standard Errors assume that the covariance matrix of the errors is correctly specified."
      ],
      "text/plain": [
       "<class 'statsmodels.iolib.summary.Summary'>\n",
       "\"\"\"\n",
       "                            OLS Regression Results                            \n",
       "==============================================================================\n",
       "Dep. Variable:                      y   R-squared:                       0.344\n",
       "Model:                            OLS   Adj. R-squared:                  0.344\n",
       "Method:                 Least Squares   F-statistic:                 1.265e+04\n",
       "Date:                Tue, 01 Sep 2020   Prob (F-statistic):               0.00\n",
       "Time:                        21:20:42   Log-Likelihood:            -1.2478e+05\n",
       "No. Observations:               72339   AIC:                         2.496e+05\n",
       "Df Residuals:                   72335   BIC:                         2.496e+05\n",
       "Df Model:                           3                                         \n",
       "Covariance Type:            nonrobust                                         \n",
       "========================================================================================\n",
       "                           coef    std err          t      P>|t|      [0.025      0.975]\n",
       "----------------------------------------------------------------------------------------\n",
       "const                   -0.1074      0.038     -2.801      0.005      -0.183      -0.032\n",
       "humidity                -0.1478      0.049     -2.997      0.003      -0.244      -0.051\n",
       "windspeed               -0.0891      0.003    -31.598      0.000      -0.095      -0.084\n",
       "humidity_x_windspeed     0.2950      0.004     76.627      0.000       0.287       0.303\n",
       "==============================================================================\n",
       "Omnibus:                     3665.198   Durbin-Watson:                   1.991\n",
       "Prob(Omnibus):                  0.000   Jarque-Bera (JB):             7362.002\n",
       "Skew:                           0.366   Prob(JB):                         0.00\n",
       "Kurtosis:                       4.381   Cond. No.                         193.\n",
       "==============================================================================\n",
       "\n",
       "Warnings:\n",
       "[1] Standard Errors assume that the covariance matrix of the errors is correctly specified.\n",
       "\"\"\""
      ]
     },
     "execution_count": 10,
     "metadata": {},
     "output_type": "execute_result"
    },
    {
     "data": {
      "application/javascript": [
       "\n",
       "            setTimeout(function() {\n",
       "                var nbb_cell_id = 10;\n",
       "                var nbb_unformatted_code = \"lr2_results.summary()\";\n",
       "                var nbb_formatted_code = \"lr2_results.summary()\";\n",
       "                var nbb_cells = Jupyter.notebook.get_cells();\n",
       "                for (var i = 0; i < nbb_cells.length; ++i) {\n",
       "                    if (nbb_cells[i].input_prompt_number == nbb_cell_id) {\n",
       "                        if (nbb_cells[i].get_text() == nbb_unformatted_code) {\n",
       "                             nbb_cells[i].set_text(nbb_formatted_code);\n",
       "                        }\n",
       "                        break;\n",
       "                    }\n",
       "                }\n",
       "            }, 500);\n",
       "            "
      ],
      "text/plain": [
       "<IPython.core.display.Javascript object>"
      ]
     },
     "metadata": {},
     "output_type": "display_data"
    }
   ],
   "source": [
    "lr2_results.summary()"
   ]
  },
  {
   "cell_type": "markdown",
   "metadata": {},
   "source": [
    "* Creating an interaction of windspeed and humidity made the model stronger, but it is still performing poorly"
   ]
  },
  {
   "cell_type": "markdown",
   "metadata": {},
   "source": [
    "* Add visibility as an additional explanatory variable to the first model and estimate it. Did R-squared increase? What about adjusted R-squared? Compare the differences put on the table by the interaction term and the visibility in terms of the improvement in the adjusted R-squared. Which one is more useful?"
   ]
  },
  {
   "cell_type": "code",
   "execution_count": 11,
   "metadata": {},
   "outputs": [
    {
     "data": {
      "text/html": [
       "<div>\n",
       "<style scoped>\n",
       "    .dataframe tbody tr th:only-of-type {\n",
       "        vertical-align: middle;\n",
       "    }\n",
       "\n",
       "    .dataframe tbody tr th {\n",
       "        vertical-align: top;\n",
       "    }\n",
       "\n",
       "    .dataframe thead th {\n",
       "        text-align: right;\n",
       "    }\n",
       "</style>\n",
       "<table border=\"1\" class=\"dataframe\">\n",
       "  <thead>\n",
       "    <tr style=\"text-align: right;\">\n",
       "      <th></th>\n",
       "      <th>humidity</th>\n",
       "      <th>windspeed</th>\n",
       "      <th>humidity_x_windspeed</th>\n",
       "      <th>visibility</th>\n",
       "    </tr>\n",
       "  </thead>\n",
       "  <tbody>\n",
       "    <tr>\n",
       "      <th>0</th>\n",
       "      <td>0.89</td>\n",
       "      <td>14.1197</td>\n",
       "      <td>12.566533</td>\n",
       "      <td>15.8263</td>\n",
       "    </tr>\n",
       "    <tr>\n",
       "      <th>1</th>\n",
       "      <td>0.86</td>\n",
       "      <td>14.2646</td>\n",
       "      <td>12.267556</td>\n",
       "      <td>15.8263</td>\n",
       "    </tr>\n",
       "    <tr>\n",
       "      <th>2</th>\n",
       "      <td>0.89</td>\n",
       "      <td>3.9284</td>\n",
       "      <td>3.496276</td>\n",
       "      <td>14.9569</td>\n",
       "    </tr>\n",
       "    <tr>\n",
       "      <th>3</th>\n",
       "      <td>0.83</td>\n",
       "      <td>14.1036</td>\n",
       "      <td>11.705988</td>\n",
       "      <td>15.8263</td>\n",
       "    </tr>\n",
       "    <tr>\n",
       "      <th>4</th>\n",
       "      <td>0.83</td>\n",
       "      <td>11.0446</td>\n",
       "      <td>9.167018</td>\n",
       "      <td>15.8263</td>\n",
       "    </tr>\n",
       "    <tr>\n",
       "      <th>...</th>\n",
       "      <td>...</td>\n",
       "      <td>...</td>\n",
       "      <td>...</td>\n",
       "      <td>...</td>\n",
       "    </tr>\n",
       "    <tr>\n",
       "      <th>96448</th>\n",
       "      <td>0.43</td>\n",
       "      <td>10.9963</td>\n",
       "      <td>4.728409</td>\n",
       "      <td>16.1000</td>\n",
       "    </tr>\n",
       "    <tr>\n",
       "      <th>96449</th>\n",
       "      <td>0.48</td>\n",
       "      <td>10.0947</td>\n",
       "      <td>4.845456</td>\n",
       "      <td>15.5526</td>\n",
       "    </tr>\n",
       "    <tr>\n",
       "      <th>96450</th>\n",
       "      <td>0.56</td>\n",
       "      <td>8.9838</td>\n",
       "      <td>5.030928</td>\n",
       "      <td>16.1000</td>\n",
       "    </tr>\n",
       "    <tr>\n",
       "      <th>96451</th>\n",
       "      <td>0.60</td>\n",
       "      <td>10.5294</td>\n",
       "      <td>6.317640</td>\n",
       "      <td>16.1000</td>\n",
       "    </tr>\n",
       "    <tr>\n",
       "      <th>96452</th>\n",
       "      <td>0.61</td>\n",
       "      <td>5.8765</td>\n",
       "      <td>3.584665</td>\n",
       "      <td>15.5204</td>\n",
       "    </tr>\n",
       "  </tbody>\n",
       "</table>\n",
       "<p>96453 rows × 4 columns</p>\n",
       "</div>"
      ],
      "text/plain": [
       "       humidity  windspeed  humidity_x_windspeed  visibility\n",
       "0          0.89    14.1197             12.566533     15.8263\n",
       "1          0.86    14.2646             12.267556     15.8263\n",
       "2          0.89     3.9284              3.496276     14.9569\n",
       "3          0.83    14.1036             11.705988     15.8263\n",
       "4          0.83    11.0446              9.167018     15.8263\n",
       "...         ...        ...                   ...         ...\n",
       "96448      0.43    10.9963              4.728409     16.1000\n",
       "96449      0.48    10.0947              4.845456     15.5526\n",
       "96450      0.56     8.9838              5.030928     16.1000\n",
       "96451      0.60    10.5294              6.317640     16.1000\n",
       "96452      0.61     5.8765              3.584665     15.5204\n",
       "\n",
       "[96453 rows x 4 columns]"
      ]
     },
     "execution_count": 11,
     "metadata": {},
     "output_type": "execute_result"
    },
    {
     "data": {
      "application/javascript": [
       "\n",
       "            setTimeout(function() {\n",
       "                var nbb_cell_id = 11;\n",
       "                var nbb_unformatted_code = \"X['visibility'] = weatherinszeged_df['visibility']\\nX\";\n",
       "                var nbb_formatted_code = \"X[\\\"visibility\\\"] = weatherinszeged_df[\\\"visibility\\\"]\\nX\";\n",
       "                var nbb_cells = Jupyter.notebook.get_cells();\n",
       "                for (var i = 0; i < nbb_cells.length; ++i) {\n",
       "                    if (nbb_cells[i].input_prompt_number == nbb_cell_id) {\n",
       "                        if (nbb_cells[i].get_text() == nbb_unformatted_code) {\n",
       "                             nbb_cells[i].set_text(nbb_formatted_code);\n",
       "                        }\n",
       "                        break;\n",
       "                    }\n",
       "                }\n",
       "            }, 500);\n",
       "            "
      ],
      "text/plain": [
       "<IPython.core.display.Javascript object>"
      ]
     },
     "metadata": {},
     "output_type": "display_data"
    }
   ],
   "source": [
    "X[\"visibility\"] = weatherinszeged_df[\"visibility\"]\n",
    "X"
   ]
  },
  {
   "cell_type": "code",
   "execution_count": 12,
   "metadata": {},
   "outputs": [
    {
     "data": {
      "application/javascript": [
       "\n",
       "            setTimeout(function() {\n",
       "                var nbb_cell_id = 12;\n",
       "                var nbb_unformatted_code = \"X_train, X_test, y_train, y_test = train_test_split(\\n    X, y, test_size=0.25, random_state=42\\n)\\nX_train_const = sm.add_constant(X_train)\\nX_test_const = sm.add_constant(X_test)\\n\\nlr2_results = sm.OLS(y_train, X_train_const).fit()\";\n",
       "                var nbb_formatted_code = \"X_train, X_test, y_train, y_test = train_test_split(\\n    X, y, test_size=0.25, random_state=42\\n)\\nX_train_const = sm.add_constant(X_train)\\nX_test_const = sm.add_constant(X_test)\\n\\nlr2_results = sm.OLS(y_train, X_train_const).fit()\";\n",
       "                var nbb_cells = Jupyter.notebook.get_cells();\n",
       "                for (var i = 0; i < nbb_cells.length; ++i) {\n",
       "                    if (nbb_cells[i].input_prompt_number == nbb_cell_id) {\n",
       "                        if (nbb_cells[i].get_text() == nbb_unformatted_code) {\n",
       "                             nbb_cells[i].set_text(nbb_formatted_code);\n",
       "                        }\n",
       "                        break;\n",
       "                    }\n",
       "                }\n",
       "            }, 500);\n",
       "            "
      ],
      "text/plain": [
       "<IPython.core.display.Javascript object>"
      ]
     },
     "metadata": {},
     "output_type": "display_data"
    }
   ],
   "source": [
    "X_train, X_test, y_train, y_test = train_test_split(\n",
    "    X, y, test_size=0.25, random_state=42\n",
    ")\n",
    "X_train_const = sm.add_constant(X_train)\n",
    "X_test_const = sm.add_constant(X_test)\n",
    "\n",
    "lr2_results = sm.OLS(y_train, X_train_const).fit()"
   ]
  },
  {
   "cell_type": "code",
   "execution_count": 13,
   "metadata": {},
   "outputs": [
    {
     "data": {
      "text/html": [
       "<table class=\"simpletable\">\n",
       "<caption>OLS Regression Results</caption>\n",
       "<tr>\n",
       "  <th>Dep. Variable:</th>            <td>y</td>        <th>  R-squared:         </th>  <td>   0.366</td>  \n",
       "</tr>\n",
       "<tr>\n",
       "  <th>Model:</th>                   <td>OLS</td>       <th>  Adj. R-squared:    </th>  <td>   0.366</td>  \n",
       "</tr>\n",
       "<tr>\n",
       "  <th>Method:</th>             <td>Least Squares</td>  <th>  F-statistic:       </th>  <td>1.044e+04</td> \n",
       "</tr>\n",
       "<tr>\n",
       "  <th>Date:</th>             <td>Tue, 01 Sep 2020</td> <th>  Prob (F-statistic):</th>   <td>  0.00</td>   \n",
       "</tr>\n",
       "<tr>\n",
       "  <th>Time:</th>                 <td>21:28:03</td>     <th>  Log-Likelihood:    </th> <td>-1.2355e+05</td>\n",
       "</tr>\n",
       "<tr>\n",
       "  <th>No. Observations:</th>      <td> 72339</td>      <th>  AIC:               </th>  <td>2.471e+05</td> \n",
       "</tr>\n",
       "<tr>\n",
       "  <th>Df Residuals:</th>          <td> 72334</td>      <th>  BIC:               </th>  <td>2.472e+05</td> \n",
       "</tr>\n",
       "<tr>\n",
       "  <th>Df Model:</th>              <td>     4</td>      <th>                     </th>      <td> </td>     \n",
       "</tr>\n",
       "<tr>\n",
       "  <th>Covariance Type:</th>      <td>nonrobust</td>    <th>                     </th>      <td> </td>     \n",
       "</tr>\n",
       "</table>\n",
       "<table class=\"simpletable\">\n",
       "<tr>\n",
       "            <td></td>              <th>coef</th>     <th>std err</th>      <th>t</th>      <th>P>|t|</th>  <th>[0.025</th>    <th>0.975]</th>  \n",
       "</tr>\n",
       "<tr>\n",
       "  <th>const</th>                <td>    1.0651</td> <td>    0.044</td> <td>   23.973</td> <td> 0.000</td> <td>    0.978</td> <td>    1.152</td>\n",
       "</tr>\n",
       "<tr>\n",
       "  <th>humidity</th>             <td>   -0.8515</td> <td>    0.050</td> <td>  -16.864</td> <td> 0.000</td> <td>   -0.950</td> <td>   -0.753</td>\n",
       "</tr>\n",
       "<tr>\n",
       "  <th>windspeed</th>            <td>   -0.1019</td> <td>    0.003</td> <td>  -36.594</td> <td> 0.000</td> <td>   -0.107</td> <td>   -0.096</td>\n",
       "</tr>\n",
       "<tr>\n",
       "  <th>humidity_x_windspeed</th> <td>    0.3140</td> <td>    0.004</td> <td>   82.530</td> <td> 0.000</td> <td>    0.307</td> <td>    0.321</td>\n",
       "</tr>\n",
       "<tr>\n",
       "  <th>visibility</th>           <td>   -0.0639</td> <td>    0.001</td> <td>  -49.919</td> <td> 0.000</td> <td>   -0.066</td> <td>   -0.061</td>\n",
       "</tr>\n",
       "</table>\n",
       "<table class=\"simpletable\">\n",
       "<tr>\n",
       "  <th>Omnibus:</th>       <td>4026.097</td> <th>  Durbin-Watson:     </th> <td>   1.991</td>\n",
       "</tr>\n",
       "<tr>\n",
       "  <th>Prob(Omnibus):</th>  <td> 0.000</td>  <th>  Jarque-Bera (JB):  </th> <td>9112.589</td>\n",
       "</tr>\n",
       "<tr>\n",
       "  <th>Skew:</th>           <td> 0.362</td>  <th>  Prob(JB):          </th> <td>    0.00</td>\n",
       "</tr>\n",
       "<tr>\n",
       "  <th>Kurtosis:</th>       <td> 4.581</td>  <th>  Cond. No.          </th> <td>    245.</td>\n",
       "</tr>\n",
       "</table><br/><br/>Warnings:<br/>[1] Standard Errors assume that the covariance matrix of the errors is correctly specified."
      ],
      "text/plain": [
       "<class 'statsmodels.iolib.summary.Summary'>\n",
       "\"\"\"\n",
       "                            OLS Regression Results                            \n",
       "==============================================================================\n",
       "Dep. Variable:                      y   R-squared:                       0.366\n",
       "Model:                            OLS   Adj. R-squared:                  0.366\n",
       "Method:                 Least Squares   F-statistic:                 1.044e+04\n",
       "Date:                Tue, 01 Sep 2020   Prob (F-statistic):               0.00\n",
       "Time:                        21:28:03   Log-Likelihood:            -1.2355e+05\n",
       "No. Observations:               72339   AIC:                         2.471e+05\n",
       "Df Residuals:                   72334   BIC:                         2.472e+05\n",
       "Df Model:                           4                                         \n",
       "Covariance Type:            nonrobust                                         \n",
       "========================================================================================\n",
       "                           coef    std err          t      P>|t|      [0.025      0.975]\n",
       "----------------------------------------------------------------------------------------\n",
       "const                    1.0651      0.044     23.973      0.000       0.978       1.152\n",
       "humidity                -0.8515      0.050    -16.864      0.000      -0.950      -0.753\n",
       "windspeed               -0.1019      0.003    -36.594      0.000      -0.107      -0.096\n",
       "humidity_x_windspeed     0.3140      0.004     82.530      0.000       0.307       0.321\n",
       "visibility              -0.0639      0.001    -49.919      0.000      -0.066      -0.061\n",
       "==============================================================================\n",
       "Omnibus:                     4026.097   Durbin-Watson:                   1.991\n",
       "Prob(Omnibus):                  0.000   Jarque-Bera (JB):             9112.589\n",
       "Skew:                           0.362   Prob(JB):                         0.00\n",
       "Kurtosis:                       4.581   Cond. No.                         245.\n",
       "==============================================================================\n",
       "\n",
       "Warnings:\n",
       "[1] Standard Errors assume that the covariance matrix of the errors is correctly specified.\n",
       "\"\"\""
      ]
     },
     "execution_count": 13,
     "metadata": {},
     "output_type": "execute_result"
    },
    {
     "data": {
      "application/javascript": [
       "\n",
       "            setTimeout(function() {\n",
       "                var nbb_cell_id = 13;\n",
       "                var nbb_unformatted_code = \"lr2_results.summary()\";\n",
       "                var nbb_formatted_code = \"lr2_results.summary()\";\n",
       "                var nbb_cells = Jupyter.notebook.get_cells();\n",
       "                for (var i = 0; i < nbb_cells.length; ++i) {\n",
       "                    if (nbb_cells[i].input_prompt_number == nbb_cell_id) {\n",
       "                        if (nbb_cells[i].get_text() == nbb_unformatted_code) {\n",
       "                             nbb_cells[i].set_text(nbb_formatted_code);\n",
       "                        }\n",
       "                        break;\n",
       "                    }\n",
       "                }\n",
       "            }, 500);\n",
       "            "
      ],
      "text/plain": [
       "<IPython.core.display.Javascript object>"
      ]
     },
     "metadata": {},
     "output_type": "display_data"
    }
   ],
   "source": [
    "lr2_results.summary()"
   ]
  },
  {
   "cell_type": "code",
   "execution_count": null,
   "metadata": {},
   "outputs": [],
   "source": []
  },
  {
   "cell_type": "code",
   "execution_count": null,
   "metadata": {},
   "outputs": [],
   "source": []
  },
  {
   "cell_type": "markdown",
   "metadata": {},
   "source": [
    "# House Prices Model\n",
    "* Load the houseprices data from Thinkful's database.\n",
    "* Run your house prices model again and interpret the results. Which features are statistically significant, and which are not?\n",
    "* Now, exclude the insignificant features from your model. Did anything change?\n",
    "* Interpret the statistically significant coefficients by quantifying their relations with the house prices. Which features have a more prominent effect on house prices?\n",
    "* Do the results sound reasonable to you? If not, try to explain the potential reasons.\n",
    "\n",
    "\n",
    "\n",
    "\n",
    "\n",
    "\n",
    "\n"
   ]
  },
  {
   "cell_type": "code",
   "execution_count": 43,
   "metadata": {},
   "outputs": [
    {
     "data": {
      "application/javascript": [
       "\n",
       "            setTimeout(function() {\n",
       "                var nbb_cell_id = 43;\n",
       "                var nbb_unformatted_code = \"postgres_user = \\\"dsbc_student\\\"\\npostgres_pw = \\\"7*.8G9QH21\\\"\\npostgres_host = \\\"142.93.121.174\\\"\\npostgres_port = \\\"5432\\\"\\npostgres_db = \\\"houseprices\\\"\\n\\nengine = create_engine(\\n    \\\"postgresql://{}:{}@{}:{}/{}\\\".format(\\n        postgres_user, postgres_pw, postgres_host, postgres_port, postgres_db\\n    )\\n)\\nhouseprices = pd.read_sql_query(\\\"select * from houseprices\\\", con=engine)\\n\\n# no need for an open connection, as we're only doing a single query\\nengine.dispose()\";\n",
       "                var nbb_formatted_code = \"postgres_user = \\\"dsbc_student\\\"\\npostgres_pw = \\\"7*.8G9QH21\\\"\\npostgres_host = \\\"142.93.121.174\\\"\\npostgres_port = \\\"5432\\\"\\npostgres_db = \\\"houseprices\\\"\\n\\nengine = create_engine(\\n    \\\"postgresql://{}:{}@{}:{}/{}\\\".format(\\n        postgres_user, postgres_pw, postgres_host, postgres_port, postgres_db\\n    )\\n)\\nhouseprices = pd.read_sql_query(\\\"select * from houseprices\\\", con=engine)\\n\\n# no need for an open connection, as we're only doing a single query\\nengine.dispose()\";\n",
       "                var nbb_cells = Jupyter.notebook.get_cells();\n",
       "                for (var i = 0; i < nbb_cells.length; ++i) {\n",
       "                    if (nbb_cells[i].input_prompt_number == nbb_cell_id) {\n",
       "                        if (nbb_cells[i].get_text() == nbb_unformatted_code) {\n",
       "                             nbb_cells[i].set_text(nbb_formatted_code);\n",
       "                        }\n",
       "                        break;\n",
       "                    }\n",
       "                }\n",
       "            }, 500);\n",
       "            "
      ],
      "text/plain": [
       "<IPython.core.display.Javascript object>"
      ]
     },
     "metadata": {},
     "output_type": "display_data"
    },
    {
     "data": {
      "application/javascript": [
       "\n",
       "            setTimeout(function() {\n",
       "                var nbb_cell_id = 43;\n",
       "                var nbb_unformatted_code = \"postgres_user = \\\"dsbc_student\\\"\\npostgres_pw = \\\"7*.8G9QH21\\\"\\npostgres_host = \\\"142.93.121.174\\\"\\npostgres_port = \\\"5432\\\"\\npostgres_db = \\\"houseprices\\\"\\n\\nengine = create_engine(\\n    \\\"postgresql://{}:{}@{}:{}/{}\\\".format(\\n        postgres_user, postgres_pw, postgres_host, postgres_port, postgres_db\\n    )\\n)\\nhouseprices = pd.read_sql_query(\\\"select * from houseprices\\\", con=engine)\\n\\n# no need for an open connection, as we're only doing a single query\\nengine.dispose()\";\n",
       "                var nbb_formatted_code = \"postgres_user = \\\"dsbc_student\\\"\\npostgres_pw = \\\"7*.8G9QH21\\\"\\npostgres_host = \\\"142.93.121.174\\\"\\npostgres_port = \\\"5432\\\"\\npostgres_db = \\\"houseprices\\\"\\n\\nengine = create_engine(\\n    \\\"postgresql://{}:{}@{}:{}/{}\\\".format(\\n        postgres_user, postgres_pw, postgres_host, postgres_port, postgres_db\\n    )\\n)\\nhouseprices = pd.read_sql_query(\\\"select * from houseprices\\\", con=engine)\\n\\n# no need for an open connection, as we're only doing a single query\\nengine.dispose()\";\n",
       "                var nbb_cells = Jupyter.notebook.get_cells();\n",
       "                for (var i = 0; i < nbb_cells.length; ++i) {\n",
       "                    if (nbb_cells[i].input_prompt_number == nbb_cell_id) {\n",
       "                        if (nbb_cells[i].get_text() == nbb_unformatted_code) {\n",
       "                             nbb_cells[i].set_text(nbb_formatted_code);\n",
       "                        }\n",
       "                        break;\n",
       "                    }\n",
       "                }\n",
       "            }, 500);\n",
       "            "
      ],
      "text/plain": [
       "<IPython.core.display.Javascript object>"
      ]
     },
     "metadata": {},
     "output_type": "display_data"
    }
   ],
   "source": [
    "postgres_user = \"dsbc_student\"\n",
    "postgres_pw = \"7*.8G9QH21\"\n",
    "postgres_host = \"142.93.121.174\"\n",
    "postgres_port = \"5432\"\n",
    "postgres_db = \"houseprices\"\n",
    "\n",
    "engine = create_engine(\n",
    "    \"postgresql://{}:{}@{}:{}/{}\".format(\n",
    "        postgres_user, postgres_pw, postgres_host, postgres_port, postgres_db\n",
    "    )\n",
    ")\n",
    "houseprices = pd.read_sql_query(\"select * from houseprices\", con=engine)\n",
    "\n",
    "# no need for an open connection, as we're only doing a single query\n",
    "engine.dispose()"
   ]
  },
  {
   "cell_type": "code",
   "execution_count": 44,
   "metadata": {},
   "outputs": [
    {
     "data": {
      "text/html": [
       "<div>\n",
       "<style scoped>\n",
       "    .dataframe tbody tr th:only-of-type {\n",
       "        vertical-align: middle;\n",
       "    }\n",
       "\n",
       "    .dataframe tbody tr th {\n",
       "        vertical-align: top;\n",
       "    }\n",
       "\n",
       "    .dataframe thead th {\n",
       "        text-align: right;\n",
       "    }\n",
       "</style>\n",
       "<table border=\"1\" class=\"dataframe\">\n",
       "  <thead>\n",
       "    <tr style=\"text-align: right;\">\n",
       "      <th></th>\n",
       "      <th>id</th>\n",
       "      <th>mssubclass</th>\n",
       "      <th>mszoning</th>\n",
       "      <th>lotfrontage</th>\n",
       "      <th>lotarea</th>\n",
       "      <th>street</th>\n",
       "      <th>alley</th>\n",
       "      <th>lotshape</th>\n",
       "      <th>landcontour</th>\n",
       "      <th>utilities</th>\n",
       "      <th>...</th>\n",
       "      <th>poolarea</th>\n",
       "      <th>poolqc</th>\n",
       "      <th>fence</th>\n",
       "      <th>miscfeature</th>\n",
       "      <th>miscval</th>\n",
       "      <th>mosold</th>\n",
       "      <th>yrsold</th>\n",
       "      <th>saletype</th>\n",
       "      <th>salecondition</th>\n",
       "      <th>saleprice</th>\n",
       "    </tr>\n",
       "  </thead>\n",
       "  <tbody>\n",
       "  </tbody>\n",
       "</table>\n",
       "<p>0 rows × 81 columns</p>\n",
       "</div>"
      ],
      "text/plain": [
       "Empty DataFrame\n",
       "Columns: [id, mssubclass, mszoning, lotfrontage, lotarea, street, alley, lotshape, landcontour, utilities, lotconfig, landslope, neighborhood, condition1, condition2, bldgtype, housestyle, overallqual, overallcond, yearbuilt, yearremodadd, roofstyle, roofmatl, exterior1st, exterior2nd, masvnrtype, masvnrarea, exterqual, extercond, foundation, bsmtqual, bsmtcond, bsmtexposure, bsmtfintype1, bsmtfinsf1, bsmtfintype2, bsmtfinsf2, bsmtunfsf, totalbsmtsf, heating, heatingqc, centralair, electrical, firstflrsf, secondflrsf, lowqualfinsf, grlivarea, bsmtfullbath, bsmthalfbath, fullbath, halfbath, bedroomabvgr, kitchenabvgr, kitchenqual, totrmsabvgrd, functional, fireplaces, fireplacequ, garagetype, garageyrblt, garagefinish, garagecars, garagearea, garagequal, garagecond, paveddrive, wooddecksf, openporchsf, enclosedporch, threessnporch, screenporch, poolarea, poolqc, fence, miscfeature, miscval, mosold, yrsold, saletype, salecondition, saleprice]\n",
       "Index: []\n",
       "\n",
       "[0 rows x 81 columns]"
      ]
     },
     "execution_count": 44,
     "metadata": {},
     "output_type": "execute_result"
    },
    {
     "data": {
      "application/javascript": [
       "\n",
       "            setTimeout(function() {\n",
       "                var nbb_cell_id = 44;\n",
       "                var nbb_unformatted_code = \"houseprices.dropna()\";\n",
       "                var nbb_formatted_code = \"houseprices.dropna()\";\n",
       "                var nbb_cells = Jupyter.notebook.get_cells();\n",
       "                for (var i = 0; i < nbb_cells.length; ++i) {\n",
       "                    if (nbb_cells[i].input_prompt_number == nbb_cell_id) {\n",
       "                        if (nbb_cells[i].get_text() == nbb_unformatted_code) {\n",
       "                             nbb_cells[i].set_text(nbb_formatted_code);\n",
       "                        }\n",
       "                        break;\n",
       "                    }\n",
       "                }\n",
       "            }, 500);\n",
       "            "
      ],
      "text/plain": [
       "<IPython.core.display.Javascript object>"
      ]
     },
     "metadata": {},
     "output_type": "display_data"
    },
    {
     "data": {
      "application/javascript": [
       "\n",
       "            setTimeout(function() {\n",
       "                var nbb_cell_id = 44;\n",
       "                var nbb_unformatted_code = \"houseprices.dropna()\";\n",
       "                var nbb_formatted_code = \"houseprices.dropna()\";\n",
       "                var nbb_cells = Jupyter.notebook.get_cells();\n",
       "                for (var i = 0; i < nbb_cells.length; ++i) {\n",
       "                    if (nbb_cells[i].input_prompt_number == nbb_cell_id) {\n",
       "                        if (nbb_cells[i].get_text() == nbb_unformatted_code) {\n",
       "                             nbb_cells[i].set_text(nbb_formatted_code);\n",
       "                        }\n",
       "                        break;\n",
       "                    }\n",
       "                }\n",
       "            }, 500);\n",
       "            "
      ],
      "text/plain": [
       "<IPython.core.display.Javascript object>"
      ]
     },
     "metadata": {},
     "output_type": "display_data"
    }
   ],
   "source": [
    "houseprices.dropna()"
   ]
  },
  {
   "cell_type": "code",
   "execution_count": 45,
   "metadata": {},
   "outputs": [
    {
     "name": "stdout",
     "output_type": "stream",
     "text": [
      "poolqc           0.995205\n",
      "miscfeature      0.963014\n",
      "alley            0.937671\n",
      "fence            0.807534\n",
      "fireplacequ      0.472603\n",
      "                   ...   \n",
      "centralair       0.000000\n",
      "salecondition    0.000000\n",
      "heating          0.000000\n",
      "totalbsmtsf      0.000000\n",
      "id               0.000000\n",
      "Length: 81, dtype: float64\n"
     ]
    },
    {
     "data": {
      "application/javascript": [
       "\n",
       "            setTimeout(function() {\n",
       "                var nbb_cell_id = 45;\n",
       "                var nbb_unformatted_code = \"missingness_summary(houseprices, print_log=True, sort=\\\"descending\\\")\";\n",
       "                var nbb_formatted_code = \"missingness_summary(houseprices, print_log=True, sort=\\\"descending\\\")\";\n",
       "                var nbb_cells = Jupyter.notebook.get_cells();\n",
       "                for (var i = 0; i < nbb_cells.length; ++i) {\n",
       "                    if (nbb_cells[i].input_prompt_number == nbb_cell_id) {\n",
       "                        if (nbb_cells[i].get_text() == nbb_unformatted_code) {\n",
       "                             nbb_cells[i].set_text(nbb_formatted_code);\n",
       "                        }\n",
       "                        break;\n",
       "                    }\n",
       "                }\n",
       "            }, 500);\n",
       "            "
      ],
      "text/plain": [
       "<IPython.core.display.Javascript object>"
      ]
     },
     "metadata": {},
     "output_type": "display_data"
    },
    {
     "data": {
      "application/javascript": [
       "\n",
       "            setTimeout(function() {\n",
       "                var nbb_cell_id = 45;\n",
       "                var nbb_unformatted_code = \"missingness_summary(houseprices, print_log=True, sort=\\\"descending\\\")\";\n",
       "                var nbb_formatted_code = \"missingness_summary(houseprices, print_log=True, sort=\\\"descending\\\")\";\n",
       "                var nbb_cells = Jupyter.notebook.get_cells();\n",
       "                for (var i = 0; i < nbb_cells.length; ++i) {\n",
       "                    if (nbb_cells[i].input_prompt_number == nbb_cell_id) {\n",
       "                        if (nbb_cells[i].get_text() == nbb_unformatted_code) {\n",
       "                             nbb_cells[i].set_text(nbb_formatted_code);\n",
       "                        }\n",
       "                        break;\n",
       "                    }\n",
       "                }\n",
       "            }, 500);\n",
       "            "
      ],
      "text/plain": [
       "<IPython.core.display.Javascript object>"
      ]
     },
     "metadata": {},
     "output_type": "display_data"
    }
   ],
   "source": [
    "missingness_summary(houseprices, print_log=True, sort=\"descending\")"
   ]
  },
  {
   "cell_type": "code",
   "execution_count": 46,
   "metadata": {},
   "outputs": [
    {
     "data": {
      "application/javascript": [
       "\n",
       "            setTimeout(function() {\n",
       "                var nbb_cell_id = 46;\n",
       "                var nbb_unformatted_code = \"houseprices = houseprices.drop(\\n    columns=[\\\"poolqc\\\", \\\"miscfeature\\\", \\\"alley\\\", \\\"fence\\\", \\\"fireplacequ\\\", \\\"lotfrontage\\\"]\\n)\";\n",
       "                var nbb_formatted_code = \"houseprices = houseprices.drop(\\n    columns=[\\\"poolqc\\\", \\\"miscfeature\\\", \\\"alley\\\", \\\"fence\\\", \\\"fireplacequ\\\", \\\"lotfrontage\\\"]\\n)\";\n",
       "                var nbb_cells = Jupyter.notebook.get_cells();\n",
       "                for (var i = 0; i < nbb_cells.length; ++i) {\n",
       "                    if (nbb_cells[i].input_prompt_number == nbb_cell_id) {\n",
       "                        if (nbb_cells[i].get_text() == nbb_unformatted_code) {\n",
       "                             nbb_cells[i].set_text(nbb_formatted_code);\n",
       "                        }\n",
       "                        break;\n",
       "                    }\n",
       "                }\n",
       "            }, 500);\n",
       "            "
      ],
      "text/plain": [
       "<IPython.core.display.Javascript object>"
      ]
     },
     "metadata": {},
     "output_type": "display_data"
    },
    {
     "data": {
      "application/javascript": [
       "\n",
       "            setTimeout(function() {\n",
       "                var nbb_cell_id = 46;\n",
       "                var nbb_unformatted_code = \"houseprices = houseprices.drop(\\n    columns=[\\\"poolqc\\\", \\\"miscfeature\\\", \\\"alley\\\", \\\"fence\\\", \\\"fireplacequ\\\", \\\"lotfrontage\\\"]\\n)\";\n",
       "                var nbb_formatted_code = \"houseprices = houseprices.drop(\\n    columns=[\\\"poolqc\\\", \\\"miscfeature\\\", \\\"alley\\\", \\\"fence\\\", \\\"fireplacequ\\\", \\\"lotfrontage\\\"]\\n)\";\n",
       "                var nbb_cells = Jupyter.notebook.get_cells();\n",
       "                for (var i = 0; i < nbb_cells.length; ++i) {\n",
       "                    if (nbb_cells[i].input_prompt_number == nbb_cell_id) {\n",
       "                        if (nbb_cells[i].get_text() == nbb_unformatted_code) {\n",
       "                             nbb_cells[i].set_text(nbb_formatted_code);\n",
       "                        }\n",
       "                        break;\n",
       "                    }\n",
       "                }\n",
       "            }, 500);\n",
       "            "
      ],
      "text/plain": [
       "<IPython.core.display.Javascript object>"
      ]
     },
     "metadata": {},
     "output_type": "display_data"
    }
   ],
   "source": [
    "houseprices = houseprices.drop(\n",
    "    columns=[\"poolqc\", \"miscfeature\", \"alley\", \"fence\", \"fireplacequ\", \"lotfrontage\"]\n",
    ")"
   ]
  },
  {
   "cell_type": "code",
   "execution_count": 47,
   "metadata": {},
   "outputs": [
    {
     "name": "stdout",
     "output_type": "stream",
     "text": [
      "garagetype       0.055479\n",
      "garageyrblt      0.055479\n",
      "garagefinish     0.055479\n",
      "garagecond       0.055479\n",
      "garagequal       0.055479\n",
      "                   ...   \n",
      "centralair       0.000000\n",
      "heatingqc        0.000000\n",
      "salecondition    0.000000\n",
      "totalbsmtsf      0.000000\n",
      "id               0.000000\n",
      "Length: 75, dtype: float64\n"
     ]
    },
    {
     "data": {
      "application/javascript": [
       "\n",
       "            setTimeout(function() {\n",
       "                var nbb_cell_id = 47;\n",
       "                var nbb_unformatted_code = \"missingness_summary(houseprices, print_log=True, sort=\\\"descending\\\")\";\n",
       "                var nbb_formatted_code = \"missingness_summary(houseprices, print_log=True, sort=\\\"descending\\\")\";\n",
       "                var nbb_cells = Jupyter.notebook.get_cells();\n",
       "                for (var i = 0; i < nbb_cells.length; ++i) {\n",
       "                    if (nbb_cells[i].input_prompt_number == nbb_cell_id) {\n",
       "                        if (nbb_cells[i].get_text() == nbb_unformatted_code) {\n",
       "                             nbb_cells[i].set_text(nbb_formatted_code);\n",
       "                        }\n",
       "                        break;\n",
       "                    }\n",
       "                }\n",
       "            }, 500);\n",
       "            "
      ],
      "text/plain": [
       "<IPython.core.display.Javascript object>"
      ]
     },
     "metadata": {},
     "output_type": "display_data"
    },
    {
     "data": {
      "application/javascript": [
       "\n",
       "            setTimeout(function() {\n",
       "                var nbb_cell_id = 47;\n",
       "                var nbb_unformatted_code = \"missingness_summary(houseprices, print_log=True, sort=\\\"descending\\\")\";\n",
       "                var nbb_formatted_code = \"missingness_summary(houseprices, print_log=True, sort=\\\"descending\\\")\";\n",
       "                var nbb_cells = Jupyter.notebook.get_cells();\n",
       "                for (var i = 0; i < nbb_cells.length; ++i) {\n",
       "                    if (nbb_cells[i].input_prompt_number == nbb_cell_id) {\n",
       "                        if (nbb_cells[i].get_text() == nbb_unformatted_code) {\n",
       "                             nbb_cells[i].set_text(nbb_formatted_code);\n",
       "                        }\n",
       "                        break;\n",
       "                    }\n",
       "                }\n",
       "            }, 500);\n",
       "            "
      ],
      "text/plain": [
       "<IPython.core.display.Javascript object>"
      ]
     },
     "metadata": {},
     "output_type": "display_data"
    }
   ],
   "source": [
    "missingness_summary(houseprices, print_log=True, sort=\"descending\")"
   ]
  },
  {
   "cell_type": "code",
   "execution_count": 48,
   "metadata": {},
   "outputs": [
    {
     "data": {
      "application/javascript": [
       "\n",
       "            setTimeout(function() {\n",
       "                var nbb_cell_id = 48;\n",
       "                var nbb_unformatted_code = \"houseprices = houseprices.drop(\\n    columns=[\\\"garagetype\\\", \\\"garageyrblt\\\", \\\"garagefinish\\\", \\\"garagecond\\\", \\\"garagequal\\\"]\\n)\";\n",
       "                var nbb_formatted_code = \"houseprices = houseprices.drop(\\n    columns=[\\\"garagetype\\\", \\\"garageyrblt\\\", \\\"garagefinish\\\", \\\"garagecond\\\", \\\"garagequal\\\"]\\n)\";\n",
       "                var nbb_cells = Jupyter.notebook.get_cells();\n",
       "                for (var i = 0; i < nbb_cells.length; ++i) {\n",
       "                    if (nbb_cells[i].input_prompt_number == nbb_cell_id) {\n",
       "                        if (nbb_cells[i].get_text() == nbb_unformatted_code) {\n",
       "                             nbb_cells[i].set_text(nbb_formatted_code);\n",
       "                        }\n",
       "                        break;\n",
       "                    }\n",
       "                }\n",
       "            }, 500);\n",
       "            "
      ],
      "text/plain": [
       "<IPython.core.display.Javascript object>"
      ]
     },
     "metadata": {},
     "output_type": "display_data"
    },
    {
     "data": {
      "application/javascript": [
       "\n",
       "            setTimeout(function() {\n",
       "                var nbb_cell_id = 48;\n",
       "                var nbb_unformatted_code = \"houseprices = houseprices.drop(\\n    columns=[\\\"garagetype\\\", \\\"garageyrblt\\\", \\\"garagefinish\\\", \\\"garagecond\\\", \\\"garagequal\\\"]\\n)\";\n",
       "                var nbb_formatted_code = \"houseprices = houseprices.drop(\\n    columns=[\\\"garagetype\\\", \\\"garageyrblt\\\", \\\"garagefinish\\\", \\\"garagecond\\\", \\\"garagequal\\\"]\\n)\";\n",
       "                var nbb_cells = Jupyter.notebook.get_cells();\n",
       "                for (var i = 0; i < nbb_cells.length; ++i) {\n",
       "                    if (nbb_cells[i].input_prompt_number == nbb_cell_id) {\n",
       "                        if (nbb_cells[i].get_text() == nbb_unformatted_code) {\n",
       "                             nbb_cells[i].set_text(nbb_formatted_code);\n",
       "                        }\n",
       "                        break;\n",
       "                    }\n",
       "                }\n",
       "            }, 500);\n",
       "            "
      ],
      "text/plain": [
       "<IPython.core.display.Javascript object>"
      ]
     },
     "metadata": {},
     "output_type": "display_data"
    }
   ],
   "source": [
    "houseprices = houseprices.drop(\n",
    "    columns=[\"garagetype\", \"garageyrblt\", \"garagefinish\", \"garagecond\", \"garagequal\"]\n",
    ")"
   ]
  },
  {
   "cell_type": "code",
   "execution_count": 49,
   "metadata": {},
   "outputs": [
    {
     "data": {
      "application/javascript": [
       "\n",
       "            setTimeout(function() {\n",
       "                var nbb_cell_id = 49;\n",
       "                var nbb_unformatted_code = \"houseprices = houseprices.dropna()\";\n",
       "                var nbb_formatted_code = \"houseprices = houseprices.dropna()\";\n",
       "                var nbb_cells = Jupyter.notebook.get_cells();\n",
       "                for (var i = 0; i < nbb_cells.length; ++i) {\n",
       "                    if (nbb_cells[i].input_prompt_number == nbb_cell_id) {\n",
       "                        if (nbb_cells[i].get_text() == nbb_unformatted_code) {\n",
       "                             nbb_cells[i].set_text(nbb_formatted_code);\n",
       "                        }\n",
       "                        break;\n",
       "                    }\n",
       "                }\n",
       "            }, 500);\n",
       "            "
      ],
      "text/plain": [
       "<IPython.core.display.Javascript object>"
      ]
     },
     "metadata": {},
     "output_type": "display_data"
    },
    {
     "data": {
      "application/javascript": [
       "\n",
       "            setTimeout(function() {\n",
       "                var nbb_cell_id = 49;\n",
       "                var nbb_unformatted_code = \"houseprices = houseprices.dropna()\";\n",
       "                var nbb_formatted_code = \"houseprices = houseprices.dropna()\";\n",
       "                var nbb_cells = Jupyter.notebook.get_cells();\n",
       "                for (var i = 0; i < nbb_cells.length; ++i) {\n",
       "                    if (nbb_cells[i].input_prompt_number == nbb_cell_id) {\n",
       "                        if (nbb_cells[i].get_text() == nbb_unformatted_code) {\n",
       "                             nbb_cells[i].set_text(nbb_formatted_code);\n",
       "                        }\n",
       "                        break;\n",
       "                    }\n",
       "                }\n",
       "            }, 500);\n",
       "            "
      ],
      "text/plain": [
       "<IPython.core.display.Javascript object>"
      ]
     },
     "metadata": {},
     "output_type": "display_data"
    }
   ],
   "source": [
    "houseprices = houseprices.dropna()"
   ]
  },
  {
   "cell_type": "code",
   "execution_count": 50,
   "metadata": {},
   "outputs": [
    {
     "name": "stdout",
     "output_type": "stream",
     "text": [
      "<class 'pandas.core.frame.DataFrame'>\n",
      "Int64Index: 1412 entries, 0 to 1459\n",
      "Data columns (total 70 columns):\n",
      " #   Column         Non-Null Count  Dtype  \n",
      "---  ------         --------------  -----  \n",
      " 0   id             1412 non-null   int64  \n",
      " 1   mssubclass     1412 non-null   int64  \n",
      " 2   mszoning       1412 non-null   object \n",
      " 3   lotarea        1412 non-null   int64  \n",
      " 4   street         1412 non-null   object \n",
      " 5   lotshape       1412 non-null   object \n",
      " 6   landcontour    1412 non-null   object \n",
      " 7   utilities      1412 non-null   object \n",
      " 8   lotconfig      1412 non-null   object \n",
      " 9   landslope      1412 non-null   object \n",
      " 10  neighborhood   1412 non-null   object \n",
      " 11  condition1     1412 non-null   object \n",
      " 12  condition2     1412 non-null   object \n",
      " 13  bldgtype       1412 non-null   object \n",
      " 14  housestyle     1412 non-null   object \n",
      " 15  overallqual    1412 non-null   int64  \n",
      " 16  overallcond    1412 non-null   int64  \n",
      " 17  yearbuilt      1412 non-null   int64  \n",
      " 18  yearremodadd   1412 non-null   int64  \n",
      " 19  roofstyle      1412 non-null   object \n",
      " 20  roofmatl       1412 non-null   object \n",
      " 21  exterior1st    1412 non-null   object \n",
      " 22  exterior2nd    1412 non-null   object \n",
      " 23  masvnrtype     1412 non-null   object \n",
      " 24  masvnrarea     1412 non-null   float64\n",
      " 25  exterqual      1412 non-null   object \n",
      " 26  extercond      1412 non-null   object \n",
      " 27  foundation     1412 non-null   object \n",
      " 28  bsmtqual       1412 non-null   object \n",
      " 29  bsmtcond       1412 non-null   object \n",
      " 30  bsmtexposure   1412 non-null   object \n",
      " 31  bsmtfintype1   1412 non-null   object \n",
      " 32  bsmtfinsf1     1412 non-null   int64  \n",
      " 33  bsmtfintype2   1412 non-null   object \n",
      " 34  bsmtfinsf2     1412 non-null   int64  \n",
      " 35  bsmtunfsf      1412 non-null   int64  \n",
      " 36  totalbsmtsf    1412 non-null   int64  \n",
      " 37  heating        1412 non-null   object \n",
      " 38  heatingqc      1412 non-null   object \n",
      " 39  centralair     1412 non-null   object \n",
      " 40  electrical     1412 non-null   object \n",
      " 41  firstflrsf     1412 non-null   int64  \n",
      " 42  secondflrsf    1412 non-null   int64  \n",
      " 43  lowqualfinsf   1412 non-null   int64  \n",
      " 44  grlivarea      1412 non-null   int64  \n",
      " 45  bsmtfullbath   1412 non-null   int64  \n",
      " 46  bsmthalfbath   1412 non-null   int64  \n",
      " 47  fullbath       1412 non-null   int64  \n",
      " 48  halfbath       1412 non-null   int64  \n",
      " 49  bedroomabvgr   1412 non-null   int64  \n",
      " 50  kitchenabvgr   1412 non-null   int64  \n",
      " 51  kitchenqual    1412 non-null   object \n",
      " 52  totrmsabvgrd   1412 non-null   int64  \n",
      " 53  functional     1412 non-null   object \n",
      " 54  fireplaces     1412 non-null   int64  \n",
      " 55  garagecars     1412 non-null   int64  \n",
      " 56  garagearea     1412 non-null   int64  \n",
      " 57  paveddrive     1412 non-null   object \n",
      " 58  wooddecksf     1412 non-null   int64  \n",
      " 59  openporchsf    1412 non-null   int64  \n",
      " 60  enclosedporch  1412 non-null   int64  \n",
      " 61  threessnporch  1412 non-null   int64  \n",
      " 62  screenporch    1412 non-null   int64  \n",
      " 63  poolarea       1412 non-null   int64  \n",
      " 64  miscval        1412 non-null   int64  \n",
      " 65  mosold         1412 non-null   int64  \n",
      " 66  yrsold         1412 non-null   int64  \n",
      " 67  saletype       1412 non-null   object \n",
      " 68  salecondition  1412 non-null   object \n",
      " 69  saleprice      1412 non-null   int64  \n",
      "dtypes: float64(1), int64(35), object(34)\n",
      "memory usage: 783.2+ KB\n"
     ]
    },
    {
     "data": {
      "application/javascript": [
       "\n",
       "            setTimeout(function() {\n",
       "                var nbb_cell_id = 50;\n",
       "                var nbb_unformatted_code = \"houseprices.info()\";\n",
       "                var nbb_formatted_code = \"houseprices.info()\";\n",
       "                var nbb_cells = Jupyter.notebook.get_cells();\n",
       "                for (var i = 0; i < nbb_cells.length; ++i) {\n",
       "                    if (nbb_cells[i].input_prompt_number == nbb_cell_id) {\n",
       "                        if (nbb_cells[i].get_text() == nbb_unformatted_code) {\n",
       "                             nbb_cells[i].set_text(nbb_formatted_code);\n",
       "                        }\n",
       "                        break;\n",
       "                    }\n",
       "                }\n",
       "            }, 500);\n",
       "            "
      ],
      "text/plain": [
       "<IPython.core.display.Javascript object>"
      ]
     },
     "metadata": {},
     "output_type": "display_data"
    },
    {
     "data": {
      "application/javascript": [
       "\n",
       "            setTimeout(function() {\n",
       "                var nbb_cell_id = 50;\n",
       "                var nbb_unformatted_code = \"houseprices.info()\";\n",
       "                var nbb_formatted_code = \"houseprices.info()\";\n",
       "                var nbb_cells = Jupyter.notebook.get_cells();\n",
       "                for (var i = 0; i < nbb_cells.length; ++i) {\n",
       "                    if (nbb_cells[i].input_prompt_number == nbb_cell_id) {\n",
       "                        if (nbb_cells[i].get_text() == nbb_unformatted_code) {\n",
       "                             nbb_cells[i].set_text(nbb_formatted_code);\n",
       "                        }\n",
       "                        break;\n",
       "                    }\n",
       "                }\n",
       "            }, 500);\n",
       "            "
      ],
      "text/plain": [
       "<IPython.core.display.Javascript object>"
      ]
     },
     "metadata": {},
     "output_type": "display_data"
    }
   ],
   "source": [
    "houseprices.info()"
   ]
  },
  {
   "cell_type": "code",
   "execution_count": 52,
   "metadata": {},
   "outputs": [
    {
     "data": {
      "application/javascript": [
       "\n",
       "            setTimeout(function() {\n",
       "                var nbb_cell_id = 52;\n",
       "                var nbb_unformatted_code = \"# used code from answer key for times sake\\n\\nhouseprices = pd.concat(\\n    [\\n        houseprices,\\n        pd.get_dummies(houseprices.mszoning, prefix=\\\"mszoning\\\", drop_first=True),\\n    ],\\n    axis=1,\\n)\\nhouseprices = pd.concat(\\n    [houseprices, pd.get_dummies(houseprices.street, prefix=\\\"street\\\", drop_first=True)],\\n    axis=1,\\n)\\ndummy_column_names = list(\\n    pd.get_dummies(houseprices.mszoning, prefix=\\\"mszoning\\\", drop_first=True).columns\\n)\\ndummy_column_names = dummy_column_names + list(\\n    pd.get_dummies(houseprices.street, prefix=\\\"street\\\", drop_first=True).columns\\n)\";\n",
       "                var nbb_formatted_code = \"# used code from answer key for times sake\\n\\nhouseprices = pd.concat(\\n    [\\n        houseprices,\\n        pd.get_dummies(houseprices.mszoning, prefix=\\\"mszoning\\\", drop_first=True),\\n    ],\\n    axis=1,\\n)\\nhouseprices = pd.concat(\\n    [houseprices, pd.get_dummies(houseprices.street, prefix=\\\"street\\\", drop_first=True)],\\n    axis=1,\\n)\\ndummy_column_names = list(\\n    pd.get_dummies(houseprices.mszoning, prefix=\\\"mszoning\\\", drop_first=True).columns\\n)\\ndummy_column_names = dummy_column_names + list(\\n    pd.get_dummies(houseprices.street, prefix=\\\"street\\\", drop_first=True).columns\\n)\";\n",
       "                var nbb_cells = Jupyter.notebook.get_cells();\n",
       "                for (var i = 0; i < nbb_cells.length; ++i) {\n",
       "                    if (nbb_cells[i].input_prompt_number == nbb_cell_id) {\n",
       "                        if (nbb_cells[i].get_text() == nbb_unformatted_code) {\n",
       "                             nbb_cells[i].set_text(nbb_formatted_code);\n",
       "                        }\n",
       "                        break;\n",
       "                    }\n",
       "                }\n",
       "            }, 500);\n",
       "            "
      ],
      "text/plain": [
       "<IPython.core.display.Javascript object>"
      ]
     },
     "metadata": {},
     "output_type": "display_data"
    },
    {
     "data": {
      "application/javascript": [
       "\n",
       "            setTimeout(function() {\n",
       "                var nbb_cell_id = 52;\n",
       "                var nbb_unformatted_code = \"# used code from answer key for times sake\\n\\nhouseprices = pd.concat(\\n    [\\n        houseprices,\\n        pd.get_dummies(houseprices.mszoning, prefix=\\\"mszoning\\\", drop_first=True),\\n    ],\\n    axis=1,\\n)\\nhouseprices = pd.concat(\\n    [houseprices, pd.get_dummies(houseprices.street, prefix=\\\"street\\\", drop_first=True)],\\n    axis=1,\\n)\\ndummy_column_names = list(\\n    pd.get_dummies(houseprices.mszoning, prefix=\\\"mszoning\\\", drop_first=True).columns\\n)\\ndummy_column_names = dummy_column_names + list(\\n    pd.get_dummies(houseprices.street, prefix=\\\"street\\\", drop_first=True).columns\\n)\";\n",
       "                var nbb_formatted_code = \"# used code from answer key for times sake\\n\\nhouseprices = pd.concat(\\n    [\\n        houseprices,\\n        pd.get_dummies(houseprices.mszoning, prefix=\\\"mszoning\\\", drop_first=True),\\n    ],\\n    axis=1,\\n)\\nhouseprices = pd.concat(\\n    [houseprices, pd.get_dummies(houseprices.street, prefix=\\\"street\\\", drop_first=True)],\\n    axis=1,\\n)\\ndummy_column_names = list(\\n    pd.get_dummies(houseprices.mszoning, prefix=\\\"mszoning\\\", drop_first=True).columns\\n)\\ndummy_column_names = dummy_column_names + list(\\n    pd.get_dummies(houseprices.street, prefix=\\\"street\\\", drop_first=True).columns\\n)\";\n",
       "                var nbb_cells = Jupyter.notebook.get_cells();\n",
       "                for (var i = 0; i < nbb_cells.length; ++i) {\n",
       "                    if (nbb_cells[i].input_prompt_number == nbb_cell_id) {\n",
       "                        if (nbb_cells[i].get_text() == nbb_unformatted_code) {\n",
       "                             nbb_cells[i].set_text(nbb_formatted_code);\n",
       "                        }\n",
       "                        break;\n",
       "                    }\n",
       "                }\n",
       "            }, 500);\n",
       "            "
      ],
      "text/plain": [
       "<IPython.core.display.Javascript object>"
      ]
     },
     "metadata": {},
     "output_type": "display_data"
    }
   ],
   "source": [
    "# used code from answer key for times sake\n",
    "\n",
    "houseprices = pd.concat(\n",
    "    [\n",
    "        houseprices,\n",
    "        pd.get_dummies(houseprices.mszoning, prefix=\"mszoning\", drop_first=True),\n",
    "    ],\n",
    "    axis=1,\n",
    ")\n",
    "houseprices = pd.concat(\n",
    "    [houseprices, pd.get_dummies(houseprices.street, prefix=\"street\", drop_first=True)],\n",
    "    axis=1,\n",
    ")\n",
    "dummy_column_names = list(\n",
    "    pd.get_dummies(houseprices.mszoning, prefix=\"mszoning\", drop_first=True).columns\n",
    ")\n",
    "dummy_column_names = dummy_column_names + list(\n",
    "    pd.get_dummies(houseprices.street, prefix=\"street\", drop_first=True).columns\n",
    ")"
   ]
  },
  {
   "cell_type": "code",
   "execution_count": 65,
   "metadata": {},
   "outputs": [
    {
     "data": {
      "text/html": [
       "<table class=\"simpletable\">\n",
       "<caption>OLS Regression Results</caption>\n",
       "<tr>\n",
       "  <th>Dep. Variable:</th>        <td>saleprice</td>    <th>  R-squared:         </th> <td>   0.766</td> \n",
       "</tr>\n",
       "<tr>\n",
       "  <th>Model:</th>                   <td>OLS</td>       <th>  Adj. R-squared:    </th> <td>   0.764</td> \n",
       "</tr>\n",
       "<tr>\n",
       "  <th>Method:</th>             <td>Least Squares</td>  <th>  F-statistic:       </th> <td>   457.9</td> \n",
       "</tr>\n",
       "<tr>\n",
       "  <th>Date:</th>             <td>Tue, 01 Sep 2020</td> <th>  Prob (F-statistic):</th>  <td>  0.00</td>  \n",
       "</tr>\n",
       "<tr>\n",
       "  <th>Time:</th>                 <td>20:55:43</td>     <th>  Log-Likelihood:    </th> <td> -16907.</td> \n",
       "</tr>\n",
       "<tr>\n",
       "  <th>No. Observations:</th>      <td>  1412</td>      <th>  AIC:               </th> <td>3.384e+04</td>\n",
       "</tr>\n",
       "<tr>\n",
       "  <th>Df Residuals:</th>          <td>  1401</td>      <th>  BIC:               </th> <td>3.389e+04</td>\n",
       "</tr>\n",
       "<tr>\n",
       "  <th>Df Model:</th>              <td>    10</td>      <th>                     </th>     <td> </td>    \n",
       "</tr>\n",
       "<tr>\n",
       "  <th>Covariance Type:</th>      <td>nonrobust</td>    <th>                     </th>     <td> </td>    \n",
       "</tr>\n",
       "</table>\n",
       "<table class=\"simpletable\">\n",
       "<tr>\n",
       "       <td></td>          <th>coef</th>     <th>std err</th>      <th>t</th>      <th>P>|t|</th>  <th>[0.025</th>    <th>0.975]</th>  \n",
       "</tr>\n",
       "<tr>\n",
       "  <th>const</th>       <td>-1.195e+05</td> <td> 1.82e+04</td> <td>   -6.582</td> <td> 0.000</td> <td>-1.55e+05</td> <td>-8.39e+04</td>\n",
       "</tr>\n",
       "<tr>\n",
       "  <th>overallqual</th> <td> 2.358e+04</td> <td> 1121.150</td> <td>   21.032</td> <td> 0.000</td> <td> 2.14e+04</td> <td> 2.58e+04</td>\n",
       "</tr>\n",
       "<tr>\n",
       "  <th>grlivarea</th>   <td>   45.5603</td> <td>    2.534</td> <td>   17.976</td> <td> 0.000</td> <td>   40.588</td> <td>   50.532</td>\n",
       "</tr>\n",
       "<tr>\n",
       "  <th>garagecars</th>  <td> 1.375e+04</td> <td> 3055.048</td> <td>    4.499</td> <td> 0.000</td> <td> 7752.690</td> <td> 1.97e+04</td>\n",
       "</tr>\n",
       "<tr>\n",
       "  <th>garagearea</th>  <td>   14.4560</td> <td>   10.591</td> <td>    1.365</td> <td> 0.173</td> <td>   -6.320</td> <td>   35.232</td>\n",
       "</tr>\n",
       "<tr>\n",
       "  <th>totalbsmtsf</th> <td>   31.0437</td> <td>    3.265</td> <td>    9.507</td> <td> 0.000</td> <td>   24.638</td> <td>   37.449</td>\n",
       "</tr>\n",
       "<tr>\n",
       "  <th>mszoning_FV</th> <td> 1.217e+04</td> <td> 6903.187</td> <td>    1.763</td> <td> 0.078</td> <td>-1369.598</td> <td> 2.57e+04</td>\n",
       "</tr>\n",
       "<tr>\n",
       "  <th>mszoning_FV</th> <td> 1.217e+04</td> <td> 6903.187</td> <td>    1.763</td> <td> 0.078</td> <td>-1369.598</td> <td> 2.57e+04</td>\n",
       "</tr>\n",
       "<tr>\n",
       "  <th>mszoning_RH</th> <td> 6297.9655</td> <td> 8063.249</td> <td>    0.781</td> <td> 0.435</td> <td>-9519.378</td> <td> 2.21e+04</td>\n",
       "</tr>\n",
       "<tr>\n",
       "  <th>mszoning_RH</th> <td> 6297.9655</td> <td> 8063.249</td> <td>    0.781</td> <td> 0.435</td> <td>-9519.378</td> <td> 2.21e+04</td>\n",
       "</tr>\n",
       "<tr>\n",
       "  <th>mszoning_RL</th> <td> 1.334e+04</td> <td> 6401.726</td> <td>    2.084</td> <td> 0.037</td> <td>  780.471</td> <td> 2.59e+04</td>\n",
       "</tr>\n",
       "<tr>\n",
       "  <th>mszoning_RL</th> <td> 1.334e+04</td> <td> 6401.726</td> <td>    2.084</td> <td> 0.037</td> <td>  780.471</td> <td> 2.59e+04</td>\n",
       "</tr>\n",
       "<tr>\n",
       "  <th>mszoning_RM</th> <td> 4089.8879</td> <td> 6480.049</td> <td>    0.631</td> <td> 0.528</td> <td>-8621.757</td> <td> 1.68e+04</td>\n",
       "</tr>\n",
       "<tr>\n",
       "  <th>mszoning_RM</th> <td> 4089.8879</td> <td> 6480.049</td> <td>    0.631</td> <td> 0.528</td> <td>-8621.757</td> <td> 1.68e+04</td>\n",
       "</tr>\n",
       "<tr>\n",
       "  <th>street_Pave</th> <td> -153.0119</td> <td> 8185.592</td> <td>   -0.019</td> <td> 0.985</td> <td>-1.62e+04</td> <td> 1.59e+04</td>\n",
       "</tr>\n",
       "<tr>\n",
       "  <th>street_Pave</th> <td> -153.0119</td> <td> 8185.592</td> <td>   -0.019</td> <td> 0.985</td> <td>-1.62e+04</td> <td> 1.59e+04</td>\n",
       "</tr>\n",
       "</table>\n",
       "<table class=\"simpletable\">\n",
       "<tr>\n",
       "  <th>Omnibus:</th>       <td>432.931</td> <th>  Durbin-Watson:     </th> <td>   1.971</td> \n",
       "</tr>\n",
       "<tr>\n",
       "  <th>Prob(Omnibus):</th> <td> 0.000</td>  <th>  Jarque-Bera (JB):  </th> <td>45506.112</td>\n",
       "</tr>\n",
       "<tr>\n",
       "  <th>Skew:</th>          <td>-0.323</td>  <th>  Prob(JB):          </th> <td>    0.00</td> \n",
       "</tr>\n",
       "<tr>\n",
       "  <th>Kurtosis:</th>      <td>30.804</td>  <th>  Cond. No.          </th> <td>3.10e+20</td> \n",
       "</tr>\n",
       "</table><br/><br/>Warnings:<br/>[1] Standard Errors assume that the covariance matrix of the errors is correctly specified.<br/>[2] The smallest eigenvalue is 5.96e-32. This might indicate that there are<br/>strong multicollinearity problems or that the design matrix is singular."
      ],
      "text/plain": [
       "<class 'statsmodels.iolib.summary.Summary'>\n",
       "\"\"\"\n",
       "                            OLS Regression Results                            \n",
       "==============================================================================\n",
       "Dep. Variable:              saleprice   R-squared:                       0.766\n",
       "Model:                            OLS   Adj. R-squared:                  0.764\n",
       "Method:                 Least Squares   F-statistic:                     457.9\n",
       "Date:                Tue, 01 Sep 2020   Prob (F-statistic):               0.00\n",
       "Time:                        20:55:43   Log-Likelihood:                -16907.\n",
       "No. Observations:                1412   AIC:                         3.384e+04\n",
       "Df Residuals:                    1401   BIC:                         3.389e+04\n",
       "Df Model:                          10                                         \n",
       "Covariance Type:            nonrobust                                         \n",
       "===============================================================================\n",
       "                  coef    std err          t      P>|t|      [0.025      0.975]\n",
       "-------------------------------------------------------------------------------\n",
       "const       -1.195e+05   1.82e+04     -6.582      0.000   -1.55e+05   -8.39e+04\n",
       "overallqual  2.358e+04   1121.150     21.032      0.000    2.14e+04    2.58e+04\n",
       "grlivarea      45.5603      2.534     17.976      0.000      40.588      50.532\n",
       "garagecars   1.375e+04   3055.048      4.499      0.000    7752.690    1.97e+04\n",
       "garagearea     14.4560     10.591      1.365      0.173      -6.320      35.232\n",
       "totalbsmtsf    31.0437      3.265      9.507      0.000      24.638      37.449\n",
       "mszoning_FV  1.217e+04   6903.187      1.763      0.078   -1369.598    2.57e+04\n",
       "mszoning_FV  1.217e+04   6903.187      1.763      0.078   -1369.598    2.57e+04\n",
       "mszoning_RH  6297.9655   8063.249      0.781      0.435   -9519.378    2.21e+04\n",
       "mszoning_RH  6297.9655   8063.249      0.781      0.435   -9519.378    2.21e+04\n",
       "mszoning_RL  1.334e+04   6401.726      2.084      0.037     780.471    2.59e+04\n",
       "mszoning_RL  1.334e+04   6401.726      2.084      0.037     780.471    2.59e+04\n",
       "mszoning_RM  4089.8879   6480.049      0.631      0.528   -8621.757    1.68e+04\n",
       "mszoning_RM  4089.8879   6480.049      0.631      0.528   -8621.757    1.68e+04\n",
       "street_Pave  -153.0119   8185.592     -0.019      0.985   -1.62e+04    1.59e+04\n",
       "street_Pave  -153.0119   8185.592     -0.019      0.985   -1.62e+04    1.59e+04\n",
       "==============================================================================\n",
       "Omnibus:                      432.931   Durbin-Watson:                   1.971\n",
       "Prob(Omnibus):                  0.000   Jarque-Bera (JB):            45506.112\n",
       "Skew:                          -0.323   Prob(JB):                         0.00\n",
       "Kurtosis:                      30.804   Cond. No.                     3.10e+20\n",
       "==============================================================================\n",
       "\n",
       "Warnings:\n",
       "[1] Standard Errors assume that the covariance matrix of the errors is correctly specified.\n",
       "[2] The smallest eigenvalue is 5.96e-32. This might indicate that there are\n",
       "strong multicollinearity problems or that the design matrix is singular.\n",
       "\"\"\""
      ]
     },
     "execution_count": 65,
     "metadata": {},
     "output_type": "execute_result"
    },
    {
     "data": {
      "application/javascript": [
       "\n",
       "            setTimeout(function() {\n",
       "                var nbb_cell_id = 65;\n",
       "                var nbb_unformatted_code = \"# Y is the target variable\\nY = houseprices[\\\"saleprice\\\"]\\n# X is the feature set\\nX = houseprices[\\n    [\\\"overallqual\\\", \\\"grlivarea\\\", \\\"garagecars\\\", \\\"garagearea\\\", \\\"totalbsmtsf\\\"]\\n    + dummy_column_names\\n]\\n\\nX = sm.add_constant(X)\\n\\nresults = sm.OLS(Y, X).fit()\\n\\nresults.summary()\";\n",
       "                var nbb_formatted_code = \"# Y is the target variable\\nY = houseprices[\\\"saleprice\\\"]\\n# X is the feature set\\nX = houseprices[\\n    [\\\"overallqual\\\", \\\"grlivarea\\\", \\\"garagecars\\\", \\\"garagearea\\\", \\\"totalbsmtsf\\\"]\\n    + dummy_column_names\\n]\\n\\nX = sm.add_constant(X)\\n\\nresults = sm.OLS(Y, X).fit()\\n\\nresults.summary()\";\n",
       "                var nbb_cells = Jupyter.notebook.get_cells();\n",
       "                for (var i = 0; i < nbb_cells.length; ++i) {\n",
       "                    if (nbb_cells[i].input_prompt_number == nbb_cell_id) {\n",
       "                        if (nbb_cells[i].get_text() == nbb_unformatted_code) {\n",
       "                             nbb_cells[i].set_text(nbb_formatted_code);\n",
       "                        }\n",
       "                        break;\n",
       "                    }\n",
       "                }\n",
       "            }, 500);\n",
       "            "
      ],
      "text/plain": [
       "<IPython.core.display.Javascript object>"
      ]
     },
     "metadata": {},
     "output_type": "display_data"
    },
    {
     "data": {
      "application/javascript": [
       "\n",
       "            setTimeout(function() {\n",
       "                var nbb_cell_id = 65;\n",
       "                var nbb_unformatted_code = \"# Y is the target variable\\nY = houseprices[\\\"saleprice\\\"]\\n# X is the feature set\\nX = houseprices[\\n    [\\\"overallqual\\\", \\\"grlivarea\\\", \\\"garagecars\\\", \\\"garagearea\\\", \\\"totalbsmtsf\\\"]\\n    + dummy_column_names\\n]\\n\\nX = sm.add_constant(X)\\n\\nresults = sm.OLS(Y, X).fit()\\n\\nresults.summary()\";\n",
       "                var nbb_formatted_code = \"# Y is the target variable\\nY = houseprices[\\\"saleprice\\\"]\\n# X is the feature set\\nX = houseprices[\\n    [\\\"overallqual\\\", \\\"grlivarea\\\", \\\"garagecars\\\", \\\"garagearea\\\", \\\"totalbsmtsf\\\"]\\n    + dummy_column_names\\n]\\n\\nX = sm.add_constant(X)\\n\\nresults = sm.OLS(Y, X).fit()\\n\\nresults.summary()\";\n",
       "                var nbb_cells = Jupyter.notebook.get_cells();\n",
       "                for (var i = 0; i < nbb_cells.length; ++i) {\n",
       "                    if (nbb_cells[i].input_prompt_number == nbb_cell_id) {\n",
       "                        if (nbb_cells[i].get_text() == nbb_unformatted_code) {\n",
       "                             nbb_cells[i].set_text(nbb_formatted_code);\n",
       "                        }\n",
       "                        break;\n",
       "                    }\n",
       "                }\n",
       "            }, 500);\n",
       "            "
      ],
      "text/plain": [
       "<IPython.core.display.Javascript object>"
      ]
     },
     "metadata": {},
     "output_type": "display_data"
    }
   ],
   "source": [
    "# Y is the target variable\n",
    "Y = houseprices[\"saleprice\"]\n",
    "# X is the feature set\n",
    "X = houseprices[\n",
    "    [\"overallqual\", \"grlivarea\", \"garagecars\", \"garagearea\", \"totalbsmtsf\"]\n",
    "    + dummy_column_names\n",
    "]\n",
    "\n",
    "X = sm.add_constant(X)\n",
    "\n",
    "results = sm.OLS(Y, X).fit()\n",
    "\n",
    "results.summary()"
   ]
  },
  {
   "cell_type": "markdown",
   "metadata": {},
   "source": [
    "* Insignificant features: garagearea, all mszoning fields, and streetpave\n",
    "* Overallqual: each unit results in a $23,580 increase in house price\n",
    "* grlivarea: each unit results in a $45.56 increase in house price\n",
    "* garagecars: each unit results in a $13,750 increase in house price\n",
    "* totalbsmtsf: each unit results in a $31.04 increase in house price\n"
   ]
  },
  {
   "cell_type": "code",
   "execution_count": 66,
   "metadata": {},
   "outputs": [
    {
     "data": {
      "application/javascript": [
       "\n",
       "            setTimeout(function() {\n",
       "                var nbb_cell_id = 66;\n",
       "                var nbb_unformatted_code = \"insig_col = [\\n    \\\"garagearea\\\",\\n    \\\"mszoning_FV\\\",\\n    \\\"mszoning_FV\\\",\\n    \\\"mszoning_RH\\\",\\n    \\\"mszoning_RH\\\",\\n    \\\"mszoning_RM\\\",\\n    \\\"mszoning_RM\\\",\\n    \\\"street_Pave\\\",\\n    \\\"street_Pave\\\",\\n]\";\n",
       "                var nbb_formatted_code = \"insig_col = [\\n    \\\"garagearea\\\",\\n    \\\"mszoning_FV\\\",\\n    \\\"mszoning_FV\\\",\\n    \\\"mszoning_RH\\\",\\n    \\\"mszoning_RH\\\",\\n    \\\"mszoning_RM\\\",\\n    \\\"mszoning_RM\\\",\\n    \\\"street_Pave\\\",\\n    \\\"street_Pave\\\",\\n]\";\n",
       "                var nbb_cells = Jupyter.notebook.get_cells();\n",
       "                for (var i = 0; i < nbb_cells.length; ++i) {\n",
       "                    if (nbb_cells[i].input_prompt_number == nbb_cell_id) {\n",
       "                        if (nbb_cells[i].get_text() == nbb_unformatted_code) {\n",
       "                             nbb_cells[i].set_text(nbb_formatted_code);\n",
       "                        }\n",
       "                        break;\n",
       "                    }\n",
       "                }\n",
       "            }, 500);\n",
       "            "
      ],
      "text/plain": [
       "<IPython.core.display.Javascript object>"
      ]
     },
     "metadata": {},
     "output_type": "display_data"
    },
    {
     "data": {
      "application/javascript": [
       "\n",
       "            setTimeout(function() {\n",
       "                var nbb_cell_id = 66;\n",
       "                var nbb_unformatted_code = \"insig_col = [\\n    \\\"garagearea\\\",\\n    \\\"mszoning_FV\\\",\\n    \\\"mszoning_FV\\\",\\n    \\\"mszoning_RH\\\",\\n    \\\"mszoning_RH\\\",\\n    \\\"mszoning_RM\\\",\\n    \\\"mszoning_RM\\\",\\n    \\\"street_Pave\\\",\\n    \\\"street_Pave\\\",\\n]\";\n",
       "                var nbb_formatted_code = \"insig_col = [\\n    \\\"garagearea\\\",\\n    \\\"mszoning_FV\\\",\\n    \\\"mszoning_FV\\\",\\n    \\\"mszoning_RH\\\",\\n    \\\"mszoning_RH\\\",\\n    \\\"mszoning_RM\\\",\\n    \\\"mszoning_RM\\\",\\n    \\\"street_Pave\\\",\\n    \\\"street_Pave\\\",\\n]\";\n",
       "                var nbb_cells = Jupyter.notebook.get_cells();\n",
       "                for (var i = 0; i < nbb_cells.length; ++i) {\n",
       "                    if (nbb_cells[i].input_prompt_number == nbb_cell_id) {\n",
       "                        if (nbb_cells[i].get_text() == nbb_unformatted_code) {\n",
       "                             nbb_cells[i].set_text(nbb_formatted_code);\n",
       "                        }\n",
       "                        break;\n",
       "                    }\n",
       "                }\n",
       "            }, 500);\n",
       "            "
      ],
      "text/plain": [
       "<IPython.core.display.Javascript object>"
      ]
     },
     "metadata": {},
     "output_type": "display_data"
    }
   ],
   "source": [
    "insig_col = [\n",
    "    \"garagearea\",\n",
    "    \"mszoning_FV\",\n",
    "    \"mszoning_FV\",\n",
    "    \"mszoning_RH\",\n",
    "    \"mszoning_RH\",\n",
    "    \"mszoning_RM\",\n",
    "    \"mszoning_RM\",\n",
    "    \"street_Pave\",\n",
    "    \"street_Pave\",\n",
    "]"
   ]
  },
  {
   "cell_type": "code",
   "execution_count": 67,
   "metadata": {},
   "outputs": [
    {
     "data": {
      "application/javascript": [
       "\n",
       "            setTimeout(function() {\n",
       "                var nbb_cell_id = 67;\n",
       "                var nbb_unformatted_code = \"X = X.drop(columns=insig_col)\";\n",
       "                var nbb_formatted_code = \"X = X.drop(columns=insig_col)\";\n",
       "                var nbb_cells = Jupyter.notebook.get_cells();\n",
       "                for (var i = 0; i < nbb_cells.length; ++i) {\n",
       "                    if (nbb_cells[i].input_prompt_number == nbb_cell_id) {\n",
       "                        if (nbb_cells[i].get_text() == nbb_unformatted_code) {\n",
       "                             nbb_cells[i].set_text(nbb_formatted_code);\n",
       "                        }\n",
       "                        break;\n",
       "                    }\n",
       "                }\n",
       "            }, 500);\n",
       "            "
      ],
      "text/plain": [
       "<IPython.core.display.Javascript object>"
      ]
     },
     "metadata": {},
     "output_type": "display_data"
    },
    {
     "data": {
      "application/javascript": [
       "\n",
       "            setTimeout(function() {\n",
       "                var nbb_cell_id = 67;\n",
       "                var nbb_unformatted_code = \"X = X.drop(columns=insig_col)\";\n",
       "                var nbb_formatted_code = \"X = X.drop(columns=insig_col)\";\n",
       "                var nbb_cells = Jupyter.notebook.get_cells();\n",
       "                for (var i = 0; i < nbb_cells.length; ++i) {\n",
       "                    if (nbb_cells[i].input_prompt_number == nbb_cell_id) {\n",
       "                        if (nbb_cells[i].get_text() == nbb_unformatted_code) {\n",
       "                             nbb_cells[i].set_text(nbb_formatted_code);\n",
       "                        }\n",
       "                        break;\n",
       "                    }\n",
       "                }\n",
       "            }, 500);\n",
       "            "
      ],
      "text/plain": [
       "<IPython.core.display.Javascript object>"
      ]
     },
     "metadata": {},
     "output_type": "display_data"
    }
   ],
   "source": [
    "X = X.drop(columns=insig_col)"
   ]
  },
  {
   "cell_type": "code",
   "execution_count": 69,
   "metadata": {},
   "outputs": [
    {
     "data": {
      "text/html": [
       "<table class=\"simpletable\">\n",
       "<caption>OLS Regression Results</caption>\n",
       "<tr>\n",
       "  <th>Dep. Variable:</th>        <td>saleprice</td>    <th>  R-squared:         </th> <td>   0.764</td> \n",
       "</tr>\n",
       "<tr>\n",
       "  <th>Model:</th>                   <td>OLS</td>       <th>  Adj. R-squared:    </th> <td>   0.763</td> \n",
       "</tr>\n",
       "<tr>\n",
       "  <th>Method:</th>             <td>Least Squares</td>  <th>  F-statistic:       </th> <td>   909.6</td> \n",
       "</tr>\n",
       "<tr>\n",
       "  <th>Date:</th>             <td>Tue, 01 Sep 2020</td> <th>  Prob (F-statistic):</th>  <td>  0.00</td>  \n",
       "</tr>\n",
       "<tr>\n",
       "  <th>Time:</th>                 <td>20:56:09</td>     <th>  Log-Likelihood:    </th> <td> -16912.</td> \n",
       "</tr>\n",
       "<tr>\n",
       "  <th>No. Observations:</th>      <td>  1412</td>      <th>  AIC:               </th> <td>3.384e+04</td>\n",
       "</tr>\n",
       "<tr>\n",
       "  <th>Df Residuals:</th>          <td>  1406</td>      <th>  BIC:               </th> <td>3.387e+04</td>\n",
       "</tr>\n",
       "<tr>\n",
       "  <th>Df Model:</th>              <td>     5</td>      <th>                     </th>     <td> </td>    \n",
       "</tr>\n",
       "<tr>\n",
       "  <th>Covariance Type:</th>      <td>nonrobust</td>    <th>                     </th>     <td> </td>    \n",
       "</tr>\n",
       "</table>\n",
       "<table class=\"simpletable\">\n",
       "<tr>\n",
       "       <td></td>          <th>coef</th>     <th>std err</th>      <th>t</th>      <th>P>|t|</th>  <th>[0.025</th>    <th>0.975]</th>  \n",
       "</tr>\n",
       "<tr>\n",
       "  <th>const</th>       <td>-1.119e+05</td> <td> 4986.723</td> <td>  -22.432</td> <td> 0.000</td> <td>-1.22e+05</td> <td>-1.02e+05</td>\n",
       "</tr>\n",
       "<tr>\n",
       "  <th>overallqual</th> <td> 2.422e+04</td> <td> 1091.004</td> <td>   22.202</td> <td> 0.000</td> <td> 2.21e+04</td> <td> 2.64e+04</td>\n",
       "</tr>\n",
       "<tr>\n",
       "  <th>grlivarea</th>   <td>   45.2722</td> <td>    2.521</td> <td>   17.955</td> <td> 0.000</td> <td>   40.326</td> <td>   50.218</td>\n",
       "</tr>\n",
       "<tr>\n",
       "  <th>garagecars</th>  <td> 1.744e+04</td> <td> 1788.309</td> <td>    9.750</td> <td> 0.000</td> <td> 1.39e+04</td> <td> 2.09e+04</td>\n",
       "</tr>\n",
       "<tr>\n",
       "  <th>totalbsmtsf</th> <td>   31.6021</td> <td>    3.182</td> <td>    9.932</td> <td> 0.000</td> <td>   25.361</td> <td>   37.844</td>\n",
       "</tr>\n",
       "<tr>\n",
       "  <th>mszoning_RL</th> <td> 7459.0780</td> <td> 1316.796</td> <td>    5.665</td> <td> 0.000</td> <td> 4875.982</td> <td>    1e+04</td>\n",
       "</tr>\n",
       "<tr>\n",
       "  <th>mszoning_RL</th> <td> 7459.0780</td> <td> 1316.796</td> <td>    5.665</td> <td> 0.000</td> <td> 4875.982</td> <td>    1e+04</td>\n",
       "</tr>\n",
       "</table>\n",
       "<table class=\"simpletable\">\n",
       "<tr>\n",
       "  <th>Omnibus:</th>       <td>419.459</td> <th>  Durbin-Watson:     </th> <td>   1.972</td> \n",
       "</tr>\n",
       "<tr>\n",
       "  <th>Prob(Omnibus):</th> <td> 0.000</td>  <th>  Jarque-Bera (JB):  </th> <td>39813.838</td>\n",
       "</tr>\n",
       "<tr>\n",
       "  <th>Skew:</th>          <td>-0.295</td>  <th>  Prob(JB):          </th> <td>    0.00</td> \n",
       "</tr>\n",
       "<tr>\n",
       "  <th>Kurtosis:</th>      <td>29.007</td>  <th>  Cond. No.          </th> <td>3.34e+19</td> \n",
       "</tr>\n",
       "</table><br/><br/>Warnings:<br/>[1] Standard Errors assume that the covariance matrix of the errors is correctly specified.<br/>[2] The smallest eigenvalue is 4.84e-30. This might indicate that there are<br/>strong multicollinearity problems or that the design matrix is singular."
      ],
      "text/plain": [
       "<class 'statsmodels.iolib.summary.Summary'>\n",
       "\"\"\"\n",
       "                            OLS Regression Results                            \n",
       "==============================================================================\n",
       "Dep. Variable:              saleprice   R-squared:                       0.764\n",
       "Model:                            OLS   Adj. R-squared:                  0.763\n",
       "Method:                 Least Squares   F-statistic:                     909.6\n",
       "Date:                Tue, 01 Sep 2020   Prob (F-statistic):               0.00\n",
       "Time:                        20:56:09   Log-Likelihood:                -16912.\n",
       "No. Observations:                1412   AIC:                         3.384e+04\n",
       "Df Residuals:                    1406   BIC:                         3.387e+04\n",
       "Df Model:                           5                                         \n",
       "Covariance Type:            nonrobust                                         \n",
       "===============================================================================\n",
       "                  coef    std err          t      P>|t|      [0.025      0.975]\n",
       "-------------------------------------------------------------------------------\n",
       "const       -1.119e+05   4986.723    -22.432      0.000   -1.22e+05   -1.02e+05\n",
       "overallqual  2.422e+04   1091.004     22.202      0.000    2.21e+04    2.64e+04\n",
       "grlivarea      45.2722      2.521     17.955      0.000      40.326      50.218\n",
       "garagecars   1.744e+04   1788.309      9.750      0.000    1.39e+04    2.09e+04\n",
       "totalbsmtsf    31.6021      3.182      9.932      0.000      25.361      37.844\n",
       "mszoning_RL  7459.0780   1316.796      5.665      0.000    4875.982       1e+04\n",
       "mszoning_RL  7459.0780   1316.796      5.665      0.000    4875.982       1e+04\n",
       "==============================================================================\n",
       "Omnibus:                      419.459   Durbin-Watson:                   1.972\n",
       "Prob(Omnibus):                  0.000   Jarque-Bera (JB):            39813.838\n",
       "Skew:                          -0.295   Prob(JB):                         0.00\n",
       "Kurtosis:                      29.007   Cond. No.                     3.34e+19\n",
       "==============================================================================\n",
       "\n",
       "Warnings:\n",
       "[1] Standard Errors assume that the covariance matrix of the errors is correctly specified.\n",
       "[2] The smallest eigenvalue is 4.84e-30. This might indicate that there are\n",
       "strong multicollinearity problems or that the design matrix is singular.\n",
       "\"\"\""
      ]
     },
     "execution_count": 69,
     "metadata": {},
     "output_type": "execute_result"
    },
    {
     "data": {
      "application/javascript": [
       "\n",
       "            setTimeout(function() {\n",
       "                var nbb_cell_id = 69;\n",
       "                var nbb_unformatted_code = \"X = sm.add_constant(X)\\n\\nresults = sm.OLS(Y, X).fit()\\n\\nresults.summary()\";\n",
       "                var nbb_formatted_code = \"X = sm.add_constant(X)\\n\\nresults = sm.OLS(Y, X).fit()\\n\\nresults.summary()\";\n",
       "                var nbb_cells = Jupyter.notebook.get_cells();\n",
       "                for (var i = 0; i < nbb_cells.length; ++i) {\n",
       "                    if (nbb_cells[i].input_prompt_number == nbb_cell_id) {\n",
       "                        if (nbb_cells[i].get_text() == nbb_unformatted_code) {\n",
       "                             nbb_cells[i].set_text(nbb_formatted_code);\n",
       "                        }\n",
       "                        break;\n",
       "                    }\n",
       "                }\n",
       "            }, 500);\n",
       "            "
      ],
      "text/plain": [
       "<IPython.core.display.Javascript object>"
      ]
     },
     "metadata": {},
     "output_type": "display_data"
    },
    {
     "data": {
      "application/javascript": [
       "\n",
       "            setTimeout(function() {\n",
       "                var nbb_cell_id = 69;\n",
       "                var nbb_unformatted_code = \"X = sm.add_constant(X)\\n\\nresults = sm.OLS(Y, X).fit()\\n\\nresults.summary()\";\n",
       "                var nbb_formatted_code = \"X = sm.add_constant(X)\\n\\nresults = sm.OLS(Y, X).fit()\\n\\nresults.summary()\";\n",
       "                var nbb_cells = Jupyter.notebook.get_cells();\n",
       "                for (var i = 0; i < nbb_cells.length; ++i) {\n",
       "                    if (nbb_cells[i].input_prompt_number == nbb_cell_id) {\n",
       "                        if (nbb_cells[i].get_text() == nbb_unformatted_code) {\n",
       "                             nbb_cells[i].set_text(nbb_formatted_code);\n",
       "                        }\n",
       "                        break;\n",
       "                    }\n",
       "                }\n",
       "            }, 500);\n",
       "            "
      ],
      "text/plain": [
       "<IPython.core.display.Javascript object>"
      ]
     },
     "metadata": {},
     "output_type": "display_data"
    }
   ],
   "source": [
    "X = sm.add_constant(X)\n",
    "\n",
    "results = sm.OLS(Y, X).fit()\n",
    "\n",
    "results.summary()"
   ]
  },
  {
   "cell_type": "code",
   "execution_count": null,
   "metadata": {},
   "outputs": [],
   "source": []
  }
 ],
 "metadata": {
  "kernelspec": {
   "display_name": "Python 3",
   "language": "python",
   "name": "python3"
  },
  "language_info": {
   "codemirror_mode": {
    "name": "ipython",
    "version": 3
   },
   "file_extension": ".py",
   "mimetype": "text/x-python",
   "name": "python",
   "nbconvert_exporter": "python",
   "pygments_lexer": "ipython3",
   "version": "3.7.6"
  }
 },
 "nbformat": 4,
 "nbformat_minor": 4
}
