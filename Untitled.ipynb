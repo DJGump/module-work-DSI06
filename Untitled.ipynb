{
 "cells": [
  {
   "cell_type": "markdown",
   "metadata": {},
   "source": [
    "# Pair Work 7-23\n",
    "\n",
    "Dillan Gump\n",
    "\n",
    "* Q1: Identify 3 scenarios in your everyday life where you use probability.\n",
    "\n",
    "  1. Stocks trading: technical analysis, news, market crash. Mixing empirical and subjective probabilities\n",
    "\n",
    "  2. Probability of getting pulled over. Take the same way home, so I speed. But, I know they are no speed traps, and have never gotten pulled, so my prior probability suggests I'm never going fast enough to get pulled over. Very subjective.\n",
    "\n",
    "  3. Is food bad past expiry dates? If it doesn't smell, might still be good. If it does smell, definitely bad. \n",
    "\n",
    "* Using the formula you learned to calculate probabilities, approximate the probabilities of the events in each of those 3 scenarios.\n",
    "\n",
    "  * Stock trading: P(gains) = #_gains / #_trades\n",
    "  * Driving: p(pulled_over) = #_pulled / times_driven\n",
    "      * I've only been pulled over once, and a comparatively infite more number of times, so p(pulled_over) = 0\n",
    "      * p(pulled_over | speeding) can be used for a Bayes analysis. \n",
    "  * Food expiration: \n",
    "      * p(spoiled | smells) = p(smells | spoiled) * p(spoiled) / P(smells)\n",
    "      * p(smells | spoils) = .95\n",
    "      * p(spoiled) = 0.5\n",
    "      * p(smells) = 0.25"
   ]
  },
  {
   "cell_type": "code",
   "execution_count": 21,
   "metadata": {},
   "outputs": [
    {
     "name": "stdout",
     "output_type": "stream",
     "text": [
      "0.12\n"
     ]
    }
   ],
   "source": [
    "# Bayes for p(spoiled | smells)\n",
    "# arbitrary statistics\n",
    "smells_g_spoiled = 0.3\n",
    "spoiled = 0.02\n",
    "smells = 0.05\n",
    "prob_sp_g_sm = smells_g_spoiled * spoiled / smells\n",
    "print(prob_sp_g_sm)"
   ]
  },
  {
   "cell_type": "markdown",
   "metadata": {},
   "source": [
    "* "
   ]
  }
 ],
 "metadata": {
  "kernelspec": {
   "display_name": "Python 3",
   "language": "python",
   "name": "python3"
  },
  "language_info": {
   "codemirror_mode": {
    "name": "ipython",
    "version": 3
   },
   "file_extension": ".py",
   "mimetype": "text/x-python",
   "name": "python",
   "nbconvert_exporter": "python",
   "pygments_lexer": "ipython3",
   "version": "3.7.6"
  }
 },
 "nbformat": 4,
 "nbformat_minor": 4
}
