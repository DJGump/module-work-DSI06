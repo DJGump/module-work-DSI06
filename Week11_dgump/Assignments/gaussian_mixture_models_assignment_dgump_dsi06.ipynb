{
 "cells": [
  {
   "cell_type": "code",
   "execution_count": 1,
   "metadata": {},
   "outputs": [
    {
     "data": {
      "application/javascript": [
       "\n",
       "            setTimeout(function() {\n",
       "                var nbb_cell_id = 1;\n",
       "                var nbb_unformatted_code = \"%reload_ext nb_black\";\n",
       "                var nbb_formatted_code = \"%reload_ext nb_black\";\n",
       "                var nbb_cells = Jupyter.notebook.get_cells();\n",
       "                for (var i = 0; i < nbb_cells.length; ++i) {\n",
       "                    if (nbb_cells[i].input_prompt_number == nbb_cell_id) {\n",
       "                        if (nbb_cells[i].get_text() == nbb_unformatted_code) {\n",
       "                             nbb_cells[i].set_text(nbb_formatted_code);\n",
       "                        }\n",
       "                        break;\n",
       "                    }\n",
       "                }\n",
       "            }, 500);\n",
       "            "
      ],
      "text/plain": [
       "<IPython.core.display.Javascript object>"
      ]
     },
     "metadata": {},
     "output_type": "display_data"
    }
   ],
   "source": [
    "%reload_ext nb_black"
   ]
  },
  {
   "cell_type": "code",
   "execution_count": 2,
   "metadata": {},
   "outputs": [
    {
     "data": {
      "application/javascript": [
       "\n",
       "            setTimeout(function() {\n",
       "                var nbb_cell_id = 2;\n",
       "                var nbb_unformatted_code = \"import pandas as pd\\nimport numpy as np\\n\\nfrom tqdm.notebook import tqdm\\n\\nfrom scipy import stats\\n\\nfrom sklearn.mixture import GaussianMixture\\nfrom sklearn.cluster import KMeans, MeanShift, estimate_bandwidth\\nfrom sklearn.preprocessing import StandardScaler, MinMaxScaler\\nfrom sklearn import datasets, metrics\\n\\nimport plotly.express as px\\nimport seaborn as sns\\nimport matplotlib.pyplot as plt\\n\\nfrom sqlalchemy import create_engine\\n\\n%matplotlib inline\";\n",
       "                var nbb_formatted_code = \"import pandas as pd\\nimport numpy as np\\n\\nfrom tqdm.notebook import tqdm\\n\\nfrom scipy import stats\\n\\nfrom sklearn.mixture import GaussianMixture\\nfrom sklearn.cluster import KMeans, MeanShift, estimate_bandwidth\\nfrom sklearn.preprocessing import StandardScaler, MinMaxScaler\\nfrom sklearn import datasets, metrics\\n\\nimport plotly.express as px\\nimport seaborn as sns\\nimport matplotlib.pyplot as plt\\n\\nfrom sqlalchemy import create_engine\\n\\n%matplotlib inline\";\n",
       "                var nbb_cells = Jupyter.notebook.get_cells();\n",
       "                for (var i = 0; i < nbb_cells.length; ++i) {\n",
       "                    if (nbb_cells[i].input_prompt_number == nbb_cell_id) {\n",
       "                        if (nbb_cells[i].get_text() == nbb_unformatted_code) {\n",
       "                             nbb_cells[i].set_text(nbb_formatted_code);\n",
       "                        }\n",
       "                        break;\n",
       "                    }\n",
       "                }\n",
       "            }, 500);\n",
       "            "
      ],
      "text/plain": [
       "<IPython.core.display.Javascript object>"
      ]
     },
     "metadata": {},
     "output_type": "display_data"
    }
   ],
   "source": [
    "import pandas as pd\n",
    "import numpy as np\n",
    "\n",
    "from tqdm.notebook import tqdm\n",
    "\n",
    "from scipy import stats\n",
    "\n",
    "from sklearn.mixture import GaussianMixture\n",
    "from sklearn.cluster import KMeans, MeanShift, estimate_bandwidth\n",
    "from sklearn.preprocessing import StandardScaler, MinMaxScaler\n",
    "from sklearn import datasets, metrics\n",
    "\n",
    "import plotly.express as px\n",
    "import seaborn as sns\n",
    "import matplotlib.pyplot as plt\n",
    "\n",
    "from sqlalchemy import create_engine\n",
    "\n",
    "%matplotlib inline"
   ]
  },
  {
   "cell_type": "code",
   "execution_count": 3,
   "metadata": {},
   "outputs": [
    {
     "data": {
      "application/javascript": [
       "\n",
       "            setTimeout(function() {\n",
       "                var nbb_cell_id = 3;\n",
       "                var nbb_unformatted_code = \"postgres_user = \\\"dsbc_student\\\"\\npostgres_pw = \\\"7*.8G9QH21\\\"\\npostgres_host = \\\"142.93.121.174\\\"\\npostgres_port = \\\"5432\\\"\\npostgres_db = \\\"heartdisease\\\"\\n\\nengine = create_engine(\\n    \\\"postgresql://{}:{}@{}:{}/{}\\\".format(\\n        postgres_user, postgres_pw, postgres_host, postgres_port, postgres_db\\n    )\\n)\\n\\nheart_df = pd.read_sql_query(\\\"select * from heartdisease\\\", con=engine)\\n\\nengine.dispose()\";\n",
       "                var nbb_formatted_code = \"postgres_user = \\\"dsbc_student\\\"\\npostgres_pw = \\\"7*.8G9QH21\\\"\\npostgres_host = \\\"142.93.121.174\\\"\\npostgres_port = \\\"5432\\\"\\npostgres_db = \\\"heartdisease\\\"\\n\\nengine = create_engine(\\n    \\\"postgresql://{}:{}@{}:{}/{}\\\".format(\\n        postgres_user, postgres_pw, postgres_host, postgres_port, postgres_db\\n    )\\n)\\n\\nheart_df = pd.read_sql_query(\\\"select * from heartdisease\\\", con=engine)\\n\\nengine.dispose()\";\n",
       "                var nbb_cells = Jupyter.notebook.get_cells();\n",
       "                for (var i = 0; i < nbb_cells.length; ++i) {\n",
       "                    if (nbb_cells[i].input_prompt_number == nbb_cell_id) {\n",
       "                        if (nbb_cells[i].get_text() == nbb_unformatted_code) {\n",
       "                             nbb_cells[i].set_text(nbb_formatted_code);\n",
       "                        }\n",
       "                        break;\n",
       "                    }\n",
       "                }\n",
       "            }, 500);\n",
       "            "
      ],
      "text/plain": [
       "<IPython.core.display.Javascript object>"
      ]
     },
     "metadata": {},
     "output_type": "display_data"
    }
   ],
   "source": [
    "postgres_user = \"dsbc_student\"\n",
    "postgres_pw = \"7*.8G9QH21\"\n",
    "postgres_host = \"142.93.121.174\"\n",
    "postgres_port = \"5432\"\n",
    "postgres_db = \"heartdisease\"\n",
    "\n",
    "engine = create_engine(\n",
    "    \"postgresql://{}:{}@{}:{}/{}\".format(\n",
    "        postgres_user, postgres_pw, postgres_host, postgres_port, postgres_db\n",
    "    )\n",
    ")\n",
    "\n",
    "heart_df = pd.read_sql_query(\"select * from heartdisease\", con=engine)\n",
    "\n",
    "engine.dispose()"
   ]
  },
  {
   "cell_type": "code",
   "execution_count": 4,
   "metadata": {},
   "outputs": [
    {
     "data": {
      "application/javascript": [
       "\n",
       "            setTimeout(function() {\n",
       "                var nbb_cell_id = 4;\n",
       "                var nbb_unformatted_code = \"heart_df = heart_df.drop(index=0, axis=0)\\n# Define the features and the outcome\\nX = heart_df.iloc[:, :13]\\ny = heart_df.iloc[:, 13]\\n\\n# Replace missing values (marked by `?`) with a `0`\\nX = X.replace(to_replace=\\\"?\\\", value=0)\\n\\n# Binarize `y` so that `1` means heart disease diagnosis and `0` means no diagnosis\\ny = np.where(y > 0, 0, 1)\";\n",
       "                var nbb_formatted_code = \"heart_df = heart_df.drop(index=0, axis=0)\\n# Define the features and the outcome\\nX = heart_df.iloc[:, :13]\\ny = heart_df.iloc[:, 13]\\n\\n# Replace missing values (marked by `?`) with a `0`\\nX = X.replace(to_replace=\\\"?\\\", value=0)\\n\\n# Binarize `y` so that `1` means heart disease diagnosis and `0` means no diagnosis\\ny = np.where(y > 0, 0, 1)\";\n",
       "                var nbb_cells = Jupyter.notebook.get_cells();\n",
       "                for (var i = 0; i < nbb_cells.length; ++i) {\n",
       "                    if (nbb_cells[i].input_prompt_number == nbb_cell_id) {\n",
       "                        if (nbb_cells[i].get_text() == nbb_unformatted_code) {\n",
       "                             nbb_cells[i].set_text(nbb_formatted_code);\n",
       "                        }\n",
       "                        break;\n",
       "                    }\n",
       "                }\n",
       "            }, 500);\n",
       "            "
      ],
      "text/plain": [
       "<IPython.core.display.Javascript object>"
      ]
     },
     "metadata": {},
     "output_type": "display_data"
    }
   ],
   "source": [
    "heart_df = heart_df.drop(index=0, axis=0)\n",
    "# Define the features and the outcome\n",
    "X = heart_df.iloc[:, :13]\n",
    "y = heart_df.iloc[:, 13]\n",
    "\n",
    "# Replace missing values (marked by `?`) with a `0`\n",
    "X = X.replace(to_replace=\"?\", value=0)\n",
    "\n",
    "# Binarize `y` so that `1` means heart disease diagnosis and `0` means no diagnosis\n",
    "y = np.where(y > 0, 0, 1)"
   ]
  },
  {
   "cell_type": "code",
   "execution_count": 5,
   "metadata": {},
   "outputs": [
    {
     "data": {
      "text/html": [
       "<div>\n",
       "<style scoped>\n",
       "    .dataframe tbody tr th:only-of-type {\n",
       "        vertical-align: middle;\n",
       "    }\n",
       "\n",
       "    .dataframe tbody tr th {\n",
       "        vertical-align: top;\n",
       "    }\n",
       "\n",
       "    .dataframe thead th {\n",
       "        text-align: right;\n",
       "    }\n",
       "</style>\n",
       "<table border=\"1\" class=\"dataframe\">\n",
       "  <thead>\n",
       "    <tr style=\"text-align: right;\">\n",
       "      <th></th>\n",
       "      <th>0</th>\n",
       "      <th>1</th>\n",
       "      <th>2</th>\n",
       "      <th>3</th>\n",
       "      <th>4</th>\n",
       "      <th>5</th>\n",
       "      <th>6</th>\n",
       "      <th>7</th>\n",
       "      <th>8</th>\n",
       "      <th>9</th>\n",
       "      <th>10</th>\n",
       "      <th>11</th>\n",
       "      <th>12</th>\n",
       "    </tr>\n",
       "  </thead>\n",
       "  <tbody>\n",
       "    <tr>\n",
       "      <th>0</th>\n",
       "      <td>1.394920</td>\n",
       "      <td>0.687874</td>\n",
       "      <td>0.876481</td>\n",
       "      <td>1.612596</td>\n",
       "      <td>0.758372</td>\n",
       "      <td>-0.412968</td>\n",
       "      <td>1.020113</td>\n",
       "      <td>-1.818840</td>\n",
       "      <td>1.431958</td>\n",
       "      <td>0.400906</td>\n",
       "      <td>0.661249</td>\n",
       "      <td>2.500487</td>\n",
       "      <td>-0.862438</td>\n",
       "    </tr>\n",
       "    <tr>\n",
       "      <th>1</th>\n",
       "      <td>1.394920</td>\n",
       "      <td>0.687874</td>\n",
       "      <td>0.876481</td>\n",
       "      <td>-0.662326</td>\n",
       "      <td>-0.342633</td>\n",
       "      <td>-0.412968</td>\n",
       "      <td>1.020113</td>\n",
       "      <td>-0.900807</td>\n",
       "      <td>1.431958</td>\n",
       "      <td>1.350164</td>\n",
       "      <td>0.661249</td>\n",
       "      <td>1.429357</td>\n",
       "      <td>1.168411</td>\n",
       "    </tr>\n",
       "    <tr>\n",
       "      <th>2</th>\n",
       "      <td>-1.929113</td>\n",
       "      <td>0.687874</td>\n",
       "      <td>-0.173905</td>\n",
       "      <td>-0.093596</td>\n",
       "      <td>0.063000</td>\n",
       "      <td>-0.412968</td>\n",
       "      <td>-0.993444</td>\n",
       "      <td>1.634713</td>\n",
       "      <td>-0.698344</td>\n",
       "      <td>2.126829</td>\n",
       "      <td>2.298111</td>\n",
       "      <td>-0.712905</td>\n",
       "      <td>-0.862438</td>\n",
       "    </tr>\n",
       "    <tr>\n",
       "      <th>3</th>\n",
       "      <td>-1.485908</td>\n",
       "      <td>-1.453754</td>\n",
       "      <td>-1.224290</td>\n",
       "      <td>-0.093596</td>\n",
       "      <td>-0.825530</td>\n",
       "      <td>-0.412968</td>\n",
       "      <td>1.020113</td>\n",
       "      <td>0.978975</td>\n",
       "      <td>-0.698344</td>\n",
       "      <td>0.314610</td>\n",
       "      <td>-0.975613</td>\n",
       "      <td>-0.712905</td>\n",
       "      <td>-0.862438</td>\n",
       "    </tr>\n",
       "    <tr>\n",
       "      <th>4</th>\n",
       "      <td>0.176108</td>\n",
       "      <td>0.687874</td>\n",
       "      <td>-1.224290</td>\n",
       "      <td>-0.662326</td>\n",
       "      <td>-0.207422</td>\n",
       "      <td>-0.412968</td>\n",
       "      <td>-0.993444</td>\n",
       "      <td>1.241270</td>\n",
       "      <td>-0.698344</td>\n",
       "      <td>-0.203167</td>\n",
       "      <td>-0.975613</td>\n",
       "      <td>-0.712905</td>\n",
       "      <td>-0.862438</td>\n",
       "    </tr>\n",
       "    <tr>\n",
       "      <th>...</th>\n",
       "      <td>...</td>\n",
       "      <td>...</td>\n",
       "      <td>...</td>\n",
       "      <td>...</td>\n",
       "      <td>...</td>\n",
       "      <td>...</td>\n",
       "      <td>...</td>\n",
       "      <td>...</td>\n",
       "      <td>...</td>\n",
       "      <td>...</td>\n",
       "      <td>...</td>\n",
       "      <td>...</td>\n",
       "      <td>...</td>\n",
       "    </tr>\n",
       "    <tr>\n",
       "      <th>297</th>\n",
       "      <td>-1.042704</td>\n",
       "      <td>0.687874</td>\n",
       "      <td>-2.274676</td>\n",
       "      <td>-1.231057</td>\n",
       "      <td>0.333423</td>\n",
       "      <td>-0.412968</td>\n",
       "      <td>-0.993444</td>\n",
       "      <td>-0.769660</td>\n",
       "      <td>-0.698344</td>\n",
       "      <td>0.142017</td>\n",
       "      <td>0.661249</td>\n",
       "      <td>-0.712905</td>\n",
       "      <td>1.168411</td>\n",
       "    </tr>\n",
       "    <tr>\n",
       "      <th>298</th>\n",
       "      <td>1.505721</td>\n",
       "      <td>0.687874</td>\n",
       "      <td>0.876481</td>\n",
       "      <td>0.702627</td>\n",
       "      <td>-1.038004</td>\n",
       "      <td>2.421495</td>\n",
       "      <td>-0.993444</td>\n",
       "      <td>-0.376217</td>\n",
       "      <td>-0.698344</td>\n",
       "      <td>2.040533</td>\n",
       "      <td>0.661249</td>\n",
       "      <td>1.429357</td>\n",
       "      <td>1.168411</td>\n",
       "    </tr>\n",
       "    <tr>\n",
       "      <th>299</th>\n",
       "      <td>0.286909</td>\n",
       "      <td>0.687874</td>\n",
       "      <td>0.876481</td>\n",
       "      <td>-0.093596</td>\n",
       "      <td>-2.235588</td>\n",
       "      <td>-0.412968</td>\n",
       "      <td>-0.993444</td>\n",
       "      <td>-1.512829</td>\n",
       "      <td>1.431958</td>\n",
       "      <td>0.142017</td>\n",
       "      <td>0.661249</td>\n",
       "      <td>0.358226</td>\n",
       "      <td>1.168411</td>\n",
       "    </tr>\n",
       "    <tr>\n",
       "      <th>300</th>\n",
       "      <td>0.286909</td>\n",
       "      <td>-1.453754</td>\n",
       "      <td>-1.224290</td>\n",
       "      <td>-0.093596</td>\n",
       "      <td>-0.207422</td>\n",
       "      <td>-0.412968</td>\n",
       "      <td>1.020113</td>\n",
       "      <td>1.066406</td>\n",
       "      <td>-0.698344</td>\n",
       "      <td>-0.893537</td>\n",
       "      <td>0.661249</td>\n",
       "      <td>0.358226</td>\n",
       "      <td>-0.862438</td>\n",
       "    </tr>\n",
       "    <tr>\n",
       "      <th>301</th>\n",
       "      <td>-1.818312</td>\n",
       "      <td>0.687874</td>\n",
       "      <td>-0.173905</td>\n",
       "      <td>0.361389</td>\n",
       "      <td>-1.385690</td>\n",
       "      <td>-0.412968</td>\n",
       "      <td>-0.993444</td>\n",
       "      <td>1.022691</td>\n",
       "      <td>-0.698344</td>\n",
       "      <td>-0.893537</td>\n",
       "      <td>-0.975613</td>\n",
       "      <td>-0.712905</td>\n",
       "      <td>-0.862438</td>\n",
       "    </tr>\n",
       "  </tbody>\n",
       "</table>\n",
       "<p>302 rows × 13 columns</p>\n",
       "</div>"
      ],
      "text/plain": [
       "            0         1         2         3         4         5         6  \\\n",
       "0    1.394920  0.687874  0.876481  1.612596  0.758372 -0.412968  1.020113   \n",
       "1    1.394920  0.687874  0.876481 -0.662326 -0.342633 -0.412968  1.020113   \n",
       "2   -1.929113  0.687874 -0.173905 -0.093596  0.063000 -0.412968 -0.993444   \n",
       "3   -1.485908 -1.453754 -1.224290 -0.093596 -0.825530 -0.412968  1.020113   \n",
       "4    0.176108  0.687874 -1.224290 -0.662326 -0.207422 -0.412968 -0.993444   \n",
       "..        ...       ...       ...       ...       ...       ...       ...   \n",
       "297 -1.042704  0.687874 -2.274676 -1.231057  0.333423 -0.412968 -0.993444   \n",
       "298  1.505721  0.687874  0.876481  0.702627 -1.038004  2.421495 -0.993444   \n",
       "299  0.286909  0.687874  0.876481 -0.093596 -2.235588 -0.412968 -0.993444   \n",
       "300  0.286909 -1.453754 -1.224290 -0.093596 -0.207422 -0.412968  1.020113   \n",
       "301 -1.818312  0.687874 -0.173905  0.361389 -1.385690 -0.412968 -0.993444   \n",
       "\n",
       "            7         8         9        10        11        12  \n",
       "0   -1.818840  1.431958  0.400906  0.661249  2.500487 -0.862438  \n",
       "1   -0.900807  1.431958  1.350164  0.661249  1.429357  1.168411  \n",
       "2    1.634713 -0.698344  2.126829  2.298111 -0.712905 -0.862438  \n",
       "3    0.978975 -0.698344  0.314610 -0.975613 -0.712905 -0.862438  \n",
       "4    1.241270 -0.698344 -0.203167 -0.975613 -0.712905 -0.862438  \n",
       "..        ...       ...       ...       ...       ...       ...  \n",
       "297 -0.769660 -0.698344  0.142017  0.661249 -0.712905  1.168411  \n",
       "298 -0.376217 -0.698344  2.040533  0.661249  1.429357  1.168411  \n",
       "299 -1.512829  1.431958  0.142017  0.661249  0.358226  1.168411  \n",
       "300  1.066406 -0.698344 -0.893537  0.661249  0.358226 -0.862438  \n",
       "301  1.022691 -0.698344 -0.893537 -0.975613 -0.712905 -0.862438  \n",
       "\n",
       "[302 rows x 13 columns]"
      ]
     },
     "execution_count": 5,
     "metadata": {},
     "output_type": "execute_result"
    },
    {
     "data": {
      "application/javascript": [
       "\n",
       "            setTimeout(function() {\n",
       "                var nbb_cell_id = 5;\n",
       "                var nbb_unformatted_code = \"scaler = StandardScaler()\\nX_std = scaler.fit_transform(X)\\nX_std = pd.DataFrame(X_std)\\nX_std\";\n",
       "                var nbb_formatted_code = \"scaler = StandardScaler()\\nX_std = scaler.fit_transform(X)\\nX_std = pd.DataFrame(X_std)\\nX_std\";\n",
       "                var nbb_cells = Jupyter.notebook.get_cells();\n",
       "                for (var i = 0; i < nbb_cells.length; ++i) {\n",
       "                    if (nbb_cells[i].input_prompt_number == nbb_cell_id) {\n",
       "                        if (nbb_cells[i].get_text() == nbb_unformatted_code) {\n",
       "                             nbb_cells[i].set_text(nbb_formatted_code);\n",
       "                        }\n",
       "                        break;\n",
       "                    }\n",
       "                }\n",
       "            }, 500);\n",
       "            "
      ],
      "text/plain": [
       "<IPython.core.display.Javascript object>"
      ]
     },
     "metadata": {},
     "output_type": "display_data"
    }
   ],
   "source": [
    "scaler = StandardScaler()\n",
    "X_std = scaler.fit_transform(X)\n",
    "X_std = pd.DataFrame(X_std)\n",
    "X_std"
   ]
  },
  {
   "cell_type": "markdown",
   "metadata": {},
   "source": [
    "1. Apply GMM to the heart disease dataset by setting n_components=2. Get ARI and silhouette scores for your solution and compare it with those of the k-means and hierarchical clustering solutions that you implemented in the previous checkpoint assignments. Which algorithm performs best?"
   ]
  },
  {
   "cell_type": "code",
   "execution_count": 6,
   "metadata": {},
   "outputs": [
    {
     "data": {
      "text/plain": [
       "GaussianMixture(covariance_type='full', init_params='kmeans', max_iter=100,\n",
       "                means_init=None, n_components=2, n_init=1, precisions_init=None,\n",
       "                random_state=None, reg_covar=1e-06, tol=0.001, verbose=0,\n",
       "                verbose_interval=10, warm_start=False, weights_init=None)"
      ]
     },
     "execution_count": 6,
     "metadata": {},
     "output_type": "execute_result"
    },
    {
     "data": {
      "application/javascript": [
       "\n",
       "            setTimeout(function() {\n",
       "                var nbb_cell_id = 6;\n",
       "                var nbb_unformatted_code = \"gmm = GaussianMixture(n_components=2)\\ngmm.fit(X_std)\";\n",
       "                var nbb_formatted_code = \"gmm = GaussianMixture(n_components=2)\\ngmm.fit(X_std)\";\n",
       "                var nbb_cells = Jupyter.notebook.get_cells();\n",
       "                for (var i = 0; i < nbb_cells.length; ++i) {\n",
       "                    if (nbb_cells[i].input_prompt_number == nbb_cell_id) {\n",
       "                        if (nbb_cells[i].get_text() == nbb_unformatted_code) {\n",
       "                             nbb_cells[i].set_text(nbb_formatted_code);\n",
       "                        }\n",
       "                        break;\n",
       "                    }\n",
       "                }\n",
       "            }, 500);\n",
       "            "
      ],
      "text/plain": [
       "<IPython.core.display.Javascript object>"
      ]
     },
     "metadata": {},
     "output_type": "display_data"
    }
   ],
   "source": [
    "gmm = GaussianMixture(n_components=2)\n",
    "gmm.fit(X_std)"
   ]
  },
  {
   "cell_type": "code",
   "execution_count": null,
   "metadata": {},
   "outputs": [],
   "source": []
  },
  {
   "cell_type": "code",
   "execution_count": 7,
   "metadata": {},
   "outputs": [
    {
     "data": {
      "text/html": [
       "<style  type=\"text/css\" >\n",
       "    #T_125a11a4_0422_11eb_ba1e_7085c233535crow0_col0 {\n",
       "            background-color:  #023858;\n",
       "            color:  #f1f1f1;\n",
       "        }    #T_125a11a4_0422_11eb_ba1e_7085c233535crow0_col1 {\n",
       "            background-color:  #023858;\n",
       "            color:  #f1f1f1;\n",
       "        }    #T_125a11a4_0422_11eb_ba1e_7085c233535crow0_col2 {\n",
       "            background-color:  #023858;\n",
       "            color:  #f1f1f1;\n",
       "        }    #T_125a11a4_0422_11eb_ba1e_7085c233535crow0_col3 {\n",
       "            background-color:  #023858;\n",
       "            color:  #f1f1f1;\n",
       "        }    #T_125a11a4_0422_11eb_ba1e_7085c233535crow0_col4 {\n",
       "            background-color:  #023858;\n",
       "            color:  #f1f1f1;\n",
       "        }    #T_125a11a4_0422_11eb_ba1e_7085c233535crow0_col5 {\n",
       "            background-color:  #023858;\n",
       "            color:  #f1f1f1;\n",
       "        }    #T_125a11a4_0422_11eb_ba1e_7085c233535crow0_col6 {\n",
       "            background-color:  #023858;\n",
       "            color:  #f1f1f1;\n",
       "        }    #T_125a11a4_0422_11eb_ba1e_7085c233535crow0_col7 {\n",
       "            background-color:  #fff7fb;\n",
       "            color:  #000000;\n",
       "        }    #T_125a11a4_0422_11eb_ba1e_7085c233535crow0_col8 {\n",
       "            background-color:  #023858;\n",
       "            color:  #f1f1f1;\n",
       "        }    #T_125a11a4_0422_11eb_ba1e_7085c233535crow0_col9 {\n",
       "            background-color:  #023858;\n",
       "            color:  #f1f1f1;\n",
       "        }    #T_125a11a4_0422_11eb_ba1e_7085c233535crow0_col10 {\n",
       "            background-color:  #023858;\n",
       "            color:  #f1f1f1;\n",
       "        }    #T_125a11a4_0422_11eb_ba1e_7085c233535crow0_col11 {\n",
       "            background-color:  #023858;\n",
       "            color:  #f1f1f1;\n",
       "        }    #T_125a11a4_0422_11eb_ba1e_7085c233535crow0_col12 {\n",
       "            background-color:  #023858;\n",
       "            color:  #f1f1f1;\n",
       "        }    #T_125a11a4_0422_11eb_ba1e_7085c233535crow1_col0 {\n",
       "            background-color:  #fff7fb;\n",
       "            color:  #000000;\n",
       "        }    #T_125a11a4_0422_11eb_ba1e_7085c233535crow1_col1 {\n",
       "            background-color:  #fff7fb;\n",
       "            color:  #000000;\n",
       "        }    #T_125a11a4_0422_11eb_ba1e_7085c233535crow1_col2 {\n",
       "            background-color:  #fff7fb;\n",
       "            color:  #000000;\n",
       "        }    #T_125a11a4_0422_11eb_ba1e_7085c233535crow1_col3 {\n",
       "            background-color:  #fff7fb;\n",
       "            color:  #000000;\n",
       "        }    #T_125a11a4_0422_11eb_ba1e_7085c233535crow1_col4 {\n",
       "            background-color:  #fff7fb;\n",
       "            color:  #000000;\n",
       "        }    #T_125a11a4_0422_11eb_ba1e_7085c233535crow1_col5 {\n",
       "            background-color:  #fff7fb;\n",
       "            color:  #000000;\n",
       "        }    #T_125a11a4_0422_11eb_ba1e_7085c233535crow1_col6 {\n",
       "            background-color:  #fff7fb;\n",
       "            color:  #000000;\n",
       "        }    #T_125a11a4_0422_11eb_ba1e_7085c233535crow1_col7 {\n",
       "            background-color:  #023858;\n",
       "            color:  #f1f1f1;\n",
       "        }    #T_125a11a4_0422_11eb_ba1e_7085c233535crow1_col8 {\n",
       "            background-color:  #fff7fb;\n",
       "            color:  #000000;\n",
       "        }    #T_125a11a4_0422_11eb_ba1e_7085c233535crow1_col9 {\n",
       "            background-color:  #fff7fb;\n",
       "            color:  #000000;\n",
       "        }    #T_125a11a4_0422_11eb_ba1e_7085c233535crow1_col10 {\n",
       "            background-color:  #fff7fb;\n",
       "            color:  #000000;\n",
       "        }    #T_125a11a4_0422_11eb_ba1e_7085c233535crow1_col11 {\n",
       "            background-color:  #fff7fb;\n",
       "            color:  #000000;\n",
       "        }    #T_125a11a4_0422_11eb_ba1e_7085c233535crow1_col12 {\n",
       "            background-color:  #fff7fb;\n",
       "            color:  #000000;\n",
       "        }</style><table id=\"T_125a11a4_0422_11eb_ba1e_7085c233535c\" ><thead>    <tr>        <th class=\"blank level0\" ></th>        <th class=\"col_heading level0 col0\" >0</th>        <th class=\"col_heading level0 col1\" >1</th>        <th class=\"col_heading level0 col2\" >2</th>        <th class=\"col_heading level0 col3\" >3</th>        <th class=\"col_heading level0 col4\" >4</th>        <th class=\"col_heading level0 col5\" >5</th>        <th class=\"col_heading level0 col6\" >6</th>        <th class=\"col_heading level0 col7\" >7</th>        <th class=\"col_heading level0 col8\" >8</th>        <th class=\"col_heading level0 col9\" >9</th>        <th class=\"col_heading level0 col10\" >10</th>        <th class=\"col_heading level0 col11\" >11</th>        <th class=\"col_heading level0 col12\" >12</th>    </tr></thead><tbody>\n",
       "                <tr>\n",
       "                        <th id=\"T_125a11a4_0422_11eb_ba1e_7085c233535clevel0_row0\" class=\"row_heading level0 row0\" >0</th>\n",
       "                        <td id=\"T_125a11a4_0422_11eb_ba1e_7085c233535crow0_col0\" class=\"data row0 col0\" >55.626263</td>\n",
       "                        <td id=\"T_125a11a4_0422_11eb_ba1e_7085c233535crow0_col1\" class=\"data row0 col1\" >0.777778</td>\n",
       "                        <td id=\"T_125a11a4_0422_11eb_ba1e_7085c233535crow0_col2\" class=\"data row0 col2\" >3.686869</td>\n",
       "                        <td id=\"T_125a11a4_0422_11eb_ba1e_7085c233535crow0_col3\" class=\"data row0 col3\" >133.323232</td>\n",
       "                        <td id=\"T_125a11a4_0422_11eb_ba1e_7085c233535crow0_col4\" class=\"data row0 col4\" >251.242424</td>\n",
       "                        <td id=\"T_125a11a4_0422_11eb_ba1e_7085c233535crow0_col5\" class=\"data row0 col5\" >0.161616</td>\n",
       "                        <td id=\"T_125a11a4_0422_11eb_ba1e_7085c233535crow0_col6\" class=\"data row0 col6\" >1.111111</td>\n",
       "                        <td id=\"T_125a11a4_0422_11eb_ba1e_7085c233535crow0_col7\" class=\"data row0 col7\" >137.212121</td>\n",
       "                        <td id=\"T_125a11a4_0422_11eb_ba1e_7085c233535crow0_col8\" class=\"data row0 col8\" >1.000000</td>\n",
       "                        <td id=\"T_125a11a4_0422_11eb_ba1e_7085c233535crow0_col9\" class=\"data row0 col9\" >1.519192</td>\n",
       "                        <td id=\"T_125a11a4_0422_11eb_ba1e_7085c233535crow0_col10\" class=\"data row0 col10\" >1.828283</td>\n",
       "                        <td id=\"T_125a11a4_0422_11eb_ba1e_7085c233535crow0_col11\" class=\"data row0 col11\" >0.858586</td>\n",
       "                        <td id=\"T_125a11a4_0422_11eb_ba1e_7085c233535crow0_col12\" class=\"data row0 col12\" >5.595960</td>\n",
       "            </tr>\n",
       "            <tr>\n",
       "                        <th id=\"T_125a11a4_0422_11eb_ba1e_7085c233535clevel0_row1\" class=\"row_heading level0 row1\" >1</th>\n",
       "                        <td id=\"T_125a11a4_0422_11eb_ba1e_7085c233535crow1_col0\" class=\"data row1 col0\" >53.817734</td>\n",
       "                        <td id=\"T_125a11a4_0422_11eb_ba1e_7085c233535crow1_col1\" class=\"data row1 col1\" >0.630542</td>\n",
       "                        <td id=\"T_125a11a4_0422_11eb_ba1e_7085c233535crow1_col2\" class=\"data row1 col2\" >2.911330</td>\n",
       "                        <td id=\"T_125a11a4_0422_11eb_ba1e_7085c233535crow1_col3\" class=\"data row1 col3\" >130.827586</td>\n",
       "                        <td id=\"T_125a11a4_0422_11eb_ba1e_7085c233535crow1_col4\" class=\"data row1 col4\" >244.541872</td>\n",
       "                        <td id=\"T_125a11a4_0422_11eb_ba1e_7085c233535crow1_col5\" class=\"data row1 col5\" >0.137931</td>\n",
       "                        <td id=\"T_125a11a4_0422_11eb_ba1e_7085c233535crow1_col6\" class=\"data row1 col6\" >0.926108</td>\n",
       "                        <td id=\"T_125a11a4_0422_11eb_ba1e_7085c233535crow1_col7\" class=\"data row1 col7\" >155.650246</td>\n",
       "                        <td id=\"T_125a11a4_0422_11eb_ba1e_7085c233535crow1_col8\" class=\"data row1 col8\" >-0.000000</td>\n",
       "                        <td id=\"T_125a11a4_0422_11eb_ba1e_7085c233535crow1_col9\" class=\"data row1 col9\" >0.799507</td>\n",
       "                        <td id=\"T_125a11a4_0422_11eb_ba1e_7085c233535crow1_col10\" class=\"data row1 col10\" >1.482759</td>\n",
       "                        <td id=\"T_125a11a4_0422_11eb_ba1e_7085c233535crow1_col11\" class=\"data row1 col11\" >0.571429</td>\n",
       "                        <td id=\"T_125a11a4_0422_11eb_ba1e_7085c233535crow1_col12\" class=\"data row1 col12\" >4.261084</td>\n",
       "            </tr>\n",
       "    </tbody></table>"
      ],
      "text/plain": [
       "<pandas.io.formats.style.Styler at 0x2245def83c8>"
      ]
     },
     "execution_count": 7,
     "metadata": {},
     "output_type": "execute_result"
    },
    {
     "data": {
      "application/javascript": [
       "\n",
       "            setTimeout(function() {\n",
       "                var nbb_cell_id = 7;\n",
       "                var nbb_unformatted_code = \"pd.DataFrame(scaler.inverse_transform(gmm.means_)).style.background_gradient()\";\n",
       "                var nbb_formatted_code = \"pd.DataFrame(scaler.inverse_transform(gmm.means_)).style.background_gradient()\";\n",
       "                var nbb_cells = Jupyter.notebook.get_cells();\n",
       "                for (var i = 0; i < nbb_cells.length; ++i) {\n",
       "                    if (nbb_cells[i].input_prompt_number == nbb_cell_id) {\n",
       "                        if (nbb_cells[i].get_text() == nbb_unformatted_code) {\n",
       "                             nbb_cells[i].set_text(nbb_formatted_code);\n",
       "                        }\n",
       "                        break;\n",
       "                    }\n",
       "                }\n",
       "            }, 500);\n",
       "            "
      ],
      "text/plain": [
       "<IPython.core.display.Javascript object>"
      ]
     },
     "metadata": {},
     "output_type": "display_data"
    }
   ],
   "source": [
    "pd.DataFrame(scaler.inverse_transform(gmm.means_)).style.background_gradient()"
   ]
  },
  {
   "cell_type": "code",
   "execution_count": 8,
   "metadata": {},
   "outputs": [
    {
     "data": {
      "application/javascript": [
       "\n",
       "            setTimeout(function() {\n",
       "                var nbb_cell_id = 8;\n",
       "                var nbb_unformatted_code = \"gmm_probs = pd.DataFrame(gmm.predict_proba(X_std))\";\n",
       "                var nbb_formatted_code = \"gmm_probs = pd.DataFrame(gmm.predict_proba(X_std))\";\n",
       "                var nbb_cells = Jupyter.notebook.get_cells();\n",
       "                for (var i = 0; i < nbb_cells.length; ++i) {\n",
       "                    if (nbb_cells[i].input_prompt_number == nbb_cell_id) {\n",
       "                        if (nbb_cells[i].get_text() == nbb_unformatted_code) {\n",
       "                             nbb_cells[i].set_text(nbb_formatted_code);\n",
       "                        }\n",
       "                        break;\n",
       "                    }\n",
       "                }\n",
       "            }, 500);\n",
       "            "
      ],
      "text/plain": [
       "<IPython.core.display.Javascript object>"
      ]
     },
     "metadata": {},
     "output_type": "display_data"
    }
   ],
   "source": [
    "gmm_probs = pd.DataFrame(gmm.predict_proba(X_std))"
   ]
  },
  {
   "cell_type": "code",
   "execution_count": 9,
   "metadata": {},
   "outputs": [
    {
     "name": "stdout",
     "output_type": "stream",
     "text": [
      "1.0    203\n",
      "0.0     99\n",
      "Name: 1, dtype: int64\n",
      "163\n"
     ]
    },
    {
     "data": {
      "application/javascript": [
       "\n",
       "            setTimeout(function() {\n",
       "                var nbb_cell_id = 9;\n",
       "                var nbb_unformatted_code = \"print(gmm_probs[1].value_counts())\\nprint(y.sum())\";\n",
       "                var nbb_formatted_code = \"print(gmm_probs[1].value_counts())\\nprint(y.sum())\";\n",
       "                var nbb_cells = Jupyter.notebook.get_cells();\n",
       "                for (var i = 0; i < nbb_cells.length; ++i) {\n",
       "                    if (nbb_cells[i].input_prompt_number == nbb_cell_id) {\n",
       "                        if (nbb_cells[i].get_text() == nbb_unformatted_code) {\n",
       "                             nbb_cells[i].set_text(nbb_formatted_code);\n",
       "                        }\n",
       "                        break;\n",
       "                    }\n",
       "                }\n",
       "            }, 500);\n",
       "            "
      ],
      "text/plain": [
       "<IPython.core.display.Javascript object>"
      ]
     },
     "metadata": {},
     "output_type": "display_data"
    }
   ],
   "source": [
    "print(gmm_probs[1].value_counts())\n",
    "print(y.sum())"
   ]
  },
  {
   "cell_type": "code",
   "execution_count": 10,
   "metadata": {},
   "outputs": [
    {
     "data": {
      "application/javascript": [
       "\n",
       "            setTimeout(function() {\n",
       "                var nbb_cell_id = 10;\n",
       "                var nbb_unformatted_code = \"labels = gmm.predict(X_std)\\nX[\\\"labels\\\"] = labels\";\n",
       "                var nbb_formatted_code = \"labels = gmm.predict(X_std)\\nX[\\\"labels\\\"] = labels\";\n",
       "                var nbb_cells = Jupyter.notebook.get_cells();\n",
       "                for (var i = 0; i < nbb_cells.length; ++i) {\n",
       "                    if (nbb_cells[i].input_prompt_number == nbb_cell_id) {\n",
       "                        if (nbb_cells[i].get_text() == nbb_unformatted_code) {\n",
       "                             nbb_cells[i].set_text(nbb_formatted_code);\n",
       "                        }\n",
       "                        break;\n",
       "                    }\n",
       "                }\n",
       "            }, 500);\n",
       "            "
      ],
      "text/plain": [
       "<IPython.core.display.Javascript object>"
      ]
     },
     "metadata": {},
     "output_type": "display_data"
    }
   ],
   "source": [
    "labels = gmm.predict(X_std)\n",
    "X[\"labels\"] = labels"
   ]
  },
  {
   "cell_type": "code",
   "execution_count": 11,
   "metadata": {},
   "outputs": [
    {
     "name": "stdout",
     "output_type": "stream",
     "text": [
      "The ARI is 0.18230716541111341\n",
      "The Silhouette Score is 0.13684540146178015\n"
     ]
    },
    {
     "data": {
      "application/javascript": [
       "\n",
       "            setTimeout(function() {\n",
       "                var nbb_cell_id = 11;\n",
       "                var nbb_unformatted_code = \"print(f\\\"The ARI is {metrics.adjusted_rand_score(y, labels)}\\\")\\nprint(\\n    f\\\"The Silhouette Score is {metrics.silhouette_score(X_std, labels, metric='euclidean')}\\\"\\n)\";\n",
       "                var nbb_formatted_code = \"print(f\\\"The ARI is {metrics.adjusted_rand_score(y, labels)}\\\")\\nprint(\\n    f\\\"The Silhouette Score is {metrics.silhouette_score(X_std, labels, metric='euclidean')}\\\"\\n)\";\n",
       "                var nbb_cells = Jupyter.notebook.get_cells();\n",
       "                for (var i = 0; i < nbb_cells.length; ++i) {\n",
       "                    if (nbb_cells[i].input_prompt_number == nbb_cell_id) {\n",
       "                        if (nbb_cells[i].get_text() == nbb_unformatted_code) {\n",
       "                             nbb_cells[i].set_text(nbb_formatted_code);\n",
       "                        }\n",
       "                        break;\n",
       "                    }\n",
       "                }\n",
       "            }, 500);\n",
       "            "
      ],
      "text/plain": [
       "<IPython.core.display.Javascript object>"
      ]
     },
     "metadata": {},
     "output_type": "display_data"
    }
   ],
   "source": [
    "print(f\"The ARI is {metrics.adjusted_rand_score(y, labels)}\")\n",
    "print(\n",
    "    f\"The Silhouette Score is {metrics.silhouette_score(X_std, labels, metric='euclidean')}\"\n",
    ")"
   ]
  },
  {
   "cell_type": "code",
   "execution_count": 12,
   "metadata": {},
   "outputs": [
    {
     "data": {
      "text/plain": [
       "0.0    203\n",
       "1.0     99\n",
       "Name: 0, dtype: int64"
      ]
     },
     "execution_count": 12,
     "metadata": {},
     "output_type": "execute_result"
    },
    {
     "data": {
      "application/javascript": [
       "\n",
       "            setTimeout(function() {\n",
       "                var nbb_cell_id = 12;\n",
       "                var nbb_unformatted_code = \"gmm_probs[0].value_counts()\";\n",
       "                var nbb_formatted_code = \"gmm_probs[0].value_counts()\";\n",
       "                var nbb_cells = Jupyter.notebook.get_cells();\n",
       "                for (var i = 0; i < nbb_cells.length; ++i) {\n",
       "                    if (nbb_cells[i].input_prompt_number == nbb_cell_id) {\n",
       "                        if (nbb_cells[i].get_text() == nbb_unformatted_code) {\n",
       "                             nbb_cells[i].set_text(nbb_formatted_code);\n",
       "                        }\n",
       "                        break;\n",
       "                    }\n",
       "                }\n",
       "            }, 500);\n",
       "            "
      ],
      "text/plain": [
       "<IPython.core.display.Javascript object>"
      ]
     },
     "metadata": {},
     "output_type": "display_data"
    }
   ],
   "source": [
    "gmm_probs[0].value_counts()"
   ]
  },
  {
   "cell_type": "markdown",
   "metadata": {},
   "source": [
    "Strange that the the predictions are at 100% confidence. Is this data linearly separable?"
   ]
  },
  {
   "cell_type": "markdown",
   "metadata": {},
   "source": [
    "2. GMM implementation of scikit-learn has a parameter called covariance_type. This parameter determines the type of covariance parameters to use. There are four types that you can specify:\n",
    "\n",
    "    * full: This is the default. Each component has its own general covariance matrix.\n",
    "    * tied: All components share the same general covariance matrix.\n",
    "    * diag: Each component has its own diagonal covariance matrix.\n",
    "    * spherical: Each component has its own single variance.\n",
    "\n",
    "Try all of these. Which one performs best in terms of ARI and silhouette scores?"
   ]
  },
  {
   "cell_type": "code",
   "execution_count": 13,
   "metadata": {},
   "outputs": [
    {
     "name": "stdout",
     "output_type": "stream",
     "text": [
      "Covariance Type: full\n",
      "The ARI is 0.41922773658819823\n",
      "The Silhouette Score is 0.16213539658435835\n",
      "-----\n",
      "Covariance Type: tied\n",
      "The ARI is 0.4543732599413319\n",
      "The Silhouette Score is 0.16810471764901874\n",
      "-----\n",
      "Covariance Type: diag\n",
      "The ARI is 0.39376847260392006\n",
      "The Silhouette Score is 0.16134238525855113\n",
      "-----\n",
      "Covariance Type: spherical\n",
      "The ARI is 0.21214350613662605\n",
      "The Silhouette Score is 0.12499890390810753\n",
      "-----\n"
     ]
    },
    {
     "data": {
      "application/javascript": [
       "\n",
       "            setTimeout(function() {\n",
       "                var nbb_cell_id = 13;\n",
       "                var nbb_unformatted_code = \"covars = [\\\"full\\\", \\\"tied\\\", \\\"diag\\\", \\\"spherical\\\"]\\nfor covar in covars:\\n\\n    gmm = GaussianMixture(n_components=2, covariance_type=covar)\\n    clusters = gmm.fit_predict(X_std)\\n\\n    print(\\\"Covariance Type: \\\" + covar)\\n    print(f\\\"The ARI is {metrics.adjusted_rand_score(y, clusters)}\\\")\\n    print(\\n        f\\\"The Silhouette Score is {metrics.silhouette_score(X_std, clusters, metric='euclidean')}\\\"\\n    )\\n    print(\\\"-----\\\")\";\n",
       "                var nbb_formatted_code = \"covars = [\\\"full\\\", \\\"tied\\\", \\\"diag\\\", \\\"spherical\\\"]\\nfor covar in covars:\\n\\n    gmm = GaussianMixture(n_components=2, covariance_type=covar)\\n    clusters = gmm.fit_predict(X_std)\\n\\n    print(\\\"Covariance Type: \\\" + covar)\\n    print(f\\\"The ARI is {metrics.adjusted_rand_score(y, clusters)}\\\")\\n    print(\\n        f\\\"The Silhouette Score is {metrics.silhouette_score(X_std, clusters, metric='euclidean')}\\\"\\n    )\\n    print(\\\"-----\\\")\";\n",
       "                var nbb_cells = Jupyter.notebook.get_cells();\n",
       "                for (var i = 0; i < nbb_cells.length; ++i) {\n",
       "                    if (nbb_cells[i].input_prompt_number == nbb_cell_id) {\n",
       "                        if (nbb_cells[i].get_text() == nbb_unformatted_code) {\n",
       "                             nbb_cells[i].set_text(nbb_formatted_code);\n",
       "                        }\n",
       "                        break;\n",
       "                    }\n",
       "                }\n",
       "            }, 500);\n",
       "            "
      ],
      "text/plain": [
       "<IPython.core.display.Javascript object>"
      ]
     },
     "metadata": {},
     "output_type": "display_data"
    }
   ],
   "source": [
    "covars = [\"full\", \"tied\", \"diag\", \"spherical\"]\n",
    "for covar in covars:\n",
    "\n",
    "    gmm = GaussianMixture(n_components=2, covariance_type=covar)\n",
    "    clusters = gmm.fit_predict(X_std)\n",
    "\n",
    "    print(\"Covariance Type: \" + covar)\n",
    "    print(f\"The ARI is {metrics.adjusted_rand_score(y, clusters)}\")\n",
    "    print(\n",
    "        f\"The Silhouette Score is {metrics.silhouette_score(X_std, clusters, metric='euclidean')}\"\n",
    "    )\n",
    "    print(\"-----\")\n",
    "\n"
   ]
  },
  {
   "cell_type": "code",
   "execution_count": null,
   "metadata": {},
   "outputs": [],
   "source": []
  }
 ],
 "metadata": {
  "kernelspec": {
   "display_name": "Python 3",
   "language": "python",
   "name": "python3"
  },
  "language_info": {
   "codemirror_mode": {
    "name": "ipython",
    "version": 3
   },
   "file_extension": ".py",
   "mimetype": "text/x-python",
   "name": "python",
   "nbconvert_exporter": "python",
   "pygments_lexer": "ipython3",
   "version": "3.7.6"
  }
 },
 "nbformat": 4,
 "nbformat_minor": 4
}
