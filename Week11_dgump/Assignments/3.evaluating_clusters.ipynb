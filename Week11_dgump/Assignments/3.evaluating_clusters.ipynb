{
 "cells": [
  {
   "cell_type": "markdown",
   "metadata": {
    "run_control": {
     "frozen": false,
     "read_only": false
    }
   },
   "source": [
    "## Consistency\n",
    "\n",
    "When it comes to choosing the number of clusters and the clustering algorithm, we need to measure **consistency** across sub-samples or folds. Clusters are useful when similar data points get grouped together each time the algorithm is run on different subsets of the same data. However, unlike the cross-validation and test/re-test methods you are familiar with from supervised learning, there's no formal metric for assessing how \"similar\" clusters are between different data subsets.  \n",
    "\n",
    "To explore this consistency issue, we'll compare two-, three-, and four-cluster solutions for the Iris dataset. We'll be using k-means algorithm and dividing the data into *two samples* of equal size. Our goal will be to determine which k value optimizes consistency across the two samples.\n",
    "\n",
    "To compare our solutions, we plot the cluster assignments against two features created by PCA. This is just for visualization purposes – our solution is based on all the features in the data. \n",
    "\n",
    "We first import the libraries that we use:"
   ]
  },
  {
   "cell_type": "code",
   "execution_count": 1,
   "metadata": {
    "run_control": {
     "frozen": false,
     "read_only": false
    }
   },
   "outputs": [],
   "source": [
    "import numpy as np\n",
    "import pandas as pd\n",
    "import scipy\n",
    "import matplotlib.pyplot as plt\n",
    "import seaborn as sns\n",
    "from sklearn.cluster import KMeans\n",
    "from sklearn.preprocessing import StandardScaler\n",
    "from sklearn.model_selection import train_test_split\n",
    "from sklearn.decomposition import PCA\n",
    "from sklearn import datasets, metrics"
   ]
  },
  {
   "cell_type": "markdown",
   "metadata": {},
   "source": [
    "Next, we load the Iris dataset from `sklearn.datasets` and standardize the features using `StandardScaler`. In order to observe consistency across subsamples, we divide the iris dataset into two random parts using `train_test_split` of the `sklearn.model_selection`. Note that before doing this, we apply PCA to the scaled data since we're using only the first two principal components for visualization purposes. When we divide the data in two, we also divide the principal components accordingly."
   ]
  },
  {
   "cell_type": "code",
   "execution_count": 2,
   "metadata": {},
   "outputs": [],
   "source": [
    "# Loading the data from Sklearn's datasets\n",
    "iris = datasets.load_iris()\n",
    "X = iris.data\n",
    "y = iris.target\n",
    "\n",
    "# Standarizing the features\n",
    "scaler = StandardScaler()\n",
    "X_std = scaler.fit_transform(X)\n",
    "\n",
    "# Computing the first principal components\n",
    "pca = PCA(n_components=2)\n",
    "X_pca = pca.fit_transform(X_std)\n",
    "\n",
    "# Split the data into four equally-sized samples. First we break it in half:\n",
    "X_half1, X_half2, X_pcahalf1, X_pcahalf2 = train_test_split(\n",
    "    X_std,\n",
    "    X_pca,\n",
    "    test_size=0.5,\n",
    "    random_state=13579)"
   ]
  },
  {
   "cell_type": "markdown",
   "metadata": {},
   "source": [
    "Next, we apply k-means for the subsamples and get the predictions. To compare the results of different k-values, we apply k-means by setting k equal to 2, 3 and 4."
   ]
  },
  {
   "cell_type": "code",
   "execution_count": 11,
   "metadata": {},
   "outputs": [
    {
     "data": {
      "text/plain": [
       "array([[-1.73673948e-01,  3.09077525e+00, -1.28338910e+00,\n",
       "        -1.05217993e+00],\n",
       "       [-1.74885626e+00, -3.62176246e-01, -1.34022653e+00,\n",
       "        -1.31544430e+00],\n",
       "       [ 1.03800476e+00, -1.31979479e-01,  8.19595696e-01,\n",
       "         1.44883158e+00],\n",
       "       [-5.25060772e-02, -5.92373012e-01,  7.62758269e-01,\n",
       "         1.58046376e+00],\n",
       "       [ 5.53333275e-01, -1.74335684e+00,  3.64896281e-01,\n",
       "         1.32509732e-01],\n",
       "       [-5.25060772e-02, -8.22569778e-01,  1.94384000e-01,\n",
       "        -2.62386821e-01],\n",
       "       [-9.00681170e-01,  1.70959465e+00, -1.05603939e+00,\n",
       "        -1.05217993e+00],\n",
       "       [ 1.76501198e+00, -3.62176246e-01,  1.44480739e+00,\n",
       "         7.90670654e-01],\n",
       "       [-9.00681170e-01,  7.88807586e-01, -1.28338910e+00,\n",
       "        -1.31544430e+00],\n",
       "       [ 2.24968346e+00, -5.92373012e-01,  1.67215710e+00,\n",
       "         1.05393502e+00],\n",
       "       [ 4.32165405e-01, -5.92373012e-01,  5.92245988e-01,\n",
       "         7.90670654e-01],\n",
       "       [ 1.89829664e-01, -1.97355361e+00,  7.05920842e-01,\n",
       "         3.95774101e-01],\n",
       "       [-5.25060772e-02, -8.22569778e-01,  7.62758269e-01,\n",
       "         9.22302838e-01],\n",
       "       [-4.16009689e-01, -1.28296331e+00,  1.37546573e-01,\n",
       "         1.32509732e-01],\n",
       "       [ 1.89829664e-01, -8.22569778e-01,  7.62758269e-01,\n",
       "         5.27406285e-01],\n",
       "       [ 2.12851559e+00, -1.31979479e-01,  1.61531967e+00,\n",
       "         1.18556721e+00],\n",
       "       [ 6.74501145e-01, -5.92373012e-01,  1.04694540e+00,\n",
       "         1.18556721e+00],\n",
       "       [-2.94841818e-01, -1.31979479e-01,  4.21733708e-01,\n",
       "         3.95774101e-01],\n",
       "       [-5.37177559e-01,  7.88807586e-01, -1.16971425e+00,\n",
       "        -1.31544430e+00],\n",
       "       [-1.50652052e+00,  3.28414053e-01, -1.34022653e+00,\n",
       "        -1.31544430e+00],\n",
       "       [-4.16009689e-01, -1.05276654e+00,  3.64896281e-01,\n",
       "         8.77547895e-04],\n",
       "       [ 7.95669016e-01, -1.31979479e-01,  8.19595696e-01,\n",
       "         1.05393502e+00],\n",
       "       [-1.02184904e+00,  1.01900435e+00, -1.39706395e+00,\n",
       "        -1.18381211e+00],\n",
       "       [ 1.03800476e+00, -1.31979479e-01,  7.05920842e-01,\n",
       "         6.59038469e-01],\n",
       "       [-7.79513300e-01,  1.01900435e+00, -1.28338910e+00,\n",
       "        -1.31544430e+00],\n",
       "       [-1.50652052e+00,  9.82172869e-02, -1.28338910e+00,\n",
       "        -1.31544430e+00],\n",
       "       [ 6.86617933e-02,  3.28414053e-01,  5.92245988e-01,\n",
       "         7.90670654e-01],\n",
       "       [ 1.15917263e+00, -1.31979479e-01,  9.90107977e-01,\n",
       "         1.18556721e+00],\n",
       "       [-1.87002413e+00, -1.31979479e-01, -1.51073881e+00,\n",
       "        -1.44707648e+00],\n",
       "       [ 1.64384411e+00,  1.24920112e+00,  1.33113254e+00,\n",
       "         1.71209594e+00],\n",
       "       [-1.26418478e+00, -1.31979479e-01, -1.34022653e+00,\n",
       "        -1.44707648e+00],\n",
       "       [ 3.10997534e-01, -5.92373012e-01,  5.35408562e-01,\n",
       "         8.77547895e-04],\n",
       "       [ 3.10997534e-01, -3.62176246e-01,  5.35408562e-01,\n",
       "         2.64141916e-01],\n",
       "       [-1.26418478e+00,  7.88807586e-01, -1.22655167e+00,\n",
       "        -1.31544430e+00],\n",
       "       [-9.00681170e-01,  5.58610819e-01, -1.16971425e+00,\n",
       "        -9.20547742e-01],\n",
       "       [-7.79513300e-01,  2.40018495e+00, -1.28338910e+00,\n",
       "        -1.44707648e+00],\n",
       "       [ 4.32165405e-01,  7.88807586e-01,  9.33270550e-01,\n",
       "         1.44883158e+00],\n",
       "       [ 3.10997534e-01, -1.05276654e+00,  1.04694540e+00,\n",
       "         2.64141916e-01],\n",
       "       [ 1.89829664e-01, -1.31979479e-01,  5.92245988e-01,\n",
       "         7.90670654e-01],\n",
       "       [ 2.24968346e+00, -1.31979479e-01,  1.33113254e+00,\n",
       "         1.44883158e+00],\n",
       "       [ 6.86617933e-02, -1.31979479e-01,  2.51221427e-01,\n",
       "         3.95774101e-01],\n",
       "       [ 1.89829664e-01, -3.62176246e-01,  4.21733708e-01,\n",
       "         3.95774101e-01],\n",
       "       [-5.25060772e-02, -1.05276654e+00,  1.37546573e-01,\n",
       "         8.77547895e-04],\n",
       "       [-1.62768839e+00, -1.74335684e+00, -1.39706395e+00,\n",
       "        -1.18381211e+00],\n",
       "       [-1.14301691e+00, -1.51316008e+00, -2.60315415e-01,\n",
       "        -2.62386821e-01],\n",
       "       [ 3.10997534e-01, -1.31979479e-01,  4.78571135e-01,\n",
       "         2.64141916e-01],\n",
       "       [ 2.24968346e+00,  1.70959465e+00,  1.67215710e+00,\n",
       "         1.31719939e+00],\n",
       "       [-6.58345429e-01,  1.47939788e+00, -1.28338910e+00,\n",
       "        -1.31544430e+00],\n",
       "       [-1.73673948e-01, -1.28296331e+00,  7.05920842e-01,\n",
       "         1.05393502e+00],\n",
       "       [-1.74885626e+00, -1.31979479e-01, -1.39706395e+00,\n",
       "        -1.31544430e+00],\n",
       "       [ 4.32165405e-01, -3.62176246e-01,  3.08058854e-01,\n",
       "         1.32509732e-01],\n",
       "       [-1.14301691e+00,  9.82172869e-02, -1.28338910e+00,\n",
       "        -1.44707648e+00],\n",
       "       [ 6.74501145e-01,  3.28414053e-01,  8.76433123e-01,\n",
       "         1.44883158e+00],\n",
       "       [-1.02184904e+00,  7.88807586e-01, -1.22655167e+00,\n",
       "        -1.05217993e+00],\n",
       "       [-1.50652052e+00,  7.88807586e-01, -1.34022653e+00,\n",
       "        -1.18381211e+00],\n",
       "       [-1.73673948e-01, -5.92373012e-01,  4.21733708e-01,\n",
       "         1.32509732e-01],\n",
       "       [ 7.95669016e-01, -1.31979479e-01,  1.16062026e+00,\n",
       "         1.31719939e+00],\n",
       "       [-7.79513300e-01, -8.22569778e-01,  8.07091462e-02,\n",
       "         2.64141916e-01],\n",
       "       [-5.25060772e-02, -8.22569778e-01,  7.62758269e-01,\n",
       "         9.22302838e-01],\n",
       "       [-1.73673948e-01,  1.70959465e+00, -1.16971425e+00,\n",
       "        -1.18381211e+00],\n",
       "       [ 7.95669016e-01, -1.31979479e-01,  9.90107977e-01,\n",
       "         7.90670654e-01],\n",
       "       [-1.02184904e+00, -1.31979479e-01, -1.22655167e+00,\n",
       "        -1.31544430e+00],\n",
       "       [ 1.03800476e+00,  5.58610819e-01,  1.10378283e+00,\n",
       "         1.18556721e+00],\n",
       "       [-5.37177559e-01,  1.47939788e+00, -1.28338910e+00,\n",
       "        -1.31544430e+00],\n",
       "       [ 1.28034050e+00,  9.82172869e-02,  9.33270550e-01,\n",
       "         1.18556721e+00],\n",
       "       [ 1.15917263e+00, -5.92373012e-01,  5.92245988e-01,\n",
       "         2.64141916e-01],\n",
       "       [-4.16009689e-01, -1.74335684e+00,  1.37546573e-01,\n",
       "         1.32509732e-01],\n",
       "       [ 1.88617985e+00, -5.92373012e-01,  1.33113254e+00,\n",
       "         9.22302838e-01],\n",
       "       [-1.02184904e+00,  5.58610819e-01, -1.34022653e+00,\n",
       "        -1.31544430e+00],\n",
       "       [ 6.74501145e-01,  3.28414053e-01,  4.21733708e-01,\n",
       "         3.95774101e-01],\n",
       "       [-5.37177559e-01,  1.93979142e+00, -1.39706395e+00,\n",
       "        -1.05217993e+00],\n",
       "       [ 1.64384411e+00, -1.31979479e-01,  1.16062026e+00,\n",
       "         5.27406285e-01],\n",
       "       [ 1.15917263e+00,  3.28414053e-01,  1.21745768e+00,\n",
       "         1.44883158e+00],\n",
       "       [-1.26418478e+00,  7.88807586e-01, -1.05603939e+00,\n",
       "        -1.31544430e+00],\n",
       "       [ 1.03800476e+00,  9.82172869e-02,  1.04694540e+00,\n",
       "         1.58046376e+00]])"
      ]
     },
     "execution_count": 11,
     "metadata": {},
     "output_type": "execute_result"
    }
   ],
   "source": [
    "X_half1"
   ]
  },
  {
   "cell_type": "code",
   "execution_count": 19,
   "metadata": {},
   "outputs": [
    {
     "name": "stdout",
     "output_type": "stream",
     "text": [
      "[[-2.26221453  2.68628449]\n",
      " [-2.33464048 -1.11532768]\n",
      " [ 1.87050329  0.38696608]\n",
      " [ 1.4676452  -0.44227159]\n",
      " [ 1.04453138 -1.38298872]\n",
      " [ 0.15881005 -0.79209574]\n",
      " [-2.13705901  1.14222926]\n",
      " [ 2.30243944  0.42006558]\n",
      " [-2.16971071  0.26887896]\n",
      " [ 2.89765149  0.41364106]\n",
      " [ 1.17510363 -0.31639447]\n",
      " [ 1.26376667 -1.70674538]\n",
      " [ 1.15788161 -0.69886986]\n",
      " [ 0.28347724 -1.32932464]\n",
      " [ 1.06109461 -0.63384324]\n",
      " [ 2.75187334  0.8004092 ]\n",
      " [ 1.78834992 -0.18736121]\n",
      " [ 0.35025167 -0.19631173]\n",
      " [-1.914323    0.40885571]\n",
      " [-2.39437631 -0.38624687]\n",
      " [ 0.27907778 -1.12002852]\n",
      " [ 1.5211705   0.26906914]\n",
      " [-2.28647514  0.44171539]\n",
      " [ 1.35840512  0.33131168]\n",
      " [-2.16857717  0.52714953]\n",
      " [-2.29938422 -0.59739451]\n",
      " [ 0.73768265  0.39657156]\n",
      " [ 1.8839007   0.41924965]\n",
      " [-2.6331007  -0.96150673]\n",
      " [ 2.25977735  1.92101038]\n",
      " [-2.2184509  -0.72867617]\n",
      " [ 0.6328582  -0.41638772]\n",
      " [ 0.71956189 -0.18622461]\n",
      " [-2.32613087  0.13307834]\n",
      " [-1.81866953  0.08555853]\n",
      " [-2.61494794  1.79357586]\n",
      " [ 1.37278779  1.01125442]\n",
      " [ 1.2024733  -0.81131527]\n",
      " [ 0.92482492  0.0172231 ]\n",
      " [ 2.79877045  0.85680333]\n",
      " [ 0.44069345 -0.06329519]\n",
      " [ 0.66480037 -0.22592785]\n",
      " [ 0.33653037 -0.98840402]\n",
      " [-1.85812246 -2.33741516]\n",
      " [-0.48732274 -1.85242909]\n",
      " [ 0.62456979  0.02492303]\n",
      " [ 2.42632899  2.55666125]\n",
      " [-2.22944655  0.99795976]\n",
      " [ 1.2601151  -1.16226042]\n",
      " [-2.42963258 -0.90418004]\n",
      " [ 0.57638829 -0.1548736 ]\n",
      " [-2.18432817 -0.46901356]\n",
      " [ 1.59007732  0.67624481]\n",
      " [-2.05115137  0.24216355]\n",
      " [-2.44402884  0.0476442 ]\n",
      " [ 0.38868734 -0.59328364]\n",
      " [ 1.86781222  0.29504482]\n",
      " [ 0.01142619 -1.03401828]\n",
      " [ 1.15788161 -0.69886986]\n",
      " [-1.898572    1.40501879]\n",
      " [ 1.47143146  0.25562182]\n",
      " [-1.95184633 -0.62561859]\n",
      " [ 1.7007339   1.01392187]\n",
      " [-2.1663101   1.04369065]\n",
      " [ 1.85204505  0.67612817]\n",
      " [ 1.25650912 -0.07725602]\n",
      " [ 0.40748306 -1.75440399]\n",
      " [ 2.43595373  0.25928443]\n",
      " [-2.20383344  0.00921636]\n",
      " [ 0.73133743  0.59461473]\n",
      " [-2.2075877   1.48360936]\n",
      " [ 1.86364755  0.56229073]\n",
      " [ 2.04055823  0.8675206 ]\n",
      " [-2.22716331  0.13725446]\n",
      " [ 2.01481043  0.61388564]]\n"
     ]
    }
   ],
   "source": [
    "# Data frame to store features and predicted cluster memberships.\n",
    "ypred = pd.DataFrame()\n",
    "\n",
    "# Pass a list of tuples and a counter that increments each time we go\n",
    "# through the loop. The tuples are the data to be used by k-means,\n",
    "# and the PCA-derived features for graphing. We use k-means to fit a\n",
    "# model to the data, then store the predicted values and the two-feature\n",
    "# PCA solution in the data frame.\n",
    "for counter, data in enumerate([\n",
    "    (X_half1, X_pcahalf1),\n",
    "    (X_half2, X_pcahalf2)]):\n",
    "    print(data[1])\n",
    "    break\n",
    "    \n",
    "    # Put the features into ypred.\n",
    "    ypred['pca_f1' + '_sample' + str(counter)] = data[1][:, 0]\n",
    "    ypred['pca_f2' + '_sample' + str(counter)] = data[1][:, 1]\n",
    "    \n",
    "    # Generate cluster predictions and store them for clusters 2 to 4.\n",
    "    for nclust in range(2, 5):\n",
    "        pred = KMeans(n_clusters=nclust, random_state=123).fit_predict(data[counter])\n",
    "        ypred['clust' + str(nclust) + '_sample' + str(counter)] = pred"
   ]
  },
  {
   "cell_type": "markdown",
   "metadata": {},
   "source": [
    "Now, we can visualize the results. We graph the clustering results for each of the subsamples, first for the two-cluster solution and then for three- and four-cluster ones. "
   ]
  },
  {
   "cell_type": "code",
   "execution_count": 4,
   "metadata": {},
   "outputs": [
    {
     "data": {
      "image/png": "[encoded data removed]",
      "text/plain": [
       "<Figure size 432x288 with 2 Axes>"
      ]
     },
     "metadata": {
      "needs_background": "light"
     },
     "output_type": "display_data"
    },
    {
     "name": "stdout",
     "output_type": "stream",
     "text": [
      "\n",
      "\n"
     ]
    },
    {
     "data": {
      "image/png": "[encoded data removed]",
      "text/plain": [
       "<Figure size 432x288 with 2 Axes>"
      ]
     },
     "metadata": {
      "needs_background": "light"
     },
     "output_type": "display_data"
    },
    {
     "name": "stdout",
     "output_type": "stream",
     "text": [
      "\n",
      "\n"
     ]
    },
    {
     "data": {
      "image/png": "[encoded data removed]",
      "text/plain": [
       "<Figure size 432x288 with 2 Axes>"
      ]
     },
     "metadata": {
      "needs_background": "light"
     },
     "output_type": "display_data"
    },
    {
     "name": "stdout",
     "output_type": "stream",
     "text": [
      "\n",
      "\n"
     ]
    }
   ],
   "source": [
    "# For each  number of clusters, plot the clusters using the\n",
    "# pca features for each sample.\n",
    "for cluster in range(2, 5):\n",
    "    \n",
    "    # Make a grid of subplots.\n",
    "    f, axarr = plt.subplots(1, 2)\n",
    "    \n",
    "    # Make a plot for each sample.\n",
    "    for i in range(2):\n",
    "        \n",
    "        # PCA-created features.\n",
    "        x_sub = ypred['pca_f1_sample{}'.format(i)]\n",
    "        y_sub = ypred['pca_f2_sample{}'.format(i)]\n",
    "        \n",
    "        # Cluster assignments.\n",
    "        c = ypred['clust{}_sample{}'.format(cluster, i)]\n",
    "        \n",
    "        # Assign the subplot to its place on the grid.\n",
    "        axarr[i].scatter(x_sub, y_sub, c=c)\n",
    "        axarr[i].set_title('sample {}'.format(i))\n",
    "    \n",
    "    # Space out the plots so that the headings don't overlap axis values.\n",
    "    plt.suptitle('{} Clusters'.format(cluster), fontsize=20)\n",
    "    plt.tight_layout()\n",
    "    plt.show()\n",
    "    print('\\n')"
   ]
  },
  {
   "cell_type": "code",
   "execution_count": 12,
   "metadata": {},
   "outputs": [
    {
     "data": {
      "text/html": [
       "<div>\n",
       "<style scoped>\n",
       "    .dataframe tbody tr th:only-of-type {\n",
       "        vertical-align: middle;\n",
       "    }\n",
       "\n",
       "    .dataframe tbody tr th {\n",
       "        vertical-align: top;\n",
       "    }\n",
       "\n",
       "    .dataframe thead th {\n",
       "        text-align: right;\n",
       "    }\n",
       "</style>\n",
       "<table border=\"1\" class=\"dataframe\">\n",
       "  <thead>\n",
       "    <tr style=\"text-align: right;\">\n",
       "      <th></th>\n",
       "      <th>pca_f1_sample0</th>\n",
       "      <th>pca_f2_sample0</th>\n",
       "      <th>clust2_sample0</th>\n",
       "      <th>clust3_sample0</th>\n",
       "      <th>clust4_sample0</th>\n",
       "      <th>pca_f1_sample1</th>\n",
       "      <th>pca_f2_sample1</th>\n",
       "      <th>clust2_sample1</th>\n",
       "      <th>clust3_sample1</th>\n",
       "      <th>clust4_sample1</th>\n",
       "    </tr>\n",
       "  </thead>\n",
       "  <tbody>\n",
       "    <tr>\n",
       "      <th>0</th>\n",
       "      <td>-2.262215</td>\n",
       "      <td>2.686284</td>\n",
       "      <td>1</td>\n",
       "      <td>0</td>\n",
       "      <td>3</td>\n",
       "      <td>1.998147</td>\n",
       "      <td>1.049169</td>\n",
       "      <td>0</td>\n",
       "      <td>2</td>\n",
       "      <td>2</td>\n",
       "    </tr>\n",
       "    <tr>\n",
       "      <th>1</th>\n",
       "      <td>-2.334640</td>\n",
       "      <td>-1.115328</td>\n",
       "      <td>1</td>\n",
       "      <td>0</td>\n",
       "      <td>0</td>\n",
       "      <td>1.564580</td>\n",
       "      <td>-0.896687</td>\n",
       "      <td>0</td>\n",
       "      <td>0</td>\n",
       "      <td>1</td>\n",
       "    </tr>\n",
       "    <tr>\n",
       "      <th>2</th>\n",
       "      <td>1.870503</td>\n",
       "      <td>0.386966</td>\n",
       "      <td>0</td>\n",
       "      <td>2</td>\n",
       "      <td>2</td>\n",
       "      <td>1.901784</td>\n",
       "      <td>0.689575</td>\n",
       "      <td>0</td>\n",
       "      <td>2</td>\n",
       "      <td>2</td>\n",
       "    </tr>\n",
       "    <tr>\n",
       "      <th>3</th>\n",
       "      <td>1.467645</td>\n",
       "      <td>-0.442272</td>\n",
       "      <td>0</td>\n",
       "      <td>1</td>\n",
       "      <td>1</td>\n",
       "      <td>0.241538</td>\n",
       "      <td>-0.777256</td>\n",
       "      <td>0</td>\n",
       "      <td>0</td>\n",
       "      <td>1</td>\n",
       "    </tr>\n",
       "    <tr>\n",
       "      <th>4</th>\n",
       "      <td>1.044531</td>\n",
       "      <td>-1.382989</td>\n",
       "      <td>0</td>\n",
       "      <td>1</td>\n",
       "      <td>1</td>\n",
       "      <td>0.960656</td>\n",
       "      <td>-0.024332</td>\n",
       "      <td>0</td>\n",
       "      <td>2</td>\n",
       "      <td>1</td>\n",
       "    </tr>\n",
       "    <tr>\n",
       "      <th>...</th>\n",
       "      <td>...</td>\n",
       "      <td>...</td>\n",
       "      <td>...</td>\n",
       "      <td>...</td>\n",
       "      <td>...</td>\n",
       "      <td>...</td>\n",
       "      <td>...</td>\n",
       "      <td>...</td>\n",
       "      <td>...</td>\n",
       "      <td>...</td>\n",
       "    </tr>\n",
       "    <tr>\n",
       "      <th>70</th>\n",
       "      <td>-2.207588</td>\n",
       "      <td>1.483609</td>\n",
       "      <td>1</td>\n",
       "      <td>0</td>\n",
       "      <td>3</td>\n",
       "      <td>-2.109975</td>\n",
       "      <td>-0.460202</td>\n",
       "      <td>1</td>\n",
       "      <td>1</td>\n",
       "      <td>0</td>\n",
       "    </tr>\n",
       "    <tr>\n",
       "      <th>71</th>\n",
       "      <td>1.863648</td>\n",
       "      <td>0.562291</td>\n",
       "      <td>0</td>\n",
       "      <td>2</td>\n",
       "      <td>2</td>\n",
       "      <td>0.164918</td>\n",
       "      <td>-1.302609</td>\n",
       "      <td>0</td>\n",
       "      <td>0</td>\n",
       "      <td>3</td>\n",
       "    </tr>\n",
       "    <tr>\n",
       "      <th>72</th>\n",
       "      <td>2.040558</td>\n",
       "      <td>0.867521</td>\n",
       "      <td>0</td>\n",
       "      <td>2</td>\n",
       "      <td>2</td>\n",
       "      <td>0.091361</td>\n",
       "      <td>-0.181192</td>\n",
       "      <td>0</td>\n",
       "      <td>0</td>\n",
       "      <td>1</td>\n",
       "    </tr>\n",
       "    <tr>\n",
       "      <th>73</th>\n",
       "      <td>-2.227163</td>\n",
       "      <td>0.137254</td>\n",
       "      <td>1</td>\n",
       "      <td>0</td>\n",
       "      <td>0</td>\n",
       "      <td>0.927902</td>\n",
       "      <td>0.032226</td>\n",
       "      <td>0</td>\n",
       "      <td>2</td>\n",
       "      <td>1</td>\n",
       "    </tr>\n",
       "    <tr>\n",
       "      <th>74</th>\n",
       "      <td>2.014810</td>\n",
       "      <td>0.613886</td>\n",
       "      <td>0</td>\n",
       "      <td>2</td>\n",
       "      <td>2</td>\n",
       "      <td>1.225094</td>\n",
       "      <td>-1.622244</td>\n",
       "      <td>0</td>\n",
       "      <td>0</td>\n",
       "      <td>3</td>\n",
       "    </tr>\n",
       "  </tbody>\n",
       "</table>\n",
       "<p>75 rows × 10 columns</p>\n",
       "</div>"
      ],
      "text/plain": [
       "    pca_f1_sample0  pca_f2_sample0  clust2_sample0  clust3_sample0  \\\n",
       "0        -2.262215        2.686284               1               0   \n",
       "1        -2.334640       -1.115328               1               0   \n",
       "2         1.870503        0.386966               0               2   \n",
       "3         1.467645       -0.442272               0               1   \n",
       "4         1.044531       -1.382989               0               1   \n",
       "..             ...             ...             ...             ...   \n",
       "70       -2.207588        1.483609               1               0   \n",
       "71        1.863648        0.562291               0               2   \n",
       "72        2.040558        0.867521               0               2   \n",
       "73       -2.227163        0.137254               1               0   \n",
       "74        2.014810        0.613886               0               2   \n",
       "\n",
       "    clust4_sample0  pca_f1_sample1  pca_f2_sample1  clust2_sample1  \\\n",
       "0                3        1.998147        1.049169               0   \n",
       "1                0        1.564580       -0.896687               0   \n",
       "2                2        1.901784        0.689575               0   \n",
       "3                1        0.241538       -0.777256               0   \n",
       "4                1        0.960656       -0.024332               0   \n",
       "..             ...             ...             ...             ...   \n",
       "70               3       -2.109975       -0.460202               1   \n",
       "71               2        0.164918       -1.302609               0   \n",
       "72               2        0.091361       -0.181192               0   \n",
       "73               0        0.927902        0.032226               0   \n",
       "74               2        1.225094       -1.622244               0   \n",
       "\n",
       "    clust3_sample1  clust4_sample1  \n",
       "0                2               2  \n",
       "1                0               1  \n",
       "2                2               2  \n",
       "3                0               1  \n",
       "4                2               1  \n",
       "..             ...             ...  \n",
       "70               1               0  \n",
       "71               0               3  \n",
       "72               0               1  \n",
       "73               2               1  \n",
       "74               0               3  \n",
       "\n",
       "[75 rows x 10 columns]"
      ]
     },
     "execution_count": 12,
     "metadata": {},
     "output_type": "execute_result"
    }
   ],
   "source": [
    "ypred"
   ]
  },
  {
   "cell_type": "markdown",
   "metadata": {
    "run_control": {
     "frozen": false,
     "read_only": false
    }
   },
   "source": [
    "Ignoring the specific colors assigned to each cluster, it appears that the four cluster solution doesn't seem to be consistent across the subsamples. For example, in the first subsample, k-means assigns two clusters for the observations at the left side of the chart. However, in the second subsample, it assigns only a single cluster for the observations that reside on the left side of the chart.\n",
    "\n",
    "On the other hand, the two- and three-cluster solutions yield consistent results in terms of cluster center and cluster shape. Don't forget, however, that we are evaluating this based on the first two principal components from PCA rather than the four-dimensional data actually used by k-means. So the information value of these plots depends on how much information is retained by the PCA. Although, we know that the correct solution should give us three clusters, two-cluster solution also does well in this example. In similar cases like this, we should always look for other measures to determine the consistency of the clustering algorithms.\n",
    "\n",
    "One possible alternative might be to compute the descriptive statistics of the features for each solution. In a consistent solution, the descriptive statistics for each subsample should have similar scores for each feature.\n",
    "\n",
    "**Note**: Notice that we ran the experiment above by randomly splitting the original sample into two. However, the randomness in selecting these subsamples may lead us to faulty conclusions. To see this, play with the `random_state` parameter of the `train_test_split` function and check whether our discussion remains valid for all the values of the `random_state` parameter. In these kind of experiments, it's safer to check your results with different parameter values that may affect your samples.\n",
    "\n",
    "Instead of relying on visualizations, which is somewhat subjective, we should find quantitative ways of evaluating the clustering algorithms. Next, we present some common methods of evaluating clustering solutions first using the ground truths in the data and then without using the ground truths."
   ]
  },
  {
   "cell_type": "markdown",
   "metadata": {
    "run_control": {
     "frozen": false,
     "read_only": false
    }
   },
   "source": [
    "## When we have existing labels: contingency tables, RI, and ARI\n",
    "\n",
    "If we have a \"ground truth\" – some existing data point group memberships that we can use to check our clusters against – then we can choose the cluster solution that most closely replicates the group memberships we already know. [There are a lot of methods for this](http://scikit-learn.org/stable/modules/clustering.html#clustering-performance-evaluation). We will review two, the basic **contingency table** and the somewhat more complex **Adjusted Rand Index (ARI)**.\n",
    "\n",
    "#### Contingency tables\n",
    "\n",
    "A contingency table is a tabulation of the number of observations in each class against the clusters that are assigned to them. We can make use of the Pandas' `crosstab()` function to derive a contingency table. Here is an example of a *contingency table* comparing the cluster memberships for the ground truth and the new cluster solution for our k-means analysis of the Iris data:"
   ]
  },
  {
   "cell_type": "code",
   "execution_count": 5,
   "metadata": {
    "run_control": {
     "frozen": false,
     "read_only": false
    }
   },
   "outputs": [
    {
     "data": {
      "text/html": [
       "<div>\n",
       "<style scoped>\n",
       "    .dataframe tbody tr th:only-of-type {\n",
       "        vertical-align: middle;\n",
       "    }\n",
       "\n",
       "    .dataframe tbody tr th {\n",
       "        vertical-align: top;\n",
       "    }\n",
       "\n",
       "    .dataframe thead th {\n",
       "        text-align: right;\n",
       "    }\n",
       "</style>\n",
       "<table border=\"1\" class=\"dataframe\">\n",
       "  <thead>\n",
       "    <tr style=\"text-align: right;\">\n",
       "      <th>col_0</th>\n",
       "      <th>0</th>\n",
       "      <th>1</th>\n",
       "      <th>2</th>\n",
       "    </tr>\n",
       "    <tr>\n",
       "      <th>row_0</th>\n",
       "      <th></th>\n",
       "      <th></th>\n",
       "      <th></th>\n",
       "    </tr>\n",
       "  </thead>\n",
       "  <tbody>\n",
       "    <tr>\n",
       "      <th>0</th>\n",
       "      <td>50</td>\n",
       "      <td>0</td>\n",
       "      <td>0</td>\n",
       "    </tr>\n",
       "    <tr>\n",
       "      <th>1</th>\n",
       "      <td>0</td>\n",
       "      <td>39</td>\n",
       "      <td>11</td>\n",
       "    </tr>\n",
       "    <tr>\n",
       "      <th>2</th>\n",
       "      <td>0</td>\n",
       "      <td>14</td>\n",
       "      <td>36</td>\n",
       "    </tr>\n",
       "  </tbody>\n",
       "</table>\n",
       "</div>"
      ],
      "text/plain": [
       "col_0   0   1   2\n",
       "row_0            \n",
       "0      50   0   0\n",
       "1       0  39  11\n",
       "2       0  14  36"
      ]
     },
     "execution_count": 5,
     "metadata": {},
     "output_type": "execute_result"
    }
   ],
   "source": [
    "# Get predicted clusters.\n",
    "full_pred = KMeans(n_clusters=3, random_state=123).fit_predict(X_std)\n",
    "\n",
    "pd.crosstab(y, full_pred) "
   ]
  },
  {
   "cell_type": "markdown",
   "metadata": {},
   "source": [
    "This is somewhat confusing. Pandas' `crosstab()` function returns the cross-tabulation by sorting the cluster names, which are given randomly. Hence, before interpreting this table, we need to organize it a little bit. It seems that the cluster labeled 0 is associated with the class labeled 1, and the cluster labeled 1 is associated with the class labeled 0. So, let's rename the clusters accordingly and print out the contingency table again:"
   ]
  },
  {
   "cell_type": "code",
   "execution_count": 6,
   "metadata": {
    "scrolled": true
   },
   "outputs": [
    {
     "data": {
      "text/html": [
       "<div>\n",
       "<style scoped>\n",
       "    .dataframe tbody tr th:only-of-type {\n",
       "        vertical-align: middle;\n",
       "    }\n",
       "\n",
       "    .dataframe tbody tr th {\n",
       "        vertical-align: top;\n",
       "    }\n",
       "\n",
       "    .dataframe thead th {\n",
       "        text-align: right;\n",
       "    }\n",
       "</style>\n",
       "<table border=\"1\" class=\"dataframe\">\n",
       "  <thead>\n",
       "    <tr style=\"text-align: right;\">\n",
       "      <th>col_0</th>\n",
       "      <th>0</th>\n",
       "      <th>1</th>\n",
       "      <th>2</th>\n",
       "    </tr>\n",
       "    <tr>\n",
       "      <th>row_0</th>\n",
       "      <th></th>\n",
       "      <th></th>\n",
       "      <th></th>\n",
       "    </tr>\n",
       "  </thead>\n",
       "  <tbody>\n",
       "    <tr>\n",
       "      <th>0</th>\n",
       "      <td>0</td>\n",
       "      <td>50</td>\n",
       "      <td>0</td>\n",
       "    </tr>\n",
       "    <tr>\n",
       "      <th>1</th>\n",
       "      <td>39</td>\n",
       "      <td>0</td>\n",
       "      <td>11</td>\n",
       "    </tr>\n",
       "    <tr>\n",
       "      <th>2</th>\n",
       "      <td>14</td>\n",
       "      <td>0</td>\n",
       "      <td>36</td>\n",
       "    </tr>\n",
       "  </tbody>\n",
       "</table>\n",
       "</div>"
      ],
      "text/plain": [
       "col_0   0   1   2\n",
       "row_0            \n",
       "0       0  50   0\n",
       "1      39   0  11\n",
       "2      14   0  36"
      ]
     },
     "execution_count": 6,
     "metadata": {},
     "output_type": "execute_result"
    }
   ],
   "source": [
    "full_pred = np.array([0 if x == 1 else 1 if x==0 else 2 for x in full_pred])\n",
    "\n",
    "pd.crosstab(y, full_pred) "
   ]
  },
  {
   "cell_type": "markdown",
   "metadata": {
    "run_control": {
     "frozen": false,
     "read_only": false
    }
   },
   "source": [
    "Now, we can read it more clearly. It seems that, all of the observations that belong to class 0 are assigned to the same cluster labeled with 0. This is great! However, remember that this class is the one that is linearly separable from the other two. Moreover, our k-means solution mistakenly assigns 14 of the observations that belong to class 1 to cluster 2 and 11 of the observations that belong to class 2 to the cluster 1. So out of 150 observations, 25 of the data points seem to be assigned to the wrong clusters. Well, not horrible, but not *amazing*. \n",
    "\n",
    "We could go further and convert it to a ratio of \"correctly assigned\" datapoints to total datapoints, in order to get a one-number solution we could use to compare across algorithms. However, this basic contingency table solution fails to capture one of the most important things about clustering – that it not only tells us about cluster memberships of individual datapoints, but also about the relationships between datapoint pairs. To do that, let's talk about *Rand Index*:\n",
    "\n",
    "\n",
    "### The Rand Index\n",
    "\n",
    "The *Rand Index* compares how pairs of datapoints relate in the ground truth and in the new solution. There are four possible types of pair relationships:\n",
    "\n",
    " a. Members of the same cluster in the ground truth, and members of the same cluster in the new solution.  \n",
    " b. Members of the same cluster in the ground truth, and members of different clusters in the new solution.  \n",
    " c. Members of different clusters in the ground truth, and members of the same cluster in the new solution.  \n",
    " d. Members of different clusters in the ground truth, and members of different clusters in the new solution.  \n",
    "\n",
    "The **Rand Index (RI)** is the ratio of the number of pairs where the ground truth and the new solution agree, over the total number of pairs:\n",
    "\n",
    "$$RI=\\dfrac{a+d}{a+b+c+d}$$\n",
    "\n",
    "Scores range from 0 to 1, where 1 indicates perfect agreement between the ground truth and the new solution.\n",
    "\n",
    "Let's calculate the RI by hand:"
   ]
  },
  {
   "cell_type": "code",
   "execution_count": 7,
   "metadata": {},
   "outputs": [],
   "source": [
    "def rand_index_score(grount_truths, predictions):\n",
    "    tp_plus_fp = scipy.special.comb(np.bincount(grount_truths), 2).sum()\n",
    "    tp_plus_fn = scipy.special.comb(np.bincount(grount_truths), 2).sum()\n",
    "    A = np.c_[(grount_truths, predictions)]\n",
    "    tp = sum(scipy.special.comb(np.bincount(A[A[:, 0] == i, 1]), 2).sum()\n",
    "             for i in set(grount_truths))\n",
    "    fp = tp_plus_fp - tp\n",
    "    fn = tp_plus_fn - tp\n",
    "    tn = scipy.special.comb(len(A), 2) - tp - fp - fn\n",
    "    return (tp + tn) / (tp + fp + fn + tn)"
   ]
  },
  {
   "cell_type": "code",
   "execution_count": 8,
   "metadata": {},
   "outputs": [
    {
     "data": {
      "text/plain": [
       "0.8330201342281879"
      ]
     },
     "execution_count": 8,
     "metadata": {},
     "output_type": "execute_result"
    }
   ],
   "source": [
    "rand_index_score(y, full_pred)"
   ]
  },
  {
   "cell_type": "markdown",
   "metadata": {
    "run_control": {
     "frozen": false,
     "read_only": false
    }
   },
   "source": [
    "The RI score is quite close to 1, which is a good sign for the performance of our k-means solution. \n",
    "\n",
    "While RI is nice because it can also be interpreted as the probability that the ground truth and the new solution will agree for any pair, it fails to account for the effect of chance. If we just assigned datapoints to clusters at random (the same number and size of clusters), we'd get an RI considerably higher than 0. The RI produced by random cluster assignment is called the **Expected RI ( or in short $\\mathbb{E}(RI)$)**.\n",
    "\n",
    "### Adjusted Rand Index\n",
    "\n",
    "The **Adjusted Rand Index (ARI)** applies $\\mathbb{E}(RI)$ as a correction factor. With ARI, it is possible to get values less than 0, but 1 still indicates perfect agreement, and 0 indicates perfect randomness.\n",
    "\n",
    "In a two-cluster solution with an equal number of datapoints in each cluster, just assigning each datapoint to cluster 0 or cluster 1 at random would yield an RI of .5. To correct for the influence of chance and to yield a metric where 0 indicates random labeling and 1 indicates perfect replication of the ground truth, the *Adjusted Rand Index* applies a correction factor based on the expected RI from randomness:\n",
    "\n",
    "$$ARI=\\dfrac{RI-\\mathbb{E}(RI)}{max(RI)-\\mathbb{E}(RI)}$$"
   ]
  },
  {
   "cell_type": "code",
   "execution_count": 9,
   "metadata": {
    "run_control": {
     "frozen": false,
     "read_only": false
    }
   },
   "outputs": [
    {
     "data": {
      "text/plain": [
       "0.6201351808870379"
      ]
     },
     "execution_count": 9,
     "metadata": {},
     "output_type": "execute_result"
    }
   ],
   "source": [
    "metrics.adjusted_rand_score(y, full_pred)"
   ]
  },
  {
   "cell_type": "markdown",
   "metadata": {
    "run_control": {
     "frozen": false,
     "read_only": false
    }
   },
   "source": [
    "This tells us that our k-means clustering solution is closer to perfect than to random. Yet, there's still room for improvement. Perhaps a different algorithm would do better. \n",
    "\n",
    "**Note**: ARI can be used effectively on all clustering algorithm types, so it is great for comparing different algorithm solutions to one another."
   ]
  },
  {
   "cell_type": "markdown",
   "metadata": {
    "run_control": {
     "frozen": false,
     "read_only": false
    }
   },
   "source": [
    "# When we <u>don't</u> have existing labels: similarity\n",
    "\n",
    "What if we don't have a ground truth? Then we need to use other criteria to evalute clusters, such as similarity. A good cluster is made up of datapoints that are more similar to one another than they are to datapoints in other clusters. One way of computing similarity is the **silhouette coefficient**.\n",
    "\n",
    "For each datapoint, the *silhouette coefficient* is the difference between the mean distance between that datapoint and all other points in its cluster ($a_i$) and the mean distance between that datapoint and all other points in the *nearest other* cluster ($b_i$), divided by whichever of the two values is highest:  \n",
    "\n",
    "$$\\dfrac{b_i-a_i}{max(b_i,a_i)}$$\n",
    "\n",
    "The mean of the silhouette coefficients for all datapoints is the silhouette coefficient for that clustering solution on that data. Values range from -1 for very bad clusters to +1 for very dense clusters. However, if clusters employ non-flat geometry, this index will not work well.\n",
    "\n",
    "The silhouette coefficient is useful for situations where you want to compare the solutions of different clustering algorithms and you don't have a ground truth. Silhouette coefficients can be compared across algorithms, creating a one-number index to represent a clustering solution and compare it against others.\n",
    "\n",
    "Let's try the index on the Iris data, using the three-cluster solution:"
   ]
  },
  {
   "cell_type": "code",
   "execution_count": 10,
   "metadata": {
    "run_control": {
     "frozen": false,
     "read_only": false
    }
   },
   "outputs": [
    {
     "name": "stdout",
     "output_type": "stream",
     "text": [
      "0.45994823920518635\n"
     ]
    }
   ],
   "source": [
    "labels = KMeans(n_clusters=3, random_state=123).fit_predict(X_std)\n",
    "print(metrics.silhouette_score(X_std, labels, metric='euclidean'))"
   ]
  },
  {
   "cell_type": "markdown",
   "metadata": {
    "run_control": {
     "frozen": false,
     "read_only": false
    }
   },
   "source": [
    "It appears that our three-cluster solution produces clusters of datapoints that are closer to other datapoints in the cluster than they are to datapoints in the other clusters. This is good. "
   ]
  },
  {
   "cell_type": "code",
   "execution_count": null,
   "metadata": {},
   "outputs": [],
   "source": []
  }
 ],
 "metadata": {
  "hide_input": false,
  "kernelspec": {
   "display_name": "Python 3",
   "language": "python",
   "name": "python3"
  },
  "language_info": {
   "codemirror_mode": {
    "name": "ipython",
    "version": 3
   },
   "file_extension": ".py",
   "mimetype": "text/x-python",
   "name": "python",
   "nbconvert_exporter": "python",
   "pygments_lexer": "ipython3",
   "version": "3.7.6"
  },
  "latex_envs": {
   "LaTeX_envs_menu_present": true,
   "autoclose": false,
   "autocomplete": true,
   "bibliofile": "biblio.bib",
   "cite_by": "apalike",
   "current_citInitial": 1,
   "eqLabelWithNumbers": true,
   "eqNumInitial": 1,
   "hotkeys": {
    "equation": "Ctrl-E",
    "itemize": "Ctrl-I"
   },
   "labels_anchors": false,
   "latex_user_defs": false,
   "report_style_numbering": false,
   "user_envs_cfg": false
  },
  "toc": {
   "colors": {
    "hover_highlight": "#DAA520",
    "running_highlight": "#FF0000",
    "selected_highlight": "#FFD700"
   },
   "moveMenuLeft": true,
   "nav_menu": {
    "height": "171px",
    "width": "252px"
   },
   "navigate_menu": true,
   "number_sections": true,
   "sideBar": true,
   "threshold": 4,
   "toc_cell": false,
   "toc_section_display": "block",
   "toc_window_display": false
  },
  "varInspector": {
   "cols": {
    "lenName": 16,
    "lenType": 16,
    "lenVar": 40
   },
   "kernels_config": {
    "python": {
     "delete_cmd_postfix": "",
     "delete_cmd_prefix": "del ",
     "library": "var_list.py",
     "varRefreshCmd": "print(var_dic_list())"
    },
    "r": {
     "delete_cmd_postfix": ") ",
     "delete_cmd_prefix": "rm(",
     "library": "var_list.r",
     "varRefreshCmd": "cat(var_dic_list()) "
    }
   },
   "types_to_exclude": [
    "module",
    "function",
    "builtin_function_or_method",
    "instance",
    "_Feature"
   ],
   "window_display": false
  }
 },
 "nbformat": 4,
 "nbformat_minor": 2
}
