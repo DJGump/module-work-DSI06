{
 "cells": [
  {
   "cell_type": "code",
   "execution_count": 1,
   "metadata": {},
   "outputs": [
    {
     "data": {
      "application/javascript": [
       "\n",
       "            setTimeout(function() {\n",
       "                var nbb_cell_id = 1;\n",
       "                var nbb_unformatted_code = \"%reload_ext nb_black\";\n",
       "                var nbb_formatted_code = \"%reload_ext nb_black\";\n",
       "                var nbb_cells = Jupyter.notebook.get_cells();\n",
       "                for (var i = 0; i < nbb_cells.length; ++i) {\n",
       "                    if (nbb_cells[i].input_prompt_number == nbb_cell_id) {\n",
       "                        if (nbb_cells[i].get_text() == nbb_unformatted_code) {\n",
       "                             nbb_cells[i].set_text(nbb_formatted_code);\n",
       "                        }\n",
       "                        break;\n",
       "                    }\n",
       "                }\n",
       "            }, 500);\n",
       "            "
      ],
      "text/plain": [
       "<IPython.core.display.Javascript object>"
      ]
     },
     "metadata": {},
     "output_type": "display_data"
    }
   ],
   "source": [
    "%reload_ext nb_black"
   ]
  },
  {
   "cell_type": "markdown",
   "metadata": {},
   "source": [
    "# Clustering Algorithms\n",
    "\n",
    "## Table of Contents\n",
    "\n",
    "* Making up data (code needs to be run to, but don't worry about the code here)\n",
    "* [Intro Data EDA](#Intro-Data-EDA)\n",
    "    * `TODO: write high level notes here`\n",
    "    \n",
    "    \n",
    "* [KMeans](#KMeans)\n",
    "    * `TODO: write high level notes here`\n",
    "    \n",
    "    \n",
    "* [kmedoids](#kmedoids)\n",
    "    * `TODO: write high level notes here`\n",
    "    \n",
    "    \n",
    "* [AgglomerativeClustering](#AgglomerativeClustering)\n",
    "    * `TODO: write high level notes here`\n",
    "    \n",
    "    \n",
    "* [DBSCAN](#DBSCAN)\n",
    "    * `TODO: write high level notes here`\n",
    "    \n",
    "    \n",
    "* [GaussianMixture](#GaussianMixture)\n",
    "    * `TODO: write high level notes here`\n",
    "    \n",
    "    \n",
    "* [MeanShift](#MeanShift)\n",
    "    * `TODO: write high level notes here`\n",
    "    \n",
    "    \n",
    "* [AffinityPropagation](#AffinityPropagation)\n",
    "    * `TODO: write high level notes here`\n",
    "    \n",
    "    "
   ]
  },
  {
   "cell_type": "code",
   "execution_count": 2,
   "metadata": {},
   "outputs": [
    {
     "data": {
      "application/javascript": [
       "\n",
       "            setTimeout(function() {\n",
       "                var nbb_cell_id = 2;\n",
       "                var nbb_unformatted_code = \"import pandas as pd\\nimport numpy as np\\n\\nfrom scipy.spatial.distance import pdist, squareform\\n\\n# !pip install pyclustering\\nfrom pyclustering.cluster.kmedoids import kmedoids\\n\\nfrom sklearn.cluster import (\\n    KMeans,\\n    DBSCAN,\\n    AgglomerativeClustering,\\n    AffinityPropagation,\\n    MeanShift,\\n)\\nfrom sklearn.mixture import GaussianMixture\\nfrom sklearn.datasets import make_blobs\\nfrom sklearn.preprocessing import scale\\n\\nfrom gower import gower_matrix\\n\\nimport seaborn as sns\\nimport matplotlib.pyplot as plt\\n\\n%matplotlib inline\";\n",
       "                var nbb_formatted_code = \"import pandas as pd\\nimport numpy as np\\n\\nfrom scipy.spatial.distance import pdist, squareform\\n\\n# !pip install pyclustering\\nfrom pyclustering.cluster.kmedoids import kmedoids\\n\\nfrom sklearn.cluster import (\\n    KMeans,\\n    DBSCAN,\\n    AgglomerativeClustering,\\n    AffinityPropagation,\\n    MeanShift,\\n)\\nfrom sklearn.mixture import GaussianMixture\\nfrom sklearn.datasets import make_blobs\\nfrom sklearn.preprocessing import scale\\n\\nfrom gower import gower_matrix\\n\\nimport seaborn as sns\\nimport matplotlib.pyplot as plt\\n\\n%matplotlib inline\";\n",
       "                var nbb_cells = Jupyter.notebook.get_cells();\n",
       "                for (var i = 0; i < nbb_cells.length; ++i) {\n",
       "                    if (nbb_cells[i].input_prompt_number == nbb_cell_id) {\n",
       "                        if (nbb_cells[i].get_text() == nbb_unformatted_code) {\n",
       "                             nbb_cells[i].set_text(nbb_formatted_code);\n",
       "                        }\n",
       "                        break;\n",
       "                    }\n",
       "                }\n",
       "            }, 500);\n",
       "            "
      ],
      "text/plain": [
       "<IPython.core.display.Javascript object>"
      ]
     },
     "metadata": {},
     "output_type": "display_data"
    }
   ],
   "source": [
    "import pandas as pd\n",
    "import numpy as np\n",
    "\n",
    "from scipy.spatial.distance import pdist, squareform\n",
    "\n",
    "# !pip install pyclustering\n",
    "from pyclustering.cluster.kmedoids import kmedoids\n",
    "\n",
    "from sklearn.cluster import (\n",
    "    KMeans,\n",
    "    DBSCAN,\n",
    "    AgglomerativeClustering,\n",
    "    AffinityPropagation,\n",
    "    MeanShift,\n",
    ")\n",
    "from sklearn.mixture import GaussianMixture\n",
    "from sklearn.datasets import make_blobs\n",
    "from sklearn.preprocessing import scale\n",
    "\n",
    "from gower import gower_matrix\n",
    "\n",
    "import seaborn as sns\n",
    "import matplotlib.pyplot as plt\n",
    "\n",
    "%matplotlib inline"
   ]
  },
  {
   "cell_type": "code",
   "execution_count": 4,
   "metadata": {},
   "outputs": [
    {
     "data": {
      "application/javascript": [
       "\n",
       "            setTimeout(function() {\n",
       "                var nbb_cell_id = 4;\n",
       "                var nbb_unformatted_code = \"def plot_cluster_results(X, labels):\\n    \\\"\\\"\\\"Plot a 2d X (first 2 columns will be used) colored by label\\\"\\\"\\\"\\n    # Ensure X is a dataframe with 2 columns named x1 & x2\\n    df_x = pd.DataFrame(X)\\n    df_x = df_x.iloc[:, :2]\\n    df_x.columns = [\\\"x1\\\", \\\"x2\\\"]\\n\\n    df_x[\\\"label\\\"] = labels\\n    df_x = df_x.sort_values(\\\"label\\\")\\n    # Make seaborn not convert the labels to numeric\\n    df_x[\\\"label\\\"] = \\\"'\\\" + df_x[\\\"label\\\"].astype(str) + \\\"'\\\"\\n\\n    fig, axes = plt.subplots(1, 2, figsize=(10, 5))\\n\\n    sns.scatterplot(\\\"x1\\\", \\\"x2\\\", data=df_x, ax=axes[0])\\n    sns.scatterplot(\\\"x1\\\", \\\"x2\\\", hue=\\\"label\\\", data=df_x, ax=axes[1])\\n    axes[0].set_title(\\\"input data\\\")\\n    axes[1].set_title(\\\"labeled data\\\")\\n    plt.tight_layout()\";\n",
       "                var nbb_formatted_code = \"def plot_cluster_results(X, labels):\\n    \\\"\\\"\\\"Plot a 2d X (first 2 columns will be used) colored by label\\\"\\\"\\\"\\n    # Ensure X is a dataframe with 2 columns named x1 & x2\\n    df_x = pd.DataFrame(X)\\n    df_x = df_x.iloc[:, :2]\\n    df_x.columns = [\\\"x1\\\", \\\"x2\\\"]\\n\\n    df_x[\\\"label\\\"] = labels\\n    df_x = df_x.sort_values(\\\"label\\\")\\n    # Make seaborn not convert the labels to numeric\\n    df_x[\\\"label\\\"] = \\\"'\\\" + df_x[\\\"label\\\"].astype(str) + \\\"'\\\"\\n\\n    fig, axes = plt.subplots(1, 2, figsize=(10, 5))\\n\\n    sns.scatterplot(\\\"x1\\\", \\\"x2\\\", data=df_x, ax=axes[0])\\n    sns.scatterplot(\\\"x1\\\", \\\"x2\\\", hue=\\\"label\\\", data=df_x, ax=axes[1])\\n    axes[0].set_title(\\\"input data\\\")\\n    axes[1].set_title(\\\"labeled data\\\")\\n    plt.tight_layout()\";\n",
       "                var nbb_cells = Jupyter.notebook.get_cells();\n",
       "                for (var i = 0; i < nbb_cells.length; ++i) {\n",
       "                    if (nbb_cells[i].input_prompt_number == nbb_cell_id) {\n",
       "                        if (nbb_cells[i].get_text() == nbb_unformatted_code) {\n",
       "                             nbb_cells[i].set_text(nbb_formatted_code);\n",
       "                        }\n",
       "                        break;\n",
       "                    }\n",
       "                }\n",
       "            }, 500);\n",
       "            "
      ],
      "text/plain": [
       "<IPython.core.display.Javascript object>"
      ]
     },
     "metadata": {},
     "output_type": "display_data"
    }
   ],
   "source": [
    "def plot_cluster_results(X, labels):\n",
    "    \"\"\"Plot a 2d X (first 2 columns will be used) colored by label\"\"\"\n",
    "    # Ensure X is a dataframe with 2 columns named x1 & x2\n",
    "    df_x = pd.DataFrame(X)\n",
    "    df_x = df_x.iloc[:, :2]\n",
    "    df_x.columns = [\"x1\", \"x2\"]\n",
    "\n",
    "    df_x[\"label\"] = labels\n",
    "    df_x = df_x.sort_values(\"label\")\n",
    "    # Make seaborn not convert the labels to numeric\n",
    "    df_x[\"label\"] = \"'\" + df_x[\"label\"].astype(str) + \"'\"\n",
    "\n",
    "    fig, axes = plt.subplots(1, 2, figsize=(10, 5))\n",
    "\n",
    "    sns.scatterplot(\"x1\", \"x2\", data=df_x, ax=axes[0])\n",
    "    sns.scatterplot(\"x1\", \"x2\", hue=\"label\", data=df_x, ax=axes[1])\n",
    "    axes[0].set_title(\"input data\")\n",
    "    axes[1].set_title(\"labeled data\")\n",
    "    plt.tight_layout()"
   ]
  },
  {
   "cell_type": "markdown",
   "metadata": {},
   "source": [
    "## Making up example data\n",
    "\n",
    "[back to top](#Clustering-Algorithms)\n",
    "\n",
    "* `df_1` - numbers only\n",
    "* `df_2` - numbers only\n",
    "* `df_3` - yes/no survey style data\n",
    "* `df_4` - nominal style data with all features having >3 category levels\n",
    "* `df_5` - `df_1` + `df_3` + `df_4`\n",
    "\n",
    "Click link to scroll on down to [Intro Data EDA](#Intro-Data-EDA).\n",
    "\n",
    "----"
   ]
  },
  {
   "cell_type": "code",
   "execution_count": 5,
   "metadata": {},
   "outputs": [
    {
     "data": {
      "application/javascript": [
       "\n",
       "            setTimeout(function() {\n",
       "                var nbb_cell_id = 5;\n",
       "                var nbb_unformatted_code = \"n = 5000\";\n",
       "                var nbb_formatted_code = \"n = 5000\";\n",
       "                var nbb_cells = Jupyter.notebook.get_cells();\n",
       "                for (var i = 0; i < nbb_cells.length; ++i) {\n",
       "                    if (nbb_cells[i].input_prompt_number == nbb_cell_id) {\n",
       "                        if (nbb_cells[i].get_text() == nbb_unformatted_code) {\n",
       "                             nbb_cells[i].set_text(nbb_formatted_code);\n",
       "                        }\n",
       "                        break;\n",
       "                    }\n",
       "                }\n",
       "            }, 500);\n",
       "            "
      ],
      "text/plain": [
       "<IPython.core.display.Javascript object>"
      ]
     },
     "metadata": {},
     "output_type": "display_data"
    }
   ],
   "source": [
    "n = 5000"
   ]
  },
  {
   "cell_type": "markdown",
   "metadata": {},
   "source": [
    "Make up some purely numeric data"
   ]
  },
  {
   "cell_type": "code",
   "execution_count": 6,
   "metadata": {},
   "outputs": [
    {
     "data": {
      "application/javascript": [
       "\n",
       "            setTimeout(function() {\n",
       "                var nbb_cell_id = 6;\n",
       "                var nbb_unformatted_code = \"def make_df_1_2():\\n    np.random.seed(4)\\n    X1, _ = make_blobs(n, centers=5)\\n\\n    np.random.seed(1)\\n    X2, _ = make_blobs(n, centers=5)\\n\\n    df_1 = pd.DataFrame(scale(X1), columns=[\\\"x1\\\", \\\"x2\\\"])\\n    df_2 = pd.DataFrame(scale(X2), columns=[\\\"x1\\\", \\\"x2\\\"])\\n\\n    return df_1, df_2\";\n",
       "                var nbb_formatted_code = \"def make_df_1_2():\\n    np.random.seed(4)\\n    X1, _ = make_blobs(n, centers=5)\\n\\n    np.random.seed(1)\\n    X2, _ = make_blobs(n, centers=5)\\n\\n    df_1 = pd.DataFrame(scale(X1), columns=[\\\"x1\\\", \\\"x2\\\"])\\n    df_2 = pd.DataFrame(scale(X2), columns=[\\\"x1\\\", \\\"x2\\\"])\\n\\n    return df_1, df_2\";\n",
       "                var nbb_cells = Jupyter.notebook.get_cells();\n",
       "                for (var i = 0; i < nbb_cells.length; ++i) {\n",
       "                    if (nbb_cells[i].input_prompt_number == nbb_cell_id) {\n",
       "                        if (nbb_cells[i].get_text() == nbb_unformatted_code) {\n",
       "                             nbb_cells[i].set_text(nbb_formatted_code);\n",
       "                        }\n",
       "                        break;\n",
       "                    }\n",
       "                }\n",
       "            }, 500);\n",
       "            "
      ],
      "text/plain": [
       "<IPython.core.display.Javascript object>"
      ]
     },
     "metadata": {},
     "output_type": "display_data"
    }
   ],
   "source": [
    "def make_df_1_2():\n",
    "    np.random.seed(4)\n",
    "    X1, _ = make_blobs(n, centers=5)\n",
    "\n",
    "    np.random.seed(1)\n",
    "    X2, _ = make_blobs(n, centers=5)\n",
    "\n",
    "    df_1 = pd.DataFrame(scale(X1), columns=[\"x1\", \"x2\"])\n",
    "    df_2 = pd.DataFrame(scale(X2), columns=[\"x1\", \"x2\"])\n",
    "\n",
    "    return df_1, df_2"
   ]
  },
  {
   "cell_type": "markdown",
   "metadata": {},
   "source": [
    "Make up some binary data"
   ]
  },
  {
   "cell_type": "code",
   "execution_count": 7,
   "metadata": {},
   "outputs": [
    {
     "data": {
      "application/javascript": [
       "\n",
       "            setTimeout(function() {\n",
       "                var nbb_cell_id = 7;\n",
       "                var nbb_unformatted_code = \"def make_df_3():\\n    np.random.seed(42)\\n\\n    df_3 = pd.DataFrame()\\n    for i in range(5):\\n        col_name = f\\\"q{i + 1}\\\"\\n        df_3[col_name] = np.random.choice([0, 1], size=n)\\n\\n    row_filter = df_3[\\\"q1\\\"] == 1\\n    df_3.loc[row_filter, \\\"q5\\\"] = np.random.choice(\\n        [0, 1], size=sum(row_filter), p=[0.9, 0.1]\\n    )\\n\\n    row_filter = df_3[\\\"q2\\\"] == 1\\n    df_3.loc[row_filter, \\\"q4\\\"] = np.random.choice(\\n        [0, 1], size=sum(row_filter), p=[0.1, 0.9]\\n    )\\n\\n    return df_3\";\n",
       "                var nbb_formatted_code = \"def make_df_3():\\n    np.random.seed(42)\\n\\n    df_3 = pd.DataFrame()\\n    for i in range(5):\\n        col_name = f\\\"q{i + 1}\\\"\\n        df_3[col_name] = np.random.choice([0, 1], size=n)\\n\\n    row_filter = df_3[\\\"q1\\\"] == 1\\n    df_3.loc[row_filter, \\\"q5\\\"] = np.random.choice(\\n        [0, 1], size=sum(row_filter), p=[0.9, 0.1]\\n    )\\n\\n    row_filter = df_3[\\\"q2\\\"] == 1\\n    df_3.loc[row_filter, \\\"q4\\\"] = np.random.choice(\\n        [0, 1], size=sum(row_filter), p=[0.1, 0.9]\\n    )\\n\\n    return df_3\";\n",
       "                var nbb_cells = Jupyter.notebook.get_cells();\n",
       "                for (var i = 0; i < nbb_cells.length; ++i) {\n",
       "                    if (nbb_cells[i].input_prompt_number == nbb_cell_id) {\n",
       "                        if (nbb_cells[i].get_text() == nbb_unformatted_code) {\n",
       "                             nbb_cells[i].set_text(nbb_formatted_code);\n",
       "                        }\n",
       "                        break;\n",
       "                    }\n",
       "                }\n",
       "            }, 500);\n",
       "            "
      ],
      "text/plain": [
       "<IPython.core.display.Javascript object>"
      ]
     },
     "metadata": {},
     "output_type": "display_data"
    }
   ],
   "source": [
    "def make_df_3():\n",
    "    np.random.seed(42)\n",
    "\n",
    "    df_3 = pd.DataFrame()\n",
    "    for i in range(5):\n",
    "        col_name = f\"q{i + 1}\"\n",
    "        df_3[col_name] = np.random.choice([0, 1], size=n)\n",
    "\n",
    "    row_filter = df_3[\"q1\"] == 1\n",
    "    df_3.loc[row_filter, \"q5\"] = np.random.choice(\n",
    "        [0, 1], size=sum(row_filter), p=[0.9, 0.1]\n",
    "    )\n",
    "\n",
    "    row_filter = df_3[\"q2\"] == 1\n",
    "    df_3.loc[row_filter, \"q4\"] = np.random.choice(\n",
    "        [0, 1], size=sum(row_filter), p=[0.1, 0.9]\n",
    "    )\n",
    "\n",
    "    return df_3"
   ]
  },
  {
   "cell_type": "markdown",
   "metadata": {},
   "source": [
    "Make up some categorical data"
   ]
  },
  {
   "cell_type": "code",
   "execution_count": 8,
   "metadata": {},
   "outputs": [
    {
     "data": {
      "application/javascript": [
       "\n",
       "            setTimeout(function() {\n",
       "                var nbb_cell_id = 8;\n",
       "                var nbb_unformatted_code = \"def make_df_4():\\n    np.random.seed(42)\\n\\n    continents = [\\n        \\\"Africa\\\",\\n        \\\"Asia\\\",\\n        \\\"Europe\\\",\\n        \\\"South America\\\",\\n    ]\\n\\n    dept = [\\\"Accounting\\\", \\\"Sales\\\", \\\"IT\\\", \\\"Marketing\\\"]\\n    companies = [\\\"Innovato\\\", \\\"Rop\\\", \\\"UpDog\\\"]\\n\\n    df_4 = pd.DataFrame(\\n        {\\n            \\\"continent\\\": np.random.choice(continents, size=n),\\n            \\\"dept\\\": np.random.choice(dept, size=n),\\n        }\\n    )\\n    df_4[\\\"company\\\"] = np.nan\\n\\n    continent_filter = df_4[\\\"continent\\\"].isin(continents[:2])\\n    df_4.loc[continent_filter, \\\"company\\\"] = np.random.choice(\\n        companies, p=[0.5, 0.3, 0.2], size=sum(continent_filter)\\n    )\\n\\n    continent_filter = df_4[\\\"continent\\\"].isin(continents[2:])\\n    df_4.loc[continent_filter, \\\"company\\\"] = np.random.choice(\\n        companies, p=[0.2, 0.3, 0.5], size=sum(continent_filter)\\n    )\\n\\n    return df_4\";\n",
       "                var nbb_formatted_code = \"def make_df_4():\\n    np.random.seed(42)\\n\\n    continents = [\\n        \\\"Africa\\\",\\n        \\\"Asia\\\",\\n        \\\"Europe\\\",\\n        \\\"South America\\\",\\n    ]\\n\\n    dept = [\\\"Accounting\\\", \\\"Sales\\\", \\\"IT\\\", \\\"Marketing\\\"]\\n    companies = [\\\"Innovato\\\", \\\"Rop\\\", \\\"UpDog\\\"]\\n\\n    df_4 = pd.DataFrame(\\n        {\\n            \\\"continent\\\": np.random.choice(continents, size=n),\\n            \\\"dept\\\": np.random.choice(dept, size=n),\\n        }\\n    )\\n    df_4[\\\"company\\\"] = np.nan\\n\\n    continent_filter = df_4[\\\"continent\\\"].isin(continents[:2])\\n    df_4.loc[continent_filter, \\\"company\\\"] = np.random.choice(\\n        companies, p=[0.5, 0.3, 0.2], size=sum(continent_filter)\\n    )\\n\\n    continent_filter = df_4[\\\"continent\\\"].isin(continents[2:])\\n    df_4.loc[continent_filter, \\\"company\\\"] = np.random.choice(\\n        companies, p=[0.2, 0.3, 0.5], size=sum(continent_filter)\\n    )\\n\\n    return df_4\";\n",
       "                var nbb_cells = Jupyter.notebook.get_cells();\n",
       "                for (var i = 0; i < nbb_cells.length; ++i) {\n",
       "                    if (nbb_cells[i].input_prompt_number == nbb_cell_id) {\n",
       "                        if (nbb_cells[i].get_text() == nbb_unformatted_code) {\n",
       "                             nbb_cells[i].set_text(nbb_formatted_code);\n",
       "                        }\n",
       "                        break;\n",
       "                    }\n",
       "                }\n",
       "            }, 500);\n",
       "            "
      ],
      "text/plain": [
       "<IPython.core.display.Javascript object>"
      ]
     },
     "metadata": {},
     "output_type": "display_data"
    }
   ],
   "source": [
    "def make_df_4():\n",
    "    np.random.seed(42)\n",
    "\n",
    "    continents = [\n",
    "        \"Africa\",\n",
    "        \"Asia\",\n",
    "        \"Europe\",\n",
    "        \"South America\",\n",
    "    ]\n",
    "\n",
    "    dept = [\"Accounting\", \"Sales\", \"IT\", \"Marketing\"]\n",
    "    companies = [\"Innovato\", \"Rop\", \"UpDog\"]\n",
    "\n",
    "    df_4 = pd.DataFrame(\n",
    "        {\n",
    "            \"continent\": np.random.choice(continents, size=n),\n",
    "            \"dept\": np.random.choice(dept, size=n),\n",
    "        }\n",
    "    )\n",
    "    df_4[\"company\"] = np.nan\n",
    "\n",
    "    continent_filter = df_4[\"continent\"].isin(continents[:2])\n",
    "    df_4.loc[continent_filter, \"company\"] = np.random.choice(\n",
    "        companies, p=[0.5, 0.3, 0.2], size=sum(continent_filter)\n",
    "    )\n",
    "\n",
    "    continent_filter = df_4[\"continent\"].isin(continents[2:])\n",
    "    df_4.loc[continent_filter, \"company\"] = np.random.choice(\n",
    "        companies, p=[0.2, 0.3, 0.5], size=sum(continent_filter)\n",
    "    )\n",
    "\n",
    "    return df_4"
   ]
  },
  {
   "cell_type": "markdown",
   "metadata": {},
   "source": [
    "Combine made up data to have mixed datatypes."
   ]
  },
  {
   "cell_type": "code",
   "execution_count": 9,
   "metadata": {},
   "outputs": [
    {
     "data": {
      "application/javascript": [
       "\n",
       "            setTimeout(function() {\n",
       "                var nbb_cell_id = 9;\n",
       "                var nbb_unformatted_code = \"def make_df_5():\\n    df_1, _ = make_df_1_2()\\n    df_3 = make_df_3()\\n    df_4 = make_df_4()\\n    df_5 = pd.concat((df_1, df_3, df_4), axis=1)\\n\\n    return df_5\";\n",
       "                var nbb_formatted_code = \"def make_df_5():\\n    df_1, _ = make_df_1_2()\\n    df_3 = make_df_3()\\n    df_4 = make_df_4()\\n    df_5 = pd.concat((df_1, df_3, df_4), axis=1)\\n\\n    return df_5\";\n",
       "                var nbb_cells = Jupyter.notebook.get_cells();\n",
       "                for (var i = 0; i < nbb_cells.length; ++i) {\n",
       "                    if (nbb_cells[i].input_prompt_number == nbb_cell_id) {\n",
       "                        if (nbb_cells[i].get_text() == nbb_unformatted_code) {\n",
       "                             nbb_cells[i].set_text(nbb_formatted_code);\n",
       "                        }\n",
       "                        break;\n",
       "                    }\n",
       "                }\n",
       "            }, 500);\n",
       "            "
      ],
      "text/plain": [
       "<IPython.core.display.Javascript object>"
      ]
     },
     "metadata": {},
     "output_type": "display_data"
    }
   ],
   "source": [
    "def make_df_5():\n",
    "    df_1, _ = make_df_1_2()\n",
    "    df_3 = make_df_3()\n",
    "    df_4 = make_df_4()\n",
    "    df_5 = pd.concat((df_1, df_3, df_4), axis=1)\n",
    "\n",
    "    return df_5"
   ]
  },
  {
   "cell_type": "markdown",
   "metadata": {},
   "source": [
    "## Intro Data EDA\n",
    "\n",
    "[back to top](#Clustering-Algorithms)"
   ]
  },
  {
   "cell_type": "code",
   "execution_count": null,
   "metadata": {},
   "outputs": [],
   "source": [
    "# reset data for section\n",
    "df_1, df_2 = make_df_1_2()\n",
    "df_3 = make_df_3()\n",
    "df_4 = make_df_4()\n",
    "df_5 = make_df_5()"
   ]
  },
  {
   "cell_type": "markdown",
   "metadata": {},
   "source": [
    "`df_1` and `df_2` each consist of 2 numeric features."
   ]
  },
  {
   "cell_type": "code",
   "execution_count": null,
   "metadata": {
    "scrolled": false
   },
   "outputs": [],
   "source": [
    "fig, axes = plt.subplots(1, 2, figsize=(10, 5))\n",
    "\n",
    "sns.scatterplot(\"x1\", \"x2\", data=df_1, ax=axes[0])\n",
    "sns.scatterplot(\"x1\", \"x2\", data=df_2, ax=axes[1])\n",
    "axes[0].set_title(\"df_1\")\n",
    "axes[1].set_title(\"df_2\")\n",
    "plt.tight_layout()\n",
    "plt.show()"
   ]
  },
  {
   "cell_type": "markdown",
   "metadata": {},
   "source": [
    "`df_3` is binary data representing True/False responses to a survey"
   ]
  },
  {
   "cell_type": "code",
   "execution_count": null,
   "metadata": {},
   "outputs": [],
   "source": [
    "# Co-occurance matrix\n",
    "\n",
    "# Read as how many times the question in\n",
    "# the column was True at the same time the\n",
    "# row question was True\n",
    "\n",
    "# The diagonal represents how many times the question\n",
    "# was answered as True\n",
    "\n",
    "# For example, we can see q4 was the question was\n",
    "# likely answered as True\n",
    "\n",
    "# For example, q2 and q4 were commonly answered as True together\n",
    "# 2222 times (44% of responses) is the highest off-diagonal number\n",
    "\n",
    "# For example, q1 and q5 were rarely answered as True together\n",
    "# 246 times (5% of responses) is the lowest number\n",
    "\n",
    "co_occur = df_3.T.dot(df_3)\n",
    "co_occur_percent = co_occur / df_3.shape[0]\n",
    "\n",
    "print(\"Co-occurances\")\n",
    "display(co_occur.style.background_gradient(axis=None))\n",
    "\n",
    "print(\"Co-occurances as a percent of responses\")\n",
    "display(co_occur_percent.style.background_gradient(axis=None))"
   ]
  },
  {
   "cell_type": "markdown",
   "metadata": {},
   "source": [
    "`df_4` is categorical data"
   ]
  },
  {
   "cell_type": "code",
   "execution_count": null,
   "metadata": {
    "scrolled": false
   },
   "outputs": [],
   "source": [
    "# Again, co-occurances\n",
    "\n",
    "# We see Innovato seems to be more associated with Africa and Asia\n",
    "# We see UpDog is associated with Europe and South America\n",
    "\n",
    "crosstab = pd.crosstab([df_4[\"company\"], df_4[\"continent\"]], df_4[\"dept\"])\n",
    "crosstab.style.background_gradient(axis=None)"
   ]
  },
  {
   "cell_type": "markdown",
   "metadata": {},
   "source": [
    "`df_5` is a combination of `df_1`, `df_3`, and `df_4`."
   ]
  },
  {
   "cell_type": "code",
   "execution_count": null,
   "metadata": {},
   "outputs": [],
   "source": [
    "df_5.head()"
   ]
  },
  {
   "cell_type": "markdown",
   "metadata": {},
   "source": [
    "## KMeans\n",
    "\n",
    "[back to top](#Clustering-Algorithms)"
   ]
  },
  {
   "cell_type": "code",
   "execution_count": null,
   "metadata": {},
   "outputs": [],
   "source": [
    "# reset data for section\n",
    "df_1, df_2 = make_df_1_2()\n",
    "df_3 = make_df_3()\n",
    "df_4 = make_df_4()\n",
    "df_5 = make_df_5()"
   ]
  },
  {
   "cell_type": "markdown",
   "metadata": {},
   "source": [
    "`df_1`"
   ]
  },
  {
   "cell_type": "code",
   "execution_count": null,
   "metadata": {},
   "outputs": [],
   "source": [
    "df_1.head(3)"
   ]
  },
  {
   "cell_type": "code",
   "execution_count": null,
   "metadata": {},
   "outputs": [],
   "source": [
    "clst = KMeans(5)\n",
    "clst.fit(df_1)"
   ]
  },
  {
   "cell_type": "code",
   "execution_count": null,
   "metadata": {},
   "outputs": [],
   "source": [
    "clst.cluster_centers_"
   ]
  },
  {
   "cell_type": "code",
   "execution_count": null,
   "metadata": {},
   "outputs": [],
   "source": [
    "labels = clst.labels_\n",
    "\n",
    "plot_cluster_results(df_1, labels)\n",
    "plt.legend().remove()\n",
    "plt.show()"
   ]
  },
  {
   "cell_type": "markdown",
   "metadata": {},
   "source": [
    "`df_2`"
   ]
  },
  {
   "cell_type": "code",
   "execution_count": null,
   "metadata": {},
   "outputs": [],
   "source": [
    "clst = KMeans(5)\n",
    "clst.fit(df_2)"
   ]
  },
  {
   "cell_type": "code",
   "execution_count": null,
   "metadata": {},
   "outputs": [],
   "source": [
    "clst.cluster_centers_"
   ]
  },
  {
   "cell_type": "code",
   "execution_count": null,
   "metadata": {},
   "outputs": [],
   "source": [
    "labels = clst.labels_\n",
    "\n",
    "plot_cluster_results(df_2, labels)\n",
    "plt.legend().remove()\n",
    "plt.show()"
   ]
  },
  {
   "cell_type": "markdown",
   "metadata": {},
   "source": [
    "`df_3`"
   ]
  },
  {
   "cell_type": "code",
   "execution_count": null,
   "metadata": {},
   "outputs": [],
   "source": [
    "df_3.head(3)"
   ]
  },
  {
   "cell_type": "code",
   "execution_count": null,
   "metadata": {},
   "outputs": [],
   "source": [
    "# Nope"
   ]
  },
  {
   "cell_type": "markdown",
   "metadata": {},
   "source": [
    "`df_4`"
   ]
  },
  {
   "cell_type": "code",
   "execution_count": null,
   "metadata": {},
   "outputs": [],
   "source": [
    "df_4.head(3)"
   ]
  },
  {
   "cell_type": "code",
   "execution_count": null,
   "metadata": {},
   "outputs": [],
   "source": [
    "# Nope"
   ]
  },
  {
   "cell_type": "markdown",
   "metadata": {},
   "source": [
    "`df_5`"
   ]
  },
  {
   "cell_type": "code",
   "execution_count": null,
   "metadata": {},
   "outputs": [],
   "source": [
    "df_5.head(3)"
   ]
  },
  {
   "cell_type": "code",
   "execution_count": null,
   "metadata": {},
   "outputs": [],
   "source": [
    "# Nope"
   ]
  },
  {
   "cell_type": "code",
   "execution_count": null,
   "metadata": {},
   "outputs": [],
   "source": []
  },
  {
   "cell_type": "markdown",
   "metadata": {},
   "source": [
    "## kmedoids\n",
    "\n",
    "[back to top](#Clustering-Algorithms)"
   ]
  },
  {
   "cell_type": "code",
   "execution_count": null,
   "metadata": {},
   "outputs": [],
   "source": [
    "# reset data for section\n",
    "df_1, df_2 = make_df_1_2()\n",
    "df_3 = make_df_3()\n",
    "df_4 = make_df_4()\n",
    "df_5 = make_df_5()"
   ]
  },
  {
   "cell_type": "markdown",
   "metadata": {},
   "source": [
    "`df_1`"
   ]
  },
  {
   "cell_type": "code",
   "execution_count": null,
   "metadata": {},
   "outputs": [],
   "source": [
    "df_1.head(3)"
   ]
  },
  {
   "cell_type": "code",
   "execution_count": null,
   "metadata": {},
   "outputs": [],
   "source": []
  },
  {
   "cell_type": "code",
   "execution_count": null,
   "metadata": {},
   "outputs": [],
   "source": [
    "labels = _____\n",
    "\n",
    "plot_cluster_results(df_1, labels)\n",
    "plt.legend().remove()\n",
    "plt.show()"
   ]
  },
  {
   "cell_type": "markdown",
   "metadata": {},
   "source": [
    "`df_2`"
   ]
  },
  {
   "cell_type": "code",
   "execution_count": null,
   "metadata": {},
   "outputs": [],
   "source": [
    "df_2.head(3)"
   ]
  },
  {
   "cell_type": "code",
   "execution_count": null,
   "metadata": {},
   "outputs": [],
   "source": []
  },
  {
   "cell_type": "code",
   "execution_count": null,
   "metadata": {},
   "outputs": [],
   "source": [
    "labels = _____\n",
    "\n",
    "plot_cluster_results(df_2, labels)\n",
    "plt.legend().remove()\n",
    "plt.show()"
   ]
  },
  {
   "cell_type": "markdown",
   "metadata": {},
   "source": [
    "`df_3`"
   ]
  },
  {
   "cell_type": "code",
   "execution_count": null,
   "metadata": {},
   "outputs": [],
   "source": [
    "df_3.head(3)"
   ]
  },
  {
   "cell_type": "code",
   "execution_count": null,
   "metadata": {},
   "outputs": [],
   "source": []
  },
  {
   "cell_type": "markdown",
   "metadata": {},
   "source": [
    "`df_4`"
   ]
  },
  {
   "cell_type": "code",
   "execution_count": null,
   "metadata": {},
   "outputs": [],
   "source": [
    "df_4.head(3)"
   ]
  },
  {
   "cell_type": "code",
   "execution_count": null,
   "metadata": {},
   "outputs": [],
   "source": []
  },
  {
   "cell_type": "markdown",
   "metadata": {},
   "source": [
    "`df_5`"
   ]
  },
  {
   "cell_type": "code",
   "execution_count": null,
   "metadata": {},
   "outputs": [],
   "source": [
    "df_5.head(3)"
   ]
  },
  {
   "cell_type": "code",
   "execution_count": null,
   "metadata": {},
   "outputs": [],
   "source": []
  },
  {
   "cell_type": "markdown",
   "metadata": {},
   "source": [
    "## AgglomerativeClustering\n",
    "\n",
    "[back to top](#Clustering-Algorithms)"
   ]
  },
  {
   "cell_type": "code",
   "execution_count": null,
   "metadata": {},
   "outputs": [],
   "source": [
    "# reset data for section\n",
    "df_1, df_2 = make_df_1_2()\n",
    "df_3 = make_df_3()\n",
    "df_4 = make_df_4()\n",
    "df_5 = make_df_5()"
   ]
  },
  {
   "cell_type": "markdown",
   "metadata": {},
   "source": [
    "`df_1`"
   ]
  },
  {
   "cell_type": "code",
   "execution_count": null,
   "metadata": {},
   "outputs": [],
   "source": [
    "df_1.head(3)"
   ]
  },
  {
   "cell_type": "code",
   "execution_count": null,
   "metadata": {},
   "outputs": [],
   "source": []
  },
  {
   "cell_type": "code",
   "execution_count": null,
   "metadata": {},
   "outputs": [],
   "source": [
    "labels = _____\n",
    "\n",
    "plot_cluster_results(df_1, labels)\n",
    "plt.legend().remove()\n",
    "plt.show()"
   ]
  },
  {
   "cell_type": "markdown",
   "metadata": {},
   "source": [
    "`df_2`"
   ]
  },
  {
   "cell_type": "code",
   "execution_count": null,
   "metadata": {},
   "outputs": [],
   "source": [
    "df_2.head(3)"
   ]
  },
  {
   "cell_type": "code",
   "execution_count": null,
   "metadata": {},
   "outputs": [],
   "source": []
  },
  {
   "cell_type": "code",
   "execution_count": null,
   "metadata": {},
   "outputs": [],
   "source": [
    "labels = _____\n",
    "\n",
    "plot_cluster_results(df_2, labels)\n",
    "plt.legend().remove()\n",
    "plt.show()"
   ]
  },
  {
   "cell_type": "markdown",
   "metadata": {},
   "source": [
    "`df_3`"
   ]
  },
  {
   "cell_type": "code",
   "execution_count": null,
   "metadata": {},
   "outputs": [],
   "source": [
    "df_3.head(3)"
   ]
  },
  {
   "cell_type": "code",
   "execution_count": null,
   "metadata": {},
   "outputs": [],
   "source": []
  },
  {
   "cell_type": "markdown",
   "metadata": {},
   "source": [
    "`df_4`"
   ]
  },
  {
   "cell_type": "code",
   "execution_count": null,
   "metadata": {},
   "outputs": [],
   "source": [
    "df_4.head(3)"
   ]
  },
  {
   "cell_type": "code",
   "execution_count": null,
   "metadata": {},
   "outputs": [],
   "source": []
  },
  {
   "cell_type": "markdown",
   "metadata": {},
   "source": [
    "`df_5`"
   ]
  },
  {
   "cell_type": "code",
   "execution_count": null,
   "metadata": {},
   "outputs": [],
   "source": [
    "df_5.head(3)"
   ]
  },
  {
   "cell_type": "code",
   "execution_count": null,
   "metadata": {},
   "outputs": [],
   "source": []
  },
  {
   "cell_type": "markdown",
   "metadata": {},
   "source": [
    "## DBSCAN\n",
    "\n",
    "[back to top](#Clustering-Algorithms)"
   ]
  },
  {
   "cell_type": "code",
   "execution_count": null,
   "metadata": {},
   "outputs": [],
   "source": [
    "# reset data for section\n",
    "df_1, df_2 = make_df_1_2()\n",
    "df_3 = make_df_3()\n",
    "df_4 = make_df_4()\n",
    "df_5 = make_df_5()"
   ]
  },
  {
   "cell_type": "markdown",
   "metadata": {},
   "source": [
    "`df_1`"
   ]
  },
  {
   "cell_type": "code",
   "execution_count": null,
   "metadata": {},
   "outputs": [],
   "source": [
    "df_1.head(3)"
   ]
  },
  {
   "cell_type": "code",
   "execution_count": null,
   "metadata": {},
   "outputs": [],
   "source": []
  },
  {
   "cell_type": "code",
   "execution_count": null,
   "metadata": {},
   "outputs": [],
   "source": [
    "labels = _____\n",
    "\n",
    "plot_cluster_results(df_1, labels)\n",
    "plt.legend().remove()\n",
    "plt.show()"
   ]
  },
  {
   "cell_type": "markdown",
   "metadata": {},
   "source": [
    "`df_2`"
   ]
  },
  {
   "cell_type": "code",
   "execution_count": null,
   "metadata": {},
   "outputs": [],
   "source": [
    "df_2.head(3)"
   ]
  },
  {
   "cell_type": "code",
   "execution_count": null,
   "metadata": {},
   "outputs": [],
   "source": []
  },
  {
   "cell_type": "code",
   "execution_count": null,
   "metadata": {},
   "outputs": [],
   "source": [
    "labels = _____\n",
    "\n",
    "plot_cluster_results(df_2, labels)\n",
    "plt.legend().remove()\n",
    "plt.show()"
   ]
  },
  {
   "cell_type": "markdown",
   "metadata": {},
   "source": [
    "`df_3`"
   ]
  },
  {
   "cell_type": "code",
   "execution_count": null,
   "metadata": {},
   "outputs": [],
   "source": [
    "df_3.head(3)"
   ]
  },
  {
   "cell_type": "code",
   "execution_count": null,
   "metadata": {},
   "outputs": [],
   "source": []
  },
  {
   "cell_type": "markdown",
   "metadata": {},
   "source": [
    "`df_4`"
   ]
  },
  {
   "cell_type": "code",
   "execution_count": null,
   "metadata": {},
   "outputs": [],
   "source": [
    "df_4.head(3)"
   ]
  },
  {
   "cell_type": "code",
   "execution_count": null,
   "metadata": {},
   "outputs": [],
   "source": []
  },
  {
   "cell_type": "markdown",
   "metadata": {},
   "source": [
    "`df_5`"
   ]
  },
  {
   "cell_type": "code",
   "execution_count": null,
   "metadata": {},
   "outputs": [],
   "source": [
    "df_5.head(3)"
   ]
  },
  {
   "cell_type": "code",
   "execution_count": null,
   "metadata": {},
   "outputs": [],
   "source": []
  },
  {
   "cell_type": "markdown",
   "metadata": {},
   "source": [
    "## GaussianMixture\n",
    "\n",
    "[back to top](#Clustering-Algorithms)"
   ]
  },
  {
   "cell_type": "code",
   "execution_count": null,
   "metadata": {},
   "outputs": [],
   "source": [
    "# reset data for section\n",
    "df_1, df_2 = make_df_1_2()\n",
    "df_3 = make_df_3()\n",
    "df_4 = make_df_4()\n",
    "df_5 = make_df_5()"
   ]
  },
  {
   "cell_type": "markdown",
   "metadata": {},
   "source": [
    "`df_1`"
   ]
  },
  {
   "cell_type": "code",
   "execution_count": null,
   "metadata": {},
   "outputs": [],
   "source": [
    "df_1.head(3)"
   ]
  },
  {
   "cell_type": "code",
   "execution_count": null,
   "metadata": {},
   "outputs": [],
   "source": []
  },
  {
   "cell_type": "code",
   "execution_count": null,
   "metadata": {},
   "outputs": [],
   "source": [
    "labels = _____\n",
    "\n",
    "plot_cluster_results(df_1, labels)\n",
    "plt.legend().remove()\n",
    "plt.show()"
   ]
  },
  {
   "cell_type": "markdown",
   "metadata": {},
   "source": [
    "`df_2`"
   ]
  },
  {
   "cell_type": "code",
   "execution_count": null,
   "metadata": {},
   "outputs": [],
   "source": [
    "df_2.head(3)"
   ]
  },
  {
   "cell_type": "code",
   "execution_count": null,
   "metadata": {},
   "outputs": [],
   "source": []
  },
  {
   "cell_type": "code",
   "execution_count": null,
   "metadata": {},
   "outputs": [],
   "source": [
    "labels = _____\n",
    "\n",
    "plot_cluster_results(df_2, labels)\n",
    "plt.legend().remove()\n",
    "plt.show()"
   ]
  },
  {
   "cell_type": "markdown",
   "metadata": {},
   "source": [
    "`df_3`"
   ]
  },
  {
   "cell_type": "code",
   "execution_count": null,
   "metadata": {},
   "outputs": [],
   "source": [
    "df_3.head(3)"
   ]
  },
  {
   "cell_type": "code",
   "execution_count": null,
   "metadata": {},
   "outputs": [],
   "source": []
  },
  {
   "cell_type": "markdown",
   "metadata": {},
   "source": [
    "`df_4`"
   ]
  },
  {
   "cell_type": "code",
   "execution_count": null,
   "metadata": {},
   "outputs": [],
   "source": [
    "df_4.head(3)"
   ]
  },
  {
   "cell_type": "code",
   "execution_count": null,
   "metadata": {},
   "outputs": [],
   "source": []
  },
  {
   "cell_type": "markdown",
   "metadata": {},
   "source": [
    "`df_5`"
   ]
  },
  {
   "cell_type": "code",
   "execution_count": null,
   "metadata": {},
   "outputs": [],
   "source": [
    "df_5.head(3)"
   ]
  },
  {
   "cell_type": "code",
   "execution_count": null,
   "metadata": {},
   "outputs": [],
   "source": []
  },
  {
   "cell_type": "markdown",
   "metadata": {},
   "source": [
    "## MeanShift\n",
    "\n",
    "[back to top](#Clustering-Algorithms)"
   ]
  },
  {
   "cell_type": "code",
   "execution_count": null,
   "metadata": {},
   "outputs": [],
   "source": [
    "# reset data for section\n",
    "df_1, df_2 = make_df_1_2()\n",
    "df_3 = make_df_3()\n",
    "df_4 = make_df_4()\n",
    "df_5 = make_df_5()"
   ]
  },
  {
   "cell_type": "markdown",
   "metadata": {},
   "source": [
    "`df_1`"
   ]
  },
  {
   "cell_type": "code",
   "execution_count": null,
   "metadata": {},
   "outputs": [],
   "source": [
    "df_1.head(3)"
   ]
  },
  {
   "cell_type": "code",
   "execution_count": null,
   "metadata": {},
   "outputs": [],
   "source": []
  },
  {
   "cell_type": "code",
   "execution_count": null,
   "metadata": {},
   "outputs": [],
   "source": [
    "labels = _____\n",
    "\n",
    "plot_cluster_results(df_1, labels)\n",
    "plt.legend().remove()\n",
    "plt.show()"
   ]
  },
  {
   "cell_type": "markdown",
   "metadata": {},
   "source": [
    "`df_2`"
   ]
  },
  {
   "cell_type": "code",
   "execution_count": null,
   "metadata": {},
   "outputs": [],
   "source": [
    "df_2.head(3)"
   ]
  },
  {
   "cell_type": "code",
   "execution_count": null,
   "metadata": {},
   "outputs": [],
   "source": []
  },
  {
   "cell_type": "code",
   "execution_count": null,
   "metadata": {},
   "outputs": [],
   "source": [
    "labels = _____\n",
    "\n",
    "plot_cluster_results(df_2, labels)\n",
    "plt.legend().remove()\n",
    "plt.show()"
   ]
  },
  {
   "cell_type": "markdown",
   "metadata": {},
   "source": [
    "`df_3`"
   ]
  },
  {
   "cell_type": "code",
   "execution_count": null,
   "metadata": {},
   "outputs": [],
   "source": [
    "df_3.head(3)"
   ]
  },
  {
   "cell_type": "code",
   "execution_count": null,
   "metadata": {},
   "outputs": [],
   "source": []
  },
  {
   "cell_type": "markdown",
   "metadata": {},
   "source": [
    "`df_4`"
   ]
  },
  {
   "cell_type": "code",
   "execution_count": null,
   "metadata": {},
   "outputs": [],
   "source": [
    "df_4.head(3)"
   ]
  },
  {
   "cell_type": "code",
   "execution_count": null,
   "metadata": {},
   "outputs": [],
   "source": []
  },
  {
   "cell_type": "markdown",
   "metadata": {},
   "source": [
    "`df_5`"
   ]
  },
  {
   "cell_type": "code",
   "execution_count": null,
   "metadata": {},
   "outputs": [],
   "source": [
    "df_5.head(3)"
   ]
  },
  {
   "cell_type": "code",
   "execution_count": null,
   "metadata": {},
   "outputs": [],
   "source": []
  },
  {
   "cell_type": "markdown",
   "metadata": {},
   "source": [
    "## AffinityPropagation\n",
    "\n",
    "[back to top](#Clustering-Algorithms)"
   ]
  },
  {
   "cell_type": "code",
   "execution_count": null,
   "metadata": {},
   "outputs": [],
   "source": [
    "# reset data for section\n",
    "df_1, df_2 = make_df_1_2()\n",
    "df_3 = make_df_3()\n",
    "df_4 = make_df_4()\n",
    "df_5 = make_df_5()"
   ]
  },
  {
   "cell_type": "markdown",
   "metadata": {},
   "source": [
    "`df_1`"
   ]
  },
  {
   "cell_type": "code",
   "execution_count": null,
   "metadata": {},
   "outputs": [],
   "source": [
    "df_1.head(3)"
   ]
  },
  {
   "cell_type": "code",
   "execution_count": null,
   "metadata": {},
   "outputs": [],
   "source": [
    "# Downsampling because its slow to fit to 5000 records\n",
    "df_sample = df_1.sample(500, random_state=42)\n",
    "\n",
    "clst = AffinityPropagation(random_state=42)\n",
    "clst.fit(df_sample)"
   ]
  },
  {
   "cell_type": "code",
   "execution_count": null,
   "metadata": {},
   "outputs": [],
   "source": [
    "df_sample.iloc[clst.cluster_centers_indices_, :]"
   ]
  },
  {
   "cell_type": "code",
   "execution_count": null,
   "metadata": {},
   "outputs": [],
   "source": [
    "labels = clst.labels_\n",
    "\n",
    "plot_cluster_results(df_sample, labels)\n",
    "plt.legend().remove()\n",
    "plt.show()"
   ]
  },
  {
   "cell_type": "markdown",
   "metadata": {},
   "source": [
    "`df_2`"
   ]
  },
  {
   "cell_type": "code",
   "execution_count": null,
   "metadata": {},
   "outputs": [],
   "source": [
    "df_2.head(3)"
   ]
  },
  {
   "cell_type": "code",
   "execution_count": null,
   "metadata": {},
   "outputs": [],
   "source": [
    "# Downsampling because its slow to fit to 5000 records\n",
    "df_sample = df_2.sample(500, random_state=42)\n",
    "\n",
    "clst = AffinityPropagation(random_state=42)\n",
    "clst.fit(df_sample)"
   ]
  },
  {
   "cell_type": "code",
   "execution_count": null,
   "metadata": {
    "scrolled": true
   },
   "outputs": [],
   "source": [
    "df_sample.iloc[clst.cluster_centers_indices_, :]"
   ]
  },
  {
   "cell_type": "code",
   "execution_count": null,
   "metadata": {},
   "outputs": [],
   "source": [
    "labels = clst.labels_\n",
    "\n",
    "plot_cluster_results(df_sample, labels)\n",
    "plt.legend().remove()\n",
    "plt.show()"
   ]
  },
  {
   "cell_type": "markdown",
   "metadata": {},
   "source": [
    "`df_3`"
   ]
  },
  {
   "cell_type": "code",
   "execution_count": null,
   "metadata": {},
   "outputs": [],
   "source": [
    "df_3.head(3)"
   ]
  },
  {
   "cell_type": "code",
   "execution_count": null,
   "metadata": {},
   "outputs": [],
   "source": [
    "# Downsampling because its slow to fit to 5000 records\n",
    "# Could not get algo to converge using a sample of 500\n",
    "# Could not get algo to converge using a sample of 150\n",
    "df_sample = df_3.sample(100, random_state=42)\n",
    "\n",
    "dist_mat = squareform(pdist(df_sample, metric=\"hamming\"))\n",
    "affinity_mat = -dist_mat\n",
    "\n",
    "clst = AffinityPropagation(\n",
    "    affinity=\"precomputed\",\n",
    "    preference=affinity_mat.min() * 3,\n",
    "    max_iter=10000,\n",
    "    random_state=42,\n",
    ")\n",
    "clst.fit(affinity_mat)"
   ]
  },
  {
   "cell_type": "code",
   "execution_count": null,
   "metadata": {},
   "outputs": [],
   "source": [
    "df_sample.iloc[clst.cluster_centers_indices_, :]"
   ]
  },
  {
   "cell_type": "code",
   "execution_count": null,
   "metadata": {
    "scrolled": true
   },
   "outputs": [],
   "source": [
    "labels = clst.labels_\n",
    "uniq_labels = sorted(np.unique(labels))\n",
    "\n",
    "for label in uniq_labels:\n",
    "    df_i = df_sample[labels == label]\n",
    "\n",
    "    print(f\"Cluster {label} co-occuring True answers\")\n",
    "    co_occur = df_i.T.dot(df_i)\n",
    "    display(co_occur.style.background_gradient())"
   ]
  },
  {
   "cell_type": "markdown",
   "metadata": {},
   "source": [
    "`df_4`"
   ]
  },
  {
   "cell_type": "code",
   "execution_count": null,
   "metadata": {},
   "outputs": [],
   "source": [
    "df_4.head(3)"
   ]
  },
  {
   "cell_type": "code",
   "execution_count": null,
   "metadata": {},
   "outputs": [],
   "source": [
    "# Downsampling because its slow to fit to 5000 records\n",
    "# Could not get algo to converge using a sample of 500\n",
    "# Could not get algo to converge using a sample of 150\n",
    "df_sample = df_4.sample(100, random_state=42)\n",
    "df_sample_dummies = pd.get_dummies(df_sample)\n",
    "\n",
    "dist_mat = squareform(pdist(df_sample_dummies, metric=\"dice\"))\n",
    "affinity_mat = -dist_mat\n",
    "\n",
    "clst = AffinityPropagation(\n",
    "    affinity=\"precomputed\", preference=affinity_mat.min() * 4, random_state=42,\n",
    ")\n",
    "clst.fit(affinity_mat)"
   ]
  },
  {
   "cell_type": "code",
   "execution_count": null,
   "metadata": {},
   "outputs": [],
   "source": [
    "df_sample.iloc[clst.cluster_centers_indices_, :]"
   ]
  },
  {
   "cell_type": "code",
   "execution_count": null,
   "metadata": {
    "scrolled": true
   },
   "outputs": [],
   "source": [
    "labels = clst.labels_\n",
    "uniq_labels = sorted(np.unique(labels))\n",
    "\n",
    "for label in uniq_labels:\n",
    "    df_i = df_sample[labels == label]\n",
    "\n",
    "    print(f\"Cluster {label} co-occuring categories\")\n",
    "    crosstab = pd.crosstab([df_i[\"company\"], df_i[\"continent\"]], df_i[\"dept\"])\n",
    "    display(crosstab.style.background_gradient(axis=None))"
   ]
  },
  {
   "cell_type": "markdown",
   "metadata": {},
   "source": [
    "`df_5`"
   ]
  },
  {
   "cell_type": "code",
   "execution_count": null,
   "metadata": {},
   "outputs": [],
   "source": [
    "df_5.head(3)"
   ]
  },
  {
   "cell_type": "code",
   "execution_count": null,
   "metadata": {},
   "outputs": [],
   "source": [
    "# Computing a distance matrix of 5000 * 5000 is a lot\n",
    "df_sample = df_5.sample(500, random_state=42)\n",
    "dist_mat = gower_matrix(df_sample)\n",
    "\n",
    "affinity_mat = -dist_mat\n",
    "\n",
    "clst = AffinityPropagation(\n",
    "    affinity=\"precomputed\",\n",
    "    preference=affinity_mat.min() * 5,\n",
    "    max_iter=5000,\n",
    "    random_state=42,\n",
    ")\n",
    "clst.fit(affinity_mat)"
   ]
  },
  {
   "cell_type": "code",
   "execution_count": null,
   "metadata": {},
   "outputs": [],
   "source": [
    "df_sample.iloc[clst.cluster_centers_indices_, :]"
   ]
  },
  {
   "cell_type": "code",
   "execution_count": null,
   "metadata": {},
   "outputs": [],
   "source": []
  }
 ],
 "metadata": {
  "kernelspec": {
   "display_name": "Python 3",
   "language": "python",
   "name": "python3"
  },
  "language_info": {
   "codemirror_mode": {
    "name": "ipython",
    "version": 3
   },
   "file_extension": ".py",
   "mimetype": "text/x-python",
   "name": "python",
   "nbconvert_exporter": "python",
   "pygments_lexer": "ipython3",
   "version": "3.7.6"
  }
 },
 "nbformat": 4,
 "nbformat_minor": 2
}
