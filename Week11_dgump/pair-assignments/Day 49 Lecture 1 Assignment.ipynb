{
 "cells": [
  {
   "cell_type": "markdown",
   "metadata": {
    "colab_type": "text",
    "id": "xdL0Yz0D1D_q"
   },
   "source": [
    "## Day 49 Lecture 1 Assignment\n",
    "\n",
    "In this assignment, we will apply GMM (Gaussian Mixture Modeling) clustering to a dataset containing player-season statistics for NBA players from the past four years."
   ]
  },
  {
   "cell_type": "code",
   "execution_count": 28,
   "metadata": {
    "colab": {},
    "colab_type": "code",
    "id": "OulyiH_C1D_r"
   },
   "outputs": [
    {
     "data": {
      "application/javascript": [
       "\n",
       "            setTimeout(function() {\n",
       "                var nbb_cell_id = 28;\n",
       "                var nbb_unformatted_code = \"%matplotlib inline\\n%reload_ext nb_black\\n\\nimport matplotlib.pyplot as plt\\nimport numpy as np\\nimport pandas as pd\\nfrom sklearn.mixture import GaussianMixture\\nfrom sklearn.cluster import KMeans\\nfrom sklearn.preprocessing import StandardScaler\\nfrom scipy.stats import entropy\";\n",
       "                var nbb_formatted_code = \"%matplotlib inline\\n%reload_ext nb_black\\n\\nimport matplotlib.pyplot as plt\\nimport numpy as np\\nimport pandas as pd\\nfrom sklearn.mixture import GaussianMixture\\nfrom sklearn.cluster import KMeans\\nfrom sklearn.preprocessing import StandardScaler\\nfrom scipy.stats import entropy\";\n",
       "                var nbb_cells = Jupyter.notebook.get_cells();\n",
       "                for (var i = 0; i < nbb_cells.length; ++i) {\n",
       "                    if (nbb_cells[i].input_prompt_number == nbb_cell_id) {\n",
       "                        if (nbb_cells[i].get_text() == nbb_unformatted_code) {\n",
       "                             nbb_cells[i].set_text(nbb_formatted_code);\n",
       "                        }\n",
       "                        break;\n",
       "                    }\n",
       "                }\n",
       "            }, 500);\n",
       "            "
      ],
      "text/plain": [
       "<IPython.core.display.Javascript object>"
      ]
     },
     "metadata": {},
     "output_type": "display_data"
    },
    {
     "data": {
      "application/javascript": [
       "\n",
       "            setTimeout(function() {\n",
       "                var nbb_cell_id = 28;\n",
       "                var nbb_unformatted_code = \"%matplotlib inline\\n%reload_ext nb_black\\n\\nimport matplotlib.pyplot as plt\\nimport numpy as np\\nimport pandas as pd\\nfrom sklearn.mixture import GaussianMixture\\nfrom sklearn.cluster import KMeans\\nfrom sklearn.preprocessing import StandardScaler\\nfrom scipy.stats import entropy\";\n",
       "                var nbb_formatted_code = \"%matplotlib inline\\n%reload_ext nb_black\\n\\nimport matplotlib.pyplot as plt\\nimport numpy as np\\nimport pandas as pd\\nfrom sklearn.mixture import GaussianMixture\\nfrom sklearn.cluster import KMeans\\nfrom sklearn.preprocessing import StandardScaler\\nfrom scipy.stats import entropy\";\n",
       "                var nbb_cells = Jupyter.notebook.get_cells();\n",
       "                for (var i = 0; i < nbb_cells.length; ++i) {\n",
       "                    if (nbb_cells[i].input_prompt_number == nbb_cell_id) {\n",
       "                        if (nbb_cells[i].get_text() == nbb_unformatted_code) {\n",
       "                             nbb_cells[i].set_text(nbb_formatted_code);\n",
       "                        }\n",
       "                        break;\n",
       "                    }\n",
       "                }\n",
       "            }, 500);\n",
       "            "
      ],
      "text/plain": [
       "<IPython.core.display.Javascript object>"
      ]
     },
     "metadata": {},
     "output_type": "display_data"
    }
   ],
   "source": [
    "%matplotlib inline\n",
    "%reload_ext nb_black\n",
    "\n",
    "import matplotlib.pyplot as plt\n",
    "import numpy as np\n",
    "import pandas as pd\n",
    "from sklearn.mixture import GaussianMixture\n",
    "from sklearn.cluster import KMeans\n",
    "from sklearn.preprocessing import StandardScaler\n",
    "from scipy.stats import entropy"
   ]
  },
  {
   "cell_type": "markdown",
   "metadata": {
    "colab_type": "text",
    "id": "ezMvoRlB1D_t"
   },
   "source": [
    "This dataset contains player-season statistics for NBA players from the past four years. Each row in this dataset represents a player's per-game averages for a single season. \n",
    "\n",
    "This dataset contains the following variables:\n",
    "\n",
    "- Seas: season ('2019' = 2018-2019 season, '2018' = 2017-2018 season, etc.)\n",
    "- Player: player name\n",
    "- Pos: position\n",
    "- Age: age\n",
    "- Tm: team\n",
    "- G: games played\n",
    "- GS: games started\n",
    "- MP: minutes played\n",
    "- FG: field goals\n",
    "- FGA: field goals attempted\n",
    "- FG%: field goal percentage\n",
    "- 3P: 3 pointers\n",
    "- 3PA: 3 pointers attempted\n",
    "- 3P%: 3 point percentage\n",
    "- 2P: 2 pointers\n",
    "- 2PA: 2 pointers attempted\n",
    "- 2P%: 2 point percentage\n",
    "- eFG%: effective field goal percentage\n",
    "- FT: free throws\n",
    "- FTA: free throws attempted\n",
    "- FT%: free throw percentage\n",
    "- ORB: offensive rebound\n",
    "- DRB: defensive rebound\n",
    "- TRB: total rebounds\n",
    "- AST: assists\n",
    "- STL: steals\n",
    "- BLK: blocks\n",
    "- TOV: turnovers\n",
    "- PF: personal fouls\n",
    "- PTS: points\n",
    "\n",
    "Load the dataset."
   ]
  },
  {
   "cell_type": "code",
   "execution_count": 2,
   "metadata": {
    "colab": {},
    "colab_type": "code",
    "id": "wP1U4eQ91D_u"
   },
   "outputs": [
    {
     "data": {
      "application/javascript": [
       "\n",
       "            setTimeout(function() {\n",
       "                var nbb_cell_id = 2;\n",
       "                var nbb_unformatted_code = \"# answer goes here\\nnba_df = pd.read_csv('data/nba_player_seasons.csv')\";\n",
       "                var nbb_formatted_code = \"# answer goes here\\nnba_df = pd.read_csv(\\\"data/nba_player_seasons.csv\\\")\";\n",
       "                var nbb_cells = Jupyter.notebook.get_cells();\n",
       "                for (var i = 0; i < nbb_cells.length; ++i) {\n",
       "                    if (nbb_cells[i].input_prompt_number == nbb_cell_id) {\n",
       "                        if (nbb_cells[i].get_text() == nbb_unformatted_code) {\n",
       "                             nbb_cells[i].set_text(nbb_formatted_code);\n",
       "                        }\n",
       "                        break;\n",
       "                    }\n",
       "                }\n",
       "            }, 500);\n",
       "            "
      ],
      "text/plain": [
       "<IPython.core.display.Javascript object>"
      ]
     },
     "metadata": {},
     "output_type": "display_data"
    }
   ],
   "source": [
    "# answer goes here\n",
    "nba_df = pd.read_csv('data/nba_player_seasons.csv')\n",
    "\n",
    "\n"
   ]
  },
  {
   "cell_type": "markdown",
   "metadata": {
    "colab_type": "text",
    "id": "o_K1eQ0x1D_y"
   },
   "source": [
    "The goal is to cluster these player-seasons to identify potential player \"archetypes\".  \n",
    "The pre-processing steps will be identical to what we previously did for K-means.\n",
    "\n",
    "Begin by removing players whose season did not meet one of the following criteria:\n",
    "1. Started at least 20 games\n",
    "2. Averaged at least 10 minutes per game"
   ]
  },
  {
   "cell_type": "code",
   "execution_count": 3,
   "metadata": {
    "colab": {},
    "colab_type": "code",
    "id": "xfYVreyw1D_y"
   },
   "outputs": [
    {
     "data": {
      "application/javascript": [
       "\n",
       "            setTimeout(function() {\n",
       "                var nbb_cell_id = 3;\n",
       "                var nbb_unformatted_code = \"# answer goes here\\nnba_df = nba_df.loc[nba_df['GS'] >= 20]\\nnba_df = nba_df.loc[nba_df['MP'] >= 10]\";\n",
       "                var nbb_formatted_code = \"# answer goes here\\nnba_df = nba_df.loc[nba_df[\\\"GS\\\"] >= 20]\\nnba_df = nba_df.loc[nba_df[\\\"MP\\\"] >= 10]\";\n",
       "                var nbb_cells = Jupyter.notebook.get_cells();\n",
       "                for (var i = 0; i < nbb_cells.length; ++i) {\n",
       "                    if (nbb_cells[i].input_prompt_number == nbb_cell_id) {\n",
       "                        if (nbb_cells[i].get_text() == nbb_unformatted_code) {\n",
       "                             nbb_cells[i].set_text(nbb_formatted_code);\n",
       "                        }\n",
       "                        break;\n",
       "                    }\n",
       "                }\n",
       "            }, 500);\n",
       "            "
      ],
      "text/plain": [
       "<IPython.core.display.Javascript object>"
      ]
     },
     "metadata": {},
     "output_type": "display_data"
    }
   ],
   "source": [
    "# answer goes here\n",
    "nba_df = nba_df.loc[nba_df['GS'] >= 20]\n",
    "nba_df = nba_df.loc[nba_df['MP'] >= 10]\n",
    "\n",
    "\n"
   ]
  },
  {
   "cell_type": "markdown",
   "metadata": {
    "colab_type": "text",
    "id": "86lfEP_91D_0"
   },
   "source": [
    "Choose a subset of numeric columns that is interesting to you from an \"archetypal\" standpoint. \n",
    "\n",
    "We will choose the following basic statistics: **points, total rebounds, assists, steals, blocks**, and **turnovers**, but you should feel free to choose other reasonable feature sets if you like. Be careful not to include too many dimensions (curse of dimensionality)."
   ]
  },
  {
   "cell_type": "code",
   "execution_count": 4,
   "metadata": {
    "colab": {},
    "colab_type": "code",
    "id": "o3PUI4l61D_0"
   },
   "outputs": [
    {
     "data": {
      "application/javascript": [
       "\n",
       "            setTimeout(function() {\n",
       "                var nbb_cell_id = 4;\n",
       "                var nbb_unformatted_code = \"# answer goes here\\ncols_of_interest = [\\n    'PTS',\\n    'TRB',\\n    'AST',\\n    'STL',\\n    'BLK',\\n    'TOV',\\n    'MP',\\n    'FT%',\\n    '3P',\\n]\\n\\nnba_interest = nba_df[cols_of_interest]\";\n",
       "                var nbb_formatted_code = \"# answer goes here\\ncols_of_interest = [\\n    \\\"PTS\\\",\\n    \\\"TRB\\\",\\n    \\\"AST\\\",\\n    \\\"STL\\\",\\n    \\\"BLK\\\",\\n    \\\"TOV\\\",\\n    \\\"MP\\\",\\n    \\\"FT%\\\",\\n    \\\"3P\\\",\\n]\\n\\nnba_interest = nba_df[cols_of_interest]\";\n",
       "                var nbb_cells = Jupyter.notebook.get_cells();\n",
       "                for (var i = 0; i < nbb_cells.length; ++i) {\n",
       "                    if (nbb_cells[i].input_prompt_number == nbb_cell_id) {\n",
       "                        if (nbb_cells[i].get_text() == nbb_unformatted_code) {\n",
       "                             nbb_cells[i].set_text(nbb_formatted_code);\n",
       "                        }\n",
       "                        break;\n",
       "                    }\n",
       "                }\n",
       "            }, 500);\n",
       "            "
      ],
      "text/plain": [
       "<IPython.core.display.Javascript object>"
      ]
     },
     "metadata": {},
     "output_type": "display_data"
    }
   ],
   "source": [
    "# answer goes here\n",
    "cols_of_interest = [\n",
    "    'PTS',\n",
    "    'TRB',\n",
    "    'AST',\n",
    "    'STL',\n",
    "    'BLK',\n",
    "    'TOV',\n",
    "    'MP',\n",
    "    'FT%',\n",
    "    '3P',\n",
    "]\n",
    "\n",
    "nba_interest = nba_df[cols_of_interest]\n",
    "\n",
    "\n"
   ]
  },
  {
   "cell_type": "markdown",
   "metadata": {
    "colab_type": "text",
    "id": "MUjcLMMk1D_2"
   },
   "source": [
    "Standardize the features in your dataset using scikit-learn's StandardScaler, which will set the mean of each feature to 0 and the variance to 1."
   ]
  },
  {
   "cell_type": "code",
   "execution_count": 5,
   "metadata": {
    "colab": {},
    "colab_type": "code",
    "id": "6OTdN8oF1D_2"
   },
   "outputs": [
    {
     "data": {
      "text/plain": [
       "array([[ 0.11463777,  1.6129094 , -0.61781554, ...,  0.98199392,\n",
       "        -2.58644655, -1.3535285 ],\n",
       "       [-0.7449851 ,  0.76862715, -0.33088552, ..., -0.90364619,\n",
       "        -0.25522074, -1.3535285 ],\n",
       "       [ 1.38687962,  1.49778   , -0.23524218, ...,  0.94465452,\n",
       "         0.85583157, -1.24053537],\n",
       "       ...,\n",
       "       [-0.2635963 ,  0.42323896, -0.71345889, ...,  0.14185724,\n",
       "         0.71695003,  0.79334113],\n",
       "       [ 0.32094726,  1.42102707, -0.5221722 , ...,  0.90731511,\n",
       "        -1.15795073, -1.24053537],\n",
       "       [-0.77937002,  0.34648603, -0.90474557, ..., -0.71694914,\n",
       "        -0.06673865, -1.3535285 ]])"
      ]
     },
     "execution_count": 5,
     "metadata": {},
     "output_type": "execute_result"
    },
    {
     "data": {
      "application/javascript": [
       "\n",
       "            setTimeout(function() {\n",
       "                var nbb_cell_id = 5;\n",
       "                var nbb_unformatted_code = \"# answer goes here\\nscaler = StandardScaler()\\nscaled = scaler.fit_transform(nba_interest)\\nscaled\";\n",
       "                var nbb_formatted_code = \"# answer goes here\\nscaler = StandardScaler()\\nscaled = scaler.fit_transform(nba_interest)\\nscaled\";\n",
       "                var nbb_cells = Jupyter.notebook.get_cells();\n",
       "                for (var i = 0; i < nbb_cells.length; ++i) {\n",
       "                    if (nbb_cells[i].input_prompt_number == nbb_cell_id) {\n",
       "                        if (nbb_cells[i].get_text() == nbb_unformatted_code) {\n",
       "                             nbb_cells[i].set_text(nbb_formatted_code);\n",
       "                        }\n",
       "                        break;\n",
       "                    }\n",
       "                }\n",
       "            }, 500);\n",
       "            "
      ],
      "text/plain": [
       "<IPython.core.display.Javascript object>"
      ]
     },
     "metadata": {},
     "output_type": "display_data"
    }
   ],
   "source": [
    "# answer goes here\n",
    "scaler = StandardScaler()\n",
    "scaled = scaler.fit_transform(nba_interest)\n",
    "scaled\n",
    "\n",
    "\n"
   ]
  },
  {
   "cell_type": "markdown",
   "metadata": {
    "colab_type": "text",
    "id": "ao3Y5FVp1D_4"
   },
   "source": [
    "Run both K-Means and Gaussian mixtures modeling twice, once with 3 cluster and once with 7 clusters. Print out the resulting means for all 4 scenarios (KM+3, GMM+3, KM+7, GMM+7). When printing the means, transform the scaled versions back into their corresponding unscaled values. \n",
    "\n",
    "What \"archetypes\" do you see? Are the archetypes identified by GMM similar to those identified by K-Means? How do the means of GMM differ from those of K-Means?"
   ]
  },
  {
   "cell_type": "code",
   "execution_count": 20,
   "metadata": {
    "colab": {},
    "colab_type": "code",
    "id": "sUhMxZdL1D_4"
   },
   "outputs": [
    {
     "data": {
      "application/javascript": [
       "\n",
       "            setTimeout(function() {\n",
       "                var nbb_cell_id = 20;\n",
       "                var nbb_unformatted_code = \"# answer goes here\\ngauss3 = GaussianMixture(n_components=3, random_state=42)\\ngauss3.fit(scaled)\\ngauss3_avg = pd.DataFrame(scaler.inverse_transform(gauss3.means_), columns=nba_interest.columns)\\n\\n\\n\\nkmeans3 = KMeans(n_clusters=3, random_state=42)\\nkmeans3.fit(scaled)\\nkmeans3_avg = pd.DataFrame(\\n        scaler.inverse_transform(kmeans3.cluster_centers_), columns=nba_interest.columns\\n    )\";\n",
       "                var nbb_formatted_code = \"# answer goes here\\ngauss3 = GaussianMixture(n_components=3, random_state=42)\\ngauss3.fit(scaled)\\ngauss3_avg = pd.DataFrame(\\n    scaler.inverse_transform(gauss3.means_), columns=nba_interest.columns\\n)\\n\\n\\nkmeans3 = KMeans(n_clusters=3, random_state=42)\\nkmeans3.fit(scaled)\\nkmeans3_avg = pd.DataFrame(\\n    scaler.inverse_transform(kmeans3.cluster_centers_), columns=nba_interest.columns\\n)\";\n",
       "                var nbb_cells = Jupyter.notebook.get_cells();\n",
       "                for (var i = 0; i < nbb_cells.length; ++i) {\n",
       "                    if (nbb_cells[i].input_prompt_number == nbb_cell_id) {\n",
       "                        if (nbb_cells[i].get_text() == nbb_unformatted_code) {\n",
       "                             nbb_cells[i].set_text(nbb_formatted_code);\n",
       "                        }\n",
       "                        break;\n",
       "                    }\n",
       "                }\n",
       "            }, 500);\n",
       "            "
      ],
      "text/plain": [
       "<IPython.core.display.Javascript object>"
      ]
     },
     "metadata": {},
     "output_type": "display_data"
    }
   ],
   "source": [
    "# answer goes here\n",
    "gauss3 = GaussianMixture(n_components=3, random_state=42)\n",
    "gauss3.fit(scaled)\n",
    "gauss3_avg = pd.DataFrame(scaler.inverse_transform(gauss3.means_), columns=nba_interest.columns)\n",
    "\n",
    "\n",
    "\n",
    "kmeans3 = KMeans(n_clusters=3, random_state=42)\n",
    "kmeans3.fit(scaled)\n",
    "kmeans3_avg = pd.DataFrame(\n",
    "        scaler.inverse_transform(kmeans3.cluster_centers_), columns=nba_interest.columns\n",
    "    )\n"
   ]
  },
  {
   "cell_type": "code",
   "execution_count": 24,
   "metadata": {
    "scrolled": true
   },
   "outputs": [
    {
     "data": {
      "text/html": [
       "<style  type=\"text/css\" >\n",
       "    #T_60fa2a2c_03fd_11eb_8b3c_7085c233535crow0_col0 {\n",
       "            background-color:  #fff7fb;\n",
       "            color:  #000000;\n",
       "        }    #T_60fa2a2c_03fd_11eb_8b3c_7085c233535crow0_col1 {\n",
       "            background-color:  #fff7fb;\n",
       "            color:  #000000;\n",
       "        }    #T_60fa2a2c_03fd_11eb_8b3c_7085c233535crow0_col2 {\n",
       "            background-color:  #fff7fb;\n",
       "            color:  #000000;\n",
       "        }    #T_60fa2a2c_03fd_11eb_8b3c_7085c233535crow0_col3 {\n",
       "            background-color:  #fbf3f9;\n",
       "            color:  #000000;\n",
       "        }    #T_60fa2a2c_03fd_11eb_8b3c_7085c233535crow0_col4 {\n",
       "            background-color:  #fff7fb;\n",
       "            color:  #000000;\n",
       "        }    #T_60fa2a2c_03fd_11eb_8b3c_7085c233535crow0_col5 {\n",
       "            background-color:  #fff7fb;\n",
       "            color:  #000000;\n",
       "        }    #T_60fa2a2c_03fd_11eb_8b3c_7085c233535crow0_col6 {\n",
       "            background-color:  #fff7fb;\n",
       "            color:  #000000;\n",
       "        }    #T_60fa2a2c_03fd_11eb_8b3c_7085c233535crow0_col7 {\n",
       "            background-color:  #2987bc;\n",
       "            color:  #000000;\n",
       "        }    #T_60fa2a2c_03fd_11eb_8b3c_7085c233535crow0_col8 {\n",
       "            background-color:  #358fc0;\n",
       "            color:  #000000;\n",
       "        }    #T_60fa2a2c_03fd_11eb_8b3c_7085c233535crow1_col0 {\n",
       "            background-color:  #023858;\n",
       "            color:  #f1f1f1;\n",
       "        }    #T_60fa2a2c_03fd_11eb_8b3c_7085c233535crow1_col1 {\n",
       "            background-color:  #f0eaf4;\n",
       "            color:  #000000;\n",
       "        }    #T_60fa2a2c_03fd_11eb_8b3c_7085c233535crow1_col2 {\n",
       "            background-color:  #023858;\n",
       "            color:  #f1f1f1;\n",
       "        }    #T_60fa2a2c_03fd_11eb_8b3c_7085c233535crow1_col3 {\n",
       "            background-color:  #023858;\n",
       "            color:  #f1f1f1;\n",
       "        }    #T_60fa2a2c_03fd_11eb_8b3c_7085c233535crow1_col4 {\n",
       "            background-color:  #fff7fb;\n",
       "            color:  #000000;\n",
       "        }    #T_60fa2a2c_03fd_11eb_8b3c_7085c233535crow1_col5 {\n",
       "            background-color:  #023858;\n",
       "            color:  #f1f1f1;\n",
       "        }    #T_60fa2a2c_03fd_11eb_8b3c_7085c233535crow1_col6 {\n",
       "            background-color:  #023858;\n",
       "            color:  #f1f1f1;\n",
       "        }    #T_60fa2a2c_03fd_11eb_8b3c_7085c233535crow1_col7 {\n",
       "            background-color:  #023858;\n",
       "            color:  #f1f1f1;\n",
       "        }    #T_60fa2a2c_03fd_11eb_8b3c_7085c233535crow1_col8 {\n",
       "            background-color:  #023858;\n",
       "            color:  #f1f1f1;\n",
       "        }    #T_60fa2a2c_03fd_11eb_8b3c_7085c233535crow2_col0 {\n",
       "            background-color:  #5c9fc9;\n",
       "            color:  #000000;\n",
       "        }    #T_60fa2a2c_03fd_11eb_8b3c_7085c233535crow2_col1 {\n",
       "            background-color:  #023858;\n",
       "            color:  #f1f1f1;\n",
       "        }    #T_60fa2a2c_03fd_11eb_8b3c_7085c233535crow2_col2 {\n",
       "            background-color:  #ece7f2;\n",
       "            color:  #000000;\n",
       "        }    #T_60fa2a2c_03fd_11eb_8b3c_7085c233535crow2_col3 {\n",
       "            background-color:  #fff7fb;\n",
       "            color:  #000000;\n",
       "        }    #T_60fa2a2c_03fd_11eb_8b3c_7085c233535crow2_col4 {\n",
       "            background-color:  #023858;\n",
       "            color:  #f1f1f1;\n",
       "        }    #T_60fa2a2c_03fd_11eb_8b3c_7085c233535crow2_col5 {\n",
       "            background-color:  #65a3cb;\n",
       "            color:  #000000;\n",
       "        }    #T_60fa2a2c_03fd_11eb_8b3c_7085c233535crow2_col6 {\n",
       "            background-color:  #7bacd1;\n",
       "            color:  #000000;\n",
       "        }    #T_60fa2a2c_03fd_11eb_8b3c_7085c233535crow2_col7 {\n",
       "            background-color:  #fff7fb;\n",
       "            color:  #000000;\n",
       "        }    #T_60fa2a2c_03fd_11eb_8b3c_7085c233535crow2_col8 {\n",
       "            background-color:  #fff7fb;\n",
       "            color:  #000000;\n",
       "        }</style><table id=\"T_60fa2a2c_03fd_11eb_8b3c_7085c233535c\" ><thead>    <tr>        <th class=\"blank level0\" ></th>        <th class=\"col_heading level0 col0\" >PTS</th>        <th class=\"col_heading level0 col1\" >TRB</th>        <th class=\"col_heading level0 col2\" >AST</th>        <th class=\"col_heading level0 col3\" >STL</th>        <th class=\"col_heading level0 col4\" >BLK</th>        <th class=\"col_heading level0 col5\" >TOV</th>        <th class=\"col_heading level0 col6\" >MP</th>        <th class=\"col_heading level0 col7\" >FT%</th>        <th class=\"col_heading level0 col8\" >3P</th>    </tr></thead><tbody>\n",
       "                <tr>\n",
       "                        <th id=\"T_60fa2a2c_03fd_11eb_8b3c_7085c233535clevel0_row0\" class=\"row_heading level0 row0\" >0</th>\n",
       "                        <td id=\"T_60fa2a2c_03fd_11eb_8b3c_7085c233535crow0_col0\" class=\"data row0 col0\" >10.144020</td>\n",
       "                        <td id=\"T_60fa2a2c_03fd_11eb_8b3c_7085c233535crow0_col1\" class=\"data row0 col1\" >4.197849</td>\n",
       "                        <td id=\"T_60fa2a2c_03fd_11eb_8b3c_7085c233535crow0_col2\" class=\"data row0 col2\" >1.701457</td>\n",
       "                        <td id=\"T_60fa2a2c_03fd_11eb_8b3c_7085c233535crow0_col3\" class=\"data row0 col3\" >0.792696</td>\n",
       "                        <td id=\"T_60fa2a2c_03fd_11eb_8b3c_7085c233535crow0_col4\" class=\"data row0 col4\" >0.394321</td>\n",
       "                        <td id=\"T_60fa2a2c_03fd_11eb_8b3c_7085c233535crow0_col5\" class=\"data row0 col5\" >1.141280</td>\n",
       "                        <td id=\"T_60fa2a2c_03fd_11eb_8b3c_7085c233535crow0_col6\" class=\"data row0 col6\" >25.481773</td>\n",
       "                        <td id=\"T_60fa2a2c_03fd_11eb_8b3c_7085c233535crow0_col7\" class=\"data row0 col7\" >0.764839</td>\n",
       "                        <td id=\"T_60fa2a2c_03fd_11eb_8b3c_7085c233535crow0_col8\" class=\"data row0 col8\" >1.221734</td>\n",
       "            </tr>\n",
       "            <tr>\n",
       "                        <th id=\"T_60fa2a2c_03fd_11eb_8b3c_7085c233535clevel0_row1\" class=\"row_heading level0 row1\" >1</th>\n",
       "                        <td id=\"T_60fa2a2c_03fd_11eb_8b3c_7085c233535crow1_col0\" class=\"data row1 col0\" >16.787175</td>\n",
       "                        <td id=\"T_60fa2a2c_03fd_11eb_8b3c_7085c233535crow1_col1\" class=\"data row1 col1\" >4.626279</td>\n",
       "                        <td id=\"T_60fa2a2c_03fd_11eb_8b3c_7085c233535crow1_col2\" class=\"data row1 col2\" >4.943632</td>\n",
       "                        <td id=\"T_60fa2a2c_03fd_11eb_8b3c_7085c233535crow1_col3\" class=\"data row1 col3\" >1.180902</td>\n",
       "                        <td id=\"T_60fa2a2c_03fd_11eb_8b3c_7085c233535crow1_col4\" class=\"data row1 col4\" >0.395330</td>\n",
       "                        <td id=\"T_60fa2a2c_03fd_11eb_8b3c_7085c233535crow1_col5\" class=\"data row1 col5\" >2.311917</td>\n",
       "                        <td id=\"T_60fa2a2c_03fd_11eb_8b3c_7085c233535crow1_col6\" class=\"data row1 col6\" >31.398888</td>\n",
       "                        <td id=\"T_60fa2a2c_03fd_11eb_8b3c_7085c233535crow1_col7\" class=\"data row1 col7\" >0.802250</td>\n",
       "                        <td id=\"T_60fa2a2c_03fd_11eb_8b3c_7085c233535crow1_col8\" class=\"data row1 col8\" >1.653905</td>\n",
       "            </tr>\n",
       "            <tr>\n",
       "                        <th id=\"T_60fa2a2c_03fd_11eb_8b3c_7085c233535clevel0_row2\" class=\"row_heading level0 row2\" >2</th>\n",
       "                        <td id=\"T_60fa2a2c_03fd_11eb_8b3c_7085c233535crow2_col0\" class=\"data row2 col0\" >13.785906</td>\n",
       "                        <td id=\"T_60fa2a2c_03fd_11eb_8b3c_7085c233535crow2_col1\" class=\"data row2 col1\" >8.301836</td>\n",
       "                        <td id=\"T_60fa2a2c_03fd_11eb_8b3c_7085c233535crow2_col2\" class=\"data row2 col2\" >2.115263</td>\n",
       "                        <td id=\"T_60fa2a2c_03fd_11eb_8b3c_7085c233535crow2_col3\" class=\"data row2 col3\" >0.780595</td>\n",
       "                        <td id=\"T_60fa2a2c_03fd_11eb_8b3c_7085c233535crow2_col4\" class=\"data row2 col4\" >1.242260</td>\n",
       "                        <td id=\"T_60fa2a2c_03fd_11eb_8b3c_7085c233535crow2_col5\" class=\"data row2 col5\" >1.761330</td>\n",
       "                        <td id=\"T_60fa2a2c_03fd_11eb_8b3c_7085c233535crow2_col6\" class=\"data row2 col6\" >28.325139</td>\n",
       "                        <td id=\"T_60fa2a2c_03fd_11eb_8b3c_7085c233535crow2_col7\" class=\"data row2 col7\" >0.692891</td>\n",
       "                        <td id=\"T_60fa2a2c_03fd_11eb_8b3c_7085c233535crow2_col8\" class=\"data row2 col8\" >0.492237</td>\n",
       "            </tr>\n",
       "    </tbody></table>"
      ],
      "text/plain": [
       "<pandas.io.formats.style.Styler at 0x1c84a9d8248>"
      ]
     },
     "execution_count": 24,
     "metadata": {},
     "output_type": "execute_result"
    },
    {
     "data": {
      "application/javascript": [
       "\n",
       "            setTimeout(function() {\n",
       "                var nbb_cell_id = 24;\n",
       "                var nbb_unformatted_code = \"gauss3_avg.style.background_gradient(axis=0)\";\n",
       "                var nbb_formatted_code = \"gauss3_avg.style.background_gradient(axis=0)\";\n",
       "                var nbb_cells = Jupyter.notebook.get_cells();\n",
       "                for (var i = 0; i < nbb_cells.length; ++i) {\n",
       "                    if (nbb_cells[i].input_prompt_number == nbb_cell_id) {\n",
       "                        if (nbb_cells[i].get_text() == nbb_unformatted_code) {\n",
       "                             nbb_cells[i].set_text(nbb_formatted_code);\n",
       "                        }\n",
       "                        break;\n",
       "                    }\n",
       "                }\n",
       "            }, 500);\n",
       "            "
      ],
      "text/plain": [
       "<IPython.core.display.Javascript object>"
      ]
     },
     "metadata": {},
     "output_type": "display_data"
    }
   ],
   "source": [
    "gauss3_avg.style.background_gradient(axis=0)"
   ]
  },
  {
   "cell_type": "code",
   "execution_count": null,
   "metadata": {},
   "outputs": [],
   "source": []
  },
  {
   "cell_type": "code",
   "execution_count": 25,
   "metadata": {},
   "outputs": [
    {
     "data": {
      "application/javascript": [
       "\n",
       "            setTimeout(function() {\n",
       "                var nbb_cell_id = 25;\n",
       "                var nbb_unformatted_code = \"gauss7 = GaussianMixture(n_components=7, random_state=42)\\ngauss7.fit(scaled)\\ngauss7_avg = pd.DataFrame(scaler.inverse_transform(gauss7.means_), columns=nba_interest.columns)\\n\\n\\n\\nkmeans7 = KMeans(n_clusters=7, random_state=42)\\nkmeans7.fit(scaled)\\nkmeans7_avg = pd.DataFrame(\\n        scaler.inverse_transform(kmeans7.cluster_centers_), columns=nba_interest.columns\\n    )\";\n",
       "                var nbb_formatted_code = \"gauss7 = GaussianMixture(n_components=7, random_state=42)\\ngauss7.fit(scaled)\\ngauss7_avg = pd.DataFrame(\\n    scaler.inverse_transform(gauss7.means_), columns=nba_interest.columns\\n)\\n\\n\\nkmeans7 = KMeans(n_clusters=7, random_state=42)\\nkmeans7.fit(scaled)\\nkmeans7_avg = pd.DataFrame(\\n    scaler.inverse_transform(kmeans7.cluster_centers_), columns=nba_interest.columns\\n)\";\n",
       "                var nbb_cells = Jupyter.notebook.get_cells();\n",
       "                for (var i = 0; i < nbb_cells.length; ++i) {\n",
       "                    if (nbb_cells[i].input_prompt_number == nbb_cell_id) {\n",
       "                        if (nbb_cells[i].get_text() == nbb_unformatted_code) {\n",
       "                             nbb_cells[i].set_text(nbb_formatted_code);\n",
       "                        }\n",
       "                        break;\n",
       "                    }\n",
       "                }\n",
       "            }, 500);\n",
       "            "
      ],
      "text/plain": [
       "<IPython.core.display.Javascript object>"
      ]
     },
     "metadata": {},
     "output_type": "display_data"
    }
   ],
   "source": [
    "gauss7 = GaussianMixture(n_components=7, random_state=42)\n",
    "gauss7.fit(scaled)\n",
    "gauss7_avg = pd.DataFrame(scaler.inverse_transform(gauss7.means_), columns=nba_interest.columns)\n",
    "\n",
    "\n",
    "\n",
    "kmeans7 = KMeans(n_clusters=7, random_state=42)\n",
    "kmeans7.fit(scaled)\n",
    "kmeans7_avg = pd.DataFrame(\n",
    "        scaler.inverse_transform(kmeans7.cluster_centers_), columns=nba_interest.columns\n",
    "    )\n"
   ]
  },
  {
   "cell_type": "code",
   "execution_count": 27,
   "metadata": {},
   "outputs": [
    {
     "data": {
      "text/html": [
       "<style  type=\"text/css\" >\n",
       "    #T_93a04468_03fd_11eb_94c0_7085c233535crow0_col0 {\n",
       "            background-color:  #fff7fb;\n",
       "            color:  #000000;\n",
       "        }    #T_93a04468_03fd_11eb_94c0_7085c233535crow0_col1 {\n",
       "            background-color:  #d6d6e9;\n",
       "            color:  #000000;\n",
       "        }    #T_93a04468_03fd_11eb_94c0_7085c233535crow0_col2 {\n",
       "            background-color:  #fff7fb;\n",
       "            color:  #000000;\n",
       "        }    #T_93a04468_03fd_11eb_94c0_7085c233535crow0_col3 {\n",
       "            background-color:  #f2ecf5;\n",
       "            color:  #000000;\n",
       "        }    #T_93a04468_03fd_11eb_94c0_7085c233535crow0_col4 {\n",
       "            background-color:  #dbdaeb;\n",
       "            color:  #000000;\n",
       "        }    #T_93a04468_03fd_11eb_94c0_7085c233535crow0_col5 {\n",
       "            background-color:  #fff7fb;\n",
       "            color:  #000000;\n",
       "        }    #T_93a04468_03fd_11eb_94c0_7085c233535crow0_col6 {\n",
       "            background-color:  #fff7fb;\n",
       "            color:  #000000;\n",
       "        }    #T_93a04468_03fd_11eb_94c0_7085c233535crow0_col7 {\n",
       "            background-color:  #96b6d7;\n",
       "            color:  #000000;\n",
       "        }    #T_93a04468_03fd_11eb_94c0_7085c233535crow0_col8 {\n",
       "            background-color:  #a7bddb;\n",
       "            color:  #000000;\n",
       "        }    #T_93a04468_03fd_11eb_94c0_7085c233535crow1_col0 {\n",
       "            background-color:  #91b5d6;\n",
       "            color:  #000000;\n",
       "        }    #T_93a04468_03fd_11eb_94c0_7085c233535crow1_col1 {\n",
       "            background-color:  #79abd0;\n",
       "            color:  #000000;\n",
       "        }    #T_93a04468_03fd_11eb_94c0_7085c233535crow1_col2 {\n",
       "            background-color:  #e7e3f0;\n",
       "            color:  #000000;\n",
       "        }    #T_93a04468_03fd_11eb_94c0_7085c233535crow1_col3 {\n",
       "            background-color:  #b5c4df;\n",
       "            color:  #000000;\n",
       "        }    #T_93a04468_03fd_11eb_94c0_7085c233535crow1_col4 {\n",
       "            background-color:  #d7d6e9;\n",
       "            color:  #000000;\n",
       "        }    #T_93a04468_03fd_11eb_94c0_7085c233535crow1_col5 {\n",
       "            background-color:  #cccfe5;\n",
       "            color:  #000000;\n",
       "        }    #T_93a04468_03fd_11eb_94c0_7085c233535crow1_col6 {\n",
       "            background-color:  #2c89bd;\n",
       "            color:  #000000;\n",
       "        }    #T_93a04468_03fd_11eb_94c0_7085c233535crow1_col7 {\n",
       "            background-color:  #034f7d;\n",
       "            color:  #f1f1f1;\n",
       "        }    #T_93a04468_03fd_11eb_94c0_7085c233535crow1_col8 {\n",
       "            background-color:  #0568a3;\n",
       "            color:  #f1f1f1;\n",
       "        }    #T_93a04468_03fd_11eb_94c0_7085c233535crow2_col0 {\n",
       "            background-color:  #b9c6e0;\n",
       "            color:  #000000;\n",
       "        }    #T_93a04468_03fd_11eb_94c0_7085c233535crow2_col1 {\n",
       "            background-color:  #bcc7e1;\n",
       "            color:  #000000;\n",
       "        }    #T_93a04468_03fd_11eb_94c0_7085c233535crow2_col2 {\n",
       "            background-color:  #0569a4;\n",
       "            color:  #f1f1f1;\n",
       "        }    #T_93a04468_03fd_11eb_94c0_7085c233535crow2_col3 {\n",
       "            background-color:  #04649d;\n",
       "            color:  #f1f1f1;\n",
       "        }    #T_93a04468_03fd_11eb_94c0_7085c233535crow2_col4 {\n",
       "            background-color:  #dcdaeb;\n",
       "            color:  #000000;\n",
       "        }    #T_93a04468_03fd_11eb_94c0_7085c233535crow2_col5 {\n",
       "            background-color:  #2484ba;\n",
       "            color:  #000000;\n",
       "        }    #T_93a04468_03fd_11eb_94c0_7085c233535crow2_col6 {\n",
       "            background-color:  #3f93c2;\n",
       "            color:  #000000;\n",
       "        }    #T_93a04468_03fd_11eb_94c0_7085c233535crow2_col7 {\n",
       "            background-color:  #4697c4;\n",
       "            color:  #000000;\n",
       "        }    #T_93a04468_03fd_11eb_94c0_7085c233535crow2_col8 {\n",
       "            background-color:  #2685bb;\n",
       "            color:  #000000;\n",
       "        }    #T_93a04468_03fd_11eb_94c0_7085c233535crow3_col0 {\n",
       "            background-color:  #023858;\n",
       "            color:  #f1f1f1;\n",
       "        }    #T_93a04468_03fd_11eb_94c0_7085c233535crow3_col1 {\n",
       "            background-color:  #91b5d6;\n",
       "            color:  #000000;\n",
       "        }    #T_93a04468_03fd_11eb_94c0_7085c233535crow3_col2 {\n",
       "            background-color:  #023858;\n",
       "            color:  #f1f1f1;\n",
       "        }    #T_93a04468_03fd_11eb_94c0_7085c233535crow3_col3 {\n",
       "            background-color:  #023858;\n",
       "            color:  #f1f1f1;\n",
       "        }    #T_93a04468_03fd_11eb_94c0_7085c233535crow3_col4 {\n",
       "            background-color:  #dfddec;\n",
       "            color:  #000000;\n",
       "        }    #T_93a04468_03fd_11eb_94c0_7085c233535crow3_col5 {\n",
       "            background-color:  #023858;\n",
       "            color:  #f1f1f1;\n",
       "        }    #T_93a04468_03fd_11eb_94c0_7085c233535crow3_col6 {\n",
       "            background-color:  #023858;\n",
       "            color:  #f1f1f1;\n",
       "        }    #T_93a04468_03fd_11eb_94c0_7085c233535crow3_col7 {\n",
       "            background-color:  #023858;\n",
       "            color:  #f1f1f1;\n",
       "        }    #T_93a04468_03fd_11eb_94c0_7085c233535crow3_col8 {\n",
       "            background-color:  #023858;\n",
       "            color:  #f1f1f1;\n",
       "        }    #T_93a04468_03fd_11eb_94c0_7085c233535crow4_col0 {\n",
       "            background-color:  #e0dded;\n",
       "            color:  #000000;\n",
       "        }    #T_93a04468_03fd_11eb_94c0_7085c233535crow4_col1 {\n",
       "            background-color:  #034871;\n",
       "            color:  #f1f1f1;\n",
       "        }    #T_93a04468_03fd_11eb_94c0_7085c233535crow4_col2 {\n",
       "            background-color:  #fbf3f9;\n",
       "            color:  #000000;\n",
       "        }    #T_93a04468_03fd_11eb_94c0_7085c233535crow4_col3 {\n",
       "            background-color:  #fff7fb;\n",
       "            color:  #000000;\n",
       "        }    #T_93a04468_03fd_11eb_94c0_7085c233535crow4_col4 {\n",
       "            background-color:  #1278b4;\n",
       "            color:  #f1f1f1;\n",
       "        }    #T_93a04468_03fd_11eb_94c0_7085c233535crow4_col5 {\n",
       "            background-color:  #ced0e6;\n",
       "            color:  #000000;\n",
       "        }    #T_93a04468_03fd_11eb_94c0_7085c233535crow4_col6 {\n",
       "            background-color:  #d2d3e7;\n",
       "            color:  #000000;\n",
       "        }    #T_93a04468_03fd_11eb_94c0_7085c233535crow4_col7 {\n",
       "            background-color:  #fff7fb;\n",
       "            color:  #000000;\n",
       "        }    #T_93a04468_03fd_11eb_94c0_7085c233535crow4_col8 {\n",
       "            background-color:  #fff7fb;\n",
       "            color:  #000000;\n",
       "        }    #T_93a04468_03fd_11eb_94c0_7085c233535crow5_col0 {\n",
       "            background-color:  #1278b4;\n",
       "            color:  #f1f1f1;\n",
       "        }    #T_93a04468_03fd_11eb_94c0_7085c233535crow5_col1 {\n",
       "            background-color:  #023858;\n",
       "            color:  #f1f1f1;\n",
       "        }    #T_93a04468_03fd_11eb_94c0_7085c233535crow5_col2 {\n",
       "            background-color:  #a7bddb;\n",
       "            color:  #000000;\n",
       "        }    #T_93a04468_03fd_11eb_94c0_7085c233535crow5_col3 {\n",
       "            background-color:  #bcc7e1;\n",
       "            color:  #000000;\n",
       "        }    #T_93a04468_03fd_11eb_94c0_7085c233535crow5_col4 {\n",
       "            background-color:  #023858;\n",
       "            color:  #f1f1f1;\n",
       "        }    #T_93a04468_03fd_11eb_94c0_7085c233535crow5_col5 {\n",
       "            background-color:  #358fc0;\n",
       "            color:  #000000;\n",
       "        }    #T_93a04468_03fd_11eb_94c0_7085c233535crow5_col6 {\n",
       "            background-color:  #0d75b3;\n",
       "            color:  #f1f1f1;\n",
       "        }    #T_93a04468_03fd_11eb_94c0_7085c233535crow5_col7 {\n",
       "            background-color:  #0567a1;\n",
       "            color:  #f1f1f1;\n",
       "        }    #T_93a04468_03fd_11eb_94c0_7085c233535crow5_col8 {\n",
       "            background-color:  #6ba5cd;\n",
       "            color:  #000000;\n",
       "        }    #T_93a04468_03fd_11eb_94c0_7085c233535crow6_col0 {\n",
       "            background-color:  #bfc9e1;\n",
       "            color:  #000000;\n",
       "        }    #T_93a04468_03fd_11eb_94c0_7085c233535crow6_col1 {\n",
       "            background-color:  #fff7fb;\n",
       "            color:  #000000;\n",
       "        }    #T_93a04468_03fd_11eb_94c0_7085c233535crow6_col2 {\n",
       "            background-color:  #99b8d8;\n",
       "            color:  #000000;\n",
       "        }    #T_93a04468_03fd_11eb_94c0_7085c233535crow6_col3 {\n",
       "            background-color:  #d3d4e7;\n",
       "            color:  #000000;\n",
       "        }    #T_93a04468_03fd_11eb_94c0_7085c233535crow6_col4 {\n",
       "            background-color:  #fff7fb;\n",
       "            color:  #000000;\n",
       "        }    #T_93a04468_03fd_11eb_94c0_7085c233535crow6_col5 {\n",
       "            background-color:  #b8c6e0;\n",
       "            color:  #000000;\n",
       "        }    #T_93a04468_03fd_11eb_94c0_7085c233535crow6_col6 {\n",
       "            background-color:  #8eb3d5;\n",
       "            color:  #000000;\n",
       "        }    #T_93a04468_03fd_11eb_94c0_7085c233535crow6_col7 {\n",
       "            background-color:  #03466e;\n",
       "            color:  #f1f1f1;\n",
       "        }    #T_93a04468_03fd_11eb_94c0_7085c233535crow6_col8 {\n",
       "            background-color:  #0a73b2;\n",
       "            color:  #f1f1f1;\n",
       "        }</style><table id=\"T_93a04468_03fd_11eb_94c0_7085c233535c\" ><thead>    <tr>        <th class=\"blank level0\" ></th>        <th class=\"col_heading level0 col0\" >PTS</th>        <th class=\"col_heading level0 col1\" >TRB</th>        <th class=\"col_heading level0 col2\" >AST</th>        <th class=\"col_heading level0 col3\" >STL</th>        <th class=\"col_heading level0 col4\" >BLK</th>        <th class=\"col_heading level0 col5\" >TOV</th>        <th class=\"col_heading level0 col6\" >MP</th>        <th class=\"col_heading level0 col7\" >FT%</th>        <th class=\"col_heading level0 col8\" >3P</th>    </tr></thead><tbody>\n",
       "                <tr>\n",
       "                        <th id=\"T_93a04468_03fd_11eb_94c0_7085c233535clevel0_row0\" class=\"row_heading level0 row0\" >0</th>\n",
       "                        <td id=\"T_93a04468_03fd_11eb_94c0_7085c233535crow0_col0\" class=\"data row0 col0\" >7.353222</td>\n",
       "                        <td id=\"T_93a04468_03fd_11eb_94c0_7085c233535crow0_col1\" class=\"data row0 col1\" >4.082407</td>\n",
       "                        <td id=\"T_93a04468_03fd_11eb_94c0_7085c233535crow0_col2\" class=\"data row0 col2\" >1.223798</td>\n",
       "                        <td id=\"T_93a04468_03fd_11eb_94c0_7085c233535crow0_col3\" class=\"data row0 col3\" >0.720552</td>\n",
       "                        <td id=\"T_93a04468_03fd_11eb_94c0_7085c233535crow0_col4\" class=\"data row0 col4\" >0.453837</td>\n",
       "                        <td id=\"T_93a04468_03fd_11eb_94c0_7085c233535crow0_col5\" class=\"data row0 col5\" >0.882791</td>\n",
       "                        <td id=\"T_93a04468_03fd_11eb_94c0_7085c233535crow0_col6\" class=\"data row0 col6\" >21.820562</td>\n",
       "                        <td id=\"T_93a04468_03fd_11eb_94c0_7085c233535crow0_col7\" class=\"data row0 col7\" >0.712158</td>\n",
       "                        <td id=\"T_93a04468_03fd_11eb_94c0_7085c233535crow0_col8\" class=\"data row0 col8\" >0.748324</td>\n",
       "            </tr>\n",
       "            <tr>\n",
       "                        <th id=\"T_93a04468_03fd_11eb_94c0_7085c233535clevel0_row1\" class=\"row_heading level0 row1\" >1</th>\n",
       "                        <td id=\"T_93a04468_03fd_11eb_94c0_7085c233535crow1_col0\" class=\"data row1 col0\" >13.622095</td>\n",
       "                        <td id=\"T_93a04468_03fd_11eb_94c0_7085c233535crow1_col1\" class=\"data row1 col1\" >5.528638</td>\n",
       "                        <td id=\"T_93a04468_03fd_11eb_94c0_7085c233535crow1_col2\" class=\"data row1 col2\" >1.922538</td>\n",
       "                        <td id=\"T_93a04468_03fd_11eb_94c0_7085c233535crow1_col3\" class=\"data row1 col3\" >0.895615</td>\n",
       "                        <td id=\"T_93a04468_03fd_11eb_94c0_7085c233535crow1_col4\" class=\"data row1 col4\" >0.476239</td>\n",
       "                        <td id=\"T_93a04468_03fd_11eb_94c0_7085c233535crow1_col5\" class=\"data row1 col5\" >1.397004</td>\n",
       "                        <td id=\"T_93a04468_03fd_11eb_94c0_7085c233535crow1_col6\" class=\"data row1 col6\" >29.913085</td>\n",
       "                        <td id=\"T_93a04468_03fd_11eb_94c0_7085c233535crow1_col7\" class=\"data row1 col7\" >0.800515</td>\n",
       "                        <td id=\"T_93a04468_03fd_11eb_94c0_7085c233535crow1_col8\" class=\"data row1 col8\" >1.588170</td>\n",
       "            </tr>\n",
       "            <tr>\n",
       "                        <th id=\"T_93a04468_03fd_11eb_94c0_7085c233535clevel0_row2\" class=\"row_heading level0 row2\" >2</th>\n",
       "                        <td id=\"T_93a04468_03fd_11eb_94c0_7085c233535crow2_col0\" class=\"data row2 col0\" >12.034762</td>\n",
       "                        <td id=\"T_93a04468_03fd_11eb_94c0_7085c233535crow2_col1\" class=\"data row2 col1\" >4.551974</td>\n",
       "                        <td id=\"T_93a04468_03fd_11eb_94c0_7085c233535crow2_col2\" class=\"data row2 col2\" >4.896158</td>\n",
       "                        <td id=\"T_93a04468_03fd_11eb_94c0_7085c233535crow2_col3\" class=\"data row2 col3\" >1.245015</td>\n",
       "                        <td id=\"T_93a04468_03fd_11eb_94c0_7085c233535crow2_col4\" class=\"data row2 col4\" >0.448274</td>\n",
       "                        <td id=\"T_93a04468_03fd_11eb_94c0_7085c233535crow2_col5\" class=\"data row2 col5\" >2.184469</td>\n",
       "                        <td id=\"T_93a04468_03fd_11eb_94c0_7085c233535crow2_col6\" class=\"data row2 col6\" >29.355140</td>\n",
       "                        <td id=\"T_93a04468_03fd_11eb_94c0_7085c233535crow2_col7\" class=\"data row2 col7\" >0.743463</td>\n",
       "                        <td id=\"T_93a04468_03fd_11eb_94c0_7085c233535crow2_col8\" class=\"data row2 col8\" >1.333081</td>\n",
       "            </tr>\n",
       "            <tr>\n",
       "                        <th id=\"T_93a04468_03fd_11eb_94c0_7085c233535clevel0_row3\" class=\"row_heading level0 row3\" >3</th>\n",
       "                        <td id=\"T_93a04468_03fd_11eb_94c0_7085c233535crow3_col0\" class=\"data row3 col0\" >21.994594</td>\n",
       "                        <td id=\"T_93a04468_03fd_11eb_94c0_7085c233535crow3_col1\" class=\"data row3 col1\" >5.214224</td>\n",
       "                        <td id=\"T_93a04468_03fd_11eb_94c0_7085c233535crow3_col2\" class=\"data row3 col2\" >5.855807</td>\n",
       "                        <td id=\"T_93a04468_03fd_11eb_94c0_7085c233535crow3_col3\" class=\"data row3 col3\" >1.374110</td>\n",
       "                        <td id=\"T_93a04468_03fd_11eb_94c0_7085c233535crow3_col4\" class=\"data row3 col4\" >0.436163</td>\n",
       "                        <td id=\"T_93a04468_03fd_11eb_94c0_7085c233535crow3_col5\" class=\"data row3 col5\" >2.830199</td>\n",
       "                        <td id=\"T_93a04468_03fd_11eb_94c0_7085c233535crow3_col6\" class=\"data row3 col6\" >34.252993</td>\n",
       "                        <td id=\"T_93a04468_03fd_11eb_94c0_7085c233535crow3_col7\" class=\"data row3 col7\" >0.815770</td>\n",
       "                        <td id=\"T_93a04468_03fd_11eb_94c0_7085c233535crow3_col8\" class=\"data row3 col8\" >1.996330</td>\n",
       "            </tr>\n",
       "            <tr>\n",
       "                        <th id=\"T_93a04468_03fd_11eb_94c0_7085c233535clevel0_row4\" class=\"row_heading level0 row4\" >4</th>\n",
       "                        <td id=\"T_93a04468_03fd_11eb_94c0_7085c233535crow4_col0\" class=\"data row4 col0\" >9.988144</td>\n",
       "                        <td id=\"T_93a04468_03fd_11eb_94c0_7085c233535crow4_col1\" class=\"data row4 col1\" >8.043646</td>\n",
       "                        <td id=\"T_93a04468_03fd_11eb_94c0_7085c233535crow4_col2\" class=\"data row4 col2\" >1.366459</td>\n",
       "                        <td id=\"T_93a04468_03fd_11eb_94c0_7085c233535crow4_col3\" class=\"data row4 col3\" >0.658250</td>\n",
       "                        <td id=\"T_93a04468_03fd_11eb_94c0_7085c233535crow4_col4\" class=\"data row4 col4\" >1.085476</td>\n",
       "                        <td id=\"T_93a04468_03fd_11eb_94c0_7085c233535crow4_col5\" class=\"data row4 col5\" >1.382581</td>\n",
       "                        <td id=\"T_93a04468_03fd_11eb_94c0_7085c233535crow4_col6\" class=\"data row4 col6\" >24.817138</td>\n",
       "                        <td id=\"T_93a04468_03fd_11eb_94c0_7085c233535crow4_col7\" class=\"data row4 col7\" >0.638437</td>\n",
       "                        <td id=\"T_93a04468_03fd_11eb_94c0_7085c233535crow4_col8\" class=\"data row4 col8\" >0.000000</td>\n",
       "            </tr>\n",
       "            <tr>\n",
       "                        <th id=\"T_93a04468_03fd_11eb_94c0_7085c233535clevel0_row5\" class=\"row_heading level0 row5\" >5</th>\n",
       "                        <td id=\"T_93a04468_03fd_11eb_94c0_7085c233535crow5_col0\" class=\"data row5 col0\" >17.841918</td>\n",
       "                        <td id=\"T_93a04468_03fd_11eb_94c0_7085c233535crow5_col1\" class=\"data row5 col1\" >8.384793</td>\n",
       "                        <td id=\"T_93a04468_03fd_11eb_94c0_7085c233535crow5_col2\" class=\"data row5 col2\" >2.949724</td>\n",
       "                        <td id=\"T_93a04468_03fd_11eb_94c0_7085c233535crow5_col3\" class=\"data row5 col3\" >0.881223</td>\n",
       "                        <td id=\"T_93a04468_03fd_11eb_94c0_7085c233535crow5_col4\" class=\"data row5 col4\" >1.435481</td>\n",
       "                        <td id=\"T_93a04468_03fd_11eb_94c0_7085c233535crow5_col5\" class=\"data row5 col5\" >2.106013</td>\n",
       "                        <td id=\"T_93a04468_03fd_11eb_94c0_7085c233535crow5_col6\" class=\"data row5 col6\" >30.891099</td>\n",
       "                        <td id=\"T_93a04468_03fd_11eb_94c0_7085c233535crow5_col7\" class=\"data row5 col7\" >0.780532</td>\n",
       "                        <td id=\"T_93a04468_03fd_11eb_94c0_7085c233535crow5_col8\" class=\"data row5 col8\" >1.032807</td>\n",
       "            </tr>\n",
       "            <tr>\n",
       "                        <th id=\"T_93a04468_03fd_11eb_94c0_7085c233535clevel0_row6\" class=\"row_heading level0 row6\" >6</th>\n",
       "                        <td id=\"T_93a04468_03fd_11eb_94c0_7085c233535crow6_col0\" class=\"data row6 col0\" >11.800594</td>\n",
       "                        <td id=\"T_93a04468_03fd_11eb_94c0_7085c233535crow6_col1\" class=\"data row6 col1\" >2.835238</td>\n",
       "                        <td id=\"T_93a04468_03fd_11eb_94c0_7085c233535crow6_col2\" class=\"data row6 col2\" >3.118724</td>\n",
       "                        <td id=\"T_93a04468_03fd_11eb_94c0_7085c233535crow6_col3\" class=\"data row6 col3\" >0.826029</td>\n",
       "                        <td id=\"T_93a04468_03fd_11eb_94c0_7085c233535crow6_col4\" class=\"data row6 col4\" >0.206435</td>\n",
       "                        <td id=\"T_93a04468_03fd_11eb_94c0_7085c233535crow6_col5\" class=\"data row6 col5\" >1.509132</td>\n",
       "                        <td id=\"T_93a04468_03fd_11eb_94c0_7085c233535crow6_col6\" class=\"data row6 col6\" >27.225362</td>\n",
       "                        <td id=\"T_93a04468_03fd_11eb_94c0_7085c233535crow6_col7\" class=\"data row6 col7\" >0.806759</td>\n",
       "                        <td id=\"T_93a04468_03fd_11eb_94c0_7085c233535crow6_col8\" class=\"data row6 col8\" >1.472513</td>\n",
       "            </tr>\n",
       "    </tbody></table>"
      ],
      "text/plain": [
       "<pandas.io.formats.style.Styler at 0x1c849ebe948>"
      ]
     },
     "execution_count": 27,
     "metadata": {},
     "output_type": "execute_result"
    },
    {
     "data": {
      "application/javascript": [
       "\n",
       "            setTimeout(function() {\n",
       "                var nbb_cell_id = 27;\n",
       "                var nbb_unformatted_code = \"gauss7_avg.style.background_gradient()\";\n",
       "                var nbb_formatted_code = \"gauss7_avg.style.background_gradient()\";\n",
       "                var nbb_cells = Jupyter.notebook.get_cells();\n",
       "                for (var i = 0; i < nbb_cells.length; ++i) {\n",
       "                    if (nbb_cells[i].input_prompt_number == nbb_cell_id) {\n",
       "                        if (nbb_cells[i].get_text() == nbb_unformatted_code) {\n",
       "                             nbb_cells[i].set_text(nbb_formatted_code);\n",
       "                        }\n",
       "                        break;\n",
       "                    }\n",
       "                }\n",
       "            }, 500);\n",
       "            "
      ],
      "text/plain": [
       "<IPython.core.display.Javascript object>"
      ]
     },
     "metadata": {},
     "output_type": "display_data"
    }
   ],
   "source": [
    "gauss7_avg.style.background_gradient()"
   ]
  },
  {
   "cell_type": "markdown",
   "metadata": {
    "colab_type": "text",
    "id": "y0wBOUWJ1D_6"
   },
   "source": [
    "Predict the likelihood of each player belonging to one of the 3 clusters using the GMM model. Then, calculate the entropy for each set of predicted probabilities. \n",
    "\n",
    "We will use entropy as a measure of how confident we are in the predicted class label. If we had no confidence in our prediction, we would assign 33% probability to each class, while if we were totally confident, we would assign 100% to one class. Entropy would be at a maximum in the \"no confidence\" scenario and a minimum in the \"full confidence\" scenario, which makes it a reasonable way to quantify our uncertainty in our prediction. There are certainly other methods as well; feel free to experiment with them if desired.\n",
    "\n",
    "Which five predicted labels are we least confident about? Which five are we most confident about? Print out the associated details (season, player name, stats, etc.) from those players."
   ]
  },
  {
   "cell_type": "code",
   "execution_count": 42,
   "metadata": {
    "colab": {},
    "colab_type": "code",
    "id": "AdKYEBx61D_6"
   },
   "outputs": [
    {
     "data": {
      "application/javascript": [
       "\n",
       "            setTimeout(function() {\n",
       "                var nbb_cell_id = 42;\n",
       "                var nbb_unformatted_code = \"# answer goes here\\ngauss3_prob_df = pd.DataFrame(gauss3.predict_proba(scaled))\\n\\n# prob = np.array([1,1,1])\\n# entropy([1,1,1])\\n# sum(prob * np.log2(prob))\\n\\n\\nentropy(gauss3_prob_df.T)\\ngauss3_prob_df['entropy'] = gauss3_prob_df.apply(entropy, axis=1)\";\n",
       "                var nbb_formatted_code = \"# answer goes here\\ngauss3_prob_df = pd.DataFrame(gauss3.predict_proba(scaled))\\n\\n# prob = np.array([1,1,1])\\n# entropy([1,1,1])\\n# sum(prob * np.log2(prob))\\n\\n\\nentropy(gauss3_prob_df.T)\\ngauss3_prob_df[\\\"entropy\\\"] = gauss3_prob_df.apply(entropy, axis=1)\";\n",
       "                var nbb_cells = Jupyter.notebook.get_cells();\n",
       "                for (var i = 0; i < nbb_cells.length; ++i) {\n",
       "                    if (nbb_cells[i].input_prompt_number == nbb_cell_id) {\n",
       "                        if (nbb_cells[i].get_text() == nbb_unformatted_code) {\n",
       "                             nbb_cells[i].set_text(nbb_formatted_code);\n",
       "                        }\n",
       "                        break;\n",
       "                    }\n",
       "                }\n",
       "            }, 500);\n",
       "            "
      ],
      "text/plain": [
       "<IPython.core.display.Javascript object>"
      ]
     },
     "metadata": {},
     "output_type": "display_data"
    },
    {
     "data": {
      "application/javascript": [
       "\n",
       "            setTimeout(function() {\n",
       "                var nbb_cell_id = 42;\n",
       "                var nbb_unformatted_code = \"# answer goes here\\ngauss3_prob_df = pd.DataFrame(gauss3.predict_proba(scaled))\\n\\n# prob = np.array([1,1,1])\\n# entropy([1,1,1])\\n# sum(prob * np.log2(prob))\\n\\n\\nentropy(gauss3_prob_df.T)\\ngauss3_prob_df['entropy'] = gauss3_prob_df.apply(entropy, axis=1)\";\n",
       "                var nbb_formatted_code = \"# answer goes here\\ngauss3_prob_df = pd.DataFrame(gauss3.predict_proba(scaled))\\n\\n# prob = np.array([1,1,1])\\n# entropy([1,1,1])\\n# sum(prob * np.log2(prob))\\n\\n\\nentropy(gauss3_prob_df.T)\\ngauss3_prob_df[\\\"entropy\\\"] = gauss3_prob_df.apply(entropy, axis=1)\";\n",
       "                var nbb_cells = Jupyter.notebook.get_cells();\n",
       "                for (var i = 0; i < nbb_cells.length; ++i) {\n",
       "                    if (nbb_cells[i].input_prompt_number == nbb_cell_id) {\n",
       "                        if (nbb_cells[i].get_text() == nbb_unformatted_code) {\n",
       "                             nbb_cells[i].set_text(nbb_formatted_code);\n",
       "                        }\n",
       "                        break;\n",
       "                    }\n",
       "                }\n",
       "            }, 500);\n",
       "            "
      ],
      "text/plain": [
       "<IPython.core.display.Javascript object>"
      ]
     },
     "metadata": {},
     "output_type": "display_data"
    }
   ],
   "source": [
    "# answer goes here\n",
    "gauss3_prob_df = pd.DataFrame(gauss3.predict_proba(scaled))\n",
    "\n",
    "# prob = np.array([1,1,1])\n",
    "# entropy([1,1,1])\n",
    "# sum(prob * np.log2(prob))\n",
    "\n",
    "\n",
    "entropy(gauss3_prob_df.T)\n",
    "gauss3_prob_df['entropy'] = gauss3_prob_df.apply(entropy, axis=1)\n"
   ]
  },
  {
   "cell_type": "code",
   "execution_count": 47,
   "metadata": {},
   "outputs": [
    {
     "data": {
      "application/javascript": [
       "\n",
       "            setTimeout(function() {\n",
       "                var nbb_cell_id = 47;\n",
       "                var nbb_unformatted_code = \"top_5_df = gauss3_prob_df.sort_values(by=\\\"entropy\\\").head(5)\\nbottom_5_df = gauss3_prob_df.sort_values(by=\\\"entropy\\\").tail(5)\";\n",
       "                var nbb_formatted_code = \"top_5_df = gauss3_prob_df.sort_values(by=\\\"entropy\\\").head(5)\\nbottom_5_df = gauss3_prob_df.sort_values(by=\\\"entropy\\\").tail(5)\";\n",
       "                var nbb_cells = Jupyter.notebook.get_cells();\n",
       "                for (var i = 0; i < nbb_cells.length; ++i) {\n",
       "                    if (nbb_cells[i].input_prompt_number == nbb_cell_id) {\n",
       "                        if (nbb_cells[i].get_text() == nbb_unformatted_code) {\n",
       "                             nbb_cells[i].set_text(nbb_formatted_code);\n",
       "                        }\n",
       "                        break;\n",
       "                    }\n",
       "                }\n",
       "            }, 500);\n",
       "            "
      ],
      "text/plain": [
       "<IPython.core.display.Javascript object>"
      ]
     },
     "metadata": {},
     "output_type": "display_data"
    },
    {
     "data": {
      "application/javascript": [
       "\n",
       "            setTimeout(function() {\n",
       "                var nbb_cell_id = 47;\n",
       "                var nbb_unformatted_code = \"top_5_df = gauss3_prob_df.sort_values(by=\\\"entropy\\\").head(5)\\nbottom_5_df = gauss3_prob_df.sort_values(by=\\\"entropy\\\").tail(5)\";\n",
       "                var nbb_formatted_code = \"top_5_df = gauss3_prob_df.sort_values(by=\\\"entropy\\\").head(5)\\nbottom_5_df = gauss3_prob_df.sort_values(by=\\\"entropy\\\").tail(5)\";\n",
       "                var nbb_cells = Jupyter.notebook.get_cells();\n",
       "                for (var i = 0; i < nbb_cells.length; ++i) {\n",
       "                    if (nbb_cells[i].input_prompt_number == nbb_cell_id) {\n",
       "                        if (nbb_cells[i].get_text() == nbb_unformatted_code) {\n",
       "                             nbb_cells[i].set_text(nbb_formatted_code);\n",
       "                        }\n",
       "                        break;\n",
       "                    }\n",
       "                }\n",
       "            }, 500);\n",
       "            "
      ],
      "text/plain": [
       "<IPython.core.display.Javascript object>"
      ]
     },
     "metadata": {},
     "output_type": "display_data"
    }
   ],
   "source": [
    "top_5_df = gauss3_prob_df.sort_values(by=\"entropy\").head(5)\n",
    "bottom_5_df = gauss3_prob_df.sort_values(by=\"entropy\").tail(5)"
   ]
  },
  {
   "cell_type": "code",
   "execution_count": 50,
   "metadata": {},
   "outputs": [
    {
     "data": {
      "text/html": [
       "<div>\n",
       "<style scoped>\n",
       "    .dataframe tbody tr th:only-of-type {\n",
       "        vertical-align: middle;\n",
       "    }\n",
       "\n",
       "    .dataframe tbody tr th {\n",
       "        vertical-align: top;\n",
       "    }\n",
       "\n",
       "    .dataframe thead th {\n",
       "        text-align: right;\n",
       "    }\n",
       "</style>\n",
       "<table border=\"1\" class=\"dataframe\">\n",
       "  <thead>\n",
       "    <tr style=\"text-align: right;\">\n",
       "      <th></th>\n",
       "      <th>PTS</th>\n",
       "      <th>TRB</th>\n",
       "      <th>AST</th>\n",
       "      <th>STL</th>\n",
       "      <th>BLK</th>\n",
       "      <th>TOV</th>\n",
       "      <th>MP</th>\n",
       "      <th>FT%</th>\n",
       "      <th>3P</th>\n",
       "    </tr>\n",
       "  </thead>\n",
       "  <tbody>\n",
       "    <tr>\n",
       "      <th>2117</th>\n",
       "      <td>14.2</td>\n",
       "      <td>11.8</td>\n",
       "      <td>0.4</td>\n",
       "      <td>0.6</td>\n",
       "      <td>3.7</td>\n",
       "      <td>1.9</td>\n",
       "      <td>29.1</td>\n",
       "      <td>0.650</td>\n",
       "      <td>0.0</td>\n",
       "    </tr>\n",
       "    <tr>\n",
       "      <th>1218</th>\n",
       "      <td>20.2</td>\n",
       "      <td>7.8</td>\n",
       "      <td>2.1</td>\n",
       "      <td>0.9</td>\n",
       "      <td>2.5</td>\n",
       "      <td>3.8</td>\n",
       "      <td>25.4</td>\n",
       "      <td>0.783</td>\n",
       "      <td>1.2</td>\n",
       "    </tr>\n",
       "    <tr>\n",
       "      <th>484</th>\n",
       "      <td>13.3</td>\n",
       "      <td>7.2</td>\n",
       "      <td>1.6</td>\n",
       "      <td>0.8</td>\n",
       "      <td>2.7</td>\n",
       "      <td>1.4</td>\n",
       "      <td>28.6</td>\n",
       "      <td>0.736</td>\n",
       "      <td>1.0</td>\n",
       "    </tr>\n",
       "    <tr>\n",
       "      <th>651</th>\n",
       "      <td>28.1</td>\n",
       "      <td>11.1</td>\n",
       "      <td>2.3</td>\n",
       "      <td>1.5</td>\n",
       "      <td>2.6</td>\n",
       "      <td>2.2</td>\n",
       "      <td>36.4</td>\n",
       "      <td>0.828</td>\n",
       "      <td>0.7</td>\n",
       "    </tr>\n",
       "    <tr>\n",
       "      <th>940</th>\n",
       "      <td>22.7</td>\n",
       "      <td>6.6</td>\n",
       "      <td>1.2</td>\n",
       "      <td>0.8</td>\n",
       "      <td>2.4</td>\n",
       "      <td>1.9</td>\n",
       "      <td>32.4</td>\n",
       "      <td>0.793</td>\n",
       "      <td>1.9</td>\n",
       "    </tr>\n",
       "  </tbody>\n",
       "</table>\n",
       "</div>"
      ],
      "text/plain": [
       "       PTS   TRB  AST  STL  BLK  TOV    MP    FT%   3P\n",
       "2117  14.2  11.8  0.4  0.6  3.7  1.9  29.1  0.650  0.0\n",
       "1218  20.2   7.8  2.1  0.9  2.5  3.8  25.4  0.783  1.2\n",
       "484   13.3   7.2  1.6  0.8  2.7  1.4  28.6  0.736  1.0\n",
       "651   28.1  11.1  2.3  1.5  2.6  2.2  36.4  0.828  0.7\n",
       "940   22.7   6.6  1.2  0.8  2.4  1.9  32.4  0.793  1.9"
      ]
     },
     "execution_count": 50,
     "metadata": {},
     "output_type": "execute_result"
    },
    {
     "data": {
      "application/javascript": [
       "\n",
       "            setTimeout(function() {\n",
       "                var nbb_cell_id = 50;\n",
       "                var nbb_unformatted_code = \"nba_interest.iloc[top_5_df.index]\";\n",
       "                var nbb_formatted_code = \"nba_interest.iloc[top_5_df.index]\";\n",
       "                var nbb_cells = Jupyter.notebook.get_cells();\n",
       "                for (var i = 0; i < nbb_cells.length; ++i) {\n",
       "                    if (nbb_cells[i].input_prompt_number == nbb_cell_id) {\n",
       "                        if (nbb_cells[i].get_text() == nbb_unformatted_code) {\n",
       "                             nbb_cells[i].set_text(nbb_formatted_code);\n",
       "                        }\n",
       "                        break;\n",
       "                    }\n",
       "                }\n",
       "            }, 500);\n",
       "            "
      ],
      "text/plain": [
       "<IPython.core.display.Javascript object>"
      ]
     },
     "metadata": {},
     "output_type": "display_data"
    },
    {
     "data": {
      "application/javascript": [
       "\n",
       "            setTimeout(function() {\n",
       "                var nbb_cell_id = 50;\n",
       "                var nbb_unformatted_code = \"nba_interest.iloc[top_5_df.index]\";\n",
       "                var nbb_formatted_code = \"nba_interest.iloc[top_5_df.index]\";\n",
       "                var nbb_cells = Jupyter.notebook.get_cells();\n",
       "                for (var i = 0; i < nbb_cells.length; ++i) {\n",
       "                    if (nbb_cells[i].input_prompt_number == nbb_cell_id) {\n",
       "                        if (nbb_cells[i].get_text() == nbb_unformatted_code) {\n",
       "                             nbb_cells[i].set_text(nbb_formatted_code);\n",
       "                        }\n",
       "                        break;\n",
       "                    }\n",
       "                }\n",
       "            }, 500);\n",
       "            "
      ],
      "text/plain": [
       "<IPython.core.display.Javascript object>"
      ]
     },
     "metadata": {},
     "output_type": "display_data"
    }
   ],
   "source": [
    "nba_interest.iloc[top_5_df.index]"
   ]
  },
  {
   "cell_type": "code",
   "execution_count": 51,
   "metadata": {},
   "outputs": [
    {
     "data": {
      "text/html": [
       "<div>\n",
       "<style scoped>\n",
       "    .dataframe tbody tr th:only-of-type {\n",
       "        vertical-align: middle;\n",
       "    }\n",
       "\n",
       "    .dataframe tbody tr th {\n",
       "        vertical-align: top;\n",
       "    }\n",
       "\n",
       "    .dataframe thead th {\n",
       "        text-align: right;\n",
       "    }\n",
       "</style>\n",
       "<table border=\"1\" class=\"dataframe\">\n",
       "  <thead>\n",
       "    <tr style=\"text-align: right;\">\n",
       "      <th></th>\n",
       "      <th>PTS</th>\n",
       "      <th>TRB</th>\n",
       "      <th>AST</th>\n",
       "      <th>STL</th>\n",
       "      <th>BLK</th>\n",
       "      <th>TOV</th>\n",
       "      <th>MP</th>\n",
       "      <th>FT%</th>\n",
       "      <th>3P</th>\n",
       "    </tr>\n",
       "  </thead>\n",
       "  <tbody>\n",
       "    <tr>\n",
       "      <th>0</th>\n",
       "      <td>9.254802</td>\n",
       "      <td>3.893220</td>\n",
       "      <td>1.859887</td>\n",
       "      <td>0.729096</td>\n",
       "      <td>0.391525</td>\n",
       "      <td>1.127119</td>\n",
       "      <td>24.343503</td>\n",
       "      <td>0.760740</td>\n",
       "      <td>1.088701</td>\n",
       "    </tr>\n",
       "    <tr>\n",
       "      <th>1</th>\n",
       "      <td>13.220958</td>\n",
       "      <td>8.589820</td>\n",
       "      <td>1.867066</td>\n",
       "      <td>0.793413</td>\n",
       "      <td>1.247904</td>\n",
       "      <td>1.658683</td>\n",
       "      <td>28.398204</td>\n",
       "      <td>0.684940</td>\n",
       "      <td>0.374251</td>\n",
       "    </tr>\n",
       "    <tr>\n",
       "      <th>2</th>\n",
       "      <td>18.216961</td>\n",
       "      <td>5.110247</td>\n",
       "      <td>4.787633</td>\n",
       "      <td>1.236042</td>\n",
       "      <td>0.455477</td>\n",
       "      <td>2.385866</td>\n",
       "      <td>32.737102</td>\n",
       "      <td>0.805435</td>\n",
       "      <td>1.820495</td>\n",
       "    </tr>\n",
       "  </tbody>\n",
       "</table>\n",
       "</div>"
      ],
      "text/plain": [
       "         PTS       TRB       AST       STL       BLK       TOV         MP  \\\n",
       "0   9.254802  3.893220  1.859887  0.729096  0.391525  1.127119  24.343503   \n",
       "1  13.220958  8.589820  1.867066  0.793413  1.247904  1.658683  28.398204   \n",
       "2  18.216961  5.110247  4.787633  1.236042  0.455477  2.385866  32.737102   \n",
       "\n",
       "        FT%        3P  \n",
       "0  0.760740  1.088701  \n",
       "1  0.684940  0.374251  \n",
       "2  0.805435  1.820495  "
      ]
     },
     "execution_count": 51,
     "metadata": {},
     "output_type": "execute_result"
    },
    {
     "data": {
      "application/javascript": [
       "\n",
       "            setTimeout(function() {\n",
       "                var nbb_cell_id = 51;\n",
       "                var nbb_unformatted_code = \"kmeans3_avg\";\n",
       "                var nbb_formatted_code = \"kmeans3_avg\";\n",
       "                var nbb_cells = Jupyter.notebook.get_cells();\n",
       "                for (var i = 0; i < nbb_cells.length; ++i) {\n",
       "                    if (nbb_cells[i].input_prompt_number == nbb_cell_id) {\n",
       "                        if (nbb_cells[i].get_text() == nbb_unformatted_code) {\n",
       "                             nbb_cells[i].set_text(nbb_formatted_code);\n",
       "                        }\n",
       "                        break;\n",
       "                    }\n",
       "                }\n",
       "            }, 500);\n",
       "            "
      ],
      "text/plain": [
       "<IPython.core.display.Javascript object>"
      ]
     },
     "metadata": {},
     "output_type": "display_data"
    },
    {
     "data": {
      "application/javascript": [
       "\n",
       "            setTimeout(function() {\n",
       "                var nbb_cell_id = 51;\n",
       "                var nbb_unformatted_code = \"kmeans3_avg\";\n",
       "                var nbb_formatted_code = \"kmeans3_avg\";\n",
       "                var nbb_cells = Jupyter.notebook.get_cells();\n",
       "                for (var i = 0; i < nbb_cells.length; ++i) {\n",
       "                    if (nbb_cells[i].input_prompt_number == nbb_cell_id) {\n",
       "                        if (nbb_cells[i].get_text() == nbb_unformatted_code) {\n",
       "                             nbb_cells[i].set_text(nbb_formatted_code);\n",
       "                        }\n",
       "                        break;\n",
       "                    }\n",
       "                }\n",
       "            }, 500);\n",
       "            "
      ],
      "text/plain": [
       "<IPython.core.display.Javascript object>"
      ]
     },
     "metadata": {},
     "output_type": "display_data"
    }
   ],
   "source": [
    "kmeans3_avg"
   ]
  },
  {
   "cell_type": "code",
   "execution_count": null,
   "metadata": {},
   "outputs": [],
   "source": []
  }
 ],
 "metadata": {
  "colab": {
   "collapsed_sections": [],
   "name": "Day 49 Lecture 1 Assignment.ipynb",
   "provenance": []
  },
  "kernelspec": {
   "display_name": "Python 3",
   "language": "python",
   "name": "python3"
  },
  "language_info": {
   "codemirror_mode": {
    "name": "ipython",
    "version": 3
   },
   "file_extension": ".py",
   "mimetype": "text/x-python",
   "name": "python",
   "nbconvert_exporter": "python",
   "pygments_lexer": "ipython3",
   "version": "3.7.6"
  }
 },
 "nbformat": 4,
 "nbformat_minor": 1
}
