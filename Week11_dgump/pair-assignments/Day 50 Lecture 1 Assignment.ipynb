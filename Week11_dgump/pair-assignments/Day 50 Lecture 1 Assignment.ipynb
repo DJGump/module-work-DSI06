{
 "cells": [
  {
   "cell_type": "code",
   "execution_count": 4,
   "metadata": {},
   "outputs": [
    {
     "data": {
      "application/javascript": [
       "\n",
       "            setTimeout(function() {\n",
       "                var nbb_cell_id = 4;\n",
       "                var nbb_unformatted_code = \"%reload_ext nb_black\";\n",
       "                var nbb_formatted_code = \"%reload_ext nb_black\";\n",
       "                var nbb_cells = Jupyter.notebook.get_cells();\n",
       "                for (var i = 0; i < nbb_cells.length; ++i) {\n",
       "                    if (nbb_cells[i].input_prompt_number == nbb_cell_id) {\n",
       "                        if (nbb_cells[i].get_text() == nbb_unformatted_code) {\n",
       "                             nbb_cells[i].set_text(nbb_formatted_code);\n",
       "                        }\n",
       "                        break;\n",
       "                    }\n",
       "                }\n",
       "            }, 500);\n",
       "            "
      ],
      "text/plain": [
       "<IPython.core.display.Javascript object>"
      ]
     },
     "metadata": {},
     "output_type": "display_data"
    }
   ],
   "source": [
    "%reload_ext nb_black"
   ]
  },
  {
   "cell_type": "markdown",
   "metadata": {
    "colab_type": "text",
    "id": "xdL0Yz0D1D_q"
   },
   "source": [
    "## Day 50 Lecture 1 Assignment\n",
    "\n",
    "In this assignment, we will calculate affinity propagation clustering using responses to a survey about student life at a university."
   ]
  },
  {
   "cell_type": "code",
   "execution_count": 5,
   "metadata": {
    "colab": {},
    "colab_type": "code",
    "id": "OulyiH_C1D_r"
   },
   "outputs": [
    {
     "data": {
      "application/javascript": [
       "\n",
       "            setTimeout(function() {\n",
       "                var nbb_cell_id = 5;\n",
       "                var nbb_unformatted_code = \"%matplotlib inline\\n\\nimport matplotlib.pyplot as plt\\nimport numpy as np\\nimport pandas as pd\\nfrom sklearn.cluster import AffinityPropagation\\nfrom scipy.spatial.distance import pdist, squareform\";\n",
       "                var nbb_formatted_code = \"%matplotlib inline\\n\\nimport matplotlib.pyplot as plt\\nimport numpy as np\\nimport pandas as pd\\nfrom sklearn.cluster import AffinityPropagation\\nfrom scipy.spatial.distance import pdist, squareform\";\n",
       "                var nbb_cells = Jupyter.notebook.get_cells();\n",
       "                for (var i = 0; i < nbb_cells.length; ++i) {\n",
       "                    if (nbb_cells[i].input_prompt_number == nbb_cell_id) {\n",
       "                        if (nbb_cells[i].get_text() == nbb_unformatted_code) {\n",
       "                             nbb_cells[i].set_text(nbb_formatted_code);\n",
       "                        }\n",
       "                        break;\n",
       "                    }\n",
       "                }\n",
       "            }, 500);\n",
       "            "
      ],
      "text/plain": [
       "<IPython.core.display.Javascript object>"
      ]
     },
     "metadata": {},
     "output_type": "display_data"
    }
   ],
   "source": [
    "%matplotlib inline\n",
    "\n",
    "import matplotlib.pyplot as plt\n",
    "import numpy as np\n",
    "import pandas as pd\n",
    "from sklearn.cluster import AffinityPropagation\n",
    "from scipy.spatial.distance import pdist, squareform"
   ]
  },
  {
   "cell_type": "markdown",
   "metadata": {
    "colab_type": "text",
    "id": "ezMvoRlB1D_t"
   },
   "source": [
    "We will load a student life survey dataset. This dataset consists of 35 binary features, each corresponding to a yes/no question that characterizes the student taking the survey.\n",
    "\n",
    "This dataset contains a large number of features, each corresponding to a survey question. The feature name summarizes the survey question, so we will not list them all out here."
   ]
  },
  {
   "cell_type": "code",
   "execution_count": 7,
   "metadata": {
    "colab": {},
    "colab_type": "code",
    "id": "wP1U4eQ91D_u"
   },
   "outputs": [
    {
     "name": "stdout",
     "output_type": "stream",
     "text": [
      "<class 'pandas.core.frame.DataFrame'>\n",
      "RangeIndex: 2958 entries, 0 to 2957\n",
      "Data columns (total 36 columns):\n",
      " #   Column                                                                                                                      Non-Null Count  Dtype\n",
      "---  ------                                                                                                                      --------------  -----\n",
      " 0   Q2-Participated in Societies and Interest Groups                                                                            2958 non-null   int64\n",
      " 1   Q2-Participated in Clubs                                                                                                    2958 non-null   int64\n",
      " 2   Q2-Participated in Halls, JCRCs and/or Residential College CSCs                                                             2958 non-null   int64\n",
      " 3   Q2-Participated in University organised events                                                                              2958 non-null   int64\n",
      " 4   Q3-Interested in Arts & Culture                                                                                             2958 non-null   int64\n",
      " 5   Q3-Interested in Science & Technology                                                                                       2958 non-null   int64\n",
      " 6   Q3-Interested in Research and independent study                                                                             2958 non-null   int64\n",
      " 7   Q3-Interested in Sports                                                                                                     2958 non-null   int64\n",
      " 8   Q3-Interested in Other competitions (eg case, debates)                                                                      2958 non-null   int64\n",
      " 9   Q3-Interested in Entrepreneurship                                                                                           2958 non-null   int64\n",
      " 10  Q3-Interested in Volunteering                                                                                               2958 non-null   int64\n",
      " 11  Q3-Interested in Others                                                                                                     2958 non-null   int64\n",
      " 12  Q4-Passionate about Animal welfare                                                                                          2958 non-null   int64\n",
      " 13  Q4-Passionate about Arts/Culture/Heritage                                                                                   2958 non-null   int64\n",
      " 14  Q4-Passionate about Children/Youth                                                                                          2958 non-null   int64\n",
      " 15  Q4-Passionate about Community building                                                                                      2958 non-null   int64\n",
      " 16  Q4-Passionate about Diversity & Inclusion (e.g. special needs, migrant worker, interfaith and intercultural understanding)  2958 non-null   int64\n",
      " 17  Q4-Passionate about Environmental sustainability                                                                            2958 non-null   int64\n",
      " 18  Q4-Passionate about Families                                                                                                2958 non-null   int64\n",
      " 19  Q4-Passionate about Health/Well-being (e.g mental health)                                                                   2958 non-null   int64\n",
      " 20  Q4-Passionate about Seniors                                                                                                 2958 non-null   int64\n",
      " 21  Q4-Passionate about Poverty reduction                                                                                       2958 non-null   int64\n",
      " 22  Q4-Passionate about Education                                                                                               2958 non-null   int64\n",
      " 23  Q4-Passionate about None of the above                                                                                       2958 non-null   int64\n",
      " 24  Q4-Passionate about Others                                                                                                  2958 non-null   int64\n",
      " 25  Q5-Stressed about Adjustment issues                                                                                         2958 non-null   int64\n",
      " 26  Q5-Stressed about Academic issues                                                                                           2958 non-null   int64\n",
      " 27  Q5-Stressed about Financial issues                                                                                          2958 non-null   int64\n",
      " 28  Q5-Stressed about Family issues                                                                                             2958 non-null   int64\n",
      " 29  Q5-Stressed about Friendships                                                                                               2958 non-null   int64\n",
      " 30  Q5-Stressed about Romantic relationships                                                                                    2958 non-null   int64\n",
      " 31  Q5-Stressed about  Health related issues                                                                                    2958 non-null   int64\n",
      " 32  Q5-Stressed about Career related issues                                                                                     2958 non-null   int64\n",
      " 33  Q5-Stressed about My involvement in hostel, clubs, societies, interest groups, etc.                                         2958 non-null   int64\n",
      " 34  Q5-Stressed about Others                                                                                                    2958 non-null   int64\n",
      " 35  response_id                                                                                                                 2958 non-null   int64\n",
      "dtypes: int64(36)\n",
      "memory usage: 832.1 KB\n"
     ]
    },
    {
     "data": {
      "application/javascript": [
       "\n",
       "            setTimeout(function() {\n",
       "                var nbb_cell_id = 7;\n",
       "                var nbb_unformatted_code = \"# answer goes here\\nstudent_df = pd.read_csv('data/student_life_survey.csv')\\nstudent_df.info()\";\n",
       "                var nbb_formatted_code = \"# answer goes here\\nstudent_df = pd.read_csv(\\\"data/student_life_survey.csv\\\")\\nstudent_df.info()\";\n",
       "                var nbb_cells = Jupyter.notebook.get_cells();\n",
       "                for (var i = 0; i < nbb_cells.length; ++i) {\n",
       "                    if (nbb_cells[i].input_prompt_number == nbb_cell_id) {\n",
       "                        if (nbb_cells[i].get_text() == nbb_unformatted_code) {\n",
       "                             nbb_cells[i].set_text(nbb_formatted_code);\n",
       "                        }\n",
       "                        break;\n",
       "                    }\n",
       "                }\n",
       "            }, 500);\n",
       "            "
      ],
      "text/plain": [
       "<IPython.core.display.Javascript object>"
      ]
     },
     "metadata": {},
     "output_type": "display_data"
    }
   ],
   "source": [
    "# answer goes here\n",
    "student_df = pd.read_csv('data/student_life_survey.csv')\n",
    "student_df.info()\n",
    "\n",
    "\n"
   ]
  },
  {
   "cell_type": "markdown",
   "metadata": {
    "colab_type": "text",
    "id": "o_K1eQ0x1D_y"
   },
   "source": [
    "For our analysis, we will focus on a specific subset of the survey that is focused on stress. These questions all begin with the string 'Q5'. Filter the columns that meet this criteria (should be 10 in total).\n",
    "\n",
    "In addition, we are only going to perform clustering on a random subset of this data, as affinity propagation is a fairly slow algorithm and requires infeasibly long times to converge for even medium-sized datasets. Select a random sample of 500 rows from the dataset."
   ]
  },
  {
   "cell_type": "code",
   "execution_count": 9,
   "metadata": {
    "colab": {},
    "colab_type": "code",
    "id": "cUkevgKiLj5s"
   },
   "outputs": [
    {
     "name": "stdout",
     "output_type": "stream",
     "text": [
      "<class 'pandas.core.frame.DataFrame'>\n",
      "Int64Index: 500 entries, 2526 to 1768\n",
      "Data columns (total 10 columns):\n",
      " #   Column                                                                               Non-Null Count  Dtype\n",
      "---  ------                                                                               --------------  -----\n",
      " 0   Q5-Stressed about Adjustment issues                                                  500 non-null    int64\n",
      " 1   Q5-Stressed about Academic issues                                                    500 non-null    int64\n",
      " 2   Q5-Stressed about Financial issues                                                   500 non-null    int64\n",
      " 3   Q5-Stressed about Family issues                                                      500 non-null    int64\n",
      " 4   Q5-Stressed about Friendships                                                        500 non-null    int64\n",
      " 5   Q5-Stressed about Romantic relationships                                             500 non-null    int64\n",
      " 6   Q5-Stressed about  Health related issues                                             500 non-null    int64\n",
      " 7   Q5-Stressed about Career related issues                                              500 non-null    int64\n",
      " 8   Q5-Stressed about My involvement in hostel, clubs, societies, interest groups, etc.  500 non-null    int64\n",
      " 9   Q5-Stressed about Others                                                             500 non-null    int64\n",
      "dtypes: int64(10)\n",
      "memory usage: 43.0 KB\n"
     ]
    },
    {
     "data": {
      "application/javascript": [
       "\n",
       "            setTimeout(function() {\n",
       "                var nbb_cell_id = 9;\n",
       "                var nbb_unformatted_code = \"# answer goes here\\nq5_df = student_df.filter(like=\\\"Q5\\\")\\nq5_df\\nq5_samp = q5_df.sample(500)\\nq5_samp.info()\";\n",
       "                var nbb_formatted_code = \"# answer goes here\\nq5_df = student_df.filter(like=\\\"Q5\\\")\\nq5_df\\nq5_samp = q5_df.sample(500)\\nq5_samp.info()\";\n",
       "                var nbb_cells = Jupyter.notebook.get_cells();\n",
       "                for (var i = 0; i < nbb_cells.length; ++i) {\n",
       "                    if (nbb_cells[i].input_prompt_number == nbb_cell_id) {\n",
       "                        if (nbb_cells[i].get_text() == nbb_unformatted_code) {\n",
       "                             nbb_cells[i].set_text(nbb_formatted_code);\n",
       "                        }\n",
       "                        break;\n",
       "                    }\n",
       "                }\n",
       "            }, 500);\n",
       "            "
      ],
      "text/plain": [
       "<IPython.core.display.Javascript object>"
      ]
     },
     "metadata": {},
     "output_type": "display_data"
    }
   ],
   "source": [
    "# answer goes here\n",
    "q5_df = student_df.filter(like=\"Q5\")\n",
    "q5_df\n",
    "q5_samp = q5_df.sample(500)\n",
    "q5_samp.info()\n",
    "\n"
   ]
  },
  {
   "cell_type": "markdown",
   "metadata": {
    "colab_type": "text",
    "id": "CTh6uVOYLj5v"
   },
   "source": [
    "The sklearn implementation of affinity propagation only supports euclidean and precomputed distances, so we will need to precompute a dissimilarity matrix. Furthermore, it expects negative values; the default affinity is negative euclidean distance. \n",
    "\n",
    "Compute the full dissimilarity matrix between all pairs of students using the negative matching/hamming distance and store it in a dataframe. \n",
    "\n",
    "Note: Be sure to convert the values to negative to match what the algorithm expects."
   ]
  },
  {
   "cell_type": "code",
   "execution_count": 14,
   "metadata": {
    "colab": {},
    "colab_type": "code",
    "id": "xfYVreyw1D_y"
   },
   "outputs": [
    {
     "data": {
      "text/html": [
       "<div>\n",
       "<style scoped>\n",
       "    .dataframe tbody tr th:only-of-type {\n",
       "        vertical-align: middle;\n",
       "    }\n",
       "\n",
       "    .dataframe tbody tr th {\n",
       "        vertical-align: top;\n",
       "    }\n",
       "\n",
       "    .dataframe thead th {\n",
       "        text-align: right;\n",
       "    }\n",
       "</style>\n",
       "<table border=\"1\" class=\"dataframe\">\n",
       "  <thead>\n",
       "    <tr style=\"text-align: right;\">\n",
       "      <th></th>\n",
       "      <th>0</th>\n",
       "      <th>1</th>\n",
       "      <th>2</th>\n",
       "      <th>3</th>\n",
       "      <th>4</th>\n",
       "      <th>5</th>\n",
       "      <th>6</th>\n",
       "      <th>7</th>\n",
       "      <th>8</th>\n",
       "      <th>9</th>\n",
       "      <th>...</th>\n",
       "      <th>490</th>\n",
       "      <th>491</th>\n",
       "      <th>492</th>\n",
       "      <th>493</th>\n",
       "      <th>494</th>\n",
       "      <th>495</th>\n",
       "      <th>496</th>\n",
       "      <th>497</th>\n",
       "      <th>498</th>\n",
       "      <th>499</th>\n",
       "    </tr>\n",
       "  </thead>\n",
       "  <tbody>\n",
       "    <tr>\n",
       "      <th>0</th>\n",
       "      <td>0.0</td>\n",
       "      <td>-0.2</td>\n",
       "      <td>-0.0</td>\n",
       "      <td>-0.2</td>\n",
       "      <td>-0.2</td>\n",
       "      <td>-0.5</td>\n",
       "      <td>-0.2</td>\n",
       "      <td>-0.1</td>\n",
       "      <td>-0.2</td>\n",
       "      <td>-0.2</td>\n",
       "      <td>...</td>\n",
       "      <td>-0.1</td>\n",
       "      <td>-0.4</td>\n",
       "      <td>-0.3</td>\n",
       "      <td>-0.1</td>\n",
       "      <td>-0.4</td>\n",
       "      <td>-0.4</td>\n",
       "      <td>-0.3</td>\n",
       "      <td>-0.1</td>\n",
       "      <td>-0.7</td>\n",
       "      <td>-0.5</td>\n",
       "    </tr>\n",
       "    <tr>\n",
       "      <th>1</th>\n",
       "      <td>-0.2</td>\n",
       "      <td>0.0</td>\n",
       "      <td>-0.2</td>\n",
       "      <td>-0.2</td>\n",
       "      <td>-0.2</td>\n",
       "      <td>-0.3</td>\n",
       "      <td>-0.2</td>\n",
       "      <td>-0.3</td>\n",
       "      <td>-0.2</td>\n",
       "      <td>-0.4</td>\n",
       "      <td>...</td>\n",
       "      <td>-0.3</td>\n",
       "      <td>-0.2</td>\n",
       "      <td>-0.5</td>\n",
       "      <td>-0.3</td>\n",
       "      <td>-0.4</td>\n",
       "      <td>-0.4</td>\n",
       "      <td>-0.3</td>\n",
       "      <td>-0.3</td>\n",
       "      <td>-0.5</td>\n",
       "      <td>-0.3</td>\n",
       "    </tr>\n",
       "    <tr>\n",
       "      <th>2</th>\n",
       "      <td>-0.0</td>\n",
       "      <td>-0.2</td>\n",
       "      <td>0.0</td>\n",
       "      <td>-0.2</td>\n",
       "      <td>-0.2</td>\n",
       "      <td>-0.5</td>\n",
       "      <td>-0.2</td>\n",
       "      <td>-0.1</td>\n",
       "      <td>-0.2</td>\n",
       "      <td>-0.2</td>\n",
       "      <td>...</td>\n",
       "      <td>-0.1</td>\n",
       "      <td>-0.4</td>\n",
       "      <td>-0.3</td>\n",
       "      <td>-0.1</td>\n",
       "      <td>-0.4</td>\n",
       "      <td>-0.4</td>\n",
       "      <td>-0.3</td>\n",
       "      <td>-0.1</td>\n",
       "      <td>-0.7</td>\n",
       "      <td>-0.5</td>\n",
       "    </tr>\n",
       "    <tr>\n",
       "      <th>3</th>\n",
       "      <td>-0.2</td>\n",
       "      <td>-0.2</td>\n",
       "      <td>-0.2</td>\n",
       "      <td>0.0</td>\n",
       "      <td>-0.4</td>\n",
       "      <td>-0.5</td>\n",
       "      <td>-0.0</td>\n",
       "      <td>-0.3</td>\n",
       "      <td>-0.2</td>\n",
       "      <td>-0.4</td>\n",
       "      <td>...</td>\n",
       "      <td>-0.3</td>\n",
       "      <td>-0.2</td>\n",
       "      <td>-0.5</td>\n",
       "      <td>-0.3</td>\n",
       "      <td>-0.4</td>\n",
       "      <td>-0.6</td>\n",
       "      <td>-0.3</td>\n",
       "      <td>-0.3</td>\n",
       "      <td>-0.5</td>\n",
       "      <td>-0.3</td>\n",
       "    </tr>\n",
       "    <tr>\n",
       "      <th>4</th>\n",
       "      <td>-0.2</td>\n",
       "      <td>-0.2</td>\n",
       "      <td>-0.2</td>\n",
       "      <td>-0.4</td>\n",
       "      <td>0.0</td>\n",
       "      <td>-0.5</td>\n",
       "      <td>-0.4</td>\n",
       "      <td>-0.1</td>\n",
       "      <td>-0.2</td>\n",
       "      <td>-0.2</td>\n",
       "      <td>...</td>\n",
       "      <td>-0.1</td>\n",
       "      <td>-0.2</td>\n",
       "      <td>-0.3</td>\n",
       "      <td>-0.3</td>\n",
       "      <td>-0.4</td>\n",
       "      <td>-0.2</td>\n",
       "      <td>-0.3</td>\n",
       "      <td>-0.1</td>\n",
       "      <td>-0.5</td>\n",
       "      <td>-0.5</td>\n",
       "    </tr>\n",
       "    <tr>\n",
       "      <th>...</th>\n",
       "      <td>...</td>\n",
       "      <td>...</td>\n",
       "      <td>...</td>\n",
       "      <td>...</td>\n",
       "      <td>...</td>\n",
       "      <td>...</td>\n",
       "      <td>...</td>\n",
       "      <td>...</td>\n",
       "      <td>...</td>\n",
       "      <td>...</td>\n",
       "      <td>...</td>\n",
       "      <td>...</td>\n",
       "      <td>...</td>\n",
       "      <td>...</td>\n",
       "      <td>...</td>\n",
       "      <td>...</td>\n",
       "      <td>...</td>\n",
       "      <td>...</td>\n",
       "      <td>...</td>\n",
       "      <td>...</td>\n",
       "      <td>...</td>\n",
       "    </tr>\n",
       "    <tr>\n",
       "      <th>495</th>\n",
       "      <td>-0.4</td>\n",
       "      <td>-0.4</td>\n",
       "      <td>-0.4</td>\n",
       "      <td>-0.6</td>\n",
       "      <td>-0.2</td>\n",
       "      <td>-0.7</td>\n",
       "      <td>-0.6</td>\n",
       "      <td>-0.3</td>\n",
       "      <td>-0.4</td>\n",
       "      <td>-0.4</td>\n",
       "      <td>...</td>\n",
       "      <td>-0.3</td>\n",
       "      <td>-0.4</td>\n",
       "      <td>-0.5</td>\n",
       "      <td>-0.3</td>\n",
       "      <td>-0.6</td>\n",
       "      <td>0.0</td>\n",
       "      <td>-0.5</td>\n",
       "      <td>-0.3</td>\n",
       "      <td>-0.5</td>\n",
       "      <td>-0.7</td>\n",
       "    </tr>\n",
       "    <tr>\n",
       "      <th>496</th>\n",
       "      <td>-0.3</td>\n",
       "      <td>-0.3</td>\n",
       "      <td>-0.3</td>\n",
       "      <td>-0.3</td>\n",
       "      <td>-0.3</td>\n",
       "      <td>-0.4</td>\n",
       "      <td>-0.3</td>\n",
       "      <td>-0.2</td>\n",
       "      <td>-0.1</td>\n",
       "      <td>-0.1</td>\n",
       "      <td>...</td>\n",
       "      <td>-0.2</td>\n",
       "      <td>-0.3</td>\n",
       "      <td>-0.2</td>\n",
       "      <td>-0.4</td>\n",
       "      <td>-0.1</td>\n",
       "      <td>-0.5</td>\n",
       "      <td>0.0</td>\n",
       "      <td>-0.2</td>\n",
       "      <td>-0.6</td>\n",
       "      <td>-0.4</td>\n",
       "    </tr>\n",
       "    <tr>\n",
       "      <th>497</th>\n",
       "      <td>-0.1</td>\n",
       "      <td>-0.3</td>\n",
       "      <td>-0.1</td>\n",
       "      <td>-0.3</td>\n",
       "      <td>-0.1</td>\n",
       "      <td>-0.6</td>\n",
       "      <td>-0.3</td>\n",
       "      <td>-0.0</td>\n",
       "      <td>-0.1</td>\n",
       "      <td>-0.1</td>\n",
       "      <td>...</td>\n",
       "      <td>-0.0</td>\n",
       "      <td>-0.3</td>\n",
       "      <td>-0.2</td>\n",
       "      <td>-0.2</td>\n",
       "      <td>-0.3</td>\n",
       "      <td>-0.3</td>\n",
       "      <td>-0.2</td>\n",
       "      <td>0.0</td>\n",
       "      <td>-0.6</td>\n",
       "      <td>-0.6</td>\n",
       "    </tr>\n",
       "    <tr>\n",
       "      <th>498</th>\n",
       "      <td>-0.7</td>\n",
       "      <td>-0.5</td>\n",
       "      <td>-0.7</td>\n",
       "      <td>-0.5</td>\n",
       "      <td>-0.5</td>\n",
       "      <td>-0.4</td>\n",
       "      <td>-0.5</td>\n",
       "      <td>-0.6</td>\n",
       "      <td>-0.5</td>\n",
       "      <td>-0.7</td>\n",
       "      <td>...</td>\n",
       "      <td>-0.6</td>\n",
       "      <td>-0.3</td>\n",
       "      <td>-0.6</td>\n",
       "      <td>-0.6</td>\n",
       "      <td>-0.5</td>\n",
       "      <td>-0.5</td>\n",
       "      <td>-0.6</td>\n",
       "      <td>-0.6</td>\n",
       "      <td>0.0</td>\n",
       "      <td>-0.4</td>\n",
       "    </tr>\n",
       "    <tr>\n",
       "      <th>499</th>\n",
       "      <td>-0.5</td>\n",
       "      <td>-0.3</td>\n",
       "      <td>-0.5</td>\n",
       "      <td>-0.3</td>\n",
       "      <td>-0.5</td>\n",
       "      <td>-0.2</td>\n",
       "      <td>-0.3</td>\n",
       "      <td>-0.6</td>\n",
       "      <td>-0.5</td>\n",
       "      <td>-0.5</td>\n",
       "      <td>...</td>\n",
       "      <td>-0.6</td>\n",
       "      <td>-0.3</td>\n",
       "      <td>-0.6</td>\n",
       "      <td>-0.6</td>\n",
       "      <td>-0.5</td>\n",
       "      <td>-0.7</td>\n",
       "      <td>-0.4</td>\n",
       "      <td>-0.6</td>\n",
       "      <td>-0.4</td>\n",
       "      <td>0.0</td>\n",
       "    </tr>\n",
       "  </tbody>\n",
       "</table>\n",
       "<p>500 rows × 500 columns</p>\n",
       "</div>"
      ],
      "text/plain": [
       "     0    1    2    3    4    5    6    7    8    9    ...  490  491  492  \\\n",
       "0    0.0 -0.2 -0.0 -0.2 -0.2 -0.5 -0.2 -0.1 -0.2 -0.2  ... -0.1 -0.4 -0.3   \n",
       "1   -0.2  0.0 -0.2 -0.2 -0.2 -0.3 -0.2 -0.3 -0.2 -0.4  ... -0.3 -0.2 -0.5   \n",
       "2   -0.0 -0.2  0.0 -0.2 -0.2 -0.5 -0.2 -0.1 -0.2 -0.2  ... -0.1 -0.4 -0.3   \n",
       "3   -0.2 -0.2 -0.2  0.0 -0.4 -0.5 -0.0 -0.3 -0.2 -0.4  ... -0.3 -0.2 -0.5   \n",
       "4   -0.2 -0.2 -0.2 -0.4  0.0 -0.5 -0.4 -0.1 -0.2 -0.2  ... -0.1 -0.2 -0.3   \n",
       "..   ...  ...  ...  ...  ...  ...  ...  ...  ...  ...  ...  ...  ...  ...   \n",
       "495 -0.4 -0.4 -0.4 -0.6 -0.2 -0.7 -0.6 -0.3 -0.4 -0.4  ... -0.3 -0.4 -0.5   \n",
       "496 -0.3 -0.3 -0.3 -0.3 -0.3 -0.4 -0.3 -0.2 -0.1 -0.1  ... -0.2 -0.3 -0.2   \n",
       "497 -0.1 -0.3 -0.1 -0.3 -0.1 -0.6 -0.3 -0.0 -0.1 -0.1  ... -0.0 -0.3 -0.2   \n",
       "498 -0.7 -0.5 -0.7 -0.5 -0.5 -0.4 -0.5 -0.6 -0.5 -0.7  ... -0.6 -0.3 -0.6   \n",
       "499 -0.5 -0.3 -0.5 -0.3 -0.5 -0.2 -0.3 -0.6 -0.5 -0.5  ... -0.6 -0.3 -0.6   \n",
       "\n",
       "     493  494  495  496  497  498  499  \n",
       "0   -0.1 -0.4 -0.4 -0.3 -0.1 -0.7 -0.5  \n",
       "1   -0.3 -0.4 -0.4 -0.3 -0.3 -0.5 -0.3  \n",
       "2   -0.1 -0.4 -0.4 -0.3 -0.1 -0.7 -0.5  \n",
       "3   -0.3 -0.4 -0.6 -0.3 -0.3 -0.5 -0.3  \n",
       "4   -0.3 -0.4 -0.2 -0.3 -0.1 -0.5 -0.5  \n",
       "..   ...  ...  ...  ...  ...  ...  ...  \n",
       "495 -0.3 -0.6  0.0 -0.5 -0.3 -0.5 -0.7  \n",
       "496 -0.4 -0.1 -0.5  0.0 -0.2 -0.6 -0.4  \n",
       "497 -0.2 -0.3 -0.3 -0.2  0.0 -0.6 -0.6  \n",
       "498 -0.6 -0.5 -0.5 -0.6 -0.6  0.0 -0.4  \n",
       "499 -0.6 -0.5 -0.7 -0.4 -0.6 -0.4  0.0  \n",
       "\n",
       "[500 rows x 500 columns]"
      ]
     },
     "execution_count": 14,
     "metadata": {},
     "output_type": "execute_result"
    },
    {
     "data": {
      "application/javascript": [
       "\n",
       "            setTimeout(function() {\n",
       "                var nbb_cell_id = 14;\n",
       "                var nbb_unformatted_code = \"# answer goes here\\nq5_affin = pd.DataFrame(squareform(pdist(q5_samp, metric='hamming') * -1))\\nq5_affin\";\n",
       "                var nbb_formatted_code = \"# answer goes here\\nq5_affin = pd.DataFrame(squareform(pdist(q5_samp, metric=\\\"hamming\\\") * -1))\\nq5_affin\";\n",
       "                var nbb_cells = Jupyter.notebook.get_cells();\n",
       "                for (var i = 0; i < nbb_cells.length; ++i) {\n",
       "                    if (nbb_cells[i].input_prompt_number == nbb_cell_id) {\n",
       "                        if (nbb_cells[i].get_text() == nbb_unformatted_code) {\n",
       "                             nbb_cells[i].set_text(nbb_formatted_code);\n",
       "                        }\n",
       "                        break;\n",
       "                    }\n",
       "                }\n",
       "            }, 500);\n",
       "            "
      ],
      "text/plain": [
       "<IPython.core.display.Javascript object>"
      ]
     },
     "metadata": {},
     "output_type": "display_data"
    }
   ],
   "source": [
    "# answer goes here\n",
    "q5_affin = pd.DataFrame(squareform(pdist(q5_samp, metric=\"hamming\") * -1))\n",
    "q5_affin"
   ]
  },
  {
   "cell_type": "markdown",
   "metadata": {
    "colab_type": "text",
    "id": "O2ABdpfTLj5z"
   },
   "source": [
    "Using the dissimilarity matrix and the specified preference value, run affinity propagation on the survey results using the default value for preference, which is the median dissimilarity, and a damping parameter of 0.8. How many exemplars did it identify? If there are too many exemplars, what changes would we want to make?"
   ]
  },
  {
   "cell_type": "code",
   "execution_count": 18,
   "metadata": {
    "colab": {},
    "colab_type": "code",
    "id": "-6fbTdCrLj50"
   },
   "outputs": [
    {
     "data": {
      "text/plain": [
       "AffinityPropagation(affinity='precomputed', convergence_iter=15, copy=True,\n",
       "                    damping=0.8, max_iter=500, preference=-0.3, verbose=False)"
      ]
     },
     "execution_count": 18,
     "metadata": {},
     "output_type": "execute_result"
    },
    {
     "data": {
      "application/javascript": [
       "\n",
       "            setTimeout(function() {\n",
       "                var nbb_cell_id = 18;\n",
       "                var nbb_unformatted_code = \"# answer goes here\\nap_clstr = AffinityPropagation(damping=0.8, affinity='precomputed',preference=np.median(q5_affin), max_iter=500)\\nap_clstr.fit(q5_affin)\";\n",
       "                var nbb_formatted_code = \"# answer goes here\\nap_clstr = AffinityPropagation(\\n    damping=0.8, affinity=\\\"precomputed\\\", preference=np.median(q5_affin), max_iter=500\\n)\\nap_clstr.fit(q5_affin)\";\n",
       "                var nbb_cells = Jupyter.notebook.get_cells();\n",
       "                for (var i = 0; i < nbb_cells.length; ++i) {\n",
       "                    if (nbb_cells[i].input_prompt_number == nbb_cell_id) {\n",
       "                        if (nbb_cells[i].get_text() == nbb_unformatted_code) {\n",
       "                             nbb_cells[i].set_text(nbb_formatted_code);\n",
       "                        }\n",
       "                        break;\n",
       "                    }\n",
       "                }\n",
       "            }, 500);\n",
       "            "
      ],
      "text/plain": [
       "<IPython.core.display.Javascript object>"
      ]
     },
     "metadata": {},
     "output_type": "display_data"
    }
   ],
   "source": [
    "# answer goes here\n",
    "ap_clstr = AffinityPropagation(damping=0.8, affinity='precomputed',preference=np.median(q5_affin), max_iter=500)\n",
    "ap_clstr.fit(q5_affin)\n",
    "\n",
    "\n"
   ]
  },
  {
   "cell_type": "code",
   "execution_count": 20,
   "metadata": {},
   "outputs": [
    {
     "data": {
      "text/plain": [
       "51"
      ]
     },
     "execution_count": 20,
     "metadata": {},
     "output_type": "execute_result"
    },
    {
     "data": {
      "application/javascript": [
       "\n",
       "            setTimeout(function() {\n",
       "                var nbb_cell_id = 20;\n",
       "                var nbb_unformatted_code = \"len(ap_clstr.cluster_centers_indices_)\";\n",
       "                var nbb_formatted_code = \"len(ap_clstr.cluster_centers_indices_)\";\n",
       "                var nbb_cells = Jupyter.notebook.get_cells();\n",
       "                for (var i = 0; i < nbb_cells.length; ++i) {\n",
       "                    if (nbb_cells[i].input_prompt_number == nbb_cell_id) {\n",
       "                        if (nbb_cells[i].get_text() == nbb_unformatted_code) {\n",
       "                             nbb_cells[i].set_text(nbb_formatted_code);\n",
       "                        }\n",
       "                        break;\n",
       "                    }\n",
       "                }\n",
       "            }, 500);\n",
       "            "
      ],
      "text/plain": [
       "<IPython.core.display.Javascript object>"
      ]
     },
     "metadata": {},
     "output_type": "display_data"
    }
   ],
   "source": [
    "len(ap_clstr.cluster_centers_indices_)"
   ]
  },
  {
   "cell_type": "markdown",
   "metadata": {
    "colab_type": "text",
    "id": "_U9KUtA7Lj53"
   },
   "source": [
    "Try adjusting the value of the preference based on the result you saw in the previous step until you have a reasonable number of exemplars. Print out the data for each of these exemplars, as well as the number of surveys assigned to each exemplar. How do these clusters compare to what we saw previously with k-medoids?\n",
    "\n",
    "Tip: large preferences can lead to numerical instability and issues with convergence. The \"damping\" parameter can help control this by downscaling the impact of incoming messages; check the documentation for AffinityPropagation for more details()."
   ]
  },
  {
   "cell_type": "code",
   "execution_count": 29,
   "metadata": {
    "colab": {},
    "colab_type": "code",
    "id": "fdJ4ebPTLj54"
   },
   "outputs": [
    {
     "data": {
      "text/plain": [
       "AffinityPropagation(affinity='precomputed', convergence_iter=15, copy=True,\n",
       "                    damping=0.8, max_iter=1000,\n",
       "                    preference=0     -0.2700\n",
       "1     -0.3032\n",
       "2     -0.2700\n",
       "3     -0.3440\n",
       "4     -0.2524\n",
       "        ...  \n",
       "495   -0.4112\n",
       "496   -0.2672\n",
       "497   -0.2256\n",
       "498   -0.5156\n",
       "499   -0.4740\n",
       "Length: 500, dtype: float64,\n",
       "                    verbose=False)"
      ]
     },
     "execution_count": 29,
     "metadata": {},
     "output_type": "execute_result"
    },
    {
     "data": {
      "application/javascript": [
       "\n",
       "            setTimeout(function() {\n",
       "                var nbb_cell_id = 29;\n",
       "                var nbb_unformatted_code = \"# answer goes here\\nap_clstr = AffinityPropagation(damping=0.8, affinity='precomputed',preference=np.mean(q5_affin), max_iter=1000)\\nap_clstr.fit(q5_affin)\";\n",
       "                var nbb_formatted_code = \"# answer goes here\\nap_clstr = AffinityPropagation(\\n    damping=0.8, affinity=\\\"precomputed\\\", preference=np.mean(q5_affin), max_iter=1000\\n)\\nap_clstr.fit(q5_affin)\";\n",
       "                var nbb_cells = Jupyter.notebook.get_cells();\n",
       "                for (var i = 0; i < nbb_cells.length; ++i) {\n",
       "                    if (nbb_cells[i].input_prompt_number == nbb_cell_id) {\n",
       "                        if (nbb_cells[i].get_text() == nbb_unformatted_code) {\n",
       "                             nbb_cells[i].set_text(nbb_formatted_code);\n",
       "                        }\n",
       "                        break;\n",
       "                    }\n",
       "                }\n",
       "            }, 500);\n",
       "            "
      ],
      "text/plain": [
       "<IPython.core.display.Javascript object>"
      ]
     },
     "metadata": {},
     "output_type": "display_data"
    }
   ],
   "source": [
    "# answer goes here\n",
    "ap_clstr = AffinityPropagation(damping=0.8, affinity='precomputed',preference=np.mean(q5_affin), max_iter=1000)\n",
    "ap_clstr.fit(q5_affin)\n",
    "\n",
    "\n"
   ]
  },
  {
   "cell_type": "code",
   "execution_count": 26,
   "metadata": {},
   "outputs": [
    {
     "data": {
      "text/plain": [
       "47"
      ]
     },
     "execution_count": 26,
     "metadata": {},
     "output_type": "execute_result"
    },
    {
     "data": {
      "application/javascript": [
       "\n",
       "            setTimeout(function() {\n",
       "                var nbb_cell_id = 26;\n",
       "                var nbb_unformatted_code = \"len(ap_clstr.cluster_centers_indices_)\";\n",
       "                var nbb_formatted_code = \"len(ap_clstr.cluster_centers_indices_)\";\n",
       "                var nbb_cells = Jupyter.notebook.get_cells();\n",
       "                for (var i = 0; i < nbb_cells.length; ++i) {\n",
       "                    if (nbb_cells[i].input_prompt_number == nbb_cell_id) {\n",
       "                        if (nbb_cells[i].get_text() == nbb_unformatted_code) {\n",
       "                             nbb_cells[i].set_text(nbb_formatted_code);\n",
       "                        }\n",
       "                        break;\n",
       "                    }\n",
       "                }\n",
       "            }, 500);\n",
       "            "
      ],
      "text/plain": [
       "<IPython.core.display.Javascript object>"
      ]
     },
     "metadata": {},
     "output_type": "display_data"
    }
   ],
   "source": [
    "len(ap_clstr.cluster_centers_indices_)"
   ]
  },
  {
   "cell_type": "code",
   "execution_count": null,
   "metadata": {},
   "outputs": [],
   "source": []
  },
  {
   "cell_type": "code",
   "execution_count": null,
   "metadata": {},
   "outputs": [],
   "source": []
  }
 ],
 "metadata": {
  "colab": {
   "collapsed_sections": [],
   "name": "Day 50 Lecture 1 Assignment.ipynb",
   "provenance": []
  },
  "kernelspec": {
   "display_name": "Python 3",
   "language": "python",
   "name": "python3"
  },
  "language_info": {
   "codemirror_mode": {
    "name": "ipython",
    "version": 3
   },
   "file_extension": ".py",
   "mimetype": "text/x-python",
   "name": "python",
   "nbconvert_exporter": "python",
   "pygments_lexer": "ipython3",
   "version": "3.7.6"
  }
 },
 "nbformat": 4,
 "nbformat_minor": 1
}
