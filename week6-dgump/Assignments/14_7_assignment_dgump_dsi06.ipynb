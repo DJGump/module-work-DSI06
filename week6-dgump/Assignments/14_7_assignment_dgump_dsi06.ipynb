{
 "cells": [
  {
   "cell_type": "code",
   "execution_count": 14,
   "metadata": {},
   "outputs": [
    {
     "data": {
      "application/javascript": [
       "\n",
       "            setTimeout(function() {\n",
       "                var nbb_cell_id = 14;\n",
       "                var nbb_unformatted_code = \"%reload_ext nb_black\\nimport matplotlib.pyplot as plt\\nimport seaborn as sns\\nimport numpy as np\\nimport pandas as pd\\nimport seaborn as sns\\nimport scipy.stats as stats\\nfrom scipy.stats.mstats import winsorize\\nfrom sqlalchemy import create_engine\\nimport warnings\\nfrom statsmodels.graphics.gofplots import qqplot\\nfrom scipy.stats import normaltest\\nfrom scipy.stats import boxcox\\n\\n\\nwarnings.filterwarnings(\\\"ignore\\\")\\nsns.set(style=\\\"whitegrid\\\")\\n\\npostgres_user = \\\"dsbc_student\\\"\\npostgres_pw = \\\"7*.8G9QH21\\\"\\npostgres_host = \\\"142.93.121.174\\\"\\npostgres_port = \\\"5432\\\"\\npostgres_db = \\\"studentsperformance\\\"\";\n",
       "                var nbb_formatted_code = \"%reload_ext nb_black\\nimport matplotlib.pyplot as plt\\nimport seaborn as sns\\nimport numpy as np\\nimport pandas as pd\\nimport seaborn as sns\\nimport scipy.stats as stats\\nfrom scipy.stats.mstats import winsorize\\nfrom sqlalchemy import create_engine\\nimport warnings\\nfrom statsmodels.graphics.gofplots import qqplot\\nfrom scipy.stats import normaltest\\nfrom scipy.stats import boxcox\\n\\n\\nwarnings.filterwarnings(\\\"ignore\\\")\\nsns.set(style=\\\"whitegrid\\\")\\n\\npostgres_user = \\\"dsbc_student\\\"\\npostgres_pw = \\\"7*.8G9QH21\\\"\\npostgres_host = \\\"142.93.121.174\\\"\\npostgres_port = \\\"5432\\\"\\npostgres_db = \\\"studentsperformance\\\"\";\n",
       "                var nbb_cells = Jupyter.notebook.get_cells();\n",
       "                for (var i = 0; i < nbb_cells.length; ++i) {\n",
       "                    if (nbb_cells[i].input_prompt_number == nbb_cell_id) {\n",
       "                        if (nbb_cells[i].get_text() == nbb_unformatted_code) {\n",
       "                             nbb_cells[i].set_text(nbb_formatted_code);\n",
       "                        }\n",
       "                        break;\n",
       "                    }\n",
       "                }\n",
       "            }, 500);\n",
       "            "
      ],
      "text/plain": [
       "<IPython.core.display.Javascript object>"
      ]
     },
     "metadata": {},
     "output_type": "display_data"
    },
    {
     "data": {
      "application/javascript": [
       "\n",
       "            setTimeout(function() {\n",
       "                var nbb_cell_id = 14;\n",
       "                var nbb_unformatted_code = \"%reload_ext nb_black\\nimport matplotlib.pyplot as plt\\nimport seaborn as sns\\nimport numpy as np\\nimport pandas as pd\\nimport seaborn as sns\\nimport scipy.stats as stats\\nfrom scipy.stats.mstats import winsorize\\nfrom sqlalchemy import create_engine\\nimport warnings\\nfrom statsmodels.graphics.gofplots import qqplot\\nfrom scipy.stats import normaltest\\nfrom scipy.stats import boxcox\\n\\n\\nwarnings.filterwarnings(\\\"ignore\\\")\\nsns.set(style=\\\"whitegrid\\\")\\n\\npostgres_user = \\\"dsbc_student\\\"\\npostgres_pw = \\\"7*.8G9QH21\\\"\\npostgres_host = \\\"142.93.121.174\\\"\\npostgres_port = \\\"5432\\\"\\npostgres_db = \\\"studentsperformance\\\"\";\n",
       "                var nbb_formatted_code = \"%reload_ext nb_black\\nimport matplotlib.pyplot as plt\\nimport seaborn as sns\\nimport numpy as np\\nimport pandas as pd\\nimport seaborn as sns\\nimport scipy.stats as stats\\nfrom scipy.stats.mstats import winsorize\\nfrom sqlalchemy import create_engine\\nimport warnings\\nfrom statsmodels.graphics.gofplots import qqplot\\nfrom scipy.stats import normaltest\\nfrom scipy.stats import boxcox\\n\\n\\nwarnings.filterwarnings(\\\"ignore\\\")\\nsns.set(style=\\\"whitegrid\\\")\\n\\npostgres_user = \\\"dsbc_student\\\"\\npostgres_pw = \\\"7*.8G9QH21\\\"\\npostgres_host = \\\"142.93.121.174\\\"\\npostgres_port = \\\"5432\\\"\\npostgres_db = \\\"studentsperformance\\\"\";\n",
       "                var nbb_cells = Jupyter.notebook.get_cells();\n",
       "                for (var i = 0; i < nbb_cells.length; ++i) {\n",
       "                    if (nbb_cells[i].input_prompt_number == nbb_cell_id) {\n",
       "                        if (nbb_cells[i].get_text() == nbb_unformatted_code) {\n",
       "                             nbb_cells[i].set_text(nbb_formatted_code);\n",
       "                        }\n",
       "                        break;\n",
       "                    }\n",
       "                }\n",
       "            }, 500);\n",
       "            "
      ],
      "text/plain": [
       "<IPython.core.display.Javascript object>"
      ]
     },
     "metadata": {},
     "output_type": "display_data"
    },
    {
     "data": {
      "application/javascript": [
       "\n",
       "            setTimeout(function() {\n",
       "                var nbb_cell_id = 14;\n",
       "                var nbb_unformatted_code = \"%reload_ext nb_black\\nimport matplotlib.pyplot as plt\\nimport seaborn as sns\\nimport numpy as np\\nimport pandas as pd\\nimport seaborn as sns\\nimport scipy.stats as stats\\nfrom scipy.stats.mstats import winsorize\\nfrom sqlalchemy import create_engine\\nimport warnings\\nfrom statsmodels.graphics.gofplots import qqplot\\nfrom scipy.stats import normaltest\\nfrom scipy.stats import boxcox\\n\\n\\nwarnings.filterwarnings(\\\"ignore\\\")\\nsns.set(style=\\\"whitegrid\\\")\\n\\npostgres_user = \\\"dsbc_student\\\"\\npostgres_pw = \\\"7*.8G9QH21\\\"\\npostgres_host = \\\"142.93.121.174\\\"\\npostgres_port = \\\"5432\\\"\\npostgres_db = \\\"studentsperformance\\\"\";\n",
       "                var nbb_formatted_code = \"%reload_ext nb_black\\nimport matplotlib.pyplot as plt\\nimport seaborn as sns\\nimport numpy as np\\nimport pandas as pd\\nimport seaborn as sns\\nimport scipy.stats as stats\\nfrom scipy.stats.mstats import winsorize\\nfrom sqlalchemy import create_engine\\nimport warnings\\nfrom statsmodels.graphics.gofplots import qqplot\\nfrom scipy.stats import normaltest\\nfrom scipy.stats import boxcox\\n\\n\\nwarnings.filterwarnings(\\\"ignore\\\")\\nsns.set(style=\\\"whitegrid\\\")\\n\\npostgres_user = \\\"dsbc_student\\\"\\npostgres_pw = \\\"7*.8G9QH21\\\"\\npostgres_host = \\\"142.93.121.174\\\"\\npostgres_port = \\\"5432\\\"\\npostgres_db = \\\"studentsperformance\\\"\";\n",
       "                var nbb_cells = Jupyter.notebook.get_cells();\n",
       "                for (var i = 0; i < nbb_cells.length; ++i) {\n",
       "                    if (nbb_cells[i].input_prompt_number == nbb_cell_id) {\n",
       "                        if (nbb_cells[i].get_text() == nbb_unformatted_code) {\n",
       "                             nbb_cells[i].set_text(nbb_formatted_code);\n",
       "                        }\n",
       "                        break;\n",
       "                    }\n",
       "                }\n",
       "            }, 500);\n",
       "            "
      ],
      "text/plain": [
       "<IPython.core.display.Javascript object>"
      ]
     },
     "metadata": {},
     "output_type": "display_data"
    },
    {
     "data": {
      "application/javascript": [
       "\n",
       "            setTimeout(function() {\n",
       "                var nbb_cell_id = 14;\n",
       "                var nbb_unformatted_code = \"%reload_ext nb_black\\nimport matplotlib.pyplot as plt\\nimport seaborn as sns\\nimport numpy as np\\nimport pandas as pd\\nimport seaborn as sns\\nimport scipy.stats as stats\\nfrom scipy.stats.mstats import winsorize\\nfrom sqlalchemy import create_engine\\nimport warnings\\nfrom statsmodels.graphics.gofplots import qqplot\\nfrom scipy.stats import normaltest\\nfrom scipy.stats import boxcox\\n\\n\\nwarnings.filterwarnings(\\\"ignore\\\")\\nsns.set(style=\\\"whitegrid\\\")\\n\\npostgres_user = \\\"dsbc_student\\\"\\npostgres_pw = \\\"7*.8G9QH21\\\"\\npostgres_host = \\\"142.93.121.174\\\"\\npostgres_port = \\\"5432\\\"\\npostgres_db = \\\"studentsperformance\\\"\";\n",
       "                var nbb_formatted_code = \"%reload_ext nb_black\\nimport matplotlib.pyplot as plt\\nimport seaborn as sns\\nimport numpy as np\\nimport pandas as pd\\nimport seaborn as sns\\nimport scipy.stats as stats\\nfrom scipy.stats.mstats import winsorize\\nfrom sqlalchemy import create_engine\\nimport warnings\\nfrom statsmodels.graphics.gofplots import qqplot\\nfrom scipy.stats import normaltest\\nfrom scipy.stats import boxcox\\n\\n\\nwarnings.filterwarnings(\\\"ignore\\\")\\nsns.set(style=\\\"whitegrid\\\")\\n\\npostgres_user = \\\"dsbc_student\\\"\\npostgres_pw = \\\"7*.8G9QH21\\\"\\npostgres_host = \\\"142.93.121.174\\\"\\npostgres_port = \\\"5432\\\"\\npostgres_db = \\\"studentsperformance\\\"\";\n",
       "                var nbb_cells = Jupyter.notebook.get_cells();\n",
       "                for (var i = 0; i < nbb_cells.length; ++i) {\n",
       "                    if (nbb_cells[i].input_prompt_number == nbb_cell_id) {\n",
       "                        if (nbb_cells[i].get_text() == nbb_unformatted_code) {\n",
       "                             nbb_cells[i].set_text(nbb_formatted_code);\n",
       "                        }\n",
       "                        break;\n",
       "                    }\n",
       "                }\n",
       "            }, 500);\n",
       "            "
      ],
      "text/plain": [
       "<IPython.core.display.Javascript object>"
      ]
     },
     "metadata": {},
     "output_type": "display_data"
    }
   ],
   "source": [
    "%reload_ext nb_black\n",
    "import matplotlib.pyplot as plt\n",
    "import seaborn as sns\n",
    "import numpy as np\n",
    "import pandas as pd\n",
    "import seaborn as sns\n",
    "import scipy.stats as stats\n",
    "from scipy.stats.mstats import winsorize\n",
    "from sqlalchemy import create_engine\n",
    "import warnings\n",
    "from statsmodels.graphics.gofplots import qqplot\n",
    "from scipy.stats import normaltest\n",
    "from scipy.stats import boxcox\n",
    "\n",
    "\n",
    "warnings.filterwarnings(\"ignore\")\n",
    "sns.set(style=\"whitegrid\")\n",
    "\n",
    "postgres_user = \"dsbc_student\"\n",
    "postgres_pw = \"7*.8G9QH21\"\n",
    "postgres_host = \"142.93.121.174\"\n",
    "postgres_port = \"5432\"\n",
    "postgres_db = \"studentsperformance\""
   ]
  },
  {
   "cell_type": "code",
   "execution_count": 2,
   "metadata": {},
   "outputs": [
    {
     "data": {
      "application/javascript": [
       "\n",
       "            setTimeout(function() {\n",
       "                var nbb_cell_id = 2;\n",
       "                var nbb_unformatted_code = \"engine = create_engine(\\n    \\\"postgresql://{}:{}@{}:{}/{}\\\".format(\\n        postgres_user, postgres_pw, postgres_host, postgres_port, postgres_db\\n    )\\n)\\n\\nstudents = pd.read_sql_query(\\\"select * from studentsperformance\\\", con=engine)\\n\\n# no need for an open connection,\\n# as we're only doing a single query\\nengine.dispose()\";\n",
       "                var nbb_formatted_code = \"engine = create_engine(\\n    \\\"postgresql://{}:{}@{}:{}/{}\\\".format(\\n        postgres_user, postgres_pw, postgres_host, postgres_port, postgres_db\\n    )\\n)\\n\\nstudents = pd.read_sql_query(\\\"select * from studentsperformance\\\", con=engine)\\n\\n# no need for an open connection,\\n# as we're only doing a single query\\nengine.dispose()\";\n",
       "                var nbb_cells = Jupyter.notebook.get_cells();\n",
       "                for (var i = 0; i < nbb_cells.length; ++i) {\n",
       "                    if (nbb_cells[i].input_prompt_number == nbb_cell_id) {\n",
       "                        if (nbb_cells[i].get_text() == nbb_unformatted_code) {\n",
       "                             nbb_cells[i].set_text(nbb_formatted_code);\n",
       "                        }\n",
       "                        break;\n",
       "                    }\n",
       "                }\n",
       "            }, 500);\n",
       "            "
      ],
      "text/plain": [
       "<IPython.core.display.Javascript object>"
      ]
     },
     "metadata": {},
     "output_type": "display_data"
    }
   ],
   "source": [
    "engine = create_engine(\n",
    "    \"postgresql://{}:{}@{}:{}/{}\".format(\n",
    "        postgres_user, postgres_pw, postgres_host, postgres_port, postgres_db\n",
    "    )\n",
    ")\n",
    "\n",
    "students = pd.read_sql_query(\"select * from studentsperformance\", con=engine)\n",
    "\n",
    "# no need for an open connection,\n",
    "# as we're only doing a single query\n",
    "engine.dispose()"
   ]
  },
  {
   "cell_type": "markdown",
   "metadata": {},
   "source": [
    "1. Are the exam score variables normally distributed? If not, apply a Box-Cox transformation. Does anything change?"
   ]
  },
  {
   "cell_type": "code",
   "execution_count": 7,
   "metadata": {},
   "outputs": [
    {
     "name": "stdout",
     "output_type": "stream",
     "text": [
      "Normality test for math score has results: 15.408960513931822, p = 0.00045080293869937836\n",
      "Normality test for reading score has results: 11.11741279628622, p = 0.003853758403576582\n",
      "Normality test for writing score has results: 13.606450837263859, p = 0.0011101885439899974\n"
     ]
    },
    {
     "data": {
      "application/javascript": [
       "\n",
       "            setTimeout(function() {\n",
       "                var nbb_cell_id = 7;\n",
       "                var nbb_unformatted_code = \"test_scores = students[[\\\"math score\\\", \\\"reading score\\\", \\\"writing score\\\"]]\\n\\nfor col in test_scores:\\n    norm_stats = normaltest(test_scores[col])\\n    print(\\n        \\\"Normality test for {} has results: {}, p = {}\\\".format(\\n            col, norm_stats[0], norm_stats[1]\\n        )\\n    )\";\n",
       "                var nbb_formatted_code = \"test_scores = students[[\\\"math score\\\", \\\"reading score\\\", \\\"writing score\\\"]]\\n\\nfor col in test_scores:\\n    norm_stats = normaltest(test_scores[col])\\n    print(\\n        \\\"Normality test for {} has results: {}, p = {}\\\".format(\\n            col, norm_stats[0], norm_stats[1]\\n        )\\n    )\";\n",
       "                var nbb_cells = Jupyter.notebook.get_cells();\n",
       "                for (var i = 0; i < nbb_cells.length; ++i) {\n",
       "                    if (nbb_cells[i].input_prompt_number == nbb_cell_id) {\n",
       "                        if (nbb_cells[i].get_text() == nbb_unformatted_code) {\n",
       "                             nbb_cells[i].set_text(nbb_formatted_code);\n",
       "                        }\n",
       "                        break;\n",
       "                    }\n",
       "                }\n",
       "            }, 500);\n",
       "            "
      ],
      "text/plain": [
       "<IPython.core.display.Javascript object>"
      ]
     },
     "metadata": {},
     "output_type": "display_data"
    },
    {
     "data": {
      "application/javascript": [
       "\n",
       "            setTimeout(function() {\n",
       "                var nbb_cell_id = 7;\n",
       "                var nbb_unformatted_code = \"test_scores = students[[\\\"math score\\\", \\\"reading score\\\", \\\"writing score\\\"]]\\n\\nfor col in test_scores:\\n    norm_stats = normaltest(test_scores[col])\\n    print(\\n        \\\"Normality test for {} has results: {}, p = {}\\\".format(\\n            col, norm_stats[0], norm_stats[1]\\n        )\\n    )\";\n",
       "                var nbb_formatted_code = \"test_scores = students[[\\\"math score\\\", \\\"reading score\\\", \\\"writing score\\\"]]\\n\\nfor col in test_scores:\\n    norm_stats = normaltest(test_scores[col])\\n    print(\\n        \\\"Normality test for {} has results: {}, p = {}\\\".format(\\n            col, norm_stats[0], norm_stats[1]\\n        )\\n    )\";\n",
       "                var nbb_cells = Jupyter.notebook.get_cells();\n",
       "                for (var i = 0; i < nbb_cells.length; ++i) {\n",
       "                    if (nbb_cells[i].input_prompt_number == nbb_cell_id) {\n",
       "                        if (nbb_cells[i].get_text() == nbb_unformatted_code) {\n",
       "                             nbb_cells[i].set_text(nbb_formatted_code);\n",
       "                        }\n",
       "                        break;\n",
       "                    }\n",
       "                }\n",
       "            }, 500);\n",
       "            "
      ],
      "text/plain": [
       "<IPython.core.display.Javascript object>"
      ]
     },
     "metadata": {},
     "output_type": "display_data"
    },
    {
     "data": {
      "application/javascript": [
       "\n",
       "            setTimeout(function() {\n",
       "                var nbb_cell_id = 7;\n",
       "                var nbb_unformatted_code = \"test_scores = students[[\\\"math score\\\", \\\"reading score\\\", \\\"writing score\\\"]]\\n\\nfor col in test_scores:\\n    norm_stats = normaltest(test_scores[col])\\n    print(\\n        \\\"Normality test for {} has results: {}, p = {}\\\".format(\\n            col, norm_stats[0], norm_stats[1]\\n        )\\n    )\";\n",
       "                var nbb_formatted_code = \"test_scores = students[[\\\"math score\\\", \\\"reading score\\\", \\\"writing score\\\"]]\\n\\nfor col in test_scores:\\n    norm_stats = normaltest(test_scores[col])\\n    print(\\n        \\\"Normality test for {} has results: {}, p = {}\\\".format(\\n            col, norm_stats[0], norm_stats[1]\\n        )\\n    )\";\n",
       "                var nbb_cells = Jupyter.notebook.get_cells();\n",
       "                for (var i = 0; i < nbb_cells.length; ++i) {\n",
       "                    if (nbb_cells[i].input_prompt_number == nbb_cell_id) {\n",
       "                        if (nbb_cells[i].get_text() == nbb_unformatted_code) {\n",
       "                             nbb_cells[i].set_text(nbb_formatted_code);\n",
       "                        }\n",
       "                        break;\n",
       "                    }\n",
       "                }\n",
       "            }, 500);\n",
       "            "
      ],
      "text/plain": [
       "<IPython.core.display.Javascript object>"
      ]
     },
     "metadata": {},
     "output_type": "display_data"
    }
   ],
   "source": [
    "test_scores = students[[\"math score\", \"reading score\", \"writing score\"]]\n",
    "\n",
    "for col in test_scores:\n",
    "    norm_stats = normaltest(test_scores[col])\n",
    "    print(\n",
    "        \"Normality test for {} has results: {}, p = {}\".format(\n",
    "            col, norm_stats[0], norm_stats[1]\n",
    "        )\n",
    "    )"
   ]
  },
  {
   "cell_type": "code",
   "execution_count": 10,
   "metadata": {},
   "outputs": [
    {
     "data": {
      "text/plain": [
       "65    36\n",
       "62    35\n",
       "59    32\n",
       "69    32\n",
       "73    27\n",
       "      ..\n",
       "22     1\n",
       "19     1\n",
       "18     1\n",
       "8      1\n",
       "0      1\n",
       "Name: math score, Length: 81, dtype: int64"
      ]
     },
     "execution_count": 10,
     "metadata": {},
     "output_type": "execute_result"
    },
    {
     "data": {
      "application/javascript": [
       "\n",
       "            setTimeout(function() {\n",
       "                var nbb_cell_id = 10;\n",
       "                var nbb_unformatted_code = \"students['math score'].value_counts()\";\n",
       "                var nbb_formatted_code = \"students[\\\"math score\\\"].value_counts()\";\n",
       "                var nbb_cells = Jupyter.notebook.get_cells();\n",
       "                for (var i = 0; i < nbb_cells.length; ++i) {\n",
       "                    if (nbb_cells[i].input_prompt_number == nbb_cell_id) {\n",
       "                        if (nbb_cells[i].get_text() == nbb_unformatted_code) {\n",
       "                             nbb_cells[i].set_text(nbb_formatted_code);\n",
       "                        }\n",
       "                        break;\n",
       "                    }\n",
       "                }\n",
       "            }, 500);\n",
       "            "
      ],
      "text/plain": [
       "<IPython.core.display.Javascript object>"
      ]
     },
     "metadata": {},
     "output_type": "display_data"
    },
    {
     "data": {
      "application/javascript": [
       "\n",
       "            setTimeout(function() {\n",
       "                var nbb_cell_id = 10;\n",
       "                var nbb_unformatted_code = \"students['math score'].value_counts()\";\n",
       "                var nbb_formatted_code = \"students[\\\"math score\\\"].value_counts()\";\n",
       "                var nbb_cells = Jupyter.notebook.get_cells();\n",
       "                for (var i = 0; i < nbb_cells.length; ++i) {\n",
       "                    if (nbb_cells[i].input_prompt_number == nbb_cell_id) {\n",
       "                        if (nbb_cells[i].get_text() == nbb_unformatted_code) {\n",
       "                             nbb_cells[i].set_text(nbb_formatted_code);\n",
       "                        }\n",
       "                        break;\n",
       "                    }\n",
       "                }\n",
       "            }, 500);\n",
       "            "
      ],
      "text/plain": [
       "<IPython.core.display.Javascript object>"
      ]
     },
     "metadata": {},
     "output_type": "display_data"
    },
    {
     "data": {
      "application/javascript": [
       "\n",
       "            setTimeout(function() {\n",
       "                var nbb_cell_id = 10;\n",
       "                var nbb_unformatted_code = \"students['math score'].value_counts()\";\n",
       "                var nbb_formatted_code = \"students[\\\"math score\\\"].value_counts()\";\n",
       "                var nbb_cells = Jupyter.notebook.get_cells();\n",
       "                for (var i = 0; i < nbb_cells.length; ++i) {\n",
       "                    if (nbb_cells[i].input_prompt_number == nbb_cell_id) {\n",
       "                        if (nbb_cells[i].get_text() == nbb_unformatted_code) {\n",
       "                             nbb_cells[i].set_text(nbb_formatted_code);\n",
       "                        }\n",
       "                        break;\n",
       "                    }\n",
       "                }\n",
       "            }, 500);\n",
       "            "
      ],
      "text/plain": [
       "<IPython.core.display.Javascript object>"
      ]
     },
     "metadata": {},
     "output_type": "display_data"
    }
   ],
   "source": [
    "students[\"math score\"].value_counts()\n",
    "# remove zero for boxcox"
   ]
  },
  {
   "cell_type": "code",
   "execution_count": 26,
   "metadata": {},
   "outputs": [
    {
     "data": {
      "text/plain": [
       "65    36\n",
       "62    35\n",
       "59    32\n",
       "69    32\n",
       "73    27\n",
       "      ..\n",
       "23     1\n",
       "22     1\n",
       "19     1\n",
       "18     1\n",
       "8      1\n",
       "Name: math score, Length: 80, dtype: int64"
      ]
     },
     "execution_count": 26,
     "metadata": {},
     "output_type": "execute_result"
    },
    {
     "data": {
      "application/javascript": [
       "\n",
       "            setTimeout(function() {\n",
       "                var nbb_cell_id = 26;\n",
       "                var nbb_unformatted_code = \"students = students[students[\\\"math score\\\"] != 0]\\nstudents['math score'].value_counts()\";\n",
       "                var nbb_formatted_code = \"students = students[students[\\\"math score\\\"] != 0]\\nstudents[\\\"math score\\\"].value_counts()\";\n",
       "                var nbb_cells = Jupyter.notebook.get_cells();\n",
       "                for (var i = 0; i < nbb_cells.length; ++i) {\n",
       "                    if (nbb_cells[i].input_prompt_number == nbb_cell_id) {\n",
       "                        if (nbb_cells[i].get_text() == nbb_unformatted_code) {\n",
       "                             nbb_cells[i].set_text(nbb_formatted_code);\n",
       "                        }\n",
       "                        break;\n",
       "                    }\n",
       "                }\n",
       "            }, 500);\n",
       "            "
      ],
      "text/plain": [
       "<IPython.core.display.Javascript object>"
      ]
     },
     "metadata": {},
     "output_type": "display_data"
    },
    {
     "data": {
      "application/javascript": [
       "\n",
       "            setTimeout(function() {\n",
       "                var nbb_cell_id = 26;\n",
       "                var nbb_unformatted_code = \"students = students[students[\\\"math score\\\"] != 0]\\nstudents['math score'].value_counts()\";\n",
       "                var nbb_formatted_code = \"students = students[students[\\\"math score\\\"] != 0]\\nstudents[\\\"math score\\\"].value_counts()\";\n",
       "                var nbb_cells = Jupyter.notebook.get_cells();\n",
       "                for (var i = 0; i < nbb_cells.length; ++i) {\n",
       "                    if (nbb_cells[i].input_prompt_number == nbb_cell_id) {\n",
       "                        if (nbb_cells[i].get_text() == nbb_unformatted_code) {\n",
       "                             nbb_cells[i].set_text(nbb_formatted_code);\n",
       "                        }\n",
       "                        break;\n",
       "                    }\n",
       "                }\n",
       "            }, 500);\n",
       "            "
      ],
      "text/plain": [
       "<IPython.core.display.Javascript object>"
      ]
     },
     "metadata": {},
     "output_type": "display_data"
    },
    {
     "data": {
      "application/javascript": [
       "\n",
       "            setTimeout(function() {\n",
       "                var nbb_cell_id = 26;\n",
       "                var nbb_unformatted_code = \"students = students[students[\\\"math score\\\"] != 0]\\nstudents['math score'].value_counts()\";\n",
       "                var nbb_formatted_code = \"students = students[students[\\\"math score\\\"] != 0]\\nstudents[\\\"math score\\\"].value_counts()\";\n",
       "                var nbb_cells = Jupyter.notebook.get_cells();\n",
       "                for (var i = 0; i < nbb_cells.length; ++i) {\n",
       "                    if (nbb_cells[i].input_prompt_number == nbb_cell_id) {\n",
       "                        if (nbb_cells[i].get_text() == nbb_unformatted_code) {\n",
       "                             nbb_cells[i].set_text(nbb_formatted_code);\n",
       "                        }\n",
       "                        break;\n",
       "                    }\n",
       "                }\n",
       "            }, 500);\n",
       "            "
      ],
      "text/plain": [
       "<IPython.core.display.Javascript object>"
      ]
     },
     "metadata": {},
     "output_type": "display_data"
    },
    {
     "data": {
      "application/javascript": [
       "\n",
       "            setTimeout(function() {\n",
       "                var nbb_cell_id = 26;\n",
       "                var nbb_unformatted_code = \"students = students[students[\\\"math score\\\"] != 0]\\nstudents['math score'].value_counts()\";\n",
       "                var nbb_formatted_code = \"students = students[students[\\\"math score\\\"] != 0]\\nstudents[\\\"math score\\\"].value_counts()\";\n",
       "                var nbb_cells = Jupyter.notebook.get_cells();\n",
       "                for (var i = 0; i < nbb_cells.length; ++i) {\n",
       "                    if (nbb_cells[i].input_prompt_number == nbb_cell_id) {\n",
       "                        if (nbb_cells[i].get_text() == nbb_unformatted_code) {\n",
       "                             nbb_cells[i].set_text(nbb_formatted_code);\n",
       "                        }\n",
       "                        break;\n",
       "                    }\n",
       "                }\n",
       "            }, 500);\n",
       "            "
      ],
      "text/plain": [
       "<IPython.core.display.Javascript object>"
      ]
     },
     "metadata": {},
     "output_type": "display_data"
    }
   ],
   "source": [
    "students = students[students[\"math score\"] != 0]\n",
    "students[\"math score\"].value_counts()"
   ]
  },
  {
   "cell_type": "code",
   "execution_count": 29,
   "metadata": {},
   "outputs": [
    {
     "data": {
      "text/plain": [
       "tuple"
      ]
     },
     "execution_count": 29,
     "metadata": {},
     "output_type": "execute_result"
    },
    {
     "data": {
      "application/javascript": [
       "\n",
       "            setTimeout(function() {\n",
       "                var nbb_cell_id = 29;\n",
       "                var nbb_unformatted_code = \"type(boxcox(students[\\\"math score\\\"]))\";\n",
       "                var nbb_formatted_code = \"type(boxcox(students[\\\"math score\\\"]))\";\n",
       "                var nbb_cells = Jupyter.notebook.get_cells();\n",
       "                for (var i = 0; i < nbb_cells.length; ++i) {\n",
       "                    if (nbb_cells[i].input_prompt_number == nbb_cell_id) {\n",
       "                        if (nbb_cells[i].get_text() == nbb_unformatted_code) {\n",
       "                             nbb_cells[i].set_text(nbb_formatted_code);\n",
       "                        }\n",
       "                        break;\n",
       "                    }\n",
       "                }\n",
       "            }, 500);\n",
       "            "
      ],
      "text/plain": [
       "<IPython.core.display.Javascript object>"
      ]
     },
     "metadata": {},
     "output_type": "display_data"
    },
    {
     "data": {
      "application/javascript": [
       "\n",
       "            setTimeout(function() {\n",
       "                var nbb_cell_id = 29;\n",
       "                var nbb_unformatted_code = \"type(boxcox(students[\\\"math score\\\"]))\";\n",
       "                var nbb_formatted_code = \"type(boxcox(students[\\\"math score\\\"]))\";\n",
       "                var nbb_cells = Jupyter.notebook.get_cells();\n",
       "                for (var i = 0; i < nbb_cells.length; ++i) {\n",
       "                    if (nbb_cells[i].input_prompt_number == nbb_cell_id) {\n",
       "                        if (nbb_cells[i].get_text() == nbb_unformatted_code) {\n",
       "                             nbb_cells[i].set_text(nbb_formatted_code);\n",
       "                        }\n",
       "                        break;\n",
       "                    }\n",
       "                }\n",
       "            }, 500);\n",
       "            "
      ],
      "text/plain": [
       "<IPython.core.display.Javascript object>"
      ]
     },
     "metadata": {},
     "output_type": "display_data"
    },
    {
     "data": {
      "application/javascript": [
       "\n",
       "            setTimeout(function() {\n",
       "                var nbb_cell_id = 29;\n",
       "                var nbb_unformatted_code = \"type(boxcox(students[\\\"math score\\\"]))\";\n",
       "                var nbb_formatted_code = \"type(boxcox(students[\\\"math score\\\"]))\";\n",
       "                var nbb_cells = Jupyter.notebook.get_cells();\n",
       "                for (var i = 0; i < nbb_cells.length; ++i) {\n",
       "                    if (nbb_cells[i].input_prompt_number == nbb_cell_id) {\n",
       "                        if (nbb_cells[i].get_text() == nbb_unformatted_code) {\n",
       "                             nbb_cells[i].set_text(nbb_formatted_code);\n",
       "                        }\n",
       "                        break;\n",
       "                    }\n",
       "                }\n",
       "            }, 500);\n",
       "            "
      ],
      "text/plain": [
       "<IPython.core.display.Javascript object>"
      ]
     },
     "metadata": {},
     "output_type": "display_data"
    },
    {
     "data": {
      "application/javascript": [
       "\n",
       "            setTimeout(function() {\n",
       "                var nbb_cell_id = 29;\n",
       "                var nbb_unformatted_code = \"type(boxcox(students[\\\"math score\\\"]))\";\n",
       "                var nbb_formatted_code = \"type(boxcox(students[\\\"math score\\\"]))\";\n",
       "                var nbb_cells = Jupyter.notebook.get_cells();\n",
       "                for (var i = 0; i < nbb_cells.length; ++i) {\n",
       "                    if (nbb_cells[i].input_prompt_number == nbb_cell_id) {\n",
       "                        if (nbb_cells[i].get_text() == nbb_unformatted_code) {\n",
       "                             nbb_cells[i].set_text(nbb_formatted_code);\n",
       "                        }\n",
       "                        break;\n",
       "                    }\n",
       "                }\n",
       "            }, 500);\n",
       "            "
      ],
      "text/plain": [
       "<IPython.core.display.Javascript object>"
      ]
     },
     "metadata": {},
     "output_type": "display_data"
    }
   ],
   "source": [
    "boxcox(students[\"math score\"])"
   ]
  },
  {
   "cell_type": "code",
   "execution_count": 34,
   "metadata": {},
   "outputs": [
    {
     "data": {
      "application/javascript": [
       "\n",
       "            setTimeout(function() {\n",
       "                var nbb_cell_id = 34;\n",
       "                var nbb_unformatted_code = \"math_boxcox, _ = boxcox(students[\\\"math score\\\"])\\nreading_boxcox, _ = boxcox(students[\\\"reading score\\\"])\\nwriting_boxcox, _ = boxcox(students[\\\"writing score\\\"])\\n\\nboxcoxes = {'math': math_boxcox, 'reading': reading_boxcox, 'writing': writing_boxcox}\";\n",
       "                var nbb_formatted_code = \"math_boxcox, _ = boxcox(students[\\\"math score\\\"])\\nreading_boxcox, _ = boxcox(students[\\\"reading score\\\"])\\nwriting_boxcox, _ = boxcox(students[\\\"writing score\\\"])\\n\\nboxcoxes = {\\\"math\\\": math_boxcox, \\\"reading\\\": reading_boxcox, \\\"writing\\\": writing_boxcox}\";\n",
       "                var nbb_cells = Jupyter.notebook.get_cells();\n",
       "                for (var i = 0; i < nbb_cells.length; ++i) {\n",
       "                    if (nbb_cells[i].input_prompt_number == nbb_cell_id) {\n",
       "                        if (nbb_cells[i].get_text() == nbb_unformatted_code) {\n",
       "                             nbb_cells[i].set_text(nbb_formatted_code);\n",
       "                        }\n",
       "                        break;\n",
       "                    }\n",
       "                }\n",
       "            }, 500);\n",
       "            "
      ],
      "text/plain": [
       "<IPython.core.display.Javascript object>"
      ]
     },
     "metadata": {},
     "output_type": "display_data"
    },
    {
     "data": {
      "application/javascript": [
       "\n",
       "            setTimeout(function() {\n",
       "                var nbb_cell_id = 34;\n",
       "                var nbb_unformatted_code = \"math_boxcox, _ = boxcox(students[\\\"math score\\\"])\\nreading_boxcox, _ = boxcox(students[\\\"reading score\\\"])\\nwriting_boxcox, _ = boxcox(students[\\\"writing score\\\"])\\n\\nboxcoxes = {'math': math_boxcox, 'reading': reading_boxcox, 'writing': writing_boxcox}\";\n",
       "                var nbb_formatted_code = \"math_boxcox, _ = boxcox(students[\\\"math score\\\"])\\nreading_boxcox, _ = boxcox(students[\\\"reading score\\\"])\\nwriting_boxcox, _ = boxcox(students[\\\"writing score\\\"])\\n\\nboxcoxes = {\\\"math\\\": math_boxcox, \\\"reading\\\": reading_boxcox, \\\"writing\\\": writing_boxcox}\";\n",
       "                var nbb_cells = Jupyter.notebook.get_cells();\n",
       "                for (var i = 0; i < nbb_cells.length; ++i) {\n",
       "                    if (nbb_cells[i].input_prompt_number == nbb_cell_id) {\n",
       "                        if (nbb_cells[i].get_text() == nbb_unformatted_code) {\n",
       "                             nbb_cells[i].set_text(nbb_formatted_code);\n",
       "                        }\n",
       "                        break;\n",
       "                    }\n",
       "                }\n",
       "            }, 500);\n",
       "            "
      ],
      "text/plain": [
       "<IPython.core.display.Javascript object>"
      ]
     },
     "metadata": {},
     "output_type": "display_data"
    },
    {
     "data": {
      "application/javascript": [
       "\n",
       "            setTimeout(function() {\n",
       "                var nbb_cell_id = 34;\n",
       "                var nbb_unformatted_code = \"math_boxcox, _ = boxcox(students[\\\"math score\\\"])\\nreading_boxcox, _ = boxcox(students[\\\"reading score\\\"])\\nwriting_boxcox, _ = boxcox(students[\\\"writing score\\\"])\\n\\nboxcoxes = {'math': math_boxcox, 'reading': reading_boxcox, 'writing': writing_boxcox}\";\n",
       "                var nbb_formatted_code = \"math_boxcox, _ = boxcox(students[\\\"math score\\\"])\\nreading_boxcox, _ = boxcox(students[\\\"reading score\\\"])\\nwriting_boxcox, _ = boxcox(students[\\\"writing score\\\"])\\n\\nboxcoxes = {\\\"math\\\": math_boxcox, \\\"reading\\\": reading_boxcox, \\\"writing\\\": writing_boxcox}\";\n",
       "                var nbb_cells = Jupyter.notebook.get_cells();\n",
       "                for (var i = 0; i < nbb_cells.length; ++i) {\n",
       "                    if (nbb_cells[i].input_prompt_number == nbb_cell_id) {\n",
       "                        if (nbb_cells[i].get_text() == nbb_unformatted_code) {\n",
       "                             nbb_cells[i].set_text(nbb_formatted_code);\n",
       "                        }\n",
       "                        break;\n",
       "                    }\n",
       "                }\n",
       "            }, 500);\n",
       "            "
      ],
      "text/plain": [
       "<IPython.core.display.Javascript object>"
      ]
     },
     "metadata": {},
     "output_type": "display_data"
    },
    {
     "data": {
      "application/javascript": [
       "\n",
       "            setTimeout(function() {\n",
       "                var nbb_cell_id = 34;\n",
       "                var nbb_unformatted_code = \"math_boxcox, _ = boxcox(students[\\\"math score\\\"])\\nreading_boxcox, _ = boxcox(students[\\\"reading score\\\"])\\nwriting_boxcox, _ = boxcox(students[\\\"writing score\\\"])\\n\\nboxcoxes = {'math': math_boxcox, 'reading': reading_boxcox, 'writing': writing_boxcox}\";\n",
       "                var nbb_formatted_code = \"math_boxcox, _ = boxcox(students[\\\"math score\\\"])\\nreading_boxcox, _ = boxcox(students[\\\"reading score\\\"])\\nwriting_boxcox, _ = boxcox(students[\\\"writing score\\\"])\\n\\nboxcoxes = {\\\"math\\\": math_boxcox, \\\"reading\\\": reading_boxcox, \\\"writing\\\": writing_boxcox}\";\n",
       "                var nbb_cells = Jupyter.notebook.get_cells();\n",
       "                for (var i = 0; i < nbb_cells.length; ++i) {\n",
       "                    if (nbb_cells[i].input_prompt_number == nbb_cell_id) {\n",
       "                        if (nbb_cells[i].get_text() == nbb_unformatted_code) {\n",
       "                             nbb_cells[i].set_text(nbb_formatted_code);\n",
       "                        }\n",
       "                        break;\n",
       "                    }\n",
       "                }\n",
       "            }, 500);\n",
       "            "
      ],
      "text/plain": [
       "<IPython.core.display.Javascript object>"
      ]
     },
     "metadata": {},
     "output_type": "display_data"
    }
   ],
   "source": [
    "math_boxcox, _ = boxcox(students[\"math score\"])\n",
    "reading_boxcox, _ = boxcox(students[\"reading score\"])\n",
    "writing_boxcox, _ = boxcox(students[\"writing score\"])\n",
    "\n",
    "boxcoxes = {\"math\": math_boxcox, \"reading\": reading_boxcox, \"writing\": writing_boxcox}"
   ]
  },
  {
   "cell_type": "code",
   "execution_count": 64,
   "metadata": {},
   "outputs": [
    {
     "name": "stdout",
     "output_type": "stream",
     "text": [
      "Normality test for math has results: 1.8323075851586939, p = 0.4000547794685686\n"
     ]
    },
    {
     "data": {
      "image/png": "[encoded data removed]",
      "text/plain": [
       "<Figure size 432x288 with 1 Axes>"
      ]
     },
     "metadata": {},
     "output_type": "display_data"
    },
    {
     "name": "stdout",
     "output_type": "stream",
     "text": [
      "Normality test for reading has results: 6.546500254297637, p = 0.03788310187455936\n"
     ]
    },
    {
     "data": {
      "image/png": "[encoded data removed]",
      "text/plain": [
       "<Figure size 432x288 with 1 Axes>"
      ]
     },
     "metadata": {},
     "output_type": "display_data"
    },
    {
     "name": "stdout",
     "output_type": "stream",
     "text": [
      "Normality test for writing has results: 8.018367650263817, p = 0.018148201299612785\n"
     ]
    },
    {
     "data": {
      "image/png": "[encoded data removed]",
      "text/plain": [
       "<Figure size 432x288 with 1 Axes>"
      ]
     },
     "metadata": {},
     "output_type": "display_data"
    },
    {
     "data": {
      "application/javascript": [
       "\n",
       "            setTimeout(function() {\n",
       "                var nbb_cell_id = 64;\n",
       "                var nbb_unformatted_code = \"for subject, values in boxcoxes.items():\\n    norm_stats = normaltest(values)\\n    print(\\n        \\\"Normality test for {} has results: {}, p = {}\\\".format(\\n            subject, norm_stats[0], norm_stats[1]\\n        )\\n    )\\n    plt.hist(values, alpha=0.5, label=subject)\\n    plt.legend()\\n    plt.show()\";\n",
       "                var nbb_formatted_code = \"for subject, values in boxcoxes.items():\\n    norm_stats = normaltest(values)\\n    print(\\n        \\\"Normality test for {} has results: {}, p = {}\\\".format(\\n            subject, norm_stats[0], norm_stats[1]\\n        )\\n    )\\n    plt.hist(values, alpha=0.5, label=subject)\\n    plt.legend()\\n    plt.show()\";\n",
       "                var nbb_cells = Jupyter.notebook.get_cells();\n",
       "                for (var i = 0; i < nbb_cells.length; ++i) {\n",
       "                    if (nbb_cells[i].input_prompt_number == nbb_cell_id) {\n",
       "                        if (nbb_cells[i].get_text() == nbb_unformatted_code) {\n",
       "                             nbb_cells[i].set_text(nbb_formatted_code);\n",
       "                        }\n",
       "                        break;\n",
       "                    }\n",
       "                }\n",
       "            }, 500);\n",
       "            "
      ],
      "text/plain": [
       "<IPython.core.display.Javascript object>"
      ]
     },
     "metadata": {},
     "output_type": "display_data"
    },
    {
     "data": {
      "application/javascript": [
       "\n",
       "            setTimeout(function() {\n",
       "                var nbb_cell_id = 64;\n",
       "                var nbb_unformatted_code = \"for subject, values in boxcoxes.items():\\n    norm_stats = normaltest(values)\\n    print(\\n        \\\"Normality test for {} has results: {}, p = {}\\\".format(\\n            subject, norm_stats[0], norm_stats[1]\\n        )\\n    )\\n    plt.hist(values, alpha=0.5, label=subject)\\n    plt.legend()\\n    plt.show()\";\n",
       "                var nbb_formatted_code = \"for subject, values in boxcoxes.items():\\n    norm_stats = normaltest(values)\\n    print(\\n        \\\"Normality test for {} has results: {}, p = {}\\\".format(\\n            subject, norm_stats[0], norm_stats[1]\\n        )\\n    )\\n    plt.hist(values, alpha=0.5, label=subject)\\n    plt.legend()\\n    plt.show()\";\n",
       "                var nbb_cells = Jupyter.notebook.get_cells();\n",
       "                for (var i = 0; i < nbb_cells.length; ++i) {\n",
       "                    if (nbb_cells[i].input_prompt_number == nbb_cell_id) {\n",
       "                        if (nbb_cells[i].get_text() == nbb_unformatted_code) {\n",
       "                             nbb_cells[i].set_text(nbb_formatted_code);\n",
       "                        }\n",
       "                        break;\n",
       "                    }\n",
       "                }\n",
       "            }, 500);\n",
       "            "
      ],
      "text/plain": [
       "<IPython.core.display.Javascript object>"
      ]
     },
     "metadata": {},
     "output_type": "display_data"
    },
    {
     "data": {
      "application/javascript": [
       "\n",
       "            setTimeout(function() {\n",
       "                var nbb_cell_id = 64;\n",
       "                var nbb_unformatted_code = \"for subject, values in boxcoxes.items():\\n    norm_stats = normaltest(values)\\n    print(\\n        \\\"Normality test for {} has results: {}, p = {}\\\".format(\\n            subject, norm_stats[0], norm_stats[1]\\n        )\\n    )\\n    plt.hist(values, alpha=0.5, label=subject)\\n    plt.legend()\\n    plt.show()\";\n",
       "                var nbb_formatted_code = \"for subject, values in boxcoxes.items():\\n    norm_stats = normaltest(values)\\n    print(\\n        \\\"Normality test for {} has results: {}, p = {}\\\".format(\\n            subject, norm_stats[0], norm_stats[1]\\n        )\\n    )\\n    plt.hist(values, alpha=0.5, label=subject)\\n    plt.legend()\\n    plt.show()\";\n",
       "                var nbb_cells = Jupyter.notebook.get_cells();\n",
       "                for (var i = 0; i < nbb_cells.length; ++i) {\n",
       "                    if (nbb_cells[i].input_prompt_number == nbb_cell_id) {\n",
       "                        if (nbb_cells[i].get_text() == nbb_unformatted_code) {\n",
       "                             nbb_cells[i].set_text(nbb_formatted_code);\n",
       "                        }\n",
       "                        break;\n",
       "                    }\n",
       "                }\n",
       "            }, 500);\n",
       "            "
      ],
      "text/plain": [
       "<IPython.core.display.Javascript object>"
      ]
     },
     "metadata": {},
     "output_type": "display_data"
    },
    {
     "data": {
      "application/javascript": [
       "\n",
       "            setTimeout(function() {\n",
       "                var nbb_cell_id = 64;\n",
       "                var nbb_unformatted_code = \"for subject, values in boxcoxes.items():\\n    norm_stats = normaltest(values)\\n    print(\\n        \\\"Normality test for {} has results: {}, p = {}\\\".format(\\n            subject, norm_stats[0], norm_stats[1]\\n        )\\n    )\\n    plt.hist(values, alpha=0.5, label=subject)\\n    plt.legend()\\n    plt.show()\";\n",
       "                var nbb_formatted_code = \"for subject, values in boxcoxes.items():\\n    norm_stats = normaltest(values)\\n    print(\\n        \\\"Normality test for {} has results: {}, p = {}\\\".format(\\n            subject, norm_stats[0], norm_stats[1]\\n        )\\n    )\\n    plt.hist(values, alpha=0.5, label=subject)\\n    plt.legend()\\n    plt.show()\";\n",
       "                var nbb_cells = Jupyter.notebook.get_cells();\n",
       "                for (var i = 0; i < nbb_cells.length; ++i) {\n",
       "                    if (nbb_cells[i].input_prompt_number == nbb_cell_id) {\n",
       "                        if (nbb_cells[i].get_text() == nbb_unformatted_code) {\n",
       "                             nbb_cells[i].set_text(nbb_formatted_code);\n",
       "                        }\n",
       "                        break;\n",
       "                    }\n",
       "                }\n",
       "            }, 500);\n",
       "            "
      ],
      "text/plain": [
       "<IPython.core.display.Javascript object>"
      ]
     },
     "metadata": {},
     "output_type": "display_data"
    }
   ],
   "source": [
    "for subject, values in boxcoxes.items():\n",
    "    norm_stats = normaltest(values)\n",
    "    print(\n",
    "        \"Normality test for {} has results: {}, p = {}\".format(\n",
    "            subject, norm_stats[0], norm_stats[1]\n",
    "        )\n",
    "    )\n",
    "    plt.hist(values, alpha=0.5, label=subject)\n",
    "    plt.legend()\n",
    "    plt.show()"
   ]
  },
  {
   "cell_type": "markdown",
   "metadata": {},
   "source": [
    "With the boxcox, all three score distributions are now normal"
   ]
  },
  {
   "cell_type": "markdown",
   "metadata": {},
   "source": [
    "2. Say we want to use a single variable for the exam scores as our target. For this purpose, create a new variable by taking a weighted average of the exam scores. Check whether this new variable is normally distributed. If it's not normally distributed, apply a Box-Cox transformation and check whether or not the transformed variable is normally distributed."
   ]
  },
  {
   "cell_type": "code",
   "execution_count": 39,
   "metadata": {},
   "outputs": [
    {
     "data": {
      "text/html": [
       "<div>\n",
       "<style scoped>\n",
       "    .dataframe tbody tr th:only-of-type {\n",
       "        vertical-align: middle;\n",
       "    }\n",
       "\n",
       "    .dataframe tbody tr th {\n",
       "        vertical-align: top;\n",
       "    }\n",
       "\n",
       "    .dataframe thead th {\n",
       "        text-align: right;\n",
       "    }\n",
       "</style>\n",
       "<table border=\"1\" class=\"dataframe\">\n",
       "  <thead>\n",
       "    <tr style=\"text-align: right;\">\n",
       "      <th></th>\n",
       "      <th>gender</th>\n",
       "      <th>race/ethnicity</th>\n",
       "      <th>parental level of education</th>\n",
       "      <th>lunch</th>\n",
       "      <th>test preparation course</th>\n",
       "      <th>math score</th>\n",
       "      <th>reading score</th>\n",
       "      <th>writing score</th>\n",
       "    </tr>\n",
       "  </thead>\n",
       "  <tbody>\n",
       "    <tr>\n",
       "      <th>0</th>\n",
       "      <td>female</td>\n",
       "      <td>group B</td>\n",
       "      <td>bachelor's degree</td>\n",
       "      <td>standard</td>\n",
       "      <td>none</td>\n",
       "      <td>72</td>\n",
       "      <td>72</td>\n",
       "      <td>74</td>\n",
       "    </tr>\n",
       "    <tr>\n",
       "      <th>1</th>\n",
       "      <td>female</td>\n",
       "      <td>group C</td>\n",
       "      <td>some college</td>\n",
       "      <td>standard</td>\n",
       "      <td>completed</td>\n",
       "      <td>69</td>\n",
       "      <td>90</td>\n",
       "      <td>88</td>\n",
       "    </tr>\n",
       "    <tr>\n",
       "      <th>2</th>\n",
       "      <td>female</td>\n",
       "      <td>group B</td>\n",
       "      <td>master's degree</td>\n",
       "      <td>standard</td>\n",
       "      <td>none</td>\n",
       "      <td>90</td>\n",
       "      <td>95</td>\n",
       "      <td>93</td>\n",
       "    </tr>\n",
       "    <tr>\n",
       "      <th>3</th>\n",
       "      <td>male</td>\n",
       "      <td>group A</td>\n",
       "      <td>associate's degree</td>\n",
       "      <td>free/reduced</td>\n",
       "      <td>none</td>\n",
       "      <td>47</td>\n",
       "      <td>57</td>\n",
       "      <td>44</td>\n",
       "    </tr>\n",
       "    <tr>\n",
       "      <th>4</th>\n",
       "      <td>male</td>\n",
       "      <td>group C</td>\n",
       "      <td>some college</td>\n",
       "      <td>standard</td>\n",
       "      <td>none</td>\n",
       "      <td>76</td>\n",
       "      <td>78</td>\n",
       "      <td>75</td>\n",
       "    </tr>\n",
       "  </tbody>\n",
       "</table>\n",
       "</div>"
      ],
      "text/plain": [
       "   gender race/ethnicity parental level of education         lunch  \\\n",
       "0  female        group B           bachelor's degree      standard   \n",
       "1  female        group C                some college      standard   \n",
       "2  female        group B             master's degree      standard   \n",
       "3    male        group A          associate's degree  free/reduced   \n",
       "4    male        group C                some college      standard   \n",
       "\n",
       "  test preparation course  math score  reading score  writing score  \n",
       "0                    none          72             72             74  \n",
       "1               completed          69             90             88  \n",
       "2                    none          90             95             93  \n",
       "3                    none          47             57             44  \n",
       "4                    none          76             78             75  "
      ]
     },
     "execution_count": 39,
     "metadata": {},
     "output_type": "execute_result"
    },
    {
     "data": {
      "application/javascript": [
       "\n",
       "            setTimeout(function() {\n",
       "                var nbb_cell_id = 39;\n",
       "                var nbb_unformatted_code = \"students.head()\";\n",
       "                var nbb_formatted_code = \"students.head()\";\n",
       "                var nbb_cells = Jupyter.notebook.get_cells();\n",
       "                for (var i = 0; i < nbb_cells.length; ++i) {\n",
       "                    if (nbb_cells[i].input_prompt_number == nbb_cell_id) {\n",
       "                        if (nbb_cells[i].get_text() == nbb_unformatted_code) {\n",
       "                             nbb_cells[i].set_text(nbb_formatted_code);\n",
       "                        }\n",
       "                        break;\n",
       "                    }\n",
       "                }\n",
       "            }, 500);\n",
       "            "
      ],
      "text/plain": [
       "<IPython.core.display.Javascript object>"
      ]
     },
     "metadata": {},
     "output_type": "display_data"
    },
    {
     "data": {
      "application/javascript": [
       "\n",
       "            setTimeout(function() {\n",
       "                var nbb_cell_id = 39;\n",
       "                var nbb_unformatted_code = \"students.head()\";\n",
       "                var nbb_formatted_code = \"students.head()\";\n",
       "                var nbb_cells = Jupyter.notebook.get_cells();\n",
       "                for (var i = 0; i < nbb_cells.length; ++i) {\n",
       "                    if (nbb_cells[i].input_prompt_number == nbb_cell_id) {\n",
       "                        if (nbb_cells[i].get_text() == nbb_unformatted_code) {\n",
       "                             nbb_cells[i].set_text(nbb_formatted_code);\n",
       "                        }\n",
       "                        break;\n",
       "                    }\n",
       "                }\n",
       "            }, 500);\n",
       "            "
      ],
      "text/plain": [
       "<IPython.core.display.Javascript object>"
      ]
     },
     "metadata": {},
     "output_type": "display_data"
    },
    {
     "data": {
      "application/javascript": [
       "\n",
       "            setTimeout(function() {\n",
       "                var nbb_cell_id = 39;\n",
       "                var nbb_unformatted_code = \"students.head()\";\n",
       "                var nbb_formatted_code = \"students.head()\";\n",
       "                var nbb_cells = Jupyter.notebook.get_cells();\n",
       "                for (var i = 0; i < nbb_cells.length; ++i) {\n",
       "                    if (nbb_cells[i].input_prompt_number == nbb_cell_id) {\n",
       "                        if (nbb_cells[i].get_text() == nbb_unformatted_code) {\n",
       "                             nbb_cells[i].set_text(nbb_formatted_code);\n",
       "                        }\n",
       "                        break;\n",
       "                    }\n",
       "                }\n",
       "            }, 500);\n",
       "            "
      ],
      "text/plain": [
       "<IPython.core.display.Javascript object>"
      ]
     },
     "metadata": {},
     "output_type": "display_data"
    },
    {
     "data": {
      "application/javascript": [
       "\n",
       "            setTimeout(function() {\n",
       "                var nbb_cell_id = 39;\n",
       "                var nbb_unformatted_code = \"students.head()\";\n",
       "                var nbb_formatted_code = \"students.head()\";\n",
       "                var nbb_cells = Jupyter.notebook.get_cells();\n",
       "                for (var i = 0; i < nbb_cells.length; ++i) {\n",
       "                    if (nbb_cells[i].input_prompt_number == nbb_cell_id) {\n",
       "                        if (nbb_cells[i].get_text() == nbb_unformatted_code) {\n",
       "                             nbb_cells[i].set_text(nbb_formatted_code);\n",
       "                        }\n",
       "                        break;\n",
       "                    }\n",
       "                }\n",
       "            }, 500);\n",
       "            "
      ],
      "text/plain": [
       "<IPython.core.display.Javascript object>"
      ]
     },
     "metadata": {},
     "output_type": "display_data"
    }
   ],
   "source": [
    "students.head()"
   ]
  },
  {
   "cell_type": "code",
   "execution_count": 43,
   "metadata": {},
   "outputs": [
    {
     "data": {
      "text/plain": [
       "0    72.666667\n",
       "1    82.333333\n",
       "2    92.666667\n",
       "3    49.333333\n",
       "4    76.333333\n",
       "Name: avg score, dtype: float64"
      ]
     },
     "execution_count": 43,
     "metadata": {},
     "output_type": "execute_result"
    },
    {
     "data": {
      "application/javascript": [
       "\n",
       "            setTimeout(function() {\n",
       "                var nbb_cell_id = 43;\n",
       "                var nbb_unformatted_code = \"students[\\\"avg score\\\"] = (\\n    students[\\\"math score\\\"] + students[\\\"reading score\\\"] + students[\\\"writing score\\\"]\\n) / 3\\nstudents['avg score'].head()\";\n",
       "                var nbb_formatted_code = \"students[\\\"avg score\\\"] = (\\n    students[\\\"math score\\\"] + students[\\\"reading score\\\"] + students[\\\"writing score\\\"]\\n) / 3\\nstudents[\\\"avg score\\\"].head()\";\n",
       "                var nbb_cells = Jupyter.notebook.get_cells();\n",
       "                for (var i = 0; i < nbb_cells.length; ++i) {\n",
       "                    if (nbb_cells[i].input_prompt_number == nbb_cell_id) {\n",
       "                        if (nbb_cells[i].get_text() == nbb_unformatted_code) {\n",
       "                             nbb_cells[i].set_text(nbb_formatted_code);\n",
       "                        }\n",
       "                        break;\n",
       "                    }\n",
       "                }\n",
       "            }, 500);\n",
       "            "
      ],
      "text/plain": [
       "<IPython.core.display.Javascript object>"
      ]
     },
     "metadata": {},
     "output_type": "display_data"
    },
    {
     "data": {
      "application/javascript": [
       "\n",
       "            setTimeout(function() {\n",
       "                var nbb_cell_id = 43;\n",
       "                var nbb_unformatted_code = \"students[\\\"avg score\\\"] = (\\n    students[\\\"math score\\\"] + students[\\\"reading score\\\"] + students[\\\"writing score\\\"]\\n) / 3\\nstudents['avg score'].head()\";\n",
       "                var nbb_formatted_code = \"students[\\\"avg score\\\"] = (\\n    students[\\\"math score\\\"] + students[\\\"reading score\\\"] + students[\\\"writing score\\\"]\\n) / 3\\nstudents[\\\"avg score\\\"].head()\";\n",
       "                var nbb_cells = Jupyter.notebook.get_cells();\n",
       "                for (var i = 0; i < nbb_cells.length; ++i) {\n",
       "                    if (nbb_cells[i].input_prompt_number == nbb_cell_id) {\n",
       "                        if (nbb_cells[i].get_text() == nbb_unformatted_code) {\n",
       "                             nbb_cells[i].set_text(nbb_formatted_code);\n",
       "                        }\n",
       "                        break;\n",
       "                    }\n",
       "                }\n",
       "            }, 500);\n",
       "            "
      ],
      "text/plain": [
       "<IPython.core.display.Javascript object>"
      ]
     },
     "metadata": {},
     "output_type": "display_data"
    },
    {
     "data": {
      "application/javascript": [
       "\n",
       "            setTimeout(function() {\n",
       "                var nbb_cell_id = 43;\n",
       "                var nbb_unformatted_code = \"students[\\\"avg score\\\"] = (\\n    students[\\\"math score\\\"] + students[\\\"reading score\\\"] + students[\\\"writing score\\\"]\\n) / 3\\nstudents['avg score'].head()\";\n",
       "                var nbb_formatted_code = \"students[\\\"avg score\\\"] = (\\n    students[\\\"math score\\\"] + students[\\\"reading score\\\"] + students[\\\"writing score\\\"]\\n) / 3\\nstudents[\\\"avg score\\\"].head()\";\n",
       "                var nbb_cells = Jupyter.notebook.get_cells();\n",
       "                for (var i = 0; i < nbb_cells.length; ++i) {\n",
       "                    if (nbb_cells[i].input_prompt_number == nbb_cell_id) {\n",
       "                        if (nbb_cells[i].get_text() == nbb_unformatted_code) {\n",
       "                             nbb_cells[i].set_text(nbb_formatted_code);\n",
       "                        }\n",
       "                        break;\n",
       "                    }\n",
       "                }\n",
       "            }, 500);\n",
       "            "
      ],
      "text/plain": [
       "<IPython.core.display.Javascript object>"
      ]
     },
     "metadata": {},
     "output_type": "display_data"
    },
    {
     "data": {
      "application/javascript": [
       "\n",
       "            setTimeout(function() {\n",
       "                var nbb_cell_id = 43;\n",
       "                var nbb_unformatted_code = \"students[\\\"avg score\\\"] = (\\n    students[\\\"math score\\\"] + students[\\\"reading score\\\"] + students[\\\"writing score\\\"]\\n) / 3\\nstudents['avg score'].head()\";\n",
       "                var nbb_formatted_code = \"students[\\\"avg score\\\"] = (\\n    students[\\\"math score\\\"] + students[\\\"reading score\\\"] + students[\\\"writing score\\\"]\\n) / 3\\nstudents[\\\"avg score\\\"].head()\";\n",
       "                var nbb_cells = Jupyter.notebook.get_cells();\n",
       "                for (var i = 0; i < nbb_cells.length; ++i) {\n",
       "                    if (nbb_cells[i].input_prompt_number == nbb_cell_id) {\n",
       "                        if (nbb_cells[i].get_text() == nbb_unformatted_code) {\n",
       "                             nbb_cells[i].set_text(nbb_formatted_code);\n",
       "                        }\n",
       "                        break;\n",
       "                    }\n",
       "                }\n",
       "            }, 500);\n",
       "            "
      ],
      "text/plain": [
       "<IPython.core.display.Javascript object>"
      ]
     },
     "metadata": {},
     "output_type": "display_data"
    }
   ],
   "source": [
    "students[\"avg score\"] = (\n",
    "    students[\"math score\"] + students[\"reading score\"] + students[\"writing score\"]\n",
    ") / 3\n",
    "students[\"avg score\"].head()"
   ]
  },
  {
   "cell_type": "code",
   "execution_count": 45,
   "metadata": {},
   "outputs": [
    {
     "data": {
      "text/plain": [
       "NormaltestResult(statistic=10.127189207749474, pvalue=0.006322790687068094)"
      ]
     },
     "execution_count": 45,
     "metadata": {},
     "output_type": "execute_result"
    },
    {
     "data": {
      "application/javascript": [
       "\n",
       "            setTimeout(function() {\n",
       "                var nbb_cell_id = 45;\n",
       "                var nbb_unformatted_code = \"normaltest(students[\\\"avg score\\\"])\\n# not normal, boxcox it\";\n",
       "                var nbb_formatted_code = \"normaltest(students[\\\"avg score\\\"])\\n# not normal, boxcox it\";\n",
       "                var nbb_cells = Jupyter.notebook.get_cells();\n",
       "                for (var i = 0; i < nbb_cells.length; ++i) {\n",
       "                    if (nbb_cells[i].input_prompt_number == nbb_cell_id) {\n",
       "                        if (nbb_cells[i].get_text() == nbb_unformatted_code) {\n",
       "                             nbb_cells[i].set_text(nbb_formatted_code);\n",
       "                        }\n",
       "                        break;\n",
       "                    }\n",
       "                }\n",
       "            }, 500);\n",
       "            "
      ],
      "text/plain": [
       "<IPython.core.display.Javascript object>"
      ]
     },
     "metadata": {},
     "output_type": "display_data"
    },
    {
     "data": {
      "application/javascript": [
       "\n",
       "            setTimeout(function() {\n",
       "                var nbb_cell_id = 45;\n",
       "                var nbb_unformatted_code = \"normaltest(students[\\\"avg score\\\"])\\n# not normal, boxcox it\";\n",
       "                var nbb_formatted_code = \"normaltest(students[\\\"avg score\\\"])\\n# not normal, boxcox it\";\n",
       "                var nbb_cells = Jupyter.notebook.get_cells();\n",
       "                for (var i = 0; i < nbb_cells.length; ++i) {\n",
       "                    if (nbb_cells[i].input_prompt_number == nbb_cell_id) {\n",
       "                        if (nbb_cells[i].get_text() == nbb_unformatted_code) {\n",
       "                             nbb_cells[i].set_text(nbb_formatted_code);\n",
       "                        }\n",
       "                        break;\n",
       "                    }\n",
       "                }\n",
       "            }, 500);\n",
       "            "
      ],
      "text/plain": [
       "<IPython.core.display.Javascript object>"
      ]
     },
     "metadata": {},
     "output_type": "display_data"
    },
    {
     "data": {
      "application/javascript": [
       "\n",
       "            setTimeout(function() {\n",
       "                var nbb_cell_id = 45;\n",
       "                var nbb_unformatted_code = \"normaltest(students[\\\"avg score\\\"])\\n# not normal, boxcox it\";\n",
       "                var nbb_formatted_code = \"normaltest(students[\\\"avg score\\\"])\\n# not normal, boxcox it\";\n",
       "                var nbb_cells = Jupyter.notebook.get_cells();\n",
       "                for (var i = 0; i < nbb_cells.length; ++i) {\n",
       "                    if (nbb_cells[i].input_prompt_number == nbb_cell_id) {\n",
       "                        if (nbb_cells[i].get_text() == nbb_unformatted_code) {\n",
       "                             nbb_cells[i].set_text(nbb_formatted_code);\n",
       "                        }\n",
       "                        break;\n",
       "                    }\n",
       "                }\n",
       "            }, 500);\n",
       "            "
      ],
      "text/plain": [
       "<IPython.core.display.Javascript object>"
      ]
     },
     "metadata": {},
     "output_type": "display_data"
    },
    {
     "data": {
      "application/javascript": [
       "\n",
       "            setTimeout(function() {\n",
       "                var nbb_cell_id = 45;\n",
       "                var nbb_unformatted_code = \"normaltest(students[\\\"avg score\\\"])\\n# not normal, boxcox it\";\n",
       "                var nbb_formatted_code = \"normaltest(students[\\\"avg score\\\"])\\n# not normal, boxcox it\";\n",
       "                var nbb_cells = Jupyter.notebook.get_cells();\n",
       "                for (var i = 0; i < nbb_cells.length; ++i) {\n",
       "                    if (nbb_cells[i].input_prompt_number == nbb_cell_id) {\n",
       "                        if (nbb_cells[i].get_text() == nbb_unformatted_code) {\n",
       "                             nbb_cells[i].set_text(nbb_formatted_code);\n",
       "                        }\n",
       "                        break;\n",
       "                    }\n",
       "                }\n",
       "            }, 500);\n",
       "            "
      ],
      "text/plain": [
       "<IPython.core.display.Javascript object>"
      ]
     },
     "metadata": {},
     "output_type": "display_data"
    }
   ],
   "source": [
    "normaltest(students[\"avg score\"])\n",
    "# not normal, boxcox it"
   ]
  },
  {
   "cell_type": "code",
   "execution_count": 47,
   "metadata": {},
   "outputs": [
    {
     "data": {
      "text/plain": [
       "NormaltestResult(statistic=4.219879978703656, pvalue=0.12124524222064059)"
      ]
     },
     "execution_count": 47,
     "metadata": {},
     "output_type": "execute_result"
    },
    {
     "data": {
      "application/javascript": [
       "\n",
       "            setTimeout(function() {\n",
       "                var nbb_cell_id = 47;\n",
       "                var nbb_unformatted_code = \"avg_score_boxcox, _ = boxcox(students[\\\"avg score\\\"])\\nnormaltest(avg_score_boxcox)\";\n",
       "                var nbb_formatted_code = \"avg_score_boxcox, _ = boxcox(students[\\\"avg score\\\"])\\nnormaltest(avg_score_boxcox)\";\n",
       "                var nbb_cells = Jupyter.notebook.get_cells();\n",
       "                for (var i = 0; i < nbb_cells.length; ++i) {\n",
       "                    if (nbb_cells[i].input_prompt_number == nbb_cell_id) {\n",
       "                        if (nbb_cells[i].get_text() == nbb_unformatted_code) {\n",
       "                             nbb_cells[i].set_text(nbb_formatted_code);\n",
       "                        }\n",
       "                        break;\n",
       "                    }\n",
       "                }\n",
       "            }, 500);\n",
       "            "
      ],
      "text/plain": [
       "<IPython.core.display.Javascript object>"
      ]
     },
     "metadata": {},
     "output_type": "display_data"
    },
    {
     "data": {
      "application/javascript": [
       "\n",
       "            setTimeout(function() {\n",
       "                var nbb_cell_id = 47;\n",
       "                var nbb_unformatted_code = \"avg_score_boxcox, _ = boxcox(students[\\\"avg score\\\"])\\nnormaltest(avg_score_boxcox)\";\n",
       "                var nbb_formatted_code = \"avg_score_boxcox, _ = boxcox(students[\\\"avg score\\\"])\\nnormaltest(avg_score_boxcox)\";\n",
       "                var nbb_cells = Jupyter.notebook.get_cells();\n",
       "                for (var i = 0; i < nbb_cells.length; ++i) {\n",
       "                    if (nbb_cells[i].input_prompt_number == nbb_cell_id) {\n",
       "                        if (nbb_cells[i].get_text() == nbb_unformatted_code) {\n",
       "                             nbb_cells[i].set_text(nbb_formatted_code);\n",
       "                        }\n",
       "                        break;\n",
       "                    }\n",
       "                }\n",
       "            }, 500);\n",
       "            "
      ],
      "text/plain": [
       "<IPython.core.display.Javascript object>"
      ]
     },
     "metadata": {},
     "output_type": "display_data"
    },
    {
     "data": {
      "application/javascript": [
       "\n",
       "            setTimeout(function() {\n",
       "                var nbb_cell_id = 47;\n",
       "                var nbb_unformatted_code = \"avg_score_boxcox, _ = boxcox(students[\\\"avg score\\\"])\\nnormaltest(avg_score_boxcox)\";\n",
       "                var nbb_formatted_code = \"avg_score_boxcox, _ = boxcox(students[\\\"avg score\\\"])\\nnormaltest(avg_score_boxcox)\";\n",
       "                var nbb_cells = Jupyter.notebook.get_cells();\n",
       "                for (var i = 0; i < nbb_cells.length; ++i) {\n",
       "                    if (nbb_cells[i].input_prompt_number == nbb_cell_id) {\n",
       "                        if (nbb_cells[i].get_text() == nbb_unformatted_code) {\n",
       "                             nbb_cells[i].set_text(nbb_formatted_code);\n",
       "                        }\n",
       "                        break;\n",
       "                    }\n",
       "                }\n",
       "            }, 500);\n",
       "            "
      ],
      "text/plain": [
       "<IPython.core.display.Javascript object>"
      ]
     },
     "metadata": {},
     "output_type": "display_data"
    },
    {
     "data": {
      "application/javascript": [
       "\n",
       "            setTimeout(function() {\n",
       "                var nbb_cell_id = 47;\n",
       "                var nbb_unformatted_code = \"avg_score_boxcox, _ = boxcox(students[\\\"avg score\\\"])\\nnormaltest(avg_score_boxcox)\";\n",
       "                var nbb_formatted_code = \"avg_score_boxcox, _ = boxcox(students[\\\"avg score\\\"])\\nnormaltest(avg_score_boxcox)\";\n",
       "                var nbb_cells = Jupyter.notebook.get_cells();\n",
       "                for (var i = 0; i < nbb_cells.length; ++i) {\n",
       "                    if (nbb_cells[i].input_prompt_number == nbb_cell_id) {\n",
       "                        if (nbb_cells[i].get_text() == nbb_unformatted_code) {\n",
       "                             nbb_cells[i].set_text(nbb_formatted_code);\n",
       "                        }\n",
       "                        break;\n",
       "                    }\n",
       "                }\n",
       "            }, 500);\n",
       "            "
      ],
      "text/plain": [
       "<IPython.core.display.Javascript object>"
      ]
     },
     "metadata": {},
     "output_type": "display_data"
    }
   ],
   "source": [
    "avg_score_boxcox, _ = boxcox(students[\"avg score\"])\n",
    "normaltest(avg_score_boxcox)\n",
    "# it's normal!"
   ]
  },
  {
   "cell_type": "markdown",
   "metadata": {},
   "source": [
    "3. Which variables seem related to the target variable (the newly created variable in the previous question)? If our goal is to explain the determinants of success in exams, which variables in our dataset might be useful?"
   ]
  },
  {
   "cell_type": "code",
   "execution_count": 53,
   "metadata": {},
   "outputs": [
    {
     "name": "stdout",
     "output_type": "stream",
     "text": [
      "<class 'pandas.core.frame.DataFrame'>\n",
      "Int64Index: 999 entries, 0 to 999\n",
      "Data columns (total 9 columns):\n",
      " #   Column                       Non-Null Count  Dtype  \n",
      "---  ------                       --------------  -----  \n",
      " 0   gender                       999 non-null    object \n",
      " 1   race/ethnicity               999 non-null    object \n",
      " 2   parental level of education  999 non-null    object \n",
      " 3   lunch                        999 non-null    object \n",
      " 4   test preparation course      999 non-null    object \n",
      " 5   math score                   999 non-null    int64  \n",
      " 6   reading score                999 non-null    int64  \n",
      " 7   writing score                999 non-null    int64  \n",
      " 8   avg score                    999 non-null    float64\n",
      "dtypes: float64(1), int64(3), object(5)\n",
      "memory usage: 78.0+ KB\n"
     ]
    },
    {
     "data": {
      "application/javascript": [
       "\n",
       "            setTimeout(function() {\n",
       "                var nbb_cell_id = 53;\n",
       "                var nbb_unformatted_code = \"students.info()\";\n",
       "                var nbb_formatted_code = \"students.info()\";\n",
       "                var nbb_cells = Jupyter.notebook.get_cells();\n",
       "                for (var i = 0; i < nbb_cells.length; ++i) {\n",
       "                    if (nbb_cells[i].input_prompt_number == nbb_cell_id) {\n",
       "                        if (nbb_cells[i].get_text() == nbb_unformatted_code) {\n",
       "                             nbb_cells[i].set_text(nbb_formatted_code);\n",
       "                        }\n",
       "                        break;\n",
       "                    }\n",
       "                }\n",
       "            }, 500);\n",
       "            "
      ],
      "text/plain": [
       "<IPython.core.display.Javascript object>"
      ]
     },
     "metadata": {},
     "output_type": "display_data"
    },
    {
     "data": {
      "application/javascript": [
       "\n",
       "            setTimeout(function() {\n",
       "                var nbb_cell_id = 53;\n",
       "                var nbb_unformatted_code = \"students.info()\";\n",
       "                var nbb_formatted_code = \"students.info()\";\n",
       "                var nbb_cells = Jupyter.notebook.get_cells();\n",
       "                for (var i = 0; i < nbb_cells.length; ++i) {\n",
       "                    if (nbb_cells[i].input_prompt_number == nbb_cell_id) {\n",
       "                        if (nbb_cells[i].get_text() == nbb_unformatted_code) {\n",
       "                             nbb_cells[i].set_text(nbb_formatted_code);\n",
       "                        }\n",
       "                        break;\n",
       "                    }\n",
       "                }\n",
       "            }, 500);\n",
       "            "
      ],
      "text/plain": [
       "<IPython.core.display.Javascript object>"
      ]
     },
     "metadata": {},
     "output_type": "display_data"
    },
    {
     "data": {
      "application/javascript": [
       "\n",
       "            setTimeout(function() {\n",
       "                var nbb_cell_id = 53;\n",
       "                var nbb_unformatted_code = \"students.info()\";\n",
       "                var nbb_formatted_code = \"students.info()\";\n",
       "                var nbb_cells = Jupyter.notebook.get_cells();\n",
       "                for (var i = 0; i < nbb_cells.length; ++i) {\n",
       "                    if (nbb_cells[i].input_prompt_number == nbb_cell_id) {\n",
       "                        if (nbb_cells[i].get_text() == nbb_unformatted_code) {\n",
       "                             nbb_cells[i].set_text(nbb_formatted_code);\n",
       "                        }\n",
       "                        break;\n",
       "                    }\n",
       "                }\n",
       "            }, 500);\n",
       "            "
      ],
      "text/plain": [
       "<IPython.core.display.Javascript object>"
      ]
     },
     "metadata": {},
     "output_type": "display_data"
    },
    {
     "data": {
      "application/javascript": [
       "\n",
       "            setTimeout(function() {\n",
       "                var nbb_cell_id = 53;\n",
       "                var nbb_unformatted_code = \"students.info()\";\n",
       "                var nbb_formatted_code = \"students.info()\";\n",
       "                var nbb_cells = Jupyter.notebook.get_cells();\n",
       "                for (var i = 0; i < nbb_cells.length; ++i) {\n",
       "                    if (nbb_cells[i].input_prompt_number == nbb_cell_id) {\n",
       "                        if (nbb_cells[i].get_text() == nbb_unformatted_code) {\n",
       "                             nbb_cells[i].set_text(nbb_formatted_code);\n",
       "                        }\n",
       "                        break;\n",
       "                    }\n",
       "                }\n",
       "            }, 500);\n",
       "            "
      ],
      "text/plain": [
       "<IPython.core.display.Javascript object>"
      ]
     },
     "metadata": {},
     "output_type": "display_data"
    }
   ],
   "source": [
    "students.info()"
   ]
  },
  {
   "cell_type": "code",
   "execution_count": 57,
   "metadata": {},
   "outputs": [
    {
     "data": {
      "application/javascript": [
       "\n",
       "            setTimeout(function() {\n",
       "                var nbb_cell_id = 57;\n",
       "                var nbb_unformatted_code = \"poss_feats = students[\\n    [\\n        \\\"gender\\\",\\n        \\\"race/ethnicity\\\",\\n        \\\"parental level of education\\\",\\n        \\\"lunch\\\",\\n        \\\"test preparation course\\\",\\n    ]\\n]\";\n",
       "                var nbb_formatted_code = \"poss_feats = students[\\n    [\\n        \\\"gender\\\",\\n        \\\"race/ethnicity\\\",\\n        \\\"parental level of education\\\",\\n        \\\"lunch\\\",\\n        \\\"test preparation course\\\",\\n    ]\\n]\";\n",
       "                var nbb_cells = Jupyter.notebook.get_cells();\n",
       "                for (var i = 0; i < nbb_cells.length; ++i) {\n",
       "                    if (nbb_cells[i].input_prompt_number == nbb_cell_id) {\n",
       "                        if (nbb_cells[i].get_text() == nbb_unformatted_code) {\n",
       "                             nbb_cells[i].set_text(nbb_formatted_code);\n",
       "                        }\n",
       "                        break;\n",
       "                    }\n",
       "                }\n",
       "            }, 500);\n",
       "            "
      ],
      "text/plain": [
       "<IPython.core.display.Javascript object>"
      ]
     },
     "metadata": {},
     "output_type": "display_data"
    },
    {
     "data": {
      "application/javascript": [
       "\n",
       "            setTimeout(function() {\n",
       "                var nbb_cell_id = 57;\n",
       "                var nbb_unformatted_code = \"poss_feats = students[\\n    [\\n        \\\"gender\\\",\\n        \\\"race/ethnicity\\\",\\n        \\\"parental level of education\\\",\\n        \\\"lunch\\\",\\n        \\\"test preparation course\\\",\\n    ]\\n]\";\n",
       "                var nbb_formatted_code = \"poss_feats = students[\\n    [\\n        \\\"gender\\\",\\n        \\\"race/ethnicity\\\",\\n        \\\"parental level of education\\\",\\n        \\\"lunch\\\",\\n        \\\"test preparation course\\\",\\n    ]\\n]\";\n",
       "                var nbb_cells = Jupyter.notebook.get_cells();\n",
       "                for (var i = 0; i < nbb_cells.length; ++i) {\n",
       "                    if (nbb_cells[i].input_prompt_number == nbb_cell_id) {\n",
       "                        if (nbb_cells[i].get_text() == nbb_unformatted_code) {\n",
       "                             nbb_cells[i].set_text(nbb_formatted_code);\n",
       "                        }\n",
       "                        break;\n",
       "                    }\n",
       "                }\n",
       "            }, 500);\n",
       "            "
      ],
      "text/plain": [
       "<IPython.core.display.Javascript object>"
      ]
     },
     "metadata": {},
     "output_type": "display_data"
    },
    {
     "data": {
      "application/javascript": [
       "\n",
       "            setTimeout(function() {\n",
       "                var nbb_cell_id = 57;\n",
       "                var nbb_unformatted_code = \"poss_feats = students[\\n    [\\n        \\\"gender\\\",\\n        \\\"race/ethnicity\\\",\\n        \\\"parental level of education\\\",\\n        \\\"lunch\\\",\\n        \\\"test preparation course\\\",\\n    ]\\n]\";\n",
       "                var nbb_formatted_code = \"poss_feats = students[\\n    [\\n        \\\"gender\\\",\\n        \\\"race/ethnicity\\\",\\n        \\\"parental level of education\\\",\\n        \\\"lunch\\\",\\n        \\\"test preparation course\\\",\\n    ]\\n]\";\n",
       "                var nbb_cells = Jupyter.notebook.get_cells();\n",
       "                for (var i = 0; i < nbb_cells.length; ++i) {\n",
       "                    if (nbb_cells[i].input_prompt_number == nbb_cell_id) {\n",
       "                        if (nbb_cells[i].get_text() == nbb_unformatted_code) {\n",
       "                             nbb_cells[i].set_text(nbb_formatted_code);\n",
       "                        }\n",
       "                        break;\n",
       "                    }\n",
       "                }\n",
       "            }, 500);\n",
       "            "
      ],
      "text/plain": [
       "<IPython.core.display.Javascript object>"
      ]
     },
     "metadata": {},
     "output_type": "display_data"
    },
    {
     "data": {
      "application/javascript": [
       "\n",
       "            setTimeout(function() {\n",
       "                var nbb_cell_id = 57;\n",
       "                var nbb_unformatted_code = \"poss_feats = students[\\n    [\\n        \\\"gender\\\",\\n        \\\"race/ethnicity\\\",\\n        \\\"parental level of education\\\",\\n        \\\"lunch\\\",\\n        \\\"test preparation course\\\",\\n    ]\\n]\";\n",
       "                var nbb_formatted_code = \"poss_feats = students[\\n    [\\n        \\\"gender\\\",\\n        \\\"race/ethnicity\\\",\\n        \\\"parental level of education\\\",\\n        \\\"lunch\\\",\\n        \\\"test preparation course\\\",\\n    ]\\n]\";\n",
       "                var nbb_cells = Jupyter.notebook.get_cells();\n",
       "                for (var i = 0; i < nbb_cells.length; ++i) {\n",
       "                    if (nbb_cells[i].input_prompt_number == nbb_cell_id) {\n",
       "                        if (nbb_cells[i].get_text() == nbb_unformatted_code) {\n",
       "                             nbb_cells[i].set_text(nbb_formatted_code);\n",
       "                        }\n",
       "                        break;\n",
       "                    }\n",
       "                }\n",
       "            }, 500);\n",
       "            "
      ],
      "text/plain": [
       "<IPython.core.display.Javascript object>"
      ]
     },
     "metadata": {},
     "output_type": "display_data"
    }
   ],
   "source": [
    "poss_feats = students[\n",
    "    [\n",
    "        \"gender\",\n",
    "        \"race/ethnicity\",\n",
    "        \"parental level of education\",\n",
    "        \"lunch\",\n",
    "        \"test preparation course\",\n",
    "    ]\n",
    "]\n",
    "\n"
   ]
  },
  {
   "cell_type": "code",
   "execution_count": null,
   "metadata": {},
   "outputs": [],
   "source": []
  },
  {
   "cell_type": "code",
   "execution_count": null,
   "metadata": {},
   "outputs": [],
   "source": []
  },
  {
   "cell_type": "code",
   "execution_count": 60,
   "metadata": {},
   "outputs": [
    {
     "data": {
      "image/png": "[encoded data removed]",
      "text/plain": [
       "<Figure size 1296x720 with 5 Axes>"
      ]
     },
     "metadata": {},
     "output_type": "display_data"
    },
    {
     "data": {
      "application/javascript": [
       "\n",
       "            setTimeout(function() {\n",
       "                var nbb_cell_id = 60;\n",
       "                var nbb_unformatted_code = \"# make each plot individually.\\n# thank you, readings|\\n\\nplt.figure(figsize=(18, 10))\\n\\nplt.subplot(2, 3, 1)\\nplt.bar(\\n    students.groupby(\\\"race/ethnicity\\\")[\\\"avg score\\\"].mean().index,\\n    students.groupby(\\\"race/ethnicity\\\")[\\\"avg score\\\"].mean(),\\n)\\n\\nplt.title(\\\"average exam scores wrt. race/ethnicity\\\")\\nplt.xticks(rotation=\\\"vertical\\\")\\n\\nplt.subplot(2, 3, 2)\\nplt.bar(\\n    students.groupby(\\\"gender\\\")[\\\"avg score\\\"].mean().index,\\n    students.groupby(\\\"gender\\\")[\\\"avg score\\\"].mean(),\\n)\\n\\nplt.title(\\\"average exam scores wrt. gender\\\")\\nplt.xticks(rotation=\\\"vertical\\\")\\n\\nplt.subplot(2, 3, 3)\\nplt.bar(\\n    students.groupby(\\\"parental level of education\\\")[\\\"avg score\\\"].mean().index,\\n    students.groupby(\\\"parental level of education\\\")[\\\"avg score\\\"].mean(),\\n)\\n\\nplt.title(\\\"average exam scores wrt. parental level of education\\\")\\nplt.xticks(rotation=\\\"vertical\\\")\\n\\nplt.subplot(2, 3, 4)\\nplt.bar(\\n    students.groupby(\\\"lunch\\\")[\\\"avg score\\\"].mean().index,\\n    students.groupby(\\\"lunch\\\")[\\\"avg score\\\"].mean(),\\n)\\n\\nplt.title(\\\"average exam scores wrt. lunch\\\")\\nplt.xticks(rotation=\\\"vertical\\\")\\n\\nplt.subplot(2, 3, 5)\\nplt.bar(\\n    students.groupby(\\\"test preparation course\\\")[\\\"avg score\\\"].mean().index,\\n    students.groupby(\\\"test preparation course\\\")[\\\"avg score\\\"].mean(),\\n)\\n\\nplt.title(\\\"average exam scores wrt. test preparation course\\\")\\nplt.xticks(rotation=\\\"vertical\\\")\\n\\nplt.tight_layout()\\nplt.show()\";\n",
       "                var nbb_formatted_code = \"# make each plot individually.\\n# thank you, readings|\\n\\nplt.figure(figsize=(18, 10))\\n\\nplt.subplot(2, 3, 1)\\nplt.bar(\\n    students.groupby(\\\"race/ethnicity\\\")[\\\"avg score\\\"].mean().index,\\n    students.groupby(\\\"race/ethnicity\\\")[\\\"avg score\\\"].mean(),\\n)\\n\\nplt.title(\\\"average exam scores wrt. race/ethnicity\\\")\\nplt.xticks(rotation=\\\"vertical\\\")\\n\\nplt.subplot(2, 3, 2)\\nplt.bar(\\n    students.groupby(\\\"gender\\\")[\\\"avg score\\\"].mean().index,\\n    students.groupby(\\\"gender\\\")[\\\"avg score\\\"].mean(),\\n)\\n\\nplt.title(\\\"average exam scores wrt. gender\\\")\\nplt.xticks(rotation=\\\"vertical\\\")\\n\\nplt.subplot(2, 3, 3)\\nplt.bar(\\n    students.groupby(\\\"parental level of education\\\")[\\\"avg score\\\"].mean().index,\\n    students.groupby(\\\"parental level of education\\\")[\\\"avg score\\\"].mean(),\\n)\\n\\nplt.title(\\\"average exam scores wrt. parental level of education\\\")\\nplt.xticks(rotation=\\\"vertical\\\")\\n\\nplt.subplot(2, 3, 4)\\nplt.bar(\\n    students.groupby(\\\"lunch\\\")[\\\"avg score\\\"].mean().index,\\n    students.groupby(\\\"lunch\\\")[\\\"avg score\\\"].mean(),\\n)\\n\\nplt.title(\\\"average exam scores wrt. lunch\\\")\\nplt.xticks(rotation=\\\"vertical\\\")\\n\\nplt.subplot(2, 3, 5)\\nplt.bar(\\n    students.groupby(\\\"test preparation course\\\")[\\\"avg score\\\"].mean().index,\\n    students.groupby(\\\"test preparation course\\\")[\\\"avg score\\\"].mean(),\\n)\\n\\nplt.title(\\\"average exam scores wrt. test preparation course\\\")\\nplt.xticks(rotation=\\\"vertical\\\")\\n\\nplt.tight_layout()\\nplt.show()\";\n",
       "                var nbb_cells = Jupyter.notebook.get_cells();\n",
       "                for (var i = 0; i < nbb_cells.length; ++i) {\n",
       "                    if (nbb_cells[i].input_prompt_number == nbb_cell_id) {\n",
       "                        if (nbb_cells[i].get_text() == nbb_unformatted_code) {\n",
       "                             nbb_cells[i].set_text(nbb_formatted_code);\n",
       "                        }\n",
       "                        break;\n",
       "                    }\n",
       "                }\n",
       "            }, 500);\n",
       "            "
      ],
      "text/plain": [
       "<IPython.core.display.Javascript object>"
      ]
     },
     "metadata": {},
     "output_type": "display_data"
    },
    {
     "data": {
      "application/javascript": [
       "\n",
       "            setTimeout(function() {\n",
       "                var nbb_cell_id = 60;\n",
       "                var nbb_unformatted_code = \"# make each plot individually.\\n# thank you, readings|\\n\\nplt.figure(figsize=(18, 10))\\n\\nplt.subplot(2, 3, 1)\\nplt.bar(\\n    students.groupby(\\\"race/ethnicity\\\")[\\\"avg score\\\"].mean().index,\\n    students.groupby(\\\"race/ethnicity\\\")[\\\"avg score\\\"].mean(),\\n)\\n\\nplt.title(\\\"average exam scores wrt. race/ethnicity\\\")\\nplt.xticks(rotation=\\\"vertical\\\")\\n\\nplt.subplot(2, 3, 2)\\nplt.bar(\\n    students.groupby(\\\"gender\\\")[\\\"avg score\\\"].mean().index,\\n    students.groupby(\\\"gender\\\")[\\\"avg score\\\"].mean(),\\n)\\n\\nplt.title(\\\"average exam scores wrt. gender\\\")\\nplt.xticks(rotation=\\\"vertical\\\")\\n\\nplt.subplot(2, 3, 3)\\nplt.bar(\\n    students.groupby(\\\"parental level of education\\\")[\\\"avg score\\\"].mean().index,\\n    students.groupby(\\\"parental level of education\\\")[\\\"avg score\\\"].mean(),\\n)\\n\\nplt.title(\\\"average exam scores wrt. parental level of education\\\")\\nplt.xticks(rotation=\\\"vertical\\\")\\n\\nplt.subplot(2, 3, 4)\\nplt.bar(\\n    students.groupby(\\\"lunch\\\")[\\\"avg score\\\"].mean().index,\\n    students.groupby(\\\"lunch\\\")[\\\"avg score\\\"].mean(),\\n)\\n\\nplt.title(\\\"average exam scores wrt. lunch\\\")\\nplt.xticks(rotation=\\\"vertical\\\")\\n\\nplt.subplot(2, 3, 5)\\nplt.bar(\\n    students.groupby(\\\"test preparation course\\\")[\\\"avg score\\\"].mean().index,\\n    students.groupby(\\\"test preparation course\\\")[\\\"avg score\\\"].mean(),\\n)\\n\\nplt.title(\\\"average exam scores wrt. test preparation course\\\")\\nplt.xticks(rotation=\\\"vertical\\\")\\n\\nplt.tight_layout()\\nplt.show()\";\n",
       "                var nbb_formatted_code = \"# make each plot individually.\\n# thank you, readings|\\n\\nplt.figure(figsize=(18, 10))\\n\\nplt.subplot(2, 3, 1)\\nplt.bar(\\n    students.groupby(\\\"race/ethnicity\\\")[\\\"avg score\\\"].mean().index,\\n    students.groupby(\\\"race/ethnicity\\\")[\\\"avg score\\\"].mean(),\\n)\\n\\nplt.title(\\\"average exam scores wrt. race/ethnicity\\\")\\nplt.xticks(rotation=\\\"vertical\\\")\\n\\nplt.subplot(2, 3, 2)\\nplt.bar(\\n    students.groupby(\\\"gender\\\")[\\\"avg score\\\"].mean().index,\\n    students.groupby(\\\"gender\\\")[\\\"avg score\\\"].mean(),\\n)\\n\\nplt.title(\\\"average exam scores wrt. gender\\\")\\nplt.xticks(rotation=\\\"vertical\\\")\\n\\nplt.subplot(2, 3, 3)\\nplt.bar(\\n    students.groupby(\\\"parental level of education\\\")[\\\"avg score\\\"].mean().index,\\n    students.groupby(\\\"parental level of education\\\")[\\\"avg score\\\"].mean(),\\n)\\n\\nplt.title(\\\"average exam scores wrt. parental level of education\\\")\\nplt.xticks(rotation=\\\"vertical\\\")\\n\\nplt.subplot(2, 3, 4)\\nplt.bar(\\n    students.groupby(\\\"lunch\\\")[\\\"avg score\\\"].mean().index,\\n    students.groupby(\\\"lunch\\\")[\\\"avg score\\\"].mean(),\\n)\\n\\nplt.title(\\\"average exam scores wrt. lunch\\\")\\nplt.xticks(rotation=\\\"vertical\\\")\\n\\nplt.subplot(2, 3, 5)\\nplt.bar(\\n    students.groupby(\\\"test preparation course\\\")[\\\"avg score\\\"].mean().index,\\n    students.groupby(\\\"test preparation course\\\")[\\\"avg score\\\"].mean(),\\n)\\n\\nplt.title(\\\"average exam scores wrt. test preparation course\\\")\\nplt.xticks(rotation=\\\"vertical\\\")\\n\\nplt.tight_layout()\\nplt.show()\";\n",
       "                var nbb_cells = Jupyter.notebook.get_cells();\n",
       "                for (var i = 0; i < nbb_cells.length; ++i) {\n",
       "                    if (nbb_cells[i].input_prompt_number == nbb_cell_id) {\n",
       "                        if (nbb_cells[i].get_text() == nbb_unformatted_code) {\n",
       "                             nbb_cells[i].set_text(nbb_formatted_code);\n",
       "                        }\n",
       "                        break;\n",
       "                    }\n",
       "                }\n",
       "            }, 500);\n",
       "            "
      ],
      "text/plain": [
       "<IPython.core.display.Javascript object>"
      ]
     },
     "metadata": {},
     "output_type": "display_data"
    },
    {
     "data": {
      "application/javascript": [
       "\n",
       "            setTimeout(function() {\n",
       "                var nbb_cell_id = 60;\n",
       "                var nbb_unformatted_code = \"# make each plot individually.\\n# thank you, readings|\\n\\nplt.figure(figsize=(18, 10))\\n\\nplt.subplot(2, 3, 1)\\nplt.bar(\\n    students.groupby(\\\"race/ethnicity\\\")[\\\"avg score\\\"].mean().index,\\n    students.groupby(\\\"race/ethnicity\\\")[\\\"avg score\\\"].mean(),\\n)\\n\\nplt.title(\\\"average exam scores wrt. race/ethnicity\\\")\\nplt.xticks(rotation=\\\"vertical\\\")\\n\\nplt.subplot(2, 3, 2)\\nplt.bar(\\n    students.groupby(\\\"gender\\\")[\\\"avg score\\\"].mean().index,\\n    students.groupby(\\\"gender\\\")[\\\"avg score\\\"].mean(),\\n)\\n\\nplt.title(\\\"average exam scores wrt. gender\\\")\\nplt.xticks(rotation=\\\"vertical\\\")\\n\\nplt.subplot(2, 3, 3)\\nplt.bar(\\n    students.groupby(\\\"parental level of education\\\")[\\\"avg score\\\"].mean().index,\\n    students.groupby(\\\"parental level of education\\\")[\\\"avg score\\\"].mean(),\\n)\\n\\nplt.title(\\\"average exam scores wrt. parental level of education\\\")\\nplt.xticks(rotation=\\\"vertical\\\")\\n\\nplt.subplot(2, 3, 4)\\nplt.bar(\\n    students.groupby(\\\"lunch\\\")[\\\"avg score\\\"].mean().index,\\n    students.groupby(\\\"lunch\\\")[\\\"avg score\\\"].mean(),\\n)\\n\\nplt.title(\\\"average exam scores wrt. lunch\\\")\\nplt.xticks(rotation=\\\"vertical\\\")\\n\\nplt.subplot(2, 3, 5)\\nplt.bar(\\n    students.groupby(\\\"test preparation course\\\")[\\\"avg score\\\"].mean().index,\\n    students.groupby(\\\"test preparation course\\\")[\\\"avg score\\\"].mean(),\\n)\\n\\nplt.title(\\\"average exam scores wrt. test preparation course\\\")\\nplt.xticks(rotation=\\\"vertical\\\")\\n\\nplt.tight_layout()\\nplt.show()\";\n",
       "                var nbb_formatted_code = \"# make each plot individually.\\n# thank you, readings|\\n\\nplt.figure(figsize=(18, 10))\\n\\nplt.subplot(2, 3, 1)\\nplt.bar(\\n    students.groupby(\\\"race/ethnicity\\\")[\\\"avg score\\\"].mean().index,\\n    students.groupby(\\\"race/ethnicity\\\")[\\\"avg score\\\"].mean(),\\n)\\n\\nplt.title(\\\"average exam scores wrt. race/ethnicity\\\")\\nplt.xticks(rotation=\\\"vertical\\\")\\n\\nplt.subplot(2, 3, 2)\\nplt.bar(\\n    students.groupby(\\\"gender\\\")[\\\"avg score\\\"].mean().index,\\n    students.groupby(\\\"gender\\\")[\\\"avg score\\\"].mean(),\\n)\\n\\nplt.title(\\\"average exam scores wrt. gender\\\")\\nplt.xticks(rotation=\\\"vertical\\\")\\n\\nplt.subplot(2, 3, 3)\\nplt.bar(\\n    students.groupby(\\\"parental level of education\\\")[\\\"avg score\\\"].mean().index,\\n    students.groupby(\\\"parental level of education\\\")[\\\"avg score\\\"].mean(),\\n)\\n\\nplt.title(\\\"average exam scores wrt. parental level of education\\\")\\nplt.xticks(rotation=\\\"vertical\\\")\\n\\nplt.subplot(2, 3, 4)\\nplt.bar(\\n    students.groupby(\\\"lunch\\\")[\\\"avg score\\\"].mean().index,\\n    students.groupby(\\\"lunch\\\")[\\\"avg score\\\"].mean(),\\n)\\n\\nplt.title(\\\"average exam scores wrt. lunch\\\")\\nplt.xticks(rotation=\\\"vertical\\\")\\n\\nplt.subplot(2, 3, 5)\\nplt.bar(\\n    students.groupby(\\\"test preparation course\\\")[\\\"avg score\\\"].mean().index,\\n    students.groupby(\\\"test preparation course\\\")[\\\"avg score\\\"].mean(),\\n)\\n\\nplt.title(\\\"average exam scores wrt. test preparation course\\\")\\nplt.xticks(rotation=\\\"vertical\\\")\\n\\nplt.tight_layout()\\nplt.show()\";\n",
       "                var nbb_cells = Jupyter.notebook.get_cells();\n",
       "                for (var i = 0; i < nbb_cells.length; ++i) {\n",
       "                    if (nbb_cells[i].input_prompt_number == nbb_cell_id) {\n",
       "                        if (nbb_cells[i].get_text() == nbb_unformatted_code) {\n",
       "                             nbb_cells[i].set_text(nbb_formatted_code);\n",
       "                        }\n",
       "                        break;\n",
       "                    }\n",
       "                }\n",
       "            }, 500);\n",
       "            "
      ],
      "text/plain": [
       "<IPython.core.display.Javascript object>"
      ]
     },
     "metadata": {},
     "output_type": "display_data"
    },
    {
     "data": {
      "application/javascript": [
       "\n",
       "            setTimeout(function() {\n",
       "                var nbb_cell_id = 60;\n",
       "                var nbb_unformatted_code = \"# make each plot individually.\\n# thank you, readings|\\n\\nplt.figure(figsize=(18, 10))\\n\\nplt.subplot(2, 3, 1)\\nplt.bar(\\n    students.groupby(\\\"race/ethnicity\\\")[\\\"avg score\\\"].mean().index,\\n    students.groupby(\\\"race/ethnicity\\\")[\\\"avg score\\\"].mean(),\\n)\\n\\nplt.title(\\\"average exam scores wrt. race/ethnicity\\\")\\nplt.xticks(rotation=\\\"vertical\\\")\\n\\nplt.subplot(2, 3, 2)\\nplt.bar(\\n    students.groupby(\\\"gender\\\")[\\\"avg score\\\"].mean().index,\\n    students.groupby(\\\"gender\\\")[\\\"avg score\\\"].mean(),\\n)\\n\\nplt.title(\\\"average exam scores wrt. gender\\\")\\nplt.xticks(rotation=\\\"vertical\\\")\\n\\nplt.subplot(2, 3, 3)\\nplt.bar(\\n    students.groupby(\\\"parental level of education\\\")[\\\"avg score\\\"].mean().index,\\n    students.groupby(\\\"parental level of education\\\")[\\\"avg score\\\"].mean(),\\n)\\n\\nplt.title(\\\"average exam scores wrt. parental level of education\\\")\\nplt.xticks(rotation=\\\"vertical\\\")\\n\\nplt.subplot(2, 3, 4)\\nplt.bar(\\n    students.groupby(\\\"lunch\\\")[\\\"avg score\\\"].mean().index,\\n    students.groupby(\\\"lunch\\\")[\\\"avg score\\\"].mean(),\\n)\\n\\nplt.title(\\\"average exam scores wrt. lunch\\\")\\nplt.xticks(rotation=\\\"vertical\\\")\\n\\nplt.subplot(2, 3, 5)\\nplt.bar(\\n    students.groupby(\\\"test preparation course\\\")[\\\"avg score\\\"].mean().index,\\n    students.groupby(\\\"test preparation course\\\")[\\\"avg score\\\"].mean(),\\n)\\n\\nplt.title(\\\"average exam scores wrt. test preparation course\\\")\\nplt.xticks(rotation=\\\"vertical\\\")\\n\\nplt.tight_layout()\\nplt.show()\";\n",
       "                var nbb_formatted_code = \"# make each plot individually.\\n# thank you, readings|\\n\\nplt.figure(figsize=(18, 10))\\n\\nplt.subplot(2, 3, 1)\\nplt.bar(\\n    students.groupby(\\\"race/ethnicity\\\")[\\\"avg score\\\"].mean().index,\\n    students.groupby(\\\"race/ethnicity\\\")[\\\"avg score\\\"].mean(),\\n)\\n\\nplt.title(\\\"average exam scores wrt. race/ethnicity\\\")\\nplt.xticks(rotation=\\\"vertical\\\")\\n\\nplt.subplot(2, 3, 2)\\nplt.bar(\\n    students.groupby(\\\"gender\\\")[\\\"avg score\\\"].mean().index,\\n    students.groupby(\\\"gender\\\")[\\\"avg score\\\"].mean(),\\n)\\n\\nplt.title(\\\"average exam scores wrt. gender\\\")\\nplt.xticks(rotation=\\\"vertical\\\")\\n\\nplt.subplot(2, 3, 3)\\nplt.bar(\\n    students.groupby(\\\"parental level of education\\\")[\\\"avg score\\\"].mean().index,\\n    students.groupby(\\\"parental level of education\\\")[\\\"avg score\\\"].mean(),\\n)\\n\\nplt.title(\\\"average exam scores wrt. parental level of education\\\")\\nplt.xticks(rotation=\\\"vertical\\\")\\n\\nplt.subplot(2, 3, 4)\\nplt.bar(\\n    students.groupby(\\\"lunch\\\")[\\\"avg score\\\"].mean().index,\\n    students.groupby(\\\"lunch\\\")[\\\"avg score\\\"].mean(),\\n)\\n\\nplt.title(\\\"average exam scores wrt. lunch\\\")\\nplt.xticks(rotation=\\\"vertical\\\")\\n\\nplt.subplot(2, 3, 5)\\nplt.bar(\\n    students.groupby(\\\"test preparation course\\\")[\\\"avg score\\\"].mean().index,\\n    students.groupby(\\\"test preparation course\\\")[\\\"avg score\\\"].mean(),\\n)\\n\\nplt.title(\\\"average exam scores wrt. test preparation course\\\")\\nplt.xticks(rotation=\\\"vertical\\\")\\n\\nplt.tight_layout()\\nplt.show()\";\n",
       "                var nbb_cells = Jupyter.notebook.get_cells();\n",
       "                for (var i = 0; i < nbb_cells.length; ++i) {\n",
       "                    if (nbb_cells[i].input_prompt_number == nbb_cell_id) {\n",
       "                        if (nbb_cells[i].get_text() == nbb_unformatted_code) {\n",
       "                             nbb_cells[i].set_text(nbb_formatted_code);\n",
       "                        }\n",
       "                        break;\n",
       "                    }\n",
       "                }\n",
       "            }, 500);\n",
       "            "
      ],
      "text/plain": [
       "<IPython.core.display.Javascript object>"
      ]
     },
     "metadata": {},
     "output_type": "display_data"
    }
   ],
   "source": [
    "# make each plot individually.\n",
    "# thank you, readings\n",
    "\n",
    "plt.figure(figsize=(18, 10))\n",
    "\n",
    "plt.subplot(2, 3, 1)\n",
    "plt.bar(\n",
    "    students.groupby(\"race/ethnicity\")[\"avg score\"].mean().index,\n",
    "    students.groupby(\"race/ethnicity\")[\"avg score\"].mean(),\n",
    ")\n",
    "\n",
    "plt.title(\"average exam scores wrt. race/ethnicity\")\n",
    "plt.xticks(rotation=\"vertical\")\n",
    "\n",
    "plt.subplot(2, 3, 2)\n",
    "plt.bar(\n",
    "    students.groupby(\"gender\")[\"avg score\"].mean().index,\n",
    "    students.groupby(\"gender\")[\"avg score\"].mean(),\n",
    ")\n",
    "\n",
    "plt.title(\"average exam scores wrt. gender\")\n",
    "plt.xticks(rotation=\"vertical\")\n",
    "\n",
    "plt.subplot(2, 3, 3)\n",
    "plt.bar(\n",
    "    students.groupby(\"parental level of education\")[\"avg score\"].mean().index,\n",
    "    students.groupby(\"parental level of education\")[\"avg score\"].mean(),\n",
    ")\n",
    "\n",
    "plt.title(\"average exam scores wrt. parental level of education\")\n",
    "plt.xticks(rotation=\"vertical\")\n",
    "\n",
    "plt.subplot(2, 3, 4)\n",
    "plt.bar(\n",
    "    students.groupby(\"lunch\")[\"avg score\"].mean().index,\n",
    "    students.groupby(\"lunch\")[\"avg score\"].mean(),\n",
    ")\n",
    "\n",
    "plt.title(\"average exam scores wrt. lunch\")\n",
    "plt.xticks(rotation=\"vertical\")\n",
    "\n",
    "plt.subplot(2, 3, 5)\n",
    "plt.bar(\n",
    "    students.groupby(\"test preparation course\")[\"avg score\"].mean().index,\n",
    "    students.groupby(\"test preparation course\")[\"avg score\"].mean(),\n",
    ")\n",
    "\n",
    "plt.title(\"average exam scores wrt. test preparation course\")\n",
    "plt.xticks(rotation=\"vertical\")\n",
    "\n",
    "plt.tight_layout()\n",
    "plt.show()"
   ]
  },
  {
   "cell_type": "code",
   "execution_count": null,
   "metadata": {},
   "outputs": [],
   "source": []
  }
 ],
 "metadata": {
  "kernelspec": {
   "display_name": "Python 3",
   "language": "python",
   "name": "python3"
  },
  "language_info": {
   "codemirror_mode": {
    "name": "ipython",
    "version": 3
   },
   "file_extension": ".py",
   "mimetype": "text/x-python",
   "name": "python",
   "nbconvert_exporter": "python",
   "pygments_lexer": "ipython3",
   "version": "3.7.6"
  }
 },
 "nbformat": 4,
 "nbformat_minor": 4
}
