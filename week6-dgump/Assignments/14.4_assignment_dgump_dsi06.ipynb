{
 "cells": [
  {
   "cell_type": "code",
   "execution_count": 1,
   "metadata": {},
   "outputs": [
    {
     "data": {
      "application/javascript": [
       "\n",
       "            setTimeout(function() {\n",
       "                var nbb_cell_id = 1;\n",
       "                var nbb_unformatted_code = \"%reload_ext nb_black\";\n",
       "                var nbb_formatted_code = \"%reload_ext nb_black\";\n",
       "                var nbb_cells = Jupyter.notebook.get_cells();\n",
       "                for (var i = 0; i < nbb_cells.length; ++i) {\n",
       "                    if (nbb_cells[i].input_prompt_number == nbb_cell_id) {\n",
       "                        if (nbb_cells[i].get_text() == nbb_unformatted_code) {\n",
       "                             nbb_cells[i].set_text(nbb_formatted_code);\n",
       "                        }\n",
       "                        break;\n",
       "                    }\n",
       "                }\n",
       "            }, 500);\n",
       "            "
      ],
      "text/plain": [
       "<IPython.core.display.Javascript object>"
      ]
     },
     "metadata": {},
     "output_type": "display_data"
    }
   ],
   "source": [
    "%reload_ext nb_black"
   ]
  },
  {
   "cell_type": "code",
   "execution_count": 33,
   "metadata": {},
   "outputs": [
    {
     "data": {
      "application/javascript": [
       "\n",
       "            setTimeout(function() {\n",
       "                var nbb_cell_id = 33;\n",
       "                var nbb_unformatted_code = \"import pandas as pd\\nimport numpy as np\\nfrom sqlalchemy import create_engine\\nimport warnings\\nimport seaborn as sns\\nfrom scipy.stats.mstats import winsorize\\nfrom matplotlib import pyplot as plt\\n\\nwarnings.filterwarnings(\\\"ignore\\\")\";\n",
       "                var nbb_formatted_code = \"import pandas as pd\\nimport numpy as np\\nfrom sqlalchemy import create_engine\\nimport warnings\\nimport seaborn as sns\\nfrom scipy.stats.mstats import winsorize\\nfrom matplotlib import pyplot as plt\\n\\nwarnings.filterwarnings(\\\"ignore\\\")\";\n",
       "                var nbb_cells = Jupyter.notebook.get_cells();\n",
       "                for (var i = 0; i < nbb_cells.length; ++i) {\n",
       "                    if (nbb_cells[i].input_prompt_number == nbb_cell_id) {\n",
       "                        if (nbb_cells[i].get_text() == nbb_unformatted_code) {\n",
       "                             nbb_cells[i].set_text(nbb_formatted_code);\n",
       "                        }\n",
       "                        break;\n",
       "                    }\n",
       "                }\n",
       "            }, 500);\n",
       "            "
      ],
      "text/plain": [
       "<IPython.core.display.Javascript object>"
      ]
     },
     "metadata": {},
     "output_type": "display_data"
    }
   ],
   "source": [
    "import pandas as pd\n",
    "import numpy as np\n",
    "from sqlalchemy import create_engine\n",
    "import warnings\n",
    "import seaborn as sns\n",
    "from scipy.stats.mstats import winsorize\n",
    "from matplotlib import pyplot as plt\n",
    "\n",
    "warnings.filterwarnings(\"ignore\")"
   ]
  },
  {
   "cell_type": "code",
   "execution_count": 3,
   "metadata": {},
   "outputs": [
    {
     "data": {
      "application/javascript": [
       "\n",
       "            setTimeout(function() {\n",
       "                var nbb_cell_id = 3;\n",
       "                var nbb_unformatted_code = \"postgres_user = \\\"dsbc_student\\\"\\npostgres_pw = \\\"7*.8G9QH21\\\"\\npostgres_host = \\\"142.93.121.174\\\"\\npostgres_port = \\\"5432\\\"\\npostgres_db = \\\"useducation\\\"\\n\\nengine = create_engine(\\n    \\\"postgresql://{}:{}@{}:{}/{}\\\".format(\\n        postgres_user, postgres_pw, postgres_host, postgres_port, postgres_db\\n    )\\n)\\n\\nus_edu = pd.read_sql_query(\\\"select * from useducation\\\", con=engine)\\n\\nengine.dispose()\";\n",
       "                var nbb_formatted_code = \"postgres_user = \\\"dsbc_student\\\"\\npostgres_pw = \\\"7*.8G9QH21\\\"\\npostgres_host = \\\"142.93.121.174\\\"\\npostgres_port = \\\"5432\\\"\\npostgres_db = \\\"useducation\\\"\\n\\nengine = create_engine(\\n    \\\"postgresql://{}:{}@{}:{}/{}\\\".format(\\n        postgres_user, postgres_pw, postgres_host, postgres_port, postgres_db\\n    )\\n)\\n\\nus_edu = pd.read_sql_query(\\\"select * from useducation\\\", con=engine)\\n\\nengine.dispose()\";\n",
       "                var nbb_cells = Jupyter.notebook.get_cells();\n",
       "                for (var i = 0; i < nbb_cells.length; ++i) {\n",
       "                    if (nbb_cells[i].input_prompt_number == nbb_cell_id) {\n",
       "                        if (nbb_cells[i].get_text() == nbb_unformatted_code) {\n",
       "                             nbb_cells[i].set_text(nbb_formatted_code);\n",
       "                        }\n",
       "                        break;\n",
       "                    }\n",
       "                }\n",
       "            }, 500);\n",
       "            "
      ],
      "text/plain": [
       "<IPython.core.display.Javascript object>"
      ]
     },
     "metadata": {},
     "output_type": "display_data"
    }
   ],
   "source": [
    "postgres_user = \"dsbc_student\"\n",
    "postgres_pw = \"7*.8G9QH21\"\n",
    "postgres_host = \"142.93.121.174\"\n",
    "postgres_port = \"5432\"\n",
    "postgres_db = \"useducation\"\n",
    "\n",
    "engine = create_engine(\n",
    "    \"postgresql://{}:{}@{}:{}/{}\".format(\n",
    "        postgres_user, postgres_pw, postgres_host, postgres_port, postgres_db\n",
    "    )\n",
    ")\n",
    "\n",
    "us_edu = pd.read_sql_query(\"select * from useducation\", con=engine)\n",
    "\n",
    "engine.dispose()"
   ]
  },
  {
   "cell_type": "code",
   "execution_count": 4,
   "metadata": {},
   "outputs": [
    {
     "name": "stdout",
     "output_type": "stream",
     "text": [
      "<class 'pandas.core.frame.DataFrame'>\n",
      "RangeIndex: 1492 entries, 0 to 1491\n",
      "Data columns (total 25 columns):\n",
      " #   Column                        Non-Null Count  Dtype  \n",
      "---  ------                        --------------  -----  \n",
      " 0   PRIMARY_KEY                   1492 non-null   object \n",
      " 1   STATE                         1492 non-null   object \n",
      " 2   YEAR                          1492 non-null   int64  \n",
      " 3   ENROLL                        1229 non-null   float64\n",
      " 4   TOTAL_REVENUE                 1280 non-null   float64\n",
      " 5   FEDERAL_REVENUE               1280 non-null   float64\n",
      " 6   STATE_REVENUE                 1280 non-null   float64\n",
      " 7   LOCAL_REVENUE                 1280 non-null   float64\n",
      " 8   TOTAL_EXPENDITURE             1280 non-null   float64\n",
      " 9   INSTRUCTION_EXPENDITURE       1280 non-null   float64\n",
      " 10  SUPPORT_SERVICES_EXPENDITURE  1280 non-null   float64\n",
      " 11  OTHER_EXPENDITURE             1229 non-null   float64\n",
      " 12  CAPITAL_OUTLAY_EXPENDITURE    1280 non-null   float64\n",
      " 13  GRADES_PK_G                   1319 non-null   float64\n",
      " 14  GRADES_KG_G                   1360 non-null   float64\n",
      " 15  GRADES_4_G                    1361 non-null   float64\n",
      " 16  GRADES_8_G                    1361 non-null   float64\n",
      " 17  GRADES_12_G                   1361 non-null   float64\n",
      " 18  GRADES_1_8_G                  1361 non-null   float64\n",
      " 19  GRADES_9_12_G                 1361 non-null   float64\n",
      " 20  GRADES_ALL_G                  1319 non-null   float64\n",
      " 21  AVG_MATH_4_SCORE              536 non-null    float64\n",
      " 22  AVG_MATH_8_SCORE              532 non-null    float64\n",
      " 23  AVG_READING_4_SCORE           533 non-null    float64\n",
      " 24  AVG_READING_8_SCORE           498 non-null    float64\n",
      "dtypes: float64(22), int64(1), object(2)\n",
      "memory usage: 291.5+ KB\n"
     ]
    },
    {
     "data": {
      "application/javascript": [
       "\n",
       "            setTimeout(function() {\n",
       "                var nbb_cell_id = 4;\n",
       "                var nbb_unformatted_code = \"us_edu.info()\";\n",
       "                var nbb_formatted_code = \"us_edu.info()\";\n",
       "                var nbb_cells = Jupyter.notebook.get_cells();\n",
       "                for (var i = 0; i < nbb_cells.length; ++i) {\n",
       "                    if (nbb_cells[i].input_prompt_number == nbb_cell_id) {\n",
       "                        if (nbb_cells[i].get_text() == nbb_unformatted_code) {\n",
       "                             nbb_cells[i].set_text(nbb_formatted_code);\n",
       "                        }\n",
       "                        break;\n",
       "                    }\n",
       "                }\n",
       "            }, 500);\n",
       "            "
      ],
      "text/plain": [
       "<IPython.core.display.Javascript object>"
      ]
     },
     "metadata": {},
     "output_type": "display_data"
    }
   ],
   "source": [
    "us_edu.info()"
   ]
  },
  {
   "cell_type": "code",
   "execution_count": 5,
   "metadata": {},
   "outputs": [
    {
     "data": {
      "application/javascript": [
       "\n",
       "            setTimeout(function() {\n",
       "                var nbb_cell_id = 5;\n",
       "                var nbb_unformatted_code = \"# thank  you, notes\\nfill_list = [\\n    \\\"ENROLL\\\",\\n    \\\"TOTAL_REVENUE\\\",\\n    \\\"FEDERAL_REVENUE\\\",\\n    \\\"STATE_REVENUE\\\",\\n    \\\"LOCAL_REVENUE\\\",\\n    \\\"TOTAL_EXPENDITURE\\\",\\n    \\\"INSTRUCTION_EXPENDITURE\\\",\\n    \\\"SUPPORT_SERVICES_EXPENDITURE\\\",\\n    \\\"OTHER_EXPENDITURE\\\",\\n    \\\"CAPITAL_OUTLAY_EXPENDITURE\\\",\\n    \\\"GRADES_PK_G\\\",\\n    \\\"GRADES_KG_G\\\",\\n    \\\"GRADES_4_G\\\",\\n    \\\"GRADES_8_G\\\",\\n    \\\"GRADES_12_G\\\",\\n    \\\"GRADES_1_8_G\\\",\\n    \\\"GRADES_9_12_G\\\",\\n    \\\"GRADES_ALL_G\\\",\\n]\\n\\nstates = us_edu[\\\"STATE\\\"].unique()\\n\\nfor state in states:\\n    us_edu.loc[us_edu[\\\"STATE\\\"] == state, fill_list] = us_edu.loc[\\n        us_edu[\\\"STATE\\\"] == state, fill_list\\n    ].interpolate()\\n\\n# we drop the null values after interpolation\\nus_edu.dropna(inplace=True)\";\n",
       "                var nbb_formatted_code = \"# thank  you, notes\\nfill_list = [\\n    \\\"ENROLL\\\",\\n    \\\"TOTAL_REVENUE\\\",\\n    \\\"FEDERAL_REVENUE\\\",\\n    \\\"STATE_REVENUE\\\",\\n    \\\"LOCAL_REVENUE\\\",\\n    \\\"TOTAL_EXPENDITURE\\\",\\n    \\\"INSTRUCTION_EXPENDITURE\\\",\\n    \\\"SUPPORT_SERVICES_EXPENDITURE\\\",\\n    \\\"OTHER_EXPENDITURE\\\",\\n    \\\"CAPITAL_OUTLAY_EXPENDITURE\\\",\\n    \\\"GRADES_PK_G\\\",\\n    \\\"GRADES_KG_G\\\",\\n    \\\"GRADES_4_G\\\",\\n    \\\"GRADES_8_G\\\",\\n    \\\"GRADES_12_G\\\",\\n    \\\"GRADES_1_8_G\\\",\\n    \\\"GRADES_9_12_G\\\",\\n    \\\"GRADES_ALL_G\\\",\\n]\\n\\nstates = us_edu[\\\"STATE\\\"].unique()\\n\\nfor state in states:\\n    us_edu.loc[us_edu[\\\"STATE\\\"] == state, fill_list] = us_edu.loc[\\n        us_edu[\\\"STATE\\\"] == state, fill_list\\n    ].interpolate()\\n\\n# we drop the null values after interpolation\\nus_edu.dropna(inplace=True)\";\n",
       "                var nbb_cells = Jupyter.notebook.get_cells();\n",
       "                for (var i = 0; i < nbb_cells.length; ++i) {\n",
       "                    if (nbb_cells[i].input_prompt_number == nbb_cell_id) {\n",
       "                        if (nbb_cells[i].get_text() == nbb_unformatted_code) {\n",
       "                             nbb_cells[i].set_text(nbb_formatted_code);\n",
       "                        }\n",
       "                        break;\n",
       "                    }\n",
       "                }\n",
       "            }, 500);\n",
       "            "
      ],
      "text/plain": [
       "<IPython.core.display.Javascript object>"
      ]
     },
     "metadata": {},
     "output_type": "display_data"
    }
   ],
   "source": [
    "# thank  you, notes\n",
    "fill_list = [\n",
    "    \"ENROLL\",\n",
    "    \"TOTAL_REVENUE\",\n",
    "    \"FEDERAL_REVENUE\",\n",
    "    \"STATE_REVENUE\",\n",
    "    \"LOCAL_REVENUE\",\n",
    "    \"TOTAL_EXPENDITURE\",\n",
    "    \"INSTRUCTION_EXPENDITURE\",\n",
    "    \"SUPPORT_SERVICES_EXPENDITURE\",\n",
    "    \"OTHER_EXPENDITURE\",\n",
    "    \"CAPITAL_OUTLAY_EXPENDITURE\",\n",
    "    \"GRADES_PK_G\",\n",
    "    \"GRADES_KG_G\",\n",
    "    \"GRADES_4_G\",\n",
    "    \"GRADES_8_G\",\n",
    "    \"GRADES_12_G\",\n",
    "    \"GRADES_1_8_G\",\n",
    "    \"GRADES_9_12_G\",\n",
    "    \"GRADES_ALL_G\",\n",
    "]\n",
    "\n",
    "states = us_edu[\"STATE\"].unique()\n",
    "\n",
    "for state in states:\n",
    "    us_edu.loc[us_edu[\"STATE\"] == state, fill_list] = us_edu.loc[\n",
    "        us_edu[\"STATE\"] == state, fill_list\n",
    "    ].interpolate()\n",
    "\n",
    "# we drop the null values after interpolation\n",
    "us_edu.dropna(inplace=True)"
   ]
  },
  {
   "cell_type": "markdown",
   "metadata": {},
   "source": [
    "1. Consider the two variables: TOTAL_REVENUE and TOTAL_EXPENDITURE. Do these variables have outlier values?"
   ]
  },
  {
   "cell_type": "code",
   "execution_count": 20,
   "metadata": {},
   "outputs": [
    {
     "data": {
      "text/plain": [
       "<matplotlib.axes._subplots.AxesSubplot at 0x1bfac568cc8>"
      ]
     },
     "execution_count": 20,
     "metadata": {},
     "output_type": "execute_result"
    },
    {
     "data": {
      "image/png": "[encoded data removed]",
      "text/plain": [
       "<Figure size 432x288 with 1 Axes>"
      ]
     },
     "metadata": {
      "needs_background": "light"
     },
     "output_type": "display_data"
    },
    {
     "data": {
      "application/javascript": [
       "\n",
       "            setTimeout(function() {\n",
       "                var nbb_cell_id = 20;\n",
       "                var nbb_unformatted_code = \"# visual inspection for outliers, boxplot\\nsns.boxplot(us_edu[\\\"TOTAL_REVENUE\\\"], whis=1.5)\";\n",
       "                var nbb_formatted_code = \"# visual inspection for outliers, boxplot\\nsns.boxplot(us_edu[\\\"TOTAL_REVENUE\\\"], whis=1.5)\";\n",
       "                var nbb_cells = Jupyter.notebook.get_cells();\n",
       "                for (var i = 0; i < nbb_cells.length; ++i) {\n",
       "                    if (nbb_cells[i].input_prompt_number == nbb_cell_id) {\n",
       "                        if (nbb_cells[i].get_text() == nbb_unformatted_code) {\n",
       "                             nbb_cells[i].set_text(nbb_formatted_code);\n",
       "                        }\n",
       "                        break;\n",
       "                    }\n",
       "                }\n",
       "            }, 500);\n",
       "            "
      ],
      "text/plain": [
       "<IPython.core.display.Javascript object>"
      ]
     },
     "metadata": {},
     "output_type": "display_data"
    }
   ],
   "source": [
    "# visual inspection for outliers, boxplot\n",
    "sns.boxplot(us_edu[\"TOTAL_REVENUE\"], whis=1.5)\n"
   ]
  },
  {
   "cell_type": "code",
   "execution_count": 12,
   "metadata": {},
   "outputs": [
    {
     "name": "stdout",
     "output_type": "stream",
     "text": [
      "The score threshold is: 1.5\n"
     ]
    },
    {
     "data": {
      "application/javascript": [
       "\n",
       "            setTimeout(function() {\n",
       "                var nbb_cell_id = 12;\n",
       "                var nbb_unformatted_code = \"# looks like some outliers, check with stats\\nq75, q25 = np.percentile(us_edu[\\\"TOTAL_REVENUE\\\"], [75, 25])\\niqr = q75 - q25\\nthreshold = 1.5\\nmin_val = q25 - (iqr * threshold)\\nmax_val = q75 + (iqr * threshold)\\nout_count = 0\\n\\nprint(\\\"The score threshold is: {}\\\".format(threshold))\\n# print(\\\"Number of outliers is: {}\\\".format()\\n\\n\\noutliers_df = us_edu\\nfor rev in us_edu[\\\"TOTAL_REVENUE\\\"]:\\n    if rev < min_val or rev > max_val:\\n        outliers_df = outliers_df.drop(\\n            outliers_df.loc[outliers_df[\\\"TOTAL_REVENUE\\\"] == rev].index\\n        )\";\n",
       "                var nbb_formatted_code = \"# looks like some outliers, check with stats\\nq75, q25 = np.percentile(us_edu[\\\"TOTAL_REVENUE\\\"], [75, 25])\\niqr = q75 - q25\\nthreshold = 1.5\\nmin_val = q25 - (iqr * threshold)\\nmax_val = q75 + (iqr * threshold)\\nout_count = 0\\n\\nprint(\\\"The score threshold is: {}\\\".format(threshold))\\n# print(\\\"Number of outliers is: {}\\\".format()\\n\\n\\noutliers_df = us_edu\\nfor rev in us_edu[\\\"TOTAL_REVENUE\\\"]:\\n    if rev < min_val or rev > max_val:\\n        outliers_df = outliers_df.drop(\\n            outliers_df.loc[outliers_df[\\\"TOTAL_REVENUE\\\"] == rev].index\\n        )\";\n",
       "                var nbb_cells = Jupyter.notebook.get_cells();\n",
       "                for (var i = 0; i < nbb_cells.length; ++i) {\n",
       "                    if (nbb_cells[i].input_prompt_number == nbb_cell_id) {\n",
       "                        if (nbb_cells[i].get_text() == nbb_unformatted_code) {\n",
       "                             nbb_cells[i].set_text(nbb_formatted_code);\n",
       "                        }\n",
       "                        break;\n",
       "                    }\n",
       "                }\n",
       "            }, 500);\n",
       "            "
      ],
      "text/plain": [
       "<IPython.core.display.Javascript object>"
      ]
     },
     "metadata": {},
     "output_type": "display_data"
    }
   ],
   "source": [
    "# looks like some outliers, check with stats\n",
    "q75, q25 = np.percentile(us_edu[\"TOTAL_REVENUE\"], [75, 25])\n",
    "iqr = q75 - q25\n",
    "threshold = 1.5\n",
    "min_val = q25 - (iqr * threshold)\n",
    "max_val = q75 + (iqr * threshold)\n",
    "out_count = 0\n",
    "\n",
    "outliers_df = us_edu\n",
    "for rev in us_edu[\"TOTAL_REVENUE\"]:\n",
    "    if rev < min_val or rev > max_val:\n",
    "        outliers_df = outliers_df.drop(\n",
    "            outliers_df.loc[outliers_df[\"TOTAL_REVENUE\"] == rev].index\n",
    "        )"
   ]
  },
  {
   "cell_type": "code",
   "execution_count": 13,
   "metadata": {},
   "outputs": [
    {
     "name": "stdout",
     "output_type": "stream",
     "text": [
      "<class 'pandas.core.frame.DataFrame'>\n",
      "Int64Index: 421 entries, 209 to 1491\n",
      "Data columns (total 25 columns):\n",
      " #   Column                        Non-Null Count  Dtype  \n",
      "---  ------                        --------------  -----  \n",
      " 0   PRIMARY_KEY                   421 non-null    object \n",
      " 1   STATE                         421 non-null    object \n",
      " 2   YEAR                          421 non-null    int64  \n",
      " 3   ENROLL                        421 non-null    float64\n",
      " 4   TOTAL_REVENUE                 421 non-null    float64\n",
      " 5   FEDERAL_REVENUE               421 non-null    float64\n",
      " 6   STATE_REVENUE                 421 non-null    float64\n",
      " 7   LOCAL_REVENUE                 421 non-null    float64\n",
      " 8   TOTAL_EXPENDITURE             421 non-null    float64\n",
      " 9   INSTRUCTION_EXPENDITURE       421 non-null    float64\n",
      " 10  SUPPORT_SERVICES_EXPENDITURE  421 non-null    float64\n",
      " 11  OTHER_EXPENDITURE             421 non-null    float64\n",
      " 12  CAPITAL_OUTLAY_EXPENDITURE    421 non-null    float64\n",
      " 13  GRADES_PK_G                   421 non-null    float64\n",
      " 14  GRADES_KG_G                   421 non-null    float64\n",
      " 15  GRADES_4_G                    421 non-null    float64\n",
      " 16  GRADES_8_G                    421 non-null    float64\n",
      " 17  GRADES_12_G                   421 non-null    float64\n",
      " 18  GRADES_1_8_G                  421 non-null    float64\n",
      " 19  GRADES_9_12_G                 421 non-null    float64\n",
      " 20  GRADES_ALL_G                  421 non-null    float64\n",
      " 21  AVG_MATH_4_SCORE              421 non-null    float64\n",
      " 22  AVG_MATH_8_SCORE              421 non-null    float64\n",
      " 23  AVG_READING_4_SCORE           421 non-null    float64\n",
      " 24  AVG_READING_8_SCORE           421 non-null    float64\n",
      "dtypes: float64(22), int64(1), object(2)\n",
      "memory usage: 85.5+ KB\n"
     ]
    },
    {
     "data": {
      "application/javascript": [
       "\n",
       "            setTimeout(function() {\n",
       "                var nbb_cell_id = 13;\n",
       "                var nbb_unformatted_code = \"outliers_df.info()\";\n",
       "                var nbb_formatted_code = \"outliers_df.info()\";\n",
       "                var nbb_cells = Jupyter.notebook.get_cells();\n",
       "                for (var i = 0; i < nbb_cells.length; ++i) {\n",
       "                    if (nbb_cells[i].input_prompt_number == nbb_cell_id) {\n",
       "                        if (nbb_cells[i].get_text() == nbb_unformatted_code) {\n",
       "                             nbb_cells[i].set_text(nbb_formatted_code);\n",
       "                        }\n",
       "                        break;\n",
       "                    }\n",
       "                }\n",
       "            }, 500);\n",
       "            "
      ],
      "text/plain": [
       "<IPython.core.display.Javascript object>"
      ]
     },
     "metadata": {},
     "output_type": "display_data"
    }
   ],
   "source": [
    "outliers_df.info()"
   ]
  },
  {
   "cell_type": "code",
   "execution_count": 14,
   "metadata": {},
   "outputs": [
    {
     "data": {
      "text/plain": [
       "<matplotlib.axes._subplots.AxesSubplot at 0x1bfad56a588>"
      ]
     },
     "execution_count": 14,
     "metadata": {},
     "output_type": "execute_result"
    },
    {
     "data": {
      "image/png": "[encoded data removed]",
      "text/plain": [
       "<Figure size 432x288 with 1 Axes>"
      ]
     },
     "metadata": {
      "needs_background": "light"
     },
     "output_type": "display_data"
    },
    {
     "data": {
      "application/javascript": [
       "\n",
       "            setTimeout(function() {\n",
       "                var nbb_cell_id = 14;\n",
       "                var nbb_unformatted_code = \"sns.boxplot(us_edu[\\\"TOTAL_EXPENDITURE\\\"])\";\n",
       "                var nbb_formatted_code = \"sns.boxplot(us_edu[\\\"TOTAL_EXPENDITURE\\\"])\";\n",
       "                var nbb_cells = Jupyter.notebook.get_cells();\n",
       "                for (var i = 0; i < nbb_cells.length; ++i) {\n",
       "                    if (nbb_cells[i].input_prompt_number == nbb_cell_id) {\n",
       "                        if (nbb_cells[i].get_text() == nbb_unformatted_code) {\n",
       "                             nbb_cells[i].set_text(nbb_formatted_code);\n",
       "                        }\n",
       "                        break;\n",
       "                    }\n",
       "                }\n",
       "            }, 500);\n",
       "            "
      ],
      "text/plain": [
       "<IPython.core.display.Javascript object>"
      ]
     },
     "metadata": {},
     "output_type": "display_data"
    }
   ],
   "source": [
    "sns.boxplot(us_edu[\"TOTAL_EXPENDITURE\"])\n"
   ]
  },
  {
   "cell_type": "code",
   "execution_count": 15,
   "metadata": {},
   "outputs": [
    {
     "data": {
      "application/javascript": [
       "\n",
       "            setTimeout(function() {\n",
       "                var nbb_cell_id = 15;\n",
       "                var nbb_unformatted_code = \"q75, q25 = np.percentile(us_edu[\\\"TOTAL_EXPENDITURE\\\"], [75, 25])\\niqr = q75 - q25\\nthreshold = 1.5\\nmin_val = q25 - (iqr * threshold)\\nmax_val = q75 + (iqr * threshold)\\nout_count = 0\\n\\noutliers_df = us_edu\\nfor rev in us_edu[\\\"TOTAL_EXPENDITURE\\\"]:\\n    if rev < min_val or rev > max_val:\\n        outliers_df = outliers_df.drop(\\n            outliers_df.loc[outliers_df[\\\"TOTAL_EXPENDITURE\\\"] == rev].index\\n        )\";\n",
       "                var nbb_formatted_code = \"q75, q25 = np.percentile(us_edu[\\\"TOTAL_EXPENDITURE\\\"], [75, 25])\\niqr = q75 - q25\\nthreshold = 1.5\\nmin_val = q25 - (iqr * threshold)\\nmax_val = q75 + (iqr * threshold)\\nout_count = 0\\n\\noutliers_df = us_edu\\nfor rev in us_edu[\\\"TOTAL_EXPENDITURE\\\"]:\\n    if rev < min_val or rev > max_val:\\n        outliers_df = outliers_df.drop(\\n            outliers_df.loc[outliers_df[\\\"TOTAL_EXPENDITURE\\\"] == rev].index\\n        )\";\n",
       "                var nbb_cells = Jupyter.notebook.get_cells();\n",
       "                for (var i = 0; i < nbb_cells.length; ++i) {\n",
       "                    if (nbb_cells[i].input_prompt_number == nbb_cell_id) {\n",
       "                        if (nbb_cells[i].get_text() == nbb_unformatted_code) {\n",
       "                             nbb_cells[i].set_text(nbb_formatted_code);\n",
       "                        }\n",
       "                        break;\n",
       "                    }\n",
       "                }\n",
       "            }, 500);\n",
       "            "
      ],
      "text/plain": [
       "<IPython.core.display.Javascript object>"
      ]
     },
     "metadata": {},
     "output_type": "display_data"
    }
   ],
   "source": [
    "q75, q25 = np.percentile(us_edu[\"TOTAL_EXPENDITURE\"], [75, 25])\n",
    "iqr = q75 - q25\n",
    "threshold = 1.5\n",
    "min_val = q25 - (iqr * threshold)\n",
    "max_val = q75 + (iqr * threshold)\n",
    "out_count = 0\n",
    "\n",
    "outliers_df = us_edu\n",
    "for rev in us_edu[\"TOTAL_EXPENDITURE\"]:\n",
    "    if rev < min_val or rev > max_val:\n",
    "        outliers_df = outliers_df.drop(\n",
    "            outliers_df.loc[outliers_df[\"TOTAL_EXPENDITURE\"] == rev].index\n",
    "        )"
   ]
  },
  {
   "cell_type": "code",
   "execution_count": 16,
   "metadata": {},
   "outputs": [
    {
     "name": "stdout",
     "output_type": "stream",
     "text": [
      "<class 'pandas.core.frame.DataFrame'>\n",
      "Int64Index: 420 entries, 209 to 1491\n",
      "Data columns (total 25 columns):\n",
      " #   Column                        Non-Null Count  Dtype  \n",
      "---  ------                        --------------  -----  \n",
      " 0   PRIMARY_KEY                   420 non-null    object \n",
      " 1   STATE                         420 non-null    object \n",
      " 2   YEAR                          420 non-null    int64  \n",
      " 3   ENROLL                        420 non-null    float64\n",
      " 4   TOTAL_REVENUE                 420 non-null    float64\n",
      " 5   FEDERAL_REVENUE               420 non-null    float64\n",
      " 6   STATE_REVENUE                 420 non-null    float64\n",
      " 7   LOCAL_REVENUE                 420 non-null    float64\n",
      " 8   TOTAL_EXPENDITURE             420 non-null    float64\n",
      " 9   INSTRUCTION_EXPENDITURE       420 non-null    float64\n",
      " 10  SUPPORT_SERVICES_EXPENDITURE  420 non-null    float64\n",
      " 11  OTHER_EXPENDITURE             420 non-null    float64\n",
      " 12  CAPITAL_OUTLAY_EXPENDITURE    420 non-null    float64\n",
      " 13  GRADES_PK_G                   420 non-null    float64\n",
      " 14  GRADES_KG_G                   420 non-null    float64\n",
      " 15  GRADES_4_G                    420 non-null    float64\n",
      " 16  GRADES_8_G                    420 non-null    float64\n",
      " 17  GRADES_12_G                   420 non-null    float64\n",
      " 18  GRADES_1_8_G                  420 non-null    float64\n",
      " 19  GRADES_9_12_G                 420 non-null    float64\n",
      " 20  GRADES_ALL_G                  420 non-null    float64\n",
      " 21  AVG_MATH_4_SCORE              420 non-null    float64\n",
      " 22  AVG_MATH_8_SCORE              420 non-null    float64\n",
      " 23  AVG_READING_4_SCORE           420 non-null    float64\n",
      " 24  AVG_READING_8_SCORE           420 non-null    float64\n",
      "dtypes: float64(22), int64(1), object(2)\n",
      "memory usage: 85.3+ KB\n"
     ]
    },
    {
     "data": {
      "application/javascript": [
       "\n",
       "            setTimeout(function() {\n",
       "                var nbb_cell_id = 16;\n",
       "                var nbb_unformatted_code = \"outliers_df.info()\";\n",
       "                var nbb_formatted_code = \"outliers_df.info()\";\n",
       "                var nbb_cells = Jupyter.notebook.get_cells();\n",
       "                for (var i = 0; i < nbb_cells.length; ++i) {\n",
       "                    if (nbb_cells[i].input_prompt_number == nbb_cell_id) {\n",
       "                        if (nbb_cells[i].get_text() == nbb_unformatted_code) {\n",
       "                             nbb_cells[i].set_text(nbb_formatted_code);\n",
       "                        }\n",
       "                        break;\n",
       "                    }\n",
       "                }\n",
       "            }, 500);\n",
       "            "
      ],
      "text/plain": [
       "<IPython.core.display.Javascript object>"
      ]
     },
     "metadata": {},
     "output_type": "display_data"
    }
   ],
   "source": [
    "outliers_df.info()"
   ]
  },
  {
   "cell_type": "markdown",
   "metadata": {},
   "source": [
    "2. If you detect outliers in the TOTAL_REVENUE and TOTAL_EXPENDITURE variables, apply the techniques you learned in this checkpoint to eliminate them and validate that there's no outlier values after you handled them."
   ]
  },
  {
   "cell_type": "code",
   "execution_count": 29,
   "metadata": {},
   "outputs": [
    {
     "data": {
      "application/javascript": [
       "\n",
       "            setTimeout(function() {\n",
       "                var nbb_cell_id = 29;\n",
       "                var nbb_unformatted_code = \"winsorized_revenue = winsorize(us_edu['TOTAL_REVENUE'], (0, 0.1))\\nwinsorized_expenditure = winsorize(us_edu['TOTAL_EXPENDITURE'], (0, 0.1))\";\n",
       "                var nbb_formatted_code = \"winsorized_revenue = winsorize(us_edu[\\\"TOTAL_REVENUE\\\"], (0, 0.1))\\nwinsorized_expenditure = winsorize(us_edu[\\\"TOTAL_EXPENDITURE\\\"], (0, 0.1))\";\n",
       "                var nbb_cells = Jupyter.notebook.get_cells();\n",
       "                for (var i = 0; i < nbb_cells.length; ++i) {\n",
       "                    if (nbb_cells[i].input_prompt_number == nbb_cell_id) {\n",
       "                        if (nbb_cells[i].get_text() == nbb_unformatted_code) {\n",
       "                             nbb_cells[i].set_text(nbb_formatted_code);\n",
       "                        }\n",
       "                        break;\n",
       "                    }\n",
       "                }\n",
       "            }, 500);\n",
       "            "
      ],
      "text/plain": [
       "<IPython.core.display.Javascript object>"
      ]
     },
     "metadata": {},
     "output_type": "display_data"
    }
   ],
   "source": [
    "winsorized_revenue = winsorize(us_edu[\"TOTAL_REVENUE\"], (0, 0.1))\n",
    "winsorized_expenditure = winsorize(us_edu[\"TOTAL_EXPENDITURE\"], (0, 0.1))"
   ]
  },
  {
   "cell_type": "code",
   "execution_count": 38,
   "metadata": {},
   "outputs": [
    {
     "data": {
      "image/png": "[encoded data removed]",
      "text/plain": [
       "<Figure size 432x288 with 1 Axes>"
      ]
     },
     "metadata": {
      "needs_background": "light"
     },
     "output_type": "display_data"
    },
    {
     "data": {
      "image/png": "[encoded data removed]",
      "text/plain": [
       "<Figure size 432x288 with 1 Axes>"
      ]
     },
     "metadata": {
      "needs_background": "light"
     },
     "output_type": "display_data"
    },
    {
     "data": {
      "application/javascript": [
       "\n",
       "            setTimeout(function() {\n",
       "                var nbb_cell_id = 38;\n",
       "                var nbb_unformatted_code = \"sns.boxplot(winsorized_revenue)\\nplt.title('winsorized revenue')\\nplt.show()\\n\\nsns.boxplot(winsorized_expenditure)\\nplt.title('winsorized expenditure')\\nplt.show()\";\n",
       "                var nbb_formatted_code = \"sns.boxplot(winsorized_revenue)\\nplt.title(\\\"winsorized revenue\\\")\\nplt.show()\\n\\nsns.boxplot(winsorized_expenditure)\\nplt.title(\\\"winsorized expenditure\\\")\\nplt.show()\";\n",
       "                var nbb_cells = Jupyter.notebook.get_cells();\n",
       "                for (var i = 0; i < nbb_cells.length; ++i) {\n",
       "                    if (nbb_cells[i].input_prompt_number == nbb_cell_id) {\n",
       "                        if (nbb_cells[i].get_text() == nbb_unformatted_code) {\n",
       "                             nbb_cells[i].set_text(nbb_formatted_code);\n",
       "                        }\n",
       "                        break;\n",
       "                    }\n",
       "                }\n",
       "            }, 500);\n",
       "            "
      ],
      "text/plain": [
       "<IPython.core.display.Javascript object>"
      ]
     },
     "metadata": {},
     "output_type": "display_data"
    }
   ],
   "source": [
    "sns.boxplot(winsorized_revenue)\n",
    "plt.title(\"winsorized revenue\")\n",
    "plt.show()\n",
    "\n",
    "sns.boxplot(winsorized_expenditure)\n",
    "plt.title(\"winsorized expenditure\")\n",
    "plt.show()"
   ]
  },
  {
   "cell_type": "markdown",
   "metadata": {},
   "source": [
    "3. Create another variable by subtracting the original TOTAL_EXPENDITURE from TOTAL_REVENUE (before you eliminated the outliers). You can think of it as a kind of budget deficit in education. Do you find any outlier values in this new variable? If so, eliminate them using the technique you think most suitable."
   ]
  },
  {
   "cell_type": "code",
   "execution_count": 40,
   "metadata": {},
   "outputs": [
    {
     "data": {
      "application/javascript": [
       "\n",
       "            setTimeout(function() {\n",
       "                var nbb_cell_id = 40;\n",
       "                var nbb_unformatted_code = \"us_edu[\\\"TOTAL_DEFICIT\\\"] = us_edu[\\\"TOTAL_REVENUE\\\"] - us_edu[\\\"TOTAL_EXPENDITURE\\\"]\";\n",
       "                var nbb_formatted_code = \"us_edu[\\\"TOTAL_DEFICIT\\\"] = us_edu[\\\"TOTAL_REVENUE\\\"] - us_edu[\\\"TOTAL_EXPENDITURE\\\"]\";\n",
       "                var nbb_cells = Jupyter.notebook.get_cells();\n",
       "                for (var i = 0; i < nbb_cells.length; ++i) {\n",
       "                    if (nbb_cells[i].input_prompt_number == nbb_cell_id) {\n",
       "                        if (nbb_cells[i].get_text() == nbb_unformatted_code) {\n",
       "                             nbb_cells[i].set_text(nbb_formatted_code);\n",
       "                        }\n",
       "                        break;\n",
       "                    }\n",
       "                }\n",
       "            }, 500);\n",
       "            "
      ],
      "text/plain": [
       "<IPython.core.display.Javascript object>"
      ]
     },
     "metadata": {},
     "output_type": "display_data"
    }
   ],
   "source": [
    "us_edu[\"TOTAL_DEFICIT\"] = us_edu[\"TOTAL_REVENUE\"] - us_edu[\"TOTAL_EXPENDITURE\"]"
   ]
  },
  {
   "cell_type": "code",
   "execution_count": 41,
   "metadata": {},
   "outputs": [
    {
     "data": {
      "text/plain": [
       "<matplotlib.axes._subplots.AxesSubplot at 0x1bfae402c08>"
      ]
     },
     "execution_count": 41,
     "metadata": {},
     "output_type": "execute_result"
    },
    {
     "data": {
      "image/png": "[encoded data removed]",
      "text/plain": [
       "<Figure size 432x288 with 1 Axes>"
      ]
     },
     "metadata": {
      "needs_background": "light"
     },
     "output_type": "display_data"
    },
    {
     "data": {
      "application/javascript": [
       "\n",
       "            setTimeout(function() {\n",
       "                var nbb_cell_id = 41;\n",
       "                var nbb_unformatted_code = \"sns.boxplot(us_edu[\\\"TOTAL_DEFICIT\\\"])\";\n",
       "                var nbb_formatted_code = \"sns.boxplot(us_edu[\\\"TOTAL_DEFICIT\\\"])\";\n",
       "                var nbb_cells = Jupyter.notebook.get_cells();\n",
       "                for (var i = 0; i < nbb_cells.length; ++i) {\n",
       "                    if (nbb_cells[i].input_prompt_number == nbb_cell_id) {\n",
       "                        if (nbb_cells[i].get_text() == nbb_unformatted_code) {\n",
       "                             nbb_cells[i].set_text(nbb_formatted_code);\n",
       "                        }\n",
       "                        break;\n",
       "                    }\n",
       "                }\n",
       "            }, 500);\n",
       "            "
      ],
      "text/plain": [
       "<IPython.core.display.Javascript object>"
      ]
     },
     "metadata": {},
     "output_type": "display_data"
    }
   ],
   "source": [
    "sns.boxplot(us_edu[\"TOTAL_DEFICIT\"])"
   ]
  },
  {
   "cell_type": "code",
   "execution_count": 65,
   "metadata": {},
   "outputs": [
    {
     "data": {
      "application/javascript": [
       "\n",
       "            setTimeout(function() {\n",
       "                var nbb_cell_id = 65;\n",
       "                var nbb_unformatted_code = \"winsorized_deficit = winsorize(us_edu[\\\"TOTAL_DEFICIT\\\"], (0.1, 0.1))\";\n",
       "                var nbb_formatted_code = \"winsorized_deficit = winsorize(us_edu[\\\"TOTAL_DEFICIT\\\"], (0.1, 0.1))\";\n",
       "                var nbb_cells = Jupyter.notebook.get_cells();\n",
       "                for (var i = 0; i < nbb_cells.length; ++i) {\n",
       "                    if (nbb_cells[i].input_prompt_number == nbb_cell_id) {\n",
       "                        if (nbb_cells[i].get_text() == nbb_unformatted_code) {\n",
       "                             nbb_cells[i].set_text(nbb_formatted_code);\n",
       "                        }\n",
       "                        break;\n",
       "                    }\n",
       "                }\n",
       "            }, 500);\n",
       "            "
      ],
      "text/plain": [
       "<IPython.core.display.Javascript object>"
      ]
     },
     "metadata": {},
     "output_type": "display_data"
    }
   ],
   "source": [
    "winsorized_deficit = winsorize(us_edu[\"TOTAL_DEFICIT\"], (0.1, 0.1))"
   ]
  },
  {
   "cell_type": "code",
   "execution_count": 66,
   "metadata": {},
   "outputs": [
    {
     "data": {
      "text/plain": [
       "<matplotlib.axes._subplots.AxesSubplot at 0x1bfb053d948>"
      ]
     },
     "execution_count": 66,
     "metadata": {},
     "output_type": "execute_result"
    },
    {
     "data": {
      "image/png": "[encoded data removed]",
      "text/plain": [
       "<Figure size 432x288 with 1 Axes>"
      ]
     },
     "metadata": {
      "needs_background": "light"
     },
     "output_type": "display_data"
    },
    {
     "data": {
      "application/javascript": [
       "\n",
       "            setTimeout(function() {\n",
       "                var nbb_cell_id = 66;\n",
       "                var nbb_unformatted_code = \"sns.boxplot(winsorized_deficit, whis=1.5)\";\n",
       "                var nbb_formatted_code = \"sns.boxplot(winsorized_deficit, whis=1.5)\";\n",
       "                var nbb_cells = Jupyter.notebook.get_cells();\n",
       "                for (var i = 0; i < nbb_cells.length; ++i) {\n",
       "                    if (nbb_cells[i].input_prompt_number == nbb_cell_id) {\n",
       "                        if (nbb_cells[i].get_text() == nbb_unformatted_code) {\n",
       "                             nbb_cells[i].set_text(nbb_formatted_code);\n",
       "                        }\n",
       "                        break;\n",
       "                    }\n",
       "                }\n",
       "            }, 500);\n",
       "            "
      ],
      "text/plain": [
       "<IPython.core.display.Javascript object>"
      ]
     },
     "metadata": {},
     "output_type": "display_data"
    }
   ],
   "source": [
    "sns.boxplot(winsorized_deficit, whis=1.5)"
   ]
  },
  {
   "cell_type": "markdown",
   "metadata": {},
   "source": [
    "4. Now create another variable by subtracting the TOTAL_EXPENDITURE from TOTAL_REVENUE. This time, use the outlier eliminated versions of TOTAL_EXPENDITURE from TOTAL_REVENUE. In this newly created variable, can you find any outliers? If so, eliminate them."
   ]
  },
  {
   "cell_type": "code",
   "execution_count": 67,
   "metadata": {},
   "outputs": [
    {
     "data": {
      "application/javascript": [
       "\n",
       "            setTimeout(function() {\n",
       "                var nbb_cell_id = 67;\n",
       "                var nbb_unformatted_code = \"us_edu[\\\"WINSORIZED_DEFICIT\\\"] = winsorized_revenue - winsorized_expenditure\";\n",
       "                var nbb_formatted_code = \"us_edu[\\\"WINSORIZED_DEFICIT\\\"] = winsorized_revenue - winsorized_expenditure\";\n",
       "                var nbb_cells = Jupyter.notebook.get_cells();\n",
       "                for (var i = 0; i < nbb_cells.length; ++i) {\n",
       "                    if (nbb_cells[i].input_prompt_number == nbb_cell_id) {\n",
       "                        if (nbb_cells[i].get_text() == nbb_unformatted_code) {\n",
       "                             nbb_cells[i].set_text(nbb_formatted_code);\n",
       "                        }\n",
       "                        break;\n",
       "                    }\n",
       "                }\n",
       "            }, 500);\n",
       "            "
      ],
      "text/plain": [
       "<IPython.core.display.Javascript object>"
      ]
     },
     "metadata": {},
     "output_type": "display_data"
    }
   ],
   "source": [
    "us_edu[\"WINSORIZED_DEFICIT\"] = winsorized_revenue - winsorized_expenditure"
   ]
  },
  {
   "cell_type": "code",
   "execution_count": 68,
   "metadata": {},
   "outputs": [
    {
     "data": {
      "text/plain": [
       "<matplotlib.axes._subplots.AxesSubplot at 0x1bfb069cfc8>"
      ]
     },
     "execution_count": 68,
     "metadata": {},
     "output_type": "execute_result"
    },
    {
     "data": {
      "image/png": "[encoded data removed]",
      "text/plain": [
       "<Figure size 432x288 with 1 Axes>"
      ]
     },
     "metadata": {
      "needs_background": "light"
     },
     "output_type": "display_data"
    },
    {
     "data": {
      "application/javascript": [
       "\n",
       "            setTimeout(function() {\n",
       "                var nbb_cell_id = 68;\n",
       "                var nbb_unformatted_code = \"sns.boxplot(us_edu[\\\"WINSORIZED_DEFICIT\\\"])\";\n",
       "                var nbb_formatted_code = \"sns.boxplot(us_edu[\\\"WINSORIZED_DEFICIT\\\"])\";\n",
       "                var nbb_cells = Jupyter.notebook.get_cells();\n",
       "                for (var i = 0; i < nbb_cells.length; ++i) {\n",
       "                    if (nbb_cells[i].input_prompt_number == nbb_cell_id) {\n",
       "                        if (nbb_cells[i].get_text() == nbb_unformatted_code) {\n",
       "                             nbb_cells[i].set_text(nbb_formatted_code);\n",
       "                        }\n",
       "                        break;\n",
       "                    }\n",
       "                }\n",
       "            }, 500);\n",
       "            "
      ],
      "text/plain": [
       "<IPython.core.display.Javascript object>"
      ]
     },
     "metadata": {},
     "output_type": "display_data"
    }
   ],
   "source": [
    "sns.boxplot(us_edu[\"WINSORIZED_DEFICIT\"])"
   ]
  },
  {
   "cell_type": "code",
   "execution_count": 69,
   "metadata": {},
   "outputs": [
    {
     "data": {
      "application/javascript": [
       "\n",
       "            setTimeout(function() {\n",
       "                var nbb_cell_id = 69;\n",
       "                var nbb_unformatted_code = \"winsorized_deficit2 = winsorize(us_edu['WINSORIZED_DEFICIT'], (0.1, 0.1))\";\n",
       "                var nbb_formatted_code = \"winsorized_deficit2 = winsorize(us_edu[\\\"WINSORIZED_DEFICIT\\\"], (0.1, 0.1))\";\n",
       "                var nbb_cells = Jupyter.notebook.get_cells();\n",
       "                for (var i = 0; i < nbb_cells.length; ++i) {\n",
       "                    if (nbb_cells[i].input_prompt_number == nbb_cell_id) {\n",
       "                        if (nbb_cells[i].get_text() == nbb_unformatted_code) {\n",
       "                             nbb_cells[i].set_text(nbb_formatted_code);\n",
       "                        }\n",
       "                        break;\n",
       "                    }\n",
       "                }\n",
       "            }, 500);\n",
       "            "
      ],
      "text/plain": [
       "<IPython.core.display.Javascript object>"
      ]
     },
     "metadata": {},
     "output_type": "display_data"
    }
   ],
   "source": [
    "winsorized_deficit2 = winsorize(us_edu[\"WINSORIZED_DEFICIT\"], (0.1, 0.1))"
   ]
  },
  {
   "cell_type": "code",
   "execution_count": 70,
   "metadata": {},
   "outputs": [
    {
     "data": {
      "text/plain": [
       "<matplotlib.axes._subplots.AxesSubplot at 0x1bfb0796408>"
      ]
     },
     "execution_count": 70,
     "metadata": {},
     "output_type": "execute_result"
    },
    {
     "data": {
      "image/png": "[encoded data removed]",
      "text/plain": [
       "<Figure size 432x288 with 1 Axes>"
      ]
     },
     "metadata": {
      "needs_background": "light"
     },
     "output_type": "display_data"
    },
    {
     "data": {
      "application/javascript": [
       "\n",
       "            setTimeout(function() {\n",
       "                var nbb_cell_id = 70;\n",
       "                var nbb_unformatted_code = \"sns.boxplot(winsorized_deficit2)\";\n",
       "                var nbb_formatted_code = \"sns.boxplot(winsorized_deficit2)\";\n",
       "                var nbb_cells = Jupyter.notebook.get_cells();\n",
       "                for (var i = 0; i < nbb_cells.length; ++i) {\n",
       "                    if (nbb_cells[i].input_prompt_number == nbb_cell_id) {\n",
       "                        if (nbb_cells[i].get_text() == nbb_unformatted_code) {\n",
       "                             nbb_cells[i].set_text(nbb_formatted_code);\n",
       "                        }\n",
       "                        break;\n",
       "                    }\n",
       "                }\n",
       "            }, 500);\n",
       "            "
      ],
      "text/plain": [
       "<IPython.core.display.Javascript object>"
      ]
     },
     "metadata": {},
     "output_type": "display_data"
    }
   ],
   "source": [
    "sns.boxplot(winsorized_deficit2)"
   ]
  },
  {
   "cell_type": "markdown",
   "metadata": {},
   "source": [
    "5. Compare some basic descriptive statistics of the budget variables you end up with in the 3rd and the 4th questions. Do you see any differences?"
   ]
  },
  {
   "cell_type": "code",
   "execution_count": 75,
   "metadata": {},
   "outputs": [
    {
     "data": {
      "text/html": [
       "<div>\n",
       "<style scoped>\n",
       "    .dataframe tbody tr th:only-of-type {\n",
       "        vertical-align: middle;\n",
       "    }\n",
       "\n",
       "    .dataframe tbody tr th {\n",
       "        vertical-align: top;\n",
       "    }\n",
       "\n",
       "    .dataframe thead th {\n",
       "        text-align: right;\n",
       "    }\n",
       "</style>\n",
       "<table border=\"1\" class=\"dataframe\">\n",
       "  <thead>\n",
       "    <tr style=\"text-align: right;\">\n",
       "      <th></th>\n",
       "      <th>original_deficit</th>\n",
       "      <th>winsorized_deficit_raw</th>\n",
       "      <th>winsorized_deficit_winsorized</th>\n",
       "    </tr>\n",
       "  </thead>\n",
       "  <tbody>\n",
       "    <tr>\n",
       "      <th>count</th>\n",
       "      <td>4.660000e+02</td>\n",
       "      <td>466.000000</td>\n",
       "      <td>466.000000</td>\n",
       "    </tr>\n",
       "    <tr>\n",
       "      <th>mean</th>\n",
       "      <td>-8.094882e+04</td>\n",
       "      <td>-46221.075107</td>\n",
       "      <td>58068.461373</td>\n",
       "    </tr>\n",
       "    <tr>\n",
       "      <th>std</th>\n",
       "      <td>6.144222e+05</td>\n",
       "      <td>256023.510074</td>\n",
       "      <td>261701.775745</td>\n",
       "    </tr>\n",
       "    <tr>\n",
       "      <th>min</th>\n",
       "      <td>-5.487742e+06</td>\n",
       "      <td>-538253.000000</td>\n",
       "      <td>-306362.000000</td>\n",
       "    </tr>\n",
       "    <tr>\n",
       "      <th>25%</th>\n",
       "      <td>-1.965748e+05</td>\n",
       "      <td>-196574.750000</td>\n",
       "      <td>-123882.250000</td>\n",
       "    </tr>\n",
       "    <tr>\n",
       "      <th>50%</th>\n",
       "      <td>-8.872500e+03</td>\n",
       "      <td>-8872.500000</td>\n",
       "      <td>8133.500000</td>\n",
       "    </tr>\n",
       "    <tr>\n",
       "      <th>75%</th>\n",
       "      <td>1.013948e+05</td>\n",
       "      <td>101394.750000</td>\n",
       "      <td>180287.250000</td>\n",
       "    </tr>\n",
       "    <tr>\n",
       "      <th>max</th>\n",
       "      <td>3.897129e+06</td>\n",
       "      <td>365079.000000</td>\n",
       "      <td>526078.000000</td>\n",
       "    </tr>\n",
       "  </tbody>\n",
       "</table>\n",
       "</div>"
      ],
      "text/plain": [
       "       original_deficit  winsorized_deficit_raw  winsorized_deficit_winsorized\n",
       "count      4.660000e+02              466.000000                     466.000000\n",
       "mean      -8.094882e+04           -46221.075107                   58068.461373\n",
       "std        6.144222e+05           256023.510074                  261701.775745\n",
       "min       -5.487742e+06          -538253.000000                 -306362.000000\n",
       "25%       -1.965748e+05          -196574.750000                 -123882.250000\n",
       "50%       -8.872500e+03            -8872.500000                    8133.500000\n",
       "75%        1.013948e+05           101394.750000                  180287.250000\n",
       "max        3.897129e+06           365079.000000                  526078.000000"
      ]
     },
     "execution_count": 75,
     "metadata": {},
     "output_type": "execute_result"
    },
    {
     "data": {
      "application/javascript": [
       "\n",
       "            setTimeout(function() {\n",
       "                var nbb_cell_id = 75;\n",
       "                var nbb_unformatted_code = \"pd.DataFrame(\\n    {\\n        \\\"original_deficit\\\": us_edu[\\\"TOTAL_DEFICIT\\\"],\\n        \\\"winsorized_deficit_raw\\\": winsorized_deficit,\\n        \\\"winsorized_deficit_winsorized\\\": winsorized_deficit2,\\n    }\\n).describe()\";\n",
       "                var nbb_formatted_code = \"pd.DataFrame(\\n    {\\n        \\\"original_deficit\\\": us_edu[\\\"TOTAL_DEFICIT\\\"],\\n        \\\"winsorized_deficit_raw\\\": winsorized_deficit,\\n        \\\"winsorized_deficit_winsorized\\\": winsorized_deficit2,\\n    }\\n).describe()\";\n",
       "                var nbb_cells = Jupyter.notebook.get_cells();\n",
       "                for (var i = 0; i < nbb_cells.length; ++i) {\n",
       "                    if (nbb_cells[i].input_prompt_number == nbb_cell_id) {\n",
       "                        if (nbb_cells[i].get_text() == nbb_unformatted_code) {\n",
       "                             nbb_cells[i].set_text(nbb_formatted_code);\n",
       "                        }\n",
       "                        break;\n",
       "                    }\n",
       "                }\n",
       "            }, 500);\n",
       "            "
      ],
      "text/plain": [
       "<IPython.core.display.Javascript object>"
      ]
     },
     "metadata": {},
     "output_type": "display_data"
    }
   ],
   "source": [
    "pd.DataFrame(\n",
    "    {\n",
    "        \"original_deficit\": us_edu[\"TOTAL_DEFICIT\"],\n",
    "        \"winsorized_deficit_raw\": winsorized_deficit,\n",
    "        \"winsorized_deficit_winsorized\": winsorized_deficit2,\n",
    "    }\n",
    ").describe()"
   ]
  },
  {
   "cell_type": "code",
   "execution_count": null,
   "metadata": {},
   "outputs": [],
   "source": []
  }
 ],
 "metadata": {
  "kernelspec": {
   "display_name": "Python 3",
   "language": "python",
   "name": "python3"
  },
  "language_info": {
   "codemirror_mode": {
    "name": "ipython",
    "version": 3
   },
   "file_extension": ".py",
   "mimetype": "text/x-python",
   "name": "python",
   "nbconvert_exporter": "python",
   "pygments_lexer": "ipython3",
   "version": "3.7.6"
  }
 },
 "nbformat": 4,
 "nbformat_minor": 4
}
