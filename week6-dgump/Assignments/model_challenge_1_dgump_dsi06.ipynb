{
 "cells": [
  {
   "cell_type": "code",
   "execution_count": 1,
   "metadata": {},
   "outputs": [
    {
     "data": {
      "application/javascript": [
       "\n",
       "            setTimeout(function() {\n",
       "                var nbb_cell_id = 1;\n",
       "                var nbb_unformatted_code = \"%reload_ext nb_black\\nimport matplotlib.pyplot as plt\\nimport seaborn as sns\\nimport numpy as np\\nimport pandas as pd\\nimport seaborn as sns\\nimport scipy.stats as stats\\nfrom scipy.stats.mstats import winsorize\\nfrom sqlalchemy import create_engine\\nimport warnings\\nfrom statsmodels.graphics.gofplots import qqplot\\n\\nwarnings.filterwarnings(\\\"ignore\\\")\\nsns.set(style=\\\"whitegrid\\\")\\n\\npostgres_user = \\\"dsbc_student\\\"\\npostgres_pw = \\\"7*.8G9QH21\\\"\\npostgres_host = \\\"142.93.121.174\\\"\\npostgres_port = \\\"5432\\\"\\npostgres_db = \\\"lifeexpectancy\\\"\\ntable_name = \\\"lifeexpectancy\\\"\";\n",
       "                var nbb_formatted_code = \"%reload_ext nb_black\\nimport matplotlib.pyplot as plt\\nimport seaborn as sns\\nimport numpy as np\\nimport pandas as pd\\nimport seaborn as sns\\nimport scipy.stats as stats\\nfrom scipy.stats.mstats import winsorize\\nfrom sqlalchemy import create_engine\\nimport warnings\\nfrom statsmodels.graphics.gofplots import qqplot\\n\\nwarnings.filterwarnings(\\\"ignore\\\")\\nsns.set(style=\\\"whitegrid\\\")\\n\\npostgres_user = \\\"dsbc_student\\\"\\npostgres_pw = \\\"7*.8G9QH21\\\"\\npostgres_host = \\\"142.93.121.174\\\"\\npostgres_port = \\\"5432\\\"\\npostgres_db = \\\"lifeexpectancy\\\"\\ntable_name = \\\"lifeexpectancy\\\"\";\n",
       "                var nbb_cells = Jupyter.notebook.get_cells();\n",
       "                for (var i = 0; i < nbb_cells.length; ++i) {\n",
       "                    if (nbb_cells[i].input_prompt_number == nbb_cell_id) {\n",
       "                        if (nbb_cells[i].get_text() == nbb_unformatted_code) {\n",
       "                             nbb_cells[i].set_text(nbb_formatted_code);\n",
       "                        }\n",
       "                        break;\n",
       "                    }\n",
       "                }\n",
       "            }, 500);\n",
       "            "
      ],
      "text/plain": [
       "<IPython.core.display.Javascript object>"
      ]
     },
     "metadata": {},
     "output_type": "display_data"
    }
   ],
   "source": [
    "%reload_ext nb_black\n",
    "import matplotlib.pyplot as plt\n",
    "import seaborn as sns\n",
    "import numpy as np\n",
    "import pandas as pd\n",
    "import seaborn as sns\n",
    "import scipy.stats as stats\n",
    "from scipy.stats.mstats import winsorize\n",
    "from sqlalchemy import create_engine\n",
    "import warnings\n",
    "from statsmodels.graphics.gofplots import qqplot\n",
    "\n",
    "warnings.filterwarnings(\"ignore\")\n",
    "sns.set(style=\"whitegrid\")\n",
    "\n",
    "postgres_user = \"dsbc_student\"\n",
    "postgres_pw = \"7*.8G9QH21\"\n",
    "postgres_host = \"142.93.121.174\"\n",
    "postgres_port = \"5432\"\n",
    "postgres_db = \"lifeexpectancy\"\n",
    "table_name = \"lifeexpectancy\""
   ]
  },
  {
   "cell_type": "code",
   "execution_count": 2,
   "metadata": {},
   "outputs": [
    {
     "data": {
      "application/javascript": [
       "\n",
       "            setTimeout(function() {\n",
       "                var nbb_cell_id = 2;\n",
       "                var nbb_unformatted_code = \"engine = create_engine(\\n    \\\"postgresql://{}:{}@{}:{}/{}\\\".format(\\n        postgres_user, postgres_pw, postgres_host, postgres_port, postgres_db\\n    )\\n)\\n\\nlife_expc_df = pd.read_sql_query(\\\"select * from lifeexpectancy\\\", con=engine)\\n\\n# no need for an open connection,\\n# as we're only doing a single query\\nengine.dispose()\";\n",
       "                var nbb_formatted_code = \"engine = create_engine(\\n    \\\"postgresql://{}:{}@{}:{}/{}\\\".format(\\n        postgres_user, postgres_pw, postgres_host, postgres_port, postgres_db\\n    )\\n)\\n\\nlife_expc_df = pd.read_sql_query(\\\"select * from lifeexpectancy\\\", con=engine)\\n\\n# no need for an open connection,\\n# as we're only doing a single query\\nengine.dispose()\";\n",
       "                var nbb_cells = Jupyter.notebook.get_cells();\n",
       "                for (var i = 0; i < nbb_cells.length; ++i) {\n",
       "                    if (nbb_cells[i].input_prompt_number == nbb_cell_id) {\n",
       "                        if (nbb_cells[i].get_text() == nbb_unformatted_code) {\n",
       "                             nbb_cells[i].set_text(nbb_formatted_code);\n",
       "                        }\n",
       "                        break;\n",
       "                    }\n",
       "                }\n",
       "            }, 500);\n",
       "            "
      ],
      "text/plain": [
       "<IPython.core.display.Javascript object>"
      ]
     },
     "metadata": {},
     "output_type": "display_data"
    }
   ],
   "source": [
    "engine = create_engine(\n",
    "    \"postgresql://{}:{}@{}:{}/{}\".format(\n",
    "        postgres_user, postgres_pw, postgres_host, postgres_port, postgres_db\n",
    "    )\n",
    ")\n",
    "\n",
    "life_expc_df = pd.read_sql_query(\"select * from lifeexpectancy\", con=engine)\n",
    "\n",
    "# no need for an open connection,\n",
    "# as we're only doing a single query\n",
    "engine.dispose()"
   ]
  },
  {
   "cell_type": "code",
   "execution_count": 3,
   "metadata": {},
   "outputs": [
    {
     "name": "stdout",
     "output_type": "stream",
     "text": [
      "<class 'pandas.core.frame.DataFrame'>\n",
      "RangeIndex: 2938 entries, 0 to 2937\n",
      "Data columns (total 22 columns):\n",
      " #   Column                           Non-Null Count  Dtype  \n",
      "---  ------                           --------------  -----  \n",
      " 0   Country                          2938 non-null   object \n",
      " 1   Year                             2938 non-null   int64  \n",
      " 2   Status                           2938 non-null   object \n",
      " 3   Life expectancy                  2928 non-null   float64\n",
      " 4   Adult Mortality                  2928 non-null   float64\n",
      " 5   infant deaths                    2938 non-null   int64  \n",
      " 6   Alcohol                          2744 non-null   float64\n",
      " 7   percentage expenditure           2938 non-null   float64\n",
      " 8   Hepatitis B                      2385 non-null   float64\n",
      " 9   Measles                          2938 non-null   int64  \n",
      " 10   BMI                             2904 non-null   float64\n",
      " 11  under-five deaths                2938 non-null   int64  \n",
      " 12  Polio                            2919 non-null   float64\n",
      " 13  Total expenditure                2712 non-null   float64\n",
      " 14  Diphtheria                       2919 non-null   float64\n",
      " 15   HIV/AIDS                        2938 non-null   float64\n",
      " 16  GDP                              2490 non-null   float64\n",
      " 17  Population                       2286 non-null   float64\n",
      " 18   thinness  1-19 years            2904 non-null   float64\n",
      " 19   thinness 5-9 years              2904 non-null   float64\n",
      " 20  Income composition of resources  2771 non-null   float64\n",
      " 21  Schooling                        2775 non-null   float64\n",
      "dtypes: float64(16), int64(4), object(2)\n",
      "memory usage: 505.1+ KB\n"
     ]
    },
    {
     "data": {
      "application/javascript": [
       "\n",
       "            setTimeout(function() {\n",
       "                var nbb_cell_id = 3;\n",
       "                var nbb_unformatted_code = \"life_expc_df.info()\";\n",
       "                var nbb_formatted_code = \"life_expc_df.info()\";\n",
       "                var nbb_cells = Jupyter.notebook.get_cells();\n",
       "                for (var i = 0; i < nbb_cells.length; ++i) {\n",
       "                    if (nbb_cells[i].input_prompt_number == nbb_cell_id) {\n",
       "                        if (nbb_cells[i].get_text() == nbb_unformatted_code) {\n",
       "                             nbb_cells[i].set_text(nbb_formatted_code);\n",
       "                        }\n",
       "                        break;\n",
       "                    }\n",
       "                }\n",
       "            }, 500);\n",
       "            "
      ],
      "text/plain": [
       "<IPython.core.display.Javascript object>"
      ]
     },
     "metadata": {},
     "output_type": "display_data"
    }
   ],
   "source": [
    "life_expc_df.info()"
   ]
  },
  {
   "cell_type": "code",
   "execution_count": 4,
   "metadata": {},
   "outputs": [
    {
     "data": {
      "application/javascript": [
       "\n",
       "            setTimeout(function() {\n",
       "                var nbb_cell_id = 4;\n",
       "                var nbb_unformatted_code = \"# check a missingness summary\\ndef missingness_summary(df, print_log=False, sort=None):\\n    missings = df.isna().mean()\\n\\n    if sort == \\\"asc\\\":\\n        missings = missings.sort_values()\\n    elif sort == \\\"desc\\\":\\n        missings = missings.sort_values(ascending=False)\\n\\n    if print_log:\\n        print(missings)\\n\\n    return missings\";\n",
       "                var nbb_formatted_code = \"# check a missingness summary\\ndef missingness_summary(df, print_log=False, sort=None):\\n    missings = df.isna().mean()\\n\\n    if sort == \\\"asc\\\":\\n        missings = missings.sort_values()\\n    elif sort == \\\"desc\\\":\\n        missings = missings.sort_values(ascending=False)\\n\\n    if print_log:\\n        print(missings)\\n\\n    return missings\";\n",
       "                var nbb_cells = Jupyter.notebook.get_cells();\n",
       "                for (var i = 0; i < nbb_cells.length; ++i) {\n",
       "                    if (nbb_cells[i].input_prompt_number == nbb_cell_id) {\n",
       "                        if (nbb_cells[i].get_text() == nbb_unformatted_code) {\n",
       "                             nbb_cells[i].set_text(nbb_formatted_code);\n",
       "                        }\n",
       "                        break;\n",
       "                    }\n",
       "                }\n",
       "            }, 500);\n",
       "            "
      ],
      "text/plain": [
       "<IPython.core.display.Javascript object>"
      ]
     },
     "metadata": {},
     "output_type": "display_data"
    }
   ],
   "source": [
    "# check a missingness summary\n",
    "def missingness_summary(df, print_log=False, sort=None):\n",
    "    missings = df.isna().mean()\n",
    "\n",
    "    if sort == \"asc\":\n",
    "        missings = missings.sort_values()\n",
    "    elif sort == \"desc\":\n",
    "        missings = missings.sort_values(ascending=False)\n",
    "\n",
    "    if print_log:\n",
    "        print(missings)\n",
    "\n",
    "    return missings"
   ]
  },
  {
   "cell_type": "code",
   "execution_count": 6,
   "metadata": {},
   "outputs": [
    {
     "name": "stdout",
     "output_type": "stream",
     "text": [
      "Population                         0.221920\n",
      "Hepatitis B                        0.188223\n",
      "GDP                                0.152485\n",
      "Total expenditure                  0.076923\n",
      "Alcohol                            0.066031\n",
      "Income composition of resources    0.056841\n",
      "Schooling                          0.055480\n",
      " BMI                               0.011572\n",
      " thinness  1-19 years              0.011572\n",
      " thinness 5-9 years                0.011572\n",
      "Diphtheria                         0.006467\n",
      "Polio                              0.006467\n",
      "Adult Mortality                    0.003404\n",
      "Life expectancy                    0.003404\n",
      "under-five deaths                  0.000000\n",
      " HIV/AIDS                          0.000000\n",
      "Measles                            0.000000\n",
      "percentage expenditure             0.000000\n",
      "infant deaths                      0.000000\n",
      "Status                             0.000000\n",
      "Year                               0.000000\n",
      "Country                            0.000000\n",
      "dtype: float64\n"
     ]
    },
    {
     "data": {
      "application/javascript": [
       "\n",
       "            setTimeout(function() {\n",
       "                var nbb_cell_id = 6;\n",
       "                var nbb_unformatted_code = \"crash_missing_report = missingness_summary(life_expc_df, print_log=True, sort=\\\"desc\\\")\";\n",
       "                var nbb_formatted_code = \"crash_missing_report = missingness_summary(life_expc_df, print_log=True, sort=\\\"desc\\\")\";\n",
       "                var nbb_cells = Jupyter.notebook.get_cells();\n",
       "                for (var i = 0; i < nbb_cells.length; ++i) {\n",
       "                    if (nbb_cells[i].input_prompt_number == nbb_cell_id) {\n",
       "                        if (nbb_cells[i].get_text() == nbb_unformatted_code) {\n",
       "                             nbb_cells[i].set_text(nbb_formatted_code);\n",
       "                        }\n",
       "                        break;\n",
       "                    }\n",
       "                }\n",
       "            }, 500);\n",
       "            "
      ],
      "text/plain": [
       "<IPython.core.display.Javascript object>"
      ]
     },
     "metadata": {},
     "output_type": "display_data"
    }
   ],
   "source": [
    "crash_missing_report = missingness_summary(life_expc_df, print_log=True, sort=\"desc\")"
   ]
  },
  {
   "cell_type": "markdown",
   "metadata": {},
   "source": [
    "In this dataset, `population`, `Hepatitis B`, `GDP` are our columns with missingness from 15% to 22%. Our other missing columns will be handled next"
   ]
  },
  {
   "cell_type": "code",
   "execution_count": 13,
   "metadata": {},
   "outputs": [
    {
     "data": {
      "text/plain": [
       "Saint Vincent and the Grenadines                        16\n",
       "Slovakia                                                16\n",
       "Barbados                                                16\n",
       "Kuwait                                                  16\n",
       "Singapore                                               16\n",
       "Republic of Korea                                       16\n",
       "Venezuela (Bolivarian Republic of)                      16\n",
       "Egypt                                                   16\n",
       "Bahrain                                                 16\n",
       "Oman                                                    16\n",
       "Gambia                                                  16\n",
       "Brunei Darussalam                                       16\n",
       "Czechia                                                 16\n",
       "Somalia                                                 16\n",
       "The former Yugoslav republic of Macedonia               16\n",
       "United Republic of Tanzania                             16\n",
       "Congo                                                   16\n",
       "Democratic People's Republic of Korea                   16\n",
       "Lao People's Democratic Republic                        16\n",
       "Bahamas                                                 16\n",
       "Viet Nam                                                16\n",
       "Cuba                                                    16\n",
       "Saint Lucia                                             16\n",
       "Democratic Republic of the Congo                        16\n",
       "Iran (Islamic Republic of)                              16\n",
       "Bolivia (Plurinational State of)                        16\n",
       "Saudi Arabia                                            16\n",
       "United Arab Emirates                                    16\n",
       "Libya                                                   16\n",
       "Kyrgyzstan                                              16\n",
       "United Kingdom of Great Britain and Northern Ireland    16\n",
       "Grenada                                                 16\n",
       "New Zealand                                             16\n",
       "Qatar                                                   16\n",
       "Côte d'Ivoire                                           16\n",
       "Republic of Moldova                                     16\n",
       "Yemen                                                   16\n",
       "United States of America                                16\n",
       "Micronesia (Federated States of)                        16\n",
       "Antigua and Barbuda                                     16\n",
       "Eritrea                                                  4\n",
       "Saint Kitts and Nevis                                    1\n",
       "San Marino                                               1\n",
       "Marshall Islands                                         1\n",
       "Cook Islands                                             1\n",
       "Monaco                                                   1\n",
       "Nauru                                                    1\n",
       "Dominica                                                 1\n",
       "Niue                                                     1\n",
       "Name: Country, dtype: int64"
      ]
     },
     "execution_count": 13,
     "metadata": {},
     "output_type": "execute_result"
    },
    {
     "data": {
      "application/javascript": [
       "\n",
       "            setTimeout(function() {\n",
       "                var nbb_cell_id = 13;\n",
       "                var nbb_unformatted_code = \"life_expc_df[life_expc_df[\\\"Population\\\"].isna()][\\\"Country\\\"].value_counts()\";\n",
       "                var nbb_formatted_code = \"life_expc_df[life_expc_df[\\\"Population\\\"].isna()][\\\"Country\\\"].value_counts()\";\n",
       "                var nbb_cells = Jupyter.notebook.get_cells();\n",
       "                for (var i = 0; i < nbb_cells.length; ++i) {\n",
       "                    if (nbb_cells[i].input_prompt_number == nbb_cell_id) {\n",
       "                        if (nbb_cells[i].get_text() == nbb_unformatted_code) {\n",
       "                             nbb_cells[i].set_text(nbb_formatted_code);\n",
       "                        }\n",
       "                        break;\n",
       "                    }\n",
       "                }\n",
       "            }, 500);\n",
       "            "
      ],
      "text/plain": [
       "<IPython.core.display.Javascript object>"
      ]
     },
     "metadata": {},
     "output_type": "display_data"
    }
   ],
   "source": [
    "life_expc_df[life_expc_df[\"Population\"].isna()][\"Country\"].value_counts()"
   ]
  },
  {
   "cell_type": "code",
   "execution_count": 20,
   "metadata": {},
   "outputs": [
    {
     "data": {
      "text/plain": [
       "Series([], Name: Country, dtype: int64)"
      ]
     },
     "execution_count": 20,
     "metadata": {},
     "output_type": "execute_result"
    },
    {
     "data": {
      "application/javascript": [
       "\n",
       "            setTimeout(function() {\n",
       "                var nbb_cell_id = 20;\n",
       "                var nbb_unformatted_code = \"# for population, I will fill interpolate, then fill any remaing with zeros\\nlife_expc_df['Population'] = life_expc_df[\\\"Population\\\"].interpolate()\\nlife_expc_df[life_expc_df[\\\"Population\\\"].isna()][\\\"Country\\\"].value_counts()\";\n",
       "                var nbb_formatted_code = \"# for population, I will fill interpolate, then fill any remaing with zeros\\nlife_expc_df[\\\"Population\\\"] = life_expc_df[\\\"Population\\\"].interpolate()\\nlife_expc_df[life_expc_df[\\\"Population\\\"].isna()][\\\"Country\\\"].value_counts()\";\n",
       "                var nbb_cells = Jupyter.notebook.get_cells();\n",
       "                for (var i = 0; i < nbb_cells.length; ++i) {\n",
       "                    if (nbb_cells[i].input_prompt_number == nbb_cell_id) {\n",
       "                        if (nbb_cells[i].get_text() == nbb_unformatted_code) {\n",
       "                             nbb_cells[i].set_text(nbb_formatted_code);\n",
       "                        }\n",
       "                        break;\n",
       "                    }\n",
       "                }\n",
       "            }, 500);\n",
       "            "
      ],
      "text/plain": [
       "<IPython.core.display.Javascript object>"
      ]
     },
     "metadata": {},
     "output_type": "display_data"
    }
   ],
   "source": [
    "# for population, I will fill interpolate, then fill any remaing with zeros\n",
    "life_expc_df[\"Population\"] = life_expc_df[\"Population\"].interpolate()\n",
    "life_expc_df[life_expc_df[\"Population\"].isna()][\"Country\"].value_counts()"
   ]
  },
  {
   "cell_type": "code",
   "execution_count": 21,
   "metadata": {},
   "outputs": [
    {
     "data": {
      "text/plain": [
       "Country      Population\n",
       "Afghanistan  257798.0      1\n",
       "             284331.0      1\n",
       "             293756.0      1\n",
       "             327582.0      1\n",
       "             2364851.0     1\n",
       "                          ..\n",
       "Zimbabwe     13124267.0    1\n",
       "             13558469.0    1\n",
       "             14386649.0    1\n",
       "             15411675.0    1\n",
       "             15777451.0    1\n",
       "Name: Population, Length: 2934, dtype: int64"
      ]
     },
     "execution_count": 21,
     "metadata": {},
     "output_type": "execute_result"
    },
    {
     "data": {
      "application/javascript": [
       "\n",
       "            setTimeout(function() {\n",
       "                var nbb_cell_id = 21;\n",
       "                var nbb_unformatted_code = \"life_expc_df.groupby('Country')[\\\"Population\\\"].value_counts()\";\n",
       "                var nbb_formatted_code = \"life_expc_df.groupby(\\\"Country\\\")[\\\"Population\\\"].value_counts()\";\n",
       "                var nbb_cells = Jupyter.notebook.get_cells();\n",
       "                for (var i = 0; i < nbb_cells.length; ++i) {\n",
       "                    if (nbb_cells[i].input_prompt_number == nbb_cell_id) {\n",
       "                        if (nbb_cells[i].get_text() == nbb_unformatted_code) {\n",
       "                             nbb_cells[i].set_text(nbb_formatted_code);\n",
       "                        }\n",
       "                        break;\n",
       "                    }\n",
       "                }\n",
       "            }, 500);\n",
       "            "
      ],
      "text/plain": [
       "<IPython.core.display.Javascript object>"
      ]
     },
     "metadata": {},
     "output_type": "display_data"
    }
   ],
   "source": [
    "life_expc_df.groupby(\"Country\")[\"Population\"].value_counts()"
   ]
  },
  {
   "cell_type": "code",
   "execution_count": null,
   "metadata": {},
   "outputs": [],
   "source": []
  }
 ],
 "metadata": {
  "kernelspec": {
   "display_name": "Python 3",
   "language": "python",
   "name": "python3"
  },
  "language_info": {
   "codemirror_mode": {
    "name": "ipython",
    "version": 3
   },
   "file_extension": ".py",
   "mimetype": "text/x-python",
   "name": "python",
   "nbconvert_exporter": "python",
   "pygments_lexer": "ipython3",
   "version": "3.7.6"
  }
 },
 "nbformat": 4,
 "nbformat_minor": 4
}
