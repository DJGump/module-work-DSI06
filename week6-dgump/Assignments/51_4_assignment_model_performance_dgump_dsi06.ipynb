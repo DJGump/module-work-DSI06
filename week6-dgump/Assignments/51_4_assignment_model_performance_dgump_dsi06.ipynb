{
 "cells": [
  {
   "cell_type": "code",
   "execution_count": 31,
   "metadata": {},
   "outputs": [
    {
     "data": {
      "application/javascript": [
       "\n",
       "            setTimeout(function() {\n",
       "                var nbb_cell_id = 31;\n",
       "                var nbb_unformatted_code = \"import matplotlib.pyplot as plt\\nimport numpy as np\\nimport pandas as pd\\nimport seaborn as sns\\nfrom sklearn.linear_model import LogisticRegression\\nfrom sklearn.model_selection import train_test_split, cross_val_score\\nfrom sklearn.dummy import DummyClassifier\\nfrom sklearn.metrics import confusion_matrix\\nfrom sklearn.utils.multiclass import unique_labels\\nfrom sklearn.metrics import accuracy_score, precision_score, recall_score, f1_score, fbeta_score, classification_report\\nfrom sklearn.metrics import roc_curve, precision_recall_curve, roc_auc_score\\nfrom sklearn.preprocessing import StandardScaler\\nfrom sklearn.neighbors import KNeighborsClassifier\\nfrom sklearn.ensemble import RandomForestClassifier\\n\\n%matplotlib inline\\n%reload_ext nb_black\";\n",
       "                var nbb_formatted_code = \"import matplotlib.pyplot as plt\\nimport numpy as np\\nimport pandas as pd\\nimport seaborn as sns\\nfrom sklearn.linear_model import LogisticRegression\\nfrom sklearn.model_selection import train_test_split, cross_val_score\\nfrom sklearn.dummy import DummyClassifier\\nfrom sklearn.metrics import confusion_matrix\\nfrom sklearn.utils.multiclass import unique_labels\\nfrom sklearn.metrics import (\\n    accuracy_score,\\n    precision_score,\\n    recall_score,\\n    f1_score,\\n    fbeta_score,\\n    classification_report,\\n)\\nfrom sklearn.metrics import roc_curve, precision_recall_curve, roc_auc_score\\nfrom sklearn.preprocessing import StandardScaler\\nfrom sklearn.neighbors import KNeighborsClassifier\\nfrom sklearn.ensemble import RandomForestClassifier\\n\\n%matplotlib inline\\n%reload_ext nb_black\";\n",
       "                var nbb_cells = Jupyter.notebook.get_cells();\n",
       "                for (var i = 0; i < nbb_cells.length; ++i) {\n",
       "                    if (nbb_cells[i].input_prompt_number == nbb_cell_id) {\n",
       "                        if (nbb_cells[i].get_text() == nbb_unformatted_code) {\n",
       "                             nbb_cells[i].set_text(nbb_formatted_code);\n",
       "                        }\n",
       "                        break;\n",
       "                    }\n",
       "                }\n",
       "            }, 500);\n",
       "            "
      ],
      "text/plain": [
       "<IPython.core.display.Javascript object>"
      ]
     },
     "metadata": {},
     "output_type": "display_data"
    },
    {
     "data": {
      "application/javascript": [
       "\n",
       "            setTimeout(function() {\n",
       "                var nbb_cell_id = 31;\n",
       "                var nbb_unformatted_code = \"import matplotlib.pyplot as plt\\nimport numpy as np\\nimport pandas as pd\\nimport seaborn as sns\\nfrom sklearn.linear_model import LogisticRegression\\nfrom sklearn.model_selection import train_test_split, cross_val_score\\nfrom sklearn.dummy import DummyClassifier\\nfrom sklearn.metrics import confusion_matrix\\nfrom sklearn.utils.multiclass import unique_labels\\nfrom sklearn.metrics import accuracy_score, precision_score, recall_score, f1_score, fbeta_score, classification_report\\nfrom sklearn.metrics import roc_curve, precision_recall_curve, roc_auc_score\\nfrom sklearn.preprocessing import StandardScaler\\nfrom sklearn.neighbors import KNeighborsClassifier\\nfrom sklearn.ensemble import RandomForestClassifier\\n\\n%matplotlib inline\\n%reload_ext nb_black\";\n",
       "                var nbb_formatted_code = \"import matplotlib.pyplot as plt\\nimport numpy as np\\nimport pandas as pd\\nimport seaborn as sns\\nfrom sklearn.linear_model import LogisticRegression\\nfrom sklearn.model_selection import train_test_split, cross_val_score\\nfrom sklearn.dummy import DummyClassifier\\nfrom sklearn.metrics import confusion_matrix\\nfrom sklearn.utils.multiclass import unique_labels\\nfrom sklearn.metrics import (\\n    accuracy_score,\\n    precision_score,\\n    recall_score,\\n    f1_score,\\n    fbeta_score,\\n    classification_report,\\n)\\nfrom sklearn.metrics import roc_curve, precision_recall_curve, roc_auc_score\\nfrom sklearn.preprocessing import StandardScaler\\nfrom sklearn.neighbors import KNeighborsClassifier\\nfrom sklearn.ensemble import RandomForestClassifier\\n\\n%matplotlib inline\\n%reload_ext nb_black\";\n",
       "                var nbb_cells = Jupyter.notebook.get_cells();\n",
       "                for (var i = 0; i < nbb_cells.length; ++i) {\n",
       "                    if (nbb_cells[i].input_prompt_number == nbb_cell_id) {\n",
       "                        if (nbb_cells[i].get_text() == nbb_unformatted_code) {\n",
       "                             nbb_cells[i].set_text(nbb_formatted_code);\n",
       "                        }\n",
       "                        break;\n",
       "                    }\n",
       "                }\n",
       "            }, 500);\n",
       "            "
      ],
      "text/plain": [
       "<IPython.core.display.Javascript object>"
      ]
     },
     "metadata": {},
     "output_type": "display_data"
    }
   ],
   "source": [
    "import matplotlib.pyplot as plt\n",
    "import numpy as np\n",
    "import pandas as pd\n",
    "import seaborn as sns\n",
    "from sklearn.linear_model import LogisticRegression\n",
    "from sklearn.model_selection import train_test_split, cross_val_score\n",
    "from sklearn.dummy import DummyClassifier\n",
    "from sklearn.metrics import confusion_matrix\n",
    "from sklearn.utils.multiclass import unique_labels\n",
    "from sklearn.metrics import accuracy_score, precision_score, recall_score, f1_score, fbeta_score, classification_report\n",
    "from sklearn.metrics import roc_curve, precision_recall_curve, roc_auc_score\n",
    "from sklearn.preprocessing import StandardScaler\n",
    "from sklearn.neighbors import KNeighborsClassifier\n",
    "from sklearn.ensemble import RandomForestClassifier\n",
    "\n",
    "%matplotlib inline\n",
    "%reload_ext nb_black\n"
   ]
  },
  {
   "cell_type": "code",
   "execution_count": 2,
   "metadata": {},
   "outputs": [
    {
     "data": {
      "application/javascript": [
       "\n",
       "            setTimeout(function() {\n",
       "                var nbb_cell_id = 2;\n",
       "                var nbb_unformatted_code = \"def plot_confusion_matrix(\\n    cm, target_names, title=\\\"Confusion matrix\\\", cmap=None, normalize=True\\n):\\n    \\\"\\\"\\\"\\n    given a sklearn confusion matrix (cm), make a nice plot\\n\\n    Arguments\\n    ---------\\n    cm:           confusion matrix from sklearn.metrics.confusion_matrix\\n\\n    target_names: given classification classes such as [0, 1, 2]\\n                  the class names, for example: ['high', 'medium', 'low']\\n\\n    title:        the text to display at the top of the matrix\\n\\n    cmap:         the gradient of the values displayed from matplotlib.pyplot.cm\\n                  see http://matplotlib.org/examples/color/colormaps_reference.html\\n                  plt.get_cmap('jet') or plt.cm.Blues\\n\\n    normalize:    If False, plot the raw numbers\\n                  If True, plot the proportions\\n\\n    Usage\\n    -----\\n    plot_confusion_matrix(cm           = cm,                  # confusion matrix created by\\n                                                              # sklearn.metrics.confusion_matrix\\n                          normalize    = True,                # show proportions\\n                          target_names = y_labels_vals,       # list of names of the classes\\n                          title        = best_estimator_name) # title of graph\\n\\n    Citiation\\n    ---------\\n    http://scikit-learn.org/stable/auto_examples/model_selection/plot_confusion_matrix.html\\n\\n    \\\"\\\"\\\"\\n    import matplotlib.pyplot as plt\\n    import numpy as np\\n    import itertools\\n\\n    accuracy = np.trace(cm) / float(np.sum(cm))\\n    misclass = 1 - accuracy\\n\\n    if cmap is None:\\n        cmap = plt.get_cmap(\\\"Blues\\\")\\n\\n    plt.figure(figsize=(8, 6))\\n    plt.imshow(cm, interpolation=\\\"nearest\\\", cmap=cmap)\\n    plt.title(title)\\n    plt.colorbar()\\n\\n    if target_names is not None:\\n        tick_marks = np.arange(len(target_names))\\n        plt.xticks(tick_marks, target_names, rotation=45)\\n        plt.yticks(tick_marks, target_names)\\n\\n    if normalize:\\n        cm = cm.astype(\\\"float\\\") / cm.sum(axis=1)[:, np.newaxis]\\n\\n    thresh = cm.max() / 1.5 if normalize else cm.max() / 2\\n    for i, j in itertools.product(range(cm.shape[0]), range(cm.shape[1])):\\n        if normalize:\\n            plt.text(\\n                j,\\n                i,\\n                \\\"{:0.4f}\\\".format(cm[i, j]),\\n                horizontalalignment=\\\"center\\\",\\n                color=\\\"white\\\" if cm[i, j] > thresh else \\\"black\\\",\\n            )\\n        else:\\n            plt.text(\\n                j,\\n                i,\\n                \\\"{:,}\\\".format(cm[i, j]),\\n                horizontalalignment=\\\"center\\\",\\n                color=\\\"white\\\" if cm[i, j] > thresh else \\\"black\\\",\\n            )\\n\\n    plt.tight_layout()\\n    plt.ylabel(\\\"True label\\\")\\n    plt.xlabel(\\n        \\\"Predicted label\\\\naccuracy={:0.4f}; misclass={:0.4f}\\\".format(accuracy, misclass)\\n    )\\n    plt.show()\";\n",
       "                var nbb_formatted_code = \"def plot_confusion_matrix(\\n    cm, target_names, title=\\\"Confusion matrix\\\", cmap=None, normalize=True\\n):\\n    \\\"\\\"\\\"\\n    given a sklearn confusion matrix (cm), make a nice plot\\n\\n    Arguments\\n    ---------\\n    cm:           confusion matrix from sklearn.metrics.confusion_matrix\\n\\n    target_names: given classification classes such as [0, 1, 2]\\n                  the class names, for example: ['high', 'medium', 'low']\\n\\n    title:        the text to display at the top of the matrix\\n\\n    cmap:         the gradient of the values displayed from matplotlib.pyplot.cm\\n                  see http://matplotlib.org/examples/color/colormaps_reference.html\\n                  plt.get_cmap('jet') or plt.cm.Blues\\n\\n    normalize:    If False, plot the raw numbers\\n                  If True, plot the proportions\\n\\n    Usage\\n    -----\\n    plot_confusion_matrix(cm           = cm,                  # confusion matrix created by\\n                                                              # sklearn.metrics.confusion_matrix\\n                          normalize    = True,                # show proportions\\n                          target_names = y_labels_vals,       # list of names of the classes\\n                          title        = best_estimator_name) # title of graph\\n\\n    Citiation\\n    ---------\\n    http://scikit-learn.org/stable/auto_examples/model_selection/plot_confusion_matrix.html\\n\\n    \\\"\\\"\\\"\\n    import matplotlib.pyplot as plt\\n    import numpy as np\\n    import itertools\\n\\n    accuracy = np.trace(cm) / float(np.sum(cm))\\n    misclass = 1 - accuracy\\n\\n    if cmap is None:\\n        cmap = plt.get_cmap(\\\"Blues\\\")\\n\\n    plt.figure(figsize=(8, 6))\\n    plt.imshow(cm, interpolation=\\\"nearest\\\", cmap=cmap)\\n    plt.title(title)\\n    plt.colorbar()\\n\\n    if target_names is not None:\\n        tick_marks = np.arange(len(target_names))\\n        plt.xticks(tick_marks, target_names, rotation=45)\\n        plt.yticks(tick_marks, target_names)\\n\\n    if normalize:\\n        cm = cm.astype(\\\"float\\\") / cm.sum(axis=1)[:, np.newaxis]\\n\\n    thresh = cm.max() / 1.5 if normalize else cm.max() / 2\\n    for i, j in itertools.product(range(cm.shape[0]), range(cm.shape[1])):\\n        if normalize:\\n            plt.text(\\n                j,\\n                i,\\n                \\\"{:0.4f}\\\".format(cm[i, j]),\\n                horizontalalignment=\\\"center\\\",\\n                color=\\\"white\\\" if cm[i, j] > thresh else \\\"black\\\",\\n            )\\n        else:\\n            plt.text(\\n                j,\\n                i,\\n                \\\"{:,}\\\".format(cm[i, j]),\\n                horizontalalignment=\\\"center\\\",\\n                color=\\\"white\\\" if cm[i, j] > thresh else \\\"black\\\",\\n            )\\n\\n    plt.tight_layout()\\n    plt.ylabel(\\\"True label\\\")\\n    plt.xlabel(\\n        \\\"Predicted label\\\\naccuracy={:0.4f}; misclass={:0.4f}\\\".format(accuracy, misclass)\\n    )\\n    plt.show()\";\n",
       "                var nbb_cells = Jupyter.notebook.get_cells();\n",
       "                for (var i = 0; i < nbb_cells.length; ++i) {\n",
       "                    if (nbb_cells[i].input_prompt_number == nbb_cell_id) {\n",
       "                        if (nbb_cells[i].get_text() == nbb_unformatted_code) {\n",
       "                             nbb_cells[i].set_text(nbb_formatted_code);\n",
       "                        }\n",
       "                        break;\n",
       "                    }\n",
       "                }\n",
       "            }, 500);\n",
       "            "
      ],
      "text/plain": [
       "<IPython.core.display.Javascript object>"
      ]
     },
     "metadata": {},
     "output_type": "display_data"
    }
   ],
   "source": [
    "def plot_confusion_matrix(\n",
    "    cm, target_names, title=\"Confusion matrix\", cmap=None, normalize=True\n",
    "):\n",
    "    \"\"\"\n",
    "    given a sklearn confusion matrix (cm), make a nice plot\n",
    "\n",
    "    Arguments\n",
    "    ---------\n",
    "    cm:           confusion matrix from sklearn.metrics.confusion_matrix\n",
    "\n",
    "    target_names: given classification classes such as [0, 1, 2]\n",
    "                  the class names, for example: ['high', 'medium', 'low']\n",
    "\n",
    "    title:        the text to display at the top of the matrix\n",
    "\n",
    "    cmap:         the gradient of the values displayed from matplotlib.pyplot.cm\n",
    "                  see http://matplotlib.org/examples/color/colormaps_reference.html\n",
    "                  plt.get_cmap('jet') or plt.cm.Blues\n",
    "\n",
    "    normalize:    If False, plot the raw numbers\n",
    "                  If True, plot the proportions\n",
    "\n",
    "    Usage\n",
    "    -----\n",
    "    plot_confusion_matrix(cm           = cm,                  # confusion matrix created by\n",
    "                                                              # sklearn.metrics.confusion_matrix\n",
    "                          normalize    = True,                # show proportions\n",
    "                          target_names = y_labels_vals,       # list of names of the classes\n",
    "                          title        = best_estimator_name) # title of graph\n",
    "\n",
    "    Citiation\n",
    "    ---------\n",
    "    http://scikit-learn.org/stable/auto_examples/model_selection/plot_confusion_matrix.html\n",
    "\n",
    "    \"\"\"\n",
    "    import matplotlib.pyplot as plt\n",
    "    import numpy as np\n",
    "    import itertools\n",
    "\n",
    "    accuracy = np.trace(cm) / float(np.sum(cm))\n",
    "    misclass = 1 - accuracy\n",
    "\n",
    "    if cmap is None:\n",
    "        cmap = plt.get_cmap(\"Blues\")\n",
    "\n",
    "    plt.figure(figsize=(8, 6))\n",
    "    plt.imshow(cm, interpolation=\"nearest\", cmap=cmap)\n",
    "    plt.title(title)\n",
    "    plt.colorbar()\n",
    "\n",
    "    if target_names is not None:\n",
    "        tick_marks = np.arange(len(target_names))\n",
    "        plt.xticks(tick_marks, target_names, rotation=45)\n",
    "        plt.yticks(tick_marks, target_names)\n",
    "\n",
    "    if normalize:\n",
    "        cm = cm.astype(\"float\") / cm.sum(axis=1)[:, np.newaxis]\n",
    "\n",
    "    thresh = cm.max() / 1.5 if normalize else cm.max() / 2\n",
    "    for i, j in itertools.product(range(cm.shape[0]), range(cm.shape[1])):\n",
    "        if normalize:\n",
    "            plt.text(\n",
    "                j,\n",
    "                i,\n",
    "                \"{:0.4f}\".format(cm[i, j]),\n",
    "                horizontalalignment=\"center\",\n",
    "                color=\"white\" if cm[i, j] > thresh else \"black\",\n",
    "            )\n",
    "        else:\n",
    "            plt.text(\n",
    "                j,\n",
    "                i,\n",
    "                \"{:,}\".format(cm[i, j]),\n",
    "                horizontalalignment=\"center\",\n",
    "                color=\"white\" if cm[i, j] > thresh else \"black\",\n",
    "            )\n",
    "\n",
    "    plt.tight_layout()\n",
    "    plt.ylabel(\"True label\")\n",
    "    plt.xlabel(\n",
    "        \"Predicted label\\naccuracy={:0.4f}; misclass={:0.4f}\".format(accuracy, misclass)\n",
    "    )\n",
    "    plt.show()"
   ]
  },
  {
   "cell_type": "markdown",
   "metadata": {},
   "source": [
    "# Load and prepare data"
   ]
  },
  {
   "cell_type": "code",
   "execution_count": 3,
   "metadata": {},
   "outputs": [
    {
     "data": {
      "application/javascript": [
       "\n",
       "            setTimeout(function() {\n",
       "                var nbb_cell_id = 3;\n",
       "                var nbb_unformatted_code = \"df_train_data = pd.read_csv(\\\"shuttle_data/shuttle.tst\\\", sep=\\\" \\\", header=None)\";\n",
       "                var nbb_formatted_code = \"df_train_data = pd.read_csv(\\\"shuttle_data/shuttle.tst\\\", sep=\\\" \\\", header=None)\";\n",
       "                var nbb_cells = Jupyter.notebook.get_cells();\n",
       "                for (var i = 0; i < nbb_cells.length; ++i) {\n",
       "                    if (nbb_cells[i].input_prompt_number == nbb_cell_id) {\n",
       "                        if (nbb_cells[i].get_text() == nbb_unformatted_code) {\n",
       "                             nbb_cells[i].set_text(nbb_formatted_code);\n",
       "                        }\n",
       "                        break;\n",
       "                    }\n",
       "                }\n",
       "            }, 500);\n",
       "            "
      ],
      "text/plain": [
       "<IPython.core.display.Javascript object>"
      ]
     },
     "metadata": {},
     "output_type": "display_data"
    }
   ],
   "source": [
    "df_train_data = pd.read_csv(\"shuttle_data/shuttle.tst\", sep=\" \", header=None)"
   ]
  },
  {
   "cell_type": "code",
   "execution_count": 4,
   "metadata": {},
   "outputs": [
    {
     "data": {
      "text/html": [
       "<div>\n",
       "<style scoped>\n",
       "    .dataframe tbody tr th:only-of-type {\n",
       "        vertical-align: middle;\n",
       "    }\n",
       "\n",
       "    .dataframe tbody tr th {\n",
       "        vertical-align: top;\n",
       "    }\n",
       "\n",
       "    .dataframe thead th {\n",
       "        text-align: right;\n",
       "    }\n",
       "</style>\n",
       "<table border=\"1\" class=\"dataframe\">\n",
       "  <thead>\n",
       "    <tr style=\"text-align: right;\">\n",
       "      <th></th>\n",
       "      <th>0</th>\n",
       "      <th>1</th>\n",
       "      <th>2</th>\n",
       "      <th>3</th>\n",
       "      <th>4</th>\n",
       "      <th>5</th>\n",
       "      <th>6</th>\n",
       "      <th>7</th>\n",
       "      <th>8</th>\n",
       "      <th>9</th>\n",
       "    </tr>\n",
       "  </thead>\n",
       "  <tbody>\n",
       "    <tr>\n",
       "      <th>0</th>\n",
       "      <td>55</td>\n",
       "      <td>0</td>\n",
       "      <td>81</td>\n",
       "      <td>0</td>\n",
       "      <td>-6</td>\n",
       "      <td>11</td>\n",
       "      <td>25</td>\n",
       "      <td>88</td>\n",
       "      <td>64</td>\n",
       "      <td>4</td>\n",
       "    </tr>\n",
       "    <tr>\n",
       "      <th>1</th>\n",
       "      <td>56</td>\n",
       "      <td>0</td>\n",
       "      <td>96</td>\n",
       "      <td>0</td>\n",
       "      <td>52</td>\n",
       "      <td>-4</td>\n",
       "      <td>40</td>\n",
       "      <td>44</td>\n",
       "      <td>4</td>\n",
       "      <td>4</td>\n",
       "    </tr>\n",
       "    <tr>\n",
       "      <th>2</th>\n",
       "      <td>50</td>\n",
       "      <td>-1</td>\n",
       "      <td>89</td>\n",
       "      <td>-7</td>\n",
       "      <td>50</td>\n",
       "      <td>0</td>\n",
       "      <td>39</td>\n",
       "      <td>40</td>\n",
       "      <td>2</td>\n",
       "      <td>1</td>\n",
       "    </tr>\n",
       "    <tr>\n",
       "      <th>3</th>\n",
       "      <td>53</td>\n",
       "      <td>9</td>\n",
       "      <td>79</td>\n",
       "      <td>0</td>\n",
       "      <td>42</td>\n",
       "      <td>-2</td>\n",
       "      <td>25</td>\n",
       "      <td>37</td>\n",
       "      <td>12</td>\n",
       "      <td>4</td>\n",
       "    </tr>\n",
       "    <tr>\n",
       "      <th>4</th>\n",
       "      <td>55</td>\n",
       "      <td>2</td>\n",
       "      <td>82</td>\n",
       "      <td>0</td>\n",
       "      <td>54</td>\n",
       "      <td>-6</td>\n",
       "      <td>26</td>\n",
       "      <td>28</td>\n",
       "      <td>2</td>\n",
       "      <td>1</td>\n",
       "    </tr>\n",
       "  </tbody>\n",
       "</table>\n",
       "</div>"
      ],
      "text/plain": [
       "    0  1   2  3   4   5   6   7   8  9\n",
       "0  55  0  81  0  -6  11  25  88  64  4\n",
       "1  56  0  96  0  52  -4  40  44   4  4\n",
       "2  50 -1  89 -7  50   0  39  40   2  1\n",
       "3  53  9  79  0  42  -2  25  37  12  4\n",
       "4  55  2  82  0  54  -6  26  28   2  1"
      ]
     },
     "execution_count": 4,
     "metadata": {},
     "output_type": "execute_result"
    },
    {
     "data": {
      "application/javascript": [
       "\n",
       "            setTimeout(function() {\n",
       "                var nbb_cell_id = 4;\n",
       "                var nbb_unformatted_code = \"df_train_data.head()\";\n",
       "                var nbb_formatted_code = \"df_train_data.head()\";\n",
       "                var nbb_cells = Jupyter.notebook.get_cells();\n",
       "                for (var i = 0; i < nbb_cells.length; ++i) {\n",
       "                    if (nbb_cells[i].input_prompt_number == nbb_cell_id) {\n",
       "                        if (nbb_cells[i].get_text() == nbb_unformatted_code) {\n",
       "                             nbb_cells[i].set_text(nbb_formatted_code);\n",
       "                        }\n",
       "                        break;\n",
       "                    }\n",
       "                }\n",
       "            }, 500);\n",
       "            "
      ],
      "text/plain": [
       "<IPython.core.display.Javascript object>"
      ]
     },
     "metadata": {},
     "output_type": "display_data"
    }
   ],
   "source": [
    "df_train_data.head()"
   ]
  },
  {
   "cell_type": "code",
   "execution_count": 5,
   "metadata": {},
   "outputs": [
    {
     "data": {
      "text/plain": [
       "1    11478\n",
       "4     2155\n",
       "5      809\n",
       "3       39\n",
       "2       13\n",
       "6        4\n",
       "7        2\n",
       "Name: 9, dtype: int64"
      ]
     },
     "execution_count": 5,
     "metadata": {},
     "output_type": "execute_result"
    },
    {
     "data": {
      "application/javascript": [
       "\n",
       "            setTimeout(function() {\n",
       "                var nbb_cell_id = 5;\n",
       "                var nbb_unformatted_code = \"df_train_data[9].value_counts()\";\n",
       "                var nbb_formatted_code = \"df_train_data[9].value_counts()\";\n",
       "                var nbb_cells = Jupyter.notebook.get_cells();\n",
       "                for (var i = 0; i < nbb_cells.length; ++i) {\n",
       "                    if (nbb_cells[i].input_prompt_number == nbb_cell_id) {\n",
       "                        if (nbb_cells[i].get_text() == nbb_unformatted_code) {\n",
       "                             nbb_cells[i].set_text(nbb_formatted_code);\n",
       "                        }\n",
       "                        break;\n",
       "                    }\n",
       "                }\n",
       "            }, 500);\n",
       "            "
      ],
      "text/plain": [
       "<IPython.core.display.Javascript object>"
      ]
     },
     "metadata": {},
     "output_type": "display_data"
    }
   ],
   "source": [
    "df_train_data[9].value_counts()"
   ]
  },
  {
   "cell_type": "code",
   "execution_count": 6,
   "metadata": {},
   "outputs": [
    {
     "data": {
      "application/javascript": [
       "\n",
       "            setTimeout(function() {\n",
       "                var nbb_cell_id = 6;\n",
       "                var nbb_unformatted_code = \"df_train_data[\\\"class\\\"] = 1\\ndf_train_data.loc[df_train_data[9] != 4, \\\"class\\\"] = 0\";\n",
       "                var nbb_formatted_code = \"df_train_data[\\\"class\\\"] = 1\\ndf_train_data.loc[df_train_data[9] != 4, \\\"class\\\"] = 0\";\n",
       "                var nbb_cells = Jupyter.notebook.get_cells();\n",
       "                for (var i = 0; i < nbb_cells.length; ++i) {\n",
       "                    if (nbb_cells[i].input_prompt_number == nbb_cell_id) {\n",
       "                        if (nbb_cells[i].get_text() == nbb_unformatted_code) {\n",
       "                             nbb_cells[i].set_text(nbb_formatted_code);\n",
       "                        }\n",
       "                        break;\n",
       "                    }\n",
       "                }\n",
       "            }, 500);\n",
       "            "
      ],
      "text/plain": [
       "<IPython.core.display.Javascript object>"
      ]
     },
     "metadata": {},
     "output_type": "display_data"
    }
   ],
   "source": [
    "df_train_data[\"class\"] = 1\n",
    "df_train_data.loc[df_train_data[9] != 4, \"class\"] = 0"
   ]
  },
  {
   "cell_type": "code",
   "execution_count": 7,
   "metadata": {},
   "outputs": [
    {
     "data": {
      "text/html": [
       "<div>\n",
       "<style scoped>\n",
       "    .dataframe tbody tr th:only-of-type {\n",
       "        vertical-align: middle;\n",
       "    }\n",
       "\n",
       "    .dataframe tbody tr th {\n",
       "        vertical-align: top;\n",
       "    }\n",
       "\n",
       "    .dataframe thead th {\n",
       "        text-align: right;\n",
       "    }\n",
       "</style>\n",
       "<table border=\"1\" class=\"dataframe\">\n",
       "  <thead>\n",
       "    <tr style=\"text-align: right;\">\n",
       "      <th></th>\n",
       "      <th>0</th>\n",
       "      <th>1</th>\n",
       "      <th>2</th>\n",
       "      <th>3</th>\n",
       "      <th>4</th>\n",
       "      <th>5</th>\n",
       "      <th>6</th>\n",
       "      <th>7</th>\n",
       "      <th>8</th>\n",
       "    </tr>\n",
       "  </thead>\n",
       "  <tbody>\n",
       "    <tr>\n",
       "      <th>0</th>\n",
       "      <td>55</td>\n",
       "      <td>0</td>\n",
       "      <td>81</td>\n",
       "      <td>0</td>\n",
       "      <td>-6</td>\n",
       "      <td>11</td>\n",
       "      <td>25</td>\n",
       "      <td>88</td>\n",
       "      <td>64</td>\n",
       "    </tr>\n",
       "    <tr>\n",
       "      <th>1</th>\n",
       "      <td>56</td>\n",
       "      <td>0</td>\n",
       "      <td>96</td>\n",
       "      <td>0</td>\n",
       "      <td>52</td>\n",
       "      <td>-4</td>\n",
       "      <td>40</td>\n",
       "      <td>44</td>\n",
       "      <td>4</td>\n",
       "    </tr>\n",
       "    <tr>\n",
       "      <th>2</th>\n",
       "      <td>50</td>\n",
       "      <td>-1</td>\n",
       "      <td>89</td>\n",
       "      <td>-7</td>\n",
       "      <td>50</td>\n",
       "      <td>0</td>\n",
       "      <td>39</td>\n",
       "      <td>40</td>\n",
       "      <td>2</td>\n",
       "    </tr>\n",
       "    <tr>\n",
       "      <th>3</th>\n",
       "      <td>53</td>\n",
       "      <td>9</td>\n",
       "      <td>79</td>\n",
       "      <td>0</td>\n",
       "      <td>42</td>\n",
       "      <td>-2</td>\n",
       "      <td>25</td>\n",
       "      <td>37</td>\n",
       "      <td>12</td>\n",
       "    </tr>\n",
       "    <tr>\n",
       "      <th>4</th>\n",
       "      <td>55</td>\n",
       "      <td>2</td>\n",
       "      <td>82</td>\n",
       "      <td>0</td>\n",
       "      <td>54</td>\n",
       "      <td>-6</td>\n",
       "      <td>26</td>\n",
       "      <td>28</td>\n",
       "      <td>2</td>\n",
       "    </tr>\n",
       "    <tr>\n",
       "      <th>...</th>\n",
       "      <td>...</td>\n",
       "      <td>...</td>\n",
       "      <td>...</td>\n",
       "      <td>...</td>\n",
       "      <td>...</td>\n",
       "      <td>...</td>\n",
       "      <td>...</td>\n",
       "      <td>...</td>\n",
       "      <td>...</td>\n",
       "    </tr>\n",
       "    <tr>\n",
       "      <th>14495</th>\n",
       "      <td>80</td>\n",
       "      <td>0</td>\n",
       "      <td>84</td>\n",
       "      <td>0</td>\n",
       "      <td>-36</td>\n",
       "      <td>-29</td>\n",
       "      <td>4</td>\n",
       "      <td>120</td>\n",
       "      <td>116</td>\n",
       "    </tr>\n",
       "    <tr>\n",
       "      <th>14496</th>\n",
       "      <td>55</td>\n",
       "      <td>0</td>\n",
       "      <td>81</td>\n",
       "      <td>0</td>\n",
       "      <td>-20</td>\n",
       "      <td>25</td>\n",
       "      <td>26</td>\n",
       "      <td>102</td>\n",
       "      <td>76</td>\n",
       "    </tr>\n",
       "    <tr>\n",
       "      <th>14497</th>\n",
       "      <td>55</td>\n",
       "      <td>0</td>\n",
       "      <td>77</td>\n",
       "      <td>0</td>\n",
       "      <td>12</td>\n",
       "      <td>-22</td>\n",
       "      <td>22</td>\n",
       "      <td>65</td>\n",
       "      <td>42</td>\n",
       "    </tr>\n",
       "    <tr>\n",
       "      <th>14498</th>\n",
       "      <td>37</td>\n",
       "      <td>0</td>\n",
       "      <td>103</td>\n",
       "      <td>0</td>\n",
       "      <td>18</td>\n",
       "      <td>-16</td>\n",
       "      <td>66</td>\n",
       "      <td>85</td>\n",
       "      <td>20</td>\n",
       "    </tr>\n",
       "    <tr>\n",
       "      <th>14499</th>\n",
       "      <td>56</td>\n",
       "      <td>2</td>\n",
       "      <td>98</td>\n",
       "      <td>0</td>\n",
       "      <td>52</td>\n",
       "      <td>1</td>\n",
       "      <td>42</td>\n",
       "      <td>46</td>\n",
       "      <td>4</td>\n",
       "    </tr>\n",
       "  </tbody>\n",
       "</table>\n",
       "<p>14500 rows × 9 columns</p>\n",
       "</div>"
      ],
      "text/plain": [
       "        0  1    2  3   4   5   6    7    8\n",
       "0      55  0   81  0  -6  11  25   88   64\n",
       "1      56  0   96  0  52  -4  40   44    4\n",
       "2      50 -1   89 -7  50   0  39   40    2\n",
       "3      53  9   79  0  42  -2  25   37   12\n",
       "4      55  2   82  0  54  -6  26   28    2\n",
       "...    .. ..  ... ..  ..  ..  ..  ...  ...\n",
       "14495  80  0   84  0 -36 -29   4  120  116\n",
       "14496  55  0   81  0 -20  25  26  102   76\n",
       "14497  55  0   77  0  12 -22  22   65   42\n",
       "14498  37  0  103  0  18 -16  66   85   20\n",
       "14499  56  2   98  0  52   1  42   46    4\n",
       "\n",
       "[14500 rows x 9 columns]"
      ]
     },
     "execution_count": 7,
     "metadata": {},
     "output_type": "execute_result"
    },
    {
     "data": {
      "application/javascript": [
       "\n",
       "            setTimeout(function() {\n",
       "                var nbb_cell_id = 7;\n",
       "                var nbb_unformatted_code = \"X = df_train_data.drop(columns=[9, \\\"class\\\"])\\nX\";\n",
       "                var nbb_formatted_code = \"X = df_train_data.drop(columns=[9, \\\"class\\\"])\\nX\";\n",
       "                var nbb_cells = Jupyter.notebook.get_cells();\n",
       "                for (var i = 0; i < nbb_cells.length; ++i) {\n",
       "                    if (nbb_cells[i].input_prompt_number == nbb_cell_id) {\n",
       "                        if (nbb_cells[i].get_text() == nbb_unformatted_code) {\n",
       "                             nbb_cells[i].set_text(nbb_formatted_code);\n",
       "                        }\n",
       "                        break;\n",
       "                    }\n",
       "                }\n",
       "            }, 500);\n",
       "            "
      ],
      "text/plain": [
       "<IPython.core.display.Javascript object>"
      ]
     },
     "metadata": {},
     "output_type": "display_data"
    }
   ],
   "source": [
    "X = df_train_data.drop(columns=[9, \"class\"])\n",
    "X"
   ]
  },
  {
   "cell_type": "code",
   "execution_count": 8,
   "metadata": {},
   "outputs": [
    {
     "data": {
      "text/plain": [
       "0    12345\n",
       "1     2155\n",
       "Name: class, dtype: int64"
      ]
     },
     "execution_count": 8,
     "metadata": {},
     "output_type": "execute_result"
    },
    {
     "data": {
      "application/javascript": [
       "\n",
       "            setTimeout(function() {\n",
       "                var nbb_cell_id = 8;\n",
       "                var nbb_unformatted_code = \"y = df_train_data[\\\"class\\\"]\\ny.value_counts()\";\n",
       "                var nbb_formatted_code = \"y = df_train_data[\\\"class\\\"]\\ny.value_counts()\";\n",
       "                var nbb_cells = Jupyter.notebook.get_cells();\n",
       "                for (var i = 0; i < nbb_cells.length; ++i) {\n",
       "                    if (nbb_cells[i].input_prompt_number == nbb_cell_id) {\n",
       "                        if (nbb_cells[i].get_text() == nbb_unformatted_code) {\n",
       "                             nbb_cells[i].set_text(nbb_formatted_code);\n",
       "                        }\n",
       "                        break;\n",
       "                    }\n",
       "                }\n",
       "            }, 500);\n",
       "            "
      ],
      "text/plain": [
       "<IPython.core.display.Javascript object>"
      ]
     },
     "metadata": {},
     "output_type": "display_data"
    }
   ],
   "source": [
    "y = df_train_data[\"class\"]\n",
    "y.value_counts()"
   ]
  },
  {
   "cell_type": "code",
   "execution_count": 9,
   "metadata": {},
   "outputs": [
    {
     "data": {
      "application/javascript": [
       "\n",
       "            setTimeout(function() {\n",
       "                var nbb_cell_id = 9;\n",
       "                var nbb_unformatted_code = \"# y = df_train_data[9]\\n# y[\\\"clas] = 0\\n# y.loc[y[9] != 1, \\\"class\\\"] = 1\\n# y = y.drop(columns=9)\\n# y = np.ravel(y)\\n# y.shape\\n# # 0 is majority class, 1 is the classing in the remaining 20%\";\n",
       "                var nbb_formatted_code = \"# y = df_train_data[9]\\n# y[\\\"clas] = 0\\n# y.loc[y[9] != 1, \\\"class\\\"] = 1\\n# y = y.drop(columns=9)\\n# y = np.ravel(y)\\n# y.shape\\n# # 0 is majority class, 1 is the classing in the remaining 20%\";\n",
       "                var nbb_cells = Jupyter.notebook.get_cells();\n",
       "                for (var i = 0; i < nbb_cells.length; ++i) {\n",
       "                    if (nbb_cells[i].input_prompt_number == nbb_cell_id) {\n",
       "                        if (nbb_cells[i].get_text() == nbb_unformatted_code) {\n",
       "                             nbb_cells[i].set_text(nbb_formatted_code);\n",
       "                        }\n",
       "                        break;\n",
       "                    }\n",
       "                }\n",
       "            }, 500);\n",
       "            "
      ],
      "text/plain": [
       "<IPython.core.display.Javascript object>"
      ]
     },
     "metadata": {},
     "output_type": "display_data"
    }
   ],
   "source": [
    "# y = df_train_data[9]\n",
    "# y[\"clas] = 0\n",
    "# y.loc[y[9] != 1, \"class\"] = 1\n",
    "# y = y.drop(columns=9)\n",
    "# y = np.ravel(y)\n",
    "# y.shape\n",
    "# # 0 is majority class, 1 is the classing in the remaining 20%"
   ]
  },
  {
   "cell_type": "code",
   "execution_count": 10,
   "metadata": {},
   "outputs": [
    {
     "data": {
      "application/javascript": [
       "\n",
       "            setTimeout(function() {\n",
       "                var nbb_cell_id = 10;\n",
       "                var nbb_unformatted_code = \"# np.bincount(y)\";\n",
       "                var nbb_formatted_code = \"# np.bincount(y)\";\n",
       "                var nbb_cells = Jupyter.notebook.get_cells();\n",
       "                for (var i = 0; i < nbb_cells.length; ++i) {\n",
       "                    if (nbb_cells[i].input_prompt_number == nbb_cell_id) {\n",
       "                        if (nbb_cells[i].get_text() == nbb_unformatted_code) {\n",
       "                             nbb_cells[i].set_text(nbb_formatted_code);\n",
       "                        }\n",
       "                        break;\n",
       "                    }\n",
       "                }\n",
       "            }, 500);\n",
       "            "
      ],
      "text/plain": [
       "<IPython.core.display.Javascript object>"
      ]
     },
     "metadata": {},
     "output_type": "display_data"
    }
   ],
   "source": [
    "# np.bincount(y)"
   ]
  },
  {
   "cell_type": "code",
   "execution_count": 11,
   "metadata": {},
   "outputs": [
    {
     "data": {
      "application/javascript": [
       "\n",
       "            setTimeout(function() {\n",
       "                var nbb_cell_id = 11;\n",
       "                var nbb_unformatted_code = \"X_train, X_test, y_train, y_test = train_test_split(X, y, test_size=0.2)\";\n",
       "                var nbb_formatted_code = \"X_train, X_test, y_train, y_test = train_test_split(X, y, test_size=0.2)\";\n",
       "                var nbb_cells = Jupyter.notebook.get_cells();\n",
       "                for (var i = 0; i < nbb_cells.length; ++i) {\n",
       "                    if (nbb_cells[i].input_prompt_number == nbb_cell_id) {\n",
       "                        if (nbb_cells[i].get_text() == nbb_unformatted_code) {\n",
       "                             nbb_cells[i].set_text(nbb_formatted_code);\n",
       "                        }\n",
       "                        break;\n",
       "                    }\n",
       "                }\n",
       "            }, 500);\n",
       "            "
      ],
      "text/plain": [
       "<IPython.core.display.Javascript object>"
      ]
     },
     "metadata": {},
     "output_type": "display_data"
    }
   ],
   "source": [
    "X_train, X_test, y_train, y_test = train_test_split(X, y, test_size=0.2)"
   ]
  },
  {
   "cell_type": "code",
   "execution_count": 12,
   "metadata": {},
   "outputs": [
    {
     "data": {
      "text/html": [
       "<div>\n",
       "<style scoped>\n",
       "    .dataframe tbody tr th:only-of-type {\n",
       "        vertical-align: middle;\n",
       "    }\n",
       "\n",
       "    .dataframe tbody tr th {\n",
       "        vertical-align: top;\n",
       "    }\n",
       "\n",
       "    .dataframe thead th {\n",
       "        text-align: right;\n",
       "    }\n",
       "</style>\n",
       "<table border=\"1\" class=\"dataframe\">\n",
       "  <thead>\n",
       "    <tr style=\"text-align: right;\">\n",
       "      <th></th>\n",
       "      <th>0</th>\n",
       "      <th>1</th>\n",
       "      <th>2</th>\n",
       "      <th>3</th>\n",
       "      <th>4</th>\n",
       "      <th>5</th>\n",
       "      <th>6</th>\n",
       "      <th>7</th>\n",
       "      <th>8</th>\n",
       "    </tr>\n",
       "  </thead>\n",
       "  <tbody>\n",
       "    <tr>\n",
       "      <th>2939</th>\n",
       "      <td>37</td>\n",
       "      <td>0</td>\n",
       "      <td>82</td>\n",
       "      <td>0</td>\n",
       "      <td>12</td>\n",
       "      <td>7</td>\n",
       "      <td>45</td>\n",
       "      <td>69</td>\n",
       "      <td>24</td>\n",
       "    </tr>\n",
       "    <tr>\n",
       "      <th>11759</th>\n",
       "      <td>37</td>\n",
       "      <td>0</td>\n",
       "      <td>78</td>\n",
       "      <td>0</td>\n",
       "      <td>24</td>\n",
       "      <td>17</td>\n",
       "      <td>41</td>\n",
       "      <td>55</td>\n",
       "      <td>14</td>\n",
       "    </tr>\n",
       "    <tr>\n",
       "      <th>11198</th>\n",
       "      <td>45</td>\n",
       "      <td>0</td>\n",
       "      <td>82</td>\n",
       "      <td>0</td>\n",
       "      <td>44</td>\n",
       "      <td>-7</td>\n",
       "      <td>37</td>\n",
       "      <td>38</td>\n",
       "      <td>2</td>\n",
       "    </tr>\n",
       "    <tr>\n",
       "      <th>6227</th>\n",
       "      <td>37</td>\n",
       "      <td>0</td>\n",
       "      <td>90</td>\n",
       "      <td>0</td>\n",
       "      <td>34</td>\n",
       "      <td>25</td>\n",
       "      <td>53</td>\n",
       "      <td>57</td>\n",
       "      <td>4</td>\n",
       "    </tr>\n",
       "    <tr>\n",
       "      <th>4958</th>\n",
       "      <td>53</td>\n",
       "      <td>1</td>\n",
       "      <td>87</td>\n",
       "      <td>0</td>\n",
       "      <td>52</td>\n",
       "      <td>-1</td>\n",
       "      <td>34</td>\n",
       "      <td>35</td>\n",
       "      <td>2</td>\n",
       "    </tr>\n",
       "    <tr>\n",
       "      <th>...</th>\n",
       "      <td>...</td>\n",
       "      <td>...</td>\n",
       "      <td>...</td>\n",
       "      <td>...</td>\n",
       "      <td>...</td>\n",
       "      <td>...</td>\n",
       "      <td>...</td>\n",
       "      <td>...</td>\n",
       "      <td>...</td>\n",
       "    </tr>\n",
       "    <tr>\n",
       "      <th>7080</th>\n",
       "      <td>37</td>\n",
       "      <td>0</td>\n",
       "      <td>80</td>\n",
       "      <td>0</td>\n",
       "      <td>10</td>\n",
       "      <td>12</td>\n",
       "      <td>43</td>\n",
       "      <td>70</td>\n",
       "      <td>26</td>\n",
       "    </tr>\n",
       "    <tr>\n",
       "      <th>13327</th>\n",
       "      <td>55</td>\n",
       "      <td>0</td>\n",
       "      <td>78</td>\n",
       "      <td>0</td>\n",
       "      <td>16</td>\n",
       "      <td>-1</td>\n",
       "      <td>23</td>\n",
       "      <td>63</td>\n",
       "      <td>40</td>\n",
       "    </tr>\n",
       "    <tr>\n",
       "      <th>218</th>\n",
       "      <td>45</td>\n",
       "      <td>0</td>\n",
       "      <td>83</td>\n",
       "      <td>6</td>\n",
       "      <td>44</td>\n",
       "      <td>-5</td>\n",
       "      <td>38</td>\n",
       "      <td>39</td>\n",
       "      <td>2</td>\n",
       "    </tr>\n",
       "    <tr>\n",
       "      <th>14400</th>\n",
       "      <td>51</td>\n",
       "      <td>0</td>\n",
       "      <td>78</td>\n",
       "      <td>-1</td>\n",
       "      <td>52</td>\n",
       "      <td>6</td>\n",
       "      <td>27</td>\n",
       "      <td>26</td>\n",
       "      <td>0</td>\n",
       "    </tr>\n",
       "    <tr>\n",
       "      <th>14191</th>\n",
       "      <td>43</td>\n",
       "      <td>0</td>\n",
       "      <td>81</td>\n",
       "      <td>-2</td>\n",
       "      <td>42</td>\n",
       "      <td>-18</td>\n",
       "      <td>38</td>\n",
       "      <td>40</td>\n",
       "      <td>2</td>\n",
       "    </tr>\n",
       "  </tbody>\n",
       "</table>\n",
       "<p>11600 rows × 9 columns</p>\n",
       "</div>"
      ],
      "text/plain": [
       "        0  1   2  3   4   5   6   7   8\n",
       "2939   37  0  82  0  12   7  45  69  24\n",
       "11759  37  0  78  0  24  17  41  55  14\n",
       "11198  45  0  82  0  44  -7  37  38   2\n",
       "6227   37  0  90  0  34  25  53  57   4\n",
       "4958   53  1  87  0  52  -1  34  35   2\n",
       "...    .. ..  .. ..  ..  ..  ..  ..  ..\n",
       "7080   37  0  80  0  10  12  43  70  26\n",
       "13327  55  0  78  0  16  -1  23  63  40\n",
       "218    45  0  83  6  44  -5  38  39   2\n",
       "14400  51  0  78 -1  52   6  27  26   0\n",
       "14191  43  0  81 -2  42 -18  38  40   2\n",
       "\n",
       "[11600 rows x 9 columns]"
      ]
     },
     "execution_count": 12,
     "metadata": {},
     "output_type": "execute_result"
    },
    {
     "data": {
      "application/javascript": [
       "\n",
       "            setTimeout(function() {\n",
       "                var nbb_cell_id = 12;\n",
       "                var nbb_unformatted_code = \"X_train\";\n",
       "                var nbb_formatted_code = \"X_train\";\n",
       "                var nbb_cells = Jupyter.notebook.get_cells();\n",
       "                for (var i = 0; i < nbb_cells.length; ++i) {\n",
       "                    if (nbb_cells[i].input_prompt_number == nbb_cell_id) {\n",
       "                        if (nbb_cells[i].get_text() == nbb_unformatted_code) {\n",
       "                             nbb_cells[i].set_text(nbb_formatted_code);\n",
       "                        }\n",
       "                        break;\n",
       "                    }\n",
       "                }\n",
       "            }, 500);\n",
       "            "
      ],
      "text/plain": [
       "<IPython.core.display.Javascript object>"
      ]
     },
     "metadata": {},
     "output_type": "display_data"
    }
   ],
   "source": [
    "X_train"
   ]
  },
  {
   "cell_type": "markdown",
   "metadata": {},
   "source": [
    "# Create the Model"
   ]
  },
  {
   "cell_type": "code",
   "execution_count": null,
   "metadata": {},
   "outputs": [],
   "source": []
  },
  {
   "cell_type": "code",
   "execution_count": 13,
   "metadata": {},
   "outputs": [
    {
     "data": {
      "application/javascript": [
       "\n",
       "            setTimeout(function() {\n",
       "                var nbb_cell_id = 13;\n",
       "                var nbb_unformatted_code = \"# scaler = StandardScaler()\\n\\n# X_train_scaled = pd.DataFrame(\\n#     scaler.fit(X_train), index=X_train.index, columns=X_train.columns\\n# )\\n\\n# X_test_scaled = pd.DataFrame(\\n#     scaler.fit(X_test), index=X_test.index, columns=X_test.columns\\n# )\";\n",
       "                var nbb_formatted_code = \"# scaler = StandardScaler()\\n\\n# X_train_scaled = pd.DataFrame(\\n#     scaler.fit(X_train), index=X_train.index, columns=X_train.columns\\n# )\\n\\n# X_test_scaled = pd.DataFrame(\\n#     scaler.fit(X_test), index=X_test.index, columns=X_test.columns\\n# )\";\n",
       "                var nbb_cells = Jupyter.notebook.get_cells();\n",
       "                for (var i = 0; i < nbb_cells.length; ++i) {\n",
       "                    if (nbb_cells[i].input_prompt_number == nbb_cell_id) {\n",
       "                        if (nbb_cells[i].get_text() == nbb_unformatted_code) {\n",
       "                             nbb_cells[i].set_text(nbb_formatted_code);\n",
       "                        }\n",
       "                        break;\n",
       "                    }\n",
       "                }\n",
       "            }, 500);\n",
       "            "
      ],
      "text/plain": [
       "<IPython.core.display.Javascript object>"
      ]
     },
     "metadata": {},
     "output_type": "display_data"
    }
   ],
   "source": [
    "# scaler = StandardScaler()\n",
    "\n",
    "# X_train_scaled = pd.DataFrame(\n",
    "#     scaler.fit(X_train), index=X_train.index, columns=X_train.columns\n",
    "# )\n",
    "\n",
    "# X_test_scaled = pd.DataFrame(\n",
    "#     scaler.fit(X_test), index=X_test.index, columns=X_test.columns\n",
    "# )"
   ]
  },
  {
   "cell_type": "code",
   "execution_count": null,
   "metadata": {},
   "outputs": [],
   "source": []
  },
  {
   "cell_type": "code",
   "execution_count": 14,
   "metadata": {},
   "outputs": [
    {
     "data": {
      "text/plain": [
       "LogisticRegression(C=1.0, class_weight=None, dual=False, fit_intercept=True,\n",
       "                   intercept_scaling=1, l1_ratio=None, max_iter=1000,\n",
       "                   multi_class='auto', n_jobs=None, penalty='l2',\n",
       "                   random_state=None, solver='lbfgs', tol=0.0001, verbose=0,\n",
       "                   warm_start=False)"
      ]
     },
     "execution_count": 14,
     "metadata": {},
     "output_type": "execute_result"
    },
    {
     "data": {
      "application/javascript": [
       "\n",
       "            setTimeout(function() {\n",
       "                var nbb_cell_id = 14;\n",
       "                var nbb_unformatted_code = \"model = LogisticRegression(max_iter=1000)\\n\\nmodel.fit(X_train, y_train)\";\n",
       "                var nbb_formatted_code = \"model = LogisticRegression(max_iter=1000)\\n\\nmodel.fit(X_train, y_train)\";\n",
       "                var nbb_cells = Jupyter.notebook.get_cells();\n",
       "                for (var i = 0; i < nbb_cells.length; ++i) {\n",
       "                    if (nbb_cells[i].input_prompt_number == nbb_cell_id) {\n",
       "                        if (nbb_cells[i].get_text() == nbb_unformatted_code) {\n",
       "                             nbb_cells[i].set_text(nbb_formatted_code);\n",
       "                        }\n",
       "                        break;\n",
       "                    }\n",
       "                }\n",
       "            }, 500);\n",
       "            "
      ],
      "text/plain": [
       "<IPython.core.display.Javascript object>"
      ]
     },
     "metadata": {},
     "output_type": "display_data"
    }
   ],
   "source": [
    "model = LogisticRegression(max_iter=1000)\n",
    "\n",
    "model.fit(X_train, y_train)"
   ]
  },
  {
   "cell_type": "markdown",
   "metadata": {},
   "source": [
    "# Calculate Accuracy"
   ]
  },
  {
   "cell_type": "code",
   "execution_count": 15,
   "metadata": {},
   "outputs": [
    {
     "name": "stdout",
     "output_type": "stream",
     "text": [
      "The train accuracy of this model fit is 0.821551724137931\n",
      "The train accuracy of this model fit is 0.8337931034482758\n"
     ]
    },
    {
     "data": {
      "application/javascript": [
       "\n",
       "            setTimeout(function() {\n",
       "                var nbb_cell_id = 15;\n",
       "                var nbb_unformatted_code = \"print(\\n    \\\"The train accuracy of this model fit is {}\\\".format(model.score(X_train, y_train))\\n)\\n\\nprint(\\\"The train accuracy of this model fit is {}\\\".format(model.score(X_test, y_test)))\";\n",
       "                var nbb_formatted_code = \"print(\\n    \\\"The train accuracy of this model fit is {}\\\".format(model.score(X_train, y_train))\\n)\\n\\nprint(\\\"The train accuracy of this model fit is {}\\\".format(model.score(X_test, y_test)))\";\n",
       "                var nbb_cells = Jupyter.notebook.get_cells();\n",
       "                for (var i = 0; i < nbb_cells.length; ++i) {\n",
       "                    if (nbb_cells[i].input_prompt_number == nbb_cell_id) {\n",
       "                        if (nbb_cells[i].get_text() == nbb_unformatted_code) {\n",
       "                             nbb_cells[i].set_text(nbb_formatted_code);\n",
       "                        }\n",
       "                        break;\n",
       "                    }\n",
       "                }\n",
       "            }, 500);\n",
       "            "
      ],
      "text/plain": [
       "<IPython.core.display.Javascript object>"
      ]
     },
     "metadata": {},
     "output_type": "display_data"
    }
   ],
   "source": [
    "print(\n",
    "    \"The train accuracy of this model fit is {}\".format(model.score(X_train, y_train))\n",
    ")\n",
    "\n",
    "print(\"The train accuracy of this model fit is {}\".format(model.score(X_test, y_test)))"
   ]
  },
  {
   "cell_type": "markdown",
   "metadata": {},
   "source": [
    "# Dummy Classifier"
   ]
  },
  {
   "cell_type": "code",
   "execution_count": 16,
   "metadata": {},
   "outputs": [
    {
     "data": {
      "text/plain": [
       "DummyClassifier(constant=None, random_state=None, strategy='most_frequent')"
      ]
     },
     "execution_count": 16,
     "metadata": {},
     "output_type": "execute_result"
    },
    {
     "data": {
      "application/javascript": [
       "\n",
       "            setTimeout(function() {\n",
       "                var nbb_cell_id = 16;\n",
       "                var nbb_unformatted_code = \"dummy_clf = DummyClassifier(strategy=\\\"most_frequent\\\")\\ndummy_clf.fit(X_train, y_train)\";\n",
       "                var nbb_formatted_code = \"dummy_clf = DummyClassifier(strategy=\\\"most_frequent\\\")\\ndummy_clf.fit(X_train, y_train)\";\n",
       "                var nbb_cells = Jupyter.notebook.get_cells();\n",
       "                for (var i = 0; i < nbb_cells.length; ++i) {\n",
       "                    if (nbb_cells[i].input_prompt_number == nbb_cell_id) {\n",
       "                        if (nbb_cells[i].get_text() == nbb_unformatted_code) {\n",
       "                             nbb_cells[i].set_text(nbb_formatted_code);\n",
       "                        }\n",
       "                        break;\n",
       "                    }\n",
       "                }\n",
       "            }, 500);\n",
       "            "
      ],
      "text/plain": [
       "<IPython.core.display.Javascript object>"
      ]
     },
     "metadata": {},
     "output_type": "display_data"
    }
   ],
   "source": [
    "dummy_clf = DummyClassifier(strategy=\"most_frequent\")\n",
    "dummy_clf.fit(X_train, y_train)"
   ]
  },
  {
   "cell_type": "code",
   "execution_count": 17,
   "metadata": {},
   "outputs": [
    {
     "name": "stdout",
     "output_type": "stream",
     "text": [
      "The dummy accuracy of this model fit is 0.86\n"
     ]
    },
    {
     "data": {
      "application/javascript": [
       "\n",
       "            setTimeout(function() {\n",
       "                var nbb_cell_id = 17;\n",
       "                var nbb_unformatted_code = \"print(\\n    \\\"The dummy accuracy of this model fit is {}\\\".format(dummy_clf.score(X_test, y_test))\\n)\";\n",
       "                var nbb_formatted_code = \"print(\\n    \\\"The dummy accuracy of this model fit is {}\\\".format(dummy_clf.score(X_test, y_test))\\n)\";\n",
       "                var nbb_cells = Jupyter.notebook.get_cells();\n",
       "                for (var i = 0; i < nbb_cells.length; ++i) {\n",
       "                    if (nbb_cells[i].input_prompt_number == nbb_cell_id) {\n",
       "                        if (nbb_cells[i].get_text() == nbb_unformatted_code) {\n",
       "                             nbb_cells[i].set_text(nbb_formatted_code);\n",
       "                        }\n",
       "                        break;\n",
       "                    }\n",
       "                }\n",
       "            }, 500);\n",
       "            "
      ],
      "text/plain": [
       "<IPython.core.display.Javascript object>"
      ]
     },
     "metadata": {},
     "output_type": "display_data"
    }
   ],
   "source": [
    "print(\n",
    "    \"The dummy accuracy of this model fit is {}\".format(dummy_clf.score(X_test, y_test))\n",
    ")"
   ]
  },
  {
   "cell_type": "markdown",
   "metadata": {},
   "source": [
    "With our model only being about 15% better than the lazy guessing of the dummy classifier, we likely have more room to increase our accuracy. "
   ]
  },
  {
   "cell_type": "markdown",
   "metadata": {},
   "source": [
    "# Confusion Matrix"
   ]
  },
  {
   "cell_type": "code",
   "execution_count": 18,
   "metadata": {},
   "outputs": [
    {
     "data": {
      "application/javascript": [
       "\n",
       "            setTimeout(function() {\n",
       "                var nbb_cell_id = 18;\n",
       "                var nbb_unformatted_code = \"y_pred = model.predict(X_test)\\nlr_cm = confusion_matrix(y_test, y_pred)\";\n",
       "                var nbb_formatted_code = \"y_pred = model.predict(X_test)\\nlr_cm = confusion_matrix(y_test, y_pred)\";\n",
       "                var nbb_cells = Jupyter.notebook.get_cells();\n",
       "                for (var i = 0; i < nbb_cells.length; ++i) {\n",
       "                    if (nbb_cells[i].input_prompt_number == nbb_cell_id) {\n",
       "                        if (nbb_cells[i].get_text() == nbb_unformatted_code) {\n",
       "                             nbb_cells[i].set_text(nbb_formatted_code);\n",
       "                        }\n",
       "                        break;\n",
       "                    }\n",
       "                }\n",
       "            }, 500);\n",
       "            "
      ],
      "text/plain": [
       "<IPython.core.display.Javascript object>"
      ]
     },
     "metadata": {},
     "output_type": "display_data"
    }
   ],
   "source": [
    "y_pred = model.predict(X_test)\n",
    "lr_cm = confusion_matrix(y_test, y_pred)"
   ]
  },
  {
   "cell_type": "code",
   "execution_count": 19,
   "metadata": {},
   "outputs": [
    {
     "data": {
      "image/png": "[encoded data removed]",
      "text/plain": [
       "<Figure size 576x432 with 2 Axes>"
      ]
     },
     "metadata": {
      "needs_background": "light"
     },
     "output_type": "display_data"
    },
    {
     "data": {
      "application/javascript": [
       "\n",
       "            setTimeout(function() {\n",
       "                var nbb_cell_id = 19;\n",
       "                var nbb_unformatted_code = \"plot_confusion_matrix(lr_cm, target_names=[\\\"Class 1\\\", \\\"Other Class\\\"])\";\n",
       "                var nbb_formatted_code = \"plot_confusion_matrix(lr_cm, target_names=[\\\"Class 1\\\", \\\"Other Class\\\"])\";\n",
       "                var nbb_cells = Jupyter.notebook.get_cells();\n",
       "                for (var i = 0; i < nbb_cells.length; ++i) {\n",
       "                    if (nbb_cells[i].input_prompt_number == nbb_cell_id) {\n",
       "                        if (nbb_cells[i].get_text() == nbb_unformatted_code) {\n",
       "                             nbb_cells[i].set_text(nbb_formatted_code);\n",
       "                        }\n",
       "                        break;\n",
       "                    }\n",
       "                }\n",
       "            }, 500);\n",
       "            "
      ],
      "text/plain": [
       "<IPython.core.display.Javascript object>"
      ]
     },
     "metadata": {},
     "output_type": "display_data"
    }
   ],
   "source": [
    "plot_confusion_matrix(lr_cm, target_names=[\"Class 1\", \"Other Class\"])"
   ]
  },
  {
   "cell_type": "markdown",
   "metadata": {},
   "source": [
    "# Metrics\n",
    "\n",
    "* F1\n",
    "* F Beta\n",
    "* Precision\n",
    "* Recall\n",
    "* Accuracy"
   ]
  },
  {
   "cell_type": "code",
   "execution_count": 20,
   "metadata": {},
   "outputs": [
    {
     "data": {
      "application/javascript": [
       "\n",
       "            setTimeout(function() {\n",
       "                var nbb_cell_id = 20;\n",
       "                var nbb_unformatted_code = \"# tp, fp, tn, fn = lr_cm.ravel()\\n\\naccuracy = accuracy_score(y_test, y_pred)\\nprecision = precision_score(y_test, y_pred)\\nrecall = recall_score(y_test, y_pred)\\nf1 = f1_score(y_test, y_pred)\\nfbeta_precision = fbeta_score(y_test, y_pred, 0.5)\\nfbeta_recall = fbeta_score(y_test, y_pred, 2)\";\n",
       "                var nbb_formatted_code = \"# tp, fp, tn, fn = lr_cm.ravel()\\n\\naccuracy = accuracy_score(y_test, y_pred)\\nprecision = precision_score(y_test, y_pred)\\nrecall = recall_score(y_test, y_pred)\\nf1 = f1_score(y_test, y_pred)\\nfbeta_precision = fbeta_score(y_test, y_pred, 0.5)\\nfbeta_recall = fbeta_score(y_test, y_pred, 2)\";\n",
       "                var nbb_cells = Jupyter.notebook.get_cells();\n",
       "                for (var i = 0; i < nbb_cells.length; ++i) {\n",
       "                    if (nbb_cells[i].input_prompt_number == nbb_cell_id) {\n",
       "                        if (nbb_cells[i].get_text() == nbb_unformatted_code) {\n",
       "                             nbb_cells[i].set_text(nbb_formatted_code);\n",
       "                        }\n",
       "                        break;\n",
       "                    }\n",
       "                }\n",
       "            }, 500);\n",
       "            "
      ],
      "text/plain": [
       "<IPython.core.display.Javascript object>"
      ]
     },
     "metadata": {},
     "output_type": "display_data"
    }
   ],
   "source": [
    "# tp, fp, tn, fn = lr_cm.ravel()\n",
    "\n",
    "accuracy = accuracy_score(y_test, y_pred)\n",
    "precision = precision_score(y_test, y_pred)\n",
    "recall = recall_score(y_test, y_pred)\n",
    "f1 = f1_score(y_test, y_pred)\n",
    "fbeta_precision = fbeta_score(y_test, y_pred, 0.5)\n",
    "fbeta_recall = fbeta_score(y_test, y_pred, 2)"
   ]
  },
  {
   "cell_type": "code",
   "execution_count": 21,
   "metadata": {},
   "outputs": [
    {
     "name": "stdout",
     "output_type": "stream",
     "text": [
      "Accuracy score: 0.83\n",
      "Precision score: 0.18\n",
      "Recall score: 0.05\n",
      "F1 score: 0.08\n",
      "Fbeta score favoring precision: 0.12\n",
      "FBeta score favoring recall: 0.06\n"
     ]
    },
    {
     "data": {
      "application/javascript": [
       "\n",
       "            setTimeout(function() {\n",
       "                var nbb_cell_id = 21;\n",
       "                var nbb_unformatted_code = \"print(\\\"Accuracy score: {:.2f}\\\".format(accuracy))\\nprint(\\\"Precision score: {:.2f}\\\".format(precision))\\nprint(\\\"Recall score: {:.2f}\\\".format(recall))\\nprint(\\\"F1 score: {:.2f}\\\".format(f1))\\nprint(\\\"Fbeta score favoring precision: {:.2f}\\\".format(fbeta_precision))\\nprint(\\\"FBeta score favoring recall: {:.2f}\\\".format(fbeta_recall))\";\n",
       "                var nbb_formatted_code = \"print(\\\"Accuracy score: {:.2f}\\\".format(accuracy))\\nprint(\\\"Precision score: {:.2f}\\\".format(precision))\\nprint(\\\"Recall score: {:.2f}\\\".format(recall))\\nprint(\\\"F1 score: {:.2f}\\\".format(f1))\\nprint(\\\"Fbeta score favoring precision: {:.2f}\\\".format(fbeta_precision))\\nprint(\\\"FBeta score favoring recall: {:.2f}\\\".format(fbeta_recall))\";\n",
       "                var nbb_cells = Jupyter.notebook.get_cells();\n",
       "                for (var i = 0; i < nbb_cells.length; ++i) {\n",
       "                    if (nbb_cells[i].input_prompt_number == nbb_cell_id) {\n",
       "                        if (nbb_cells[i].get_text() == nbb_unformatted_code) {\n",
       "                             nbb_cells[i].set_text(nbb_formatted_code);\n",
       "                        }\n",
       "                        break;\n",
       "                    }\n",
       "                }\n",
       "            }, 500);\n",
       "            "
      ],
      "text/plain": [
       "<IPython.core.display.Javascript object>"
      ]
     },
     "metadata": {},
     "output_type": "display_data"
    }
   ],
   "source": [
    "print(\"Accuracy score: {:.2f}\".format(accuracy))\n",
    "print(\"Precision score: {:.2f}\".format(precision))\n",
    "print(\"Recall score: {:.2f}\".format(recall))\n",
    "print(\"F1 score: {:.2f}\".format(f1))\n",
    "print(\"Fbeta score favoring precision: {:.2f}\".format(fbeta_precision))\n",
    "print(\"FBeta score favoring recall: {:.2f}\".format(fbeta_recall))"
   ]
  },
  {
   "cell_type": "markdown",
   "metadata": {},
   "source": [
    "# Classification Report"
   ]
  },
  {
   "cell_type": "code",
   "execution_count": 22,
   "metadata": {},
   "outputs": [
    {
     "name": "stdout",
     "output_type": "stream",
     "text": [
      "              precision    recall  f1-score   support\n",
      "\n",
      "   maj_class       0.86      0.96      0.91      2494\n",
      "   min_class       0.18      0.05      0.08       406\n",
      "\n",
      "    accuracy                           0.83      2900\n",
      "   macro avg       0.52      0.51      0.49      2900\n",
      "weighted avg       0.77      0.83      0.79      2900\n",
      "\n"
     ]
    },
    {
     "data": {
      "application/javascript": [
       "\n",
       "            setTimeout(function() {\n",
       "                var nbb_cell_id = 22;\n",
       "                var nbb_unformatted_code = \"report = classification_report(y_test, y_pred, target_names=[\\\"maj_class\\\", \\\"min_class\\\"])\\nprint(report)\";\n",
       "                var nbb_formatted_code = \"report = classification_report(y_test, y_pred, target_names=[\\\"maj_class\\\", \\\"min_class\\\"])\\nprint(report)\";\n",
       "                var nbb_cells = Jupyter.notebook.get_cells();\n",
       "                for (var i = 0; i < nbb_cells.length; ++i) {\n",
       "                    if (nbb_cells[i].input_prompt_number == nbb_cell_id) {\n",
       "                        if (nbb_cells[i].get_text() == nbb_unformatted_code) {\n",
       "                             nbb_cells[i].set_text(nbb_formatted_code);\n",
       "                        }\n",
       "                        break;\n",
       "                    }\n",
       "                }\n",
       "            }, 500);\n",
       "            "
      ],
      "text/plain": [
       "<IPython.core.display.Javascript object>"
      ]
     },
     "metadata": {},
     "output_type": "display_data"
    }
   ],
   "source": [
    "report = classification_report(y_test, y_pred, target_names=[\"maj_class\", \"min_class\"])\n",
    "print(report)"
   ]
  },
  {
   "cell_type": "markdown",
   "metadata": {},
   "source": [
    "# ROC and AUC"
   ]
  },
  {
   "cell_type": "code",
   "execution_count": 23,
   "metadata": {},
   "outputs": [
    {
     "data": {
      "application/javascript": [
       "\n",
       "            setTimeout(function() {\n",
       "                var nbb_cell_id = 23;\n",
       "                var nbb_unformatted_code = \"y_test_df = pd.DataFrame(y_test)\";\n",
       "                var nbb_formatted_code = \"y_test_df = pd.DataFrame(y_test)\";\n",
       "                var nbb_cells = Jupyter.notebook.get_cells();\n",
       "                for (var i = 0; i < nbb_cells.length; ++i) {\n",
       "                    if (nbb_cells[i].input_prompt_number == nbb_cell_id) {\n",
       "                        if (nbb_cells[i].get_text() == nbb_unformatted_code) {\n",
       "                             nbb_cells[i].set_text(nbb_formatted_code);\n",
       "                        }\n",
       "                        break;\n",
       "                    }\n",
       "                }\n",
       "            }, 500);\n",
       "            "
      ],
      "text/plain": [
       "<IPython.core.display.Javascript object>"
      ]
     },
     "metadata": {},
     "output_type": "display_data"
    }
   ],
   "source": [
    "y_test_df = pd.DataFrame(y_test)"
   ]
  },
  {
   "cell_type": "code",
   "execution_count": 24,
   "metadata": {},
   "outputs": [
    {
     "data": {
      "application/javascript": [
       "\n",
       "            setTimeout(function() {\n",
       "                var nbb_cell_id = 24;\n",
       "                var nbb_unformatted_code = \"y_probs = model.predict_proba(X_test)[:, 1]\";\n",
       "                var nbb_formatted_code = \"y_probs = model.predict_proba(X_test)[:, 1]\";\n",
       "                var nbb_cells = Jupyter.notebook.get_cells();\n",
       "                for (var i = 0; i < nbb_cells.length; ++i) {\n",
       "                    if (nbb_cells[i].input_prompt_number == nbb_cell_id) {\n",
       "                        if (nbb_cells[i].get_text() == nbb_unformatted_code) {\n",
       "                             nbb_cells[i].set_text(nbb_formatted_code);\n",
       "                        }\n",
       "                        break;\n",
       "                    }\n",
       "                }\n",
       "            }, 500);\n",
       "            "
      ],
      "text/plain": [
       "<IPython.core.display.Javascript object>"
      ]
     },
     "metadata": {},
     "output_type": "display_data"
    }
   ],
   "source": [
    "y_probs = model.predict_proba(X_test)[:, 1]"
   ]
  },
  {
   "cell_type": "code",
   "execution_count": 25,
   "metadata": {},
   "outputs": [
    {
     "data": {
      "application/javascript": [
       "\n",
       "            setTimeout(function() {\n",
       "                var nbb_cell_id = 25;\n",
       "                var nbb_unformatted_code = \"# y_probs = y_probs.flatten()\\n# y_test = y_test.flatten()\";\n",
       "                var nbb_formatted_code = \"# y_probs = y_probs.flatten()\\n# y_test = y_test.flatten()\";\n",
       "                var nbb_cells = Jupyter.notebook.get_cells();\n",
       "                for (var i = 0; i < nbb_cells.length; ++i) {\n",
       "                    if (nbb_cells[i].input_prompt_number == nbb_cell_id) {\n",
       "                        if (nbb_cells[i].get_text() == nbb_unformatted_code) {\n",
       "                             nbb_cells[i].set_text(nbb_formatted_code);\n",
       "                        }\n",
       "                        break;\n",
       "                    }\n",
       "                }\n",
       "            }, 500);\n",
       "            "
      ],
      "text/plain": [
       "<IPython.core.display.Javascript object>"
      ]
     },
     "metadata": {},
     "output_type": "display_data"
    }
   ],
   "source": [
    "# y_probs = y_probs.flatten()\n",
    "# y_test = y_test.flatten()"
   ]
  },
  {
   "cell_type": "code",
   "execution_count": 26,
   "metadata": {},
   "outputs": [
    {
     "data": {
      "text/plain": [
       "array([0.09565295, 0.21271867, 0.04482473, ..., 0.06422852, 0.12392787,\n",
       "       0.28290041])"
      ]
     },
     "execution_count": 26,
     "metadata": {},
     "output_type": "execute_result"
    },
    {
     "data": {
      "application/javascript": [
       "\n",
       "            setTimeout(function() {\n",
       "                var nbb_cell_id = 26;\n",
       "                var nbb_unformatted_code = \"y_probs\";\n",
       "                var nbb_formatted_code = \"y_probs\";\n",
       "                var nbb_cells = Jupyter.notebook.get_cells();\n",
       "                for (var i = 0; i < nbb_cells.length; ++i) {\n",
       "                    if (nbb_cells[i].input_prompt_number == nbb_cell_id) {\n",
       "                        if (nbb_cells[i].get_text() == nbb_unformatted_code) {\n",
       "                             nbb_cells[i].set_text(nbb_formatted_code);\n",
       "                        }\n",
       "                        break;\n",
       "                    }\n",
       "                }\n",
       "            }, 500);\n",
       "            "
      ],
      "text/plain": [
       "<IPython.core.display.Javascript object>"
      ]
     },
     "metadata": {},
     "output_type": "display_data"
    }
   ],
   "source": [
    "y_probs"
   ]
  },
  {
   "cell_type": "code",
   "execution_count": 27,
   "metadata": {},
   "outputs": [
    {
     "data": {
      "image/png": "[encoded data removed]",
      "text/plain": [
       "<Figure size 432x432 with 1 Axes>"
      ]
     },
     "metadata": {},
     "output_type": "display_data"
    },
    {
     "name": "stdout",
     "output_type": "stream",
     "text": [
      "Area under the ROC curve: 0.855\n"
     ]
    },
    {
     "data": {
      "application/javascript": [
       "\n",
       "            setTimeout(function() {\n",
       "                var nbb_cell_id = 27;\n",
       "                var nbb_unformatted_code = \"fpr, tpr, thresholds = roc_curve(y_test, y_probs)\\n\\nwith plt.xkcd():\\n    fig = plt.figure(figsize=(6, 6))\\n    plt.plot([0, 1], [0, 1], \\\"k--\\\")\\n    plt.plot(fpr, tpr)\\n    plt.fill(fpr, tpr, \\\"grey\\\", alpha=0.3)\\n    plt.xlabel(\\\"False Positive Rate\\\")\\n    plt.ylabel(\\\"True Positive Rate\\\")\\n    plt.title(\\\"ROC curve for Logistic Regression Model\\\")\\n    plt.show()\\n\\nauc = roc_auc_score(y_test, y_probs)\\nprint(\\\"Area under the ROC curve: {:.3f}\\\".format(auc))\";\n",
       "                var nbb_formatted_code = \"fpr, tpr, thresholds = roc_curve(y_test, y_probs)\\n\\nwith plt.xkcd():\\n    fig = plt.figure(figsize=(6, 6))\\n    plt.plot([0, 1], [0, 1], \\\"k--\\\")\\n    plt.plot(fpr, tpr)\\n    plt.fill(fpr, tpr, \\\"grey\\\", alpha=0.3)\\n    plt.xlabel(\\\"False Positive Rate\\\")\\n    plt.ylabel(\\\"True Positive Rate\\\")\\n    plt.title(\\\"ROC curve for Logistic Regression Model\\\")\\n    plt.show()\\n\\nauc = roc_auc_score(y_test, y_probs)\\nprint(\\\"Area under the ROC curve: {:.3f}\\\".format(auc))\";\n",
       "                var nbb_cells = Jupyter.notebook.get_cells();\n",
       "                for (var i = 0; i < nbb_cells.length; ++i) {\n",
       "                    if (nbb_cells[i].input_prompt_number == nbb_cell_id) {\n",
       "                        if (nbb_cells[i].get_text() == nbb_unformatted_code) {\n",
       "                             nbb_cells[i].set_text(nbb_formatted_code);\n",
       "                        }\n",
       "                        break;\n",
       "                    }\n",
       "                }\n",
       "            }, 500);\n",
       "            "
      ],
      "text/plain": [
       "<IPython.core.display.Javascript object>"
      ]
     },
     "metadata": {},
     "output_type": "display_data"
    }
   ],
   "source": [
    "fpr, tpr, thresholds = roc_curve(y_test, y_probs)\n",
    "\n",
    "with plt.xkcd():\n",
    "    fig = plt.figure(figsize=(6, 6))\n",
    "    plt.plot([0, 1], [0, 1], \"k--\")\n",
    "    plt.plot(fpr, tpr)\n",
    "    plt.fill(fpr, tpr, \"grey\", alpha=0.3)\n",
    "    plt.xlabel(\"False Positive Rate\")\n",
    "    plt.ylabel(\"True Positive Rate\")\n",
    "    plt.title(\"ROC curve for Logistic Regression Model\")\n",
    "    plt.show()\n",
    "\n",
    "auc = roc_auc_score(y_test, y_probs)\n",
    "print(\"Area under the ROC curve: {:.3f}\".format(auc))"
   ]
  },
  {
   "cell_type": "markdown",
   "metadata": {},
   "source": [
    "# Precision-Recall Curve"
   ]
  },
  {
   "cell_type": "code",
   "execution_count": 28,
   "metadata": {},
   "outputs": [
    {
     "data": {
      "image/png": "[encoded data removed]",
      "text/plain": [
       "<Figure size 432x432 with 1 Axes>"
      ]
     },
     "metadata": {
      "needs_background": "light"
     },
     "output_type": "display_data"
    },
    {
     "data": {
      "application/javascript": [
       "\n",
       "            setTimeout(function() {\n",
       "                var nbb_cell_id = 28;\n",
       "                var nbb_unformatted_code = \"precision, recall, thresholds = precision_recall_curve(y_test, y_pred)\\n\\nfig = plt.figure(figsize=(6, 6))\\nplt.plot(recall, precision)\\nplt.xlabel(\\\"Recall\\\")\\nplt.ylabel(\\\"Precision\\\")\\nplt.title(\\\"Precision-Recall Curve\\\")\\nplt.show()\";\n",
       "                var nbb_formatted_code = \"precision, recall, thresholds = precision_recall_curve(y_test, y_pred)\\n\\nfig = plt.figure(figsize=(6, 6))\\nplt.plot(recall, precision)\\nplt.xlabel(\\\"Recall\\\")\\nplt.ylabel(\\\"Precision\\\")\\nplt.title(\\\"Precision-Recall Curve\\\")\\nplt.show()\";\n",
       "                var nbb_cells = Jupyter.notebook.get_cells();\n",
       "                for (var i = 0; i < nbb_cells.length; ++i) {\n",
       "                    if (nbb_cells[i].input_prompt_number == nbb_cell_id) {\n",
       "                        if (nbb_cells[i].get_text() == nbb_unformatted_code) {\n",
       "                             nbb_cells[i].set_text(nbb_formatted_code);\n",
       "                        }\n",
       "                        break;\n",
       "                    }\n",
       "                }\n",
       "            }, 500);\n",
       "            "
      ],
      "text/plain": [
       "<IPython.core.display.Javascript object>"
      ]
     },
     "metadata": {},
     "output_type": "display_data"
    }
   ],
   "source": [
    "precision, recall, thresholds = precision_recall_curve(y_test, y_pred)\n",
    "\n",
    "fig = plt.figure(figsize=(6, 6))\n",
    "plt.plot(recall, precision)\n",
    "plt.xlabel(\"Recall\")\n",
    "plt.ylabel(\"Precision\")\n",
    "plt.title(\"Precision-Recall Curve\")\n",
    "plt.show()"
   ]
  },
  {
   "cell_type": "markdown",
   "metadata": {},
   "source": [
    "# Cross Validation"
   ]
  },
  {
   "cell_type": "code",
   "execution_count": 29,
   "metadata": {},
   "outputs": [
    {
     "name": "stdout",
     "output_type": "stream",
     "text": [
      "Accuracy scores for the 5 folds:  [0.81681034 0.81724138 0.81982759 0.82198276 0.83232759]\n",
      "Mean cross validation score: 0.822\n"
     ]
    },
    {
     "data": {
      "application/javascript": [
       "\n",
       "            setTimeout(function() {\n",
       "                var nbb_cell_id = 29;\n",
       "                var nbb_unformatted_code = \"clf = LogisticRegression(max_iter=1000)\\ncv_scores = cross_val_score(clf, X_train, y_train, cv=5)\\n\\nprint(\\\"Accuracy scores for the 5 folds: \\\", cv_scores)\\nprint(\\\"Mean cross validation score: {:.3f}\\\".format(np.mean(cv_scores)))\";\n",
       "                var nbb_formatted_code = \"clf = LogisticRegression(max_iter=1000)\\ncv_scores = cross_val_score(clf, X_train, y_train, cv=5)\\n\\nprint(\\\"Accuracy scores for the 5 folds: \\\", cv_scores)\\nprint(\\\"Mean cross validation score: {:.3f}\\\".format(np.mean(cv_scores)))\";\n",
       "                var nbb_cells = Jupyter.notebook.get_cells();\n",
       "                for (var i = 0; i < nbb_cells.length; ++i) {\n",
       "                    if (nbb_cells[i].input_prompt_number == nbb_cell_id) {\n",
       "                        if (nbb_cells[i].get_text() == nbb_unformatted_code) {\n",
       "                             nbb_cells[i].set_text(nbb_formatted_code);\n",
       "                        }\n",
       "                        break;\n",
       "                    }\n",
       "                }\n",
       "            }, 500);\n",
       "            "
      ],
      "text/plain": [
       "<IPython.core.display.Javascript object>"
      ]
     },
     "metadata": {},
     "output_type": "display_data"
    }
   ],
   "source": [
    "clf = LogisticRegression(max_iter=1000)\n",
    "cv_scores = cross_val_score(clf, X_train, y_train, cv=5)\n",
    "\n",
    "print(\"Accuracy scores for the 5 folds: \", cv_scores)\n",
    "print(\"Mean cross validation score: {:.3f}\".format(np.mean(cv_scores)))"
   ]
  },
  {
   "cell_type": "markdown",
   "metadata": {},
   "source": [
    "# KNN Trial"
   ]
  },
  {
   "cell_type": "code",
   "execution_count": 32,
   "metadata": {},
   "outputs": [
    {
     "name": "stdout",
     "output_type": "stream",
     "text": [
      "Accuracy of KNN (k = 7): 0.999\n"
     ]
    },
    {
     "data": {
      "application/javascript": [
       "\n",
       "            setTimeout(function() {\n",
       "                var nbb_cell_id = 32;\n",
       "                var nbb_unformatted_code = \"knn = KNeighborsClassifier(n_neighbors=7)\\n\\n# Then  fit the model\\nknn.fit(X_train, y_train)\\n\\n# How well did we do\\nknn_7_score = knn.score(X_test, y_test)\\n\\nprint(\\\"Accuracy of KNN (k = 7): {:.3f}\\\".format(knn_7_score))\";\n",
       "                var nbb_formatted_code = \"knn = KNeighborsClassifier(n_neighbors=7)\\n\\n# Then  fit the model\\nknn.fit(X_train, y_train)\\n\\n# How well did we do\\nknn_7_score = knn.score(X_test, y_test)\\n\\nprint(\\\"Accuracy of KNN (k = 7): {:.3f}\\\".format(knn_7_score))\";\n",
       "                var nbb_cells = Jupyter.notebook.get_cells();\n",
       "                for (var i = 0; i < nbb_cells.length; ++i) {\n",
       "                    if (nbb_cells[i].input_prompt_number == nbb_cell_id) {\n",
       "                        if (nbb_cells[i].get_text() == nbb_unformatted_code) {\n",
       "                             nbb_cells[i].set_text(nbb_formatted_code);\n",
       "                        }\n",
       "                        break;\n",
       "                    }\n",
       "                }\n",
       "            }, 500);\n",
       "            "
      ],
      "text/plain": [
       "<IPython.core.display.Javascript object>"
      ]
     },
     "metadata": {},
     "output_type": "display_data"
    },
    {
     "data": {
      "application/javascript": [
       "\n",
       "            setTimeout(function() {\n",
       "                var nbb_cell_id = 32;\n",
       "                var nbb_unformatted_code = \"knn = KNeighborsClassifier(n_neighbors=7)\\n\\n# Then  fit the model\\nknn.fit(X_train, y_train)\\n\\n# How well did we do\\nknn_7_score = knn.score(X_test, y_test)\\n\\nprint(\\\"Accuracy of KNN (k = 7): {:.3f}\\\".format(knn_7_score))\";\n",
       "                var nbb_formatted_code = \"knn = KNeighborsClassifier(n_neighbors=7)\\n\\n# Then  fit the model\\nknn.fit(X_train, y_train)\\n\\n# How well did we do\\nknn_7_score = knn.score(X_test, y_test)\\n\\nprint(\\\"Accuracy of KNN (k = 7): {:.3f}\\\".format(knn_7_score))\";\n",
       "                var nbb_cells = Jupyter.notebook.get_cells();\n",
       "                for (var i = 0; i < nbb_cells.length; ++i) {\n",
       "                    if (nbb_cells[i].input_prompt_number == nbb_cell_id) {\n",
       "                        if (nbb_cells[i].get_text() == nbb_unformatted_code) {\n",
       "                             nbb_cells[i].set_text(nbb_formatted_code);\n",
       "                        }\n",
       "                        break;\n",
       "                    }\n",
       "                }\n",
       "            }, 500);\n",
       "            "
      ],
      "text/plain": [
       "<IPython.core.display.Javascript object>"
      ]
     },
     "metadata": {},
     "output_type": "display_data"
    }
   ],
   "source": [
    "knn = KNeighborsClassifier(n_neighbors=7)\n",
    "\n",
    "# Then  fit the model\n",
    "knn.fit(X_train, y_train)\n",
    "\n",
    "# How well did we do\n",
    "knn_7_score = knn.score(X_test, y_test)\n",
    "\n",
    "print(\"Accuracy of KNN (k = 7): {:.3f}\".format(knn_7_score))"
   ]
  },
  {
   "cell_type": "markdown",
   "metadata": {},
   "source": [
    "K nearest neighbors is giving much better accuracy! "
   ]
  },
  {
   "cell_type": "markdown",
   "metadata": {},
   "source": [
    "# Random Forest"
   ]
  },
  {
   "cell_type": "code",
   "execution_count": 35,
   "metadata": {},
   "outputs": [
    {
     "name": "stdout",
     "output_type": "stream",
     "text": [
      "Accuracy of Random Forest: 1.000\n"
     ]
    },
    {
     "data": {
      "application/javascript": [
       "\n",
       "            setTimeout(function() {\n",
       "                var nbb_cell_id = 35;\n",
       "                var nbb_unformatted_code = \"forest = RandomForestClassifier()\\n\\nforest.fit(X_train, y_train)\\n\\nforest_score = forest.score(X_test, y_test)\\n\\nprint(\\\"Accuracy of Random Forest: {:.3f}\\\".format(forest_score))\";\n",
       "                var nbb_formatted_code = \"forest = RandomForestClassifier()\\n\\nforest.fit(X_train, y_train)\\n\\nforest_score = forest.score(X_test, y_test)\\n\\nprint(\\\"Accuracy of Random Forest: {:.3f}\\\".format(forest_score))\";\n",
       "                var nbb_cells = Jupyter.notebook.get_cells();\n",
       "                for (var i = 0; i < nbb_cells.length; ++i) {\n",
       "                    if (nbb_cells[i].input_prompt_number == nbb_cell_id) {\n",
       "                        if (nbb_cells[i].get_text() == nbb_unformatted_code) {\n",
       "                             nbb_cells[i].set_text(nbb_formatted_code);\n",
       "                        }\n",
       "                        break;\n",
       "                    }\n",
       "                }\n",
       "            }, 500);\n",
       "            "
      ],
      "text/plain": [
       "<IPython.core.display.Javascript object>"
      ]
     },
     "metadata": {},
     "output_type": "display_data"
    },
    {
     "data": {
      "application/javascript": [
       "\n",
       "            setTimeout(function() {\n",
       "                var nbb_cell_id = 35;\n",
       "                var nbb_unformatted_code = \"forest = RandomForestClassifier()\\n\\nforest.fit(X_train, y_train)\\n\\nforest_score = forest.score(X_test, y_test)\\n\\nprint(\\\"Accuracy of Random Forest: {:.3f}\\\".format(forest_score))\";\n",
       "                var nbb_formatted_code = \"forest = RandomForestClassifier()\\n\\nforest.fit(X_train, y_train)\\n\\nforest_score = forest.score(X_test, y_test)\\n\\nprint(\\\"Accuracy of Random Forest: {:.3f}\\\".format(forest_score))\";\n",
       "                var nbb_cells = Jupyter.notebook.get_cells();\n",
       "                for (var i = 0; i < nbb_cells.length; ++i) {\n",
       "                    if (nbb_cells[i].input_prompt_number == nbb_cell_id) {\n",
       "                        if (nbb_cells[i].get_text() == nbb_unformatted_code) {\n",
       "                             nbb_cells[i].set_text(nbb_formatted_code);\n",
       "                        }\n",
       "                        break;\n",
       "                    }\n",
       "                }\n",
       "            }, 500);\n",
       "            "
      ],
      "text/plain": [
       "<IPython.core.display.Javascript object>"
      ]
     },
     "metadata": {},
     "output_type": "display_data"
    }
   ],
   "source": [
    "forest = RandomForestClassifier()\n",
    "\n",
    "forest.fit(X_train, y_train)\n",
    "\n",
    "forest_score = forest.score(X_test, y_test)\n",
    "\n",
    "print(\"Accuracy of Random Forest: {:.3f}\".format(forest_score))"
   ]
  },
  {
   "cell_type": "code",
   "execution_count": null,
   "metadata": {},
   "outputs": [],
   "source": []
  }
 ],
 "metadata": {
  "kernelspec": {
   "display_name": "Python 3",
   "language": "python",
   "name": "python3"
  },
  "language_info": {
   "codemirror_mode": {
    "name": "ipython",
    "version": 3
   },
   "file_extension": ".py",
   "mimetype": "text/x-python",
   "name": "python",
   "nbconvert_exporter": "python",
   "pygments_lexer": "ipython3",
   "version": "3.7.6"
  }
 },
 "nbformat": 4,
 "nbformat_minor": 4
}
