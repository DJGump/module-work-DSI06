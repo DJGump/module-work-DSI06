{
 "cells": [
  {
   "cell_type": "code",
   "execution_count": 1,
   "metadata": {},
   "outputs": [
    {
     "data": {
      "application/javascript": [
       "\n",
       "            setTimeout(function() {\n",
       "                var nbb_cell_id = 1;\n",
       "                var nbb_unformatted_code = \"%reload_ext nb_black\\nimport matplotlib.pyplot as plt\\nimport seaborn as sns\\nimport numpy as np\\nimport pandas as pd\\nimport seaborn as sns\\nimport scipy.stats as stats\\nfrom scipy.stats.mstats import winsorize\\nfrom sqlalchemy import create_engine\\nimport warnings\\n\\nwarnings.filterwarnings(\\\"ignore\\\")\\nsns.set(style=\\\"whitegrid\\\")\\n\\npostgres_user = \\\"dsbc_student\\\"\\npostgres_pw = \\\"7*.8G9QH21\\\"\\npostgres_host = \\\"142.93.121.174\\\"\\npostgres_port = \\\"5432\\\"\\npostgres_db = \\\"useducation\\\"\";\n",
       "                var nbb_formatted_code = \"%reload_ext nb_black\\nimport matplotlib.pyplot as plt\\nimport seaborn as sns\\nimport numpy as np\\nimport pandas as pd\\nimport seaborn as sns\\nimport scipy.stats as stats\\nfrom scipy.stats.mstats import winsorize\\nfrom sqlalchemy import create_engine\\nimport warnings\\n\\nwarnings.filterwarnings(\\\"ignore\\\")\\nsns.set(style=\\\"whitegrid\\\")\\n\\npostgres_user = \\\"dsbc_student\\\"\\npostgres_pw = \\\"7*.8G9QH21\\\"\\npostgres_host = \\\"142.93.121.174\\\"\\npostgres_port = \\\"5432\\\"\\npostgres_db = \\\"useducation\\\"\";\n",
       "                var nbb_cells = Jupyter.notebook.get_cells();\n",
       "                for (var i = 0; i < nbb_cells.length; ++i) {\n",
       "                    if (nbb_cells[i].input_prompt_number == nbb_cell_id) {\n",
       "                        if (nbb_cells[i].get_text() == nbb_unformatted_code) {\n",
       "                             nbb_cells[i].set_text(nbb_formatted_code);\n",
       "                        }\n",
       "                        break;\n",
       "                    }\n",
       "                }\n",
       "            }, 500);\n",
       "            "
      ],
      "text/plain": [
       "<IPython.core.display.Javascript object>"
      ]
     },
     "metadata": {},
     "output_type": "display_data"
    }
   ],
   "source": [
    "%reload_ext nb_black\n",
    "import matplotlib.pyplot as plt\n",
    "import seaborn as sns\n",
    "import numpy as np\n",
    "import pandas as pd\n",
    "import seaborn as sns\n",
    "import scipy.stats as stats\n",
    "from scipy.stats.mstats import winsorize\n",
    "from sqlalchemy import create_engine\n",
    "import warnings\n",
    "\n",
    "warnings.filterwarnings(\"ignore\")\n",
    "sns.set(style=\"whitegrid\")\n",
    "\n",
    "postgres_user = \"dsbc_student\"\n",
    "postgres_pw = \"7*.8G9QH21\"\n",
    "postgres_host = \"142.93.121.174\"\n",
    "postgres_port = \"5432\"\n",
    "postgres_db = \"useducation\""
   ]
  },
  {
   "cell_type": "code",
   "execution_count": 2,
   "metadata": {},
   "outputs": [
    {
     "data": {
      "application/javascript": [
       "\n",
       "            setTimeout(function() {\n",
       "                var nbb_cell_id = 2;\n",
       "                var nbb_unformatted_code = \"engine = create_engine('postgresql://{}:{}@{}:{}/{}'.format(\\n    postgres_user, postgres_pw, postgres_host, postgres_port, postgres_db))\\n\\nus_edu = pd.read_sql_query('select * from useducation',con=engine)\\n\\n# no need for an open connection, \\n# as we're only doing a single query\\nengine.dispose()\";\n",
       "                var nbb_formatted_code = \"engine = create_engine(\\n    \\\"postgresql://{}:{}@{}:{}/{}\\\".format(\\n        postgres_user, postgres_pw, postgres_host, postgres_port, postgres_db\\n    )\\n)\\n\\nus_edu = pd.read_sql_query(\\\"select * from useducation\\\", con=engine)\\n\\n# no need for an open connection,\\n# as we're only doing a single query\\nengine.dispose()\";\n",
       "                var nbb_cells = Jupyter.notebook.get_cells();\n",
       "                for (var i = 0; i < nbb_cells.length; ++i) {\n",
       "                    if (nbb_cells[i].input_prompt_number == nbb_cell_id) {\n",
       "                        if (nbb_cells[i].get_text() == nbb_unformatted_code) {\n",
       "                             nbb_cells[i].set_text(nbb_formatted_code);\n",
       "                        }\n",
       "                        break;\n",
       "                    }\n",
       "                }\n",
       "            }, 500);\n",
       "            "
      ],
      "text/plain": [
       "<IPython.core.display.Javascript object>"
      ]
     },
     "metadata": {},
     "output_type": "display_data"
    }
   ],
   "source": [
    "engine = create_engine('postgresql://{}:{}@{}:{}/{}'.format(\n",
    "    postgres_user, postgres_pw, postgres_host, postgres_port, postgres_db))\n",
    "\n",
    "us_edu = pd.read_sql_query('select * from useducation',con=engine)\n",
    "\n",
    "# no need for an open connection, \n",
    "# as we're only doing a single query\n",
    "engine.dispose()\n"
   ]
  },
  {
   "cell_type": "markdown",
   "metadata": {},
   "source": [
    "1. Derive the descriptive statistics of the data and discuss the points you find remarkable."
   ]
  },
  {
   "cell_type": "code",
   "execution_count": 3,
   "metadata": {},
   "outputs": [
    {
     "data": {
      "text/html": [
       "<div>\n",
       "<style scoped>\n",
       "    .dataframe tbody tr th:only-of-type {\n",
       "        vertical-align: middle;\n",
       "    }\n",
       "\n",
       "    .dataframe tbody tr th {\n",
       "        vertical-align: top;\n",
       "    }\n",
       "\n",
       "    .dataframe thead th {\n",
       "        text-align: right;\n",
       "    }\n",
       "</style>\n",
       "<table border=\"1\" class=\"dataframe\">\n",
       "  <thead>\n",
       "    <tr style=\"text-align: right;\">\n",
       "      <th></th>\n",
       "      <th>PRIMARY_KEY</th>\n",
       "      <th>STATE</th>\n",
       "      <th>YEAR</th>\n",
       "      <th>ENROLL</th>\n",
       "      <th>TOTAL_REVENUE</th>\n",
       "      <th>FEDERAL_REVENUE</th>\n",
       "      <th>STATE_REVENUE</th>\n",
       "      <th>LOCAL_REVENUE</th>\n",
       "      <th>TOTAL_EXPENDITURE</th>\n",
       "      <th>INSTRUCTION_EXPENDITURE</th>\n",
       "      <th>...</th>\n",
       "      <th>GRADES_4_G</th>\n",
       "      <th>GRADES_8_G</th>\n",
       "      <th>GRADES_12_G</th>\n",
       "      <th>GRADES_1_8_G</th>\n",
       "      <th>GRADES_9_12_G</th>\n",
       "      <th>GRADES_ALL_G</th>\n",
       "      <th>AVG_MATH_4_SCORE</th>\n",
       "      <th>AVG_MATH_8_SCORE</th>\n",
       "      <th>AVG_READING_4_SCORE</th>\n",
       "      <th>AVG_READING_8_SCORE</th>\n",
       "    </tr>\n",
       "  </thead>\n",
       "  <tbody>\n",
       "    <tr>\n",
       "      <th>0</th>\n",
       "      <td>1992_ALABAMA</td>\n",
       "      <td>ALABAMA</td>\n",
       "      <td>1992</td>\n",
       "      <td>NaN</td>\n",
       "      <td>2678885.0</td>\n",
       "      <td>304177.0</td>\n",
       "      <td>1659028.0</td>\n",
       "      <td>715680.0</td>\n",
       "      <td>2653798.0</td>\n",
       "      <td>1481703.0</td>\n",
       "      <td>...</td>\n",
       "      <td>57948.0</td>\n",
       "      <td>58025.0</td>\n",
       "      <td>41167.0</td>\n",
       "      <td>471564.0</td>\n",
       "      <td>196386.0</td>\n",
       "      <td>676174.0</td>\n",
       "      <td>208.327876</td>\n",
       "      <td>252.187522</td>\n",
       "      <td>207.963517</td>\n",
       "      <td>NaN</td>\n",
       "    </tr>\n",
       "    <tr>\n",
       "      <th>1</th>\n",
       "      <td>1992_ALASKA</td>\n",
       "      <td>ALASKA</td>\n",
       "      <td>1992</td>\n",
       "      <td>NaN</td>\n",
       "      <td>1049591.0</td>\n",
       "      <td>106780.0</td>\n",
       "      <td>720711.0</td>\n",
       "      <td>222100.0</td>\n",
       "      <td>972488.0</td>\n",
       "      <td>498362.0</td>\n",
       "      <td>...</td>\n",
       "      <td>9748.0</td>\n",
       "      <td>8789.0</td>\n",
       "      <td>6714.0</td>\n",
       "      <td>79117.0</td>\n",
       "      <td>30847.0</td>\n",
       "      <td>112335.0</td>\n",
       "      <td>NaN</td>\n",
       "      <td>NaN</td>\n",
       "      <td>NaN</td>\n",
       "      <td>258.859712</td>\n",
       "    </tr>\n",
       "    <tr>\n",
       "      <th>2</th>\n",
       "      <td>1992_ARIZONA</td>\n",
       "      <td>ARIZONA</td>\n",
       "      <td>1992</td>\n",
       "      <td>NaN</td>\n",
       "      <td>3258079.0</td>\n",
       "      <td>297888.0</td>\n",
       "      <td>1369815.0</td>\n",
       "      <td>1590376.0</td>\n",
       "      <td>3401580.0</td>\n",
       "      <td>1435908.0</td>\n",
       "      <td>...</td>\n",
       "      <td>55433.0</td>\n",
       "      <td>49081.0</td>\n",
       "      <td>37410.0</td>\n",
       "      <td>437127.0</td>\n",
       "      <td>175210.0</td>\n",
       "      <td>614881.0</td>\n",
       "      <td>215.253932</td>\n",
       "      <td>265.366278</td>\n",
       "      <td>206.212716</td>\n",
       "      <td>262.169895</td>\n",
       "    </tr>\n",
       "    <tr>\n",
       "      <th>3</th>\n",
       "      <td>1992_ARKANSAS</td>\n",
       "      <td>ARKANSAS</td>\n",
       "      <td>1992</td>\n",
       "      <td>NaN</td>\n",
       "      <td>1711959.0</td>\n",
       "      <td>178571.0</td>\n",
       "      <td>958785.0</td>\n",
       "      <td>574603.0</td>\n",
       "      <td>1743022.0</td>\n",
       "      <td>964323.0</td>\n",
       "      <td>...</td>\n",
       "      <td>34632.0</td>\n",
       "      <td>36011.0</td>\n",
       "      <td>27651.0</td>\n",
       "      <td>281338.0</td>\n",
       "      <td>123113.0</td>\n",
       "      <td>405259.0</td>\n",
       "      <td>210.206028</td>\n",
       "      <td>256.312090</td>\n",
       "      <td>208.634458</td>\n",
       "      <td>264.619665</td>\n",
       "    </tr>\n",
       "    <tr>\n",
       "      <th>4</th>\n",
       "      <td>1992_CALIFORNIA</td>\n",
       "      <td>CALIFORNIA</td>\n",
       "      <td>1992</td>\n",
       "      <td>NaN</td>\n",
       "      <td>26260025.0</td>\n",
       "      <td>2072470.0</td>\n",
       "      <td>16546514.0</td>\n",
       "      <td>7641041.0</td>\n",
       "      <td>27138832.0</td>\n",
       "      <td>14358922.0</td>\n",
       "      <td>...</td>\n",
       "      <td>418418.0</td>\n",
       "      <td>363296.0</td>\n",
       "      <td>270675.0</td>\n",
       "      <td>3286034.0</td>\n",
       "      <td>1372011.0</td>\n",
       "      <td>4717112.0</td>\n",
       "      <td>208.398961</td>\n",
       "      <td>260.892247</td>\n",
       "      <td>196.764414</td>\n",
       "      <td>NaN</td>\n",
       "    </tr>\n",
       "  </tbody>\n",
       "</table>\n",
       "<p>5 rows × 25 columns</p>\n",
       "</div>"
      ],
      "text/plain": [
       "       PRIMARY_KEY       STATE  YEAR  ENROLL  TOTAL_REVENUE  FEDERAL_REVENUE  \\\n",
       "0     1992_ALABAMA     ALABAMA  1992     NaN      2678885.0         304177.0   \n",
       "1      1992_ALASKA      ALASKA  1992     NaN      1049591.0         106780.0   \n",
       "2     1992_ARIZONA     ARIZONA  1992     NaN      3258079.0         297888.0   \n",
       "3    1992_ARKANSAS    ARKANSAS  1992     NaN      1711959.0         178571.0   \n",
       "4  1992_CALIFORNIA  CALIFORNIA  1992     NaN     26260025.0        2072470.0   \n",
       "\n",
       "   STATE_REVENUE  LOCAL_REVENUE  TOTAL_EXPENDITURE  INSTRUCTION_EXPENDITURE  \\\n",
       "0      1659028.0       715680.0          2653798.0                1481703.0   \n",
       "1       720711.0       222100.0           972488.0                 498362.0   \n",
       "2      1369815.0      1590376.0          3401580.0                1435908.0   \n",
       "3       958785.0       574603.0          1743022.0                 964323.0   \n",
       "4     16546514.0      7641041.0         27138832.0               14358922.0   \n",
       "\n",
       "   ...  GRADES_4_G  GRADES_8_G  GRADES_12_G  GRADES_1_8_G  GRADES_9_12_G  \\\n",
       "0  ...     57948.0     58025.0      41167.0      471564.0       196386.0   \n",
       "1  ...      9748.0      8789.0       6714.0       79117.0        30847.0   \n",
       "2  ...     55433.0     49081.0      37410.0      437127.0       175210.0   \n",
       "3  ...     34632.0     36011.0      27651.0      281338.0       123113.0   \n",
       "4  ...    418418.0    363296.0     270675.0     3286034.0      1372011.0   \n",
       "\n",
       "   GRADES_ALL_G  AVG_MATH_4_SCORE  AVG_MATH_8_SCORE  AVG_READING_4_SCORE  \\\n",
       "0      676174.0        208.327876        252.187522           207.963517   \n",
       "1      112335.0               NaN               NaN                  NaN   \n",
       "2      614881.0        215.253932        265.366278           206.212716   \n",
       "3      405259.0        210.206028        256.312090           208.634458   \n",
       "4     4717112.0        208.398961        260.892247           196.764414   \n",
       "\n",
       "   AVG_READING_8_SCORE  \n",
       "0                  NaN  \n",
       "1           258.859712  \n",
       "2           262.169895  \n",
       "3           264.619665  \n",
       "4                  NaN  \n",
       "\n",
       "[5 rows x 25 columns]"
      ]
     },
     "execution_count": 3,
     "metadata": {},
     "output_type": "execute_result"
    },
    {
     "data": {
      "application/javascript": [
       "\n",
       "            setTimeout(function() {\n",
       "                var nbb_cell_id = 3;\n",
       "                var nbb_unformatted_code = \"us_edu.head()\";\n",
       "                var nbb_formatted_code = \"us_edu.head()\";\n",
       "                var nbb_cells = Jupyter.notebook.get_cells();\n",
       "                for (var i = 0; i < nbb_cells.length; ++i) {\n",
       "                    if (nbb_cells[i].input_prompt_number == nbb_cell_id) {\n",
       "                        if (nbb_cells[i].get_text() == nbb_unformatted_code) {\n",
       "                             nbb_cells[i].set_text(nbb_formatted_code);\n",
       "                        }\n",
       "                        break;\n",
       "                    }\n",
       "                }\n",
       "            }, 500);\n",
       "            "
      ],
      "text/plain": [
       "<IPython.core.display.Javascript object>"
      ]
     },
     "metadata": {},
     "output_type": "display_data"
    }
   ],
   "source": [
    "us_edu.head()"
   ]
  },
  {
   "cell_type": "code",
   "execution_count": 4,
   "metadata": {},
   "outputs": [
    {
     "data": {
      "application/javascript": [
       "\n",
       "            setTimeout(function() {\n",
       "                var nbb_cell_id = 4;\n",
       "                var nbb_unformatted_code = \"fill_list = [\\n    \\\"ENROLL\\\",\\n    \\\"TOTAL_REVENUE\\\",\\n    \\\"FEDERAL_REVENUE\\\",\\n    \\\"STATE_REVENUE\\\",\\n    \\\"LOCAL_REVENUE\\\",\\n    \\\"TOTAL_EXPENDITURE\\\",\\n    \\\"INSTRUCTION_EXPENDITURE\\\",\\n    \\\"SUPPORT_SERVICES_EXPENDITURE\\\",\\n    \\\"OTHER_EXPENDITURE\\\",\\n    \\\"CAPITAL_OUTLAY_EXPENDITURE\\\",\\n    \\\"GRADES_PK_G\\\",\\n    \\\"GRADES_KG_G\\\",\\n    \\\"GRADES_4_G\\\",\\n    \\\"GRADES_8_G\\\",\\n    \\\"GRADES_12_G\\\",\\n    \\\"GRADES_1_8_G\\\",\\n    \\\"GRADES_9_12_G\\\",\\n    \\\"GRADES_ALL_G\\\",\\n]\\n\\nstates = us_edu[\\\"STATE\\\"].unique()\\n\\nfor state in states:\\n    us_edu.loc[us_edu[\\\"STATE\\\"] == state, fill_list] = us_edu.loc[\\n        us_edu[\\\"STATE\\\"] == state, fill_list\\n    ].interpolate()\\n\\n# we drop the null values after interpolation\";\n",
       "                var nbb_formatted_code = \"fill_list = [\\n    \\\"ENROLL\\\",\\n    \\\"TOTAL_REVENUE\\\",\\n    \\\"FEDERAL_REVENUE\\\",\\n    \\\"STATE_REVENUE\\\",\\n    \\\"LOCAL_REVENUE\\\",\\n    \\\"TOTAL_EXPENDITURE\\\",\\n    \\\"INSTRUCTION_EXPENDITURE\\\",\\n    \\\"SUPPORT_SERVICES_EXPENDITURE\\\",\\n    \\\"OTHER_EXPENDITURE\\\",\\n    \\\"CAPITAL_OUTLAY_EXPENDITURE\\\",\\n    \\\"GRADES_PK_G\\\",\\n    \\\"GRADES_KG_G\\\",\\n    \\\"GRADES_4_G\\\",\\n    \\\"GRADES_8_G\\\",\\n    \\\"GRADES_12_G\\\",\\n    \\\"GRADES_1_8_G\\\",\\n    \\\"GRADES_9_12_G\\\",\\n    \\\"GRADES_ALL_G\\\",\\n]\\n\\nstates = us_edu[\\\"STATE\\\"].unique()\\n\\nfor state in states:\\n    us_edu.loc[us_edu[\\\"STATE\\\"] == state, fill_list] = us_edu.loc[\\n        us_edu[\\\"STATE\\\"] == state, fill_list\\n    ].interpolate()\\n\\n# we drop the null values after interpolation\";\n",
       "                var nbb_cells = Jupyter.notebook.get_cells();\n",
       "                for (var i = 0; i < nbb_cells.length; ++i) {\n",
       "                    if (nbb_cells[i].input_prompt_number == nbb_cell_id) {\n",
       "                        if (nbb_cells[i].get_text() == nbb_unformatted_code) {\n",
       "                             nbb_cells[i].set_text(nbb_formatted_code);\n",
       "                        }\n",
       "                        break;\n",
       "                    }\n",
       "                }\n",
       "            }, 500);\n",
       "            "
      ],
      "text/plain": [
       "<IPython.core.display.Javascript object>"
      ]
     },
     "metadata": {},
     "output_type": "display_data"
    }
   ],
   "source": [
    "fill_list = [\n",
    "    \"ENROLL\",\n",
    "    \"TOTAL_REVENUE\",\n",
    "    \"FEDERAL_REVENUE\",\n",
    "    \"STATE_REVENUE\",\n",
    "    \"LOCAL_REVENUE\",\n",
    "    \"TOTAL_EXPENDITURE\",\n",
    "    \"INSTRUCTION_EXPENDITURE\",\n",
    "    \"SUPPORT_SERVICES_EXPENDITURE\",\n",
    "    \"OTHER_EXPENDITURE\",\n",
    "    \"CAPITAL_OUTLAY_EXPENDITURE\",\n",
    "    \"GRADES_PK_G\",\n",
    "    \"GRADES_KG_G\",\n",
    "    \"GRADES_4_G\",\n",
    "    \"GRADES_8_G\",\n",
    "    \"GRADES_12_G\",\n",
    "    \"GRADES_1_8_G\",\n",
    "    \"GRADES_9_12_G\",\n",
    "    \"GRADES_ALL_G\",\n",
    "]\n",
    "\n",
    "states = us_edu[\"STATE\"].unique()\n",
    "\n",
    "for state in states:\n",
    "    us_edu.loc[us_edu[\"STATE\"] == state, fill_list] = us_edu.loc[\n",
    "        us_edu[\"STATE\"] == state, fill_list\n",
    "    ].interpolate()\n",
    "\n",
    "# we drop the null values after interpolation\n"
   ]
  },
  {
   "cell_type": "code",
   "execution_count": 5,
   "metadata": {},
   "outputs": [
    {
     "name": "stdout",
     "output_type": "stream",
     "text": [
      "<class 'pandas.core.frame.DataFrame'>\n",
      "RangeIndex: 1492 entries, 0 to 1491\n",
      "Data columns (total 25 columns):\n",
      " #   Column                        Non-Null Count  Dtype  \n",
      "---  ------                        --------------  -----  \n",
      " 0   PRIMARY_KEY                   1492 non-null   object \n",
      " 1   STATE                         1492 non-null   object \n",
      " 2   YEAR                          1492 non-null   int64  \n",
      " 3   ENROLL                        1281 non-null   float64\n",
      " 4   TOTAL_REVENUE                 1331 non-null   float64\n",
      " 5   FEDERAL_REVENUE               1331 non-null   float64\n",
      " 6   STATE_REVENUE                 1331 non-null   float64\n",
      " 7   LOCAL_REVENUE                 1331 non-null   float64\n",
      " 8   TOTAL_EXPENDITURE             1331 non-null   float64\n",
      " 9   INSTRUCTION_EXPENDITURE       1331 non-null   float64\n",
      " 10  SUPPORT_SERVICES_EXPENDITURE  1331 non-null   float64\n",
      " 11  OTHER_EXPENDITURE             1281 non-null   float64\n",
      " 12  CAPITAL_OUTLAY_EXPENDITURE    1331 non-null   float64\n",
      " 13  GRADES_PK_G                   1443 non-null   float64\n",
      " 14  GRADES_KG_G                   1485 non-null   float64\n",
      " 15  GRADES_4_G                    1485 non-null   float64\n",
      " 16  GRADES_8_G                    1485 non-null   float64\n",
      " 17  GRADES_12_G                   1485 non-null   float64\n",
      " 18  GRADES_1_8_G                  1485 non-null   float64\n",
      " 19  GRADES_9_12_G                 1485 non-null   float64\n",
      " 20  GRADES_ALL_G                  1443 non-null   float64\n",
      " 21  AVG_MATH_4_SCORE              536 non-null    float64\n",
      " 22  AVG_MATH_8_SCORE              532 non-null    float64\n",
      " 23  AVG_READING_4_SCORE           533 non-null    float64\n",
      " 24  AVG_READING_8_SCORE           498 non-null    float64\n",
      "dtypes: float64(22), int64(1), object(2)\n",
      "memory usage: 291.5+ KB\n"
     ]
    },
    {
     "data": {
      "application/javascript": [
       "\n",
       "            setTimeout(function() {\n",
       "                var nbb_cell_id = 5;\n",
       "                var nbb_unformatted_code = \"us_edu.info()\";\n",
       "                var nbb_formatted_code = \"us_edu.info()\";\n",
       "                var nbb_cells = Jupyter.notebook.get_cells();\n",
       "                for (var i = 0; i < nbb_cells.length; ++i) {\n",
       "                    if (nbb_cells[i].input_prompt_number == nbb_cell_id) {\n",
       "                        if (nbb_cells[i].get_text() == nbb_unformatted_code) {\n",
       "                             nbb_cells[i].set_text(nbb_formatted_code);\n",
       "                        }\n",
       "                        break;\n",
       "                    }\n",
       "                }\n",
       "            }, 500);\n",
       "            "
      ],
      "text/plain": [
       "<IPython.core.display.Javascript object>"
      ]
     },
     "metadata": {},
     "output_type": "display_data"
    }
   ],
   "source": [
    "us_edu.info()"
   ]
  },
  {
   "cell_type": "code",
   "execution_count": 6,
   "metadata": {},
   "outputs": [
    {
     "data": {
      "text/html": [
       "<div>\n",
       "<style scoped>\n",
       "    .dataframe tbody tr th:only-of-type {\n",
       "        vertical-align: middle;\n",
       "    }\n",
       "\n",
       "    .dataframe tbody tr th {\n",
       "        vertical-align: top;\n",
       "    }\n",
       "\n",
       "    .dataframe thead th {\n",
       "        text-align: right;\n",
       "    }\n",
       "</style>\n",
       "<table border=\"1\" class=\"dataframe\">\n",
       "  <thead>\n",
       "    <tr style=\"text-align: right;\">\n",
       "      <th></th>\n",
       "      <th>TOTAL_REVENUE</th>\n",
       "      <th>TOTAL_EXPENDITURE</th>\n",
       "    </tr>\n",
       "  </thead>\n",
       "  <tbody>\n",
       "    <tr>\n",
       "      <th>mean</th>\n",
       "      <td>9.246804e+06</td>\n",
       "      <td>9.342417e+06</td>\n",
       "    </tr>\n",
       "  </tbody>\n",
       "</table>\n",
       "</div>"
      ],
      "text/plain": [
       "      TOTAL_REVENUE  TOTAL_EXPENDITURE\n",
       "mean   9.246804e+06       9.342417e+06"
      ]
     },
     "execution_count": 6,
     "metadata": {},
     "output_type": "execute_result"
    },
    {
     "data": {
      "application/javascript": [
       "\n",
       "            setTimeout(function() {\n",
       "                var nbb_cell_id = 6;\n",
       "                var nbb_unformatted_code = \"# expenditure and rev by state, find mean\\nus_edu.agg({'TOTAL_REVENUE': ['mean'], 'TOTAL_EXPENDITURE': ['mean']})\";\n",
       "                var nbb_formatted_code = \"# expenditure and rev by state, find mean\\nus_edu.agg({\\\"TOTAL_REVENUE\\\": [\\\"mean\\\"], \\\"TOTAL_EXPENDITURE\\\": [\\\"mean\\\"]})\";\n",
       "                var nbb_cells = Jupyter.notebook.get_cells();\n",
       "                for (var i = 0; i < nbb_cells.length; ++i) {\n",
       "                    if (nbb_cells[i].input_prompt_number == nbb_cell_id) {\n",
       "                        if (nbb_cells[i].get_text() == nbb_unformatted_code) {\n",
       "                             nbb_cells[i].set_text(nbb_formatted_code);\n",
       "                        }\n",
       "                        break;\n",
       "                    }\n",
       "                }\n",
       "            }, 500);\n",
       "            "
      ],
      "text/plain": [
       "<IPython.core.display.Javascript object>"
      ]
     },
     "metadata": {},
     "output_type": "display_data"
    }
   ],
   "source": [
    "# expenditure and rev by state, find mean\n",
    "us_edu.agg({'TOTAL_REVENUE': ['mean'], 'TOTAL_EXPENDITURE': ['mean']})\n"
   ]
  },
  {
   "cell_type": "code",
   "execution_count": 7,
   "metadata": {},
   "outputs": [
    {
     "data": {
      "text/plain": [
       "<matplotlib.axes._subplots.AxesSubplot at 0x2abeca7f408>"
      ]
     },
     "execution_count": 7,
     "metadata": {},
     "output_type": "execute_result"
    },
    {
     "data": {
      "image/png": "[encoded data removed]",
      "text/plain": [
       "<Figure size 432x288 with 2 Axes>"
      ]
     },
     "metadata": {},
     "output_type": "display_data"
    },
    {
     "data": {
      "application/javascript": [
       "\n",
       "            setTimeout(function() {\n",
       "                var nbb_cell_id = 7;\n",
       "                var nbb_unformatted_code = \"sns.heatmap(us_edu.corr())\";\n",
       "                var nbb_formatted_code = \"sns.heatmap(us_edu.corr())\";\n",
       "                var nbb_cells = Jupyter.notebook.get_cells();\n",
       "                for (var i = 0; i < nbb_cells.length; ++i) {\n",
       "                    if (nbb_cells[i].input_prompt_number == nbb_cell_id) {\n",
       "                        if (nbb_cells[i].get_text() == nbb_unformatted_code) {\n",
       "                             nbb_cells[i].set_text(nbb_formatted_code);\n",
       "                        }\n",
       "                        break;\n",
       "                    }\n",
       "                }\n",
       "            }, 500);\n",
       "            "
      ],
      "text/plain": [
       "<IPython.core.display.Javascript object>"
      ]
     },
     "metadata": {},
     "output_type": "display_data"
    }
   ],
   "source": [
    "sns.heatmap(us_edu.corr())"
   ]
  },
  {
   "cell_type": "markdown",
   "metadata": {},
   "source": [
    "2. Choose a state (e.g. California) and draw a line graph of its total revenues and total expenditures along the years. How do these 2 variables evolve during the years? Try to explain the peaks and troughs with some state-wise news and information around those dates."
   ]
  },
  {
   "cell_type": "code",
   "execution_count": 8,
   "metadata": {},
   "outputs": [
    {
     "data": {
      "application/javascript": [
       "\n",
       "            setTimeout(function() {\n",
       "                var nbb_cell_id = 8;\n",
       "                var nbb_unformatted_code = \"oh_df = us_edu[us_edu[\\\"STATE\\\"] == \\\"OHIO\\\"]\";\n",
       "                var nbb_formatted_code = \"oh_df = us_edu[us_edu[\\\"STATE\\\"] == \\\"OHIO\\\"]\";\n",
       "                var nbb_cells = Jupyter.notebook.get_cells();\n",
       "                for (var i = 0; i < nbb_cells.length; ++i) {\n",
       "                    if (nbb_cells[i].input_prompt_number == nbb_cell_id) {\n",
       "                        if (nbb_cells[i].get_text() == nbb_unformatted_code) {\n",
       "                             nbb_cells[i].set_text(nbb_formatted_code);\n",
       "                        }\n",
       "                        break;\n",
       "                    }\n",
       "                }\n",
       "            }, 500);\n",
       "            "
      ],
      "text/plain": [
       "<IPython.core.display.Javascript object>"
      ]
     },
     "metadata": {},
     "output_type": "display_data"
    }
   ],
   "source": [
    "oh_df = us_edu[us_edu[\"STATE\"] == \"OHIO\"]"
   ]
  },
  {
   "cell_type": "code",
   "execution_count": 9,
   "metadata": {},
   "outputs": [
    {
     "data": {
      "image/png": "[encoded data removed]",
      "text/plain": [
       "<Figure size 432x288 with 1 Axes>"
      ]
     },
     "metadata": {},
     "output_type": "display_data"
    },
    {
     "data": {
      "application/javascript": [
       "\n",
       "            setTimeout(function() {\n",
       "                var nbb_cell_id = 9;\n",
       "                var nbb_unformatted_code = \"plt.plot(oh_df[\\\"YEAR\\\"], oh_df[[\\\"TOTAL_REVENUE\\\", \\\"TOTAL_EXPENDITURE\\\"]])\\nplt.legend([\\\"revenue\\\", \\\"expenditure\\\"])\\nplt.show()\";\n",
       "                var nbb_formatted_code = \"plt.plot(oh_df[\\\"YEAR\\\"], oh_df[[\\\"TOTAL_REVENUE\\\", \\\"TOTAL_EXPENDITURE\\\"]])\\nplt.legend([\\\"revenue\\\", \\\"expenditure\\\"])\\nplt.show()\";\n",
       "                var nbb_cells = Jupyter.notebook.get_cells();\n",
       "                for (var i = 0; i < nbb_cells.length; ++i) {\n",
       "                    if (nbb_cells[i].input_prompt_number == nbb_cell_id) {\n",
       "                        if (nbb_cells[i].get_text() == nbb_unformatted_code) {\n",
       "                             nbb_cells[i].set_text(nbb_formatted_code);\n",
       "                        }\n",
       "                        break;\n",
       "                    }\n",
       "                }\n",
       "            }, 500);\n",
       "            "
      ],
      "text/plain": [
       "<IPython.core.display.Javascript object>"
      ]
     },
     "metadata": {},
     "output_type": "display_data"
    }
   ],
   "source": [
    "plt.plot(oh_df[\"YEAR\"], oh_df[[\"TOTAL_REVENUE\", \"TOTAL_EXPENDITURE\"]])\n",
    "plt.legend([\"revenue\", \"expenditure\"])\n",
    "plt.show()"
   ]
  },
  {
   "cell_type": "markdown",
   "metadata": {},
   "source": [
    "3. In your chosen state, which of the lessons are the students more successful, math or reading?"
   ]
  },
  {
   "cell_type": "code",
   "execution_count": 10,
   "metadata": {},
   "outputs": [
    {
     "name": "stdout",
     "output_type": "stream",
     "text": [
      "<class 'pandas.core.frame.DataFrame'>\n",
      "Int64Index: 26 entries, 35 to 1482\n",
      "Data columns (total 25 columns):\n",
      " #   Column                        Non-Null Count  Dtype  \n",
      "---  ------                        --------------  -----  \n",
      " 0   PRIMARY_KEY                   26 non-null     object \n",
      " 1   STATE                         26 non-null     object \n",
      " 2   YEAR                          26 non-null     int64  \n",
      " 3   ENROLL                        25 non-null     float64\n",
      " 4   TOTAL_REVENUE                 26 non-null     float64\n",
      " 5   FEDERAL_REVENUE               26 non-null     float64\n",
      " 6   STATE_REVENUE                 26 non-null     float64\n",
      " 7   LOCAL_REVENUE                 26 non-null     float64\n",
      " 8   TOTAL_EXPENDITURE             26 non-null     float64\n",
      " 9   INSTRUCTION_EXPENDITURE       26 non-null     float64\n",
      " 10  SUPPORT_SERVICES_EXPENDITURE  26 non-null     float64\n",
      " 11  OTHER_EXPENDITURE             25 non-null     float64\n",
      " 12  CAPITAL_OUTLAY_EXPENDITURE    26 non-null     float64\n",
      " 13  GRADES_PK_G                   26 non-null     float64\n",
      " 14  GRADES_KG_G                   26 non-null     float64\n",
      " 15  GRADES_4_G                    26 non-null     float64\n",
      " 16  GRADES_8_G                    26 non-null     float64\n",
      " 17  GRADES_12_G                   26 non-null     float64\n",
      " 18  GRADES_1_8_G                  26 non-null     float64\n",
      " 19  GRADES_9_12_G                 26 non-null     float64\n",
      " 20  GRADES_ALL_G                  26 non-null     float64\n",
      " 21  AVG_MATH_4_SCORE              10 non-null     float64\n",
      " 22  AVG_MATH_8_SCORE              10 non-null     float64\n",
      " 23  AVG_READING_4_SCORE           9 non-null      float64\n",
      " 24  AVG_READING_8_SCORE           10 non-null     float64\n",
      "dtypes: float64(22), int64(1), object(2)\n",
      "memory usage: 5.3+ KB\n"
     ]
    },
    {
     "data": {
      "application/javascript": [
       "\n",
       "            setTimeout(function() {\n",
       "                var nbb_cell_id = 10;\n",
       "                var nbb_unformatted_code = \"oh_df.info()\";\n",
       "                var nbb_formatted_code = \"oh_df.info()\";\n",
       "                var nbb_cells = Jupyter.notebook.get_cells();\n",
       "                for (var i = 0; i < nbb_cells.length; ++i) {\n",
       "                    if (nbb_cells[i].input_prompt_number == nbb_cell_id) {\n",
       "                        if (nbb_cells[i].get_text() == nbb_unformatted_code) {\n",
       "                             nbb_cells[i].set_text(nbb_formatted_code);\n",
       "                        }\n",
       "                        break;\n",
       "                    }\n",
       "                }\n",
       "            }, 500);\n",
       "            "
      ],
      "text/plain": [
       "<IPython.core.display.Javascript object>"
      ]
     },
     "metadata": {},
     "output_type": "display_data"
    }
   ],
   "source": [
    "oh_df.info()"
   ]
  },
  {
   "cell_type": "code",
   "execution_count": null,
   "metadata": {},
   "outputs": [],
   "source": []
  },
  {
   "cell_type": "code",
   "execution_count": 11,
   "metadata": {},
   "outputs": [
    {
     "data": {
      "application/javascript": [
       "\n",
       "            setTimeout(function() {\n",
       "                var nbb_cell_id = 11;\n",
       "                var nbb_unformatted_code = \"oh_df[\\\"combined_math_linear\\\"] = (\\n    oh_df[\\\"AVG_MATH_4_SCORE\\\"].interpolate() + oh_df[\\\"AVG_MATH_8_SCORE\\\"].interpolate()\\n)\\noh_df[\\\"combined_reading_linear\\\"] = (\\n    oh_df[\\\"AVG_READING_4_SCORE\\\"].interpolate()\\n    + oh_df[\\\"AVG_READING_8_SCORE\\\"].interpolate()\\n)\";\n",
       "                var nbb_formatted_code = \"oh_df[\\\"combined_math_linear\\\"] = (\\n    oh_df[\\\"AVG_MATH_4_SCORE\\\"].interpolate() + oh_df[\\\"AVG_MATH_8_SCORE\\\"].interpolate()\\n)\\noh_df[\\\"combined_reading_linear\\\"] = (\\n    oh_df[\\\"AVG_READING_4_SCORE\\\"].interpolate()\\n    + oh_df[\\\"AVG_READING_8_SCORE\\\"].interpolate()\\n)\";\n",
       "                var nbb_cells = Jupyter.notebook.get_cells();\n",
       "                for (var i = 0; i < nbb_cells.length; ++i) {\n",
       "                    if (nbb_cells[i].input_prompt_number == nbb_cell_id) {\n",
       "                        if (nbb_cells[i].get_text() == nbb_unformatted_code) {\n",
       "                             nbb_cells[i].set_text(nbb_formatted_code);\n",
       "                        }\n",
       "                        break;\n",
       "                    }\n",
       "                }\n",
       "            }, 500);\n",
       "            "
      ],
      "text/plain": [
       "<IPython.core.display.Javascript object>"
      ]
     },
     "metadata": {},
     "output_type": "display_data"
    }
   ],
   "source": [
    "oh_df[\"combined_math_linear\"] = (\n",
    "    oh_df[\"AVG_MATH_4_SCORE\"].interpolate() + oh_df[\"AVG_MATH_8_SCORE\"].interpolate()\n",
    ")\n",
    "oh_df[\"combined_reading_linear\"] = (\n",
    "    oh_df[\"AVG_READING_4_SCORE\"].interpolate()\n",
    "    + oh_df[\"AVG_READING_8_SCORE\"].interpolate()\n",
    ")"
   ]
  },
  {
   "cell_type": "code",
   "execution_count": 12,
   "metadata": {},
   "outputs": [
    {
     "data": {
      "application/javascript": [
       "\n",
       "            setTimeout(function() {\n",
       "                var nbb_cell_id = 12;\n",
       "                var nbb_unformatted_code = \"oh_df[\\\"combined_math_mean\\\"] = oh_df[\\\"AVG_MATH_4_SCORE\\\"].fillna(\\n    value=oh_df[\\\"AVG_MATH_4_SCORE\\\"].mean()\\n) + oh_df[\\\"AVG_MATH_8_SCORE\\\"].fillna(value=oh_df[\\\"AVG_MATH_8_SCORE\\\"].mean())\\noh_df[\\\"combined_reading_mean\\\"] = oh_df[\\\"AVG_READING_4_SCORE\\\"].fillna(\\n    value=oh_df[\\\"AVG_READING_4_SCORE\\\"].mean()\\n) + oh_df[\\\"AVG_READING_8_SCORE\\\"].fillna(value=oh_df[\\\"AVG_READING_8_SCORE\\\"].mean())\";\n",
       "                var nbb_formatted_code = \"oh_df[\\\"combined_math_mean\\\"] = oh_df[\\\"AVG_MATH_4_SCORE\\\"].fillna(\\n    value=oh_df[\\\"AVG_MATH_4_SCORE\\\"].mean()\\n) + oh_df[\\\"AVG_MATH_8_SCORE\\\"].fillna(value=oh_df[\\\"AVG_MATH_8_SCORE\\\"].mean())\\noh_df[\\\"combined_reading_mean\\\"] = oh_df[\\\"AVG_READING_4_SCORE\\\"].fillna(\\n    value=oh_df[\\\"AVG_READING_4_SCORE\\\"].mean()\\n) + oh_df[\\\"AVG_READING_8_SCORE\\\"].fillna(value=oh_df[\\\"AVG_READING_8_SCORE\\\"].mean())\";\n",
       "                var nbb_cells = Jupyter.notebook.get_cells();\n",
       "                for (var i = 0; i < nbb_cells.length; ++i) {\n",
       "                    if (nbb_cells[i].input_prompt_number == nbb_cell_id) {\n",
       "                        if (nbb_cells[i].get_text() == nbb_unformatted_code) {\n",
       "                             nbb_cells[i].set_text(nbb_formatted_code);\n",
       "                        }\n",
       "                        break;\n",
       "                    }\n",
       "                }\n",
       "            }, 500);\n",
       "            "
      ],
      "text/plain": [
       "<IPython.core.display.Javascript object>"
      ]
     },
     "metadata": {},
     "output_type": "display_data"
    }
   ],
   "source": [
    "oh_df[\"combined_math_mean\"] = oh_df[\"AVG_MATH_4_SCORE\"].fillna(\n",
    "    value=oh_df[\"AVG_MATH_4_SCORE\"].mean()\n",
    ") + oh_df[\"AVG_MATH_8_SCORE\"].fillna(value=oh_df[\"AVG_MATH_8_SCORE\"].mean())\n",
    "oh_df[\"combined_reading_mean\"] = oh_df[\"AVG_READING_4_SCORE\"].fillna(\n",
    "    value=oh_df[\"AVG_READING_4_SCORE\"].mean()\n",
    ") + oh_df[\"AVG_READING_8_SCORE\"].fillna(value=oh_df[\"AVG_READING_8_SCORE\"].mean())"
   ]
  },
  {
   "cell_type": "code",
   "execution_count": 13,
   "metadata": {},
   "outputs": [
    {
     "data": {
      "application/javascript": [
       "\n",
       "            setTimeout(function() {\n",
       "                var nbb_cell_id = 13;\n",
       "                var nbb_unformatted_code = \"oh_df[\\\"combined_math_median\\\"] = oh_df[\\\"AVG_MATH_4_SCORE\\\"].fillna(\\n    value=oh_df[\\\"AVG_MATH_4_SCORE\\\"].median()\\n) + oh_df[\\\"AVG_MATH_8_SCORE\\\"].fillna(value=oh_df[\\\"AVG_MATH_8_SCORE\\\"].median())\\noh_df[\\\"combined_reading_median\\\"] = oh_df[\\\"AVG_READING_4_SCORE\\\"].fillna(\\n    value=oh_df[\\\"AVG_READING_4_SCORE\\\"].median()\\n) + oh_df[\\\"AVG_READING_8_SCORE\\\"].fillna(value=oh_df[\\\"AVG_READING_8_SCORE\\\"].median())\";\n",
       "                var nbb_formatted_code = \"oh_df[\\\"combined_math_median\\\"] = oh_df[\\\"AVG_MATH_4_SCORE\\\"].fillna(\\n    value=oh_df[\\\"AVG_MATH_4_SCORE\\\"].median()\\n) + oh_df[\\\"AVG_MATH_8_SCORE\\\"].fillna(value=oh_df[\\\"AVG_MATH_8_SCORE\\\"].median())\\noh_df[\\\"combined_reading_median\\\"] = oh_df[\\\"AVG_READING_4_SCORE\\\"].fillna(\\n    value=oh_df[\\\"AVG_READING_4_SCORE\\\"].median()\\n) + oh_df[\\\"AVG_READING_8_SCORE\\\"].fillna(value=oh_df[\\\"AVG_READING_8_SCORE\\\"].median())\";\n",
       "                var nbb_cells = Jupyter.notebook.get_cells();\n",
       "                for (var i = 0; i < nbb_cells.length; ++i) {\n",
       "                    if (nbb_cells[i].input_prompt_number == nbb_cell_id) {\n",
       "                        if (nbb_cells[i].get_text() == nbb_unformatted_code) {\n",
       "                             nbb_cells[i].set_text(nbb_formatted_code);\n",
       "                        }\n",
       "                        break;\n",
       "                    }\n",
       "                }\n",
       "            }, 500);\n",
       "            "
      ],
      "text/plain": [
       "<IPython.core.display.Javascript object>"
      ]
     },
     "metadata": {},
     "output_type": "display_data"
    }
   ],
   "source": [
    "oh_df[\"combined_math_median\"] = oh_df[\"AVG_MATH_4_SCORE\"].fillna(\n",
    "    value=oh_df[\"AVG_MATH_4_SCORE\"].median()\n",
    ") + oh_df[\"AVG_MATH_8_SCORE\"].fillna(value=oh_df[\"AVG_MATH_8_SCORE\"].median())\n",
    "oh_df[\"combined_reading_median\"] = oh_df[\"AVG_READING_4_SCORE\"].fillna(\n",
    "    value=oh_df[\"AVG_READING_4_SCORE\"].median()\n",
    ") + oh_df[\"AVG_READING_8_SCORE\"].fillna(value=oh_df[\"AVG_READING_8_SCORE\"].median())\n"
   ]
  },
  {
   "cell_type": "code",
   "execution_count": 14,
   "metadata": {},
   "outputs": [
    {
     "data": {
      "image/png": "[encoded data removed]",
      "text/plain": [
       "<Figure size 432x288 with 1 Axes>"
      ]
     },
     "metadata": {},
     "output_type": "display_data"
    },
    {
     "data": {
      "image/png": "[encoded data removed]",
      "text/plain": [
       "<Figure size 432x288 with 1 Axes>"
      ]
     },
     "metadata": {},
     "output_type": "display_data"
    },
    {
     "data": {
      "image/png": "[encoded data removed]",
      "text/plain": [
       "<Figure size 432x288 with 1 Axes>"
      ]
     },
     "metadata": {},
     "output_type": "display_data"
    },
    {
     "data": {
      "application/javascript": [
       "\n",
       "            setTimeout(function() {\n",
       "                var nbb_cell_id = 14;\n",
       "                var nbb_unformatted_code = \"plt.plot(oh_df[\\\"YEAR\\\"], oh_df[[\\\"combined_math_linear\\\", \\\"combined_reading_linear\\\"]])\\nplt.legend([\\\"math\\\", \\\"reading\\\"])\\nplt.show()\\n\\nplt.plot(oh_df[\\\"YEAR\\\"], oh_df[[\\\"combined_math_mean\\\", \\\"combined_reading_mean\\\"]])\\nplt.legend([\\\"math\\\", \\\"reading\\\"])\\nplt.show()\\n\\nplt.plot(oh_df[\\\"YEAR\\\"], oh_df[[\\\"combined_math_median\\\", \\\"combined_reading_median\\\"]])\\nplt.legend([\\\"math\\\", \\\"reading\\\"])\\nplt.show()\";\n",
       "                var nbb_formatted_code = \"plt.plot(oh_df[\\\"YEAR\\\"], oh_df[[\\\"combined_math_linear\\\", \\\"combined_reading_linear\\\"]])\\nplt.legend([\\\"math\\\", \\\"reading\\\"])\\nplt.show()\\n\\nplt.plot(oh_df[\\\"YEAR\\\"], oh_df[[\\\"combined_math_mean\\\", \\\"combined_reading_mean\\\"]])\\nplt.legend([\\\"math\\\", \\\"reading\\\"])\\nplt.show()\\n\\nplt.plot(oh_df[\\\"YEAR\\\"], oh_df[[\\\"combined_math_median\\\", \\\"combined_reading_median\\\"]])\\nplt.legend([\\\"math\\\", \\\"reading\\\"])\\nplt.show()\";\n",
       "                var nbb_cells = Jupyter.notebook.get_cells();\n",
       "                for (var i = 0; i < nbb_cells.length; ++i) {\n",
       "                    if (nbb_cells[i].input_prompt_number == nbb_cell_id) {\n",
       "                        if (nbb_cells[i].get_text() == nbb_unformatted_code) {\n",
       "                             nbb_cells[i].set_text(nbb_formatted_code);\n",
       "                        }\n",
       "                        break;\n",
       "                    }\n",
       "                }\n",
       "            }, 500);\n",
       "            "
      ],
      "text/plain": [
       "<IPython.core.display.Javascript object>"
      ]
     },
     "metadata": {},
     "output_type": "display_data"
    }
   ],
   "source": [
    "plt.plot(oh_df[\"YEAR\"], oh_df[[\"combined_math_linear\", \"combined_reading_linear\"]])\n",
    "plt.legend([\"math\", \"reading\"])\n",
    "plt.show()\n",
    "\n",
    "plt.plot(oh_df[\"YEAR\"], oh_df[[\"combined_math_mean\", \"combined_reading_mean\"]])\n",
    "plt.legend([\"math\", \"reading\"])\n",
    "plt.show()\n",
    "\n",
    "plt.plot(oh_df[\"YEAR\"], oh_df[[\"combined_math_median\", \"combined_reading_median\"]])\n",
    "plt.legend([\"math\", \"reading\"])\n",
    "plt.show()"
   ]
  },
  {
   "cell_type": "code",
   "execution_count": 15,
   "metadata": {},
   "outputs": [
    {
     "name": "stdout",
     "output_type": "stream",
     "text": [
      "<class 'pandas.core.frame.DataFrame'>\n",
      "RangeIndex: 1492 entries, 0 to 1491\n",
      "Data columns (total 25 columns):\n",
      " #   Column                        Non-Null Count  Dtype  \n",
      "---  ------                        --------------  -----  \n",
      " 0   PRIMARY_KEY                   1492 non-null   object \n",
      " 1   STATE                         1492 non-null   object \n",
      " 2   YEAR                          1492 non-null   int64  \n",
      " 3   ENROLL                        1281 non-null   float64\n",
      " 4   TOTAL_REVENUE                 1331 non-null   float64\n",
      " 5   FEDERAL_REVENUE               1331 non-null   float64\n",
      " 6   STATE_REVENUE                 1331 non-null   float64\n",
      " 7   LOCAL_REVENUE                 1331 non-null   float64\n",
      " 8   TOTAL_EXPENDITURE             1331 non-null   float64\n",
      " 9   INSTRUCTION_EXPENDITURE       1331 non-null   float64\n",
      " 10  SUPPORT_SERVICES_EXPENDITURE  1331 non-null   float64\n",
      " 11  OTHER_EXPENDITURE             1281 non-null   float64\n",
      " 12  CAPITAL_OUTLAY_EXPENDITURE    1331 non-null   float64\n",
      " 13  GRADES_PK_G                   1443 non-null   float64\n",
      " 14  GRADES_KG_G                   1485 non-null   float64\n",
      " 15  GRADES_4_G                    1485 non-null   float64\n",
      " 16  GRADES_8_G                    1485 non-null   float64\n",
      " 17  GRADES_12_G                   1485 non-null   float64\n",
      " 18  GRADES_1_8_G                  1485 non-null   float64\n",
      " 19  GRADES_9_12_G                 1485 non-null   float64\n",
      " 20  GRADES_ALL_G                  1443 non-null   float64\n",
      " 21  AVG_MATH_4_SCORE              536 non-null    float64\n",
      " 22  AVG_MATH_8_SCORE              532 non-null    float64\n",
      " 23  AVG_READING_4_SCORE           533 non-null    float64\n",
      " 24  AVG_READING_8_SCORE           498 non-null    float64\n",
      "dtypes: float64(22), int64(1), object(2)\n",
      "memory usage: 291.5+ KB\n"
     ]
    },
    {
     "data": {
      "application/javascript": [
       "\n",
       "            setTimeout(function() {\n",
       "                var nbb_cell_id = 15;\n",
       "                var nbb_unformatted_code = \"us_edu.info()\";\n",
       "                var nbb_formatted_code = \"us_edu.info()\";\n",
       "                var nbb_cells = Jupyter.notebook.get_cells();\n",
       "                for (var i = 0; i < nbb_cells.length; ++i) {\n",
       "                    if (nbb_cells[i].input_prompt_number == nbb_cell_id) {\n",
       "                        if (nbb_cells[i].get_text() == nbb_unformatted_code) {\n",
       "                             nbb_cells[i].set_text(nbb_formatted_code);\n",
       "                        }\n",
       "                        break;\n",
       "                    }\n",
       "                }\n",
       "            }, 500);\n",
       "            "
      ],
      "text/plain": [
       "<IPython.core.display.Javascript object>"
      ]
     },
     "metadata": {},
     "output_type": "display_data"
    }
   ],
   "source": [
    "us_edu.info()"
   ]
  },
  {
   "cell_type": "code",
   "execution_count": 16,
   "metadata": {},
   "outputs": [
    {
     "data": {
      "application/javascript": [
       "\n",
       "            setTimeout(function() {\n",
       "                var nbb_cell_id = 16;\n",
       "                var nbb_unformatted_code = \"us_edu_na_dropped = us_edu.dropna()\";\n",
       "                var nbb_formatted_code = \"us_edu_na_dropped = us_edu.dropna()\";\n",
       "                var nbb_cells = Jupyter.notebook.get_cells();\n",
       "                for (var i = 0; i < nbb_cells.length; ++i) {\n",
       "                    if (nbb_cells[i].input_prompt_number == nbb_cell_id) {\n",
       "                        if (nbb_cells[i].get_text() == nbb_unformatted_code) {\n",
       "                             nbb_cells[i].set_text(nbb_formatted_code);\n",
       "                        }\n",
       "                        break;\n",
       "                    }\n",
       "                }\n",
       "            }, 500);\n",
       "            "
      ],
      "text/plain": [
       "<IPython.core.display.Javascript object>"
      ]
     },
     "metadata": {},
     "output_type": "display_data"
    }
   ],
   "source": [
    "us_edu_na_dropped = us_edu.dropna()"
   ]
  },
  {
   "cell_type": "code",
   "execution_count": 17,
   "metadata": {},
   "outputs": [
    {
     "data": {
      "text/plain": [
       "<matplotlib.axes._subplots.AxesSubplot at 0x2abedfb5e48>"
      ]
     },
     "execution_count": 17,
     "metadata": {},
     "output_type": "execute_result"
    },
    {
     "data": {
      "image/png": "[encoded data removed]",
      "text/plain": [
       "<Figure size 432x288 with 1 Axes>"
      ]
     },
     "metadata": {},
     "output_type": "display_data"
    },
    {
     "data": {
      "application/javascript": [
       "\n",
       "            setTimeout(function() {\n",
       "                var nbb_cell_id = 17;\n",
       "                var nbb_unformatted_code = \"us_edu_na_dropped['AVG_MATH_8_SCORE'].hist()\";\n",
       "                var nbb_formatted_code = \"us_edu_na_dropped[\\\"AVG_MATH_8_SCORE\\\"].hist()\";\n",
       "                var nbb_cells = Jupyter.notebook.get_cells();\n",
       "                for (var i = 0; i < nbb_cells.length; ++i) {\n",
       "                    if (nbb_cells[i].input_prompt_number == nbb_cell_id) {\n",
       "                        if (nbb_cells[i].get_text() == nbb_unformatted_code) {\n",
       "                             nbb_cells[i].set_text(nbb_formatted_code);\n",
       "                        }\n",
       "                        break;\n",
       "                    }\n",
       "                }\n",
       "            }, 500);\n",
       "            "
      ],
      "text/plain": [
       "<IPython.core.display.Javascript object>"
      ]
     },
     "metadata": {},
     "output_type": "display_data"
    }
   ],
   "source": [
    "us_edu_na_dropped[\"AVG_MATH_8_SCORE\"].hist()"
   ]
  },
  {
   "cell_type": "code",
   "execution_count": null,
   "metadata": {},
   "outputs": [],
   "source": []
  }
 ],
 "metadata": {
  "kernelspec": {
   "display_name": "Python 3",
   "language": "python",
   "name": "python3"
  },
  "language_info": {
   "codemirror_mode": {
    "name": "ipython",
    "version": 3
   },
   "file_extension": ".py",
   "mimetype": "text/x-python",
   "name": "python",
   "nbconvert_exporter": "python",
   "pygments_lexer": "ipython3",
   "version": "3.7.6"
  }
 },
 "nbformat": 4,
 "nbformat_minor": 4
}
