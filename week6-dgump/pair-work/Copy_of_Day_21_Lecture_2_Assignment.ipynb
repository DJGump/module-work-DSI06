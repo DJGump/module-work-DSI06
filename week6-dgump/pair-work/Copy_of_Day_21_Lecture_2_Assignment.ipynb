{
 "cells": [
  {
   "cell_type": "markdown",
   "metadata": {
    "colab_type": "text",
    "id": "R76jIygVnkFi"
   },
   "source": [
    "## Day 21 Lecture 2 Assignment\n",
    "\n",
    "In this assignment, we will apply techniques for identifying and dealing with outliers to a dataset containing information about Uber rides."
   ]
  },
  {
   "cell_type": "code",
   "execution_count": 1,
   "metadata": {
    "colab": {},
    "colab_type": "code",
    "id": "QEtvln--nkFj"
   },
   "outputs": [],
   "source": [
    "%matplotlib inline\n",
    "\n",
    "import matplotlib.pyplot as plt\n",
    "import numpy as np\n",
    "import pandas as pd"
   ]
  },
  {
   "cell_type": "code",
   "execution_count": 2,
   "metadata": {
    "colab": {},
    "colab_type": "code",
    "id": "4pEWovz1nkFl"
   },
   "outputs": [],
   "source": [
    "uber_data = pd.read_csv('https://tf-assets-prod.s3.amazonaws.com/tf-curric/data-science/uber_rides.csv')"
   ]
  },
  {
   "cell_type": "code",
   "execution_count": 3,
   "metadata": {
    "colab": {
     "base_uri": "https://localhost:8080/",
     "height": 224
    },
    "colab_type": "code",
    "id": "pkrBu-8kRS6s",
    "outputId": "a5141b69-7243-4f2e-e360-4d8ece5347d5"
   },
   "outputs": [
    {
     "data": {
      "text/html": [
       "<div>\n",
       "<style scoped>\n",
       "    .dataframe tbody tr th:only-of-type {\n",
       "        vertical-align: middle;\n",
       "    }\n",
       "\n",
       "    .dataframe tbody tr th {\n",
       "        vertical-align: top;\n",
       "    }\n",
       "\n",
       "    .dataframe thead th {\n",
       "        text-align: right;\n",
       "    }\n",
       "</style>\n",
       "<table border=\"1\" class=\"dataframe\">\n",
       "  <thead>\n",
       "    <tr style=\"text-align: right;\">\n",
       "      <th></th>\n",
       "      <th>trip_uid</th>\n",
       "      <th>trip_time</th>\n",
       "      <th>total_time</th>\n",
       "      <th>wait_time</th>\n",
       "      <th>price_rub</th>\n",
       "      <th>price_usd</th>\n",
       "      <th>distance_kms</th>\n",
       "      <th>temperature_value</th>\n",
       "      <th>feels_like</th>\n",
       "      <th>humidity</th>\n",
       "      <th>wind_speed</th>\n",
       "      <th>cloudness</th>\n",
       "    </tr>\n",
       "  </thead>\n",
       "  <tbody>\n",
       "    <tr>\n",
       "      <th>0</th>\n",
       "      <td>ee89076fd9da9bddf5f096b0ca42f8d5</td>\n",
       "      <td>0:21:33</td>\n",
       "      <td>0:29:00</td>\n",
       "      <td>0:07:27</td>\n",
       "      <td>265</td>\n",
       "      <td>5.17</td>\n",
       "      <td>9.29</td>\n",
       "      <td>12</td>\n",
       "      <td>12</td>\n",
       "      <td>0.69</td>\n",
       "      <td>4.81</td>\n",
       "      <td>0.78</td>\n",
       "    </tr>\n",
       "    <tr>\n",
       "      <th>1</th>\n",
       "      <td>518be51d403944a03c47e8d1f2c87311</td>\n",
       "      <td>0:19:27</td>\n",
       "      <td>0:26:00</td>\n",
       "      <td>0:06:33</td>\n",
       "      <td>255</td>\n",
       "      <td>4.97</td>\n",
       "      <td>9.93</td>\n",
       "      <td>10</td>\n",
       "      <td>10</td>\n",
       "      <td>0.70</td>\n",
       "      <td>6.53</td>\n",
       "      <td>0.66</td>\n",
       "    </tr>\n",
       "    <tr>\n",
       "      <th>2</th>\n",
       "      <td>6e460cc8a12c3c6568d0d4a67ac58393</td>\n",
       "      <td>1:06:53</td>\n",
       "      <td>1:23:00</td>\n",
       "      <td>0:16:07</td>\n",
       "      <td>644</td>\n",
       "      <td>13.01</td>\n",
       "      <td>18.01</td>\n",
       "      <td>14</td>\n",
       "      <td>14</td>\n",
       "      <td>0.61</td>\n",
       "      <td>5.25</td>\n",
       "      <td>0.86</td>\n",
       "    </tr>\n",
       "    <tr>\n",
       "      <th>3</th>\n",
       "      <td>49613a86a04e6c15d72b51d1a2935d81</td>\n",
       "      <td>0:13:37</td>\n",
       "      <td>0:20:00</td>\n",
       "      <td>0:06:23</td>\n",
       "      <td>1287</td>\n",
       "      <td>25.99</td>\n",
       "      <td>5.10</td>\n",
       "      <td>3</td>\n",
       "      <td>3</td>\n",
       "      <td>0.84</td>\n",
       "      <td>0.87</td>\n",
       "      <td>0.56</td>\n",
       "    </tr>\n",
       "    <tr>\n",
       "      <th>4</th>\n",
       "      <td>9896148fdecdb4c5d977a8691510bdb6</td>\n",
       "      <td>0:38:54</td>\n",
       "      <td>0:49:00</td>\n",
       "      <td>0:10:06</td>\n",
       "      <td>665</td>\n",
       "      <td>13.43</td>\n",
       "      <td>21.92</td>\n",
       "      <td>3</td>\n",
       "      <td>1</td>\n",
       "      <td>0.90</td>\n",
       "      <td>1.61</td>\n",
       "      <td>0.31</td>\n",
       "    </tr>\n",
       "  </tbody>\n",
       "</table>\n",
       "</div>"
      ],
      "text/plain": [
       "                           trip_uid trip_time  ... wind_speed cloudness\n",
       "0  ee89076fd9da9bddf5f096b0ca42f8d5   0:21:33  ...       4.81      0.78\n",
       "1  518be51d403944a03c47e8d1f2c87311   0:19:27  ...       6.53      0.66\n",
       "2  6e460cc8a12c3c6568d0d4a67ac58393   1:06:53  ...       5.25      0.86\n",
       "3  49613a86a04e6c15d72b51d1a2935d81   0:13:37  ...       0.87      0.56\n",
       "4  9896148fdecdb4c5d977a8691510bdb6   0:38:54  ...       1.61      0.31\n",
       "\n",
       "[5 rows x 12 columns]"
      ]
     },
     "execution_count": 3,
     "metadata": {
      "tags": []
     },
     "output_type": "execute_result"
    }
   ],
   "source": [
    "uber_data.head()"
   ]
  },
  {
   "cell_type": "markdown",
   "metadata": {
    "colab_type": "text",
    "id": "5NS7puiURS6v"
   },
   "source": [
    "Before we identify outliers in the given columns, we need to address three time columns (trip_time, total_time, and wait_time), which are provided as formatted strings (HH:MM:SS) instead of numeric values. Convert the values in these three columns into their numeric equivalents in minutes - \"2:15\" should be converted to \"2.25\", \"1:22:30\" should be converted to \"82.5\", and so on. You may find it helpful to write a function that does this and use the .apply() function to apply it to all of the necessary columns."
   ]
  },
  {
   "cell_type": "code",
   "execution_count": 4,
   "metadata": {
    "colab": {
     "base_uri": "https://localhost:8080/",
     "height": 340
    },
    "colab_type": "code",
    "id": "KGo73Xa46QCe",
    "outputId": "71da5ec8-e248-4368-9e6a-325ac6b6acb3"
   },
   "outputs": [
    {
     "name": "stdout",
     "output_type": "stream",
     "text": [
      "<class 'pandas.core.frame.DataFrame'>\n",
      "RangeIndex: 678 entries, 0 to 677\n",
      "Data columns (total 12 columns):\n",
      " #   Column             Non-Null Count  Dtype  \n",
      "---  ------             --------------  -----  \n",
      " 0   trip_uid           678 non-null    object \n",
      " 1   trip_time          678 non-null    object \n",
      " 2   total_time         678 non-null    object \n",
      " 3   wait_time          678 non-null    object \n",
      " 4   price_rub          678 non-null    object \n",
      " 5   price_usd          678 non-null    float64\n",
      " 6   distance_kms       678 non-null    float64\n",
      " 7   temperature_value  678 non-null    int64  \n",
      " 8   feels_like         678 non-null    int64  \n",
      " 9   humidity           678 non-null    float64\n",
      " 10  wind_speed         678 non-null    float64\n",
      " 11  cloudness          678 non-null    object \n",
      "dtypes: float64(4), int64(2), object(6)\n",
      "memory usage: 63.7+ KB\n"
     ]
    }
   ],
   "source": [
    "uber_data.info()"
   ]
  },
  {
   "cell_type": "code",
   "execution_count": 5,
   "metadata": {
    "colab": {},
    "colab_type": "code",
    "id": "caYPANrJnkFn"
   },
   "outputs": [],
   "source": [
    "#uber_data.info()\n",
    "\n",
    "# answer goes here\n",
    "\n",
    "for time in uber_data.filter(like='_time').columns:\n",
    "  hour = uber_data[time].apply(lambda s: int(s.split(':')[0]))\n",
    "  minute = uber_data[time].apply(lambda s: int(s.split(':')[1]))\n",
    "  second = uber_data[time].apply(lambda s: int(s.split(':')[2]))\n",
    "  uber_data[time] = (hour * 60) + minute + (second / 60)"
   ]
  },
  {
   "cell_type": "code",
   "execution_count": 6,
   "metadata": {
    "colab": {
     "base_uri": "https://localhost:8080/",
     "height": 224
    },
    "colab_type": "code",
    "id": "NI2sAQv84eC4",
    "outputId": "bad622a3-4222-4a31-e9d1-8abadf6d1af1"
   },
   "outputs": [
    {
     "data": {
      "text/html": [
       "<div>\n",
       "<style scoped>\n",
       "    .dataframe tbody tr th:only-of-type {\n",
       "        vertical-align: middle;\n",
       "    }\n",
       "\n",
       "    .dataframe tbody tr th {\n",
       "        vertical-align: top;\n",
       "    }\n",
       "\n",
       "    .dataframe thead th {\n",
       "        text-align: right;\n",
       "    }\n",
       "</style>\n",
       "<table border=\"1\" class=\"dataframe\">\n",
       "  <thead>\n",
       "    <tr style=\"text-align: right;\">\n",
       "      <th></th>\n",
       "      <th>trip_uid</th>\n",
       "      <th>trip_time</th>\n",
       "      <th>total_time</th>\n",
       "      <th>wait_time</th>\n",
       "      <th>price_rub</th>\n",
       "      <th>price_usd</th>\n",
       "      <th>distance_kms</th>\n",
       "      <th>temperature_value</th>\n",
       "      <th>feels_like</th>\n",
       "      <th>humidity</th>\n",
       "      <th>wind_speed</th>\n",
       "      <th>cloudness</th>\n",
       "    </tr>\n",
       "  </thead>\n",
       "  <tbody>\n",
       "    <tr>\n",
       "      <th>0</th>\n",
       "      <td>ee89076fd9da9bddf5f096b0ca42f8d5</td>\n",
       "      <td>21.550000</td>\n",
       "      <td>29.0</td>\n",
       "      <td>7.450000</td>\n",
       "      <td>265</td>\n",
       "      <td>5.17</td>\n",
       "      <td>9.29</td>\n",
       "      <td>12</td>\n",
       "      <td>12</td>\n",
       "      <td>0.69</td>\n",
       "      <td>4.81</td>\n",
       "      <td>0.78</td>\n",
       "    </tr>\n",
       "    <tr>\n",
       "      <th>1</th>\n",
       "      <td>518be51d403944a03c47e8d1f2c87311</td>\n",
       "      <td>19.450000</td>\n",
       "      <td>26.0</td>\n",
       "      <td>6.550000</td>\n",
       "      <td>255</td>\n",
       "      <td>4.97</td>\n",
       "      <td>9.93</td>\n",
       "      <td>10</td>\n",
       "      <td>10</td>\n",
       "      <td>0.70</td>\n",
       "      <td>6.53</td>\n",
       "      <td>0.66</td>\n",
       "    </tr>\n",
       "    <tr>\n",
       "      <th>2</th>\n",
       "      <td>6e460cc8a12c3c6568d0d4a67ac58393</td>\n",
       "      <td>66.883333</td>\n",
       "      <td>83.0</td>\n",
       "      <td>16.116667</td>\n",
       "      <td>644</td>\n",
       "      <td>13.01</td>\n",
       "      <td>18.01</td>\n",
       "      <td>14</td>\n",
       "      <td>14</td>\n",
       "      <td>0.61</td>\n",
       "      <td>5.25</td>\n",
       "      <td>0.86</td>\n",
       "    </tr>\n",
       "    <tr>\n",
       "      <th>3</th>\n",
       "      <td>49613a86a04e6c15d72b51d1a2935d81</td>\n",
       "      <td>13.616667</td>\n",
       "      <td>20.0</td>\n",
       "      <td>6.383333</td>\n",
       "      <td>1287</td>\n",
       "      <td>25.99</td>\n",
       "      <td>5.10</td>\n",
       "      <td>3</td>\n",
       "      <td>3</td>\n",
       "      <td>0.84</td>\n",
       "      <td>0.87</td>\n",
       "      <td>0.56</td>\n",
       "    </tr>\n",
       "    <tr>\n",
       "      <th>4</th>\n",
       "      <td>9896148fdecdb4c5d977a8691510bdb6</td>\n",
       "      <td>38.900000</td>\n",
       "      <td>49.0</td>\n",
       "      <td>10.100000</td>\n",
       "      <td>665</td>\n",
       "      <td>13.43</td>\n",
       "      <td>21.92</td>\n",
       "      <td>3</td>\n",
       "      <td>1</td>\n",
       "      <td>0.90</td>\n",
       "      <td>1.61</td>\n",
       "      <td>0.31</td>\n",
       "    </tr>\n",
       "  </tbody>\n",
       "</table>\n",
       "</div>"
      ],
      "text/plain": [
       "                           trip_uid  trip_time  ...  wind_speed  cloudness\n",
       "0  ee89076fd9da9bddf5f096b0ca42f8d5  21.550000  ...        4.81       0.78\n",
       "1  518be51d403944a03c47e8d1f2c87311  19.450000  ...        6.53       0.66\n",
       "2  6e460cc8a12c3c6568d0d4a67ac58393  66.883333  ...        5.25       0.86\n",
       "3  49613a86a04e6c15d72b51d1a2935d81  13.616667  ...        0.87       0.56\n",
       "4  9896148fdecdb4c5d977a8691510bdb6  38.900000  ...        1.61       0.31\n",
       "\n",
       "[5 rows x 12 columns]"
      ]
     },
     "execution_count": 6,
     "metadata": {
      "tags": []
     },
     "output_type": "execute_result"
    }
   ],
   "source": [
    "uber_data.head()\n"
   ]
  },
  {
   "cell_type": "markdown",
   "metadata": {
    "colab_type": "text",
    "id": "xA9ellO5nkFn"
   },
   "source": [
    "Plot histograms for each of the column, excluding the trip ID. Which features appear to have outliers? What do you suspect the nature of these outliers is (i.e. do you think these are most likely data errors, or correct values that are simply unusually large or small?)"
   ]
  },
  {
   "cell_type": "code",
   "execution_count": 6,
   "metadata": {
    "colab": {},
    "colab_type": "code",
    "id": "AuykBVks9K_4"
   },
   "outputs": [],
   "source": []
  },
  {
   "cell_type": "code",
   "execution_count": 7,
   "metadata": {
    "colab": {},
    "colab_type": "code",
    "id": "NiYLMnxGnkFp"
   },
   "outputs": [],
   "source": [
    "# answer goes here\n",
    "uber_hists = uber_data.drop('trip_uid', axis=1)"
   ]
  },
  {
   "cell_type": "code",
   "execution_count": 8,
   "metadata": {
    "colab": {
     "base_uri": "https://localhost:8080/",
     "height": 323
    },
    "colab_type": "code",
    "id": "JI6LcBDI9Mvq",
    "outputId": "c6b02c67-b159-4608-b3ea-48e87a6c559f"
   },
   "outputs": [
    {
     "name": "stdout",
     "output_type": "stream",
     "text": [
      "<class 'pandas.core.frame.DataFrame'>\n",
      "RangeIndex: 678 entries, 0 to 677\n",
      "Data columns (total 11 columns):\n",
      " #   Column             Non-Null Count  Dtype  \n",
      "---  ------             --------------  -----  \n",
      " 0   trip_time          678 non-null    float64\n",
      " 1   total_time         678 non-null    float64\n",
      " 2   wait_time          678 non-null    float64\n",
      " 3   price_rub          678 non-null    object \n",
      " 4   price_usd          678 non-null    float64\n",
      " 5   distance_kms       678 non-null    float64\n",
      " 6   temperature_value  678 non-null    int64  \n",
      " 7   feels_like         678 non-null    int64  \n",
      " 8   humidity           678 non-null    float64\n",
      " 9   wind_speed         678 non-null    float64\n",
      " 10  cloudness          678 non-null    object \n",
      "dtypes: float64(7), int64(2), object(2)\n",
      "memory usage: 58.4+ KB\n"
     ]
    }
   ],
   "source": [
    "uber_hists.info()"
   ]
  },
  {
   "cell_type": "code",
   "execution_count": 9,
   "metadata": {
    "colab": {
     "base_uri": "https://localhost:8080/",
     "height": 34
    },
    "colab_type": "code",
    "id": "y4Olam2W9Utk",
    "outputId": "4333d749-7fcb-40db-f724-b2904b3fb059"
   },
   "outputs": [
    {
     "data": {
      "text/plain": [
       "0"
      ]
     },
     "execution_count": 9,
     "metadata": {
      "tags": []
     },
     "output_type": "execute_result"
    }
   ],
   "source": [
    "uber_hists['price_rub'] = pd.to_numeric(uber_hists['price_rub'], errors='coerce')\n",
    "uber_hists[uber_hists['price_rub'].isna()]\n",
    "uber_hists = uber_hists[uber_hists['price_rub'].notnull()]\n",
    "# uber_hists['price_rub'].isna().mean()\n",
    "# uber_hists['price_rub'] = uber_hists.dropna()\n",
    "uber_hists.price_rub.isna().sum()"
   ]
  },
  {
   "cell_type": "code",
   "execution_count": 10,
   "metadata": {
    "colab": {
     "base_uri": "https://localhost:8080/",
     "height": 34
    },
    "colab_type": "code",
    "id": "QAtwgkIzA4eS",
    "outputId": "9273c302-88dd-4187-ca57-cfb88e17bdcf"
   },
   "outputs": [
    {
     "data": {
      "text/plain": [
       "0"
      ]
     },
     "execution_count": 10,
     "metadata": {
      "tags": []
     },
     "output_type": "execute_result"
    }
   ],
   "source": [
    "uber_hists['price_rub'].isna().sum()"
   ]
  },
  {
   "cell_type": "code",
   "execution_count": 11,
   "metadata": {
    "colab": {
     "base_uri": "https://localhost:8080/",
     "height": 34
    },
    "colab_type": "code",
    "id": "SdXi2VDI-Fpy",
    "outputId": "0974062e-e522-4f09-c0a4-1861173606fb"
   },
   "outputs": [
    {
     "data": {
      "text/plain": [
       "0"
      ]
     },
     "execution_count": 11,
     "metadata": {
      "tags": []
     },
     "output_type": "execute_result"
    }
   ],
   "source": [
    "uber_hists['cloudness'] = pd.to_numeric(uber_hists['cloudness'], errors='coerce')\n",
    "uber_hists[uber_hists['cloudness'].isna()]\n",
    "uber_hists = uber_hists[uber_hists['cloudness'].notnull()]\n",
    "\n",
    "uber_hists.cloudness.isna().sum()"
   ]
  },
  {
   "cell_type": "code",
   "execution_count": 12,
   "metadata": {
    "colab": {
     "base_uri": "https://localhost:8080/",
     "height": 323
    },
    "colab_type": "code",
    "id": "t_5bMkhHDBuI",
    "outputId": "fd4168f7-f850-4f39-d1db-f6259ef312e0"
   },
   "outputs": [
    {
     "name": "stdout",
     "output_type": "stream",
     "text": [
      "<class 'pandas.core.frame.DataFrame'>\n",
      "Int64Index: 675 entries, 0 to 677\n",
      "Data columns (total 11 columns):\n",
      " #   Column             Non-Null Count  Dtype  \n",
      "---  ------             --------------  -----  \n",
      " 0   trip_time          675 non-null    float64\n",
      " 1   total_time         675 non-null    float64\n",
      " 2   wait_time          675 non-null    float64\n",
      " 3   price_rub          675 non-null    float64\n",
      " 4   price_usd          675 non-null    float64\n",
      " 5   distance_kms       675 non-null    float64\n",
      " 6   temperature_value  675 non-null    int64  \n",
      " 7   feels_like         675 non-null    int64  \n",
      " 8   humidity           675 non-null    float64\n",
      " 9   wind_speed         675 non-null    float64\n",
      " 10  cloudness          675 non-null    float64\n",
      "dtypes: float64(9), int64(2)\n",
      "memory usage: 63.3 KB\n"
     ]
    }
   ],
   "source": [
    "uber_hists.info()"
   ]
  },
  {
   "cell_type": "code",
   "execution_count": 13,
   "metadata": {
    "colab": {
     "base_uri": "https://localhost:8080/",
     "height": 1000
    },
    "colab_type": "code",
    "id": "IKHpavFlDJBr",
    "outputId": "f1303de9-5d81-4cb7-e279-7d180c7febc6"
   },
   "outputs": [
    {
     "data": {
      "image/png": "[encoded data removed]",
      "text/plain": [
       "<Figure size 432x288 with 1 Axes>"
      ]
     },
     "metadata": {
      "needs_background": "light",
      "tags": []
     },
     "output_type": "display_data"
    },
    {
     "data": {
      "image/png": "[encoded data removed]",
      "text/plain": [
       "<Figure size 432x288 with 1 Axes>"
      ]
     },
     "metadata": {
      "needs_background": "light",
      "tags": []
     },
     "output_type": "display_data"
    },
    {
     "data": {
      "image/png": "[encoded data removed]",
      "text/plain": [
       "<Figure size 432x288 with 1 Axes>"
      ]
     },
     "metadata": {
      "needs_background": "light",
      "tags": []
     },
     "output_type": "display_data"
    },
    {
     "data": {
      "image/png": "[encoded data removed]",
      "text/plain": [
       "<Figure size 432x288 with 1 Axes>"
      ]
     },
     "metadata": {
      "needs_background": "light",
      "tags": []
     },
     "output_type": "display_data"
    },
    {
     "data": {
      "image/png": "[encoded data removed]",
      "text/plain": [
       "<Figure size 432x288 with 1 Axes>"
      ]
     },
     "metadata": {
      "needs_background": "light",
      "tags": []
     },
     "output_type": "display_data"
    },
    {
     "data": {
      "image/png": "[encoded data removed]",
      "text/plain": [
       "<Figure size 432x288 with 1 Axes>"
      ]
     },
     "metadata": {
      "needs_background": "light",
      "tags": []
     },
     "output_type": "display_data"
    },
    {
     "data": {
      "image/png": "[encoded data removed]",
      "text/plain": [
       "<Figure size 432x288 with 1 Axes>"
      ]
     },
     "metadata": {
      "needs_background": "light",
      "tags": []
     },
     "output_type": "display_data"
    },
    {
     "data": {
      "image/png": "[encoded data removed]",
      "text/plain": [
       "<Figure size 432x288 with 1 Axes>"
      ]
     },
     "metadata": {
      "needs_background": "light",
      "tags": []
     },
     "output_type": "display_data"
    },
    {
     "data": {
      "image/png": "[encoded data removed]",
      "text/plain": [
       "<Figure size 432x288 with 1 Axes>"
      ]
     },
     "metadata": {
      "needs_background": "light",
      "tags": []
     },
     "output_type": "display_data"
    },
    {
     "data": {
      "image/png": "[encoded data removed]",
      "text/plain": [
       "<Figure size 432x288 with 1 Axes>"
      ]
     },
     "metadata": {
      "needs_background": "light",
      "tags": []
     },
     "output_type": "display_data"
    },
    {
     "data": {
      "image/png": "[encoded data removed]",
      "text/plain": [
       "<Figure size 432x288 with 1 Axes>"
      ]
     },
     "metadata": {
      "needs_background": "light",
      "tags": []
     },
     "output_type": "display_data"
    }
   ],
   "source": [
    "for col in uber_hists:\n",
    "  uber_hists[col].hist()\n",
    "  plt.show()"
   ]
  },
  {
   "cell_type": "markdown",
   "metadata": {
    "colab_type": "text",
    "id": "ZkttxvvlnkFq"
   },
   "source": [
    "Using Tukey's IQR method and a threshold value of 1.5, how many trips have trip_time values that are identified as outliers? Print these trips out."
   ]
  },
  {
   "cell_type": "code",
   "execution_count": 23,
   "metadata": {
    "colab": {},
    "colab_type": "code",
    "id": "gC5y9EkFnkFr"
   },
   "outputs": [],
   "source": [
    "# answer goes here\n",
    "p75, p25 = np.percentile(uber_hists[\"trip_time\"], [75 ,25])\n",
    "iqr = p75 - p25\n",
    "min = p25 - (iqr * 1.5)\n",
    "max = p75 + (iqr * 1.5)\n",
    "# out_count = 0\n",
    "outliers_df = uber_hists\n",
    "for time in uber_hists['trip_time']:\n",
    "  if min < time < max:\n",
    "    outliers_df = outliers_df.drop(outliers_df.loc[outliers_df['trip_time'] == time].index)\n"
   ]
  },
  {
   "cell_type": "code",
   "execution_count": 26,
   "metadata": {
    "colab": {
     "base_uri": "https://localhost:8080/",
     "height": 999
    },
    "colab_type": "code",
    "id": "CIkMZntvEkWN",
    "outputId": "d3362400-fee5-4812-c08c-4ce9426eef1e"
   },
   "outputs": [
    {
     "data": {
      "text/html": [
       "<div>\n",
       "<style scoped>\n",
       "    .dataframe tbody tr th:only-of-type {\n",
       "        vertical-align: middle;\n",
       "    }\n",
       "\n",
       "    .dataframe tbody tr th {\n",
       "        vertical-align: top;\n",
       "    }\n",
       "\n",
       "    .dataframe thead th {\n",
       "        text-align: right;\n",
       "    }\n",
       "</style>\n",
       "<table border=\"1\" class=\"dataframe\">\n",
       "  <thead>\n",
       "    <tr style=\"text-align: right;\">\n",
       "      <th></th>\n",
       "      <th>trip_time</th>\n",
       "      <th>total_time</th>\n",
       "      <th>wait_time</th>\n",
       "      <th>price_rub</th>\n",
       "      <th>price_usd</th>\n",
       "      <th>distance_kms</th>\n",
       "      <th>temperature_value</th>\n",
       "      <th>feels_like</th>\n",
       "      <th>humidity</th>\n",
       "      <th>wind_speed</th>\n",
       "      <th>cloudness</th>\n",
       "    </tr>\n",
       "  </thead>\n",
       "  <tbody>\n",
       "    <tr>\n",
       "      <th>2</th>\n",
       "      <td>66.883333</td>\n",
       "      <td>83.0</td>\n",
       "      <td>16.116667</td>\n",
       "      <td>644.00</td>\n",
       "      <td>13.01</td>\n",
       "      <td>18.01</td>\n",
       "      <td>14</td>\n",
       "      <td>14</td>\n",
       "      <td>0.61</td>\n",
       "      <td>5.25</td>\n",
       "      <td>0.86</td>\n",
       "    </tr>\n",
       "    <tr>\n",
       "      <th>13</th>\n",
       "      <td>50.216667</td>\n",
       "      <td>64.0</td>\n",
       "      <td>13.783333</td>\n",
       "      <td>228.00</td>\n",
       "      <td>4.20</td>\n",
       "      <td>9.41</td>\n",
       "      <td>29</td>\n",
       "      <td>31</td>\n",
       "      <td>0.63</td>\n",
       "      <td>5.11</td>\n",
       "      <td>0.75</td>\n",
       "    </tr>\n",
       "    <tr>\n",
       "      <th>29</th>\n",
       "      <td>68.066667</td>\n",
       "      <td>88.0</td>\n",
       "      <td>19.933333</td>\n",
       "      <td>1500.00</td>\n",
       "      <td>27.29</td>\n",
       "      <td>21.22</td>\n",
       "      <td>16</td>\n",
       "      <td>16</td>\n",
       "      <td>0.66</td>\n",
       "      <td>5.75</td>\n",
       "      <td>0.62</td>\n",
       "    </tr>\n",
       "    <tr>\n",
       "      <th>45</th>\n",
       "      <td>48.216667</td>\n",
       "      <td>57.0</td>\n",
       "      <td>8.783333</td>\n",
       "      <td>1800.00</td>\n",
       "      <td>33.55</td>\n",
       "      <td>19.14</td>\n",
       "      <td>15</td>\n",
       "      <td>15</td>\n",
       "      <td>0.41</td>\n",
       "      <td>5.95</td>\n",
       "      <td>0.46</td>\n",
       "    </tr>\n",
       "    <tr>\n",
       "      <th>47</th>\n",
       "      <td>62.016667</td>\n",
       "      <td>77.0</td>\n",
       "      <td>14.983333</td>\n",
       "      <td>593.00</td>\n",
       "      <td>10.46</td>\n",
       "      <td>15.63</td>\n",
       "      <td>14</td>\n",
       "      <td>14</td>\n",
       "      <td>0.91</td>\n",
       "      <td>4.70</td>\n",
       "      <td>0.79</td>\n",
       "    </tr>\n",
       "    <tr>\n",
       "      <th>79</th>\n",
       "      <td>53.216667</td>\n",
       "      <td>60.0</td>\n",
       "      <td>6.783333</td>\n",
       "      <td>518.00</td>\n",
       "      <td>7.84</td>\n",
       "      <td>13.78</td>\n",
       "      <td>16</td>\n",
       "      <td>16</td>\n",
       "      <td>0.67</td>\n",
       "      <td>4.67</td>\n",
       "      <td>0.75</td>\n",
       "    </tr>\n",
       "    <tr>\n",
       "      <th>106</th>\n",
       "      <td>51.050000</td>\n",
       "      <td>57.0</td>\n",
       "      <td>5.950000</td>\n",
       "      <td>1000.00</td>\n",
       "      <td>15.43</td>\n",
       "      <td>36.50</td>\n",
       "      <td>9</td>\n",
       "      <td>6</td>\n",
       "      <td>0.65</td>\n",
       "      <td>4.82</td>\n",
       "      <td>0.31</td>\n",
       "    </tr>\n",
       "    <tr>\n",
       "      <th>108</th>\n",
       "      <td>85.316667</td>\n",
       "      <td>103.0</td>\n",
       "      <td>17.683333</td>\n",
       "      <td>1000.00</td>\n",
       "      <td>16.00</td>\n",
       "      <td>46.04</td>\n",
       "      <td>-3</td>\n",
       "      <td>-3</td>\n",
       "      <td>0.97</td>\n",
       "      <td>0.95</td>\n",
       "      <td>0.18</td>\n",
       "    </tr>\n",
       "    <tr>\n",
       "      <th>117</th>\n",
       "      <td>71.200000</td>\n",
       "      <td>81.0</td>\n",
       "      <td>9.800000</td>\n",
       "      <td>669.00</td>\n",
       "      <td>10.17</td>\n",
       "      <td>17.32</td>\n",
       "      <td>-2</td>\n",
       "      <td>-7</td>\n",
       "      <td>0.75</td>\n",
       "      <td>4.86</td>\n",
       "      <td>0.84</td>\n",
       "    </tr>\n",
       "    <tr>\n",
       "      <th>201</th>\n",
       "      <td>47.966667</td>\n",
       "      <td>57.0</td>\n",
       "      <td>9.033333</td>\n",
       "      <td>349.00</td>\n",
       "      <td>5.28</td>\n",
       "      <td>9.54</td>\n",
       "      <td>21</td>\n",
       "      <td>21</td>\n",
       "      <td>0.82</td>\n",
       "      <td>2.64</td>\n",
       "      <td>0.80</td>\n",
       "    </tr>\n",
       "    <tr>\n",
       "      <th>253</th>\n",
       "      <td>84.800000</td>\n",
       "      <td>95.0</td>\n",
       "      <td>10.200000</td>\n",
       "      <td>570.00</td>\n",
       "      <td>9.00</td>\n",
       "      <td>22.63</td>\n",
       "      <td>0</td>\n",
       "      <td>-2</td>\n",
       "      <td>0.87</td>\n",
       "      <td>1.78</td>\n",
       "      <td>0.88</td>\n",
       "    </tr>\n",
       "    <tr>\n",
       "      <th>277</th>\n",
       "      <td>61.283333</td>\n",
       "      <td>70.0</td>\n",
       "      <td>8.716667</td>\n",
       "      <td>1468.05</td>\n",
       "      <td>22.65</td>\n",
       "      <td>20.41</td>\n",
       "      <td>-6</td>\n",
       "      <td>-13</td>\n",
       "      <td>0.82</td>\n",
       "      <td>6.08</td>\n",
       "      <td>0.99</td>\n",
       "    </tr>\n",
       "    <tr>\n",
       "      <th>291</th>\n",
       "      <td>64.983333</td>\n",
       "      <td>72.0</td>\n",
       "      <td>7.016667</td>\n",
       "      <td>574.00</td>\n",
       "      <td>9.38</td>\n",
       "      <td>9.88</td>\n",
       "      <td>2</td>\n",
       "      <td>-2</td>\n",
       "      <td>0.86</td>\n",
       "      <td>5.50</td>\n",
       "      <td>0.83</td>\n",
       "    </tr>\n",
       "    <tr>\n",
       "      <th>339</th>\n",
       "      <td>77.766667</td>\n",
       "      <td>86.0</td>\n",
       "      <td>8.233333</td>\n",
       "      <td>560.00</td>\n",
       "      <td>9.93</td>\n",
       "      <td>44.90</td>\n",
       "      <td>13</td>\n",
       "      <td>13</td>\n",
       "      <td>0.62</td>\n",
       "      <td>3.13</td>\n",
       "      <td>0.53</td>\n",
       "    </tr>\n",
       "    <tr>\n",
       "      <th>367</th>\n",
       "      <td>47.566667</td>\n",
       "      <td>59.0</td>\n",
       "      <td>11.433333</td>\n",
       "      <td>450.18</td>\n",
       "      <td>7.55</td>\n",
       "      <td>11.65</td>\n",
       "      <td>12</td>\n",
       "      <td>12</td>\n",
       "      <td>0.79</td>\n",
       "      <td>2.41</td>\n",
       "      <td>0.99</td>\n",
       "    </tr>\n",
       "    <tr>\n",
       "      <th>411</th>\n",
       "      <td>49.933333</td>\n",
       "      <td>62.0</td>\n",
       "      <td>12.066667</td>\n",
       "      <td>1588.00</td>\n",
       "      <td>26.88</td>\n",
       "      <td>31.64</td>\n",
       "      <td>20</td>\n",
       "      <td>20</td>\n",
       "      <td>0.72</td>\n",
       "      <td>3.92</td>\n",
       "      <td>0.42</td>\n",
       "    </tr>\n",
       "    <tr>\n",
       "      <th>413</th>\n",
       "      <td>57.650000</td>\n",
       "      <td>69.0</td>\n",
       "      <td>11.350000</td>\n",
       "      <td>610.00</td>\n",
       "      <td>10.32</td>\n",
       "      <td>34.01</td>\n",
       "      <td>16</td>\n",
       "      <td>17</td>\n",
       "      <td>0.90</td>\n",
       "      <td>1.10</td>\n",
       "      <td>0.92</td>\n",
       "    </tr>\n",
       "    <tr>\n",
       "      <th>414</th>\n",
       "      <td>58.350000</td>\n",
       "      <td>66.0</td>\n",
       "      <td>7.650000</td>\n",
       "      <td>632.00</td>\n",
       "      <td>11.00</td>\n",
       "      <td>38.42</td>\n",
       "      <td>19</td>\n",
       "      <td>19</td>\n",
       "      <td>0.78</td>\n",
       "      <td>7.38</td>\n",
       "      <td>0.78</td>\n",
       "    </tr>\n",
       "    <tr>\n",
       "      <th>432</th>\n",
       "      <td>50.066667</td>\n",
       "      <td>56.0</td>\n",
       "      <td>5.933333</td>\n",
       "      <td>857.00</td>\n",
       "      <td>14.20</td>\n",
       "      <td>42.71</td>\n",
       "      <td>1</td>\n",
       "      <td>-3</td>\n",
       "      <td>0.92</td>\n",
       "      <td>4.05</td>\n",
       "      <td>0.83</td>\n",
       "    </tr>\n",
       "    <tr>\n",
       "      <th>472</th>\n",
       "      <td>52.833333</td>\n",
       "      <td>58.0</td>\n",
       "      <td>5.166667</td>\n",
       "      <td>368.00</td>\n",
       "      <td>6.30</td>\n",
       "      <td>14.66</td>\n",
       "      <td>1</td>\n",
       "      <td>-3</td>\n",
       "      <td>0.81</td>\n",
       "      <td>4.63</td>\n",
       "      <td>0.90</td>\n",
       "    </tr>\n",
       "    <tr>\n",
       "      <th>473</th>\n",
       "      <td>56.933333</td>\n",
       "      <td>66.0</td>\n",
       "      <td>9.066667</td>\n",
       "      <td>525.00</td>\n",
       "      <td>8.99</td>\n",
       "      <td>16.63</td>\n",
       "      <td>0</td>\n",
       "      <td>-5</td>\n",
       "      <td>0.88</td>\n",
       "      <td>3.93</td>\n",
       "      <td>0.88</td>\n",
       "    </tr>\n",
       "    <tr>\n",
       "      <th>474</th>\n",
       "      <td>62.333333</td>\n",
       "      <td>73.0</td>\n",
       "      <td>10.666667</td>\n",
       "      <td>469.00</td>\n",
       "      <td>8.03</td>\n",
       "      <td>18.20</td>\n",
       "      <td>0</td>\n",
       "      <td>-5</td>\n",
       "      <td>0.88</td>\n",
       "      <td>3.88</td>\n",
       "      <td>0.88</td>\n",
       "    </tr>\n",
       "    <tr>\n",
       "      <th>519</th>\n",
       "      <td>53.116667</td>\n",
       "      <td>83.0</td>\n",
       "      <td>29.883333</td>\n",
       "      <td>1370.00</td>\n",
       "      <td>23.44</td>\n",
       "      <td>30.98</td>\n",
       "      <td>-2</td>\n",
       "      <td>-5</td>\n",
       "      <td>0.98</td>\n",
       "      <td>2.76</td>\n",
       "      <td>1.00</td>\n",
       "    </tr>\n",
       "    <tr>\n",
       "      <th>520</th>\n",
       "      <td>61.016667</td>\n",
       "      <td>77.0</td>\n",
       "      <td>15.983333</td>\n",
       "      <td>657.23</td>\n",
       "      <td>11.27</td>\n",
       "      <td>32.51</td>\n",
       "      <td>0</td>\n",
       "      <td>-3</td>\n",
       "      <td>0.95</td>\n",
       "      <td>2.62</td>\n",
       "      <td>0.99</td>\n",
       "    </tr>\n",
       "    <tr>\n",
       "      <th>590</th>\n",
       "      <td>74.100000</td>\n",
       "      <td>84.0</td>\n",
       "      <td>9.900000</td>\n",
       "      <td>555.50</td>\n",
       "      <td>9.60</td>\n",
       "      <td>24.51</td>\n",
       "      <td>-6</td>\n",
       "      <td>-10</td>\n",
       "      <td>0.82</td>\n",
       "      <td>3.02</td>\n",
       "      <td>0.53</td>\n",
       "    </tr>\n",
       "    <tr>\n",
       "      <th>591</th>\n",
       "      <td>53.016667</td>\n",
       "      <td>61.0</td>\n",
       "      <td>7.983333</td>\n",
       "      <td>479.00</td>\n",
       "      <td>8.20</td>\n",
       "      <td>13.84</td>\n",
       "      <td>-7</td>\n",
       "      <td>-11</td>\n",
       "      <td>0.85</td>\n",
       "      <td>2.27</td>\n",
       "      <td>0.43</td>\n",
       "    </tr>\n",
       "    <tr>\n",
       "      <th>600</th>\n",
       "      <td>62.533333</td>\n",
       "      <td>66.0</td>\n",
       "      <td>3.466667</td>\n",
       "      <td>850.00</td>\n",
       "      <td>14.71</td>\n",
       "      <td>35.79</td>\n",
       "      <td>-4</td>\n",
       "      <td>-8</td>\n",
       "      <td>0.61</td>\n",
       "      <td>3.40</td>\n",
       "      <td>0.61</td>\n",
       "    </tr>\n",
       "    <tr>\n",
       "      <th>601</th>\n",
       "      <td>67.966667</td>\n",
       "      <td>74.0</td>\n",
       "      <td>6.033333</td>\n",
       "      <td>1190.00</td>\n",
       "      <td>20.59</td>\n",
       "      <td>43.15</td>\n",
       "      <td>-11</td>\n",
       "      <td>-15</td>\n",
       "      <td>0.81</td>\n",
       "      <td>1.93</td>\n",
       "      <td>0.25</td>\n",
       "    </tr>\n",
       "    <tr>\n",
       "      <th>646</th>\n",
       "      <td>89.783333</td>\n",
       "      <td>104.0</td>\n",
       "      <td>14.216667</td>\n",
       "      <td>634.92</td>\n",
       "      <td>11.03</td>\n",
       "      <td>27.21</td>\n",
       "      <td>-7</td>\n",
       "      <td>-14</td>\n",
       "      <td>0.49</td>\n",
       "      <td>5.56</td>\n",
       "      <td>0.26</td>\n",
       "    </tr>\n",
       "    <tr>\n",
       "      <th>647</th>\n",
       "      <td>49.650000</td>\n",
       "      <td>63.0</td>\n",
       "      <td>13.350000</td>\n",
       "      <td>750.00</td>\n",
       "      <td>13.03</td>\n",
       "      <td>19.59</td>\n",
       "      <td>-7</td>\n",
       "      <td>-13</td>\n",
       "      <td>0.49</td>\n",
       "      <td>4.36</td>\n",
       "      <td>0.47</td>\n",
       "    </tr>\n",
       "  </tbody>\n",
       "</table>\n",
       "</div>"
      ],
      "text/plain": [
       "     trip_time  total_time  wait_time  ...  humidity  wind_speed  cloudness\n",
       "2    66.883333        83.0  16.116667  ...      0.61        5.25       0.86\n",
       "13   50.216667        64.0  13.783333  ...      0.63        5.11       0.75\n",
       "29   68.066667        88.0  19.933333  ...      0.66        5.75       0.62\n",
       "45   48.216667        57.0   8.783333  ...      0.41        5.95       0.46\n",
       "47   62.016667        77.0  14.983333  ...      0.91        4.70       0.79\n",
       "79   53.216667        60.0   6.783333  ...      0.67        4.67       0.75\n",
       "106  51.050000        57.0   5.950000  ...      0.65        4.82       0.31\n",
       "108  85.316667       103.0  17.683333  ...      0.97        0.95       0.18\n",
       "117  71.200000        81.0   9.800000  ...      0.75        4.86       0.84\n",
       "201  47.966667        57.0   9.033333  ...      0.82        2.64       0.80\n",
       "253  84.800000        95.0  10.200000  ...      0.87        1.78       0.88\n",
       "277  61.283333        70.0   8.716667  ...      0.82        6.08       0.99\n",
       "291  64.983333        72.0   7.016667  ...      0.86        5.50       0.83\n",
       "339  77.766667        86.0   8.233333  ...      0.62        3.13       0.53\n",
       "367  47.566667        59.0  11.433333  ...      0.79        2.41       0.99\n",
       "411  49.933333        62.0  12.066667  ...      0.72        3.92       0.42\n",
       "413  57.650000        69.0  11.350000  ...      0.90        1.10       0.92\n",
       "414  58.350000        66.0   7.650000  ...      0.78        7.38       0.78\n",
       "432  50.066667        56.0   5.933333  ...      0.92        4.05       0.83\n",
       "472  52.833333        58.0   5.166667  ...      0.81        4.63       0.90\n",
       "473  56.933333        66.0   9.066667  ...      0.88        3.93       0.88\n",
       "474  62.333333        73.0  10.666667  ...      0.88        3.88       0.88\n",
       "519  53.116667        83.0  29.883333  ...      0.98        2.76       1.00\n",
       "520  61.016667        77.0  15.983333  ...      0.95        2.62       0.99\n",
       "590  74.100000        84.0   9.900000  ...      0.82        3.02       0.53\n",
       "591  53.016667        61.0   7.983333  ...      0.85        2.27       0.43\n",
       "600  62.533333        66.0   3.466667  ...      0.61        3.40       0.61\n",
       "601  67.966667        74.0   6.033333  ...      0.81        1.93       0.25\n",
       "646  89.783333       104.0  14.216667  ...      0.49        5.56       0.26\n",
       "647  49.650000        63.0  13.350000  ...      0.49        4.36       0.47\n",
       "\n",
       "[30 rows x 11 columns]"
      ]
     },
     "execution_count": 26,
     "metadata": {
      "tags": []
     },
     "output_type": "execute_result"
    }
   ],
   "source": [
    "outliers_df"
   ]
  },
  {
   "cell_type": "markdown",
   "metadata": {
    "colab_type": "text",
    "id": "4_btClOuRS61"
   },
   "source": [
    "There are various ways of handling outliers, including \"clipping\" (also called \"winsorizing\"). Clip the outliers to the appropriate upper/lower threshold calculated as part of Tukey's method. Plot the histogram for trip_time after clipping; how does it look different?"
   ]
  },
  {
   "cell_type": "code",
   "execution_count": 27,
   "metadata": {
    "colab": {},
    "colab_type": "code",
    "id": "siXVYqAfnkFt"
   },
   "outputs": [],
   "source": [
    "# answer goes here\n",
    "from scipy.stats.mstats import winsorize"
   ]
  },
  {
   "cell_type": "code",
   "execution_count": 40,
   "metadata": {
    "colab": {},
    "colab_type": "code",
    "id": "btPJpi4eOhFL"
   },
   "outputs": [],
   "source": [
    "# 68.3 + 13.6\n",
    "# 100-81.999\n",
    "\n",
    "winsorized_trip_time = winsorize(uber_hists['trip_time'], (0, 0.09))\n"
   ]
  },
  {
   "cell_type": "code",
   "execution_count": 41,
   "metadata": {
    "colab": {
     "base_uri": "https://localhost:8080/",
     "height": 34
    },
    "colab_type": "code",
    "id": "NabuWmysRHPl",
    "outputId": "0648ca64-936e-4e8c-ec62-851891bbc50a"
   },
   "outputs": [
    {
     "data": {
      "text/plain": [
       "numpy.ma.core.MaskedArray"
      ]
     },
     "execution_count": 41,
     "metadata": {
      "tags": []
     },
     "output_type": "execute_result"
    }
   ],
   "source": [
    "type(winsorized_trip_time)"
   ]
  },
  {
   "cell_type": "code",
   "execution_count": 42,
   "metadata": {
    "colab": {
     "base_uri": "https://localhost:8080/",
     "height": 333
    },
    "colab_type": "code",
    "id": "d_C_63agPE4R",
    "outputId": "dbc0eb14-9da4-4006-dcba-7002db39f894"
   },
   "outputs": [
    {
     "data": {
      "text/plain": [
       "(array([ 15.,  42.,  93.,  94., 126.,  65.,  81.,  41.,  35.,  83.]),\n",
       " array([ 0.15 ,  3.955,  7.76 , 11.565, 15.37 , 19.175, 22.98 , 26.785,\n",
       "        30.59 , 34.395, 38.2  ]),\n",
       " <a list of 10 Patch objects>)"
      ]
     },
     "execution_count": 42,
     "metadata": {
      "tags": []
     },
     "output_type": "execute_result"
    },
    {
     "data": {
      "image/png": "[encoded data removed]",
      "text/plain": [
       "<Figure size 432x288 with 1 Axes>"
      ]
     },
     "metadata": {
      "needs_background": "light",
      "tags": []
     },
     "output_type": "display_data"
    }
   ],
   "source": [
    "plt.hist(winsorized_trip_time)"
   ]
  },
  {
   "cell_type": "code",
   "execution_count": 32,
   "metadata": {
    "colab": {
     "base_uri": "https://localhost:8080/",
     "height": 34
    },
    "colab_type": "code",
    "id": "TcJEOYMGQE9t",
    "outputId": "df189fa9-3356-45f0-d7a3-d7ca0fbc9553"
   },
   "outputs": [
    {
     "data": {
      "text/plain": [
       "18.001000000000005"
      ]
     },
     "execution_count": 32,
     "metadata": {
      "tags": []
     },
     "output_type": "execute_result"
    }
   ],
   "source": [
    "100-81.999\n"
   ]
  },
  {
   "cell_type": "code",
   "execution_count": null,
   "metadata": {
    "colab": {},
    "colab_type": "code",
    "id": "Z4NTRQmXQHeu"
   },
   "outputs": [],
   "source": []
  }
 ],
 "metadata": {
  "colab": {
   "collapsed_sections": [],
   "name": "Copy of Day 21 Lecture 2 Assignment.ipynb",
   "provenance": []
  },
  "kernelspec": {
   "display_name": "Python 3",
   "language": "python",
   "name": "python3"
  },
  "language_info": {
   "codemirror_mode": {
    "name": "ipython",
    "version": 3
   },
   "file_extension": ".py",
   "mimetype": "text/x-python",
   "name": "python",
   "nbconvert_exporter": "python",
   "pygments_lexer": "ipython3",
   "version": "3.7.6"
  }
 },
 "nbformat": 4,
 "nbformat_minor": 1
}
