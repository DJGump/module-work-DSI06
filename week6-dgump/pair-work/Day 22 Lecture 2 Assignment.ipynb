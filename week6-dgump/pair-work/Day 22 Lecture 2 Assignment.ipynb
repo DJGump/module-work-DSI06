{
 "cells": [
  {
   "cell_type": "markdown",
   "metadata": {
    "colab_type": "text",
    "id": "pt53EAUNowc9"
   },
   "source": [
    "## Day 22 Lecture 2 Assignment\n",
    "\n",
    "In this assignment, we will do apply the feature engineering techniques we have learned to create new features from existing ones. We will be using both the FIFA ratings dataset and the Chicago traffic crash dataset."
   ]
  },
  {
   "cell_type": "code",
   "execution_count": 54,
   "metadata": {
    "colab": {},
    "colab_type": "code",
    "id": "Qd8GvyDQowc9"
   },
   "outputs": [
    {
     "data": {
      "application/javascript": [
       "\n",
       "            setTimeout(function() {\n",
       "                var nbb_cell_id = 54;\n",
       "                var nbb_unformatted_code = \"%matplotlib inline\\n%reload_ext nb_black\\nimport matplotlib.pyplot as plt\\nimport numpy as np\\nimport pandas as pd\\nfrom scipy import stats\\nfrom sklearn.preprocessing import StandardScaler, MinMaxScaler, QuantileTransformer\\nimport datetime\";\n",
       "                var nbb_formatted_code = \"%matplotlib inline\\n%reload_ext nb_black\\nimport matplotlib.pyplot as plt\\nimport numpy as np\\nimport pandas as pd\\nfrom scipy import stats\\nfrom sklearn.preprocessing import StandardScaler, MinMaxScaler, QuantileTransformer\\nimport datetime\";\n",
       "                var nbb_cells = Jupyter.notebook.get_cells();\n",
       "                for (var i = 0; i < nbb_cells.length; ++i) {\n",
       "                    if (nbb_cells[i].input_prompt_number == nbb_cell_id) {\n",
       "                        if (nbb_cells[i].get_text() == nbb_unformatted_code) {\n",
       "                             nbb_cells[i].set_text(nbb_formatted_code);\n",
       "                        }\n",
       "                        break;\n",
       "                    }\n",
       "                }\n",
       "            }, 500);\n",
       "            "
      ],
      "text/plain": [
       "<IPython.core.display.Javascript object>"
      ]
     },
     "metadata": {},
     "output_type": "display_data"
    },
    {
     "data": {
      "application/javascript": [
       "\n",
       "            setTimeout(function() {\n",
       "                var nbb_cell_id = 54;\n",
       "                var nbb_unformatted_code = \"%matplotlib inline\\n%reload_ext nb_black\\nimport matplotlib.pyplot as plt\\nimport numpy as np\\nimport pandas as pd\\nfrom scipy import stats\\nfrom sklearn.preprocessing import StandardScaler, MinMaxScaler, QuantileTransformer\\nimport datetime\";\n",
       "                var nbb_formatted_code = \"%matplotlib inline\\n%reload_ext nb_black\\nimport matplotlib.pyplot as plt\\nimport numpy as np\\nimport pandas as pd\\nfrom scipy import stats\\nfrom sklearn.preprocessing import StandardScaler, MinMaxScaler, QuantileTransformer\\nimport datetime\";\n",
       "                var nbb_cells = Jupyter.notebook.get_cells();\n",
       "                for (var i = 0; i < nbb_cells.length; ++i) {\n",
       "                    if (nbb_cells[i].input_prompt_number == nbb_cell_id) {\n",
       "                        if (nbb_cells[i].get_text() == nbb_unformatted_code) {\n",
       "                             nbb_cells[i].set_text(nbb_formatted_code);\n",
       "                        }\n",
       "                        break;\n",
       "                    }\n",
       "                }\n",
       "            }, 500);\n",
       "            "
      ],
      "text/plain": [
       "<IPython.core.display.Javascript object>"
      ]
     },
     "metadata": {},
     "output_type": "display_data"
    },
    {
     "data": {
      "application/javascript": [
       "\n",
       "            setTimeout(function() {\n",
       "                var nbb_cell_id = 54;\n",
       "                var nbb_unformatted_code = \"%matplotlib inline\\n%reload_ext nb_black\\nimport matplotlib.pyplot as plt\\nimport numpy as np\\nimport pandas as pd\\nfrom scipy import stats\\nfrom sklearn.preprocessing import StandardScaler, MinMaxScaler, QuantileTransformer\\nimport datetime\";\n",
       "                var nbb_formatted_code = \"%matplotlib inline\\n%reload_ext nb_black\\nimport matplotlib.pyplot as plt\\nimport numpy as np\\nimport pandas as pd\\nfrom scipy import stats\\nfrom sklearn.preprocessing import StandardScaler, MinMaxScaler, QuantileTransformer\\nimport datetime\";\n",
       "                var nbb_cells = Jupyter.notebook.get_cells();\n",
       "                for (var i = 0; i < nbb_cells.length; ++i) {\n",
       "                    if (nbb_cells[i].input_prompt_number == nbb_cell_id) {\n",
       "                        if (nbb_cells[i].get_text() == nbb_unformatted_code) {\n",
       "                             nbb_cells[i].set_text(nbb_formatted_code);\n",
       "                        }\n",
       "                        break;\n",
       "                    }\n",
       "                }\n",
       "            }, 500);\n",
       "            "
      ],
      "text/plain": [
       "<IPython.core.display.Javascript object>"
      ]
     },
     "metadata": {},
     "output_type": "display_data"
    },
    {
     "data": {
      "application/javascript": [
       "\n",
       "            setTimeout(function() {\n",
       "                var nbb_cell_id = 54;\n",
       "                var nbb_unformatted_code = \"%matplotlib inline\\n%reload_ext nb_black\\nimport matplotlib.pyplot as plt\\nimport numpy as np\\nimport pandas as pd\\nfrom scipy import stats\\nfrom sklearn.preprocessing import StandardScaler, MinMaxScaler, QuantileTransformer\\nimport datetime\";\n",
       "                var nbb_formatted_code = \"%matplotlib inline\\n%reload_ext nb_black\\nimport matplotlib.pyplot as plt\\nimport numpy as np\\nimport pandas as pd\\nfrom scipy import stats\\nfrom sklearn.preprocessing import StandardScaler, MinMaxScaler, QuantileTransformer\\nimport datetime\";\n",
       "                var nbb_cells = Jupyter.notebook.get_cells();\n",
       "                for (var i = 0; i < nbb_cells.length; ++i) {\n",
       "                    if (nbb_cells[i].input_prompt_number == nbb_cell_id) {\n",
       "                        if (nbb_cells[i].get_text() == nbb_unformatted_code) {\n",
       "                             nbb_cells[i].set_text(nbb_formatted_code);\n",
       "                        }\n",
       "                        break;\n",
       "                    }\n",
       "                }\n",
       "            }, 500);\n",
       "            "
      ],
      "text/plain": [
       "<IPython.core.display.Javascript object>"
      ]
     },
     "metadata": {},
     "output_type": "display_data"
    },
    {
     "data": {
      "application/javascript": [
       "\n",
       "            setTimeout(function() {\n",
       "                var nbb_cell_id = 54;\n",
       "                var nbb_unformatted_code = \"%matplotlib inline\\n%reload_ext nb_black\\nimport matplotlib.pyplot as plt\\nimport numpy as np\\nimport pandas as pd\\nfrom scipy import stats\\nfrom sklearn.preprocessing import StandardScaler, MinMaxScaler, QuantileTransformer\\nimport datetime\";\n",
       "                var nbb_formatted_code = \"%matplotlib inline\\n%reload_ext nb_black\\nimport matplotlib.pyplot as plt\\nimport numpy as np\\nimport pandas as pd\\nfrom scipy import stats\\nfrom sklearn.preprocessing import StandardScaler, MinMaxScaler, QuantileTransformer\\nimport datetime\";\n",
       "                var nbb_cells = Jupyter.notebook.get_cells();\n",
       "                for (var i = 0; i < nbb_cells.length; ++i) {\n",
       "                    if (nbb_cells[i].input_prompt_number == nbb_cell_id) {\n",
       "                        if (nbb_cells[i].get_text() == nbb_unformatted_code) {\n",
       "                             nbb_cells[i].set_text(nbb_formatted_code);\n",
       "                        }\n",
       "                        break;\n",
       "                    }\n",
       "                }\n",
       "            }, 500);\n",
       "            "
      ],
      "text/plain": [
       "<IPython.core.display.Javascript object>"
      ]
     },
     "metadata": {},
     "output_type": "display_data"
    }
   ],
   "source": [
    "%matplotlib inline\n",
    "%reload_ext nb_black\n",
    "import matplotlib.pyplot as plt\n",
    "import numpy as np\n",
    "import pandas as pd\n",
    "from scipy import stats\n",
    "from sklearn.preprocessing import StandardScaler, MinMaxScaler, QuantileTransformer\n",
    "import datetime"
   ]
  },
  {
   "cell_type": "code",
   "execution_count": 2,
   "metadata": {
    "colab": {},
    "colab_type": "code",
    "id": "GtRYz_Cyowc_"
   },
   "outputs": [
    {
     "data": {
      "application/javascript": [
       "\n",
       "            setTimeout(function() {\n",
       "                var nbb_cell_id = 2;\n",
       "                var nbb_unformatted_code = \"crash_data = pd.read_csv('https://tf-assets-prod.s3.amazonaws.com/tf-curric/data-science/traffic_crashes_chicago.csv')\\nsoccer_data = pd.read_csv('https://tf-assets-prod.s3.amazonaws.com/tf-curric/data-science/fifa_ratings.csv')\";\n",
       "                var nbb_formatted_code = \"crash_data = pd.read_csv(\\n    \\\"https://tf-assets-prod.s3.amazonaws.com/tf-curric/data-science/traffic_crashes_chicago.csv\\\"\\n)\\nsoccer_data = pd.read_csv(\\n    \\\"https://tf-assets-prod.s3.amazonaws.com/tf-curric/data-science/fifa_ratings.csv\\\"\\n)\";\n",
       "                var nbb_cells = Jupyter.notebook.get_cells();\n",
       "                for (var i = 0; i < nbb_cells.length; ++i) {\n",
       "                    if (nbb_cells[i].input_prompt_number == nbb_cell_id) {\n",
       "                        if (nbb_cells[i].get_text() == nbb_unformatted_code) {\n",
       "                             nbb_cells[i].set_text(nbb_formatted_code);\n",
       "                        }\n",
       "                        break;\n",
       "                    }\n",
       "                }\n",
       "            }, 500);\n",
       "            "
      ],
      "text/plain": [
       "<IPython.core.display.Javascript object>"
      ]
     },
     "metadata": {},
     "output_type": "display_data"
    }
   ],
   "source": [
    "crash_data = pd.read_csv(\n",
    "    \"https://tf-assets-prod.s3.amazonaws.com/tf-curric/data-science/traffic_crashes_chicago.csv\"\n",
    ")\n",
    "soccer_data = pd.read_csv(\n",
    "    \"https://tf-assets-prod.s3.amazonaws.com/tf-curric/data-science/fifa_ratings.csv\"\n",
    ")"
   ]
  },
  {
   "cell_type": "code",
   "execution_count": 3,
   "metadata": {
    "colab": {},
    "colab_type": "code",
    "id": "w688Ym3KowdD",
    "outputId": "e4018f05-c091-4286-ead6-9d854fdf8cee"
   },
   "outputs": [
    {
     "data": {
      "text/html": [
       "<div>\n",
       "<style scoped>\n",
       "    .dataframe tbody tr th:only-of-type {\n",
       "        vertical-align: middle;\n",
       "    }\n",
       "\n",
       "    .dataframe tbody tr th {\n",
       "        vertical-align: top;\n",
       "    }\n",
       "\n",
       "    .dataframe thead th {\n",
       "        text-align: right;\n",
       "    }\n",
       "</style>\n",
       "<table border=\"1\" class=\"dataframe\">\n",
       "  <thead>\n",
       "    <tr style=\"text-align: right;\">\n",
       "      <th></th>\n",
       "      <th>ID</th>\n",
       "      <th>Name</th>\n",
       "      <th>Overall</th>\n",
       "      <th>Crossing</th>\n",
       "      <th>Finishing</th>\n",
       "      <th>HeadingAccuracy</th>\n",
       "      <th>ShortPassing</th>\n",
       "      <th>Volleys</th>\n",
       "      <th>Dribbling</th>\n",
       "      <th>Curve</th>\n",
       "      <th>...</th>\n",
       "      <th>LongShots</th>\n",
       "      <th>Aggression</th>\n",
       "      <th>Interceptions</th>\n",
       "      <th>Positioning</th>\n",
       "      <th>Vision</th>\n",
       "      <th>Penalties</th>\n",
       "      <th>Composure</th>\n",
       "      <th>Marking</th>\n",
       "      <th>StandingTackle</th>\n",
       "      <th>SlidingTackle</th>\n",
       "    </tr>\n",
       "  </thead>\n",
       "  <tbody>\n",
       "    <tr>\n",
       "      <th>0</th>\n",
       "      <td>158023</td>\n",
       "      <td>L. Messi</td>\n",
       "      <td>94</td>\n",
       "      <td>84</td>\n",
       "      <td>95</td>\n",
       "      <td>70</td>\n",
       "      <td>90</td>\n",
       "      <td>86</td>\n",
       "      <td>97</td>\n",
       "      <td>93</td>\n",
       "      <td>...</td>\n",
       "      <td>94</td>\n",
       "      <td>48</td>\n",
       "      <td>22</td>\n",
       "      <td>94</td>\n",
       "      <td>94</td>\n",
       "      <td>75</td>\n",
       "      <td>96</td>\n",
       "      <td>33</td>\n",
       "      <td>28</td>\n",
       "      <td>26</td>\n",
       "    </tr>\n",
       "    <tr>\n",
       "      <th>1</th>\n",
       "      <td>20801</td>\n",
       "      <td>Cristiano Ronaldo</td>\n",
       "      <td>94</td>\n",
       "      <td>84</td>\n",
       "      <td>94</td>\n",
       "      <td>89</td>\n",
       "      <td>81</td>\n",
       "      <td>87</td>\n",
       "      <td>88</td>\n",
       "      <td>81</td>\n",
       "      <td>...</td>\n",
       "      <td>93</td>\n",
       "      <td>63</td>\n",
       "      <td>29</td>\n",
       "      <td>95</td>\n",
       "      <td>82</td>\n",
       "      <td>85</td>\n",
       "      <td>95</td>\n",
       "      <td>28</td>\n",
       "      <td>31</td>\n",
       "      <td>23</td>\n",
       "    </tr>\n",
       "    <tr>\n",
       "      <th>2</th>\n",
       "      <td>190871</td>\n",
       "      <td>Neymar Jr</td>\n",
       "      <td>92</td>\n",
       "      <td>79</td>\n",
       "      <td>87</td>\n",
       "      <td>62</td>\n",
       "      <td>84</td>\n",
       "      <td>84</td>\n",
       "      <td>96</td>\n",
       "      <td>88</td>\n",
       "      <td>...</td>\n",
       "      <td>82</td>\n",
       "      <td>56</td>\n",
       "      <td>36</td>\n",
       "      <td>89</td>\n",
       "      <td>87</td>\n",
       "      <td>81</td>\n",
       "      <td>94</td>\n",
       "      <td>27</td>\n",
       "      <td>24</td>\n",
       "      <td>33</td>\n",
       "    </tr>\n",
       "    <tr>\n",
       "      <th>3</th>\n",
       "      <td>192985</td>\n",
       "      <td>K. De Bruyne</td>\n",
       "      <td>91</td>\n",
       "      <td>93</td>\n",
       "      <td>82</td>\n",
       "      <td>55</td>\n",
       "      <td>92</td>\n",
       "      <td>82</td>\n",
       "      <td>86</td>\n",
       "      <td>85</td>\n",
       "      <td>...</td>\n",
       "      <td>91</td>\n",
       "      <td>76</td>\n",
       "      <td>61</td>\n",
       "      <td>87</td>\n",
       "      <td>94</td>\n",
       "      <td>79</td>\n",
       "      <td>88</td>\n",
       "      <td>68</td>\n",
       "      <td>58</td>\n",
       "      <td>51</td>\n",
       "    </tr>\n",
       "    <tr>\n",
       "      <th>4</th>\n",
       "      <td>183277</td>\n",
       "      <td>E. Hazard</td>\n",
       "      <td>91</td>\n",
       "      <td>81</td>\n",
       "      <td>84</td>\n",
       "      <td>61</td>\n",
       "      <td>89</td>\n",
       "      <td>80</td>\n",
       "      <td>95</td>\n",
       "      <td>83</td>\n",
       "      <td>...</td>\n",
       "      <td>80</td>\n",
       "      <td>54</td>\n",
       "      <td>41</td>\n",
       "      <td>87</td>\n",
       "      <td>89</td>\n",
       "      <td>86</td>\n",
       "      <td>91</td>\n",
       "      <td>34</td>\n",
       "      <td>27</td>\n",
       "      <td>22</td>\n",
       "    </tr>\n",
       "  </tbody>\n",
       "</table>\n",
       "<p>5 rows × 32 columns</p>\n",
       "</div>"
      ],
      "text/plain": [
       "       ID               Name  Overall  Crossing  Finishing  HeadingAccuracy  \\\n",
       "0  158023           L. Messi       94        84         95               70   \n",
       "1   20801  Cristiano Ronaldo       94        84         94               89   \n",
       "2  190871          Neymar Jr       92        79         87               62   \n",
       "3  192985       K. De Bruyne       91        93         82               55   \n",
       "4  183277          E. Hazard       91        81         84               61   \n",
       "\n",
       "   ShortPassing  Volleys  Dribbling  Curve  ...  LongShots  Aggression  \\\n",
       "0            90       86         97     93  ...         94          48   \n",
       "1            81       87         88     81  ...         93          63   \n",
       "2            84       84         96     88  ...         82          56   \n",
       "3            92       82         86     85  ...         91          76   \n",
       "4            89       80         95     83  ...         80          54   \n",
       "\n",
       "   Interceptions  Positioning  Vision  Penalties  Composure  Marking  \\\n",
       "0             22           94      94         75         96       33   \n",
       "1             29           95      82         85         95       28   \n",
       "2             36           89      87         81         94       27   \n",
       "3             61           87      94         79         88       68   \n",
       "4             41           87      89         86         91       34   \n",
       "\n",
       "   StandingTackle  SlidingTackle  \n",
       "0              28             26  \n",
       "1              31             23  \n",
       "2              24             33  \n",
       "3              58             51  \n",
       "4              27             22  \n",
       "\n",
       "[5 rows x 32 columns]"
      ]
     },
     "execution_count": 3,
     "metadata": {},
     "output_type": "execute_result"
    },
    {
     "data": {
      "application/javascript": [
       "\n",
       "            setTimeout(function() {\n",
       "                var nbb_cell_id = 3;\n",
       "                var nbb_unformatted_code = \"soccer_data.head()\";\n",
       "                var nbb_formatted_code = \"soccer_data.head()\";\n",
       "                var nbb_cells = Jupyter.notebook.get_cells();\n",
       "                for (var i = 0; i < nbb_cells.length; ++i) {\n",
       "                    if (nbb_cells[i].input_prompt_number == nbb_cell_id) {\n",
       "                        if (nbb_cells[i].get_text() == nbb_unformatted_code) {\n",
       "                             nbb_cells[i].set_text(nbb_formatted_code);\n",
       "                        }\n",
       "                        break;\n",
       "                    }\n",
       "                }\n",
       "            }, 500);\n",
       "            "
      ],
      "text/plain": [
       "<IPython.core.display.Javascript object>"
      ]
     },
     "metadata": {},
     "output_type": "display_data"
    }
   ],
   "source": [
    "soccer_data.head()"
   ]
  },
  {
   "cell_type": "markdown",
   "metadata": {
    "colab_type": "text",
    "id": "ZBcIEqK6owdF"
   },
   "source": [
    "We will start with the FIFA soccer ratings dataset. From our EDA in the previous exercise, we saw that most ratings appeared to be somewhat normally distributed, occasionally with long tails. Choose one of the ratings (we will choose Curve) and apply the following transformations:\n",
    "\n",
    "- Log transformation\n",
    "- Standardization\n",
    "- Quantile transformation\n",
    "\n",
    "Plot the resulting histograms. How do these transformations affect the resulting distributions?"
   ]
  },
  {
   "cell_type": "code",
   "execution_count": 6,
   "metadata": {
    "colab": {},
    "colab_type": "code",
    "id": "NriqBL6OowdF"
   },
   "outputs": [
    {
     "data": {
      "text/plain": [
       "<matplotlib.axes._subplots.AxesSubplot at 0x23582661808>"
      ]
     },
     "execution_count": 6,
     "metadata": {},
     "output_type": "execute_result"
    },
    {
     "data": {
      "image/png": "[encoded data removed]",
      "text/plain": [
       "<Figure size 432x288 with 1 Axes>"
      ]
     },
     "metadata": {
      "needs_background": "light"
     },
     "output_type": "display_data"
    },
    {
     "data": {
      "application/javascript": [
       "\n",
       "            setTimeout(function() {\n",
       "                var nbb_cell_id = 6;\n",
       "                var nbb_unformatted_code = \"# answer goes here\\nsoccer_data[\\\"log_curve\\\"] = np.log(soccer_data[\\\"Curve\\\"])\\nsoccer_data[\\\"log_curve\\\"].hist()\";\n",
       "                var nbb_formatted_code = \"# answer goes here\\nsoccer_data[\\\"log_curve\\\"] = np.log(soccer_data[\\\"Curve\\\"])\\nsoccer_data[\\\"log_curve\\\"].hist()\";\n",
       "                var nbb_cells = Jupyter.notebook.get_cells();\n",
       "                for (var i = 0; i < nbb_cells.length; ++i) {\n",
       "                    if (nbb_cells[i].input_prompt_number == nbb_cell_id) {\n",
       "                        if (nbb_cells[i].get_text() == nbb_unformatted_code) {\n",
       "                             nbb_cells[i].set_text(nbb_formatted_code);\n",
       "                        }\n",
       "                        break;\n",
       "                    }\n",
       "                }\n",
       "            }, 500);\n",
       "            "
      ],
      "text/plain": [
       "<IPython.core.display.Javascript object>"
      ]
     },
     "metadata": {},
     "output_type": "display_data"
    },
    {
     "data": {
      "application/javascript": [
       "\n",
       "            setTimeout(function() {\n",
       "                var nbb_cell_id = 6;\n",
       "                var nbb_unformatted_code = \"# answer goes here\\nsoccer_data[\\\"log_curve\\\"] = np.log(soccer_data[\\\"Curve\\\"])\\nsoccer_data[\\\"log_curve\\\"].hist()\";\n",
       "                var nbb_formatted_code = \"# answer goes here\\nsoccer_data[\\\"log_curve\\\"] = np.log(soccer_data[\\\"Curve\\\"])\\nsoccer_data[\\\"log_curve\\\"].hist()\";\n",
       "                var nbb_cells = Jupyter.notebook.get_cells();\n",
       "                for (var i = 0; i < nbb_cells.length; ++i) {\n",
       "                    if (nbb_cells[i].input_prompt_number == nbb_cell_id) {\n",
       "                        if (nbb_cells[i].get_text() == nbb_unformatted_code) {\n",
       "                             nbb_cells[i].set_text(nbb_formatted_code);\n",
       "                        }\n",
       "                        break;\n",
       "                    }\n",
       "                }\n",
       "            }, 500);\n",
       "            "
      ],
      "text/plain": [
       "<IPython.core.display.Javascript object>"
      ]
     },
     "metadata": {},
     "output_type": "display_data"
    }
   ],
   "source": [
    "# answer goes here\n",
    "soccer_data[\"log_curve\"] = np.log(soccer_data[\"Curve\"])\n",
    "soccer_data[\"log_curve\"].hist()"
   ]
  },
  {
   "cell_type": "code",
   "execution_count": 12,
   "metadata": {},
   "outputs": [
    {
     "data": {
      "text/plain": [
       "<matplotlib.axes._subplots.AxesSubplot at 0x23581380d08>"
      ]
     },
     "execution_count": 12,
     "metadata": {},
     "output_type": "execute_result"
    },
    {
     "data": {
      "image/png": "[encoded data removed]",
      "text/plain": [
       "<Figure size 432x288 with 1 Axes>"
      ]
     },
     "metadata": {
      "needs_background": "light"
     },
     "output_type": "display_data"
    },
    {
     "data": {
      "application/javascript": [
       "\n",
       "            setTimeout(function() {\n",
       "                var nbb_cell_id = 12;\n",
       "                var nbb_unformatted_code = \"soccer_data[\\\"z-curve\\\"] = stats.zscore(soccer_data[\\\"Curve\\\"])\\nsoccer_data[\\\"z-curve\\\"].hist()\";\n",
       "                var nbb_formatted_code = \"soccer_data[\\\"z-curve\\\"] = stats.zscore(soccer_data[\\\"Curve\\\"])\\nsoccer_data[\\\"z-curve\\\"].hist()\";\n",
       "                var nbb_cells = Jupyter.notebook.get_cells();\n",
       "                for (var i = 0; i < nbb_cells.length; ++i) {\n",
       "                    if (nbb_cells[i].input_prompt_number == nbb_cell_id) {\n",
       "                        if (nbb_cells[i].get_text() == nbb_unformatted_code) {\n",
       "                             nbb_cells[i].set_text(nbb_formatted_code);\n",
       "                        }\n",
       "                        break;\n",
       "                    }\n",
       "                }\n",
       "            }, 500);\n",
       "            "
      ],
      "text/plain": [
       "<IPython.core.display.Javascript object>"
      ]
     },
     "metadata": {},
     "output_type": "display_data"
    },
    {
     "data": {
      "application/javascript": [
       "\n",
       "            setTimeout(function() {\n",
       "                var nbb_cell_id = 12;\n",
       "                var nbb_unformatted_code = \"soccer_data[\\\"z-curve\\\"] = stats.zscore(soccer_data[\\\"Curve\\\"])\\nsoccer_data[\\\"z-curve\\\"].hist()\";\n",
       "                var nbb_formatted_code = \"soccer_data[\\\"z-curve\\\"] = stats.zscore(soccer_data[\\\"Curve\\\"])\\nsoccer_data[\\\"z-curve\\\"].hist()\";\n",
       "                var nbb_cells = Jupyter.notebook.get_cells();\n",
       "                for (var i = 0; i < nbb_cells.length; ++i) {\n",
       "                    if (nbb_cells[i].input_prompt_number == nbb_cell_id) {\n",
       "                        if (nbb_cells[i].get_text() == nbb_unformatted_code) {\n",
       "                             nbb_cells[i].set_text(nbb_formatted_code);\n",
       "                        }\n",
       "                        break;\n",
       "                    }\n",
       "                }\n",
       "            }, 500);\n",
       "            "
      ],
      "text/plain": [
       "<IPython.core.display.Javascript object>"
      ]
     },
     "metadata": {},
     "output_type": "display_data"
    },
    {
     "data": {
      "application/javascript": [
       "\n",
       "            setTimeout(function() {\n",
       "                var nbb_cell_id = 12;\n",
       "                var nbb_unformatted_code = \"soccer_data[\\\"z-curve\\\"] = stats.zscore(soccer_data[\\\"Curve\\\"])\\nsoccer_data[\\\"z-curve\\\"].hist()\";\n",
       "                var nbb_formatted_code = \"soccer_data[\\\"z-curve\\\"] = stats.zscore(soccer_data[\\\"Curve\\\"])\\nsoccer_data[\\\"z-curve\\\"].hist()\";\n",
       "                var nbb_cells = Jupyter.notebook.get_cells();\n",
       "                for (var i = 0; i < nbb_cells.length; ++i) {\n",
       "                    if (nbb_cells[i].input_prompt_number == nbb_cell_id) {\n",
       "                        if (nbb_cells[i].get_text() == nbb_unformatted_code) {\n",
       "                             nbb_cells[i].set_text(nbb_formatted_code);\n",
       "                        }\n",
       "                        break;\n",
       "                    }\n",
       "                }\n",
       "            }, 500);\n",
       "            "
      ],
      "text/plain": [
       "<IPython.core.display.Javascript object>"
      ]
     },
     "metadata": {},
     "output_type": "display_data"
    },
    {
     "data": {
      "application/javascript": [
       "\n",
       "            setTimeout(function() {\n",
       "                var nbb_cell_id = 12;\n",
       "                var nbb_unformatted_code = \"soccer_data[\\\"z-curve\\\"] = stats.zscore(soccer_data[\\\"Curve\\\"])\\nsoccer_data[\\\"z-curve\\\"].hist()\";\n",
       "                var nbb_formatted_code = \"soccer_data[\\\"z-curve\\\"] = stats.zscore(soccer_data[\\\"Curve\\\"])\\nsoccer_data[\\\"z-curve\\\"].hist()\";\n",
       "                var nbb_cells = Jupyter.notebook.get_cells();\n",
       "                for (var i = 0; i < nbb_cells.length; ++i) {\n",
       "                    if (nbb_cells[i].input_prompt_number == nbb_cell_id) {\n",
       "                        if (nbb_cells[i].get_text() == nbb_unformatted_code) {\n",
       "                             nbb_cells[i].set_text(nbb_formatted_code);\n",
       "                        }\n",
       "                        break;\n",
       "                    }\n",
       "                }\n",
       "            }, 500);\n",
       "            "
      ],
      "text/plain": [
       "<IPython.core.display.Javascript object>"
      ]
     },
     "metadata": {},
     "output_type": "display_data"
    }
   ],
   "source": [
    "soccer_data[\"z-curve\"] = stats.zscore(soccer_data[\"Curve\"])\n",
    "soccer_data[\"z-curve\"].hist()"
   ]
  },
  {
   "cell_type": "code",
   "execution_count": 17,
   "metadata": {},
   "outputs": [
    {
     "data": {
      "text/plain": [
       "<matplotlib.axes._subplots.AxesSubplot at 0x23583357d48>"
      ]
     },
     "execution_count": 17,
     "metadata": {},
     "output_type": "execute_result"
    },
    {
     "data": {
      "image/png": "[encoded data removed]",
      "text/plain": [
       "<Figure size 432x288 with 1 Axes>"
      ]
     },
     "metadata": {
      "needs_background": "light"
     },
     "output_type": "display_data"
    },
    {
     "data": {
      "application/javascript": [
       "\n",
       "            setTimeout(function() {\n",
       "                var nbb_cell_id = 17;\n",
       "                var nbb_unformatted_code = \"scaler = QuantileTransformer(output_distribution='normal')\\nscaler.fit(soccer_data[[\\\"Curve\\\"]])\\n\\nscaled = scaler.transform(soccer_data[[\\\"Curve\\\"]])\\n\\nsoccer_data[\\\"quantile_curve\\\"] = scaled\\nsoccer_data['quantile_curve'].hist()\";\n",
       "                var nbb_formatted_code = \"scaler = QuantileTransformer(output_distribution=\\\"normal\\\")\\nscaler.fit(soccer_data[[\\\"Curve\\\"]])\\n\\nscaled = scaler.transform(soccer_data[[\\\"Curve\\\"]])\\n\\nsoccer_data[\\\"quantile_curve\\\"] = scaled\\nsoccer_data[\\\"quantile_curve\\\"].hist()\";\n",
       "                var nbb_cells = Jupyter.notebook.get_cells();\n",
       "                for (var i = 0; i < nbb_cells.length; ++i) {\n",
       "                    if (nbb_cells[i].input_prompt_number == nbb_cell_id) {\n",
       "                        if (nbb_cells[i].get_text() == nbb_unformatted_code) {\n",
       "                             nbb_cells[i].set_text(nbb_formatted_code);\n",
       "                        }\n",
       "                        break;\n",
       "                    }\n",
       "                }\n",
       "            }, 500);\n",
       "            "
      ],
      "text/plain": [
       "<IPython.core.display.Javascript object>"
      ]
     },
     "metadata": {},
     "output_type": "display_data"
    },
    {
     "data": {
      "application/javascript": [
       "\n",
       "            setTimeout(function() {\n",
       "                var nbb_cell_id = 17;\n",
       "                var nbb_unformatted_code = \"scaler = QuantileTransformer(output_distribution='normal')\\nscaler.fit(soccer_data[[\\\"Curve\\\"]])\\n\\nscaled = scaler.transform(soccer_data[[\\\"Curve\\\"]])\\n\\nsoccer_data[\\\"quantile_curve\\\"] = scaled\\nsoccer_data['quantile_curve'].hist()\";\n",
       "                var nbb_formatted_code = \"scaler = QuantileTransformer(output_distribution=\\\"normal\\\")\\nscaler.fit(soccer_data[[\\\"Curve\\\"]])\\n\\nscaled = scaler.transform(soccer_data[[\\\"Curve\\\"]])\\n\\nsoccer_data[\\\"quantile_curve\\\"] = scaled\\nsoccer_data[\\\"quantile_curve\\\"].hist()\";\n",
       "                var nbb_cells = Jupyter.notebook.get_cells();\n",
       "                for (var i = 0; i < nbb_cells.length; ++i) {\n",
       "                    if (nbb_cells[i].input_prompt_number == nbb_cell_id) {\n",
       "                        if (nbb_cells[i].get_text() == nbb_unformatted_code) {\n",
       "                             nbb_cells[i].set_text(nbb_formatted_code);\n",
       "                        }\n",
       "                        break;\n",
       "                    }\n",
       "                }\n",
       "            }, 500);\n",
       "            "
      ],
      "text/plain": [
       "<IPython.core.display.Javascript object>"
      ]
     },
     "metadata": {},
     "output_type": "display_data"
    },
    {
     "data": {
      "application/javascript": [
       "\n",
       "            setTimeout(function() {\n",
       "                var nbb_cell_id = 17;\n",
       "                var nbb_unformatted_code = \"scaler = QuantileTransformer(output_distribution='normal')\\nscaler.fit(soccer_data[[\\\"Curve\\\"]])\\n\\nscaled = scaler.transform(soccer_data[[\\\"Curve\\\"]])\\n\\nsoccer_data[\\\"quantile_curve\\\"] = scaled\\nsoccer_data['quantile_curve'].hist()\";\n",
       "                var nbb_formatted_code = \"scaler = QuantileTransformer(output_distribution=\\\"normal\\\")\\nscaler.fit(soccer_data[[\\\"Curve\\\"]])\\n\\nscaled = scaler.transform(soccer_data[[\\\"Curve\\\"]])\\n\\nsoccer_data[\\\"quantile_curve\\\"] = scaled\\nsoccer_data[\\\"quantile_curve\\\"].hist()\";\n",
       "                var nbb_cells = Jupyter.notebook.get_cells();\n",
       "                for (var i = 0; i < nbb_cells.length; ++i) {\n",
       "                    if (nbb_cells[i].input_prompt_number == nbb_cell_id) {\n",
       "                        if (nbb_cells[i].get_text() == nbb_unformatted_code) {\n",
       "                             nbb_cells[i].set_text(nbb_formatted_code);\n",
       "                        }\n",
       "                        break;\n",
       "                    }\n",
       "                }\n",
       "            }, 500);\n",
       "            "
      ],
      "text/plain": [
       "<IPython.core.display.Javascript object>"
      ]
     },
     "metadata": {},
     "output_type": "display_data"
    },
    {
     "data": {
      "application/javascript": [
       "\n",
       "            setTimeout(function() {\n",
       "                var nbb_cell_id = 17;\n",
       "                var nbb_unformatted_code = \"scaler = QuantileTransformer(output_distribution='normal')\\nscaler.fit(soccer_data[[\\\"Curve\\\"]])\\n\\nscaled = scaler.transform(soccer_data[[\\\"Curve\\\"]])\\n\\nsoccer_data[\\\"quantile_curve\\\"] = scaled\\nsoccer_data['quantile_curve'].hist()\";\n",
       "                var nbb_formatted_code = \"scaler = QuantileTransformer(output_distribution=\\\"normal\\\")\\nscaler.fit(soccer_data[[\\\"Curve\\\"]])\\n\\nscaled = scaler.transform(soccer_data[[\\\"Curve\\\"]])\\n\\nsoccer_data[\\\"quantile_curve\\\"] = scaled\\nsoccer_data[\\\"quantile_curve\\\"].hist()\";\n",
       "                var nbb_cells = Jupyter.notebook.get_cells();\n",
       "                for (var i = 0; i < nbb_cells.length; ++i) {\n",
       "                    if (nbb_cells[i].input_prompt_number == nbb_cell_id) {\n",
       "                        if (nbb_cells[i].get_text() == nbb_unformatted_code) {\n",
       "                             nbb_cells[i].set_text(nbb_formatted_code);\n",
       "                        }\n",
       "                        break;\n",
       "                    }\n",
       "                }\n",
       "            }, 500);\n",
       "            "
      ],
      "text/plain": [
       "<IPython.core.display.Javascript object>"
      ]
     },
     "metadata": {},
     "output_type": "display_data"
    }
   ],
   "source": [
    "scaler = QuantileTransformer(output_distribution=\"normal\")\n",
    "scaler.fit(soccer_data[[\"Curve\"]])\n",
    "\n",
    "scaled = scaler.transform(soccer_data[[\"Curve\"]])\n",
    "\n",
    "soccer_data[\"quantile_curve\"] = scaled\n",
    "soccer_data[\"quantile_curve\"].hist()"
   ]
  },
  {
   "cell_type": "markdown",
   "metadata": {
    "colab_type": "text",
    "id": "DE37iEYUowdI"
   },
   "source": [
    "Next, we will switch our focus to the Chicago traffic crashes dataset. We will create several new features using several common feature engineering techniques.\n",
    "\n",
    "Start by considering the crash date column. It is usually difficult to directly feed datetimes into machine learning models, but we can extract several features from the datetime that may be more suitable for our use case. \n",
    "\n",
    "First, if the CRASH_DATE column is not already a datetime field (it may be read in as a string by default), convert it to a datetime. Then, create three new columns, CRASH_HOUR, CRASH_DAY_OF_WEEK, and CRASH_MONTH, that extract the relevant pieces of information from the crash date field. CRASH_HOUR should be numeric, while CRASH_DAY_OF_WEEK and CRASH_MONTH should be strings (e.g. \"Monday\" and \"December\", not 1 and 12)."
   ]
  },
  {
   "cell_type": "code",
   "execution_count": 23,
   "metadata": {
    "colab": {},
    "colab_type": "code",
    "id": "xnIzSzXHowdJ"
   },
   "outputs": [
    {
     "data": {
      "application/javascript": [
       "\n",
       "            setTimeout(function() {\n",
       "                var nbb_cell_id = 23;\n",
       "                var nbb_unformatted_code = \"# answer goes here\\ncrash_data['CRASH_DATE'] = pd.to_datetime(crash_data['CRASH_DATE'])\";\n",
       "                var nbb_formatted_code = \"# answer goes here\\ncrash_data[\\\"CRASH_DATE\\\"] = pd.to_datetime(crash_data[\\\"CRASH_DATE\\\"])\";\n",
       "                var nbb_cells = Jupyter.notebook.get_cells();\n",
       "                for (var i = 0; i < nbb_cells.length; ++i) {\n",
       "                    if (nbb_cells[i].input_prompt_number == nbb_cell_id) {\n",
       "                        if (nbb_cells[i].get_text() == nbb_unformatted_code) {\n",
       "                             nbb_cells[i].set_text(nbb_formatted_code);\n",
       "                        }\n",
       "                        break;\n",
       "                    }\n",
       "                }\n",
       "            }, 500);\n",
       "            "
      ],
      "text/plain": [
       "<IPython.core.display.Javascript object>"
      ]
     },
     "metadata": {},
     "output_type": "display_data"
    },
    {
     "data": {
      "application/javascript": [
       "\n",
       "            setTimeout(function() {\n",
       "                var nbb_cell_id = 23;\n",
       "                var nbb_unformatted_code = \"# answer goes here\\ncrash_data['CRASH_DATE'] = pd.to_datetime(crash_data['CRASH_DATE'])\";\n",
       "                var nbb_formatted_code = \"# answer goes here\\ncrash_data[\\\"CRASH_DATE\\\"] = pd.to_datetime(crash_data[\\\"CRASH_DATE\\\"])\";\n",
       "                var nbb_cells = Jupyter.notebook.get_cells();\n",
       "                for (var i = 0; i < nbb_cells.length; ++i) {\n",
       "                    if (nbb_cells[i].input_prompt_number == nbb_cell_id) {\n",
       "                        if (nbb_cells[i].get_text() == nbb_unformatted_code) {\n",
       "                             nbb_cells[i].set_text(nbb_formatted_code);\n",
       "                        }\n",
       "                        break;\n",
       "                    }\n",
       "                }\n",
       "            }, 500);\n",
       "            "
      ],
      "text/plain": [
       "<IPython.core.display.Javascript object>"
      ]
     },
     "metadata": {},
     "output_type": "display_data"
    },
    {
     "data": {
      "application/javascript": [
       "\n",
       "            setTimeout(function() {\n",
       "                var nbb_cell_id = 23;\n",
       "                var nbb_unformatted_code = \"# answer goes here\\ncrash_data['CRASH_DATE'] = pd.to_datetime(crash_data['CRASH_DATE'])\";\n",
       "                var nbb_formatted_code = \"# answer goes here\\ncrash_data[\\\"CRASH_DATE\\\"] = pd.to_datetime(crash_data[\\\"CRASH_DATE\\\"])\";\n",
       "                var nbb_cells = Jupyter.notebook.get_cells();\n",
       "                for (var i = 0; i < nbb_cells.length; ++i) {\n",
       "                    if (nbb_cells[i].input_prompt_number == nbb_cell_id) {\n",
       "                        if (nbb_cells[i].get_text() == nbb_unformatted_code) {\n",
       "                             nbb_cells[i].set_text(nbb_formatted_code);\n",
       "                        }\n",
       "                        break;\n",
       "                    }\n",
       "                }\n",
       "            }, 500);\n",
       "            "
      ],
      "text/plain": [
       "<IPython.core.display.Javascript object>"
      ]
     },
     "metadata": {},
     "output_type": "display_data"
    },
    {
     "data": {
      "application/javascript": [
       "\n",
       "            setTimeout(function() {\n",
       "                var nbb_cell_id = 23;\n",
       "                var nbb_unformatted_code = \"# answer goes here\\ncrash_data['CRASH_DATE'] = pd.to_datetime(crash_data['CRASH_DATE'])\";\n",
       "                var nbb_formatted_code = \"# answer goes here\\ncrash_data[\\\"CRASH_DATE\\\"] = pd.to_datetime(crash_data[\\\"CRASH_DATE\\\"])\";\n",
       "                var nbb_cells = Jupyter.notebook.get_cells();\n",
       "                for (var i = 0; i < nbb_cells.length; ++i) {\n",
       "                    if (nbb_cells[i].input_prompt_number == nbb_cell_id) {\n",
       "                        if (nbb_cells[i].get_text() == nbb_unformatted_code) {\n",
       "                             nbb_cells[i].set_text(nbb_formatted_code);\n",
       "                        }\n",
       "                        break;\n",
       "                    }\n",
       "                }\n",
       "            }, 500);\n",
       "            "
      ],
      "text/plain": [
       "<IPython.core.display.Javascript object>"
      ]
     },
     "metadata": {},
     "output_type": "display_data"
    }
   ],
   "source": [
    "# answer goes here\n",
    "crash_data['CRASH_DATE'] = pd.to_datetime(crash_data['CRASH_DATE'])\n",
    " \n",
    "\n"
   ]
  },
  {
   "cell_type": "code",
   "execution_count": 29,
   "metadata": {},
   "outputs": [
    {
     "data": {
      "application/javascript": [
       "\n",
       "            setTimeout(function() {\n",
       "                var nbb_cell_id = 29;\n",
       "                var nbb_unformatted_code = \"crash_data[\\\"CRASH_MONTH\\\"] = crash_data[\\\"CRASH_DATE\\\"].dt.month_name()\\ncrash_data[\\\"CRASH_DAY\\\"] = crash_data[\\\"CRASH_DATE\\\"].dt.day_name()\\ncrash_data[\\\"CRASH_HOUR\\\"] = crash_data[\\\"CRASH_DATE\\\"].dt.hour\";\n",
       "                var nbb_formatted_code = \"crash_data[\\\"CRASH_MONTH\\\"] = crash_data[\\\"CRASH_DATE\\\"].dt.month_name()\\ncrash_data[\\\"CRASH_DAY\\\"] = crash_data[\\\"CRASH_DATE\\\"].dt.day_name()\\ncrash_data[\\\"CRASH_HOUR\\\"] = crash_data[\\\"CRASH_DATE\\\"].dt.hour\";\n",
       "                var nbb_cells = Jupyter.notebook.get_cells();\n",
       "                for (var i = 0; i < nbb_cells.length; ++i) {\n",
       "                    if (nbb_cells[i].input_prompt_number == nbb_cell_id) {\n",
       "                        if (nbb_cells[i].get_text() == nbb_unformatted_code) {\n",
       "                             nbb_cells[i].set_text(nbb_formatted_code);\n",
       "                        }\n",
       "                        break;\n",
       "                    }\n",
       "                }\n",
       "            }, 500);\n",
       "            "
      ],
      "text/plain": [
       "<IPython.core.display.Javascript object>"
      ]
     },
     "metadata": {},
     "output_type": "display_data"
    },
    {
     "data": {
      "application/javascript": [
       "\n",
       "            setTimeout(function() {\n",
       "                var nbb_cell_id = 29;\n",
       "                var nbb_unformatted_code = \"crash_data[\\\"CRASH_MONTH\\\"] = crash_data[\\\"CRASH_DATE\\\"].dt.month_name()\\ncrash_data[\\\"CRASH_DAY\\\"] = crash_data[\\\"CRASH_DATE\\\"].dt.day_name()\\ncrash_data[\\\"CRASH_HOUR\\\"] = crash_data[\\\"CRASH_DATE\\\"].dt.hour\";\n",
       "                var nbb_formatted_code = \"crash_data[\\\"CRASH_MONTH\\\"] = crash_data[\\\"CRASH_DATE\\\"].dt.month_name()\\ncrash_data[\\\"CRASH_DAY\\\"] = crash_data[\\\"CRASH_DATE\\\"].dt.day_name()\\ncrash_data[\\\"CRASH_HOUR\\\"] = crash_data[\\\"CRASH_DATE\\\"].dt.hour\";\n",
       "                var nbb_cells = Jupyter.notebook.get_cells();\n",
       "                for (var i = 0; i < nbb_cells.length; ++i) {\n",
       "                    if (nbb_cells[i].input_prompt_number == nbb_cell_id) {\n",
       "                        if (nbb_cells[i].get_text() == nbb_unformatted_code) {\n",
       "                             nbb_cells[i].set_text(nbb_formatted_code);\n",
       "                        }\n",
       "                        break;\n",
       "                    }\n",
       "                }\n",
       "            }, 500);\n",
       "            "
      ],
      "text/plain": [
       "<IPython.core.display.Javascript object>"
      ]
     },
     "metadata": {},
     "output_type": "display_data"
    },
    {
     "data": {
      "application/javascript": [
       "\n",
       "            setTimeout(function() {\n",
       "                var nbb_cell_id = 29;\n",
       "                var nbb_unformatted_code = \"crash_data[\\\"CRASH_MONTH\\\"] = crash_data[\\\"CRASH_DATE\\\"].dt.month_name()\\ncrash_data[\\\"CRASH_DAY\\\"] = crash_data[\\\"CRASH_DATE\\\"].dt.day_name()\\ncrash_data[\\\"CRASH_HOUR\\\"] = crash_data[\\\"CRASH_DATE\\\"].dt.hour\";\n",
       "                var nbb_formatted_code = \"crash_data[\\\"CRASH_MONTH\\\"] = crash_data[\\\"CRASH_DATE\\\"].dt.month_name()\\ncrash_data[\\\"CRASH_DAY\\\"] = crash_data[\\\"CRASH_DATE\\\"].dt.day_name()\\ncrash_data[\\\"CRASH_HOUR\\\"] = crash_data[\\\"CRASH_DATE\\\"].dt.hour\";\n",
       "                var nbb_cells = Jupyter.notebook.get_cells();\n",
       "                for (var i = 0; i < nbb_cells.length; ++i) {\n",
       "                    if (nbb_cells[i].input_prompt_number == nbb_cell_id) {\n",
       "                        if (nbb_cells[i].get_text() == nbb_unformatted_code) {\n",
       "                             nbb_cells[i].set_text(nbb_formatted_code);\n",
       "                        }\n",
       "                        break;\n",
       "                    }\n",
       "                }\n",
       "            }, 500);\n",
       "            "
      ],
      "text/plain": [
       "<IPython.core.display.Javascript object>"
      ]
     },
     "metadata": {},
     "output_type": "display_data"
    },
    {
     "data": {
      "application/javascript": [
       "\n",
       "            setTimeout(function() {\n",
       "                var nbb_cell_id = 29;\n",
       "                var nbb_unformatted_code = \"crash_data[\\\"CRASH_MONTH\\\"] = crash_data[\\\"CRASH_DATE\\\"].dt.month_name()\\ncrash_data[\\\"CRASH_DAY\\\"] = crash_data[\\\"CRASH_DATE\\\"].dt.day_name()\\ncrash_data[\\\"CRASH_HOUR\\\"] = crash_data[\\\"CRASH_DATE\\\"].dt.hour\";\n",
       "                var nbb_formatted_code = \"crash_data[\\\"CRASH_MONTH\\\"] = crash_data[\\\"CRASH_DATE\\\"].dt.month_name()\\ncrash_data[\\\"CRASH_DAY\\\"] = crash_data[\\\"CRASH_DATE\\\"].dt.day_name()\\ncrash_data[\\\"CRASH_HOUR\\\"] = crash_data[\\\"CRASH_DATE\\\"].dt.hour\";\n",
       "                var nbb_cells = Jupyter.notebook.get_cells();\n",
       "                for (var i = 0; i < nbb_cells.length; ++i) {\n",
       "                    if (nbb_cells[i].input_prompt_number == nbb_cell_id) {\n",
       "                        if (nbb_cells[i].get_text() == nbb_unformatted_code) {\n",
       "                             nbb_cells[i].set_text(nbb_formatted_code);\n",
       "                        }\n",
       "                        break;\n",
       "                    }\n",
       "                }\n",
       "            }, 500);\n",
       "            "
      ],
      "text/plain": [
       "<IPython.core.display.Javascript object>"
      ]
     },
     "metadata": {},
     "output_type": "display_data"
    }
   ],
   "source": [
    "crash_data[\"CRASH_MONTH\"] = crash_data[\"CRASH_DATE\"].dt.month_name()\n",
    "crash_data[\"CRASH_DAY\"] = crash_data[\"CRASH_DATE\"].dt.day_name()\n",
    "crash_data[\"CRASH_HOUR\"] = crash_data[\"CRASH_DATE\"].dt.hour"
   ]
  },
  {
   "cell_type": "code",
   "execution_count": 31,
   "metadata": {},
   "outputs": [
    {
     "name": "stdout",
     "output_type": "stream",
     "text": [
      "<class 'pandas.core.frame.DataFrame'>\n",
      "RangeIndex: 372585 entries, 0 to 372584\n",
      "Data columns (total 44 columns):\n",
      " #   Column                         Non-Null Count   Dtype         \n",
      "---  ------                         --------------   -----         \n",
      " 0   RD_NO                          372585 non-null  object        \n",
      " 1   CRASH_DATE                     372585 non-null  datetime64[ns]\n",
      " 2   POSTED_SPEED_LIMIT             372585 non-null  int64         \n",
      " 3   TRAFFIC_CONTROL_DEVICE         372585 non-null  object        \n",
      " 4   DEVICE_CONDITION               372585 non-null  object        \n",
      " 5   WEATHER_CONDITION              372585 non-null  object        \n",
      " 6   LIGHTING_CONDITION             372585 non-null  object        \n",
      " 7   FIRST_CRASH_TYPE               372585 non-null  object        \n",
      " 8   TRAFFICWAY_TYPE                372585 non-null  object        \n",
      " 9   LANE_CNT                       198548 non-null  float64       \n",
      " 10  ALIGNMENT                      372585 non-null  object        \n",
      " 11  ROADWAY_SURFACE_COND           372585 non-null  object        \n",
      " 12  ROAD_DEFECT                    372585 non-null  object        \n",
      " 13  REPORT_TYPE                    364011 non-null  object        \n",
      " 14  CRASH_TYPE                     372585 non-null  object        \n",
      " 15  INTERSECTION_RELATED_I         82171 non-null   object        \n",
      " 16  NOT_RIGHT_OF_WAY_I             17170 non-null   object        \n",
      " 17  HIT_AND_RUN_I                  103421 non-null  object        \n",
      " 18  DAMAGE                         372585 non-null  object        \n",
      " 19  DATE_POLICE_NOTIFIED           372585 non-null  object        \n",
      " 20  PRIM_CONTRIBUTORY_CAUSE        372585 non-null  object        \n",
      " 21  SEC_CONTRIBUTORY_CAUSE         372585 non-null  object        \n",
      " 22  STREET_NO                      372585 non-null  int64         \n",
      " 23  STREET_DIRECTION               372583 non-null  object        \n",
      " 24  STREET_NAME                    372584 non-null  object        \n",
      " 25  BEAT_OF_OCCURRENCE             372581 non-null  float64       \n",
      " 26  PHOTOS_TAKEN_I                 4725 non-null    object        \n",
      " 27  STATEMENTS_TAKEN_I             7541 non-null    object        \n",
      " 28  DOORING_I                      1261 non-null    object        \n",
      " 29  WORK_ZONE_I                    2633 non-null    object        \n",
      " 30  WORK_ZONE_TYPE                 2090 non-null    object        \n",
      " 31  WORKERS_PRESENT_I              614 non-null     object        \n",
      " 32  NUM_UNITS                      371186 non-null  float64       \n",
      " 33  MOST_SEVERE_INJURY             370426 non-null  object        \n",
      " 34  INJURIES_TOTAL                 370433 non-null  float64       \n",
      " 35  INJURIES_FATAL                 370433 non-null  float64       \n",
      " 36  INJURIES_INCAPACITATING        370433 non-null  float64       \n",
      " 37  INJURIES_NON_INCAPACITATING    370433 non-null  float64       \n",
      " 38  INJURIES_REPORTED_NOT_EVIDENT  370433 non-null  float64       \n",
      " 39  INJURIES_NO_INDICATION         370433 non-null  float64       \n",
      " 40  INJURIES_UNKNOWN               370433 non-null  float64       \n",
      " 41  CRASH_MONTH                    372585 non-null  object        \n",
      " 42  CRASH_DAY                      372585 non-null  object        \n",
      " 43  CRASH_HOUR                     372585 non-null  int64         \n",
      "dtypes: datetime64[ns](1), float64(10), int64(3), object(30)\n",
      "memory usage: 125.1+ MB\n"
     ]
    },
    {
     "data": {
      "application/javascript": [
       "\n",
       "            setTimeout(function() {\n",
       "                var nbb_cell_id = 31;\n",
       "                var nbb_unformatted_code = \"crash_data.info()\";\n",
       "                var nbb_formatted_code = \"crash_data.info()\";\n",
       "                var nbb_cells = Jupyter.notebook.get_cells();\n",
       "                for (var i = 0; i < nbb_cells.length; ++i) {\n",
       "                    if (nbb_cells[i].input_prompt_number == nbb_cell_id) {\n",
       "                        if (nbb_cells[i].get_text() == nbb_unformatted_code) {\n",
       "                             nbb_cells[i].set_text(nbb_formatted_code);\n",
       "                        }\n",
       "                        break;\n",
       "                    }\n",
       "                }\n",
       "            }, 500);\n",
       "            "
      ],
      "text/plain": [
       "<IPython.core.display.Javascript object>"
      ]
     },
     "metadata": {},
     "output_type": "display_data"
    },
    {
     "data": {
      "application/javascript": [
       "\n",
       "            setTimeout(function() {\n",
       "                var nbb_cell_id = 31;\n",
       "                var nbb_unformatted_code = \"crash_data.info()\";\n",
       "                var nbb_formatted_code = \"crash_data.info()\";\n",
       "                var nbb_cells = Jupyter.notebook.get_cells();\n",
       "                for (var i = 0; i < nbb_cells.length; ++i) {\n",
       "                    if (nbb_cells[i].input_prompt_number == nbb_cell_id) {\n",
       "                        if (nbb_cells[i].get_text() == nbb_unformatted_code) {\n",
       "                             nbb_cells[i].set_text(nbb_formatted_code);\n",
       "                        }\n",
       "                        break;\n",
       "                    }\n",
       "                }\n",
       "            }, 500);\n",
       "            "
      ],
      "text/plain": [
       "<IPython.core.display.Javascript object>"
      ]
     },
     "metadata": {},
     "output_type": "display_data"
    },
    {
     "data": {
      "application/javascript": [
       "\n",
       "            setTimeout(function() {\n",
       "                var nbb_cell_id = 31;\n",
       "                var nbb_unformatted_code = \"crash_data.info()\";\n",
       "                var nbb_formatted_code = \"crash_data.info()\";\n",
       "                var nbb_cells = Jupyter.notebook.get_cells();\n",
       "                for (var i = 0; i < nbb_cells.length; ++i) {\n",
       "                    if (nbb_cells[i].input_prompt_number == nbb_cell_id) {\n",
       "                        if (nbb_cells[i].get_text() == nbb_unformatted_code) {\n",
       "                             nbb_cells[i].set_text(nbb_formatted_code);\n",
       "                        }\n",
       "                        break;\n",
       "                    }\n",
       "                }\n",
       "            }, 500);\n",
       "            "
      ],
      "text/plain": [
       "<IPython.core.display.Javascript object>"
      ]
     },
     "metadata": {},
     "output_type": "display_data"
    },
    {
     "data": {
      "application/javascript": [
       "\n",
       "            setTimeout(function() {\n",
       "                var nbb_cell_id = 31;\n",
       "                var nbb_unformatted_code = \"crash_data.info()\";\n",
       "                var nbb_formatted_code = \"crash_data.info()\";\n",
       "                var nbb_cells = Jupyter.notebook.get_cells();\n",
       "                for (var i = 0; i < nbb_cells.length; ++i) {\n",
       "                    if (nbb_cells[i].input_prompt_number == nbb_cell_id) {\n",
       "                        if (nbb_cells[i].get_text() == nbb_unformatted_code) {\n",
       "                             nbb_cells[i].set_text(nbb_formatted_code);\n",
       "                        }\n",
       "                        break;\n",
       "                    }\n",
       "                }\n",
       "            }, 500);\n",
       "            "
      ],
      "text/plain": [
       "<IPython.core.display.Javascript object>"
      ]
     },
     "metadata": {},
     "output_type": "display_data"
    }
   ],
   "source": [
    "crash_data.info()"
   ]
  },
  {
   "cell_type": "markdown",
   "metadata": {
    "colab_type": "text",
    "id": "XRzuzP37owdN"
   },
   "source": [
    "Next, we will work through an example that involves combining two existing features together to make a new one. Convert the DATE_POLICE_NOTIFIED column into a datetime (if it isn't one already), and create a new feature called \"REPORTING_DELAY\" which corresponds to the number of hours between the crash actually occurring and the police being notified. \n",
    "\n",
    "Plot a histogram and a frequency table of the features - are the results reasonable? If there are unusual results, which ones are they and what steps could we consider taking to address them (if such steps are necessary)?"
   ]
  },
  {
   "cell_type": "code",
   "execution_count": 32,
   "metadata": {
    "colab": {},
    "colab_type": "code",
    "id": "t14Ptx23owdO"
   },
   "outputs": [
    {
     "data": {
      "application/javascript": [
       "\n",
       "            setTimeout(function() {\n",
       "                var nbb_cell_id = 32;\n",
       "                var nbb_unformatted_code = \"# answer goes here\\ncrash_data['DATE_POLICE_NOTIFIED'] = pd.to_datetime(crash_data['DATE_POLICE_NOTIFIED'])\";\n",
       "                var nbb_formatted_code = \"# answer goes here\\ncrash_data[\\\"DATE_POLICE_NOTIFIED\\\"] = pd.to_datetime(crash_data[\\\"DATE_POLICE_NOTIFIED\\\"])\";\n",
       "                var nbb_cells = Jupyter.notebook.get_cells();\n",
       "                for (var i = 0; i < nbb_cells.length; ++i) {\n",
       "                    if (nbb_cells[i].input_prompt_number == nbb_cell_id) {\n",
       "                        if (nbb_cells[i].get_text() == nbb_unformatted_code) {\n",
       "                             nbb_cells[i].set_text(nbb_formatted_code);\n",
       "                        }\n",
       "                        break;\n",
       "                    }\n",
       "                }\n",
       "            }, 500);\n",
       "            "
      ],
      "text/plain": [
       "<IPython.core.display.Javascript object>"
      ]
     },
     "metadata": {},
     "output_type": "display_data"
    },
    {
     "data": {
      "application/javascript": [
       "\n",
       "            setTimeout(function() {\n",
       "                var nbb_cell_id = 32;\n",
       "                var nbb_unformatted_code = \"# answer goes here\\ncrash_data['DATE_POLICE_NOTIFIED'] = pd.to_datetime(crash_data['DATE_POLICE_NOTIFIED'])\";\n",
       "                var nbb_formatted_code = \"# answer goes here\\ncrash_data[\\\"DATE_POLICE_NOTIFIED\\\"] = pd.to_datetime(crash_data[\\\"DATE_POLICE_NOTIFIED\\\"])\";\n",
       "                var nbb_cells = Jupyter.notebook.get_cells();\n",
       "                for (var i = 0; i < nbb_cells.length; ++i) {\n",
       "                    if (nbb_cells[i].input_prompt_number == nbb_cell_id) {\n",
       "                        if (nbb_cells[i].get_text() == nbb_unformatted_code) {\n",
       "                             nbb_cells[i].set_text(nbb_formatted_code);\n",
       "                        }\n",
       "                        break;\n",
       "                    }\n",
       "                }\n",
       "            }, 500);\n",
       "            "
      ],
      "text/plain": [
       "<IPython.core.display.Javascript object>"
      ]
     },
     "metadata": {},
     "output_type": "display_data"
    },
    {
     "data": {
      "application/javascript": [
       "\n",
       "            setTimeout(function() {\n",
       "                var nbb_cell_id = 32;\n",
       "                var nbb_unformatted_code = \"# answer goes here\\ncrash_data['DATE_POLICE_NOTIFIED'] = pd.to_datetime(crash_data['DATE_POLICE_NOTIFIED'])\";\n",
       "                var nbb_formatted_code = \"# answer goes here\\ncrash_data[\\\"DATE_POLICE_NOTIFIED\\\"] = pd.to_datetime(crash_data[\\\"DATE_POLICE_NOTIFIED\\\"])\";\n",
       "                var nbb_cells = Jupyter.notebook.get_cells();\n",
       "                for (var i = 0; i < nbb_cells.length; ++i) {\n",
       "                    if (nbb_cells[i].input_prompt_number == nbb_cell_id) {\n",
       "                        if (nbb_cells[i].get_text() == nbb_unformatted_code) {\n",
       "                             nbb_cells[i].set_text(nbb_formatted_code);\n",
       "                        }\n",
       "                        break;\n",
       "                    }\n",
       "                }\n",
       "            }, 500);\n",
       "            "
      ],
      "text/plain": [
       "<IPython.core.display.Javascript object>"
      ]
     },
     "metadata": {},
     "output_type": "display_data"
    },
    {
     "data": {
      "application/javascript": [
       "\n",
       "            setTimeout(function() {\n",
       "                var nbb_cell_id = 32;\n",
       "                var nbb_unformatted_code = \"# answer goes here\\ncrash_data['DATE_POLICE_NOTIFIED'] = pd.to_datetime(crash_data['DATE_POLICE_NOTIFIED'])\";\n",
       "                var nbb_formatted_code = \"# answer goes here\\ncrash_data[\\\"DATE_POLICE_NOTIFIED\\\"] = pd.to_datetime(crash_data[\\\"DATE_POLICE_NOTIFIED\\\"])\";\n",
       "                var nbb_cells = Jupyter.notebook.get_cells();\n",
       "                for (var i = 0; i < nbb_cells.length; ++i) {\n",
       "                    if (nbb_cells[i].input_prompt_number == nbb_cell_id) {\n",
       "                        if (nbb_cells[i].get_text() == nbb_unformatted_code) {\n",
       "                             nbb_cells[i].set_text(nbb_formatted_code);\n",
       "                        }\n",
       "                        break;\n",
       "                    }\n",
       "                }\n",
       "            }, 500);\n",
       "            "
      ],
      "text/plain": [
       "<IPython.core.display.Javascript object>"
      ]
     },
     "metadata": {},
     "output_type": "display_data"
    }
   ],
   "source": [
    "# answer goes here\n",
    "crash_data['DATE_POLICE_NOTIFIED'] = pd.to_datetime(crash_data['DATE_POLICE_NOTIFIED'])"
   ]
  },
  {
   "cell_type": "code",
   "execution_count": 62,
   "metadata": {},
   "outputs": [
    {
     "data": {
      "text/plain": [
       "0     229533\n",
       "1      46968\n",
       "2      17339\n",
       "3       9931\n",
       "4       6843\n",
       "5       5059\n",
       "6       4128\n",
       "23      4054\n",
       "22      3615\n",
       "7       3463\n",
       "21      3432\n",
       "9       3421\n",
       "8       3386\n",
       "10      3307\n",
       "20      3287\n",
       "19      3169\n",
       "18      3084\n",
       "17      3066\n",
       "11      2847\n",
       "12      2739\n",
       "16      2682\n",
       "14      2489\n",
       "15      2427\n",
       "13      2316\n",
       "Name: REPORTING_DELAY, dtype: int64"
      ]
     },
     "execution_count": 62,
     "metadata": {},
     "output_type": "execute_result"
    },
    {
     "data": {
      "application/javascript": [
       "\n",
       "            setTimeout(function() {\n",
       "                var nbb_cell_id = 62;\n",
       "                var nbb_unformatted_code = \"crash_data[\\\"REPORTING_DELAY\\\"] = (\\n    crash_data[\\\"DATE_POLICE_NOTIFIED\\\"] - crash_data[\\\"CRASH_DATE\\\"]\\n).dt.components.hours\\n\\ncrash_data.REPORTING_DELAY.value_counts()\";\n",
       "                var nbb_formatted_code = \"crash_data[\\\"REPORTING_DELAY\\\"] = (\\n    crash_data[\\\"DATE_POLICE_NOTIFIED\\\"] - crash_data[\\\"CRASH_DATE\\\"]\\n).dt.components.hours\\n\\ncrash_data.REPORTING_DELAY.value_counts()\";\n",
       "                var nbb_cells = Jupyter.notebook.get_cells();\n",
       "                for (var i = 0; i < nbb_cells.length; ++i) {\n",
       "                    if (nbb_cells[i].input_prompt_number == nbb_cell_id) {\n",
       "                        if (nbb_cells[i].get_text() == nbb_unformatted_code) {\n",
       "                             nbb_cells[i].set_text(nbb_formatted_code);\n",
       "                        }\n",
       "                        break;\n",
       "                    }\n",
       "                }\n",
       "            }, 500);\n",
       "            "
      ],
      "text/plain": [
       "<IPython.core.display.Javascript object>"
      ]
     },
     "metadata": {},
     "output_type": "display_data"
    },
    {
     "data": {
      "application/javascript": [
       "\n",
       "            setTimeout(function() {\n",
       "                var nbb_cell_id = 62;\n",
       "                var nbb_unformatted_code = \"crash_data[\\\"REPORTING_DELAY\\\"] = (\\n    crash_data[\\\"DATE_POLICE_NOTIFIED\\\"] - crash_data[\\\"CRASH_DATE\\\"]\\n).dt.components.hours\\n\\ncrash_data.REPORTING_DELAY.value_counts()\";\n",
       "                var nbb_formatted_code = \"crash_data[\\\"REPORTING_DELAY\\\"] = (\\n    crash_data[\\\"DATE_POLICE_NOTIFIED\\\"] - crash_data[\\\"CRASH_DATE\\\"]\\n).dt.components.hours\\n\\ncrash_data.REPORTING_DELAY.value_counts()\";\n",
       "                var nbb_cells = Jupyter.notebook.get_cells();\n",
       "                for (var i = 0; i < nbb_cells.length; ++i) {\n",
       "                    if (nbb_cells[i].input_prompt_number == nbb_cell_id) {\n",
       "                        if (nbb_cells[i].get_text() == nbb_unformatted_code) {\n",
       "                             nbb_cells[i].set_text(nbb_formatted_code);\n",
       "                        }\n",
       "                        break;\n",
       "                    }\n",
       "                }\n",
       "            }, 500);\n",
       "            "
      ],
      "text/plain": [
       "<IPython.core.display.Javascript object>"
      ]
     },
     "metadata": {},
     "output_type": "display_data"
    },
    {
     "data": {
      "application/javascript": [
       "\n",
       "            setTimeout(function() {\n",
       "                var nbb_cell_id = 62;\n",
       "                var nbb_unformatted_code = \"crash_data[\\\"REPORTING_DELAY\\\"] = (\\n    crash_data[\\\"DATE_POLICE_NOTIFIED\\\"] - crash_data[\\\"CRASH_DATE\\\"]\\n).dt.components.hours\\n\\ncrash_data.REPORTING_DELAY.value_counts()\";\n",
       "                var nbb_formatted_code = \"crash_data[\\\"REPORTING_DELAY\\\"] = (\\n    crash_data[\\\"DATE_POLICE_NOTIFIED\\\"] - crash_data[\\\"CRASH_DATE\\\"]\\n).dt.components.hours\\n\\ncrash_data.REPORTING_DELAY.value_counts()\";\n",
       "                var nbb_cells = Jupyter.notebook.get_cells();\n",
       "                for (var i = 0; i < nbb_cells.length; ++i) {\n",
       "                    if (nbb_cells[i].input_prompt_number == nbb_cell_id) {\n",
       "                        if (nbb_cells[i].get_text() == nbb_unformatted_code) {\n",
       "                             nbb_cells[i].set_text(nbb_formatted_code);\n",
       "                        }\n",
       "                        break;\n",
       "                    }\n",
       "                }\n",
       "            }, 500);\n",
       "            "
      ],
      "text/plain": [
       "<IPython.core.display.Javascript object>"
      ]
     },
     "metadata": {},
     "output_type": "display_data"
    },
    {
     "data": {
      "application/javascript": [
       "\n",
       "            setTimeout(function() {\n",
       "                var nbb_cell_id = 62;\n",
       "                var nbb_unformatted_code = \"crash_data[\\\"REPORTING_DELAY\\\"] = (\\n    crash_data[\\\"DATE_POLICE_NOTIFIED\\\"] - crash_data[\\\"CRASH_DATE\\\"]\\n).dt.components.hours\\n\\ncrash_data.REPORTING_DELAY.value_counts()\";\n",
       "                var nbb_formatted_code = \"crash_data[\\\"REPORTING_DELAY\\\"] = (\\n    crash_data[\\\"DATE_POLICE_NOTIFIED\\\"] - crash_data[\\\"CRASH_DATE\\\"]\\n).dt.components.hours\\n\\ncrash_data.REPORTING_DELAY.value_counts()\";\n",
       "                var nbb_cells = Jupyter.notebook.get_cells();\n",
       "                for (var i = 0; i < nbb_cells.length; ++i) {\n",
       "                    if (nbb_cells[i].input_prompt_number == nbb_cell_id) {\n",
       "                        if (nbb_cells[i].get_text() == nbb_unformatted_code) {\n",
       "                             nbb_cells[i].set_text(nbb_formatted_code);\n",
       "                        }\n",
       "                        break;\n",
       "                    }\n",
       "                }\n",
       "            }, 500);\n",
       "            "
      ],
      "text/plain": [
       "<IPython.core.display.Javascript object>"
      ]
     },
     "metadata": {},
     "output_type": "display_data"
    },
    {
     "data": {
      "application/javascript": [
       "\n",
       "            setTimeout(function() {\n",
       "                var nbb_cell_id = 62;\n",
       "                var nbb_unformatted_code = \"crash_data[\\\"REPORTING_DELAY\\\"] = (\\n    crash_data[\\\"DATE_POLICE_NOTIFIED\\\"] - crash_data[\\\"CRASH_DATE\\\"]\\n).dt.components.hours\\n\\ncrash_data.REPORTING_DELAY.value_counts()\";\n",
       "                var nbb_formatted_code = \"crash_data[\\\"REPORTING_DELAY\\\"] = (\\n    crash_data[\\\"DATE_POLICE_NOTIFIED\\\"] - crash_data[\\\"CRASH_DATE\\\"]\\n).dt.components.hours\\n\\ncrash_data.REPORTING_DELAY.value_counts()\";\n",
       "                var nbb_cells = Jupyter.notebook.get_cells();\n",
       "                for (var i = 0; i < nbb_cells.length; ++i) {\n",
       "                    if (nbb_cells[i].input_prompt_number == nbb_cell_id) {\n",
       "                        if (nbb_cells[i].get_text() == nbb_unformatted_code) {\n",
       "                             nbb_cells[i].set_text(nbb_formatted_code);\n",
       "                        }\n",
       "                        break;\n",
       "                    }\n",
       "                }\n",
       "            }, 500);\n",
       "            "
      ],
      "text/plain": [
       "<IPython.core.display.Javascript object>"
      ]
     },
     "metadata": {},
     "output_type": "display_data"
    }
   ],
   "source": [
    "crash_data[\"REPORTING_DELAY\"] = (\n",
    "    crash_data[\"DATE_POLICE_NOTIFIED\"] - crash_data[\"CRASH_DATE\"]\n",
    ").dt.components.hours\n",
    "\n",
    "crash_data.REPORTING_DELAY.value_counts()"
   ]
  },
  {
   "cell_type": "code",
   "execution_count": 59,
   "metadata": {},
   "outputs": [
    {
     "data": {
      "text/plain": [
       "<matplotlib.axes._subplots.AxesSubplot at 0x2359bccf088>"
      ]
     },
     "execution_count": 59,
     "metadata": {},
     "output_type": "execute_result"
    },
    {
     "data": {
      "image/png": "[encoded data removed]",
      "text/plain": [
       "<Figure size 432x288 with 1 Axes>"
      ]
     },
     "metadata": {
      "needs_background": "light"
     },
     "output_type": "display_data"
    },
    {
     "data": {
      "application/javascript": [
       "\n",
       "            setTimeout(function() {\n",
       "                var nbb_cell_id = 59;\n",
       "                var nbb_unformatted_code = \"crash_data[\\\"REPORTING_DELAY\\\"].hist()\";\n",
       "                var nbb_formatted_code = \"crash_data[\\\"REPORTING_DELAY\\\"].hist()\";\n",
       "                var nbb_cells = Jupyter.notebook.get_cells();\n",
       "                for (var i = 0; i < nbb_cells.length; ++i) {\n",
       "                    if (nbb_cells[i].input_prompt_number == nbb_cell_id) {\n",
       "                        if (nbb_cells[i].get_text() == nbb_unformatted_code) {\n",
       "                             nbb_cells[i].set_text(nbb_formatted_code);\n",
       "                        }\n",
       "                        break;\n",
       "                    }\n",
       "                }\n",
       "            }, 500);\n",
       "            "
      ],
      "text/plain": [
       "<IPython.core.display.Javascript object>"
      ]
     },
     "metadata": {},
     "output_type": "display_data"
    },
    {
     "data": {
      "application/javascript": [
       "\n",
       "            setTimeout(function() {\n",
       "                var nbb_cell_id = 59;\n",
       "                var nbb_unformatted_code = \"crash_data[\\\"REPORTING_DELAY\\\"].hist()\";\n",
       "                var nbb_formatted_code = \"crash_data[\\\"REPORTING_DELAY\\\"].hist()\";\n",
       "                var nbb_cells = Jupyter.notebook.get_cells();\n",
       "                for (var i = 0; i < nbb_cells.length; ++i) {\n",
       "                    if (nbb_cells[i].input_prompt_number == nbb_cell_id) {\n",
       "                        if (nbb_cells[i].get_text() == nbb_unformatted_code) {\n",
       "                             nbb_cells[i].set_text(nbb_formatted_code);\n",
       "                        }\n",
       "                        break;\n",
       "                    }\n",
       "                }\n",
       "            }, 500);\n",
       "            "
      ],
      "text/plain": [
       "<IPython.core.display.Javascript object>"
      ]
     },
     "metadata": {},
     "output_type": "display_data"
    },
    {
     "data": {
      "application/javascript": [
       "\n",
       "            setTimeout(function() {\n",
       "                var nbb_cell_id = 59;\n",
       "                var nbb_unformatted_code = \"crash_data[\\\"REPORTING_DELAY\\\"].hist()\";\n",
       "                var nbb_formatted_code = \"crash_data[\\\"REPORTING_DELAY\\\"].hist()\";\n",
       "                var nbb_cells = Jupyter.notebook.get_cells();\n",
       "                for (var i = 0; i < nbb_cells.length; ++i) {\n",
       "                    if (nbb_cells[i].input_prompt_number == nbb_cell_id) {\n",
       "                        if (nbb_cells[i].get_text() == nbb_unformatted_code) {\n",
       "                             nbb_cells[i].set_text(nbb_formatted_code);\n",
       "                        }\n",
       "                        break;\n",
       "                    }\n",
       "                }\n",
       "            }, 500);\n",
       "            "
      ],
      "text/plain": [
       "<IPython.core.display.Javascript object>"
      ]
     },
     "metadata": {},
     "output_type": "display_data"
    },
    {
     "data": {
      "application/javascript": [
       "\n",
       "            setTimeout(function() {\n",
       "                var nbb_cell_id = 59;\n",
       "                var nbb_unformatted_code = \"crash_data[\\\"REPORTING_DELAY\\\"].hist()\";\n",
       "                var nbb_formatted_code = \"crash_data[\\\"REPORTING_DELAY\\\"].hist()\";\n",
       "                var nbb_cells = Jupyter.notebook.get_cells();\n",
       "                for (var i = 0; i < nbb_cells.length; ++i) {\n",
       "                    if (nbb_cells[i].input_prompt_number == nbb_cell_id) {\n",
       "                        if (nbb_cells[i].get_text() == nbb_unformatted_code) {\n",
       "                             nbb_cells[i].set_text(nbb_formatted_code);\n",
       "                        }\n",
       "                        break;\n",
       "                    }\n",
       "                }\n",
       "            }, 500);\n",
       "            "
      ],
      "text/plain": [
       "<IPython.core.display.Javascript object>"
      ]
     },
     "metadata": {},
     "output_type": "display_data"
    },
    {
     "data": {
      "application/javascript": [
       "\n",
       "            setTimeout(function() {\n",
       "                var nbb_cell_id = 59;\n",
       "                var nbb_unformatted_code = \"crash_data[\\\"REPORTING_DELAY\\\"].hist()\";\n",
       "                var nbb_formatted_code = \"crash_data[\\\"REPORTING_DELAY\\\"].hist()\";\n",
       "                var nbb_cells = Jupyter.notebook.get_cells();\n",
       "                for (var i = 0; i < nbb_cells.length; ++i) {\n",
       "                    if (nbb_cells[i].input_prompt_number == nbb_cell_id) {\n",
       "                        if (nbb_cells[i].get_text() == nbb_unformatted_code) {\n",
       "                             nbb_cells[i].set_text(nbb_formatted_code);\n",
       "                        }\n",
       "                        break;\n",
       "                    }\n",
       "                }\n",
       "            }, 500);\n",
       "            "
      ],
      "text/plain": [
       "<IPython.core.display.Javascript object>"
      ]
     },
     "metadata": {},
     "output_type": "display_data"
    }
   ],
   "source": [
    "crash_data[\"REPORTING_DELAY\"].hist()"
   ]
  },
  {
   "cell_type": "markdown",
   "metadata": {
    "colab_type": "text",
    "id": "--r9hiePowdP"
   },
   "source": [
    "Finally, we will generate a new geographical feature from the BEAT_OF_OCCURRENCE field. This field contains 4-digit identifiers corresponding to areas within Chicago; however, some values may be shorter if the leading digit is 0 (i.e. beat \"0114\" is represented as \"114\").\n",
    "\n",
    "Start by converting the the BEAT_OF_OCCURRENCE field into a string, dropping any unwanted characters that are present (chances are that this field was read in as a number and that \"114\" is represented as \"114.0\"; find a way to drop the \".0\"), and adding the appropriate number of leading 0s so that every beat is four digits."
   ]
  },
  {
   "cell_type": "code",
   "execution_count": 74,
   "metadata": {
    "colab": {},
    "colab_type": "code",
    "id": "4NBv9mHNowdQ"
   },
   "outputs": [
    {
     "data": {
      "application/javascript": [
       "\n",
       "            setTimeout(function() {\n",
       "                var nbb_cell_id = 74;\n",
       "                var nbb_unformatted_code = \"# answer goes here\\n\\\"0\\\" * (4 - len(str(int(crash_data[\\\"BEAT_OF_OCCURRENCE\\\"][0])))) + str(\\n    int(crash_data[\\\"BEAT_OF_OCCURRENCE\\\"][0])\\n)\\n\\ncrash_data[\\\"BEAT_FILLED\\\"] = (\\n    crash_data[\\\"BEAT_OF_OCCURRENCE\\\"]\\n    .fillna(value=9999)\\n    .apply(lambda x: \\\"0\\\" * (4 - len(str(int(x)))) + str(int(x)))\\n)\";\n",
       "                var nbb_formatted_code = \"# answer goes here\\n\\\"0\\\" * (4 - len(str(int(crash_data[\\\"BEAT_OF_OCCURRENCE\\\"][0])))) + str(\\n    int(crash_data[\\\"BEAT_OF_OCCURRENCE\\\"][0])\\n)\\n\\ncrash_data[\\\"BEAT_FILLED\\\"] = (\\n    crash_data[\\\"BEAT_OF_OCCURRENCE\\\"]\\n    .fillna(value=9999)\\n    .apply(lambda x: \\\"0\\\" * (4 - len(str(int(x)))) + str(int(x)))\\n)\";\n",
       "                var nbb_cells = Jupyter.notebook.get_cells();\n",
       "                for (var i = 0; i < nbb_cells.length; ++i) {\n",
       "                    if (nbb_cells[i].input_prompt_number == nbb_cell_id) {\n",
       "                        if (nbb_cells[i].get_text() == nbb_unformatted_code) {\n",
       "                             nbb_cells[i].set_text(nbb_formatted_code);\n",
       "                        }\n",
       "                        break;\n",
       "                    }\n",
       "                }\n",
       "            }, 500);\n",
       "            "
      ],
      "text/plain": [
       "<IPython.core.display.Javascript object>"
      ]
     },
     "metadata": {},
     "output_type": "display_data"
    },
    {
     "data": {
      "application/javascript": [
       "\n",
       "            setTimeout(function() {\n",
       "                var nbb_cell_id = 74;\n",
       "                var nbb_unformatted_code = \"# answer goes here\\n\\\"0\\\" * (4 - len(str(int(crash_data[\\\"BEAT_OF_OCCURRENCE\\\"][0])))) + str(\\n    int(crash_data[\\\"BEAT_OF_OCCURRENCE\\\"][0])\\n)\\n\\ncrash_data[\\\"BEAT_FILLED\\\"] = (\\n    crash_data[\\\"BEAT_OF_OCCURRENCE\\\"]\\n    .fillna(value=9999)\\n    .apply(lambda x: \\\"0\\\" * (4 - len(str(int(x)))) + str(int(x)))\\n)\";\n",
       "                var nbb_formatted_code = \"# answer goes here\\n\\\"0\\\" * (4 - len(str(int(crash_data[\\\"BEAT_OF_OCCURRENCE\\\"][0])))) + str(\\n    int(crash_data[\\\"BEAT_OF_OCCURRENCE\\\"][0])\\n)\\n\\ncrash_data[\\\"BEAT_FILLED\\\"] = (\\n    crash_data[\\\"BEAT_OF_OCCURRENCE\\\"]\\n    .fillna(value=9999)\\n    .apply(lambda x: \\\"0\\\" * (4 - len(str(int(x)))) + str(int(x)))\\n)\";\n",
       "                var nbb_cells = Jupyter.notebook.get_cells();\n",
       "                for (var i = 0; i < nbb_cells.length; ++i) {\n",
       "                    if (nbb_cells[i].input_prompt_number == nbb_cell_id) {\n",
       "                        if (nbb_cells[i].get_text() == nbb_unformatted_code) {\n",
       "                             nbb_cells[i].set_text(nbb_formatted_code);\n",
       "                        }\n",
       "                        break;\n",
       "                    }\n",
       "                }\n",
       "            }, 500);\n",
       "            "
      ],
      "text/plain": [
       "<IPython.core.display.Javascript object>"
      ]
     },
     "metadata": {},
     "output_type": "display_data"
    },
    {
     "data": {
      "application/javascript": [
       "\n",
       "            setTimeout(function() {\n",
       "                var nbb_cell_id = 74;\n",
       "                var nbb_unformatted_code = \"# answer goes here\\n\\\"0\\\" * (4 - len(str(int(crash_data[\\\"BEAT_OF_OCCURRENCE\\\"][0])))) + str(\\n    int(crash_data[\\\"BEAT_OF_OCCURRENCE\\\"][0])\\n)\\n\\ncrash_data[\\\"BEAT_FILLED\\\"] = (\\n    crash_data[\\\"BEAT_OF_OCCURRENCE\\\"]\\n    .fillna(value=9999)\\n    .apply(lambda x: \\\"0\\\" * (4 - len(str(int(x)))) + str(int(x)))\\n)\";\n",
       "                var nbb_formatted_code = \"# answer goes here\\n\\\"0\\\" * (4 - len(str(int(crash_data[\\\"BEAT_OF_OCCURRENCE\\\"][0])))) + str(\\n    int(crash_data[\\\"BEAT_OF_OCCURRENCE\\\"][0])\\n)\\n\\ncrash_data[\\\"BEAT_FILLED\\\"] = (\\n    crash_data[\\\"BEAT_OF_OCCURRENCE\\\"]\\n    .fillna(value=9999)\\n    .apply(lambda x: \\\"0\\\" * (4 - len(str(int(x)))) + str(int(x)))\\n)\";\n",
       "                var nbb_cells = Jupyter.notebook.get_cells();\n",
       "                for (var i = 0; i < nbb_cells.length; ++i) {\n",
       "                    if (nbb_cells[i].input_prompt_number == nbb_cell_id) {\n",
       "                        if (nbb_cells[i].get_text() == nbb_unformatted_code) {\n",
       "                             nbb_cells[i].set_text(nbb_formatted_code);\n",
       "                        }\n",
       "                        break;\n",
       "                    }\n",
       "                }\n",
       "            }, 500);\n",
       "            "
      ],
      "text/plain": [
       "<IPython.core.display.Javascript object>"
      ]
     },
     "metadata": {},
     "output_type": "display_data"
    },
    {
     "data": {
      "application/javascript": [
       "\n",
       "            setTimeout(function() {\n",
       "                var nbb_cell_id = 74;\n",
       "                var nbb_unformatted_code = \"# answer goes here\\n\\\"0\\\" * (4 - len(str(int(crash_data[\\\"BEAT_OF_OCCURRENCE\\\"][0])))) + str(\\n    int(crash_data[\\\"BEAT_OF_OCCURRENCE\\\"][0])\\n)\\n\\ncrash_data[\\\"BEAT_FILLED\\\"] = (\\n    crash_data[\\\"BEAT_OF_OCCURRENCE\\\"]\\n    .fillna(value=9999)\\n    .apply(lambda x: \\\"0\\\" * (4 - len(str(int(x)))) + str(int(x)))\\n)\";\n",
       "                var nbb_formatted_code = \"# answer goes here\\n\\\"0\\\" * (4 - len(str(int(crash_data[\\\"BEAT_OF_OCCURRENCE\\\"][0])))) + str(\\n    int(crash_data[\\\"BEAT_OF_OCCURRENCE\\\"][0])\\n)\\n\\ncrash_data[\\\"BEAT_FILLED\\\"] = (\\n    crash_data[\\\"BEAT_OF_OCCURRENCE\\\"]\\n    .fillna(value=9999)\\n    .apply(lambda x: \\\"0\\\" * (4 - len(str(int(x)))) + str(int(x)))\\n)\";\n",
       "                var nbb_cells = Jupyter.notebook.get_cells();\n",
       "                for (var i = 0; i < nbb_cells.length; ++i) {\n",
       "                    if (nbb_cells[i].input_prompt_number == nbb_cell_id) {\n",
       "                        if (nbb_cells[i].get_text() == nbb_unformatted_code) {\n",
       "                             nbb_cells[i].set_text(nbb_formatted_code);\n",
       "                        }\n",
       "                        break;\n",
       "                    }\n",
       "                }\n",
       "            }, 500);\n",
       "            "
      ],
      "text/plain": [
       "<IPython.core.display.Javascript object>"
      ]
     },
     "metadata": {},
     "output_type": "display_data"
    },
    {
     "data": {
      "application/javascript": [
       "\n",
       "            setTimeout(function() {\n",
       "                var nbb_cell_id = 74;\n",
       "                var nbb_unformatted_code = \"# answer goes here\\n\\\"0\\\" * (4 - len(str(int(crash_data[\\\"BEAT_OF_OCCURRENCE\\\"][0])))) + str(\\n    int(crash_data[\\\"BEAT_OF_OCCURRENCE\\\"][0])\\n)\\n\\ncrash_data[\\\"BEAT_FILLED\\\"] = (\\n    crash_data[\\\"BEAT_OF_OCCURRENCE\\\"]\\n    .fillna(value=9999)\\n    .apply(lambda x: \\\"0\\\" * (4 - len(str(int(x)))) + str(int(x)))\\n)\";\n",
       "                var nbb_formatted_code = \"# answer goes here\\n\\\"0\\\" * (4 - len(str(int(crash_data[\\\"BEAT_OF_OCCURRENCE\\\"][0])))) + str(\\n    int(crash_data[\\\"BEAT_OF_OCCURRENCE\\\"][0])\\n)\\n\\ncrash_data[\\\"BEAT_FILLED\\\"] = (\\n    crash_data[\\\"BEAT_OF_OCCURRENCE\\\"]\\n    .fillna(value=9999)\\n    .apply(lambda x: \\\"0\\\" * (4 - len(str(int(x)))) + str(int(x)))\\n)\";\n",
       "                var nbb_cells = Jupyter.notebook.get_cells();\n",
       "                for (var i = 0; i < nbb_cells.length; ++i) {\n",
       "                    if (nbb_cells[i].input_prompt_number == nbb_cell_id) {\n",
       "                        if (nbb_cells[i].get_text() == nbb_unformatted_code) {\n",
       "                             nbb_cells[i].set_text(nbb_formatted_code);\n",
       "                        }\n",
       "                        break;\n",
       "                    }\n",
       "                }\n",
       "            }, 500);\n",
       "            "
      ],
      "text/plain": [
       "<IPython.core.display.Javascript object>"
      ]
     },
     "metadata": {},
     "output_type": "display_data"
    }
   ],
   "source": [
    "# answer goes here\n",
    "\"0\" * (4 - len(str(int(crash_data[\"BEAT_OF_OCCURRENCE\"][0])))) + str(\n",
    "    int(crash_data[\"BEAT_OF_OCCURRENCE\"][0])\n",
    ")\n",
    "\n",
    "crash_data[\"BEAT_FILLED\"] = (\n",
    "    crash_data[\"BEAT_OF_OCCURRENCE\"]\n",
    "    .fillna(value=9999)\n",
    "    .apply(lambda x: \"0\" * (4 - len(str(int(x)))) + str(int(x)))\n",
    ")"
   ]
  },
  {
   "cell_type": "code",
   "execution_count": 75,
   "metadata": {},
   "outputs": [
    {
     "data": {
      "text/plain": [
       "1834    5482\n",
       "0114    4431\n",
       "0122    4389\n",
       "1831    4382\n",
       "0813    3780\n",
       "        ... \n",
       "0422     327\n",
       "1653     129\n",
       "1655      55\n",
       "1652      53\n",
       "9999       4\n",
       "Name: BEAT_FILLED, Length: 275, dtype: int64"
      ]
     },
     "execution_count": 75,
     "metadata": {},
     "output_type": "execute_result"
    },
    {
     "data": {
      "application/javascript": [
       "\n",
       "            setTimeout(function() {\n",
       "                var nbb_cell_id = 75;\n",
       "                var nbb_unformatted_code = \"crash_data[\\\"BEAT_FILLED\\\"].value_counts()\";\n",
       "                var nbb_formatted_code = \"crash_data[\\\"BEAT_FILLED\\\"].value_counts()\";\n",
       "                var nbb_cells = Jupyter.notebook.get_cells();\n",
       "                for (var i = 0; i < nbb_cells.length; ++i) {\n",
       "                    if (nbb_cells[i].input_prompt_number == nbb_cell_id) {\n",
       "                        if (nbb_cells[i].get_text() == nbb_unformatted_code) {\n",
       "                             nbb_cells[i].set_text(nbb_formatted_code);\n",
       "                        }\n",
       "                        break;\n",
       "                    }\n",
       "                }\n",
       "            }, 500);\n",
       "            "
      ],
      "text/plain": [
       "<IPython.core.display.Javascript object>"
      ]
     },
     "metadata": {},
     "output_type": "display_data"
    },
    {
     "data": {
      "application/javascript": [
       "\n",
       "            setTimeout(function() {\n",
       "                var nbb_cell_id = 75;\n",
       "                var nbb_unformatted_code = \"crash_data[\\\"BEAT_FILLED\\\"].value_counts()\";\n",
       "                var nbb_formatted_code = \"crash_data[\\\"BEAT_FILLED\\\"].value_counts()\";\n",
       "                var nbb_cells = Jupyter.notebook.get_cells();\n",
       "                for (var i = 0; i < nbb_cells.length; ++i) {\n",
       "                    if (nbb_cells[i].input_prompt_number == nbb_cell_id) {\n",
       "                        if (nbb_cells[i].get_text() == nbb_unformatted_code) {\n",
       "                             nbb_cells[i].set_text(nbb_formatted_code);\n",
       "                        }\n",
       "                        break;\n",
       "                    }\n",
       "                }\n",
       "            }, 500);\n",
       "            "
      ],
      "text/plain": [
       "<IPython.core.display.Javascript object>"
      ]
     },
     "metadata": {},
     "output_type": "display_data"
    },
    {
     "data": {
      "application/javascript": [
       "\n",
       "            setTimeout(function() {\n",
       "                var nbb_cell_id = 75;\n",
       "                var nbb_unformatted_code = \"crash_data[\\\"BEAT_FILLED\\\"].value_counts()\";\n",
       "                var nbb_formatted_code = \"crash_data[\\\"BEAT_FILLED\\\"].value_counts()\";\n",
       "                var nbb_cells = Jupyter.notebook.get_cells();\n",
       "                for (var i = 0; i < nbb_cells.length; ++i) {\n",
       "                    if (nbb_cells[i].input_prompt_number == nbb_cell_id) {\n",
       "                        if (nbb_cells[i].get_text() == nbb_unformatted_code) {\n",
       "                             nbb_cells[i].set_text(nbb_formatted_code);\n",
       "                        }\n",
       "                        break;\n",
       "                    }\n",
       "                }\n",
       "            }, 500);\n",
       "            "
      ],
      "text/plain": [
       "<IPython.core.display.Javascript object>"
      ]
     },
     "metadata": {},
     "output_type": "display_data"
    },
    {
     "data": {
      "application/javascript": [
       "\n",
       "            setTimeout(function() {\n",
       "                var nbb_cell_id = 75;\n",
       "                var nbb_unformatted_code = \"crash_data[\\\"BEAT_FILLED\\\"].value_counts()\";\n",
       "                var nbb_formatted_code = \"crash_data[\\\"BEAT_FILLED\\\"].value_counts()\";\n",
       "                var nbb_cells = Jupyter.notebook.get_cells();\n",
       "                for (var i = 0; i < nbb_cells.length; ++i) {\n",
       "                    if (nbb_cells[i].input_prompt_number == nbb_cell_id) {\n",
       "                        if (nbb_cells[i].get_text() == nbb_unformatted_code) {\n",
       "                             nbb_cells[i].set_text(nbb_formatted_code);\n",
       "                        }\n",
       "                        break;\n",
       "                    }\n",
       "                }\n",
       "            }, 500);\n",
       "            "
      ],
      "text/plain": [
       "<IPython.core.display.Javascript object>"
      ]
     },
     "metadata": {},
     "output_type": "display_data"
    },
    {
     "data": {
      "application/javascript": [
       "\n",
       "            setTimeout(function() {\n",
       "                var nbb_cell_id = 75;\n",
       "                var nbb_unformatted_code = \"crash_data[\\\"BEAT_FILLED\\\"].value_counts()\";\n",
       "                var nbb_formatted_code = \"crash_data[\\\"BEAT_FILLED\\\"].value_counts()\";\n",
       "                var nbb_cells = Jupyter.notebook.get_cells();\n",
       "                for (var i = 0; i < nbb_cells.length; ++i) {\n",
       "                    if (nbb_cells[i].input_prompt_number == nbb_cell_id) {\n",
       "                        if (nbb_cells[i].get_text() == nbb_unformatted_code) {\n",
       "                             nbb_cells[i].set_text(nbb_formatted_code);\n",
       "                        }\n",
       "                        break;\n",
       "                    }\n",
       "                }\n",
       "            }, 500);\n",
       "            "
      ],
      "text/plain": [
       "<IPython.core.display.Javascript object>"
      ]
     },
     "metadata": {},
     "output_type": "display_data"
    }
   ],
   "source": [
    "crash_data[\"BEAT_FILLED\"].value_counts()"
   ]
  },
  {
   "cell_type": "markdown",
   "metadata": {
    "colab_type": "text",
    "id": "aT3Wy_cQowdR"
   },
   "source": [
    "As it turns out, the first two digits of each beat correspond to a higher-level geographic area. For example, the higher-level beat \"24\" corresponds to a larger geographic area that is subdivided into beats 2411, 2412, etc. See below for a map illustrating this (in the map, the higher-level codes are three digits, but the first digit is always a zero):\n",
    "\n",
    "https://news.wttw.com/sites/default/files/Map%20of%20Chicago%20Police%20Districts%20and%20Beats.pdf\n",
    "\n",
    "Create a new feature called BEAT_TWO_DIGIT that corresponds to the higher-level two-digit geographic area.\n",
    "\n",
    "As a side note, US zip codes work much the same way:\n",
    "\n",
    "https://www.unitedstateszipcodes.org/images/zip-codes/zip-codes.png\n",
    "\n",
    "This is a very common feature engineering technique for US zip codes. Many data sets will contain hundreds or thousands or zip codes, and attempting to feed a categorical variable with a very large number of levels into a model can often lead to problems (imagine trying to one-hot encode this; the number of columns would explode, and most of the columns would be very sparse.) Rolling up zip codes to a higher level loses some detail but greatly mitigates the issue of too many categories while still providing useful geographic insights on many occassions."
   ]
  },
  {
   "cell_type": "code",
   "execution_count": 77,
   "metadata": {
    "colab": {},
    "colab_type": "code",
    "id": "2kKY_WxWowdS"
   },
   "outputs": [
    {
     "data": {
      "application/javascript": [
       "\n",
       "            setTimeout(function() {\n",
       "                var nbb_cell_id = 77;\n",
       "                var nbb_unformatted_code = \"# answer goes here\\ncrash_data['BEAT_TWO_DIGIT'] = crash_data['BEAT_FILLED'].apply(lambda x: x[:2])\";\n",
       "                var nbb_formatted_code = \"# answer goes here\\ncrash_data[\\\"BEAT_TWO_DIGIT\\\"] = crash_data[\\\"BEAT_FILLED\\\"].apply(lambda x: x[:2])\";\n",
       "                var nbb_cells = Jupyter.notebook.get_cells();\n",
       "                for (var i = 0; i < nbb_cells.length; ++i) {\n",
       "                    if (nbb_cells[i].input_prompt_number == nbb_cell_id) {\n",
       "                        if (nbb_cells[i].get_text() == nbb_unformatted_code) {\n",
       "                             nbb_cells[i].set_text(nbb_formatted_code);\n",
       "                        }\n",
       "                        break;\n",
       "                    }\n",
       "                }\n",
       "            }, 500);\n",
       "            "
      ],
      "text/plain": [
       "<IPython.core.display.Javascript object>"
      ]
     },
     "metadata": {},
     "output_type": "display_data"
    },
    {
     "data": {
      "application/javascript": [
       "\n",
       "            setTimeout(function() {\n",
       "                var nbb_cell_id = 77;\n",
       "                var nbb_unformatted_code = \"# answer goes here\\ncrash_data['BEAT_TWO_DIGIT'] = crash_data['BEAT_FILLED'].apply(lambda x: x[:2])\";\n",
       "                var nbb_formatted_code = \"# answer goes here\\ncrash_data[\\\"BEAT_TWO_DIGIT\\\"] = crash_data[\\\"BEAT_FILLED\\\"].apply(lambda x: x[:2])\";\n",
       "                var nbb_cells = Jupyter.notebook.get_cells();\n",
       "                for (var i = 0; i < nbb_cells.length; ++i) {\n",
       "                    if (nbb_cells[i].input_prompt_number == nbb_cell_id) {\n",
       "                        if (nbb_cells[i].get_text() == nbb_unformatted_code) {\n",
       "                             nbb_cells[i].set_text(nbb_formatted_code);\n",
       "                        }\n",
       "                        break;\n",
       "                    }\n",
       "                }\n",
       "            }, 500);\n",
       "            "
      ],
      "text/plain": [
       "<IPython.core.display.Javascript object>"
      ]
     },
     "metadata": {},
     "output_type": "display_data"
    },
    {
     "data": {
      "application/javascript": [
       "\n",
       "            setTimeout(function() {\n",
       "                var nbb_cell_id = 77;\n",
       "                var nbb_unformatted_code = \"# answer goes here\\ncrash_data['BEAT_TWO_DIGIT'] = crash_data['BEAT_FILLED'].apply(lambda x: x[:2])\";\n",
       "                var nbb_formatted_code = \"# answer goes here\\ncrash_data[\\\"BEAT_TWO_DIGIT\\\"] = crash_data[\\\"BEAT_FILLED\\\"].apply(lambda x: x[:2])\";\n",
       "                var nbb_cells = Jupyter.notebook.get_cells();\n",
       "                for (var i = 0; i < nbb_cells.length; ++i) {\n",
       "                    if (nbb_cells[i].input_prompt_number == nbb_cell_id) {\n",
       "                        if (nbb_cells[i].get_text() == nbb_unformatted_code) {\n",
       "                             nbb_cells[i].set_text(nbb_formatted_code);\n",
       "                        }\n",
       "                        break;\n",
       "                    }\n",
       "                }\n",
       "            }, 500);\n",
       "            "
      ],
      "text/plain": [
       "<IPython.core.display.Javascript object>"
      ]
     },
     "metadata": {},
     "output_type": "display_data"
    },
    {
     "data": {
      "application/javascript": [
       "\n",
       "            setTimeout(function() {\n",
       "                var nbb_cell_id = 77;\n",
       "                var nbb_unformatted_code = \"# answer goes here\\ncrash_data['BEAT_TWO_DIGIT'] = crash_data['BEAT_FILLED'].apply(lambda x: x[:2])\";\n",
       "                var nbb_formatted_code = \"# answer goes here\\ncrash_data[\\\"BEAT_TWO_DIGIT\\\"] = crash_data[\\\"BEAT_FILLED\\\"].apply(lambda x: x[:2])\";\n",
       "                var nbb_cells = Jupyter.notebook.get_cells();\n",
       "                for (var i = 0; i < nbb_cells.length; ++i) {\n",
       "                    if (nbb_cells[i].input_prompt_number == nbb_cell_id) {\n",
       "                        if (nbb_cells[i].get_text() == nbb_unformatted_code) {\n",
       "                             nbb_cells[i].set_text(nbb_formatted_code);\n",
       "                        }\n",
       "                        break;\n",
       "                    }\n",
       "                }\n",
       "            }, 500);\n",
       "            "
      ],
      "text/plain": [
       "<IPython.core.display.Javascript object>"
      ]
     },
     "metadata": {},
     "output_type": "display_data"
    },
    {
     "data": {
      "application/javascript": [
       "\n",
       "            setTimeout(function() {\n",
       "                var nbb_cell_id = 77;\n",
       "                var nbb_unformatted_code = \"# answer goes here\\ncrash_data['BEAT_TWO_DIGIT'] = crash_data['BEAT_FILLED'].apply(lambda x: x[:2])\";\n",
       "                var nbb_formatted_code = \"# answer goes here\\ncrash_data[\\\"BEAT_TWO_DIGIT\\\"] = crash_data[\\\"BEAT_FILLED\\\"].apply(lambda x: x[:2])\";\n",
       "                var nbb_cells = Jupyter.notebook.get_cells();\n",
       "                for (var i = 0; i < nbb_cells.length; ++i) {\n",
       "                    if (nbb_cells[i].input_prompt_number == nbb_cell_id) {\n",
       "                        if (nbb_cells[i].get_text() == nbb_unformatted_code) {\n",
       "                             nbb_cells[i].set_text(nbb_formatted_code);\n",
       "                        }\n",
       "                        break;\n",
       "                    }\n",
       "                }\n",
       "            }, 500);\n",
       "            "
      ],
      "text/plain": [
       "<IPython.core.display.Javascript object>"
      ]
     },
     "metadata": {},
     "output_type": "display_data"
    }
   ],
   "source": [
    "# answer goes here\n",
    "crash_data['BEAT_TWO_DIGIT'] = crash_data['BEAT_FILLED'].apply(lambda x: x[:2])\n",
    "\n"
   ]
  },
  {
   "cell_type": "code",
   "execution_count": 78,
   "metadata": {},
   "outputs": [
    {
     "data": {
      "text/plain": [
       "0         01\n",
       "1         06\n",
       "2         03\n",
       "3         18\n",
       "4         19\n",
       "          ..\n",
       "372580    08\n",
       "372581    16\n",
       "372582    05\n",
       "372583    17\n",
       "372584    10\n",
       "Name: BEAT_TWO_DIGIT, Length: 372585, dtype: object"
      ]
     },
     "execution_count": 78,
     "metadata": {},
     "output_type": "execute_result"
    },
    {
     "data": {
      "application/javascript": [
       "\n",
       "            setTimeout(function() {\n",
       "                var nbb_cell_id = 78;\n",
       "                var nbb_unformatted_code = \"crash_data.BEAT_TWO_DIGIT\";\n",
       "                var nbb_formatted_code = \"crash_data.BEAT_TWO_DIGIT\";\n",
       "                var nbb_cells = Jupyter.notebook.get_cells();\n",
       "                for (var i = 0; i < nbb_cells.length; ++i) {\n",
       "                    if (nbb_cells[i].input_prompt_number == nbb_cell_id) {\n",
       "                        if (nbb_cells[i].get_text() == nbb_unformatted_code) {\n",
       "                             nbb_cells[i].set_text(nbb_formatted_code);\n",
       "                        }\n",
       "                        break;\n",
       "                    }\n",
       "                }\n",
       "            }, 500);\n",
       "            "
      ],
      "text/plain": [
       "<IPython.core.display.Javascript object>"
      ]
     },
     "metadata": {},
     "output_type": "display_data"
    },
    {
     "data": {
      "application/javascript": [
       "\n",
       "            setTimeout(function() {\n",
       "                var nbb_cell_id = 78;\n",
       "                var nbb_unformatted_code = \"crash_data.BEAT_TWO_DIGIT\";\n",
       "                var nbb_formatted_code = \"crash_data.BEAT_TWO_DIGIT\";\n",
       "                var nbb_cells = Jupyter.notebook.get_cells();\n",
       "                for (var i = 0; i < nbb_cells.length; ++i) {\n",
       "                    if (nbb_cells[i].input_prompt_number == nbb_cell_id) {\n",
       "                        if (nbb_cells[i].get_text() == nbb_unformatted_code) {\n",
       "                             nbb_cells[i].set_text(nbb_formatted_code);\n",
       "                        }\n",
       "                        break;\n",
       "                    }\n",
       "                }\n",
       "            }, 500);\n",
       "            "
      ],
      "text/plain": [
       "<IPython.core.display.Javascript object>"
      ]
     },
     "metadata": {},
     "output_type": "display_data"
    },
    {
     "data": {
      "application/javascript": [
       "\n",
       "            setTimeout(function() {\n",
       "                var nbb_cell_id = 78;\n",
       "                var nbb_unformatted_code = \"crash_data.BEAT_TWO_DIGIT\";\n",
       "                var nbb_formatted_code = \"crash_data.BEAT_TWO_DIGIT\";\n",
       "                var nbb_cells = Jupyter.notebook.get_cells();\n",
       "                for (var i = 0; i < nbb_cells.length; ++i) {\n",
       "                    if (nbb_cells[i].input_prompt_number == nbb_cell_id) {\n",
       "                        if (nbb_cells[i].get_text() == nbb_unformatted_code) {\n",
       "                             nbb_cells[i].set_text(nbb_formatted_code);\n",
       "                        }\n",
       "                        break;\n",
       "                    }\n",
       "                }\n",
       "            }, 500);\n",
       "            "
      ],
      "text/plain": [
       "<IPython.core.display.Javascript object>"
      ]
     },
     "metadata": {},
     "output_type": "display_data"
    },
    {
     "data": {
      "application/javascript": [
       "\n",
       "            setTimeout(function() {\n",
       "                var nbb_cell_id = 78;\n",
       "                var nbb_unformatted_code = \"crash_data.BEAT_TWO_DIGIT\";\n",
       "                var nbb_formatted_code = \"crash_data.BEAT_TWO_DIGIT\";\n",
       "                var nbb_cells = Jupyter.notebook.get_cells();\n",
       "                for (var i = 0; i < nbb_cells.length; ++i) {\n",
       "                    if (nbb_cells[i].input_prompt_number == nbb_cell_id) {\n",
       "                        if (nbb_cells[i].get_text() == nbb_unformatted_code) {\n",
       "                             nbb_cells[i].set_text(nbb_formatted_code);\n",
       "                        }\n",
       "                        break;\n",
       "                    }\n",
       "                }\n",
       "            }, 500);\n",
       "            "
      ],
      "text/plain": [
       "<IPython.core.display.Javascript object>"
      ]
     },
     "metadata": {},
     "output_type": "display_data"
    },
    {
     "data": {
      "application/javascript": [
       "\n",
       "            setTimeout(function() {\n",
       "                var nbb_cell_id = 78;\n",
       "                var nbb_unformatted_code = \"crash_data.BEAT_TWO_DIGIT\";\n",
       "                var nbb_formatted_code = \"crash_data.BEAT_TWO_DIGIT\";\n",
       "                var nbb_cells = Jupyter.notebook.get_cells();\n",
       "                for (var i = 0; i < nbb_cells.length; ++i) {\n",
       "                    if (nbb_cells[i].input_prompt_number == nbb_cell_id) {\n",
       "                        if (nbb_cells[i].get_text() == nbb_unformatted_code) {\n",
       "                             nbb_cells[i].set_text(nbb_formatted_code);\n",
       "                        }\n",
       "                        break;\n",
       "                    }\n",
       "                }\n",
       "            }, 500);\n",
       "            "
      ],
      "text/plain": [
       "<IPython.core.display.Javascript object>"
      ]
     },
     "metadata": {},
     "output_type": "display_data"
    }
   ],
   "source": []
  },
  {
   "cell_type": "code",
   "execution_count": null,
   "metadata": {},
   "outputs": [],
   "source": []
  }
 ],
 "metadata": {
  "colab": {
   "collapsed_sections": [],
   "name": "Day 22 Lecture 2 Assignment.ipynb",
   "provenance": []
  },
  "kernelspec": {
   "display_name": "Python 3",
   "language": "python",
   "name": "python3"
  },
  "language_info": {
   "codemirror_mode": {
    "name": "ipython",
    "version": 3
   },
   "file_extension": ".py",
   "mimetype": "text/x-python",
   "name": "python",
   "nbconvert_exporter": "python",
   "pygments_lexer": "ipython3",
   "version": "3.7.6"
  }
 },
 "nbformat": 4,
 "nbformat_minor": 1
}
