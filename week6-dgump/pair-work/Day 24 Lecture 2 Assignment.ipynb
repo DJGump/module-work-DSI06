{
 "cells": [
  {
   "cell_type": "markdown",
   "metadata": {
    "colab_type": "text",
    "id": "q7OBYmw2rsHe"
   },
   "source": [
    "## Day 24 Lecture 2 Assignment\n",
    "\n",
    "In this assignment, we will build our a more complex logistic regression model, this time on both numeric and categorical data. We will use the Chicago traffic crashes dataset loaded below and analyze the model generated for this dataset."
   ]
  },
  {
   "cell_type": "code",
   "execution_count": 1,
   "metadata": {
    "colab": {},
    "colab_type": "code",
    "id": "u3rUv9PKrsHf"
   },
   "outputs": [],
   "source": [
    "%matplotlib inline\n",
    "\n",
    "import matplotlib.pyplot as plt\n",
    "import seaborn as sns\n",
    "\n",
    "import numpy as np\n",
    "import pandas as pd\n",
    "\n",
    "import statsmodels.api as sm\n",
    "from sklearn.linear_model import LogisticRegression\n",
    "from sklearn.model_selection import train_test_split\n",
    "from sklearn.metrics import confusion_matrix\n",
    "from sklearn.calibration import calibration_curve\n",
    "\n"
   ]
  },
  {
   "cell_type": "code",
   "execution_count": 2,
   "metadata": {
    "colab": {},
    "colab_type": "code",
    "id": "cJ-qRkctUvv6"
   },
   "outputs": [],
   "source": [
    "def missingness_summary(df, print_log=False, sort='none'):\n",
    "    summary = df.apply(lambda x: x.isna().sum() / x.shape[0])\n",
    "    \n",
    "    if print_log == True:\n",
    "        if sort == 'none':\n",
    "            print(summary)\n",
    "        elif sort == 'ascending':\n",
    "            print(summary.sort_values())\n",
    "        elif sort == 'descending':\n",
    "            print(summary.sort_values(ascending=False))\n",
    "        else:\n",
    "            print('Invalid value for sort parameter.')\n",
    "        \n",
    "    return summary"
   ]
  },
  {
   "cell_type": "code",
   "execution_count": 3,
   "metadata": {
    "colab": {},
    "colab_type": "code",
    "id": "V_hlXXYwrsHh"
   },
   "outputs": [],
   "source": [
    "crash_data = pd.read_csv('https://tf-assets-prod.s3.amazonaws.com/tf-curric/data-science/traffic_crashes_chicago.csv')"
   ]
  },
  {
   "cell_type": "code",
   "execution_count": 4,
   "metadata": {
    "colab": {
     "base_uri": "https://localhost:8080/",
     "height": 306
    },
    "colab_type": "code",
    "executionInfo": {
     "elapsed": 2214,
     "status": "ok",
     "timestamp": 1573181563472,
     "user": {
      "displayName": "Mike Swirsky",
      "photoUrl": "https://lh3.googleusercontent.com/a-/AAuE7mAEvj_9k9NYcdWSI5G-tvxoZDUz8RATiP7-zeMD=s64",
      "userId": "09733430627481200667"
     },
     "user_tz": 480
    },
    "id": "bJV8A_OQrsHj",
    "outputId": "9a64e2c5-a17c-429d-f55a-8bc72ce72a75"
   },
   "outputs": [
    {
     "data": {
      "text/plain": [
       "OVER $1,500      209921\n",
       "$501 - $1,500    112592\n",
       "$500 OR LESS      50072\n",
       "Name: DAMAGE, dtype: int64"
      ]
     },
     "execution_count": 4,
     "metadata": {},
     "output_type": "execute_result"
    }
   ],
   "source": [
    "crash_data['DAMAGE'].value_counts()\n",
    "\n"
   ]
  },
  {
   "cell_type": "markdown",
   "metadata": {
    "colab_type": "text",
    "id": "I7kel3hRUvwA"
   },
   "source": [
    "First, create a binary response column by modifying the \"DAMAGE\" column. Consider \"OVER \\$1500\" to be the positive class, and under \\$1500 to be the negative class."
   ]
  },
  {
   "cell_type": "code",
   "execution_count": 5,
   "metadata": {
    "colab": {},
    "colab_type": "code",
    "id": "lVXRdsWPUvwB"
   },
   "outputs": [
    {
     "data": {
      "text/plain": [
       "0         1\n",
       "1         1\n",
       "2         0\n",
       "3         0\n",
       "4         0\n",
       "         ..\n",
       "372580    0\n",
       "372581    1\n",
       "372582    1\n",
       "372583    1\n",
       "372584    1\n",
       "Name: is_1500+, Length: 372585, dtype: int32"
      ]
     },
     "execution_count": 5,
     "metadata": {},
     "output_type": "execute_result"
    }
   ],
   "source": [
    "# answer goes here\n",
    "crash_data['is_1500+'] = (crash_data['DAMAGE'] == 'OVER $1,500').astype(int)\n",
    "crash_data['is_1500+']\n",
    "\n"
   ]
  },
  {
   "cell_type": "markdown",
   "metadata": {
    "colab_type": "text",
    "id": "5QQUxRPMrsHl"
   },
   "source": [
    "Using the code from Day 21, Lecture 1 as a starting point, devise an appropriate way to address missing values. You have a lot of freedom here; we will proceed by taking the following steps:\n",
    "\n",
    "- Dropping all columns with more than 5% missing data\n",
    "- Imputing the median for numeric columns with less than 5% missing data (except for STREET_NO; imputing it in this manner would not make any sense)\n",
    "- Dropping rows with missing data for categorical columns that have less than 5% missing data"
   ]
  },
  {
   "cell_type": "code",
   "execution_count": 6,
   "metadata": {},
   "outputs": [
    {
     "data": {
      "text/plain": [
       "RD_NO                            0.000000\n",
       "CRASH_DATE                       0.000000\n",
       "POSTED_SPEED_LIMIT               0.000000\n",
       "TRAFFIC_CONTROL_DEVICE           0.000000\n",
       "DEVICE_CONDITION                 0.000000\n",
       "WEATHER_CONDITION                0.000000\n",
       "LIGHTING_CONDITION               0.000000\n",
       "FIRST_CRASH_TYPE                 0.000000\n",
       "TRAFFICWAY_TYPE                  0.000000\n",
       "LANE_CNT                         0.467107\n",
       "ALIGNMENT                        0.000000\n",
       "ROADWAY_SURFACE_COND             0.000000\n",
       "ROAD_DEFECT                      0.000000\n",
       "REPORT_TYPE                      0.023012\n",
       "CRASH_TYPE                       0.000000\n",
       "INTERSECTION_RELATED_I           0.779457\n",
       "NOT_RIGHT_OF_WAY_I               0.953917\n",
       "HIT_AND_RUN_I                    0.722423\n",
       "DAMAGE                           0.000000\n",
       "DATE_POLICE_NOTIFIED             0.000000\n",
       "PRIM_CONTRIBUTORY_CAUSE          0.000000\n",
       "SEC_CONTRIBUTORY_CAUSE           0.000000\n",
       "STREET_NO                        0.000000\n",
       "STREET_DIRECTION                 0.000005\n",
       "STREET_NAME                      0.000003\n",
       "BEAT_OF_OCCURRENCE               0.000011\n",
       "PHOTOS_TAKEN_I                   0.987318\n",
       "STATEMENTS_TAKEN_I               0.979760\n",
       "DOORING_I                        0.996616\n",
       "WORK_ZONE_I                      0.992933\n",
       "WORK_ZONE_TYPE                   0.994391\n",
       "WORKERS_PRESENT_I                0.998352\n",
       "NUM_UNITS                        0.003755\n",
       "MOST_SEVERE_INJURY               0.005795\n",
       "INJURIES_TOTAL                   0.005776\n",
       "INJURIES_FATAL                   0.005776\n",
       "INJURIES_INCAPACITATING          0.005776\n",
       "INJURIES_NON_INCAPACITATING      0.005776\n",
       "INJURIES_REPORTED_NOT_EVIDENT    0.005776\n",
       "INJURIES_NO_INDICATION           0.005776\n",
       "INJURIES_UNKNOWN                 0.005776\n",
       "is_1500+                         0.000000\n",
       "dtype: float64"
      ]
     },
     "execution_count": 6,
     "metadata": {},
     "output_type": "execute_result"
    }
   ],
   "source": [
    "crash_data.isna().mean()"
   ]
  },
  {
   "cell_type": "code",
   "execution_count": 7,
   "metadata": {},
   "outputs": [
    {
     "name": "stdout",
     "output_type": "stream",
     "text": [
      "<class 'pandas.core.frame.DataFrame'>\n",
      "RangeIndex: 372585 entries, 0 to 372584\n",
      "Data columns (total 42 columns):\n",
      " #   Column                         Non-Null Count   Dtype  \n",
      "---  ------                         --------------   -----  \n",
      " 0   RD_NO                          372585 non-null  object \n",
      " 1   CRASH_DATE                     372585 non-null  object \n",
      " 2   POSTED_SPEED_LIMIT             372585 non-null  int64  \n",
      " 3   TRAFFIC_CONTROL_DEVICE         372585 non-null  object \n",
      " 4   DEVICE_CONDITION               372585 non-null  object \n",
      " 5   WEATHER_CONDITION              372585 non-null  object \n",
      " 6   LIGHTING_CONDITION             372585 non-null  object \n",
      " 7   FIRST_CRASH_TYPE               372585 non-null  object \n",
      " 8   TRAFFICWAY_TYPE                372585 non-null  object \n",
      " 9   LANE_CNT                       198548 non-null  float64\n",
      " 10  ALIGNMENT                      372585 non-null  object \n",
      " 11  ROADWAY_SURFACE_COND           372585 non-null  object \n",
      " 12  ROAD_DEFECT                    372585 non-null  object \n",
      " 13  REPORT_TYPE                    364011 non-null  object \n",
      " 14  CRASH_TYPE                     372585 non-null  object \n",
      " 15  INTERSECTION_RELATED_I         82171 non-null   object \n",
      " 16  NOT_RIGHT_OF_WAY_I             17170 non-null   object \n",
      " 17  HIT_AND_RUN_I                  103421 non-null  object \n",
      " 18  DAMAGE                         372585 non-null  object \n",
      " 19  DATE_POLICE_NOTIFIED           372585 non-null  object \n",
      " 20  PRIM_CONTRIBUTORY_CAUSE        372585 non-null  object \n",
      " 21  SEC_CONTRIBUTORY_CAUSE         372585 non-null  object \n",
      " 22  STREET_NO                      372585 non-null  int64  \n",
      " 23  STREET_DIRECTION               372583 non-null  object \n",
      " 24  STREET_NAME                    372584 non-null  object \n",
      " 25  BEAT_OF_OCCURRENCE             372581 non-null  float64\n",
      " 26  PHOTOS_TAKEN_I                 4725 non-null    object \n",
      " 27  STATEMENTS_TAKEN_I             7541 non-null    object \n",
      " 28  DOORING_I                      1261 non-null    object \n",
      " 29  WORK_ZONE_I                    2633 non-null    object \n",
      " 30  WORK_ZONE_TYPE                 2090 non-null    object \n",
      " 31  WORKERS_PRESENT_I              614 non-null     object \n",
      " 32  NUM_UNITS                      371186 non-null  float64\n",
      " 33  MOST_SEVERE_INJURY             370426 non-null  object \n",
      " 34  INJURIES_TOTAL                 370433 non-null  float64\n",
      " 35  INJURIES_FATAL                 370433 non-null  float64\n",
      " 36  INJURIES_INCAPACITATING        370433 non-null  float64\n",
      " 37  INJURIES_NON_INCAPACITATING    370433 non-null  float64\n",
      " 38  INJURIES_REPORTED_NOT_EVIDENT  370433 non-null  float64\n",
      " 39  INJURIES_NO_INDICATION         370433 non-null  float64\n",
      " 40  INJURIES_UNKNOWN               370433 non-null  float64\n",
      " 41  is_1500+                       372585 non-null  int32  \n",
      "dtypes: float64(10), int32(1), int64(2), object(29)\n",
      "memory usage: 118.0+ MB\n"
     ]
    }
   ],
   "source": [
    "col_list_missing = []\n",
    "for col in crash_data:\n",
    "    if crash_data[col].isna().mean() >= 0.05:\n",
    "        col_list_missing.append(col)\n",
    "crash_data.info()\n"
   ]
  },
  {
   "cell_type": "code",
   "execution_count": 8,
   "metadata": {
    "colab": {},
    "colab_type": "code",
    "id": "X7DmjvgXrsHl"
   },
   "outputs": [
    {
     "data": {
      "text/plain": [
       "['LANE_CNT',\n",
       " 'INTERSECTION_RELATED_I',\n",
       " 'NOT_RIGHT_OF_WAY_I',\n",
       " 'HIT_AND_RUN_I',\n",
       " 'PHOTOS_TAKEN_I',\n",
       " 'STATEMENTS_TAKEN_I',\n",
       " 'DOORING_I',\n",
       " 'WORK_ZONE_I',\n",
       " 'WORK_ZONE_TYPE',\n",
       " 'WORKERS_PRESENT_I']"
      ]
     },
     "execution_count": 8,
     "metadata": {},
     "output_type": "execute_result"
    }
   ],
   "source": [
    "# answer goes here\n",
    "crash_data = crash_data.drop(columns=col_list_missing, axis=1)\n",
    "col_list_missing"
   ]
  },
  {
   "cell_type": "code",
   "execution_count": 9,
   "metadata": {},
   "outputs": [
    {
     "data": {
      "text/plain": [
       "RD_NO                            0\n",
       "CRASH_DATE                       0\n",
       "POSTED_SPEED_LIMIT               0\n",
       "TRAFFIC_CONTROL_DEVICE           0\n",
       "DEVICE_CONDITION                 0\n",
       "WEATHER_CONDITION                0\n",
       "LIGHTING_CONDITION               0\n",
       "FIRST_CRASH_TYPE                 0\n",
       "TRAFFICWAY_TYPE                  0\n",
       "ALIGNMENT                        0\n",
       "ROADWAY_SURFACE_COND             0\n",
       "ROAD_DEFECT                      0\n",
       "REPORT_TYPE                      0\n",
       "CRASH_TYPE                       0\n",
       "DAMAGE                           0\n",
       "DATE_POLICE_NOTIFIED             0\n",
       "PRIM_CONTRIBUTORY_CAUSE          0\n",
       "SEC_CONTRIBUTORY_CAUSE           0\n",
       "STREET_NO                        0\n",
       "STREET_DIRECTION                 0\n",
       "STREET_NAME                      0\n",
       "BEAT_OF_OCCURRENCE               0\n",
       "NUM_UNITS                        0\n",
       "MOST_SEVERE_INJURY               0\n",
       "INJURIES_TOTAL                   0\n",
       "INJURIES_FATAL                   0\n",
       "INJURIES_INCAPACITATING          0\n",
       "INJURIES_NON_INCAPACITATING      0\n",
       "INJURIES_REPORTED_NOT_EVIDENT    0\n",
       "INJURIES_NO_INDICATION           0\n",
       "INJURIES_UNKNOWN                 0\n",
       "is_1500+                         0\n",
       "dtype: int64"
      ]
     },
     "execution_count": 9,
     "metadata": {},
     "output_type": "execute_result"
    }
   ],
   "source": [
    "crash_data = crash_data.dropna()\n",
    "crash_data.isna().sum()"
   ]
  },
  {
   "cell_type": "markdown",
   "metadata": {
    "colab_type": "text",
    "id": "M66r2mytUvwF"
   },
   "source": [
    "Finally, choose a few numeric and categorical features (2-3 of each) to include in the model. (You can definitely include more than this, but too many features, especially categorical ones, will most likely lead to convergence issues). One hot encode the chosen categorical features, being sure to omit one of the categories (which will serve as a \"reference\" level) to avoid perfect multicollinearity.\n",
    "\n",
    "Again, you have a lot of freedom here; we will proceed with the following features, dropping the most commonly occurring category for the two categorical variables (\"CLEAR\" for weather, \"REAR END\" for first crash type):\n",
    "POSTED_SPEED_LIMIT, WEATHER_CONDITION, INJURIES_TOTAL, FIRST_CRASH_TYPE"
   ]
  },
  {
   "cell_type": "code",
   "execution_count": 10,
   "metadata": {
    "colab": {},
    "colab_type": "code",
    "id": "ja_Vaq2CUvwF"
   },
   "outputs": [],
   "source": [
    "# answer goes here\n",
    "feat_col = ['POSTED_SPEED_LIMIT', 'WEATHER_CONDITION', 'INJURIES_TOTAL', 'FIRST_CRASH_TYPE', 'is_1500+']\n",
    "crash = crash_data[feat_col]\n",
    "crash = crash[crash['WEATHER_CONDITION'] != 'CLEAR']\n",
    "crash = crash[crash['FIRST_CRASH_TYPE'] != 'REAR END']"
   ]
  },
  {
   "cell_type": "code",
   "execution_count": 11,
   "metadata": {},
   "outputs": [],
   "source": [
    "crash = pd.get_dummies(crash, columns=['WEATHER_CONDITION', 'FIRST_CRASH_TYPE'])"
   ]
  },
  {
   "cell_type": "code",
   "execution_count": null,
   "metadata": {},
   "outputs": [],
   "source": []
  },
  {
   "cell_type": "markdown",
   "metadata": {
    "colab_type": "text",
    "id": "zRuNJsTSrsHn"
   },
   "source": [
    "Split the data into train and test, with 80% training and 20% testing. By default, the LR output from statsmodels does not include an intercept terms; add a constant column to the training data so that an intercept term is calculated for the LR model (hint: sm.add_constant() is a useful function to accomplish this)."
   ]
  },
  {
   "cell_type": "code",
   "execution_count": 13,
   "metadata": {
    "colab": {},
    "colab_type": "code",
    "id": "fhpHIZBjrsHn"
   },
   "outputs": [],
   "source": [
    "# answer goes here\n",
    "X = crash.drop(columns=['is_1500+'])\n",
    "y = crash['is_1500+']\n",
    "\n",
    "X_train, X_test, y_train, y_test = train_test_split(X, y, test_size=0.2, random_state=42)\n",
    "\n"
   ]
  },
  {
   "cell_type": "code",
   "execution_count": 14,
   "metadata": {},
   "outputs": [
    {
     "data": {
      "text/plain": [
       "10        1\n",
       "18        1\n",
       "21        0\n",
       "22        0\n",
       "26        0\n",
       "         ..\n",
       "372534    1\n",
       "372541    1\n",
       "372544    1\n",
       "372545    1\n",
       "372559    0\n",
       "Name: is_1500+, Length: 56321, dtype: int32"
      ]
     },
     "execution_count": 14,
     "metadata": {},
     "output_type": "execute_result"
    }
   ],
   "source": [
    "y"
   ]
  },
  {
   "cell_type": "code",
   "execution_count": 15,
   "metadata": {},
   "outputs": [
    {
     "data": {
      "text/html": [
       "<div>\n",
       "<style scoped>\n",
       "    .dataframe tbody tr th:only-of-type {\n",
       "        vertical-align: middle;\n",
       "    }\n",
       "\n",
       "    .dataframe tbody tr th {\n",
       "        vertical-align: top;\n",
       "    }\n",
       "\n",
       "    .dataframe thead th {\n",
       "        text-align: right;\n",
       "    }\n",
       "</style>\n",
       "<table border=\"1\" class=\"dataframe\">\n",
       "  <thead>\n",
       "    <tr style=\"text-align: right;\">\n",
       "      <th></th>\n",
       "      <th>variable</th>\n",
       "      <th>value</th>\n",
       "    </tr>\n",
       "  </thead>\n",
       "  <tbody>\n",
       "    <tr>\n",
       "      <th>0</th>\n",
       "      <td>POSTED_SPEED_LIMIT</td>\n",
       "      <td>30.0</td>\n",
       "    </tr>\n",
       "    <tr>\n",
       "      <th>1</th>\n",
       "      <td>POSTED_SPEED_LIMIT</td>\n",
       "      <td>25.0</td>\n",
       "    </tr>\n",
       "    <tr>\n",
       "      <th>2</th>\n",
       "      <td>POSTED_SPEED_LIMIT</td>\n",
       "      <td>30.0</td>\n",
       "    </tr>\n",
       "    <tr>\n",
       "      <th>3</th>\n",
       "      <td>POSTED_SPEED_LIMIT</td>\n",
       "      <td>30.0</td>\n",
       "    </tr>\n",
       "    <tr>\n",
       "      <th>4</th>\n",
       "      <td>POSTED_SPEED_LIMIT</td>\n",
       "      <td>25.0</td>\n",
       "    </tr>\n",
       "    <tr>\n",
       "      <th>...</th>\n",
       "      <td>...</td>\n",
       "      <td>...</td>\n",
       "    </tr>\n",
       "    <tr>\n",
       "      <th>1633304</th>\n",
       "      <td>FIRST_CRASH_TYPE_TURNING</td>\n",
       "      <td>1.0</td>\n",
       "    </tr>\n",
       "    <tr>\n",
       "      <th>1633305</th>\n",
       "      <td>FIRST_CRASH_TYPE_TURNING</td>\n",
       "      <td>0.0</td>\n",
       "    </tr>\n",
       "    <tr>\n",
       "      <th>1633306</th>\n",
       "      <td>FIRST_CRASH_TYPE_TURNING</td>\n",
       "      <td>1.0</td>\n",
       "    </tr>\n",
       "    <tr>\n",
       "      <th>1633307</th>\n",
       "      <td>FIRST_CRASH_TYPE_TURNING</td>\n",
       "      <td>0.0</td>\n",
       "    </tr>\n",
       "    <tr>\n",
       "      <th>1633308</th>\n",
       "      <td>FIRST_CRASH_TYPE_TURNING</td>\n",
       "      <td>0.0</td>\n",
       "    </tr>\n",
       "  </tbody>\n",
       "</table>\n",
       "<p>1633309 rows × 2 columns</p>\n",
       "</div>"
      ],
      "text/plain": [
       "                         variable  value\n",
       "0              POSTED_SPEED_LIMIT   30.0\n",
       "1              POSTED_SPEED_LIMIT   25.0\n",
       "2              POSTED_SPEED_LIMIT   30.0\n",
       "3              POSTED_SPEED_LIMIT   30.0\n",
       "4              POSTED_SPEED_LIMIT   25.0\n",
       "...                           ...    ...\n",
       "1633304  FIRST_CRASH_TYPE_TURNING    1.0\n",
       "1633305  FIRST_CRASH_TYPE_TURNING    0.0\n",
       "1633306  FIRST_CRASH_TYPE_TURNING    1.0\n",
       "1633307  FIRST_CRASH_TYPE_TURNING    0.0\n",
       "1633308  FIRST_CRASH_TYPE_TURNING    0.0\n",
       "\n",
       "[1633309 rows x 2 columns]"
      ]
     },
     "execution_count": 15,
     "metadata": {},
     "output_type": "execute_result"
    }
   ],
   "source": [
    "X.melt()"
   ]
  },
  {
   "cell_type": "code",
   "execution_count": 16,
   "metadata": {},
   "outputs": [
    {
     "data": {
      "text/plain": [
       "<matplotlib.axes._subplots.AxesSubplot at 0x26e34a2ccc8>"
      ]
     },
     "execution_count": 16,
     "metadata": {},
     "output_type": "execute_result"
    },
    {
     "data": {
      "image/png": "[encoded data removed]",
      "text/plain": [
       "<Figure size 432x288 with 1 Axes>"
      ]
     },
     "metadata": {
      "needs_background": "light"
     },
     "output_type": "display_data"
    }
   ],
   "source": [
    "sns.boxplot('value', 'variable', data=X.select_dtypes(include='number').melt())"
   ]
  },
  {
   "cell_type": "markdown",
   "metadata": {
    "colab_type": "text",
    "id": "ggXxmOLTrsHq"
   },
   "source": [
    "Fit the logistic regression model using the statsmodels package and print out the coefficient summary. Which variables (in particular, which categories of our categorical variables) appear to be the most important, and what effect do they have on the probability of a crash resulting in $1500 or more in damages?"
   ]
  },
  {
   "cell_type": "code",
   "execution_count": null,
   "metadata": {},
   "outputs": [],
   "source": []
  },
  {
   "cell_type": "code",
   "execution_count": 17,
   "metadata": {
    "colab": {},
    "colab_type": "code",
    "id": "7pFgRLNErsHq"
   },
   "outputs": [
    {
     "data": {
      "text/plain": [
       "LogisticRegression(C=1.0, class_weight=None, dual=False, fit_intercept=True,\n",
       "                   intercept_scaling=1, l1_ratio=None, max_iter=1000,\n",
       "                   multi_class='auto', n_jobs=None, penalty='l2',\n",
       "                   random_state=None, solver='lbfgs', tol=0.0001, verbose=0,\n",
       "                   warm_start=False)"
      ]
     },
     "execution_count": 17,
     "metadata": {},
     "output_type": "execute_result"
    }
   ],
   "source": [
    "# answer goes here\n",
    "model = LogisticRegression(max_iter=1000)\n",
    "\n",
    "model.fit(X_train, y_train)"
   ]
  },
  {
   "cell_type": "code",
   "execution_count": 18,
   "metadata": {},
   "outputs": [
    {
     "data": {
      "text/plain": [
       "0.6268421519886364"
      ]
     },
     "execution_count": 18,
     "metadata": {},
     "output_type": "execute_result"
    }
   ],
   "source": [
    "model.score(X_train, y_train)"
   ]
  },
  {
   "cell_type": "code",
   "execution_count": 19,
   "metadata": {},
   "outputs": [
    {
     "data": {
      "text/plain": [
       "0.6200621393697292"
      ]
     },
     "execution_count": 19,
     "metadata": {},
     "output_type": "execute_result"
    }
   ],
   "source": [
    "model.score(X_test, y_test)"
   ]
  },
  {
   "cell_type": "code",
   "execution_count": 20,
   "metadata": {},
   "outputs": [
    {
     "data": {
      "text/html": [
       "<div>\n",
       "<style scoped>\n",
       "    .dataframe tbody tr th:only-of-type {\n",
       "        vertical-align: middle;\n",
       "    }\n",
       "\n",
       "    .dataframe tbody tr th {\n",
       "        vertical-align: top;\n",
       "    }\n",
       "\n",
       "    .dataframe thead th {\n",
       "        text-align: right;\n",
       "    }\n",
       "</style>\n",
       "<table border=\"1\" class=\"dataframe\">\n",
       "  <thead>\n",
       "    <tr style=\"text-align: right;\">\n",
       "      <th></th>\n",
       "      <th>0</th>\n",
       "    </tr>\n",
       "  </thead>\n",
       "  <tbody>\n",
       "    <tr>\n",
       "      <th>POSTED_SPEED_LIMIT</th>\n",
       "      <td>0.014706</td>\n",
       "    </tr>\n",
       "    <tr>\n",
       "      <th>INJURIES_TOTAL</th>\n",
       "      <td>0.841523</td>\n",
       "    </tr>\n",
       "    <tr>\n",
       "      <th>WEATHER_CONDITION_BLOWING SNOW</th>\n",
       "      <td>-0.083811</td>\n",
       "    </tr>\n",
       "    <tr>\n",
       "      <th>WEATHER_CONDITION_CLOUDY/OVERCAST</th>\n",
       "      <td>-0.149785</td>\n",
       "    </tr>\n",
       "    <tr>\n",
       "      <th>WEATHER_CONDITION_FOG/SMOKE/HAZE</th>\n",
       "      <td>-0.011063</td>\n",
       "    </tr>\n",
       "    <tr>\n",
       "      <th>WEATHER_CONDITION_FREEZING RAIN/DRIZZLE</th>\n",
       "      <td>0.390454</td>\n",
       "    </tr>\n",
       "    <tr>\n",
       "      <th>WEATHER_CONDITION_OTHER</th>\n",
       "      <td>0.005648</td>\n",
       "    </tr>\n",
       "    <tr>\n",
       "      <th>WEATHER_CONDITION_RAIN</th>\n",
       "      <td>-0.128614</td>\n",
       "    </tr>\n",
       "    <tr>\n",
       "      <th>WEATHER_CONDITION_SEVERE CROSS WIND GATE</th>\n",
       "      <td>0.123626</td>\n",
       "    </tr>\n",
       "    <tr>\n",
       "      <th>WEATHER_CONDITION_SLEET/HAIL</th>\n",
       "      <td>-0.065373</td>\n",
       "    </tr>\n",
       "    <tr>\n",
       "      <th>WEATHER_CONDITION_SNOW</th>\n",
       "      <td>-0.108354</td>\n",
       "    </tr>\n",
       "    <tr>\n",
       "      <th>WEATHER_CONDITION_UNKNOWN</th>\n",
       "      <td>-0.123954</td>\n",
       "    </tr>\n",
       "    <tr>\n",
       "      <th>FIRST_CRASH_TYPE_ANGLE</th>\n",
       "      <td>0.705965</td>\n",
       "    </tr>\n",
       "    <tr>\n",
       "      <th>FIRST_CRASH_TYPE_ANIMAL</th>\n",
       "      <td>-0.046195</td>\n",
       "    </tr>\n",
       "    <tr>\n",
       "      <th>FIRST_CRASH_TYPE_FIXED OBJECT</th>\n",
       "      <td>0.717185</td>\n",
       "    </tr>\n",
       "    <tr>\n",
       "      <th>FIRST_CRASH_TYPE_HEAD ON</th>\n",
       "      <td>0.598797</td>\n",
       "    </tr>\n",
       "    <tr>\n",
       "      <th>FIRST_CRASH_TYPE_OTHER NONCOLLISION</th>\n",
       "      <td>-0.370469</td>\n",
       "    </tr>\n",
       "    <tr>\n",
       "      <th>FIRST_CRASH_TYPE_OTHER OBJECT</th>\n",
       "      <td>0.075711</td>\n",
       "    </tr>\n",
       "    <tr>\n",
       "      <th>FIRST_CRASH_TYPE_OVERTURNED</th>\n",
       "      <td>1.228533</td>\n",
       "    </tr>\n",
       "    <tr>\n",
       "      <th>FIRST_CRASH_TYPE_PARKED MOTOR VEHICLE</th>\n",
       "      <td>0.229632</td>\n",
       "    </tr>\n",
       "    <tr>\n",
       "      <th>FIRST_CRASH_TYPE_PEDALCYCLIST</th>\n",
       "      <td>-1.967817</td>\n",
       "    </tr>\n",
       "    <tr>\n",
       "      <th>FIRST_CRASH_TYPE_PEDESTRIAN</th>\n",
       "      <td>-1.844648</td>\n",
       "    </tr>\n",
       "    <tr>\n",
       "      <th>FIRST_CRASH_TYPE_REAR TO FRONT</th>\n",
       "      <td>-0.240725</td>\n",
       "    </tr>\n",
       "    <tr>\n",
       "      <th>FIRST_CRASH_TYPE_REAR TO REAR</th>\n",
       "      <td>0.208435</td>\n",
       "    </tr>\n",
       "    <tr>\n",
       "      <th>FIRST_CRASH_TYPE_REAR TO SIDE</th>\n",
       "      <td>-0.070858</td>\n",
       "    </tr>\n",
       "    <tr>\n",
       "      <th>FIRST_CRASH_TYPE_SIDESWIPE OPPOSITE DIRECTION</th>\n",
       "      <td>0.099716</td>\n",
       "    </tr>\n",
       "    <tr>\n",
       "      <th>FIRST_CRASH_TYPE_SIDESWIPE SAME DIRECTION</th>\n",
       "      <td>0.052434</td>\n",
       "    </tr>\n",
       "    <tr>\n",
       "      <th>FIRST_CRASH_TYPE_TRAIN</th>\n",
       "      <td>0.000000</td>\n",
       "    </tr>\n",
       "    <tr>\n",
       "      <th>FIRST_CRASH_TYPE_TURNING</th>\n",
       "      <td>0.473077</td>\n",
       "    </tr>\n",
       "  </tbody>\n",
       "</table>\n",
       "</div>"
      ],
      "text/plain": [
       "                                                      0\n",
       "POSTED_SPEED_LIMIT                             0.014706\n",
       "INJURIES_TOTAL                                 0.841523\n",
       "WEATHER_CONDITION_BLOWING SNOW                -0.083811\n",
       "WEATHER_CONDITION_CLOUDY/OVERCAST             -0.149785\n",
       "WEATHER_CONDITION_FOG/SMOKE/HAZE              -0.011063\n",
       "WEATHER_CONDITION_FREEZING RAIN/DRIZZLE        0.390454\n",
       "WEATHER_CONDITION_OTHER                        0.005648\n",
       "WEATHER_CONDITION_RAIN                        -0.128614\n",
       "WEATHER_CONDITION_SEVERE CROSS WIND GATE       0.123626\n",
       "WEATHER_CONDITION_SLEET/HAIL                  -0.065373\n",
       "WEATHER_CONDITION_SNOW                        -0.108354\n",
       "WEATHER_CONDITION_UNKNOWN                     -0.123954\n",
       "FIRST_CRASH_TYPE_ANGLE                         0.705965\n",
       "FIRST_CRASH_TYPE_ANIMAL                       -0.046195\n",
       "FIRST_CRASH_TYPE_FIXED OBJECT                  0.717185\n",
       "FIRST_CRASH_TYPE_HEAD ON                       0.598797\n",
       "FIRST_CRASH_TYPE_OTHER NONCOLLISION           -0.370469\n",
       "FIRST_CRASH_TYPE_OTHER OBJECT                  0.075711\n",
       "FIRST_CRASH_TYPE_OVERTURNED                    1.228533\n",
       "FIRST_CRASH_TYPE_PARKED MOTOR VEHICLE          0.229632\n",
       "FIRST_CRASH_TYPE_PEDALCYCLIST                 -1.967817\n",
       "FIRST_CRASH_TYPE_PEDESTRIAN                   -1.844648\n",
       "FIRST_CRASH_TYPE_REAR TO FRONT                -0.240725\n",
       "FIRST_CRASH_TYPE_REAR TO REAR                  0.208435\n",
       "FIRST_CRASH_TYPE_REAR TO SIDE                 -0.070858\n",
       "FIRST_CRASH_TYPE_SIDESWIPE OPPOSITE DIRECTION  0.099716\n",
       "FIRST_CRASH_TYPE_SIDESWIPE SAME DIRECTION      0.052434\n",
       "FIRST_CRASH_TYPE_TRAIN                         0.000000\n",
       "FIRST_CRASH_TYPE_TURNING                       0.473077"
      ]
     },
     "execution_count": 20,
     "metadata": {},
     "output_type": "execute_result"
    }
   ],
   "source": [
    "cols = X_train.columns\n",
    "coef_df = pd.DataFrame(data=model.coef_, columns=cols)\n",
    "coef_df.T"
   ]
  },
  {
   "cell_type": "markdown",
   "metadata": {
    "colab_type": "text",
    "id": "LyTGuO8KUvwM"
   },
   "source": [
    "As we did on the previous exercise, make predictions on the test set and join them to the corresponding true outcomes, then use the *calibration_curve* function in scikit learn to plot a calibration curve. Is the model well-calibrated?"
   ]
  },
  {
   "cell_type": "code",
   "execution_count": 21,
   "metadata": {},
   "outputs": [
    {
     "data": {
      "text/html": [
       "<div>\n",
       "<style scoped>\n",
       "    .dataframe tbody tr th:only-of-type {\n",
       "        vertical-align: middle;\n",
       "    }\n",
       "\n",
       "    .dataframe tbody tr th {\n",
       "        vertical-align: top;\n",
       "    }\n",
       "\n",
       "    .dataframe thead th {\n",
       "        text-align: right;\n",
       "    }\n",
       "</style>\n",
       "<table border=\"1\" class=\"dataframe\">\n",
       "  <thead>\n",
       "    <tr style=\"text-align: right;\">\n",
       "      <th></th>\n",
       "      <th>POSTED_SPEED_LIMIT</th>\n",
       "      <th>INJURIES_TOTAL</th>\n",
       "      <th>WEATHER_CONDITION_BLOWING SNOW</th>\n",
       "      <th>WEATHER_CONDITION_CLOUDY/OVERCAST</th>\n",
       "      <th>WEATHER_CONDITION_FOG/SMOKE/HAZE</th>\n",
       "      <th>WEATHER_CONDITION_FREEZING RAIN/DRIZZLE</th>\n",
       "      <th>WEATHER_CONDITION_OTHER</th>\n",
       "      <th>WEATHER_CONDITION_RAIN</th>\n",
       "      <th>WEATHER_CONDITION_SEVERE CROSS WIND GATE</th>\n",
       "      <th>WEATHER_CONDITION_SLEET/HAIL</th>\n",
       "      <th>...</th>\n",
       "      <th>FIRST_CRASH_TYPE_PARKED MOTOR VEHICLE</th>\n",
       "      <th>FIRST_CRASH_TYPE_PEDALCYCLIST</th>\n",
       "      <th>FIRST_CRASH_TYPE_PEDESTRIAN</th>\n",
       "      <th>FIRST_CRASH_TYPE_REAR TO FRONT</th>\n",
       "      <th>FIRST_CRASH_TYPE_REAR TO REAR</th>\n",
       "      <th>FIRST_CRASH_TYPE_REAR TO SIDE</th>\n",
       "      <th>FIRST_CRASH_TYPE_SIDESWIPE OPPOSITE DIRECTION</th>\n",
       "      <th>FIRST_CRASH_TYPE_SIDESWIPE SAME DIRECTION</th>\n",
       "      <th>FIRST_CRASH_TYPE_TRAIN</th>\n",
       "      <th>FIRST_CRASH_TYPE_TURNING</th>\n",
       "    </tr>\n",
       "  </thead>\n",
       "  <tbody>\n",
       "    <tr>\n",
       "      <th>354841</th>\n",
       "      <td>25</td>\n",
       "      <td>0.0</td>\n",
       "      <td>0</td>\n",
       "      <td>0</td>\n",
       "      <td>0</td>\n",
       "      <td>0</td>\n",
       "      <td>0</td>\n",
       "      <td>0</td>\n",
       "      <td>0</td>\n",
       "      <td>0</td>\n",
       "      <td>...</td>\n",
       "      <td>1</td>\n",
       "      <td>0</td>\n",
       "      <td>0</td>\n",
       "      <td>0</td>\n",
       "      <td>0</td>\n",
       "      <td>0</td>\n",
       "      <td>0</td>\n",
       "      <td>0</td>\n",
       "      <td>0</td>\n",
       "      <td>0</td>\n",
       "    </tr>\n",
       "    <tr>\n",
       "      <th>228065</th>\n",
       "      <td>20</td>\n",
       "      <td>0.0</td>\n",
       "      <td>0</td>\n",
       "      <td>1</td>\n",
       "      <td>0</td>\n",
       "      <td>0</td>\n",
       "      <td>0</td>\n",
       "      <td>0</td>\n",
       "      <td>0</td>\n",
       "      <td>0</td>\n",
       "      <td>...</td>\n",
       "      <td>1</td>\n",
       "      <td>0</td>\n",
       "      <td>0</td>\n",
       "      <td>0</td>\n",
       "      <td>0</td>\n",
       "      <td>0</td>\n",
       "      <td>0</td>\n",
       "      <td>0</td>\n",
       "      <td>0</td>\n",
       "      <td>0</td>\n",
       "    </tr>\n",
       "    <tr>\n",
       "      <th>177102</th>\n",
       "      <td>30</td>\n",
       "      <td>0.0</td>\n",
       "      <td>0</td>\n",
       "      <td>0</td>\n",
       "      <td>0</td>\n",
       "      <td>0</td>\n",
       "      <td>0</td>\n",
       "      <td>0</td>\n",
       "      <td>0</td>\n",
       "      <td>0</td>\n",
       "      <td>...</td>\n",
       "      <td>0</td>\n",
       "      <td>0</td>\n",
       "      <td>0</td>\n",
       "      <td>0</td>\n",
       "      <td>0</td>\n",
       "      <td>0</td>\n",
       "      <td>0</td>\n",
       "      <td>0</td>\n",
       "      <td>0</td>\n",
       "      <td>0</td>\n",
       "    </tr>\n",
       "    <tr>\n",
       "      <th>247053</th>\n",
       "      <td>30</td>\n",
       "      <td>0.0</td>\n",
       "      <td>0</td>\n",
       "      <td>0</td>\n",
       "      <td>0</td>\n",
       "      <td>0</td>\n",
       "      <td>0</td>\n",
       "      <td>0</td>\n",
       "      <td>0</td>\n",
       "      <td>0</td>\n",
       "      <td>...</td>\n",
       "      <td>0</td>\n",
       "      <td>0</td>\n",
       "      <td>0</td>\n",
       "      <td>0</td>\n",
       "      <td>0</td>\n",
       "      <td>0</td>\n",
       "      <td>0</td>\n",
       "      <td>1</td>\n",
       "      <td>0</td>\n",
       "      <td>0</td>\n",
       "    </tr>\n",
       "    <tr>\n",
       "      <th>44341</th>\n",
       "      <td>25</td>\n",
       "      <td>0.0</td>\n",
       "      <td>0</td>\n",
       "      <td>0</td>\n",
       "      <td>0</td>\n",
       "      <td>0</td>\n",
       "      <td>0</td>\n",
       "      <td>0</td>\n",
       "      <td>0</td>\n",
       "      <td>0</td>\n",
       "      <td>...</td>\n",
       "      <td>0</td>\n",
       "      <td>0</td>\n",
       "      <td>0</td>\n",
       "      <td>0</td>\n",
       "      <td>0</td>\n",
       "      <td>0</td>\n",
       "      <td>0</td>\n",
       "      <td>1</td>\n",
       "      <td>0</td>\n",
       "      <td>0</td>\n",
       "    </tr>\n",
       "    <tr>\n",
       "      <th>...</th>\n",
       "      <td>...</td>\n",
       "      <td>...</td>\n",
       "      <td>...</td>\n",
       "      <td>...</td>\n",
       "      <td>...</td>\n",
       "      <td>...</td>\n",
       "      <td>...</td>\n",
       "      <td>...</td>\n",
       "      <td>...</td>\n",
       "      <td>...</td>\n",
       "      <td>...</td>\n",
       "      <td>...</td>\n",
       "      <td>...</td>\n",
       "      <td>...</td>\n",
       "      <td>...</td>\n",
       "      <td>...</td>\n",
       "      <td>...</td>\n",
       "      <td>...</td>\n",
       "      <td>...</td>\n",
       "      <td>...</td>\n",
       "      <td>...</td>\n",
       "    </tr>\n",
       "    <tr>\n",
       "      <th>231213</th>\n",
       "      <td>35</td>\n",
       "      <td>0.0</td>\n",
       "      <td>0</td>\n",
       "      <td>0</td>\n",
       "      <td>0</td>\n",
       "      <td>0</td>\n",
       "      <td>0</td>\n",
       "      <td>1</td>\n",
       "      <td>0</td>\n",
       "      <td>0</td>\n",
       "      <td>...</td>\n",
       "      <td>0</td>\n",
       "      <td>0</td>\n",
       "      <td>0</td>\n",
       "      <td>0</td>\n",
       "      <td>0</td>\n",
       "      <td>0</td>\n",
       "      <td>0</td>\n",
       "      <td>0</td>\n",
       "      <td>0</td>\n",
       "      <td>0</td>\n",
       "    </tr>\n",
       "    <tr>\n",
       "      <th>65887</th>\n",
       "      <td>30</td>\n",
       "      <td>0.0</td>\n",
       "      <td>0</td>\n",
       "      <td>0</td>\n",
       "      <td>1</td>\n",
       "      <td>0</td>\n",
       "      <td>0</td>\n",
       "      <td>0</td>\n",
       "      <td>0</td>\n",
       "      <td>0</td>\n",
       "      <td>...</td>\n",
       "      <td>0</td>\n",
       "      <td>0</td>\n",
       "      <td>0</td>\n",
       "      <td>0</td>\n",
       "      <td>0</td>\n",
       "      <td>0</td>\n",
       "      <td>0</td>\n",
       "      <td>0</td>\n",
       "      <td>0</td>\n",
       "      <td>1</td>\n",
       "    </tr>\n",
       "    <tr>\n",
       "      <th>203424</th>\n",
       "      <td>25</td>\n",
       "      <td>0.0</td>\n",
       "      <td>0</td>\n",
       "      <td>1</td>\n",
       "      <td>0</td>\n",
       "      <td>0</td>\n",
       "      <td>0</td>\n",
       "      <td>0</td>\n",
       "      <td>0</td>\n",
       "      <td>0</td>\n",
       "      <td>...</td>\n",
       "      <td>0</td>\n",
       "      <td>0</td>\n",
       "      <td>0</td>\n",
       "      <td>0</td>\n",
       "      <td>0</td>\n",
       "      <td>0</td>\n",
       "      <td>0</td>\n",
       "      <td>0</td>\n",
       "      <td>0</td>\n",
       "      <td>0</td>\n",
       "    </tr>\n",
       "    <tr>\n",
       "      <th>355558</th>\n",
       "      <td>25</td>\n",
       "      <td>0.0</td>\n",
       "      <td>0</td>\n",
       "      <td>0</td>\n",
       "      <td>0</td>\n",
       "      <td>0</td>\n",
       "      <td>0</td>\n",
       "      <td>0</td>\n",
       "      <td>0</td>\n",
       "      <td>0</td>\n",
       "      <td>...</td>\n",
       "      <td>1</td>\n",
       "      <td>0</td>\n",
       "      <td>0</td>\n",
       "      <td>0</td>\n",
       "      <td>0</td>\n",
       "      <td>0</td>\n",
       "      <td>0</td>\n",
       "      <td>0</td>\n",
       "      <td>0</td>\n",
       "      <td>0</td>\n",
       "    </tr>\n",
       "    <tr>\n",
       "      <th>58836</th>\n",
       "      <td>10</td>\n",
       "      <td>0.0</td>\n",
       "      <td>0</td>\n",
       "      <td>0</td>\n",
       "      <td>0</td>\n",
       "      <td>0</td>\n",
       "      <td>0</td>\n",
       "      <td>1</td>\n",
       "      <td>0</td>\n",
       "      <td>0</td>\n",
       "      <td>...</td>\n",
       "      <td>1</td>\n",
       "      <td>0</td>\n",
       "      <td>0</td>\n",
       "      <td>0</td>\n",
       "      <td>0</td>\n",
       "      <td>0</td>\n",
       "      <td>0</td>\n",
       "      <td>0</td>\n",
       "      <td>0</td>\n",
       "      <td>0</td>\n",
       "    </tr>\n",
       "  </tbody>\n",
       "</table>\n",
       "<p>11265 rows × 29 columns</p>\n",
       "</div>"
      ],
      "text/plain": [
       "        POSTED_SPEED_LIMIT  INJURIES_TOTAL  WEATHER_CONDITION_BLOWING SNOW  \\\n",
       "354841                  25             0.0                               0   \n",
       "228065                  20             0.0                               0   \n",
       "177102                  30             0.0                               0   \n",
       "247053                  30             0.0                               0   \n",
       "44341                   25             0.0                               0   \n",
       "...                    ...             ...                             ...   \n",
       "231213                  35             0.0                               0   \n",
       "65887                   30             0.0                               0   \n",
       "203424                  25             0.0                               0   \n",
       "355558                  25             0.0                               0   \n",
       "58836                   10             0.0                               0   \n",
       "\n",
       "        WEATHER_CONDITION_CLOUDY/OVERCAST  WEATHER_CONDITION_FOG/SMOKE/HAZE  \\\n",
       "354841                                  0                                 0   \n",
       "228065                                  1                                 0   \n",
       "177102                                  0                                 0   \n",
       "247053                                  0                                 0   \n",
       "44341                                   0                                 0   \n",
       "...                                   ...                               ...   \n",
       "231213                                  0                                 0   \n",
       "65887                                   0                                 1   \n",
       "203424                                  1                                 0   \n",
       "355558                                  0                                 0   \n",
       "58836                                   0                                 0   \n",
       "\n",
       "        WEATHER_CONDITION_FREEZING RAIN/DRIZZLE  WEATHER_CONDITION_OTHER  \\\n",
       "354841                                        0                        0   \n",
       "228065                                        0                        0   \n",
       "177102                                        0                        0   \n",
       "247053                                        0                        0   \n",
       "44341                                         0                        0   \n",
       "...                                         ...                      ...   \n",
       "231213                                        0                        0   \n",
       "65887                                         0                        0   \n",
       "203424                                        0                        0   \n",
       "355558                                        0                        0   \n",
       "58836                                         0                        0   \n",
       "\n",
       "        WEATHER_CONDITION_RAIN  WEATHER_CONDITION_SEVERE CROSS WIND GATE  \\\n",
       "354841                       0                                         0   \n",
       "228065                       0                                         0   \n",
       "177102                       0                                         0   \n",
       "247053                       0                                         0   \n",
       "44341                        0                                         0   \n",
       "...                        ...                                       ...   \n",
       "231213                       1                                         0   \n",
       "65887                        0                                         0   \n",
       "203424                       0                                         0   \n",
       "355558                       0                                         0   \n",
       "58836                        1                                         0   \n",
       "\n",
       "        WEATHER_CONDITION_SLEET/HAIL  ...  \\\n",
       "354841                             0  ...   \n",
       "228065                             0  ...   \n",
       "177102                             0  ...   \n",
       "247053                             0  ...   \n",
       "44341                              0  ...   \n",
       "...                              ...  ...   \n",
       "231213                             0  ...   \n",
       "65887                              0  ...   \n",
       "203424                             0  ...   \n",
       "355558                             0  ...   \n",
       "58836                              0  ...   \n",
       "\n",
       "        FIRST_CRASH_TYPE_PARKED MOTOR VEHICLE  FIRST_CRASH_TYPE_PEDALCYCLIST  \\\n",
       "354841                                      1                              0   \n",
       "228065                                      1                              0   \n",
       "177102                                      0                              0   \n",
       "247053                                      0                              0   \n",
       "44341                                       0                              0   \n",
       "...                                       ...                            ...   \n",
       "231213                                      0                              0   \n",
       "65887                                       0                              0   \n",
       "203424                                      0                              0   \n",
       "355558                                      1                              0   \n",
       "58836                                       1                              0   \n",
       "\n",
       "        FIRST_CRASH_TYPE_PEDESTRIAN  FIRST_CRASH_TYPE_REAR TO FRONT  \\\n",
       "354841                            0                               0   \n",
       "228065                            0                               0   \n",
       "177102                            0                               0   \n",
       "247053                            0                               0   \n",
       "44341                             0                               0   \n",
       "...                             ...                             ...   \n",
       "231213                            0                               0   \n",
       "65887                             0                               0   \n",
       "203424                            0                               0   \n",
       "355558                            0                               0   \n",
       "58836                             0                               0   \n",
       "\n",
       "        FIRST_CRASH_TYPE_REAR TO REAR  FIRST_CRASH_TYPE_REAR TO SIDE  \\\n",
       "354841                              0                              0   \n",
       "228065                              0                              0   \n",
       "177102                              0                              0   \n",
       "247053                              0                              0   \n",
       "44341                               0                              0   \n",
       "...                               ...                            ...   \n",
       "231213                              0                              0   \n",
       "65887                               0                              0   \n",
       "203424                              0                              0   \n",
       "355558                              0                              0   \n",
       "58836                               0                              0   \n",
       "\n",
       "        FIRST_CRASH_TYPE_SIDESWIPE OPPOSITE DIRECTION  \\\n",
       "354841                                              0   \n",
       "228065                                              0   \n",
       "177102                                              0   \n",
       "247053                                              0   \n",
       "44341                                               0   \n",
       "...                                               ...   \n",
       "231213                                              0   \n",
       "65887                                               0   \n",
       "203424                                              0   \n",
       "355558                                              0   \n",
       "58836                                               0   \n",
       "\n",
       "        FIRST_CRASH_TYPE_SIDESWIPE SAME DIRECTION  FIRST_CRASH_TYPE_TRAIN  \\\n",
       "354841                                          0                       0   \n",
       "228065                                          0                       0   \n",
       "177102                                          0                       0   \n",
       "247053                                          1                       0   \n",
       "44341                                           1                       0   \n",
       "...                                           ...                     ...   \n",
       "231213                                          0                       0   \n",
       "65887                                           0                       0   \n",
       "203424                                          0                       0   \n",
       "355558                                          0                       0   \n",
       "58836                                           0                       0   \n",
       "\n",
       "        FIRST_CRASH_TYPE_TURNING  \n",
       "354841                         0  \n",
       "228065                         0  \n",
       "177102                         0  \n",
       "247053                         0  \n",
       "44341                          0  \n",
       "...                          ...  \n",
       "231213                         0  \n",
       "65887                          1  \n",
       "203424                         0  \n",
       "355558                         0  \n",
       "58836                          0  \n",
       "\n",
       "[11265 rows x 29 columns]"
      ]
     },
     "execution_count": 21,
     "metadata": {},
     "output_type": "execute_result"
    }
   ],
   "source": [
    "X_test"
   ]
  },
  {
   "cell_type": "code",
   "execution_count": 22,
   "metadata": {
    "colab": {},
    "colab_type": "code",
    "id": "si6gV51qrsHs"
   },
   "outputs": [
    {
     "data": {
      "text/html": [
       "<div>\n",
       "<style scoped>\n",
       "    .dataframe tbody tr th:only-of-type {\n",
       "        vertical-align: middle;\n",
       "    }\n",
       "\n",
       "    .dataframe tbody tr th {\n",
       "        vertical-align: top;\n",
       "    }\n",
       "\n",
       "    .dataframe thead th {\n",
       "        text-align: right;\n",
       "    }\n",
       "</style>\n",
       "<table border=\"1\" class=\"dataframe\">\n",
       "  <thead>\n",
       "    <tr style=\"text-align: right;\">\n",
       "      <th></th>\n",
       "      <th>Predicted 0</th>\n",
       "      <th>Predicted 1</th>\n",
       "    </tr>\n",
       "  </thead>\n",
       "  <tbody>\n",
       "    <tr>\n",
       "      <th>Actual 0</th>\n",
       "      <td>563</td>\n",
       "      <td>3974</td>\n",
       "    </tr>\n",
       "    <tr>\n",
       "      <th>Actual 1</th>\n",
       "      <td>306</td>\n",
       "      <td>6422</td>\n",
       "    </tr>\n",
       "  </tbody>\n",
       "</table>\n",
       "</div>"
      ],
      "text/plain": [
       "          Predicted 0  Predicted 1\n",
       "Actual 0          563         3974\n",
       "Actual 1          306         6422"
      ]
     },
     "execution_count": 22,
     "metadata": {},
     "output_type": "execute_result"
    }
   ],
   "source": [
    "# answer goes here\n",
    "y_pred = model.predict(X_test)\n",
    "\n",
    "conf_mat = confusion_matrix(y_test, y_pred)\n",
    "conf_df = pd.DataFrame(conf_mat, columns=['Predicted 0', 'Predicted 1'], index=['Actual 0', 'Actual 1'])\n",
    "conf_df\n",
    "\n"
   ]
  },
  {
   "cell_type": "code",
   "execution_count": 24,
   "metadata": {},
   "outputs": [
    {
     "data": {
      "text/html": [
       "<div>\n",
       "<style scoped>\n",
       "    .dataframe tbody tr th:only-of-type {\n",
       "        vertical-align: middle;\n",
       "    }\n",
       "\n",
       "    .dataframe tbody tr th {\n",
       "        vertical-align: top;\n",
       "    }\n",
       "\n",
       "    .dataframe thead th {\n",
       "        text-align: right;\n",
       "    }\n",
       "</style>\n",
       "<table border=\"1\" class=\"dataframe\">\n",
       "  <thead>\n",
       "    <tr style=\"text-align: right;\">\n",
       "      <th></th>\n",
       "      <th>feat</th>\n",
       "      <th>coef</th>\n",
       "    </tr>\n",
       "  </thead>\n",
       "  <tbody>\n",
       "    <tr>\n",
       "      <th>0</th>\n",
       "      <td>POSTED_SPEED_LIMIT</td>\n",
       "      <td>0.014706</td>\n",
       "    </tr>\n",
       "    <tr>\n",
       "      <th>1</th>\n",
       "      <td>INJURIES_TOTAL</td>\n",
       "      <td>0.841523</td>\n",
       "    </tr>\n",
       "    <tr>\n",
       "      <th>2</th>\n",
       "      <td>WEATHER_CONDITION_BLOWING SNOW</td>\n",
       "      <td>-0.083811</td>\n",
       "    </tr>\n",
       "    <tr>\n",
       "      <th>3</th>\n",
       "      <td>WEATHER_CONDITION_CLOUDY/OVERCAST</td>\n",
       "      <td>-0.149785</td>\n",
       "    </tr>\n",
       "    <tr>\n",
       "      <th>4</th>\n",
       "      <td>WEATHER_CONDITION_FOG/SMOKE/HAZE</td>\n",
       "      <td>-0.011063</td>\n",
       "    </tr>\n",
       "  </tbody>\n",
       "</table>\n",
       "</div>"
      ],
      "text/plain": [
       "                                feat      coef\n",
       "0                 POSTED_SPEED_LIMIT  0.014706\n",
       "1                     INJURIES_TOTAL  0.841523\n",
       "2     WEATHER_CONDITION_BLOWING SNOW -0.083811\n",
       "3  WEATHER_CONDITION_CLOUDY/OVERCAST -0.149785\n",
       "4   WEATHER_CONDITION_FOG/SMOKE/HAZE -0.011063"
      ]
     },
     "execution_count": 24,
     "metadata": {},
     "output_type": "execute_result"
    }
   ],
   "source": [
    "coef_df = pd.DataFrame({'feat': X.columns, 'coef': model.coef_.flatten()})\n",
    "coef_df.head()"
   ]
  },
  {
   "cell_type": "code",
   "execution_count": null,
   "metadata": {},
   "outputs": [],
   "source": []
  },
  {
   "cell_type": "code",
   "execution_count": 26,
   "metadata": {},
   "outputs": [
    {
     "data": {
      "image/png": "[encoded data removed]",
      "text/plain": [
       "<Figure size 432x288 with 1 Axes>"
      ]
     },
     "metadata": {
      "needs_background": "light"
     },
     "output_type": "display_data"
    }
   ],
   "source": [
    "y_pred_prob = model.predict_proba(X_test)[:, 1]\n",
    "\n",
    "y, x = calibration_curve(y_test, y_pred_prob, n_bins=10)\n",
    "\n",
    "plt.plot(x, y, '-o')\n",
    "plt.plot([0,1], [0,1], '--')\n",
    "plt.title('Made by sklearn')\n",
    "plt.xlabel('Predicted Probability of Class 1')\n",
    "plt.ylabel('Percentage of Class 1s\\n(at the Predicted Probability)')\n",
    "plt.show()"
   ]
  },
  {
   "cell_type": "code",
   "execution_count": null,
   "metadata": {},
   "outputs": [],
   "source": []
  }
 ],
 "metadata": {
  "colab": {
   "collapsed_sections": [],
   "name": "Day 24 Lecture 2 Assignment.ipynb",
   "provenance": []
  },
  "kernelspec": {
   "display_name": "Python 3",
   "language": "python",
   "name": "python3"
  },
  "language_info": {
   "codemirror_mode": {
    "name": "ipython",
    "version": 3
   },
   "file_extension": ".py",
   "mimetype": "text/x-python",
   "name": "python",
   "nbconvert_exporter": "python",
   "pygments_lexer": "ipython3",
   "version": "3.7.6"
  }
 },
 "nbformat": 4,
 "nbformat_minor": 1
}
