{
 "cells": [
  {
   "cell_type": "code",
   "execution_count": 1,
   "metadata": {},
   "outputs": [
    {
     "data": {
      "application/javascript": [
       "\n",
       "            setTimeout(function() {\n",
       "                var nbb_cell_id = 1;\n",
       "                var nbb_unformatted_code = \"%reload_ext nb_black\";\n",
       "                var nbb_formatted_code = \"%reload_ext nb_black\";\n",
       "                var nbb_cells = Jupyter.notebook.get_cells();\n",
       "                for (var i = 0; i < nbb_cells.length; ++i) {\n",
       "                    if (nbb_cells[i].input_prompt_number == nbb_cell_id) {\n",
       "                        if (nbb_cells[i].get_text() == nbb_unformatted_code) {\n",
       "                             nbb_cells[i].set_text(nbb_formatted_code);\n",
       "                        }\n",
       "                        break;\n",
       "                    }\n",
       "                }\n",
       "            }, 500);\n",
       "            "
      ],
      "text/plain": [
       "<IPython.core.display.Javascript object>"
      ]
     },
     "metadata": {},
     "output_type": "display_data"
    }
   ],
   "source": [
    "%reload_ext nb_black"
   ]
  },
  {
   "cell_type": "markdown",
   "metadata": {
    "colab_type": "text",
    "id": "Zrf-3-WBni8C"
   },
   "source": [
    "## Day 21 Lecture 1 Assignment\n",
    "\n",
    "In this assignment, we will analyze the data types and missingness of values in the Chicago traffic crashes dataset."
   ]
  },
  {
   "cell_type": "code",
   "execution_count": 2,
   "metadata": {
    "colab": {
     "base_uri": "https://localhost:8080/",
     "height": 71
    },
    "colab_type": "code",
    "id": "gqWRoLL-ni8D",
    "outputId": "3d2bcd02-604e-4152-dbfe-a0d5e87e85a8"
   },
   "outputs": [
    {
     "data": {
      "application/javascript": [
       "\n",
       "            setTimeout(function() {\n",
       "                var nbb_cell_id = 2;\n",
       "                var nbb_unformatted_code = \"%matplotlib inline\\n\\nimport matplotlib.pyplot as plt\\nimport numpy as np\\nimport pandas as pd\\nimport seaborn as sns\\nimport matplotlib.pyplot as plt\";\n",
       "                var nbb_formatted_code = \"%matplotlib inline\\n\\nimport matplotlib.pyplot as plt\\nimport numpy as np\\nimport pandas as pd\\nimport seaborn as sns\\nimport matplotlib.pyplot as plt\";\n",
       "                var nbb_cells = Jupyter.notebook.get_cells();\n",
       "                for (var i = 0; i < nbb_cells.length; ++i) {\n",
       "                    if (nbb_cells[i].input_prompt_number == nbb_cell_id) {\n",
       "                        if (nbb_cells[i].get_text() == nbb_unformatted_code) {\n",
       "                             nbb_cells[i].set_text(nbb_formatted_code);\n",
       "                        }\n",
       "                        break;\n",
       "                    }\n",
       "                }\n",
       "            }, 500);\n",
       "            "
      ],
      "text/plain": [
       "<IPython.core.display.Javascript object>"
      ]
     },
     "metadata": {},
     "output_type": "display_data"
    }
   ],
   "source": [
    "%matplotlib inline\n",
    "\n",
    "import matplotlib.pyplot as plt\n",
    "import numpy as np\n",
    "import pandas as pd\n",
    "import seaborn as sns\n",
    "import matplotlib.pyplot as plt"
   ]
  },
  {
   "cell_type": "code",
   "execution_count": 3,
   "metadata": {
    "colab": {},
    "colab_type": "code",
    "id": "wSzfEaauni8F"
   },
   "outputs": [
    {
     "data": {
      "application/javascript": [
       "\n",
       "            setTimeout(function() {\n",
       "                var nbb_cell_id = 3;\n",
       "                var nbb_unformatted_code = \"crash = pd.read_csv('https://tf-assets-prod.s3.amazonaws.com/tf-curric/data-science/traffic_crashes_chicago.csv')\";\n",
       "                var nbb_formatted_code = \"crash = pd.read_csv(\\n    \\\"https://tf-assets-prod.s3.amazonaws.com/tf-curric/data-science/traffic_crashes_chicago.csv\\\"\\n)\";\n",
       "                var nbb_cells = Jupyter.notebook.get_cells();\n",
       "                for (var i = 0; i < nbb_cells.length; ++i) {\n",
       "                    if (nbb_cells[i].input_prompt_number == nbb_cell_id) {\n",
       "                        if (nbb_cells[i].get_text() == nbb_unformatted_code) {\n",
       "                             nbb_cells[i].set_text(nbb_formatted_code);\n",
       "                        }\n",
       "                        break;\n",
       "                    }\n",
       "                }\n",
       "            }, 500);\n",
       "            "
      ],
      "text/plain": [
       "<IPython.core.display.Javascript object>"
      ]
     },
     "metadata": {},
     "output_type": "display_data"
    }
   ],
   "source": [
    "crash = pd.read_csv(\n",
    "    \"https://tf-assets-prod.s3.amazonaws.com/tf-curric/data-science/traffic_crashes_chicago.csv\"\n",
    ")"
   ]
  },
  {
   "cell_type": "code",
   "execution_count": 4,
   "metadata": {
    "colab": {
     "base_uri": "https://localhost:8080/",
     "height": 394
    },
    "colab_type": "code",
    "id": "1JRr0EDJni8G",
    "outputId": "9a1d20cb-70a7-466c-9aec-77c05355dd79"
   },
   "outputs": [
    {
     "data": {
      "text/html": [
       "<div>\n",
       "<style scoped>\n",
       "    .dataframe tbody tr th:only-of-type {\n",
       "        vertical-align: middle;\n",
       "    }\n",
       "\n",
       "    .dataframe tbody tr th {\n",
       "        vertical-align: top;\n",
       "    }\n",
       "\n",
       "    .dataframe thead th {\n",
       "        text-align: right;\n",
       "    }\n",
       "</style>\n",
       "<table border=\"1\" class=\"dataframe\">\n",
       "  <thead>\n",
       "    <tr style=\"text-align: right;\">\n",
       "      <th></th>\n",
       "      <th>RD_NO</th>\n",
       "      <th>CRASH_DATE</th>\n",
       "      <th>POSTED_SPEED_LIMIT</th>\n",
       "      <th>TRAFFIC_CONTROL_DEVICE</th>\n",
       "      <th>DEVICE_CONDITION</th>\n",
       "      <th>WEATHER_CONDITION</th>\n",
       "      <th>LIGHTING_CONDITION</th>\n",
       "      <th>FIRST_CRASH_TYPE</th>\n",
       "      <th>TRAFFICWAY_TYPE</th>\n",
       "      <th>LANE_CNT</th>\n",
       "      <th>...</th>\n",
       "      <th>WORKERS_PRESENT_I</th>\n",
       "      <th>NUM_UNITS</th>\n",
       "      <th>MOST_SEVERE_INJURY</th>\n",
       "      <th>INJURIES_TOTAL</th>\n",
       "      <th>INJURIES_FATAL</th>\n",
       "      <th>INJURIES_INCAPACITATING</th>\n",
       "      <th>INJURIES_NON_INCAPACITATING</th>\n",
       "      <th>INJURIES_REPORTED_NOT_EVIDENT</th>\n",
       "      <th>INJURIES_NO_INDICATION</th>\n",
       "      <th>INJURIES_UNKNOWN</th>\n",
       "    </tr>\n",
       "  </thead>\n",
       "  <tbody>\n",
       "    <tr>\n",
       "      <th>0</th>\n",
       "      <td>JC334993</td>\n",
       "      <td>7/4/2019 22:33</td>\n",
       "      <td>45</td>\n",
       "      <td>NO CONTROLS</td>\n",
       "      <td>NO CONTROLS</td>\n",
       "      <td>CLEAR</td>\n",
       "      <td>DARKNESS, LIGHTED ROAD</td>\n",
       "      <td>REAR END</td>\n",
       "      <td>DIVIDED - W/MEDIAN BARRIER</td>\n",
       "      <td>NaN</td>\n",
       "      <td>...</td>\n",
       "      <td>NaN</td>\n",
       "      <td>NaN</td>\n",
       "      <td>NaN</td>\n",
       "      <td>NaN</td>\n",
       "      <td>NaN</td>\n",
       "      <td>NaN</td>\n",
       "      <td>NaN</td>\n",
       "      <td>NaN</td>\n",
       "      <td>NaN</td>\n",
       "      <td>NaN</td>\n",
       "    </tr>\n",
       "    <tr>\n",
       "      <th>1</th>\n",
       "      <td>JC370822</td>\n",
       "      <td>7/30/2019 10:22</td>\n",
       "      <td>30</td>\n",
       "      <td>NO CONTROLS</td>\n",
       "      <td>NO CONTROLS</td>\n",
       "      <td>CLEAR</td>\n",
       "      <td>DAYLIGHT</td>\n",
       "      <td>TURNING</td>\n",
       "      <td>DIVIDED - W/MEDIAN (NOT RAISED)</td>\n",
       "      <td>NaN</td>\n",
       "      <td>...</td>\n",
       "      <td>NaN</td>\n",
       "      <td>NaN</td>\n",
       "      <td>NaN</td>\n",
       "      <td>NaN</td>\n",
       "      <td>NaN</td>\n",
       "      <td>NaN</td>\n",
       "      <td>NaN</td>\n",
       "      <td>NaN</td>\n",
       "      <td>NaN</td>\n",
       "      <td>NaN</td>\n",
       "    </tr>\n",
       "    <tr>\n",
       "      <th>2</th>\n",
       "      <td>JC387098</td>\n",
       "      <td>8/10/2019 17:00</td>\n",
       "      <td>25</td>\n",
       "      <td>NO CONTROLS</td>\n",
       "      <td>NO CONTROLS</td>\n",
       "      <td>CLEAR</td>\n",
       "      <td>DAYLIGHT</td>\n",
       "      <td>PARKED MOTOR VEHICLE</td>\n",
       "      <td>ONE-WAY</td>\n",
       "      <td>NaN</td>\n",
       "      <td>...</td>\n",
       "      <td>NaN</td>\n",
       "      <td>1.0</td>\n",
       "      <td>NaN</td>\n",
       "      <td>NaN</td>\n",
       "      <td>NaN</td>\n",
       "      <td>NaN</td>\n",
       "      <td>NaN</td>\n",
       "      <td>NaN</td>\n",
       "      <td>NaN</td>\n",
       "      <td>NaN</td>\n",
       "    </tr>\n",
       "    <tr>\n",
       "      <th>3</th>\n",
       "      <td>JC395195</td>\n",
       "      <td>8/16/2019 16:53</td>\n",
       "      <td>30</td>\n",
       "      <td>NO CONTROLS</td>\n",
       "      <td>NO CONTROLS</td>\n",
       "      <td>CLEAR</td>\n",
       "      <td>DAYLIGHT</td>\n",
       "      <td>PARKED MOTOR VEHICLE</td>\n",
       "      <td>NOT DIVIDED</td>\n",
       "      <td>NaN</td>\n",
       "      <td>...</td>\n",
       "      <td>NaN</td>\n",
       "      <td>1.0</td>\n",
       "      <td>NO INDICATION OF INJURY</td>\n",
       "      <td>0.0</td>\n",
       "      <td>0.0</td>\n",
       "      <td>0.0</td>\n",
       "      <td>0.0</td>\n",
       "      <td>0.0</td>\n",
       "      <td>1.0</td>\n",
       "      <td>0.0</td>\n",
       "    </tr>\n",
       "    <tr>\n",
       "      <th>4</th>\n",
       "      <td>JC396604</td>\n",
       "      <td>8/17/2019 16:04</td>\n",
       "      <td>30</td>\n",
       "      <td>NO CONTROLS</td>\n",
       "      <td>NO CONTROLS</td>\n",
       "      <td>CLEAR</td>\n",
       "      <td>DAYLIGHT</td>\n",
       "      <td>PARKED MOTOR VEHICLE</td>\n",
       "      <td>PARKING LOT</td>\n",
       "      <td>NaN</td>\n",
       "      <td>...</td>\n",
       "      <td>NaN</td>\n",
       "      <td>1.0</td>\n",
       "      <td>NO INDICATION OF INJURY</td>\n",
       "      <td>0.0</td>\n",
       "      <td>0.0</td>\n",
       "      <td>0.0</td>\n",
       "      <td>0.0</td>\n",
       "      <td>0.0</td>\n",
       "      <td>1.0</td>\n",
       "      <td>0.0</td>\n",
       "    </tr>\n",
       "  </tbody>\n",
       "</table>\n",
       "<p>5 rows × 41 columns</p>\n",
       "</div>"
      ],
      "text/plain": [
       "      RD_NO       CRASH_DATE  POSTED_SPEED_LIMIT TRAFFIC_CONTROL_DEVICE  \\\n",
       "0  JC334993   7/4/2019 22:33                  45            NO CONTROLS   \n",
       "1  JC370822  7/30/2019 10:22                  30            NO CONTROLS   \n",
       "2  JC387098  8/10/2019 17:00                  25            NO CONTROLS   \n",
       "3  JC395195  8/16/2019 16:53                  30            NO CONTROLS   \n",
       "4  JC396604  8/17/2019 16:04                  30            NO CONTROLS   \n",
       "\n",
       "  DEVICE_CONDITION WEATHER_CONDITION      LIGHTING_CONDITION  \\\n",
       "0      NO CONTROLS             CLEAR  DARKNESS, LIGHTED ROAD   \n",
       "1      NO CONTROLS             CLEAR                DAYLIGHT   \n",
       "2      NO CONTROLS             CLEAR                DAYLIGHT   \n",
       "3      NO CONTROLS             CLEAR                DAYLIGHT   \n",
       "4      NO CONTROLS             CLEAR                DAYLIGHT   \n",
       "\n",
       "       FIRST_CRASH_TYPE                  TRAFFICWAY_TYPE  LANE_CNT  ...  \\\n",
       "0              REAR END       DIVIDED - W/MEDIAN BARRIER       NaN  ...   \n",
       "1               TURNING  DIVIDED - W/MEDIAN (NOT RAISED)       NaN  ...   \n",
       "2  PARKED MOTOR VEHICLE                          ONE-WAY       NaN  ...   \n",
       "3  PARKED MOTOR VEHICLE                      NOT DIVIDED       NaN  ...   \n",
       "4  PARKED MOTOR VEHICLE                      PARKING LOT       NaN  ...   \n",
       "\n",
       "  WORKERS_PRESENT_I NUM_UNITS       MOST_SEVERE_INJURY INJURIES_TOTAL  \\\n",
       "0               NaN       NaN                      NaN            NaN   \n",
       "1               NaN       NaN                      NaN            NaN   \n",
       "2               NaN       1.0                      NaN            NaN   \n",
       "3               NaN       1.0  NO INDICATION OF INJURY            0.0   \n",
       "4               NaN       1.0  NO INDICATION OF INJURY            0.0   \n",
       "\n",
       "  INJURIES_FATAL INJURIES_INCAPACITATING INJURIES_NON_INCAPACITATING  \\\n",
       "0            NaN                     NaN                         NaN   \n",
       "1            NaN                     NaN                         NaN   \n",
       "2            NaN                     NaN                         NaN   \n",
       "3            0.0                     0.0                         0.0   \n",
       "4            0.0                     0.0                         0.0   \n",
       "\n",
       "  INJURIES_REPORTED_NOT_EVIDENT INJURIES_NO_INDICATION INJURIES_UNKNOWN  \n",
       "0                           NaN                    NaN              NaN  \n",
       "1                           NaN                    NaN              NaN  \n",
       "2                           NaN                    NaN              NaN  \n",
       "3                           0.0                    1.0              0.0  \n",
       "4                           0.0                    1.0              0.0  \n",
       "\n",
       "[5 rows x 41 columns]"
      ]
     },
     "execution_count": 4,
     "metadata": {},
     "output_type": "execute_result"
    },
    {
     "data": {
      "application/javascript": [
       "\n",
       "            setTimeout(function() {\n",
       "                var nbb_cell_id = 4;\n",
       "                var nbb_unformatted_code = \"crash.head()\";\n",
       "                var nbb_formatted_code = \"crash.head()\";\n",
       "                var nbb_cells = Jupyter.notebook.get_cells();\n",
       "                for (var i = 0; i < nbb_cells.length; ++i) {\n",
       "                    if (nbb_cells[i].input_prompt_number == nbb_cell_id) {\n",
       "                        if (nbb_cells[i].get_text() == nbb_unformatted_code) {\n",
       "                             nbb_cells[i].set_text(nbb_formatted_code);\n",
       "                        }\n",
       "                        break;\n",
       "                    }\n",
       "                }\n",
       "            }, 500);\n",
       "            "
      ],
      "text/plain": [
       "<IPython.core.display.Javascript object>"
      ]
     },
     "metadata": {},
     "output_type": "display_data"
    }
   ],
   "source": [
    "crash.head()"
   ]
  },
  {
   "cell_type": "markdown",
   "metadata": {
    "colab_type": "text",
    "id": "5dk0oqeBni8I"
   },
   "source": [
    "Calculate and print out the following: \n",
    "\n",
    "- The data type of each column that was automatically assigned when the data was read in. \n",
    "- The number of numeric columns \n",
    "- The number of categorical/string columns\n",
    "\n",
    "Do the assigned column types make sense, or are there some that should be changed?"
   ]
  },
  {
   "cell_type": "code",
   "execution_count": 5,
   "metadata": {
    "colab": {
     "base_uri": "https://localhost:8080/",
     "height": 867
    },
    "colab_type": "code",
    "id": "JT9kbyCJni8J",
    "outputId": "3ad25485-de0e-4cd0-dc4c-e03d8298429f"
   },
   "outputs": [
    {
     "name": "stdout",
     "output_type": "stream",
     "text": [
      "<class 'pandas.core.frame.DataFrame'>\n",
      "RangeIndex: 372585 entries, 0 to 372584\n",
      "Data columns (total 41 columns):\n",
      " #   Column                         Non-Null Count   Dtype  \n",
      "---  ------                         --------------   -----  \n",
      " 0   RD_NO                          372585 non-null  object \n",
      " 1   CRASH_DATE                     372585 non-null  object \n",
      " 2   POSTED_SPEED_LIMIT             372585 non-null  int64  \n",
      " 3   TRAFFIC_CONTROL_DEVICE         372585 non-null  object \n",
      " 4   DEVICE_CONDITION               372585 non-null  object \n",
      " 5   WEATHER_CONDITION              372585 non-null  object \n",
      " 6   LIGHTING_CONDITION             372585 non-null  object \n",
      " 7   FIRST_CRASH_TYPE               372585 non-null  object \n",
      " 8   TRAFFICWAY_TYPE                372585 non-null  object \n",
      " 9   LANE_CNT                       198548 non-null  float64\n",
      " 10  ALIGNMENT                      372585 non-null  object \n",
      " 11  ROADWAY_SURFACE_COND           372585 non-null  object \n",
      " 12  ROAD_DEFECT                    372585 non-null  object \n",
      " 13  REPORT_TYPE                    364011 non-null  object \n",
      " 14  CRASH_TYPE                     372585 non-null  object \n",
      " 15  INTERSECTION_RELATED_I         82171 non-null   object \n",
      " 16  NOT_RIGHT_OF_WAY_I             17170 non-null   object \n",
      " 17  HIT_AND_RUN_I                  103421 non-null  object \n",
      " 18  DAMAGE                         372585 non-null  object \n",
      " 19  DATE_POLICE_NOTIFIED           372585 non-null  object \n",
      " 20  PRIM_CONTRIBUTORY_CAUSE        372585 non-null  object \n",
      " 21  SEC_CONTRIBUTORY_CAUSE         372585 non-null  object \n",
      " 22  STREET_NO                      372585 non-null  int64  \n",
      " 23  STREET_DIRECTION               372583 non-null  object \n",
      " 24  STREET_NAME                    372584 non-null  object \n",
      " 25  BEAT_OF_OCCURRENCE             372581 non-null  float64\n",
      " 26  PHOTOS_TAKEN_I                 4725 non-null    object \n",
      " 27  STATEMENTS_TAKEN_I             7541 non-null    object \n",
      " 28  DOORING_I                      1261 non-null    object \n",
      " 29  WORK_ZONE_I                    2633 non-null    object \n",
      " 30  WORK_ZONE_TYPE                 2090 non-null    object \n",
      " 31  WORKERS_PRESENT_I              614 non-null     object \n",
      " 32  NUM_UNITS                      371186 non-null  float64\n",
      " 33  MOST_SEVERE_INJURY             370426 non-null  object \n",
      " 34  INJURIES_TOTAL                 370433 non-null  float64\n",
      " 35  INJURIES_FATAL                 370433 non-null  float64\n",
      " 36  INJURIES_INCAPACITATING        370433 non-null  float64\n",
      " 37  INJURIES_NON_INCAPACITATING    370433 non-null  float64\n",
      " 38  INJURIES_REPORTED_NOT_EVIDENT  370433 non-null  float64\n",
      " 39  INJURIES_NO_INDICATION         370433 non-null  float64\n",
      " 40  INJURIES_UNKNOWN               370433 non-null  float64\n",
      "dtypes: float64(10), int64(2), object(29)\n",
      "memory usage: 116.5+ MB\n",
      "Number of numeric columns: 12\n",
      "Number of categorical columns: 29\n"
     ]
    },
    {
     "data": {
      "application/javascript": [
       "\n",
       "            setTimeout(function() {\n",
       "                var nbb_cell_id = 5;\n",
       "                var nbb_unformatted_code = \"# answer goes here\\ncrash.info()\\nprint(\\\"Number of numeric columns: {}\\\".format(len(crash.select_dtypes(include='number').columns)))\\nprint(\\\"Number of categorical columns: {}\\\".format(len(crash.select_dtypes(include='object').columns)))\";\n",
       "                var nbb_formatted_code = \"# answer goes here\\ncrash.info()\\nprint(\\n    \\\"Number of numeric columns: {}\\\".format(\\n        len(crash.select_dtypes(include=\\\"number\\\").columns)\\n    )\\n)\\nprint(\\n    \\\"Number of categorical columns: {}\\\".format(\\n        len(crash.select_dtypes(include=\\\"object\\\").columns)\\n    )\\n)\";\n",
       "                var nbb_cells = Jupyter.notebook.get_cells();\n",
       "                for (var i = 0; i < nbb_cells.length; ++i) {\n",
       "                    if (nbb_cells[i].input_prompt_number == nbb_cell_id) {\n",
       "                        if (nbb_cells[i].get_text() == nbb_unformatted_code) {\n",
       "                             nbb_cells[i].set_text(nbb_formatted_code);\n",
       "                        }\n",
       "                        break;\n",
       "                    }\n",
       "                }\n",
       "            }, 500);\n",
       "            "
      ],
      "text/plain": [
       "<IPython.core.display.Javascript object>"
      ]
     },
     "metadata": {},
     "output_type": "display_data"
    }
   ],
   "source": [
    "# answer goes here\n",
    "crash.info()\n",
    "print(\n",
    "    \"Number of numeric columns: {}\".format(\n",
    "        len(crash.select_dtypes(include=\"number\").columns)\n",
    "    )\n",
    ")\n",
    "print(\n",
    "    \"Number of categorical columns: {}\".format(\n",
    "        len(crash.select_dtypes(include=\"object\").columns)\n",
    "    )\n",
    ")"
   ]
  },
  {
   "cell_type": "markdown",
   "metadata": {
    "colab_type": "text",
    "id": "zC2YmEBTni8K"
   },
   "source": [
    "Write a function *missingness_summary* that takes a pandas dataframe as a parameter and returns a pandas series containing the percentage of missing data in each column. (Hint: the *apply* function can be helpful here.) Furthermore, the function should have two additional parameters:\n",
    "\n",
    "1. print_log (boolean): if True, the function should print out all of the columns in the dataframe, one to a line, followed by the percentage of total rows that have a null value for that column. \n",
    "2. sort (string): a string that allows the user to specify if the output should be sorted in ascending order, descending order, or not at all."
   ]
  },
  {
   "cell_type": "code",
   "execution_count": 6,
   "metadata": {
    "colab": {
     "base_uri": "https://localhost:8080/",
     "height": 731
    },
    "colab_type": "code",
    "id": "YHQQ8b9wtFT7",
    "outputId": "189b7568-1e10-4f64-84ac-665f57d0466f"
   },
   "outputs": [
    {
     "name": "stdout",
     "output_type": "stream",
     "text": [
      "WORKERS_PRESENT_I                0.998352\n",
      "DOORING_I                        0.996616\n",
      "WORK_ZONE_TYPE                   0.994391\n",
      "WORK_ZONE_I                      0.992933\n",
      "PHOTOS_TAKEN_I                   0.987318\n",
      "STATEMENTS_TAKEN_I               0.979760\n",
      "NOT_RIGHT_OF_WAY_I               0.953917\n",
      "INTERSECTION_RELATED_I           0.779457\n",
      "HIT_AND_RUN_I                    0.722423\n",
      "LANE_CNT                         0.467107\n",
      "REPORT_TYPE                      0.023012\n",
      "MOST_SEVERE_INJURY               0.005795\n",
      "INJURIES_NO_INDICATION           0.005776\n",
      "INJURIES_TOTAL                   0.005776\n",
      "INJURIES_FATAL                   0.005776\n",
      "INJURIES_INCAPACITATING          0.005776\n",
      "INJURIES_NON_INCAPACITATING      0.005776\n",
      "INJURIES_REPORTED_NOT_EVIDENT    0.005776\n",
      "INJURIES_UNKNOWN                 0.005776\n",
      "NUM_UNITS                        0.003755\n",
      "BEAT_OF_OCCURRENCE               0.000011\n",
      "STREET_DIRECTION                 0.000005\n",
      "STREET_NAME                      0.000003\n",
      "TRAFFIC_CONTROL_DEVICE           0.000000\n",
      "DEVICE_CONDITION                 0.000000\n",
      "POSTED_SPEED_LIMIT               0.000000\n",
      "CRASH_DATE                       0.000000\n",
      "WEATHER_CONDITION                0.000000\n",
      "LIGHTING_CONDITION               0.000000\n",
      "FIRST_CRASH_TYPE                 0.000000\n",
      "TRAFFICWAY_TYPE                  0.000000\n",
      "PRIM_CONTRIBUTORY_CAUSE          0.000000\n",
      "ALIGNMENT                        0.000000\n",
      "ROADWAY_SURFACE_COND             0.000000\n",
      "ROAD_DEFECT                      0.000000\n",
      "CRASH_TYPE                       0.000000\n",
      "DAMAGE                           0.000000\n",
      "DATE_POLICE_NOTIFIED             0.000000\n",
      "SEC_CONTRIBUTORY_CAUSE           0.000000\n",
      "STREET_NO                        0.000000\n",
      "RD_NO                            0.000000\n",
      "dtype: float64\n"
     ]
    },
    {
     "data": {
      "application/javascript": [
       "\n",
       "            setTimeout(function() {\n",
       "                var nbb_cell_id = 6;\n",
       "                var nbb_unformatted_code = \"# answer goes here\\ndef missingness_summary (df, print_log=False, sort=None):\\n  missings = df.isna().mean()\\n  \\n  if sort == 'asc':\\n    missings = missings.sort_values()\\n  elif sort == 'desc':\\n    missings = missings.sort_values(ascending=False)\\n\\n  if print_log:\\n    print(missings)\\n  \\n  return missings\\n\\n\\ncrash_missing_report = missingness_summary(crash, print_log=True, sort='desc')\";\n",
       "                var nbb_formatted_code = \"# answer goes here\\ndef missingness_summary(df, print_log=False, sort=None):\\n    missings = df.isna().mean()\\n\\n    if sort == \\\"asc\\\":\\n        missings = missings.sort_values()\\n    elif sort == \\\"desc\\\":\\n        missings = missings.sort_values(ascending=False)\\n\\n    if print_log:\\n        print(missings)\\n\\n    return missings\\n\\n\\ncrash_missing_report = missingness_summary(crash, print_log=True, sort=\\\"desc\\\")\";\n",
       "                var nbb_cells = Jupyter.notebook.get_cells();\n",
       "                for (var i = 0; i < nbb_cells.length; ++i) {\n",
       "                    if (nbb_cells[i].input_prompt_number == nbb_cell_id) {\n",
       "                        if (nbb_cells[i].get_text() == nbb_unformatted_code) {\n",
       "                             nbb_cells[i].set_text(nbb_formatted_code);\n",
       "                        }\n",
       "                        break;\n",
       "                    }\n",
       "                }\n",
       "            }, 500);\n",
       "            "
      ],
      "text/plain": [
       "<IPython.core.display.Javascript object>"
      ]
     },
     "metadata": {},
     "output_type": "display_data"
    }
   ],
   "source": [
    "# answer goes here\n",
    "def missingness_summary(df, print_log=False, sort=None):\n",
    "    missings = df.isna().mean()\n",
    "\n",
    "    if sort == \"asc\":\n",
    "        missings = missings.sort_values()\n",
    "    elif sort == \"desc\":\n",
    "        missings = missings.sort_values(ascending=False)\n",
    "\n",
    "    if print_log:\n",
    "        print(missings)\n",
    "\n",
    "    return missings\n",
    "\n",
    "\n",
    "crash_missing_report = missingness_summary(crash, print_log=True, sort=\"desc\")"
   ]
  },
  {
   "cell_type": "markdown",
   "metadata": {
    "colab_type": "text",
    "id": "7wR6bliDni8M"
   },
   "source": [
    "Call the *missingness summary* function on our data. Answer the following questions *programatically* (this dataset is small enough that we could manually count, but this approach would obviously not be scalable to datasets with hundreds of columns, which frequently occur in real life):\n",
    "\n",
    "1. How many columns have no missing data? Print out these column names.\n",
    "2. How many columns have more than 10% missing data? Again, print out these column names."
   ]
  },
  {
   "cell_type": "code",
   "execution_count": 7,
   "metadata": {
    "colab": {
     "base_uri": "https://localhost:8080/",
     "height": 714
    },
    "colab_type": "code",
    "id": "VzB9rC4kni8N",
    "outputId": "f94bb51d-6365-444b-a8d2-d5f330210612"
   },
   "outputs": [
    {
     "name": "stdout",
     "output_type": "stream",
     "text": [
      "Field WORKERS_PRESENT_I has 0.9983520538937424 missing values\n",
      "Field DOORING_I has 0.9966155373941517 missing values\n",
      "Field WORK_ZONE_TYPE has 0.9943905417555725 missing values\n",
      "Field WORK_ZONE_I has 0.9929331561925466 missing values\n",
      "Field PHOTOS_TAKEN_I has 0.987318330045493 missing values\n",
      "Field STATEMENTS_TAKEN_I has 0.9797603231477381 missing values\n",
      "Field NOT_RIGHT_OF_WAY_I has 0.953916555953675 missing values\n",
      "Field INTERSECTION_RELATED_I has 0.7794570366493552 missing values\n",
      "Field HIT_AND_RUN_I has 0.7224230712454877 missing values\n",
      "Field LANE_CNT has 0.46710683468201886 missing values\n",
      "Field REPORT_TYPE has 0.023012198558718146 missing values\n",
      "Field MOST_SEVERE_INJURY has 0.0057946508850329455 missing values\n",
      "Field INJURIES_NO_INDICATION has 0.005775863225841083 missing values\n",
      "Field INJURIES_TOTAL has 0.005775863225841083 missing values\n",
      "Field INJURIES_FATAL has 0.005775863225841083 missing values\n",
      "Field INJURIES_INCAPACITATING has 0.005775863225841083 missing values\n",
      "Field INJURIES_NON_INCAPACITATING has 0.005775863225841083 missing values\n",
      "Field INJURIES_REPORTED_NOT_EVIDENT has 0.005775863225841083 missing values\n",
      "Field INJURIES_UNKNOWN has 0.005775863225841083 missing values\n",
      "Field NUM_UNITS has 0.0037548478870593287 missing values\n",
      "Field BEAT_OF_OCCURRENCE has 1.073580525249272e-05 missing values\n",
      "Field STREET_DIRECTION has 5.36790262624636e-06 missing values\n",
      "Field STREET_NAME has 2.68395131312318e-06 missing values\n",
      "Field TRAFFIC_CONTROL_DEVICE has 0 missing values\n",
      "Field DEVICE_CONDITION has 0 missing values\n",
      "Field POSTED_SPEED_LIMIT has 0 missing values\n",
      "Field CRASH_DATE has 0 missing values\n",
      "Field WEATHER_CONDITION has 0 missing values\n",
      "Field LIGHTING_CONDITION has 0 missing values\n",
      "Field FIRST_CRASH_TYPE has 0 missing values\n",
      "Field TRAFFICWAY_TYPE has 0 missing values\n",
      "Field PRIM_CONTRIBUTORY_CAUSE has 0 missing values\n",
      "Field ALIGNMENT has 0 missing values\n",
      "Field ROADWAY_SURFACE_COND has 0 missing values\n",
      "Field ROAD_DEFECT has 0 missing values\n",
      "Field CRASH_TYPE has 0 missing values\n",
      "Field DAMAGE has 0 missing values\n",
      "Field DATE_POLICE_NOTIFIED has 0 missing values\n",
      "Field SEC_CONTRIBUTORY_CAUSE has 0 missing values\n",
      "Field STREET_NO has 0 missing values\n",
      "Field RD_NO has 0 missing values\n"
     ]
    },
    {
     "data": {
      "application/javascript": [
       "\n",
       "            setTimeout(function() {\n",
       "                var nbb_cell_id = 7;\n",
       "                var nbb_unformatted_code = \"# crash_missing_report.values\\n# answer goes here\\ncrash_missing_report = missingness_summary(crash, print_log=False, sort='desc')\\nfor item in crash_missing_report.index:\\n  if crash_missing_report[item] == 0:\\n    print(\\\"Field {} has 0 missing values\\\".format(item))\\n  elif crash_missing_report[item] != 0:\\n    print(\\\"Field {} has {} missing values\\\".format(item, crash_missing_report[item]))\";\n",
       "                var nbb_formatted_code = \"# crash_missing_report.values\\n# answer goes here\\ncrash_missing_report = missingness_summary(crash, print_log=False, sort=\\\"desc\\\")\\nfor item in crash_missing_report.index:\\n    if crash_missing_report[item] == 0:\\n        print(\\\"Field {} has 0 missing values\\\".format(item))\\n    elif crash_missing_report[item] != 0:\\n        print(\\\"Field {} has {} missing values\\\".format(item, crash_missing_report[item]))\";\n",
       "                var nbb_cells = Jupyter.notebook.get_cells();\n",
       "                for (var i = 0; i < nbb_cells.length; ++i) {\n",
       "                    if (nbb_cells[i].input_prompt_number == nbb_cell_id) {\n",
       "                        if (nbb_cells[i].get_text() == nbb_unformatted_code) {\n",
       "                             nbb_cells[i].set_text(nbb_formatted_code);\n",
       "                        }\n",
       "                        break;\n",
       "                    }\n",
       "                }\n",
       "            }, 500);\n",
       "            "
      ],
      "text/plain": [
       "<IPython.core.display.Javascript object>"
      ]
     },
     "metadata": {},
     "output_type": "display_data"
    }
   ],
   "source": [
    "# crash_missing_report.values\n",
    "# answer goes here\n",
    "crash_missing_report = missingness_summary(crash, print_log=False, sort='desc')\n",
    "for item in crash_missing_report.index:\n",
    "  if crash_missing_report[item] == 0:\n",
    "    print(\"Field {} has 0 missing values\".format(item))\n",
    "  elif crash_missing_report[item] != 0:\n",
    "    print(\"Field {} has {} missing values\".format(item, crash_missing_report[item]))\n",
    "\n"
   ]
  },
  {
   "cell_type": "code",
   "execution_count": null,
   "metadata": {
    "colab": {},
    "colab_type": "code",
    "id": "QbwwOoCrKERi"
   },
   "outputs": [],
   "source": [
    "\n"
   ]
  },
  {
   "cell_type": "markdown",
   "metadata": {
    "colab_type": "text",
    "id": "T0rFQRHvni8O"
   },
   "source": [
    "For the columns beginning with the string \"INJURIES_\", impute values for the missing data by using an appropriate measure of central tendency.\n",
    "\n",
    "Re-run the *missingness_summary* function after doing the imputation - we should see no missing data in those columns."
   ]
  },
  {
   "cell_type": "code",
   "execution_count": 8,
   "metadata": {
    "colab": {},
    "colab_type": "code",
    "id": "947BjIolni8P"
   },
   "outputs": [
    {
     "data": {
      "application/javascript": [
       "\n",
       "            setTimeout(function() {\n",
       "                var nbb_cell_id = 8;\n",
       "                var nbb_unformatted_code = \"# answer goes here\\ncrash[\\\"CRASH_DATE\\\"] =pd.to_datetime(crash[\\\"CRASH_DATE\\\"])\\n\\n#sns.scatterplot(\\\"CRASH_DATE\\\", \\\"INJURIES_TOTAL\\\", data=crash)\\n\\n#crash[\\\"INJURIES_TOTAL\\\"].hist()\\n\\nfor injury_field in crash.filter(like='INJURIES_').columns:\\n  crash[injury_field] = crash[injury_field].fillna(value=crash[injury_field].median())\";\n",
       "                var nbb_formatted_code = \"# answer goes here\\ncrash[\\\"CRASH_DATE\\\"] = pd.to_datetime(crash[\\\"CRASH_DATE\\\"])\\n\\n# sns.scatterplot(\\\"CRASH_DATE\\\", \\\"INJURIES_TOTAL\\\", data=crash)\\n\\n# crash[\\\"INJURIES_TOTAL\\\"].hist()\\n\\nfor injury_field in crash.filter(like=\\\"INJURIES_\\\").columns:\\n    crash[injury_field] = crash[injury_field].fillna(value=crash[injury_field].median())\";\n",
       "                var nbb_cells = Jupyter.notebook.get_cells();\n",
       "                for (var i = 0; i < nbb_cells.length; ++i) {\n",
       "                    if (nbb_cells[i].input_prompt_number == nbb_cell_id) {\n",
       "                        if (nbb_cells[i].get_text() == nbb_unformatted_code) {\n",
       "                             nbb_cells[i].set_text(nbb_formatted_code);\n",
       "                        }\n",
       "                        break;\n",
       "                    }\n",
       "                }\n",
       "            }, 500);\n",
       "            "
      ],
      "text/plain": [
       "<IPython.core.display.Javascript object>"
      ]
     },
     "metadata": {},
     "output_type": "display_data"
    }
   ],
   "source": [
    "# answer goes here\n",
    "crash[\"CRASH_DATE\"] = pd.to_datetime(crash[\"CRASH_DATE\"])\n",
    "\n",
    "# sns.scatterplot(\"CRASH_DATE\", \"INJURIES_TOTAL\", data=crash)\n",
    "\n",
    "# crash[\"INJURIES_TOTAL\"].hist()\n",
    "\n",
    "for injury_field in crash.filter(like=\"INJURIES_\").columns:\n",
    "    crash[injury_field] = crash[injury_field].fillna(value=crash[injury_field].median())"
   ]
  },
  {
   "cell_type": "code",
   "execution_count": null,
   "metadata": {
    "colab": {
     "base_uri": "https://localhost:8080/",
     "height": 374
    },
    "colab_type": "code",
    "id": "pjrPTvPlLUZs",
    "outputId": "cf53936d-366d-4dec-e0b8-e452f61713f0"
   },
   "outputs": [],
   "source": []
  },
  {
   "cell_type": "code",
   "execution_count": 9,
   "metadata": {
    "colab": {
     "base_uri": "https://localhost:8080/",
     "height": 714
    },
    "colab_type": "code",
    "id": "IbBJDom0QRzI",
    "outputId": "01f2b9c4-fc7b-4321-e3b4-2a5f7a25e1e7"
   },
   "outputs": [
    {
     "name": "stdout",
     "output_type": "stream",
     "text": [
      "Field WORKERS_PRESENT_I has 0.9983520538937424 missing values\n",
      "Field DOORING_I has 0.9966155373941517 missing values\n",
      "Field WORK_ZONE_TYPE has 0.9943905417555725 missing values\n",
      "Field WORK_ZONE_I has 0.9929331561925466 missing values\n",
      "Field PHOTOS_TAKEN_I has 0.987318330045493 missing values\n",
      "Field STATEMENTS_TAKEN_I has 0.9797603231477381 missing values\n",
      "Field NOT_RIGHT_OF_WAY_I has 0.953916555953675 missing values\n",
      "Field INTERSECTION_RELATED_I has 0.7794570366493552 missing values\n",
      "Field HIT_AND_RUN_I has 0.7224230712454877 missing values\n",
      "Field LANE_CNT has 0.46710683468201886 missing values\n",
      "Field REPORT_TYPE has 0.023012198558718146 missing values\n",
      "Field MOST_SEVERE_INJURY has 0.0057946508850329455 missing values\n",
      "Field NUM_UNITS has 0.0037548478870593287 missing values\n",
      "Field BEAT_OF_OCCURRENCE has 1.073580525249272e-05 missing values\n",
      "Field STREET_DIRECTION has 5.36790262624636e-06 missing values\n",
      "Field STREET_NAME has 2.68395131312318e-06 missing values\n",
      "Field ALIGNMENT has 0 missing values\n",
      "Field ROADWAY_SURFACE_COND has 0 missing values\n",
      "Field CRASH_DATE has 0 missing values\n",
      "Field POSTED_SPEED_LIMIT has 0 missing values\n",
      "Field TRAFFIC_CONTROL_DEVICE has 0 missing values\n",
      "Field FIRST_CRASH_TYPE has 0 missing values\n",
      "Field DEVICE_CONDITION has 0 missing values\n",
      "Field TRAFFICWAY_TYPE has 0 missing values\n",
      "Field LIGHTING_CONDITION has 0 missing values\n",
      "Field ROAD_DEFECT has 0 missing values\n",
      "Field WEATHER_CONDITION has 0 missing values\n",
      "Field INJURIES_UNKNOWN has 0 missing values\n",
      "Field PRIM_CONTRIBUTORY_CAUSE has 0 missing values\n",
      "Field CRASH_TYPE has 0 missing values\n",
      "Field DAMAGE has 0 missing values\n",
      "Field DATE_POLICE_NOTIFIED has 0 missing values\n",
      "Field INJURIES_NO_INDICATION has 0 missing values\n",
      "Field SEC_CONTRIBUTORY_CAUSE has 0 missing values\n",
      "Field STREET_NO has 0 missing values\n",
      "Field INJURIES_TOTAL has 0 missing values\n",
      "Field INJURIES_FATAL has 0 missing values\n",
      "Field INJURIES_INCAPACITATING has 0 missing values\n",
      "Field INJURIES_NON_INCAPACITATING has 0 missing values\n",
      "Field INJURIES_REPORTED_NOT_EVIDENT has 0 missing values\n",
      "Field RD_NO has 0 missing values\n"
     ]
    },
    {
     "data": {
      "application/javascript": [
       "\n",
       "            setTimeout(function() {\n",
       "                var nbb_cell_id = 9;\n",
       "                var nbb_unformatted_code = \"# crash_missing_report.values\\n# answer goes here\\ncrash_missing_report = missingness_summary(crash, print_log=False, sort='desc')\\nfor item in crash_missing_report.index:\\n  if crash_missing_report[item] == 0:\\n    print(\\\"Field {} has 0 missing values\\\".format(item))\\n  elif crash_missing_report[item] != 0:\\n    print(\\\"Field {} has {} missing values\\\".format(item, crash_missing_report[item]))\";\n",
       "                var nbb_formatted_code = \"# crash_missing_report.values\\n# answer goes here\\ncrash_missing_report = missingness_summary(crash, print_log=False, sort=\\\"desc\\\")\\nfor item in crash_missing_report.index:\\n    if crash_missing_report[item] == 0:\\n        print(\\\"Field {} has 0 missing values\\\".format(item))\\n    elif crash_missing_report[item] != 0:\\n        print(\\\"Field {} has {} missing values\\\".format(item, crash_missing_report[item]))\";\n",
       "                var nbb_cells = Jupyter.notebook.get_cells();\n",
       "                for (var i = 0; i < nbb_cells.length; ++i) {\n",
       "                    if (nbb_cells[i].input_prompt_number == nbb_cell_id) {\n",
       "                        if (nbb_cells[i].get_text() == nbb_unformatted_code) {\n",
       "                             nbb_cells[i].set_text(nbb_formatted_code);\n",
       "                        }\n",
       "                        break;\n",
       "                    }\n",
       "                }\n",
       "            }, 500);\n",
       "            "
      ],
      "text/plain": [
       "<IPython.core.display.Javascript object>"
      ]
     },
     "metadata": {},
     "output_type": "display_data"
    }
   ],
   "source": [
    "# crash_missing_report.values\n",
    "# answer goes here\n",
    "crash_missing_report = missingness_summary(crash, print_log=False, sort='desc')\n",
    "for item in crash_missing_report.index:\n",
    "  if crash_missing_report[item] == 0:\n",
    "    print(\"Field {} has 0 missing values\".format(item))\n",
    "  elif crash_missing_report[item] != 0:\n",
    "    print(\"Field {} has {} missing values\".format(item, crash_missing_report[item]))\n",
    "\n"
   ]
  },
  {
   "cell_type": "code",
   "execution_count": null,
   "metadata": {
    "colab": {},
    "colab_type": "code",
    "id": "xgJRRR2_PTYq"
   },
   "outputs": [],
   "source": []
  }
 ],
 "metadata": {
  "colab": {
   "collapsed_sections": [],
   "name": "Copy of Day 21 Lecture 1 Assignment.ipynb",
   "provenance": []
  },
  "kernelspec": {
   "display_name": "Python 3",
   "language": "python",
   "name": "python3"
  },
  "language_info": {
   "codemirror_mode": {
    "name": "ipython",
    "version": 3
   },
   "file_extension": ".py",
   "mimetype": "text/x-python",
   "name": "python",
   "nbconvert_exporter": "python",
   "pygments_lexer": "ipython3",
   "version": "3.7.6"
  }
 },
 "nbformat": 4,
 "nbformat_minor": 1
}
