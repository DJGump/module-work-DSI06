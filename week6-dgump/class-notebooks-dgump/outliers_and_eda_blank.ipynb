{
 "cells": [
  {
   "cell_type": "code",
   "execution_count": null,
   "metadata": {},
   "outputs": [],
   "source": [
    "%reload_ext nb_black"
   ]
  },
  {
   "cell_type": "markdown",
   "metadata": {},
   "source": [
    "# Outliers & Univariate EDA"
   ]
  },
  {
   "cell_type": "code",
   "execution_count": 2,
   "metadata": {},
   "outputs": [
    {
     "data": {
      "text/html": [
       "<div>\n",
       "<style scoped>\n",
       "    .dataframe tbody tr th:only-of-type {\n",
       "        vertical-align: middle;\n",
       "    }\n",
       "\n",
       "    .dataframe tbody tr th {\n",
       "        vertical-align: top;\n",
       "    }\n",
       "\n",
       "    .dataframe thead th {\n",
       "        text-align: right;\n",
       "    }\n",
       "</style>\n",
       "<table border=\"1\" class=\"dataframe\">\n",
       "  <thead>\n",
       "    <tr style=\"text-align: right;\">\n",
       "      <th></th>\n",
       "      <th>Rank</th>\n",
       "      <th>Grade</th>\n",
       "      <th>Channel name</th>\n",
       "      <th>Video Uploads</th>\n",
       "      <th>Subscribers</th>\n",
       "      <th>Video views</th>\n",
       "    </tr>\n",
       "  </thead>\n",
       "  <tbody>\n",
       "    <tr>\n",
       "      <th>0</th>\n",
       "      <td>1st</td>\n",
       "      <td>A++</td>\n",
       "      <td>Zee TV</td>\n",
       "      <td>82757</td>\n",
       "      <td>18752951</td>\n",
       "      <td>20869786591</td>\n",
       "    </tr>\n",
       "    <tr>\n",
       "      <th>1</th>\n",
       "      <td>2nd</td>\n",
       "      <td>A++</td>\n",
       "      <td>T-Series</td>\n",
       "      <td>12661</td>\n",
       "      <td>61196302</td>\n",
       "      <td>47548839843</td>\n",
       "    </tr>\n",
       "    <tr>\n",
       "      <th>2</th>\n",
       "      <td>3rd</td>\n",
       "      <td>A++</td>\n",
       "      <td>Cocomelon - Nursery Rhymes</td>\n",
       "      <td>373</td>\n",
       "      <td>19238251</td>\n",
       "      <td>9793305082</td>\n",
       "    </tr>\n",
       "    <tr>\n",
       "      <th>3</th>\n",
       "      <td>4th</td>\n",
       "      <td>A++</td>\n",
       "      <td>SET India</td>\n",
       "      <td>27323</td>\n",
       "      <td>31180559</td>\n",
       "      <td>22675948293</td>\n",
       "    </tr>\n",
       "    <tr>\n",
       "      <th>4</th>\n",
       "      <td>5th</td>\n",
       "      <td>A++</td>\n",
       "      <td>WWE</td>\n",
       "      <td>36756</td>\n",
       "      <td>32852346</td>\n",
       "      <td>26273668433</td>\n",
       "    </tr>\n",
       "  </tbody>\n",
       "</table>\n",
       "</div>"
      ],
      "text/plain": [
       "  Rank Grade                Channel name Video Uploads Subscribers  \\\n",
       "0  1st  A++                       Zee TV         82757    18752951   \n",
       "1  2nd  A++                     T-Series         12661    61196302   \n",
       "2  3rd  A++   Cocomelon - Nursery Rhymes           373    19238251   \n",
       "3  4th  A++                    SET India         27323    31180559   \n",
       "4  5th  A++                          WWE         36756    32852346   \n",
       "\n",
       "   Video views  \n",
       "0  20869786591  \n",
       "1  47548839843  \n",
       "2   9793305082  \n",
       "3  22675948293  \n",
       "4  26273668433  "
      ]
     },
     "execution_count": 2,
     "metadata": {},
     "output_type": "execute_result"
    }
   ],
   "source": [
    "import numpy as np\n",
    "import pandas as pd\n",
    "\n",
    "from scipy import stats\n",
    "import statsmodels.api as sm\n",
    "\n",
    "import seaborn as sns\n",
    "import matplotlib.pyplot as plt\n",
    "\n",
    "# Not needed, I went overkill on a viz\n",
    "# import skimage.io\n",
    "# import wordcloud\n",
    "\n",
    "%matplotlib inline\n",
    "\n",
    "postgres_user = \"dsbc_student\"\n",
    "postgres_pw = \"7*.8G9QH21\"\n",
    "postgres_host = \"142.93.121.174\"\n",
    "postgres_port = \"5432\"\n",
    "postgres_db = \"youtube\"\n",
    "\n",
    "conn_str = f\"postgresql://{postgres_user}:{postgres_pw}@{postgres_host}:{postgres_port}/{postgres_db}\"\n",
    "\n",
    "query = \"\"\"\n",
    "SELECT *\n",
    "FROM youtube\n",
    "\"\"\"\n",
    "\n",
    "youtube_df = pd.read_sql_query(query, con=conn_str)\n",
    "youtube_df.head()"
   ]
  },
  {
   "cell_type": "markdown",
   "metadata": {},
   "source": [
    "## Identifying Outliers\n",
    "\n",
    "### Eyeballing\n",
    "\n",
    "We can just try and look through the data to see outliers... This doesn't work too well...\n",
    "\n",
    "In this data we have a huge range of values, from just seeing the `.head()` and the `.tail()` we can't tell if the high numbers are outliers, the low numbers are outliers, or if it smoothly covers the full range."
   ]
  },
  {
   "cell_type": "code",
   "execution_count": 6,
   "metadata": {},
   "outputs": [
    {
     "data": {
      "text/plain": [
       "3    22675948293\n",
       "6    23898730764\n",
       "8    24518098041\n",
       "4    26273668433\n",
       "1    47548839843\n",
       "Name: Video views, dtype: int64"
      ]
     },
     "execution_count": 6,
     "metadata": {},
     "output_type": "execute_result"
    }
   ],
   "source": [
    "youtube_df[\"Video views\"].sort_values().head()\n",
    "youtube_df[\"Video views\"].sort_values().tail()"
   ]
  },
  {
   "cell_type": "markdown",
   "metadata": {},
   "source": [
    "### Visualization\n",
    "\n",
    "A better way would be to use one of the distribution visualizations we know."
   ]
  },
  {
   "cell_type": "code",
   "execution_count": 10,
   "metadata": {},
   "outputs": [
    {
     "data": {
      "text/plain": [
       "<matplotlib.axes._subplots.AxesSubplot at 0x277cf29a908>"
      ]
     },
     "execution_count": 10,
     "metadata": {},
     "output_type": "execute_result"
    },
    {
     "data": {
      "image/png": "[encoded data removed]",
      "text/plain": [
       "<Figure size 432x288 with 1 Axes>"
      ]
     },
     "metadata": {
      "needs_background": "light"
     },
     "output_type": "display_data"
    }
   ],
   "source": [
    "sns.violinplot(youtube_df[\"Video views\"])"
   ]
  },
  {
   "cell_type": "markdown",
   "metadata": {},
   "source": [
    "### Cutoff values\n",
    "\n",
    "#### Z scores\n",
    "\n",
    "To be a little more formal we could look into calculating $z$ scores for our observations.\n",
    "\n",
    "The `scipy.stats` module has a function for calculating this, but there's also a custom implementation below to see what's actually being done.  In english, the formula is, for each observation, subtract the mean and divide by the standard deviation.  Intuitively, a $z$ score tells you how many standard deviations from the mean each observation is.\n",
    "![](https://i0.wp.com/www.drdawnwright.com/wp-content/uploads/2019/09/ER1.png)\n",
    "\n",
    "##### By 'hand' example"
   ]
  },
  {
   "cell_type": "code",
   "execution_count": null,
   "metadata": {},
   "outputs": [],
   "source": []
  },
  {
   "cell_type": "code",
   "execution_count": 11,
   "metadata": {},
   "outputs": [
    {
     "data": {
      "text/plain": [
       "array([-0.72471179, -0.59463532, -0.46455884, -0.33448237, -0.20440589,\n",
       "       -0.07432941,  2.39712362])"
      ]
     },
     "execution_count": 11,
     "metadata": {},
     "output_type": "execute_result"
    }
   ],
   "source": [
    "sample = np.array([1, 2, 3, 4, 5, 6, 25])\n",
    "\n",
    "mean = sample.mean()\n",
    "std = sample.std()\n",
    "z_scores = (sample - mean) / std\n",
    "\n",
    "z_scores"
   ]
  },
  {
   "cell_type": "code",
   "execution_count": null,
   "metadata": {},
   "outputs": [],
   "source": []
  },
  {
   "cell_type": "markdown",
   "metadata": {},
   "source": [
    "##### Using functions\n",
    "\n",
    "So we can calculate these scores; so what?  With the scores, you can decide on a threshold that indicates just how far you want your data to go.  There's no perfect rule-of-thumb value.  If using this method, try some values and see how it affects your data (i.e. cuts out too much of the data as outliers? not enough?)"
   ]
  },
  {
   "cell_type": "code",
   "execution_count": 13,
   "metadata": {},
   "outputs": [],
   "source": [
    "# Function to calculate z score\n",
    "def calc_z_scores(sample):\n",
    "    mean = sample.mean()\n",
    "    std = sample.std()\n",
    "    z_scores = (sample - mean) / std\n",
    "\n",
    "    return z_scores"
   ]
  },
  {
   "cell_type": "code",
   "execution_count": 19,
   "metadata": {},
   "outputs": [
    {
     "name": "stdout",
     "output_type": "stream",
     "text": [
      "[ 9.8811672  23.19643621  4.3529976  10.78260582 12.5781947 ]\n",
      "0     9.880179\n",
      "1    23.194116\n",
      "2     4.352562\n",
      "3    10.781528\n",
      "4    12.576937\n",
      "Name: Video views, dtype: float64\n"
     ]
    },
    {
     "data": {
      "text/plain": [
       "True"
      ]
     },
     "execution_count": 19,
     "metadata": {},
     "output_type": "execute_result"
    }
   ],
   "source": [
    "# Calculate z score with scipy.stats\n",
    "scipy_z = stats.zscore(youtube_df[\"Video views\"])\n",
    "\n",
    "# Calculate z score with custom function\n",
    "homebrew_z = calc_z_scores(youtube_df[\"Video views\"])\n",
    "\n",
    "\n",
    "# View the first 5 elements of each z score output to see differences\n",
    "print(scipy_z[0:5])\n",
    "print(homebrew_z.head(5))\n",
    "\n",
    "\n",
    "# Officially test that we're in the same ball park for scores\n",
    "np.allclose(scipy_z, homebrew_z, atol=0.003)"
   ]
  },
  {
   "cell_type": "markdown",
   "metadata": {},
   "source": [
    "#### IQR\n",
    "\n",
    "The interquartile range can also be used with some thresholding to decide whats an outlier.  This is how boxplots typically decide which points are outliers.  See reading for more..."
   ]
  },
  {
   "cell_type": "markdown",
   "metadata": {},
   "source": [
    "### Handling outliers\n",
    "\n",
    "Before you do anything about outliers you want to be intimately familiar with the data.  Why are there outliers? are they valid? do the outliers affect the analysis? how?\n",
    "\n",
    "You need to weigh the costs/benefits of dropping/modifying outliers in light of your goals for the project.  Are the outliers 'pattern breaking' or are they extreme in a predictable way?\n",
    "\n",
    "Quote from John Tukey (super smart/influential stats guy):\n",
    "\n",
    "> Sets of observations which have been de-tailed by over-vigorous use of a rule for rejecting outliers are inappropriate, since they are not samples.\n",
    "\n",
    "Quote from Francis Bacon (maybe quote.. maybe paraphrase.. can't find good source)\n",
    "\n",
    "> We learn once when we establish the general rule, and learn again when we investigate the exceptions."
   ]
  },
  {
   "cell_type": "code",
   "execution_count": 20,
   "metadata": {},
   "outputs": [],
   "source": [
    "# fmt: off\n",
    "df = {\n",
    "    'n_drinks': [6, 2, 12, 6, 6, 5, 1, 5, 4, \n",
    "                 4, 4,  3, 5, 1, 6, 4, 6, 2,\n",
    "                 2, 2,  2, 6, 5, 2, 4, 6, 1,\n",
    "                 6, 3,  2, 1],\n",
    "    'blood_alcohol_content': [0.355, 0.132, 0.714, 0.354, 0.368, 0.292, 0.06 , 0.288, 0.25 ,\n",
    "                              0.233, 0.243, 0.167, 0.298, 0.065, 0.363, 0.251, 0.356, 0.111,\n",
    "                              0.131, 0.119, 0.111, 0.364, 0.305, 0.115, 0.247, 0.367, 0.702,\n",
    "                              0.375, 0.192, 0.117, 0.062],\n",
    "}\n",
    "# fmt: on"
   ]
  },
  {
   "cell_type": "markdown",
   "metadata": {},
   "source": [
    "Identify any outliers in the `'blood_alcohol_content'` column."
   ]
  },
  {
   "cell_type": "code",
   "execution_count": 22,
   "metadata": {},
   "outputs": [
    {
     "data": {
      "text/plain": [
       "<matplotlib.axes._subplots.AxesSubplot at 0x277cf39b8c8>"
      ]
     },
     "execution_count": 22,
     "metadata": {},
     "output_type": "execute_result"
    },
    {
     "data": {
      "image/png": "[encoded data removed]",
      "text/plain": [
       "<Figure size 432x288 with 1 Axes>"
      ]
     },
     "metadata": {
      "needs_background": "light"
     },
     "output_type": "display_data"
    }
   ],
   "source": [
    "sns.boxplot(df[\"blood_alcohol_content\"])"
   ]
  },
  {
   "cell_type": "code",
   "execution_count": 21,
   "metadata": {},
   "outputs": [
    {
     "data": {
      "text/plain": [
       "array([-1.28517577, -1.2724207 , -1.2532881 , -0.95992158, -0.95992158,\n",
       "       -0.93441145, -0.92165639, -0.90890132, -0.83237092, -0.82599339,\n",
       "       -0.60277973, -0.44334141, -0.18186255, -0.11808722, -0.09257709,\n",
       "       -0.07344449, -0.06706696,  0.16890176,  0.19441189,  0.23267709,\n",
       "        0.27731982,  0.58981894,  0.59619647,  0.60257401,  0.64721674,\n",
       "        0.65359427,  0.67272687,  0.6791044 ,  0.72374713,  2.80920043,\n",
       "        2.88573083])"
      ]
     },
     "execution_count": 21,
     "metadata": {},
     "output_type": "execute_result"
    }
   ],
   "source": [
    "z = stats.zscore(df['blood_alcohol_content'])\n",
    "z.sort()\n",
    "z"
   ]
  },
  {
   "cell_type": "code",
   "execution_count": 26,
   "metadata": {},
   "outputs": [
    {
     "data": {
      "text/plain": [
       "<matplotlib.axes._subplots.AxesSubplot at 0x277cf92fc48>"
      ]
     },
     "execution_count": 26,
     "metadata": {},
     "output_type": "execute_result"
    },
    {
     "data": {
      "image/png": "[encoded data removed]",
      "text/plain": [
       "<Figure size 432x288 with 1 Axes>"
      ]
     },
     "metadata": {
      "needs_background": "light"
     },
     "output_type": "display_data"
    }
   ],
   "source": [
    "sns.scatterplot(\"n_drinks\", \"blood_alcohol_content\", data=df)"
   ]
  },
  {
   "cell_type": "markdown",
   "metadata": {},
   "source": [
    "back to YouTube...\n",
    "\n",
    "#### Strategies covered in the reading\n",
    "\n",
    "* Drop outliers\n",
    "  * Know the impact of the info you're removing before doing so\n",
    "  * Example use case\n",
    "  * Adam's preferred for 'pattern breaking' outliers\n",
    "* Winsorization (know the impact of the info you're adjusting before doing so; adam's least favorite & least used)\n",
    "* Transformation (keeps all information/observations; adam's preferred for 'pattern following' outliers)\n",
    "\n",
    "#### Example\n",
    "\n",
    "Let's start by exploring 2 common transformations for data.  We can apply them and then plot them to see how they affect the distribution."
   ]
  },
  {
   "cell_type": "code",
   "execution_count": 27,
   "metadata": {
    "scrolled": true
   },
   "outputs": [],
   "source": [
    "log_views = np.log(youtube_df['Video views'])\n",
    "sqrt_views = np.sqrt(youtube_df['Video views'])"
   ]
  },
  {
   "cell_type": "markdown",
   "metadata": {},
   "source": [
    "Create plots for the transformed variables.  Which is the most normal?"
   ]
  },
  {
   "cell_type": "code",
   "execution_count": 29,
   "metadata": {},
   "outputs": [
    {
     "data": {
      "image/png": "[encoded data removed]",
      "text/plain": [
       "<Figure size 432x288 with 1 Axes>"
      ]
     },
     "metadata": {
      "needs_background": "light"
     },
     "output_type": "display_data"
    }
   ],
   "source": [
    "plt.hist(log_views)\n",
    "plt.show()"
   ]
  },
  {
   "cell_type": "code",
   "execution_count": 30,
   "metadata": {},
   "outputs": [
    {
     "data": {
      "image/png": "[encoded data removed]",
      "text/plain": [
       "<Figure size 432x288 with 1 Axes>"
      ]
     },
     "metadata": {
      "needs_background": "light"
     },
     "output_type": "display_data"
    }
   ],
   "source": [
    "plt.hist(sqrt_views)\n",
    "plt.show()"
   ]
  },
  {
   "cell_type": "markdown",
   "metadata": {},
   "source": [
    "It's important to remember you're not limited to a single strategy.  It looks like we're almost normal with the log transform.  We have a little left skew, we could see what dropping extreme outliers with a z-score method might do.  We'll use a cutoff value of 3.\n",
    "\n",
    "Our results show that we only lose 19 of our 5000 observations; this removal rate of 0.3% is not bad at all, especially since our data is now normal for most intents and purposes."
   ]
  },
  {
   "cell_type": "code",
   "execution_count": 33,
   "metadata": {
    "scrolled": false
   },
   "outputs": [
    {
     "name": "stdout",
     "output_type": "stream",
     "text": [
      "There were 19 observations removed by z-score.\n"
     ]
    },
    {
     "data": {
      "image/png": "[encoded data removed]",
      "text/plain": [
       "<Figure size 432x288 with 2 Axes>"
      ]
     },
     "metadata": {
      "needs_background": "light"
     },
     "output_type": "display_data"
    }
   ],
   "source": [
    "z_scores = stats.zscore(log_views)\n",
    "outlier_filter = np.where(abs(z_scores) <= 3)\n",
    "\n",
    "\n",
    "filtered_log_views = log_views.values[outlier_filter]\n",
    "\n",
    "# Show count of lost observations\n",
    "print(\n",
    "    f\"There were {len(log_views) - len(filtered_log_views)} observations removed by z-score.\"\n",
    ")\n",
    "\n",
    "# Re-check histogram and normal QQ plot\n",
    "# Going to use side by side plots via subplots\n",
    "# plt.subplots(n_rows, n_cols)\n",
    "fig, axes = plt.subplots(1, 2)\n",
    "\n",
    "axes[0].hist(filtered_log_views)\n",
    "sm.qqplot(filtered_log_views, line='s', ax=axes[1])\n",
    "\n",
    "axes[0].set_title(\"Log transform hist\")\n",
    "axes[1].set_title(\"Log transform QQ\")\n",
    "\n",
    "plt.tight_layout()\n",
    "plt.show()"
   ]
  },
  {
   "cell_type": "markdown",
   "metadata": {},
   "source": [
    "Okay, we transformed a variable to be more normal, so what?\n",
    "\n",
    "* Create a scatter plot of 'Video views' & 'Video Uploads' before transformation.\n",
    "\n",
    "* Log transform both and then remake the same scatter plot"
   ]
  },
  {
   "cell_type": "code",
   "execution_count": 32,
   "metadata": {},
   "outputs": [
    {
     "data": {
      "text/plain": [
       "<matplotlib.axes._subplots.AxesSubplot at 0x277d31dcc08>"
      ]
     },
     "execution_count": 32,
     "metadata": {},
     "output_type": "execute_result"
    },
    {
     "data": {
      "image/png": "[encoded data removed]",
      "text/plain": [
       "<Figure size 432x288 with 1 Axes>"
      ]
     },
     "metadata": {
      "needs_background": "light"
     },
     "output_type": "display_data"
    }
   ],
   "source": [
    " \n",
    "# sns.scatterplot('Video Uploads', 'Video views', data=youtube_df)"
   ]
  },
  {
   "cell_type": "markdown",
   "metadata": {},
   "source": [
    "A negative of transforms is that their less intuitive to think about and interpret.  If we built a linear model to predict views given the number of uploads, we might discover that for every 10 uploads we expect 5 views.  However, if we've done log transforms to our data we lose a little bit of this interpretability; interpreting these types of models is [still doable](https://stats.stackexchange.com/a/18639/102646), but definitely less intuitive.  You need to weigh the pros/cons of the accuracy/interpretability trade-off when making modeling decisions."
   ]
  },
  {
   "cell_type": "markdown",
   "metadata": {},
   "source": [
    "## Further EDA\n",
    "\n",
    "What grades occurred the most? Which the least?  (include a visualization)"
   ]
  },
  {
   "cell_type": "code",
   "execution_count": null,
   "metadata": {},
   "outputs": [],
   "source": []
  },
  {
   "cell_type": "markdown",
   "metadata": {},
   "source": [
    "----\n",
    "\n",
    "Below is just to show that the `wordcloud` package can produce prettier wordclouds than what was shown in the reading.  Remember that prettiness doesn't really factor into EDA though; save prettiness for presentations/reports/etc."
   ]
  },
  {
   "cell_type": "code",
   "execution_count": 34,
   "metadata": {
    "scrolled": false
   },
   "outputs": [
    {
     "ename": "NameError",
     "evalue": "name 'skimage' is not defined",
     "output_type": "error",
     "traceback": [
      "\u001b[1;31m---------------------------------------------------------------------------\u001b[0m",
      "\u001b[1;31mNameError\u001b[0m                                 Traceback (most recent call last)",
      "\u001b[1;32m<ipython-input-34-ab7308ce7a93>\u001b[0m in \u001b[0;36m<module>\u001b[1;34m\u001b[0m\n\u001b[0;32m      6\u001b[0m \u001b[1;31m# The first 3 channels are RGB.  Black in RGB is (0, 0, 0); white is (255, 255, 255)\u001b[0m\u001b[1;33m\u001b[0m\u001b[1;33m\u001b[0m\u001b[1;33m\u001b[0m\u001b[0m\n\u001b[0;32m      7\u001b[0m \u001b[1;31m# The fourth channel is Alpha (aka Transparency).  0 is opaque; 255 is transparent.\u001b[0m\u001b[1;33m\u001b[0m\u001b[1;33m\u001b[0m\u001b[1;33m\u001b[0m\u001b[0m\n\u001b[1;32m----> 8\u001b[1;33m mask = skimage.io.imread(\n\u001b[0m\u001b[0;32m      9\u001b[0m     \u001b[1;34m\"https://seeklogo.net/wp-content/uploads/2016/06/YouTube-icon.png\"\u001b[0m\u001b[1;33m\u001b[0m\u001b[1;33m\u001b[0m\u001b[0m\n\u001b[0;32m     10\u001b[0m )\n",
      "\u001b[1;31mNameError\u001b[0m: name 'skimage' is not defined"
     ]
    }
   ],
   "source": [
    "# Create text that will be analyzed\n",
    "channel_name_text = \" \".join(youtube_df[\"Channel name\"])\n",
    "\n",
    "# Download youtube logo to format wordcloud shape/color\n",
    "# The mask will be a 3d numpy array: (height, width, [RGBA]); where RGBA = Red Green Blue Alpha\n",
    "# The first 3 channels are RGB.  Black in RGB is (0, 0, 0); white is (255, 255, 255)\n",
    "# The fourth channel is Alpha (aka Transparency).  0 is opaque; 255 is transparent.\n",
    "mask = skimage.io.imread(\n",
    "    \"https://seeklogo.net/wp-content/uploads/2016/06/YouTube-icon.png\"\n",
    ")\n",
    "print(f\"mask shape: {mask.shape}\")\n",
    "\n",
    "# After inspection we notice that alot of pixels have value (0, 0, 0, 0); aka opaque black\n",
    "# We'd like these pixels to be transparent.\n",
    "# An easy way to do this is to set all these pixels to (255, 255, 255, 255); aka transparent white\n",
    "mask[np.where(mask == [0, 0, 0, 0])] = 255\n",
    "\n",
    "# Pass mask to WordCloud to shape our outputted plot\n",
    "channel_wordcloud = wordcloud.WordCloud(background_color=\"white\", mask=mask).generate(\n",
    "    channel_name_text\n",
    ")\n",
    "\n",
    "# Use mask and ImageColorGenerator to color our outputted plot\n",
    "color_gen = wordcloud.ImageColorGenerator(mask)\n",
    "channel_wordcloud = channel_wordcloud.recolor(color_func=color_gen)\n",
    "\n",
    "plt.figure(figsize=(20, 10))\n",
    "plt.imshow(channel_wordcloud, interpolation=\"bilinear\")\n",
    "plt.axis(\"off\")\n",
    "plt.show()"
   ]
  },
  {
   "cell_type": "code",
   "execution_count": null,
   "metadata": {},
   "outputs": [],
   "source": []
  }
 ],
 "metadata": {
  "kernelspec": {
   "display_name": "Python 3",
   "language": "python",
   "name": "python3"
  },
  "language_info": {
   "codemirror_mode": {
    "name": "ipython",
    "version": 3
   },
   "file_extension": ".py",
   "mimetype": "text/x-python",
   "name": "python",
   "nbconvert_exporter": "python",
   "pygments_lexer": "ipython3",
   "version": "3.7.6"
  }
 },
 "nbformat": 4,
 "nbformat_minor": 2
}
