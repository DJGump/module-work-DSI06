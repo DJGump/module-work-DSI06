{
 "cells": [
  {
   "cell_type": "code",
   "execution_count": null,
   "metadata": {},
   "outputs": [],
   "source": [
    "%reload_ext nb_black"
   ]
  },
  {
   "cell_type": "markdown",
   "metadata": {},
   "source": [
    "### What are the main* built-in python data types?\n",
    "\n",
    "Let's also practice our jupyter/markdown skills while doing this warmup.  Convert the below cell to markdown, and fill it with your answer as a bulleted list."
   ]
  },
  {
   "cell_type": "markdown",
   "metadata": {},
   "source": []
  },
  {
   "cell_type": "markdown",
   "metadata": {},
   "source": [
    "General Python:\n",
    "* int\n",
    "* float\n",
    "* str\n",
    "* bool\n",
    "* list\n",
    "* dict\n",
    "* datetime\n",
    "* object\n",
    "* dict\n",
    "* tuple \n",
    "* sets \n",
    "* Pandas: dataframe\n",
    "* numpy: array\n",
    "\n",
    "-----\n",
    "For ML:\n",
    "\n",
    "* continuous/numeric\n",
    "    * ints\n",
    "    * floats\n",
    "* categorical\n",
    "    * str\n",
    "    * bool \n",
    "    \n"
   ]
  },
  {
   "cell_type": "markdown",
   "metadata": {},
   "source": [
    "<sub>\n",
    "*This could of course be debated, but... let's not.  List as many built-in types as you'd like.\n",
    "</sub>"
   ]
  },
  {
   "cell_type": "markdown",
   "metadata": {},
   "source": [
    "### What kinds of data types are we primarily** dealing with inside of `pandas` dataframes, and what are some ways they are handled differently?\n",
    "\n",
    "Again, let's use markdown in the below cell.  Format however you'd like."
   ]
  },
  {
   "cell_type": "markdown",
   "metadata": {},
   "source": []
  },
  {
   "cell_type": "markdown",
   "metadata": {},
   "source": [
    "<sub>\n",
    "**This could of course be debated, but... let's not.  List as many panda-ish types as you'd like.\n",
    "</sub>"
   ]
  },
  {
   "cell_type": "markdown",
   "metadata": {},
   "source": [
    "-----\n",
    "\n",
    "### Fun with datatypes in `pandas`\n",
    "\n",
    "Below there are some lists defined with varying types of data.\n",
    "\n",
    "* Use these lists to build a dataframe where each list is its own column.  "
   ]
  },
  {
   "cell_type": "code",
   "execution_count": null,
   "metadata": {},
   "outputs": [],
   "source": [
    "import pandas as pd\n",
    "\n",
    "\n",
    "a = [True, False, True]\n",
    "b = [\"1\", \"2\", \"3\"]\n",
    "c = [1, 2, 3]\n",
    "d = [1.1, 2.2, 3.3]\n",
    "e = [[1], [2], [3]]\n",
    "f = [(1, 1), (2, 2), (3, 3)]\n",
    "g = [{\"1\": 1}, {\"2\": 2}, {\"3\": 3}]\n",
    "h = [True, 1, \"1\"]"
   ]
  },
  {
   "cell_type": "code",
   "execution_count": null,
   "metadata": {},
   "outputs": [],
   "source": [
    "df = ___________"
   ]
  },
  {
   "cell_type": "markdown",
   "metadata": {},
   "source": [
    "Above we let the dataframe be the last element of a cell, so it's automatically displayed.  Note that this is a different view than if you use the `print()` function.  There's also a `display()` function that can be used (this is how dataframe's are shown if they appear at the end of a cell.\n",
    "\n",
    "* Use both `print()` and `display()` below to view your dataframe.\n",
    "* Note the differences (especially when it comes to datatypes)."
   ]
  },
  {
   "cell_type": "code",
   "execution_count": null,
   "metadata": {},
   "outputs": [],
   "source": []
  },
  {
   "cell_type": "markdown",
   "metadata": {},
   "source": [
    "To check the datatype of anything in python we can use the `type` function."
   ]
  },
  {
   "cell_type": "code",
   "execution_count": null,
   "metadata": {},
   "outputs": [],
   "source": [
    "type(1)"
   ]
  },
  {
   "cell_type": "code",
   "execution_count": null,
   "metadata": {},
   "outputs": [],
   "source": [
    "type(\"1\")"
   ]
  },
  {
   "cell_type": "code",
   "execution_count": null,
   "metadata": {},
   "outputs": [],
   "source": [
    "type(a)"
   ]
  },
  {
   "cell_type": "code",
   "execution_count": null,
   "metadata": {},
   "outputs": [],
   "source": [
    "type(a[0])"
   ]
  },
  {
   "cell_type": "code",
   "execution_count": null,
   "metadata": {},
   "outputs": [],
   "source": [
    "# assumes your dataframe is named df\n",
    "type(df)"
   ]
  },
  {
   "cell_type": "code",
   "execution_count": null,
   "metadata": {},
   "outputs": [],
   "source": [
    "# assumes your dataframe is named df\n",
    "# get type of first column\n",
    "type(df.iloc[:, 0])"
   ]
  },
  {
   "cell_type": "markdown",
   "metadata": {},
   "source": [
    "But what about the contents of a dataframe column (aka a 'pandas series'; aka a '`pd.Series` object')?\n",
    "\n",
    "To do this we can use the `dtype` attribute like: `my_dataframe['my_column'].dtype`\n",
    "\n",
    "Below, show the `dtype` of your dataframe's first column."
   ]
  },
  {
   "cell_type": "code",
   "execution_count": null,
   "metadata": {},
   "outputs": [],
   "source": []
  },
  {
   "cell_type": "markdown",
   "metadata": {},
   "source": [
    "But what about seeing every columns datatypes at once?!  We have a couple options here.  We can look at the `dtypes` attribute of the dataframe like so: `dataframe.dtypes`.\n",
    "\n",
    "We can also use the `info()` method; this shows the datatypes and some additional meta info as well.\n",
    "\n",
    "Below, call the `info()` method of your dataframe and note all of the output displayed."
   ]
  },
  {
   "cell_type": "code",
   "execution_count": null,
   "metadata": {},
   "outputs": [],
   "source": []
  },
  {
   "cell_type": "markdown",
   "metadata": {},
   "source": [
    "### Warm-up bonus\n",
    "\n",
    "If you blew through the above stuff.\n",
    "\n",
    "Write a for loop that:\n",
    "* Iterates over the column names of your dataframe\n",
    "* Prints the following information in each iteration:\n",
    "    * The datatype of the column's contents\n",
    "    * The type of the column's first element (i.e. if the column has the values `['a', 'b', 'c']`, print the type of `'a'`)"
   ]
  },
  {
   "cell_type": "code",
   "execution_count": null,
   "metadata": {},
   "outputs": [],
   "source": []
  }
 ],
 "metadata": {
  "kernelspec": {
   "display_name": "Python 3",
   "language": "python",
   "name": "python3"
  },
  "language_info": {
   "codemirror_mode": {
    "name": "ipython",
    "version": 3
   },
   "file_extension": ".py",
   "mimetype": "text/x-python",
   "name": "python",
   "nbconvert_exporter": "python",
   "pygments_lexer": "ipython3",
   "version": "3.7.6"
  }
 },
 "nbformat": 4,
 "nbformat_minor": 2
}
