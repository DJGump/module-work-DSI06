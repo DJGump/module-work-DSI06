{
 "cells": [
  {
   "cell_type": "code",
   "execution_count": 1,
   "metadata": {},
   "outputs": [
    {
     "data": {
      "application/javascript": [
       "\n",
       "            setTimeout(function() {\n",
       "                var nbb_cell_id = 1;\n",
       "                var nbb_unformatted_code = \"%reload_ext nb_black\";\n",
       "                var nbb_formatted_code = \"%reload_ext nb_black\";\n",
       "                var nbb_cells = Jupyter.notebook.get_cells();\n",
       "                for (var i = 0; i < nbb_cells.length; ++i) {\n",
       "                    if (nbb_cells[i].input_prompt_number == nbb_cell_id) {\n",
       "                        if (nbb_cells[i].get_text() == nbb_unformatted_code) {\n",
       "                             nbb_cells[i].set_text(nbb_formatted_code);\n",
       "                        }\n",
       "                        break;\n",
       "                    }\n",
       "                }\n",
       "            }, 500);\n",
       "            "
      ],
      "text/plain": [
       "<IPython.core.display.Javascript object>"
      ]
     },
     "metadata": {},
     "output_type": "display_data"
    }
   ],
   "source": [
    "%reload_ext nb_black"
   ]
  },
  {
   "cell_type": "markdown",
   "metadata": {},
   "source": [
    "### What are some python data types?\n",
    "\n",
    "Let's also practice our jupyter/markdown skills while doing this warmup.  Convert the below cell to markdown, and fill it with your answer as a bulleted list."
   ]
  },
  {
   "cell_type": "markdown",
   "metadata": {},
   "source": [
    "For general Python:\n",
    "\n",
    "* int\n",
    "* float\n",
    "* str\n",
    "* bool\n",
    "* list\n",
    "* dict\n",
    "* datetime\n",
    "* object\n",
    "* dict\n",
    "* tuple\n",
    "* sets\n",
    "* pandas dataframe\n",
    "* numpy array\n",
    "\n",
    "----\n",
    "\n",
    "For ML:\n",
    "\n",
    "* continous/numeric\n",
    "  * ints\n",
    "  * floats\n",
    "* categorical\n",
    "  * str\n",
    "  * bool"
   ]
  },
  {
   "cell_type": "markdown",
   "metadata": {},
   "source": [
    "### What some data types we deal with while using `pandas` dataframes?"
   ]
  },
  {
   "cell_type": "markdown",
   "metadata": {},
   "source": [
    "* series\n",
    "* object\n",
    "* float\n",
    "* int"
   ]
  },
  {
   "cell_type": "markdown",
   "metadata": {},
   "source": [
    "-----\n",
    "\n",
    "### Fun with datatypes in `pandas`\n",
    "\n",
    "Below there are some lists defined with varying types of data.\n",
    "\n",
    "* Use these lists to build a dataframe where each list is its own column.  "
   ]
  },
  {
   "cell_type": "code",
   "execution_count": 2,
   "metadata": {},
   "outputs": [
    {
     "data": {
      "application/javascript": [
       "\n",
       "            setTimeout(function() {\n",
       "                var nbb_cell_id = 2;\n",
       "                var nbb_unformatted_code = \"import pandas as pd\\n\\n\\na = [True, False, True]\\nb = [\\\"1\\\", \\\"2\\\", \\\"3\\\"]\\nc = [1, 2, 3]\\nd = [1.1, 2.2, 3.3]\\ne = [[1], [2], [3]]\\nf = [(1, 1), (2, 2), (3, 3)]\\ng = [{\\\"1\\\": 1}, {\\\"2\\\": 2}, {\\\"3\\\": 3}]\\nh = [True, 1, \\\"1\\\"]\";\n",
       "                var nbb_formatted_code = \"import pandas as pd\\n\\n\\na = [True, False, True]\\nb = [\\\"1\\\", \\\"2\\\", \\\"3\\\"]\\nc = [1, 2, 3]\\nd = [1.1, 2.2, 3.3]\\ne = [[1], [2], [3]]\\nf = [(1, 1), (2, 2), (3, 3)]\\ng = [{\\\"1\\\": 1}, {\\\"2\\\": 2}, {\\\"3\\\": 3}]\\nh = [True, 1, \\\"1\\\"]\";\n",
       "                var nbb_cells = Jupyter.notebook.get_cells();\n",
       "                for (var i = 0; i < nbb_cells.length; ++i) {\n",
       "                    if (nbb_cells[i].input_prompt_number == nbb_cell_id) {\n",
       "                        if (nbb_cells[i].get_text() == nbb_unformatted_code) {\n",
       "                             nbb_cells[i].set_text(nbb_formatted_code);\n",
       "                        }\n",
       "                        break;\n",
       "                    }\n",
       "                }\n",
       "            }, 500);\n",
       "            "
      ],
      "text/plain": [
       "<IPython.core.display.Javascript object>"
      ]
     },
     "metadata": {},
     "output_type": "display_data"
    }
   ],
   "source": [
    "import pandas as pd\n",
    "\n",
    "\n",
    "a = [True, False, True]\n",
    "b = [\"1\", \"2\", \"3\"]\n",
    "c = [1, 2, 3]\n",
    "d = [1.1, 2.2, 3.3]\n",
    "e = [[1], [2], [3]]\n",
    "f = [(1, 1), (2, 2), (3, 3)]\n",
    "g = [{\"1\": 1}, {\"2\": 2}, {\"3\": 3}]\n",
    "h = [True, 1, \"1\"]"
   ]
  },
  {
   "cell_type": "code",
   "execution_count": 3,
   "metadata": {},
   "outputs": [
    {
     "data": {
      "text/html": [
       "<div>\n",
       "<style scoped>\n",
       "    .dataframe tbody tr th:only-of-type {\n",
       "        vertical-align: middle;\n",
       "    }\n",
       "\n",
       "    .dataframe tbody tr th {\n",
       "        vertical-align: top;\n",
       "    }\n",
       "\n",
       "    .dataframe thead th {\n",
       "        text-align: right;\n",
       "    }\n",
       "</style>\n",
       "<table border=\"1\" class=\"dataframe\">\n",
       "  <thead>\n",
       "    <tr style=\"text-align: right;\">\n",
       "      <th></th>\n",
       "      <th>bool</th>\n",
       "      <th>str</th>\n",
       "      <th>int</th>\n",
       "      <th>float</th>\n",
       "      <th>list</th>\n",
       "      <th>tuple</th>\n",
       "      <th>dict</th>\n",
       "      <th>mixed</th>\n",
       "    </tr>\n",
       "  </thead>\n",
       "  <tbody>\n",
       "    <tr>\n",
       "      <th>0</th>\n",
       "      <td>True</td>\n",
       "      <td>1</td>\n",
       "      <td>1</td>\n",
       "      <td>1.1</td>\n",
       "      <td>[1]</td>\n",
       "      <td>(1, 1)</td>\n",
       "      <td>{'1': 1}</td>\n",
       "      <td>True</td>\n",
       "    </tr>\n",
       "    <tr>\n",
       "      <th>1</th>\n",
       "      <td>False</td>\n",
       "      <td>2</td>\n",
       "      <td>2</td>\n",
       "      <td>2.2</td>\n",
       "      <td>[2]</td>\n",
       "      <td>(2, 2)</td>\n",
       "      <td>{'2': 2}</td>\n",
       "      <td>1</td>\n",
       "    </tr>\n",
       "    <tr>\n",
       "      <th>2</th>\n",
       "      <td>True</td>\n",
       "      <td>3</td>\n",
       "      <td>3</td>\n",
       "      <td>3.3</td>\n",
       "      <td>[3]</td>\n",
       "      <td>(3, 3)</td>\n",
       "      <td>{'3': 3}</td>\n",
       "      <td>1</td>\n",
       "    </tr>\n",
       "  </tbody>\n",
       "</table>\n",
       "</div>"
      ],
      "text/plain": [
       "    bool str  int  float list   tuple      dict mixed\n",
       "0   True   1    1    1.1  [1]  (1, 1)  {'1': 1}  True\n",
       "1  False   2    2    2.2  [2]  (2, 2)  {'2': 2}     1\n",
       "2   True   3    3    3.3  [3]  (3, 3)  {'3': 3}     1"
      ]
     },
     "execution_count": 3,
     "metadata": {},
     "output_type": "execute_result"
    },
    {
     "data": {
      "application/javascript": [
       "\n",
       "            setTimeout(function() {\n",
       "                var nbb_cell_id = 3;\n",
       "                var nbb_unformatted_code = \"df = pd.DataFrame(\\n    {\\n        \\\"bool\\\": a,\\n        \\\"str\\\": b,\\n        \\\"int\\\": c,\\n        \\\"float\\\": d,\\n        \\\"list\\\": e,\\n        \\\"tuple\\\": f,\\n        \\\"dict\\\": g,\\n        \\\"mixed\\\": h,\\n    }\\n)\\ndf\";\n",
       "                var nbb_formatted_code = \"df = pd.DataFrame(\\n    {\\n        \\\"bool\\\": a,\\n        \\\"str\\\": b,\\n        \\\"int\\\": c,\\n        \\\"float\\\": d,\\n        \\\"list\\\": e,\\n        \\\"tuple\\\": f,\\n        \\\"dict\\\": g,\\n        \\\"mixed\\\": h,\\n    }\\n)\\ndf\";\n",
       "                var nbb_cells = Jupyter.notebook.get_cells();\n",
       "                for (var i = 0; i < nbb_cells.length; ++i) {\n",
       "                    if (nbb_cells[i].input_prompt_number == nbb_cell_id) {\n",
       "                        if (nbb_cells[i].get_text() == nbb_unformatted_code) {\n",
       "                             nbb_cells[i].set_text(nbb_formatted_code);\n",
       "                        }\n",
       "                        break;\n",
       "                    }\n",
       "                }\n",
       "            }, 500);\n",
       "            "
      ],
      "text/plain": [
       "<IPython.core.display.Javascript object>"
      ]
     },
     "metadata": {},
     "output_type": "display_data"
    }
   ],
   "source": [
    "df = pd.DataFrame(\n",
    "    {\n",
    "        \"bool\": a,\n",
    "        \"str\": b,\n",
    "        \"int\": c,\n",
    "        \"float\": d,\n",
    "        \"list\": e,\n",
    "        \"tuple\": f,\n",
    "        \"dict\": g,\n",
    "        \"mixed\": h,\n",
    "    }\n",
    ")\n",
    "df"
   ]
  },
  {
   "cell_type": "markdown",
   "metadata": {},
   "source": [
    "Above we let the dataframe be the last element of a cell, so it's automatically displayed.  Note that this is a different view than if you use the `print()` function.  There's also a `display()` function that can be used (this is how dataframe's are shown if they appear at the end of a cell.\n",
    "\n",
    "* Use both `print()` and `display()` below to view your dataframe.\n",
    "* Note the differences (especially when it comes to datatypes)."
   ]
  },
  {
   "cell_type": "code",
   "execution_count": 4,
   "metadata": {},
   "outputs": [
    {
     "name": "stdout",
     "output_type": "stream",
     "text": [
      "    bool str  int  float list   tuple      dict mixed\n",
      "0   True   1    1    1.1  [1]  (1, 1)  {'1': 1}  True\n",
      "1  False   2    2    2.2  [2]  (2, 2)  {'2': 2}     1\n",
      "2   True   3    3    3.3  [3]  (3, 3)  {'3': 3}     1\n"
     ]
    },
    {
     "data": {
      "text/html": [
       "<div>\n",
       "<style scoped>\n",
       "    .dataframe tbody tr th:only-of-type {\n",
       "        vertical-align: middle;\n",
       "    }\n",
       "\n",
       "    .dataframe tbody tr th {\n",
       "        vertical-align: top;\n",
       "    }\n",
       "\n",
       "    .dataframe thead th {\n",
       "        text-align: right;\n",
       "    }\n",
       "</style>\n",
       "<table border=\"1\" class=\"dataframe\">\n",
       "  <thead>\n",
       "    <tr style=\"text-align: right;\">\n",
       "      <th></th>\n",
       "      <th>bool</th>\n",
       "      <th>str</th>\n",
       "      <th>int</th>\n",
       "      <th>float</th>\n",
       "      <th>list</th>\n",
       "      <th>tuple</th>\n",
       "      <th>dict</th>\n",
       "      <th>mixed</th>\n",
       "    </tr>\n",
       "  </thead>\n",
       "  <tbody>\n",
       "    <tr>\n",
       "      <th>0</th>\n",
       "      <td>True</td>\n",
       "      <td>1</td>\n",
       "      <td>1</td>\n",
       "      <td>1.1</td>\n",
       "      <td>[1]</td>\n",
       "      <td>(1, 1)</td>\n",
       "      <td>{'1': 1}</td>\n",
       "      <td>True</td>\n",
       "    </tr>\n",
       "    <tr>\n",
       "      <th>1</th>\n",
       "      <td>False</td>\n",
       "      <td>2</td>\n",
       "      <td>2</td>\n",
       "      <td>2.2</td>\n",
       "      <td>[2]</td>\n",
       "      <td>(2, 2)</td>\n",
       "      <td>{'2': 2}</td>\n",
       "      <td>1</td>\n",
       "    </tr>\n",
       "    <tr>\n",
       "      <th>2</th>\n",
       "      <td>True</td>\n",
       "      <td>3</td>\n",
       "      <td>3</td>\n",
       "      <td>3.3</td>\n",
       "      <td>[3]</td>\n",
       "      <td>(3, 3)</td>\n",
       "      <td>{'3': 3}</td>\n",
       "      <td>1</td>\n",
       "    </tr>\n",
       "  </tbody>\n",
       "</table>\n",
       "</div>"
      ],
      "text/plain": [
       "    bool str  int  float list   tuple      dict mixed\n",
       "0   True   1    1    1.1  [1]  (1, 1)  {'1': 1}  True\n",
       "1  False   2    2    2.2  [2]  (2, 2)  {'2': 2}     1\n",
       "2   True   3    3    3.3  [3]  (3, 3)  {'3': 3}     1"
      ]
     },
     "metadata": {},
     "output_type": "display_data"
    },
    {
     "data": {
      "application/javascript": [
       "\n",
       "            setTimeout(function() {\n",
       "                var nbb_cell_id = 4;\n",
       "                var nbb_unformatted_code = \"print(df)\\ndisplay(df)  # same as doing nothing if it is the last line of the cell\";\n",
       "                var nbb_formatted_code = \"print(df)\\ndisplay(df)  # same as doing nothing if it is the last line of the cell\";\n",
       "                var nbb_cells = Jupyter.notebook.get_cells();\n",
       "                for (var i = 0; i < nbb_cells.length; ++i) {\n",
       "                    if (nbb_cells[i].input_prompt_number == nbb_cell_id) {\n",
       "                        if (nbb_cells[i].get_text() == nbb_unformatted_code) {\n",
       "                             nbb_cells[i].set_text(nbb_formatted_code);\n",
       "                        }\n",
       "                        break;\n",
       "                    }\n",
       "                }\n",
       "            }, 500);\n",
       "            "
      ],
      "text/plain": [
       "<IPython.core.display.Javascript object>"
      ]
     },
     "metadata": {},
     "output_type": "display_data"
    }
   ],
   "source": [
    "print(df)\n",
    "display(df)  # same as doing nothing if it is the last line of the cell"
   ]
  },
  {
   "cell_type": "markdown",
   "metadata": {},
   "source": [
    "To check the datatype of anything in python we can use the `type` function."
   ]
  },
  {
   "cell_type": "code",
   "execution_count": 5,
   "metadata": {},
   "outputs": [
    {
     "data": {
      "text/plain": [
       "int"
      ]
     },
     "execution_count": 5,
     "metadata": {},
     "output_type": "execute_result"
    },
    {
     "data": {
      "application/javascript": [
       "\n",
       "            setTimeout(function() {\n",
       "                var nbb_cell_id = 5;\n",
       "                var nbb_unformatted_code = \"type(1)\";\n",
       "                var nbb_formatted_code = \"type(1)\";\n",
       "                var nbb_cells = Jupyter.notebook.get_cells();\n",
       "                for (var i = 0; i < nbb_cells.length; ++i) {\n",
       "                    if (nbb_cells[i].input_prompt_number == nbb_cell_id) {\n",
       "                        if (nbb_cells[i].get_text() == nbb_unformatted_code) {\n",
       "                             nbb_cells[i].set_text(nbb_formatted_code);\n",
       "                        }\n",
       "                        break;\n",
       "                    }\n",
       "                }\n",
       "            }, 500);\n",
       "            "
      ],
      "text/plain": [
       "<IPython.core.display.Javascript object>"
      ]
     },
     "metadata": {},
     "output_type": "display_data"
    }
   ],
   "source": [
    "type(1)"
   ]
  },
  {
   "cell_type": "code",
   "execution_count": 6,
   "metadata": {},
   "outputs": [
    {
     "data": {
      "text/plain": [
       "str"
      ]
     },
     "execution_count": 6,
     "metadata": {},
     "output_type": "execute_result"
    },
    {
     "data": {
      "application/javascript": [
       "\n",
       "            setTimeout(function() {\n",
       "                var nbb_cell_id = 6;\n",
       "                var nbb_unformatted_code = \"type(\\\"1\\\")\";\n",
       "                var nbb_formatted_code = \"type(\\\"1\\\")\";\n",
       "                var nbb_cells = Jupyter.notebook.get_cells();\n",
       "                for (var i = 0; i < nbb_cells.length; ++i) {\n",
       "                    if (nbb_cells[i].input_prompt_number == nbb_cell_id) {\n",
       "                        if (nbb_cells[i].get_text() == nbb_unformatted_code) {\n",
       "                             nbb_cells[i].set_text(nbb_formatted_code);\n",
       "                        }\n",
       "                        break;\n",
       "                    }\n",
       "                }\n",
       "            }, 500);\n",
       "            "
      ],
      "text/plain": [
       "<IPython.core.display.Javascript object>"
      ]
     },
     "metadata": {},
     "output_type": "display_data"
    }
   ],
   "source": [
    "type(\"1\")"
   ]
  },
  {
   "cell_type": "code",
   "execution_count": 7,
   "metadata": {},
   "outputs": [
    {
     "data": {
      "text/plain": [
       "list"
      ]
     },
     "execution_count": 7,
     "metadata": {},
     "output_type": "execute_result"
    },
    {
     "data": {
      "application/javascript": [
       "\n",
       "            setTimeout(function() {\n",
       "                var nbb_cell_id = 7;\n",
       "                var nbb_unformatted_code = \"type(a)\";\n",
       "                var nbb_formatted_code = \"type(a)\";\n",
       "                var nbb_cells = Jupyter.notebook.get_cells();\n",
       "                for (var i = 0; i < nbb_cells.length; ++i) {\n",
       "                    if (nbb_cells[i].input_prompt_number == nbb_cell_id) {\n",
       "                        if (nbb_cells[i].get_text() == nbb_unformatted_code) {\n",
       "                             nbb_cells[i].set_text(nbb_formatted_code);\n",
       "                        }\n",
       "                        break;\n",
       "                    }\n",
       "                }\n",
       "            }, 500);\n",
       "            "
      ],
      "text/plain": [
       "<IPython.core.display.Javascript object>"
      ]
     },
     "metadata": {},
     "output_type": "display_data"
    }
   ],
   "source": [
    "type(a)"
   ]
  },
  {
   "cell_type": "code",
   "execution_count": 8,
   "metadata": {},
   "outputs": [
    {
     "data": {
      "text/plain": [
       "bool"
      ]
     },
     "execution_count": 8,
     "metadata": {},
     "output_type": "execute_result"
    },
    {
     "data": {
      "application/javascript": [
       "\n",
       "            setTimeout(function() {\n",
       "                var nbb_cell_id = 8;\n",
       "                var nbb_unformatted_code = \"type(a[0])\";\n",
       "                var nbb_formatted_code = \"type(a[0])\";\n",
       "                var nbb_cells = Jupyter.notebook.get_cells();\n",
       "                for (var i = 0; i < nbb_cells.length; ++i) {\n",
       "                    if (nbb_cells[i].input_prompt_number == nbb_cell_id) {\n",
       "                        if (nbb_cells[i].get_text() == nbb_unformatted_code) {\n",
       "                             nbb_cells[i].set_text(nbb_formatted_code);\n",
       "                        }\n",
       "                        break;\n",
       "                    }\n",
       "                }\n",
       "            }, 500);\n",
       "            "
      ],
      "text/plain": [
       "<IPython.core.display.Javascript object>"
      ]
     },
     "metadata": {},
     "output_type": "display_data"
    }
   ],
   "source": [
    "type(a[0])"
   ]
  },
  {
   "cell_type": "code",
   "execution_count": 9,
   "metadata": {},
   "outputs": [
    {
     "data": {
      "text/plain": [
       "pandas.core.frame.DataFrame"
      ]
     },
     "execution_count": 9,
     "metadata": {},
     "output_type": "execute_result"
    },
    {
     "data": {
      "application/javascript": [
       "\n",
       "            setTimeout(function() {\n",
       "                var nbb_cell_id = 9;\n",
       "                var nbb_unformatted_code = \"# assumes your dataframe is named df\\ntype(df)\";\n",
       "                var nbb_formatted_code = \"# assumes your dataframe is named df\\ntype(df)\";\n",
       "                var nbb_cells = Jupyter.notebook.get_cells();\n",
       "                for (var i = 0; i < nbb_cells.length; ++i) {\n",
       "                    if (nbb_cells[i].input_prompt_number == nbb_cell_id) {\n",
       "                        if (nbb_cells[i].get_text() == nbb_unformatted_code) {\n",
       "                             nbb_cells[i].set_text(nbb_formatted_code);\n",
       "                        }\n",
       "                        break;\n",
       "                    }\n",
       "                }\n",
       "            }, 500);\n",
       "            "
      ],
      "text/plain": [
       "<IPython.core.display.Javascript object>"
      ]
     },
     "metadata": {},
     "output_type": "display_data"
    }
   ],
   "source": [
    "# assumes your dataframe is named df\n",
    "type(df)"
   ]
  },
  {
   "cell_type": "code",
   "execution_count": 10,
   "metadata": {},
   "outputs": [
    {
     "data": {
      "text/plain": [
       "pandas.core.series.Series"
      ]
     },
     "execution_count": 10,
     "metadata": {},
     "output_type": "execute_result"
    },
    {
     "data": {
      "application/javascript": [
       "\n",
       "            setTimeout(function() {\n",
       "                var nbb_cell_id = 10;\n",
       "                var nbb_unformatted_code = \"# assumes your dataframe is named df\\n# get type of first column\\ntype(df.iloc[:, 0])\";\n",
       "                var nbb_formatted_code = \"# assumes your dataframe is named df\\n# get type of first column\\ntype(df.iloc[:, 0])\";\n",
       "                var nbb_cells = Jupyter.notebook.get_cells();\n",
       "                for (var i = 0; i < nbb_cells.length; ++i) {\n",
       "                    if (nbb_cells[i].input_prompt_number == nbb_cell_id) {\n",
       "                        if (nbb_cells[i].get_text() == nbb_unformatted_code) {\n",
       "                             nbb_cells[i].set_text(nbb_formatted_code);\n",
       "                        }\n",
       "                        break;\n",
       "                    }\n",
       "                }\n",
       "            }, 500);\n",
       "            "
      ],
      "text/plain": [
       "<IPython.core.display.Javascript object>"
      ]
     },
     "metadata": {},
     "output_type": "display_data"
    }
   ],
   "source": [
    "# assumes your dataframe is named df\n",
    "# get type of first column\n",
    "type(df.iloc[:, 0])"
   ]
  },
  {
   "cell_type": "markdown",
   "metadata": {},
   "source": [
    "But what about the contents of a dataframe column (aka a 'pandas series'; aka a '`pd.Series` object')?\n",
    "\n",
    "To do this we can use the `dtype` attribute like: `my_dataframe['my_column'].dtype`\n",
    "\n",
    "Below, show the `dtype` of your dataframe's first column."
   ]
  },
  {
   "cell_type": "code",
   "execution_count": 11,
   "metadata": {},
   "outputs": [
    {
     "data": {
      "text/plain": [
       "dtype('O')"
      ]
     },
     "execution_count": 11,
     "metadata": {},
     "output_type": "execute_result"
    },
    {
     "data": {
      "application/javascript": [
       "\n",
       "            setTimeout(function() {\n",
       "                var nbb_cell_id = 11;\n",
       "                var nbb_unformatted_code = \"# 'O' for Object\\ndf[\\\"str\\\"].dtype\";\n",
       "                var nbb_formatted_code = \"# 'O' for Object\\ndf[\\\"str\\\"].dtype\";\n",
       "                var nbb_cells = Jupyter.notebook.get_cells();\n",
       "                for (var i = 0; i < nbb_cells.length; ++i) {\n",
       "                    if (nbb_cells[i].input_prompt_number == nbb_cell_id) {\n",
       "                        if (nbb_cells[i].get_text() == nbb_unformatted_code) {\n",
       "                             nbb_cells[i].set_text(nbb_formatted_code);\n",
       "                        }\n",
       "                        break;\n",
       "                    }\n",
       "                }\n",
       "            }, 500);\n",
       "            "
      ],
      "text/plain": [
       "<IPython.core.display.Javascript object>"
      ]
     },
     "metadata": {},
     "output_type": "display_data"
    }
   ],
   "source": [
    "# 'O' for Object\n",
    "df[\"str\"].dtype"
   ]
  },
  {
   "cell_type": "markdown",
   "metadata": {},
   "source": [
    "But what about seeing every columns datatypes at once?!  We have a couple options here.  We can look at the `dtypes` attribute of the dataframe like so: `dataframe.dtypes`.\n",
    "\n",
    "We can also use the `info()` method; this shows the datatypes and some additional meta info as well.\n",
    "\n",
    "Below, call the `info()` method of your dataframe and note all of the output displayed."
   ]
  },
  {
   "cell_type": "code",
   "execution_count": 12,
   "metadata": {},
   "outputs": [
    {
     "data": {
      "text/plain": [
       "bool        bool\n",
       "str       object\n",
       "int        int64\n",
       "float    float64\n",
       "list      object\n",
       "tuple     object\n",
       "dict      object\n",
       "mixed     object\n",
       "dtype: object"
      ]
     },
     "execution_count": 12,
     "metadata": {},
     "output_type": "execute_result"
    },
    {
     "data": {
      "application/javascript": [
       "\n",
       "            setTimeout(function() {\n",
       "                var nbb_cell_id = 12;\n",
       "                var nbb_unformatted_code = \"df.dtypes\";\n",
       "                var nbb_formatted_code = \"df.dtypes\";\n",
       "                var nbb_cells = Jupyter.notebook.get_cells();\n",
       "                for (var i = 0; i < nbb_cells.length; ++i) {\n",
       "                    if (nbb_cells[i].input_prompt_number == nbb_cell_id) {\n",
       "                        if (nbb_cells[i].get_text() == nbb_unformatted_code) {\n",
       "                             nbb_cells[i].set_text(nbb_formatted_code);\n",
       "                        }\n",
       "                        break;\n",
       "                    }\n",
       "                }\n",
       "            }, 500);\n",
       "            "
      ],
      "text/plain": [
       "<IPython.core.display.Javascript object>"
      ]
     },
     "metadata": {},
     "output_type": "display_data"
    }
   ],
   "source": [
    "df.dtypes"
   ]
  },
  {
   "cell_type": "code",
   "execution_count": 13,
   "metadata": {},
   "outputs": [
    {
     "name": "stdout",
     "output_type": "stream",
     "text": [
      "<class 'pandas.core.frame.DataFrame'>\n",
      "RangeIndex: 3 entries, 0 to 2\n",
      "Data columns (total 8 columns):\n",
      " #   Column  Non-Null Count  Dtype  \n",
      "---  ------  --------------  -----  \n",
      " 0   bool    3 non-null      bool   \n",
      " 1   str     3 non-null      object \n",
      " 2   int     3 non-null      int64  \n",
      " 3   float   3 non-null      float64\n",
      " 4   list    3 non-null      object \n",
      " 5   tuple   3 non-null      object \n",
      " 6   dict    3 non-null      object \n",
      " 7   mixed   3 non-null      object \n",
      "dtypes: bool(1), float64(1), int64(1), object(5)\n",
      "memory usage: 299.0+ bytes\n"
     ]
    },
    {
     "data": {
      "application/javascript": [
       "\n",
       "            setTimeout(function() {\n",
       "                var nbb_cell_id = 13;\n",
       "                var nbb_unformatted_code = \"df.info()\";\n",
       "                var nbb_formatted_code = \"df.info()\";\n",
       "                var nbb_cells = Jupyter.notebook.get_cells();\n",
       "                for (var i = 0; i < nbb_cells.length; ++i) {\n",
       "                    if (nbb_cells[i].input_prompt_number == nbb_cell_id) {\n",
       "                        if (nbb_cells[i].get_text() == nbb_unformatted_code) {\n",
       "                             nbb_cells[i].set_text(nbb_formatted_code);\n",
       "                        }\n",
       "                        break;\n",
       "                    }\n",
       "                }\n",
       "            }, 500);\n",
       "            "
      ],
      "text/plain": [
       "<IPython.core.display.Javascript object>"
      ]
     },
     "metadata": {},
     "output_type": "display_data"
    }
   ],
   "source": [
    "df.info()"
   ]
  },
  {
   "cell_type": "markdown",
   "metadata": {},
   "source": [
    "### Warm-up bonus\n",
    "\n",
    "If you blew through the above stuff.\n",
    "\n",
    "Write a for loop that:\n",
    "* Iterates over the column names of your dataframe\n",
    "* Prints the following information in each iteration:\n",
    "    * The datatype of the column's contents\n",
    "    * The type of the column's first element (i.e. if the column has the values `['a', 'b', 'c']`, print the type of `'a'`)"
   ]
  },
  {
   "cell_type": "code",
   "execution_count": 14,
   "metadata": {},
   "outputs": [
    {
     "name": "stdout",
     "output_type": "stream",
     "text": [
      "column: bool\n",
      "col dtype: bool\n",
      "first element type: <class 'numpy.bool_'>\n",
      "------------\n",
      "\n",
      "column: str\n",
      "col dtype: object\n",
      "first element type: <class 'str'>\n",
      "------------\n",
      "\n",
      "column: int\n",
      "col dtype: int64\n",
      "first element type: <class 'numpy.int64'>\n",
      "------------\n",
      "\n",
      "column: float\n",
      "col dtype: float64\n",
      "first element type: <class 'numpy.float64'>\n",
      "------------\n",
      "\n",
      "column: list\n",
      "col dtype: object\n",
      "first element type: <class 'list'>\n",
      "------------\n",
      "\n",
      "column: tuple\n",
      "col dtype: object\n",
      "first element type: <class 'tuple'>\n",
      "------------\n",
      "\n",
      "column: dict\n",
      "col dtype: object\n",
      "first element type: <class 'dict'>\n",
      "------------\n",
      "\n",
      "column: mixed\n",
      "col dtype: object\n",
      "first element type: <class 'bool'>\n",
      "------------\n",
      "\n"
     ]
    },
    {
     "data": {
      "application/javascript": [
       "\n",
       "            setTimeout(function() {\n",
       "                var nbb_cell_id = 14;\n",
       "                var nbb_unformatted_code = \"for col_name in df:\\n    col_dtype = df[col_name].dtype\\n    first_type = type(df[col_name][0])\\n\\n    print(f\\\"column: {col_name}\\\")\\n    print(f\\\"col dtype: {col_dtype}\\\")\\n    print(f\\\"first element type: {first_type}\\\")\\n    print(\\\"------------\\\\n\\\")\";\n",
       "                var nbb_formatted_code = \"for col_name in df:\\n    col_dtype = df[col_name].dtype\\n    first_type = type(df[col_name][0])\\n\\n    print(f\\\"column: {col_name}\\\")\\n    print(f\\\"col dtype: {col_dtype}\\\")\\n    print(f\\\"first element type: {first_type}\\\")\\n    print(\\\"------------\\\\n\\\")\";\n",
       "                var nbb_cells = Jupyter.notebook.get_cells();\n",
       "                for (var i = 0; i < nbb_cells.length; ++i) {\n",
       "                    if (nbb_cells[i].input_prompt_number == nbb_cell_id) {\n",
       "                        if (nbb_cells[i].get_text() == nbb_unformatted_code) {\n",
       "                             nbb_cells[i].set_text(nbb_formatted_code);\n",
       "                        }\n",
       "                        break;\n",
       "                    }\n",
       "                }\n",
       "            }, 500);\n",
       "            "
      ],
      "text/plain": [
       "<IPython.core.display.Javascript object>"
      ]
     },
     "metadata": {},
     "output_type": "display_data"
    }
   ],
   "source": [
    "for col_name in df:\n",
    "    col_dtype = df[col_name].dtype\n",
    "    first_type = type(df[col_name][0])\n",
    "\n",
    "    print(f\"column: {col_name}\")\n",
    "    print(f\"col dtype: {col_dtype}\")\n",
    "    print(f\"first element type: {first_type}\")\n",
    "    print(\"------------\\n\")"
   ]
  }
 ],
 "metadata": {
  "kernelspec": {
   "display_name": "Python 3",
   "language": "python",
   "name": "python3"
  },
  "language_info": {
   "codemirror_mode": {
    "name": "ipython",
    "version": 3
   },
   "file_extension": ".py",
   "mimetype": "text/x-python",
   "name": "python",
   "nbconvert_exporter": "python",
   "pygments_lexer": "ipython3",
   "version": "3.7.7"
  }
 },
 "nbformat": 4,
 "nbformat_minor": 2
}
