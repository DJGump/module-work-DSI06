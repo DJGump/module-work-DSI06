{
 "cells": [
  {
   "cell_type": "code",
   "execution_count": 1,
   "metadata": {},
   "outputs": [
    {
     "data": {
      "application/javascript": [
       "\n",
       "            setTimeout(function() {\n",
       "                var nbb_cell_id = 1;\n",
       "                var nbb_unformatted_code = \"%load_ext nb_black\";\n",
       "                var nbb_formatted_code = \"%load_ext nb_black\";\n",
       "                var nbb_cells = Jupyter.notebook.get_cells();\n",
       "                for (var i = 0; i < nbb_cells.length; ++i) {\n",
       "                    if (nbb_cells[i].input_prompt_number == nbb_cell_id) {\n",
       "                        if (nbb_cells[i].get_text() == nbb_unformatted_code) {\n",
       "                             nbb_cells[i].set_text(nbb_formatted_code);\n",
       "                        }\n",
       "                        break;\n",
       "                    }\n",
       "                }\n",
       "            }, 500);\n",
       "            "
      ],
      "text/plain": [
       "<IPython.core.display.Javascript object>"
      ]
     },
     "metadata": {},
     "output_type": "display_data"
    }
   ],
   "source": [
    "%load_ext nb_black"
   ]
  },
  {
   "cell_type": "code",
   "execution_count": 2,
   "metadata": {},
   "outputs": [
    {
     "data": {
      "application/javascript": [
       "\n",
       "            setTimeout(function() {\n",
       "                var nbb_cell_id = 2;\n",
       "                var nbb_unformatted_code = \"import pandas as pd\\nimport numpy as np\\n\\nnp.random.seed(42)\";\n",
       "                var nbb_formatted_code = \"import pandas as pd\\nimport numpy as np\\n\\nnp.random.seed(42)\";\n",
       "                var nbb_cells = Jupyter.notebook.get_cells();\n",
       "                for (var i = 0; i < nbb_cells.length; ++i) {\n",
       "                    if (nbb_cells[i].input_prompt_number == nbb_cell_id) {\n",
       "                        if (nbb_cells[i].get_text() == nbb_unformatted_code) {\n",
       "                             nbb_cells[i].set_text(nbb_formatted_code);\n",
       "                        }\n",
       "                        break;\n",
       "                    }\n",
       "                }\n",
       "            }, 500);\n",
       "            "
      ],
      "text/plain": [
       "<IPython.core.display.Javascript object>"
      ]
     },
     "metadata": {},
     "output_type": "display_data"
    }
   ],
   "source": [
    "import pandas as pd\n",
    "import numpy as np\n",
    "\n",
    "np.random.seed(42)"
   ]
  },
  {
   "cell_type": "code",
   "execution_count": 3,
   "metadata": {},
   "outputs": [
    {
     "data": {
      "application/javascript": [
       "\n",
       "            setTimeout(function() {\n",
       "                var nbb_cell_id = 3;\n",
       "                var nbb_unformatted_code = \"# Make n rows of data\\nn = 213\\nperc_nan = 0.15\";\n",
       "                var nbb_formatted_code = \"# Make n rows of data\\nn = 213\\nperc_nan = 0.15\";\n",
       "                var nbb_cells = Jupyter.notebook.get_cells();\n",
       "                for (var i = 0; i < nbb_cells.length; ++i) {\n",
       "                    if (nbb_cells[i].input_prompt_number == nbb_cell_id) {\n",
       "                        if (nbb_cells[i].get_text() == nbb_unformatted_code) {\n",
       "                             nbb_cells[i].set_text(nbb_formatted_code);\n",
       "                        }\n",
       "                        break;\n",
       "                    }\n",
       "                }\n",
       "            }, 500);\n",
       "            "
      ],
      "text/plain": [
       "<IPython.core.display.Javascript object>"
      ]
     },
     "metadata": {},
     "output_type": "display_data"
    }
   ],
   "source": [
    "# Make n rows of data\n",
    "n = 213\n",
    "perc_nan = 0.15"
   ]
  },
  {
   "cell_type": "code",
   "execution_count": 4,
   "metadata": {},
   "outputs": [
    {
     "data": {
      "text/html": [
       "<div>\n",
       "<style scoped>\n",
       "    .dataframe tbody tr th:only-of-type {\n",
       "        vertical-align: middle;\n",
       "    }\n",
       "\n",
       "    .dataframe tbody tr th {\n",
       "        vertical-align: top;\n",
       "    }\n",
       "\n",
       "    .dataframe thead th {\n",
       "        text-align: right;\n",
       "    }\n",
       "</style>\n",
       "<table border=\"1\" class=\"dataframe\">\n",
       "  <thead>\n",
       "    <tr style=\"text-align: right;\">\n",
       "      <th></th>\n",
       "      <th>product_id</th>\n",
       "      <th>price</th>\n",
       "    </tr>\n",
       "  </thead>\n",
       "  <tbody>\n",
       "    <tr>\n",
       "      <th>5</th>\n",
       "      <td>005</td>\n",
       "      <td>$4.73</td>\n",
       "    </tr>\n",
       "    <tr>\n",
       "      <th>4</th>\n",
       "      <td>004</td>\n",
       "      <td>NaN</td>\n",
       "    </tr>\n",
       "  </tbody>\n",
       "</table>\n",
       "</div>"
      ],
      "text/plain": [
       "  product_id  price\n",
       "5        005  $4.73\n",
       "4        004    NaN"
      ]
     },
     "execution_count": 4,
     "metadata": {},
     "output_type": "execute_result"
    },
    {
     "data": {
      "application/javascript": [
       "\n",
       "            setTimeout(function() {\n",
       "                var nbb_cell_id = 4;\n",
       "                var nbb_unformatted_code = \"# product_id & price --------------------------------------------------------\\n\\n# Using less than n to have less product diversity\\nsmall_n = int(n * 0.05)\\n\\n# generate zero padded ids (i.e. always display as 3 digits)\\n# if the number is '3' \\\"pad\\\" it with zeros on the left to be '003'\\nids = [f\\\"{i:03}\\\" for i in range(small_n)]\\n\\n# Random prices\\nprices = np.random.uniform(0.99, 24.99, size=small_n)\\n\\n# Format prices as money (put dollar sign in front and format to 2 decimal places)\\nprices = np.array([f\\\"${p:0.2f}\\\" for p in prices])\\n\\n# Sample to have a mix of products instead of 001 - 00n\\ndf = pd.DataFrame({\\\"product_id\\\": ids, \\\"price\\\": prices})\\ndf = df.sample(n=n, replace=True)\\n\\n# Make some values nan at random\\nnan_idxs = np.random.choice(df.shape[0], size=int(n * perc_nan))\\ndf.iloc[nan_idxs, 1] = np.nan\\n\\ndf.head(2)\";\n",
       "                var nbb_formatted_code = \"# product_id & price --------------------------------------------------------\\n\\n# Using less than n to have less product diversity\\nsmall_n = int(n * 0.05)\\n\\n# generate zero padded ids (i.e. always display as 3 digits)\\n# if the number is '3' \\\"pad\\\" it with zeros on the left to be '003'\\nids = [f\\\"{i:03}\\\" for i in range(small_n)]\\n\\n# Random prices\\nprices = np.random.uniform(0.99, 24.99, size=small_n)\\n\\n# Format prices as money (put dollar sign in front and format to 2 decimal places)\\nprices = np.array([f\\\"${p:0.2f}\\\" for p in prices])\\n\\n# Sample to have a mix of products instead of 001 - 00n\\ndf = pd.DataFrame({\\\"product_id\\\": ids, \\\"price\\\": prices})\\ndf = df.sample(n=n, replace=True)\\n\\n# Make some values nan at random\\nnan_idxs = np.random.choice(df.shape[0], size=int(n * perc_nan))\\ndf.iloc[nan_idxs, 1] = np.nan\\n\\ndf.head(2)\";\n",
       "                var nbb_cells = Jupyter.notebook.get_cells();\n",
       "                for (var i = 0; i < nbb_cells.length; ++i) {\n",
       "                    if (nbb_cells[i].input_prompt_number == nbb_cell_id) {\n",
       "                        if (nbb_cells[i].get_text() == nbb_unformatted_code) {\n",
       "                             nbb_cells[i].set_text(nbb_formatted_code);\n",
       "                        }\n",
       "                        break;\n",
       "                    }\n",
       "                }\n",
       "            }, 500);\n",
       "            "
      ],
      "text/plain": [
       "<IPython.core.display.Javascript object>"
      ]
     },
     "metadata": {},
     "output_type": "display_data"
    }
   ],
   "source": [
    "# product_id & price --------------------------------------------------------\n",
    "\n",
    "# Using less than n to have less product diversity\n",
    "small_n = int(n * 0.05)\n",
    "\n",
    "# generate zero padded ids (i.e. always display as 3 digits)\n",
    "# if the number is '3' \"pad\" it with zeros on the left to be '003'\n",
    "ids = [f\"{i:03}\" for i in range(small_n)]\n",
    "\n",
    "# Random prices\n",
    "prices = np.random.uniform(0.99, 24.99, size=small_n)\n",
    "\n",
    "# Format prices as money (put dollar sign in front and format to 2 decimal places)\n",
    "prices = np.array([f\"${p:0.2f}\" for p in prices])\n",
    "\n",
    "# Sample to have a mix of products instead of 001 - 00n\n",
    "df = pd.DataFrame({\"product_id\": ids, \"price\": prices})\n",
    "df = df.sample(n=n, replace=True)\n",
    "\n",
    "# Make some values nan at random\n",
    "nan_idxs = np.random.choice(df.shape[0], size=int(n * perc_nan))\n",
    "df.iloc[nan_idxs, 1] = np.nan\n",
    "\n",
    "df.head(2)"
   ]
  },
  {
   "cell_type": "code",
   "execution_count": 5,
   "metadata": {},
   "outputs": [
    {
     "data": {
      "text/html": [
       "<div>\n",
       "<style scoped>\n",
       "    .dataframe tbody tr th:only-of-type {\n",
       "        vertical-align: middle;\n",
       "    }\n",
       "\n",
       "    .dataframe tbody tr th {\n",
       "        vertical-align: top;\n",
       "    }\n",
       "\n",
       "    .dataframe thead th {\n",
       "        text-align: right;\n",
       "    }\n",
       "</style>\n",
       "<table border=\"1\" class=\"dataframe\">\n",
       "  <thead>\n",
       "    <tr style=\"text-align: right;\">\n",
       "      <th></th>\n",
       "      <th>product_id</th>\n",
       "      <th>price</th>\n",
       "      <th>state</th>\n",
       "    </tr>\n",
       "  </thead>\n",
       "  <tbody>\n",
       "    <tr>\n",
       "      <th>5</th>\n",
       "      <td>005</td>\n",
       "      <td>$4.73</td>\n",
       "      <td>ID</td>\n",
       "    </tr>\n",
       "    <tr>\n",
       "      <th>4</th>\n",
       "      <td>004</td>\n",
       "      <td>NaN</td>\n",
       "      <td>FL</td>\n",
       "    </tr>\n",
       "  </tbody>\n",
       "</table>\n",
       "</div>"
      ],
      "text/plain": [
       "  product_id  price state\n",
       "5        005  $4.73    ID\n",
       "4        004    NaN    FL"
      ]
     },
     "execution_count": 5,
     "metadata": {},
     "output_type": "execute_result"
    },
    {
     "data": {
      "application/javascript": [
       "\n",
       "            setTimeout(function() {\n",
       "                var nbb_cell_id = 5;\n",
       "                var nbb_unformatted_code = \"# state -----------------------------------------------------------------------\\nstates = np.random.choice(\\n    [\\\"CA\\\", \\\"OR\\\", \\\"NY\\\", \\\"FL\\\", \\\"TN\\\", \\\"AZ\\\", \\\"GA\\\", \\\"ID\\\", \\\"HI\\\"], size=n, replace=True\\n)\\n\\ndf[\\\"state\\\"] = states\\ndf.head(2)\";\n",
       "                var nbb_formatted_code = \"# state -----------------------------------------------------------------------\\nstates = np.random.choice(\\n    [\\\"CA\\\", \\\"OR\\\", \\\"NY\\\", \\\"FL\\\", \\\"TN\\\", \\\"AZ\\\", \\\"GA\\\", \\\"ID\\\", \\\"HI\\\"], size=n, replace=True\\n)\\n\\ndf[\\\"state\\\"] = states\\ndf.head(2)\";\n",
       "                var nbb_cells = Jupyter.notebook.get_cells();\n",
       "                for (var i = 0; i < nbb_cells.length; ++i) {\n",
       "                    if (nbb_cells[i].input_prompt_number == nbb_cell_id) {\n",
       "                        if (nbb_cells[i].get_text() == nbb_unformatted_code) {\n",
       "                             nbb_cells[i].set_text(nbb_formatted_code);\n",
       "                        }\n",
       "                        break;\n",
       "                    }\n",
       "                }\n",
       "            }, 500);\n",
       "            "
      ],
      "text/plain": [
       "<IPython.core.display.Javascript object>"
      ]
     },
     "metadata": {},
     "output_type": "display_data"
    }
   ],
   "source": [
    "# state -----------------------------------------------------------------------\n",
    "states = np.random.choice(\n",
    "    [\"CA\", \"OR\", \"NY\", \"FL\", \"TN\", \"AZ\", \"GA\", \"ID\", \"HI\"], size=n, replace=True\n",
    ")\n",
    "\n",
    "df[\"state\"] = states\n",
    "df.head(2)"
   ]
  },
  {
   "cell_type": "code",
   "execution_count": 6,
   "metadata": {},
   "outputs": [
    {
     "data": {
      "text/html": [
       "<div>\n",
       "<style scoped>\n",
       "    .dataframe tbody tr th:only-of-type {\n",
       "        vertical-align: middle;\n",
       "    }\n",
       "\n",
       "    .dataframe tbody tr th {\n",
       "        vertical-align: top;\n",
       "    }\n",
       "\n",
       "    .dataframe thead th {\n",
       "        text-align: right;\n",
       "    }\n",
       "</style>\n",
       "<table border=\"1\" class=\"dataframe\">\n",
       "  <thead>\n",
       "    <tr style=\"text-align: right;\">\n",
       "      <th></th>\n",
       "      <th>product_id</th>\n",
       "      <th>price</th>\n",
       "      <th>state</th>\n",
       "      <th>date</th>\n",
       "    </tr>\n",
       "  </thead>\n",
       "  <tbody>\n",
       "    <tr>\n",
       "      <th>5</th>\n",
       "      <td>005</td>\n",
       "      <td>$4.73</td>\n",
       "      <td>ID</td>\n",
       "      <td>2010-02-05</td>\n",
       "    </tr>\n",
       "    <tr>\n",
       "      <th>4</th>\n",
       "      <td>004</td>\n",
       "      <td>NaN</td>\n",
       "      <td>FL</td>\n",
       "      <td>2010-02-07</td>\n",
       "    </tr>\n",
       "  </tbody>\n",
       "</table>\n",
       "</div>"
      ],
      "text/plain": [
       "  product_id  price state        date\n",
       "5        005  $4.73    ID  2010-02-05\n",
       "4        004    NaN    FL  2010-02-07"
      ]
     },
     "execution_count": 6,
     "metadata": {},
     "output_type": "execute_result"
    },
    {
     "data": {
      "application/javascript": [
       "\n",
       "            setTimeout(function() {\n",
       "                var nbb_cell_id = 6;\n",
       "                var nbb_unformatted_code = \"# date ------------------------------------------------------------------------\\n# lazy way\\ndays = np.random.choice(range(1, 26), size=n, replace=True)\\nmonths = np.random.choice(range(1, 13), size=n, replace=True)\\nyears = np.random.choice(range(2010, 2020), size=n, replace=True)\\n\\ndates = [f\\\"{y}-{m:02}-{d:02}\\\" for y, m, d in zip(years, months, days)]\\ndates = sorted(dates)\\n\\ndf[\\\"date\\\"] = dates\\ndf.head(2)\";\n",
       "                var nbb_formatted_code = \"# date ------------------------------------------------------------------------\\n# lazy way\\ndays = np.random.choice(range(1, 26), size=n, replace=True)\\nmonths = np.random.choice(range(1, 13), size=n, replace=True)\\nyears = np.random.choice(range(2010, 2020), size=n, replace=True)\\n\\ndates = [f\\\"{y}-{m:02}-{d:02}\\\" for y, m, d in zip(years, months, days)]\\ndates = sorted(dates)\\n\\ndf[\\\"date\\\"] = dates\\ndf.head(2)\";\n",
       "                var nbb_cells = Jupyter.notebook.get_cells();\n",
       "                for (var i = 0; i < nbb_cells.length; ++i) {\n",
       "                    if (nbb_cells[i].input_prompt_number == nbb_cell_id) {\n",
       "                        if (nbb_cells[i].get_text() == nbb_unformatted_code) {\n",
       "                             nbb_cells[i].set_text(nbb_formatted_code);\n",
       "                        }\n",
       "                        break;\n",
       "                    }\n",
       "                }\n",
       "            }, 500);\n",
       "            "
      ],
      "text/plain": [
       "<IPython.core.display.Javascript object>"
      ]
     },
     "metadata": {},
     "output_type": "display_data"
    }
   ],
   "source": [
    "# date ------------------------------------------------------------------------\n",
    "# lazy way\n",
    "days = np.random.choice(range(1, 26), size=n, replace=True)\n",
    "months = np.random.choice(range(1, 13), size=n, replace=True)\n",
    "years = np.random.choice(range(2010, 2020), size=n, replace=True)\n",
    "\n",
    "dates = [f\"{y}-{m:02}-{d:02}\" for y, m, d in zip(years, months, days)]\n",
    "dates = sorted(dates)\n",
    "\n",
    "df[\"date\"] = dates\n",
    "df.head(2)"
   ]
  },
  {
   "cell_type": "code",
   "execution_count": 7,
   "metadata": {},
   "outputs": [
    {
     "data": {
      "text/html": [
       "<div>\n",
       "<style scoped>\n",
       "    .dataframe tbody tr th:only-of-type {\n",
       "        vertical-align: middle;\n",
       "    }\n",
       "\n",
       "    .dataframe tbody tr th {\n",
       "        vertical-align: top;\n",
       "    }\n",
       "\n",
       "    .dataframe thead th {\n",
       "        text-align: right;\n",
       "    }\n",
       "</style>\n",
       "<table border=\"1\" class=\"dataframe\">\n",
       "  <thead>\n",
       "    <tr style=\"text-align: right;\">\n",
       "      <th></th>\n",
       "      <th>product_id</th>\n",
       "      <th>price</th>\n",
       "      <th>state</th>\n",
       "      <th>date</th>\n",
       "      <th>rating</th>\n",
       "    </tr>\n",
       "  </thead>\n",
       "  <tbody>\n",
       "    <tr>\n",
       "      <th>5</th>\n",
       "      <td>005</td>\n",
       "      <td>$4.73</td>\n",
       "      <td>ID</td>\n",
       "      <td>2010-02-05</td>\n",
       "      <td>*</td>\n",
       "    </tr>\n",
       "    <tr>\n",
       "      <th>4</th>\n",
       "      <td>004</td>\n",
       "      <td>NaN</td>\n",
       "      <td>FL</td>\n",
       "      <td>2010-02-07</td>\n",
       "      <td>****</td>\n",
       "    </tr>\n",
       "  </tbody>\n",
       "</table>\n",
       "</div>"
      ],
      "text/plain": [
       "  product_id  price state        date rating\n",
       "5        005  $4.73    ID  2010-02-05      *\n",
       "4        004    NaN    FL  2010-02-07   ****"
      ]
     },
     "execution_count": 7,
     "metadata": {},
     "output_type": "execute_result"
    },
    {
     "data": {
      "application/javascript": [
       "\n",
       "            setTimeout(function() {\n",
       "                var nbb_cell_id = 7;\n",
       "                var nbb_unformatted_code = \"# rating ----------------------------------------------------------------------\\nratings = [\\\"*\\\" * np.random.randint(1, 6) for _ in range(n)]\\n\\ndf[\\\"rating\\\"] = ratings\\ndf.head(2)\";\n",
       "                var nbb_formatted_code = \"# rating ----------------------------------------------------------------------\\nratings = [\\\"*\\\" * np.random.randint(1, 6) for _ in range(n)]\\n\\ndf[\\\"rating\\\"] = ratings\\ndf.head(2)\";\n",
       "                var nbb_cells = Jupyter.notebook.get_cells();\n",
       "                for (var i = 0; i < nbb_cells.length; ++i) {\n",
       "                    if (nbb_cells[i].input_prompt_number == nbb_cell_id) {\n",
       "                        if (nbb_cells[i].get_text() == nbb_unformatted_code) {\n",
       "                             nbb_cells[i].set_text(nbb_formatted_code);\n",
       "                        }\n",
       "                        break;\n",
       "                    }\n",
       "                }\n",
       "            }, 500);\n",
       "            "
      ],
      "text/plain": [
       "<IPython.core.display.Javascript object>"
      ]
     },
     "metadata": {},
     "output_type": "display_data"
    }
   ],
   "source": [
    "# rating ----------------------------------------------------------------------\n",
    "ratings = [\"*\" * np.random.randint(1, 6) for _ in range(n)]\n",
    "\n",
    "df[\"rating\"] = ratings\n",
    "df.head(2)"
   ]
  },
  {
   "cell_type": "code",
   "execution_count": 8,
   "metadata": {},
   "outputs": [
    {
     "data": {
      "text/html": [
       "<div>\n",
       "<style scoped>\n",
       "    .dataframe tbody tr th:only-of-type {\n",
       "        vertical-align: middle;\n",
       "    }\n",
       "\n",
       "    .dataframe tbody tr th {\n",
       "        vertical-align: top;\n",
       "    }\n",
       "\n",
       "    .dataframe thead th {\n",
       "        text-align: right;\n",
       "    }\n",
       "</style>\n",
       "<table border=\"1\" class=\"dataframe\">\n",
       "  <thead>\n",
       "    <tr style=\"text-align: right;\">\n",
       "      <th></th>\n",
       "      <th>product_id</th>\n",
       "      <th>price</th>\n",
       "      <th>state</th>\n",
       "      <th>date</th>\n",
       "      <th>rating</th>\n",
       "      <th>units_sold</th>\n",
       "    </tr>\n",
       "  </thead>\n",
       "  <tbody>\n",
       "    <tr>\n",
       "      <th>5</th>\n",
       "      <td>005</td>\n",
       "      <td>$4.73</td>\n",
       "      <td>ID</td>\n",
       "      <td>2010-02-05</td>\n",
       "      <td>*</td>\n",
       "      <td>6.0</td>\n",
       "    </tr>\n",
       "    <tr>\n",
       "      <th>4</th>\n",
       "      <td>004</td>\n",
       "      <td>NaN</td>\n",
       "      <td>FL</td>\n",
       "      <td>2010-02-07</td>\n",
       "      <td>****</td>\n",
       "      <td>7.0</td>\n",
       "    </tr>\n",
       "  </tbody>\n",
       "</table>\n",
       "</div>"
      ],
      "text/plain": [
       "  product_id  price state        date rating  units_sold\n",
       "5        005  $4.73    ID  2010-02-05      *         6.0\n",
       "4        004    NaN    FL  2010-02-07   ****         7.0"
      ]
     },
     "execution_count": 8,
     "metadata": {},
     "output_type": "execute_result"
    },
    {
     "data": {
      "application/javascript": [
       "\n",
       "            setTimeout(function() {\n",
       "                var nbb_cell_id = 8;\n",
       "                var nbb_unformatted_code = \"# units_sold ------------------------------------------------------------------\\n# Randomness\\nunits_sold = np.random.normal(5, 3, n)\\n\\n# Make sure no value is below 1. cause you cant sell less than one units. prolly\\nunits_sold = np.clip(units_sold, 1, np.inf)\\n\\n# Add a trend\\nunits_sold += np.arange(0, n)\\n\\n# Round because you cant sell fractional units. prolly\\nunits_sold = np.round(units_sold)\\n\\n# Make some values nan\\nnan_idxs = np.random.choice(units_sold.size, size=int(n * perc_nan))\\nunits_sold[nan_idxs] = np.nan\\n\\ndf[\\\"units_sold\\\"] = units_sold\\ndf.head(2)\";\n",
       "                var nbb_formatted_code = \"# units_sold ------------------------------------------------------------------\\n# Randomness\\nunits_sold = np.random.normal(5, 3, n)\\n\\n# Make sure no value is below 1. cause you cant sell less than one units. prolly\\nunits_sold = np.clip(units_sold, 1, np.inf)\\n\\n# Add a trend\\nunits_sold += np.arange(0, n)\\n\\n# Round because you cant sell fractional units. prolly\\nunits_sold = np.round(units_sold)\\n\\n# Make some values nan\\nnan_idxs = np.random.choice(units_sold.size, size=int(n * perc_nan))\\nunits_sold[nan_idxs] = np.nan\\n\\ndf[\\\"units_sold\\\"] = units_sold\\ndf.head(2)\";\n",
       "                var nbb_cells = Jupyter.notebook.get_cells();\n",
       "                for (var i = 0; i < nbb_cells.length; ++i) {\n",
       "                    if (nbb_cells[i].input_prompt_number == nbb_cell_id) {\n",
       "                        if (nbb_cells[i].get_text() == nbb_unformatted_code) {\n",
       "                             nbb_cells[i].set_text(nbb_formatted_code);\n",
       "                        }\n",
       "                        break;\n",
       "                    }\n",
       "                }\n",
       "            }, 500);\n",
       "            "
      ],
      "text/plain": [
       "<IPython.core.display.Javascript object>"
      ]
     },
     "metadata": {},
     "output_type": "display_data"
    }
   ],
   "source": [
    "# units_sold ------------------------------------------------------------------\n",
    "# Randomness\n",
    "units_sold = np.random.normal(5, 3, n)\n",
    "\n",
    "# Make sure no value is below 1. cause you cant sell less than one units. prolly\n",
    "units_sold = np.clip(units_sold, 1, np.inf)\n",
    "\n",
    "# Add a trend\n",
    "units_sold += np.arange(0, n)\n",
    "\n",
    "# Round because you cant sell fractional units. prolly\n",
    "units_sold = np.round(units_sold)\n",
    "\n",
    "# Make some values nan\n",
    "nan_idxs = np.random.choice(units_sold.size, size=int(n * perc_nan))\n",
    "units_sold[nan_idxs] = np.nan\n",
    "\n",
    "df[\"units_sold\"] = units_sold\n",
    "df.head(2)"
   ]
  },
  {
   "cell_type": "code",
   "execution_count": 9,
   "metadata": {},
   "outputs": [
    {
     "data": {
      "text/html": [
       "<div>\n",
       "<style scoped>\n",
       "    .dataframe tbody tr th:only-of-type {\n",
       "        vertical-align: middle;\n",
       "    }\n",
       "\n",
       "    .dataframe tbody tr th {\n",
       "        vertical-align: top;\n",
       "    }\n",
       "\n",
       "    .dataframe thead th {\n",
       "        text-align: right;\n",
       "    }\n",
       "</style>\n",
       "<table border=\"1\" class=\"dataframe\">\n",
       "  <thead>\n",
       "    <tr style=\"text-align: right;\">\n",
       "      <th></th>\n",
       "      <th>product_id</th>\n",
       "      <th>state</th>\n",
       "      <th>date</th>\n",
       "      <th>rating</th>\n",
       "      <th>units_sold</th>\n",
       "      <th>price</th>\n",
       "    </tr>\n",
       "  </thead>\n",
       "  <tbody>\n",
       "    <tr>\n",
       "      <th>5</th>\n",
       "      <td>005</td>\n",
       "      <td>ID</td>\n",
       "      <td>2010-02-05</td>\n",
       "      <td>*</td>\n",
       "      <td>6.0</td>\n",
       "      <td>$4.73</td>\n",
       "    </tr>\n",
       "    <tr>\n",
       "      <th>4</th>\n",
       "      <td>004</td>\n",
       "      <td>FL</td>\n",
       "      <td>2010-02-07</td>\n",
       "      <td>****</td>\n",
       "      <td>7.0</td>\n",
       "      <td>NaN</td>\n",
       "    </tr>\n",
       "  </tbody>\n",
       "</table>\n",
       "</div>"
      ],
      "text/plain": [
       "  product_id state        date rating  units_sold  price\n",
       "5        005    ID  2010-02-05      *         6.0  $4.73\n",
       "4        004    FL  2010-02-07   ****         7.0    NaN"
      ]
     },
     "execution_count": 9,
     "metadata": {},
     "output_type": "execute_result"
    },
    {
     "data": {
      "application/javascript": [
       "\n",
       "            setTimeout(function() {\n",
       "                var nbb_cell_id = 9;\n",
       "                var nbb_unformatted_code = \"# order columns to match slides\\ndf = df[[\\\"product_id\\\", \\\"state\\\", \\\"date\\\", \\\"rating\\\", \\\"units_sold\\\", \\\"price\\\"]]\\ndf.head(2)\";\n",
       "                var nbb_formatted_code = \"# order columns to match slides\\ndf = df[[\\\"product_id\\\", \\\"state\\\", \\\"date\\\", \\\"rating\\\", \\\"units_sold\\\", \\\"price\\\"]]\\ndf.head(2)\";\n",
       "                var nbb_cells = Jupyter.notebook.get_cells();\n",
       "                for (var i = 0; i < nbb_cells.length; ++i) {\n",
       "                    if (nbb_cells[i].input_prompt_number == nbb_cell_id) {\n",
       "                        if (nbb_cells[i].get_text() == nbb_unformatted_code) {\n",
       "                             nbb_cells[i].set_text(nbb_formatted_code);\n",
       "                        }\n",
       "                        break;\n",
       "                    }\n",
       "                }\n",
       "            }, 500);\n",
       "            "
      ],
      "text/plain": [
       "<IPython.core.display.Javascript object>"
      ]
     },
     "metadata": {},
     "output_type": "display_data"
    }
   ],
   "source": [
    "# order columns to match slides\n",
    "df = df[[\"product_id\", \"state\", \"date\", \"rating\", \"units_sold\", \"price\"]]\n",
    "df.head(2)"
   ]
  },
  {
   "cell_type": "code",
   "execution_count": 10,
   "metadata": {},
   "outputs": [
    {
     "data": {
      "text/html": [
       "<div>\n",
       "<style scoped>\n",
       "    .dataframe tbody tr th:only-of-type {\n",
       "        vertical-align: middle;\n",
       "    }\n",
       "\n",
       "    .dataframe tbody tr th {\n",
       "        vertical-align: top;\n",
       "    }\n",
       "\n",
       "    .dataframe thead th {\n",
       "        text-align: right;\n",
       "    }\n",
       "</style>\n",
       "<table border=\"1\" class=\"dataframe\">\n",
       "  <thead>\n",
       "    <tr style=\"text-align: right;\">\n",
       "      <th></th>\n",
       "      <th>product_id</th>\n",
       "      <th>state</th>\n",
       "      <th>date</th>\n",
       "      <th>rating</th>\n",
       "      <th>units_sold</th>\n",
       "      <th>price</th>\n",
       "    </tr>\n",
       "  </thead>\n",
       "  <tbody>\n",
       "    <tr>\n",
       "      <th>5</th>\n",
       "      <td>005</td>\n",
       "      <td>ID</td>\n",
       "      <td>2010-02-05</td>\n",
       "      <td>*</td>\n",
       "      <td>6.0</td>\n",
       "      <td>$4.73</td>\n",
       "    </tr>\n",
       "    <tr>\n",
       "      <th>4</th>\n",
       "      <td>004</td>\n",
       "      <td>FL</td>\n",
       "      <td>2010-02-07</td>\n",
       "      <td>****</td>\n",
       "      <td>7.0</td>\n",
       "      <td>NaN</td>\n",
       "    </tr>\n",
       "  </tbody>\n",
       "</table>\n",
       "</div>"
      ],
      "text/plain": [
       "  product_id state        date rating  units_sold  price\n",
       "5        005    ID  2010-02-05      *         6.0  $4.73\n",
       "4        004    FL  2010-02-07   ****         7.0    NaN"
      ]
     },
     "execution_count": 10,
     "metadata": {},
     "output_type": "execute_result"
    },
    {
     "data": {
      "application/javascript": [
       "\n",
       "            setTimeout(function() {\n",
       "                var nbb_cell_id = 10;\n",
       "                var nbb_unformatted_code = \"# Make all ratings for most popular product NaN\\nmost_popular_prod = df[\\\"product_id\\\"].value_counts().index[0]\\ndf.loc[df[\\\"product_id\\\"] == most_popular_prod, \\\"rating\\\"] = np.nan\\ndf.head(2)\";\n",
       "                var nbb_formatted_code = \"# Make all ratings for most popular product NaN\\nmost_popular_prod = df[\\\"product_id\\\"].value_counts().index[0]\\ndf.loc[df[\\\"product_id\\\"] == most_popular_prod, \\\"rating\\\"] = np.nan\\ndf.head(2)\";\n",
       "                var nbb_cells = Jupyter.notebook.get_cells();\n",
       "                for (var i = 0; i < nbb_cells.length; ++i) {\n",
       "                    if (nbb_cells[i].input_prompt_number == nbb_cell_id) {\n",
       "                        if (nbb_cells[i].get_text() == nbb_unformatted_code) {\n",
       "                             nbb_cells[i].set_text(nbb_formatted_code);\n",
       "                        }\n",
       "                        break;\n",
       "                    }\n",
       "                }\n",
       "            }, 500);\n",
       "            "
      ],
      "text/plain": [
       "<IPython.core.display.Javascript object>"
      ]
     },
     "metadata": {},
     "output_type": "display_data"
    }
   ],
   "source": [
    "# Make all ratings for most popular product NaN\n",
    "most_popular_prod = df[\"product_id\"].value_counts().index[0]\n",
    "df.loc[df[\"product_id\"] == most_popular_prod, \"rating\"] = np.nan\n",
    "df.head(2)"
   ]
  },
  {
   "cell_type": "code",
   "execution_count": 11,
   "metadata": {},
   "outputs": [
    {
     "data": {
      "application/javascript": [
       "\n",
       "            setTimeout(function() {\n",
       "                var nbb_cell_id = 11;\n",
       "                var nbb_unformatted_code = \"df.to_csv(\\\"orders.csv\\\")\";\n",
       "                var nbb_formatted_code = \"df.to_csv(\\\"orders.csv\\\")\";\n",
       "                var nbb_cells = Jupyter.notebook.get_cells();\n",
       "                for (var i = 0; i < nbb_cells.length; ++i) {\n",
       "                    if (nbb_cells[i].input_prompt_number == nbb_cell_id) {\n",
       "                        if (nbb_cells[i].get_text() == nbb_unformatted_code) {\n",
       "                             nbb_cells[i].set_text(nbb_formatted_code);\n",
       "                        }\n",
       "                        break;\n",
       "                    }\n",
       "                }\n",
       "            }, 500);\n",
       "            "
      ],
      "text/plain": [
       "<IPython.core.display.Javascript object>"
      ]
     },
     "metadata": {},
     "output_type": "display_data"
    }
   ],
   "source": [
    "df.to_csv(\"orders.csv\")"
   ]
  }
 ],
 "metadata": {
  "kernelspec": {
   "display_name": "Python 3",
   "language": "python",
   "name": "python3"
  },
  "language_info": {
   "codemirror_mode": {
    "name": "ipython",
    "version": 3
   },
   "file_extension": ".py",
   "mimetype": "text/x-python",
   "name": "python",
   "nbconvert_exporter": "python",
   "pygments_lexer": "ipython3",
   "version": "3.7.7"
  }
 },
 "nbformat": 4,
 "nbformat_minor": 2
}
