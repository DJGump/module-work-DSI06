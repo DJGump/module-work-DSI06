{
 "cells": [
  {
   "cell_type": "code",
   "execution_count": 1,
   "metadata": {},
   "outputs": [],
   "source": [
    "def missingness_summary(df, print_log=False, sort='none'):\n",
    "    summary = df.apply(lambda x: x.isna().sum() / x.shape[0])\n",
    "    \n",
    "    if print_log == True:\n",
    "        if sort == 'none':\n",
    "            print(summary)\n",
    "        elif sort == 'ascending':\n",
    "            print(summary.sort_values())\n",
    "        elif sort == 'descending':\n",
    "            print(summary.sort_values(ascending=False))\n",
    "        else:\n",
    "            print('Invalid value for sort parameter.')\n",
    "        \n",
    "    return summary"
   ]
  },
  {
   "cell_type": "code",
   "execution_count": null,
   "metadata": {},
   "outputs": [],
   "source": []
  }
 ],
 "metadata": {
  "kernelspec": {
   "display_name": "Python 3",
   "language": "python",
   "name": "python3"
  },
  "language_info": {
   "codemirror_mode": {
    "name": "ipython",
    "version": 3
   },
   "file_extension": ".py",
   "mimetype": "text/x-python",
   "name": "python",
   "nbconvert_exporter": "python",
   "pygments_lexer": "ipython3",
   "version": "3.7.6"
  }
 },
 "nbformat": 4,
 "nbformat_minor": 4
}
