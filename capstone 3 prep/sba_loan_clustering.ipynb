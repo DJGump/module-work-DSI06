{
 "cells": [
  {
   "cell_type": "code",
   "execution_count": 2,
   "metadata": {},
   "outputs": [
    {
     "data": {
      "application/javascript": [
       "\n",
       "            setTimeout(function() {\n",
       "                var nbb_cell_id = 2;\n",
       "                var nbb_unformatted_code = \"%reload_ext nb_black\";\n",
       "                var nbb_formatted_code = \"%reload_ext nb_black\";\n",
       "                var nbb_cells = Jupyter.notebook.get_cells();\n",
       "                for (var i = 0; i < nbb_cells.length; ++i) {\n",
       "                    if (nbb_cells[i].input_prompt_number == nbb_cell_id) {\n",
       "                        if (nbb_cells[i].get_text() == nbb_unformatted_code) {\n",
       "                             nbb_cells[i].set_text(nbb_formatted_code);\n",
       "                        }\n",
       "                        break;\n",
       "                    }\n",
       "                }\n",
       "            }, 500);\n",
       "            "
      ],
      "text/plain": [
       "<IPython.core.display.Javascript object>"
      ]
     },
     "metadata": {},
     "output_type": "display_data"
    }
   ],
   "source": [
    "%reload_ext nb_black"
   ]
  },
  {
   "cell_type": "code",
   "execution_count": 3,
   "metadata": {},
   "outputs": [
    {
     "data": {
      "application/javascript": [
       "\n",
       "            setTimeout(function() {\n",
       "                var nbb_cell_id = 3;\n",
       "                var nbb_unformatted_code = \"import numpy as np\\nimport pandas as pd\\nfrom matplotlib import pyplot as plt\\nimport seaborn as sns\\n\\n%matplotlib inline\\npd.options.display.max_rows = 999\\npd.options.display.max_columns = 999\";\n",
       "                var nbb_formatted_code = \"import numpy as np\\nimport pandas as pd\\nfrom matplotlib import pyplot as plt\\nimport seaborn as sns\\n\\n%matplotlib inline\\npd.options.display.max_rows = 999\\npd.options.display.max_columns = 999\";\n",
       "                var nbb_cells = Jupyter.notebook.get_cells();\n",
       "                for (var i = 0; i < nbb_cells.length; ++i) {\n",
       "                    if (nbb_cells[i].input_prompt_number == nbb_cell_id) {\n",
       "                        if (nbb_cells[i].get_text() == nbb_unformatted_code) {\n",
       "                             nbb_cells[i].set_text(nbb_formatted_code);\n",
       "                        }\n",
       "                        break;\n",
       "                    }\n",
       "                }\n",
       "            }, 500);\n",
       "            "
      ],
      "text/plain": [
       "<IPython.core.display.Javascript object>"
      ]
     },
     "metadata": {},
     "output_type": "display_data"
    }
   ],
   "source": [
    "import numpy as np\n",
    "import pandas as pd\n",
    "from matplotlib import pyplot as plt\n",
    "import seaborn as sns\n",
    "\n",
    "%matplotlib inline\n",
    "pd.options.display.max_rows = 999\n",
    "pd.options.display.max_columns = 999"
   ]
  },
  {
   "cell_type": "code",
   "execution_count": 4,
   "metadata": {},
   "outputs": [
    {
     "data": {
      "application/javascript": [
       "\n",
       "            setTimeout(function() {\n",
       "                var nbb_cell_id = 4;\n",
       "                var nbb_unformatted_code = \"loans = pd.read_csv(\\\"data/sba_loans_cleaned3.csv\\\")\";\n",
       "                var nbb_formatted_code = \"loans = pd.read_csv(\\\"data/sba_loans_cleaned3.csv\\\")\";\n",
       "                var nbb_cells = Jupyter.notebook.get_cells();\n",
       "                for (var i = 0; i < nbb_cells.length; ++i) {\n",
       "                    if (nbb_cells[i].input_prompt_number == nbb_cell_id) {\n",
       "                        if (nbb_cells[i].get_text() == nbb_unformatted_code) {\n",
       "                             nbb_cells[i].set_text(nbb_formatted_code);\n",
       "                        }\n",
       "                        break;\n",
       "                    }\n",
       "                }\n",
       "            }, 500);\n",
       "            "
      ],
      "text/plain": [
       "<IPython.core.display.Javascript object>"
      ]
     },
     "metadata": {},
     "output_type": "display_data"
    }
   ],
   "source": [
    "loans = pd.read_csv(\"data/sba_loans_cleaned3.csv\")"
   ]
  },
  {
   "cell_type": "code",
   "execution_count": 5,
   "metadata": {},
   "outputs": [
    {
     "name": "stdout",
     "output_type": "stream",
     "text": [
      "<class 'pandas.core.frame.DataFrame'>\n",
      "RangeIndex: 520954 entries, 0 to 520953\n",
      "Data columns (total 24 columns):\n",
      " #   Column              Non-Null Count   Dtype  \n",
      "---  ------              --------------   -----  \n",
      " 0   State               520954 non-null  object \n",
      " 1   BankState           520954 non-null  object \n",
      " 2   ApprovalFY          520954 non-null  int64  \n",
      " 3   NoEmp               520954 non-null  int64  \n",
      " 4   NewExist            520954 non-null  int64  \n",
      " 5   RevLineCr           520421 non-null  float64\n",
      " 6   LowDoc              516749 non-null  float64\n",
      " 7   DisbursementGross   520954 non-null  float64\n",
      " 8   MIS_Status          520954 non-null  int64  \n",
      " 9   twoDigNAICS         520954 non-null  int64  \n",
      " 10  is_franchise        520954 non-null  float64\n",
      " 11  bank_out_of_state   520954 non-null  int64  \n",
      " 12  Term_years          520954 non-null  float64\n",
      " 13  job_category        520954 non-null  float64\n",
      " 14  retained_category   520954 non-null  float64\n",
      " 15  UrbanRural_cleaned  514461 non-null  float64\n",
      " 16  Disbr_year          520954 non-null  int64  \n",
      " 17  Disbr_Month_sin     520954 non-null  float64\n",
      " 18  Disbr_Month_cos     520954 non-null  float64\n",
      " 19  sba_pre_approv      520954 non-null  float64\n",
      " 20  percent_SBA         520954 non-null  float64\n",
      " 21  bank_size           520954 non-null  float64\n",
      " 22  Appv_Month_sin      520954 non-null  float64\n",
      " 23  Appv_Month_cos      520954 non-null  float64\n",
      "dtypes: float64(15), int64(7), object(2)\n",
      "memory usage: 95.4+ MB\n"
     ]
    },
    {
     "data": {
      "application/javascript": [
       "\n",
       "            setTimeout(function() {\n",
       "                var nbb_cell_id = 5;\n",
       "                var nbb_unformatted_code = \"loans.info()\";\n",
       "                var nbb_formatted_code = \"loans.info()\";\n",
       "                var nbb_cells = Jupyter.notebook.get_cells();\n",
       "                for (var i = 0; i < nbb_cells.length; ++i) {\n",
       "                    if (nbb_cells[i].input_prompt_number == nbb_cell_id) {\n",
       "                        if (nbb_cells[i].get_text() == nbb_unformatted_code) {\n",
       "                             nbb_cells[i].set_text(nbb_formatted_code);\n",
       "                        }\n",
       "                        break;\n",
       "                    }\n",
       "                }\n",
       "            }, 500);\n",
       "            "
      ],
      "text/plain": [
       "<IPython.core.display.Javascript object>"
      ]
     },
     "metadata": {},
     "output_type": "display_data"
    }
   ],
   "source": [
    "loans.info()"
   ]
  },
  {
   "cell_type": "code",
   "execution_count": 6,
   "metadata": {},
   "outputs": [
    {
     "data": {
      "text/html": [
       "<div>\n",
       "<style scoped>\n",
       "    .dataframe tbody tr th:only-of-type {\n",
       "        vertical-align: middle;\n",
       "    }\n",
       "\n",
       "    .dataframe tbody tr th {\n",
       "        vertical-align: top;\n",
       "    }\n",
       "\n",
       "    .dataframe thead th {\n",
       "        text-align: right;\n",
       "    }\n",
       "</style>\n",
       "<table border=\"1\" class=\"dataframe\">\n",
       "  <thead>\n",
       "    <tr style=\"text-align: right;\">\n",
       "      <th></th>\n",
       "      <th>State</th>\n",
       "      <th>BankState</th>\n",
       "      <th>ApprovalFY</th>\n",
       "      <th>NoEmp</th>\n",
       "      <th>NewExist</th>\n",
       "      <th>RevLineCr</th>\n",
       "      <th>LowDoc</th>\n",
       "      <th>DisbursementGross</th>\n",
       "      <th>MIS_Status</th>\n",
       "      <th>twoDigNAICS</th>\n",
       "      <th>is_franchise</th>\n",
       "      <th>bank_out_of_state</th>\n",
       "      <th>Term_years</th>\n",
       "      <th>job_category</th>\n",
       "      <th>retained_category</th>\n",
       "      <th>UrbanRural_cleaned</th>\n",
       "      <th>Disbr_year</th>\n",
       "      <th>Disbr_Month_sin</th>\n",
       "      <th>Disbr_Month_cos</th>\n",
       "      <th>sba_pre_approv</th>\n",
       "      <th>percent_SBA</th>\n",
       "      <th>bank_size</th>\n",
       "      <th>Appv_Month_sin</th>\n",
       "      <th>Appv_Month_cos</th>\n",
       "    </tr>\n",
       "  </thead>\n",
       "  <tbody>\n",
       "    <tr>\n",
       "      <th>0</th>\n",
       "      <td>NC</td>\n",
       "      <td>MN</td>\n",
       "      <td>2006</td>\n",
       "      <td>2</td>\n",
       "      <td>1</td>\n",
       "      <td>0.0</td>\n",
       "      <td>0.0</td>\n",
       "      <td>253400.0</td>\n",
       "      <td>0</td>\n",
       "      <td>44</td>\n",
       "      <td>1.0</td>\n",
       "      <td>0</td>\n",
       "      <td>13.500000</td>\n",
       "      <td>0.0</td>\n",
       "      <td>0.0</td>\n",
       "      <td>0.0</td>\n",
       "      <td>2006</td>\n",
       "      <td>0.866025</td>\n",
       "      <td>5.000000e-01</td>\n",
       "      <td>1.0</td>\n",
       "      <td>0.75</td>\n",
       "      <td>1.0</td>\n",
       "      <td>0.5</td>\n",
       "      <td>0.866025</td>\n",
       "    </tr>\n",
       "    <tr>\n",
       "      <th>1</th>\n",
       "      <td>AR</td>\n",
       "      <td>MS</td>\n",
       "      <td>2006</td>\n",
       "      <td>7</td>\n",
       "      <td>0</td>\n",
       "      <td>0.0</td>\n",
       "      <td>0.0</td>\n",
       "      <td>137300.0</td>\n",
       "      <td>0</td>\n",
       "      <td>72</td>\n",
       "      <td>0.0</td>\n",
       "      <td>0</td>\n",
       "      <td>10.500000</td>\n",
       "      <td>0.0</td>\n",
       "      <td>0.0</td>\n",
       "      <td>0.0</td>\n",
       "      <td>2006</td>\n",
       "      <td>1.000000</td>\n",
       "      <td>6.123234e-17</td>\n",
       "      <td>1.0</td>\n",
       "      <td>0.85</td>\n",
       "      <td>0.0</td>\n",
       "      <td>0.5</td>\n",
       "      <td>0.866025</td>\n",
       "    </tr>\n",
       "    <tr>\n",
       "      <th>2</th>\n",
       "      <td>CA</td>\n",
       "      <td>SD</td>\n",
       "      <td>2006</td>\n",
       "      <td>18</td>\n",
       "      <td>1</td>\n",
       "      <td>1.0</td>\n",
       "      <td>0.0</td>\n",
       "      <td>438541.0</td>\n",
       "      <td>0</td>\n",
       "      <td>61</td>\n",
       "      <td>0.0</td>\n",
       "      <td>0</td>\n",
       "      <td>6.916667</td>\n",
       "      <td>1.0</td>\n",
       "      <td>2.0</td>\n",
       "      <td>0.0</td>\n",
       "      <td>2006</td>\n",
       "      <td>0.500000</td>\n",
       "      <td>8.660254e-01</td>\n",
       "      <td>1.0</td>\n",
       "      <td>0.50</td>\n",
       "      <td>2.0</td>\n",
       "      <td>0.5</td>\n",
       "      <td>0.866025</td>\n",
       "    </tr>\n",
       "    <tr>\n",
       "      <th>3</th>\n",
       "      <td>FL</td>\n",
       "      <td>FL</td>\n",
       "      <td>2006</td>\n",
       "      <td>4</td>\n",
       "      <td>0</td>\n",
       "      <td>1.0</td>\n",
       "      <td>0.0</td>\n",
       "      <td>51440.0</td>\n",
       "      <td>0</td>\n",
       "      <td>23</td>\n",
       "      <td>0.0</td>\n",
       "      <td>1</td>\n",
       "      <td>7.000000</td>\n",
       "      <td>0.0</td>\n",
       "      <td>1.0</td>\n",
       "      <td>0.0</td>\n",
       "      <td>2006</td>\n",
       "      <td>0.500000</td>\n",
       "      <td>8.660254e-01</td>\n",
       "      <td>1.0</td>\n",
       "      <td>0.50</td>\n",
       "      <td>2.0</td>\n",
       "      <td>0.5</td>\n",
       "      <td>0.866025</td>\n",
       "    </tr>\n",
       "    <tr>\n",
       "      <th>4</th>\n",
       "      <td>LA</td>\n",
       "      <td>LA</td>\n",
       "      <td>2006</td>\n",
       "      <td>3</td>\n",
       "      <td>0</td>\n",
       "      <td>0.0</td>\n",
       "      <td>0.0</td>\n",
       "      <td>50000.0</td>\n",
       "      <td>0</td>\n",
       "      <td>53</td>\n",
       "      <td>0.0</td>\n",
       "      <td>1</td>\n",
       "      <td>5.000000</td>\n",
       "      <td>0.0</td>\n",
       "      <td>0.0</td>\n",
       "      <td>0.0</td>\n",
       "      <td>2006</td>\n",
       "      <td>0.866025</td>\n",
       "      <td>-5.000000e-01</td>\n",
       "      <td>1.0</td>\n",
       "      <td>0.85</td>\n",
       "      <td>0.0</td>\n",
       "      <td>0.5</td>\n",
       "      <td>0.866025</td>\n",
       "    </tr>\n",
       "  </tbody>\n",
       "</table>\n",
       "</div>"
      ],
      "text/plain": [
       "  State BankState  ApprovalFY  NoEmp  NewExist  RevLineCr  LowDoc  \\\n",
       "0    NC        MN        2006      2         1        0.0     0.0   \n",
       "1    AR        MS        2006      7         0        0.0     0.0   \n",
       "2    CA        SD        2006     18         1        1.0     0.0   \n",
       "3    FL        FL        2006      4         0        1.0     0.0   \n",
       "4    LA        LA        2006      3         0        0.0     0.0   \n",
       "\n",
       "   DisbursementGross  MIS_Status  twoDigNAICS  is_franchise  \\\n",
       "0           253400.0           0           44           1.0   \n",
       "1           137300.0           0           72           0.0   \n",
       "2           438541.0           0           61           0.0   \n",
       "3            51440.0           0           23           0.0   \n",
       "4            50000.0           0           53           0.0   \n",
       "\n",
       "   bank_out_of_state  Term_years  job_category  retained_category  \\\n",
       "0                  0   13.500000           0.0                0.0   \n",
       "1                  0   10.500000           0.0                0.0   \n",
       "2                  0    6.916667           1.0                2.0   \n",
       "3                  1    7.000000           0.0                1.0   \n",
       "4                  1    5.000000           0.0                0.0   \n",
       "\n",
       "   UrbanRural_cleaned  Disbr_year  Disbr_Month_sin  Disbr_Month_cos  \\\n",
       "0                 0.0        2006         0.866025     5.000000e-01   \n",
       "1                 0.0        2006         1.000000     6.123234e-17   \n",
       "2                 0.0        2006         0.500000     8.660254e-01   \n",
       "3                 0.0        2006         0.500000     8.660254e-01   \n",
       "4                 0.0        2006         0.866025    -5.000000e-01   \n",
       "\n",
       "   sba_pre_approv  percent_SBA  bank_size  Appv_Month_sin  Appv_Month_cos  \n",
       "0             1.0         0.75        1.0             0.5        0.866025  \n",
       "1             1.0         0.85        0.0             0.5        0.866025  \n",
       "2             1.0         0.50        2.0             0.5        0.866025  \n",
       "3             1.0         0.50        2.0             0.5        0.866025  \n",
       "4             1.0         0.85        0.0             0.5        0.866025  "
      ]
     },
     "execution_count": 6,
     "metadata": {},
     "output_type": "execute_result"
    },
    {
     "data": {
      "application/javascript": [
       "\n",
       "            setTimeout(function() {\n",
       "                var nbb_cell_id = 6;\n",
       "                var nbb_unformatted_code = \"loans.head()\";\n",
       "                var nbb_formatted_code = \"loans.head()\";\n",
       "                var nbb_cells = Jupyter.notebook.get_cells();\n",
       "                for (var i = 0; i < nbb_cells.length; ++i) {\n",
       "                    if (nbb_cells[i].input_prompt_number == nbb_cell_id) {\n",
       "                        if (nbb_cells[i].get_text() == nbb_unformatted_code) {\n",
       "                             nbb_cells[i].set_text(nbb_formatted_code);\n",
       "                        }\n",
       "                        break;\n",
       "                    }\n",
       "                }\n",
       "            }, 500);\n",
       "            "
      ],
      "text/plain": [
       "<IPython.core.display.Javascript object>"
      ]
     },
     "metadata": {},
     "output_type": "display_data"
    }
   ],
   "source": [
    "loans.head()"
   ]
  },
  {
   "cell_type": "code",
   "execution_count": 8,
   "metadata": {},
   "outputs": [
    {
     "data": {
      "application/javascript": [
       "\n",
       "            setTimeout(function() {\n",
       "                var nbb_cell_id = 8;\n",
       "                var nbb_unformatted_code = \"drop_cols = [\\n    \\\"ApprovalFY\\\",\\n    \\\"Disbr_Month_sin\\\",\\n    \\\"Disbr_Month_cos\\\",\\n    \\\"Appv_Month_sin\\\",\\n    \\\"Appv_Month_cos\\\",\\n]\\nloans = loans.drop(columns=drop_cols)\";\n",
       "                var nbb_formatted_code = \"drop_cols = [\\n    \\\"ApprovalFY\\\",\\n    \\\"Disbr_Month_sin\\\",\\n    \\\"Disbr_Month_cos\\\",\\n    \\\"Appv_Month_sin\\\",\\n    \\\"Appv_Month_cos\\\",\\n]\\nloans = loans.drop(columns=drop_cols)\";\n",
       "                var nbb_cells = Jupyter.notebook.get_cells();\n",
       "                for (var i = 0; i < nbb_cells.length; ++i) {\n",
       "                    if (nbb_cells[i].input_prompt_number == nbb_cell_id) {\n",
       "                        if (nbb_cells[i].get_text() == nbb_unformatted_code) {\n",
       "                             nbb_cells[i].set_text(nbb_formatted_code);\n",
       "                        }\n",
       "                        break;\n",
       "                    }\n",
       "                }\n",
       "            }, 500);\n",
       "            "
      ],
      "text/plain": [
       "<IPython.core.display.Javascript object>"
      ]
     },
     "metadata": {},
     "output_type": "display_data"
    }
   ],
   "source": [
    "drop_cols = [\n",
    "    \"ApprovalFY\",\n",
    "    \"Disbr_Month_sin\",\n",
    "    \"Disbr_Month_cos\",\n",
    "    \"Appv_Month_sin\",\n",
    "    \"Appv_Month_cos\",\n",
    "]\n",
    "loans = loans.drop(columns=drop_cols)"
   ]
  },
  {
   "cell_type": "code",
   "execution_count": 11,
   "metadata": {},
   "outputs": [
    {
     "data": {
      "text/plain": [
       "44    63807\n",
       "72    59831\n",
       "54    53022\n",
       "81    50305\n",
       "23    50183\n",
       "62    36677\n",
       "42    32749\n",
       "56    28261\n",
       "45    28057\n",
       "33    24883\n",
       "48    18501\n",
       "32    12298\n",
       "53    11521\n",
       "71    10583\n",
       "51     9162\n",
       "52     8688\n",
       "31     8461\n",
       "61     6011\n",
       "11     4249\n",
       "49     1979\n",
       "21     1085\n",
       "22      413\n",
       "55      132\n",
       "92       85\n",
       "0        11\n",
       "Name: twoDigNAICS, dtype: int64"
      ]
     },
     "execution_count": 11,
     "metadata": {},
     "output_type": "execute_result"
    },
    {
     "data": {
      "application/javascript": [
       "\n",
       "            setTimeout(function() {\n",
       "                var nbb_cell_id = 11;\n",
       "                var nbb_unformatted_code = \"loans[\\\"twoDigNAICS\\\"].value_counts()\";\n",
       "                var nbb_formatted_code = \"loans[\\\"twoDigNAICS\\\"].value_counts()\";\n",
       "                var nbb_cells = Jupyter.notebook.get_cells();\n",
       "                for (var i = 0; i < nbb_cells.length; ++i) {\n",
       "                    if (nbb_cells[i].input_prompt_number == nbb_cell_id) {\n",
       "                        if (nbb_cells[i].get_text() == nbb_unformatted_code) {\n",
       "                             nbb_cells[i].set_text(nbb_formatted_code);\n",
       "                        }\n",
       "                        break;\n",
       "                    }\n",
       "                }\n",
       "            }, 500);\n",
       "            "
      ],
      "text/plain": [
       "<IPython.core.display.Javascript object>"
      ]
     },
     "metadata": {},
     "output_type": "display_data"
    }
   ],
   "source": [
    "loans[\"twoDigNAICS\"].value_counts()"
   ]
  },
  {
   "cell_type": "code",
   "execution_count": 9,
   "metadata": {},
   "outputs": [
    {
     "name": "stdout",
     "output_type": "stream",
     "text": [
      "<class 'pandas.core.frame.DataFrame'>\n",
      "RangeIndex: 520954 entries, 0 to 520953\n",
      "Data columns (total 19 columns):\n",
      " #   Column              Non-Null Count   Dtype  \n",
      "---  ------              --------------   -----  \n",
      " 0   State               520954 non-null  object \n",
      " 1   BankState           520954 non-null  object \n",
      " 2   NoEmp               520954 non-null  int64  \n",
      " 3   NewExist            520954 non-null  int64  \n",
      " 4   RevLineCr           520421 non-null  float64\n",
      " 5   LowDoc              516749 non-null  float64\n",
      " 6   DisbursementGross   520954 non-null  float64\n",
      " 7   MIS_Status          520954 non-null  int64  \n",
      " 8   twoDigNAICS         520954 non-null  int64  \n",
      " 9   is_franchise        520954 non-null  float64\n",
      " 10  bank_out_of_state   520954 non-null  int64  \n",
      " 11  Term_years          520954 non-null  float64\n",
      " 12  job_category        520954 non-null  float64\n",
      " 13  retained_category   520954 non-null  float64\n",
      " 14  UrbanRural_cleaned  514461 non-null  float64\n",
      " 15  Disbr_year          520954 non-null  int64  \n",
      " 16  sba_pre_approv      520954 non-null  float64\n",
      " 17  percent_SBA         520954 non-null  float64\n",
      " 18  bank_size           520954 non-null  float64\n",
      "dtypes: float64(11), int64(6), object(2)\n",
      "memory usage: 75.5+ MB\n"
     ]
    },
    {
     "data": {
      "application/javascript": [
       "\n",
       "            setTimeout(function() {\n",
       "                var nbb_cell_id = 9;\n",
       "                var nbb_unformatted_code = \"loans.info()\";\n",
       "                var nbb_formatted_code = \"loans.info()\";\n",
       "                var nbb_cells = Jupyter.notebook.get_cells();\n",
       "                for (var i = 0; i < nbb_cells.length; ++i) {\n",
       "                    if (nbb_cells[i].input_prompt_number == nbb_cell_id) {\n",
       "                        if (nbb_cells[i].get_text() == nbb_unformatted_code) {\n",
       "                             nbb_cells[i].set_text(nbb_formatted_code);\n",
       "                        }\n",
       "                        break;\n",
       "                    }\n",
       "                }\n",
       "            }, 500);\n",
       "            "
      ],
      "text/plain": [
       "<IPython.core.display.Javascript object>"
      ]
     },
     "metadata": {},
     "output_type": "display_data"
    }
   ],
   "source": [
    "loans.info()"
   ]
  },
  {
   "cell_type": "code",
   "execution_count": 12,
   "metadata": {},
   "outputs": [
    {
     "data": {
      "application/javascript": [
       "\n",
       "            setTimeout(function() {\n",
       "                var nbb_cell_id = 12;\n",
       "                var nbb_unformatted_code = \"num_cols = [\\n    'NoEmp',\\n    'DisbursementGross',\\n    'Term_years',\\n    'Disbr_year',\\n    'percent_SBA'    \\n]\";\n",
       "                var nbb_formatted_code = \"num_cols = [\\\"NoEmp\\\", \\\"DisbursementGross\\\", \\\"Term_years\\\", \\\"Disbr_year\\\", \\\"percent_SBA\\\"]\";\n",
       "                var nbb_cells = Jupyter.notebook.get_cells();\n",
       "                for (var i = 0; i < nbb_cells.length; ++i) {\n",
       "                    if (nbb_cells[i].input_prompt_number == nbb_cell_id) {\n",
       "                        if (nbb_cells[i].get_text() == nbb_unformatted_code) {\n",
       "                             nbb_cells[i].set_text(nbb_formatted_code);\n",
       "                        }\n",
       "                        break;\n",
       "                    }\n",
       "                }\n",
       "            }, 500);\n",
       "            "
      ],
      "text/plain": [
       "<IPython.core.display.Javascript object>"
      ]
     },
     "metadata": {},
     "output_type": "display_data"
    }
   ],
   "source": [
    "num_cols = [\"NoEmp\", \"DisbursementGross\", \"Term_years\", \"Disbr_year\", \"percent_SBA\"]\n",
    "cat_cols = [\n",
    "    'State',\n",
    "    'BankState',\n",
    "    'MIS_Status',\n",
    "    'twoDigNAICS',\n",
    "    'job_\n",
    "    '\n",
    "]"
   ]
  },
  {
   "cell_type": "code",
   "execution_count": null,
   "metadata": {},
   "outputs": [],
   "source": []
  }
 ],
 "metadata": {
  "kernelspec": {
   "display_name": "Python 3",
   "language": "python",
   "name": "python3"
  },
  "language_info": {
   "codemirror_mode": {
    "name": "ipython",
    "version": 3
   },
   "file_extension": ".py",
   "mimetype": "text/x-python",
   "name": "python",
   "nbconvert_exporter": "python",
   "pygments_lexer": "ipython3",
   "version": "3.7.6"
  }
 },
 "nbformat": 4,
 "nbformat_minor": 4
}
