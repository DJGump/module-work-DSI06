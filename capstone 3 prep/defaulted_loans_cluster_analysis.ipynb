{
 "cells": [
  {
   "cell_type": "code",
   "execution_count": 1,
   "metadata": {},
   "outputs": [
    {
     "data": {
      "application/javascript": [
       "\n",
       "            setTimeout(function() {\n",
       "                var nbb_cell_id = 1;\n",
       "                var nbb_unformatted_code = \"%reload_ext nb_black\";\n",
       "                var nbb_formatted_code = \"%reload_ext nb_black\";\n",
       "                var nbb_cells = Jupyter.notebook.get_cells();\n",
       "                for (var i = 0; i < nbb_cells.length; ++i) {\n",
       "                    if (nbb_cells[i].input_prompt_number == nbb_cell_id) {\n",
       "                        if (nbb_cells[i].get_text() == nbb_unformatted_code) {\n",
       "                             nbb_cells[i].set_text(nbb_formatted_code);\n",
       "                        }\n",
       "                        break;\n",
       "                    }\n",
       "                }\n",
       "            }, 500);\n",
       "            "
      ],
      "text/plain": [
       "<IPython.core.display.Javascript object>"
      ]
     },
     "metadata": {},
     "output_type": "display_data"
    }
   ],
   "source": [
    "%reload_ext nb_black"
   ]
  },
  {
   "cell_type": "code",
   "execution_count": 2,
   "metadata": {},
   "outputs": [
    {
     "data": {
      "application/javascript": [
       "\n",
       "            setTimeout(function() {\n",
       "                var nbb_cell_id = 2;\n",
       "                var nbb_unformatted_code = \"import numpy as np\\nimport pandas as pd\\nfrom matplotlib import pyplot as plt\\nimport seaborn as sns\\nfrom pyclustering.cluster.kmedoids import kmedoids\\nfrom sklearn.cluster import AgglomerativeClustering, DBSCAN\\nfrom umap import UMAP\\nfrom sklearn.preprocessing import StandardScaler\\nimport prince\\n\\nimport gower\\n\\nimport plotly.express as px\\nfrom ipywidgets import interact\\n\\n%matplotlib inline\\npd.options.display.max_rows = 999\\npd.options.display.max_columns = 999\";\n",
       "                var nbb_formatted_code = \"import numpy as np\\nimport pandas as pd\\nfrom matplotlib import pyplot as plt\\nimport seaborn as sns\\nfrom pyclustering.cluster.kmedoids import kmedoids\\nfrom sklearn.cluster import AgglomerativeClustering, DBSCAN\\nfrom umap import UMAP\\nfrom sklearn.preprocessing import StandardScaler\\nimport prince\\n\\nimport gower\\n\\nimport plotly.express as px\\nfrom ipywidgets import interact\\n\\n%matplotlib inline\\npd.options.display.max_rows = 999\\npd.options.display.max_columns = 999\";\n",
       "                var nbb_cells = Jupyter.notebook.get_cells();\n",
       "                for (var i = 0; i < nbb_cells.length; ++i) {\n",
       "                    if (nbb_cells[i].input_prompt_number == nbb_cell_id) {\n",
       "                        if (nbb_cells[i].get_text() == nbb_unformatted_code) {\n",
       "                             nbb_cells[i].set_text(nbb_formatted_code);\n",
       "                        }\n",
       "                        break;\n",
       "                    }\n",
       "                }\n",
       "            }, 500);\n",
       "            "
      ],
      "text/plain": [
       "<IPython.core.display.Javascript object>"
      ]
     },
     "metadata": {},
     "output_type": "display_data"
    }
   ],
   "source": [
    "import numpy as np\n",
    "import pandas as pd\n",
    "from matplotlib import pyplot as plt\n",
    "import seaborn as sns\n",
    "from pyclustering.cluster.kmedoids import kmedoids\n",
    "from sklearn.cluster import AgglomerativeClustering, DBSCAN\n",
    "from umap import UMAP\n",
    "from sklearn.preprocessing import StandardScaler\n",
    "import prince\n",
    "\n",
    "import gower\n",
    "\n",
    "import plotly.express as px\n",
    "from ipywidgets import interact\n",
    "\n",
    "%matplotlib inline\n",
    "pd.options.display.max_rows = 999\n",
    "pd.options.display.max_columns = 999"
   ]
  },
  {
   "cell_type": "markdown",
   "metadata": {},
   "source": [
    "### Load in and Prepare Data"
   ]
  },
  {
   "cell_type": "markdown",
   "metadata": {},
   "source": [
    "Data is cleaned and explored in accompanying notebook."
   ]
  },
  {
   "cell_type": "code",
   "execution_count": 3,
   "metadata": {},
   "outputs": [
    {
     "data": {
      "text/html": [
       "<div>\n",
       "<style scoped>\n",
       "    .dataframe tbody tr th:only-of-type {\n",
       "        vertical-align: middle;\n",
       "    }\n",
       "\n",
       "    .dataframe tbody tr th {\n",
       "        vertical-align: top;\n",
       "    }\n",
       "\n",
       "    .dataframe thead th {\n",
       "        text-align: right;\n",
       "    }\n",
       "</style>\n",
       "<table border=\"1\" class=\"dataframe\">\n",
       "  <thead>\n",
       "    <tr style=\"text-align: right;\">\n",
       "      <th></th>\n",
       "      <th>Name</th>\n",
       "      <th>City</th>\n",
       "      <th>State</th>\n",
       "      <th>Zip</th>\n",
       "      <th>Bank</th>\n",
       "      <th>BankState</th>\n",
       "      <th>ApprovalFY</th>\n",
       "      <th>NoEmp</th>\n",
       "      <th>NewExist</th>\n",
       "      <th>CreateJob</th>\n",
       "      <th>RetainedJob</th>\n",
       "      <th>RevLineCr</th>\n",
       "      <th>LowDoc</th>\n",
       "      <th>DisbursementGross</th>\n",
       "      <th>MIS_Status</th>\n",
       "      <th>twoDigNAICS</th>\n",
       "      <th>is_franchise</th>\n",
       "      <th>bank_out_of_state</th>\n",
       "      <th>Term_years</th>\n",
       "      <th>UrbanRural_cleaned</th>\n",
       "      <th>Disbr_year</th>\n",
       "      <th>Disbr_Month_sin</th>\n",
       "      <th>Disbr_Month_cos</th>\n",
       "      <th>sba_pre_approv</th>\n",
       "      <th>percent_SBA</th>\n",
       "      <th>bank_size</th>\n",
       "      <th>Appv_Month_sin</th>\n",
       "      <th>Appv_Month_cos</th>\n",
       "    </tr>\n",
       "  </thead>\n",
       "  <tbody>\n",
       "    <tr>\n",
       "      <th>0</th>\n",
       "      <td>CARVEL</td>\n",
       "      <td>APEX</td>\n",
       "      <td>NC</td>\n",
       "      <td>27502</td>\n",
       "      <td>STEARNS BK NATL ASSOC</td>\n",
       "      <td>MN</td>\n",
       "      <td>2006</td>\n",
       "      <td>2</td>\n",
       "      <td>1</td>\n",
       "      <td>0</td>\n",
       "      <td>0</td>\n",
       "      <td>0.0</td>\n",
       "      <td>0.0</td>\n",
       "      <td>253400.0</td>\n",
       "      <td>0</td>\n",
       "      <td>44</td>\n",
       "      <td>1.0</td>\n",
       "      <td>0</td>\n",
       "      <td>13.500000</td>\n",
       "      <td>0.0</td>\n",
       "      <td>2006</td>\n",
       "      <td>0.866025</td>\n",
       "      <td>5.000000e-01</td>\n",
       "      <td>1.0</td>\n",
       "      <td>0.75</td>\n",
       "      <td>1.0</td>\n",
       "      <td>0.5</td>\n",
       "      <td>0.866025</td>\n",
       "    </tr>\n",
       "    <tr>\n",
       "      <th>1</th>\n",
       "      <td>SUBWAY</td>\n",
       "      <td>LITTLE ROCK</td>\n",
       "      <td>AR</td>\n",
       "      <td>72223</td>\n",
       "      <td>HOPE FCU</td>\n",
       "      <td>MS</td>\n",
       "      <td>2006</td>\n",
       "      <td>7</td>\n",
       "      <td>0</td>\n",
       "      <td>0</td>\n",
       "      <td>0</td>\n",
       "      <td>0.0</td>\n",
       "      <td>0.0</td>\n",
       "      <td>137300.0</td>\n",
       "      <td>0</td>\n",
       "      <td>72</td>\n",
       "      <td>0.0</td>\n",
       "      <td>0</td>\n",
       "      <td>10.500000</td>\n",
       "      <td>0.0</td>\n",
       "      <td>2006</td>\n",
       "      <td>1.000000</td>\n",
       "      <td>6.123234e-17</td>\n",
       "      <td>1.0</td>\n",
       "      <td>0.85</td>\n",
       "      <td>0.0</td>\n",
       "      <td>0.5</td>\n",
       "      <td>0.866025</td>\n",
       "    </tr>\n",
       "    <tr>\n",
       "      <th>2</th>\n",
       "      <td>WEYLAND CORPORATION</td>\n",
       "      <td>CAMARILLO</td>\n",
       "      <td>CA</td>\n",
       "      <td>93010</td>\n",
       "      <td>WELLS FARGO BANK NATL ASSOC</td>\n",
       "      <td>SD</td>\n",
       "      <td>2006</td>\n",
       "      <td>18</td>\n",
       "      <td>1</td>\n",
       "      <td>5</td>\n",
       "      <td>23</td>\n",
       "      <td>1.0</td>\n",
       "      <td>0.0</td>\n",
       "      <td>438541.0</td>\n",
       "      <td>0</td>\n",
       "      <td>61</td>\n",
       "      <td>0.0</td>\n",
       "      <td>0</td>\n",
       "      <td>6.916667</td>\n",
       "      <td>0.0</td>\n",
       "      <td>2006</td>\n",
       "      <td>0.500000</td>\n",
       "      <td>8.660254e-01</td>\n",
       "      <td>1.0</td>\n",
       "      <td>0.50</td>\n",
       "      <td>2.0</td>\n",
       "      <td>0.5</td>\n",
       "      <td>0.866025</td>\n",
       "    </tr>\n",
       "    <tr>\n",
       "      <th>3</th>\n",
       "      <td>CHICAGO BRICK UNLIMITED INC</td>\n",
       "      <td>MIAMI</td>\n",
       "      <td>FL</td>\n",
       "      <td>33186</td>\n",
       "      <td>CITIBANK, N.A.</td>\n",
       "      <td>FL</td>\n",
       "      <td>2006</td>\n",
       "      <td>4</td>\n",
       "      <td>0</td>\n",
       "      <td>0</td>\n",
       "      <td>4</td>\n",
       "      <td>1.0</td>\n",
       "      <td>0.0</td>\n",
       "      <td>51440.0</td>\n",
       "      <td>0</td>\n",
       "      <td>23</td>\n",
       "      <td>0.0</td>\n",
       "      <td>1</td>\n",
       "      <td>7.000000</td>\n",
       "      <td>0.0</td>\n",
       "      <td>2006</td>\n",
       "      <td>0.500000</td>\n",
       "      <td>8.660254e-01</td>\n",
       "      <td>1.0</td>\n",
       "      <td>0.50</td>\n",
       "      <td>2.0</td>\n",
       "      <td>0.5</td>\n",
       "      <td>0.866025</td>\n",
       "    </tr>\n",
       "    <tr>\n",
       "      <th>4</th>\n",
       "      <td>RZI, INC.</td>\n",
       "      <td>NEW ORLEANS</td>\n",
       "      <td>LA</td>\n",
       "      <td>70130</td>\n",
       "      <td>BUSINESS RES. CAP. SPECIALTY B</td>\n",
       "      <td>LA</td>\n",
       "      <td>2006</td>\n",
       "      <td>3</td>\n",
       "      <td>0</td>\n",
       "      <td>0</td>\n",
       "      <td>0</td>\n",
       "      <td>0.0</td>\n",
       "      <td>0.0</td>\n",
       "      <td>50000.0</td>\n",
       "      <td>0</td>\n",
       "      <td>53</td>\n",
       "      <td>0.0</td>\n",
       "      <td>1</td>\n",
       "      <td>5.000000</td>\n",
       "      <td>0.0</td>\n",
       "      <td>2006</td>\n",
       "      <td>0.866025</td>\n",
       "      <td>-5.000000e-01</td>\n",
       "      <td>1.0</td>\n",
       "      <td>0.85</td>\n",
       "      <td>0.0</td>\n",
       "      <td>0.5</td>\n",
       "      <td>0.866025</td>\n",
       "    </tr>\n",
       "  </tbody>\n",
       "</table>\n",
       "</div>"
      ],
      "text/plain": [
       "                          Name         City State    Zip  \\\n",
       "0                       CARVEL         APEX    NC  27502   \n",
       "1                       SUBWAY  LITTLE ROCK    AR  72223   \n",
       "2          WEYLAND CORPORATION    CAMARILLO    CA  93010   \n",
       "3  CHICAGO BRICK UNLIMITED INC        MIAMI    FL  33186   \n",
       "4                    RZI, INC.  NEW ORLEANS    LA  70130   \n",
       "\n",
       "                             Bank BankState  ApprovalFY  NoEmp  NewExist  \\\n",
       "0           STEARNS BK NATL ASSOC        MN        2006      2         1   \n",
       "1                        HOPE FCU        MS        2006      7         0   \n",
       "2     WELLS FARGO BANK NATL ASSOC        SD        2006     18         1   \n",
       "3                  CITIBANK, N.A.        FL        2006      4         0   \n",
       "4  BUSINESS RES. CAP. SPECIALTY B        LA        2006      3         0   \n",
       "\n",
       "   CreateJob  RetainedJob  RevLineCr  LowDoc  DisbursementGross  MIS_Status  \\\n",
       "0          0            0        0.0     0.0           253400.0           0   \n",
       "1          0            0        0.0     0.0           137300.0           0   \n",
       "2          5           23        1.0     0.0           438541.0           0   \n",
       "3          0            4        1.0     0.0            51440.0           0   \n",
       "4          0            0        0.0     0.0            50000.0           0   \n",
       "\n",
       "   twoDigNAICS  is_franchise  bank_out_of_state  Term_years  \\\n",
       "0           44           1.0                  0   13.500000   \n",
       "1           72           0.0                  0   10.500000   \n",
       "2           61           0.0                  0    6.916667   \n",
       "3           23           0.0                  1    7.000000   \n",
       "4           53           0.0                  1    5.000000   \n",
       "\n",
       "   UrbanRural_cleaned  Disbr_year  Disbr_Month_sin  Disbr_Month_cos  \\\n",
       "0                 0.0        2006         0.866025     5.000000e-01   \n",
       "1                 0.0        2006         1.000000     6.123234e-17   \n",
       "2                 0.0        2006         0.500000     8.660254e-01   \n",
       "3                 0.0        2006         0.500000     8.660254e-01   \n",
       "4                 0.0        2006         0.866025    -5.000000e-01   \n",
       "\n",
       "   sba_pre_approv  percent_SBA  bank_size  Appv_Month_sin  Appv_Month_cos  \n",
       "0             1.0         0.75        1.0             0.5        0.866025  \n",
       "1             1.0         0.85        0.0             0.5        0.866025  \n",
       "2             1.0         0.50        2.0             0.5        0.866025  \n",
       "3             1.0         0.50        2.0             0.5        0.866025  \n",
       "4             1.0         0.85        0.0             0.5        0.866025  "
      ]
     },
     "execution_count": 3,
     "metadata": {},
     "output_type": "execute_result"
    },
    {
     "data": {
      "application/javascript": [
       "\n",
       "            setTimeout(function() {\n",
       "                var nbb_cell_id = 3;\n",
       "                var nbb_unformatted_code = \"loans = pd.read_csv(\\\"data/SBA_clnd.csv\\\")\\nloans.head()\";\n",
       "                var nbb_formatted_code = \"loans = pd.read_csv(\\\"data/SBA_clnd.csv\\\")\\nloans.head()\";\n",
       "                var nbb_cells = Jupyter.notebook.get_cells();\n",
       "                for (var i = 0; i < nbb_cells.length; ++i) {\n",
       "                    if (nbb_cells[i].input_prompt_number == nbb_cell_id) {\n",
       "                        if (nbb_cells[i].get_text() == nbb_unformatted_code) {\n",
       "                             nbb_cells[i].set_text(nbb_formatted_code);\n",
       "                        }\n",
       "                        break;\n",
       "                    }\n",
       "                }\n",
       "            }, 500);\n",
       "            "
      ],
      "text/plain": [
       "<IPython.core.display.Javascript object>"
      ]
     },
     "metadata": {},
     "output_type": "display_data"
    }
   ],
   "source": [
    "loans = pd.read_csv(\"data/SBA_clnd.csv\")\n",
    "loans.head()"
   ]
  },
  {
   "cell_type": "markdown",
   "metadata": {},
   "source": [
    "Create a column to represent the size of a bank by the number of loans given over this period"
   ]
  },
  {
   "cell_type": "code",
   "execution_count": 4,
   "metadata": {},
   "outputs": [
    {
     "data": {
      "application/javascript": [
       "\n",
       "            setTimeout(function() {\n",
       "                var nbb_cell_id = 4;\n",
       "                var nbb_unformatted_code = \"bank_counts = loans[\\\"Bank\\\"].value_counts()\\nloans[\\\"bank_size\\\"] = loans[\\\"Bank\\\"].apply(lambda x: bank_counts[x])\";\n",
       "                var nbb_formatted_code = \"bank_counts = loans[\\\"Bank\\\"].value_counts()\\nloans[\\\"bank_size\\\"] = loans[\\\"Bank\\\"].apply(lambda x: bank_counts[x])\";\n",
       "                var nbb_cells = Jupyter.notebook.get_cells();\n",
       "                for (var i = 0; i < nbb_cells.length; ++i) {\n",
       "                    if (nbb_cells[i].input_prompt_number == nbb_cell_id) {\n",
       "                        if (nbb_cells[i].get_text() == nbb_unformatted_code) {\n",
       "                             nbb_cells[i].set_text(nbb_formatted_code);\n",
       "                        }\n",
       "                        break;\n",
       "                    }\n",
       "                }\n",
       "            }, 500);\n",
       "            "
      ],
      "text/plain": [
       "<IPython.core.display.Javascript object>"
      ]
     },
     "metadata": {},
     "output_type": "display_data"
    }
   ],
   "source": [
    "bank_counts = loans[\"Bank\"].value_counts()\n",
    "loans[\"bank_size\"] = loans[\"Bank\"].apply(lambda x: bank_counts[x])"
   ]
  },
  {
   "cell_type": "markdown",
   "metadata": {},
   "source": [
    "Select defaulted loans only."
   ]
  },
  {
   "cell_type": "code",
   "execution_count": 64,
   "metadata": {},
   "outputs": [
    {
     "data": {
      "application/javascript": [
       "\n",
       "            setTimeout(function() {\n",
       "                var nbb_cell_id = 64;\n",
       "                var nbb_unformatted_code = \"default = loans[loans[\\\"MIS_Status\\\"] == 1]\\n#default = default[default[\\\"NoEmp\\\"] <= 100]\";\n",
       "                var nbb_formatted_code = \"default = loans[loans[\\\"MIS_Status\\\"] == 1]\\n# default = default[default[\\\"NoEmp\\\"] <= 100]\";\n",
       "                var nbb_cells = Jupyter.notebook.get_cells();\n",
       "                for (var i = 0; i < nbb_cells.length; ++i) {\n",
       "                    if (nbb_cells[i].input_prompt_number == nbb_cell_id) {\n",
       "                        if (nbb_cells[i].get_text() == nbb_unformatted_code) {\n",
       "                             nbb_cells[i].set_text(nbb_formatted_code);\n",
       "                        }\n",
       "                        break;\n",
       "                    }\n",
       "                }\n",
       "            }, 500);\n",
       "            "
      ],
      "text/plain": [
       "<IPython.core.display.Javascript object>"
      ]
     },
     "metadata": {},
     "output_type": "display_data"
    }
   ],
   "source": [
    "default = loans[loans[\"MIS_Status\"] == 1]\n",
    "#default = default[default[\"NoEmp\"] <= 100]\n"
   ]
  },
  {
   "cell_type": "code",
   "execution_count": null,
   "metadata": {},
   "outputs": [],
   "source": []
  },
  {
   "cell_type": "code",
   "execution_count": null,
   "metadata": {},
   "outputs": [],
   "source": []
  },
  {
   "cell_type": "markdown",
   "metadata": {},
   "source": [
    "Drop columns not useful for clustering"
   ]
  },
  {
   "cell_type": "code",
   "execution_count": 7,
   "metadata": {},
   "outputs": [
    {
     "data": {
      "application/javascript": [
       "\n",
       "            setTimeout(function() {\n",
       "                var nbb_cell_id = 7;\n",
       "                var nbb_unformatted_code = \"drop_cols = [\\n    \\\"Name\\\",\\n    \\\"City\\\",\\n    \\\"Zip\\\",\\n    \\\"Bank\\\",\\n    \\\"ApprovalFY\\\",\\n    \\\"sba_pre_approv\\\",\\n    \\\"Disbr_Month_sin\\\",\\n    \\\"Disbr_Month_cos\\\",\\n    \\\"Appv_Month_sin\\\",\\n    \\\"Appv_Month_cos\\\",\\n    \\\"MIS_Status\\\",\\n    \\\"twoDigNAICS\\\",\\n    \\\"State\\\",\\n    \\\"BankState\\\",\\n]\\ndefault = default.drop(columns=drop_cols)\";\n",
       "                var nbb_formatted_code = \"drop_cols = [\\n    \\\"Name\\\",\\n    \\\"City\\\",\\n    \\\"Zip\\\",\\n    \\\"Bank\\\",\\n    \\\"ApprovalFY\\\",\\n    \\\"sba_pre_approv\\\",\\n    \\\"Disbr_Month_sin\\\",\\n    \\\"Disbr_Month_cos\\\",\\n    \\\"Appv_Month_sin\\\",\\n    \\\"Appv_Month_cos\\\",\\n    \\\"MIS_Status\\\",\\n    \\\"twoDigNAICS\\\",\\n    \\\"State\\\",\\n    \\\"BankState\\\",\\n]\\ndefault = default.drop(columns=drop_cols)\";\n",
       "                var nbb_cells = Jupyter.notebook.get_cells();\n",
       "                for (var i = 0; i < nbb_cells.length; ++i) {\n",
       "                    if (nbb_cells[i].input_prompt_number == nbb_cell_id) {\n",
       "                        if (nbb_cells[i].get_text() == nbb_unformatted_code) {\n",
       "                             nbb_cells[i].set_text(nbb_formatted_code);\n",
       "                        }\n",
       "                        break;\n",
       "                    }\n",
       "                }\n",
       "            }, 500);\n",
       "            "
      ],
      "text/plain": [
       "<IPython.core.display.Javascript object>"
      ]
     },
     "metadata": {},
     "output_type": "display_data"
    }
   ],
   "source": [
    "drop_cols = [\n",
    "    \"Name\",\n",
    "    \"City\",\n",
    "    \"Zip\",\n",
    "    \"Bank\",\n",
    "    \"ApprovalFY\",\n",
    "    \"sba_pre_approv\",\n",
    "    \"Disbr_Month_sin\",\n",
    "    \"Disbr_Month_cos\",\n",
    "    \"Appv_Month_sin\",\n",
    "    \"Appv_Month_cos\",\n",
    "    \"MIS_Status\",\n",
    "    \"twoDigNAICS\",\n",
    "    \"State\",\n",
    "    \"BankState\",\n",
    "]\n",
    "default = default.drop(columns=drop_cols)"
   ]
  },
  {
   "cell_type": "markdown",
   "metadata": {},
   "source": [
    "Categorize columns into numerica and categorical for preprocessing"
   ]
  },
  {
   "cell_type": "code",
   "execution_count": 8,
   "metadata": {},
   "outputs": [
    {
     "data": {
      "application/javascript": [
       "\n",
       "            setTimeout(function() {\n",
       "                var nbb_cell_id = 8;\n",
       "                var nbb_unformatted_code = \"num_cols = [\\n    \\\"NoEmp\\\",\\n    \\\"CreateJob\\\",\\n    \\\"RetainedJob\\\",\\n    \\\"DisbursementGross\\\",\\n    \\\"Term_years\\\",\\n    \\\"Disbr_year\\\",\\n    \\\"percent_SBA\\\",\\n    \\\"bank_size\\\",\\n]\\n\\ncat_cols = [\\n    \\\"NewExist\\\",\\n    \\\"RevLineCr\\\",\\n    \\\"LowDoc\\\",\\n    \\\"is_franchise\\\",\\n    \\\"bank_out_of_state\\\",\\n    \\\"UrbanRural_cleaned\\\",\\n]\\n\\n# will want cat_cols as str for discrete coloring in graphs\\n# converting here breaks famd\\n# loans[cat_cols] = loans[cat_cols].astype(\\\"str\\\")\\nis_cat = default.columns.isin(cat_cols)\";\n",
       "                var nbb_formatted_code = \"num_cols = [\\n    \\\"NoEmp\\\",\\n    \\\"CreateJob\\\",\\n    \\\"RetainedJob\\\",\\n    \\\"DisbursementGross\\\",\\n    \\\"Term_years\\\",\\n    \\\"Disbr_year\\\",\\n    \\\"percent_SBA\\\",\\n    \\\"bank_size\\\",\\n]\\n\\ncat_cols = [\\n    \\\"NewExist\\\",\\n    \\\"RevLineCr\\\",\\n    \\\"LowDoc\\\",\\n    \\\"is_franchise\\\",\\n    \\\"bank_out_of_state\\\",\\n    \\\"UrbanRural_cleaned\\\",\\n]\\n\\n# will want cat_cols as str for discrete coloring in graphs\\n# converting here breaks famd\\n# loans[cat_cols] = loans[cat_cols].astype(\\\"str\\\")\\nis_cat = default.columns.isin(cat_cols)\";\n",
       "                var nbb_cells = Jupyter.notebook.get_cells();\n",
       "                for (var i = 0; i < nbb_cells.length; ++i) {\n",
       "                    if (nbb_cells[i].input_prompt_number == nbb_cell_id) {\n",
       "                        if (nbb_cells[i].get_text() == nbb_unformatted_code) {\n",
       "                             nbb_cells[i].set_text(nbb_formatted_code);\n",
       "                        }\n",
       "                        break;\n",
       "                    }\n",
       "                }\n",
       "            }, 500);\n",
       "            "
      ],
      "text/plain": [
       "<IPython.core.display.Javascript object>"
      ]
     },
     "metadata": {},
     "output_type": "display_data"
    }
   ],
   "source": [
    "num_cols = [\n",
    "    \"NoEmp\",\n",
    "    \"CreateJob\",\n",
    "    \"RetainedJob\",\n",
    "    \"DisbursementGross\",\n",
    "    \"Term_years\",\n",
    "    \"Disbr_year\",\n",
    "    \"percent_SBA\",\n",
    "    \"bank_size\",\n",
    "]\n",
    "\n",
    "cat_cols = [\n",
    "    \"NewExist\",\n",
    "    \"RevLineCr\",\n",
    "    \"LowDoc\",\n",
    "    \"is_franchise\",\n",
    "    \"bank_out_of_state\",\n",
    "    \"UrbanRural_cleaned\",\n",
    "]\n",
    "\n",
    "# will want cat_cols as str for discrete coloring in graphs\n",
    "# converting here breaks famd\n",
    "# loans[cat_cols] = loans[cat_cols].astype(\"str\")\n",
    "is_cat = default.columns.isin(cat_cols)"
   ]
  },
  {
   "cell_type": "code",
   "execution_count": 9,
   "metadata": {},
   "outputs": [
    {
     "data": {
      "text/html": [
       "<div>\n",
       "<style scoped>\n",
       "    .dataframe tbody tr th:only-of-type {\n",
       "        vertical-align: middle;\n",
       "    }\n",
       "\n",
       "    .dataframe tbody tr th {\n",
       "        vertical-align: top;\n",
       "    }\n",
       "\n",
       "    .dataframe thead th {\n",
       "        text-align: right;\n",
       "    }\n",
       "</style>\n",
       "<table border=\"1\" class=\"dataframe\">\n",
       "  <thead>\n",
       "    <tr style=\"text-align: right;\">\n",
       "      <th></th>\n",
       "      <th>NoEmp</th>\n",
       "      <th>NewExist</th>\n",
       "      <th>CreateJob</th>\n",
       "      <th>RetainedJob</th>\n",
       "      <th>RevLineCr</th>\n",
       "      <th>LowDoc</th>\n",
       "      <th>DisbursementGross</th>\n",
       "      <th>is_franchise</th>\n",
       "      <th>bank_out_of_state</th>\n",
       "      <th>Term_years</th>\n",
       "      <th>UrbanRural_cleaned</th>\n",
       "      <th>Disbr_year</th>\n",
       "      <th>percent_SBA</th>\n",
       "      <th>bank_size</th>\n",
       "    </tr>\n",
       "  </thead>\n",
       "  <tbody>\n",
       "    <tr>\n",
       "      <th>8</th>\n",
       "      <td>9</td>\n",
       "      <td>0</td>\n",
       "      <td>0</td>\n",
       "      <td>9</td>\n",
       "      <td>0.0</td>\n",
       "      <td>0.0</td>\n",
       "      <td>1350000.0</td>\n",
       "      <td>0.0</td>\n",
       "      <td>0</td>\n",
       "      <td>13.916667</td>\n",
       "      <td>0.0</td>\n",
       "      <td>2006</td>\n",
       "      <td>0.75</td>\n",
       "      <td>24752</td>\n",
       "    </tr>\n",
       "    <tr>\n",
       "      <th>11</th>\n",
       "      <td>4</td>\n",
       "      <td>1</td>\n",
       "      <td>1</td>\n",
       "      <td>5</td>\n",
       "      <td>1.0</td>\n",
       "      <td>0.0</td>\n",
       "      <td>60859.0</td>\n",
       "      <td>0.0</td>\n",
       "      <td>0</td>\n",
       "      <td>2.166667</td>\n",
       "      <td>1.0</td>\n",
       "      <td>2006</td>\n",
       "      <td>0.50</td>\n",
       "      <td>24752</td>\n",
       "    </tr>\n",
       "    <tr>\n",
       "      <th>15</th>\n",
       "      <td>1</td>\n",
       "      <td>1</td>\n",
       "      <td>3</td>\n",
       "      <td>4</td>\n",
       "      <td>0.0</td>\n",
       "      <td>0.0</td>\n",
       "      <td>28090.0</td>\n",
       "      <td>0.0</td>\n",
       "      <td>0</td>\n",
       "      <td>0.416667</td>\n",
       "      <td>0.0</td>\n",
       "      <td>2006</td>\n",
       "      <td>0.85</td>\n",
       "      <td>20370</td>\n",
       "    </tr>\n",
       "    <tr>\n",
       "      <th>16</th>\n",
       "      <td>4</td>\n",
       "      <td>0</td>\n",
       "      <td>8</td>\n",
       "      <td>4</td>\n",
       "      <td>1.0</td>\n",
       "      <td>0.0</td>\n",
       "      <td>76432.0</td>\n",
       "      <td>0.0</td>\n",
       "      <td>0</td>\n",
       "      <td>4.500000</td>\n",
       "      <td>1.0</td>\n",
       "      <td>2006</td>\n",
       "      <td>0.50</td>\n",
       "      <td>34974</td>\n",
       "    </tr>\n",
       "    <tr>\n",
       "      <th>24</th>\n",
       "      <td>10</td>\n",
       "      <td>0</td>\n",
       "      <td>11</td>\n",
       "      <td>10</td>\n",
       "      <td>1.0</td>\n",
       "      <td>0.0</td>\n",
       "      <td>90518.0</td>\n",
       "      <td>0.0</td>\n",
       "      <td>0</td>\n",
       "      <td>2.250000</td>\n",
       "      <td>0.0</td>\n",
       "      <td>2006</td>\n",
       "      <td>0.50</td>\n",
       "      <td>24752</td>\n",
       "    </tr>\n",
       "  </tbody>\n",
       "</table>\n",
       "</div>"
      ],
      "text/plain": [
       "    NoEmp  NewExist  CreateJob  RetainedJob  RevLineCr  LowDoc  \\\n",
       "8       9         0          0            9        0.0     0.0   \n",
       "11      4         1          1            5        1.0     0.0   \n",
       "15      1         1          3            4        0.0     0.0   \n",
       "16      4         0          8            4        1.0     0.0   \n",
       "24     10         0         11           10        1.0     0.0   \n",
       "\n",
       "    DisbursementGross  is_franchise  bank_out_of_state  Term_years  \\\n",
       "8           1350000.0           0.0                  0   13.916667   \n",
       "11            60859.0           0.0                  0    2.166667   \n",
       "15            28090.0           0.0                  0    0.416667   \n",
       "16            76432.0           0.0                  0    4.500000   \n",
       "24            90518.0           0.0                  0    2.250000   \n",
       "\n",
       "    UrbanRural_cleaned  Disbr_year  percent_SBA  bank_size  \n",
       "8                  0.0        2006         0.75      24752  \n",
       "11                 1.0        2006         0.50      24752  \n",
       "15                 0.0        2006         0.85      20370  \n",
       "16                 1.0        2006         0.50      34974  \n",
       "24                 0.0        2006         0.50      24752  "
      ]
     },
     "execution_count": 9,
     "metadata": {},
     "output_type": "execute_result"
    },
    {
     "data": {
      "application/javascript": [
       "\n",
       "            setTimeout(function() {\n",
       "                var nbb_cell_id = 9;\n",
       "                var nbb_unformatted_code = \"default.head()\";\n",
       "                var nbb_formatted_code = \"default.head()\";\n",
       "                var nbb_cells = Jupyter.notebook.get_cells();\n",
       "                for (var i = 0; i < nbb_cells.length; ++i) {\n",
       "                    if (nbb_cells[i].input_prompt_number == nbb_cell_id) {\n",
       "                        if (nbb_cells[i].get_text() == nbb_unformatted_code) {\n",
       "                             nbb_cells[i].set_text(nbb_formatted_code);\n",
       "                        }\n",
       "                        break;\n",
       "                    }\n",
       "                }\n",
       "            }, 500);\n",
       "            "
      ],
      "text/plain": [
       "<IPython.core.display.Javascript object>"
      ]
     },
     "metadata": {},
     "output_type": "display_data"
    }
   ],
   "source": [
    "default.head()"
   ]
  },
  {
   "cell_type": "markdown",
   "metadata": {
    "scrolled": false
   },
   "source": [
    "Sample 1,000 loans so distance matrixes and clustering algorithms run in a reasonable amount of time."
   ]
  },
  {
   "cell_type": "code",
   "execution_count": 10,
   "metadata": {},
   "outputs": [
    {
     "name": "stdout",
     "output_type": "stream",
     "text": [
      "<class 'pandas.core.frame.DataFrame'>\n",
      "Int64Index: 1000 entries, 310469 to 302209\n",
      "Data columns (total 14 columns):\n",
      " #   Column              Non-Null Count  Dtype  \n",
      "---  ------              --------------  -----  \n",
      " 0   NoEmp               1000 non-null   int64  \n",
      " 1   NewExist            1000 non-null   object \n",
      " 2   CreateJob           1000 non-null   int64  \n",
      " 3   RetainedJob         1000 non-null   int64  \n",
      " 4   RevLineCr           1000 non-null   object \n",
      " 5   LowDoc              1000 non-null   object \n",
      " 6   DisbursementGross   1000 non-null   float64\n",
      " 7   is_franchise        1000 non-null   object \n",
      " 8   bank_out_of_state   1000 non-null   object \n",
      " 9   Term_years          1000 non-null   float64\n",
      " 10  UrbanRural_cleaned  1000 non-null   object \n",
      " 11  Disbr_year          1000 non-null   int64  \n",
      " 12  percent_SBA         1000 non-null   float64\n",
      " 13  bank_size           1000 non-null   int64  \n",
      "dtypes: float64(3), int64(5), object(6)\n",
      "memory usage: 117.2+ KB\n"
     ]
    },
    {
     "data": {
      "application/javascript": [
       "\n",
       "            setTimeout(function() {\n",
       "                var nbb_cell_id = 10;\n",
       "                var nbb_unformatted_code = \"sample = default.sample(1000, random_state = 66)\\n\\n# will want cat_cols as str for discrete coloring in graphs\\nsample[cat_cols] = sample[cat_cols].astype(\\\"str\\\")\\nsample.info()\";\n",
       "                var nbb_formatted_code = \"sample = default.sample(1000, random_state=66)\\n\\n# will want cat_cols as str for discrete coloring in graphs\\nsample[cat_cols] = sample[cat_cols].astype(\\\"str\\\")\\nsample.info()\";\n",
       "                var nbb_cells = Jupyter.notebook.get_cells();\n",
       "                for (var i = 0; i < nbb_cells.length; ++i) {\n",
       "                    if (nbb_cells[i].input_prompt_number == nbb_cell_id) {\n",
       "                        if (nbb_cells[i].get_text() == nbb_unformatted_code) {\n",
       "                             nbb_cells[i].set_text(nbb_formatted_code);\n",
       "                        }\n",
       "                        break;\n",
       "                    }\n",
       "                }\n",
       "            }, 500);\n",
       "            "
      ],
      "text/plain": [
       "<IPython.core.display.Javascript object>"
      ]
     },
     "metadata": {},
     "output_type": "display_data"
    }
   ],
   "source": [
    "sample = default.sample(1000, random_state = 66)\n",
    "\n",
    "# will want cat_cols as str for discrete coloring in graphs\n",
    "sample[cat_cols] = sample[cat_cols].astype(\"str\")\n",
    "sample.info()\n"
   ]
  },
  {
   "cell_type": "markdown",
   "metadata": {},
   "source": [
    "### Calculate Gower Distance Matrix for Mixed Data"
   ]
  },
  {
   "cell_type": "code",
   "execution_count": 11,
   "metadata": {},
   "outputs": [
    {
     "data": {
      "application/javascript": [
       "\n",
       "            setTimeout(function() {\n",
       "                var nbb_cell_id = 11;\n",
       "                var nbb_unformatted_code = \"gower_dist = gower.gower_matrix(sample, cat_features=is_cat)\\ngower_df = pd.DataFrame(gower_dist, columns=sample.index, index=sample.index)\";\n",
       "                var nbb_formatted_code = \"gower_dist = gower.gower_matrix(sample, cat_features=is_cat)\\ngower_df = pd.DataFrame(gower_dist, columns=sample.index, index=sample.index)\";\n",
       "                var nbb_cells = Jupyter.notebook.get_cells();\n",
       "                for (var i = 0; i < nbb_cells.length; ++i) {\n",
       "                    if (nbb_cells[i].input_prompt_number == nbb_cell_id) {\n",
       "                        if (nbb_cells[i].get_text() == nbb_unformatted_code) {\n",
       "                             nbb_cells[i].set_text(nbb_formatted_code);\n",
       "                        }\n",
       "                        break;\n",
       "                    }\n",
       "                }\n",
       "            }, 500);\n",
       "            "
      ],
      "text/plain": [
       "<IPython.core.display.Javascript object>"
      ]
     },
     "metadata": {},
     "output_type": "display_data"
    }
   ],
   "source": [
    "gower_dist = gower.gower_matrix(sample, cat_features=is_cat)\n",
    "gower_df = pd.DataFrame(gower_dist, columns=sample.index, index=sample.index)"
   ]
  },
  {
   "cell_type": "markdown",
   "metadata": {},
   "source": [
    "Scale the numerical features for clustering to give features equal voices"
   ]
  },
  {
   "cell_type": "code",
   "execution_count": 12,
   "metadata": {},
   "outputs": [
    {
     "data": {
      "text/html": [
       "<div>\n",
       "<style scoped>\n",
       "    .dataframe tbody tr th:only-of-type {\n",
       "        vertical-align: middle;\n",
       "    }\n",
       "\n",
       "    .dataframe tbody tr th {\n",
       "        vertical-align: top;\n",
       "    }\n",
       "\n",
       "    .dataframe thead th {\n",
       "        text-align: right;\n",
       "    }\n",
       "</style>\n",
       "<table border=\"1\" class=\"dataframe\">\n",
       "  <thead>\n",
       "    <tr style=\"text-align: right;\">\n",
       "      <th></th>\n",
       "      <th>NoEmp</th>\n",
       "      <th>CreateJob</th>\n",
       "      <th>RetainedJob</th>\n",
       "      <th>DisbursementGross</th>\n",
       "      <th>Term_years</th>\n",
       "      <th>Disbr_year</th>\n",
       "      <th>percent_SBA</th>\n",
       "      <th>bank_size</th>\n",
       "      <th>NewExist</th>\n",
       "      <th>RevLineCr</th>\n",
       "      <th>LowDoc</th>\n",
       "      <th>is_franchise</th>\n",
       "      <th>bank_out_of_state</th>\n",
       "      <th>UrbanRural_cleaned</th>\n",
       "    </tr>\n",
       "  </thead>\n",
       "  <tbody>\n",
       "    <tr>\n",
       "      <th>310469</th>\n",
       "      <td>-0.263979</td>\n",
       "      <td>1.532731</td>\n",
       "      <td>0.259196</td>\n",
       "      <td>0.652080</td>\n",
       "      <td>1.409945</td>\n",
       "      <td>-1.988538</td>\n",
       "      <td>0.959673</td>\n",
       "      <td>0.061195</td>\n",
       "      <td>0</td>\n",
       "      <td>0.0</td>\n",
       "      <td>0.0</td>\n",
       "      <td>0.0</td>\n",
       "      <td>0</td>\n",
       "      <td>0.0</td>\n",
       "    </tr>\n",
       "    <tr>\n",
       "      <th>139568</th>\n",
       "      <td>-0.328348</td>\n",
       "      <td>-0.452672</td>\n",
       "      <td>-0.324908</td>\n",
       "      <td>-0.354792</td>\n",
       "      <td>-0.313059</td>\n",
       "      <td>0.601379</td>\n",
       "      <td>-0.670206</td>\n",
       "      <td>0.061195</td>\n",
       "      <td>0</td>\n",
       "      <td>1.0</td>\n",
       "      <td>0.0</td>\n",
       "      <td>0.0</td>\n",
       "      <td>0</td>\n",
       "      <td>0.0</td>\n",
       "    </tr>\n",
       "    <tr>\n",
       "      <th>155456</th>\n",
       "      <td>-0.006501</td>\n",
       "      <td>-0.169043</td>\n",
       "      <td>0.040157</td>\n",
       "      <td>-0.463888</td>\n",
       "      <td>0.187168</td>\n",
       "      <td>0.601379</td>\n",
       "      <td>-0.670206</td>\n",
       "      <td>-1.063051</td>\n",
       "      <td>1</td>\n",
       "      <td>1.0</td>\n",
       "      <td>0.0</td>\n",
       "      <td>0.0</td>\n",
       "      <td>0</td>\n",
       "      <td>0.0</td>\n",
       "    </tr>\n",
       "    <tr>\n",
       "      <th>83352</th>\n",
       "      <td>-0.263979</td>\n",
       "      <td>-0.452672</td>\n",
       "      <td>-0.251895</td>\n",
       "      <td>-0.463888</td>\n",
       "      <td>-0.174107</td>\n",
       "      <td>0.083395</td>\n",
       "      <td>-0.670206</td>\n",
       "      <td>0.528960</td>\n",
       "      <td>0</td>\n",
       "      <td>0.0</td>\n",
       "      <td>0.0</td>\n",
       "      <td>0.0</td>\n",
       "      <td>1</td>\n",
       "      <td>0.0</td>\n",
       "    </tr>\n",
       "    <tr>\n",
       "      <th>42980</th>\n",
       "      <td>-0.328348</td>\n",
       "      <td>0.398215</td>\n",
       "      <td>-0.105869</td>\n",
       "      <td>-0.446719</td>\n",
       "      <td>-1.091189</td>\n",
       "      <td>-0.434588</td>\n",
       "      <td>-0.670206</td>\n",
       "      <td>-0.250023</td>\n",
       "      <td>1</td>\n",
       "      <td>0.0</td>\n",
       "      <td>0.0</td>\n",
       "      <td>0.0</td>\n",
       "      <td>0</td>\n",
       "      <td>0.0</td>\n",
       "    </tr>\n",
       "    <tr>\n",
       "      <th>...</th>\n",
       "      <td>...</td>\n",
       "      <td>...</td>\n",
       "      <td>...</td>\n",
       "      <td>...</td>\n",
       "      <td>...</td>\n",
       "      <td>...</td>\n",
       "      <td>...</td>\n",
       "      <td>...</td>\n",
       "      <td>...</td>\n",
       "      <td>...</td>\n",
       "      <td>...</td>\n",
       "      <td>...</td>\n",
       "      <td>...</td>\n",
       "      <td>...</td>\n",
       "    </tr>\n",
       "    <tr>\n",
       "      <th>426421</th>\n",
       "      <td>-0.328348</td>\n",
       "      <td>-0.452672</td>\n",
       "      <td>-0.324908</td>\n",
       "      <td>-0.435273</td>\n",
       "      <td>0.465072</td>\n",
       "      <td>-0.952571</td>\n",
       "      <td>-0.670206</td>\n",
       "      <td>1.857574</td>\n",
       "      <td>0</td>\n",
       "      <td>1.0</td>\n",
       "      <td>0.0</td>\n",
       "      <td>0.0</td>\n",
       "      <td>0</td>\n",
       "      <td>0.0</td>\n",
       "    </tr>\n",
       "    <tr>\n",
       "      <th>40082</th>\n",
       "      <td>-0.135240</td>\n",
       "      <td>-0.169043</td>\n",
       "      <td>-0.032856</td>\n",
       "      <td>-0.462171</td>\n",
       "      <td>-0.479801</td>\n",
       "      <td>-0.434588</td>\n",
       "      <td>-0.670206</td>\n",
       "      <td>0.528960</td>\n",
       "      <td>0</td>\n",
       "      <td>0.0</td>\n",
       "      <td>0.0</td>\n",
       "      <td>0.0</td>\n",
       "      <td>1</td>\n",
       "      <td>0.0</td>\n",
       "    </tr>\n",
       "    <tr>\n",
       "      <th>3956</th>\n",
       "      <td>-0.199609</td>\n",
       "      <td>-0.452672</td>\n",
       "      <td>-0.178882</td>\n",
       "      <td>-0.251831</td>\n",
       "      <td>0.187168</td>\n",
       "      <td>0.083395</td>\n",
       "      <td>-0.670206</td>\n",
       "      <td>0.528960</td>\n",
       "      <td>0</td>\n",
       "      <td>1.0</td>\n",
       "      <td>0.0</td>\n",
       "      <td>0.0</td>\n",
       "      <td>0</td>\n",
       "      <td>0.0</td>\n",
       "    </tr>\n",
       "    <tr>\n",
       "      <th>312345</th>\n",
       "      <td>-0.070871</td>\n",
       "      <td>-0.452672</td>\n",
       "      <td>-0.032856</td>\n",
       "      <td>0.051175</td>\n",
       "      <td>3.132949</td>\n",
       "      <td>-1.988538</td>\n",
       "      <td>1.611624</td>\n",
       "      <td>-1.037883</td>\n",
       "      <td>0</td>\n",
       "      <td>0.0</td>\n",
       "      <td>0.0</td>\n",
       "      <td>0.0</td>\n",
       "      <td>1</td>\n",
       "      <td>0.0</td>\n",
       "    </tr>\n",
       "    <tr>\n",
       "      <th>302209</th>\n",
       "      <td>-0.135240</td>\n",
       "      <td>-0.452672</td>\n",
       "      <td>-0.105869</td>\n",
       "      <td>-0.406659</td>\n",
       "      <td>-0.285268</td>\n",
       "      <td>-1.988538</td>\n",
       "      <td>-0.670206</td>\n",
       "      <td>1.857574</td>\n",
       "      <td>0</td>\n",
       "      <td>0.0</td>\n",
       "      <td>0.0</td>\n",
       "      <td>0.0</td>\n",
       "      <td>0</td>\n",
       "      <td>0.0</td>\n",
       "    </tr>\n",
       "  </tbody>\n",
       "</table>\n",
       "<p>1000 rows × 14 columns</p>\n",
       "</div>"
      ],
      "text/plain": [
       "           NoEmp  CreateJob  RetainedJob  DisbursementGross  Term_years  \\\n",
       "310469 -0.263979   1.532731     0.259196           0.652080    1.409945   \n",
       "139568 -0.328348  -0.452672    -0.324908          -0.354792   -0.313059   \n",
       "155456 -0.006501  -0.169043     0.040157          -0.463888    0.187168   \n",
       "83352  -0.263979  -0.452672    -0.251895          -0.463888   -0.174107   \n",
       "42980  -0.328348   0.398215    -0.105869          -0.446719   -1.091189   \n",
       "...          ...        ...          ...                ...         ...   \n",
       "426421 -0.328348  -0.452672    -0.324908          -0.435273    0.465072   \n",
       "40082  -0.135240  -0.169043    -0.032856          -0.462171   -0.479801   \n",
       "3956   -0.199609  -0.452672    -0.178882          -0.251831    0.187168   \n",
       "312345 -0.070871  -0.452672    -0.032856           0.051175    3.132949   \n",
       "302209 -0.135240  -0.452672    -0.105869          -0.406659   -0.285268   \n",
       "\n",
       "        Disbr_year  percent_SBA  bank_size NewExist RevLineCr LowDoc  \\\n",
       "310469   -1.988538     0.959673   0.061195        0       0.0    0.0   \n",
       "139568    0.601379    -0.670206   0.061195        0       1.0    0.0   \n",
       "155456    0.601379    -0.670206  -1.063051        1       1.0    0.0   \n",
       "83352     0.083395    -0.670206   0.528960        0       0.0    0.0   \n",
       "42980    -0.434588    -0.670206  -0.250023        1       0.0    0.0   \n",
       "...            ...          ...        ...      ...       ...    ...   \n",
       "426421   -0.952571    -0.670206   1.857574        0       1.0    0.0   \n",
       "40082    -0.434588    -0.670206   0.528960        0       0.0    0.0   \n",
       "3956      0.083395    -0.670206   0.528960        0       1.0    0.0   \n",
       "312345   -1.988538     1.611624  -1.037883        0       0.0    0.0   \n",
       "302209   -1.988538    -0.670206   1.857574        0       0.0    0.0   \n",
       "\n",
       "       is_franchise bank_out_of_state UrbanRural_cleaned  \n",
       "310469          0.0                 0                0.0  \n",
       "139568          0.0                 0                0.0  \n",
       "155456          0.0                 0                0.0  \n",
       "83352           0.0                 1                0.0  \n",
       "42980           0.0                 0                0.0  \n",
       "...             ...               ...                ...  \n",
       "426421          0.0                 0                0.0  \n",
       "40082           0.0                 1                0.0  \n",
       "3956            0.0                 0                0.0  \n",
       "312345          0.0                 1                0.0  \n",
       "302209          0.0                 0                0.0  \n",
       "\n",
       "[1000 rows x 14 columns]"
      ]
     },
     "execution_count": 12,
     "metadata": {},
     "output_type": "execute_result"
    },
    {
     "data": {
      "application/javascript": [
       "\n",
       "            setTimeout(function() {\n",
       "                var nbb_cell_id = 12;\n",
       "                var nbb_unformatted_code = \"scaler = StandardScaler()\\nX_std = scaler.fit_transform(sample[num_cols])\\nX_std = pd.DataFrame(X_std, columns=num_cols, index=sample[num_cols].index)\\n# pd.DataFrame(scaler.fit_transform(X[num_cols]), columns=num_cols)\\n\\nscaled_X = pd.concat((X_std, sample[cat_cols]), axis=1)\\n\\n# for after cluster, doing some preliminary visualization\\n# scaled_X[\\\"label\\\"] = labels\\nscaled_X\";\n",
       "                var nbb_formatted_code = \"scaler = StandardScaler()\\nX_std = scaler.fit_transform(sample[num_cols])\\nX_std = pd.DataFrame(X_std, columns=num_cols, index=sample[num_cols].index)\\n# pd.DataFrame(scaler.fit_transform(X[num_cols]), columns=num_cols)\\n\\nscaled_X = pd.concat((X_std, sample[cat_cols]), axis=1)\\n\\n# for after cluster, doing some preliminary visualization\\n# scaled_X[\\\"label\\\"] = labels\\nscaled_X\";\n",
       "                var nbb_cells = Jupyter.notebook.get_cells();\n",
       "                for (var i = 0; i < nbb_cells.length; ++i) {\n",
       "                    if (nbb_cells[i].input_prompt_number == nbb_cell_id) {\n",
       "                        if (nbb_cells[i].get_text() == nbb_unformatted_code) {\n",
       "                             nbb_cells[i].set_text(nbb_formatted_code);\n",
       "                        }\n",
       "                        break;\n",
       "                    }\n",
       "                }\n",
       "            }, 500);\n",
       "            "
      ],
      "text/plain": [
       "<IPython.core.display.Javascript object>"
      ]
     },
     "metadata": {},
     "output_type": "display_data"
    }
   ],
   "source": [
    "scaler = StandardScaler()\n",
    "X_std = scaler.fit_transform(sample[num_cols])\n",
    "X_std = pd.DataFrame(X_std, columns=num_cols, index=sample[num_cols].index)\n",
    "# pd.DataFrame(scaler.fit_transform(X[num_cols]), columns=num_cols)\n",
    "\n",
    "scaled_X = pd.concat((X_std, sample[cat_cols]), axis=1)\n",
    "\n",
    "# for after cluster, doing some preliminary visualization\n",
    "# scaled_X[\"label\"] = labels\n",
    "scaled_X"
   ]
  },
  {
   "cell_type": "code",
   "execution_count": 13,
   "metadata": {},
   "outputs": [
    {
     "data": {
      "text/html": [
       "<div>\n",
       "<style scoped>\n",
       "    .dataframe tbody tr th:only-of-type {\n",
       "        vertical-align: middle;\n",
       "    }\n",
       "\n",
       "    .dataframe tbody tr th {\n",
       "        vertical-align: top;\n",
       "    }\n",
       "\n",
       "    .dataframe thead th {\n",
       "        text-align: right;\n",
       "    }\n",
       "</style>\n",
       "<table border=\"1\" class=\"dataframe\">\n",
       "  <thead>\n",
       "    <tr style=\"text-align: right;\">\n",
       "      <th></th>\n",
       "      <th>NoEmp</th>\n",
       "      <th>CreateJob</th>\n",
       "      <th>RetainedJob</th>\n",
       "      <th>DisbursementGross</th>\n",
       "      <th>Term_years</th>\n",
       "      <th>Disbr_year</th>\n",
       "      <th>percent_SBA</th>\n",
       "      <th>bank_size</th>\n",
       "    </tr>\n",
       "  </thead>\n",
       "  <tbody>\n",
       "    <tr>\n",
       "      <th>count</th>\n",
       "      <td>1.000000e+03</td>\n",
       "      <td>1.000000e+03</td>\n",
       "      <td>1.000000e+03</td>\n",
       "      <td>1.000000e+03</td>\n",
       "      <td>1.000000e+03</td>\n",
       "      <td>1.000000e+03</td>\n",
       "      <td>1.000000e+03</td>\n",
       "      <td>1.000000e+03</td>\n",
       "    </tr>\n",
       "    <tr>\n",
       "      <th>mean</th>\n",
       "      <td>-3.552714e-18</td>\n",
       "      <td>-1.421085e-17</td>\n",
       "      <td>-7.105427e-18</td>\n",
       "      <td>2.842171e-17</td>\n",
       "      <td>-1.296740e-16</td>\n",
       "      <td>3.014033e-14</td>\n",
       "      <td>-8.881784e-17</td>\n",
       "      <td>5.329071e-17</td>\n",
       "    </tr>\n",
       "    <tr>\n",
       "      <th>std</th>\n",
       "      <td>1.000500e+00</td>\n",
       "      <td>1.000500e+00</td>\n",
       "      <td>1.000500e+00</td>\n",
       "      <td>1.000500e+00</td>\n",
       "      <td>1.000500e+00</td>\n",
       "      <td>1.000500e+00</td>\n",
       "      <td>1.000500e+00</td>\n",
       "      <td>1.000500e+00</td>\n",
       "    </tr>\n",
       "    <tr>\n",
       "      <th>min</th>\n",
       "      <td>-3.927175e-01</td>\n",
       "      <td>-4.526720e-01</td>\n",
       "      <td>-3.979210e-01</td>\n",
       "      <td>-5.783460e-01</td>\n",
       "      <td>-1.424674e+00</td>\n",
       "      <td>-2.506521e+00</td>\n",
       "      <td>-6.702387e-01</td>\n",
       "      <td>-1.071426e+00</td>\n",
       "    </tr>\n",
       "    <tr>\n",
       "      <th>25%</th>\n",
       "      <td>-3.283481e-01</td>\n",
       "      <td>-4.526720e-01</td>\n",
       "      <td>-3.249080e-01</td>\n",
       "      <td>-4.638877e-01</td>\n",
       "      <td>-6.465432e-01</td>\n",
       "      <td>-4.345879e-01</td>\n",
       "      <td>-6.702060e-01</td>\n",
       "      <td>-8.898018e-01</td>\n",
       "    </tr>\n",
       "    <tr>\n",
       "      <th>50%</th>\n",
       "      <td>-1.996094e-01</td>\n",
       "      <td>-4.526720e-01</td>\n",
       "      <td>-2.518950e-01</td>\n",
       "      <td>-3.171522e-01</td>\n",
       "      <td>-1.185260e-01</td>\n",
       "      <td>8.339530e-02</td>\n",
       "      <td>-6.702060e-01</td>\n",
       "      <td>-1.905795e-01</td>\n",
       "    </tr>\n",
       "    <tr>\n",
       "      <th>75%</th>\n",
       "      <td>-6.501306e-03</td>\n",
       "      <td>1.145861e-01</td>\n",
       "      <td>-3.285586e-02</td>\n",
       "      <td>5.676723e-02</td>\n",
       "      <td>4.094913e-01</td>\n",
       "      <td>6.013785e-01</td>\n",
       "      <td>9.596727e-01</td>\n",
       "      <td>5.289604e-01</td>\n",
       "    </tr>\n",
       "    <tr>\n",
       "      <th>max</th>\n",
       "      <td>1.891809e+01</td>\n",
       "      <td>8.056200e+00</td>\n",
       "      <td>2.296625e+01</td>\n",
       "      <td>1.083887e+01</td>\n",
       "      <td>6.356633e+00</td>\n",
       "      <td>3.709278e+00</td>\n",
       "      <td>2.589551e+00</td>\n",
       "      <td>1.857574e+00</td>\n",
       "    </tr>\n",
       "  </tbody>\n",
       "</table>\n",
       "</div>"
      ],
      "text/plain": [
       "              NoEmp     CreateJob   RetainedJob  DisbursementGross  \\\n",
       "count  1.000000e+03  1.000000e+03  1.000000e+03       1.000000e+03   \n",
       "mean  -3.552714e-18 -1.421085e-17 -7.105427e-18       2.842171e-17   \n",
       "std    1.000500e+00  1.000500e+00  1.000500e+00       1.000500e+00   \n",
       "min   -3.927175e-01 -4.526720e-01 -3.979210e-01      -5.783460e-01   \n",
       "25%   -3.283481e-01 -4.526720e-01 -3.249080e-01      -4.638877e-01   \n",
       "50%   -1.996094e-01 -4.526720e-01 -2.518950e-01      -3.171522e-01   \n",
       "75%   -6.501306e-03  1.145861e-01 -3.285586e-02       5.676723e-02   \n",
       "max    1.891809e+01  8.056200e+00  2.296625e+01       1.083887e+01   \n",
       "\n",
       "         Term_years    Disbr_year   percent_SBA     bank_size  \n",
       "count  1.000000e+03  1.000000e+03  1.000000e+03  1.000000e+03  \n",
       "mean  -1.296740e-16  3.014033e-14 -8.881784e-17  5.329071e-17  \n",
       "std    1.000500e+00  1.000500e+00  1.000500e+00  1.000500e+00  \n",
       "min   -1.424674e+00 -2.506521e+00 -6.702387e-01 -1.071426e+00  \n",
       "25%   -6.465432e-01 -4.345879e-01 -6.702060e-01 -8.898018e-01  \n",
       "50%   -1.185260e-01  8.339530e-02 -6.702060e-01 -1.905795e-01  \n",
       "75%    4.094913e-01  6.013785e-01  9.596727e-01  5.289604e-01  \n",
       "max    6.356633e+00  3.709278e+00  2.589551e+00  1.857574e+00  "
      ]
     },
     "execution_count": 13,
     "metadata": {},
     "output_type": "execute_result"
    },
    {
     "data": {
      "application/javascript": [
       "\n",
       "            setTimeout(function() {\n",
       "                var nbb_cell_id = 13;\n",
       "                var nbb_unformatted_code = \"scaled_X.describe()\";\n",
       "                var nbb_formatted_code = \"scaled_X.describe()\";\n",
       "                var nbb_cells = Jupyter.notebook.get_cells();\n",
       "                for (var i = 0; i < nbb_cells.length; ++i) {\n",
       "                    if (nbb_cells[i].input_prompt_number == nbb_cell_id) {\n",
       "                        if (nbb_cells[i].get_text() == nbb_unformatted_code) {\n",
       "                             nbb_cells[i].set_text(nbb_formatted_code);\n",
       "                        }\n",
       "                        break;\n",
       "                    }\n",
       "                }\n",
       "            }, 500);\n",
       "            "
      ],
      "text/plain": [
       "<IPython.core.display.Javascript object>"
      ]
     },
     "metadata": {},
     "output_type": "display_data"
    }
   ],
   "source": [
    "scaled_X.describe()"
   ]
  },
  {
   "cell_type": "markdown",
   "metadata": {},
   "source": [
    "### Dimension Reduction\n",
    "\n",
    "Factor Analysis of Mixed Data is ran to visualize the sample. Most of the variation appears to be on one axis."
   ]
  },
  {
   "cell_type": "code",
   "execution_count": 14,
   "metadata": {},
   "outputs": [
    {
     "data": {
      "text/plain": [
       "FAMD(check_input=True, copy=True, engine='auto', n_components=2, n_iter=3,\n",
       "     random_state=None)"
      ]
     },
     "execution_count": 14,
     "metadata": {},
     "output_type": "execute_result"
    },
    {
     "data": {
      "application/javascript": [
       "\n",
       "            setTimeout(function() {\n",
       "                var nbb_cell_id = 14;\n",
       "                var nbb_unformatted_code = \"famd = prince.FAMD(n_components=2)\\nfamd.fit(scaled_X)\";\n",
       "                var nbb_formatted_code = \"famd = prince.FAMD(n_components=2)\\nfamd.fit(scaled_X)\";\n",
       "                var nbb_cells = Jupyter.notebook.get_cells();\n",
       "                for (var i = 0; i < nbb_cells.length; ++i) {\n",
       "                    if (nbb_cells[i].input_prompt_number == nbb_cell_id) {\n",
       "                        if (nbb_cells[i].get_text() == nbb_unformatted_code) {\n",
       "                             nbb_cells[i].set_text(nbb_formatted_code);\n",
       "                        }\n",
       "                        break;\n",
       "                    }\n",
       "                }\n",
       "            }, 500);\n",
       "            "
      ],
      "text/plain": [
       "<IPython.core.display.Javascript object>"
      ]
     },
     "metadata": {},
     "output_type": "display_data"
    }
   ],
   "source": [
    "famd = prince.FAMD(n_components=2)\n",
    "famd.fit(scaled_X)"
   ]
  },
  {
   "cell_type": "code",
   "execution_count": 15,
   "metadata": {},
   "outputs": [
    {
     "name": "stderr",
     "output_type": "stream",
     "text": [
      "No handles with labels found to put in legend.\n"
     ]
    },
    {
     "data": {
      "image/png": "[encoded data removed]",
      "text/plain": [
       "<Figure size 432x432 with 1 Axes>"
      ]
     },
     "metadata": {
      "needs_background": "light"
     },
     "output_type": "display_data"
    },
    {
     "data": {
      "application/javascript": [
       "\n",
       "            setTimeout(function() {\n",
       "                var nbb_cell_id = 15;\n",
       "                var nbb_unformatted_code = \"famd.plot_row_coordinates(\\n    scaled_X, alpha=0.5, ellipse_fill=False,\\n)\\nplt.show()\";\n",
       "                var nbb_formatted_code = \"famd.plot_row_coordinates(\\n    scaled_X, alpha=0.5, ellipse_fill=False,\\n)\\nplt.show()\";\n",
       "                var nbb_cells = Jupyter.notebook.get_cells();\n",
       "                for (var i = 0; i < nbb_cells.length; ++i) {\n",
       "                    if (nbb_cells[i].input_prompt_number == nbb_cell_id) {\n",
       "                        if (nbb_cells[i].get_text() == nbb_unformatted_code) {\n",
       "                             nbb_cells[i].set_text(nbb_formatted_code);\n",
       "                        }\n",
       "                        break;\n",
       "                    }\n",
       "                }\n",
       "            }, 500);\n",
       "            "
      ],
      "text/plain": [
       "<IPython.core.display.Javascript object>"
      ]
     },
     "metadata": {},
     "output_type": "display_data"
    }
   ],
   "source": [
    "famd.plot_row_coordinates(\n",
    "    scaled_X, alpha=0.5, ellipse_fill=False,\n",
    ")\n",
    "plt.show()"
   ]
  },
  {
   "cell_type": "code",
   "execution_count": 16,
   "metadata": {},
   "outputs": [
    {
     "data": {
      "application/javascript": [
       "\n",
       "            setTimeout(function() {\n",
       "                var nbb_cell_id = 16;\n",
       "                var nbb_unformatted_code = \"# store the famd coordinates to do custom plotting\\nsample[\\\"famd_x\\\"] = famd.row_coordinates(scaled_X).iloc[:, 0]\\nsample[\\\"famd_y\\\"] = famd.row_coordinates(scaled_X).iloc[:, 1]\";\n",
       "                var nbb_formatted_code = \"# store the famd coordinates to do custom plotting\\nsample[\\\"famd_x\\\"] = famd.row_coordinates(scaled_X).iloc[:, 0]\\nsample[\\\"famd_y\\\"] = famd.row_coordinates(scaled_X).iloc[:, 1]\";\n",
       "                var nbb_cells = Jupyter.notebook.get_cells();\n",
       "                for (var i = 0; i < nbb_cells.length; ++i) {\n",
       "                    if (nbb_cells[i].input_prompt_number == nbb_cell_id) {\n",
       "                        if (nbb_cells[i].get_text() == nbb_unformatted_code) {\n",
       "                             nbb_cells[i].set_text(nbb_formatted_code);\n",
       "                        }\n",
       "                        break;\n",
       "                    }\n",
       "                }\n",
       "            }, 500);\n",
       "            "
      ],
      "text/plain": [
       "<IPython.core.display.Javascript object>"
      ]
     },
     "metadata": {},
     "output_type": "display_data"
    }
   ],
   "source": [
    "# store the famd coordinates to do custom plotting\n",
    "sample[\"famd_x\"] = famd.row_coordinates(scaled_X).iloc[:, 0]\n",
    "sample[\"famd_y\"] = famd.row_coordinates(scaled_X).iloc[:, 1]"
   ]
  },
  {
   "cell_type": "markdown",
   "metadata": {},
   "source": [
    "Just from the Factor Analysis, it appears there are at least two dense clusters, with some outliers. DBSCAN should perform excellently here.\n",
    "\n",
    "* Note: DBSCAN did not perform well due to sparse, subtle clusters. K-medoids was chosen to counter skew, however transforming the data may result in different cluster separations."
   ]
  },
  {
   "cell_type": "code",
   "execution_count": null,
   "metadata": {},
   "outputs": [],
   "source": []
  },
  {
   "cell_type": "markdown",
   "metadata": {},
   "source": [
    "### K-Medoids"
   ]
  },
  {
   "cell_type": "code",
   "execution_count": 17,
   "metadata": {},
   "outputs": [
    {
     "data": {
      "text/plain": [
       "array([866, 766, 472])"
      ]
     },
     "execution_count": 17,
     "metadata": {},
     "output_type": "execute_result"
    },
    {
     "data": {
      "application/javascript": [
       "\n",
       "            setTimeout(function() {\n",
       "                var nbb_cell_id = 17;\n",
       "                var nbb_unformatted_code = \"np.random.seed(613)\\nk = 3\\nnrows = gower_df.shape[0]\\ninit_medoids = np.random.randint(0, nrows, k)\\ninit_medoids\";\n",
       "                var nbb_formatted_code = \"np.random.seed(613)\\nk = 3\\nnrows = gower_df.shape[0]\\ninit_medoids = np.random.randint(0, nrows, k)\\ninit_medoids\";\n",
       "                var nbb_cells = Jupyter.notebook.get_cells();\n",
       "                for (var i = 0; i < nbb_cells.length; ++i) {\n",
       "                    if (nbb_cells[i].input_prompt_number == nbb_cell_id) {\n",
       "                        if (nbb_cells[i].get_text() == nbb_unformatted_code) {\n",
       "                             nbb_cells[i].set_text(nbb_formatted_code);\n",
       "                        }\n",
       "                        break;\n",
       "                    }\n",
       "                }\n",
       "            }, 500);\n",
       "            "
      ],
      "text/plain": [
       "<IPython.core.display.Javascript object>"
      ]
     },
     "metadata": {},
     "output_type": "display_data"
    }
   ],
   "source": [
    "np.random.seed(613)\n",
    "k = 3\n",
    "nrows = gower_df.shape[0]\n",
    "init_medoids = np.random.randint(0, nrows, k)\n",
    "init_medoids"
   ]
  },
  {
   "cell_type": "code",
   "execution_count": 18,
   "metadata": {},
   "outputs": [
    {
     "data": {
      "text/plain": [
       "<pyclustering.cluster.kmedoids.kmedoids at 0x28db5bf2348>"
      ]
     },
     "execution_count": 18,
     "metadata": {},
     "output_type": "execute_result"
    },
    {
     "data": {
      "application/javascript": [
       "\n",
       "            setTimeout(function() {\n",
       "                var nbb_cell_id = 18;\n",
       "                var nbb_unformatted_code = \"kmed = kmedoids(\\n    gower_dist, initial_index_medoids=init_medoids, data_type=\\\"distance_matrix\\\",\\n)\\n\\nkmed.process()\";\n",
       "                var nbb_formatted_code = \"kmed = kmedoids(\\n    gower_dist, initial_index_medoids=init_medoids, data_type=\\\"distance_matrix\\\",\\n)\\n\\nkmed.process()\";\n",
       "                var nbb_cells = Jupyter.notebook.get_cells();\n",
       "                for (var i = 0; i < nbb_cells.length; ++i) {\n",
       "                    if (nbb_cells[i].input_prompt_number == nbb_cell_id) {\n",
       "                        if (nbb_cells[i].get_text() == nbb_unformatted_code) {\n",
       "                             nbb_cells[i].set_text(nbb_formatted_code);\n",
       "                        }\n",
       "                        break;\n",
       "                    }\n",
       "                }\n",
       "            }, 500);\n",
       "            "
      ],
      "text/plain": [
       "<IPython.core.display.Javascript object>"
      ]
     },
     "metadata": {},
     "output_type": "display_data"
    }
   ],
   "source": [
    "kmed = kmedoids(\n",
    "    gower_dist, initial_index_medoids=init_medoids, data_type=\"distance_matrix\",\n",
    ")\n",
    "\n",
    "kmed.process()"
   ]
  },
  {
   "cell_type": "code",
   "execution_count": 19,
   "metadata": {},
   "outputs": [
    {
     "data": {
      "text/plain": [
       "1    0.532\n",
       "0    0.272\n",
       "2    0.196\n",
       "Name: label, dtype: float64"
      ]
     },
     "execution_count": 19,
     "metadata": {},
     "output_type": "execute_result"
    },
    {
     "data": {
      "application/javascript": [
       "\n",
       "            setTimeout(function() {\n",
       "                var nbb_cell_id = 19;\n",
       "                var nbb_unformatted_code = \"labels = kmed.predict(gower_dist)\\nsample_kmeds = sample.copy()\\nsample_kmeds[\\\"label\\\"] = labels\\nsample_kmeds[\\\"label\\\"] = sample_kmeds[\\\"label\\\"].astype(\\\"str\\\")\\nsample_kmeds[\\\"label\\\"].value_counts(normalize=True)\";\n",
       "                var nbb_formatted_code = \"labels = kmed.predict(gower_dist)\\nsample_kmeds = sample.copy()\\nsample_kmeds[\\\"label\\\"] = labels\\nsample_kmeds[\\\"label\\\"] = sample_kmeds[\\\"label\\\"].astype(\\\"str\\\")\\nsample_kmeds[\\\"label\\\"].value_counts(normalize=True)\";\n",
       "                var nbb_cells = Jupyter.notebook.get_cells();\n",
       "                for (var i = 0; i < nbb_cells.length; ++i) {\n",
       "                    if (nbb_cells[i].input_prompt_number == nbb_cell_id) {\n",
       "                        if (nbb_cells[i].get_text() == nbb_unformatted_code) {\n",
       "                             nbb_cells[i].set_text(nbb_formatted_code);\n",
       "                        }\n",
       "                        break;\n",
       "                    }\n",
       "                }\n",
       "            }, 500);\n",
       "            "
      ],
      "text/plain": [
       "<IPython.core.display.Javascript object>"
      ]
     },
     "metadata": {},
     "output_type": "display_data"
    }
   ],
   "source": [
    "labels = kmed.predict(gower_dist)\n",
    "sample_kmeds = sample.copy()\n",
    "sample_kmeds[\"label\"] = labels\n",
    "sample_kmeds[\"label\"] = sample_kmeds[\"label\"].astype(\"str\")\n",
    "sample_kmeds[\"label\"].value_counts(normalize=True)"
   ]
  },
  {
   "cell_type": "code",
   "execution_count": 20,
   "metadata": {},
   "outputs": [
    {
     "data": {
      "text/html": [
       "<style  type=\"text/css\" >\n",
       "    #T_7a1e601a_0e42_11eb_b2a1_7085c233535crow0_col0 {\n",
       "            background-color:  #d4d4e8;\n",
       "            color:  #000000;\n",
       "        }    #T_7a1e601a_0e42_11eb_b2a1_7085c233535crow0_col1 {\n",
       "            background-color:  #fff7fb;\n",
       "            color:  #000000;\n",
       "        }    #T_7a1e601a_0e42_11eb_b2a1_7085c233535crow0_col2 {\n",
       "            background-color:  #023858;\n",
       "            color:  #f1f1f1;\n",
       "        }    #T_7a1e601a_0e42_11eb_b2a1_7085c233535crow1_col0 {\n",
       "            background-color:  #023858;\n",
       "            color:  #f1f1f1;\n",
       "        }    #T_7a1e601a_0e42_11eb_b2a1_7085c233535crow1_col1 {\n",
       "            background-color:  #fff7fb;\n",
       "            color:  #000000;\n",
       "        }    #T_7a1e601a_0e42_11eb_b2a1_7085c233535crow1_col2 {\n",
       "            background-color:  #0a73b2;\n",
       "            color:  #f1f1f1;\n",
       "        }    #T_7a1e601a_0e42_11eb_b2a1_7085c233535crow2_col0 {\n",
       "            background-color:  #fff7fb;\n",
       "            color:  #000000;\n",
       "        }    #T_7a1e601a_0e42_11eb_b2a1_7085c233535crow2_col1 {\n",
       "            background-color:  #bfc9e1;\n",
       "            color:  #000000;\n",
       "        }    #T_7a1e601a_0e42_11eb_b2a1_7085c233535crow2_col2 {\n",
       "            background-color:  #023858;\n",
       "            color:  #f1f1f1;\n",
       "        }    #T_7a1e601a_0e42_11eb_b2a1_7085c233535crow3_col0 {\n",
       "            background-color:  #023858;\n",
       "            color:  #f1f1f1;\n",
       "        }    #T_7a1e601a_0e42_11eb_b2a1_7085c233535crow3_col1 {\n",
       "            background-color:  #fff7fb;\n",
       "            color:  #000000;\n",
       "        }    #T_7a1e601a_0e42_11eb_b2a1_7085c233535crow3_col2 {\n",
       "            background-color:  #b9c6e0;\n",
       "            color:  #000000;\n",
       "        }    #T_7a1e601a_0e42_11eb_b2a1_7085c233535crow4_col0 {\n",
       "            background-color:  #023858;\n",
       "            color:  #f1f1f1;\n",
       "        }    #T_7a1e601a_0e42_11eb_b2a1_7085c233535crow4_col1 {\n",
       "            background-color:  #fff7fb;\n",
       "            color:  #000000;\n",
       "        }    #T_7a1e601a_0e42_11eb_b2a1_7085c233535crow4_col2 {\n",
       "            background-color:  #dcdaeb;\n",
       "            color:  #000000;\n",
       "        }    #T_7a1e601a_0e42_11eb_b2a1_7085c233535crow5_col0 {\n",
       "            background-color:  #fff7fb;\n",
       "            color:  #000000;\n",
       "        }    #T_7a1e601a_0e42_11eb_b2a1_7085c233535crow5_col1 {\n",
       "            background-color:  #023b5d;\n",
       "            color:  #f1f1f1;\n",
       "        }    #T_7a1e601a_0e42_11eb_b2a1_7085c233535crow5_col2 {\n",
       "            background-color:  #023858;\n",
       "            color:  #f1f1f1;\n",
       "        }    #T_7a1e601a_0e42_11eb_b2a1_7085c233535crow6_col0 {\n",
       "            background-color:  #023858;\n",
       "            color:  #f1f1f1;\n",
       "        }    #T_7a1e601a_0e42_11eb_b2a1_7085c233535crow6_col1 {\n",
       "            background-color:  #fff7fb;\n",
       "            color:  #000000;\n",
       "        }    #T_7a1e601a_0e42_11eb_b2a1_7085c233535crow6_col2 {\n",
       "            background-color:  #b4c4df;\n",
       "            color:  #000000;\n",
       "        }    #T_7a1e601a_0e42_11eb_b2a1_7085c233535crow7_col0 {\n",
       "            background-color:  #fff7fb;\n",
       "            color:  #000000;\n",
       "        }    #T_7a1e601a_0e42_11eb_b2a1_7085c233535crow7_col1 {\n",
       "            background-color:  #023858;\n",
       "            color:  #f1f1f1;\n",
       "        }    #T_7a1e601a_0e42_11eb_b2a1_7085c233535crow7_col2 {\n",
       "            background-color:  #c4cbe3;\n",
       "            color:  #000000;\n",
       "        }</style><table id=\"T_7a1e601a_0e42_11eb_b2a1_7085c233535c\" ><thead>    <tr>        <th class=\"index_name level0\" >label</th>        <th class=\"col_heading level0 col0\" >0</th>        <th class=\"col_heading level0 col1\" >1</th>        <th class=\"col_heading level0 col2\" >2</th>    </tr></thead><tbody>\n",
       "                <tr>\n",
       "                        <th id=\"T_7a1e601a_0e42_11eb_b2a1_7085c233535clevel0_row0\" class=\"row_heading level0 row0\" >NoEmp</th>\n",
       "                        <td id=\"T_7a1e601a_0e42_11eb_b2a1_7085c233535crow0_col0\" class=\"data row0 col0\" >6.040441</td>\n",
       "                        <td id=\"T_7a1e601a_0e42_11eb_b2a1_7085c233535crow0_col1\" class=\"data row0 col1\" >5.524436</td>\n",
       "                        <td id=\"T_7a1e601a_0e42_11eb_b2a1_7085c233535crow0_col2\" class=\"data row0 col2\" >7.750000</td>\n",
       "            </tr>\n",
       "            <tr>\n",
       "                        <th id=\"T_7a1e601a_0e42_11eb_b2a1_7085c233535clevel0_row1\" class=\"row_heading level0 row1\" >CreateJob</th>\n",
       "                        <td id=\"T_7a1e601a_0e42_11eb_b2a1_7085c233535crow1_col0\" class=\"data row1 col0\" >2.485294</td>\n",
       "                        <td id=\"T_7a1e601a_0e42_11eb_b2a1_7085c233535crow1_col1\" class=\"data row1 col1\" >0.962406</td>\n",
       "                        <td id=\"T_7a1e601a_0e42_11eb_b2a1_7085c233535crow1_col2\" class=\"data row1 col2\" >2.081633</td>\n",
       "            </tr>\n",
       "            <tr>\n",
       "                        <th id=\"T_7a1e601a_0e42_11eb_b2a1_7085c233535clevel0_row2\" class=\"row_heading level0 row2\" >RetainedJob</th>\n",
       "                        <td id=\"T_7a1e601a_0e42_11eb_b2a1_7085c233535crow2_col0\" class=\"data row2 col0\" >4.371324</td>\n",
       "                        <td id=\"T_7a1e601a_0e42_11eb_b2a1_7085c233535crow2_col1\" class=\"data row2 col1\" >5.285714</td>\n",
       "                        <td id=\"T_7a1e601a_0e42_11eb_b2a1_7085c233535crow2_col2\" class=\"data row2 col2\" >7.392857</td>\n",
       "            </tr>\n",
       "            <tr>\n",
       "                        <th id=\"T_7a1e601a_0e42_11eb_b2a1_7085c233535clevel0_row3\" class=\"row_heading level0 row3\" >DisbursementGross</th>\n",
       "                        <td id=\"T_7a1e601a_0e42_11eb_b2a1_7085c233535crow3_col0\" class=\"data row3 col0\" >186368.147059</td>\n",
       "                        <td id=\"T_7a1e601a_0e42_11eb_b2a1_7085c233535crow3_col1\" class=\"data row3 col1\" >65699.298872</td>\n",
       "                        <td id=\"T_7a1e601a_0e42_11eb_b2a1_7085c233535crow3_col2\" class=\"data row3 col2\" >104152.030612</td>\n",
       "            </tr>\n",
       "            <tr>\n",
       "                        <th id=\"T_7a1e601a_0e42_11eb_b2a1_7085c233535clevel0_row4\" class=\"row_heading level0 row4\" >Term_years</th>\n",
       "                        <td id=\"T_7a1e601a_0e42_11eb_b2a1_7085c233535crow4_col0\" class=\"data row4 col0\" >6.228554</td>\n",
       "                        <td id=\"T_7a1e601a_0e42_11eb_b2a1_7085c233535crow4_col1\" class=\"data row4 col1\" >3.391291</td>\n",
       "                        <td id=\"T_7a1e601a_0e42_11eb_b2a1_7085c233535crow4_col2\" class=\"data row4 col2\" >3.947704</td>\n",
       "            </tr>\n",
       "            <tr>\n",
       "                        <th id=\"T_7a1e601a_0e42_11eb_b2a1_7085c233535clevel0_row5\" class=\"row_heading level0 row5\" >Disbr_year</th>\n",
       "                        <td id=\"T_7a1e601a_0e42_11eb_b2a1_7085c233535crow5_col0\" class=\"data row5 col0\" >2005.687500</td>\n",
       "                        <td id=\"T_7a1e601a_0e42_11eb_b2a1_7085c233535crow5_col1\" class=\"data row5 col1\" >2005.894737</td>\n",
       "                        <td id=\"T_7a1e601a_0e42_11eb_b2a1_7085c233535crow5_col2\" class=\"data row5 col2\" >2005.897959</td>\n",
       "            </tr>\n",
       "            <tr>\n",
       "                        <th id=\"T_7a1e601a_0e42_11eb_b2a1_7085c233535clevel0_row6\" class=\"row_heading level0 row6\" >percent_SBA</th>\n",
       "                        <td id=\"T_7a1e601a_0e42_11eb_b2a1_7085c233535crow6_col0\" class=\"data row6 col0\" >0.792647</td>\n",
       "                        <td id=\"T_7a1e601a_0e42_11eb_b2a1_7085c233535crow6_col1\" class=\"data row6 col1\" >0.506203</td>\n",
       "                        <td id=\"T_7a1e601a_0e42_11eb_b2a1_7085c233535crow6_col2\" class=\"data row6 col2\" >0.601531</td>\n",
       "            </tr>\n",
       "            <tr>\n",
       "                        <th id=\"T_7a1e601a_0e42_11eb_b2a1_7085c233535clevel0_row7\" class=\"row_heading level0 row7\" >bank_size</th>\n",
       "                        <td id=\"T_7a1e601a_0e42_11eb_b2a1_7085c233535crow7_col0\" class=\"data row7 col0\" >6084.709559</td>\n",
       "                        <td id=\"T_7a1e601a_0e42_11eb_b2a1_7085c233535crow7_col1\" class=\"data row7 col1\" >35556.714286</td>\n",
       "                        <td id=\"T_7a1e601a_0e42_11eb_b2a1_7085c233535crow7_col2\" class=\"data row7 col2\" >14507.617347</td>\n",
       "            </tr>\n",
       "    </tbody></table>"
      ],
      "text/plain": [
       "<pandas.io.formats.style.Styler at 0x28db5f1dd48>"
      ]
     },
     "execution_count": 20,
     "metadata": {},
     "output_type": "execute_result"
    },
    {
     "data": {
      "application/javascript": [
       "\n",
       "            setTimeout(function() {\n",
       "                var nbb_cell_id = 20;\n",
       "                var nbb_unformatted_code = \"num_cols_labels = num_cols.copy()\\nnum_cols_labels.append(\\\"label\\\")\\nclst_avg = sample_kmeds[num_cols_labels].groupby(\\\"label\\\").mean().T\\nclst_avg.style.background_gradient(axis=1)\";\n",
       "                var nbb_formatted_code = \"num_cols_labels = num_cols.copy()\\nnum_cols_labels.append(\\\"label\\\")\\nclst_avg = sample_kmeds[num_cols_labels].groupby(\\\"label\\\").mean().T\\nclst_avg.style.background_gradient(axis=1)\";\n",
       "                var nbb_cells = Jupyter.notebook.get_cells();\n",
       "                for (var i = 0; i < nbb_cells.length; ++i) {\n",
       "                    if (nbb_cells[i].input_prompt_number == nbb_cell_id) {\n",
       "                        if (nbb_cells[i].get_text() == nbb_unformatted_code) {\n",
       "                             nbb_cells[i].set_text(nbb_formatted_code);\n",
       "                        }\n",
       "                        break;\n",
       "                    }\n",
       "                }\n",
       "            }, 500);\n",
       "            "
      ],
      "text/plain": [
       "<IPython.core.display.Javascript object>"
      ]
     },
     "metadata": {},
     "output_type": "display_data"
    }
   ],
   "source": [
    "num_cols_labels = num_cols.copy()\n",
    "num_cols_labels.append(\"label\")\n",
    "clst_avg = sample_kmeds[num_cols_labels].groupby(\"label\").mean().T\n",
    "clst_avg.style.background_gradient(axis=1)"
   ]
  },
  {
   "cell_type": "code",
   "execution_count": 21,
   "metadata": {},
   "outputs": [
    {
     "data": {
      "text/html": [
       "<style  type=\"text/css\" >\n",
       "</style><table id=\"T_7a240192_0e42_11eb_8f7b_7085c233535c\" ><thead>    <tr>        <th class=\"index_name level0\" >label</th>        <th class=\"col_heading level0 col0\" >0</th>        <th class=\"col_heading level0 col1\" >1</th>        <th class=\"col_heading level0 col2\" >2</th>    </tr></thead><tbody>\n",
       "                <tr>\n",
       "                        <th id=\"T_7a240192_0e42_11eb_8f7b_7085c233535clevel0_row0\" class=\"row_heading level0 row0\" >NewExist</th>\n",
       "                        <td id=\"T_7a240192_0e42_11eb_8f7b_7085c233535crow0_col0\" class=\"data row0 col0\" >1</td>\n",
       "                        <td id=\"T_7a240192_0e42_11eb_8f7b_7085c233535crow0_col1\" class=\"data row0 col1\" >0</td>\n",
       "                        <td id=\"T_7a240192_0e42_11eb_8f7b_7085c233535crow0_col2\" class=\"data row0 col2\" >0</td>\n",
       "            </tr>\n",
       "            <tr>\n",
       "                        <th id=\"T_7a240192_0e42_11eb_8f7b_7085c233535clevel0_row1\" class=\"row_heading level0 row1\" >RevLineCr</th>\n",
       "                        <td id=\"T_7a240192_0e42_11eb_8f7b_7085c233535crow1_col0\" class=\"data row1 col0\" >0.0</td>\n",
       "                        <td id=\"T_7a240192_0e42_11eb_8f7b_7085c233535crow1_col1\" class=\"data row1 col1\" >1.0</td>\n",
       "                        <td id=\"T_7a240192_0e42_11eb_8f7b_7085c233535crow1_col2\" class=\"data row1 col2\" >0.0</td>\n",
       "            </tr>\n",
       "            <tr>\n",
       "                        <th id=\"T_7a240192_0e42_11eb_8f7b_7085c233535clevel0_row2\" class=\"row_heading level0 row2\" >LowDoc</th>\n",
       "                        <td id=\"T_7a240192_0e42_11eb_8f7b_7085c233535crow2_col0\" class=\"data row2 col0\" >0.0</td>\n",
       "                        <td id=\"T_7a240192_0e42_11eb_8f7b_7085c233535crow2_col1\" class=\"data row2 col1\" >0.0</td>\n",
       "                        <td id=\"T_7a240192_0e42_11eb_8f7b_7085c233535crow2_col2\" class=\"data row2 col2\" >0.0</td>\n",
       "            </tr>\n",
       "            <tr>\n",
       "                        <th id=\"T_7a240192_0e42_11eb_8f7b_7085c233535clevel0_row3\" class=\"row_heading level0 row3\" >is_franchise</th>\n",
       "                        <td id=\"T_7a240192_0e42_11eb_8f7b_7085c233535crow3_col0\" class=\"data row3 col0\" >0.0</td>\n",
       "                        <td id=\"T_7a240192_0e42_11eb_8f7b_7085c233535crow3_col1\" class=\"data row3 col1\" >0.0</td>\n",
       "                        <td id=\"T_7a240192_0e42_11eb_8f7b_7085c233535crow3_col2\" class=\"data row3 col2\" >0.0</td>\n",
       "            </tr>\n",
       "            <tr>\n",
       "                        <th id=\"T_7a240192_0e42_11eb_8f7b_7085c233535clevel0_row4\" class=\"row_heading level0 row4\" >bank_out_of_state</th>\n",
       "                        <td id=\"T_7a240192_0e42_11eb_8f7b_7085c233535crow4_col0\" class=\"data row4 col0\" >1</td>\n",
       "                        <td id=\"T_7a240192_0e42_11eb_8f7b_7085c233535crow4_col1\" class=\"data row4 col1\" >0</td>\n",
       "                        <td id=\"T_7a240192_0e42_11eb_8f7b_7085c233535crow4_col2\" class=\"data row4 col2\" >0</td>\n",
       "            </tr>\n",
       "            <tr>\n",
       "                        <th id=\"T_7a240192_0e42_11eb_8f7b_7085c233535clevel0_row5\" class=\"row_heading level0 row5\" >UrbanRural_cleaned</th>\n",
       "                        <td id=\"T_7a240192_0e42_11eb_8f7b_7085c233535crow5_col0\" class=\"data row5 col0\" >0.0</td>\n",
       "                        <td id=\"T_7a240192_0e42_11eb_8f7b_7085c233535crow5_col1\" class=\"data row5 col1\" >0.0</td>\n",
       "                        <td id=\"T_7a240192_0e42_11eb_8f7b_7085c233535crow5_col2\" class=\"data row5 col2\" >0.0</td>\n",
       "            </tr>\n",
       "    </tbody></table>"
      ],
      "text/plain": [
       "<pandas.io.formats.style.Styler at 0x28db5f3e788>"
      ]
     },
     "execution_count": 21,
     "metadata": {},
     "output_type": "execute_result"
    },
    {
     "data": {
      "application/javascript": [
       "\n",
       "            setTimeout(function() {\n",
       "                var nbb_cell_id = 21;\n",
       "                var nbb_unformatted_code = \"cat_cols_labels = cat_cols.copy()\\ncat_cols_labels.append(\\\"label\\\")\\nclst_avg = sample_kmeds[cat_cols_labels].groupby(\\\"label\\\").agg(pd.Series.mode).T\\nclst_avg.style.background_gradient(axis=1)\";\n",
       "                var nbb_formatted_code = \"cat_cols_labels = cat_cols.copy()\\ncat_cols_labels.append(\\\"label\\\")\\nclst_avg = sample_kmeds[cat_cols_labels].groupby(\\\"label\\\").agg(pd.Series.mode).T\\nclst_avg.style.background_gradient(axis=1)\";\n",
       "                var nbb_cells = Jupyter.notebook.get_cells();\n",
       "                for (var i = 0; i < nbb_cells.length; ++i) {\n",
       "                    if (nbb_cells[i].input_prompt_number == nbb_cell_id) {\n",
       "                        if (nbb_cells[i].get_text() == nbb_unformatted_code) {\n",
       "                             nbb_cells[i].set_text(nbb_formatted_code);\n",
       "                        }\n",
       "                        break;\n",
       "                    }\n",
       "                }\n",
       "            }, 500);\n",
       "            "
      ],
      "text/plain": [
       "<IPython.core.display.Javascript object>"
      ]
     },
     "metadata": {},
     "output_type": "display_data"
    }
   ],
   "source": [
    "cat_cols_labels = cat_cols.copy()\n",
    "cat_cols_labels.append(\"label\")\n",
    "clst_avg = sample_kmeds[cat_cols_labels].groupby(\"label\").agg(pd.Series.mode).T\n",
    "clst_avg.style.background_gradient(axis=1)"
   ]
  },
  {
   "cell_type": "code",
   "execution_count": 22,
   "metadata": {
    "scrolled": false
   },
   "outputs": [
    {
     "data": {
      "application/vnd.jupyter.widget-view+json": {
       "model_id": "d58729ccd51c4aa9accbd743ce80ca50",
       "version_major": 2,
       "version_minor": 0
      },
      "text/plain": [
       "interactive(children=(Dropdown(description='color', options=('NoEmp', 'NewExist', 'CreateJob', 'RetainedJob', …"
      ]
     },
     "metadata": {},
     "output_type": "display_data"
    },
    {
     "data": {
      "application/javascript": [
       "\n",
       "            setTimeout(function() {\n",
       "                var nbb_cell_id = 22;\n",
       "                var nbb_unformatted_code = \"@interact\\ndef plot(color=sample_kmeds.columns, opacity=(0, 1.0)):\\n    fig = px.scatter(\\n        data_frame=sample_kmeds,\\n        x=\\\"famd_x\\\",\\n        y=\\\"famd_y\\\",\\n        color=color,\\n        hover_data=[\\\"DisbursementGross\\\", \\\"LowDoc\\\", \\\"label\\\"],\\n        # symbol=\\\"label\\\",\\n    )\\n    fig.update_traces(marker={\\\"opacity\\\": opacity})\\n    fig.show()\";\n",
       "                var nbb_formatted_code = \"@interact\\ndef plot(color=sample_kmeds.columns, opacity=(0, 1.0)):\\n    fig = px.scatter(\\n        data_frame=sample_kmeds,\\n        x=\\\"famd_x\\\",\\n        y=\\\"famd_y\\\",\\n        color=color,\\n        hover_data=[\\\"DisbursementGross\\\", \\\"LowDoc\\\", \\\"label\\\"],\\n        # symbol=\\\"label\\\",\\n    )\\n    fig.update_traces(marker={\\\"opacity\\\": opacity})\\n    fig.show()\";\n",
       "                var nbb_cells = Jupyter.notebook.get_cells();\n",
       "                for (var i = 0; i < nbb_cells.length; ++i) {\n",
       "                    if (nbb_cells[i].input_prompt_number == nbb_cell_id) {\n",
       "                        if (nbb_cells[i].get_text() == nbb_unformatted_code) {\n",
       "                             nbb_cells[i].set_text(nbb_formatted_code);\n",
       "                        }\n",
       "                        break;\n",
       "                    }\n",
       "                }\n",
       "            }, 500);\n",
       "            "
      ],
      "text/plain": [
       "<IPython.core.display.Javascript object>"
      ]
     },
     "metadata": {},
     "output_type": "display_data"
    }
   ],
   "source": [
    "@interact\n",
    "def plot(color=sample_kmeds.columns, opacity=(0, 1.0)):\n",
    "    fig = px.scatter(\n",
    "        data_frame=sample_kmeds,\n",
    "        x=\"famd_x\",\n",
    "        y=\"famd_y\",\n",
    "        color=color,\n",
    "        hover_data=[\"DisbursementGross\", \"LowDoc\", \"label\"],\n",
    "        # symbol=\"label\",\n",
    "    )\n",
    "    fig.update_traces(marker={\"opacity\": opacity})\n",
    "    fig.show()"
   ]
  },
  {
   "cell_type": "markdown",
   "metadata": {},
   "source": [
    "### DBSCAN"
   ]
  },
  {
   "cell_type": "code",
   "execution_count": 23,
   "metadata": {},
   "outputs": [
    {
     "data": {
      "text/plain": [
       "DBSCAN(algorithm='auto', eps=0.1, leaf_size=30, metric='precomputed',\n",
       "       metric_params=None, min_samples=10, n_jobs=None, p=None)"
      ]
     },
     "execution_count": 23,
     "metadata": {},
     "output_type": "execute_result"
    },
    {
     "data": {
      "application/javascript": [
       "\n",
       "            setTimeout(function() {\n",
       "                var nbb_cell_id = 23;\n",
       "                var nbb_unformatted_code = \"clst = DBSCAN(eps=0.1, min_samples=10, metric=\\\"precomputed\\\")\\nclst.fit(gower_df)\";\n",
       "                var nbb_formatted_code = \"clst = DBSCAN(eps=0.1, min_samples=10, metric=\\\"precomputed\\\")\\nclst.fit(gower_df)\";\n",
       "                var nbb_cells = Jupyter.notebook.get_cells();\n",
       "                for (var i = 0; i < nbb_cells.length; ++i) {\n",
       "                    if (nbb_cells[i].input_prompt_number == nbb_cell_id) {\n",
       "                        if (nbb_cells[i].get_text() == nbb_unformatted_code) {\n",
       "                             nbb_cells[i].set_text(nbb_formatted_code);\n",
       "                        }\n",
       "                        break;\n",
       "                    }\n",
       "                }\n",
       "            }, 500);\n",
       "            "
      ],
      "text/plain": [
       "<IPython.core.display.Javascript object>"
      ]
     },
     "metadata": {},
     "output_type": "display_data"
    }
   ],
   "source": [
    "clst = DBSCAN(eps=0.1, min_samples=10, metric=\"precomputed\")\n",
    "clst.fit(gower_df)"
   ]
  },
  {
   "cell_type": "code",
   "execution_count": 24,
   "metadata": {},
   "outputs": [
    {
     "data": {
      "text/plain": [
       "0     988\n",
       "-1     12\n",
       "Name: label, dtype: int64"
      ]
     },
     "execution_count": 24,
     "metadata": {},
     "output_type": "execute_result"
    },
    {
     "data": {
      "application/javascript": [
       "\n",
       "            setTimeout(function() {\n",
       "                var nbb_cell_id = 24;\n",
       "                var nbb_unformatted_code = \"sample_dbscan = sample.copy()\\nsample_dbscan[\\\"label\\\"] = clst.labels_\\nsample_dbscan[\\\"label\\\"] = sample_dbscan[\\\"label\\\"].astype(\\\"str\\\")\\nsample_dbscan[\\\"label\\\"].value_counts()\";\n",
       "                var nbb_formatted_code = \"sample_dbscan = sample.copy()\\nsample_dbscan[\\\"label\\\"] = clst.labels_\\nsample_dbscan[\\\"label\\\"] = sample_dbscan[\\\"label\\\"].astype(\\\"str\\\")\\nsample_dbscan[\\\"label\\\"].value_counts()\";\n",
       "                var nbb_cells = Jupyter.notebook.get_cells();\n",
       "                for (var i = 0; i < nbb_cells.length; ++i) {\n",
       "                    if (nbb_cells[i].input_prompt_number == nbb_cell_id) {\n",
       "                        if (nbb_cells[i].get_text() == nbb_unformatted_code) {\n",
       "                             nbb_cells[i].set_text(nbb_formatted_code);\n",
       "                        }\n",
       "                        break;\n",
       "                    }\n",
       "                }\n",
       "            }, 500);\n",
       "            "
      ],
      "text/plain": [
       "<IPython.core.display.Javascript object>"
      ]
     },
     "metadata": {},
     "output_type": "display_data"
    }
   ],
   "source": [
    "sample_dbscan = sample.copy()\n",
    "sample_dbscan[\"label\"] = clst.labels_\n",
    "sample_dbscan[\"label\"] = sample_dbscan[\"label\"].astype(\"str\")\n",
    "sample_dbscan[\"label\"].value_counts()"
   ]
  },
  {
   "cell_type": "code",
   "execution_count": 25,
   "metadata": {},
   "outputs": [
    {
     "data": {
      "text/html": [
       "<style  type=\"text/css\" >\n",
       "    #T_7ac45af6_0e42_11eb_bed2_7085c233535crow0_col0 {\n",
       "            background-color:  #023858;\n",
       "            color:  #f1f1f1;\n",
       "        }    #T_7ac45af6_0e42_11eb_bed2_7085c233535crow0_col1 {\n",
       "            background-color:  #fff7fb;\n",
       "            color:  #000000;\n",
       "        }    #T_7ac45af6_0e42_11eb_bed2_7085c233535crow1_col0 {\n",
       "            background-color:  #023858;\n",
       "            color:  #f1f1f1;\n",
       "        }    #T_7ac45af6_0e42_11eb_bed2_7085c233535crow1_col1 {\n",
       "            background-color:  #fff7fb;\n",
       "            color:  #000000;\n",
       "        }    #T_7ac45af6_0e42_11eb_bed2_7085c233535crow2_col0 {\n",
       "            background-color:  #023858;\n",
       "            color:  #f1f1f1;\n",
       "        }    #T_7ac45af6_0e42_11eb_bed2_7085c233535crow2_col1 {\n",
       "            background-color:  #fff7fb;\n",
       "            color:  #000000;\n",
       "        }    #T_7ac45af6_0e42_11eb_bed2_7085c233535crow3_col0 {\n",
       "            background-color:  #023858;\n",
       "            color:  #f1f1f1;\n",
       "        }    #T_7ac45af6_0e42_11eb_bed2_7085c233535crow3_col1 {\n",
       "            background-color:  #fff7fb;\n",
       "            color:  #000000;\n",
       "        }    #T_7ac45af6_0e42_11eb_bed2_7085c233535crow4_col0 {\n",
       "            background-color:  #023858;\n",
       "            color:  #f1f1f1;\n",
       "        }    #T_7ac45af6_0e42_11eb_bed2_7085c233535crow4_col1 {\n",
       "            background-color:  #fff7fb;\n",
       "            color:  #000000;\n",
       "        }    #T_7ac45af6_0e42_11eb_bed2_7085c233535crow5_col0 {\n",
       "            background-color:  #023858;\n",
       "            color:  #f1f1f1;\n",
       "        }    #T_7ac45af6_0e42_11eb_bed2_7085c233535crow5_col1 {\n",
       "            background-color:  #fff7fb;\n",
       "            color:  #000000;\n",
       "        }    #T_7ac45af6_0e42_11eb_bed2_7085c233535crow6_col0 {\n",
       "            background-color:  #023858;\n",
       "            color:  #f1f1f1;\n",
       "        }    #T_7ac45af6_0e42_11eb_bed2_7085c233535crow6_col1 {\n",
       "            background-color:  #fff7fb;\n",
       "            color:  #000000;\n",
       "        }    #T_7ac45af6_0e42_11eb_bed2_7085c233535crow7_col0 {\n",
       "            background-color:  #fff7fb;\n",
       "            color:  #000000;\n",
       "        }    #T_7ac45af6_0e42_11eb_bed2_7085c233535crow7_col1 {\n",
       "            background-color:  #023858;\n",
       "            color:  #f1f1f1;\n",
       "        }</style><table id=\"T_7ac45af6_0e42_11eb_bed2_7085c233535c\" ><thead>    <tr>        <th class=\"index_name level0\" >label</th>        <th class=\"col_heading level0 col0\" >-1</th>        <th class=\"col_heading level0 col1\" >0</th>    </tr></thead><tbody>\n",
       "                <tr>\n",
       "                        <th id=\"T_7ac45af6_0e42_11eb_bed2_7085c233535clevel0_row0\" class=\"row_heading level0 row0\" >NoEmp</th>\n",
       "                        <td id=\"T_7ac45af6_0e42_11eb_bed2_7085c233535crow0_col0\" class=\"data row0 col0\" >43.666667</td>\n",
       "                        <td id=\"T_7ac45af6_0e42_11eb_bed2_7085c233535crow0_col1\" class=\"data row0 col1\" >5.644737</td>\n",
       "            </tr>\n",
       "            <tr>\n",
       "                        <th id=\"T_7ac45af6_0e42_11eb_bed2_7085c233535clevel0_row1\" class=\"row_heading level0 row1\" >CreateJob</th>\n",
       "                        <td id=\"T_7ac45af6_0e42_11eb_bed2_7085c233535crow1_col0\" class=\"data row1 col0\" >6.333333</td>\n",
       "                        <td id=\"T_7ac45af6_0e42_11eb_bed2_7085c233535crow1_col1\" class=\"data row1 col1\" >1.538462</td>\n",
       "            </tr>\n",
       "            <tr>\n",
       "                        <th id=\"T_7ac45af6_0e42_11eb_bed2_7085c233535clevel0_row2\" class=\"row_heading level0 row2\" >RetainedJob</th>\n",
       "                        <td id=\"T_7ac45af6_0e42_11eb_bed2_7085c233535crow2_col0\" class=\"data row2 col0\" >36.916667</td>\n",
       "                        <td id=\"T_7ac45af6_0e42_11eb_bed2_7085c233535crow2_col1\" class=\"data row2 col1\" >5.067814</td>\n",
       "            </tr>\n",
       "            <tr>\n",
       "                        <th id=\"T_7ac45af6_0e42_11eb_bed2_7085c233535clevel0_row3\" class=\"row_heading level0 row3\" >DisbursementGross</th>\n",
       "                        <td id=\"T_7ac45af6_0e42_11eb_bed2_7085c233535crow3_col0\" class=\"data row3 col0\" >320738.416667</td>\n",
       "                        <td id=\"T_7ac45af6_0e42_11eb_bed2_7085c233535crow3_col1\" class=\"data row3 col1\" >103450.506073</td>\n",
       "            </tr>\n",
       "            <tr>\n",
       "                        <th id=\"T_7ac45af6_0e42_11eb_bed2_7085c233535clevel0_row4\" class=\"row_heading level0 row4\" >Term_years</th>\n",
       "                        <td id=\"T_7ac45af6_0e42_11eb_bed2_7085c233535crow4_col0\" class=\"data row4 col0\" >6.458333</td>\n",
       "                        <td id=\"T_7ac45af6_0e42_11eb_bed2_7085c233535crow4_col1\" class=\"data row4 col1\" >4.245530</td>\n",
       "            </tr>\n",
       "            <tr>\n",
       "                        <th id=\"T_7ac45af6_0e42_11eb_bed2_7085c233535clevel0_row5\" class=\"row_heading level0 row5\" >Disbr_year</th>\n",
       "                        <td id=\"T_7ac45af6_0e42_11eb_bed2_7085c233535crow5_col0\" class=\"data row5 col0\" >2006.083333</td>\n",
       "                        <td id=\"T_7ac45af6_0e42_11eb_bed2_7085c233535crow5_col1\" class=\"data row5 col1\" >2005.836032</td>\n",
       "            </tr>\n",
       "            <tr>\n",
       "                        <th id=\"T_7ac45af6_0e42_11eb_bed2_7085c233535clevel0_row6\" class=\"row_heading level0 row6\" >percent_SBA</th>\n",
       "                        <td id=\"T_7ac45af6_0e42_11eb_bed2_7085c233535crow6_col0\" class=\"data row6 col0\" >0.700000</td>\n",
       "                        <td id=\"T_7ac45af6_0e42_11eb_bed2_7085c233535crow6_col1\" class=\"data row6 col1\" >0.601619</td>\n",
       "            </tr>\n",
       "            <tr>\n",
       "                        <th id=\"T_7ac45af6_0e42_11eb_bed2_7085c233535clevel0_row7\" class=\"row_heading level0 row7\" >bank_size</th>\n",
       "                        <td id=\"T_7ac45af6_0e42_11eb_bed2_7085c233535crow7_col0\" class=\"data row7 col0\" >9069.166667</td>\n",
       "                        <td id=\"T_7ac45af6_0e42_11eb_bed2_7085c233535crow7_col1\" class=\"data row7 col1\" >23588.943320</td>\n",
       "            </tr>\n",
       "    </tbody></table>"
      ],
      "text/plain": [
       "<pandas.io.formats.style.Styler at 0x28db6a141c8>"
      ]
     },
     "execution_count": 25,
     "metadata": {},
     "output_type": "execute_result"
    },
    {
     "data": {
      "application/javascript": [
       "\n",
       "            setTimeout(function() {\n",
       "                var nbb_cell_id = 25;\n",
       "                var nbb_unformatted_code = \"num_cols_labels = num_cols.copy()\\nnum_cols_labels.append(\\\"label\\\")\\nclst_avg = sample_dbscan[num_cols_labels].groupby(\\\"label\\\").mean().T\\nclst_avg.style.background_gradient(axis=1)\";\n",
       "                var nbb_formatted_code = \"num_cols_labels = num_cols.copy()\\nnum_cols_labels.append(\\\"label\\\")\\nclst_avg = sample_dbscan[num_cols_labels].groupby(\\\"label\\\").mean().T\\nclst_avg.style.background_gradient(axis=1)\";\n",
       "                var nbb_cells = Jupyter.notebook.get_cells();\n",
       "                for (var i = 0; i < nbb_cells.length; ++i) {\n",
       "                    if (nbb_cells[i].input_prompt_number == nbb_cell_id) {\n",
       "                        if (nbb_cells[i].get_text() == nbb_unformatted_code) {\n",
       "                             nbb_cells[i].set_text(nbb_formatted_code);\n",
       "                        }\n",
       "                        break;\n",
       "                    }\n",
       "                }\n",
       "            }, 500);\n",
       "            "
      ],
      "text/plain": [
       "<IPython.core.display.Javascript object>"
      ]
     },
     "metadata": {},
     "output_type": "display_data"
    }
   ],
   "source": [
    "num_cols_labels = num_cols.copy()\n",
    "num_cols_labels.append(\"label\")\n",
    "clst_avg = sample_dbscan[num_cols_labels].groupby(\"label\").mean().T\n",
    "clst_avg.style.background_gradient(axis=1)"
   ]
  },
  {
   "cell_type": "code",
   "execution_count": 26,
   "metadata": {},
   "outputs": [
    {
     "data": {
      "text/html": [
       "<style  type=\"text/css\" >\n",
       "</style><table id=\"T_7ada450c_0e42_11eb_814a_7085c233535c\" ><thead>    <tr>        <th class=\"index_name level0\" >label</th>        <th class=\"col_heading level0 col0\" >-1</th>        <th class=\"col_heading level0 col1\" >0</th>    </tr></thead><tbody>\n",
       "                <tr>\n",
       "                        <th id=\"T_7ada450c_0e42_11eb_814a_7085c233535clevel0_row0\" class=\"row_heading level0 row0\" >NewExist</th>\n",
       "                        <td id=\"T_7ada450c_0e42_11eb_814a_7085c233535crow0_col0\" class=\"data row0 col0\" >1</td>\n",
       "                        <td id=\"T_7ada450c_0e42_11eb_814a_7085c233535crow0_col1\" class=\"data row0 col1\" >0</td>\n",
       "            </tr>\n",
       "            <tr>\n",
       "                        <th id=\"T_7ada450c_0e42_11eb_814a_7085c233535clevel0_row1\" class=\"row_heading level0 row1\" >RevLineCr</th>\n",
       "                        <td id=\"T_7ada450c_0e42_11eb_814a_7085c233535crow1_col0\" class=\"data row1 col0\" >0.0</td>\n",
       "                        <td id=\"T_7ada450c_0e42_11eb_814a_7085c233535crow1_col1\" class=\"data row1 col1\" >0.0</td>\n",
       "            </tr>\n",
       "            <tr>\n",
       "                        <th id=\"T_7ada450c_0e42_11eb_814a_7085c233535clevel0_row2\" class=\"row_heading level0 row2\" >LowDoc</th>\n",
       "                        <td id=\"T_7ada450c_0e42_11eb_814a_7085c233535crow2_col0\" class=\"data row2 col0\" >0.0</td>\n",
       "                        <td id=\"T_7ada450c_0e42_11eb_814a_7085c233535crow2_col1\" class=\"data row2 col1\" >0.0</td>\n",
       "            </tr>\n",
       "            <tr>\n",
       "                        <th id=\"T_7ada450c_0e42_11eb_814a_7085c233535clevel0_row3\" class=\"row_heading level0 row3\" >is_franchise</th>\n",
       "                        <td id=\"T_7ada450c_0e42_11eb_814a_7085c233535crow3_col0\" class=\"data row3 col0\" >1.0</td>\n",
       "                        <td id=\"T_7ada450c_0e42_11eb_814a_7085c233535crow3_col1\" class=\"data row3 col1\" >0.0</td>\n",
       "            </tr>\n",
       "            <tr>\n",
       "                        <th id=\"T_7ada450c_0e42_11eb_814a_7085c233535clevel0_row4\" class=\"row_heading level0 row4\" >bank_out_of_state</th>\n",
       "                        <td id=\"T_7ada450c_0e42_11eb_814a_7085c233535crow4_col0\" class=\"data row4 col0\" >1</td>\n",
       "                        <td id=\"T_7ada450c_0e42_11eb_814a_7085c233535crow4_col1\" class=\"data row4 col1\" >0</td>\n",
       "            </tr>\n",
       "            <tr>\n",
       "                        <th id=\"T_7ada450c_0e42_11eb_814a_7085c233535clevel0_row5\" class=\"row_heading level0 row5\" >UrbanRural_cleaned</th>\n",
       "                        <td id=\"T_7ada450c_0e42_11eb_814a_7085c233535crow5_col0\" class=\"data row5 col0\" >1.0</td>\n",
       "                        <td id=\"T_7ada450c_0e42_11eb_814a_7085c233535crow5_col1\" class=\"data row5 col1\" >0.0</td>\n",
       "            </tr>\n",
       "    </tbody></table>"
      ],
      "text/plain": [
       "<pandas.io.formats.style.Styler at 0x28db6a07448>"
      ]
     },
     "execution_count": 26,
     "metadata": {},
     "output_type": "execute_result"
    },
    {
     "data": {
      "application/javascript": [
       "\n",
       "            setTimeout(function() {\n",
       "                var nbb_cell_id = 26;\n",
       "                var nbb_unformatted_code = \"cat_cols_labels = cat_cols.copy()\\ncat_cols_labels.append(\\\"label\\\")\\nclst_avg = sample_dbscan[cat_cols_labels].groupby(\\\"label\\\").agg(pd.Series.mode).T\\nclst_avg.style.background_gradient(axis=1)\";\n",
       "                var nbb_formatted_code = \"cat_cols_labels = cat_cols.copy()\\ncat_cols_labels.append(\\\"label\\\")\\nclst_avg = sample_dbscan[cat_cols_labels].groupby(\\\"label\\\").agg(pd.Series.mode).T\\nclst_avg.style.background_gradient(axis=1)\";\n",
       "                var nbb_cells = Jupyter.notebook.get_cells();\n",
       "                for (var i = 0; i < nbb_cells.length; ++i) {\n",
       "                    if (nbb_cells[i].input_prompt_number == nbb_cell_id) {\n",
       "                        if (nbb_cells[i].get_text() == nbb_unformatted_code) {\n",
       "                             nbb_cells[i].set_text(nbb_formatted_code);\n",
       "                        }\n",
       "                        break;\n",
       "                    }\n",
       "                }\n",
       "            }, 500);\n",
       "            "
      ],
      "text/plain": [
       "<IPython.core.display.Javascript object>"
      ]
     },
     "metadata": {},
     "output_type": "display_data"
    }
   ],
   "source": [
    "cat_cols_labels = cat_cols.copy()\n",
    "cat_cols_labels.append(\"label\")\n",
    "clst_avg = sample_dbscan[cat_cols_labels].groupby(\"label\").agg(pd.Series.mode).T\n",
    "clst_avg.style.background_gradient(axis=1)"
   ]
  },
  {
   "cell_type": "code",
   "execution_count": 27,
   "metadata": {},
   "outputs": [
    {
     "data": {
      "application/vnd.jupyter.widget-view+json": {
       "model_id": "110d36b4f2c245cbb66860334663820b",
       "version_major": 2,
       "version_minor": 0
      },
      "text/plain": [
       "interactive(children=(Dropdown(description='color', options=('NoEmp', 'NewExist', 'CreateJob', 'RetainedJob', …"
      ]
     },
     "metadata": {},
     "output_type": "display_data"
    },
    {
     "data": {
      "application/javascript": [
       "\n",
       "            setTimeout(function() {\n",
       "                var nbb_cell_id = 27;\n",
       "                var nbb_unformatted_code = \"# for dbscan, get rid of outliers\\nsample_dbscan = sample_dbscan[sample_dbscan[\\\"label\\\"] != \\\"-1\\\"]\\n\\n\\n@interact\\ndef plot(color=sample_dbscan.columns, opacity=(0, 1.0)):\\n    fig = px.scatter(\\n        data_frame=sample_dbscan,\\n        x=\\\"famd_x\\\",\\n        y=\\\"famd_y\\\",\\n        color=color,\\n        hover_data=[\\\"DisbursementGross\\\", \\\"LowDoc\\\", \\\"label\\\"],\\n        # symbol=\\\"label\\\",\\n    )\\n    fig.update_traces(marker={\\\"opacity\\\": opacity})\\n    fig.show()\";\n",
       "                var nbb_formatted_code = \"# for dbscan, get rid of outliers\\nsample_dbscan = sample_dbscan[sample_dbscan[\\\"label\\\"] != \\\"-1\\\"]\\n\\n\\n@interact\\ndef plot(color=sample_dbscan.columns, opacity=(0, 1.0)):\\n    fig = px.scatter(\\n        data_frame=sample_dbscan,\\n        x=\\\"famd_x\\\",\\n        y=\\\"famd_y\\\",\\n        color=color,\\n        hover_data=[\\\"DisbursementGross\\\", \\\"LowDoc\\\", \\\"label\\\"],\\n        # symbol=\\\"label\\\",\\n    )\\n    fig.update_traces(marker={\\\"opacity\\\": opacity})\\n    fig.show()\";\n",
       "                var nbb_cells = Jupyter.notebook.get_cells();\n",
       "                for (var i = 0; i < nbb_cells.length; ++i) {\n",
       "                    if (nbb_cells[i].input_prompt_number == nbb_cell_id) {\n",
       "                        if (nbb_cells[i].get_text() == nbb_unformatted_code) {\n",
       "                             nbb_cells[i].set_text(nbb_formatted_code);\n",
       "                        }\n",
       "                        break;\n",
       "                    }\n",
       "                }\n",
       "            }, 500);\n",
       "            "
      ],
      "text/plain": [
       "<IPython.core.display.Javascript object>"
      ]
     },
     "metadata": {},
     "output_type": "display_data"
    }
   ],
   "source": [
    "# for dbscan, get rid of outliers\n",
    "sample_dbscan = sample_dbscan[sample_dbscan[\"label\"] != \"-1\"]\n",
    "\n",
    "\n",
    "@interact\n",
    "def plot(color=sample_dbscan.columns, opacity=(0, 1.0)):\n",
    "    fig = px.scatter(\n",
    "        data_frame=sample_dbscan,\n",
    "        x=\"famd_x\",\n",
    "        y=\"famd_y\",\n",
    "        color=color,\n",
    "        hover_data=[\"DisbursementGross\", \"LowDoc\", \"label\"],\n",
    "        # symbol=\"label\",\n",
    "    )\n",
    "    fig.update_traces(marker={\"opacity\": opacity})\n",
    "    fig.show()"
   ]
  },
  {
   "cell_type": "markdown",
   "metadata": {},
   "source": [
    "### Hierarchical"
   ]
  },
  {
   "cell_type": "code",
   "execution_count": 104,
   "metadata": {},
   "outputs": [
    {
     "data": {
      "text/plain": [
       "AgglomerativeClustering(affinity='precomputed', compute_full_tree='auto',\n",
       "                        connectivity=None, distance_threshold=None,\n",
       "                        linkage='complete', memory=None, n_clusters=4)"
      ]
     },
     "execution_count": 104,
     "metadata": {},
     "output_type": "execute_result"
    },
    {
     "data": {
      "application/javascript": [
       "\n",
       "            setTimeout(function() {\n",
       "                var nbb_cell_id = 104;\n",
       "                var nbb_unformatted_code = \"clst = AgglomerativeClustering(n_clusters=4, affinity=\\\"precomputed\\\", linkage=\\\"complete\\\")\\nclst.fit(gower_df)\";\n",
       "                var nbb_formatted_code = \"clst = AgglomerativeClustering(n_clusters=4, affinity=\\\"precomputed\\\", linkage=\\\"complete\\\")\\nclst.fit(gower_df)\";\n",
       "                var nbb_cells = Jupyter.notebook.get_cells();\n",
       "                for (var i = 0; i < nbb_cells.length; ++i) {\n",
       "                    if (nbb_cells[i].input_prompt_number == nbb_cell_id) {\n",
       "                        if (nbb_cells[i].get_text() == nbb_unformatted_code) {\n",
       "                             nbb_cells[i].set_text(nbb_formatted_code);\n",
       "                        }\n",
       "                        break;\n",
       "                    }\n",
       "                }\n",
       "            }, 500);\n",
       "            "
      ],
      "text/plain": [
       "<IPython.core.display.Javascript object>"
      ]
     },
     "metadata": {},
     "output_type": "display_data"
    }
   ],
   "source": [
    "clst = AgglomerativeClustering(n_clusters=4, affinity=\"precomputed\", linkage=\"complete\")\n",
    "clst.fit(gower_df)"
   ]
  },
  {
   "cell_type": "code",
   "execution_count": 105,
   "metadata": {},
   "outputs": [
    {
     "data": {
      "text/plain": [
       "1    548\n",
       "0    380\n",
       "2     71\n",
       "3      1\n",
       "Name: label, dtype: int64"
      ]
     },
     "execution_count": 105,
     "metadata": {},
     "output_type": "execute_result"
    },
    {
     "data": {
      "application/javascript": [
       "\n",
       "            setTimeout(function() {\n",
       "                var nbb_cell_id = 105;\n",
       "                var nbb_unformatted_code = \"sample_hier = sample.copy()\\nsample_hier[\\\"label\\\"] = clst.labels_\\nsample_hier[\\\"label\\\"] = sample_hier[\\\"label\\\"].astype(\\\"str\\\")\\nsample_hier[\\\"label\\\"].value_counts()\";\n",
       "                var nbb_formatted_code = \"sample_hier = sample.copy()\\nsample_hier[\\\"label\\\"] = clst.labels_\\nsample_hier[\\\"label\\\"] = sample_hier[\\\"label\\\"].astype(\\\"str\\\")\\nsample_hier[\\\"label\\\"].value_counts()\";\n",
       "                var nbb_cells = Jupyter.notebook.get_cells();\n",
       "                for (var i = 0; i < nbb_cells.length; ++i) {\n",
       "                    if (nbb_cells[i].input_prompt_number == nbb_cell_id) {\n",
       "                        if (nbb_cells[i].get_text() == nbb_unformatted_code) {\n",
       "                             nbb_cells[i].set_text(nbb_formatted_code);\n",
       "                        }\n",
       "                        break;\n",
       "                    }\n",
       "                }\n",
       "            }, 500);\n",
       "            "
      ],
      "text/plain": [
       "<IPython.core.display.Javascript object>"
      ]
     },
     "metadata": {},
     "output_type": "display_data"
    }
   ],
   "source": [
    "sample_hier = sample.copy()\n",
    "sample_hier[\"label\"] = clst.labels_\n",
    "sample_hier[\"label\"] = sample_hier[\"label\"].astype(\"str\")\n",
    "sample_hier[\"label\"].value_counts()"
   ]
  },
  {
   "cell_type": "code",
   "execution_count": 30,
   "metadata": {},
   "outputs": [
    {
     "data": {
      "text/html": [
       "<style  type=\"text/css\" >\n",
       "    #T_7b232c98_0e42_11eb_bfbc_7085c233535crow0_col0 {\n",
       "            background-color:  #fff7fb;\n",
       "            color:  #000000;\n",
       "        }    #T_7b232c98_0e42_11eb_bfbc_7085c233535crow0_col1 {\n",
       "            background-color:  #fff7fb;\n",
       "            color:  #000000;\n",
       "        }    #T_7b232c98_0e42_11eb_bfbc_7085c233535crow0_col2 {\n",
       "            background-color:  #fff7fb;\n",
       "            color:  #000000;\n",
       "        }    #T_7b232c98_0e42_11eb_bfbc_7085c233535crow0_col3 {\n",
       "            background-color:  #023858;\n",
       "            color:  #f1f1f1;\n",
       "        }    #T_7b232c98_0e42_11eb_bfbc_7085c233535crow1_col0 {\n",
       "            background-color:  #f2ecf5;\n",
       "            color:  #000000;\n",
       "        }    #T_7b232c98_0e42_11eb_bfbc_7085c233535crow1_col1 {\n",
       "            background-color:  #fdf5fa;\n",
       "            color:  #000000;\n",
       "        }    #T_7b232c98_0e42_11eb_bfbc_7085c233535crow1_col2 {\n",
       "            background-color:  #fff7fb;\n",
       "            color:  #000000;\n",
       "        }    #T_7b232c98_0e42_11eb_bfbc_7085c233535crow1_col3 {\n",
       "            background-color:  #023858;\n",
       "            color:  #f1f1f1;\n",
       "        }    #T_7b232c98_0e42_11eb_bfbc_7085c233535crow2_col0 {\n",
       "            background-color:  #fef6fa;\n",
       "            color:  #000000;\n",
       "        }    #T_7b232c98_0e42_11eb_bfbc_7085c233535crow2_col1 {\n",
       "            background-color:  #fdf5fa;\n",
       "            color:  #000000;\n",
       "        }    #T_7b232c98_0e42_11eb_bfbc_7085c233535crow2_col2 {\n",
       "            background-color:  #fff7fb;\n",
       "            color:  #000000;\n",
       "        }    #T_7b232c98_0e42_11eb_bfbc_7085c233535crow2_col3 {\n",
       "            background-color:  #023858;\n",
       "            color:  #f1f1f1;\n",
       "        }    #T_7b232c98_0e42_11eb_bfbc_7085c233535crow3_col0 {\n",
       "            background-color:  #d9d8ea;\n",
       "            color:  #000000;\n",
       "        }    #T_7b232c98_0e42_11eb_bfbc_7085c233535crow3_col1 {\n",
       "            background-color:  #fff7fb;\n",
       "            color:  #000000;\n",
       "        }    #T_7b232c98_0e42_11eb_bfbc_7085c233535crow3_col2 {\n",
       "            background-color:  #e3e0ee;\n",
       "            color:  #000000;\n",
       "        }    #T_7b232c98_0e42_11eb_bfbc_7085c233535crow3_col3 {\n",
       "            background-color:  #023858;\n",
       "            color:  #f1f1f1;\n",
       "        }    #T_7b232c98_0e42_11eb_bfbc_7085c233535crow4_col0 {\n",
       "            background-color:  #0567a2;\n",
       "            color:  #f1f1f1;\n",
       "        }    #T_7b232c98_0e42_11eb_bfbc_7085c233535crow4_col1 {\n",
       "            background-color:  #b4c4df;\n",
       "            color:  #000000;\n",
       "        }    #T_7b232c98_0e42_11eb_bfbc_7085c233535crow4_col2 {\n",
       "            background-color:  #023858;\n",
       "            color:  #f1f1f1;\n",
       "        }    #T_7b232c98_0e42_11eb_bfbc_7085c233535crow4_col3 {\n",
       "            background-color:  #fff7fb;\n",
       "            color:  #000000;\n",
       "        }    #T_7b232c98_0e42_11eb_bfbc_7085c233535crow5_col0 {\n",
       "            background-color:  #023858;\n",
       "            color:  #f1f1f1;\n",
       "        }    #T_7b232c98_0e42_11eb_bfbc_7085c233535crow5_col1 {\n",
       "            background-color:  #056dab;\n",
       "            color:  #f1f1f1;\n",
       "        }    #T_7b232c98_0e42_11eb_bfbc_7085c233535crow5_col2 {\n",
       "            background-color:  #fff7fb;\n",
       "            color:  #000000;\n",
       "        }    #T_7b232c98_0e42_11eb_bfbc_7085c233535crow5_col3 {\n",
       "            background-color:  #03517e;\n",
       "            color:  #f1f1f1;\n",
       "        }    #T_7b232c98_0e42_11eb_bfbc_7085c233535crow6_col0 {\n",
       "            background-color:  #348ebf;\n",
       "            color:  #000000;\n",
       "        }    #T_7b232c98_0e42_11eb_bfbc_7085c233535crow6_col1 {\n",
       "            background-color:  #faf2f8;\n",
       "            color:  #000000;\n",
       "        }    #T_7b232c98_0e42_11eb_bfbc_7085c233535crow6_col2 {\n",
       "            background-color:  #023858;\n",
       "            color:  #f1f1f1;\n",
       "        }    #T_7b232c98_0e42_11eb_bfbc_7085c233535crow6_col3 {\n",
       "            background-color:  #fff7fb;\n",
       "            color:  #000000;\n",
       "        }    #T_7b232c98_0e42_11eb_bfbc_7085c233535crow7_col0 {\n",
       "            background-color:  #d9d8ea;\n",
       "            color:  #000000;\n",
       "        }    #T_7b232c98_0e42_11eb_bfbc_7085c233535crow7_col1 {\n",
       "            background-color:  #79abd0;\n",
       "            color:  #000000;\n",
       "        }    #T_7b232c98_0e42_11eb_bfbc_7085c233535crow7_col2 {\n",
       "            background-color:  #fff7fb;\n",
       "            color:  #000000;\n",
       "        }    #T_7b232c98_0e42_11eb_bfbc_7085c233535crow7_col3 {\n",
       "            background-color:  #023858;\n",
       "            color:  #f1f1f1;\n",
       "        }</style><table id=\"T_7b232c98_0e42_11eb_bfbc_7085c233535c\" ><thead>    <tr>        <th class=\"index_name level0\" >label</th>        <th class=\"col_heading level0 col0\" >0</th>        <th class=\"col_heading level0 col1\" >1</th>        <th class=\"col_heading level0 col2\" >2</th>        <th class=\"col_heading level0 col3\" >3</th>    </tr></thead><tbody>\n",
       "                <tr>\n",
       "                        <th id=\"T_7b232c98_0e42_11eb_bfbc_7085c233535clevel0_row0\" class=\"row_heading level0 row0\" >NoEmp</th>\n",
       "                        <td id=\"T_7b232c98_0e42_11eb_bfbc_7085c233535crow0_col0\" class=\"data row0 col0\" >5.228947</td>\n",
       "                        <td id=\"T_7b232c98_0e42_11eb_bfbc_7085c233535crow0_col1\" class=\"data row0 col1\" >6.228102</td>\n",
       "                        <td id=\"T_7b232c98_0e42_11eb_bfbc_7085c233535crow0_col2\" class=\"data row0 col2\" >5.647887</td>\n",
       "                        <td id=\"T_7b232c98_0e42_11eb_bfbc_7085c233535crow0_col3\" class=\"data row0 col3\" >300.000000</td>\n",
       "            </tr>\n",
       "            <tr>\n",
       "                        <th id=\"T_7b232c98_0e42_11eb_bfbc_7085c233535clevel0_row1\" class=\"row_heading level0 row1\" >CreateJob</th>\n",
       "                        <td id=\"T_7b232c98_0e42_11eb_bfbc_7085c233535crow1_col0\" class=\"data row1 col0\" >2.389474</td>\n",
       "                        <td id=\"T_7b232c98_0e42_11eb_bfbc_7085c233535crow1_col1\" class=\"data row1 col1\" >1.118613</td>\n",
       "                        <td id=\"T_7b232c98_0e42_11eb_bfbc_7085c233535crow1_col2\" class=\"data row1 col2\" >0.774648</td>\n",
       "                        <td id=\"T_7b232c98_0e42_11eb_bfbc_7085c233535crow1_col3\" class=\"data row1 col3\" >20.000000</td>\n",
       "            </tr>\n",
       "            <tr>\n",
       "                        <th id=\"T_7b232c98_0e42_11eb_bfbc_7085c233535clevel0_row2\" class=\"row_heading level0 row2\" >RetainedJob</th>\n",
       "                        <td id=\"T_7b232c98_0e42_11eb_bfbc_7085c233535crow2_col0\" class=\"data row2 col0\" >4.723684</td>\n",
       "                        <td id=\"T_7b232c98_0e42_11eb_bfbc_7085c233535crow2_col1\" class=\"data row2 col1\" >5.870438</td>\n",
       "                        <td id=\"T_7b232c98_0e42_11eb_bfbc_7085c233535crow2_col2\" class=\"data row2 col2\" >1.661972</td>\n",
       "                        <td id=\"T_7b232c98_0e42_11eb_bfbc_7085c233535crow2_col3\" class=\"data row2 col3\" >320.000000</td>\n",
       "            </tr>\n",
       "            <tr>\n",
       "                        <th id=\"T_7b232c98_0e42_11eb_bfbc_7085c233535clevel0_row3\" class=\"row_heading level0 row3\" >DisbursementGross</th>\n",
       "                        <td id=\"T_7b232c98_0e42_11eb_bfbc_7085c233535crow3_col0\" class=\"data row3 col0\" >143800.576316</td>\n",
       "                        <td id=\"T_7b232c98_0e42_11eb_bfbc_7085c233535crow3_col1\" class=\"data row3 col1\" >76392.895985</td>\n",
       "                        <td id=\"T_7b232c98_0e42_11eb_bfbc_7085c233535crow3_col2\" class=\"data row3 col2\" >129015.788732</td>\n",
       "                        <td id=\"T_7b232c98_0e42_11eb_bfbc_7085c233535crow3_col3\" class=\"data row3 col3\" >390314.000000</td>\n",
       "            </tr>\n",
       "            <tr>\n",
       "                        <th id=\"T_7b232c98_0e42_11eb_bfbc_7085c233535clevel0_row4\" class=\"row_heading level0 row4\" >Term_years</th>\n",
       "                        <td id=\"T_7b232c98_0e42_11eb_bfbc_7085c233535crow4_col0\" class=\"data row4 col0\" >5.224561</td>\n",
       "                        <td id=\"T_7b232c98_0e42_11eb_bfbc_7085c233535crow4_col1\" class=\"data row4 col1\" >3.390207</td>\n",
       "                        <td id=\"T_7b232c98_0e42_11eb_bfbc_7085c233535crow4_col2\" class=\"data row4 col2\" >6.011737</td>\n",
       "                        <td id=\"T_7b232c98_0e42_11eb_bfbc_7085c233535crow4_col3\" class=\"data row4 col3\" >2.083333</td>\n",
       "            </tr>\n",
       "            <tr>\n",
       "                        <th id=\"T_7b232c98_0e42_11eb_bfbc_7085c233535clevel0_row5\" class=\"row_heading level0 row5\" >Disbr_year</th>\n",
       "                        <td id=\"T_7b232c98_0e42_11eb_bfbc_7085c233535crow5_col0\" class=\"data row5 col0\" >2006.134211</td>\n",
       "                        <td id=\"T_7b232c98_0e42_11eb_bfbc_7085c233535crow5_col1\" class=\"data row5 col1\" >2005.788321</td>\n",
       "                        <td id=\"T_7b232c98_0e42_11eb_bfbc_7085c233535crow5_col2\" class=\"data row5 col2\" >2004.647887</td>\n",
       "                        <td id=\"T_7b232c98_0e42_11eb_bfbc_7085c233535crow5_col3\" class=\"data row5 col3\" >2006.000000</td>\n",
       "            </tr>\n",
       "            <tr>\n",
       "                        <th id=\"T_7b232c98_0e42_11eb_bfbc_7085c233535clevel0_row6\" class=\"row_heading level0 row6\" >percent_SBA</th>\n",
       "                        <td id=\"T_7b232c98_0e42_11eb_bfbc_7085c233535crow6_col0\" class=\"data row6 col0\" >0.695526</td>\n",
       "                        <td id=\"T_7b232c98_0e42_11eb_bfbc_7085c233535crow6_col1\" class=\"data row6 col1\" >0.511953</td>\n",
       "                        <td id=\"T_7b232c98_0e42_11eb_bfbc_7085c233535crow6_col2\" class=\"data row6 col2\" >0.809155</td>\n",
       "                        <td id=\"T_7b232c98_0e42_11eb_bfbc_7085c233535crow6_col3\" class=\"data row6 col3\" >0.500000</td>\n",
       "            </tr>\n",
       "            <tr>\n",
       "                        <th id=\"T_7b232c98_0e42_11eb_bfbc_7085c233535clevel0_row7\" class=\"row_heading level0 row7\" >bank_size</th>\n",
       "                        <td id=\"T_7b232c98_0e42_11eb_bfbc_7085c233535crow7_col0\" class=\"data row7 col0\" >14843.802632</td>\n",
       "                        <td id=\"T_7b232c98_0e42_11eb_bfbc_7085c233535crow7_col1\" class=\"data row7 col1\" >32078.160584</td>\n",
       "                        <td id=\"T_7b232c98_0e42_11eb_bfbc_7085c233535crow7_col2\" class=\"data row7 col2\" >1848.183099</td>\n",
       "                        <td id=\"T_7b232c98_0e42_11eb_bfbc_7085c233535crow7_col3\" class=\"data row7 col3\" >64008.000000</td>\n",
       "            </tr>\n",
       "    </tbody></table>"
      ],
      "text/plain": [
       "<pandas.io.formats.style.Styler at 0x28db6a66248>"
      ]
     },
     "execution_count": 30,
     "metadata": {},
     "output_type": "execute_result"
    },
    {
     "data": {
      "application/javascript": [
       "\n",
       "            setTimeout(function() {\n",
       "                var nbb_cell_id = 30;\n",
       "                var nbb_unformatted_code = \"num_cols_labels = num_cols.copy()\\nnum_cols_labels.append(\\\"label\\\")\\nclst_avg = sample_hier[num_cols_labels].groupby(\\\"label\\\").mean().T\\nclst_avg.style.background_gradient(axis=1)\";\n",
       "                var nbb_formatted_code = \"num_cols_labels = num_cols.copy()\\nnum_cols_labels.append(\\\"label\\\")\\nclst_avg = sample_hier[num_cols_labels].groupby(\\\"label\\\").mean().T\\nclst_avg.style.background_gradient(axis=1)\";\n",
       "                var nbb_cells = Jupyter.notebook.get_cells();\n",
       "                for (var i = 0; i < nbb_cells.length; ++i) {\n",
       "                    if (nbb_cells[i].input_prompt_number == nbb_cell_id) {\n",
       "                        if (nbb_cells[i].get_text() == nbb_unformatted_code) {\n",
       "                             nbb_cells[i].set_text(nbb_formatted_code);\n",
       "                        }\n",
       "                        break;\n",
       "                    }\n",
       "                }\n",
       "            }, 500);\n",
       "            "
      ],
      "text/plain": [
       "<IPython.core.display.Javascript object>"
      ]
     },
     "metadata": {},
     "output_type": "display_data"
    }
   ],
   "source": [
    "num_cols_labels = num_cols.copy()\n",
    "num_cols_labels.append(\"label\")\n",
    "clst_avg = sample_hier[num_cols_labels].groupby(\"label\").mean().T\n",
    "clst_avg.style.background_gradient(axis=1)"
   ]
  },
  {
   "cell_type": "code",
   "execution_count": 31,
   "metadata": {},
   "outputs": [
    {
     "data": {
      "text/html": [
       "<style  type=\"text/css\" >\n",
       "</style><table id=\"T_7b304218_0e42_11eb_8419_7085c233535c\" ><thead>    <tr>        <th class=\"index_name level0\" >label</th>        <th class=\"col_heading level0 col0\" >0</th>        <th class=\"col_heading level0 col1\" >1</th>        <th class=\"col_heading level0 col2\" >2</th>        <th class=\"col_heading level0 col3\" >3</th>    </tr></thead><tbody>\n",
       "                <tr>\n",
       "                        <th id=\"T_7b304218_0e42_11eb_8419_7085c233535clevel0_row0\" class=\"row_heading level0 row0\" >NewExist</th>\n",
       "                        <td id=\"T_7b304218_0e42_11eb_8419_7085c233535crow0_col0\" class=\"data row0 col0\" >1</td>\n",
       "                        <td id=\"T_7b304218_0e42_11eb_8419_7085c233535crow0_col1\" class=\"data row0 col1\" >0</td>\n",
       "                        <td id=\"T_7b304218_0e42_11eb_8419_7085c233535crow0_col2\" class=\"data row0 col2\" >1</td>\n",
       "                        <td id=\"T_7b304218_0e42_11eb_8419_7085c233535crow0_col3\" class=\"data row0 col3\" >0</td>\n",
       "            </tr>\n",
       "            <tr>\n",
       "                        <th id=\"T_7b304218_0e42_11eb_8419_7085c233535clevel0_row1\" class=\"row_heading level0 row1\" >RevLineCr</th>\n",
       "                        <td id=\"T_7b304218_0e42_11eb_8419_7085c233535crow1_col0\" class=\"data row1 col0\" >0.0</td>\n",
       "                        <td id=\"T_7b304218_0e42_11eb_8419_7085c233535crow1_col1\" class=\"data row1 col1\" >1.0</td>\n",
       "                        <td id=\"T_7b304218_0e42_11eb_8419_7085c233535crow1_col2\" class=\"data row1 col2\" >0.0</td>\n",
       "                        <td id=\"T_7b304218_0e42_11eb_8419_7085c233535crow1_col3\" class=\"data row1 col3\" >1.0</td>\n",
       "            </tr>\n",
       "            <tr>\n",
       "                        <th id=\"T_7b304218_0e42_11eb_8419_7085c233535clevel0_row2\" class=\"row_heading level0 row2\" >LowDoc</th>\n",
       "                        <td id=\"T_7b304218_0e42_11eb_8419_7085c233535crow2_col0\" class=\"data row2 col0\" >0.0</td>\n",
       "                        <td id=\"T_7b304218_0e42_11eb_8419_7085c233535crow2_col1\" class=\"data row2 col1\" >0.0</td>\n",
       "                        <td id=\"T_7b304218_0e42_11eb_8419_7085c233535crow2_col2\" class=\"data row2 col2\" >1.0</td>\n",
       "                        <td id=\"T_7b304218_0e42_11eb_8419_7085c233535crow2_col3\" class=\"data row2 col3\" >0.0</td>\n",
       "            </tr>\n",
       "            <tr>\n",
       "                        <th id=\"T_7b304218_0e42_11eb_8419_7085c233535clevel0_row3\" class=\"row_heading level0 row3\" >is_franchise</th>\n",
       "                        <td id=\"T_7b304218_0e42_11eb_8419_7085c233535crow3_col0\" class=\"data row3 col0\" >0.0</td>\n",
       "                        <td id=\"T_7b304218_0e42_11eb_8419_7085c233535crow3_col1\" class=\"data row3 col1\" >0.0</td>\n",
       "                        <td id=\"T_7b304218_0e42_11eb_8419_7085c233535crow3_col2\" class=\"data row3 col2\" >0.0</td>\n",
       "                        <td id=\"T_7b304218_0e42_11eb_8419_7085c233535crow3_col3\" class=\"data row3 col3\" >1.0</td>\n",
       "            </tr>\n",
       "            <tr>\n",
       "                        <th id=\"T_7b304218_0e42_11eb_8419_7085c233535clevel0_row4\" class=\"row_heading level0 row4\" >bank_out_of_state</th>\n",
       "                        <td id=\"T_7b304218_0e42_11eb_8419_7085c233535crow4_col0\" class=\"data row4 col0\" >0</td>\n",
       "                        <td id=\"T_7b304218_0e42_11eb_8419_7085c233535crow4_col1\" class=\"data row4 col1\" >0</td>\n",
       "                        <td id=\"T_7b304218_0e42_11eb_8419_7085c233535crow4_col2\" class=\"data row4 col2\" >1</td>\n",
       "                        <td id=\"T_7b304218_0e42_11eb_8419_7085c233535crow4_col3\" class=\"data row4 col3\" >0</td>\n",
       "            </tr>\n",
       "            <tr>\n",
       "                        <th id=\"T_7b304218_0e42_11eb_8419_7085c233535clevel0_row5\" class=\"row_heading level0 row5\" >UrbanRural_cleaned</th>\n",
       "                        <td id=\"T_7b304218_0e42_11eb_8419_7085c233535crow5_col0\" class=\"data row5 col0\" >0.0</td>\n",
       "                        <td id=\"T_7b304218_0e42_11eb_8419_7085c233535crow5_col1\" class=\"data row5 col1\" >0.0</td>\n",
       "                        <td id=\"T_7b304218_0e42_11eb_8419_7085c233535crow5_col2\" class=\"data row5 col2\" >1.0</td>\n",
       "                        <td id=\"T_7b304218_0e42_11eb_8419_7085c233535crow5_col3\" class=\"data row5 col3\" >0.0</td>\n",
       "            </tr>\n",
       "    </tbody></table>"
      ],
      "text/plain": [
       "<pandas.io.formats.style.Styler at 0x28db6a63b48>"
      ]
     },
     "execution_count": 31,
     "metadata": {},
     "output_type": "execute_result"
    },
    {
     "data": {
      "application/javascript": [
       "\n",
       "            setTimeout(function() {\n",
       "                var nbb_cell_id = 31;\n",
       "                var nbb_unformatted_code = \"cat_cols_labels = cat_cols.copy()\\ncat_cols_labels.append(\\\"label\\\")\\nclst_avg = sample_hier[cat_cols_labels].groupby(\\\"label\\\").agg(pd.Series.mode).T\\nclst_avg.style.background_gradient(axis=1)\";\n",
       "                var nbb_formatted_code = \"cat_cols_labels = cat_cols.copy()\\ncat_cols_labels.append(\\\"label\\\")\\nclst_avg = sample_hier[cat_cols_labels].groupby(\\\"label\\\").agg(pd.Series.mode).T\\nclst_avg.style.background_gradient(axis=1)\";\n",
       "                var nbb_cells = Jupyter.notebook.get_cells();\n",
       "                for (var i = 0; i < nbb_cells.length; ++i) {\n",
       "                    if (nbb_cells[i].input_prompt_number == nbb_cell_id) {\n",
       "                        if (nbb_cells[i].get_text() == nbb_unformatted_code) {\n",
       "                             nbb_cells[i].set_text(nbb_formatted_code);\n",
       "                        }\n",
       "                        break;\n",
       "                    }\n",
       "                }\n",
       "            }, 500);\n",
       "            "
      ],
      "text/plain": [
       "<IPython.core.display.Javascript object>"
      ]
     },
     "metadata": {},
     "output_type": "display_data"
    }
   ],
   "source": [
    "cat_cols_labels = cat_cols.copy()\n",
    "cat_cols_labels.append(\"label\")\n",
    "clst_avg = sample_hier[cat_cols_labels].groupby(\"label\").agg(pd.Series.mode).T\n",
    "clst_avg.style.background_gradient(axis=1)"
   ]
  },
  {
   "cell_type": "code",
   "execution_count": 32,
   "metadata": {
    "scrolled": false
   },
   "outputs": [
    {
     "data": {
      "application/vnd.jupyter.widget-view+json": {
       "model_id": "179034be9088492cbdec106001f58513",
       "version_major": 2,
       "version_minor": 0
      },
      "text/plain": [
       "interactive(children=(Dropdown(description='color', options=('NoEmp', 'NewExist', 'CreateJob', 'RetainedJob', …"
      ]
     },
     "metadata": {},
     "output_type": "display_data"
    },
    {
     "data": {
      "application/javascript": [
       "\n",
       "            setTimeout(function() {\n",
       "                var nbb_cell_id = 32;\n",
       "                var nbb_unformatted_code = \"@interact\\ndef plot(color=sample_hier.columns, opacity=(0, 1.0)):\\n    fig = px.scatter(\\n        data_frame=sample_hier,\\n        x=\\\"famd_x\\\",\\n        y=\\\"famd_y\\\",\\n        color=color,\\n        hover_data=[\\\"DisbursementGross\\\", \\\"LowDoc\\\", \\\"label\\\"],\\n        # symbol=\\\"label\\\",\\n    )\\n    fig.update_traces(marker={\\\"opacity\\\": opacity})\\n    fig.show()\";\n",
       "                var nbb_formatted_code = \"@interact\\ndef plot(color=sample_hier.columns, opacity=(0, 1.0)):\\n    fig = px.scatter(\\n        data_frame=sample_hier,\\n        x=\\\"famd_x\\\",\\n        y=\\\"famd_y\\\",\\n        color=color,\\n        hover_data=[\\\"DisbursementGross\\\", \\\"LowDoc\\\", \\\"label\\\"],\\n        # symbol=\\\"label\\\",\\n    )\\n    fig.update_traces(marker={\\\"opacity\\\": opacity})\\n    fig.show()\";\n",
       "                var nbb_cells = Jupyter.notebook.get_cells();\n",
       "                for (var i = 0; i < nbb_cells.length; ++i) {\n",
       "                    if (nbb_cells[i].input_prompt_number == nbb_cell_id) {\n",
       "                        if (nbb_cells[i].get_text() == nbb_unformatted_code) {\n",
       "                             nbb_cells[i].set_text(nbb_formatted_code);\n",
       "                        }\n",
       "                        break;\n",
       "                    }\n",
       "                }\n",
       "            }, 500);\n",
       "            "
      ],
      "text/plain": [
       "<IPython.core.display.Javascript object>"
      ]
     },
     "metadata": {},
     "output_type": "display_data"
    }
   ],
   "source": [
    "@interact\n",
    "def plot(color=sample_hier.columns, opacity=(0, 1.0)):\n",
    "    fig = px.scatter(\n",
    "        data_frame=sample_hier,\n",
    "        x=\"famd_x\",\n",
    "        y=\"famd_y\",\n",
    "        color=color,\n",
    "        hover_data=[\"DisbursementGross\", \"LowDoc\", \"label\"],\n",
    "        # symbol=\"label\",\n",
    "    )\n",
    "    fig.update_traces(marker={\"opacity\": opacity})\n",
    "    fig.show()"
   ]
  },
  {
   "cell_type": "markdown",
   "metadata": {},
   "source": [
    "### Clustering Notes\n",
    "\n",
    "DBSCAN tended to create a large outliers clusters, or too many small clusters. This is likely due to the sparseness of the data. Some of these clusters may be informative, but may not represent larger trends. Heirarchical clustering also had similar results, with a large majority class and remaining clusters orders of magnitude smaller. K-Medoids was chosen as the best algorithm and as way to address skew, since median measures are more resilient to outliers. Three clusters were chosen as larger values of K seemed to result in 2 consistent, distinct groups with the remaining clusters appearing similar to what is group 2 (index starting at 0) in the final clustering."
   ]
  },
  {
   "cell_type": "markdown",
   "metadata": {},
   "source": [
    "### Cluster Analysis Visualization"
   ]
  },
  {
   "cell_type": "code",
   "execution_count": 33,
   "metadata": {},
   "outputs": [
    {
     "data": {
      "text/plain": [
       "1    532\n",
       "0    272\n",
       "2    196\n",
       "Name: label, dtype: int64"
      ]
     },
     "execution_count": 33,
     "metadata": {},
     "output_type": "execute_result"
    },
    {
     "data": {
      "application/javascript": [
       "\n",
       "            setTimeout(function() {\n",
       "                var nbb_cell_id = 33;\n",
       "                var nbb_unformatted_code = \"sample_kmeds[\\\"label\\\"].value_counts()\";\n",
       "                var nbb_formatted_code = \"sample_kmeds[\\\"label\\\"].value_counts()\";\n",
       "                var nbb_cells = Jupyter.notebook.get_cells();\n",
       "                for (var i = 0; i < nbb_cells.length; ++i) {\n",
       "                    if (nbb_cells[i].input_prompt_number == nbb_cell_id) {\n",
       "                        if (nbb_cells[i].get_text() == nbb_unformatted_code) {\n",
       "                             nbb_cells[i].set_text(nbb_formatted_code);\n",
       "                        }\n",
       "                        break;\n",
       "                    }\n",
       "                }\n",
       "            }, 500);\n",
       "            "
      ],
      "text/plain": [
       "<IPython.core.display.Javascript object>"
      ]
     },
     "metadata": {},
     "output_type": "display_data"
    }
   ],
   "source": [
    "sample_kmeds[\"label\"].value_counts()"
   ]
  },
  {
   "cell_type": "code",
   "execution_count": 107,
   "metadata": {},
   "outputs": [
    {
     "data": {
      "application/javascript": [
       "\n",
       "            setTimeout(function() {\n",
       "                var nbb_cell_id = 107;\n",
       "                var nbb_unformatted_code = \"# code to convert counts to percents for cluster comparison\\n\\nsample_kmeds[\\\"bank_out_of_state\\\"] = sample_kmeds[\\\"bank_out_of_state\\\"].astype(\\\"int\\\")\\nout_of_state_percs = pd.DataFrame(\\n    sample_kmeds.groupby(\\\"label\\\")[\\\"bank_out_of_state\\\"].agg(\\\"mean\\\"),\\n)\\nsns.barplot(x=out_of_state_percs.index, y=\\\"bank_out_of_state\\\", data=out_of_state_percs)\\n\\nsample_kmeds[\\\"NewExist\\\"] = sample_kmeds[\\\"NewExist\\\"].astype(\\\"int\\\")\\nnew_exist_percs = pd.DataFrame(\\n    sample_kmeds.groupby(\\\"label\\\")[\\\"NewExist\\\"].agg(\\\"mean\\\"),\\n)\\nsns.barplot(x=new_exist_percs.index, y=\\\"NewExist\\\", data=new_exist_percs)\\nplt.close()\";\n",
       "                var nbb_formatted_code = \"# code to convert counts to percents for cluster comparison\\n\\nsample_kmeds[\\\"bank_out_of_state\\\"] = sample_kmeds[\\\"bank_out_of_state\\\"].astype(\\\"int\\\")\\nout_of_state_percs = pd.DataFrame(\\n    sample_kmeds.groupby(\\\"label\\\")[\\\"bank_out_of_state\\\"].agg(\\\"mean\\\"),\\n)\\nsns.barplot(x=out_of_state_percs.index, y=\\\"bank_out_of_state\\\", data=out_of_state_percs)\\n\\nsample_kmeds[\\\"NewExist\\\"] = sample_kmeds[\\\"NewExist\\\"].astype(\\\"int\\\")\\nnew_exist_percs = pd.DataFrame(sample_kmeds.groupby(\\\"label\\\")[\\\"NewExist\\\"].agg(\\\"mean\\\"),)\\nsns.barplot(x=new_exist_percs.index, y=\\\"NewExist\\\", data=new_exist_percs)\\nplt.close()\";\n",
       "                var nbb_cells = Jupyter.notebook.get_cells();\n",
       "                for (var i = 0; i < nbb_cells.length; ++i) {\n",
       "                    if (nbb_cells[i].input_prompt_number == nbb_cell_id) {\n",
       "                        if (nbb_cells[i].get_text() == nbb_unformatted_code) {\n",
       "                             nbb_cells[i].set_text(nbb_formatted_code);\n",
       "                        }\n",
       "                        break;\n",
       "                    }\n",
       "                }\n",
       "            }, 500);\n",
       "            "
      ],
      "text/plain": [
       "<IPython.core.display.Javascript object>"
      ]
     },
     "metadata": {},
     "output_type": "display_data"
    }
   ],
   "source": [
    "# code to convert counts to percents for cluster comparison\n",
    "\n",
    "sample_kmeds[\"bank_out_of_state\"] = sample_kmeds[\"bank_out_of_state\"].astype(\"int\")\n",
    "out_of_state_percs = pd.DataFrame(\n",
    "    sample_kmeds.groupby(\"label\")[\"bank_out_of_state\"].agg(\"mean\"),\n",
    ")\n",
    "sns.barplot(x=out_of_state_percs.index, y=\"bank_out_of_state\", data=out_of_state_percs)\n",
    "\n",
    "sample_kmeds[\"NewExist\"] = sample_kmeds[\"NewExist\"].astype(\"int\")\n",
    "new_exist_percs = pd.DataFrame(\n",
    "    sample_kmeds.groupby(\"label\")[\"NewExist\"].agg(\"mean\"),\n",
    ")\n",
    "sns.barplot(x=new_exist_percs.index, y=\"NewExist\", data=new_exist_percs)\n",
    "plt.close()\n"
   ]
  },
  {
   "cell_type": "code",
   "execution_count": 108,
   "metadata": {},
   "outputs": [
    {
     "data": {
      "image/png": "[encoded data removed]",
      "text/plain": [
       "<Figure size 1080x576 with 6 Axes>"
      ]
     },
     "metadata": {
      "needs_background": "light"
     },
     "output_type": "display_data"
    },
    {
     "data": {
      "application/javascript": [
       "\n",
       "            setTimeout(function() {\n",
       "                var nbb_cell_id = 108;\n",
       "                var nbb_unformatted_code = \"fig, axs = plt.subplots(2, 3, figsize=(15, 8), sharex=True)\\nsns.barplot(ax=axs[0, 0], x=\\\"label\\\", y=\\\"DisbursementGross\\\", data=sample_kmeds)\\naxs[0, 0].set_title(\\\"Avg. Loan Amount ($)\\\")\\naxs[0, 0].set_ylabel(\\\"\\\")\\n\\nsns.barplot(ax=axs[0, 1], x=new_exist_percs.index, y=\\\"NewExist\\\", data=new_exist_percs)\\n# sns.countplot( x=\\\"label\\\", hue=\\\"NewExist\\\", data=sample_kmeds)\\naxs[0, 1].set_title(\\\"New Businesses (Percent)\\\")\\n# axs[0, 1].legend([\\\"No\\\", \\\"Yes\\\"], loc=\\\"upper right\\\")\\naxs[0, 1].set_ylabel(\\\"\\\")\\n\\nsns.barplot(\\n    ax=axs[0, 2],\\n    x=out_of_state_percs.index,\\n    y=\\\"bank_out_of_state\\\",\\n    data=out_of_state_percs,\\n)\\n# sns.countplot( x=\\\"label\\\", hue=\\\"bank_out_of_state\\\", data=sample_kmeds)\\naxs[0, 2].set_title(\\\"Out of State Bank (Percent)\\\")\\naxs[0, 2].set_ylabel(\\\"\\\")\\n\\nsns.barplot(ax=axs[1, 0], x=\\\"label\\\", y=\\\"Term_years\\\", data=sample_kmeds)\\naxs[1, 0].set_title(\\\"Loan Term (Years)\\\")\\naxs[1, 0].set_ylabel(\\\"\\\")\\n\\nsns.barplot(ax=axs[1, 2], x=\\\"label\\\", y=\\\"bank_size\\\", data=sample_kmeds)\\naxs[1, 2].set_title(\\\"Bank Size (Loans Given)\\\")\\naxs[1, 2].set_ylabel(\\\"\\\")\\n\\nsns.barplot(ax=axs[1, 1], x=\\\"label\\\", y=\\\"CreateJob\\\", data=sample_kmeds)\\naxs[1, 1].set_title(\\\"Jobs Created (Count)\\\")\\naxs[1, 1].set_ylabel(\\\"\\\")\\n\\nfig.savefig(\\\"clusters.png\\\")\\n\\nplt.show()\";\n",
       "                var nbb_formatted_code = \"fig, axs = plt.subplots(2, 3, figsize=(15, 8), sharex=True)\\nsns.barplot(ax=axs[0, 0], x=\\\"label\\\", y=\\\"DisbursementGross\\\", data=sample_kmeds)\\naxs[0, 0].set_title(\\\"Avg. Loan Amount ($)\\\")\\naxs[0, 0].set_ylabel(\\\"\\\")\\n\\nsns.barplot(ax=axs[0, 1], x=new_exist_percs.index, y=\\\"NewExist\\\", data=new_exist_percs)\\n# sns.countplot( x=\\\"label\\\", hue=\\\"NewExist\\\", data=sample_kmeds)\\naxs[0, 1].set_title(\\\"New Businesses (Percent)\\\")\\n# axs[0, 1].legend([\\\"No\\\", \\\"Yes\\\"], loc=\\\"upper right\\\")\\naxs[0, 1].set_ylabel(\\\"\\\")\\n\\nsns.barplot(\\n    ax=axs[0, 2],\\n    x=out_of_state_percs.index,\\n    y=\\\"bank_out_of_state\\\",\\n    data=out_of_state_percs,\\n)\\n# sns.countplot( x=\\\"label\\\", hue=\\\"bank_out_of_state\\\", data=sample_kmeds)\\naxs[0, 2].set_title(\\\"Out of State Bank (Percent)\\\")\\naxs[0, 2].set_ylabel(\\\"\\\")\\n\\nsns.barplot(ax=axs[1, 0], x=\\\"label\\\", y=\\\"Term_years\\\", data=sample_kmeds)\\naxs[1, 0].set_title(\\\"Loan Term (Years)\\\")\\naxs[1, 0].set_ylabel(\\\"\\\")\\n\\nsns.barplot(ax=axs[1, 2], x=\\\"label\\\", y=\\\"bank_size\\\", data=sample_kmeds)\\naxs[1, 2].set_title(\\\"Bank Size (Loans Given)\\\")\\naxs[1, 2].set_ylabel(\\\"\\\")\\n\\nsns.barplot(ax=axs[1, 1], x=\\\"label\\\", y=\\\"CreateJob\\\", data=sample_kmeds)\\naxs[1, 1].set_title(\\\"Jobs Created (Count)\\\")\\naxs[1, 1].set_ylabel(\\\"\\\")\\n\\nfig.savefig(\\\"clusters.png\\\")\\n\\nplt.show()\";\n",
       "                var nbb_cells = Jupyter.notebook.get_cells();\n",
       "                for (var i = 0; i < nbb_cells.length; ++i) {\n",
       "                    if (nbb_cells[i].input_prompt_number == nbb_cell_id) {\n",
       "                        if (nbb_cells[i].get_text() == nbb_unformatted_code) {\n",
       "                             nbb_cells[i].set_text(nbb_formatted_code);\n",
       "                        }\n",
       "                        break;\n",
       "                    }\n",
       "                }\n",
       "            }, 500);\n",
       "            "
      ],
      "text/plain": [
       "<IPython.core.display.Javascript object>"
      ]
     },
     "metadata": {},
     "output_type": "display_data"
    }
   ],
   "source": [
    "fig, axs = plt.subplots(2, 3, figsize=(15, 8), sharex=True)\n",
    "sns.barplot(ax=axs[0, 0], x=\"label\", y=\"DisbursementGross\", data=sample_kmeds)\n",
    "axs[0, 0].set_title(\"Avg. Loan Amount ($)\")\n",
    "axs[0, 0].set_ylabel(\"\")\n",
    "\n",
    "sns.barplot(ax=axs[0, 1], x=new_exist_percs.index, y=\"NewExist\", data=new_exist_percs)\n",
    "# sns.countplot( x=\"label\", hue=\"NewExist\", data=sample_kmeds)\n",
    "axs[0, 1].set_title(\"New Businesses (Percent)\")\n",
    "# axs[0, 1].legend([\"No\", \"Yes\"], loc=\"upper right\")\n",
    "axs[0, 1].set_ylabel(\"\")\n",
    "\n",
    "sns.barplot(\n",
    "    ax=axs[0, 2],\n",
    "    x=out_of_state_percs.index,\n",
    "    y=\"bank_out_of_state\",\n",
    "    data=out_of_state_percs,\n",
    ")\n",
    "# sns.countplot( x=\"label\", hue=\"bank_out_of_state\", data=sample_kmeds)\n",
    "axs[0, 2].set_title(\"Out of State Bank (Percent)\")\n",
    "axs[0, 2].set_ylabel(\"\")\n",
    "\n",
    "sns.barplot(ax=axs[1, 0], x=\"label\", y=\"Term_years\", data=sample_kmeds)\n",
    "axs[1, 0].set_title(\"Loan Term (Years)\")\n",
    "axs[1, 0].set_ylabel(\"\")\n",
    "\n",
    "sns.barplot(ax=axs[1, 2], x=\"label\", y=\"bank_size\", data=sample_kmeds)\n",
    "axs[1, 2].set_title(\"Bank Size (Loans Given)\")\n",
    "axs[1, 2].set_ylabel(\"\")\n",
    "\n",
    "sns.barplot(ax=axs[1, 1], x=\"label\", y=\"CreateJob\", data=sample_kmeds)\n",
    "axs[1, 1].set_title(\"Jobs Created (Count)\")\n",
    "axs[1, 1].set_ylabel(\"\")\n",
    "\n",
    "fig.savefig(\"clusters.png\")\n",
    "\n",
    "plt.show()"
   ]
  },
  {
   "cell_type": "markdown",
   "metadata": {},
   "source": [
    "Cluster 0: Failure to Launch\n",
    "\n",
    "Features:\n",
    "* Highest Percentage of New Businesses\n",
    "Biggest Loans, Longest Average Loan Term\n",
    "* Smallest Banks, but most out-of-state\n",
    "* Created the most jobs\n",
    "\n",
    "Interpretation: Promising new businesses that faltered\n",
    "\n",
    "Suggested Actions:\n",
    "* Consider for a second chance\n",
    "* May need guidance and adjustments\n",
    "* Connect with more conservative loans\n",
    "<hr/>\n",
    "\n",
    "Cluster 1: Business Burnout\n",
    "\n",
    "Features:\n",
    "* High percent of In-State Banks, Biggest Banks\n",
    "* Highest percent of Existing Businesses\n",
    "* Shortest Average Loan Term\n",
    "* Created the Least Jobs\n",
    "* Biggest Cluster (~500 loans)\n",
    "\n",
    "Interpretation: Businesses with exhausted local credit options and slowing growth\n",
    "\n",
    "Suggested Actions:\n",
    "* Connect with new resources, out-of-state banks\n",
    "* Help modernize\n",
    "<hr/>\n",
    "\n",
    "Cluster 2: Average Janes \n",
    "\n",
    "Features:\n",
    "* Similar businesses to Group 2\n",
    "* In-between loan sizes and terms\n",
    "* Medium sized, in-state banks\n",
    "\n",
    "Interpretation: Businesses on their way to burning out\n",
    "\n",
    "Suggested Actions:\n",
    "* Connect with new resources, bigger banks\n",
    "* May have features of either first 2 groups\n",
    "* Help overcome the obstacles that result in Cluster 2\n",
    "* Build on the success that kep them from becoming Cluster 1\n",
    "\n",
    "\n"
   ]
  },
  {
   "cell_type": "markdown",
   "metadata": {},
   "source": [
    "Some EDA"
   ]
  },
  {
   "cell_type": "code",
   "execution_count": 83,
   "metadata": {},
   "outputs": [
    {
     "data": {
      "image/png": "[encoded data removed]",
      "text/plain": [
       "<Figure size 432x288 with 1 Axes>"
      ]
     },
     "metadata": {
      "needs_background": "light"
     },
     "output_type": "display_data"
    },
    {
     "data": {
      "application/javascript": [
       "\n",
       "            setTimeout(function() {\n",
       "                var nbb_cell_id = 83;\n",
       "                var nbb_unformatted_code = \"sns.distplot(default[\\\"DisbursementGross\\\"])\\nplt.title(\\\"Loan Amount\\\")\\nplt.xlabel(\\\"Dollars\\\")\\nplt.savefig('loan_amount.png')\\nplt.show()\";\n",
       "                var nbb_formatted_code = \"sns.distplot(default[\\\"DisbursementGross\\\"])\\nplt.title(\\\"Loan Amount\\\")\\nplt.xlabel(\\\"Dollars\\\")\\nplt.savefig(\\\"loan_amount.png\\\")\\nplt.show()\";\n",
       "                var nbb_cells = Jupyter.notebook.get_cells();\n",
       "                for (var i = 0; i < nbb_cells.length; ++i) {\n",
       "                    if (nbb_cells[i].input_prompt_number == nbb_cell_id) {\n",
       "                        if (nbb_cells[i].get_text() == nbb_unformatted_code) {\n",
       "                             nbb_cells[i].set_text(nbb_formatted_code);\n",
       "                        }\n",
       "                        break;\n",
       "                    }\n",
       "                }\n",
       "            }, 500);\n",
       "            "
      ],
      "text/plain": [
       "<IPython.core.display.Javascript object>"
      ]
     },
     "metadata": {},
     "output_type": "display_data"
    }
   ],
   "source": [
    "sns.distplot(default[\"DisbursementGross\"])\n",
    "plt.title(\"Loan Amount\")\n",
    "plt.xlabel(\"Dollars\")\n",
    "# plt.savefig(\"loan_amount.png\")\n",
    "plt.show()"
   ]
  },
  {
   "cell_type": "code",
   "execution_count": 46,
   "metadata": {},
   "outputs": [
    {
     "data": {
      "text/plain": [
       "count    1.265270e+05\n",
       "mean     1.157122e+05\n",
       "std      1.986767e+05\n",
       "min      4.000000e+03\n",
       "25%      2.500000e+04\n",
       "50%      5.143700e+04\n",
       "75%      1.177455e+05\n",
       "max      4.362157e+06\n",
       "Name: DisbursementGross, dtype: float64"
      ]
     },
     "execution_count": 46,
     "metadata": {},
     "output_type": "execute_result"
    },
    {
     "data": {
      "application/javascript": [
       "\n",
       "            setTimeout(function() {\n",
       "                var nbb_cell_id = 46;\n",
       "                var nbb_unformatted_code = \"default[\\\"DisbursementGross\\\"].describe()\";\n",
       "                var nbb_formatted_code = \"default[\\\"DisbursementGross\\\"].describe()\";\n",
       "                var nbb_cells = Jupyter.notebook.get_cells();\n",
       "                for (var i = 0; i < nbb_cells.length; ++i) {\n",
       "                    if (nbb_cells[i].input_prompt_number == nbb_cell_id) {\n",
       "                        if (nbb_cells[i].get_text() == nbb_unformatted_code) {\n",
       "                             nbb_cells[i].set_text(nbb_formatted_code);\n",
       "                        }\n",
       "                        break;\n",
       "                    }\n",
       "                }\n",
       "            }, 500);\n",
       "            "
      ],
      "text/plain": [
       "<IPython.core.display.Javascript object>"
      ]
     },
     "metadata": {},
     "output_type": "display_data"
    }
   ],
   "source": [
    "default[\"DisbursementGross\"].describe()"
   ]
  },
  {
   "cell_type": "code",
   "execution_count": 81,
   "metadata": {},
   "outputs": [
    {
     "data": {
      "image/png": "[encoded data removed]",
      "text/plain": [
       "<Figure size 432x288 with 1 Axes>"
      ]
     },
     "metadata": {
      "needs_background": "light"
     },
     "output_type": "display_data"
    },
    {
     "data": {
      "application/javascript": [
       "\n",
       "            setTimeout(function() {\n",
       "                var nbb_cell_id = 81;\n",
       "                var nbb_unformatted_code = \"sns.distplot(default[\\\"Term_years\\\"])\\nplt.title(\\\"Loan Term\\\")\\nplt.xlabel(\\\"Years\\\")\\nplt.ylabel(\\\"Frequency\\\")\\nplt.savefig('loan_term.png')\\nplt.show()\";\n",
       "                var nbb_formatted_code = \"sns.distplot(default[\\\"Term_years\\\"])\\nplt.title(\\\"Loan Term\\\")\\nplt.xlabel(\\\"Years\\\")\\nplt.ylabel(\\\"Frequency\\\")\\nplt.savefig(\\\"loan_term.png\\\")\\nplt.show()\";\n",
       "                var nbb_cells = Jupyter.notebook.get_cells();\n",
       "                for (var i = 0; i < nbb_cells.length; ++i) {\n",
       "                    if (nbb_cells[i].input_prompt_number == nbb_cell_id) {\n",
       "                        if (nbb_cells[i].get_text() == nbb_unformatted_code) {\n",
       "                             nbb_cells[i].set_text(nbb_formatted_code);\n",
       "                        }\n",
       "                        break;\n",
       "                    }\n",
       "                }\n",
       "            }, 500);\n",
       "            "
      ],
      "text/plain": [
       "<IPython.core.display.Javascript object>"
      ]
     },
     "metadata": {},
     "output_type": "display_data"
    }
   ],
   "source": [
    "sns.distplot(default[\"Term_years\"])\n",
    "plt.title(\"Loan Term\")\n",
    "plt.xlabel(\"Years\")\n",
    "plt.ylabel(\"Frequency\")\n",
    "# plt.savefig(\"loan_term.png\")\n",
    "plt.show()"
   ]
  },
  {
   "cell_type": "code",
   "execution_count": 48,
   "metadata": {},
   "outputs": [
    {
     "data": {
      "text/plain": [
       "count    126527.000000\n",
       "mean          4.319297\n",
       "std           3.217526\n",
       "min           0.000000\n",
       "25%           2.416667\n",
       "50%           4.000000\n",
       "75%           5.416667\n",
       "max          28.250000\n",
       "Name: Term_years, dtype: float64"
      ]
     },
     "execution_count": 48,
     "metadata": {},
     "output_type": "execute_result"
    },
    {
     "data": {
      "application/javascript": [
       "\n",
       "            setTimeout(function() {\n",
       "                var nbb_cell_id = 48;\n",
       "                var nbb_unformatted_code = \"default[\\\"Term_years\\\"].describe()\";\n",
       "                var nbb_formatted_code = \"default[\\\"Term_years\\\"].describe()\";\n",
       "                var nbb_cells = Jupyter.notebook.get_cells();\n",
       "                for (var i = 0; i < nbb_cells.length; ++i) {\n",
       "                    if (nbb_cells[i].input_prompt_number == nbb_cell_id) {\n",
       "                        if (nbb_cells[i].get_text() == nbb_unformatted_code) {\n",
       "                             nbb_cells[i].set_text(nbb_formatted_code);\n",
       "                        }\n",
       "                        break;\n",
       "                    }\n",
       "                }\n",
       "            }, 500);\n",
       "            "
      ],
      "text/plain": [
       "<IPython.core.display.Javascript object>"
      ]
     },
     "metadata": {},
     "output_type": "display_data"
    }
   ],
   "source": [
    "default[\"Term_years\"].describe()"
   ]
  },
  {
   "cell_type": "code",
   "execution_count": 49,
   "metadata": {},
   "outputs": [
    {
     "data": {
      "text/plain": [
       "0.000000      571\n",
       "0.083333     1078\n",
       "0.166667     1198\n",
       "0.250000     1145\n",
       "0.333333     1160\n",
       "0.416667     1176\n",
       "0.500000     1181\n",
       "0.583333     1099\n",
       "0.666667      960\n",
       "0.750000      978\n",
       "0.833333      884\n",
       "0.916667      969\n",
       "1.000000      952\n",
       "1.083333      931\n",
       "1.166667      957\n",
       "1.250000      934\n",
       "1.333333      977\n",
       "1.416667     1046\n",
       "1.500000     1048\n",
       "1.583333     1089\n",
       "1.666667     1135\n",
       "1.750000     1099\n",
       "1.833333     1088\n",
       "1.916667     1162\n",
       "2.000000     1171\n",
       "2.083333     1221\n",
       "2.166667     1240\n",
       "2.250000     1311\n",
       "2.333333     1398\n",
       "2.416667     1345\n",
       "2.500000     1433\n",
       "2.583333     1470\n",
       "2.666667     1439\n",
       "2.750000     1414\n",
       "2.833333     1524\n",
       "2.916667     1549\n",
       "3.000000     1677\n",
       "3.083333     1735\n",
       "3.166667     1770\n",
       "3.250000     1772\n",
       "3.333333     1891\n",
       "3.416667     1829\n",
       "3.500000     1931\n",
       "3.583333     1751\n",
       "3.666667     1815\n",
       "3.750000     1696\n",
       "3.833333     1774\n",
       "3.916667     1800\n",
       "4.000000     1833\n",
       "4.083333     1866\n",
       "4.166667     1877\n",
       "4.250000     1784\n",
       "4.333333     1835\n",
       "4.416667     1904\n",
       "4.500000     1938\n",
       "4.583333     1877\n",
       "4.666667     1827\n",
       "4.750000     1813\n",
       "4.833333     1848\n",
       "4.916667     1784\n",
       "5.000000     1862\n",
       "5.083333     1893\n",
       "5.166667     1840\n",
       "5.250000     1828\n",
       "5.333333     1746\n",
       "5.416667     1690\n",
       "5.500000     1634\n",
       "5.583333     1598\n",
       "5.666667     1528\n",
       "5.750000     1454\n",
       "5.833333     1353\n",
       "5.916667     1326\n",
       "6.000000     1100\n",
       "6.083333      998\n",
       "6.166667      837\n",
       "6.250000      810\n",
       "6.333333      635\n",
       "6.416667      492\n",
       "6.500000      407\n",
       "6.583333      353\n",
       "6.666667      354\n",
       "6.750000      324\n",
       "6.833333      333\n",
       "6.916667      366\n",
       "7.000000      874\n",
       "7.083333      351\n",
       "7.166667      331\n",
       "7.250000      345\n",
       "7.333333      362\n",
       "7.416667      360\n",
       "7.500000      337\n",
       "7.583333      385\n",
       "7.666667      377\n",
       "7.750000      373\n",
       "7.833333      339\n",
       "7.916667      373\n",
       "8.000000      343\n",
       "8.083333      366\n",
       "8.166667      404\n",
       "8.250000      366\n",
       "8.333333      356\n",
       "8.416667      372\n",
       "8.500000      327\n",
       "8.583333      337\n",
       "8.666667      346\n",
       "8.750000      304\n",
       "8.833333      295\n",
       "8.916667      281\n",
       "9.000000      264\n",
       "9.083333      249\n",
       "9.166667      239\n",
       "9.250000      189\n",
       "9.333333      176\n",
       "9.416667      137\n",
       "9.500000       95\n",
       "9.583333       80\n",
       "9.666667       58\n",
       "9.750000       52\n",
       "9.833333       37\n",
       "9.916667       37\n",
       "10.000000     168\n",
       "10.083333      22\n",
       "10.166667      30\n",
       "10.250000      28\n",
       "10.333333      26\n",
       "10.416667      25\n",
       "10.500000      29\n",
       "10.583333      13\n",
       "10.666667      24\n",
       "10.750000      21\n",
       "10.833333      20\n",
       "10.916667      33\n",
       "11.000000      28\n",
       "11.083333      17\n",
       "11.166667      25\n",
       "11.250000      21\n",
       "11.333333      33\n",
       "11.416667      28\n",
       "11.500000      28\n",
       "11.583333      16\n",
       "11.666667      28\n",
       "11.750000      36\n",
       "11.833333      29\n",
       "11.916667      30\n",
       "12.000000      32\n",
       "12.083333      26\n",
       "12.166667      33\n",
       "12.250000      33\n",
       "12.333333      23\n",
       "12.416667      28\n",
       "12.500000      26\n",
       "12.583333      27\n",
       "12.666667      27\n",
       "12.750000      22\n",
       "12.833333      34\n",
       "12.916667      24\n",
       "13.000000      17\n",
       "13.083333      33\n",
       "13.166667      17\n",
       "13.250000      23\n",
       "13.333333      23\n",
       "13.416667      23\n",
       "13.500000      26\n",
       "13.583333      33\n",
       "13.666667      26\n",
       "13.750000      21\n",
       "13.833333      28\n",
       "13.916667      26\n",
       "14.000000      24\n",
       "14.083333      24\n",
       "14.166667      22\n",
       "14.250000      15\n",
       "14.333333      22\n",
       "14.416667      17\n",
       "14.500000      27\n",
       "14.583333      17\n",
       "14.666667      25\n",
       "14.750000      21\n",
       "14.833333      21\n",
       "14.916667      29\n",
       "15.000000      27\n",
       "15.083333      23\n",
       "15.166667      22\n",
       "15.250000      24\n",
       "15.333333      25\n",
       "15.416667      12\n",
       "15.500000      27\n",
       "15.583333      20\n",
       "15.666667      16\n",
       "15.750000      17\n",
       "15.833333      17\n",
       "15.916667      25\n",
       "16.000000      23\n",
       "16.083333      22\n",
       "16.166667      18\n",
       "16.250000      24\n",
       "16.333333      24\n",
       "16.416667      32\n",
       "16.500000      26\n",
       "16.583333      27\n",
       "16.666667      30\n",
       "16.750000      33\n",
       "16.833333      24\n",
       "16.916667      32\n",
       "17.000000      29\n",
       "17.083333      26\n",
       "17.166667      22\n",
       "17.250000      25\n",
       "17.333333      33\n",
       "17.416667      32\n",
       "17.500000      25\n",
       "17.583333      24\n",
       "17.666667      30\n",
       "17.750000      13\n",
       "17.833333      27\n",
       "17.916667      24\n",
       "18.000000      21\n",
       "18.083333      26\n",
       "18.166667      29\n",
       "18.250000      35\n",
       "18.333333      27\n",
       "18.416667      33\n",
       "18.500000      18\n",
       "18.583333      24\n",
       "18.666667      24\n",
       "18.750000      26\n",
       "18.833333      24\n",
       "18.916667      19\n",
       "19.000000      23\n",
       "19.083333      28\n",
       "19.166667      22\n",
       "19.250000      18\n",
       "19.333333      19\n",
       "19.416667      16\n",
       "19.500000      19\n",
       "19.583333      23\n",
       "19.666667      18\n",
       "19.750000      23\n",
       "19.833333      12\n",
       "19.916667      25\n",
       "20.000000      25\n",
       "20.083333      21\n",
       "20.166667      24\n",
       "20.250000      24\n",
       "20.333333      29\n",
       "20.416667      21\n",
       "20.500000      14\n",
       "20.583333      26\n",
       "20.666667      28\n",
       "20.750000      29\n",
       "20.833333      27\n",
       "20.916667      30\n",
       "21.000000      22\n",
       "21.083333      29\n",
       "21.166667      31\n",
       "21.250000      24\n",
       "21.333333      27\n",
       "21.416667      28\n",
       "21.500000      29\n",
       "21.583333      35\n",
       "21.666667      17\n",
       "21.750000      25\n",
       "21.833333      34\n",
       "21.916667      20\n",
       "22.000000      33\n",
       "22.083333      25\n",
       "22.166667      22\n",
       "22.250000      11\n",
       "22.333333      26\n",
       "22.416667      23\n",
       "22.500000      21\n",
       "22.583333      18\n",
       "22.666667      20\n",
       "22.750000      26\n",
       "22.833333      25\n",
       "22.916667      20\n",
       "23.000000      22\n",
       "23.083333      29\n",
       "23.166667      22\n",
       "23.250000      24\n",
       "23.333333      12\n",
       "23.416667      23\n",
       "23.500000      23\n",
       "23.583333      12\n",
       "23.666667      19\n",
       "23.750000      12\n",
       "23.833333      18\n",
       "23.916667      16\n",
       "24.000000       8\n",
       "24.083333      11\n",
       "24.166667       8\n",
       "24.250000      10\n",
       "24.333333       4\n",
       "24.416667       5\n",
       "24.500000       5\n",
       "24.583333       3\n",
       "24.666667       6\n",
       "24.750000       6\n",
       "24.833333       2\n",
       "24.916667       2\n",
       "25.000000      10\n",
       "25.083333       1\n",
       "25.250000       1\n",
       "26.666667       1\n",
       "28.250000       1\n",
       "Name: Term_years, dtype: int64"
      ]
     },
     "execution_count": 49,
     "metadata": {},
     "output_type": "execute_result"
    },
    {
     "data": {
      "application/javascript": [
       "\n",
       "            setTimeout(function() {\n",
       "                var nbb_cell_id = 49;\n",
       "                var nbb_unformatted_code = \"default[\\\"Term_years\\\"].value_counts().sort_index()\";\n",
       "                var nbb_formatted_code = \"default[\\\"Term_years\\\"].value_counts().sort_index()\";\n",
       "                var nbb_cells = Jupyter.notebook.get_cells();\n",
       "                for (var i = 0; i < nbb_cells.length; ++i) {\n",
       "                    if (nbb_cells[i].input_prompt_number == nbb_cell_id) {\n",
       "                        if (nbb_cells[i].get_text() == nbb_unformatted_code) {\n",
       "                             nbb_cells[i].set_text(nbb_formatted_code);\n",
       "                        }\n",
       "                        break;\n",
       "                    }\n",
       "                }\n",
       "            }, 500);\n",
       "            "
      ],
      "text/plain": [
       "<IPython.core.display.Javascript object>"
      ]
     },
     "metadata": {},
     "output_type": "display_data"
    }
   ],
   "source": [
    "default[\"Term_years\"].value_counts().sort_index()"
   ]
  },
  {
   "cell_type": "code",
   "execution_count": 87,
   "metadata": {},
   "outputs": [
    {
     "data": {
      "image/png": "[encoded data removed]",
      "text/plain": [
       "<Figure size 432x288 with 1 Axes>"
      ]
     },
     "metadata": {
      "needs_background": "light"
     },
     "output_type": "display_data"
    },
    {
     "data": {
      "application/javascript": [
       "\n",
       "            setTimeout(function() {\n",
       "                var nbb_cell_id = 87;\n",
       "                var nbb_unformatted_code = \"sns.boxplot(default[\\\"bank_size\\\"])\\nplt.xlabel(\\\"Number of Loans\\\")\\nplt.title(\\\"Bank Size\\\")\\nplt.savefig('bank_size.png')\\nplt.show()\";\n",
       "                var nbb_formatted_code = \"sns.boxplot(default[\\\"bank_size\\\"])\\nplt.xlabel(\\\"Number of Loans\\\")\\nplt.title(\\\"Bank Size\\\")\\nplt.savefig(\\\"bank_size.png\\\")\\nplt.show()\";\n",
       "                var nbb_cells = Jupyter.notebook.get_cells();\n",
       "                for (var i = 0; i < nbb_cells.length; ++i) {\n",
       "                    if (nbb_cells[i].input_prompt_number == nbb_cell_id) {\n",
       "                        if (nbb_cells[i].get_text() == nbb_unformatted_code) {\n",
       "                             nbb_cells[i].set_text(nbb_formatted_code);\n",
       "                        }\n",
       "                        break;\n",
       "                    }\n",
       "                }\n",
       "            }, 500);\n",
       "            "
      ],
      "text/plain": [
       "<IPython.core.display.Javascript object>"
      ]
     },
     "metadata": {},
     "output_type": "display_data"
    }
   ],
   "source": [
    "sns.boxplot(default[\"bank_size\"])\n",
    "plt.xlabel(\"Number of Loans\")\n",
    "plt.title(\"Bank Size\")\n",
    "#plt.savefig(\"bank_size.png\")\n",
    "plt.show()"
   ]
  },
  {
   "cell_type": "code",
   "execution_count": 51,
   "metadata": {},
   "outputs": [
    {
     "data": {
      "text/plain": [
       "count    126527.000000\n",
       "mean      22936.661266\n",
       "std       21848.878144\n",
       "min           1.000000\n",
       "25%        3562.000000\n",
       "50%       19250.000000\n",
       "75%       34974.000000\n",
       "max       64008.000000\n",
       "Name: bank_size, dtype: float64"
      ]
     },
     "execution_count": 51,
     "metadata": {},
     "output_type": "execute_result"
    },
    {
     "data": {
      "application/javascript": [
       "\n",
       "            setTimeout(function() {\n",
       "                var nbb_cell_id = 51;\n",
       "                var nbb_unformatted_code = \"default[\\\"bank_size\\\"].describe()\";\n",
       "                var nbb_formatted_code = \"default[\\\"bank_size\\\"].describe()\";\n",
       "                var nbb_cells = Jupyter.notebook.get_cells();\n",
       "                for (var i = 0; i < nbb_cells.length; ++i) {\n",
       "                    if (nbb_cells[i].input_prompt_number == nbb_cell_id) {\n",
       "                        if (nbb_cells[i].get_text() == nbb_unformatted_code) {\n",
       "                             nbb_cells[i].set_text(nbb_formatted_code);\n",
       "                        }\n",
       "                        break;\n",
       "                    }\n",
       "                }\n",
       "            }, 500);\n",
       "            "
      ],
      "text/plain": [
       "<IPython.core.display.Javascript object>"
      ]
     },
     "metadata": {},
     "output_type": "display_data"
    }
   ],
   "source": [
    "default[\"bank_size\"].describe()"
   ]
  },
  {
   "cell_type": "code",
   "execution_count": 52,
   "metadata": {},
   "outputs": [
    {
     "data": {
      "text/plain": [
       "1          169\n",
       "2          139\n",
       "3          189\n",
       "4          148\n",
       "5          136\n",
       "6          156\n",
       "7          119\n",
       "8          148\n",
       "9          131\n",
       "10         123\n",
       "11         154\n",
       "12         134\n",
       "13         105\n",
       "14         150\n",
       "15         144\n",
       "16         105\n",
       "17         111\n",
       "18          86\n",
       "19          85\n",
       "20         141\n",
       "21          51\n",
       "22          92\n",
       "23          85\n",
       "24         120\n",
       "25         101\n",
       "26         137\n",
       "27         105\n",
       "28         135\n",
       "29         108\n",
       "30         117\n",
       "31         146\n",
       "32          79\n",
       "33          72\n",
       "34          78\n",
       "35          56\n",
       "36          39\n",
       "37          58\n",
       "38          90\n",
       "39          72\n",
       "40         140\n",
       "41          62\n",
       "42          58\n",
       "43          65\n",
       "44         136\n",
       "45          45\n",
       "46          80\n",
       "47          69\n",
       "48         101\n",
       "49          99\n",
       "50          62\n",
       "51          35\n",
       "52          50\n",
       "53          83\n",
       "54          65\n",
       "55         138\n",
       "56          80\n",
       "57          30\n",
       "58          65\n",
       "59          38\n",
       "60          33\n",
       "61          82\n",
       "62          53\n",
       "63          73\n",
       "64          37\n",
       "65         101\n",
       "66          48\n",
       "67          44\n",
       "68          37\n",
       "69          46\n",
       "70         125\n",
       "71          64\n",
       "72          43\n",
       "73          58\n",
       "74         121\n",
       "75          51\n",
       "76          63\n",
       "77          46\n",
       "78          36\n",
       "79          82\n",
       "80          46\n",
       "81          71\n",
       "82          55\n",
       "83           7\n",
       "84          57\n",
       "85          29\n",
       "86          80\n",
       "87          60\n",
       "88          13\n",
       "89         101\n",
       "90          77\n",
       "91          35\n",
       "92          13\n",
       "93          59\n",
       "94          14\n",
       "95          85\n",
       "96          15\n",
       "97          27\n",
       "98          87\n",
       "99          21\n",
       "100         46\n",
       "101         53\n",
       "102         67\n",
       "103         15\n",
       "104         83\n",
       "105         75\n",
       "106         14\n",
       "107         64\n",
       "109         33\n",
       "110         30\n",
       "111         41\n",
       "112         43\n",
       "113         28\n",
       "114         32\n",
       "115        107\n",
       "116         39\n",
       "117         79\n",
       "118         41\n",
       "119         27\n",
       "120         54\n",
       "121         37\n",
       "122         58\n",
       "125         27\n",
       "126         81\n",
       "127         23\n",
       "128         82\n",
       "129        131\n",
       "131         77\n",
       "133        102\n",
       "134         26\n",
       "135         70\n",
       "136         30\n",
       "137         37\n",
       "139         22\n",
       "141          7\n",
       "142         22\n",
       "143         42\n",
       "144         49\n",
       "145          8\n",
       "146         20\n",
       "147        120\n",
       "148         43\n",
       "149         54\n",
       "151         18\n",
       "152         11\n",
       "153         11\n",
       "154         70\n",
       "155         35\n",
       "156        137\n",
       "157         32\n",
       "158         57\n",
       "159         16\n",
       "161          7\n",
       "162         31\n",
       "163         57\n",
       "164         10\n",
       "165         41\n",
       "167         47\n",
       "168         62\n",
       "169         19\n",
       "170         53\n",
       "171         66\n",
       "172        118\n",
       "173         16\n",
       "174         93\n",
       "177          6\n",
       "178         38\n",
       "179         63\n",
       "180         48\n",
       "182          8\n",
       "184        171\n",
       "185         82\n",
       "186         60\n",
       "187        108\n",
       "188        165\n",
       "189         69\n",
       "190         74\n",
       "191         50\n",
       "192         75\n",
       "194         70\n",
       "195         25\n",
       "196         71\n",
       "197         59\n",
       "198         14\n",
       "201         27\n",
       "203         31\n",
       "204         15\n",
       "205        101\n",
       "206         19\n",
       "207         64\n",
       "209         32\n",
       "210         41\n",
       "212         33\n",
       "213         60\n",
       "214         56\n",
       "216         23\n",
       "218         73\n",
       "221         45\n",
       "222         41\n",
       "225         65\n",
       "226         39\n",
       "228         24\n",
       "230         35\n",
       "231        138\n",
       "233         12\n",
       "236         30\n",
       "240         83\n",
       "242         50\n",
       "247         11\n",
       "250         55\n",
       "252         57\n",
       "255         32\n",
       "257         52\n",
       "258         81\n",
       "266         73\n",
       "267         71\n",
       "271         23\n",
       "273         60\n",
       "275         73\n",
       "276         11\n",
       "277         59\n",
       "278         22\n",
       "280         50\n",
       "285         45\n",
       "288         55\n",
       "289         85\n",
       "292         51\n",
       "296         25\n",
       "297         62\n",
       "298         44\n",
       "300         38\n",
       "305         47\n",
       "307         41\n",
       "311         26\n",
       "312         43\n",
       "313         67\n",
       "315         70\n",
       "317         46\n",
       "322        129\n",
       "323         74\n",
       "329         81\n",
       "333         38\n",
       "335         73\n",
       "337         71\n",
       "343         28\n",
       "345         64\n",
       "349        167\n",
       "353         55\n",
       "356         89\n",
       "358         85\n",
       "360         19\n",
       "361         41\n",
       "363         11\n",
       "371         89\n",
       "374         34\n",
       "376         47\n",
       "383         23\n",
       "385         41\n",
       "393         63\n",
       "397         52\n",
       "411         74\n",
       "414         53\n",
       "420         34\n",
       "421         52\n",
       "423         46\n",
       "428         46\n",
       "435         53\n",
       "436        378\n",
       "449         55\n",
       "453         48\n",
       "466        162\n",
       "474        106\n",
       "483        108\n",
       "495         87\n",
       "499         60\n",
       "500         46\n",
       "530         73\n",
       "535        148\n",
       "546         67\n",
       "561        129\n",
       "581        241\n",
       "594         99\n",
       "599         64\n",
       "601         94\n",
       "605         87\n",
       "608         91\n",
       "609        107\n",
       "632         54\n",
       "640         79\n",
       "676         79\n",
       "677        111\n",
       "679        204\n",
       "697         99\n",
       "699         87\n",
       "709         78\n",
       "721        160\n",
       "734        246\n",
       "735         70\n",
       "749        105\n",
       "784        153\n",
       "808        185\n",
       "815        103\n",
       "819        138\n",
       "821        156\n",
       "822        101\n",
       "824        256\n",
       "873        115\n",
       "913        363\n",
       "1012       122\n",
       "1042        82\n",
       "1094       111\n",
       "1113       118\n",
       "1232       142\n",
       "1318       145\n",
       "1364       143\n",
       "1560       206\n",
       "1563       218\n",
       "1705       240\n",
       "1819        45\n",
       "1918       152\n",
       "1997       335\n",
       "2004       486\n",
       "2128       789\n",
       "2320       414\n",
       "2563       418\n",
       "2690       471\n",
       "2818       473\n",
       "2844       284\n",
       "3283       802\n",
       "3295       190\n",
       "3296       799\n",
       "3309       462\n",
       "3373      1628\n",
       "3562       615\n",
       "3970      1417\n",
       "4042      2990\n",
       "4421      1691\n",
       "4594      1198\n",
       "4732       706\n",
       "5004      1409\n",
       "5418      2871\n",
       "5759       982\n",
       "6038      1305\n",
       "6077      1985\n",
       "6172      1068\n",
       "17951     4512\n",
       "19250    11008\n",
       "20370     5151\n",
       "21344     9097\n",
       "24752     6180\n",
       "30511     7365\n",
       "34974    11800\n",
       "64008    21854\n",
       "Name: bank_size, dtype: int64"
      ]
     },
     "execution_count": 52,
     "metadata": {},
     "output_type": "execute_result"
    },
    {
     "data": {
      "application/javascript": [
       "\n",
       "            setTimeout(function() {\n",
       "                var nbb_cell_id = 52;\n",
       "                var nbb_unformatted_code = \"default[\\\"bank_size\\\"].value_counts().sort_index()\";\n",
       "                var nbb_formatted_code = \"default[\\\"bank_size\\\"].value_counts().sort_index()\";\n",
       "                var nbb_cells = Jupyter.notebook.get_cells();\n",
       "                for (var i = 0; i < nbb_cells.length; ++i) {\n",
       "                    if (nbb_cells[i].input_prompt_number == nbb_cell_id) {\n",
       "                        if (nbb_cells[i].get_text() == nbb_unformatted_code) {\n",
       "                             nbb_cells[i].set_text(nbb_formatted_code);\n",
       "                        }\n",
       "                        break;\n",
       "                    }\n",
       "                }\n",
       "            }, 500);\n",
       "            "
      ],
      "text/plain": [
       "<IPython.core.display.Javascript object>"
      ]
     },
     "metadata": {},
     "output_type": "display_data"
    }
   ],
   "source": [
    "default[\"bank_size\"].value_counts().sort_index()"
   ]
  },
  {
   "cell_type": "code",
   "execution_count": 53,
   "metadata": {},
   "outputs": [
    {
     "name": "stderr",
     "output_type": "stream",
     "text": [
      "C:\\Users\\dgump\\miniconda3\\lib\\site-packages\\pandas\\core\\series.py:679: RuntimeWarning:\n",
      "\n",
      "divide by zero encountered in log\n",
      "\n"
     ]
    },
    {
     "data": {
      "image/png": "[encoded data removed]",
      "text/plain": [
       "<Figure size 432x288 with 1 Axes>"
      ]
     },
     "metadata": {
      "needs_background": "light"
     },
     "output_type": "display_data"
    },
    {
     "data": {
      "application/javascript": [
       "\n",
       "            setTimeout(function() {\n",
       "                var nbb_cell_id = 53;\n",
       "                var nbb_unformatted_code = \"sns.boxplot(np.log(default[\\\"NoEmp\\\"]))\\nplt.xlabel(\\\"Log of Number of Employees\\\")\\nplt.ylabel(\\\"Frequency\\\")\\nplt.show()\";\n",
       "                var nbb_formatted_code = \"sns.boxplot(np.log(default[\\\"NoEmp\\\"]))\\nplt.xlabel(\\\"Log of Number of Employees\\\")\\nplt.ylabel(\\\"Frequency\\\")\\nplt.show()\";\n",
       "                var nbb_cells = Jupyter.notebook.get_cells();\n",
       "                for (var i = 0; i < nbb_cells.length; ++i) {\n",
       "                    if (nbb_cells[i].input_prompt_number == nbb_cell_id) {\n",
       "                        if (nbb_cells[i].get_text() == nbb_unformatted_code) {\n",
       "                             nbb_cells[i].set_text(nbb_formatted_code);\n",
       "                        }\n",
       "                        break;\n",
       "                    }\n",
       "                }\n",
       "            }, 500);\n",
       "            "
      ],
      "text/plain": [
       "<IPython.core.display.Javascript object>"
      ]
     },
     "metadata": {},
     "output_type": "display_data"
    }
   ],
   "source": [
    "sns.boxplot(np.log(default[\"NoEmp\"]))\n",
    "plt.xlabel(\"Log of Number of Employees\")\n",
    "plt.ylabel(\"Frequency\")\n",
    "plt.show()"
   ]
  },
  {
   "cell_type": "code",
   "execution_count": 54,
   "metadata": {
    "scrolled": true
   },
   "outputs": [
    {
     "data": {
      "text/plain": [
       "0        1536\n",
       "1       30253\n",
       "2       24160\n",
       "3       15488\n",
       "4       11731\n",
       "5        9190\n",
       "6        6377\n",
       "7        4110\n",
       "8        3717\n",
       "9        1847\n",
       "10       3466\n",
       "11       1081\n",
       "12       2106\n",
       "13        758\n",
       "14        867\n",
       "15       1770\n",
       "16        559\n",
       "17        411\n",
       "18        575\n",
       "19        227\n",
       "20       1145\n",
       "21        248\n",
       "22        333\n",
       "23        199\n",
       "24        205\n",
       "25        712\n",
       "26        152\n",
       "27        111\n",
       "28        147\n",
       "29         64\n",
       "30        548\n",
       "31         63\n",
       "32        112\n",
       "33         60\n",
       "34         71\n",
       "35        271\n",
       "36         70\n",
       "37         34\n",
       "38         63\n",
       "39         29\n",
       "40        260\n",
       "41         27\n",
       "42         60\n",
       "43         26\n",
       "44         21\n",
       "45        145\n",
       "46         25\n",
       "47         25\n",
       "48         34\n",
       "49         15\n",
       "50        193\n",
       "51         10\n",
       "52         22\n",
       "53          8\n",
       "54         14\n",
       "55         52\n",
       "56         11\n",
       "57          8\n",
       "58          9\n",
       "59          7\n",
       "60        106\n",
       "61          5\n",
       "62          6\n",
       "63         11\n",
       "64          8\n",
       "65         51\n",
       "66          4\n",
       "67         10\n",
       "68         13\n",
       "70         38\n",
       "71          3\n",
       "72          8\n",
       "73          6\n",
       "74          8\n",
       "75         42\n",
       "76          5\n",
       "77          4\n",
       "78          3\n",
       "79          3\n",
       "80         36\n",
       "81          6\n",
       "82          7\n",
       "83          1\n",
       "84          2\n",
       "85         18\n",
       "86          3\n",
       "87          3\n",
       "88          4\n",
       "89          1\n",
       "90         17\n",
       "91          2\n",
       "92          2\n",
       "94          3\n",
       "95         13\n",
       "96          1\n",
       "97          3\n",
       "98          4\n",
       "99          1\n",
       "100        45\n",
       "102         2\n",
       "103         1\n",
       "104         3\n",
       "105         4\n",
       "108         2\n",
       "109         1\n",
       "110        11\n",
       "111         1\n",
       "115         5\n",
       "117         1\n",
       "118         1\n",
       "119         1\n",
       "120        11\n",
       "123         1\n",
       "125        10\n",
       "128         1\n",
       "130         7\n",
       "131         1\n",
       "132         1\n",
       "135         4\n",
       "138         3\n",
       "140        10\n",
       "143         1\n",
       "144         1\n",
       "145         3\n",
       "146         1\n",
       "149         1\n",
       "150        17\n",
       "151         1\n",
       "155         1\n",
       "160         3\n",
       "161         1\n",
       "165         1\n",
       "170         5\n",
       "172         2\n",
       "175         2\n",
       "179         2\n",
       "180         2\n",
       "185         2\n",
       "186         1\n",
       "187         1\n",
       "192         1\n",
       "195         1\n",
       "200         9\n",
       "202         1\n",
       "205         1\n",
       "210         2\n",
       "220         2\n",
       "230         2\n",
       "250         3\n",
       "290         2\n",
       "300         8\n",
       "316         1\n",
       "317         1\n",
       "318         1\n",
       "365         1\n",
       "400         4\n",
       "424         1\n",
       "430         1\n",
       "450         1\n",
       "454         1\n",
       "500         1\n",
       "1200        1\n",
       "1520        1\n",
       "1644        1\n",
       "3900        1\n",
       "4501        1\n",
       "4800        1\n",
       "7991        1\n",
       "8000        1\n",
       "Name: NoEmp, dtype: int64"
      ]
     },
     "execution_count": 54,
     "metadata": {},
     "output_type": "execute_result"
    },
    {
     "data": {
      "application/javascript": [
       "\n",
       "            setTimeout(function() {\n",
       "                var nbb_cell_id = 54;\n",
       "                var nbb_unformatted_code = \"default[\\\"NoEmp\\\"].value_counts().sort_index()\";\n",
       "                var nbb_formatted_code = \"default[\\\"NoEmp\\\"].value_counts().sort_index()\";\n",
       "                var nbb_cells = Jupyter.notebook.get_cells();\n",
       "                for (var i = 0; i < nbb_cells.length; ++i) {\n",
       "                    if (nbb_cells[i].input_prompt_number == nbb_cell_id) {\n",
       "                        if (nbb_cells[i].get_text() == nbb_unformatted_code) {\n",
       "                             nbb_cells[i].set_text(nbb_formatted_code);\n",
       "                        }\n",
       "                        break;\n",
       "                    }\n",
       "                }\n",
       "            }, 500);\n",
       "            "
      ],
      "text/plain": [
       "<IPython.core.display.Javascript object>"
      ]
     },
     "metadata": {},
     "output_type": "display_data"
    }
   ],
   "source": [
    "default[\"NoEmp\"].value_counts().sort_index()"
   ]
  },
  {
   "cell_type": "code",
   "execution_count": 55,
   "metadata": {},
   "outputs": [
    {
     "data": {
      "text/plain": [
       "count    126527.000000\n",
       "mean          5.906755\n",
       "std          40.397544\n",
       "min           0.000000\n",
       "25%           1.000000\n",
       "50%           3.000000\n",
       "75%           6.000000\n",
       "max        8000.000000\n",
       "Name: NoEmp, dtype: float64"
      ]
     },
     "execution_count": 55,
     "metadata": {},
     "output_type": "execute_result"
    },
    {
     "data": {
      "application/javascript": [
       "\n",
       "            setTimeout(function() {\n",
       "                var nbb_cell_id = 55;\n",
       "                var nbb_unformatted_code = \"default[\\\"NoEmp\\\"].describe()\";\n",
       "                var nbb_formatted_code = \"default[\\\"NoEmp\\\"].describe()\";\n",
       "                var nbb_cells = Jupyter.notebook.get_cells();\n",
       "                for (var i = 0; i < nbb_cells.length; ++i) {\n",
       "                    if (nbb_cells[i].input_prompt_number == nbb_cell_id) {\n",
       "                        if (nbb_cells[i].get_text() == nbb_unformatted_code) {\n",
       "                             nbb_cells[i].set_text(nbb_formatted_code);\n",
       "                        }\n",
       "                        break;\n",
       "                    }\n",
       "                }\n",
       "            }, 500);\n",
       "            "
      ],
      "text/plain": [
       "<IPython.core.display.Javascript object>"
      ]
     },
     "metadata": {},
     "output_type": "display_data"
    }
   ],
   "source": [
    "default[\"NoEmp\"].describe()"
   ]
  },
  {
   "cell_type": "code",
   "execution_count": 96,
   "metadata": {},
   "outputs": [
    {
     "data": {
      "image/png": "[encoded data removed]",
      "text/plain": [
       "<Figure size 432x288 with 1 Axes>"
      ]
     },
     "metadata": {
      "needs_background": "light"
     },
     "output_type": "display_data"
    },
    {
     "data": {
      "application/javascript": [
       "\n",
       "            setTimeout(function() {\n",
       "                var nbb_cell_id = 96;\n",
       "                var nbb_unformatted_code = \"sns.distplot(default[\\\"CreateJob\\\"])\\nplt.xlabel(\\\"Jobs Created\\\")\\nplt.show()\";\n",
       "                var nbb_formatted_code = \"sns.distplot(default[\\\"CreateJob\\\"])\\nplt.xlabel(\\\"Jobs Created\\\")\\nplt.show()\";\n",
       "                var nbb_cells = Jupyter.notebook.get_cells();\n",
       "                for (var i = 0; i < nbb_cells.length; ++i) {\n",
       "                    if (nbb_cells[i].input_prompt_number == nbb_cell_id) {\n",
       "                        if (nbb_cells[i].get_text() == nbb_unformatted_code) {\n",
       "                             nbb_cells[i].set_text(nbb_formatted_code);\n",
       "                        }\n",
       "                        break;\n",
       "                    }\n",
       "                }\n",
       "            }, 500);\n",
       "            "
      ],
      "text/plain": [
       "<IPython.core.display.Javascript object>"
      ]
     },
     "metadata": {},
     "output_type": "display_data"
    }
   ],
   "source": [
    "sns.distplot(default[\"CreateJob\"])\n",
    "plt.xlabel(\"Jobs Created\")\n",
    "plt.show()"
   ]
  },
  {
   "cell_type": "code",
   "execution_count": 99,
   "metadata": {},
   "outputs": [
    {
     "data": {
      "text/plain": [
       "0       72688\n",
       "1       17685\n",
       "2       14325\n",
       "3        6073\n",
       "4        3810\n",
       "5        3145\n",
       "6        1554\n",
       "7         730\n",
       "8         920\n",
       "9         377\n",
       "10       1605\n",
       "11        166\n",
       "12        448\n",
       "13        172\n",
       "14        198\n",
       "15        588\n",
       "16        111\n",
       "17         60\n",
       "18        123\n",
       "19         71\n",
       "20        461\n",
       "21         29\n",
       "22         54\n",
       "23         54\n",
       "24         51\n",
       "25        201\n",
       "26         27\n",
       "27         25\n",
       "28         40\n",
       "29         16\n",
       "30        167\n",
       "31          7\n",
       "32         18\n",
       "33         15\n",
       "34         12\n",
       "35         43\n",
       "36         14\n",
       "37          8\n",
       "38         13\n",
       "39         10\n",
       "40         70\n",
       "41          2\n",
       "42          5\n",
       "43          4\n",
       "44          2\n",
       "45         18\n",
       "46          4\n",
       "47          2\n",
       "48          1\n",
       "49         10\n",
       "50         73\n",
       "51          2\n",
       "52          3\n",
       "53          1\n",
       "54          5\n",
       "55          9\n",
       "56          2\n",
       "58          2\n",
       "59          1\n",
       "60         18\n",
       "63          1\n",
       "64          1\n",
       "65          7\n",
       "67          1\n",
       "68          3\n",
       "69          2\n",
       "70          3\n",
       "72          3\n",
       "73          1\n",
       "75          8\n",
       "77          2\n",
       "78          3\n",
       "79          1\n",
       "80         10\n",
       "81          1\n",
       "82          1\n",
       "84          1\n",
       "85          3\n",
       "90          6\n",
       "95          3\n",
       "96          1\n",
       "97          3\n",
       "98          3\n",
       "99          2\n",
       "100        24\n",
       "102         1\n",
       "105         1\n",
       "108         1\n",
       "110         2\n",
       "112         1\n",
       "123         1\n",
       "126         1\n",
       "131         1\n",
       "140         1\n",
       "149         1\n",
       "150         4\n",
       "151         1\n",
       "154         1\n",
       "160         2\n",
       "170         1\n",
       "174         1\n",
       "200         5\n",
       "409         1\n",
       "450        22\n",
       "451        15\n",
       "452         5\n",
       "453         2\n",
       "454         5\n",
       "455         1\n",
       "456         2\n",
       "457         1\n",
       "458         1\n",
       "500         1\n",
       "600         1\n",
       "1200        1\n",
       "1618        1\n",
       "Name: CreateJob, dtype: int64"
      ]
     },
     "execution_count": 99,
     "metadata": {},
     "output_type": "execute_result"
    },
    {
     "data": {
      "application/javascript": [
       "\n",
       "            setTimeout(function() {\n",
       "                var nbb_cell_id = 99;\n",
       "                var nbb_unformatted_code = \"default[\\\"CreateJob\\\"].value_counts().sort_index()\";\n",
       "                var nbb_formatted_code = \"default[\\\"CreateJob\\\"].value_counts().sort_index()\";\n",
       "                var nbb_cells = Jupyter.notebook.get_cells();\n",
       "                for (var i = 0; i < nbb_cells.length; ++i) {\n",
       "                    if (nbb_cells[i].input_prompt_number == nbb_cell_id) {\n",
       "                        if (nbb_cells[i].get_text() == nbb_unformatted_code) {\n",
       "                             nbb_cells[i].set_text(nbb_formatted_code);\n",
       "                        }\n",
       "                        break;\n",
       "                    }\n",
       "                }\n",
       "            }, 500);\n",
       "            "
      ],
      "text/plain": [
       "<IPython.core.display.Javascript object>"
      ]
     },
     "metadata": {},
     "output_type": "display_data"
    }
   ],
   "source": [
    "default[\"CreateJob\"].value_counts().sort_index()"
   ]
  },
  {
   "cell_type": "code",
   "execution_count": 58,
   "metadata": {},
   "outputs": [
    {
     "data": {
      "image/png": "[encoded data removed]",
      "text/plain": [
       "<Figure size 432x288 with 1 Axes>"
      ]
     },
     "metadata": {
      "needs_background": "light"
     },
     "output_type": "display_data"
    },
    {
     "data": {
      "application/javascript": [
       "\n",
       "            setTimeout(function() {\n",
       "                var nbb_cell_id = 58;\n",
       "                var nbb_unformatted_code = \"sns.countplot(x=\\\"NewExist\\\", data=default)\\nplt.xlabel(\\\"Bank Out Of State\\\")\\nplt.show()\";\n",
       "                var nbb_formatted_code = \"sns.countplot(x=\\\"NewExist\\\", data=default)\\nplt.xlabel(\\\"Bank Out Of State\\\")\\nplt.show()\";\n",
       "                var nbb_cells = Jupyter.notebook.get_cells();\n",
       "                for (var i = 0; i < nbb_cells.length; ++i) {\n",
       "                    if (nbb_cells[i].input_prompt_number == nbb_cell_id) {\n",
       "                        if (nbb_cells[i].get_text() == nbb_unformatted_code) {\n",
       "                             nbb_cells[i].set_text(nbb_formatted_code);\n",
       "                        }\n",
       "                        break;\n",
       "                    }\n",
       "                }\n",
       "            }, 500);\n",
       "            "
      ],
      "text/plain": [
       "<IPython.core.display.Javascript object>"
      ]
     },
     "metadata": {},
     "output_type": "display_data"
    }
   ],
   "source": [
    "sns.countplot(x=\"NewExist\", data=default)\n",
    "plt.xlabel(\"Bank Out Of State\")\n",
    "plt.show()"
   ]
  },
  {
   "cell_type": "code",
   "execution_count": 59,
   "metadata": {},
   "outputs": [
    {
     "data": {
      "text/plain": [
       "0    0.711421\n",
       "1    0.288579\n",
       "Name: NewExist, dtype: float64"
      ]
     },
     "execution_count": 59,
     "metadata": {},
     "output_type": "execute_result"
    },
    {
     "data": {
      "application/javascript": [
       "\n",
       "            setTimeout(function() {\n",
       "                var nbb_cell_id = 59;\n",
       "                var nbb_unformatted_code = \"default[\\\"NewExist\\\"].value_counts(normalize=True)\";\n",
       "                var nbb_formatted_code = \"default[\\\"NewExist\\\"].value_counts(normalize=True)\";\n",
       "                var nbb_cells = Jupyter.notebook.get_cells();\n",
       "                for (var i = 0; i < nbb_cells.length; ++i) {\n",
       "                    if (nbb_cells[i].input_prompt_number == nbb_cell_id) {\n",
       "                        if (nbb_cells[i].get_text() == nbb_unformatted_code) {\n",
       "                             nbb_cells[i].set_text(nbb_formatted_code);\n",
       "                        }\n",
       "                        break;\n",
       "                    }\n",
       "                }\n",
       "            }, 500);\n",
       "            "
      ],
      "text/plain": [
       "<IPython.core.display.Javascript object>"
      ]
     },
     "metadata": {},
     "output_type": "display_data"
    }
   ],
   "source": [
    "default[\"NewExist\"].value_counts(normalize=True)"
   ]
  },
  {
   "cell_type": "code",
   "execution_count": 60,
   "metadata": {},
   "outputs": [
    {
     "data": {
      "image/png": "[encoded data removed]",
      "text/plain": [
       "<Figure size 432x288 with 1 Axes>"
      ]
     },
     "metadata": {
      "needs_background": "light"
     },
     "output_type": "display_data"
    },
    {
     "data": {
      "application/javascript": [
       "\n",
       "            setTimeout(function() {\n",
       "                var nbb_cell_id = 60;\n",
       "                var nbb_unformatted_code = \"sns.countplot(x=\\\"bank_out_of_state\\\", data=default)\\nplt.xlabel(\\\"Bank Out Of State\\\")\\nplt.show()\";\n",
       "                var nbb_formatted_code = \"sns.countplot(x=\\\"bank_out_of_state\\\", data=default)\\nplt.xlabel(\\\"Bank Out Of State\\\")\\nplt.show()\";\n",
       "                var nbb_cells = Jupyter.notebook.get_cells();\n",
       "                for (var i = 0; i < nbb_cells.length; ++i) {\n",
       "                    if (nbb_cells[i].input_prompt_number == nbb_cell_id) {\n",
       "                        if (nbb_cells[i].get_text() == nbb_unformatted_code) {\n",
       "                             nbb_cells[i].set_text(nbb_formatted_code);\n",
       "                        }\n",
       "                        break;\n",
       "                    }\n",
       "                }\n",
       "            }, 500);\n",
       "            "
      ],
      "text/plain": [
       "<IPython.core.display.Javascript object>"
      ]
     },
     "metadata": {},
     "output_type": "display_data"
    }
   ],
   "source": [
    "sns.countplot(x=\"bank_out_of_state\", data=default)\n",
    "plt.xlabel(\"Bank Out Of State\")\n",
    "plt.show()"
   ]
  },
  {
   "cell_type": "code",
   "execution_count": 61,
   "metadata": {},
   "outputs": [
    {
     "data": {
      "text/plain": [
       "0    0.744474\n",
       "1    0.255526\n",
       "Name: bank_out_of_state, dtype: float64"
      ]
     },
     "execution_count": 61,
     "metadata": {},
     "output_type": "execute_result"
    },
    {
     "data": {
      "application/javascript": [
       "\n",
       "            setTimeout(function() {\n",
       "                var nbb_cell_id = 61;\n",
       "                var nbb_unformatted_code = \"default[\\\"bank_out_of_state\\\"].value_counts(normalize=True)\";\n",
       "                var nbb_formatted_code = \"default[\\\"bank_out_of_state\\\"].value_counts(normalize=True)\";\n",
       "                var nbb_cells = Jupyter.notebook.get_cells();\n",
       "                for (var i = 0; i < nbb_cells.length; ++i) {\n",
       "                    if (nbb_cells[i].input_prompt_number == nbb_cell_id) {\n",
       "                        if (nbb_cells[i].get_text() == nbb_unformatted_code) {\n",
       "                             nbb_cells[i].set_text(nbb_formatted_code);\n",
       "                        }\n",
       "                        break;\n",
       "                    }\n",
       "                }\n",
       "            }, 500);\n",
       "            "
      ],
      "text/plain": [
       "<IPython.core.display.Javascript object>"
      ]
     },
     "metadata": {},
     "output_type": "display_data"
    }
   ],
   "source": [
    "default[\"bank_out_of_state\"].value_counts(normalize=True)"
   ]
  },
  {
   "cell_type": "code",
   "execution_count": 110,
   "metadata": {},
   "outputs": [
    {
     "data": {
      "text/plain": [
       "State  bank_out_of_state\n",
       "AK     0                    0.653061\n",
       "       1                    0.346939\n",
       "AL     0                    0.799386\n",
       "       1                    0.200614\n",
       "AR     1                    0.525602\n",
       "       0                    0.474398\n",
       "AZ     0                    0.961575\n",
       "       1                    0.038425\n",
       "CA     0                    0.645089\n",
       "       1                    0.354911\n",
       "CO     0                    0.928758\n",
       "       1                    0.071242\n",
       "CT     0                    0.768413\n",
       "       1                    0.231587\n",
       "DC     0                    0.977186\n",
       "       1                    0.022814\n",
       "DE     0                    0.682353\n",
       "       1                    0.317647\n",
       "FL     0                    0.933467\n",
       "       1                    0.066533\n",
       "GA     0                    0.870803\n",
       "       1                    0.129197\n",
       "HI     0                    0.510740\n",
       "       1                    0.489260\n",
       "IA     1                    0.629802\n",
       "       0                    0.370198\n",
       "ID     0                    0.744476\n",
       "       1                    0.255524\n",
       "IL     0                    0.669865\n",
       "       1                    0.330135\n",
       "IN     0                    0.793103\n",
       "       1                    0.206897\n",
       "KS     0                    0.622222\n",
       "       1                    0.377778\n",
       "KY     0                    0.731401\n",
       "       1                    0.268599\n",
       "LA     0                    0.865467\n",
       "       1                    0.134533\n",
       "MA     0                    0.795911\n",
       "       1                    0.204089\n",
       "MD     0                    0.879028\n",
       "       1                    0.120972\n",
       "ME     0                    0.624697\n",
       "       1                    0.375303\n",
       "MI     0                    0.906697\n",
       "       1                    0.093303\n",
       "MN     0                    0.576742\n",
       "       1                    0.423258\n",
       "MO     0                    0.607753\n",
       "       1                    0.392247\n",
       "MS     0                    0.730682\n",
       "       1                    0.269318\n",
       "MT     1                    0.532308\n",
       "       0                    0.467692\n",
       "NC     0                    0.616993\n",
       "       1                    0.383007\n",
       "ND     1                    0.797814\n",
       "       0                    0.202186\n",
       "NE     1                    0.611111\n",
       "       0                    0.388889\n",
       "NH     0                    0.786993\n",
       "       1                    0.213007\n",
       "NJ     0                    0.907959\n",
       "       1                    0.092041\n",
       "NM     0                    0.727749\n",
       "       1                    0.272251\n",
       "NV     0                    0.889032\n",
       "       1                    0.110968\n",
       "NY     0                    0.787562\n",
       "       1                    0.212438\n",
       "OH     0                    0.620244\n",
       "       1                    0.379756\n",
       "OK     0                    0.575490\n",
       "       1                    0.424510\n",
       "OR     0                    0.854816\n",
       "       1                    0.145184\n",
       "PA     0                    0.829209\n",
       "       1                    0.170791\n",
       "RI     1                    0.813842\n",
       "       0                    0.186158\n",
       "SC     0                    0.865672\n",
       "       1                    0.134328\n",
       "SD     1                    0.752475\n",
       "       0                    0.247525\n",
       "TN     0                    0.889174\n",
       "       1                    0.110826\n",
       "TX     0                    0.769937\n",
       "       1                    0.230063\n",
       "UT     1                    0.740034\n",
       "       0                    0.259966\n",
       "VA     0                    0.820175\n",
       "       1                    0.179825\n",
       "VT     0                    0.666667\n",
       "       1                    0.333333\n",
       "WA     0                    0.828177\n",
       "       1                    0.171823\n",
       "WI     1                    0.565043\n",
       "       0                    0.434957\n",
       "WV     0                    0.795987\n",
       "       1                    0.204013\n",
       "WY     0                    0.567010\n",
       "       1                    0.432990\n",
       "Name: bank_out_of_state, dtype: float64"
      ]
     },
     "execution_count": 110,
     "metadata": {},
     "output_type": "execute_result"
    },
    {
     "data": {
      "application/javascript": [
       "\n",
       "            setTimeout(function() {\n",
       "                var nbb_cell_id = 110;\n",
       "                var nbb_unformatted_code = \"# long out put\\ndefault.groupby(\\\"State\\\")[\\\"bank_out_of_state\\\"].value_counts(normalize=True)\";\n",
       "                var nbb_formatted_code = \"# long out put\\ndefault.groupby(\\\"State\\\")[\\\"bank_out_of_state\\\"].value_counts(normalize=True)\";\n",
       "                var nbb_cells = Jupyter.notebook.get_cells();\n",
       "                for (var i = 0; i < nbb_cells.length; ++i) {\n",
       "                    if (nbb_cells[i].input_prompt_number == nbb_cell_id) {\n",
       "                        if (nbb_cells[i].get_text() == nbb_unformatted_code) {\n",
       "                             nbb_cells[i].set_text(nbb_formatted_code);\n",
       "                        }\n",
       "                        break;\n",
       "                    }\n",
       "                }\n",
       "            }, 500);\n",
       "            "
      ],
      "text/plain": [
       "<IPython.core.display.Javascript object>"
      ]
     },
     "metadata": {},
     "output_type": "display_data"
    }
   ],
   "source": [
    "# long out put\n",
    "# default.groupby(\"State\")[\"bank_out_of_state\"].value_counts(normalize=True)"
   ]
  },
  {
   "cell_type": "code",
   "execution_count": null,
   "metadata": {},
   "outputs": [],
   "source": []
  },
  {
   "cell_type": "code",
   "execution_count": null,
   "metadata": {},
   "outputs": [],
   "source": []
  }
 ],
 "metadata": {
  "kernelspec": {
   "display_name": "Python 3",
   "language": "python",
   "name": "python3"
  },
  "language_info": {
   "codemirror_mode": {
    "name": "ipython",
    "version": 3
   },
   "file_extension": ".py",
   "mimetype": "text/x-python",
   "name": "python",
   "nbconvert_exporter": "python",
   "pygments_lexer": "ipython3",
   "version": "3.7.6"
  }
 },
 "nbformat": 4,
 "nbformat_minor": 4
}
