{
 "cells": [
  {
   "cell_type": "code",
   "execution_count": 1,
   "metadata": {},
   "outputs": [
    {
     "data": {
      "application/javascript": [
       "\n",
       "            setTimeout(function() {\n",
       "                var nbb_cell_id = 1;\n",
       "                var nbb_unformatted_code = \"%reload_ext nb_black\";\n",
       "                var nbb_formatted_code = \"%reload_ext nb_black\";\n",
       "                var nbb_cells = Jupyter.notebook.get_cells();\n",
       "                for (var i = 0; i < nbb_cells.length; ++i) {\n",
       "                    if (nbb_cells[i].input_prompt_number == nbb_cell_id) {\n",
       "                        if (nbb_cells[i].get_text() == nbb_unformatted_code) {\n",
       "                             nbb_cells[i].set_text(nbb_formatted_code);\n",
       "                        }\n",
       "                        break;\n",
       "                    }\n",
       "                }\n",
       "            }, 500);\n",
       "            "
      ],
      "text/plain": [
       "<IPython.core.display.Javascript object>"
      ]
     },
     "metadata": {},
     "output_type": "display_data"
    }
   ],
   "source": [
    "%reload_ext nb_black"
   ]
  },
  {
   "cell_type": "code",
   "execution_count": 2,
   "metadata": {},
   "outputs": [
    {
     "data": {
      "application/javascript": [
       "\n",
       "            setTimeout(function() {\n",
       "                var nbb_cell_id = 2;\n",
       "                var nbb_unformatted_code = \"import numpy as np\\nimport pandas as pd\\nfrom matplotlib import pyplot as plt\\nimport seaborn as sns\\nfrom pyclustering.cluster.kmedoids import kmedoids\\nfrom sklearn.cluster import AgglomerativeClustering, DBSCAN\\nfrom umap import UMAP\\nfrom sklearn.preprocessing import StandardScaler\\nimport prince\\n\\nimport gower\\n\\nimport plotly.express as px\\nfrom ipywidgets import interact\\n\\n%matplotlib inline\\npd.options.display.max_rows = 999\\npd.options.display.max_columns = 999\";\n",
       "                var nbb_formatted_code = \"import numpy as np\\nimport pandas as pd\\nfrom matplotlib import pyplot as plt\\nimport seaborn as sns\\nfrom pyclustering.cluster.kmedoids import kmedoids\\nfrom sklearn.cluster import AgglomerativeClustering, DBSCAN\\nfrom umap import UMAP\\nfrom sklearn.preprocessing import StandardScaler\\nimport prince\\n\\nimport gower\\n\\nimport plotly.express as px\\nfrom ipywidgets import interact\\n\\n%matplotlib inline\\npd.options.display.max_rows = 999\\npd.options.display.max_columns = 999\";\n",
       "                var nbb_cells = Jupyter.notebook.get_cells();\n",
       "                for (var i = 0; i < nbb_cells.length; ++i) {\n",
       "                    if (nbb_cells[i].input_prompt_number == nbb_cell_id) {\n",
       "                        if (nbb_cells[i].get_text() == nbb_unformatted_code) {\n",
       "                             nbb_cells[i].set_text(nbb_formatted_code);\n",
       "                        }\n",
       "                        break;\n",
       "                    }\n",
       "                }\n",
       "            }, 500);\n",
       "            "
      ],
      "text/plain": [
       "<IPython.core.display.Javascript object>"
      ]
     },
     "metadata": {},
     "output_type": "display_data"
    }
   ],
   "source": [
    "import numpy as np\n",
    "import pandas as pd\n",
    "from matplotlib import pyplot as plt\n",
    "import seaborn as sns\n",
    "from pyclustering.cluster.kmedoids import kmedoids\n",
    "from sklearn.cluster import AgglomerativeClustering, DBSCAN\n",
    "from umap import UMAP\n",
    "from sklearn.preprocessing import StandardScaler\n",
    "import prince\n",
    "\n",
    "import gower\n",
    "\n",
    "import plotly.express as px\n",
    "from ipywidgets import interact\n",
    "\n",
    "%matplotlib inline\n",
    "pd.options.display.max_rows = 999\n",
    "pd.options.display.max_columns = 999"
   ]
  },
  {
   "cell_type": "code",
   "execution_count": 3,
   "metadata": {},
   "outputs": [
    {
     "data": {
      "text/html": [
       "<div>\n",
       "<style scoped>\n",
       "    .dataframe tbody tr th:only-of-type {\n",
       "        vertical-align: middle;\n",
       "    }\n",
       "\n",
       "    .dataframe tbody tr th {\n",
       "        vertical-align: top;\n",
       "    }\n",
       "\n",
       "    .dataframe thead th {\n",
       "        text-align: right;\n",
       "    }\n",
       "</style>\n",
       "<table border=\"1\" class=\"dataframe\">\n",
       "  <thead>\n",
       "    <tr style=\"text-align: right;\">\n",
       "      <th></th>\n",
       "      <th>Name</th>\n",
       "      <th>City</th>\n",
       "      <th>State</th>\n",
       "      <th>Zip</th>\n",
       "      <th>Bank</th>\n",
       "      <th>BankState</th>\n",
       "      <th>ApprovalFY</th>\n",
       "      <th>NoEmp</th>\n",
       "      <th>NewExist</th>\n",
       "      <th>CreateJob</th>\n",
       "      <th>RetainedJob</th>\n",
       "      <th>RevLineCr</th>\n",
       "      <th>LowDoc</th>\n",
       "      <th>DisbursementGross</th>\n",
       "      <th>MIS_Status</th>\n",
       "      <th>twoDigNAICS</th>\n",
       "      <th>is_franchise</th>\n",
       "      <th>bank_out_of_state</th>\n",
       "      <th>Term_years</th>\n",
       "      <th>UrbanRural_cleaned</th>\n",
       "      <th>Disbr_year</th>\n",
       "      <th>Disbr_Month_sin</th>\n",
       "      <th>Disbr_Month_cos</th>\n",
       "      <th>sba_pre_approv</th>\n",
       "      <th>percent_SBA</th>\n",
       "      <th>bank_size</th>\n",
       "      <th>Appv_Month_sin</th>\n",
       "      <th>Appv_Month_cos</th>\n",
       "    </tr>\n",
       "  </thead>\n",
       "  <tbody>\n",
       "    <tr>\n",
       "      <th>0</th>\n",
       "      <td>CARVEL</td>\n",
       "      <td>APEX</td>\n",
       "      <td>NC</td>\n",
       "      <td>27502</td>\n",
       "      <td>STEARNS BK NATL ASSOC</td>\n",
       "      <td>MN</td>\n",
       "      <td>2006</td>\n",
       "      <td>2</td>\n",
       "      <td>1</td>\n",
       "      <td>0</td>\n",
       "      <td>0</td>\n",
       "      <td>0.0</td>\n",
       "      <td>0.0</td>\n",
       "      <td>253400.0</td>\n",
       "      <td>0</td>\n",
       "      <td>44</td>\n",
       "      <td>1.0</td>\n",
       "      <td>0</td>\n",
       "      <td>13.500000</td>\n",
       "      <td>0.0</td>\n",
       "      <td>2006</td>\n",
       "      <td>0.866025</td>\n",
       "      <td>5.000000e-01</td>\n",
       "      <td>1.0</td>\n",
       "      <td>0.75</td>\n",
       "      <td>1.0</td>\n",
       "      <td>0.5</td>\n",
       "      <td>0.866025</td>\n",
       "    </tr>\n",
       "    <tr>\n",
       "      <th>1</th>\n",
       "      <td>SUBWAY</td>\n",
       "      <td>LITTLE ROCK</td>\n",
       "      <td>AR</td>\n",
       "      <td>72223</td>\n",
       "      <td>HOPE FCU</td>\n",
       "      <td>MS</td>\n",
       "      <td>2006</td>\n",
       "      <td>7</td>\n",
       "      <td>0</td>\n",
       "      <td>0</td>\n",
       "      <td>0</td>\n",
       "      <td>0.0</td>\n",
       "      <td>0.0</td>\n",
       "      <td>137300.0</td>\n",
       "      <td>0</td>\n",
       "      <td>72</td>\n",
       "      <td>0.0</td>\n",
       "      <td>0</td>\n",
       "      <td>10.500000</td>\n",
       "      <td>0.0</td>\n",
       "      <td>2006</td>\n",
       "      <td>1.000000</td>\n",
       "      <td>6.123234e-17</td>\n",
       "      <td>1.0</td>\n",
       "      <td>0.85</td>\n",
       "      <td>0.0</td>\n",
       "      <td>0.5</td>\n",
       "      <td>0.866025</td>\n",
       "    </tr>\n",
       "    <tr>\n",
       "      <th>2</th>\n",
       "      <td>WEYLAND CORPORATION</td>\n",
       "      <td>CAMARILLO</td>\n",
       "      <td>CA</td>\n",
       "      <td>93010</td>\n",
       "      <td>WELLS FARGO BANK NATL ASSOC</td>\n",
       "      <td>SD</td>\n",
       "      <td>2006</td>\n",
       "      <td>18</td>\n",
       "      <td>1</td>\n",
       "      <td>5</td>\n",
       "      <td>23</td>\n",
       "      <td>1.0</td>\n",
       "      <td>0.0</td>\n",
       "      <td>438541.0</td>\n",
       "      <td>0</td>\n",
       "      <td>61</td>\n",
       "      <td>0.0</td>\n",
       "      <td>0</td>\n",
       "      <td>6.916667</td>\n",
       "      <td>0.0</td>\n",
       "      <td>2006</td>\n",
       "      <td>0.500000</td>\n",
       "      <td>8.660254e-01</td>\n",
       "      <td>1.0</td>\n",
       "      <td>0.50</td>\n",
       "      <td>2.0</td>\n",
       "      <td>0.5</td>\n",
       "      <td>0.866025</td>\n",
       "    </tr>\n",
       "    <tr>\n",
       "      <th>3</th>\n",
       "      <td>CHICAGO BRICK UNLIMITED INC</td>\n",
       "      <td>MIAMI</td>\n",
       "      <td>FL</td>\n",
       "      <td>33186</td>\n",
       "      <td>CITIBANK, N.A.</td>\n",
       "      <td>FL</td>\n",
       "      <td>2006</td>\n",
       "      <td>4</td>\n",
       "      <td>0</td>\n",
       "      <td>0</td>\n",
       "      <td>4</td>\n",
       "      <td>1.0</td>\n",
       "      <td>0.0</td>\n",
       "      <td>51440.0</td>\n",
       "      <td>0</td>\n",
       "      <td>23</td>\n",
       "      <td>0.0</td>\n",
       "      <td>1</td>\n",
       "      <td>7.000000</td>\n",
       "      <td>0.0</td>\n",
       "      <td>2006</td>\n",
       "      <td>0.500000</td>\n",
       "      <td>8.660254e-01</td>\n",
       "      <td>1.0</td>\n",
       "      <td>0.50</td>\n",
       "      <td>2.0</td>\n",
       "      <td>0.5</td>\n",
       "      <td>0.866025</td>\n",
       "    </tr>\n",
       "    <tr>\n",
       "      <th>4</th>\n",
       "      <td>RZI, INC.</td>\n",
       "      <td>NEW ORLEANS</td>\n",
       "      <td>LA</td>\n",
       "      <td>70130</td>\n",
       "      <td>BUSINESS RES. CAP. SPECIALTY B</td>\n",
       "      <td>LA</td>\n",
       "      <td>2006</td>\n",
       "      <td>3</td>\n",
       "      <td>0</td>\n",
       "      <td>0</td>\n",
       "      <td>0</td>\n",
       "      <td>0.0</td>\n",
       "      <td>0.0</td>\n",
       "      <td>50000.0</td>\n",
       "      <td>0</td>\n",
       "      <td>53</td>\n",
       "      <td>0.0</td>\n",
       "      <td>1</td>\n",
       "      <td>5.000000</td>\n",
       "      <td>0.0</td>\n",
       "      <td>2006</td>\n",
       "      <td>0.866025</td>\n",
       "      <td>-5.000000e-01</td>\n",
       "      <td>1.0</td>\n",
       "      <td>0.85</td>\n",
       "      <td>0.0</td>\n",
       "      <td>0.5</td>\n",
       "      <td>0.866025</td>\n",
       "    </tr>\n",
       "  </tbody>\n",
       "</table>\n",
       "</div>"
      ],
      "text/plain": [
       "                          Name         City State    Zip  \\\n",
       "0                       CARVEL         APEX    NC  27502   \n",
       "1                       SUBWAY  LITTLE ROCK    AR  72223   \n",
       "2          WEYLAND CORPORATION    CAMARILLO    CA  93010   \n",
       "3  CHICAGO BRICK UNLIMITED INC        MIAMI    FL  33186   \n",
       "4                    RZI, INC.  NEW ORLEANS    LA  70130   \n",
       "\n",
       "                             Bank BankState  ApprovalFY  NoEmp  NewExist  \\\n",
       "0           STEARNS BK NATL ASSOC        MN        2006      2         1   \n",
       "1                        HOPE FCU        MS        2006      7         0   \n",
       "2     WELLS FARGO BANK NATL ASSOC        SD        2006     18         1   \n",
       "3                  CITIBANK, N.A.        FL        2006      4         0   \n",
       "4  BUSINESS RES. CAP. SPECIALTY B        LA        2006      3         0   \n",
       "\n",
       "   CreateJob  RetainedJob  RevLineCr  LowDoc  DisbursementGross  MIS_Status  \\\n",
       "0          0            0        0.0     0.0           253400.0           0   \n",
       "1          0            0        0.0     0.0           137300.0           0   \n",
       "2          5           23        1.0     0.0           438541.0           0   \n",
       "3          0            4        1.0     0.0            51440.0           0   \n",
       "4          0            0        0.0     0.0            50000.0           0   \n",
       "\n",
       "   twoDigNAICS  is_franchise  bank_out_of_state  Term_years  \\\n",
       "0           44           1.0                  0   13.500000   \n",
       "1           72           0.0                  0   10.500000   \n",
       "2           61           0.0                  0    6.916667   \n",
       "3           23           0.0                  1    7.000000   \n",
       "4           53           0.0                  1    5.000000   \n",
       "\n",
       "   UrbanRural_cleaned  Disbr_year  Disbr_Month_sin  Disbr_Month_cos  \\\n",
       "0                 0.0        2006         0.866025     5.000000e-01   \n",
       "1                 0.0        2006         1.000000     6.123234e-17   \n",
       "2                 0.0        2006         0.500000     8.660254e-01   \n",
       "3                 0.0        2006         0.500000     8.660254e-01   \n",
       "4                 0.0        2006         0.866025    -5.000000e-01   \n",
       "\n",
       "   sba_pre_approv  percent_SBA  bank_size  Appv_Month_sin  Appv_Month_cos  \n",
       "0             1.0         0.75        1.0             0.5        0.866025  \n",
       "1             1.0         0.85        0.0             0.5        0.866025  \n",
       "2             1.0         0.50        2.0             0.5        0.866025  \n",
       "3             1.0         0.50        2.0             0.5        0.866025  \n",
       "4             1.0         0.85        0.0             0.5        0.866025  "
      ]
     },
     "execution_count": 3,
     "metadata": {},
     "output_type": "execute_result"
    },
    {
     "data": {
      "application/javascript": [
       "\n",
       "            setTimeout(function() {\n",
       "                var nbb_cell_id = 3;\n",
       "                var nbb_unformatted_code = \"loans = pd.read_csv(\\\"data/SBA_clnd.csv\\\")\\nloans.head()\";\n",
       "                var nbb_formatted_code = \"loans = pd.read_csv(\\\"data/SBA_clnd.csv\\\")\\nloans.head()\";\n",
       "                var nbb_cells = Jupyter.notebook.get_cells();\n",
       "                for (var i = 0; i < nbb_cells.length; ++i) {\n",
       "                    if (nbb_cells[i].input_prompt_number == nbb_cell_id) {\n",
       "                        if (nbb_cells[i].get_text() == nbb_unformatted_code) {\n",
       "                             nbb_cells[i].set_text(nbb_formatted_code);\n",
       "                        }\n",
       "                        break;\n",
       "                    }\n",
       "                }\n",
       "            }, 500);\n",
       "            "
      ],
      "text/plain": [
       "<IPython.core.display.Javascript object>"
      ]
     },
     "metadata": {},
     "output_type": "display_data"
    }
   ],
   "source": [
    "loans = pd.read_csv(\"data/SBA_clnd.csv\")\n",
    "loans.head()"
   ]
  },
  {
   "cell_type": "code",
   "execution_count": 4,
   "metadata": {},
   "outputs": [
    {
     "data": {
      "application/javascript": [
       "\n",
       "            setTimeout(function() {\n",
       "                var nbb_cell_id = 4;\n",
       "                var nbb_unformatted_code = \"bank_counts = loans[\\\"Bank\\\"].value_counts()\\nloans[\\\"bank_size\\\"] = loans[\\\"Bank\\\"].apply(lambda x: bank_counts[x])\";\n",
       "                var nbb_formatted_code = \"bank_counts = loans[\\\"Bank\\\"].value_counts()\\nloans[\\\"bank_size\\\"] = loans[\\\"Bank\\\"].apply(lambda x: bank_counts[x])\";\n",
       "                var nbb_cells = Jupyter.notebook.get_cells();\n",
       "                for (var i = 0; i < nbb_cells.length; ++i) {\n",
       "                    if (nbb_cells[i].input_prompt_number == nbb_cell_id) {\n",
       "                        if (nbb_cells[i].get_text() == nbb_unformatted_code) {\n",
       "                             nbb_cells[i].set_text(nbb_formatted_code);\n",
       "                        }\n",
       "                        break;\n",
       "                    }\n",
       "                }\n",
       "            }, 500);\n",
       "            "
      ],
      "text/plain": [
       "<IPython.core.display.Javascript object>"
      ]
     },
     "metadata": {},
     "output_type": "display_data"
    }
   ],
   "source": [
    "bank_counts = loans[\"Bank\"].value_counts()\n",
    "loans[\"bank_size\"] = loans[\"Bank\"].apply(lambda x: bank_counts[x])"
   ]
  },
  {
   "cell_type": "code",
   "execution_count": 5,
   "metadata": {},
   "outputs": [
    {
     "data": {
      "application/javascript": [
       "\n",
       "            setTimeout(function() {\n",
       "                var nbb_cell_id = 5;\n",
       "                var nbb_unformatted_code = \"default = loans[loans[\\\"MIS_Status\\\"] == 1]\\ndefault = default[default[\\\"NoEmp\\\"] <= 100]\";\n",
       "                var nbb_formatted_code = \"default = loans[loans[\\\"MIS_Status\\\"] == 1]\\ndefault = default[default[\\\"NoEmp\\\"] <= 100]\";\n",
       "                var nbb_cells = Jupyter.notebook.get_cells();\n",
       "                for (var i = 0; i < nbb_cells.length; ++i) {\n",
       "                    if (nbb_cells[i].input_prompt_number == nbb_cell_id) {\n",
       "                        if (nbb_cells[i].get_text() == nbb_unformatted_code) {\n",
       "                             nbb_cells[i].set_text(nbb_formatted_code);\n",
       "                        }\n",
       "                        break;\n",
       "                    }\n",
       "                }\n",
       "            }, 500);\n",
       "            "
      ],
      "text/plain": [
       "<IPython.core.display.Javascript object>"
      ]
     },
     "metadata": {},
     "output_type": "display_data"
    }
   ],
   "source": [
    "default = loans[loans[\"MIS_Status\"] == 1]\n",
    "default = default[default[\"NoEmp\"] <= 100]\n"
   ]
  },
  {
   "cell_type": "markdown",
   "metadata": {},
   "source": [
    "[Justification for Employee Cutoff](https://en.wikipedia.org/wiki/Small_business#:~:text=The%20U.S.%20Small%20Business%20Administration,are%20widely%20considered%20small%20businesses)"
   ]
  },
  {
   "cell_type": "code",
   "execution_count": 6,
   "metadata": {},
   "outputs": [
    {
     "data": {
      "application/javascript": [
       "\n",
       "            setTimeout(function() {\n",
       "                var nbb_cell_id = 6;\n",
       "                var nbb_unformatted_code = \"drop_cols = [\\n    \\\"Name\\\",\\n    \\\"City\\\",\\n    \\\"Zip\\\",\\n    \\\"Bank\\\",\\n    \\\"ApprovalFY\\\",\\n    \\\"sba_pre_approv\\\",\\n    \\\"Disbr_Month_sin\\\",\\n    \\\"Disbr_Month_cos\\\",\\n    \\\"Appv_Month_sin\\\",\\n    \\\"Appv_Month_cos\\\",\\n    \\\"MIS_Status\\\",\\n    \\\"twoDigNAICS\\\",\\n]\\ndefault = default.drop(columns=drop_cols)\";\n",
       "                var nbb_formatted_code = \"drop_cols = [\\n    \\\"Name\\\",\\n    \\\"City\\\",\\n    \\\"Zip\\\",\\n    \\\"Bank\\\",\\n    \\\"ApprovalFY\\\",\\n    \\\"sba_pre_approv\\\",\\n    \\\"Disbr_Month_sin\\\",\\n    \\\"Disbr_Month_cos\\\",\\n    \\\"Appv_Month_sin\\\",\\n    \\\"Appv_Month_cos\\\",\\n    \\\"MIS_Status\\\",\\n    \\\"twoDigNAICS\\\",\\n]\\ndefault = default.drop(columns=drop_cols)\";\n",
       "                var nbb_cells = Jupyter.notebook.get_cells();\n",
       "                for (var i = 0; i < nbb_cells.length; ++i) {\n",
       "                    if (nbb_cells[i].input_prompt_number == nbb_cell_id) {\n",
       "                        if (nbb_cells[i].get_text() == nbb_unformatted_code) {\n",
       "                             nbb_cells[i].set_text(nbb_formatted_code);\n",
       "                        }\n",
       "                        break;\n",
       "                    }\n",
       "                }\n",
       "            }, 500);\n",
       "            "
      ],
      "text/plain": [
       "<IPython.core.display.Javascript object>"
      ]
     },
     "metadata": {},
     "output_type": "display_data"
    }
   ],
   "source": [
    "drop_cols = [\n",
    "    \"Name\",\n",
    "    \"City\",\n",
    "    \"Zip\",\n",
    "    \"Bank\",\n",
    "    \"ApprovalFY\",\n",
    "    \"sba_pre_approv\",\n",
    "    \"Disbr_Month_sin\",\n",
    "    \"Disbr_Month_cos\",\n",
    "    \"Appv_Month_sin\",\n",
    "    \"Appv_Month_cos\",\n",
    "    \"MIS_Status\",\n",
    "    \"twoDigNAICS\",\n",
    "]\n",
    "default = default.drop(columns=drop_cols)"
   ]
  },
  {
   "cell_type": "code",
   "execution_count": 7,
   "metadata": {},
   "outputs": [
    {
     "data": {
      "application/javascript": [
       "\n",
       "            setTimeout(function() {\n",
       "                var nbb_cell_id = 7;\n",
       "                var nbb_unformatted_code = \"num_cols = [\\n    \\\"NoEmp\\\",\\n    \\\"CreateJob\\\",\\n    \\\"RetainedJob\\\",\\n    \\\"DisbursementGross\\\",\\n    \\\"Term_years\\\",\\n    \\\"Disbr_year\\\",\\n    \\\"percent_SBA\\\",\\n    \\\"bank_size\\\",\\n]\\ncat_cols = [\\n    \\\"State\\\",\\n    \\\"BankState\\\",\\n    \\\"NewExist\\\",\\n    \\\"RevLineCr\\\",\\n    \\\"LowDoc\\\",\\n    \\\"is_franchise\\\",\\n    \\\"bank_out_of_state\\\",\\n    \\\"UrbanRural_cleaned\\\",\\n]\\n\\n# will want cat_cols as str for discrete coloring in graphs\\n# converting here breaks famd\\n# loans[cat_cols] = loans[cat_cols].astype(\\\"str\\\")\\nis_cat = default.columns.isin(cat_cols)\";\n",
       "                var nbb_formatted_code = \"num_cols = [\\n    \\\"NoEmp\\\",\\n    \\\"CreateJob\\\",\\n    \\\"RetainedJob\\\",\\n    \\\"DisbursementGross\\\",\\n    \\\"Term_years\\\",\\n    \\\"Disbr_year\\\",\\n    \\\"percent_SBA\\\",\\n    \\\"bank_size\\\",\\n]\\ncat_cols = [\\n    \\\"State\\\",\\n    \\\"BankState\\\",\\n    \\\"NewExist\\\",\\n    \\\"RevLineCr\\\",\\n    \\\"LowDoc\\\",\\n    \\\"is_franchise\\\",\\n    \\\"bank_out_of_state\\\",\\n    \\\"UrbanRural_cleaned\\\",\\n]\\n\\n# will want cat_cols as str for discrete coloring in graphs\\n# converting here breaks famd\\n# loans[cat_cols] = loans[cat_cols].astype(\\\"str\\\")\\nis_cat = default.columns.isin(cat_cols)\";\n",
       "                var nbb_cells = Jupyter.notebook.get_cells();\n",
       "                for (var i = 0; i < nbb_cells.length; ++i) {\n",
       "                    if (nbb_cells[i].input_prompt_number == nbb_cell_id) {\n",
       "                        if (nbb_cells[i].get_text() == nbb_unformatted_code) {\n",
       "                             nbb_cells[i].set_text(nbb_formatted_code);\n",
       "                        }\n",
       "                        break;\n",
       "                    }\n",
       "                }\n",
       "            }, 500);\n",
       "            "
      ],
      "text/plain": [
       "<IPython.core.display.Javascript object>"
      ]
     },
     "metadata": {},
     "output_type": "display_data"
    }
   ],
   "source": [
    "num_cols = [\n",
    "    \"NoEmp\",\n",
    "    \"CreateJob\",\n",
    "    \"RetainedJob\",\n",
    "    \"DisbursementGross\",\n",
    "    \"Term_years\",\n",
    "    \"Disbr_year\",\n",
    "    \"percent_SBA\",\n",
    "    \"bank_size\",\n",
    "]\n",
    "cat_cols = [\n",
    "    \"State\",\n",
    "    \"BankState\",\n",
    "    \"NewExist\",\n",
    "    \"RevLineCr\",\n",
    "    \"LowDoc\",\n",
    "    \"is_franchise\",\n",
    "    \"bank_out_of_state\",\n",
    "    \"UrbanRural_cleaned\",\n",
    "]\n",
    "\n",
    "# will want cat_cols as str for discrete coloring in graphs\n",
    "# converting here breaks famd\n",
    "# loans[cat_cols] = loans[cat_cols].astype(\"str\")\n",
    "is_cat = default.columns.isin(cat_cols)"
   ]
  },
  {
   "cell_type": "code",
   "execution_count": 8,
   "metadata": {},
   "outputs": [
    {
     "data": {
      "text/html": [
       "<div>\n",
       "<style scoped>\n",
       "    .dataframe tbody tr th:only-of-type {\n",
       "        vertical-align: middle;\n",
       "    }\n",
       "\n",
       "    .dataframe tbody tr th {\n",
       "        vertical-align: top;\n",
       "    }\n",
       "\n",
       "    .dataframe thead th {\n",
       "        text-align: right;\n",
       "    }\n",
       "</style>\n",
       "<table border=\"1\" class=\"dataframe\">\n",
       "  <thead>\n",
       "    <tr style=\"text-align: right;\">\n",
       "      <th></th>\n",
       "      <th>State</th>\n",
       "      <th>BankState</th>\n",
       "      <th>NoEmp</th>\n",
       "      <th>NewExist</th>\n",
       "      <th>CreateJob</th>\n",
       "      <th>RetainedJob</th>\n",
       "      <th>RevLineCr</th>\n",
       "      <th>LowDoc</th>\n",
       "      <th>DisbursementGross</th>\n",
       "      <th>is_franchise</th>\n",
       "      <th>bank_out_of_state</th>\n",
       "      <th>Term_years</th>\n",
       "      <th>UrbanRural_cleaned</th>\n",
       "      <th>Disbr_year</th>\n",
       "      <th>percent_SBA</th>\n",
       "      <th>bank_size</th>\n",
       "    </tr>\n",
       "  </thead>\n",
       "  <tbody>\n",
       "    <tr>\n",
       "      <th>8</th>\n",
       "      <td>ME</td>\n",
       "      <td>SD</td>\n",
       "      <td>9</td>\n",
       "      <td>0</td>\n",
       "      <td>0</td>\n",
       "      <td>9</td>\n",
       "      <td>0.0</td>\n",
       "      <td>0.0</td>\n",
       "      <td>1350000.0</td>\n",
       "      <td>0.0</td>\n",
       "      <td>0</td>\n",
       "      <td>13.916667</td>\n",
       "      <td>0.0</td>\n",
       "      <td>2006</td>\n",
       "      <td>0.75</td>\n",
       "      <td>24752</td>\n",
       "    </tr>\n",
       "    <tr>\n",
       "      <th>11</th>\n",
       "      <td>TX</td>\n",
       "      <td>SD</td>\n",
       "      <td>4</td>\n",
       "      <td>1</td>\n",
       "      <td>1</td>\n",
       "      <td>5</td>\n",
       "      <td>1.0</td>\n",
       "      <td>0.0</td>\n",
       "      <td>60859.0</td>\n",
       "      <td>0.0</td>\n",
       "      <td>0</td>\n",
       "      <td>2.166667</td>\n",
       "      <td>1.0</td>\n",
       "      <td>2006</td>\n",
       "      <td>0.50</td>\n",
       "      <td>24752</td>\n",
       "    </tr>\n",
       "    <tr>\n",
       "      <th>15</th>\n",
       "      <td>WA</td>\n",
       "      <td>OH</td>\n",
       "      <td>1</td>\n",
       "      <td>1</td>\n",
       "      <td>3</td>\n",
       "      <td>4</td>\n",
       "      <td>0.0</td>\n",
       "      <td>0.0</td>\n",
       "      <td>28090.0</td>\n",
       "      <td>0.0</td>\n",
       "      <td>0</td>\n",
       "      <td>0.416667</td>\n",
       "      <td>0.0</td>\n",
       "      <td>2006</td>\n",
       "      <td>0.85</td>\n",
       "      <td>20370</td>\n",
       "    </tr>\n",
       "    <tr>\n",
       "      <th>16</th>\n",
       "      <td>CO</td>\n",
       "      <td>IL</td>\n",
       "      <td>4</td>\n",
       "      <td>0</td>\n",
       "      <td>8</td>\n",
       "      <td>4</td>\n",
       "      <td>1.0</td>\n",
       "      <td>0.0</td>\n",
       "      <td>76432.0</td>\n",
       "      <td>0.0</td>\n",
       "      <td>0</td>\n",
       "      <td>4.500000</td>\n",
       "      <td>1.0</td>\n",
       "      <td>2006</td>\n",
       "      <td>0.50</td>\n",
       "      <td>34974</td>\n",
       "    </tr>\n",
       "    <tr>\n",
       "      <th>24</th>\n",
       "      <td>NV</td>\n",
       "      <td>SD</td>\n",
       "      <td>10</td>\n",
       "      <td>0</td>\n",
       "      <td>11</td>\n",
       "      <td>10</td>\n",
       "      <td>1.0</td>\n",
       "      <td>0.0</td>\n",
       "      <td>90518.0</td>\n",
       "      <td>0.0</td>\n",
       "      <td>0</td>\n",
       "      <td>2.250000</td>\n",
       "      <td>0.0</td>\n",
       "      <td>2006</td>\n",
       "      <td>0.50</td>\n",
       "      <td>24752</td>\n",
       "    </tr>\n",
       "  </tbody>\n",
       "</table>\n",
       "</div>"
      ],
      "text/plain": [
       "   State BankState  NoEmp  NewExist  CreateJob  RetainedJob  RevLineCr  \\\n",
       "8     ME        SD      9         0          0            9        0.0   \n",
       "11    TX        SD      4         1          1            5        1.0   \n",
       "15    WA        OH      1         1          3            4        0.0   \n",
       "16    CO        IL      4         0          8            4        1.0   \n",
       "24    NV        SD     10         0         11           10        1.0   \n",
       "\n",
       "    LowDoc  DisbursementGross  is_franchise  bank_out_of_state  Term_years  \\\n",
       "8      0.0          1350000.0           0.0                  0   13.916667   \n",
       "11     0.0            60859.0           0.0                  0    2.166667   \n",
       "15     0.0            28090.0           0.0                  0    0.416667   \n",
       "16     0.0            76432.0           0.0                  0    4.500000   \n",
       "24     0.0            90518.0           0.0                  0    2.250000   \n",
       "\n",
       "    UrbanRural_cleaned  Disbr_year  percent_SBA  bank_size  \n",
       "8                  0.0        2006         0.75      24752  \n",
       "11                 1.0        2006         0.50      24752  \n",
       "15                 0.0        2006         0.85      20370  \n",
       "16                 1.0        2006         0.50      34974  \n",
       "24                 0.0        2006         0.50      24752  "
      ]
     },
     "execution_count": 8,
     "metadata": {},
     "output_type": "execute_result"
    },
    {
     "data": {
      "application/javascript": [
       "\n",
       "            setTimeout(function() {\n",
       "                var nbb_cell_id = 8;\n",
       "                var nbb_unformatted_code = \"default.head()\";\n",
       "                var nbb_formatted_code = \"default.head()\";\n",
       "                var nbb_cells = Jupyter.notebook.get_cells();\n",
       "                for (var i = 0; i < nbb_cells.length; ++i) {\n",
       "                    if (nbb_cells[i].input_prompt_number == nbb_cell_id) {\n",
       "                        if (nbb_cells[i].get_text() == nbb_unformatted_code) {\n",
       "                             nbb_cells[i].set_text(nbb_formatted_code);\n",
       "                        }\n",
       "                        break;\n",
       "                    }\n",
       "                }\n",
       "            }, 500);\n",
       "            "
      ],
      "text/plain": [
       "<IPython.core.display.Javascript object>"
      ]
     },
     "metadata": {},
     "output_type": "display_data"
    }
   ],
   "source": [
    "default.head()"
   ]
  },
  {
   "cell_type": "code",
   "execution_count": 9,
   "metadata": {},
   "outputs": [
    {
     "name": "stdout",
     "output_type": "stream",
     "text": [
      "<class 'pandas.core.frame.DataFrame'>\n",
      "Int64Index: 1000 entries, 380192 to 168534\n",
      "Data columns (total 16 columns):\n",
      " #   Column              Non-Null Count  Dtype  \n",
      "---  ------              --------------  -----  \n",
      " 0   State               1000 non-null   object \n",
      " 1   BankState           1000 non-null   object \n",
      " 2   NoEmp               1000 non-null   int64  \n",
      " 3   NewExist            1000 non-null   int64  \n",
      " 4   CreateJob           1000 non-null   int64  \n",
      " 5   RetainedJob         1000 non-null   int64  \n",
      " 6   RevLineCr           1000 non-null   float64\n",
      " 7   LowDoc              1000 non-null   float64\n",
      " 8   DisbursementGross   1000 non-null   float64\n",
      " 9   is_franchise        1000 non-null   float64\n",
      " 10  bank_out_of_state   1000 non-null   int64  \n",
      " 11  Term_years          1000 non-null   float64\n",
      " 12  UrbanRural_cleaned  1000 non-null   float64\n",
      " 13  Disbr_year          1000 non-null   int64  \n",
      " 14  percent_SBA         1000 non-null   float64\n",
      " 15  bank_size           1000 non-null   int64  \n",
      "dtypes: float64(7), int64(7), object(2)\n",
      "memory usage: 132.8+ KB\n"
     ]
    },
    {
     "data": {
      "application/javascript": [
       "\n",
       "            setTimeout(function() {\n",
       "                var nbb_cell_id = 9;\n",
       "                var nbb_unformatted_code = \"sample = default.sample(1000)\\nsample.info()\";\n",
       "                var nbb_formatted_code = \"sample = default.sample(1000)\\nsample.info()\";\n",
       "                var nbb_cells = Jupyter.notebook.get_cells();\n",
       "                for (var i = 0; i < nbb_cells.length; ++i) {\n",
       "                    if (nbb_cells[i].input_prompt_number == nbb_cell_id) {\n",
       "                        if (nbb_cells[i].get_text() == nbb_unformatted_code) {\n",
       "                             nbb_cells[i].set_text(nbb_formatted_code);\n",
       "                        }\n",
       "                        break;\n",
       "                    }\n",
       "                }\n",
       "            }, 500);\n",
       "            "
      ],
      "text/plain": [
       "<IPython.core.display.Javascript object>"
      ]
     },
     "metadata": {},
     "output_type": "display_data"
    }
   ],
   "source": [
    "sample = default.sample(1000)\n",
    "sample.info()\n"
   ]
  },
  {
   "cell_type": "markdown",
   "metadata": {},
   "source": [
    "### Calculate Gower Distance Matrix for Mixed Data"
   ]
  },
  {
   "cell_type": "code",
   "execution_count": 10,
   "metadata": {},
   "outputs": [
    {
     "data": {
      "application/javascript": [
       "\n",
       "            setTimeout(function() {\n",
       "                var nbb_cell_id = 10;\n",
       "                var nbb_unformatted_code = \"gower_dist = gower.gower_matrix(sample, cat_features=is_cat)\\ngower_df = pd.DataFrame(gower_dist, columns=sample.index, index=sample.index)\";\n",
       "                var nbb_formatted_code = \"gower_dist = gower.gower_matrix(sample, cat_features=is_cat)\\ngower_df = pd.DataFrame(gower_dist, columns=sample.index, index=sample.index)\";\n",
       "                var nbb_cells = Jupyter.notebook.get_cells();\n",
       "                for (var i = 0; i < nbb_cells.length; ++i) {\n",
       "                    if (nbb_cells[i].input_prompt_number == nbb_cell_id) {\n",
       "                        if (nbb_cells[i].get_text() == nbb_unformatted_code) {\n",
       "                             nbb_cells[i].set_text(nbb_formatted_code);\n",
       "                        }\n",
       "                        break;\n",
       "                    }\n",
       "                }\n",
       "            }, 500);\n",
       "            "
      ],
      "text/plain": [
       "<IPython.core.display.Javascript object>"
      ]
     },
     "metadata": {},
     "output_type": "display_data"
    }
   ],
   "source": [
    "gower_dist = gower.gower_matrix(sample, cat_features=is_cat)\n",
    "gower_df = pd.DataFrame(gower_dist, columns=sample.index, index=sample.index)"
   ]
  },
  {
   "cell_type": "code",
   "execution_count": 11,
   "metadata": {},
   "outputs": [
    {
     "data": {
      "text/html": [
       "<div>\n",
       "<style scoped>\n",
       "    .dataframe tbody tr th:only-of-type {\n",
       "        vertical-align: middle;\n",
       "    }\n",
       "\n",
       "    .dataframe tbody tr th {\n",
       "        vertical-align: top;\n",
       "    }\n",
       "\n",
       "    .dataframe thead th {\n",
       "        text-align: right;\n",
       "    }\n",
       "</style>\n",
       "<table border=\"1\" class=\"dataframe\">\n",
       "  <thead>\n",
       "    <tr style=\"text-align: right;\">\n",
       "      <th></th>\n",
       "      <th>NoEmp</th>\n",
       "      <th>CreateJob</th>\n",
       "      <th>RetainedJob</th>\n",
       "      <th>DisbursementGross</th>\n",
       "      <th>Term_years</th>\n",
       "      <th>Disbr_year</th>\n",
       "      <th>percent_SBA</th>\n",
       "      <th>bank_size</th>\n",
       "      <th>State</th>\n",
       "      <th>BankState</th>\n",
       "      <th>NewExist</th>\n",
       "      <th>RevLineCr</th>\n",
       "      <th>LowDoc</th>\n",
       "      <th>is_franchise</th>\n",
       "      <th>bank_out_of_state</th>\n",
       "      <th>UrbanRural_cleaned</th>\n",
       "    </tr>\n",
       "  </thead>\n",
       "  <tbody>\n",
       "    <tr>\n",
       "      <th>380192</th>\n",
       "      <td>0.617369</td>\n",
       "      <td>-0.387115</td>\n",
       "      <td>0.493122</td>\n",
       "      <td>-0.429909</td>\n",
       "      <td>-0.709726</td>\n",
       "      <td>-1.388310</td>\n",
       "      <td>-0.698776</td>\n",
       "      <td>0.389370</td>\n",
       "      <td>PA</td>\n",
       "      <td>RI</td>\n",
       "      <td>0</td>\n",
       "      <td>1.0</td>\n",
       "      <td>0.0</td>\n",
       "      <td>0.0</td>\n",
       "      <td>0</td>\n",
       "      <td>0.0</td>\n",
       "    </tr>\n",
       "    <tr>\n",
       "      <th>34431</th>\n",
       "      <td>2.491023</td>\n",
       "      <td>-0.387115</td>\n",
       "      <td>1.844670</td>\n",
       "      <td>1.039746</td>\n",
       "      <td>-0.298916</td>\n",
       "      <td>-0.362970</td>\n",
       "      <td>-0.698776</td>\n",
       "      <td>1.938519</td>\n",
       "      <td>FL</td>\n",
       "      <td>NC</td>\n",
       "      <td>0</td>\n",
       "      <td>1.0</td>\n",
       "      <td>0.0</td>\n",
       "      <td>0.0</td>\n",
       "      <td>0</td>\n",
       "      <td>0.0</td>\n",
       "    </tr>\n",
       "    <tr>\n",
       "      <th>96007</th>\n",
       "      <td>-0.051793</td>\n",
       "      <td>5.820637</td>\n",
       "      <td>2.423905</td>\n",
       "      <td>1.498310</td>\n",
       "      <td>-0.658375</td>\n",
       "      <td>0.149700</td>\n",
       "      <td>-0.698776</td>\n",
       "      <td>-0.079624</td>\n",
       "      <td>WA</td>\n",
       "      <td>OH</td>\n",
       "      <td>0</td>\n",
       "      <td>1.0</td>\n",
       "      <td>0.0</td>\n",
       "      <td>0.0</td>\n",
       "      <td>0</td>\n",
       "      <td>0.0</td>\n",
       "    </tr>\n",
       "    <tr>\n",
       "      <th>448418</th>\n",
       "      <td>-0.587123</td>\n",
       "      <td>-0.387115</td>\n",
       "      <td>-0.375730</td>\n",
       "      <td>-0.542093</td>\n",
       "      <td>0.034868</td>\n",
       "      <td>-0.875640</td>\n",
       "      <td>-0.698776</td>\n",
       "      <td>-0.923269</td>\n",
       "      <td>UT</td>\n",
       "      <td>UT</td>\n",
       "      <td>0</td>\n",
       "      <td>1.0</td>\n",
       "      <td>0.0</td>\n",
       "      <td>0.0</td>\n",
       "      <td>1</td>\n",
       "      <td>0.0</td>\n",
       "    </tr>\n",
       "    <tr>\n",
       "      <th>86482</th>\n",
       "      <td>-0.185626</td>\n",
       "      <td>-0.387115</td>\n",
       "      <td>-0.086113</td>\n",
       "      <td>-0.373814</td>\n",
       "      <td>-0.375943</td>\n",
       "      <td>0.149700</td>\n",
       "      <td>-0.698776</td>\n",
       "      <td>1.938519</td>\n",
       "      <td>GA</td>\n",
       "      <td>NC</td>\n",
       "      <td>0</td>\n",
       "      <td>1.0</td>\n",
       "      <td>0.0</td>\n",
       "      <td>0.0</td>\n",
       "      <td>0</td>\n",
       "      <td>0.0</td>\n",
       "    </tr>\n",
       "    <tr>\n",
       "      <th>...</th>\n",
       "      <td>...</td>\n",
       "      <td>...</td>\n",
       "      <td>...</td>\n",
       "      <td>...</td>\n",
       "      <td>...</td>\n",
       "      <td>...</td>\n",
       "      <td>...</td>\n",
       "      <td>...</td>\n",
       "      <td>...</td>\n",
       "      <td>...</td>\n",
       "      <td>...</td>\n",
       "      <td>...</td>\n",
       "      <td>...</td>\n",
       "      <td>...</td>\n",
       "      <td>...</td>\n",
       "      <td>...</td>\n",
       "    </tr>\n",
       "    <tr>\n",
       "      <th>329392</th>\n",
       "      <td>0.483537</td>\n",
       "      <td>-0.387115</td>\n",
       "      <td>-0.472270</td>\n",
       "      <td>4.983237</td>\n",
       "      <td>4.297024</td>\n",
       "      <td>-1.900980</td>\n",
       "      <td>0.909695</td>\n",
       "      <td>-1.018123</td>\n",
       "      <td>GA</td>\n",
       "      <td>GA</td>\n",
       "      <td>0</td>\n",
       "      <td>0.0</td>\n",
       "      <td>0.0</td>\n",
       "      <td>0.0</td>\n",
       "      <td>1</td>\n",
       "      <td>0.0</td>\n",
       "    </tr>\n",
       "    <tr>\n",
       "      <th>456432</th>\n",
       "      <td>-0.587123</td>\n",
       "      <td>-0.387115</td>\n",
       "      <td>-0.472270</td>\n",
       "      <td>0.164696</td>\n",
       "      <td>3.886213</td>\n",
       "      <td>-0.875640</td>\n",
       "      <td>1.553083</td>\n",
       "      <td>-1.012804</td>\n",
       "      <td>WI</td>\n",
       "      <td>WI</td>\n",
       "      <td>0</td>\n",
       "      <td>0.0</td>\n",
       "      <td>0.0</td>\n",
       "      <td>0.0</td>\n",
       "      <td>1</td>\n",
       "      <td>1.0</td>\n",
       "    </tr>\n",
       "    <tr>\n",
       "      <th>138797</th>\n",
       "      <td>-0.453290</td>\n",
       "      <td>-0.387115</td>\n",
       "      <td>-0.279191</td>\n",
       "      <td>-0.486004</td>\n",
       "      <td>-1.043509</td>\n",
       "      <td>1.175039</td>\n",
       "      <td>-0.698776</td>\n",
       "      <td>-0.755345</td>\n",
       "      <td>OH</td>\n",
       "      <td>OH</td>\n",
       "      <td>0</td>\n",
       "      <td>0.0</td>\n",
       "      <td>0.0</td>\n",
       "      <td>0.0</td>\n",
       "      <td>1</td>\n",
       "      <td>1.0</td>\n",
       "    </tr>\n",
       "    <tr>\n",
       "      <th>78229</th>\n",
       "      <td>1.286531</td>\n",
       "      <td>0.109505</td>\n",
       "      <td>0.975818</td>\n",
       "      <td>0.353455</td>\n",
       "      <td>-0.350267</td>\n",
       "      <td>0.149700</td>\n",
       "      <td>-0.698776</td>\n",
       "      <td>0.595772</td>\n",
       "      <td>AZ</td>\n",
       "      <td>IL</td>\n",
       "      <td>0</td>\n",
       "      <td>1.0</td>\n",
       "      <td>0.0</td>\n",
       "      <td>0.0</td>\n",
       "      <td>0</td>\n",
       "      <td>0.0</td>\n",
       "    </tr>\n",
       "    <tr>\n",
       "      <th>168534</th>\n",
       "      <td>-0.453290</td>\n",
       "      <td>-0.138805</td>\n",
       "      <td>-0.375730</td>\n",
       "      <td>-0.267234</td>\n",
       "      <td>-1.274590</td>\n",
       "      <td>0.662369</td>\n",
       "      <td>1.553083</td>\n",
       "      <td>-1.008734</td>\n",
       "      <td>AR</td>\n",
       "      <td>AR</td>\n",
       "      <td>1</td>\n",
       "      <td>0.0</td>\n",
       "      <td>0.0</td>\n",
       "      <td>0.0</td>\n",
       "      <td>1</td>\n",
       "      <td>1.0</td>\n",
       "    </tr>\n",
       "  </tbody>\n",
       "</table>\n",
       "<p>1000 rows × 16 columns</p>\n",
       "</div>"
      ],
      "text/plain": [
       "           NoEmp  CreateJob  RetainedJob  DisbursementGross  Term_years  \\\n",
       "380192  0.617369  -0.387115     0.493122          -0.429909   -0.709726   \n",
       "34431   2.491023  -0.387115     1.844670           1.039746   -0.298916   \n",
       "96007  -0.051793   5.820637     2.423905           1.498310   -0.658375   \n",
       "448418 -0.587123  -0.387115    -0.375730          -0.542093    0.034868   \n",
       "86482  -0.185626  -0.387115    -0.086113          -0.373814   -0.375943   \n",
       "...          ...        ...          ...                ...         ...   \n",
       "329392  0.483537  -0.387115    -0.472270           4.983237    4.297024   \n",
       "456432 -0.587123  -0.387115    -0.472270           0.164696    3.886213   \n",
       "138797 -0.453290  -0.387115    -0.279191          -0.486004   -1.043509   \n",
       "78229   1.286531   0.109505     0.975818           0.353455   -0.350267   \n",
       "168534 -0.453290  -0.138805    -0.375730          -0.267234   -1.274590   \n",
       "\n",
       "        Disbr_year  percent_SBA  bank_size State BankState  NewExist  \\\n",
       "380192   -1.388310    -0.698776   0.389370    PA        RI         0   \n",
       "34431    -0.362970    -0.698776   1.938519    FL        NC         0   \n",
       "96007     0.149700    -0.698776  -0.079624    WA        OH         0   \n",
       "448418   -0.875640    -0.698776  -0.923269    UT        UT         0   \n",
       "86482     0.149700    -0.698776   1.938519    GA        NC         0   \n",
       "...            ...          ...        ...   ...       ...       ...   \n",
       "329392   -1.900980     0.909695  -1.018123    GA        GA         0   \n",
       "456432   -0.875640     1.553083  -1.012804    WI        WI         0   \n",
       "138797    1.175039    -0.698776  -0.755345    OH        OH         0   \n",
       "78229     0.149700    -0.698776   0.595772    AZ        IL         0   \n",
       "168534    0.662369     1.553083  -1.008734    AR        AR         1   \n",
       "\n",
       "        RevLineCr  LowDoc  is_franchise  bank_out_of_state  UrbanRural_cleaned  \n",
       "380192        1.0     0.0           0.0                  0                 0.0  \n",
       "34431         1.0     0.0           0.0                  0                 0.0  \n",
       "96007         1.0     0.0           0.0                  0                 0.0  \n",
       "448418        1.0     0.0           0.0                  1                 0.0  \n",
       "86482         1.0     0.0           0.0                  0                 0.0  \n",
       "...           ...     ...           ...                ...                 ...  \n",
       "329392        0.0     0.0           0.0                  1                 0.0  \n",
       "456432        0.0     0.0           0.0                  1                 1.0  \n",
       "138797        0.0     0.0           0.0                  1                 1.0  \n",
       "78229         1.0     0.0           0.0                  0                 0.0  \n",
       "168534        0.0     0.0           0.0                  1                 1.0  \n",
       "\n",
       "[1000 rows x 16 columns]"
      ]
     },
     "execution_count": 11,
     "metadata": {},
     "output_type": "execute_result"
    },
    {
     "data": {
      "application/javascript": [
       "\n",
       "            setTimeout(function() {\n",
       "                var nbb_cell_id = 11;\n",
       "                var nbb_unformatted_code = \"scaler = StandardScaler()\\nX_std = scaler.fit_transform(sample[num_cols])\\nX_std = pd.DataFrame(X_std, columns=num_cols, index=sample[num_cols].index)\\n# pd.DataFrame(scaler.fit_transform(X[num_cols]), columns=num_cols)\\n\\nscaled_X = pd.concat((X_std, sample[cat_cols]), axis=1)\\n\\n# for after cluster, doing some preliminary visualization\\n# scaled_X[\\\"label\\\"] = labels\\nscaled_X\";\n",
       "                var nbb_formatted_code = \"scaler = StandardScaler()\\nX_std = scaler.fit_transform(sample[num_cols])\\nX_std = pd.DataFrame(X_std, columns=num_cols, index=sample[num_cols].index)\\n# pd.DataFrame(scaler.fit_transform(X[num_cols]), columns=num_cols)\\n\\nscaled_X = pd.concat((X_std, sample[cat_cols]), axis=1)\\n\\n# for after cluster, doing some preliminary visualization\\n# scaled_X[\\\"label\\\"] = labels\\nscaled_X\";\n",
       "                var nbb_cells = Jupyter.notebook.get_cells();\n",
       "                for (var i = 0; i < nbb_cells.length; ++i) {\n",
       "                    if (nbb_cells[i].input_prompt_number == nbb_cell_id) {\n",
       "                        if (nbb_cells[i].get_text() == nbb_unformatted_code) {\n",
       "                             nbb_cells[i].set_text(nbb_formatted_code);\n",
       "                        }\n",
       "                        break;\n",
       "                    }\n",
       "                }\n",
       "            }, 500);\n",
       "            "
      ],
      "text/plain": [
       "<IPython.core.display.Javascript object>"
      ]
     },
     "metadata": {},
     "output_type": "display_data"
    }
   ],
   "source": [
    "scaler = StandardScaler()\n",
    "X_std = scaler.fit_transform(sample[num_cols])\n",
    "X_std = pd.DataFrame(X_std, columns=num_cols, index=sample[num_cols].index)\n",
    "# pd.DataFrame(scaler.fit_transform(X[num_cols]), columns=num_cols)\n",
    "\n",
    "scaled_X = pd.concat((X_std, sample[cat_cols]), axis=1)\n",
    "\n",
    "# for after cluster, doing some preliminary visualization\n",
    "# scaled_X[\"label\"] = labels\n",
    "scaled_X"
   ]
  },
  {
   "cell_type": "code",
   "execution_count": 12,
   "metadata": {},
   "outputs": [
    {
     "data": {
      "text/html": [
       "<div>\n",
       "<style scoped>\n",
       "    .dataframe tbody tr th:only-of-type {\n",
       "        vertical-align: middle;\n",
       "    }\n",
       "\n",
       "    .dataframe tbody tr th {\n",
       "        vertical-align: top;\n",
       "    }\n",
       "\n",
       "    .dataframe thead th {\n",
       "        text-align: right;\n",
       "    }\n",
       "</style>\n",
       "<table border=\"1\" class=\"dataframe\">\n",
       "  <thead>\n",
       "    <tr style=\"text-align: right;\">\n",
       "      <th></th>\n",
       "      <th>NoEmp</th>\n",
       "      <th>CreateJob</th>\n",
       "      <th>RetainedJob</th>\n",
       "      <th>DisbursementGross</th>\n",
       "      <th>Term_years</th>\n",
       "      <th>Disbr_year</th>\n",
       "      <th>percent_SBA</th>\n",
       "      <th>bank_size</th>\n",
       "      <th>NewExist</th>\n",
       "      <th>RevLineCr</th>\n",
       "      <th>LowDoc</th>\n",
       "      <th>is_franchise</th>\n",
       "      <th>bank_out_of_state</th>\n",
       "      <th>UrbanRural_cleaned</th>\n",
       "    </tr>\n",
       "  </thead>\n",
       "  <tbody>\n",
       "    <tr>\n",
       "      <th>count</th>\n",
       "      <td>1.000000e+03</td>\n",
       "      <td>1.000000e+03</td>\n",
       "      <td>1.000000e+03</td>\n",
       "      <td>1.000000e+03</td>\n",
       "      <td>1.000000e+03</td>\n",
       "      <td>1.000000e+03</td>\n",
       "      <td>1.000000e+03</td>\n",
       "      <td>1.000000e+03</td>\n",
       "      <td>1000.000000</td>\n",
       "      <td>1000.000000</td>\n",
       "      <td>1000.000000</td>\n",
       "      <td>1000.000000</td>\n",
       "      <td>1000.000000</td>\n",
       "      <td>1000.000000</td>\n",
       "    </tr>\n",
       "    <tr>\n",
       "      <th>mean</th>\n",
       "      <td>5.329071e-17</td>\n",
       "      <td>1.421085e-17</td>\n",
       "      <td>-3.552714e-17</td>\n",
       "      <td>-1.421085e-17</td>\n",
       "      <td>1.936229e-16</td>\n",
       "      <td>-4.291500e-14</td>\n",
       "      <td>-2.202682e-16</td>\n",
       "      <td>5.151435e-17</td>\n",
       "      <td>0.266000</td>\n",
       "      <td>0.422000</td>\n",
       "      <td>0.039000</td>\n",
       "      <td>0.036000</td>\n",
       "      <td>0.269000</td>\n",
       "      <td>0.165000</td>\n",
       "    </tr>\n",
       "    <tr>\n",
       "      <th>std</th>\n",
       "      <td>1.000500e+00</td>\n",
       "      <td>1.000500e+00</td>\n",
       "      <td>1.000500e+00</td>\n",
       "      <td>1.000500e+00</td>\n",
       "      <td>1.000500e+00</td>\n",
       "      <td>1.000500e+00</td>\n",
       "      <td>1.000500e+00</td>\n",
       "      <td>1.000500e+00</td>\n",
       "      <td>0.442085</td>\n",
       "      <td>0.494126</td>\n",
       "      <td>0.193692</td>\n",
       "      <td>0.186383</td>\n",
       "      <td>0.443662</td>\n",
       "      <td>0.371366</td>\n",
       "    </tr>\n",
       "    <tr>\n",
       "      <th>min</th>\n",
       "      <td>-7.209554e-01</td>\n",
       "      <td>-3.871155e-01</td>\n",
       "      <td>-4.722696e-01</td>\n",
       "      <td>-5.990795e-01</td>\n",
       "      <td>-1.351617e+00</td>\n",
       "      <td>-2.413649e+00</td>\n",
       "      <td>-1.290693e+00</td>\n",
       "      <td>-1.021638e+00</td>\n",
       "      <td>0.000000</td>\n",
       "      <td>0.000000</td>\n",
       "      <td>0.000000</td>\n",
       "      <td>0.000000</td>\n",
       "      <td>0.000000</td>\n",
       "      <td>0.000000</td>\n",
       "    </tr>\n",
       "    <tr>\n",
       "      <th>25%</th>\n",
       "      <td>-4.532905e-01</td>\n",
       "      <td>-3.871155e-01</td>\n",
       "      <td>-3.757304e-01</td>\n",
       "      <td>-4.860037e-01</td>\n",
       "      <td>-5.813478e-01</td>\n",
       "      <td>-3.629702e-01</td>\n",
       "      <td>-6.987760e-01</td>\n",
       "      <td>-8.427989e-01</td>\n",
       "      <td>0.000000</td>\n",
       "      <td>0.000000</td>\n",
       "      <td>0.000000</td>\n",
       "      <td>0.000000</td>\n",
       "      <td>0.000000</td>\n",
       "      <td>0.000000</td>\n",
       "    </tr>\n",
       "    <tr>\n",
       "      <th>50%</th>\n",
       "      <td>-3.194580e-01</td>\n",
       "      <td>-3.871155e-01</td>\n",
       "      <td>-2.791912e-01</td>\n",
       "      <td>-3.325228e-01</td>\n",
       "      <td>-9.351068e-02</td>\n",
       "      <td>1.496996e-01</td>\n",
       "      <td>-6.987760e-01</td>\n",
       "      <td>-1.314216e-01</td>\n",
       "      <td>0.000000</td>\n",
       "      <td>0.000000</td>\n",
       "      <td>0.000000</td>\n",
       "      <td>0.000000</td>\n",
       "      <td>0.000000</td>\n",
       "      <td>0.000000</td>\n",
       "    </tr>\n",
       "    <tr>\n",
       "      <th>75%</th>\n",
       "      <td>8.203929e-02</td>\n",
       "      <td>1.095048e-01</td>\n",
       "      <td>1.042623e-02</td>\n",
       "      <td>1.154013e-02</td>\n",
       "      <td>3.429752e-01</td>\n",
       "      <td>6.623694e-01</td>\n",
       "      <td>9.096946e-01</td>\n",
       "      <td>5.957723e-01</td>\n",
       "      <td>1.000000</td>\n",
       "      <td>1.000000</td>\n",
       "      <td>0.000000</td>\n",
       "      <td>0.000000</td>\n",
       "      <td>1.000000</td>\n",
       "      <td>0.000000</td>\n",
       "    </tr>\n",
       "    <tr>\n",
       "      <th>max</th>\n",
       "      <td>1.266229e+01</td>\n",
       "      <td>1.550473e+01</td>\n",
       "      <td>2.404868e+01</td>\n",
       "      <td>1.059271e+01</td>\n",
       "      <td>6.351075e+00</td>\n",
       "      <td>3.225718e+00</td>\n",
       "      <td>2.518165e+00</td>\n",
       "      <td>1.938519e+00</td>\n",
       "      <td>1.000000</td>\n",
       "      <td>1.000000</td>\n",
       "      <td>1.000000</td>\n",
       "      <td>1.000000</td>\n",
       "      <td>1.000000</td>\n",
       "      <td>1.000000</td>\n",
       "    </tr>\n",
       "  </tbody>\n",
       "</table>\n",
       "</div>"
      ],
      "text/plain": [
       "              NoEmp     CreateJob   RetainedJob  DisbursementGross  \\\n",
       "count  1.000000e+03  1.000000e+03  1.000000e+03       1.000000e+03   \n",
       "mean   5.329071e-17  1.421085e-17 -3.552714e-17      -1.421085e-17   \n",
       "std    1.000500e+00  1.000500e+00  1.000500e+00       1.000500e+00   \n",
       "min   -7.209554e-01 -3.871155e-01 -4.722696e-01      -5.990795e-01   \n",
       "25%   -4.532905e-01 -3.871155e-01 -3.757304e-01      -4.860037e-01   \n",
       "50%   -3.194580e-01 -3.871155e-01 -2.791912e-01      -3.325228e-01   \n",
       "75%    8.203929e-02  1.095048e-01  1.042623e-02       1.154013e-02   \n",
       "max    1.266229e+01  1.550473e+01  2.404868e+01       1.059271e+01   \n",
       "\n",
       "         Term_years    Disbr_year   percent_SBA     bank_size     NewExist  \\\n",
       "count  1.000000e+03  1.000000e+03  1.000000e+03  1.000000e+03  1000.000000   \n",
       "mean   1.936229e-16 -4.291500e-14 -2.202682e-16  5.151435e-17     0.266000   \n",
       "std    1.000500e+00  1.000500e+00  1.000500e+00  1.000500e+00     0.442085   \n",
       "min   -1.351617e+00 -2.413649e+00 -1.290693e+00 -1.021638e+00     0.000000   \n",
       "25%   -5.813478e-01 -3.629702e-01 -6.987760e-01 -8.427989e-01     0.000000   \n",
       "50%   -9.351068e-02  1.496996e-01 -6.987760e-01 -1.314216e-01     0.000000   \n",
       "75%    3.429752e-01  6.623694e-01  9.096946e-01  5.957723e-01     1.000000   \n",
       "max    6.351075e+00  3.225718e+00  2.518165e+00  1.938519e+00     1.000000   \n",
       "\n",
       "         RevLineCr       LowDoc  is_franchise  bank_out_of_state  \\\n",
       "count  1000.000000  1000.000000   1000.000000        1000.000000   \n",
       "mean      0.422000     0.039000      0.036000           0.269000   \n",
       "std       0.494126     0.193692      0.186383           0.443662   \n",
       "min       0.000000     0.000000      0.000000           0.000000   \n",
       "25%       0.000000     0.000000      0.000000           0.000000   \n",
       "50%       0.000000     0.000000      0.000000           0.000000   \n",
       "75%       1.000000     0.000000      0.000000           1.000000   \n",
       "max       1.000000     1.000000      1.000000           1.000000   \n",
       "\n",
       "       UrbanRural_cleaned  \n",
       "count         1000.000000  \n",
       "mean             0.165000  \n",
       "std              0.371366  \n",
       "min              0.000000  \n",
       "25%              0.000000  \n",
       "50%              0.000000  \n",
       "75%              0.000000  \n",
       "max              1.000000  "
      ]
     },
     "execution_count": 12,
     "metadata": {},
     "output_type": "execute_result"
    },
    {
     "data": {
      "application/javascript": [
       "\n",
       "            setTimeout(function() {\n",
       "                var nbb_cell_id = 12;\n",
       "                var nbb_unformatted_code = \"scaled_X.describe()\";\n",
       "                var nbb_formatted_code = \"scaled_X.describe()\";\n",
       "                var nbb_cells = Jupyter.notebook.get_cells();\n",
       "                for (var i = 0; i < nbb_cells.length; ++i) {\n",
       "                    if (nbb_cells[i].input_prompt_number == nbb_cell_id) {\n",
       "                        if (nbb_cells[i].get_text() == nbb_unformatted_code) {\n",
       "                             nbb_cells[i].set_text(nbb_formatted_code);\n",
       "                        }\n",
       "                        break;\n",
       "                    }\n",
       "                }\n",
       "            }, 500);\n",
       "            "
      ],
      "text/plain": [
       "<IPython.core.display.Javascript object>"
      ]
     },
     "metadata": {},
     "output_type": "display_data"
    }
   ],
   "source": [
    "scaled_X.describe()"
   ]
  },
  {
   "cell_type": "code",
   "execution_count": 13,
   "metadata": {},
   "outputs": [
    {
     "data": {
      "text/plain": [
       "FAMD(check_input=True, copy=True, engine='auto', n_components=2, n_iter=3,\n",
       "     random_state=None)"
      ]
     },
     "execution_count": 13,
     "metadata": {},
     "output_type": "execute_result"
    },
    {
     "data": {
      "application/javascript": [
       "\n",
       "            setTimeout(function() {\n",
       "                var nbb_cell_id = 13;\n",
       "                var nbb_unformatted_code = \"famd = prince.FAMD(n_components=2)\\nfamd.fit(scaled_X)\";\n",
       "                var nbb_formatted_code = \"famd = prince.FAMD(n_components=2)\\nfamd.fit(scaled_X)\";\n",
       "                var nbb_cells = Jupyter.notebook.get_cells();\n",
       "                for (var i = 0; i < nbb_cells.length; ++i) {\n",
       "                    if (nbb_cells[i].input_prompt_number == nbb_cell_id) {\n",
       "                        if (nbb_cells[i].get_text() == nbb_unformatted_code) {\n",
       "                             nbb_cells[i].set_text(nbb_formatted_code);\n",
       "                        }\n",
       "                        break;\n",
       "                    }\n",
       "                }\n",
       "            }, 500);\n",
       "            "
      ],
      "text/plain": [
       "<IPython.core.display.Javascript object>"
      ]
     },
     "metadata": {},
     "output_type": "display_data"
    }
   ],
   "source": [
    "famd = prince.FAMD(n_components=2)\n",
    "famd.fit(scaled_X)"
   ]
  },
  {
   "cell_type": "code",
   "execution_count": 14,
   "metadata": {},
   "outputs": [
    {
     "name": "stderr",
     "output_type": "stream",
     "text": [
      "No handles with labels found to put in legend.\n"
     ]
    },
    {
     "data": {
      "image/png": "[encoded data removed]",
      "text/plain": [
       "<Figure size 432x432 with 1 Axes>"
      ]
     },
     "metadata": {
      "needs_background": "light"
     },
     "output_type": "display_data"
    },
    {
     "data": {
      "application/javascript": [
       "\n",
       "            setTimeout(function() {\n",
       "                var nbb_cell_id = 14;\n",
       "                var nbb_unformatted_code = \"famd.plot_row_coordinates(\\n    scaled_X, alpha=0.5, ellipse_fill=False,\\n)\\nplt.show()\";\n",
       "                var nbb_formatted_code = \"famd.plot_row_coordinates(\\n    scaled_X, alpha=0.5, ellipse_fill=False,\\n)\\nplt.show()\";\n",
       "                var nbb_cells = Jupyter.notebook.get_cells();\n",
       "                for (var i = 0; i < nbb_cells.length; ++i) {\n",
       "                    if (nbb_cells[i].input_prompt_number == nbb_cell_id) {\n",
       "                        if (nbb_cells[i].get_text() == nbb_unformatted_code) {\n",
       "                             nbb_cells[i].set_text(nbb_formatted_code);\n",
       "                        }\n",
       "                        break;\n",
       "                    }\n",
       "                }\n",
       "            }, 500);\n",
       "            "
      ],
      "text/plain": [
       "<IPython.core.display.Javascript object>"
      ]
     },
     "metadata": {},
     "output_type": "display_data"
    }
   ],
   "source": [
    "famd.plot_row_coordinates(\n",
    "    scaled_X, alpha=0.5, ellipse_fill=False,\n",
    ")\n",
    "plt.show()"
   ]
  },
  {
   "cell_type": "code",
   "execution_count": 15,
   "metadata": {},
   "outputs": [
    {
     "data": {
      "application/javascript": [
       "\n",
       "            setTimeout(function() {\n",
       "                var nbb_cell_id = 15;\n",
       "                var nbb_unformatted_code = \"# store the famd coordinates to do custom plotting\\nsample[\\\"famd_x\\\"] = famd.row_coordinates(scaled_X).iloc[:, 0]\\nsample[\\\"famd_y\\\"] = famd.row_coordinates(scaled_X).iloc[:, 1]\";\n",
       "                var nbb_formatted_code = \"# store the famd coordinates to do custom plotting\\nsample[\\\"famd_x\\\"] = famd.row_coordinates(scaled_X).iloc[:, 0]\\nsample[\\\"famd_y\\\"] = famd.row_coordinates(scaled_X).iloc[:, 1]\";\n",
       "                var nbb_cells = Jupyter.notebook.get_cells();\n",
       "                for (var i = 0; i < nbb_cells.length; ++i) {\n",
       "                    if (nbb_cells[i].input_prompt_number == nbb_cell_id) {\n",
       "                        if (nbb_cells[i].get_text() == nbb_unformatted_code) {\n",
       "                             nbb_cells[i].set_text(nbb_formatted_code);\n",
       "                        }\n",
       "                        break;\n",
       "                    }\n",
       "                }\n",
       "            }, 500);\n",
       "            "
      ],
      "text/plain": [
       "<IPython.core.display.Javascript object>"
      ]
     },
     "metadata": {},
     "output_type": "display_data"
    }
   ],
   "source": [
    "# store the famd coordinates to do custom plotting\n",
    "sample[\"famd_x\"] = famd.row_coordinates(scaled_X).iloc[:, 0]\n",
    "sample[\"famd_y\"] = famd.row_coordinates(scaled_X).iloc[:, 1]"
   ]
  },
  {
   "cell_type": "markdown",
   "metadata": {},
   "source": [
    "Just from the Factor Analysis, it appears there are at least two dense clusters, with some outliers. DBSCAN should perform excellently here."
   ]
  },
  {
   "cell_type": "code",
   "execution_count": 16,
   "metadata": {},
   "outputs": [
    {
     "data": {
      "application/javascript": [
       "\n",
       "            setTimeout(function() {\n",
       "                var nbb_cell_id = 16;\n",
       "                var nbb_unformatted_code = \"# will want cat_cols as str for discrete coloring in graphs\\nsample[cat_cols] = sample[cat_cols].astype(\\\"str\\\")\";\n",
       "                var nbb_formatted_code = \"# will want cat_cols as str for discrete coloring in graphs\\nsample[cat_cols] = sample[cat_cols].astype(\\\"str\\\")\";\n",
       "                var nbb_cells = Jupyter.notebook.get_cells();\n",
       "                for (var i = 0; i < nbb_cells.length; ++i) {\n",
       "                    if (nbb_cells[i].input_prompt_number == nbb_cell_id) {\n",
       "                        if (nbb_cells[i].get_text() == nbb_unformatted_code) {\n",
       "                             nbb_cells[i].set_text(nbb_formatted_code);\n",
       "                        }\n",
       "                        break;\n",
       "                    }\n",
       "                }\n",
       "            }, 500);\n",
       "            "
      ],
      "text/plain": [
       "<IPython.core.display.Javascript object>"
      ]
     },
     "metadata": {},
     "output_type": "display_data"
    }
   ],
   "source": [
    "# will want cat_cols as str for discrete coloring in graphs\n",
    "sample[cat_cols] = sample[cat_cols].astype(\"str\")"
   ]
  },
  {
   "cell_type": "markdown",
   "metadata": {},
   "source": [
    "### K-Medoids"
   ]
  },
  {
   "cell_type": "code",
   "execution_count": 17,
   "metadata": {},
   "outputs": [
    {
     "data": {
      "text/plain": [
       "array([ 55, 212, 980, 848])"
      ]
     },
     "execution_count": 17,
     "metadata": {},
     "output_type": "execute_result"
    },
    {
     "data": {
      "application/javascript": [
       "\n",
       "            setTimeout(function() {\n",
       "                var nbb_cell_id = 17;\n",
       "                var nbb_unformatted_code = \"k = 4\\nnrows = gower_df.shape[0]\\ninit_medoids = np.random.randint(0, nrows, k)\\ninit_medoids\";\n",
       "                var nbb_formatted_code = \"k = 4\\nnrows = gower_df.shape[0]\\ninit_medoids = np.random.randint(0, nrows, k)\\ninit_medoids\";\n",
       "                var nbb_cells = Jupyter.notebook.get_cells();\n",
       "                for (var i = 0; i < nbb_cells.length; ++i) {\n",
       "                    if (nbb_cells[i].input_prompt_number == nbb_cell_id) {\n",
       "                        if (nbb_cells[i].get_text() == nbb_unformatted_code) {\n",
       "                             nbb_cells[i].set_text(nbb_formatted_code);\n",
       "                        }\n",
       "                        break;\n",
       "                    }\n",
       "                }\n",
       "            }, 500);\n",
       "            "
      ],
      "text/plain": [
       "<IPython.core.display.Javascript object>"
      ]
     },
     "metadata": {},
     "output_type": "display_data"
    }
   ],
   "source": [
    "k = 4\n",
    "nrows = gower_df.shape[0]\n",
    "init_medoids = np.random.randint(0, nrows, k)\n",
    "init_medoids"
   ]
  },
  {
   "cell_type": "code",
   "execution_count": 18,
   "metadata": {},
   "outputs": [
    {
     "data": {
      "text/plain": [
       "<pyclustering.cluster.kmedoids.kmedoids at 0x1eb26f4aa88>"
      ]
     },
     "execution_count": 18,
     "metadata": {},
     "output_type": "execute_result"
    },
    {
     "data": {
      "application/javascript": [
       "\n",
       "            setTimeout(function() {\n",
       "                var nbb_cell_id = 18;\n",
       "                var nbb_unformatted_code = \"kmed = kmedoids(\\n    gower_dist, initial_index_medoids=init_medoids, data_type=\\\"distance_matrix\\\"\\n)\\n\\nkmed.process()\";\n",
       "                var nbb_formatted_code = \"kmed = kmedoids(\\n    gower_dist, initial_index_medoids=init_medoids, data_type=\\\"distance_matrix\\\"\\n)\\n\\nkmed.process()\";\n",
       "                var nbb_cells = Jupyter.notebook.get_cells();\n",
       "                for (var i = 0; i < nbb_cells.length; ++i) {\n",
       "                    if (nbb_cells[i].input_prompt_number == nbb_cell_id) {\n",
       "                        if (nbb_cells[i].get_text() == nbb_unformatted_code) {\n",
       "                             nbb_cells[i].set_text(nbb_formatted_code);\n",
       "                        }\n",
       "                        break;\n",
       "                    }\n",
       "                }\n",
       "            }, 500);\n",
       "            "
      ],
      "text/plain": [
       "<IPython.core.display.Javascript object>"
      ]
     },
     "metadata": {},
     "output_type": "display_data"
    }
   ],
   "source": [
    "kmed = kmedoids(\n",
    "    gower_dist, initial_index_medoids=init_medoids, data_type=\"distance_matrix\"\n",
    ")\n",
    "\n",
    "kmed.process()"
   ]
  },
  {
   "cell_type": "code",
   "execution_count": 19,
   "metadata": {},
   "outputs": [
    {
     "data": {
      "text/plain": [
       "1    0.380\n",
       "0    0.290\n",
       "2    0.218\n",
       "3    0.112\n",
       "Name: label, dtype: float64"
      ]
     },
     "execution_count": 19,
     "metadata": {},
     "output_type": "execute_result"
    },
    {
     "data": {
      "application/javascript": [
       "\n",
       "            setTimeout(function() {\n",
       "                var nbb_cell_id = 19;\n",
       "                var nbb_unformatted_code = \"labels = kmed.predict(gower_dist)\\nsample_kmeds = sample.copy()\\nsample_kmeds[\\\"label\\\"] = labels\\nsample_kmeds[\\\"label\\\"] = sample_kmeds[\\\"label\\\"].astype(\\\"str\\\")\\nsample_kmeds[\\\"label\\\"].value_counts(normalize=True)\";\n",
       "                var nbb_formatted_code = \"labels = kmed.predict(gower_dist)\\nsample_kmeds = sample.copy()\\nsample_kmeds[\\\"label\\\"] = labels\\nsample_kmeds[\\\"label\\\"] = sample_kmeds[\\\"label\\\"].astype(\\\"str\\\")\\nsample_kmeds[\\\"label\\\"].value_counts(normalize=True)\";\n",
       "                var nbb_cells = Jupyter.notebook.get_cells();\n",
       "                for (var i = 0; i < nbb_cells.length; ++i) {\n",
       "                    if (nbb_cells[i].input_prompt_number == nbb_cell_id) {\n",
       "                        if (nbb_cells[i].get_text() == nbb_unformatted_code) {\n",
       "                             nbb_cells[i].set_text(nbb_formatted_code);\n",
       "                        }\n",
       "                        break;\n",
       "                    }\n",
       "                }\n",
       "            }, 500);\n",
       "            "
      ],
      "text/plain": [
       "<IPython.core.display.Javascript object>"
      ]
     },
     "metadata": {},
     "output_type": "display_data"
    }
   ],
   "source": [
    "labels = kmed.predict(gower_dist)\n",
    "sample_kmeds = sample.copy()\n",
    "sample_kmeds[\"label\"] = labels\n",
    "sample_kmeds[\"label\"] = sample_kmeds[\"label\"].astype(\"str\")\n",
    "sample_kmeds[\"label\"].value_counts(normalize=True)"
   ]
  },
  {
   "cell_type": "code",
   "execution_count": 20,
   "metadata": {},
   "outputs": [
    {
     "data": {
      "text/html": [
       "<style  type=\"text/css\" >\n",
       "    #T_00a401d8_0cf0_11eb_be86_7085c233535crow0_col0 {\n",
       "            background-color:  #2685bb;\n",
       "            color:  #000000;\n",
       "        }    #T_00a401d8_0cf0_11eb_be86_7085c233535crow0_col1 {\n",
       "            background-color:  #fff7fb;\n",
       "            color:  #000000;\n",
       "        }    #T_00a401d8_0cf0_11eb_be86_7085c233535crow0_col2 {\n",
       "            background-color:  #2685bb;\n",
       "            color:  #000000;\n",
       "        }    #T_00a401d8_0cf0_11eb_be86_7085c233535crow0_col3 {\n",
       "            background-color:  #023858;\n",
       "            color:  #f1f1f1;\n",
       "        }    #T_00a401d8_0cf0_11eb_be86_7085c233535crow1_col0 {\n",
       "            background-color:  #fff7fb;\n",
       "            color:  #000000;\n",
       "        }    #T_00a401d8_0cf0_11eb_be86_7085c233535crow1_col1 {\n",
       "            background-color:  #fff7fb;\n",
       "            color:  #000000;\n",
       "        }    #T_00a401d8_0cf0_11eb_be86_7085c233535crow1_col2 {\n",
       "            background-color:  #fff7fb;\n",
       "            color:  #000000;\n",
       "        }    #T_00a401d8_0cf0_11eb_be86_7085c233535crow1_col3 {\n",
       "            background-color:  #fff7fb;\n",
       "            color:  #000000;\n",
       "        }    #T_00a401d8_0cf0_11eb_be86_7085c233535crow2_col0 {\n",
       "            background-color:  #023858;\n",
       "            color:  #f1f1f1;\n",
       "        }    #T_00a401d8_0cf0_11eb_be86_7085c233535crow2_col1 {\n",
       "            background-color:  #fff7fb;\n",
       "            color:  #000000;\n",
       "        }    #T_00a401d8_0cf0_11eb_be86_7085c233535crow2_col2 {\n",
       "            background-color:  #023858;\n",
       "            color:  #f1f1f1;\n",
       "        }    #T_00a401d8_0cf0_11eb_be86_7085c233535crow2_col3 {\n",
       "            background-color:  #023858;\n",
       "            color:  #f1f1f1;\n",
       "        }    #T_00a401d8_0cf0_11eb_be86_7085c233535crow3_col0 {\n",
       "            background-color:  #023858;\n",
       "            color:  #f1f1f1;\n",
       "        }    #T_00a401d8_0cf0_11eb_be86_7085c233535crow3_col1 {\n",
       "            background-color:  #056faf;\n",
       "            color:  #f1f1f1;\n",
       "        }    #T_00a401d8_0cf0_11eb_be86_7085c233535crow3_col2 {\n",
       "            background-color:  #fff7fb;\n",
       "            color:  #000000;\n",
       "        }    #T_00a401d8_0cf0_11eb_be86_7085c233535crow3_col3 {\n",
       "            background-color:  #adc1dd;\n",
       "            color:  #000000;\n",
       "        }    #T_00a401d8_0cf0_11eb_be86_7085c233535crow4_col0 {\n",
       "            background-color:  #fff7fb;\n",
       "            color:  #000000;\n",
       "        }    #T_00a401d8_0cf0_11eb_be86_7085c233535crow4_col1 {\n",
       "            background-color:  #023858;\n",
       "            color:  #f1f1f1;\n",
       "        }    #T_00a401d8_0cf0_11eb_be86_7085c233535crow4_col2 {\n",
       "            background-color:  #f8f1f8;\n",
       "            color:  #000000;\n",
       "        }    #T_00a401d8_0cf0_11eb_be86_7085c233535crow4_col3 {\n",
       "            background-color:  #d9d8ea;\n",
       "            color:  #000000;\n",
       "        }    #T_00a401d8_0cf0_11eb_be86_7085c233535crow5_col0 {\n",
       "            background-color:  #fff7fb;\n",
       "            color:  #000000;\n",
       "        }    #T_00a401d8_0cf0_11eb_be86_7085c233535crow5_col1 {\n",
       "            background-color:  #fff7fb;\n",
       "            color:  #000000;\n",
       "        }    #T_00a401d8_0cf0_11eb_be86_7085c233535crow5_col2 {\n",
       "            background-color:  #fff7fb;\n",
       "            color:  #000000;\n",
       "        }    #T_00a401d8_0cf0_11eb_be86_7085c233535crow5_col3 {\n",
       "            background-color:  #fff7fb;\n",
       "            color:  #000000;\n",
       "        }    #T_00a401d8_0cf0_11eb_be86_7085c233535crow6_col0 {\n",
       "            background-color:  #fff7fb;\n",
       "            color:  #000000;\n",
       "        }    #T_00a401d8_0cf0_11eb_be86_7085c233535crow6_col1 {\n",
       "            background-color:  #023858;\n",
       "            color:  #f1f1f1;\n",
       "        }    #T_00a401d8_0cf0_11eb_be86_7085c233535crow6_col2 {\n",
       "            background-color:  #fff7fb;\n",
       "            color:  #000000;\n",
       "        }    #T_00a401d8_0cf0_11eb_be86_7085c233535crow6_col3 {\n",
       "            background-color:  #fff7fb;\n",
       "            color:  #000000;\n",
       "        }    #T_00a401d8_0cf0_11eb_be86_7085c233535crow7_col0 {\n",
       "            background-color:  #023858;\n",
       "            color:  #f1f1f1;\n",
       "        }    #T_00a401d8_0cf0_11eb_be86_7085c233535crow7_col1 {\n",
       "            background-color:  #fff7fb;\n",
       "            color:  #000000;\n",
       "        }    #T_00a401d8_0cf0_11eb_be86_7085c233535crow7_col2 {\n",
       "            background-color:  #569dc8;\n",
       "            color:  #000000;\n",
       "        }    #T_00a401d8_0cf0_11eb_be86_7085c233535crow7_col3 {\n",
       "            background-color:  #65a3cb;\n",
       "            color:  #000000;\n",
       "        }</style><table id=\"T_00a401d8_0cf0_11eb_be86_7085c233535c\" ><thead>    <tr>        <th class=\"index_name level0\" >label</th>        <th class=\"col_heading level0 col0\" >0</th>        <th class=\"col_heading level0 col1\" >1</th>        <th class=\"col_heading level0 col2\" >2</th>        <th class=\"col_heading level0 col3\" >3</th>    </tr></thead><tbody>\n",
       "                <tr>\n",
       "                        <th id=\"T_00a401d8_0cf0_11eb_be86_7085c233535clevel0_row0\" class=\"row_heading level0 row0\" >NoEmp</th>\n",
       "                        <td id=\"T_00a401d8_0cf0_11eb_be86_7085c233535crow0_col0\" class=\"data row0 col0\" >3.000000</td>\n",
       "                        <td id=\"T_00a401d8_0cf0_11eb_be86_7085c233535crow0_col1\" class=\"data row0 col1\" >2.000000</td>\n",
       "                        <td id=\"T_00a401d8_0cf0_11eb_be86_7085c233535crow0_col2\" class=\"data row0 col2\" >3.000000</td>\n",
       "                        <td id=\"T_00a401d8_0cf0_11eb_be86_7085c233535crow0_col3\" class=\"data row0 col3\" >3.500000</td>\n",
       "            </tr>\n",
       "            <tr>\n",
       "                        <th id=\"T_00a401d8_0cf0_11eb_be86_7085c233535clevel0_row1\" class=\"row_heading level0 row1\" >CreateJob</th>\n",
       "                        <td id=\"T_00a401d8_0cf0_11eb_be86_7085c233535crow1_col0\" class=\"data row1 col0\" >0.000000</td>\n",
       "                        <td id=\"T_00a401d8_0cf0_11eb_be86_7085c233535crow1_col1\" class=\"data row1 col1\" >0.000000</td>\n",
       "                        <td id=\"T_00a401d8_0cf0_11eb_be86_7085c233535crow1_col2\" class=\"data row1 col2\" >0.000000</td>\n",
       "                        <td id=\"T_00a401d8_0cf0_11eb_be86_7085c233535crow1_col3\" class=\"data row1 col3\" >0.000000</td>\n",
       "            </tr>\n",
       "            <tr>\n",
       "                        <th id=\"T_00a401d8_0cf0_11eb_be86_7085c233535clevel0_row2\" class=\"row_heading level0 row2\" >RetainedJob</th>\n",
       "                        <td id=\"T_00a401d8_0cf0_11eb_be86_7085c233535crow2_col0\" class=\"data row2 col0\" >3.000000</td>\n",
       "                        <td id=\"T_00a401d8_0cf0_11eb_be86_7085c233535crow2_col1\" class=\"data row2 col1\" >2.000000</td>\n",
       "                        <td id=\"T_00a401d8_0cf0_11eb_be86_7085c233535crow2_col2\" class=\"data row2 col2\" >3.000000</td>\n",
       "                        <td id=\"T_00a401d8_0cf0_11eb_be86_7085c233535crow2_col3\" class=\"data row2 col3\" >3.000000</td>\n",
       "            </tr>\n",
       "            <tr>\n",
       "                        <th id=\"T_00a401d8_0cf0_11eb_be86_7085c233535clevel0_row3\" class=\"row_heading level0 row3\" >DisbursementGross</th>\n",
       "                        <td id=\"T_00a401d8_0cf0_11eb_be86_7085c233535crow3_col0\" class=\"data row3 col0\" >63518.500000</td>\n",
       "                        <td id=\"T_00a401d8_0cf0_11eb_be86_7085c233535crow3_col1\" class=\"data row3 col1\" >60043.000000</td>\n",
       "                        <td id=\"T_00a401d8_0cf0_11eb_be86_7085c233535crow3_col2\" class=\"data row3 col2\" >49412.000000</td>\n",
       "                        <td id=\"T_00a401d8_0cf0_11eb_be86_7085c233535crow3_col3\" class=\"data row3 col3\" >54385.000000</td>\n",
       "            </tr>\n",
       "            <tr>\n",
       "                        <th id=\"T_00a401d8_0cf0_11eb_be86_7085c233535clevel0_row4\" class=\"row_heading level0 row4\" >Term_years</th>\n",
       "                        <td id=\"T_00a401d8_0cf0_11eb_be86_7085c233535crow4_col0\" class=\"data row4 col0\" >3.416667</td>\n",
       "                        <td id=\"T_00a401d8_0cf0_11eb_be86_7085c233535crow4_col1\" class=\"data row4 col1\" >5.208333</td>\n",
       "                        <td id=\"T_00a401d8_0cf0_11eb_be86_7085c233535crow4_col2\" class=\"data row4 col2\" >3.500000</td>\n",
       "                        <td id=\"T_00a401d8_0cf0_11eb_be86_7085c233535crow4_col3\" class=\"data row4 col3\" >3.791667</td>\n",
       "            </tr>\n",
       "            <tr>\n",
       "                        <th id=\"T_00a401d8_0cf0_11eb_be86_7085c233535clevel0_row5\" class=\"row_heading level0 row5\" >Disbr_year</th>\n",
       "                        <td id=\"T_00a401d8_0cf0_11eb_be86_7085c233535crow5_col0\" class=\"data row5 col0\" >2006.000000</td>\n",
       "                        <td id=\"T_00a401d8_0cf0_11eb_be86_7085c233535crow5_col1\" class=\"data row5 col1\" >2006.000000</td>\n",
       "                        <td id=\"T_00a401d8_0cf0_11eb_be86_7085c233535crow5_col2\" class=\"data row5 col2\" >2006.000000</td>\n",
       "                        <td id=\"T_00a401d8_0cf0_11eb_be86_7085c233535crow5_col3\" class=\"data row5 col3\" >2006.000000</td>\n",
       "            </tr>\n",
       "            <tr>\n",
       "                        <th id=\"T_00a401d8_0cf0_11eb_be86_7085c233535clevel0_row6\" class=\"row_heading level0 row6\" >percent_SBA</th>\n",
       "                        <td id=\"T_00a401d8_0cf0_11eb_be86_7085c233535crow6_col0\" class=\"data row6 col0\" >0.500000</td>\n",
       "                        <td id=\"T_00a401d8_0cf0_11eb_be86_7085c233535crow6_col1\" class=\"data row6 col1\" >0.850000</td>\n",
       "                        <td id=\"T_00a401d8_0cf0_11eb_be86_7085c233535crow6_col2\" class=\"data row6 col2\" >0.500000</td>\n",
       "                        <td id=\"T_00a401d8_0cf0_11eb_be86_7085c233535crow6_col3\" class=\"data row6 col3\" >0.500000</td>\n",
       "            </tr>\n",
       "            <tr>\n",
       "                        <th id=\"T_00a401d8_0cf0_11eb_be86_7085c233535clevel0_row7\" class=\"row_heading level0 row7\" >bank_size</th>\n",
       "                        <td id=\"T_00a401d8_0cf0_11eb_be86_7085c233535crow7_col0\" class=\"data row7 col0\" >34974.000000</td>\n",
       "                        <td id=\"T_00a401d8_0cf0_11eb_be86_7085c233535crow7_col1\" class=\"data row7 col1\" >4042.000000</td>\n",
       "                        <td id=\"T_00a401d8_0cf0_11eb_be86_7085c233535crow7_col2\" class=\"data row7 col2\" >21344.000000</td>\n",
       "                        <td id=\"T_00a401d8_0cf0_11eb_be86_7085c233535crow7_col3\" class=\"data row7 col3\" >20370.000000</td>\n",
       "            </tr>\n",
       "    </tbody></table>"
      ],
      "text/plain": [
       "<pandas.io.formats.style.Styler at 0x1eb26fd4188>"
      ]
     },
     "execution_count": 20,
     "metadata": {},
     "output_type": "execute_result"
    },
    {
     "data": {
      "application/javascript": [
       "\n",
       "            setTimeout(function() {\n",
       "                var nbb_cell_id = 20;\n",
       "                var nbb_unformatted_code = \"num_cols_labels = num_cols.copy()\\nnum_cols_labels.append(\\\"label\\\")\\nclst_avg = sample_kmeds[num_cols_labels].groupby(\\\"label\\\").median().T\\nclst_avg.style.background_gradient(axis=1)\";\n",
       "                var nbb_formatted_code = \"num_cols_labels = num_cols.copy()\\nnum_cols_labels.append(\\\"label\\\")\\nclst_avg = sample_kmeds[num_cols_labels].groupby(\\\"label\\\").median().T\\nclst_avg.style.background_gradient(axis=1)\";\n",
       "                var nbb_cells = Jupyter.notebook.get_cells();\n",
       "                for (var i = 0; i < nbb_cells.length; ++i) {\n",
       "                    if (nbb_cells[i].input_prompt_number == nbb_cell_id) {\n",
       "                        if (nbb_cells[i].get_text() == nbb_unformatted_code) {\n",
       "                             nbb_cells[i].set_text(nbb_formatted_code);\n",
       "                        }\n",
       "                        break;\n",
       "                    }\n",
       "                }\n",
       "            }, 500);\n",
       "            "
      ],
      "text/plain": [
       "<IPython.core.display.Javascript object>"
      ]
     },
     "metadata": {},
     "output_type": "display_data"
    }
   ],
   "source": [
    "num_cols_labels = num_cols.copy()\n",
    "num_cols_labels.append(\"label\")\n",
    "clst_avg = sample_kmeds[num_cols_labels].groupby(\"label\").median().T\n",
    "clst_avg.style.background_gradient(axis=1)"
   ]
  },
  {
   "cell_type": "code",
   "execution_count": 21,
   "metadata": {},
   "outputs": [
    {
     "data": {
      "text/html": [
       "<style  type=\"text/css\" >\n",
       "</style><table id=\"T_00aea8ee_0cf0_11eb_917d_7085c233535c\" ><thead>    <tr>        <th class=\"index_name level0\" >label</th>        <th class=\"col_heading level0 col0\" >0</th>        <th class=\"col_heading level0 col1\" >1</th>        <th class=\"col_heading level0 col2\" >2</th>        <th class=\"col_heading level0 col3\" >3</th>    </tr></thead><tbody>\n",
       "                <tr>\n",
       "                        <th id=\"T_00aea8ee_0cf0_11eb_917d_7085c233535clevel0_row0\" class=\"row_heading level0 row0\" >State</th>\n",
       "                        <td id=\"T_00aea8ee_0cf0_11eb_917d_7085c233535crow0_col0\" class=\"data row0 col0\" >FL</td>\n",
       "                        <td id=\"T_00aea8ee_0cf0_11eb_917d_7085c233535crow0_col1\" class=\"data row0 col1\" >CA</td>\n",
       "                        <td id=\"T_00aea8ee_0cf0_11eb_917d_7085c233535crow0_col2\" class=\"data row0 col2\" >FL</td>\n",
       "                        <td id=\"T_00aea8ee_0cf0_11eb_917d_7085c233535crow0_col3\" class=\"data row0 col3\" >CA</td>\n",
       "            </tr>\n",
       "            <tr>\n",
       "                        <th id=\"T_00aea8ee_0cf0_11eb_917d_7085c233535clevel0_row1\" class=\"row_heading level0 row1\" >BankState</th>\n",
       "                        <td id=\"T_00aea8ee_0cf0_11eb_917d_7085c233535crow1_col0\" class=\"data row1 col0\" >NC</td>\n",
       "                        <td id=\"T_00aea8ee_0cf0_11eb_917d_7085c233535crow1_col1\" class=\"data row1 col1\" >CA</td>\n",
       "                        <td id=\"T_00aea8ee_0cf0_11eb_917d_7085c233535crow1_col2\" class=\"data row1 col2\" >VA</td>\n",
       "                        <td id=\"T_00aea8ee_0cf0_11eb_917d_7085c233535crow1_col3\" class=\"data row1 col3\" >NC</td>\n",
       "            </tr>\n",
       "            <tr>\n",
       "                        <th id=\"T_00aea8ee_0cf0_11eb_917d_7085c233535clevel0_row2\" class=\"row_heading level0 row2\" >NewExist</th>\n",
       "                        <td id=\"T_00aea8ee_0cf0_11eb_917d_7085c233535crow2_col0\" class=\"data row2 col0\" >0</td>\n",
       "                        <td id=\"T_00aea8ee_0cf0_11eb_917d_7085c233535crow2_col1\" class=\"data row2 col1\" >1</td>\n",
       "                        <td id=\"T_00aea8ee_0cf0_11eb_917d_7085c233535crow2_col2\" class=\"data row2 col2\" >0</td>\n",
       "                        <td id=\"T_00aea8ee_0cf0_11eb_917d_7085c233535crow2_col3\" class=\"data row2 col3\" >0</td>\n",
       "            </tr>\n",
       "            <tr>\n",
       "                        <th id=\"T_00aea8ee_0cf0_11eb_917d_7085c233535clevel0_row3\" class=\"row_heading level0 row3\" >RevLineCr</th>\n",
       "                        <td id=\"T_00aea8ee_0cf0_11eb_917d_7085c233535crow3_col0\" class=\"data row3 col0\" >1.0</td>\n",
       "                        <td id=\"T_00aea8ee_0cf0_11eb_917d_7085c233535crow3_col1\" class=\"data row3 col1\" >0.0</td>\n",
       "                        <td id=\"T_00aea8ee_0cf0_11eb_917d_7085c233535crow3_col2\" class=\"data row3 col2\" >0.0</td>\n",
       "                        <td id=\"T_00aea8ee_0cf0_11eb_917d_7085c233535crow3_col3\" class=\"data row3 col3\" >1.0</td>\n",
       "            </tr>\n",
       "            <tr>\n",
       "                        <th id=\"T_00aea8ee_0cf0_11eb_917d_7085c233535clevel0_row4\" class=\"row_heading level0 row4\" >LowDoc</th>\n",
       "                        <td id=\"T_00aea8ee_0cf0_11eb_917d_7085c233535crow4_col0\" class=\"data row4 col0\" >0.0</td>\n",
       "                        <td id=\"T_00aea8ee_0cf0_11eb_917d_7085c233535crow4_col1\" class=\"data row4 col1\" >0.0</td>\n",
       "                        <td id=\"T_00aea8ee_0cf0_11eb_917d_7085c233535crow4_col2\" class=\"data row4 col2\" >0.0</td>\n",
       "                        <td id=\"T_00aea8ee_0cf0_11eb_917d_7085c233535crow4_col3\" class=\"data row4 col3\" >0.0</td>\n",
       "            </tr>\n",
       "            <tr>\n",
       "                        <th id=\"T_00aea8ee_0cf0_11eb_917d_7085c233535clevel0_row5\" class=\"row_heading level0 row5\" >is_franchise</th>\n",
       "                        <td id=\"T_00aea8ee_0cf0_11eb_917d_7085c233535crow5_col0\" class=\"data row5 col0\" >0.0</td>\n",
       "                        <td id=\"T_00aea8ee_0cf0_11eb_917d_7085c233535crow5_col1\" class=\"data row5 col1\" >0.0</td>\n",
       "                        <td id=\"T_00aea8ee_0cf0_11eb_917d_7085c233535crow5_col2\" class=\"data row5 col2\" >0.0</td>\n",
       "                        <td id=\"T_00aea8ee_0cf0_11eb_917d_7085c233535crow5_col3\" class=\"data row5 col3\" >0.0</td>\n",
       "            </tr>\n",
       "            <tr>\n",
       "                        <th id=\"T_00aea8ee_0cf0_11eb_917d_7085c233535clevel0_row6\" class=\"row_heading level0 row6\" >bank_out_of_state</th>\n",
       "                        <td id=\"T_00aea8ee_0cf0_11eb_917d_7085c233535crow6_col0\" class=\"data row6 col0\" >0</td>\n",
       "                        <td id=\"T_00aea8ee_0cf0_11eb_917d_7085c233535crow6_col1\" class=\"data row6 col1\" >1</td>\n",
       "                        <td id=\"T_00aea8ee_0cf0_11eb_917d_7085c233535crow6_col2\" class=\"data row6 col2\" >0</td>\n",
       "                        <td id=\"T_00aea8ee_0cf0_11eb_917d_7085c233535crow6_col3\" class=\"data row6 col3\" >0</td>\n",
       "            </tr>\n",
       "            <tr>\n",
       "                        <th id=\"T_00aea8ee_0cf0_11eb_917d_7085c233535clevel0_row7\" class=\"row_heading level0 row7\" >UrbanRural_cleaned</th>\n",
       "                        <td id=\"T_00aea8ee_0cf0_11eb_917d_7085c233535crow7_col0\" class=\"data row7 col0\" >0.0</td>\n",
       "                        <td id=\"T_00aea8ee_0cf0_11eb_917d_7085c233535crow7_col1\" class=\"data row7 col1\" >0.0</td>\n",
       "                        <td id=\"T_00aea8ee_0cf0_11eb_917d_7085c233535crow7_col2\" class=\"data row7 col2\" >0.0</td>\n",
       "                        <td id=\"T_00aea8ee_0cf0_11eb_917d_7085c233535crow7_col3\" class=\"data row7 col3\" >0.0</td>\n",
       "            </tr>\n",
       "    </tbody></table>"
      ],
      "text/plain": [
       "<pandas.io.formats.style.Styler at 0x1eb295ac048>"
      ]
     },
     "execution_count": 21,
     "metadata": {},
     "output_type": "execute_result"
    },
    {
     "data": {
      "application/javascript": [
       "\n",
       "            setTimeout(function() {\n",
       "                var nbb_cell_id = 21;\n",
       "                var nbb_unformatted_code = \"cat_cols_labels = cat_cols.copy()\\ncat_cols_labels.append(\\\"label\\\")\\nclst_avg = sample_kmeds[cat_cols_labels].groupby(\\\"label\\\").agg(pd.Series.mode).T\\nclst_avg.style.background_gradient(axis=1)\";\n",
       "                var nbb_formatted_code = \"cat_cols_labels = cat_cols.copy()\\ncat_cols_labels.append(\\\"label\\\")\\nclst_avg = sample_kmeds[cat_cols_labels].groupby(\\\"label\\\").agg(pd.Series.mode).T\\nclst_avg.style.background_gradient(axis=1)\";\n",
       "                var nbb_cells = Jupyter.notebook.get_cells();\n",
       "                for (var i = 0; i < nbb_cells.length; ++i) {\n",
       "                    if (nbb_cells[i].input_prompt_number == nbb_cell_id) {\n",
       "                        if (nbb_cells[i].get_text() == nbb_unformatted_code) {\n",
       "                             nbb_cells[i].set_text(nbb_formatted_code);\n",
       "                        }\n",
       "                        break;\n",
       "                    }\n",
       "                }\n",
       "            }, 500);\n",
       "            "
      ],
      "text/plain": [
       "<IPython.core.display.Javascript object>"
      ]
     },
     "metadata": {},
     "output_type": "display_data"
    }
   ],
   "source": [
    "cat_cols_labels = cat_cols.copy()\n",
    "cat_cols_labels.append(\"label\")\n",
    "clst_avg = sample_kmeds[cat_cols_labels].groupby(\"label\").agg(pd.Series.mode).T\n",
    "clst_avg.style.background_gradient(axis=1)"
   ]
  },
  {
   "cell_type": "code",
   "execution_count": null,
   "metadata": {},
   "outputs": [],
   "source": []
  },
  {
   "cell_type": "code",
   "execution_count": null,
   "metadata": {},
   "outputs": [],
   "source": []
  },
  {
   "cell_type": "code",
   "execution_count": null,
   "metadata": {
    "scrolled": true
   },
   "outputs": [],
   "source": []
  },
  {
   "cell_type": "code",
   "execution_count": null,
   "metadata": {},
   "outputs": [],
   "source": []
  },
  {
   "cell_type": "code",
   "execution_count": null,
   "metadata": {},
   "outputs": [],
   "source": []
  },
  {
   "cell_type": "code",
   "execution_count": 22,
   "metadata": {},
   "outputs": [
    {
     "data": {
      "application/vnd.jupyter.widget-view+json": {
       "model_id": "86eb101aa67d4a83b2d17ddd6e810f8f",
       "version_major": 2,
       "version_minor": 0
      },
      "text/plain": [
       "interactive(children=(Dropdown(description='color', options=('State', 'BankState', 'NoEmp', 'NewExist', 'Creat…"
      ]
     },
     "metadata": {},
     "output_type": "display_data"
    },
    {
     "data": {
      "application/javascript": [
       "\n",
       "            setTimeout(function() {\n",
       "                var nbb_cell_id = 22;\n",
       "                var nbb_unformatted_code = \"@interact\\ndef plot(color=sample_kmeds.columns, opacity=(0, 1.0)):\\n    fig = px.scatter(\\n        data_frame=sample_kmeds,\\n        x=\\\"famd_x\\\",\\n        y=\\\"famd_y\\\",\\n        color=color,\\n        hover_data=[\\\"DisbursementGross\\\", \\\"LowDoc\\\", \\\"label\\\"],\\n        # symbol=\\\"label\\\",\\n    )\\n    fig.update_traces(marker={\\\"opacity\\\": opacity})\\n    fig.show()\";\n",
       "                var nbb_formatted_code = \"@interact\\ndef plot(color=sample_kmeds.columns, opacity=(0, 1.0)):\\n    fig = px.scatter(\\n        data_frame=sample_kmeds,\\n        x=\\\"famd_x\\\",\\n        y=\\\"famd_y\\\",\\n        color=color,\\n        hover_data=[\\\"DisbursementGross\\\", \\\"LowDoc\\\", \\\"label\\\"],\\n        # symbol=\\\"label\\\",\\n    )\\n    fig.update_traces(marker={\\\"opacity\\\": opacity})\\n    fig.show()\";\n",
       "                var nbb_cells = Jupyter.notebook.get_cells();\n",
       "                for (var i = 0; i < nbb_cells.length; ++i) {\n",
       "                    if (nbb_cells[i].input_prompt_number == nbb_cell_id) {\n",
       "                        if (nbb_cells[i].get_text() == nbb_unformatted_code) {\n",
       "                             nbb_cells[i].set_text(nbb_formatted_code);\n",
       "                        }\n",
       "                        break;\n",
       "                    }\n",
       "                }\n",
       "            }, 500);\n",
       "            "
      ],
      "text/plain": [
       "<IPython.core.display.Javascript object>"
      ]
     },
     "metadata": {},
     "output_type": "display_data"
    }
   ],
   "source": [
    "@interact\n",
    "def plot(color=sample_kmeds.columns, opacity=(0, 1.0)):\n",
    "    fig = px.scatter(\n",
    "        data_frame=sample_kmeds,\n",
    "        x=\"famd_x\",\n",
    "        y=\"famd_y\",\n",
    "        color=color,\n",
    "        hover_data=[\"DisbursementGross\", \"LowDoc\", \"label\"],\n",
    "        # symbol=\"label\",\n",
    "    )\n",
    "    fig.update_traces(marker={\"opacity\": opacity})\n",
    "    fig.show()"
   ]
  },
  {
   "cell_type": "markdown",
   "metadata": {},
   "source": [
    "### DBSCAN"
   ]
  },
  {
   "cell_type": "code",
   "execution_count": 23,
   "metadata": {},
   "outputs": [
    {
     "data": {
      "text/plain": [
       "DBSCAN(algorithm='auto', eps=0.1, leaf_size=30, metric='precomputed',\n",
       "       metric_params=None, min_samples=10, n_jobs=None, p=None)"
      ]
     },
     "execution_count": 23,
     "metadata": {},
     "output_type": "execute_result"
    },
    {
     "data": {
      "application/javascript": [
       "\n",
       "            setTimeout(function() {\n",
       "                var nbb_cell_id = 23;\n",
       "                var nbb_unformatted_code = \"clst = DBSCAN(eps=0.1, min_samples=10, metric=\\\"precomputed\\\")\\nclst.fit(gower_df)\";\n",
       "                var nbb_formatted_code = \"clst = DBSCAN(eps=0.1, min_samples=10, metric=\\\"precomputed\\\")\\nclst.fit(gower_df)\";\n",
       "                var nbb_cells = Jupyter.notebook.get_cells();\n",
       "                for (var i = 0; i < nbb_cells.length; ++i) {\n",
       "                    if (nbb_cells[i].input_prompt_number == nbb_cell_id) {\n",
       "                        if (nbb_cells[i].get_text() == nbb_unformatted_code) {\n",
       "                             nbb_cells[i].set_text(nbb_formatted_code);\n",
       "                        }\n",
       "                        break;\n",
       "                    }\n",
       "                }\n",
       "            }, 500);\n",
       "            "
      ],
      "text/plain": [
       "<IPython.core.display.Javascript object>"
      ]
     },
     "metadata": {},
     "output_type": "display_data"
    }
   ],
   "source": [
    "clst = DBSCAN(eps=0.1, min_samples=10, metric=\"precomputed\")\n",
    "clst.fit(gower_df)"
   ]
  },
  {
   "cell_type": "code",
   "execution_count": 24,
   "metadata": {},
   "outputs": [
    {
     "data": {
      "text/plain": [
       "0     618\n",
       "-1    275\n",
       "2      63\n",
       "1      29\n",
       "3      15\n",
       "Name: label, dtype: int64"
      ]
     },
     "execution_count": 24,
     "metadata": {},
     "output_type": "execute_result"
    },
    {
     "data": {
      "application/javascript": [
       "\n",
       "            setTimeout(function() {\n",
       "                var nbb_cell_id = 24;\n",
       "                var nbb_unformatted_code = \"sample_dbscan = sample.copy()\\nsample_dbscan[\\\"label\\\"] = clst.labels_\\nsample_dbscan[\\\"label\\\"] = sample_dbscan[\\\"label\\\"].astype(\\\"str\\\")\\nsample_dbscan[\\\"label\\\"].value_counts()\";\n",
       "                var nbb_formatted_code = \"sample_dbscan = sample.copy()\\nsample_dbscan[\\\"label\\\"] = clst.labels_\\nsample_dbscan[\\\"label\\\"] = sample_dbscan[\\\"label\\\"].astype(\\\"str\\\")\\nsample_dbscan[\\\"label\\\"].value_counts()\";\n",
       "                var nbb_cells = Jupyter.notebook.get_cells();\n",
       "                for (var i = 0; i < nbb_cells.length; ++i) {\n",
       "                    if (nbb_cells[i].input_prompt_number == nbb_cell_id) {\n",
       "                        if (nbb_cells[i].get_text() == nbb_unformatted_code) {\n",
       "                             nbb_cells[i].set_text(nbb_formatted_code);\n",
       "                        }\n",
       "                        break;\n",
       "                    }\n",
       "                }\n",
       "            }, 500);\n",
       "            "
      ],
      "text/plain": [
       "<IPython.core.display.Javascript object>"
      ]
     },
     "metadata": {},
     "output_type": "display_data"
    }
   ],
   "source": [
    "sample_dbscan = sample.copy()\n",
    "sample_dbscan[\"label\"] = clst.labels_\n",
    "sample_dbscan[\"label\"] = sample_dbscan[\"label\"].astype(\"str\")\n",
    "sample_dbscan[\"label\"].value_counts()"
   ]
  },
  {
   "cell_type": "code",
   "execution_count": 25,
   "metadata": {},
   "outputs": [
    {
     "data": {
      "text/html": [
       "<style  type=\"text/css\" >\n",
       "    #T_0170a2ee_0cf0_11eb_9416_7085c233535crow0_col0 {\n",
       "            background-color:  #023858;\n",
       "            color:  #f1f1f1;\n",
       "        }    #T_0170a2ee_0cf0_11eb_9416_7085c233535crow0_col1 {\n",
       "            background-color:  #84b0d3;\n",
       "            color:  #000000;\n",
       "        }    #T_0170a2ee_0cf0_11eb_9416_7085c233535crow0_col2 {\n",
       "            background-color:  #fff7fb;\n",
       "            color:  #000000;\n",
       "        }    #T_0170a2ee_0cf0_11eb_9416_7085c233535crow0_col3 {\n",
       "            background-color:  #9ab8d8;\n",
       "            color:  #000000;\n",
       "        }    #T_0170a2ee_0cf0_11eb_9416_7085c233535crow0_col4 {\n",
       "            background-color:  #efe9f3;\n",
       "            color:  #000000;\n",
       "        }    #T_0170a2ee_0cf0_11eb_9416_7085c233535crow1_col0 {\n",
       "            background-color:  #03466e;\n",
       "            color:  #f1f1f1;\n",
       "        }    #T_0170a2ee_0cf0_11eb_9416_7085c233535crow1_col1 {\n",
       "            background-color:  #fff7fb;\n",
       "            color:  #000000;\n",
       "        }    #T_0170a2ee_0cf0_11eb_9416_7085c233535crow1_col2 {\n",
       "            background-color:  #9cb9d9;\n",
       "            color:  #000000;\n",
       "        }    #T_0170a2ee_0cf0_11eb_9416_7085c233535crow1_col3 {\n",
       "            background-color:  #fbf4f9;\n",
       "            color:  #000000;\n",
       "        }    #T_0170a2ee_0cf0_11eb_9416_7085c233535crow1_col4 {\n",
       "            background-color:  #023858;\n",
       "            color:  #f1f1f1;\n",
       "        }    #T_0170a2ee_0cf0_11eb_9416_7085c233535crow2_col0 {\n",
       "            background-color:  #dcdaeb;\n",
       "            color:  #000000;\n",
       "        }    #T_0170a2ee_0cf0_11eb_9416_7085c233535crow2_col1 {\n",
       "            background-color:  #9cb9d9;\n",
       "            color:  #000000;\n",
       "        }    #T_0170a2ee_0cf0_11eb_9416_7085c233535crow2_col2 {\n",
       "            background-color:  #fff7fb;\n",
       "            color:  #000000;\n",
       "        }    #T_0170a2ee_0cf0_11eb_9416_7085c233535crow2_col3 {\n",
       "            background-color:  #023858;\n",
       "            color:  #f1f1f1;\n",
       "        }    #T_0170a2ee_0cf0_11eb_9416_7085c233535crow2_col4 {\n",
       "            background-color:  #e4e1ef;\n",
       "            color:  #000000;\n",
       "        }    #T_0170a2ee_0cf0_11eb_9416_7085c233535crow3_col0 {\n",
       "            background-color:  #04588a;\n",
       "            color:  #f1f1f1;\n",
       "        }    #T_0170a2ee_0cf0_11eb_9416_7085c233535crow3_col1 {\n",
       "            background-color:  #f3edf5;\n",
       "            color:  #000000;\n",
       "        }    #T_0170a2ee_0cf0_11eb_9416_7085c233535crow3_col2 {\n",
       "            background-color:  #fff7fb;\n",
       "            color:  #000000;\n",
       "        }    #T_0170a2ee_0cf0_11eb_9416_7085c233535crow3_col3 {\n",
       "            background-color:  #023858;\n",
       "            color:  #f1f1f1;\n",
       "        }    #T_0170a2ee_0cf0_11eb_9416_7085c233535crow3_col4 {\n",
       "            background-color:  #e1dfed;\n",
       "            color:  #000000;\n",
       "        }    #T_0170a2ee_0cf0_11eb_9416_7085c233535crow4_col0 {\n",
       "            background-color:  #04649d;\n",
       "            color:  #f1f1f1;\n",
       "        }    #T_0170a2ee_0cf0_11eb_9416_7085c233535crow4_col1 {\n",
       "            background-color:  #86b0d3;\n",
       "            color:  #000000;\n",
       "        }    #T_0170a2ee_0cf0_11eb_9416_7085c233535crow4_col2 {\n",
       "            background-color:  #86b0d3;\n",
       "            color:  #000000;\n",
       "        }    #T_0170a2ee_0cf0_11eb_9416_7085c233535crow4_col3 {\n",
       "            background-color:  #023858;\n",
       "            color:  #f1f1f1;\n",
       "        }    #T_0170a2ee_0cf0_11eb_9416_7085c233535crow4_col4 {\n",
       "            background-color:  #fff7fb;\n",
       "            color:  #000000;\n",
       "        }    #T_0170a2ee_0cf0_11eb_9416_7085c233535crow5_col0 {\n",
       "            background-color:  #fff7fb;\n",
       "            color:  #000000;\n",
       "        }    #T_0170a2ee_0cf0_11eb_9416_7085c233535crow5_col1 {\n",
       "            background-color:  #d1d2e6;\n",
       "            color:  #000000;\n",
       "        }    #T_0170a2ee_0cf0_11eb_9416_7085c233535crow5_col2 {\n",
       "            background-color:  #023858;\n",
       "            color:  #f1f1f1;\n",
       "        }    #T_0170a2ee_0cf0_11eb_9416_7085c233535crow5_col3 {\n",
       "            background-color:  #b7c5df;\n",
       "            color:  #000000;\n",
       "        }    #T_0170a2ee_0cf0_11eb_9416_7085c233535crow5_col4 {\n",
       "            background-color:  #eee9f3;\n",
       "            color:  #000000;\n",
       "        }    #T_0170a2ee_0cf0_11eb_9416_7085c233535crow6_col0 {\n",
       "            background-color:  #2685bb;\n",
       "            color:  #000000;\n",
       "        }    #T_0170a2ee_0cf0_11eb_9416_7085c233535crow6_col1 {\n",
       "            background-color:  #e9e5f1;\n",
       "            color:  #000000;\n",
       "        }    #T_0170a2ee_0cf0_11eb_9416_7085c233535crow6_col2 {\n",
       "            background-color:  #f7f0f7;\n",
       "            color:  #000000;\n",
       "        }    #T_0170a2ee_0cf0_11eb_9416_7085c233535crow6_col3 {\n",
       "            background-color:  #023858;\n",
       "            color:  #f1f1f1;\n",
       "        }    #T_0170a2ee_0cf0_11eb_9416_7085c233535crow6_col4 {\n",
       "            background-color:  #fff7fb;\n",
       "            color:  #000000;\n",
       "        }    #T_0170a2ee_0cf0_11eb_9416_7085c233535crow7_col0 {\n",
       "            background-color:  #e8e4f0;\n",
       "            color:  #000000;\n",
       "        }    #T_0170a2ee_0cf0_11eb_9416_7085c233535crow7_col1 {\n",
       "            background-color:  #023858;\n",
       "            color:  #f1f1f1;\n",
       "        }    #T_0170a2ee_0cf0_11eb_9416_7085c233535crow7_col2 {\n",
       "            background-color:  #fef6fa;\n",
       "            color:  #000000;\n",
       "        }    #T_0170a2ee_0cf0_11eb_9416_7085c233535crow7_col3 {\n",
       "            background-color:  #dddbec;\n",
       "            color:  #000000;\n",
       "        }    #T_0170a2ee_0cf0_11eb_9416_7085c233535crow7_col4 {\n",
       "            background-color:  #fff7fb;\n",
       "            color:  #000000;\n",
       "        }</style><table id=\"T_0170a2ee_0cf0_11eb_9416_7085c233535c\" ><thead>    <tr>        <th class=\"index_name level0\" >label</th>        <th class=\"col_heading level0 col0\" >-1</th>        <th class=\"col_heading level0 col1\" >0</th>        <th class=\"col_heading level0 col2\" >1</th>        <th class=\"col_heading level0 col3\" >2</th>        <th class=\"col_heading level0 col4\" >3</th>    </tr></thead><tbody>\n",
       "                <tr>\n",
       "                        <th id=\"T_0170a2ee_0cf0_11eb_9416_7085c233535clevel0_row0\" class=\"row_heading level0 row0\" >NoEmp</th>\n",
       "                        <td id=\"T_0170a2ee_0cf0_11eb_9416_7085c233535crow0_col0\" class=\"data row0 col0\" >6.589091</td>\n",
       "                        <td id=\"T_0170a2ee_0cf0_11eb_9416_7085c233535crow0_col1\" class=\"data row0 col1\" >5.019417</td>\n",
       "                        <td id=\"T_0170a2ee_0cf0_11eb_9416_7085c233535crow0_col2\" class=\"data row0 col2\" >3.689655</td>\n",
       "                        <td id=\"T_0170a2ee_0cf0_11eb_9416_7085c233535crow0_col3\" class=\"data row0 col3\" >4.857143</td>\n",
       "                        <td id=\"T_0170a2ee_0cf0_11eb_9416_7085c233535crow0_col4\" class=\"data row0 col4\" >4.000000</td>\n",
       "            </tr>\n",
       "            <tr>\n",
       "                        <th id=\"T_0170a2ee_0cf0_11eb_9416_7085c233535clevel0_row1\" class=\"row_heading level0 row1\" >CreateJob</th>\n",
       "                        <td id=\"T_0170a2ee_0cf0_11eb_9416_7085c233535crow1_col0\" class=\"data row1 col0\" >2.523636</td>\n",
       "                        <td id=\"T_0170a2ee_0cf0_11eb_9416_7085c233535crow1_col1\" class=\"data row1 col1\" >1.135922</td>\n",
       "                        <td id=\"T_0170a2ee_0cf0_11eb_9416_7085c233535crow1_col2\" class=\"data row1 col2\" >1.724138</td>\n",
       "                        <td id=\"T_0170a2ee_0cf0_11eb_9416_7085c233535crow1_col3\" class=\"data row1 col3\" >1.174603</td>\n",
       "                        <td id=\"T_0170a2ee_0cf0_11eb_9416_7085c233535crow1_col4\" class=\"data row1 col4\" >2.600000</td>\n",
       "            </tr>\n",
       "            <tr>\n",
       "                        <th id=\"T_0170a2ee_0cf0_11eb_9416_7085c233535clevel0_row2\" class=\"row_heading level0 row2\" >RetainedJob</th>\n",
       "                        <td id=\"T_0170a2ee_0cf0_11eb_9416_7085c233535crow2_col0\" class=\"data row2 col0\" >4.090909</td>\n",
       "                        <td id=\"T_0170a2ee_0cf0_11eb_9416_7085c233535crow2_col1\" class=\"data row2 col1\" >5.048544</td>\n",
       "                        <td id=\"T_0170a2ee_0cf0_11eb_9416_7085c233535crow2_col2\" class=\"data row2 col2\" >3.172414</td>\n",
       "                        <td id=\"T_0170a2ee_0cf0_11eb_9416_7085c233535crow2_col3\" class=\"data row2 col3\" >7.873016</td>\n",
       "                        <td id=\"T_0170a2ee_0cf0_11eb_9416_7085c233535crow2_col4\" class=\"data row2 col4\" >3.933333</td>\n",
       "            </tr>\n",
       "            <tr>\n",
       "                        <th id=\"T_0170a2ee_0cf0_11eb_9416_7085c233535clevel0_row3\" class=\"row_heading level0 row3\" >DisbursementGross</th>\n",
       "                        <td id=\"T_0170a2ee_0cf0_11eb_9416_7085c233535crow3_col0\" class=\"data row3 col0\" >177044.647273</td>\n",
       "                        <td id=\"T_0170a2ee_0cf0_11eb_9416_7085c233535crow3_col1\" class=\"data row3 col1\" >77006.092233</td>\n",
       "                        <td id=\"T_0170a2ee_0cf0_11eb_9416_7085c233535crow3_col2\" class=\"data row3 col2\" >67185.724138</td>\n",
       "                        <td id=\"T_0170a2ee_0cf0_11eb_9416_7085c233535crow3_col3\" class=\"data row3 col3\" >191742.857143</td>\n",
       "                        <td id=\"T_0170a2ee_0cf0_11eb_9416_7085c233535crow3_col4\" class=\"data row3 col4\" >88967.666667</td>\n",
       "            </tr>\n",
       "            <tr>\n",
       "                        <th id=\"T_0170a2ee_0cf0_11eb_9416_7085c233535clevel0_row4\" class=\"row_heading level0 row4\" >Term_years</th>\n",
       "                        <td id=\"T_0170a2ee_0cf0_11eb_9416_7085c233535crow4_col0\" class=\"data row4 col0\" >5.338182</td>\n",
       "                        <td id=\"T_0170a2ee_0cf0_11eb_9416_7085c233535crow4_col1\" class=\"data row4 col1\" >3.873382</td>\n",
       "                        <td id=\"T_0170a2ee_0cf0_11eb_9416_7085c233535crow4_col2\" class=\"data row4 col2\" >3.876437</td>\n",
       "                        <td id=\"T_0170a2ee_0cf0_11eb_9416_7085c233535crow4_col3\" class=\"data row4 col3\" >6.062169</td>\n",
       "                        <td id=\"T_0170a2ee_0cf0_11eb_9416_7085c233535crow4_col4\" class=\"data row4 col4\" >2.050000</td>\n",
       "            </tr>\n",
       "            <tr>\n",
       "                        <th id=\"T_0170a2ee_0cf0_11eb_9416_7085c233535clevel0_row5\" class=\"row_heading level0 row5\" >Disbr_year</th>\n",
       "                        <td id=\"T_0170a2ee_0cf0_11eb_9416_7085c233535crow5_col0\" class=\"data row5 col0\" >2005.320000</td>\n",
       "                        <td id=\"T_0170a2ee_0cf0_11eb_9416_7085c233535crow5_col1\" class=\"data row5 col1\" >2005.791262</td>\n",
       "                        <td id=\"T_0170a2ee_0cf0_11eb_9416_7085c233535crow5_col2\" class=\"data row5 col2\" >2007.206897</td>\n",
       "                        <td id=\"T_0170a2ee_0cf0_11eb_9416_7085c233535crow5_col3\" class=\"data row5 col3\" >2005.936508</td>\n",
       "                        <td id=\"T_0170a2ee_0cf0_11eb_9416_7085c233535crow5_col4\" class=\"data row5 col4\" >2005.533333</td>\n",
       "            </tr>\n",
       "            <tr>\n",
       "                        <th id=\"T_0170a2ee_0cf0_11eb_9416_7085c233535clevel0_row6\" class=\"row_heading level0 row6\" >percent_SBA</th>\n",
       "                        <td id=\"T_0170a2ee_0cf0_11eb_9416_7085c233535crow6_col0\" class=\"data row6 col0\" >0.677123</td>\n",
       "                        <td id=\"T_0170a2ee_0cf0_11eb_9416_7085c233535crow6_col1\" class=\"data row6 col1\" >0.568447</td>\n",
       "                        <td id=\"T_0170a2ee_0cf0_11eb_9416_7085c233535crow6_col2\" class=\"data row6 col2\" >0.551724</td>\n",
       "                        <td id=\"T_0170a2ee_0cf0_11eb_9416_7085c233535crow6_col3\" class=\"data row6 col3\" >0.746032</td>\n",
       "                        <td id=\"T_0170a2ee_0cf0_11eb_9416_7085c233535crow6_col4\" class=\"data row6 col4\" >0.540000</td>\n",
       "            </tr>\n",
       "            <tr>\n",
       "                        <th id=\"T_0170a2ee_0cf0_11eb_9416_7085c233535clevel0_row7\" class=\"row_heading level0 row7\" >bank_size</th>\n",
       "                        <td id=\"T_0170a2ee_0cf0_11eb_9416_7085c233535crow7_col0\" class=\"data row7 col0\" >7378.996364</td>\n",
       "                        <td id=\"T_0170a2ee_0cf0_11eb_9416_7085c233535crow7_col1\" class=\"data row7 col1\" >31311.064725</td>\n",
       "                        <td id=\"T_0170a2ee_0cf0_11eb_9416_7085c233535crow7_col2\" class=\"data row7 col2\" >3695.310345</td>\n",
       "                        <td id=\"T_0170a2ee_0cf0_11eb_9416_7085c233535crow7_col3\" class=\"data row7 col3\" >8799.571429</td>\n",
       "                        <td id=\"T_0170a2ee_0cf0_11eb_9416_7085c233535crow7_col4\" class=\"data row7 col4\" >3380.600000</td>\n",
       "            </tr>\n",
       "    </tbody></table>"
      ],
      "text/plain": [
       "<pandas.io.formats.style.Styler at 0x1eb32172ac8>"
      ]
     },
     "execution_count": 25,
     "metadata": {},
     "output_type": "execute_result"
    },
    {
     "data": {
      "application/javascript": [
       "\n",
       "            setTimeout(function() {\n",
       "                var nbb_cell_id = 25;\n",
       "                var nbb_unformatted_code = \"num_cols_labels = num_cols.copy()\\nnum_cols_labels.append(\\\"label\\\")\\nclst_avg = sample_dbscan[num_cols_labels].groupby(\\\"label\\\").mean().T\\nclst_avg.style.background_gradient(axis=1)\";\n",
       "                var nbb_formatted_code = \"num_cols_labels = num_cols.copy()\\nnum_cols_labels.append(\\\"label\\\")\\nclst_avg = sample_dbscan[num_cols_labels].groupby(\\\"label\\\").mean().T\\nclst_avg.style.background_gradient(axis=1)\";\n",
       "                var nbb_cells = Jupyter.notebook.get_cells();\n",
       "                for (var i = 0; i < nbb_cells.length; ++i) {\n",
       "                    if (nbb_cells[i].input_prompt_number == nbb_cell_id) {\n",
       "                        if (nbb_cells[i].get_text() == nbb_unformatted_code) {\n",
       "                             nbb_cells[i].set_text(nbb_formatted_code);\n",
       "                        }\n",
       "                        break;\n",
       "                    }\n",
       "                }\n",
       "            }, 500);\n",
       "            "
      ],
      "text/plain": [
       "<IPython.core.display.Javascript object>"
      ]
     },
     "metadata": {},
     "output_type": "display_data"
    }
   ],
   "source": [
    "num_cols_labels = num_cols.copy()\n",
    "num_cols_labels.append(\"label\")\n",
    "clst_avg = sample_dbscan[num_cols_labels].groupby(\"label\").mean().T\n",
    "clst_avg.style.background_gradient(axis=1)"
   ]
  },
  {
   "cell_type": "code",
   "execution_count": 26,
   "metadata": {},
   "outputs": [
    {
     "data": {
      "text/html": [
       "<style  type=\"text/css\" >\n",
       "</style><table id=\"T_018cf12e_0cf0_11eb_b8d6_7085c233535c\" ><thead>    <tr>        <th class=\"index_name level0\" >label</th>        <th class=\"col_heading level0 col0\" >-1</th>        <th class=\"col_heading level0 col1\" >0</th>        <th class=\"col_heading level0 col2\" >1</th>        <th class=\"col_heading level0 col3\" >2</th>        <th class=\"col_heading level0 col4\" >3</th>    </tr></thead><tbody>\n",
       "                <tr>\n",
       "                        <th id=\"T_018cf12e_0cf0_11eb_b8d6_7085c233535clevel0_row0\" class=\"row_heading level0 row0\" >State</th>\n",
       "                        <td id=\"T_018cf12e_0cf0_11eb_b8d6_7085c233535crow0_col0\" class=\"data row0 col0\" >TX</td>\n",
       "                        <td id=\"T_018cf12e_0cf0_11eb_b8d6_7085c233535crow0_col1\" class=\"data row0 col1\" >['CA' 'FL']</td>\n",
       "                        <td id=\"T_018cf12e_0cf0_11eb_b8d6_7085c233535crow0_col2\" class=\"data row0 col2\" >UT</td>\n",
       "                        <td id=\"T_018cf12e_0cf0_11eb_b8d6_7085c233535crow0_col3\" class=\"data row0 col3\" >CA</td>\n",
       "                        <td id=\"T_018cf12e_0cf0_11eb_b8d6_7085c233535crow0_col4\" class=\"data row0 col4\" >NY</td>\n",
       "            </tr>\n",
       "            <tr>\n",
       "                        <th id=\"T_018cf12e_0cf0_11eb_b8d6_7085c233535clevel0_row1\" class=\"row_heading level0 row1\" >BankState</th>\n",
       "                        <td id=\"T_018cf12e_0cf0_11eb_b8d6_7085c233535crow1_col0\" class=\"data row1 col0\" >OH</td>\n",
       "                        <td id=\"T_018cf12e_0cf0_11eb_b8d6_7085c233535crow1_col1\" class=\"data row1 col1\" >NC</td>\n",
       "                        <td id=\"T_018cf12e_0cf0_11eb_b8d6_7085c233535crow1_col2\" class=\"data row1 col2\" >UT</td>\n",
       "                        <td id=\"T_018cf12e_0cf0_11eb_b8d6_7085c233535crow1_col3\" class=\"data row1 col3\" >CA</td>\n",
       "                        <td id=\"T_018cf12e_0cf0_11eb_b8d6_7085c233535crow1_col4\" class=\"data row1 col4\" >NY</td>\n",
       "            </tr>\n",
       "            <tr>\n",
       "                        <th id=\"T_018cf12e_0cf0_11eb_b8d6_7085c233535clevel0_row2\" class=\"row_heading level0 row2\" >NewExist</th>\n",
       "                        <td id=\"T_018cf12e_0cf0_11eb_b8d6_7085c233535crow2_col0\" class=\"data row2 col0\" >0</td>\n",
       "                        <td id=\"T_018cf12e_0cf0_11eb_b8d6_7085c233535crow2_col1\" class=\"data row2 col1\" >0</td>\n",
       "                        <td id=\"T_018cf12e_0cf0_11eb_b8d6_7085c233535crow2_col2\" class=\"data row2 col2\" >0</td>\n",
       "                        <td id=\"T_018cf12e_0cf0_11eb_b8d6_7085c233535crow2_col3\" class=\"data row2 col3\" >0</td>\n",
       "                        <td id=\"T_018cf12e_0cf0_11eb_b8d6_7085c233535crow2_col4\" class=\"data row2 col4\" >0</td>\n",
       "            </tr>\n",
       "            <tr>\n",
       "                        <th id=\"T_018cf12e_0cf0_11eb_b8d6_7085c233535clevel0_row3\" class=\"row_heading level0 row3\" >RevLineCr</th>\n",
       "                        <td id=\"T_018cf12e_0cf0_11eb_b8d6_7085c233535crow3_col0\" class=\"data row3 col0\" >0.0</td>\n",
       "                        <td id=\"T_018cf12e_0cf0_11eb_b8d6_7085c233535crow3_col1\" class=\"data row3 col1\" >1.0</td>\n",
       "                        <td id=\"T_018cf12e_0cf0_11eb_b8d6_7085c233535crow3_col2\" class=\"data row3 col2\" >1.0</td>\n",
       "                        <td id=\"T_018cf12e_0cf0_11eb_b8d6_7085c233535crow3_col3\" class=\"data row3 col3\" >0.0</td>\n",
       "                        <td id=\"T_018cf12e_0cf0_11eb_b8d6_7085c233535crow3_col4\" class=\"data row3 col4\" >0.0</td>\n",
       "            </tr>\n",
       "            <tr>\n",
       "                        <th id=\"T_018cf12e_0cf0_11eb_b8d6_7085c233535clevel0_row4\" class=\"row_heading level0 row4\" >LowDoc</th>\n",
       "                        <td id=\"T_018cf12e_0cf0_11eb_b8d6_7085c233535crow4_col0\" class=\"data row4 col0\" >0.0</td>\n",
       "                        <td id=\"T_018cf12e_0cf0_11eb_b8d6_7085c233535crow4_col1\" class=\"data row4 col1\" >0.0</td>\n",
       "                        <td id=\"T_018cf12e_0cf0_11eb_b8d6_7085c233535crow4_col2\" class=\"data row4 col2\" >0.0</td>\n",
       "                        <td id=\"T_018cf12e_0cf0_11eb_b8d6_7085c233535crow4_col3\" class=\"data row4 col3\" >0.0</td>\n",
       "                        <td id=\"T_018cf12e_0cf0_11eb_b8d6_7085c233535crow4_col4\" class=\"data row4 col4\" >0.0</td>\n",
       "            </tr>\n",
       "            <tr>\n",
       "                        <th id=\"T_018cf12e_0cf0_11eb_b8d6_7085c233535clevel0_row5\" class=\"row_heading level0 row5\" >is_franchise</th>\n",
       "                        <td id=\"T_018cf12e_0cf0_11eb_b8d6_7085c233535crow5_col0\" class=\"data row5 col0\" >0.0</td>\n",
       "                        <td id=\"T_018cf12e_0cf0_11eb_b8d6_7085c233535crow5_col1\" class=\"data row5 col1\" >0.0</td>\n",
       "                        <td id=\"T_018cf12e_0cf0_11eb_b8d6_7085c233535crow5_col2\" class=\"data row5 col2\" >0.0</td>\n",
       "                        <td id=\"T_018cf12e_0cf0_11eb_b8d6_7085c233535crow5_col3\" class=\"data row5 col3\" >0.0</td>\n",
       "                        <td id=\"T_018cf12e_0cf0_11eb_b8d6_7085c233535crow5_col4\" class=\"data row5 col4\" >0.0</td>\n",
       "            </tr>\n",
       "            <tr>\n",
       "                        <th id=\"T_018cf12e_0cf0_11eb_b8d6_7085c233535clevel0_row6\" class=\"row_heading level0 row6\" >bank_out_of_state</th>\n",
       "                        <td id=\"T_018cf12e_0cf0_11eb_b8d6_7085c233535crow6_col0\" class=\"data row6 col0\" >1</td>\n",
       "                        <td id=\"T_018cf12e_0cf0_11eb_b8d6_7085c233535crow6_col1\" class=\"data row6 col1\" >0</td>\n",
       "                        <td id=\"T_018cf12e_0cf0_11eb_b8d6_7085c233535crow6_col2\" class=\"data row6 col2\" >1</td>\n",
       "                        <td id=\"T_018cf12e_0cf0_11eb_b8d6_7085c233535crow6_col3\" class=\"data row6 col3\" >1</td>\n",
       "                        <td id=\"T_018cf12e_0cf0_11eb_b8d6_7085c233535crow6_col4\" class=\"data row6 col4\" >1</td>\n",
       "            </tr>\n",
       "            <tr>\n",
       "                        <th id=\"T_018cf12e_0cf0_11eb_b8d6_7085c233535clevel0_row7\" class=\"row_heading level0 row7\" >UrbanRural_cleaned</th>\n",
       "                        <td id=\"T_018cf12e_0cf0_11eb_b8d6_7085c233535crow7_col0\" class=\"data row7 col0\" >0.0</td>\n",
       "                        <td id=\"T_018cf12e_0cf0_11eb_b8d6_7085c233535crow7_col1\" class=\"data row7 col1\" >0.0</td>\n",
       "                        <td id=\"T_018cf12e_0cf0_11eb_b8d6_7085c233535crow7_col2\" class=\"data row7 col2\" >0.0</td>\n",
       "                        <td id=\"T_018cf12e_0cf0_11eb_b8d6_7085c233535crow7_col3\" class=\"data row7 col3\" >0.0</td>\n",
       "                        <td id=\"T_018cf12e_0cf0_11eb_b8d6_7085c233535crow7_col4\" class=\"data row7 col4\" >0.0</td>\n",
       "            </tr>\n",
       "    </tbody></table>"
      ],
      "text/plain": [
       "<pandas.io.formats.style.Styler at 0x1eb32198a88>"
      ]
     },
     "execution_count": 26,
     "metadata": {},
     "output_type": "execute_result"
    },
    {
     "data": {
      "application/javascript": [
       "\n",
       "            setTimeout(function() {\n",
       "                var nbb_cell_id = 26;\n",
       "                var nbb_unformatted_code = \"cat_cols_labels = cat_cols.copy()\\ncat_cols_labels.append(\\\"label\\\")\\nclst_avg = sample_dbscan[cat_cols_labels].groupby(\\\"label\\\").agg(pd.Series.mode).T\\nclst_avg.style.background_gradient(axis=1)\";\n",
       "                var nbb_formatted_code = \"cat_cols_labels = cat_cols.copy()\\ncat_cols_labels.append(\\\"label\\\")\\nclst_avg = sample_dbscan[cat_cols_labels].groupby(\\\"label\\\").agg(pd.Series.mode).T\\nclst_avg.style.background_gradient(axis=1)\";\n",
       "                var nbb_cells = Jupyter.notebook.get_cells();\n",
       "                for (var i = 0; i < nbb_cells.length; ++i) {\n",
       "                    if (nbb_cells[i].input_prompt_number == nbb_cell_id) {\n",
       "                        if (nbb_cells[i].get_text() == nbb_unformatted_code) {\n",
       "                             nbb_cells[i].set_text(nbb_formatted_code);\n",
       "                        }\n",
       "                        break;\n",
       "                    }\n",
       "                }\n",
       "            }, 500);\n",
       "            "
      ],
      "text/plain": [
       "<IPython.core.display.Javascript object>"
      ]
     },
     "metadata": {},
     "output_type": "display_data"
    }
   ],
   "source": [
    "cat_cols_labels = cat_cols.copy()\n",
    "cat_cols_labels.append(\"label\")\n",
    "clst_avg = sample_dbscan[cat_cols_labels].groupby(\"label\").agg(pd.Series.mode).T\n",
    "clst_avg.style.background_gradient(axis=1)"
   ]
  },
  {
   "cell_type": "code",
   "execution_count": null,
   "metadata": {},
   "outputs": [],
   "source": []
  },
  {
   "cell_type": "code",
   "execution_count": 27,
   "metadata": {},
   "outputs": [
    {
     "data": {
      "application/vnd.jupyter.widget-view+json": {
       "model_id": "2f767a412abd4b7d860d335de7ab9f90",
       "version_major": 2,
       "version_minor": 0
      },
      "text/plain": [
       "interactive(children=(Dropdown(description='color', options=('State', 'BankState', 'NoEmp', 'NewExist', 'Creat…"
      ]
     },
     "metadata": {},
     "output_type": "display_data"
    },
    {
     "data": {
      "application/javascript": [
       "\n",
       "            setTimeout(function() {\n",
       "                var nbb_cell_id = 27;\n",
       "                var nbb_unformatted_code = \"# for dbscan, get rid of outliers\\nsample_dbscan = sample_dbscan[sample_dbscan[\\\"label\\\"] != \\\"-1\\\"]\\n\\n\\n@interact\\ndef plot(color=sample_dbscan.columns, opacity=(0, 1.0)):\\n    fig = px.scatter(\\n        data_frame=sample_dbscan,\\n        x=\\\"famd_x\\\",\\n        y=\\\"famd_y\\\",\\n        color=color,\\n        hover_data=[\\\"DisbursementGross\\\", \\\"LowDoc\\\", \\\"label\\\"],\\n        # symbol=\\\"label\\\",\\n    )\\n    fig.update_traces(marker={\\\"opacity\\\": opacity})\\n    fig.show()\";\n",
       "                var nbb_formatted_code = \"# for dbscan, get rid of outliers\\nsample_dbscan = sample_dbscan[sample_dbscan[\\\"label\\\"] != \\\"-1\\\"]\\n\\n\\n@interact\\ndef plot(color=sample_dbscan.columns, opacity=(0, 1.0)):\\n    fig = px.scatter(\\n        data_frame=sample_dbscan,\\n        x=\\\"famd_x\\\",\\n        y=\\\"famd_y\\\",\\n        color=color,\\n        hover_data=[\\\"DisbursementGross\\\", \\\"LowDoc\\\", \\\"label\\\"],\\n        # symbol=\\\"label\\\",\\n    )\\n    fig.update_traces(marker={\\\"opacity\\\": opacity})\\n    fig.show()\";\n",
       "                var nbb_cells = Jupyter.notebook.get_cells();\n",
       "                for (var i = 0; i < nbb_cells.length; ++i) {\n",
       "                    if (nbb_cells[i].input_prompt_number == nbb_cell_id) {\n",
       "                        if (nbb_cells[i].get_text() == nbb_unformatted_code) {\n",
       "                             nbb_cells[i].set_text(nbb_formatted_code);\n",
       "                        }\n",
       "                        break;\n",
       "                    }\n",
       "                }\n",
       "            }, 500);\n",
       "            "
      ],
      "text/plain": [
       "<IPython.core.display.Javascript object>"
      ]
     },
     "metadata": {},
     "output_type": "display_data"
    }
   ],
   "source": [
    "# for dbscan, get rid of outliers\n",
    "sample_dbscan = sample_dbscan[sample_dbscan[\"label\"] != \"-1\"]\n",
    "\n",
    "\n",
    "@interact\n",
    "def plot(color=sample_dbscan.columns, opacity=(0, 1.0)):\n",
    "    fig = px.scatter(\n",
    "        data_frame=sample_dbscan,\n",
    "        x=\"famd_x\",\n",
    "        y=\"famd_y\",\n",
    "        color=color,\n",
    "        hover_data=[\"DisbursementGross\", \"LowDoc\", \"label\"],\n",
    "        # symbol=\"label\",\n",
    "    )\n",
    "    fig.update_traces(marker={\"opacity\": opacity})\n",
    "    fig.show()"
   ]
  },
  {
   "cell_type": "code",
   "execution_count": null,
   "metadata": {},
   "outputs": [],
   "source": []
  },
  {
   "cell_type": "markdown",
   "metadata": {},
   "source": [
    "### Hierarchical"
   ]
  },
  {
   "cell_type": "code",
   "execution_count": 28,
   "metadata": {},
   "outputs": [
    {
     "data": {
      "text/plain": [
       "AgglomerativeClustering(affinity='precomputed', compute_full_tree='auto',\n",
       "                        connectivity=None, distance_threshold=None,\n",
       "                        linkage='complete', memory=None, n_clusters=4)"
      ]
     },
     "execution_count": 28,
     "metadata": {},
     "output_type": "execute_result"
    },
    {
     "data": {
      "application/javascript": [
       "\n",
       "            setTimeout(function() {\n",
       "                var nbb_cell_id = 28;\n",
       "                var nbb_unformatted_code = \"clst = AgglomerativeClustering(n_clusters=4, affinity=\\\"precomputed\\\", linkage=\\\"complete\\\")\\nclst.fit(gower_df)\";\n",
       "                var nbb_formatted_code = \"clst = AgglomerativeClustering(n_clusters=4, affinity=\\\"precomputed\\\", linkage=\\\"complete\\\")\\nclst.fit(gower_df)\";\n",
       "                var nbb_cells = Jupyter.notebook.get_cells();\n",
       "                for (var i = 0; i < nbb_cells.length; ++i) {\n",
       "                    if (nbb_cells[i].input_prompt_number == nbb_cell_id) {\n",
       "                        if (nbb_cells[i].get_text() == nbb_unformatted_code) {\n",
       "                             nbb_cells[i].set_text(nbb_formatted_code);\n",
       "                        }\n",
       "                        break;\n",
       "                    }\n",
       "                }\n",
       "            }, 500);\n",
       "            "
      ],
      "text/plain": [
       "<IPython.core.display.Javascript object>"
      ]
     },
     "metadata": {},
     "output_type": "display_data"
    }
   ],
   "source": [
    "clst = AgglomerativeClustering(n_clusters=4, affinity=\"precomputed\", linkage=\"complete\")\n",
    "clst.fit(gower_df)"
   ]
  },
  {
   "cell_type": "code",
   "execution_count": 29,
   "metadata": {},
   "outputs": [
    {
     "data": {
      "text/plain": [
       "1    512\n",
       "0    332\n",
       "3     91\n",
       "2     65\n",
       "Name: label, dtype: int64"
      ]
     },
     "execution_count": 29,
     "metadata": {},
     "output_type": "execute_result"
    },
    {
     "data": {
      "application/javascript": [
       "\n",
       "            setTimeout(function() {\n",
       "                var nbb_cell_id = 29;\n",
       "                var nbb_unformatted_code = \"sample_hier = sample.copy()\\nsample_hier[\\\"label\\\"] = clst.labels_\\nsample_hier[\\\"label\\\"] = sample_hier[\\\"label\\\"].astype(\\\"str\\\")\\nsample_hier[\\\"label\\\"].value_counts()\";\n",
       "                var nbb_formatted_code = \"sample_hier = sample.copy()\\nsample_hier[\\\"label\\\"] = clst.labels_\\nsample_hier[\\\"label\\\"] = sample_hier[\\\"label\\\"].astype(\\\"str\\\")\\nsample_hier[\\\"label\\\"].value_counts()\";\n",
       "                var nbb_cells = Jupyter.notebook.get_cells();\n",
       "                for (var i = 0; i < nbb_cells.length; ++i) {\n",
       "                    if (nbb_cells[i].input_prompt_number == nbb_cell_id) {\n",
       "                        if (nbb_cells[i].get_text() == nbb_unformatted_code) {\n",
       "                             nbb_cells[i].set_text(nbb_formatted_code);\n",
       "                        }\n",
       "                        break;\n",
       "                    }\n",
       "                }\n",
       "            }, 500);\n",
       "            "
      ],
      "text/plain": [
       "<IPython.core.display.Javascript object>"
      ]
     },
     "metadata": {},
     "output_type": "display_data"
    }
   ],
   "source": [
    "sample_hier = sample.copy()\n",
    "sample_hier[\"label\"] = clst.labels_\n",
    "sample_hier[\"label\"] = sample_hier[\"label\"].astype(\"str\")\n",
    "sample_hier[\"label\"].value_counts()"
   ]
  },
  {
   "cell_type": "code",
   "execution_count": 30,
   "metadata": {},
   "outputs": [
    {
     "data": {
      "text/html": [
       "<style  type=\"text/css\" >\n",
       "    #T_01ede1a2_0cf0_11eb_b97b_7085c233535crow0_col0 {\n",
       "            background-color:  #fff7fb;\n",
       "            color:  #000000;\n",
       "        }    #T_01ede1a2_0cf0_11eb_b97b_7085c233535crow0_col1 {\n",
       "            background-color:  #d8d7e9;\n",
       "            color:  #000000;\n",
       "        }    #T_01ede1a2_0cf0_11eb_b97b_7085c233535crow0_col2 {\n",
       "            background-color:  #023858;\n",
       "            color:  #f1f1f1;\n",
       "        }    #T_01ede1a2_0cf0_11eb_b97b_7085c233535crow0_col3 {\n",
       "            background-color:  #d1d2e6;\n",
       "            color:  #000000;\n",
       "        }    #T_01ede1a2_0cf0_11eb_b97b_7085c233535crow1_col0 {\n",
       "            background-color:  #eae6f1;\n",
       "            color:  #000000;\n",
       "        }    #T_01ede1a2_0cf0_11eb_b97b_7085c233535crow1_col1 {\n",
       "            background-color:  #fff7fb;\n",
       "            color:  #000000;\n",
       "        }    #T_01ede1a2_0cf0_11eb_b97b_7085c233535crow1_col2 {\n",
       "            background-color:  #023858;\n",
       "            color:  #f1f1f1;\n",
       "        }    #T_01ede1a2_0cf0_11eb_b97b_7085c233535crow1_col3 {\n",
       "            background-color:  #c5cce3;\n",
       "            color:  #000000;\n",
       "        }    #T_01ede1a2_0cf0_11eb_b97b_7085c233535crow2_col0 {\n",
       "            background-color:  #034e7b;\n",
       "            color:  #f1f1f1;\n",
       "        }    #T_01ede1a2_0cf0_11eb_b97b_7085c233535crow2_col1 {\n",
       "            background-color:  #023858;\n",
       "            color:  #f1f1f1;\n",
       "        }    #T_01ede1a2_0cf0_11eb_b97b_7085c233535crow2_col2 {\n",
       "            background-color:  #fff7fb;\n",
       "            color:  #000000;\n",
       "        }    #T_01ede1a2_0cf0_11eb_b97b_7085c233535crow2_col3 {\n",
       "            background-color:  #167bb6;\n",
       "            color:  #000000;\n",
       "        }    #T_01ede1a2_0cf0_11eb_b97b_7085c233535crow3_col0 {\n",
       "            background-color:  #056ead;\n",
       "            color:  #f1f1f1;\n",
       "        }    #T_01ede1a2_0cf0_11eb_b97b_7085c233535crow3_col1 {\n",
       "            background-color:  #fff7fb;\n",
       "            color:  #000000;\n",
       "        }    #T_01ede1a2_0cf0_11eb_b97b_7085c233535crow3_col2 {\n",
       "            background-color:  #023858;\n",
       "            color:  #f1f1f1;\n",
       "        }    #T_01ede1a2_0cf0_11eb_b97b_7085c233535crow3_col3 {\n",
       "            background-color:  #f5eff6;\n",
       "            color:  #000000;\n",
       "        }    #T_01ede1a2_0cf0_11eb_b97b_7085c233535crow4_col0 {\n",
       "            background-color:  #034c78;\n",
       "            color:  #f1f1f1;\n",
       "        }    #T_01ede1a2_0cf0_11eb_b97b_7085c233535crow4_col1 {\n",
       "            background-color:  #fff7fb;\n",
       "            color:  #000000;\n",
       "        }    #T_01ede1a2_0cf0_11eb_b97b_7085c233535crow4_col2 {\n",
       "            background-color:  #023858;\n",
       "            color:  #f1f1f1;\n",
       "        }    #T_01ede1a2_0cf0_11eb_b97b_7085c233535crow4_col3 {\n",
       "            background-color:  #f4eef6;\n",
       "            color:  #000000;\n",
       "        }    #T_01ede1a2_0cf0_11eb_b97b_7085c233535crow5_col0 {\n",
       "            background-color:  #65a3cb;\n",
       "            color:  #000000;\n",
       "        }    #T_01ede1a2_0cf0_11eb_b97b_7085c233535crow5_col1 {\n",
       "            background-color:  #73a9cf;\n",
       "            color:  #000000;\n",
       "        }    #T_01ede1a2_0cf0_11eb_b97b_7085c233535crow5_col2 {\n",
       "            background-color:  #fff7fb;\n",
       "            color:  #000000;\n",
       "        }    #T_01ede1a2_0cf0_11eb_b97b_7085c233535crow5_col3 {\n",
       "            background-color:  #023858;\n",
       "            color:  #f1f1f1;\n",
       "        }    #T_01ede1a2_0cf0_11eb_b97b_7085c233535crow6_col0 {\n",
       "            background-color:  #045e93;\n",
       "            color:  #f1f1f1;\n",
       "        }    #T_01ede1a2_0cf0_11eb_b97b_7085c233535crow6_col1 {\n",
       "            background-color:  #fff7fb;\n",
       "            color:  #000000;\n",
       "        }    #T_01ede1a2_0cf0_11eb_b97b_7085c233535crow6_col2 {\n",
       "            background-color:  #023858;\n",
       "            color:  #f1f1f1;\n",
       "        }    #T_01ede1a2_0cf0_11eb_b97b_7085c233535crow6_col3 {\n",
       "            background-color:  #f5eff6;\n",
       "            color:  #000000;\n",
       "        }    #T_01ede1a2_0cf0_11eb_b97b_7085c233535crow7_col0 {\n",
       "            background-color:  #d5d5e8;\n",
       "            color:  #000000;\n",
       "        }    #T_01ede1a2_0cf0_11eb_b97b_7085c233535crow7_col1 {\n",
       "            background-color:  #023858;\n",
       "            color:  #f1f1f1;\n",
       "        }    #T_01ede1a2_0cf0_11eb_b97b_7085c233535crow7_col2 {\n",
       "            background-color:  #fff7fb;\n",
       "            color:  #000000;\n",
       "        }    #T_01ede1a2_0cf0_11eb_b97b_7085c233535crow7_col3 {\n",
       "            background-color:  #ece7f2;\n",
       "            color:  #000000;\n",
       "        }</style><table id=\"T_01ede1a2_0cf0_11eb_b97b_7085c233535c\" ><thead>    <tr>        <th class=\"index_name level0\" >label</th>        <th class=\"col_heading level0 col0\" >0</th>        <th class=\"col_heading level0 col1\" >1</th>        <th class=\"col_heading level0 col2\" >2</th>        <th class=\"col_heading level0 col3\" >3</th>    </tr></thead><tbody>\n",
       "                <tr>\n",
       "                        <th id=\"T_01ede1a2_0cf0_11eb_b97b_7085c233535clevel0_row0\" class=\"row_heading level0 row0\" >NoEmp</th>\n",
       "                        <td id=\"T_01ede1a2_0cf0_11eb_b97b_7085c233535crow0_col0\" class=\"data row0 col0\" >5.219880</td>\n",
       "                        <td id=\"T_01ede1a2_0cf0_11eb_b97b_7085c233535crow0_col1\" class=\"data row0 col1\" >5.402344</td>\n",
       "                        <td id=\"T_01ede1a2_0cf0_11eb_b97b_7085c233535crow0_col2\" class=\"data row0 col2\" >6.061538</td>\n",
       "                        <td id=\"T_01ede1a2_0cf0_11eb_b97b_7085c233535crow0_col3\" class=\"data row0 col3\" >5.428571</td>\n",
       "            </tr>\n",
       "            <tr>\n",
       "                        <th id=\"T_01ede1a2_0cf0_11eb_b97b_7085c233535clevel0_row1\" class=\"row_heading level0 row1\" >CreateJob</th>\n",
       "                        <td id=\"T_01ede1a2_0cf0_11eb_b97b_7085c233535crow1_col0\" class=\"data row1 col0\" >1.557229</td>\n",
       "                        <td id=\"T_01ede1a2_0cf0_11eb_b97b_7085c233535crow1_col1\" class=\"data row1 col1\" >1.267578</td>\n",
       "                        <td id=\"T_01ede1a2_0cf0_11eb_b97b_7085c233535crow1_col2\" class=\"data row1 col2\" >3.415385</td>\n",
       "                        <td id=\"T_01ede1a2_0cf0_11eb_b97b_7085c233535crow1_col3\" class=\"data row1 col3\" >1.879121</td>\n",
       "            </tr>\n",
       "            <tr>\n",
       "                        <th id=\"T_01ede1a2_0cf0_11eb_b97b_7085c233535clevel0_row2\" class=\"row_heading level0 row2\" >RetainedJob</th>\n",
       "                        <td id=\"T_01ede1a2_0cf0_11eb_b97b_7085c233535crow2_col0\" class=\"data row2 col0\" >5.009036</td>\n",
       "                        <td id=\"T_01ede1a2_0cf0_11eb_b97b_7085c233535crow2_col1\" class=\"data row2 col1\" >5.298828</td>\n",
       "                        <td id=\"T_01ede1a2_0cf0_11eb_b97b_7085c233535crow2_col2\" class=\"data row2 col2\" >1.923077</td>\n",
       "                        <td id=\"T_01ede1a2_0cf0_11eb_b97b_7085c233535crow2_col3\" class=\"data row2 col3\" >4.296703</td>\n",
       "            </tr>\n",
       "            <tr>\n",
       "                        <th id=\"T_01ede1a2_0cf0_11eb_b97b_7085c233535clevel0_row3\" class=\"row_heading level0 row3\" >DisbursementGross</th>\n",
       "                        <td id=\"T_01ede1a2_0cf0_11eb_b97b_7085c233535crow3_col0\" class=\"data row3 col0\" >150000.367470</td>\n",
       "                        <td id=\"T_01ede1a2_0cf0_11eb_b97b_7085c233535crow3_col1\" class=\"data row3 col1\" >83299.623047</td>\n",
       "                        <td id=\"T_01ede1a2_0cf0_11eb_b97b_7085c233535crow3_col2\" class=\"data row3 col2\" >170945.338462</td>\n",
       "                        <td id=\"T_01ede1a2_0cf0_11eb_b97b_7085c233535crow3_col3\" class=\"data row3 col3\" >88777.670330</td>\n",
       "            </tr>\n",
       "            <tr>\n",
       "                        <th id=\"T_01ede1a2_0cf0_11eb_b97b_7085c233535clevel0_row4\" class=\"row_heading level0 row4\" >Term_years</th>\n",
       "                        <td id=\"T_01ede1a2_0cf0_11eb_b97b_7085c233535crow4_col0\" class=\"data row4 col0\" >5.727912</td>\n",
       "                        <td id=\"T_01ede1a2_0cf0_11eb_b97b_7085c233535crow4_col1\" class=\"data row4 col1\" >3.457194</td>\n",
       "                        <td id=\"T_01ede1a2_0cf0_11eb_b97b_7085c233535crow4_col2\" class=\"data row4 col2\" >5.912821</td>\n",
       "                        <td id=\"T_01ede1a2_0cf0_11eb_b97b_7085c233535crow4_col3\" class=\"data row4 col3\" >3.634615</td>\n",
       "            </tr>\n",
       "            <tr>\n",
       "                        <th id=\"T_01ede1a2_0cf0_11eb_b97b_7085c233535clevel0_row5\" class=\"row_heading level0 row5\" >Disbr_year</th>\n",
       "                        <td id=\"T_01ede1a2_0cf0_11eb_b97b_7085c233535crow5_col0\" class=\"data row5 col0\" >2005.713855</td>\n",
       "                        <td id=\"T_01ede1a2_0cf0_11eb_b97b_7085c233535crow5_col1\" class=\"data row5 col1\" >2005.687500</td>\n",
       "                        <td id=\"T_01ede1a2_0cf0_11eb_b97b_7085c233535crow5_col2\" class=\"data row5 col2\" >2005.230769</td>\n",
       "                        <td id=\"T_01ede1a2_0cf0_11eb_b97b_7085c233535crow5_col3\" class=\"data row5 col3\" >2006.142857</td>\n",
       "            </tr>\n",
       "            <tr>\n",
       "                        <th id=\"T_01ede1a2_0cf0_11eb_b97b_7085c233535clevel0_row6\" class=\"row_heading level0 row6\" >percent_SBA</th>\n",
       "                        <td id=\"T_01ede1a2_0cf0_11eb_b97b_7085c233535crow6_col0\" class=\"data row6 col0\" >0.753165</td>\n",
       "                        <td id=\"T_01ede1a2_0cf0_11eb_b97b_7085c233535crow6_col1\" class=\"data row6 col1\" >0.506152</td>\n",
       "                        <td id=\"T_01ede1a2_0cf0_11eb_b97b_7085c233535crow6_col2\" class=\"data row6 col2\" >0.795385</td>\n",
       "                        <td id=\"T_01ede1a2_0cf0_11eb_b97b_7085c233535crow6_col3\" class=\"data row6 col3\" >0.524264</td>\n",
       "            </tr>\n",
       "            <tr>\n",
       "                        <th id=\"T_01ede1a2_0cf0_11eb_b97b_7085c233535clevel0_row7\" class=\"row_heading level0 row7\" >bank_size</th>\n",
       "                        <td id=\"T_01ede1a2_0cf0_11eb_b97b_7085c233535crow7_col0\" class=\"data row7 col0\" >10009.030120</td>\n",
       "                        <td id=\"T_01ede1a2_0cf0_11eb_b97b_7085c233535crow7_col1\" class=\"data row7 col1\" >35152.662109</td>\n",
       "                        <td id=\"T_01ede1a2_0cf0_11eb_b97b_7085c233535crow7_col2\" class=\"data row7 col2\" >2487.061538</td>\n",
       "                        <td id=\"T_01ede1a2_0cf0_11eb_b97b_7085c233535crow7_col3\" class=\"data row7 col3\" >6691.076923</td>\n",
       "            </tr>\n",
       "    </tbody></table>"
      ],
      "text/plain": [
       "<pandas.io.formats.style.Styler at 0x1eb32152408>"
      ]
     },
     "execution_count": 30,
     "metadata": {},
     "output_type": "execute_result"
    },
    {
     "data": {
      "application/javascript": [
       "\n",
       "            setTimeout(function() {\n",
       "                var nbb_cell_id = 30;\n",
       "                var nbb_unformatted_code = \"num_cols_labels = num_cols.copy()\\nnum_cols_labels.append(\\\"label\\\")\\nclst_avg = sample_hier[num_cols_labels].groupby(\\\"label\\\").mean().T\\nclst_avg.style.background_gradient(axis=1)\";\n",
       "                var nbb_formatted_code = \"num_cols_labels = num_cols.copy()\\nnum_cols_labels.append(\\\"label\\\")\\nclst_avg = sample_hier[num_cols_labels].groupby(\\\"label\\\").mean().T\\nclst_avg.style.background_gradient(axis=1)\";\n",
       "                var nbb_cells = Jupyter.notebook.get_cells();\n",
       "                for (var i = 0; i < nbb_cells.length; ++i) {\n",
       "                    if (nbb_cells[i].input_prompt_number == nbb_cell_id) {\n",
       "                        if (nbb_cells[i].get_text() == nbb_unformatted_code) {\n",
       "                             nbb_cells[i].set_text(nbb_formatted_code);\n",
       "                        }\n",
       "                        break;\n",
       "                    }\n",
       "                }\n",
       "            }, 500);\n",
       "            "
      ],
      "text/plain": [
       "<IPython.core.display.Javascript object>"
      ]
     },
     "metadata": {},
     "output_type": "display_data"
    }
   ],
   "source": [
    "num_cols_labels = num_cols.copy()\n",
    "num_cols_labels.append(\"label\")\n",
    "clst_avg = sample_hier[num_cols_labels].groupby(\"label\").mean().T\n",
    "clst_avg.style.background_gradient(axis=1)"
   ]
  },
  {
   "cell_type": "code",
   "execution_count": 31,
   "metadata": {},
   "outputs": [
    {
     "data": {
      "text/html": [
       "<style  type=\"text/css\" >\n",
       "</style><table id=\"T_01fe5112_0cf0_11eb_b2bd_7085c233535c\" ><thead>    <tr>        <th class=\"index_name level0\" >label</th>        <th class=\"col_heading level0 col0\" >0</th>        <th class=\"col_heading level0 col1\" >1</th>        <th class=\"col_heading level0 col2\" >2</th>        <th class=\"col_heading level0 col3\" >3</th>    </tr></thead><tbody>\n",
       "                <tr>\n",
       "                        <th id=\"T_01fe5112_0cf0_11eb_b2bd_7085c233535clevel0_row0\" class=\"row_heading level0 row0\" >State</th>\n",
       "                        <td id=\"T_01fe5112_0cf0_11eb_b2bd_7085c233535crow0_col0\" class=\"data row0 col0\" >CA</td>\n",
       "                        <td id=\"T_01fe5112_0cf0_11eb_b2bd_7085c233535crow0_col1\" class=\"data row0 col1\" >CA</td>\n",
       "                        <td id=\"T_01fe5112_0cf0_11eb_b2bd_7085c233535crow0_col2\" class=\"data row0 col2\" >TX</td>\n",
       "                        <td id=\"T_01fe5112_0cf0_11eb_b2bd_7085c233535crow0_col3\" class=\"data row0 col3\" >UT</td>\n",
       "            </tr>\n",
       "            <tr>\n",
       "                        <th id=\"T_01fe5112_0cf0_11eb_b2bd_7085c233535clevel0_row1\" class=\"row_heading level0 row1\" >BankState</th>\n",
       "                        <td id=\"T_01fe5112_0cf0_11eb_b2bd_7085c233535crow1_col0\" class=\"data row1 col0\" >CA</td>\n",
       "                        <td id=\"T_01fe5112_0cf0_11eb_b2bd_7085c233535crow1_col1\" class=\"data row1 col1\" >NC</td>\n",
       "                        <td id=\"T_01fe5112_0cf0_11eb_b2bd_7085c233535crow1_col2\" class=\"data row1 col2\" >CA</td>\n",
       "                        <td id=\"T_01fe5112_0cf0_11eb_b2bd_7085c233535crow1_col3\" class=\"data row1 col3\" >UT</td>\n",
       "            </tr>\n",
       "            <tr>\n",
       "                        <th id=\"T_01fe5112_0cf0_11eb_b2bd_7085c233535clevel0_row2\" class=\"row_heading level0 row2\" >NewExist</th>\n",
       "                        <td id=\"T_01fe5112_0cf0_11eb_b2bd_7085c233535crow2_col0\" class=\"data row2 col0\" >0</td>\n",
       "                        <td id=\"T_01fe5112_0cf0_11eb_b2bd_7085c233535crow2_col1\" class=\"data row2 col1\" >0</td>\n",
       "                        <td id=\"T_01fe5112_0cf0_11eb_b2bd_7085c233535crow2_col2\" class=\"data row2 col2\" >1</td>\n",
       "                        <td id=\"T_01fe5112_0cf0_11eb_b2bd_7085c233535crow2_col3\" class=\"data row2 col3\" >0</td>\n",
       "            </tr>\n",
       "            <tr>\n",
       "                        <th id=\"T_01fe5112_0cf0_11eb_b2bd_7085c233535clevel0_row3\" class=\"row_heading level0 row3\" >RevLineCr</th>\n",
       "                        <td id=\"T_01fe5112_0cf0_11eb_b2bd_7085c233535crow3_col0\" class=\"data row3 col0\" >0.0</td>\n",
       "                        <td id=\"T_01fe5112_0cf0_11eb_b2bd_7085c233535crow3_col1\" class=\"data row3 col1\" >1.0</td>\n",
       "                        <td id=\"T_01fe5112_0cf0_11eb_b2bd_7085c233535crow3_col2\" class=\"data row3 col2\" >0.0</td>\n",
       "                        <td id=\"T_01fe5112_0cf0_11eb_b2bd_7085c233535crow3_col3\" class=\"data row3 col3\" >1.0</td>\n",
       "            </tr>\n",
       "            <tr>\n",
       "                        <th id=\"T_01fe5112_0cf0_11eb_b2bd_7085c233535clevel0_row4\" class=\"row_heading level0 row4\" >LowDoc</th>\n",
       "                        <td id=\"T_01fe5112_0cf0_11eb_b2bd_7085c233535crow4_col0\" class=\"data row4 col0\" >0.0</td>\n",
       "                        <td id=\"T_01fe5112_0cf0_11eb_b2bd_7085c233535crow4_col1\" class=\"data row4 col1\" >0.0</td>\n",
       "                        <td id=\"T_01fe5112_0cf0_11eb_b2bd_7085c233535crow4_col2\" class=\"data row4 col2\" >0.0</td>\n",
       "                        <td id=\"T_01fe5112_0cf0_11eb_b2bd_7085c233535crow4_col3\" class=\"data row4 col3\" >0.0</td>\n",
       "            </tr>\n",
       "            <tr>\n",
       "                        <th id=\"T_01fe5112_0cf0_11eb_b2bd_7085c233535clevel0_row5\" class=\"row_heading level0 row5\" >is_franchise</th>\n",
       "                        <td id=\"T_01fe5112_0cf0_11eb_b2bd_7085c233535crow5_col0\" class=\"data row5 col0\" >0.0</td>\n",
       "                        <td id=\"T_01fe5112_0cf0_11eb_b2bd_7085c233535crow5_col1\" class=\"data row5 col1\" >0.0</td>\n",
       "                        <td id=\"T_01fe5112_0cf0_11eb_b2bd_7085c233535crow5_col2\" class=\"data row5 col2\" >0.0</td>\n",
       "                        <td id=\"T_01fe5112_0cf0_11eb_b2bd_7085c233535crow5_col3\" class=\"data row5 col3\" >0.0</td>\n",
       "            </tr>\n",
       "            <tr>\n",
       "                        <th id=\"T_01fe5112_0cf0_11eb_b2bd_7085c233535clevel0_row6\" class=\"row_heading level0 row6\" >bank_out_of_state</th>\n",
       "                        <td id=\"T_01fe5112_0cf0_11eb_b2bd_7085c233535crow6_col0\" class=\"data row6 col0\" >0</td>\n",
       "                        <td id=\"T_01fe5112_0cf0_11eb_b2bd_7085c233535crow6_col1\" class=\"data row6 col1\" >0</td>\n",
       "                        <td id=\"T_01fe5112_0cf0_11eb_b2bd_7085c233535crow6_col2\" class=\"data row6 col2\" >1</td>\n",
       "                        <td id=\"T_01fe5112_0cf0_11eb_b2bd_7085c233535crow6_col3\" class=\"data row6 col3\" >1</td>\n",
       "            </tr>\n",
       "            <tr>\n",
       "                        <th id=\"T_01fe5112_0cf0_11eb_b2bd_7085c233535clevel0_row7\" class=\"row_heading level0 row7\" >UrbanRural_cleaned</th>\n",
       "                        <td id=\"T_01fe5112_0cf0_11eb_b2bd_7085c233535crow7_col0\" class=\"data row7 col0\" >0.0</td>\n",
       "                        <td id=\"T_01fe5112_0cf0_11eb_b2bd_7085c233535crow7_col1\" class=\"data row7 col1\" >0.0</td>\n",
       "                        <td id=\"T_01fe5112_0cf0_11eb_b2bd_7085c233535crow7_col2\" class=\"data row7 col2\" >0.0</td>\n",
       "                        <td id=\"T_01fe5112_0cf0_11eb_b2bd_7085c233535crow7_col3\" class=\"data row7 col3\" >0.0</td>\n",
       "            </tr>\n",
       "    </tbody></table>"
      ],
      "text/plain": [
       "<pandas.io.formats.style.Styler at 0x1eb29692608>"
      ]
     },
     "execution_count": 31,
     "metadata": {},
     "output_type": "execute_result"
    },
    {
     "data": {
      "application/javascript": [
       "\n",
       "            setTimeout(function() {\n",
       "                var nbb_cell_id = 31;\n",
       "                var nbb_unformatted_code = \"cat_cols_labels = cat_cols.copy()\\ncat_cols_labels.append(\\\"label\\\")\\nclst_avg = sample_hier[cat_cols_labels].groupby(\\\"label\\\").agg(pd.Series.mode).T\\nclst_avg.style.background_gradient(axis=1)\";\n",
       "                var nbb_formatted_code = \"cat_cols_labels = cat_cols.copy()\\ncat_cols_labels.append(\\\"label\\\")\\nclst_avg = sample_hier[cat_cols_labels].groupby(\\\"label\\\").agg(pd.Series.mode).T\\nclst_avg.style.background_gradient(axis=1)\";\n",
       "                var nbb_cells = Jupyter.notebook.get_cells();\n",
       "                for (var i = 0; i < nbb_cells.length; ++i) {\n",
       "                    if (nbb_cells[i].input_prompt_number == nbb_cell_id) {\n",
       "                        if (nbb_cells[i].get_text() == nbb_unformatted_code) {\n",
       "                             nbb_cells[i].set_text(nbb_formatted_code);\n",
       "                        }\n",
       "                        break;\n",
       "                    }\n",
       "                }\n",
       "            }, 500);\n",
       "            "
      ],
      "text/plain": [
       "<IPython.core.display.Javascript object>"
      ]
     },
     "metadata": {},
     "output_type": "display_data"
    }
   ],
   "source": [
    "cat_cols_labels = cat_cols.copy()\n",
    "cat_cols_labels.append(\"label\")\n",
    "clst_avg = sample_hier[cat_cols_labels].groupby(\"label\").agg(pd.Series.mode).T\n",
    "clst_avg.style.background_gradient(axis=1)"
   ]
  },
  {
   "cell_type": "code",
   "execution_count": 32,
   "metadata": {
    "scrolled": false
   },
   "outputs": [
    {
     "data": {
      "application/vnd.jupyter.widget-view+json": {
       "model_id": "d3f18e30328f4e0e8f3f2c8baf6ddb50",
       "version_major": 2,
       "version_minor": 0
      },
      "text/plain": [
       "interactive(children=(Dropdown(description='color', options=('State', 'BankState', 'NoEmp', 'NewExist', 'Creat…"
      ]
     },
     "metadata": {},
     "output_type": "display_data"
    },
    {
     "data": {
      "application/javascript": [
       "\n",
       "            setTimeout(function() {\n",
       "                var nbb_cell_id = 32;\n",
       "                var nbb_unformatted_code = \"@interact\\ndef plot(color=sample_hier.columns, opacity=(0, 1.0)):\\n    fig = px.scatter(\\n        data_frame=sample_hier,\\n        x=\\\"famd_x\\\",\\n        y=\\\"famd_y\\\",\\n        color=color,\\n        hover_data=[\\\"DisbursementGross\\\", \\\"LowDoc\\\", \\\"label\\\"],\\n        # symbol=\\\"label\\\",\\n    )\\n    fig.update_traces(marker={\\\"opacity\\\": opacity})\\n    fig.show()\";\n",
       "                var nbb_formatted_code = \"@interact\\ndef plot(color=sample_hier.columns, opacity=(0, 1.0)):\\n    fig = px.scatter(\\n        data_frame=sample_hier,\\n        x=\\\"famd_x\\\",\\n        y=\\\"famd_y\\\",\\n        color=color,\\n        hover_data=[\\\"DisbursementGross\\\", \\\"LowDoc\\\", \\\"label\\\"],\\n        # symbol=\\\"label\\\",\\n    )\\n    fig.update_traces(marker={\\\"opacity\\\": opacity})\\n    fig.show()\";\n",
       "                var nbb_cells = Jupyter.notebook.get_cells();\n",
       "                for (var i = 0; i < nbb_cells.length; ++i) {\n",
       "                    if (nbb_cells[i].input_prompt_number == nbb_cell_id) {\n",
       "                        if (nbb_cells[i].get_text() == nbb_unformatted_code) {\n",
       "                             nbb_cells[i].set_text(nbb_formatted_code);\n",
       "                        }\n",
       "                        break;\n",
       "                    }\n",
       "                }\n",
       "            }, 500);\n",
       "            "
      ],
      "text/plain": [
       "<IPython.core.display.Javascript object>"
      ]
     },
     "metadata": {},
     "output_type": "display_data"
    }
   ],
   "source": [
    "@interact\n",
    "def plot(color=sample_hier.columns, opacity=(0, 1.0)):\n",
    "    fig = px.scatter(\n",
    "        data_frame=sample_hier,\n",
    "        x=\"famd_x\",\n",
    "        y=\"famd_y\",\n",
    "        color=color,\n",
    "        hover_data=[\"DisbursementGross\", \"LowDoc\", \"label\"],\n",
    "        # symbol=\"label\",\n",
    "    )\n",
    "    fig.update_traces(marker={\"opacity\": opacity})\n",
    "    fig.show()"
   ]
  },
  {
   "cell_type": "markdown",
   "metadata": {},
   "source": [
    "### Cluster Analysis Visualization"
   ]
  },
  {
   "cell_type": "code",
   "execution_count": 60,
   "metadata": {},
   "outputs": [
    {
     "data": {
      "image/png": "[encoded data removed]",
      "text/plain": [
       "<Figure size 432x288 with 1 Axes>"
      ]
     },
     "metadata": {
      "needs_background": "light"
     },
     "output_type": "display_data"
    },
    {
     "data": {
      "application/javascript": [
       "\n",
       "            setTimeout(function() {\n",
       "                var nbb_cell_id = 60;\n",
       "                var nbb_unformatted_code = \"sns.boxplot(x=\\\"label\\\", y=\\\"DisbursementGross\\\", data=sample_kmeds)\\nplt.show()\";\n",
       "                var nbb_formatted_code = \"sns.boxplot(x=\\\"label\\\", y=\\\"DisbursementGross\\\", data=sample_kmeds)\\nplt.show()\";\n",
       "                var nbb_cells = Jupyter.notebook.get_cells();\n",
       "                for (var i = 0; i < nbb_cells.length; ++i) {\n",
       "                    if (nbb_cells[i].input_prompt_number == nbb_cell_id) {\n",
       "                        if (nbb_cells[i].get_text() == nbb_unformatted_code) {\n",
       "                             nbb_cells[i].set_text(nbb_formatted_code);\n",
       "                        }\n",
       "                        break;\n",
       "                    }\n",
       "                }\n",
       "            }, 500);\n",
       "            "
      ],
      "text/plain": [
       "<IPython.core.display.Javascript object>"
      ]
     },
     "metadata": {},
     "output_type": "display_data"
    }
   ],
   "source": [
    "sns.boxplot(x=\"label\", y=\"DisbursementGross\", data=sample_kmeds)\n",
    "plt.show()"
   ]
  },
  {
   "cell_type": "code",
   "execution_count": 61,
   "metadata": {},
   "outputs": [
    {
     "data": {
      "image/png": "[encoded data removed]",
      "text/plain": [
       "<Figure size 432x288 with 1 Axes>"
      ]
     },
     "metadata": {
      "needs_background": "light"
     },
     "output_type": "display_data"
    },
    {
     "data": {
      "application/javascript": [
       "\n",
       "            setTimeout(function() {\n",
       "                var nbb_cell_id = 61;\n",
       "                var nbb_unformatted_code = \"sns.countplot(x=\\\"label\\\", hue=\\\"NewExist\\\", data=sample_kmeds)\\nplt.legend(loc=\\\"upper right\\\")\\nplt.show()\";\n",
       "                var nbb_formatted_code = \"sns.countplot(x=\\\"label\\\", hue=\\\"NewExist\\\", data=sample_kmeds)\\nplt.legend(loc=\\\"upper right\\\")\\nplt.show()\";\n",
       "                var nbb_cells = Jupyter.notebook.get_cells();\n",
       "                for (var i = 0; i < nbb_cells.length; ++i) {\n",
       "                    if (nbb_cells[i].input_prompt_number == nbb_cell_id) {\n",
       "                        if (nbb_cells[i].get_text() == nbb_unformatted_code) {\n",
       "                             nbb_cells[i].set_text(nbb_formatted_code);\n",
       "                        }\n",
       "                        break;\n",
       "                    }\n",
       "                }\n",
       "            }, 500);\n",
       "            "
      ],
      "text/plain": [
       "<IPython.core.display.Javascript object>"
      ]
     },
     "metadata": {},
     "output_type": "display_data"
    }
   ],
   "source": [
    "sns.countplot(x=\"label\", hue=\"NewExist\", data=sample_kmeds)\n",
    "plt.legend(loc=\"upper right\")\n",
    "plt.show()"
   ]
  },
  {
   "cell_type": "code",
   "execution_count": 62,
   "metadata": {},
   "outputs": [
    {
     "data": {
      "image/png": "[encoded data removed]",
      "text/plain": [
       "<Figure size 432x288 with 1 Axes>"
      ]
     },
     "metadata": {
      "needs_background": "light"
     },
     "output_type": "display_data"
    },
    {
     "data": {
      "application/javascript": [
       "\n",
       "            setTimeout(function() {\n",
       "                var nbb_cell_id = 62;\n",
       "                var nbb_unformatted_code = \"sns.countplot(x=\\\"label\\\", hue=\\\"bank_out_of_state\\\", data=sample_kmeds)\\nplt.legend(loc=\\\"upper right\\\")\\nplt.show()\";\n",
       "                var nbb_formatted_code = \"sns.countplot(x=\\\"label\\\", hue=\\\"bank_out_of_state\\\", data=sample_kmeds)\\nplt.legend(loc=\\\"upper right\\\")\\nplt.show()\";\n",
       "                var nbb_cells = Jupyter.notebook.get_cells();\n",
       "                for (var i = 0; i < nbb_cells.length; ++i) {\n",
       "                    if (nbb_cells[i].input_prompt_number == nbb_cell_id) {\n",
       "                        if (nbb_cells[i].get_text() == nbb_unformatted_code) {\n",
       "                             nbb_cells[i].set_text(nbb_formatted_code);\n",
       "                        }\n",
       "                        break;\n",
       "                    }\n",
       "                }\n",
       "            }, 500);\n",
       "            "
      ],
      "text/plain": [
       "<IPython.core.display.Javascript object>"
      ]
     },
     "metadata": {},
     "output_type": "display_data"
    }
   ],
   "source": [
    "sns.countplot(x=\"label\", hue=\"bank_out_of_state\", data=sample_kmeds)\n",
    "plt.legend(loc=\"upper right\")\n",
    "plt.show()"
   ]
  },
  {
   "cell_type": "code",
   "execution_count": 63,
   "metadata": {},
   "outputs": [
    {
     "data": {
      "image/png": "[encoded data removed]",
      "text/plain": [
       "<Figure size 432x288 with 1 Axes>"
      ]
     },
     "metadata": {
      "needs_background": "light"
     },
     "output_type": "display_data"
    },
    {
     "data": {
      "application/javascript": [
       "\n",
       "            setTimeout(function() {\n",
       "                var nbb_cell_id = 63;\n",
       "                var nbb_unformatted_code = \"sns.boxplot(x=\\\"label\\\", y=\\\"Term_years\\\", data=sample_kmeds)\\nplt.show()\";\n",
       "                var nbb_formatted_code = \"sns.boxplot(x=\\\"label\\\", y=\\\"Term_years\\\", data=sample_kmeds)\\nplt.show()\";\n",
       "                var nbb_cells = Jupyter.notebook.get_cells();\n",
       "                for (var i = 0; i < nbb_cells.length; ++i) {\n",
       "                    if (nbb_cells[i].input_prompt_number == nbb_cell_id) {\n",
       "                        if (nbb_cells[i].get_text() == nbb_unformatted_code) {\n",
       "                             nbb_cells[i].set_text(nbb_formatted_code);\n",
       "                        }\n",
       "                        break;\n",
       "                    }\n",
       "                }\n",
       "            }, 500);\n",
       "            "
      ],
      "text/plain": [
       "<IPython.core.display.Javascript object>"
      ]
     },
     "metadata": {},
     "output_type": "display_data"
    }
   ],
   "source": [
    "sns.boxplot(x=\"label\", y=\"Term_years\", data=sample_kmeds)\n",
    "plt.show()"
   ]
  },
  {
   "cell_type": "code",
   "execution_count": 64,
   "metadata": {},
   "outputs": [
    {
     "data": {
      "image/png": "[encoded data removed]",
      "text/plain": [
       "<Figure size 432x288 with 1 Axes>"
      ]
     },
     "metadata": {
      "needs_background": "light"
     },
     "output_type": "display_data"
    },
    {
     "data": {
      "application/javascript": [
       "\n",
       "            setTimeout(function() {\n",
       "                var nbb_cell_id = 64;\n",
       "                var nbb_unformatted_code = \"sns.boxplot(x=\\\"label\\\", y=\\\"bank_size\\\", data=sample_kmeds)\\nplt.show()\";\n",
       "                var nbb_formatted_code = \"sns.boxplot(x=\\\"label\\\", y=\\\"bank_size\\\", data=sample_kmeds)\\nplt.show()\";\n",
       "                var nbb_cells = Jupyter.notebook.get_cells();\n",
       "                for (var i = 0; i < nbb_cells.length; ++i) {\n",
       "                    if (nbb_cells[i].input_prompt_number == nbb_cell_id) {\n",
       "                        if (nbb_cells[i].get_text() == nbb_unformatted_code) {\n",
       "                             nbb_cells[i].set_text(nbb_formatted_code);\n",
       "                        }\n",
       "                        break;\n",
       "                    }\n",
       "                }\n",
       "            }, 500);\n",
       "            "
      ],
      "text/plain": [
       "<IPython.core.display.Javascript object>"
      ]
     },
     "metadata": {},
     "output_type": "display_data"
    }
   ],
   "source": [
    "sns.boxplot(x=\"label\", y=\"bank_size\", data=sample_kmeds)\n",
    "plt.show()"
   ]
  },
  {
   "cell_type": "code",
   "execution_count": 69,
   "metadata": {},
   "outputs": [
    {
     "data": {
      "image/png": "[encoded data removed]",
      "text/plain": [
       "<Figure size 432x288 with 1 Axes>"
      ]
     },
     "metadata": {
      "needs_background": "light"
     },
     "output_type": "display_data"
    },
    {
     "data": {
      "application/javascript": [
       "\n",
       "            setTimeout(function() {\n",
       "                var nbb_cell_id = 69;\n",
       "                var nbb_unformatted_code = \"sns.boxplot(x=\\\"label\\\", y=\\\"NoEmp\\\", data=sample_kmeds)\\nplt.show()\";\n",
       "                var nbb_formatted_code = \"sns.boxplot(x=\\\"label\\\", y=\\\"NoEmp\\\", data=sample_kmeds)\\nplt.show()\";\n",
       "                var nbb_cells = Jupyter.notebook.get_cells();\n",
       "                for (var i = 0; i < nbb_cells.length; ++i) {\n",
       "                    if (nbb_cells[i].input_prompt_number == nbb_cell_id) {\n",
       "                        if (nbb_cells[i].get_text() == nbb_unformatted_code) {\n",
       "                             nbb_cells[i].set_text(nbb_formatted_code);\n",
       "                        }\n",
       "                        break;\n",
       "                    }\n",
       "                }\n",
       "            }, 500);\n",
       "            "
      ],
      "text/plain": [
       "<IPython.core.display.Javascript object>"
      ]
     },
     "metadata": {},
     "output_type": "display_data"
    }
   ],
   "source": [
    "sns.boxplot(x=\"label\", y=\"NoEmp\", data=sample_kmeds)\n",
    "plt.show()"
   ]
  },
  {
   "cell_type": "code",
   "execution_count": null,
   "metadata": {},
   "outputs": [],
   "source": []
  },
  {
   "cell_type": "markdown",
   "metadata": {},
   "source": [
    "Some EDA"
   ]
  },
  {
   "cell_type": "code",
   "execution_count": 39,
   "metadata": {},
   "outputs": [
    {
     "data": {
      "image/png": "[encoded data removed]",
      "text/plain": [
       "<Figure size 432x288 with 1 Axes>"
      ]
     },
     "metadata": {
      "needs_background": "light"
     },
     "output_type": "display_data"
    },
    {
     "data": {
      "application/javascript": [
       "\n",
       "            setTimeout(function() {\n",
       "                var nbb_cell_id = 39;\n",
       "                var nbb_unformatted_code = \"sns.boxplot(default[\\\"DisbursementGross\\\"])\\nplt.xlabel(\\\"Loan Amount\\\")\\nplt.show()\";\n",
       "                var nbb_formatted_code = \"sns.boxplot(default[\\\"DisbursementGross\\\"])\\nplt.xlabel(\\\"Loan Amount\\\")\\nplt.show()\";\n",
       "                var nbb_cells = Jupyter.notebook.get_cells();\n",
       "                for (var i = 0; i < nbb_cells.length; ++i) {\n",
       "                    if (nbb_cells[i].input_prompt_number == nbb_cell_id) {\n",
       "                        if (nbb_cells[i].get_text() == nbb_unformatted_code) {\n",
       "                             nbb_cells[i].set_text(nbb_formatted_code);\n",
       "                        }\n",
       "                        break;\n",
       "                    }\n",
       "                }\n",
       "            }, 500);\n",
       "            "
      ],
      "text/plain": [
       "<IPython.core.display.Javascript object>"
      ]
     },
     "metadata": {},
     "output_type": "display_data"
    }
   ],
   "source": [
    "sns.boxplot(default[\"DisbursementGross\"])\n",
    "plt.xlabel(\"Loan Amount\")\n",
    "plt.show()"
   ]
  },
  {
   "cell_type": "code",
   "execution_count": 40,
   "metadata": {},
   "outputs": [
    {
     "data": {
      "text/plain": [
       "count    1.263440e+05\n",
       "mean     1.150325e+05\n",
       "std      1.966099e+05\n",
       "min      4.000000e+03\n",
       "25%      2.500000e+04\n",
       "50%      5.130800e+04\n",
       "75%      1.173298e+05\n",
       "max      4.362157e+06\n",
       "Name: DisbursementGross, dtype: float64"
      ]
     },
     "execution_count": 40,
     "metadata": {},
     "output_type": "execute_result"
    },
    {
     "data": {
      "application/javascript": [
       "\n",
       "            setTimeout(function() {\n",
       "                var nbb_cell_id = 40;\n",
       "                var nbb_unformatted_code = \"default[\\\"DisbursementGross\\\"].describe()\";\n",
       "                var nbb_formatted_code = \"default[\\\"DisbursementGross\\\"].describe()\";\n",
       "                var nbb_cells = Jupyter.notebook.get_cells();\n",
       "                for (var i = 0; i < nbb_cells.length; ++i) {\n",
       "                    if (nbb_cells[i].input_prompt_number == nbb_cell_id) {\n",
       "                        if (nbb_cells[i].get_text() == nbb_unformatted_code) {\n",
       "                             nbb_cells[i].set_text(nbb_formatted_code);\n",
       "                        }\n",
       "                        break;\n",
       "                    }\n",
       "                }\n",
       "            }, 500);\n",
       "            "
      ],
      "text/plain": [
       "<IPython.core.display.Javascript object>"
      ]
     },
     "metadata": {},
     "output_type": "display_data"
    }
   ],
   "source": [
    "default[\"DisbursementGross\"].describe()"
   ]
  },
  {
   "cell_type": "code",
   "execution_count": 41,
   "metadata": {},
   "outputs": [
    {
     "data": {
      "image/png": "[encoded data removed]",
      "text/plain": [
       "<Figure size 432x288 with 1 Axes>"
      ]
     },
     "metadata": {
      "needs_background": "light"
     },
     "output_type": "display_data"
    },
    {
     "data": {
      "application/javascript": [
       "\n",
       "            setTimeout(function() {\n",
       "                var nbb_cell_id = 41;\n",
       "                var nbb_unformatted_code = \"sns.distplot(default[\\\"Term_years\\\"])\\nplt.xlabel(\\\"Loan Term (Years)\\\")\\nplt.ylabel(\\\"Frequency\\\")\\nplt.show()\";\n",
       "                var nbb_formatted_code = \"sns.distplot(default[\\\"Term_years\\\"])\\nplt.xlabel(\\\"Loan Term (Years)\\\")\\nplt.ylabel(\\\"Frequency\\\")\\nplt.show()\";\n",
       "                var nbb_cells = Jupyter.notebook.get_cells();\n",
       "                for (var i = 0; i < nbb_cells.length; ++i) {\n",
       "                    if (nbb_cells[i].input_prompt_number == nbb_cell_id) {\n",
       "                        if (nbb_cells[i].get_text() == nbb_unformatted_code) {\n",
       "                             nbb_cells[i].set_text(nbb_formatted_code);\n",
       "                        }\n",
       "                        break;\n",
       "                    }\n",
       "                }\n",
       "            }, 500);\n",
       "            "
      ],
      "text/plain": [
       "<IPython.core.display.Javascript object>"
      ]
     },
     "metadata": {},
     "output_type": "display_data"
    }
   ],
   "source": [
    "sns.distplot(default[\"Term_years\"])\n",
    "plt.xlabel(\"Loan Term (Years)\")\n",
    "plt.ylabel(\"Frequency\")\n",
    "plt.show()"
   ]
  },
  {
   "cell_type": "code",
   "execution_count": 42,
   "metadata": {},
   "outputs": [
    {
     "data": {
      "text/plain": [
       "count    126344.000000\n",
       "mean          4.318096\n",
       "std           3.215651\n",
       "min           0.000000\n",
       "25%           2.416667\n",
       "50%           4.000000\n",
       "75%           5.416667\n",
       "max          28.250000\n",
       "Name: Term_years, dtype: float64"
      ]
     },
     "execution_count": 42,
     "metadata": {},
     "output_type": "execute_result"
    },
    {
     "data": {
      "application/javascript": [
       "\n",
       "            setTimeout(function() {\n",
       "                var nbb_cell_id = 42;\n",
       "                var nbb_unformatted_code = \"default[\\\"Term_years\\\"].describe()\";\n",
       "                var nbb_formatted_code = \"default[\\\"Term_years\\\"].describe()\";\n",
       "                var nbb_cells = Jupyter.notebook.get_cells();\n",
       "                for (var i = 0; i < nbb_cells.length; ++i) {\n",
       "                    if (nbb_cells[i].input_prompt_number == nbb_cell_id) {\n",
       "                        if (nbb_cells[i].get_text() == nbb_unformatted_code) {\n",
       "                             nbb_cells[i].set_text(nbb_formatted_code);\n",
       "                        }\n",
       "                        break;\n",
       "                    }\n",
       "                }\n",
       "            }, 500);\n",
       "            "
      ],
      "text/plain": [
       "<IPython.core.display.Javascript object>"
      ]
     },
     "metadata": {},
     "output_type": "display_data"
    }
   ],
   "source": [
    "default[\"Term_years\"].describe()"
   ]
  },
  {
   "cell_type": "code",
   "execution_count": 43,
   "metadata": {},
   "outputs": [
    {
     "data": {
      "text/plain": [
       "0.000000      571\n",
       "0.083333     1077\n",
       "0.166667     1197\n",
       "0.250000     1142\n",
       "0.333333     1158\n",
       "0.416667     1175\n",
       "0.500000     1179\n",
       "0.583333     1095\n",
       "0.666667      959\n",
       "0.750000      978\n",
       "0.833333      881\n",
       "0.916667      967\n",
       "1.000000      950\n",
       "1.083333      931\n",
       "1.166667      956\n",
       "1.250000      932\n",
       "1.333333      976\n",
       "1.416667     1044\n",
       "1.500000     1046\n",
       "1.583333     1089\n",
       "1.666667     1131\n",
       "1.750000     1098\n",
       "1.833333     1086\n",
       "1.916667     1159\n",
       "2.000000     1169\n",
       "2.083333     1217\n",
       "2.166667     1240\n",
       "2.250000     1310\n",
       "2.333333     1396\n",
       "2.416667     1344\n",
       "2.500000     1433\n",
       "2.583333     1468\n",
       "2.666667     1438\n",
       "2.750000     1413\n",
       "2.833333     1523\n",
       "2.916667     1549\n",
       "3.000000     1675\n",
       "3.083333     1734\n",
       "3.166667     1766\n",
       "3.250000     1770\n",
       "3.333333     1889\n",
       "3.416667     1827\n",
       "3.500000     1925\n",
       "3.583333     1751\n",
       "3.666667     1812\n",
       "3.750000     1695\n",
       "3.833333     1773\n",
       "3.916667     1799\n",
       "4.000000     1832\n",
       "4.083333     1864\n",
       "4.166667     1874\n",
       "4.250000     1781\n",
       "4.333333     1833\n",
       "4.416667     1904\n",
       "4.500000     1937\n",
       "4.583333     1874\n",
       "4.666667     1825\n",
       "4.750000     1812\n",
       "4.833333     1846\n",
       "4.916667     1783\n",
       "5.000000     1859\n",
       "5.083333     1892\n",
       "5.166667     1835\n",
       "5.250000     1826\n",
       "5.333333     1744\n",
       "5.416667     1688\n",
       "5.500000     1632\n",
       "5.583333     1595\n",
       "5.666667     1523\n",
       "5.750000     1451\n",
       "5.833333     1352\n",
       "5.916667     1324\n",
       "6.000000     1099\n",
       "6.083333      996\n",
       "6.166667      836\n",
       "6.250000      809\n",
       "6.333333      632\n",
       "6.416667      491\n",
       "6.500000      407\n",
       "6.583333      352\n",
       "6.666667      353\n",
       "6.750000      322\n",
       "6.833333      333\n",
       "6.916667      366\n",
       "7.000000      874\n",
       "7.083333      350\n",
       "7.166667      330\n",
       "7.250000      344\n",
       "7.333333      362\n",
       "7.416667      358\n",
       "7.500000      337\n",
       "7.583333      384\n",
       "7.666667      377\n",
       "7.750000      373\n",
       "7.833333      339\n",
       "7.916667      373\n",
       "8.000000      342\n",
       "8.083333      365\n",
       "8.166667      404\n",
       "8.250000      366\n",
       "8.333333      355\n",
       "8.416667      370\n",
       "8.500000      326\n",
       "8.583333      336\n",
       "8.666667      345\n",
       "8.750000      303\n",
       "8.833333      293\n",
       "8.916667      281\n",
       "9.000000      264\n",
       "9.083333      249\n",
       "9.166667      239\n",
       "9.250000      188\n",
       "9.333333      175\n",
       "9.416667      137\n",
       "9.500000       95\n",
       "9.583333       80\n",
       "9.666667       58\n",
       "9.750000       51\n",
       "9.833333       37\n",
       "9.916667       37\n",
       "10.000000     164\n",
       "10.083333      22\n",
       "10.166667      30\n",
       "10.250000      28\n",
       "10.333333      25\n",
       "10.416667      25\n",
       "10.500000      29\n",
       "10.583333      13\n",
       "10.666667      24\n",
       "10.750000      21\n",
       "10.833333      20\n",
       "10.916667      33\n",
       "11.000000      28\n",
       "11.083333      17\n",
       "11.166667      25\n",
       "11.250000      21\n",
       "11.333333      33\n",
       "11.416667      28\n",
       "11.500000      28\n",
       "11.583333      15\n",
       "11.666667      28\n",
       "11.750000      35\n",
       "11.833333      29\n",
       "11.916667      30\n",
       "12.000000      32\n",
       "12.083333      25\n",
       "12.166667      33\n",
       "12.250000      33\n",
       "12.333333      23\n",
       "12.416667      28\n",
       "12.500000      26\n",
       "12.583333      27\n",
       "12.666667      27\n",
       "12.750000      22\n",
       "12.833333      33\n",
       "12.916667      24\n",
       "13.000000      17\n",
       "13.083333      33\n",
       "13.166667      17\n",
       "13.250000      22\n",
       "13.333333      23\n",
       "13.416667      23\n",
       "13.500000      26\n",
       "13.583333      33\n",
       "13.666667      26\n",
       "13.750000      21\n",
       "13.833333      28\n",
       "13.916667      26\n",
       "14.000000      24\n",
       "14.083333      24\n",
       "14.166667      22\n",
       "14.250000      15\n",
       "14.333333      22\n",
       "14.416667      17\n",
       "14.500000      27\n",
       "14.583333      17\n",
       "14.666667      25\n",
       "14.750000      21\n",
       "14.833333      21\n",
       "14.916667      29\n",
       "15.000000      27\n",
       "15.083333      23\n",
       "15.166667      22\n",
       "15.250000      24\n",
       "15.333333      25\n",
       "15.416667      12\n",
       "15.500000      27\n",
       "15.583333      20\n",
       "15.666667      16\n",
       "15.750000      17\n",
       "15.833333      17\n",
       "15.916667      25\n",
       "16.000000      23\n",
       "16.083333      22\n",
       "16.166667      17\n",
       "16.250000      24\n",
       "16.333333      24\n",
       "16.416667      31\n",
       "16.500000      26\n",
       "16.583333      27\n",
       "16.666667      30\n",
       "16.750000      33\n",
       "16.833333      24\n",
       "16.916667      32\n",
       "17.000000      29\n",
       "17.083333      26\n",
       "17.166667      22\n",
       "17.250000      25\n",
       "17.333333      33\n",
       "17.416667      32\n",
       "17.500000      25\n",
       "17.583333      24\n",
       "17.666667      30\n",
       "17.750000      13\n",
       "17.833333      27\n",
       "17.916667      24\n",
       "18.000000      21\n",
       "18.083333      26\n",
       "18.166667      29\n",
       "18.250000      35\n",
       "18.333333      27\n",
       "18.416667      33\n",
       "18.500000      18\n",
       "18.583333      23\n",
       "18.666667      24\n",
       "18.750000      25\n",
       "18.833333      24\n",
       "18.916667      19\n",
       "19.000000      23\n",
       "19.083333      28\n",
       "19.166667      22\n",
       "19.250000      18\n",
       "19.333333      19\n",
       "19.416667      16\n",
       "19.500000      19\n",
       "19.583333      23\n",
       "19.666667      18\n",
       "19.750000      23\n",
       "19.833333      12\n",
       "19.916667      25\n",
       "20.000000      25\n",
       "20.083333      21\n",
       "20.166667      24\n",
       "20.250000      24\n",
       "20.333333      29\n",
       "20.416667      21\n",
       "20.500000      14\n",
       "20.583333      26\n",
       "20.666667      28\n",
       "20.750000      29\n",
       "20.833333      27\n",
       "20.916667      30\n",
       "21.000000      21\n",
       "21.083333      29\n",
       "21.166667      30\n",
       "21.250000      24\n",
       "21.333333      27\n",
       "21.416667      28\n",
       "21.500000      29\n",
       "21.583333      35\n",
       "21.666667      17\n",
       "21.750000      25\n",
       "21.833333      34\n",
       "21.916667      20\n",
       "22.000000      33\n",
       "22.083333      25\n",
       "22.166667      22\n",
       "22.250000      10\n",
       "22.333333      26\n",
       "22.416667      23\n",
       "22.500000      21\n",
       "22.583333      18\n",
       "22.666667      20\n",
       "22.750000      26\n",
       "22.833333      25\n",
       "22.916667      20\n",
       "23.000000      22\n",
       "23.083333      29\n",
       "23.166667      22\n",
       "23.250000      24\n",
       "23.333333      12\n",
       "23.416667      23\n",
       "23.500000      23\n",
       "23.583333      12\n",
       "23.666667      19\n",
       "23.750000      12\n",
       "23.833333      18\n",
       "23.916667      16\n",
       "24.000000       8\n",
       "24.083333      11\n",
       "24.166667       8\n",
       "24.250000       9\n",
       "24.333333       4\n",
       "24.416667       5\n",
       "24.500000       5\n",
       "24.583333       3\n",
       "24.666667       6\n",
       "24.750000       6\n",
       "24.833333       2\n",
       "24.916667       2\n",
       "25.000000      10\n",
       "25.083333       1\n",
       "25.250000       1\n",
       "26.666667       1\n",
       "28.250000       1\n",
       "Name: Term_years, dtype: int64"
      ]
     },
     "execution_count": 43,
     "metadata": {},
     "output_type": "execute_result"
    },
    {
     "data": {
      "application/javascript": [
       "\n",
       "            setTimeout(function() {\n",
       "                var nbb_cell_id = 43;\n",
       "                var nbb_unformatted_code = \"default[\\\"Term_years\\\"].value_counts().sort_index()\";\n",
       "                var nbb_formatted_code = \"default[\\\"Term_years\\\"].value_counts().sort_index()\";\n",
       "                var nbb_cells = Jupyter.notebook.get_cells();\n",
       "                for (var i = 0; i < nbb_cells.length; ++i) {\n",
       "                    if (nbb_cells[i].input_prompt_number == nbb_cell_id) {\n",
       "                        if (nbb_cells[i].get_text() == nbb_unformatted_code) {\n",
       "                             nbb_cells[i].set_text(nbb_formatted_code);\n",
       "                        }\n",
       "                        break;\n",
       "                    }\n",
       "                }\n",
       "            }, 500);\n",
       "            "
      ],
      "text/plain": [
       "<IPython.core.display.Javascript object>"
      ]
     },
     "metadata": {},
     "output_type": "display_data"
    }
   ],
   "source": [
    "default[\"Term_years\"].value_counts().sort_index()"
   ]
  },
  {
   "cell_type": "code",
   "execution_count": 44,
   "metadata": {},
   "outputs": [
    {
     "data": {
      "image/png": "[encoded data removed]",
      "text/plain": [
       "<Figure size 432x288 with 1 Axes>"
      ]
     },
     "metadata": {
      "needs_background": "light"
     },
     "output_type": "display_data"
    },
    {
     "data": {
      "application/javascript": [
       "\n",
       "            setTimeout(function() {\n",
       "                var nbb_cell_id = 44;\n",
       "                var nbb_unformatted_code = \"sns.boxplot(default[\\\"bank_size\\\"])\\nplt.xlabel(\\\"Loan Term (Years)\\\")\\nplt.show()\";\n",
       "                var nbb_formatted_code = \"sns.boxplot(default[\\\"bank_size\\\"])\\nplt.xlabel(\\\"Loan Term (Years)\\\")\\nplt.show()\";\n",
       "                var nbb_cells = Jupyter.notebook.get_cells();\n",
       "                for (var i = 0; i < nbb_cells.length; ++i) {\n",
       "                    if (nbb_cells[i].input_prompt_number == nbb_cell_id) {\n",
       "                        if (nbb_cells[i].get_text() == nbb_unformatted_code) {\n",
       "                             nbb_cells[i].set_text(nbb_formatted_code);\n",
       "                        }\n",
       "                        break;\n",
       "                    }\n",
       "                }\n",
       "            }, 500);\n",
       "            "
      ],
      "text/plain": [
       "<IPython.core.display.Javascript object>"
      ]
     },
     "metadata": {},
     "output_type": "display_data"
    }
   ],
   "source": [
    "sns.boxplot(default[\"bank_size\"])\n",
    "plt.xlabel(\"Loan Term (Years)\")\n",
    "plt.show()"
   ]
  },
  {
   "cell_type": "code",
   "execution_count": 45,
   "metadata": {},
   "outputs": [
    {
     "data": {
      "text/plain": [
       "count    126344.000000\n",
       "mean      22947.401594\n",
       "std       21847.558460\n",
       "min           1.000000\n",
       "25%        3562.000000\n",
       "50%       19250.000000\n",
       "75%       34974.000000\n",
       "max       64008.000000\n",
       "Name: bank_size, dtype: float64"
      ]
     },
     "execution_count": 45,
     "metadata": {},
     "output_type": "execute_result"
    },
    {
     "data": {
      "application/javascript": [
       "\n",
       "            setTimeout(function() {\n",
       "                var nbb_cell_id = 45;\n",
       "                var nbb_unformatted_code = \"default[\\\"bank_size\\\"].describe()\";\n",
       "                var nbb_formatted_code = \"default[\\\"bank_size\\\"].describe()\";\n",
       "                var nbb_cells = Jupyter.notebook.get_cells();\n",
       "                for (var i = 0; i < nbb_cells.length; ++i) {\n",
       "                    if (nbb_cells[i].input_prompt_number == nbb_cell_id) {\n",
       "                        if (nbb_cells[i].get_text() == nbb_unformatted_code) {\n",
       "                             nbb_cells[i].set_text(nbb_formatted_code);\n",
       "                        }\n",
       "                        break;\n",
       "                    }\n",
       "                }\n",
       "            }, 500);\n",
       "            "
      ],
      "text/plain": [
       "<IPython.core.display.Javascript object>"
      ]
     },
     "metadata": {},
     "output_type": "display_data"
    }
   ],
   "source": [
    "default[\"bank_size\"].describe()"
   ]
  },
  {
   "cell_type": "code",
   "execution_count": 46,
   "metadata": {},
   "outputs": [
    {
     "name": "stderr",
     "output_type": "stream",
     "text": [
      "C:\\Users\\dgump\\miniconda3\\lib\\site-packages\\pandas\\core\\series.py:679: RuntimeWarning:\n",
      "\n",
      "divide by zero encountered in log\n",
      "\n"
     ]
    },
    {
     "data": {
      "image/png": "[encoded data removed]",
      "text/plain": [
       "<Figure size 432x288 with 1 Axes>"
      ]
     },
     "metadata": {
      "needs_background": "light"
     },
     "output_type": "display_data"
    },
    {
     "data": {
      "application/javascript": [
       "\n",
       "            setTimeout(function() {\n",
       "                var nbb_cell_id = 46;\n",
       "                var nbb_unformatted_code = \"sns.boxplot(np.log(default[\\\"NoEmp\\\"]))\\nplt.xlabel(\\\"Log of Number of Employees\\\")\\nplt.ylabel(\\\"Frequency\\\")\\nplt.show()\";\n",
       "                var nbb_formatted_code = \"sns.boxplot(np.log(default[\\\"NoEmp\\\"]))\\nplt.xlabel(\\\"Log of Number of Employees\\\")\\nplt.ylabel(\\\"Frequency\\\")\\nplt.show()\";\n",
       "                var nbb_cells = Jupyter.notebook.get_cells();\n",
       "                for (var i = 0; i < nbb_cells.length; ++i) {\n",
       "                    if (nbb_cells[i].input_prompt_number == nbb_cell_id) {\n",
       "                        if (nbb_cells[i].get_text() == nbb_unformatted_code) {\n",
       "                             nbb_cells[i].set_text(nbb_formatted_code);\n",
       "                        }\n",
       "                        break;\n",
       "                    }\n",
       "                }\n",
       "            }, 500);\n",
       "            "
      ],
      "text/plain": [
       "<IPython.core.display.Javascript object>"
      ]
     },
     "metadata": {},
     "output_type": "display_data"
    }
   ],
   "source": [
    "sns.boxplot(np.log(default[\"NoEmp\"]))\n",
    "plt.xlabel(\"Log of Number of Employees\")\n",
    "plt.ylabel(\"Frequency\")\n",
    "plt.show()"
   ]
  },
  {
   "cell_type": "code",
   "execution_count": 47,
   "metadata": {
    "scrolled": true
   },
   "outputs": [
    {
     "data": {
      "text/plain": [
       "0       1536\n",
       "1      30253\n",
       "2      24160\n",
       "3      15488\n",
       "4      11731\n",
       "5       9190\n",
       "6       6377\n",
       "7       4110\n",
       "8       3717\n",
       "9       1847\n",
       "10      3466\n",
       "11      1081\n",
       "12      2106\n",
       "13       758\n",
       "14       867\n",
       "15      1770\n",
       "16       559\n",
       "17       411\n",
       "18       575\n",
       "19       227\n",
       "20      1145\n",
       "21       248\n",
       "22       333\n",
       "23       199\n",
       "24       205\n",
       "25       712\n",
       "26       152\n",
       "27       111\n",
       "28       147\n",
       "29        64\n",
       "30       548\n",
       "31        63\n",
       "32       112\n",
       "33        60\n",
       "34        71\n",
       "35       271\n",
       "36        70\n",
       "37        34\n",
       "38        63\n",
       "39        29\n",
       "40       260\n",
       "41        27\n",
       "42        60\n",
       "43        26\n",
       "44        21\n",
       "45       145\n",
       "46        25\n",
       "47        25\n",
       "48        34\n",
       "49        15\n",
       "50       193\n",
       "51        10\n",
       "52        22\n",
       "53         8\n",
       "54        14\n",
       "55        52\n",
       "56        11\n",
       "57         8\n",
       "58         9\n",
       "59         7\n",
       "60       106\n",
       "61         5\n",
       "62         6\n",
       "63        11\n",
       "64         8\n",
       "65        51\n",
       "66         4\n",
       "67        10\n",
       "68        13\n",
       "70        38\n",
       "71         3\n",
       "72         8\n",
       "73         6\n",
       "74         8\n",
       "75        42\n",
       "76         5\n",
       "77         4\n",
       "78         3\n",
       "79         3\n",
       "80        36\n",
       "81         6\n",
       "82         7\n",
       "83         1\n",
       "84         2\n",
       "85        18\n",
       "86         3\n",
       "87         3\n",
       "88         4\n",
       "89         1\n",
       "90        17\n",
       "91         2\n",
       "92         2\n",
       "94         3\n",
       "95        13\n",
       "96         1\n",
       "97         3\n",
       "98         4\n",
       "99         1\n",
       "100       45\n",
       "Name: NoEmp, dtype: int64"
      ]
     },
     "execution_count": 47,
     "metadata": {},
     "output_type": "execute_result"
    },
    {
     "data": {
      "application/javascript": [
       "\n",
       "            setTimeout(function() {\n",
       "                var nbb_cell_id = 47;\n",
       "                var nbb_unformatted_code = \"default[\\\"NoEmp\\\"].value_counts().sort_index()\";\n",
       "                var nbb_formatted_code = \"default[\\\"NoEmp\\\"].value_counts().sort_index()\";\n",
       "                var nbb_cells = Jupyter.notebook.get_cells();\n",
       "                for (var i = 0; i < nbb_cells.length; ++i) {\n",
       "                    if (nbb_cells[i].input_prompt_number == nbb_cell_id) {\n",
       "                        if (nbb_cells[i].get_text() == nbb_unformatted_code) {\n",
       "                             nbb_cells[i].set_text(nbb_formatted_code);\n",
       "                        }\n",
       "                        break;\n",
       "                    }\n",
       "                }\n",
       "            }, 500);\n",
       "            "
      ],
      "text/plain": [
       "<IPython.core.display.Javascript object>"
      ]
     },
     "metadata": {},
     "output_type": "display_data"
    }
   ],
   "source": [
    "default[\"NoEmp\"].value_counts().sort_index()"
   ]
  },
  {
   "cell_type": "code",
   "execution_count": 48,
   "metadata": {},
   "outputs": [
    {
     "data": {
      "text/plain": [
       "count    126344.000000\n",
       "mean          5.408599\n",
       "std           7.929105\n",
       "min           0.000000\n",
       "25%           1.000000\n",
       "50%           3.000000\n",
       "75%           6.000000\n",
       "max         100.000000\n",
       "Name: NoEmp, dtype: float64"
      ]
     },
     "execution_count": 48,
     "metadata": {},
     "output_type": "execute_result"
    },
    {
     "data": {
      "application/javascript": [
       "\n",
       "            setTimeout(function() {\n",
       "                var nbb_cell_id = 48;\n",
       "                var nbb_unformatted_code = \"default[\\\"NoEmp\\\"].describe()\";\n",
       "                var nbb_formatted_code = \"default[\\\"NoEmp\\\"].describe()\";\n",
       "                var nbb_cells = Jupyter.notebook.get_cells();\n",
       "                for (var i = 0; i < nbb_cells.length; ++i) {\n",
       "                    if (nbb_cells[i].input_prompt_number == nbb_cell_id) {\n",
       "                        if (nbb_cells[i].get_text() == nbb_unformatted_code) {\n",
       "                             nbb_cells[i].set_text(nbb_formatted_code);\n",
       "                        }\n",
       "                        break;\n",
       "                    }\n",
       "                }\n",
       "            }, 500);\n",
       "            "
      ],
      "text/plain": [
       "<IPython.core.display.Javascript object>"
      ]
     },
     "metadata": {},
     "output_type": "display_data"
    }
   ],
   "source": [
    "default[\"NoEmp\"].describe()"
   ]
  },
  {
   "cell_type": "code",
   "execution_count": 49,
   "metadata": {},
   "outputs": [
    {
     "data": {
      "image/png": "[encoded data removed]",
      "text/plain": [
       "<Figure size 432x288 with 1 Axes>"
      ]
     },
     "metadata": {
      "needs_background": "light"
     },
     "output_type": "display_data"
    },
    {
     "data": {
      "application/javascript": [
       "\n",
       "            setTimeout(function() {\n",
       "                var nbb_cell_id = 49;\n",
       "                var nbb_unformatted_code = \"sns.countplot(x=\\\"NewExist\\\", data=default)\\nplt.xlabel(\\\"Bank Out Of State\\\")\\nplt.show()\";\n",
       "                var nbb_formatted_code = \"sns.countplot(x=\\\"NewExist\\\", data=default)\\nplt.xlabel(\\\"Bank Out Of State\\\")\\nplt.show()\";\n",
       "                var nbb_cells = Jupyter.notebook.get_cells();\n",
       "                for (var i = 0; i < nbb_cells.length; ++i) {\n",
       "                    if (nbb_cells[i].input_prompt_number == nbb_cell_id) {\n",
       "                        if (nbb_cells[i].get_text() == nbb_unformatted_code) {\n",
       "                             nbb_cells[i].set_text(nbb_formatted_code);\n",
       "                        }\n",
       "                        break;\n",
       "                    }\n",
       "                }\n",
       "            }, 500);\n",
       "            "
      ],
      "text/plain": [
       "<IPython.core.display.Javascript object>"
      ]
     },
     "metadata": {},
     "output_type": "display_data"
    }
   ],
   "source": [
    "sns.countplot(x=\"NewExist\", data=default)\n",
    "plt.xlabel(\"Bank Out Of State\")\n",
    "plt.show()"
   ]
  },
  {
   "cell_type": "code",
   "execution_count": 50,
   "metadata": {},
   "outputs": [
    {
     "data": {
      "text/plain": [
       "0    0.711233\n",
       "1    0.288767\n",
       "Name: NewExist, dtype: float64"
      ]
     },
     "execution_count": 50,
     "metadata": {},
     "output_type": "execute_result"
    },
    {
     "data": {
      "application/javascript": [
       "\n",
       "            setTimeout(function() {\n",
       "                var nbb_cell_id = 50;\n",
       "                var nbb_unformatted_code = \"default[\\\"NewExist\\\"].value_counts(normalize=True)\";\n",
       "                var nbb_formatted_code = \"default[\\\"NewExist\\\"].value_counts(normalize=True)\";\n",
       "                var nbb_cells = Jupyter.notebook.get_cells();\n",
       "                for (var i = 0; i < nbb_cells.length; ++i) {\n",
       "                    if (nbb_cells[i].input_prompt_number == nbb_cell_id) {\n",
       "                        if (nbb_cells[i].get_text() == nbb_unformatted_code) {\n",
       "                             nbb_cells[i].set_text(nbb_formatted_code);\n",
       "                        }\n",
       "                        break;\n",
       "                    }\n",
       "                }\n",
       "            }, 500);\n",
       "            "
      ],
      "text/plain": [
       "<IPython.core.display.Javascript object>"
      ]
     },
     "metadata": {},
     "output_type": "display_data"
    }
   ],
   "source": [
    "default[\"NewExist\"].value_counts(normalize=True)"
   ]
  },
  {
   "cell_type": "code",
   "execution_count": 51,
   "metadata": {},
   "outputs": [
    {
     "data": {
      "image/png": "[encoded data removed]",
      "text/plain": [
       "<Figure size 432x288 with 1 Axes>"
      ]
     },
     "metadata": {
      "needs_background": "light"
     },
     "output_type": "display_data"
    },
    {
     "data": {
      "application/javascript": [
       "\n",
       "            setTimeout(function() {\n",
       "                var nbb_cell_id = 51;\n",
       "                var nbb_unformatted_code = \"sns.countplot(x=\\\"bank_out_of_state\\\", data=default)\\nplt.xlabel(\\\"Bank Out Of State\\\")\\nplt.show()\";\n",
       "                var nbb_formatted_code = \"sns.countplot(x=\\\"bank_out_of_state\\\", data=default)\\nplt.xlabel(\\\"Bank Out Of State\\\")\\nplt.show()\";\n",
       "                var nbb_cells = Jupyter.notebook.get_cells();\n",
       "                for (var i = 0; i < nbb_cells.length; ++i) {\n",
       "                    if (nbb_cells[i].input_prompt_number == nbb_cell_id) {\n",
       "                        if (nbb_cells[i].get_text() == nbb_unformatted_code) {\n",
       "                             nbb_cells[i].set_text(nbb_formatted_code);\n",
       "                        }\n",
       "                        break;\n",
       "                    }\n",
       "                }\n",
       "            }, 500);\n",
       "            "
      ],
      "text/plain": [
       "<IPython.core.display.Javascript object>"
      ]
     },
     "metadata": {},
     "output_type": "display_data"
    }
   ],
   "source": [
    "sns.countplot(x=\"bank_out_of_state\", data=default)\n",
    "plt.xlabel(\"Bank Out Of State\")\n",
    "plt.show()"
   ]
  },
  {
   "cell_type": "code",
   "execution_count": 52,
   "metadata": {},
   "outputs": [
    {
     "data": {
      "text/plain": [
       "0    0.744673\n",
       "1    0.255327\n",
       "Name: bank_out_of_state, dtype: float64"
      ]
     },
     "execution_count": 52,
     "metadata": {},
     "output_type": "execute_result"
    },
    {
     "data": {
      "application/javascript": [
       "\n",
       "            setTimeout(function() {\n",
       "                var nbb_cell_id = 52;\n",
       "                var nbb_unformatted_code = \"default[\\\"bank_out_of_state\\\"].value_counts(normalize=True)\";\n",
       "                var nbb_formatted_code = \"default[\\\"bank_out_of_state\\\"].value_counts(normalize=True)\";\n",
       "                var nbb_cells = Jupyter.notebook.get_cells();\n",
       "                for (var i = 0; i < nbb_cells.length; ++i) {\n",
       "                    if (nbb_cells[i].input_prompt_number == nbb_cell_id) {\n",
       "                        if (nbb_cells[i].get_text() == nbb_unformatted_code) {\n",
       "                             nbb_cells[i].set_text(nbb_formatted_code);\n",
       "                        }\n",
       "                        break;\n",
       "                    }\n",
       "                }\n",
       "            }, 500);\n",
       "            "
      ],
      "text/plain": [
       "<IPython.core.display.Javascript object>"
      ]
     },
     "metadata": {},
     "output_type": "display_data"
    }
   ],
   "source": [
    "default[\"bank_out_of_state\"].value_counts(normalize=True)"
   ]
  },
  {
   "cell_type": "code",
   "execution_count": 53,
   "metadata": {},
   "outputs": [
    {
     "data": {
      "text/html": [
       "<div>\n",
       "<style scoped>\n",
       "    .dataframe tbody tr th:only-of-type {\n",
       "        vertical-align: middle;\n",
       "    }\n",
       "\n",
       "    .dataframe tbody tr th {\n",
       "        vertical-align: top;\n",
       "    }\n",
       "\n",
       "    .dataframe thead th {\n",
       "        text-align: right;\n",
       "    }\n",
       "</style>\n",
       "<table border=\"1\" class=\"dataframe\">\n",
       "  <thead>\n",
       "    <tr style=\"text-align: right;\">\n",
       "      <th></th>\n",
       "      <th>Name</th>\n",
       "      <th>City</th>\n",
       "      <th>State</th>\n",
       "      <th>Zip</th>\n",
       "      <th>Bank</th>\n",
       "      <th>BankState</th>\n",
       "      <th>ApprovalFY</th>\n",
       "      <th>NoEmp</th>\n",
       "      <th>NewExist</th>\n",
       "      <th>CreateJob</th>\n",
       "      <th>RetainedJob</th>\n",
       "      <th>RevLineCr</th>\n",
       "      <th>LowDoc</th>\n",
       "      <th>DisbursementGross</th>\n",
       "      <th>MIS_Status</th>\n",
       "      <th>twoDigNAICS</th>\n",
       "      <th>is_franchise</th>\n",
       "      <th>bank_out_of_state</th>\n",
       "      <th>Term_years</th>\n",
       "      <th>UrbanRural_cleaned</th>\n",
       "      <th>Disbr_year</th>\n",
       "      <th>Disbr_Month_sin</th>\n",
       "      <th>Disbr_Month_cos</th>\n",
       "      <th>sba_pre_approv</th>\n",
       "      <th>percent_SBA</th>\n",
       "      <th>bank_size</th>\n",
       "      <th>Appv_Month_sin</th>\n",
       "      <th>Appv_Month_cos</th>\n",
       "    </tr>\n",
       "  </thead>\n",
       "  <tbody>\n",
       "    <tr>\n",
       "      <th>8</th>\n",
       "      <td>NEW DIMENSION HOMES INC</td>\n",
       "      <td>CLINTON (CENSUS NAME FOR CLINT</td>\n",
       "      <td>ME</td>\n",
       "      <td>4927</td>\n",
       "      <td>WELLS FARGO BANK NATL ASSOC</td>\n",
       "      <td>SD</td>\n",
       "      <td>2006</td>\n",
       "      <td>9</td>\n",
       "      <td>0</td>\n",
       "      <td>0</td>\n",
       "      <td>9</td>\n",
       "      <td>0.0</td>\n",
       "      <td>0.0</td>\n",
       "      <td>1350000.0</td>\n",
       "      <td>1</td>\n",
       "      <td>23</td>\n",
       "      <td>0.0</td>\n",
       "      <td>0</td>\n",
       "      <td>13.916667</td>\n",
       "      <td>0.0</td>\n",
       "      <td>2006</td>\n",
       "      <td>0.500000</td>\n",
       "      <td>8.660254e-01</td>\n",
       "      <td>1.0</td>\n",
       "      <td>0.75</td>\n",
       "      <td>24752</td>\n",
       "      <td>0.5</td>\n",
       "      <td>0.866025</td>\n",
       "    </tr>\n",
       "    <tr>\n",
       "      <th>11</th>\n",
       "      <td>LILY DAY GARDENS</td>\n",
       "      <td>BURNET</td>\n",
       "      <td>TX</td>\n",
       "      <td>78611</td>\n",
       "      <td>WELLS FARGO BANK NATL ASSOC</td>\n",
       "      <td>SD</td>\n",
       "      <td>2006</td>\n",
       "      <td>4</td>\n",
       "      <td>1</td>\n",
       "      <td>1</td>\n",
       "      <td>5</td>\n",
       "      <td>1.0</td>\n",
       "      <td>0.0</td>\n",
       "      <td>60859.0</td>\n",
       "      <td>1</td>\n",
       "      <td>44</td>\n",
       "      <td>0.0</td>\n",
       "      <td>0</td>\n",
       "      <td>2.166667</td>\n",
       "      <td>1.0</td>\n",
       "      <td>2006</td>\n",
       "      <td>0.500000</td>\n",
       "      <td>8.660254e-01</td>\n",
       "      <td>1.0</td>\n",
       "      <td>0.50</td>\n",
       "      <td>24752</td>\n",
       "      <td>0.5</td>\n",
       "      <td>0.866025</td>\n",
       "    </tr>\n",
       "    <tr>\n",
       "      <th>15</th>\n",
       "      <td>URBAN BEAST-SEATTLE LLC</td>\n",
       "      <td>SEATTLE</td>\n",
       "      <td>WA</td>\n",
       "      <td>98109</td>\n",
       "      <td>U.S. BANK NATIONAL ASSOCIATION</td>\n",
       "      <td>OH</td>\n",
       "      <td>2006</td>\n",
       "      <td>1</td>\n",
       "      <td>1</td>\n",
       "      <td>3</td>\n",
       "      <td>4</td>\n",
       "      <td>0.0</td>\n",
       "      <td>0.0</td>\n",
       "      <td>28090.0</td>\n",
       "      <td>1</td>\n",
       "      <td>45</td>\n",
       "      <td>0.0</td>\n",
       "      <td>0</td>\n",
       "      <td>0.416667</td>\n",
       "      <td>0.0</td>\n",
       "      <td>2006</td>\n",
       "      <td>-0.500000</td>\n",
       "      <td>-8.660254e-01</td>\n",
       "      <td>1.0</td>\n",
       "      <td>0.85</td>\n",
       "      <td>20370</td>\n",
       "      <td>0.5</td>\n",
       "      <td>0.866025</td>\n",
       "    </tr>\n",
       "    <tr>\n",
       "      <th>16</th>\n",
       "      <td>SHAFI SECURITY</td>\n",
       "      <td>THORNTON</td>\n",
       "      <td>CO</td>\n",
       "      <td>80602</td>\n",
       "      <td>JPMORGAN CHASE BANK NATL ASSOC</td>\n",
       "      <td>IL</td>\n",
       "      <td>2006</td>\n",
       "      <td>4</td>\n",
       "      <td>0</td>\n",
       "      <td>8</td>\n",
       "      <td>4</td>\n",
       "      <td>1.0</td>\n",
       "      <td>0.0</td>\n",
       "      <td>76432.0</td>\n",
       "      <td>1</td>\n",
       "      <td>56</td>\n",
       "      <td>0.0</td>\n",
       "      <td>0</td>\n",
       "      <td>4.500000</td>\n",
       "      <td>1.0</td>\n",
       "      <td>2006</td>\n",
       "      <td>0.500000</td>\n",
       "      <td>8.660254e-01</td>\n",
       "      <td>1.0</td>\n",
       "      <td>0.50</td>\n",
       "      <td>34974</td>\n",
       "      <td>0.5</td>\n",
       "      <td>0.866025</td>\n",
       "    </tr>\n",
       "    <tr>\n",
       "      <th>24</th>\n",
       "      <td>GOLDMAN WEBBER &amp; ASSOCIATES IN</td>\n",
       "      <td>RENO</td>\n",
       "      <td>NV</td>\n",
       "      <td>89502</td>\n",
       "      <td>WELLS FARGO BANK NATL ASSOC</td>\n",
       "      <td>SD</td>\n",
       "      <td>2006</td>\n",
       "      <td>10</td>\n",
       "      <td>0</td>\n",
       "      <td>11</td>\n",
       "      <td>10</td>\n",
       "      <td>1.0</td>\n",
       "      <td>0.0</td>\n",
       "      <td>90518.0</td>\n",
       "      <td>1</td>\n",
       "      <td>56</td>\n",
       "      <td>0.0</td>\n",
       "      <td>0</td>\n",
       "      <td>2.250000</td>\n",
       "      <td>0.0</td>\n",
       "      <td>2006</td>\n",
       "      <td>0.500000</td>\n",
       "      <td>8.660254e-01</td>\n",
       "      <td>1.0</td>\n",
       "      <td>0.50</td>\n",
       "      <td>24752</td>\n",
       "      <td>0.5</td>\n",
       "      <td>0.866025</td>\n",
       "    </tr>\n",
       "    <tr>\n",
       "      <th>...</th>\n",
       "      <td>...</td>\n",
       "      <td>...</td>\n",
       "      <td>...</td>\n",
       "      <td>...</td>\n",
       "      <td>...</td>\n",
       "      <td>...</td>\n",
       "      <td>...</td>\n",
       "      <td>...</td>\n",
       "      <td>...</td>\n",
       "      <td>...</td>\n",
       "      <td>...</td>\n",
       "      <td>...</td>\n",
       "      <td>...</td>\n",
       "      <td>...</td>\n",
       "      <td>...</td>\n",
       "      <td>...</td>\n",
       "      <td>...</td>\n",
       "      <td>...</td>\n",
       "      <td>...</td>\n",
       "      <td>...</td>\n",
       "      <td>...</td>\n",
       "      <td>...</td>\n",
       "      <td>...</td>\n",
       "      <td>...</td>\n",
       "      <td>...</td>\n",
       "      <td>...</td>\n",
       "      <td>...</td>\n",
       "      <td>...</td>\n",
       "    </tr>\n",
       "    <tr>\n",
       "      <th>510143</th>\n",
       "      <td>ANGELIC LLC</td>\n",
       "      <td>DENVER</td>\n",
       "      <td>CO</td>\n",
       "      <td>80210</td>\n",
       "      <td>WELLS FARGO BANK NATL ASSOC</td>\n",
       "      <td>SD</td>\n",
       "      <td>2006</td>\n",
       "      <td>1</td>\n",
       "      <td>0</td>\n",
       "      <td>3</td>\n",
       "      <td>1</td>\n",
       "      <td>1.0</td>\n",
       "      <td>0.0</td>\n",
       "      <td>47827.0</td>\n",
       "      <td>1</td>\n",
       "      <td>71</td>\n",
       "      <td>0.0</td>\n",
       "      <td>0</td>\n",
       "      <td>2.333333</td>\n",
       "      <td>0.0</td>\n",
       "      <td>2006</td>\n",
       "      <td>0.866025</td>\n",
       "      <td>5.000000e-01</td>\n",
       "      <td>1.0</td>\n",
       "      <td>0.50</td>\n",
       "      <td>24752</td>\n",
       "      <td>0.5</td>\n",
       "      <td>0.866025</td>\n",
       "    </tr>\n",
       "    <tr>\n",
       "      <th>510151</th>\n",
       "      <td>TEXAS MORTGAGE CONSULTANTS INC</td>\n",
       "      <td>AUSTIN</td>\n",
       "      <td>TX</td>\n",
       "      <td>78759</td>\n",
       "      <td>WELLS FARGO BANK NATL ASSOC</td>\n",
       "      <td>SD</td>\n",
       "      <td>2006</td>\n",
       "      <td>5</td>\n",
       "      <td>1</td>\n",
       "      <td>0</td>\n",
       "      <td>5</td>\n",
       "      <td>1.0</td>\n",
       "      <td>0.0</td>\n",
       "      <td>160456.0</td>\n",
       "      <td>1</td>\n",
       "      <td>52</td>\n",
       "      <td>0.0</td>\n",
       "      <td>0</td>\n",
       "      <td>2.833333</td>\n",
       "      <td>0.0</td>\n",
       "      <td>2006</td>\n",
       "      <td>0.866025</td>\n",
       "      <td>5.000000e-01</td>\n",
       "      <td>1.0</td>\n",
       "      <td>0.50</td>\n",
       "      <td>24752</td>\n",
       "      <td>0.5</td>\n",
       "      <td>0.866025</td>\n",
       "    </tr>\n",
       "    <tr>\n",
       "      <th>510152</th>\n",
       "      <td>MANUFACTURING SOLUTIONS INC</td>\n",
       "      <td>HAMILTON</td>\n",
       "      <td>IN</td>\n",
       "      <td>46742</td>\n",
       "      <td>WELLS FARGO BANK NATL ASSOC</td>\n",
       "      <td>SD</td>\n",
       "      <td>2006</td>\n",
       "      <td>6</td>\n",
       "      <td>0</td>\n",
       "      <td>1</td>\n",
       "      <td>7</td>\n",
       "      <td>1.0</td>\n",
       "      <td>0.0</td>\n",
       "      <td>120899.0</td>\n",
       "      <td>1</td>\n",
       "      <td>42</td>\n",
       "      <td>0.0</td>\n",
       "      <td>0</td>\n",
       "      <td>0.583333</td>\n",
       "      <td>0.0</td>\n",
       "      <td>2006</td>\n",
       "      <td>0.500000</td>\n",
       "      <td>8.660254e-01</td>\n",
       "      <td>1.0</td>\n",
       "      <td>0.50</td>\n",
       "      <td>24752</td>\n",
       "      <td>0.5</td>\n",
       "      <td>0.866025</td>\n",
       "    </tr>\n",
       "    <tr>\n",
       "      <th>510153</th>\n",
       "      <td>MI GENTE CONSTRUCTION INC</td>\n",
       "      <td>FREEPORT</td>\n",
       "      <td>NY</td>\n",
       "      <td>11520</td>\n",
       "      <td>JPMORGAN CHASE BANK NATL ASSOC</td>\n",
       "      <td>IL</td>\n",
       "      <td>2006</td>\n",
       "      <td>1</td>\n",
       "      <td>0</td>\n",
       "      <td>0</td>\n",
       "      <td>1</td>\n",
       "      <td>1.0</td>\n",
       "      <td>0.0</td>\n",
       "      <td>57707.0</td>\n",
       "      <td>1</td>\n",
       "      <td>23</td>\n",
       "      <td>0.0</td>\n",
       "      <td>0</td>\n",
       "      <td>5.000000</td>\n",
       "      <td>0.0</td>\n",
       "      <td>2006</td>\n",
       "      <td>1.000000</td>\n",
       "      <td>6.123234e-17</td>\n",
       "      <td>1.0</td>\n",
       "      <td>0.50</td>\n",
       "      <td>34974</td>\n",
       "      <td>0.5</td>\n",
       "      <td>0.866025</td>\n",
       "    </tr>\n",
       "    <tr>\n",
       "      <th>510156</th>\n",
       "      <td>THE VALLA GROUP INC</td>\n",
       "      <td>CHANDLER</td>\n",
       "      <td>AZ</td>\n",
       "      <td>85226</td>\n",
       "      <td>M&amp;I, A BRANCH OF</td>\n",
       "      <td>WI</td>\n",
       "      <td>2006</td>\n",
       "      <td>2</td>\n",
       "      <td>1</td>\n",
       "      <td>2</td>\n",
       "      <td>2</td>\n",
       "      <td>0.0</td>\n",
       "      <td>0.0</td>\n",
       "      <td>170000.0</td>\n",
       "      <td>1</td>\n",
       "      <td>81</td>\n",
       "      <td>0.0</td>\n",
       "      <td>0</td>\n",
       "      <td>2.416667</td>\n",
       "      <td>0.0</td>\n",
       "      <td>2006</td>\n",
       "      <td>0.500000</td>\n",
       "      <td>8.660254e-01</td>\n",
       "      <td>1.0</td>\n",
       "      <td>0.75</td>\n",
       "      <td>184</td>\n",
       "      <td>0.5</td>\n",
       "      <td>0.866025</td>\n",
       "    </tr>\n",
       "  </tbody>\n",
       "</table>\n",
       "<p>126527 rows × 28 columns</p>\n",
       "</div>"
      ],
      "text/plain": [
       "                                  Name                            City State  \\\n",
       "8              NEW DIMENSION HOMES INC  CLINTON (CENSUS NAME FOR CLINT    ME   \n",
       "11                    LILY DAY GARDENS                          BURNET    TX   \n",
       "15             URBAN BEAST-SEATTLE LLC                         SEATTLE    WA   \n",
       "16                      SHAFI SECURITY                        THORNTON    CO   \n",
       "24      GOLDMAN WEBBER & ASSOCIATES IN                            RENO    NV   \n",
       "...                                ...                             ...   ...   \n",
       "510143                     ANGELIC LLC                          DENVER    CO   \n",
       "510151  TEXAS MORTGAGE CONSULTANTS INC                          AUSTIN    TX   \n",
       "510152     MANUFACTURING SOLUTIONS INC                        HAMILTON    IN   \n",
       "510153       MI GENTE CONSTRUCTION INC                        FREEPORT    NY   \n",
       "510156             THE VALLA GROUP INC                        CHANDLER    AZ   \n",
       "\n",
       "          Zip                            Bank BankState  ApprovalFY  NoEmp  \\\n",
       "8        4927     WELLS FARGO BANK NATL ASSOC        SD        2006      9   \n",
       "11      78611     WELLS FARGO BANK NATL ASSOC        SD        2006      4   \n",
       "15      98109  U.S. BANK NATIONAL ASSOCIATION        OH        2006      1   \n",
       "16      80602  JPMORGAN CHASE BANK NATL ASSOC        IL        2006      4   \n",
       "24      89502     WELLS FARGO BANK NATL ASSOC        SD        2006     10   \n",
       "...       ...                             ...       ...         ...    ...   \n",
       "510143  80210     WELLS FARGO BANK NATL ASSOC        SD        2006      1   \n",
       "510151  78759     WELLS FARGO BANK NATL ASSOC        SD        2006      5   \n",
       "510152  46742     WELLS FARGO BANK NATL ASSOC        SD        2006      6   \n",
       "510153  11520  JPMORGAN CHASE BANK NATL ASSOC        IL        2006      1   \n",
       "510156  85226                M&I, A BRANCH OF        WI        2006      2   \n",
       "\n",
       "        NewExist  CreateJob  RetainedJob  RevLineCr  LowDoc  \\\n",
       "8              0          0            9        0.0     0.0   \n",
       "11             1          1            5        1.0     0.0   \n",
       "15             1          3            4        0.0     0.0   \n",
       "16             0          8            4        1.0     0.0   \n",
       "24             0         11           10        1.0     0.0   \n",
       "...          ...        ...          ...        ...     ...   \n",
       "510143         0          3            1        1.0     0.0   \n",
       "510151         1          0            5        1.0     0.0   \n",
       "510152         0          1            7        1.0     0.0   \n",
       "510153         0          0            1        1.0     0.0   \n",
       "510156         1          2            2        0.0     0.0   \n",
       "\n",
       "        DisbursementGross  MIS_Status  twoDigNAICS  is_franchise  \\\n",
       "8               1350000.0           1           23           0.0   \n",
       "11                60859.0           1           44           0.0   \n",
       "15                28090.0           1           45           0.0   \n",
       "16                76432.0           1           56           0.0   \n",
       "24                90518.0           1           56           0.0   \n",
       "...                   ...         ...          ...           ...   \n",
       "510143            47827.0           1           71           0.0   \n",
       "510151           160456.0           1           52           0.0   \n",
       "510152           120899.0           1           42           0.0   \n",
       "510153            57707.0           1           23           0.0   \n",
       "510156           170000.0           1           81           0.0   \n",
       "\n",
       "        bank_out_of_state  Term_years  UrbanRural_cleaned  Disbr_year  \\\n",
       "8                       0   13.916667                 0.0        2006   \n",
       "11                      0    2.166667                 1.0        2006   \n",
       "15                      0    0.416667                 0.0        2006   \n",
       "16                      0    4.500000                 1.0        2006   \n",
       "24                      0    2.250000                 0.0        2006   \n",
       "...                   ...         ...                 ...         ...   \n",
       "510143                  0    2.333333                 0.0        2006   \n",
       "510151                  0    2.833333                 0.0        2006   \n",
       "510152                  0    0.583333                 0.0        2006   \n",
       "510153                  0    5.000000                 0.0        2006   \n",
       "510156                  0    2.416667                 0.0        2006   \n",
       "\n",
       "        Disbr_Month_sin  Disbr_Month_cos  sba_pre_approv  percent_SBA  \\\n",
       "8              0.500000     8.660254e-01             1.0         0.75   \n",
       "11             0.500000     8.660254e-01             1.0         0.50   \n",
       "15            -0.500000    -8.660254e-01             1.0         0.85   \n",
       "16             0.500000     8.660254e-01             1.0         0.50   \n",
       "24             0.500000     8.660254e-01             1.0         0.50   \n",
       "...                 ...              ...             ...          ...   \n",
       "510143         0.866025     5.000000e-01             1.0         0.50   \n",
       "510151         0.866025     5.000000e-01             1.0         0.50   \n",
       "510152         0.500000     8.660254e-01             1.0         0.50   \n",
       "510153         1.000000     6.123234e-17             1.0         0.50   \n",
       "510156         0.500000     8.660254e-01             1.0         0.75   \n",
       "\n",
       "        bank_size  Appv_Month_sin  Appv_Month_cos  \n",
       "8           24752             0.5        0.866025  \n",
       "11          24752             0.5        0.866025  \n",
       "15          20370             0.5        0.866025  \n",
       "16          34974             0.5        0.866025  \n",
       "24          24752             0.5        0.866025  \n",
       "...           ...             ...             ...  \n",
       "510143      24752             0.5        0.866025  \n",
       "510151      24752             0.5        0.866025  \n",
       "510152      24752             0.5        0.866025  \n",
       "510153      34974             0.5        0.866025  \n",
       "510156        184             0.5        0.866025  \n",
       "\n",
       "[126527 rows x 28 columns]"
      ]
     },
     "execution_count": 53,
     "metadata": {},
     "output_type": "execute_result"
    },
    {
     "data": {
      "application/javascript": [
       "\n",
       "            setTimeout(function() {\n",
       "                var nbb_cell_id = 53;\n",
       "                var nbb_unformatted_code = \"loans[loans[\\\"MIS_Status\\\"] == 1]\";\n",
       "                var nbb_formatted_code = \"loans[loans[\\\"MIS_Status\\\"] == 1]\";\n",
       "                var nbb_cells = Jupyter.notebook.get_cells();\n",
       "                for (var i = 0; i < nbb_cells.length; ++i) {\n",
       "                    if (nbb_cells[i].input_prompt_number == nbb_cell_id) {\n",
       "                        if (nbb_cells[i].get_text() == nbb_unformatted_code) {\n",
       "                             nbb_cells[i].set_text(nbb_formatted_code);\n",
       "                        }\n",
       "                        break;\n",
       "                    }\n",
       "                }\n",
       "            }, 500);\n",
       "            "
      ],
      "text/plain": [
       "<IPython.core.display.Javascript object>"
      ]
     },
     "metadata": {},
     "output_type": "display_data"
    }
   ],
   "source": [
    "loans[loans[\"MIS_Status\"] == 1]"
   ]
  },
  {
   "cell_type": "code",
   "execution_count": null,
   "metadata": {},
   "outputs": [],
   "source": []
  }
 ],
 "metadata": {
  "kernelspec": {
   "display_name": "Python 3",
   "language": "python",
   "name": "python3"
  },
  "language_info": {
   "codemirror_mode": {
    "name": "ipython",
    "version": 3
   },
   "file_extension": ".py",
   "mimetype": "text/x-python",
   "name": "python",
   "nbconvert_exporter": "python",
   "pygments_lexer": "ipython3",
   "version": "3.7.6"
  }
 },
 "nbformat": 4,
 "nbformat_minor": 4
}
