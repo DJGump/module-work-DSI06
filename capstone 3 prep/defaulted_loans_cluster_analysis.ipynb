{
 "cells": [
  {
   "cell_type": "code",
   "execution_count": 1,
   "metadata": {},
   "outputs": [
    {
     "data": {
      "application/javascript": [
       "\n",
       "            setTimeout(function() {\n",
       "                var nbb_cell_id = 1;\n",
       "                var nbb_unformatted_code = \"%reload_ext nb_black\";\n",
       "                var nbb_formatted_code = \"%reload_ext nb_black\";\n",
       "                var nbb_cells = Jupyter.notebook.get_cells();\n",
       "                for (var i = 0; i < nbb_cells.length; ++i) {\n",
       "                    if (nbb_cells[i].input_prompt_number == nbb_cell_id) {\n",
       "                        if (nbb_cells[i].get_text() == nbb_unformatted_code) {\n",
       "                             nbb_cells[i].set_text(nbb_formatted_code);\n",
       "                        }\n",
       "                        break;\n",
       "                    }\n",
       "                }\n",
       "            }, 500);\n",
       "            "
      ],
      "text/plain": [
       "<IPython.core.display.Javascript object>"
      ]
     },
     "metadata": {},
     "output_type": "display_data"
    }
   ],
   "source": [
    "%reload_ext nb_black"
   ]
  },
  {
   "cell_type": "code",
   "execution_count": 2,
   "metadata": {},
   "outputs": [
    {
     "data": {
      "application/javascript": [
       "\n",
       "            setTimeout(function() {\n",
       "                var nbb_cell_id = 2;\n",
       "                var nbb_unformatted_code = \"import numpy as np\\nimport pandas as pd\\nfrom matplotlib import pyplot as plt\\nimport seaborn as sns\\nfrom pyclustering.cluster.kmedoids import kmedoids\\nfrom sklearn.cluster import AgglomerativeClustering, DBSCAN\\nfrom umap import UMAP\\nfrom sklearn.preprocessing import StandardScaler\\nimport prince\\n\\nimport gower\\n\\n%matplotlib inline\\npd.options.display.max_rows = 999\\npd.options.display.max_columns = 999\";\n",
       "                var nbb_formatted_code = \"import numpy as np\\nimport pandas as pd\\nfrom matplotlib import pyplot as plt\\nimport seaborn as sns\\nfrom pyclustering.cluster.kmedoids import kmedoids\\nfrom sklearn.cluster import AgglomerativeClustering, DBSCAN\\nfrom umap import UMAP\\nfrom sklearn.preprocessing import StandardScaler\\nimport prince\\n\\nimport gower\\n\\n%matplotlib inline\\npd.options.display.max_rows = 999\\npd.options.display.max_columns = 999\";\n",
       "                var nbb_cells = Jupyter.notebook.get_cells();\n",
       "                for (var i = 0; i < nbb_cells.length; ++i) {\n",
       "                    if (nbb_cells[i].input_prompt_number == nbb_cell_id) {\n",
       "                        if (nbb_cells[i].get_text() == nbb_unformatted_code) {\n",
       "                             nbb_cells[i].set_text(nbb_formatted_code);\n",
       "                        }\n",
       "                        break;\n",
       "                    }\n",
       "                }\n",
       "            }, 500);\n",
       "            "
      ],
      "text/plain": [
       "<IPython.core.display.Javascript object>"
      ]
     },
     "metadata": {},
     "output_type": "display_data"
    }
   ],
   "source": [
    "import numpy as np\n",
    "import pandas as pd\n",
    "from matplotlib import pyplot as plt\n",
    "import seaborn as sns\n",
    "from pyclustering.cluster.kmedoids import kmedoids\n",
    "from sklearn.cluster import AgglomerativeClustering, DBSCAN\n",
    "from umap import UMAP\n",
    "from sklearn.preprocessing import StandardScaler\n",
    "import prince\n",
    "\n",
    "import gower\n",
    "\n",
    "%matplotlib inline\n",
    "pd.options.display.max_rows = 999\n",
    "pd.options.display.max_columns = 999"
   ]
  },
  {
   "cell_type": "code",
   "execution_count": 3,
   "metadata": {},
   "outputs": [
    {
     "data": {
      "text/html": [
       "<div>\n",
       "<style scoped>\n",
       "    .dataframe tbody tr th:only-of-type {\n",
       "        vertical-align: middle;\n",
       "    }\n",
       "\n",
       "    .dataframe tbody tr th {\n",
       "        vertical-align: top;\n",
       "    }\n",
       "\n",
       "    .dataframe thead th {\n",
       "        text-align: right;\n",
       "    }\n",
       "</style>\n",
       "<table border=\"1\" class=\"dataframe\">\n",
       "  <thead>\n",
       "    <tr style=\"text-align: right;\">\n",
       "      <th></th>\n",
       "      <th>Name</th>\n",
       "      <th>City</th>\n",
       "      <th>State</th>\n",
       "      <th>Zip</th>\n",
       "      <th>Bank</th>\n",
       "      <th>BankState</th>\n",
       "      <th>ApprovalFY</th>\n",
       "      <th>NoEmp</th>\n",
       "      <th>NewExist</th>\n",
       "      <th>CreateJob</th>\n",
       "      <th>RetainedJob</th>\n",
       "      <th>RevLineCr</th>\n",
       "      <th>LowDoc</th>\n",
       "      <th>DisbursementGross</th>\n",
       "      <th>MIS_Status</th>\n",
       "      <th>twoDigNAICS</th>\n",
       "      <th>is_franchise</th>\n",
       "      <th>bank_out_of_state</th>\n",
       "      <th>Term_years</th>\n",
       "      <th>UrbanRural_cleaned</th>\n",
       "      <th>Disbr_year</th>\n",
       "      <th>Disbr_Month_sin</th>\n",
       "      <th>Disbr_Month_cos</th>\n",
       "      <th>sba_pre_approv</th>\n",
       "      <th>percent_SBA</th>\n",
       "      <th>bank_size</th>\n",
       "      <th>Appv_Month_sin</th>\n",
       "      <th>Appv_Month_cos</th>\n",
       "    </tr>\n",
       "  </thead>\n",
       "  <tbody>\n",
       "    <tr>\n",
       "      <th>0</th>\n",
       "      <td>CARVEL</td>\n",
       "      <td>APEX</td>\n",
       "      <td>NC</td>\n",
       "      <td>27502</td>\n",
       "      <td>STEARNS BK NATL ASSOC</td>\n",
       "      <td>MN</td>\n",
       "      <td>2006</td>\n",
       "      <td>2</td>\n",
       "      <td>1</td>\n",
       "      <td>0</td>\n",
       "      <td>0</td>\n",
       "      <td>0.0</td>\n",
       "      <td>0.0</td>\n",
       "      <td>253400.0</td>\n",
       "      <td>0</td>\n",
       "      <td>44</td>\n",
       "      <td>1.0</td>\n",
       "      <td>0</td>\n",
       "      <td>13.500000</td>\n",
       "      <td>0.0</td>\n",
       "      <td>2006</td>\n",
       "      <td>0.866025</td>\n",
       "      <td>5.000000e-01</td>\n",
       "      <td>1.0</td>\n",
       "      <td>0.75</td>\n",
       "      <td>1.0</td>\n",
       "      <td>0.5</td>\n",
       "      <td>0.866025</td>\n",
       "    </tr>\n",
       "    <tr>\n",
       "      <th>1</th>\n",
       "      <td>SUBWAY</td>\n",
       "      <td>LITTLE ROCK</td>\n",
       "      <td>AR</td>\n",
       "      <td>72223</td>\n",
       "      <td>HOPE FCU</td>\n",
       "      <td>MS</td>\n",
       "      <td>2006</td>\n",
       "      <td>7</td>\n",
       "      <td>0</td>\n",
       "      <td>0</td>\n",
       "      <td>0</td>\n",
       "      <td>0.0</td>\n",
       "      <td>0.0</td>\n",
       "      <td>137300.0</td>\n",
       "      <td>0</td>\n",
       "      <td>72</td>\n",
       "      <td>0.0</td>\n",
       "      <td>0</td>\n",
       "      <td>10.500000</td>\n",
       "      <td>0.0</td>\n",
       "      <td>2006</td>\n",
       "      <td>1.000000</td>\n",
       "      <td>6.123234e-17</td>\n",
       "      <td>1.0</td>\n",
       "      <td>0.85</td>\n",
       "      <td>0.0</td>\n",
       "      <td>0.5</td>\n",
       "      <td>0.866025</td>\n",
       "    </tr>\n",
       "    <tr>\n",
       "      <th>2</th>\n",
       "      <td>WEYLAND CORPORATION</td>\n",
       "      <td>CAMARILLO</td>\n",
       "      <td>CA</td>\n",
       "      <td>93010</td>\n",
       "      <td>WELLS FARGO BANK NATL ASSOC</td>\n",
       "      <td>SD</td>\n",
       "      <td>2006</td>\n",
       "      <td>18</td>\n",
       "      <td>1</td>\n",
       "      <td>5</td>\n",
       "      <td>23</td>\n",
       "      <td>1.0</td>\n",
       "      <td>0.0</td>\n",
       "      <td>438541.0</td>\n",
       "      <td>0</td>\n",
       "      <td>61</td>\n",
       "      <td>0.0</td>\n",
       "      <td>0</td>\n",
       "      <td>6.916667</td>\n",
       "      <td>0.0</td>\n",
       "      <td>2006</td>\n",
       "      <td>0.500000</td>\n",
       "      <td>8.660254e-01</td>\n",
       "      <td>1.0</td>\n",
       "      <td>0.50</td>\n",
       "      <td>2.0</td>\n",
       "      <td>0.5</td>\n",
       "      <td>0.866025</td>\n",
       "    </tr>\n",
       "    <tr>\n",
       "      <th>3</th>\n",
       "      <td>CHICAGO BRICK UNLIMITED INC</td>\n",
       "      <td>MIAMI</td>\n",
       "      <td>FL</td>\n",
       "      <td>33186</td>\n",
       "      <td>CITIBANK, N.A.</td>\n",
       "      <td>FL</td>\n",
       "      <td>2006</td>\n",
       "      <td>4</td>\n",
       "      <td>0</td>\n",
       "      <td>0</td>\n",
       "      <td>4</td>\n",
       "      <td>1.0</td>\n",
       "      <td>0.0</td>\n",
       "      <td>51440.0</td>\n",
       "      <td>0</td>\n",
       "      <td>23</td>\n",
       "      <td>0.0</td>\n",
       "      <td>1</td>\n",
       "      <td>7.000000</td>\n",
       "      <td>0.0</td>\n",
       "      <td>2006</td>\n",
       "      <td>0.500000</td>\n",
       "      <td>8.660254e-01</td>\n",
       "      <td>1.0</td>\n",
       "      <td>0.50</td>\n",
       "      <td>2.0</td>\n",
       "      <td>0.5</td>\n",
       "      <td>0.866025</td>\n",
       "    </tr>\n",
       "    <tr>\n",
       "      <th>4</th>\n",
       "      <td>RZI, INC.</td>\n",
       "      <td>NEW ORLEANS</td>\n",
       "      <td>LA</td>\n",
       "      <td>70130</td>\n",
       "      <td>BUSINESS RES. CAP. SPECIALTY B</td>\n",
       "      <td>LA</td>\n",
       "      <td>2006</td>\n",
       "      <td>3</td>\n",
       "      <td>0</td>\n",
       "      <td>0</td>\n",
       "      <td>0</td>\n",
       "      <td>0.0</td>\n",
       "      <td>0.0</td>\n",
       "      <td>50000.0</td>\n",
       "      <td>0</td>\n",
       "      <td>53</td>\n",
       "      <td>0.0</td>\n",
       "      <td>1</td>\n",
       "      <td>5.000000</td>\n",
       "      <td>0.0</td>\n",
       "      <td>2006</td>\n",
       "      <td>0.866025</td>\n",
       "      <td>-5.000000e-01</td>\n",
       "      <td>1.0</td>\n",
       "      <td>0.85</td>\n",
       "      <td>0.0</td>\n",
       "      <td>0.5</td>\n",
       "      <td>0.866025</td>\n",
       "    </tr>\n",
       "  </tbody>\n",
       "</table>\n",
       "</div>"
      ],
      "text/plain": [
       "                          Name         City State    Zip  \\\n",
       "0                       CARVEL         APEX    NC  27502   \n",
       "1                       SUBWAY  LITTLE ROCK    AR  72223   \n",
       "2          WEYLAND CORPORATION    CAMARILLO    CA  93010   \n",
       "3  CHICAGO BRICK UNLIMITED INC        MIAMI    FL  33186   \n",
       "4                    RZI, INC.  NEW ORLEANS    LA  70130   \n",
       "\n",
       "                             Bank BankState  ApprovalFY  NoEmp  NewExist  \\\n",
       "0           STEARNS BK NATL ASSOC        MN        2006      2         1   \n",
       "1                        HOPE FCU        MS        2006      7         0   \n",
       "2     WELLS FARGO BANK NATL ASSOC        SD        2006     18         1   \n",
       "3                  CITIBANK, N.A.        FL        2006      4         0   \n",
       "4  BUSINESS RES. CAP. SPECIALTY B        LA        2006      3         0   \n",
       "\n",
       "   CreateJob  RetainedJob  RevLineCr  LowDoc  DisbursementGross  MIS_Status  \\\n",
       "0          0            0        0.0     0.0           253400.0           0   \n",
       "1          0            0        0.0     0.0           137300.0           0   \n",
       "2          5           23        1.0     0.0           438541.0           0   \n",
       "3          0            4        1.0     0.0            51440.0           0   \n",
       "4          0            0        0.0     0.0            50000.0           0   \n",
       "\n",
       "   twoDigNAICS  is_franchise  bank_out_of_state  Term_years  \\\n",
       "0           44           1.0                  0   13.500000   \n",
       "1           72           0.0                  0   10.500000   \n",
       "2           61           0.0                  0    6.916667   \n",
       "3           23           0.0                  1    7.000000   \n",
       "4           53           0.0                  1    5.000000   \n",
       "\n",
       "   UrbanRural_cleaned  Disbr_year  Disbr_Month_sin  Disbr_Month_cos  \\\n",
       "0                 0.0        2006         0.866025     5.000000e-01   \n",
       "1                 0.0        2006         1.000000     6.123234e-17   \n",
       "2                 0.0        2006         0.500000     8.660254e-01   \n",
       "3                 0.0        2006         0.500000     8.660254e-01   \n",
       "4                 0.0        2006         0.866025    -5.000000e-01   \n",
       "\n",
       "   sba_pre_approv  percent_SBA  bank_size  Appv_Month_sin  Appv_Month_cos  \n",
       "0             1.0         0.75        1.0             0.5        0.866025  \n",
       "1             1.0         0.85        0.0             0.5        0.866025  \n",
       "2             1.0         0.50        2.0             0.5        0.866025  \n",
       "3             1.0         0.50        2.0             0.5        0.866025  \n",
       "4             1.0         0.85        0.0             0.5        0.866025  "
      ]
     },
     "execution_count": 3,
     "metadata": {},
     "output_type": "execute_result"
    },
    {
     "data": {
      "application/javascript": [
       "\n",
       "            setTimeout(function() {\n",
       "                var nbb_cell_id = 3;\n",
       "                var nbb_unformatted_code = \"loans = pd.read_csv(\\\"data/SBA_clnd.csv\\\")\\nloans.head()\";\n",
       "                var nbb_formatted_code = \"loans = pd.read_csv(\\\"data/SBA_clnd.csv\\\")\\nloans.head()\";\n",
       "                var nbb_cells = Jupyter.notebook.get_cells();\n",
       "                for (var i = 0; i < nbb_cells.length; ++i) {\n",
       "                    if (nbb_cells[i].input_prompt_number == nbb_cell_id) {\n",
       "                        if (nbb_cells[i].get_text() == nbb_unformatted_code) {\n",
       "                             nbb_cells[i].set_text(nbb_formatted_code);\n",
       "                        }\n",
       "                        break;\n",
       "                    }\n",
       "                }\n",
       "            }, 500);\n",
       "            "
      ],
      "text/plain": [
       "<IPython.core.display.Javascript object>"
      ]
     },
     "metadata": {},
     "output_type": "display_data"
    }
   ],
   "source": [
    "loans = pd.read_csv(\"data/SBA_clnd.csv\")\n",
    "loans.head()"
   ]
  },
  {
   "cell_type": "code",
   "execution_count": 4,
   "metadata": {},
   "outputs": [
    {
     "data": {
      "application/javascript": [
       "\n",
       "            setTimeout(function() {\n",
       "                var nbb_cell_id = 4;\n",
       "                var nbb_unformatted_code = \"bank_counts = loans[\\\"Bank\\\"].value_counts()\\nloans[\\\"bank_size\\\"] = loans[\\\"Bank\\\"].apply(lambda x: bank_counts[x])\";\n",
       "                var nbb_formatted_code = \"bank_counts = loans[\\\"Bank\\\"].value_counts()\\nloans[\\\"bank_size\\\"] = loans[\\\"Bank\\\"].apply(lambda x: bank_counts[x])\";\n",
       "                var nbb_cells = Jupyter.notebook.get_cells();\n",
       "                for (var i = 0; i < nbb_cells.length; ++i) {\n",
       "                    if (nbb_cells[i].input_prompt_number == nbb_cell_id) {\n",
       "                        if (nbb_cells[i].get_text() == nbb_unformatted_code) {\n",
       "                             nbb_cells[i].set_text(nbb_formatted_code);\n",
       "                        }\n",
       "                        break;\n",
       "                    }\n",
       "                }\n",
       "            }, 500);\n",
       "            "
      ],
      "text/plain": [
       "<IPython.core.display.Javascript object>"
      ]
     },
     "metadata": {},
     "output_type": "display_data"
    }
   ],
   "source": [
    "bank_counts = loans[\"Bank\"].value_counts()\n",
    "loans[\"bank_size\"] = loans[\"Bank\"].apply(lambda x: bank_counts[x])"
   ]
  },
  {
   "cell_type": "code",
   "execution_count": 5,
   "metadata": {},
   "outputs": [
    {
     "data": {
      "application/javascript": [
       "\n",
       "            setTimeout(function() {\n",
       "                var nbb_cell_id = 5;\n",
       "                var nbb_unformatted_code = \"drop_cols = [\\n    \\\"Name\\\",\\n    \\\"City\\\",\\n    \\\"Zip\\\",\\n    \\\"Bank\\\",\\n    \\\"ApprovalFY\\\",\\n    \\\"Disbr_Month_sin\\\",\\n    \\\"Disbr_Month_cos\\\",\\n    \\\"Appv_Month_sin\\\",\\n    \\\"Appv_Month_cos\\\",\\n]\\nloans = loans.drop(columns=drop_cols)\";\n",
       "                var nbb_formatted_code = \"drop_cols = [\\n    \\\"Name\\\",\\n    \\\"City\\\",\\n    \\\"Zip\\\",\\n    \\\"Bank\\\",\\n    \\\"ApprovalFY\\\",\\n    \\\"Disbr_Month_sin\\\",\\n    \\\"Disbr_Month_cos\\\",\\n    \\\"Appv_Month_sin\\\",\\n    \\\"Appv_Month_cos\\\",\\n]\\nloans = loans.drop(columns=drop_cols)\";\n",
       "                var nbb_cells = Jupyter.notebook.get_cells();\n",
       "                for (var i = 0; i < nbb_cells.length; ++i) {\n",
       "                    if (nbb_cells[i].input_prompt_number == nbb_cell_id) {\n",
       "                        if (nbb_cells[i].get_text() == nbb_unformatted_code) {\n",
       "                             nbb_cells[i].set_text(nbb_formatted_code);\n",
       "                        }\n",
       "                        break;\n",
       "                    }\n",
       "                }\n",
       "            }, 500);\n",
       "            "
      ],
      "text/plain": [
       "<IPython.core.display.Javascript object>"
      ]
     },
     "metadata": {},
     "output_type": "display_data"
    }
   ],
   "source": [
    "drop_cols = [\n",
    "    \"Name\",\n",
    "    \"City\",\n",
    "    \"Zip\",\n",
    "    \"Bank\",\n",
    "    \"ApprovalFY\",\n",
    "    \"Disbr_Month_sin\",\n",
    "    \"Disbr_Month_cos\",\n",
    "    \"Appv_Month_sin\",\n",
    "    \"Appv_Month_cos\",\n",
    "]\n",
    "loans = loans.drop(columns=drop_cols)"
   ]
  },
  {
   "cell_type": "code",
   "execution_count": 6,
   "metadata": {},
   "outputs": [
    {
     "data": {
      "application/javascript": [
       "\n",
       "            setTimeout(function() {\n",
       "                var nbb_cell_id = 6;\n",
       "                var nbb_unformatted_code = \"num_cols = [\\n    \\\"NoEmp\\\",\\n    \\\"CreateJob\\\",\\n    \\\"RetainedJob\\\",\\n    \\\"DisbursementGross\\\",\\n    \\\"Term_years\\\",\\n    \\\"Disbr_year\\\",\\n    \\\"percent_SBA\\\",\\n    \\\"bank_size\\\",\\n]\\ncat_cols = [\\n    \\\"State\\\",\\n    \\\"BankState\\\",\\n    \\\"NewExist\\\",\\n    \\\"RevLineCr\\\",\\n    \\\"LowDoc\\\",\\n    \\\"MIS_Status\\\",\\n    \\\"twoDigNAICS\\\",\\n    \\\"is_franchise\\\",\\n    \\\"bank_out_of_state\\\",\\n    \\\"UrbanRural_cleaned\\\",\\n    \\\"sba_pre_approv\\\",\\n]\\n\\nis_cat = loans.columns.isin(cat_cols)\";\n",
       "                var nbb_formatted_code = \"num_cols = [\\n    \\\"NoEmp\\\",\\n    \\\"CreateJob\\\",\\n    \\\"RetainedJob\\\",\\n    \\\"DisbursementGross\\\",\\n    \\\"Term_years\\\",\\n    \\\"Disbr_year\\\",\\n    \\\"percent_SBA\\\",\\n    \\\"bank_size\\\",\\n]\\ncat_cols = [\\n    \\\"State\\\",\\n    \\\"BankState\\\",\\n    \\\"NewExist\\\",\\n    \\\"RevLineCr\\\",\\n    \\\"LowDoc\\\",\\n    \\\"MIS_Status\\\",\\n    \\\"twoDigNAICS\\\",\\n    \\\"is_franchise\\\",\\n    \\\"bank_out_of_state\\\",\\n    \\\"UrbanRural_cleaned\\\",\\n    \\\"sba_pre_approv\\\",\\n]\\n\\nis_cat = loans.columns.isin(cat_cols)\";\n",
       "                var nbb_cells = Jupyter.notebook.get_cells();\n",
       "                for (var i = 0; i < nbb_cells.length; ++i) {\n",
       "                    if (nbb_cells[i].input_prompt_number == nbb_cell_id) {\n",
       "                        if (nbb_cells[i].get_text() == nbb_unformatted_code) {\n",
       "                             nbb_cells[i].set_text(nbb_formatted_code);\n",
       "                        }\n",
       "                        break;\n",
       "                    }\n",
       "                }\n",
       "            }, 500);\n",
       "            "
      ],
      "text/plain": [
       "<IPython.core.display.Javascript object>"
      ]
     },
     "metadata": {},
     "output_type": "display_data"
    }
   ],
   "source": [
    "num_cols = [\n",
    "    \"NoEmp\",\n",
    "    \"CreateJob\",\n",
    "    \"RetainedJob\",\n",
    "    \"DisbursementGross\",\n",
    "    \"Term_years\",\n",
    "    \"Disbr_year\",\n",
    "    \"percent_SBA\",\n",
    "    \"bank_size\",\n",
    "]\n",
    "cat_cols = [\n",
    "    \"State\",\n",
    "    \"BankState\",\n",
    "    \"NewExist\",\n",
    "    \"RevLineCr\",\n",
    "    \"LowDoc\",\n",
    "    \"MIS_Status\",\n",
    "    \"twoDigNAICS\",\n",
    "    \"is_franchise\",\n",
    "    \"bank_out_of_state\",\n",
    "    \"UrbanRural_cleaned\",\n",
    "    \"sba_pre_approv\",\n",
    "]\n",
    "\n",
    "is_cat = loans.columns.isin(cat_cols)"
   ]
  },
  {
   "cell_type": "code",
   "execution_count": 7,
   "metadata": {},
   "outputs": [
    {
     "name": "stdout",
     "output_type": "stream",
     "text": [
      "<class 'pandas.core.frame.DataFrame'>\n",
      "Int64Index: 1000 entries, 188994 to 439947\n",
      "Data columns (total 19 columns):\n",
      " #   Column              Non-Null Count  Dtype  \n",
      "---  ------              --------------  -----  \n",
      " 0   State               1000 non-null   object \n",
      " 1   BankState           1000 non-null   object \n",
      " 2   NoEmp               1000 non-null   int64  \n",
      " 3   NewExist            1000 non-null   int64  \n",
      " 4   CreateJob           1000 non-null   int64  \n",
      " 5   RetainedJob         1000 non-null   int64  \n",
      " 6   RevLineCr           1000 non-null   float64\n",
      " 7   LowDoc              1000 non-null   float64\n",
      " 8   DisbursementGross   1000 non-null   float64\n",
      " 9   MIS_Status          1000 non-null   int64  \n",
      " 10  twoDigNAICS         1000 non-null   int64  \n",
      " 11  is_franchise        1000 non-null   float64\n",
      " 12  bank_out_of_state   1000 non-null   int64  \n",
      " 13  Term_years          1000 non-null   float64\n",
      " 14  UrbanRural_cleaned  1000 non-null   float64\n",
      " 15  Disbr_year          1000 non-null   int64  \n",
      " 16  sba_pre_approv      1000 non-null   float64\n",
      " 17  percent_SBA         1000 non-null   float64\n",
      " 18  bank_size           1000 non-null   int64  \n",
      "dtypes: float64(8), int64(9), object(2)\n",
      "memory usage: 156.2+ KB\n"
     ]
    },
    {
     "data": {
      "application/javascript": [
       "\n",
       "            setTimeout(function() {\n",
       "                var nbb_cell_id = 7;\n",
       "                var nbb_unformatted_code = \"default = loans[loans['MIS_Status'] == 1]\\nsample = default.sample(1000)\\nsample.info()\";\n",
       "                var nbb_formatted_code = \"default = loans[loans[\\\"MIS_Status\\\"] == 1]\\nsample = default.sample(1000)\\nsample.info()\";\n",
       "                var nbb_cells = Jupyter.notebook.get_cells();\n",
       "                for (var i = 0; i < nbb_cells.length; ++i) {\n",
       "                    if (nbb_cells[i].input_prompt_number == nbb_cell_id) {\n",
       "                        if (nbb_cells[i].get_text() == nbb_unformatted_code) {\n",
       "                             nbb_cells[i].set_text(nbb_formatted_code);\n",
       "                        }\n",
       "                        break;\n",
       "                    }\n",
       "                }\n",
       "            }, 500);\n",
       "            "
      ],
      "text/plain": [
       "<IPython.core.display.Javascript object>"
      ]
     },
     "metadata": {},
     "output_type": "display_data"
    }
   ],
   "source": [
    "default = loans[loans['MIS_Status'] == 1]\n",
    "sample = default.sample(1000)\n",
    "sample.info()\n"
   ]
  },
  {
   "cell_type": "code",
   "execution_count": 8,
   "metadata": {},
   "outputs": [
    {
     "data": {
      "application/javascript": [
       "\n",
       "            setTimeout(function() {\n",
       "                var nbb_cell_id = 8;\n",
       "                var nbb_unformatted_code = \"gower_dist = gower.gower_matrix(sample, cat_features=is_cat)\\ngower_df = pd.DataFrame(gower_dist, columns=sample.index, index=sample.index)\";\n",
       "                var nbb_formatted_code = \"gower_dist = gower.gower_matrix(sample, cat_features=is_cat)\\ngower_df = pd.DataFrame(gower_dist, columns=sample.index, index=sample.index)\";\n",
       "                var nbb_cells = Jupyter.notebook.get_cells();\n",
       "                for (var i = 0; i < nbb_cells.length; ++i) {\n",
       "                    if (nbb_cells[i].input_prompt_number == nbb_cell_id) {\n",
       "                        if (nbb_cells[i].get_text() == nbb_unformatted_code) {\n",
       "                             nbb_cells[i].set_text(nbb_formatted_code);\n",
       "                        }\n",
       "                        break;\n",
       "                    }\n",
       "                }\n",
       "            }, 500);\n",
       "            "
      ],
      "text/plain": [
       "<IPython.core.display.Javascript object>"
      ]
     },
     "metadata": {},
     "output_type": "display_data"
    }
   ],
   "source": [
    "gower_dist = gower.gower_matrix(sample, cat_features=is_cat)\n",
    "gower_df = pd.DataFrame(gower_dist, columns=sample.index, index=sample.index)"
   ]
  },
  {
   "cell_type": "code",
   "execution_count": 9,
   "metadata": {},
   "outputs": [
    {
     "data": {
      "text/html": [
       "<div>\n",
       "<style scoped>\n",
       "    .dataframe tbody tr th:only-of-type {\n",
       "        vertical-align: middle;\n",
       "    }\n",
       "\n",
       "    .dataframe tbody tr th {\n",
       "        vertical-align: top;\n",
       "    }\n",
       "\n",
       "    .dataframe thead th {\n",
       "        text-align: right;\n",
       "    }\n",
       "</style>\n",
       "<table border=\"1\" class=\"dataframe\">\n",
       "  <thead>\n",
       "    <tr style=\"text-align: right;\">\n",
       "      <th></th>\n",
       "      <th>NoEmp</th>\n",
       "      <th>CreateJob</th>\n",
       "      <th>RetainedJob</th>\n",
       "      <th>DisbursementGross</th>\n",
       "      <th>Term_years</th>\n",
       "      <th>Disbr_year</th>\n",
       "      <th>percent_SBA</th>\n",
       "      <th>bank_size</th>\n",
       "      <th>State</th>\n",
       "      <th>BankState</th>\n",
       "      <th>NewExist</th>\n",
       "      <th>RevLineCr</th>\n",
       "      <th>LowDoc</th>\n",
       "      <th>MIS_Status</th>\n",
       "      <th>twoDigNAICS</th>\n",
       "      <th>is_franchise</th>\n",
       "      <th>bank_out_of_state</th>\n",
       "      <th>UrbanRural_cleaned</th>\n",
       "      <th>sba_pre_approv</th>\n",
       "    </tr>\n",
       "  </thead>\n",
       "  <tbody>\n",
       "    <tr>\n",
       "      <th>188994</th>\n",
       "      <td>-0.360224</td>\n",
       "      <td>-0.076902</td>\n",
       "      <td>-0.299512</td>\n",
       "      <td>-0.058100</td>\n",
       "      <td>0.126527</td>\n",
       "      <td>1.132599</td>\n",
       "      <td>-0.687687</td>\n",
       "      <td>0.552279</td>\n",
       "      <td>NY</td>\n",
       "      <td>IL</td>\n",
       "      <td>0</td>\n",
       "      <td>1.0</td>\n",
       "      <td>0.0</td>\n",
       "      <td>1</td>\n",
       "      <td>44</td>\n",
       "      <td>0.0</td>\n",
       "      <td>0</td>\n",
       "      <td>0.0</td>\n",
       "      <td>1.0</td>\n",
       "    </tr>\n",
       "    <tr>\n",
       "      <th>345488</th>\n",
       "      <td>0.396322</td>\n",
       "      <td>-0.125543</td>\n",
       "      <td>-0.510808</td>\n",
       "      <td>0.583215</td>\n",
       "      <td>1.084689</td>\n",
       "      <td>-1.413712</td>\n",
       "      <td>0.941189</td>\n",
       "      <td>-0.923413</td>\n",
       "      <td>AZ</td>\n",
       "      <td>TX</td>\n",
       "      <td>0</td>\n",
       "      <td>0.0</td>\n",
       "      <td>0.0</td>\n",
       "      <td>1</td>\n",
       "      <td>45</td>\n",
       "      <td>0.0</td>\n",
       "      <td>0</td>\n",
       "      <td>0.0</td>\n",
       "      <td>1.0</td>\n",
       "    </tr>\n",
       "    <tr>\n",
       "      <th>352821</th>\n",
       "      <td>-0.468302</td>\n",
       "      <td>-0.125543</td>\n",
       "      <td>-0.510808</td>\n",
       "      <td>0.943352</td>\n",
       "      <td>-0.389407</td>\n",
       "      <td>-1.413712</td>\n",
       "      <td>0.941189</td>\n",
       "      <td>-0.856518</td>\n",
       "      <td>SC</td>\n",
       "      <td>NC</td>\n",
       "      <td>0</td>\n",
       "      <td>0.0</td>\n",
       "      <td>0.0</td>\n",
       "      <td>1</td>\n",
       "      <td>44</td>\n",
       "      <td>0.0</td>\n",
       "      <td>0</td>\n",
       "      <td>0.0</td>\n",
       "      <td>1.0</td>\n",
       "    </tr>\n",
       "    <tr>\n",
       "      <th>129596</th>\n",
       "      <td>-0.468302</td>\n",
       "      <td>-0.076902</td>\n",
       "      <td>-0.299512</td>\n",
       "      <td>0.156917</td>\n",
       "      <td>-0.266566</td>\n",
       "      <td>0.114075</td>\n",
       "      <td>-0.687687</td>\n",
       "      <td>0.076096</td>\n",
       "      <td>MN</td>\n",
       "      <td>SD</td>\n",
       "      <td>0</td>\n",
       "      <td>1.0</td>\n",
       "      <td>0.0</td>\n",
       "      <td>1</td>\n",
       "      <td>54</td>\n",
       "      <td>0.0</td>\n",
       "      <td>0</td>\n",
       "      <td>0.0</td>\n",
       "      <td>1.0</td>\n",
       "    </tr>\n",
       "    <tr>\n",
       "      <th>101593</th>\n",
       "      <td>-0.360224</td>\n",
       "      <td>-0.125543</td>\n",
       "      <td>-0.299512</td>\n",
       "      <td>-0.491977</td>\n",
       "      <td>-0.045451</td>\n",
       "      <td>0.114075</td>\n",
       "      <td>-0.687687</td>\n",
       "      <td>-0.824561</td>\n",
       "      <td>TX</td>\n",
       "      <td>NY</td>\n",
       "      <td>0</td>\n",
       "      <td>1.0</td>\n",
       "      <td>0.0</td>\n",
       "      <td>1</td>\n",
       "      <td>71</td>\n",
       "      <td>0.0</td>\n",
       "      <td>0</td>\n",
       "      <td>0.0</td>\n",
       "      <td>1.0</td>\n",
       "    </tr>\n",
       "    <tr>\n",
       "      <th>...</th>\n",
       "      <td>...</td>\n",
       "      <td>...</td>\n",
       "      <td>...</td>\n",
       "      <td>...</td>\n",
       "      <td>...</td>\n",
       "      <td>...</td>\n",
       "      <td>...</td>\n",
       "      <td>...</td>\n",
       "      <td>...</td>\n",
       "      <td>...</td>\n",
       "      <td>...</td>\n",
       "      <td>...</td>\n",
       "      <td>...</td>\n",
       "      <td>...</td>\n",
       "      <td>...</td>\n",
       "      <td>...</td>\n",
       "      <td>...</td>\n",
       "      <td>...</td>\n",
       "      <td>...</td>\n",
       "    </tr>\n",
       "    <tr>\n",
       "      <th>386221</th>\n",
       "      <td>0.504400</td>\n",
       "      <td>-0.028261</td>\n",
       "      <td>0.545672</td>\n",
       "      <td>-0.335395</td>\n",
       "      <td>-0.389407</td>\n",
       "      <td>-1.413712</td>\n",
       "      <td>-0.687687</td>\n",
       "      <td>-0.082663</td>\n",
       "      <td>IL</td>\n",
       "      <td>VA</td>\n",
       "      <td>0</td>\n",
       "      <td>0.0</td>\n",
       "      <td>0.0</td>\n",
       "      <td>1</td>\n",
       "      <td>42</td>\n",
       "      <td>0.0</td>\n",
       "      <td>0</td>\n",
       "      <td>0.0</td>\n",
       "      <td>1.0</td>\n",
       "    </tr>\n",
       "    <tr>\n",
       "      <th>290201</th>\n",
       "      <td>-0.468302</td>\n",
       "      <td>-0.125543</td>\n",
       "      <td>-0.405160</td>\n",
       "      <td>-0.349488</td>\n",
       "      <td>-0.561385</td>\n",
       "      <td>-1.922974</td>\n",
       "      <td>-0.687687</td>\n",
       "      <td>1.904802</td>\n",
       "      <td>RI</td>\n",
       "      <td>RI</td>\n",
       "      <td>0</td>\n",
       "      <td>0.0</td>\n",
       "      <td>0.0</td>\n",
       "      <td>1</td>\n",
       "      <td>44</td>\n",
       "      <td>0.0</td>\n",
       "      <td>1</td>\n",
       "      <td>0.0</td>\n",
       "      <td>1.0</td>\n",
       "    </tr>\n",
       "    <tr>\n",
       "      <th>56305</th>\n",
       "      <td>0.072088</td>\n",
       "      <td>-0.125543</td>\n",
       "      <td>0.123080</td>\n",
       "      <td>2.514384</td>\n",
       "      <td>5.113884</td>\n",
       "      <td>0.114075</td>\n",
       "      <td>0.941189</td>\n",
       "      <td>-0.923413</td>\n",
       "      <td>MI</td>\n",
       "      <td>TX</td>\n",
       "      <td>1</td>\n",
       "      <td>0.0</td>\n",
       "      <td>0.0</td>\n",
       "      <td>1</td>\n",
       "      <td>45</td>\n",
       "      <td>0.0</td>\n",
       "      <td>0</td>\n",
       "      <td>0.0</td>\n",
       "      <td>1.0</td>\n",
       "    </tr>\n",
       "    <tr>\n",
       "      <th>463609</th>\n",
       "      <td>-0.468302</td>\n",
       "      <td>-0.076902</td>\n",
       "      <td>-0.299512</td>\n",
       "      <td>-0.465880</td>\n",
       "      <td>-0.733363</td>\n",
       "      <td>-0.904450</td>\n",
       "      <td>-0.687687</td>\n",
       "      <td>0.076096</td>\n",
       "      <td>AZ</td>\n",
       "      <td>SD</td>\n",
       "      <td>0</td>\n",
       "      <td>1.0</td>\n",
       "      <td>0.0</td>\n",
       "      <td>1</td>\n",
       "      <td>45</td>\n",
       "      <td>0.0</td>\n",
       "      <td>0</td>\n",
       "      <td>0.0</td>\n",
       "      <td>1.0</td>\n",
       "    </tr>\n",
       "    <tr>\n",
       "      <th>439947</th>\n",
       "      <td>-0.468302</td>\n",
       "      <td>0.798643</td>\n",
       "      <td>-0.405160</td>\n",
       "      <td>0.343124</td>\n",
       "      <td>1.674327</td>\n",
       "      <td>-0.904450</td>\n",
       "      <td>-0.687687</td>\n",
       "      <td>-0.856518</td>\n",
       "      <td>NJ</td>\n",
       "      <td>DE</td>\n",
       "      <td>1</td>\n",
       "      <td>0.0</td>\n",
       "      <td>0.0</td>\n",
       "      <td>1</td>\n",
       "      <td>72</td>\n",
       "      <td>0.0</td>\n",
       "      <td>0</td>\n",
       "      <td>0.0</td>\n",
       "      <td>1.0</td>\n",
       "    </tr>\n",
       "  </tbody>\n",
       "</table>\n",
       "<p>1000 rows × 19 columns</p>\n",
       "</div>"
      ],
      "text/plain": [
       "           NoEmp  CreateJob  RetainedJob  DisbursementGross  Term_years  \\\n",
       "188994 -0.360224  -0.076902    -0.299512          -0.058100    0.126527   \n",
       "345488  0.396322  -0.125543    -0.510808           0.583215    1.084689   \n",
       "352821 -0.468302  -0.125543    -0.510808           0.943352   -0.389407   \n",
       "129596 -0.468302  -0.076902    -0.299512           0.156917   -0.266566   \n",
       "101593 -0.360224  -0.125543    -0.299512          -0.491977   -0.045451   \n",
       "...          ...        ...          ...                ...         ...   \n",
       "386221  0.504400  -0.028261     0.545672          -0.335395   -0.389407   \n",
       "290201 -0.468302  -0.125543    -0.405160          -0.349488   -0.561385   \n",
       "56305   0.072088  -0.125543     0.123080           2.514384    5.113884   \n",
       "463609 -0.468302  -0.076902    -0.299512          -0.465880   -0.733363   \n",
       "439947 -0.468302   0.798643    -0.405160           0.343124    1.674327   \n",
       "\n",
       "        Disbr_year  percent_SBA  bank_size State BankState  NewExist  \\\n",
       "188994    1.132599    -0.687687   0.552279    NY        IL         0   \n",
       "345488   -1.413712     0.941189  -0.923413    AZ        TX         0   \n",
       "352821   -1.413712     0.941189  -0.856518    SC        NC         0   \n",
       "129596    0.114075    -0.687687   0.076096    MN        SD         0   \n",
       "101593    0.114075    -0.687687  -0.824561    TX        NY         0   \n",
       "...            ...          ...        ...   ...       ...       ...   \n",
       "386221   -1.413712    -0.687687  -0.082663    IL        VA         0   \n",
       "290201   -1.922974    -0.687687   1.904802    RI        RI         0   \n",
       "56305     0.114075     0.941189  -0.923413    MI        TX         1   \n",
       "463609   -0.904450    -0.687687   0.076096    AZ        SD         0   \n",
       "439947   -0.904450    -0.687687  -0.856518    NJ        DE         1   \n",
       "\n",
       "        RevLineCr  LowDoc  MIS_Status  twoDigNAICS  is_franchise  \\\n",
       "188994        1.0     0.0           1           44           0.0   \n",
       "345488        0.0     0.0           1           45           0.0   \n",
       "352821        0.0     0.0           1           44           0.0   \n",
       "129596        1.0     0.0           1           54           0.0   \n",
       "101593        1.0     0.0           1           71           0.0   \n",
       "...           ...     ...         ...          ...           ...   \n",
       "386221        0.0     0.0           1           42           0.0   \n",
       "290201        0.0     0.0           1           44           0.0   \n",
       "56305         0.0     0.0           1           45           0.0   \n",
       "463609        1.0     0.0           1           45           0.0   \n",
       "439947        0.0     0.0           1           72           0.0   \n",
       "\n",
       "        bank_out_of_state  UrbanRural_cleaned  sba_pre_approv  \n",
       "188994                  0                 0.0             1.0  \n",
       "345488                  0                 0.0             1.0  \n",
       "352821                  0                 0.0             1.0  \n",
       "129596                  0                 0.0             1.0  \n",
       "101593                  0                 0.0             1.0  \n",
       "...                   ...                 ...             ...  \n",
       "386221                  0                 0.0             1.0  \n",
       "290201                  1                 0.0             1.0  \n",
       "56305                   0                 0.0             1.0  \n",
       "463609                  0                 0.0             1.0  \n",
       "439947                  0                 0.0             1.0  \n",
       "\n",
       "[1000 rows x 19 columns]"
      ]
     },
     "execution_count": 9,
     "metadata": {},
     "output_type": "execute_result"
    },
    {
     "data": {
      "application/javascript": [
       "\n",
       "            setTimeout(function() {\n",
       "                var nbb_cell_id = 9;\n",
       "                var nbb_unformatted_code = \"scaler = StandardScaler()\\nX_std = scaler.fit_transform(sample[num_cols])\\nX_std = pd.DataFrame(X_std, columns=num_cols, index=sample[num_cols].index)\\n# pd.DataFrame(scaler.fit_transform(X[num_cols]), columns=num_cols)\\n\\nscaled_X = pd.concat((X_std, sample[cat_cols]), axis=1)\\n\\n# for after cluster, doing some preliminary visualization\\n# scaled_X[\\\"label\\\"] = labels\\nscaled_X\";\n",
       "                var nbb_formatted_code = \"scaler = StandardScaler()\\nX_std = scaler.fit_transform(sample[num_cols])\\nX_std = pd.DataFrame(X_std, columns=num_cols, index=sample[num_cols].index)\\n# pd.DataFrame(scaler.fit_transform(X[num_cols]), columns=num_cols)\\n\\nscaled_X = pd.concat((X_std, sample[cat_cols]), axis=1)\\n\\n# for after cluster, doing some preliminary visualization\\n# scaled_X[\\\"label\\\"] = labels\\nscaled_X\";\n",
       "                var nbb_cells = Jupyter.notebook.get_cells();\n",
       "                for (var i = 0; i < nbb_cells.length; ++i) {\n",
       "                    if (nbb_cells[i].input_prompt_number == nbb_cell_id) {\n",
       "                        if (nbb_cells[i].get_text() == nbb_unformatted_code) {\n",
       "                             nbb_cells[i].set_text(nbb_formatted_code);\n",
       "                        }\n",
       "                        break;\n",
       "                    }\n",
       "                }\n",
       "            }, 500);\n",
       "            "
      ],
      "text/plain": [
       "<IPython.core.display.Javascript object>"
      ]
     },
     "metadata": {},
     "output_type": "display_data"
    }
   ],
   "source": [
    "scaler = StandardScaler()\n",
    "X_std = scaler.fit_transform(sample[num_cols])\n",
    "X_std = pd.DataFrame(X_std, columns=num_cols, index=sample[num_cols].index)\n",
    "# pd.DataFrame(scaler.fit_transform(X[num_cols]), columns=num_cols)\n",
    "\n",
    "scaled_X = pd.concat((X_std, sample[cat_cols]), axis=1)\n",
    "\n",
    "# for after cluster, doing some preliminary visualization\n",
    "# scaled_X[\"label\"] = labels\n",
    "scaled_X"
   ]
  },
  {
   "cell_type": "code",
   "execution_count": 10,
   "metadata": {},
   "outputs": [
    {
     "data": {
      "text/plain": [
       "FAMD(check_input=True, copy=True, engine='auto', n_components=2, n_iter=3,\n",
       "     random_state=None)"
      ]
     },
     "execution_count": 10,
     "metadata": {},
     "output_type": "execute_result"
    },
    {
     "data": {
      "application/javascript": [
       "\n",
       "            setTimeout(function() {\n",
       "                var nbb_cell_id = 10;\n",
       "                var nbb_unformatted_code = \"famd = prince.FAMD(n_components=2)\\nfamd.fit(scaled_X)\";\n",
       "                var nbb_formatted_code = \"famd = prince.FAMD(n_components=2)\\nfamd.fit(scaled_X)\";\n",
       "                var nbb_cells = Jupyter.notebook.get_cells();\n",
       "                for (var i = 0; i < nbb_cells.length; ++i) {\n",
       "                    if (nbb_cells[i].input_prompt_number == nbb_cell_id) {\n",
       "                        if (nbb_cells[i].get_text() == nbb_unformatted_code) {\n",
       "                             nbb_cells[i].set_text(nbb_formatted_code);\n",
       "                        }\n",
       "                        break;\n",
       "                    }\n",
       "                }\n",
       "            }, 500);\n",
       "            "
      ],
      "text/plain": [
       "<IPython.core.display.Javascript object>"
      ]
     },
     "metadata": {},
     "output_type": "display_data"
    }
   ],
   "source": [
    "famd = prince.FAMD(n_components=2)\n",
    "famd.fit(scaled_X)"
   ]
  },
  {
   "cell_type": "code",
   "execution_count": 11,
   "metadata": {},
   "outputs": [
    {
     "name": "stderr",
     "output_type": "stream",
     "text": [
      "No handles with labels found to put in legend.\n"
     ]
    },
    {
     "data": {
      "image/png": "[encoded data removed]",
      "text/plain": [
       "<Figure size 432x432 with 1 Axes>"
      ]
     },
     "metadata": {
      "needs_background": "light"
     },
     "output_type": "display_data"
    },
    {
     "data": {
      "application/javascript": [
       "\n",
       "            setTimeout(function() {\n",
       "                var nbb_cell_id = 11;\n",
       "                var nbb_unformatted_code = \"famd.plot_row_coordinates(\\n    scaled_X, alpha=0.5, ellipse_fill=False,\\n)\\nplt.show()\";\n",
       "                var nbb_formatted_code = \"famd.plot_row_coordinates(\\n    scaled_X, alpha=0.5, ellipse_fill=False,\\n)\\nplt.show()\";\n",
       "                var nbb_cells = Jupyter.notebook.get_cells();\n",
       "                for (var i = 0; i < nbb_cells.length; ++i) {\n",
       "                    if (nbb_cells[i].input_prompt_number == nbb_cell_id) {\n",
       "                        if (nbb_cells[i].get_text() == nbb_unformatted_code) {\n",
       "                             nbb_cells[i].set_text(nbb_formatted_code);\n",
       "                        }\n",
       "                        break;\n",
       "                    }\n",
       "                }\n",
       "            }, 500);\n",
       "            "
      ],
      "text/plain": [
       "<IPython.core.display.Javascript object>"
      ]
     },
     "metadata": {},
     "output_type": "display_data"
    }
   ],
   "source": [
    "famd.plot_row_coordinates(\n",
    "    scaled_X, alpha=0.5, ellipse_fill=False,\n",
    ")\n",
    "plt.show()"
   ]
  },
  {
   "cell_type": "code",
   "execution_count": 12,
   "metadata": {},
   "outputs": [
    {
     "data": {
      "application/javascript": [
       "\n",
       "            setTimeout(function() {\n",
       "                var nbb_cell_id = 12;\n",
       "                var nbb_unformatted_code = \"famd_coords = famd.row_coordinates(scaled_X)\";\n",
       "                var nbb_formatted_code = \"famd_coords = famd.row_coordinates(scaled_X)\";\n",
       "                var nbb_cells = Jupyter.notebook.get_cells();\n",
       "                for (var i = 0; i < nbb_cells.length; ++i) {\n",
       "                    if (nbb_cells[i].input_prompt_number == nbb_cell_id) {\n",
       "                        if (nbb_cells[i].get_text() == nbb_unformatted_code) {\n",
       "                             nbb_cells[i].set_text(nbb_formatted_code);\n",
       "                        }\n",
       "                        break;\n",
       "                    }\n",
       "                }\n",
       "            }, 500);\n",
       "            "
      ],
      "text/plain": [
       "<IPython.core.display.Javascript object>"
      ]
     },
     "metadata": {},
     "output_type": "display_data"
    }
   ],
   "source": [
    "famd_coords = famd.row_coordinates(scaled_X)"
   ]
  },
  {
   "cell_type": "markdown",
   "metadata": {},
   "source": [
    "Just from the Factor Analysis, it appears there are at least two dense clusters, with some outliers. DBSCAN should perform excellentlly here."
   ]
  },
  {
   "cell_type": "markdown",
   "metadata": {},
   "source": [
    "### Calculate Gower Distance Matrix for Mixed Data"
   ]
  },
  {
   "cell_type": "code",
   "execution_count": 13,
   "metadata": {},
   "outputs": [
    {
     "data": {
      "application/javascript": [
       "\n",
       "            setTimeout(function() {\n",
       "                var nbb_cell_id = 13;\n",
       "                var nbb_unformatted_code = \"# gower_dist = gower.gower_matrix(sample, cat_features=is_cat)\\n# gower_df = pd.DataFrame(gower_dist, columns=sample.index, index=sample.index)\\n# gower_df.head()\";\n",
       "                var nbb_formatted_code = \"# gower_dist = gower.gower_matrix(sample, cat_features=is_cat)\\n# gower_df = pd.DataFrame(gower_dist, columns=sample.index, index=sample.index)\\n# gower_df.head()\";\n",
       "                var nbb_cells = Jupyter.notebook.get_cells();\n",
       "                for (var i = 0; i < nbb_cells.length; ++i) {\n",
       "                    if (nbb_cells[i].input_prompt_number == nbb_cell_id) {\n",
       "                        if (nbb_cells[i].get_text() == nbb_unformatted_code) {\n",
       "                             nbb_cells[i].set_text(nbb_formatted_code);\n",
       "                        }\n",
       "                        break;\n",
       "                    }\n",
       "                }\n",
       "            }, 500);\n",
       "            "
      ],
      "text/plain": [
       "<IPython.core.display.Javascript object>"
      ]
     },
     "metadata": {},
     "output_type": "display_data"
    }
   ],
   "source": [
    "# gower_dist = gower.gower_matrix(sample, cat_features=is_cat)\n",
    "# gower_df = pd.DataFrame(gower_dist, columns=sample.index, index=sample.index)\n",
    "# gower_df.head()"
   ]
  },
  {
   "cell_type": "markdown",
   "metadata": {},
   "source": [
    "### K-Medoids"
   ]
  },
  {
   "cell_type": "code",
   "execution_count": 14,
   "metadata": {},
   "outputs": [
    {
     "data": {
      "text/plain": [
       "array([529, 291])"
      ]
     },
     "execution_count": 14,
     "metadata": {},
     "output_type": "execute_result"
    },
    {
     "data": {
      "application/javascript": [
       "\n",
       "            setTimeout(function() {\n",
       "                var nbb_cell_id = 14;\n",
       "                var nbb_unformatted_code = \"k = 2\\nnrows = gower_df.shape[0]\\ninit_medoids = np.random.randint(0, nrows, k)\\ninit_medoids\";\n",
       "                var nbb_formatted_code = \"k = 2\\nnrows = gower_df.shape[0]\\ninit_medoids = np.random.randint(0, nrows, k)\\ninit_medoids\";\n",
       "                var nbb_cells = Jupyter.notebook.get_cells();\n",
       "                for (var i = 0; i < nbb_cells.length; ++i) {\n",
       "                    if (nbb_cells[i].input_prompt_number == nbb_cell_id) {\n",
       "                        if (nbb_cells[i].get_text() == nbb_unformatted_code) {\n",
       "                             nbb_cells[i].set_text(nbb_formatted_code);\n",
       "                        }\n",
       "                        break;\n",
       "                    }\n",
       "                }\n",
       "            }, 500);\n",
       "            "
      ],
      "text/plain": [
       "<IPython.core.display.Javascript object>"
      ]
     },
     "metadata": {},
     "output_type": "display_data"
    }
   ],
   "source": [
    "k = 2\n",
    "nrows = gower_df.shape[0]\n",
    "init_medoids = np.random.randint(0, nrows, k)\n",
    "init_medoids"
   ]
  },
  {
   "cell_type": "code",
   "execution_count": 15,
   "metadata": {},
   "outputs": [
    {
     "data": {
      "text/plain": [
       "<pyclustering.cluster.kmedoids.kmedoids at 0x24bdaf66d08>"
      ]
     },
     "execution_count": 15,
     "metadata": {},
     "output_type": "execute_result"
    },
    {
     "data": {
      "application/javascript": [
       "\n",
       "            setTimeout(function() {\n",
       "                var nbb_cell_id = 15;\n",
       "                var nbb_unformatted_code = \"kmed = kmedoids(\\n    gower_dist, initial_index_medoids=init_medoids, data_type=\\\"distance_matrix\\\"\\n)\\n\\nkmed.process()\";\n",
       "                var nbb_formatted_code = \"kmed = kmedoids(\\n    gower_dist, initial_index_medoids=init_medoids, data_type=\\\"distance_matrix\\\"\\n)\\n\\nkmed.process()\";\n",
       "                var nbb_cells = Jupyter.notebook.get_cells();\n",
       "                for (var i = 0; i < nbb_cells.length; ++i) {\n",
       "                    if (nbb_cells[i].input_prompt_number == nbb_cell_id) {\n",
       "                        if (nbb_cells[i].get_text() == nbb_unformatted_code) {\n",
       "                             nbb_cells[i].set_text(nbb_formatted_code);\n",
       "                        }\n",
       "                        break;\n",
       "                    }\n",
       "                }\n",
       "            }, 500);\n",
       "            "
      ],
      "text/plain": [
       "<IPython.core.display.Javascript object>"
      ]
     },
     "metadata": {},
     "output_type": "display_data"
    }
   ],
   "source": [
    "kmed = kmedoids(\n",
    "    gower_dist, initial_index_medoids=init_medoids, data_type=\"distance_matrix\"\n",
    ")\n",
    "\n",
    "kmed.process()"
   ]
  },
  {
   "cell_type": "code",
   "execution_count": 16,
   "metadata": {},
   "outputs": [
    {
     "data": {
      "text/plain": [
       "0    0.559\n",
       "1    0.441\n",
       "Name: label, dtype: float64"
      ]
     },
     "execution_count": 16,
     "metadata": {},
     "output_type": "execute_result"
    },
    {
     "data": {
      "application/javascript": [
       "\n",
       "            setTimeout(function() {\n",
       "                var nbb_cell_id = 16;\n",
       "                var nbb_unformatted_code = \"labels = kmed.predict(gower_dist)\\nsample[\\\"label\\\"] = labels\\nsample[\\\"label\\\"].value_counts(normalize=True)\";\n",
       "                var nbb_formatted_code = \"labels = kmed.predict(gower_dist)\\nsample[\\\"label\\\"] = labels\\nsample[\\\"label\\\"].value_counts(normalize=True)\";\n",
       "                var nbb_cells = Jupyter.notebook.get_cells();\n",
       "                for (var i = 0; i < nbb_cells.length; ++i) {\n",
       "                    if (nbb_cells[i].input_prompt_number == nbb_cell_id) {\n",
       "                        if (nbb_cells[i].get_text() == nbb_unformatted_code) {\n",
       "                             nbb_cells[i].set_text(nbb_formatted_code);\n",
       "                        }\n",
       "                        break;\n",
       "                    }\n",
       "                }\n",
       "            }, 500);\n",
       "            "
      ],
      "text/plain": [
       "<IPython.core.display.Javascript object>"
      ]
     },
     "metadata": {},
     "output_type": "display_data"
    }
   ],
   "source": [
    "labels = kmed.predict(gower_dist)\n",
    "sample[\"label\"] = labels\n",
    "sample[\"label\"].value_counts(normalize=True)"
   ]
  },
  {
   "cell_type": "code",
   "execution_count": 17,
   "metadata": {},
   "outputs": [
    {
     "data": {
      "text/html": [
       "<style  type=\"text/css\" >\n",
       "    #T_c1e2d2d0_0c31_11eb_bf24_7085c233535crow0_col0 {\n",
       "            background-color:  #023858;\n",
       "            color:  #f1f1f1;\n",
       "        }    #T_c1e2d2d0_0c31_11eb_bf24_7085c233535crow0_col1 {\n",
       "            background-color:  #fff7fb;\n",
       "            color:  #000000;\n",
       "        }    #T_c1e2d2d0_0c31_11eb_bf24_7085c233535crow1_col0 {\n",
       "            background-color:  #fff7fb;\n",
       "            color:  #000000;\n",
       "        }    #T_c1e2d2d0_0c31_11eb_bf24_7085c233535crow1_col1 {\n",
       "            background-color:  #023858;\n",
       "            color:  #f1f1f1;\n",
       "        }    #T_c1e2d2d0_0c31_11eb_bf24_7085c233535crow2_col0 {\n",
       "            background-color:  #023858;\n",
       "            color:  #f1f1f1;\n",
       "        }    #T_c1e2d2d0_0c31_11eb_bf24_7085c233535crow2_col1 {\n",
       "            background-color:  #fff7fb;\n",
       "            color:  #000000;\n",
       "        }    #T_c1e2d2d0_0c31_11eb_bf24_7085c233535crow3_col0 {\n",
       "            background-color:  #fff7fb;\n",
       "            color:  #000000;\n",
       "        }    #T_c1e2d2d0_0c31_11eb_bf24_7085c233535crow3_col1 {\n",
       "            background-color:  #023858;\n",
       "            color:  #f1f1f1;\n",
       "        }    #T_c1e2d2d0_0c31_11eb_bf24_7085c233535crow4_col0 {\n",
       "            background-color:  #fff7fb;\n",
       "            color:  #000000;\n",
       "        }    #T_c1e2d2d0_0c31_11eb_bf24_7085c233535crow4_col1 {\n",
       "            background-color:  #023858;\n",
       "            color:  #f1f1f1;\n",
       "        }    #T_c1e2d2d0_0c31_11eb_bf24_7085c233535crow5_col0 {\n",
       "            background-color:  #023858;\n",
       "            color:  #f1f1f1;\n",
       "        }    #T_c1e2d2d0_0c31_11eb_bf24_7085c233535crow5_col1 {\n",
       "            background-color:  #fff7fb;\n",
       "            color:  #000000;\n",
       "        }    #T_c1e2d2d0_0c31_11eb_bf24_7085c233535crow6_col0 {\n",
       "            background-color:  #fff7fb;\n",
       "            color:  #000000;\n",
       "        }    #T_c1e2d2d0_0c31_11eb_bf24_7085c233535crow6_col1 {\n",
       "            background-color:  #023858;\n",
       "            color:  #f1f1f1;\n",
       "        }    #T_c1e2d2d0_0c31_11eb_bf24_7085c233535crow7_col0 {\n",
       "            background-color:  #023858;\n",
       "            color:  #f1f1f1;\n",
       "        }    #T_c1e2d2d0_0c31_11eb_bf24_7085c233535crow7_col1 {\n",
       "            background-color:  #fff7fb;\n",
       "            color:  #000000;\n",
       "        }</style><table id=\"T_c1e2d2d0_0c31_11eb_bf24_7085c233535c\" ><thead>    <tr>        <th class=\"index_name level0\" >label</th>        <th class=\"col_heading level0 col0\" >0</th>        <th class=\"col_heading level0 col1\" >1</th>    </tr></thead><tbody>\n",
       "                <tr>\n",
       "                        <th id=\"T_c1e2d2d0_0c31_11eb_bf24_7085c233535clevel0_row0\" class=\"row_heading level0 row0\" >NoEmp</th>\n",
       "                        <td id=\"T_c1e2d2d0_0c31_11eb_bf24_7085c233535crow0_col0\" class=\"data row0 col0\" >5.415027</td>\n",
       "                        <td id=\"T_c1e2d2d0_0c31_11eb_bf24_7085c233535crow0_col1\" class=\"data row0 col1\" >5.229025</td>\n",
       "            </tr>\n",
       "            <tr>\n",
       "                        <th id=\"T_c1e2d2d0_0c31_11eb_bf24_7085c233535clevel0_row1\" class=\"row_heading level0 row1\" >CreateJob</th>\n",
       "                        <td id=\"T_c1e2d2d0_0c31_11eb_bf24_7085c233535crow1_col0\" class=\"data row1 col0\" >1.336315</td>\n",
       "                        <td id=\"T_c1e2d2d0_0c31_11eb_bf24_7085c233535crow1_col1\" class=\"data row1 col1\" >4.158730</td>\n",
       "            </tr>\n",
       "            <tr>\n",
       "                        <th id=\"T_c1e2d2d0_0c31_11eb_bf24_7085c233535clevel0_row2\" class=\"row_heading level0 row2\" >RetainedJob</th>\n",
       "                        <td id=\"T_c1e2d2d0_0c31_11eb_bf24_7085c233535crow2_col0\" class=\"data row2 col0\" >5.686941</td>\n",
       "                        <td id=\"T_c1e2d2d0_0c31_11eb_bf24_7085c233535crow2_col1\" class=\"data row2 col1\" >3.755102</td>\n",
       "            </tr>\n",
       "            <tr>\n",
       "                        <th id=\"T_c1e2d2d0_0c31_11eb_bf24_7085c233535clevel0_row3\" class=\"row_heading level0 row3\" >DisbursementGross</th>\n",
       "                        <td id=\"T_c1e2d2d0_0c31_11eb_bf24_7085c233535crow3_col0\" class=\"data row3 col0\" >75167.656530</td>\n",
       "                        <td id=\"T_c1e2d2d0_0c31_11eb_bf24_7085c233535crow3_col1\" class=\"data row3 col1\" >163811.639456</td>\n",
       "            </tr>\n",
       "            <tr>\n",
       "                        <th id=\"T_c1e2d2d0_0c31_11eb_bf24_7085c233535clevel0_row4\" class=\"row_heading level0 row4\" >Term_years</th>\n",
       "                        <td id=\"T_c1e2d2d0_0c31_11eb_bf24_7085c233535crow4_col0\" class=\"data row4 col0\" >3.260883</td>\n",
       "                        <td id=\"T_c1e2d2d0_0c31_11eb_bf24_7085c233535crow4_col1\" class=\"data row4 col1\" >5.664399</td>\n",
       "            </tr>\n",
       "            <tr>\n",
       "                        <th id=\"T_c1e2d2d0_0c31_11eb_bf24_7085c233535clevel0_row5\" class=\"row_heading level0 row5\" >Disbr_year</th>\n",
       "                        <td id=\"T_c1e2d2d0_0c31_11eb_bf24_7085c233535crow5_col0\" class=\"data row5 col0\" >2005.881932</td>\n",
       "                        <td id=\"T_c1e2d2d0_0c31_11eb_bf24_7085c233535crow5_col1\" class=\"data row5 col1\" >2005.641723</td>\n",
       "            </tr>\n",
       "            <tr>\n",
       "                        <th id=\"T_c1e2d2d0_0c31_11eb_bf24_7085c233535clevel0_row6\" class=\"row_heading level0 row6\" >percent_SBA</th>\n",
       "                        <td id=\"T_c1e2d2d0_0c31_11eb_bf24_7085c233535crow6_col0\" class=\"data row6 col0\" >0.500000</td>\n",
       "                        <td id=\"T_c1e2d2d0_0c31_11eb_bf24_7085c233535crow6_col1\" class=\"data row6 col1\" >0.739334</td>\n",
       "            </tr>\n",
       "            <tr>\n",
       "                        <th id=\"T_c1e2d2d0_0c31_11eb_bf24_7085c233535clevel0_row7\" class=\"row_heading level0 row7\" >bank_size</th>\n",
       "                        <td id=\"T_c1e2d2d0_0c31_11eb_bf24_7085c233535crow7_col0\" class=\"data row7 col0\" >32951.366726</td>\n",
       "                        <td id=\"T_c1e2d2d0_0c31_11eb_bf24_7085c233535crow7_col1\" class=\"data row7 col1\" >10654.585034</td>\n",
       "            </tr>\n",
       "    </tbody></table>"
      ],
      "text/plain": [
       "<pandas.io.formats.style.Styler at 0x24bd8186e48>"
      ]
     },
     "execution_count": 17,
     "metadata": {},
     "output_type": "execute_result"
    },
    {
     "data": {
      "application/javascript": [
       "\n",
       "            setTimeout(function() {\n",
       "                var nbb_cell_id = 17;\n",
       "                var nbb_unformatted_code = \"num_cols_labels = num_cols.copy()\\nnum_cols_labels.append(\\\"label\\\")\\nclst_avg = sample[num_cols_labels].groupby(\\\"label\\\").mean().T\\nclst_avg.style.background_gradient(axis=1)\";\n",
       "                var nbb_formatted_code = \"num_cols_labels = num_cols.copy()\\nnum_cols_labels.append(\\\"label\\\")\\nclst_avg = sample[num_cols_labels].groupby(\\\"label\\\").mean().T\\nclst_avg.style.background_gradient(axis=1)\";\n",
       "                var nbb_cells = Jupyter.notebook.get_cells();\n",
       "                for (var i = 0; i < nbb_cells.length; ++i) {\n",
       "                    if (nbb_cells[i].input_prompt_number == nbb_cell_id) {\n",
       "                        if (nbb_cells[i].get_text() == nbb_unformatted_code) {\n",
       "                             nbb_cells[i].set_text(nbb_formatted_code);\n",
       "                        }\n",
       "                        break;\n",
       "                    }\n",
       "                }\n",
       "            }, 500);\n",
       "            "
      ],
      "text/plain": [
       "<IPython.core.display.Javascript object>"
      ]
     },
     "metadata": {},
     "output_type": "display_data"
    }
   ],
   "source": [
    "num_cols_labels = num_cols.copy()\n",
    "num_cols_labels.append(\"label\")\n",
    "clst_avg = sample[num_cols_labels].groupby(\"label\").mean().T\n",
    "clst_avg.style.background_gradient(axis=1)"
   ]
  },
  {
   "cell_type": "code",
   "execution_count": 18,
   "metadata": {},
   "outputs": [
    {
     "data": {
      "text/html": [
       "<style  type=\"text/css\" >\n",
       "</style><table id=\"T_c1f4ba08_0c31_11eb_8ff1_7085c233535c\" ><thead>    <tr>        <th class=\"index_name level0\" >label</th>        <th class=\"col_heading level0 col0\" >0</th>        <th class=\"col_heading level0 col1\" >1</th>    </tr></thead><tbody>\n",
       "                <tr>\n",
       "                        <th id=\"T_c1f4ba08_0c31_11eb_8ff1_7085c233535clevel0_row0\" class=\"row_heading level0 row0\" >State</th>\n",
       "                        <td id=\"T_c1f4ba08_0c31_11eb_8ff1_7085c233535crow0_col0\" class=\"data row0 col0\" >CA</td>\n",
       "                        <td id=\"T_c1f4ba08_0c31_11eb_8ff1_7085c233535crow0_col1\" class=\"data row0 col1\" >CA</td>\n",
       "            </tr>\n",
       "            <tr>\n",
       "                        <th id=\"T_c1f4ba08_0c31_11eb_8ff1_7085c233535clevel0_row1\" class=\"row_heading level0 row1\" >BankState</th>\n",
       "                        <td id=\"T_c1f4ba08_0c31_11eb_8ff1_7085c233535crow1_col0\" class=\"data row1 col0\" >NC</td>\n",
       "                        <td id=\"T_c1f4ba08_0c31_11eb_8ff1_7085c233535crow1_col1\" class=\"data row1 col1\" >CA</td>\n",
       "            </tr>\n",
       "            <tr>\n",
       "                        <th id=\"T_c1f4ba08_0c31_11eb_8ff1_7085c233535clevel0_row2\" class=\"row_heading level0 row2\" >NewExist</th>\n",
       "                        <td id=\"T_c1f4ba08_0c31_11eb_8ff1_7085c233535crow2_col0\" class=\"data row2 col0\" >0</td>\n",
       "                        <td id=\"T_c1f4ba08_0c31_11eb_8ff1_7085c233535crow2_col1\" class=\"data row2 col1\" >1</td>\n",
       "            </tr>\n",
       "            <tr>\n",
       "                        <th id=\"T_c1f4ba08_0c31_11eb_8ff1_7085c233535clevel0_row3\" class=\"row_heading level0 row3\" >RevLineCr</th>\n",
       "                        <td id=\"T_c1f4ba08_0c31_11eb_8ff1_7085c233535crow3_col0\" class=\"data row3 col0\" >1.000000</td>\n",
       "                        <td id=\"T_c1f4ba08_0c31_11eb_8ff1_7085c233535crow3_col1\" class=\"data row3 col1\" >0.000000</td>\n",
       "            </tr>\n",
       "            <tr>\n",
       "                        <th id=\"T_c1f4ba08_0c31_11eb_8ff1_7085c233535clevel0_row4\" class=\"row_heading level0 row4\" >LowDoc</th>\n",
       "                        <td id=\"T_c1f4ba08_0c31_11eb_8ff1_7085c233535crow4_col0\" class=\"data row4 col0\" >0.000000</td>\n",
       "                        <td id=\"T_c1f4ba08_0c31_11eb_8ff1_7085c233535crow4_col1\" class=\"data row4 col1\" >0.000000</td>\n",
       "            </tr>\n",
       "            <tr>\n",
       "                        <th id=\"T_c1f4ba08_0c31_11eb_8ff1_7085c233535clevel0_row5\" class=\"row_heading level0 row5\" >MIS_Status</th>\n",
       "                        <td id=\"T_c1f4ba08_0c31_11eb_8ff1_7085c233535crow5_col0\" class=\"data row5 col0\" >1</td>\n",
       "                        <td id=\"T_c1f4ba08_0c31_11eb_8ff1_7085c233535crow5_col1\" class=\"data row5 col1\" >1</td>\n",
       "            </tr>\n",
       "            <tr>\n",
       "                        <th id=\"T_c1f4ba08_0c31_11eb_8ff1_7085c233535clevel0_row6\" class=\"row_heading level0 row6\" >twoDigNAICS</th>\n",
       "                        <td id=\"T_c1f4ba08_0c31_11eb_8ff1_7085c233535crow6_col0\" class=\"data row6 col0\" >23</td>\n",
       "                        <td id=\"T_c1f4ba08_0c31_11eb_8ff1_7085c233535crow6_col1\" class=\"data row6 col1\" >72</td>\n",
       "            </tr>\n",
       "            <tr>\n",
       "                        <th id=\"T_c1f4ba08_0c31_11eb_8ff1_7085c233535clevel0_row7\" class=\"row_heading level0 row7\" >is_franchise</th>\n",
       "                        <td id=\"T_c1f4ba08_0c31_11eb_8ff1_7085c233535crow7_col0\" class=\"data row7 col0\" >0.000000</td>\n",
       "                        <td id=\"T_c1f4ba08_0c31_11eb_8ff1_7085c233535crow7_col1\" class=\"data row7 col1\" >0.000000</td>\n",
       "            </tr>\n",
       "            <tr>\n",
       "                        <th id=\"T_c1f4ba08_0c31_11eb_8ff1_7085c233535clevel0_row8\" class=\"row_heading level0 row8\" >bank_out_of_state</th>\n",
       "                        <td id=\"T_c1f4ba08_0c31_11eb_8ff1_7085c233535crow8_col0\" class=\"data row8 col0\" >0</td>\n",
       "                        <td id=\"T_c1f4ba08_0c31_11eb_8ff1_7085c233535crow8_col1\" class=\"data row8 col1\" >0</td>\n",
       "            </tr>\n",
       "            <tr>\n",
       "                        <th id=\"T_c1f4ba08_0c31_11eb_8ff1_7085c233535clevel0_row9\" class=\"row_heading level0 row9\" >UrbanRural_cleaned</th>\n",
       "                        <td id=\"T_c1f4ba08_0c31_11eb_8ff1_7085c233535crow9_col0\" class=\"data row9 col0\" >0.000000</td>\n",
       "                        <td id=\"T_c1f4ba08_0c31_11eb_8ff1_7085c233535crow9_col1\" class=\"data row9 col1\" >0.000000</td>\n",
       "            </tr>\n",
       "            <tr>\n",
       "                        <th id=\"T_c1f4ba08_0c31_11eb_8ff1_7085c233535clevel0_row10\" class=\"row_heading level0 row10\" >sba_pre_approv</th>\n",
       "                        <td id=\"T_c1f4ba08_0c31_11eb_8ff1_7085c233535crow10_col0\" class=\"data row10 col0\" >1.000000</td>\n",
       "                        <td id=\"T_c1f4ba08_0c31_11eb_8ff1_7085c233535crow10_col1\" class=\"data row10 col1\" >1.000000</td>\n",
       "            </tr>\n",
       "    </tbody></table>"
      ],
      "text/plain": [
       "<pandas.io.formats.style.Styler at 0x24bdb5750c8>"
      ]
     },
     "execution_count": 18,
     "metadata": {},
     "output_type": "execute_result"
    },
    {
     "data": {
      "application/javascript": [
       "\n",
       "            setTimeout(function() {\n",
       "                var nbb_cell_id = 18;\n",
       "                var nbb_unformatted_code = \"cat_cols_labels = cat_cols.copy()\\ncat_cols_labels.append(\\\"label\\\")\\nclst_avg = sample[cat_cols_labels].groupby(\\\"label\\\").agg(pd.Series.mode).T\\nclst_avg.style.background_gradient(axis=1)\";\n",
       "                var nbb_formatted_code = \"cat_cols_labels = cat_cols.copy()\\ncat_cols_labels.append(\\\"label\\\")\\nclst_avg = sample[cat_cols_labels].groupby(\\\"label\\\").agg(pd.Series.mode).T\\nclst_avg.style.background_gradient(axis=1)\";\n",
       "                var nbb_cells = Jupyter.notebook.get_cells();\n",
       "                for (var i = 0; i < nbb_cells.length; ++i) {\n",
       "                    if (nbb_cells[i].input_prompt_number == nbb_cell_id) {\n",
       "                        if (nbb_cells[i].get_text() == nbb_unformatted_code) {\n",
       "                             nbb_cells[i].set_text(nbb_formatted_code);\n",
       "                        }\n",
       "                        break;\n",
       "                    }\n",
       "                }\n",
       "            }, 500);\n",
       "            "
      ],
      "text/plain": [
       "<IPython.core.display.Javascript object>"
      ]
     },
     "metadata": {},
     "output_type": "display_data"
    }
   ],
   "source": [
    "cat_cols_labels = cat_cols.copy()\n",
    "cat_cols_labels.append(\"label\")\n",
    "clst_avg = sample[cat_cols_labels].groupby(\"label\").agg(pd.Series.mode).T\n",
    "clst_avg.style.background_gradient(axis=1)"
   ]
  },
  {
   "cell_type": "code",
   "execution_count": 19,
   "metadata": {},
   "outputs": [
    {
     "data": {
      "image/png": "[encoded data removed]",
      "text/plain": [
       "<Figure size 432x432 with 1 Axes>"
      ]
     },
     "metadata": {
      "needs_background": "light"
     },
     "output_type": "display_data"
    },
    {
     "data": {
      "application/javascript": [
       "\n",
       "            setTimeout(function() {\n",
       "                var nbb_cell_id = 19;\n",
       "                var nbb_unformatted_code = \"famd.plot_row_coordinates(\\n    scaled_X, alpha=0.5, ellipse_fill=False, color_labels=sample[\\\"label\\\"],\\n)\\nplt.show()\";\n",
       "                var nbb_formatted_code = \"famd.plot_row_coordinates(\\n    scaled_X, alpha=0.5, ellipse_fill=False, color_labels=sample[\\\"label\\\"],\\n)\\nplt.show()\";\n",
       "                var nbb_cells = Jupyter.notebook.get_cells();\n",
       "                for (var i = 0; i < nbb_cells.length; ++i) {\n",
       "                    if (nbb_cells[i].input_prompt_number == nbb_cell_id) {\n",
       "                        if (nbb_cells[i].get_text() == nbb_unformatted_code) {\n",
       "                             nbb_cells[i].set_text(nbb_formatted_code);\n",
       "                        }\n",
       "                        break;\n",
       "                    }\n",
       "                }\n",
       "            }, 500);\n",
       "            "
      ],
      "text/plain": [
       "<IPython.core.display.Javascript object>"
      ]
     },
     "metadata": {},
     "output_type": "display_data"
    }
   ],
   "source": [
    "famd.plot_row_coordinates(\n",
    "    scaled_X, alpha=0.5, ellipse_fill=False, color_labels=sample[\"label\"],\n",
    ")\n",
    "plt.show()"
   ]
  },
  {
   "cell_type": "markdown",
   "metadata": {},
   "source": [
    "### DBSCAN"
   ]
  },
  {
   "cell_type": "code",
   "execution_count": 20,
   "metadata": {},
   "outputs": [
    {
     "data": {
      "text/plain": [
       "DBSCAN(algorithm='auto', eps=0.08, leaf_size=30, metric='precomputed',\n",
       "       metric_params=None, min_samples=20, n_jobs=None, p=None)"
      ]
     },
     "execution_count": 20,
     "metadata": {},
     "output_type": "execute_result"
    },
    {
     "data": {
      "application/javascript": [
       "\n",
       "            setTimeout(function() {\n",
       "                var nbb_cell_id = 20;\n",
       "                var nbb_unformatted_code = \"clst = DBSCAN(eps=0.08, min_samples=20, metric=\\\"precomputed\\\")\\nclst.fit(gower_df)\";\n",
       "                var nbb_formatted_code = \"clst = DBSCAN(eps=0.08, min_samples=20, metric=\\\"precomputed\\\")\\nclst.fit(gower_df)\";\n",
       "                var nbb_cells = Jupyter.notebook.get_cells();\n",
       "                for (var i = 0; i < nbb_cells.length; ++i) {\n",
       "                    if (nbb_cells[i].input_prompt_number == nbb_cell_id) {\n",
       "                        if (nbb_cells[i].get_text() == nbb_unformatted_code) {\n",
       "                             nbb_cells[i].set_text(nbb_formatted_code);\n",
       "                        }\n",
       "                        break;\n",
       "                    }\n",
       "                }\n",
       "            }, 500);\n",
       "            "
      ],
      "text/plain": [
       "<IPython.core.display.Javascript object>"
      ]
     },
     "metadata": {},
     "output_type": "display_data"
    }
   ],
   "source": [
    "clst = DBSCAN(eps=0.08, min_samples=20, metric=\"precomputed\")\n",
    "clst.fit(gower_df)"
   ]
  },
  {
   "cell_type": "code",
   "execution_count": 21,
   "metadata": {},
   "outputs": [
    {
     "data": {
      "text/plain": [
       "-1    906\n",
       " 0     94\n",
       "Name: label, dtype: int64"
      ]
     },
     "execution_count": 21,
     "metadata": {},
     "output_type": "execute_result"
    },
    {
     "data": {
      "application/javascript": [
       "\n",
       "            setTimeout(function() {\n",
       "                var nbb_cell_id = 21;\n",
       "                var nbb_unformatted_code = \"sample[\\\"label\\\"] = clst.labels_\\nsample[\\\"label\\\"].value_counts()\";\n",
       "                var nbb_formatted_code = \"sample[\\\"label\\\"] = clst.labels_\\nsample[\\\"label\\\"].value_counts()\";\n",
       "                var nbb_cells = Jupyter.notebook.get_cells();\n",
       "                for (var i = 0; i < nbb_cells.length; ++i) {\n",
       "                    if (nbb_cells[i].input_prompt_number == nbb_cell_id) {\n",
       "                        if (nbb_cells[i].get_text() == nbb_unformatted_code) {\n",
       "                             nbb_cells[i].set_text(nbb_formatted_code);\n",
       "                        }\n",
       "                        break;\n",
       "                    }\n",
       "                }\n",
       "            }, 500);\n",
       "            "
      ],
      "text/plain": [
       "<IPython.core.display.Javascript object>"
      ]
     },
     "metadata": {},
     "output_type": "display_data"
    }
   ],
   "source": [
    "sample[\"label\"] = clst.labels_\n",
    "sample[\"label\"].value_counts()"
   ]
  },
  {
   "cell_type": "code",
   "execution_count": 22,
   "metadata": {},
   "outputs": [
    {
     "data": {
      "text/html": [
       "<style  type=\"text/css\" >\n",
       "    #T_c2618aae_0c31_11eb_addb_7085c233535crow0_col0 {\n",
       "            background-color:  #023858;\n",
       "            color:  #f1f1f1;\n",
       "        }    #T_c2618aae_0c31_11eb_addb_7085c233535crow0_col1 {\n",
       "            background-color:  #fff7fb;\n",
       "            color:  #000000;\n",
       "        }    #T_c2618aae_0c31_11eb_addb_7085c233535crow1_col0 {\n",
       "            background-color:  #023858;\n",
       "            color:  #f1f1f1;\n",
       "        }    #T_c2618aae_0c31_11eb_addb_7085c233535crow1_col1 {\n",
       "            background-color:  #fff7fb;\n",
       "            color:  #000000;\n",
       "        }    #T_c2618aae_0c31_11eb_addb_7085c233535crow2_col0 {\n",
       "            background-color:  #023858;\n",
       "            color:  #f1f1f1;\n",
       "        }    #T_c2618aae_0c31_11eb_addb_7085c233535crow2_col1 {\n",
       "            background-color:  #fff7fb;\n",
       "            color:  #000000;\n",
       "        }    #T_c2618aae_0c31_11eb_addb_7085c233535crow3_col0 {\n",
       "            background-color:  #023858;\n",
       "            color:  #f1f1f1;\n",
       "        }    #T_c2618aae_0c31_11eb_addb_7085c233535crow3_col1 {\n",
       "            background-color:  #fff7fb;\n",
       "            color:  #000000;\n",
       "        }    #T_c2618aae_0c31_11eb_addb_7085c233535crow4_col0 {\n",
       "            background-color:  #023858;\n",
       "            color:  #f1f1f1;\n",
       "        }    #T_c2618aae_0c31_11eb_addb_7085c233535crow4_col1 {\n",
       "            background-color:  #fff7fb;\n",
       "            color:  #000000;\n",
       "        }    #T_c2618aae_0c31_11eb_addb_7085c233535crow5_col0 {\n",
       "            background-color:  #023858;\n",
       "            color:  #f1f1f1;\n",
       "        }    #T_c2618aae_0c31_11eb_addb_7085c233535crow5_col1 {\n",
       "            background-color:  #fff7fb;\n",
       "            color:  #000000;\n",
       "        }    #T_c2618aae_0c31_11eb_addb_7085c233535crow6_col0 {\n",
       "            background-color:  #023858;\n",
       "            color:  #f1f1f1;\n",
       "        }    #T_c2618aae_0c31_11eb_addb_7085c233535crow6_col1 {\n",
       "            background-color:  #fff7fb;\n",
       "            color:  #000000;\n",
       "        }    #T_c2618aae_0c31_11eb_addb_7085c233535crow7_col0 {\n",
       "            background-color:  #fff7fb;\n",
       "            color:  #000000;\n",
       "        }    #T_c2618aae_0c31_11eb_addb_7085c233535crow7_col1 {\n",
       "            background-color:  #023858;\n",
       "            color:  #f1f1f1;\n",
       "        }</style><table id=\"T_c2618aae_0c31_11eb_addb_7085c233535c\" ><thead>    <tr>        <th class=\"index_name level0\" >label</th>        <th class=\"col_heading level0 col0\" >-1</th>        <th class=\"col_heading level0 col1\" >0</th>    </tr></thead><tbody>\n",
       "                <tr>\n",
       "                        <th id=\"T_c2618aae_0c31_11eb_addb_7085c233535clevel0_row0\" class=\"row_heading level0 row0\" >NoEmp</th>\n",
       "                        <td id=\"T_c2618aae_0c31_11eb_addb_7085c233535crow0_col0\" class=\"data row0 col0\" >5.422737</td>\n",
       "                        <td id=\"T_c2618aae_0c31_11eb_addb_7085c233535crow0_col1\" class=\"data row0 col1\" >4.468085</td>\n",
       "            </tr>\n",
       "            <tr>\n",
       "                        <th id=\"T_c2618aae_0c31_11eb_addb_7085c233535clevel0_row1\" class=\"row_heading level0 row1\" >CreateJob</th>\n",
       "                        <td id=\"T_c2618aae_0c31_11eb_addb_7085c233535crow1_col0\" class=\"data row1 col0\" >2.790287</td>\n",
       "                        <td id=\"T_c2618aae_0c31_11eb_addb_7085c233535crow1_col1\" class=\"data row1 col1\" >0.563830</td>\n",
       "            </tr>\n",
       "            <tr>\n",
       "                        <th id=\"T_c2618aae_0c31_11eb_addb_7085c233535clevel0_row2\" class=\"row_heading level0 row2\" >RetainedJob</th>\n",
       "                        <td id=\"T_c2618aae_0c31_11eb_addb_7085c233535crow2_col0\" class=\"data row2 col0\" >4.897351</td>\n",
       "                        <td id=\"T_c2618aae_0c31_11eb_addb_7085c233535crow2_col1\" class=\"data row2 col1\" >4.234043</td>\n",
       "            </tr>\n",
       "            <tr>\n",
       "                        <th id=\"T_c2618aae_0c31_11eb_addb_7085c233535clevel0_row3\" class=\"row_heading level0 row3\" >DisbursementGross</th>\n",
       "                        <td id=\"T_c2618aae_0c31_11eb_addb_7085c233535crow3_col0\" class=\"data row3 col0\" >119447.635762</td>\n",
       "                        <td id=\"T_c2618aae_0c31_11eb_addb_7085c233535crow3_col1\" class=\"data row3 col1\" >64256.329787</td>\n",
       "            </tr>\n",
       "            <tr>\n",
       "                        <th id=\"T_c2618aae_0c31_11eb_addb_7085c233535clevel0_row4\" class=\"row_heading level0 row4\" >Term_years</th>\n",
       "                        <td id=\"T_c2618aae_0c31_11eb_addb_7085c233535crow4_col0\" class=\"data row4 col0\" >4.403790</td>\n",
       "                        <td id=\"T_c2618aae_0c31_11eb_addb_7085c233535crow4_col1\" class=\"data row4 col1\" >3.521277</td>\n",
       "            </tr>\n",
       "            <tr>\n",
       "                        <th id=\"T_c2618aae_0c31_11eb_addb_7085c233535clevel0_row5\" class=\"row_heading level0 row5\" >Disbr_year</th>\n",
       "                        <td id=\"T_c2618aae_0c31_11eb_addb_7085c233535crow5_col0\" class=\"data row5 col0\" >2005.827815</td>\n",
       "                        <td id=\"T_c2618aae_0c31_11eb_addb_7085c233535crow5_col1\" class=\"data row5 col1\" >2005.276596</td>\n",
       "            </tr>\n",
       "            <tr>\n",
       "                        <th id=\"T_c2618aae_0c31_11eb_addb_7085c233535clevel0_row6\" class=\"row_heading level0 row6\" >percent_SBA</th>\n",
       "                        <td id=\"T_c2618aae_0c31_11eb_addb_7085c233535crow6_col0\" class=\"data row6 col0\" >0.616497</td>\n",
       "                        <td id=\"T_c2618aae_0c31_11eb_addb_7085c233535crow6_col1\" class=\"data row6 col1\" >0.500000</td>\n",
       "            </tr>\n",
       "            <tr>\n",
       "                        <th id=\"T_c2618aae_0c31_11eb_addb_7085c233535clevel0_row7\" class=\"row_heading level0 row7\" >bank_size</th>\n",
       "                        <td id=\"T_c2618aae_0c31_11eb_addb_7085c233535crow7_col0\" class=\"data row7 col0\" >18876.086093</td>\n",
       "                        <td id=\"T_c2618aae_0c31_11eb_addb_7085c233535crow7_col1\" class=\"data row7 col1\" >64008.000000</td>\n",
       "            </tr>\n",
       "    </tbody></table>"
      ],
      "text/plain": [
       "<pandas.io.formats.style.Styler at 0x24be56e7a08>"
      ]
     },
     "execution_count": 22,
     "metadata": {},
     "output_type": "execute_result"
    },
    {
     "data": {
      "application/javascript": [
       "\n",
       "            setTimeout(function() {\n",
       "                var nbb_cell_id = 22;\n",
       "                var nbb_unformatted_code = \"num_cols_labels = num_cols.copy()\\nnum_cols_labels.append(\\\"label\\\")\\nclst_avg = sample[num_cols_labels].groupby(\\\"label\\\").mean().T\\nclst_avg.style.background_gradient(axis=1)\";\n",
       "                var nbb_formatted_code = \"num_cols_labels = num_cols.copy()\\nnum_cols_labels.append(\\\"label\\\")\\nclst_avg = sample[num_cols_labels].groupby(\\\"label\\\").mean().T\\nclst_avg.style.background_gradient(axis=1)\";\n",
       "                var nbb_cells = Jupyter.notebook.get_cells();\n",
       "                for (var i = 0; i < nbb_cells.length; ++i) {\n",
       "                    if (nbb_cells[i].input_prompt_number == nbb_cell_id) {\n",
       "                        if (nbb_cells[i].get_text() == nbb_unformatted_code) {\n",
       "                             nbb_cells[i].set_text(nbb_formatted_code);\n",
       "                        }\n",
       "                        break;\n",
       "                    }\n",
       "                }\n",
       "            }, 500);\n",
       "            "
      ],
      "text/plain": [
       "<IPython.core.display.Javascript object>"
      ]
     },
     "metadata": {},
     "output_type": "display_data"
    }
   ],
   "source": [
    "num_cols_labels = num_cols.copy()\n",
    "num_cols_labels.append(\"label\")\n",
    "clst_avg = sample[num_cols_labels].groupby(\"label\").mean().T\n",
    "clst_avg.style.background_gradient(axis=1)"
   ]
  },
  {
   "cell_type": "code",
   "execution_count": 23,
   "metadata": {},
   "outputs": [
    {
     "data": {
      "text/html": [
       "<style  type=\"text/css\" >\n",
       "</style><table id=\"T_c2782a08_0c31_11eb_896f_7085c233535c\" ><thead>    <tr>        <th class=\"index_name level0\" >label</th>        <th class=\"col_heading level0 col0\" >-1</th>        <th class=\"col_heading level0 col1\" >0</th>    </tr></thead><tbody>\n",
       "                <tr>\n",
       "                        <th id=\"T_c2782a08_0c31_11eb_896f_7085c233535clevel0_row0\" class=\"row_heading level0 row0\" >State</th>\n",
       "                        <td id=\"T_c2782a08_0c31_11eb_896f_7085c233535crow0_col0\" class=\"data row0 col0\" >CA</td>\n",
       "                        <td id=\"T_c2782a08_0c31_11eb_896f_7085c233535crow0_col1\" class=\"data row0 col1\" >['CA' 'FL']</td>\n",
       "            </tr>\n",
       "            <tr>\n",
       "                        <th id=\"T_c2782a08_0c31_11eb_896f_7085c233535clevel0_row1\" class=\"row_heading level0 row1\" >BankState</th>\n",
       "                        <td id=\"T_c2782a08_0c31_11eb_896f_7085c233535crow1_col0\" class=\"data row1 col0\" >CA</td>\n",
       "                        <td id=\"T_c2782a08_0c31_11eb_896f_7085c233535crow1_col1\" class=\"data row1 col1\" >NC</td>\n",
       "            </tr>\n",
       "            <tr>\n",
       "                        <th id=\"T_c2782a08_0c31_11eb_896f_7085c233535clevel0_row2\" class=\"row_heading level0 row2\" >NewExist</th>\n",
       "                        <td id=\"T_c2782a08_0c31_11eb_896f_7085c233535crow2_col0\" class=\"data row2 col0\" >0</td>\n",
       "                        <td id=\"T_c2782a08_0c31_11eb_896f_7085c233535crow2_col1\" class=\"data row2 col1\" >0</td>\n",
       "            </tr>\n",
       "            <tr>\n",
       "                        <th id=\"T_c2782a08_0c31_11eb_896f_7085c233535clevel0_row3\" class=\"row_heading level0 row3\" >RevLineCr</th>\n",
       "                        <td id=\"T_c2782a08_0c31_11eb_896f_7085c233535crow3_col0\" class=\"data row3 col0\" >0.000000</td>\n",
       "                        <td id=\"T_c2782a08_0c31_11eb_896f_7085c233535crow3_col1\" class=\"data row3 col1\" >1.000000</td>\n",
       "            </tr>\n",
       "            <tr>\n",
       "                        <th id=\"T_c2782a08_0c31_11eb_896f_7085c233535clevel0_row4\" class=\"row_heading level0 row4\" >LowDoc</th>\n",
       "                        <td id=\"T_c2782a08_0c31_11eb_896f_7085c233535crow4_col0\" class=\"data row4 col0\" >0.000000</td>\n",
       "                        <td id=\"T_c2782a08_0c31_11eb_896f_7085c233535crow4_col1\" class=\"data row4 col1\" >0.000000</td>\n",
       "            </tr>\n",
       "            <tr>\n",
       "                        <th id=\"T_c2782a08_0c31_11eb_896f_7085c233535clevel0_row5\" class=\"row_heading level0 row5\" >MIS_Status</th>\n",
       "                        <td id=\"T_c2782a08_0c31_11eb_896f_7085c233535crow5_col0\" class=\"data row5 col0\" >1</td>\n",
       "                        <td id=\"T_c2782a08_0c31_11eb_896f_7085c233535crow5_col1\" class=\"data row5 col1\" >1</td>\n",
       "            </tr>\n",
       "            <tr>\n",
       "                        <th id=\"T_c2782a08_0c31_11eb_896f_7085c233535clevel0_row6\" class=\"row_heading level0 row6\" >twoDigNAICS</th>\n",
       "                        <td id=\"T_c2782a08_0c31_11eb_896f_7085c233535crow6_col0\" class=\"data row6 col0\" >44</td>\n",
       "                        <td id=\"T_c2782a08_0c31_11eb_896f_7085c233535crow6_col1\" class=\"data row6 col1\" >54</td>\n",
       "            </tr>\n",
       "            <tr>\n",
       "                        <th id=\"T_c2782a08_0c31_11eb_896f_7085c233535clevel0_row7\" class=\"row_heading level0 row7\" >is_franchise</th>\n",
       "                        <td id=\"T_c2782a08_0c31_11eb_896f_7085c233535crow7_col0\" class=\"data row7 col0\" >0.000000</td>\n",
       "                        <td id=\"T_c2782a08_0c31_11eb_896f_7085c233535crow7_col1\" class=\"data row7 col1\" >0.000000</td>\n",
       "            </tr>\n",
       "            <tr>\n",
       "                        <th id=\"T_c2782a08_0c31_11eb_896f_7085c233535clevel0_row8\" class=\"row_heading level0 row8\" >bank_out_of_state</th>\n",
       "                        <td id=\"T_c2782a08_0c31_11eb_896f_7085c233535crow8_col0\" class=\"data row8 col0\" >0</td>\n",
       "                        <td id=\"T_c2782a08_0c31_11eb_896f_7085c233535crow8_col1\" class=\"data row8 col1\" >0</td>\n",
       "            </tr>\n",
       "            <tr>\n",
       "                        <th id=\"T_c2782a08_0c31_11eb_896f_7085c233535clevel0_row9\" class=\"row_heading level0 row9\" >UrbanRural_cleaned</th>\n",
       "                        <td id=\"T_c2782a08_0c31_11eb_896f_7085c233535crow9_col0\" class=\"data row9 col0\" >0.000000</td>\n",
       "                        <td id=\"T_c2782a08_0c31_11eb_896f_7085c233535crow9_col1\" class=\"data row9 col1\" >0.000000</td>\n",
       "            </tr>\n",
       "            <tr>\n",
       "                        <th id=\"T_c2782a08_0c31_11eb_896f_7085c233535clevel0_row10\" class=\"row_heading level0 row10\" >sba_pre_approv</th>\n",
       "                        <td id=\"T_c2782a08_0c31_11eb_896f_7085c233535crow10_col0\" class=\"data row10 col0\" >1.000000</td>\n",
       "                        <td id=\"T_c2782a08_0c31_11eb_896f_7085c233535crow10_col1\" class=\"data row10 col1\" >1.000000</td>\n",
       "            </tr>\n",
       "    </tbody></table>"
      ],
      "text/plain": [
       "<pandas.io.formats.style.Styler at 0x24bdb46c588>"
      ]
     },
     "execution_count": 23,
     "metadata": {},
     "output_type": "execute_result"
    },
    {
     "data": {
      "application/javascript": [
       "\n",
       "            setTimeout(function() {\n",
       "                var nbb_cell_id = 23;\n",
       "                var nbb_unformatted_code = \"cat_cols_labels = cat_cols.copy()\\ncat_cols_labels.append(\\\"label\\\")\\nclst_avg = sample[cat_cols_labels].groupby(\\\"label\\\").agg(pd.Series.mode).T\\nclst_avg.style.background_gradient(axis=1)\";\n",
       "                var nbb_formatted_code = \"cat_cols_labels = cat_cols.copy()\\ncat_cols_labels.append(\\\"label\\\")\\nclst_avg = sample[cat_cols_labels].groupby(\\\"label\\\").agg(pd.Series.mode).T\\nclst_avg.style.background_gradient(axis=1)\";\n",
       "                var nbb_cells = Jupyter.notebook.get_cells();\n",
       "                for (var i = 0; i < nbb_cells.length; ++i) {\n",
       "                    if (nbb_cells[i].input_prompt_number == nbb_cell_id) {\n",
       "                        if (nbb_cells[i].get_text() == nbb_unformatted_code) {\n",
       "                             nbb_cells[i].set_text(nbb_formatted_code);\n",
       "                        }\n",
       "                        break;\n",
       "                    }\n",
       "                }\n",
       "            }, 500);\n",
       "            "
      ],
      "text/plain": [
       "<IPython.core.display.Javascript object>"
      ]
     },
     "metadata": {},
     "output_type": "display_data"
    }
   ],
   "source": [
    "cat_cols_labels = cat_cols.copy()\n",
    "cat_cols_labels.append(\"label\")\n",
    "clst_avg = sample[cat_cols_labels].groupby(\"label\").agg(pd.Series.mode).T\n",
    "clst_avg.style.background_gradient(axis=1)"
   ]
  },
  {
   "cell_type": "code",
   "execution_count": 24,
   "metadata": {},
   "outputs": [
    {
     "data": {
      "image/png": "[encoded data removed]",
      "text/plain": [
       "<Figure size 432x432 with 1 Axes>"
      ]
     },
     "metadata": {
      "needs_background": "light"
     },
     "output_type": "display_data"
    },
    {
     "data": {
      "application/javascript": [
       "\n",
       "            setTimeout(function() {\n",
       "                var nbb_cell_id = 24;\n",
       "                var nbb_unformatted_code = \"famd.plot_row_coordinates(\\n    scaled_X, alpha=0.5, ellipse_fill=False, color_labels=sample[\\\"label\\\"],\\n)\\nplt.show()\";\n",
       "                var nbb_formatted_code = \"famd.plot_row_coordinates(\\n    scaled_X, alpha=0.5, ellipse_fill=False, color_labels=sample[\\\"label\\\"],\\n)\\nplt.show()\";\n",
       "                var nbb_cells = Jupyter.notebook.get_cells();\n",
       "                for (var i = 0; i < nbb_cells.length; ++i) {\n",
       "                    if (nbb_cells[i].input_prompt_number == nbb_cell_id) {\n",
       "                        if (nbb_cells[i].get_text() == nbb_unformatted_code) {\n",
       "                             nbb_cells[i].set_text(nbb_formatted_code);\n",
       "                        }\n",
       "                        break;\n",
       "                    }\n",
       "                }\n",
       "            }, 500);\n",
       "            "
      ],
      "text/plain": [
       "<IPython.core.display.Javascript object>"
      ]
     },
     "metadata": {},
     "output_type": "display_data"
    }
   ],
   "source": [
    "famd.plot_row_coordinates(\n",
    "    scaled_X, alpha=0.5, ellipse_fill=False, color_labels=sample[\"label\"],\n",
    ")\n",
    "plt.show()"
   ]
  },
  {
   "cell_type": "code",
   "execution_count": null,
   "metadata": {},
   "outputs": [],
   "source": []
  },
  {
   "cell_type": "markdown",
   "metadata": {},
   "source": [
    "### Hierarchical"
   ]
  },
  {
   "cell_type": "code",
   "execution_count": 31,
   "metadata": {},
   "outputs": [
    {
     "data": {
      "text/plain": [
       "AgglomerativeClustering(affinity='precomputed', compute_full_tree='auto',\n",
       "                        connectivity=None, distance_threshold=None,\n",
       "                        linkage='complete', memory=None, n_clusters=2)"
      ]
     },
     "execution_count": 31,
     "metadata": {},
     "output_type": "execute_result"
    },
    {
     "data": {
      "application/javascript": [
       "\n",
       "            setTimeout(function() {\n",
       "                var nbb_cell_id = 31;\n",
       "                var nbb_unformatted_code = \"clst = AgglomerativeClustering(n_clusters=2, affinity=\\\"precomputed\\\", linkage=\\\"complete\\\")\\nclst.fit(gower_df)\";\n",
       "                var nbb_formatted_code = \"clst = AgglomerativeClustering(n_clusters=2, affinity=\\\"precomputed\\\", linkage=\\\"complete\\\")\\nclst.fit(gower_df)\";\n",
       "                var nbb_cells = Jupyter.notebook.get_cells();\n",
       "                for (var i = 0; i < nbb_cells.length; ++i) {\n",
       "                    if (nbb_cells[i].input_prompt_number == nbb_cell_id) {\n",
       "                        if (nbb_cells[i].get_text() == nbb_unformatted_code) {\n",
       "                             nbb_cells[i].set_text(nbb_formatted_code);\n",
       "                        }\n",
       "                        break;\n",
       "                    }\n",
       "                }\n",
       "            }, 500);\n",
       "            "
      ],
      "text/plain": [
       "<IPython.core.display.Javascript object>"
      ]
     },
     "metadata": {},
     "output_type": "display_data"
    }
   ],
   "source": [
    "clst = AgglomerativeClustering(n_clusters=2, affinity=\"precomputed\", linkage=\"complete\")\n",
    "clst.fit(gower_df)"
   ]
  },
  {
   "cell_type": "code",
   "execution_count": 32,
   "metadata": {},
   "outputs": [
    {
     "data": {
      "text/plain": [
       "0    513\n",
       "1    487\n",
       "Name: label, dtype: int64"
      ]
     },
     "execution_count": 32,
     "metadata": {},
     "output_type": "execute_result"
    },
    {
     "data": {
      "application/javascript": [
       "\n",
       "            setTimeout(function() {\n",
       "                var nbb_cell_id = 32;\n",
       "                var nbb_unformatted_code = \"sample[\\\"label\\\"] = clst.labels_\\nsample[\\\"label\\\"].value_counts()\";\n",
       "                var nbb_formatted_code = \"sample[\\\"label\\\"] = clst.labels_\\nsample[\\\"label\\\"].value_counts()\";\n",
       "                var nbb_cells = Jupyter.notebook.get_cells();\n",
       "                for (var i = 0; i < nbb_cells.length; ++i) {\n",
       "                    if (nbb_cells[i].input_prompt_number == nbb_cell_id) {\n",
       "                        if (nbb_cells[i].get_text() == nbb_unformatted_code) {\n",
       "                             nbb_cells[i].set_text(nbb_formatted_code);\n",
       "                        }\n",
       "                        break;\n",
       "                    }\n",
       "                }\n",
       "            }, 500);\n",
       "            "
      ],
      "text/plain": [
       "<IPython.core.display.Javascript object>"
      ]
     },
     "metadata": {},
     "output_type": "display_data"
    }
   ],
   "source": [
    "sample[\"label\"] = clst.labels_\n",
    "sample[\"label\"].value_counts()"
   ]
  },
  {
   "cell_type": "code",
   "execution_count": 34,
   "metadata": {},
   "outputs": [
    {
     "data": {
      "text/html": [
       "<style  type=\"text/css\" >\n",
       "    #T_f1d05a1e_0c31_11eb_991b_7085c233535crow0_col0 {\n",
       "            background-color:  #023858;\n",
       "            color:  #f1f1f1;\n",
       "        }    #T_f1d05a1e_0c31_11eb_991b_7085c233535crow0_col1 {\n",
       "            background-color:  #fff7fb;\n",
       "            color:  #000000;\n",
       "        }    #T_f1d05a1e_0c31_11eb_991b_7085c233535crow1_col0 {\n",
       "            background-color:  #023858;\n",
       "            color:  #f1f1f1;\n",
       "        }    #T_f1d05a1e_0c31_11eb_991b_7085c233535crow1_col1 {\n",
       "            background-color:  #fff7fb;\n",
       "            color:  #000000;\n",
       "        }    #T_f1d05a1e_0c31_11eb_991b_7085c233535crow2_col0 {\n",
       "            background-color:  #fff7fb;\n",
       "            color:  #000000;\n",
       "        }    #T_f1d05a1e_0c31_11eb_991b_7085c233535crow2_col1 {\n",
       "            background-color:  #023858;\n",
       "            color:  #f1f1f1;\n",
       "        }    #T_f1d05a1e_0c31_11eb_991b_7085c233535crow3_col0 {\n",
       "            background-color:  #023858;\n",
       "            color:  #f1f1f1;\n",
       "        }    #T_f1d05a1e_0c31_11eb_991b_7085c233535crow3_col1 {\n",
       "            background-color:  #fff7fb;\n",
       "            color:  #000000;\n",
       "        }    #T_f1d05a1e_0c31_11eb_991b_7085c233535crow4_col0 {\n",
       "            background-color:  #023858;\n",
       "            color:  #f1f1f1;\n",
       "        }    #T_f1d05a1e_0c31_11eb_991b_7085c233535crow4_col1 {\n",
       "            background-color:  #fff7fb;\n",
       "            color:  #000000;\n",
       "        }    #T_f1d05a1e_0c31_11eb_991b_7085c233535crow5_col0 {\n",
       "            background-color:  #fff7fb;\n",
       "            color:  #000000;\n",
       "        }    #T_f1d05a1e_0c31_11eb_991b_7085c233535crow5_col1 {\n",
       "            background-color:  #023858;\n",
       "            color:  #f1f1f1;\n",
       "        }    #T_f1d05a1e_0c31_11eb_991b_7085c233535crow6_col0 {\n",
       "            background-color:  #023858;\n",
       "            color:  #f1f1f1;\n",
       "        }    #T_f1d05a1e_0c31_11eb_991b_7085c233535crow6_col1 {\n",
       "            background-color:  #fff7fb;\n",
       "            color:  #000000;\n",
       "        }    #T_f1d05a1e_0c31_11eb_991b_7085c233535crow7_col0 {\n",
       "            background-color:  #fff7fb;\n",
       "            color:  #000000;\n",
       "        }    #T_f1d05a1e_0c31_11eb_991b_7085c233535crow7_col1 {\n",
       "            background-color:  #023858;\n",
       "            color:  #f1f1f1;\n",
       "        }</style><table id=\"T_f1d05a1e_0c31_11eb_991b_7085c233535c\" ><thead>    <tr>        <th class=\"index_name level0\" >label</th>        <th class=\"col_heading level0 col0\" >0</th>        <th class=\"col_heading level0 col1\" >1</th>    </tr></thead><tbody>\n",
       "                <tr>\n",
       "                        <th id=\"T_f1d05a1e_0c31_11eb_991b_7085c233535clevel0_row0\" class=\"row_heading level0 row0\" >NoEmp</th>\n",
       "                        <td id=\"T_f1d05a1e_0c31_11eb_991b_7085c233535crow0_col0\" class=\"data row0 col0\" >5.575049</td>\n",
       "                        <td id=\"T_f1d05a1e_0c31_11eb_991b_7085c233535crow0_col1\" class=\"data row0 col1\" >5.078029</td>\n",
       "            </tr>\n",
       "            <tr>\n",
       "                        <th id=\"T_f1d05a1e_0c31_11eb_991b_7085c233535clevel0_row1\" class=\"row_heading level0 row1\" >CreateJob</th>\n",
       "                        <td id=\"T_f1d05a1e_0c31_11eb_991b_7085c233535crow1_col0\" class=\"data row1 col0\" >2.682261</td>\n",
       "                        <td id=\"T_f1d05a1e_0c31_11eb_991b_7085c233535crow1_col1\" class=\"data row1 col1\" >2.474333</td>\n",
       "            </tr>\n",
       "            <tr>\n",
       "                        <th id=\"T_f1d05a1e_0c31_11eb_991b_7085c233535clevel0_row2\" class=\"row_heading level0 row2\" >RetainedJob</th>\n",
       "                        <td id=\"T_f1d05a1e_0c31_11eb_991b_7085c233535crow2_col0\" class=\"data row2 col0\" >4.153996</td>\n",
       "                        <td id=\"T_f1d05a1e_0c31_11eb_991b_7085c233535crow2_col1\" class=\"data row2 col1\" >5.552361</td>\n",
       "            </tr>\n",
       "            <tr>\n",
       "                        <th id=\"T_f1d05a1e_0c31_11eb_991b_7085c233535clevel0_row3\" class=\"row_heading level0 row3\" >DisbursementGross</th>\n",
       "                        <td id=\"T_f1d05a1e_0c31_11eb_991b_7085c233535crow3_col0\" class=\"data row3 col0\" >152539.417154</td>\n",
       "                        <td id=\"T_f1d05a1e_0c31_11eb_991b_7085c233535crow3_col1\" class=\"data row3 col1\" >73936.205339</td>\n",
       "            </tr>\n",
       "            <tr>\n",
       "                        <th id=\"T_f1d05a1e_0c31_11eb_991b_7085c233535clevel0_row4\" class=\"row_heading level0 row4\" >Term_years</th>\n",
       "                        <td id=\"T_f1d05a1e_0c31_11eb_991b_7085c233535crow4_col0\" class=\"data row4 col0\" >5.259259</td>\n",
       "                        <td id=\"T_f1d05a1e_0c31_11eb_991b_7085c233535crow4_col1\" class=\"data row4 col1\" >3.332307</td>\n",
       "            </tr>\n",
       "            <tr>\n",
       "                        <th id=\"T_f1d05a1e_0c31_11eb_991b_7085c233535clevel0_row5\" class=\"row_heading level0 row5\" >Disbr_year</th>\n",
       "                        <td id=\"T_f1d05a1e_0c31_11eb_991b_7085c233535crow5_col0\" class=\"data row5 col0\" >2005.653021</td>\n",
       "                        <td id=\"T_f1d05a1e_0c31_11eb_991b_7085c233535crow5_col1\" class=\"data row5 col1\" >2005.905544</td>\n",
       "            </tr>\n",
       "            <tr>\n",
       "                        <th id=\"T_f1d05a1e_0c31_11eb_991b_7085c233535clevel0_row6\" class=\"row_heading level0 row6\" >percent_SBA</th>\n",
       "                        <td id=\"T_f1d05a1e_0c31_11eb_991b_7085c233535crow6_col0\" class=\"data row6 col0\" >0.703209</td>\n",
       "                        <td id=\"T_f1d05a1e_0c31_11eb_991b_7085c233535crow6_col1\" class=\"data row6 col1\" >0.502669</td>\n",
       "            </tr>\n",
       "            <tr>\n",
       "                        <th id=\"T_f1d05a1e_0c31_11eb_991b_7085c233535clevel0_row7\" class=\"row_heading level0 row7\" >bank_size</th>\n",
       "                        <td id=\"T_f1d05a1e_0c31_11eb_991b_7085c233535crow7_col0\" class=\"data row7 col0\" >10932.132554</td>\n",
       "                        <td id=\"T_f1d05a1e_0c31_11eb_991b_7085c233535crow7_col1\" class=\"data row7 col1\" >35955.445585</td>\n",
       "            </tr>\n",
       "    </tbody></table>"
      ],
      "text/plain": [
       "<pandas.io.formats.style.Styler at 0x24be5904c08>"
      ]
     },
     "execution_count": 34,
     "metadata": {},
     "output_type": "execute_result"
    },
    {
     "data": {
      "application/javascript": [
       "\n",
       "            setTimeout(function() {\n",
       "                var nbb_cell_id = 34;\n",
       "                var nbb_unformatted_code = \"num_cols_labels = num_cols.copy()\\nnum_cols_labels.append(\\\"label\\\")\\nclst_avg = sample[num_cols_labels].groupby(\\\"label\\\").mean().T\\nclst_avg.style.background_gradient(axis=1)\";\n",
       "                var nbb_formatted_code = \"num_cols_labels = num_cols.copy()\\nnum_cols_labels.append(\\\"label\\\")\\nclst_avg = sample[num_cols_labels].groupby(\\\"label\\\").mean().T\\nclst_avg.style.background_gradient(axis=1)\";\n",
       "                var nbb_cells = Jupyter.notebook.get_cells();\n",
       "                for (var i = 0; i < nbb_cells.length; ++i) {\n",
       "                    if (nbb_cells[i].input_prompt_number == nbb_cell_id) {\n",
       "                        if (nbb_cells[i].get_text() == nbb_unformatted_code) {\n",
       "                             nbb_cells[i].set_text(nbb_formatted_code);\n",
       "                        }\n",
       "                        break;\n",
       "                    }\n",
       "                }\n",
       "            }, 500);\n",
       "            "
      ],
      "text/plain": [
       "<IPython.core.display.Javascript object>"
      ]
     },
     "metadata": {},
     "output_type": "display_data"
    }
   ],
   "source": [
    "num_cols_labels = num_cols.copy()\n",
    "num_cols_labels.append(\"label\")\n",
    "clst_avg = sample[num_cols_labels].groupby(\"label\").mean().T\n",
    "clst_avg.style.background_gradient(axis=1)"
   ]
  },
  {
   "cell_type": "code",
   "execution_count": 35,
   "metadata": {},
   "outputs": [
    {
     "data": {
      "text/html": [
       "<style  type=\"text/css\" >\n",
       "</style><table id=\"T_fb0a1ab0_0c31_11eb_afc2_7085c233535c\" ><thead>    <tr>        <th class=\"index_name level0\" >label</th>        <th class=\"col_heading level0 col0\" >0</th>        <th class=\"col_heading level0 col1\" >1</th>    </tr></thead><tbody>\n",
       "                <tr>\n",
       "                        <th id=\"T_fb0a1ab0_0c31_11eb_afc2_7085c233535clevel0_row0\" class=\"row_heading level0 row0\" >State</th>\n",
       "                        <td id=\"T_fb0a1ab0_0c31_11eb_afc2_7085c233535crow0_col0\" class=\"data row0 col0\" >CA</td>\n",
       "                        <td id=\"T_fb0a1ab0_0c31_11eb_afc2_7085c233535crow0_col1\" class=\"data row0 col1\" >CA</td>\n",
       "            </tr>\n",
       "            <tr>\n",
       "                        <th id=\"T_fb0a1ab0_0c31_11eb_afc2_7085c233535clevel0_row1\" class=\"row_heading level0 row1\" >BankState</th>\n",
       "                        <td id=\"T_fb0a1ab0_0c31_11eb_afc2_7085c233535crow1_col0\" class=\"data row1 col0\" >CA</td>\n",
       "                        <td id=\"T_fb0a1ab0_0c31_11eb_afc2_7085c233535crow1_col1\" class=\"data row1 col1\" >NC</td>\n",
       "            </tr>\n",
       "            <tr>\n",
       "                        <th id=\"T_fb0a1ab0_0c31_11eb_afc2_7085c233535clevel0_row2\" class=\"row_heading level0 row2\" >NewExist</th>\n",
       "                        <td id=\"T_fb0a1ab0_0c31_11eb_afc2_7085c233535crow2_col0\" class=\"data row2 col0\" >0</td>\n",
       "                        <td id=\"T_fb0a1ab0_0c31_11eb_afc2_7085c233535crow2_col1\" class=\"data row2 col1\" >0</td>\n",
       "            </tr>\n",
       "            <tr>\n",
       "                        <th id=\"T_fb0a1ab0_0c31_11eb_afc2_7085c233535clevel0_row3\" class=\"row_heading level0 row3\" >RevLineCr</th>\n",
       "                        <td id=\"T_fb0a1ab0_0c31_11eb_afc2_7085c233535crow3_col0\" class=\"data row3 col0\" >0.000000</td>\n",
       "                        <td id=\"T_fb0a1ab0_0c31_11eb_afc2_7085c233535crow3_col1\" class=\"data row3 col1\" >1.000000</td>\n",
       "            </tr>\n",
       "            <tr>\n",
       "                        <th id=\"T_fb0a1ab0_0c31_11eb_afc2_7085c233535clevel0_row4\" class=\"row_heading level0 row4\" >LowDoc</th>\n",
       "                        <td id=\"T_fb0a1ab0_0c31_11eb_afc2_7085c233535crow4_col0\" class=\"data row4 col0\" >0.000000</td>\n",
       "                        <td id=\"T_fb0a1ab0_0c31_11eb_afc2_7085c233535crow4_col1\" class=\"data row4 col1\" >0.000000</td>\n",
       "            </tr>\n",
       "            <tr>\n",
       "                        <th id=\"T_fb0a1ab0_0c31_11eb_afc2_7085c233535clevel0_row5\" class=\"row_heading level0 row5\" >MIS_Status</th>\n",
       "                        <td id=\"T_fb0a1ab0_0c31_11eb_afc2_7085c233535crow5_col0\" class=\"data row5 col0\" >1</td>\n",
       "                        <td id=\"T_fb0a1ab0_0c31_11eb_afc2_7085c233535crow5_col1\" class=\"data row5 col1\" >1</td>\n",
       "            </tr>\n",
       "            <tr>\n",
       "                        <th id=\"T_fb0a1ab0_0c31_11eb_afc2_7085c233535clevel0_row6\" class=\"row_heading level0 row6\" >twoDigNAICS</th>\n",
       "                        <td id=\"T_fb0a1ab0_0c31_11eb_afc2_7085c233535crow6_col0\" class=\"data row6 col0\" >72</td>\n",
       "                        <td id=\"T_fb0a1ab0_0c31_11eb_afc2_7085c233535crow6_col1\" class=\"data row6 col1\" >23</td>\n",
       "            </tr>\n",
       "            <tr>\n",
       "                        <th id=\"T_fb0a1ab0_0c31_11eb_afc2_7085c233535clevel0_row7\" class=\"row_heading level0 row7\" >is_franchise</th>\n",
       "                        <td id=\"T_fb0a1ab0_0c31_11eb_afc2_7085c233535crow7_col0\" class=\"data row7 col0\" >0.000000</td>\n",
       "                        <td id=\"T_fb0a1ab0_0c31_11eb_afc2_7085c233535crow7_col1\" class=\"data row7 col1\" >0.000000</td>\n",
       "            </tr>\n",
       "            <tr>\n",
       "                        <th id=\"T_fb0a1ab0_0c31_11eb_afc2_7085c233535clevel0_row8\" class=\"row_heading level0 row8\" >bank_out_of_state</th>\n",
       "                        <td id=\"T_fb0a1ab0_0c31_11eb_afc2_7085c233535crow8_col0\" class=\"data row8 col0\" >0</td>\n",
       "                        <td id=\"T_fb0a1ab0_0c31_11eb_afc2_7085c233535crow8_col1\" class=\"data row8 col1\" >0</td>\n",
       "            </tr>\n",
       "            <tr>\n",
       "                        <th id=\"T_fb0a1ab0_0c31_11eb_afc2_7085c233535clevel0_row9\" class=\"row_heading level0 row9\" >UrbanRural_cleaned</th>\n",
       "                        <td id=\"T_fb0a1ab0_0c31_11eb_afc2_7085c233535crow9_col0\" class=\"data row9 col0\" >0.000000</td>\n",
       "                        <td id=\"T_fb0a1ab0_0c31_11eb_afc2_7085c233535crow9_col1\" class=\"data row9 col1\" >0.000000</td>\n",
       "            </tr>\n",
       "            <tr>\n",
       "                        <th id=\"T_fb0a1ab0_0c31_11eb_afc2_7085c233535clevel0_row10\" class=\"row_heading level0 row10\" >sba_pre_approv</th>\n",
       "                        <td id=\"T_fb0a1ab0_0c31_11eb_afc2_7085c233535crow10_col0\" class=\"data row10 col0\" >1.000000</td>\n",
       "                        <td id=\"T_fb0a1ab0_0c31_11eb_afc2_7085c233535crow10_col1\" class=\"data row10 col1\" >1.000000</td>\n",
       "            </tr>\n",
       "    </tbody></table>"
      ],
      "text/plain": [
       "<pandas.io.formats.style.Styler at 0x24be58ebc48>"
      ]
     },
     "execution_count": 35,
     "metadata": {},
     "output_type": "execute_result"
    },
    {
     "data": {
      "application/javascript": [
       "\n",
       "            setTimeout(function() {\n",
       "                var nbb_cell_id = 35;\n",
       "                var nbb_unformatted_code = \"cat_cols_labels = cat_cols.copy()\\ncat_cols_labels.append(\\\"label\\\")\\nclst_avg = sample[cat_cols_labels].groupby(\\\"label\\\").agg(pd.Series.mode).T\\nclst_avg.style.background_gradient(axis=1)\";\n",
       "                var nbb_formatted_code = \"cat_cols_labels = cat_cols.copy()\\ncat_cols_labels.append(\\\"label\\\")\\nclst_avg = sample[cat_cols_labels].groupby(\\\"label\\\").agg(pd.Series.mode).T\\nclst_avg.style.background_gradient(axis=1)\";\n",
       "                var nbb_cells = Jupyter.notebook.get_cells();\n",
       "                for (var i = 0; i < nbb_cells.length; ++i) {\n",
       "                    if (nbb_cells[i].input_prompt_number == nbb_cell_id) {\n",
       "                        if (nbb_cells[i].get_text() == nbb_unformatted_code) {\n",
       "                             nbb_cells[i].set_text(nbb_formatted_code);\n",
       "                        }\n",
       "                        break;\n",
       "                    }\n",
       "                }\n",
       "            }, 500);\n",
       "            "
      ],
      "text/plain": [
       "<IPython.core.display.Javascript object>"
      ]
     },
     "metadata": {},
     "output_type": "display_data"
    }
   ],
   "source": [
    "cat_cols_labels = cat_cols.copy()\n",
    "cat_cols_labels.append(\"label\")\n",
    "clst_avg = sample[cat_cols_labels].groupby(\"label\").agg(pd.Series.mode).T\n",
    "clst_avg.style.background_gradient(axis=1)"
   ]
  },
  {
   "cell_type": "code",
   "execution_count": 33,
   "metadata": {},
   "outputs": [
    {
     "data": {
      "image/png": "[encoded data removed]",
      "text/plain": [
       "<Figure size 432x432 with 1 Axes>"
      ]
     },
     "metadata": {
      "needs_background": "light"
     },
     "output_type": "display_data"
    },
    {
     "data": {
      "application/javascript": [
       "\n",
       "            setTimeout(function() {\n",
       "                var nbb_cell_id = 33;\n",
       "                var nbb_unformatted_code = \"famd.plot_row_coordinates(\\n    scaled_X, alpha=0.5, ellipse_fill=False, color_labels=sample[\\\"label\\\"],\\n)\\nplt.show()\";\n",
       "                var nbb_formatted_code = \"famd.plot_row_coordinates(\\n    scaled_X, alpha=0.5, ellipse_fill=False, color_labels=sample[\\\"label\\\"],\\n)\\nplt.show()\";\n",
       "                var nbb_cells = Jupyter.notebook.get_cells();\n",
       "                for (var i = 0; i < nbb_cells.length; ++i) {\n",
       "                    if (nbb_cells[i].input_prompt_number == nbb_cell_id) {\n",
       "                        if (nbb_cells[i].get_text() == nbb_unformatted_code) {\n",
       "                             nbb_cells[i].set_text(nbb_formatted_code);\n",
       "                        }\n",
       "                        break;\n",
       "                    }\n",
       "                }\n",
       "            }, 500);\n",
       "            "
      ],
      "text/plain": [
       "<IPython.core.display.Javascript object>"
      ]
     },
     "metadata": {},
     "output_type": "display_data"
    }
   ],
   "source": [
    "famd.plot_row_coordinates(\n",
    "    scaled_X, alpha=0.5, ellipse_fill=False, color_labels=sample[\"label\"],\n",
    ")\n",
    "plt.show()"
   ]
  },
  {
   "cell_type": "code",
   "execution_count": null,
   "metadata": {},
   "outputs": [],
   "source": []
  }
 ],
 "metadata": {
  "kernelspec": {
   "display_name": "Python 3",
   "language": "python",
   "name": "python3"
  },
  "language_info": {
   "codemirror_mode": {
    "name": "ipython",
    "version": 3
   },
   "file_extension": ".py",
   "mimetype": "text/x-python",
   "name": "python",
   "nbconvert_exporter": "python",
   "pygments_lexer": "ipython3",
   "version": "3.7.6"
  }
 },
 "nbformat": 4,
 "nbformat_minor": 4
}
