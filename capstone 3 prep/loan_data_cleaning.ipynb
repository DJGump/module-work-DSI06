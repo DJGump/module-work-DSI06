{
 "cells": [
  {
   "cell_type": "code",
   "execution_count": 1,
   "metadata": {},
   "outputs": [
    {
     "data": {
      "application/javascript": [
       "\n",
       "            setTimeout(function() {\n",
       "                var nbb_cell_id = 1;\n",
       "                var nbb_unformatted_code = \"%reload_ext nb_black\";\n",
       "                var nbb_formatted_code = \"%reload_ext nb_black\";\n",
       "                var nbb_cells = Jupyter.notebook.get_cells();\n",
       "                for (var i = 0; i < nbb_cells.length; ++i) {\n",
       "                    if (nbb_cells[i].input_prompt_number == nbb_cell_id) {\n",
       "                        if (nbb_cells[i].get_text() == nbb_unformatted_code) {\n",
       "                             nbb_cells[i].set_text(nbb_formatted_code);\n",
       "                        }\n",
       "                        break;\n",
       "                    }\n",
       "                }\n",
       "            }, 500);\n",
       "            "
      ],
      "text/plain": [
       "<IPython.core.display.Javascript object>"
      ]
     },
     "metadata": {},
     "output_type": "display_data"
    }
   ],
   "source": [
    "%reload_ext nb_black"
   ]
  },
  {
   "cell_type": "code",
   "execution_count": 2,
   "metadata": {},
   "outputs": [
    {
     "data": {
      "application/javascript": [
       "\n",
       "            setTimeout(function() {\n",
       "                var nbb_cell_id = 2;\n",
       "                var nbb_unformatted_code = \"import numpy as np\\nimport pandas as pd\\nfrom matplotlib import pyplot as plt\\nimport seaborn as sns\\n\\nfrom sklearn.pipeline import Pipeline\\nfrom sklearn.compose import ColumnTransformer\\nfrom sklearn.model_selection import train_test_split, GridSearchCV\\n\\nfrom sklearn.preprocessing import StandardScaler, OneHotEncoder\\nfrom category_encoders import LeaveOneOutEncoder\\n\\n# Replace with whatever model import(s) you're using\\nfrom xgboost import XGBClassifier\\n\\n\\n%matplotlib inline\";\n",
       "                var nbb_formatted_code = \"import numpy as np\\nimport pandas as pd\\nfrom matplotlib import pyplot as plt\\nimport seaborn as sns\\n\\nfrom sklearn.pipeline import Pipeline\\nfrom sklearn.compose import ColumnTransformer\\nfrom sklearn.model_selection import train_test_split, GridSearchCV\\n\\nfrom sklearn.preprocessing import StandardScaler, OneHotEncoder\\nfrom category_encoders import LeaveOneOutEncoder\\n\\n# Replace with whatever model import(s) you're using\\nfrom xgboost import XGBClassifier\\n\\n\\n%matplotlib inline\";\n",
       "                var nbb_cells = Jupyter.notebook.get_cells();\n",
       "                for (var i = 0; i < nbb_cells.length; ++i) {\n",
       "                    if (nbb_cells[i].input_prompt_number == nbb_cell_id) {\n",
       "                        if (nbb_cells[i].get_text() == nbb_unformatted_code) {\n",
       "                             nbb_cells[i].set_text(nbb_formatted_code);\n",
       "                        }\n",
       "                        break;\n",
       "                    }\n",
       "                }\n",
       "            }, 500);\n",
       "            "
      ],
      "text/plain": [
       "<IPython.core.display.Javascript object>"
      ]
     },
     "metadata": {},
     "output_type": "display_data"
    }
   ],
   "source": [
    "import numpy as np\n",
    "import pandas as pd\n",
    "from matplotlib import pyplot as plt\n",
    "import seaborn as sns\n",
    "\n",
    "from sklearn.pipeline import Pipeline\n",
    "from sklearn.compose import ColumnTransformer\n",
    "from sklearn.model_selection import train_test_split, GridSearchCV\n",
    "\n",
    "from sklearn.preprocessing import StandardScaler, OneHotEncoder\n",
    "from category_encoders import LeaveOneOutEncoder\n",
    "\n",
    "# Replace with whatever model import(s) you're using\n",
    "from xgboost import XGBClassifier\n",
    "\n",
    "\n",
    "%matplotlib inline"
   ]
  },
  {
   "cell_type": "code",
   "execution_count": 3,
   "metadata": {},
   "outputs": [
    {
     "name": "stderr",
     "output_type": "stream",
     "text": [
      "C:\\Users\\dgump\\AppData\\Roaming\\Python\\Python37\\site-packages\\IPython\\core\\interactiveshell.py:3072: DtypeWarning: Columns (9) have mixed types.Specify dtype option on import or set low_memory=False.\n",
      "  interactivity=interactivity, compiler=compiler, result=result)\n"
     ]
    },
    {
     "data": {
      "application/javascript": [
       "\n",
       "            setTimeout(function() {\n",
       "                var nbb_cell_id = 3;\n",
       "                var nbb_unformatted_code = \"data = pd.read_csv(\\\"data/SBAnational.csv\\\")\";\n",
       "                var nbb_formatted_code = \"data = pd.read_csv(\\\"data/SBAnational.csv\\\")\";\n",
       "                var nbb_cells = Jupyter.notebook.get_cells();\n",
       "                for (var i = 0; i < nbb_cells.length; ++i) {\n",
       "                    if (nbb_cells[i].input_prompt_number == nbb_cell_id) {\n",
       "                        if (nbb_cells[i].get_text() == nbb_unformatted_code) {\n",
       "                             nbb_cells[i].set_text(nbb_formatted_code);\n",
       "                        }\n",
       "                        break;\n",
       "                    }\n",
       "                }\n",
       "            }, 500);\n",
       "            "
      ],
      "text/plain": [
       "<IPython.core.display.Javascript object>"
      ]
     },
     "metadata": {},
     "output_type": "display_data"
    }
   ],
   "source": [
    "data = pd.read_csv(\"data/SBAnational.csv\")"
   ]
  },
  {
   "cell_type": "code",
   "execution_count": 4,
   "metadata": {},
   "outputs": [
    {
     "data": {
      "text/plain": [
       "2005    77525\n",
       "2006    76040\n",
       "2007    71876\n",
       "2004    68290\n",
       "2003    58193\n",
       "1995    45758\n",
       "2002    44391\n",
       "1996    40112\n",
       "2008    39540\n",
       "1997    37748\n",
       "2000    37381\n",
       "1999    37363\n",
       "2001    37350\n",
       "1998    36016\n",
       "1994    31598\n",
       "1993    23305\n",
       "1992    20885\n",
       "2009    19126\n",
       "2010    16848\n",
       "1991    15666\n",
       "1990    14859\n",
       "1989    13248\n",
       "2011    12608\n",
       "2012     5997\n",
       "2013     2458\n",
       "1987     2218\n",
       "1986     2118\n",
       "1984     2022\n",
       "1985     1944\n",
       "1988     1898\n",
       "1983     1684\n",
       "1982      719\n",
       "1981      630\n",
       "1980      477\n",
       "1979      352\n",
       "2014      268\n",
       "1978      242\n",
       "1977      137\n",
       "1976       84\n",
       "1973       52\n",
       "1974       42\n",
       "1975       30\n",
       "1972       27\n",
       "1971       20\n",
       "1970        8\n",
       "1969        4\n",
       "1968        2\n",
       "1967        2\n",
       "1966        1\n",
       "1965        1\n",
       "1962        1\n",
       "Name: ApprovalFY, dtype: int64"
      ]
     },
     "execution_count": 4,
     "metadata": {},
     "output_type": "execute_result"
    },
    {
     "data": {
      "application/javascript": [
       "\n",
       "            setTimeout(function() {\n",
       "                var nbb_cell_id = 4;\n",
       "                var nbb_unformatted_code = \"pd.options.display.max_rows = 999\\ndata[\\\"ApprovalFY\\\"].value_counts(dropna=False)\\n\\ndata.loc[data[\\\"ApprovalFY\\\"] == \\\"1976A\\\", \\\"ApprovalFY\\\"] = \\\"1976\\\"\\ndata[\\\"ApprovalFY\\\"] = data[\\\"ApprovalFY\\\"].astype(int)\\ndata[\\\"ApprovalFY\\\"].value_counts(dropna=False)\";\n",
       "                var nbb_formatted_code = \"pd.options.display.max_rows = 999\\ndata[\\\"ApprovalFY\\\"].value_counts(dropna=False)\\n\\ndata.loc[data[\\\"ApprovalFY\\\"] == \\\"1976A\\\", \\\"ApprovalFY\\\"] = \\\"1976\\\"\\ndata[\\\"ApprovalFY\\\"] = data[\\\"ApprovalFY\\\"].astype(int)\\ndata[\\\"ApprovalFY\\\"].value_counts(dropna=False)\";\n",
       "                var nbb_cells = Jupyter.notebook.get_cells();\n",
       "                for (var i = 0; i < nbb_cells.length; ++i) {\n",
       "                    if (nbb_cells[i].input_prompt_number == nbb_cell_id) {\n",
       "                        if (nbb_cells[i].get_text() == nbb_unformatted_code) {\n",
       "                             nbb_cells[i].set_text(nbb_formatted_code);\n",
       "                        }\n",
       "                        break;\n",
       "                    }\n",
       "                }\n",
       "            }, 500);\n",
       "            "
      ],
      "text/plain": [
       "<IPython.core.display.Javascript object>"
      ]
     },
     "metadata": {},
     "output_type": "display_data"
    }
   ],
   "source": [
    "pd.options.display.max_rows = 999\n",
    "data[\"ApprovalFY\"].value_counts(dropna=False)\n",
    "\n",
    "data.loc[data[\"ApprovalFY\"] == \"1976A\", \"ApprovalFY\"] = \"1976\"\n",
    "data[\"ApprovalFY\"] = data[\"ApprovalFY\"].astype(int)\n",
    "data[\"ApprovalFY\"].value_counts(dropna=False)"
   ]
  },
  {
   "cell_type": "code",
   "execution_count": 5,
   "metadata": {},
   "outputs": [
    {
     "data": {
      "text/plain": [
       "0     201948\n",
       "44     84737\n",
       "81     72618\n",
       "54     68170\n",
       "72     67600\n",
       "23     66646\n",
       "62     55366\n",
       "42     48743\n",
       "45     42514\n",
       "33     38284\n",
       "56     32685\n",
       "48     20310\n",
       "32     17936\n",
       "71     14640\n",
       "53     13632\n",
       "31     11809\n",
       "51     11379\n",
       "52      9496\n",
       "11      9005\n",
       "61      6425\n",
       "49      2221\n",
       "21      1851\n",
       "22       663\n",
       "55       257\n",
       "92       229\n",
       "Name: twoDigNAICS, dtype: int64"
      ]
     },
     "execution_count": 5,
     "metadata": {},
     "output_type": "execute_result"
    },
    {
     "data": {
      "application/javascript": [
       "\n",
       "            setTimeout(function() {\n",
       "                var nbb_cell_id = 5;\n",
       "                var nbb_unformatted_code = \"# first two digits are industry code. Extracted anc onverted to int\\n# code 0 may need investigating\\n\\ndata[\\\"NAICS\\\"].astype(str).str[0:2].value_counts(dropna=False)\\n\\ndata[\\\"twoDigNAICS\\\"] = data[\\\"NAICS\\\"].astype(str).str[0:2]\\ndata[\\\"twoDigNAICS\\\"] = data[\\\"twoDigNAICS\\\"].astype(int)\\ndata[\\\"twoDigNAICS\\\"].value_counts(dropna=False)\";\n",
       "                var nbb_formatted_code = \"# first two digits are industry code. Extracted anc onverted to int\\n# code 0 may need investigating\\n\\ndata[\\\"NAICS\\\"].astype(str).str[0:2].value_counts(dropna=False)\\n\\ndata[\\\"twoDigNAICS\\\"] = data[\\\"NAICS\\\"].astype(str).str[0:2]\\ndata[\\\"twoDigNAICS\\\"] = data[\\\"twoDigNAICS\\\"].astype(int)\\ndata[\\\"twoDigNAICS\\\"].value_counts(dropna=False)\";\n",
       "                var nbb_cells = Jupyter.notebook.get_cells();\n",
       "                for (var i = 0; i < nbb_cells.length; ++i) {\n",
       "                    if (nbb_cells[i].input_prompt_number == nbb_cell_id) {\n",
       "                        if (nbb_cells[i].get_text() == nbb_unformatted_code) {\n",
       "                             nbb_cells[i].set_text(nbb_formatted_code);\n",
       "                        }\n",
       "                        break;\n",
       "                    }\n",
       "                }\n",
       "            }, 500);\n",
       "            "
      ],
      "text/plain": [
       "<IPython.core.display.Javascript object>"
      ]
     },
     "metadata": {},
     "output_type": "display_data"
    }
   ],
   "source": [
    "# first two digits are industry code. Extracted anc onverted to int\n",
    "# code 0 may need investigating\n",
    "\n",
    "data[\"NAICS\"].astype(str).str[0:2].value_counts(dropna=False)\n",
    "\n",
    "data[\"twoDigNAICS\"] = data[\"NAICS\"].astype(str).str[0:2]\n",
    "data[\"twoDigNAICS\"] = data[\"twoDigNAICS\"].astype(int)\n",
    "data[\"twoDigNAICS\"].value_counts(dropna=False)"
   ]
  },
  {
   "cell_type": "code",
   "execution_count": 6,
   "metadata": {},
   "outputs": [
    {
     "data": {
      "text/plain": [
       "0.0    847389\n",
       "1.0     51775\n",
       "Name: is_franchise, dtype: int64"
      ]
     },
     "execution_count": 6,
     "metadata": {},
     "output_type": "execute_result"
    },
    {
     "data": {
      "application/javascript": [
       "\n",
       "            setTimeout(function() {\n",
       "                var nbb_cell_id = 6;\n",
       "                var nbb_unformatted_code = \"# 0 and 1 indicate not a franchise. Created binary is_franchise column\\ndata[\\\"FranchiseCode\\\"].value_counts(dropna=False).index.sort_values()\\ndata.loc[data[\\\"FranchiseCode\\\"] > 1, \\\"is_franchise\\\"] = 1\\ndata.loc[data[\\\"FranchiseCode\\\"] <= 1, \\\"is_franchise\\\"] = 0\\ndata[\\\"is_franchise\\\"].value_counts(dropna=False)\";\n",
       "                var nbb_formatted_code = \"# 0 and 1 indicate not a franchise. Created binary is_franchise column\\ndata[\\\"FranchiseCode\\\"].value_counts(dropna=False).index.sort_values()\\ndata.loc[data[\\\"FranchiseCode\\\"] > 1, \\\"is_franchise\\\"] = 1\\ndata.loc[data[\\\"FranchiseCode\\\"] <= 1, \\\"is_franchise\\\"] = 0\\ndata[\\\"is_franchise\\\"].value_counts(dropna=False)\";\n",
       "                var nbb_cells = Jupyter.notebook.get_cells();\n",
       "                for (var i = 0; i < nbb_cells.length; ++i) {\n",
       "                    if (nbb_cells[i].input_prompt_number == nbb_cell_id) {\n",
       "                        if (nbb_cells[i].get_text() == nbb_unformatted_code) {\n",
       "                             nbb_cells[i].set_text(nbb_formatted_code);\n",
       "                        }\n",
       "                        break;\n",
       "                    }\n",
       "                }\n",
       "            }, 500);\n",
       "            "
      ],
      "text/plain": [
       "<IPython.core.display.Javascript object>"
      ]
     },
     "metadata": {},
     "output_type": "display_data"
    }
   ],
   "source": [
    "# 0 and 1 indicate not a franchise. Created binary is_franchise column\n",
    "data[\"FranchiseCode\"].value_counts(dropna=False).index.sort_values()\n",
    "data.loc[data[\"FranchiseCode\"] > 1, \"is_franchise\"] = 1\n",
    "data.loc[data[\"FranchiseCode\"] <= 1, \"is_franchise\"] = 0\n",
    "data[\"is_franchise\"].value_counts(dropna=False)"
   ]
  },
  {
   "cell_type": "code",
   "execution_count": 7,
   "metadata": {},
   "outputs": [
    {
     "data": {
      "text/plain": [
       "0.0    677890\n",
       "1.0    216681\n",
       "NaN      4593\n",
       "Name: RevLineCr, dtype: int64"
      ]
     },
     "execution_count": 7,
     "metadata": {},
     "output_type": "execute_result"
    },
    {
     "data": {
      "application/javascript": [
       "\n",
       "            setTimeout(function() {\n",
       "                var nbb_cell_id = 7;\n",
       "                var nbb_unformatted_code = \"# similar to above. Created binary variable for having revolving line of credit\\n\\n# some nonsense in here\\ndata[\\\"RevLineCr\\\"].value_counts(dropna=False)\\n\\nrevCR_map = {\\n    \\\"N\\\": 0,\\n    \\\"0\\\": 0,\\n    \\\"Y\\\": 1,\\n    \\\"T\\\": 1,  # T for true? maybe\\n}\\ndata[\\\"RevLineCr\\\"] = data[\\\"RevLineCr\\\"].map(revCR_map)\\n# data[\\\"RevLineCr\\\"] = data[\\\"RevLineCr\\\"].astype(int, errors=\\\"ignore\\\")\\ndata[\\\"RevLineCr\\\"].value_counts(dropna=False)\";\n",
       "                var nbb_formatted_code = \"# similar to above. Created binary variable for having revolving line of credit\\n\\n# some nonsense in here\\ndata[\\\"RevLineCr\\\"].value_counts(dropna=False)\\n\\nrevCR_map = {\\n    \\\"N\\\": 0,\\n    \\\"0\\\": 0,\\n    \\\"Y\\\": 1,\\n    \\\"T\\\": 1,  # T for true? maybe\\n}\\ndata[\\\"RevLineCr\\\"] = data[\\\"RevLineCr\\\"].map(revCR_map)\\n# data[\\\"RevLineCr\\\"] = data[\\\"RevLineCr\\\"].astype(int, errors=\\\"ignore\\\")\\ndata[\\\"RevLineCr\\\"].value_counts(dropna=False)\";\n",
       "                var nbb_cells = Jupyter.notebook.get_cells();\n",
       "                for (var i = 0; i < nbb_cells.length; ++i) {\n",
       "                    if (nbb_cells[i].input_prompt_number == nbb_cell_id) {\n",
       "                        if (nbb_cells[i].get_text() == nbb_unformatted_code) {\n",
       "                             nbb_cells[i].set_text(nbb_formatted_code);\n",
       "                        }\n",
       "                        break;\n",
       "                    }\n",
       "                }\n",
       "            }, 500);\n",
       "            "
      ],
      "text/plain": [
       "<IPython.core.display.Javascript object>"
      ]
     },
     "metadata": {},
     "output_type": "display_data"
    }
   ],
   "source": [
    "# similar to above. Created binary variable for having revolving line of credit\n",
    "\n",
    "# some nonsense in here\n",
    "data[\"RevLineCr\"].value_counts(dropna=False)\n",
    "\n",
    "revCR_map = {\n",
    "    \"N\": 0,\n",
    "    \"0\": 0,\n",
    "    \"Y\": 1,\n",
    "    \"T\": 1,  # T for true? maybe\n",
    "}\n",
    "data[\"RevLineCr\"] = data[\"RevLineCr\"].map(revCR_map)\n",
    "# data[\"RevLineCr\"] = data[\"RevLineCr\"].astype(int, errors=\"ignore\")\n",
    "data[\"RevLineCr\"].value_counts(dropna=False)"
   ]
  },
  {
   "cell_type": "code",
   "execution_count": 8,
   "metadata": {},
   "outputs": [
    {
     "data": {
      "application/javascript": [
       "\n",
       "            setTimeout(function() {\n",
       "                var nbb_cell_id = 8;\n",
       "                var nbb_unformatted_code = \"# clean state columns. Filled with BankState. May have biased new feature bank_out_of_state\\n# was only 14, so not that big of a deal\\ndata[\\\"State\\\"].isna().sum()\\ndata[data[\\\"State\\\"].isna()]\\n\\ndata[\\\"State\\\"] = data[\\\"State\\\"].fillna(data[\\\"BankState\\\"])\\ndata[\\\"State\\\"].isna().sum()\\n\\n# 1 left from 1981, looks like nothing we want\\ndata[data[\\\"State\\\"].isna()]\\n\\ndata = data.dropna(subset=[\\\"State\\\"])\\ncleaned_States = list(data[\\\"State\\\"].value_counts().sort_index().index)\\n#cleaned_States\";\n",
       "                var nbb_formatted_code = \"# clean state columns. Filled with BankState. May have biased new feature bank_out_of_state\\n# was only 14, so not that big of a deal\\ndata[\\\"State\\\"].isna().sum()\\ndata[data[\\\"State\\\"].isna()]\\n\\ndata[\\\"State\\\"] = data[\\\"State\\\"].fillna(data[\\\"BankState\\\"])\\ndata[\\\"State\\\"].isna().sum()\\n\\n# 1 left from 1981, looks like nothing we want\\ndata[data[\\\"State\\\"].isna()]\\n\\ndata = data.dropna(subset=[\\\"State\\\"])\\ncleaned_States = list(data[\\\"State\\\"].value_counts().sort_index().index)\\n# cleaned_States\";\n",
       "                var nbb_cells = Jupyter.notebook.get_cells();\n",
       "                for (var i = 0; i < nbb_cells.length; ++i) {\n",
       "                    if (nbb_cells[i].input_prompt_number == nbb_cell_id) {\n",
       "                        if (nbb_cells[i].get_text() == nbb_unformatted_code) {\n",
       "                             nbb_cells[i].set_text(nbb_formatted_code);\n",
       "                        }\n",
       "                        break;\n",
       "                    }\n",
       "                }\n",
       "            }, 500);\n",
       "            "
      ],
      "text/plain": [
       "<IPython.core.display.Javascript object>"
      ]
     },
     "metadata": {},
     "output_type": "display_data"
    }
   ],
   "source": [
    "# clean state columns. Filled with BankState. May have biased new feature bank_out_of_state\n",
    "# was only 14, so not that big of a deal\n",
    "data[\"State\"].isna().sum()\n",
    "data[data[\"State\"].isna()]\n",
    "\n",
    "data[\"State\"] = data[\"State\"].fillna(data[\"BankState\"])\n",
    "data[\"State\"].isna().sum()\n",
    "\n",
    "# 1 left from 1981, looks like nothing we want\n",
    "data[data[\"State\"].isna()]\n",
    "\n",
    "data = data.dropna(subset=[\"State\"])\n",
    "cleaned_States = list(data[\"State\"].value_counts().sort_index().index)\n",
    "#cleaned_States\n"
   ]
  },
  {
   "cell_type": "code",
   "execution_count": 9,
   "metadata": {},
   "outputs": [
    {
     "data": {
      "application/javascript": [
       "\n",
       "            setTimeout(function() {\n",
       "                var nbb_cell_id = 9;\n",
       "                var nbb_unformatted_code = \"# clean Bank State\\n# Handled weird out of country banks by selecting based on the State column\\n# definite bias here. Out of country banks may follow a trend\\ndata[\\\"BankState\\\"].value_counts().sort_index()\\n\\n# keep rows where the BankState value appears more than 100 times. Want to match State column\\nvalid_states = list(data[\\\"State\\\"].value_counts().index)\\nbankState_valid = data[\\\"BankState\\\"].isin(valid_states)\\n# only going to lose 1700 rows. Drop em.\\ncleaned_bankStates = list(\\n    data.loc[bankState_valid, \\\"BankState\\\"].value_counts().sort_index().index\\n)\\n\\ndata = data.loc[bankState_valid]\";\n",
       "                var nbb_formatted_code = \"# clean Bank State\\n# Handled weird out of country banks by selecting based on the State column\\n# definite bias here. Out of country banks may follow a trend\\ndata[\\\"BankState\\\"].value_counts().sort_index()\\n\\n# keep rows where the BankState value appears more than 100 times. Want to match State column\\nvalid_states = list(data[\\\"State\\\"].value_counts().index)\\nbankState_valid = data[\\\"BankState\\\"].isin(valid_states)\\n# only going to lose 1700 rows. Drop em.\\ncleaned_bankStates = list(\\n    data.loc[bankState_valid, \\\"BankState\\\"].value_counts().sort_index().index\\n)\\n\\ndata = data.loc[bankState_valid]\";\n",
       "                var nbb_cells = Jupyter.notebook.get_cells();\n",
       "                for (var i = 0; i < nbb_cells.length; ++i) {\n",
       "                    if (nbb_cells[i].input_prompt_number == nbb_cell_id) {\n",
       "                        if (nbb_cells[i].get_text() == nbb_unformatted_code) {\n",
       "                             nbb_cells[i].set_text(nbb_formatted_code);\n",
       "                        }\n",
       "                        break;\n",
       "                    }\n",
       "                }\n",
       "            }, 500);\n",
       "            "
      ],
      "text/plain": [
       "<IPython.core.display.Javascript object>"
      ]
     },
     "metadata": {},
     "output_type": "display_data"
    }
   ],
   "source": [
    "# clean Bank State\n",
    "# Handled weird out of country banks by selecting based on the State column\n",
    "# definite bias here. Out of country banks may follow a trend\n",
    "data[\"BankState\"].value_counts().sort_index()\n",
    "\n",
    "# keep rows where the BankState value appears more than 100 times. Want to match State column\n",
    "valid_states = list(data[\"State\"].value_counts().index)\n",
    "bankState_valid = data[\"BankState\"].isin(valid_states)\n",
    "# only going to lose 1700 rows. Drop em.\n",
    "cleaned_bankStates = list(\n",
    "    data.loc[bankState_valid, \"BankState\"].value_counts().sort_index().index\n",
    ")\n",
    "\n",
    "data = data.loc[bankState_valid]"
   ]
  },
  {
   "cell_type": "code",
   "execution_count": 10,
   "metadata": {},
   "outputs": [
    {
     "data": {
      "text/plain": [
       "1    473953\n",
       "0    423481\n",
       "Name: bank_out_of_state, dtype: int64"
      ]
     },
     "execution_count": 10,
     "metadata": {},
     "output_type": "execute_result"
    },
    {
     "data": {
      "application/javascript": [
       "\n",
       "            setTimeout(function() {\n",
       "                var nbb_cell_id = 10;\n",
       "                var nbb_unformatted_code = \"# made binary column bank_out_of_state\\n\\ndata[\\\"bank_out_of_state\\\"] = data[\\\"State\\\"] == data[\\\"BankState\\\"]\\ndata[\\\"bank_out_of_state\\\"] = data[\\\"bank_out_of_state\\\"].astype(int)\\ndata[\\\"bank_out_of_state\\\"].value_counts(dropna=False)\";\n",
       "                var nbb_formatted_code = \"# made binary column bank_out_of_state\\n\\ndata[\\\"bank_out_of_state\\\"] = data[\\\"State\\\"] == data[\\\"BankState\\\"]\\ndata[\\\"bank_out_of_state\\\"] = data[\\\"bank_out_of_state\\\"].astype(int)\\ndata[\\\"bank_out_of_state\\\"].value_counts(dropna=False)\";\n",
       "                var nbb_cells = Jupyter.notebook.get_cells();\n",
       "                for (var i = 0; i < nbb_cells.length; ++i) {\n",
       "                    if (nbb_cells[i].input_prompt_number == nbb_cell_id) {\n",
       "                        if (nbb_cells[i].get_text() == nbb_unformatted_code) {\n",
       "                             nbb_cells[i].set_text(nbb_formatted_code);\n",
       "                        }\n",
       "                        break;\n",
       "                    }\n",
       "                }\n",
       "            }, 500);\n",
       "            "
      ],
      "text/plain": [
       "<IPython.core.display.Javascript object>"
      ]
     },
     "metadata": {},
     "output_type": "display_data"
    }
   ],
   "source": [
    "# made binary column bank_out_of_state\n",
    "\n",
    "data[\"bank_out_of_state\"] = data[\"State\"] == data[\"BankState\"]\n",
    "data[\"bank_out_of_state\"] = data[\"bank_out_of_state\"].astype(int)\n",
    "data[\"bank_out_of_state\"].value_counts(dropna=False)"
   ]
  },
  {
   "cell_type": "code",
   "execution_count": 11,
   "metadata": {},
   "outputs": [
    {
     "data": {
      "text/plain": [
       "<matplotlib.axes._subplots.AxesSubplot at 0x20956a57d08>"
      ]
     },
     "execution_count": 11,
     "metadata": {},
     "output_type": "execute_result"
    },
    {
     "data": {
      "image/png": "[encoded data removed]",
      "text/plain": [
       "<Figure size 432x288 with 1 Axes>"
      ]
     },
     "metadata": {
      "needs_background": "light"
     },
     "output_type": "display_data"
    },
    {
     "data": {
      "application/javascript": [
       "\n",
       "            setTimeout(function() {\n",
       "                var nbb_cell_id = 11;\n",
       "                var nbb_unformatted_code = \"# Approval Date. No NA's originally\\n# ~some are in the future! Handle this. Maybe hit 2 instead of 1?~\\n# pd_to_datetime() behaves starngely across decades, or may have been a simple typo\\n# 2076 or whatever is definitely outside of our consideration either way\\ndata[\\\"ApprovalDate_datetime\\\"] = pd.to_datetime(data[\\\"ApprovalDate\\\"])\\ndata.loc[data[\\\"ApprovalDate_datetime\\\"].dt.year > 2000, \\\"ApprovalDate_datetime\\\"].hist()\";\n",
       "                var nbb_formatted_code = \"# Approval Date. No NA's originally\\n# ~some are in the future! Handle this. Maybe hit 2 instead of 1?~\\n# pd_to_datetime() behaves starngely across decades, or may have been a simple typo\\n# 2076 or whatever is definitely outside of our consideration either way\\ndata[\\\"ApprovalDate_datetime\\\"] = pd.to_datetime(data[\\\"ApprovalDate\\\"])\\ndata.loc[data[\\\"ApprovalDate_datetime\\\"].dt.year > 2000, \\\"ApprovalDate_datetime\\\"].hist()\";\n",
       "                var nbb_cells = Jupyter.notebook.get_cells();\n",
       "                for (var i = 0; i < nbb_cells.length; ++i) {\n",
       "                    if (nbb_cells[i].input_prompt_number == nbb_cell_id) {\n",
       "                        if (nbb_cells[i].get_text() == nbb_unformatted_code) {\n",
       "                             nbb_cells[i].set_text(nbb_formatted_code);\n",
       "                        }\n",
       "                        break;\n",
       "                    }\n",
       "                }\n",
       "            }, 500);\n",
       "            "
      ],
      "text/plain": [
       "<IPython.core.display.Javascript object>"
      ]
     },
     "metadata": {},
     "output_type": "display_data"
    }
   ],
   "source": [
    "# Approval Date. No NA's originally\n",
    "# ~some are in the future! Handle this. Maybe hit 2 instead of 1?~\n",
    "# pd_to_datetime() behaves starngely across decades, or may have been a simple typo\n",
    "# 2076 or whatever is definitely outside of our consideration either way\n",
    "data[\"ApprovalDate_datetime\"] = pd.to_datetime(data[\"ApprovalDate\"])\n",
    "data.loc[data[\"ApprovalDate_datetime\"].dt.year > 2000, \"ApprovalDate_datetime\"].hist()"
   ]
  },
  {
   "cell_type": "code",
   "execution_count": 12,
   "metadata": {},
   "outputs": [
    {
     "data": {
      "image/png": "[encoded data removed]",
      "text/plain": [
       "<Figure size 432x288 with 1 Axes>"
      ]
     },
     "metadata": {
      "needs_background": "light"
     },
     "output_type": "display_data"
    },
    {
     "data": {
      "image/png": "[encoded data removed]",
      "text/plain": [
       "<Figure size 432x288 with 1 Axes>"
      ]
     },
     "metadata": {
      "needs_background": "light"
     },
     "output_type": "display_data"
    },
    {
     "data": {
      "text/plain": [
       "count    897434.000000\n",
       "mean        110.777526\n",
       "std          78.863169\n",
       "min           0.000000\n",
       "25%          60.000000\n",
       "50%          84.000000\n",
       "75%         120.000000\n",
       "max         569.000000\n",
       "Name: Term, dtype: float64"
      ]
     },
     "execution_count": 12,
     "metadata": {},
     "output_type": "execute_result"
    },
    {
     "data": {
      "application/javascript": [
       "\n",
       "            setTimeout(function() {\n",
       "                var nbb_cell_id = 12;\n",
       "                var nbb_unformatted_code = \"# clean term column. IN months, convert to years\\n# appears to be some skew.\\ndata[\\\"Term\\\"].isna().sum()\\ndata[\\\"Term_years\\\"] = data[\\\"Term\\\"] / 12\\ndata[\\\"Term_years\\\"].hist()\\nplt.show()\\nsns.boxplot(data[\\\"Term_years\\\"])\\nplt.show()\\ndata[\\\"Term\\\"].describe()\";\n",
       "                var nbb_formatted_code = \"# clean term column. IN months, convert to years\\n# appears to be some skew.\\ndata[\\\"Term\\\"].isna().sum()\\ndata[\\\"Term_years\\\"] = data[\\\"Term\\\"] / 12\\ndata[\\\"Term_years\\\"].hist()\\nplt.show()\\nsns.boxplot(data[\\\"Term_years\\\"])\\nplt.show()\\ndata[\\\"Term\\\"].describe()\";\n",
       "                var nbb_cells = Jupyter.notebook.get_cells();\n",
       "                for (var i = 0; i < nbb_cells.length; ++i) {\n",
       "                    if (nbb_cells[i].input_prompt_number == nbb_cell_id) {\n",
       "                        if (nbb_cells[i].get_text() == nbb_unformatted_code) {\n",
       "                             nbb_cells[i].set_text(nbb_formatted_code);\n",
       "                        }\n",
       "                        break;\n",
       "                    }\n",
       "                }\n",
       "            }, 500);\n",
       "            "
      ],
      "text/plain": [
       "<IPython.core.display.Javascript object>"
      ]
     },
     "metadata": {},
     "output_type": "display_data"
    }
   ],
   "source": [
    "# clean term column. IN months, convert to years\n",
    "# appears to be some skew.\n",
    "data[\"Term\"].isna().sum()\n",
    "data[\"Term_years\"] = data[\"Term\"] / 12\n",
    "data[\"Term_years\"].hist()\n",
    "plt.show()\n",
    "sns.boxplot(data[\"Term_years\"])\n",
    "plt.show()\n",
    "data[\"Term\"].describe()"
   ]
  },
  {
   "cell_type": "code",
   "execution_count": 13,
   "metadata": {},
   "outputs": [
    {
     "data": {
      "image/png": "[encoded data removed]",
      "text/plain": [
       "<Figure size 432x288 with 1 Axes>"
      ]
     },
     "metadata": {
      "needs_background": "light"
     },
     "output_type": "display_data"
    },
    {
     "data": {
      "text/plain": [
       "count    897434.000000\n",
       "mean         11.405530\n",
       "std          74.171788\n",
       "min           0.000000\n",
       "25%           2.000000\n",
       "50%           4.000000\n",
       "75%          10.000000\n",
       "max        9999.000000\n",
       "Name: NoEmp, dtype: float64"
      ]
     },
     "execution_count": 13,
     "metadata": {},
     "output_type": "execute_result"
    },
    {
     "data": {
      "application/javascript": [
       "\n",
       "            setTimeout(function() {\n",
       "                var nbb_cell_id = 13;\n",
       "                var nbb_unformatted_code = \"# clean noemp columns\\n# lots of skew to consider\\ndata[\\\"NoEmp\\\"].isna().sum()\\ndata[\\\"NoEmp\\\"].value_counts()\\nsns.boxplot(data[\\\"NoEmp\\\"])\\nplt.show()\\ndata[\\\"NoEmp\\\"].describe()\";\n",
       "                var nbb_formatted_code = \"# clean noemp columns\\n# lots of skew to consider\\ndata[\\\"NoEmp\\\"].isna().sum()\\ndata[\\\"NoEmp\\\"].value_counts()\\nsns.boxplot(data[\\\"NoEmp\\\"])\\nplt.show()\\ndata[\\\"NoEmp\\\"].describe()\";\n",
       "                var nbb_cells = Jupyter.notebook.get_cells();\n",
       "                for (var i = 0; i < nbb_cells.length; ++i) {\n",
       "                    if (nbb_cells[i].input_prompt_number == nbb_cell_id) {\n",
       "                        if (nbb_cells[i].get_text() == nbb_unformatted_code) {\n",
       "                             nbb_cells[i].set_text(nbb_formatted_code);\n",
       "                        }\n",
       "                        break;\n",
       "                    }\n",
       "                }\n",
       "            }, 500);\n",
       "            "
      ],
      "text/plain": [
       "<IPython.core.display.Javascript object>"
      ]
     },
     "metadata": {},
     "output_type": "display_data"
    }
   ],
   "source": [
    "# clean noemp columns\n",
    "# lots of skew to consider\n",
    "data[\"NoEmp\"].isna().sum()\n",
    "data[\"NoEmp\"].value_counts()\n",
    "sns.boxplot(data[\"NoEmp\"])\n",
    "plt.show()\n",
    "data[\"NoEmp\"].describe()"
   ]
  },
  {
   "cell_type": "code",
   "execution_count": 14,
   "metadata": {},
   "outputs": [
    {
     "data": {
      "text/plain": [
       "0    643591\n",
       "1    253843\n",
       "Name: NewExist, dtype: int64"
      ]
     },
     "execution_count": 14,
     "metadata": {},
     "output_type": "execute_result"
    },
    {
     "data": {
      "application/javascript": [
       "\n",
       "            setTimeout(function() {\n",
       "                var nbb_cell_id = 14;\n",
       "                var nbb_unformatted_code = \"# clean NewExist column. 1 is existing, 2 is new. Handle na's and 0's\\n# note: some approval dates are in the future!\\npd.options.display.max_columns = 999\\ndata[\\\"NewExist\\\"].isna().sum\\ndata[\\\"NewExist\\\"].value_counts(dropna=False)\\n\\ndata.loc[data[\\\"NewExist\\\"].isna(), \\\"ApprovalDate_datetime\\\"].value_counts().sort_index()\\ndata.loc[data[\\\"NewExist\\\"].isna(), \\\"bank_out_of_state\\\"].value_counts()\\ndata.loc[data[\\\"NewExist\\\"].isna(), \\\"ApprovalDate_datetime\\\"].describe()\\n# some weirdness with the na's. All but one are from dec-2019 through around 2010.\\n# just going on a hunch and filling these missing values with 1: an existing business\\nNewExist_map = {1: 0, 2: 1, 0: 1, np.nan: 1}\\n\\ndata[\\\"NewExist\\\"] = data[\\\"NewExist\\\"].map(NewExist_map)\\ndata[\\\"NewExist\\\"].value_counts()\";\n",
       "                var nbb_formatted_code = \"# clean NewExist column. 1 is existing, 2 is new. Handle na's and 0's\\n# note: some approval dates are in the future!\\npd.options.display.max_columns = 999\\ndata[\\\"NewExist\\\"].isna().sum\\ndata[\\\"NewExist\\\"].value_counts(dropna=False)\\n\\ndata.loc[data[\\\"NewExist\\\"].isna(), \\\"ApprovalDate_datetime\\\"].value_counts().sort_index()\\ndata.loc[data[\\\"NewExist\\\"].isna(), \\\"bank_out_of_state\\\"].value_counts()\\ndata.loc[data[\\\"NewExist\\\"].isna(), \\\"ApprovalDate_datetime\\\"].describe()\\n# some weirdness with the na's. All but one are from dec-2019 through around 2010.\\n# just going on a hunch and filling these missing values with 1: an existing business\\nNewExist_map = {1: 0, 2: 1, 0: 1, np.nan: 1}\\n\\ndata[\\\"NewExist\\\"] = data[\\\"NewExist\\\"].map(NewExist_map)\\ndata[\\\"NewExist\\\"].value_counts()\";\n",
       "                var nbb_cells = Jupyter.notebook.get_cells();\n",
       "                for (var i = 0; i < nbb_cells.length; ++i) {\n",
       "                    if (nbb_cells[i].input_prompt_number == nbb_cell_id) {\n",
       "                        if (nbb_cells[i].get_text() == nbb_unformatted_code) {\n",
       "                             nbb_cells[i].set_text(nbb_formatted_code);\n",
       "                        }\n",
       "                        break;\n",
       "                    }\n",
       "                }\n",
       "            }, 500);\n",
       "            "
      ],
      "text/plain": [
       "<IPython.core.display.Javascript object>"
      ]
     },
     "metadata": {},
     "output_type": "display_data"
    }
   ],
   "source": [
    "# clean NewExist column. 1 is existing, 2 is new. Handle na's and 0's\n",
    "# note: some approval dates are in the future!\n",
    "pd.options.display.max_columns = 999\n",
    "data[\"NewExist\"].isna().sum\n",
    "data[\"NewExist\"].value_counts(dropna=False)\n",
    "\n",
    "data.loc[data[\"NewExist\"].isna(), \"ApprovalDate_datetime\"].value_counts().sort_index()\n",
    "data.loc[data[\"NewExist\"].isna(), \"bank_out_of_state\"].value_counts()\n",
    "data.loc[data[\"NewExist\"].isna(), \"ApprovalDate_datetime\"].describe()\n",
    "# some weirdness with the na's. All but one are from dec-2019 through around 2010.\n",
    "# just going on a hunch and filling these missing values with 1: an existing business\n",
    "NewExist_map = {1: 0, 2: 1, 0: 1, np.nan: 1}\n",
    "\n",
    "data[\"NewExist\"] = data[\"NewExist\"].map(NewExist_map)\n",
    "data[\"NewExist\"].value_counts()"
   ]
  },
  {
   "cell_type": "code",
   "execution_count": 15,
   "metadata": {},
   "outputs": [
    {
     "data": {
      "text/plain": [
       "0.0    470632\n",
       "NaN    321469\n",
       "1.0    105333\n",
       "Name: UrbanRural_cleaned, dtype: int64"
      ]
     },
     "execution_count": 15,
     "metadata": {},
     "output_type": "execute_result"
    },
    {
     "data": {
      "image/png": "[encoded data removed]",
      "text/plain": [
       "<Figure size 432x288 with 1 Axes>"
      ]
     },
     "metadata": {
      "needs_background": "light"
     },
     "output_type": "display_data"
    },
    {
     "data": {
      "application/javascript": [
       "\n",
       "            setTimeout(function() {\n",
       "                var nbb_cell_id = 15;\n",
       "                var nbb_unformatted_code = \"# clean urban/rural column. 1: urban, 2: rural, 0:undefined\\ndata[\\\"UrbanRural\\\"].value_counts()\\n\\n# investigate na's for patterns, but will definitely remap to 0,1\\ndata.loc[data[\\\"UrbanRural\\\"] == 0, \\\"ApprovalDate_datetime\\\"].describe()\\n# looks lijke undefined (0's) are from mid-late 90's\\n# clue that future values might need to be 19 not 20\\ndata.loc[data[\\\"UrbanRural\\\"] == 0, \\\"ApprovalDate_datetime\\\"].hist(bins=20)\\ndata[\\\"UrbanRural\\\"].value_counts()\\n\\nUrbanRural_map = {1: 0, 2: 1, 0: np.nan}\\n\\ndata[\\\"UrbanRural_cleaned\\\"] = data[\\\"UrbanRural\\\"].map(UrbanRural_map)\\ndata[\\\"UrbanRural_cleaned\\\"].value_counts(dropna=False)\";\n",
       "                var nbb_formatted_code = \"# clean urban/rural column. 1: urban, 2: rural, 0:undefined\\ndata[\\\"UrbanRural\\\"].value_counts()\\n\\n# investigate na's for patterns, but will definitely remap to 0,1\\ndata.loc[data[\\\"UrbanRural\\\"] == 0, \\\"ApprovalDate_datetime\\\"].describe()\\n# looks lijke undefined (0's) are from mid-late 90's\\n# clue that future values might need to be 19 not 20\\ndata.loc[data[\\\"UrbanRural\\\"] == 0, \\\"ApprovalDate_datetime\\\"].hist(bins=20)\\ndata[\\\"UrbanRural\\\"].value_counts()\\n\\nUrbanRural_map = {1: 0, 2: 1, 0: np.nan}\\n\\ndata[\\\"UrbanRural_cleaned\\\"] = data[\\\"UrbanRural\\\"].map(UrbanRural_map)\\ndata[\\\"UrbanRural_cleaned\\\"].value_counts(dropna=False)\";\n",
       "                var nbb_cells = Jupyter.notebook.get_cells();\n",
       "                for (var i = 0; i < nbb_cells.length; ++i) {\n",
       "                    if (nbb_cells[i].input_prompt_number == nbb_cell_id) {\n",
       "                        if (nbb_cells[i].get_text() == nbb_unformatted_code) {\n",
       "                             nbb_cells[i].set_text(nbb_formatted_code);\n",
       "                        }\n",
       "                        break;\n",
       "                    }\n",
       "                }\n",
       "            }, 500);\n",
       "            "
      ],
      "text/plain": [
       "<IPython.core.display.Javascript object>"
      ]
     },
     "metadata": {},
     "output_type": "display_data"
    }
   ],
   "source": [
    "# clean urban/rural column. 1: urban, 2: rural, 0:undefined\n",
    "data[\"UrbanRural\"].value_counts()\n",
    "\n",
    "# investigate na's for patterns, but will definitely remap to 0,1\n",
    "data.loc[data[\"UrbanRural\"] == 0, \"ApprovalDate_datetime\"].describe()\n",
    "# looks lijke undefined (0's) are from mid-late 90's\n",
    "# clue that future values might need to be 19 not 20\n",
    "data.loc[data[\"UrbanRural\"] == 0, \"ApprovalDate_datetime\"].hist(bins=20)\n",
    "data[\"UrbanRural\"].value_counts()\n",
    "\n",
    "UrbanRural_map = {1: 0, 2: 1, 0: np.nan}\n",
    "\n",
    "data[\"UrbanRural_cleaned\"] = data[\"UrbanRural\"].map(UrbanRural_map)\n",
    "data[\"UrbanRural_cleaned\"].value_counts(dropna=False)"
   ]
  },
  {
   "cell_type": "code",
   "execution_count": 16,
   "metadata": {},
   "outputs": [
    {
     "data": {
      "text/plain": [
       "0.0    781263\n",
       "1.0    110166\n",
       "NaN      6005\n",
       "Name: LowDoc, dtype: int64"
      ]
     },
     "execution_count": 16,
     "metadata": {},
     "output_type": "execute_result"
    },
    {
     "data": {
      "application/javascript": [
       "\n",
       "            setTimeout(function() {\n",
       "                var nbb_cell_id = 16;\n",
       "                var nbb_unformatted_code = \"# clean LowDoc. Lot's of Na's\\n# y = yes, n = no\\ndata[\\\"LowDoc\\\"].isna().sum()\\ndata[\\\"LowDoc\\\"].value_counts(dropna=False)\\n# more nonsense, awesome\\nLowDoc_map = {\\n    \\\"N\\\": 0,\\n    \\\"Y\\\": 1,\\n}\\ndata['LowDoc'] = data[\\\"LowDoc\\\"].map(LowDoc_map, na_action=\\\"ignore\\\")\\ndata['LowDoc'].value_counts(dropna=False)\";\n",
       "                var nbb_formatted_code = \"# clean LowDoc. Lot's of Na's\\n# y = yes, n = no\\ndata[\\\"LowDoc\\\"].isna().sum()\\ndata[\\\"LowDoc\\\"].value_counts(dropna=False)\\n# more nonsense, awesome\\nLowDoc_map = {\\n    \\\"N\\\": 0,\\n    \\\"Y\\\": 1,\\n}\\ndata[\\\"LowDoc\\\"] = data[\\\"LowDoc\\\"].map(LowDoc_map, na_action=\\\"ignore\\\")\\ndata[\\\"LowDoc\\\"].value_counts(dropna=False)\";\n",
       "                var nbb_cells = Jupyter.notebook.get_cells();\n",
       "                for (var i = 0; i < nbb_cells.length; ++i) {\n",
       "                    if (nbb_cells[i].input_prompt_number == nbb_cell_id) {\n",
       "                        if (nbb_cells[i].get_text() == nbb_unformatted_code) {\n",
       "                             nbb_cells[i].set_text(nbb_formatted_code);\n",
       "                        }\n",
       "                        break;\n",
       "                    }\n",
       "                }\n",
       "            }, 500);\n",
       "            "
      ],
      "text/plain": [
       "<IPython.core.display.Javascript object>"
      ]
     },
     "metadata": {},
     "output_type": "display_data"
    }
   ],
   "source": [
    "# clean LowDoc. Lot's of Na's\n",
    "# y = yes, n = no\n",
    "data[\"LowDoc\"].isna().sum()\n",
    "data[\"LowDoc\"].value_counts(dropna=False)\n",
    "# more nonsense, awesome\n",
    "LowDoc_map = {\n",
    "    \"N\": 0,\n",
    "    \"Y\": 1,\n",
    "}\n",
    "data['LowDoc'] = data[\"LowDoc\"].map(LowDoc_map, na_action=\"ignore\")\n",
    "data['LowDoc'].value_counts(dropna=False)\n"
   ]
  },
  {
   "cell_type": "code",
   "execution_count": 17,
   "metadata": {},
   "outputs": [
    {
     "data": {
      "application/javascript": [
       "\n",
       "            setTimeout(function() {\n",
       "                var nbb_cell_id = 17;\n",
       "                var nbb_unformatted_code = \"# getting into dates, so I went ahead and selected my years.\\n# This will cut down on NA's and errant values\\n\\ndata = data.loc[\\n    data[\\\"ApprovalDate_datetime\\\"].dt.year < 2020,\\n]\\ndata = data.loc[data[\\\"ApprovalDate_datetime\\\"].dt.year > 2000]\";\n",
       "                var nbb_formatted_code = \"# getting into dates, so I went ahead and selected my years.\\n# This will cut down on NA's and errant values\\n\\ndata = data.loc[\\n    data[\\\"ApprovalDate_datetime\\\"].dt.year < 2020,\\n]\\ndata = data.loc[data[\\\"ApprovalDate_datetime\\\"].dt.year > 2000]\";\n",
       "                var nbb_cells = Jupyter.notebook.get_cells();\n",
       "                for (var i = 0; i < nbb_cells.length; ++i) {\n",
       "                    if (nbb_cells[i].input_prompt_number == nbb_cell_id) {\n",
       "                        if (nbb_cells[i].get_text() == nbb_unformatted_code) {\n",
       "                             nbb_cells[i].set_text(nbb_formatted_code);\n",
       "                        }\n",
       "                        break;\n",
       "                    }\n",
       "                }\n",
       "            }, 500);\n",
       "            "
      ],
      "text/plain": [
       "<IPython.core.display.Javascript object>"
      ]
     },
     "metadata": {},
     "output_type": "display_data"
    }
   ],
   "source": [
    "# getting into dates, so I went ahead and selected my years.\n",
    "# This will cut down on NA's and errant values\n",
    "\n",
    "data = data.loc[\n",
    "    data[\"ApprovalDate_datetime\"].dt.year < 2020,\n",
    "]\n",
    "data = data.loc[data[\"ApprovalDate_datetime\"].dt.year > 2000]"
   ]
  },
  {
   "cell_type": "code",
   "execution_count": 18,
   "metadata": {},
   "outputs": [
    {
     "data": {
      "application/javascript": [
       "\n",
       "            setTimeout(function() {\n",
       "                var nbb_cell_id = 18;\n",
       "                var nbb_unformatted_code = \"# Disbursement Date\\n# Converted to datetime. Extrcated year.\\n# converted month to cyclical feature with a unit circle transform\\n# may want to keep this in mind for scaling\\n# http://blog.davidkaleko.com/feature-engineering-cyclical-features.html\\n\\ndata[\\\"DisbursementDate\\\"].isna().sum()\\ndata.loc[data[\\\"DisbursementDate\\\"].isna()]\\ndata[\\\"DisbursementDate\\\"] = data[\\\"DisbursementDate\\\"].fillna(data[\\\"ApprovalDate\\\"])\\n\\ndata[\\\"Disbr_datetime\\\"] = pd.to_datetime(data[\\\"DisbursementDate\\\"])\\n\\n# cuts dout about 300k rows\\ndata = data.loc[data[\\\"Disbr_datetime\\\"].dt.year.isin(np.arange(2000, 2020, 1))]\\ndata[\\\"Disbr_datetime\\\"].dt.year.describe()\\n# # note the 2069 jumping out again. Just going to ignore it,\\n# # because it is from a time we don't care about\\ndata[\\\"Disbr_year\\\"] = data[\\\"Disbr_datetime\\\"].dt.year\\ndata[\\\"Disbr_month\\\"] = data[\\\"Disbr_datetime\\\"].dt.month - 1\\ndata[\\\"Disbr_Month_sin\\\"] = np.sin((data[\\\"Disbr_month\\\"]) * (2.0 * np.pi / 12))\\ndata[\\\"Disbr_Month_cos\\\"] = np.cos((data[\\\"Disbr_month\\\"]) * (2.0 * np.pi / 12))\";\n",
       "                var nbb_formatted_code = \"# Disbursement Date\\n# Converted to datetime. Extrcated year.\\n# converted month to cyclical feature with a unit circle transform\\n# may want to keep this in mind for scaling\\n# http://blog.davidkaleko.com/feature-engineering-cyclical-features.html\\n\\ndata[\\\"DisbursementDate\\\"].isna().sum()\\ndata.loc[data[\\\"DisbursementDate\\\"].isna()]\\ndata[\\\"DisbursementDate\\\"] = data[\\\"DisbursementDate\\\"].fillna(data[\\\"ApprovalDate\\\"])\\n\\ndata[\\\"Disbr_datetime\\\"] = pd.to_datetime(data[\\\"DisbursementDate\\\"])\\n\\n# cuts dout about 300k rows\\ndata = data.loc[data[\\\"Disbr_datetime\\\"].dt.year.isin(np.arange(2000, 2020, 1))]\\ndata[\\\"Disbr_datetime\\\"].dt.year.describe()\\n# # note the 2069 jumping out again. Just going to ignore it,\\n# # because it is from a time we don't care about\\ndata[\\\"Disbr_year\\\"] = data[\\\"Disbr_datetime\\\"].dt.year\\ndata[\\\"Disbr_month\\\"] = data[\\\"Disbr_datetime\\\"].dt.month - 1\\ndata[\\\"Disbr_Month_sin\\\"] = np.sin((data[\\\"Disbr_month\\\"]) * (2.0 * np.pi / 12))\\ndata[\\\"Disbr_Month_cos\\\"] = np.cos((data[\\\"Disbr_month\\\"]) * (2.0 * np.pi / 12))\";\n",
       "                var nbb_cells = Jupyter.notebook.get_cells();\n",
       "                for (var i = 0; i < nbb_cells.length; ++i) {\n",
       "                    if (nbb_cells[i].input_prompt_number == nbb_cell_id) {\n",
       "                        if (nbb_cells[i].get_text() == nbb_unformatted_code) {\n",
       "                             nbb_cells[i].set_text(nbb_formatted_code);\n",
       "                        }\n",
       "                        break;\n",
       "                    }\n",
       "                }\n",
       "            }, 500);\n",
       "            "
      ],
      "text/plain": [
       "<IPython.core.display.Javascript object>"
      ]
     },
     "metadata": {},
     "output_type": "display_data"
    }
   ],
   "source": [
    "# Disbursement Date\n",
    "# Converted to datetime. Extrcated year.\n",
    "# converted month to cyclical feature with a unit circle transform\n",
    "# may want to keep this in mind for scaling\n",
    "# http://blog.davidkaleko.com/feature-engineering-cyclical-features.html\n",
    "\n",
    "data[\"DisbursementDate\"].isna().sum()\n",
    "data.loc[data[\"DisbursementDate\"].isna()]\n",
    "data[\"DisbursementDate\"] = data[\"DisbursementDate\"].fillna(data[\"ApprovalDate\"])\n",
    "\n",
    "data[\"Disbr_datetime\"] = pd.to_datetime(data[\"DisbursementDate\"])\n",
    "\n",
    "# cuts dout about 300k rows\n",
    "data = data.loc[data[\"Disbr_datetime\"].dt.year.isin(np.arange(2000, 2020, 1))]\n",
    "data[\"Disbr_datetime\"].dt.year.describe()\n",
    "# # note the 2069 jumping out again. Just going to ignore it,\n",
    "# # because it is from a time we don't care about\n",
    "data[\"Disbr_year\"] = data[\"Disbr_datetime\"].dt.year\n",
    "data[\"Disbr_month\"] = data[\"Disbr_datetime\"].dt.month - 1\n",
    "data[\"Disbr_Month_sin\"] = np.sin((data[\"Disbr_month\"]) * (2.0 * np.pi / 12))\n",
    "data[\"Disbr_Month_cos\"] = np.cos((data[\"Disbr_month\"]) * (2.0 * np.pi / 12))"
   ]
  },
  {
   "cell_type": "code",
   "execution_count": 19,
   "metadata": {},
   "outputs": [
    {
     "data": {
      "text/plain": [
       "1.0    505565\n",
       "0.0     17017\n",
       "Name: sba_pre_approv, dtype: int64"
      ]
     },
     "execution_count": 19,
     "metadata": {},
     "output_type": "execute_result"
    },
    {
     "data": {
      "application/javascript": [
       "\n",
       "            setTimeout(function() {\n",
       "                var nbb_cell_id = 19;\n",
       "                var nbb_unformatted_code = \"# make a feature identifying if SBA approval was given before or after loan disbursed\\n\\ndata[\\\"time_to_disbr\\\"] = data[\\\"Disbr_datetime\\\"] - data[\\\"ApprovalDate_datetime\\\"]\\n\\nsba_pre_approved = data[\\\"time_to_disbr\\\"] > np.timedelta64(0, \\\"D\\\")\\nsba_pre_approved.value_counts(dropna=False)\\ndata.loc[sba_pre_approved, \\\"sba_pre_approv\\\"] = 1\\ndata.loc[~sba_pre_approved, \\\"sba_pre_approv\\\"] = 0\\ndata[\\\"sba_pre_approv\\\"].value_counts(dropna=False)\";\n",
       "                var nbb_formatted_code = \"# make a feature identifying if SBA approval was given before or after loan disbursed\\n\\ndata[\\\"time_to_disbr\\\"] = data[\\\"Disbr_datetime\\\"] - data[\\\"ApprovalDate_datetime\\\"]\\n\\nsba_pre_approved = data[\\\"time_to_disbr\\\"] > np.timedelta64(0, \\\"D\\\")\\nsba_pre_approved.value_counts(dropna=False)\\ndata.loc[sba_pre_approved, \\\"sba_pre_approv\\\"] = 1\\ndata.loc[~sba_pre_approved, \\\"sba_pre_approv\\\"] = 0\\ndata[\\\"sba_pre_approv\\\"].value_counts(dropna=False)\";\n",
       "                var nbb_cells = Jupyter.notebook.get_cells();\n",
       "                for (var i = 0; i < nbb_cells.length; ++i) {\n",
       "                    if (nbb_cells[i].input_prompt_number == nbb_cell_id) {\n",
       "                        if (nbb_cells[i].get_text() == nbb_unformatted_code) {\n",
       "                             nbb_cells[i].set_text(nbb_formatted_code);\n",
       "                        }\n",
       "                        break;\n",
       "                    }\n",
       "                }\n",
       "            }, 500);\n",
       "            "
      ],
      "text/plain": [
       "<IPython.core.display.Javascript object>"
      ]
     },
     "metadata": {},
     "output_type": "display_data"
    }
   ],
   "source": [
    "# make a feature identifying if SBA approval was given before or after loan disbursed\n",
    "\n",
    "data[\"time_to_disbr\"] = data[\"Disbr_datetime\"] - data[\"ApprovalDate_datetime\"]\n",
    "\n",
    "sba_pre_approved = data[\"time_to_disbr\"] > np.timedelta64(0, \"D\")\n",
    "sba_pre_approved.value_counts(dropna=False)\n",
    "data.loc[sba_pre_approved, \"sba_pre_approv\"] = 1\n",
    "data.loc[~sba_pre_approved, \"sba_pre_approv\"] = 0\n",
    "data[\"sba_pre_approv\"].value_counts(dropna=False)"
   ]
  },
  {
   "cell_type": "code",
   "execution_count": 20,
   "metadata": {},
   "outputs": [
    {
     "data": {
      "application/javascript": [
       "\n",
       "            setTimeout(function() {\n",
       "                var nbb_cell_id = 20;\n",
       "                var nbb_unformatted_code = \"data[\\\"DisbursementGross\\\"].isna().sum()\\ndata[\\\"DisbursementGross\\\"] = data[\\\"DisbursementGross\\\"].str.replace(\\\"$\\\", \\\"\\\")\\ndata[\\\"DisbursementGross\\\"] = data[\\\"DisbursementGross\\\"].str.replace(\\\",\\\", \\\"\\\")\\ndata[\\\"DisbursementGross\\\"] = data[\\\"DisbursementGross\\\"].astype(float)\";\n",
       "                var nbb_formatted_code = \"data[\\\"DisbursementGross\\\"].isna().sum()\\ndata[\\\"DisbursementGross\\\"] = data[\\\"DisbursementGross\\\"].str.replace(\\\"$\\\", \\\"\\\")\\ndata[\\\"DisbursementGross\\\"] = data[\\\"DisbursementGross\\\"].str.replace(\\\",\\\", \\\"\\\")\\ndata[\\\"DisbursementGross\\\"] = data[\\\"DisbursementGross\\\"].astype(float)\";\n",
       "                var nbb_cells = Jupyter.notebook.get_cells();\n",
       "                for (var i = 0; i < nbb_cells.length; ++i) {\n",
       "                    if (nbb_cells[i].input_prompt_number == nbb_cell_id) {\n",
       "                        if (nbb_cells[i].get_text() == nbb_unformatted_code) {\n",
       "                             nbb_cells[i].set_text(nbb_formatted_code);\n",
       "                        }\n",
       "                        break;\n",
       "                    }\n",
       "                }\n",
       "            }, 500);\n",
       "            "
      ],
      "text/plain": [
       "<IPython.core.display.Javascript object>"
      ]
     },
     "metadata": {},
     "output_type": "display_data"
    }
   ],
   "source": [
    "data[\"DisbursementGross\"].isna().sum()\n",
    "data[\"DisbursementGross\"] = data[\"DisbursementGross\"].str.replace(\"$\", \"\")\n",
    "data[\"DisbursementGross\"] = data[\"DisbursementGross\"].str.replace(\",\", \"\")\n",
    "data[\"DisbursementGross\"] = data[\"DisbursementGross\"].astype(float)"
   ]
  },
  {
   "cell_type": "code",
   "execution_count": 21,
   "metadata": {},
   "outputs": [
    {
     "data": {
      "application/javascript": [
       "\n",
       "            setTimeout(function() {\n",
       "                var nbb_cell_id = 21;\n",
       "                var nbb_unformatted_code = \"data[\\\"BalanceGross\\\"].isna().sum()\\n# data[\\\"BalanceGross\\\"].value_counts()\\ndata[\\\"BalanceGross\\\"] = data[\\\"BalanceGross\\\"].str.replace(\\\"$\\\", \\\"\\\")\\ndata[\\\"BalanceGross\\\"] = data[\\\"BalanceGross\\\"].str.replace(\\\",\\\", \\\"\\\")\\ndata[\\\"BalanceGross\\\"] = data[\\\"BalanceGross\\\"].astype(float)\";\n",
       "                var nbb_formatted_code = \"data[\\\"BalanceGross\\\"].isna().sum()\\n# data[\\\"BalanceGross\\\"].value_counts()\\ndata[\\\"BalanceGross\\\"] = data[\\\"BalanceGross\\\"].str.replace(\\\"$\\\", \\\"\\\")\\ndata[\\\"BalanceGross\\\"] = data[\\\"BalanceGross\\\"].str.replace(\\\",\\\", \\\"\\\")\\ndata[\\\"BalanceGross\\\"] = data[\\\"BalanceGross\\\"].astype(float)\";\n",
       "                var nbb_cells = Jupyter.notebook.get_cells();\n",
       "                for (var i = 0; i < nbb_cells.length; ++i) {\n",
       "                    if (nbb_cells[i].input_prompt_number == nbb_cell_id) {\n",
       "                        if (nbb_cells[i].get_text() == nbb_unformatted_code) {\n",
       "                             nbb_cells[i].set_text(nbb_formatted_code);\n",
       "                        }\n",
       "                        break;\n",
       "                    }\n",
       "                }\n",
       "            }, 500);\n",
       "            "
      ],
      "text/plain": [
       "<IPython.core.display.Javascript object>"
      ]
     },
     "metadata": {},
     "output_type": "display_data"
    }
   ],
   "source": [
    "data[\"BalanceGross\"].isna().sum()\n",
    "# data[\"BalanceGross\"].value_counts()\n",
    "data[\"BalanceGross\"] = data[\"BalanceGross\"].str.replace(\"$\", \"\")\n",
    "data[\"BalanceGross\"] = data[\"BalanceGross\"].str.replace(\",\", \"\")\n",
    "data[\"BalanceGross\"] = data[\"BalanceGross\"].astype(float)"
   ]
  },
  {
   "cell_type": "code",
   "execution_count": 22,
   "metadata": {},
   "outputs": [
    {
     "data": {
      "application/javascript": [
       "\n",
       "            setTimeout(function() {\n",
       "                var nbb_cell_id = 22;\n",
       "                var nbb_unformatted_code = \"# clean ChgOffPrinGr\\n\\ndata[\\\"ChgOffPrinGr\\\"].isna().sum()\\ndata[\\\"ChgOffPrinGr\\\"].value_counts()\\ndata[\\\"ChgOffPrinGr\\\"] = data[\\\"ChgOffPrinGr\\\"].str.replace(\\\"$\\\", \\\"\\\")\\ndata[\\\"ChgOffPrinGr\\\"] = data[\\\"ChgOffPrinGr\\\"].str.replace(\\\",\\\", \\\"\\\")\\ndata[\\\"ChgOffPrinGr\\\"] = data[\\\"ChgOffPrinGr\\\"].astype(float)\";\n",
       "                var nbb_formatted_code = \"# clean ChgOffPrinGr\\n\\ndata[\\\"ChgOffPrinGr\\\"].isna().sum()\\ndata[\\\"ChgOffPrinGr\\\"].value_counts()\\ndata[\\\"ChgOffPrinGr\\\"] = data[\\\"ChgOffPrinGr\\\"].str.replace(\\\"$\\\", \\\"\\\")\\ndata[\\\"ChgOffPrinGr\\\"] = data[\\\"ChgOffPrinGr\\\"].str.replace(\\\",\\\", \\\"\\\")\\ndata[\\\"ChgOffPrinGr\\\"] = data[\\\"ChgOffPrinGr\\\"].astype(float)\";\n",
       "                var nbb_cells = Jupyter.notebook.get_cells();\n",
       "                for (var i = 0; i < nbb_cells.length; ++i) {\n",
       "                    if (nbb_cells[i].input_prompt_number == nbb_cell_id) {\n",
       "                        if (nbb_cells[i].get_text() == nbb_unformatted_code) {\n",
       "                             nbb_cells[i].set_text(nbb_formatted_code);\n",
       "                        }\n",
       "                        break;\n",
       "                    }\n",
       "                }\n",
       "            }, 500);\n",
       "            "
      ],
      "text/plain": [
       "<IPython.core.display.Javascript object>"
      ]
     },
     "metadata": {},
     "output_type": "display_data"
    }
   ],
   "source": [
    "# clean ChgOffPrinGr\n",
    "\n",
    "data[\"ChgOffPrinGr\"].isna().sum()\n",
    "data[\"ChgOffPrinGr\"].value_counts()\n",
    "data[\"ChgOffPrinGr\"] = data[\"ChgOffPrinGr\"].str.replace(\"$\", \"\")\n",
    "data[\"ChgOffPrinGr\"] = data[\"ChgOffPrinGr\"].str.replace(\",\", \"\")\n",
    "data[\"ChgOffPrinGr\"] = data[\"ChgOffPrinGr\"].astype(float)"
   ]
  },
  {
   "cell_type": "code",
   "execution_count": 23,
   "metadata": {},
   "outputs": [
    {
     "data": {
      "application/javascript": [
       "\n",
       "            setTimeout(function() {\n",
       "                var nbb_cell_id = 23;\n",
       "                var nbb_unformatted_code = \"# cleaned grappv\\ndata[\\\"GrAppv\\\"].isna().sum()\\ndata[\\\"GrAppv\\\"] = data[\\\"GrAppv\\\"].str.replace(\\\"$\\\", \\\"\\\")\\ndata[\\\"GrAppv\\\"] = data[\\\"GrAppv\\\"].str.replace(\\\",\\\", \\\"\\\")\\ndata[\\\"GrAppv\\\"] = data[\\\"GrAppv\\\"].astype(float)\";\n",
       "                var nbb_formatted_code = \"# cleaned grappv\\ndata[\\\"GrAppv\\\"].isna().sum()\\ndata[\\\"GrAppv\\\"] = data[\\\"GrAppv\\\"].str.replace(\\\"$\\\", \\\"\\\")\\ndata[\\\"GrAppv\\\"] = data[\\\"GrAppv\\\"].str.replace(\\\",\\\", \\\"\\\")\\ndata[\\\"GrAppv\\\"] = data[\\\"GrAppv\\\"].astype(float)\";\n",
       "                var nbb_cells = Jupyter.notebook.get_cells();\n",
       "                for (var i = 0; i < nbb_cells.length; ++i) {\n",
       "                    if (nbb_cells[i].input_prompt_number == nbb_cell_id) {\n",
       "                        if (nbb_cells[i].get_text() == nbb_unformatted_code) {\n",
       "                             nbb_cells[i].set_text(nbb_formatted_code);\n",
       "                        }\n",
       "                        break;\n",
       "                    }\n",
       "                }\n",
       "            }, 500);\n",
       "            "
      ],
      "text/plain": [
       "<IPython.core.display.Javascript object>"
      ]
     },
     "metadata": {},
     "output_type": "display_data"
    }
   ],
   "source": [
    "# cleaned grappv\n",
    "data[\"GrAppv\"].isna().sum()\n",
    "data[\"GrAppv\"] = data[\"GrAppv\"].str.replace(\"$\", \"\")\n",
    "data[\"GrAppv\"] = data[\"GrAppv\"].str.replace(\",\", \"\")\n",
    "data[\"GrAppv\"] = data[\"GrAppv\"].astype(float)"
   ]
  },
  {
   "cell_type": "code",
   "execution_count": 24,
   "metadata": {},
   "outputs": [
    {
     "data": {
      "application/javascript": [
       "\n",
       "            setTimeout(function() {\n",
       "                var nbb_cell_id = 24;\n",
       "                var nbb_unformatted_code = \"# clean SBA_Appv\\n\\ndata[\\\"SBA_Appv\\\"].isna().sum()\\ndata[\\\"SBA_Appv\\\"].value_counts()\\n\\ndata[\\\"SBA_Appv\\\"] = data[\\\"SBA_Appv\\\"].str.replace(\\\"$\\\", \\\"\\\")\\ndata[\\\"SBA_Appv\\\"] = data[\\\"SBA_Appv\\\"].str.replace(\\\",\\\", \\\"\\\")\\ndata[\\\"SBA_Appv\\\"] = data[\\\"SBA_Appv\\\"].astype(float)\";\n",
       "                var nbb_formatted_code = \"# clean SBA_Appv\\n\\ndata[\\\"SBA_Appv\\\"].isna().sum()\\ndata[\\\"SBA_Appv\\\"].value_counts()\\n\\ndata[\\\"SBA_Appv\\\"] = data[\\\"SBA_Appv\\\"].str.replace(\\\"$\\\", \\\"\\\")\\ndata[\\\"SBA_Appv\\\"] = data[\\\"SBA_Appv\\\"].str.replace(\\\",\\\", \\\"\\\")\\ndata[\\\"SBA_Appv\\\"] = data[\\\"SBA_Appv\\\"].astype(float)\";\n",
       "                var nbb_cells = Jupyter.notebook.get_cells();\n",
       "                for (var i = 0; i < nbb_cells.length; ++i) {\n",
       "                    if (nbb_cells[i].input_prompt_number == nbb_cell_id) {\n",
       "                        if (nbb_cells[i].get_text() == nbb_unformatted_code) {\n",
       "                             nbb_cells[i].set_text(nbb_formatted_code);\n",
       "                        }\n",
       "                        break;\n",
       "                    }\n",
       "                }\n",
       "            }, 500);\n",
       "            "
      ],
      "text/plain": [
       "<IPython.core.display.Javascript object>"
      ]
     },
     "metadata": {},
     "output_type": "display_data"
    }
   ],
   "source": [
    "# clean SBA_Appv\n",
    "\n",
    "data[\"SBA_Appv\"].isna().sum()\n",
    "data[\"SBA_Appv\"].value_counts()\n",
    "\n",
    "data[\"SBA_Appv\"] = data[\"SBA_Appv\"].str.replace(\"$\", \"\")\n",
    "data[\"SBA_Appv\"] = data[\"SBA_Appv\"].str.replace(\",\", \"\")\n",
    "data[\"SBA_Appv\"] = data[\"SBA_Appv\"].astype(float)"
   ]
  },
  {
   "cell_type": "code",
   "execution_count": 25,
   "metadata": {},
   "outputs": [
    {
     "data": {
      "text/plain": [
       "count    522582.000000\n",
       "mean          0.641991\n",
       "std           0.173797\n",
       "min           0.050000\n",
       "25%           0.500000\n",
       "50%           0.500000\n",
       "75%           0.850000\n",
       "max           1.000000\n",
       "Name: percent_SBA, dtype: float64"
      ]
     },
     "execution_count": 25,
     "metadata": {},
     "output_type": "execute_result"
    },
    {
     "data": {
      "application/javascript": [
       "\n",
       "            setTimeout(function() {\n",
       "                var nbb_cell_id = 25;\n",
       "                var nbb_unformatted_code = \"data[\\\"percent_SBA\\\"] = data[\\\"SBA_Appv\\\"] / data[\\\"GrAppv\\\"]\\ndata[\\\"percent_SBA\\\"].describe()\";\n",
       "                var nbb_formatted_code = \"data[\\\"percent_SBA\\\"] = data[\\\"SBA_Appv\\\"] / data[\\\"GrAppv\\\"]\\ndata[\\\"percent_SBA\\\"].describe()\";\n",
       "                var nbb_cells = Jupyter.notebook.get_cells();\n",
       "                for (var i = 0; i < nbb_cells.length; ++i) {\n",
       "                    if (nbb_cells[i].input_prompt_number == nbb_cell_id) {\n",
       "                        if (nbb_cells[i].get_text() == nbb_unformatted_code) {\n",
       "                             nbb_cells[i].set_text(nbb_formatted_code);\n",
       "                        }\n",
       "                        break;\n",
       "                    }\n",
       "                }\n",
       "            }, 500);\n",
       "            "
      ],
      "text/plain": [
       "<IPython.core.display.Javascript object>"
      ]
     },
     "metadata": {},
     "output_type": "display_data"
    }
   ],
   "source": [
    "data[\"percent_SBA\"] = data[\"SBA_Appv\"] / data[\"GrAppv\"]\n",
    "data[\"percent_SBA\"].describe()"
   ]
  },
  {
   "cell_type": "code",
   "execution_count": 26,
   "metadata": {},
   "outputs": [
    {
     "data": {
      "text/plain": [
       "0    390973\n",
       "1    129981\n",
       "Name: MIS_Status, dtype: int64"
      ]
     },
     "execution_count": 26,
     "metadata": {},
     "output_type": "execute_result"
    },
    {
     "data": {
      "application/javascript": [
       "\n",
       "            setTimeout(function() {\n",
       "                var nbb_cell_id = 26;\n",
       "                var nbb_unformatted_code = \"data = data.loc[data[\\\"MIS_Status\\\"].notna()]\\nMIS_Status_map = {\\\"P I F\\\": 0, \\\"CHGOFF\\\": 1, 0: 0, 1: 1}\\n\\ndata[\\\"MIS_Status\\\"] = data[\\\"MIS_Status\\\"].map(MIS_Status_map, na_action=\\\"ignore\\\")\\ndata[\\\"MIS_Status\\\"].value_counts(dropna=False)\";\n",
       "                var nbb_formatted_code = \"data = data.loc[data[\\\"MIS_Status\\\"].notna()]\\nMIS_Status_map = {\\\"P I F\\\": 0, \\\"CHGOFF\\\": 1, 0: 0, 1: 1}\\n\\ndata[\\\"MIS_Status\\\"] = data[\\\"MIS_Status\\\"].map(MIS_Status_map, na_action=\\\"ignore\\\")\\ndata[\\\"MIS_Status\\\"].value_counts(dropna=False)\";\n",
       "                var nbb_cells = Jupyter.notebook.get_cells();\n",
       "                for (var i = 0; i < nbb_cells.length; ++i) {\n",
       "                    if (nbb_cells[i].input_prompt_number == nbb_cell_id) {\n",
       "                        if (nbb_cells[i].get_text() == nbb_unformatted_code) {\n",
       "                             nbb_cells[i].set_text(nbb_formatted_code);\n",
       "                        }\n",
       "                        break;\n",
       "                    }\n",
       "                }\n",
       "            }, 500);\n",
       "            "
      ],
      "text/plain": [
       "<IPython.core.display.Javascript object>"
      ]
     },
     "metadata": {},
     "output_type": "display_data"
    }
   ],
   "source": [
    "data = data.loc[data[\"MIS_Status\"].notna()]\n",
    "MIS_Status_map = {\"P I F\": 0, \"CHGOFF\": 1, 0: 0, 1: 1}\n",
    "\n",
    "data[\"MIS_Status\"] = data[\"MIS_Status\"].map(MIS_Status_map, na_action=\"ignore\")\n",
    "data[\"MIS_Status\"].value_counts(dropna=False)"
   ]
  },
  {
   "cell_type": "code",
   "execution_count": 27,
   "metadata": {},
   "outputs": [
    {
     "data": {
      "application/javascript": [
       "\n",
       "            setTimeout(function() {\n",
       "                var nbb_cell_id = 27;\n",
       "                var nbb_unformatted_code = \"banks = data[\\\"Bank\\\"].value_counts()\\n\\nbig_banks = banks.loc[banks.values >= 1000].index.to_list()\\n\\nmed_banks = banks.loc[banks.values >= 100]\\nmed_banks = med_banks.loc[med_banks.values < 1000]\\nmed_banks = med_banks.index.to_list()\\n\\nsmall_banks = banks.loc[banks.values < 100].index.to_list()\\n\\ndata.loc[data[\\\"Bank\\\"].isin(small_banks), \\\"bank_size\\\"] = 0\\ndata.loc[data[\\\"Bank\\\"].isin(med_banks), \\\"bank_size\\\"] = 1\\ndata.loc[data[\\\"Bank\\\"].isin(big_banks), \\\"bank_size\\\"] = 2\";\n",
       "                var nbb_formatted_code = \"banks = data[\\\"Bank\\\"].value_counts()\\n\\nbig_banks = banks.loc[banks.values >= 1000].index.to_list()\\n\\nmed_banks = banks.loc[banks.values >= 100]\\nmed_banks = med_banks.loc[med_banks.values < 1000]\\nmed_banks = med_banks.index.to_list()\\n\\nsmall_banks = banks.loc[banks.values < 100].index.to_list()\\n\\ndata.loc[data[\\\"Bank\\\"].isin(small_banks), \\\"bank_size\\\"] = 0\\ndata.loc[data[\\\"Bank\\\"].isin(med_banks), \\\"bank_size\\\"] = 1\\ndata.loc[data[\\\"Bank\\\"].isin(big_banks), \\\"bank_size\\\"] = 2\";\n",
       "                var nbb_cells = Jupyter.notebook.get_cells();\n",
       "                for (var i = 0; i < nbb_cells.length; ++i) {\n",
       "                    if (nbb_cells[i].input_prompt_number == nbb_cell_id) {\n",
       "                        if (nbb_cells[i].get_text() == nbb_unformatted_code) {\n",
       "                             nbb_cells[i].set_text(nbb_formatted_code);\n",
       "                        }\n",
       "                        break;\n",
       "                    }\n",
       "                }\n",
       "            }, 500);\n",
       "            "
      ],
      "text/plain": [
       "<IPython.core.display.Javascript object>"
      ]
     },
     "metadata": {},
     "output_type": "display_data"
    }
   ],
   "source": [
    "banks = data[\"Bank\"].value_counts()\n",
    "\n",
    "big_banks = banks.loc[banks.values >= 1000].index.to_list()\n",
    "\n",
    "med_banks = banks.loc[banks.values >= 100]\n",
    "med_banks = med_banks.loc[med_banks.values < 1000]\n",
    "med_banks = med_banks.index.to_list()\n",
    "\n",
    "small_banks = banks.loc[banks.values < 100].index.to_list()\n",
    "\n",
    "data.loc[data[\"Bank\"].isin(small_banks), \"bank_size\"] = 0\n",
    "data.loc[data[\"Bank\"].isin(med_banks), \"bank_size\"] = 1\n",
    "data.loc[data[\"Bank\"].isin(big_banks), \"bank_size\"] = 2\n"
   ]
  },
  {
   "cell_type": "code",
   "execution_count": 28,
   "metadata": {},
   "outputs": [
    {
     "data": {
      "application/javascript": [
       "\n",
       "            setTimeout(function() {\n",
       "                var nbb_cell_id = 28;\n",
       "                var nbb_unformatted_code = \"# data[\\\"Approval_Year\\\"] = data[\\\"ApprovalDate_datetime\\\"].dt.year\\n# ApprvFY moe informative, but want the months\\ndata[\\\"Approval_Month\\\"] = data[\\\"ApprovalDate_datetime\\\"].dt.month - 1\\ndata[\\\"Appv_Month_sin\\\"] = np.sin((data[\\\"Approval_Month\\\"]) * (2.0 * np.pi / 12))\\ndata[\\\"Appv_Month_cos\\\"] = np.cos((data[\\\"Approval_Month\\\"]) * (2.0 * np.pi / 12))\";\n",
       "                var nbb_formatted_code = \"# data[\\\"Approval_Year\\\"] = data[\\\"ApprovalDate_datetime\\\"].dt.year\\n# ApprvFY moe informative, but want the months\\ndata[\\\"Approval_Month\\\"] = data[\\\"ApprovalDate_datetime\\\"].dt.month - 1\\ndata[\\\"Appv_Month_sin\\\"] = np.sin((data[\\\"Approval_Month\\\"]) * (2.0 * np.pi / 12))\\ndata[\\\"Appv_Month_cos\\\"] = np.cos((data[\\\"Approval_Month\\\"]) * (2.0 * np.pi / 12))\";\n",
       "                var nbb_cells = Jupyter.notebook.get_cells();\n",
       "                for (var i = 0; i < nbb_cells.length; ++i) {\n",
       "                    if (nbb_cells[i].input_prompt_number == nbb_cell_id) {\n",
       "                        if (nbb_cells[i].get_text() == nbb_unformatted_code) {\n",
       "                             nbb_cells[i].set_text(nbb_formatted_code);\n",
       "                        }\n",
       "                        break;\n",
       "                    }\n",
       "                }\n",
       "            }, 500);\n",
       "            "
      ],
      "text/plain": [
       "<IPython.core.display.Javascript object>"
      ]
     },
     "metadata": {},
     "output_type": "display_data"
    }
   ],
   "source": [
    "# data[\"Approval_Year\"] = data[\"ApprovalDate_datetime\"].dt.year\n",
    "# ApprvFY moe informative, but want the months\n",
    "data[\"Approval_Month\"] = data[\"ApprovalDate_datetime\"].dt.month - 1\n",
    "data[\"Appv_Month_sin\"] = np.sin((data[\"Approval_Month\"]) * (2.0 * np.pi / 12))\n",
    "data[\"Appv_Month_cos\"] = np.cos((data[\"Approval_Month\"]) * (2.0 * np.pi / 12))"
   ]
  },
  {
   "cell_type": "code",
   "execution_count": 29,
   "metadata": {},
   "outputs": [
    {
     "data": {
      "application/javascript": [
       "\n",
       "            setTimeout(function() {\n",
       "                var nbb_cell_id = 29;\n",
       "                var nbb_unformatted_code = \"data = data.dropna(subset=[\\\"RevLineCr\\\", \\\"LowDoc\\\", \\\"UrbanRural_cleaned\\\"])\";\n",
       "                var nbb_formatted_code = \"data = data.dropna(subset=[\\\"RevLineCr\\\", \\\"LowDoc\\\", \\\"UrbanRural_cleaned\\\"])\";\n",
       "                var nbb_cells = Jupyter.notebook.get_cells();\n",
       "                for (var i = 0; i < nbb_cells.length; ++i) {\n",
       "                    if (nbb_cells[i].input_prompt_number == nbb_cell_id) {\n",
       "                        if (nbb_cells[i].get_text() == nbb_unformatted_code) {\n",
       "                             nbb_cells[i].set_text(nbb_formatted_code);\n",
       "                        }\n",
       "                        break;\n",
       "                    }\n",
       "                }\n",
       "            }, 500);\n",
       "            "
      ],
      "text/plain": [
       "<IPython.core.display.Javascript object>"
      ]
     },
     "metadata": {},
     "output_type": "display_data"
    }
   ],
   "source": [
    "data = data.dropna(subset=[\"RevLineCr\", \"LowDoc\", \"UrbanRural_cleaned\"])"
   ]
  },
  {
   "cell_type": "code",
   "execution_count": 30,
   "metadata": {},
   "outputs": [
    {
     "name": "stdout",
     "output_type": "stream",
     "text": [
      "<class 'pandas.core.frame.DataFrame'>\n",
      "Int64Index: 510160 entries, 12 to 894832\n",
      "Data columns (total 45 columns):\n",
      " #   Column                 Non-Null Count   Dtype          \n",
      "---  ------                 --------------   -----          \n",
      " 0   LoanNr_ChkDgt          510160 non-null  int64          \n",
      " 1   Name                   510153 non-null  object         \n",
      " 2   City                   510160 non-null  object         \n",
      " 3   State                  510160 non-null  object         \n",
      " 4   Zip                    510160 non-null  int64          \n",
      " 5   Bank                   510160 non-null  object         \n",
      " 6   BankState              510160 non-null  object         \n",
      " 7   NAICS                  510160 non-null  int64          \n",
      " 8   ApprovalDate           510160 non-null  object         \n",
      " 9   ApprovalFY             510160 non-null  int32          \n",
      " 10  Term                   510160 non-null  int64          \n",
      " 11  NoEmp                  510160 non-null  int64          \n",
      " 12  NewExist               510160 non-null  int64          \n",
      " 13  CreateJob              510160 non-null  int64          \n",
      " 14  RetainedJob            510160 non-null  int64          \n",
      " 15  FranchiseCode          510160 non-null  int64          \n",
      " 16  UrbanRural             510160 non-null  int64          \n",
      " 17  RevLineCr              510160 non-null  float64        \n",
      " 18  LowDoc                 510160 non-null  float64        \n",
      " 19  ChgOffDate             130376 non-null  object         \n",
      " 20  DisbursementDate       510160 non-null  object         \n",
      " 21  DisbursementGross      510160 non-null  float64        \n",
      " 22  BalanceGross           510160 non-null  float64        \n",
      " 23  MIS_Status             510160 non-null  int64          \n",
      " 24  ChgOffPrinGr           510160 non-null  float64        \n",
      " 25  GrAppv                 510160 non-null  float64        \n",
      " 26  SBA_Appv               510160 non-null  float64        \n",
      " 27  twoDigNAICS            510160 non-null  int32          \n",
      " 28  is_franchise           510160 non-null  float64        \n",
      " 29  bank_out_of_state      510160 non-null  int32          \n",
      " 30  ApprovalDate_datetime  510160 non-null  datetime64[ns] \n",
      " 31  Term_years             510160 non-null  float64        \n",
      " 32  UrbanRural_cleaned     510160 non-null  float64        \n",
      " 33  Disbr_datetime         510160 non-null  datetime64[ns] \n",
      " 34  Disbr_year             510160 non-null  int64          \n",
      " 35  Disbr_month            510160 non-null  int64          \n",
      " 36  Disbr_Month_sin        510160 non-null  float64        \n",
      " 37  Disbr_Month_cos        510160 non-null  float64        \n",
      " 38  time_to_disbr          510160 non-null  timedelta64[ns]\n",
      " 39  sba_pre_approv         510160 non-null  float64        \n",
      " 40  percent_SBA            510160 non-null  float64        \n",
      " 41  bank_size              510160 non-null  float64        \n",
      " 42  Approval_Month         510160 non-null  int64          \n",
      " 43  Appv_Month_sin         510160 non-null  float64        \n",
      " 44  Appv_Month_cos         510160 non-null  float64        \n",
      "dtypes: datetime64[ns](2), float64(17), int32(3), int64(14), object(8), timedelta64[ns](1)\n",
      "memory usage: 173.2+ MB\n"
     ]
    },
    {
     "data": {
      "application/javascript": [
       "\n",
       "            setTimeout(function() {\n",
       "                var nbb_cell_id = 30;\n",
       "                var nbb_unformatted_code = \"data.info()\";\n",
       "                var nbb_formatted_code = \"data.info()\";\n",
       "                var nbb_cells = Jupyter.notebook.get_cells();\n",
       "                for (var i = 0; i < nbb_cells.length; ++i) {\n",
       "                    if (nbb_cells[i].input_prompt_number == nbb_cell_id) {\n",
       "                        if (nbb_cells[i].get_text() == nbb_unformatted_code) {\n",
       "                             nbb_cells[i].set_text(nbb_formatted_code);\n",
       "                        }\n",
       "                        break;\n",
       "                    }\n",
       "                }\n",
       "            }, 500);\n",
       "            "
      ],
      "text/plain": [
       "<IPython.core.display.Javascript object>"
      ]
     },
     "metadata": {},
     "output_type": "display_data"
    }
   ],
   "source": [
    "data.info()"
   ]
  },
  {
   "cell_type": "code",
   "execution_count": 31,
   "metadata": {},
   "outputs": [
    {
     "data": {
      "application/javascript": [
       "\n",
       "            setTimeout(function() {\n",
       "                var nbb_cell_id = 31;\n",
       "                var nbb_unformatted_code = \"trash_cols = [\\n    \\\"LoanNr_ChkDgt\\\",\\n    # \\\"Name\\\",\\n    # \\\"City\\\",\\n    # 'Bank State' expect colinearity\\n    # \\\"Zip\\\",  # might be useful, but State should be good enough\\n    \\\"FranchiseCode\\\",  # engineered to is_franchise\\n    \\\"NAICS\\\",\\n    \\\"Term\\\",\\n    #\\\"CreateJob\\\",\\n    #\\\"RetainedJob\\\",\\n    \\\"ChgOffDate\\\",\\n    \\\"DisbursementDate\\\",\\n    \\\"ChgOffPrinGr\\\",  # if this has a value, will give away target\\n    \\\"ApprovalDate\\\",\\n    #\\\"Bank\\\",\\n    \\\"BalanceGross\\\",  # redundant with MIS_Status\\n    \\\"time_to_disbr\\\",  # intermediate variable\\n    \\\"SBA_Appv\\\",  # engineered into percentage sba approved\\n    \\\"UrbanRural\\\",  # cleaned into new column\\n    \\\"GrAppv\\\",  # redundant to Disbursement gross\\n    \\\"ApprovalDate_datetime\\\",\\n    \\\"Approval_Month\\\",  # intermediate\\n    \\\"Disbr_month\\\",  # intermediate\\n    \\\"Disbr_datetime\\\",  # intermediate\\n]\\n\\ndata = data.drop(columns=trash_cols)\";\n",
       "                var nbb_formatted_code = \"trash_cols = [\\n    \\\"LoanNr_ChkDgt\\\",\\n    # \\\"Name\\\",\\n    # \\\"City\\\",\\n    # 'Bank State' expect colinearity\\n    # \\\"Zip\\\",  # might be useful, but State should be good enough\\n    \\\"FranchiseCode\\\",  # engineered to is_franchise\\n    \\\"NAICS\\\",\\n    \\\"Term\\\",\\n    # \\\"CreateJob\\\",\\n    # \\\"RetainedJob\\\",\\n    \\\"ChgOffDate\\\",\\n    \\\"DisbursementDate\\\",\\n    \\\"ChgOffPrinGr\\\",  # if this has a value, will give away target\\n    \\\"ApprovalDate\\\",\\n    # \\\"Bank\\\",\\n    \\\"BalanceGross\\\",  # redundant with MIS_Status\\n    \\\"time_to_disbr\\\",  # intermediate variable\\n    \\\"SBA_Appv\\\",  # engineered into percentage sba approved\\n    \\\"UrbanRural\\\",  # cleaned into new column\\n    \\\"GrAppv\\\",  # redundant to Disbursement gross\\n    \\\"ApprovalDate_datetime\\\",\\n    \\\"Approval_Month\\\",  # intermediate\\n    \\\"Disbr_month\\\",  # intermediate\\n    \\\"Disbr_datetime\\\",  # intermediate\\n]\\n\\ndata = data.drop(columns=trash_cols)\";\n",
       "                var nbb_cells = Jupyter.notebook.get_cells();\n",
       "                for (var i = 0; i < nbb_cells.length; ++i) {\n",
       "                    if (nbb_cells[i].input_prompt_number == nbb_cell_id) {\n",
       "                        if (nbb_cells[i].get_text() == nbb_unformatted_code) {\n",
       "                             nbb_cells[i].set_text(nbb_formatted_code);\n",
       "                        }\n",
       "                        break;\n",
       "                    }\n",
       "                }\n",
       "            }, 500);\n",
       "            "
      ],
      "text/plain": [
       "<IPython.core.display.Javascript object>"
      ]
     },
     "metadata": {},
     "output_type": "display_data"
    }
   ],
   "source": [
    "trash_cols = [\n",
    "    \"LoanNr_ChkDgt\",\n",
    "    # \"Name\",\n",
    "    # \"City\",\n",
    "    # 'Bank State' expect colinearity\n",
    "    # \"Zip\",  # might be useful, but State should be good enough\n",
    "    \"FranchiseCode\",  # engineered to is_franchise\n",
    "    \"NAICS\",\n",
    "    \"Term\",\n",
    "    #\"CreateJob\",\n",
    "    #\"RetainedJob\",\n",
    "    \"ChgOffDate\",\n",
    "    \"DisbursementDate\",\n",
    "    \"ChgOffPrinGr\",  # if this has a value, will give away target\n",
    "    \"ApprovalDate\",\n",
    "    #\"Bank\",\n",
    "    \"BalanceGross\",  # redundant with MIS_Status\n",
    "    \"time_to_disbr\",  # intermediate variable\n",
    "    \"SBA_Appv\",  # engineered into percentage sba approved\n",
    "    \"UrbanRural\",  # cleaned into new column\n",
    "    \"GrAppv\",  # redundant to Disbursement gross\n",
    "    \"ApprovalDate_datetime\",\n",
    "    \"Approval_Month\",  # intermediate\n",
    "    \"Disbr_month\",  # intermediate\n",
    "    \"Disbr_datetime\",  # intermediate\n",
    "]\n",
    "\n",
    "data = data.drop(columns=trash_cols)\n"
   ]
  },
  {
   "cell_type": "code",
   "execution_count": 32,
   "metadata": {},
   "outputs": [
    {
     "name": "stdout",
     "output_type": "stream",
     "text": [
      "<class 'pandas.core.frame.DataFrame'>\n",
      "Int64Index: 510160 entries, 12 to 894832\n",
      "Data columns (total 28 columns):\n",
      " #   Column              Non-Null Count   Dtype  \n",
      "---  ------              --------------   -----  \n",
      " 0   Name                510153 non-null  object \n",
      " 1   City                510160 non-null  object \n",
      " 2   State               510160 non-null  object \n",
      " 3   Zip                 510160 non-null  int64  \n",
      " 4   Bank                510160 non-null  object \n",
      " 5   BankState           510160 non-null  object \n",
      " 6   ApprovalFY          510160 non-null  int32  \n",
      " 7   NoEmp               510160 non-null  int64  \n",
      " 8   NewExist            510160 non-null  int64  \n",
      " 9   CreateJob           510160 non-null  int64  \n",
      " 10  RetainedJob         510160 non-null  int64  \n",
      " 11  RevLineCr           510160 non-null  float64\n",
      " 12  LowDoc              510160 non-null  float64\n",
      " 13  DisbursementGross   510160 non-null  float64\n",
      " 14  MIS_Status          510160 non-null  int64  \n",
      " 15  twoDigNAICS         510160 non-null  int32  \n",
      " 16  is_franchise        510160 non-null  float64\n",
      " 17  bank_out_of_state   510160 non-null  int32  \n",
      " 18  Term_years          510160 non-null  float64\n",
      " 19  UrbanRural_cleaned  510160 non-null  float64\n",
      " 20  Disbr_year          510160 non-null  int64  \n",
      " 21  Disbr_Month_sin     510160 non-null  float64\n",
      " 22  Disbr_Month_cos     510160 non-null  float64\n",
      " 23  sba_pre_approv      510160 non-null  float64\n",
      " 24  percent_SBA         510160 non-null  float64\n",
      " 25  bank_size           510160 non-null  float64\n",
      " 26  Appv_Month_sin      510160 non-null  float64\n",
      " 27  Appv_Month_cos      510160 non-null  float64\n",
      "dtypes: float64(13), int32(3), int64(7), object(5)\n",
      "memory usage: 107.0+ MB\n"
     ]
    },
    {
     "data": {
      "application/javascript": [
       "\n",
       "            setTimeout(function() {\n",
       "                var nbb_cell_id = 32;\n",
       "                var nbb_unformatted_code = \"data.info()\";\n",
       "                var nbb_formatted_code = \"data.info()\";\n",
       "                var nbb_cells = Jupyter.notebook.get_cells();\n",
       "                for (var i = 0; i < nbb_cells.length; ++i) {\n",
       "                    if (nbb_cells[i].input_prompt_number == nbb_cell_id) {\n",
       "                        if (nbb_cells[i].get_text() == nbb_unformatted_code) {\n",
       "                             nbb_cells[i].set_text(nbb_formatted_code);\n",
       "                        }\n",
       "                        break;\n",
       "                    }\n",
       "                }\n",
       "            }, 500);\n",
       "            "
      ],
      "text/plain": [
       "<IPython.core.display.Javascript object>"
      ]
     },
     "metadata": {},
     "output_type": "display_data"
    }
   ],
   "source": [
    "data.info()"
   ]
  },
  {
   "cell_type": "code",
   "execution_count": 33,
   "metadata": {},
   "outputs": [
    {
     "data": {
      "application/javascript": [
       "\n",
       "            setTimeout(function() {\n",
       "                var nbb_cell_id = 33;\n",
       "                var nbb_unformatted_code = \"data.to_csv(\\\"data/SBA_clnd.csv\\\", index=False)\";\n",
       "                var nbb_formatted_code = \"data.to_csv(\\\"data/SBA_clnd.csv\\\", index=False)\";\n",
       "                var nbb_cells = Jupyter.notebook.get_cells();\n",
       "                for (var i = 0; i < nbb_cells.length; ++i) {\n",
       "                    if (nbb_cells[i].input_prompt_number == nbb_cell_id) {\n",
       "                        if (nbb_cells[i].get_text() == nbb_unformatted_code) {\n",
       "                             nbb_cells[i].set_text(nbb_formatted_code);\n",
       "                        }\n",
       "                        break;\n",
       "                    }\n",
       "                }\n",
       "            }, 500);\n",
       "            "
      ],
      "text/plain": [
       "<IPython.core.display.Javascript object>"
      ]
     },
     "metadata": {},
     "output_type": "display_data"
    }
   ],
   "source": [
    "data.to_csv(\"data/SBA_clnd.csv\", index=False)"
   ]
  },
  {
   "cell_type": "code",
   "execution_count": 34,
   "metadata": {},
   "outputs": [
    {
     "data": {
      "application/javascript": [
       "\n",
       "            setTimeout(function() {\n",
       "                var nbb_cell_id = 34;\n",
       "                var nbb_unformatted_code = \"loans = pd.read_csv(\\\"data/SBA_clnd.csv\\\")\";\n",
       "                var nbb_formatted_code = \"loans = pd.read_csv(\\\"data/SBA_clnd.csv\\\")\";\n",
       "                var nbb_cells = Jupyter.notebook.get_cells();\n",
       "                for (var i = 0; i < nbb_cells.length; ++i) {\n",
       "                    if (nbb_cells[i].input_prompt_number == nbb_cell_id) {\n",
       "                        if (nbb_cells[i].get_text() == nbb_unformatted_code) {\n",
       "                             nbb_cells[i].set_text(nbb_formatted_code);\n",
       "                        }\n",
       "                        break;\n",
       "                    }\n",
       "                }\n",
       "            }, 500);\n",
       "            "
      ],
      "text/plain": [
       "<IPython.core.display.Javascript object>"
      ]
     },
     "metadata": {},
     "output_type": "display_data"
    }
   ],
   "source": [
    "loans = pd.read_csv(\"data/SBA_clnd.csv\")"
   ]
  },
  {
   "cell_type": "code",
   "execution_count": 35,
   "metadata": {},
   "outputs": [
    {
     "data": {
      "text/html": [
       "<div>\n",
       "<style scoped>\n",
       "    .dataframe tbody tr th:only-of-type {\n",
       "        vertical-align: middle;\n",
       "    }\n",
       "\n",
       "    .dataframe tbody tr th {\n",
       "        vertical-align: top;\n",
       "    }\n",
       "\n",
       "    .dataframe thead th {\n",
       "        text-align: right;\n",
       "    }\n",
       "</style>\n",
       "<table border=\"1\" class=\"dataframe\">\n",
       "  <thead>\n",
       "    <tr style=\"text-align: right;\">\n",
       "      <th></th>\n",
       "      <th>Name</th>\n",
       "      <th>City</th>\n",
       "      <th>State</th>\n",
       "      <th>Zip</th>\n",
       "      <th>Bank</th>\n",
       "      <th>BankState</th>\n",
       "      <th>ApprovalFY</th>\n",
       "      <th>NoEmp</th>\n",
       "      <th>NewExist</th>\n",
       "      <th>CreateJob</th>\n",
       "      <th>RetainedJob</th>\n",
       "      <th>RevLineCr</th>\n",
       "      <th>LowDoc</th>\n",
       "      <th>DisbursementGross</th>\n",
       "      <th>MIS_Status</th>\n",
       "      <th>twoDigNAICS</th>\n",
       "      <th>is_franchise</th>\n",
       "      <th>bank_out_of_state</th>\n",
       "      <th>Term_years</th>\n",
       "      <th>UrbanRural_cleaned</th>\n",
       "      <th>Disbr_year</th>\n",
       "      <th>Disbr_Month_sin</th>\n",
       "      <th>Disbr_Month_cos</th>\n",
       "      <th>sba_pre_approv</th>\n",
       "      <th>percent_SBA</th>\n",
       "      <th>bank_size</th>\n",
       "      <th>Appv_Month_sin</th>\n",
       "      <th>Appv_Month_cos</th>\n",
       "    </tr>\n",
       "  </thead>\n",
       "  <tbody>\n",
       "    <tr>\n",
       "      <th>0</th>\n",
       "      <td>CARVEL</td>\n",
       "      <td>APEX</td>\n",
       "      <td>NC</td>\n",
       "      <td>27502</td>\n",
       "      <td>STEARNS BK NATL ASSOC</td>\n",
       "      <td>MN</td>\n",
       "      <td>2006</td>\n",
       "      <td>2</td>\n",
       "      <td>1</td>\n",
       "      <td>0</td>\n",
       "      <td>0</td>\n",
       "      <td>0.0</td>\n",
       "      <td>0.0</td>\n",
       "      <td>253400.0</td>\n",
       "      <td>0</td>\n",
       "      <td>44</td>\n",
       "      <td>1.0</td>\n",
       "      <td>0</td>\n",
       "      <td>13.500000</td>\n",
       "      <td>0.0</td>\n",
       "      <td>2006</td>\n",
       "      <td>0.866025</td>\n",
       "      <td>5.000000e-01</td>\n",
       "      <td>1.0</td>\n",
       "      <td>0.75</td>\n",
       "      <td>1.0</td>\n",
       "      <td>0.5</td>\n",
       "      <td>0.866025</td>\n",
       "    </tr>\n",
       "    <tr>\n",
       "      <th>1</th>\n",
       "      <td>SUBWAY</td>\n",
       "      <td>LITTLE ROCK</td>\n",
       "      <td>AR</td>\n",
       "      <td>72223</td>\n",
       "      <td>HOPE FCU</td>\n",
       "      <td>MS</td>\n",
       "      <td>2006</td>\n",
       "      <td>7</td>\n",
       "      <td>0</td>\n",
       "      <td>0</td>\n",
       "      <td>0</td>\n",
       "      <td>0.0</td>\n",
       "      <td>0.0</td>\n",
       "      <td>137300.0</td>\n",
       "      <td>0</td>\n",
       "      <td>72</td>\n",
       "      <td>0.0</td>\n",
       "      <td>0</td>\n",
       "      <td>10.500000</td>\n",
       "      <td>0.0</td>\n",
       "      <td>2006</td>\n",
       "      <td>1.000000</td>\n",
       "      <td>6.123234e-17</td>\n",
       "      <td>1.0</td>\n",
       "      <td>0.85</td>\n",
       "      <td>0.0</td>\n",
       "      <td>0.5</td>\n",
       "      <td>0.866025</td>\n",
       "    </tr>\n",
       "    <tr>\n",
       "      <th>2</th>\n",
       "      <td>WEYLAND CORPORATION</td>\n",
       "      <td>CAMARILLO</td>\n",
       "      <td>CA</td>\n",
       "      <td>93010</td>\n",
       "      <td>WELLS FARGO BANK NATL ASSOC</td>\n",
       "      <td>SD</td>\n",
       "      <td>2006</td>\n",
       "      <td>18</td>\n",
       "      <td>1</td>\n",
       "      <td>5</td>\n",
       "      <td>23</td>\n",
       "      <td>1.0</td>\n",
       "      <td>0.0</td>\n",
       "      <td>438541.0</td>\n",
       "      <td>0</td>\n",
       "      <td>61</td>\n",
       "      <td>0.0</td>\n",
       "      <td>0</td>\n",
       "      <td>6.916667</td>\n",
       "      <td>0.0</td>\n",
       "      <td>2006</td>\n",
       "      <td>0.500000</td>\n",
       "      <td>8.660254e-01</td>\n",
       "      <td>1.0</td>\n",
       "      <td>0.50</td>\n",
       "      <td>2.0</td>\n",
       "      <td>0.5</td>\n",
       "      <td>0.866025</td>\n",
       "    </tr>\n",
       "    <tr>\n",
       "      <th>3</th>\n",
       "      <td>CHICAGO BRICK UNLIMITED INC</td>\n",
       "      <td>MIAMI</td>\n",
       "      <td>FL</td>\n",
       "      <td>33186</td>\n",
       "      <td>CITIBANK, N.A.</td>\n",
       "      <td>FL</td>\n",
       "      <td>2006</td>\n",
       "      <td>4</td>\n",
       "      <td>0</td>\n",
       "      <td>0</td>\n",
       "      <td>4</td>\n",
       "      <td>1.0</td>\n",
       "      <td>0.0</td>\n",
       "      <td>51440.0</td>\n",
       "      <td>0</td>\n",
       "      <td>23</td>\n",
       "      <td>0.0</td>\n",
       "      <td>1</td>\n",
       "      <td>7.000000</td>\n",
       "      <td>0.0</td>\n",
       "      <td>2006</td>\n",
       "      <td>0.500000</td>\n",
       "      <td>8.660254e-01</td>\n",
       "      <td>1.0</td>\n",
       "      <td>0.50</td>\n",
       "      <td>2.0</td>\n",
       "      <td>0.5</td>\n",
       "      <td>0.866025</td>\n",
       "    </tr>\n",
       "    <tr>\n",
       "      <th>4</th>\n",
       "      <td>RZI, INC.</td>\n",
       "      <td>NEW ORLEANS</td>\n",
       "      <td>LA</td>\n",
       "      <td>70130</td>\n",
       "      <td>BUSINESS RES. CAP. SPECIALTY B</td>\n",
       "      <td>LA</td>\n",
       "      <td>2006</td>\n",
       "      <td>3</td>\n",
       "      <td>0</td>\n",
       "      <td>0</td>\n",
       "      <td>0</td>\n",
       "      <td>0.0</td>\n",
       "      <td>0.0</td>\n",
       "      <td>50000.0</td>\n",
       "      <td>0</td>\n",
       "      <td>53</td>\n",
       "      <td>0.0</td>\n",
       "      <td>1</td>\n",
       "      <td>5.000000</td>\n",
       "      <td>0.0</td>\n",
       "      <td>2006</td>\n",
       "      <td>0.866025</td>\n",
       "      <td>-5.000000e-01</td>\n",
       "      <td>1.0</td>\n",
       "      <td>0.85</td>\n",
       "      <td>0.0</td>\n",
       "      <td>0.5</td>\n",
       "      <td>0.866025</td>\n",
       "    </tr>\n",
       "  </tbody>\n",
       "</table>\n",
       "</div>"
      ],
      "text/plain": [
       "                          Name         City State    Zip  \\\n",
       "0                       CARVEL         APEX    NC  27502   \n",
       "1                       SUBWAY  LITTLE ROCK    AR  72223   \n",
       "2          WEYLAND CORPORATION    CAMARILLO    CA  93010   \n",
       "3  CHICAGO BRICK UNLIMITED INC        MIAMI    FL  33186   \n",
       "4                    RZI, INC.  NEW ORLEANS    LA  70130   \n",
       "\n",
       "                             Bank BankState  ApprovalFY  NoEmp  NewExist  \\\n",
       "0           STEARNS BK NATL ASSOC        MN        2006      2         1   \n",
       "1                        HOPE FCU        MS        2006      7         0   \n",
       "2     WELLS FARGO BANK NATL ASSOC        SD        2006     18         1   \n",
       "3                  CITIBANK, N.A.        FL        2006      4         0   \n",
       "4  BUSINESS RES. CAP. SPECIALTY B        LA        2006      3         0   \n",
       "\n",
       "   CreateJob  RetainedJob  RevLineCr  LowDoc  DisbursementGross  MIS_Status  \\\n",
       "0          0            0        0.0     0.0           253400.0           0   \n",
       "1          0            0        0.0     0.0           137300.0           0   \n",
       "2          5           23        1.0     0.0           438541.0           0   \n",
       "3          0            4        1.0     0.0            51440.0           0   \n",
       "4          0            0        0.0     0.0            50000.0           0   \n",
       "\n",
       "   twoDigNAICS  is_franchise  bank_out_of_state  Term_years  \\\n",
       "0           44           1.0                  0   13.500000   \n",
       "1           72           0.0                  0   10.500000   \n",
       "2           61           0.0                  0    6.916667   \n",
       "3           23           0.0                  1    7.000000   \n",
       "4           53           0.0                  1    5.000000   \n",
       "\n",
       "   UrbanRural_cleaned  Disbr_year  Disbr_Month_sin  Disbr_Month_cos  \\\n",
       "0                 0.0        2006         0.866025     5.000000e-01   \n",
       "1                 0.0        2006         1.000000     6.123234e-17   \n",
       "2                 0.0        2006         0.500000     8.660254e-01   \n",
       "3                 0.0        2006         0.500000     8.660254e-01   \n",
       "4                 0.0        2006         0.866025    -5.000000e-01   \n",
       "\n",
       "   sba_pre_approv  percent_SBA  bank_size  Appv_Month_sin  Appv_Month_cos  \n",
       "0             1.0         0.75        1.0             0.5        0.866025  \n",
       "1             1.0         0.85        0.0             0.5        0.866025  \n",
       "2             1.0         0.50        2.0             0.5        0.866025  \n",
       "3             1.0         0.50        2.0             0.5        0.866025  \n",
       "4             1.0         0.85        0.0             0.5        0.866025  "
      ]
     },
     "execution_count": 35,
     "metadata": {},
     "output_type": "execute_result"
    },
    {
     "data": {
      "application/javascript": [
       "\n",
       "            setTimeout(function() {\n",
       "                var nbb_cell_id = 35;\n",
       "                var nbb_unformatted_code = \"loans.head()\";\n",
       "                var nbb_formatted_code = \"loans.head()\";\n",
       "                var nbb_cells = Jupyter.notebook.get_cells();\n",
       "                for (var i = 0; i < nbb_cells.length; ++i) {\n",
       "                    if (nbb_cells[i].input_prompt_number == nbb_cell_id) {\n",
       "                        if (nbb_cells[i].get_text() == nbb_unformatted_code) {\n",
       "                             nbb_cells[i].set_text(nbb_formatted_code);\n",
       "                        }\n",
       "                        break;\n",
       "                    }\n",
       "                }\n",
       "            }, 500);\n",
       "            "
      ],
      "text/plain": [
       "<IPython.core.display.Javascript object>"
      ]
     },
     "metadata": {},
     "output_type": "display_data"
    }
   ],
   "source": [
    "loans.head()"
   ]
  },
  {
   "cell_type": "code",
   "execution_count": 39,
   "metadata": {},
   "outputs": [
    {
     "data": {
      "text/plain": [
       "SD    2880\n",
       "NY     730\n",
       "CA     461\n",
       "FL     380\n",
       "TX     113\n",
       "IL      26\n",
       "DC       2\n",
       "NV       1\n",
       "NJ       1\n",
       "Name: BankState, dtype: int64"
      ]
     },
     "execution_count": 39,
     "metadata": {},
     "output_type": "execute_result"
    },
    {
     "data": {
      "application/javascript": [
       "\n",
       "            setTimeout(function() {\n",
       "                var nbb_cell_id = 39;\n",
       "                var nbb_unformatted_code = \"loans.loc[loans[\\\"Bank\\\"] == \\\"CITIBANK, N.A.\\\", \\\"BankState\\\"].value_counts()\";\n",
       "                var nbb_formatted_code = \"loans.loc[loans[\\\"Bank\\\"] == \\\"CITIBANK, N.A.\\\", \\\"BankState\\\"].value_counts()\";\n",
       "                var nbb_cells = Jupyter.notebook.get_cells();\n",
       "                for (var i = 0; i < nbb_cells.length; ++i) {\n",
       "                    if (nbb_cells[i].input_prompt_number == nbb_cell_id) {\n",
       "                        if (nbb_cells[i].get_text() == nbb_unformatted_code) {\n",
       "                             nbb_cells[i].set_text(nbb_formatted_code);\n",
       "                        }\n",
       "                        break;\n",
       "                    }\n",
       "                }\n",
       "            }, 500);\n",
       "            "
      ],
      "text/plain": [
       "<IPython.core.display.Javascript object>"
      ]
     },
     "metadata": {},
     "output_type": "display_data"
    }
   ],
   "source": [
    "loans.loc[loans[\"Bank\"] == \"CITIBANK, N.A.\", \"BankState\"].value_counts()"
   ]
  },
  {
   "cell_type": "code",
   "execution_count": null,
   "metadata": {},
   "outputs": [],
   "source": []
  }
 ],
 "metadata": {
  "kernelspec": {
   "display_name": "Python 3",
   "language": "python",
   "name": "python3"
  },
  "language_info": {
   "codemirror_mode": {
    "name": "ipython",
    "version": 3
   },
   "file_extension": ".py",
   "mimetype": "text/x-python",
   "name": "python",
   "nbconvert_exporter": "python",
   "pygments_lexer": "ipython3",
   "version": "3.7.6"
  }
 },
 "nbformat": 4,
 "nbformat_minor": 4
}
