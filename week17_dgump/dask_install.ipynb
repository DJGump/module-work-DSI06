{
 "cells": [
  {
   "cell_type": "code",
   "execution_count": 1,
   "metadata": {
    "scrolled": true
   },
   "outputs": [
    {
     "name": "stdout",
     "output_type": "stream",
     "text": [
      "Collecting dask[complete]\n",
      "  Downloading dask-2.30.0-py3-none-any.whl (848 kB)\n",
      "Collecting pyyaml\n",
      "  Downloading PyYAML-5.3.1-cp37-cp37m-win_amd64.whl (216 kB)\n",
      "Collecting fsspec>=0.6.0; extra == \"complete\"\n",
      "  Downloading fsspec-0.8.4-py3-none-any.whl (91 kB)\n",
      "Requirement already satisfied, skipping upgrade: pandas>=0.23.0; extra == \"complete\" in c:\\users\\dgump\\miniconda3\\lib\\site-packages (from dask[complete]) (1.1.3)\n",
      "Collecting cloudpickle>=0.2.2; extra == \"complete\"\n",
      "  Downloading cloudpickle-1.6.0-py3-none-any.whl (23 kB)\n",
      "Requirement already satisfied, skipping upgrade: numpy>=1.13.0; extra == \"complete\" in c:\\users\\dgump\\miniconda3\\lib\\site-packages (from dask[complete]) (1.19.2)\n",
      "Requirement already satisfied, skipping upgrade: toolz>=0.8.2; extra == \"complete\" in c:\\users\\dgump\\miniconda3\\lib\\site-packages (from dask[complete]) (0.11.1)\n",
      "Collecting distributed>=2.0; extra == \"complete\"\n",
      "  Downloading distributed-2.30.1-py3-none-any.whl (656 kB)\n",
      "Collecting partd>=0.3.10; extra == \"complete\"\n",
      "  Downloading partd-1.1.0-py3-none-any.whl (19 kB)\n",
      "Collecting bokeh!=2.0.0,>=1.0.0; extra == \"complete\"\n",
      "  Downloading bokeh-2.2.3.tar.gz (8.8 MB)\n",
      "Requirement already satisfied, skipping upgrade: python-dateutil>=2.7.3 in c:\\users\\dgump\\miniconda3\\lib\\site-packages (from pandas>=0.23.0; extra == \"complete\"->dask[complete]) (2.8.1)\n",
      "Requirement already satisfied, skipping upgrade: pytz>=2017.2 in c:\\users\\dgump\\miniconda3\\lib\\site-packages (from pandas>=0.23.0; extra == \"complete\"->dask[complete]) (2019.3)\n",
      "Requirement already satisfied, skipping upgrade: click>=6.6 in c:\\users\\dgump\\appdata\\roaming\\python\\python37\\site-packages (from distributed>=2.0; extra == \"complete\"->dask[complete]) (7.1.2)\n",
      "Collecting sortedcontainers!=2.0.0,!=2.0.1\n",
      "  Downloading sortedcontainers-2.3.0-py2.py3-none-any.whl (29 kB)\n",
      "Collecting zict>=0.1.3\n",
      "  Downloading zict-2.0.0-py3-none-any.whl (10 kB)\n",
      "Requirement already satisfied, skipping upgrade: tornado>=5; python_version < \"3.8\" in c:\\users\\dgump\\miniconda3\\lib\\site-packages (from distributed>=2.0; extra == \"complete\"->dask[complete]) (6.0.4)\n",
      "Collecting tblib>=1.6.0\n",
      "  Downloading tblib-1.7.0-py2.py3-none-any.whl (12 kB)\n",
      "Requirement already satisfied, skipping upgrade: setuptools in c:\\users\\dgump\\appdata\\roaming\\python\\python37\\site-packages (from distributed>=2.0; extra == \"complete\"->dask[complete]) (49.2.0)\n",
      "Collecting psutil>=5.0\n",
      "  Downloading psutil-5.7.3-cp37-cp37m-win_amd64.whl (243 kB)\n",
      "Collecting msgpack>=0.6.0\n",
      "  Downloading msgpack-1.0.0-cp37-cp37m-win_amd64.whl (72 kB)\n",
      "Collecting locket\n",
      "  Downloading locket-0.2.0.tar.gz (3.5 kB)\n",
      "Requirement already satisfied, skipping upgrade: Jinja2>=2.7 in c:\\users\\dgump\\miniconda3\\lib\\site-packages (from bokeh!=2.0.0,>=1.0.0; extra == \"complete\"->dask[complete]) (2.11.1)\n",
      "Requirement already satisfied, skipping upgrade: pillow>=7.1.0 in c:\\users\\dgump\\miniconda3\\lib\\site-packages (from bokeh!=2.0.0,>=1.0.0; extra == \"complete\"->dask[complete]) (7.2.0)\n",
      "Collecting packaging>=16.8\n",
      "  Downloading packaging-20.4-py2.py3-none-any.whl (37 kB)\n",
      "Collecting typing_extensions>=3.7.4\n",
      "  Downloading typing_extensions-3.7.4.3-py3-none-any.whl (22 kB)\n",
      "Requirement already satisfied, skipping upgrade: six>=1.5 in c:\\users\\dgump\\appdata\\roaming\\python\\python37\\site-packages (from python-dateutil>=2.7.3->pandas>=0.23.0; extra == \"complete\"->dask[complete]) (1.15.0)\n",
      "Collecting heapdict\n",
      "  Downloading HeapDict-1.0.1-py3-none-any.whl (3.9 kB)\n",
      "Requirement already satisfied, skipping upgrade: MarkupSafe>=0.23 in c:\\users\\dgump\\miniconda3\\lib\\site-packages (from Jinja2>=2.7->bokeh!=2.0.0,>=1.0.0; extra == \"complete\"->dask[complete]) (1.1.1)\n",
      "Requirement already satisfied, skipping upgrade: pyparsing>=2.0.2 in c:\\users\\dgump\\miniconda3\\lib\\site-packages (from packaging>=16.8->bokeh!=2.0.0,>=1.0.0; extra == \"complete\"->dask[complete]) (2.4.6)\n",
      "Building wheels for collected packages: bokeh, locket\n",
      "  Building wheel for bokeh (setup.py): started\n",
      "  Building wheel for bokeh (setup.py): finished with status 'done'\n",
      "  Created wheel for bokeh: filename=bokeh-2.2.3-py3-none-any.whl size=9296319 sha256=723dd73962a344be86009ba9a067dddd963c238ebc4f2f249678ebf6878c7d9c\n",
      "  Stored in directory: c:\\users\\dgump\\appdata\\local\\pip\\cache\\wheels\\0c\\6a\\ac\\5de7ec1983d76fa1243106008b70df211dceb5ed643ad15699\n",
      "  Building wheel for locket (setup.py): started\n",
      "  Building wheel for locket (setup.py): finished with status 'done'\n",
      "  Created wheel for locket: filename=locket-0.2.0-py3-none-any.whl size=4045 sha256=c3324f65b43e8b69dc9ba1464f616be69419a4e852cc9eb937e14dab44383512\n",
      "  Stored in directory: c:\\users\\dgump\\appdata\\local\\pip\\cache\\wheels\\7d\\21\\ce\\56f01c644a11bde5d09ecae16d9b5e9d7e988187624fd28fec\n",
      "Successfully built bokeh locket\n",
      "Installing collected packages: pyyaml, fsspec, cloudpickle, sortedcontainers, heapdict, zict, tblib, psutil, msgpack, distributed, locket, partd, packaging, typing-extensions, bokeh, dask\n",
      "Successfully installed bokeh-2.2.3 cloudpickle-1.6.0 dask-2.30.0 distributed-2.30.1 fsspec-0.8.4 heapdict-1.0.1 locket-0.2.0 msgpack-1.0.0 packaging-20.4 partd-1.1.0 psutil-5.7.3 pyyaml-5.3.1 sortedcontainers-2.3.0 tblib-1.7.0 typing-extensions-3.7.4.3 zict-2.0.0\n"
     ]
    }
   ],
   "source": [
    "# !pip install --upgrade \"dask[complete]\""
   ]
  },
  {
   "cell_type": "code",
   "execution_count": 2,
   "metadata": {},
   "outputs": [
    {
     "data": {
      "text/plain": [
       "196"
      ]
     },
     "execution_count": 2,
     "metadata": {},
     "output_type": "execute_result"
    }
   ],
   "source": [
    "from dask import delayed\n",
    "\n",
    "@delayed\n",
    "def sum(x, y):\n",
    "    return x + y\n",
    "\n",
    "@delayed\n",
    "def sum_and_squared(x, y):\n",
    "    return (x+y)**2\n",
    "\n",
    "result1 = sum(3,5)\n",
    "result2 = sum(2,4)\n",
    "result = sum_and_squared(result1,result2\n",
    "                        )\n",
    "result.compute()"
   ]
  },
  {
   "cell_type": "code",
   "execution_count": 3,
   "metadata": {},
   "outputs": [
    {
     "data": {
      "text/plain": [
       "Delayed('sum_and_squared-fb9f3455-a1cc-44af-a6b4-60565eb8fe9b')"
      ]
     },
     "execution_count": 3,
     "metadata": {},
     "output_type": "execute_result"
    }
   ],
   "source": [
    "result"
   ]
  },
  {
   "cell_type": "code",
   "execution_count": null,
   "metadata": {},
   "outputs": [],
   "source": []
  }
 ],
 "metadata": {
  "kernelspec": {
   "display_name": "Python 3",
   "language": "python",
   "name": "python3"
  },
  "language_info": {
   "codemirror_mode": {
    "name": "ipython",
    "version": 3
   },
   "file_extension": ".py",
   "mimetype": "text/x-python",
   "name": "python",
   "nbconvert_exporter": "python",
   "pygments_lexer": "ipython3",
   "version": "3.7.6"
  }
 },
 "nbformat": 4,
 "nbformat_minor": 4
}
