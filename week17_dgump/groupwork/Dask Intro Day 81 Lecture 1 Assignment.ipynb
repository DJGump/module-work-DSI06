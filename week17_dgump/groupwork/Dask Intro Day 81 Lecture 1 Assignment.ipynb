{
 "cells": [
  {
   "cell_type": "markdown",
   "metadata": {
    "colab_type": "text",
    "id": "087S2B-zux_6"
   },
   "source": [
    "## Day 76 Lecture 1 Assignment\n",
    "\n",
    "In this assignment, we will learn about the Dask library. We will use a json file containing the novel War and Peace loaded below and analyze the text."
   ]
  },
  {
   "cell_type": "code",
   "execution_count": null,
   "metadata": {},
   "outputs": [],
   "source": []
  },
  {
   "cell_type": "code",
   "execution_count": 15,
   "metadata": {
    "colab": {
     "base_uri": "https://localhost:8080/",
     "height": 34
    },
    "colab_type": "code",
    "executionInfo": {
     "elapsed": 700,
     "status": "ok",
     "timestamp": 1597072027786,
     "user": {
      "displayName": "Dennis Tran",
      "photoUrl": "https://lh3.googleusercontent.com/a-/AOh14Gh4jmvNC7SsJIBkUCGrPDwTRU-4MoXuoJ6RtrZM=s64",
      "userId": "03151481835436749126"
     },
     "user_tz": 420
    },
    "id": "IYIQ_BxAux_7",
    "outputId": "0e42e94b-07ca-4033-d30c-31e66c872a83",
    "scrolled": true
   },
   "outputs": [
    {
     "data": {
      "text/plain": [
       "dask.bag<bag-from-delayed, npartitions=1>"
      ]
     },
     "execution_count": 15,
     "metadata": {},
     "output_type": "execute_result"
    }
   ],
   "source": [
    "import dask.bag as db\n",
    "import json\n",
    "\n",
    "import requests\n",
    "\n",
    "# #r = requests.get('https://tf-assets-prod.s3.amazonaws.com/tf-curric/data-science/Data%20Sets%20Big%20Data/2600-0.txt')\n",
    "# r.text\n",
    "# tolstoy = db.read_text('/content/drive/My Drive/DSI Month 4/Week 15/Data/2600-0.txt')\n",
    "tolstoy = db.read_text('data/2600-0.txt')\n",
    "tolstoy"
   ]
  },
  {
   "cell_type": "code",
   "execution_count": 57,
   "metadata": {},
   "outputs": [
    {
     "name": "stderr",
     "output_type": "stream",
     "text": [
      "[nltk_data] Downloading package punkt to\n",
      "[nltk_data]     C:\\Users\\dgump\\AppData\\Roaming\\nltk_data...\n",
      "[nltk_data]   Package punkt is already up-to-date!\n"
     ]
    },
    {
     "data": {
      "text/plain": [
       "True"
      ]
     },
     "execution_count": 57,
     "metadata": {},
     "output_type": "execute_result"
    }
   ],
   "source": [
    "import nltk\n",
    "from nltk.corpus import stopwords\n",
    "\n",
    "import nltk\n",
    "nltk.download('punkt')"
   ]
  },
  {
   "cell_type": "code",
   "execution_count": 50,
   "metadata": {},
   "outputs": [],
   "source": [
    "stop_words = set(stopwords.words('english'))"
   ]
  },
  {
   "cell_type": "code",
   "execution_count": 16,
   "metadata": {
    "colab": {
     "base_uri": "https://localhost:8080/",
     "height": 187
    },
    "colab_type": "code",
    "executionInfo": {
     "elapsed": 2510,
     "status": "ok",
     "timestamp": 1597072032410,
     "user": {
      "displayName": "Dennis Tran",
      "photoUrl": "https://lh3.googleusercontent.com/a-/AOh14Gh4jmvNC7SsJIBkUCGrPDwTRU-4MoXuoJ6RtrZM=s64",
      "userId": "03151481835436749126"
     },
     "user_tz": 420
    },
    "id": "iaIoIkW25DKu",
    "outputId": "8abbe077-1131-417f-801f-7d78c2fd2ea9"
   },
   "outputs": [
    {
     "data": {
      "text/plain": [
       "('\\ufeffBOOK ONE: 1805\\n',\n",
       " '\\n',\n",
       " '\\n',\n",
       " '\\n',\n",
       " '\\n',\n",
       " '\\n',\n",
       " 'CHAPTER I\\n',\n",
       " '\\n',\n",
       " '“Well, Prince, so Genoa and Lucca are now just family estates of the\\n',\n",
       " 'Buonapartes. But I warn you, if you don’t tell me that this means war,\\n')"
      ]
     },
     "execution_count": 16,
     "metadata": {},
     "output_type": "execute_result"
    }
   ],
   "source": [
    "tolstoy.take(10)"
   ]
  },
  {
   "cell_type": "markdown",
   "metadata": {
    "colab_type": "text",
    "id": "WBxjwKSnux_-"
   },
   "source": [
    "Above, we have loaded the novel War and Peace by Tolstoy into a Dask bag. Print the first 10 rows in the novel using the Dask bag."
   ]
  },
  {
   "cell_type": "code",
   "execution_count": 23,
   "metadata": {
    "colab": {},
    "colab_type": "code",
    "executionInfo": {
     "elapsed": 134860,
     "status": "aborted",
     "timestamp": 1597071921431,
     "user": {
      "displayName": "Dennis Tran",
      "photoUrl": "https://lh3.googleusercontent.com/a-/AOh14Gh4jmvNC7SsJIBkUCGrPDwTRU-4MoXuoJ6RtrZM=s64",
      "userId": "03151481835436749126"
     },
     "user_tz": 420
    },
    "id": "L28YX6uuux__"
   },
   "outputs": [
    {
     "data": {
      "text/plain": [
       "('\\ufeffBOOK ONE: 1805\\n',\n",
       " '\\n',\n",
       " '\\n',\n",
       " '\\n',\n",
       " '\\n',\n",
       " '\\n',\n",
       " 'CHAPTER I\\n',\n",
       " '\\n',\n",
       " '“Well, Prince, so Genoa and Lucca are now just family estates of the\\n',\n",
       " 'Buonapartes. But I warn you, if you don’t tell me that this means war,\\n')"
      ]
     },
     "execution_count": 23,
     "metadata": {},
     "output_type": "execute_result"
    }
   ],
   "source": [
    "#Answer below:\n",
    "tolstoy.take(10)\n"
   ]
  },
  {
   "cell_type": "markdown",
   "metadata": {
    "colab_type": "text",
    "id": "uN65kINLuyAB"
   },
   "source": [
    "You may notice that there are many blank rows (rows containing only `\\n`) Filter these rows and print the first 10 non blank rows in the novel."
   ]
  },
  {
   "cell_type": "code",
   "execution_count": 27,
   "metadata": {
    "colab": {},
    "colab_type": "code",
    "executionInfo": {
     "elapsed": 134858,
     "status": "aborted",
     "timestamp": 1597071921432,
     "user": {
      "displayName": "Dennis Tran",
      "photoUrl": "https://lh3.googleusercontent.com/a-/AOh14Gh4jmvNC7SsJIBkUCGrPDwTRU-4MoXuoJ6RtrZM=s64",
      "userId": "03151481835436749126"
     },
     "user_tz": 420
    },
    "id": "jGlMSK5suyAC"
   },
   "outputs": [
    {
     "data": {
      "text/plain": [
       "('\\ufeffBOOK ONE: 1805\\n',\n",
       " 'CHAPTER I\\n',\n",
       " '“Well, Prince, so Genoa and Lucca are now just family estates of the\\n',\n",
       " 'Buonapartes. But I warn you, if you don’t tell me that this means war,\\n',\n",
       " 'if you still try to defend the infamies and horrors perpetrated by that\\n',\n",
       " 'Antichrist—I really believe he is Antichrist—I will have nothing\\n',\n",
       " 'more to do with you and you are no longer my friend, no longer my\\n',\n",
       " '‘faithful slave,’ as you call yourself! But how do you do? I see I\\n',\n",
       " 'have frightened you—sit down and tell me all the news.”\\n',\n",
       " 'It was in July, 1805, and the speaker was the well-known Anna Pávlovna\\n')"
      ]
     },
     "execution_count": 27,
     "metadata": {},
     "output_type": "execute_result"
    }
   ],
   "source": [
    "#Answer below:\n",
    "#\" \".join(tolstoy.all.split())\n",
    "tolstoy.filter(lambda record: record != '\\n').take(10)\n"
   ]
  },
  {
   "cell_type": "markdown",
   "metadata": {
    "colab_type": "text",
    "id": "kjIeJ8ZFuyAD"
   },
   "source": [
    "We would like to count the frequency of all words in the novel. The first step is to remove the `\\n` from the end of each string. Do this using the map function. Inside the map function write a lambda that will replace the string `\\n` with `''`."
   ]
  },
  {
   "cell_type": "code",
   "execution_count": 30,
   "metadata": {
    "colab": {},
    "colab_type": "code",
    "executionInfo": {
     "elapsed": 134857,
     "status": "aborted",
     "timestamp": 1597071921433,
     "user": {
      "displayName": "Dennis Tran",
      "photoUrl": "https://lh3.googleusercontent.com/a-/AOh14Gh4jmvNC7SsJIBkUCGrPDwTRU-4MoXuoJ6RtrZM=s64",
      "userId": "03151481835436749126"
     },
     "user_tz": 420
    },
    "id": "bGaXglIsuyAE"
   },
   "outputs": [],
   "source": [
    "#Answer below:\n",
    "tolstoy = tolstoy.map(lambda record: record.replace('\\n', ''))\n"
   ]
  },
  {
   "cell_type": "markdown",
   "metadata": {
    "colab_type": "text",
    "id": "JIA08wDYuyAF"
   },
   "source": [
    "Next, split each row on the space (use a lambda function inside a map). Then apply the flatten function to create a list of all words in the novel."
   ]
  },
  {
   "cell_type": "code",
   "execution_count": 43,
   "metadata": {
    "colab": {},
    "colab_type": "code",
    "executionInfo": {
     "elapsed": 134854,
     "status": "aborted",
     "timestamp": 1597071921434,
     "user": {
      "displayName": "Dennis Tran",
      "photoUrl": "https://lh3.googleusercontent.com/a-/AOh14Gh4jmvNC7SsJIBkUCGrPDwTRU-4MoXuoJ6RtrZM=s64",
      "userId": "03151481835436749126"
     },
     "user_tz": 420
    },
    "id": "cqjprCyYuyAG"
   },
   "outputs": [],
   "source": [
    "# Answer below:\n",
    "tolstoy = tolstoy.map(lambda r: r.split(' ')).flatten().filter(lambda r: r !='')"
   ]
  },
  {
   "cell_type": "code",
   "execution_count": null,
   "metadata": {},
   "outputs": [],
   "source": []
  },
  {
   "cell_type": "markdown",
   "metadata": {
    "colab_type": "text",
    "id": "iK5V5L12uyAI"
   },
   "source": [
    "Using the frequencies function, return the top 10 words in the novel and their frequency"
   ]
  },
  {
   "cell_type": "code",
   "execution_count": 45,
   "metadata": {
    "colab": {},
    "colab_type": "code",
    "executionInfo": {
     "elapsed": 134852,
     "status": "aborted",
     "timestamp": 1597071921434,
     "user": {
      "displayName": "Dennis Tran",
      "photoUrl": "https://lh3.googleusercontent.com/a-/AOh14Gh4jmvNC7SsJIBkUCGrPDwTRU-4MoXuoJ6RtrZM=s64",
      "userId": "03151481835436749126"
     },
     "user_tz": 420
    },
    "id": "PdEjFqKSuyAI"
   },
   "outputs": [
    {
     "data": {
      "text/plain": [
       "(('the', 31701),\n",
       " ('and', 20559),\n",
       " ('to', 16320),\n",
       " ('of', 14852),\n",
       " ('a', 10018),\n",
       " ('in', 8228),\n",
       " ('he', 7631),\n",
       " ('his', 7630),\n",
       " ('that', 7230),\n",
       " ('was', 7189))"
      ]
     },
     "execution_count": 45,
     "metadata": {},
     "output_type": "execute_result"
    }
   ],
   "source": [
    "# Answer below:\n",
    "tolstoy.frequencies(sort=True).take(10)\n"
   ]
  },
  {
   "cell_type": "code",
   "execution_count": 61,
   "metadata": {
    "colab": {},
    "colab_type": "code",
    "executionInfo": {
     "elapsed": 134850,
     "status": "aborted",
     "timestamp": 1597071921435,
     "user": {
      "displayName": "Dennis Tran",
      "photoUrl": "https://lh3.googleusercontent.com/a-/AOh14Gh4jmvNC7SsJIBkUCGrPDwTRU-4MoXuoJ6RtrZM=s64",
      "userId": "03151481835436749126"
     },
     "user_tz": 420
    },
    "id": "SORSao6muyAK"
   },
   "outputs": [
    {
     "data": {
      "text/plain": [
       "(('said', 2406),\n",
       " ('one', 1704),\n",
       " ('Prince', 1498),\n",
       " ('would', 1333),\n",
       " ('Pierre', 1260),\n",
       " ('could', 1090),\n",
       " ('went', 845),\n",
       " ('him.', 825),\n",
       " ('man', 774),\n",
       " ('“I', 755))"
      ]
     },
     "execution_count": 61,
     "metadata": {},
     "output_type": "execute_result"
    }
   ],
   "source": [
    "tolstoy.filter(lambda r: r.lower() not in stop_words).frequencies(sort=True).take(10)"
   ]
  },
  {
   "cell_type": "code",
   "execution_count": 80,
   "metadata": {
    "colab": {},
    "colab_type": "code",
    "executionInfo": {
     "elapsed": 134848,
     "status": "aborted",
     "timestamp": 1597071921435,
     "user": {
      "displayName": "Dennis Tran",
      "photoUrl": "https://lh3.googleusercontent.com/a-/AOh14Gh4jmvNC7SsJIBkUCGrPDwTRU-4MoXuoJ6RtrZM=s64",
      "userId": "03151481835436749126"
     },
     "user_tz": 420
    },
    "id": "zKNw9y7ouyAL"
   },
   "outputs": [
    {
     "data": {
      "text/plain": [
       "(('the', 31792),\n",
       " ('and', 21057),\n",
       " ('to', 16468),\n",
       " ('of', 14918),\n",
       " ('a', 10051),\n",
       " ('in', 8391),\n",
       " ('he', 8074),\n",
       " ('that', 7699),\n",
       " ('his', 7659),\n",
       " ('was', 7311))"
      ]
     },
     "execution_count": 80,
     "metadata": {},
     "output_type": "execute_result"
    }
   ],
   "source": [
    "tolstoy.map(lambda r: nltk.word_tokenize(r)).flatten().filter(lambda r: r.isalpha()).frequencies(sort=True).take(10)"
   ]
  },
  {
   "cell_type": "code",
   "execution_count": 68,
   "metadata": {},
   "outputs": [
    {
     "data": {
      "text/plain": [
       "('\\ufeffBOOK',\n",
       " 'ONE:',\n",
       " '1805',\n",
       " 'CHAPTER',\n",
       " 'I',\n",
       " '“Well,',\n",
       " 'Prince,',\n",
       " 'so',\n",
       " 'Genoa',\n",
       " 'and')"
      ]
     },
     "execution_count": 68,
     "metadata": {},
     "output_type": "execute_result"
    }
   ],
   "source": [
    "tolstoy.take(10)"
   ]
  },
  {
   "cell_type": "code",
   "execution_count": null,
   "metadata": {},
   "outputs": [],
   "source": []
  }
 ],
 "metadata": {
  "colab": {
   "collapsed_sections": [],
   "name": "Day 81 Lecture 1 Assignment.ipynb",
   "provenance": []
  },
  "kernelspec": {
   "display_name": "Python 3",
   "language": "python",
   "name": "python3"
  },
  "language_info": {
   "codemirror_mode": {
    "name": "ipython",
    "version": 3
   },
   "file_extension": ".py",
   "mimetype": "text/x-python",
   "name": "python",
   "nbconvert_exporter": "python",
   "pygments_lexer": "ipython3",
   "version": "3.7.6"
  }
 },
 "nbformat": 4,
 "nbformat_minor": 1
}
