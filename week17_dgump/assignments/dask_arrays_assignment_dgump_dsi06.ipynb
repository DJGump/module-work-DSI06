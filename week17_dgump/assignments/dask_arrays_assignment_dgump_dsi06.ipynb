{
  "nbformat": 4,
  "nbformat_minor": 0,
  "metadata": {
    "colab": {
      "name": "dask arrays assignment dgump dsi06.ipynb",
      "provenance": []
    },
    "kernelspec": {
      "name": "python3",
      "display_name": "Python 3"
    }
  },
  "cells": [
    {
      "cell_type": "code",
      "metadata": {
        "id": "jya2wgvtAmqO"
      },
      "source": [
        "import dask.array as da"
      ],
      "execution_count": 1,
      "outputs": []
    },
    {
      "cell_type": "code",
      "metadata": {
        "colab": {
          "base_uri": "https://localhost:8080/"
        },
        "id": "Mz-3C4NPAuJD",
        "outputId": "1415b0e4-dd6f-447d-aeda-297ff5492615"
      },
      "source": [
        "%%time\n",
        "x = da.random.random((10000, 10000), chunks=(1000, 1000))\n",
        "y = x + x.T\n",
        "z = y[::2, 5000:].mean(axis=1)\n",
        "z.compute()"
      ],
      "execution_count": 2,
      "outputs": [
        {
          "output_type": "stream",
          "text": [
            "CPU times: user 1.51 s, sys: 59.6 ms, total: 1.57 s\n",
            "Wall time: 830 ms\n"
          ],
          "name": "stdout"
        }
      ]
    },
    {
      "cell_type": "markdown",
      "metadata": {
        "id": "QCg-oAQoA4B9"
      },
      "source": [
        "1. Change the code above by setting chunks=(250, 250). How long does it take to run?"
      ]
    },
    {
      "cell_type": "code",
      "metadata": {
        "colab": {
          "base_uri": "https://localhost:8080/"
        },
        "id": "fi3JlmhmAy1P",
        "outputId": "738158a7-cafa-41af-b826-ccf990f5d8df"
      },
      "source": [
        "%%time\n",
        "x = da.random.random((10000, 10000), chunks=(250, 250))\n",
        "y = x + x.T\n",
        "z = y[::2, 5000:].mean(axis=1)\n",
        "z.compute()"
      ],
      "execution_count": 3,
      "outputs": [
        {
          "output_type": "stream",
          "text": [
            "CPU times: user 2.57 s, sys: 242 ms, total: 2.81 s\n",
            "Wall time: 1.81 s\n"
          ],
          "name": "stdout"
        }
      ]
    },
    {
      "cell_type": "markdown",
      "metadata": {
        "id": "00TNS4QMBFyH"
      },
      "source": [
        "2. Now, set the parameter to chunks=(500, 500). How long does it take to run? Does this one or the previous one run more quickly? Why?"
      ]
    },
    {
      "cell_type": "code",
      "metadata": {
        "colab": {
          "base_uri": "https://localhost:8080/"
        },
        "id": "-UtK3eAVBEGu",
        "outputId": "c5bcfa0c-7326-45b3-9230-1dc162047743"
      },
      "source": [
        "%%time\n",
        "x = da.random.random((10000, 10000), chunks=(500, 500))\n",
        "y = x + x.T\n",
        "z = y[::2, 5000:].mean(axis=1)\n",
        "z.compute()"
      ],
      "execution_count": 4,
      "outputs": [
        {
          "output_type": "stream",
          "text": [
            "CPU times: user 1.8 s, sys: 73.4 ms, total: 1.87 s\n",
            "Wall time: 1.07 s\n"
          ],
          "name": "stdout"
        }
      ]
    },
    {
      "cell_type": "code",
      "metadata": {
        "id": "w7pHtxQ4BM-c"
      },
      "source": [
        ""
      ],
      "execution_count": null,
      "outputs": []
    }
  ]
}