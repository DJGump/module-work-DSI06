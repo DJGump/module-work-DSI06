{
 "cells": [
  {
   "cell_type": "markdown",
   "metadata": {
    "colab_type": "text",
    "id": "P7Ilhj45tM4S"
   },
   "source": [
    "# Descriptive Statistics Assignment"
   ]
  },
  {
   "cell_type": "code",
   "execution_count": 1,
   "metadata": {
    "colab": {},
    "colab_type": "code",
    "id": "PHC3rj3htM4T"
   },
   "outputs": [],
   "source": [
    "import pandas as pd\n",
    "import numpy as np\n",
    "\n",
    "\n",
    "data_url = \"https://docs.google.com/spreadsheets/d/1w1BfAGjEJk_Ywglo0nWKUk5gKmqEmfFb101IoXtj8D8/export?format=csv\""
   ]
  },
  {
   "cell_type": "code",
   "execution_count": 2,
   "metadata": {},
   "outputs": [
    {
     "data": {
      "application/javascript": [
       "\n",
       "            setTimeout(function() {\n",
       "                var nbb_cell_id = 2;\n",
       "                var nbb_unformatted_code = \"%reload_ext nb_black\";\n",
       "                var nbb_formatted_code = \"%reload_ext nb_black\";\n",
       "                var nbb_cells = Jupyter.notebook.get_cells();\n",
       "                for (var i = 0; i < nbb_cells.length; ++i) {\n",
       "                    if (nbb_cells[i].input_prompt_number == nbb_cell_id) {\n",
       "                        if (nbb_cells[i].get_text() == nbb_unformatted_code) {\n",
       "                             nbb_cells[i].set_text(nbb_formatted_code);\n",
       "                        }\n",
       "                        break;\n",
       "                    }\n",
       "                }\n",
       "            }, 500);\n",
       "            "
      ],
      "text/plain": [
       "<IPython.core.display.Javascript object>"
      ]
     },
     "metadata": {},
     "output_type": "display_data"
    }
   ],
   "source": [
    "%reload_ext nb_black"
   ]
  },
  {
   "cell_type": "markdown",
   "metadata": {
    "colab_type": "text",
    "id": "y_WevD1ftM4X"
   },
   "source": [
    "### Read the Fortune 1000 data (using `data_url`) into a Pandas data frame."
   ]
  },
  {
   "cell_type": "code",
   "execution_count": 3,
   "metadata": {
    "colab": {},
    "colab_type": "code",
    "id": "RPX9nbZ1tM4Y"
   },
   "outputs": [
    {
     "data": {
      "application/javascript": [
       "\n",
       "            setTimeout(function() {\n",
       "                var nbb_cell_id = 3;\n",
       "                var nbb_unformatted_code = \"fortune = pd.read_csv(data_url)\";\n",
       "                var nbb_formatted_code = \"fortune = pd.read_csv(data_url)\";\n",
       "                var nbb_cells = Jupyter.notebook.get_cells();\n",
       "                for (var i = 0; i < nbb_cells.length; ++i) {\n",
       "                    if (nbb_cells[i].input_prompt_number == nbb_cell_id) {\n",
       "                        if (nbb_cells[i].get_text() == nbb_unformatted_code) {\n",
       "                             nbb_cells[i].set_text(nbb_formatted_code);\n",
       "                        }\n",
       "                        break;\n",
       "                    }\n",
       "                }\n",
       "            }, 500);\n",
       "            "
      ],
      "text/plain": [
       "<IPython.core.display.Javascript object>"
      ]
     },
     "metadata": {},
     "output_type": "display_data"
    }
   ],
   "source": [
    "fortune = pd.read_csv(data_url)"
   ]
  },
  {
   "cell_type": "markdown",
   "metadata": {
    "colab_type": "text",
    "id": "u58Qq-xjtM4a"
   },
   "source": [
    "### Print the data type for each column."
   ]
  },
  {
   "cell_type": "code",
   "execution_count": 4,
   "metadata": {
    "colab": {
     "base_uri": "https://localhost:8080/",
     "height": 459
    },
    "colab_type": "code",
    "id": "kgrSk4sjtM4b",
    "outputId": "ae0aee63-8cdd-479e-a5f3-201d473bbb70"
   },
   "outputs": [
    {
     "name": "stdout",
     "output_type": "stream",
     "text": [
      "<class 'pandas.core.frame.DataFrame'>\n",
      "RangeIndex: 1000 entries, 0 to 999\n",
      "Data columns (total 19 columns):\n",
      " #   Column                        Non-Null Count  Dtype  \n",
      "---  ------                        --------------  -----  \n",
      " 0   rank                          1000 non-null   int64  \n",
      " 1   title                         1000 non-null   object \n",
      " 2   Previous Rank                 938 non-null    object \n",
      " 3   Revenues ($M)                 1000 non-null   object \n",
      " 4   Revenue Change                1000 non-null   object \n",
      " 5   Profits ($M)                  1000 non-null   object \n",
      " 6   Profit Change                 1000 non-null   object \n",
      " 7   Assets ($M)                   1000 non-null   object \n",
      " 8   Mkt Value as of 3/29/18 ($M)  1000 non-null   object \n",
      " 9   Employees                     1000 non-null   object \n",
      " 10  CEO                           1000 non-null   object \n",
      " 11  CEO Title                     1000 non-null   object \n",
      " 12  Sector                        1000 non-null   object \n",
      " 13  Industry                      1000 non-null   object \n",
      " 14  Years on Fortune 500 List     1000 non-null   object \n",
      " 15  City                          999 non-null    object \n",
      " 16  State                         1000 non-null   object \n",
      " 17  Latitude                      1000 non-null   float64\n",
      " 18  Longitude                     1000 non-null   float64\n",
      "dtypes: float64(2), int64(1), object(16)\n",
      "memory usage: 148.6+ KB\n"
     ]
    },
    {
     "data": {
      "application/javascript": [
       "\n",
       "            setTimeout(function() {\n",
       "                var nbb_cell_id = 4;\n",
       "                var nbb_unformatted_code = \"fortune.info()\";\n",
       "                var nbb_formatted_code = \"fortune.info()\";\n",
       "                var nbb_cells = Jupyter.notebook.get_cells();\n",
       "                for (var i = 0; i < nbb_cells.length; ++i) {\n",
       "                    if (nbb_cells[i].input_prompt_number == nbb_cell_id) {\n",
       "                        if (nbb_cells[i].get_text() == nbb_unformatted_code) {\n",
       "                             nbb_cells[i].set_text(nbb_formatted_code);\n",
       "                        }\n",
       "                        break;\n",
       "                    }\n",
       "                }\n",
       "            }, 500);\n",
       "            "
      ],
      "text/plain": [
       "<IPython.core.display.Javascript object>"
      ]
     },
     "metadata": {},
     "output_type": "display_data"
    }
   ],
   "source": [
    "fortune.info()"
   ]
  },
  {
   "cell_type": "markdown",
   "metadata": {
    "colab_type": "text",
    "id": "i-JUNCl1tM4e"
   },
   "source": [
    "### Generate a basic set of descriptive statistics for the numeric fields in the data set."
   ]
  },
  {
   "cell_type": "code",
   "execution_count": 5,
   "metadata": {
    "colab": {
     "base_uri": "https://localhost:8080/",
     "height": 297
    },
    "colab_type": "code",
    "id": "Lh9RxSL1tM4e",
    "outputId": "a92829d8-28f2-474d-fab0-49687c5cd079"
   },
   "outputs": [
    {
     "data": {
      "text/html": [
       "<div>\n",
       "<style scoped>\n",
       "    .dataframe tbody tr th:only-of-type {\n",
       "        vertical-align: middle;\n",
       "    }\n",
       "\n",
       "    .dataframe tbody tr th {\n",
       "        vertical-align: top;\n",
       "    }\n",
       "\n",
       "    .dataframe thead th {\n",
       "        text-align: right;\n",
       "    }\n",
       "</style>\n",
       "<table border=\"1\" class=\"dataframe\">\n",
       "  <thead>\n",
       "    <tr style=\"text-align: right;\">\n",
       "      <th></th>\n",
       "      <th>rank</th>\n",
       "      <th>Latitude</th>\n",
       "      <th>Longitude</th>\n",
       "    </tr>\n",
       "  </thead>\n",
       "  <tbody>\n",
       "    <tr>\n",
       "      <th>count</th>\n",
       "      <td>1000.000000</td>\n",
       "      <td>1000.000000</td>\n",
       "      <td>1000.000000</td>\n",
       "    </tr>\n",
       "    <tr>\n",
       "      <th>mean</th>\n",
       "      <td>500.499000</td>\n",
       "      <td>38.228050</td>\n",
       "      <td>-90.359700</td>\n",
       "    </tr>\n",
       "    <tr>\n",
       "      <th>std</th>\n",
       "      <td>288.818771</td>\n",
       "      <td>4.643421</td>\n",
       "      <td>16.145941</td>\n",
       "    </tr>\n",
       "    <tr>\n",
       "      <th>min</th>\n",
       "      <td>1.000000</td>\n",
       "      <td>18.422578</td>\n",
       "      <td>-157.858333</td>\n",
       "    </tr>\n",
       "    <tr>\n",
       "      <th>25%</th>\n",
       "      <td>250.750000</td>\n",
       "      <td>35.207699</td>\n",
       "      <td>-96.698886</td>\n",
       "    </tr>\n",
       "    <tr>\n",
       "      <th>50%</th>\n",
       "      <td>500.500000</td>\n",
       "      <td>39.693419</td>\n",
       "      <td>-86.583760</td>\n",
       "    </tr>\n",
       "    <tr>\n",
       "      <th>75%</th>\n",
       "      <td>750.250000</td>\n",
       "      <td>41.499320</td>\n",
       "      <td>-77.177260</td>\n",
       "    </tr>\n",
       "    <tr>\n",
       "      <th>max</th>\n",
       "      <td>1000.000000</td>\n",
       "      <td>47.978985</td>\n",
       "      <td>-66.050955</td>\n",
       "    </tr>\n",
       "  </tbody>\n",
       "</table>\n",
       "</div>"
      ],
      "text/plain": [
       "              rank     Latitude    Longitude\n",
       "count  1000.000000  1000.000000  1000.000000\n",
       "mean    500.499000    38.228050   -90.359700\n",
       "std     288.818771     4.643421    16.145941\n",
       "min       1.000000    18.422578  -157.858333\n",
       "25%     250.750000    35.207699   -96.698886\n",
       "50%     500.500000    39.693419   -86.583760\n",
       "75%     750.250000    41.499320   -77.177260\n",
       "max    1000.000000    47.978985   -66.050955"
      ]
     },
     "execution_count": 5,
     "metadata": {},
     "output_type": "execute_result"
    },
    {
     "data": {
      "application/javascript": [
       "\n",
       "            setTimeout(function() {\n",
       "                var nbb_cell_id = 5;\n",
       "                var nbb_unformatted_code = \"fortune.describe()\";\n",
       "                var nbb_formatted_code = \"fortune.describe()\";\n",
       "                var nbb_cells = Jupyter.notebook.get_cells();\n",
       "                for (var i = 0; i < nbb_cells.length; ++i) {\n",
       "                    if (nbb_cells[i].input_prompt_number == nbb_cell_id) {\n",
       "                        if (nbb_cells[i].get_text() == nbb_unformatted_code) {\n",
       "                             nbb_cells[i].set_text(nbb_formatted_code);\n",
       "                        }\n",
       "                        break;\n",
       "                    }\n",
       "                }\n",
       "            }, 500);\n",
       "            "
      ],
      "text/plain": [
       "<IPython.core.display.Javascript object>"
      ]
     },
     "metadata": {},
     "output_type": "display_data"
    }
   ],
   "source": [
    "fortune.describe()"
   ]
  },
  {
   "cell_type": "markdown",
   "metadata": {
    "colab_type": "text",
    "id": "fXoDTnC9tM4h"
   },
   "source": [
    "### Calculate the following for each numeric field in the data set and add them to the data frame containing the basic set of descriptive statistics.\n",
    "\n",
    "- Variance\n",
    "- Mean Absolute Deviation\n",
    "- Range\n",
    "- Interquartile Range"
   ]
  },
  {
   "cell_type": "code",
   "execution_count": 6,
   "metadata": {
    "colab": {
     "base_uri": "https://localhost:8080/",
     "height": 221
    },
    "colab_type": "code",
    "id": "FGxTOeMWtM4h",
    "outputId": "6ab5ee3d-aaea-4ae7-885a-a86428e4b57e"
   },
   "outputs": [
    {
     "name": "stdout",
     "output_type": "stream",
     "text": [
      "rank         83416.282281\n",
      "Latitude        21.561356\n",
      "Longitude      260.691395\n",
      "dtype: float64\n",
      "rank         249.999000\n",
      "Latitude       3.735640\n",
      "Longitude     12.880618\n",
      "dtype: float64\n"
     ]
    },
    {
     "data": {
      "text/plain": [
       "rank         999.000000\n",
       "Latitude      29.556407\n",
       "Longitude     91.807378\n",
       "dtype: float64"
      ]
     },
     "execution_count": 6,
     "metadata": {},
     "output_type": "execute_result"
    },
    {
     "data": {
      "application/javascript": [
       "\n",
       "            setTimeout(function() {\n",
       "                var nbb_cell_id = 6;\n",
       "                var nbb_unformatted_code = \"print(fortune.var())\\nprint(fortune.mad())\\nfortune_num = fortune[['rank', 'Latitude', 'Longitude']]\\nfortune_num.max() - fortune_num.min()\";\n",
       "                var nbb_formatted_code = \"print(fortune.var())\\nprint(fortune.mad())\\nfortune_num = fortune[[\\\"rank\\\", \\\"Latitude\\\", \\\"Longitude\\\"]]\\nfortune_num.max() - fortune_num.min()\";\n",
       "                var nbb_cells = Jupyter.notebook.get_cells();\n",
       "                for (var i = 0; i < nbb_cells.length; ++i) {\n",
       "                    if (nbb_cells[i].input_prompt_number == nbb_cell_id) {\n",
       "                        if (nbb_cells[i].get_text() == nbb_unformatted_code) {\n",
       "                             nbb_cells[i].set_text(nbb_formatted_code);\n",
       "                        }\n",
       "                        break;\n",
       "                    }\n",
       "                }\n",
       "            }, 500);\n",
       "            "
      ],
      "text/plain": [
       "<IPython.core.display.Javascript object>"
      ]
     },
     "metadata": {},
     "output_type": "display_data"
    }
   ],
   "source": [
    "print(fortune.var())\n",
    "print(fortune.mad())\n",
    "fortune_num = fortune[[\"rank\", \"Latitude\", \"Longitude\"]]\n",
    "fortune_num.max() - fortune_num.min()"
   ]
  },
  {
   "cell_type": "markdown",
   "metadata": {
    "colab_type": "text",
    "id": "81YZ6C7ftM4l"
   },
   "source": [
    "### Generate a basic set of descriptive statistics for the categorical fields in the data set."
   ]
  },
  {
   "cell_type": "code",
   "execution_count": 7,
   "metadata": {
    "colab": {},
    "colab_type": "code",
    "id": "_pyOG0mO5N7H"
   },
   "outputs": [
    {
     "data": {
      "application/javascript": [
       "\n",
       "            setTimeout(function() {\n",
       "                var nbb_cell_id = 7;\n",
       "                var nbb_unformatted_code = \"categorical = fortune.select_dtypes(include='object')\";\n",
       "                var nbb_formatted_code = \"categorical = fortune.select_dtypes(include=\\\"object\\\")\";\n",
       "                var nbb_cells = Jupyter.notebook.get_cells();\n",
       "                for (var i = 0; i < nbb_cells.length; ++i) {\n",
       "                    if (nbb_cells[i].input_prompt_number == nbb_cell_id) {\n",
       "                        if (nbb_cells[i].get_text() == nbb_unformatted_code) {\n",
       "                             nbb_cells[i].set_text(nbb_formatted_code);\n",
       "                        }\n",
       "                        break;\n",
       "                    }\n",
       "                }\n",
       "            }, 500);\n",
       "            "
      ],
      "text/plain": [
       "<IPython.core.display.Javascript object>"
      ]
     },
     "metadata": {},
     "output_type": "display_data"
    }
   ],
   "source": [
    "categorical = fortune.select_dtypes(include=\"object\")"
   ]
  },
  {
   "cell_type": "code",
   "execution_count": 8,
   "metadata": {
    "colab": {
     "base_uri": "https://localhost:8080/",
     "height": 306
    },
    "colab_type": "code",
    "id": "NCu1eHOGtM4l",
    "outputId": "6e195473-9d10-4afd-d977-771d6e6c72ac"
   },
   "outputs": [
    {
     "data": {
      "text/html": [
       "<div>\n",
       "<style scoped>\n",
       "    .dataframe tbody tr th:only-of-type {\n",
       "        vertical-align: middle;\n",
       "    }\n",
       "\n",
       "    .dataframe tbody tr th {\n",
       "        vertical-align: top;\n",
       "    }\n",
       "\n",
       "    .dataframe thead th {\n",
       "        text-align: right;\n",
       "    }\n",
       "</style>\n",
       "<table border=\"1\" class=\"dataframe\">\n",
       "  <thead>\n",
       "    <tr style=\"text-align: right;\">\n",
       "      <th></th>\n",
       "      <th>title</th>\n",
       "      <th>Previous Rank</th>\n",
       "      <th>Revenues ($M)</th>\n",
       "      <th>Revenue Change</th>\n",
       "      <th>Profits ($M)</th>\n",
       "      <th>Profit Change</th>\n",
       "      <th>Assets ($M)</th>\n",
       "      <th>Mkt Value as of 3/29/18 ($M)</th>\n",
       "      <th>Employees</th>\n",
       "      <th>CEO</th>\n",
       "      <th>CEO Title</th>\n",
       "      <th>Sector</th>\n",
       "      <th>Industry</th>\n",
       "      <th>Years on Fortune 500 List</th>\n",
       "      <th>City</th>\n",
       "      <th>State</th>\n",
       "    </tr>\n",
       "  </thead>\n",
       "  <tbody>\n",
       "    <tr>\n",
       "      <th>0</th>\n",
       "      <td>Walmart</td>\n",
       "      <td>1</td>\n",
       "      <td>$500,343</td>\n",
       "      <td>3.00%</td>\n",
       "      <td>$9,862.00</td>\n",
       "      <td>-27.70%</td>\n",
       "      <td>$204,522</td>\n",
       "      <td>$263,563</td>\n",
       "      <td>2,300,000</td>\n",
       "      <td>C. Douglas McMillon</td>\n",
       "      <td>President, Chief Executive Officer &amp;  Director</td>\n",
       "      <td>Retailing</td>\n",
       "      <td>General Merchandisers</td>\n",
       "      <td>24</td>\n",
       "      <td>Bentonville</td>\n",
       "      <td>AR</td>\n",
       "    </tr>\n",
       "    <tr>\n",
       "      <th>1</th>\n",
       "      <td>Exxon Mobil</td>\n",
       "      <td>4</td>\n",
       "      <td>$244,363</td>\n",
       "      <td>17.40%</td>\n",
       "      <td>$19,710.00</td>\n",
       "      <td>151.40%</td>\n",
       "      <td>$348,691</td>\n",
       "      <td>$316,157</td>\n",
       "      <td>71,200</td>\n",
       "      <td>Darren W. Woods</td>\n",
       "      <td>Chairman &amp;  Chief Executive Officer</td>\n",
       "      <td>Energy</td>\n",
       "      <td>Petroleum Refining</td>\n",
       "      <td>24</td>\n",
       "      <td>Irving</td>\n",
       "      <td>TX</td>\n",
       "    </tr>\n",
       "    <tr>\n",
       "      <th>2</th>\n",
       "      <td>Berkshire Hathaway</td>\n",
       "      <td>2</td>\n",
       "      <td>$242,137</td>\n",
       "      <td>8.30%</td>\n",
       "      <td>$44,940.00</td>\n",
       "      <td>86.70%</td>\n",
       "      <td>$702,095</td>\n",
       "      <td>$492,008</td>\n",
       "      <td>377,000</td>\n",
       "      <td>Warren E. Buffett</td>\n",
       "      <td>Chairman, President &amp;  Chief Executive Officer</td>\n",
       "      <td>Financials</td>\n",
       "      <td>Insurance: Property and Casualty (Stock)</td>\n",
       "      <td>24</td>\n",
       "      <td>Omaha</td>\n",
       "      <td>NE</td>\n",
       "    </tr>\n",
       "    <tr>\n",
       "      <th>3</th>\n",
       "      <td>Apple</td>\n",
       "      <td>3</td>\n",
       "      <td>$229,234</td>\n",
       "      <td>6.30%</td>\n",
       "      <td>$48,351.00</td>\n",
       "      <td>5.80%</td>\n",
       "      <td>$375,319</td>\n",
       "      <td>$851,318</td>\n",
       "      <td>123,000</td>\n",
       "      <td>Timothy D. Cook</td>\n",
       "      <td>Chairman &amp;  Chief Executive Officer</td>\n",
       "      <td>Technology</td>\n",
       "      <td>Computers, Office Equipment</td>\n",
       "      <td>24</td>\n",
       "      <td>Cupertino</td>\n",
       "      <td>CA</td>\n",
       "    </tr>\n",
       "    <tr>\n",
       "      <th>4</th>\n",
       "      <td>UnitedHealth Group</td>\n",
       "      <td>6</td>\n",
       "      <td>$201,159</td>\n",
       "      <td>8.80%</td>\n",
       "      <td>$10,558.00</td>\n",
       "      <td>50.50%</td>\n",
       "      <td>$139,058</td>\n",
       "      <td>$207,080</td>\n",
       "      <td>260,000</td>\n",
       "      <td>David S. Wichmann</td>\n",
       "      <td>Chairman &amp;  Chief Executive Officer</td>\n",
       "      <td>Health Care</td>\n",
       "      <td>Health Care: Insurance and Managed Care</td>\n",
       "      <td>24</td>\n",
       "      <td>Minnetonka</td>\n",
       "      <td>MN</td>\n",
       "    </tr>\n",
       "  </tbody>\n",
       "</table>\n",
       "</div>"
      ],
      "text/plain": [
       "                title Previous Rank Revenues ($M) Revenue Change Profits ($M)  \\\n",
       "0             Walmart             1      $500,343          3.00%    $9,862.00   \n",
       "1         Exxon Mobil             4      $244,363         17.40%   $19,710.00   \n",
       "2  Berkshire Hathaway             2      $242,137          8.30%   $44,940.00   \n",
       "3               Apple             3      $229,234          6.30%   $48,351.00   \n",
       "4  UnitedHealth Group             6      $201,159          8.80%   $10,558.00   \n",
       "\n",
       "  Profit Change Assets ($M) Mkt Value as of 3/29/18 ($M)  Employees  \\\n",
       "0       -27.70%    $204,522                     $263,563  2,300,000   \n",
       "1       151.40%    $348,691                     $316,157     71,200   \n",
       "2        86.70%    $702,095                     $492,008    377,000   \n",
       "3         5.80%    $375,319                     $851,318    123,000   \n",
       "4        50.50%    $139,058                     $207,080    260,000   \n",
       "\n",
       "                   CEO                                       CEO Title  \\\n",
       "0  C. Douglas McMillon  President, Chief Executive Officer &  Director   \n",
       "1      Darren W. Woods             Chairman &  Chief Executive Officer   \n",
       "2    Warren E. Buffett  Chairman, President &  Chief Executive Officer   \n",
       "3      Timothy D. Cook             Chairman &  Chief Executive Officer   \n",
       "4    David S. Wichmann             Chairman &  Chief Executive Officer   \n",
       "\n",
       "        Sector                                  Industry  \\\n",
       "0    Retailing                     General Merchandisers   \n",
       "1       Energy                        Petroleum Refining   \n",
       "2   Financials  Insurance: Property and Casualty (Stock)   \n",
       "3   Technology               Computers, Office Equipment   \n",
       "4  Health Care   Health Care: Insurance and Managed Care   \n",
       "\n",
       "  Years on Fortune 500 List         City State  \n",
       "0                        24  Bentonville    AR  \n",
       "1                        24       Irving    TX  \n",
       "2                        24        Omaha    NE  \n",
       "3                        24    Cupertino    CA  \n",
       "4                        24   Minnetonka    MN  "
      ]
     },
     "execution_count": 8,
     "metadata": {},
     "output_type": "execute_result"
    },
    {
     "data": {
      "application/javascript": [
       "\n",
       "            setTimeout(function() {\n",
       "                var nbb_cell_id = 8;\n",
       "                var nbb_unformatted_code = \"categorical.head()\";\n",
       "                var nbb_formatted_code = \"categorical.head()\";\n",
       "                var nbb_cells = Jupyter.notebook.get_cells();\n",
       "                for (var i = 0; i < nbb_cells.length; ++i) {\n",
       "                    if (nbb_cells[i].input_prompt_number == nbb_cell_id) {\n",
       "                        if (nbb_cells[i].get_text() == nbb_unformatted_code) {\n",
       "                             nbb_cells[i].set_text(nbb_formatted_code);\n",
       "                        }\n",
       "                        break;\n",
       "                    }\n",
       "                }\n",
       "            }, 500);\n",
       "            "
      ],
      "text/plain": [
       "<IPython.core.display.Javascript object>"
      ]
     },
     "metadata": {},
     "output_type": "display_data"
    }
   ],
   "source": [
    "categorical.head()"
   ]
  },
  {
   "cell_type": "code",
   "execution_count": 9,
   "metadata": {
    "colab": {},
    "colab_type": "code",
    "id": "nJiWSoOw5DRL"
   },
   "outputs": [
    {
     "data": {
      "application/javascript": [
       "\n",
       "            setTimeout(function() {\n",
       "                var nbb_cell_id = 9;\n",
       "                var nbb_unformatted_code = \"# categorical['Previous Rank'] = categorical['Previous Rank'].str.replace('-', '')\\n\\n# categorical['Previous Rank'] = pd.to_numeric(categorical['Previous Rank'])\";\n",
       "                var nbb_formatted_code = \"# categorical['Previous Rank'] = categorical['Previous Rank'].str.replace('-', '')\\n\\n# categorical['Previous Rank'] = pd.to_numeric(categorical['Previous Rank'])\";\n",
       "                var nbb_cells = Jupyter.notebook.get_cells();\n",
       "                for (var i = 0; i < nbb_cells.length; ++i) {\n",
       "                    if (nbb_cells[i].input_prompt_number == nbb_cell_id) {\n",
       "                        if (nbb_cells[i].get_text() == nbb_unformatted_code) {\n",
       "                             nbb_cells[i].set_text(nbb_formatted_code);\n",
       "                        }\n",
       "                        break;\n",
       "                    }\n",
       "                }\n",
       "            }, 500);\n",
       "            "
      ],
      "text/plain": [
       "<IPython.core.display.Javascript object>"
      ]
     },
     "metadata": {},
     "output_type": "display_data"
    }
   ],
   "source": [
    "# categorical['Previous Rank'] = categorical['Previous Rank'].str.replace('-', '')\n",
    "\n",
    "# categorical['Previous Rank'] = pd.to_numeric(categorical['Previous Rank'])\n"
   ]
  },
  {
   "cell_type": "code",
   "execution_count": 10,
   "metadata": {
    "colab": {},
    "colab_type": "code",
    "id": "Xr8bkMZoDtyx"
   },
   "outputs": [
    {
     "data": {
      "application/javascript": [
       "\n",
       "            setTimeout(function() {\n",
       "                var nbb_cell_id = 10;\n",
       "                var nbb_unformatted_code = \"# categorical['Revenues ($M)'] = categorical['Revenues ($M)'].str.replace('$', '')\\n# categorical['Revenues ($M)'] = categorical['Revenues ($M)'].str.replace(',', '')\\n# categorical['Revenues ($M)'] = categorical['Revenues ($M)'].str.replace('.', '')\\n# categorical['Revenues ($M)'] = pd.to_numeric(categorical['Revenues ($M)'])\";\n",
       "                var nbb_formatted_code = \"# categorical['Revenues ($M)'] = categorical['Revenues ($M)'].str.replace('$', '')\\n# categorical['Revenues ($M)'] = categorical['Revenues ($M)'].str.replace(',', '')\\n# categorical['Revenues ($M)'] = categorical['Revenues ($M)'].str.replace('.', '')\\n# categorical['Revenues ($M)'] = pd.to_numeric(categorical['Revenues ($M)'])\";\n",
       "                var nbb_cells = Jupyter.notebook.get_cells();\n",
       "                for (var i = 0; i < nbb_cells.length; ++i) {\n",
       "                    if (nbb_cells[i].input_prompt_number == nbb_cell_id) {\n",
       "                        if (nbb_cells[i].get_text() == nbb_unformatted_code) {\n",
       "                             nbb_cells[i].set_text(nbb_formatted_code);\n",
       "                        }\n",
       "                        break;\n",
       "                    }\n",
       "                }\n",
       "            }, 500);\n",
       "            "
      ],
      "text/plain": [
       "<IPython.core.display.Javascript object>"
      ]
     },
     "metadata": {},
     "output_type": "display_data"
    }
   ],
   "source": [
    "# categorical['Revenues ($M)'] = categorical['Revenues ($M)'].str.replace('$', '')\n",
    "# categorical['Revenues ($M)'] = categorical['Revenues ($M)'].str.replace(',', '')\n",
    "# categorical['Revenues ($M)'] = categorical['Revenues ($M)'].str.replace('.', '')\n",
    "# categorical['Revenues ($M)'] = pd.to_numeric(categorical['Revenues ($M)'])"
   ]
  },
  {
   "cell_type": "code",
   "execution_count": 11,
   "metadata": {
    "colab": {},
    "colab_type": "code",
    "id": "yKJ8OFOIEH_u"
   },
   "outputs": [
    {
     "data": {
      "application/javascript": [
       "\n",
       "            setTimeout(function() {\n",
       "                var nbb_cell_id = 11;\n",
       "                var nbb_unformatted_code = \"def col_to_num(string_df):\\n  for col_name in string_df:\\n#     string_df.replace(to_replace=\\\"\\\\$\\\", value=\\\"\\\", regex=True)\\n#     string_df.replace(to_replace=\\\"\\\\,\\\", value=\\\"\\\", regex=True)\\n#     string_df.replace(to_replace=\\\"\\\\%\\\", value=\\\"\\\", regex=True)\\n#     string_df.replace(to_replace=\\\"\\\\.\\\", value=\\\"\\\", regex=True)\\n      \\n        \\n        \\n    \\n    string_df[col_name] = string_df[col_name].str.replace('$', '',regex=False)\\n    string_df[col_name] = string_df[col_name].str.replace(',', '', regex=False)\\n    string_df[col_name] = string_df[col_name].str.replace('%', '', regex=False)\\n    #string_df[col_name] = string_df[col_name].str.replace('.', '', regex=False)\\n    #string_df[col_name] = string_df[col_name].str.replace('-', '', regex=False)\\n    #string_conv = string_df.replace({\\\"$\\\": \\\"\\\", \\\",\\\": \\\"\\\", \\\"%\\\": \\\"\\\"}, regex=True)\\n\\n    string_df[col_name] = pd.to_numeric(string_df[col_name])\\n  return string_df\";\n",
       "                var nbb_formatted_code = \"def col_to_num(string_df):\\n    for col_name in string_df:\\n        #     string_df.replace(to_replace=\\\"\\\\$\\\", value=\\\"\\\", regex=True)\\n        #     string_df.replace(to_replace=\\\"\\\\,\\\", value=\\\"\\\", regex=True)\\n        #     string_df.replace(to_replace=\\\"\\\\%\\\", value=\\\"\\\", regex=True)\\n        #     string_df.replace(to_replace=\\\"\\\\.\\\", value=\\\"\\\", regex=True)\\n\\n        string_df[col_name] = string_df[col_name].str.replace(\\\"$\\\", \\\"\\\", regex=False)\\n        string_df[col_name] = string_df[col_name].str.replace(\\\",\\\", \\\"\\\", regex=False)\\n        string_df[col_name] = string_df[col_name].str.replace(\\\"%\\\", \\\"\\\", regex=False)\\n        # string_df[col_name] = string_df[col_name].str.replace('.', '', regex=False)\\n        # string_df[col_name] = string_df[col_name].str.replace('-', '', regex=False)\\n        # string_conv = string_df.replace({\\\"$\\\": \\\"\\\", \\\",\\\": \\\"\\\", \\\"%\\\": \\\"\\\"}, regex=True)\\n\\n        string_df[col_name] = pd.to_numeric(string_df[col_name])\\n    return string_df\";\n",
       "                var nbb_cells = Jupyter.notebook.get_cells();\n",
       "                for (var i = 0; i < nbb_cells.length; ++i) {\n",
       "                    if (nbb_cells[i].input_prompt_number == nbb_cell_id) {\n",
       "                        if (nbb_cells[i].get_text() == nbb_unformatted_code) {\n",
       "                             nbb_cells[i].set_text(nbb_formatted_code);\n",
       "                        }\n",
       "                        break;\n",
       "                    }\n",
       "                }\n",
       "            }, 500);\n",
       "            "
      ],
      "text/plain": [
       "<IPython.core.display.Javascript object>"
      ]
     },
     "metadata": {},
     "output_type": "display_data"
    }
   ],
   "source": [
    "def col_to_num(string_df):\n",
    "  for col_name in string_df:\n",
    "#     string_df.replace(to_replace=\"\\$\", value=\"\", regex=True)\n",
    "#     string_df.replace(to_replace=\"\\,\", value=\"\", regex=True)\n",
    "#     string_df.replace(to_replace=\"\\%\", value=\"\", regex=True)\n",
    "#     string_df.replace(to_replace=\"\\.\", value=\"\", regex=True)\n",
    "      \n",
    "        \n",
    "        \n",
    "    \n",
    "    string_df[col_name] = string_df[col_name].str.replace('$', '',regex=False)\n",
    "    string_df[col_name] = string_df[col_name].str.replace(',', '', regex=False)\n",
    "    string_df[col_name] = string_df[col_name].str.replace('%', '', regex=False)\n",
    "    #string_df[col_name] = string_df[col_name].str.replace('.', '', regex=False)\n",
    "    #string_df[col_name] = string_df[col_name].str.replace('-', '', regex=False)\n",
    "    #string_conv = string_df.replace({\"$\": \"\", \",\": \"\", \"%\": \"\"}, regex=True)\n",
    "\n",
    "    string_df[col_name] = pd.to_numeric(string_df[col_name])\n",
    "  return string_df\n"
   ]
  },
  {
   "cell_type": "code",
   "execution_count": 12,
   "metadata": {},
   "outputs": [
    {
     "name": "stdout",
     "output_type": "stream",
     "text": [
      "<class 'pandas.core.frame.DataFrame'>\n",
      "RangeIndex: 1000 entries, 0 to 999\n",
      "Data columns (total 16 columns):\n",
      " #   Column                        Non-Null Count  Dtype \n",
      "---  ------                        --------------  ----- \n",
      " 0   title                         1000 non-null   object\n",
      " 1   Previous Rank                 937 non-null    object\n",
      " 2   Revenues ($M)                 1000 non-null   object\n",
      " 3   Revenue Change                995 non-null    object\n",
      " 4   Profits ($M)                  998 non-null    object\n",
      " 5   Profit Change                 844 non-null    object\n",
      " 6   Assets ($M)                   1000 non-null   object\n",
      " 7   Mkt Value as of 3/29/18 ($M)  951 non-null    object\n",
      " 8   Employees                     1000 non-null   object\n",
      " 9   CEO                           1000 non-null   object\n",
      " 10  CEO Title                     1000 non-null   object\n",
      " 11  Sector                        1000 non-null   object\n",
      " 12  Industry                      1000 non-null   object\n",
      " 13  Years on Fortune 500 List     500 non-null    object\n",
      " 14  City                          999 non-null    object\n",
      " 15  State                         1000 non-null   object\n",
      "dtypes: object(16)\n",
      "memory usage: 125.1+ KB\n"
     ]
    },
    {
     "name": "stderr",
     "output_type": "stream",
     "text": [
      "C:\\Users\\dgump\\miniconda3\\lib\\site-packages\\ipykernel_launcher.py:1: SettingWithCopyWarning: \n",
      "A value is trying to be set on a copy of a slice from a DataFrame.\n",
      "Try using .loc[row_indexer,col_indexer] = value instead\n",
      "\n",
      "See the caveats in the documentation: https://pandas.pydata.org/pandas-docs/stable/user_guide/indexing.html#returning-a-view-versus-a-copy\n",
      "  \"\"\"Entry point for launching an IPython kernel.\n",
      "C:\\Users\\dgump\\miniconda3\\lib\\site-packages\\pandas\\core\\frame.py:2986: SettingWithCopyWarning: \n",
      "A value is trying to be set on a copy of a slice from a DataFrame\n",
      "\n",
      "See the caveats in the documentation: https://pandas.pydata.org/pandas-docs/stable/user_guide/indexing.html#returning-a-view-versus-a-copy\n",
      "  self._where(-key, value, inplace=True)\n"
     ]
    },
    {
     "data": {
      "application/javascript": [
       "\n",
       "            setTimeout(function() {\n",
       "                var nbb_cell_id = 12;\n",
       "                var nbb_unformatted_code = \"categorical[categorical == \\\"-\\\"] = np.nan\\ncategorical.info()\";\n",
       "                var nbb_formatted_code = \"categorical[categorical == \\\"-\\\"] = np.nan\\ncategorical.info()\";\n",
       "                var nbb_cells = Jupyter.notebook.get_cells();\n",
       "                for (var i = 0; i < nbb_cells.length; ++i) {\n",
       "                    if (nbb_cells[i].input_prompt_number == nbb_cell_id) {\n",
       "                        if (nbb_cells[i].get_text() == nbb_unformatted_code) {\n",
       "                             nbb_cells[i].set_text(nbb_formatted_code);\n",
       "                        }\n",
       "                        break;\n",
       "                    }\n",
       "                }\n",
       "            }, 500);\n",
       "            "
      ],
      "text/plain": [
       "<IPython.core.display.Javascript object>"
      ]
     },
     "metadata": {},
     "output_type": "display_data"
    }
   ],
   "source": [
    "categorical[categorical == \"-\"] = np.nan\n",
    "categorical.info()"
   ]
  },
  {
   "cell_type": "code",
   "execution_count": 13,
   "metadata": {
    "colab": {},
    "colab_type": "code",
    "id": "H6yC4b0SIQD_"
   },
   "outputs": [
    {
     "data": {
      "text/html": [
       "<div>\n",
       "<style scoped>\n",
       "    .dataframe tbody tr th:only-of-type {\n",
       "        vertical-align: middle;\n",
       "    }\n",
       "\n",
       "    .dataframe tbody tr th {\n",
       "        vertical-align: top;\n",
       "    }\n",
       "\n",
       "    .dataframe thead th {\n",
       "        text-align: right;\n",
       "    }\n",
       "</style>\n",
       "<table border=\"1\" class=\"dataframe\">\n",
       "  <thead>\n",
       "    <tr style=\"text-align: right;\">\n",
       "      <th></th>\n",
       "      <th>Previous Rank</th>\n",
       "      <th>Revenues ($M)</th>\n",
       "      <th>Revenue Change</th>\n",
       "      <th>Profits ($M)</th>\n",
       "      <th>Profit Change</th>\n",
       "      <th>Assets ($M)</th>\n",
       "      <th>Mkt Value as of 3/29/18 ($M)</th>\n",
       "      <th>Employees</th>\n",
       "      <th>Years on Fortune 500 List</th>\n",
       "    </tr>\n",
       "  </thead>\n",
       "  <tbody>\n",
       "    <tr>\n",
       "      <th>0</th>\n",
       "      <td>1.0</td>\n",
       "      <td>500343.0</td>\n",
       "      <td>3.0</td>\n",
       "      <td>9862.0</td>\n",
       "      <td>-27.7</td>\n",
       "      <td>204522.0</td>\n",
       "      <td>263563.0</td>\n",
       "      <td>2300000</td>\n",
       "      <td>24.0</td>\n",
       "    </tr>\n",
       "    <tr>\n",
       "      <th>1</th>\n",
       "      <td>4.0</td>\n",
       "      <td>244363.0</td>\n",
       "      <td>17.4</td>\n",
       "      <td>19710.0</td>\n",
       "      <td>151.4</td>\n",
       "      <td>348691.0</td>\n",
       "      <td>316157.0</td>\n",
       "      <td>71200</td>\n",
       "      <td>24.0</td>\n",
       "    </tr>\n",
       "    <tr>\n",
       "      <th>2</th>\n",
       "      <td>2.0</td>\n",
       "      <td>242137.0</td>\n",
       "      <td>8.3</td>\n",
       "      <td>44940.0</td>\n",
       "      <td>86.7</td>\n",
       "      <td>702095.0</td>\n",
       "      <td>492008.0</td>\n",
       "      <td>377000</td>\n",
       "      <td>24.0</td>\n",
       "    </tr>\n",
       "    <tr>\n",
       "      <th>3</th>\n",
       "      <td>3.0</td>\n",
       "      <td>229234.0</td>\n",
       "      <td>6.3</td>\n",
       "      <td>48351.0</td>\n",
       "      <td>5.8</td>\n",
       "      <td>375319.0</td>\n",
       "      <td>851318.0</td>\n",
       "      <td>123000</td>\n",
       "      <td>24.0</td>\n",
       "    </tr>\n",
       "    <tr>\n",
       "      <th>4</th>\n",
       "      <td>6.0</td>\n",
       "      <td>201159.0</td>\n",
       "      <td>8.8</td>\n",
       "      <td>10558.0</td>\n",
       "      <td>50.5</td>\n",
       "      <td>139058.0</td>\n",
       "      <td>207080.0</td>\n",
       "      <td>260000</td>\n",
       "      <td>24.0</td>\n",
       "    </tr>\n",
       "    <tr>\n",
       "      <th>...</th>\n",
       "      <td>...</td>\n",
       "      <td>...</td>\n",
       "      <td>...</td>\n",
       "      <td>...</td>\n",
       "      <td>...</td>\n",
       "      <td>...</td>\n",
       "      <td>...</td>\n",
       "      <td>...</td>\n",
       "      <td>...</td>\n",
       "    </tr>\n",
       "    <tr>\n",
       "      <th>995</th>\n",
       "      <td>NaN</td>\n",
       "      <td>1862.0</td>\n",
       "      <td>13.0</td>\n",
       "      <td>54.6</td>\n",
       "      <td>78.4</td>\n",
       "      <td>911.0</td>\n",
       "      <td>3084.0</td>\n",
       "      <td>3664</td>\n",
       "      <td>NaN</td>\n",
       "    </tr>\n",
       "    <tr>\n",
       "      <th>996</th>\n",
       "      <td>NaN</td>\n",
       "      <td>1858.0</td>\n",
       "      <td>10.5</td>\n",
       "      <td>123.4</td>\n",
       "      <td>-20.3</td>\n",
       "      <td>2930.0</td>\n",
       "      <td>5118.0</td>\n",
       "      <td>11800</td>\n",
       "      <td>NaN</td>\n",
       "    </tr>\n",
       "    <tr>\n",
       "      <th>997</th>\n",
       "      <td>952.0</td>\n",
       "      <td>1851.0</td>\n",
       "      <td>-5.2</td>\n",
       "      <td>152.2</td>\n",
       "      <td>42.8</td>\n",
       "      <td>4077.0</td>\n",
       "      <td>3694.0</td>\n",
       "      <td>5900</td>\n",
       "      <td>NaN</td>\n",
       "    </tr>\n",
       "    <tr>\n",
       "      <th>998</th>\n",
       "      <td>NaN</td>\n",
       "      <td>1849.0</td>\n",
       "      <td>11.8</td>\n",
       "      <td>40.5</td>\n",
       "      <td>-19.0</td>\n",
       "      <td>1102.0</td>\n",
       "      <td>1354.0</td>\n",
       "      <td>21301</td>\n",
       "      <td>NaN</td>\n",
       "    </tr>\n",
       "    <tr>\n",
       "      <th>999</th>\n",
       "      <td>798.0</td>\n",
       "      <td>1848.0</td>\n",
       "      <td>-27.2</td>\n",
       "      <td>414.2</td>\n",
       "      <td>-34.0</td>\n",
       "      <td>14089.0</td>\n",
       "      <td>10910.0</td>\n",
       "      <td>190</td>\n",
       "      <td>NaN</td>\n",
       "    </tr>\n",
       "  </tbody>\n",
       "</table>\n",
       "<p>1000 rows × 9 columns</p>\n",
       "</div>"
      ],
      "text/plain": [
       "     Previous Rank  Revenues ($M)  Revenue Change  Profits ($M)  \\\n",
       "0              1.0       500343.0             3.0        9862.0   \n",
       "1              4.0       244363.0            17.4       19710.0   \n",
       "2              2.0       242137.0             8.3       44940.0   \n",
       "3              3.0       229234.0             6.3       48351.0   \n",
       "4              6.0       201159.0             8.8       10558.0   \n",
       "..             ...            ...             ...           ...   \n",
       "995            NaN         1862.0            13.0          54.6   \n",
       "996            NaN         1858.0            10.5         123.4   \n",
       "997          952.0         1851.0            -5.2         152.2   \n",
       "998            NaN         1849.0            11.8          40.5   \n",
       "999          798.0         1848.0           -27.2         414.2   \n",
       "\n",
       "     Profit Change  Assets ($M)  Mkt Value as of 3/29/18 ($M)  Employees  \\\n",
       "0            -27.7     204522.0                      263563.0    2300000   \n",
       "1            151.4     348691.0                      316157.0      71200   \n",
       "2             86.7     702095.0                      492008.0     377000   \n",
       "3              5.8     375319.0                      851318.0     123000   \n",
       "4             50.5     139058.0                      207080.0     260000   \n",
       "..             ...          ...                           ...        ...   \n",
       "995           78.4        911.0                        3084.0       3664   \n",
       "996          -20.3       2930.0                        5118.0      11800   \n",
       "997           42.8       4077.0                        3694.0       5900   \n",
       "998          -19.0       1102.0                        1354.0      21301   \n",
       "999          -34.0      14089.0                       10910.0        190   \n",
       "\n",
       "     Years on Fortune 500 List  \n",
       "0                         24.0  \n",
       "1                         24.0  \n",
       "2                         24.0  \n",
       "3                         24.0  \n",
       "4                         24.0  \n",
       "..                         ...  \n",
       "995                        NaN  \n",
       "996                        NaN  \n",
       "997                        NaN  \n",
       "998                        NaN  \n",
       "999                        NaN  \n",
       "\n",
       "[1000 rows x 9 columns]"
      ]
     },
     "execution_count": 13,
     "metadata": {},
     "output_type": "execute_result"
    },
    {
     "data": {
      "application/javascript": [
       "\n",
       "            setTimeout(function() {\n",
       "                var nbb_cell_id = 13;\n",
       "                var nbb_unformatted_code = \"cat_num = categorical.loc[:,['Previous Rank', 'Revenues ($M)', 'Revenue Change', 'Profits ($M)', 'Profit Change', 'Assets ($M)', 'Mkt Value as of 3/29/18 ($M)', 'Employees', 'Years on Fortune 500 List']]\\ncol_to_num(cat_num)\";\n",
       "                var nbb_formatted_code = \"cat_num = categorical.loc[\\n    :,\\n    [\\n        \\\"Previous Rank\\\",\\n        \\\"Revenues ($M)\\\",\\n        \\\"Revenue Change\\\",\\n        \\\"Profits ($M)\\\",\\n        \\\"Profit Change\\\",\\n        \\\"Assets ($M)\\\",\\n        \\\"Mkt Value as of 3/29/18 ($M)\\\",\\n        \\\"Employees\\\",\\n        \\\"Years on Fortune 500 List\\\",\\n    ],\\n]\\ncol_to_num(cat_num)\";\n",
       "                var nbb_cells = Jupyter.notebook.get_cells();\n",
       "                for (var i = 0; i < nbb_cells.length; ++i) {\n",
       "                    if (nbb_cells[i].input_prompt_number == nbb_cell_id) {\n",
       "                        if (nbb_cells[i].get_text() == nbb_unformatted_code) {\n",
       "                             nbb_cells[i].set_text(nbb_formatted_code);\n",
       "                        }\n",
       "                        break;\n",
       "                    }\n",
       "                }\n",
       "            }, 500);\n",
       "            "
      ],
      "text/plain": [
       "<IPython.core.display.Javascript object>"
      ]
     },
     "metadata": {},
     "output_type": "display_data"
    }
   ],
   "source": [
    "cat_num = categorical.loc[\n",
    "    :,\n",
    "    [\n",
    "        \"Previous Rank\",\n",
    "        \"Revenues ($M)\",\n",
    "        \"Revenue Change\",\n",
    "        \"Profits ($M)\",\n",
    "        \"Profit Change\",\n",
    "        \"Assets ($M)\",\n",
    "        \"Mkt Value as of 3/29/18 ($M)\",\n",
    "        \"Employees\",\n",
    "        \"Years on Fortune 500 List\",\n",
    "    ],\n",
    "]\n",
    "col_to_num(cat_num)"
   ]
  },
  {
   "cell_type": "code",
   "execution_count": null,
   "metadata": {
    "colab": {
     "base_uri": "https://localhost:8080/",
     "height": 527
    },
    "colab_type": "code",
    "id": "fbmON_tWMU_3",
    "outputId": "4218fcab-2eab-4529-bfb3-709d166e3b33"
   },
   "outputs": [],
   "source": []
  },
  {
   "cell_type": "code",
   "execution_count": 14,
   "metadata": {
    "colab": {},
    "colab_type": "code",
    "id": "-_pnwimhCiN4"
   },
   "outputs": [
    {
     "data": {
      "application/javascript": [
       "\n",
       "            setTimeout(function() {\n",
       "                var nbb_cell_id = 14;\n",
       "                var nbb_unformatted_code = \"# cat_num.info()\\n# print(cat_num.info())\\n# fortune.info()\\n\\nfortune.iloc[:, [2, 3, 4, 5, 6, 7, 8, 9, 14]] = cat_num\";\n",
       "                var nbb_formatted_code = \"# cat_num.info()\\n# print(cat_num.info())\\n# fortune.info()\\n\\nfortune.iloc[:, [2, 3, 4, 5, 6, 7, 8, 9, 14]] = cat_num\";\n",
       "                var nbb_cells = Jupyter.notebook.get_cells();\n",
       "                for (var i = 0; i < nbb_cells.length; ++i) {\n",
       "                    if (nbb_cells[i].input_prompt_number == nbb_cell_id) {\n",
       "                        if (nbb_cells[i].get_text() == nbb_unformatted_code) {\n",
       "                             nbb_cells[i].set_text(nbb_formatted_code);\n",
       "                        }\n",
       "                        break;\n",
       "                    }\n",
       "                }\n",
       "            }, 500);\n",
       "            "
      ],
      "text/plain": [
       "<IPython.core.display.Javascript object>"
      ]
     },
     "metadata": {},
     "output_type": "display_data"
    }
   ],
   "source": [
    "# cat_num.info()\n",
    "# print(cat_num.info())\n",
    "# fortune.info()\n",
    "\n",
    "fortune.iloc[:, [2, 3, 4, 5, 6, 7, 8, 9, 14]] = cat_num"
   ]
  },
  {
   "cell_type": "code",
   "execution_count": 15,
   "metadata": {
    "colab": {
     "base_uri": "https://localhost:8080/",
     "height": 782
    },
    "colab_type": "code",
    "id": "T9WI8l_QUYDA",
    "outputId": "41c4fd85-eaec-437a-f834-493cf529d745"
   },
   "outputs": [
    {
     "name": "stdout",
     "output_type": "stream",
     "text": [
      "<class 'pandas.core.frame.DataFrame'>\n",
      "RangeIndex: 1000 entries, 0 to 999\n",
      "Data columns (total 19 columns):\n",
      " #   Column                        Non-Null Count  Dtype  \n",
      "---  ------                        --------------  -----  \n",
      " 0   rank                          1000 non-null   int64  \n",
      " 1   title                         1000 non-null   object \n",
      " 2   Previous Rank                 937 non-null    float64\n",
      " 3   Revenues ($M)                 1000 non-null   float64\n",
      " 4   Revenue Change                995 non-null    float64\n",
      " 5   Profits ($M)                  998 non-null    float64\n",
      " 6   Profit Change                 844 non-null    float64\n",
      " 7   Assets ($M)                   1000 non-null   float64\n",
      " 8   Mkt Value as of 3/29/18 ($M)  951 non-null    float64\n",
      " 9   Employees                     1000 non-null   int64  \n",
      " 10  CEO                           1000 non-null   object \n",
      " 11  CEO Title                     1000 non-null   object \n",
      " 12  Sector                        1000 non-null   object \n",
      " 13  Industry                      1000 non-null   object \n",
      " 14  Years on Fortune 500 List     500 non-null    float64\n",
      " 15  City                          999 non-null    object \n",
      " 16  State                         1000 non-null   object \n",
      " 17  Latitude                      1000 non-null   float64\n",
      " 18  Longitude                     1000 non-null   float64\n",
      "dtypes: float64(10), int64(2), object(7)\n",
      "memory usage: 148.6+ KB\n"
     ]
    },
    {
     "data": {
      "text/html": [
       "<div>\n",
       "<style scoped>\n",
       "    .dataframe tbody tr th:only-of-type {\n",
       "        vertical-align: middle;\n",
       "    }\n",
       "\n",
       "    .dataframe tbody tr th {\n",
       "        vertical-align: top;\n",
       "    }\n",
       "\n",
       "    .dataframe thead th {\n",
       "        text-align: right;\n",
       "    }\n",
       "</style>\n",
       "<table border=\"1\" class=\"dataframe\">\n",
       "  <thead>\n",
       "    <tr style=\"text-align: right;\">\n",
       "      <th></th>\n",
       "      <th>rank</th>\n",
       "      <th>title</th>\n",
       "      <th>Previous Rank</th>\n",
       "      <th>Revenues ($M)</th>\n",
       "      <th>Revenue Change</th>\n",
       "      <th>Profits ($M)</th>\n",
       "      <th>Profit Change</th>\n",
       "      <th>Assets ($M)</th>\n",
       "      <th>Mkt Value as of 3/29/18 ($M)</th>\n",
       "      <th>Employees</th>\n",
       "      <th>CEO</th>\n",
       "      <th>CEO Title</th>\n",
       "      <th>Sector</th>\n",
       "      <th>Industry</th>\n",
       "      <th>Years on Fortune 500 List</th>\n",
       "      <th>City</th>\n",
       "      <th>State</th>\n",
       "      <th>Latitude</th>\n",
       "      <th>Longitude</th>\n",
       "    </tr>\n",
       "  </thead>\n",
       "  <tbody>\n",
       "    <tr>\n",
       "      <th>0</th>\n",
       "      <td>1</td>\n",
       "      <td>Walmart</td>\n",
       "      <td>1.0</td>\n",
       "      <td>500343.0</td>\n",
       "      <td>3.0</td>\n",
       "      <td>9862.0</td>\n",
       "      <td>-27.7</td>\n",
       "      <td>204522.0</td>\n",
       "      <td>263563.0</td>\n",
       "      <td>2300000</td>\n",
       "      <td>C. Douglas McMillon</td>\n",
       "      <td>President, Chief Executive Officer &amp;  Director</td>\n",
       "      <td>Retailing</td>\n",
       "      <td>General Merchandisers</td>\n",
       "      <td>24.0</td>\n",
       "      <td>Bentonville</td>\n",
       "      <td>AR</td>\n",
       "      <td>36.372854</td>\n",
       "      <td>-94.208817</td>\n",
       "    </tr>\n",
       "    <tr>\n",
       "      <th>1</th>\n",
       "      <td>2</td>\n",
       "      <td>Exxon Mobil</td>\n",
       "      <td>4.0</td>\n",
       "      <td>244363.0</td>\n",
       "      <td>17.4</td>\n",
       "      <td>19710.0</td>\n",
       "      <td>151.4</td>\n",
       "      <td>348691.0</td>\n",
       "      <td>316157.0</td>\n",
       "      <td>71200</td>\n",
       "      <td>Darren W. Woods</td>\n",
       "      <td>Chairman &amp;  Chief Executive Officer</td>\n",
       "      <td>Energy</td>\n",
       "      <td>Petroleum Refining</td>\n",
       "      <td>24.0</td>\n",
       "      <td>Irving</td>\n",
       "      <td>TX</td>\n",
       "      <td>32.814018</td>\n",
       "      <td>-96.948894</td>\n",
       "    </tr>\n",
       "    <tr>\n",
       "      <th>2</th>\n",
       "      <td>3</td>\n",
       "      <td>Berkshire Hathaway</td>\n",
       "      <td>2.0</td>\n",
       "      <td>242137.0</td>\n",
       "      <td>8.3</td>\n",
       "      <td>44940.0</td>\n",
       "      <td>86.7</td>\n",
       "      <td>702095.0</td>\n",
       "      <td>492008.0</td>\n",
       "      <td>377000</td>\n",
       "      <td>Warren E. Buffett</td>\n",
       "      <td>Chairman, President &amp;  Chief Executive Officer</td>\n",
       "      <td>Financials</td>\n",
       "      <td>Insurance: Property and Casualty (Stock)</td>\n",
       "      <td>24.0</td>\n",
       "      <td>Omaha</td>\n",
       "      <td>NE</td>\n",
       "      <td>41.256537</td>\n",
       "      <td>-95.934503</td>\n",
       "    </tr>\n",
       "    <tr>\n",
       "      <th>3</th>\n",
       "      <td>4</td>\n",
       "      <td>Apple</td>\n",
       "      <td>3.0</td>\n",
       "      <td>229234.0</td>\n",
       "      <td>6.3</td>\n",
       "      <td>48351.0</td>\n",
       "      <td>5.8</td>\n",
       "      <td>375319.0</td>\n",
       "      <td>851318.0</td>\n",
       "      <td>123000</td>\n",
       "      <td>Timothy D. Cook</td>\n",
       "      <td>Chairman &amp;  Chief Executive Officer</td>\n",
       "      <td>Technology</td>\n",
       "      <td>Computers, Office Equipment</td>\n",
       "      <td>24.0</td>\n",
       "      <td>Cupertino</td>\n",
       "      <td>CA</td>\n",
       "      <td>37.322998</td>\n",
       "      <td>-122.032182</td>\n",
       "    </tr>\n",
       "    <tr>\n",
       "      <th>4</th>\n",
       "      <td>5</td>\n",
       "      <td>UnitedHealth Group</td>\n",
       "      <td>6.0</td>\n",
       "      <td>201159.0</td>\n",
       "      <td>8.8</td>\n",
       "      <td>10558.0</td>\n",
       "      <td>50.5</td>\n",
       "      <td>139058.0</td>\n",
       "      <td>207080.0</td>\n",
       "      <td>260000</td>\n",
       "      <td>David S. Wichmann</td>\n",
       "      <td>Chairman &amp;  Chief Executive Officer</td>\n",
       "      <td>Health Care</td>\n",
       "      <td>Health Care: Insurance and Managed Care</td>\n",
       "      <td>24.0</td>\n",
       "      <td>Minnetonka</td>\n",
       "      <td>MN</td>\n",
       "      <td>44.921184</td>\n",
       "      <td>-93.468749</td>\n",
       "    </tr>\n",
       "  </tbody>\n",
       "</table>\n",
       "</div>"
      ],
      "text/plain": [
       "   rank               title  Previous Rank  Revenues ($M)  Revenue Change  \\\n",
       "0     1             Walmart            1.0       500343.0             3.0   \n",
       "1     2         Exxon Mobil            4.0       244363.0            17.4   \n",
       "2     3  Berkshire Hathaway            2.0       242137.0             8.3   \n",
       "3     4               Apple            3.0       229234.0             6.3   \n",
       "4     5  UnitedHealth Group            6.0       201159.0             8.8   \n",
       "\n",
       "   Profits ($M)  Profit Change  Assets ($M)  Mkt Value as of 3/29/18 ($M)  \\\n",
       "0        9862.0          -27.7     204522.0                      263563.0   \n",
       "1       19710.0          151.4     348691.0                      316157.0   \n",
       "2       44940.0           86.7     702095.0                      492008.0   \n",
       "3       48351.0            5.8     375319.0                      851318.0   \n",
       "4       10558.0           50.5     139058.0                      207080.0   \n",
       "\n",
       "   Employees                  CEO  \\\n",
       "0    2300000  C. Douglas McMillon   \n",
       "1      71200      Darren W. Woods   \n",
       "2     377000    Warren E. Buffett   \n",
       "3     123000      Timothy D. Cook   \n",
       "4     260000    David S. Wichmann   \n",
       "\n",
       "                                        CEO Title       Sector  \\\n",
       "0  President, Chief Executive Officer &  Director    Retailing   \n",
       "1             Chairman &  Chief Executive Officer       Energy   \n",
       "2  Chairman, President &  Chief Executive Officer   Financials   \n",
       "3             Chairman &  Chief Executive Officer   Technology   \n",
       "4             Chairman &  Chief Executive Officer  Health Care   \n",
       "\n",
       "                                   Industry  Years on Fortune 500 List  \\\n",
       "0                     General Merchandisers                       24.0   \n",
       "1                        Petroleum Refining                       24.0   \n",
       "2  Insurance: Property and Casualty (Stock)                       24.0   \n",
       "3               Computers, Office Equipment                       24.0   \n",
       "4   Health Care: Insurance and Managed Care                       24.0   \n",
       "\n",
       "          City State   Latitude   Longitude  \n",
       "0  Bentonville    AR  36.372854  -94.208817  \n",
       "1       Irving    TX  32.814018  -96.948894  \n",
       "2        Omaha    NE  41.256537  -95.934503  \n",
       "3    Cupertino    CA  37.322998 -122.032182  \n",
       "4   Minnetonka    MN  44.921184  -93.468749  "
      ]
     },
     "execution_count": 15,
     "metadata": {},
     "output_type": "execute_result"
    },
    {
     "data": {
      "application/javascript": [
       "\n",
       "            setTimeout(function() {\n",
       "                var nbb_cell_id = 15;\n",
       "                var nbb_unformatted_code = \"fortune.info()\\nfortune.head()\";\n",
       "                var nbb_formatted_code = \"fortune.info()\\nfortune.head()\";\n",
       "                var nbb_cells = Jupyter.notebook.get_cells();\n",
       "                for (var i = 0; i < nbb_cells.length; ++i) {\n",
       "                    if (nbb_cells[i].input_prompt_number == nbb_cell_id) {\n",
       "                        if (nbb_cells[i].get_text() == nbb_unformatted_code) {\n",
       "                             nbb_cells[i].set_text(nbb_formatted_code);\n",
       "                        }\n",
       "                        break;\n",
       "                    }\n",
       "                }\n",
       "            }, 500);\n",
       "            "
      ],
      "text/plain": [
       "<IPython.core.display.Javascript object>"
      ]
     },
     "metadata": {},
     "output_type": "display_data"
    }
   ],
   "source": [
    "fortune.info()\n",
    "fortune.head()"
   ]
  },
  {
   "cell_type": "code",
   "execution_count": 16,
   "metadata": {},
   "outputs": [
    {
     "data": {
      "application/javascript": [
       "\n",
       "            setTimeout(function() {\n",
       "                var nbb_cell_id = 16;\n",
       "                var nbb_unformatted_code = \"import seaborn as sns\\nimport matplotlib.pyplot as plt\";\n",
       "                var nbb_formatted_code = \"import seaborn as sns\\nimport matplotlib.pyplot as plt\";\n",
       "                var nbb_cells = Jupyter.notebook.get_cells();\n",
       "                for (var i = 0; i < nbb_cells.length; ++i) {\n",
       "                    if (nbb_cells[i].input_prompt_number == nbb_cell_id) {\n",
       "                        if (nbb_cells[i].get_text() == nbb_unformatted_code) {\n",
       "                             nbb_cells[i].set_text(nbb_formatted_code);\n",
       "                        }\n",
       "                        break;\n",
       "                    }\n",
       "                }\n",
       "            }, 500);\n",
       "            "
      ],
      "text/plain": [
       "<IPython.core.display.Javascript object>"
      ]
     },
     "metadata": {},
     "output_type": "display_data"
    }
   ],
   "source": [
    "import seaborn as sns\n",
    "import matplotlib.pyplot as plt"
   ]
  },
  {
   "cell_type": "code",
   "execution_count": 17,
   "metadata": {},
   "outputs": [
    {
     "data": {
      "application/javascript": [
       "\n",
       "            setTimeout(function() {\n",
       "                var nbb_cell_id = 17;\n",
       "                var nbb_unformatted_code = \"plot_df = fortune[['rank', 'Revenues ($M)', 'Employees', 'Profits ($M)', 'Sector']]\";\n",
       "                var nbb_formatted_code = \"plot_df = fortune[[\\\"rank\\\", \\\"Revenues ($M)\\\", \\\"Employees\\\", \\\"Profits ($M)\\\", \\\"Sector\\\"]]\";\n",
       "                var nbb_cells = Jupyter.notebook.get_cells();\n",
       "                for (var i = 0; i < nbb_cells.length; ++i) {\n",
       "                    if (nbb_cells[i].input_prompt_number == nbb_cell_id) {\n",
       "                        if (nbb_cells[i].get_text() == nbb_unformatted_code) {\n",
       "                             nbb_cells[i].set_text(nbb_formatted_code);\n",
       "                        }\n",
       "                        break;\n",
       "                    }\n",
       "                }\n",
       "            }, 500);\n",
       "            "
      ],
      "text/plain": [
       "<IPython.core.display.Javascript object>"
      ]
     },
     "metadata": {},
     "output_type": "display_data"
    }
   ],
   "source": [
    "plot_df = fortune[[\"rank\", \"Revenues ($M)\", \"Employees\", \"Profits ($M)\", \"Sector\"]]"
   ]
  },
  {
   "cell_type": "code",
   "execution_count": 18,
   "metadata": {},
   "outputs": [
    {
     "data": {
      "image/png": "[encoded data removed]",
      "text/plain": [
       "<Figure size 907.875x720 with 20 Axes>"
      ]
     },
     "metadata": {
      "needs_background": "light"
     },
     "output_type": "display_data"
    },
    {
     "data": {
      "application/javascript": [
       "\n",
       "            setTimeout(function() {\n",
       "                var nbb_cell_id = 18;\n",
       "                var nbb_unformatted_code = \"sns.pairplot(plot_df, hue='Sector')\\nplt.show()\";\n",
       "                var nbb_formatted_code = \"sns.pairplot(plot_df, hue=\\\"Sector\\\")\\nplt.show()\";\n",
       "                var nbb_cells = Jupyter.notebook.get_cells();\n",
       "                for (var i = 0; i < nbb_cells.length; ++i) {\n",
       "                    if (nbb_cells[i].input_prompt_number == nbb_cell_id) {\n",
       "                        if (nbb_cells[i].get_text() == nbb_unformatted_code) {\n",
       "                             nbb_cells[i].set_text(nbb_formatted_code);\n",
       "                        }\n",
       "                        break;\n",
       "                    }\n",
       "                }\n",
       "            }, 500);\n",
       "            "
      ],
      "text/plain": [
       "<IPython.core.display.Javascript object>"
      ]
     },
     "metadata": {},
     "output_type": "display_data"
    }
   ],
   "source": [
    "sns.pairplot(plot_df, hue=\"Sector\")\n",
    "plt.show()"
   ]
  },
  {
   "cell_type": "markdown",
   "metadata": {
    "colab_type": "text",
    "id": "vGaAtIbwtM4o"
   },
   "source": [
    "### Calculate the Pearson correlation coefficients between Revenue, Profit, Assets, and Employees."
   ]
  },
  {
   "cell_type": "code",
   "execution_count": 19,
   "metadata": {
    "colab": {
     "base_uri": "https://localhost:8080/",
     "height": 142
    },
    "colab_type": "code",
    "id": "eV9SkdHGURBe",
    "outputId": "d491d5da-ff42-4b7a-bd0b-98a94741b16c"
   },
   "outputs": [
    {
     "data": {
      "text/html": [
       "<div>\n",
       "<style scoped>\n",
       "    .dataframe tbody tr th:only-of-type {\n",
       "        vertical-align: middle;\n",
       "    }\n",
       "\n",
       "    .dataframe tbody tr th {\n",
       "        vertical-align: top;\n",
       "    }\n",
       "\n",
       "    .dataframe thead th {\n",
       "        text-align: right;\n",
       "    }\n",
       "</style>\n",
       "<table border=\"1\" class=\"dataframe\">\n",
       "  <thead>\n",
       "    <tr style=\"text-align: right;\">\n",
       "      <th></th>\n",
       "      <th>Revenues ($M)</th>\n",
       "      <th>Profits ($M)</th>\n",
       "      <th>Employees</th>\n",
       "    </tr>\n",
       "  </thead>\n",
       "  <tbody>\n",
       "    <tr>\n",
       "      <th>Revenues ($M)</th>\n",
       "      <td>1.000000</td>\n",
       "      <td>0.602898</td>\n",
       "      <td>0.730673</td>\n",
       "    </tr>\n",
       "    <tr>\n",
       "      <th>Profits ($M)</th>\n",
       "      <td>0.602898</td>\n",
       "      <td>1.000000</td>\n",
       "      <td>0.310152</td>\n",
       "    </tr>\n",
       "    <tr>\n",
       "      <th>Employees</th>\n",
       "      <td>0.730673</td>\n",
       "      <td>0.310152</td>\n",
       "      <td>1.000000</td>\n",
       "    </tr>\n",
       "  </tbody>\n",
       "</table>\n",
       "</div>"
      ],
      "text/plain": [
       "               Revenues ($M)  Profits ($M)  Employees\n",
       "Revenues ($M)       1.000000      0.602898   0.730673\n",
       "Profits ($M)        0.602898      1.000000   0.310152\n",
       "Employees           0.730673      0.310152   1.000000"
      ]
     },
     "execution_count": 19,
     "metadata": {},
     "output_type": "execute_result"
    },
    {
     "data": {
      "application/javascript": [
       "\n",
       "            setTimeout(function() {\n",
       "                var nbb_cell_id = 19;\n",
       "                var nbb_unformatted_code = \"fortune[['Revenues ($M)','Profits ($M)','Employees']].corr()\";\n",
       "                var nbb_formatted_code = \"fortune[[\\\"Revenues ($M)\\\", \\\"Profits ($M)\\\", \\\"Employees\\\"]].corr()\";\n",
       "                var nbb_cells = Jupyter.notebook.get_cells();\n",
       "                for (var i = 0; i < nbb_cells.length; ++i) {\n",
       "                    if (nbb_cells[i].input_prompt_number == nbb_cell_id) {\n",
       "                        if (nbb_cells[i].get_text() == nbb_unformatted_code) {\n",
       "                             nbb_cells[i].set_text(nbb_formatted_code);\n",
       "                        }\n",
       "                        break;\n",
       "                    }\n",
       "                }\n",
       "            }, 500);\n",
       "            "
      ],
      "text/plain": [
       "<IPython.core.display.Javascript object>"
      ]
     },
     "metadata": {},
     "output_type": "display_data"
    }
   ],
   "source": [
    "fortune[[\"Revenues ($M)\", \"Profits ($M)\", \"Employees\"]].corr()"
   ]
  },
  {
   "cell_type": "code",
   "execution_count": null,
   "metadata": {
    "colab": {},
    "colab_type": "code",
    "id": "yWWeNyBxtM4p"
   },
   "outputs": [],
   "source": []
  },
  {
   "cell_type": "markdown",
   "metadata": {
    "colab_type": "text",
    "id": "AsFbCCdOtM4r"
   },
   "source": [
    "### Group the data by sector and calculate the mean and standard deviation of revenue for each sector."
   ]
  },
  {
   "cell_type": "code",
   "execution_count": 20,
   "metadata": {
    "colab": {
     "base_uri": "https://localhost:8080/",
     "height": 833
    },
    "colab_type": "code",
    "id": "FhrxQmuKtM4s",
    "outputId": "1d42b7f2-384a-4fb9-f1b9-49da54bb11bc"
   },
   "outputs": [
    {
     "name": "stdout",
     "output_type": "stream",
     "text": [
      "Mean by sector: \n",
      "Sector\n",
      "Aerospace &  Defense              15353.400000\n",
      "Apparel                            7225.521429\n",
      "Business Services                  5963.962264\n",
      "Chemicals                          7610.636364\n",
      "Energy                            14425.300935\n",
      "Engineering &  Construction        6399.333333\n",
      "Financials                        15757.935484\n",
      "Food &  Drug Stores               33789.000000\n",
      "Food, Beverages &  Tobacco        13790.054054\n",
      "Health Care                       21239.315493\n",
      "Hotels, Restaurants &  Leisure     6916.346154\n",
      "Household Products                 8277.850000\n",
      "Industrials                       10615.102041\n",
      "Materials                          6184.400000\n",
      "Media                              9219.496000\n",
      "Motor Vehicles &  Parts           22817.631579\n",
      "Retailing                         21874.714286\n",
      "Technology                        13347.789320\n",
      "Telecommunications                46695.900000\n",
      "Transportation                    11379.000000\n",
      "Wholesalers                       20185.204545\n",
      "Name: Revenues ($M), dtype: float64\n",
      "Mean by sector: \n",
      "Sector\n",
      "Aerospace &  Defense              22418.101024\n",
      "Apparel                            8291.485768\n",
      "Business Services                  4592.838066\n",
      "Chemicals                         10738.264495\n",
      "Energy                            29487.849008\n",
      "Engineering &  Construction        4915.073135\n",
      "Financials                        28233.130429\n",
      "Food &  Drug Stores               44221.855781\n",
      "Food, Beverages &  Tobacco        15368.556371\n",
      "Health Care                       36165.320863\n",
      "Hotels, Restaurants &  Leisure     6441.236788\n",
      "Household Products                12247.791327\n",
      "Industrials                       19158.335115\n",
      "Materials                          4528.556179\n",
      "Media                             12231.212650\n",
      "Motor Vehicles &  Parts           47563.776080\n",
      "Retailing                         61964.299034\n",
      "Technology                        28849.502883\n",
      "Telecommunications                57149.740825\n",
      "Transportation                    15888.249777\n",
      "Wholesalers                       40442.310045\n",
      "Name: Revenues ($M), dtype: float64\n"
     ]
    },
    {
     "data": {
      "application/javascript": [
       "\n",
       "            setTimeout(function() {\n",
       "                var nbb_cell_id = 20;\n",
       "                var nbb_unformatted_code = \"print('Mean by sector: \\\\n{}'.format(fortune.groupby(by='Sector')['Revenues ($M)'].mean()))\\nprint('Mean by sector: \\\\n{}'.format(fortune.groupby(by='Sector')['Revenues ($M)'].std()))\";\n",
       "                var nbb_formatted_code = \"print(\\n    \\\"Mean by sector: \\\\n{}\\\".format(fortune.groupby(by=\\\"Sector\\\")[\\\"Revenues ($M)\\\"].mean())\\n)\\nprint(\\n    \\\"Mean by sector: \\\\n{}\\\".format(fortune.groupby(by=\\\"Sector\\\")[\\\"Revenues ($M)\\\"].std())\\n)\";\n",
       "                var nbb_cells = Jupyter.notebook.get_cells();\n",
       "                for (var i = 0; i < nbb_cells.length; ++i) {\n",
       "                    if (nbb_cells[i].input_prompt_number == nbb_cell_id) {\n",
       "                        if (nbb_cells[i].get_text() == nbb_unformatted_code) {\n",
       "                             nbb_cells[i].set_text(nbb_formatted_code);\n",
       "                        }\n",
       "                        break;\n",
       "                    }\n",
       "                }\n",
       "            }, 500);\n",
       "            "
      ],
      "text/plain": [
       "<IPython.core.display.Javascript object>"
      ]
     },
     "metadata": {},
     "output_type": "display_data"
    }
   ],
   "source": [
    "print(\n",
    "    \"Mean by sector: \\n{}\".format(fortune.groupby(by=\"Sector\")[\"Revenues ($M)\"].mean())\n",
    ")\n",
    "print(\n",
    "    \"Mean by sector: \\n{}\".format(fortune.groupby(by=\"Sector\")[\"Revenues ($M)\"].std())\n",
    ")"
   ]
  },
  {
   "cell_type": "markdown",
   "metadata": {
    "colab_type": "text",
    "id": "e6rJOzh4tM4v"
   },
   "source": [
    "### Create a new financial strength index variable that combines the revenue, profit, and assets variables into a single value for each company. Then sort the data frame by that value to see who has the most financial strength. \n",
    "\n",
    "Try different ways of calculating the index and see how your results change."
   ]
  },
  {
   "cell_type": "code",
   "execution_count": 21,
   "metadata": {
    "colab": {},
    "colab_type": "code",
    "id": "JtCtU89HtM4w"
   },
   "outputs": [
    {
     "data": {
      "application/javascript": [
       "\n",
       "            setTimeout(function() {\n",
       "                var nbb_cell_id = 21;\n",
       "                var nbb_unformatted_code = \"# negative profit minus revenue is costs. dividing assets by cost gives an idea of what proportion of asset is equated to 1 unit of cost. \\n# if cost are low and assets are high, the index will be higher. \\n# the index basically says how many times can costs be paid with assets, which i feel represents resiliency\\n# the inverse needs to be taken so companies with more profits than sales rank higher.\\n# assets / cost, cost = -profits - revenue\\nfortune['fin_strength'] = -(fortune['Assets ($M)'] / -(fortune['Profits ($M)'] - fortune['Revenues ($M)']))\";\n",
       "                var nbb_formatted_code = \"# negative profit minus revenue is costs. dividing assets by cost gives an idea of what proportion of asset is equated to 1 unit of cost.\\n# if cost are low and assets are high, the index will be higher.\\n# the index basically says how many times can costs be paid with assets, which i feel represents resiliency\\n# the inverse needs to be taken so companies with more profits than sales rank higher.\\n# assets / cost, cost = -profits - revenue\\nfortune[\\\"fin_strength\\\"] = -(\\n    fortune[\\\"Assets ($M)\\\"] / -(fortune[\\\"Profits ($M)\\\"] - fortune[\\\"Revenues ($M)\\\"])\\n)\";\n",
       "                var nbb_cells = Jupyter.notebook.get_cells();\n",
       "                for (var i = 0; i < nbb_cells.length; ++i) {\n",
       "                    if (nbb_cells[i].input_prompt_number == nbb_cell_id) {\n",
       "                        if (nbb_cells[i].get_text() == nbb_unformatted_code) {\n",
       "                             nbb_cells[i].set_text(nbb_formatted_code);\n",
       "                        }\n",
       "                        break;\n",
       "                    }\n",
       "                }\n",
       "            }, 500);\n",
       "            "
      ],
      "text/plain": [
       "<IPython.core.display.Javascript object>"
      ]
     },
     "metadata": {},
     "output_type": "display_data"
    }
   ],
   "source": [
    "# negative profit minus revenue is costs. dividing assets by cost gives an idea of what proportion of asset is equated to 1 unit of cost.\n",
    "# if cost are low and assets are high, the index will be higher.\n",
    "# the index basically says how many times can costs be paid with assets, which i feel represents resiliency\n",
    "# the inverse needs to be taken so companies with more profits than sales rank higher.\n",
    "# assets / cost, cost = -profits - revenue\n",
    "fortune[\"fin_strength\"] = -(\n",
    "    fortune[\"Assets ($M)\"] / -(fortune[\"Profits ($M)\"] - fortune[\"Revenues ($M)\"])\n",
    ")"
   ]
  },
  {
   "cell_type": "code",
   "execution_count": 22,
   "metadata": {
    "colab": {
     "base_uri": "https://localhost:8080/",
     "height": 742
    },
    "colab_type": "code",
    "id": "drLoKwSR0zXF",
    "outputId": "6c7e0b96-f244-4066-917b-c98908ebb1d4"
   },
   "outputs": [
    {
     "data": {
      "text/html": [
       "<div>\n",
       "<style scoped>\n",
       "    .dataframe tbody tr th:only-of-type {\n",
       "        vertical-align: middle;\n",
       "    }\n",
       "\n",
       "    .dataframe tbody tr th {\n",
       "        vertical-align: top;\n",
       "    }\n",
       "\n",
       "    .dataframe thead th {\n",
       "        text-align: right;\n",
       "    }\n",
       "</style>\n",
       "<table border=\"1\" class=\"dataframe\">\n",
       "  <thead>\n",
       "    <tr style=\"text-align: right;\">\n",
       "      <th></th>\n",
       "      <th>rank</th>\n",
       "      <th>title</th>\n",
       "      <th>Previous Rank</th>\n",
       "      <th>Revenues ($M)</th>\n",
       "      <th>Revenue Change</th>\n",
       "      <th>Profits ($M)</th>\n",
       "      <th>Profit Change</th>\n",
       "      <th>Assets ($M)</th>\n",
       "      <th>Mkt Value as of 3/29/18 ($M)</th>\n",
       "      <th>Employees</th>\n",
       "      <th>CEO</th>\n",
       "      <th>CEO Title</th>\n",
       "      <th>Sector</th>\n",
       "      <th>Industry</th>\n",
       "      <th>Years on Fortune 500 List</th>\n",
       "      <th>City</th>\n",
       "      <th>State</th>\n",
       "      <th>Latitude</th>\n",
       "      <th>Longitude</th>\n",
       "      <th>fin_strength</th>\n",
       "    </tr>\n",
       "  </thead>\n",
       "  <tbody>\n",
       "    <tr>\n",
       "      <th>640</th>\n",
       "      <td>641</td>\n",
       "      <td>CME Group</td>\n",
       "      <td>633.0</td>\n",
       "      <td>3645.0</td>\n",
       "      <td>1.4</td>\n",
       "      <td>4063.4</td>\n",
       "      <td>164.9</td>\n",
       "      <td>75791.0</td>\n",
       "      <td>55058.0</td>\n",
       "      <td>2830</td>\n",
       "      <td>Terrence A. Duffy</td>\n",
       "      <td>Chairman &amp;  Chief Executive Officer</td>\n",
       "      <td>Financials</td>\n",
       "      <td>Securities</td>\n",
       "      <td>NaN</td>\n",
       "      <td>Chicago</td>\n",
       "      <td>IL</td>\n",
       "      <td>41.878114</td>\n",
       "      <td>-87.629798</td>\n",
       "      <td>181.144837</td>\n",
       "    </tr>\n",
       "    <tr>\n",
       "      <th>403</th>\n",
       "      <td>404</td>\n",
       "      <td>A-Mark Precious Metals</td>\n",
       "      <td>395.0</td>\n",
       "      <td>6990.0</td>\n",
       "      <td>3.0</td>\n",
       "      <td>7.1</td>\n",
       "      <td>-23.6</td>\n",
       "      <td>479.0</td>\n",
       "      <td>86.0</td>\n",
       "      <td>126</td>\n",
       "      <td>Gregory N. Roberts</td>\n",
       "      <td>Chairman &amp;  Chief Executive Officer</td>\n",
       "      <td>Materials</td>\n",
       "      <td>Miscellaneous</td>\n",
       "      <td>4.0</td>\n",
       "      <td>El Segundo</td>\n",
       "      <td>CA</td>\n",
       "      <td>33.919180</td>\n",
       "      <td>-118.416465</td>\n",
       "      <td>-0.068596</td>\n",
       "    </tr>\n",
       "    <tr>\n",
       "      <th>246</th>\n",
       "      <td>247</td>\n",
       "      <td>Core-Mark Holding</td>\n",
       "      <td>247.0</td>\n",
       "      <td>12225.0</td>\n",
       "      <td>6.2</td>\n",
       "      <td>33.5</td>\n",
       "      <td>-38.2</td>\n",
       "      <td>1783.0</td>\n",
       "      <td>981.0</td>\n",
       "      <td>8413</td>\n",
       "      <td>Thomas B. Perkins</td>\n",
       "      <td>Chairman &amp;  Chief Executive Officer</td>\n",
       "      <td>Wholesalers</td>\n",
       "      <td>Wholesalers: Food and Grocery</td>\n",
       "      <td>9.0</td>\n",
       "      <td>South San Francisco</td>\n",
       "      <td>CA</td>\n",
       "      <td>37.654656</td>\n",
       "      <td>-122.407750</td>\n",
       "      <td>-0.146249</td>\n",
       "    </tr>\n",
       "    <tr>\n",
       "      <th>90</th>\n",
       "      <td>91</td>\n",
       "      <td>World Fuel Services</td>\n",
       "      <td>103.0</td>\n",
       "      <td>33696.0</td>\n",
       "      <td>24.7</td>\n",
       "      <td>-170.2</td>\n",
       "      <td>-234.5</td>\n",
       "      <td>5588.0</td>\n",
       "      <td>1661.0</td>\n",
       "      <td>5000</td>\n",
       "      <td>Michael J. Kasbar</td>\n",
       "      <td>Chairman &amp;  Chief Executive Officer</td>\n",
       "      <td>Energy</td>\n",
       "      <td>Energy</td>\n",
       "      <td>14.0</td>\n",
       "      <td>Miami</td>\n",
       "      <td>FL</td>\n",
       "      <td>25.761680</td>\n",
       "      <td>-80.191790</td>\n",
       "      <td>-0.165002</td>\n",
       "    </tr>\n",
       "    <tr>\n",
       "      <th>102</th>\n",
       "      <td>103</td>\n",
       "      <td>INTL FCStone</td>\n",
       "      <td>189.0</td>\n",
       "      <td>29424.0</td>\n",
       "      <td>99.4</td>\n",
       "      <td>6.4</td>\n",
       "      <td>-88.3</td>\n",
       "      <td>6243.0</td>\n",
       "      <td>804.0</td>\n",
       "      <td>1607</td>\n",
       "      <td>Sean M. O'Connor</td>\n",
       "      <td>President, Chief Executive Officer &amp;  Director</td>\n",
       "      <td>Financials</td>\n",
       "      <td>Diversified Financials</td>\n",
       "      <td>10.0</td>\n",
       "      <td>New York</td>\n",
       "      <td>NY</td>\n",
       "      <td>40.712775</td>\n",
       "      <td>-74.005973</td>\n",
       "      <td>-0.212220</td>\n",
       "    </tr>\n",
       "    <tr>\n",
       "      <th>...</th>\n",
       "      <td>...</td>\n",
       "      <td>...</td>\n",
       "      <td>...</td>\n",
       "      <td>...</td>\n",
       "      <td>...</td>\n",
       "      <td>...</td>\n",
       "      <td>...</td>\n",
       "      <td>...</td>\n",
       "      <td>...</td>\n",
       "      <td>...</td>\n",
       "      <td>...</td>\n",
       "      <td>...</td>\n",
       "      <td>...</td>\n",
       "      <td>...</td>\n",
       "      <td>...</td>\n",
       "      <td>...</td>\n",
       "      <td>...</td>\n",
       "      <td>...</td>\n",
       "      <td>...</td>\n",
       "      <td>...</td>\n",
       "    </tr>\n",
       "    <tr>\n",
       "      <th>743</th>\n",
       "      <td>744</td>\n",
       "      <td>First Republic Bank</td>\n",
       "      <td>842.0</td>\n",
       "      <td>2912.0</td>\n",
       "      <td>22.6</td>\n",
       "      <td>757.7</td>\n",
       "      <td>12.5</td>\n",
       "      <td>87781.0</td>\n",
       "      <td>14982.0</td>\n",
       "      <td>4025</td>\n",
       "      <td>James H. Herbert II</td>\n",
       "      <td>Chairman &amp;  Chief Executive Officer</td>\n",
       "      <td>Financials</td>\n",
       "      <td>Commercial Banks</td>\n",
       "      <td>NaN</td>\n",
       "      <td>SF</td>\n",
       "      <td>CA</td>\n",
       "      <td>37.774929</td>\n",
       "      <td>-122.419415</td>\n",
       "      <td>-40.746878</td>\n",
       "    </tr>\n",
       "    <tr>\n",
       "      <th>772</th>\n",
       "      <td>773</td>\n",
       "      <td>Park Hotels &amp; Resorts</td>\n",
       "      <td>NaN</td>\n",
       "      <td>2791.0</td>\n",
       "      <td>NaN</td>\n",
       "      <td>2625.0</td>\n",
       "      <td>NaN</td>\n",
       "      <td>9714.0</td>\n",
       "      <td>5435.0</td>\n",
       "      <td>520</td>\n",
       "      <td>Thomas J. Baltimore Jr.</td>\n",
       "      <td>Chairman, President &amp;  Chief Executive Officer</td>\n",
       "      <td>Financials</td>\n",
       "      <td>Real estate</td>\n",
       "      <td>NaN</td>\n",
       "      <td>McLean</td>\n",
       "      <td>VA</td>\n",
       "      <td>38.933868</td>\n",
       "      <td>-77.177260</td>\n",
       "      <td>-58.518072</td>\n",
       "    </tr>\n",
       "    <tr>\n",
       "      <th>765</th>\n",
       "      <td>766</td>\n",
       "      <td>Annaly Capital Management</td>\n",
       "      <td>853.0</td>\n",
       "      <td>2809.0</td>\n",
       "      <td>20.1</td>\n",
       "      <td>1569.6</td>\n",
       "      <td>9.5</td>\n",
       "      <td>101760.0</td>\n",
       "      <td>12095.0</td>\n",
       "      <td>152</td>\n",
       "      <td>Kevin G. Keyes</td>\n",
       "      <td>Chairman, President &amp;  Chief Executive Officer</td>\n",
       "      <td>Financials</td>\n",
       "      <td>Diversified Financials</td>\n",
       "      <td>NaN</td>\n",
       "      <td>New York</td>\n",
       "      <td>NY</td>\n",
       "      <td>40.712775</td>\n",
       "      <td>-74.005973</td>\n",
       "      <td>-82.104244</td>\n",
       "    </tr>\n",
       "    <tr>\n",
       "      <th>490</th>\n",
       "      <td>491</td>\n",
       "      <td>Peabody Energy</td>\n",
       "      <td>533.0</td>\n",
       "      <td>5579.0</td>\n",
       "      <td>18.3</td>\n",
       "      <td>NaN</td>\n",
       "      <td>NaN</td>\n",
       "      <td>8181.0</td>\n",
       "      <td>4649.0</td>\n",
       "      <td>7100</td>\n",
       "      <td>Glenn L. Kellow</td>\n",
       "      <td>President, Chief Executive Officer &amp;  Director</td>\n",
       "      <td>Energy</td>\n",
       "      <td>Mining, Crude-Oil Production</td>\n",
       "      <td>13.0</td>\n",
       "      <td>St. Louis</td>\n",
       "      <td>MO</td>\n",
       "      <td>38.627003</td>\n",
       "      <td>-90.199404</td>\n",
       "      <td>NaN</td>\n",
       "    </tr>\n",
       "    <tr>\n",
       "      <th>703</th>\n",
       "      <td>704</td>\n",
       "      <td>Avaya Holdings</td>\n",
       "      <td>621.0</td>\n",
       "      <td>3272.0</td>\n",
       "      <td>-11.6</td>\n",
       "      <td>NaN</td>\n",
       "      <td>NaN</td>\n",
       "      <td>5898.0</td>\n",
       "      <td>2459.0</td>\n",
       "      <td>8700</td>\n",
       "      <td>James M. Chirico Jr.</td>\n",
       "      <td>President, Chief Executive Officer &amp;  Director</td>\n",
       "      <td>Technology</td>\n",
       "      <td>Information Technology Services</td>\n",
       "      <td>NaN</td>\n",
       "      <td>Santa Clara</td>\n",
       "      <td>CA</td>\n",
       "      <td>37.354108</td>\n",
       "      <td>-121.955236</td>\n",
       "      <td>NaN</td>\n",
       "    </tr>\n",
       "  </tbody>\n",
       "</table>\n",
       "<p>1000 rows × 20 columns</p>\n",
       "</div>"
      ],
      "text/plain": [
       "     rank                      title  Previous Rank  Revenues ($M)  \\\n",
       "640   641                  CME Group          633.0         3645.0   \n",
       "403   404     A-Mark Precious Metals          395.0         6990.0   \n",
       "246   247          Core-Mark Holding          247.0        12225.0   \n",
       "90     91        World Fuel Services          103.0        33696.0   \n",
       "102   103               INTL FCStone          189.0        29424.0   \n",
       "..    ...                        ...            ...            ...   \n",
       "743   744        First Republic Bank          842.0         2912.0   \n",
       "772   773      Park Hotels & Resorts            NaN         2791.0   \n",
       "765   766  Annaly Capital Management          853.0         2809.0   \n",
       "490   491             Peabody Energy          533.0         5579.0   \n",
       "703   704             Avaya Holdings          621.0         3272.0   \n",
       "\n",
       "     Revenue Change  Profits ($M)  Profit Change  Assets ($M)  \\\n",
       "640             1.4        4063.4          164.9      75791.0   \n",
       "403             3.0           7.1          -23.6        479.0   \n",
       "246             6.2          33.5          -38.2       1783.0   \n",
       "90             24.7        -170.2         -234.5       5588.0   \n",
       "102            99.4           6.4          -88.3       6243.0   \n",
       "..              ...           ...            ...          ...   \n",
       "743            22.6         757.7           12.5      87781.0   \n",
       "772             NaN        2625.0            NaN       9714.0   \n",
       "765            20.1        1569.6            9.5     101760.0   \n",
       "490            18.3           NaN            NaN       8181.0   \n",
       "703           -11.6           NaN            NaN       5898.0   \n",
       "\n",
       "     Mkt Value as of 3/29/18 ($M)  Employees                      CEO  \\\n",
       "640                       55058.0       2830        Terrence A. Duffy   \n",
       "403                          86.0        126       Gregory N. Roberts   \n",
       "246                         981.0       8413        Thomas B. Perkins   \n",
       "90                         1661.0       5000        Michael J. Kasbar   \n",
       "102                         804.0       1607         Sean M. O'Connor   \n",
       "..                            ...        ...                      ...   \n",
       "743                       14982.0       4025      James H. Herbert II   \n",
       "772                        5435.0        520  Thomas J. Baltimore Jr.   \n",
       "765                       12095.0        152           Kevin G. Keyes   \n",
       "490                        4649.0       7100          Glenn L. Kellow   \n",
       "703                        2459.0       8700     James M. Chirico Jr.   \n",
       "\n",
       "                                          CEO Title       Sector  \\\n",
       "640             Chairman &  Chief Executive Officer   Financials   \n",
       "403             Chairman &  Chief Executive Officer    Materials   \n",
       "246             Chairman &  Chief Executive Officer  Wholesalers   \n",
       "90              Chairman &  Chief Executive Officer       Energy   \n",
       "102  President, Chief Executive Officer &  Director   Financials   \n",
       "..                                              ...          ...   \n",
       "743             Chairman &  Chief Executive Officer   Financials   \n",
       "772  Chairman, President &  Chief Executive Officer   Financials   \n",
       "765  Chairman, President &  Chief Executive Officer   Financials   \n",
       "490  President, Chief Executive Officer &  Director       Energy   \n",
       "703  President, Chief Executive Officer &  Director   Technology   \n",
       "\n",
       "                            Industry  Years on Fortune 500 List  \\\n",
       "640                       Securities                        NaN   \n",
       "403                    Miscellaneous                        4.0   \n",
       "246    Wholesalers: Food and Grocery                        9.0   \n",
       "90                            Energy                       14.0   \n",
       "102           Diversified Financials                       10.0   \n",
       "..                               ...                        ...   \n",
       "743                 Commercial Banks                        NaN   \n",
       "772                      Real estate                        NaN   \n",
       "765           Diversified Financials                        NaN   \n",
       "490     Mining, Crude-Oil Production                       13.0   \n",
       "703  Information Technology Services                        NaN   \n",
       "\n",
       "                    City State   Latitude   Longitude  fin_strength  \n",
       "640              Chicago    IL  41.878114  -87.629798    181.144837  \n",
       "403           El Segundo    CA  33.919180 -118.416465     -0.068596  \n",
       "246  South San Francisco    CA  37.654656 -122.407750     -0.146249  \n",
       "90                 Miami    FL  25.761680  -80.191790     -0.165002  \n",
       "102             New York    NY  40.712775  -74.005973     -0.212220  \n",
       "..                   ...   ...        ...         ...           ...  \n",
       "743                   SF    CA  37.774929 -122.419415    -40.746878  \n",
       "772               McLean    VA  38.933868  -77.177260    -58.518072  \n",
       "765             New York    NY  40.712775  -74.005973    -82.104244  \n",
       "490            St. Louis    MO  38.627003  -90.199404           NaN  \n",
       "703          Santa Clara    CA  37.354108 -121.955236           NaN  \n",
       "\n",
       "[1000 rows x 20 columns]"
      ]
     },
     "execution_count": 22,
     "metadata": {},
     "output_type": "execute_result"
    },
    {
     "data": {
      "application/javascript": [
       "\n",
       "            setTimeout(function() {\n",
       "                var nbb_cell_id = 22;\n",
       "                var nbb_unformatted_code = \"fortune.sort_values(by='fin_strength',ascending=False)\";\n",
       "                var nbb_formatted_code = \"fortune.sort_values(by=\\\"fin_strength\\\", ascending=False)\";\n",
       "                var nbb_cells = Jupyter.notebook.get_cells();\n",
       "                for (var i = 0; i < nbb_cells.length; ++i) {\n",
       "                    if (nbb_cells[i].input_prompt_number == nbb_cell_id) {\n",
       "                        if (nbb_cells[i].get_text() == nbb_unformatted_code) {\n",
       "                             nbb_cells[i].set_text(nbb_formatted_code);\n",
       "                        }\n",
       "                        break;\n",
       "                    }\n",
       "                }\n",
       "            }, 500);\n",
       "            "
      ],
      "text/plain": [
       "<IPython.core.display.Javascript object>"
      ]
     },
     "metadata": {},
     "output_type": "display_data"
    }
   ],
   "source": [
    "fortune.sort_values(by=\"fin_strength\", ascending=False)"
   ]
  },
  {
   "cell_type": "markdown",
   "metadata": {
    "colab_type": "text",
    "id": "qyxHrLOvtM4y"
   },
   "source": [
    "### Group the data by sector and calculate the average financial strength index for each sector."
   ]
  },
  {
   "cell_type": "code",
   "execution_count": 23,
   "metadata": {
    "colab": {
     "base_uri": "https://localhost:8080/",
     "height": 408
    },
    "colab_type": "code",
    "id": "SgYmQ9HytM4z",
    "outputId": "f67c8104-9bf5-4fa1-d37a-dd7e8feca02b"
   },
   "outputs": [
    {
     "data": {
      "text/plain": [
       "Sector\n",
       "Aerospace &  Defense              -1.423628\n",
       "Apparel                           -0.891577\n",
       "Business Services                 -2.218917\n",
       "Chemicals                         -1.730272\n",
       "Energy                            -3.379026\n",
       "Engineering &  Construction       -0.923738\n",
       "Financials                       -11.101678\n",
       "Food &  Drug Stores               -0.409103\n",
       "Food, Beverages &  Tobacco        -1.711889\n",
       "Health Care                       -1.757248\n",
       "Hotels, Restaurants &  Leisure    -1.553920\n",
       "Household Products                -1.370150\n",
       "Industrials                       -1.352707\n",
       "Materials                         -1.154567\n",
       "Media                             -2.191032\n",
       "Motor Vehicles &  Parts           -1.045853\n",
       "Retailing                         -0.685897\n",
       "Technology                        -1.879523\n",
       "Telecommunications                -3.049091\n",
       "Transportation                    -1.867083\n",
       "Wholesalers                       -0.537136\n",
       "Name: fin_strength, dtype: float64"
      ]
     },
     "execution_count": 23,
     "metadata": {},
     "output_type": "execute_result"
    },
    {
     "data": {
      "application/javascript": [
       "\n",
       "            setTimeout(function() {\n",
       "                var nbb_cell_id = 23;\n",
       "                var nbb_unformatted_code = \"fortune.groupby(by='Sector')['fin_strength'].mean()\\n# expect finacials and energy tobe skewed as those are the only positive financial indices\";\n",
       "                var nbb_formatted_code = \"fortune.groupby(by=\\\"Sector\\\")[\\\"fin_strength\\\"].mean()\\n# expect finacials and energy tobe skewed as those are the only positive financial indices\";\n",
       "                var nbb_cells = Jupyter.notebook.get_cells();\n",
       "                for (var i = 0; i < nbb_cells.length; ++i) {\n",
       "                    if (nbb_cells[i].input_prompt_number == nbb_cell_id) {\n",
       "                        if (nbb_cells[i].get_text() == nbb_unformatted_code) {\n",
       "                             nbb_cells[i].set_text(nbb_formatted_code);\n",
       "                        }\n",
       "                        break;\n",
       "                    }\n",
       "                }\n",
       "            }, 500);\n",
       "            "
      ],
      "text/plain": [
       "<IPython.core.display.Javascript object>"
      ]
     },
     "metadata": {},
     "output_type": "display_data"
    }
   ],
   "source": [
    "fortune.groupby(by=\"Sector\")[\"fin_strength\"].mean()\n",
    "# expect finacials and energy tobe skewed as those are the only positive financial indices"
   ]
  },
  {
   "cell_type": "code",
   "execution_count": null,
   "metadata": {
    "colab": {},
    "colab_type": "code",
    "id": "JRYd2gyX5MK5"
   },
   "outputs": [],
   "source": []
  },
  {
   "cell_type": "code",
   "execution_count": null,
   "metadata": {
    "colab": {},
    "colab_type": "code",
    "id": "OEtxwjRx65QX"
   },
   "outputs": [],
   "source": []
  }
 ],
 "metadata": {
  "colab": {
   "collapsed_sections": [],
   "name": "Dillan-Gump-Day-3-Lecture-2-Assignment.ipynb",
   "provenance": []
  },
  "kernelspec": {
   "display_name": "Python 3",
   "language": "python",
   "name": "python3"
  },
  "language_info": {
   "codemirror_mode": {
    "name": "ipython",
    "version": 3
   },
   "file_extension": ".py",
   "mimetype": "text/x-python",
   "name": "python",
   "nbconvert_exporter": "python",
   "pygments_lexer": "ipython3",
   "version": "3.7.6"
  }
 },
 "nbformat": 4,
 "nbformat_minor": 1
}
