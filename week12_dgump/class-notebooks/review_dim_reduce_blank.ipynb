{
 "cells": [
  {
   "cell_type": "code",
   "execution_count": 1,
   "metadata": {},
   "outputs": [
    {
     "data": {
      "application/javascript": [
       "\n",
       "            setTimeout(function() {\n",
       "                var nbb_cell_id = 1;\n",
       "                var nbb_unformatted_code = \"%reload_ext nb_black\";\n",
       "                var nbb_formatted_code = \"%reload_ext nb_black\";\n",
       "                var nbb_cells = Jupyter.notebook.get_cells();\n",
       "                for (var i = 0; i < nbb_cells.length; ++i) {\n",
       "                    if (nbb_cells[i].input_prompt_number == nbb_cell_id) {\n",
       "                        if (nbb_cells[i].get_text() == nbb_unformatted_code) {\n",
       "                             nbb_cells[i].set_text(nbb_formatted_code);\n",
       "                        }\n",
       "                        break;\n",
       "                    }\n",
       "                }\n",
       "            }, 500);\n",
       "            "
      ],
      "text/plain": [
       "<IPython.core.display.Javascript object>"
      ]
     },
     "metadata": {},
     "output_type": "display_data"
    }
   ],
   "source": [
    "%reload_ext nb_black"
   ]
  },
  {
   "cell_type": "code",
   "execution_count": 20,
   "metadata": {},
   "outputs": [
    {
     "data": {
      "application/javascript": [
       "\n",
       "            setTimeout(function() {\n",
       "                var nbb_cell_id = 20;\n",
       "                var nbb_unformatted_code = \"import pandas as pd\\nimport numpy as np\\nimport seaborn as sns\\n\\nfrom sklearn.preprocessing import StandardScaler\\nfrom sklearn.cluster import KMeans, DBSCAN\\n\\nfrom sklearn.decomposition import PCA\\nfrom sklearn.manifold import TSNE\\n\\nfrom umap import UMAP\\n\\nfrom prince import MCA, FAMD\\n\\nimport seaborn as sns\\nimport matplotlib.pyplot as plt\\n\\n%matplotlib inline\";\n",
       "                var nbb_formatted_code = \"import pandas as pd\\nimport numpy as np\\nimport seaborn as sns\\n\\nfrom sklearn.preprocessing import StandardScaler\\nfrom sklearn.cluster import KMeans, DBSCAN\\n\\nfrom sklearn.decomposition import PCA\\nfrom sklearn.manifold import TSNE\\n\\nfrom umap import UMAP\\n\\nfrom prince import MCA, FAMD\\n\\nimport seaborn as sns\\nimport matplotlib.pyplot as plt\\n\\n%matplotlib inline\";\n",
       "                var nbb_cells = Jupyter.notebook.get_cells();\n",
       "                for (var i = 0; i < nbb_cells.length; ++i) {\n",
       "                    if (nbb_cells[i].input_prompt_number == nbb_cell_id) {\n",
       "                        if (nbb_cells[i].get_text() == nbb_unformatted_code) {\n",
       "                             nbb_cells[i].set_text(nbb_formatted_code);\n",
       "                        }\n",
       "                        break;\n",
       "                    }\n",
       "                }\n",
       "            }, 500);\n",
       "            "
      ],
      "text/plain": [
       "<IPython.core.display.Javascript object>"
      ]
     },
     "metadata": {},
     "output_type": "display_data"
    }
   ],
   "source": [
    "import pandas as pd\n",
    "import numpy as np\n",
    "\n",
    "\n",
    "from sklearn.preprocessing import StandardScaler\n",
    "from sklearn.cluster import KMeans, DBSCAN\n",
    "\n",
    "from sklearn.decomposition import PCA\n",
    "from sklearn.manifold import TSNE\n",
    "\n",
    "from umap import UMAP\n",
    "\n",
    "from prince import MCA, FAMD\n",
    "\n",
    "import seaborn as sns\n",
    "import matplotlib.pyplot as plt\n",
    "\n",
    "%matplotlib inline"
   ]
  },
  {
   "cell_type": "code",
   "execution_count": 4,
   "metadata": {},
   "outputs": [
    {
     "name": "stdout",
     "output_type": "stream",
     "text": [
      "Columns with highest percent NA:\n"
     ]
    },
    {
     "data": {
      "text/plain": [
       "state        0.080540\n",
       "city         0.000031\n",
       "40k          0.000000\n",
       "genderdiv    0.000000\n",
       "name         0.000000\n",
       "dtype: float64"
      ]
     },
     "metadata": {},
     "output_type": "display_data"
    },
    {
     "data": {
      "text/html": [
       "<div>\n",
       "<style scoped>\n",
       "    .dataframe tbody tr th:only-of-type {\n",
       "        vertical-align: middle;\n",
       "    }\n",
       "\n",
       "    .dataframe tbody tr th {\n",
       "        vertical-align: top;\n",
       "    }\n",
       "\n",
       "    .dataframe thead th {\n",
       "        text-align: right;\n",
       "    }\n",
       "</style>\n",
       "<table border=\"1\" class=\"dataframe\">\n",
       "  <thead>\n",
       "    <tr style=\"text-align: right;\">\n",
       "      <th></th>\n",
       "      <th>10k</th>\n",
       "      <th>name</th>\n",
       "      <th>division</th>\n",
       "      <th>25k</th>\n",
       "      <th>gender</th>\n",
       "      <th>age</th>\n",
       "      <th>official</th>\n",
       "      <th>bib</th>\n",
       "      <th>genderdiv</th>\n",
       "      <th>35k</th>\n",
       "      <th>overall</th>\n",
       "      <th>pace</th>\n",
       "      <th>state</th>\n",
       "      <th>30k</th>\n",
       "      <th>5k</th>\n",
       "      <th>half</th>\n",
       "      <th>20k</th>\n",
       "      <th>country</th>\n",
       "      <th>city</th>\n",
       "      <th>40k</th>\n",
       "    </tr>\n",
       "  </thead>\n",
       "  <tbody>\n",
       "    <tr>\n",
       "      <th>0</th>\n",
       "      <td>17.37</td>\n",
       "      <td>Yamamoto, Hiroyuki</td>\n",
       "      <td>8</td>\n",
       "      <td>47.67</td>\n",
       "      <td>M</td>\n",
       "      <td>47</td>\n",
       "      <td>85.25</td>\n",
       "      <td>W1</td>\n",
       "      <td>8</td>\n",
       "      <td>71.40</td>\n",
       "      <td>8</td>\n",
       "      <td>3.27</td>\n",
       "      <td>NaN</td>\n",
       "      <td>59.18</td>\n",
       "      <td>8.02</td>\n",
       "      <td>39.72</td>\n",
       "      <td>37.65</td>\n",
       "      <td>JPN</td>\n",
       "      <td>Fukuoka</td>\n",
       "      <td>80.43</td>\n",
       "    </tr>\n",
       "    <tr>\n",
       "      <th>1</th>\n",
       "      <td>32.58</td>\n",
       "      <td>Jeptoo, Rita</td>\n",
       "      <td>1</td>\n",
       "      <td>82.43</td>\n",
       "      <td>F</td>\n",
       "      <td>33</td>\n",
       "      <td>138.95</td>\n",
       "      <td>F1</td>\n",
       "      <td>1</td>\n",
       "      <td>116.37</td>\n",
       "      <td>21</td>\n",
       "      <td>5.30</td>\n",
       "      <td>NaN</td>\n",
       "      <td>99.33</td>\n",
       "      <td>16.22</td>\n",
       "      <td>69.47</td>\n",
       "      <td>65.83</td>\n",
       "      <td>KEN</td>\n",
       "      <td>Eldoret</td>\n",
       "      <td>132.10</td>\n",
       "    </tr>\n",
       "    <tr>\n",
       "      <th>2</th>\n",
       "      <td>16.62</td>\n",
       "      <td>Van Dyk, Ernst F.</td>\n",
       "      <td>1</td>\n",
       "      <td>45.80</td>\n",
       "      <td>M</td>\n",
       "      <td>41</td>\n",
       "      <td>80.60</td>\n",
       "      <td>W2</td>\n",
       "      <td>1</td>\n",
       "      <td>67.42</td>\n",
       "      <td>1</td>\n",
       "      <td>3.08</td>\n",
       "      <td>NaN</td>\n",
       "      <td>56.45</td>\n",
       "      <td>7.75</td>\n",
       "      <td>38.03</td>\n",
       "      <td>36.10</td>\n",
       "      <td>RSA</td>\n",
       "      <td>Paarl</td>\n",
       "      <td>76.10</td>\n",
       "    </tr>\n",
       "    <tr>\n",
       "      <th>3</th>\n",
       "      <td>32.57</td>\n",
       "      <td>Dibaba, Mare</td>\n",
       "      <td>3</td>\n",
       "      <td>82.43</td>\n",
       "      <td>F</td>\n",
       "      <td>24</td>\n",
       "      <td>140.58</td>\n",
       "      <td>F2</td>\n",
       "      <td>3</td>\n",
       "      <td>116.37</td>\n",
       "      <td>27</td>\n",
       "      <td>5.37</td>\n",
       "      <td>NaN</td>\n",
       "      <td>99.33</td>\n",
       "      <td>16.20</td>\n",
       "      <td>69.47</td>\n",
       "      <td>65.83</td>\n",
       "      <td>ETH</td>\n",
       "      <td>Shoa</td>\n",
       "      <td>132.95</td>\n",
       "    </tr>\n",
       "    <tr>\n",
       "      <th>4</th>\n",
       "      <td>17.12</td>\n",
       "      <td>Hokinoue, Kota</td>\n",
       "      <td>2</td>\n",
       "      <td>46.37</td>\n",
       "      <td>M</td>\n",
       "      <td>40</td>\n",
       "      <td>81.23</td>\n",
       "      <td>W3</td>\n",
       "      <td>2</td>\n",
       "      <td>67.83</td>\n",
       "      <td>2</td>\n",
       "      <td>3.10</td>\n",
       "      <td>NaN</td>\n",
       "      <td>57.03</td>\n",
       "      <td>8.02</td>\n",
       "      <td>38.60</td>\n",
       "      <td>36.58</td>\n",
       "      <td>JPN</td>\n",
       "      <td>Nogata Fukuoka</td>\n",
       "      <td>76.72</td>\n",
       "    </tr>\n",
       "  </tbody>\n",
       "</table>\n",
       "</div>"
      ],
      "text/plain": [
       "     10k                name  division    25k gender  age  official bib  \\\n",
       "0  17.37  Yamamoto, Hiroyuki         8  47.67      M   47     85.25  W1   \n",
       "1  32.58        Jeptoo, Rita         1  82.43      F   33    138.95  F1   \n",
       "2  16.62   Van Dyk, Ernst F.         1  45.80      M   41     80.60  W2   \n",
       "3  32.57        Dibaba, Mare         3  82.43      F   24    140.58  F2   \n",
       "4  17.12      Hokinoue, Kota         2  46.37      M   40     81.23  W3   \n",
       "\n",
       "   genderdiv     35k  overall  pace state    30k     5k   half    20k country  \\\n",
       "0          8   71.40        8  3.27   NaN  59.18   8.02  39.72  37.65     JPN   \n",
       "1          1  116.37       21  5.30   NaN  99.33  16.22  69.47  65.83     KEN   \n",
       "2          1   67.42        1  3.08   NaN  56.45   7.75  38.03  36.10     RSA   \n",
       "3          3  116.37       27  5.37   NaN  99.33  16.20  69.47  65.83     ETH   \n",
       "4          2   67.83        2  3.10   NaN  57.03   8.02  38.60  36.58     JPN   \n",
       "\n",
       "             city     40k  \n",
       "0         Fukuoka   80.43  \n",
       "1         Eldoret  132.10  \n",
       "2           Paarl   76.10  \n",
       "3            Shoa  132.95  \n",
       "4  Nogata Fukuoka   76.72  "
      ]
     },
     "execution_count": 4,
     "metadata": {},
     "output_type": "execute_result"
    },
    {
     "data": {
      "application/javascript": [
       "\n",
       "            setTimeout(function() {\n",
       "                var nbb_cell_id = 4;\n",
       "                var nbb_unformatted_code = \"data_url = \\\"https://github.com/jhl126/bostonmarathon/blob/master/results/2014/results.csv?raw=true\\\"\\n\\ndf = pd.read_csv(data_url)\\ndf = df.drop(columns=[\\\"ctz\\\"])\\n\\nprint(\\\"Columns with highest percent NA:\\\")\\n# fmt: off\\ndisplay(\\n    df.isna()\\n      .mean()\\n      .sort_values(ascending=False)\\n      .head()\\n)\\n# fmt: on\\n\\ndf.head()\";\n",
       "                var nbb_formatted_code = \"data_url = \\\"https://github.com/jhl126/bostonmarathon/blob/master/results/2014/results.csv?raw=true\\\"\\n\\ndf = pd.read_csv(data_url)\\ndf = df.drop(columns=[\\\"ctz\\\"])\\n\\nprint(\\\"Columns with highest percent NA:\\\")\\n# fmt: off\\ndisplay(\\n    df.isna()\\n      .mean()\\n      .sort_values(ascending=False)\\n      .head()\\n)\\n# fmt: on\\n\\ndf.head()\";\n",
       "                var nbb_cells = Jupyter.notebook.get_cells();\n",
       "                for (var i = 0; i < nbb_cells.length; ++i) {\n",
       "                    if (nbb_cells[i].input_prompt_number == nbb_cell_id) {\n",
       "                        if (nbb_cells[i].get_text() == nbb_unformatted_code) {\n",
       "                             nbb_cells[i].set_text(nbb_formatted_code);\n",
       "                        }\n",
       "                        break;\n",
       "                    }\n",
       "                }\n",
       "            }, 500);\n",
       "            "
      ],
      "text/plain": [
       "<IPython.core.display.Javascript object>"
      ]
     },
     "metadata": {},
     "output_type": "display_data"
    }
   ],
   "source": [
    "data_url = \"https://github.com/jhl126/bostonmarathon/blob/master/results/2014/results.csv?raw=true\"\n",
    "\n",
    "df = pd.read_csv(data_url)\n",
    "df = df.drop(columns=[\"ctz\"])\n",
    "\n",
    "print(\"Columns with highest percent NA:\")\n",
    "# fmt: off\n",
    "display(\n",
    "    df.isna()\n",
    "      .mean()\n",
    "      .sort_values(ascending=False)\n",
    "      .head()\n",
    ")\n",
    "# fmt: on\n",
    "\n",
    "df.head()"
   ]
  },
  {
   "cell_type": "code",
   "execution_count": 5,
   "metadata": {},
   "outputs": [
    {
     "data": {
      "text/plain": [
       "USA    27233\n",
       "CAN     2175\n",
       "GBR      346\n",
       "ITA      212\n",
       "MEX      205\n",
       "       ...  \n",
       "BLR        1\n",
       "CAY        1\n",
       "TRI        1\n",
       "ZIM        1\n",
       "INA        1\n",
       "Name: country, Length: 78, dtype: int64"
      ]
     },
     "execution_count": 5,
     "metadata": {},
     "output_type": "execute_result"
    },
    {
     "data": {
      "application/javascript": [
       "\n",
       "            setTimeout(function() {\n",
       "                var nbb_cell_id = 5;\n",
       "                var nbb_unformatted_code = \"df['country'].value_counts()\";\n",
       "                var nbb_formatted_code = \"df[\\\"country\\\"].value_counts()\";\n",
       "                var nbb_cells = Jupyter.notebook.get_cells();\n",
       "                for (var i = 0; i < nbb_cells.length; ++i) {\n",
       "                    if (nbb_cells[i].input_prompt_number == nbb_cell_id) {\n",
       "                        if (nbb_cells[i].get_text() == nbb_unformatted_code) {\n",
       "                             nbb_cells[i].set_text(nbb_formatted_code);\n",
       "                        }\n",
       "                        break;\n",
       "                    }\n",
       "                }\n",
       "            }, 500);\n",
       "            "
      ],
      "text/plain": [
       "<IPython.core.display.Javascript object>"
      ]
     },
     "metadata": {},
     "output_type": "display_data"
    }
   ],
   "source": [
    "df[\"country\"].value_counts()\n",
    "df.loc[~df[\"state\"].isna(), \"country\"].value_counts()"
   ]
  },
  {
   "cell_type": "code",
   "execution_count": 11,
   "metadata": {},
   "outputs": [
    {
     "data": {
      "application/javascript": [
       "\n",
       "            setTimeout(function() {\n",
       "                var nbb_cell_id = 11;\n",
       "                var nbb_unformatted_code = \"df = df.dropna(subset=[\\\"city\\\"])\";\n",
       "                var nbb_formatted_code = \"df = df.dropna(subset=[\\\"city\\\"])\";\n",
       "                var nbb_cells = Jupyter.notebook.get_cells();\n",
       "                for (var i = 0; i < nbb_cells.length; ++i) {\n",
       "                    if (nbb_cells[i].input_prompt_number == nbb_cell_id) {\n",
       "                        if (nbb_cells[i].get_text() == nbb_unformatted_code) {\n",
       "                             nbb_cells[i].set_text(nbb_formatted_code);\n",
       "                        }\n",
       "                        break;\n",
       "                    }\n",
       "                }\n",
       "            }, 500);\n",
       "            "
      ],
      "text/plain": [
       "<IPython.core.display.Javascript object>"
      ]
     },
     "metadata": {},
     "output_type": "display_data"
    }
   ],
   "source": [
    "df = df.dropna(subset=[\"city\"])"
   ]
  },
  {
   "cell_type": "code",
   "execution_count": 12,
   "metadata": {},
   "outputs": [
    {
     "name": "stderr",
     "output_type": "stream",
     "text": [
      "C:\\Users\\dgump\\miniconda3\\lib\\site-packages\\ipykernel_launcher.py:1: SettingWithCopyWarning: \n",
      "A value is trying to be set on a copy of a slice from a DataFrame.\n",
      "Try using .loc[row_indexer,col_indexer] = value instead\n",
      "\n",
      "See the caveats in the documentation: https://pandas.pydata.org/pandas-docs/stable/user_guide/indexing.html#returning-a-view-versus-a-copy\n",
      "  \"\"\"Entry point for launching an IPython kernel.\n"
     ]
    },
    {
     "data": {
      "application/javascript": [
       "\n",
       "            setTimeout(function() {\n",
       "                var nbb_cell_id = 12;\n",
       "                var nbb_unformatted_code = \"df[\\\"state\\\"] = df[\\\"state\\\"].fillna(\\\"Not US/CAN\\\")\";\n",
       "                var nbb_formatted_code = \"df[\\\"state\\\"] = df[\\\"state\\\"].fillna(\\\"Not US/CAN\\\")\";\n",
       "                var nbb_cells = Jupyter.notebook.get_cells();\n",
       "                for (var i = 0; i < nbb_cells.length; ++i) {\n",
       "                    if (nbb_cells[i].input_prompt_number == nbb_cell_id) {\n",
       "                        if (nbb_cells[i].get_text() == nbb_unformatted_code) {\n",
       "                             nbb_cells[i].set_text(nbb_formatted_code);\n",
       "                        }\n",
       "                        break;\n",
       "                    }\n",
       "                }\n",
       "            }, 500);\n",
       "            "
      ],
      "text/plain": [
       "<IPython.core.display.Javascript object>"
      ]
     },
     "metadata": {},
     "output_type": "display_data"
    }
   ],
   "source": [
    "df[\"state\"] = df[\"state\"].fillna(\"Not US/CAN\")"
   ]
  },
  {
   "cell_type": "code",
   "execution_count": 13,
   "metadata": {},
   "outputs": [
    {
     "data": {
      "text/plain": [
       "10k          0\n",
       "name         0\n",
       "division     0\n",
       "25k          0\n",
       "gender       0\n",
       "age          0\n",
       "official     0\n",
       "bib          0\n",
       "genderdiv    0\n",
       "35k          0\n",
       "overall      0\n",
       "pace         0\n",
       "state        0\n",
       "30k          0\n",
       "5k           0\n",
       "half         0\n",
       "20k          0\n",
       "country      0\n",
       "city         0\n",
       "40k          0\n",
       "dtype: int64"
      ]
     },
     "execution_count": 13,
     "metadata": {},
     "output_type": "execute_result"
    },
    {
     "data": {
      "application/javascript": [
       "\n",
       "            setTimeout(function() {\n",
       "                var nbb_cell_id = 13;\n",
       "                var nbb_unformatted_code = \"df.isna().sum()\";\n",
       "                var nbb_formatted_code = \"df.isna().sum()\";\n",
       "                var nbb_cells = Jupyter.notebook.get_cells();\n",
       "                for (var i = 0; i < nbb_cells.length; ++i) {\n",
       "                    if (nbb_cells[i].input_prompt_number == nbb_cell_id) {\n",
       "                        if (nbb_cells[i].get_text() == nbb_unformatted_code) {\n",
       "                             nbb_cells[i].set_text(nbb_formatted_code);\n",
       "                        }\n",
       "                        break;\n",
       "                    }\n",
       "                }\n",
       "            }, 500);\n",
       "            "
      ],
      "text/plain": [
       "<IPython.core.display.Javascript object>"
      ]
     },
     "metadata": {},
     "output_type": "display_data"
    }
   ],
   "source": [
    "df.isna().sum()"
   ]
  },
  {
   "cell_type": "code",
   "execution_count": 14,
   "metadata": {},
   "outputs": [
    {
     "name": "stdout",
     "output_type": "stream",
     "text": [
      "<class 'pandas.core.frame.DataFrame'>\n",
      "Int64Index: 31983 entries, 0 to 31983\n",
      "Data columns (total 20 columns):\n",
      " #   Column     Non-Null Count  Dtype  \n",
      "---  ------     --------------  -----  \n",
      " 0   10k        31983 non-null  object \n",
      " 1   name       31983 non-null  object \n",
      " 2   division   31983 non-null  int64  \n",
      " 3   25k        31983 non-null  object \n",
      " 4   gender     31983 non-null  object \n",
      " 5   age        31983 non-null  int64  \n",
      " 6   official   31983 non-null  float64\n",
      " 7   bib        31983 non-null  object \n",
      " 8   genderdiv  31983 non-null  int64  \n",
      " 9   35k        31983 non-null  object \n",
      " 10  overall    31983 non-null  int64  \n",
      " 11  pace       31983 non-null  float64\n",
      " 12  state      31983 non-null  object \n",
      " 13  30k        31983 non-null  object \n",
      " 14  5k         31983 non-null  object \n",
      " 15  half       31983 non-null  object \n",
      " 16  20k        31983 non-null  object \n",
      " 17  country    31983 non-null  object \n",
      " 18  city       31983 non-null  object \n",
      " 19  40k        31983 non-null  object \n",
      "dtypes: float64(2), int64(4), object(14)\n",
      "memory usage: 5.1+ MB\n"
     ]
    },
    {
     "data": {
      "application/javascript": [
       "\n",
       "            setTimeout(function() {\n",
       "                var nbb_cell_id = 14;\n",
       "                var nbb_unformatted_code = \"df.info()\";\n",
       "                var nbb_formatted_code = \"df.info()\";\n",
       "                var nbb_cells = Jupyter.notebook.get_cells();\n",
       "                for (var i = 0; i < nbb_cells.length; ++i) {\n",
       "                    if (nbb_cells[i].input_prompt_number == nbb_cell_id) {\n",
       "                        if (nbb_cells[i].get_text() == nbb_unformatted_code) {\n",
       "                             nbb_cells[i].set_text(nbb_formatted_code);\n",
       "                        }\n",
       "                        break;\n",
       "                    }\n",
       "                }\n",
       "            }, 500);\n",
       "            "
      ],
      "text/plain": [
       "<IPython.core.display.Javascript object>"
      ]
     },
     "metadata": {},
     "output_type": "display_data"
    }
   ],
   "source": [
    "df.info()"
   ]
  },
  {
   "cell_type": "code",
   "execution_count": 18,
   "metadata": {},
   "outputs": [
    {
     "data": {
      "text/plain": [
       "-         216\n",
       "123.30     25\n",
       "117.90     21\n",
       "132.95     21\n",
       "130.17     21\n",
       "         ... \n",
       "165.33      1\n",
       "201.38      1\n",
       "170.97      1\n",
       "90.43       1\n",
       "206.18      1\n",
       "Name: 25k, Length: 6570, dtype: int64"
      ]
     },
     "execution_count": 18,
     "metadata": {},
     "output_type": "execute_result"
    },
    {
     "data": {
      "application/javascript": [
       "\n",
       "            setTimeout(function() {\n",
       "                var nbb_cell_id = 18;\n",
       "                var nbb_unformatted_code = \"df[\\\"25k\\\"].value_counts()\";\n",
       "                var nbb_formatted_code = \"df[\\\"25k\\\"].value_counts()\";\n",
       "                var nbb_cells = Jupyter.notebook.get_cells();\n",
       "                for (var i = 0; i < nbb_cells.length; ++i) {\n",
       "                    if (nbb_cells[i].input_prompt_number == nbb_cell_id) {\n",
       "                        if (nbb_cells[i].get_text() == nbb_unformatted_code) {\n",
       "                             nbb_cells[i].set_text(nbb_formatted_code);\n",
       "                        }\n",
       "                        break;\n",
       "                    }\n",
       "                }\n",
       "            }, 500);\n",
       "            "
      ],
      "text/plain": [
       "<IPython.core.display.Javascript object>"
      ]
     },
     "metadata": {},
     "output_type": "display_data"
    }
   ],
   "source": [
    "df[\"25k\"].value_counts()"
   ]
  },
  {
   "cell_type": "code",
   "execution_count": 23,
   "metadata": {},
   "outputs": [
    {
     "data": {
      "application/javascript": [
       "\n",
       "            setTimeout(function() {\n",
       "                var nbb_cell_id = 23;\n",
       "                var nbb_unformatted_code = \"df = df.replace(\\\"-\\\", np.nan)\";\n",
       "                var nbb_formatted_code = \"df = df.replace(\\\"-\\\", np.nan)\";\n",
       "                var nbb_cells = Jupyter.notebook.get_cells();\n",
       "                for (var i = 0; i < nbb_cells.length; ++i) {\n",
       "                    if (nbb_cells[i].input_prompt_number == nbb_cell_id) {\n",
       "                        if (nbb_cells[i].get_text() == nbb_unformatted_code) {\n",
       "                             nbb_cells[i].set_text(nbb_formatted_code);\n",
       "                        }\n",
       "                        break;\n",
       "                    }\n",
       "                }\n",
       "            }, 500);\n",
       "            "
      ],
      "text/plain": [
       "<IPython.core.display.Javascript object>"
      ]
     },
     "metadata": {},
     "output_type": "display_data"
    }
   ],
   "source": [
    "df = df.replace(\"-\", np.nan)"
   ]
  },
  {
   "cell_type": "code",
   "execution_count": 26,
   "metadata": {},
   "outputs": [
    {
     "data": {
      "application/javascript": [
       "\n",
       "            setTimeout(function() {\n",
       "                var nbb_cell_id = 26;\n",
       "                var nbb_unformatted_code = \"df.isna().mean()\\ndf = df.dropna()\";\n",
       "                var nbb_formatted_code = \"df.isna().mean()\\ndf = df.dropna()\";\n",
       "                var nbb_cells = Jupyter.notebook.get_cells();\n",
       "                for (var i = 0; i < nbb_cells.length; ++i) {\n",
       "                    if (nbb_cells[i].input_prompt_number == nbb_cell_id) {\n",
       "                        if (nbb_cells[i].get_text() == nbb_unformatted_code) {\n",
       "                             nbb_cells[i].set_text(nbb_formatted_code);\n",
       "                        }\n",
       "                        break;\n",
       "                    }\n",
       "                }\n",
       "            }, 500);\n",
       "            "
      ],
      "text/plain": [
       "<IPython.core.display.Javascript object>"
      ]
     },
     "metadata": {},
     "output_type": "display_data"
    }
   ],
   "source": [
    "df.isna().mean()\n",
    "df = df.dropna()"
   ]
  },
  {
   "cell_type": "code",
   "execution_count": 28,
   "metadata": {},
   "outputs": [
    {
     "data": {
      "text/plain": [
       "10k           object\n",
       "name          object\n",
       "division       int64\n",
       "25k           object\n",
       "gender        object\n",
       "age            int64\n",
       "official     float64\n",
       "bib           object\n",
       "genderdiv      int64\n",
       "35k           object\n",
       "overall        int64\n",
       "pace         float64\n",
       "state         object\n",
       "30k           object\n",
       "5k            object\n",
       "half          object\n",
       "20k           object\n",
       "country       object\n",
       "city          object\n",
       "40k           object\n",
       "dtype: object"
      ]
     },
     "execution_count": 28,
     "metadata": {},
     "output_type": "execute_result"
    },
    {
     "data": {
      "application/javascript": [
       "\n",
       "            setTimeout(function() {\n",
       "                var nbb_cell_id = 28;\n",
       "                var nbb_unformatted_code = \"df.dtypes\";\n",
       "                var nbb_formatted_code = \"df.dtypes\";\n",
       "                var nbb_cells = Jupyter.notebook.get_cells();\n",
       "                for (var i = 0; i < nbb_cells.length; ++i) {\n",
       "                    if (nbb_cells[i].input_prompt_number == nbb_cell_id) {\n",
       "                        if (nbb_cells[i].get_text() == nbb_unformatted_code) {\n",
       "                             nbb_cells[i].set_text(nbb_formatted_code);\n",
       "                        }\n",
       "                        break;\n",
       "                    }\n",
       "                }\n",
       "            }, 500);\n",
       "            "
      ],
      "text/plain": [
       "<IPython.core.display.Javascript object>"
      ]
     },
     "metadata": {},
     "output_type": "display_data"
    }
   ],
   "source": [
    "df.dtypes"
   ]
  },
  {
   "cell_type": "code",
   "execution_count": 31,
   "metadata": {
    "scrolled": true
   },
   "outputs": [
    {
     "data": {
      "text/plain": [
       "10k          float64\n",
       "name          object\n",
       "division       int64\n",
       "25k          float64\n",
       "gender        object\n",
       "age            int64\n",
       "official     float64\n",
       "bib           object\n",
       "genderdiv      int64\n",
       "35k          float64\n",
       "overall        int64\n",
       "pace         float64\n",
       "state         object\n",
       "30k          float64\n",
       "5k           float64\n",
       "half         float64\n",
       "20k          float64\n",
       "country       object\n",
       "city          object\n",
       "40k          float64\n",
       "dtype: object"
      ]
     },
     "execution_count": 31,
     "metadata": {},
     "output_type": "execute_result"
    },
    {
     "data": {
      "application/javascript": [
       "\n",
       "            setTimeout(function() {\n",
       "                var nbb_cell_id = 31;\n",
       "                var nbb_unformatted_code = \"df = df.apply(pd.to_numeric, errors=\\\"ignore\\\")\\ndf.dtypes\";\n",
       "                var nbb_formatted_code = \"df = df.apply(pd.to_numeric, errors=\\\"ignore\\\")\\ndf.dtypes\";\n",
       "                var nbb_cells = Jupyter.notebook.get_cells();\n",
       "                for (var i = 0; i < nbb_cells.length; ++i) {\n",
       "                    if (nbb_cells[i].input_prompt_number == nbb_cell_id) {\n",
       "                        if (nbb_cells[i].get_text() == nbb_unformatted_code) {\n",
       "                             nbb_cells[i].set_text(nbb_formatted_code);\n",
       "                        }\n",
       "                        break;\n",
       "                    }\n",
       "                }\n",
       "            }, 500);\n",
       "            "
      ],
      "text/plain": [
       "<IPython.core.display.Javascript object>"
      ]
     },
     "metadata": {},
     "output_type": "display_data"
    }
   ],
   "source": [
    "df = df.apply(pd.to_numeric, errors=\"ignore\")\n",
    "df.dtypes"
   ]
  },
  {
   "cell_type": "code",
   "execution_count": 30,
   "metadata": {},
   "outputs": [
    {
     "data": {
      "text/html": [
       "<div>\n",
       "<style scoped>\n",
       "    .dataframe tbody tr th:only-of-type {\n",
       "        vertical-align: middle;\n",
       "    }\n",
       "\n",
       "    .dataframe tbody tr th {\n",
       "        vertical-align: top;\n",
       "    }\n",
       "\n",
       "    .dataframe thead th {\n",
       "        text-align: right;\n",
       "    }\n",
       "</style>\n",
       "<table border=\"1\" class=\"dataframe\">\n",
       "  <thead>\n",
       "    <tr style=\"text-align: right;\">\n",
       "      <th></th>\n",
       "      <th>10k</th>\n",
       "      <th>division</th>\n",
       "      <th>25k</th>\n",
       "      <th>age</th>\n",
       "      <th>official</th>\n",
       "      <th>genderdiv</th>\n",
       "      <th>35k</th>\n",
       "      <th>overall</th>\n",
       "      <th>pace</th>\n",
       "      <th>30k</th>\n",
       "      <th>5k</th>\n",
       "      <th>half</th>\n",
       "      <th>20k</th>\n",
       "      <th>40k</th>\n",
       "    </tr>\n",
       "  </thead>\n",
       "  <tbody>\n",
       "    <tr>\n",
       "      <th>0</th>\n",
       "      <td>17.37</td>\n",
       "      <td>8</td>\n",
       "      <td>47.67</td>\n",
       "      <td>47</td>\n",
       "      <td>85.25</td>\n",
       "      <td>8</td>\n",
       "      <td>71.40</td>\n",
       "      <td>8</td>\n",
       "      <td>3.27</td>\n",
       "      <td>59.18</td>\n",
       "      <td>8.02</td>\n",
       "      <td>39.72</td>\n",
       "      <td>37.65</td>\n",
       "      <td>80.43</td>\n",
       "    </tr>\n",
       "    <tr>\n",
       "      <th>1</th>\n",
       "      <td>32.58</td>\n",
       "      <td>1</td>\n",
       "      <td>82.43</td>\n",
       "      <td>33</td>\n",
       "      <td>138.95</td>\n",
       "      <td>1</td>\n",
       "      <td>116.37</td>\n",
       "      <td>21</td>\n",
       "      <td>5.30</td>\n",
       "      <td>99.33</td>\n",
       "      <td>16.22</td>\n",
       "      <td>69.47</td>\n",
       "      <td>65.83</td>\n",
       "      <td>132.10</td>\n",
       "    </tr>\n",
       "    <tr>\n",
       "      <th>2</th>\n",
       "      <td>16.62</td>\n",
       "      <td>1</td>\n",
       "      <td>45.80</td>\n",
       "      <td>41</td>\n",
       "      <td>80.60</td>\n",
       "      <td>1</td>\n",
       "      <td>67.42</td>\n",
       "      <td>1</td>\n",
       "      <td>3.08</td>\n",
       "      <td>56.45</td>\n",
       "      <td>7.75</td>\n",
       "      <td>38.03</td>\n",
       "      <td>36.10</td>\n",
       "      <td>76.10</td>\n",
       "    </tr>\n",
       "    <tr>\n",
       "      <th>3</th>\n",
       "      <td>32.57</td>\n",
       "      <td>3</td>\n",
       "      <td>82.43</td>\n",
       "      <td>24</td>\n",
       "      <td>140.58</td>\n",
       "      <td>3</td>\n",
       "      <td>116.37</td>\n",
       "      <td>27</td>\n",
       "      <td>5.37</td>\n",
       "      <td>99.33</td>\n",
       "      <td>16.20</td>\n",
       "      <td>69.47</td>\n",
       "      <td>65.83</td>\n",
       "      <td>132.95</td>\n",
       "    </tr>\n",
       "    <tr>\n",
       "      <th>4</th>\n",
       "      <td>17.12</td>\n",
       "      <td>2</td>\n",
       "      <td>46.37</td>\n",
       "      <td>40</td>\n",
       "      <td>81.23</td>\n",
       "      <td>2</td>\n",
       "      <td>67.83</td>\n",
       "      <td>2</td>\n",
       "      <td>3.10</td>\n",
       "      <td>57.03</td>\n",
       "      <td>8.02</td>\n",
       "      <td>38.60</td>\n",
       "      <td>36.58</td>\n",
       "      <td>76.72</td>\n",
       "    </tr>\n",
       "  </tbody>\n",
       "</table>\n",
       "</div>"
      ],
      "text/plain": [
       "     10k  division    25k  age  official  genderdiv     35k  overall  pace  \\\n",
       "0  17.37         8  47.67   47     85.25          8   71.40        8  3.27   \n",
       "1  32.58         1  82.43   33    138.95          1  116.37       21  5.30   \n",
       "2  16.62         1  45.80   41     80.60          1   67.42        1  3.08   \n",
       "3  32.57         3  82.43   24    140.58          3  116.37       27  5.37   \n",
       "4  17.12         2  46.37   40     81.23          2   67.83        2  3.10   \n",
       "\n",
       "     30k     5k   half    20k     40k  \n",
       "0  59.18   8.02  39.72  37.65   80.43  \n",
       "1  99.33  16.22  69.47  65.83  132.10  \n",
       "2  56.45   7.75  38.03  36.10   76.10  \n",
       "3  99.33  16.20  69.47  65.83  132.95  \n",
       "4  57.03   8.02  38.60  36.58   76.72  "
      ]
     },
     "execution_count": 30,
     "metadata": {},
     "output_type": "execute_result"
    },
    {
     "data": {
      "application/javascript": [
       "\n",
       "            setTimeout(function() {\n",
       "                var nbb_cell_id = 30;\n",
       "                var nbb_unformatted_code = \"nums = df.select_dtypes(\\\"number\\\")\\nnums.head()\";\n",
       "                var nbb_formatted_code = \"nums = df.select_dtypes(\\\"number\\\")\\nnums.head()\";\n",
       "                var nbb_cells = Jupyter.notebook.get_cells();\n",
       "                for (var i = 0; i < nbb_cells.length; ++i) {\n",
       "                    if (nbb_cells[i].input_prompt_number == nbb_cell_id) {\n",
       "                        if (nbb_cells[i].get_text() == nbb_unformatted_code) {\n",
       "                             nbb_cells[i].set_text(nbb_formatted_code);\n",
       "                        }\n",
       "                        break;\n",
       "                    }\n",
       "                }\n",
       "            }, 500);\n",
       "            "
      ],
      "text/plain": [
       "<IPython.core.display.Javascript object>"
      ]
     },
     "metadata": {},
     "output_type": "display_data"
    }
   ],
   "source": [
    "nums = df.select_dtypes(\"number\")\n",
    "nums.head()"
   ]
  },
  {
   "cell_type": "code",
   "execution_count": 34,
   "metadata": {},
   "outputs": [
    {
     "data": {
      "application/javascript": [
       "\n",
       "            setTimeout(function() {\n",
       "                var nbb_cell_id = 34;\n",
       "                var nbb_unformatted_code = \"scaler = StandardScaler()\\nscaled = scaler.fit_transform(nums)\";\n",
       "                var nbb_formatted_code = \"scaler = StandardScaler()\\nscaled = scaler.fit_transform(nums)\";\n",
       "                var nbb_cells = Jupyter.notebook.get_cells();\n",
       "                for (var i = 0; i < nbb_cells.length; ++i) {\n",
       "                    if (nbb_cells[i].input_prompt_number == nbb_cell_id) {\n",
       "                        if (nbb_cells[i].get_text() == nbb_unformatted_code) {\n",
       "                             nbb_cells[i].set_text(nbb_formatted_code);\n",
       "                        }\n",
       "                        break;\n",
       "                    }\n",
       "                }\n",
       "            }, 500);\n",
       "            "
      ],
      "text/plain": [
       "<IPython.core.display.Javascript object>"
      ]
     },
     "metadata": {},
     "output_type": "display_data"
    }
   ],
   "source": [
    "scaler = StandardScaler()\n",
    "scaled = scaler.fit_transform(nums)"
   ]
  },
  {
   "cell_type": "code",
   "execution_count": 35,
   "metadata": {},
   "outputs": [
    {
     "data": {
      "text/html": [
       "<div>\n",
       "<style scoped>\n",
       "    .dataframe tbody tr th:only-of-type {\n",
       "        vertical-align: middle;\n",
       "    }\n",
       "\n",
       "    .dataframe tbody tr th {\n",
       "        vertical-align: top;\n",
       "    }\n",
       "\n",
       "    .dataframe thead th {\n",
       "        text-align: right;\n",
       "    }\n",
       "</style>\n",
       "<table border=\"1\" class=\"dataframe\">\n",
       "  <thead>\n",
       "    <tr style=\"text-align: right;\">\n",
       "      <th></th>\n",
       "      <th>pc1</th>\n",
       "      <th>pc2</th>\n",
       "    </tr>\n",
       "  </thead>\n",
       "  <tbody>\n",
       "    <tr>\n",
       "      <th>0</th>\n",
       "      <td>-10.844648</td>\n",
       "      <td>0.442839</td>\n",
       "    </tr>\n",
       "    <tr>\n",
       "      <th>1</th>\n",
       "      <td>-7.036020</td>\n",
       "      <td>-0.354789</td>\n",
       "    </tr>\n",
       "    <tr>\n",
       "      <th>2</th>\n",
       "      <td>-11.115377</td>\n",
       "      <td>0.027122</td>\n",
       "    </tr>\n",
       "    <tr>\n",
       "      <th>3</th>\n",
       "      <td>-7.050778</td>\n",
       "      <td>-0.969531</td>\n",
       "    </tr>\n",
       "    <tr>\n",
       "      <th>4</th>\n",
       "      <td>-11.045268</td>\n",
       "      <td>-0.037888</td>\n",
       "    </tr>\n",
       "  </tbody>\n",
       "</table>\n",
       "</div>"
      ],
      "text/plain": [
       "         pc1       pc2\n",
       "0 -10.844648  0.442839\n",
       "1  -7.036020 -0.354789\n",
       "2 -11.115377  0.027122\n",
       "3  -7.050778 -0.969531\n",
       "4 -11.045268 -0.037888"
      ]
     },
     "execution_count": 35,
     "metadata": {},
     "output_type": "execute_result"
    },
    {
     "data": {
      "application/javascript": [
       "\n",
       "            setTimeout(function() {\n",
       "                var nbb_cell_id = 35;\n",
       "                var nbb_unformatted_code = \"pca = PCA(2)\\npcs = pca.fit_transform(scaled)\\n\\npc_df = pd.DataFrame(pcs, columns=[\\\"pc1\\\", \\\"pc2\\\"])\\npc_df.head()\";\n",
       "                var nbb_formatted_code = \"pca = PCA(2)\\npcs = pca.fit_transform(scaled)\\n\\npc_df = pd.DataFrame(pcs, columns=[\\\"pc1\\\", \\\"pc2\\\"])\\npc_df.head()\";\n",
       "                var nbb_cells = Jupyter.notebook.get_cells();\n",
       "                for (var i = 0; i < nbb_cells.length; ++i) {\n",
       "                    if (nbb_cells[i].input_prompt_number == nbb_cell_id) {\n",
       "                        if (nbb_cells[i].get_text() == nbb_unformatted_code) {\n",
       "                             nbb_cells[i].set_text(nbb_formatted_code);\n",
       "                        }\n",
       "                        break;\n",
       "                    }\n",
       "                }\n",
       "            }, 500);\n",
       "            "
      ],
      "text/plain": [
       "<IPython.core.display.Javascript object>"
      ]
     },
     "metadata": {},
     "output_type": "display_data"
    }
   ],
   "source": [
    "pca = PCA(2)\n",
    "pcs = pca.fit_transform(scaled)\n",
    "\n",
    "pc_df = pd.DataFrame(pcs, columns=[\"pc1\", \"pc2\"])\n",
    "pc_df.head()\n"
   ]
  },
  {
   "cell_type": "code",
   "execution_count": 42,
   "metadata": {},
   "outputs": [
    {
     "data": {
      "text/plain": [
       "<matplotlib.axes._subplots.AxesSubplot at 0x1c2a22cbac8>"
      ]
     },
     "execution_count": 42,
     "metadata": {},
     "output_type": "execute_result"
    },
    {
     "data": {
      "image/png": "[encoded data removed]",
      "text/plain": [
       "<Figure size 432x288 with 1 Axes>"
      ]
     },
     "metadata": {
      "needs_background": "light"
     },
     "output_type": "display_data"
    },
    {
     "data": {
      "application/javascript": [
       "\n",
       "            setTimeout(function() {\n",
       "                var nbb_cell_id = 42;\n",
       "                var nbb_unformatted_code = \"sns.scatterplot(\\\"pc1\\\", \\\"pc2\\\", data=pc_df, hue=df[\\\"age\\\"])\";\n",
       "                var nbb_formatted_code = \"sns.scatterplot(\\\"pc1\\\", \\\"pc2\\\", data=pc_df, hue=df[\\\"age\\\"])\";\n",
       "                var nbb_cells = Jupyter.notebook.get_cells();\n",
       "                for (var i = 0; i < nbb_cells.length; ++i) {\n",
       "                    if (nbb_cells[i].input_prompt_number == nbb_cell_id) {\n",
       "                        if (nbb_cells[i].get_text() == nbb_unformatted_code) {\n",
       "                             nbb_cells[i].set_text(nbb_formatted_code);\n",
       "                        }\n",
       "                        break;\n",
       "                    }\n",
       "                }\n",
       "            }, 500);\n",
       "            "
      ],
      "text/plain": [
       "<IPython.core.display.Javascript object>"
      ]
     },
     "metadata": {},
     "output_type": "display_data"
    }
   ],
   "source": [
    "sns.scatterplot(\"pc1\", \"pc2\", data=pc_df, hue=df[\"age\"])"
   ]
  },
  {
   "cell_type": "code",
   "execution_count": 40,
   "metadata": {},
   "outputs": [
    {
     "data": {
      "text/plain": [
       "1       23\n",
       "3       22\n",
       "2       22\n",
       "8       20\n",
       "5       20\n",
       "        ..\n",
       "6137     1\n",
       "6935     1\n",
       "6529     1\n",
       "6250     1\n",
       "6312     1\n",
       "Name: division, Length: 6921, dtype: int64"
      ]
     },
     "execution_count": 40,
     "metadata": {},
     "output_type": "execute_result"
    },
    {
     "data": {
      "application/javascript": [
       "\n",
       "            setTimeout(function() {\n",
       "                var nbb_cell_id = 40;\n",
       "                var nbb_unformatted_code = \"df['division'].value_counts()\";\n",
       "                var nbb_formatted_code = \"df[\\\"division\\\"].value_counts()\";\n",
       "                var nbb_cells = Jupyter.notebook.get_cells();\n",
       "                for (var i = 0; i < nbb_cells.length; ++i) {\n",
       "                    if (nbb_cells[i].input_prompt_number == nbb_cell_id) {\n",
       "                        if (nbb_cells[i].get_text() == nbb_unformatted_code) {\n",
       "                             nbb_cells[i].set_text(nbb_formatted_code);\n",
       "                        }\n",
       "                        break;\n",
       "                    }\n",
       "                }\n",
       "            }, 500);\n",
       "            "
      ],
      "text/plain": [
       "<IPython.core.display.Javascript object>"
      ]
     },
     "metadata": {},
     "output_type": "display_data"
    }
   ],
   "source": [
    "df[\"division\"].value_counts()"
   ]
  },
  {
   "cell_type": "code",
   "execution_count": 44,
   "metadata": {},
   "outputs": [
    {
     "data": {
      "text/plain": [
       "array([0.83416756, 0.10967037])"
      ]
     },
     "execution_count": 44,
     "metadata": {},
     "output_type": "execute_result"
    },
    {
     "data": {
      "application/javascript": [
       "\n",
       "            setTimeout(function() {\n",
       "                var nbb_cell_id = 44;\n",
       "                var nbb_unformatted_code = \"pca.explained_variance_ratio_\";\n",
       "                var nbb_formatted_code = \"pca.explained_variance_ratio_\";\n",
       "                var nbb_cells = Jupyter.notebook.get_cells();\n",
       "                for (var i = 0; i < nbb_cells.length; ++i) {\n",
       "                    if (nbb_cells[i].input_prompt_number == nbb_cell_id) {\n",
       "                        if (nbb_cells[i].get_text() == nbb_unformatted_code) {\n",
       "                             nbb_cells[i].set_text(nbb_formatted_code);\n",
       "                        }\n",
       "                        break;\n",
       "                    }\n",
       "                }\n",
       "            }, 500);\n",
       "            "
      ],
      "text/plain": [
       "<IPython.core.display.Javascript object>"
      ]
     },
     "metadata": {},
     "output_type": "display_data"
    }
   ],
   "source": [
    "pca.explained_variance_ratio_\n"
   ]
  },
  {
   "cell_type": "code",
   "execution_count": 46,
   "metadata": {},
   "outputs": [
    {
     "data": {
      "text/html": [
       "<style  type=\"text/css\" >\n",
       "    #T_8f7d4b1c_098a_11eb_ac93_7085c233535crow0_col0 {\n",
       "            background-color:  #023f64;\n",
       "            color:  #f1f1f1;\n",
       "        }    #T_8f7d4b1c_098a_11eb_ac93_7085c233535crow0_col1 {\n",
       "            background-color:  #83afd3;\n",
       "            color:  #000000;\n",
       "        }    #T_8f7d4b1c_098a_11eb_ac93_7085c233535crow1_col0 {\n",
       "            background-color:  #88b1d4;\n",
       "            color:  #000000;\n",
       "        }    #T_8f7d4b1c_098a_11eb_ac93_7085c233535crow1_col1 {\n",
       "            background-color:  #fff7fb;\n",
       "            color:  #000000;\n",
       "        }    #T_8f7d4b1c_098a_11eb_ac93_7085c233535crow2_col0 {\n",
       "            background-color:  #023858;\n",
       "            color:  #f1f1f1;\n",
       "        }    #T_8f7d4b1c_098a_11eb_ac93_7085c233535crow2_col1 {\n",
       "            background-color:  #86b0d3;\n",
       "            color:  #000000;\n",
       "        }    #T_8f7d4b1c_098a_11eb_ac93_7085c233535crow3_col0 {\n",
       "            background-color:  #fff7fb;\n",
       "            color:  #000000;\n",
       "        }    #T_8f7d4b1c_098a_11eb_ac93_7085c233535crow3_col1 {\n",
       "            background-color:  #023858;\n",
       "            color:  #f1f1f1;\n",
       "        }    #T_8f7d4b1c_098a_11eb_ac93_7085c233535crow4_col0 {\n",
       "            background-color:  #02395a;\n",
       "            color:  #f1f1f1;\n",
       "        }    #T_8f7d4b1c_098a_11eb_ac93_7085c233535crow4_col1 {\n",
       "            background-color:  #86b0d3;\n",
       "            color:  #000000;\n",
       "        }    #T_8f7d4b1c_098a_11eb_ac93_7085c233535crow5_col0 {\n",
       "            background-color:  #045b8e;\n",
       "            color:  #f1f1f1;\n",
       "        }    #T_8f7d4b1c_098a_11eb_ac93_7085c233535crow5_col1 {\n",
       "            background-color:  #6ba5cd;\n",
       "            color:  #000000;\n",
       "        }    #T_8f7d4b1c_098a_11eb_ac93_7085c233535crow6_col0 {\n",
       "            background-color:  #023858;\n",
       "            color:  #f1f1f1;\n",
       "        }    #T_8f7d4b1c_098a_11eb_ac93_7085c233535crow6_col1 {\n",
       "            background-color:  #88b1d4;\n",
       "            color:  #000000;\n",
       "        }    #T_8f7d4b1c_098a_11eb_ac93_7085c233535crow7_col0 {\n",
       "            background-color:  #034165;\n",
       "            color:  #f1f1f1;\n",
       "        }    #T_8f7d4b1c_098a_11eb_ac93_7085c233535crow7_col1 {\n",
       "            background-color:  #81aed2;\n",
       "            color:  #000000;\n",
       "        }    #T_8f7d4b1c_098a_11eb_ac93_7085c233535crow8_col0 {\n",
       "            background-color:  #02395a;\n",
       "            color:  #f1f1f1;\n",
       "        }    #T_8f7d4b1c_098a_11eb_ac93_7085c233535crow8_col1 {\n",
       "            background-color:  #86b0d3;\n",
       "            color:  #000000;\n",
       "        }    #T_8f7d4b1c_098a_11eb_ac93_7085c233535crow9_col0 {\n",
       "            background-color:  #023858;\n",
       "            color:  #f1f1f1;\n",
       "        }    #T_8f7d4b1c_098a_11eb_ac93_7085c233535crow9_col1 {\n",
       "            background-color:  #88b1d4;\n",
       "            color:  #000000;\n",
       "        }    #T_8f7d4b1c_098a_11eb_ac93_7085c233535crow10_col0 {\n",
       "            background-color:  #03456c;\n",
       "            color:  #f1f1f1;\n",
       "        }    #T_8f7d4b1c_098a_11eb_ac93_7085c233535crow10_col1 {\n",
       "            background-color:  #84b0d3;\n",
       "            color:  #000000;\n",
       "        }    #T_8f7d4b1c_098a_11eb_ac93_7085c233535crow11_col0 {\n",
       "            background-color:  #02395a;\n",
       "            color:  #f1f1f1;\n",
       "        }    #T_8f7d4b1c_098a_11eb_ac93_7085c233535crow11_col1 {\n",
       "            background-color:  #84b0d3;\n",
       "            color:  #000000;\n",
       "        }    #T_8f7d4b1c_098a_11eb_ac93_7085c233535crow12_col0 {\n",
       "            background-color:  #023a5b;\n",
       "            color:  #f1f1f1;\n",
       "        }    #T_8f7d4b1c_098a_11eb_ac93_7085c233535crow12_col1 {\n",
       "            background-color:  #84b0d3;\n",
       "            color:  #000000;\n",
       "        }    #T_8f7d4b1c_098a_11eb_ac93_7085c233535crow13_col0 {\n",
       "            background-color:  #023858;\n",
       "            color:  #f1f1f1;\n",
       "        }    #T_8f7d4b1c_098a_11eb_ac93_7085c233535crow13_col1 {\n",
       "            background-color:  #88b1d4;\n",
       "            color:  #000000;\n",
       "        }</style><table id=\"T_8f7d4b1c_098a_11eb_ac93_7085c233535c\" ><thead>    <tr>        <th class=\"blank level0\" ></th>        <th class=\"col_heading level0 col0\" >0</th>        <th class=\"col_heading level0 col1\" >1</th>    </tr></thead><tbody>\n",
       "                <tr>\n",
       "                        <th id=\"T_8f7d4b1c_098a_11eb_ac93_7085c233535clevel0_row0\" class=\"row_heading level0 row0\" >10k</th>\n",
       "                        <td id=\"T_8f7d4b1c_098a_11eb_ac93_7085c233535crow0_col0\" class=\"data row0 col0\" >0.283488</td>\n",
       "                        <td id=\"T_8f7d4b1c_098a_11eb_ac93_7085c233535crow0_col1\" class=\"data row0 col1\" >0.021137</td>\n",
       "            </tr>\n",
       "            <tr>\n",
       "                        <th id=\"T_8f7d4b1c_098a_11eb_ac93_7085c233535clevel0_row1\" class=\"row_heading level0 row1\" >division</th>\n",
       "                        <td id=\"T_8f7d4b1c_098a_11eb_ac93_7085c233535crow1_col0\" class=\"data row1 col0\" >0.157102</td>\n",
       "                        <td id=\"T_8f7d4b1c_098a_11eb_ac93_7085c233535crow1_col1\" class=\"data row1 col1\" >-0.627550</td>\n",
       "            </tr>\n",
       "            <tr>\n",
       "                        <th id=\"T_8f7d4b1c_098a_11eb_ac93_7085c233535clevel0_row2\" class=\"row_heading level0 row2\" >25k</th>\n",
       "                        <td id=\"T_8f7d4b1c_098a_11eb_ac93_7085c233535crow2_col0\" class=\"data row2 col0\" >0.289446</td>\n",
       "                        <td id=\"T_8f7d4b1c_098a_11eb_ac93_7085c233535crow2_col1\" class=\"data row2 col1\" >0.009784</td>\n",
       "            </tr>\n",
       "            <tr>\n",
       "                        <th id=\"T_8f7d4b1c_098a_11eb_ac93_7085c233535clevel0_row3\" class=\"row_heading level0 row3\" >age</th>\n",
       "                        <td id=\"T_8f7d4b1c_098a_11eb_ac93_7085c233535crow3_col0\" class=\"data row3 col0\" >0.048196</td>\n",
       "                        <td id=\"T_8f7d4b1c_098a_11eb_ac93_7085c233535crow3_col1\" class=\"data row3 col1\" >0.771460</td>\n",
       "            </tr>\n",
       "            <tr>\n",
       "                        <th id=\"T_8f7d4b1c_098a_11eb_ac93_7085c233535clevel0_row4\" class=\"row_heading level0 row4\" >official</th>\n",
       "                        <td id=\"T_8f7d4b1c_098a_11eb_ac93_7085c233535crow4_col0\" class=\"data row4 col0\" >0.288792</td>\n",
       "                        <td id=\"T_8f7d4b1c_098a_11eb_ac93_7085c233535crow4_col1\" class=\"data row4 col1\" >0.006617</td>\n",
       "            </tr>\n",
       "            <tr>\n",
       "                        <th id=\"T_8f7d4b1c_098a_11eb_ac93_7085c233535clevel0_row5\" class=\"row_heading level0 row5\" >genderdiv</th>\n",
       "                        <td id=\"T_8f7d4b1c_098a_11eb_ac93_7085c233535crow5_col0\" class=\"data row5 col0\" >0.258400</td>\n",
       "                        <td id=\"T_8f7d4b1c_098a_11eb_ac93_7085c233535crow5_col1\" class=\"data row5 col1\" >0.094360</td>\n",
       "            </tr>\n",
       "            <tr>\n",
       "                        <th id=\"T_8f7d4b1c_098a_11eb_ac93_7085c233535clevel0_row6\" class=\"row_heading level0 row6\" >35k</th>\n",
       "                        <td id=\"T_8f7d4b1c_098a_11eb_ac93_7085c233535crow6_col0\" class=\"data row6 col0\" >0.290136</td>\n",
       "                        <td id=\"T_8f7d4b1c_098a_11eb_ac93_7085c233535crow6_col1\" class=\"data row6 col1\" >0.003060</td>\n",
       "            </tr>\n",
       "            <tr>\n",
       "                        <th id=\"T_8f7d4b1c_098a_11eb_ac93_7085c233535clevel0_row7\" class=\"row_heading level0 row7\" >overall</th>\n",
       "                        <td id=\"T_8f7d4b1c_098a_11eb_ac93_7085c233535crow7_col0\" class=\"data row7 col0\" >0.281918</td>\n",
       "                        <td id=\"T_8f7d4b1c_098a_11eb_ac93_7085c233535crow7_col1\" class=\"data row7 col1\" >0.025769</td>\n",
       "            </tr>\n",
       "            <tr>\n",
       "                        <th id=\"T_8f7d4b1c_098a_11eb_ac93_7085c233535clevel0_row8\" class=\"row_heading level0 row8\" >pace</th>\n",
       "                        <td id=\"T_8f7d4b1c_098a_11eb_ac93_7085c233535crow8_col0\" class=\"data row8 col0\" >0.288793</td>\n",
       "                        <td id=\"T_8f7d4b1c_098a_11eb_ac93_7085c233535crow8_col1\" class=\"data row8 col1\" >0.006595</td>\n",
       "            </tr>\n",
       "            <tr>\n",
       "                        <th id=\"T_8f7d4b1c_098a_11eb_ac93_7085c233535clevel0_row9\" class=\"row_heading level0 row9\" >30k</th>\n",
       "                        <td id=\"T_8f7d4b1c_098a_11eb_ac93_7085c233535crow9_col0\" class=\"data row9 col0\" >0.290193</td>\n",
       "                        <td id=\"T_8f7d4b1c_098a_11eb_ac93_7085c233535crow9_col1\" class=\"data row9 col1\" >0.005963</td>\n",
       "            </tr>\n",
       "            <tr>\n",
       "                        <th id=\"T_8f7d4b1c_098a_11eb_ac93_7085c233535clevel0_row10\" class=\"row_heading level0 row10\" >5k</th>\n",
       "                        <td id=\"T_8f7d4b1c_098a_11eb_ac93_7085c233535crow10_col0\" class=\"data row10 col0\" >0.278457</td>\n",
       "                        <td id=\"T_8f7d4b1c_098a_11eb_ac93_7085c233535crow10_col1\" class=\"data row10 col1\" >0.015307</td>\n",
       "            </tr>\n",
       "            <tr>\n",
       "                        <th id=\"T_8f7d4b1c_098a_11eb_ac93_7085c233535clevel0_row11\" class=\"row_heading level0 row11\" >half</th>\n",
       "                        <td id=\"T_8f7d4b1c_098a_11eb_ac93_7085c233535crow11_col0\" class=\"data row11 col0\" >0.288400</td>\n",
       "                        <td id=\"T_8f7d4b1c_098a_11eb_ac93_7085c233535crow11_col1\" class=\"data row11 col1\" >0.016659</td>\n",
       "            </tr>\n",
       "            <tr>\n",
       "                        <th id=\"T_8f7d4b1c_098a_11eb_ac93_7085c233535clevel0_row12\" class=\"row_heading level0 row12\" >20k</th>\n",
       "                        <td id=\"T_8f7d4b1c_098a_11eb_ac93_7085c233535crow12_col0\" class=\"data row12 col0\" >0.288138</td>\n",
       "                        <td id=\"T_8f7d4b1c_098a_11eb_ac93_7085c233535crow12_col1\" class=\"data row12 col1\" >0.016449</td>\n",
       "            </tr>\n",
       "            <tr>\n",
       "                        <th id=\"T_8f7d4b1c_098a_11eb_ac93_7085c233535clevel0_row13\" class=\"row_heading level0 row13\" >40k</th>\n",
       "                        <td id=\"T_8f7d4b1c_098a_11eb_ac93_7085c233535crow13_col0\" class=\"data row13 col0\" >0.289265</td>\n",
       "                        <td id=\"T_8f7d4b1c_098a_11eb_ac93_7085c233535crow13_col1\" class=\"data row13 col1\" >0.002407</td>\n",
       "            </tr>\n",
       "    </tbody></table>"
      ],
      "text/plain": [
       "<pandas.io.formats.style.Styler at 0x1c2a2311648>"
      ]
     },
     "execution_count": 46,
     "metadata": {},
     "output_type": "execute_result"
    },
    {
     "data": {
      "application/javascript": [
       "\n",
       "            setTimeout(function() {\n",
       "                var nbb_cell_id = 46;\n",
       "                var nbb_unformatted_code = \"weights = pd.DataFrame(pca.components_, columns=nums.columns).T\\nweights.style.background_gradient()\";\n",
       "                var nbb_formatted_code = \"weights = pd.DataFrame(pca.components_, columns=nums.columns).T\\nweights.style.background_gradient()\";\n",
       "                var nbb_cells = Jupyter.notebook.get_cells();\n",
       "                for (var i = 0; i < nbb_cells.length; ++i) {\n",
       "                    if (nbb_cells[i].input_prompt_number == nbb_cell_id) {\n",
       "                        if (nbb_cells[i].get_text() == nbb_unformatted_code) {\n",
       "                             nbb_cells[i].set_text(nbb_formatted_code);\n",
       "                        }\n",
       "                        break;\n",
       "                    }\n",
       "                }\n",
       "            }, 500);\n",
       "            "
      ],
      "text/plain": [
       "<IPython.core.display.Javascript object>"
      ]
     },
     "metadata": {},
     "output_type": "display_data"
    }
   ],
   "source": [
    "weights = pd.DataFrame(pca.components_, columns=nums.columns).T\n",
    "weights.style.background_gradient()\n"
   ]
  },
  {
   "cell_type": "code",
   "execution_count": 55,
   "metadata": {},
   "outputs": [
    {
     "data": {
      "text/plain": [
       "KMeans(algorithm='auto', copy_x=True, init='k-means++', max_iter=300,\n",
       "       n_clusters=3, n_init=10, n_jobs=None, precompute_distances='auto',\n",
       "       random_state=None, tol=0.0001, verbose=0)"
      ]
     },
     "execution_count": 55,
     "metadata": {},
     "output_type": "execute_result"
    },
    {
     "data": {
      "application/javascript": [
       "\n",
       "            setTimeout(function() {\n",
       "                var nbb_cell_id = 55;\n",
       "                var nbb_unformatted_code = \"k_means = KMeans(3)\\nk_means.fit(pcs)\";\n",
       "                var nbb_formatted_code = \"k_means = KMeans(3)\\nk_means.fit(pcs)\";\n",
       "                var nbb_cells = Jupyter.notebook.get_cells();\n",
       "                for (var i = 0; i < nbb_cells.length; ++i) {\n",
       "                    if (nbb_cells[i].input_prompt_number == nbb_cell_id) {\n",
       "                        if (nbb_cells[i].get_text() == nbb_unformatted_code) {\n",
       "                             nbb_cells[i].set_text(nbb_formatted_code);\n",
       "                        }\n",
       "                        break;\n",
       "                    }\n",
       "                }\n",
       "            }, 500);\n",
       "            "
      ],
      "text/plain": [
       "<IPython.core.display.Javascript object>"
      ]
     },
     "metadata": {},
     "output_type": "display_data"
    }
   ],
   "source": [
    "k_means = KMeans(3)\n",
    "k_means.fit(pcs)"
   ]
  },
  {
   "cell_type": "code",
   "execution_count": 56,
   "metadata": {},
   "outputs": [
    {
     "data": {
      "text/plain": [
       "<matplotlib.axes._subplots.AxesSubplot at 0x1c2a8eb5f88>"
      ]
     },
     "execution_count": 56,
     "metadata": {},
     "output_type": "execute_result"
    },
    {
     "data": {
      "image/png": "[encoded data removed]",
      "text/plain": [
       "<Figure size 432x288 with 1 Axes>"
      ]
     },
     "metadata": {
      "needs_background": "light"
     },
     "output_type": "display_data"
    },
    {
     "data": {
      "application/javascript": [
       "\n",
       "            setTimeout(function() {\n",
       "                var nbb_cell_id = 56;\n",
       "                var nbb_unformatted_code = \"sns.scatterplot(\\\"pc1\\\", \\\"pc2\\\", data=pc_df, hue=k_means.labels_)\";\n",
       "                var nbb_formatted_code = \"sns.scatterplot(\\\"pc1\\\", \\\"pc2\\\", data=pc_df, hue=k_means.labels_)\";\n",
       "                var nbb_cells = Jupyter.notebook.get_cells();\n",
       "                for (var i = 0; i < nbb_cells.length; ++i) {\n",
       "                    if (nbb_cells[i].input_prompt_number == nbb_cell_id) {\n",
       "                        if (nbb_cells[i].get_text() == nbb_unformatted_code) {\n",
       "                             nbb_cells[i].set_text(nbb_formatted_code);\n",
       "                        }\n",
       "                        break;\n",
       "                    }\n",
       "                }\n",
       "            }, 500);\n",
       "            "
      ],
      "text/plain": [
       "<IPython.core.display.Javascript object>"
      ]
     },
     "metadata": {},
     "output_type": "display_data"
    }
   ],
   "source": [
    "sns.scatterplot(\"pc1\", \"pc2\", data=pc_df, hue=k_means.labels_)"
   ]
  },
  {
   "cell_type": "code",
   "execution_count": 57,
   "metadata": {},
   "outputs": [
    {
     "data": {
      "text/html": [
       "<style  type=\"text/css\" >\n",
       "    #T_aef095ba_098b_11eb_9149_7085c233535crow0_col0 {\n",
       "            background-color:  #8cb3d5;\n",
       "            color:  #000000;\n",
       "        }    #T_aef095ba_098b_11eb_9149_7085c233535crow0_col1 {\n",
       "            background-color:  #c9cee4;\n",
       "            color:  #000000;\n",
       "        }    #T_aef095ba_098b_11eb_9149_7085c233535crow0_col2 {\n",
       "            background-color:  #9ab8d8;\n",
       "            color:  #000000;\n",
       "        }    #T_aef095ba_098b_11eb_9149_7085c233535crow0_col3 {\n",
       "            background-color:  #023858;\n",
       "            color:  #f1f1f1;\n",
       "        }    #T_aef095ba_098b_11eb_9149_7085c233535crow0_col4 {\n",
       "            background-color:  #99b8d8;\n",
       "            color:  #000000;\n",
       "        }    #T_aef095ba_098b_11eb_9149_7085c233535crow0_col5 {\n",
       "            background-color:  #60a1ca;\n",
       "            color:  #000000;\n",
       "        }    #T_aef095ba_098b_11eb_9149_7085c233535crow0_col6 {\n",
       "            background-color:  #9cb9d9;\n",
       "            color:  #000000;\n",
       "        }    #T_aef095ba_098b_11eb_9149_7085c233535crow0_col7 {\n",
       "            background-color:  #529bc7;\n",
       "            color:  #000000;\n",
       "        }    #T_aef095ba_098b_11eb_9149_7085c233535crow0_col8 {\n",
       "            background-color:  #99b8d8;\n",
       "            color:  #000000;\n",
       "        }    #T_aef095ba_098b_11eb_9149_7085c233535crow0_col9 {\n",
       "            background-color:  #9cb9d9;\n",
       "            color:  #000000;\n",
       "        }    #T_aef095ba_098b_11eb_9149_7085c233535crow0_col10 {\n",
       "            background-color:  #86b0d3;\n",
       "            color:  #000000;\n",
       "        }    #T_aef095ba_098b_11eb_9149_7085c233535crow0_col11 {\n",
       "            background-color:  #96b6d7;\n",
       "            color:  #000000;\n",
       "        }    #T_aef095ba_098b_11eb_9149_7085c233535crow0_col12 {\n",
       "            background-color:  #96b6d7;\n",
       "            color:  #000000;\n",
       "        }    #T_aef095ba_098b_11eb_9149_7085c233535crow0_col13 {\n",
       "            background-color:  #99b8d8;\n",
       "            color:  #000000;\n",
       "        }    #T_aef095ba_098b_11eb_9149_7085c233535crow1_col0 {\n",
       "            background-color:  #fff7fb;\n",
       "            color:  #000000;\n",
       "        }    #T_aef095ba_098b_11eb_9149_7085c233535crow1_col1 {\n",
       "            background-color:  #fff7fb;\n",
       "            color:  #000000;\n",
       "        }    #T_aef095ba_098b_11eb_9149_7085c233535crow1_col2 {\n",
       "            background-color:  #fff7fb;\n",
       "            color:  #000000;\n",
       "        }    #T_aef095ba_098b_11eb_9149_7085c233535crow1_col3 {\n",
       "            background-color:  #fff7fb;\n",
       "            color:  #000000;\n",
       "        }    #T_aef095ba_098b_11eb_9149_7085c233535crow1_col4 {\n",
       "            background-color:  #fff7fb;\n",
       "            color:  #000000;\n",
       "        }    #T_aef095ba_098b_11eb_9149_7085c233535crow1_col5 {\n",
       "            background-color:  #fff7fb;\n",
       "            color:  #000000;\n",
       "        }    #T_aef095ba_098b_11eb_9149_7085c233535crow1_col6 {\n",
       "            background-color:  #fff7fb;\n",
       "            color:  #000000;\n",
       "        }    #T_aef095ba_098b_11eb_9149_7085c233535crow1_col7 {\n",
       "            background-color:  #fff7fb;\n",
       "            color:  #000000;\n",
       "        }    #T_aef095ba_098b_11eb_9149_7085c233535crow1_col8 {\n",
       "            background-color:  #fff7fb;\n",
       "            color:  #000000;\n",
       "        }    #T_aef095ba_098b_11eb_9149_7085c233535crow1_col9 {\n",
       "            background-color:  #fff7fb;\n",
       "            color:  #000000;\n",
       "        }    #T_aef095ba_098b_11eb_9149_7085c233535crow1_col10 {\n",
       "            background-color:  #fff7fb;\n",
       "            color:  #000000;\n",
       "        }    #T_aef095ba_098b_11eb_9149_7085c233535crow1_col11 {\n",
       "            background-color:  #fff7fb;\n",
       "            color:  #000000;\n",
       "        }    #T_aef095ba_098b_11eb_9149_7085c233535crow1_col12 {\n",
       "            background-color:  #fff7fb;\n",
       "            color:  #000000;\n",
       "        }    #T_aef095ba_098b_11eb_9149_7085c233535crow1_col13 {\n",
       "            background-color:  #fff7fb;\n",
       "            color:  #000000;\n",
       "        }    #T_aef095ba_098b_11eb_9149_7085c233535crow2_col0 {\n",
       "            background-color:  #023858;\n",
       "            color:  #f1f1f1;\n",
       "        }    #T_aef095ba_098b_11eb_9149_7085c233535crow2_col1 {\n",
       "            background-color:  #023858;\n",
       "            color:  #f1f1f1;\n",
       "        }    #T_aef095ba_098b_11eb_9149_7085c233535crow2_col2 {\n",
       "            background-color:  #023858;\n",
       "            color:  #f1f1f1;\n",
       "        }    #T_aef095ba_098b_11eb_9149_7085c233535crow2_col3 {\n",
       "            background-color:  #9ab8d8;\n",
       "            color:  #000000;\n",
       "        }    #T_aef095ba_098b_11eb_9149_7085c233535crow2_col4 {\n",
       "            background-color:  #023858;\n",
       "            color:  #f1f1f1;\n",
       "        }    #T_aef095ba_098b_11eb_9149_7085c233535crow2_col5 {\n",
       "            background-color:  #023858;\n",
       "            color:  #f1f1f1;\n",
       "        }    #T_aef095ba_098b_11eb_9149_7085c233535crow2_col6 {\n",
       "            background-color:  #023858;\n",
       "            color:  #f1f1f1;\n",
       "        }    #T_aef095ba_098b_11eb_9149_7085c233535crow2_col7 {\n",
       "            background-color:  #023858;\n",
       "            color:  #f1f1f1;\n",
       "        }    #T_aef095ba_098b_11eb_9149_7085c233535crow2_col8 {\n",
       "            background-color:  #023858;\n",
       "            color:  #f1f1f1;\n",
       "        }    #T_aef095ba_098b_11eb_9149_7085c233535crow2_col9 {\n",
       "            background-color:  #023858;\n",
       "            color:  #f1f1f1;\n",
       "        }    #T_aef095ba_098b_11eb_9149_7085c233535crow2_col10 {\n",
       "            background-color:  #023858;\n",
       "            color:  #f1f1f1;\n",
       "        }    #T_aef095ba_098b_11eb_9149_7085c233535crow2_col11 {\n",
       "            background-color:  #023858;\n",
       "            color:  #f1f1f1;\n",
       "        }    #T_aef095ba_098b_11eb_9149_7085c233535crow2_col12 {\n",
       "            background-color:  #023858;\n",
       "            color:  #f1f1f1;\n",
       "        }    #T_aef095ba_098b_11eb_9149_7085c233535crow2_col13 {\n",
       "            background-color:  #023858;\n",
       "            color:  #f1f1f1;\n",
       "        }</style><table id=\"T_aef095ba_098b_11eb_9149_7085c233535c\" ><thead>    <tr>        <th class=\"blank level0\" ></th>        <th class=\"col_heading level0 col0\" >10k</th>        <th class=\"col_heading level0 col1\" >division</th>        <th class=\"col_heading level0 col2\" >25k</th>        <th class=\"col_heading level0 col3\" >age</th>        <th class=\"col_heading level0 col4\" >official</th>        <th class=\"col_heading level0 col5\" >genderdiv</th>        <th class=\"col_heading level0 col6\" >35k</th>        <th class=\"col_heading level0 col7\" >overall</th>        <th class=\"col_heading level0 col8\" >pace</th>        <th class=\"col_heading level0 col9\" >30k</th>        <th class=\"col_heading level0 col10\" >5k</th>        <th class=\"col_heading level0 col11\" >half</th>        <th class=\"col_heading level0 col12\" >20k</th>        <th class=\"col_heading level0 col13\" >40k</th>    </tr>    <tr>        <th class=\"index_name level0\" >label</th>        <th class=\"blank\" ></th>        <th class=\"blank\" ></th>        <th class=\"blank\" ></th>        <th class=\"blank\" ></th>        <th class=\"blank\" ></th>        <th class=\"blank\" ></th>        <th class=\"blank\" ></th>        <th class=\"blank\" ></th>        <th class=\"blank\" ></th>        <th class=\"blank\" ></th>        <th class=\"blank\" ></th>        <th class=\"blank\" ></th>        <th class=\"blank\" ></th>        <th class=\"blank\" ></th>    </tr></thead><tbody>\n",
       "                <tr>\n",
       "                        <th id=\"T_aef095ba_098b_11eb_9149_7085c233535clevel0_row0\" class=\"row_heading level0 row0\" >0</th>\n",
       "                        <td id=\"T_aef095ba_098b_11eb_9149_7085c233535crow0_col0\" class=\"data row0 col0\" >52.855197</td>\n",
       "                        <td id=\"T_aef095ba_098b_11eb_9149_7085c233535crow0_col1\" class=\"data row0 col1\" >1816.784227</td>\n",
       "                        <td id=\"T_aef095ba_098b_11eb_9149_7085c233535crow0_col2\" class=\"data row0 col2\" >135.907575</td>\n",
       "                        <td id=\"T_aef095ba_098b_11eb_9149_7085c233535crow0_col3\" class=\"data row0 col3\" >46.375378</td>\n",
       "                        <td id=\"T_aef095ba_098b_11eb_9149_7085c233535crow0_col4\" class=\"data row0 col4\" >247.006677</td>\n",
       "                        <td id=\"T_aef095ba_098b_11eb_9149_7085c233535crow0_col5\" class=\"data row0 col5\" >9270.022777</td>\n",
       "                        <td id=\"T_aef095ba_098b_11eb_9149_7085c233535crow0_col6\" class=\"data row0 col6\" >199.472259</td>\n",
       "                        <td id=\"T_aef095ba_098b_11eb_9149_7085c233535crow0_col7\" class=\"data row0 col7\" >18863.102376</td>\n",
       "                        <td id=\"T_aef095ba_098b_11eb_9149_7085c233535crow0_col8\" class=\"data row0 col8\" >9.429283</td>\n",
       "                        <td id=\"T_aef095ba_098b_11eb_9149_7085c233535crow0_col9\" class=\"data row0 col9\" >166.621771</td>\n",
       "                        <td id=\"T_aef095ba_098b_11eb_9149_7085c233535crow0_col10\" class=\"data row0 col10\" >26.347920</td>\n",
       "                        <td id=\"T_aef095ba_098b_11eb_9149_7085c233535crow0_col11\" class=\"data row0 col11\" >113.359971</td>\n",
       "                        <td id=\"T_aef095ba_098b_11eb_9149_7085c233535crow0_col12\" class=\"data row0 col12\" >107.373558</td>\n",
       "                        <td id=\"T_aef095ba_098b_11eb_9149_7085c233535crow0_col13\" class=\"data row0 col13\" >232.735929</td>\n",
       "            </tr>\n",
       "            <tr>\n",
       "                        <th id=\"T_aef095ba_098b_11eb_9149_7085c233535clevel0_row1\" class=\"row_heading level0 row1\" >1</th>\n",
       "                        <td id=\"T_aef095ba_098b_11eb_9149_7085c233535crow1_col0\" class=\"data row1 col0\" >43.860378</td>\n",
       "                        <td id=\"T_aef095ba_098b_11eb_9149_7085c233535crow1_col1\" class=\"data row1 col1\" >1166.334980</td>\n",
       "                        <td id=\"T_aef095ba_098b_11eb_9149_7085c233535crow1_col2\" class=\"data row1 col2\" >111.075608</td>\n",
       "                        <td id=\"T_aef095ba_098b_11eb_9149_7085c233535crow1_col3\" class=\"data row1 col3\" >38.822588</td>\n",
       "                        <td id=\"T_aef095ba_098b_11eb_9149_7085c233535crow1_col4\" class=\"data row1 col4\" >196.822026</td>\n",
       "                        <td id=\"T_aef095ba_098b_11eb_9149_7085c233535crow1_col5\" class=\"data row1 col5\" >3656.269961</td>\n",
       "                        <td id=\"T_aef095ba_098b_11eb_9149_7085c233535crow1_col6\" class=\"data row1 col6\" >160.046555</td>\n",
       "                        <td id=\"T_aef095ba_098b_11eb_9149_7085c233535crow1_col7\" class=\"data row1 col7\" >6458.630667</td>\n",
       "                        <td id=\"T_aef095ba_098b_11eb_9149_7085c233535crow1_col8\" class=\"data row1 col8\" >7.515129</td>\n",
       "                        <td id=\"T_aef095ba_098b_11eb_9149_7085c233535crow1_col9\" class=\"data row1 col9\" >134.965264</td>\n",
       "                        <td id=\"T_aef095ba_098b_11eb_9149_7085c233535crow1_col10\" class=\"data row1 col10\" >21.930613</td>\n",
       "                        <td id=\"T_aef095ba_098b_11eb_9149_7085c233535crow1_col11\" class=\"data row1 col11\" >93.244339</td>\n",
       "                        <td id=\"T_aef095ba_098b_11eb_9149_7085c233535crow1_col12\" class=\"data row1 col12\" >88.367496</td>\n",
       "                        <td id=\"T_aef095ba_098b_11eb_9149_7085c233535crow1_col13\" class=\"data row1 col13\" >185.579088</td>\n",
       "            </tr>\n",
       "            <tr>\n",
       "                        <th id=\"T_aef095ba_098b_11eb_9149_7085c233535clevel0_row2\" class=\"row_heading level0 row2\" >2</th>\n",
       "                        <td id=\"T_aef095ba_098b_11eb_9149_7085c233535crow2_col0\" class=\"data row2 col0\" >64.267454</td>\n",
       "                        <td id=\"T_aef095ba_098b_11eb_9149_7085c233535crow2_col1\" class=\"data row2 col1\" >3568.690781</td>\n",
       "                        <td id=\"T_aef095ba_098b_11eb_9149_7085c233535crow2_col2\" class=\"data row2 col2\" >172.452647</td>\n",
       "                        <td id=\"T_aef095ba_098b_11eb_9149_7085c233535crow2_col3\" class=\"data row2 col3\" >41.863589</td>\n",
       "                        <td id=\"T_aef095ba_098b_11eb_9149_7085c233535crow2_col4\" class=\"data row2 col4\" >319.184700</td>\n",
       "                        <td id=\"T_aef095ba_098b_11eb_9149_7085c233535crow2_col5\" class=\"data row2 col5\" >14004.180629</td>\n",
       "                        <td id=\"T_aef095ba_098b_11eb_9149_7085c233535crow2_col6\" class=\"data row2 col6\" >258.707485</td>\n",
       "                        <td id=\"T_aef095ba_098b_11eb_9149_7085c233535crow2_col7\" class=\"data row2 col7\" >28231.767785</td>\n",
       "                        <td id=\"T_aef095ba_098b_11eb_9149_7085c233535crow2_col8\" class=\"data row2 col8\" >12.182136</td>\n",
       "                        <td id=\"T_aef095ba_098b_11eb_9149_7085c233535crow2_col9\" class=\"data row2 col9\" >214.347523</td>\n",
       "                        <td id=\"T_aef095ba_098b_11eb_9149_7085c233535crow2_col10\" class=\"data row2 col10\" >31.631081</td>\n",
       "                        <td id=\"T_aef095ba_098b_11eb_9149_7085c233535crow2_col11\" class=\"data row2 col11\" >141.707642</td>\n",
       "                        <td id=\"T_aef095ba_098b_11eb_9149_7085c233535crow2_col12\" class=\"data row2 col12\" >134.052042</td>\n",
       "                        <td id=\"T_aef095ba_098b_11eb_9149_7085c233535crow2_col13\" class=\"data row2 col13\" >301.527412</td>\n",
       "            </tr>\n",
       "    </tbody></table>"
      ],
      "text/plain": [
       "<pandas.io.formats.style.Styler at 0x1c2a8f13d48>"
      ]
     },
     "execution_count": 57,
     "metadata": {},
     "output_type": "execute_result"
    },
    {
     "data": {
      "application/javascript": [
       "\n",
       "            setTimeout(function() {\n",
       "                var nbb_cell_id = 57;\n",
       "                var nbb_unformatted_code = \"df[\\\"label\\\"] = k_means.labels_\\n\\nclst_means = df.groupby(\\\"label\\\").mean()\\nclst_means.style.background_gradient()\";\n",
       "                var nbb_formatted_code = \"df[\\\"label\\\"] = k_means.labels_\\n\\nclst_means = df.groupby(\\\"label\\\").mean()\\nclst_means.style.background_gradient()\";\n",
       "                var nbb_cells = Jupyter.notebook.get_cells();\n",
       "                for (var i = 0; i < nbb_cells.length; ++i) {\n",
       "                    if (nbb_cells[i].input_prompt_number == nbb_cell_id) {\n",
       "                        if (nbb_cells[i].get_text() == nbb_unformatted_code) {\n",
       "                             nbb_cells[i].set_text(nbb_formatted_code);\n",
       "                        }\n",
       "                        break;\n",
       "                    }\n",
       "                }\n",
       "            }, 500);\n",
       "            "
      ],
      "text/plain": [
       "<IPython.core.display.Javascript object>"
      ]
     },
     "metadata": {},
     "output_type": "display_data"
    }
   ],
   "source": [
    "df[\"label\"] = k_means.labels_\n",
    "\n",
    "clst_means = df.groupby(\"label\").mean()\n",
    "clst_means.style.background_gradient()"
   ]
  },
  {
   "cell_type": "code",
   "execution_count": 60,
   "metadata": {},
   "outputs": [
    {
     "data": {
      "text/plain": [
       "USA    10265\n",
       "CAN     1014\n",
       "GBR      124\n",
       "ITA      100\n",
       "GER       88\n",
       "       ...  \n",
       "POR        1\n",
       "URU        1\n",
       "TAN        1\n",
       "DOM        1\n",
       "PAN        1\n",
       "Name: country, Length: 65, dtype: int64"
      ]
     },
     "execution_count": 60,
     "metadata": {},
     "output_type": "execute_result"
    },
    {
     "data": {
      "application/javascript": [
       "\n",
       "            setTimeout(function() {\n",
       "                var nbb_cell_id = 60;\n",
       "                var nbb_unformatted_code = \"df.loc[df[\\\"label\\\"] == 0, \\\"country\\\"].value_counts()\";\n",
       "                var nbb_formatted_code = \"df.loc[df[\\\"label\\\"] == 0, \\\"country\\\"].value_counts()\";\n",
       "                var nbb_cells = Jupyter.notebook.get_cells();\n",
       "                for (var i = 0; i < nbb_cells.length; ++i) {\n",
       "                    if (nbb_cells[i].input_prompt_number == nbb_cell_id) {\n",
       "                        if (nbb_cells[i].get_text() == nbb_unformatted_code) {\n",
       "                             nbb_cells[i].set_text(nbb_formatted_code);\n",
       "                        }\n",
       "                        break;\n",
       "                    }\n",
       "                }\n",
       "            }, 500);\n",
       "            "
      ],
      "text/plain": [
       "<IPython.core.display.Javascript object>"
      ]
     },
     "metadata": {},
     "output_type": "display_data"
    }
   ],
   "source": [
    "df.loc[df[\"label\"] == 0, \"country\"].value_counts()"
   ]
  },
  {
   "cell_type": "markdown",
   "metadata": {},
   "source": [
    "## MCA"
   ]
  },
  {
   "cell_type": "code",
   "execution_count": 72,
   "metadata": {},
   "outputs": [
    {
     "data": {
      "application/javascript": [
       "\n",
       "            setTimeout(function() {\n",
       "                var nbb_cell_id = 72;\n",
       "                var nbb_unformatted_code = \"objs = df.select_dtypes(\\\"O\\\")\\nobjs = objs.drop(columns=[\\\"name\\\", \\\"bib\\\", 'city'])\\n\\nsample = objs.sample(frac=0.5, random_state=42)\";\n",
       "                var nbb_formatted_code = \"objs = df.select_dtypes(\\\"O\\\")\\nobjs = objs.drop(columns=[\\\"name\\\", \\\"bib\\\", \\\"city\\\"])\\n\\nsample = objs.sample(frac=0.5, random_state=42)\";\n",
       "                var nbb_cells = Jupyter.notebook.get_cells();\n",
       "                for (var i = 0; i < nbb_cells.length; ++i) {\n",
       "                    if (nbb_cells[i].input_prompt_number == nbb_cell_id) {\n",
       "                        if (nbb_cells[i].get_text() == nbb_unformatted_code) {\n",
       "                             nbb_cells[i].set_text(nbb_formatted_code);\n",
       "                        }\n",
       "                        break;\n",
       "                    }\n",
       "                }\n",
       "            }, 500);\n",
       "            "
      ],
      "text/plain": [
       "<IPython.core.display.Javascript object>"
      ]
     },
     "metadata": {},
     "output_type": "display_data"
    }
   ],
   "source": [
    "objs = df.select_dtypes(\"O\")\n",
    "objs = objs.drop(columns=[\"name\", \"bib\", 'city'])\n",
    "\n",
    "sample = objs.sample(frac=0.5, random_state=42)\n"
   ]
  },
  {
   "cell_type": "code",
   "execution_count": 73,
   "metadata": {},
   "outputs": [
    {
     "data": {
      "text/plain": [
       "MCA(benzecri=False, check_input=True, copy=True, engine='auto', n_components=2,\n",
       "    n_iter=10, random_state=None)"
      ]
     },
     "execution_count": 73,
     "metadata": {},
     "output_type": "execute_result"
    },
    {
     "data": {
      "application/javascript": [
       "\n",
       "            setTimeout(function() {\n",
       "                var nbb_cell_id = 73;\n",
       "                var nbb_unformatted_code = \"mca = MCA()\\nmca.fit(sample)\";\n",
       "                var nbb_formatted_code = \"mca = MCA()\\nmca.fit(sample)\";\n",
       "                var nbb_cells = Jupyter.notebook.get_cells();\n",
       "                for (var i = 0; i < nbb_cells.length; ++i) {\n",
       "                    if (nbb_cells[i].input_prompt_number == nbb_cell_id) {\n",
       "                        if (nbb_cells[i].get_text() == nbb_unformatted_code) {\n",
       "                             nbb_cells[i].set_text(nbb_formatted_code);\n",
       "                        }\n",
       "                        break;\n",
       "                    }\n",
       "                }\n",
       "            }, 500);\n",
       "            "
      ],
      "text/plain": [
       "<IPython.core.display.Javascript object>"
      ]
     },
     "metadata": {},
     "output_type": "display_data"
    }
   ],
   "source": [
    "mca = MCA()\n",
    "mca.fit(sample)"
   ]
  },
  {
   "cell_type": "code",
   "execution_count": 74,
   "metadata": {},
   "outputs": [
    {
     "data": {
      "text/plain": [
       "<matplotlib.axes._subplots.AxesSubplot at 0x1c2aef31948>"
      ]
     },
     "execution_count": 74,
     "metadata": {},
     "output_type": "execute_result"
    },
    {
     "data": {
      "image/png": "[encoded data removed]",
      "text/plain": [
       "<Figure size 432x432 with 1 Axes>"
      ]
     },
     "metadata": {
      "needs_background": "light"
     },
     "output_type": "display_data"
    },
    {
     "data": {
      "application/javascript": [
       "\n",
       "            setTimeout(function() {\n",
       "                var nbb_cell_id = 74;\n",
       "                var nbb_unformatted_code = \"mca.plot_coordinates(sample, show_column_labels=True)\";\n",
       "                var nbb_formatted_code = \"mca.plot_coordinates(sample, show_column_labels=True)\";\n",
       "                var nbb_cells = Jupyter.notebook.get_cells();\n",
       "                for (var i = 0; i < nbb_cells.length; ++i) {\n",
       "                    if (nbb_cells[i].input_prompt_number == nbb_cell_id) {\n",
       "                        if (nbb_cells[i].get_text() == nbb_unformatted_code) {\n",
       "                             nbb_cells[i].set_text(nbb_formatted_code);\n",
       "                        }\n",
       "                        break;\n",
       "                    }\n",
       "                }\n",
       "            }, 500);\n",
       "            "
      ],
      "text/plain": [
       "<IPython.core.display.Javascript object>"
      ]
     },
     "metadata": {},
     "output_type": "display_data"
    }
   ],
   "source": [
    "mca.plot_coordinates(sample, show_column_labels=True)"
   ]
  },
  {
   "cell_type": "code",
   "execution_count": null,
   "metadata": {},
   "outputs": [],
   "source": []
  }
 ],
 "metadata": {
  "kernelspec": {
   "display_name": "Python 3",
   "language": "python",
   "name": "python3"
  },
  "language_info": {
   "codemirror_mode": {
    "name": "ipython",
    "version": 3
   },
   "file_extension": ".py",
   "mimetype": "text/x-python",
   "name": "python",
   "nbconvert_exporter": "python",
   "pygments_lexer": "ipython3",
   "version": "3.7.6"
  }
 },
 "nbformat": 4,
 "nbformat_minor": 2
}
