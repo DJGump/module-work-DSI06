{
 "cells": [
  {
   "cell_type": "code",
   "execution_count": 1,
   "metadata": {},
   "outputs": [
    {
     "data": {
      "application/javascript": [
       "\n",
       "            setTimeout(function() {\n",
       "                var nbb_cell_id = 1;\n",
       "                var nbb_unformatted_code = \"%reload_ext nb_black\";\n",
       "                var nbb_formatted_code = \"%reload_ext nb_black\";\n",
       "                var nbb_cells = Jupyter.notebook.get_cells();\n",
       "                for (var i = 0; i < nbb_cells.length; ++i) {\n",
       "                    if (nbb_cells[i].input_prompt_number == nbb_cell_id) {\n",
       "                        if (nbb_cells[i].get_text() == nbb_unformatted_code) {\n",
       "                             nbb_cells[i].set_text(nbb_formatted_code);\n",
       "                        }\n",
       "                        break;\n",
       "                    }\n",
       "                }\n",
       "            }, 500);\n",
       "            "
      ],
      "text/plain": [
       "<IPython.core.display.Javascript object>"
      ]
     },
     "metadata": {},
     "output_type": "display_data"
    }
   ],
   "source": [
    "%reload_ext nb_black"
   ]
  },
  {
   "cell_type": "markdown",
   "metadata": {
    "colab_type": "text",
    "id": "6GTbCtztSUAt"
   },
   "source": [
    "# Correspondance Analysis"
   ]
  },
  {
   "cell_type": "markdown",
   "metadata": {
    "colab_type": "text",
    "id": "o53rj0TXoGmS"
   },
   "source": [
    "Resources:\n",
    "\n",
    "* Correspondance Analysis\n",
    "  * [Very comprehensive & good overview of interpretations](https://www.mathematica-journal.com/2010/09/20/an-introduction-to-correspondence-analysis/)\n",
    "  * [Less comprehensive & more to the point](https://www.displayr.com/how-correspondence-analysis-works/)\n",
    "  * [Fully devoted to interpreting the output plot](https://www.displayr.com/interpret-correspondence-analysis-plots-probably-isnt-way-think/)\n",
    "\n",
    "* Multiple Correspondance Analysis\n",
    "  * [Compare and contrast CA vs MCA](https://www.displayr.com/correspondence-analysis-versus-multiple-correspondence-analysis-use/)"
   ]
  },
  {
   "cell_type": "code",
   "execution_count": 2,
   "metadata": {
    "colab": {},
    "colab_type": "code",
    "id": "Peckotk2elJp"
   },
   "outputs": [
    {
     "data": {
      "application/javascript": [
       "\n",
       "            setTimeout(function() {\n",
       "                var nbb_cell_id = 2;\n",
       "                var nbb_unformatted_code = \"import itertools\\n\\nimport pandas as pd\\nimport numpy as np\\n\\nfrom sklearn.preprocessing import StandardScaler\\nfrom sklearn.decomposition import PCA\\nfrom sklearn.linear_model import LogisticRegression\\n\\nfrom scipy.spatial.distance import pdist, squareform\\n\\nimport seaborn as sns\\nimport matplotlib.pyplot as plt\\n\\n%matplotlib inline\";\n",
       "                var nbb_formatted_code = \"import itertools\\n\\nimport pandas as pd\\nimport numpy as np\\n\\nfrom sklearn.preprocessing import StandardScaler\\nfrom sklearn.decomposition import PCA\\nfrom sklearn.linear_model import LogisticRegression\\n\\nfrom scipy.spatial.distance import pdist, squareform\\n\\nimport seaborn as sns\\nimport matplotlib.pyplot as plt\\n\\n%matplotlib inline\";\n",
       "                var nbb_cells = Jupyter.notebook.get_cells();\n",
       "                for (var i = 0; i < nbb_cells.length; ++i) {\n",
       "                    if (nbb_cells[i].input_prompt_number == nbb_cell_id) {\n",
       "                        if (nbb_cells[i].get_text() == nbb_unformatted_code) {\n",
       "                             nbb_cells[i].set_text(nbb_formatted_code);\n",
       "                        }\n",
       "                        break;\n",
       "                    }\n",
       "                }\n",
       "            }, 500);\n",
       "            "
      ],
      "text/plain": [
       "<IPython.core.display.Javascript object>"
      ]
     },
     "metadata": {},
     "output_type": "display_data"
    }
   ],
   "source": [
    "import itertools\n",
    "\n",
    "import pandas as pd\n",
    "import numpy as np\n",
    "\n",
    "from sklearn.preprocessing import StandardScaler\n",
    "from sklearn.decomposition import PCA\n",
    "from sklearn.linear_model import LogisticRegression\n",
    "\n",
    "from scipy.spatial.distance import pdist, squareform\n",
    "\n",
    "import seaborn as sns\n",
    "import matplotlib.pyplot as plt\n",
    "\n",
    "%matplotlib inline"
   ]
  },
  {
   "cell_type": "code",
   "execution_count": 3,
   "metadata": {
    "colab": {},
    "colab_type": "code",
    "id": "4qGSG6pJa3Ii"
   },
   "outputs": [
    {
     "data": {
      "application/javascript": [
       "\n",
       "            setTimeout(function() {\n",
       "                var nbb_cell_id = 3;\n",
       "                var nbb_unformatted_code = \"# try to import prince package, pip install if not found\\ntry:\\n    import prince\\nexcept ModuleNotFoundError:\\n    !pip install prince\\n    import prince\";\n",
       "                var nbb_formatted_code = \"# try to import prince package, pip install if not found\\ntry:\\n    import prince\\nexcept ModuleNotFoundError:\\n    !pip install prince\\n    import prince\";\n",
       "                var nbb_cells = Jupyter.notebook.get_cells();\n",
       "                for (var i = 0; i < nbb_cells.length; ++i) {\n",
       "                    if (nbb_cells[i].input_prompt_number == nbb_cell_id) {\n",
       "                        if (nbb_cells[i].get_text() == nbb_unformatted_code) {\n",
       "                             nbb_cells[i].set_text(nbb_formatted_code);\n",
       "                        }\n",
       "                        break;\n",
       "                    }\n",
       "                }\n",
       "            }, 500);\n",
       "            "
      ],
      "text/plain": [
       "<IPython.core.display.Javascript object>"
      ]
     },
     "metadata": {},
     "output_type": "display_data"
    }
   ],
   "source": [
    "# try to import prince package, pip install if not found\n",
    "try:\n",
    "    import prince\n",
    "except ModuleNotFoundError:\n",
    "    !pip install prince\n",
    "    import prince"
   ]
  },
  {
   "cell_type": "code",
   "execution_count": 4,
   "metadata": {},
   "outputs": [
    {
     "data": {
      "application/javascript": [
       "\n",
       "            setTimeout(function() {\n",
       "                var nbb_cell_id = 4;\n",
       "                var nbb_unformatted_code = \"def tall_dist(df, metric=\\\"euclidean\\\"):\\n    \\\"\\\"\\\"A tall/less redundant view of the distance matrix\\\"\\\"\\\"\\n    dists = pdist(df, metric)\\n    # index choose 2 generator\\n    combns = itertools.combinations(df.index, 2)\\n    rows = []\\n    for d, (a, b) in zip(dists, combns):\\n        row = {\\\"a\\\": a, \\\"b\\\": b, \\\"dist\\\": d}\\n        rows.append(row)\\n\\n    return pd.DataFrame(rows)\";\n",
       "                var nbb_formatted_code = \"def tall_dist(df, metric=\\\"euclidean\\\"):\\n    \\\"\\\"\\\"A tall/less redundant view of the distance matrix\\\"\\\"\\\"\\n    dists = pdist(df, metric)\\n    # index choose 2 generator\\n    combns = itertools.combinations(df.index, 2)\\n    rows = []\\n    for d, (a, b) in zip(dists, combns):\\n        row = {\\\"a\\\": a, \\\"b\\\": b, \\\"dist\\\": d}\\n        rows.append(row)\\n\\n    return pd.DataFrame(rows)\";\n",
       "                var nbb_cells = Jupyter.notebook.get_cells();\n",
       "                for (var i = 0; i < nbb_cells.length; ++i) {\n",
       "                    if (nbb_cells[i].input_prompt_number == nbb_cell_id) {\n",
       "                        if (nbb_cells[i].get_text() == nbb_unformatted_code) {\n",
       "                             nbb_cells[i].set_text(nbb_formatted_code);\n",
       "                        }\n",
       "                        break;\n",
       "                    }\n",
       "                }\n",
       "            }, 500);\n",
       "            "
      ],
      "text/plain": [
       "<IPython.core.display.Javascript object>"
      ]
     },
     "metadata": {},
     "output_type": "display_data"
    }
   ],
   "source": [
    "def tall_dist(df, metric=\"euclidean\"):\n",
    "    \"\"\"A tall/less redundant view of the distance matrix\"\"\"\n",
    "    dists = pdist(df, metric)\n",
    "    # index choose 2 generator\n",
    "    combns = itertools.combinations(df.index, 2)\n",
    "    rows = []\n",
    "    for d, (a, b) in zip(dists, combns):\n",
    "        row = {\"a\": a, \"b\": b, \"dist\": d}\n",
    "        rows.append(row)\n",
    "\n",
    "    return pd.DataFrame(rows)"
   ]
  },
  {
   "cell_type": "code",
   "execution_count": 5,
   "metadata": {},
   "outputs": [
    {
     "name": "stdout",
     "output_type": "stream",
     "text": [
      "square distance matrix:\n"
     ]
    },
    {
     "data": {
      "text/html": [
       "<div>\n",
       "<style scoped>\n",
       "    .dataframe tbody tr th:only-of-type {\n",
       "        vertical-align: middle;\n",
       "    }\n",
       "\n",
       "    .dataframe tbody tr th {\n",
       "        vertical-align: top;\n",
       "    }\n",
       "\n",
       "    .dataframe thead th {\n",
       "        text-align: right;\n",
       "    }\n",
       "</style>\n",
       "<table border=\"1\" class=\"dataframe\">\n",
       "  <thead>\n",
       "    <tr style=\"text-align: right;\">\n",
       "      <th></th>\n",
       "      <th>0</th>\n",
       "      <th>1</th>\n",
       "    </tr>\n",
       "  </thead>\n",
       "  <tbody>\n",
       "    <tr>\n",
       "      <th>0</th>\n",
       "      <td>0.0</td>\n",
       "      <td>5.0</td>\n",
       "    </tr>\n",
       "    <tr>\n",
       "      <th>1</th>\n",
       "      <td>5.0</td>\n",
       "      <td>0.0</td>\n",
       "    </tr>\n",
       "  </tbody>\n",
       "</table>\n",
       "</div>"
      ],
      "text/plain": [
       "     0    1\n",
       "0  0.0  5.0\n",
       "1  5.0  0.0"
      ]
     },
     "metadata": {},
     "output_type": "display_data"
    },
    {
     "name": "stdout",
     "output_type": "stream",
     "text": [
      "\n",
      "A taller/less redundant view of the same square matrix:\n",
      "(diagonal is not here because we assume `dist(a, a)` = 0)\n"
     ]
    },
    {
     "data": {
      "text/html": [
       "<div>\n",
       "<style scoped>\n",
       "    .dataframe tbody tr th:only-of-type {\n",
       "        vertical-align: middle;\n",
       "    }\n",
       "\n",
       "    .dataframe tbody tr th {\n",
       "        vertical-align: top;\n",
       "    }\n",
       "\n",
       "    .dataframe thead th {\n",
       "        text-align: right;\n",
       "    }\n",
       "</style>\n",
       "<table border=\"1\" class=\"dataframe\">\n",
       "  <thead>\n",
       "    <tr style=\"text-align: right;\">\n",
       "      <th></th>\n",
       "      <th>a</th>\n",
       "      <th>b</th>\n",
       "      <th>dist</th>\n",
       "    </tr>\n",
       "  </thead>\n",
       "  <tbody>\n",
       "    <tr>\n",
       "      <th>0</th>\n",
       "      <td>0</td>\n",
       "      <td>1</td>\n",
       "      <td>5.0</td>\n",
       "    </tr>\n",
       "  </tbody>\n",
       "</table>\n",
       "</div>"
      ],
      "text/plain": [
       "   a  b  dist\n",
       "0  0  1   5.0"
      ]
     },
     "metadata": {},
     "output_type": "display_data"
    },
    {
     "data": {
      "application/javascript": [
       "\n",
       "            setTimeout(function() {\n",
       "                var nbb_cell_id = 5;\n",
       "                var nbb_unformatted_code = \"# example:\\ndf = pd.DataFrame({\\\"x\\\": [0, 3], \\\"y\\\": [0, 4]})\\n\\nprint(\\\"square distance matrix:\\\")\\ndisplay(pd.DataFrame(squareform(pdist(df))))\\n\\nprint(\\n    \\\"\\\\nA taller/less redundant view of the same square matrix:\\\\n\\\"\\n    \\\"(diagonal is not here because we assume `dist(a, a)` = 0)\\\"\\n)\\ndisplay(tall_dist(df))\";\n",
       "                var nbb_formatted_code = \"# example:\\ndf = pd.DataFrame({\\\"x\\\": [0, 3], \\\"y\\\": [0, 4]})\\n\\nprint(\\\"square distance matrix:\\\")\\ndisplay(pd.DataFrame(squareform(pdist(df))))\\n\\nprint(\\n    \\\"\\\\nA taller/less redundant view of the same square matrix:\\\\n\\\"\\n    \\\"(diagonal is not here because we assume `dist(a, a)` = 0)\\\"\\n)\\ndisplay(tall_dist(df))\";\n",
       "                var nbb_cells = Jupyter.notebook.get_cells();\n",
       "                for (var i = 0; i < nbb_cells.length; ++i) {\n",
       "                    if (nbb_cells[i].input_prompt_number == nbb_cell_id) {\n",
       "                        if (nbb_cells[i].get_text() == nbb_unformatted_code) {\n",
       "                             nbb_cells[i].set_text(nbb_formatted_code);\n",
       "                        }\n",
       "                        break;\n",
       "                    }\n",
       "                }\n",
       "            }, 500);\n",
       "            "
      ],
      "text/plain": [
       "<IPython.core.display.Javascript object>"
      ]
     },
     "metadata": {},
     "output_type": "display_data"
    }
   ],
   "source": [
    "# example:\n",
    "df = pd.DataFrame({\"x\": [0, 3], \"y\": [0, 4]})\n",
    "\n",
    "print(\"square distance matrix:\")\n",
    "display(pd.DataFrame(squareform(pdist(df))))\n",
    "\n",
    "print(\n",
    "    \"\\nA taller/less redundant view of the same square matrix:\\n\"\n",
    "    \"(diagonal is not here because we assume `dist(a, a)` = 0)\"\n",
    ")\n",
    "display(tall_dist(df))"
   ]
  },
  {
   "cell_type": "markdown",
   "metadata": {
    "colab_type": "text",
    "id": "jas0DkYo_bZT"
   },
   "source": [
    "#### Read in Data"
   ]
  },
  {
   "cell_type": "code",
   "execution_count": 6,
   "metadata": {
    "colab": {},
    "colab_type": "code",
    "id": "9ecoNN4_durm"
   },
   "outputs": [
    {
     "data": {
      "application/javascript": [
       "\n",
       "            setTimeout(function() {\n",
       "                var nbb_cell_id = 6;\n",
       "                var nbb_unformatted_code = \"# fmt: off\\nauthors = [\\\"Charles Darwin\\\", \\\"Rene Descartes\\\",\\n           \\\"Thomas Hobbes\\\", \\\"Mary Shelley\\\", \\n           \\\"Mark Twain\\\"]\\n\\nchars = [\\\"B\\\", \\\"C\\\", \\\"D\\\", \\\"F\\\", \\n         \\\"G\\\", \\\"H\\\", \\\"I\\\", \\\"L\\\", \\n         \\\"M\\\", \\\"N\\\", \\\"P\\\", \\\"R\\\", \\n         \\\"S\\\", \\\"U\\\", \\\"W\\\", \\\"Y\\\"]\\n\\nlong_names = [\\\"Charles Darwin: 1\\\", \\\"Charles Darwin: 2\\\", \\\"Charles Darwin: 3\\\",\\n              \\\"Rene Descartes: 1\\\", \\\"Rene Descartes: 2\\\", \\\"Rene Descartes: 3\\\",\\n              \\\"Thomas Hobbes: 1\\\", \\\"Thomas Hobbes: 2\\\", \\\"Thomas Hobbes: 3\\\", \\n              \\\"Mary Shelley: 1\\\", \\\"Mary Shelley: 2\\\", \\\"Mary Shelley: 3\\\",\\n              \\\"Mark Twain: 1\\\", \\\"Mark Twain: 2\\\", \\\"Mark Twain: 3\\\"]\\n\\nshort_names = [\\\"CD1\\\", \\\"CD2\\\", \\\"CD3\\\",\\n               \\\"RD1\\\", \\\"RD2\\\", \\\"RD3\\\",\\n               \\\"TB1\\\", \\\"TB2\\\", \\\"TB3\\\",\\n               \\\"MS1\\\", \\\"MS2\\\", \\\"MS3\\\",\\n               \\\"MT1\\\", \\\"MT2\\\", \\\"MT3\\\"]\\n\\nsample_crosstab = [[34, 37, 44, 27, 19, 39, 74, 44, 27, 61, 12, 65, 69,22, 14, 21],\\n                   [18, 33, 47, 24, 14, 38, 66, 41, 36,72, 15, 62, 63, 31, 12, 18],\\n                   [32, 43, 36, 12, 21, 51, 75, 33, 23, 60, 24, 68, 85,18, 13, 14],\\n                   [13, 31, 55, 29, 15, 62, 74, 43, 28,73, 8, 59, 54, 32, 19, 20],\\n                   [8, 28, 34, 24, 17, 68, 75, 34, 25, 70, 16, 56, 72,31, 14, 11], \\n                   [9, 34, 43, 25, 18, 68, 84, 25, 32, 76,14, 69, 64, 27, 11, 18],\\n                   [15, 20, 28, 18, 19, 65, 82, 34, 29, 89, 11, 47, 74,18, 22, 17], \\n                   [18, 14, 40, 25, 21, 60, 70, 15, 37,80, 15, 65, 68, 21, 25, 9],\\n                   [19, 18, 41, 26, 19, 58, 64, 18, 38, 78, 15, 65, 72,20, 20, 11], \\n                   [13, 29, 49, 31, 16, 61, 73, 36, 29,69, 13, 63, 58, 18, 20, 25],\\n                   [17, 34, 43, 29, 14, 62, 64, 26, 26, 71, 26, 78, 64, 21, 18, 12],\\n                   [13, 22, 43, 16, 11, 70, 68, 46, 35,57, 30, 71, 57, 19, 22, 20],\\n                   [16, 18, 56, 13, 27, 67, 61, 43, 20, 63, 14, 43, 67,34, 41, 23], \\n                   [15, 21, 66, 21, 19, 50, 62, 50, 24, 68, 14, 40, 58, 31, 36, 26],\\n                   [19, 17, 70, 12, 28, 53, 72, 39, 22, 71, 11, 40, 67,25, 41, 17]]\\n# fmt: on\\ncrosstab = pd.DataFrame(sample_crosstab, columns=chars, index=long_names)\\n\\ncrosstab.index.name = \\\"Author Sample\\\"\\ncrosstab.columns.name = \\\"Character\\\"\";\n",
       "                var nbb_formatted_code = \"# fmt: off\\nauthors = [\\\"Charles Darwin\\\", \\\"Rene Descartes\\\",\\n           \\\"Thomas Hobbes\\\", \\\"Mary Shelley\\\", \\n           \\\"Mark Twain\\\"]\\n\\nchars = [\\\"B\\\", \\\"C\\\", \\\"D\\\", \\\"F\\\", \\n         \\\"G\\\", \\\"H\\\", \\\"I\\\", \\\"L\\\", \\n         \\\"M\\\", \\\"N\\\", \\\"P\\\", \\\"R\\\", \\n         \\\"S\\\", \\\"U\\\", \\\"W\\\", \\\"Y\\\"]\\n\\nlong_names = [\\\"Charles Darwin: 1\\\", \\\"Charles Darwin: 2\\\", \\\"Charles Darwin: 3\\\",\\n              \\\"Rene Descartes: 1\\\", \\\"Rene Descartes: 2\\\", \\\"Rene Descartes: 3\\\",\\n              \\\"Thomas Hobbes: 1\\\", \\\"Thomas Hobbes: 2\\\", \\\"Thomas Hobbes: 3\\\", \\n              \\\"Mary Shelley: 1\\\", \\\"Mary Shelley: 2\\\", \\\"Mary Shelley: 3\\\",\\n              \\\"Mark Twain: 1\\\", \\\"Mark Twain: 2\\\", \\\"Mark Twain: 3\\\"]\\n\\nshort_names = [\\\"CD1\\\", \\\"CD2\\\", \\\"CD3\\\",\\n               \\\"RD1\\\", \\\"RD2\\\", \\\"RD3\\\",\\n               \\\"TB1\\\", \\\"TB2\\\", \\\"TB3\\\",\\n               \\\"MS1\\\", \\\"MS2\\\", \\\"MS3\\\",\\n               \\\"MT1\\\", \\\"MT2\\\", \\\"MT3\\\"]\\n\\nsample_crosstab = [[34, 37, 44, 27, 19, 39, 74, 44, 27, 61, 12, 65, 69,22, 14, 21],\\n                   [18, 33, 47, 24, 14, 38, 66, 41, 36,72, 15, 62, 63, 31, 12, 18],\\n                   [32, 43, 36, 12, 21, 51, 75, 33, 23, 60, 24, 68, 85,18, 13, 14],\\n                   [13, 31, 55, 29, 15, 62, 74, 43, 28,73, 8, 59, 54, 32, 19, 20],\\n                   [8, 28, 34, 24, 17, 68, 75, 34, 25, 70, 16, 56, 72,31, 14, 11], \\n                   [9, 34, 43, 25, 18, 68, 84, 25, 32, 76,14, 69, 64, 27, 11, 18],\\n                   [15, 20, 28, 18, 19, 65, 82, 34, 29, 89, 11, 47, 74,18, 22, 17], \\n                   [18, 14, 40, 25, 21, 60, 70, 15, 37,80, 15, 65, 68, 21, 25, 9],\\n                   [19, 18, 41, 26, 19, 58, 64, 18, 38, 78, 15, 65, 72,20, 20, 11], \\n                   [13, 29, 49, 31, 16, 61, 73, 36, 29,69, 13, 63, 58, 18, 20, 25],\\n                   [17, 34, 43, 29, 14, 62, 64, 26, 26, 71, 26, 78, 64, 21, 18, 12],\\n                   [13, 22, 43, 16, 11, 70, 68, 46, 35,57, 30, 71, 57, 19, 22, 20],\\n                   [16, 18, 56, 13, 27, 67, 61, 43, 20, 63, 14, 43, 67,34, 41, 23], \\n                   [15, 21, 66, 21, 19, 50, 62, 50, 24, 68, 14, 40, 58, 31, 36, 26],\\n                   [19, 17, 70, 12, 28, 53, 72, 39, 22, 71, 11, 40, 67,25, 41, 17]]\\n# fmt: on\\ncrosstab = pd.DataFrame(sample_crosstab, columns=chars, index=long_names)\\n\\ncrosstab.index.name = \\\"Author Sample\\\"\\ncrosstab.columns.name = \\\"Character\\\"\";\n",
       "                var nbb_cells = Jupyter.notebook.get_cells();\n",
       "                for (var i = 0; i < nbb_cells.length; ++i) {\n",
       "                    if (nbb_cells[i].input_prompt_number == nbb_cell_id) {\n",
       "                        if (nbb_cells[i].get_text() == nbb_unformatted_code) {\n",
       "                             nbb_cells[i].set_text(nbb_formatted_code);\n",
       "                        }\n",
       "                        break;\n",
       "                    }\n",
       "                }\n",
       "            }, 500);\n",
       "            "
      ],
      "text/plain": [
       "<IPython.core.display.Javascript object>"
      ]
     },
     "metadata": {},
     "output_type": "display_data"
    }
   ],
   "source": [
    "# fmt: off\n",
    "authors = [\"Charles Darwin\", \"Rene Descartes\",\n",
    "           \"Thomas Hobbes\", \"Mary Shelley\", \n",
    "           \"Mark Twain\"]\n",
    "\n",
    "chars = [\"B\", \"C\", \"D\", \"F\", \n",
    "         \"G\", \"H\", \"I\", \"L\", \n",
    "         \"M\", \"N\", \"P\", \"R\", \n",
    "         \"S\", \"U\", \"W\", \"Y\"]\n",
    "\n",
    "long_names = [\"Charles Darwin: 1\", \"Charles Darwin: 2\", \"Charles Darwin: 3\",\n",
    "              \"Rene Descartes: 1\", \"Rene Descartes: 2\", \"Rene Descartes: 3\",\n",
    "              \"Thomas Hobbes: 1\", \"Thomas Hobbes: 2\", \"Thomas Hobbes: 3\", \n",
    "              \"Mary Shelley: 1\", \"Mary Shelley: 2\", \"Mary Shelley: 3\",\n",
    "              \"Mark Twain: 1\", \"Mark Twain: 2\", \"Mark Twain: 3\"]\n",
    "\n",
    "short_names = [\"CD1\", \"CD2\", \"CD3\",\n",
    "               \"RD1\", \"RD2\", \"RD3\",\n",
    "               \"TB1\", \"TB2\", \"TB3\",\n",
    "               \"MS1\", \"MS2\", \"MS3\",\n",
    "               \"MT1\", \"MT2\", \"MT3\"]\n",
    "\n",
    "sample_crosstab = [[34, 37, 44, 27, 19, 39, 74, 44, 27, 61, 12, 65, 69,22, 14, 21],\n",
    "                   [18, 33, 47, 24, 14, 38, 66, 41, 36,72, 15, 62, 63, 31, 12, 18],\n",
    "                   [32, 43, 36, 12, 21, 51, 75, 33, 23, 60, 24, 68, 85,18, 13, 14],\n",
    "                   [13, 31, 55, 29, 15, 62, 74, 43, 28,73, 8, 59, 54, 32, 19, 20],\n",
    "                   [8, 28, 34, 24, 17, 68, 75, 34, 25, 70, 16, 56, 72,31, 14, 11], \n",
    "                   [9, 34, 43, 25, 18, 68, 84, 25, 32, 76,14, 69, 64, 27, 11, 18],\n",
    "                   [15, 20, 28, 18, 19, 65, 82, 34, 29, 89, 11, 47, 74,18, 22, 17], \n",
    "                   [18, 14, 40, 25, 21, 60, 70, 15, 37,80, 15, 65, 68, 21, 25, 9],\n",
    "                   [19, 18, 41, 26, 19, 58, 64, 18, 38, 78, 15, 65, 72,20, 20, 11], \n",
    "                   [13, 29, 49, 31, 16, 61, 73, 36, 29,69, 13, 63, 58, 18, 20, 25],\n",
    "                   [17, 34, 43, 29, 14, 62, 64, 26, 26, 71, 26, 78, 64, 21, 18, 12],\n",
    "                   [13, 22, 43, 16, 11, 70, 68, 46, 35,57, 30, 71, 57, 19, 22, 20],\n",
    "                   [16, 18, 56, 13, 27, 67, 61, 43, 20, 63, 14, 43, 67,34, 41, 23], \n",
    "                   [15, 21, 66, 21, 19, 50, 62, 50, 24, 68, 14, 40, 58, 31, 36, 26],\n",
    "                   [19, 17, 70, 12, 28, 53, 72, 39, 22, 71, 11, 40, 67,25, 41, 17]]\n",
    "# fmt: on\n",
    "crosstab = pd.DataFrame(sample_crosstab, columns=chars, index=long_names)\n",
    "\n",
    "crosstab.index.name = \"Author Sample\"\n",
    "crosstab.columns.name = \"Character\""
   ]
  },
  {
   "cell_type": "markdown",
   "metadata": {
    "colab_type": "text",
    "id": "edAB4Mxf_h60"
   },
   "source": [
    "## Our Data"
   ]
  },
  {
   "cell_type": "code",
   "execution_count": 7,
   "metadata": {
    "colab": {
     "base_uri": "https://localhost:8080/",
     "height": 358
    },
    "colab_type": "code",
    "id": "AGBP0jlV_juD",
    "outputId": "4da5901c-80d4-4869-dc18-2fac804e46e8"
   },
   "outputs": [
    {
     "data": {
      "text/html": [
       "<style  type=\"text/css\" >\n",
       "    #T_bccdae12_07e3_11eb_9daa_7085c233535crow0_col0 {\n",
       "            background-color:  #adc1dd;\n",
       "            color:  #000000;\n",
       "        }    #T_bccdae12_07e3_11eb_9daa_7085c233535crow0_col1 {\n",
       "            background-color:  #f0eaf4;\n",
       "            color:  #000000;\n",
       "        }    #T_bccdae12_07e3_11eb_9daa_7085c233535crow0_col2 {\n",
       "            background-color:  #c8cde4;\n",
       "            color:  #000000;\n",
       "        }    #T_bccdae12_07e3_11eb_9daa_7085c233535crow0_col3 {\n",
       "            background-color:  #f4edf6;\n",
       "            color:  #000000;\n",
       "        }    #T_bccdae12_07e3_11eb_9daa_7085c233535crow0_col4 {\n",
       "            background-color:  #fff7fb;\n",
       "            color:  #000000;\n",
       "        }    #T_bccdae12_07e3_11eb_9daa_7085c233535crow0_col5 {\n",
       "            background-color:  #fff7fb;\n",
       "            color:  #000000;\n",
       "        }    #T_bccdae12_07e3_11eb_9daa_7085c233535crow0_col6 {\n",
       "            background-color:  #f7f0f7;\n",
       "            color:  #000000;\n",
       "        }    #T_bccdae12_07e3_11eb_9daa_7085c233535crow0_col7 {\n",
       "            background-color:  #ece7f2;\n",
       "            color:  #000000;\n",
       "        }    #T_bccdae12_07e3_11eb_9daa_7085c233535crow0_col8 {\n",
       "            background-color:  #ede8f3;\n",
       "            color:  #000000;\n",
       "        }    #T_bccdae12_07e3_11eb_9daa_7085c233535crow0_col9 {\n",
       "            background-color:  #fff7fb;\n",
       "            color:  #000000;\n",
       "        }    #T_bccdae12_07e3_11eb_9daa_7085c233535crow0_col10 {\n",
       "            background-color:  #f4edf6;\n",
       "            color:  #000000;\n",
       "        }    #T_bccdae12_07e3_11eb_9daa_7085c233535crow0_col11 {\n",
       "            background-color:  #faf3f9;\n",
       "            color:  #000000;\n",
       "        }    #T_bccdae12_07e3_11eb_9daa_7085c233535crow0_col12 {\n",
       "            background-color:  #f7f0f7;\n",
       "            color:  #000000;\n",
       "        }    #T_bccdae12_07e3_11eb_9daa_7085c233535crow0_col13 {\n",
       "            background-color:  #fdf5fa;\n",
       "            color:  #000000;\n",
       "        }    #T_bccdae12_07e3_11eb_9daa_7085c233535crow0_col14 {\n",
       "            background-color:  #ebe6f2;\n",
       "            color:  #000000;\n",
       "        }    #T_bccdae12_07e3_11eb_9daa_7085c233535crow1_col0 {\n",
       "            background-color:  #9ab8d8;\n",
       "            color:  #000000;\n",
       "        }    #T_bccdae12_07e3_11eb_9daa_7085c233535crow1_col1 {\n",
       "            background-color:  #afc1dd;\n",
       "            color:  #000000;\n",
       "        }    #T_bccdae12_07e3_11eb_9daa_7085c233535crow1_col2 {\n",
       "            background-color:  #93b5d6;\n",
       "            color:  #000000;\n",
       "        }    #T_bccdae12_07e3_11eb_9daa_7085c233535crow1_col3 {\n",
       "            background-color:  #afc1dd;\n",
       "            color:  #000000;\n",
       "        }    #T_bccdae12_07e3_11eb_9daa_7085c233535crow1_col4 {\n",
       "            background-color:  #c0c9e2;\n",
       "            color:  #000000;\n",
       "        }    #T_bccdae12_07e3_11eb_9daa_7085c233535crow1_col5 {\n",
       "            background-color:  #b4c4df;\n",
       "            color:  #000000;\n",
       "        }    #T_bccdae12_07e3_11eb_9daa_7085c233535crow1_col6 {\n",
       "            background-color:  #eee8f3;\n",
       "            color:  #000000;\n",
       "        }    #T_bccdae12_07e3_11eb_9daa_7085c233535crow1_col7 {\n",
       "            background-color:  #f4eef6;\n",
       "            color:  #000000;\n",
       "        }    #T_bccdae12_07e3_11eb_9daa_7085c233535crow1_col8 {\n",
       "            background-color:  #f0eaf4;\n",
       "            color:  #000000;\n",
       "        }    #T_bccdae12_07e3_11eb_9daa_7085c233535crow1_col9 {\n",
       "            background-color:  #cacee5;\n",
       "            color:  #000000;\n",
       "        }    #T_bccdae12_07e3_11eb_9daa_7085c233535crow1_col10 {\n",
       "            background-color:  #b4c4df;\n",
       "            color:  #000000;\n",
       "        }    #T_bccdae12_07e3_11eb_9daa_7085c233535crow1_col11 {\n",
       "            background-color:  #e0dded;\n",
       "            color:  #000000;\n",
       "        }    #T_bccdae12_07e3_11eb_9daa_7085c233535crow1_col12 {\n",
       "            background-color:  #f1ebf5;\n",
       "            color:  #000000;\n",
       "        }    #T_bccdae12_07e3_11eb_9daa_7085c233535crow1_col13 {\n",
       "            background-color:  #ebe6f2;\n",
       "            color:  #000000;\n",
       "        }    #T_bccdae12_07e3_11eb_9daa_7085c233535crow1_col14 {\n",
       "            background-color:  #f0eaf4;\n",
       "            color:  #000000;\n",
       "        }    #T_bccdae12_07e3_11eb_9daa_7085c233535crow2_col0 {\n",
       "            background-color:  #6ba5cd;\n",
       "            color:  #000000;\n",
       "        }    #T_bccdae12_07e3_11eb_9daa_7085c233535crow2_col1 {\n",
       "            background-color:  #4a98c5;\n",
       "            color:  #000000;\n",
       "        }    #T_bccdae12_07e3_11eb_9daa_7085c233535crow2_col2 {\n",
       "            background-color:  #b5c4df;\n",
       "            color:  #000000;\n",
       "        }    #T_bccdae12_07e3_11eb_9daa_7085c233535crow2_col3 {\n",
       "            background-color:  #1379b5;\n",
       "            color:  #f1f1f1;\n",
       "        }    #T_bccdae12_07e3_11eb_9daa_7085c233535crow2_col4 {\n",
       "            background-color:  #a1bbda;\n",
       "            color:  #000000;\n",
       "        }    #T_bccdae12_07e3_11eb_9daa_7085c233535crow2_col5 {\n",
       "            background-color:  #86b0d3;\n",
       "            color:  #000000;\n",
       "        }    #T_bccdae12_07e3_11eb_9daa_7085c233535crow2_col6 {\n",
       "            background-color:  #d8d7e9;\n",
       "            color:  #000000;\n",
       "        }    #T_bccdae12_07e3_11eb_9daa_7085c233535crow2_col7 {\n",
       "            background-color:  #8eb3d5;\n",
       "            color:  #000000;\n",
       "        }    #T_bccdae12_07e3_11eb_9daa_7085c233535crow2_col8 {\n",
       "            background-color:  #89b1d4;\n",
       "            color:  #000000;\n",
       "        }    #T_bccdae12_07e3_11eb_9daa_7085c233535crow2_col9 {\n",
       "            background-color:  #4295c3;\n",
       "            color:  #000000;\n",
       "        }    #T_bccdae12_07e3_11eb_9daa_7085c233535crow2_col10 {\n",
       "            background-color:  #80aed2;\n",
       "            color:  #000000;\n",
       "        }    #T_bccdae12_07e3_11eb_9daa_7085c233535crow2_col11 {\n",
       "            background-color:  #63a2cb;\n",
       "            color:  #000000;\n",
       "        }    #T_bccdae12_07e3_11eb_9daa_7085c233535crow2_col12 {\n",
       "            background-color:  #0568a3;\n",
       "            color:  #f1f1f1;\n",
       "        }    #T_bccdae12_07e3_11eb_9daa_7085c233535crow2_col13 {\n",
       "            background-color:  #034267;\n",
       "            color:  #f1f1f1;\n",
       "        }    #T_bccdae12_07e3_11eb_9daa_7085c233535crow2_col14 {\n",
       "            background-color:  #034165;\n",
       "            color:  #f1f1f1;\n",
       "        }    #T_bccdae12_07e3_11eb_9daa_7085c233535crow3_col0 {\n",
       "            background-color:  #d2d3e7;\n",
       "            color:  #000000;\n",
       "        }    #T_bccdae12_07e3_11eb_9daa_7085c233535crow3_col1 {\n",
       "            background-color:  #dbdaeb;\n",
       "            color:  #000000;\n",
       "        }    #T_bccdae12_07e3_11eb_9daa_7085c233535crow3_col2 {\n",
       "            background-color:  #fff7fb;\n",
       "            color:  #000000;\n",
       "        }    #T_bccdae12_07e3_11eb_9daa_7085c233535crow3_col3 {\n",
       "            background-color:  #b9c6e0;\n",
       "            color:  #000000;\n",
       "        }    #T_bccdae12_07e3_11eb_9daa_7085c233535crow3_col4 {\n",
       "            background-color:  #d2d3e7;\n",
       "            color:  #000000;\n",
       "        }    #T_bccdae12_07e3_11eb_9daa_7085c233535crow3_col5 {\n",
       "            background-color:  #d9d8ea;\n",
       "            color:  #000000;\n",
       "        }    #T_bccdae12_07e3_11eb_9daa_7085c233535crow3_col6 {\n",
       "            background-color:  #f2ecf5;\n",
       "            color:  #000000;\n",
       "        }    #T_bccdae12_07e3_11eb_9daa_7085c233535crow3_col7 {\n",
       "            background-color:  #d6d6e9;\n",
       "            color:  #000000;\n",
       "        }    #T_bccdae12_07e3_11eb_9daa_7085c233535crow3_col8 {\n",
       "            background-color:  #d6d6e9;\n",
       "            color:  #000000;\n",
       "        }    #T_bccdae12_07e3_11eb_9daa_7085c233535crow3_col9 {\n",
       "            background-color:  #c0c9e2;\n",
       "            color:  #000000;\n",
       "        }    #T_bccdae12_07e3_11eb_9daa_7085c233535crow3_col10 {\n",
       "            background-color:  #ced0e6;\n",
       "            color:  #000000;\n",
       "        }    #T_bccdae12_07e3_11eb_9daa_7085c233535crow3_col11 {\n",
       "            background-color:  #f2ecf5;\n",
       "            color:  #000000;\n",
       "        }    #T_bccdae12_07e3_11eb_9daa_7085c233535crow3_col12 {\n",
       "            background-color:  #fff7fb;\n",
       "            color:  #000000;\n",
       "        }    #T_bccdae12_07e3_11eb_9daa_7085c233535crow3_col13 {\n",
       "            background-color:  #ebe6f2;\n",
       "            color:  #000000;\n",
       "        }    #T_bccdae12_07e3_11eb_9daa_7085c233535crow3_col14 {\n",
       "            background-color:  #fdf5fa;\n",
       "            color:  #000000;\n",
       "        }    #T_bccdae12_07e3_11eb_9daa_7085c233535crow4_col0 {\n",
       "            background-color:  #eee9f3;\n",
       "            color:  #000000;\n",
       "        }    #T_bccdae12_07e3_11eb_9daa_7085c233535crow4_col1 {\n",
       "            background-color:  #faf3f9;\n",
       "            color:  #000000;\n",
       "        }    #T_bccdae12_07e3_11eb_9daa_7085c233535crow4_col2 {\n",
       "            background-color:  #ede7f2;\n",
       "            color:  #000000;\n",
       "        }    #T_bccdae12_07e3_11eb_9daa_7085c233535crow4_col3 {\n",
       "            background-color:  #efe9f3;\n",
       "            color:  #000000;\n",
       "        }    #T_bccdae12_07e3_11eb_9daa_7085c233535crow4_col4 {\n",
       "            background-color:  #eae6f1;\n",
       "            color:  #000000;\n",
       "        }    #T_bccdae12_07e3_11eb_9daa_7085c233535crow4_col5 {\n",
       "            background-color:  #ede8f3;\n",
       "            color:  #000000;\n",
       "        }    #T_bccdae12_07e3_11eb_9daa_7085c233535crow4_col6 {\n",
       "            background-color:  #f0eaf4;\n",
       "            color:  #000000;\n",
       "        }    #T_bccdae12_07e3_11eb_9daa_7085c233535crow4_col7 {\n",
       "            background-color:  #e2dfee;\n",
       "            color:  #000000;\n",
       "        }    #T_bccdae12_07e3_11eb_9daa_7085c233535crow4_col8 {\n",
       "            background-color:  #ede8f3;\n",
       "            color:  #000000;\n",
       "        }    #T_bccdae12_07e3_11eb_9daa_7085c233535crow4_col9 {\n",
       "            background-color:  #f8f1f8;\n",
       "            color:  #000000;\n",
       "        }    #T_bccdae12_07e3_11eb_9daa_7085c233535crow4_col10 {\n",
       "            background-color:  #fbf3f9;\n",
       "            color:  #000000;\n",
       "        }    #T_bccdae12_07e3_11eb_9daa_7085c233535crow4_col11 {\n",
       "            background-color:  #fff7fb;\n",
       "            color:  #000000;\n",
       "        }    #T_bccdae12_07e3_11eb_9daa_7085c233535crow4_col12 {\n",
       "            background-color:  #cdd0e5;\n",
       "            color:  #000000;\n",
       "        }    #T_bccdae12_07e3_11eb_9daa_7085c233535crow4_col13 {\n",
       "            background-color:  #f1ebf5;\n",
       "            color:  #000000;\n",
       "        }    #T_bccdae12_07e3_11eb_9daa_7085c233535crow4_col14 {\n",
       "            background-color:  #c6cce3;\n",
       "            color:  #000000;\n",
       "        }    #T_bccdae12_07e3_11eb_9daa_7085c233535crow5_col0 {\n",
       "            background-color:  #8eb3d5;\n",
       "            color:  #000000;\n",
       "        }    #T_bccdae12_07e3_11eb_9daa_7085c233535crow5_col1 {\n",
       "            background-color:  #8fb4d6;\n",
       "            color:  #000000;\n",
       "        }    #T_bccdae12_07e3_11eb_9daa_7085c233535crow5_col2 {\n",
       "            background-color:  #63a2cb;\n",
       "            color:  #000000;\n",
       "        }    #T_bccdae12_07e3_11eb_9daa_7085c233535crow5_col3 {\n",
       "            background-color:  #04649d;\n",
       "            color:  #f1f1f1;\n",
       "        }    #T_bccdae12_07e3_11eb_9daa_7085c233535crow5_col4 {\n",
       "            background-color:  #045483;\n",
       "            color:  #f1f1f1;\n",
       "        }    #T_bccdae12_07e3_11eb_9daa_7085c233535crow5_col5 {\n",
       "            background-color:  #0569a5;\n",
       "            color:  #f1f1f1;\n",
       "        }    #T_bccdae12_07e3_11eb_9daa_7085c233535crow5_col6 {\n",
       "            background-color:  #1b7eb7;\n",
       "            color:  #000000;\n",
       "        }    #T_bccdae12_07e3_11eb_9daa_7085c233535crow5_col7 {\n",
       "            background-color:  #1278b4;\n",
       "            color:  #f1f1f1;\n",
       "        }    #T_bccdae12_07e3_11eb_9daa_7085c233535crow5_col8 {\n",
       "            background-color:  #187cb6;\n",
       "            color:  #000000;\n",
       "        }    #T_bccdae12_07e3_11eb_9daa_7085c233535crow5_col9 {\n",
       "            background-color:  #0567a2;\n",
       "            color:  #f1f1f1;\n",
       "        }    #T_bccdae12_07e3_11eb_9daa_7085c233535crow5_col10 {\n",
       "            background-color:  #056fae;\n",
       "            color:  #f1f1f1;\n",
       "        }    #T_bccdae12_07e3_11eb_9daa_7085c233535crow5_col11 {\n",
       "            background-color:  #023c5f;\n",
       "            color:  #f1f1f1;\n",
       "        }    #T_bccdae12_07e3_11eb_9daa_7085c233535crow5_col12 {\n",
       "            background-color:  #023858;\n",
       "            color:  #f1f1f1;\n",
       "        }    #T_bccdae12_07e3_11eb_9daa_7085c233535crow5_col13 {\n",
       "            background-color:  #2685bb;\n",
       "            color:  #000000;\n",
       "        }    #T_bccdae12_07e3_11eb_9daa_7085c233535crow5_col14 {\n",
       "            background-color:  #1c7fb8;\n",
       "            color:  #000000;\n",
       "        }    #T_bccdae12_07e3_11eb_9daa_7085c233535crow6_col0 {\n",
       "            background-color:  #023858;\n",
       "            color:  #f1f1f1;\n",
       "        }    #T_bccdae12_07e3_11eb_9daa_7085c233535crow6_col1 {\n",
       "            background-color:  #045382;\n",
       "            color:  #f1f1f1;\n",
       "        }    #T_bccdae12_07e3_11eb_9daa_7085c233535crow6_col2 {\n",
       "            background-color:  #045c90;\n",
       "            color:  #f1f1f1;\n",
       "        }    #T_bccdae12_07e3_11eb_9daa_7085c233535crow6_col3 {\n",
       "            background-color:  #023858;\n",
       "            color:  #f1f1f1;\n",
       "        }    #T_bccdae12_07e3_11eb_9daa_7085c233535crow6_col4 {\n",
       "            background-color:  #023858;\n",
       "            color:  #f1f1f1;\n",
       "        }    #T_bccdae12_07e3_11eb_9daa_7085c233535crow6_col5 {\n",
       "            background-color:  #023858;\n",
       "            color:  #f1f1f1;\n",
       "        }    #T_bccdae12_07e3_11eb_9daa_7085c233535crow6_col6 {\n",
       "            background-color:  #034f7d;\n",
       "            color:  #f1f1f1;\n",
       "        }    #T_bccdae12_07e3_11eb_9daa_7085c233535crow6_col7 {\n",
       "            background-color:  #045d92;\n",
       "            color:  #f1f1f1;\n",
       "        }    #T_bccdae12_07e3_11eb_9daa_7085c233535crow6_col8 {\n",
       "            background-color:  #0569a4;\n",
       "            color:  #f1f1f1;\n",
       "        }    #T_bccdae12_07e3_11eb_9daa_7085c233535crow6_col9 {\n",
       "            background-color:  #023858;\n",
       "            color:  #f1f1f1;\n",
       "        }    #T_bccdae12_07e3_11eb_9daa_7085c233535crow6_col10 {\n",
       "            background-color:  #0569a5;\n",
       "            color:  #f1f1f1;\n",
       "        }    #T_bccdae12_07e3_11eb_9daa_7085c233535crow6_col11 {\n",
       "            background-color:  #03456c;\n",
       "            color:  #f1f1f1;\n",
       "        }    #T_bccdae12_07e3_11eb_9daa_7085c233535crow6_col12 {\n",
       "            background-color:  #045687;\n",
       "            color:  #f1f1f1;\n",
       "        }    #T_bccdae12_07e3_11eb_9daa_7085c233535crow6_col13 {\n",
       "            background-color:  #045687;\n",
       "            color:  #f1f1f1;\n",
       "        }    #T_bccdae12_07e3_11eb_9daa_7085c233535crow6_col14 {\n",
       "            background-color:  #023858;\n",
       "            color:  #f1f1f1;\n",
       "        }    #T_bccdae12_07e3_11eb_9daa_7085c233535crow7_col0 {\n",
       "            background-color:  #6ba5cd;\n",
       "            color:  #000000;\n",
       "        }    #T_bccdae12_07e3_11eb_9daa_7085c233535crow7_col1 {\n",
       "            background-color:  #7bacd1;\n",
       "            color:  #000000;\n",
       "        }    #T_bccdae12_07e3_11eb_9daa_7085c233535crow7_col2 {\n",
       "            background-color:  #c4cbe3;\n",
       "            color:  #000000;\n",
       "        }    #T_bccdae12_07e3_11eb_9daa_7085c233535crow7_col3 {\n",
       "            background-color:  #65a3cb;\n",
       "            color:  #000000;\n",
       "        }    #T_bccdae12_07e3_11eb_9daa_7085c233535crow7_col4 {\n",
       "            background-color:  #a1bbda;\n",
       "            color:  #000000;\n",
       "        }    #T_bccdae12_07e3_11eb_9daa_7085c233535crow7_col5 {\n",
       "            background-color:  #d9d8ea;\n",
       "            color:  #000000;\n",
       "        }    #T_bccdae12_07e3_11eb_9daa_7085c233535crow7_col6 {\n",
       "            background-color:  #c1cae2;\n",
       "            color:  #000000;\n",
       "        }    #T_bccdae12_07e3_11eb_9daa_7085c233535crow7_col7 {\n",
       "            background-color:  #f2ecf5;\n",
       "            color:  #000000;\n",
       "        }    #T_bccdae12_07e3_11eb_9daa_7085c233535crow7_col8 {\n",
       "            background-color:  #f0eaf4;\n",
       "            color:  #000000;\n",
       "        }    #T_bccdae12_07e3_11eb_9daa_7085c233535crow7_col9 {\n",
       "            background-color:  #a2bcda;\n",
       "            color:  #000000;\n",
       "        }    #T_bccdae12_07e3_11eb_9daa_7085c233535crow7_col10 {\n",
       "            background-color:  #d9d8ea;\n",
       "            color:  #000000;\n",
       "        }    #T_bccdae12_07e3_11eb_9daa_7085c233535crow7_col11 {\n",
       "            background-color:  #4a98c5;\n",
       "            color:  #000000;\n",
       "        }    #T_bccdae12_07e3_11eb_9daa_7085c233535crow7_col12 {\n",
       "            background-color:  #589ec8;\n",
       "            color:  #000000;\n",
       "        }    #T_bccdae12_07e3_11eb_9daa_7085c233535crow7_col13 {\n",
       "            background-color:  #2685bb;\n",
       "            color:  #000000;\n",
       "        }    #T_bccdae12_07e3_11eb_9daa_7085c233535crow7_col14 {\n",
       "            background-color:  #84b0d3;\n",
       "            color:  #000000;\n",
       "        }    #T_bccdae12_07e3_11eb_9daa_7085c233535crow8_col0 {\n",
       "            background-color:  #d2d3e7;\n",
       "            color:  #000000;\n",
       "        }    #T_bccdae12_07e3_11eb_9daa_7085c233535crow8_col1 {\n",
       "            background-color:  #9cb9d9;\n",
       "            color:  #000000;\n",
       "        }    #T_bccdae12_07e3_11eb_9daa_7085c233535crow8_col2 {\n",
       "            background-color:  #e7e3f0;\n",
       "            color:  #000000;\n",
       "        }    #T_bccdae12_07e3_11eb_9daa_7085c233535crow8_col3 {\n",
       "            background-color:  #bfc9e1;\n",
       "            color:  #000000;\n",
       "        }    #T_bccdae12_07e3_11eb_9daa_7085c233535crow8_col4 {\n",
       "            background-color:  #d0d1e6;\n",
       "            color:  #000000;\n",
       "        }    #T_bccdae12_07e3_11eb_9daa_7085c233535crow8_col5 {\n",
       "            background-color:  #bdc8e1;\n",
       "            color:  #000000;\n",
       "        }    #T_bccdae12_07e3_11eb_9daa_7085c233535crow8_col6 {\n",
       "            background-color:  #d4d4e8;\n",
       "            color:  #000000;\n",
       "        }    #T_bccdae12_07e3_11eb_9daa_7085c233535crow8_col7 {\n",
       "            background-color:  #9fbad9;\n",
       "            color:  #000000;\n",
       "        }    #T_bccdae12_07e3_11eb_9daa_7085c233535crow8_col8 {\n",
       "            background-color:  #9ab8d8;\n",
       "            color:  #000000;\n",
       "        }    #T_bccdae12_07e3_11eb_9daa_7085c233535crow8_col9 {\n",
       "            background-color:  #cacee5;\n",
       "            color:  #000000;\n",
       "        }    #T_bccdae12_07e3_11eb_9daa_7085c233535crow8_col10 {\n",
       "            background-color:  #d9d8ea;\n",
       "            color:  #000000;\n",
       "        }    #T_bccdae12_07e3_11eb_9daa_7085c233535crow8_col11 {\n",
       "            background-color:  #9cb9d9;\n",
       "            color:  #000000;\n",
       "        }    #T_bccdae12_07e3_11eb_9daa_7085c233535crow8_col12 {\n",
       "            background-color:  #ebe6f2;\n",
       "            color:  #000000;\n",
       "        }    #T_bccdae12_07e3_11eb_9daa_7085c233535crow8_col13 {\n",
       "            background-color:  #dfddec;\n",
       "            color:  #000000;\n",
       "        }    #T_bccdae12_07e3_11eb_9daa_7085c233535crow8_col14 {\n",
       "            background-color:  #e0dded;\n",
       "            color:  #000000;\n",
       "        }    #T_bccdae12_07e3_11eb_9daa_7085c233535crow9_col0 {\n",
       "            background-color:  #0569a4;\n",
       "            color:  #f1f1f1;\n",
       "        }    #T_bccdae12_07e3_11eb_9daa_7085c233535crow9_col1 {\n",
       "            background-color:  #023858;\n",
       "            color:  #f1f1f1;\n",
       "        }    #T_bccdae12_07e3_11eb_9daa_7085c233535crow9_col2 {\n",
       "            background-color:  #2987bc;\n",
       "            color:  #000000;\n",
       "        }    #T_bccdae12_07e3_11eb_9daa_7085c233535crow9_col3 {\n",
       "            background-color:  #023b5d;\n",
       "            color:  #f1f1f1;\n",
       "        }    #T_bccdae12_07e3_11eb_9daa_7085c233535crow9_col4 {\n",
       "            background-color:  #034c78;\n",
       "            color:  #f1f1f1;\n",
       "        }    #T_bccdae12_07e3_11eb_9daa_7085c233535crow9_col5 {\n",
       "            background-color:  #045585;\n",
       "            color:  #f1f1f1;\n",
       "        }    #T_bccdae12_07e3_11eb_9daa_7085c233535crow9_col6 {\n",
       "            background-color:  #023858;\n",
       "            color:  #f1f1f1;\n",
       "        }    #T_bccdae12_07e3_11eb_9daa_7085c233535crow9_col7 {\n",
       "            background-color:  #023858;\n",
       "            color:  #f1f1f1;\n",
       "        }    #T_bccdae12_07e3_11eb_9daa_7085c233535crow9_col8 {\n",
       "            background-color:  #023858;\n",
       "            color:  #f1f1f1;\n",
       "        }    #T_bccdae12_07e3_11eb_9daa_7085c233535crow9_col9 {\n",
       "            background-color:  #034a74;\n",
       "            color:  #f1f1f1;\n",
       "        }    #T_bccdae12_07e3_11eb_9daa_7085c233535crow9_col10 {\n",
       "            background-color:  #045585;\n",
       "            color:  #f1f1f1;\n",
       "        }    #T_bccdae12_07e3_11eb_9daa_7085c233535crow9_col11 {\n",
       "            background-color:  #056dab;\n",
       "            color:  #f1f1f1;\n",
       "        }    #T_bccdae12_07e3_11eb_9daa_7085c233535crow9_col12 {\n",
       "            background-color:  #034b76;\n",
       "            color:  #f1f1f1;\n",
       "        }    #T_bccdae12_07e3_11eb_9daa_7085c233535crow9_col13 {\n",
       "            background-color:  #023858;\n",
       "            color:  #f1f1f1;\n",
       "        }    #T_bccdae12_07e3_11eb_9daa_7085c233535crow9_col14 {\n",
       "            background-color:  #023c5f;\n",
       "            color:  #f1f1f1;\n",
       "        }    #T_bccdae12_07e3_11eb_9daa_7085c233535crow10_col0 {\n",
       "            background-color:  #fff7fb;\n",
       "            color:  #000000;\n",
       "        }    #T_bccdae12_07e3_11eb_9daa_7085c233535crow10_col1 {\n",
       "            background-color:  #f8f1f8;\n",
       "            color:  #000000;\n",
       "        }    #T_bccdae12_07e3_11eb_9daa_7085c233535crow10_col2 {\n",
       "            background-color:  #e3e0ee;\n",
       "            color:  #000000;\n",
       "        }    #T_bccdae12_07e3_11eb_9daa_7085c233535crow10_col3 {\n",
       "            background-color:  #fff7fb;\n",
       "            color:  #000000;\n",
       "        }    #T_bccdae12_07e3_11eb_9daa_7085c233535crow10_col4 {\n",
       "            background-color:  #ede8f3;\n",
       "            color:  #000000;\n",
       "        }    #T_bccdae12_07e3_11eb_9daa_7085c233535crow10_col5 {\n",
       "            background-color:  #f5eef6;\n",
       "            color:  #000000;\n",
       "        }    #T_bccdae12_07e3_11eb_9daa_7085c233535crow10_col6 {\n",
       "            background-color:  #fff7fb;\n",
       "            color:  #000000;\n",
       "        }    #T_bccdae12_07e3_11eb_9daa_7085c233535crow10_col7 {\n",
       "            background-color:  #f2ecf5;\n",
       "            color:  #000000;\n",
       "        }    #T_bccdae12_07e3_11eb_9daa_7085c233535crow10_col8 {\n",
       "            background-color:  #f6eff7;\n",
       "            color:  #000000;\n",
       "        }    #T_bccdae12_07e3_11eb_9daa_7085c233535crow10_col9 {\n",
       "            background-color:  #fff7fb;\n",
       "            color:  #000000;\n",
       "        }    #T_bccdae12_07e3_11eb_9daa_7085c233535crow10_col10 {\n",
       "            background-color:  #d9d8ea;\n",
       "            color:  #000000;\n",
       "        }    #T_bccdae12_07e3_11eb_9daa_7085c233535crow10_col11 {\n",
       "            background-color:  #b9c6e0;\n",
       "            color:  #000000;\n",
       "        }    #T_bccdae12_07e3_11eb_9daa_7085c233535crow10_col12 {\n",
       "            background-color:  #fdf5fa;\n",
       "            color:  #000000;\n",
       "        }    #T_bccdae12_07e3_11eb_9daa_7085c233535crow10_col13 {\n",
       "            background-color:  #fff7fb;\n",
       "            color:  #000000;\n",
       "        }    #T_bccdae12_07e3_11eb_9daa_7085c233535crow10_col14 {\n",
       "            background-color:  #fff7fb;\n",
       "            color:  #000000;\n",
       "        }    #T_bccdae12_07e3_11eb_9daa_7085c233535crow11_col0 {\n",
       "            background-color:  #045e93;\n",
       "            color:  #f1f1f1;\n",
       "        }    #T_bccdae12_07e3_11eb_9daa_7085c233535crow11_col1 {\n",
       "            background-color:  #046198;\n",
       "            color:  #f1f1f1;\n",
       "        }    #T_bccdae12_07e3_11eb_9daa_7085c233535crow11_col2 {\n",
       "            background-color:  #056dab;\n",
       "            color:  #f1f1f1;\n",
       "        }    #T_bccdae12_07e3_11eb_9daa_7085c233535crow11_col3 {\n",
       "            background-color:  #056caa;\n",
       "            color:  #f1f1f1;\n",
       "        }    #T_bccdae12_07e3_11eb_9daa_7085c233535crow11_col4 {\n",
       "            background-color:  #1278b4;\n",
       "            color:  #f1f1f1;\n",
       "        }    #T_bccdae12_07e3_11eb_9daa_7085c233535crow11_col5 {\n",
       "            background-color:  #0567a2;\n",
       "            color:  #f1f1f1;\n",
       "        }    #T_bccdae12_07e3_11eb_9daa_7085c233535crow11_col6 {\n",
       "            background-color:  #83afd3;\n",
       "            color:  #000000;\n",
       "        }    #T_bccdae12_07e3_11eb_9daa_7085c233535crow11_col7 {\n",
       "            background-color:  #0569a5;\n",
       "            color:  #f1f1f1;\n",
       "        }    #T_bccdae12_07e3_11eb_9daa_7085c233535crow11_col8 {\n",
       "            background-color:  #0566a0;\n",
       "            color:  #f1f1f1;\n",
       "        }    #T_bccdae12_07e3_11eb_9daa_7085c233535crow11_col9 {\n",
       "            background-color:  #046198;\n",
       "            color:  #f1f1f1;\n",
       "        }    #T_bccdae12_07e3_11eb_9daa_7085c233535crow11_col10 {\n",
       "            background-color:  #023858;\n",
       "            color:  #f1f1f1;\n",
       "        }    #T_bccdae12_07e3_11eb_9daa_7085c233535crow11_col11 {\n",
       "            background-color:  #023858;\n",
       "            color:  #f1f1f1;\n",
       "        }    #T_bccdae12_07e3_11eb_9daa_7085c233535crow11_col12 {\n",
       "            background-color:  #589ec8;\n",
       "            color:  #000000;\n",
       "        }    #T_bccdae12_07e3_11eb_9daa_7085c233535crow11_col13 {\n",
       "            background-color:  #7bacd1;\n",
       "            color:  #000000;\n",
       "        }    #T_bccdae12_07e3_11eb_9daa_7085c233535crow11_col14 {\n",
       "            background-color:  #7eadd1;\n",
       "            color:  #000000;\n",
       "        }    #T_bccdae12_07e3_11eb_9daa_7085c233535crow12_col0 {\n",
       "            background-color:  #034d79;\n",
       "            color:  #f1f1f1;\n",
       "        }    #T_bccdae12_07e3_11eb_9daa_7085c233535crow12_col1 {\n",
       "            background-color:  #045e94;\n",
       "            color:  #f1f1f1;\n",
       "        }    #T_bccdae12_07e3_11eb_9daa_7085c233535crow12_col2 {\n",
       "            background-color:  #023858;\n",
       "            color:  #f1f1f1;\n",
       "        }    #T_bccdae12_07e3_11eb_9daa_7085c233535crow12_col3 {\n",
       "            background-color:  #197db7;\n",
       "            color:  #000000;\n",
       "        }    #T_bccdae12_07e3_11eb_9daa_7085c233535crow12_col4 {\n",
       "            background-color:  #03446a;\n",
       "            color:  #f1f1f1;\n",
       "        }    #T_bccdae12_07e3_11eb_9daa_7085c233535crow12_col5 {\n",
       "            background-color:  #0c74b2;\n",
       "            color:  #f1f1f1;\n",
       "        }    #T_bccdae12_07e3_11eb_9daa_7085c233535crow12_col6 {\n",
       "            background-color:  #0566a0;\n",
       "            color:  #f1f1f1;\n",
       "        }    #T_bccdae12_07e3_11eb_9daa_7085c233535crow12_col7 {\n",
       "            background-color:  #046299;\n",
       "            color:  #f1f1f1;\n",
       "        }    #T_bccdae12_07e3_11eb_9daa_7085c233535crow12_col8 {\n",
       "            background-color:  #034f7d;\n",
       "            color:  #f1f1f1;\n",
       "        }    #T_bccdae12_07e3_11eb_9daa_7085c233535crow12_col9 {\n",
       "            background-color:  #056faf;\n",
       "            color:  #f1f1f1;\n",
       "        }    #T_bccdae12_07e3_11eb_9daa_7085c233535crow12_col10 {\n",
       "            background-color:  #0569a5;\n",
       "            color:  #f1f1f1;\n",
       "        }    #T_bccdae12_07e3_11eb_9daa_7085c233535crow12_col11 {\n",
       "            background-color:  #056dab;\n",
       "            color:  #f1f1f1;\n",
       "        }    #T_bccdae12_07e3_11eb_9daa_7085c233535crow12_col12 {\n",
       "            background-color:  #023858;\n",
       "            color:  #f1f1f1;\n",
       "        }    #T_bccdae12_07e3_11eb_9daa_7085c233535crow12_col13 {\n",
       "            background-color:  #04649e;\n",
       "            color:  #f1f1f1;\n",
       "        }    #T_bccdae12_07e3_11eb_9daa_7085c233535crow12_col14 {\n",
       "            background-color:  #034d79;\n",
       "            color:  #f1f1f1;\n",
       "        }    #T_bccdae12_07e3_11eb_9daa_7085c233535crow13_col0 {\n",
       "            background-color:  #e4e1ef;\n",
       "            color:  #000000;\n",
       "        }    #T_bccdae12_07e3_11eb_9daa_7085c233535crow13_col1 {\n",
       "            background-color:  #b9c6e0;\n",
       "            color:  #000000;\n",
       "        }    #T_bccdae12_07e3_11eb_9daa_7085c233535crow13_col2 {\n",
       "            background-color:  #f2ecf5;\n",
       "            color:  #000000;\n",
       "        }    #T_bccdae12_07e3_11eb_9daa_7085c233535crow13_col3 {\n",
       "            background-color:  #a9bfdc;\n",
       "            color:  #000000;\n",
       "        }    #T_bccdae12_07e3_11eb_9daa_7085c233535crow13_col4 {\n",
       "            background-color:  #b1c2de;\n",
       "            color:  #000000;\n",
       "        }    #T_bccdae12_07e3_11eb_9daa_7085c233535crow13_col5 {\n",
       "            background-color:  #d2d3e7;\n",
       "            color:  #000000;\n",
       "        }    #T_bccdae12_07e3_11eb_9daa_7085c233535crow13_col6 {\n",
       "            background-color:  #f2ecf5;\n",
       "            color:  #000000;\n",
       "        }    #T_bccdae12_07e3_11eb_9daa_7085c233535crow13_col7 {\n",
       "            background-color:  #e2dfee;\n",
       "            color:  #000000;\n",
       "        }    #T_bccdae12_07e3_11eb_9daa_7085c233535crow13_col8 {\n",
       "            background-color:  #eae6f1;\n",
       "            color:  #000000;\n",
       "        }    #T_bccdae12_07e3_11eb_9daa_7085c233535crow13_col9 {\n",
       "            background-color:  #f2ecf5;\n",
       "            color:  #000000;\n",
       "        }    #T_bccdae12_07e3_11eb_9daa_7085c233535crow13_col10 {\n",
       "            background-color:  #eae6f1;\n",
       "            color:  #000000;\n",
       "        }    #T_bccdae12_07e3_11eb_9daa_7085c233535crow13_col11 {\n",
       "            background-color:  #eae6f1;\n",
       "            color:  #000000;\n",
       "        }    #T_bccdae12_07e3_11eb_9daa_7085c233535crow13_col12 {\n",
       "            background-color:  #a1bbda;\n",
       "            color:  #000000;\n",
       "        }    #T_bccdae12_07e3_11eb_9daa_7085c233535crow13_col13 {\n",
       "            background-color:  #bbc7e0;\n",
       "            color:  #000000;\n",
       "        }    #T_bccdae12_07e3_11eb_9daa_7085c233535crow13_col14 {\n",
       "            background-color:  #d5d5e8;\n",
       "            color:  #000000;\n",
       "        }    #T_bccdae12_07e3_11eb_9daa_7085c233535crow14_col0 {\n",
       "            background-color:  #faf3f9;\n",
       "            color:  #000000;\n",
       "        }    #T_bccdae12_07e3_11eb_9daa_7085c233535crow14_col1 {\n",
       "            background-color:  #fff7fb;\n",
       "            color:  #000000;\n",
       "        }    #T_bccdae12_07e3_11eb_9daa_7085c233535crow14_col2 {\n",
       "            background-color:  #fdf5fa;\n",
       "            color:  #000000;\n",
       "        }    #T_bccdae12_07e3_11eb_9daa_7085c233535crow14_col3 {\n",
       "            background-color:  #e3e0ee;\n",
       "            color:  #000000;\n",
       "        }    #T_bccdae12_07e3_11eb_9daa_7085c233535crow14_col4 {\n",
       "            background-color:  #f2ecf5;\n",
       "            color:  #000000;\n",
       "        }    #T_bccdae12_07e3_11eb_9daa_7085c233535crow14_col5 {\n",
       "            background-color:  #fbf4f9;\n",
       "            color:  #000000;\n",
       "        }    #T_bccdae12_07e3_11eb_9daa_7085c233535crow14_col6 {\n",
       "            background-color:  #e8e4f0;\n",
       "            color:  #000000;\n",
       "        }    #T_bccdae12_07e3_11eb_9daa_7085c233535crow14_col7 {\n",
       "            background-color:  #d6d6e9;\n",
       "            color:  #000000;\n",
       "        }    #T_bccdae12_07e3_11eb_9daa_7085c233535crow14_col8 {\n",
       "            background-color:  #eae6f1;\n",
       "            color:  #000000;\n",
       "        }    #T_bccdae12_07e3_11eb_9daa_7085c233535crow14_col9 {\n",
       "            background-color:  #eee8f3;\n",
       "            color:  #000000;\n",
       "        }    #T_bccdae12_07e3_11eb_9daa_7085c233535crow14_col10 {\n",
       "            background-color:  #f1ebf5;\n",
       "            color:  #000000;\n",
       "        }    #T_bccdae12_07e3_11eb_9daa_7085c233535crow14_col11 {\n",
       "            background-color:  #e0dded;\n",
       "            color:  #000000;\n",
       "        }    #T_bccdae12_07e3_11eb_9daa_7085c233535crow14_col12 {\n",
       "            background-color:  #6ba5cd;\n",
       "            color:  #000000;\n",
       "        }    #T_bccdae12_07e3_11eb_9daa_7085c233535crow14_col13 {\n",
       "            background-color:  #99b8d8;\n",
       "            color:  #000000;\n",
       "        }    #T_bccdae12_07e3_11eb_9daa_7085c233535crow14_col14 {\n",
       "            background-color:  #78abd0;\n",
       "            color:  #000000;\n",
       "        }    #T_bccdae12_07e3_11eb_9daa_7085c233535crow15_col0 {\n",
       "            background-color:  #e7e3f0;\n",
       "            color:  #000000;\n",
       "        }    #T_bccdae12_07e3_11eb_9daa_7085c233535crow15_col1 {\n",
       "            background-color:  #f0eaf4;\n",
       "            color:  #000000;\n",
       "        }    #T_bccdae12_07e3_11eb_9daa_7085c233535crow15_col2 {\n",
       "            background-color:  #fbf3f9;\n",
       "            color:  #000000;\n",
       "        }    #T_bccdae12_07e3_11eb_9daa_7085c233535crow15_col3 {\n",
       "            background-color:  #e0dded;\n",
       "            color:  #000000;\n",
       "        }    #T_bccdae12_07e3_11eb_9daa_7085c233535crow15_col4 {\n",
       "            background-color:  #f8f1f8;\n",
       "            color:  #000000;\n",
       "        }    #T_bccdae12_07e3_11eb_9daa_7085c233535crow15_col5 {\n",
       "            background-color:  #ede8f3;\n",
       "            color:  #000000;\n",
       "        }    #T_bccdae12_07e3_11eb_9daa_7085c233535crow15_col6 {\n",
       "            background-color:  #f4edf6;\n",
       "            color:  #000000;\n",
       "        }    #T_bccdae12_07e3_11eb_9daa_7085c233535crow15_col7 {\n",
       "            background-color:  #fff7fb;\n",
       "            color:  #000000;\n",
       "        }    #T_bccdae12_07e3_11eb_9daa_7085c233535crow15_col8 {\n",
       "            background-color:  #fff7fb;\n",
       "            color:  #000000;\n",
       "        }    #T_bccdae12_07e3_11eb_9daa_7085c233535crow15_col9 {\n",
       "            background-color:  #dbdaeb;\n",
       "            color:  #000000;\n",
       "        }    #T_bccdae12_07e3_11eb_9daa_7085c233535crow15_col10 {\n",
       "            background-color:  #fff7fb;\n",
       "            color:  #000000;\n",
       "        }    #T_bccdae12_07e3_11eb_9daa_7085c233535crow15_col11 {\n",
       "            background-color:  #e7e3f0;\n",
       "            color:  #000000;\n",
       "        }    #T_bccdae12_07e3_11eb_9daa_7085c233535crow15_col12 {\n",
       "            background-color:  #dfddec;\n",
       "            color:  #000000;\n",
       "        }    #T_bccdae12_07e3_11eb_9daa_7085c233535crow15_col13 {\n",
       "            background-color:  #d7d6e9;\n",
       "            color:  #000000;\n",
       "        }    #T_bccdae12_07e3_11eb_9daa_7085c233535crow15_col14 {\n",
       "            background-color:  #f0eaf4;\n",
       "            color:  #000000;\n",
       "        }</style><table id=\"T_bccdae12_07e3_11eb_9daa_7085c233535c\" ><thead>    <tr>        <th class=\"index_name level0\" >Author Sample</th>        <th class=\"col_heading level0 col0\" >Charles Darwin: 1</th>        <th class=\"col_heading level0 col1\" >Charles Darwin: 2</th>        <th class=\"col_heading level0 col2\" >Charles Darwin: 3</th>        <th class=\"col_heading level0 col3\" >Rene Descartes: 1</th>        <th class=\"col_heading level0 col4\" >Rene Descartes: 2</th>        <th class=\"col_heading level0 col5\" >Rene Descartes: 3</th>        <th class=\"col_heading level0 col6\" >Thomas Hobbes: 1</th>        <th class=\"col_heading level0 col7\" >Thomas Hobbes: 2</th>        <th class=\"col_heading level0 col8\" >Thomas Hobbes: 3</th>        <th class=\"col_heading level0 col9\" >Mary Shelley: 1</th>        <th class=\"col_heading level0 col10\" >Mary Shelley: 2</th>        <th class=\"col_heading level0 col11\" >Mary Shelley: 3</th>        <th class=\"col_heading level0 col12\" >Mark Twain: 1</th>        <th class=\"col_heading level0 col13\" >Mark Twain: 2</th>        <th class=\"col_heading level0 col14\" >Mark Twain: 3</th>    </tr>    <tr>        <th class=\"index_name level0\" >Character</th>        <th class=\"blank\" ></th>        <th class=\"blank\" ></th>        <th class=\"blank\" ></th>        <th class=\"blank\" ></th>        <th class=\"blank\" ></th>        <th class=\"blank\" ></th>        <th class=\"blank\" ></th>        <th class=\"blank\" ></th>        <th class=\"blank\" ></th>        <th class=\"blank\" ></th>        <th class=\"blank\" ></th>        <th class=\"blank\" ></th>        <th class=\"blank\" ></th>        <th class=\"blank\" ></th>        <th class=\"blank\" ></th>    </tr></thead><tbody>\n",
       "                <tr>\n",
       "                        <th id=\"T_bccdae12_07e3_11eb_9daa_7085c233535clevel0_row0\" class=\"row_heading level0 row0\" >B</th>\n",
       "                        <td id=\"T_bccdae12_07e3_11eb_9daa_7085c233535crow0_col0\" class=\"data row0 col0\" >34</td>\n",
       "                        <td id=\"T_bccdae12_07e3_11eb_9daa_7085c233535crow0_col1\" class=\"data row0 col1\" >18</td>\n",
       "                        <td id=\"T_bccdae12_07e3_11eb_9daa_7085c233535crow0_col2\" class=\"data row0 col2\" >32</td>\n",
       "                        <td id=\"T_bccdae12_07e3_11eb_9daa_7085c233535crow0_col3\" class=\"data row0 col3\" >13</td>\n",
       "                        <td id=\"T_bccdae12_07e3_11eb_9daa_7085c233535crow0_col4\" class=\"data row0 col4\" >8</td>\n",
       "                        <td id=\"T_bccdae12_07e3_11eb_9daa_7085c233535crow0_col5\" class=\"data row0 col5\" >9</td>\n",
       "                        <td id=\"T_bccdae12_07e3_11eb_9daa_7085c233535crow0_col6\" class=\"data row0 col6\" >15</td>\n",
       "                        <td id=\"T_bccdae12_07e3_11eb_9daa_7085c233535crow0_col7\" class=\"data row0 col7\" >18</td>\n",
       "                        <td id=\"T_bccdae12_07e3_11eb_9daa_7085c233535crow0_col8\" class=\"data row0 col8\" >19</td>\n",
       "                        <td id=\"T_bccdae12_07e3_11eb_9daa_7085c233535crow0_col9\" class=\"data row0 col9\" >13</td>\n",
       "                        <td id=\"T_bccdae12_07e3_11eb_9daa_7085c233535crow0_col10\" class=\"data row0 col10\" >17</td>\n",
       "                        <td id=\"T_bccdae12_07e3_11eb_9daa_7085c233535crow0_col11\" class=\"data row0 col11\" >13</td>\n",
       "                        <td id=\"T_bccdae12_07e3_11eb_9daa_7085c233535crow0_col12\" class=\"data row0 col12\" >16</td>\n",
       "                        <td id=\"T_bccdae12_07e3_11eb_9daa_7085c233535crow0_col13\" class=\"data row0 col13\" >15</td>\n",
       "                        <td id=\"T_bccdae12_07e3_11eb_9daa_7085c233535crow0_col14\" class=\"data row0 col14\" >19</td>\n",
       "            </tr>\n",
       "            <tr>\n",
       "                        <th id=\"T_bccdae12_07e3_11eb_9daa_7085c233535clevel0_row1\" class=\"row_heading level0 row1\" >C</th>\n",
       "                        <td id=\"T_bccdae12_07e3_11eb_9daa_7085c233535crow1_col0\" class=\"data row1 col0\" >37</td>\n",
       "                        <td id=\"T_bccdae12_07e3_11eb_9daa_7085c233535crow1_col1\" class=\"data row1 col1\" >33</td>\n",
       "                        <td id=\"T_bccdae12_07e3_11eb_9daa_7085c233535crow1_col2\" class=\"data row1 col2\" >43</td>\n",
       "                        <td id=\"T_bccdae12_07e3_11eb_9daa_7085c233535crow1_col3\" class=\"data row1 col3\" >31</td>\n",
       "                        <td id=\"T_bccdae12_07e3_11eb_9daa_7085c233535crow1_col4\" class=\"data row1 col4\" >28</td>\n",
       "                        <td id=\"T_bccdae12_07e3_11eb_9daa_7085c233535crow1_col5\" class=\"data row1 col5\" >34</td>\n",
       "                        <td id=\"T_bccdae12_07e3_11eb_9daa_7085c233535crow1_col6\" class=\"data row1 col6\" >20</td>\n",
       "                        <td id=\"T_bccdae12_07e3_11eb_9daa_7085c233535crow1_col7\" class=\"data row1 col7\" >14</td>\n",
       "                        <td id=\"T_bccdae12_07e3_11eb_9daa_7085c233535crow1_col8\" class=\"data row1 col8\" >18</td>\n",
       "                        <td id=\"T_bccdae12_07e3_11eb_9daa_7085c233535crow1_col9\" class=\"data row1 col9\" >29</td>\n",
       "                        <td id=\"T_bccdae12_07e3_11eb_9daa_7085c233535crow1_col10\" class=\"data row1 col10\" >34</td>\n",
       "                        <td id=\"T_bccdae12_07e3_11eb_9daa_7085c233535crow1_col11\" class=\"data row1 col11\" >22</td>\n",
       "                        <td id=\"T_bccdae12_07e3_11eb_9daa_7085c233535crow1_col12\" class=\"data row1 col12\" >18</td>\n",
       "                        <td id=\"T_bccdae12_07e3_11eb_9daa_7085c233535crow1_col13\" class=\"data row1 col13\" >21</td>\n",
       "                        <td id=\"T_bccdae12_07e3_11eb_9daa_7085c233535crow1_col14\" class=\"data row1 col14\" >17</td>\n",
       "            </tr>\n",
       "            <tr>\n",
       "                        <th id=\"T_bccdae12_07e3_11eb_9daa_7085c233535clevel0_row2\" class=\"row_heading level0 row2\" >D</th>\n",
       "                        <td id=\"T_bccdae12_07e3_11eb_9daa_7085c233535crow2_col0\" class=\"data row2 col0\" >44</td>\n",
       "                        <td id=\"T_bccdae12_07e3_11eb_9daa_7085c233535crow2_col1\" class=\"data row2 col1\" >47</td>\n",
       "                        <td id=\"T_bccdae12_07e3_11eb_9daa_7085c233535crow2_col2\" class=\"data row2 col2\" >36</td>\n",
       "                        <td id=\"T_bccdae12_07e3_11eb_9daa_7085c233535crow2_col3\" class=\"data row2 col3\" >55</td>\n",
       "                        <td id=\"T_bccdae12_07e3_11eb_9daa_7085c233535crow2_col4\" class=\"data row2 col4\" >34</td>\n",
       "                        <td id=\"T_bccdae12_07e3_11eb_9daa_7085c233535crow2_col5\" class=\"data row2 col5\" >43</td>\n",
       "                        <td id=\"T_bccdae12_07e3_11eb_9daa_7085c233535crow2_col6\" class=\"data row2 col6\" >28</td>\n",
       "                        <td id=\"T_bccdae12_07e3_11eb_9daa_7085c233535crow2_col7\" class=\"data row2 col7\" >40</td>\n",
       "                        <td id=\"T_bccdae12_07e3_11eb_9daa_7085c233535crow2_col8\" class=\"data row2 col8\" >41</td>\n",
       "                        <td id=\"T_bccdae12_07e3_11eb_9daa_7085c233535crow2_col9\" class=\"data row2 col9\" >49</td>\n",
       "                        <td id=\"T_bccdae12_07e3_11eb_9daa_7085c233535crow2_col10\" class=\"data row2 col10\" >43</td>\n",
       "                        <td id=\"T_bccdae12_07e3_11eb_9daa_7085c233535crow2_col11\" class=\"data row2 col11\" >43</td>\n",
       "                        <td id=\"T_bccdae12_07e3_11eb_9daa_7085c233535crow2_col12\" class=\"data row2 col12\" >56</td>\n",
       "                        <td id=\"T_bccdae12_07e3_11eb_9daa_7085c233535crow2_col13\" class=\"data row2 col13\" >66</td>\n",
       "                        <td id=\"T_bccdae12_07e3_11eb_9daa_7085c233535crow2_col14\" class=\"data row2 col14\" >70</td>\n",
       "            </tr>\n",
       "            <tr>\n",
       "                        <th id=\"T_bccdae12_07e3_11eb_9daa_7085c233535clevel0_row3\" class=\"row_heading level0 row3\" >F</th>\n",
       "                        <td id=\"T_bccdae12_07e3_11eb_9daa_7085c233535crow3_col0\" class=\"data row3 col0\" >27</td>\n",
       "                        <td id=\"T_bccdae12_07e3_11eb_9daa_7085c233535crow3_col1\" class=\"data row3 col1\" >24</td>\n",
       "                        <td id=\"T_bccdae12_07e3_11eb_9daa_7085c233535crow3_col2\" class=\"data row3 col2\" >12</td>\n",
       "                        <td id=\"T_bccdae12_07e3_11eb_9daa_7085c233535crow3_col3\" class=\"data row3 col3\" >29</td>\n",
       "                        <td id=\"T_bccdae12_07e3_11eb_9daa_7085c233535crow3_col4\" class=\"data row3 col4\" >24</td>\n",
       "                        <td id=\"T_bccdae12_07e3_11eb_9daa_7085c233535crow3_col5\" class=\"data row3 col5\" >25</td>\n",
       "                        <td id=\"T_bccdae12_07e3_11eb_9daa_7085c233535crow3_col6\" class=\"data row3 col6\" >18</td>\n",
       "                        <td id=\"T_bccdae12_07e3_11eb_9daa_7085c233535crow3_col7\" class=\"data row3 col7\" >25</td>\n",
       "                        <td id=\"T_bccdae12_07e3_11eb_9daa_7085c233535crow3_col8\" class=\"data row3 col8\" >26</td>\n",
       "                        <td id=\"T_bccdae12_07e3_11eb_9daa_7085c233535crow3_col9\" class=\"data row3 col9\" >31</td>\n",
       "                        <td id=\"T_bccdae12_07e3_11eb_9daa_7085c233535crow3_col10\" class=\"data row3 col10\" >29</td>\n",
       "                        <td id=\"T_bccdae12_07e3_11eb_9daa_7085c233535crow3_col11\" class=\"data row3 col11\" >16</td>\n",
       "                        <td id=\"T_bccdae12_07e3_11eb_9daa_7085c233535crow3_col12\" class=\"data row3 col12\" >13</td>\n",
       "                        <td id=\"T_bccdae12_07e3_11eb_9daa_7085c233535crow3_col13\" class=\"data row3 col13\" >21</td>\n",
       "                        <td id=\"T_bccdae12_07e3_11eb_9daa_7085c233535crow3_col14\" class=\"data row3 col14\" >12</td>\n",
       "            </tr>\n",
       "            <tr>\n",
       "                        <th id=\"T_bccdae12_07e3_11eb_9daa_7085c233535clevel0_row4\" class=\"row_heading level0 row4\" >G</th>\n",
       "                        <td id=\"T_bccdae12_07e3_11eb_9daa_7085c233535crow4_col0\" class=\"data row4 col0\" >19</td>\n",
       "                        <td id=\"T_bccdae12_07e3_11eb_9daa_7085c233535crow4_col1\" class=\"data row4 col1\" >14</td>\n",
       "                        <td id=\"T_bccdae12_07e3_11eb_9daa_7085c233535crow4_col2\" class=\"data row4 col2\" >21</td>\n",
       "                        <td id=\"T_bccdae12_07e3_11eb_9daa_7085c233535crow4_col3\" class=\"data row4 col3\" >15</td>\n",
       "                        <td id=\"T_bccdae12_07e3_11eb_9daa_7085c233535crow4_col4\" class=\"data row4 col4\" >17</td>\n",
       "                        <td id=\"T_bccdae12_07e3_11eb_9daa_7085c233535crow4_col5\" class=\"data row4 col5\" >18</td>\n",
       "                        <td id=\"T_bccdae12_07e3_11eb_9daa_7085c233535crow4_col6\" class=\"data row4 col6\" >19</td>\n",
       "                        <td id=\"T_bccdae12_07e3_11eb_9daa_7085c233535crow4_col7\" class=\"data row4 col7\" >21</td>\n",
       "                        <td id=\"T_bccdae12_07e3_11eb_9daa_7085c233535crow4_col8\" class=\"data row4 col8\" >19</td>\n",
       "                        <td id=\"T_bccdae12_07e3_11eb_9daa_7085c233535crow4_col9\" class=\"data row4 col9\" >16</td>\n",
       "                        <td id=\"T_bccdae12_07e3_11eb_9daa_7085c233535crow4_col10\" class=\"data row4 col10\" >14</td>\n",
       "                        <td id=\"T_bccdae12_07e3_11eb_9daa_7085c233535crow4_col11\" class=\"data row4 col11\" >11</td>\n",
       "                        <td id=\"T_bccdae12_07e3_11eb_9daa_7085c233535crow4_col12\" class=\"data row4 col12\" >27</td>\n",
       "                        <td id=\"T_bccdae12_07e3_11eb_9daa_7085c233535crow4_col13\" class=\"data row4 col13\" >19</td>\n",
       "                        <td id=\"T_bccdae12_07e3_11eb_9daa_7085c233535crow4_col14\" class=\"data row4 col14\" >28</td>\n",
       "            </tr>\n",
       "            <tr>\n",
       "                        <th id=\"T_bccdae12_07e3_11eb_9daa_7085c233535clevel0_row5\" class=\"row_heading level0 row5\" >H</th>\n",
       "                        <td id=\"T_bccdae12_07e3_11eb_9daa_7085c233535crow5_col0\" class=\"data row5 col0\" >39</td>\n",
       "                        <td id=\"T_bccdae12_07e3_11eb_9daa_7085c233535crow5_col1\" class=\"data row5 col1\" >38</td>\n",
       "                        <td id=\"T_bccdae12_07e3_11eb_9daa_7085c233535crow5_col2\" class=\"data row5 col2\" >51</td>\n",
       "                        <td id=\"T_bccdae12_07e3_11eb_9daa_7085c233535crow5_col3\" class=\"data row5 col3\" >62</td>\n",
       "                        <td id=\"T_bccdae12_07e3_11eb_9daa_7085c233535crow5_col4\" class=\"data row5 col4\" >68</td>\n",
       "                        <td id=\"T_bccdae12_07e3_11eb_9daa_7085c233535crow5_col5\" class=\"data row5 col5\" >68</td>\n",
       "                        <td id=\"T_bccdae12_07e3_11eb_9daa_7085c233535crow5_col6\" class=\"data row5 col6\" >65</td>\n",
       "                        <td id=\"T_bccdae12_07e3_11eb_9daa_7085c233535crow5_col7\" class=\"data row5 col7\" >60</td>\n",
       "                        <td id=\"T_bccdae12_07e3_11eb_9daa_7085c233535crow5_col8\" class=\"data row5 col8\" >58</td>\n",
       "                        <td id=\"T_bccdae12_07e3_11eb_9daa_7085c233535crow5_col9\" class=\"data row5 col9\" >61</td>\n",
       "                        <td id=\"T_bccdae12_07e3_11eb_9daa_7085c233535crow5_col10\" class=\"data row5 col10\" >62</td>\n",
       "                        <td id=\"T_bccdae12_07e3_11eb_9daa_7085c233535crow5_col11\" class=\"data row5 col11\" >70</td>\n",
       "                        <td id=\"T_bccdae12_07e3_11eb_9daa_7085c233535crow5_col12\" class=\"data row5 col12\" >67</td>\n",
       "                        <td id=\"T_bccdae12_07e3_11eb_9daa_7085c233535crow5_col13\" class=\"data row5 col13\" >50</td>\n",
       "                        <td id=\"T_bccdae12_07e3_11eb_9daa_7085c233535crow5_col14\" class=\"data row5 col14\" >53</td>\n",
       "            </tr>\n",
       "            <tr>\n",
       "                        <th id=\"T_bccdae12_07e3_11eb_9daa_7085c233535clevel0_row6\" class=\"row_heading level0 row6\" >I</th>\n",
       "                        <td id=\"T_bccdae12_07e3_11eb_9daa_7085c233535crow6_col0\" class=\"data row6 col0\" >74</td>\n",
       "                        <td id=\"T_bccdae12_07e3_11eb_9daa_7085c233535crow6_col1\" class=\"data row6 col1\" >66</td>\n",
       "                        <td id=\"T_bccdae12_07e3_11eb_9daa_7085c233535crow6_col2\" class=\"data row6 col2\" >75</td>\n",
       "                        <td id=\"T_bccdae12_07e3_11eb_9daa_7085c233535crow6_col3\" class=\"data row6 col3\" >74</td>\n",
       "                        <td id=\"T_bccdae12_07e3_11eb_9daa_7085c233535crow6_col4\" class=\"data row6 col4\" >75</td>\n",
       "                        <td id=\"T_bccdae12_07e3_11eb_9daa_7085c233535crow6_col5\" class=\"data row6 col5\" >84</td>\n",
       "                        <td id=\"T_bccdae12_07e3_11eb_9daa_7085c233535crow6_col6\" class=\"data row6 col6\" >82</td>\n",
       "                        <td id=\"T_bccdae12_07e3_11eb_9daa_7085c233535crow6_col7\" class=\"data row6 col7\" >70</td>\n",
       "                        <td id=\"T_bccdae12_07e3_11eb_9daa_7085c233535crow6_col8\" class=\"data row6 col8\" >64</td>\n",
       "                        <td id=\"T_bccdae12_07e3_11eb_9daa_7085c233535crow6_col9\" class=\"data row6 col9\" >73</td>\n",
       "                        <td id=\"T_bccdae12_07e3_11eb_9daa_7085c233535crow6_col10\" class=\"data row6 col10\" >64</td>\n",
       "                        <td id=\"T_bccdae12_07e3_11eb_9daa_7085c233535crow6_col11\" class=\"data row6 col11\" >68</td>\n",
       "                        <td id=\"T_bccdae12_07e3_11eb_9daa_7085c233535crow6_col12\" class=\"data row6 col12\" >61</td>\n",
       "                        <td id=\"T_bccdae12_07e3_11eb_9daa_7085c233535crow6_col13\" class=\"data row6 col13\" >62</td>\n",
       "                        <td id=\"T_bccdae12_07e3_11eb_9daa_7085c233535crow6_col14\" class=\"data row6 col14\" >72</td>\n",
       "            </tr>\n",
       "            <tr>\n",
       "                        <th id=\"T_bccdae12_07e3_11eb_9daa_7085c233535clevel0_row7\" class=\"row_heading level0 row7\" >L</th>\n",
       "                        <td id=\"T_bccdae12_07e3_11eb_9daa_7085c233535crow7_col0\" class=\"data row7 col0\" >44</td>\n",
       "                        <td id=\"T_bccdae12_07e3_11eb_9daa_7085c233535crow7_col1\" class=\"data row7 col1\" >41</td>\n",
       "                        <td id=\"T_bccdae12_07e3_11eb_9daa_7085c233535crow7_col2\" class=\"data row7 col2\" >33</td>\n",
       "                        <td id=\"T_bccdae12_07e3_11eb_9daa_7085c233535crow7_col3\" class=\"data row7 col3\" >43</td>\n",
       "                        <td id=\"T_bccdae12_07e3_11eb_9daa_7085c233535crow7_col4\" class=\"data row7 col4\" >34</td>\n",
       "                        <td id=\"T_bccdae12_07e3_11eb_9daa_7085c233535crow7_col5\" class=\"data row7 col5\" >25</td>\n",
       "                        <td id=\"T_bccdae12_07e3_11eb_9daa_7085c233535crow7_col6\" class=\"data row7 col6\" >34</td>\n",
       "                        <td id=\"T_bccdae12_07e3_11eb_9daa_7085c233535crow7_col7\" class=\"data row7 col7\" >15</td>\n",
       "                        <td id=\"T_bccdae12_07e3_11eb_9daa_7085c233535crow7_col8\" class=\"data row7 col8\" >18</td>\n",
       "                        <td id=\"T_bccdae12_07e3_11eb_9daa_7085c233535crow7_col9\" class=\"data row7 col9\" >36</td>\n",
       "                        <td id=\"T_bccdae12_07e3_11eb_9daa_7085c233535crow7_col10\" class=\"data row7 col10\" >26</td>\n",
       "                        <td id=\"T_bccdae12_07e3_11eb_9daa_7085c233535crow7_col11\" class=\"data row7 col11\" >46</td>\n",
       "                        <td id=\"T_bccdae12_07e3_11eb_9daa_7085c233535crow7_col12\" class=\"data row7 col12\" >43</td>\n",
       "                        <td id=\"T_bccdae12_07e3_11eb_9daa_7085c233535crow7_col13\" class=\"data row7 col13\" >50</td>\n",
       "                        <td id=\"T_bccdae12_07e3_11eb_9daa_7085c233535crow7_col14\" class=\"data row7 col14\" >39</td>\n",
       "            </tr>\n",
       "            <tr>\n",
       "                        <th id=\"T_bccdae12_07e3_11eb_9daa_7085c233535clevel0_row8\" class=\"row_heading level0 row8\" >M</th>\n",
       "                        <td id=\"T_bccdae12_07e3_11eb_9daa_7085c233535crow8_col0\" class=\"data row8 col0\" >27</td>\n",
       "                        <td id=\"T_bccdae12_07e3_11eb_9daa_7085c233535crow8_col1\" class=\"data row8 col1\" >36</td>\n",
       "                        <td id=\"T_bccdae12_07e3_11eb_9daa_7085c233535crow8_col2\" class=\"data row8 col2\" >23</td>\n",
       "                        <td id=\"T_bccdae12_07e3_11eb_9daa_7085c233535crow8_col3\" class=\"data row8 col3\" >28</td>\n",
       "                        <td id=\"T_bccdae12_07e3_11eb_9daa_7085c233535crow8_col4\" class=\"data row8 col4\" >25</td>\n",
       "                        <td id=\"T_bccdae12_07e3_11eb_9daa_7085c233535crow8_col5\" class=\"data row8 col5\" >32</td>\n",
       "                        <td id=\"T_bccdae12_07e3_11eb_9daa_7085c233535crow8_col6\" class=\"data row8 col6\" >29</td>\n",
       "                        <td id=\"T_bccdae12_07e3_11eb_9daa_7085c233535crow8_col7\" class=\"data row8 col7\" >37</td>\n",
       "                        <td id=\"T_bccdae12_07e3_11eb_9daa_7085c233535crow8_col8\" class=\"data row8 col8\" >38</td>\n",
       "                        <td id=\"T_bccdae12_07e3_11eb_9daa_7085c233535crow8_col9\" class=\"data row8 col9\" >29</td>\n",
       "                        <td id=\"T_bccdae12_07e3_11eb_9daa_7085c233535crow8_col10\" class=\"data row8 col10\" >26</td>\n",
       "                        <td id=\"T_bccdae12_07e3_11eb_9daa_7085c233535crow8_col11\" class=\"data row8 col11\" >35</td>\n",
       "                        <td id=\"T_bccdae12_07e3_11eb_9daa_7085c233535crow8_col12\" class=\"data row8 col12\" >20</td>\n",
       "                        <td id=\"T_bccdae12_07e3_11eb_9daa_7085c233535crow8_col13\" class=\"data row8 col13\" >24</td>\n",
       "                        <td id=\"T_bccdae12_07e3_11eb_9daa_7085c233535crow8_col14\" class=\"data row8 col14\" >22</td>\n",
       "            </tr>\n",
       "            <tr>\n",
       "                        <th id=\"T_bccdae12_07e3_11eb_9daa_7085c233535clevel0_row9\" class=\"row_heading level0 row9\" >N</th>\n",
       "                        <td id=\"T_bccdae12_07e3_11eb_9daa_7085c233535crow9_col0\" class=\"data row9 col0\" >61</td>\n",
       "                        <td id=\"T_bccdae12_07e3_11eb_9daa_7085c233535crow9_col1\" class=\"data row9 col1\" >72</td>\n",
       "                        <td id=\"T_bccdae12_07e3_11eb_9daa_7085c233535crow9_col2\" class=\"data row9 col2\" >60</td>\n",
       "                        <td id=\"T_bccdae12_07e3_11eb_9daa_7085c233535crow9_col3\" class=\"data row9 col3\" >73</td>\n",
       "                        <td id=\"T_bccdae12_07e3_11eb_9daa_7085c233535crow9_col4\" class=\"data row9 col4\" >70</td>\n",
       "                        <td id=\"T_bccdae12_07e3_11eb_9daa_7085c233535crow9_col5\" class=\"data row9 col5\" >76</td>\n",
       "                        <td id=\"T_bccdae12_07e3_11eb_9daa_7085c233535crow9_col6\" class=\"data row9 col6\" >89</td>\n",
       "                        <td id=\"T_bccdae12_07e3_11eb_9daa_7085c233535crow9_col7\" class=\"data row9 col7\" >80</td>\n",
       "                        <td id=\"T_bccdae12_07e3_11eb_9daa_7085c233535crow9_col8\" class=\"data row9 col8\" >78</td>\n",
       "                        <td id=\"T_bccdae12_07e3_11eb_9daa_7085c233535crow9_col9\" class=\"data row9 col9\" >69</td>\n",
       "                        <td id=\"T_bccdae12_07e3_11eb_9daa_7085c233535crow9_col10\" class=\"data row9 col10\" >71</td>\n",
       "                        <td id=\"T_bccdae12_07e3_11eb_9daa_7085c233535crow9_col11\" class=\"data row9 col11\" >57</td>\n",
       "                        <td id=\"T_bccdae12_07e3_11eb_9daa_7085c233535crow9_col12\" class=\"data row9 col12\" >63</td>\n",
       "                        <td id=\"T_bccdae12_07e3_11eb_9daa_7085c233535crow9_col13\" class=\"data row9 col13\" >68</td>\n",
       "                        <td id=\"T_bccdae12_07e3_11eb_9daa_7085c233535crow9_col14\" class=\"data row9 col14\" >71</td>\n",
       "            </tr>\n",
       "            <tr>\n",
       "                        <th id=\"T_bccdae12_07e3_11eb_9daa_7085c233535clevel0_row10\" class=\"row_heading level0 row10\" >P</th>\n",
       "                        <td id=\"T_bccdae12_07e3_11eb_9daa_7085c233535crow10_col0\" class=\"data row10 col0\" >12</td>\n",
       "                        <td id=\"T_bccdae12_07e3_11eb_9daa_7085c233535crow10_col1\" class=\"data row10 col1\" >15</td>\n",
       "                        <td id=\"T_bccdae12_07e3_11eb_9daa_7085c233535crow10_col2\" class=\"data row10 col2\" >24</td>\n",
       "                        <td id=\"T_bccdae12_07e3_11eb_9daa_7085c233535crow10_col3\" class=\"data row10 col3\" >8</td>\n",
       "                        <td id=\"T_bccdae12_07e3_11eb_9daa_7085c233535crow10_col4\" class=\"data row10 col4\" >16</td>\n",
       "                        <td id=\"T_bccdae12_07e3_11eb_9daa_7085c233535crow10_col5\" class=\"data row10 col5\" >14</td>\n",
       "                        <td id=\"T_bccdae12_07e3_11eb_9daa_7085c233535crow10_col6\" class=\"data row10 col6\" >11</td>\n",
       "                        <td id=\"T_bccdae12_07e3_11eb_9daa_7085c233535crow10_col7\" class=\"data row10 col7\" >15</td>\n",
       "                        <td id=\"T_bccdae12_07e3_11eb_9daa_7085c233535crow10_col8\" class=\"data row10 col8\" >15</td>\n",
       "                        <td id=\"T_bccdae12_07e3_11eb_9daa_7085c233535crow10_col9\" class=\"data row10 col9\" >13</td>\n",
       "                        <td id=\"T_bccdae12_07e3_11eb_9daa_7085c233535crow10_col10\" class=\"data row10 col10\" >26</td>\n",
       "                        <td id=\"T_bccdae12_07e3_11eb_9daa_7085c233535crow10_col11\" class=\"data row10 col11\" >30</td>\n",
       "                        <td id=\"T_bccdae12_07e3_11eb_9daa_7085c233535crow10_col12\" class=\"data row10 col12\" >14</td>\n",
       "                        <td id=\"T_bccdae12_07e3_11eb_9daa_7085c233535crow10_col13\" class=\"data row10 col13\" >14</td>\n",
       "                        <td id=\"T_bccdae12_07e3_11eb_9daa_7085c233535crow10_col14\" class=\"data row10 col14\" >11</td>\n",
       "            </tr>\n",
       "            <tr>\n",
       "                        <th id=\"T_bccdae12_07e3_11eb_9daa_7085c233535clevel0_row11\" class=\"row_heading level0 row11\" >R</th>\n",
       "                        <td id=\"T_bccdae12_07e3_11eb_9daa_7085c233535crow11_col0\" class=\"data row11 col0\" >65</td>\n",
       "                        <td id=\"T_bccdae12_07e3_11eb_9daa_7085c233535crow11_col1\" class=\"data row11 col1\" >62</td>\n",
       "                        <td id=\"T_bccdae12_07e3_11eb_9daa_7085c233535crow11_col2\" class=\"data row11 col2\" >68</td>\n",
       "                        <td id=\"T_bccdae12_07e3_11eb_9daa_7085c233535crow11_col3\" class=\"data row11 col3\" >59</td>\n",
       "                        <td id=\"T_bccdae12_07e3_11eb_9daa_7085c233535crow11_col4\" class=\"data row11 col4\" >56</td>\n",
       "                        <td id=\"T_bccdae12_07e3_11eb_9daa_7085c233535crow11_col5\" class=\"data row11 col5\" >69</td>\n",
       "                        <td id=\"T_bccdae12_07e3_11eb_9daa_7085c233535crow11_col6\" class=\"data row11 col6\" >47</td>\n",
       "                        <td id=\"T_bccdae12_07e3_11eb_9daa_7085c233535crow11_col7\" class=\"data row11 col7\" >65</td>\n",
       "                        <td id=\"T_bccdae12_07e3_11eb_9daa_7085c233535crow11_col8\" class=\"data row11 col8\" >65</td>\n",
       "                        <td id=\"T_bccdae12_07e3_11eb_9daa_7085c233535crow11_col9\" class=\"data row11 col9\" >63</td>\n",
       "                        <td id=\"T_bccdae12_07e3_11eb_9daa_7085c233535crow11_col10\" class=\"data row11 col10\" >78</td>\n",
       "                        <td id=\"T_bccdae12_07e3_11eb_9daa_7085c233535crow11_col11\" class=\"data row11 col11\" >71</td>\n",
       "                        <td id=\"T_bccdae12_07e3_11eb_9daa_7085c233535crow11_col12\" class=\"data row11 col12\" >43</td>\n",
       "                        <td id=\"T_bccdae12_07e3_11eb_9daa_7085c233535crow11_col13\" class=\"data row11 col13\" >40</td>\n",
       "                        <td id=\"T_bccdae12_07e3_11eb_9daa_7085c233535crow11_col14\" class=\"data row11 col14\" >40</td>\n",
       "            </tr>\n",
       "            <tr>\n",
       "                        <th id=\"T_bccdae12_07e3_11eb_9daa_7085c233535clevel0_row12\" class=\"row_heading level0 row12\" >S</th>\n",
       "                        <td id=\"T_bccdae12_07e3_11eb_9daa_7085c233535crow12_col0\" class=\"data row12 col0\" >69</td>\n",
       "                        <td id=\"T_bccdae12_07e3_11eb_9daa_7085c233535crow12_col1\" class=\"data row12 col1\" >63</td>\n",
       "                        <td id=\"T_bccdae12_07e3_11eb_9daa_7085c233535crow12_col2\" class=\"data row12 col2\" >85</td>\n",
       "                        <td id=\"T_bccdae12_07e3_11eb_9daa_7085c233535crow12_col3\" class=\"data row12 col3\" >54</td>\n",
       "                        <td id=\"T_bccdae12_07e3_11eb_9daa_7085c233535crow12_col4\" class=\"data row12 col4\" >72</td>\n",
       "                        <td id=\"T_bccdae12_07e3_11eb_9daa_7085c233535crow12_col5\" class=\"data row12 col5\" >64</td>\n",
       "                        <td id=\"T_bccdae12_07e3_11eb_9daa_7085c233535crow12_col6\" class=\"data row12 col6\" >74</td>\n",
       "                        <td id=\"T_bccdae12_07e3_11eb_9daa_7085c233535crow12_col7\" class=\"data row12 col7\" >68</td>\n",
       "                        <td id=\"T_bccdae12_07e3_11eb_9daa_7085c233535crow12_col8\" class=\"data row12 col8\" >72</td>\n",
       "                        <td id=\"T_bccdae12_07e3_11eb_9daa_7085c233535crow12_col9\" class=\"data row12 col9\" >58</td>\n",
       "                        <td id=\"T_bccdae12_07e3_11eb_9daa_7085c233535crow12_col10\" class=\"data row12 col10\" >64</td>\n",
       "                        <td id=\"T_bccdae12_07e3_11eb_9daa_7085c233535crow12_col11\" class=\"data row12 col11\" >57</td>\n",
       "                        <td id=\"T_bccdae12_07e3_11eb_9daa_7085c233535crow12_col12\" class=\"data row12 col12\" >67</td>\n",
       "                        <td id=\"T_bccdae12_07e3_11eb_9daa_7085c233535crow12_col13\" class=\"data row12 col13\" >58</td>\n",
       "                        <td id=\"T_bccdae12_07e3_11eb_9daa_7085c233535crow12_col14\" class=\"data row12 col14\" >67</td>\n",
       "            </tr>\n",
       "            <tr>\n",
       "                        <th id=\"T_bccdae12_07e3_11eb_9daa_7085c233535clevel0_row13\" class=\"row_heading level0 row13\" >U</th>\n",
       "                        <td id=\"T_bccdae12_07e3_11eb_9daa_7085c233535crow13_col0\" class=\"data row13 col0\" >22</td>\n",
       "                        <td id=\"T_bccdae12_07e3_11eb_9daa_7085c233535crow13_col1\" class=\"data row13 col1\" >31</td>\n",
       "                        <td id=\"T_bccdae12_07e3_11eb_9daa_7085c233535crow13_col2\" class=\"data row13 col2\" >18</td>\n",
       "                        <td id=\"T_bccdae12_07e3_11eb_9daa_7085c233535crow13_col3\" class=\"data row13 col3\" >32</td>\n",
       "                        <td id=\"T_bccdae12_07e3_11eb_9daa_7085c233535crow13_col4\" class=\"data row13 col4\" >31</td>\n",
       "                        <td id=\"T_bccdae12_07e3_11eb_9daa_7085c233535crow13_col5\" class=\"data row13 col5\" >27</td>\n",
       "                        <td id=\"T_bccdae12_07e3_11eb_9daa_7085c233535crow13_col6\" class=\"data row13 col6\" >18</td>\n",
       "                        <td id=\"T_bccdae12_07e3_11eb_9daa_7085c233535crow13_col7\" class=\"data row13 col7\" >21</td>\n",
       "                        <td id=\"T_bccdae12_07e3_11eb_9daa_7085c233535crow13_col8\" class=\"data row13 col8\" >20</td>\n",
       "                        <td id=\"T_bccdae12_07e3_11eb_9daa_7085c233535crow13_col9\" class=\"data row13 col9\" >18</td>\n",
       "                        <td id=\"T_bccdae12_07e3_11eb_9daa_7085c233535crow13_col10\" class=\"data row13 col10\" >21</td>\n",
       "                        <td id=\"T_bccdae12_07e3_11eb_9daa_7085c233535crow13_col11\" class=\"data row13 col11\" >19</td>\n",
       "                        <td id=\"T_bccdae12_07e3_11eb_9daa_7085c233535crow13_col12\" class=\"data row13 col12\" >34</td>\n",
       "                        <td id=\"T_bccdae12_07e3_11eb_9daa_7085c233535crow13_col13\" class=\"data row13 col13\" >31</td>\n",
       "                        <td id=\"T_bccdae12_07e3_11eb_9daa_7085c233535crow13_col14\" class=\"data row13 col14\" >25</td>\n",
       "            </tr>\n",
       "            <tr>\n",
       "                        <th id=\"T_bccdae12_07e3_11eb_9daa_7085c233535clevel0_row14\" class=\"row_heading level0 row14\" >W</th>\n",
       "                        <td id=\"T_bccdae12_07e3_11eb_9daa_7085c233535crow14_col0\" class=\"data row14 col0\" >14</td>\n",
       "                        <td id=\"T_bccdae12_07e3_11eb_9daa_7085c233535crow14_col1\" class=\"data row14 col1\" >12</td>\n",
       "                        <td id=\"T_bccdae12_07e3_11eb_9daa_7085c233535crow14_col2\" class=\"data row14 col2\" >13</td>\n",
       "                        <td id=\"T_bccdae12_07e3_11eb_9daa_7085c233535crow14_col3\" class=\"data row14 col3\" >19</td>\n",
       "                        <td id=\"T_bccdae12_07e3_11eb_9daa_7085c233535crow14_col4\" class=\"data row14 col4\" >14</td>\n",
       "                        <td id=\"T_bccdae12_07e3_11eb_9daa_7085c233535crow14_col5\" class=\"data row14 col5\" >11</td>\n",
       "                        <td id=\"T_bccdae12_07e3_11eb_9daa_7085c233535crow14_col6\" class=\"data row14 col6\" >22</td>\n",
       "                        <td id=\"T_bccdae12_07e3_11eb_9daa_7085c233535crow14_col7\" class=\"data row14 col7\" >25</td>\n",
       "                        <td id=\"T_bccdae12_07e3_11eb_9daa_7085c233535crow14_col8\" class=\"data row14 col8\" >20</td>\n",
       "                        <td id=\"T_bccdae12_07e3_11eb_9daa_7085c233535crow14_col9\" class=\"data row14 col9\" >20</td>\n",
       "                        <td id=\"T_bccdae12_07e3_11eb_9daa_7085c233535crow14_col10\" class=\"data row14 col10\" >18</td>\n",
       "                        <td id=\"T_bccdae12_07e3_11eb_9daa_7085c233535crow14_col11\" class=\"data row14 col11\" >22</td>\n",
       "                        <td id=\"T_bccdae12_07e3_11eb_9daa_7085c233535crow14_col12\" class=\"data row14 col12\" >41</td>\n",
       "                        <td id=\"T_bccdae12_07e3_11eb_9daa_7085c233535crow14_col13\" class=\"data row14 col13\" >36</td>\n",
       "                        <td id=\"T_bccdae12_07e3_11eb_9daa_7085c233535crow14_col14\" class=\"data row14 col14\" >41</td>\n",
       "            </tr>\n",
       "            <tr>\n",
       "                        <th id=\"T_bccdae12_07e3_11eb_9daa_7085c233535clevel0_row15\" class=\"row_heading level0 row15\" >Y</th>\n",
       "                        <td id=\"T_bccdae12_07e3_11eb_9daa_7085c233535crow15_col0\" class=\"data row15 col0\" >21</td>\n",
       "                        <td id=\"T_bccdae12_07e3_11eb_9daa_7085c233535crow15_col1\" class=\"data row15 col1\" >18</td>\n",
       "                        <td id=\"T_bccdae12_07e3_11eb_9daa_7085c233535crow15_col2\" class=\"data row15 col2\" >14</td>\n",
       "                        <td id=\"T_bccdae12_07e3_11eb_9daa_7085c233535crow15_col3\" class=\"data row15 col3\" >20</td>\n",
       "                        <td id=\"T_bccdae12_07e3_11eb_9daa_7085c233535crow15_col4\" class=\"data row15 col4\" >11</td>\n",
       "                        <td id=\"T_bccdae12_07e3_11eb_9daa_7085c233535crow15_col5\" class=\"data row15 col5\" >18</td>\n",
       "                        <td id=\"T_bccdae12_07e3_11eb_9daa_7085c233535crow15_col6\" class=\"data row15 col6\" >17</td>\n",
       "                        <td id=\"T_bccdae12_07e3_11eb_9daa_7085c233535crow15_col7\" class=\"data row15 col7\" >9</td>\n",
       "                        <td id=\"T_bccdae12_07e3_11eb_9daa_7085c233535crow15_col8\" class=\"data row15 col8\" >11</td>\n",
       "                        <td id=\"T_bccdae12_07e3_11eb_9daa_7085c233535crow15_col9\" class=\"data row15 col9\" >25</td>\n",
       "                        <td id=\"T_bccdae12_07e3_11eb_9daa_7085c233535crow15_col10\" class=\"data row15 col10\" >12</td>\n",
       "                        <td id=\"T_bccdae12_07e3_11eb_9daa_7085c233535crow15_col11\" class=\"data row15 col11\" >20</td>\n",
       "                        <td id=\"T_bccdae12_07e3_11eb_9daa_7085c233535crow15_col12\" class=\"data row15 col12\" >23</td>\n",
       "                        <td id=\"T_bccdae12_07e3_11eb_9daa_7085c233535crow15_col13\" class=\"data row15 col13\" >26</td>\n",
       "                        <td id=\"T_bccdae12_07e3_11eb_9daa_7085c233535crow15_col14\" class=\"data row15 col14\" >17</td>\n",
       "            </tr>\n",
       "    </tbody></table>"
      ],
      "text/plain": [
       "<pandas.io.formats.style.Styler at 0x2193b664bc8>"
      ]
     },
     "execution_count": 7,
     "metadata": {},
     "output_type": "execute_result"
    },
    {
     "data": {
      "application/javascript": [
       "\n",
       "            setTimeout(function() {\n",
       "                var nbb_cell_id = 7;\n",
       "                var nbb_unformatted_code = \"crosstab.T.style.background_gradient()\";\n",
       "                var nbb_formatted_code = \"crosstab.T.style.background_gradient()\";\n",
       "                var nbb_cells = Jupyter.notebook.get_cells();\n",
       "                for (var i = 0; i < nbb_cells.length; ++i) {\n",
       "                    if (nbb_cells[i].input_prompt_number == nbb_cell_id) {\n",
       "                        if (nbb_cells[i].get_text() == nbb_unformatted_code) {\n",
       "                             nbb_cells[i].set_text(nbb_formatted_code);\n",
       "                        }\n",
       "                        break;\n",
       "                    }\n",
       "                }\n",
       "            }, 500);\n",
       "            "
      ],
      "text/plain": [
       "<IPython.core.display.Javascript object>"
      ]
     },
     "metadata": {},
     "output_type": "display_data"
    }
   ],
   "source": [
    "crosstab.T.style.background_gradient()"
   ]
  },
  {
   "cell_type": "code",
   "execution_count": 8,
   "metadata": {
    "colab": {},
    "colab_type": "code",
    "id": "5LOk5IVDd4vs"
   },
   "outputs": [
    {
     "data": {
      "application/javascript": [
       "\n",
       "            setTimeout(function() {\n",
       "                var nbb_cell_id = 8;\n",
       "                var nbb_unformatted_code = \"crosstab.index = short_names\\ncrosstab.index.name = \\\"Author Sample\\\"\";\n",
       "                var nbb_formatted_code = \"crosstab.index = short_names\\ncrosstab.index.name = \\\"Author Sample\\\"\";\n",
       "                var nbb_cells = Jupyter.notebook.get_cells();\n",
       "                for (var i = 0; i < nbb_cells.length; ++i) {\n",
       "                    if (nbb_cells[i].input_prompt_number == nbb_cell_id) {\n",
       "                        if (nbb_cells[i].get_text() == nbb_unformatted_code) {\n",
       "                             nbb_cells[i].set_text(nbb_formatted_code);\n",
       "                        }\n",
       "                        break;\n",
       "                    }\n",
       "                }\n",
       "            }, 500);\n",
       "            "
      ],
      "text/plain": [
       "<IPython.core.display.Javascript object>"
      ]
     },
     "metadata": {},
     "output_type": "display_data"
    }
   ],
   "source": [
    "crosstab.index = short_names\n",
    "crosstab.index.name = \"Author Sample\""
   ]
  },
  {
   "cell_type": "markdown",
   "metadata": {
    "colab_type": "text",
    "id": "FuEJY0zjx9Jc"
   },
   "source": [
    "## Custom EDA"
   ]
  },
  {
   "cell_type": "markdown",
   "metadata": {
    "colab_type": "text",
    "id": "FPWUCmxR8MBl"
   },
   "source": [
    "Do some analysis, which of these author samples appear to be most similar? Which letters appear to be most similar?"
   ]
  },
  {
   "cell_type": "markdown",
   "metadata": {
    "colab_type": "text",
    "id": "rWRudBiR-bqk"
   },
   "source": [
    "Could try out measuring distances between rows/columns:"
   ]
  },
  {
   "cell_type": "code",
   "execution_count": 9,
   "metadata": {},
   "outputs": [
    {
     "data": {
      "text/html": [
       "<div>\n",
       "<style scoped>\n",
       "    .dataframe tbody tr th:only-of-type {\n",
       "        vertical-align: middle;\n",
       "    }\n",
       "\n",
       "    .dataframe tbody tr th {\n",
       "        vertical-align: top;\n",
       "    }\n",
       "\n",
       "    .dataframe thead th {\n",
       "        text-align: right;\n",
       "    }\n",
       "</style>\n",
       "<table border=\"1\" class=\"dataframe\">\n",
       "  <thead>\n",
       "    <tr style=\"text-align: right;\">\n",
       "      <th></th>\n",
       "      <th>a</th>\n",
       "      <th>b</th>\n",
       "      <th>dist</th>\n",
       "    </tr>\n",
       "  </thead>\n",
       "  <tbody>\n",
       "    <tr>\n",
       "      <th>64</th>\n",
       "      <td>G</td>\n",
       "      <td>Y</td>\n",
       "      <td>26.343880</td>\n",
       "    </tr>\n",
       "    <tr>\n",
       "      <th>3</th>\n",
       "      <td>B</td>\n",
       "      <td>G</td>\n",
       "      <td>28.160256</td>\n",
       "    </tr>\n",
       "    <tr>\n",
       "      <th>63</th>\n",
       "      <td>G</td>\n",
       "      <td>W</td>\n",
       "      <td>31.622777</td>\n",
       "    </tr>\n",
       "    <tr>\n",
       "      <th>77</th>\n",
       "      <td>I</td>\n",
       "      <td>N</td>\n",
       "      <td>33.045423</td>\n",
       "    </tr>\n",
       "    <tr>\n",
       "      <th>9</th>\n",
       "      <td>B</td>\n",
       "      <td>P</td>\n",
       "      <td>33.926391</td>\n",
       "    </tr>\n",
       "  </tbody>\n",
       "</table>\n",
       "</div>"
      ],
      "text/plain": [
       "    a  b       dist\n",
       "64  G  Y  26.343880\n",
       "3   B  G  28.160256\n",
       "63  G  W  31.622777\n",
       "77  I  N  33.045423\n",
       "9   B  P  33.926391"
      ]
     },
     "execution_count": 9,
     "metadata": {},
     "output_type": "execute_result"
    },
    {
     "data": {
      "application/javascript": [
       "\n",
       "            setTimeout(function() {\n",
       "                var nbb_cell_id = 9;\n",
       "                var nbb_unformatted_code = \"tall_dist(crosstab.T).sort_values(\\\"dist\\\").head()\";\n",
       "                var nbb_formatted_code = \"tall_dist(crosstab.T).sort_values(\\\"dist\\\").head()\";\n",
       "                var nbb_cells = Jupyter.notebook.get_cells();\n",
       "                for (var i = 0; i < nbb_cells.length; ++i) {\n",
       "                    if (nbb_cells[i].input_prompt_number == nbb_cell_id) {\n",
       "                        if (nbb_cells[i].get_text() == nbb_unformatted_code) {\n",
       "                             nbb_cells[i].set_text(nbb_formatted_code);\n",
       "                        }\n",
       "                        break;\n",
       "                    }\n",
       "                }\n",
       "            }, 500);\n",
       "            "
      ],
      "text/plain": [
       "<IPython.core.display.Javascript object>"
      ]
     },
     "metadata": {},
     "output_type": "display_data"
    }
   ],
   "source": [
    "tall_dist(crosstab.T).sort_values(\"dist\").head()"
   ]
  },
  {
   "cell_type": "code",
   "execution_count": 10,
   "metadata": {
    "colab": {
     "base_uri": "https://localhost:8080/",
     "height": 322
    },
    "colab_type": "code",
    "id": "27f-tYOceTTU",
    "outputId": "b7a39c56-3893-4f9d-e582-5c2c09ca88de"
   },
   "outputs": [
    {
     "name": "stdout",
     "output_type": "stream",
     "text": [
      "Closest Characters\n"
     ]
    },
    {
     "data": {
      "text/html": [
       "<div>\n",
       "<style scoped>\n",
       "    .dataframe tbody tr th:only-of-type {\n",
       "        vertical-align: middle;\n",
       "    }\n",
       "\n",
       "    .dataframe tbody tr th {\n",
       "        vertical-align: top;\n",
       "    }\n",
       "\n",
       "    .dataframe thead th {\n",
       "        text-align: right;\n",
       "    }\n",
       "</style>\n",
       "<table border=\"1\" class=\"dataframe\">\n",
       "  <thead>\n",
       "    <tr style=\"text-align: right;\">\n",
       "      <th></th>\n",
       "      <th>a</th>\n",
       "      <th>b</th>\n",
       "      <th>dist</th>\n",
       "    </tr>\n",
       "  </thead>\n",
       "  <tbody>\n",
       "    <tr>\n",
       "      <th>64</th>\n",
       "      <td>G</td>\n",
       "      <td>Y</td>\n",
       "      <td>26.343880</td>\n",
       "    </tr>\n",
       "    <tr>\n",
       "      <th>3</th>\n",
       "      <td>B</td>\n",
       "      <td>G</td>\n",
       "      <td>28.160256</td>\n",
       "    </tr>\n",
       "    <tr>\n",
       "      <th>63</th>\n",
       "      <td>G</td>\n",
       "      <td>W</td>\n",
       "      <td>31.622777</td>\n",
       "    </tr>\n",
       "    <tr>\n",
       "      <th>77</th>\n",
       "      <td>I</td>\n",
       "      <td>N</td>\n",
       "      <td>33.045423</td>\n",
       "    </tr>\n",
       "    <tr>\n",
       "      <th>9</th>\n",
       "      <td>B</td>\n",
       "      <td>P</td>\n",
       "      <td>33.926391</td>\n",
       "    </tr>\n",
       "  </tbody>\n",
       "</table>\n",
       "</div>"
      ],
      "text/plain": [
       "    a  b       dist\n",
       "64  G  Y  26.343880\n",
       "3   B  G  28.160256\n",
       "63  G  W  31.622777\n",
       "77  I  N  33.045423\n",
       "9   B  P  33.926391"
      ]
     },
     "metadata": {},
     "output_type": "display_data"
    },
    {
     "name": "stdout",
     "output_type": "stream",
     "text": [
      "\n",
      "\n",
      "Closest Author Samples\n"
     ]
    },
    {
     "data": {
      "text/html": [
       "<div>\n",
       "<style scoped>\n",
       "    .dataframe tbody tr th:only-of-type {\n",
       "        vertical-align: middle;\n",
       "    }\n",
       "\n",
       "    .dataframe tbody tr th {\n",
       "        vertical-align: top;\n",
       "    }\n",
       "\n",
       "    .dataframe thead th {\n",
       "        text-align: right;\n",
       "    }\n",
       "</style>\n",
       "<table border=\"1\" class=\"dataframe\">\n",
       "  <thead>\n",
       "    <tr style=\"text-align: right;\">\n",
       "      <th></th>\n",
       "      <th>a</th>\n",
       "      <th>b</th>\n",
       "      <th>dist</th>\n",
       "    </tr>\n",
       "  </thead>\n",
       "  <tbody>\n",
       "    <tr>\n",
       "      <th>77</th>\n",
       "      <td>TB2</td>\n",
       "      <td>TB3</td>\n",
       "      <td>11.090537</td>\n",
       "    </tr>\n",
       "    <tr>\n",
       "      <th>44</th>\n",
       "      <td>RD1</td>\n",
       "      <td>MS1</td>\n",
       "      <td>19.798990</td>\n",
       "    </tr>\n",
       "    <tr>\n",
       "      <th>50</th>\n",
       "      <td>RD2</td>\n",
       "      <td>RD3</td>\n",
       "      <td>26.038433</td>\n",
       "    </tr>\n",
       "    <tr>\n",
       "      <th>104</th>\n",
       "      <td>MT2</td>\n",
       "      <td>MT3</td>\n",
       "      <td>26.172505</td>\n",
       "    </tr>\n",
       "    <tr>\n",
       "      <th>0</th>\n",
       "      <td>CD1</td>\n",
       "      <td>CD2</td>\n",
       "      <td>27.184554</td>\n",
       "    </tr>\n",
       "  </tbody>\n",
       "</table>\n",
       "</div>"
      ],
      "text/plain": [
       "       a    b       dist\n",
       "77   TB2  TB3  11.090537\n",
       "44   RD1  MS1  19.798990\n",
       "50   RD2  RD3  26.038433\n",
       "104  MT2  MT3  26.172505\n",
       "0    CD1  CD2  27.184554"
      ]
     },
     "metadata": {},
     "output_type": "display_data"
    },
    {
     "data": {
      "application/javascript": [
       "\n",
       "            setTimeout(function() {\n",
       "                var nbb_cell_id = 10;\n",
       "                var nbb_unformatted_code = \"# Find the closest letters in terms of their usage by authors\\nletter_dists = tall_dist(crosstab.T).sort_values(\\\"dist\\\").head()\\n\\nprint(\\\"Closest Characters\\\")\\ndisplay(letter_dists)\\n\\n# Find the closest authors in terms of their letter\\nauthor_dists = tall_dist(crosstab).sort_values(\\\"dist\\\").head()\\n\\nprint(\\\"\\\\n\\\\nClosest Author Samples\\\")\\ndisplay(author_dists)\";\n",
       "                var nbb_formatted_code = \"# Find the closest letters in terms of their usage by authors\\nletter_dists = tall_dist(crosstab.T).sort_values(\\\"dist\\\").head()\\n\\nprint(\\\"Closest Characters\\\")\\ndisplay(letter_dists)\\n\\n# Find the closest authors in terms of their letter\\nauthor_dists = tall_dist(crosstab).sort_values(\\\"dist\\\").head()\\n\\nprint(\\\"\\\\n\\\\nClosest Author Samples\\\")\\ndisplay(author_dists)\";\n",
       "                var nbb_cells = Jupyter.notebook.get_cells();\n",
       "                for (var i = 0; i < nbb_cells.length; ++i) {\n",
       "                    if (nbb_cells[i].input_prompt_number == nbb_cell_id) {\n",
       "                        if (nbb_cells[i].get_text() == nbb_unformatted_code) {\n",
       "                             nbb_cells[i].set_text(nbb_formatted_code);\n",
       "                        }\n",
       "                        break;\n",
       "                    }\n",
       "                }\n",
       "            }, 500);\n",
       "            "
      ],
      "text/plain": [
       "<IPython.core.display.Javascript object>"
      ]
     },
     "metadata": {},
     "output_type": "display_data"
    }
   ],
   "source": [
    "# Find the closest letters in terms of their usage by authors\n",
    "letter_dists = tall_dist(crosstab.T).sort_values(\"dist\").head()\n",
    "\n",
    "print(\"Closest Characters\")\n",
    "display(letter_dists)\n",
    "\n",
    "# Find the closest authors in terms of their letter\n",
    "author_dists = tall_dist(crosstab).sort_values(\"dist\").head()\n",
    "\n",
    "print(\"\\n\\nClosest Author Samples\")\n",
    "display(author_dists)"
   ]
  },
  {
   "cell_type": "markdown",
   "metadata": {
    "colab_type": "text",
    "id": "o9XOedH_-i8O"
   },
   "source": [
    "Could try to make a fancy viz to tell the differences.\n",
    "\n",
    "This is a \"dont worry about the code unless you want extra practice section\"."
   ]
  },
  {
   "cell_type": "code",
   "execution_count": 11,
   "metadata": {
    "colab": {
     "base_uri": "https://localhost:8080/",
     "height": 388
    },
    "colab_type": "code",
    "id": "G1VL7s1_bYh2",
    "outputId": "75941978-c923-480b-e75a-ca2cf9f0f8e3"
   },
   "outputs": [
    {
     "data": {
      "image/png": "[encoded data removed]",
      "text/plain": [
       "<Figure size 864x432 with 1 Axes>"
      ]
     },
     "metadata": {
      "needs_background": "light"
     },
     "output_type": "display_data"
    },
    {
     "data": {
      "application/javascript": [
       "\n",
       "            setTimeout(function() {\n",
       "                var nbb_cell_id = 11;\n",
       "                var nbb_unformatted_code = \"# Create a way to sort dataframe by letter appearance count\\nsorter = crosstab.sum().sort_values().reset_index()\\nsort_letters_dict = {k: v for k, v in zip(sorter[\\\"Character\\\"], sorter.index)}\\n\\nplot_df = crosstab.reset_index()\\nplot_df = pd.melt(plot_df, \\\"Author Sample\\\")\\nplot_df[\\\"order\\\"] = plot_df[\\\"Character\\\"].replace(sort_letters_dict)\\nplot_df = plot_df.sort_values(\\\"order\\\")\\n\\n# This is a hard plot to read..\\n# We can get some info, like MT2 & MT1 seem to have similar lines..\\n# There's gotta be a better way...*\\n# (*read with infomercial energy)\\nplt.figure(figsize=(12, 6))\\nsns.lineplot(\\\"Character\\\", \\\"value\\\", hue=\\\"Author Sample\\\", data=plot_df, sort=False)\\nplt.legend(loc=\\\"center left\\\", bbox_to_anchor=(1, 0.5))\\nplt.ylabel(\\\"Character Count\\\")\\nplt.show()\";\n",
       "                var nbb_formatted_code = \"# Create a way to sort dataframe by letter appearance count\\nsorter = crosstab.sum().sort_values().reset_index()\\nsort_letters_dict = {k: v for k, v in zip(sorter[\\\"Character\\\"], sorter.index)}\\n\\nplot_df = crosstab.reset_index()\\nplot_df = pd.melt(plot_df, \\\"Author Sample\\\")\\nplot_df[\\\"order\\\"] = plot_df[\\\"Character\\\"].replace(sort_letters_dict)\\nplot_df = plot_df.sort_values(\\\"order\\\")\\n\\n# This is a hard plot to read..\\n# We can get some info, like MT2 & MT1 seem to have similar lines..\\n# There's gotta be a better way...*\\n# (*read with infomercial energy)\\nplt.figure(figsize=(12, 6))\\nsns.lineplot(\\\"Character\\\", \\\"value\\\", hue=\\\"Author Sample\\\", data=plot_df, sort=False)\\nplt.legend(loc=\\\"center left\\\", bbox_to_anchor=(1, 0.5))\\nplt.ylabel(\\\"Character Count\\\")\\nplt.show()\";\n",
       "                var nbb_cells = Jupyter.notebook.get_cells();\n",
       "                for (var i = 0; i < nbb_cells.length; ++i) {\n",
       "                    if (nbb_cells[i].input_prompt_number == nbb_cell_id) {\n",
       "                        if (nbb_cells[i].get_text() == nbb_unformatted_code) {\n",
       "                             nbb_cells[i].set_text(nbb_formatted_code);\n",
       "                        }\n",
       "                        break;\n",
       "                    }\n",
       "                }\n",
       "            }, 500);\n",
       "            "
      ],
      "text/plain": [
       "<IPython.core.display.Javascript object>"
      ]
     },
     "metadata": {},
     "output_type": "display_data"
    }
   ],
   "source": [
    "# Create a way to sort dataframe by letter appearance count\n",
    "sorter = crosstab.sum().sort_values().reset_index()\n",
    "sort_letters_dict = {k: v for k, v in zip(sorter[\"Character\"], sorter.index)}\n",
    "\n",
    "plot_df = crosstab.reset_index()\n",
    "plot_df = pd.melt(plot_df, \"Author Sample\")\n",
    "plot_df[\"order\"] = plot_df[\"Character\"].replace(sort_letters_dict)\n",
    "plot_df = plot_df.sort_values(\"order\")\n",
    "\n",
    "# This is a hard plot to read..\n",
    "# We can get some info, like MT2 & MT1 seem to have similar lines..\n",
    "# There's gotta be a better way...*\n",
    "# (*read with infomercial energy)\n",
    "plt.figure(figsize=(12, 6))\n",
    "sns.lineplot(\"Character\", \"value\", hue=\"Author Sample\", data=plot_df, sort=False)\n",
    "plt.legend(loc=\"center left\", bbox_to_anchor=(1, 0.5))\n",
    "plt.ylabel(\"Character Count\")\n",
    "plt.show()"
   ]
  },
  {
   "cell_type": "markdown",
   "metadata": {
    "colab_type": "text",
    "id": "g8ziJr4lbRkG"
   },
   "source": [
    "## The process details"
   ]
  },
  {
   "cell_type": "markdown",
   "metadata": {
    "colab_type": "text",
    "id": "9gU4fSL-8JJd"
   },
   "source": [
    "Part of our analysis is finding out what is expected for each cell in our table. Assuming there's no pattern, we would expect for each cell to be around the average for its 'group' (its group will be based on its row/column).  To find these expected values, we need the row averages, column averages and overall average.\n",
    "\n",
    "```\n",
    "cell_exp_val = row_mean * col_mean / table_mean\n",
    "```\n",
    "\n",
    "For example, below, we see the average for `CD1` is ~38.06, the average for `B` is ~17.26, and the table mean is ~37.48  So with our formula the expected value for the cell is:\n",
    "\n",
    "```\n",
    "38.06 * 17.26 / 37.48 = ~17.52\n",
    "```\n",
    "\n",
    "This might seem low given the numbers in the 30s.  The logic is that for `CD1` we're right around the table average, that is, Charles Darwin's writing isn't way above or below the average, so we wouldn't expect him to be way above or below the average number of `B`s; we would expect him to be right around the average number of `B`s (or just slightly above the average like we see here).  If you're not fully convinced, try working a couple more and reason out what's happening."
   ]
  },
  {
   "cell_type": "code",
   "execution_count": 12,
   "metadata": {
    "colab": {
     "base_uri": "https://localhost:8080/",
     "height": 34
    },
    "colab_type": "code",
    "id": "HYfUAZX7ifA2",
    "outputId": "02ae16d5-d92d-46d6-d05c-602ca1370871"
   },
   "outputs": [
    {
     "data": {
      "text/plain": [
       "37.475"
      ]
     },
     "execution_count": 12,
     "metadata": {},
     "output_type": "execute_result"
    },
    {
     "data": {
      "application/javascript": [
       "\n",
       "            setTimeout(function() {\n",
       "                var nbb_cell_id = 12;\n",
       "                var nbb_unformatted_code = \"col_means = crosstab.mean(axis=0)\\nrow_means = crosstab.mean(axis=1)\\ntable_mean = crosstab.values.mean()\\ntable_mean\";\n",
       "                var nbb_formatted_code = \"col_means = crosstab.mean(axis=0)\\nrow_means = crosstab.mean(axis=1)\\ntable_mean = crosstab.values.mean()\\ntable_mean\";\n",
       "                var nbb_cells = Jupyter.notebook.get_cells();\n",
       "                for (var i = 0; i < nbb_cells.length; ++i) {\n",
       "                    if (nbb_cells[i].input_prompt_number == nbb_cell_id) {\n",
       "                        if (nbb_cells[i].get_text() == nbb_unformatted_code) {\n",
       "                             nbb_cells[i].set_text(nbb_formatted_code);\n",
       "                        }\n",
       "                        break;\n",
       "                    }\n",
       "                }\n",
       "            }, 500);\n",
       "            "
      ],
      "text/plain": [
       "<IPython.core.display.Javascript object>"
      ]
     },
     "metadata": {},
     "output_type": "display_data"
    }
   ],
   "source": [
    "col_means = crosstab.mean(axis=0)\n",
    "row_means = crosstab.mean(axis=1)\n",
    "table_mean = crosstab.values.mean()\n",
    "table_mean"
   ]
  },
  {
   "cell_type": "code",
   "execution_count": 13,
   "metadata": {
    "colab": {
     "base_uri": "https://localhost:8080/",
     "height": 67
    },
    "colab_type": "code",
    "id": "K14t0tXBiw8V",
    "outputId": "ddbc57bb-d43f-484b-87a1-a5b6033486b7"
   },
   "outputs": [
    {
     "data": {
      "text/plain": [
       "Character\n",
       "B    17.266667\n",
       "dtype: float64"
      ]
     },
     "execution_count": 13,
     "metadata": {},
     "output_type": "execute_result"
    },
    {
     "data": {
      "application/javascript": [
       "\n",
       "            setTimeout(function() {\n",
       "                var nbb_cell_id = 13;\n",
       "                var nbb_unformatted_code = \"col_means[[0]]\";\n",
       "                var nbb_formatted_code = \"col_means[[0]]\";\n",
       "                var nbb_cells = Jupyter.notebook.get_cells();\n",
       "                for (var i = 0; i < nbb_cells.length; ++i) {\n",
       "                    if (nbb_cells[i].input_prompt_number == nbb_cell_id) {\n",
       "                        if (nbb_cells[i].get_text() == nbb_unformatted_code) {\n",
       "                             nbb_cells[i].set_text(nbb_formatted_code);\n",
       "                        }\n",
       "                        break;\n",
       "                    }\n",
       "                }\n",
       "            }, 500);\n",
       "            "
      ],
      "text/plain": [
       "<IPython.core.display.Javascript object>"
      ]
     },
     "metadata": {},
     "output_type": "display_data"
    }
   ],
   "source": [
    "col_means[[0]]"
   ]
  },
  {
   "cell_type": "code",
   "execution_count": 14,
   "metadata": {
    "colab": {
     "base_uri": "https://localhost:8080/",
     "height": 67
    },
    "colab_type": "code",
    "id": "X4E96Tc9bQrZ",
    "outputId": "0875a59c-18d2-4d0b-e336-924d81858e8a"
   },
   "outputs": [
    {
     "data": {
      "text/plain": [
       "Author Sample\n",
       "CD1    38.0625\n",
       "dtype: float64"
      ]
     },
     "execution_count": 14,
     "metadata": {},
     "output_type": "execute_result"
    },
    {
     "data": {
      "application/javascript": [
       "\n",
       "            setTimeout(function() {\n",
       "                var nbb_cell_id = 14;\n",
       "                var nbb_unformatted_code = \"row_means[[0]]\";\n",
       "                var nbb_formatted_code = \"row_means[[0]]\";\n",
       "                var nbb_cells = Jupyter.notebook.get_cells();\n",
       "                for (var i = 0; i < nbb_cells.length; ++i) {\n",
       "                    if (nbb_cells[i].input_prompt_number == nbb_cell_id) {\n",
       "                        if (nbb_cells[i].get_text() == nbb_unformatted_code) {\n",
       "                             nbb_cells[i].set_text(nbb_formatted_code);\n",
       "                        }\n",
       "                        break;\n",
       "                    }\n",
       "                }\n",
       "            }, 500);\n",
       "            "
      ],
      "text/plain": [
       "<IPython.core.display.Javascript object>"
      ]
     },
     "metadata": {},
     "output_type": "display_data"
    }
   ],
   "source": [
    "row_means[[0]]"
   ]
  },
  {
   "cell_type": "markdown",
   "metadata": {
    "colab_type": "text",
    "id": "QMEGN9CNln42"
   },
   "source": [
    "Find expected values for each cell."
   ]
  },
  {
   "cell_type": "code",
   "execution_count": 15,
   "metadata": {
    "colab": {
     "base_uri": "https://localhost:8080/",
     "height": 289
    },
    "colab_type": "code",
    "id": "X30JWnPjlrfA",
    "outputId": "ace767d9-359d-46bf-9ea8-4a0ed6e4e410"
   },
   "outputs": [
    {
     "name": "stdout",
     "output_type": "stream",
     "text": [
      "Sample of actuals\n"
     ]
    },
    {
     "data": {
      "text/html": [
       "<div>\n",
       "<style scoped>\n",
       "    .dataframe tbody tr th:only-of-type {\n",
       "        vertical-align: middle;\n",
       "    }\n",
       "\n",
       "    .dataframe tbody tr th {\n",
       "        vertical-align: top;\n",
       "    }\n",
       "\n",
       "    .dataframe thead th {\n",
       "        text-align: right;\n",
       "    }\n",
       "</style>\n",
       "<table border=\"1\" class=\"dataframe\">\n",
       "  <thead>\n",
       "    <tr style=\"text-align: right;\">\n",
       "      <th>Character</th>\n",
       "      <th>B</th>\n",
       "      <th>C</th>\n",
       "    </tr>\n",
       "    <tr>\n",
       "      <th>Author Sample</th>\n",
       "      <th></th>\n",
       "      <th></th>\n",
       "    </tr>\n",
       "  </thead>\n",
       "  <tbody>\n",
       "    <tr>\n",
       "      <th>CD1</th>\n",
       "      <td>34</td>\n",
       "      <td>37</td>\n",
       "    </tr>\n",
       "    <tr>\n",
       "      <th>CD2</th>\n",
       "      <td>18</td>\n",
       "      <td>33</td>\n",
       "    </tr>\n",
       "  </tbody>\n",
       "</table>\n",
       "</div>"
      ],
      "text/plain": [
       "Character       B   C\n",
       "Author Sample        \n",
       "CD1            34  37\n",
       "CD2            18  33"
      ]
     },
     "metadata": {},
     "output_type": "display_data"
    },
    {
     "name": "stdout",
     "output_type": "stream",
     "text": [
      "Sample of expected values\n"
     ]
    },
    {
     "data": {
      "text/html": [
       "<div>\n",
       "<style scoped>\n",
       "    .dataframe tbody tr th:only-of-type {\n",
       "        vertical-align: middle;\n",
       "    }\n",
       "\n",
       "    .dataframe tbody tr th {\n",
       "        vertical-align: top;\n",
       "    }\n",
       "\n",
       "    .dataframe thead th {\n",
       "        text-align: right;\n",
       "    }\n",
       "</style>\n",
       "<table border=\"1\" class=\"dataframe\">\n",
       "  <thead>\n",
       "    <tr style=\"text-align: right;\">\n",
       "      <th>Character</th>\n",
       "      <th>B</th>\n",
       "      <th>C</th>\n",
       "    </tr>\n",
       "    <tr>\n",
       "      <th>Author Sample</th>\n",
       "      <th></th>\n",
       "      <th></th>\n",
       "    </tr>\n",
       "  </thead>\n",
       "  <tbody>\n",
       "    <tr>\n",
       "      <th>CD1</th>\n",
       "      <td>17.537358</td>\n",
       "      <td>27.017011</td>\n",
       "    </tr>\n",
       "    <tr>\n",
       "      <th>CD2</th>\n",
       "      <td>16.990216</td>\n",
       "      <td>26.174116</td>\n",
       "    </tr>\n",
       "  </tbody>\n",
       "</table>\n",
       "</div>"
      ],
      "text/plain": [
       "Character              B          C\n",
       "Author Sample                      \n",
       "CD1            17.537358  27.017011\n",
       "CD2            16.990216  26.174116"
      ]
     },
     "execution_count": 15,
     "metadata": {},
     "output_type": "execute_result"
    },
    {
     "data": {
      "application/javascript": [
       "\n",
       "            setTimeout(function() {\n",
       "                var nbb_cell_id = 15;\n",
       "                var nbb_unformatted_code = \"expected_values = crosstab.copy()\\n\\nfor i, row_mean in enumerate(row_means):\\n    for j, col_mean in enumerate(col_means):\\n        expected_values.iloc[i, j] = row_mean * col_mean / table_mean\\n\\nprint(\\\"Sample of actuals\\\")\\ndisplay(crosstab.iloc[:2, :2])\\n\\nprint(\\\"Sample of expected values\\\")\\nexpected_values.iloc[:2, :2]\";\n",
       "                var nbb_formatted_code = \"expected_values = crosstab.copy()\\n\\nfor i, row_mean in enumerate(row_means):\\n    for j, col_mean in enumerate(col_means):\\n        expected_values.iloc[i, j] = row_mean * col_mean / table_mean\\n\\nprint(\\\"Sample of actuals\\\")\\ndisplay(crosstab.iloc[:2, :2])\\n\\nprint(\\\"Sample of expected values\\\")\\nexpected_values.iloc[:2, :2]\";\n",
       "                var nbb_cells = Jupyter.notebook.get_cells();\n",
       "                for (var i = 0; i < nbb_cells.length; ++i) {\n",
       "                    if (nbb_cells[i].input_prompt_number == nbb_cell_id) {\n",
       "                        if (nbb_cells[i].get_text() == nbb_unformatted_code) {\n",
       "                             nbb_cells[i].set_text(nbb_formatted_code);\n",
       "                        }\n",
       "                        break;\n",
       "                    }\n",
       "                }\n",
       "            }, 500);\n",
       "            "
      ],
      "text/plain": [
       "<IPython.core.display.Javascript object>"
      ]
     },
     "metadata": {},
     "output_type": "display_data"
    }
   ],
   "source": [
    "expected_values = crosstab.copy()\n",
    "\n",
    "for i, row_mean in enumerate(row_means):\n",
    "    for j, col_mean in enumerate(col_means):\n",
    "        expected_values.iloc[i, j] = row_mean * col_mean / table_mean\n",
    "\n",
    "print(\"Sample of actuals\")\n",
    "display(crosstab.iloc[:2, :2])\n",
    "\n",
    "print(\"Sample of expected values\")\n",
    "expected_values.iloc[:2, :2]"
   ]
  },
  {
   "cell_type": "markdown",
   "metadata": {
    "colab_type": "text",
    "id": "44XqT20Ym1Lg"
   },
   "source": [
    "We then care about how much each cell is different than expected.  These differences are the focus of the analysis.  In the print outs above, we see that `CD1` and `CD2` had higher than expected values for `B` and `C`.  This is reflected in our residuals below.  If he had written less than expected we would see negative numbers in the residuals."
   ]
  },
  {
   "cell_type": "code",
   "execution_count": 16,
   "metadata": {
    "colab": {
     "base_uri": "https://localhost:8080/",
     "height": 136
    },
    "colab_type": "code",
    "id": "cqmBc3tWnDwf",
    "outputId": "509f96e0-face-4f0f-afd1-54aad6012e05"
   },
   "outputs": [
    {
     "data": {
      "text/html": [
       "<div>\n",
       "<style scoped>\n",
       "    .dataframe tbody tr th:only-of-type {\n",
       "        vertical-align: middle;\n",
       "    }\n",
       "\n",
       "    .dataframe tbody tr th {\n",
       "        vertical-align: top;\n",
       "    }\n",
       "\n",
       "    .dataframe thead th {\n",
       "        text-align: right;\n",
       "    }\n",
       "</style>\n",
       "<table border=\"1\" class=\"dataframe\">\n",
       "  <thead>\n",
       "    <tr style=\"text-align: right;\">\n",
       "      <th>Character</th>\n",
       "      <th>B</th>\n",
       "      <th>C</th>\n",
       "    </tr>\n",
       "    <tr>\n",
       "      <th>Author Sample</th>\n",
       "      <th></th>\n",
       "      <th></th>\n",
       "    </tr>\n",
       "  </thead>\n",
       "  <tbody>\n",
       "    <tr>\n",
       "      <th>CD1</th>\n",
       "      <td>16.462642</td>\n",
       "      <td>9.982989</td>\n",
       "    </tr>\n",
       "    <tr>\n",
       "      <th>CD2</th>\n",
       "      <td>1.009784</td>\n",
       "      <td>6.825884</td>\n",
       "    </tr>\n",
       "  </tbody>\n",
       "</table>\n",
       "</div>"
      ],
      "text/plain": [
       "Character              B         C\n",
       "Author Sample                     \n",
       "CD1            16.462642  9.982989\n",
       "CD2             1.009784  6.825884"
      ]
     },
     "execution_count": 16,
     "metadata": {},
     "output_type": "execute_result"
    },
    {
     "data": {
      "application/javascript": [
       "\n",
       "            setTimeout(function() {\n",
       "                var nbb_cell_id = 16;\n",
       "                var nbb_unformatted_code = \"residuals = crosstab - expected_values\\nresiduals.iloc[:2, :2]\";\n",
       "                var nbb_formatted_code = \"residuals = crosstab - expected_values\\nresiduals.iloc[:2, :2]\";\n",
       "                var nbb_cells = Jupyter.notebook.get_cells();\n",
       "                for (var i = 0; i < nbb_cells.length; ++i) {\n",
       "                    if (nbb_cells[i].input_prompt_number == nbb_cell_id) {\n",
       "                        if (nbb_cells[i].get_text() == nbb_unformatted_code) {\n",
       "                             nbb_cells[i].set_text(nbb_formatted_code);\n",
       "                        }\n",
       "                        break;\n",
       "                    }\n",
       "                }\n",
       "            }, 500);\n",
       "            "
      ],
      "text/plain": [
       "<IPython.core.display.Javascript object>"
      ]
     },
     "metadata": {},
     "output_type": "display_data"
    }
   ],
   "source": [
    "residuals = crosstab - expected_values\n",
    "residuals.iloc[:2, :2]"
   ]
  },
  {
   "cell_type": "markdown",
   "metadata": {
    "colab_type": "text",
    "id": "FRqNvSh6o5hM"
   },
   "source": [
    "The rest of the process is finding a way to plot these residuals in a way that similar rows are plotted close together and that similiar columns are plotted close together.\n",
    "\n",
    "To do this, we apply SVD* to a version of the residuals table and we use the first 2 outputted components as our x and y coordinates.  From this, like in PCA, we'll have an indication of how much variation is explained by each component.  So our plot's axes labels will typically have an indication of how much 'intertia' they explain.\n",
    "\n",
    "We can repeat this plotting process for the columns, and do some additional processing to place them on the same plot as the rows for easier interpretation.\n",
    "\n",
    "We'll let the `prince` package take it away from here.\n",
    "\n",
    "*Singular Value Decomposition, for our purposes here, think of this as PCA"
   ]
  },
  {
   "cell_type": "markdown",
   "metadata": {
    "colab_type": "text",
    "id": "pwmZW5RWyFZ9"
   },
   "source": [
    "## Running Correspondance Analysis with `prince`"
   ]
  },
  {
   "cell_type": "code",
   "execution_count": 17,
   "metadata": {
    "colab": {
     "base_uri": "https://localhost:8080/",
     "height": 50
    },
    "colab_type": "code",
    "id": "7eOk4uqxebZn",
    "outputId": "4644045d-6de4-4684-a737-843c9c405e8e"
   },
   "outputs": [
    {
     "data": {
      "text/plain": [
       "CA(benzecri=False, check_input=True, copy=True, engine='auto', n_components=5,\n",
       "   n_iter=10, random_state=42)"
      ]
     },
     "execution_count": 17,
     "metadata": {},
     "output_type": "execute_result"
    },
    {
     "data": {
      "application/javascript": [
       "\n",
       "            setTimeout(function() {\n",
       "                var nbb_cell_id = 17;\n",
       "                var nbb_unformatted_code = \"ca = prince.CA(n_components=5, random_state=42)\\nca.fit(crosstab)\";\n",
       "                var nbb_formatted_code = \"ca = prince.CA(n_components=5, random_state=42)\\nca.fit(crosstab)\";\n",
       "                var nbb_cells = Jupyter.notebook.get_cells();\n",
       "                for (var i = 0; i < nbb_cells.length; ++i) {\n",
       "                    if (nbb_cells[i].input_prompt_number == nbb_cell_id) {\n",
       "                        if (nbb_cells[i].get_text() == nbb_unformatted_code) {\n",
       "                             nbb_cells[i].set_text(nbb_formatted_code);\n",
       "                        }\n",
       "                        break;\n",
       "                    }\n",
       "                }\n",
       "            }, 500);\n",
       "            "
      ],
      "text/plain": [
       "<IPython.core.display.Javascript object>"
      ]
     },
     "metadata": {},
     "output_type": "display_data"
    }
   ],
   "source": [
    "ca = prince.CA(n_components=5, random_state=42)\n",
    "ca.fit(crosstab)"
   ]
  },
  {
   "cell_type": "code",
   "execution_count": 19,
   "metadata": {
    "colab": {
     "base_uri": "https://localhost:8080/",
     "height": 404
    },
    "colab_type": "code",
    "id": "CwDgqEPEfvlz",
    "outputId": "15a82229-c5a6-454d-c6da-b03c0cdf5726",
    "scrolled": false
   },
   "outputs": [
    {
     "data": {
      "image/png": "[encoded data removed]",
      "text/plain": [
       "<Figure size 432x432 with 1 Axes>"
      ]
     },
     "metadata": {
      "needs_background": "light"
     },
     "output_type": "display_data"
    },
    {
     "data": {
      "application/javascript": [
       "\n",
       "            setTimeout(function() {\n",
       "                var nbb_cell_id = 19;\n",
       "                var nbb_unformatted_code = \"#plt.figure(10, 10)\\nca.plot_coordinates(crosstab)\\nplt.show()\";\n",
       "                var nbb_formatted_code = \"# plt.figure(10, 10)\\nca.plot_coordinates(crosstab)\\nplt.show()\";\n",
       "                var nbb_cells = Jupyter.notebook.get_cells();\n",
       "                for (var i = 0; i < nbb_cells.length; ++i) {\n",
       "                    if (nbb_cells[i].input_prompt_number == nbb_cell_id) {\n",
       "                        if (nbb_cells[i].get_text() == nbb_unformatted_code) {\n",
       "                             nbb_cells[i].set_text(nbb_formatted_code);\n",
       "                        }\n",
       "                        break;\n",
       "                    }\n",
       "                }\n",
       "            }, 500);\n",
       "            "
      ],
      "text/plain": [
       "<IPython.core.display.Javascript object>"
      ]
     },
     "metadata": {},
     "output_type": "display_data"
    }
   ],
   "source": [
    "# plt.figure(10, 10)\n",
    "ca.plot_coordinates(crosstab)\n",
    "plt.show()"
   ]
  },
  {
   "cell_type": "markdown",
   "metadata": {
    "colab_type": "text",
    "id": "A781WKsBrxZc"
   },
   "source": [
    "### Interpreting the plot\n",
    "\n",
    "This plot can be confusing to read.  A lot of misinterpretation can occur.  Double check your interpretation! Remember, we have a table showing us this information.  The main value of this plot is to try and uncover things we can easily overlook in the table, its not adding new information, but visualizing info we already have.  Double check your interpretation!\n",
    "\n",
    "Interpretation guide:\n",
    "* Start with interpreting just rows or just columns (in `prince` this means, start with just a single color)\n",
    "* Rows plotted closer together are more similar in your contingency table\n",
    "  * For example, `MT1` & `MT3` appear very similar in the plot\n",
    "* Columns plotted closer together are more similar in your contingency table\n",
    "  * For example, `S` & `I` appear very similar in the plot\n",
    "* How close row points and column points are (in terms of euclidean distance) does not necesarily indicate that they are related/unrelated.\n",
    "* You will use angles as a way to relate rows to columns (see below quote for explanation and example)\n",
    "\n",
    "From the first resource linked above\n",
    "> Possibly the simplest way to determine the relationship between a text sample and a character is to draw lines from their corresponding points in the plot to the origin. If the angle between the two lines is acute, then the character occurs more often in the sample than it does on average in the texts as a whole. Conversely, if the angle is obtuse, the character occurs less often than overall. The following draws the appropriate lines for our chosen text sample and characters; it appears the character “Y” occurs more often than average in “MT2”, while “P” occurs less often."
   ]
  },
  {
   "cell_type": "markdown",
   "metadata": {
    "colab_type": "text",
    "id": "w_tA9fA8SSB6"
   },
   "source": [
    "# Multiple Correspondance Analysis"
   ]
  },
  {
   "cell_type": "code",
   "execution_count": 20,
   "metadata": {
    "colab": {
     "base_uri": "https://localhost:8080/",
     "height": 195
    },
    "colab_type": "code",
    "id": "FQk9nvKpf-Nv",
    "outputId": "39e4bd3d-6985-4c96-c34c-a85ebcf916f0"
   },
   "outputs": [
    {
     "data": {
      "text/html": [
       "<div>\n",
       "<style scoped>\n",
       "    .dataframe tbody tr th:only-of-type {\n",
       "        vertical-align: middle;\n",
       "    }\n",
       "\n",
       "    .dataframe tbody tr th {\n",
       "        vertical-align: top;\n",
       "    }\n",
       "\n",
       "    .dataframe thead th {\n",
       "        text-align: right;\n",
       "    }\n",
       "</style>\n",
       "<table border=\"1\" class=\"dataframe\">\n",
       "  <thead>\n",
       "    <tr style=\"text-align: right;\">\n",
       "      <th></th>\n",
       "      <th>Color</th>\n",
       "      <th>Size</th>\n",
       "      <th>Action</th>\n",
       "      <th>Age</th>\n",
       "      <th>Inflated</th>\n",
       "    </tr>\n",
       "  </thead>\n",
       "  <tbody>\n",
       "    <tr>\n",
       "      <th>0</th>\n",
       "      <td>YELLOW</td>\n",
       "      <td>SMALL</td>\n",
       "      <td>STRETCH</td>\n",
       "      <td>CHILD</td>\n",
       "      <td>T</td>\n",
       "    </tr>\n",
       "    <tr>\n",
       "      <th>1</th>\n",
       "      <td>YELLOW</td>\n",
       "      <td>SMALL</td>\n",
       "      <td>STRETCH</td>\n",
       "      <td>ADULT</td>\n",
       "      <td>T</td>\n",
       "    </tr>\n",
       "    <tr>\n",
       "      <th>2</th>\n",
       "      <td>YELLOW</td>\n",
       "      <td>SMALL</td>\n",
       "      <td>STRETCH</td>\n",
       "      <td>ADULT</td>\n",
       "      <td>F</td>\n",
       "    </tr>\n",
       "    <tr>\n",
       "      <th>3</th>\n",
       "      <td>YELLOW</td>\n",
       "      <td>SMALL</td>\n",
       "      <td>DIP</td>\n",
       "      <td>ADULT</td>\n",
       "      <td>F</td>\n",
       "    </tr>\n",
       "    <tr>\n",
       "      <th>4</th>\n",
       "      <td>YELLOW</td>\n",
       "      <td>SMALL</td>\n",
       "      <td>DIP</td>\n",
       "      <td>ADULT</td>\n",
       "      <td>F</td>\n",
       "    </tr>\n",
       "  </tbody>\n",
       "</table>\n",
       "</div>"
      ],
      "text/plain": [
       "    Color   Size   Action    Age Inflated\n",
       "0  YELLOW  SMALL  STRETCH  CHILD        T\n",
       "1  YELLOW  SMALL  STRETCH  ADULT        T\n",
       "2  YELLOW  SMALL  STRETCH  ADULT        F\n",
       "3  YELLOW  SMALL      DIP  ADULT        F\n",
       "4  YELLOW  SMALL      DIP  ADULT        F"
      ]
     },
     "execution_count": 20,
     "metadata": {},
     "output_type": "execute_result"
    },
    {
     "data": {
      "application/javascript": [
       "\n",
       "            setTimeout(function() {\n",
       "                var nbb_cell_id = 20;\n",
       "                var nbb_unformatted_code = \"data_url = \\\"https://archive.ics.uci.edu/ml/machine-learning-databases/balloons/adult+stretch.data\\\"\\ncolumns = [\\\"Color\\\", \\\"Size\\\", \\\"Action\\\", \\\"Age\\\", \\\"Inflated\\\"]\\n\\ndf = pd.read_csv(data_url, names=columns)\\ndf.loc[df[\\\"Color\\\"] == \\\"YELLOW\\\", \\\"Age\\\"] = \\\"ADULT\\\"\\ndf.loc[df[\\\"Color\\\"] == \\\"PURPLE\\\", \\\"Age\\\"] = \\\"CHILD\\\"\\ndf.loc[0, \\\"Age\\\"] = \\\"CHILD\\\"\\ndf.head()\";\n",
       "                var nbb_formatted_code = \"data_url = \\\"https://archive.ics.uci.edu/ml/machine-learning-databases/balloons/adult+stretch.data\\\"\\ncolumns = [\\\"Color\\\", \\\"Size\\\", \\\"Action\\\", \\\"Age\\\", \\\"Inflated\\\"]\\n\\ndf = pd.read_csv(data_url, names=columns)\\ndf.loc[df[\\\"Color\\\"] == \\\"YELLOW\\\", \\\"Age\\\"] = \\\"ADULT\\\"\\ndf.loc[df[\\\"Color\\\"] == \\\"PURPLE\\\", \\\"Age\\\"] = \\\"CHILD\\\"\\ndf.loc[0, \\\"Age\\\"] = \\\"CHILD\\\"\\ndf.head()\";\n",
       "                var nbb_cells = Jupyter.notebook.get_cells();\n",
       "                for (var i = 0; i < nbb_cells.length; ++i) {\n",
       "                    if (nbb_cells[i].input_prompt_number == nbb_cell_id) {\n",
       "                        if (nbb_cells[i].get_text() == nbb_unformatted_code) {\n",
       "                             nbb_cells[i].set_text(nbb_formatted_code);\n",
       "                        }\n",
       "                        break;\n",
       "                    }\n",
       "                }\n",
       "            }, 500);\n",
       "            "
      ],
      "text/plain": [
       "<IPython.core.display.Javascript object>"
      ]
     },
     "metadata": {},
     "output_type": "display_data"
    }
   ],
   "source": [
    "data_url = \"https://archive.ics.uci.edu/ml/machine-learning-databases/balloons/adult+stretch.data\"\n",
    "columns = [\"Color\", \"Size\", \"Action\", \"Age\", \"Inflated\"]\n",
    "\n",
    "df = pd.read_csv(data_url, names=columns)\n",
    "df.loc[df[\"Color\"] == \"YELLOW\", \"Age\"] = \"ADULT\"\n",
    "df.loc[df[\"Color\"] == \"PURPLE\", \"Age\"] = \"CHILD\"\n",
    "df.loc[0, \"Age\"] = \"CHILD\"\n",
    "df.head()"
   ]
  },
  {
   "cell_type": "markdown",
   "metadata": {
    "colab_type": "text",
    "id": "QJsl0VBSxVBW"
   },
   "source": [
    "Do some preliminary analysis, what do you expect to be related in our MCA?"
   ]
  },
  {
   "cell_type": "code",
   "execution_count": null,
   "metadata": {
    "colab": {},
    "colab_type": "code",
    "id": "lqYVWoOK6Pu-"
   },
   "outputs": [],
   "source": []
  },
  {
   "cell_type": "markdown",
   "metadata": {
    "colab_type": "text",
    "id": "Y7ymX-sJxb4v"
   },
   "source": [
    "Perform MCA and plot."
   ]
  },
  {
   "cell_type": "code",
   "execution_count": 21,
   "metadata": {
    "colab": {
     "base_uri": "https://localhost:8080/",
     "height": 50
    },
    "colab_type": "code",
    "id": "iSrHni41SXBx",
    "outputId": "7ac56531-eac4-42df-c15a-0e4dfb39f5b9"
   },
   "outputs": [
    {
     "data": {
      "text/plain": [
       "MCA(benzecri=False, check_input=True, copy=True, engine='auto', n_components=2,\n",
       "    n_iter=10, random_state=None)"
      ]
     },
     "execution_count": 21,
     "metadata": {},
     "output_type": "execute_result"
    },
    {
     "data": {
      "application/javascript": [
       "\n",
       "            setTimeout(function() {\n",
       "                var nbb_cell_id = 21;\n",
       "                var nbb_unformatted_code = \"mca = prince.MCA(2)\\nmca.fit(df)\";\n",
       "                var nbb_formatted_code = \"mca = prince.MCA(2)\\nmca.fit(df)\";\n",
       "                var nbb_cells = Jupyter.notebook.get_cells();\n",
       "                for (var i = 0; i < nbb_cells.length; ++i) {\n",
       "                    if (nbb_cells[i].input_prompt_number == nbb_cell_id) {\n",
       "                        if (nbb_cells[i].get_text() == nbb_unformatted_code) {\n",
       "                             nbb_cells[i].set_text(nbb_formatted_code);\n",
       "                        }\n",
       "                        break;\n",
       "                    }\n",
       "                }\n",
       "            }, 500);\n",
       "            "
      ],
      "text/plain": [
       "<IPython.core.display.Javascript object>"
      ]
     },
     "metadata": {},
     "output_type": "display_data"
    }
   ],
   "source": [
    "mca = prince.MCA(2)\n",
    "mca.fit(df)"
   ]
  },
  {
   "cell_type": "code",
   "execution_count": 22,
   "metadata": {
    "colab": {
     "base_uri": "https://localhost:8080/",
     "height": 404
    },
    "colab_type": "code",
    "id": "SEPwLWMVS5sC",
    "outputId": "2a0a5a53-c96e-43dd-d97b-fa2dd24795f0"
   },
   "outputs": [
    {
     "data": {
      "image/png": "[encoded data removed]",
      "text/plain": [
       "<Figure size 432x432 with 1 Axes>"
      ]
     },
     "metadata": {
      "needs_background": "light"
     },
     "output_type": "display_data"
    },
    {
     "data": {
      "application/javascript": [
       "\n",
       "            setTimeout(function() {\n",
       "                var nbb_cell_id = 22;\n",
       "                var nbb_unformatted_code = \"mca.plot_coordinates(df, show_column_labels=True)\\nplt.show()\";\n",
       "                var nbb_formatted_code = \"mca.plot_coordinates(df, show_column_labels=True)\\nplt.show()\";\n",
       "                var nbb_cells = Jupyter.notebook.get_cells();\n",
       "                for (var i = 0; i < nbb_cells.length; ++i) {\n",
       "                    if (nbb_cells[i].input_prompt_number == nbb_cell_id) {\n",
       "                        if (nbb_cells[i].get_text() == nbb_unformatted_code) {\n",
       "                             nbb_cells[i].set_text(nbb_formatted_code);\n",
       "                        }\n",
       "                        break;\n",
       "                    }\n",
       "                }\n",
       "            }, 500);\n",
       "            "
      ],
      "text/plain": [
       "<IPython.core.display.Javascript object>"
      ]
     },
     "metadata": {},
     "output_type": "display_data"
    }
   ],
   "source": [
    "mca.plot_coordinates(df, show_column_labels=True)\n",
    "plt.show()"
   ]
  },
  {
   "cell_type": "markdown",
   "metadata": {
    "colab_type": "text",
    "id": "DaiEb47I6wBx"
   },
   "source": [
    "Note, that we can recreate this output by one-hot encoding our DataFrame and running a Correspondance Analysis.  All we're missing is the coloring by each group."
   ]
  },
  {
   "cell_type": "code",
   "execution_count": 23,
   "metadata": {
    "colab": {
     "base_uri": "https://localhost:8080/",
     "height": 404
    },
    "colab_type": "code",
    "id": "MUFJeAlb6I4h",
    "outputId": "10d204bb-df95-4bd6-f002-46fd29629fce"
   },
   "outputs": [
    {
     "data": {
      "image/png": "[encoded data removed]",
      "text/plain": [
       "<Figure size 432x432 with 1 Axes>"
      ]
     },
     "metadata": {
      "needs_background": "light"
     },
     "output_type": "display_data"
    },
    {
     "data": {
      "application/javascript": [
       "\n",
       "            setTimeout(function() {\n",
       "                var nbb_cell_id = 23;\n",
       "                var nbb_unformatted_code = \"one_hot = pd.get_dummies(df)\\n\\nca = prince.CA(n_components=5, random_state=42)\\nca.fit(one_hot)\\n\\nca.plot_coordinates(one_hot)\\nplt.show()\";\n",
       "                var nbb_formatted_code = \"one_hot = pd.get_dummies(df)\\n\\nca = prince.CA(n_components=5, random_state=42)\\nca.fit(one_hot)\\n\\nca.plot_coordinates(one_hot)\\nplt.show()\";\n",
       "                var nbb_cells = Jupyter.notebook.get_cells();\n",
       "                for (var i = 0; i < nbb_cells.length; ++i) {\n",
       "                    if (nbb_cells[i].input_prompt_number == nbb_cell_id) {\n",
       "                        if (nbb_cells[i].get_text() == nbb_unformatted_code) {\n",
       "                             nbb_cells[i].set_text(nbb_formatted_code);\n",
       "                        }\n",
       "                        break;\n",
       "                    }\n",
       "                }\n",
       "            }, 500);\n",
       "            "
      ],
      "text/plain": [
       "<IPython.core.display.Javascript object>"
      ]
     },
     "metadata": {},
     "output_type": "display_data"
    }
   ],
   "source": [
    "one_hot = pd.get_dummies(df)\n",
    "\n",
    "ca = prince.CA(n_components=5, random_state=42)\n",
    "ca.fit(one_hot)\n",
    "\n",
    "ca.plot_coordinates(one_hot)\n",
    "plt.show()"
   ]
  },
  {
   "cell_type": "markdown",
   "metadata": {
    "colab_type": "text",
    "id": "kF-Xd2RpuQfA"
   },
   "source": [
    "# Factor Analysis of Mixed Data"
   ]
  },
  {
   "cell_type": "markdown",
   "metadata": {
    "colab_type": "text",
    "id": "si1jUDtk7I6P"
   },
   "source": [
    "From good ole [Wikipedia](https://en.wikipedia.org/wiki/Factor_analysis_of_mixed_data):\n",
    "\n",
    "> Roughly, we can say that FAMD works as a principal components analysis (PCA) for quantitative variables and as a multiple correspondence analysis (MCA) for qualitative variables."
   ]
  },
  {
   "cell_type": "code",
   "execution_count": null,
   "metadata": {
    "colab": {},
    "colab_type": "code",
    "id": "1MOek0dHuWDz"
   },
   "outputs": [],
   "source": [
    "# Churn dataset\n",
    "data_url = 'https://github.com/nchelaru/data-prep/raw/master/telco_cleaned_renamed.csv'\n",
    "y_var = 'Churn'\n",
    "\n",
    "df = pd.read_csv(data_url)\n",
    "\n",
    "# # Super smash bros dataset\n",
    "# data_url = 'https://raw.githubusercontent.com/AdamSpannbauer/twitch_chat/master/data/slippi_data/generated_ssbm.csv'\n",
    "# y_var = 'won'\n",
    "\n",
    "# df = pd.read_csv(data_url).drop(columns=['index'])\n",
    "# df[\"Character\"] = df[\"gamerTag\"].replace(\n",
    "#     {\n",
    "#         \"S2J\": \"Captain Falcon\",\n",
    "#         \"Hungrybox\": \"Jigglypuff\",\n",
    "#         \"Leffen\": \"Fox\",\n",
    "#         \"PewPewU\": \"Marth\",\n",
    "#         \"Infinite Numbers\": \"Ice Climbers\",\n",
    "#         \"Armada\": \"Peach\",\n",
    "#         \"Lucky\": \"Fox\",\n",
    "#         \"Westballz\": \"Falco\",\n",
    "#         \"HugS\": \"Samus\",\n",
    "#         \"Axe\": \"Pikachu\",\n",
    "#         \"SFAT\": \"Fox\",\n",
    "#         \"ChuDat\": \"Ice Climbers\",\n",
    "#         \"Mang0\": \"Fox\",\n",
    "#         \"Plup\": \"Sheik\",\n",
    "#         \"Mew2King\": \"Sheik\",\n",
    "#         \"Ice\": \"Fox\",\n",
    "#     }\n",
    "# )"
   ]
  },
  {
   "cell_type": "code",
   "execution_count": null,
   "metadata": {
    "colab": {
     "base_uri": "https://localhost:8080/",
     "height": 67
    },
    "colab_type": "code",
    "id": "k8wWPg039gGz",
    "outputId": "adb76402-1cc9-471e-fd1b-8c586b3add05"
   },
   "outputs": [],
   "source": [
    "X = df.drop(columns=y_var)\n",
    "y = df[y_var]\n",
    "y.value_counts(normalize=True)"
   ]
  },
  {
   "cell_type": "code",
   "execution_count": null,
   "metadata": {
    "colab": {},
    "colab_type": "code",
    "id": "RPhJMPB4wyJ6"
   },
   "outputs": [],
   "source": [
    "# scale numeric data\n",
    "num_X = X.select_dtypes('number')\n",
    "cat_X = X.select_dtypes('O')"
   ]
  },
  {
   "cell_type": "code",
   "execution_count": null,
   "metadata": {
    "colab": {
     "base_uri": "https://localhost:8080/",
     "height": 299
    },
    "colab_type": "code",
    "id": "MNW2n-m63Ld6",
    "outputId": "241b5c18-8cf3-4a17-a242-8c7f9545a851"
   },
   "outputs": [],
   "source": [
    "scaler = StandardScaler()\n",
    "scaled = scaler.fit_transform(num_X)\n",
    "\n",
    "scaled_df = pd.DataFrame(scaled, index=num_X.index, columns=num_X.columns)\n",
    "\n",
    "scaled_X = pd.concat((scaled_df, cat_X), axis=1)\n",
    "scaled_X.head()"
   ]
  },
  {
   "cell_type": "code",
   "execution_count": null,
   "metadata": {
    "colab": {
     "base_uri": "https://localhost:8080/",
     "height": 50
    },
    "colab_type": "code",
    "id": "AgavZHcnuR2A",
    "outputId": "8e11e27b-beaa-402b-8cbe-1e84bfd97951"
   },
   "outputs": [],
   "source": [
    "# perform famd on x\n",
    "famd = prince.FAMD(n_components=2, random_state=42)\n",
    "famd.fit(scaled_X)"
   ]
  },
  {
   "cell_type": "code",
   "execution_count": null,
   "metadata": {
    "colab": {
     "base_uri": "https://localhost:8080/",
     "height": 404
    },
    "colab_type": "code",
    "id": "n8oLp2HcuSqD",
    "outputId": "1750868f-3868-4329-9e23-a9fadff3738f"
   },
   "outputs": [],
   "source": [
    "# plot row coordinates\n",
    "famd.plot_row_coordinates(scaled_X, color_labels=y)\n",
    "plt.show()"
   ]
  },
  {
   "cell_type": "code",
   "execution_count": null,
   "metadata": {
    "colab": {},
    "colab_type": "code",
    "id": "uAYNNMHlAfEN"
   },
   "outputs": [],
   "source": [
    "num_X = scaled_X.select_dtypes('number')\n",
    "cat_X = scaled_X.select_dtypes('O')"
   ]
  },
  {
   "cell_type": "code",
   "execution_count": null,
   "metadata": {
    "colab": {
     "base_uri": "https://localhost:8080/",
     "height": 279
    },
    "colab_type": "code",
    "id": "RbS3DbIN_LUm",
    "outputId": "6a1a6665-5eab-4343-b872-0fa4e62fe8ba"
   },
   "outputs": [],
   "source": [
    "pca = PCA(2)\n",
    "pcs = pca.fit_transform(num_X)\n",
    "\n",
    "pc_df = pd.DataFrame(pcs, columns=['pc1', 'pc2'])\n",
    "pc_df['label'] = y\n",
    "\n",
    "sns.scatterplot('pc1', 'pc2', hue='label',data=pc_df)\n",
    "plt.show()"
   ]
  },
  {
   "cell_type": "code",
   "execution_count": null,
   "metadata": {
    "colab": {
     "base_uri": "https://localhost:8080/",
     "height": 404
    },
    "colab_type": "code",
    "id": "YLxNeGLV_NDi",
    "outputId": "978a5382-0695-46c0-8428-68c0fe506262"
   },
   "outputs": [],
   "source": [
    "mca = prince.MCA(2)\n",
    "mca.fit(cat_X)\n",
    "\n",
    "mca.plot_coordinates(cat_X, show_column_labels=True, show_row_points=False)\n",
    "plt.legend(loc='center left', bbox_to_anchor=(-0.5, 0.5))\n",
    "plt.show()"
   ]
  },
  {
   "cell_type": "code",
   "execution_count": null,
   "metadata": {
    "colab": {
     "base_uri": "https://localhost:8080/",
     "height": 279
    },
    "colab_type": "code",
    "id": "ztS6Vs7TCYRr",
    "outputId": "ab2c0523-3f02-4474-ea23-b74ef703370b"
   },
   "outputs": [],
   "source": [
    "coords = famd.transform(scaled_X)\n",
    "coords.columns = ['c1', 'c2']\n",
    "coords['label'] = y\n",
    "\n",
    "sns.scatterplot('c1', 'c2', hue='label', data=coords)\n",
    "plt.show()"
   ]
  },
  {
   "cell_type": "code",
   "execution_count": null,
   "metadata": {
    "colab": {
     "base_uri": "https://localhost:8080/",
     "height": 34
    },
    "colab_type": "code",
    "id": "GW35F6sADQzD",
    "outputId": "38f6e816-4105-4469-9aac-9c40900d1884"
   },
   "outputs": [],
   "source": [
    "coords = famd.transform(scaled_X)\n",
    "y = y.replace({'Churn': 1, 'No Churn': 0})\n",
    "\n",
    "model = LogisticRegression()\n",
    "model.fit(coords, y)\n",
    "model.score(coords, y)"
   ]
  }
 ],
 "metadata": {
  "colab": {
   "collapsed_sections": [
    "jas0DkYo_bZT",
    "FuEJY0zjx9Jc",
    "g8ziJr4lbRkG",
    "pwmZW5RWyFZ9",
    "w_tA9fA8SSB6",
    "kF-Xd2RpuQfA"
   ],
   "name": "correspondance_analysis.ipynb",
   "provenance": []
  },
  "kernelspec": {
   "display_name": "Python 3",
   "language": "python",
   "name": "python3"
  },
  "language_info": {
   "codemirror_mode": {
    "name": "ipython",
    "version": 3
   },
   "file_extension": ".py",
   "mimetype": "text/x-python",
   "name": "python",
   "nbconvert_exporter": "python",
   "pygments_lexer": "ipython3",
   "version": "3.7.6"
  }
 },
 "nbformat": 4,
 "nbformat_minor": 1
}
