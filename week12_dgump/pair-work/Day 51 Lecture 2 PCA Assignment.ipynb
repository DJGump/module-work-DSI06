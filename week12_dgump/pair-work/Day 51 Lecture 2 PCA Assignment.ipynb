{
 "cells": [
  {
   "cell_type": "markdown",
   "metadata": {
    "id": "Dl7sU6r-kMdW"
   },
   "source": [
    "# Principal Component Analysis Assignment"
   ]
  },
  {
   "cell_type": "code",
   "execution_count": 1,
   "metadata": {},
   "outputs": [
    {
     "data": {
      "application/javascript": [
       "\n",
       "            setTimeout(function() {\n",
       "                var nbb_cell_id = 1;\n",
       "                var nbb_unformatted_code = \"%reload_ext nb_black\";\n",
       "                var nbb_formatted_code = \"%reload_ext nb_black\";\n",
       "                var nbb_cells = Jupyter.notebook.get_cells();\n",
       "                for (var i = 0; i < nbb_cells.length; ++i) {\n",
       "                    if (nbb_cells[i].input_prompt_number == nbb_cell_id) {\n",
       "                        if (nbb_cells[i].get_text() == nbb_unformatted_code) {\n",
       "                             nbb_cells[i].set_text(nbb_formatted_code);\n",
       "                        }\n",
       "                        break;\n",
       "                    }\n",
       "                }\n",
       "            }, 500);\n",
       "            "
      ],
      "text/plain": [
       "<IPython.core.display.Javascript object>"
      ]
     },
     "metadata": {},
     "output_type": "display_data"
    }
   ],
   "source": [
    "%reload_ext nb_black"
   ]
  },
  {
   "cell_type": "code",
   "execution_count": 2,
   "metadata": {
    "id": "o-K7WD2akMdY"
   },
   "outputs": [
    {
     "data": {
      "application/javascript": [
       "\n",
       "            setTimeout(function() {\n",
       "                var nbb_cell_id = 2;\n",
       "                var nbb_unformatted_code = \"import numpy as np\\nimport pandas as pd\\n\\nfrom sklearn.decomposition import PCA\\nfrom sklearn.ensemble import RandomForestClassifier\\nfrom sklearn.model_selection import train_test_split\\nfrom sklearn.preprocessing import StandardScaler\\n\\nimport seaborn as sns\\nimport matplotlib.pyplot as plt\\n\\n%matplotlib inline\";\n",
       "                var nbb_formatted_code = \"import numpy as np\\nimport pandas as pd\\n\\nfrom sklearn.decomposition import PCA\\nfrom sklearn.ensemble import RandomForestClassifier\\nfrom sklearn.model_selection import train_test_split\\nfrom sklearn.preprocessing import StandardScaler\\n\\nimport seaborn as sns\\nimport matplotlib.pyplot as plt\\n\\n%matplotlib inline\";\n",
       "                var nbb_cells = Jupyter.notebook.get_cells();\n",
       "                for (var i = 0; i < nbb_cells.length; ++i) {\n",
       "                    if (nbb_cells[i].input_prompt_number == nbb_cell_id) {\n",
       "                        if (nbb_cells[i].get_text() == nbb_unformatted_code) {\n",
       "                             nbb_cells[i].set_text(nbb_formatted_code);\n",
       "                        }\n",
       "                        break;\n",
       "                    }\n",
       "                }\n",
       "            }, 500);\n",
       "            "
      ],
      "text/plain": [
       "<IPython.core.display.Javascript object>"
      ]
     },
     "metadata": {},
     "output_type": "display_data"
    }
   ],
   "source": [
    "import numpy as np\n",
    "import pandas as pd\n",
    "\n",
    "from sklearn.decomposition import PCA\n",
    "from sklearn.ensemble import RandomForestClassifier\n",
    "from sklearn.model_selection import train_test_split\n",
    "from sklearn.preprocessing import StandardScaler\n",
    "\n",
    "import seaborn as sns\n",
    "import matplotlib.pyplot as plt\n",
    "\n",
    "%matplotlib inline"
   ]
  },
  {
   "cell_type": "markdown",
   "metadata": {
    "id": "iMXplj9FkMdh"
   },
   "source": [
    "### Import the [PitchFX data set](https://docs.google.com/spreadsheets/d/1pmBtSw7v_tU_dIX1-4E8_Q7wC43fDs6LGDQzN49-ffk/export?format=csv)."
   ]
  },
  {
   "cell_type": "code",
   "execution_count": 3,
   "metadata": {
    "id": "XrExc5-BkMdi"
   },
   "outputs": [
    {
     "data": {
      "application/javascript": [
       "\n",
       "            setTimeout(function() {\n",
       "                var nbb_cell_id = 3;\n",
       "                var nbb_unformatted_code = \"data = pd.read_csv('https://docs.google.com/spreadsheets/d/1pmBtSw7v_tU_dIX1-4E8_Q7wC43fDs6LGDQzN49-ffk/export?format=csv')\";\n",
       "                var nbb_formatted_code = \"data = pd.read_csv(\\n    \\\"https://docs.google.com/spreadsheets/d/1pmBtSw7v_tU_dIX1-4E8_Q7wC43fDs6LGDQzN49-ffk/export?format=csv\\\"\\n)\";\n",
       "                var nbb_cells = Jupyter.notebook.get_cells();\n",
       "                for (var i = 0; i < nbb_cells.length; ++i) {\n",
       "                    if (nbb_cells[i].input_prompt_number == nbb_cell_id) {\n",
       "                        if (nbb_cells[i].get_text() == nbb_unformatted_code) {\n",
       "                             nbb_cells[i].set_text(nbb_formatted_code);\n",
       "                        }\n",
       "                        break;\n",
       "                    }\n",
       "                }\n",
       "            }, 500);\n",
       "            "
      ],
      "text/plain": [
       "<IPython.core.display.Javascript object>"
      ]
     },
     "metadata": {},
     "output_type": "display_data"
    }
   ],
   "source": [
    "data = pd.read_csv(\n",
    "    \"https://docs.google.com/spreadsheets/d/1pmBtSw7v_tU_dIX1-4E8_Q7wC43fDs6LGDQzN49-ffk/export?format=csv\"\n",
    ")"
   ]
  },
  {
   "cell_type": "markdown",
   "metadata": {
    "id": "v1Da9H9SkMdm"
   },
   "source": [
    "### Keep only the pitch type and the numeric columns (exluding ID fields).\n",
    "\n",
    "* Drop any remaining records that contain null values.\n",
    "* Consider `pitchType` as `y`/target and the remaining columns to be `X`/features."
   ]
  },
  {
   "cell_type": "code",
   "execution_count": 5,
   "metadata": {
    "id": "yoWXyJLWkMdm"
   },
   "outputs": [
    {
     "name": "stdout",
     "output_type": "stream",
     "text": [
      "<class 'pandas.core.frame.DataFrame'>\n",
      "RangeIndex: 79931 entries, 0 to 79930\n",
      "Data columns (total 35 columns):\n",
      " #   Column              Non-Null Count  Dtype  \n",
      "---  ------              --------------  -----  \n",
      " 0   gameString          79931 non-null  object \n",
      " 1   gameDate            79931 non-null  object \n",
      " 2   visitor             79931 non-null  object \n",
      " 3   home                79931 non-null  object \n",
      " 4   inning              79931 non-null  int64  \n",
      " 5   side                79931 non-null  object \n",
      " 6   balls               79931 non-null  int64  \n",
      " 7   strikes             79931 non-null  int64  \n",
      " 8   outs                79931 non-null  int64  \n",
      " 9   batterId            79931 non-null  int64  \n",
      " 10  batterName          79931 non-null  object \n",
      " 11  batterHand          79931 non-null  object \n",
      " 12  batterPosition      79931 non-null  object \n",
      " 13  pitcherId           79931 non-null  int64  \n",
      " 14  pitcherName         79931 non-null  object \n",
      " 15  pitcherHand         79931 non-null  object \n",
      " 16  timesFaced          79931 non-null  int64  \n",
      " 17  catcherId           79931 non-null  int64  \n",
      " 18  catcher             79931 non-null  object \n",
      " 19  umpireId            79931 non-null  int64  \n",
      " 20  umpire              79931 non-null  object \n",
      " 21  probCalledStrike    79921 non-null  float64\n",
      " 22  pitchResult         79931 non-null  object \n",
      " 23  pitchType           79931 non-null  object \n",
      " 24  releaseVelocity     79931 non-null  float64\n",
      " 25  spinRate            73734 non-null  float64\n",
      " 26  spinDir             79620 non-null  float64\n",
      " 27  locationHoriz       79931 non-null  float64\n",
      " 28  locationVert        79931 non-null  float64\n",
      " 29  movementHoriz       79931 non-null  float64\n",
      " 30  movementVert        79931 non-null  float64\n",
      " 31  battedBallType      14499 non-null  object \n",
      " 32  battedBallAngle     14499 non-null  float64\n",
      " 33  battedBallDistance  14499 non-null  float64\n",
      " 34  paResult            20591 non-null  object \n",
      "dtypes: float64(10), int64(9), object(16)\n",
      "memory usage: 21.3+ MB\n"
     ]
    },
    {
     "data": {
      "application/javascript": [
       "\n",
       "            setTimeout(function() {\n",
       "                var nbb_cell_id = 5;\n",
       "                var nbb_unformatted_code = \"data.head()\\ndata.info()\";\n",
       "                var nbb_formatted_code = \"data.head()\\ndata.info()\";\n",
       "                var nbb_cells = Jupyter.notebook.get_cells();\n",
       "                for (var i = 0; i < nbb_cells.length; ++i) {\n",
       "                    if (nbb_cells[i].input_prompt_number == nbb_cell_id) {\n",
       "                        if (nbb_cells[i].get_text() == nbb_unformatted_code) {\n",
       "                             nbb_cells[i].set_text(nbb_formatted_code);\n",
       "                        }\n",
       "                        break;\n",
       "                    }\n",
       "                }\n",
       "            }, 500);\n",
       "            "
      ],
      "text/plain": [
       "<IPython.core.display.Javascript object>"
      ]
     },
     "metadata": {},
     "output_type": "display_data"
    }
   ],
   "source": [
    "data.head()\n",
    "data.info()"
   ]
  },
  {
   "cell_type": "code",
   "execution_count": 8,
   "metadata": {},
   "outputs": [
    {
     "data": {
      "application/javascript": [
       "\n",
       "            setTimeout(function() {\n",
       "                var nbb_cell_id = 8;\n",
       "                var nbb_unformatted_code = \"X = data.select_dtypes(include=\\\"number\\\")\\ny = data[\\\"pitchType\\\"]\";\n",
       "                var nbb_formatted_code = \"X = data.select_dtypes(include=\\\"number\\\")\\ny = data[\\\"pitchType\\\"]\";\n",
       "                var nbb_cells = Jupyter.notebook.get_cells();\n",
       "                for (var i = 0; i < nbb_cells.length; ++i) {\n",
       "                    if (nbb_cells[i].input_prompt_number == nbb_cell_id) {\n",
       "                        if (nbb_cells[i].get_text() == nbb_unformatted_code) {\n",
       "                             nbb_cells[i].set_text(nbb_formatted_code);\n",
       "                        }\n",
       "                        break;\n",
       "                    }\n",
       "                }\n",
       "            }, 500);\n",
       "            "
      ],
      "text/plain": [
       "<IPython.core.display.Javascript object>"
      ]
     },
     "metadata": {},
     "output_type": "display_data"
    }
   ],
   "source": [
    "X = data.select_dtypes(include=\"number\")\n",
    "y = data[\"pitchType\"]"
   ]
  },
  {
   "cell_type": "code",
   "execution_count": 34,
   "metadata": {},
   "outputs": [
    {
     "data": {
      "application/javascript": [
       "\n",
       "            setTimeout(function() {\n",
       "                var nbb_cell_id = 34;\n",
       "                var nbb_unformatted_code = \"X = X.dropna()\\nX = X.drop(columns=[\\\"batterId\\\", \\\"pitcherId\\\", \\\"catcherId\\\", \\\"umpireId\\\"])\";\n",
       "                var nbb_formatted_code = \"X = X.dropna()\\nX = X.drop(columns=[\\\"batterId\\\", \\\"pitcherId\\\", \\\"catcherId\\\", \\\"umpireId\\\"])\";\n",
       "                var nbb_cells = Jupyter.notebook.get_cells();\n",
       "                for (var i = 0; i < nbb_cells.length; ++i) {\n",
       "                    if (nbb_cells[i].input_prompt_number == nbb_cell_id) {\n",
       "                        if (nbb_cells[i].get_text() == nbb_unformatted_code) {\n",
       "                             nbb_cells[i].set_text(nbb_formatted_code);\n",
       "                        }\n",
       "                        break;\n",
       "                    }\n",
       "                }\n",
       "            }, 500);\n",
       "            "
      ],
      "text/plain": [
       "<IPython.core.display.Javascript object>"
      ]
     },
     "metadata": {},
     "output_type": "display_data"
    }
   ],
   "source": [
    "X = X.dropna()\n",
    "X = X.drop(columns=[\"batterId\", \"pitcherId\", \"catcherId\", \"umpireId\"])"
   ]
  },
  {
   "cell_type": "code",
   "execution_count": 74,
   "metadata": {},
   "outputs": [
    {
     "data": {
      "application/javascript": [
       "\n",
       "            setTimeout(function() {\n",
       "                var nbb_cell_id = 74;\n",
       "                var nbb_unformatted_code = \"y = y.iloc[X.index]\";\n",
       "                var nbb_formatted_code = \"y = y.iloc[X.index]\";\n",
       "                var nbb_cells = Jupyter.notebook.get_cells();\n",
       "                for (var i = 0; i < nbb_cells.length; ++i) {\n",
       "                    if (nbb_cells[i].input_prompt_number == nbb_cell_id) {\n",
       "                        if (nbb_cells[i].get_text() == nbb_unformatted_code) {\n",
       "                             nbb_cells[i].set_text(nbb_formatted_code);\n",
       "                        }\n",
       "                        break;\n",
       "                    }\n",
       "                }\n",
       "            }, 500);\n",
       "            "
      ],
      "text/plain": [
       "<IPython.core.display.Javascript object>"
      ]
     },
     "metadata": {},
     "output_type": "display_data"
    }
   ],
   "source": [
    "y = y.iloc[X.index]"
   ]
  },
  {
   "cell_type": "markdown",
   "metadata": {
    "id": "OG5KI6rokMdq"
   },
   "source": [
    "### Reduce the dimensionality of the data using PCA to two components.\n",
    "\n",
    "Don't forget to scale."
   ]
  },
  {
   "cell_type": "code",
   "execution_count": 35,
   "metadata": {
    "id": "0q4zR46ekMdr"
   },
   "outputs": [
    {
     "data": {
      "text/html": [
       "<div>\n",
       "<style scoped>\n",
       "    .dataframe tbody tr th:only-of-type {\n",
       "        vertical-align: middle;\n",
       "    }\n",
       "\n",
       "    .dataframe tbody tr th {\n",
       "        vertical-align: top;\n",
       "    }\n",
       "\n",
       "    .dataframe thead th {\n",
       "        text-align: right;\n",
       "    }\n",
       "</style>\n",
       "<table border=\"1\" class=\"dataframe\">\n",
       "  <thead>\n",
       "    <tr style=\"text-align: right;\">\n",
       "      <th></th>\n",
       "      <th>inning</th>\n",
       "      <th>balls</th>\n",
       "      <th>strikes</th>\n",
       "      <th>outs</th>\n",
       "      <th>timesFaced</th>\n",
       "      <th>probCalledStrike</th>\n",
       "      <th>releaseVelocity</th>\n",
       "      <th>spinRate</th>\n",
       "      <th>spinDir</th>\n",
       "      <th>locationHoriz</th>\n",
       "      <th>locationVert</th>\n",
       "      <th>movementHoriz</th>\n",
       "      <th>movementVert</th>\n",
       "      <th>battedBallAngle</th>\n",
       "      <th>battedBallDistance</th>\n",
       "    </tr>\n",
       "  </thead>\n",
       "  <tbody>\n",
       "    <tr>\n",
       "      <th>0</th>\n",
       "      <td>-1.513389</td>\n",
       "      <td>-1.105556</td>\n",
       "      <td>1.158968</td>\n",
       "      <td>-1.160907</td>\n",
       "      <td>-0.762459</td>\n",
       "      <td>0.660713</td>\n",
       "      <td>1.382435</td>\n",
       "      <td>-0.144178</td>\n",
       "      <td>0.222890</td>\n",
       "      <td>0.810957</td>\n",
       "      <td>-0.129126</td>\n",
       "      <td>-0.659660</td>\n",
       "      <td>0.924665</td>\n",
       "      <td>0.912569</td>\n",
       "      <td>1.161476</td>\n",
       "    </tr>\n",
       "    <tr>\n",
       "      <th>1</th>\n",
       "      <td>-1.513389</td>\n",
       "      <td>-1.105556</td>\n",
       "      <td>1.158968</td>\n",
       "      <td>0.062452</td>\n",
       "      <td>-0.762459</td>\n",
       "      <td>-1.279673</td>\n",
       "      <td>1.698944</td>\n",
       "      <td>-0.419166</td>\n",
       "      <td>0.356932</td>\n",
       "      <td>-0.231292</td>\n",
       "      <td>-1.595620</td>\n",
       "      <td>-1.132326</td>\n",
       "      <td>0.549776</td>\n",
       "      <td>-0.649996</td>\n",
       "      <td>-0.820546</td>\n",
       "    </tr>\n",
       "    <tr>\n",
       "      <th>2</th>\n",
       "      <td>-1.513389</td>\n",
       "      <td>-0.108612</td>\n",
       "      <td>-0.082995</td>\n",
       "      <td>1.285810</td>\n",
       "      <td>-0.762459</td>\n",
       "      <td>0.588735</td>\n",
       "      <td>1.347267</td>\n",
       "      <td>-0.816327</td>\n",
       "      <td>0.302882</td>\n",
       "      <td>-0.360916</td>\n",
       "      <td>-0.613279</td>\n",
       "      <td>-0.783965</td>\n",
       "      <td>0.553873</td>\n",
       "      <td>-1.337017</td>\n",
       "      <td>-1.059600</td>\n",
       "    </tr>\n",
       "    <tr>\n",
       "      <th>3</th>\n",
       "      <td>-1.513389</td>\n",
       "      <td>-0.108612</td>\n",
       "      <td>-0.082995</td>\n",
       "      <td>-1.160907</td>\n",
       "      <td>-0.762459</td>\n",
       "      <td>0.015917</td>\n",
       "      <td>0.679082</td>\n",
       "      <td>0.774600</td>\n",
       "      <td>-0.768952</td>\n",
       "      <td>-0.786574</td>\n",
       "      <td>-0.844831</td>\n",
       "      <td>1.537931</td>\n",
       "      <td>1.121328</td>\n",
       "      <td>-1.270671</td>\n",
       "      <td>0.513220</td>\n",
       "    </tr>\n",
       "    <tr>\n",
       "      <th>4</th>\n",
       "      <td>-1.513389</td>\n",
       "      <td>0.888332</td>\n",
       "      <td>1.158968</td>\n",
       "      <td>-1.160907</td>\n",
       "      <td>-0.762459</td>\n",
       "      <td>0.678707</td>\n",
       "      <td>0.608747</td>\n",
       "      <td>0.448632</td>\n",
       "      <td>-0.803377</td>\n",
       "      <td>-1.037064</td>\n",
       "      <td>0.574300</td>\n",
       "      <td>1.132789</td>\n",
       "      <td>0.834528</td>\n",
       "      <td>-0.021345</td>\n",
       "      <td>0.985823</td>\n",
       "    </tr>\n",
       "    <tr>\n",
       "      <th>...</th>\n",
       "      <td>...</td>\n",
       "      <td>...</td>\n",
       "      <td>...</td>\n",
       "      <td>...</td>\n",
       "      <td>...</td>\n",
       "      <td>...</td>\n",
       "      <td>...</td>\n",
       "      <td>...</td>\n",
       "      <td>...</td>\n",
       "      <td>...</td>\n",
       "      <td>...</td>\n",
       "      <td>...</td>\n",
       "      <td>...</td>\n",
       "      <td>...</td>\n",
       "      <td>...</td>\n",
       "    </tr>\n",
       "    <tr>\n",
       "      <th>13433</th>\n",
       "      <td>1.179581</td>\n",
       "      <td>-0.108612</td>\n",
       "      <td>-1.324958</td>\n",
       "      <td>0.062452</td>\n",
       "      <td>-0.762459</td>\n",
       "      <td>-0.083052</td>\n",
       "      <td>-0.797958</td>\n",
       "      <td>-4.572501</td>\n",
       "      <td>-1.285412</td>\n",
       "      <td>0.973863</td>\n",
       "      <td>-1.334247</td>\n",
       "      <td>0.698488</td>\n",
       "      <td>-0.824818</td>\n",
       "      <td>1.315355</td>\n",
       "      <td>-1.503402</td>\n",
       "    </tr>\n",
       "    <tr>\n",
       "      <th>13434</th>\n",
       "      <td>1.179581</td>\n",
       "      <td>-0.108612</td>\n",
       "      <td>1.158968</td>\n",
       "      <td>1.285810</td>\n",
       "      <td>-0.762459</td>\n",
       "      <td>-2.242368</td>\n",
       "      <td>-0.815542</td>\n",
       "      <td>-5.006514</td>\n",
       "      <td>-0.914831</td>\n",
       "      <td>2.536361</td>\n",
       "      <td>-1.888568</td>\n",
       "      <td>0.489778</td>\n",
       "      <td>-0.677321</td>\n",
       "      <td>0.506520</td>\n",
       "      <td>-0.988336</td>\n",
       "    </tr>\n",
       "    <tr>\n",
       "      <th>13435</th>\n",
       "      <td>1.564291</td>\n",
       "      <td>-1.105556</td>\n",
       "      <td>1.158968</td>\n",
       "      <td>-1.160907</td>\n",
       "      <td>-0.762459</td>\n",
       "      <td>-1.351650</td>\n",
       "      <td>-0.129773</td>\n",
       "      <td>-3.942950</td>\n",
       "      <td>-0.957570</td>\n",
       "      <td>1.219099</td>\n",
       "      <td>1.419815</td>\n",
       "      <td>0.703092</td>\n",
       "      <td>-0.480658</td>\n",
       "      <td>-3.912530</td>\n",
       "      <td>-1.406581</td>\n",
       "    </tr>\n",
       "    <tr>\n",
       "      <th>13436</th>\n",
       "      <td>1.564291</td>\n",
       "      <td>-0.108612</td>\n",
       "      <td>1.158968</td>\n",
       "      <td>0.062452</td>\n",
       "      <td>-0.762459</td>\n",
       "      <td>-2.113409</td>\n",
       "      <td>-0.411114</td>\n",
       "      <td>-5.028078</td>\n",
       "      <td>-1.308696</td>\n",
       "      <td>2.193032</td>\n",
       "      <td>-0.415057</td>\n",
       "      <td>0.566510</td>\n",
       "      <td>-0.900616</td>\n",
       "      <td>1.077889</td>\n",
       "      <td>-1.675320</td>\n",
       "    </tr>\n",
       "    <tr>\n",
       "      <th>13437</th>\n",
       "      <td>1.564291</td>\n",
       "      <td>0.888332</td>\n",
       "      <td>1.158968</td>\n",
       "      <td>1.285810</td>\n",
       "      <td>-0.762459</td>\n",
       "      <td>0.630722</td>\n",
       "      <td>0.837337</td>\n",
       "      <td>-0.175901</td>\n",
       "      <td>-0.207991</td>\n",
       "      <td>-0.453755</td>\n",
       "      <td>-0.943065</td>\n",
       "      <td>0.330177</td>\n",
       "      <td>1.084454</td>\n",
       "      <td>0.809969</td>\n",
       "      <td>-0.791451</td>\n",
       "    </tr>\n",
       "  </tbody>\n",
       "</table>\n",
       "<p>13438 rows × 15 columns</p>\n",
       "</div>"
      ],
      "text/plain": [
       "         inning     balls   strikes      outs  timesFaced  probCalledStrike  \\\n",
       "0     -1.513389 -1.105556  1.158968 -1.160907   -0.762459          0.660713   \n",
       "1     -1.513389 -1.105556  1.158968  0.062452   -0.762459         -1.279673   \n",
       "2     -1.513389 -0.108612 -0.082995  1.285810   -0.762459          0.588735   \n",
       "3     -1.513389 -0.108612 -0.082995 -1.160907   -0.762459          0.015917   \n",
       "4     -1.513389  0.888332  1.158968 -1.160907   -0.762459          0.678707   \n",
       "...         ...       ...       ...       ...         ...               ...   \n",
       "13433  1.179581 -0.108612 -1.324958  0.062452   -0.762459         -0.083052   \n",
       "13434  1.179581 -0.108612  1.158968  1.285810   -0.762459         -2.242368   \n",
       "13435  1.564291 -1.105556  1.158968 -1.160907   -0.762459         -1.351650   \n",
       "13436  1.564291 -0.108612  1.158968  0.062452   -0.762459         -2.113409   \n",
       "13437  1.564291  0.888332  1.158968  1.285810   -0.762459          0.630722   \n",
       "\n",
       "       releaseVelocity  spinRate   spinDir  locationHoriz  locationVert  \\\n",
       "0             1.382435 -0.144178  0.222890       0.810957     -0.129126   \n",
       "1             1.698944 -0.419166  0.356932      -0.231292     -1.595620   \n",
       "2             1.347267 -0.816327  0.302882      -0.360916     -0.613279   \n",
       "3             0.679082  0.774600 -0.768952      -0.786574     -0.844831   \n",
       "4             0.608747  0.448632 -0.803377      -1.037064      0.574300   \n",
       "...                ...       ...       ...            ...           ...   \n",
       "13433        -0.797958 -4.572501 -1.285412       0.973863     -1.334247   \n",
       "13434        -0.815542 -5.006514 -0.914831       2.536361     -1.888568   \n",
       "13435        -0.129773 -3.942950 -0.957570       1.219099      1.419815   \n",
       "13436        -0.411114 -5.028078 -1.308696       2.193032     -0.415057   \n",
       "13437         0.837337 -0.175901 -0.207991      -0.453755     -0.943065   \n",
       "\n",
       "       movementHoriz  movementVert  battedBallAngle  battedBallDistance  \n",
       "0          -0.659660      0.924665         0.912569            1.161476  \n",
       "1          -1.132326      0.549776        -0.649996           -0.820546  \n",
       "2          -0.783965      0.553873        -1.337017           -1.059600  \n",
       "3           1.537931      1.121328        -1.270671            0.513220  \n",
       "4           1.132789      0.834528        -0.021345            0.985823  \n",
       "...              ...           ...              ...                 ...  \n",
       "13433       0.698488     -0.824818         1.315355           -1.503402  \n",
       "13434       0.489778     -0.677321         0.506520           -0.988336  \n",
       "13435       0.703092     -0.480658        -3.912530           -1.406581  \n",
       "13436       0.566510     -0.900616         1.077889           -1.675320  \n",
       "13437       0.330177      1.084454         0.809969           -0.791451  \n",
       "\n",
       "[13438 rows x 15 columns]"
      ]
     },
     "execution_count": 35,
     "metadata": {},
     "output_type": "execute_result"
    },
    {
     "data": {
      "application/javascript": [
       "\n",
       "            setTimeout(function() {\n",
       "                var nbb_cell_id = 35;\n",
       "                var nbb_unformatted_code = \"scaler = StandardScaler()\\n\\nX_std = pd.DataFrame(scaler.fit_transform(X), columns=X.columns)\\nX_std\";\n",
       "                var nbb_formatted_code = \"scaler = StandardScaler()\\n\\nX_std = pd.DataFrame(scaler.fit_transform(X), columns=X.columns)\\nX_std\";\n",
       "                var nbb_cells = Jupyter.notebook.get_cells();\n",
       "                for (var i = 0; i < nbb_cells.length; ++i) {\n",
       "                    if (nbb_cells[i].input_prompt_number == nbb_cell_id) {\n",
       "                        if (nbb_cells[i].get_text() == nbb_unformatted_code) {\n",
       "                             nbb_cells[i].set_text(nbb_formatted_code);\n",
       "                        }\n",
       "                        break;\n",
       "                    }\n",
       "                }\n",
       "            }, 500);\n",
       "            "
      ],
      "text/plain": [
       "<IPython.core.display.Javascript object>"
      ]
     },
     "metadata": {},
     "output_type": "display_data"
    }
   ],
   "source": [
    "scaler = StandardScaler()\n",
    "\n",
    "X_std = pd.DataFrame(scaler.fit_transform(X), columns=X.columns)\n",
    "X_std"
   ]
  },
  {
   "cell_type": "code",
   "execution_count": 54,
   "metadata": {
    "scrolled": true
   },
   "outputs": [
    {
     "data": {
      "text/html": [
       "<div>\n",
       "<style scoped>\n",
       "    .dataframe tbody tr th:only-of-type {\n",
       "        vertical-align: middle;\n",
       "    }\n",
       "\n",
       "    .dataframe tbody tr th {\n",
       "        vertical-align: top;\n",
       "    }\n",
       "\n",
       "    .dataframe thead th {\n",
       "        text-align: right;\n",
       "    }\n",
       "</style>\n",
       "<table border=\"1\" class=\"dataframe\">\n",
       "  <thead>\n",
       "    <tr style=\"text-align: right;\">\n",
       "      <th></th>\n",
       "      <th>0</th>\n",
       "      <th>1</th>\n",
       "      <th>2</th>\n",
       "      <th>3</th>\n",
       "      <th>4</th>\n",
       "    </tr>\n",
       "  </thead>\n",
       "  <tbody>\n",
       "    <tr>\n",
       "      <th>0</th>\n",
       "      <td>-1.333228</td>\n",
       "      <td>-0.994247</td>\n",
       "      <td>0.389736</td>\n",
       "      <td>0.474908</td>\n",
       "      <td>-0.862031</td>\n",
       "    </tr>\n",
       "    <tr>\n",
       "      <th>1</th>\n",
       "      <td>-1.130163</td>\n",
       "      <td>1.454090</td>\n",
       "      <td>0.590936</td>\n",
       "      <td>1.905994</td>\n",
       "      <td>0.992146</td>\n",
       "    </tr>\n",
       "    <tr>\n",
       "      <th>2</th>\n",
       "      <td>-1.397807</td>\n",
       "      <td>0.598976</td>\n",
       "      <td>-0.080410</td>\n",
       "      <td>0.421266</td>\n",
       "      <td>1.122994</td>\n",
       "    </tr>\n",
       "    <tr>\n",
       "      <th>3</th>\n",
       "      <td>0.277755</td>\n",
       "      <td>-1.146580</td>\n",
       "      <td>-0.022014</td>\n",
       "      <td>0.122933</td>\n",
       "      <td>2.009684</td>\n",
       "    </tr>\n",
       "    <tr>\n",
       "      <th>4</th>\n",
       "      <td>-0.107924</td>\n",
       "      <td>-1.558425</td>\n",
       "      <td>1.373204</td>\n",
       "      <td>-0.934450</td>\n",
       "      <td>1.028121</td>\n",
       "    </tr>\n",
       "    <tr>\n",
       "      <th>...</th>\n",
       "      <td>...</td>\n",
       "      <td>...</td>\n",
       "      <td>...</td>\n",
       "      <td>...</td>\n",
       "      <td>...</td>\n",
       "    </tr>\n",
       "    <tr>\n",
       "      <th>13433</th>\n",
       "      <td>1.660759</td>\n",
       "      <td>1.683692</td>\n",
       "      <td>-1.032662</td>\n",
       "      <td>1.381107</td>\n",
       "      <td>-2.280506</td>\n",
       "    </tr>\n",
       "    <tr>\n",
       "      <th>13434</th>\n",
       "      <td>2.265308</td>\n",
       "      <td>2.650734</td>\n",
       "      <td>1.183877</td>\n",
       "      <td>2.160482</td>\n",
       "      <td>-2.498047</td>\n",
       "    </tr>\n",
       "    <tr>\n",
       "      <th>13435</th>\n",
       "      <td>1.196673</td>\n",
       "      <td>1.407200</td>\n",
       "      <td>0.022789</td>\n",
       "      <td>0.376533</td>\n",
       "      <td>2.237838</td>\n",
       "    </tr>\n",
       "    <tr>\n",
       "      <th>13436</th>\n",
       "      <td>2.061638</td>\n",
       "      <td>2.080009</td>\n",
       "      <td>1.218267</td>\n",
       "      <td>2.359507</td>\n",
       "      <td>-2.278511</td>\n",
       "    </tr>\n",
       "    <tr>\n",
       "      <th>13437</th>\n",
       "      <td>-0.499144</td>\n",
       "      <td>-0.301863</td>\n",
       "      <td>1.568744</td>\n",
       "      <td>0.709392</td>\n",
       "      <td>-0.111524</td>\n",
       "    </tr>\n",
       "  </tbody>\n",
       "</table>\n",
       "<p>13438 rows × 5 columns</p>\n",
       "</div>"
      ],
      "text/plain": [
       "              0         1         2         3         4\n",
       "0     -1.333228 -0.994247  0.389736  0.474908 -0.862031\n",
       "1     -1.130163  1.454090  0.590936  1.905994  0.992146\n",
       "2     -1.397807  0.598976 -0.080410  0.421266  1.122994\n",
       "3      0.277755 -1.146580 -0.022014  0.122933  2.009684\n",
       "4     -0.107924 -1.558425  1.373204 -0.934450  1.028121\n",
       "...         ...       ...       ...       ...       ...\n",
       "13433  1.660759  1.683692 -1.032662  1.381107 -2.280506\n",
       "13434  2.265308  2.650734  1.183877  2.160482 -2.498047\n",
       "13435  1.196673  1.407200  0.022789  0.376533  2.237838\n",
       "13436  2.061638  2.080009  1.218267  2.359507 -2.278511\n",
       "13437 -0.499144 -0.301863  1.568744  0.709392 -0.111524\n",
       "\n",
       "[13438 rows x 5 columns]"
      ]
     },
     "execution_count": 54,
     "metadata": {},
     "output_type": "execute_result"
    },
    {
     "data": {
      "application/javascript": [
       "\n",
       "            setTimeout(function() {\n",
       "                var nbb_cell_id = 54;\n",
       "                var nbb_unformatted_code = \"pca = PCA(n_components=5)\\npcs = pca.fit_transform(X_std)\\npc_df = pd.DataFrame(pcs)\\npc_df\";\n",
       "                var nbb_formatted_code = \"pca = PCA(n_components=5)\\npcs = pca.fit_transform(X_std)\\npc_df = pd.DataFrame(pcs)\\npc_df\";\n",
       "                var nbb_cells = Jupyter.notebook.get_cells();\n",
       "                for (var i = 0; i < nbb_cells.length; ++i) {\n",
       "                    if (nbb_cells[i].input_prompt_number == nbb_cell_id) {\n",
       "                        if (nbb_cells[i].get_text() == nbb_unformatted_code) {\n",
       "                             nbb_cells[i].set_text(nbb_formatted_code);\n",
       "                        }\n",
       "                        break;\n",
       "                    }\n",
       "                }\n",
       "            }, 500);\n",
       "            "
      ],
      "text/plain": [
       "<IPython.core.display.Javascript object>"
      ]
     },
     "metadata": {},
     "output_type": "display_data"
    }
   ],
   "source": [
    "pca = PCA(n_components=5)\n",
    "pcs = pca.fit_transform(X_std)\n",
    "pc_df = pd.DataFrame(pcs)\n",
    "pc_df"
   ]
  },
  {
   "cell_type": "code",
   "execution_count": 67,
   "metadata": {},
   "outputs": [
    {
     "data": {
      "application/javascript": [
       "\n",
       "            setTimeout(function() {\n",
       "                var nbb_cell_id = 67;\n",
       "                var nbb_unformatted_code = \"# sns.scatterplot(\\\"pc1\\\", \\\"pc2\\\", data=pc_df)\";\n",
       "                var nbb_formatted_code = \"# sns.scatterplot(\\\"pc1\\\", \\\"pc2\\\", data=pc_df)\";\n",
       "                var nbb_cells = Jupyter.notebook.get_cells();\n",
       "                for (var i = 0; i < nbb_cells.length; ++i) {\n",
       "                    if (nbb_cells[i].input_prompt_number == nbb_cell_id) {\n",
       "                        if (nbb_cells[i].get_text() == nbb_unformatted_code) {\n",
       "                             nbb_cells[i].set_text(nbb_formatted_code);\n",
       "                        }\n",
       "                        break;\n",
       "                    }\n",
       "                }\n",
       "            }, 500);\n",
       "            "
      ],
      "text/plain": [
       "<IPython.core.display.Javascript object>"
      ]
     },
     "metadata": {},
     "output_type": "display_data"
    }
   ],
   "source": [
    "# sns.scatterplot(\"pc1\", \"pc2\", data=pc_df)"
   ]
  },
  {
   "cell_type": "markdown",
   "metadata": {
    "id": "t8robVz0kMdu"
   },
   "source": [
    "### Compute the explained variance for new data set."
   ]
  },
  {
   "cell_type": "code",
   "execution_count": 56,
   "metadata": {
    "id": "vXoOSvKbkMdv"
   },
   "outputs": [
    {
     "data": {
      "text/plain": [
       "array([0.1591655 , 0.10825072, 0.09564353, 0.07848883, 0.07189134])"
      ]
     },
     "execution_count": 56,
     "metadata": {},
     "output_type": "execute_result"
    },
    {
     "data": {
      "application/javascript": [
       "\n",
       "            setTimeout(function() {\n",
       "                var nbb_cell_id = 56;\n",
       "                var nbb_unformatted_code = \"pca_expl = pca.explained_variance_ratio_\\npca_expl\";\n",
       "                var nbb_formatted_code = \"pca_expl = pca.explained_variance_ratio_\\npca_expl\";\n",
       "                var nbb_cells = Jupyter.notebook.get_cells();\n",
       "                for (var i = 0; i < nbb_cells.length; ++i) {\n",
       "                    if (nbb_cells[i].input_prompt_number == nbb_cell_id) {\n",
       "                        if (nbb_cells[i].get_text() == nbb_unformatted_code) {\n",
       "                             nbb_cells[i].set_text(nbb_formatted_code);\n",
       "                        }\n",
       "                        break;\n",
       "                    }\n",
       "                }\n",
       "            }, 500);\n",
       "            "
      ],
      "text/plain": [
       "<IPython.core.display.Javascript object>"
      ]
     },
     "metadata": {},
     "output_type": "display_data"
    }
   ],
   "source": [
    "pca_expl = pca.explained_variance_ratio_\n",
    "pca_expl"
   ]
  },
  {
   "cell_type": "markdown",
   "metadata": {
    "id": "qxawC8DrkMd1"
   },
   "source": [
    "### Generate a scatter plot that visualizes how the component values are distributed."
   ]
  },
  {
   "cell_type": "code",
   "execution_count": 39,
   "metadata": {
    "id": "kEsUKRK3kMd1"
   },
   "outputs": [
    {
     "data": {
      "text/plain": [
       "<matplotlib.axes._subplots.AxesSubplot at 0x20d7552cc48>"
      ]
     },
     "execution_count": 39,
     "metadata": {},
     "output_type": "execute_result"
    },
    {
     "data": {
      "image/png": "[encoded data removed]",
      "text/plain": [
       "<Figure size 432x288 with 1 Axes>"
      ]
     },
     "metadata": {
      "needs_background": "light"
     },
     "output_type": "display_data"
    },
    {
     "data": {
      "application/javascript": [
       "\n",
       "            setTimeout(function() {\n",
       "                var nbb_cell_id = 39;\n",
       "                var nbb_unformatted_code = \"sns.scatterplot(\\\"pc1\\\", \\\"pc2\\\", data=pc_df)\";\n",
       "                var nbb_formatted_code = \"sns.scatterplot(\\\"pc1\\\", \\\"pc2\\\", data=pc_df)\";\n",
       "                var nbb_cells = Jupyter.notebook.get_cells();\n",
       "                for (var i = 0; i < nbb_cells.length; ++i) {\n",
       "                    if (nbb_cells[i].input_prompt_number == nbb_cell_id) {\n",
       "                        if (nbb_cells[i].get_text() == nbb_unformatted_code) {\n",
       "                             nbb_cells[i].set_text(nbb_formatted_code);\n",
       "                        }\n",
       "                        break;\n",
       "                    }\n",
       "                }\n",
       "            }, 500);\n",
       "            "
      ],
      "text/plain": [
       "<IPython.core.display.Javascript object>"
      ]
     },
     "metadata": {},
     "output_type": "display_data"
    }
   ],
   "source": [
    "# sns.scatterplot(\"pc1\", \"pc2\", data=pc_df)"
   ]
  },
  {
   "cell_type": "code",
   "execution_count": null,
   "metadata": {},
   "outputs": [],
   "source": []
  },
  {
   "cell_type": "markdown",
   "metadata": {
    "id": "tv6PFBWukMd5"
   },
   "source": [
    "### Create a line plot that shows the explained variance by number of components."
   ]
  },
  {
   "cell_type": "code",
   "execution_count": 57,
   "metadata": {
    "id": "mNeShOrJkMd5"
   },
   "outputs": [
    {
     "data": {
      "application/javascript": [
       "\n",
       "            setTimeout(function() {\n",
       "                var nbb_cell_id = 57;\n",
       "                var nbb_unformatted_code = \"pca_cumsum = np.cumsum(pca_expl)\";\n",
       "                var nbb_formatted_code = \"pca_cumsum = np.cumsum(pca_expl)\";\n",
       "                var nbb_cells = Jupyter.notebook.get_cells();\n",
       "                for (var i = 0; i < nbb_cells.length; ++i) {\n",
       "                    if (nbb_cells[i].input_prompt_number == nbb_cell_id) {\n",
       "                        if (nbb_cells[i].get_text() == nbb_unformatted_code) {\n",
       "                             nbb_cells[i].set_text(nbb_formatted_code);\n",
       "                        }\n",
       "                        break;\n",
       "                    }\n",
       "                }\n",
       "            }, 500);\n",
       "            "
      ],
      "text/plain": [
       "<IPython.core.display.Javascript object>"
      ]
     },
     "metadata": {},
     "output_type": "display_data"
    }
   ],
   "source": [
    "pca_cumsum = np.cumsum(pca_expl)"
   ]
  },
  {
   "cell_type": "code",
   "execution_count": 58,
   "metadata": {},
   "outputs": [
    {
     "data": {
      "text/plain": [
       "(5,)"
      ]
     },
     "execution_count": 58,
     "metadata": {},
     "output_type": "execute_result"
    },
    {
     "data": {
      "application/javascript": [
       "\n",
       "            setTimeout(function() {\n",
       "                var nbb_cell_id = 58;\n",
       "                var nbb_unformatted_code = \"pca_cumsum.shape\";\n",
       "                var nbb_formatted_code = \"pca_cumsum.shape\";\n",
       "                var nbb_cells = Jupyter.notebook.get_cells();\n",
       "                for (var i = 0; i < nbb_cells.length; ++i) {\n",
       "                    if (nbb_cells[i].input_prompt_number == nbb_cell_id) {\n",
       "                        if (nbb_cells[i].get_text() == nbb_unformatted_code) {\n",
       "                             nbb_cells[i].set_text(nbb_formatted_code);\n",
       "                        }\n",
       "                        break;\n",
       "                    }\n",
       "                }\n",
       "            }, 500);\n",
       "            "
      ],
      "text/plain": [
       "<IPython.core.display.Javascript object>"
      ]
     },
     "metadata": {},
     "output_type": "display_data"
    }
   ],
   "source": [
    "pca_cumsum.shape"
   ]
  },
  {
   "cell_type": "code",
   "execution_count": 61,
   "metadata": {},
   "outputs": [
    {
     "data": {
      "image/png": "[encoded data removed]",
      "text/plain": [
       "<Figure size 432x288 with 1 Axes>"
      ]
     },
     "metadata": {
      "needs_background": "light"
     },
     "output_type": "display_data"
    },
    {
     "data": {
      "application/javascript": [
       "\n",
       "            setTimeout(function() {\n",
       "                var nbb_cell_id = 61;\n",
       "                var nbb_unformatted_code = \"sns.lineplot(x=np.arange(1, len(pca_cumsum) + 1), y=pca_expl)\\nplt.title('Variance by PC')\\nplt.show()\";\n",
       "                var nbb_formatted_code = \"sns.lineplot(x=np.arange(1, len(pca_cumsum) + 1), y=pca_expl)\\nplt.title(\\\"Variance by PC\\\")\\nplt.show()\";\n",
       "                var nbb_cells = Jupyter.notebook.get_cells();\n",
       "                for (var i = 0; i < nbb_cells.length; ++i) {\n",
       "                    if (nbb_cells[i].input_prompt_number == nbb_cell_id) {\n",
       "                        if (nbb_cells[i].get_text() == nbb_unformatted_code) {\n",
       "                             nbb_cells[i].set_text(nbb_formatted_code);\n",
       "                        }\n",
       "                        break;\n",
       "                    }\n",
       "                }\n",
       "            }, 500);\n",
       "            "
      ],
      "text/plain": [
       "<IPython.core.display.Javascript object>"
      ]
     },
     "metadata": {},
     "output_type": "display_data"
    }
   ],
   "source": [
    "sns.lineplot(x=np.arange(1, len(pca_cumsum) + 1), y=pca_expl)\n",
    "plt.title(\"Variance by PC\")\n",
    "plt.show()"
   ]
  },
  {
   "cell_type": "code",
   "execution_count": 63,
   "metadata": {},
   "outputs": [
    {
     "data": {
      "image/png": "[encoded data removed]",
      "text/plain": [
       "<Figure size 432x288 with 1 Axes>"
      ]
     },
     "metadata": {
      "needs_background": "light"
     },
     "output_type": "display_data"
    },
    {
     "data": {
      "application/javascript": [
       "\n",
       "            setTimeout(function() {\n",
       "                var nbb_cell_id = 63;\n",
       "                var nbb_unformatted_code = \"sns.lineplot(x=np.arange(1, len(pca_cumsum) + 1), y=pca_cumsum)\\nplt.title('Cumulative Variance of PCs')\\nplt.show()\";\n",
       "                var nbb_formatted_code = \"sns.lineplot(x=np.arange(1, len(pca_cumsum) + 1), y=pca_cumsum)\\nplt.title(\\\"Cumulative Variance of PCs\\\")\\nplt.show()\";\n",
       "                var nbb_cells = Jupyter.notebook.get_cells();\n",
       "                for (var i = 0; i < nbb_cells.length; ++i) {\n",
       "                    if (nbb_cells[i].input_prompt_number == nbb_cell_id) {\n",
       "                        if (nbb_cells[i].get_text() == nbb_unformatted_code) {\n",
       "                             nbb_cells[i].set_text(nbb_formatted_code);\n",
       "                        }\n",
       "                        break;\n",
       "                    }\n",
       "                }\n",
       "            }, 500);\n",
       "            "
      ],
      "text/plain": [
       "<IPython.core.display.Javascript object>"
      ]
     },
     "metadata": {},
     "output_type": "display_data"
    }
   ],
   "source": [
    "sns.lineplot(x=np.arange(1, len(pca_cumsum) + 1), y=pca_cumsum)\n",
    "plt.title(\"Cumulative Variance of PCs\")\n",
    "plt.show()"
   ]
  },
  {
   "cell_type": "markdown",
   "metadata": {
    "id": "jvKzrBEBkMd9"
   },
   "source": [
    "### Iteratively train and score a Random Forest Classifier (to predict `pitchType`).\n",
    "\n",
    "* In each iteration:\n",
    "    * Increase the number of principal components (start with `2`)\n",
    "    * Store the number of components and model score"
   ]
  },
  {
   "cell_type": "code",
   "execution_count": 69,
   "metadata": {
    "id": "gAjfoq-ckMd-"
   },
   "outputs": [
    {
     "data": {
      "application/javascript": [
       "\n",
       "            setTimeout(function() {\n",
       "                var nbb_cell_id = 69;\n",
       "                var nbb_unformatted_code = \"model = RandomForestClassifier(max_depth=4, random_state=1)\";\n",
       "                var nbb_formatted_code = \"model = RandomForestClassifier(max_depth=4, random_state=1)\";\n",
       "                var nbb_cells = Jupyter.notebook.get_cells();\n",
       "                for (var i = 0; i < nbb_cells.length; ++i) {\n",
       "                    if (nbb_cells[i].input_prompt_number == nbb_cell_id) {\n",
       "                        if (nbb_cells[i].get_text() == nbb_unformatted_code) {\n",
       "                             nbb_cells[i].set_text(nbb_formatted_code);\n",
       "                        }\n",
       "                        break;\n",
       "                    }\n",
       "                }\n",
       "            }, 500);\n",
       "            "
      ],
      "text/plain": [
       "<IPython.core.display.Javascript object>"
      ]
     },
     "metadata": {},
     "output_type": "display_data"
    }
   ],
   "source": [
    "model = RandomForestClassifier(max_depth=4, random_state=1)"
   ]
  },
  {
   "cell_type": "code",
   "execution_count": 65,
   "metadata": {},
   "outputs": [
    {
     "data": {
      "text/plain": [
       "15"
      ]
     },
     "execution_count": 65,
     "metadata": {},
     "output_type": "execute_result"
    },
    {
     "data": {
      "application/javascript": [
       "\n",
       "            setTimeout(function() {\n",
       "                var nbb_cell_id = 65;\n",
       "                var nbb_unformatted_code = \"len(X_std.columns)\";\n",
       "                var nbb_formatted_code = \"len(X_std.columns)\";\n",
       "                var nbb_cells = Jupyter.notebook.get_cells();\n",
       "                for (var i = 0; i < nbb_cells.length; ++i) {\n",
       "                    if (nbb_cells[i].input_prompt_number == nbb_cell_id) {\n",
       "                        if (nbb_cells[i].get_text() == nbb_unformatted_code) {\n",
       "                             nbb_cells[i].set_text(nbb_formatted_code);\n",
       "                        }\n",
       "                        break;\n",
       "                    }\n",
       "                }\n",
       "            }, 500);\n",
       "            "
      ],
      "text/plain": [
       "<IPython.core.display.Javascript object>"
      ]
     },
     "metadata": {},
     "output_type": "display_data"
    }
   ],
   "source": [
    "len(X_std.columns)"
   ]
  },
  {
   "cell_type": "code",
   "execution_count": 75,
   "metadata": {
    "id": "3gyrJuR-kMeB"
   },
   "outputs": [
    {
     "data": {
      "application/javascript": [
       "\n",
       "            setTimeout(function() {\n",
       "                var nbb_cell_id = 75;\n",
       "                var nbb_unformatted_code = \"num_pcs = np.arange(1, len(X_std.columns) + 1)\\nscores = []\\nnum_comps = []\\nfor pc in num_pcs:\\n    pca = PCA(n_components=pc)\\n    X_pcs = pca.fit_transform(X_std)\\n\\n    model.fit(X_pcs, y)\\n    score = model.score(X_pcs, y)\\n    scores.append(score)\\n    num_comps.append(pc)\";\n",
       "                var nbb_formatted_code = \"num_pcs = np.arange(1, len(X_std.columns) + 1)\\nscores = []\\nnum_comps = []\\nfor pc in num_pcs:\\n    pca = PCA(n_components=pc)\\n    X_pcs = pca.fit_transform(X_std)\\n\\n    model.fit(X_pcs, y)\\n    score = model.score(X_pcs, y)\\n    scores.append(score)\\n    num_comps.append(pc)\";\n",
       "                var nbb_cells = Jupyter.notebook.get_cells();\n",
       "                for (var i = 0; i < nbb_cells.length; ++i) {\n",
       "                    if (nbb_cells[i].input_prompt_number == nbb_cell_id) {\n",
       "                        if (nbb_cells[i].get_text() == nbb_unformatted_code) {\n",
       "                             nbb_cells[i].set_text(nbb_formatted_code);\n",
       "                        }\n",
       "                        break;\n",
       "                    }\n",
       "                }\n",
       "            }, 500);\n",
       "            "
      ],
      "text/plain": [
       "<IPython.core.display.Javascript object>"
      ]
     },
     "metadata": {},
     "output_type": "display_data"
    }
   ],
   "source": [
    "num_pcs = np.arange(1, len(X_std.columns) + 1)\n",
    "scores = []\n",
    "num_comps = []\n",
    "\n",
    "for pc in num_pcs:\n",
    "    pca = PCA(n_components=pc)\n",
    "    X_pcs = pca.fit_transform(X_std)\n",
    "\n",
    "    model.fit(X_pcs, y)\n",
    "    score = model.score(X_pcs, y)\n",
    "    scores.append(score)\n",
    "    num_comps.append(pc)"
   ]
  },
  {
   "cell_type": "markdown",
   "metadata": {
    "id": "n-wxVTKUkMeD"
   },
   "source": [
    "### Create a line plot that shows the training scores across the different numbers of principal components."
   ]
  },
  {
   "cell_type": "code",
   "execution_count": 76,
   "metadata": {
    "id": "k8p_nUackMeE"
   },
   "outputs": [
    {
     "data": {
      "text/plain": [
       "<matplotlib.axes._subplots.AxesSubplot at 0x20d04097dc8>"
      ]
     },
     "execution_count": 76,
     "metadata": {},
     "output_type": "execute_result"
    },
    {
     "data": {
      "image/png": "[encoded data removed]",
      "text/plain": [
       "<Figure size 432x288 with 1 Axes>"
      ]
     },
     "metadata": {
      "needs_background": "light"
     },
     "output_type": "display_data"
    },
    {
     "data": {
      "application/javascript": [
       "\n",
       "            setTimeout(function() {\n",
       "                var nbb_cell_id = 76;\n",
       "                var nbb_unformatted_code = \"sns.lineplot(x=num_comps, y=scores)\";\n",
       "                var nbb_formatted_code = \"sns.lineplot(x=num_comps, y=scores)\";\n",
       "                var nbb_cells = Jupyter.notebook.get_cells();\n",
       "                for (var i = 0; i < nbb_cells.length; ++i) {\n",
       "                    if (nbb_cells[i].input_prompt_number == nbb_cell_id) {\n",
       "                        if (nbb_cells[i].get_text() == nbb_unformatted_code) {\n",
       "                             nbb_cells[i].set_text(nbb_formatted_code);\n",
       "                        }\n",
       "                        break;\n",
       "                    }\n",
       "                }\n",
       "            }, 500);\n",
       "            "
      ],
      "text/plain": [
       "<IPython.core.display.Javascript object>"
      ]
     },
     "metadata": {},
     "output_type": "display_data"
    }
   ],
   "source": [
    "sns.lineplot(x=num_comps, y=scores)"
   ]
  },
  {
   "cell_type": "markdown",
   "metadata": {
    "id": "4gMQsKHmkMeG"
   },
   "source": [
    "### Based on the analysis you conducted, what is the optimal number of principal components?"
   ]
  },
  {
   "cell_type": "code",
   "execution_count": null,
   "metadata": {
    "id": "tmGcmaR3kMeH"
   },
   "outputs": [],
   "source": [
    "# 9 pc's has the best score overall, 2 may be the most efficient option "
   ]
  }
 ],
 "metadata": {
  "colab": {
   "name": "Day 51 Lecture 2 PCA Assignment.ipynb",
   "provenance": []
  },
  "kernelspec": {
   "display_name": "Python 3",
   "language": "python",
   "name": "python3"
  },
  "language_info": {
   "codemirror_mode": {
    "name": "ipython",
    "version": 3
   },
   "file_extension": ".py",
   "mimetype": "text/x-python",
   "name": "python",
   "nbconvert_exporter": "python",
   "pygments_lexer": "ipython3",
   "version": "3.7.6"
  }
 },
 "nbformat": 4,
 "nbformat_minor": 1
}
