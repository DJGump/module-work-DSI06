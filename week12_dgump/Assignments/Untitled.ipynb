{
 "cells": [
  {
   "cell_type": "code",
   "execution_count": 1,
   "metadata": {},
   "outputs": [
    {
     "data": {
      "application/javascript": [
       "\n",
       "            setTimeout(function() {\n",
       "                var nbb_cell_id = 1;\n",
       "                var nbb_unformatted_code = \"%reload_ext nb_black\";\n",
       "                var nbb_formatted_code = \"%reload_ext nb_black\";\n",
       "                var nbb_cells = Jupyter.notebook.get_cells();\n",
       "                for (var i = 0; i < nbb_cells.length; ++i) {\n",
       "                    if (nbb_cells[i].input_prompt_number == nbb_cell_id) {\n",
       "                        if (nbb_cells[i].get_text() == nbb_unformatted_code) {\n",
       "                             nbb_cells[i].set_text(nbb_formatted_code);\n",
       "                        }\n",
       "                        break;\n",
       "                    }\n",
       "                }\n",
       "            }, 500);\n",
       "            "
      ],
      "text/plain": [
       "<IPython.core.display.Javascript object>"
      ]
     },
     "metadata": {},
     "output_type": "display_data"
    }
   ],
   "source": [
    "%reload_ext nb_black"
   ]
  },
  {
   "cell_type": "code",
   "execution_count": 99,
   "metadata": {},
   "outputs": [
    {
     "data": {
      "application/javascript": [
       "\n",
       "            setTimeout(function() {\n",
       "                var nbb_cell_id = 99;\n",
       "                var nbb_unformatted_code = \"import numpy as np\\nimport pandas as pd\\nimport seaborn as sns\\nimport matplotlib.pyplot as plt\\n\\nfrom sklearn.decomposition import PCA\\nfrom sklearn.preprocessing import StandardScaler\\nfrom sklearn.cluster import KMeans, DBSCAN\\nfrom sklearn.mixture import GaussianMixture\\n\\nimport plotly.express as px\";\n",
       "                var nbb_formatted_code = \"import numpy as np\\nimport pandas as pd\\nimport seaborn as sns\\nimport matplotlib.pyplot as plt\\n\\nfrom sklearn.decomposition import PCA\\nfrom sklearn.preprocessing import StandardScaler\\nfrom sklearn.cluster import KMeans, DBSCAN\\nfrom sklearn.mixture import GaussianMixture\\n\\nimport plotly.express as px\";\n",
       "                var nbb_cells = Jupyter.notebook.get_cells();\n",
       "                for (var i = 0; i < nbb_cells.length; ++i) {\n",
       "                    if (nbb_cells[i].input_prompt_number == nbb_cell_id) {\n",
       "                        if (nbb_cells[i].get_text() == nbb_unformatted_code) {\n",
       "                             nbb_cells[i].set_text(nbb_formatted_code);\n",
       "                        }\n",
       "                        break;\n",
       "                    }\n",
       "                }\n",
       "            }, 500);\n",
       "            "
      ],
      "text/plain": [
       "<IPython.core.display.Javascript object>"
      ]
     },
     "metadata": {},
     "output_type": "display_data"
    }
   ],
   "source": [
    "import numpy as np\n",
    "import pandas as pd\n",
    "import seaborn as sns\n",
    "import matplotlib.pyplot as plt\n",
    "\n",
    "from sklearn.decomposition import PCA\n",
    "from sklearn.preprocessing import StandardScaler\n",
    "from sklearn.cluster import KMeans, DBSCAN\n",
    "from sklearn.mixture import GaussianMixture\n",
    "\n",
    "import plotly.express as px"
   ]
  },
  {
   "cell_type": "code",
   "execution_count": 3,
   "metadata": {},
   "outputs": [
    {
     "data": {
      "application/javascript": [
       "\n",
       "            setTimeout(function() {\n",
       "                var nbb_cell_id = 3;\n",
       "                var nbb_unformatted_code = \"environ = pd.read_csv(\\\"data/World_countries_env_vars.csv\\\")\";\n",
       "                var nbb_formatted_code = \"environ = pd.read_csv(\\\"data/World_countries_env_vars.csv\\\")\";\n",
       "                var nbb_cells = Jupyter.notebook.get_cells();\n",
       "                for (var i = 0; i < nbb_cells.length; ++i) {\n",
       "                    if (nbb_cells[i].input_prompt_number == nbb_cell_id) {\n",
       "                        if (nbb_cells[i].get_text() == nbb_unformatted_code) {\n",
       "                             nbb_cells[i].set_text(nbb_formatted_code);\n",
       "                        }\n",
       "                        break;\n",
       "                    }\n",
       "                }\n",
       "            }, 500);\n",
       "            "
      ],
      "text/plain": [
       "<IPython.core.display.Javascript object>"
      ]
     },
     "metadata": {},
     "output_type": "display_data"
    }
   ],
   "source": [
    "environ = pd.read_csv(\"data/World_countries_env_vars.csv\")"
   ]
  },
  {
   "cell_type": "code",
   "execution_count": 4,
   "metadata": {},
   "outputs": [
    {
     "name": "stdout",
     "output_type": "stream",
     "text": [
      "<class 'pandas.core.frame.DataFrame'>\n",
      "RangeIndex: 243 entries, 0 to 242\n",
      "Data columns (total 28 columns):\n",
      " #   Column                   Non-Null Count  Dtype  \n",
      "---  ------                   --------------  -----  \n",
      " 0   Country                  243 non-null    object \n",
      " 1   accessibility_to_cities  238 non-null    float64\n",
      " 2   elevation                237 non-null    float64\n",
      " 3   aspect                   237 non-null    float64\n",
      " 4   slope                    237 non-null    float64\n",
      " 5   cropland_cover           243 non-null    float64\n",
      " 6   tree_canopy_cover        232 non-null    float64\n",
      " 7   isothermality            237 non-null    float64\n",
      " 8   rain_coldestQuart        237 non-null    float64\n",
      " 9   rain_driestMonth         238 non-null    float64\n",
      " 10  rain_driestQuart         238 non-null    float64\n",
      " 11  rain_mean_annual         238 non-null    float64\n",
      " 12  rain_seasonailty         238 non-null    float64\n",
      " 13  rain_warmestQuart        237 non-null    float64\n",
      " 14  rain_wettestMonth        238 non-null    float64\n",
      " 15  rain_wettestQuart        238 non-null    float64\n",
      " 16  temp_annual_range        237 non-null    float64\n",
      " 17  temp_coldestQuart        237 non-null    float64\n",
      " 18  temp_diurnal_range       237 non-null    float64\n",
      " 19  temp_driestQuart         237 non-null    float64\n",
      " 20  temp_max_warmestMonth    237 non-null    float64\n",
      " 21  temp_mean_annual         237 non-null    float64\n",
      " 22  temp_min_coldestMonth    237 non-null    float64\n",
      " 23  temp_seasonality         237 non-null    float64\n",
      " 24  temp_warmestQuart        237 non-null    float64\n",
      " 25  temp_wettestQuart        237 non-null    float64\n",
      " 26  wind                     188 non-null    float64\n",
      " 27  cloudiness               235 non-null    float64\n",
      "dtypes: float64(27), object(1)\n",
      "memory usage: 53.3+ KB\n"
     ]
    },
    {
     "data": {
      "application/javascript": [
       "\n",
       "            setTimeout(function() {\n",
       "                var nbb_cell_id = 4;\n",
       "                var nbb_unformatted_code = \"environ.info()\";\n",
       "                var nbb_formatted_code = \"environ.info()\";\n",
       "                var nbb_cells = Jupyter.notebook.get_cells();\n",
       "                for (var i = 0; i < nbb_cells.length; ++i) {\n",
       "                    if (nbb_cells[i].input_prompt_number == nbb_cell_id) {\n",
       "                        if (nbb_cells[i].get_text() == nbb_unformatted_code) {\n",
       "                             nbb_cells[i].set_text(nbb_formatted_code);\n",
       "                        }\n",
       "                        break;\n",
       "                    }\n",
       "                }\n",
       "            }, 500);\n",
       "            "
      ],
      "text/plain": [
       "<IPython.core.display.Javascript object>"
      ]
     },
     "metadata": {},
     "output_type": "display_data"
    }
   ],
   "source": [
    "environ.info()"
   ]
  },
  {
   "cell_type": "code",
   "execution_count": 5,
   "metadata": {},
   "outputs": [
    {
     "data": {
      "application/javascript": [
       "\n",
       "            setTimeout(function() {\n",
       "                var nbb_cell_id = 5;\n",
       "                var nbb_unformatted_code = \"drop_cols = [\\\"aspect\\\", \\\"slope\\\", \\\"wind\\\"]\";\n",
       "                var nbb_formatted_code = \"drop_cols = [\\\"aspect\\\", \\\"slope\\\", \\\"wind\\\"]\";\n",
       "                var nbb_cells = Jupyter.notebook.get_cells();\n",
       "                for (var i = 0; i < nbb_cells.length; ++i) {\n",
       "                    if (nbb_cells[i].input_prompt_number == nbb_cell_id) {\n",
       "                        if (nbb_cells[i].get_text() == nbb_unformatted_code) {\n",
       "                             nbb_cells[i].set_text(nbb_formatted_code);\n",
       "                        }\n",
       "                        break;\n",
       "                    }\n",
       "                }\n",
       "            }, 500);\n",
       "            "
      ],
      "text/plain": [
       "<IPython.core.display.Javascript object>"
      ]
     },
     "metadata": {},
     "output_type": "display_data"
    }
   ],
   "source": [
    "drop_cols = [\"aspect\", \"slope\", \"wind\"]"
   ]
  },
  {
   "cell_type": "code",
   "execution_count": 6,
   "metadata": {},
   "outputs": [
    {
     "data": {
      "text/html": [
       "<div>\n",
       "<style scoped>\n",
       "    .dataframe tbody tr th:only-of-type {\n",
       "        vertical-align: middle;\n",
       "    }\n",
       "\n",
       "    .dataframe tbody tr th {\n",
       "        vertical-align: top;\n",
       "    }\n",
       "\n",
       "    .dataframe thead th {\n",
       "        text-align: right;\n",
       "    }\n",
       "</style>\n",
       "<table border=\"1\" class=\"dataframe\">\n",
       "  <thead>\n",
       "    <tr style=\"text-align: right;\">\n",
       "      <th></th>\n",
       "      <th>Country</th>\n",
       "      <th>accessibility_to_cities</th>\n",
       "      <th>elevation</th>\n",
       "      <th>aspect</th>\n",
       "      <th>slope</th>\n",
       "      <th>cropland_cover</th>\n",
       "      <th>tree_canopy_cover</th>\n",
       "      <th>isothermality</th>\n",
       "      <th>rain_coldestQuart</th>\n",
       "      <th>rain_driestMonth</th>\n",
       "      <th>...</th>\n",
       "      <th>temp_diurnal_range</th>\n",
       "      <th>temp_driestQuart</th>\n",
       "      <th>temp_max_warmestMonth</th>\n",
       "      <th>temp_mean_annual</th>\n",
       "      <th>temp_min_coldestMonth</th>\n",
       "      <th>temp_seasonality</th>\n",
       "      <th>temp_warmestQuart</th>\n",
       "      <th>temp_wettestQuart</th>\n",
       "      <th>wind</th>\n",
       "      <th>cloudiness</th>\n",
       "    </tr>\n",
       "  </thead>\n",
       "  <tbody>\n",
       "    <tr>\n",
       "      <th>3</th>\n",
       "      <td>Antarctica</td>\n",
       "      <td>NaN</td>\n",
       "      <td>NaN</td>\n",
       "      <td>NaN</td>\n",
       "      <td>NaN</td>\n",
       "      <td>0.000000</td>\n",
       "      <td>NaN</td>\n",
       "      <td>NaN</td>\n",
       "      <td>NaN</td>\n",
       "      <td>NaN</td>\n",
       "      <td>...</td>\n",
       "      <td>NaN</td>\n",
       "      <td>NaN</td>\n",
       "      <td>NaN</td>\n",
       "      <td>NaN</td>\n",
       "      <td>NaN</td>\n",
       "      <td>NaN</td>\n",
       "      <td>NaN</td>\n",
       "      <td>NaN</td>\n",
       "      <td>NaN</td>\n",
       "      <td>302.807829</td>\n",
       "    </tr>\n",
       "    <tr>\n",
       "      <th>39</th>\n",
       "      <td>Greenland</td>\n",
       "      <td>11245.804950</td>\n",
       "      <td>NaN</td>\n",
       "      <td>NaN</td>\n",
       "      <td>NaN</td>\n",
       "      <td>0.000000</td>\n",
       "      <td>0.297000</td>\n",
       "      <td>15.401358</td>\n",
       "      <td>158.538520</td>\n",
       "      <td>42.211411</td>\n",
       "      <td>...</td>\n",
       "      <td>5.222259</td>\n",
       "      <td>-18.875726</td>\n",
       "      <td>0.914455</td>\n",
       "      <td>-17.213942</td>\n",
       "      <td>-32.557318</td>\n",
       "      <td>99.924576</td>\n",
       "      <td>-3.306808</td>\n",
       "      <td>-12.287875</td>\n",
       "      <td>NaN</td>\n",
       "      <td>NaN</td>\n",
       "    </tr>\n",
       "    <tr>\n",
       "      <th>128</th>\n",
       "      <td>Iceland</td>\n",
       "      <td>366.518576</td>\n",
       "      <td>NaN</td>\n",
       "      <td>NaN</td>\n",
       "      <td>NaN</td>\n",
       "      <td>1.698976</td>\n",
       "      <td>6.748369</td>\n",
       "      <td>32.434139</td>\n",
       "      <td>329.250526</td>\n",
       "      <td>70.204031</td>\n",
       "      <td>...</td>\n",
       "      <td>5.432530</td>\n",
       "      <td>4.627690</td>\n",
       "      <td>10.383742</td>\n",
       "      <td>1.140138</td>\n",
       "      <td>-6.101536</td>\n",
       "      <td>40.420986</td>\n",
       "      <td>6.736054</td>\n",
       "      <td>-1.126204</td>\n",
       "      <td>NaN</td>\n",
       "      <td>NaN</td>\n",
       "    </tr>\n",
       "    <tr>\n",
       "      <th>190</th>\n",
       "      <td>Faroe Islands</td>\n",
       "      <td>1444.616397</td>\n",
       "      <td>NaN</td>\n",
       "      <td>NaN</td>\n",
       "      <td>NaN</td>\n",
       "      <td>1.990950</td>\n",
       "      <td>10.894526</td>\n",
       "      <td>35.392672</td>\n",
       "      <td>418.927615</td>\n",
       "      <td>70.352229</td>\n",
       "      <td>...</td>\n",
       "      <td>4.257533</td>\n",
       "      <td>8.190782</td>\n",
       "      <td>12.334336</td>\n",
       "      <td>5.789643</td>\n",
       "      <td>0.472890</td>\n",
       "      <td>27.885687</td>\n",
       "      <td>9.491812</td>\n",
       "      <td>4.523676</td>\n",
       "      <td>NaN</td>\n",
       "      <td>NaN</td>\n",
       "    </tr>\n",
       "    <tr>\n",
       "      <th>201</th>\n",
       "      <td>Aland</td>\n",
       "      <td>235.068864</td>\n",
       "      <td>NaN</td>\n",
       "      <td>NaN</td>\n",
       "      <td>NaN</td>\n",
       "      <td>21.021611</td>\n",
       "      <td>40.908569</td>\n",
       "      <td>24.188948</td>\n",
       "      <td>114.723856</td>\n",
       "      <td>26.964629</td>\n",
       "      <td>...</td>\n",
       "      <td>6.882545</td>\n",
       "      <td>-1.280922</td>\n",
       "      <td>19.595752</td>\n",
       "      <td>4.515330</td>\n",
       "      <td>-8.102941</td>\n",
       "      <td>72.670694</td>\n",
       "      <td>14.357984</td>\n",
       "      <td>9.901886</td>\n",
       "      <td>NaN</td>\n",
       "      <td>NaN</td>\n",
       "    </tr>\n",
       "    <tr>\n",
       "      <th>242</th>\n",
       "      <td>Vatican</td>\n",
       "      <td>NaN</td>\n",
       "      <td>NaN</td>\n",
       "      <td>NaN</td>\n",
       "      <td>NaN</td>\n",
       "      <td>0.000000</td>\n",
       "      <td>NaN</td>\n",
       "      <td>NaN</td>\n",
       "      <td>NaN</td>\n",
       "      <td>NaN</td>\n",
       "      <td>...</td>\n",
       "      <td>NaN</td>\n",
       "      <td>NaN</td>\n",
       "      <td>NaN</td>\n",
       "      <td>NaN</td>\n",
       "      <td>NaN</td>\n",
       "      <td>NaN</td>\n",
       "      <td>NaN</td>\n",
       "      <td>NaN</td>\n",
       "      <td>NaN</td>\n",
       "      <td>NaN</td>\n",
       "    </tr>\n",
       "  </tbody>\n",
       "</table>\n",
       "<p>6 rows × 28 columns</p>\n",
       "</div>"
      ],
      "text/plain": [
       "           Country  accessibility_to_cities  elevation  aspect  slope  \\\n",
       "3       Antarctica                      NaN        NaN     NaN    NaN   \n",
       "39       Greenland             11245.804950        NaN     NaN    NaN   \n",
       "128        Iceland               366.518576        NaN     NaN    NaN   \n",
       "190  Faroe Islands              1444.616397        NaN     NaN    NaN   \n",
       "201          Aland               235.068864        NaN     NaN    NaN   \n",
       "242        Vatican                      NaN        NaN     NaN    NaN   \n",
       "\n",
       "     cropland_cover  tree_canopy_cover  isothermality  rain_coldestQuart  \\\n",
       "3          0.000000                NaN            NaN                NaN   \n",
       "39         0.000000           0.297000      15.401358         158.538520   \n",
       "128        1.698976           6.748369      32.434139         329.250526   \n",
       "190        1.990950          10.894526      35.392672         418.927615   \n",
       "201       21.021611          40.908569      24.188948         114.723856   \n",
       "242        0.000000                NaN            NaN                NaN   \n",
       "\n",
       "     rain_driestMonth  ...  temp_diurnal_range  temp_driestQuart  \\\n",
       "3                 NaN  ...                 NaN               NaN   \n",
       "39          42.211411  ...            5.222259        -18.875726   \n",
       "128         70.204031  ...            5.432530          4.627690   \n",
       "190         70.352229  ...            4.257533          8.190782   \n",
       "201         26.964629  ...            6.882545         -1.280922   \n",
       "242               NaN  ...                 NaN               NaN   \n",
       "\n",
       "     temp_max_warmestMonth  temp_mean_annual  temp_min_coldestMonth  \\\n",
       "3                      NaN               NaN                    NaN   \n",
       "39                0.914455        -17.213942             -32.557318   \n",
       "128              10.383742          1.140138              -6.101536   \n",
       "190              12.334336          5.789643               0.472890   \n",
       "201              19.595752          4.515330              -8.102941   \n",
       "242                    NaN               NaN                    NaN   \n",
       "\n",
       "     temp_seasonality  temp_warmestQuart  temp_wettestQuart  wind  cloudiness  \n",
       "3                 NaN                NaN                NaN   NaN  302.807829  \n",
       "39          99.924576          -3.306808         -12.287875   NaN         NaN  \n",
       "128         40.420986           6.736054          -1.126204   NaN         NaN  \n",
       "190         27.885687           9.491812           4.523676   NaN         NaN  \n",
       "201         72.670694          14.357984           9.901886   NaN         NaN  \n",
       "242               NaN                NaN                NaN   NaN         NaN  \n",
       "\n",
       "[6 rows x 28 columns]"
      ]
     },
     "execution_count": 6,
     "metadata": {},
     "output_type": "execute_result"
    },
    {
     "data": {
      "application/javascript": [
       "\n",
       "            setTimeout(function() {\n",
       "                var nbb_cell_id = 6;\n",
       "                var nbb_unformatted_code = \"environ[environ[\\\"elevation\\\"].isna()]\";\n",
       "                var nbb_formatted_code = \"environ[environ[\\\"elevation\\\"].isna()]\";\n",
       "                var nbb_cells = Jupyter.notebook.get_cells();\n",
       "                for (var i = 0; i < nbb_cells.length; ++i) {\n",
       "                    if (nbb_cells[i].input_prompt_number == nbb_cell_id) {\n",
       "                        if (nbb_cells[i].get_text() == nbb_unformatted_code) {\n",
       "                             nbb_cells[i].set_text(nbb_formatted_code);\n",
       "                        }\n",
       "                        break;\n",
       "                    }\n",
       "                }\n",
       "            }, 500);\n",
       "            "
      ],
      "text/plain": [
       "<IPython.core.display.Javascript object>"
      ]
     },
     "metadata": {},
     "output_type": "display_data"
    }
   ],
   "source": [
    "environ[environ[\"elevation\"].isna()]"
   ]
  },
  {
   "cell_type": "code",
   "execution_count": 7,
   "metadata": {},
   "outputs": [
    {
     "data": {
      "application/javascript": [
       "\n",
       "            setTimeout(function() {\n",
       "                var nbb_cell_id = 7;\n",
       "                var nbb_unformatted_code = \"missingy_cols = environ[environ.isna().mean(axis=1) > 0.2].index\\nenviron = environ.drop(labels=missingy_cols)\";\n",
       "                var nbb_formatted_code = \"missingy_cols = environ[environ.isna().mean(axis=1) > 0.2].index\\nenviron = environ.drop(labels=missingy_cols)\";\n",
       "                var nbb_cells = Jupyter.notebook.get_cells();\n",
       "                for (var i = 0; i < nbb_cells.length; ++i) {\n",
       "                    if (nbb_cells[i].input_prompt_number == nbb_cell_id) {\n",
       "                        if (nbb_cells[i].get_text() == nbb_unformatted_code) {\n",
       "                             nbb_cells[i].set_text(nbb_formatted_code);\n",
       "                        }\n",
       "                        break;\n",
       "                    }\n",
       "                }\n",
       "            }, 500);\n",
       "            "
      ],
      "text/plain": [
       "<IPython.core.display.Javascript object>"
      ]
     },
     "metadata": {},
     "output_type": "display_data"
    }
   ],
   "source": [
    "missingy_cols = environ[environ.isna().mean(axis=1) > 0.2].index\n",
    "environ = environ.drop(labels=missingy_cols)"
   ]
  },
  {
   "cell_type": "code",
   "execution_count": 8,
   "metadata": {},
   "outputs": [
    {
     "data": {
      "application/javascript": [
       "\n",
       "            setTimeout(function() {\n",
       "                var nbb_cell_id = 8;\n",
       "                var nbb_unformatted_code = \"environ[environ[\\\"tree_canopy_cover\\\"].isna()]\\nenviron[\\\"tree_canopy_cover\\\"] = environ[\\\"tree_canopy_cover\\\"].replace(np.nan, 0)\";\n",
       "                var nbb_formatted_code = \"environ[environ[\\\"tree_canopy_cover\\\"].isna()]\\nenviron[\\\"tree_canopy_cover\\\"] = environ[\\\"tree_canopy_cover\\\"].replace(np.nan, 0)\";\n",
       "                var nbb_cells = Jupyter.notebook.get_cells();\n",
       "                for (var i = 0; i < nbb_cells.length; ++i) {\n",
       "                    if (nbb_cells[i].input_prompt_number == nbb_cell_id) {\n",
       "                        if (nbb_cells[i].get_text() == nbb_unformatted_code) {\n",
       "                             nbb_cells[i].set_text(nbb_formatted_code);\n",
       "                        }\n",
       "                        break;\n",
       "                    }\n",
       "                }\n",
       "            }, 500);\n",
       "            "
      ],
      "text/plain": [
       "<IPython.core.display.Javascript object>"
      ]
     },
     "metadata": {},
     "output_type": "display_data"
    }
   ],
   "source": [
    "environ[environ[\"tree_canopy_cover\"].isna()]\n",
    "environ[\"tree_canopy_cover\"] = environ[\"tree_canopy_cover\"].replace(np.nan, 0)"
   ]
  },
  {
   "cell_type": "code",
   "execution_count": 9,
   "metadata": {},
   "outputs": [
    {
     "data": {
      "application/javascript": [
       "\n",
       "            setTimeout(function() {\n",
       "                var nbb_cell_id = 9;\n",
       "                var nbb_unformatted_code = \"environ[environ[\\\"elevation\\\"].isna()]\\nenviron[\\\"elevation\\\"] = environ[\\\"elevation\\\"].replace(np.nan, 0)\";\n",
       "                var nbb_formatted_code = \"environ[environ[\\\"elevation\\\"].isna()]\\nenviron[\\\"elevation\\\"] = environ[\\\"elevation\\\"].replace(np.nan, 0)\";\n",
       "                var nbb_cells = Jupyter.notebook.get_cells();\n",
       "                for (var i = 0; i < nbb_cells.length; ++i) {\n",
       "                    if (nbb_cells[i].input_prompt_number == nbb_cell_id) {\n",
       "                        if (nbb_cells[i].get_text() == nbb_unformatted_code) {\n",
       "                             nbb_cells[i].set_text(nbb_formatted_code);\n",
       "                        }\n",
       "                        break;\n",
       "                    }\n",
       "                }\n",
       "            }, 500);\n",
       "            "
      ],
      "text/plain": [
       "<IPython.core.display.Javascript object>"
      ]
     },
     "metadata": {},
     "output_type": "display_data"
    }
   ],
   "source": [
    "environ[environ[\"elevation\"].isna()]\n",
    "environ[\"elevation\"] = environ[\"elevation\"].replace(np.nan, 0)"
   ]
  },
  {
   "cell_type": "code",
   "execution_count": 10,
   "metadata": {},
   "outputs": [
    {
     "data": {
      "application/javascript": [
       "\n",
       "            setTimeout(function() {\n",
       "                var nbb_cell_id = 10;\n",
       "                var nbb_unformatted_code = \"environ[environ[\\\"cloudiness\\\"].isna()]\\nenviron[\\\"cloudiness\\\"] = environ[\\\"cloudiness\\\"].replace(\\n    np.nan, environ[\\\"cloudiness\\\"].median()\\n)\";\n",
       "                var nbb_formatted_code = \"environ[environ[\\\"cloudiness\\\"].isna()]\\nenviron[\\\"cloudiness\\\"] = environ[\\\"cloudiness\\\"].replace(\\n    np.nan, environ[\\\"cloudiness\\\"].median()\\n)\";\n",
       "                var nbb_cells = Jupyter.notebook.get_cells();\n",
       "                for (var i = 0; i < nbb_cells.length; ++i) {\n",
       "                    if (nbb_cells[i].input_prompt_number == nbb_cell_id) {\n",
       "                        if (nbb_cells[i].get_text() == nbb_unformatted_code) {\n",
       "                             nbb_cells[i].set_text(nbb_formatted_code);\n",
       "                        }\n",
       "                        break;\n",
       "                    }\n",
       "                }\n",
       "            }, 500);\n",
       "            "
      ],
      "text/plain": [
       "<IPython.core.display.Javascript object>"
      ]
     },
     "metadata": {},
     "output_type": "display_data"
    }
   ],
   "source": [
    "environ[environ[\"cloudiness\"].isna()]\n",
    "environ[\"cloudiness\"] = environ[\"cloudiness\"].replace(\n",
    "    np.nan, environ[\"cloudiness\"].median()\n",
    ")"
   ]
  },
  {
   "cell_type": "code",
   "execution_count": 11,
   "metadata": {},
   "outputs": [
    {
     "data": {
      "application/javascript": [
       "\n",
       "            setTimeout(function() {\n",
       "                var nbb_cell_id = 11;\n",
       "                var nbb_unformatted_code = \"environ = environ.drop(columns=drop_cols)\";\n",
       "                var nbb_formatted_code = \"environ = environ.drop(columns=drop_cols)\";\n",
       "                var nbb_cells = Jupyter.notebook.get_cells();\n",
       "                for (var i = 0; i < nbb_cells.length; ++i) {\n",
       "                    if (nbb_cells[i].input_prompt_number == nbb_cell_id) {\n",
       "                        if (nbb_cells[i].get_text() == nbb_unformatted_code) {\n",
       "                             nbb_cells[i].set_text(nbb_formatted_code);\n",
       "                        }\n",
       "                        break;\n",
       "                    }\n",
       "                }\n",
       "            }, 500);\n",
       "            "
      ],
      "text/plain": [
       "<IPython.core.display.Javascript object>"
      ]
     },
     "metadata": {},
     "output_type": "display_data"
    }
   ],
   "source": [
    "environ = environ.drop(columns=drop_cols)"
   ]
  },
  {
   "cell_type": "code",
   "execution_count": 12,
   "metadata": {},
   "outputs": [
    {
     "name": "stdout",
     "output_type": "stream",
     "text": [
      "<class 'pandas.core.frame.DataFrame'>\n",
      "Int64Index: 237 entries, 0 to 241\n",
      "Data columns (total 25 columns):\n",
      " #   Column                   Non-Null Count  Dtype  \n",
      "---  ------                   --------------  -----  \n",
      " 0   Country                  237 non-null    object \n",
      " 1   accessibility_to_cities  237 non-null    float64\n",
      " 2   elevation                237 non-null    float64\n",
      " 3   cropland_cover           237 non-null    float64\n",
      " 4   tree_canopy_cover        237 non-null    float64\n",
      " 5   isothermality            237 non-null    float64\n",
      " 6   rain_coldestQuart        237 non-null    float64\n",
      " 7   rain_driestMonth         237 non-null    float64\n",
      " 8   rain_driestQuart         237 non-null    float64\n",
      " 9   rain_mean_annual         237 non-null    float64\n",
      " 10  rain_seasonailty         237 non-null    float64\n",
      " 11  rain_warmestQuart        237 non-null    float64\n",
      " 12  rain_wettestMonth        237 non-null    float64\n",
      " 13  rain_wettestQuart        237 non-null    float64\n",
      " 14  temp_annual_range        237 non-null    float64\n",
      " 15  temp_coldestQuart        237 non-null    float64\n",
      " 16  temp_diurnal_range       237 non-null    float64\n",
      " 17  temp_driestQuart         237 non-null    float64\n",
      " 18  temp_max_warmestMonth    237 non-null    float64\n",
      " 19  temp_mean_annual         237 non-null    float64\n",
      " 20  temp_min_coldestMonth    237 non-null    float64\n",
      " 21  temp_seasonality         237 non-null    float64\n",
      " 22  temp_warmestQuart        237 non-null    float64\n",
      " 23  temp_wettestQuart        237 non-null    float64\n",
      " 24  cloudiness               237 non-null    float64\n",
      "dtypes: float64(24), object(1)\n",
      "memory usage: 48.1+ KB\n"
     ]
    },
    {
     "data": {
      "application/javascript": [
       "\n",
       "            setTimeout(function() {\n",
       "                var nbb_cell_id = 12;\n",
       "                var nbb_unformatted_code = \"environ.info()\";\n",
       "                var nbb_formatted_code = \"environ.info()\";\n",
       "                var nbb_cells = Jupyter.notebook.get_cells();\n",
       "                for (var i = 0; i < nbb_cells.length; ++i) {\n",
       "                    if (nbb_cells[i].input_prompt_number == nbb_cell_id) {\n",
       "                        if (nbb_cells[i].get_text() == nbb_unformatted_code) {\n",
       "                             nbb_cells[i].set_text(nbb_formatted_code);\n",
       "                        }\n",
       "                        break;\n",
       "                    }\n",
       "                }\n",
       "            }, 500);\n",
       "            "
      ],
      "text/plain": [
       "<IPython.core.display.Javascript object>"
      ]
     },
     "metadata": {},
     "output_type": "display_data"
    }
   ],
   "source": [
    "environ.info()"
   ]
  },
  {
   "cell_type": "code",
   "execution_count": 17,
   "metadata": {},
   "outputs": [
    {
     "data": {
      "application/javascript": [
       "\n",
       "            setTimeout(function() {\n",
       "                var nbb_cell_id = 17;\n",
       "                var nbb_unformatted_code = \"data = environ.drop(columns=\\\"Country\\\")\";\n",
       "                var nbb_formatted_code = \"data = environ.drop(columns=\\\"Country\\\")\";\n",
       "                var nbb_cells = Jupyter.notebook.get_cells();\n",
       "                for (var i = 0; i < nbb_cells.length; ++i) {\n",
       "                    if (nbb_cells[i].input_prompt_number == nbb_cell_id) {\n",
       "                        if (nbb_cells[i].get_text() == nbb_unformatted_code) {\n",
       "                             nbb_cells[i].set_text(nbb_formatted_code);\n",
       "                        }\n",
       "                        break;\n",
       "                    }\n",
       "                }\n",
       "            }, 500);\n",
       "            "
      ],
      "text/plain": [
       "<IPython.core.display.Javascript object>"
      ]
     },
     "metadata": {},
     "output_type": "display_data"
    }
   ],
   "source": [
    "data = environ.drop(columns=\"Country\")"
   ]
  },
  {
   "cell_type": "markdown",
   "metadata": {},
   "source": [
    "PCA"
   ]
  },
  {
   "cell_type": "code",
   "execution_count": 20,
   "metadata": {},
   "outputs": [
    {
     "data": {
      "application/javascript": [
       "\n",
       "            setTimeout(function() {\n",
       "                var nbb_cell_id = 20;\n",
       "                var nbb_unformatted_code = \"scaler = StandardScaler()\\nscaled_data = scaler.fit_transform(data)\";\n",
       "                var nbb_formatted_code = \"scaler = StandardScaler()\\nscaled_data = scaler.fit_transform(data)\";\n",
       "                var nbb_cells = Jupyter.notebook.get_cells();\n",
       "                for (var i = 0; i < nbb_cells.length; ++i) {\n",
       "                    if (nbb_cells[i].input_prompt_number == nbb_cell_id) {\n",
       "                        if (nbb_cells[i].get_text() == nbb_unformatted_code) {\n",
       "                             nbb_cells[i].set_text(nbb_formatted_code);\n",
       "                        }\n",
       "                        break;\n",
       "                    }\n",
       "                }\n",
       "            }, 500);\n",
       "            "
      ],
      "text/plain": [
       "<IPython.core.display.Javascript object>"
      ]
     },
     "metadata": {},
     "output_type": "display_data"
    }
   ],
   "source": [
    "scaler = StandardScaler()\n",
    "scaled_data = scaler.fit_transform(data)"
   ]
  },
  {
   "cell_type": "code",
   "execution_count": 115,
   "metadata": {},
   "outputs": [
    {
     "data": {
      "text/plain": [
       "array([0.44225391, 0.24908076])"
      ]
     },
     "execution_count": 115,
     "metadata": {},
     "output_type": "execute_result"
    },
    {
     "data": {
      "application/javascript": [
       "\n",
       "            setTimeout(function() {\n",
       "                var nbb_cell_id = 115;\n",
       "                var nbb_unformatted_code = \"pca = PCA(2)\\npcs = pca.fit_transform(scaled_data)\\nenviron['pc0'] = pcs[:,0]\\nenviron['pc1'] = pcs[:,1]\\npca.explained_variance_ratio_  # 1st 2 pc's explain ~\";\n",
       "                var nbb_formatted_code = \"pca = PCA(2)\\npcs = pca.fit_transform(scaled_data)\\nenviron[\\\"pc0\\\"] = pcs[:, 0]\\nenviron[\\\"pc1\\\"] = pcs[:, 1]\\npca.explained_variance_ratio_  # 1st 2 pc's explain ~\";\n",
       "                var nbb_cells = Jupyter.notebook.get_cells();\n",
       "                for (var i = 0; i < nbb_cells.length; ++i) {\n",
       "                    if (nbb_cells[i].input_prompt_number == nbb_cell_id) {\n",
       "                        if (nbb_cells[i].get_text() == nbb_unformatted_code) {\n",
       "                             nbb_cells[i].set_text(nbb_formatted_code);\n",
       "                        }\n",
       "                        break;\n",
       "                    }\n",
       "                }\n",
       "            }, 500);\n",
       "            "
      ],
      "text/plain": [
       "<IPython.core.display.Javascript object>"
      ]
     },
     "metadata": {},
     "output_type": "display_data"
    }
   ],
   "source": [
    "pca = PCA(2)\n",
    "pcs = pca.fit_transform(scaled_data)\n",
    "environ[\"pc0\"] = pcs[:, 0]\n",
    "environ[\"pc1\"] = pcs[:, 1]\n",
    "pca.explained_variance_ratio_  # 1st 2 pc's explain ~"
   ]
  },
  {
   "cell_type": "code",
   "execution_count": 116,
   "metadata": {},
   "outputs": [
    {
     "data": {
      "text/html": [
       "<div>\n",
       "<style scoped>\n",
       "    .dataframe tbody tr th:only-of-type {\n",
       "        vertical-align: middle;\n",
       "    }\n",
       "\n",
       "    .dataframe tbody tr th {\n",
       "        vertical-align: top;\n",
       "    }\n",
       "\n",
       "    .dataframe thead th {\n",
       "        text-align: right;\n",
       "    }\n",
       "</style>\n",
       "<table border=\"1\" class=\"dataframe\">\n",
       "  <thead>\n",
       "    <tr style=\"text-align: right;\">\n",
       "      <th></th>\n",
       "      <th>Country</th>\n",
       "      <th>accessibility_to_cities</th>\n",
       "      <th>elevation</th>\n",
       "      <th>cropland_cover</th>\n",
       "      <th>tree_canopy_cover</th>\n",
       "      <th>isothermality</th>\n",
       "      <th>rain_coldestQuart</th>\n",
       "      <th>rain_driestMonth</th>\n",
       "      <th>rain_driestQuart</th>\n",
       "      <th>rain_mean_annual</th>\n",
       "      <th>...</th>\n",
       "      <th>temp_max_warmestMonth</th>\n",
       "      <th>temp_mean_annual</th>\n",
       "      <th>temp_min_coldestMonth</th>\n",
       "      <th>temp_seasonality</th>\n",
       "      <th>temp_warmestQuart</th>\n",
       "      <th>temp_wettestQuart</th>\n",
       "      <th>cloudiness</th>\n",
       "      <th>labels</th>\n",
       "      <th>pc0</th>\n",
       "      <th>pc1</th>\n",
       "    </tr>\n",
       "  </thead>\n",
       "  <tbody>\n",
       "    <tr>\n",
       "      <th>0</th>\n",
       "      <td>Russia</td>\n",
       "      <td>2143.587912</td>\n",
       "      <td>448.533542</td>\n",
       "      <td>7.381210</td>\n",
       "      <td>20.356473</td>\n",
       "      <td>19.351714</td>\n",
       "      <td>63.279186</td>\n",
       "      <td>15.345187</td>\n",
       "      <td>52.450745</td>\n",
       "      <td>434.729235</td>\n",
       "      <td>...</td>\n",
       "      <td>19.952679</td>\n",
       "      <td>-6.261876</td>\n",
       "      <td>-30.678512</td>\n",
       "      <td>145.221422</td>\n",
       "      <td>12.206959</td>\n",
       "      <td>11.549561</td>\n",
       "      <td>210.990816</td>\n",
       "      <td>2</td>\n",
       "      <td>-6.999397</td>\n",
       "      <td>3.331107</td>\n",
       "    </tr>\n",
       "    <tr>\n",
       "      <th>1</th>\n",
       "      <td>United States of America</td>\n",
       "      <td>638.757539</td>\n",
       "      <td>759.251226</td>\n",
       "      <td>19.743870</td>\n",
       "      <td>16.728462</td>\n",
       "      <td>32.952882</td>\n",
       "      <td>141.820680</td>\n",
       "      <td>28.787362</td>\n",
       "      <td>100.500560</td>\n",
       "      <td>671.911733</td>\n",
       "      <td>...</td>\n",
       "      <td>26.776731</td>\n",
       "      <td>6.602248</td>\n",
       "      <td>-12.277065</td>\n",
       "      <td>93.460602</td>\n",
       "      <td>18.518984</td>\n",
       "      <td>13.579272</td>\n",
       "      <td>180.274639</td>\n",
       "      <td>2</td>\n",
       "      <td>-4.166045</td>\n",
       "      <td>0.986385</td>\n",
       "    </tr>\n",
       "    <tr>\n",
       "      <th>2</th>\n",
       "      <td>Canada</td>\n",
       "      <td>3220.715175</td>\n",
       "      <td>508.284763</td>\n",
       "      <td>3.796340</td>\n",
       "      <td>20.587476</td>\n",
       "      <td>19.862863</td>\n",
       "      <td>80.937465</td>\n",
       "      <td>19.612252</td>\n",
       "      <td>66.220983</td>\n",
       "      <td>453.318423</td>\n",
       "      <td>...</td>\n",
       "      <td>16.428661</td>\n",
       "      <td>-6.831690</td>\n",
       "      <td>-29.535063</td>\n",
       "      <td>128.934783</td>\n",
       "      <td>9.503740</td>\n",
       "      <td>7.649331</td>\n",
       "      <td>231.498702</td>\n",
       "      <td>2</td>\n",
       "      <td>-6.757578</td>\n",
       "      <td>4.024034</td>\n",
       "    </tr>\n",
       "    <tr>\n",
       "      <th>4</th>\n",
       "      <td>Indonesia</td>\n",
       "      <td>504.884807</td>\n",
       "      <td>342.053688</td>\n",
       "      <td>13.240866</td>\n",
       "      <td>55.478882</td>\n",
       "      <td>84.942402</td>\n",
       "      <td>673.078720</td>\n",
       "      <td>136.174030</td>\n",
       "      <td>449.847542</td>\n",
       "      <td>2728.355157</td>\n",
       "      <td>...</td>\n",
       "      <td>30.133801</td>\n",
       "      <td>24.993327</td>\n",
       "      <td>20.129455</td>\n",
       "      <td>4.163968</td>\n",
       "      <td>25.392019</td>\n",
       "      <td>24.934237</td>\n",
       "      <td>293.095107</td>\n",
       "      <td>1</td>\n",
       "      <td>5.213409</td>\n",
       "      <td>2.148295</td>\n",
       "    </tr>\n",
       "    <tr>\n",
       "      <th>5</th>\n",
       "      <td>China</td>\n",
       "      <td>466.566902</td>\n",
       "      <td>1788.508668</td>\n",
       "      <td>22.183475</td>\n",
       "      <td>11.579313</td>\n",
       "      <td>30.945546</td>\n",
       "      <td>34.736686</td>\n",
       "      <td>8.319759</td>\n",
       "      <td>30.975238</td>\n",
       "      <td>561.271580</td>\n",
       "      <td>...</td>\n",
       "      <td>25.190887</td>\n",
       "      <td>6.362946</td>\n",
       "      <td>-14.720426</td>\n",
       "      <td>98.902804</td>\n",
       "      <td>18.397897</td>\n",
       "      <td>17.672922</td>\n",
       "      <td>191.244661</td>\n",
       "      <td>2</td>\n",
       "      <td>-4.784542</td>\n",
       "      <td>0.560215</td>\n",
       "    </tr>\n",
       "    <tr>\n",
       "      <th>...</th>\n",
       "      <td>...</td>\n",
       "      <td>...</td>\n",
       "      <td>...</td>\n",
       "      <td>...</td>\n",
       "      <td>...</td>\n",
       "      <td>...</td>\n",
       "      <td>...</td>\n",
       "      <td>...</td>\n",
       "      <td>...</td>\n",
       "      <td>...</td>\n",
       "      <td>...</td>\n",
       "      <td>...</td>\n",
       "      <td>...</td>\n",
       "      <td>...</td>\n",
       "      <td>...</td>\n",
       "      <td>...</td>\n",
       "      <td>...</td>\n",
       "      <td>...</td>\n",
       "      <td>...</td>\n",
       "      <td>...</td>\n",
       "      <td>...</td>\n",
       "    </tr>\n",
       "    <tr>\n",
       "      <th>234</th>\n",
       "      <td>Monaco</td>\n",
       "      <td>3.000000</td>\n",
       "      <td>382.000000</td>\n",
       "      <td>16.666667</td>\n",
       "      <td>31.555556</td>\n",
       "      <td>33.449348</td>\n",
       "      <td>222.061188</td>\n",
       "      <td>24.917252</td>\n",
       "      <td>120.016136</td>\n",
       "      <td>837.198547</td>\n",
       "      <td>...</td>\n",
       "      <td>24.531044</td>\n",
       "      <td>12.453555</td>\n",
       "      <td>2.131087</td>\n",
       "      <td>53.352100</td>\n",
       "      <td>19.455553</td>\n",
       "      <td>9.904590</td>\n",
       "      <td>200.025000</td>\n",
       "      <td>2</td>\n",
       "      <td>-1.805671</td>\n",
       "      <td>1.104930</td>\n",
       "    </tr>\n",
       "    <tr>\n",
       "      <th>236</th>\n",
       "      <td>Nauru</td>\n",
       "      <td>4057.750000</td>\n",
       "      <td>1.058824</td>\n",
       "      <td>0.000000</td>\n",
       "      <td>0.000000</td>\n",
       "      <td>87.092227</td>\n",
       "      <td>507.950693</td>\n",
       "      <td>103.969207</td>\n",
       "      <td>334.446050</td>\n",
       "      <td>2059.921556</td>\n",
       "      <td>...</td>\n",
       "      <td>31.255396</td>\n",
       "      <td>27.755396</td>\n",
       "      <td>24.733870</td>\n",
       "      <td>1.466026</td>\n",
       "      <td>27.933870</td>\n",
       "      <td>27.686147</td>\n",
       "      <td>255.277206</td>\n",
       "      <td>1</td>\n",
       "      <td>4.481927</td>\n",
       "      <td>0.443321</td>\n",
       "    </tr>\n",
       "    <tr>\n",
       "      <th>237</th>\n",
       "      <td>Cook Islands</td>\n",
       "      <td>4962.736842</td>\n",
       "      <td>51.232558</td>\n",
       "      <td>0.000000</td>\n",
       "      <td>62.000000</td>\n",
       "      <td>56.299699</td>\n",
       "      <td>409.961822</td>\n",
       "      <td>118.403061</td>\n",
       "      <td>406.854352</td>\n",
       "      <td>2306.987036</td>\n",
       "      <td>...</td>\n",
       "      <td>28.749557</td>\n",
       "      <td>23.733192</td>\n",
       "      <td>19.071107</td>\n",
       "      <td>15.087457</td>\n",
       "      <td>25.650042</td>\n",
       "      <td>25.349350</td>\n",
       "      <td>233.982267</td>\n",
       "      <td>1</td>\n",
       "      <td>4.137678</td>\n",
       "      <td>2.311367</td>\n",
       "    </tr>\n",
       "    <tr>\n",
       "      <th>238</th>\n",
       "      <td>Saint Barthelemy</td>\n",
       "      <td>645.800000</td>\n",
       "      <td>7.117647</td>\n",
       "      <td>0.000000</td>\n",
       "      <td>13.000000</td>\n",
       "      <td>64.472688</td>\n",
       "      <td>164.512988</td>\n",
       "      <td>46.243420</td>\n",
       "      <td>163.718646</td>\n",
       "      <td>1038.967122</td>\n",
       "      <td>...</td>\n",
       "      <td>31.062595</td>\n",
       "      <td>26.770146</td>\n",
       "      <td>22.143781</td>\n",
       "      <td>11.262728</td>\n",
       "      <td>27.970133</td>\n",
       "      <td>27.481434</td>\n",
       "      <td>186.622794</td>\n",
       "      <td>1</td>\n",
       "      <td>1.975619</td>\n",
       "      <td>-1.051639</td>\n",
       "    </tr>\n",
       "    <tr>\n",
       "      <th>241</th>\n",
       "      <td>Macau S.A.R</td>\n",
       "      <td>2.000000</td>\n",
       "      <td>49.000000</td>\n",
       "      <td>0.000000</td>\n",
       "      <td>6.000000</td>\n",
       "      <td>31.689777</td>\n",
       "      <td>99.827560</td>\n",
       "      <td>25.724205</td>\n",
       "      <td>94.258568</td>\n",
       "      <td>1785.830688</td>\n",
       "      <td>...</td>\n",
       "      <td>32.058582</td>\n",
       "      <td>22.648241</td>\n",
       "      <td>11.575807</td>\n",
       "      <td>50.406709</td>\n",
       "      <td>28.306848</td>\n",
       "      <td>27.631000</td>\n",
       "      <td>272.150000</td>\n",
       "      <td>1</td>\n",
       "      <td>1.461629</td>\n",
       "      <td>-0.110960</td>\n",
       "    </tr>\n",
       "  </tbody>\n",
       "</table>\n",
       "<p>237 rows × 28 columns</p>\n",
       "</div>"
      ],
      "text/plain": [
       "                      Country  accessibility_to_cities    elevation  \\\n",
       "0                      Russia              2143.587912   448.533542   \n",
       "1    United States of America               638.757539   759.251226   \n",
       "2                      Canada              3220.715175   508.284763   \n",
       "4                   Indonesia               504.884807   342.053688   \n",
       "5                       China               466.566902  1788.508668   \n",
       "..                        ...                      ...          ...   \n",
       "234                    Monaco                 3.000000   382.000000   \n",
       "236                     Nauru              4057.750000     1.058824   \n",
       "237              Cook Islands              4962.736842    51.232558   \n",
       "238          Saint Barthelemy               645.800000     7.117647   \n",
       "241               Macau S.A.R                 2.000000    49.000000   \n",
       "\n",
       "     cropland_cover  tree_canopy_cover  isothermality  rain_coldestQuart  \\\n",
       "0          7.381210          20.356473      19.351714          63.279186   \n",
       "1         19.743870          16.728462      32.952882         141.820680   \n",
       "2          3.796340          20.587476      19.862863          80.937465   \n",
       "4         13.240866          55.478882      84.942402         673.078720   \n",
       "5         22.183475          11.579313      30.945546          34.736686   \n",
       "..              ...                ...            ...                ...   \n",
       "234       16.666667          31.555556      33.449348         222.061188   \n",
       "236        0.000000           0.000000      87.092227         507.950693   \n",
       "237        0.000000          62.000000      56.299699         409.961822   \n",
       "238        0.000000          13.000000      64.472688         164.512988   \n",
       "241        0.000000           6.000000      31.689777          99.827560   \n",
       "\n",
       "     rain_driestMonth  rain_driestQuart  rain_mean_annual  ...  \\\n",
       "0           15.345187         52.450745        434.729235  ...   \n",
       "1           28.787362        100.500560        671.911733  ...   \n",
       "2           19.612252         66.220983        453.318423  ...   \n",
       "4          136.174030        449.847542       2728.355157  ...   \n",
       "5            8.319759         30.975238        561.271580  ...   \n",
       "..                ...               ...               ...  ...   \n",
       "234         24.917252        120.016136        837.198547  ...   \n",
       "236        103.969207        334.446050       2059.921556  ...   \n",
       "237        118.403061        406.854352       2306.987036  ...   \n",
       "238         46.243420        163.718646       1038.967122  ...   \n",
       "241         25.724205         94.258568       1785.830688  ...   \n",
       "\n",
       "     temp_max_warmestMonth  temp_mean_annual  temp_min_coldestMonth  \\\n",
       "0                19.952679         -6.261876             -30.678512   \n",
       "1                26.776731          6.602248             -12.277065   \n",
       "2                16.428661         -6.831690             -29.535063   \n",
       "4                30.133801         24.993327              20.129455   \n",
       "5                25.190887          6.362946             -14.720426   \n",
       "..                     ...               ...                    ...   \n",
       "234              24.531044         12.453555               2.131087   \n",
       "236              31.255396         27.755396              24.733870   \n",
       "237              28.749557         23.733192              19.071107   \n",
       "238              31.062595         26.770146              22.143781   \n",
       "241              32.058582         22.648241              11.575807   \n",
       "\n",
       "     temp_seasonality  temp_warmestQuart  temp_wettestQuart  cloudiness  \\\n",
       "0          145.221422          12.206959          11.549561  210.990816   \n",
       "1           93.460602          18.518984          13.579272  180.274639   \n",
       "2          128.934783           9.503740           7.649331  231.498702   \n",
       "4            4.163968          25.392019          24.934237  293.095107   \n",
       "5           98.902804          18.397897          17.672922  191.244661   \n",
       "..                ...                ...                ...         ...   \n",
       "234         53.352100          19.455553           9.904590  200.025000   \n",
       "236          1.466026          27.933870          27.686147  255.277206   \n",
       "237         15.087457          25.650042          25.349350  233.982267   \n",
       "238         11.262728          27.970133          27.481434  186.622794   \n",
       "241         50.406709          28.306848          27.631000  272.150000   \n",
       "\n",
       "     labels       pc0       pc1  \n",
       "0         2 -6.999397  3.331107  \n",
       "1         2 -4.166045  0.986385  \n",
       "2         2 -6.757578  4.024034  \n",
       "4         1  5.213409  2.148295  \n",
       "5         2 -4.784542  0.560215  \n",
       "..      ...       ...       ...  \n",
       "234       2 -1.805671  1.104930  \n",
       "236       1  4.481927  0.443321  \n",
       "237       1  4.137678  2.311367  \n",
       "238       1  1.975619 -1.051639  \n",
       "241       1  1.461629 -0.110960  \n",
       "\n",
       "[237 rows x 28 columns]"
      ]
     },
     "execution_count": 116,
     "metadata": {},
     "output_type": "execute_result"
    },
    {
     "data": {
      "application/javascript": [
       "\n",
       "            setTimeout(function() {\n",
       "                var nbb_cell_id = 116;\n",
       "                var nbb_unformatted_code = \"environ\";\n",
       "                var nbb_formatted_code = \"environ\";\n",
       "                var nbb_cells = Jupyter.notebook.get_cells();\n",
       "                for (var i = 0; i < nbb_cells.length; ++i) {\n",
       "                    if (nbb_cells[i].input_prompt_number == nbb_cell_id) {\n",
       "                        if (nbb_cells[i].get_text() == nbb_unformatted_code) {\n",
       "                             nbb_cells[i].set_text(nbb_formatted_code);\n",
       "                        }\n",
       "                        break;\n",
       "                    }\n",
       "                }\n",
       "            }, 500);\n",
       "            "
      ],
      "text/plain": [
       "<IPython.core.display.Javascript object>"
      ]
     },
     "metadata": {},
     "output_type": "display_data"
    }
   ],
   "source": [
    "environ"
   ]
  },
  {
   "cell_type": "code",
   "execution_count": 47,
   "metadata": {
    "scrolled": true
   },
   "outputs": [
    {
     "data": {
      "image/png": "[encoded data removed]",
      "text/plain": [
       "<Figure size 432x288 with 1 Axes>"
      ]
     },
     "metadata": {
      "needs_background": "light"
     },
     "output_type": "display_data"
    },
    {
     "data": {
      "application/javascript": [
       "\n",
       "            setTimeout(function() {\n",
       "                var nbb_cell_id = 47;\n",
       "                var nbb_unformatted_code = \"sns.scatterplot(x=pcs[0], y=pcs[1], data=pcs)\\nplt.show()\";\n",
       "                var nbb_formatted_code = \"sns.scatterplot(x=pcs[0], y=pcs[1], data=pcs)\\nplt.show()\";\n",
       "                var nbb_cells = Jupyter.notebook.get_cells();\n",
       "                for (var i = 0; i < nbb_cells.length; ++i) {\n",
       "                    if (nbb_cells[i].input_prompt_number == nbb_cell_id) {\n",
       "                        if (nbb_cells[i].get_text() == nbb_unformatted_code) {\n",
       "                             nbb_cells[i].set_text(nbb_formatted_code);\n",
       "                        }\n",
       "                        break;\n",
       "                    }\n",
       "                }\n",
       "            }, 500);\n",
       "            "
      ],
      "text/plain": [
       "<IPython.core.display.Javascript object>"
      ]
     },
     "metadata": {},
     "output_type": "display_data"
    }
   ],
   "source": [
    "sns.scatterplot(x=pcs[0], y=pcs[1], data=pcs)\n",
    "plt.show()"
   ]
  },
  {
   "cell_type": "markdown",
   "metadata": {},
   "source": [
    "K-Means"
   ]
  },
  {
   "cell_type": "code",
   "execution_count": 84,
   "metadata": {},
   "outputs": [
    {
     "data": {
      "application/javascript": [
       "\n",
       "            setTimeout(function() {\n",
       "                var nbb_cell_id = 84;\n",
       "                var nbb_unformatted_code = \"k = 4\\n# 3 or 4 is the best bet\";\n",
       "                var nbb_formatted_code = \"k = 4\\n# 3 or 4 is the best bet\";\n",
       "                var nbb_cells = Jupyter.notebook.get_cells();\n",
       "                for (var i = 0; i < nbb_cells.length; ++i) {\n",
       "                    if (nbb_cells[i].input_prompt_number == nbb_cell_id) {\n",
       "                        if (nbb_cells[i].get_text() == nbb_unformatted_code) {\n",
       "                             nbb_cells[i].set_text(nbb_formatted_code);\n",
       "                        }\n",
       "                        break;\n",
       "                    }\n",
       "                }\n",
       "            }, 500);\n",
       "            "
      ],
      "text/plain": [
       "<IPython.core.display.Javascript object>"
      ]
     },
     "metadata": {},
     "output_type": "display_data"
    }
   ],
   "source": [
    "k = 4\n",
    "# 3 or 4 is the best bet"
   ]
  },
  {
   "cell_type": "code",
   "execution_count": 79,
   "metadata": {},
   "outputs": [
    {
     "data": {
      "text/plain": [
       "KMeans(algorithm='auto', copy_x=True, init='k-means++', max_iter=300,\n",
       "       n_clusters=4, n_init=10, n_jobs=None, precompute_distances='auto',\n",
       "       random_state=None, tol=0.0001, verbose=0)"
      ]
     },
     "execution_count": 79,
     "metadata": {},
     "output_type": "execute_result"
    },
    {
     "data": {
      "application/javascript": [
       "\n",
       "            setTimeout(function() {\n",
       "                var nbb_cell_id = 79;\n",
       "                var nbb_unformatted_code = \"kmeans = KMeans(k)\\nkmeans.fit(scaled_data)\";\n",
       "                var nbb_formatted_code = \"kmeans = KMeans(k)\\nkmeans.fit(scaled_data)\";\n",
       "                var nbb_cells = Jupyter.notebook.get_cells();\n",
       "                for (var i = 0; i < nbb_cells.length; ++i) {\n",
       "                    if (nbb_cells[i].input_prompt_number == nbb_cell_id) {\n",
       "                        if (nbb_cells[i].get_text() == nbb_unformatted_code) {\n",
       "                             nbb_cells[i].set_text(nbb_formatted_code);\n",
       "                        }\n",
       "                        break;\n",
       "                    }\n",
       "                }\n",
       "            }, 500);\n",
       "            "
      ],
      "text/plain": [
       "<IPython.core.display.Javascript object>"
      ]
     },
     "metadata": {},
     "output_type": "display_data"
    }
   ],
   "source": [
    "kmeans = KMeans(k)\n",
    "kmeans.fit(scaled_data)"
   ]
  },
  {
   "cell_type": "code",
   "execution_count": 80,
   "metadata": {},
   "outputs": [
    {
     "data": {
      "text/plain": [
       "3    76\n",
       "1    73\n",
       "0    51\n",
       "2    37\n",
       "Name: labels, dtype: int64"
      ]
     },
     "execution_count": 80,
     "metadata": {},
     "output_type": "execute_result"
    },
    {
     "data": {
      "application/javascript": [
       "\n",
       "            setTimeout(function() {\n",
       "                var nbb_cell_id = 80;\n",
       "                var nbb_unformatted_code = \"labels = kmeans.labels_\\nenviron_kmeans3 = environ\\npcs[\\\"labels\\\"] = labels\\nenviron_kmeans3[\\\"labels\\\"] = labels\\nenviron_kmeans3[\\\"labels\\\"].value_counts()\";\n",
       "                var nbb_formatted_code = \"labels = kmeans.labels_\\nenviron_kmeans3 = environ\\npcs[\\\"labels\\\"] = labels\\nenviron_kmeans3[\\\"labels\\\"] = labels\\nenviron_kmeans3[\\\"labels\\\"].value_counts()\";\n",
       "                var nbb_cells = Jupyter.notebook.get_cells();\n",
       "                for (var i = 0; i < nbb_cells.length; ++i) {\n",
       "                    if (nbb_cells[i].input_prompt_number == nbb_cell_id) {\n",
       "                        if (nbb_cells[i].get_text() == nbb_unformatted_code) {\n",
       "                             nbb_cells[i].set_text(nbb_formatted_code);\n",
       "                        }\n",
       "                        break;\n",
       "                    }\n",
       "                }\n",
       "            }, 500);\n",
       "            "
      ],
      "text/plain": [
       "<IPython.core.display.Javascript object>"
      ]
     },
     "metadata": {},
     "output_type": "display_data"
    }
   ],
   "source": [
    "labels = kmeans.labels_\n",
    "environ_kmeans3 = environ\n",
    "pcs[\"labels\"] = labels\n",
    "environ_kmeans3[\"labels\"] = labels\n",
    "environ_kmeans3[\"labels\"].value_counts()"
   ]
  },
  {
   "cell_type": "code",
   "execution_count": 81,
   "metadata": {},
   "outputs": [
    {
     "data": {
      "image/png": "[encoded data removed]",
      "text/plain": [
       "<Figure size 432x288 with 1 Axes>"
      ]
     },
     "metadata": {
      "needs_background": "light"
     },
     "output_type": "display_data"
    },
    {
     "data": {
      "application/javascript": [
       "\n",
       "            setTimeout(function() {\n",
       "                var nbb_cell_id = 81;\n",
       "                var nbb_unformatted_code = \"sns.scatterplot(x=pcs[0], y=pcs[1], data=pcs, hue=pcs[\\\"labels\\\"])\\nplt.show()\";\n",
       "                var nbb_formatted_code = \"sns.scatterplot(x=pcs[0], y=pcs[1], data=pcs, hue=pcs[\\\"labels\\\"])\\nplt.show()\";\n",
       "                var nbb_cells = Jupyter.notebook.get_cells();\n",
       "                for (var i = 0; i < nbb_cells.length; ++i) {\n",
       "                    if (nbb_cells[i].input_prompt_number == nbb_cell_id) {\n",
       "                        if (nbb_cells[i].get_text() == nbb_unformatted_code) {\n",
       "                             nbb_cells[i].set_text(nbb_formatted_code);\n",
       "                        }\n",
       "                        break;\n",
       "                    }\n",
       "                }\n",
       "            }, 500);\n",
       "            "
      ],
      "text/plain": [
       "<IPython.core.display.Javascript object>"
      ]
     },
     "metadata": {},
     "output_type": "display_data"
    }
   ],
   "source": [
    "sns.scatterplot(x=pcs[0], y=pcs[1], data=pcs, hue=pcs[\"labels\"])\n",
    "plt.show()"
   ]
  },
  {
   "cell_type": "code",
   "execution_count": 69,
   "metadata": {},
   "outputs": [
    {
     "data": {
      "text/html": [
       "<style  type=\"text/css\" >\n",
       "    #T_4cd16ee6_0b4d_11eb_b0b3_7085c233535crow0_col0 {\n",
       "            background-color:  #023858;\n",
       "            color:  #f1f1f1;\n",
       "        }    #T_4cd16ee6_0b4d_11eb_b0b3_7085c233535crow0_col1 {\n",
       "            background-color:  #d4d4e8;\n",
       "            color:  #000000;\n",
       "        }    #T_4cd16ee6_0b4d_11eb_b0b3_7085c233535crow0_col2 {\n",
       "            background-color:  #fff7fb;\n",
       "            color:  #000000;\n",
       "        }    #T_4cd16ee6_0b4d_11eb_b0b3_7085c233535crow0_col3 {\n",
       "            background-color:  #fff7fb;\n",
       "            color:  #000000;\n",
       "        }    #T_4cd16ee6_0b4d_11eb_b0b3_7085c233535crow1_col0 {\n",
       "            background-color:  #fff7fb;\n",
       "            color:  #000000;\n",
       "        }    #T_4cd16ee6_0b4d_11eb_b0b3_7085c233535crow1_col1 {\n",
       "            background-color:  #023858;\n",
       "            color:  #f1f1f1;\n",
       "        }    #T_4cd16ee6_0b4d_11eb_b0b3_7085c233535crow1_col2 {\n",
       "            background-color:  #b9c6e0;\n",
       "            color:  #000000;\n",
       "        }    #T_4cd16ee6_0b4d_11eb_b0b3_7085c233535crow1_col3 {\n",
       "            background-color:  #0f76b3;\n",
       "            color:  #f1f1f1;\n",
       "        }    #T_4cd16ee6_0b4d_11eb_b0b3_7085c233535crow2_col0 {\n",
       "            background-color:  #fff7fb;\n",
       "            color:  #000000;\n",
       "        }    #T_4cd16ee6_0b4d_11eb_b0b3_7085c233535crow2_col1 {\n",
       "            background-color:  #023858;\n",
       "            color:  #f1f1f1;\n",
       "        }    #T_4cd16ee6_0b4d_11eb_b0b3_7085c233535crow2_col2 {\n",
       "            background-color:  #c1cae2;\n",
       "            color:  #000000;\n",
       "        }    #T_4cd16ee6_0b4d_11eb_b0b3_7085c233535crow2_col3 {\n",
       "            background-color:  #8fb4d6;\n",
       "            color:  #000000;\n",
       "        }    #T_4cd16ee6_0b4d_11eb_b0b3_7085c233535crow3_col0 {\n",
       "            background-color:  #023858;\n",
       "            color:  #f1f1f1;\n",
       "        }    #T_4cd16ee6_0b4d_11eb_b0b3_7085c233535crow3_col1 {\n",
       "            background-color:  #8eb3d5;\n",
       "            color:  #000000;\n",
       "        }    #T_4cd16ee6_0b4d_11eb_b0b3_7085c233535crow3_col2 {\n",
       "            background-color:  #2a88bc;\n",
       "            color:  #000000;\n",
       "        }    #T_4cd16ee6_0b4d_11eb_b0b3_7085c233535crow3_col3 {\n",
       "            background-color:  #fff7fb;\n",
       "            color:  #000000;\n",
       "        }    #T_4cd16ee6_0b4d_11eb_b0b3_7085c233535crow4_col0 {\n",
       "            background-color:  #023858;\n",
       "            color:  #f1f1f1;\n",
       "        }    #T_4cd16ee6_0b4d_11eb_b0b3_7085c233535crow4_col1 {\n",
       "            background-color:  #fff7fb;\n",
       "            color:  #000000;\n",
       "        }    #T_4cd16ee6_0b4d_11eb_b0b3_7085c233535crow4_col2 {\n",
       "            background-color:  #1077b4;\n",
       "            color:  #f1f1f1;\n",
       "        }    #T_4cd16ee6_0b4d_11eb_b0b3_7085c233535crow4_col3 {\n",
       "            background-color:  #a8bedc;\n",
       "            color:  #000000;\n",
       "        }    #T_4cd16ee6_0b4d_11eb_b0b3_7085c233535crow5_col0 {\n",
       "            background-color:  #023858;\n",
       "            color:  #f1f1f1;\n",
       "        }    #T_4cd16ee6_0b4d_11eb_b0b3_7085c233535crow5_col1 {\n",
       "            background-color:  #dddbec;\n",
       "            color:  #000000;\n",
       "        }    #T_4cd16ee6_0b4d_11eb_b0b3_7085c233535crow5_col2 {\n",
       "            background-color:  #c8cde4;\n",
       "            color:  #000000;\n",
       "        }    #T_4cd16ee6_0b4d_11eb_b0b3_7085c233535crow5_col3 {\n",
       "            background-color:  #fff7fb;\n",
       "            color:  #000000;\n",
       "        }    #T_4cd16ee6_0b4d_11eb_b0b3_7085c233535crow6_col0 {\n",
       "            background-color:  #023858;\n",
       "            color:  #f1f1f1;\n",
       "        }    #T_4cd16ee6_0b4d_11eb_b0b3_7085c233535crow6_col1 {\n",
       "            background-color:  #b4c4df;\n",
       "            color:  #000000;\n",
       "        }    #T_4cd16ee6_0b4d_11eb_b0b3_7085c233535crow6_col2 {\n",
       "            background-color:  #ced0e6;\n",
       "            color:  #000000;\n",
       "        }    #T_4cd16ee6_0b4d_11eb_b0b3_7085c233535crow6_col3 {\n",
       "            background-color:  #fff7fb;\n",
       "            color:  #000000;\n",
       "        }    #T_4cd16ee6_0b4d_11eb_b0b3_7085c233535crow7_col0 {\n",
       "            background-color:  #023858;\n",
       "            color:  #f1f1f1;\n",
       "        }    #T_4cd16ee6_0b4d_11eb_b0b3_7085c233535crow7_col1 {\n",
       "            background-color:  #b8c6e0;\n",
       "            color:  #000000;\n",
       "        }    #T_4cd16ee6_0b4d_11eb_b0b3_7085c233535crow7_col2 {\n",
       "            background-color:  #c5cce3;\n",
       "            color:  #000000;\n",
       "        }    #T_4cd16ee6_0b4d_11eb_b0b3_7085c233535crow7_col3 {\n",
       "            background-color:  #fff7fb;\n",
       "            color:  #000000;\n",
       "        }    #T_4cd16ee6_0b4d_11eb_b0b3_7085c233535crow8_col0 {\n",
       "            background-color:  #023858;\n",
       "            color:  #f1f1f1;\n",
       "        }    #T_4cd16ee6_0b4d_11eb_b0b3_7085c233535crow8_col1 {\n",
       "            background-color:  #dcdaeb;\n",
       "            color:  #000000;\n",
       "        }    #T_4cd16ee6_0b4d_11eb_b0b3_7085c233535crow8_col2 {\n",
       "            background-color:  #78abd0;\n",
       "            color:  #000000;\n",
       "        }    #T_4cd16ee6_0b4d_11eb_b0b3_7085c233535crow8_col3 {\n",
       "            background-color:  #fff7fb;\n",
       "            color:  #000000;\n",
       "        }    #T_4cd16ee6_0b4d_11eb_b0b3_7085c233535crow9_col0 {\n",
       "            background-color:  #f8f1f8;\n",
       "            color:  #000000;\n",
       "        }    #T_4cd16ee6_0b4d_11eb_b0b3_7085c233535crow9_col1 {\n",
       "            background-color:  #fff7fb;\n",
       "            color:  #000000;\n",
       "        }    #T_4cd16ee6_0b4d_11eb_b0b3_7085c233535crow9_col2 {\n",
       "            background-color:  #88b1d4;\n",
       "            color:  #000000;\n",
       "        }    #T_4cd16ee6_0b4d_11eb_b0b3_7085c233535crow9_col3 {\n",
       "            background-color:  #023858;\n",
       "            color:  #f1f1f1;\n",
       "        }    #T_4cd16ee6_0b4d_11eb_b0b3_7085c233535crow10_col0 {\n",
       "            background-color:  #023858;\n",
       "            color:  #f1f1f1;\n",
       "        }    #T_4cd16ee6_0b4d_11eb_b0b3_7085c233535crow10_col1 {\n",
       "            background-color:  #cacee5;\n",
       "            color:  #000000;\n",
       "        }    #T_4cd16ee6_0b4d_11eb_b0b3_7085c233535crow10_col2 {\n",
       "            background-color:  #4295c3;\n",
       "            color:  #000000;\n",
       "        }    #T_4cd16ee6_0b4d_11eb_b0b3_7085c233535crow10_col3 {\n",
       "            background-color:  #fff7fb;\n",
       "            color:  #000000;\n",
       "        }    #T_4cd16ee6_0b4d_11eb_b0b3_7085c233535crow11_col0 {\n",
       "            background-color:  #023858;\n",
       "            color:  #f1f1f1;\n",
       "        }    #T_4cd16ee6_0b4d_11eb_b0b3_7085c233535crow11_col1 {\n",
       "            background-color:  #f2ecf5;\n",
       "            color:  #000000;\n",
       "        }    #T_4cd16ee6_0b4d_11eb_b0b3_7085c233535crow11_col2 {\n",
       "            background-color:  #3d93c2;\n",
       "            color:  #000000;\n",
       "        }    #T_4cd16ee6_0b4d_11eb_b0b3_7085c233535crow11_col3 {\n",
       "            background-color:  #fff7fb;\n",
       "            color:  #000000;\n",
       "        }    #T_4cd16ee6_0b4d_11eb_b0b3_7085c233535crow12_col0 {\n",
       "            background-color:  #023858;\n",
       "            color:  #f1f1f1;\n",
       "        }    #T_4cd16ee6_0b4d_11eb_b0b3_7085c233535crow12_col1 {\n",
       "            background-color:  #efe9f3;\n",
       "            color:  #000000;\n",
       "        }    #T_4cd16ee6_0b4d_11eb_b0b3_7085c233535crow12_col2 {\n",
       "            background-color:  #4496c3;\n",
       "            color:  #000000;\n",
       "        }    #T_4cd16ee6_0b4d_11eb_b0b3_7085c233535crow12_col3 {\n",
       "            background-color:  #fff7fb;\n",
       "            color:  #000000;\n",
       "        }    #T_4cd16ee6_0b4d_11eb_b0b3_7085c233535crow13_col0 {\n",
       "            background-color:  #fff7fb;\n",
       "            color:  #000000;\n",
       "        }    #T_4cd16ee6_0b4d_11eb_b0b3_7085c233535crow13_col1 {\n",
       "            background-color:  #023858;\n",
       "            color:  #f1f1f1;\n",
       "        }    #T_4cd16ee6_0b4d_11eb_b0b3_7085c233535crow13_col2 {\n",
       "            background-color:  #cccfe5;\n",
       "            color:  #000000;\n",
       "        }    #T_4cd16ee6_0b4d_11eb_b0b3_7085c233535crow13_col3 {\n",
       "            background-color:  #03466e;\n",
       "            color:  #f1f1f1;\n",
       "        }    #T_4cd16ee6_0b4d_11eb_b0b3_7085c233535crow14_col0 {\n",
       "            background-color:  #023858;\n",
       "            color:  #f1f1f1;\n",
       "        }    #T_4cd16ee6_0b4d_11eb_b0b3_7085c233535crow14_col1 {\n",
       "            background-color:  #fff7fb;\n",
       "            color:  #000000;\n",
       "        }    #T_4cd16ee6_0b4d_11eb_b0b3_7085c233535crow14_col2 {\n",
       "            background-color:  #03517e;\n",
       "            color:  #f1f1f1;\n",
       "        }    #T_4cd16ee6_0b4d_11eb_b0b3_7085c233535crow14_col3 {\n",
       "            background-color:  #2d8abd;\n",
       "            color:  #000000;\n",
       "        }    #T_4cd16ee6_0b4d_11eb_b0b3_7085c233535crow15_col0 {\n",
       "            background-color:  #fff7fb;\n",
       "            color:  #000000;\n",
       "        }    #T_4cd16ee6_0b4d_11eb_b0b3_7085c233535crow15_col1 {\n",
       "            background-color:  #c9cee4;\n",
       "            color:  #000000;\n",
       "        }    #T_4cd16ee6_0b4d_11eb_b0b3_7085c233535crow15_col2 {\n",
       "            background-color:  #b3c3de;\n",
       "            color:  #000000;\n",
       "        }    #T_4cd16ee6_0b4d_11eb_b0b3_7085c233535crow15_col3 {\n",
       "            background-color:  #023858;\n",
       "            color:  #f1f1f1;\n",
       "        }    #T_4cd16ee6_0b4d_11eb_b0b3_7085c233535crow16_col0 {\n",
       "            background-color:  #023858;\n",
       "            color:  #f1f1f1;\n",
       "        }    #T_4cd16ee6_0b4d_11eb_b0b3_7085c233535crow16_col1 {\n",
       "            background-color:  #fff7fb;\n",
       "            color:  #000000;\n",
       "        }    #T_4cd16ee6_0b4d_11eb_b0b3_7085c233535crow16_col2 {\n",
       "            background-color:  #045382;\n",
       "            color:  #f1f1f1;\n",
       "        }    #T_4cd16ee6_0b4d_11eb_b0b3_7085c233535crow16_col3 {\n",
       "            background-color:  #034871;\n",
       "            color:  #f1f1f1;\n",
       "        }    #T_4cd16ee6_0b4d_11eb_b0b3_7085c233535crow17_col0 {\n",
       "            background-color:  #328dbf;\n",
       "            color:  #000000;\n",
       "        }    #T_4cd16ee6_0b4d_11eb_b0b3_7085c233535crow17_col1 {\n",
       "            background-color:  #fff7fb;\n",
       "            color:  #000000;\n",
       "        }    #T_4cd16ee6_0b4d_11eb_b0b3_7085c233535crow17_col2 {\n",
       "            background-color:  #167bb6;\n",
       "            color:  #000000;\n",
       "        }    #T_4cd16ee6_0b4d_11eb_b0b3_7085c233535crow17_col3 {\n",
       "            background-color:  #023858;\n",
       "            color:  #f1f1f1;\n",
       "        }    #T_4cd16ee6_0b4d_11eb_b0b3_7085c233535crow18_col0 {\n",
       "            background-color:  #023858;\n",
       "            color:  #f1f1f1;\n",
       "        }    #T_4cd16ee6_0b4d_11eb_b0b3_7085c233535crow18_col1 {\n",
       "            background-color:  #fff7fb;\n",
       "            color:  #000000;\n",
       "        }    #T_4cd16ee6_0b4d_11eb_b0b3_7085c233535crow18_col2 {\n",
       "            background-color:  #034973;\n",
       "            color:  #f1f1f1;\n",
       "        }    #T_4cd16ee6_0b4d_11eb_b0b3_7085c233535crow18_col3 {\n",
       "            background-color:  #0568a3;\n",
       "            color:  #f1f1f1;\n",
       "        }    #T_4cd16ee6_0b4d_11eb_b0b3_7085c233535crow19_col0 {\n",
       "            background-color:  #023858;\n",
       "            color:  #f1f1f1;\n",
       "        }    #T_4cd16ee6_0b4d_11eb_b0b3_7085c233535crow19_col1 {\n",
       "            background-color:  #fff7fb;\n",
       "            color:  #000000;\n",
       "        }    #T_4cd16ee6_0b4d_11eb_b0b3_7085c233535crow19_col2 {\n",
       "            background-color:  #045e93;\n",
       "            color:  #f1f1f1;\n",
       "        }    #T_4cd16ee6_0b4d_11eb_b0b3_7085c233535crow19_col3 {\n",
       "            background-color:  #65a3cb;\n",
       "            color:  #000000;\n",
       "        }    #T_4cd16ee6_0b4d_11eb_b0b3_7085c233535crow20_col0 {\n",
       "            background-color:  #fff7fb;\n",
       "            color:  #000000;\n",
       "        }    #T_4cd16ee6_0b4d_11eb_b0b3_7085c233535crow20_col1 {\n",
       "            background-color:  #023858;\n",
       "            color:  #f1f1f1;\n",
       "        }    #T_4cd16ee6_0b4d_11eb_b0b3_7085c233535crow20_col2 {\n",
       "            background-color:  #e7e3f0;\n",
       "            color:  #000000;\n",
       "        }    #T_4cd16ee6_0b4d_11eb_b0b3_7085c233535crow20_col3 {\n",
       "            background-color:  #2081b9;\n",
       "            color:  #000000;\n",
       "        }    #T_4cd16ee6_0b4d_11eb_b0b3_7085c233535crow21_col0 {\n",
       "            background-color:  #04588a;\n",
       "            color:  #f1f1f1;\n",
       "        }    #T_4cd16ee6_0b4d_11eb_b0b3_7085c233535crow21_col1 {\n",
       "            background-color:  #fff7fb;\n",
       "            color:  #000000;\n",
       "        }    #T_4cd16ee6_0b4d_11eb_b0b3_7085c233535crow21_col2 {\n",
       "            background-color:  #045b8e;\n",
       "            color:  #f1f1f1;\n",
       "        }    #T_4cd16ee6_0b4d_11eb_b0b3_7085c233535crow21_col3 {\n",
       "            background-color:  #023858;\n",
       "            color:  #f1f1f1;\n",
       "        }    #T_4cd16ee6_0b4d_11eb_b0b3_7085c233535crow22_col0 {\n",
       "            background-color:  #023858;\n",
       "            color:  #f1f1f1;\n",
       "        }    #T_4cd16ee6_0b4d_11eb_b0b3_7085c233535crow22_col1 {\n",
       "            background-color:  #fff7fb;\n",
       "            color:  #000000;\n",
       "        }    #T_4cd16ee6_0b4d_11eb_b0b3_7085c233535crow22_col2 {\n",
       "            background-color:  #034369;\n",
       "            color:  #f1f1f1;\n",
       "        }    #T_4cd16ee6_0b4d_11eb_b0b3_7085c233535crow22_col3 {\n",
       "            background-color:  #3f93c2;\n",
       "            color:  #000000;\n",
       "        }    #T_4cd16ee6_0b4d_11eb_b0b3_7085c233535crow23_col0 {\n",
       "            background-color:  #023858;\n",
       "            color:  #f1f1f1;\n",
       "        }    #T_4cd16ee6_0b4d_11eb_b0b3_7085c233535crow23_col1 {\n",
       "            background-color:  #1e80b8;\n",
       "            color:  #000000;\n",
       "        }    #T_4cd16ee6_0b4d_11eb_b0b3_7085c233535crow23_col2 {\n",
       "            background-color:  #1379b5;\n",
       "            color:  #f1f1f1;\n",
       "        }    #T_4cd16ee6_0b4d_11eb_b0b3_7085c233535crow23_col3 {\n",
       "            background-color:  #fff7fb;\n",
       "            color:  #000000;\n",
       "        }</style><table id=\"T_4cd16ee6_0b4d_11eb_b0b3_7085c233535c\" ><thead>    <tr>        <th class=\"index_name level0\" >labels</th>        <th class=\"col_heading level0 col0\" >0</th>        <th class=\"col_heading level0 col1\" >1</th>        <th class=\"col_heading level0 col2\" >2</th>        <th class=\"col_heading level0 col3\" >3</th>    </tr></thead><tbody>\n",
       "                <tr>\n",
       "                        <th id=\"T_4cd16ee6_0b4d_11eb_b0b3_7085c233535clevel0_row0\" class=\"row_heading level0 row0\" >accessibility_to_cities</th>\n",
       "                        <td id=\"T_4cd16ee6_0b4d_11eb_b0b3_7085c233535crow0_col0\" class=\"data row0 col0\" >2283.582085</td>\n",
       "                        <td id=\"T_4cd16ee6_0b4d_11eb_b0b3_7085c233535crow0_col1\" class=\"data row0 col1\" >855.823688</td>\n",
       "                        <td id=\"T_4cd16ee6_0b4d_11eb_b0b3_7085c233535crow0_col2\" class=\"data row0 col2\" >430.789299</td>\n",
       "                        <td id=\"T_4cd16ee6_0b4d_11eb_b0b3_7085c233535crow0_col3\" class=\"data row0 col3\" >425.281291</td>\n",
       "            </tr>\n",
       "            <tr>\n",
       "                        <th id=\"T_4cd16ee6_0b4d_11eb_b0b3_7085c233535clevel0_row1\" class=\"row_heading level0 row1\" >elevation</th>\n",
       "                        <td id=\"T_4cd16ee6_0b4d_11eb_b0b3_7085c233535crow1_col0\" class=\"data row1 col0\" >200.429083</td>\n",
       "                        <td id=\"T_4cd16ee6_0b4d_11eb_b0b3_7085c233535crow1_col1\" class=\"data row1 col1\" >682.041370</td>\n",
       "                        <td id=\"T_4cd16ee6_0b4d_11eb_b0b3_7085c233535crow1_col2\" class=\"data row1 col2\" >353.910678</td>\n",
       "                        <td id=\"T_4cd16ee6_0b4d_11eb_b0b3_7085c233535crow1_col3\" class=\"data row1 col3\" >549.325360</td>\n",
       "            </tr>\n",
       "            <tr>\n",
       "                        <th id=\"T_4cd16ee6_0b4d_11eb_b0b3_7085c233535clevel0_row2\" class=\"row_heading level0 row2\" >cropland_cover</th>\n",
       "                        <td id=\"T_4cd16ee6_0b4d_11eb_b0b3_7085c233535crow2_col0\" class=\"data row2 col0\" >2.947670</td>\n",
       "                        <td id=\"T_4cd16ee6_0b4d_11eb_b0b3_7085c233535crow2_col1\" class=\"data row2 col1\" >32.329668</td>\n",
       "                        <td id=\"T_4cd16ee6_0b4d_11eb_b0b3_7085c233535crow2_col2\" class=\"data row2 col2\" >11.562836</td>\n",
       "                        <td id=\"T_4cd16ee6_0b4d_11eb_b0b3_7085c233535crow2_col3\" class=\"data row2 col3\" >15.599266</td>\n",
       "            </tr>\n",
       "            <tr>\n",
       "                        <th id=\"T_4cd16ee6_0b4d_11eb_b0b3_7085c233535clevel0_row3\" class=\"row_heading level0 row3\" >tree_canopy_cover</th>\n",
       "                        <td id=\"T_4cd16ee6_0b4d_11eb_b0b3_7085c233535crow3_col0\" class=\"data row3 col0\" >40.470466</td>\n",
       "                        <td id=\"T_4cd16ee6_0b4d_11eb_b0b3_7085c233535crow3_col1\" class=\"data row3 col1\" >19.328819</td>\n",
       "                        <td id=\"T_4cd16ee6_0b4d_11eb_b0b3_7085c233535crow3_col2\" class=\"data row3 col2\" >27.600600</td>\n",
       "                        <td id=\"T_4cd16ee6_0b4d_11eb_b0b3_7085c233535crow3_col3\" class=\"data row3 col3\" >3.121380</td>\n",
       "            </tr>\n",
       "            <tr>\n",
       "                        <th id=\"T_4cd16ee6_0b4d_11eb_b0b3_7085c233535clevel0_row4\" class=\"row_heading level0 row4\" >isothermality</th>\n",
       "                        <td id=\"T_4cd16ee6_0b4d_11eb_b0b3_7085c233535crow4_col0\" class=\"data row4 col0\" >77.542528</td>\n",
       "                        <td id=\"T_4cd16ee6_0b4d_11eb_b0b3_7085c233535crow4_col1\" class=\"data row4 col1\" >31.871154</td>\n",
       "                        <td id=\"T_4cd16ee6_0b4d_11eb_b0b3_7085c233535crow4_col2\" class=\"data row4 col2\" >64.712386</td>\n",
       "                        <td id=\"T_4cd16ee6_0b4d_11eb_b0b3_7085c233535crow4_col3\" class=\"data row4 col3\" >48.664906</td>\n",
       "            </tr>\n",
       "            <tr>\n",
       "                        <th id=\"T_4cd16ee6_0b4d_11eb_b0b3_7085c233535clevel0_row5\" class=\"row_heading level0 row5\" >rain_coldestQuart</th>\n",
       "                        <td id=\"T_4cd16ee6_0b4d_11eb_b0b3_7085c233535crow5_col0\" class=\"data row5 col0\" >599.893524</td>\n",
       "                        <td id=\"T_4cd16ee6_0b4d_11eb_b0b3_7085c233535crow5_col1\" class=\"data row5 col1\" >183.607818</td>\n",
       "                        <td id=\"T_4cd16ee6_0b4d_11eb_b0b3_7085c233535crow5_col2\" class=\"data row5 col2\" >225.466554</td>\n",
       "                        <td id=\"T_4cd16ee6_0b4d_11eb_b0b3_7085c233535crow5_col3\" class=\"data row5 col3\" >83.396792</td>\n",
       "            </tr>\n",
       "            <tr>\n",
       "                        <th id=\"T_4cd16ee6_0b4d_11eb_b0b3_7085c233535clevel0_row6\" class=\"row_heading level0 row6\" >rain_driestMonth</th>\n",
       "                        <td id=\"T_4cd16ee6_0b4d_11eb_b0b3_7085c233535crow6_col0\" class=\"data row6 col0\" >114.836735</td>\n",
       "                        <td id=\"T_4cd16ee6_0b4d_11eb_b0b3_7085c233535crow6_col1\" class=\"data row6 col1\" >39.956297</td>\n",
       "                        <td id=\"T_4cd16ee6_0b4d_11eb_b0b3_7085c233535crow6_col2\" class=\"data row6 col2\" >31.219992</td>\n",
       "                        <td id=\"T_4cd16ee6_0b4d_11eb_b0b3_7085c233535crow6_col3\" class=\"data row6 col3\" >2.263292</td>\n",
       "            </tr>\n",
       "            <tr>\n",
       "                        <th id=\"T_4cd16ee6_0b4d_11eb_b0b3_7085c233535clevel0_row7\" class=\"row_heading level0 row7\" >rain_driestQuart</th>\n",
       "                        <td id=\"T_4cd16ee6_0b4d_11eb_b0b3_7085c233535crow7_col0\" class=\"data row7 col0\" >389.980984</td>\n",
       "                        <td id=\"T_4cd16ee6_0b4d_11eb_b0b3_7085c233535crow7_col1\" class=\"data row7 col1\" >132.956452</td>\n",
       "                        <td id=\"T_4cd16ee6_0b4d_11eb_b0b3_7085c233535crow7_col2\" class=\"data row7 col2\" >117.468877</td>\n",
       "                        <td id=\"T_4cd16ee6_0b4d_11eb_b0b3_7085c233535crow7_col3\" class=\"data row7 col3\" >10.696985</td>\n",
       "            </tr>\n",
       "            <tr>\n",
       "                        <th id=\"T_4cd16ee6_0b4d_11eb_b0b3_7085c233535clevel0_row8\" class=\"row_heading level0 row8\" >rain_mean_annual</th>\n",
       "                        <td id=\"T_4cd16ee6_0b4d_11eb_b0b3_7085c233535crow8_col0\" class=\"data row8 col0\" >2694.070762</td>\n",
       "                        <td id=\"T_4cd16ee6_0b4d_11eb_b0b3_7085c233535crow8_col1\" class=\"data row8 col1\" >835.744680</td>\n",
       "                        <td id=\"T_4cd16ee6_0b4d_11eb_b0b3_7085c233535crow8_col2\" class=\"data row8 col2\" >1510.962215</td>\n",
       "                        <td id=\"T_4cd16ee6_0b4d_11eb_b0b3_7085c233535crow8_col3\" class=\"data row8 col3\" >381.308932</td>\n",
       "            </tr>\n",
       "            <tr>\n",
       "                        <th id=\"T_4cd16ee6_0b4d_11eb_b0b3_7085c233535clevel0_row9\" class=\"row_heading level0 row9\" >rain_seasonailty</th>\n",
       "                        <td id=\"T_4cd16ee6_0b4d_11eb_b0b3_7085c233535crow9_col0\" class=\"data row9 col0\" >37.774796</td>\n",
       "                        <td id=\"T_4cd16ee6_0b4d_11eb_b0b3_7085c233535crow9_col1\" class=\"data row9 col1\" >35.081386</td>\n",
       "                        <td id=\"T_4cd16ee6_0b4d_11eb_b0b3_7085c233535crow9_col2\" class=\"data row9 col2\" >61.151504</td>\n",
       "                        <td id=\"T_4cd16ee6_0b4d_11eb_b0b3_7085c233535crow9_col3\" class=\"data row9 col3\" >92.945057</td>\n",
       "            </tr>\n",
       "            <tr>\n",
       "                        <th id=\"T_4cd16ee6_0b4d_11eb_b0b3_7085c233535clevel0_row10\" class=\"row_heading level0 row10\" >rain_warmestQuart</th>\n",
       "                        <td id=\"T_4cd16ee6_0b4d_11eb_b0b3_7085c233535crow10_col0\" class=\"data row10 col0\" >677.434749</td>\n",
       "                        <td id=\"T_4cd16ee6_0b4d_11eb_b0b3_7085c233535crow10_col1\" class=\"data row10 col1\" >242.108050</td>\n",
       "                        <td id=\"T_4cd16ee6_0b4d_11eb_b0b3_7085c233535crow10_col2\" class=\"data row10 col2\" >439.730370</td>\n",
       "                        <td id=\"T_4cd16ee6_0b4d_11eb_b0b3_7085c233535crow10_col3\" class=\"data row10 col3\" >81.494945</td>\n",
       "            </tr>\n",
       "            <tr>\n",
       "                        <th id=\"T_4cd16ee6_0b4d_11eb_b0b3_7085c233535clevel0_row11\" class=\"row_heading level0 row11\" >rain_wettestMonth</th>\n",
       "                        <td id=\"T_4cd16ee6_0b4d_11eb_b0b3_7085c233535crow11_col0\" class=\"data row11 col0\" >361.015676</td>\n",
       "                        <td id=\"T_4cd16ee6_0b4d_11eb_b0b3_7085c233535crow11_col1\" class=\"data row11 col1\" >112.291038</td>\n",
       "                        <td id=\"T_4cd16ee6_0b4d_11eb_b0b3_7085c233535crow11_col2\" class=\"data row11 col2\" >255.135552</td>\n",
       "                        <td id=\"T_4cd16ee6_0b4d_11eb_b0b3_7085c233535crow11_col3\" class=\"data row11 col3\" >89.244542</td>\n",
       "            </tr>\n",
       "            <tr>\n",
       "                        <th id=\"T_4cd16ee6_0b4d_11eb_b0b3_7085c233535clevel0_row12\" class=\"row_heading level0 row12\" >rain_wettestQuart</th>\n",
       "                        <td id=\"T_4cd16ee6_0b4d_11eb_b0b3_7085c233535crow12_col0\" class=\"data row12 col0\" >981.726234</td>\n",
       "                        <td id=\"T_4cd16ee6_0b4d_11eb_b0b3_7085c233535crow12_col1\" class=\"data row12 col1\" >304.325020</td>\n",
       "                        <td id=\"T_4cd16ee6_0b4d_11eb_b0b3_7085c233535crow12_col2\" class=\"data row12 col2\" >674.333287</td>\n",
       "                        <td id=\"T_4cd16ee6_0b4d_11eb_b0b3_7085c233535crow12_col3\" class=\"data row12 col3\" >224.164079</td>\n",
       "            </tr>\n",
       "            <tr>\n",
       "                        <th id=\"T_4cd16ee6_0b4d_11eb_b0b3_7085c233535clevel0_row13\" class=\"row_heading level0 row13\" >temp_annual_range</th>\n",
       "                        <td id=\"T_4cd16ee6_0b4d_11eb_b0b3_7085c233535crow13_col0\" class=\"data row13 col0\" >9.352804</td>\n",
       "                        <td id=\"T_4cd16ee6_0b4d_11eb_b0b3_7085c233535crow13_col1\" class=\"data row13 col1\" >28.470780</td>\n",
       "                        <td id=\"T_4cd16ee6_0b4d_11eb_b0b3_7085c233535crow13_col2\" class=\"data row13 col2\" >14.421874</td>\n",
       "                        <td id=\"T_4cd16ee6_0b4d_11eb_b0b3_7085c233535crow13_col3\" class=\"data row13 col3\" >27.473423</td>\n",
       "            </tr>\n",
       "            <tr>\n",
       "                        <th id=\"T_4cd16ee6_0b4d_11eb_b0b3_7085c233535clevel0_row14\" class=\"row_heading level0 row14\" >temp_coldestQuart</th>\n",
       "                        <td id=\"T_4cd16ee6_0b4d_11eb_b0b3_7085c233535crow14_col0\" class=\"data row14 col0\" >24.622278</td>\n",
       "                        <td id=\"T_4cd16ee6_0b4d_11eb_b0b3_7085c233535crow14_col1\" class=\"data row14 col1\" >-2.289372</td>\n",
       "                        <td id=\"T_4cd16ee6_0b4d_11eb_b0b3_7085c233535crow14_col2\" class=\"data row14 col2\" >22.123791</td>\n",
       "                        <td id=\"T_4cd16ee6_0b4d_11eb_b0b3_7085c233535crow14_col3\" class=\"data row14 col3\" >15.058765</td>\n",
       "            </tr>\n",
       "            <tr>\n",
       "                        <th id=\"T_4cd16ee6_0b4d_11eb_b0b3_7085c233535clevel0_row15\" class=\"row_heading level0 row15\" >temp_diurnal_range</th>\n",
       "                        <td id=\"T_4cd16ee6_0b4d_11eb_b0b3_7085c233535crow15_col0\" class=\"data row15 col0\" >7.211756</td>\n",
       "                        <td id=\"T_4cd16ee6_0b4d_11eb_b0b3_7085c233535crow15_col1\" class=\"data row15 col1\" >8.778622</td>\n",
       "                        <td id=\"T_4cd16ee6_0b4d_11eb_b0b3_7085c233535crow15_col2\" class=\"data row15 col2\" >9.170938</td>\n",
       "                        <td id=\"T_4cd16ee6_0b4d_11eb_b0b3_7085c233535crow15_col3\" class=\"data row15 col3\" >12.993007</td>\n",
       "            </tr>\n",
       "            <tr>\n",
       "                        <th id=\"T_4cd16ee6_0b4d_11eb_b0b3_7085c233535clevel0_row16\" class=\"row_heading level0 row16\" >temp_driestQuart</th>\n",
       "                        <td id=\"T_4cd16ee6_0b4d_11eb_b0b3_7085c233535crow16_col0\" class=\"data row16 col0\" >25.137678</td>\n",
       "                        <td id=\"T_4cd16ee6_0b4d_11eb_b0b3_7085c233535crow16_col1\" class=\"data row16 col1\" >3.525054</td>\n",
       "                        <td id=\"T_4cd16ee6_0b4d_11eb_b0b3_7085c233535crow16_col2\" class=\"data row16 col2\" >22.944369</td>\n",
       "                        <td id=\"T_4cd16ee6_0b4d_11eb_b0b3_7085c233535crow16_col3\" class=\"data row16 col3\" >23.805466</td>\n",
       "            </tr>\n",
       "            <tr>\n",
       "                        <th id=\"T_4cd16ee6_0b4d_11eb_b0b3_7085c233535clevel0_row17\" class=\"row_heading level0 row17\" >temp_max_warmestMonth</th>\n",
       "                        <td id=\"T_4cd16ee6_0b4d_11eb_b0b3_7085c233535crow17_col0\" class=\"data row17 col0\" >30.375514</td>\n",
       "                        <td id=\"T_4cd16ee6_0b4d_11eb_b0b3_7085c233535crow17_col1\" class=\"data row17 col1\" >21.599068</td>\n",
       "                        <td id=\"T_4cd16ee6_0b4d_11eb_b0b3_7085c233535crow17_col2\" class=\"data row17 col2\" >31.323790</td>\n",
       "                        <td id=\"T_4cd16ee6_0b4d_11eb_b0b3_7085c233535crow17_col3\" class=\"data row17 col3\" >35.410721</td>\n",
       "            </tr>\n",
       "            <tr>\n",
       "                        <th id=\"T_4cd16ee6_0b4d_11eb_b0b3_7085c233535clevel0_row18\" class=\"row_heading level0 row18\" >temp_mean_annual</th>\n",
       "                        <td id=\"T_4cd16ee6_0b4d_11eb_b0b3_7085c233535crow18_col0\" class=\"data row18 col0\" >25.486241</td>\n",
       "                        <td id=\"T_4cd16ee6_0b4d_11eb_b0b3_7085c233535crow18_col1\" class=\"data row18 col1\" >6.720292</td>\n",
       "                        <td id=\"T_4cd16ee6_0b4d_11eb_b0b3_7085c233535crow18_col2\" class=\"data row18 col2\" >24.288333</td>\n",
       "                        <td id=\"T_4cd16ee6_0b4d_11eb_b0b3_7085c233535crow18_col3\" class=\"data row18 col3\" >21.671519</td>\n",
       "            </tr>\n",
       "            <tr>\n",
       "                        <th id=\"T_4cd16ee6_0b4d_11eb_b0b3_7085c233535clevel0_row19\" class=\"row_heading level0 row19\" >temp_min_coldestMonth</th>\n",
       "                        <td id=\"T_4cd16ee6_0b4d_11eb_b0b3_7085c233535crow19_col0\" class=\"data row19 col0\" >21.022711</td>\n",
       "                        <td id=\"T_4cd16ee6_0b4d_11eb_b0b3_7085c233535crow19_col1\" class=\"data row19 col1\" >-6.871712</td>\n",
       "                        <td id=\"T_4cd16ee6_0b4d_11eb_b0b3_7085c233535crow19_col2\" class=\"data row19 col2\" >16.901916</td>\n",
       "                        <td id=\"T_4cd16ee6_0b4d_11eb_b0b3_7085c233535crow19_col3\" class=\"data row19 col3\" >7.937298</td>\n",
       "            </tr>\n",
       "            <tr>\n",
       "                        <th id=\"T_4cd16ee6_0b4d_11eb_b0b3_7085c233535clevel0_row20\" class=\"row_heading level0 row20\" >temp_seasonality</th>\n",
       "                        <td id=\"T_4cd16ee6_0b4d_11eb_b0b3_7085c233535crow20_col0\" class=\"data row20 col0\" >6.335616</td>\n",
       "                        <td id=\"T_4cd16ee6_0b4d_11eb_b0b3_7085c233535crow20_col1\" class=\"data row20 col1\" >69.836708</td>\n",
       "                        <td id=\"T_4cd16ee6_0b4d_11eb_b0b3_7085c233535crow20_col2\" class=\"data row20 col2\" >15.783694</td>\n",
       "                        <td id=\"T_4cd16ee6_0b4d_11eb_b0b3_7085c233535crow20_col3\" class=\"data row20 col3\" >49.614235</td>\n",
       "            </tr>\n",
       "            <tr>\n",
       "                        <th id=\"T_4cd16ee6_0b4d_11eb_b0b3_7085c233535clevel0_row21\" class=\"row_heading level0 row21\" >temp_warmestQuart</th>\n",
       "                        <td id=\"T_4cd16ee6_0b4d_11eb_b0b3_7085c233535crow21_col0\" class=\"data row21 col0\" >26.222336</td>\n",
       "                        <td id=\"T_4cd16ee6_0b4d_11eb_b0b3_7085c233535crow21_col1\" class=\"data row21 col1\" >15.545816</td>\n",
       "                        <td id=\"T_4cd16ee6_0b4d_11eb_b0b3_7085c233535crow21_col2\" class=\"data row21 col2\" >26.093755</td>\n",
       "                        <td id=\"T_4cd16ee6_0b4d_11eb_b0b3_7085c233535crow21_col3\" class=\"data row21 col3\" >27.683939</td>\n",
       "            </tr>\n",
       "            <tr>\n",
       "                        <th id=\"T_4cd16ee6_0b4d_11eb_b0b3_7085c233535clevel0_row22\" class=\"row_heading level0 row22\" >temp_wettestQuart</th>\n",
       "                        <td id=\"T_4cd16ee6_0b4d_11eb_b0b3_7085c233535crow22_col0\" class=\"data row22 col0\" >25.685488</td>\n",
       "                        <td id=\"T_4cd16ee6_0b4d_11eb_b0b3_7085c233535crow22_col1\" class=\"data row22 col1\" >10.480218</td>\n",
       "                        <td id=\"T_4cd16ee6_0b4d_11eb_b0b3_7085c233535crow22_col2\" class=\"data row22 col2\" >25.069995</td>\n",
       "                        <td id=\"T_4cd16ee6_0b4d_11eb_b0b3_7085c233535crow22_col3\" class=\"data row22 col3\" >19.721705</td>\n",
       "            </tr>\n",
       "            <tr>\n",
       "                        <th id=\"T_4cd16ee6_0b4d_11eb_b0b3_7085c233535clevel0_row23\" class=\"row_heading level0 row23\" >cloudiness</th>\n",
       "                        <td id=\"T_4cd16ee6_0b4d_11eb_b0b3_7085c233535crow23_col0\" class=\"data row23 col0\" >255.478755</td>\n",
       "                        <td id=\"T_4cd16ee6_0b4d_11eb_b0b3_7085c233535crow23_col1\" class=\"data row23 col1\" >213.573431</td>\n",
       "                        <td id=\"T_4cd16ee6_0b4d_11eb_b0b3_7085c233535crow23_col2\" class=\"data row23 col2\" >216.914415</td>\n",
       "                        <td id=\"T_4cd16ee6_0b4d_11eb_b0b3_7085c233535crow23_col3\" class=\"data row23 col3\" >121.596645</td>\n",
       "            </tr>\n",
       "    </tbody></table>"
      ],
      "text/plain": [
       "<pandas.io.formats.style.Styler at 0x1798df797c8>"
      ]
     },
     "execution_count": 69,
     "metadata": {},
     "output_type": "execute_result"
    },
    {
     "data": {
      "application/javascript": [
       "\n",
       "            setTimeout(function() {\n",
       "                var nbb_cell_id = 69;\n",
       "                var nbb_unformatted_code = \"environ_kmeans3.groupby(\\\"labels\\\").mean().T.style.background_gradient(axis=1)\";\n",
       "                var nbb_formatted_code = \"environ_kmeans3.groupby(\\\"labels\\\").mean().T.style.background_gradient(axis=1)\";\n",
       "                var nbb_cells = Jupyter.notebook.get_cells();\n",
       "                for (var i = 0; i < nbb_cells.length; ++i) {\n",
       "                    if (nbb_cells[i].input_prompt_number == nbb_cell_id) {\n",
       "                        if (nbb_cells[i].get_text() == nbb_unformatted_code) {\n",
       "                             nbb_cells[i].set_text(nbb_formatted_code);\n",
       "                        }\n",
       "                        break;\n",
       "                    }\n",
       "                }\n",
       "            }, 500);\n",
       "            "
      ],
      "text/plain": [
       "<IPython.core.display.Javascript object>"
      ]
     },
     "metadata": {},
     "output_type": "display_data"
    }
   ],
   "source": [
    "environ_kmeans3.groupby(\"labels\").mean().T.style.background_gradient(axis=1)"
   ]
  },
  {
   "cell_type": "code",
   "execution_count": null,
   "metadata": {},
   "outputs": [],
   "source": []
  },
  {
   "cell_type": "code",
   "execution_count": null,
   "metadata": {},
   "outputs": [],
   "source": []
  },
  {
   "cell_type": "markdown",
   "metadata": {},
   "source": [
    "Gaussin Mixture Model"
   ]
  },
  {
   "cell_type": "code",
   "execution_count": 127,
   "metadata": {},
   "outputs": [
    {
     "data": {
      "application/javascript": [
       "\n",
       "            setTimeout(function() {\n",
       "                var nbb_cell_id = 127;\n",
       "                var nbb_unformatted_code = \"k = 4\";\n",
       "                var nbb_formatted_code = \"k = 4\";\n",
       "                var nbb_cells = Jupyter.notebook.get_cells();\n",
       "                for (var i = 0; i < nbb_cells.length; ++i) {\n",
       "                    if (nbb_cells[i].input_prompt_number == nbb_cell_id) {\n",
       "                        if (nbb_cells[i].get_text() == nbb_unformatted_code) {\n",
       "                             nbb_cells[i].set_text(nbb_formatted_code);\n",
       "                        }\n",
       "                        break;\n",
       "                    }\n",
       "                }\n",
       "            }, 500);\n",
       "            "
      ],
      "text/plain": [
       "<IPython.core.display.Javascript object>"
      ]
     },
     "metadata": {},
     "output_type": "display_data"
    }
   ],
   "source": [
    "k = 4"
   ]
  },
  {
   "cell_type": "code",
   "execution_count": 128,
   "metadata": {},
   "outputs": [
    {
     "data": {
      "text/plain": [
       "GaussianMixture(covariance_type='full', init_params='kmeans', max_iter=100,\n",
       "                means_init=None, n_components=4, n_init=1, precisions_init=None,\n",
       "                random_state=None, reg_covar=1e-06, tol=0.001, verbose=0,\n",
       "                verbose_interval=10, warm_start=False, weights_init=None)"
      ]
     },
     "execution_count": 128,
     "metadata": {},
     "output_type": "execute_result"
    },
    {
     "data": {
      "application/javascript": [
       "\n",
       "            setTimeout(function() {\n",
       "                var nbb_cell_id = 128;\n",
       "                var nbb_unformatted_code = \"gmm = GaussianMixture(n_components=k)\\ngmm.fit(scaled_data)\";\n",
       "                var nbb_formatted_code = \"gmm = GaussianMixture(n_components=k)\\ngmm.fit(scaled_data)\";\n",
       "                var nbb_cells = Jupyter.notebook.get_cells();\n",
       "                for (var i = 0; i < nbb_cells.length; ++i) {\n",
       "                    if (nbb_cells[i].input_prompt_number == nbb_cell_id) {\n",
       "                        if (nbb_cells[i].get_text() == nbb_unformatted_code) {\n",
       "                             nbb_cells[i].set_text(nbb_formatted_code);\n",
       "                        }\n",
       "                        break;\n",
       "                    }\n",
       "                }\n",
       "            }, 500);\n",
       "            "
      ],
      "text/plain": [
       "<IPython.core.display.Javascript object>"
      ]
     },
     "metadata": {},
     "output_type": "display_data"
    }
   ],
   "source": [
    "gmm = GaussianMixture(n_components=k)\n",
    "gmm.fit(scaled_data)"
   ]
  },
  {
   "cell_type": "code",
   "execution_count": 129,
   "metadata": {},
   "outputs": [
    {
     "data": {
      "text/plain": [
       "2    74\n",
       "3    73\n",
       "0    46\n",
       "1    44\n",
       "Name: labels, dtype: int64"
      ]
     },
     "execution_count": 129,
     "metadata": {},
     "output_type": "execute_result"
    },
    {
     "data": {
      "application/javascript": [
       "\n",
       "            setTimeout(function() {\n",
       "                var nbb_cell_id = 129;\n",
       "                var nbb_unformatted_code = \"labels = gmm.predict(scaled_data)\\nenviron_gmm = environ\\nenviron_gmm[\\\"labels\\\"] = labels\\nenviron_gmm[\\\"labels\\\"].value_counts()\";\n",
       "                var nbb_formatted_code = \"labels = gmm.predict(scaled_data)\\nenviron_gmm = environ\\nenviron_gmm[\\\"labels\\\"] = labels\\nenviron_gmm[\\\"labels\\\"].value_counts()\";\n",
       "                var nbb_cells = Jupyter.notebook.get_cells();\n",
       "                for (var i = 0; i < nbb_cells.length; ++i) {\n",
       "                    if (nbb_cells[i].input_prompt_number == nbb_cell_id) {\n",
       "                        if (nbb_cells[i].get_text() == nbb_unformatted_code) {\n",
       "                             nbb_cells[i].set_text(nbb_formatted_code);\n",
       "                        }\n",
       "                        break;\n",
       "                    }\n",
       "                }\n",
       "            }, 500);\n",
       "            "
      ],
      "text/plain": [
       "<IPython.core.display.Javascript object>"
      ]
     },
     "metadata": {},
     "output_type": "display_data"
    }
   ],
   "source": [
    "labels = gmm.predict(scaled_data)\n",
    "environ_gmm = environ\n",
    "environ_gmm[\"labels\"] = labels\n",
    "environ_gmm[\"labels\"].value_counts()"
   ]
  },
  {
   "cell_type": "code",
   "execution_count": 130,
   "metadata": {},
   "outputs": [
    {
     "ename": "NameError",
     "evalue": "name 'en' is not defined",
     "output_type": "error",
     "traceback": [
      "\u001b[1;31m---------------------------------------------------------------------------\u001b[0m",
      "\u001b[1;31mNameError\u001b[0m                                 Traceback (most recent call last)",
      "\u001b[1;32m<ipython-input-130-42e10a4ddeb8>\u001b[0m in \u001b[0;36m<module>\u001b[1;34m\u001b[0m\n\u001b[0;32m      1\u001b[0m \u001b[1;31m# pcs = pcs.rename(columns={0: \"0\", 1: \"1\"})\u001b[0m\u001b[1;33m\u001b[0m\u001b[1;33m\u001b[0m\u001b[1;33m\u001b[0m\u001b[0m\n\u001b[1;32m----> 2\u001b[1;33m \u001b[0men\u001b[0m\u001b[1;33m\u001b[0m\u001b[1;33m\u001b[0m\u001b[0m\n\u001b[0m",
      "\u001b[1;31mNameError\u001b[0m: name 'en' is not defined"
     ]
    },
    {
     "data": {
      "application/javascript": [
       "\n",
       "            setTimeout(function() {\n",
       "                var nbb_cell_id = 130;\n",
       "                var nbb_unformatted_code = \"# pcs = pcs.rename(columns={0: \\\"0\\\", 1: \\\"1\\\"})\\nen\";\n",
       "                var nbb_formatted_code = \"# pcs = pcs.rename(columns={0: \\\"0\\\", 1: \\\"1\\\"})\\nen\";\n",
       "                var nbb_cells = Jupyter.notebook.get_cells();\n",
       "                for (var i = 0; i < nbb_cells.length; ++i) {\n",
       "                    if (nbb_cells[i].input_prompt_number == nbb_cell_id) {\n",
       "                        if (nbb_cells[i].get_text() == nbb_unformatted_code) {\n",
       "                             nbb_cells[i].set_text(nbb_formatted_code);\n",
       "                        }\n",
       "                        break;\n",
       "                    }\n",
       "                }\n",
       "            }, 500);\n",
       "            "
      ],
      "text/plain": [
       "<IPython.core.display.Javascript object>"
      ]
     },
     "metadata": {},
     "output_type": "display_data"
    }
   ],
   "source": [
    "# pcs = pcs.rename(columns={0: \"0\", 1: \"1\"})\n",
    "en"
   ]
  },
  {
   "cell_type": "code",
   "execution_count": 131,
   "metadata": {},
   "outputs": [
    {
     "data": {
      "application/vnd.plotly.v1+json": {
       "config": {
        "plotlyServerURL": "https://plot.ly"
       },
       "data": [
        {
         "customdata": [
          [
           "Russia"
          ],
          [
           "United States of America"
          ],
          [
           "Canada"
          ],
          [
           "Indonesia"
          ],
          [
           "China"
          ],
          [
           "India"
          ],
          [
           "Mongolia"
          ],
          [
           "Australia"
          ],
          [
           "Kiribati"
          ],
          [
           "Mexico"
          ],
          [
           "Brazil"
          ],
          [
           "Chile"
          ],
          [
           "Argentina"
          ],
          [
           "Mali"
          ],
          [
           "Mauritania"
          ],
          [
           "Algeria"
          ],
          [
           "Libya"
          ],
          [
           "Sudan"
          ],
          [
           "Chad"
          ],
          [
           "Ethiopia"
          ],
          [
           "Kenya"
          ],
          [
           "Democratic Republic of the Congo"
          ],
          [
           "Angola"
          ],
          [
           "South Africa"
          ],
          [
           "Mozambique"
          ],
          [
           "Madagascar"
          ],
          [
           "Myanmar"
          ],
          [
           "Vietnam"
          ],
          [
           "Malaysia"
          ],
          [
           "Somalia"
          ],
          [
           "Saudi Arabia"
          ],
          [
           "Pakistan"
          ],
          [
           "Afghanistan"
          ],
          [
           "Iran"
          ],
          [
           "Turkey"
          ],
          [
           "Uzbekistan"
          ],
          [
           "Kazakhstan"
          ],
          [
           "Norway"
          ],
          [
           "Greenland"
          ],
          [
           "Japan"
          ],
          [
           "Federated States of Micronesia"
          ],
          [
           "French Polynesia"
          ],
          [
           "Colombia"
          ],
          [
           "Peru"
          ],
          [
           "Saint Helena"
          ],
          [
           "Portugal"
          ],
          [
           "Spain"
          ],
          [
           "Morocco"
          ],
          [
           "Western Sahara"
          ],
          [
           "Burkina Faso"
          ],
          [
           "Ghana"
          ],
          [
           "Nigeria"
          ],
          [
           "Central African Republic"
          ],
          [
           "Cameroon"
          ],
          [
           "Niger"
          ],
          [
           "Italy"
          ],
          [
           "Tunisia"
          ],
          [
           "Egypt"
          ],
          [
           "Jordan"
          ],
          [
           "Syria"
          ],
          [
           "Iraq"
          ],
          [
           "Eritrea"
          ],
          [
           "South Sudan"
          ],
          [
           "Uganda"
          ],
          [
           "United Republic of Tanzania"
          ],
          [
           "Malawi"
          ],
          [
           "Zambia"
          ],
          [
           "Republic of the Congo"
          ],
          [
           "Namibia"
          ],
          [
           "Botswana"
          ],
          [
           "Zimbabwe"
          ],
          [
           "Indian Ocean Territories"
          ],
          [
           "Thailand"
          ],
          [
           "Laos"
          ],
          [
           "Palau"
          ],
          [
           "Philippines"
          ],
          [
           "Kyrgyzstan"
          ],
          [
           "Nepal"
          ],
          [
           "Yemen"
          ],
          [
           "Oman"
          ],
          [
           "Turkmenistan"
          ],
          [
           "Ukraine"
          ],
          [
           "Sweden"
          ],
          [
           "Finland"
          ],
          [
           "Poland"
          ],
          [
           "Romania"
          ],
          [
           "Germany"
          ],
          [
           "France"
          ],
          [
           "United Kingdom"
          ],
          [
           "North Korea"
          ],
          [
           "Papua New Guinea"
          ],
          [
           "New Zealand"
          ],
          [
           "Venezuela"
          ],
          [
           "Guyana"
          ],
          [
           "Cuba"
          ],
          [
           "Bolivia"
          ],
          [
           "Paraguay"
          ],
          [
           "South Georgia and South Sandwich Islands"
          ],
          [
           "Senegal"
          ],
          [
           "Guinea"
          ],
          [
           "Liberia"
          ],
          [
           "Ivory Coast"
          ],
          [
           "Togo"
          ],
          [
           "Benin"
          ],
          [
           "Greece"
          ],
          [
           "Israel"
          ],
          [
           "Gabon"
          ],
          [
           "Cambodia"
          ],
          [
           "Taiwan"
          ],
          [
           "South Korea"
          ],
          [
           "Bangladesh"
          ],
          [
           "Tajikistan"
          ],
          [
           "Sri Lanka"
          ],
          [
           "United Arab Emirates"
          ],
          [
           "Azerbaijan"
          ],
          [
           "Georgia"
          ],
          [
           "Armenia"
          ],
          [
           "Bulgaria"
          ],
          [
           "Belarus"
          ],
          [
           "Latvia"
          ],
          [
           "Republic of Serbia"
          ],
          [
           "Croatia"
          ],
          [
           "Slovakia"
          ],
          [
           "Hungary"
          ],
          [
           "Austria"
          ],
          [
           "Czech Republic"
          ],
          [
           "Switzerland"
          ],
          [
           "Iceland"
          ],
          [
           "Marshall Islands"
          ],
          [
           "Northern Mariana Islands"
          ],
          [
           "Fiji"
          ],
          [
           "Solomon Islands"
          ],
          [
           "Tuvalu"
          ],
          [
           "Wallis and Futuna"
          ],
          [
           "French Guiana"
          ],
          [
           "Suriname"
          ],
          [
           "Guatemala"
          ],
          [
           "Nicaragua"
          ],
          [
           "Honduras"
          ],
          [
           "Panama"
          ],
          [
           "Ecuador"
          ],
          [
           "Uruguay"
          ],
          [
           "Cape Verde"
          ],
          [
           "Guinea Bissau"
          ],
          [
           "Gambia"
          ],
          [
           "Sierra Leone"
          ],
          [
           "Albania"
          ],
          [
           "Montenegro"
          ],
          [
           "Kosovo"
          ],
          [
           "Macedonia"
          ],
          [
           "Northern Cyprus"
          ],
          [
           "Cyprus"
          ],
          [
           "Lebanon"
          ],
          [
           "Djibouti"
          ],
          [
           "Comoros"
          ],
          [
           "Burundi"
          ],
          [
           "Rwanda"
          ],
          [
           "Lesotho"
          ],
          [
           "Swaziland"
          ],
          [
           "East Timor"
          ],
          [
           "Bhutan"
          ],
          [
           "Kuwait"
          ],
          [
           "Moldova"
          ],
          [
           "Denmark"
          ],
          [
           "Lithuania"
          ],
          [
           "Estonia"
          ],
          [
           "Bosnia and Herzegovina"
          ],
          [
           "Slovenia"
          ],
          [
           "Belgium"
          ],
          [
           "Netherlands"
          ],
          [
           "Ireland"
          ],
          [
           "New Caledonia"
          ],
          [
           "Vanuatu"
          ],
          [
           "Tonga"
          ],
          [
           "The Bahamas"
          ],
          [
           "Dominican Republic"
          ],
          [
           "Haiti"
          ],
          [
           "Jamaica"
          ],
          [
           "Belize"
          ],
          [
           "El Salvador"
          ],
          [
           "Costa Rica"
          ],
          [
           "Falkland Islands"
          ],
          [
           "Sao Tome and Principe"
          ],
          [
           "Equatorial Guinea"
          ],
          [
           "West Bank"
          ],
          [
           "Brunei"
          ],
          [
           "Siachen Glacier"
          ],
          [
           "Qatar"
          ],
          [
           "Faroe Islands"
          ],
          [
           "Samoa"
          ],
          [
           "United States Virgin Islands"
          ],
          [
           "Puerto Rico"
          ],
          [
           "Trinidad and Tobago"
          ],
          [
           "Cayman Islands"
          ],
          [
           "French Southern and Antarctic Lands"
          ],
          [
           "Gaza"
          ],
          [
           "Mauritius"
          ],
          [
           "Hong Kong S.A.R."
          ],
          [
           "Bahrain"
          ],
          [
           "Aland"
          ],
          [
           "Luxembourg"
          ],
          [
           "Turks and Caicos Islands"
          ],
          [
           "Antigua and Barbuda"
          ],
          [
           "Saint Vincent and the Grenadines"
          ],
          [
           "Heard Island and McDonald Islands"
          ],
          [
           "Andorra"
          ],
          [
           "Malta"
          ],
          [
           "Seychelles"
          ],
          [
           "British Indian Ocean Territory"
          ],
          [
           "Singapore"
          ],
          [
           "Jersey"
          ],
          [
           "Isle of Man"
          ],
          [
           "Saint Pierre and Miquelon"
          ],
          [
           "Guam"
          ],
          [
           "American Samoa"
          ],
          [
           "British Virgin Islands"
          ],
          [
           "Saint Kitts and Nevis"
          ],
          [
           "Grenada"
          ],
          [
           "Saint Lucia"
          ],
          [
           "Barbados"
          ],
          [
           "Dominica"
          ],
          [
           "Curacao"
          ],
          [
           "San Marino"
          ],
          [
           "Liechtenstein"
          ],
          [
           "Guernsey"
          ],
          [
           "Niue"
          ],
          [
           "Bermuda"
          ],
          [
           "Anguilla"
          ],
          [
           "Saint Martin"
          ],
          [
           "Sint Maarten"
          ],
          [
           "Montserrat"
          ],
          [
           "Aruba"
          ],
          [
           "Monaco"
          ],
          [
           "Nauru"
          ],
          [
           "Cook Islands"
          ],
          [
           "Saint Barthelemy"
          ],
          [
           "Macau S.A.R"
          ]
         ],
         "hovertemplate": "pc0=%{x}<br>pc1=%{y}<br>Country=%{customdata[0]}<br>labels=%{marker.color}<extra></extra>",
         "legendgroup": "",
         "marker": {
          "color": [
           2,
           2,
           2,
           0,
           2,
           3,
           2,
           1,
           0,
           1,
           3,
           2,
           1,
           1,
           1,
           1,
           1,
           1,
           1,
           3,
           3,
           3,
           3,
           1,
           3,
           3,
           3,
           3,
           0,
           1,
           1,
           1,
           1,
           1,
           2,
           1,
           2,
           2,
           2,
           2,
           0,
           0,
           0,
           3,
           3,
           2,
           2,
           1,
           1,
           3,
           3,
           3,
           3,
           3,
           1,
           2,
           1,
           1,
           1,
           1,
           1,
           1,
           3,
           3,
           3,
           3,
           3,
           3,
           1,
           1,
           1,
           0,
           3,
           3,
           0,
           0,
           2,
           3,
           1,
           1,
           1,
           2,
           2,
           2,
           2,
           2,
           2,
           2,
           2,
           2,
           0,
           2,
           0,
           0,
           3,
           3,
           3,
           2,
           1,
           3,
           0,
           3,
           3,
           3,
           2,
           1,
           3,
           3,
           0,
           2,
           3,
           2,
           3,
           1,
           2,
           2,
           2,
           2,
           2,
           2,
           2,
           2,
           2,
           2,
           2,
           2,
           2,
           2,
           0,
           0,
           0,
           0,
           0,
           0,
           0,
           0,
           3,
           3,
           3,
           0,
           0,
           2,
           3,
           3,
           3,
           0,
           2,
           2,
           2,
           2,
           1,
           1,
           1,
           1,
           0,
           3,
           3,
           2,
           3,
           3,
           2,
           1,
           2,
           2,
           2,
           2,
           2,
           2,
           2,
           2,
           2,
           3,
           0,
           0,
           3,
           3,
           3,
           3,
           0,
           3,
           0,
           2,
           3,
           0,
           1,
           0,
           2,
           1,
           2,
           0,
           3,
           3,
           0,
           3,
           2,
           1,
           3,
           3,
           1,
           2,
           2,
           3,
           3,
           0,
           2,
           2,
           1,
           0,
           0,
           0,
           2,
           2,
           2,
           0,
           0,
           3,
           3,
           0,
           0,
           3,
           0,
           3,
           2,
           2,
           2,
           0,
           3,
           3,
           3,
           3,
           3,
           3,
           2,
           0,
           0,
           3,
           3
          ],
          "coloraxis": "coloraxis",
          "symbol": "circle"
         },
         "mode": "markers",
         "name": "",
         "orientation": "v",
         "showlegend": false,
         "type": "scatter",
         "x": [
          -6.999396539736354,
          -4.166044805255246,
          -6.757577540301758,
          5.213409499102533,
          -4.7845418751372915,
          -0.2749106838301421,
          -7.06928789450225,
          -1.4410421775811868,
          4.139296642563538,
          -0.9120762780606241,
          2.428908355634019,
          -1.6927618029398068,
          -2.5052342308167477,
          -0.6888397269012807,
          -1.1350858555191496,
          -2.6476994150574074,
          -2.8081518798453278,
          -1.1086634514220957,
          -0.7952184129495504,
          0.03757537255369574,
          0.25481998131080663,
          2.3658577929587072,
          -0.14102173823080094,
          -2.3608361982510084,
          0.5438820141955507,
          1.2549530234100057,
          1.6240573508046696,
          1.87464667069218,
          6.002659454627973,
          -0.11214349216670524,
          -2.1688259833079426,
          -3.0320187300001264,
          -4.671642115420368,
          -3.6906869151301644,
          -3.703089522911245,
          -4.416651780820491,
          -5.687712487104643,
          -4.176264329069364,
          -7.229454609020359,
          -1.0573905401471877,
          8.668780053384857,
          3.5111914979797345,
          4.6360352605121,
          1.4232336280919917,
          0.10322517388250609,
          -1.940257723860249,
          -2.8522692067639968,
          -2.966883449666125,
          -1.8063436249323872,
          0.6203028297506042,
          2.027618285485247,
          1.1652264045855079,
          1.440776908183394,
          2.5213616023667638,
          -1.3711587715221105,
          -2.4847280304876733,
          -2.849544499558353,
          -2.8055974249205833,
          -3.3297502544745776,
          -3.4523704824957946,
          -3.067059362162944,
          -0.45186601013850747,
          1.2641682911869423,
          1.10271635434294,
          0.3010031512466792,
          -0.1014740364327344,
          -0.44652167645651314,
          2.662404825358275,
          -2.0868940474387845,
          -2.022463081679355,
          -1.3199018801423128,
          3.7380449843400165,
          1.4426888521508774,
          2.087855766839106,
          6.5934951424838495,
          4.304682588543535,
          -6.136396734452688,
          -1.0847584157642238,
          -1.6268605345486675,
          -1.34298180477859,
          -3.8701317474869152,
          -3.9304176398355795,
          -3.9101777212516433,
          -4.439236518447431,
          -3.6637712171492574,
          -3.5101135590115335,
          -2.873374759493438,
          -2.5224649115488744,
          -2.2296598955237394,
          -3.7694332727581243,
          5.5465298578064575,
          -0.4253334560940445,
          3.5188124360699353,
          4.103303653634407,
          1.3491408763981216,
          0.3163851134378228,
          0.39488171733398936,
          -1.4994035799503256,
          0.33633985720344844,
          2.1783093042077106,
          4.624140768244387,
          2.1657060478437313,
          1.7239206810251617,
          1.3995830696731644,
          -2.567326310264194,
          -2.2541606819152915,
          2.8180850718357027,
          2.299515277190947,
          2.6767219067755166,
          -1.9202669168751145,
          1.833109100876555,
          -5.538275478522411,
          3.405650966517352,
          -1.4372316531562446,
          -3.531874102071662,
          -3.01030932201736,
          -4.696726870285156,
          -3.2901240326255046,
          -3.8756762661166873,
          -3.733859805083559,
          -3.08643570889911,
          -2.3109317721271125,
          -3.2396362651130426,
          -3.4488765457870856,
          -2.8197374700114155,
          -3.342092933923386,
          -2.354209978064177,
          -2.64924851414993,
          6.640027565235017,
          4.115854985670402,
          4.560494513988861,
          6.6427903833393955,
          6.962926831753112,
          5.751702717670415,
          4.734404530255059,
          4.2633495665720975,
          2.3578066575621546,
          3.4110996547258017,
          2.2199308875180286,
          4.22357721588299,
          3.1999756222455735,
          -0.45499773847641184,
          -0.29365760797174273,
          2.1762305396509705,
          0.5510808701271311,
          4.521161770047393,
          -2.095454532968884,
          -2.1191473383511514,
          -3.0183044283330758,
          -3.27989507048021,
          -2.469084287772654,
          -2.200449663801001,
          -2.2711584466624393,
          -0.3420933434928864,
          3.197191209368306,
          0.20963784778654743,
          0.2645032584358203,
          -3.011904860833793,
          -0.7654495007182459,
          2.395431933983296,
          -1.2847638679727307,
          -2.445544394083907,
          -3.836898242531906,
          -3.228915814956356,
          -3.795518006734495,
          -3.899133608172414,
          -2.482558526976194,
          -2.2504397164732257,
          -2.5676737196321087,
          -2.5651957353424986,
          -1.7960994770696288,
          2.1231021976310873,
          5.065329250442722,
          3.2615358266919325,
          1.4092337090592928,
          1.6576804899814344,
          1.7168796147034353,
          2.8908783847171815,
          3.244693749003043,
          2.0758066633402006,
          4.434603110270365,
          -2.330240066488768,
          2.9917469942613177,
          3.5792012808026827,
          -2.1052879542666174,
          7.243428768054748,
          -8.283129874057035,
          -1.6053805987784344,
          -1.1632501889352096,
          7.119829491743021,
          2.026173034239701,
          2.6182321404284195,
          3.638070653995464,
          2.1795177701721817,
          -1.8358145723775525,
          -2.2247482715946023,
          2.1625212574802664,
          2.2029730917976145,
          -1.5903897396065372,
          -3.704154236439768,
          -2.7186221960005663,
          1.0570549479166125,
          1.882968552263315,
          3.818326550107754,
          -2.06421660066785,
          -2.59346552513288,
          -1.8228507320887777,
          4.240832688248354,
          4.750195618707709,
          5.244808040702904,
          -2.06016344982805,
          -2.043561988416728,
          -2.068421079777448,
          4.597616470196792,
          6.69838559146645,
          2.1348993663207763,
          2.4641841399231788,
          3.671986184077864,
          3.499929562146961,
          2.0246269079698553,
          4.5317713891738345,
          1.433532285982888,
          -2.8997734759355045,
          -2.3072456442137743,
          -1.728329619922419,
          3.3480448926743853,
          1.423897367073755,
          1.918765932874242,
          1.9654491364912574,
          1.973416712941832,
          3.047196091530414,
          1.089555018838814,
          -1.8056712230193712,
          4.481926510473196,
          4.137677782441477,
          1.9756193503815196,
          1.461629340825362
         ],
         "xaxis": "x",
         "y": [
          3.3311074848166764,
          0.986385463377429,
          4.024033566812203,
          2.1482950747604166,
          0.5602152912124381,
          -2.66727514693396,
          0.5287930903549795,
          -2.6051370616575773,
          0.16302229820588338,
          -2.3079600348143914,
          -0.6602412173375704,
          1.8300448355709535,
          -0.6977858474959202,
          -5.104204463875679,
          -5.192127966048667,
          -4.0810755255092745,
          -3.546635383614503,
          -5.115231257565015,
          -4.964929466169981,
          -2.5161959559925755,
          -2.8091412488115317,
          -0.38589090413981103,
          -2.0642024068163636,
          -1.8994912722958919,
          -2.467822639578352,
          -1.7399360306221003,
          -0.9845506437833014,
          -0.2934728266173415,
          2.621330751656278,
          -4.0250933263932325,
          -4.563973910540656,
          -3.0332123818224876,
          -1.7680354391236646,
          -2.849298486765869,
          -0.11485366101298815,
          -1.6754594671925498,
          0.4807497062310763,
          4.168399757289141,
          7.668164353629217,
          2.677644389300615,
          4.787163521961191,
          1.2728113660171467,
          1.3915984987092695,
          0.593490595629983,
          -0.15610048760706982,
          -0.34291561760401085,
          -0.13273008776646186,
          -2.3612530704199646,
          -3.5585863762634466,
          -3.955710403870919,
          -2.0035368479915987,
          -2.6752991510804094,
          -1.97969999677488,
          -0.7835551309386678,
          -5.280816842165935,
          1.0197903364987155,
          -2.658410229363122,
          -3.4816068558688795,
          -3.1332912777394815,
          -2.8972144748968485,
          -3.9219287827275244,
          -4.056028840127953,
          -2.881620545790043,
          -0.8154688334367489,
          -1.8426102654803203,
          -1.94708101618531,
          -2.350896091915297,
          -0.26424338967021443,
          -3.1482634819286197,
          -3.198444218499579,
          -2.5669473644110123,
          0.2839995349553403,
          -1.6741551712137015,
          -0.582425496412448,
          2.393313981321718,
          0.8416540592877931,
          1.7488944699509466,
          0.2773667270832952,
          -3.470718966909029,
          -4.366798294409326,
          -2.473391642334967,
          1.597098574528124,
          3.096690028916593,
          2.8415900837460053,
          1.946625787399556,
          1.4675316423394758,
          2.3150114887445548,
          1.8479776531308048,
          2.988674957918637,
          1.4285046175348595,
          2.8585735795547955,
          3.2552416877836214,
          -0.2739710039703611,
          0.26427738767277137,
          -1.4360283706725359,
          -1.0162357885892481,
          -1.3752964048423073,
          6.349901510955486,
          -4.394167703128896,
          -2.271459236416103,
          0.28271961660687317,
          -1.7006935031685462,
          -2.169317508875098,
          -2.8040846339862533,
          -0.15361061942689927,
          -2.9042576111389953,
          -0.3623238960526,
          -1.4246008465150446,
          1.9305585873189774,
          1.080426810293479,
          -1.1209240450583924,
          1.3203636709986222,
          -0.2986119072676967,
          -5.098198056533254,
          -0.0005891941157970377,
          2.0949562626914346,
          1.1449937424384178,
          1.1450192231423162,
          2.2353469327337305,
          2.6235767005035306,
          1.4905523048468237,
          1.7269919968381027,
          2.1195599811064807,
          1.1398846335159885,
          2.979445749625067,
          2.148580629905771,
          3.9877388627533565,
          4.476709911182149,
          2.8325147900752774,
          0.8349188505271286,
          1.7030523554898889,
          3.330636200026166,
          2.5572131489084438,
          1.9316900416051075,
          0.8645787723952857,
          0.17153847512336864,
          -0.26991018098717695,
          -0.38957856880122854,
          -0.5290311070903442,
          0.4095527680531981,
          1.6119724469126115,
          0.30536453337441666,
          -2.415568202790651,
          -2.8712689091975347,
          -4.019176100563988,
          -0.397694406678699,
          1.12892251375073,
          2.5522808077597623,
          1.7902469493575586,
          1.0158474888566356,
          -2.3474568562045133,
          -1.8740386368734492,
          -1.0025442535949391,
          -3.729249182476158,
          0.7497402784259446,
          -0.7105207309717136,
          -0.029557704803686708,
          -0.26254307227314816,
          -1.079173513736244,
          -0.6608662167016877,
          1.6062700392536433,
          -4.6352505602350345,
          1.1913249506273327,
          2.6491619938601936,
          2.391325171836159,
          2.5457682645430153,
          2.400250337337877,
          2.662967763336923,
          2.6292355713954936,
          2.4110739390486815,
          3.103620364500569,
          0.5930586616912968,
          2.5429472551777415,
          1.1808645504609405,
          -0.9695655294415549,
          -0.8664494779861753,
          -1.0334396849210166,
          0.23147159575008208,
          0.10206277585128473,
          -1.8259629265819015,
          1.0731426718917216,
          2.9856094204797796,
          0.6553874918089073,
          0.7124696684941509,
          -2.815920775668605,
          3.360454601291444,
          3.678234133355766,
          -4.518391137198582,
          4.038120003538541,
          3.292507256881319,
          -0.9131417622395676,
          -0.17381488541702061,
          0.02478258464337051,
          -1.2377378705957949,
          4.838039981222187,
          -2.3180750895566464,
          0.37443359019375466,
          0.4752671082516853,
          -4.0617951770917555,
          2.6044658550760698,
          2.9857139596817794,
          -1.5268677095917815,
          -1.002766683059182,
          0.7253064003912432,
          5.366777101636891,
          3.7085591954822816,
          -1.6617731706740053,
          1.126048910227621,
          1.246904647712582,
          1.7855977170886546,
          1.977808390340471,
          3.2024649071448903,
          4.343994464715116,
          0.7408127328495319,
          2.9570617776057357,
          -0.7409479793165047,
          -0.2339997065102673,
          -0.055514811291716974,
          0.2760502618140343,
          -0.762559643875263,
          1.9286091930009726,
          -2.04134856019722,
          1.1824721007879475,
          3.0294655844072973,
          1.8664386452902406,
          0.8757327272050661,
          1.19059933707588,
          -1.1608470849812798,
          -1.124355503665685,
          -1.1175233661217243,
          0.37465114930514765,
          -2.430289551587274,
          1.1049300096961934,
          0.4433213713170703,
          2.311366694562204,
          -1.051639078996545,
          -0.11096014849907926
         ],
         "yaxis": "y"
        }
       ],
       "layout": {
        "coloraxis": {
         "colorbar": {
          "title": {
           "text": "labels"
          }
         },
         "colorscale": [
          [
           0,
           "#0d0887"
          ],
          [
           0.1111111111111111,
           "#46039f"
          ],
          [
           0.2222222222222222,
           "#7201a8"
          ],
          [
           0.3333333333333333,
           "#9c179e"
          ],
          [
           0.4444444444444444,
           "#bd3786"
          ],
          [
           0.5555555555555556,
           "#d8576b"
          ],
          [
           0.6666666666666666,
           "#ed7953"
          ],
          [
           0.7777777777777778,
           "#fb9f3a"
          ],
          [
           0.8888888888888888,
           "#fdca26"
          ],
          [
           1,
           "#f0f921"
          ]
         ]
        },
        "legend": {
         "tracegroupgap": 0
        },
        "margin": {
         "t": 60
        },
        "template": {
         "data": {
          "bar": [
           {
            "error_x": {
             "color": "#2a3f5f"
            },
            "error_y": {
             "color": "#2a3f5f"
            },
            "marker": {
             "line": {
              "color": "#E5ECF6",
              "width": 0.5
             }
            },
            "type": "bar"
           }
          ],
          "barpolar": [
           {
            "marker": {
             "line": {
              "color": "#E5ECF6",
              "width": 0.5
             }
            },
            "type": "barpolar"
           }
          ],
          "carpet": [
           {
            "aaxis": {
             "endlinecolor": "#2a3f5f",
             "gridcolor": "white",
             "linecolor": "white",
             "minorgridcolor": "white",
             "startlinecolor": "#2a3f5f"
            },
            "baxis": {
             "endlinecolor": "#2a3f5f",
             "gridcolor": "white",
             "linecolor": "white",
             "minorgridcolor": "white",
             "startlinecolor": "#2a3f5f"
            },
            "type": "carpet"
           }
          ],
          "choropleth": [
           {
            "colorbar": {
             "outlinewidth": 0,
             "ticks": ""
            },
            "type": "choropleth"
           }
          ],
          "contour": [
           {
            "colorbar": {
             "outlinewidth": 0,
             "ticks": ""
            },
            "colorscale": [
             [
              0,
              "#0d0887"
             ],
             [
              0.1111111111111111,
              "#46039f"
             ],
             [
              0.2222222222222222,
              "#7201a8"
             ],
             [
              0.3333333333333333,
              "#9c179e"
             ],
             [
              0.4444444444444444,
              "#bd3786"
             ],
             [
              0.5555555555555556,
              "#d8576b"
             ],
             [
              0.6666666666666666,
              "#ed7953"
             ],
             [
              0.7777777777777778,
              "#fb9f3a"
             ],
             [
              0.8888888888888888,
              "#fdca26"
             ],
             [
              1,
              "#f0f921"
             ]
            ],
            "type": "contour"
           }
          ],
          "contourcarpet": [
           {
            "colorbar": {
             "outlinewidth": 0,
             "ticks": ""
            },
            "type": "contourcarpet"
           }
          ],
          "heatmap": [
           {
            "colorbar": {
             "outlinewidth": 0,
             "ticks": ""
            },
            "colorscale": [
             [
              0,
              "#0d0887"
             ],
             [
              0.1111111111111111,
              "#46039f"
             ],
             [
              0.2222222222222222,
              "#7201a8"
             ],
             [
              0.3333333333333333,
              "#9c179e"
             ],
             [
              0.4444444444444444,
              "#bd3786"
             ],
             [
              0.5555555555555556,
              "#d8576b"
             ],
             [
              0.6666666666666666,
              "#ed7953"
             ],
             [
              0.7777777777777778,
              "#fb9f3a"
             ],
             [
              0.8888888888888888,
              "#fdca26"
             ],
             [
              1,
              "#f0f921"
             ]
            ],
            "type": "heatmap"
           }
          ],
          "heatmapgl": [
           {
            "colorbar": {
             "outlinewidth": 0,
             "ticks": ""
            },
            "colorscale": [
             [
              0,
              "#0d0887"
             ],
             [
              0.1111111111111111,
              "#46039f"
             ],
             [
              0.2222222222222222,
              "#7201a8"
             ],
             [
              0.3333333333333333,
              "#9c179e"
             ],
             [
              0.4444444444444444,
              "#bd3786"
             ],
             [
              0.5555555555555556,
              "#d8576b"
             ],
             [
              0.6666666666666666,
              "#ed7953"
             ],
             [
              0.7777777777777778,
              "#fb9f3a"
             ],
             [
              0.8888888888888888,
              "#fdca26"
             ],
             [
              1,
              "#f0f921"
             ]
            ],
            "type": "heatmapgl"
           }
          ],
          "histogram": [
           {
            "marker": {
             "colorbar": {
              "outlinewidth": 0,
              "ticks": ""
             }
            },
            "type": "histogram"
           }
          ],
          "histogram2d": [
           {
            "colorbar": {
             "outlinewidth": 0,
             "ticks": ""
            },
            "colorscale": [
             [
              0,
              "#0d0887"
             ],
             [
              0.1111111111111111,
              "#46039f"
             ],
             [
              0.2222222222222222,
              "#7201a8"
             ],
             [
              0.3333333333333333,
              "#9c179e"
             ],
             [
              0.4444444444444444,
              "#bd3786"
             ],
             [
              0.5555555555555556,
              "#d8576b"
             ],
             [
              0.6666666666666666,
              "#ed7953"
             ],
             [
              0.7777777777777778,
              "#fb9f3a"
             ],
             [
              0.8888888888888888,
              "#fdca26"
             ],
             [
              1,
              "#f0f921"
             ]
            ],
            "type": "histogram2d"
           }
          ],
          "histogram2dcontour": [
           {
            "colorbar": {
             "outlinewidth": 0,
             "ticks": ""
            },
            "colorscale": [
             [
              0,
              "#0d0887"
             ],
             [
              0.1111111111111111,
              "#46039f"
             ],
             [
              0.2222222222222222,
              "#7201a8"
             ],
             [
              0.3333333333333333,
              "#9c179e"
             ],
             [
              0.4444444444444444,
              "#bd3786"
             ],
             [
              0.5555555555555556,
              "#d8576b"
             ],
             [
              0.6666666666666666,
              "#ed7953"
             ],
             [
              0.7777777777777778,
              "#fb9f3a"
             ],
             [
              0.8888888888888888,
              "#fdca26"
             ],
             [
              1,
              "#f0f921"
             ]
            ],
            "type": "histogram2dcontour"
           }
          ],
          "mesh3d": [
           {
            "colorbar": {
             "outlinewidth": 0,
             "ticks": ""
            },
            "type": "mesh3d"
           }
          ],
          "parcoords": [
           {
            "line": {
             "colorbar": {
              "outlinewidth": 0,
              "ticks": ""
             }
            },
            "type": "parcoords"
           }
          ],
          "pie": [
           {
            "automargin": true,
            "type": "pie"
           }
          ],
          "scatter": [
           {
            "marker": {
             "colorbar": {
              "outlinewidth": 0,
              "ticks": ""
             }
            },
            "type": "scatter"
           }
          ],
          "scatter3d": [
           {
            "line": {
             "colorbar": {
              "outlinewidth": 0,
              "ticks": ""
             }
            },
            "marker": {
             "colorbar": {
              "outlinewidth": 0,
              "ticks": ""
             }
            },
            "type": "scatter3d"
           }
          ],
          "scattercarpet": [
           {
            "marker": {
             "colorbar": {
              "outlinewidth": 0,
              "ticks": ""
             }
            },
            "type": "scattercarpet"
           }
          ],
          "scattergeo": [
           {
            "marker": {
             "colorbar": {
              "outlinewidth": 0,
              "ticks": ""
             }
            },
            "type": "scattergeo"
           }
          ],
          "scattergl": [
           {
            "marker": {
             "colorbar": {
              "outlinewidth": 0,
              "ticks": ""
             }
            },
            "type": "scattergl"
           }
          ],
          "scattermapbox": [
           {
            "marker": {
             "colorbar": {
              "outlinewidth": 0,
              "ticks": ""
             }
            },
            "type": "scattermapbox"
           }
          ],
          "scatterpolar": [
           {
            "marker": {
             "colorbar": {
              "outlinewidth": 0,
              "ticks": ""
             }
            },
            "type": "scatterpolar"
           }
          ],
          "scatterpolargl": [
           {
            "marker": {
             "colorbar": {
              "outlinewidth": 0,
              "ticks": ""
             }
            },
            "type": "scatterpolargl"
           }
          ],
          "scatterternary": [
           {
            "marker": {
             "colorbar": {
              "outlinewidth": 0,
              "ticks": ""
             }
            },
            "type": "scatterternary"
           }
          ],
          "surface": [
           {
            "colorbar": {
             "outlinewidth": 0,
             "ticks": ""
            },
            "colorscale": [
             [
              0,
              "#0d0887"
             ],
             [
              0.1111111111111111,
              "#46039f"
             ],
             [
              0.2222222222222222,
              "#7201a8"
             ],
             [
              0.3333333333333333,
              "#9c179e"
             ],
             [
              0.4444444444444444,
              "#bd3786"
             ],
             [
              0.5555555555555556,
              "#d8576b"
             ],
             [
              0.6666666666666666,
              "#ed7953"
             ],
             [
              0.7777777777777778,
              "#fb9f3a"
             ],
             [
              0.8888888888888888,
              "#fdca26"
             ],
             [
              1,
              "#f0f921"
             ]
            ],
            "type": "surface"
           }
          ],
          "table": [
           {
            "cells": {
             "fill": {
              "color": "#EBF0F8"
             },
             "line": {
              "color": "white"
             }
            },
            "header": {
             "fill": {
              "color": "#C8D4E3"
             },
             "line": {
              "color": "white"
             }
            },
            "type": "table"
           }
          ]
         },
         "layout": {
          "annotationdefaults": {
           "arrowcolor": "#2a3f5f",
           "arrowhead": 0,
           "arrowwidth": 1
          },
          "coloraxis": {
           "colorbar": {
            "outlinewidth": 0,
            "ticks": ""
           }
          },
          "colorscale": {
           "diverging": [
            [
             0,
             "#8e0152"
            ],
            [
             0.1,
             "#c51b7d"
            ],
            [
             0.2,
             "#de77ae"
            ],
            [
             0.3,
             "#f1b6da"
            ],
            [
             0.4,
             "#fde0ef"
            ],
            [
             0.5,
             "#f7f7f7"
            ],
            [
             0.6,
             "#e6f5d0"
            ],
            [
             0.7,
             "#b8e186"
            ],
            [
             0.8,
             "#7fbc41"
            ],
            [
             0.9,
             "#4d9221"
            ],
            [
             1,
             "#276419"
            ]
           ],
           "sequential": [
            [
             0,
             "#0d0887"
            ],
            [
             0.1111111111111111,
             "#46039f"
            ],
            [
             0.2222222222222222,
             "#7201a8"
            ],
            [
             0.3333333333333333,
             "#9c179e"
            ],
            [
             0.4444444444444444,
             "#bd3786"
            ],
            [
             0.5555555555555556,
             "#d8576b"
            ],
            [
             0.6666666666666666,
             "#ed7953"
            ],
            [
             0.7777777777777778,
             "#fb9f3a"
            ],
            [
             0.8888888888888888,
             "#fdca26"
            ],
            [
             1,
             "#f0f921"
            ]
           ],
           "sequentialminus": [
            [
             0,
             "#0d0887"
            ],
            [
             0.1111111111111111,
             "#46039f"
            ],
            [
             0.2222222222222222,
             "#7201a8"
            ],
            [
             0.3333333333333333,
             "#9c179e"
            ],
            [
             0.4444444444444444,
             "#bd3786"
            ],
            [
             0.5555555555555556,
             "#d8576b"
            ],
            [
             0.6666666666666666,
             "#ed7953"
            ],
            [
             0.7777777777777778,
             "#fb9f3a"
            ],
            [
             0.8888888888888888,
             "#fdca26"
            ],
            [
             1,
             "#f0f921"
            ]
           ]
          },
          "colorway": [
           "#636efa",
           "#EF553B",
           "#00cc96",
           "#ab63fa",
           "#FFA15A",
           "#19d3f3",
           "#FF6692",
           "#B6E880",
           "#FF97FF",
           "#FECB52"
          ],
          "font": {
           "color": "#2a3f5f"
          },
          "geo": {
           "bgcolor": "white",
           "lakecolor": "white",
           "landcolor": "#E5ECF6",
           "showlakes": true,
           "showland": true,
           "subunitcolor": "white"
          },
          "hoverlabel": {
           "align": "left"
          },
          "hovermode": "closest",
          "mapbox": {
           "style": "light"
          },
          "paper_bgcolor": "white",
          "plot_bgcolor": "#E5ECF6",
          "polar": {
           "angularaxis": {
            "gridcolor": "white",
            "linecolor": "white",
            "ticks": ""
           },
           "bgcolor": "#E5ECF6",
           "radialaxis": {
            "gridcolor": "white",
            "linecolor": "white",
            "ticks": ""
           }
          },
          "scene": {
           "xaxis": {
            "backgroundcolor": "#E5ECF6",
            "gridcolor": "white",
            "gridwidth": 2,
            "linecolor": "white",
            "showbackground": true,
            "ticks": "",
            "zerolinecolor": "white"
           },
           "yaxis": {
            "backgroundcolor": "#E5ECF6",
            "gridcolor": "white",
            "gridwidth": 2,
            "linecolor": "white",
            "showbackground": true,
            "ticks": "",
            "zerolinecolor": "white"
           },
           "zaxis": {
            "backgroundcolor": "#E5ECF6",
            "gridcolor": "white",
            "gridwidth": 2,
            "linecolor": "white",
            "showbackground": true,
            "ticks": "",
            "zerolinecolor": "white"
           }
          },
          "shapedefaults": {
           "line": {
            "color": "#2a3f5f"
           }
          },
          "ternary": {
           "aaxis": {
            "gridcolor": "white",
            "linecolor": "white",
            "ticks": ""
           },
           "baxis": {
            "gridcolor": "white",
            "linecolor": "white",
            "ticks": ""
           },
           "bgcolor": "#E5ECF6",
           "caxis": {
            "gridcolor": "white",
            "linecolor": "white",
            "ticks": ""
           }
          },
          "title": {
           "x": 0.05
          },
          "xaxis": {
           "automargin": true,
           "gridcolor": "white",
           "linecolor": "white",
           "ticks": "",
           "title": {
            "standoff": 15
           },
           "zerolinecolor": "white",
           "zerolinewidth": 2
          },
          "yaxis": {
           "automargin": true,
           "gridcolor": "white",
           "linecolor": "white",
           "ticks": "",
           "title": {
            "standoff": 15
           },
           "zerolinecolor": "white",
           "zerolinewidth": 2
          }
         }
        },
        "xaxis": {
         "anchor": "y",
         "domain": [
          0,
          1
         ],
         "title": {
          "text": "pc0"
         }
        },
        "yaxis": {
         "anchor": "x",
         "domain": [
          0,
          1
         ],
         "title": {
          "text": "pc1"
         }
        }
       }
      },
      "text/html": [
       "<div>\n",
       "        \n",
       "        \n",
       "            <div id=\"8c70eee0-9f06-4bd1-a4e1-74b375c83406\" class=\"plotly-graph-div\" style=\"height:525px; width:100%;\"></div>\n",
       "            <script type=\"text/javascript\">\n",
       "                require([\"plotly\"], function(Plotly) {\n",
       "                    window.PLOTLYENV=window.PLOTLYENV || {};\n",
       "                    \n",
       "                if (document.getElementById(\"8c70eee0-9f06-4bd1-a4e1-74b375c83406\")) {\n",
       "                    Plotly.newPlot(\n",
       "                        '8c70eee0-9f06-4bd1-a4e1-74b375c83406',\n",
       "                        [{\"customdata\": [[\"Russia\"], [\"United States of America\"], [\"Canada\"], [\"Indonesia\"], [\"China\"], [\"India\"], [\"Mongolia\"], [\"Australia\"], [\"Kiribati\"], [\"Mexico\"], [\"Brazil\"], [\"Chile\"], [\"Argentina\"], [\"Mali\"], [\"Mauritania\"], [\"Algeria\"], [\"Libya\"], [\"Sudan\"], [\"Chad\"], [\"Ethiopia\"], [\"Kenya\"], [\"Democratic Republic of the Congo\"], [\"Angola\"], [\"South Africa\"], [\"Mozambique\"], [\"Madagascar\"], [\"Myanmar\"], [\"Vietnam\"], [\"Malaysia\"], [\"Somalia\"], [\"Saudi Arabia\"], [\"Pakistan\"], [\"Afghanistan\"], [\"Iran\"], [\"Turkey\"], [\"Uzbekistan\"], [\"Kazakhstan\"], [\"Norway\"], [\"Greenland\"], [\"Japan\"], [\"Federated States of Micronesia\"], [\"French Polynesia\"], [\"Colombia\"], [\"Peru\"], [\"Saint Helena\"], [\"Portugal\"], [\"Spain\"], [\"Morocco\"], [\"Western Sahara\"], [\"Burkina Faso\"], [\"Ghana\"], [\"Nigeria\"], [\"Central African Republic\"], [\"Cameroon\"], [\"Niger\"], [\"Italy\"], [\"Tunisia\"], [\"Egypt\"], [\"Jordan\"], [\"Syria\"], [\"Iraq\"], [\"Eritrea\"], [\"South Sudan\"], [\"Uganda\"], [\"United Republic of Tanzania\"], [\"Malawi\"], [\"Zambia\"], [\"Republic of the Congo\"], [\"Namibia\"], [\"Botswana\"], [\"Zimbabwe\"], [\"Indian Ocean Territories\"], [\"Thailand\"], [\"Laos\"], [\"Palau\"], [\"Philippines\"], [\"Kyrgyzstan\"], [\"Nepal\"], [\"Yemen\"], [\"Oman\"], [\"Turkmenistan\"], [\"Ukraine\"], [\"Sweden\"], [\"Finland\"], [\"Poland\"], [\"Romania\"], [\"Germany\"], [\"France\"], [\"United Kingdom\"], [\"North Korea\"], [\"Papua New Guinea\"], [\"New Zealand\"], [\"Venezuela\"], [\"Guyana\"], [\"Cuba\"], [\"Bolivia\"], [\"Paraguay\"], [\"South Georgia and South Sandwich Islands\"], [\"Senegal\"], [\"Guinea\"], [\"Liberia\"], [\"Ivory Coast\"], [\"Togo\"], [\"Benin\"], [\"Greece\"], [\"Israel\"], [\"Gabon\"], [\"Cambodia\"], [\"Taiwan\"], [\"South Korea\"], [\"Bangladesh\"], [\"Tajikistan\"], [\"Sri Lanka\"], [\"United Arab Emirates\"], [\"Azerbaijan\"], [\"Georgia\"], [\"Armenia\"], [\"Bulgaria\"], [\"Belarus\"], [\"Latvia\"], [\"Republic of Serbia\"], [\"Croatia\"], [\"Slovakia\"], [\"Hungary\"], [\"Austria\"], [\"Czech Republic\"], [\"Switzerland\"], [\"Iceland\"], [\"Marshall Islands\"], [\"Northern Mariana Islands\"], [\"Fiji\"], [\"Solomon Islands\"], [\"Tuvalu\"], [\"Wallis and Futuna\"], [\"French Guiana\"], [\"Suriname\"], [\"Guatemala\"], [\"Nicaragua\"], [\"Honduras\"], [\"Panama\"], [\"Ecuador\"], [\"Uruguay\"], [\"Cape Verde\"], [\"Guinea Bissau\"], [\"Gambia\"], [\"Sierra Leone\"], [\"Albania\"], [\"Montenegro\"], [\"Kosovo\"], [\"Macedonia\"], [\"Northern Cyprus\"], [\"Cyprus\"], [\"Lebanon\"], [\"Djibouti\"], [\"Comoros\"], [\"Burundi\"], [\"Rwanda\"], [\"Lesotho\"], [\"Swaziland\"], [\"East Timor\"], [\"Bhutan\"], [\"Kuwait\"], [\"Moldova\"], [\"Denmark\"], [\"Lithuania\"], [\"Estonia\"], [\"Bosnia and Herzegovina\"], [\"Slovenia\"], [\"Belgium\"], [\"Netherlands\"], [\"Ireland\"], [\"New Caledonia\"], [\"Vanuatu\"], [\"Tonga\"], [\"The Bahamas\"], [\"Dominican Republic\"], [\"Haiti\"], [\"Jamaica\"], [\"Belize\"], [\"El Salvador\"], [\"Costa Rica\"], [\"Falkland Islands\"], [\"Sao Tome and Principe\"], [\"Equatorial Guinea\"], [\"West Bank\"], [\"Brunei\"], [\"Siachen Glacier\"], [\"Qatar\"], [\"Faroe Islands\"], [\"Samoa\"], [\"United States Virgin Islands\"], [\"Puerto Rico\"], [\"Trinidad and Tobago\"], [\"Cayman Islands\"], [\"French Southern and Antarctic Lands\"], [\"Gaza\"], [\"Mauritius\"], [\"Hong Kong S.A.R.\"], [\"Bahrain\"], [\"Aland\"], [\"Luxembourg\"], [\"Turks and Caicos Islands\"], [\"Antigua and Barbuda\"], [\"Saint Vincent and the Grenadines\"], [\"Heard Island and McDonald Islands\"], [\"Andorra\"], [\"Malta\"], [\"Seychelles\"], [\"British Indian Ocean Territory\"], [\"Singapore\"], [\"Jersey\"], [\"Isle of Man\"], [\"Saint Pierre and Miquelon\"], [\"Guam\"], [\"American Samoa\"], [\"British Virgin Islands\"], [\"Saint Kitts and Nevis\"], [\"Grenada\"], [\"Saint Lucia\"], [\"Barbados\"], [\"Dominica\"], [\"Curacao\"], [\"San Marino\"], [\"Liechtenstein\"], [\"Guernsey\"], [\"Niue\"], [\"Bermuda\"], [\"Anguilla\"], [\"Saint Martin\"], [\"Sint Maarten\"], [\"Montserrat\"], [\"Aruba\"], [\"Monaco\"], [\"Nauru\"], [\"Cook Islands\"], [\"Saint Barthelemy\"], [\"Macau S.A.R\"]], \"hovertemplate\": \"pc0=%{x}<br>pc1=%{y}<br>Country=%{customdata[0]}<br>labels=%{marker.color}<extra></extra>\", \"legendgroup\": \"\", \"marker\": {\"color\": [2, 2, 2, 0, 2, 3, 2, 1, 0, 1, 3, 2, 1, 1, 1, 1, 1, 1, 1, 3, 3, 3, 3, 1, 3, 3, 3, 3, 0, 1, 1, 1, 1, 1, 2, 1, 2, 2, 2, 2, 0, 0, 0, 3, 3, 2, 2, 1, 1, 3, 3, 3, 3, 3, 1, 2, 1, 1, 1, 1, 1, 1, 3, 3, 3, 3, 3, 3, 1, 1, 1, 0, 3, 3, 0, 0, 2, 3, 1, 1, 1, 2, 2, 2, 2, 2, 2, 2, 2, 2, 0, 2, 0, 0, 3, 3, 3, 2, 1, 3, 0, 3, 3, 3, 2, 1, 3, 3, 0, 2, 3, 2, 3, 1, 2, 2, 2, 2, 2, 2, 2, 2, 2, 2, 2, 2, 2, 2, 0, 0, 0, 0, 0, 0, 0, 0, 3, 3, 3, 0, 0, 2, 3, 3, 3, 0, 2, 2, 2, 2, 1, 1, 1, 1, 0, 3, 3, 2, 3, 3, 2, 1, 2, 2, 2, 2, 2, 2, 2, 2, 2, 3, 0, 0, 3, 3, 3, 3, 0, 3, 0, 2, 3, 0, 1, 0, 2, 1, 2, 0, 3, 3, 0, 3, 2, 1, 3, 3, 1, 2, 2, 3, 3, 0, 2, 2, 1, 0, 0, 0, 2, 2, 2, 0, 0, 3, 3, 0, 0, 3, 0, 3, 2, 2, 2, 0, 3, 3, 3, 3, 3, 3, 2, 0, 0, 3, 3], \"coloraxis\": \"coloraxis\", \"symbol\": \"circle\"}, \"mode\": \"markers\", \"name\": \"\", \"orientation\": \"v\", \"showlegend\": false, \"type\": \"scatter\", \"x\": [-6.999396539736354, -4.166044805255246, -6.757577540301758, 5.213409499102533, -4.7845418751372915, -0.2749106838301421, -7.06928789450225, -1.4410421775811868, 4.139296642563538, -0.9120762780606241, 2.428908355634019, -1.6927618029398068, -2.5052342308167477, -0.6888397269012807, -1.1350858555191496, -2.6476994150574074, -2.8081518798453278, -1.1086634514220957, -0.7952184129495504, 0.03757537255369574, 0.25481998131080663, 2.3658577929587072, -0.14102173823080094, -2.3608361982510084, 0.5438820141955507, 1.2549530234100057, 1.6240573508046696, 1.87464667069218, 6.002659454627973, -0.11214349216670524, -2.1688259833079426, -3.0320187300001264, -4.671642115420368, -3.6906869151301644, -3.703089522911245, -4.416651780820491, -5.687712487104643, -4.176264329069364, -7.229454609020359, -1.0573905401471877, 8.668780053384857, 3.5111914979797345, 4.6360352605121, 1.4232336280919917, 0.10322517388250609, -1.940257723860249, -2.8522692067639968, -2.966883449666125, -1.8063436249323872, 0.6203028297506042, 2.027618285485247, 1.1652264045855079, 1.440776908183394, 2.5213616023667638, -1.3711587715221105, -2.4847280304876733, -2.849544499558353, -2.8055974249205833, -3.3297502544745776, -3.4523704824957946, -3.067059362162944, -0.45186601013850747, 1.2641682911869423, 1.10271635434294, 0.3010031512466792, -0.1014740364327344, -0.44652167645651314, 2.662404825358275, -2.0868940474387845, -2.022463081679355, -1.3199018801423128, 3.7380449843400165, 1.4426888521508774, 2.087855766839106, 6.5934951424838495, 4.304682588543535, -6.136396734452688, -1.0847584157642238, -1.6268605345486675, -1.34298180477859, -3.8701317474869152, -3.9304176398355795, -3.9101777212516433, -4.439236518447431, -3.6637712171492574, -3.5101135590115335, -2.873374759493438, -2.5224649115488744, -2.2296598955237394, -3.7694332727581243, 5.5465298578064575, -0.4253334560940445, 3.5188124360699353, 4.103303653634407, 1.3491408763981216, 0.3163851134378228, 0.39488171733398936, -1.4994035799503256, 0.33633985720344844, 2.1783093042077106, 4.624140768244387, 2.1657060478437313, 1.7239206810251617, 1.3995830696731644, -2.567326310264194, -2.2541606819152915, 2.8180850718357027, 2.299515277190947, 2.6767219067755166, -1.9202669168751145, 1.833109100876555, -5.538275478522411, 3.405650966517352, -1.4372316531562446, -3.531874102071662, -3.01030932201736, -4.696726870285156, -3.2901240326255046, -3.8756762661166873, -3.733859805083559, -3.08643570889911, -2.3109317721271125, -3.2396362651130426, -3.4488765457870856, -2.8197374700114155, -3.342092933923386, -2.354209978064177, -2.64924851414993, 6.640027565235017, 4.115854985670402, 4.560494513988861, 6.6427903833393955, 6.962926831753112, 5.751702717670415, 4.734404530255059, 4.2633495665720975, 2.3578066575621546, 3.4110996547258017, 2.2199308875180286, 4.22357721588299, 3.1999756222455735, -0.45499773847641184, -0.29365760797174273, 2.1762305396509705, 0.5510808701271311, 4.521161770047393, -2.095454532968884, -2.1191473383511514, -3.0183044283330758, -3.27989507048021, -2.469084287772654, -2.200449663801001, -2.2711584466624393, -0.3420933434928864, 3.197191209368306, 0.20963784778654743, 0.2645032584358203, -3.011904860833793, -0.7654495007182459, 2.395431933983296, -1.2847638679727307, -2.445544394083907, -3.836898242531906, -3.228915814956356, -3.795518006734495, -3.899133608172414, -2.482558526976194, -2.2504397164732257, -2.5676737196321087, -2.5651957353424986, -1.7960994770696288, 2.1231021976310873, 5.065329250442722, 3.2615358266919325, 1.4092337090592928, 1.6576804899814344, 1.7168796147034353, 2.8908783847171815, 3.244693749003043, 2.0758066633402006, 4.434603110270365, -2.330240066488768, 2.9917469942613177, 3.5792012808026827, -2.1052879542666174, 7.243428768054748, -8.283129874057035, -1.6053805987784344, -1.1632501889352096, 7.119829491743021, 2.026173034239701, 2.6182321404284195, 3.638070653995464, 2.1795177701721817, -1.8358145723775525, -2.2247482715946023, 2.1625212574802664, 2.2029730917976145, -1.5903897396065372, -3.704154236439768, -2.7186221960005663, 1.0570549479166125, 1.882968552263315, 3.818326550107754, -2.06421660066785, -2.59346552513288, -1.8228507320887777, 4.240832688248354, 4.750195618707709, 5.244808040702904, -2.06016344982805, -2.043561988416728, -2.068421079777448, 4.597616470196792, 6.69838559146645, 2.1348993663207763, 2.4641841399231788, 3.671986184077864, 3.499929562146961, 2.0246269079698553, 4.5317713891738345, 1.433532285982888, -2.8997734759355045, -2.3072456442137743, -1.728329619922419, 3.3480448926743853, 1.423897367073755, 1.918765932874242, 1.9654491364912574, 1.973416712941832, 3.047196091530414, 1.089555018838814, -1.8056712230193712, 4.481926510473196, 4.137677782441477, 1.9756193503815196, 1.461629340825362], \"xaxis\": \"x\", \"y\": [3.3311074848166764, 0.986385463377429, 4.024033566812203, 2.1482950747604166, 0.5602152912124381, -2.66727514693396, 0.5287930903549795, -2.6051370616575773, 0.16302229820588338, -2.3079600348143914, -0.6602412173375704, 1.8300448355709535, -0.6977858474959202, -5.104204463875679, -5.192127966048667, -4.0810755255092745, -3.546635383614503, -5.115231257565015, -4.964929466169981, -2.5161959559925755, -2.8091412488115317, -0.38589090413981103, -2.0642024068163636, -1.8994912722958919, -2.467822639578352, -1.7399360306221003, -0.9845506437833014, -0.2934728266173415, 2.621330751656278, -4.0250933263932325, -4.563973910540656, -3.0332123818224876, -1.7680354391236646, -2.849298486765869, -0.11485366101298815, -1.6754594671925498, 0.4807497062310763, 4.168399757289141, 7.668164353629217, 2.677644389300615, 4.787163521961191, 1.2728113660171467, 1.3915984987092695, 0.593490595629983, -0.15610048760706982, -0.34291561760401085, -0.13273008776646186, -2.3612530704199646, -3.5585863762634466, -3.955710403870919, -2.0035368479915987, -2.6752991510804094, -1.97969999677488, -0.7835551309386678, -5.280816842165935, 1.0197903364987155, -2.658410229363122, -3.4816068558688795, -3.1332912777394815, -2.8972144748968485, -3.9219287827275244, -4.056028840127953, -2.881620545790043, -0.8154688334367489, -1.8426102654803203, -1.94708101618531, -2.350896091915297, -0.26424338967021443, -3.1482634819286197, -3.198444218499579, -2.5669473644110123, 0.2839995349553403, -1.6741551712137015, -0.582425496412448, 2.393313981321718, 0.8416540592877931, 1.7488944699509466, 0.2773667270832952, -3.470718966909029, -4.366798294409326, -2.473391642334967, 1.597098574528124, 3.096690028916593, 2.8415900837460053, 1.946625787399556, 1.4675316423394758, 2.3150114887445548, 1.8479776531308048, 2.988674957918637, 1.4285046175348595, 2.8585735795547955, 3.2552416877836214, -0.2739710039703611, 0.26427738767277137, -1.4360283706725359, -1.0162357885892481, -1.3752964048423073, 6.349901510955486, -4.394167703128896, -2.271459236416103, 0.28271961660687317, -1.7006935031685462, -2.169317508875098, -2.8040846339862533, -0.15361061942689927, -2.9042576111389953, -0.3623238960526, -1.4246008465150446, 1.9305585873189774, 1.080426810293479, -1.1209240450583924, 1.3203636709986222, -0.2986119072676967, -5.098198056533254, -0.0005891941157970377, 2.0949562626914346, 1.1449937424384178, 1.1450192231423162, 2.2353469327337305, 2.6235767005035306, 1.4905523048468237, 1.7269919968381027, 2.1195599811064807, 1.1398846335159885, 2.979445749625067, 2.148580629905771, 3.9877388627533565, 4.476709911182149, 2.8325147900752774, 0.8349188505271286, 1.7030523554898889, 3.330636200026166, 2.5572131489084438, 1.9316900416051075, 0.8645787723952857, 0.17153847512336864, -0.26991018098717695, -0.38957856880122854, -0.5290311070903442, 0.4095527680531981, 1.6119724469126115, 0.30536453337441666, -2.415568202790651, -2.8712689091975347, -4.019176100563988, -0.397694406678699, 1.12892251375073, 2.5522808077597623, 1.7902469493575586, 1.0158474888566356, -2.3474568562045133, -1.8740386368734492, -1.0025442535949391, -3.729249182476158, 0.7497402784259446, -0.7105207309717136, -0.029557704803686708, -0.26254307227314816, -1.079173513736244, -0.6608662167016877, 1.6062700392536433, -4.6352505602350345, 1.1913249506273327, 2.6491619938601936, 2.391325171836159, 2.5457682645430153, 2.400250337337877, 2.662967763336923, 2.6292355713954936, 2.4110739390486815, 3.103620364500569, 0.5930586616912968, 2.5429472551777415, 1.1808645504609405, -0.9695655294415549, -0.8664494779861753, -1.0334396849210166, 0.23147159575008208, 0.10206277585128473, -1.8259629265819015, 1.0731426718917216, 2.9856094204797796, 0.6553874918089073, 0.7124696684941509, -2.815920775668605, 3.360454601291444, 3.678234133355766, -4.518391137198582, 4.038120003538541, 3.292507256881319, -0.9131417622395676, -0.17381488541702061, 0.02478258464337051, -1.2377378705957949, 4.838039981222187, -2.3180750895566464, 0.37443359019375466, 0.4752671082516853, -4.0617951770917555, 2.6044658550760698, 2.9857139596817794, -1.5268677095917815, -1.002766683059182, 0.7253064003912432, 5.366777101636891, 3.7085591954822816, -1.6617731706740053, 1.126048910227621, 1.246904647712582, 1.7855977170886546, 1.977808390340471, 3.2024649071448903, 4.343994464715116, 0.7408127328495319, 2.9570617776057357, -0.7409479793165047, -0.2339997065102673, -0.055514811291716974, 0.2760502618140343, -0.762559643875263, 1.9286091930009726, -2.04134856019722, 1.1824721007879475, 3.0294655844072973, 1.8664386452902406, 0.8757327272050661, 1.19059933707588, -1.1608470849812798, -1.124355503665685, -1.1175233661217243, 0.37465114930514765, -2.430289551587274, 1.1049300096961934, 0.4433213713170703, 2.311366694562204, -1.051639078996545, -0.11096014849907926], \"yaxis\": \"y\"}],\n",
       "                        {\"coloraxis\": {\"colorbar\": {\"title\": {\"text\": \"labels\"}}, \"colorscale\": [[0.0, \"#0d0887\"], [0.1111111111111111, \"#46039f\"], [0.2222222222222222, \"#7201a8\"], [0.3333333333333333, \"#9c179e\"], [0.4444444444444444, \"#bd3786\"], [0.5555555555555556, \"#d8576b\"], [0.6666666666666666, \"#ed7953\"], [0.7777777777777778, \"#fb9f3a\"], [0.8888888888888888, \"#fdca26\"], [1.0, \"#f0f921\"]]}, \"legend\": {\"tracegroupgap\": 0}, \"margin\": {\"t\": 60}, \"template\": {\"data\": {\"bar\": [{\"error_x\": {\"color\": \"#2a3f5f\"}, \"error_y\": {\"color\": \"#2a3f5f\"}, \"marker\": {\"line\": {\"color\": \"#E5ECF6\", \"width\": 0.5}}, \"type\": \"bar\"}], \"barpolar\": [{\"marker\": {\"line\": {\"color\": \"#E5ECF6\", \"width\": 0.5}}, \"type\": \"barpolar\"}], \"carpet\": [{\"aaxis\": {\"endlinecolor\": \"#2a3f5f\", \"gridcolor\": \"white\", \"linecolor\": \"white\", \"minorgridcolor\": \"white\", \"startlinecolor\": \"#2a3f5f\"}, \"baxis\": {\"endlinecolor\": \"#2a3f5f\", \"gridcolor\": \"white\", \"linecolor\": \"white\", \"minorgridcolor\": \"white\", \"startlinecolor\": \"#2a3f5f\"}, \"type\": \"carpet\"}], \"choropleth\": [{\"colorbar\": {\"outlinewidth\": 0, \"ticks\": \"\"}, \"type\": \"choropleth\"}], \"contour\": [{\"colorbar\": {\"outlinewidth\": 0, \"ticks\": \"\"}, \"colorscale\": [[0.0, \"#0d0887\"], [0.1111111111111111, \"#46039f\"], [0.2222222222222222, \"#7201a8\"], [0.3333333333333333, \"#9c179e\"], [0.4444444444444444, \"#bd3786\"], [0.5555555555555556, \"#d8576b\"], [0.6666666666666666, \"#ed7953\"], [0.7777777777777778, \"#fb9f3a\"], [0.8888888888888888, \"#fdca26\"], [1.0, \"#f0f921\"]], \"type\": \"contour\"}], \"contourcarpet\": [{\"colorbar\": {\"outlinewidth\": 0, \"ticks\": \"\"}, \"type\": \"contourcarpet\"}], \"heatmap\": [{\"colorbar\": {\"outlinewidth\": 0, \"ticks\": \"\"}, \"colorscale\": [[0.0, \"#0d0887\"], [0.1111111111111111, \"#46039f\"], [0.2222222222222222, \"#7201a8\"], [0.3333333333333333, \"#9c179e\"], [0.4444444444444444, \"#bd3786\"], [0.5555555555555556, \"#d8576b\"], [0.6666666666666666, \"#ed7953\"], [0.7777777777777778, \"#fb9f3a\"], [0.8888888888888888, \"#fdca26\"], [1.0, \"#f0f921\"]], \"type\": \"heatmap\"}], \"heatmapgl\": [{\"colorbar\": {\"outlinewidth\": 0, \"ticks\": \"\"}, \"colorscale\": [[0.0, \"#0d0887\"], [0.1111111111111111, \"#46039f\"], [0.2222222222222222, \"#7201a8\"], [0.3333333333333333, \"#9c179e\"], [0.4444444444444444, \"#bd3786\"], [0.5555555555555556, \"#d8576b\"], [0.6666666666666666, \"#ed7953\"], [0.7777777777777778, \"#fb9f3a\"], [0.8888888888888888, \"#fdca26\"], [1.0, \"#f0f921\"]], \"type\": \"heatmapgl\"}], \"histogram\": [{\"marker\": {\"colorbar\": {\"outlinewidth\": 0, \"ticks\": \"\"}}, \"type\": \"histogram\"}], \"histogram2d\": [{\"colorbar\": {\"outlinewidth\": 0, \"ticks\": \"\"}, \"colorscale\": [[0.0, \"#0d0887\"], [0.1111111111111111, \"#46039f\"], [0.2222222222222222, \"#7201a8\"], [0.3333333333333333, \"#9c179e\"], [0.4444444444444444, \"#bd3786\"], [0.5555555555555556, \"#d8576b\"], [0.6666666666666666, \"#ed7953\"], [0.7777777777777778, \"#fb9f3a\"], [0.8888888888888888, \"#fdca26\"], [1.0, \"#f0f921\"]], \"type\": \"histogram2d\"}], \"histogram2dcontour\": [{\"colorbar\": {\"outlinewidth\": 0, \"ticks\": \"\"}, \"colorscale\": [[0.0, \"#0d0887\"], [0.1111111111111111, \"#46039f\"], [0.2222222222222222, \"#7201a8\"], [0.3333333333333333, \"#9c179e\"], [0.4444444444444444, \"#bd3786\"], [0.5555555555555556, \"#d8576b\"], [0.6666666666666666, \"#ed7953\"], [0.7777777777777778, \"#fb9f3a\"], [0.8888888888888888, \"#fdca26\"], [1.0, \"#f0f921\"]], \"type\": \"histogram2dcontour\"}], \"mesh3d\": [{\"colorbar\": {\"outlinewidth\": 0, \"ticks\": \"\"}, \"type\": \"mesh3d\"}], \"parcoords\": [{\"line\": {\"colorbar\": {\"outlinewidth\": 0, \"ticks\": \"\"}}, \"type\": \"parcoords\"}], \"pie\": [{\"automargin\": true, \"type\": \"pie\"}], \"scatter\": [{\"marker\": {\"colorbar\": {\"outlinewidth\": 0, \"ticks\": \"\"}}, \"type\": \"scatter\"}], \"scatter3d\": [{\"line\": {\"colorbar\": {\"outlinewidth\": 0, \"ticks\": \"\"}}, \"marker\": {\"colorbar\": {\"outlinewidth\": 0, \"ticks\": \"\"}}, \"type\": \"scatter3d\"}], \"scattercarpet\": [{\"marker\": {\"colorbar\": {\"outlinewidth\": 0, \"ticks\": \"\"}}, \"type\": \"scattercarpet\"}], \"scattergeo\": [{\"marker\": {\"colorbar\": {\"outlinewidth\": 0, \"ticks\": \"\"}}, \"type\": \"scattergeo\"}], \"scattergl\": [{\"marker\": {\"colorbar\": {\"outlinewidth\": 0, \"ticks\": \"\"}}, \"type\": \"scattergl\"}], \"scattermapbox\": [{\"marker\": {\"colorbar\": {\"outlinewidth\": 0, \"ticks\": \"\"}}, \"type\": \"scattermapbox\"}], \"scatterpolar\": [{\"marker\": {\"colorbar\": {\"outlinewidth\": 0, \"ticks\": \"\"}}, \"type\": \"scatterpolar\"}], \"scatterpolargl\": [{\"marker\": {\"colorbar\": {\"outlinewidth\": 0, \"ticks\": \"\"}}, \"type\": \"scatterpolargl\"}], \"scatterternary\": [{\"marker\": {\"colorbar\": {\"outlinewidth\": 0, \"ticks\": \"\"}}, \"type\": \"scatterternary\"}], \"surface\": [{\"colorbar\": {\"outlinewidth\": 0, \"ticks\": \"\"}, \"colorscale\": [[0.0, \"#0d0887\"], [0.1111111111111111, \"#46039f\"], [0.2222222222222222, \"#7201a8\"], [0.3333333333333333, \"#9c179e\"], [0.4444444444444444, \"#bd3786\"], [0.5555555555555556, \"#d8576b\"], [0.6666666666666666, \"#ed7953\"], [0.7777777777777778, \"#fb9f3a\"], [0.8888888888888888, \"#fdca26\"], [1.0, \"#f0f921\"]], \"type\": \"surface\"}], \"table\": [{\"cells\": {\"fill\": {\"color\": \"#EBF0F8\"}, \"line\": {\"color\": \"white\"}}, \"header\": {\"fill\": {\"color\": \"#C8D4E3\"}, \"line\": {\"color\": \"white\"}}, \"type\": \"table\"}]}, \"layout\": {\"annotationdefaults\": {\"arrowcolor\": \"#2a3f5f\", \"arrowhead\": 0, \"arrowwidth\": 1}, \"coloraxis\": {\"colorbar\": {\"outlinewidth\": 0, \"ticks\": \"\"}}, \"colorscale\": {\"diverging\": [[0, \"#8e0152\"], [0.1, \"#c51b7d\"], [0.2, \"#de77ae\"], [0.3, \"#f1b6da\"], [0.4, \"#fde0ef\"], [0.5, \"#f7f7f7\"], [0.6, \"#e6f5d0\"], [0.7, \"#b8e186\"], [0.8, \"#7fbc41\"], [0.9, \"#4d9221\"], [1, \"#276419\"]], \"sequential\": [[0.0, \"#0d0887\"], [0.1111111111111111, \"#46039f\"], [0.2222222222222222, \"#7201a8\"], [0.3333333333333333, \"#9c179e\"], [0.4444444444444444, \"#bd3786\"], [0.5555555555555556, \"#d8576b\"], [0.6666666666666666, \"#ed7953\"], [0.7777777777777778, \"#fb9f3a\"], [0.8888888888888888, \"#fdca26\"], [1.0, \"#f0f921\"]], \"sequentialminus\": [[0.0, \"#0d0887\"], [0.1111111111111111, \"#46039f\"], [0.2222222222222222, \"#7201a8\"], [0.3333333333333333, \"#9c179e\"], [0.4444444444444444, \"#bd3786\"], [0.5555555555555556, \"#d8576b\"], [0.6666666666666666, \"#ed7953\"], [0.7777777777777778, \"#fb9f3a\"], [0.8888888888888888, \"#fdca26\"], [1.0, \"#f0f921\"]]}, \"colorway\": [\"#636efa\", \"#EF553B\", \"#00cc96\", \"#ab63fa\", \"#FFA15A\", \"#19d3f3\", \"#FF6692\", \"#B6E880\", \"#FF97FF\", \"#FECB52\"], \"font\": {\"color\": \"#2a3f5f\"}, \"geo\": {\"bgcolor\": \"white\", \"lakecolor\": \"white\", \"landcolor\": \"#E5ECF6\", \"showlakes\": true, \"showland\": true, \"subunitcolor\": \"white\"}, \"hoverlabel\": {\"align\": \"left\"}, \"hovermode\": \"closest\", \"mapbox\": {\"style\": \"light\"}, \"paper_bgcolor\": \"white\", \"plot_bgcolor\": \"#E5ECF6\", \"polar\": {\"angularaxis\": {\"gridcolor\": \"white\", \"linecolor\": \"white\", \"ticks\": \"\"}, \"bgcolor\": \"#E5ECF6\", \"radialaxis\": {\"gridcolor\": \"white\", \"linecolor\": \"white\", \"ticks\": \"\"}}, \"scene\": {\"xaxis\": {\"backgroundcolor\": \"#E5ECF6\", \"gridcolor\": \"white\", \"gridwidth\": 2, \"linecolor\": \"white\", \"showbackground\": true, \"ticks\": \"\", \"zerolinecolor\": \"white\"}, \"yaxis\": {\"backgroundcolor\": \"#E5ECF6\", \"gridcolor\": \"white\", \"gridwidth\": 2, \"linecolor\": \"white\", \"showbackground\": true, \"ticks\": \"\", \"zerolinecolor\": \"white\"}, \"zaxis\": {\"backgroundcolor\": \"#E5ECF6\", \"gridcolor\": \"white\", \"gridwidth\": 2, \"linecolor\": \"white\", \"showbackground\": true, \"ticks\": \"\", \"zerolinecolor\": \"white\"}}, \"shapedefaults\": {\"line\": {\"color\": \"#2a3f5f\"}}, \"ternary\": {\"aaxis\": {\"gridcolor\": \"white\", \"linecolor\": \"white\", \"ticks\": \"\"}, \"baxis\": {\"gridcolor\": \"white\", \"linecolor\": \"white\", \"ticks\": \"\"}, \"bgcolor\": \"#E5ECF6\", \"caxis\": {\"gridcolor\": \"white\", \"linecolor\": \"white\", \"ticks\": \"\"}}, \"title\": {\"x\": 0.05}, \"xaxis\": {\"automargin\": true, \"gridcolor\": \"white\", \"linecolor\": \"white\", \"ticks\": \"\", \"title\": {\"standoff\": 15}, \"zerolinecolor\": \"white\", \"zerolinewidth\": 2}, \"yaxis\": {\"automargin\": true, \"gridcolor\": \"white\", \"linecolor\": \"white\", \"ticks\": \"\", \"title\": {\"standoff\": 15}, \"zerolinecolor\": \"white\", \"zerolinewidth\": 2}}}, \"xaxis\": {\"anchor\": \"y\", \"domain\": [0.0, 1.0], \"title\": {\"text\": \"pc0\"}}, \"yaxis\": {\"anchor\": \"x\", \"domain\": [0.0, 1.0], \"title\": {\"text\": \"pc1\"}}},\n",
       "                        {\"responsive\": true}\n",
       "                    ).then(function(){\n",
       "                            \n",
       "var gd = document.getElementById('8c70eee0-9f06-4bd1-a4e1-74b375c83406');\n",
       "var x = new MutationObserver(function (mutations, observer) {{\n",
       "        var display = window.getComputedStyle(gd).display;\n",
       "        if (!display || display === 'none') {{\n",
       "            console.log([gd, 'removed!']);\n",
       "            Plotly.purge(gd);\n",
       "            observer.disconnect();\n",
       "        }}\n",
       "}});\n",
       "\n",
       "// Listen for the removal of the full notebook cells\n",
       "var notebookContainer = gd.closest('#notebook-container');\n",
       "if (notebookContainer) {{\n",
       "    x.observe(notebookContainer, {childList: true});\n",
       "}}\n",
       "\n",
       "// Listen for the clearing of the current output cell\n",
       "var outputEl = gd.closest('.output');\n",
       "if (outputEl) {{\n",
       "    x.observe(outputEl, {childList: true});\n",
       "}}\n",
       "\n",
       "                        })\n",
       "                };\n",
       "                });\n",
       "            </script>\n",
       "        </div>"
      ]
     },
     "metadata": {},
     "output_type": "display_data"
    },
    {
     "data": {
      "application/javascript": [
       "\n",
       "            setTimeout(function() {\n",
       "                var nbb_cell_id = 131;\n",
       "                var nbb_unformatted_code = \"px.scatter(data_frame=environ_gmm, x=environ_gmm['pc0'], y=environ_gmm['pc1'], color=environ_gmm[\\\"labels\\\"], hover_data=['Country'])\";\n",
       "                var nbb_formatted_code = \"px.scatter(\\n    data_frame=environ_gmm,\\n    x=environ_gmm[\\\"pc0\\\"],\\n    y=environ_gmm[\\\"pc1\\\"],\\n    color=environ_gmm[\\\"labels\\\"],\\n    hover_data=[\\\"Country\\\"],\\n)\";\n",
       "                var nbb_cells = Jupyter.notebook.get_cells();\n",
       "                for (var i = 0; i < nbb_cells.length; ++i) {\n",
       "                    if (nbb_cells[i].input_prompt_number == nbb_cell_id) {\n",
       "                        if (nbb_cells[i].get_text() == nbb_unformatted_code) {\n",
       "                             nbb_cells[i].set_text(nbb_formatted_code);\n",
       "                        }\n",
       "                        break;\n",
       "                    }\n",
       "                }\n",
       "            }, 500);\n",
       "            "
      ],
      "text/plain": [
       "<IPython.core.display.Javascript object>"
      ]
     },
     "metadata": {},
     "output_type": "display_data"
    }
   ],
   "source": [
    "px.scatter(data_frame=environ_gmm, x=environ_gmm['pc0'], y=environ_gmm['pc1'], color=environ_gmm[\"labels\"], hover_data=['Country'])\n"
   ]
  },
  {
   "cell_type": "code",
   "execution_count": 132,
   "metadata": {},
   "outputs": [
    {
     "data": {
      "text/html": [
       "<style  type=\"text/css\" >\n",
       "    #T_eff26a74_0b64_11eb_941b_7085c233535crow0_col0 {\n",
       "            background-color:  #023858;\n",
       "            color:  #f1f1f1;\n",
       "        }    #T_eff26a74_0b64_11eb_941b_7085c233535crow0_col1 {\n",
       "            background-color:  #f8f1f8;\n",
       "            color:  #000000;\n",
       "        }    #T_eff26a74_0b64_11eb_941b_7085c233535crow0_col2 {\n",
       "            background-color:  #c4cbe3;\n",
       "            color:  #000000;\n",
       "        }    #T_eff26a74_0b64_11eb_941b_7085c233535crow0_col3 {\n",
       "            background-color:  #fff7fb;\n",
       "            color:  #000000;\n",
       "        }    #T_eff26a74_0b64_11eb_941b_7085c233535crow1_col0 {\n",
       "            background-color:  #fff7fb;\n",
       "            color:  #000000;\n",
       "        }    #T_eff26a74_0b64_11eb_941b_7085c233535crow1_col1 {\n",
       "            background-color:  #1278b4;\n",
       "            color:  #f1f1f1;\n",
       "        }    #T_eff26a74_0b64_11eb_941b_7085c233535crow1_col2 {\n",
       "            background-color:  #023858;\n",
       "            color:  #f1f1f1;\n",
       "        }    #T_eff26a74_0b64_11eb_941b_7085c233535crow1_col3 {\n",
       "            background-color:  #73a9cf;\n",
       "            color:  #000000;\n",
       "        }    #T_eff26a74_0b64_11eb_941b_7085c233535crow2_col0 {\n",
       "            background-color:  #fff7fb;\n",
       "            color:  #000000;\n",
       "        }    #T_eff26a74_0b64_11eb_941b_7085c233535crow2_col1 {\n",
       "            background-color:  #a8bedc;\n",
       "            color:  #000000;\n",
       "        }    #T_eff26a74_0b64_11eb_941b_7085c233535crow2_col2 {\n",
       "            background-color:  #023858;\n",
       "            color:  #f1f1f1;\n",
       "        }    #T_eff26a74_0b64_11eb_941b_7085c233535crow2_col3 {\n",
       "            background-color:  #acc0dd;\n",
       "            color:  #000000;\n",
       "        }    #T_eff26a74_0b64_11eb_941b_7085c233535crow3_col0 {\n",
       "            background-color:  #023858;\n",
       "            color:  #f1f1f1;\n",
       "        }    #T_eff26a74_0b64_11eb_941b_7085c233535crow3_col1 {\n",
       "            background-color:  #fff7fb;\n",
       "            color:  #000000;\n",
       "        }    #T_eff26a74_0b64_11eb_941b_7085c233535crow3_col2 {\n",
       "            background-color:  #8fb4d6;\n",
       "            color:  #000000;\n",
       "        }    #T_eff26a74_0b64_11eb_941b_7085c233535crow3_col3 {\n",
       "            background-color:  #67a4cc;\n",
       "            color:  #000000;\n",
       "        }    #T_eff26a74_0b64_11eb_941b_7085c233535crow4_col0 {\n",
       "            background-color:  #023858;\n",
       "            color:  #f1f1f1;\n",
       "        }    #T_eff26a74_0b64_11eb_941b_7085c233535crow4_col1 {\n",
       "            background-color:  #b8c6e0;\n",
       "            color:  #000000;\n",
       "        }    #T_eff26a74_0b64_11eb_941b_7085c233535crow4_col2 {\n",
       "            background-color:  #fff7fb;\n",
       "            color:  #000000;\n",
       "        }    #T_eff26a74_0b64_11eb_941b_7085c233535crow4_col3 {\n",
       "            background-color:  #1379b5;\n",
       "            color:  #f1f1f1;\n",
       "        }    #T_eff26a74_0b64_11eb_941b_7085c233535crow5_col0 {\n",
       "            background-color:  #023858;\n",
       "            color:  #f1f1f1;\n",
       "        }    #T_eff26a74_0b64_11eb_941b_7085c233535crow5_col1 {\n",
       "            background-color:  #fff7fb;\n",
       "            color:  #000000;\n",
       "        }    #T_eff26a74_0b64_11eb_941b_7085c233535crow5_col2 {\n",
       "            background-color:  #d4d4e8;\n",
       "            color:  #000000;\n",
       "        }    #T_eff26a74_0b64_11eb_941b_7085c233535crow5_col3 {\n",
       "            background-color:  #d2d3e7;\n",
       "            color:  #000000;\n",
       "        }    #T_eff26a74_0b64_11eb_941b_7085c233535crow6_col0 {\n",
       "            background-color:  #023858;\n",
       "            color:  #f1f1f1;\n",
       "        }    #T_eff26a74_0b64_11eb_941b_7085c233535crow6_col1 {\n",
       "            background-color:  #fff7fb;\n",
       "            color:  #000000;\n",
       "        }    #T_eff26a74_0b64_11eb_941b_7085c233535crow6_col2 {\n",
       "            background-color:  #a2bcda;\n",
       "            color:  #000000;\n",
       "        }    #T_eff26a74_0b64_11eb_941b_7085c233535crow6_col3 {\n",
       "            background-color:  #d6d6e9;\n",
       "            color:  #000000;\n",
       "        }    #T_eff26a74_0b64_11eb_941b_7085c233535crow7_col0 {\n",
       "            background-color:  #023858;\n",
       "            color:  #f1f1f1;\n",
       "        }    #T_eff26a74_0b64_11eb_941b_7085c233535crow7_col1 {\n",
       "            background-color:  #fff7fb;\n",
       "            color:  #000000;\n",
       "        }    #T_eff26a74_0b64_11eb_941b_7085c233535crow7_col2 {\n",
       "            background-color:  #a8bedc;\n",
       "            color:  #000000;\n",
       "        }    #T_eff26a74_0b64_11eb_941b_7085c233535crow7_col3 {\n",
       "            background-color:  #d1d2e6;\n",
       "            color:  #000000;\n",
       "        }    #T_eff26a74_0b64_11eb_941b_7085c233535crow8_col0 {\n",
       "            background-color:  #023858;\n",
       "            color:  #f1f1f1;\n",
       "        }    #T_eff26a74_0b64_11eb_941b_7085c233535crow8_col1 {\n",
       "            background-color:  #fff7fb;\n",
       "            color:  #000000;\n",
       "        }    #T_eff26a74_0b64_11eb_941b_7085c233535crow8_col2 {\n",
       "            background-color:  #d2d3e7;\n",
       "            color:  #000000;\n",
       "        }    #T_eff26a74_0b64_11eb_941b_7085c233535crow8_col3 {\n",
       "            background-color:  #81aed2;\n",
       "            color:  #000000;\n",
       "        }    #T_eff26a74_0b64_11eb_941b_7085c233535crow9_col0 {\n",
       "            background-color:  #eee8f3;\n",
       "            color:  #000000;\n",
       "        }    #T_eff26a74_0b64_11eb_941b_7085c233535crow9_col1 {\n",
       "            background-color:  #023858;\n",
       "            color:  #f1f1f1;\n",
       "        }    #T_eff26a74_0b64_11eb_941b_7085c233535crow9_col2 {\n",
       "            background-color:  #fff7fb;\n",
       "            color:  #000000;\n",
       "        }    #T_eff26a74_0b64_11eb_941b_7085c233535crow9_col3 {\n",
       "            background-color:  #3b92c1;\n",
       "            color:  #000000;\n",
       "        }    #T_eff26a74_0b64_11eb_941b_7085c233535crow10_col0 {\n",
       "            background-color:  #023858;\n",
       "            color:  #f1f1f1;\n",
       "        }    #T_eff26a74_0b64_11eb_941b_7085c233535crow10_col1 {\n",
       "            background-color:  #fff7fb;\n",
       "            color:  #000000;\n",
       "        }    #T_eff26a74_0b64_11eb_941b_7085c233535crow10_col2 {\n",
       "            background-color:  #c2cbe2;\n",
       "            color:  #000000;\n",
       "        }    #T_eff26a74_0b64_11eb_941b_7085c233535crow10_col3 {\n",
       "            background-color:  #5ea0ca;\n",
       "            color:  #000000;\n",
       "        }    #T_eff26a74_0b64_11eb_941b_7085c233535crow11_col0 {\n",
       "            background-color:  #023858;\n",
       "            color:  #f1f1f1;\n",
       "        }    #T_eff26a74_0b64_11eb_941b_7085c233535crow11_col1 {\n",
       "            background-color:  #fff7fb;\n",
       "            color:  #000000;\n",
       "        }    #T_eff26a74_0b64_11eb_941b_7085c233535crow11_col2 {\n",
       "            background-color:  #e7e3f0;\n",
       "            color:  #000000;\n",
       "        }    #T_eff26a74_0b64_11eb_941b_7085c233535crow11_col3 {\n",
       "            background-color:  #3d93c2;\n",
       "            color:  #000000;\n",
       "        }    #T_eff26a74_0b64_11eb_941b_7085c233535crow12_col0 {\n",
       "            background-color:  #023858;\n",
       "            color:  #f1f1f1;\n",
       "        }    #T_eff26a74_0b64_11eb_941b_7085c233535crow12_col1 {\n",
       "            background-color:  #fff7fb;\n",
       "            color:  #000000;\n",
       "        }    #T_eff26a74_0b64_11eb_941b_7085c233535crow12_col2 {\n",
       "            background-color:  #e3e0ee;\n",
       "            color:  #000000;\n",
       "        }    #T_eff26a74_0b64_11eb_941b_7085c233535crow12_col3 {\n",
       "            background-color:  #4697c4;\n",
       "            color:  #000000;\n",
       "        }    #T_eff26a74_0b64_11eb_941b_7085c233535crow13_col0 {\n",
       "            background-color:  #fff7fb;\n",
       "            color:  #000000;\n",
       "        }    #T_eff26a74_0b64_11eb_941b_7085c233535crow13_col1 {\n",
       "            background-color:  #023858;\n",
       "            color:  #f1f1f1;\n",
       "        }    #T_eff26a74_0b64_11eb_941b_7085c233535crow13_col2 {\n",
       "            background-color:  #023f64;\n",
       "            color:  #f1f1f1;\n",
       "        }    #T_eff26a74_0b64_11eb_941b_7085c233535crow13_col3 {\n",
       "            background-color:  #bfc9e1;\n",
       "            color:  #000000;\n",
       "        }    #T_eff26a74_0b64_11eb_941b_7085c233535crow14_col0 {\n",
       "            background-color:  #023858;\n",
       "            color:  #f1f1f1;\n",
       "        }    #T_eff26a74_0b64_11eb_941b_7085c233535crow14_col1 {\n",
       "            background-color:  #3b92c1;\n",
       "            color:  #000000;\n",
       "        }    #T_eff26a74_0b64_11eb_941b_7085c233535crow14_col2 {\n",
       "            background-color:  #fff7fb;\n",
       "            color:  #000000;\n",
       "        }    #T_eff26a74_0b64_11eb_941b_7085c233535crow14_col3 {\n",
       "            background-color:  #03517e;\n",
       "            color:  #f1f1f1;\n",
       "        }    #T_eff26a74_0b64_11eb_941b_7085c233535crow15_col0 {\n",
       "            background-color:  #fff7fb;\n",
       "            color:  #000000;\n",
       "        }    #T_eff26a74_0b64_11eb_941b_7085c233535crow15_col1 {\n",
       "            background-color:  #023858;\n",
       "            color:  #f1f1f1;\n",
       "        }    #T_eff26a74_0b64_11eb_941b_7085c233535crow15_col2 {\n",
       "            background-color:  #d1d2e6;\n",
       "            color:  #000000;\n",
       "        }    #T_eff26a74_0b64_11eb_941b_7085c233535crow15_col3 {\n",
       "            background-color:  #97b7d7;\n",
       "            color:  #000000;\n",
       "        }    #T_eff26a74_0b64_11eb_941b_7085c233535crow16_col0 {\n",
       "            background-color:  #023858;\n",
       "            color:  #f1f1f1;\n",
       "        }    #T_eff26a74_0b64_11eb_941b_7085c233535crow16_col1 {\n",
       "            background-color:  #023c5f;\n",
       "            color:  #f1f1f1;\n",
       "        }    #T_eff26a74_0b64_11eb_941b_7085c233535crow16_col2 {\n",
       "            background-color:  #fff7fb;\n",
       "            color:  #000000;\n",
       "        }    #T_eff26a74_0b64_11eb_941b_7085c233535crow16_col3 {\n",
       "            background-color:  #045483;\n",
       "            color:  #f1f1f1;\n",
       "        }    #T_eff26a74_0b64_11eb_941b_7085c233535crow17_col0 {\n",
       "            background-color:  #4697c4;\n",
       "            color:  #000000;\n",
       "        }    #T_eff26a74_0b64_11eb_941b_7085c233535crow17_col1 {\n",
       "            background-color:  #023858;\n",
       "            color:  #f1f1f1;\n",
       "        }    #T_eff26a74_0b64_11eb_941b_7085c233535crow17_col2 {\n",
       "            background-color:  #fff7fb;\n",
       "            color:  #000000;\n",
       "        }    #T_eff26a74_0b64_11eb_941b_7085c233535crow17_col3 {\n",
       "            background-color:  #1b7eb7;\n",
       "            color:  #000000;\n",
       "        }    #T_eff26a74_0b64_11eb_941b_7085c233535crow18_col0 {\n",
       "            background-color:  #023858;\n",
       "            color:  #f1f1f1;\n",
       "        }    #T_eff26a74_0b64_11eb_941b_7085c233535crow18_col1 {\n",
       "            background-color:  #0568a3;\n",
       "            color:  #f1f1f1;\n",
       "        }    #T_eff26a74_0b64_11eb_941b_7085c233535crow18_col2 {\n",
       "            background-color:  #fff7fb;\n",
       "            color:  #000000;\n",
       "        }    #T_eff26a74_0b64_11eb_941b_7085c233535crow18_col3 {\n",
       "            background-color:  #034871;\n",
       "            color:  #f1f1f1;\n",
       "        }    #T_eff26a74_0b64_11eb_941b_7085c233535crow19_col0 {\n",
       "            background-color:  #023858;\n",
       "            color:  #f1f1f1;\n",
       "        }    #T_eff26a74_0b64_11eb_941b_7085c233535crow19_col1 {\n",
       "            background-color:  #71a8ce;\n",
       "            color:  #000000;\n",
       "        }    #T_eff26a74_0b64_11eb_941b_7085c233535crow19_col2 {\n",
       "            background-color:  #fff7fb;\n",
       "            color:  #000000;\n",
       "        }    #T_eff26a74_0b64_11eb_941b_7085c233535crow19_col3 {\n",
       "            background-color:  #046097;\n",
       "            color:  #f1f1f1;\n",
       "        }    #T_eff26a74_0b64_11eb_941b_7085c233535crow20_col0 {\n",
       "            background-color:  #fff7fb;\n",
       "            color:  #000000;\n",
       "        }    #T_eff26a74_0b64_11eb_941b_7085c233535crow20_col1 {\n",
       "            background-color:  #056caa;\n",
       "            color:  #f1f1f1;\n",
       "        }    #T_eff26a74_0b64_11eb_941b_7085c233535crow20_col2 {\n",
       "            background-color:  #023858;\n",
       "            color:  #f1f1f1;\n",
       "        }    #T_eff26a74_0b64_11eb_941b_7085c233535crow20_col3 {\n",
       "            background-color:  #e5e1ef;\n",
       "            color:  #000000;\n",
       "        }    #T_eff26a74_0b64_11eb_941b_7085c233535crow21_col0 {\n",
       "            background-color:  #046299;\n",
       "            color:  #f1f1f1;\n",
       "        }    #T_eff26a74_0b64_11eb_941b_7085c233535crow21_col1 {\n",
       "            background-color:  #023858;\n",
       "            color:  #f1f1f1;\n",
       "        }    #T_eff26a74_0b64_11eb_941b_7085c233535crow21_col2 {\n",
       "            background-color:  #fff7fb;\n",
       "            color:  #000000;\n",
       "        }    #T_eff26a74_0b64_11eb_941b_7085c233535crow21_col3 {\n",
       "            background-color:  #046198;\n",
       "            color:  #f1f1f1;\n",
       "        }    #T_eff26a74_0b64_11eb_941b_7085c233535crow22_col0 {\n",
       "            background-color:  #023858;\n",
       "            color:  #f1f1f1;\n",
       "        }    #T_eff26a74_0b64_11eb_941b_7085c233535crow22_col1 {\n",
       "            background-color:  #529bc7;\n",
       "            color:  #000000;\n",
       "        }    #T_eff26a74_0b64_11eb_941b_7085c233535crow22_col2 {\n",
       "            background-color:  #fff7fb;\n",
       "            color:  #000000;\n",
       "        }    #T_eff26a74_0b64_11eb_941b_7085c233535crow22_col3 {\n",
       "            background-color:  #034267;\n",
       "            color:  #f1f1f1;\n",
       "        }    #T_eff26a74_0b64_11eb_941b_7085c233535crow23_col0 {\n",
       "            background-color:  #023858;\n",
       "            color:  #f1f1f1;\n",
       "        }    #T_eff26a74_0b64_11eb_941b_7085c233535crow23_col1 {\n",
       "            background-color:  #fff7fb;\n",
       "            color:  #000000;\n",
       "        }    #T_eff26a74_0b64_11eb_941b_7085c233535crow23_col2 {\n",
       "            background-color:  #0d75b3;\n",
       "            color:  #f1f1f1;\n",
       "        }    #T_eff26a74_0b64_11eb_941b_7085c233535crow23_col3 {\n",
       "            background-color:  #1379b5;\n",
       "            color:  #f1f1f1;\n",
       "        }    #T_eff26a74_0b64_11eb_941b_7085c233535crow24_col0 {\n",
       "            background-color:  #023858;\n",
       "            color:  #f1f1f1;\n",
       "        }    #T_eff26a74_0b64_11eb_941b_7085c233535crow24_col1 {\n",
       "            background-color:  #e8e4f0;\n",
       "            color:  #000000;\n",
       "        }    #T_eff26a74_0b64_11eb_941b_7085c233535crow24_col2 {\n",
       "            background-color:  #fff7fb;\n",
       "            color:  #000000;\n",
       "        }    #T_eff26a74_0b64_11eb_941b_7085c233535crow24_col3 {\n",
       "            background-color:  #4496c3;\n",
       "            color:  #000000;\n",
       "        }    #T_eff26a74_0b64_11eb_941b_7085c233535crow25_col0 {\n",
       "            background-color:  #045f95;\n",
       "            color:  #f1f1f1;\n",
       "        }    #T_eff26a74_0b64_11eb_941b_7085c233535crow25_col1 {\n",
       "            background-color:  #fff7fb;\n",
       "            color:  #000000;\n",
       "        }    #T_eff26a74_0b64_11eb_941b_7085c233535crow25_col2 {\n",
       "            background-color:  #023858;\n",
       "            color:  #f1f1f1;\n",
       "        }    #T_eff26a74_0b64_11eb_941b_7085c233535crow25_col3 {\n",
       "            background-color:  #a2bcda;\n",
       "            color:  #000000;\n",
       "        }</style><table id=\"T_eff26a74_0b64_11eb_941b_7085c233535c\" ><thead>    <tr>        <th class=\"index_name level0\" >labels</th>        <th class=\"col_heading level0 col0\" >0</th>        <th class=\"col_heading level0 col1\" >1</th>        <th class=\"col_heading level0 col2\" >2</th>        <th class=\"col_heading level0 col3\" >3</th>    </tr></thead><tbody>\n",
       "                <tr>\n",
       "                        <th id=\"T_eff26a74_0b64_11eb_941b_7085c233535clevel0_row0\" class=\"row_heading level0 row0\" >accessibility_to_cities</th>\n",
       "                        <td id=\"T_eff26a74_0b64_11eb_941b_7085c233535crow0_col0\" class=\"data row0 col0\" >1930.109897</td>\n",
       "                        <td id=\"T_eff26a74_0b64_11eb_941b_7085c233535crow0_col1\" class=\"data row0 col1\" >475.770461</td>\n",
       "                        <td id=\"T_eff26a74_0b64_11eb_941b_7085c233535crow0_col2\" class=\"data row0 col2\" >842.577534</td>\n",
       "                        <td id=\"T_eff26a74_0b64_11eb_941b_7085c233535crow0_col3\" class=\"data row0 col3\" >401.517560</td>\n",
       "            </tr>\n",
       "            <tr>\n",
       "                        <th id=\"T_eff26a74_0b64_11eb_941b_7085c233535clevel0_row1\" class=\"row_heading level0 row1\" >elevation</th>\n",
       "                        <td id=\"T_eff26a74_0b64_11eb_941b_7085c233535crow1_col0\" class=\"data row1 col0\" >214.603340</td>\n",
       "                        <td id=\"T_eff26a74_0b64_11eb_941b_7085c233535crow1_col1\" class=\"data row1 col1\" >526.512867</td>\n",
       "                        <td id=\"T_eff26a74_0b64_11eb_941b_7085c233535crow1_col2\" class=\"data row1 col2\" >649.509223</td>\n",
       "                        <td id=\"T_eff26a74_0b64_11eb_941b_7085c233535crow1_col3\" class=\"data row1 col3\" >432.903324</td>\n",
       "            </tr>\n",
       "            <tr>\n",
       "                        <th id=\"T_eff26a74_0b64_11eb_941b_7085c233535clevel0_row2\" class=\"row_heading level0 row2\" >cropland_cover</th>\n",
       "                        <td id=\"T_eff26a74_0b64_11eb_941b_7085c233535crow2_col0\" class=\"data row2 col0\" >3.137229</td>\n",
       "                        <td id=\"T_eff26a74_0b64_11eb_941b_7085c233535crow2_col1\" class=\"data row2 col1\" >13.970671</td>\n",
       "                        <td id=\"T_eff26a74_0b64_11eb_941b_7085c233535crow2_col2\" class=\"data row2 col2\" >32.441886</td>\n",
       "                        <td id=\"T_eff26a74_0b64_11eb_941b_7085c233535crow2_col3\" class=\"data row2 col3\" >13.641855</td>\n",
       "            </tr>\n",
       "            <tr>\n",
       "                        <th id=\"T_eff26a74_0b64_11eb_941b_7085c233535clevel0_row3\" class=\"row_heading level0 row3\" >tree_canopy_cover</th>\n",
       "                        <td id=\"T_eff26a74_0b64_11eb_941b_7085c233535crow3_col0\" class=\"data row3 col0\" >42.146811</td>\n",
       "                        <td id=\"T_eff26a74_0b64_11eb_941b_7085c233535crow3_col1\" class=\"data row3 col1\" >1.646054</td>\n",
       "                        <td id=\"T_eff26a74_0b64_11eb_941b_7085c233535crow3_col2\" class=\"data row3 col2\" >19.082425</td>\n",
       "                        <td id=\"T_eff26a74_0b64_11eb_941b_7085c233535crow3_col3\" class=\"data row3 col3\" >22.856578</td>\n",
       "            </tr>\n",
       "            <tr>\n",
       "                        <th id=\"T_eff26a74_0b64_11eb_941b_7085c233535clevel0_row4\" class=\"row_heading level0 row4\" >isothermality</th>\n",
       "                        <td id=\"T_eff26a74_0b64_11eb_941b_7085c233535crow4_col0\" class=\"data row4 col0\" >76.270725</td>\n",
       "                        <td id=\"T_eff26a74_0b64_11eb_941b_7085c233535crow4_col1\" class=\"data row4 col1\" >46.249037</td>\n",
       "                        <td id=\"T_eff26a74_0b64_11eb_941b_7085c233535crow4_col2\" class=\"data row4 col2\" >32.014567</td>\n",
       "                        <td id=\"T_eff26a74_0b64_11eb_941b_7085c233535crow4_col3\" class=\"data row4 col3\" >63.494354</td>\n",
       "            </tr>\n",
       "            <tr>\n",
       "                        <th id=\"T_eff26a74_0b64_11eb_941b_7085c233535clevel0_row5\" class=\"row_heading level0 row5\" >rain_coldestQuart</th>\n",
       "                        <td id=\"T_eff26a74_0b64_11eb_941b_7085c233535crow5_col0\" class=\"data row5 col0\" >545.174258</td>\n",
       "                        <td id=\"T_eff26a74_0b64_11eb_941b_7085c233535crow5_col1\" class=\"data row5 col1\" >79.983259</td>\n",
       "                        <td id=\"T_eff26a74_0b64_11eb_941b_7085c233535crow5_col2\" class=\"data row5 col2\" >188.700504</td>\n",
       "                        <td id=\"T_eff26a74_0b64_11eb_941b_7085c233535crow5_col3\" class=\"data row5 col3\" >191.791777</td>\n",
       "            </tr>\n",
       "            <tr>\n",
       "                        <th id=\"T_eff26a74_0b64_11eb_941b_7085c233535clevel0_row6\" class=\"row_heading level0 row6\" >rain_driestMonth</th>\n",
       "                        <td id=\"T_eff26a74_0b64_11eb_941b_7085c233535crow6_col0\" class=\"data row6 col0\" >102.263229</td>\n",
       "                        <td id=\"T_eff26a74_0b64_11eb_941b_7085c233535crow6_col1\" class=\"data row6 col1\" >1.783398</td>\n",
       "                        <td id=\"T_eff26a74_0b64_11eb_941b_7085c233535crow6_col2\" class=\"data row6 col2\" >40.517802</td>\n",
       "                        <td id=\"T_eff26a74_0b64_11eb_941b_7085c233535crow6_col3\" class=\"data row6 col3\" >24.467817</td>\n",
       "            </tr>\n",
       "            <tr>\n",
       "                        <th id=\"T_eff26a74_0b64_11eb_941b_7085c233535clevel0_row7\" class=\"row_heading level0 row7\" >rain_driestQuart</th>\n",
       "                        <td id=\"T_eff26a74_0b64_11eb_941b_7085c233535crow7_col0\" class=\"data row7 col0\" >350.928644</td>\n",
       "                        <td id=\"T_eff26a74_0b64_11eb_941b_7085c233535crow7_col1\" class=\"data row7 col1\" >8.324705</td>\n",
       "                        <td id=\"T_eff26a74_0b64_11eb_941b_7085c233535crow7_col2\" class=\"data row7 col2\" >134.782673</td>\n",
       "                        <td id=\"T_eff26a74_0b64_11eb_941b_7085c233535crow7_col3\" class=\"data row7 col3\" >93.220003</td>\n",
       "            </tr>\n",
       "            <tr>\n",
       "                        <th id=\"T_eff26a74_0b64_11eb_941b_7085c233535clevel0_row8\" class=\"row_heading level0 row8\" >rain_mean_annual</th>\n",
       "                        <td id=\"T_eff26a74_0b64_11eb_941b_7085c233535crow8_col0\" class=\"data row8 col0\" >2577.101615</td>\n",
       "                        <td id=\"T_eff26a74_0b64_11eb_941b_7085c233535crow8_col1\" class=\"data row8 col1\" >283.419190</td>\n",
       "                        <td id=\"T_eff26a74_0b64_11eb_941b_7085c233535crow8_col2\" class=\"data row8 col2\" >834.098266</td>\n",
       "                        <td id=\"T_eff26a74_0b64_11eb_941b_7085c233535crow8_col3\" class=\"data row8 col3\" >1353.979637</td>\n",
       "            </tr>\n",
       "            <tr>\n",
       "                        <th id=\"T_eff26a74_0b64_11eb_941b_7085c233535clevel0_row9\" class=\"row_heading level0 row9\" >rain_seasonailty</th>\n",
       "                        <td id=\"T_eff26a74_0b64_11eb_941b_7085c233535crow9_col0\" class=\"data row9 col0\" >40.772699</td>\n",
       "                        <td id=\"T_eff26a74_0b64_11eb_941b_7085c233535crow9_col1\" class=\"data row9 col1\" >90.887374</td>\n",
       "                        <td id=\"T_eff26a74_0b64_11eb_941b_7085c233535crow9_col2\" class=\"data row9 col2\" >34.198058</td>\n",
       "                        <td id=\"T_eff26a74_0b64_11eb_941b_7085c233535crow9_col3\" class=\"data row9 col3\" >68.992557</td>\n",
       "            </tr>\n",
       "            <tr>\n",
       "                        <th id=\"T_eff26a74_0b64_11eb_941b_7085c233535clevel0_row10\" class=\"row_heading level0 row10\" >rain_warmestQuart</th>\n",
       "                        <td id=\"T_eff26a74_0b64_11eb_941b_7085c233535crow10_col0\" class=\"data row10 col0\" >677.567761</td>\n",
       "                        <td id=\"T_eff26a74_0b64_11eb_941b_7085c233535crow10_col1\" class=\"data row10 col1\" >50.567356</td>\n",
       "                        <td id=\"T_eff26a74_0b64_11eb_941b_7085c233535crow10_col2\" class=\"data row10 col2\" >233.674979</td>\n",
       "                        <td id=\"T_eff26a74_0b64_11eb_941b_7085c233535crow10_col3\" class=\"data row10 col3\" >391.164223</td>\n",
       "            </tr>\n",
       "            <tr>\n",
       "                        <th id=\"T_eff26a74_0b64_11eb_941b_7085c233535clevel0_row11\" class=\"row_heading level0 row11\" >rain_wettestMonth</th>\n",
       "                        <td id=\"T_eff26a74_0b64_11eb_941b_7085c233535crow11_col0\" class=\"data row11 col0\" >354.206940</td>\n",
       "                        <td id=\"T_eff26a74_0b64_11eb_941b_7085c233535crow11_col1\" class=\"data row11 col1\" >66.037844</td>\n",
       "                        <td id=\"T_eff26a74_0b64_11eb_941b_7085c233535crow11_col2\" class=\"data row11 col2\" >109.320242</td>\n",
       "                        <td id=\"T_eff26a74_0b64_11eb_941b_7085c233535crow11_col3\" class=\"data row11 col3\" >242.603344</td>\n",
       "            </tr>\n",
       "            <tr>\n",
       "                        <th id=\"T_eff26a74_0b64_11eb_941b_7085c233535clevel0_row12\" class=\"row_heading level0 row12\" >rain_wettestQuart</th>\n",
       "                        <td id=\"T_eff26a74_0b64_11eb_941b_7085c233535crow12_col0\" class=\"data row12 col0\" >959.653312</td>\n",
       "                        <td id=\"T_eff26a74_0b64_11eb_941b_7085c233535crow12_col1\" class=\"data row12 col1\" >166.165452</td>\n",
       "                        <td id=\"T_eff26a74_0b64_11eb_941b_7085c233535crow12_col2\" class=\"data row12 col2\" >297.636670</td>\n",
       "                        <td id=\"T_eff26a74_0b64_11eb_941b_7085c233535crow12_col3\" class=\"data row12 col3\" >635.484129</td>\n",
       "            </tr>\n",
       "            <tr>\n",
       "                        <th id=\"T_eff26a74_0b64_11eb_941b_7085c233535clevel0_row13\" class=\"row_heading level0 row13\" >temp_annual_range</th>\n",
       "                        <td id=\"T_eff26a74_0b64_11eb_941b_7085c233535crow13_col0\" class=\"data row13 col0\" >9.742554</td>\n",
       "                        <td id=\"T_eff26a74_0b64_11eb_941b_7085c233535crow13_col1\" class=\"data row13 col1\" >28.972032</td>\n",
       "                        <td id=\"T_eff26a74_0b64_11eb_941b_7085c233535crow13_col2\" class=\"data row13 col2\" >28.394639</td>\n",
       "                        <td id=\"T_eff26a74_0b64_11eb_941b_7085c233535crow13_col3\" class=\"data row13 col3\" >15.570577</td>\n",
       "            </tr>\n",
       "            <tr>\n",
       "                        <th id=\"T_eff26a74_0b64_11eb_941b_7085c233535clevel0_row14\" class=\"row_heading level0 row14\" >temp_coldestQuart</th>\n",
       "                        <td id=\"T_eff26a74_0b64_11eb_941b_7085c233535crow14_col0\" class=\"data row14 col0\" >24.214907</td>\n",
       "                        <td id=\"T_eff26a74_0b64_11eb_941b_7085c233535crow14_col1\" class=\"data row14 col1\" >14.115253</td>\n",
       "                        <td id=\"T_eff26a74_0b64_11eb_941b_7085c233535crow14_col2\" class=\"data row14 col2\" >-2.068221</td>\n",
       "                        <td id=\"T_eff26a74_0b64_11eb_941b_7085c233535crow14_col3\" class=\"data row14 col3\" >21.783584</td>\n",
       "            </tr>\n",
       "            <tr>\n",
       "                        <th id=\"T_eff26a74_0b64_11eb_941b_7085c233535clevel0_row15\" class=\"row_heading level0 row15\" >temp_diurnal_range</th>\n",
       "                        <td id=\"T_eff26a74_0b64_11eb_941b_7085c233535crow15_col0\" class=\"data row15 col0\" >7.342509</td>\n",
       "                        <td id=\"T_eff26a74_0b64_11eb_941b_7085c233535crow15_col1\" class=\"data row15 col1\" >13.169452</td>\n",
       "                        <td id=\"T_eff26a74_0b64_11eb_941b_7085c233535crow15_col2\" class=\"data row15 col2\" >8.792435</td>\n",
       "                        <td id=\"T_eff26a74_0b64_11eb_941b_7085c233535crow15_col3\" class=\"data row15 col3\" >9.738681</td>\n",
       "            </tr>\n",
       "            <tr>\n",
       "                        <th id=\"T_eff26a74_0b64_11eb_941b_7085c233535clevel0_row16\" class=\"row_heading level0 row16\" >temp_driestQuart</th>\n",
       "                        <td id=\"T_eff26a74_0b64_11eb_941b_7085c233535crow16_col0\" class=\"data row16 col0\" >24.775196</td>\n",
       "                        <td id=\"T_eff26a74_0b64_11eb_941b_7085c233535crow16_col1\" class=\"data row16 col1\" >24.398892</td>\n",
       "                        <td id=\"T_eff26a74_0b64_11eb_941b_7085c233535crow16_col2\" class=\"data row16 col2\" >3.871712</td>\n",
       "                        <td id=\"T_eff26a74_0b64_11eb_941b_7085c233535crow16_col3\" class=\"data row16 col3\" >22.577263</td>\n",
       "            </tr>\n",
       "            <tr>\n",
       "                        <th id=\"T_eff26a74_0b64_11eb_941b_7085c233535clevel0_row17\" class=\"row_heading level0 row17\" >temp_max_warmestMonth</th>\n",
       "                        <td id=\"T_eff26a74_0b64_11eb_941b_7085c233535crow17_col0\" class=\"data row17 col0\" >30.242603</td>\n",
       "                        <td id=\"T_eff26a74_0b64_11eb_941b_7085c233535crow17_col1\" class=\"data row17 col1\" >36.039595</td>\n",
       "                        <td id=\"T_eff26a74_0b64_11eb_941b_7085c233535crow17_col2\" class=\"data row17 col2\" >21.770161</td>\n",
       "                        <td id=\"T_eff26a74_0b64_11eb_941b_7085c233535crow17_col3\" class=\"data row17 col3\" >31.665038</td>\n",
       "            </tr>\n",
       "            <tr>\n",
       "                        <th id=\"T_eff26a74_0b64_11eb_941b_7085c233535clevel0_row18\" class=\"row_heading level0 row18\" >temp_mean_annual</th>\n",
       "                        <td id=\"T_eff26a74_0b64_11eb_941b_7085c233535crow18_col0\" class=\"data row18 col0\" >25.233465</td>\n",
       "                        <td id=\"T_eff26a74_0b64_11eb_941b_7085c233535crow18_col1\" class=\"data row18 col1\" >21.484119</td>\n",
       "                        <td id=\"T_eff26a74_0b64_11eb_941b_7085c233535crow18_col2\" class=\"data row18 col2\" >6.880377</td>\n",
       "                        <td id=\"T_eff26a74_0b64_11eb_941b_7085c233535crow18_col3\" class=\"data row18 col3\" >24.132795</td>\n",
       "            </tr>\n",
       "            <tr>\n",
       "                        <th id=\"T_eff26a74_0b64_11eb_941b_7085c233535clevel0_row19\" class=\"row_heading level0 row19\" >temp_min_coldestMonth</th>\n",
       "                        <td id=\"T_eff26a74_0b64_11eb_941b_7085c233535crow19_col0\" class=\"data row19 col0\" >20.500050</td>\n",
       "                        <td id=\"T_eff26a74_0b64_11eb_941b_7085c233535crow19_col1\" class=\"data row19 col1\" >7.067563</td>\n",
       "                        <td id=\"T_eff26a74_0b64_11eb_941b_7085c233535crow19_col2\" class=\"data row19 col2\" >-6.624478</td>\n",
       "                        <td id=\"T_eff26a74_0b64_11eb_941b_7085c233535crow19_col3\" class=\"data row19 col3\" >16.094461</td>\n",
       "            </tr>\n",
       "            <tr>\n",
       "                        <th id=\"T_eff26a74_0b64_11eb_941b_7085c233535clevel0_row20\" class=\"row_heading level0 row20\" >temp_seasonality</th>\n",
       "                        <td id=\"T_eff26a74_0b64_11eb_941b_7085c233535crow20_col0\" class=\"data row20 col0\" >7.375222</td>\n",
       "                        <td id=\"T_eff26a74_0b64_11eb_941b_7085c233535crow20_col1\" class=\"data row20 col1\" >55.304200</td>\n",
       "                        <td id=\"T_eff26a74_0b64_11eb_941b_7085c233535crow20_col2\" class=\"data row20 col2\" >69.487373</td>\n",
       "                        <td id=\"T_eff26a74_0b64_11eb_941b_7085c233535crow20_col3\" class=\"data row20 col3\" >17.111852</td>\n",
       "            </tr>\n",
       "            <tr>\n",
       "                        <th id=\"T_eff26a74_0b64_11eb_941b_7085c233535clevel0_row21\" class=\"row_heading level0 row21\" >temp_warmestQuart</th>\n",
       "                        <td id=\"T_eff26a74_0b64_11eb_941b_7085c233535crow21_col0\" class=\"data row21 col0\" >26.062992</td>\n",
       "                        <td id=\"T_eff26a74_0b64_11eb_941b_7085c233535crow21_col1\" class=\"data row21 col1\" >28.188660</td>\n",
       "                        <td id=\"T_eff26a74_0b64_11eb_941b_7085c233535crow21_col2\" class=\"data row21 col2\" >15.680803</td>\n",
       "                        <td id=\"T_eff26a74_0b64_11eb_941b_7085c233535crow21_col3\" class=\"data row21 col3\" >26.099586</td>\n",
       "            </tr>\n",
       "            <tr>\n",
       "                        <th id=\"T_eff26a74_0b64_11eb_941b_7085c233535clevel0_row22\" class=\"row_heading level0 row22\" >temp_wettestQuart</th>\n",
       "                        <td id=\"T_eff26a74_0b64_11eb_941b_7085c233535crow22_col0\" class=\"data row22 col0\" >25.538757</td>\n",
       "                        <td id=\"T_eff26a74_0b64_11eb_941b_7085c233535crow22_col1\" class=\"data row22 col1\" >19.007143</td>\n",
       "                        <td id=\"T_eff26a74_0b64_11eb_941b_7085c233535crow22_col2\" class=\"data row22 col2\" >10.473240</td>\n",
       "                        <td id=\"T_eff26a74_0b64_11eb_941b_7085c233535crow22_col3\" class=\"data row22 col3\" >24.991560</td>\n",
       "            </tr>\n",
       "            <tr>\n",
       "                        <th id=\"T_eff26a74_0b64_11eb_941b_7085c233535clevel0_row23\" class=\"row_heading level0 row23\" >cloudiness</th>\n",
       "                        <td id=\"T_eff26a74_0b64_11eb_941b_7085c233535crow23_col0\" class=\"data row23 col0\" >250.792357</td>\n",
       "                        <td id=\"T_eff26a74_0b64_11eb_941b_7085c233535crow23_col1\" class=\"data row23 col1\" >109.519369</td>\n",
       "                        <td id=\"T_eff26a74_0b64_11eb_941b_7085c233535crow23_col2\" class=\"data row23 col2\" >212.563995</td>\n",
       "                        <td id=\"T_eff26a74_0b64_11eb_941b_7085c233535crow23_col3\" class=\"data row23 col3\" >210.404235</td>\n",
       "            </tr>\n",
       "            <tr>\n",
       "                        <th id=\"T_eff26a74_0b64_11eb_941b_7085c233535clevel0_row24\" class=\"row_heading level0 row24\" >pc0</th>\n",
       "                        <td id=\"T_eff26a74_0b64_11eb_941b_7085c233535crow24_col0\" class=\"data row24 col0\" >4.710842</td>\n",
       "                        <td id=\"T_eff26a74_0b64_11eb_941b_7085c233535crow24_col1\" class=\"data row24 col1\" >-2.074924</td>\n",
       "                        <td id=\"T_eff26a74_0b64_11eb_941b_7085c233535crow24_col2\" class=\"data row24 col2\" >-3.192150</td>\n",
       "                        <td id=\"T_eff26a74_0b64_11eb_941b_7085c233535crow24_col3\" class=\"data row24 col3\" >1.518042</td>\n",
       "            </tr>\n",
       "            <tr>\n",
       "                        <th id=\"T_eff26a74_0b64_11eb_941b_7085c233535clevel0_row25\" class=\"row_heading level0 row25\" >pc1</th>\n",
       "                        <td id=\"T_eff26a74_0b64_11eb_941b_7085c233535crow25_col0\" class=\"data row25 col0\" >1.395991</td>\n",
       "                        <td id=\"T_eff26a74_0b64_11eb_941b_7085c233535crow25_col1\" class=\"data row25 col1\" >-3.303738</td>\n",
       "                        <td id=\"T_eff26a74_0b64_11eb_941b_7085c233535crow25_col2\" class=\"data row25 col2\" >2.245442</td>\n",
       "                        <td id=\"T_eff26a74_0b64_11eb_941b_7085c233535crow25_col3\" class=\"data row25 col3\" >-1.164573</td>\n",
       "            </tr>\n",
       "    </tbody></table>"
      ],
      "text/plain": [
       "<pandas.io.formats.style.Styler at 0x179909b3f08>"
      ]
     },
     "execution_count": 132,
     "metadata": {},
     "output_type": "execute_result"
    },
    {
     "data": {
      "application/javascript": [
       "\n",
       "            setTimeout(function() {\n",
       "                var nbb_cell_id = 132;\n",
       "                var nbb_unformatted_code = \"environ_gmm.groupby(\\\"labels\\\").mean().T.style.background_gradient(axis=1)\";\n",
       "                var nbb_formatted_code = \"environ_gmm.groupby(\\\"labels\\\").mean().T.style.background_gradient(axis=1)\";\n",
       "                var nbb_cells = Jupyter.notebook.get_cells();\n",
       "                for (var i = 0; i < nbb_cells.length; ++i) {\n",
       "                    if (nbb_cells[i].input_prompt_number == nbb_cell_id) {\n",
       "                        if (nbb_cells[i].get_text() == nbb_unformatted_code) {\n",
       "                             nbb_cells[i].set_text(nbb_formatted_code);\n",
       "                        }\n",
       "                        break;\n",
       "                    }\n",
       "                }\n",
       "            }, 500);\n",
       "            "
      ],
      "text/plain": [
       "<IPython.core.display.Javascript object>"
      ]
     },
     "metadata": {},
     "output_type": "display_data"
    }
   ],
   "source": [
    "environ_gmm.groupby(\"labels\").mean().T.style.background_gradient(axis=1)"
   ]
  },
  {
   "cell_type": "code",
   "execution_count": null,
   "metadata": {},
   "outputs": [],
   "source": []
  },
  {
   "cell_type": "code",
   "execution_count": null,
   "metadata": {},
   "outputs": [],
   "source": []
  },
  {
   "cell_type": "markdown",
   "metadata": {},
   "source": [
    "DBSCAN"
   ]
  },
  {
   "cell_type": "code",
   "execution_count": null,
   "metadata": {},
   "outputs": [],
   "source": []
  }
 ],
 "metadata": {
  "kernelspec": {
   "display_name": "Python 3",
   "language": "python",
   "name": "python3"
  },
  "language_info": {
   "codemirror_mode": {
    "name": "ipython",
    "version": 3
   },
   "file_extension": ".py",
   "mimetype": "text/x-python",
   "name": "python",
   "nbconvert_exporter": "python",
   "pygments_lexer": "ipython3",
   "version": "3.7.6"
  }
 },
 "nbformat": 4,
 "nbformat_minor": 4
}
