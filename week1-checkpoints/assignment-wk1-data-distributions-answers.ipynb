{
 "cells": [
  {
   "cell_type": "code",
   "execution_count": 2,
   "metadata": {},
   "outputs": [],
   "source": [
    "import numpy as np\n",
    "import pandas as pd\n",
    "import matplotlib.pyplot as plt\n",
    "%matplotlib inline"
   ]
  },
  {
   "cell_type": "markdown",
   "metadata": {},
   "source": [
    "## Assignment\n",
    "\n",
    "#### To complete the following drills, you'll need to use your Python skills to create some datasets, then use your new statistical knowledge to summarize them. Choose 6 distributions from the list of random distributions available in NumPy, called \"Distributions\".\n",
    "\n",
    "1. Generate a random variable with 100 datapoints using the code distributionvar = np.random.distributionname([arguments], 100), replacing distributionvar with an appropriate variable name and distributionname with the name of the distribution you’ve chosen, and filling in the empty space in the parentheses with your chosen values for the appropriate parameters. If you feel uncertain about how to do this, go back to the “Other Distributions” assignment for examples of code to use as a starting point.\n",
    "\n",
    "2. Graph the variable using a histogram.\n",
    "\n",
    "3. Compute the mean and standard deviation and plot them as vertical lines on the histogram.\n",
    "\n",
    "4. Evaluate whether the descriptive statistics provided useful information about the variable. Can you identify any common characteristics of the distributions that could be usefully described using the mean and/or standard deviation?"
   ]
  },
  {
   "cell_type": "code",
   "execution_count": 114,
   "metadata": {},
   "outputs": [
    {
     "data": {
      "text/plain": [
       "'Mean and standard deviation are good estimators of \\nthe normal distribution,as the normal distribtion is\\nderived from these stats'"
      ]
     },
     "execution_count": 114,
     "metadata": {},
     "output_type": "execute_result"
    },
    {
     "data": {
      "image/png": "[encoded data removed]",
      "text/plain": [
       "<Figure size 432x288 with 1 Axes>"
      ]
     },
     "metadata": {
      "needs_background": "light"
     },
     "output_type": "display_data"
    }
   ],
   "source": [
    "# Distribution 1: Normal\n",
    "\n",
    "# 1.\n",
    "# standard normally distributed sample\n",
    "# mean=0, std=1, n=100\n",
    "mean = 0\n",
    "std = 1\n",
    "n = 100\n",
    "\n",
    "#create a dateframe of rand numbers,\n",
    "#sampled from a normal distribution,\n",
    "#based upon the parameters\n",
    "\n",
    "norm_df = pd.DataFrame({'rand':np.random.normal(mean, std, n)})\n",
    "\n",
    "# 2. graph the variable with a histogram\n",
    "norm_df.hist()\n",
    "plt.show\n",
    "\n",
    "# 3. plot mean and std\n",
    "plt.axvline(mean, color='k', linestyle='solid', linewidth=1)\n",
    "plt.axvline(mean + std, color='k', linestyle='dashed', linewidth=1)\n",
    "plt.axvline(mean - std, color='k', linestyle='dashed', linewidth=1)\n",
    "\n",
    "# 4. \n",
    "'''Mean and standard deviation are good estimators of \n",
    "the normal distribution,as the normal distribtion is\n",
    "derived from these stats'''\n",
    "\n"
   ]
  },
  {
   "cell_type": "code",
   "execution_count": 116,
   "metadata": {},
   "outputs": [
    {
     "data": {
      "image/png": "[encoded data removed]",
      "text/plain": [
       "<Figure size 432x288 with 1 Axes>"
      ]
     },
     "metadata": {
      "needs_background": "light"
     },
     "output_type": "display_data"
    },
    {
     "data": {
      "text/plain": [
       "'For a bernoulli distribution,\\nmean and standard deviation arent the\\nbest measures. These distributions are binary, \\nso mean isnt very meaningful in describing results.\\n'"
      ]
     },
     "execution_count": 116,
     "metadata": {},
     "output_type": "execute_result"
    }
   ],
   "source": [
    "# Distribution 2: Bernoulli\n",
    "\n",
    "# 1.\n",
    "# generate bernoulli distr\n",
    "bern = np.random.binomial(1, 0.5, 100)\n",
    "\n",
    "# 2. graph with histogram\n",
    "plt.hist(bern)\n",
    "\n",
    "# 3. plot mean and std\n",
    "bern_mean = np.mean(bern)\n",
    "bern_std = np.std(bern)\n",
    "plt.axvline(bern_mean, color='k', linestyle='solid', linewidth=1)\n",
    "plt.axvline(bern_mean + bern_std, color='k', linestyle='dashed', linewidth=1)\n",
    "plt.axvline(bern_mean - bern_std, color='k', linestyle='dashed', linewidth=1)\n",
    "plt.show()\n",
    "\n",
    "'''For a bernoulli distribution,\n",
    "mean and standard deviation arent the\n",
    "best measures. These distributions are binary, \n",
    "so mean isnt very meaningful in describing results.\n",
    "'''"
   ]
  },
  {
   "cell_type": "code",
   "execution_count": 112,
   "metadata": {},
   "outputs": [
    {
     "data": {
      "text/plain": [
       "'I feel mean and std are more useful \\nwiht the binomial than with a bernoulli,\\nbut still not representative.\\n'"
      ]
     },
     "execution_count": 112,
     "metadata": {},
     "output_type": "execute_result"
    },
    {
     "data": {
      "image/png": "[encoded data removed]",
      "text/plain": [
       "<Figure size 432x288 with 1 Axes>"
      ]
     },
     "metadata": {
      "needs_background": "light"
     },
     "output_type": "display_data"
    }
   ],
   "source": [
    "# Distribution 3: Binomial\n",
    "\n",
    "# 1.\n",
    "# generate binomial distribution\n",
    "t =4\n",
    "n = 100\n",
    "p = 0.5\n",
    "\n",
    "binom_df = np.random.binomial(t, p, n)\n",
    "\n",
    "#2.\n",
    "plt.hist(binom_df)\n",
    "\n",
    "# 3.\n",
    "binom_mean = binom_df.mean()\n",
    "binom_std = binom_df.std()\n",
    "plt.axvline(binom_mean, color='k', linestyle='solid', linewidth=1)\n",
    "plt.axvline(binom_mean + binom_std, color='k', linestyle='dashed', linewidth=1)\n",
    "plt.axvline(binom_mean - binom_std, color='k', linestyle='dashed', linewidth=1)\n",
    "plt.show\n",
    "\n",
    "# 4.\n",
    "'''I feel mean and std are more useful \n",
    "wiht the binomial than with a bernoulli,\n",
    "but still not representative.\n",
    "'''\n"
   ]
  },
  {
   "cell_type": "code",
   "execution_count": 111,
   "metadata": {},
   "outputs": [
    {
     "data": {
      "text/plain": [
       "<function matplotlib.pyplot.show(*args, **kw)>"
      ]
     },
     "execution_count": 111,
     "metadata": {},
     "output_type": "execute_result"
    },
    {
     "data": {
      "image/png": "[encoded data removed]",
      "text/plain": [
       "<Figure size 432x288 with 1 Axes>"
      ]
     },
     "metadata": {
      "needs_background": "light"
     },
     "output_type": "display_data"
    }
   ],
   "source": [
    "# Distribution 4: gamma distribution\n",
    "\n",
    "# 1.\n",
    "# generate gamma distribution (shape, scale, trials)\n",
    "gamma = np.random.gamma(5,1, 100)\n",
    "\n",
    "# 2. plot\n",
    "plt.hist(gamma)\n",
    "\n",
    "# 3. plot mean and std\n",
    "gamma_mean = gamma.mean()\n",
    "gamma_std = gamma.std()\n",
    "plt.axvline(gamma_mean, color='k', linestyle='solid', linewidth=1)\n",
    "plt.axvline((gamma_mean + gamma_std), color='k', linestyle='dashed', linewidth=1)\n",
    "plt.axvline((gamma_mean - gamma_std), color='k', linestyle='dashed', linewidth=1)\n",
    "plt.show\n",
    "\n",
    "# 4."
   ]
  },
  {
   "cell_type": "code",
   "execution_count": 120,
   "metadata": {},
   "outputs": [
    {
     "data": {
      "text/plain": [
       "<function matplotlib.pyplot.show(*args, **kw)>"
      ]
     },
     "execution_count": 120,
     "metadata": {},
     "output_type": "execute_result"
    },
    {
     "data": {
      "image/png": "[encoded data removed]",
      "text/plain": [
       "<Figure size 432x288 with 1 Axes>"
      ]
     },
     "metadata": {
      "needs_background": "light"
     },
     "output_type": "display_data"
    }
   ],
   "source": [
    "# Distribution 5: Poisson\n",
    "\n",
    "# 1. Generate a poisson distribution, lambda=3, n=100\n",
    "poisson = np.random.poisson(3,100)\n",
    "\n",
    "# 2. plot\n",
    "plt.hist(poisson)\n",
    "\n",
    "# 3. plot mean and std\n",
    "poisson_mean = poisson.mean()\n",
    "poisson_std = poisson.std()\n",
    "plt.axvline(poisson_mean, color='k',\n",
    "            linestyle='solid',\n",
    "            linewidth=1)\n",
    "plt.axvline((poisson_mean + poisson_std), \n",
    "            color='k', linestyle='dashed', \n",
    "            linewidth=1)\n",
    "plt.axvline((poisson_mean - poisson_std), \n",
    "            color='k', linestyle='dashed', \n",
    "            linewidth=1)\n",
    "plt.show"
   ]
  },
  {
   "cell_type": "code",
   "execution_count": 123,
   "metadata": {},
   "outputs": [
    {
     "data": {
      "text/plain": [
       "<matplotlib.lines.Line2D at 0x11c4b90d0>"
      ]
     },
     "execution_count": 123,
     "metadata": {},
     "output_type": "execute_result"
    },
    {
     "data": {
      "image/png": "[encoded data removed]",
      "text/plain": [
       "<Figure size 432x288 with 1 Axes>"
      ]
     },
     "metadata": {
      "needs_background": "light"
     },
     "output_type": "display_data"
    }
   ],
   "source": [
    "# Distribution 6: pareto\n",
    "# 80-20: 80% weight in lowest 20% range, \n",
    "# 20% weight in remaining 80%\n",
    "\n",
    "# 1. generate pareto distribution. shape=1\n",
    "pareto = np.random.pareto(1, 100)\n",
    "\n",
    "# 2. plot\n",
    "plt.hist(pareto)\n",
    "\n",
    "# 3. plot mean and std\n",
    "mean = pareto.mean()\n",
    "std = pareto.std()\n",
    "plt.axvline(mean,\n",
    "            color='k',\n",
    "            linestyle='solid',\n",
    "            linewidth=1)\n",
    "plt.axvline(mean + std,\n",
    "            color='k',\n",
    "            linestyle='dashed',\n",
    "            linewidth=1)\n",
    "plt.axvline(mean - std,\n",
    "            color='k',\n",
    "            linestyle='dashed',\n",
    "            linewidth=1)\n"
   ]
  },
  {
   "cell_type": "markdown",
   "metadata": {},
   "source": [
    "##### #4. Ultimate Answer\n",
    "\n",
    "Mean will always remain a strong measure for central tendency. However, some distributions are incredibly skewed, or not best thought as continuous. In these cases, mean fails to capture the true behavior of the distribution. The mean will always give one an idea of where the heart of the data is, but must be consdered with a critical eye to outliers and reality. "
   ]
  },
  {
   "cell_type": "markdown",
   "metadata": {},
   "source": [
    "### Additionally:\n",
    "\n",
    "1. Generate two normally-distributed variables, one with a mean of 5 and standard deviation of 0.5, and the other with a mean of 10 and a standard deviation of 1.\n",
    "\n",
    "2. Add them together to create a third variable.\n",
    "\n",
    "3. Graph the third variable using a histogram.\n",
    "\n",
    "4. Compute the mean and standard deviation and plot them as vertical lines on the histogram.\n",
    "\n",
    "5. Evaluate the descriptive statistics against the data."
   ]
  },
  {
   "cell_type": "code",
   "execution_count": 136,
   "metadata": {},
   "outputs": [
    {
     "data": {
      "image/png": "[encoded data removed]",
      "text/plain": [
       "<Figure size 432x288 with 1 Axes>"
      ]
     },
     "metadata": {
      "needs_background": "light"
     },
     "output_type": "display_data"
    }
   ],
   "source": [
    "# 1.\n",
    "mean1, std1 = 5, 0.5\n",
    "mean2, std2 = 10, 1\n",
    "n = 100\n",
    "norm1 = np.random.normal(mean1, std1, n)\n",
    "norm2 = np.random.normal(mean2, std2, n)\n",
    "\n",
    "# 2. add to create new\n",
    "var3 = norm1 + norm2\n",
    "\n",
    "# 3. graph new on histogram\n",
    "plt.hist(var3)\n",
    "\n",
    "# 4. find mean and std, plot\n",
    "mean3 = np.mean(var3)\n",
    "std3 = np.std(var3)\n",
    "plt.axvline(x=mean3,\n",
    "            color='k',\n",
    "            linestyle='solid',\n",
    "            linewidth=1)\n",
    "plt.axvline(x=mean3 + std3,\n",
    "           color='k',\n",
    "            linestyle='dashed',\n",
    "            linewidth=1)\n",
    "plt.axvline(x=mean3 - std3,\n",
    "           color='k',\n",
    "            linestyle='dashed',\n",
    "            linewidth=1)\n",
    "plt.show()"
   ]
  },
  {
   "cell_type": "code",
   "execution_count": null,
   "metadata": {},
   "outputs": [],
   "source": []
  }
 ],
 "metadata": {
  "kernelspec": {
   "display_name": "Python 3",
   "language": "python",
   "name": "python3"
  },
  "language_info": {
   "codemirror_mode": {
    "name": "ipython",
    "version": 3
   },
   "file_extension": ".py",
   "mimetype": "text/x-python",
   "name": "python",
   "nbconvert_exporter": "python",
   "pygments_lexer": "ipython3",
   "version": "3.7.6"
  }
 },
 "nbformat": 4,
 "nbformat_minor": 4
}
