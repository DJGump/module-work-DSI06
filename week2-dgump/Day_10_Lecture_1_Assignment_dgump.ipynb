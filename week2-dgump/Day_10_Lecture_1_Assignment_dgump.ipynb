{
 "cells": [
  {
   "cell_type": "markdown",
   "metadata": {
    "colab_type": "text",
    "id": "j4BXTaq2Z1MZ"
   },
   "source": [
    "# SQL in Python Assignment"
   ]
  },
  {
   "cell_type": "code",
   "execution_count": 3,
   "metadata": {
    "colab": {},
    "colab_type": "code",
    "id": "-0y7sAJFZ1Mb"
   },
   "outputs": [],
   "source": [
    "import pandas as pd\n",
    "from sqlalchemy import create_engine, MetaData, Table"
   ]
  },
  {
   "cell_type": "markdown",
   "metadata": {
    "colab_type": "text",
    "id": "JauBVkEEZ1NT"
   },
   "source": [
    "### Connect to the personal database you created yesterday.\n",
    "Remember the way the credentials work:\n",
    "```\n",
    "user = 'postgres' # Replace with your user, if different\n",
    "pwd = 'pAsSwOrD' # Replace with your password\n",
    "host = 'localhost'\n",
    "port = '5432'\n",
    "db = 'postgres' # Replace with your database name, if different\n",
    "```"
   ]
  },
  {
   "cell_type": "code",
   "execution_count": 11,
   "metadata": {
    "colab": {},
    "colab_type": "code",
    "id": "AUqXsg2nZ1NU"
   },
   "outputs": [],
   "source": [
    "user = 'postgres' # Replace with your user, if different\n",
    "pwd = 'pAsSwOrD' # Replace with your password\n",
    "host = 'localhost'\n",
    "port = '5433'\n",
    "db = 'postgres' # Replace with your database name, if different\n",
    "\n",
    "conn_str = 'postgresql://{}:{}@{}:{}/{}'.format(\n",
    "    user, pwd, host, port, db)\n"
   ]
  },
  {
   "cell_type": "code",
   "execution_count": 12,
   "metadata": {},
   "outputs": [],
   "source": [
    "engine = create_engine(conn_str)"
   ]
  },
  {
   "cell_type": "markdown",
   "metadata": {
    "colab_type": "text",
    "id": "qtCZHZT9Z1NZ"
   },
   "source": [
    "### Obtain a list of tables that are in the database."
   ]
  },
  {
   "cell_type": "code",
   "execution_count": 7,
   "metadata": {
    "colab": {},
    "colab_type": "code",
    "id": "2eBYTPklZ1Na"
   },
   "outputs": [
    {
     "data": {
      "text/plain": [
       "['vehicles', 'houseprices', 'normal_sales']"
      ]
     },
     "execution_count": 7,
     "metadata": {},
     "output_type": "execute_result"
    }
   ],
   "source": [
    "engine.table_names()"
   ]
  },
  {
   "cell_type": "markdown",
   "metadata": {
    "colab_type": "text",
    "id": "V_iAGanZZ1Ne"
   },
   "source": [
    "### Obtain a list of all the fields that are in the vehicles table along with the data type of each."
   ]
  },
  {
   "cell_type": "code",
   "execution_count": 9,
   "metadata": {},
   "outputs": [],
   "source": [
    "meta = MetaData(engine)"
   ]
  },
  {
   "cell_type": "code",
   "execution_count": 10,
   "metadata": {
    "colab": {},
    "colab_type": "code",
    "id": "r-9KdZbJZ1Ne",
    "scrolled": true
   },
   "outputs": [],
   "source": [
    "vehicles = Table(\"vehicles\", meta, autoload=True)"
   ]
  },
  {
   "cell_type": "markdown",
   "metadata": {
    "colab_type": "text",
    "id": "VLd7otVVZ1Nh"
   },
   "source": [
    "### Write a SELECT query to retrieve all records from the database and load them into a Pandas data frame."
   ]
  },
  {
   "cell_type": "code",
   "execution_count": 13,
   "metadata": {
    "colab": {},
    "colab_type": "code",
    "id": "yeV7sCISZ1Ni"
   },
   "outputs": [
    {
     "data": {
      "text/html": [
       "<div>\n",
       "<style scoped>\n",
       "    .dataframe tbody tr th:only-of-type {\n",
       "        vertical-align: middle;\n",
       "    }\n",
       "\n",
       "    .dataframe tbody tr th {\n",
       "        vertical-align: top;\n",
       "    }\n",
       "\n",
       "    .dataframe thead th {\n",
       "        text-align: right;\n",
       "    }\n",
       "</style>\n",
       "<table border=\"1\" class=\"dataframe\">\n",
       "  <thead>\n",
       "    <tr style=\"text-align: right;\">\n",
       "      <th></th>\n",
       "      <th>id</th>\n",
       "      <th>make</th>\n",
       "      <th>model</th>\n",
       "      <th>year</th>\n",
       "      <th>class</th>\n",
       "      <th>trans</th>\n",
       "      <th>drive</th>\n",
       "      <th>cyl</th>\n",
       "      <th>displ</th>\n",
       "      <th>fuel</th>\n",
       "      <th>hwy</th>\n",
       "      <th>cty</th>\n",
       "    </tr>\n",
       "  </thead>\n",
       "  <tbody>\n",
       "    <tr>\n",
       "      <th>0</th>\n",
       "      <td>27550</td>\n",
       "      <td>AM General</td>\n",
       "      <td>DJ Po Vehicle 2WD</td>\n",
       "      <td>1984</td>\n",
       "      <td>Special Purpose Vehicle 2WD</td>\n",
       "      <td>Automatic 3-spd</td>\n",
       "      <td>2-Wheel Drive</td>\n",
       "      <td>4.0</td>\n",
       "      <td>2.5</td>\n",
       "      <td>Regular</td>\n",
       "      <td>17</td>\n",
       "      <td>18</td>\n",
       "    </tr>\n",
       "    <tr>\n",
       "      <th>1</th>\n",
       "      <td>28426</td>\n",
       "      <td>AM General</td>\n",
       "      <td>DJ Po Vehicle 2WD</td>\n",
       "      <td>1984</td>\n",
       "      <td>Special Purpose Vehicle 2WD</td>\n",
       "      <td>Automatic 3-spd</td>\n",
       "      <td>2-Wheel Drive</td>\n",
       "      <td>4.0</td>\n",
       "      <td>2.5</td>\n",
       "      <td>Regular</td>\n",
       "      <td>17</td>\n",
       "      <td>18</td>\n",
       "    </tr>\n",
       "    <tr>\n",
       "      <th>2</th>\n",
       "      <td>27549</td>\n",
       "      <td>AM General</td>\n",
       "      <td>FJ8c Post Office</td>\n",
       "      <td>1984</td>\n",
       "      <td>Special Purpose Vehicle 2WD</td>\n",
       "      <td>Automatic 3-spd</td>\n",
       "      <td>2-Wheel Drive</td>\n",
       "      <td>6.0</td>\n",
       "      <td>4.2</td>\n",
       "      <td>Regular</td>\n",
       "      <td>13</td>\n",
       "      <td>13</td>\n",
       "    </tr>\n",
       "    <tr>\n",
       "      <th>3</th>\n",
       "      <td>28425</td>\n",
       "      <td>AM General</td>\n",
       "      <td>FJ8c Post Office</td>\n",
       "      <td>1984</td>\n",
       "      <td>Special Purpose Vehicle 2WD</td>\n",
       "      <td>Automatic 3-spd</td>\n",
       "      <td>2-Wheel Drive</td>\n",
       "      <td>6.0</td>\n",
       "      <td>4.2</td>\n",
       "      <td>Regular</td>\n",
       "      <td>13</td>\n",
       "      <td>13</td>\n",
       "    </tr>\n",
       "    <tr>\n",
       "      <th>4</th>\n",
       "      <td>1032</td>\n",
       "      <td>AM General</td>\n",
       "      <td>Post Office DJ5 2WD</td>\n",
       "      <td>1985</td>\n",
       "      <td>Special Purpose Vehicle 2WD</td>\n",
       "      <td>Automatic 3-spd</td>\n",
       "      <td>Rear-Wheel Drive</td>\n",
       "      <td>4.0</td>\n",
       "      <td>2.5</td>\n",
       "      <td>Regular</td>\n",
       "      <td>17</td>\n",
       "      <td>16</td>\n",
       "    </tr>\n",
       "  </tbody>\n",
       "</table>\n",
       "</div>"
      ],
      "text/plain": [
       "      id        make                model  year                        class  \\\n",
       "0  27550  AM General    DJ Po Vehicle 2WD  1984  Special Purpose Vehicle 2WD   \n",
       "1  28426  AM General    DJ Po Vehicle 2WD  1984  Special Purpose Vehicle 2WD   \n",
       "2  27549  AM General     FJ8c Post Office  1984  Special Purpose Vehicle 2WD   \n",
       "3  28425  AM General     FJ8c Post Office  1984  Special Purpose Vehicle 2WD   \n",
       "4   1032  AM General  Post Office DJ5 2WD  1985  Special Purpose Vehicle 2WD   \n",
       "\n",
       "             trans             drive  cyl  displ     fuel  hwy  cty  \n",
       "0  Automatic 3-spd     2-Wheel Drive  4.0    2.5  Regular   17   18  \n",
       "1  Automatic 3-spd     2-Wheel Drive  4.0    2.5  Regular   17   18  \n",
       "2  Automatic 3-spd     2-Wheel Drive  6.0    4.2  Regular   13   13  \n",
       "3  Automatic 3-spd     2-Wheel Drive  6.0    4.2  Regular   13   13  \n",
       "4  Automatic 3-spd  Rear-Wheel Drive  4.0    2.5  Regular   17   16  "
      ]
     },
     "execution_count": 13,
     "metadata": {},
     "output_type": "execute_result"
    }
   ],
   "source": [
    "sql = '''\n",
    "SELECT * \n",
    "FROM vehicles\n",
    "'''\n",
    "\n",
    "vehicles = pd.read_sql_query(sql, conn_str)\n",
    "vehicles.head()"
   ]
  },
  {
   "cell_type": "markdown",
   "metadata": {
    "colab_type": "text",
    "id": "4x5xlGP4Z1Nn"
   },
   "source": [
    "### Create a table that contains all Audi vehicles with a city fuel efficiency greater than 18."
   ]
  },
  {
   "cell_type": "code",
   "execution_count": 24,
   "metadata": {
    "colab": {},
    "colab_type": "code",
    "id": "ZHX26MgOZ1No",
    "scrolled": true
   },
   "outputs": [
    {
     "data": {
      "text/plain": [
       "<sqlalchemy.engine.result.ResultProxy at 0x2229cc7d048>"
      ]
     },
     "execution_count": 24,
     "metadata": {},
     "output_type": "execute_result"
    }
   ],
   "source": [
    "create = '''\n",
    "CREATE TABLE IF NOT EXISTS audi_cty_mpg_18 AS\n",
    "SELECT *\n",
    "FROM vehicles\n",
    "WHERE make = 'Audi'\n",
    "    AND cty > 18\n",
    "'''\n",
    "\n",
    "engine.execute(create)"
   ]
  },
  {
   "cell_type": "markdown",
   "metadata": {
    "colab_type": "text",
    "id": "i2i3ifCFZ1Nw"
   },
   "source": [
    "### Delete all records from the temp table you just created."
   ]
  },
  {
   "cell_type": "code",
   "execution_count": 25,
   "metadata": {
    "colab": {},
    "colab_type": "code",
    "id": "HPu_BDc0Z1Nw",
    "scrolled": true
   },
   "outputs": [
    {
     "data": {
      "text/plain": [
       "<sqlalchemy.engine.result.ResultProxy at 0x2229cc7d7c8>"
      ]
     },
     "execution_count": 25,
     "metadata": {},
     "output_type": "execute_result"
    }
   ],
   "source": [
    "delete = 'DELETE FROM audi_cty_mpg_18'\n",
    "\n",
    "engine.execute(delete)"
   ]
  },
  {
   "cell_type": "markdown",
   "metadata": {
    "colab_type": "text",
    "id": "aVCaVGsgZ1Nz"
   },
   "source": [
    "### Insert records from the vehicles table back into the table you created where the make is Audi and the city fuel efficiency is greater than 20."
   ]
  },
  {
   "cell_type": "code",
   "execution_count": 26,
   "metadata": {
    "colab": {},
    "colab_type": "code",
    "id": "_UHDkDEAZ1N0"
   },
   "outputs": [
    {
     "data": {
      "text/plain": [
       "<sqlalchemy.engine.result.ResultProxy at 0x2229cc7d508>"
      ]
     },
     "execution_count": 26,
     "metadata": {},
     "output_type": "execute_result"
    }
   ],
   "source": [
    "insert = '''\n",
    "INSERT INTO audi_cty_mpg_18\n",
    "SELECT * \n",
    "FROM vehicles\n",
    "WHERE make = 'Audi'\n",
    "    AND cty > 20\n",
    "'''\n",
    "\n",
    "engine.execute(insert)"
   ]
  },
  {
   "cell_type": "markdown",
   "metadata": {
    "colab_type": "text",
    "id": "Dp_A2JpjZ1N2"
   },
   "source": [
    "### Update the drive field of the records in the table you created to change any \"4-Wheel or All-Wheel Drive\" values to \"All-Wheel Drive.\""
   ]
  },
  {
   "cell_type": "code",
   "execution_count": 27,
   "metadata": {
    "colab": {},
    "colab_type": "code",
    "id": "1dH09T_vZ1N3"
   },
   "outputs": [
    {
     "data": {
      "text/plain": [
       "<sqlalchemy.engine.result.ResultProxy at 0x2229cc769c8>"
      ]
     },
     "execution_count": 27,
     "metadata": {},
     "output_type": "execute_result"
    }
   ],
   "source": [
    "update = '''\n",
    "UPDATE audi_cty_mpg_18\n",
    "SET drive = 'All-Wheel Drive'\n",
    "WHERE drive = '4-Wheel or All-Wheel Drive'\n",
    "'''\n",
    "engine.execute(update)"
   ]
  },
  {
   "cell_type": "markdown",
   "metadata": {
    "colab_type": "text",
    "id": "xwhxonZGZ1N5"
   },
   "source": [
    "### Write a for loop that iterates over the list of makes provided below, selects the top 10 vehicles with the highest city fuel efficiency for each make, and then concatenates all the results together into a single Pandas data frame."
   ]
  },
  {
   "cell_type": "code",
   "execution_count": 31,
   "metadata": {},
   "outputs": [],
   "source": [
    "vehicles = Table('vehicles', meta, autoload=True, autoload_with=engine)\n",
    "fields = [(c.name, c.type) for c in vehicles.columns]\n",
    "fields_df = pd.DataFrame(fields, columns=['Name', 'Type'])"
   ]
  },
  {
   "cell_type": "code",
   "execution_count": 34,
   "metadata": {
    "colab": {},
    "colab_type": "code",
    "id": "LFwsUF9kZ1N6"
   },
   "outputs": [],
   "source": [
    "makes = ['Ford', 'Chevrolet', 'Toyota', 'Honda']\n",
    "results = []\n",
    "\n",
    "\n",
    "for make in makes:\n",
    "    sql = \"SELECT * FROM vehicles WHERE make = '\" + make + \"'ORDER BY cty DESC LIMIT 10\"\n",
    "          \n",
    "    result = engine.execute(sql)\n",
    "    results.append(pd.DataFrame(result, columns=list(fields_df.Name)))\n",
    "    \n",
    "results_df = pd.concat(results)"
   ]
  },
  {
   "cell_type": "code",
   "execution_count": 36,
   "metadata": {
    "colab": {},
    "colab_type": "code",
    "id": "YBEn8rcgZ1N9"
   },
   "outputs": [
    {
     "name": "stdout",
     "output_type": "stream",
     "text": [
      "<class 'pandas.core.frame.DataFrame'>\n",
      "Int64Index: 40 entries, 0 to 9\n",
      "Data columns (total 12 columns):\n",
      " #   Column  Non-Null Count  Dtype  \n",
      "---  ------  --------------  -----  \n",
      " 0   id      40 non-null     int64  \n",
      " 1   make    40 non-null     object \n",
      " 2   model   40 non-null     object \n",
      " 3   year    40 non-null     int64  \n",
      " 4   class   40 non-null     object \n",
      " 5   trans   36 non-null     object \n",
      " 6   drive   40 non-null     object \n",
      " 7   cyl     21 non-null     float64\n",
      " 8   displ   21 non-null     float64\n",
      " 9   fuel    40 non-null     object \n",
      " 10  hwy     40 non-null     int64  \n",
      " 11  cty     40 non-null     int64  \n",
      "dtypes: float64(2), int64(4), object(6)\n",
      "memory usage: 4.1+ KB\n"
     ]
    }
   ],
   "source": [
    "results_df.info()"
   ]
  },
  {
   "cell_type": "code",
   "execution_count": null,
   "metadata": {},
   "outputs": [],
   "source": []
  }
 ],
 "metadata": {
  "colab": {
   "collapsed_sections": [],
   "name": "Day 10 Lecture 1 Assignment.ipynb",
   "provenance": []
  },
  "kernelspec": {
   "display_name": "Python 3",
   "language": "python",
   "name": "python3"
  },
  "language_info": {
   "codemirror_mode": {
    "name": "ipython",
    "version": 3
   },
   "file_extension": ".py",
   "mimetype": "text/x-python",
   "name": "python",
   "nbconvert_exporter": "python",
   "pygments_lexer": "ipython3",
   "version": "3.7.6"
  }
 },
 "nbformat": 4,
 "nbformat_minor": 1
}
