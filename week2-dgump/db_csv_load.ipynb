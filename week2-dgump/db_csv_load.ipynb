{
 "cells": [
  {
   "cell_type": "code",
   "execution_count": 4,
   "metadata": {},
   "outputs": [],
   "source": [
    "import pandas as pd\n",
    "from sqlalchemy import create_engine\n",
    "\n",
    "user = 'postgres'\n",
    "pwd = 'password' # Replace with your password\n",
    "host = 'localhost'\n",
    "port = '5433'\n",
    "db = 'postgres'\n",
    "\n",
    "engine = create_engine('postgresql://' + user + ':' + pwd + \n",
    "                       '@' + host + ':' + port + '/' + db)\n",
    "\n",
    "vehicles = pd.read_csv('https://tf-assets-prod.s3.amazonaws.com/tf-curric/data-science/vehicles.csv')\n",
    "vehicles.to_sql('vehicles', engine, index=False)\n",
    "\n",
    "houseprices = pd.read_csv('https://tf-assets-prod.s3.amazonaws.com/tf-curric/data-science/houseprices.csv')\n",
    "houseprices.to_sql('houseprices', engine, index=False)"
   ]
  },
  {
   "cell_type": "code",
   "execution_count": null,
   "metadata": {},
   "outputs": [],
   "source": []
  }
 ],
 "metadata": {
  "kernelspec": {
   "display_name": "Python 3",
   "language": "python",
   "name": "python3"
  }
 },
 "nbformat": 4,
 "nbformat_minor": 4
}
