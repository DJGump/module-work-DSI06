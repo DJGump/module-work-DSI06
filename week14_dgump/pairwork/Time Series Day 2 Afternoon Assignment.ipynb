{
 "cells": [
  {
   "cell_type": "markdown",
   "metadata": {
    "colab_type": "text",
    "id": "zUGAqrFLfHFA"
   },
   "source": [
    "# Interactive Time Series Visualization Assignment"
   ]
  },
  {
   "cell_type": "code",
   "execution_count": 3,
   "metadata": {},
   "outputs": [
    {
     "data": {
      "application/javascript": [
       "\n",
       "            setTimeout(function() {\n",
       "                var nbb_cell_id = 3;\n",
       "                var nbb_unformatted_code = \"%reload_ext nb_black\";\n",
       "                var nbb_formatted_code = \"%reload_ext nb_black\";\n",
       "                var nbb_cells = Jupyter.notebook.get_cells();\n",
       "                for (var i = 0; i < nbb_cells.length; ++i) {\n",
       "                    if (nbb_cells[i].input_prompt_number == nbb_cell_id) {\n",
       "                        if (nbb_cells[i].get_text() == nbb_unformatted_code) {\n",
       "                             nbb_cells[i].set_text(nbb_formatted_code);\n",
       "                        }\n",
       "                        break;\n",
       "                    }\n",
       "                }\n",
       "            }, 500);\n",
       "            "
      ],
      "text/plain": [
       "<IPython.core.display.Javascript object>"
      ]
     },
     "metadata": {},
     "output_type": "display_data"
    }
   ],
   "source": [
    "%reload_ext nb_black"
   ]
  },
  {
   "cell_type": "code",
   "execution_count": 4,
   "metadata": {
    "colab": {},
    "colab_type": "code",
    "id": "mWelAIHEfHFE"
   },
   "outputs": [
    {
     "data": {
      "application/javascript": [
       "\n",
       "            setTimeout(function() {\n",
       "                var nbb_cell_id = 4;\n",
       "                var nbb_unformatted_code = \"import pandas as pd\\nimport plotly_express as px\\nfrom ipywidgets import interact\";\n",
       "                var nbb_formatted_code = \"import pandas as pd\\nimport plotly_express as px\\nfrom ipywidgets import interact\";\n",
       "                var nbb_cells = Jupyter.notebook.get_cells();\n",
       "                for (var i = 0; i < nbb_cells.length; ++i) {\n",
       "                    if (nbb_cells[i].input_prompt_number == nbb_cell_id) {\n",
       "                        if (nbb_cells[i].get_text() == nbb_unformatted_code) {\n",
       "                             nbb_cells[i].set_text(nbb_formatted_code);\n",
       "                        }\n",
       "                        break;\n",
       "                    }\n",
       "                }\n",
       "            }, 500);\n",
       "            "
      ],
      "text/plain": [
       "<IPython.core.display.Javascript object>"
      ]
     },
     "metadata": {},
     "output_type": "display_data"
    }
   ],
   "source": [
    "import pandas as pd\n",
    "import plotly_express as px\n",
    "from ipywidgets import interact"
   ]
  },
  {
   "cell_type": "markdown",
   "metadata": {
    "colab_type": "text",
    "id": "h-8X_cNVfHFI"
   },
   "source": [
    "### Load the Online Retail.xlsx Excel file into a Pandas dataframe."
   ]
  },
  {
   "cell_type": "code",
   "execution_count": 6,
   "metadata": {
    "colab": {},
    "colab_type": "code",
    "id": "ssD3f8tNfHFJ"
   },
   "outputs": [
    {
     "data": {
      "application/javascript": [
       "\n",
       "            setTimeout(function() {\n",
       "                var nbb_cell_id = 6;\n",
       "                var nbb_unformatted_code = \"web_df = pd.read_excel(\\\"../data/Online Retail.xlsx\\\")\";\n",
       "                var nbb_formatted_code = \"web_df = pd.read_excel(\\\"../data/Online Retail.xlsx\\\")\";\n",
       "                var nbb_cells = Jupyter.notebook.get_cells();\n",
       "                for (var i = 0; i < nbb_cells.length; ++i) {\n",
       "                    if (nbb_cells[i].input_prompt_number == nbb_cell_id) {\n",
       "                        if (nbb_cells[i].get_text() == nbb_unformatted_code) {\n",
       "                             nbb_cells[i].set_text(nbb_formatted_code);\n",
       "                        }\n",
       "                        break;\n",
       "                    }\n",
       "                }\n",
       "            }, 500);\n",
       "            "
      ],
      "text/plain": [
       "<IPython.core.display.Javascript object>"
      ]
     },
     "metadata": {},
     "output_type": "display_data"
    }
   ],
   "source": [
    "web_df = pd.read_excel(\"../data/Online Retail.xlsx\")"
   ]
  },
  {
   "cell_type": "code",
   "execution_count": 7,
   "metadata": {},
   "outputs": [
    {
     "data": {
      "text/html": [
       "<div>\n",
       "<style scoped>\n",
       "    .dataframe tbody tr th:only-of-type {\n",
       "        vertical-align: middle;\n",
       "    }\n",
       "\n",
       "    .dataframe tbody tr th {\n",
       "        vertical-align: top;\n",
       "    }\n",
       "\n",
       "    .dataframe thead th {\n",
       "        text-align: right;\n",
       "    }\n",
       "</style>\n",
       "<table border=\"1\" class=\"dataframe\">\n",
       "  <thead>\n",
       "    <tr style=\"text-align: right;\">\n",
       "      <th></th>\n",
       "      <th>InvoiceNo</th>\n",
       "      <th>InvoiceDate</th>\n",
       "      <th>StockCode</th>\n",
       "      <th>Description</th>\n",
       "      <th>Quantity</th>\n",
       "      <th>UnitPrice</th>\n",
       "      <th>Revenue</th>\n",
       "      <th>CustomerID</th>\n",
       "      <th>Country</th>\n",
       "    </tr>\n",
       "  </thead>\n",
       "  <tbody>\n",
       "    <tr>\n",
       "      <th>0</th>\n",
       "      <td>536365</td>\n",
       "      <td>2010-12-01 08:26:00</td>\n",
       "      <td>85123A</td>\n",
       "      <td>CREAM HANGING HEART T-LIGHT HOLDER</td>\n",
       "      <td>6</td>\n",
       "      <td>2.55</td>\n",
       "      <td>15.3</td>\n",
       "      <td>17850</td>\n",
       "      <td>United Kingdom</td>\n",
       "    </tr>\n",
       "    <tr>\n",
       "      <th>1</th>\n",
       "      <td>536373</td>\n",
       "      <td>2010-12-01 09:02:00</td>\n",
       "      <td>85123A</td>\n",
       "      <td>CREAM HANGING HEART T-LIGHT HOLDER</td>\n",
       "      <td>6</td>\n",
       "      <td>2.55</td>\n",
       "      <td>15.3</td>\n",
       "      <td>17850</td>\n",
       "      <td>United Kingdom</td>\n",
       "    </tr>\n",
       "    <tr>\n",
       "      <th>2</th>\n",
       "      <td>536375</td>\n",
       "      <td>2010-12-01 09:32:00</td>\n",
       "      <td>85123A</td>\n",
       "      <td>CREAM HANGING HEART T-LIGHT HOLDER</td>\n",
       "      <td>6</td>\n",
       "      <td>2.55</td>\n",
       "      <td>15.3</td>\n",
       "      <td>17850</td>\n",
       "      <td>United Kingdom</td>\n",
       "    </tr>\n",
       "    <tr>\n",
       "      <th>3</th>\n",
       "      <td>536390</td>\n",
       "      <td>2010-12-01 10:19:00</td>\n",
       "      <td>85123A</td>\n",
       "      <td>CREAM HANGING HEART T-LIGHT HOLDER</td>\n",
       "      <td>64</td>\n",
       "      <td>2.55</td>\n",
       "      <td>163.2</td>\n",
       "      <td>17511</td>\n",
       "      <td>United Kingdom</td>\n",
       "    </tr>\n",
       "    <tr>\n",
       "      <th>4</th>\n",
       "      <td>536394</td>\n",
       "      <td>2010-12-01 10:39:00</td>\n",
       "      <td>85123A</td>\n",
       "      <td>CREAM HANGING HEART T-LIGHT HOLDER</td>\n",
       "      <td>32</td>\n",
       "      <td>2.55</td>\n",
       "      <td>81.6</td>\n",
       "      <td>13408</td>\n",
       "      <td>United Kingdom</td>\n",
       "    </tr>\n",
       "  </tbody>\n",
       "</table>\n",
       "</div>"
      ],
      "text/plain": [
       "   InvoiceNo         InvoiceDate StockCode  \\\n",
       "0     536365 2010-12-01 08:26:00    85123A   \n",
       "1     536373 2010-12-01 09:02:00    85123A   \n",
       "2     536375 2010-12-01 09:32:00    85123A   \n",
       "3     536390 2010-12-01 10:19:00    85123A   \n",
       "4     536394 2010-12-01 10:39:00    85123A   \n",
       "\n",
       "                          Description  Quantity  UnitPrice  Revenue  \\\n",
       "0  CREAM HANGING HEART T-LIGHT HOLDER         6       2.55     15.3   \n",
       "1  CREAM HANGING HEART T-LIGHT HOLDER         6       2.55     15.3   \n",
       "2  CREAM HANGING HEART T-LIGHT HOLDER         6       2.55     15.3   \n",
       "3  CREAM HANGING HEART T-LIGHT HOLDER        64       2.55    163.2   \n",
       "4  CREAM HANGING HEART T-LIGHT HOLDER        32       2.55     81.6   \n",
       "\n",
       "   CustomerID         Country  \n",
       "0       17850  United Kingdom  \n",
       "1       17850  United Kingdom  \n",
       "2       17850  United Kingdom  \n",
       "3       17511  United Kingdom  \n",
       "4       13408  United Kingdom  "
      ]
     },
     "execution_count": 7,
     "metadata": {},
     "output_type": "execute_result"
    },
    {
     "data": {
      "application/javascript": [
       "\n",
       "            setTimeout(function() {\n",
       "                var nbb_cell_id = 7;\n",
       "                var nbb_unformatted_code = \"web_df.head()\";\n",
       "                var nbb_formatted_code = \"web_df.head()\";\n",
       "                var nbb_cells = Jupyter.notebook.get_cells();\n",
       "                for (var i = 0; i < nbb_cells.length; ++i) {\n",
       "                    if (nbb_cells[i].input_prompt_number == nbb_cell_id) {\n",
       "                        if (nbb_cells[i].get_text() == nbb_unformatted_code) {\n",
       "                             nbb_cells[i].set_text(nbb_formatted_code);\n",
       "                        }\n",
       "                        break;\n",
       "                    }\n",
       "                }\n",
       "            }, 500);\n",
       "            "
      ],
      "text/plain": [
       "<IPython.core.display.Javascript object>"
      ]
     },
     "metadata": {},
     "output_type": "display_data"
    }
   ],
   "source": [
    "web_df.head()"
   ]
  },
  {
   "cell_type": "code",
   "execution_count": 9,
   "metadata": {},
   "outputs": [
    {
     "data": {
      "application/javascript": [
       "\n",
       "            setTimeout(function() {\n",
       "                var nbb_cell_id = 9;\n",
       "                var nbb_unformatted_code = \"web_df['date'] = pd.to_datetime(web_df['InvoiceDate'])\\n\\nweb_df[\\\"month\\\"] = web_df[\\\"date\\\"].dt.month\\nweb_df[\\\"day_of_month\\\"] = web_df[\\\"date\\\"].dt.day\\nweb_df[\\\"hour\\\"] = web_df[\\\"date\\\"].dt.hour\\nweb_df[\\\"weekday\\\"] = web_df[\\\"date\\\"].dt.weekday\\nweb_df[\\\"year\\\"] = web_df[\\\"date\\\"].dt.year\\nweb_df[\\\"date\\\"] = web_df[\\\"date\\\"].dt.date\";\n",
       "                var nbb_formatted_code = \"web_df[\\\"date\\\"] = pd.to_datetime(web_df[\\\"InvoiceDate\\\"])\\n\\nweb_df[\\\"month\\\"] = web_df[\\\"date\\\"].dt.month\\nweb_df[\\\"day_of_month\\\"] = web_df[\\\"date\\\"].dt.day\\nweb_df[\\\"hour\\\"] = web_df[\\\"date\\\"].dt.hour\\nweb_df[\\\"weekday\\\"] = web_df[\\\"date\\\"].dt.weekday\\nweb_df[\\\"year\\\"] = web_df[\\\"date\\\"].dt.year\\nweb_df[\\\"date\\\"] = web_df[\\\"date\\\"].dt.date\";\n",
       "                var nbb_cells = Jupyter.notebook.get_cells();\n",
       "                for (var i = 0; i < nbb_cells.length; ++i) {\n",
       "                    if (nbb_cells[i].input_prompt_number == nbb_cell_id) {\n",
       "                        if (nbb_cells[i].get_text() == nbb_unformatted_code) {\n",
       "                             nbb_cells[i].set_text(nbb_formatted_code);\n",
       "                        }\n",
       "                        break;\n",
       "                    }\n",
       "                }\n",
       "            }, 500);\n",
       "            "
      ],
      "text/plain": [
       "<IPython.core.display.Javascript object>"
      ]
     },
     "metadata": {},
     "output_type": "display_data"
    }
   ],
   "source": [
    "web_df['date'] = pd.to_datetime(web_df['InvoiceDate'])\n",
    "\n",
    "web_df[\"month\"] = web_df[\"date\"].dt.month\n",
    "web_df[\"day_of_month\"] = web_df[\"date\"].dt.day\n",
    "web_df[\"hour\"] = web_df[\"date\"].dt.hour\n",
    "web_df[\"weekday\"] = web_df[\"date\"].dt.weekday\n",
    "web_df[\"year\"] = web_df[\"date\"].dt.year\n",
    "web_df[\"date\"] = web_df[\"date\"].dt.date\n"
   ]
  },
  {
   "cell_type": "code",
   "execution_count": 11,
   "metadata": {},
   "outputs": [
    {
     "name": "stdout",
     "output_type": "stream",
     "text": [
      "<class 'pandas.core.frame.DataFrame'>\n",
      "RangeIndex: 396034 entries, 0 to 396033\n",
      "Data columns (total 15 columns):\n",
      " #   Column        Non-Null Count   Dtype         \n",
      "---  ------        --------------   -----         \n",
      " 0   InvoiceNo     396034 non-null  int64         \n",
      " 1   InvoiceDate   396034 non-null  datetime64[ns]\n",
      " 2   StockCode     396034 non-null  object        \n",
      " 3   Description   396034 non-null  object        \n",
      " 4   Quantity      396034 non-null  int64         \n",
      " 5   UnitPrice     396034 non-null  float64       \n",
      " 6   Revenue       396034 non-null  float64       \n",
      " 7   CustomerID    396034 non-null  int64         \n",
      " 8   Country       396034 non-null  object        \n",
      " 9   date          396034 non-null  object        \n",
      " 10  month         396034 non-null  int64         \n",
      " 11  day_of_month  396034 non-null  int64         \n",
      " 12  hour          396034 non-null  int64         \n",
      " 13  weekday       396034 non-null  int64         \n",
      " 14  year          396034 non-null  int64         \n",
      "dtypes: datetime64[ns](1), float64(2), int64(8), object(4)\n",
      "memory usage: 45.3+ MB\n"
     ]
    },
    {
     "data": {
      "application/javascript": [
       "\n",
       "            setTimeout(function() {\n",
       "                var nbb_cell_id = 11;\n",
       "                var nbb_unformatted_code = \"web_df.info()\";\n",
       "                var nbb_formatted_code = \"web_df.info()\";\n",
       "                var nbb_cells = Jupyter.notebook.get_cells();\n",
       "                for (var i = 0; i < nbb_cells.length; ++i) {\n",
       "                    if (nbb_cells[i].input_prompt_number == nbb_cell_id) {\n",
       "                        if (nbb_cells[i].get_text() == nbb_unformatted_code) {\n",
       "                             nbb_cells[i].set_text(nbb_formatted_code);\n",
       "                        }\n",
       "                        break;\n",
       "                    }\n",
       "                }\n",
       "            }, 500);\n",
       "            "
      ],
      "text/plain": [
       "<IPython.core.display.Javascript object>"
      ]
     },
     "metadata": {},
     "output_type": "display_data"
    }
   ],
   "source": [
    "web_df.info()"
   ]
  },
  {
   "cell_type": "code",
   "execution_count": null,
   "metadata": {},
   "outputs": [],
   "source": []
  },
  {
   "cell_type": "code",
   "execution_count": null,
   "metadata": {},
   "outputs": [],
   "source": []
  },
  {
   "cell_type": "code",
   "execution_count": null,
   "metadata": {},
   "outputs": [],
   "source": []
  },
  {
   "cell_type": "markdown",
   "metadata": {
    "colab_type": "text",
    "id": "dqk9efG-fHFN"
   },
   "source": [
    "### Create an interactive histogram to explore the distributions of daily (by date) Quantity, UnitPrice, and Revenue. Include a dropdown widget where you can switch between the three fields.\n",
    "\n",
    "**Hint:** You will need to create a Date field and then aggregate on it. The Quantity and Revenue fields should be summed and the UnitPrice field should be averaged (mean)."
   ]
  },
  {
   "cell_type": "code",
   "execution_count": 17,
   "metadata": {
    "colab": {},
    "colab_type": "code",
    "id": "THi55esyfHFO"
   },
   "outputs": [
    {
     "data": {
      "application/javascript": [
       "\n",
       "            setTimeout(function() {\n",
       "                var nbb_cell_id = 17;\n",
       "                var nbb_unformatted_code = \"quant_rev_up = web_df.groupby(\\\"date\\\").agg(\\n    {\\\"Quantity\\\": \\\"sum\\\", \\\"Revenue\\\": \\\"sum\\\", \\\"UnitPrice\\\": \\\"mean\\\"}\\n).reset_index()\";\n",
       "                var nbb_formatted_code = \"quant_rev_up = (\\n    web_df.groupby(\\\"date\\\")\\n    .agg({\\\"Quantity\\\": \\\"sum\\\", \\\"Revenue\\\": \\\"sum\\\", \\\"UnitPrice\\\": \\\"mean\\\"})\\n    .reset_index()\\n)\";\n",
       "                var nbb_cells = Jupyter.notebook.get_cells();\n",
       "                for (var i = 0; i < nbb_cells.length; ++i) {\n",
       "                    if (nbb_cells[i].input_prompt_number == nbb_cell_id) {\n",
       "                        if (nbb_cells[i].get_text() == nbb_unformatted_code) {\n",
       "                             nbb_cells[i].set_text(nbb_formatted_code);\n",
       "                        }\n",
       "                        break;\n",
       "                    }\n",
       "                }\n",
       "            }, 500);\n",
       "            "
      ],
      "text/plain": [
       "<IPython.core.display.Javascript object>"
      ]
     },
     "metadata": {},
     "output_type": "display_data"
    }
   ],
   "source": [
    "quant_rev_up = (\n",
    "    web_df.groupby(\"date\")\n",
    "    .agg({\"Quantity\": \"sum\", \"Revenue\": \"sum\", \"UnitPrice\": \"mean\"})\n",
    "    .reset_index()\n",
    ")\n"
   ]
  },
  {
   "cell_type": "code",
   "execution_count": 29,
   "metadata": {
    "scrolled": false
   },
   "outputs": [
    {
     "data": {
      "application/vnd.jupyter.widget-view+json": {
       "model_id": "65bde51482484c04996c6d8966731aea",
       "version_major": 2,
       "version_minor": 0
      },
      "text/plain": [
       "interactive(children=(Dropdown(description='field', options=('Quantity', 'UnitPrice', 'Revenue'), value='Quant…"
      ]
     },
     "metadata": {},
     "output_type": "display_data"
    },
    {
     "data": {
      "application/javascript": [
       "\n",
       "            setTimeout(function() {\n",
       "                var nbb_cell_id = 29;\n",
       "                var nbb_unformatted_code = \"fields = [\\\"Quantity\\\", \\\"UnitPrice\\\", \\\"Revenue\\\"]\\n\\n\\n@interact(field=fields)\\ndef histogram(field):\\n    if field == 'Quantity' or field == 'Revenue':\\n        df = web_df.groupby(\\\"date\\\").agg({field: \\\"sum\\\"}).reset_index()\\n    elif field =='UnitPrice':\\n        df = web_df.groupby(\\\"date\\\").agg({field: \\\"mean\\\"}).reset_index()\\n    fig = px.histogram(df, x=\\\"date\\\", y=field)\\n    fig.update_traces(marker_line_color=\\\"black\\\", marker_line_width=1)\\n    fig.show()\";\n",
       "                var nbb_formatted_code = \"fields = [\\\"Quantity\\\", \\\"UnitPrice\\\", \\\"Revenue\\\"]\\n\\n\\n@interact(field=fields)\\ndef histogram(field):\\n    if field == \\\"Quantity\\\" or field == \\\"Revenue\\\":\\n        df = web_df.groupby(\\\"date\\\").agg({field: \\\"sum\\\"}).reset_index()\\n    elif field == \\\"UnitPrice\\\":\\n        df = web_df.groupby(\\\"date\\\").agg({field: \\\"mean\\\"}).reset_index()\\n    fig = px.histogram(df, x=\\\"date\\\", y=field)\\n    fig.update_traces(marker_line_color=\\\"black\\\", marker_line_width=1)\\n    fig.show()\";\n",
       "                var nbb_cells = Jupyter.notebook.get_cells();\n",
       "                for (var i = 0; i < nbb_cells.length; ++i) {\n",
       "                    if (nbb_cells[i].input_prompt_number == nbb_cell_id) {\n",
       "                        if (nbb_cells[i].get_text() == nbb_unformatted_code) {\n",
       "                             nbb_cells[i].set_text(nbb_formatted_code);\n",
       "                        }\n",
       "                        break;\n",
       "                    }\n",
       "                }\n",
       "            }, 500);\n",
       "            "
      ],
      "text/plain": [
       "<IPython.core.display.Javascript object>"
      ]
     },
     "metadata": {},
     "output_type": "display_data"
    }
   ],
   "source": [
    "fields = [\"Quantity\", \"UnitPrice\", \"Revenue\"]\n",
    "\n",
    "\n",
    "@interact(field=fields)\n",
    "def histogram(field):\n",
    "    if field == \"Quantity\" or field == \"Revenue\":\n",
    "        df = web_df.groupby(\"date\").agg({field: \"sum\"}).reset_index()\n",
    "    elif field == \"UnitPrice\":\n",
    "        df = web_df.groupby(\"date\").agg({field: \"mean\"}).reset_index()\n",
    "    fig = px.histogram(df, x=\"date\", y=field)\n",
    "    fig.update_traces(marker_line_color=\"black\", marker_line_width=1)\n",
    "    fig.show()"
   ]
  },
  {
   "cell_type": "markdown",
   "metadata": {
    "colab_type": "text",
    "id": "LalZadscfHFR"
   },
   "source": [
    "### Create an interactive line chart where you can explore Quantity and Revenue by day (date) for each country. Include two dropdown widgets - one to choose between the Quantity and Revenue fields and the other to choose the Country."
   ]
  },
  {
   "cell_type": "code",
   "execution_count": 40,
   "metadata": {
    "colab": {},
    "colab_type": "code",
    "id": "6JSMmEhPfHFS",
    "scrolled": false
   },
   "outputs": [
    {
     "data": {
      "application/vnd.jupyter.widget-view+json": {
       "model_id": "8a078216b7de4c83b1a0812586d01cd1",
       "version_major": 2,
       "version_minor": 0
      },
      "text/plain": [
       "interactive(children=(Dropdown(description='country', options=('Australia', 'Austria', 'Bahrain', 'Belgium', '…"
      ]
     },
     "metadata": {},
     "output_type": "display_data"
    },
    {
     "data": {
      "application/javascript": [
       "\n",
       "            setTimeout(function() {\n",
       "                var nbb_cell_id = 40;\n",
       "                var nbb_unformatted_code = \"countries_list = sorted(web_df[\\\"Country\\\"].unique())\\nfields = [\\\"Quantity\\\", \\\"Revenue\\\"]\\n\\n\\n@interact(country=countries_list, field=fields)\\ndef linechart(country, field):\\n    df = web_df[web_df[\\\"Country\\\"] == country]\\n    df = df.groupby(\\\"date\\\").agg({field: \\\"sum\\\"}).reset_index()\\n\\n    fig = px.line(data_frame=df, x=\\\"date\\\", y=field)\\n    fig.show()\";\n",
       "                var nbb_formatted_code = \"countries_list = sorted(web_df[\\\"Country\\\"].unique())\\nfields = [\\\"Quantity\\\", \\\"Revenue\\\"]\\n\\n\\n@interact(country=countries_list, field=fields)\\ndef linechart(country, field):\\n    df = web_df[web_df[\\\"Country\\\"] == country]\\n    df = df.groupby(\\\"date\\\").agg({field: \\\"sum\\\"}).reset_index()\\n\\n    fig = px.line(data_frame=df, x=\\\"date\\\", y=field)\\n    fig.show()\";\n",
       "                var nbb_cells = Jupyter.notebook.get_cells();\n",
       "                for (var i = 0; i < nbb_cells.length; ++i) {\n",
       "                    if (nbb_cells[i].input_prompt_number == nbb_cell_id) {\n",
       "                        if (nbb_cells[i].get_text() == nbb_unformatted_code) {\n",
       "                             nbb_cells[i].set_text(nbb_formatted_code);\n",
       "                        }\n",
       "                        break;\n",
       "                    }\n",
       "                }\n",
       "            }, 500);\n",
       "            "
      ],
      "text/plain": [
       "<IPython.core.display.Javascript object>"
      ]
     },
     "metadata": {},
     "output_type": "display_data"
    }
   ],
   "source": [
    "countries_list = sorted(web_df[\"Country\"].unique())\n",
    "fields = [\"Quantity\", \"Revenue\"]\n",
    "\n",
    "\n",
    "@interact(country=countries_list, field=fields)\n",
    "def linechart(country, field):\n",
    "    df = web_df[web_df[\"Country\"] == country]\n",
    "    df = df.groupby(\"date\").agg({field: \"sum\"}).reset_index()\n",
    "\n",
    "    fig = px.line(data_frame=df, x=\"date\", y=field)\n",
    "    fig.show()"
   ]
  },
  {
   "cell_type": "code",
   "execution_count": null,
   "metadata": {},
   "outputs": [],
   "source": []
  },
  {
   "cell_type": "markdown",
   "metadata": {
    "colab_type": "text",
    "id": "2HGyfA4rfHFV"
   },
   "source": [
    "### Create an interactive scatter plot showing the relationships between daily Quantity, UnitPrice, and Revenue for the United Kingdom. Include two dropdown boxes that let you choose between the 3 fields - one for the x axis and one for the y axis of your scatter plot. Size the data points according to Revenue."
   ]
  },
  {
   "cell_type": "code",
   "execution_count": 49,
   "metadata": {
    "colab": {},
    "colab_type": "code",
    "id": "b8vu_sXifHFX"
   },
   "outputs": [
    {
     "data": {
      "application/vnd.jupyter.widget-view+json": {
       "model_id": "6d944fe6824e4c299e2d61322381d37b",
       "version_major": 2,
       "version_minor": 0
      },
      "text/plain": [
       "interactive(children=(Dropdown(description='x_field', options=('Quantity', 'UnitPrice', 'Revenue'), value='Qua…"
      ]
     },
     "metadata": {},
     "output_type": "display_data"
    },
    {
     "data": {
      "application/javascript": [
       "\n",
       "            setTimeout(function() {\n",
       "                var nbb_cell_id = 49;\n",
       "                var nbb_unformatted_code = \"fields = [\\\"Quantity\\\", \\\"UnitPrice\\\", \\\"Revenue\\\"]\\ndf = web_df[web_df[\\\"Country\\\"] == \\\"United Kingdom\\\"]\\n# df = df.groupby(\\\"date\\\").agg({field: \\\"sum\\\"}).reset_index()\\n\\n\\n@interact(x_field=fields, y_field=fields)\\ndef inscatter(x_field, y_field):\\n    df = web_df.groupby(\\\"date\\\").agg({'Quantity': \\\"sum\\\", 'Revenue': \\\"sum\\\", 'UnitPrice': \\\"mean\\\"}).reset_index()\\n    fig = px.scatter(data_frame=df, x=x_field, y=y_field, size=\\\"Revenue\\\")\\n    fig.show()\";\n",
       "                var nbb_formatted_code = \"fields = [\\\"Quantity\\\", \\\"UnitPrice\\\", \\\"Revenue\\\"]\\ndf = web_df[web_df[\\\"Country\\\"] == \\\"United Kingdom\\\"]\\n# df = df.groupby(\\\"date\\\").agg({field: \\\"sum\\\"}).reset_index()\\n\\n\\n@interact(x_field=fields, y_field=fields)\\ndef inscatter(x_field, y_field):\\n    df = (\\n        web_df.groupby(\\\"date\\\")\\n        .agg({\\\"Quantity\\\": \\\"sum\\\", \\\"Revenue\\\": \\\"sum\\\", \\\"UnitPrice\\\": \\\"mean\\\"})\\n        .reset_index()\\n    )\\n    fig = px.scatter(data_frame=df, x=x_field, y=y_field, size=\\\"Revenue\\\")\\n    fig.show()\";\n",
       "                var nbb_cells = Jupyter.notebook.get_cells();\n",
       "                for (var i = 0; i < nbb_cells.length; ++i) {\n",
       "                    if (nbb_cells[i].input_prompt_number == nbb_cell_id) {\n",
       "                        if (nbb_cells[i].get_text() == nbb_unformatted_code) {\n",
       "                             nbb_cells[i].set_text(nbb_formatted_code);\n",
       "                        }\n",
       "                        break;\n",
       "                    }\n",
       "                }\n",
       "            }, 500);\n",
       "            "
      ],
      "text/plain": [
       "<IPython.core.display.Javascript object>"
      ]
     },
     "metadata": {},
     "output_type": "display_data"
    }
   ],
   "source": [
    "fields = [\"Quantity\", \"UnitPrice\", \"Revenue\"]\n",
    "df = web_df[web_df[\"Country\"] == \"United Kingdom\"]\n",
    "# df = df.groupby(\"date\").agg({field: \"sum\"}).reset_index()\n",
    "\n",
    "\n",
    "@interact(x_field=fields, y_field=fields)\n",
    "def inscatter(x_field, y_field):\n",
    "    df = (\n",
    "        web_df.groupby(\"date\")\n",
    "        .agg({\"Quantity\": \"sum\", \"Revenue\": \"sum\", \"UnitPrice\": \"mean\"})\n",
    "        .reset_index()\n",
    "    )\n",
    "    fig = px.scatter(data_frame=df, x=x_field, y=y_field, size=\"Revenue\")\n",
    "    fig.show()"
   ]
  },
  {
   "cell_type": "markdown",
   "metadata": {
    "colab_type": "text",
    "id": "KYMEsgb7fHFb"
   },
   "source": [
    "### Create a bar chart showing the top X products sold (by quantity) in the United Kingdom in a specific month. Use a dropdown box to select the month name and a slider to show the top X products. The range for X should be from 5 to 25. Make sure the bars are sorted in descending order according to their total quantity sold for the month.\n",
    "\n",
    "Bonus points if you can figure out how to ensure that the month names in the dropdown appear in their correct order (January, February, March, April, etc.)."
   ]
  },
  {
   "cell_type": "code",
   "execution_count": 86,
   "metadata": {
    "colab": {},
    "colab_type": "code",
    "id": "0Gi_s3lRfHFc"
   },
   "outputs": [
    {
     "data": {
      "application/vnd.jupyter.widget-view+json": {
       "model_id": "fd87eb651f8741628c3d5e7f63a48a7c",
       "version_major": 2,
       "version_minor": 0
      },
      "text/plain": [
       "interactive(children=(IntSlider(value=15, description='num_products', max=25, min=5), Dropdown(description='mo…"
      ]
     },
     "metadata": {},
     "output_type": "display_data"
    },
    {
     "data": {
      "application/javascript": [
       "\n",
       "            setTimeout(function() {\n",
       "                var nbb_cell_id = 86;\n",
       "                var nbb_unformatted_code = \"months = sorted(web_df[\\\"InvoiceDate\\\"].dt.month.unique())\\nweb_df[\\\"month_name\\\"] = web_df[\\\"InvoiceDate\\\"].dt.month_name()\\n\\n\\n@interact(num_products=(5, 25), month=months)\\ndef barchart(num_products, month):\\n    df = web_df[web_df[\\\"Country\\\"] == \\\"United Kingdom\\\"]\\n    df = df.groupby([\\\"month\\\", \\\"StockCode\\\"]).agg({\\\"Quantity\\\": \\\"sum\\\"}).reset_index()\\n    df = (\\n        df[df[\\\"month\\\"] == month][[\\\"StockCode\\\", \\\"Quantity\\\"]]\\n        .sort_values(by=\\\"Quantity\\\", ascending=False)\\n        .head(num_products)\\n    )\\n\\n    fig = px.histogram(df, x=\\\"StockCode\\\", y=\\\"Quantity\\\")\\n    fig.show()\";\n",
       "                var nbb_formatted_code = \"months = sorted(web_df[\\\"InvoiceDate\\\"].dt.month.unique())\\nweb_df[\\\"month_name\\\"] = web_df[\\\"InvoiceDate\\\"].dt.month_name()\\n\\n\\n@interact(num_products=(5, 25), month=months)\\ndef barchart(num_products, month):\\n    df = web_df[web_df[\\\"Country\\\"] == \\\"United Kingdom\\\"]\\n    df = df.groupby([\\\"month\\\", \\\"StockCode\\\"]).agg({\\\"Quantity\\\": \\\"sum\\\"}).reset_index()\\n    df = (\\n        df[df[\\\"month\\\"] == month][[\\\"StockCode\\\", \\\"Quantity\\\"]]\\n        .sort_values(by=\\\"Quantity\\\", ascending=False)\\n        .head(num_products)\\n    )\\n\\n    fig = px.histogram(df, x=\\\"StockCode\\\", y=\\\"Quantity\\\")\\n    fig.show()\";\n",
       "                var nbb_cells = Jupyter.notebook.get_cells();\n",
       "                for (var i = 0; i < nbb_cells.length; ++i) {\n",
       "                    if (nbb_cells[i].input_prompt_number == nbb_cell_id) {\n",
       "                        if (nbb_cells[i].get_text() == nbb_unformatted_code) {\n",
       "                             nbb_cells[i].set_text(nbb_formatted_code);\n",
       "                        }\n",
       "                        break;\n",
       "                    }\n",
       "                }\n",
       "            }, 500);\n",
       "            "
      ],
      "text/plain": [
       "<IPython.core.display.Javascript object>"
      ]
     },
     "metadata": {},
     "output_type": "display_data"
    }
   ],
   "source": [
    "months = sorted(web_df[\"InvoiceDate\"].dt.month.unique())\n",
    "web_df[\"month_name\"] = web_df[\"InvoiceDate\"].dt.month_name()\n",
    "\n",
    "\n",
    "@interact(num_products=(5, 25), month=months)\n",
    "def barchart(num_products, month):\n",
    "    df = web_df[web_df[\"Country\"] == \"United Kingdom\"]\n",
    "    df = df.groupby([\"month\", \"StockCode\"]).agg({\"Quantity\": \"sum\"}).reset_index()\n",
    "    df = (\n",
    "        df[df[\"month\"] == month][[\"StockCode\", \"Quantity\"]]\n",
    "        .sort_values(by=\"Quantity\", ascending=False)\n",
    "        .head(num_products)\n",
    "    )\n",
    "\n",
    "    fig = px.histogram(df, x=\"StockCode\", y=\"Quantity\")\n",
    "    fig.show()"
   ]
  },
  {
   "cell_type": "code",
   "execution_count": 66,
   "metadata": {},
   "outputs": [
    {
     "data": {
      "text/html": [
       "<div>\n",
       "<style scoped>\n",
       "    .dataframe tbody tr th:only-of-type {\n",
       "        vertical-align: middle;\n",
       "    }\n",
       "\n",
       "    .dataframe tbody tr th {\n",
       "        vertical-align: top;\n",
       "    }\n",
       "\n",
       "    .dataframe thead th {\n",
       "        text-align: right;\n",
       "    }\n",
       "</style>\n",
       "<table border=\"1\" class=\"dataframe\">\n",
       "  <thead>\n",
       "    <tr style=\"text-align: right;\">\n",
       "      <th></th>\n",
       "      <th>InvoiceNo</th>\n",
       "      <th>InvoiceDate</th>\n",
       "      <th>StockCode</th>\n",
       "      <th>Description</th>\n",
       "      <th>Quantity</th>\n",
       "      <th>UnitPrice</th>\n",
       "      <th>Revenue</th>\n",
       "      <th>CustomerID</th>\n",
       "      <th>Country</th>\n",
       "      <th>date</th>\n",
       "      <th>month</th>\n",
       "      <th>day_of_month</th>\n",
       "      <th>hour</th>\n",
       "      <th>weekday</th>\n",
       "      <th>year</th>\n",
       "      <th>month_name</th>\n",
       "    </tr>\n",
       "  </thead>\n",
       "  <tbody>\n",
       "    <tr>\n",
       "      <th>0</th>\n",
       "      <td>536365</td>\n",
       "      <td>2010-12-01 08:26:00</td>\n",
       "      <td>85123A</td>\n",
       "      <td>CREAM HANGING HEART T-LIGHT HOLDER</td>\n",
       "      <td>6</td>\n",
       "      <td>2.55</td>\n",
       "      <td>15.3</td>\n",
       "      <td>17850</td>\n",
       "      <td>United Kingdom</td>\n",
       "      <td>2010-12-01</td>\n",
       "      <td>12</td>\n",
       "      <td>1</td>\n",
       "      <td>8</td>\n",
       "      <td>2</td>\n",
       "      <td>2010</td>\n",
       "      <td>December</td>\n",
       "    </tr>\n",
       "    <tr>\n",
       "      <th>1</th>\n",
       "      <td>536373</td>\n",
       "      <td>2010-12-01 09:02:00</td>\n",
       "      <td>85123A</td>\n",
       "      <td>CREAM HANGING HEART T-LIGHT HOLDER</td>\n",
       "      <td>6</td>\n",
       "      <td>2.55</td>\n",
       "      <td>15.3</td>\n",
       "      <td>17850</td>\n",
       "      <td>United Kingdom</td>\n",
       "      <td>2010-12-01</td>\n",
       "      <td>12</td>\n",
       "      <td>1</td>\n",
       "      <td>9</td>\n",
       "      <td>2</td>\n",
       "      <td>2010</td>\n",
       "      <td>December</td>\n",
       "    </tr>\n",
       "    <tr>\n",
       "      <th>2</th>\n",
       "      <td>536375</td>\n",
       "      <td>2010-12-01 09:32:00</td>\n",
       "      <td>85123A</td>\n",
       "      <td>CREAM HANGING HEART T-LIGHT HOLDER</td>\n",
       "      <td>6</td>\n",
       "      <td>2.55</td>\n",
       "      <td>15.3</td>\n",
       "      <td>17850</td>\n",
       "      <td>United Kingdom</td>\n",
       "      <td>2010-12-01</td>\n",
       "      <td>12</td>\n",
       "      <td>1</td>\n",
       "      <td>9</td>\n",
       "      <td>2</td>\n",
       "      <td>2010</td>\n",
       "      <td>December</td>\n",
       "    </tr>\n",
       "    <tr>\n",
       "      <th>3</th>\n",
       "      <td>536390</td>\n",
       "      <td>2010-12-01 10:19:00</td>\n",
       "      <td>85123A</td>\n",
       "      <td>CREAM HANGING HEART T-LIGHT HOLDER</td>\n",
       "      <td>64</td>\n",
       "      <td>2.55</td>\n",
       "      <td>163.2</td>\n",
       "      <td>17511</td>\n",
       "      <td>United Kingdom</td>\n",
       "      <td>2010-12-01</td>\n",
       "      <td>12</td>\n",
       "      <td>1</td>\n",
       "      <td>10</td>\n",
       "      <td>2</td>\n",
       "      <td>2010</td>\n",
       "      <td>December</td>\n",
       "    </tr>\n",
       "    <tr>\n",
       "      <th>4</th>\n",
       "      <td>536394</td>\n",
       "      <td>2010-12-01 10:39:00</td>\n",
       "      <td>85123A</td>\n",
       "      <td>CREAM HANGING HEART T-LIGHT HOLDER</td>\n",
       "      <td>32</td>\n",
       "      <td>2.55</td>\n",
       "      <td>81.6</td>\n",
       "      <td>13408</td>\n",
       "      <td>United Kingdom</td>\n",
       "      <td>2010-12-01</td>\n",
       "      <td>12</td>\n",
       "      <td>1</td>\n",
       "      <td>10</td>\n",
       "      <td>2</td>\n",
       "      <td>2010</td>\n",
       "      <td>December</td>\n",
       "    </tr>\n",
       "  </tbody>\n",
       "</table>\n",
       "</div>"
      ],
      "text/plain": [
       "   InvoiceNo         InvoiceDate StockCode  \\\n",
       "0     536365 2010-12-01 08:26:00    85123A   \n",
       "1     536373 2010-12-01 09:02:00    85123A   \n",
       "2     536375 2010-12-01 09:32:00    85123A   \n",
       "3     536390 2010-12-01 10:19:00    85123A   \n",
       "4     536394 2010-12-01 10:39:00    85123A   \n",
       "\n",
       "                          Description  Quantity  UnitPrice  Revenue  \\\n",
       "0  CREAM HANGING HEART T-LIGHT HOLDER         6       2.55     15.3   \n",
       "1  CREAM HANGING HEART T-LIGHT HOLDER         6       2.55     15.3   \n",
       "2  CREAM HANGING HEART T-LIGHT HOLDER         6       2.55     15.3   \n",
       "3  CREAM HANGING HEART T-LIGHT HOLDER        64       2.55    163.2   \n",
       "4  CREAM HANGING HEART T-LIGHT HOLDER        32       2.55     81.6   \n",
       "\n",
       "   CustomerID         Country        date  month  day_of_month  hour  weekday  \\\n",
       "0       17850  United Kingdom  2010-12-01     12             1     8        2   \n",
       "1       17850  United Kingdom  2010-12-01     12             1     9        2   \n",
       "2       17850  United Kingdom  2010-12-01     12             1     9        2   \n",
       "3       17511  United Kingdom  2010-12-01     12             1    10        2   \n",
       "4       13408  United Kingdom  2010-12-01     12             1    10        2   \n",
       "\n",
       "   year month_name  \n",
       "0  2010   December  \n",
       "1  2010   December  \n",
       "2  2010   December  \n",
       "3  2010   December  \n",
       "4  2010   December  "
      ]
     },
     "execution_count": 66,
     "metadata": {},
     "output_type": "execute_result"
    },
    {
     "data": {
      "application/javascript": [
       "\n",
       "            setTimeout(function() {\n",
       "                var nbb_cell_id = 66;\n",
       "                var nbb_unformatted_code = \"web_df.head()\";\n",
       "                var nbb_formatted_code = \"web_df.head()\";\n",
       "                var nbb_cells = Jupyter.notebook.get_cells();\n",
       "                for (var i = 0; i < nbb_cells.length; ++i) {\n",
       "                    if (nbb_cells[i].input_prompt_number == nbb_cell_id) {\n",
       "                        if (nbb_cells[i].get_text() == nbb_unformatted_code) {\n",
       "                             nbb_cells[i].set_text(nbb_formatted_code);\n",
       "                        }\n",
       "                        break;\n",
       "                    }\n",
       "                }\n",
       "            }, 500);\n",
       "            "
      ],
      "text/plain": [
       "<IPython.core.display.Javascript object>"
      ]
     },
     "metadata": {},
     "output_type": "display_data"
    }
   ],
   "source": [
    "web_df.head()"
   ]
  },
  {
   "cell_type": "code",
   "execution_count": 81,
   "metadata": {},
   "outputs": [
    {
     "data": {
      "text/html": [
       "<div>\n",
       "<style scoped>\n",
       "    .dataframe tbody tr th:only-of-type {\n",
       "        vertical-align: middle;\n",
       "    }\n",
       "\n",
       "    .dataframe tbody tr th {\n",
       "        vertical-align: top;\n",
       "    }\n",
       "\n",
       "    .dataframe thead th {\n",
       "        text-align: right;\n",
       "    }\n",
       "</style>\n",
       "<table border=\"1\" class=\"dataframe\">\n",
       "  <thead>\n",
       "    <tr style=\"text-align: right;\">\n",
       "      <th></th>\n",
       "      <th>StockCode</th>\n",
       "      <th>Quantity</th>\n",
       "    </tr>\n",
       "  </thead>\n",
       "  <tbody>\n",
       "    <tr>\n",
       "      <th>2030</th>\n",
       "      <td>85123A</td>\n",
       "      <td>5467</td>\n",
       "    </tr>\n",
       "    <tr>\n",
       "      <th>262</th>\n",
       "      <td>21212</td>\n",
       "      <td>3329</td>\n",
       "    </tr>\n",
       "    <tr>\n",
       "      <th>205</th>\n",
       "      <td>21108</td>\n",
       "      <td>3240</td>\n",
       "    </tr>\n",
       "    <tr>\n",
       "      <th>21</th>\n",
       "      <td>17003</td>\n",
       "      <td>3174</td>\n",
       "    </tr>\n",
       "    <tr>\n",
       "      <th>1031</th>\n",
       "      <td>22469</td>\n",
       "      <td>2830</td>\n",
       "    </tr>\n",
       "    <tr>\n",
       "      <th>...</th>\n",
       "      <td>...</td>\n",
       "      <td>...</td>\n",
       "    </tr>\n",
       "    <tr>\n",
       "      <th>518</th>\n",
       "      <td>21711</td>\n",
       "      <td>1</td>\n",
       "    </tr>\n",
       "    <tr>\n",
       "      <th>1640</th>\n",
       "      <td>84974</td>\n",
       "      <td>1</td>\n",
       "    </tr>\n",
       "    <tr>\n",
       "      <th>1647</th>\n",
       "      <td>85006</td>\n",
       "      <td>1</td>\n",
       "    </tr>\n",
       "    <tr>\n",
       "      <th>1834</th>\n",
       "      <td>72801G</td>\n",
       "      <td>1</td>\n",
       "    </tr>\n",
       "    <tr>\n",
       "      <th>2115</th>\n",
       "      <td>90214R</td>\n",
       "      <td>1</td>\n",
       "    </tr>\n",
       "  </tbody>\n",
       "</table>\n",
       "<p>2116 rows × 2 columns</p>\n",
       "</div>"
      ],
      "text/plain": [
       "     StockCode  Quantity\n",
       "2030    85123A      5467\n",
       "262      21212      3329\n",
       "205      21108      3240\n",
       "21       17003      3174\n",
       "1031     22469      2830\n",
       "...        ...       ...\n",
       "518      21711         1\n",
       "1640     84974         1\n",
       "1647     85006         1\n",
       "1834    72801G         1\n",
       "2115    90214R         1\n",
       "\n",
       "[2116 rows x 2 columns]"
      ]
     },
     "execution_count": 81,
     "metadata": {},
     "output_type": "execute_result"
    },
    {
     "data": {
      "application/javascript": [
       "\n",
       "            setTimeout(function() {\n",
       "                var nbb_cell_id = 81;\n",
       "                var nbb_unformatted_code = \"df = web_df.groupby([\\\"month\\\", \\\"StockCode\\\"]).agg({\\\"Quantity\\\": \\\"sum\\\"}).reset_index()\\ndf = df[df[\\\"month\\\"] == 1][[\\\"StockCode\\\", \\\"Quantity\\\"]].sort_values(by='Quantity', ascending=False)\\ndf\\n# df[\\\"Quantity\\\"].sort_values(ascending=False)\";\n",
       "                var nbb_formatted_code = \"df = web_df.groupby([\\\"month\\\", \\\"StockCode\\\"]).agg({\\\"Quantity\\\": \\\"sum\\\"}).reset_index()\\ndf = df[df[\\\"month\\\"] == 1][[\\\"StockCode\\\", \\\"Quantity\\\"]].sort_values(\\n    by=\\\"Quantity\\\", ascending=False\\n)\\ndf\\n# df[\\\"Quantity\\\"].sort_values(ascending=False)\";\n",
       "                var nbb_cells = Jupyter.notebook.get_cells();\n",
       "                for (var i = 0; i < nbb_cells.length; ++i) {\n",
       "                    if (nbb_cells[i].input_prompt_number == nbb_cell_id) {\n",
       "                        if (nbb_cells[i].get_text() == nbb_unformatted_code) {\n",
       "                             nbb_cells[i].set_text(nbb_formatted_code);\n",
       "                        }\n",
       "                        break;\n",
       "                    }\n",
       "                }\n",
       "            }, 500);\n",
       "            "
      ],
      "text/plain": [
       "<IPython.core.display.Javascript object>"
      ]
     },
     "metadata": {},
     "output_type": "display_data"
    }
   ],
   "source": [
    "df = web_df.groupby([\"month\", \"StockCode\"]).agg({\"Quantity\": \"sum\"}).reset_index()\n",
    "df = df[df[\"month\"] == 1][[\"StockCode\", \"Quantity\"]].sort_values(\n",
    "    by=\"Quantity\", ascending=False\n",
    ")\n",
    "df\n",
    "# df[\"Quantity\"].sort_values(ascending=False)"
   ]
  },
  {
   "cell_type": "code",
   "execution_count": null,
   "metadata": {},
   "outputs": [],
   "source": []
  }
 ],
 "metadata": {
  "colab": {
   "name": "Time Series Day 2 Afternoon Assignment.ipynb",
   "provenance": []
  },
  "kernelspec": {
   "display_name": "Python 3",
   "language": "python",
   "name": "python3"
  },
  "language_info": {
   "codemirror_mode": {
    "name": "ipython",
    "version": 3
   },
   "file_extension": ".py",
   "mimetype": "text/x-python",
   "name": "python",
   "nbconvert_exporter": "python",
   "pygments_lexer": "ipython3",
   "version": "3.7.6"
  }
 },
 "nbformat": 4,
 "nbformat_minor": 1
}
