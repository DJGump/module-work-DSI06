{
 "cells": [
  {
   "cell_type": "code",
   "execution_count": 1,
   "metadata": {},
   "outputs": [
    {
     "data": {
      "application/javascript": [
       "\n",
       "            setTimeout(function() {\n",
       "                var nbb_cell_id = 1;\n",
       "                var nbb_unformatted_code = \"%reload_ext nb_black\";\n",
       "                var nbb_formatted_code = \"%reload_ext nb_black\";\n",
       "                var nbb_cells = Jupyter.notebook.get_cells();\n",
       "                for (var i = 0; i < nbb_cells.length; ++i) {\n",
       "                    if (nbb_cells[i].input_prompt_number == nbb_cell_id) {\n",
       "                        if (nbb_cells[i].get_text() == nbb_unformatted_code) {\n",
       "                             nbb_cells[i].set_text(nbb_formatted_code);\n",
       "                        }\n",
       "                        break;\n",
       "                    }\n",
       "                }\n",
       "            }, 500);\n",
       "            "
      ],
      "text/plain": [
       "<IPython.core.display.Javascript object>"
      ]
     },
     "metadata": {},
     "output_type": "display_data"
    }
   ],
   "source": [
    "%reload_ext nb_black"
   ]
  },
  {
   "cell_type": "code",
   "execution_count": 2,
   "metadata": {},
   "outputs": [
    {
     "data": {
      "application/javascript": [
       "\n",
       "            setTimeout(function() {\n",
       "                var nbb_cell_id = 2;\n",
       "                var nbb_unformatted_code = \"import numpy as np\\nimport pandas as pd\\nimport seaborn as sns\\nimport matplotlib.pyplot as plt\\nfrom datetime import datetime as dt\";\n",
       "                var nbb_formatted_code = \"import numpy as np\\nimport pandas as pd\\nimport seaborn as sns\\nimport matplotlib.pyplot as plt\\nfrom datetime import datetime as dt\";\n",
       "                var nbb_cells = Jupyter.notebook.get_cells();\n",
       "                for (var i = 0; i < nbb_cells.length; ++i) {\n",
       "                    if (nbb_cells[i].input_prompt_number == nbb_cell_id) {\n",
       "                        if (nbb_cells[i].get_text() == nbb_unformatted_code) {\n",
       "                             nbb_cells[i].set_text(nbb_formatted_code);\n",
       "                        }\n",
       "                        break;\n",
       "                    }\n",
       "                }\n",
       "            }, 500);\n",
       "            "
      ],
      "text/plain": [
       "<IPython.core.display.Javascript object>"
      ]
     },
     "metadata": {},
     "output_type": "display_data"
    }
   ],
   "source": [
    "import numpy as np\n",
    "import pandas as pd\n",
    "import seaborn as sns\n",
    "import matplotlib.pyplot as plt\n",
    "from datetime import datetime as dt"
   ]
  },
  {
   "cell_type": "code",
   "execution_count": 3,
   "metadata": {},
   "outputs": [
    {
     "data": {
      "text/html": [
       "<div>\n",
       "<style scoped>\n",
       "    .dataframe tbody tr th:only-of-type {\n",
       "        vertical-align: middle;\n",
       "    }\n",
       "\n",
       "    .dataframe tbody tr th {\n",
       "        vertical-align: top;\n",
       "    }\n",
       "\n",
       "    .dataframe thead th {\n",
       "        text-align: right;\n",
       "    }\n",
       "</style>\n",
       "<table border=\"1\" class=\"dataframe\">\n",
       "  <thead>\n",
       "    <tr style=\"text-align: right;\">\n",
       "      <th></th>\n",
       "      <th>timestamp</th>\n",
       "      <th>visitorid</th>\n",
       "      <th>event</th>\n",
       "      <th>itemid</th>\n",
       "      <th>transactionid</th>\n",
       "    </tr>\n",
       "  </thead>\n",
       "  <tbody>\n",
       "    <tr>\n",
       "      <th>0</th>\n",
       "      <td>1433221332117</td>\n",
       "      <td>257597</td>\n",
       "      <td>view</td>\n",
       "      <td>355908</td>\n",
       "      <td>NaN</td>\n",
       "    </tr>\n",
       "    <tr>\n",
       "      <th>1</th>\n",
       "      <td>1433224214164</td>\n",
       "      <td>992329</td>\n",
       "      <td>view</td>\n",
       "      <td>248676</td>\n",
       "      <td>NaN</td>\n",
       "    </tr>\n",
       "    <tr>\n",
       "      <th>2</th>\n",
       "      <td>1433221999827</td>\n",
       "      <td>111016</td>\n",
       "      <td>view</td>\n",
       "      <td>318965</td>\n",
       "      <td>NaN</td>\n",
       "    </tr>\n",
       "    <tr>\n",
       "      <th>3</th>\n",
       "      <td>1433221955914</td>\n",
       "      <td>483717</td>\n",
       "      <td>view</td>\n",
       "      <td>253185</td>\n",
       "      <td>NaN</td>\n",
       "    </tr>\n",
       "    <tr>\n",
       "      <th>4</th>\n",
       "      <td>1433221337106</td>\n",
       "      <td>951259</td>\n",
       "      <td>view</td>\n",
       "      <td>367447</td>\n",
       "      <td>NaN</td>\n",
       "    </tr>\n",
       "  </tbody>\n",
       "</table>\n",
       "</div>"
      ],
      "text/plain": [
       "       timestamp  visitorid event  itemid  transactionid\n",
       "0  1433221332117     257597  view  355908            NaN\n",
       "1  1433224214164     992329  view  248676            NaN\n",
       "2  1433221999827     111016  view  318965            NaN\n",
       "3  1433221955914     483717  view  253185            NaN\n",
       "4  1433221337106     951259  view  367447            NaN"
      ]
     },
     "execution_count": 3,
     "metadata": {},
     "output_type": "execute_result"
    },
    {
     "data": {
      "application/javascript": [
       "\n",
       "            setTimeout(function() {\n",
       "                var nbb_cell_id = 3;\n",
       "                var nbb_unformatted_code = \"events = pd.read_csv(\\\"data/web_events.csv\\\")\\nevents.head()\";\n",
       "                var nbb_formatted_code = \"events = pd.read_csv(\\\"data/web_events.csv\\\")\\nevents.head()\";\n",
       "                var nbb_cells = Jupyter.notebook.get_cells();\n",
       "                for (var i = 0; i < nbb_cells.length; ++i) {\n",
       "                    if (nbb_cells[i].input_prompt_number == nbb_cell_id) {\n",
       "                        if (nbb_cells[i].get_text() == nbb_unformatted_code) {\n",
       "                             nbb_cells[i].set_text(nbb_formatted_code);\n",
       "                        }\n",
       "                        break;\n",
       "                    }\n",
       "                }\n",
       "            }, 500);\n",
       "            "
      ],
      "text/plain": [
       "<IPython.core.display.Javascript object>"
      ]
     },
     "metadata": {},
     "output_type": "display_data"
    }
   ],
   "source": [
    "events = pd.read_csv(\"data/web_events.csv\")\n",
    "events.head()"
   ]
  },
  {
   "cell_type": "code",
   "execution_count": 4,
   "metadata": {},
   "outputs": [
    {
     "name": "stdout",
     "output_type": "stream",
     "text": [
      "<class 'pandas.core.frame.DataFrame'>\n",
      "RangeIndex: 2756101 entries, 0 to 2756100\n",
      "Data columns (total 5 columns):\n",
      " #   Column         Dtype  \n",
      "---  ------         -----  \n",
      " 0   timestamp      int64  \n",
      " 1   visitorid      int64  \n",
      " 2   event          object \n",
      " 3   itemid         int64  \n",
      " 4   transactionid  float64\n",
      "dtypes: float64(1), int64(3), object(1)\n",
      "memory usage: 105.1+ MB\n"
     ]
    },
    {
     "data": {
      "application/javascript": [
       "\n",
       "            setTimeout(function() {\n",
       "                var nbb_cell_id = 4;\n",
       "                var nbb_unformatted_code = \"events.info()\";\n",
       "                var nbb_formatted_code = \"events.info()\";\n",
       "                var nbb_cells = Jupyter.notebook.get_cells();\n",
       "                for (var i = 0; i < nbb_cells.length; ++i) {\n",
       "                    if (nbb_cells[i].input_prompt_number == nbb_cell_id) {\n",
       "                        if (nbb_cells[i].get_text() == nbb_unformatted_code) {\n",
       "                             nbb_cells[i].set_text(nbb_formatted_code);\n",
       "                        }\n",
       "                        break;\n",
       "                    }\n",
       "                }\n",
       "            }, 500);\n",
       "            "
      ],
      "text/plain": [
       "<IPython.core.display.Javascript object>"
      ]
     },
     "metadata": {},
     "output_type": "display_data"
    }
   ],
   "source": [
    "events.info()"
   ]
  },
  {
   "cell_type": "code",
   "execution_count": 5,
   "metadata": {},
   "outputs": [
    {
     "data": {
      "text/plain": [
       "timestamp              0\n",
       "visitorid              0\n",
       "event                  0\n",
       "itemid                 0\n",
       "transactionid    2733644\n",
       "dtype: int64"
      ]
     },
     "execution_count": 5,
     "metadata": {},
     "output_type": "execute_result"
    },
    {
     "data": {
      "application/javascript": [
       "\n",
       "            setTimeout(function() {\n",
       "                var nbb_cell_id = 5;\n",
       "                var nbb_unformatted_code = \"events.isna().sum()\";\n",
       "                var nbb_formatted_code = \"events.isna().sum()\";\n",
       "                var nbb_cells = Jupyter.notebook.get_cells();\n",
       "                for (var i = 0; i < nbb_cells.length; ++i) {\n",
       "                    if (nbb_cells[i].input_prompt_number == nbb_cell_id) {\n",
       "                        if (nbb_cells[i].get_text() == nbb_unformatted_code) {\n",
       "                             nbb_cells[i].set_text(nbb_formatted_code);\n",
       "                        }\n",
       "                        break;\n",
       "                    }\n",
       "                }\n",
       "            }, 500);\n",
       "            "
      ],
      "text/plain": [
       "<IPython.core.display.Javascript object>"
      ]
     },
     "metadata": {},
     "output_type": "display_data"
    }
   ],
   "source": [
    "events.isna().sum()"
   ]
  },
  {
   "cell_type": "code",
   "execution_count": 6,
   "metadata": {},
   "outputs": [
    {
     "data": {
      "text/plain": [
       "0         2015-06-02 05:02:12.117\n",
       "1         2015-06-02 05:50:14.164\n",
       "2         2015-06-02 05:13:19.827\n",
       "3         2015-06-02 05:12:35.914\n",
       "4         2015-06-02 05:02:17.106\n",
       "                    ...          \n",
       "2756096   2015-08-01 03:13:05.939\n",
       "2756097   2015-08-01 03:30:13.142\n",
       "2756098   2015-08-01 02:57:00.527\n",
       "2756099   2015-08-01 03:08:50.703\n",
       "2756100   2015-08-01 03:36:03.914\n",
       "Name: timestamp, Length: 2756101, dtype: datetime64[ns]"
      ]
     },
     "execution_count": 6,
     "metadata": {},
     "output_type": "execute_result"
    },
    {
     "data": {
      "application/javascript": [
       "\n",
       "            setTimeout(function() {\n",
       "                var nbb_cell_id = 6;\n",
       "                var nbb_unformatted_code = \"events[\\\"timestamp\\\"] = pd.to_datetime(events[\\\"timestamp\\\"], unit=\\\"ms\\\")\\nevents[\\\"timestamp\\\"]\";\n",
       "                var nbb_formatted_code = \"events[\\\"timestamp\\\"] = pd.to_datetime(events[\\\"timestamp\\\"], unit=\\\"ms\\\")\\nevents[\\\"timestamp\\\"]\";\n",
       "                var nbb_cells = Jupyter.notebook.get_cells();\n",
       "                for (var i = 0; i < nbb_cells.length; ++i) {\n",
       "                    if (nbb_cells[i].input_prompt_number == nbb_cell_id) {\n",
       "                        if (nbb_cells[i].get_text() == nbb_unformatted_code) {\n",
       "                             nbb_cells[i].set_text(nbb_formatted_code);\n",
       "                        }\n",
       "                        break;\n",
       "                    }\n",
       "                }\n",
       "            }, 500);\n",
       "            "
      ],
      "text/plain": [
       "<IPython.core.display.Javascript object>"
      ]
     },
     "metadata": {},
     "output_type": "display_data"
    }
   ],
   "source": [
    "events[\"timestamp\"] = pd.to_datetime(events[\"timestamp\"], unit=\"ms\")\n",
    "events[\"timestamp\"]"
   ]
  },
  {
   "cell_type": "code",
   "execution_count": 7,
   "metadata": {},
   "outputs": [
    {
     "data": {
      "application/javascript": [
       "\n",
       "            setTimeout(function() {\n",
       "                var nbb_cell_id = 7;\n",
       "                var nbb_unformatted_code = \"# extract different time values\\nevents[\\\"Year\\\"] = events[\\\"timestamp\\\"].dt.year\\nevents[\\\"Month\\\"] = events[\\\"timestamp\\\"].dt.month\\nevents[\\\"Day\\\"] = events[\\\"timestamp\\\"].dt.day\\nevents[\\\"Hour\\\"] = events[\\\"timestamp\\\"].dt.hour\\nevents[\\\"Minute\\\"] = events[\\\"timestamp\\\"].dt.minute\";\n",
       "                var nbb_formatted_code = \"# extract different time values\\nevents[\\\"Year\\\"] = events[\\\"timestamp\\\"].dt.year\\nevents[\\\"Month\\\"] = events[\\\"timestamp\\\"].dt.month\\nevents[\\\"Day\\\"] = events[\\\"timestamp\\\"].dt.day\\nevents[\\\"Hour\\\"] = events[\\\"timestamp\\\"].dt.hour\\nevents[\\\"Minute\\\"] = events[\\\"timestamp\\\"].dt.minute\";\n",
       "                var nbb_cells = Jupyter.notebook.get_cells();\n",
       "                for (var i = 0; i < nbb_cells.length; ++i) {\n",
       "                    if (nbb_cells[i].input_prompt_number == nbb_cell_id) {\n",
       "                        if (nbb_cells[i].get_text() == nbb_unformatted_code) {\n",
       "                             nbb_cells[i].set_text(nbb_formatted_code);\n",
       "                        }\n",
       "                        break;\n",
       "                    }\n",
       "                }\n",
       "            }, 500);\n",
       "            "
      ],
      "text/plain": [
       "<IPython.core.display.Javascript object>"
      ]
     },
     "metadata": {},
     "output_type": "display_data"
    }
   ],
   "source": [
    "# extract different time values\n",
    "events[\"Year\"] = events[\"timestamp\"].dt.year\n",
    "events[\"Month\"] = events[\"timestamp\"].dt.month\n",
    "events[\"Day\"] = events[\"timestamp\"].dt.day\n",
    "events[\"Hour\"] = events[\"timestamp\"].dt.hour\n",
    "events[\"Minute\"] = events[\"timestamp\"].dt.minute"
   ]
  },
  {
   "cell_type": "code",
   "execution_count": 8,
   "metadata": {},
   "outputs": [
    {
     "name": "stdout",
     "output_type": "stream",
     "text": [
      "<class 'pandas.core.frame.DataFrame'>\n",
      "RangeIndex: 2756101 entries, 0 to 2756100\n",
      "Data columns (total 10 columns):\n",
      " #   Column         Dtype         \n",
      "---  ------         -----         \n",
      " 0   timestamp      datetime64[ns]\n",
      " 1   visitorid      int64         \n",
      " 2   event          object        \n",
      " 3   itemid         int64         \n",
      " 4   transactionid  float64       \n",
      " 5   Year           int64         \n",
      " 6   Month          int64         \n",
      " 7   Day            int64         \n",
      " 8   Hour           int64         \n",
      " 9   Minute         int64         \n",
      "dtypes: datetime64[ns](1), float64(1), int64(7), object(1)\n",
      "memory usage: 210.3+ MB\n"
     ]
    },
    {
     "data": {
      "application/javascript": [
       "\n",
       "            setTimeout(function() {\n",
       "                var nbb_cell_id = 8;\n",
       "                var nbb_unformatted_code = \"events.info()\";\n",
       "                var nbb_formatted_code = \"events.info()\";\n",
       "                var nbb_cells = Jupyter.notebook.get_cells();\n",
       "                for (var i = 0; i < nbb_cells.length; ++i) {\n",
       "                    if (nbb_cells[i].input_prompt_number == nbb_cell_id) {\n",
       "                        if (nbb_cells[i].get_text() == nbb_unformatted_code) {\n",
       "                             nbb_cells[i].set_text(nbb_formatted_code);\n",
       "                        }\n",
       "                        break;\n",
       "                    }\n",
       "                }\n",
       "            }, 500);\n",
       "            "
      ],
      "text/plain": [
       "<IPython.core.display.Javascript object>"
      ]
     },
     "metadata": {},
     "output_type": "display_data"
    }
   ],
   "source": [
    "events.info()"
   ]
  },
  {
   "cell_type": "code",
   "execution_count": 9,
   "metadata": {},
   "outputs": [
    {
     "data": {
      "text/html": [
       "<div>\n",
       "<style scoped>\n",
       "    .dataframe tbody tr th:only-of-type {\n",
       "        vertical-align: middle;\n",
       "    }\n",
       "\n",
       "    .dataframe tbody tr th {\n",
       "        vertical-align: top;\n",
       "    }\n",
       "\n",
       "    .dataframe thead th {\n",
       "        text-align: right;\n",
       "    }\n",
       "</style>\n",
       "<table border=\"1\" class=\"dataframe\">\n",
       "  <thead>\n",
       "    <tr style=\"text-align: right;\">\n",
       "      <th></th>\n",
       "      <th>timestamp</th>\n",
       "      <th>visitorid</th>\n",
       "      <th>event</th>\n",
       "      <th>itemid</th>\n",
       "      <th>transactionid</th>\n",
       "      <th>Month</th>\n",
       "      <th>Day</th>\n",
       "      <th>Hour</th>\n",
       "      <th>Minute</th>\n",
       "    </tr>\n",
       "    <tr>\n",
       "      <th>Year</th>\n",
       "      <th></th>\n",
       "      <th></th>\n",
       "      <th></th>\n",
       "      <th></th>\n",
       "      <th></th>\n",
       "      <th></th>\n",
       "      <th></th>\n",
       "      <th></th>\n",
       "      <th></th>\n",
       "    </tr>\n",
       "  </thead>\n",
       "  <tbody>\n",
       "    <tr>\n",
       "      <th>2015</th>\n",
       "      <td>2756101</td>\n",
       "      <td>2756101</td>\n",
       "      <td>2756101</td>\n",
       "      <td>2756101</td>\n",
       "      <td>22457</td>\n",
       "      <td>2756101</td>\n",
       "      <td>2756101</td>\n",
       "      <td>2756101</td>\n",
       "      <td>2756101</td>\n",
       "    </tr>\n",
       "  </tbody>\n",
       "</table>\n",
       "</div>"
      ],
      "text/plain": [
       "      timestamp  visitorid    event   itemid  transactionid    Month      Day  \\\n",
       "Year                                                                            \n",
       "2015    2756101    2756101  2756101  2756101          22457  2756101  2756101   \n",
       "\n",
       "         Hour   Minute  \n",
       "Year                    \n",
       "2015  2756101  2756101  "
      ]
     },
     "execution_count": 9,
     "metadata": {},
     "output_type": "execute_result"
    },
    {
     "data": {
      "application/javascript": [
       "\n",
       "            setTimeout(function() {\n",
       "                var nbb_cell_id = 9;\n",
       "                var nbb_unformatted_code = \"# Aggregate on each one, counting the number of records, \\n# and see what insights you can discover for each type of event.\\nevents.groupby('Year').agg('count')\";\n",
       "                var nbb_formatted_code = \"# Aggregate on each one, counting the number of records,\\n# and see what insights you can discover for each type of event.\\nevents.groupby(\\\"Year\\\").agg(\\\"count\\\")\";\n",
       "                var nbb_cells = Jupyter.notebook.get_cells();\n",
       "                for (var i = 0; i < nbb_cells.length; ++i) {\n",
       "                    if (nbb_cells[i].input_prompt_number == nbb_cell_id) {\n",
       "                        if (nbb_cells[i].get_text() == nbb_unformatted_code) {\n",
       "                             nbb_cells[i].set_text(nbb_formatted_code);\n",
       "                        }\n",
       "                        break;\n",
       "                    }\n",
       "                }\n",
       "            }, 500);\n",
       "            "
      ],
      "text/plain": [
       "<IPython.core.display.Javascript object>"
      ]
     },
     "metadata": {},
     "output_type": "display_data"
    }
   ],
   "source": [
    "# Aggregate on each one, counting the number of records, \n",
    "# and see what insights you can discover for each type of event.\n",
    "events.groupby('Year').agg('count')\n"
   ]
  },
  {
   "cell_type": "code",
   "execution_count": 10,
   "metadata": {},
   "outputs": [
    {
     "data": {
      "text/plain": [
       "view           2664312\n",
       "addtocart        69332\n",
       "transaction      22457\n",
       "Name: event, dtype: int64"
      ]
     },
     "execution_count": 10,
     "metadata": {},
     "output_type": "execute_result"
    },
    {
     "data": {
      "application/javascript": [
       "\n",
       "            setTimeout(function() {\n",
       "                var nbb_cell_id = 10;\n",
       "                var nbb_unformatted_code = \"events[\\\"event\\\"].value_counts()\";\n",
       "                var nbb_formatted_code = \"events[\\\"event\\\"].value_counts()\";\n",
       "                var nbb_cells = Jupyter.notebook.get_cells();\n",
       "                for (var i = 0; i < nbb_cells.length; ++i) {\n",
       "                    if (nbb_cells[i].input_prompt_number == nbb_cell_id) {\n",
       "                        if (nbb_cells[i].get_text() == nbb_unformatted_code) {\n",
       "                             nbb_cells[i].set_text(nbb_formatted_code);\n",
       "                        }\n",
       "                        break;\n",
       "                    }\n",
       "                }\n",
       "            }, 500);\n",
       "            "
      ],
      "text/plain": [
       "<IPython.core.display.Javascript object>"
      ]
     },
     "metadata": {},
     "output_type": "display_data"
    }
   ],
   "source": [
    "events[\"event\"].value_counts()"
   ]
  },
  {
   "cell_type": "code",
   "execution_count": 11,
   "metadata": {},
   "outputs": [
    {
     "data": {
      "text/plain": [
       "<matplotlib.axes._subplots.AxesSubplot at 0x1568005b948>"
      ]
     },
     "execution_count": 11,
     "metadata": {},
     "output_type": "execute_result"
    },
    {
     "data": {
      "image/png": "[encoded data removed]",
      "text/plain": [
       "<Figure size 432x288 with 1 Axes>"
      ]
     },
     "metadata": {
      "needs_background": "light"
     },
     "output_type": "display_data"
    },
    {
     "data": {
      "application/javascript": [
       "\n",
       "            setTimeout(function() {\n",
       "                var nbb_cell_id = 11;\n",
       "                var nbb_unformatted_code = \"events[[\\\"Month\\\", 'event']].groupby(['Month', \\\"event\\\"]).agg({'event': 'count'})\\nsns.countplot(x='Month', hue='event', data=events)\";\n",
       "                var nbb_formatted_code = \"events[[\\\"Month\\\", \\\"event\\\"]].groupby([\\\"Month\\\", \\\"event\\\"]).agg({\\\"event\\\": \\\"count\\\"})\\nsns.countplot(x=\\\"Month\\\", hue=\\\"event\\\", data=events)\";\n",
       "                var nbb_cells = Jupyter.notebook.get_cells();\n",
       "                for (var i = 0; i < nbb_cells.length; ++i) {\n",
       "                    if (nbb_cells[i].input_prompt_number == nbb_cell_id) {\n",
       "                        if (nbb_cells[i].get_text() == nbb_unformatted_code) {\n",
       "                             nbb_cells[i].set_text(nbb_formatted_code);\n",
       "                        }\n",
       "                        break;\n",
       "                    }\n",
       "                }\n",
       "            }, 500);\n",
       "            "
      ],
      "text/plain": [
       "<IPython.core.display.Javascript object>"
      ]
     },
     "metadata": {},
     "output_type": "display_data"
    }
   ],
   "source": [
    "events[[\"Month\", 'event']].groupby(['Month', \"event\"]).agg({'event': 'count'})\n",
    "sns.countplot(x='Month', hue='event', data=events)\n"
   ]
  },
  {
   "cell_type": "code",
   "execution_count": 12,
   "metadata": {
    "scrolled": false
   },
   "outputs": [
    {
     "data": {
      "text/plain": [
       "<matplotlib.axes._subplots.AxesSubplot at 0x156800f0b48>"
      ]
     },
     "execution_count": 12,
     "metadata": {},
     "output_type": "execute_result"
    },
    {
     "data": {
      "image/png": "[encoded data removed]",
      "text/plain": [
       "<Figure size 432x288 with 1 Axes>"
      ]
     },
     "metadata": {
      "needs_background": "light"
     },
     "output_type": "display_data"
    },
    {
     "data": {
      "application/javascript": [
       "\n",
       "            setTimeout(function() {\n",
       "                var nbb_cell_id = 12;\n",
       "                var nbb_unformatted_code = \"#event_counts_days = events[[\\\"Day\\\", 'event']].groupby(['Day', \\\"event\\\"]).agg({'event': 'count'})\\nsns.countplot(x='Day', hue='event', data=events)\";\n",
       "                var nbb_formatted_code = \"# event_counts_days = events[[\\\"Day\\\", 'event']].groupby(['Day', \\\"event\\\"]).agg({'event': 'count'})\\nsns.countplot(x=\\\"Day\\\", hue=\\\"event\\\", data=events)\";\n",
       "                var nbb_cells = Jupyter.notebook.get_cells();\n",
       "                for (var i = 0; i < nbb_cells.length; ++i) {\n",
       "                    if (nbb_cells[i].input_prompt_number == nbb_cell_id) {\n",
       "                        if (nbb_cells[i].get_text() == nbb_unformatted_code) {\n",
       "                             nbb_cells[i].set_text(nbb_formatted_code);\n",
       "                        }\n",
       "                        break;\n",
       "                    }\n",
       "                }\n",
       "            }, 500);\n",
       "            "
      ],
      "text/plain": [
       "<IPython.core.display.Javascript object>"
      ]
     },
     "metadata": {},
     "output_type": "display_data"
    }
   ],
   "source": [
    "#event_counts_days = events[[\"Day\", 'event']].groupby(['Day', \"event\"]).agg({'event': 'count'})\n",
    "sns.countplot(x='Day', hue='event', data=events)\n"
   ]
  },
  {
   "cell_type": "code",
   "execution_count": 38,
   "metadata": {},
   "outputs": [
    {
     "data": {
      "text/plain": [
       "<matplotlib.axes._subplots.AxesSubplot at 0x156860171c8>"
      ]
     },
     "execution_count": 38,
     "metadata": {},
     "output_type": "execute_result"
    },
    {
     "data": {
      "image/png": "[encoded data removed]",
      "text/plain": [
       "<Figure size 432x288 with 1 Axes>"
      ]
     },
     "metadata": {
      "needs_background": "light"
     },
     "output_type": "display_data"
    },
    {
     "data": {
      "application/javascript": [
       "\n",
       "            setTimeout(function() {\n",
       "                var nbb_cell_id = 38;\n",
       "                var nbb_unformatted_code = \"events[[\\\"Hour\\\", \\\"event\\\"]].groupby([\\\"Hour\\\", \\\"event\\\"]).agg({\\\"event\\\": \\\"count\\\"})\\nsns.countplot(x='Hour', hue='event', data=events)\";\n",
       "                var nbb_formatted_code = \"events[[\\\"Hour\\\", \\\"event\\\"]].groupby([\\\"Hour\\\", \\\"event\\\"]).agg({\\\"event\\\": \\\"count\\\"})\\nsns.countplot(x=\\\"Hour\\\", hue=\\\"event\\\", data=events)\";\n",
       "                var nbb_cells = Jupyter.notebook.get_cells();\n",
       "                for (var i = 0; i < nbb_cells.length; ++i) {\n",
       "                    if (nbb_cells[i].input_prompt_number == nbb_cell_id) {\n",
       "                        if (nbb_cells[i].get_text() == nbb_unformatted_code) {\n",
       "                             nbb_cells[i].set_text(nbb_formatted_code);\n",
       "                        }\n",
       "                        break;\n",
       "                    }\n",
       "                }\n",
       "            }, 500);\n",
       "            "
      ],
      "text/plain": [
       "<IPython.core.display.Javascript object>"
      ]
     },
     "metadata": {},
     "output_type": "display_data"
    }
   ],
   "source": [
    "events[[\"Hour\", \"event\"]].groupby([\"Hour\", \"event\"]).agg({\"event\": \"count\"})\n",
    "sns.countplot(x='Hour', hue='event', data=events)\n"
   ]
  },
  {
   "cell_type": "code",
   "execution_count": null,
   "metadata": {},
   "outputs": [],
   "source": []
  },
  {
   "cell_type": "code",
   "execution_count": 14,
   "metadata": {},
   "outputs": [
    {
     "data": {
      "application/javascript": [
       "\n",
       "            setTimeout(function() {\n",
       "                var nbb_cell_id = 14;\n",
       "                var nbb_unformatted_code = \"# Round datetimes by hour, aggregate, and see what insights you can discover.\\nevents[\\\"timestamp\\\"] = events[\\\"timestamp\\\"].dt.round(\\\"H\\\")\";\n",
       "                var nbb_formatted_code = \"# Round datetimes by hour, aggregate, and see what insights you can discover.\\nevents[\\\"timestamp\\\"] = events[\\\"timestamp\\\"].dt.round(\\\"H\\\")\";\n",
       "                var nbb_cells = Jupyter.notebook.get_cells();\n",
       "                for (var i = 0; i < nbb_cells.length; ++i) {\n",
       "                    if (nbb_cells[i].input_prompt_number == nbb_cell_id) {\n",
       "                        if (nbb_cells[i].get_text() == nbb_unformatted_code) {\n",
       "                             nbb_cells[i].set_text(nbb_formatted_code);\n",
       "                        }\n",
       "                        break;\n",
       "                    }\n",
       "                }\n",
       "            }, 500);\n",
       "            "
      ],
      "text/plain": [
       "<IPython.core.display.Javascript object>"
      ]
     },
     "metadata": {},
     "output_type": "display_data"
    }
   ],
   "source": [
    "# Round datetimes by hour, aggregate, and see what insights you can discover.\n",
    "events[\"timestamp\"] = events[\"timestamp\"].dt.round(\"H\")"
   ]
  },
  {
   "cell_type": "code",
   "execution_count": 15,
   "metadata": {
    "scrolled": true
   },
   "outputs": [
    {
     "data": {
      "text/plain": [
       "2015-05-14 17:00:00    48\n",
       "2015-07-08 20:00:00    47\n",
       "2015-05-14 18:00:00    44\n",
       "2015-07-16 18:00:00    44\n",
       "2015-07-15 17:00:00    42\n",
       "                       ..\n",
       "2015-08-26 10:00:00     1\n",
       "2015-08-23 20:00:00     1\n",
       "2015-09-13 08:00:00     1\n",
       "2015-07-20 13:00:00     1\n",
       "2015-09-13 05:00:00     1\n",
       "Name: timestamp, Length: 2725, dtype: int64"
      ]
     },
     "execution_count": 15,
     "metadata": {},
     "output_type": "execute_result"
    },
    {
     "data": {
      "application/javascript": [
       "\n",
       "            setTimeout(function() {\n",
       "                var nbb_cell_id = 15;\n",
       "                var nbb_unformatted_code = \"sales = events.loc[events[\\\"event\\\"] == \\\"transaction\\\"]\\nsales[\\\"timestamp\\\"].value_counts()\";\n",
       "                var nbb_formatted_code = \"sales = events.loc[events[\\\"event\\\"] == \\\"transaction\\\"]\\nsales[\\\"timestamp\\\"].value_counts()\";\n",
       "                var nbb_cells = Jupyter.notebook.get_cells();\n",
       "                for (var i = 0; i < nbb_cells.length; ++i) {\n",
       "                    if (nbb_cells[i].input_prompt_number == nbb_cell_id) {\n",
       "                        if (nbb_cells[i].get_text() == nbb_unformatted_code) {\n",
       "                             nbb_cells[i].set_text(nbb_formatted_code);\n",
       "                        }\n",
       "                        break;\n",
       "                    }\n",
       "                }\n",
       "            }, 500);\n",
       "            "
      ],
      "text/plain": [
       "<IPython.core.display.Javascript object>"
      ]
     },
     "metadata": {},
     "output_type": "display_data"
    }
   ],
   "source": [
    "sales = events.loc[events[\"event\"] == \"transaction\"]\n",
    "sales[\"timestamp\"].value_counts()"
   ]
  },
  {
   "cell_type": "code",
   "execution_count": 16,
   "metadata": {},
   "outputs": [
    {
     "data": {
      "text/plain": [
       "<matplotlib.axes._subplots.AxesSubplot at 0x15681427e48>"
      ]
     },
     "execution_count": 16,
     "metadata": {},
     "output_type": "execute_result"
    },
    {
     "data": {
      "image/png": "[encoded data removed]",
      "text/plain": [
       "<Figure size 432x288 with 1 Axes>"
      ]
     },
     "metadata": {
      "needs_background": "light"
     },
     "output_type": "display_data"
    },
    {
     "data": {
      "application/javascript": [
       "\n",
       "            setTimeout(function() {\n",
       "                var nbb_cell_id = 16;\n",
       "                var nbb_unformatted_code = \"events_to_hour = events.groupby(\\\"timestamp\\\").agg({\\\"event\\\": \\\"count\\\"})\\nsns.scatterplot(\\n    x=events_to_hour.index, y=\\\"event\\\", data=events_to_hour,\\n)\";\n",
       "                var nbb_formatted_code = \"events_to_hour = events.groupby(\\\"timestamp\\\").agg({\\\"event\\\": \\\"count\\\"})\\nsns.scatterplot(\\n    x=events_to_hour.index, y=\\\"event\\\", data=events_to_hour,\\n)\";\n",
       "                var nbb_cells = Jupyter.notebook.get_cells();\n",
       "                for (var i = 0; i < nbb_cells.length; ++i) {\n",
       "                    if (nbb_cells[i].input_prompt_number == nbb_cell_id) {\n",
       "                        if (nbb_cells[i].get_text() == nbb_unformatted_code) {\n",
       "                             nbb_cells[i].set_text(nbb_formatted_code);\n",
       "                        }\n",
       "                        break;\n",
       "                    }\n",
       "                }\n",
       "            }, 500);\n",
       "            "
      ],
      "text/plain": [
       "<IPython.core.display.Javascript object>"
      ]
     },
     "metadata": {},
     "output_type": "display_data"
    }
   ],
   "source": [
    "events_to_hour = events.groupby(\"timestamp\").agg({\"event\": \"count\"})\n",
    "sns.scatterplot(\n",
    "    x=events_to_hour.index, y=\"event\", data=events_to_hour,\n",
    ")"
   ]
  },
  {
   "cell_type": "code",
   "execution_count": 17,
   "metadata": {},
   "outputs": [
    {
     "data": {
      "application/javascript": [
       "\n",
       "            setTimeout(function() {\n",
       "                var nbb_cell_id = 17;\n",
       "                var nbb_unformatted_code = \"# events_to_hour.index\";\n",
       "                var nbb_formatted_code = \"# events_to_hour.index\";\n",
       "                var nbb_cells = Jupyter.notebook.get_cells();\n",
       "                for (var i = 0; i < nbb_cells.length; ++i) {\n",
       "                    if (nbb_cells[i].input_prompt_number == nbb_cell_id) {\n",
       "                        if (nbb_cells[i].get_text() == nbb_unformatted_code) {\n",
       "                             nbb_cells[i].set_text(nbb_formatted_code);\n",
       "                        }\n",
       "                        break;\n",
       "                    }\n",
       "                }\n",
       "            }, 500);\n",
       "            "
      ],
      "text/plain": [
       "<IPython.core.display.Javascript object>"
      ]
     },
     "metadata": {},
     "output_type": "display_data"
    }
   ],
   "source": [
    "# events_to_hour.index"
   ]
  },
  {
   "cell_type": "markdown",
   "metadata": {},
   "source": [
    "Life Expectancy Data"
   ]
  },
  {
   "cell_type": "code",
   "execution_count": 18,
   "metadata": {},
   "outputs": [
    {
     "data": {
      "text/html": [
       "<div>\n",
       "<style scoped>\n",
       "    .dataframe tbody tr th:only-of-type {\n",
       "        vertical-align: middle;\n",
       "    }\n",
       "\n",
       "    .dataframe tbody tr th {\n",
       "        vertical-align: top;\n",
       "    }\n",
       "\n",
       "    .dataframe thead th {\n",
       "        text-align: right;\n",
       "    }\n",
       "</style>\n",
       "<table border=\"1\" class=\"dataframe\">\n",
       "  <thead>\n",
       "    <tr style=\"text-align: right;\">\n",
       "      <th></th>\n",
       "      <th>Country Name</th>\n",
       "      <th>Country Code</th>\n",
       "      <th>Indicator Name</th>\n",
       "      <th>Indicator Code</th>\n",
       "      <th>1960</th>\n",
       "      <th>1961</th>\n",
       "      <th>1962</th>\n",
       "      <th>1963</th>\n",
       "      <th>1964</th>\n",
       "      <th>1965</th>\n",
       "      <th>...</th>\n",
       "      <th>2007</th>\n",
       "      <th>2008</th>\n",
       "      <th>2009</th>\n",
       "      <th>2010</th>\n",
       "      <th>2011</th>\n",
       "      <th>2012</th>\n",
       "      <th>2013</th>\n",
       "      <th>2014</th>\n",
       "      <th>2015</th>\n",
       "      <th>2016</th>\n",
       "    </tr>\n",
       "  </thead>\n",
       "  <tbody>\n",
       "    <tr>\n",
       "      <th>0</th>\n",
       "      <td>Aruba</td>\n",
       "      <td>ABW</td>\n",
       "      <td>Life expectancy at birth, total (years)</td>\n",
       "      <td>SP.DYN.LE00.IN</td>\n",
       "      <td>65.662</td>\n",
       "      <td>66.074</td>\n",
       "      <td>66.444</td>\n",
       "      <td>66.787</td>\n",
       "      <td>67.113</td>\n",
       "      <td>67.435</td>\n",
       "      <td>...</td>\n",
       "      <td>74.576</td>\n",
       "      <td>74.725</td>\n",
       "      <td>74.872</td>\n",
       "      <td>75.016</td>\n",
       "      <td>75.158</td>\n",
       "      <td>75.299</td>\n",
       "      <td>75.440</td>\n",
       "      <td>75.582</td>\n",
       "      <td>75.725</td>\n",
       "      <td>75.867</td>\n",
       "    </tr>\n",
       "    <tr>\n",
       "      <th>1</th>\n",
       "      <td>Afghanistan</td>\n",
       "      <td>AFG</td>\n",
       "      <td>Life expectancy at birth, total (years)</td>\n",
       "      <td>SP.DYN.LE00.IN</td>\n",
       "      <td>32.292</td>\n",
       "      <td>32.742</td>\n",
       "      <td>33.185</td>\n",
       "      <td>33.624</td>\n",
       "      <td>34.060</td>\n",
       "      <td>34.495</td>\n",
       "      <td>...</td>\n",
       "      <td>59.694</td>\n",
       "      <td>60.243</td>\n",
       "      <td>60.754</td>\n",
       "      <td>61.226</td>\n",
       "      <td>61.666</td>\n",
       "      <td>62.086</td>\n",
       "      <td>62.494</td>\n",
       "      <td>62.895</td>\n",
       "      <td>63.288</td>\n",
       "      <td>63.673</td>\n",
       "    </tr>\n",
       "    <tr>\n",
       "      <th>2</th>\n",
       "      <td>Angola</td>\n",
       "      <td>AGO</td>\n",
       "      <td>Life expectancy at birth, total (years)</td>\n",
       "      <td>SP.DYN.LE00.IN</td>\n",
       "      <td>33.251</td>\n",
       "      <td>33.573</td>\n",
       "      <td>33.914</td>\n",
       "      <td>34.272</td>\n",
       "      <td>34.645</td>\n",
       "      <td>35.031</td>\n",
       "      <td>...</td>\n",
       "      <td>55.096</td>\n",
       "      <td>56.189</td>\n",
       "      <td>57.231</td>\n",
       "      <td>58.192</td>\n",
       "      <td>59.042</td>\n",
       "      <td>59.770</td>\n",
       "      <td>60.373</td>\n",
       "      <td>60.858</td>\n",
       "      <td>61.241</td>\n",
       "      <td>61.547</td>\n",
       "    </tr>\n",
       "    <tr>\n",
       "      <th>3</th>\n",
       "      <td>Albania</td>\n",
       "      <td>ALB</td>\n",
       "      <td>Life expectancy at birth, total (years)</td>\n",
       "      <td>SP.DYN.LE00.IN</td>\n",
       "      <td>62.279</td>\n",
       "      <td>63.298</td>\n",
       "      <td>64.187</td>\n",
       "      <td>64.911</td>\n",
       "      <td>65.461</td>\n",
       "      <td>65.848</td>\n",
       "      <td>...</td>\n",
       "      <td>75.656</td>\n",
       "      <td>75.943</td>\n",
       "      <td>76.281</td>\n",
       "      <td>76.652</td>\n",
       "      <td>77.031</td>\n",
       "      <td>77.389</td>\n",
       "      <td>77.702</td>\n",
       "      <td>77.963</td>\n",
       "      <td>78.174</td>\n",
       "      <td>78.345</td>\n",
       "    </tr>\n",
       "    <tr>\n",
       "      <th>4</th>\n",
       "      <td>Andorra</td>\n",
       "      <td>AND</td>\n",
       "      <td>Life expectancy at birth, total (years)</td>\n",
       "      <td>SP.DYN.LE00.IN</td>\n",
       "      <td>NaN</td>\n",
       "      <td>NaN</td>\n",
       "      <td>NaN</td>\n",
       "      <td>NaN</td>\n",
       "      <td>NaN</td>\n",
       "      <td>NaN</td>\n",
       "      <td>...</td>\n",
       "      <td>NaN</td>\n",
       "      <td>NaN</td>\n",
       "      <td>NaN</td>\n",
       "      <td>NaN</td>\n",
       "      <td>NaN</td>\n",
       "      <td>NaN</td>\n",
       "      <td>NaN</td>\n",
       "      <td>NaN</td>\n",
       "      <td>NaN</td>\n",
       "      <td>NaN</td>\n",
       "    </tr>\n",
       "  </tbody>\n",
       "</table>\n",
       "<p>5 rows × 61 columns</p>\n",
       "</div>"
      ],
      "text/plain": [
       "  Country Name Country Code                           Indicator Name  \\\n",
       "0        Aruba          ABW  Life expectancy at birth, total (years)   \n",
       "1  Afghanistan          AFG  Life expectancy at birth, total (years)   \n",
       "2       Angola          AGO  Life expectancy at birth, total (years)   \n",
       "3      Albania          ALB  Life expectancy at birth, total (years)   \n",
       "4      Andorra          AND  Life expectancy at birth, total (years)   \n",
       "\n",
       "   Indicator Code    1960    1961    1962    1963    1964    1965  ...  \\\n",
       "0  SP.DYN.LE00.IN  65.662  66.074  66.444  66.787  67.113  67.435  ...   \n",
       "1  SP.DYN.LE00.IN  32.292  32.742  33.185  33.624  34.060  34.495  ...   \n",
       "2  SP.DYN.LE00.IN  33.251  33.573  33.914  34.272  34.645  35.031  ...   \n",
       "3  SP.DYN.LE00.IN  62.279  63.298  64.187  64.911  65.461  65.848  ...   \n",
       "4  SP.DYN.LE00.IN     NaN     NaN     NaN     NaN     NaN     NaN  ...   \n",
       "\n",
       "     2007    2008    2009    2010    2011    2012    2013    2014    2015  \\\n",
       "0  74.576  74.725  74.872  75.016  75.158  75.299  75.440  75.582  75.725   \n",
       "1  59.694  60.243  60.754  61.226  61.666  62.086  62.494  62.895  63.288   \n",
       "2  55.096  56.189  57.231  58.192  59.042  59.770  60.373  60.858  61.241   \n",
       "3  75.656  75.943  76.281  76.652  77.031  77.389  77.702  77.963  78.174   \n",
       "4     NaN     NaN     NaN     NaN     NaN     NaN     NaN     NaN     NaN   \n",
       "\n",
       "     2016  \n",
       "0  75.867  \n",
       "1  63.673  \n",
       "2  61.547  \n",
       "3  78.345  \n",
       "4     NaN  \n",
       "\n",
       "[5 rows x 61 columns]"
      ]
     },
     "execution_count": 18,
     "metadata": {},
     "output_type": "execute_result"
    },
    {
     "data": {
      "application/javascript": [
       "\n",
       "            setTimeout(function() {\n",
       "                var nbb_cell_id = 18;\n",
       "                var nbb_unformatted_code = \"life = pd.read_csv(\\\"data/life_expectancy.csv\\\")\\nlife.head()\";\n",
       "                var nbb_formatted_code = \"life = pd.read_csv(\\\"data/life_expectancy.csv\\\")\\nlife.head()\";\n",
       "                var nbb_cells = Jupyter.notebook.get_cells();\n",
       "                for (var i = 0; i < nbb_cells.length; ++i) {\n",
       "                    if (nbb_cells[i].input_prompt_number == nbb_cell_id) {\n",
       "                        if (nbb_cells[i].get_text() == nbb_unformatted_code) {\n",
       "                             nbb_cells[i].set_text(nbb_formatted_code);\n",
       "                        }\n",
       "                        break;\n",
       "                    }\n",
       "                }\n",
       "            }, 500);\n",
       "            "
      ],
      "text/plain": [
       "<IPython.core.display.Javascript object>"
      ]
     },
     "metadata": {},
     "output_type": "display_data"
    }
   ],
   "source": [
    "life = pd.read_csv(\"data/life_expectancy.csv\")\n",
    "life.head()"
   ]
  },
  {
   "cell_type": "code",
   "execution_count": 19,
   "metadata": {},
   "outputs": [
    {
     "name": "stdout",
     "output_type": "stream",
     "text": [
      "<class 'pandas.core.frame.DataFrame'>\n",
      "RangeIndex: 264 entries, 0 to 263\n",
      "Data columns (total 61 columns):\n",
      " #   Column          Non-Null Count  Dtype  \n",
      "---  ------          --------------  -----  \n",
      " 0   Country Name    264 non-null    object \n",
      " 1   Country Code    264 non-null    object \n",
      " 2   Indicator Name  264 non-null    object \n",
      " 3   Indicator Code  264 non-null    object \n",
      " 4   1960            235 non-null    float64\n",
      " 5   1961            236 non-null    float64\n",
      " 6   1962            236 non-null    float64\n",
      " 7   1963            235 non-null    float64\n",
      " 8   1964            235 non-null    float64\n",
      " 9   1965            236 non-null    float64\n",
      " 10  1966            236 non-null    float64\n",
      " 11  1967            236 non-null    float64\n",
      " 12  1968            236 non-null    float64\n",
      " 13  1969            236 non-null    float64\n",
      " 14  1970            237 non-null    float64\n",
      " 15  1971            236 non-null    float64\n",
      " 16  1972            236 non-null    float64\n",
      " 17  1973            237 non-null    float64\n",
      " 18  1974            236 non-null    float64\n",
      " 19  1975            236 non-null    float64\n",
      " 20  1976            236 non-null    float64\n",
      " 21  1977            236 non-null    float64\n",
      " 22  1978            238 non-null    float64\n",
      " 23  1979            237 non-null    float64\n",
      " 24  1980            239 non-null    float64\n",
      " 25  1981            239 non-null    float64\n",
      " 26  1982            242 non-null    float64\n",
      " 27  1983            240 non-null    float64\n",
      " 28  1984            240 non-null    float64\n",
      " 29  1985            240 non-null    float64\n",
      " 30  1986            241 non-null    float64\n",
      " 31  1987            244 non-null    float64\n",
      " 32  1988            241 non-null    float64\n",
      " 33  1989            241 non-null    float64\n",
      " 34  1990            243 non-null    float64\n",
      " 35  1991            244 non-null    float64\n",
      " 36  1992            244 non-null    float64\n",
      " 37  1993            242 non-null    float64\n",
      " 38  1994            244 non-null    float64\n",
      " 39  1995            244 non-null    float64\n",
      " 40  1996            243 non-null    float64\n",
      " 41  1997            246 non-null    float64\n",
      " 42  1998            243 non-null    float64\n",
      " 43  1999            244 non-null    float64\n",
      " 44  2000            247 non-null    float64\n",
      " 45  2001            245 non-null    float64\n",
      " 46  2002            248 non-null    float64\n",
      " 47  2003            245 non-null    float64\n",
      " 48  2004            245 non-null    float64\n",
      " 49  2005            246 non-null    float64\n",
      " 50  2006            246 non-null    float64\n",
      " 51  2007            247 non-null    float64\n",
      " 52  2008            247 non-null    float64\n",
      " 53  2009            247 non-null    float64\n",
      " 54  2010            246 non-null    float64\n",
      " 55  2011            246 non-null    float64\n",
      " 56  2012            247 non-null    float64\n",
      " 57  2013            245 non-null    float64\n",
      " 58  2014            245 non-null    float64\n",
      " 59  2015            244 non-null    float64\n",
      " 60  2016            245 non-null    float64\n",
      "dtypes: float64(57), object(4)\n",
      "memory usage: 125.9+ KB\n"
     ]
    },
    {
     "data": {
      "application/javascript": [
       "\n",
       "            setTimeout(function() {\n",
       "                var nbb_cell_id = 19;\n",
       "                var nbb_unformatted_code = \"life.info()\";\n",
       "                var nbb_formatted_code = \"life.info()\";\n",
       "                var nbb_cells = Jupyter.notebook.get_cells();\n",
       "                for (var i = 0; i < nbb_cells.length; ++i) {\n",
       "                    if (nbb_cells[i].input_prompt_number == nbb_cell_id) {\n",
       "                        if (nbb_cells[i].get_text() == nbb_unformatted_code) {\n",
       "                             nbb_cells[i].set_text(nbb_formatted_code);\n",
       "                        }\n",
       "                        break;\n",
       "                    }\n",
       "                }\n",
       "            }, 500);\n",
       "            "
      ],
      "text/plain": [
       "<IPython.core.display.Javascript object>"
      ]
     },
     "metadata": {},
     "output_type": "display_data"
    }
   ],
   "source": [
    "life.info()"
   ]
  },
  {
   "cell_type": "code",
   "execution_count": 20,
   "metadata": {},
   "outputs": [
    {
     "data": {
      "application/javascript": [
       "\n",
       "            setTimeout(function() {\n",
       "                var nbb_cell_id = 20;\n",
       "                var nbb_unformatted_code = \"ids = life.select_dtypes(\\\"O\\\")\\nmelt_fields = life.select_dtypes(\\\"float64\\\")\";\n",
       "                var nbb_formatted_code = \"ids = life.select_dtypes(\\\"O\\\")\\nmelt_fields = life.select_dtypes(\\\"float64\\\")\";\n",
       "                var nbb_cells = Jupyter.notebook.get_cells();\n",
       "                for (var i = 0; i < nbb_cells.length; ++i) {\n",
       "                    if (nbb_cells[i].input_prompt_number == nbb_cell_id) {\n",
       "                        if (nbb_cells[i].get_text() == nbb_unformatted_code) {\n",
       "                             nbb_cells[i].set_text(nbb_formatted_code);\n",
       "                        }\n",
       "                        break;\n",
       "                    }\n",
       "                }\n",
       "            }, 500);\n",
       "            "
      ],
      "text/plain": [
       "<IPython.core.display.Javascript object>"
      ]
     },
     "metadata": {},
     "output_type": "display_data"
    }
   ],
   "source": [
    "ids = life.select_dtypes(\"O\")\n",
    "melt_fields = life.select_dtypes(\"float64\")"
   ]
  },
  {
   "cell_type": "code",
   "execution_count": 21,
   "metadata": {},
   "outputs": [
    {
     "data": {
      "application/javascript": [
       "\n",
       "            setTimeout(function() {\n",
       "                var nbb_cell_id = 21;\n",
       "                var nbb_unformatted_code = \"life_tall = pd.melt(\\n    life,\\n    id_vars=ids,\\n    value_vars=melt_fields,\\n    var_name=\\\"Year\\\",\\n    value_name=\\\"life_expectancy\\\",\\n)\";\n",
       "                var nbb_formatted_code = \"life_tall = pd.melt(\\n    life,\\n    id_vars=ids,\\n    value_vars=melt_fields,\\n    var_name=\\\"Year\\\",\\n    value_name=\\\"life_expectancy\\\",\\n)\";\n",
       "                var nbb_cells = Jupyter.notebook.get_cells();\n",
       "                for (var i = 0; i < nbb_cells.length; ++i) {\n",
       "                    if (nbb_cells[i].input_prompt_number == nbb_cell_id) {\n",
       "                        if (nbb_cells[i].get_text() == nbb_unformatted_code) {\n",
       "                             nbb_cells[i].set_text(nbb_formatted_code);\n",
       "                        }\n",
       "                        break;\n",
       "                    }\n",
       "                }\n",
       "            }, 500);\n",
       "            "
      ],
      "text/plain": [
       "<IPython.core.display.Javascript object>"
      ]
     },
     "metadata": {},
     "output_type": "display_data"
    }
   ],
   "source": [
    "life_tall = pd.melt(\n",
    "    life,\n",
    "    id_vars=ids,\n",
    "    value_vars=melt_fields,\n",
    "    var_name=\"Year\",\n",
    "    value_name=\"life_expectancy\",\n",
    ")"
   ]
  },
  {
   "cell_type": "code",
   "execution_count": 22,
   "metadata": {},
   "outputs": [
    {
     "data": {
      "text/html": [
       "<div>\n",
       "<style scoped>\n",
       "    .dataframe tbody tr th:only-of-type {\n",
       "        vertical-align: middle;\n",
       "    }\n",
       "\n",
       "    .dataframe tbody tr th {\n",
       "        vertical-align: top;\n",
       "    }\n",
       "\n",
       "    .dataframe thead th {\n",
       "        text-align: right;\n",
       "    }\n",
       "</style>\n",
       "<table border=\"1\" class=\"dataframe\">\n",
       "  <thead>\n",
       "    <tr style=\"text-align: right;\">\n",
       "      <th></th>\n",
       "      <th>Country Name</th>\n",
       "      <th>Country Code</th>\n",
       "      <th>Indicator Name</th>\n",
       "      <th>Indicator Code</th>\n",
       "      <th>Year</th>\n",
       "      <th>life_expectancy</th>\n",
       "    </tr>\n",
       "  </thead>\n",
       "  <tbody>\n",
       "    <tr>\n",
       "      <th>0</th>\n",
       "      <td>Aruba</td>\n",
       "      <td>ABW</td>\n",
       "      <td>Life expectancy at birth, total (years)</td>\n",
       "      <td>SP.DYN.LE00.IN</td>\n",
       "      <td>1960</td>\n",
       "      <td>65.662000</td>\n",
       "    </tr>\n",
       "    <tr>\n",
       "      <th>1</th>\n",
       "      <td>Afghanistan</td>\n",
       "      <td>AFG</td>\n",
       "      <td>Life expectancy at birth, total (years)</td>\n",
       "      <td>SP.DYN.LE00.IN</td>\n",
       "      <td>1960</td>\n",
       "      <td>32.292000</td>\n",
       "    </tr>\n",
       "    <tr>\n",
       "      <th>2</th>\n",
       "      <td>Angola</td>\n",
       "      <td>AGO</td>\n",
       "      <td>Life expectancy at birth, total (years)</td>\n",
       "      <td>SP.DYN.LE00.IN</td>\n",
       "      <td>1960</td>\n",
       "      <td>33.251000</td>\n",
       "    </tr>\n",
       "    <tr>\n",
       "      <th>3</th>\n",
       "      <td>Albania</td>\n",
       "      <td>ALB</td>\n",
       "      <td>Life expectancy at birth, total (years)</td>\n",
       "      <td>SP.DYN.LE00.IN</td>\n",
       "      <td>1960</td>\n",
       "      <td>62.279000</td>\n",
       "    </tr>\n",
       "    <tr>\n",
       "      <th>4</th>\n",
       "      <td>Andorra</td>\n",
       "      <td>AND</td>\n",
       "      <td>Life expectancy at birth, total (years)</td>\n",
       "      <td>SP.DYN.LE00.IN</td>\n",
       "      <td>1960</td>\n",
       "      <td>NaN</td>\n",
       "    </tr>\n",
       "    <tr>\n",
       "      <th>...</th>\n",
       "      <td>...</td>\n",
       "      <td>...</td>\n",
       "      <td>...</td>\n",
       "      <td>...</td>\n",
       "      <td>...</td>\n",
       "      <td>...</td>\n",
       "    </tr>\n",
       "    <tr>\n",
       "      <th>15043</th>\n",
       "      <td>Kosovo</td>\n",
       "      <td>XKX</td>\n",
       "      <td>Life expectancy at birth, total (years)</td>\n",
       "      <td>SP.DYN.LE00.IN</td>\n",
       "      <td>2016</td>\n",
       "      <td>71.646341</td>\n",
       "    </tr>\n",
       "    <tr>\n",
       "      <th>15044</th>\n",
       "      <td>Yemen, Rep.</td>\n",
       "      <td>YEM</td>\n",
       "      <td>Life expectancy at birth, total (years)</td>\n",
       "      <td>SP.DYN.LE00.IN</td>\n",
       "      <td>2016</td>\n",
       "      <td>64.953000</td>\n",
       "    </tr>\n",
       "    <tr>\n",
       "      <th>15045</th>\n",
       "      <td>South Africa</td>\n",
       "      <td>ZAF</td>\n",
       "      <td>Life expectancy at birth, total (years)</td>\n",
       "      <td>SP.DYN.LE00.IN</td>\n",
       "      <td>2016</td>\n",
       "      <td>62.774000</td>\n",
       "    </tr>\n",
       "    <tr>\n",
       "      <th>15046</th>\n",
       "      <td>Zambia</td>\n",
       "      <td>ZMB</td>\n",
       "      <td>Life expectancy at birth, total (years)</td>\n",
       "      <td>SP.DYN.LE00.IN</td>\n",
       "      <td>2016</td>\n",
       "      <td>61.874000</td>\n",
       "    </tr>\n",
       "    <tr>\n",
       "      <th>15047</th>\n",
       "      <td>Zimbabwe</td>\n",
       "      <td>ZWE</td>\n",
       "      <td>Life expectancy at birth, total (years)</td>\n",
       "      <td>SP.DYN.LE00.IN</td>\n",
       "      <td>2016</td>\n",
       "      <td>61.163000</td>\n",
       "    </tr>\n",
       "  </tbody>\n",
       "</table>\n",
       "<p>15048 rows × 6 columns</p>\n",
       "</div>"
      ],
      "text/plain": [
       "       Country Name Country Code                           Indicator Name  \\\n",
       "0             Aruba          ABW  Life expectancy at birth, total (years)   \n",
       "1       Afghanistan          AFG  Life expectancy at birth, total (years)   \n",
       "2            Angola          AGO  Life expectancy at birth, total (years)   \n",
       "3           Albania          ALB  Life expectancy at birth, total (years)   \n",
       "4           Andorra          AND  Life expectancy at birth, total (years)   \n",
       "...             ...          ...                                      ...   \n",
       "15043        Kosovo          XKX  Life expectancy at birth, total (years)   \n",
       "15044   Yemen, Rep.          YEM  Life expectancy at birth, total (years)   \n",
       "15045  South Africa          ZAF  Life expectancy at birth, total (years)   \n",
       "15046        Zambia          ZMB  Life expectancy at birth, total (years)   \n",
       "15047      Zimbabwe          ZWE  Life expectancy at birth, total (years)   \n",
       "\n",
       "       Indicator Code  Year  life_expectancy  \n",
       "0      SP.DYN.LE00.IN  1960        65.662000  \n",
       "1      SP.DYN.LE00.IN  1960        32.292000  \n",
       "2      SP.DYN.LE00.IN  1960        33.251000  \n",
       "3      SP.DYN.LE00.IN  1960        62.279000  \n",
       "4      SP.DYN.LE00.IN  1960              NaN  \n",
       "...               ...   ...              ...  \n",
       "15043  SP.DYN.LE00.IN  2016        71.646341  \n",
       "15044  SP.DYN.LE00.IN  2016        64.953000  \n",
       "15045  SP.DYN.LE00.IN  2016        62.774000  \n",
       "15046  SP.DYN.LE00.IN  2016        61.874000  \n",
       "15047  SP.DYN.LE00.IN  2016        61.163000  \n",
       "\n",
       "[15048 rows x 6 columns]"
      ]
     },
     "execution_count": 22,
     "metadata": {},
     "output_type": "execute_result"
    },
    {
     "data": {
      "application/javascript": [
       "\n",
       "            setTimeout(function() {\n",
       "                var nbb_cell_id = 22;\n",
       "                var nbb_unformatted_code = \"life_tall\";\n",
       "                var nbb_formatted_code = \"life_tall\";\n",
       "                var nbb_cells = Jupyter.notebook.get_cells();\n",
       "                for (var i = 0; i < nbb_cells.length; ++i) {\n",
       "                    if (nbb_cells[i].input_prompt_number == nbb_cell_id) {\n",
       "                        if (nbb_cells[i].get_text() == nbb_unformatted_code) {\n",
       "                             nbb_cells[i].set_text(nbb_formatted_code);\n",
       "                        }\n",
       "                        break;\n",
       "                    }\n",
       "                }\n",
       "            }, 500);\n",
       "            "
      ],
      "text/plain": [
       "<IPython.core.display.Javascript object>"
      ]
     },
     "metadata": {},
     "output_type": "display_data"
    }
   ],
   "source": [
    "life_tall"
   ]
  },
  {
   "cell_type": "code",
   "execution_count": 23,
   "metadata": {},
   "outputs": [
    {
     "data": {
      "text/plain": [
       "Costa Rica            57\n",
       "Tuvalu                57\n",
       "Curacao               57\n",
       "Russian Federation    57\n",
       "Angola                57\n",
       "                      ..\n",
       "Australia             57\n",
       "Tonga                 57\n",
       "Puerto Rico           57\n",
       "Korea, Rep.           57\n",
       "Seychelles            57\n",
       "Name: Country Name, Length: 264, dtype: int64"
      ]
     },
     "execution_count": 23,
     "metadata": {},
     "output_type": "execute_result"
    },
    {
     "data": {
      "application/javascript": [
       "\n",
       "            setTimeout(function() {\n",
       "                var nbb_cell_id = 23;\n",
       "                var nbb_unformatted_code = \"life_tall[\\\"Country Name\\\"].value_counts()\";\n",
       "                var nbb_formatted_code = \"life_tall[\\\"Country Name\\\"].value_counts()\";\n",
       "                var nbb_cells = Jupyter.notebook.get_cells();\n",
       "                for (var i = 0; i < nbb_cells.length; ++i) {\n",
       "                    if (nbb_cells[i].input_prompt_number == nbb_cell_id) {\n",
       "                        if (nbb_cells[i].get_text() == nbb_unformatted_code) {\n",
       "                             nbb_cells[i].set_text(nbb_formatted_code);\n",
       "                        }\n",
       "                        break;\n",
       "                    }\n",
       "                }\n",
       "            }, 500);\n",
       "            "
      ],
      "text/plain": [
       "<IPython.core.display.Javascript object>"
      ]
     },
     "metadata": {},
     "output_type": "display_data"
    }
   ],
   "source": [
    "life_tall[\"Country Name\"].value_counts()"
   ]
  },
  {
   "cell_type": "code",
   "execution_count": 24,
   "metadata": {},
   "outputs": [
    {
     "data": {
      "text/plain": [
       "<pandas.core.groupby.generic.DataFrameGroupBy object at 0x0000015681495148>"
      ]
     },
     "execution_count": 24,
     "metadata": {},
     "output_type": "execute_result"
    },
    {
     "data": {
      "application/javascript": [
       "\n",
       "            setTimeout(function() {\n",
       "                var nbb_cell_id = 24;\n",
       "                var nbb_unformatted_code = \"life_tall[[\\\"Country Name\\\", \\\"life_expectancy\\\"]].isna().groupby(\\\"Country Name\\\")\";\n",
       "                var nbb_formatted_code = \"life_tall[[\\\"Country Name\\\", \\\"life_expectancy\\\"]].isna().groupby(\\\"Country Name\\\")\";\n",
       "                var nbb_cells = Jupyter.notebook.get_cells();\n",
       "                for (var i = 0; i < nbb_cells.length; ++i) {\n",
       "                    if (nbb_cells[i].input_prompt_number == nbb_cell_id) {\n",
       "                        if (nbb_cells[i].get_text() == nbb_unformatted_code) {\n",
       "                             nbb_cells[i].set_text(nbb_formatted_code);\n",
       "                        }\n",
       "                        break;\n",
       "                    }\n",
       "                }\n",
       "            }, 500);\n",
       "            "
      ],
      "text/plain": [
       "<IPython.core.display.Javascript object>"
      ]
     },
     "metadata": {},
     "output_type": "display_data"
    }
   ],
   "source": [
    "life_tall[[\"Country Name\", \"life_expectancy\"]].isna().groupby(\"Country Name\")"
   ]
  },
  {
   "cell_type": "code",
   "execution_count": 25,
   "metadata": {},
   "outputs": [
    {
     "data": {
      "application/javascript": [
       "\n",
       "            setTimeout(function() {\n",
       "                var nbb_cell_id = 25;\n",
       "                var nbb_unformatted_code = \"countries = life_tall[\\\"Country Name\\\"].unique()\";\n",
       "                var nbb_formatted_code = \"countries = life_tall[\\\"Country Name\\\"].unique()\";\n",
       "                var nbb_cells = Jupyter.notebook.get_cells();\n",
       "                for (var i = 0; i < nbb_cells.length; ++i) {\n",
       "                    if (nbb_cells[i].input_prompt_number == nbb_cell_id) {\n",
       "                        if (nbb_cells[i].get_text() == nbb_unformatted_code) {\n",
       "                             nbb_cells[i].set_text(nbb_formatted_code);\n",
       "                        }\n",
       "                        break;\n",
       "                    }\n",
       "                }\n",
       "            }, 500);\n",
       "            "
      ],
      "text/plain": [
       "<IPython.core.display.Javascript object>"
      ]
     },
     "metadata": {},
     "output_type": "display_data"
    }
   ],
   "source": [
    "countries = life_tall[\"Country Name\"].unique()"
   ]
  },
  {
   "cell_type": "code",
   "execution_count": 26,
   "metadata": {},
   "outputs": [
    {
     "data": {
      "text/plain": [
       "0"
      ]
     },
     "execution_count": 26,
     "metadata": {},
     "output_type": "execute_result"
    },
    {
     "data": {
      "application/javascript": [
       "\n",
       "            setTimeout(function() {\n",
       "                var nbb_cell_id = 26;\n",
       "                var nbb_unformatted_code = \"life_tall.loc[life_tall[\\\"Country Name\\\"] == \\\"Zambia\\\"][\\\"life_expectancy\\\"].isna().sum()\";\n",
       "                var nbb_formatted_code = \"life_tall.loc[life_tall[\\\"Country Name\\\"] == \\\"Zambia\\\"][\\\"life_expectancy\\\"].isna().sum()\";\n",
       "                var nbb_cells = Jupyter.notebook.get_cells();\n",
       "                for (var i = 0; i < nbb_cells.length; ++i) {\n",
       "                    if (nbb_cells[i].input_prompt_number == nbb_cell_id) {\n",
       "                        if (nbb_cells[i].get_text() == nbb_unformatted_code) {\n",
       "                             nbb_cells[i].set_text(nbb_formatted_code);\n",
       "                        }\n",
       "                        break;\n",
       "                    }\n",
       "                }\n",
       "            }, 500);\n",
       "            "
      ],
      "text/plain": [
       "<IPython.core.display.Javascript object>"
      ]
     },
     "metadata": {},
     "output_type": "display_data"
    }
   ],
   "source": [
    "life_tall.loc[life_tall[\"Country Name\"] == \"Zambia\"][\"life_expectancy\"].isna().sum()"
   ]
  },
  {
   "cell_type": "code",
   "execution_count": 27,
   "metadata": {},
   "outputs": [
    {
     "name": "stdout",
     "output_type": "stream",
     "text": [
      "Aruba: 0 nan's\n",
      "Afghanistan: 0 nan's\n",
      "Angola: 0 nan's\n",
      "Albania: 0 nan's\n",
      "Andorra: 57 nan's\n",
      "Arab World: 0 nan's\n",
      "United Arab Emirates: 0 nan's\n",
      "Argentina: 0 nan's\n",
      "Armenia: 0 nan's\n",
      "American Samoa: 57 nan's\n",
      "Antigua and Barbuda: 0 nan's\n",
      "Australia: 0 nan's\n",
      "Austria: 0 nan's\n",
      "Azerbaijan: 0 nan's\n",
      "Burundi: 0 nan's\n",
      "Belgium: 0 nan's\n",
      "Benin: 0 nan's\n",
      "Burkina Faso: 0 nan's\n",
      "Bangladesh: 0 nan's\n",
      "Bulgaria: 0 nan's\n",
      "Bahrain: 0 nan's\n",
      "Bahamas, The: 0 nan's\n",
      "Bosnia and Herzegovina: 0 nan's\n",
      "Belarus: 0 nan's\n",
      "Belize: 0 nan's\n",
      "Bermuda: 36 nan's\n",
      "Bolivia: 0 nan's\n",
      "Brazil: 0 nan's\n",
      "Barbados: 0 nan's\n",
      "Brunei Darussalam: 0 nan's\n",
      "Bhutan: 0 nan's\n",
      "Botswana: 0 nan's\n",
      "Central African Republic: 0 nan's\n",
      "Canada: 0 nan's\n",
      "Central Europe and the Baltics: 0 nan's\n",
      "Switzerland: 0 nan's\n",
      "Channel Islands: 0 nan's\n",
      "Chile: 0 nan's\n",
      "China: 0 nan's\n",
      "Cote d'Ivoire: 0 nan's\n",
      "Cameroon: 0 nan's\n",
      "Congo, Dem. Rep.: 0 nan's\n",
      "Congo, Rep.: 0 nan's\n",
      "Colombia: 0 nan's\n",
      "Comoros: 0 nan's\n",
      "Cabo Verde: 0 nan's\n",
      "Costa Rica: 0 nan's\n",
      "Caribbean small states: 0 nan's\n",
      "Cuba: 0 nan's\n",
      "Curacao: 50 nan's\n",
      "Cayman Islands: 56 nan's\n",
      "Cyprus: 0 nan's\n",
      "Czech Republic: 0 nan's\n",
      "Germany: 0 nan's\n",
      "Djibouti: 0 nan's\n",
      "Dominica: 52 nan's\n",
      "Denmark: 0 nan's\n",
      "Dominican Republic: 0 nan's\n",
      "Algeria: 0 nan's\n",
      "East Asia & Pacific (excluding high income): 0 nan's\n",
      "Early-demographic dividend: 0 nan's\n",
      "East Asia & Pacific: 0 nan's\n",
      "Europe & Central Asia (excluding high income): 0 nan's\n",
      "Europe & Central Asia: 0 nan's\n",
      "Ecuador: 0 nan's\n",
      "Egypt, Arab Rep.: 0 nan's\n",
      "Euro area: 0 nan's\n",
      "Eritrea: 0 nan's\n",
      "Spain: 0 nan's\n",
      "Estonia: 0 nan's\n",
      "Ethiopia: 0 nan's\n",
      "European Union: 0 nan's\n",
      "Fragile and conflict affected situations: 0 nan's\n",
      "Finland: 0 nan's\n",
      "Fiji: 0 nan's\n",
      "France: 0 nan's\n",
      "Faroe Islands: 24 nan's\n",
      "Micronesia, Fed. Sts.: 0 nan's\n",
      "Gabon: 0 nan's\n",
      "United Kingdom: 0 nan's\n",
      "Georgia: 0 nan's\n",
      "Ghana: 0 nan's\n",
      "Gibraltar: 57 nan's\n",
      "Guinea: 0 nan's\n",
      "Gambia, The: 0 nan's\n",
      "Guinea-Bissau: 0 nan's\n",
      "Equatorial Guinea: 0 nan's\n",
      "Greece: 0 nan's\n",
      "Grenada: 0 nan's\n",
      "Greenland: 21 nan's\n",
      "Guatemala: 0 nan's\n",
      "Guam: 0 nan's\n",
      "Guyana: 0 nan's\n",
      "High income: 0 nan's\n",
      "Hong Kong SAR, China: 0 nan's\n",
      "Honduras: 0 nan's\n",
      "Heavily indebted poor countries (HIPC): 0 nan's\n",
      "Croatia: 0 nan's\n",
      "Haiti: 0 nan's\n",
      "Hungary: 0 nan's\n",
      "IBRD only: 0 nan's\n",
      "IDA & IBRD total: 0 nan's\n",
      "IDA total: 0 nan's\n",
      "IDA blend: 0 nan's\n",
      "Indonesia: 0 nan's\n",
      "IDA only: 0 nan's\n",
      "Isle of Man: 55 nan's\n",
      "India: 0 nan's\n",
      "Not classified: 57 nan's\n",
      "Ireland: 0 nan's\n",
      "Iran, Islamic Rep.: 0 nan's\n",
      "Iraq: 0 nan's\n",
      "Iceland: 0 nan's\n",
      "Israel: 4 nan's\n",
      "Italy: 0 nan's\n",
      "Jamaica: 0 nan's\n",
      "Jordan: 0 nan's\n",
      "Japan: 0 nan's\n",
      "Kazakhstan: 0 nan's\n",
      "Kenya: 0 nan's\n",
      "Kyrgyz Republic: 0 nan's\n",
      "Cambodia: 0 nan's\n",
      "Kiribati: 0 nan's\n",
      "St. Kitts and Nevis: 52 nan's\n",
      "Korea, Rep.: 0 nan's\n",
      "Kuwait: 0 nan's\n",
      "Latin America & Caribbean (excluding high income): 0 nan's\n",
      "Lao PDR: 0 nan's\n",
      "Lebanon: 0 nan's\n",
      "Liberia: 0 nan's\n",
      "Libya: 0 nan's\n",
      "St. Lucia: 0 nan's\n",
      "Latin America & Caribbean: 0 nan's\n",
      "Least developed countries: UN classification: 0 nan's\n",
      "Low income: 0 nan's\n",
      "Liechtenstein: 34 nan's\n",
      "Sri Lanka: 0 nan's\n",
      "Lower middle income: 0 nan's\n",
      "Low & middle income: 0 nan's\n",
      "Lesotho: 0 nan's\n",
      "Late-demographic dividend: 0 nan's\n",
      "Lithuania: 0 nan's\n",
      "Luxembourg: 0 nan's\n",
      "Latvia: 0 nan's\n",
      "Macao SAR, China: 0 nan's\n",
      "St. Martin (French part): 22 nan's\n",
      "Morocco: 0 nan's\n",
      "Monaco: 57 nan's\n",
      "Moldova: 0 nan's\n",
      "Madagascar: 0 nan's\n",
      "Maldives: 0 nan's\n",
      "Middle East & North Africa: 0 nan's\n",
      "Mexico: 0 nan's\n",
      "Marshall Islands: 54 nan's\n",
      "Middle income: 0 nan's\n",
      "Macedonia, FYR: 0 nan's\n",
      "Mali: 0 nan's\n",
      "Malta: 0 nan's\n",
      "Myanmar: 0 nan's\n",
      "Middle East & North Africa (excluding high income): 0 nan's\n",
      "Montenegro: 0 nan's\n",
      "Mongolia: 0 nan's\n",
      "Northern Mariana Islands: 57 nan's\n",
      "Mozambique: 0 nan's\n",
      "Mauritania: 0 nan's\n",
      "Mauritius: 0 nan's\n",
      "Malawi: 0 nan's\n",
      "Malaysia: 0 nan's\n",
      "North America: 0 nan's\n",
      "Namibia: 0 nan's\n",
      "New Caledonia: 0 nan's\n",
      "Niger: 0 nan's\n",
      "Nigeria: 0 nan's\n",
      "Nicaragua: 0 nan's\n",
      "Netherlands: 0 nan's\n",
      "Norway: 0 nan's\n",
      "Nepal: 0 nan's\n",
      "Nauru: 57 nan's\n",
      "New Zealand: 0 nan's\n",
      "OECD members: 0 nan's\n",
      "Oman: 0 nan's\n",
      "Other small states: 0 nan's\n",
      "Pakistan: 0 nan's\n",
      "Panama: 0 nan's\n",
      "Peru: 0 nan's\n",
      "Philippines: 0 nan's\n",
      "Palau: 53 nan's\n",
      "Papua New Guinea: 0 nan's\n",
      "Poland: 0 nan's\n",
      "Pre-demographic dividend: 0 nan's\n",
      "Puerto Rico: 0 nan's\n",
      "Korea, Dem. People’s Rep.: 0 nan's\n",
      "Portugal: 0 nan's\n",
      "Paraguay: 0 nan's\n",
      "West Bank and Gaza: 30 nan's\n",
      "Pacific island small states: 0 nan's\n",
      "Post-demographic dividend: 0 nan's\n",
      "French Polynesia: 0 nan's\n",
      "Qatar: 0 nan's\n",
      "Romania: 0 nan's\n",
      "Russian Federation: 0 nan's\n",
      "Rwanda: 0 nan's\n",
      "South Asia: 0 nan's\n",
      "Saudi Arabia: 0 nan's\n",
      "Sudan: 0 nan's\n",
      "Senegal: 0 nan's\n",
      "Singapore: 0 nan's\n",
      "Solomon Islands: 0 nan's\n",
      "Sierra Leone: 0 nan's\n",
      "El Salvador: 0 nan's\n",
      "San Marino: 56 nan's\n",
      "Somalia: 0 nan's\n",
      "Serbia: 38 nan's\n",
      "Sub-Saharan Africa (excluding high income): 0 nan's\n",
      "South Sudan: 0 nan's\n",
      "Sub-Saharan Africa: 0 nan's\n",
      "Small states: 0 nan's\n",
      "Sao Tome and Principe: 0 nan's\n",
      "Suriname: 0 nan's\n",
      "Slovak Republic: 0 nan's\n",
      "Slovenia: 0 nan's\n",
      "Sweden: 0 nan's\n",
      "Swaziland: 0 nan's\n",
      "Sint Maarten (Dutch part): 53 nan's\n",
      "Seychelles: 20 nan's\n",
      "Syrian Arab Republic: 0 nan's\n",
      "Turks and Caicos Islands: 57 nan's\n",
      "Chad: 0 nan's\n",
      "East Asia & Pacific (IDA & IBRD countries): 0 nan's\n",
      "Europe & Central Asia (IDA & IBRD countries): 0 nan's\n",
      "Togo: 0 nan's\n",
      "Thailand: 0 nan's\n",
      "Tajikistan: 0 nan's\n",
      "Turkmenistan: 0 nan's\n",
      "Latin America & the Caribbean (IDA & IBRD countries): 0 nan's\n",
      "Timor-Leste: 0 nan's\n",
      "Middle East & North Africa (IDA & IBRD countries): 0 nan's\n",
      "Tonga: 0 nan's\n",
      "South Asia (IDA & IBRD): 0 nan's\n",
      "Sub-Saharan Africa (IDA & IBRD countries): 0 nan's\n",
      "Trinidad and Tobago: 0 nan's\n",
      "Tunisia: 0 nan's\n",
      "Turkey: 0 nan's\n",
      "Tuvalu: 57 nan's\n",
      "Tanzania: 0 nan's\n",
      "Uganda: 0 nan's\n",
      "Ukraine: 0 nan's\n",
      "Upper middle income: 0 nan's\n",
      "Uruguay: 0 nan's\n",
      "United States: 0 nan's\n",
      "Uzbekistan: 0 nan's\n",
      "St. Vincent and the Grenadines: 0 nan's\n",
      "Venezuela, RB: 0 nan's\n",
      "British Virgin Islands: 57 nan's\n",
      "Virgin Islands (U.S.): 0 nan's\n",
      "Vietnam: 0 nan's\n",
      "Vanuatu: 0 nan's\n",
      "World: 0 nan's\n",
      "Samoa: 0 nan's\n",
      "Kosovo: 21 nan's\n",
      "Yemen, Rep.: 0 nan's\n",
      "South Africa: 0 nan's\n",
      "Zambia: 0 nan's\n",
      "Zimbabwe: 0 nan's\n",
      "['Andorra', 'American Samoa', 'Bermuda', 'Curacao', 'Cayman Islands', 'Dominica', 'Faroe Islands', 'Gibraltar', 'Greenland', 'Isle of Man', 'Not classified', 'Israel', 'St. Kitts and Nevis', 'Liechtenstein', 'St. Martin (French part)', 'Monaco', 'Marshall Islands', 'Northern Mariana Islands', 'Nauru', 'Palau', 'West Bank and Gaza', 'San Marino', 'Serbia', 'Sint Maarten (Dutch part)', 'Seychelles', 'Turks and Caicos Islands', 'Tuvalu', 'British Virgin Islands', 'Kosovo']\n",
      "29\n"
     ]
    },
    {
     "data": {
      "application/javascript": [
       "\n",
       "            setTimeout(function() {\n",
       "                var nbb_cell_id = 27;\n",
       "                var nbb_unformatted_code = \"missing_countries = []\\nfor country in countries:\\n    num_missing = (\\n        life_tall.loc[life_tall[\\\"Country Name\\\"] == country][\\\"life_expectancy\\\"]\\n        .isna()\\n        .sum()\\n    )\\n    if num_missing > 0:\\n        missing_countries.append(country)\\n\\n    print(f\\\"{country}: {num_missing} nan's\\\")\\nprint(missing_countries)\\nprint(len(missing_countries))\";\n",
       "                var nbb_formatted_code = \"missing_countries = []\\nfor country in countries:\\n    num_missing = (\\n        life_tall.loc[life_tall[\\\"Country Name\\\"] == country][\\\"life_expectancy\\\"]\\n        .isna()\\n        .sum()\\n    )\\n    if num_missing > 0:\\n        missing_countries.append(country)\\n\\n    print(f\\\"{country}: {num_missing} nan's\\\")\\nprint(missing_countries)\\nprint(len(missing_countries))\";\n",
       "                var nbb_cells = Jupyter.notebook.get_cells();\n",
       "                for (var i = 0; i < nbb_cells.length; ++i) {\n",
       "                    if (nbb_cells[i].input_prompt_number == nbb_cell_id) {\n",
       "                        if (nbb_cells[i].get_text() == nbb_unformatted_code) {\n",
       "                             nbb_cells[i].set_text(nbb_formatted_code);\n",
       "                        }\n",
       "                        break;\n",
       "                    }\n",
       "                }\n",
       "            }, 500);\n",
       "            "
      ],
      "text/plain": [
       "<IPython.core.display.Javascript object>"
      ]
     },
     "metadata": {},
     "output_type": "display_data"
    }
   ],
   "source": [
    "missing_countries = []\n",
    "for country in countries:\n",
    "    num_missing = (\n",
    "        life_tall.loc[life_tall[\"Country Name\"] == country][\"life_expectancy\"]\n",
    "        .isna()\n",
    "        .sum()\n",
    "    )\n",
    "    if num_missing > 0:\n",
    "        missing_countries.append(country)\n",
    "\n",
    "    print(f\"{country}: {num_missing} nan's\")\n",
    "print(missing_countries)\n",
    "print(len(missing_countries))"
   ]
  },
  {
   "cell_type": "code",
   "execution_count": 28,
   "metadata": {},
   "outputs": [
    {
     "data": {
      "text/plain": [
       "Country Name          0\n",
       "Country Code          0\n",
       "Indicator Name        0\n",
       "Indicator Code        0\n",
       "Year                  0\n",
       "life_expectancy    1301\n",
       "dtype: int64"
      ]
     },
     "execution_count": 28,
     "metadata": {},
     "output_type": "execute_result"
    },
    {
     "data": {
      "application/javascript": [
       "\n",
       "            setTimeout(function() {\n",
       "                var nbb_cell_id = 28;\n",
       "                var nbb_unformatted_code = \"life_tall.isna().sum()\";\n",
       "                var nbb_formatted_code = \"life_tall.isna().sum()\";\n",
       "                var nbb_cells = Jupyter.notebook.get_cells();\n",
       "                for (var i = 0; i < nbb_cells.length; ++i) {\n",
       "                    if (nbb_cells[i].input_prompt_number == nbb_cell_id) {\n",
       "                        if (nbb_cells[i].get_text() == nbb_unformatted_code) {\n",
       "                             nbb_cells[i].set_text(nbb_formatted_code);\n",
       "                        }\n",
       "                        break;\n",
       "                    }\n",
       "                }\n",
       "            }, 500);\n",
       "            "
      ],
      "text/plain": [
       "<IPython.core.display.Javascript object>"
      ]
     },
     "metadata": {},
     "output_type": "display_data"
    }
   ],
   "source": [
    "life_tall.isna().sum()"
   ]
  },
  {
   "cell_type": "code",
   "execution_count": 29,
   "metadata": {},
   "outputs": [
    {
     "data": {
      "text/html": [
       "<div>\n",
       "<style scoped>\n",
       "    .dataframe tbody tr th:only-of-type {\n",
       "        vertical-align: middle;\n",
       "    }\n",
       "\n",
       "    .dataframe tbody tr th {\n",
       "        vertical-align: top;\n",
       "    }\n",
       "\n",
       "    .dataframe thead th {\n",
       "        text-align: right;\n",
       "    }\n",
       "</style>\n",
       "<table border=\"1\" class=\"dataframe\">\n",
       "  <thead>\n",
       "    <tr style=\"text-align: right;\">\n",
       "      <th></th>\n",
       "      <th>Country Name</th>\n",
       "      <th>Country Code</th>\n",
       "      <th>Indicator Name</th>\n",
       "      <th>Indicator Code</th>\n",
       "      <th>Year</th>\n",
       "      <th>life_expectancy</th>\n",
       "    </tr>\n",
       "  </thead>\n",
       "  <tbody>\n",
       "    <tr>\n",
       "      <th>0</th>\n",
       "      <td>Aruba</td>\n",
       "      <td>ABW</td>\n",
       "      <td>Life expectancy at birth, total (years)</td>\n",
       "      <td>SP.DYN.LE00.IN</td>\n",
       "      <td>1960</td>\n",
       "      <td>65.662000</td>\n",
       "    </tr>\n",
       "    <tr>\n",
       "      <th>1</th>\n",
       "      <td>Afghanistan</td>\n",
       "      <td>AFG</td>\n",
       "      <td>Life expectancy at birth, total (years)</td>\n",
       "      <td>SP.DYN.LE00.IN</td>\n",
       "      <td>1960</td>\n",
       "      <td>32.292000</td>\n",
       "    </tr>\n",
       "    <tr>\n",
       "      <th>2</th>\n",
       "      <td>Angola</td>\n",
       "      <td>AGO</td>\n",
       "      <td>Life expectancy at birth, total (years)</td>\n",
       "      <td>SP.DYN.LE00.IN</td>\n",
       "      <td>1960</td>\n",
       "      <td>33.251000</td>\n",
       "    </tr>\n",
       "    <tr>\n",
       "      <th>3</th>\n",
       "      <td>Albania</td>\n",
       "      <td>ALB</td>\n",
       "      <td>Life expectancy at birth, total (years)</td>\n",
       "      <td>SP.DYN.LE00.IN</td>\n",
       "      <td>1960</td>\n",
       "      <td>62.279000</td>\n",
       "    </tr>\n",
       "    <tr>\n",
       "      <th>4</th>\n",
       "      <td>Andorra</td>\n",
       "      <td>AND</td>\n",
       "      <td>Life expectancy at birth, total (years)</td>\n",
       "      <td>SP.DYN.LE00.IN</td>\n",
       "      <td>1960</td>\n",
       "      <td>NaN</td>\n",
       "    </tr>\n",
       "    <tr>\n",
       "      <th>...</th>\n",
       "      <td>...</td>\n",
       "      <td>...</td>\n",
       "      <td>...</td>\n",
       "      <td>...</td>\n",
       "      <td>...</td>\n",
       "      <td>...</td>\n",
       "    </tr>\n",
       "    <tr>\n",
       "      <th>15043</th>\n",
       "      <td>Kosovo</td>\n",
       "      <td>XKX</td>\n",
       "      <td>Life expectancy at birth, total (years)</td>\n",
       "      <td>SP.DYN.LE00.IN</td>\n",
       "      <td>2016</td>\n",
       "      <td>71.646341</td>\n",
       "    </tr>\n",
       "    <tr>\n",
       "      <th>15044</th>\n",
       "      <td>Yemen, Rep.</td>\n",
       "      <td>YEM</td>\n",
       "      <td>Life expectancy at birth, total (years)</td>\n",
       "      <td>SP.DYN.LE00.IN</td>\n",
       "      <td>2016</td>\n",
       "      <td>64.953000</td>\n",
       "    </tr>\n",
       "    <tr>\n",
       "      <th>15045</th>\n",
       "      <td>South Africa</td>\n",
       "      <td>ZAF</td>\n",
       "      <td>Life expectancy at birth, total (years)</td>\n",
       "      <td>SP.DYN.LE00.IN</td>\n",
       "      <td>2016</td>\n",
       "      <td>62.774000</td>\n",
       "    </tr>\n",
       "    <tr>\n",
       "      <th>15046</th>\n",
       "      <td>Zambia</td>\n",
       "      <td>ZMB</td>\n",
       "      <td>Life expectancy at birth, total (years)</td>\n",
       "      <td>SP.DYN.LE00.IN</td>\n",
       "      <td>2016</td>\n",
       "      <td>61.874000</td>\n",
       "    </tr>\n",
       "    <tr>\n",
       "      <th>15047</th>\n",
       "      <td>Zimbabwe</td>\n",
       "      <td>ZWE</td>\n",
       "      <td>Life expectancy at birth, total (years)</td>\n",
       "      <td>SP.DYN.LE00.IN</td>\n",
       "      <td>2016</td>\n",
       "      <td>61.163000</td>\n",
       "    </tr>\n",
       "  </tbody>\n",
       "</table>\n",
       "<p>15048 rows × 6 columns</p>\n",
       "</div>"
      ],
      "text/plain": [
       "       Country Name Country Code                           Indicator Name  \\\n",
       "0             Aruba          ABW  Life expectancy at birth, total (years)   \n",
       "1       Afghanistan          AFG  Life expectancy at birth, total (years)   \n",
       "2            Angola          AGO  Life expectancy at birth, total (years)   \n",
       "3           Albania          ALB  Life expectancy at birth, total (years)   \n",
       "4           Andorra          AND  Life expectancy at birth, total (years)   \n",
       "...             ...          ...                                      ...   \n",
       "15043        Kosovo          XKX  Life expectancy at birth, total (years)   \n",
       "15044   Yemen, Rep.          YEM  Life expectancy at birth, total (years)   \n",
       "15045  South Africa          ZAF  Life expectancy at birth, total (years)   \n",
       "15046        Zambia          ZMB  Life expectancy at birth, total (years)   \n",
       "15047      Zimbabwe          ZWE  Life expectancy at birth, total (years)   \n",
       "\n",
       "       Indicator Code  Year  life_expectancy  \n",
       "0      SP.DYN.LE00.IN  1960        65.662000  \n",
       "1      SP.DYN.LE00.IN  1960        32.292000  \n",
       "2      SP.DYN.LE00.IN  1960        33.251000  \n",
       "3      SP.DYN.LE00.IN  1960        62.279000  \n",
       "4      SP.DYN.LE00.IN  1960              NaN  \n",
       "...               ...   ...              ...  \n",
       "15043  SP.DYN.LE00.IN  2016        71.646341  \n",
       "15044  SP.DYN.LE00.IN  2016        64.953000  \n",
       "15045  SP.DYN.LE00.IN  2016        62.774000  \n",
       "15046  SP.DYN.LE00.IN  2016        61.874000  \n",
       "15047  SP.DYN.LE00.IN  2016        61.163000  \n",
       "\n",
       "[15048 rows x 6 columns]"
      ]
     },
     "execution_count": 29,
     "metadata": {},
     "output_type": "execute_result"
    },
    {
     "data": {
      "application/javascript": [
       "\n",
       "            setTimeout(function() {\n",
       "                var nbb_cell_id = 29;\n",
       "                var nbb_unformatted_code = \"life_tall\";\n",
       "                var nbb_formatted_code = \"life_tall\";\n",
       "                var nbb_cells = Jupyter.notebook.get_cells();\n",
       "                for (var i = 0; i < nbb_cells.length; ++i) {\n",
       "                    if (nbb_cells[i].input_prompt_number == nbb_cell_id) {\n",
       "                        if (nbb_cells[i].get_text() == nbb_unformatted_code) {\n",
       "                             nbb_cells[i].set_text(nbb_formatted_code);\n",
       "                        }\n",
       "                        break;\n",
       "                    }\n",
       "                }\n",
       "            }, 500);\n",
       "            "
      ],
      "text/plain": [
       "<IPython.core.display.Javascript object>"
      ]
     },
     "metadata": {},
     "output_type": "display_data"
    }
   ],
   "source": [
    "life_tall"
   ]
  },
  {
   "cell_type": "code",
   "execution_count": 30,
   "metadata": {},
   "outputs": [
    {
     "data": {
      "text/plain": [
       "57"
      ]
     },
     "execution_count": 30,
     "metadata": {},
     "output_type": "execute_result"
    },
    {
     "data": {
      "application/javascript": [
       "\n",
       "            setTimeout(function() {\n",
       "                var nbb_cell_id = 30;\n",
       "                var nbb_unformatted_code = \"life_tall.loc[life_tall[\\\"Country Name\\\"] == \\\"Andorra\\\"][\\\"life_expectancy\\\"].isna().sum()\";\n",
       "                var nbb_formatted_code = \"life_tall.loc[life_tall[\\\"Country Name\\\"] == \\\"Andorra\\\"][\\\"life_expectancy\\\"].isna().sum()\";\n",
       "                var nbb_cells = Jupyter.notebook.get_cells();\n",
       "                for (var i = 0; i < nbb_cells.length; ++i) {\n",
       "                    if (nbb_cells[i].input_prompt_number == nbb_cell_id) {\n",
       "                        if (nbb_cells[i].get_text() == nbb_unformatted_code) {\n",
       "                             nbb_cells[i].set_text(nbb_formatted_code);\n",
       "                        }\n",
       "                        break;\n",
       "                    }\n",
       "                }\n",
       "            }, 500);\n",
       "            "
      ],
      "text/plain": [
       "<IPython.core.display.Javascript object>"
      ]
     },
     "metadata": {},
     "output_type": "display_data"
    }
   ],
   "source": [
    "life_tall.loc[life_tall[\"Country Name\"] == \"Andorra\"][\"life_expectancy\"].isna().sum()"
   ]
  },
  {
   "cell_type": "code",
   "execution_count": 31,
   "metadata": {},
   "outputs": [
    {
     "data": {
      "text/html": [
       "<div>\n",
       "<style scoped>\n",
       "    .dataframe tbody tr th:only-of-type {\n",
       "        vertical-align: middle;\n",
       "    }\n",
       "\n",
       "    .dataframe tbody tr th {\n",
       "        vertical-align: top;\n",
       "    }\n",
       "\n",
       "    .dataframe thead th {\n",
       "        text-align: right;\n",
       "    }\n",
       "</style>\n",
       "<table border=\"1\" class=\"dataframe\">\n",
       "  <thead>\n",
       "    <tr style=\"text-align: right;\">\n",
       "      <th></th>\n",
       "      <th>Country Name</th>\n",
       "      <th>Country Code</th>\n",
       "      <th>Indicator Name</th>\n",
       "      <th>Indicator Code</th>\n",
       "      <th>Year</th>\n",
       "      <th>life_expectancy</th>\n",
       "    </tr>\n",
       "  </thead>\n",
       "  <tbody>\n",
       "    <tr>\n",
       "      <th>4</th>\n",
       "      <td>Andorra</td>\n",
       "      <td>AND</td>\n",
       "      <td>Life expectancy at birth, total (years)</td>\n",
       "      <td>SP.DYN.LE00.IN</td>\n",
       "      <td>1960</td>\n",
       "      <td>NaN</td>\n",
       "    </tr>\n",
       "    <tr>\n",
       "      <th>9</th>\n",
       "      <td>American Samoa</td>\n",
       "      <td>ASM</td>\n",
       "      <td>Life expectancy at birth, total (years)</td>\n",
       "      <td>SP.DYN.LE00.IN</td>\n",
       "      <td>1960</td>\n",
       "      <td>NaN</td>\n",
       "    </tr>\n",
       "    <tr>\n",
       "      <th>25</th>\n",
       "      <td>Bermuda</td>\n",
       "      <td>BMU</td>\n",
       "      <td>Life expectancy at birth, total (years)</td>\n",
       "      <td>SP.DYN.LE00.IN</td>\n",
       "      <td>1960</td>\n",
       "      <td>NaN</td>\n",
       "    </tr>\n",
       "    <tr>\n",
       "      <th>49</th>\n",
       "      <td>Curacao</td>\n",
       "      <td>CUW</td>\n",
       "      <td>Life expectancy at birth, total (years)</td>\n",
       "      <td>SP.DYN.LE00.IN</td>\n",
       "      <td>1960</td>\n",
       "      <td>NaN</td>\n",
       "    </tr>\n",
       "    <tr>\n",
       "      <th>50</th>\n",
       "      <td>Cayman Islands</td>\n",
       "      <td>CYM</td>\n",
       "      <td>Life expectancy at birth, total (years)</td>\n",
       "      <td>SP.DYN.LE00.IN</td>\n",
       "      <td>1960</td>\n",
       "      <td>NaN</td>\n",
       "    </tr>\n",
       "    <tr>\n",
       "      <th>...</th>\n",
       "      <td>...</td>\n",
       "      <td>...</td>\n",
       "      <td>...</td>\n",
       "      <td>...</td>\n",
       "      <td>...</td>\n",
       "      <td>...</td>\n",
       "    </tr>\n",
       "    <tr>\n",
       "      <th>14994</th>\n",
       "      <td>San Marino</td>\n",
       "      <td>SMR</td>\n",
       "      <td>Life expectancy at birth, total (years)</td>\n",
       "      <td>SP.DYN.LE00.IN</td>\n",
       "      <td>2016</td>\n",
       "      <td>NaN</td>\n",
       "    </tr>\n",
       "    <tr>\n",
       "      <th>15007</th>\n",
       "      <td>Sint Maarten (Dutch part)</td>\n",
       "      <td>SXM</td>\n",
       "      <td>Life expectancy at birth, total (years)</td>\n",
       "      <td>SP.DYN.LE00.IN</td>\n",
       "      <td>2016</td>\n",
       "      <td>NaN</td>\n",
       "    </tr>\n",
       "    <tr>\n",
       "      <th>15010</th>\n",
       "      <td>Turks and Caicos Islands</td>\n",
       "      <td>TCA</td>\n",
       "      <td>Life expectancy at birth, total (years)</td>\n",
       "      <td>SP.DYN.LE00.IN</td>\n",
       "      <td>2016</td>\n",
       "      <td>NaN</td>\n",
       "    </tr>\n",
       "    <tr>\n",
       "      <th>15027</th>\n",
       "      <td>Tuvalu</td>\n",
       "      <td>TUV</td>\n",
       "      <td>Life expectancy at birth, total (years)</td>\n",
       "      <td>SP.DYN.LE00.IN</td>\n",
       "      <td>2016</td>\n",
       "      <td>NaN</td>\n",
       "    </tr>\n",
       "    <tr>\n",
       "      <th>15037</th>\n",
       "      <td>British Virgin Islands</td>\n",
       "      <td>VGB</td>\n",
       "      <td>Life expectancy at birth, total (years)</td>\n",
       "      <td>SP.DYN.LE00.IN</td>\n",
       "      <td>2016</td>\n",
       "      <td>NaN</td>\n",
       "    </tr>\n",
       "  </tbody>\n",
       "</table>\n",
       "<p>1301 rows × 6 columns</p>\n",
       "</div>"
      ],
      "text/plain": [
       "                    Country Name Country Code  \\\n",
       "4                        Andorra          AND   \n",
       "9                 American Samoa          ASM   \n",
       "25                       Bermuda          BMU   \n",
       "49                       Curacao          CUW   \n",
       "50                Cayman Islands          CYM   \n",
       "...                          ...          ...   \n",
       "14994                 San Marino          SMR   \n",
       "15007  Sint Maarten (Dutch part)          SXM   \n",
       "15010   Turks and Caicos Islands          TCA   \n",
       "15027                     Tuvalu          TUV   \n",
       "15037     British Virgin Islands          VGB   \n",
       "\n",
       "                                Indicator Name  Indicator Code  Year  \\\n",
       "4      Life expectancy at birth, total (years)  SP.DYN.LE00.IN  1960   \n",
       "9      Life expectancy at birth, total (years)  SP.DYN.LE00.IN  1960   \n",
       "25     Life expectancy at birth, total (years)  SP.DYN.LE00.IN  1960   \n",
       "49     Life expectancy at birth, total (years)  SP.DYN.LE00.IN  1960   \n",
       "50     Life expectancy at birth, total (years)  SP.DYN.LE00.IN  1960   \n",
       "...                                        ...             ...   ...   \n",
       "14994  Life expectancy at birth, total (years)  SP.DYN.LE00.IN  2016   \n",
       "15007  Life expectancy at birth, total (years)  SP.DYN.LE00.IN  2016   \n",
       "15010  Life expectancy at birth, total (years)  SP.DYN.LE00.IN  2016   \n",
       "15027  Life expectancy at birth, total (years)  SP.DYN.LE00.IN  2016   \n",
       "15037  Life expectancy at birth, total (years)  SP.DYN.LE00.IN  2016   \n",
       "\n",
       "       life_expectancy  \n",
       "4                  NaN  \n",
       "9                  NaN  \n",
       "25                 NaN  \n",
       "49                 NaN  \n",
       "50                 NaN  \n",
       "...                ...  \n",
       "14994              NaN  \n",
       "15007              NaN  \n",
       "15010              NaN  \n",
       "15027              NaN  \n",
       "15037              NaN  \n",
       "\n",
       "[1301 rows x 6 columns]"
      ]
     },
     "execution_count": 31,
     "metadata": {},
     "output_type": "execute_result"
    },
    {
     "data": {
      "application/javascript": [
       "\n",
       "            setTimeout(function() {\n",
       "                var nbb_cell_id = 31;\n",
       "                var nbb_unformatted_code = \"life_tall.loc[life_tall[\\\"life_expectancy\\\"].isna()]\";\n",
       "                var nbb_formatted_code = \"life_tall.loc[life_tall[\\\"life_expectancy\\\"].isna()]\";\n",
       "                var nbb_cells = Jupyter.notebook.get_cells();\n",
       "                for (var i = 0; i < nbb_cells.length; ++i) {\n",
       "                    if (nbb_cells[i].input_prompt_number == nbb_cell_id) {\n",
       "                        if (nbb_cells[i].get_text() == nbb_unformatted_code) {\n",
       "                             nbb_cells[i].set_text(nbb_formatted_code);\n",
       "                        }\n",
       "                        break;\n",
       "                    }\n",
       "                }\n",
       "            }, 500);\n",
       "            "
      ],
      "text/plain": [
       "<IPython.core.display.Javascript object>"
      ]
     },
     "metadata": {},
     "output_type": "display_data"
    }
   ],
   "source": [
    "life_tall.loc[life_tall[\"life_expectancy\"].isna()]"
   ]
  },
  {
   "cell_type": "code",
   "execution_count": null,
   "metadata": {},
   "outputs": [],
   "source": []
  },
  {
   "cell_type": "code",
   "execution_count": null,
   "metadata": {},
   "outputs": [],
   "source": []
  },
  {
   "cell_type": "code",
   "execution_count": null,
   "metadata": {},
   "outputs": [],
   "source": []
  },
  {
   "cell_type": "code",
   "execution_count": null,
   "metadata": {},
   "outputs": [],
   "source": []
  },
  {
   "cell_type": "code",
   "execution_count": 32,
   "metadata": {},
   "outputs": [
    {
     "name": "stdout",
     "output_type": "stream",
     "text": [
      "['Faroe Islands', 'Greenland', 'Israel', 'St. Martin (French part)', 'Seychelles', 'Kosovo']\n"
     ]
    },
    {
     "data": {
      "application/javascript": [
       "\n",
       "            setTimeout(function() {\n",
       "                var nbb_cell_id = 32;\n",
       "                var nbb_unformatted_code = \"life_clean = life_tall.copy()\\nfilled_countries = []\\nfor country in missing_countries:\\n    if (\\n        life_clean.loc[life_clean[\\\"Country Name\\\"] == country][\\\"life_expectancy\\\"]\\n        .isna()\\n        .sum()\\n        >= 28\\n    ):\\n        life_clean = life_clean.drop(\\n            index=life_clean.loc[life_clean[\\\"Country Name\\\"] == country].index\\n        )\\n        continue\\n    life_clean.loc[life_tall[\\\"Country Name\\\"] == country] = life_clean.loc[\\n        life_clean[\\\"Country Name\\\"] == country\\n    ].fillna(method=\\\"ffill\\\")\\n    life_clean.loc[life_tall[\\\"Country Name\\\"] == country] = life_clean.loc[\\n        life_clean[\\\"Country Name\\\"] == country\\n    ].fillna(method=\\\"bfill\\\")\\n    filled_countries.append(country)\\nprint(filled_countries)\";\n",
       "                var nbb_formatted_code = \"life_clean = life_tall.copy()\\nfilled_countries = []\\nfor country in missing_countries:\\n    if (\\n        life_clean.loc[life_clean[\\\"Country Name\\\"] == country][\\\"life_expectancy\\\"]\\n        .isna()\\n        .sum()\\n        >= 28\\n    ):\\n        life_clean = life_clean.drop(\\n            index=life_clean.loc[life_clean[\\\"Country Name\\\"] == country].index\\n        )\\n        continue\\n    life_clean.loc[life_tall[\\\"Country Name\\\"] == country] = life_clean.loc[\\n        life_clean[\\\"Country Name\\\"] == country\\n    ].fillna(method=\\\"ffill\\\")\\n    life_clean.loc[life_tall[\\\"Country Name\\\"] == country] = life_clean.loc[\\n        life_clean[\\\"Country Name\\\"] == country\\n    ].fillna(method=\\\"bfill\\\")\\n    filled_countries.append(country)\\nprint(filled_countries)\";\n",
       "                var nbb_cells = Jupyter.notebook.get_cells();\n",
       "                for (var i = 0; i < nbb_cells.length; ++i) {\n",
       "                    if (nbb_cells[i].input_prompt_number == nbb_cell_id) {\n",
       "                        if (nbb_cells[i].get_text() == nbb_unformatted_code) {\n",
       "                             nbb_cells[i].set_text(nbb_formatted_code);\n",
       "                        }\n",
       "                        break;\n",
       "                    }\n",
       "                }\n",
       "            }, 500);\n",
       "            "
      ],
      "text/plain": [
       "<IPython.core.display.Javascript object>"
      ]
     },
     "metadata": {},
     "output_type": "display_data"
    }
   ],
   "source": [
    "life_clean = life_tall.copy()\n",
    "filled_countries = []\n",
    "for country in missing_countries:\n",
    "    if (\n",
    "        life_clean.loc[life_clean[\"Country Name\"] == country][\"life_expectancy\"]\n",
    "        .isna()\n",
    "        .sum()\n",
    "        >= 28\n",
    "    ):\n",
    "        life_clean = life_clean.drop(\n",
    "            index=life_clean.loc[life_clean[\"Country Name\"] == country].index\n",
    "        )\n",
    "        continue\n",
    "    life_clean.loc[life_tall[\"Country Name\"] == country] = life_clean.loc[\n",
    "        life_clean[\"Country Name\"] == country\n",
    "    ].fillna(method=\"ffill\")\n",
    "    life_clean.loc[life_tall[\"Country Name\"] == country] = life_clean.loc[\n",
    "        life_clean[\"Country Name\"] == country\n",
    "    ].fillna(method=\"bfill\")\n",
    "    filled_countries.append(country)\n",
    "print(filled_countries)"
   ]
  },
  {
   "cell_type": "code",
   "execution_count": 33,
   "metadata": {},
   "outputs": [
    {
     "name": "stdout",
     "output_type": "stream",
     "text": [
      "Aruba: 0 nan's\n",
      "Afghanistan: 0 nan's\n",
      "Angola: 0 nan's\n",
      "Albania: 0 nan's\n",
      "Andorra: 0 nan's\n",
      "Arab World: 0 nan's\n",
      "United Arab Emirates: 0 nan's\n",
      "Argentina: 0 nan's\n",
      "Armenia: 0 nan's\n",
      "American Samoa: 0 nan's\n",
      "Antigua and Barbuda: 0 nan's\n",
      "Australia: 0 nan's\n",
      "Austria: 0 nan's\n",
      "Azerbaijan: 0 nan's\n",
      "Burundi: 0 nan's\n",
      "Belgium: 0 nan's\n",
      "Benin: 0 nan's\n",
      "Burkina Faso: 0 nan's\n",
      "Bangladesh: 0 nan's\n",
      "Bulgaria: 0 nan's\n",
      "Bahrain: 0 nan's\n",
      "Bahamas, The: 0 nan's\n",
      "Bosnia and Herzegovina: 0 nan's\n",
      "Belarus: 0 nan's\n",
      "Belize: 0 nan's\n",
      "Bermuda: 0 nan's\n",
      "Bolivia: 0 nan's\n",
      "Brazil: 0 nan's\n",
      "Barbados: 0 nan's\n",
      "Brunei Darussalam: 0 nan's\n",
      "Bhutan: 0 nan's\n",
      "Botswana: 0 nan's\n",
      "Central African Republic: 0 nan's\n",
      "Canada: 0 nan's\n",
      "Central Europe and the Baltics: 0 nan's\n",
      "Switzerland: 0 nan's\n",
      "Channel Islands: 0 nan's\n",
      "Chile: 0 nan's\n",
      "China: 0 nan's\n",
      "Cote d'Ivoire: 0 nan's\n",
      "Cameroon: 0 nan's\n",
      "Congo, Dem. Rep.: 0 nan's\n",
      "Congo, Rep.: 0 nan's\n",
      "Colombia: 0 nan's\n",
      "Comoros: 0 nan's\n",
      "Cabo Verde: 0 nan's\n",
      "Costa Rica: 0 nan's\n",
      "Caribbean small states: 0 nan's\n",
      "Cuba: 0 nan's\n",
      "Curacao: 0 nan's\n",
      "Cayman Islands: 0 nan's\n",
      "Cyprus: 0 nan's\n",
      "Czech Republic: 0 nan's\n",
      "Germany: 0 nan's\n",
      "Djibouti: 0 nan's\n",
      "Dominica: 0 nan's\n",
      "Denmark: 0 nan's\n",
      "Dominican Republic: 0 nan's\n",
      "Algeria: 0 nan's\n",
      "East Asia & Pacific (excluding high income): 0 nan's\n",
      "Early-demographic dividend: 0 nan's\n",
      "East Asia & Pacific: 0 nan's\n",
      "Europe & Central Asia (excluding high income): 0 nan's\n",
      "Europe & Central Asia: 0 nan's\n",
      "Ecuador: 0 nan's\n",
      "Egypt, Arab Rep.: 0 nan's\n",
      "Euro area: 0 nan's\n",
      "Eritrea: 0 nan's\n",
      "Spain: 0 nan's\n",
      "Estonia: 0 nan's\n",
      "Ethiopia: 0 nan's\n",
      "European Union: 0 nan's\n",
      "Fragile and conflict affected situations: 0 nan's\n",
      "Finland: 0 nan's\n",
      "Fiji: 0 nan's\n",
      "France: 0 nan's\n",
      "Faroe Islands: 0 nan's\n",
      "Micronesia, Fed. Sts.: 0 nan's\n",
      "Gabon: 0 nan's\n",
      "United Kingdom: 0 nan's\n",
      "Georgia: 0 nan's\n",
      "Ghana: 0 nan's\n",
      "Gibraltar: 0 nan's\n",
      "Guinea: 0 nan's\n",
      "Gambia, The: 0 nan's\n",
      "Guinea-Bissau: 0 nan's\n",
      "Equatorial Guinea: 0 nan's\n",
      "Greece: 0 nan's\n",
      "Grenada: 0 nan's\n",
      "Greenland: 0 nan's\n",
      "Guatemala: 0 nan's\n",
      "Guam: 0 nan's\n",
      "Guyana: 0 nan's\n",
      "High income: 0 nan's\n",
      "Hong Kong SAR, China: 0 nan's\n",
      "Honduras: 0 nan's\n",
      "Heavily indebted poor countries (HIPC): 0 nan's\n",
      "Croatia: 0 nan's\n",
      "Haiti: 0 nan's\n",
      "Hungary: 0 nan's\n",
      "IBRD only: 0 nan's\n",
      "IDA & IBRD total: 0 nan's\n",
      "IDA total: 0 nan's\n",
      "IDA blend: 0 nan's\n",
      "Indonesia: 0 nan's\n",
      "IDA only: 0 nan's\n",
      "Isle of Man: 0 nan's\n",
      "India: 0 nan's\n",
      "Not classified: 0 nan's\n",
      "Ireland: 0 nan's\n",
      "Iran, Islamic Rep.: 0 nan's\n",
      "Iraq: 0 nan's\n",
      "Iceland: 0 nan's\n",
      "Israel: 0 nan's\n",
      "Italy: 0 nan's\n",
      "Jamaica: 0 nan's\n",
      "Jordan: 0 nan's\n",
      "Japan: 0 nan's\n",
      "Kazakhstan: 0 nan's\n",
      "Kenya: 0 nan's\n",
      "Kyrgyz Republic: 0 nan's\n",
      "Cambodia: 0 nan's\n",
      "Kiribati: 0 nan's\n",
      "St. Kitts and Nevis: 0 nan's\n",
      "Korea, Rep.: 0 nan's\n",
      "Kuwait: 0 nan's\n",
      "Latin America & Caribbean (excluding high income): 0 nan's\n",
      "Lao PDR: 0 nan's\n",
      "Lebanon: 0 nan's\n",
      "Liberia: 0 nan's\n",
      "Libya: 0 nan's\n",
      "St. Lucia: 0 nan's\n",
      "Latin America & Caribbean: 0 nan's\n",
      "Least developed countries: UN classification: 0 nan's\n",
      "Low income: 0 nan's\n",
      "Liechtenstein: 0 nan's\n",
      "Sri Lanka: 0 nan's\n",
      "Lower middle income: 0 nan's\n",
      "Low & middle income: 0 nan's\n",
      "Lesotho: 0 nan's\n",
      "Late-demographic dividend: 0 nan's\n",
      "Lithuania: 0 nan's\n",
      "Luxembourg: 0 nan's\n",
      "Latvia: 0 nan's\n",
      "Macao SAR, China: 0 nan's\n",
      "St. Martin (French part): 0 nan's\n",
      "Morocco: 0 nan's\n",
      "Monaco: 0 nan's\n",
      "Moldova: 0 nan's\n",
      "Madagascar: 0 nan's\n",
      "Maldives: 0 nan's\n",
      "Middle East & North Africa: 0 nan's\n",
      "Mexico: 0 nan's\n",
      "Marshall Islands: 0 nan's\n",
      "Middle income: 0 nan's\n",
      "Macedonia, FYR: 0 nan's\n",
      "Mali: 0 nan's\n",
      "Malta: 0 nan's\n",
      "Myanmar: 0 nan's\n",
      "Middle East & North Africa (excluding high income): 0 nan's\n",
      "Montenegro: 0 nan's\n",
      "Mongolia: 0 nan's\n",
      "Northern Mariana Islands: 0 nan's\n",
      "Mozambique: 0 nan's\n",
      "Mauritania: 0 nan's\n",
      "Mauritius: 0 nan's\n",
      "Malawi: 0 nan's\n",
      "Malaysia: 0 nan's\n",
      "North America: 0 nan's\n",
      "Namibia: 0 nan's\n",
      "New Caledonia: 0 nan's\n",
      "Niger: 0 nan's\n",
      "Nigeria: 0 nan's\n",
      "Nicaragua: 0 nan's\n",
      "Netherlands: 0 nan's\n",
      "Norway: 0 nan's\n",
      "Nepal: 0 nan's\n",
      "Nauru: 0 nan's\n",
      "New Zealand: 0 nan's\n",
      "OECD members: 0 nan's\n",
      "Oman: 0 nan's\n",
      "Other small states: 0 nan's\n",
      "Pakistan: 0 nan's\n",
      "Panama: 0 nan's\n",
      "Peru: 0 nan's\n",
      "Philippines: 0 nan's\n",
      "Palau: 0 nan's\n",
      "Papua New Guinea: 0 nan's\n",
      "Poland: 0 nan's\n",
      "Pre-demographic dividend: 0 nan's\n",
      "Puerto Rico: 0 nan's\n",
      "Korea, Dem. People’s Rep.: 0 nan's\n",
      "Portugal: 0 nan's\n",
      "Paraguay: 0 nan's\n",
      "West Bank and Gaza: 0 nan's\n",
      "Pacific island small states: 0 nan's\n",
      "Post-demographic dividend: 0 nan's\n",
      "French Polynesia: 0 nan's\n",
      "Qatar: 0 nan's\n",
      "Romania: 0 nan's\n",
      "Russian Federation: 0 nan's\n",
      "Rwanda: 0 nan's\n",
      "South Asia: 0 nan's\n",
      "Saudi Arabia: 0 nan's\n",
      "Sudan: 0 nan's\n",
      "Senegal: 0 nan's\n",
      "Singapore: 0 nan's\n",
      "Solomon Islands: 0 nan's\n",
      "Sierra Leone: 0 nan's\n",
      "El Salvador: 0 nan's\n",
      "San Marino: 0 nan's\n",
      "Somalia: 0 nan's\n",
      "Serbia: 0 nan's\n",
      "Sub-Saharan Africa (excluding high income): 0 nan's\n",
      "South Sudan: 0 nan's\n",
      "Sub-Saharan Africa: 0 nan's\n",
      "Small states: 0 nan's\n",
      "Sao Tome and Principe: 0 nan's\n",
      "Suriname: 0 nan's\n",
      "Slovak Republic: 0 nan's\n",
      "Slovenia: 0 nan's\n",
      "Sweden: 0 nan's\n",
      "Swaziland: 0 nan's\n",
      "Sint Maarten (Dutch part): 0 nan's\n",
      "Seychelles: 0 nan's\n",
      "Syrian Arab Republic: 0 nan's\n",
      "Turks and Caicos Islands: 0 nan's\n",
      "Chad: 0 nan's\n",
      "East Asia & Pacific (IDA & IBRD countries): 0 nan's\n",
      "Europe & Central Asia (IDA & IBRD countries): 0 nan's\n",
      "Togo: 0 nan's\n",
      "Thailand: 0 nan's\n",
      "Tajikistan: 0 nan's\n",
      "Turkmenistan: 0 nan's\n",
      "Latin America & the Caribbean (IDA & IBRD countries): 0 nan's\n",
      "Timor-Leste: 0 nan's\n",
      "Middle East & North Africa (IDA & IBRD countries): 0 nan's\n",
      "Tonga: 0 nan's\n",
      "South Asia (IDA & IBRD): 0 nan's\n",
      "Sub-Saharan Africa (IDA & IBRD countries): 0 nan's\n",
      "Trinidad and Tobago: 0 nan's\n",
      "Tunisia: 0 nan's\n",
      "Turkey: 0 nan's\n",
      "Tuvalu: 0 nan's\n",
      "Tanzania: 0 nan's\n",
      "Uganda: 0 nan's\n",
      "Ukraine: 0 nan's\n",
      "Upper middle income: 0 nan's\n",
      "Uruguay: 0 nan's\n",
      "United States: 0 nan's\n",
      "Uzbekistan: 0 nan's\n",
      "St. Vincent and the Grenadines: 0 nan's\n",
      "Venezuela, RB: 0 nan's\n",
      "British Virgin Islands: 0 nan's\n",
      "Virgin Islands (U.S.): 0 nan's\n",
      "Vietnam: 0 nan's\n",
      "Vanuatu: 0 nan's\n",
      "World: 0 nan's\n",
      "Samoa: 0 nan's\n",
      "Kosovo: 0 nan's\n",
      "Yemen, Rep.: 0 nan's\n",
      "South Africa: 0 nan's\n",
      "Zambia: 0 nan's\n",
      "Zimbabwe: 0 nan's\n",
      "[]\n"
     ]
    },
    {
     "data": {
      "application/javascript": [
       "\n",
       "            setTimeout(function() {\n",
       "                var nbb_cell_id = 33;\n",
       "                var nbb_unformatted_code = \"missing_countries = []\\nfor country in countries:\\n    num_missing = (\\n        life_clean.loc[life_clean[\\\"Country Name\\\"] == country][\\\"life_expectancy\\\"]\\n        .isna()\\n        .sum()\\n    )\\n    if num_missing > 0:\\n        missing_countries.append(country)\\n\\n    print(f\\\"{country}: {num_missing} nan's\\\")\\nprint(missing_countries)\";\n",
       "                var nbb_formatted_code = \"missing_countries = []\\nfor country in countries:\\n    num_missing = (\\n        life_clean.loc[life_clean[\\\"Country Name\\\"] == country][\\\"life_expectancy\\\"]\\n        .isna()\\n        .sum()\\n    )\\n    if num_missing > 0:\\n        missing_countries.append(country)\\n\\n    print(f\\\"{country}: {num_missing} nan's\\\")\\nprint(missing_countries)\";\n",
       "                var nbb_cells = Jupyter.notebook.get_cells();\n",
       "                for (var i = 0; i < nbb_cells.length; ++i) {\n",
       "                    if (nbb_cells[i].input_prompt_number == nbb_cell_id) {\n",
       "                        if (nbb_cells[i].get_text() == nbb_unformatted_code) {\n",
       "                             nbb_cells[i].set_text(nbb_formatted_code);\n",
       "                        }\n",
       "                        break;\n",
       "                    }\n",
       "                }\n",
       "            }, 500);\n",
       "            "
      ],
      "text/plain": [
       "<IPython.core.display.Javascript object>"
      ]
     },
     "metadata": {},
     "output_type": "display_data"
    }
   ],
   "source": [
    "missing_countries = []\n",
    "for country in countries:\n",
    "    num_missing = (\n",
    "        life_clean.loc[life_clean[\"Country Name\"] == country][\"life_expectancy\"]\n",
    "        .isna()\n",
    "        .sum()\n",
    "    )\n",
    "    if num_missing > 0:\n",
    "        missing_countries.append(country)\n",
    "\n",
    "    print(f\"{country}: {num_missing} nan's\")\n",
    "print(missing_countries)"
   ]
  },
  {
   "cell_type": "code",
   "execution_count": 34,
   "metadata": {},
   "outputs": [
    {
     "name": "stdout",
     "output_type": "stream",
     "text": [
      "<class 'pandas.core.frame.DataFrame'>\n",
      "Int64Index: 13737 entries, 0 to 15047\n",
      "Data columns (total 6 columns):\n",
      " #   Column           Non-Null Count  Dtype  \n",
      "---  ------           --------------  -----  \n",
      " 0   Country Name     13737 non-null  object \n",
      " 1   Country Code     13737 non-null  object \n",
      " 2   Indicator Name   13737 non-null  object \n",
      " 3   Indicator Code   13737 non-null  object \n",
      " 4   Year             13737 non-null  object \n",
      " 5   life_expectancy  13737 non-null  float64\n",
      "dtypes: float64(1), object(5)\n",
      "memory usage: 751.2+ KB\n"
     ]
    },
    {
     "data": {
      "application/javascript": [
       "\n",
       "            setTimeout(function() {\n",
       "                var nbb_cell_id = 34;\n",
       "                var nbb_unformatted_code = \"life_clean.info()\";\n",
       "                var nbb_formatted_code = \"life_clean.info()\";\n",
       "                var nbb_cells = Jupyter.notebook.get_cells();\n",
       "                for (var i = 0; i < nbb_cells.length; ++i) {\n",
       "                    if (nbb_cells[i].input_prompt_number == nbb_cell_id) {\n",
       "                        if (nbb_cells[i].get_text() == nbb_unformatted_code) {\n",
       "                             nbb_cells[i].set_text(nbb_formatted_code);\n",
       "                        }\n",
       "                        break;\n",
       "                    }\n",
       "                }\n",
       "            }, 500);\n",
       "            "
      ],
      "text/plain": [
       "<IPython.core.display.Javascript object>"
      ]
     },
     "metadata": {},
     "output_type": "display_data"
    }
   ],
   "source": [
    "life_clean.info()\n"
   ]
  },
  {
   "cell_type": "markdown",
   "metadata": {},
   "source": [
    "For interpolation, it appeared some countries were missing all or most entries. If a country was missing over half of it's entries, it was dropped. The remaining countries with missing life expectancy were then first front filled to prioritize not introducing future data into the past. Then back filling was done, since this would account for missing values with no other values preceding it. Measures of central tendency were not used, but could be instead of backfilling. It is important to note that the data was subset by country before interpolating. Only 6 of the 29 countries with missing values were kept and interpolated. Choosiung a narrower time span may allow for keeping more data without compromising the integrity as much as filling in decades of missing values."
   ]
  },
  {
   "cell_type": "code",
   "execution_count": 35,
   "metadata": {},
   "outputs": [
    {
     "data": {
      "text/plain": [
       "264"
      ]
     },
     "execution_count": 35,
     "metadata": {},
     "output_type": "execute_result"
    },
    {
     "data": {
      "application/javascript": [
       "\n",
       "            setTimeout(function() {\n",
       "                var nbb_cell_id = 35;\n",
       "                var nbb_unformatted_code = \"life_tall[\\\"Country Name\\\"].nunique()\";\n",
       "                var nbb_formatted_code = \"life_tall[\\\"Country Name\\\"].nunique()\";\n",
       "                var nbb_cells = Jupyter.notebook.get_cells();\n",
       "                for (var i = 0; i < nbb_cells.length; ++i) {\n",
       "                    if (nbb_cells[i].input_prompt_number == nbb_cell_id) {\n",
       "                        if (nbb_cells[i].get_text() == nbb_unformatted_code) {\n",
       "                             nbb_cells[i].set_text(nbb_formatted_code);\n",
       "                        }\n",
       "                        break;\n",
       "                    }\n",
       "                }\n",
       "            }, 500);\n",
       "            "
      ],
      "text/plain": [
       "<IPython.core.display.Javascript object>"
      ]
     },
     "metadata": {},
     "output_type": "display_data"
    }
   ],
   "source": [
    "life_tall[\"Country Name\"].nunique()"
   ]
  },
  {
   "cell_type": "code",
   "execution_count": 36,
   "metadata": {},
   "outputs": [
    {
     "data": {
      "text/plain": [
       "241"
      ]
     },
     "execution_count": 36,
     "metadata": {},
     "output_type": "execute_result"
    },
    {
     "data": {
      "application/javascript": [
       "\n",
       "            setTimeout(function() {\n",
       "                var nbb_cell_id = 36;\n",
       "                var nbb_unformatted_code = \"life_clean[\\\"Country Name\\\"].nunique()\";\n",
       "                var nbb_formatted_code = \"life_clean[\\\"Country Name\\\"].nunique()\";\n",
       "                var nbb_cells = Jupyter.notebook.get_cells();\n",
       "                for (var i = 0; i < nbb_cells.length; ++i) {\n",
       "                    if (nbb_cells[i].input_prompt_number == nbb_cell_id) {\n",
       "                        if (nbb_cells[i].get_text() == nbb_unformatted_code) {\n",
       "                             nbb_cells[i].set_text(nbb_formatted_code);\n",
       "                        }\n",
       "                        break;\n",
       "                    }\n",
       "                }\n",
       "            }, 500);\n",
       "            "
      ],
      "text/plain": [
       "<IPython.core.display.Javascript object>"
      ]
     },
     "metadata": {},
     "output_type": "display_data"
    }
   ],
   "source": [
    "life_clean[\"Country Name\"].nunique()"
   ]
  },
  {
   "cell_type": "code",
   "execution_count": 37,
   "metadata": {},
   "outputs": [
    {
     "data": {
      "image/png": "[encoded data removed]",
      "text/plain": [
       "<Figure size 432x288 with 1 Axes>"
      ]
     },
     "metadata": {
      "needs_background": "light"
     },
     "output_type": "display_data"
    },
    {
     "data": {
      "application/javascript": [
       "\n",
       "            setTimeout(function() {\n",
       "                var nbb_cell_id = 37;\n",
       "                var nbb_unformatted_code = \"avg_lifeexp_year = life_clean.groupby(\\\"Year\\\").agg({\\\"life_expectancy\\\": \\\"mean\\\"})\\nsns.lineplot(x=avg_lifeexp_year.index, y=\\\"life_expectancy\\\", data=avg_lifeexp_year)\\nplt.show()\";\n",
       "                var nbb_formatted_code = \"avg_lifeexp_year = life_clean.groupby(\\\"Year\\\").agg({\\\"life_expectancy\\\": \\\"mean\\\"})\\nsns.lineplot(x=avg_lifeexp_year.index, y=\\\"life_expectancy\\\", data=avg_lifeexp_year)\\nplt.show()\";\n",
       "                var nbb_cells = Jupyter.notebook.get_cells();\n",
       "                for (var i = 0; i < nbb_cells.length; ++i) {\n",
       "                    if (nbb_cells[i].input_prompt_number == nbb_cell_id) {\n",
       "                        if (nbb_cells[i].get_text() == nbb_unformatted_code) {\n",
       "                             nbb_cells[i].set_text(nbb_formatted_code);\n",
       "                        }\n",
       "                        break;\n",
       "                    }\n",
       "                }\n",
       "            }, 500);\n",
       "            "
      ],
      "text/plain": [
       "<IPython.core.display.Javascript object>"
      ]
     },
     "metadata": {},
     "output_type": "display_data"
    }
   ],
   "source": [
    "avg_lifeexp_year = life_clean.groupby(\"Year\").agg({\"life_expectancy\": \"mean\"})\n",
    "sns.lineplot(x=avg_lifeexp_year.index, y=\"life_expectancy\", data=avg_lifeexp_year)\n",
    "plt.show()"
   ]
  },
  {
   "cell_type": "markdown",
   "metadata": {},
   "source": []
  }
 ],
 "metadata": {
  "kernelspec": {
   "display_name": "Python 3",
   "language": "python",
   "name": "python3"
  },
  "language_info": {
   "codemirror_mode": {
    "name": "ipython",
    "version": 3
   },
   "file_extension": ".py",
   "mimetype": "text/x-python",
   "name": "python",
   "nbconvert_exporter": "python",
   "pygments_lexer": "ipython3",
   "version": "3.7.6"
  }
 },
 "nbformat": 4,
 "nbformat_minor": 4
}
