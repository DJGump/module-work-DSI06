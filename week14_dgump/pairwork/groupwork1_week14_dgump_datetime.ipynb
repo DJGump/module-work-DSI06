{
 "cells": [
  {
   "cell_type": "code",
   "execution_count": 1,
   "metadata": {},
   "outputs": [],
   "source": [
    "%reload_ext nb_black"
   ]
  },
  {
   "cell_type": "code",
   "execution_count": 2,
   "metadata": {},
   "outputs": [
    {
     "data": {
      "application/javascript": [
       "\n",
       "            setTimeout(function() {\n",
       "                var nbb_cell_id = 2;\n",
       "                var nbb_unformatted_code = \"import numpy as np\\nimport pandas as pd\\nimport seaborn as sns\\nimport matplotlib.pyplot as plt\\nimport datetime\";\n",
       "                var nbb_formatted_code = \"import numpy as np\\nimport pandas as pd\\nimport seaborn as sns\\nimport matplotlib.pyplot as plt\\nimport datetime\";\n",
       "                var nbb_cells = Jupyter.notebook.get_cells();\n",
       "                for (var i = 0; i < nbb_cells.length; ++i) {\n",
       "                    if (nbb_cells[i].input_prompt_number == nbb_cell_id) {\n",
       "                        if (nbb_cells[i].get_text() == nbb_unformatted_code) {\n",
       "                             nbb_cells[i].set_text(nbb_formatted_code);\n",
       "                        }\n",
       "                        break;\n",
       "                    }\n",
       "                }\n",
       "            }, 500);\n",
       "            "
      ],
      "text/plain": [
       "<IPython.core.display.Javascript object>"
      ]
     },
     "metadata": {},
     "output_type": "display_data"
    }
   ],
   "source": [
    "import numpy as np\n",
    "import pandas as pd\n",
    "import seaborn as sns\n",
    "import matplotlib.pyplot as plt\n",
    "import datetime"
   ]
  },
  {
   "cell_type": "markdown",
   "metadata": {},
   "source": [
    "Class Example 1"
   ]
  },
  {
   "cell_type": "code",
   "execution_count": 3,
   "metadata": {},
   "outputs": [
    {
     "data": {
      "text/plain": [
       "datetime.datetime(2020, 10, 26, 12, 51, 24, 572710)"
      ]
     },
     "execution_count": 3,
     "metadata": {},
     "output_type": "execute_result"
    },
    {
     "data": {
      "application/javascript": [
       "\n",
       "            setTimeout(function() {\n",
       "                var nbb_cell_id = 3;\n",
       "                var nbb_unformatted_code = \"today = datetime.datetime.now()\\ntoday\";\n",
       "                var nbb_formatted_code = \"today = datetime.datetime.now()\\ntoday\";\n",
       "                var nbb_cells = Jupyter.notebook.get_cells();\n",
       "                for (var i = 0; i < nbb_cells.length; ++i) {\n",
       "                    if (nbb_cells[i].input_prompt_number == nbb_cell_id) {\n",
       "                        if (nbb_cells[i].get_text() == nbb_unformatted_code) {\n",
       "                             nbb_cells[i].set_text(nbb_formatted_code);\n",
       "                        }\n",
       "                        break;\n",
       "                    }\n",
       "                }\n",
       "            }, 500);\n",
       "            "
      ],
      "text/plain": [
       "<IPython.core.display.Javascript object>"
      ]
     },
     "metadata": {},
     "output_type": "display_data"
    }
   ],
   "source": [
    "today = datetime.datetime.now()\n",
    "today"
   ]
  },
  {
   "cell_type": "code",
   "execution_count": 4,
   "metadata": {},
   "outputs": [
    {
     "data": {
      "application/javascript": [
       "\n",
       "            setTimeout(function() {\n",
       "                var nbb_cell_id = 4;\n",
       "                var nbb_unformatted_code = \"date_string = \\\"2020-10-01\\\"\";\n",
       "                var nbb_formatted_code = \"date_string = \\\"2020-10-01\\\"\";\n",
       "                var nbb_cells = Jupyter.notebook.get_cells();\n",
       "                for (var i = 0; i < nbb_cells.length; ++i) {\n",
       "                    if (nbb_cells[i].input_prompt_number == nbb_cell_id) {\n",
       "                        if (nbb_cells[i].get_text() == nbb_unformatted_code) {\n",
       "                             nbb_cells[i].set_text(nbb_formatted_code);\n",
       "                        }\n",
       "                        break;\n",
       "                    }\n",
       "                }\n",
       "            }, 500);\n",
       "            "
      ],
      "text/plain": [
       "<IPython.core.display.Javascript object>"
      ]
     },
     "metadata": {},
     "output_type": "display_data"
    }
   ],
   "source": [
    "date_string = \"2020-10-01\""
   ]
  },
  {
   "cell_type": "code",
   "execution_count": 5,
   "metadata": {},
   "outputs": [
    {
     "data": {
      "application/javascript": [
       "\n",
       "            setTimeout(function() {\n",
       "                var nbb_cell_id = 5;\n",
       "                var nbb_unformatted_code = \"converted = datetime.datetime.strptime(date_string, \\\"%Y-%m-%d\\\")\";\n",
       "                var nbb_formatted_code = \"converted = datetime.datetime.strptime(date_string, \\\"%Y-%m-%d\\\")\";\n",
       "                var nbb_cells = Jupyter.notebook.get_cells();\n",
       "                for (var i = 0; i < nbb_cells.length; ++i) {\n",
       "                    if (nbb_cells[i].input_prompt_number == nbb_cell_id) {\n",
       "                        if (nbb_cells[i].get_text() == nbb_unformatted_code) {\n",
       "                             nbb_cells[i].set_text(nbb_formatted_code);\n",
       "                        }\n",
       "                        break;\n",
       "                    }\n",
       "                }\n",
       "            }, 500);\n",
       "            "
      ],
      "text/plain": [
       "<IPython.core.display.Javascript object>"
      ]
     },
     "metadata": {},
     "output_type": "display_data"
    }
   ],
   "source": [
    "converted = datetime.datetime.strptime(date_string, \"%Y-%m-%d\")"
   ]
  },
  {
   "cell_type": "code",
   "execution_count": 6,
   "metadata": {},
   "outputs": [
    {
     "data": {
      "text/plain": [
       "'10-01-2020'"
      ]
     },
     "execution_count": 6,
     "metadata": {},
     "output_type": "execute_result"
    },
    {
     "data": {
      "application/javascript": [
       "\n",
       "            setTimeout(function() {\n",
       "                var nbb_cell_id = 6;\n",
       "                var nbb_unformatted_code = \"datetime.datetime.strftime(converted, \\\"%m-%d-%Y\\\")\";\n",
       "                var nbb_formatted_code = \"datetime.datetime.strftime(converted, \\\"%m-%d-%Y\\\")\";\n",
       "                var nbb_cells = Jupyter.notebook.get_cells();\n",
       "                for (var i = 0; i < nbb_cells.length; ++i) {\n",
       "                    if (nbb_cells[i].input_prompt_number == nbb_cell_id) {\n",
       "                        if (nbb_cells[i].get_text() == nbb_unformatted_code) {\n",
       "                             nbb_cells[i].set_text(nbb_formatted_code);\n",
       "                        }\n",
       "                        break;\n",
       "                    }\n",
       "                }\n",
       "            }, 500);\n",
       "            "
      ],
      "text/plain": [
       "<IPython.core.display.Javascript object>"
      ]
     },
     "metadata": {},
     "output_type": "display_data"
    }
   ],
   "source": [
    "datetime.datetime.strftime(converted, \"%m-%d-%Y\")"
   ]
  },
  {
   "cell_type": "code",
   "execution_count": null,
   "metadata": {},
   "outputs": [],
   "source": []
  },
  {
   "cell_type": "code",
   "execution_count": null,
   "metadata": {},
   "outputs": [],
   "source": []
  },
  {
   "cell_type": "code",
   "execution_count": null,
   "metadata": {},
   "outputs": [],
   "source": []
  },
  {
   "cell_type": "code",
   "execution_count": null,
   "metadata": {},
   "outputs": [],
   "source": []
  },
  {
   "cell_type": "code",
   "execution_count": null,
   "metadata": {},
   "outputs": [],
   "source": []
  },
  {
   "cell_type": "markdown",
   "metadata": {},
   "source": [
    "Assignment"
   ]
  },
  {
   "cell_type": "code",
   "execution_count": 7,
   "metadata": {},
   "outputs": [
    {
     "data": {
      "application/javascript": [
       "\n",
       "            setTimeout(function() {\n",
       "                var nbb_cell_id = 7;\n",
       "                var nbb_unformatted_code = \"# Define a variable and assign it a date string value of \\u201810/20/2019\\u2019.\\ndate_string = \\\"10/20/2019\\\"\";\n",
       "                var nbb_formatted_code = \"# Define a variable and assign it a date string value of \\u201810/20/2019\\u2019.\\ndate_string = \\\"10/20/2019\\\"\";\n",
       "                var nbb_cells = Jupyter.notebook.get_cells();\n",
       "                for (var i = 0; i < nbb_cells.length; ++i) {\n",
       "                    if (nbb_cells[i].input_prompt_number == nbb_cell_id) {\n",
       "                        if (nbb_cells[i].get_text() == nbb_unformatted_code) {\n",
       "                             nbb_cells[i].set_text(nbb_formatted_code);\n",
       "                        }\n",
       "                        break;\n",
       "                    }\n",
       "                }\n",
       "            }, 500);\n",
       "            "
      ],
      "text/plain": [
       "<IPython.core.display.Javascript object>"
      ]
     },
     "metadata": {},
     "output_type": "display_data"
    }
   ],
   "source": [
    "# Define a variable and assign it a date string value of ‘10/20/2019’.\n",
    "date_string = \"10/20/2019\""
   ]
  },
  {
   "cell_type": "code",
   "execution_count": 8,
   "metadata": {},
   "outputs": [
    {
     "data": {
      "text/plain": [
       "datetime.datetime(2019, 10, 20, 0, 0)"
      ]
     },
     "execution_count": 8,
     "metadata": {},
     "output_type": "execute_result"
    },
    {
     "data": {
      "application/javascript": [
       "\n",
       "            setTimeout(function() {\n",
       "                var nbb_cell_id = 8;\n",
       "                var nbb_unformatted_code = \"# Convert the date string to a datetime object.\\n\\ndate_dt = datetime.datetime.strptime(date_string, \\\"%m/%d/%Y\\\")\\ndate_dt\";\n",
       "                var nbb_formatted_code = \"# Convert the date string to a datetime object.\\n\\ndate_dt = datetime.datetime.strptime(date_string, \\\"%m/%d/%Y\\\")\\ndate_dt\";\n",
       "                var nbb_cells = Jupyter.notebook.get_cells();\n",
       "                for (var i = 0; i < nbb_cells.length; ++i) {\n",
       "                    if (nbb_cells[i].input_prompt_number == nbb_cell_id) {\n",
       "                        if (nbb_cells[i].get_text() == nbb_unformatted_code) {\n",
       "                             nbb_cells[i].set_text(nbb_formatted_code);\n",
       "                        }\n",
       "                        break;\n",
       "                    }\n",
       "                }\n",
       "            }, 500);\n",
       "            "
      ],
      "text/plain": [
       "<IPython.core.display.Javascript object>"
      ]
     },
     "metadata": {},
     "output_type": "display_data"
    }
   ],
   "source": [
    "# Convert the date string to a datetime object.\n",
    "\n",
    "date_dt = datetime.datetime.strptime(date_string, \"%m/%d/%Y\")\n",
    "date_dt"
   ]
  },
  {
   "cell_type": "code",
   "execution_count": 16,
   "metadata": {},
   "outputs": [
    {
     "name": "stdout",
     "output_type": "stream",
     "text": [
      "2049\n"
     ]
    },
    {
     "data": {
      "application/javascript": [
       "\n",
       "            setTimeout(function() {\n",
       "                var nbb_cell_id = 16;\n",
       "                var nbb_unformatted_code = \"# Extract the month, day, and year from the datetime object.\\nmonth = date_dt.month\\nday = date_dt.day\\nyear = date_dt.year\\nprint(month + day + year)\";\n",
       "                var nbb_formatted_code = \"# Extract the month, day, and year from the datetime object.\\nmonth = date_dt.month\\nday = date_dt.day\\nyear = date_dt.year\\nprint(month + day + year)\";\n",
       "                var nbb_cells = Jupyter.notebook.get_cells();\n",
       "                for (var i = 0; i < nbb_cells.length; ++i) {\n",
       "                    if (nbb_cells[i].input_prompt_number == nbb_cell_id) {\n",
       "                        if (nbb_cells[i].get_text() == nbb_unformatted_code) {\n",
       "                             nbb_cells[i].set_text(nbb_formatted_code);\n",
       "                        }\n",
       "                        break;\n",
       "                    }\n",
       "                }\n",
       "            }, 500);\n",
       "            "
      ],
      "text/plain": [
       "<IPython.core.display.Javascript object>"
      ]
     },
     "metadata": {},
     "output_type": "display_data"
    }
   ],
   "source": [
    "# Extract the month, day, and year from the datetime object.\n",
    "month = date_dt.month\n",
    "day = date_dt.day\n",
    "year = date_dt.year\n",
    "print(month + day + year)"
   ]
  },
  {
   "cell_type": "code",
   "execution_count": 10,
   "metadata": {},
   "outputs": [
    {
     "data": {
      "text/plain": [
       "'2019-10-20'"
      ]
     },
     "execution_count": 10,
     "metadata": {},
     "output_type": "execute_result"
    },
    {
     "data": {
      "application/javascript": [
       "\n",
       "            setTimeout(function() {\n",
       "                var nbb_cell_id = 10;\n",
       "                var nbb_unformatted_code = \"# fmt: off\\n\\n# Reformat the date string to YYYY-MM-DD.\\ndate_string_refmt = date_string.split(sep=\\\"/\\\")[2] + \\\"-\\\" + date_string.split(sep=\\\"/\\\")[0] + \\\"-\\\" + date_string.split(sep=\\\"/\\\")[1]\\ndate_string_refmt\";\n",
       "                var nbb_formatted_code = \"# fmt: off\\n\\n# Reformat the date string to YYYY-MM-DD.\\ndate_string_refmt = date_string.split(sep=\\\"/\\\")[2] + \\\"-\\\" + date_string.split(sep=\\\"/\\\")[0] + \\\"-\\\" + date_string.split(sep=\\\"/\\\")[1]\\ndate_string_refmt\";\n",
       "                var nbb_cells = Jupyter.notebook.get_cells();\n",
       "                for (var i = 0; i < nbb_cells.length; ++i) {\n",
       "                    if (nbb_cells[i].input_prompt_number == nbb_cell_id) {\n",
       "                        if (nbb_cells[i].get_text() == nbb_unformatted_code) {\n",
       "                             nbb_cells[i].set_text(nbb_formatted_code);\n",
       "                        }\n",
       "                        break;\n",
       "                    }\n",
       "                }\n",
       "            }, 500);\n",
       "            "
      ],
      "text/plain": [
       "<IPython.core.display.Javascript object>"
      ]
     },
     "metadata": {},
     "output_type": "display_data"
    }
   ],
   "source": [
    "# fmt: off\n",
    "\n",
    "# Reformat the date string to YYYY-MM-DD.\n",
    "date_string_refmt = date_string.split(sep=\"/\")[2] + \"-\" + date_string.split(sep=\"/\")[0] + \"-\" + date_string.split(sep=\"/\")[1]\n",
    "date_string_refmt"
   ]
  },
  {
   "cell_type": "code",
   "execution_count": 12,
   "metadata": {},
   "outputs": [
    {
     "data": {
      "text/plain": [
       "'2019-10-20'"
      ]
     },
     "execution_count": 12,
     "metadata": {},
     "output_type": "execute_result"
    },
    {
     "data": {
      "application/javascript": [
       "\n",
       "            setTimeout(function() {\n",
       "                var nbb_cell_id = 12;\n",
       "                var nbb_unformatted_code = \"date_refmt2 = datetime.datetime.strftime(date_dt, \\\"%Y-%m-%d\\\")\\ndate_refmt2\";\n",
       "                var nbb_formatted_code = \"date_refmt2 = datetime.datetime.strftime(date_dt, \\\"%Y-%m-%d\\\")\\ndate_refmt2\";\n",
       "                var nbb_cells = Jupyter.notebook.get_cells();\n",
       "                for (var i = 0; i < nbb_cells.length; ++i) {\n",
       "                    if (nbb_cells[i].input_prompt_number == nbb_cell_id) {\n",
       "                        if (nbb_cells[i].get_text() == nbb_unformatted_code) {\n",
       "                             nbb_cells[i].set_text(nbb_formatted_code);\n",
       "                        }\n",
       "                        break;\n",
       "                    }\n",
       "                }\n",
       "            }, 500);\n",
       "            "
      ],
      "text/plain": [
       "<IPython.core.display.Javascript object>"
      ]
     },
     "metadata": {},
     "output_type": "display_data"
    }
   ],
   "source": [
    "date_refmt2 = datetime.datetime.strftime(date_dt, \"%Y-%m-%d\")\n",
    "date_refmt2"
   ]
  },
  {
   "cell_type": "code",
   "execution_count": 18,
   "metadata": {},
   "outputs": [
    {
     "data": {
      "text/plain": [
       "6"
      ]
     },
     "execution_count": 18,
     "metadata": {},
     "output_type": "execute_result"
    },
    {
     "data": {
      "application/javascript": [
       "\n",
       "            setTimeout(function() {\n",
       "                var nbb_cell_id = 18;\n",
       "                var nbb_unformatted_code = \"# Extract the weekday number for the datetime object.\\nweekday_num = date_dt.weekday()\\nweekday_num\";\n",
       "                var nbb_formatted_code = \"# Extract the weekday number for the datetime object.\\nweekday_num = date_dt.weekday()\\nweekday_num\";\n",
       "                var nbb_cells = Jupyter.notebook.get_cells();\n",
       "                for (var i = 0; i < nbb_cells.length; ++i) {\n",
       "                    if (nbb_cells[i].input_prompt_number == nbb_cell_id) {\n",
       "                        if (nbb_cells[i].get_text() == nbb_unformatted_code) {\n",
       "                             nbb_cells[i].set_text(nbb_formatted_code);\n",
       "                        }\n",
       "                        break;\n",
       "                    }\n",
       "                }\n",
       "            }, 500);\n",
       "            "
      ],
      "text/plain": [
       "<IPython.core.display.Javascript object>"
      ]
     },
     "metadata": {},
     "output_type": "display_data"
    }
   ],
   "source": [
    "# Extract the weekday number for the datetime object.\n",
    "weekday_num = date_dt.weekday()\n",
    "weekday_num"
   ]
  },
  {
   "cell_type": "code",
   "execution_count": 19,
   "metadata": {},
   "outputs": [
    {
     "data": {
      "text/plain": [
       "6"
      ]
     },
     "execution_count": 19,
     "metadata": {},
     "output_type": "execute_result"
    },
    {
     "data": {
      "application/javascript": [
       "\n",
       "            setTimeout(function() {\n",
       "                var nbb_cell_id = 19;\n",
       "                var nbb_unformatted_code = \"# Get the datetime of the same weekday number 6 weeks into the future.\\nsix_weeks = datetime.timedelta(weeks=6)\\nsix_weeks\\nnew_date = date_dt + six_weeks\\n# new_date.week = new_date.week + 6\\nnew_date.weekday()\";\n",
       "                var nbb_formatted_code = \"# Get the datetime of the same weekday number 6 weeks into the future.\\nsix_weeks = datetime.timedelta(weeks=6)\\nsix_weeks\\nnew_date = date_dt + six_weeks\\n# new_date.week = new_date.week + 6\\nnew_date.weekday()\";\n",
       "                var nbb_cells = Jupyter.notebook.get_cells();\n",
       "                for (var i = 0; i < nbb_cells.length; ++i) {\n",
       "                    if (nbb_cells[i].input_prompt_number == nbb_cell_id) {\n",
       "                        if (nbb_cells[i].get_text() == nbb_unformatted_code) {\n",
       "                             nbb_cells[i].set_text(nbb_formatted_code);\n",
       "                        }\n",
       "                        break;\n",
       "                    }\n",
       "                }\n",
       "            }, 500);\n",
       "            "
      ],
      "text/plain": [
       "<IPython.core.display.Javascript object>"
      ]
     },
     "metadata": {},
     "output_type": "display_data"
    }
   ],
   "source": [
    "# Get the datetime of the same weekday number 6 weeks into the future.\n",
    "six_weeks = datetime.timedelta(weeks=6)\n",
    "six_weeks\n",
    "new_date = date_dt + six_weeks\n",
    "# new_date.week = new_date.week + 6\n",
    "new_date.weekday()"
   ]
  },
  {
   "cell_type": "code",
   "execution_count": 20,
   "metadata": {},
   "outputs": [
    {
     "data": {
      "text/plain": [
       "60480.0"
      ]
     },
     "execution_count": 20,
     "metadata": {},
     "output_type": "execute_result"
    },
    {
     "data": {
      "application/javascript": [
       "\n",
       "            setTimeout(function() {\n",
       "                var nbb_cell_id = 20;\n",
       "                var nbb_unformatted_code = \"# Retrieve the number of minutes between the original datetime and \\n# the datetime for the same weekday 6 weeks in the future.\\ndate_diff = new_date - date_dt\\ndate_diff_mins = date_diff.total_seconds() / 60\\ndate_diff_mins\\n# date_diff_mins = date_diff * 24 * 60\\n# date_diff_mins\";\n",
       "                var nbb_formatted_code = \"# Retrieve the number of minutes between the original datetime and\\n# the datetime for the same weekday 6 weeks in the future.\\ndate_diff = new_date - date_dt\\ndate_diff_mins = date_diff.total_seconds() / 60\\ndate_diff_mins\\n# date_diff_mins = date_diff * 24 * 60\\n# date_diff_mins\";\n",
       "                var nbb_cells = Jupyter.notebook.get_cells();\n",
       "                for (var i = 0; i < nbb_cells.length; ++i) {\n",
       "                    if (nbb_cells[i].input_prompt_number == nbb_cell_id) {\n",
       "                        if (nbb_cells[i].get_text() == nbb_unformatted_code) {\n",
       "                             nbb_cells[i].set_text(nbb_formatted_code);\n",
       "                        }\n",
       "                        break;\n",
       "                    }\n",
       "                }\n",
       "            }, 500);\n",
       "            "
      ],
      "text/plain": [
       "<IPython.core.display.Javascript object>"
      ]
     },
     "metadata": {},
     "output_type": "display_data"
    }
   ],
   "source": [
    "# Retrieve the number of minutes between the original datetime and\n",
    "# the datetime for the same weekday 6 weeks in the future.\n",
    "date_diff = new_date - date_dt\n",
    "date_diff_mins = date_diff.total_seconds() / 60\n",
    "date_diff_mins\n",
    "# date_diff_mins = date_diff * 24 * 60\n",
    "# date_diff_mins"
   ]
  },
  {
   "cell_type": "code",
   "execution_count": 21,
   "metadata": {},
   "outputs": [
    {
     "data": {
      "application/javascript": [
       "\n",
       "            setTimeout(function() {\n",
       "                var nbb_cell_id = 21;\n",
       "                var nbb_unformatted_code = \"year = 2015\\nyear_start = datetime.datetime.strptime(f\\\"01-01-{year}\\\", \\\"%m-%d-%Y\\\")\\nyear_end = datetime.datetime.strptime(f\\\"12-31-{year}\\\", \\\"%m-%d-%Y\\\")\\n\\nyear_diff = year_end - year_start\\nnum_weeks = year_diff.total_seconds() / 60 / 60 / 24 / 7\";\n",
       "                var nbb_formatted_code = \"year = 2015\\nyear_start = datetime.datetime.strptime(f\\\"01-01-{year}\\\", \\\"%m-%d-%Y\\\")\\nyear_end = datetime.datetime.strptime(f\\\"12-31-{year}\\\", \\\"%m-%d-%Y\\\")\\n\\nyear_diff = year_end - year_start\\nnum_weeks = year_diff.total_seconds() / 60 / 60 / 24 / 7\";\n",
       "                var nbb_cells = Jupyter.notebook.get_cells();\n",
       "                for (var i = 0; i < nbb_cells.length; ++i) {\n",
       "                    if (nbb_cells[i].input_prompt_number == nbb_cell_id) {\n",
       "                        if (nbb_cells[i].get_text() == nbb_unformatted_code) {\n",
       "                             nbb_cells[i].set_text(nbb_formatted_code);\n",
       "                        }\n",
       "                        break;\n",
       "                    }\n",
       "                }\n",
       "            }, 500);\n",
       "            "
      ],
      "text/plain": [
       "<IPython.core.display.Javascript object>"
      ]
     },
     "metadata": {},
     "output_type": "display_data"
    }
   ],
   "source": [
    "year = 2015\n",
    "year_start = datetime.datetime.strptime(f\"01-01-{year}\", \"%m-%d-%Y\")\n",
    "year_end = datetime.datetime.strptime(f\"12-31-{year}\", \"%m-%d-%Y\")\n",
    "\n",
    "year_diff = year_end - year_start\n",
    "num_weeks = year_diff.total_seconds() / 60 / 60 / 24 / 7"
   ]
  },
  {
   "cell_type": "code",
   "execution_count": 22,
   "metadata": {
    "scrolled": false
   },
   "outputs": [
    {
     "name": "stdout",
     "output_type": "stream",
     "text": [
      "Year 2015 has 52.0 weeks\n",
      "Year 2016 has 52.142857142857146 weeks\n",
      "Year 2017 has 52.0 weeks\n",
      "Year 2018 has 52.0 weeks\n",
      "Year 2019 has 52.0 weeks\n",
      "Year 2020 has 52.142857142857146 weeks\n"
     ]
    },
    {
     "data": {
      "application/javascript": [
       "\n",
       "            setTimeout(function() {\n",
       "                var nbb_cell_id = 22;\n",
       "                var nbb_unformatted_code = \"# Use what you have learned to retrieve the number of weeks that are in years 2015 through 2020 respectively.\\n# Are they always the same? Why or why not?\\nyears = np.arange(2015, 2021)\\n\\nfor year in years:\\n    year_start = datetime.datetime.strptime(f\\\"01-01-{year}\\\", \\\"%m-%d-%Y\\\")\\n    year_end = datetime.datetime.strptime(f\\\"12-31-{year}\\\", \\\"%m-%d-%Y\\\")\\n    year_diff = year_end - year_start\\n    num_weeks = year_diff.total_seconds() / 60 / 60 / 24 / 7\\n    print(\\\"Year {} has {} weeks\\\".format(year, num_weeks))\";\n",
       "                var nbb_formatted_code = \"# Use what you have learned to retrieve the number of weeks that are in years 2015 through 2020 respectively.\\n# Are they always the same? Why or why not?\\nyears = np.arange(2015, 2021)\\n\\nfor year in years:\\n    year_start = datetime.datetime.strptime(f\\\"01-01-{year}\\\", \\\"%m-%d-%Y\\\")\\n    year_end = datetime.datetime.strptime(f\\\"12-31-{year}\\\", \\\"%m-%d-%Y\\\")\\n    year_diff = year_end - year_start\\n    num_weeks = year_diff.total_seconds() / 60 / 60 / 24 / 7\\n    print(\\\"Year {} has {} weeks\\\".format(year, num_weeks))\";\n",
       "                var nbb_cells = Jupyter.notebook.get_cells();\n",
       "                for (var i = 0; i < nbb_cells.length; ++i) {\n",
       "                    if (nbb_cells[i].input_prompt_number == nbb_cell_id) {\n",
       "                        if (nbb_cells[i].get_text() == nbb_unformatted_code) {\n",
       "                             nbb_cells[i].set_text(nbb_formatted_code);\n",
       "                        }\n",
       "                        break;\n",
       "                    }\n",
       "                }\n",
       "            }, 500);\n",
       "            "
      ],
      "text/plain": [
       "<IPython.core.display.Javascript object>"
      ]
     },
     "metadata": {},
     "output_type": "display_data"
    }
   ],
   "source": [
    "# Use what you have learned to retrieve the number of weeks that are in years 2015 through 2020 respectively.\n",
    "# Are they always the same? Why or why not?\n",
    "years = np.arange(2015, 2021)\n",
    "\n",
    "for year in years:\n",
    "    year_start = datetime.datetime.strptime(f\"01-01-{year}\", \"%m-%d-%Y\")\n",
    "    year_end = datetime.datetime.strptime(f\"12-31-{year}\", \"%m-%d-%Y\")\n",
    "    year_diff = year_end - year_start\n",
    "    num_weeks = year_diff.total_seconds() / 60 / 60 / 24 / 7\n",
    "    print(\"Year {} has {} weeks\".format(year, num_weeks))"
   ]
  },
  {
   "cell_type": "markdown",
   "metadata": {},
   "source": [
    "2018 and 2020 are slightly longer, indicating the extra day due to Leap Years."
   ]
  },
  {
   "cell_type": "code",
   "execution_count": null,
   "metadata": {},
   "outputs": [],
   "source": [
    "for year in years:\n",
    "    year_interest = datetime.datetime.strptime(f\"01-01-{year}\", \"%m-%d-%Y\")\n",
    "    print(\"Year {} begins on a {}\".format(year, year_interest.strftime(\"%A\")))"
   ]
  },
  {
   "cell_type": "markdown",
   "metadata": {},
   "source": [
    "Since 2018 is the only begining on a Monday, it is the only year without a year zero! Using `%U`, We should see 2017 as having 53 weeks, since `%U` starts counting weeks with the same logic but with Sundays."
   ]
  },
  {
   "cell_type": "code",
   "execution_count": null,
   "metadata": {},
   "outputs": [],
   "source": [
    "for year in years:\n",
    "    year_interest = datetime.datetime.strptime(f\"12-31-{year}\", \"%m-%d-%Y\")\n",
    "    print(\"Year {} has {} weeks\".format(year, year_interest.strftime(\"%U\")))"
   ]
  },
  {
   "cell_type": "markdown",
   "metadata": {},
   "source": [
    "~That's a bingo~ I was originally pulling out the week number using .strftime('%W) of the last day of the year, and 2018 had 53 weeks, because it was the only one starting on a Monday, so it didn't have a week 0. Taking the difference and converting to weeks as a decimal represents reality much better. Every year has 52 weeks, just leap years have that extra day."
   ]
  },
  {
   "cell_type": "code",
   "execution_count": null,
   "metadata": {},
   "outputs": [],
   "source": []
  }
 ],
 "metadata": {
  "kernelspec": {
   "display_name": "Python 3",
   "language": "python",
   "name": "python3"
  },
  "language_info": {
   "codemirror_mode": {
    "name": "ipython",
    "version": 3
   },
   "file_extension": ".py",
   "mimetype": "text/x-python",
   "name": "python",
   "nbconvert_exporter": "python",
   "pygments_lexer": "ipython3",
   "version": "3.7.6"
  }
 },
 "nbformat": 4,
 "nbformat_minor": 4
}
