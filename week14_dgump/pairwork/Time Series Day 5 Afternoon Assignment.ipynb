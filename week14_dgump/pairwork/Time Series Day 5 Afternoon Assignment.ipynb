{
 "cells": [
  {
   "cell_type": "markdown",
   "metadata": {
    "colab_type": "text",
    "id": "11QJImz-qfRa"
   },
   "source": [
    "# Time Series Classification and Clustering Assignment"
   ]
  },
  {
   "cell_type": "code",
   "execution_count": 1,
   "metadata": {},
   "outputs": [
    {
     "data": {
      "application/javascript": [
       "\n",
       "            setTimeout(function() {\n",
       "                var nbb_cell_id = 1;\n",
       "                var nbb_unformatted_code = \"%reload_ext nb_black\";\n",
       "                var nbb_formatted_code = \"%reload_ext nb_black\";\n",
       "                var nbb_cells = Jupyter.notebook.get_cells();\n",
       "                for (var i = 0; i < nbb_cells.length; ++i) {\n",
       "                    if (nbb_cells[i].input_prompt_number == nbb_cell_id) {\n",
       "                        if (nbb_cells[i].get_text() == nbb_unformatted_code) {\n",
       "                             nbb_cells[i].set_text(nbb_formatted_code);\n",
       "                        }\n",
       "                        break;\n",
       "                    }\n",
       "                }\n",
       "            }, 500);\n",
       "            "
      ],
      "text/plain": [
       "<IPython.core.display.Javascript object>"
      ]
     },
     "metadata": {},
     "output_type": "display_data"
    }
   ],
   "source": [
    "%reload_ext nb_black"
   ]
  },
  {
   "cell_type": "code",
   "execution_count": 2,
   "metadata": {
    "colab": {},
    "colab_type": "code",
    "id": "KqJPmihAqfRe"
   },
   "outputs": [
    {
     "data": {
      "application/javascript": [
       "\n",
       "            setTimeout(function() {\n",
       "                var nbb_cell_id = 2;\n",
       "                var nbb_unformatted_code = \"import pandas as pd\\nimport seaborn as sns\\nimport matplotlib.pyplot as plt\\nfrom sklearn.model_selection import train_test_split\\nfrom sklearn.linear_model import LogisticRegression\\nfrom sklearn.metrics import classification_report\\nfrom sklearn.cluster import KMeans\";\n",
       "                var nbb_formatted_code = \"import pandas as pd\\nimport seaborn as sns\\nimport matplotlib.pyplot as plt\\nfrom sklearn.model_selection import train_test_split\\nfrom sklearn.linear_model import LogisticRegression\\nfrom sklearn.metrics import classification_report\\nfrom sklearn.cluster import KMeans\";\n",
       "                var nbb_cells = Jupyter.notebook.get_cells();\n",
       "                for (var i = 0; i < nbb_cells.length; ++i) {\n",
       "                    if (nbb_cells[i].input_prompt_number == nbb_cell_id) {\n",
       "                        if (nbb_cells[i].get_text() == nbb_unformatted_code) {\n",
       "                             nbb_cells[i].set_text(nbb_formatted_code);\n",
       "                        }\n",
       "                        break;\n",
       "                    }\n",
       "                }\n",
       "            }, 500);\n",
       "            "
      ],
      "text/plain": [
       "<IPython.core.display.Javascript object>"
      ]
     },
     "metadata": {},
     "output_type": "display_data"
    }
   ],
   "source": [
    "import pandas as pd\n",
    "import seaborn as sns\n",
    "import matplotlib.pyplot as plt\n",
    "from sklearn.model_selection import train_test_split\n",
    "from sklearn.linear_model import LogisticRegression\n",
    "from sklearn.metrics import classification_report\n",
    "from sklearn.cluster import KMeans"
   ]
  },
  {
   "cell_type": "code",
   "execution_count": 8,
   "metadata": {},
   "outputs": [
    {
     "data": {
      "application/javascript": [
       "\n",
       "            setTimeout(function() {\n",
       "                var nbb_cell_id = 8;\n",
       "                var nbb_unformatted_code = \"data = pd.read_csv(\\\"../data/NFLX_data.csv\\\")\\n#data = data[[\\\"date\\\", \\\"close\\\"]]\\ndata[\\\"date\\\"] = pd.to_datetime(data[\\\"date\\\"])\";\n",
       "                var nbb_formatted_code = \"data = pd.read_csv(\\\"../data/NFLX_data.csv\\\")\\n# data = data[[\\\"date\\\", \\\"close\\\"]]\\ndata[\\\"date\\\"] = pd.to_datetime(data[\\\"date\\\"])\";\n",
       "                var nbb_cells = Jupyter.notebook.get_cells();\n",
       "                for (var i = 0; i < nbb_cells.length; ++i) {\n",
       "                    if (nbb_cells[i].input_prompt_number == nbb_cell_id) {\n",
       "                        if (nbb_cells[i].get_text() == nbb_unformatted_code) {\n",
       "                             nbb_cells[i].set_text(nbb_formatted_code);\n",
       "                        }\n",
       "                        break;\n",
       "                    }\n",
       "                }\n",
       "            }, 500);\n",
       "            "
      ],
      "text/plain": [
       "<IPython.core.display.Javascript object>"
      ]
     },
     "metadata": {},
     "output_type": "display_data"
    }
   ],
   "source": [
    "data = pd.read_csv(\"../data/NFLX_data.csv\")\n",
    "# data = data[[\"date\", \"close\"]]\n",
    "data[\"date\"] = pd.to_datetime(data[\"date\"])"
   ]
  },
  {
   "cell_type": "code",
   "execution_count": 23,
   "metadata": {},
   "outputs": [
    {
     "data": {
      "text/html": [
       "<div>\n",
       "<style scoped>\n",
       "    .dataframe tbody tr th:only-of-type {\n",
       "        vertical-align: middle;\n",
       "    }\n",
       "\n",
       "    .dataframe tbody tr th {\n",
       "        vertical-align: top;\n",
       "    }\n",
       "\n",
       "    .dataframe thead th {\n",
       "        text-align: right;\n",
       "    }\n",
       "</style>\n",
       "<table border=\"1\" class=\"dataframe\">\n",
       "  <thead>\n",
       "    <tr style=\"text-align: right;\">\n",
       "      <th></th>\n",
       "      <th>date</th>\n",
       "      <th>open</th>\n",
       "      <th>high</th>\n",
       "      <th>low</th>\n",
       "      <th>close</th>\n",
       "      <th>volume</th>\n",
       "      <th>Name</th>\n",
       "      <th>returns</th>\n",
       "      <th>MA_5</th>\n",
       "      <th>MA_10</th>\n",
       "      <th>trend</th>\n",
       "      <th>change</th>\n",
       "      <th>binary</th>\n",
       "    </tr>\n",
       "  </thead>\n",
       "  <tbody>\n",
       "    <tr>\n",
       "      <th>1254</th>\n",
       "      <td>2018-02-01</td>\n",
       "      <td>266.41</td>\n",
       "      <td>271.950</td>\n",
       "      <td>263.380</td>\n",
       "      <td>265.07</td>\n",
       "      <td>9669011</td>\n",
       "      <td>NFLX</td>\n",
       "      <td>-0.019349</td>\n",
       "      <td>274.672</td>\n",
       "      <td>260.269</td>\n",
       "      <td>positive</td>\n",
       "      <td>True</td>\n",
       "      <td>0</td>\n",
       "    </tr>\n",
       "    <tr>\n",
       "      <th>1255</th>\n",
       "      <td>2018-02-02</td>\n",
       "      <td>263.00</td>\n",
       "      <td>270.620</td>\n",
       "      <td>262.710</td>\n",
       "      <td>267.43</td>\n",
       "      <td>9123610</td>\n",
       "      <td>NFLX</td>\n",
       "      <td>0.008903</td>\n",
       "      <td>273.238</td>\n",
       "      <td>264.966</td>\n",
       "      <td>positive</td>\n",
       "      <td>True</td>\n",
       "      <td>0</td>\n",
       "    </tr>\n",
       "    <tr>\n",
       "      <th>1256</th>\n",
       "      <td>2018-02-05</td>\n",
       "      <td>262.00</td>\n",
       "      <td>267.899</td>\n",
       "      <td>250.030</td>\n",
       "      <td>254.26</td>\n",
       "      <td>11896053</td>\n",
       "      <td>NFLX</td>\n",
       "      <td>-0.049247</td>\n",
       "      <td>267.172</td>\n",
       "      <td>267.634</td>\n",
       "      <td>negative</td>\n",
       "      <td>False</td>\n",
       "      <td>1</td>\n",
       "    </tr>\n",
       "    <tr>\n",
       "      <th>1257</th>\n",
       "      <td>2018-02-06</td>\n",
       "      <td>247.70</td>\n",
       "      <td>266.700</td>\n",
       "      <td>245.000</td>\n",
       "      <td>265.72</td>\n",
       "      <td>12595801</td>\n",
       "      <td>NFLX</td>\n",
       "      <td>0.045072</td>\n",
       "      <td>264.556</td>\n",
       "      <td>269.177</td>\n",
       "      <td>negative</td>\n",
       "      <td>True</td>\n",
       "      <td>0</td>\n",
       "    </tr>\n",
       "    <tr>\n",
       "      <th>1258</th>\n",
       "      <td>2018-02-07</td>\n",
       "      <td>266.58</td>\n",
       "      <td>272.450</td>\n",
       "      <td>264.325</td>\n",
       "      <td>264.56</td>\n",
       "      <td>8981548</td>\n",
       "      <td>NFLX</td>\n",
       "      <td>-0.004365</td>\n",
       "      <td>263.408</td>\n",
       "      <td>269.503</td>\n",
       "      <td>negative</td>\n",
       "      <td>True</td>\n",
       "      <td>0</td>\n",
       "    </tr>\n",
       "  </tbody>\n",
       "</table>\n",
       "</div>"
      ],
      "text/plain": [
       "           date    open     high      low   close    volume  Name   returns  \\\n",
       "1254 2018-02-01  266.41  271.950  263.380  265.07   9669011  NFLX -0.019349   \n",
       "1255 2018-02-02  263.00  270.620  262.710  267.43   9123610  NFLX  0.008903   \n",
       "1256 2018-02-05  262.00  267.899  250.030  254.26  11896053  NFLX -0.049247   \n",
       "1257 2018-02-06  247.70  266.700  245.000  265.72  12595801  NFLX  0.045072   \n",
       "1258 2018-02-07  266.58  272.450  264.325  264.56   8981548  NFLX -0.004365   \n",
       "\n",
       "         MA_5    MA_10     trend  change  binary  \n",
       "1254  274.672  260.269  positive    True       0  \n",
       "1255  273.238  264.966  positive    True       0  \n",
       "1256  267.172  267.634  negative   False       1  \n",
       "1257  264.556  269.177  negative    True       0  \n",
       "1258  263.408  269.503  negative    True       0  "
      ]
     },
     "execution_count": 23,
     "metadata": {},
     "output_type": "execute_result"
    },
    {
     "data": {
      "application/javascript": [
       "\n",
       "            setTimeout(function() {\n",
       "                var nbb_cell_id = 23;\n",
       "                var nbb_unformatted_code = \"data[\\\"returns\\\"] = data[\\\"close\\\"].pct_change(1)\\ndata[\\\"MA_5\\\"] = data[\\\"close\\\"].rolling(5).mean()\\ndata[\\\"MA_10\\\"] = data[\\\"close\\\"].rolling(10).mean()\\ndata[\\\"trend\\\"] = \\\"None\\\"\\ndata.loc[data[\\\"MA_5\\\"] < data[\\\"MA_10\\\"], \\\"trend\\\"] = \\\"negative\\\"\\ndata.loc[data[\\\"MA_5\\\"] > data[\\\"MA_10\\\"], \\\"trend\\\"] = \\\"positive\\\"\\ndata[\\\"change\\\"] = data[\\\"trend\\\"].eq(data[\\\"trend\\\"].shift())\\n\\ndata[\\\"binary\\\"] = 0\\ndata.loc[(data[\\\"change\\\"] == False) & (data[\\\"trend\\\"] != None), \\\"binary\\\"] = 1\\ndata.dropna(inplace=True)\\ndata.tail()\";\n",
       "                var nbb_formatted_code = \"data[\\\"returns\\\"] = data[\\\"close\\\"].pct_change(1)\\ndata[\\\"MA_5\\\"] = data[\\\"close\\\"].rolling(5).mean()\\ndata[\\\"MA_10\\\"] = data[\\\"close\\\"].rolling(10).mean()\\ndata[\\\"trend\\\"] = \\\"None\\\"\\ndata.loc[data[\\\"MA_5\\\"] < data[\\\"MA_10\\\"], \\\"trend\\\"] = \\\"negative\\\"\\ndata.loc[data[\\\"MA_5\\\"] > data[\\\"MA_10\\\"], \\\"trend\\\"] = \\\"positive\\\"\\ndata[\\\"change\\\"] = data[\\\"trend\\\"].eq(data[\\\"trend\\\"].shift())\\n\\ndata[\\\"binary\\\"] = 0\\ndata.loc[(data[\\\"change\\\"] == False) & (data[\\\"trend\\\"] != None), \\\"binary\\\"] = 1\\ndata.dropna(inplace=True)\\ndata.tail()\";\n",
       "                var nbb_cells = Jupyter.notebook.get_cells();\n",
       "                for (var i = 0; i < nbb_cells.length; ++i) {\n",
       "                    if (nbb_cells[i].input_prompt_number == nbb_cell_id) {\n",
       "                        if (nbb_cells[i].get_text() == nbb_unformatted_code) {\n",
       "                             nbb_cells[i].set_text(nbb_formatted_code);\n",
       "                        }\n",
       "                        break;\n",
       "                    }\n",
       "                }\n",
       "            }, 500);\n",
       "            "
      ],
      "text/plain": [
       "<IPython.core.display.Javascript object>"
      ]
     },
     "metadata": {},
     "output_type": "display_data"
    }
   ],
   "source": [
    "data[\"returns\"] = data[\"close\"].pct_change(1)\n",
    "data[\"MA_5\"] = data[\"close\"].rolling(5).mean()\n",
    "data[\"MA_10\"] = data[\"close\"].rolling(10).mean()\n",
    "data[\"trend\"] = \"None\"\n",
    "data.loc[data[\"MA_5\"] < data[\"MA_10\"], \"trend\"] = \"negative\"\n",
    "data.loc[data[\"MA_5\"] > data[\"MA_10\"], \"trend\"] = \"positive\"\n",
    "data[\"change\"] = data[\"trend\"].eq(data[\"trend\"].shift())\n",
    "\n",
    "data[\"binary\"] = 0\n",
    "data.loc[(data[\"change\"] == False) & (data[\"trend\"] != None), \"binary\"] = 1\n",
    "data.dropna(inplace=True)\n",
    "data.tail()"
   ]
  },
  {
   "cell_type": "code",
   "execution_count": 15,
   "metadata": {},
   "outputs": [
    {
     "data": {
      "text/plain": [
       "<matplotlib.axes._subplots.AxesSubplot at 0x2b0546a38c8>"
      ]
     },
     "execution_count": 15,
     "metadata": {},
     "output_type": "execute_result"
    },
    {
     "data": {
      "image/png": "[encoded data removed]",
      "text/plain": [
       "<Figure size 432x288 with 1 Axes>"
      ]
     },
     "metadata": {
      "needs_background": "light"
     },
     "output_type": "display_data"
    },
    {
     "data": {
      "application/javascript": [
       "\n",
       "            setTimeout(function() {\n",
       "                var nbb_cell_id = 15;\n",
       "                var nbb_unformatted_code = \"data.set_index(\\\"date\\\").iloc[:90][[\\\"close\\\", \\\"MA_5\\\", \\\"MA_10\\\"]].plot()\";\n",
       "                var nbb_formatted_code = \"data.set_index(\\\"date\\\").iloc[:90][[\\\"close\\\", \\\"MA_5\\\", \\\"MA_10\\\"]].plot()\";\n",
       "                var nbb_cells = Jupyter.notebook.get_cells();\n",
       "                for (var i = 0; i < nbb_cells.length; ++i) {\n",
       "                    if (nbb_cells[i].input_prompt_number == nbb_cell_id) {\n",
       "                        if (nbb_cells[i].get_text() == nbb_unformatted_code) {\n",
       "                             nbb_cells[i].set_text(nbb_formatted_code);\n",
       "                        }\n",
       "                        break;\n",
       "                    }\n",
       "                }\n",
       "            }, 500);\n",
       "            "
      ],
      "text/plain": [
       "<IPython.core.display.Javascript object>"
      ]
     },
     "metadata": {},
     "output_type": "display_data"
    }
   ],
   "source": [
    "data.set_index(\"date\").iloc[:90][[\"close\", \"MA_5\", \"MA_10\"]].plot()"
   ]
  },
  {
   "cell_type": "code",
   "execution_count": 24,
   "metadata": {},
   "outputs": [
    {
     "data": {
      "text/html": [
       "<div>\n",
       "<style scoped>\n",
       "    .dataframe tbody tr th:only-of-type {\n",
       "        vertical-align: middle;\n",
       "    }\n",
       "\n",
       "    .dataframe tbody tr th {\n",
       "        vertical-align: top;\n",
       "    }\n",
       "\n",
       "    .dataframe thead th {\n",
       "        text-align: right;\n",
       "    }\n",
       "</style>\n",
       "<table border=\"1\" class=\"dataframe\">\n",
       "  <thead>\n",
       "    <tr style=\"text-align: right;\">\n",
       "      <th></th>\n",
       "      <th>date</th>\n",
       "      <th>returns</th>\n",
       "      <th>binary</th>\n",
       "    </tr>\n",
       "  </thead>\n",
       "  <tbody>\n",
       "    <tr>\n",
       "      <th>9</th>\n",
       "      <td>2013-02-22</td>\n",
       "      <td>-0.038952</td>\n",
       "      <td>1</td>\n",
       "    </tr>\n",
       "    <tr>\n",
       "      <th>10</th>\n",
       "      <td>2013-02-25</td>\n",
       "      <td>-0.003005</td>\n",
       "      <td>0</td>\n",
       "    </tr>\n",
       "    <tr>\n",
       "      <th>11</th>\n",
       "      <td>2013-02-26</td>\n",
       "      <td>0.026599</td>\n",
       "      <td>1</td>\n",
       "    </tr>\n",
       "    <tr>\n",
       "      <th>12</th>\n",
       "      <td>2013-02-27</td>\n",
       "      <td>0.001251</td>\n",
       "      <td>0</td>\n",
       "    </tr>\n",
       "    <tr>\n",
       "      <th>13</th>\n",
       "      <td>2013-02-28</td>\n",
       "      <td>0.020398</td>\n",
       "      <td>0</td>\n",
       "    </tr>\n",
       "    <tr>\n",
       "      <th>...</th>\n",
       "      <td>...</td>\n",
       "      <td>...</td>\n",
       "      <td>...</td>\n",
       "    </tr>\n",
       "    <tr>\n",
       "      <th>1254</th>\n",
       "      <td>2018-02-01</td>\n",
       "      <td>-0.019349</td>\n",
       "      <td>0</td>\n",
       "    </tr>\n",
       "    <tr>\n",
       "      <th>1255</th>\n",
       "      <td>2018-02-02</td>\n",
       "      <td>0.008903</td>\n",
       "      <td>0</td>\n",
       "    </tr>\n",
       "    <tr>\n",
       "      <th>1256</th>\n",
       "      <td>2018-02-05</td>\n",
       "      <td>-0.049247</td>\n",
       "      <td>1</td>\n",
       "    </tr>\n",
       "    <tr>\n",
       "      <th>1257</th>\n",
       "      <td>2018-02-06</td>\n",
       "      <td>0.045072</td>\n",
       "      <td>0</td>\n",
       "    </tr>\n",
       "    <tr>\n",
       "      <th>1258</th>\n",
       "      <td>2018-02-07</td>\n",
       "      <td>-0.004365</td>\n",
       "      <td>0</td>\n",
       "    </tr>\n",
       "  </tbody>\n",
       "</table>\n",
       "<p>1250 rows × 3 columns</p>\n",
       "</div>"
      ],
      "text/plain": [
       "           date   returns  binary\n",
       "9    2013-02-22 -0.038952       1\n",
       "10   2013-02-25 -0.003005       0\n",
       "11   2013-02-26  0.026599       1\n",
       "12   2013-02-27  0.001251       0\n",
       "13   2013-02-28  0.020398       0\n",
       "...         ...       ...     ...\n",
       "1254 2018-02-01 -0.019349       0\n",
       "1255 2018-02-02  0.008903       0\n",
       "1256 2018-02-05 -0.049247       1\n",
       "1257 2018-02-06  0.045072       0\n",
       "1258 2018-02-07 -0.004365       0\n",
       "\n",
       "[1250 rows x 3 columns]"
      ]
     },
     "execution_count": 24,
     "metadata": {},
     "output_type": "execute_result"
    },
    {
     "data": {
      "application/javascript": [
       "\n",
       "            setTimeout(function() {\n",
       "                var nbb_cell_id = 24;\n",
       "                var nbb_unformatted_code = \"transformed = data[[\\\"date\\\", \\\"returns\\\", \\\"binary\\\"]]\\ntransformed\";\n",
       "                var nbb_formatted_code = \"transformed = data[[\\\"date\\\", \\\"returns\\\", \\\"binary\\\"]]\\ntransformed\";\n",
       "                var nbb_cells = Jupyter.notebook.get_cells();\n",
       "                for (var i = 0; i < nbb_cells.length; ++i) {\n",
       "                    if (nbb_cells[i].input_prompt_number == nbb_cell_id) {\n",
       "                        if (nbb_cells[i].get_text() == nbb_unformatted_code) {\n",
       "                             nbb_cells[i].set_text(nbb_formatted_code);\n",
       "                        }\n",
       "                        break;\n",
       "                    }\n",
       "                }\n",
       "            }, 500);\n",
       "            "
      ],
      "text/plain": [
       "<IPython.core.display.Javascript object>"
      ]
     },
     "metadata": {},
     "output_type": "display_data"
    }
   ],
   "source": [
    "transformed = data[[\"date\", \"returns\", \"binary\"]]\n",
    "transformed"
   ]
  },
  {
   "cell_type": "code",
   "execution_count": 30,
   "metadata": {},
   "outputs": [
    {
     "data": {
      "text/html": [
       "<div>\n",
       "<style scoped>\n",
       "    .dataframe tbody tr th:only-of-type {\n",
       "        vertical-align: middle;\n",
       "    }\n",
       "\n",
       "    .dataframe tbody tr th {\n",
       "        vertical-align: top;\n",
       "    }\n",
       "\n",
       "    .dataframe thead th {\n",
       "        text-align: right;\n",
       "    }\n",
       "</style>\n",
       "<table border=\"1\" class=\"dataframe\">\n",
       "  <thead>\n",
       "    <tr style=\"text-align: right;\">\n",
       "      <th></th>\n",
       "      <th>date</th>\n",
       "      <th>returns</th>\n",
       "      <th>binary</th>\n",
       "      <th>t-1</th>\n",
       "      <th>t-2</th>\n",
       "      <th>t-3</th>\n",
       "      <th>t-4</th>\n",
       "      <th>t-5</th>\n",
       "      <th>t-6</th>\n",
       "      <th>t-7</th>\n",
       "      <th>...</th>\n",
       "      <th>t-81</th>\n",
       "      <th>t-82</th>\n",
       "      <th>t-83</th>\n",
       "      <th>t-84</th>\n",
       "      <th>t-85</th>\n",
       "      <th>t-86</th>\n",
       "      <th>t-87</th>\n",
       "      <th>t-88</th>\n",
       "      <th>t-89</th>\n",
       "      <th>t-90</th>\n",
       "    </tr>\n",
       "  </thead>\n",
       "  <tbody>\n",
       "    <tr>\n",
       "      <th>189</th>\n",
       "      <td>2013-11-07</td>\n",
       "      <td>-0.026131</td>\n",
       "      <td>0</td>\n",
       "      <td>-0.017189</td>\n",
       "      <td>0.011553</td>\n",
       "      <td>0.025314</td>\n",
       "      <td>0.021040</td>\n",
       "      <td>0.013642</td>\n",
       "      <td>-0.027987</td>\n",
       "      <td>0.042357</td>\n",
       "      <td>...</td>\n",
       "      <td>0.009692</td>\n",
       "      <td>0.002794</td>\n",
       "      <td>0.053613</td>\n",
       "      <td>0.001435</td>\n",
       "      <td>-0.014400</td>\n",
       "      <td>0.061270</td>\n",
       "      <td>0.035541</td>\n",
       "      <td>0.018968</td>\n",
       "      <td>-0.002484</td>\n",
       "      <td>-0.012575</td>\n",
       "    </tr>\n",
       "    <tr>\n",
       "      <th>190</th>\n",
       "      <td>2013-11-08</td>\n",
       "      <td>0.024598</td>\n",
       "      <td>0</td>\n",
       "      <td>-0.026131</td>\n",
       "      <td>-0.017189</td>\n",
       "      <td>0.011553</td>\n",
       "      <td>0.025314</td>\n",
       "      <td>0.021040</td>\n",
       "      <td>0.013642</td>\n",
       "      <td>-0.027987</td>\n",
       "      <td>...</td>\n",
       "      <td>0.028561</td>\n",
       "      <td>0.009692</td>\n",
       "      <td>0.002794</td>\n",
       "      <td>0.053613</td>\n",
       "      <td>0.001435</td>\n",
       "      <td>-0.014400</td>\n",
       "      <td>0.061270</td>\n",
       "      <td>0.035541</td>\n",
       "      <td>0.018968</td>\n",
       "      <td>-0.002484</td>\n",
       "    </tr>\n",
       "    <tr>\n",
       "      <th>191</th>\n",
       "      <td>2013-11-11</td>\n",
       "      <td>0.008988</td>\n",
       "      <td>0</td>\n",
       "      <td>0.024598</td>\n",
       "      <td>-0.026131</td>\n",
       "      <td>-0.017189</td>\n",
       "      <td>0.011553</td>\n",
       "      <td>0.025314</td>\n",
       "      <td>0.021040</td>\n",
       "      <td>0.013642</td>\n",
       "      <td>...</td>\n",
       "      <td>-0.005636</td>\n",
       "      <td>0.028561</td>\n",
       "      <td>0.009692</td>\n",
       "      <td>0.002794</td>\n",
       "      <td>0.053613</td>\n",
       "      <td>0.001435</td>\n",
       "      <td>-0.014400</td>\n",
       "      <td>0.061270</td>\n",
       "      <td>0.035541</td>\n",
       "      <td>0.018968</td>\n",
       "    </tr>\n",
       "    <tr>\n",
       "      <th>192</th>\n",
       "      <td>2013-11-12</td>\n",
       "      <td>-0.012369</td>\n",
       "      <td>0</td>\n",
       "      <td>0.008988</td>\n",
       "      <td>0.024598</td>\n",
       "      <td>-0.026131</td>\n",
       "      <td>-0.017189</td>\n",
       "      <td>0.011553</td>\n",
       "      <td>0.025314</td>\n",
       "      <td>0.021040</td>\n",
       "      <td>...</td>\n",
       "      <td>-0.006884</td>\n",
       "      <td>-0.005636</td>\n",
       "      <td>0.028561</td>\n",
       "      <td>0.009692</td>\n",
       "      <td>0.002794</td>\n",
       "      <td>0.053613</td>\n",
       "      <td>0.001435</td>\n",
       "      <td>-0.014400</td>\n",
       "      <td>0.061270</td>\n",
       "      <td>0.035541</td>\n",
       "    </tr>\n",
       "    <tr>\n",
       "      <th>193</th>\n",
       "      <td>2013-11-13</td>\n",
       "      <td>0.004656</td>\n",
       "      <td>0</td>\n",
       "      <td>-0.012369</td>\n",
       "      <td>0.008988</td>\n",
       "      <td>0.024598</td>\n",
       "      <td>-0.026131</td>\n",
       "      <td>-0.017189</td>\n",
       "      <td>0.011553</td>\n",
       "      <td>0.025314</td>\n",
       "      <td>...</td>\n",
       "      <td>-0.009887</td>\n",
       "      <td>-0.006884</td>\n",
       "      <td>-0.005636</td>\n",
       "      <td>0.028561</td>\n",
       "      <td>0.009692</td>\n",
       "      <td>0.002794</td>\n",
       "      <td>0.053613</td>\n",
       "      <td>0.001435</td>\n",
       "      <td>-0.014400</td>\n",
       "      <td>0.061270</td>\n",
       "    </tr>\n",
       "  </tbody>\n",
       "</table>\n",
       "<p>5 rows × 93 columns</p>\n",
       "</div>"
      ],
      "text/plain": [
       "          date   returns  binary       t-1       t-2       t-3       t-4  \\\n",
       "189 2013-11-07 -0.026131       0 -0.017189  0.011553  0.025314  0.021040   \n",
       "190 2013-11-08  0.024598       0 -0.026131 -0.017189  0.011553  0.025314   \n",
       "191 2013-11-11  0.008988       0  0.024598 -0.026131 -0.017189  0.011553   \n",
       "192 2013-11-12 -0.012369       0  0.008988  0.024598 -0.026131 -0.017189   \n",
       "193 2013-11-13  0.004656       0 -0.012369  0.008988  0.024598 -0.026131   \n",
       "\n",
       "          t-5       t-6       t-7  ...      t-81      t-82      t-83  \\\n",
       "189  0.013642 -0.027987  0.042357  ...  0.009692  0.002794  0.053613   \n",
       "190  0.021040  0.013642 -0.027987  ...  0.028561  0.009692  0.002794   \n",
       "191  0.025314  0.021040  0.013642  ... -0.005636  0.028561  0.009692   \n",
       "192  0.011553  0.025314  0.021040  ... -0.006884 -0.005636  0.028561   \n",
       "193 -0.017189  0.011553  0.025314  ... -0.009887 -0.006884 -0.005636   \n",
       "\n",
       "         t-84      t-85      t-86      t-87      t-88      t-89      t-90  \n",
       "189  0.001435 -0.014400  0.061270  0.035541  0.018968 -0.002484 -0.012575  \n",
       "190  0.053613  0.001435 -0.014400  0.061270  0.035541  0.018968 -0.002484  \n",
       "191  0.002794  0.053613  0.001435 -0.014400  0.061270  0.035541  0.018968  \n",
       "192  0.009692  0.002794  0.053613  0.001435 -0.014400  0.061270  0.035541  \n",
       "193  0.028561  0.009692  0.002794  0.053613  0.001435 -0.014400  0.061270  \n",
       "\n",
       "[5 rows x 93 columns]"
      ]
     },
     "execution_count": 30,
     "metadata": {},
     "output_type": "execute_result"
    },
    {
     "data": {
      "application/javascript": [
       "\n",
       "            setTimeout(function() {\n",
       "                var nbb_cell_id = 30;\n",
       "                var nbb_unformatted_code = \"history = 90\\nfuture = 0\\nshifts = [x + future for x in list(range(1, history + 1))]\\n\\nfor shift in shifts:\\n    transformed[\\\"t-\\\" + str(shift)] = transformed[\\\"returns\\\"].shift(shift)\\n\\ntransformed.dropna(inplace=True)\\ntransformed.head()\";\n",
       "                var nbb_formatted_code = \"history = 90\\nfuture = 0\\nshifts = [x + future for x in list(range(1, history + 1))]\\n\\nfor shift in shifts:\\n    transformed[\\\"t-\\\" + str(shift)] = transformed[\\\"returns\\\"].shift(shift)\\n\\ntransformed.dropna(inplace=True)\\ntransformed.head()\";\n",
       "                var nbb_cells = Jupyter.notebook.get_cells();\n",
       "                for (var i = 0; i < nbb_cells.length; ++i) {\n",
       "                    if (nbb_cells[i].input_prompt_number == nbb_cell_id) {\n",
       "                        if (nbb_cells[i].get_text() == nbb_unformatted_code) {\n",
       "                             nbb_cells[i].set_text(nbb_formatted_code);\n",
       "                        }\n",
       "                        break;\n",
       "                    }\n",
       "                }\n",
       "            }, 500);\n",
       "            "
      ],
      "text/plain": [
       "<IPython.core.display.Javascript object>"
      ]
     },
     "metadata": {},
     "output_type": "display_data"
    }
   ],
   "source": [
    "history = 90\n",
    "future = 0\n",
    "shifts = [x + future for x in list(range(1, history + 1))]\n",
    "\n",
    "for shift in shifts:\n",
    "    transformed[\"t-\" + str(shift)] = transformed[\"returns\"].shift(shift)\n",
    "\n",
    "transformed.dropna(inplace=True)\n",
    "transformed.head()"
   ]
  },
  {
   "cell_type": "code",
   "execution_count": 36,
   "metadata": {},
   "outputs": [
    {
     "data": {
      "application/javascript": [
       "\n",
       "            setTimeout(function() {\n",
       "                var nbb_cell_id = 36;\n",
       "                var nbb_unformatted_code = \"X = transformed.drop(columns=[\\\"date\\\", \\\"returns\\\", \\\"binary\\\"])\\ny = transformed[\\\"binary\\\"]\\n\\nX_train, X_test, y_train, y_test = train_test_split(X, y, test_size=0.2, shuffle=False)\";\n",
       "                var nbb_formatted_code = \"X = transformed.drop(columns=[\\\"date\\\", \\\"returns\\\", \\\"binary\\\"])\\ny = transformed[\\\"binary\\\"]\\n\\nX_train, X_test, y_train, y_test = train_test_split(X, y, test_size=0.2, shuffle=False)\";\n",
       "                var nbb_cells = Jupyter.notebook.get_cells();\n",
       "                for (var i = 0; i < nbb_cells.length; ++i) {\n",
       "                    if (nbb_cells[i].input_prompt_number == nbb_cell_id) {\n",
       "                        if (nbb_cells[i].get_text() == nbb_unformatted_code) {\n",
       "                             nbb_cells[i].set_text(nbb_formatted_code);\n",
       "                        }\n",
       "                        break;\n",
       "                    }\n",
       "                }\n",
       "            }, 500);\n",
       "            "
      ],
      "text/plain": [
       "<IPython.core.display.Javascript object>"
      ]
     },
     "metadata": {},
     "output_type": "display_data"
    }
   ],
   "source": [
    "X = transformed.drop(columns=[\"date\", \"returns\", \"binary\"])\n",
    "y = transformed[\"binary\"]\n",
    "\n",
    "X_train, X_test, y_train, y_test = train_test_split(X, y, test_size=0.2, shuffle=False)"
   ]
  },
  {
   "cell_type": "code",
   "execution_count": 37,
   "metadata": {},
   "outputs": [
    {
     "data": {
      "text/plain": [
       "0    961\n",
       "1    109\n",
       "Name: binary, dtype: int64"
      ]
     },
     "execution_count": 37,
     "metadata": {},
     "output_type": "execute_result"
    },
    {
     "data": {
      "application/javascript": [
       "\n",
       "            setTimeout(function() {\n",
       "                var nbb_cell_id = 37;\n",
       "                var nbb_unformatted_code = \"y.value_counts()\";\n",
       "                var nbb_formatted_code = \"y.value_counts()\";\n",
       "                var nbb_cells = Jupyter.notebook.get_cells();\n",
       "                for (var i = 0; i < nbb_cells.length; ++i) {\n",
       "                    if (nbb_cells[i].input_prompt_number == nbb_cell_id) {\n",
       "                        if (nbb_cells[i].get_text() == nbb_unformatted_code) {\n",
       "                             nbb_cells[i].set_text(nbb_formatted_code);\n",
       "                        }\n",
       "                        break;\n",
       "                    }\n",
       "                }\n",
       "            }, 500);\n",
       "            "
      ],
      "text/plain": [
       "<IPython.core.display.Javascript object>"
      ]
     },
     "metadata": {},
     "output_type": "display_data"
    }
   ],
   "source": [
    "y.value_counts()"
   ]
  },
  {
   "cell_type": "code",
   "execution_count": 38,
   "metadata": {},
   "outputs": [
    {
     "data": {
      "text/plain": [
       "LogisticRegression(C=1.0, class_weight='balanced', dual=False,\n",
       "                   fit_intercept=True, intercept_scaling=1, l1_ratio=None,\n",
       "                   max_iter=100, multi_class='auto', n_jobs=None, penalty='l2',\n",
       "                   random_state=None, solver='lbfgs', tol=0.0001, verbose=0,\n",
       "                   warm_start=False)"
      ]
     },
     "execution_count": 38,
     "metadata": {},
     "output_type": "execute_result"
    },
    {
     "data": {
      "application/javascript": [
       "\n",
       "            setTimeout(function() {\n",
       "                var nbb_cell_id = 38;\n",
       "                var nbb_unformatted_code = \"model = LogisticRegression(class_weight=\\\"balanced\\\")\\nmodel.fit(X_train, y_train)\";\n",
       "                var nbb_formatted_code = \"model = LogisticRegression(class_weight=\\\"balanced\\\")\\nmodel.fit(X_train, y_train)\";\n",
       "                var nbb_cells = Jupyter.notebook.get_cells();\n",
       "                for (var i = 0; i < nbb_cells.length; ++i) {\n",
       "                    if (nbb_cells[i].input_prompt_number == nbb_cell_id) {\n",
       "                        if (nbb_cells[i].get_text() == nbb_unformatted_code) {\n",
       "                             nbb_cells[i].set_text(nbb_formatted_code);\n",
       "                        }\n",
       "                        break;\n",
       "                    }\n",
       "                }\n",
       "            }, 500);\n",
       "            "
      ],
      "text/plain": [
       "<IPython.core.display.Javascript object>"
      ]
     },
     "metadata": {},
     "output_type": "display_data"
    }
   ],
   "source": [
    "model = LogisticRegression(class_weight=\"balanced\")\n",
    "model.fit(X_train, y_train)"
   ]
  },
  {
   "cell_type": "code",
   "execution_count": 39,
   "metadata": {},
   "outputs": [
    {
     "data": {
      "application/javascript": [
       "\n",
       "            setTimeout(function() {\n",
       "                var nbb_cell_id = 39;\n",
       "                var nbb_unformatted_code = \"predictions = model.predict(X_test)\";\n",
       "                var nbb_formatted_code = \"predictions = model.predict(X_test)\";\n",
       "                var nbb_cells = Jupyter.notebook.get_cells();\n",
       "                for (var i = 0; i < nbb_cells.length; ++i) {\n",
       "                    if (nbb_cells[i].input_prompt_number == nbb_cell_id) {\n",
       "                        if (nbb_cells[i].get_text() == nbb_unformatted_code) {\n",
       "                             nbb_cells[i].set_text(nbb_formatted_code);\n",
       "                        }\n",
       "                        break;\n",
       "                    }\n",
       "                }\n",
       "            }, 500);\n",
       "            "
      ],
      "text/plain": [
       "<IPython.core.display.Javascript object>"
      ]
     },
     "metadata": {},
     "output_type": "display_data"
    }
   ],
   "source": [
    "predictions = model.predict(X_test)"
   ]
  },
  {
   "cell_type": "code",
   "execution_count": 40,
   "metadata": {},
   "outputs": [
    {
     "name": "stdout",
     "output_type": "stream",
     "text": [
      "              precision    recall  f1-score   support\n",
      "\n",
      "           0       0.90      0.76      0.82       191\n",
      "           1       0.12      0.26      0.16        23\n",
      "\n",
      "    accuracy                           0.71       214\n",
      "   macro avg       0.51      0.51      0.49       214\n",
      "weighted avg       0.81      0.71      0.75       214\n",
      "\n"
     ]
    },
    {
     "data": {
      "application/javascript": [
       "\n",
       "            setTimeout(function() {\n",
       "                var nbb_cell_id = 40;\n",
       "                var nbb_unformatted_code = \"print(classification_report(y_test, predictions))\";\n",
       "                var nbb_formatted_code = \"print(classification_report(y_test, predictions))\";\n",
       "                var nbb_cells = Jupyter.notebook.get_cells();\n",
       "                for (var i = 0; i < nbb_cells.length; ++i) {\n",
       "                    if (nbb_cells[i].input_prompt_number == nbb_cell_id) {\n",
       "                        if (nbb_cells[i].get_text() == nbb_unformatted_code) {\n",
       "                             nbb_cells[i].set_text(nbb_formatted_code);\n",
       "                        }\n",
       "                        break;\n",
       "                    }\n",
       "                }\n",
       "            }, 500);\n",
       "            "
      ],
      "text/plain": [
       "<IPython.core.display.Javascript object>"
      ]
     },
     "metadata": {},
     "output_type": "display_data"
    }
   ],
   "source": [
    "print(classification_report(y_test, predictions))"
   ]
  },
  {
   "cell_type": "code",
   "execution_count": 41,
   "metadata": {},
   "outputs": [
    {
     "data": {
      "text/plain": [
       "9       0\n",
       "10      0\n",
       "11      1\n",
       "12      1\n",
       "13      1\n",
       "       ..\n",
       "1254    0\n",
       "1255    1\n",
       "1256    0\n",
       "1257    1\n",
       "1258    0\n",
       "Name: returns, Length: 1250, dtype: int32"
      ]
     },
     "execution_count": 41,
     "metadata": {},
     "output_type": "execute_result"
    },
    {
     "data": {
      "application/javascript": [
       "\n",
       "            setTimeout(function() {\n",
       "                var nbb_cell_id = 41;\n",
       "                var nbb_unformatted_code = \"(data['returns'] > 0).astype(int)\";\n",
       "                var nbb_formatted_code = \"(data[\\\"returns\\\"] > 0).astype(int)\";\n",
       "                var nbb_cells = Jupyter.notebook.get_cells();\n",
       "                for (var i = 0; i < nbb_cells.length; ++i) {\n",
       "                    if (nbb_cells[i].input_prompt_number == nbb_cell_id) {\n",
       "                        if (nbb_cells[i].get_text() == nbb_unformatted_code) {\n",
       "                             nbb_cells[i].set_text(nbb_formatted_code);\n",
       "                        }\n",
       "                        break;\n",
       "                    }\n",
       "                }\n",
       "            }, 500);\n",
       "            "
      ],
      "text/plain": [
       "<IPython.core.display.Javascript object>"
      ]
     },
     "metadata": {},
     "output_type": "display_data"
    }
   ],
   "source": [
    "(data[\"returns\"] > 0).astype(int)"
   ]
  },
  {
   "cell_type": "code",
   "execution_count": null,
   "metadata": {},
   "outputs": [],
   "source": []
  },
  {
   "cell_type": "code",
   "execution_count": null,
   "metadata": {},
   "outputs": [],
   "source": []
  },
  {
   "cell_type": "code",
   "execution_count": null,
   "metadata": {},
   "outputs": [],
   "source": []
  },
  {
   "cell_type": "code",
   "execution_count": null,
   "metadata": {},
   "outputs": [],
   "source": []
  },
  {
   "cell_type": "code",
   "execution_count": null,
   "metadata": {},
   "outputs": [],
   "source": []
  },
  {
   "cell_type": "code",
   "execution_count": null,
   "metadata": {},
   "outputs": [],
   "source": []
  },
  {
   "cell_type": "code",
   "execution_count": null,
   "metadata": {},
   "outputs": [],
   "source": []
  },
  {
   "cell_type": "code",
   "execution_count": 42,
   "metadata": {},
   "outputs": [
    {
     "data": {
      "application/javascript": [
       "\n",
       "            setTimeout(function() {\n",
       "                var nbb_cell_id = 42;\n",
       "                var nbb_unformatted_code = \"def kmeans(df, clusters=2):\\n    model = KMeans(n_clusters=clusters, random_state=42)\\n    clusters = model.fit_predict(df)\\n    results = df.copy()\\n    results['Cluster'] = clusters\\n    \\n    cluster_size = results.groupby(['Cluster']).size().reset_index()\\n    cluster_size.columns = ['Cluster', 'Count']\\n    cluster_means = results.groupby(['Cluster'], as_index=False).mean()\\n    summary = pd.merge(cluster_size, cluster_means, on='Cluster')\\n    \\n    return results, summary\";\n",
       "                var nbb_formatted_code = \"def kmeans(df, clusters=2):\\n    model = KMeans(n_clusters=clusters, random_state=42)\\n    clusters = model.fit_predict(df)\\n    results = df.copy()\\n    results[\\\"Cluster\\\"] = clusters\\n\\n    cluster_size = results.groupby([\\\"Cluster\\\"]).size().reset_index()\\n    cluster_size.columns = [\\\"Cluster\\\", \\\"Count\\\"]\\n    cluster_means = results.groupby([\\\"Cluster\\\"], as_index=False).mean()\\n    summary = pd.merge(cluster_size, cluster_means, on=\\\"Cluster\\\")\\n\\n    return results, summary\";\n",
       "                var nbb_cells = Jupyter.notebook.get_cells();\n",
       "                for (var i = 0; i < nbb_cells.length; ++i) {\n",
       "                    if (nbb_cells[i].input_prompt_number == nbb_cell_id) {\n",
       "                        if (nbb_cells[i].get_text() == nbb_unformatted_code) {\n",
       "                             nbb_cells[i].set_text(nbb_formatted_code);\n",
       "                        }\n",
       "                        break;\n",
       "                    }\n",
       "                }\n",
       "            }, 500);\n",
       "            "
      ],
      "text/plain": [
       "<IPython.core.display.Javascript object>"
      ]
     },
     "metadata": {},
     "output_type": "display_data"
    }
   ],
   "source": [
    "def kmeans(df, clusters=2):\n",
    "    model = KMeans(n_clusters=clusters, random_state=42)\n",
    "    clusters = model.fit_predict(df)\n",
    "    results = df.copy()\n",
    "    results['Cluster'] = clusters\n",
    "    \n",
    "    cluster_size = results.groupby(['Cluster']).size().reset_index()\n",
    "    cluster_size.columns = ['Cluster', 'Count']\n",
    "    cluster_means = results.groupby(['Cluster'], as_index=False).mean()\n",
    "    summary = pd.merge(cluster_size, cluster_means, on='Cluster')\n",
    "    \n",
    "    return results, summary\n"
   ]
  },
  {
   "cell_type": "markdown",
   "metadata": {
    "colab_type": "text",
    "id": "3a4A4KfMqfRj"
   },
   "source": [
    "### Import the Walmart stock price data set (WMT_data.csv)."
   ]
  },
  {
   "cell_type": "code",
   "execution_count": 46,
   "metadata": {
    "colab": {},
    "colab_type": "code",
    "id": "hvnc07SXqfRk"
   },
   "outputs": [
    {
     "data": {
      "text/html": [
       "<div>\n",
       "<style scoped>\n",
       "    .dataframe tbody tr th:only-of-type {\n",
       "        vertical-align: middle;\n",
       "    }\n",
       "\n",
       "    .dataframe tbody tr th {\n",
       "        vertical-align: top;\n",
       "    }\n",
       "\n",
       "    .dataframe thead th {\n",
       "        text-align: right;\n",
       "    }\n",
       "</style>\n",
       "<table border=\"1\" class=\"dataframe\">\n",
       "  <thead>\n",
       "    <tr style=\"text-align: right;\">\n",
       "      <th></th>\n",
       "      <th>date</th>\n",
       "      <th>open</th>\n",
       "      <th>high</th>\n",
       "      <th>low</th>\n",
       "      <th>close</th>\n",
       "      <th>volume</th>\n",
       "      <th>Name</th>\n",
       "    </tr>\n",
       "  </thead>\n",
       "  <tbody>\n",
       "    <tr>\n",
       "      <th>0</th>\n",
       "      <td>2013-02-08</td>\n",
       "      <td>71.20</td>\n",
       "      <td>71.64</td>\n",
       "      <td>71.070</td>\n",
       "      <td>71.48</td>\n",
       "      <td>5906823</td>\n",
       "      <td>WMT</td>\n",
       "    </tr>\n",
       "    <tr>\n",
       "      <th>1</th>\n",
       "      <td>2013-02-11</td>\n",
       "      <td>71.25</td>\n",
       "      <td>71.51</td>\n",
       "      <td>70.530</td>\n",
       "      <td>71.40</td>\n",
       "      <td>6202534</td>\n",
       "      <td>WMT</td>\n",
       "    </tr>\n",
       "    <tr>\n",
       "      <th>2</th>\n",
       "      <td>2013-02-12</td>\n",
       "      <td>71.49</td>\n",
       "      <td>71.66</td>\n",
       "      <td>71.100</td>\n",
       "      <td>71.40</td>\n",
       "      <td>4761910</td>\n",
       "      <td>WMT</td>\n",
       "    </tr>\n",
       "    <tr>\n",
       "      <th>3</th>\n",
       "      <td>2013-02-13</td>\n",
       "      <td>71.29</td>\n",
       "      <td>71.70</td>\n",
       "      <td>71.210</td>\n",
       "      <td>71.39</td>\n",
       "      <td>3969807</td>\n",
       "      <td>WMT</td>\n",
       "    </tr>\n",
       "    <tr>\n",
       "      <th>4</th>\n",
       "      <td>2013-02-14</td>\n",
       "      <td>71.10</td>\n",
       "      <td>71.23</td>\n",
       "      <td>70.755</td>\n",
       "      <td>70.82</td>\n",
       "      <td>6820952</td>\n",
       "      <td>WMT</td>\n",
       "    </tr>\n",
       "  </tbody>\n",
       "</table>\n",
       "</div>"
      ],
      "text/plain": [
       "         date   open   high     low  close   volume Name\n",
       "0  2013-02-08  71.20  71.64  71.070  71.48  5906823  WMT\n",
       "1  2013-02-11  71.25  71.51  70.530  71.40  6202534  WMT\n",
       "2  2013-02-12  71.49  71.66  71.100  71.40  4761910  WMT\n",
       "3  2013-02-13  71.29  71.70  71.210  71.39  3969807  WMT\n",
       "4  2013-02-14  71.10  71.23  70.755  70.82  6820952  WMT"
      ]
     },
     "execution_count": 46,
     "metadata": {},
     "output_type": "execute_result"
    },
    {
     "data": {
      "application/javascript": [
       "\n",
       "            setTimeout(function() {\n",
       "                var nbb_cell_id = 46;\n",
       "                var nbb_unformatted_code = \"data = pd.read_csv(\\\"../data/WMT_data.csv\\\")\\ndata.head()\";\n",
       "                var nbb_formatted_code = \"data = pd.read_csv(\\\"../data/WMT_data.csv\\\")\\ndata.head()\";\n",
       "                var nbb_cells = Jupyter.notebook.get_cells();\n",
       "                for (var i = 0; i < nbb_cells.length; ++i) {\n",
       "                    if (nbb_cells[i].input_prompt_number == nbb_cell_id) {\n",
       "                        if (nbb_cells[i].get_text() == nbb_unformatted_code) {\n",
       "                             nbb_cells[i].set_text(nbb_formatted_code);\n",
       "                        }\n",
       "                        break;\n",
       "                    }\n",
       "                }\n",
       "            }, 500);\n",
       "            "
      ],
      "text/plain": [
       "<IPython.core.display.Javascript object>"
      ]
     },
     "metadata": {},
     "output_type": "display_data"
    }
   ],
   "source": [
    "data = pd.read_csv(\"../data/WMT_data.csv\")\n",
    "data.head()"
   ]
  },
  {
   "cell_type": "markdown",
   "metadata": {
    "colab_type": "text",
    "id": "DHZVCl9QqfRn"
   },
   "source": [
    "### Transform the data to be able to predict minor direction changes in the stock's price, given 180 days of history.\n",
    "\n",
    "- Remember to calculate daily returns from the observed values (closing price).\n",
    "- Make the critera for identifying a direction change when the observed values (closing price) cross the 5 day moving average.\n",
    "- Create a binary column that defaults to 0 unless the criteria is met (then updates to 1).\n",
    "- Shift the data set so that you have 180 days of history for each record."
   ]
  },
  {
   "cell_type": "code",
   "execution_count": 47,
   "metadata": {
    "colab": {},
    "colab_type": "code",
    "id": "FBRXlgH8qfRo"
   },
   "outputs": [
    {
     "data": {
      "text/html": [
       "<div>\n",
       "<style scoped>\n",
       "    .dataframe tbody tr th:only-of-type {\n",
       "        vertical-align: middle;\n",
       "    }\n",
       "\n",
       "    .dataframe tbody tr th {\n",
       "        vertical-align: top;\n",
       "    }\n",
       "\n",
       "    .dataframe thead th {\n",
       "        text-align: right;\n",
       "    }\n",
       "</style>\n",
       "<table border=\"1\" class=\"dataframe\">\n",
       "  <thead>\n",
       "    <tr style=\"text-align: right;\">\n",
       "      <th></th>\n",
       "      <th>date</th>\n",
       "      <th>open</th>\n",
       "      <th>high</th>\n",
       "      <th>low</th>\n",
       "      <th>close</th>\n",
       "      <th>volume</th>\n",
       "      <th>Name</th>\n",
       "      <th>returns</th>\n",
       "      <th>MA_5</th>\n",
       "      <th>trend</th>\n",
       "      <th>change</th>\n",
       "    </tr>\n",
       "  </thead>\n",
       "  <tbody>\n",
       "    <tr>\n",
       "      <th>4</th>\n",
       "      <td>2013-02-14</td>\n",
       "      <td>71.10</td>\n",
       "      <td>71.23</td>\n",
       "      <td>70.755</td>\n",
       "      <td>70.82</td>\n",
       "      <td>6820952</td>\n",
       "      <td>WMT</td>\n",
       "      <td>-0.007984</td>\n",
       "      <td>71.298</td>\n",
       "      <td>negative</td>\n",
       "      <td>False</td>\n",
       "    </tr>\n",
       "    <tr>\n",
       "      <th>5</th>\n",
       "      <td>2013-02-15</td>\n",
       "      <td>69.54</td>\n",
       "      <td>70.00</td>\n",
       "      <td>68.130</td>\n",
       "      <td>69.30</td>\n",
       "      <td>25687156</td>\n",
       "      <td>WMT</td>\n",
       "      <td>-0.021463</td>\n",
       "      <td>70.862</td>\n",
       "      <td>negative</td>\n",
       "      <td>True</td>\n",
       "    </tr>\n",
       "    <tr>\n",
       "      <th>6</th>\n",
       "      <td>2013-02-19</td>\n",
       "      <td>69.19</td>\n",
       "      <td>69.45</td>\n",
       "      <td>68.540</td>\n",
       "      <td>68.76</td>\n",
       "      <td>14683322</td>\n",
       "      <td>WMT</td>\n",
       "      <td>-0.007792</td>\n",
       "      <td>70.334</td>\n",
       "      <td>negative</td>\n",
       "      <td>True</td>\n",
       "    </tr>\n",
       "    <tr>\n",
       "      <th>7</th>\n",
       "      <td>2013-02-20</td>\n",
       "      <td>68.72</td>\n",
       "      <td>69.85</td>\n",
       "      <td>68.300</td>\n",
       "      <td>69.21</td>\n",
       "      <td>11973720</td>\n",
       "      <td>WMT</td>\n",
       "      <td>0.006545</td>\n",
       "      <td>69.896</td>\n",
       "      <td>negative</td>\n",
       "      <td>True</td>\n",
       "    </tr>\n",
       "    <tr>\n",
       "      <th>8</th>\n",
       "      <td>2013-02-21</td>\n",
       "      <td>70.00</td>\n",
       "      <td>71.47</td>\n",
       "      <td>69.720</td>\n",
       "      <td>70.26</td>\n",
       "      <td>20425983</td>\n",
       "      <td>WMT</td>\n",
       "      <td>0.015171</td>\n",
       "      <td>69.670</td>\n",
       "      <td>negative</td>\n",
       "      <td>True</td>\n",
       "    </tr>\n",
       "    <tr>\n",
       "      <th>...</th>\n",
       "      <td>...</td>\n",
       "      <td>...</td>\n",
       "      <td>...</td>\n",
       "      <td>...</td>\n",
       "      <td>...</td>\n",
       "      <td>...</td>\n",
       "      <td>...</td>\n",
       "      <td>...</td>\n",
       "      <td>...</td>\n",
       "      <td>...</td>\n",
       "      <td>...</td>\n",
       "    </tr>\n",
       "    <tr>\n",
       "      <th>1254</th>\n",
       "      <td>2018-02-01</td>\n",
       "      <td>105.96</td>\n",
       "      <td>106.56</td>\n",
       "      <td>105.180</td>\n",
       "      <td>105.52</td>\n",
       "      <td>6386836</td>\n",
       "      <td>WMT</td>\n",
       "      <td>-0.010131</td>\n",
       "      <td>107.558</td>\n",
       "      <td>negative</td>\n",
       "      <td>True</td>\n",
       "    </tr>\n",
       "    <tr>\n",
       "      <th>1255</th>\n",
       "      <td>2018-02-02</td>\n",
       "      <td>105.15</td>\n",
       "      <td>106.47</td>\n",
       "      <td>104.150</td>\n",
       "      <td>104.48</td>\n",
       "      <td>9253068</td>\n",
       "      <td>WMT</td>\n",
       "      <td>-0.009856</td>\n",
       "      <td>106.776</td>\n",
       "      <td>negative</td>\n",
       "      <td>True</td>\n",
       "    </tr>\n",
       "    <tr>\n",
       "      <th>1256</th>\n",
       "      <td>2018-02-05</td>\n",
       "      <td>103.40</td>\n",
       "      <td>104.61</td>\n",
       "      <td>97.090</td>\n",
       "      <td>100.09</td>\n",
       "      <td>12561594</td>\n",
       "      <td>WMT</td>\n",
       "      <td>-0.042018</td>\n",
       "      <td>104.884</td>\n",
       "      <td>negative</td>\n",
       "      <td>True</td>\n",
       "    </tr>\n",
       "    <tr>\n",
       "      <th>1257</th>\n",
       "      <td>2018-02-06</td>\n",
       "      <td>97.64</td>\n",
       "      <td>101.08</td>\n",
       "      <td>97.250</td>\n",
       "      <td>100.90</td>\n",
       "      <td>16413797</td>\n",
       "      <td>WMT</td>\n",
       "      <td>0.008093</td>\n",
       "      <td>103.518</td>\n",
       "      <td>negative</td>\n",
       "      <td>True</td>\n",
       "    </tr>\n",
       "    <tr>\n",
       "      <th>1258</th>\n",
       "      <td>2018-02-07</td>\n",
       "      <td>100.50</td>\n",
       "      <td>104.59</td>\n",
       "      <td>100.010</td>\n",
       "      <td>102.85</td>\n",
       "      <td>11165223</td>\n",
       "      <td>WMT</td>\n",
       "      <td>0.019326</td>\n",
       "      <td>102.768</td>\n",
       "      <td>negative</td>\n",
       "      <td>True</td>\n",
       "    </tr>\n",
       "  </tbody>\n",
       "</table>\n",
       "<p>1255 rows × 11 columns</p>\n",
       "</div>"
      ],
      "text/plain": [
       "            date    open    high      low   close    volume Name   returns  \\\n",
       "4     2013-02-14   71.10   71.23   70.755   70.82   6820952  WMT -0.007984   \n",
       "5     2013-02-15   69.54   70.00   68.130   69.30  25687156  WMT -0.021463   \n",
       "6     2013-02-19   69.19   69.45   68.540   68.76  14683322  WMT -0.007792   \n",
       "7     2013-02-20   68.72   69.85   68.300   69.21  11973720  WMT  0.006545   \n",
       "8     2013-02-21   70.00   71.47   69.720   70.26  20425983  WMT  0.015171   \n",
       "...          ...     ...     ...      ...     ...       ...  ...       ...   \n",
       "1254  2018-02-01  105.96  106.56  105.180  105.52   6386836  WMT -0.010131   \n",
       "1255  2018-02-02  105.15  106.47  104.150  104.48   9253068  WMT -0.009856   \n",
       "1256  2018-02-05  103.40  104.61   97.090  100.09  12561594  WMT -0.042018   \n",
       "1257  2018-02-06   97.64  101.08   97.250  100.90  16413797  WMT  0.008093   \n",
       "1258  2018-02-07  100.50  104.59  100.010  102.85  11165223  WMT  0.019326   \n",
       "\n",
       "         MA_5     trend  change  \n",
       "4      71.298  negative   False  \n",
       "5      70.862  negative    True  \n",
       "6      70.334  negative    True  \n",
       "7      69.896  negative    True  \n",
       "8      69.670  negative    True  \n",
       "...       ...       ...     ...  \n",
       "1254  107.558  negative    True  \n",
       "1255  106.776  negative    True  \n",
       "1256  104.884  negative    True  \n",
       "1257  103.518  negative    True  \n",
       "1258  102.768  negative    True  \n",
       "\n",
       "[1255 rows x 11 columns]"
      ]
     },
     "execution_count": 47,
     "metadata": {},
     "output_type": "execute_result"
    },
    {
     "data": {
      "application/javascript": [
       "\n",
       "            setTimeout(function() {\n",
       "                var nbb_cell_id = 47;\n",
       "                var nbb_unformatted_code = \"data[\\\"returns\\\"] = data[\\\"close\\\"].pct_change(1)\\ndata[\\\"MA_5\\\"] = data[\\\"close\\\"].rolling(5).mean()\\n# data[\\\"MA_10\\\"] = data[\\\"close\\\"].rolling(10).mean()\\n\\ndata[\\\"trend\\\"] = \\\"None\\\"\\ndata.loc[data[\\\"MA_5\\\"] > data[\\\"returns\\\"], \\\"trend\\\"] = \\\"negative\\\"\\ndata.loc[data[\\\"MA_5\\\"] < data[\\\"returns\\\"], \\\"trend\\\"] = \\\"positive\\\"\\ndata[\\\"change\\\"] = data[\\\"trend\\\"].eq(data[\\\"trend\\\"].shift())\\ndata.dropna(inplace=True)\\ndata\";\n",
       "                var nbb_formatted_code = \"data[\\\"returns\\\"] = data[\\\"close\\\"].pct_change(1)\\ndata[\\\"MA_5\\\"] = data[\\\"close\\\"].rolling(5).mean()\\n# data[\\\"MA_10\\\"] = data[\\\"close\\\"].rolling(10).mean()\\n\\ndata[\\\"trend\\\"] = \\\"None\\\"\\ndata.loc[data[\\\"MA_5\\\"] > data[\\\"returns\\\"], \\\"trend\\\"] = \\\"negative\\\"\\ndata.loc[data[\\\"MA_5\\\"] < data[\\\"returns\\\"], \\\"trend\\\"] = \\\"positive\\\"\\ndata[\\\"change\\\"] = data[\\\"trend\\\"].eq(data[\\\"trend\\\"].shift())\\ndata.dropna(inplace=True)\\ndata\";\n",
       "                var nbb_cells = Jupyter.notebook.get_cells();\n",
       "                for (var i = 0; i < nbb_cells.length; ++i) {\n",
       "                    if (nbb_cells[i].input_prompt_number == nbb_cell_id) {\n",
       "                        if (nbb_cells[i].get_text() == nbb_unformatted_code) {\n",
       "                             nbb_cells[i].set_text(nbb_formatted_code);\n",
       "                        }\n",
       "                        break;\n",
       "                    }\n",
       "                }\n",
       "            }, 500);\n",
       "            "
      ],
      "text/plain": [
       "<IPython.core.display.Javascript object>"
      ]
     },
     "metadata": {},
     "output_type": "display_data"
    }
   ],
   "source": [
    "data[\"returns\"] = data[\"close\"].pct_change(1)\n",
    "data[\"MA_5\"] = data[\"close\"].rolling(5).mean()\n",
    "# data[\"MA_10\"] = data[\"close\"].rolling(10).mean()\n",
    "\n",
    "data[\"trend\"] = \"None\"\n",
    "data.loc[data[\"MA_5\"] > data[\"returns\"], \"trend\"] = \"negative\"\n",
    "data.loc[data[\"MA_5\"] < data[\"returns\"], \"trend\"] = \"positive\"\n",
    "data[\"change\"] = data[\"trend\"].eq(data[\"trend\"].shift())\n",
    "data.dropna(inplace=True)\n",
    "data"
   ]
  },
  {
   "cell_type": "markdown",
   "metadata": {
    "colab_type": "text",
    "id": "bYaCvm-6qfRr"
   },
   "source": [
    "### Train a Logistic Regression classification model on the transformed data."
   ]
  },
  {
   "cell_type": "code",
   "execution_count": 0,
   "metadata": {
    "colab": {},
    "colab_type": "code",
    "id": "5GLX-8b4qfRs"
   },
   "outputs": [],
   "source": []
  },
  {
   "cell_type": "markdown",
   "metadata": {
    "colab_type": "text",
    "id": "dRh4cxqeqfRv"
   },
   "source": [
    "### Run a classification report and evaluate the performance of the classifier."
   ]
  },
  {
   "cell_type": "code",
   "execution_count": 0,
   "metadata": {
    "colab": {},
    "colab_type": "code",
    "id": "QSonhG5GqfR2"
   },
   "outputs": [],
   "source": []
  },
  {
   "cell_type": "markdown",
   "metadata": {
    "colab_type": "text",
    "id": "awwkh1iIqfR5"
   },
   "source": [
    "### Transform the data again to have 10 days of history for clustering."
   ]
  },
  {
   "cell_type": "code",
   "execution_count": 0,
   "metadata": {
    "colab": {},
    "colab_type": "code",
    "id": "bhKkYaZ5qfR6"
   },
   "outputs": [],
   "source": []
  },
  {
   "cell_type": "markdown",
   "metadata": {
    "colab_type": "text",
    "id": "6AFbtpRkqfR9"
   },
   "source": [
    "### Train a K Means clustering model on the data. \n",
    "\n",
    "Try different values for K and see how the summary changes."
   ]
  },
  {
   "cell_type": "code",
   "execution_count": 0,
   "metadata": {
    "colab": {},
    "colab_type": "code",
    "id": "msE__TviqfR-"
   },
   "outputs": [],
   "source": []
  },
  {
   "cell_type": "markdown",
   "metadata": {
    "colab_type": "text",
    "id": "qSiAPoSTqfSA"
   },
   "source": [
    "### Visualize the summary of the clustering results as a heatmap."
   ]
  },
  {
   "cell_type": "code",
   "execution_count": 0,
   "metadata": {
    "colab": {},
    "colab_type": "code",
    "id": "cyF6X_ftqfSB"
   },
   "outputs": [],
   "source": []
  }
 ],
 "metadata": {
  "colab": {
   "name": "Time Series Day 5 Afternoon Assignment.ipynb",
   "provenance": []
  },
  "kernelspec": {
   "display_name": "Python 3",
   "language": "python",
   "name": "python3"
  },
  "language_info": {
   "codemirror_mode": {
    "name": "ipython",
    "version": 3
   },
   "file_extension": ".py",
   "mimetype": "text/x-python",
   "name": "python",
   "nbconvert_exporter": "python",
   "pygments_lexer": "ipython3",
   "version": "3.7.6"
  }
 },
 "nbformat": 4,
 "nbformat_minor": 1
}
