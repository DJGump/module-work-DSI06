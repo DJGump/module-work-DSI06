{
 "cells": [
  {
   "cell_type": "markdown",
   "metadata": {},
   "source": [
    "Dillan Gump\n",
    "\n",
    "DSI06\n",
    "\n",
    "Python Self-Sufficiency Exam\n",
    "\n",
    "github: DJGump\n",
    "\n",
    "dgump31@outlook.com"
   ]
  },
  {
   "cell_type": "code",
   "execution_count": 7,
   "metadata": {},
   "outputs": [
    {
     "data": {
      "application/javascript": [
       "\n",
       "            setTimeout(function() {\n",
       "                var nbb_cell_id = 7;\n",
       "                var nbb_unformatted_code = \"import numpy as np\\nimport pandas as pd\\nimport matplotlib.pyplot as plt\\nfrom numpy import mean\";\n",
       "                var nbb_formatted_code = \"import numpy as np\\nimport pandas as pd\\nimport matplotlib.pyplot as plt\\nfrom numpy import mean\";\n",
       "                var nbb_cells = Jupyter.notebook.get_cells();\n",
       "                for (var i = 0; i < nbb_cells.length; ++i) {\n",
       "                    if (nbb_cells[i].input_prompt_number == nbb_cell_id) {\n",
       "                        if (nbb_cells[i].get_text() == nbb_unformatted_code) {\n",
       "                             nbb_cells[i].set_text(nbb_formatted_code);\n",
       "                        }\n",
       "                        break;\n",
       "                    }\n",
       "                }\n",
       "            }, 500);\n",
       "            "
      ],
      "text/plain": [
       "<IPython.core.display.Javascript object>"
      ]
     },
     "metadata": {},
     "output_type": "display_data"
    }
   ],
   "source": [
    "import numpy as np\n",
    "import pandas as pd\n",
    "import matplotlib.pyplot as plt\n",
    "from numpy import mean"
   ]
  },
  {
   "cell_type": "code",
   "execution_count": 2,
   "metadata": {},
   "outputs": [
    {
     "data": {
      "application/javascript": [
       "\n",
       "            setTimeout(function() {\n",
       "                var nbb_cell_id = 2;\n",
       "                var nbb_unformatted_code = \"#!pip install nb_black -I --upgrade --force-reinstall --user\\n\\n%reload_ext nb_black\";\n",
       "                var nbb_formatted_code = \"#!pip install nb_black -I --upgrade --force-reinstall --user\\n\\n%reload_ext nb_black\";\n",
       "                var nbb_cells = Jupyter.notebook.get_cells();\n",
       "                for (var i = 0; i < nbb_cells.length; ++i) {\n",
       "                    if (nbb_cells[i].input_prompt_number == nbb_cell_id) {\n",
       "                        if (nbb_cells[i].get_text() == nbb_unformatted_code) {\n",
       "                             nbb_cells[i].set_text(nbb_formatted_code);\n",
       "                        }\n",
       "                        break;\n",
       "                    }\n",
       "                }\n",
       "            }, 500);\n",
       "            "
      ],
      "text/plain": [
       "<IPython.core.display.Javascript object>"
      ]
     },
     "metadata": {},
     "output_type": "display_data"
    }
   ],
   "source": [
    "#!pip install nb_black -I --upgrade --force-reinstall --user\n",
    "\n",
    "%reload_ext nb_black"
   ]
  },
  {
   "cell_type": "markdown",
   "metadata": {},
   "source": [
    "##### 1. Create a function that reverses a string."
   ]
  },
  {
   "cell_type": "code",
   "execution_count": 3,
   "metadata": {},
   "outputs": [
    {
     "data": {
      "text/plain": [
       "'worromot dna worromot dna worromot'"
      ]
     },
     "execution_count": 3,
     "metadata": {},
     "output_type": "execute_result"
    },
    {
     "data": {
      "application/javascript": [
       "\n",
       "            setTimeout(function() {\n",
       "                var nbb_cell_id = 3;\n",
       "                var nbb_unformatted_code = \"def reverse_string(text_string):\\n    text_reversed = text_string[::-1]\\n    return text_reversed\\n\\n\\nreverse_string(\\\"tomorrow and tomorrow and tomorrow\\\")\";\n",
       "                var nbb_formatted_code = \"def reverse_string(text_string):\\n    text_reversed = text_string[::-1]\\n    return text_reversed\\n\\n\\nreverse_string(\\\"tomorrow and tomorrow and tomorrow\\\")\";\n",
       "                var nbb_cells = Jupyter.notebook.get_cells();\n",
       "                for (var i = 0; i < nbb_cells.length; ++i) {\n",
       "                    if (nbb_cells[i].input_prompt_number == nbb_cell_id) {\n",
       "                        if (nbb_cells[i].get_text() == nbb_unformatted_code) {\n",
       "                             nbb_cells[i].set_text(nbb_formatted_code);\n",
       "                        }\n",
       "                        break;\n",
       "                    }\n",
       "                }\n",
       "            }, 500);\n",
       "            "
      ],
      "text/plain": [
       "<IPython.core.display.Javascript object>"
      ]
     },
     "metadata": {},
     "output_type": "display_data"
    }
   ],
   "source": [
    "def reverse_string(text_string):\n",
    "    text_reversed = text_string[::-1]\n",
    "    return text_reversed\n",
    "\n",
    "\n",
    "reverse_string(\"tomorrow and tomorrow and tomorrow\")"
   ]
  },
  {
   "cell_type": "markdown",
   "metadata": {},
   "source": [
    "##### 2. Complete the function below that can be used to calculate and return the posterior probability of an event A, given the known outcome of Event B using Bayes Theorem:"
   ]
  },
  {
   "cell_type": "code",
   "execution_count": 4,
   "metadata": {},
   "outputs": [
    {
     "name": "stdout",
     "output_type": "stream",
     "text": [
      "0.2727272727272727\n"
     ]
    },
    {
     "data": {
      "application/javascript": [
       "\n",
       "            setTimeout(function() {\n",
       "                var nbb_cell_id = 4;\n",
       "                var nbb_unformatted_code = \"def bayes(a, b_given_a, b_given_not_a):\\n\\n    \\\"\\\"\\\"\\n    Calculates P(A | B) using bayes theorem.\\n\\n    Args:\\n        a: P(A)\\n        b_given_a: P(B | A)\\n        b_given_not_a: P(B | ~A)\\n\\n    Returns:\\n        P(A | B)\\n    \\\"\\\"\\\"\\n\\n    # YOUR CODE GOES HERE\\n\\n    # bayes theorem:\\n    # P(A\\\\B) = (P(B|A) * P(A)) / ( (P(B\\\\A) * P(A)) + (P(B|A') * P(A')) )\\n\\n    post_prob = (b_given_a * a) / ((b_given_a * a) + b_given_not_a * (1 - a))\\n    return post_prob\\n\\n\\nprint(bayes(0.5, 0.3, 0.8))\";\n",
       "                var nbb_formatted_code = \"def bayes(a, b_given_a, b_given_not_a):\\n\\n    \\\"\\\"\\\"\\n    Calculates P(A | B) using bayes theorem.\\n\\n    Args:\\n        a: P(A)\\n        b_given_a: P(B | A)\\n        b_given_not_a: P(B | ~A)\\n\\n    Returns:\\n        P(A | B)\\n    \\\"\\\"\\\"\\n\\n    # YOUR CODE GOES HERE\\n\\n    # bayes theorem:\\n    # P(A\\\\B) = (P(B|A) * P(A)) / ( (P(B\\\\A) * P(A)) + (P(B|A') * P(A')) )\\n\\n    post_prob = (b_given_a * a) / ((b_given_a * a) + b_given_not_a * (1 - a))\\n    return post_prob\\n\\n\\nprint(bayes(0.5, 0.3, 0.8))\";\n",
       "                var nbb_cells = Jupyter.notebook.get_cells();\n",
       "                for (var i = 0; i < nbb_cells.length; ++i) {\n",
       "                    if (nbb_cells[i].input_prompt_number == nbb_cell_id) {\n",
       "                        if (nbb_cells[i].get_text() == nbb_unformatted_code) {\n",
       "                             nbb_cells[i].set_text(nbb_formatted_code);\n",
       "                        }\n",
       "                        break;\n",
       "                    }\n",
       "                }\n",
       "            }, 500);\n",
       "            "
      ],
      "text/plain": [
       "<IPython.core.display.Javascript object>"
      ]
     },
     "metadata": {},
     "output_type": "display_data"
    }
   ],
   "source": [
    "def bayes(a, b_given_a, b_given_not_a):\n",
    "\n",
    "    \"\"\"\n",
    "    Calculates P(A | B) using bayes theorem.\n",
    "\n",
    "    Args:\n",
    "        a: P(A)\n",
    "        b_given_a: P(B | A)\n",
    "        b_given_not_a: P(B | ~A)\n",
    "\n",
    "    Returns:\n",
    "        P(A | B)\n",
    "    \"\"\"\n",
    "\n",
    "    # YOUR CODE GOES HERE\n",
    "\n",
    "    # bayes theorem:\n",
    "    # P(A\\B) = (P(B|A) * P(A)) / ( (P(B\\A) * P(A)) + (P(B|A') * P(A')) )\n",
    "\n",
    "    post_prob = (b_given_a * a) / ((b_given_a * a) + b_given_not_a * (1 - a))\n",
    "    return post_prob\n",
    "\n",
    "\n",
    "print(bayes(0.5, 0.3, 0.8))"
   ]
  },
  {
   "cell_type": "markdown",
   "metadata": {},
   "source": [
    "##### 3. Analyze the [teams](https://tf-assets-prod.s3.amazonaws.com/tf-curric/data-science/lahman-teams.csv) dataset from the Lahman baseball records. This dataset contains season statistics for each Major League Baseball team. A plausible glossary can be found [here](https://rdrr.io/cran/Lahman/man/Teams.html)"
   ]
  },
  {
   "cell_type": "code",
   "execution_count": 5,
   "metadata": {},
   "outputs": [
    {
     "ename": "NameError",
     "evalue": "name 'pd' is not defined",
     "output_type": "error",
     "traceback": [
      "\u001b[1;31m---------------------------------------------------------------------------\u001b[0m",
      "\u001b[1;31mNameError\u001b[0m                                 Traceback (most recent call last)",
      "\u001b[1;32m<ipython-input-5-09000f941fb4>\u001b[0m in \u001b[0;36m<module>\u001b[1;34m\u001b[0m\n\u001b[0;32m      1\u001b[0m \u001b[0murl\u001b[0m \u001b[1;33m=\u001b[0m \u001b[1;34m\"https://tf-assets-prod.s3.amazonaws.com/tf-curric/data-science/lahman-teams.csv\"\u001b[0m\u001b[1;33m\u001b[0m\u001b[1;33m\u001b[0m\u001b[0m\n\u001b[1;32m----> 2\u001b[1;33m \u001b[0mteams\u001b[0m \u001b[1;33m=\u001b[0m \u001b[0mpd\u001b[0m\u001b[1;33m.\u001b[0m\u001b[0mread_csv\u001b[0m\u001b[1;33m(\u001b[0m\u001b[0murl\u001b[0m\u001b[1;33m)\u001b[0m\u001b[1;33m\u001b[0m\u001b[1;33m\u001b[0m\u001b[0m\n\u001b[0m",
      "\u001b[1;31mNameError\u001b[0m: name 'pd' is not defined"
     ]
    },
    {
     "data": {
      "application/javascript": [
       "\n",
       "            setTimeout(function() {\n",
       "                var nbb_cell_id = 5;\n",
       "                var nbb_unformatted_code = \"url = \\\"https://tf-assets-prod.s3.amazonaws.com/tf-curric/data-science/lahman-teams.csv\\\"\\nteams = pd.read_csv(url)\";\n",
       "                var nbb_formatted_code = \"url = \\\"https://tf-assets-prod.s3.amazonaws.com/tf-curric/data-science/lahman-teams.csv\\\"\\nteams = pd.read_csv(url)\";\n",
       "                var nbb_cells = Jupyter.notebook.get_cells();\n",
       "                for (var i = 0; i < nbb_cells.length; ++i) {\n",
       "                    if (nbb_cells[i].input_prompt_number == nbb_cell_id) {\n",
       "                        if (nbb_cells[i].get_text() == nbb_unformatted_code) {\n",
       "                             nbb_cells[i].set_text(nbb_formatted_code);\n",
       "                        }\n",
       "                        break;\n",
       "                    }\n",
       "                }\n",
       "            }, 500);\n",
       "            "
      ],
      "text/plain": [
       "<IPython.core.display.Javascript object>"
      ]
     },
     "metadata": {},
     "output_type": "display_data"
    }
   ],
   "source": [
    "url = \"https://tf-assets-prod.s3.amazonaws.com/tf-curric/data-science/lahman-teams.csv\"\n",
    "teams = pd.read_csv(url)"
   ]
  },
  {
   "cell_type": "code",
   "execution_count": null,
   "metadata": {},
   "outputs": [],
   "source": [
    "# teams.isnull().sum()\n",
    "teams.head()"
   ]
  },
  {
   "cell_type": "markdown",
   "metadata": {},
   "source": [
    "\n",
    "\n",
    "a.  For all records since 1995, plot histograms for the following variables. Which distribution do they appear to follow? Consider what each variable is measuring along with the histogram's shape."
   ]
  },
  {
   "cell_type": "code",
   "execution_count": null,
   "metadata": {},
   "outputs": [],
   "source": [
    "teams_95 = teams.loc[teams[\"yearID\"] >= 1995]"
   ]
  },
  {
   "cell_type": "markdown",
   "metadata": {},
   "source": [
    "* Bases Stolen"
   ]
  },
  {
   "cell_type": "code",
   "execution_count": null,
   "metadata": {},
   "outputs": [],
   "source": [
    "# stolen bases\n",
    "teams_95.SB.hist()\n",
    "plt.xlabel(\"Bases Stolen\")\n",
    "plt.ylabel(\"Frequency\")\n",
    "plt.title(\"Bases stolen by team per year since 1995\")\n",
    "plt.show()"
   ]
  },
  {
   "cell_type": "markdown",
   "metadata": {},
   "source": [
    "* Wins"
   ]
  },
  {
   "cell_type": "code",
   "execution_count": null,
   "metadata": {},
   "outputs": [],
   "source": [
    "# Wins\n",
    "teams_95.W.hist()\n",
    "plt.xlabel(\"Wins\")\n",
    "plt.ylabel(\"Frequency\")\n",
    "plt.title(\"Wins by team per year since 1995\")\n",
    "plt.show()"
   ]
  },
  {
   "cell_type": "markdown",
   "metadata": {},
   "source": [
    "* Earned Run Average"
   ]
  },
  {
   "cell_type": "code",
   "execution_count": null,
   "metadata": {},
   "outputs": [],
   "source": [
    "# Earned run average\n",
    "teams_95.ERA.hist()\n",
    "plt.xlabel(\"ERA\")\n",
    "plt.ylabel(\"Frequency\")\n",
    "plt.title(\"Earned Run Average (ERA) stolen by each team per year since 1995\")\n",
    "plt.show()"
   ]
  },
  {
   "cell_type": "markdown",
   "metadata": {},
   "source": [
    "Stolen bases seems to skew right, with most bases stolen by a team a year being around 100. Most teams probably steal an average number of bases, while teams that steal significantly more may be interesting events based on the year or other factors. Wins skews left, meaning most teams are going to win an average amount, with some teams underperforming. There will be a ceiling effect, as there are only so many games in  year. Earned run average seems fairly normal, with a slight right skew. On most teams, most players will be average, so this feature is doubly affected by averaging affects. ERA is likewise likely pretty normal. Exact distribution identification requires further analysis."
   ]
  },
  {
   "cell_type": "markdown",
   "metadata": {},
   "source": [
    "* b. Conduct some further exploratory data analysis on this dataset. Consider qualities like distributions, correlations and trends over time. Try to find something interesting to say about the data, and use visualizations to support your argument."
   ]
  },
  {
   "cell_type": "markdown",
   "metadata": {},
   "source": [
    "Generate correlations for all columns"
   ]
  },
  {
   "cell_type": "code",
   "execution_count": null,
   "metadata": {},
   "outputs": [],
   "source": [
    "# teams_95.info()\n",
    "'''\n",
    "features of interest:\n",
    "Rank\n",
    "Ghome - games played at home\n",
    "G - games played\n",
    "HR - homeruns by batters\n",
    "SOA - Strikeouts by pitchers\n",
    "E - errors\n",
    "'''\n",
    "teams_95[['Rank', 'Ghome', 'G', 'HR', 'SOA', 'E', 'ERA']].corr()\n"
   ]
  },
  {
   "cell_type": "markdown",
   "metadata": {},
   "source": [
    "Check for columns with significant nulls counts"
   ]
  },
  {
   "cell_type": "code",
   "execution_count": null,
   "metadata": {},
   "outputs": [],
   "source": [
    "# teams_95.isna().sum()"
   ]
  },
  {
   "cell_type": "markdown",
   "metadata": {},
   "source": [
    "Look like only HBP and SF have null vales. Batters hit by pitch and sacrifice flies are not interesting"
   ]
  },
  {
   "cell_type": "code",
   "execution_count": null,
   "metadata": {},
   "outputs": [],
   "source": [
    "teams_95.plot.scatter(x=\"E\", y=\"Rank\")\n",
    "plt.show()"
   ]
  },
  {
   "cell_type": "code",
   "execution_count": null,
   "metadata": {
    "scrolled": true
   },
   "outputs": [],
   "source": [
    "# could see if number of homeruns increases by years\n",
    "# sports typically become more competitive over time\n",
    "teams_95.boxplot(column='HR',by='yearID', rot=90)\n",
    "plt.show()\n"
   ]
  },
  {
   "cell_type": "markdown",
   "metadata": {},
   "source": [
    "Might be interesting to see if significant years, like when Barry Bonds broke the home run record in 2001, are enough to make the number of home runs significantly higher that year. Since that year doesn't even have an outlier, and all the plots are overlapping in spread, my guess is homeruns are not affected by\n",
    "\n",
    "Earned run average and rank seem to be correlated, with r around 0.5"
   ]
  },
  {
   "cell_type": "code",
   "execution_count": null,
   "metadata": {},
   "outputs": [],
   "source": [
    "# teams_95.plot.scatter(x='Rank', y='ERA')\n",
    "teams_95.boxplot(column=\"R\", by=\"Rank\")"
   ]
  },
  {
   "cell_type": "markdown",
   "metadata": {},
   "source": [
    "Makes sense that the #1 teams have the highest averages of runs scored through the seasons. It also interesting how the lower ranked teams have less spread in their average. I would be interesting in finding where to bisect the data where the average runs of the top set is significantly greater thn the average of the bottom. Perhaps around a certain ranking teams are essentially indistinguishable?\n",
    "\n",
    "Now I expected a negative correlation for Earned Runs Allowed, following similar principles."
   ]
  },
  {
   "cell_type": "code",
   "execution_count": null,
   "metadata": {},
   "outputs": [],
   "source": [
    "teams_95.boxplot(column=\"ER\", by=\"Rank\")\n",
    "plt.show()"
   ]
  },
  {
   "cell_type": "markdown",
   "metadata": {},
   "source": [
    "#### 4. Choose any two of the variables from 3. Draw 1,000 samples, taking the mean of 100 observations each time. Plot the frequencies of the sample means. What distribution does this appear to follow?\n",
    "    \n",
    "  * Hint: df['col'].sample(n=50) will draw 50 random observations from df['col'].\n"
   ]
  },
  {
   "cell_type": "code",
   "execution_count": null,
   "metadata": {},
   "outputs": [],
   "source": [
    "means = [mean(teams_95[\"SB\"].sample(n=50)) for _ in range(1000)]\n",
    "\n",
    "plt.hist(means)\n",
    "plt.xlabel(\"mean stolen bases\")\n",
    "plt.ylabel(\"frequency in samples\")\n",
    "plt.show()"
   ]
  },
  {
   "cell_type": "code",
   "execution_count": null,
   "metadata": {},
   "outputs": [],
   "source": [
    "means = [mean(teams_95[\"W\"].sample(n=50)) for _ in range(1000)]\n",
    "\n",
    "plt.hist(means)\n",
    "plt.xlabel(\"mean wins\")\n",
    "plt.ylabel(\"frequency in samples\")\n",
    "plt.show()"
   ]
  },
  {
   "cell_type": "markdown",
   "metadata": {},
   "source": [
    "These two distributions are large samples of sampling means, therefore following a normal distribution and illustrating the central limit theorem."
   ]
  },
  {
   "cell_type": "code",
   "execution_count": null,
   "metadata": {},
   "outputs": [],
   "source": []
  }
 ],
 "metadata": {
  "kernelspec": {
   "display_name": "Python 3",
   "language": "python",
   "name": "python3"
  },
  "language_info": {
   "codemirror_mode": {
    "name": "ipython",
    "version": 3
   },
   "file_extension": ".py",
   "mimetype": "text/x-python",
   "name": "python",
   "nbconvert_exporter": "python",
   "pygments_lexer": "ipython3",
   "version": "3.7.6"
  }
 },
 "nbformat": 4,
 "nbformat_minor": 4
}
