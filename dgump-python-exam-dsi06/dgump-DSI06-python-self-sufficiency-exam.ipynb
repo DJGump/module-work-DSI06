{
 "cells": [
  {
   "cell_type": "code",
   "execution_count": null,
   "metadata": {},
   "outputs": [],
   "source": [
    "Dillan Gump\n",
    "\n",
    "DSI06\n",
    "\n",
    "Python Self-Sufficiency Exam\n",
    "\n",
    "github: DJGump\n",
    "\n",
    "dgump31@outlook.com"
   ]
  },
  {
   "cell_type": "code",
   "execution_count": 1,
   "metadata": {},
   "outputs": [],
   "source": [
    "import numpy as np\n",
    "import pandas as pd\n",
    "import matplotlib.pyplot as plt\n",
    "from numpy import mean"
   ]
  },
  {
   "cell_type": "code",
   "execution_count": 2,
   "metadata": {},
   "outputs": [
    {
     "data": {
      "application/javascript": [
       "\n",
       "            setTimeout(function() {\n",
       "                var nbb_cell_id = 2;\n",
       "                var nbb_unformatted_code = \"#!pip install nb_black -I --upgrade --force-reinstall --user\\n\\n%reload_ext nb_black\";\n",
       "                var nbb_formatted_code = \"#!pip install nb_black -I --upgrade --force-reinstall --user\\n\\n%reload_ext nb_black\";\n",
       "                var nbb_cells = Jupyter.notebook.get_cells();\n",
       "                for (var i = 0; i < nbb_cells.length; ++i) {\n",
       "                    if (nbb_cells[i].input_prompt_number == nbb_cell_id) {\n",
       "                        if (nbb_cells[i].get_text() == nbb_unformatted_code) {\n",
       "                             nbb_cells[i].set_text(nbb_formatted_code);\n",
       "                        }\n",
       "                        break;\n",
       "                    }\n",
       "                }\n",
       "            }, 500);\n",
       "            "
      ],
      "text/plain": [
       "<IPython.core.display.Javascript object>"
      ]
     },
     "metadata": {},
     "output_type": "display_data"
    }
   ],
   "source": [
    "#!pip install nb_black -I --upgrade --force-reinstall --user\n",
    "\n",
    "%reload_ext nb_black"
   ]
  },
  {
   "cell_type": "markdown",
   "metadata": {},
   "source": [
    "##### 1. Create a function that reverses a string."
   ]
  },
  {
   "cell_type": "code",
   "execution_count": 3,
   "metadata": {},
   "outputs": [
    {
     "data": {
      "text/plain": [
       "'worromot dna worromot dna worromot'"
      ]
     },
     "execution_count": 3,
     "metadata": {},
     "output_type": "execute_result"
    },
    {
     "data": {
      "application/javascript": [
       "\n",
       "            setTimeout(function() {\n",
       "                var nbb_cell_id = 3;\n",
       "                var nbb_unformatted_code = \"def reverse_string(text_string):\\n    text_reversed = text_string[::-1]\\n    return text_reversed\\n\\n\\nreverse_string(\\\"tomorrow and tomorrow and tomorrow\\\")\";\n",
       "                var nbb_formatted_code = \"def reverse_string(text_string):\\n    text_reversed = text_string[::-1]\\n    return text_reversed\\n\\n\\nreverse_string(\\\"tomorrow and tomorrow and tomorrow\\\")\";\n",
       "                var nbb_cells = Jupyter.notebook.get_cells();\n",
       "                for (var i = 0; i < nbb_cells.length; ++i) {\n",
       "                    if (nbb_cells[i].input_prompt_number == nbb_cell_id) {\n",
       "                        if (nbb_cells[i].get_text() == nbb_unformatted_code) {\n",
       "                             nbb_cells[i].set_text(nbb_formatted_code);\n",
       "                        }\n",
       "                        break;\n",
       "                    }\n",
       "                }\n",
       "            }, 500);\n",
       "            "
      ],
      "text/plain": [
       "<IPython.core.display.Javascript object>"
      ]
     },
     "metadata": {},
     "output_type": "display_data"
    }
   ],
   "source": [
    "def reverse_string(text_string):\n",
    "    text_reversed = text_string[::-1]\n",
    "    return text_reversed\n",
    "\n",
    "\n",
    "reverse_string(\"tomorrow and tomorrow and tomorrow\")"
   ]
  },
  {
   "cell_type": "markdown",
   "metadata": {},
   "source": [
    "##### 2. Complete the function below that can be used to calculate and return the posterior probability of an event A, given the known outcome of Event B using Bayes Theorem:"
   ]
  },
  {
   "cell_type": "code",
   "execution_count": 4,
   "metadata": {},
   "outputs": [
    {
     "name": "stdout",
     "output_type": "stream",
     "text": [
      "0.2727272727272727\n"
     ]
    },
    {
     "data": {
      "application/javascript": [
       "\n",
       "            setTimeout(function() {\n",
       "                var nbb_cell_id = 4;\n",
       "                var nbb_unformatted_code = \"def bayes(a, b_given_a, b_given_not_a):\\n\\n    \\\"\\\"\\\"\\n    Calculates P(A | B) using bayes theorem.\\n\\n    Args:\\n        a: P(A)\\n        b_given_a: P(B | A)\\n        b_given_not_a: P(B | ~A)\\n\\n    Returns:\\n        P(A | B)\\n    \\\"\\\"\\\"\\n\\n    # YOUR CODE GOES HERE\\n    \\n    # bayes theorem:\\n    # P(A\\\\B) = (P(B|A) * P(A)) / ( (P(B\\\\A) * P(A)) + (P(B|A') * P(A')) )\\n    \\n    post_prob = (b_given_a * a) / ((b_given_a * a) + b_given_not_a * (1 - a))\\n    return post_prob\\n\\nprint(bayes(0.5, 0.3, 0.8))\";\n",
       "                var nbb_formatted_code = \"def bayes(a, b_given_a, b_given_not_a):\\n\\n    \\\"\\\"\\\"\\n    Calculates P(A | B) using bayes theorem.\\n\\n    Args:\\n        a: P(A)\\n        b_given_a: P(B | A)\\n        b_given_not_a: P(B | ~A)\\n\\n    Returns:\\n        P(A | B)\\n    \\\"\\\"\\\"\\n\\n    # YOUR CODE GOES HERE\\n\\n    # bayes theorem:\\n    # P(A\\\\B) = (P(B|A) * P(A)) / ( (P(B\\\\A) * P(A)) + (P(B|A') * P(A')) )\\n\\n    post_prob = (b_given_a * a) / ((b_given_a * a) + b_given_not_a * (1 - a))\\n    return post_prob\\n\\n\\nprint(bayes(0.5, 0.3, 0.8))\";\n",
       "                var nbb_cells = Jupyter.notebook.get_cells();\n",
       "                for (var i = 0; i < nbb_cells.length; ++i) {\n",
       "                    if (nbb_cells[i].input_prompt_number == nbb_cell_id) {\n",
       "                        if (nbb_cells[i].get_text() == nbb_unformatted_code) {\n",
       "                             nbb_cells[i].set_text(nbb_formatted_code);\n",
       "                        }\n",
       "                        break;\n",
       "                    }\n",
       "                }\n",
       "            }, 500);\n",
       "            "
      ],
      "text/plain": [
       "<IPython.core.display.Javascript object>"
      ]
     },
     "metadata": {},
     "output_type": "display_data"
    }
   ],
   "source": [
    "def bayes(a, b_given_a, b_given_not_a):\n",
    "\n",
    "    \"\"\"\n",
    "    Calculates P(A | B) using bayes theorem.\n",
    "\n",
    "    Args:\n",
    "        a: P(A)\n",
    "        b_given_a: P(B | A)\n",
    "        b_given_not_a: P(B | ~A)\n",
    "\n",
    "    Returns:\n",
    "        P(A | B)\n",
    "    \"\"\"\n",
    "\n",
    "    # YOUR CODE GOES HERE\n",
    "\n",
    "    # bayes theorem:\n",
    "    # P(A\\B) = (P(B|A) * P(A)) / ( (P(B\\A) * P(A)) + (P(B|A') * P(A')) )\n",
    "\n",
    "    post_prob = (b_given_a * a) / ((b_given_a * a) + b_given_not_a * (1 - a))\n",
    "    return post_prob\n",
    "\n",
    "\n",
    "print(bayes(0.5, 0.3, 0.8))"
   ]
  },
  {
   "cell_type": "markdown",
   "metadata": {},
   "source": [
    "##### 3. Analyze the [teams](https://tf-assets-prod.s3.amazonaws.com/tf-curric/data-science/lahman-teams.csv) dataset from the Lahman baseball records. This dataset contains season statistics for each Major League Baseball team. A plausible glossary can be found [here](https://rdrr.io/cran/Lahman/man/Teams.html)"
   ]
  },
  {
   "cell_type": "code",
   "execution_count": 5,
   "metadata": {},
   "outputs": [
    {
     "data": {
      "application/javascript": [
       "\n",
       "            setTimeout(function() {\n",
       "                var nbb_cell_id = 5;\n",
       "                var nbb_unformatted_code = \"url = 'https://tf-assets-prod.s3.amazonaws.com/tf-curric/data-science/lahman-teams.csv'\\nteams = pd.read_csv(url)\";\n",
       "                var nbb_formatted_code = \"url = \\\"https://tf-assets-prod.s3.amazonaws.com/tf-curric/data-science/lahman-teams.csv\\\"\\nteams = pd.read_csv(url)\";\n",
       "                var nbb_cells = Jupyter.notebook.get_cells();\n",
       "                for (var i = 0; i < nbb_cells.length; ++i) {\n",
       "                    if (nbb_cells[i].input_prompt_number == nbb_cell_id) {\n",
       "                        if (nbb_cells[i].get_text() == nbb_unformatted_code) {\n",
       "                             nbb_cells[i].set_text(nbb_formatted_code);\n",
       "                        }\n",
       "                        break;\n",
       "                    }\n",
       "                }\n",
       "            }, 500);\n",
       "            "
      ],
      "text/plain": [
       "<IPython.core.display.Javascript object>"
      ]
     },
     "metadata": {},
     "output_type": "display_data"
    }
   ],
   "source": [
    "url = \"https://tf-assets-prod.s3.amazonaws.com/tf-curric/data-science/lahman-teams.csv\"\n",
    "teams = pd.read_csv(url)"
   ]
  },
  {
   "cell_type": "code",
   "execution_count": 6,
   "metadata": {},
   "outputs": [
    {
     "data": {
      "text/html": [
       "<div>\n",
       "<style scoped>\n",
       "    .dataframe tbody tr th:only-of-type {\n",
       "        vertical-align: middle;\n",
       "    }\n",
       "\n",
       "    .dataframe tbody tr th {\n",
       "        vertical-align: top;\n",
       "    }\n",
       "\n",
       "    .dataframe thead th {\n",
       "        text-align: right;\n",
       "    }\n",
       "</style>\n",
       "<table border=\"1\" class=\"dataframe\">\n",
       "  <thead>\n",
       "    <tr style=\"text-align: right;\">\n",
       "      <th></th>\n",
       "      <th>yearID</th>\n",
       "      <th>lgID</th>\n",
       "      <th>teamID</th>\n",
       "      <th>franchID</th>\n",
       "      <th>divID</th>\n",
       "      <th>Rank</th>\n",
       "      <th>G</th>\n",
       "      <th>Ghome</th>\n",
       "      <th>W</th>\n",
       "      <th>L</th>\n",
       "      <th>...</th>\n",
       "      <th>DP</th>\n",
       "      <th>FP</th>\n",
       "      <th>name</th>\n",
       "      <th>park</th>\n",
       "      <th>attendance</th>\n",
       "      <th>BPF</th>\n",
       "      <th>PPF</th>\n",
       "      <th>teamIDBR</th>\n",
       "      <th>teamIDlahman45</th>\n",
       "      <th>teamIDretro</th>\n",
       "    </tr>\n",
       "  </thead>\n",
       "  <tbody>\n",
       "    <tr>\n",
       "      <th>0</th>\n",
       "      <td>1871</td>\n",
       "      <td>NaN</td>\n",
       "      <td>BS1</td>\n",
       "      <td>BNA</td>\n",
       "      <td>NaN</td>\n",
       "      <td>3</td>\n",
       "      <td>31</td>\n",
       "      <td>NaN</td>\n",
       "      <td>20</td>\n",
       "      <td>10</td>\n",
       "      <td>...</td>\n",
       "      <td>NaN</td>\n",
       "      <td>0.83</td>\n",
       "      <td>Boston Red Stockings</td>\n",
       "      <td>South End Grounds I</td>\n",
       "      <td>NaN</td>\n",
       "      <td>103</td>\n",
       "      <td>98</td>\n",
       "      <td>BOS</td>\n",
       "      <td>BS1</td>\n",
       "      <td>BS1</td>\n",
       "    </tr>\n",
       "    <tr>\n",
       "      <th>1</th>\n",
       "      <td>1871</td>\n",
       "      <td>NaN</td>\n",
       "      <td>CH1</td>\n",
       "      <td>CNA</td>\n",
       "      <td>NaN</td>\n",
       "      <td>2</td>\n",
       "      <td>28</td>\n",
       "      <td>NaN</td>\n",
       "      <td>19</td>\n",
       "      <td>9</td>\n",
       "      <td>...</td>\n",
       "      <td>NaN</td>\n",
       "      <td>0.82</td>\n",
       "      <td>Chicago White Stockings</td>\n",
       "      <td>Union Base-Ball Grounds</td>\n",
       "      <td>NaN</td>\n",
       "      <td>104</td>\n",
       "      <td>102</td>\n",
       "      <td>CHI</td>\n",
       "      <td>CH1</td>\n",
       "      <td>CH1</td>\n",
       "    </tr>\n",
       "    <tr>\n",
       "      <th>2</th>\n",
       "      <td>1871</td>\n",
       "      <td>NaN</td>\n",
       "      <td>CL1</td>\n",
       "      <td>CFC</td>\n",
       "      <td>NaN</td>\n",
       "      <td>8</td>\n",
       "      <td>29</td>\n",
       "      <td>NaN</td>\n",
       "      <td>10</td>\n",
       "      <td>19</td>\n",
       "      <td>...</td>\n",
       "      <td>NaN</td>\n",
       "      <td>0.81</td>\n",
       "      <td>Cleveland Forest Citys</td>\n",
       "      <td>National Association Grounds</td>\n",
       "      <td>NaN</td>\n",
       "      <td>96</td>\n",
       "      <td>100</td>\n",
       "      <td>CLE</td>\n",
       "      <td>CL1</td>\n",
       "      <td>CL1</td>\n",
       "    </tr>\n",
       "    <tr>\n",
       "      <th>3</th>\n",
       "      <td>1871</td>\n",
       "      <td>NaN</td>\n",
       "      <td>FW1</td>\n",
       "      <td>KEK</td>\n",
       "      <td>NaN</td>\n",
       "      <td>7</td>\n",
       "      <td>19</td>\n",
       "      <td>NaN</td>\n",
       "      <td>7</td>\n",
       "      <td>12</td>\n",
       "      <td>...</td>\n",
       "      <td>NaN</td>\n",
       "      <td>0.80</td>\n",
       "      <td>Fort Wayne Kekiongas</td>\n",
       "      <td>Hamilton Field</td>\n",
       "      <td>NaN</td>\n",
       "      <td>101</td>\n",
       "      <td>107</td>\n",
       "      <td>KEK</td>\n",
       "      <td>FW1</td>\n",
       "      <td>FW1</td>\n",
       "    </tr>\n",
       "    <tr>\n",
       "      <th>4</th>\n",
       "      <td>1871</td>\n",
       "      <td>NaN</td>\n",
       "      <td>NY2</td>\n",
       "      <td>NNA</td>\n",
       "      <td>NaN</td>\n",
       "      <td>5</td>\n",
       "      <td>33</td>\n",
       "      <td>NaN</td>\n",
       "      <td>16</td>\n",
       "      <td>17</td>\n",
       "      <td>...</td>\n",
       "      <td>NaN</td>\n",
       "      <td>0.83</td>\n",
       "      <td>New York Mutuals</td>\n",
       "      <td>Union Grounds (Brooklyn)</td>\n",
       "      <td>NaN</td>\n",
       "      <td>90</td>\n",
       "      <td>88</td>\n",
       "      <td>NYU</td>\n",
       "      <td>NY2</td>\n",
       "      <td>NY2</td>\n",
       "    </tr>\n",
       "  </tbody>\n",
       "</table>\n",
       "<p>5 rows × 48 columns</p>\n",
       "</div>"
      ],
      "text/plain": [
       "   yearID lgID teamID franchID divID  Rank   G  Ghome   W   L  ...  DP    FP  \\\n",
       "0    1871  NaN    BS1      BNA   NaN     3  31    NaN  20  10  ... NaN  0.83   \n",
       "1    1871  NaN    CH1      CNA   NaN     2  28    NaN  19   9  ... NaN  0.82   \n",
       "2    1871  NaN    CL1      CFC   NaN     8  29    NaN  10  19  ... NaN  0.81   \n",
       "3    1871  NaN    FW1      KEK   NaN     7  19    NaN   7  12  ... NaN  0.80   \n",
       "4    1871  NaN    NY2      NNA   NaN     5  33    NaN  16  17  ... NaN  0.83   \n",
       "\n",
       "                      name                          park  attendance  BPF  \\\n",
       "0     Boston Red Stockings           South End Grounds I         NaN  103   \n",
       "1  Chicago White Stockings       Union Base-Ball Grounds         NaN  104   \n",
       "2   Cleveland Forest Citys  National Association Grounds         NaN   96   \n",
       "3     Fort Wayne Kekiongas                Hamilton Field         NaN  101   \n",
       "4         New York Mutuals      Union Grounds (Brooklyn)         NaN   90   \n",
       "\n",
       "   PPF  teamIDBR  teamIDlahman45  teamIDretro  \n",
       "0   98       BOS             BS1          BS1  \n",
       "1  102       CHI             CH1          CH1  \n",
       "2  100       CLE             CL1          CL1  \n",
       "3  107       KEK             FW1          FW1  \n",
       "4   88       NYU             NY2          NY2  \n",
       "\n",
       "[5 rows x 48 columns]"
      ]
     },
     "execution_count": 6,
     "metadata": {},
     "output_type": "execute_result"
    },
    {
     "data": {
      "application/javascript": [
       "\n",
       "            setTimeout(function() {\n",
       "                var nbb_cell_id = 6;\n",
       "                var nbb_unformatted_code = \"# teams.isnull().sum()\\nteams.head()\";\n",
       "                var nbb_formatted_code = \"# teams.isnull().sum()\\nteams.head()\";\n",
       "                var nbb_cells = Jupyter.notebook.get_cells();\n",
       "                for (var i = 0; i < nbb_cells.length; ++i) {\n",
       "                    if (nbb_cells[i].input_prompt_number == nbb_cell_id) {\n",
       "                        if (nbb_cells[i].get_text() == nbb_unformatted_code) {\n",
       "                             nbb_cells[i].set_text(nbb_formatted_code);\n",
       "                        }\n",
       "                        break;\n",
       "                    }\n",
       "                }\n",
       "            }, 500);\n",
       "            "
      ],
      "text/plain": [
       "<IPython.core.display.Javascript object>"
      ]
     },
     "metadata": {},
     "output_type": "display_data"
    }
   ],
   "source": [
    "# teams.isnull().sum()\n",
    "teams.head()"
   ]
  },
  {
   "cell_type": "markdown",
   "metadata": {},
   "source": [
    "\n",
    "\n",
    "a.  For all records since 1995, plot histograms for the following variables. Which distribution do they appear to follow? Consider what each variable is measuring along with the histogram's shape."
   ]
  },
  {
   "cell_type": "code",
   "execution_count": 7,
   "metadata": {},
   "outputs": [
    {
     "data": {
      "application/javascript": [
       "\n",
       "            setTimeout(function() {\n",
       "                var nbb_cell_id = 7;\n",
       "                var nbb_unformatted_code = \"teams_95 = teams.loc[teams['yearID']>=1995]\";\n",
       "                var nbb_formatted_code = \"teams_95 = teams.loc[teams[\\\"yearID\\\"] >= 1995]\";\n",
       "                var nbb_cells = Jupyter.notebook.get_cells();\n",
       "                for (var i = 0; i < nbb_cells.length; ++i) {\n",
       "                    if (nbb_cells[i].input_prompt_number == nbb_cell_id) {\n",
       "                        if (nbb_cells[i].get_text() == nbb_unformatted_code) {\n",
       "                             nbb_cells[i].set_text(nbb_formatted_code);\n",
       "                        }\n",
       "                        break;\n",
       "                    }\n",
       "                }\n",
       "            }, 500);\n",
       "            "
      ],
      "text/plain": [
       "<IPython.core.display.Javascript object>"
      ]
     },
     "metadata": {},
     "output_type": "display_data"
    }
   ],
   "source": [
    "teams_95 = teams.loc[teams[\"yearID\"] >= 1995]"
   ]
  },
  {
   "cell_type": "markdown",
   "metadata": {},
   "source": [
    "* Bases Stolen"
   ]
  },
  {
   "cell_type": "code",
   "execution_count": 8,
   "metadata": {},
   "outputs": [
    {
     "data": {
      "image/png": "[encoded data removed]",
      "text/plain": [
       "<Figure size 432x288 with 1 Axes>"
      ]
     },
     "metadata": {
      "needs_background": "light"
     },
     "output_type": "display_data"
    },
    {
     "data": {
      "application/javascript": [
       "\n",
       "            setTimeout(function() {\n",
       "                var nbb_cell_id = 8;\n",
       "                var nbb_unformatted_code = \"# stolen bases\\nteams_95.SB.hist()\\nplt.xlabel('Bases Stolen')\\nplt.ylabel('Frequency')\\nplt.title('Bases stolen by team per year since 1995')\\nplt.show()\";\n",
       "                var nbb_formatted_code = \"# stolen bases\\nteams_95.SB.hist()\\nplt.xlabel(\\\"Bases Stolen\\\")\\nplt.ylabel(\\\"Frequency\\\")\\nplt.title(\\\"Bases stolen by team per year since 1995\\\")\\nplt.show()\";\n",
       "                var nbb_cells = Jupyter.notebook.get_cells();\n",
       "                for (var i = 0; i < nbb_cells.length; ++i) {\n",
       "                    if (nbb_cells[i].input_prompt_number == nbb_cell_id) {\n",
       "                        if (nbb_cells[i].get_text() == nbb_unformatted_code) {\n",
       "                             nbb_cells[i].set_text(nbb_formatted_code);\n",
       "                        }\n",
       "                        break;\n",
       "                    }\n",
       "                }\n",
       "            }, 500);\n",
       "            "
      ],
      "text/plain": [
       "<IPython.core.display.Javascript object>"
      ]
     },
     "metadata": {},
     "output_type": "display_data"
    }
   ],
   "source": [
    "# stolen bases\n",
    "teams_95.SB.hist()\n",
    "plt.xlabel(\"Bases Stolen\")\n",
    "plt.ylabel(\"Frequency\")\n",
    "plt.title(\"Bases stolen by team per year since 1995\")\n",
    "plt.show()"
   ]
  },
  {
   "cell_type": "markdown",
   "metadata": {},
   "source": [
    "* Wins"
   ]
  },
  {
   "cell_type": "code",
   "execution_count": 9,
   "metadata": {},
   "outputs": [
    {
     "data": {
      "image/png": "[encoded data removed]",
      "text/plain": [
       "<Figure size 432x288 with 1 Axes>"
      ]
     },
     "metadata": {
      "needs_background": "light"
     },
     "output_type": "display_data"
    },
    {
     "data": {
      "application/javascript": [
       "\n",
       "            setTimeout(function() {\n",
       "                var nbb_cell_id = 9;\n",
       "                var nbb_unformatted_code = \"# Wins\\nteams_95.W.hist()\\nplt.xlabel('Wins')\\nplt.ylabel('Frequency')\\nplt.title('Wins by team per year since 1995')\\nplt.show()\";\n",
       "                var nbb_formatted_code = \"# Wins\\nteams_95.W.hist()\\nplt.xlabel(\\\"Wins\\\")\\nplt.ylabel(\\\"Frequency\\\")\\nplt.title(\\\"Wins by team per year since 1995\\\")\\nplt.show()\";\n",
       "                var nbb_cells = Jupyter.notebook.get_cells();\n",
       "                for (var i = 0; i < nbb_cells.length; ++i) {\n",
       "                    if (nbb_cells[i].input_prompt_number == nbb_cell_id) {\n",
       "                        if (nbb_cells[i].get_text() == nbb_unformatted_code) {\n",
       "                             nbb_cells[i].set_text(nbb_formatted_code);\n",
       "                        }\n",
       "                        break;\n",
       "                    }\n",
       "                }\n",
       "            }, 500);\n",
       "            "
      ],
      "text/plain": [
       "<IPython.core.display.Javascript object>"
      ]
     },
     "metadata": {},
     "output_type": "display_data"
    }
   ],
   "source": [
    "# Wins\n",
    "teams_95.W.hist()\n",
    "plt.xlabel(\"Wins\")\n",
    "plt.ylabel(\"Frequency\")\n",
    "plt.title(\"Wins by team per year since 1995\")\n",
    "plt.show()"
   ]
  },
  {
   "cell_type": "markdown",
   "metadata": {},
   "source": [
    "* Earned Run Average"
   ]
  },
  {
   "cell_type": "code",
   "execution_count": 10,
   "metadata": {},
   "outputs": [
    {
     "data": {
      "image/png": "[encoded data removed]",
      "text/plain": [
       "<Figure size 432x288 with 1 Axes>"
      ]
     },
     "metadata": {
      "needs_background": "light"
     },
     "output_type": "display_data"
    },
    {
     "data": {
      "application/javascript": [
       "\n",
       "            setTimeout(function() {\n",
       "                var nbb_cell_id = 10;\n",
       "                var nbb_unformatted_code = \"# Earned run average\\nteams_95.ERA.hist()\\nplt.xlabel('ERA')\\nplt.ylabel('Frequency')\\nplt.title('Earned Run Average (ERA) stolen by each team per year since 1995')\\nplt.show()\";\n",
       "                var nbb_formatted_code = \"# Earned run average\\nteams_95.ERA.hist()\\nplt.xlabel(\\\"ERA\\\")\\nplt.ylabel(\\\"Frequency\\\")\\nplt.title(\\\"Earned Run Average (ERA) stolen by each team per year since 1995\\\")\\nplt.show()\";\n",
       "                var nbb_cells = Jupyter.notebook.get_cells();\n",
       "                for (var i = 0; i < nbb_cells.length; ++i) {\n",
       "                    if (nbb_cells[i].input_prompt_number == nbb_cell_id) {\n",
       "                        if (nbb_cells[i].get_text() == nbb_unformatted_code) {\n",
       "                             nbb_cells[i].set_text(nbb_formatted_code);\n",
       "                        }\n",
       "                        break;\n",
       "                    }\n",
       "                }\n",
       "            }, 500);\n",
       "            "
      ],
      "text/plain": [
       "<IPython.core.display.Javascript object>"
      ]
     },
     "metadata": {},
     "output_type": "display_data"
    }
   ],
   "source": [
    "# Earned run average\n",
    "teams_95.ERA.hist()\n",
    "plt.xlabel(\"ERA\")\n",
    "plt.ylabel(\"Frequency\")\n",
    "plt.title(\"Earned Run Average (ERA) stolen by each team per year since 1995\")\n",
    "plt.show()"
   ]
  },
  {
   "cell_type": "markdown",
   "metadata": {},
   "source": [
    "Stolen bases seems to skew right, with most bases stolen by a team a year being around 100. Most teams probably steal an average number of bases, while teams that steal significantly more may be interesting events based on the year or other factors. Wins skews left, meaning most teams are going to win an average amount, with some teams underperforming. There will be a ceiling effect, as there are only so many games in  year. Earned run average seems fairly normal, with a slight right skew. On most teams, most players will be average, so this feature is doubly affected by averaging affects. ERA is likewise likely pretty normal. Exact distribution identification requires further analysis."
   ]
  },
  {
   "cell_type": "markdown",
   "metadata": {},
   "source": [
    "* b. Conduct some further exploratory data analysis on this dataset. Consider qualities like distributions, correlations and trends over time. Try to find something interesting to say about the data, and use visualizations to support your argument."
   ]
  },
  {
   "cell_type": "markdown",
   "metadata": {},
   "source": [
    "Generate correlations for all columns"
   ]
  },
  {
   "cell_type": "code",
   "execution_count": 11,
   "metadata": {},
   "outputs": [
    {
     "data": {
      "text/html": [
       "<div>\n",
       "<style scoped>\n",
       "    .dataframe tbody tr th:only-of-type {\n",
       "        vertical-align: middle;\n",
       "    }\n",
       "\n",
       "    .dataframe tbody tr th {\n",
       "        vertical-align: top;\n",
       "    }\n",
       "\n",
       "    .dataframe thead th {\n",
       "        text-align: right;\n",
       "    }\n",
       "</style>\n",
       "<table border=\"1\" class=\"dataframe\">\n",
       "  <thead>\n",
       "    <tr style=\"text-align: right;\">\n",
       "      <th></th>\n",
       "      <th>Rank</th>\n",
       "      <th>Ghome</th>\n",
       "      <th>G</th>\n",
       "      <th>HR</th>\n",
       "      <th>SOA</th>\n",
       "      <th>E</th>\n",
       "      <th>ERA</th>\n",
       "    </tr>\n",
       "  </thead>\n",
       "  <tbody>\n",
       "    <tr>\n",
       "      <th>Rank</th>\n",
       "      <td>1.000000</td>\n",
       "      <td>-0.006942</td>\n",
       "      <td>0.016677</td>\n",
       "      <td>-0.348000</td>\n",
       "      <td>-0.264860</td>\n",
       "      <td>0.260938</td>\n",
       "      <td>0.514737</td>\n",
       "    </tr>\n",
       "    <tr>\n",
       "      <th>Ghome</th>\n",
       "      <td>-0.006942</td>\n",
       "      <td>1.000000</td>\n",
       "      <td>0.968998</td>\n",
       "      <td>0.139937</td>\n",
       "      <td>0.316842</td>\n",
       "      <td>-0.010314</td>\n",
       "      <td>-0.066828</td>\n",
       "    </tr>\n",
       "    <tr>\n",
       "      <th>G</th>\n",
       "      <td>0.016677</td>\n",
       "      <td>0.968998</td>\n",
       "      <td>1.000000</td>\n",
       "      <td>0.142903</td>\n",
       "      <td>0.322117</td>\n",
       "      <td>0.001897</td>\n",
       "      <td>-0.063006</td>\n",
       "    </tr>\n",
       "    <tr>\n",
       "      <th>HR</th>\n",
       "      <td>-0.348000</td>\n",
       "      <td>0.139937</td>\n",
       "      <td>0.142903</td>\n",
       "      <td>1.000000</td>\n",
       "      <td>-0.020532</td>\n",
       "      <td>0.005001</td>\n",
       "      <td>0.184277</td>\n",
       "    </tr>\n",
       "    <tr>\n",
       "      <th>SOA</th>\n",
       "      <td>-0.264860</td>\n",
       "      <td>0.316842</td>\n",
       "      <td>0.322117</td>\n",
       "      <td>-0.020532</td>\n",
       "      <td>1.000000</td>\n",
       "      <td>-0.276298</td>\n",
       "      <td>-0.626675</td>\n",
       "    </tr>\n",
       "    <tr>\n",
       "      <th>E</th>\n",
       "      <td>0.260938</td>\n",
       "      <td>-0.010314</td>\n",
       "      <td>0.001897</td>\n",
       "      <td>0.005001</td>\n",
       "      <td>-0.276298</td>\n",
       "      <td>1.000000</td>\n",
       "      <td>0.331587</td>\n",
       "    </tr>\n",
       "    <tr>\n",
       "      <th>ERA</th>\n",
       "      <td>0.514737</td>\n",
       "      <td>-0.066828</td>\n",
       "      <td>-0.063006</td>\n",
       "      <td>0.184277</td>\n",
       "      <td>-0.626675</td>\n",
       "      <td>0.331587</td>\n",
       "      <td>1.000000</td>\n",
       "    </tr>\n",
       "  </tbody>\n",
       "</table>\n",
       "</div>"
      ],
      "text/plain": [
       "           Rank     Ghome         G        HR       SOA         E       ERA\n",
       "Rank   1.000000 -0.006942  0.016677 -0.348000 -0.264860  0.260938  0.514737\n",
       "Ghome -0.006942  1.000000  0.968998  0.139937  0.316842 -0.010314 -0.066828\n",
       "G      0.016677  0.968998  1.000000  0.142903  0.322117  0.001897 -0.063006\n",
       "HR    -0.348000  0.139937  0.142903  1.000000 -0.020532  0.005001  0.184277\n",
       "SOA   -0.264860  0.316842  0.322117 -0.020532  1.000000 -0.276298 -0.626675\n",
       "E      0.260938 -0.010314  0.001897  0.005001 -0.276298  1.000000  0.331587\n",
       "ERA    0.514737 -0.066828 -0.063006  0.184277 -0.626675  0.331587  1.000000"
      ]
     },
     "execution_count": 11,
     "metadata": {},
     "output_type": "execute_result"
    },
    {
     "data": {
      "application/javascript": [
       "\n",
       "            setTimeout(function() {\n",
       "                var nbb_cell_id = 11;\n",
       "                var nbb_unformatted_code = \"# teams_95.info()\\n'''\\nfeatures of interest:\\nRank\\nGhome - games played at home\\nG - games played\\nHR - homeruns by batters\\nSOA - Strikeouts by pitchers\\nE - errors\\n'''\\nteams_95[['Rank', 'Ghome', 'G', 'HR', 'SOA', 'E', 'ERA']].corr()\";\n",
       "                var nbb_formatted_code = \"# teams_95.info()\\n\\\"\\\"\\\"\\nfeatures of interest:\\nRank\\nGhome - games played at home\\nG - games played\\nHR - homeruns by batters\\nSOA - Strikeouts by pitchers\\nE - errors\\n\\\"\\\"\\\"\\nteams_95[[\\\"Rank\\\", \\\"Ghome\\\", \\\"G\\\", \\\"HR\\\", \\\"SOA\\\", \\\"E\\\", \\\"ERA\\\"]].corr()\";\n",
       "                var nbb_cells = Jupyter.notebook.get_cells();\n",
       "                for (var i = 0; i < nbb_cells.length; ++i) {\n",
       "                    if (nbb_cells[i].input_prompt_number == nbb_cell_id) {\n",
       "                        if (nbb_cells[i].get_text() == nbb_unformatted_code) {\n",
       "                             nbb_cells[i].set_text(nbb_formatted_code);\n",
       "                        }\n",
       "                        break;\n",
       "                    }\n",
       "                }\n",
       "            }, 500);\n",
       "            "
      ],
      "text/plain": [
       "<IPython.core.display.Javascript object>"
      ]
     },
     "metadata": {},
     "output_type": "display_data"
    }
   ],
   "source": [
    "# teams_95.info()\n",
    "'''\n",
    "features of interest:\n",
    "Rank\n",
    "Ghome - games played at home\n",
    "G - games played\n",
    "HR - homeruns by batters\n",
    "SOA - Strikeouts by pitchers\n",
    "E - errors\n",
    "'''\n",
    "teams_95[['Rank', 'Ghome', 'G', 'HR', 'SOA', 'E', 'ERA']].corr()\n"
   ]
  },
  {
   "cell_type": "markdown",
   "metadata": {},
   "source": [
    "Check for columns with significant nulls counts"
   ]
  },
  {
   "cell_type": "code",
   "execution_count": 12,
   "metadata": {},
   "outputs": [
    {
     "data": {
      "application/javascript": [
       "\n",
       "            setTimeout(function() {\n",
       "                var nbb_cell_id = 12;\n",
       "                var nbb_unformatted_code = \"# teams_95.isna().sum()\";\n",
       "                var nbb_formatted_code = \"# teams_95.isna().sum()\";\n",
       "                var nbb_cells = Jupyter.notebook.get_cells();\n",
       "                for (var i = 0; i < nbb_cells.length; ++i) {\n",
       "                    if (nbb_cells[i].input_prompt_number == nbb_cell_id) {\n",
       "                        if (nbb_cells[i].get_text() == nbb_unformatted_code) {\n",
       "                             nbb_cells[i].set_text(nbb_formatted_code);\n",
       "                        }\n",
       "                        break;\n",
       "                    }\n",
       "                }\n",
       "            }, 500);\n",
       "            "
      ],
      "text/plain": [
       "<IPython.core.display.Javascript object>"
      ]
     },
     "metadata": {},
     "output_type": "display_data"
    }
   ],
   "source": [
    "# teams_95.isna().sum()"
   ]
  },
  {
   "cell_type": "markdown",
   "metadata": {},
   "source": [
    "Look like only HBP and SF have null vales. Batters hit by pitch and sacrifice flies are not interesting"
   ]
  },
  {
   "cell_type": "code",
   "execution_count": 13,
   "metadata": {},
   "outputs": [
    {
     "data": {
      "image/png": "[encoded data removed]",
      "text/plain": [
       "<Figure size 432x288 with 1 Axes>"
      ]
     },
     "metadata": {
      "needs_background": "light"
     },
     "output_type": "display_data"
    },
    {
     "data": {
      "application/javascript": [
       "\n",
       "            setTimeout(function() {\n",
       "                var nbb_cell_id = 13;\n",
       "                var nbb_unformatted_code = \"teams_95.plot.scatter(x='E', y='Rank')\\nplt.show()\";\n",
       "                var nbb_formatted_code = \"teams_95.plot.scatter(x=\\\"E\\\", y=\\\"Rank\\\")\\nplt.show()\";\n",
       "                var nbb_cells = Jupyter.notebook.get_cells();\n",
       "                for (var i = 0; i < nbb_cells.length; ++i) {\n",
       "                    if (nbb_cells[i].input_prompt_number == nbb_cell_id) {\n",
       "                        if (nbb_cells[i].get_text() == nbb_unformatted_code) {\n",
       "                             nbb_cells[i].set_text(nbb_formatted_code);\n",
       "                        }\n",
       "                        break;\n",
       "                    }\n",
       "                }\n",
       "            }, 500);\n",
       "            "
      ],
      "text/plain": [
       "<IPython.core.display.Javascript object>"
      ]
     },
     "metadata": {},
     "output_type": "display_data"
    }
   ],
   "source": [
    "teams_95.plot.scatter(x=\"E\", y=\"Rank\")\n",
    "plt.show()"
   ]
  },
  {
   "cell_type": "code",
   "execution_count": 14,
   "metadata": {
    "scrolled": true
   },
   "outputs": [
    {
     "data": {
      "image/png": "[encoded data removed]",
      "text/plain": [
       "<Figure size 432x288 with 1 Axes>"
      ]
     },
     "metadata": {
      "needs_background": "light"
     },
     "output_type": "display_data"
    },
    {
     "data": {
      "application/javascript": [
       "\n",
       "            setTimeout(function() {\n",
       "                var nbb_cell_id = 14;\n",
       "                var nbb_unformatted_code = \"# could see if number of homeruns increases by years\\n# sports typically become more competitive over time\\nteams_95.boxplot(column='HR',by='yearID', rot=90)\\nplt.show()\";\n",
       "                var nbb_formatted_code = \"# could see if number of homeruns increases by years\\n# sports typically become more competitive over time\\nteams_95.boxplot(column=\\\"HR\\\", by=\\\"yearID\\\", rot=90)\\nplt.show()\";\n",
       "                var nbb_cells = Jupyter.notebook.get_cells();\n",
       "                for (var i = 0; i < nbb_cells.length; ++i) {\n",
       "                    if (nbb_cells[i].input_prompt_number == nbb_cell_id) {\n",
       "                        if (nbb_cells[i].get_text() == nbb_unformatted_code) {\n",
       "                             nbb_cells[i].set_text(nbb_formatted_code);\n",
       "                        }\n",
       "                        break;\n",
       "                    }\n",
       "                }\n",
       "            }, 500);\n",
       "            "
      ],
      "text/plain": [
       "<IPython.core.display.Javascript object>"
      ]
     },
     "metadata": {},
     "output_type": "display_data"
    }
   ],
   "source": [
    "# could see if number of homeruns increases by years\n",
    "# sports typically become more competitive over time\n",
    "teams_95.boxplot(column='HR',by='yearID', rot=90)\n",
    "plt.show()\n"
   ]
  },
  {
   "cell_type": "markdown",
   "metadata": {},
   "source": [
    "Might be interesting to see if significant years, like when Barry Bonds broke the home run record in 2001, are enough to make the number of home runs significantly higher that year. Since that year doesn't even have an outlier, and all the plots are overlapping in spread, my guess is homeruns are not affected by\n",
    "\n",
    "Earned run average and rank seem to be correlated, with r around 0.5"
   ]
  },
  {
   "cell_type": "code",
   "execution_count": 15,
   "metadata": {},
   "outputs": [
    {
     "data": {
      "text/plain": [
       "<matplotlib.axes._subplots.AxesSubplot at 0x1e11cec0208>"
      ]
     },
     "execution_count": 15,
     "metadata": {},
     "output_type": "execute_result"
    },
    {
     "data": {
      "image/png": "[encoded data removed]",
      "text/plain": [
       "<Figure size 432x288 with 1 Axes>"
      ]
     },
     "metadata": {
      "needs_background": "light"
     },
     "output_type": "display_data"
    },
    {
     "data": {
      "application/javascript": [
       "\n",
       "            setTimeout(function() {\n",
       "                var nbb_cell_id = 15;\n",
       "                var nbb_unformatted_code = \"# teams_95.plot.scatter(x='Rank', y='ERA')\\nteams_95.boxplot(column='R',by='Rank')\";\n",
       "                var nbb_formatted_code = \"# teams_95.plot.scatter(x='Rank', y='ERA')\\nteams_95.boxplot(column=\\\"R\\\", by=\\\"Rank\\\")\";\n",
       "                var nbb_cells = Jupyter.notebook.get_cells();\n",
       "                for (var i = 0; i < nbb_cells.length; ++i) {\n",
       "                    if (nbb_cells[i].input_prompt_number == nbb_cell_id) {\n",
       "                        if (nbb_cells[i].get_text() == nbb_unformatted_code) {\n",
       "                             nbb_cells[i].set_text(nbb_formatted_code);\n",
       "                        }\n",
       "                        break;\n",
       "                    }\n",
       "                }\n",
       "            }, 500);\n",
       "            "
      ],
      "text/plain": [
       "<IPython.core.display.Javascript object>"
      ]
     },
     "metadata": {},
     "output_type": "display_data"
    }
   ],
   "source": [
    "# teams_95.plot.scatter(x='Rank', y='ERA')\n",
    "teams_95.boxplot(column=\"R\", by=\"Rank\")"
   ]
  },
  {
   "cell_type": "markdown",
   "metadata": {},
   "source": [
    "Makes sense that the #1 teams have the highest averages of runs scored through the seasons. It also interesting how the lower ranked teams have less spread in their average. I would be interesting in finding where to bisect the data where the average runs of the top set is significantly greater thn the average of the bottom. Perhaps around a certain ranking teams are essentially indistinguishable?\n",
    "\n",
    "Now I expected a negative correlation for Earned Runs Allowed, following similar principles."
   ]
  },
  {
   "cell_type": "code",
   "execution_count": 16,
   "metadata": {},
   "outputs": [
    {
     "data": {
      "image/png": "[encoded data removed]",
      "text/plain": [
       "<Figure size 432x288 with 1 Axes>"
      ]
     },
     "metadata": {
      "needs_background": "light"
     },
     "output_type": "display_data"
    },
    {
     "data": {
      "application/javascript": [
       "\n",
       "            setTimeout(function() {\n",
       "                var nbb_cell_id = 16;\n",
       "                var nbb_unformatted_code = \"teams_95.boxplot(column='ER',by='Rank')\\nplt.show()\";\n",
       "                var nbb_formatted_code = \"teams_95.boxplot(column=\\\"ER\\\", by=\\\"Rank\\\")\\nplt.show()\";\n",
       "                var nbb_cells = Jupyter.notebook.get_cells();\n",
       "                for (var i = 0; i < nbb_cells.length; ++i) {\n",
       "                    if (nbb_cells[i].input_prompt_number == nbb_cell_id) {\n",
       "                        if (nbb_cells[i].get_text() == nbb_unformatted_code) {\n",
       "                             nbb_cells[i].set_text(nbb_formatted_code);\n",
       "                        }\n",
       "                        break;\n",
       "                    }\n",
       "                }\n",
       "            }, 500);\n",
       "            "
      ],
      "text/plain": [
       "<IPython.core.display.Javascript object>"
      ]
     },
     "metadata": {},
     "output_type": "display_data"
    }
   ],
   "source": [
    "teams_95.boxplot(column=\"ER\", by=\"Rank\")\n",
    "plt.show()"
   ]
  },
  {
   "cell_type": "markdown",
   "metadata": {},
   "source": [
    "#### 4. Choose any two of the variables from 3. Draw 1,000 samples, taking the mean of 100 observations each time. Plot the frequencies of the sample means. What distribution does this appear to follow?\n",
    "    \n",
    "  * Hint: df['col'].sample(n=50) will draw 50 random observations from df['col'].\n"
   ]
  },
  {
   "cell_type": "code",
   "execution_count": 17,
   "metadata": {},
   "outputs": [
    {
     "data": {
      "image/png": "[encoded data removed]",
      "text/plain": [
       "<Figure size 432x288 with 1 Axes>"
      ]
     },
     "metadata": {
      "needs_background": "light"
     },
     "output_type": "display_data"
    },
    {
     "data": {
      "application/javascript": [
       "\n",
       "            setTimeout(function() {\n",
       "                var nbb_cell_id = 17;\n",
       "                var nbb_unformatted_code = \"means = [mean(teams_95['SB'].sample(n=50)) for _ in range(1000)]\\n\\nplt.hist(means)\\nplt.xlabel('mean stolen bases')\\nplt.ylabel('frequency in samples')\\nplt.show()\";\n",
       "                var nbb_formatted_code = \"means = [mean(teams_95[\\\"SB\\\"].sample(n=50)) for _ in range(1000)]\\n\\nplt.hist(means)\\nplt.xlabel(\\\"mean stolen bases\\\")\\nplt.ylabel(\\\"frequency in samples\\\")\\nplt.show()\";\n",
       "                var nbb_cells = Jupyter.notebook.get_cells();\n",
       "                for (var i = 0; i < nbb_cells.length; ++i) {\n",
       "                    if (nbb_cells[i].input_prompt_number == nbb_cell_id) {\n",
       "                        if (nbb_cells[i].get_text() == nbb_unformatted_code) {\n",
       "                             nbb_cells[i].set_text(nbb_formatted_code);\n",
       "                        }\n",
       "                        break;\n",
       "                    }\n",
       "                }\n",
       "            }, 500);\n",
       "            "
      ],
      "text/plain": [
       "<IPython.core.display.Javascript object>"
      ]
     },
     "metadata": {},
     "output_type": "display_data"
    }
   ],
   "source": [
    "means = [mean(teams_95[\"SB\"].sample(n=50)) for _ in range(1000)]\n",
    "\n",
    "plt.hist(means)\n",
    "plt.xlabel(\"mean stolen bases\")\n",
    "plt.ylabel(\"frequency in samples\")\n",
    "plt.show()"
   ]
  },
  {
   "cell_type": "code",
   "execution_count": 18,
   "metadata": {},
   "outputs": [
    {
     "data": {
      "image/png": "[encoded data removed]",
      "text/plain": [
       "<Figure size 432x288 with 1 Axes>"
      ]
     },
     "metadata": {
      "needs_background": "light"
     },
     "output_type": "display_data"
    },
    {
     "data": {
      "application/javascript": [
       "\n",
       "            setTimeout(function() {\n",
       "                var nbb_cell_id = 18;\n",
       "                var nbb_unformatted_code = \"means = [mean(teams_95['W'].sample(n=50)) for _ in range(1000)]\\n\\nplt.hist(means)\\nplt.xlabel('mean wins')\\nplt.ylabel('frequency in samples')\\nplt.show()\";\n",
       "                var nbb_formatted_code = \"means = [mean(teams_95[\\\"W\\\"].sample(n=50)) for _ in range(1000)]\\n\\nplt.hist(means)\\nplt.xlabel(\\\"mean wins\\\")\\nplt.ylabel(\\\"frequency in samples\\\")\\nplt.show()\";\n",
       "                var nbb_cells = Jupyter.notebook.get_cells();\n",
       "                for (var i = 0; i < nbb_cells.length; ++i) {\n",
       "                    if (nbb_cells[i].input_prompt_number == nbb_cell_id) {\n",
       "                        if (nbb_cells[i].get_text() == nbb_unformatted_code) {\n",
       "                             nbb_cells[i].set_text(nbb_formatted_code);\n",
       "                        }\n",
       "                        break;\n",
       "                    }\n",
       "                }\n",
       "            }, 500);\n",
       "            "
      ],
      "text/plain": [
       "<IPython.core.display.Javascript object>"
      ]
     },
     "metadata": {},
     "output_type": "display_data"
    }
   ],
   "source": [
    "means = [mean(teams_95[\"W\"].sample(n=50)) for _ in range(1000)]\n",
    "\n",
    "plt.hist(means)\n",
    "plt.xlabel(\"mean wins\")\n",
    "plt.ylabel(\"frequency in samples\")\n",
    "plt.show()"
   ]
  },
  {
   "cell_type": "markdown",
   "metadata": {},
   "source": [
    "These two distributions are large samples of sampling means, therefore following a normal distribution and illustrating the central limit theorem."
   ]
  },
  {
   "cell_type": "code",
   "execution_count": null,
   "metadata": {},
   "outputs": [],
   "source": []
  }
 ],
 "metadata": {
  "kernelspec": {
   "display_name": "Python 3",
   "language": "python",
   "name": "python3"
  },
  "language_info": {
   "codemirror_mode": {
    "name": "ipython",
    "version": 3
   },
   "file_extension": ".py",
   "mimetype": "text/x-python",
   "name": "python",
   "nbconvert_exporter": "python",
   "pygments_lexer": "ipython3",
   "version": "3.7.6"
  }
 },
 "nbformat": 4,
 "nbformat_minor": 4
}
