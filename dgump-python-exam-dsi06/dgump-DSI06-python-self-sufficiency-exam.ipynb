{
 "cells": [
  {
<<<<<<< HEAD
   "cell_type": "markdown",
   "metadata": {},
=======
   "cell_type": "code",
   "execution_count": 2,
   "metadata": {},
   "outputs": [
    {
     "ename": "SyntaxError",
     "evalue": "invalid syntax (<ipython-input-2-38471c122e16>, line 1)",
     "output_type": "error",
     "traceback": [
      "\u001b[0;36m  File \u001b[0;32m\"<ipython-input-2-38471c122e16>\"\u001b[0;36m, line \u001b[0;32m1\u001b[0m\n\u001b[0;31m    Dillan Gump\u001b[0m\n\u001b[0m              ^\u001b[0m\n\u001b[0;31mSyntaxError\u001b[0m\u001b[0;31m:\u001b[0m invalid syntax\n"
     ]
    }
   ],
>>>>>>> ca29f1ac46db18d37254ddff612f65e1d3030434
   "source": [
    "Dillan Gump\n",
    "\n",
    "DSI06\n",
    "\n",
    "Python Self-Sufficiency Exam\n",
    "\n",
    "github: DJGump\n",
    "\n",
    "dgump31@outlook.com"
   ]
  },
  {
   "cell_type": "code",
<<<<<<< HEAD
   "execution_count": 7,
=======
   "execution_count": 3,
>>>>>>> ca29f1ac46db18d37254ddff612f65e1d3030434
   "metadata": {},
   "outputs": [
    {
     "data": {
      "application/javascript": [
       "\n",
       "            setTimeout(function() {\n",
       "                var nbb_cell_id = 7;\n",
       "                var nbb_unformatted_code = \"import numpy as np\\nimport pandas as pd\\nimport matplotlib.pyplot as plt\\nfrom numpy import mean\";\n",
       "                var nbb_formatted_code = \"import numpy as np\\nimport pandas as pd\\nimport matplotlib.pyplot as plt\\nfrom numpy import mean\";\n",
       "                var nbb_cells = Jupyter.notebook.get_cells();\n",
       "                for (var i = 0; i < nbb_cells.length; ++i) {\n",
       "                    if (nbb_cells[i].input_prompt_number == nbb_cell_id) {\n",
       "                        if (nbb_cells[i].get_text() == nbb_unformatted_code) {\n",
       "                             nbb_cells[i].set_text(nbb_formatted_code);\n",
       "                        }\n",
       "                        break;\n",
       "                    }\n",
       "                }\n",
       "            }, 500);\n",
       "            "
      ],
      "text/plain": [
       "<IPython.core.display.Javascript object>"
      ]
     },
     "metadata": {},
     "output_type": "display_data"
    }
   ],
   "source": [
    "import numpy as np\n",
    "import pandas as pd\n",
    "import matplotlib.pyplot as plt\n",
    "from numpy import mean"
   ]
  },
  {
   "cell_type": "code",
   "execution_count": 4,
   "metadata": {},
   "outputs": [
    {
     "ename": "ModuleNotFoundError",
     "evalue": "No module named 'nb_black'",
     "output_type": "error",
     "traceback": [
      "\u001b[0;31m---------------------------------------------------------------------------\u001b[0m",
      "\u001b[0;31mModuleNotFoundError\u001b[0m                       Traceback (most recent call last)",
      "\u001b[0;32m<ipython-input-4-f1fe81080eed>\u001b[0m in \u001b[0;36m<module>\u001b[0;34m\u001b[0m\n\u001b[1;32m      1\u001b[0m \u001b[0;31m#!pip install nb_black -I --upgrade --force-reinstall --user\u001b[0m\u001b[0;34m\u001b[0m\u001b[0;34m\u001b[0m\u001b[0;34m\u001b[0m\u001b[0m\n\u001b[1;32m      2\u001b[0m \u001b[0;34m\u001b[0m\u001b[0m\n\u001b[0;32m----> 3\u001b[0;31m \u001b[0mget_ipython\u001b[0m\u001b[0;34m(\u001b[0m\u001b[0;34m)\u001b[0m\u001b[0;34m.\u001b[0m\u001b[0mrun_line_magic\u001b[0m\u001b[0;34m(\u001b[0m\u001b[0;34m'reload_ext'\u001b[0m\u001b[0;34m,\u001b[0m \u001b[0;34m'nb_black'\u001b[0m\u001b[0;34m)\u001b[0m\u001b[0;34m\u001b[0m\u001b[0;34m\u001b[0m\u001b[0m\n\u001b[0m",
      "\u001b[0;32m~/opt/anaconda3/lib/python3.7/site-packages/IPython/core/interactiveshell.py\u001b[0m in \u001b[0;36mrun_line_magic\u001b[0;34m(self, magic_name, line, _stack_depth)\u001b[0m\n\u001b[1;32m   2315\u001b[0m                 \u001b[0mkwargs\u001b[0m\u001b[0;34m[\u001b[0m\u001b[0;34m'local_ns'\u001b[0m\u001b[0;34m]\u001b[0m \u001b[0;34m=\u001b[0m \u001b[0msys\u001b[0m\u001b[0;34m.\u001b[0m\u001b[0m_getframe\u001b[0m\u001b[0;34m(\u001b[0m\u001b[0mstack_depth\u001b[0m\u001b[0;34m)\u001b[0m\u001b[0;34m.\u001b[0m\u001b[0mf_locals\u001b[0m\u001b[0;34m\u001b[0m\u001b[0;34m\u001b[0m\u001b[0m\n\u001b[1;32m   2316\u001b[0m             \u001b[0;32mwith\u001b[0m \u001b[0mself\u001b[0m\u001b[0;34m.\u001b[0m\u001b[0mbuiltin_trap\u001b[0m\u001b[0;34m:\u001b[0m\u001b[0;34m\u001b[0m\u001b[0;34m\u001b[0m\u001b[0m\n\u001b[0;32m-> 2317\u001b[0;31m                 \u001b[0mresult\u001b[0m \u001b[0;34m=\u001b[0m \u001b[0mfn\u001b[0m\u001b[0;34m(\u001b[0m\u001b[0;34m*\u001b[0m\u001b[0margs\u001b[0m\u001b[0;34m,\u001b[0m \u001b[0;34m**\u001b[0m\u001b[0mkwargs\u001b[0m\u001b[0;34m)\u001b[0m\u001b[0;34m\u001b[0m\u001b[0;34m\u001b[0m\u001b[0m\n\u001b[0m\u001b[1;32m   2318\u001b[0m             \u001b[0;32mreturn\u001b[0m \u001b[0mresult\u001b[0m\u001b[0;34m\u001b[0m\u001b[0;34m\u001b[0m\u001b[0m\n\u001b[1;32m   2319\u001b[0m \u001b[0;34m\u001b[0m\u001b[0m\n",
      "\u001b[0;32m</Users/DJG/opt/anaconda3/lib/python3.7/site-packages/decorator.py:decorator-gen-66>\u001b[0m in \u001b[0;36mreload_ext\u001b[0;34m(self, module_str)\u001b[0m\n",
      "\u001b[0;32m~/opt/anaconda3/lib/python3.7/site-packages/IPython/core/magic.py\u001b[0m in \u001b[0;36m<lambda>\u001b[0;34m(f, *a, **k)\u001b[0m\n\u001b[1;32m    185\u001b[0m     \u001b[0;31m# but it's overkill for just that one bit of state.\u001b[0m\u001b[0;34m\u001b[0m\u001b[0;34m\u001b[0m\u001b[0;34m\u001b[0m\u001b[0m\n\u001b[1;32m    186\u001b[0m     \u001b[0;32mdef\u001b[0m \u001b[0mmagic_deco\u001b[0m\u001b[0;34m(\u001b[0m\u001b[0marg\u001b[0m\u001b[0;34m)\u001b[0m\u001b[0;34m:\u001b[0m\u001b[0;34m\u001b[0m\u001b[0;34m\u001b[0m\u001b[0m\n\u001b[0;32m--> 187\u001b[0;31m         \u001b[0mcall\u001b[0m \u001b[0;34m=\u001b[0m \u001b[0;32mlambda\u001b[0m \u001b[0mf\u001b[0m\u001b[0;34m,\u001b[0m \u001b[0;34m*\u001b[0m\u001b[0ma\u001b[0m\u001b[0;34m,\u001b[0m \u001b[0;34m**\u001b[0m\u001b[0mk\u001b[0m\u001b[0;34m:\u001b[0m \u001b[0mf\u001b[0m\u001b[0;34m(\u001b[0m\u001b[0;34m*\u001b[0m\u001b[0ma\u001b[0m\u001b[0;34m,\u001b[0m \u001b[0;34m**\u001b[0m\u001b[0mk\u001b[0m\u001b[0;34m)\u001b[0m\u001b[0;34m\u001b[0m\u001b[0;34m\u001b[0m\u001b[0m\n\u001b[0m\u001b[1;32m    188\u001b[0m \u001b[0;34m\u001b[0m\u001b[0m\n\u001b[1;32m    189\u001b[0m         \u001b[0;32mif\u001b[0m \u001b[0mcallable\u001b[0m\u001b[0;34m(\u001b[0m\u001b[0marg\u001b[0m\u001b[0;34m)\u001b[0m\u001b[0;34m:\u001b[0m\u001b[0;34m\u001b[0m\u001b[0;34m\u001b[0m\u001b[0m\n",
      "\u001b[0;32m~/opt/anaconda3/lib/python3.7/site-packages/IPython/core/magics/extension.py\u001b[0m in \u001b[0;36mreload_ext\u001b[0;34m(self, module_str)\u001b[0m\n\u001b[1;32m     61\u001b[0m         \u001b[0;32mif\u001b[0m \u001b[0;32mnot\u001b[0m \u001b[0mmodule_str\u001b[0m\u001b[0;34m:\u001b[0m\u001b[0;34m\u001b[0m\u001b[0;34m\u001b[0m\u001b[0m\n\u001b[1;32m     62\u001b[0m             \u001b[0;32mraise\u001b[0m \u001b[0mUsageError\u001b[0m\u001b[0;34m(\u001b[0m\u001b[0;34m'Missing module name.'\u001b[0m\u001b[0;34m)\u001b[0m\u001b[0;34m\u001b[0m\u001b[0;34m\u001b[0m\u001b[0m\n\u001b[0;32m---> 63\u001b[0;31m         \u001b[0mself\u001b[0m\u001b[0;34m.\u001b[0m\u001b[0mshell\u001b[0m\u001b[0;34m.\u001b[0m\u001b[0mextension_manager\u001b[0m\u001b[0;34m.\u001b[0m\u001b[0mreload_extension\u001b[0m\u001b[0;34m(\u001b[0m\u001b[0mmodule_str\u001b[0m\u001b[0;34m)\u001b[0m\u001b[0;34m\u001b[0m\u001b[0;34m\u001b[0m\u001b[0m\n\u001b[0m",
      "\u001b[0;32m~/opt/anaconda3/lib/python3.7/site-packages/IPython/core/extensions.py\u001b[0m in \u001b[0;36mreload_extension\u001b[0;34m(self, module_str)\u001b[0m\n\u001b[1;32m    128\u001b[0m                 \u001b[0mself\u001b[0m\u001b[0;34m.\u001b[0m\u001b[0mloaded\u001b[0m\u001b[0;34m.\u001b[0m\u001b[0madd\u001b[0m\u001b[0;34m(\u001b[0m\u001b[0mmodule_str\u001b[0m\u001b[0;34m)\u001b[0m\u001b[0;34m\u001b[0m\u001b[0;34m\u001b[0m\u001b[0m\n\u001b[1;32m    129\u001b[0m         \u001b[0;32melse\u001b[0m\u001b[0;34m:\u001b[0m\u001b[0;34m\u001b[0m\u001b[0;34m\u001b[0m\u001b[0m\n\u001b[0;32m--> 130\u001b[0;31m             \u001b[0mself\u001b[0m\u001b[0;34m.\u001b[0m\u001b[0mload_extension\u001b[0m\u001b[0;34m(\u001b[0m\u001b[0mmodule_str\u001b[0m\u001b[0;34m)\u001b[0m\u001b[0;34m\u001b[0m\u001b[0;34m\u001b[0m\u001b[0m\n\u001b[0m\u001b[1;32m    131\u001b[0m \u001b[0;34m\u001b[0m\u001b[0m\n\u001b[1;32m    132\u001b[0m     \u001b[0;32mdef\u001b[0m \u001b[0m_call_load_ipython_extension\u001b[0m\u001b[0;34m(\u001b[0m\u001b[0mself\u001b[0m\u001b[0;34m,\u001b[0m \u001b[0mmod\u001b[0m\u001b[0;34m)\u001b[0m\u001b[0;34m:\u001b[0m\u001b[0;34m\u001b[0m\u001b[0;34m\u001b[0m\u001b[0m\n",
      "\u001b[0;32m~/opt/anaconda3/lib/python3.7/site-packages/IPython/core/extensions.py\u001b[0m in \u001b[0;36mload_extension\u001b[0;34m(self, module_str)\u001b[0m\n\u001b[1;32m     78\u001b[0m             \u001b[0;32mif\u001b[0m \u001b[0mmodule_str\u001b[0m \u001b[0;32mnot\u001b[0m \u001b[0;32min\u001b[0m \u001b[0msys\u001b[0m\u001b[0;34m.\u001b[0m\u001b[0mmodules\u001b[0m\u001b[0;34m:\u001b[0m\u001b[0;34m\u001b[0m\u001b[0;34m\u001b[0m\u001b[0m\n\u001b[1;32m     79\u001b[0m                 \u001b[0;32mwith\u001b[0m \u001b[0mprepended_to_syspath\u001b[0m\u001b[0;34m(\u001b[0m\u001b[0mself\u001b[0m\u001b[0;34m.\u001b[0m\u001b[0mipython_extension_dir\u001b[0m\u001b[0;34m)\u001b[0m\u001b[0;34m:\u001b[0m\u001b[0;34m\u001b[0m\u001b[0;34m\u001b[0m\u001b[0m\n\u001b[0;32m---> 80\u001b[0;31m                     \u001b[0mmod\u001b[0m \u001b[0;34m=\u001b[0m \u001b[0mimport_module\u001b[0m\u001b[0;34m(\u001b[0m\u001b[0mmodule_str\u001b[0m\u001b[0;34m)\u001b[0m\u001b[0;34m\u001b[0m\u001b[0;34m\u001b[0m\u001b[0m\n\u001b[0m\u001b[1;32m     81\u001b[0m                     \u001b[0;32mif\u001b[0m \u001b[0mmod\u001b[0m\u001b[0;34m.\u001b[0m\u001b[0m__file__\u001b[0m\u001b[0;34m.\u001b[0m\u001b[0mstartswith\u001b[0m\u001b[0;34m(\u001b[0m\u001b[0mself\u001b[0m\u001b[0;34m.\u001b[0m\u001b[0mipython_extension_dir\u001b[0m\u001b[0;34m)\u001b[0m\u001b[0;34m:\u001b[0m\u001b[0;34m\u001b[0m\u001b[0;34m\u001b[0m\u001b[0m\n\u001b[1;32m     82\u001b[0m                         print((\"Loading extensions from {dir} is deprecated. \"\n",
      "\u001b[0;32m~/opt/anaconda3/lib/python3.7/importlib/__init__.py\u001b[0m in \u001b[0;36mimport_module\u001b[0;34m(name, package)\u001b[0m\n\u001b[1;32m    125\u001b[0m                 \u001b[0;32mbreak\u001b[0m\u001b[0;34m\u001b[0m\u001b[0;34m\u001b[0m\u001b[0m\n\u001b[1;32m    126\u001b[0m             \u001b[0mlevel\u001b[0m \u001b[0;34m+=\u001b[0m \u001b[0;36m1\u001b[0m\u001b[0;34m\u001b[0m\u001b[0;34m\u001b[0m\u001b[0m\n\u001b[0;32m--> 127\u001b[0;31m     \u001b[0;32mreturn\u001b[0m \u001b[0m_bootstrap\u001b[0m\u001b[0;34m.\u001b[0m\u001b[0m_gcd_import\u001b[0m\u001b[0;34m(\u001b[0m\u001b[0mname\u001b[0m\u001b[0;34m[\u001b[0m\u001b[0mlevel\u001b[0m\u001b[0;34m:\u001b[0m\u001b[0;34m]\u001b[0m\u001b[0;34m,\u001b[0m \u001b[0mpackage\u001b[0m\u001b[0;34m,\u001b[0m \u001b[0mlevel\u001b[0m\u001b[0;34m)\u001b[0m\u001b[0;34m\u001b[0m\u001b[0;34m\u001b[0m\u001b[0m\n\u001b[0m\u001b[1;32m    128\u001b[0m \u001b[0;34m\u001b[0m\u001b[0m\n\u001b[1;32m    129\u001b[0m \u001b[0;34m\u001b[0m\u001b[0m\n",
      "\u001b[0;32m~/opt/anaconda3/lib/python3.7/importlib/_bootstrap.py\u001b[0m in \u001b[0;36m_gcd_import\u001b[0;34m(name, package, level)\u001b[0m\n",
      "\u001b[0;32m~/opt/anaconda3/lib/python3.7/importlib/_bootstrap.py\u001b[0m in \u001b[0;36m_find_and_load\u001b[0;34m(name, import_)\u001b[0m\n",
      "\u001b[0;32m~/opt/anaconda3/lib/python3.7/importlib/_bootstrap.py\u001b[0m in \u001b[0;36m_find_and_load_unlocked\u001b[0;34m(name, import_)\u001b[0m\n",
      "\u001b[0;31mModuleNotFoundError\u001b[0m: No module named 'nb_black'"
     ]
    }
   ],
   "source": [
    "#!pip install nb_black -I --upgrade --force-reinstall --user\n",
    "\n",
    "%reload_ext nb_black"
   ]
  },
  {
   "cell_type": "markdown",
   "metadata": {},
   "source": [
    "##### 1. Create a function that reverses a string."
   ]
  },
  {
   "cell_type": "code",
   "execution_count": 5,
   "metadata": {},
   "outputs": [
    {
     "data": {
      "text/plain": [
       "'worromot dna worromot dna worromot'"
      ]
     },
     "execution_count": 5,
     "metadata": {},
     "output_type": "execute_result"
    }
   ],
   "source": [
    "def reverse_string(text_string):\n",
    "    text_reversed = text_string[::-1]\n",
    "    return text_reversed\n",
    "\n",
    "\n",
    "reverse_string(\"tomorrow and tomorrow and tomorrow\")"
   ]
  },
  {
   "cell_type": "markdown",
   "metadata": {},
   "source": [
    "##### 2. Complete the function below that can be used to calculate and return the posterior probability of an event A, given the known outcome of Event B using Bayes Theorem:"
   ]
  },
  {
   "cell_type": "code",
   "execution_count": 6,
   "metadata": {},
   "outputs": [
    {
     "name": "stdout",
     "output_type": "stream",
     "text": [
      "0.2727272727272727\n"
     ]
<<<<<<< HEAD
    },
    {
     "data": {
      "application/javascript": [
       "\n",
       "            setTimeout(function() {\n",
       "                var nbb_cell_id = 4;\n",
       "                var nbb_unformatted_code = \"def bayes(a, b_given_a, b_given_not_a):\\n\\n    \\\"\\\"\\\"\\n    Calculates P(A | B) using bayes theorem.\\n\\n    Args:\\n        a: P(A)\\n        b_given_a: P(B | A)\\n        b_given_not_a: P(B | ~A)\\n\\n    Returns:\\n        P(A | B)\\n    \\\"\\\"\\\"\\n\\n    # YOUR CODE GOES HERE\\n\\n    # bayes theorem:\\n    # P(A\\\\B) = (P(B|A) * P(A)) / ( (P(B\\\\A) * P(A)) + (P(B|A') * P(A')) )\\n\\n    post_prob = (b_given_a * a) / ((b_given_a * a) + b_given_not_a * (1 - a))\\n    return post_prob\\n\\n\\nprint(bayes(0.5, 0.3, 0.8))\";\n",
       "                var nbb_formatted_code = \"def bayes(a, b_given_a, b_given_not_a):\\n\\n    \\\"\\\"\\\"\\n    Calculates P(A | B) using bayes theorem.\\n\\n    Args:\\n        a: P(A)\\n        b_given_a: P(B | A)\\n        b_given_not_a: P(B | ~A)\\n\\n    Returns:\\n        P(A | B)\\n    \\\"\\\"\\\"\\n\\n    # YOUR CODE GOES HERE\\n\\n    # bayes theorem:\\n    # P(A\\\\B) = (P(B|A) * P(A)) / ( (P(B\\\\A) * P(A)) + (P(B|A') * P(A')) )\\n\\n    post_prob = (b_given_a * a) / ((b_given_a * a) + b_given_not_a * (1 - a))\\n    return post_prob\\n\\n\\nprint(bayes(0.5, 0.3, 0.8))\";\n",
       "                var nbb_cells = Jupyter.notebook.get_cells();\n",
       "                for (var i = 0; i < nbb_cells.length; ++i) {\n",
       "                    if (nbb_cells[i].input_prompt_number == nbb_cell_id) {\n",
       "                        if (nbb_cells[i].get_text() == nbb_unformatted_code) {\n",
       "                             nbb_cells[i].set_text(nbb_formatted_code);\n",
       "                        }\n",
       "                        break;\n",
       "                    }\n",
       "                }\n",
       "            }, 500);\n",
       "            "
      ],
      "text/plain": [
       "<IPython.core.display.Javascript object>"
      ]
     },
     "metadata": {},
     "output_type": "display_data"
=======
>>>>>>> ca29f1ac46db18d37254ddff612f65e1d3030434
    }
   ],
   "source": [
    "def bayes(a, b_given_a, b_given_not_a):\n",
    "\n",
    "    \"\"\"\n",
    "    Calculates P(A | B) using bayes theorem.\n",
    "\n",
    "    Args:\n",
    "        a: P(A)\n",
    "        b_given_a: P(B | A)\n",
    "        b_given_not_a: P(B | ~A)\n",
    "\n",
    "    Returns:\n",
    "        P(A | B)\n",
    "    \"\"\"\n",
    "\n",
    "    # YOUR CODE GOES HERE\n",
    "\n",
    "    # bayes theorem:\n",
    "    # P(A\\B) = (P(B|A) * P(A)) / ( (P(B\\A) * P(A)) + (P(B|A') * P(A')) )\n",
    "\n",
    "    post_prob = (b_given_a * a) / ((b_given_a * a) + b_given_not_a * (1 - a))\n",
    "    return post_prob\n",
    "\n",
    "\n",
    "print(bayes(0.5, 0.3, 0.8))"
   ]
  },
  {
   "cell_type": "markdown",
   "metadata": {},
   "source": [
    "##### 3. Analyze the [teams](https://tf-assets-prod.s3.amazonaws.com/tf-curric/data-science/lahman-teams.csv) dataset from the Lahman baseball records. This dataset contains season statistics for each Major League Baseball team. A plausible glossary can be found [here](https://rdrr.io/cran/Lahman/man/Teams.html)"
   ]
  },
  {
   "cell_type": "code",
   "execution_count": 7,
   "metadata": {},
<<<<<<< HEAD
   "outputs": [
    {
     "ename": "NameError",
     "evalue": "name 'pd' is not defined",
     "output_type": "error",
     "traceback": [
      "\u001b[1;31m---------------------------------------------------------------------------\u001b[0m",
      "\u001b[1;31mNameError\u001b[0m                                 Traceback (most recent call last)",
      "\u001b[1;32m<ipython-input-5-09000f941fb4>\u001b[0m in \u001b[0;36m<module>\u001b[1;34m\u001b[0m\n\u001b[0;32m      1\u001b[0m \u001b[0murl\u001b[0m \u001b[1;33m=\u001b[0m \u001b[1;34m\"https://tf-assets-prod.s3.amazonaws.com/tf-curric/data-science/lahman-teams.csv\"\u001b[0m\u001b[1;33m\u001b[0m\u001b[1;33m\u001b[0m\u001b[0m\n\u001b[1;32m----> 2\u001b[1;33m \u001b[0mteams\u001b[0m \u001b[1;33m=\u001b[0m \u001b[0mpd\u001b[0m\u001b[1;33m.\u001b[0m\u001b[0mread_csv\u001b[0m\u001b[1;33m(\u001b[0m\u001b[0murl\u001b[0m\u001b[1;33m)\u001b[0m\u001b[1;33m\u001b[0m\u001b[1;33m\u001b[0m\u001b[0m\n\u001b[0m",
      "\u001b[1;31mNameError\u001b[0m: name 'pd' is not defined"
     ]
    },
    {
     "data": {
      "application/javascript": [
       "\n",
       "            setTimeout(function() {\n",
       "                var nbb_cell_id = 5;\n",
       "                var nbb_unformatted_code = \"url = \\\"https://tf-assets-prod.s3.amazonaws.com/tf-curric/data-science/lahman-teams.csv\\\"\\nteams = pd.read_csv(url)\";\n",
       "                var nbb_formatted_code = \"url = \\\"https://tf-assets-prod.s3.amazonaws.com/tf-curric/data-science/lahman-teams.csv\\\"\\nteams = pd.read_csv(url)\";\n",
       "                var nbb_cells = Jupyter.notebook.get_cells();\n",
       "                for (var i = 0; i < nbb_cells.length; ++i) {\n",
       "                    if (nbb_cells[i].input_prompt_number == nbb_cell_id) {\n",
       "                        if (nbb_cells[i].get_text() == nbb_unformatted_code) {\n",
       "                             nbb_cells[i].set_text(nbb_formatted_code);\n",
       "                        }\n",
       "                        break;\n",
       "                    }\n",
       "                }\n",
       "            }, 500);\n",
       "            "
      ],
      "text/plain": [
       "<IPython.core.display.Javascript object>"
      ]
     },
     "metadata": {},
     "output_type": "display_data"
    }
   ],
=======
   "outputs": [],
>>>>>>> ca29f1ac46db18d37254ddff612f65e1d3030434
   "source": [
    "url = \"https://tf-assets-prod.s3.amazonaws.com/tf-curric/data-science/lahman-teams.csv\"\n",
    "teams = pd.read_csv(url)"
   ]
  },
  {
   "cell_type": "code",
<<<<<<< HEAD
   "execution_count": null,
   "metadata": {},
   "outputs": [],
=======
   "execution_count": 8,
   "metadata": {},
   "outputs": [
    {
     "data": {
      "text/html": [
       "<div>\n",
       "<style scoped>\n",
       "    .dataframe tbody tr th:only-of-type {\n",
       "        vertical-align: middle;\n",
       "    }\n",
       "\n",
       "    .dataframe tbody tr th {\n",
       "        vertical-align: top;\n",
       "    }\n",
       "\n",
       "    .dataframe thead th {\n",
       "        text-align: right;\n",
       "    }\n",
       "</style>\n",
       "<table border=\"1\" class=\"dataframe\">\n",
       "  <thead>\n",
       "    <tr style=\"text-align: right;\">\n",
       "      <th></th>\n",
       "      <th>yearID</th>\n",
       "      <th>lgID</th>\n",
       "      <th>teamID</th>\n",
       "      <th>franchID</th>\n",
       "      <th>divID</th>\n",
       "      <th>Rank</th>\n",
       "      <th>G</th>\n",
       "      <th>Ghome</th>\n",
       "      <th>W</th>\n",
       "      <th>L</th>\n",
       "      <th>...</th>\n",
       "      <th>DP</th>\n",
       "      <th>FP</th>\n",
       "      <th>name</th>\n",
       "      <th>park</th>\n",
       "      <th>attendance</th>\n",
       "      <th>BPF</th>\n",
       "      <th>PPF</th>\n",
       "      <th>teamIDBR</th>\n",
       "      <th>teamIDlahman45</th>\n",
       "      <th>teamIDretro</th>\n",
       "    </tr>\n",
       "  </thead>\n",
       "  <tbody>\n",
       "    <tr>\n",
       "      <th>0</th>\n",
       "      <td>1871</td>\n",
       "      <td>NaN</td>\n",
       "      <td>BS1</td>\n",
       "      <td>BNA</td>\n",
       "      <td>NaN</td>\n",
       "      <td>3</td>\n",
       "      <td>31</td>\n",
       "      <td>NaN</td>\n",
       "      <td>20</td>\n",
       "      <td>10</td>\n",
       "      <td>...</td>\n",
       "      <td>NaN</td>\n",
       "      <td>0.83</td>\n",
       "      <td>Boston Red Stockings</td>\n",
       "      <td>South End Grounds I</td>\n",
       "      <td>NaN</td>\n",
       "      <td>103</td>\n",
       "      <td>98</td>\n",
       "      <td>BOS</td>\n",
       "      <td>BS1</td>\n",
       "      <td>BS1</td>\n",
       "    </tr>\n",
       "    <tr>\n",
       "      <th>1</th>\n",
       "      <td>1871</td>\n",
       "      <td>NaN</td>\n",
       "      <td>CH1</td>\n",
       "      <td>CNA</td>\n",
       "      <td>NaN</td>\n",
       "      <td>2</td>\n",
       "      <td>28</td>\n",
       "      <td>NaN</td>\n",
       "      <td>19</td>\n",
       "      <td>9</td>\n",
       "      <td>...</td>\n",
       "      <td>NaN</td>\n",
       "      <td>0.82</td>\n",
       "      <td>Chicago White Stockings</td>\n",
       "      <td>Union Base-Ball Grounds</td>\n",
       "      <td>NaN</td>\n",
       "      <td>104</td>\n",
       "      <td>102</td>\n",
       "      <td>CHI</td>\n",
       "      <td>CH1</td>\n",
       "      <td>CH1</td>\n",
       "    </tr>\n",
       "    <tr>\n",
       "      <th>2</th>\n",
       "      <td>1871</td>\n",
       "      <td>NaN</td>\n",
       "      <td>CL1</td>\n",
       "      <td>CFC</td>\n",
       "      <td>NaN</td>\n",
       "      <td>8</td>\n",
       "      <td>29</td>\n",
       "      <td>NaN</td>\n",
       "      <td>10</td>\n",
       "      <td>19</td>\n",
       "      <td>...</td>\n",
       "      <td>NaN</td>\n",
       "      <td>0.81</td>\n",
       "      <td>Cleveland Forest Citys</td>\n",
       "      <td>National Association Grounds</td>\n",
       "      <td>NaN</td>\n",
       "      <td>96</td>\n",
       "      <td>100</td>\n",
       "      <td>CLE</td>\n",
       "      <td>CL1</td>\n",
       "      <td>CL1</td>\n",
       "    </tr>\n",
       "    <tr>\n",
       "      <th>3</th>\n",
       "      <td>1871</td>\n",
       "      <td>NaN</td>\n",
       "      <td>FW1</td>\n",
       "      <td>KEK</td>\n",
       "      <td>NaN</td>\n",
       "      <td>7</td>\n",
       "      <td>19</td>\n",
       "      <td>NaN</td>\n",
       "      <td>7</td>\n",
       "      <td>12</td>\n",
       "      <td>...</td>\n",
       "      <td>NaN</td>\n",
       "      <td>0.80</td>\n",
       "      <td>Fort Wayne Kekiongas</td>\n",
       "      <td>Hamilton Field</td>\n",
       "      <td>NaN</td>\n",
       "      <td>101</td>\n",
       "      <td>107</td>\n",
       "      <td>KEK</td>\n",
       "      <td>FW1</td>\n",
       "      <td>FW1</td>\n",
       "    </tr>\n",
       "    <tr>\n",
       "      <th>4</th>\n",
       "      <td>1871</td>\n",
       "      <td>NaN</td>\n",
       "      <td>NY2</td>\n",
       "      <td>NNA</td>\n",
       "      <td>NaN</td>\n",
       "      <td>5</td>\n",
       "      <td>33</td>\n",
       "      <td>NaN</td>\n",
       "      <td>16</td>\n",
       "      <td>17</td>\n",
       "      <td>...</td>\n",
       "      <td>NaN</td>\n",
       "      <td>0.83</td>\n",
       "      <td>New York Mutuals</td>\n",
       "      <td>Union Grounds (Brooklyn)</td>\n",
       "      <td>NaN</td>\n",
       "      <td>90</td>\n",
       "      <td>88</td>\n",
       "      <td>NYU</td>\n",
       "      <td>NY2</td>\n",
       "      <td>NY2</td>\n",
       "    </tr>\n",
       "  </tbody>\n",
       "</table>\n",
       "<p>5 rows × 48 columns</p>\n",
       "</div>"
      ],
      "text/plain": [
       "   yearID lgID teamID franchID divID  Rank   G  Ghome   W   L  ...  DP    FP  \\\n",
       "0    1871  NaN    BS1      BNA   NaN     3  31    NaN  20  10  ... NaN  0.83   \n",
       "1    1871  NaN    CH1      CNA   NaN     2  28    NaN  19   9  ... NaN  0.82   \n",
       "2    1871  NaN    CL1      CFC   NaN     8  29    NaN  10  19  ... NaN  0.81   \n",
       "3    1871  NaN    FW1      KEK   NaN     7  19    NaN   7  12  ... NaN  0.80   \n",
       "4    1871  NaN    NY2      NNA   NaN     5  33    NaN  16  17  ... NaN  0.83   \n",
       "\n",
       "                      name                          park  attendance  BPF  \\\n",
       "0     Boston Red Stockings           South End Grounds I         NaN  103   \n",
       "1  Chicago White Stockings       Union Base-Ball Grounds         NaN  104   \n",
       "2   Cleveland Forest Citys  National Association Grounds         NaN   96   \n",
       "3     Fort Wayne Kekiongas                Hamilton Field         NaN  101   \n",
       "4         New York Mutuals      Union Grounds (Brooklyn)         NaN   90   \n",
       "\n",
       "   PPF  teamIDBR  teamIDlahman45  teamIDretro  \n",
       "0   98       BOS             BS1          BS1  \n",
       "1  102       CHI             CH1          CH1  \n",
       "2  100       CLE             CL1          CL1  \n",
       "3  107       KEK             FW1          FW1  \n",
       "4   88       NYU             NY2          NY2  \n",
       "\n",
       "[5 rows x 48 columns]"
      ]
     },
     "execution_count": 8,
     "metadata": {},
     "output_type": "execute_result"
    }
   ],
>>>>>>> ca29f1ac46db18d37254ddff612f65e1d3030434
   "source": [
    "# teams.isnull().sum()\n",
    "teams.head()"
   ]
  },
  {
   "cell_type": "markdown",
   "metadata": {},
   "source": [
    "\n",
    "\n",
    "a.  For all records since 1995, plot histograms for the following variables. Which distribution do they appear to follow? Consider what each variable is measuring along with the histogram's shape."
   ]
  },
  {
   "cell_type": "code",
<<<<<<< HEAD
   "execution_count": null,
=======
   "execution_count": 9,
>>>>>>> ca29f1ac46db18d37254ddff612f65e1d3030434
   "metadata": {},
   "outputs": [],
   "source": [
    "teams_95 = teams.loc[teams[\"yearID\"] >= 1995]"
   ]
  },
  {
   "cell_type": "markdown",
   "metadata": {},
   "source": [
    "* Bases Stolen"
   ]
  },
  {
   "cell_type": "code",
<<<<<<< HEAD
   "execution_count": null,
   "metadata": {},
   "outputs": [],
=======
   "execution_count": 13,
   "metadata": {},
   "outputs": [
    {
     "data": {
      "text/plain": [
       "dtype('int64')"
      ]
     },
     "execution_count": 13,
     "metadata": {},
     "output_type": "execute_result"
    }
   ],
   "source": [
    "teams_95.G.dtype"
   ]
  },
  {
   "cell_type": "code",
   "execution_count": 17,
   "metadata": {},
   "outputs": [
    {
     "data": {
      "image/png": "iVBORw0KGgoAAAANSUhEUgAAAYUAAAEWCAYAAACJ0YulAAAABHNCSVQICAgIfAhkiAAAAAlwSFlzAAALEgAACxIB0t1+/AAAADh0RVh0U29mdHdhcmUAbWF0cGxvdGxpYiB2ZXJzaW9uMy4xLjMsIGh0dHA6Ly9tYXRwbG90bGliLm9yZy+AADFEAAAgAElEQVR4nO3deZwdVZn/8c+XsCQQSMBgA0mgEZEtjUoaREXtDKgsQnAGFEQEROM26oxxEJcRfjPDGEcZwHHBKP5YJSCgRJZBRBrGJWCCSFiFgRCSQNgDDSgEn/njnC4ul9vdt7vv0rf7+369+tW36tQ99Zy71FPnVN0qRQRmZmYA6zQ7ADMzGzmcFMzMrOCkYGZmBScFMzMrOCmYmVnBScHMzApOCjZkkrolfaQO9Z4o6dxa12sji6S3Sbqr2XHYyzkp1IGkZZKek9Qj6QlJl0ua3uy4BlKvjXwz5fdin2bHYa8UEf8TETs0cp2SZki6StKjkl7xIy1JO0n6laQ1ku6R9N6y8o/k+T2S/lvSViVlJ0p6IZf1/r2mEe2qJSeF+jkwIiYCWwKrgf9qcjw2ikga1+wYWtQLwIXAseUFktYFLgUuAzYD5gDnSnpdLn8H8O/A7Fx+H3B+WTUXRMTEkr9769aSOnFSqLOI+DNwEbBz7zxJB0j6g6SnJD0g6cSSsvGSzpX0mKQnJf1eUlsumyTpDEkPSlop6d96Nw6SXivpuryH86ikCyrF01f9kk4C3gZ8O+/hfDsv/5a8zJr8/y19tVXShyXdkXtHV0napqQsJH1c0t25/DuS1M9LN17SBZKelnSTpNfnev5J0sVl6/0vSadWiOccYGvg57lNx+X5e0r6bW7/HyV1lTznmNyGpyXdK+ljJWVdklZIOk7Sw/l9OFjS/pL+JOlxSV/q5/U5U9Lpkq7O9V9X9hrtmMsel3SXpPeVPfd7kq6Q9Awwq0L920q6Ptf9y/wan1tS/hNJD+X38npJu5TV/11JV+bX6jeStpB0an6/7pT0xpLlt5J0saRHJN0n6TP9tHt/SbfnuFZK+nzp61my3DJJn5d0S47xAknjS8pnS7pZ6Xvzv5L2zfP7/F6Ui4i7IuIM4LYKxTsCWwGnRMSLEfEr4DfAkbn8QOAnEXFbRDwP/Cvwdknb9dX2lhQR/qvxH7AM2Cc/3hA4Czi7pLwL6CAl5V1JPYmDc9nHgJ/n540DZgKb5LKfAd8HNgJeDdwIfCyXnQ98Odc5Htirj9j6q78b+EjJspsBT5C+FOsCh+fpV5UvDxwM3APslJf9CvDbkrqCtAc2mbShfgTYt48YTyTt0R0CrAd8nrRXth6p5/UMMDkvuy7wMDBzoPciT08FHgP2z6/VO/P05rn8AGA7QMA7gGeB3Uret7XAV3MsH83t+DGwMbAL8GfgNX3EcibwNPB2YAPgNODXuWwj4AHgmNym3YBHgV1KnrsGeGvve1yh/t8B3wTWB/YCngLOLSn/cI5zA+BU4Oay2B7Nn4fxwK/ya/6h/Dn5N+DavOw6wJL8OqwPvAa4F3h3H+1+EHhbfrxp2eu5ouy9upG0Yd4MuAP4eC7bI7f/nXn9U4EdB/pe9PMdfS0QZfM6gB5AJfOuBn6aH58MfLfssxTA7JLP7RrgcVLS+USzt0VD2n41O4DR+Jc/3D3Ak3kjsgro6Gf5U0l7J71f3N8Cu5Yt0wb8BZhQMu/wki/q2cB8YNoAsVWsP5d18/KkcCRwY9kyvwOOLl8euBI4tmS5dUgb1G3ydFCSqEhd+OP7iPFEYFFZXaUbliuBj+bH7wFuH+C9KE0KXwDOKVvmKuCoPp7/M+Cz+XEX8BwwLk9vnNv1ppLll5ATfIW6zgQWlExPBF4EpgPvB/6nbPnvAyeUPPfsSvXm8q3zZ23DknnnUpIUypafnGOfVFL/D0rKPw3cUTLdATyZH78JWF5W3xeB/9/HupaTdkY2KZvfxSuTwgdLpv8DOL3ktTilQt39fi/6eb0qJYX1SMntuPz4XcDzwFW5fG9S4twVmJBj+itweC7fmZTQxgFvyZ/Zw/uLYyT+efiofg6OiMmkvbK/B66TtAWApDdJujZ3vdcAHwem5OedQ9pILZC0StJ/SFoP2Ib0QX0wD3s8SfpQvjo/7zjS3u2Nkm6T9OE+4uqr/kq2Au4vm3c/aQ+p3DbAaSWxPZ7jKV32oZLHz5I2in15oPdBRPwVWJHjgdTz+mB+/MHcpmptAxzaG2eOdS9SDwRJ+0lalIdwniT1KKaUPP+xiHgxP34u/19dUv7cINrVQ3qdtspxvaksriOALSo9t4KtgMcj4tlKy0saJ2leHnZ5irQBpqxt5e3oq13bAFuVxfol0ga6kr8jvY735yGzN/fTjr4+I9OB/62w/EDfi6pFxAukHu8BOY65pJ2XFbn8GuAE4GLS92AZqefXW357RKyKNPT0W1JP8JDBxtFsTgp1lj8gl5D2CPfKs38MLASmR8Qk4HTSBpSIeCEi/l9E7Eza23gPqQv/AGmPaEpETM5/m0TELvl5D0XERyNiK9Je2XclvbZCPH3VD2nPsdQq0peu1NbAygpNfYDUZZ9c8jchfzmGojhbS9I6wLQcD6S9910lzcjxn9dPPeVteoDUUyiNc6OImCdpA9IX/ptAW07qV5DfmxopbddE0jDJqhzXdWVxTYyIT/TTllIPAptJ2rDSuoAPkA6Q7gNMAtp7wxhCGx4A7iuLdeOI2L/SwhHx+4iYTdpQ/4y0oR3KOiuN3ff7vRisiLglIt4REa+KiHeThsZuLCn/TkRsHxGvJn1W1gVu7as6avvZaQgnhTpTMps0lnpHnr0xaa/uz5L2IH1he5efJakjHyh7ijS2/mJEPAj8AjhZ0iaS1pG0ndIZEUg6VNK0XM0TpA9k7x4tA9Wfi1eTvgS9rgBeJ+kDktaV9H5SF/myCk09Hfhi78HLfPDv0MG9Wi8zU9LfKp0R8g+kL/4ieNnB+x+ThreW91NPeZvOBQ6U9O689zw+H/CcRhof34B0nGCtpP1IQwi1tL+kvSStTzpQeUNEPEB6TV8n6UhJ6+W/3SXtVE2lEXE/sBg4UdL6eW/8wJJFNia9ho+Rjif9+zDacCPwlKQvSJqQX8cZknYvXzDHcoSkSXlP/CkqfC6rcAZwjKS982d/qqQdB/peVIhH+eD1+nl6fN4Z6C3fNc/bUOmA+JakobXeZWfkOrYmDdeeFhFP5PLZkjbN5XsAnyGdzdRSnBTq5+eSekhfgpNIY9a9Zzx8EvgXSU+TDtaV7jltQdrgPUVKIteRNmSQ9ujXB24nbfgvIg97ALsDN+R1LiSNg99XIa7+6j8NOETpbJNvRcRjpD3xuaSNyXHAeyLi0fJKI+KnwNdJw1JPkfae9qvmherDpaRx9t4D3X+bNyq9ziKNcw80dPQ14Ct5aOHzeQM8mzTc8QhpT/OfgHUi4mnSF/nCvN4PkF7LWvoxaQjicdJB3SMA8rrfBRxG6jk8RHo9N6hcTUVHAG8mvVf/BlxASgSQjjndT+rl3U5OsEORh88OBN5AOhj9KPBDUg+kkiOBZflz8XFeGvobzDpvJB2EP4V0MPc6XurF9ve9KLcNaSis97v4HFD6A7ojSb2uh0nHEN4ZEb2v4XjS+9dDSoy/A/655LmHkU62eJr0en89Is4abFubTRG+yY61nryndiewRUQ81ex4qiHpTNKB1a80aH0XAHdGxAmNWJ+NDu4pWMvJxxg+RzqTpyUSQiPk4abt8hDKvqQe0c+aHZe1lnWbHYDZYEjaiHSc4H5g3yaHM9JsAVwCvIp0RswnIuIPzQ3JWo2Hj8zMrODhIzMzK7T08NGUKVOivb192PU888wzbLTRRsMPaIRxu1qL29VaWrldS5YseTQiNq9U1tJJob29ncWLFw+7nu7ubrq6uoYf0AjjdrUWt6u1tHK7JJVfqaDg4SMzMys4KZiZWcFJwczMCk4KZmZWcFIwM7OCk4KZmRWcFMzMrOCkYGZmBScFMzMrtPQvmq11tB9/ec3qmtuxlqOrrG/ZvANqtl6zscA9BTMzKzgpmJlZwUnBzMwKdUsKkn4k6WFJt1Yo+7ykkDQlT0vStyTdI+kWSbvVKy4zM+tbPXsKZ1LhdomSpgPvBJaXzN4P2D7/zQG+V8e4zMysD3VLChFxPfB4haJTgOOA0vuAzgbOjmQRMFnSlvWKzczMKmvoKamSDgJWRsQfJZUWTQUeKJlekec9WKGOOaTeBG1tbXR3dw87rp6enprUM9KMpHbN7Vhbs7raJlRf30hpfzVG0vtVS25Xa2lYUpC0IfBl4F2ViivMiwrziIj5wHyAzs7OqMWdj1r5Dkr9GUntqvZ3BdWY27GWk5dW99FddkRXzdZbbyPp/aolt6u1NLKnsB2wLdDbS5gG3CRpD1LPYHrJstOAVQ2MzczMaOApqRGxNCJeHRHtEdFOSgS7RcRDwELgQ/kspD2BNRHxiqEjMzOrr3qekno+8DtgB0krJB3bz+JXAPcC9wA/AD5Zr7jMzKxvdRs+iojDByhvL3kcwKfqFYuZmVXHv2g2M7OCk4KZmRWcFMzMrOCkYGZmBScFMzMrOCmYmVnBScHMzApOCmZmVnBSMDOzgpOCmZkVnBTMzKzgpGBmZoWG3nnNmqu9hje6MbPRyT0FMzMrOCmYmVnBScHMzApOCmZmVnBSMDOzgpOCmZkV6pYUJP1I0sOSbi2Z9w1Jd0q6RdJPJU0uKfuipHsk3SXp3fWKy8zM+lbPnsKZwL5l864GZkTErsCfgC8CSNoZOAzYJT/nu5LG1TE2MzOroG5JISKuBx4vm/eLiFibJxcB0/Lj2cCCiPhLRNwH3APsUa/YzMysMkVE/SqX2oHLImJGhbKfAxdExLmSvg0siohzc9kZwJURcVGF580B5gC0tbXNXLBgwbDj7OnpYeLEicOuZ6Qpb9fSlWuaGE3ttE2A1c9Vt2zH1En1DaaGxsrncLRo5XbNmjVrSUR0ViprymUuJH0ZWAuc1zurwmIVs1VEzAfmA3R2dkZXV9ew4+nu7qYW9Yw05e06epRc5mJux1pOXlrdR3fZEV31DaaGxsrncLQYre1qeFKQdBTwHmDveKmbsgKYXrLYNGBVo2MzMxvrGnpKqqR9gS8AB0XEsyVFC4HDJG0gaVtge+DGRsZmZmZ17ClIOh/oAqZIWgGcQDrbaAPgakmQjiN8PCJuk3QhcDtpWOlTEfFivWIzM7PK6pYUIuLwCrPP6Gf5k4CT6hWPmZkNzL9oNjOzgpOCmZkVnBTMzKzgpGBmZgUnBTMzKzgpmJlZwUnBzMwKTgpmZlZwUjAzs4KTgpmZFZwUzMys4KRgZmYFJwUzMys4KZiZWcFJwczMCk4KZmZWcFIwM7OCk4KZmRWcFMzMrOCkYGZmhXXrVbGkHwHvAR6OiBl53mbABUA7sAx4X0Q8IUnAacD+wLPA0RFxU71is7Gj/fjLm7buZfMOaNq6zYaqnj2FM4F9y+YdD1wTEdsD1+RpgP2A7fPfHOB7dYzLzMz6ULekEBHXA4+XzZ4NnJUfnwUcXDL/7EgWAZMlbVmv2MzMrDJFRP0ql9qBy0qGj56MiMkl5U9ExKaSLgPmRcSv8/xrgC9ExOIKdc4h9SZoa2ubuWDBgmHH2dPTw8SJE4ddz0hT3q6lK9c0MZraaZsAq59rdhQD65g6aVDLj5XP4WjRyu2aNWvWkojorFRWt2MKg6QK8ypmq4iYD8wH6OzsjK6urmGvvLu7m1rUM9KUt+voJo6v19LcjrWcvHSkfHT7tuyIrkEtP1Y+h6PFaG1Xo88+Wt07LJT/P5znrwCmlyw3DVjV4NjMzMa8RieFhcBR+fFRwKUl8z+kZE9gTUQ82ODYzMzGvHqekno+0AVMkbQCOAGYB1wo6VhgOXBoXvwK0umo95BOST2mXnGZmVnf6pYUIuLwPor2rrBsAJ+qVyxmZlYd/6LZzMwKTgpmZlZwUjAzs4KTgpmZFapKCpJm1DsQMzNrvmp7CqdLulHSJyVNHnhxMzNrRVUlhYjYCziC9KvjxZJ+LOmddY3MzMwarupjChFxN/AV4AvAO4BvSbpT0t/WKzgzM2usao8p7CrpFOAO4G+AAyNip/z4lDrGZ2ZmDVTtL5q/DfwA+FJEFBctjohVkr5Sl8jMzKzhqk0K+wPPRcSLAJLWAcZHxLMRcU7dojMzs4aq9pjCL4EJJdMb5nlmZjaKVJsUxkdET+9EfrxhfUIyM7NmqXb46BlJu0XETQCSZgItcEPEkam9QXdAm9uxdtTcbc3MGqPapPAPwE8k9d4NbUvg/fUJyczMmqWqpBARv5e0I7AD6X7Kd0bEC3WNzMzMGm4wN9nZHWjPz3mjJCLi7LpEZWZmTVFVUpB0DrAdcDPwYp4dgJOCmdkoUm1PoRPYOd8208zMRqlqT0m9FdiiViuV9I+SbpN0q6TzJY2XtK2kGyTdLekCSevXan1mZladapPCFOB2SVdJWtj7N5QVSpoKfAbojIgZwDjgMODrwCkRsT3wBHDsUOo3M7Ohq3b46MQ6rHeCpBdIP4J7kHRxvQ/k8rPyOr9X4/WamVk/qj0l9TpJ2wDbR8QvJW1I2sMftIhYKembwHLSD+B+ASwBnoyItXmxFcDUodRvZmZDp2qOHUv6KDAH2CwitpO0PXB6ROw96BVKmwIXk3789iTwkzx9QkS8Ni8zHbgiIjoqPH9OjoW2traZCxYsGGwIr9DT08PEiROHXU+1lq5c05D1tE2A1aPwd+et0q6OqZMGtXyjP4eN4naNPLNmzVoSEZ2VyqodPvoUsAdwA6Qb7kh69RDj2Qe4LyIeAZB0CfAWYLKkdXNvYRqwqtKTI2I+MB+gs7Mzurq6hhjGS7q7u6lFPdVq1KUn5nas5eSlg/kpSmtolXYtO6JrUMs3+nPYKG5Xa6n2QPNfIuL53glJ65J+pzAUy4E9JW0oScDewO3AtcAheZmjgEuHWL+ZmQ1RtUnhOklfIh0cfidpyOfnQ1lhRNwAXATcBCzNMcwn3ebzc5LuAV4FnDGU+s3MbOiq7YMfTzpFdCnwMeAK4IdDXWlEnACcUDb7XtIQlZmZNUm1Zx/9lXQ7zh/UNxwzM2umaq99dB8VjiFExGtqHpGZmTXNYK591Gs8cCiwWe3DMTOzZqp2+OixslmnSvo18NXah2Q2Ogz2Dnu1ulPesnkHDLsOG7uqHT7arWRyHVLPYeO6RGRmZk1T7fDRySWP1wLLgPfVPBozM2uqaoePZtU7EDMza75qh48+1195RPxnbcIxM7NmGszZR7sDvfdQOBC4HnigHkGZmVlzVJsUpgC7RcTTAJJOBH4SER+pV2BmZtZ41V77aGvg+ZLp54H2mkdjZmZNVW1P4RzgRkk/Jf2y+b3A2XWLyszMmqLas49OknQl8LY865iI+EP9wjIzs2aodvgI0r2Un4qI04AVkratU0xmZtYkVSUFSSeQ7nfwxTxrPeDcegVlZmbNUW1P4b3AQcAzABGxCl/mwsxs1Kk2KTwfEUG+fLakjeoXkpmZNUu1SeFCSd8HJkv6KPBLfMMdM7NRp9qzj76Z7838FLAD8NWIuLqukZmZWcMNmBQkjQOuioh9ACcCM7NRbMDho4h4EXhW0qRarVTSZEkXSbpT0h2S3ixpM0lXS7o7/9+0VuszM7PqVPuL5j8DSyVdTT4DCSAiPjPE9Z4G/HdEHCJpfdJvIL4EXBMR8yQdDxxPOg3WzMwapNqkcHn+GzZJmwBvB44GiIjngeclzQa68mJnAd04KZiZNZTSmaZ9FEpbR8Tymq5QegMwH7gdeD2wBPgssDIiJpcs90REvGIISdIcYA5AW1vbzAULFgw7pp6eHiZOnDjseqq1dOWahqynbQKsfq4hq2oot6t/HVNrNtJbE43+fjVKK7dr1qxZSyKis1LZQEnhpojYLT++OCL+brjBSOoEFgFvjYgbJJ1GOqvp09UkhVKdnZ2xePHi4YZEd3c3XV1dw66nWoO9oftQze1Yy8lLq+0Mtg63q3/L5h1Qg2hqp9Hfr0Zp5XZJ6jMpDHSgWSWPX1OjeFYAKyLihjx9EbAbsFrSlgD5/8M1Wp+ZmVVpoKQQfTwesoh4CHhA0g551t6koaSFwFF53lHApbVYn5mZVW+gvurrJT1F6jFMyI/J0xERmwxxvZ8GzstnHt0LHENKUBdKOhZYDhw6xLrNzGyI+k0KETGuHiuNiJtJ930ut3c91mdmZtUZzP0UzMxslHNSMDOzgpOCmZkVnBTMzKzgpGBmZgUnBTMzKzgpmJlZwUnBzMwKTgpmZlZwUjAzs4KTgpmZFZwUzMys4KRgZmYFJwUzMys4KZiZWcFJwczMCk4KZmZWcFIwM7PCQPdoNrMW03785U1Z77J5BzRlvVZb7imYmVmhaUlB0jhJf5B0WZ7eVtINku6WdIGk9ZsVm5nZWNXMnsJngTtKpr8OnBIR2wNPAMc2JSozszGsKUlB0jTgAOCHeVrA3wAX5UXOAg5uRmxmZmOZIqLxK5UuAr4GbAx8HjgaWBQRr83l04ErI2JGhefOAeYAtLW1zVywYMGw4+np6WHixInDrqdaS1euach62ibA6ucasqqGcrtGpo6pkyrOb/T3q1FauV2zZs1aEhGdlcoafvaRpPcAD0fEEkldvbMrLFoxW0XEfGA+QGdnZ3R1dVVabFC6u7upRT3VOrpBZ4fM7VjLyUtH3wlmbtfItOyIrorzG/39apTR2q5mfALfChwkaX9gPLAJcCowWdK6EbEWmAasakJsZmZjWsOPKUTEFyNiWkS0A4cBv4qII4BrgUPyYkcBlzY6NjOzsW4k/U7hC8DnJN0DvAo4o8nxmJmNOU0dwIyIbqA7P74X2KOZ8ZiZjXUjqadgZmZN5qRgZmYFJwUzMys4KZiZWcFJwczMCk4KZmZWcFIwM7OCk4KZmRWcFMzMrOCkYGZmBScFMzMrOCmYmVnBScHMzApOCmZmVnBSMDOzgpOCmZkVnBTMzKzgpGBmZgUnBTMzKzQ8KUiaLulaSXdIuk3SZ/P8zSRdLenu/H/TRsdmZjbWNaOnsBaYGxE7AXsCn5K0M3A8cE1EbA9ck6fNzKyBGp4UIuLBiLgpP34auAOYCswGzsqLnQUc3OjYzMzGOkVE81YutQPXAzOA5RExuaTsiYh4xRCSpDnAHIC2traZCxYsGHYcPT09TJw4cdj1VGvpyjUNWU/bBFj9XENW1VBu18jUMXVSxfmN/n41Siu3a9asWUsiorNSWdOSgqSJwHXASRFxiaQnq0kKpTo7O2Px4sXDjqW7u5uurq5h11Ot9uMvb8h65nas5eSl6zZkXY3kdo1My+YdUHF+o79fjdLK7ZLUZ1JoyidQ0nrAxcB5EXFJnr1a0pYR8aCkLYGH6xlD6YZ5bsdajm7QhtrMbCRreFKQJOAM4I6I+M+SooXAUcC8/P/SRsdmZkPXVw+4ETtdffVSbPCa0VN4K3AksFTSzXnel0jJ4EJJxwLLgUObEJuZ2ZjW8KQQEb8G1Efx3o2MxczMXs6/aDYzs4KTgpmZFZwUzMys4KRgZmYFJwUzMys4KZiZWcFJwczMCk4KZmZWcFIwM7OCk4KZmRWcFMzMrOCkYGZmBScFMzMrOCmYmVnBScHMzApOCmZmVmjdu4SbmTVZX7cgbYR63YLUScHMWl4zNs5zO9YyGjehHj4yM7OCk4KZmRVGXFKQtK+kuyTdI+n4ZsdjZjaWjKikIGkc8B1gP2Bn4HBJOzc3KjOzsWNEJQVgD+CeiLg3Ip4HFgCzmxyTmdmYoYhodgwFSYcA+0bER/L0kcCbIuLvS5aZA8zJkzsAd9Vg1VOAR2tQz0jjdrUWt6u1tHK7tomIzSsVjLTzqVRh3suyVkTMB+bXdKXS4ojorGWdI4Hb1VrcrtYyWts10oaPVgDTS6anAauaFIuZ2Zgz0pLC74HtJW0raX3gMGBhk2MyMxszRtTwUUSslfT3wFXAOOBHEXFbA1Zd0+GoEcTtai1uV2sZle0aUQeazcysuUba8JGZmTWRk4KZmRXGTFIY6PIZkj4n6XZJt0i6RtI2zYhzsKq9LIikQySFpJY4ha6adkl6X37PbpP040bHOBRVfA63lnStpD/kz+L+zYhzsCT9SNLDkm7to1ySvpXbfYuk3Rod41BU0a4jcntukfRbSa9vdIw1FxGj/o900Pp/gdcA6wN/BHYuW2YWsGF+/AnggmbHXYt25eU2Bq4HFgGdzY67Ru/X9sAfgE3z9KubHXeN2jUf+ER+vDOwrNlxV9m2twO7Abf2Ub4/cCXpt0h7Ajc0O+YatestJZ/B/VqlXf39jZWewoCXz4iIayPi2Ty5iPQbiZGu2suC/CvwH8CfGxncMFTTro8C34mIJwAi4uEGxzgU1bQrgE3y40m0yO90IuJ64PF+FpkNnB3JImCypC0bE93QDdSuiPht72eQ1tlu9GusJIWpwAMl0yvyvL4cS9qrGekGbJekNwLTI+KyRgY2TNW8X68DXifpN5IWSdq3YdENXTXtOhH4oKQVwBXApxsTWt0N9jvYilplu9GvEfU7hToa8PIZxYLSB4FO4B11jag2+m2XpHWAU4CjGxVQjVTzfq1LGkLqIu2d/Y+kGRHxZJ1jG45q2nU4cGZEnCzpzcA5uV1/rX94dVX1d7AVSZpFSgp7NTuW4RorPYWqLp8haR/gy8BBEfGXBsU2HAO1a2NgBtAtaRlpLHdhCxxsrub9WgFcGhEvRMR9pAsjbt+g+IaqmnYdC1wIEBG/A8aTLrzW6kbtJWwk7Qr8EJgdEY81O57hGitJYcDLZ+Rhlu+TEkIrjE/DAO2KiDURMSUi2iOinTTmeVBELG5OuFWr5nInPyOdHICkKaThpHsbGuXgVdOu5cDeAJJ2IiWFRxoaZX0sBD6Uz0LaE1gTEQ82O6jhkrQ1cAlwZET8qdnx1MKYGD6KPi6fIelfgMURsRD4BjAR+IkkgOURcVDTgq5Cle1qOVW26yrgXZJuB14E/mmk76VV2a65wA8k/SNpeOXoyKe2jGSSzicN5U3Jx0NOANYDiIjTScdH9gfuAZ4FjmlOpINTRbu+CrwK+G7ebqyNFr9yqi9zYff4plIAAANaSURBVGZmhbEyfGRmZlVwUjAzs4KTgpmZFZwUzMys4KRgZmYFJwUbtSS9KOlmSX+UdJOktzR4/RtKOk/SUkm3Svq1pImSJkv6ZBXPb+/r6pxm9TImfqdgY9ZzEfEGAEnvBr5GYy9f8llgdUR05Bh2AF4g/UL5k8B3GxiLWVXcU7CxYhPgCYC8t35N7j0slTQ7z99I0uW5Z3GrpPfn+TMlXSdpiaSreq/uKekzeukeHAsqrHNLYGXvRETclS+fMg/YLvdivpF/5fuNvM6lvestJWlcXub3eX0fy/O7JHVLukjSnblnUuk6Q2ZVcU/BRrMJkm4mXSpiS+Bv8vw/A++NiKfyJTIWSVoI7AusiogDACRNkrQe8F+k69o8kjfYJwEfBo4Hto2Iv0iaXGH9PwJ+IekQ4BrgrIi4Oz9vRkkv5u+ANwCvJ/Uifi/p+rK6jiVdGmJ3SRsAv5H0i1z2RmAX0rWEfgO8Ffj1kF81G9PcU7DR7LmIeENE7Eja4J+d96IF/LukW4Bfki7h3AYsBfaR9HVJb4uINcAOpIsKXp0TzFd46Zr5twDn5Svrri1feUTcTLqhzjeAzUgb+50qxLkXcH5EvBgRq4HrgN3LlnkX6dpBNwM3kC6t0HsBwBsjYkW+kurNQPvgXiazl7inYGNCRPwu9wo2J12DZ3NgZkS8kK8gOz4i/iRpZi7/Wt4T/ylwW0S8uUK1B5DuzHUQ8M+SdomIlyWHiOghXTDtEkl/zXVfXFZPNcM9Aj4dEVe9bKbUBZRe0fdF/L22YXBPwcYESTuSLkL3GOmOZg/nhDAL2CYvsxXwbEScC3yTdBvGu4DNle5tgKT1JO2idK+K6RFxLXAcMJl0QcXSdb5V0qb58fqk22veDzxNuqx5r+uB9+fjBpuTEs2NZU24CvhEHs5C0uskbVSL18aslPcobDTrPaYAaU/7qIh4UdJ5wM8lLSYNt9yZl+kAvpH36F8g3Sv5+XxM4FuSJpG+M6cCfwLOzfMEnFLhBj/bAd/LQ1brAJcDF0dEKN0x7lbSnbqOA95MumdzAMdFxEOS2kvq+iFpWOimXN8jwME1eI3MXsZXSTUzs4KHj8zMrOCkYGZmBScFMzMrOCmYmVnBScHMzApOCmZmVnBSMDOzwv8BBQ7EWGe/NxsAAAAASUVORK5CYII=\n",
      "text/plain": [
       "<Figure size 432x288 with 1 Axes>"
      ]
     },
     "metadata": {
      "needs_background": "light"
     },
     "output_type": "display_data"
    }
   ],
>>>>>>> ca29f1ac46db18d37254ddff612f65e1d3030434
   "source": [
    "# stolen bases\n",
    "(teams_95['SB']/teams_95['G']).hist()\n",
    "plt.xlabel(\"Bases Stolen\")\n",
    "plt.ylabel(\"Frequency\")\n",
    "plt.title(\"Bases stolen by team per game since 1995\")\n",
    "plt.show()"
   ]
  },
  {
   "cell_type": "markdown",
   "metadata": {},
   "source": [
    "* Wins"
   ]
  },
  {
   "cell_type": "code",
   "execution_count": null,
   "metadata": {},
   "outputs": [],
   "source": [
    "# Wins\n",
    "teams_95.W.hist()\n",
    "plt.xlabel(\"Wins\")\n",
    "plt.ylabel(\"Frequency\")\n",
    "plt.title(\"Wins by team per year since 1995\")\n",
    "plt.show()"
   ]
  },
  {
   "cell_type": "markdown",
   "metadata": {},
   "source": [
    "* Earned Run Average"
   ]
  },
  {
   "cell_type": "code",
   "execution_count": null,
   "metadata": {},
   "outputs": [],
   "source": [
    "# Earned run average\n",
    "teams_95.ERA.hist()\n",
    "plt.xlabel(\"ERA\")\n",
    "plt.ylabel(\"Frequency\")\n",
    "plt.title(\"Earned Run Average (ERA) stolen by each team per year since 1995\")\n",
    "plt.show()"
   ]
  },
  {
   "cell_type": "markdown",
   "metadata": {},
   "source": [
    "Stolen bases seems to skew right, with the avaerage number of bases stolen per game being less than one It would be interesting to find the amount of attempted steals. Most teams probably steal an average number of bases, while teams that steal significantly more may be interesting events based on the year or other factors. Wins skews left, meaning most teams are going to win an average amount, with some teams underperforming. There will be a ceiling effect, as there are only so many games in  year. Earned run average seems fairly normal, with a slight right skew. On most teams, most players will be average, so this feature is doubly affected by averaging affects. ERA is likewise likely pretty normal. Exact distribution identification requires further analysis."
   ]
  },
  {
   "cell_type": "markdown",
   "metadata": {},
   "source": [
    "* b. Conduct some further exploratory data analysis on this dataset. Consider qualities like distributions, correlations and trends over time. Try to find something interesting to say about the data, and use visualizations to support your argument."
   ]
  },
  {
   "cell_type": "markdown",
   "metadata": {},
   "source": [
    "Generate correlations for all columns"
   ]
  },
  {
   "cell_type": "code",
   "execution_count": null,
   "metadata": {},
   "outputs": [],
   "source": [
    "# teams_95.info()\n",
    "'''\n",
    "features of interest:\n",
    "Rank\n",
    "Ghome - games played at home\n",
    "G - games played\n",
    "HR - homeruns by batters\n",
    "SOA - Strikeouts by pitchers\n",
    "E - errors\n",
    "'''\n",
    "teams_95[['Rank', 'Ghome', 'G', 'HR', 'SOA', 'E', 'ERA']].corr()\n"
   ]
  },
  {
   "cell_type": "markdown",
   "metadata": {},
   "source": [
    "Check for columns with significant nulls counts"
   ]
  },
  {
   "cell_type": "code",
   "execution_count": null,
   "metadata": {},
   "outputs": [],
   "source": [
    "# teams_95.isna().sum()"
   ]
  },
  {
   "cell_type": "markdown",
   "metadata": {},
   "source": [
    "Look like only HBP and SF have null vales. Batters hit by pitch and sacrifice flies are not interesting"
   ]
  },
  {
   "cell_type": "code",
   "execution_count": null,
   "metadata": {},
   "outputs": [],
   "source": [
    "teams_95.plot.scatter(x=\"E\", y=\"Rank\")\n",
    "plt.show()"
   ]
  },
  {
   "cell_type": "code",
   "execution_count": null,
   "metadata": {
    "scrolled": true
   },
   "outputs": [],
   "source": [
    "# could see if number of homeruns increases by years\n",
    "# sports typically become more competitive over time\n",
    "teams_95.boxplot(column='HR',by='yearID', rot=90)\n",
    "plt.show()\n"
   ]
  },
  {
   "cell_type": "markdown",
   "metadata": {},
   "source": [
    "Might be interesting to see if significant years, like when Barry Bonds broke the home run record in 2001, are enough to make the number of home runs significantly higher that year. Since that year doesn't even have an outlier, and all the plots are overlapping in spread, my guess is homeruns are not affected by\n",
    "\n",
    "Earned run average and rank seem to be correlated, with r around 0.5"
   ]
  },
  {
   "cell_type": "code",
   "execution_count": null,
   "metadata": {},
   "outputs": [],
   "source": [
    "# teams_95.plot.scatter(x='Rank', y='ERA')\n",
    "teams_95.boxplot(column=\"R\", by=\"Rank\")"
   ]
  },
  {
   "cell_type": "markdown",
   "metadata": {},
   "source": [
    "Makes sense that the #1 teams have the highest averages of runs scored through the seasons. It also interesting how the lower ranked teams have less spread in their average. I would be interesting in finding where to bisect the data where the average runs of the top set is significantly greater thn the average of the bottom. Perhaps around a certain ranking teams are essentially indistinguishable?\n",
    "\n",
    "Now I expected a negative correlation for Earned Runs Allowed, following similar principles."
   ]
  },
  {
   "cell_type": "code",
   "execution_count": null,
   "metadata": {},
   "outputs": [],
   "source": [
    "teams_95.boxplot(column=\"ER\", by=\"Rank\")\n",
    "plt.show()"
   ]
  },
  {
   "cell_type": "markdown",
   "metadata": {},
   "source": [
    "#### 4. Choose any two of the variables from 3. Draw 1,000 samples, taking the mean of 100 observations each time. Plot the frequencies of the sample means. What distribution does this appear to follow?\n",
    "    \n",
    "  * Hint: df['col'].sample(n=50) will draw 50 random observations from df['col'].\n"
   ]
  },
  {
   "cell_type": "code",
<<<<<<< HEAD
   "execution_count": null,
   "metadata": {},
   "outputs": [],
=======
   "execution_count": 18,
   "metadata": {},
   "outputs": [
    {
     "data": {
      "image/png": "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\n",
      "text/plain": [
       "<Figure size 432x288 with 1 Axes>"
      ]
     },
     "metadata": {
      "needs_background": "light"
     },
     "output_type": "display_data"
    }
   ],
>>>>>>> ca29f1ac46db18d37254ddff612f65e1d3030434
   "source": [
    "means = [mean((teams_95[\"SB\"]/teams_95[\"G\"]).sample(n=50)) for _ in range(1000)]\n",
    "\n",
    "plt.hist(means)\n",
    "plt.xlabel(\"mean stolen bases\")\n",
    "plt.ylabel(\"frequency in samples\")\n",
    "plt.show()"
   ]
  },
  {
   "cell_type": "code",
   "execution_count": null,
   "metadata": {},
   "outputs": [],
   "source": [
    "means = [mean(teams_95[\"W\"].sample(n=50)) for _ in range(1000)]\n",
    "\n",
    "plt.hist(means)\n",
    "plt.xlabel(\"mean wins\")\n",
    "plt.ylabel(\"frequency in samples\")\n",
    "plt.show()"
   ]
  },
  {
   "cell_type": "markdown",
   "metadata": {},
   "source": [
    "These two distributions are large samples of sampling means, therefore following a normal distribution and illustrating the central limit theorem."
   ]
  },
  {
   "cell_type": "code",
   "execution_count": null,
   "metadata": {},
   "outputs": [],
   "source": []
  }
 ],
 "metadata": {
  "kernelspec": {
   "display_name": "Python 3",
   "language": "python",
   "name": "python3"
  },
  "language_info": {
   "codemirror_mode": {
    "name": "ipython",
    "version": 3
   },
   "file_extension": ".py",
   "mimetype": "text/x-python",
   "name": "python",
   "nbconvert_exporter": "python",
   "pygments_lexer": "ipython3",
   "version": "3.7.6"
  }
 },
 "nbformat": 4,
 "nbformat_minor": 4
}
